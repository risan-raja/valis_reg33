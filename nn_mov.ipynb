{
 "cells": [
  {
   "cell_type": "code",
   "execution_count": 15,
   "metadata": {},
   "outputs": [],
   "source": [
    "from moviepy.video.io.ImageSequenceClip import ImageSequenceClip\n",
    "import os\n",
    "from tqdm import tqdm\n",
    "imgs = sorted(os.listdir('/storage/valis_reg/rf_trained_pred/retinex'))\n",
    "imgs = ['/storage/valis_reg/rf_trained_pred/retinex/'+img for img in imgs]\n"
   ]
  },
  {
   "cell_type": "code",
   "execution_count": 26,
   "metadata": {},
   "outputs": [],
   "source": [
    "clip = ImageSequenceClip(imgs, durations=[60/2627]*2627)"
   ]
  },
  {
   "cell_type": "code",
   "execution_count": 13,
   "metadata": {},
   "outputs": [],
   "source": [
    "import os\n",
    "import cv2\n",
    "from tqdm import tqdm\n",
    "import numpy as np\n",
    "\n",
    "\n",
    "original_frames = os.listdir('/storage/valis_reg/rf_trained_pred/original')\n",
    "retinex_frames = os.listdir('/storage/valis_reg/rf_trained_pred/retinex')\n",
    "final_masks = os.listdir('/storage/valis_reg/rf_trained_pred/processed_mask')\n",
    "raw_masks = os.listdir('/storage/valis_reg/rf_trained_pred/raw_mask')\n",
    "retinex_frames = sorted(retinex_frames, key=lambda x: int(x.split('_')[0]))\n",
    "original_frames = sorted(original_frames, key=lambda x: int(x.split('_')[0]))\n",
    "final_masks = sorted(final_masks, key=lambda x: int(x.split('_')[0]))\n",
    "raw_masks = sorted(raw_masks, key=lambda x: int(x.split('_')[0]))\n",
    "\n",
    "def pad_img_to_ref(img, ref):\n",
    "    h, w = ref.shape[:2]\n",
    "    img_h, img_w = img.shape[:2]\n",
    "    pad_h = h - img_h\n",
    "    pad_w = w - img_w\n",
    "    top = pad_h//2\n",
    "    bottom = pad_h - top\n",
    "    left = pad_w//2\n",
    "    right = pad_w - left\n",
    "    return cv2.copyMakeBorder(img, top, bottom, left, right, cv2.BORDER_CONSTANT, value=[255, 255, 255])\n",
    "\n",
    "\n",
    "def extract_img_from_ref_mask(img, ref_mask_v):\n",
    "    blank= np.ones_like(img)*255\n",
    "    # blank[ref_mask==1] = img[ref_mask==1]\n",
    "    for i in range(3):\n",
    "        blank[:,:,i][ref_mask_v[:,:,i] ==1 ] = img[:,:,i][ref_mask_v[:,:,i]==1]\n",
    "    return blank\n",
    "\n",
    "\n",
    "def prepare_stacked_mask(ref_mask):\n",
    "    blank_ref = np.zeros((ref_mask.shape[0], ref_mask.shape[1], 3))\n",
    "    blank_ref[:,:,0] = ref_mask\n",
    "    blank_ref[:,:,1] = ref_mask\n",
    "    blank_ref[:,:,2] = ref_mask\n",
    "    # ref_mask_v = np.stack([ref_mask, ref_mask, ref_mask],axis=-1)\n",
    "    return blank_ref\n",
    "\n",
    "ref_frame = '/storage/valis_reg/rf_trained_pred/original/1606_original.jpg'\n",
    "ref_mask = '/storage/valis_reg/rf_trained_pred/processed_mask/1606_mask.jpg'\n",
    "ref_raw_mask = '/storage/valis_reg/rf_trained_pred/raw_mask/1606_raw_mask.jpg'\n",
    "ref_img = cv2.imread(ref_frame)\n",
    "ref_mask = cv2.imread(ref_mask, cv2.IMREAD_GRAYSCALE)\n",
    "ref_raw_mask = cv2.imread(ref_raw_mask, cv2.IMREAD_GRAYSCALE)\n",
    "ref_mask[ref_mask>0] = 1\n",
    "ref_raw_mask[ref_raw_mask>0] = 1\n",
    "ref_img = pad_img_to_ref(ref_img, ref_img)\n",
    "ref_mask_v = prepare_stacked_mask(ref_mask)\n",
    "ref_frame = extract_img_from_ref_mask(ref_img, ref_mask_v)"
   ]
  },
  {
   "cell_type": "code",
   "execution_count": 16,
   "metadata": {},
   "outputs": [
    {
     "name": "stderr",
     "output_type": "stream",
     "text": [
      "100%|██████████| 2627/2627 [00:30<00:00, 86.59it/s] \n"
     ]
    }
   ],
   "source": [
    "imgs = [pad_img_to_ref(cv2.imread(img_path), ref_frame) for img_path in tqdm(imgs)]"
   ]
  },
  {
   "cell_type": "code",
   "execution_count": 28,
   "metadata": {},
   "outputs": [],
   "source": [
    "for idx, img in enumerate(imgs):\n",
    "    cv2.imwrite(f'padded_retinex/{idx}_retinex.jpg', img)"
   ]
  }
 ],
 "metadata": {
  "kernelspec": {
   "display_name": "Python 3",
   "language": "python",
   "name": "python3"
  },
  "language_info": {
   "codemirror_mode": {
    "name": "ipython",
    "version": 3
   },
   "file_extension": ".py",
   "mimetype": "text/x-python",
   "name": "python",
   "nbconvert_exporter": "python",
   "pygments_lexer": "ipython3",
   "version": "3.10.14"
  }
 },
 "nbformat": 4,
 "nbformat_minor": 2
}
