{
 "cells": [
  {
   "cell_type": "code",
   "execution_count": 1,
   "id": "d5511d59-0d3c-4420-bf64-cd5253f1c69b",
   "metadata": {},
   "outputs": [],
   "source": [
    "from skimage.io import imread\n",
    "import glob\n",
    "import os\n",
    "import numpy as np"
   ]
  },
  {
   "cell_type": "code",
   "execution_count": 2,
   "id": "8a194a49-d0db-4e89-86af-4d76b73336c5",
   "metadata": {},
   "outputs": [],
   "source": [
    "biosampleid='141'"
   ]
  },
  {
   "cell_type": "code",
   "execution_count": 3,
   "id": "c4f898b5-003b-4e03-89a3-18c9fe89cb4b",
   "metadata": {},
   "outputs": [],
   "source": [
    "datadir='/data/keerthi/brainpubdata/%s/BFIW_processed/' % biosampleid"
   ]
  },
  {
   "cell_type": "code",
   "execution_count": 4,
   "id": "7ccf6855-e8f9-41fa-a1f3-ddbc6d518919",
   "metadata": {},
   "outputs": [],
   "source": [
    "secmin = {\n",
    "    '222': 10,\n",
    "    '141': 10,\n",
    "    '142': 10,\n",
    "    '213': 38,\n",
    "    '244': 10,\n",
    "}\n",
    "    \n",
    "secmax = {\n",
    "    '222': 1730,\n",
    "    '141': 1290,\n",
    "    '142': 2100,\n",
    "    '244': 2640,\n",
    "    '213': 2610,\n",
    "}"
   ]
  },
  {
   "cell_type": "code",
   "execution_count": 5,
   "id": "ade84926-3870-405d-816e-1dcf5a91609e",
   "metadata": {},
   "outputs": [],
   "source": [
    "bfidict={}\n",
    "for fn in glob.glob(datadir+'/*.jpg'):\n",
    "    bn = os.path.basename(fn)\n",
    "    secno = int(bn.split('_')[3])\n",
    "    if secno >= secmin[biosampleid] and secno <= secmax[biosampleid]:\n",
    "        bfidict[int(secno)]=fn"
   ]
  },
  {
   "cell_type": "code",
   "execution_count": 6,
   "id": "aa31dcdf-8239-4e66-ab06-621cf76bb3f0",
   "metadata": {},
   "outputs": [
    {
     "data": {
      "text/plain": [
       "1290"
      ]
     },
     "execution_count": 6,
     "metadata": {},
     "output_type": "execute_result"
    }
   ],
   "source": [
    "nsl = max(bfidict)\n",
    "nsl"
   ]
  },
  {
   "cell_type": "code",
   "execution_count": 7,
   "id": "2227df83-de8d-4c43-b856-d11faec58d2a",
   "metadata": {},
   "outputs": [],
   "source": [
    "imlast = imread(bfidict[nsl])"
   ]
  },
  {
   "cell_type": "code",
   "execution_count": 8,
   "id": "4307e6b2-8723-4f85-a021-b6087ff55905",
   "metadata": {},
   "outputs": [
    {
     "data": {
      "text/plain": [
       "(300, 475, 3)"
      ]
     },
     "execution_count": 8,
     "metadata": {},
     "output_type": "execute_result"
    }
   ],
   "source": [
    "imlast.shape"
   ]
  },
  {
   "cell_type": "code",
   "execution_count": 9,
   "id": "343ce127-49f7-4019-a7d6-e0a9c6c9eb7a",
   "metadata": {},
   "outputs": [],
   "source": [
    "arr = np.ones([nsl]+list(imlast.shape),imlast.dtype)*255"
   ]
  },
  {
   "cell_type": "code",
   "execution_count": 10,
   "id": "e1d18f85-b39c-40ac-bfd1-066120c569e9",
   "metadata": {},
   "outputs": [
    {
     "data": {
      "text/plain": [
       "(1290, 300, 475, 3)"
      ]
     },
     "execution_count": 10,
     "metadata": {},
     "output_type": "execute_result"
    }
   ],
   "source": [
    "arr.shape"
   ]
  },
  {
   "cell_type": "code",
   "execution_count": 11,
   "id": "9a6e3ffb-1da3-427c-8139-ed7ba51c12de",
   "metadata": {},
   "outputs": [],
   "source": [
    "for slno in range(nsl):\n",
    "    secno = slno+1\n",
    "    if secno in bfidict:\n",
    "        secarr = imread(bfidict[secno])\n",
    "        arr[slno,...]=secarr"
   ]
  },
  {
   "cell_type": "code",
   "execution_count": 12,
   "id": "ab8f3773-4fc2-436e-95e7-0e032552bd94",
   "metadata": {},
   "outputs": [],
   "source": [
    "import SimpleITK as sitk"
   ]
  },
  {
   "cell_type": "code",
   "execution_count": 13,
   "id": "55dabfe8-c492-4880-9c76-0486492b0608",
   "metadata": {},
   "outputs": [],
   "source": [
    "im = sitk.GetImageFromArray(arr)"
   ]
  },
  {
   "cell_type": "code",
   "execution_count": 14,
   "id": "9312092c-dee6-4b35-be8b-d386497d58b3",
   "metadata": {},
   "outputs": [],
   "source": [
    "im.SetSpacing([1.5,1.5,0.2])"
   ]
  },
  {
   "cell_type": "code",
   "execution_count": 15,
   "id": "d571afb3-be58-48d3-b8e8-d12e485cc16c",
   "metadata": {},
   "outputs": [],
   "source": [
    "drnmat=np.array([ [0,0,1], [-1,0,0], [0,-1,0] ]) # psr \n",
    "\n",
    "# sagittal LR\n",
    "# rotmat = np.array([[-1,0,0],[0,-1,0],[0,0,1]]) # psr to asl\n",
    "\n",
    "# sagittal RL\n",
    "rotmat = np.eye(3) \n",
    "\n",
    "# coronal AP\n",
    "if biosampleid=='213':\n",
    "    rotmat = np.array([[0,-1,0],[1,0,0],[0,0,1]]) # psr to rsa\n",
    "\n",
    "drn = np.dot(rotmat,drnmat).ravel()"
   ]
  },
  {
   "cell_type": "code",
   "execution_count": 16,
   "id": "53912c58-b727-4eaa-b0d7-d364f6b54789",
   "metadata": {},
   "outputs": [],
   "source": [
    "im.SetDirection(drn.tolist())"
   ]
  },
  {
   "cell_type": "code",
   "execution_count": 17,
   "id": "b58b4a77-ab37-46c2-8885-bbf68b3c9e30",
   "metadata": {},
   "outputs": [],
   "source": [
    "os.makedirs('/data/keerthi/brainpubdata/%s/stack' % biosampleid,exist_ok=True)"
   ]
  },
  {
   "cell_type": "code",
   "execution_count": 18,
   "id": "5d045c3a-ab78-4f6f-8266-55ad5609b098",
   "metadata": {},
   "outputs": [],
   "source": [
    "sitk.WriteImage(im,'/data/keerthi/brainpubdata/%s/stack/%s_bfi_stack.mhd' % (biosampleid, biosampleid))"
   ]
  },
  {
   "cell_type": "code",
   "execution_count": null,
   "id": "8e4f534b-3389-4fbf-a8ef-98df84c41aad",
   "metadata": {},
   "outputs": [],
   "source": []
  }
 ],
 "metadata": {
  "kernelspec": {
   "display_name": "Python 3 (ipykernel)",
   "language": "python",
   "name": "python3"
  },
  "language_info": {
   "codemirror_mode": {
    "name": "ipython",
    "version": 3
   },
   "file_extension": ".py",
   "mimetype": "text/x-python",
   "name": "python",
   "nbconvert_exporter": "python",
   "pygments_lexer": "ipython3",
   "version": "3.8.10"
  }
 },
 "nbformat": 4,
 "nbformat_minor": 5
}
