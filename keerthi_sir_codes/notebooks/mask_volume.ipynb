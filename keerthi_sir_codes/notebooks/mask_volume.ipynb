{
 "cells": [
  {
   "cell_type": "code",
   "execution_count": 1,
   "id": "b7e3d367-8fe3-4a5f-ab08-ca5775f48c4c",
   "metadata": {},
   "outputs": [],
   "source": [
    "import SimpleITK as sitk"
   ]
  },
  {
   "cell_type": "code",
   "execution_count": 2,
   "id": "41039a19-8c15-4ea1-be61-fee43e0f1f2c",
   "metadata": {},
   "outputs": [],
   "source": [
    "datadir='/data/keerthi/brainpubdata/'"
   ]
  },
  {
   "cell_type": "code",
   "execution_count": 3,
   "id": "0cc831a8-9fd9-402d-afa8-c3a128794a1f",
   "metadata": {},
   "outputs": [],
   "source": [
    "brainname={'141':'FB40', '142':'FB34', '213':'FB62', '222':'FB74','244':'FB85'}"
   ]
  },
  {
   "cell_type": "code",
   "execution_count": 4,
   "id": "850c3605-10df-443b-b348-16dd562664cd",
   "metadata": {},
   "outputs": [],
   "source": [
    "biosampleid='141'"
   ]
  },
  {
   "cell_type": "code",
   "execution_count": 5,
   "id": "d07088b3-87db-4df6-84f4-f98bdd80ce69",
   "metadata": {},
   "outputs": [],
   "source": [
    "msk = sitk.ReadImage(datadir+'/'+biosampleid+'/'+brainname[biosampleid]+'_Segmentation_blacklabel-label.nrrd')"
   ]
  },
  {
   "cell_type": "code",
   "execution_count": 42,
   "id": "f6447af7-a8f0-4d6a-8983-c4e610ca8eb5",
   "metadata": {},
   "outputs": [],
   "source": [
    "mskarr = sitk.GetArrayFromImage(msk)>0"
   ]
  },
  {
   "cell_type": "code",
   "execution_count": 43,
   "id": "93010ec3-bf32-4c2b-b018-7ebfcb4402c7",
   "metadata": {},
   "outputs": [
    {
     "data": {
      "text/plain": [
       "(487, 500, 500)"
      ]
     },
     "execution_count": 43,
     "metadata": {},
     "output_type": "execute_result"
    }
   ],
   "source": [
    "mskarr.shape"
   ]
  },
  {
   "cell_type": "code",
   "execution_count": 44,
   "id": "19a07d2d-96e0-463f-9685-221884e9a5cc",
   "metadata": {},
   "outputs": [
    {
     "data": {
      "text/plain": [
       "(0.12800000607967377, 0.12800000607967377, 0.05999999865889548)"
      ]
     },
     "execution_count": 44,
     "metadata": {},
     "output_type": "execute_result"
    }
   ],
   "source": [
    "msk.GetSpacing()"
   ]
  },
  {
   "cell_type": "code",
   "execution_count": 26,
   "id": "b2a79b63-d446-4cca-b45a-54a4cd36fe00",
   "metadata": {},
   "outputs": [],
   "source": [
    "# imgtype='rgb' \n",
    "imgtype='gray' \n",
    "# mpp='64' \n",
    "mpp='128' #"
   ]
  },
  {
   "cell_type": "code",
   "execution_count": 27,
   "id": "5157de25-4624-481f-8e8f-91a19cbe2283",
   "metadata": {},
   "outputs": [],
   "source": [
    "imgray = sitk.ReadImage(datadir+'/'+biosampleid+'/'+brainname[biosampleid]+f'_nisl_{mpp}mpp_{imgtype}.nii.gz')"
   ]
  },
  {
   "cell_type": "code",
   "execution_count": 28,
   "id": "1aac4fc0-412c-450e-b249-946b174e4a30",
   "metadata": {},
   "outputs": [
    {
     "data": {
      "text/plain": [
       "(1000, 1000, 487)"
      ]
     },
     "execution_count": 28,
     "metadata": {},
     "output_type": "execute_result"
    }
   ],
   "source": [
    "imgray.GetSize()"
   ]
  },
  {
   "cell_type": "code",
   "execution_count": 29,
   "id": "f9c57d20-2d1b-47bf-8ad9-6bbf3630c9b2",
   "metadata": {},
   "outputs": [],
   "source": [
    "imarr = sitk.GetArrayFromImage(imgray)"
   ]
  },
  {
   "cell_type": "code",
   "execution_count": 30,
   "id": "9bb859c4-fc8d-4aa2-89a0-d12a27bb5288",
   "metadata": {},
   "outputs": [
    {
     "data": {
      "text/plain": [
       "dtype('uint8')"
      ]
     },
     "execution_count": 30,
     "metadata": {},
     "output_type": "execute_result"
    }
   ],
   "source": [
    "imarr.dtype"
   ]
  },
  {
   "cell_type": "code",
   "execution_count": 31,
   "id": "93d22f5e-d48b-4fc7-9ca1-571f577d1da5",
   "metadata": {},
   "outputs": [
    {
     "data": {
      "text/plain": [
       "(487, 1000, 1000, 3)"
      ]
     },
     "execution_count": 31,
     "metadata": {},
     "output_type": "execute_result"
    }
   ],
   "source": [
    "imarr.shape"
   ]
  },
  {
   "cell_type": "code",
   "execution_count": 34,
   "id": "b075ceae-968e-4ed9-a6e4-2b12322e5517",
   "metadata": {},
   "outputs": [],
   "source": [
    "from scipy.ndimage import zoom"
   ]
  },
  {
   "cell_type": "code",
   "execution_count": 45,
   "id": "809487a9-1446-4701-afd8-4ec5989cf35b",
   "metadata": {},
   "outputs": [],
   "source": [
    "if mpp=='64':\n",
    "    mskarr = zoom(mskarr,[1,2,2],order=0,mode='constant', cval=0)"
   ]
  },
  {
   "cell_type": "code",
   "execution_count": 46,
   "id": "ddfeaa3e-1029-4082-90b2-f774c17204e3",
   "metadata": {},
   "outputs": [
    {
     "data": {
      "text/plain": [
       "(487, 1000, 1000)"
      ]
     },
     "execution_count": 46,
     "metadata": {},
     "output_type": "execute_result"
    }
   ],
   "source": [
    "mskarr.shape"
   ]
  },
  {
   "cell_type": "code",
   "execution_count": 47,
   "id": "98a9a03c-ca16-4427-9c35-16c26922814f",
   "metadata": {},
   "outputs": [],
   "source": [
    "if imgtype=='gray':\n",
    "    imarr[mskarr]=0\n",
    "else:\n",
    "    imarr[mskarr]=255"
   ]
  },
  {
   "cell_type": "code",
   "execution_count": 48,
   "id": "391e1e45-d7a6-496f-9416-8be7c1d3ac4d",
   "metadata": {},
   "outputs": [],
   "source": [
    "img = sitk.GetImageFromArray(imarr)\n",
    "img.CopyInformation(imgray)"
   ]
  },
  {
   "cell_type": "code",
   "execution_count": 49,
   "id": "b66c4777-aa08-4366-b87a-754130f01c3b",
   "metadata": {},
   "outputs": [],
   "source": [
    "sitk.WriteImage(img, datadir+'/'+biosampleid+'/'+brainname[biosampleid]+f'_nisl_{mpp}mpp_{imgtype}_masked.nii.gz')"
   ]
  },
  {
   "cell_type": "code",
   "execution_count": null,
   "id": "cdaeec98-83e1-4b34-b79c-354ad39417f7",
   "metadata": {},
   "outputs": [],
   "source": []
  }
 ],
 "metadata": {
  "kernelspec": {
   "display_name": "Python 3 (ipykernel)",
   "language": "python",
   "name": "python3"
  },
  "language_info": {
   "codemirror_mode": {
    "name": "ipython",
    "version": 3
   },
   "file_extension": ".py",
   "mimetype": "text/x-python",
   "name": "python",
   "nbconvert_exporter": "python",
   "pygments_lexer": "ipython3",
   "version": "3.8.10"
  }
 },
 "nbformat": 4,
 "nbformat_minor": 5
}
