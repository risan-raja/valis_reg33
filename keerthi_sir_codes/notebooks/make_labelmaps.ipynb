{
 "cells": [
  {
   "cell_type": "code",
   "execution_count": 1,
   "id": "681699a4-ad2b-499d-b7a1-3b585437e457",
   "metadata": {},
   "outputs": [],
   "source": [
    "from api_functions import APIfunctions, Nomenclature\n",
    "import os\n",
    "import json\n",
    "import numpy as np\n",
    "from tqdm import tqdm"
   ]
  },
  {
   "cell_type": "code",
   "execution_count": 2,
   "id": "d325c0b5-8a07-40ef-aa67-8b2d17a035c3",
   "metadata": {},
   "outputs": [],
   "source": [
    "from matplotlib import pyplot as plt"
   ]
  },
  {
   "cell_type": "code",
   "execution_count": 3,
   "id": "6bc7f5a9-6154-45fe-96d9-b7656b2b2dd4",
   "metadata": {},
   "outputs": [],
   "source": [
    "# !pip install shapely"
   ]
  },
  {
   "cell_type": "code",
   "execution_count": 4,
   "id": "2d8a753e-8add-4f05-91a0-7f9a67aab931",
   "metadata": {},
   "outputs": [],
   "source": [
    "brainid=3"
   ]
  },
  {
   "cell_type": "code",
   "execution_count": 5,
   "id": "87091abc-7a66-4b39-8898-eaa32c9fab3f",
   "metadata": {},
   "outputs": [],
   "source": [
    "biosampleids=['141','222','142','213','244']\n",
    "brainname={'141': 'FB40','222':'FB74','142':'FB34','213':'FB62','244':'FB85'}"
   ]
  },
  {
   "cell_type": "code",
   "execution_count": 6,
   "id": "82eff797-8ddd-47d0-9e38-f12e97fe7139",
   "metadata": {},
   "outputs": [],
   "source": [
    "biosampleid=biosampleids[brainid]"
   ]
  },
  {
   "cell_type": "code",
   "execution_count": 7,
   "id": "0346b418-50ce-4736-9cac-75be488af3b4",
   "metadata": {},
   "outputs": [
    {
     "name": "stdout",
     "output_type": "stream",
     "text": [
      "/data/keerthi/brainpubdata/141_new.csv\n"
     ]
    }
   ],
   "source": [
    "ls /data/keerthi/brainpubdata/141_new.csv"
   ]
  },
  {
   "cell_type": "code",
   "execution_count": 8,
   "id": "1ffcbebf-560b-43c1-9403-5460eae8cafc",
   "metadata": {},
   "outputs": [],
   "source": [
    "trsfiles = {\n",
    "    '213':'/data/keerthi/brainpubdata/213_new_correction.csv',\n",
    "    '142':'/data/keerthi/brainpubdata/142_new.csv',\n",
    "    '244':'/data/keerthi/brainpubdata/244_new_b.csv',\n",
    "    '222':'/data/keerthi/brainpubdata/222_new.csv',\n",
    "    '141':'/data/keerthi/brainpubdata/141_new.csv',\n",
    "}"
   ]
  },
  {
   "cell_type": "code",
   "execution_count": 9,
   "id": "20f98e13-505a-4569-86fa-cea65ebc813c",
   "metadata": {},
   "outputs": [],
   "source": [
    "localdir='/data/keerthi/brainpubdata/apidir'"
   ]
  },
  {
   "cell_type": "code",
   "execution_count": 10,
   "id": "37635bdf-145f-4b46-9144-938a86c024b0",
   "metadata": {},
   "outputs": [],
   "source": [
    "os.makedirs(localdir,exist_ok=True)"
   ]
  },
  {
   "cell_type": "code",
   "execution_count": 11,
   "id": "85d429de-84c5-4e30-92ab-c40ed0cd12ee",
   "metadata": {},
   "outputs": [],
   "source": [
    "apiobj = APIfunctions(biosampleid,trsfiles[biosampleid],localdir=localdir)"
   ]
  },
  {
   "cell_type": "code",
   "execution_count": 12,
   "id": "1b1e3c1a-39de-4968-901b-5c5d72852805",
   "metadata": {},
   "outputs": [],
   "source": [
    "sectionlist=json.load(open('/data/keerthi/brainpubdata/seclist_%d.json' % brainid))"
   ]
  },
  {
   "cell_type": "code",
   "execution_count": 13,
   "id": "e8bbd4fc-5326-415b-8aaa-d35f6c8f0a20",
   "metadata": {},
   "outputs": [
    {
     "data": {
      "text/plain": [
       "'2653'"
      ]
     },
     "execution_count": 13,
     "metadata": {},
     "output_type": "execute_result"
    }
   ],
   "source": [
    "max(sectionlist,key= lambda x:int(x))"
   ]
  },
  {
   "cell_type": "code",
   "execution_count": 14,
   "id": "aa51c739-1b9e-40a7-b217-90104f96c01f",
   "metadata": {},
   "outputs": [],
   "source": [
    "annotatedsections=[int(x) for x in sectionlist if sectionlist[x]]"
   ]
  },
  {
   "cell_type": "code",
   "execution_count": 15,
   "id": "ecd2a993-af19-4a2d-b9f5-28ae0bad9a8c",
   "metadata": {
    "scrolled": true
   },
   "outputs": [
    {
     "data": {
      "text/plain": [
       "[28,\n",
       " 34,\n",
       " 43,\n",
       " 70,\n",
       " 73,\n",
       " 82,\n",
       " 91,\n",
       " 94,\n",
       " 97,\n",
       " 112,\n",
       " 148,\n",
       " 151,\n",
       " 160,\n",
       " 163,\n",
       " 175,\n",
       " 178,\n",
       " 181,\n",
       " 184,\n",
       " 223,\n",
       " 229,\n",
       " 232,\n",
       " 238,\n",
       " 247,\n",
       " 253,\n",
       " 256,\n",
       " 268,\n",
       " 280,\n",
       " 289,\n",
       " 310,\n",
       " 319,\n",
       " 322,\n",
       " 331,\n",
       " 343,\n",
       " 346,\n",
       " 358,\n",
       " 361,\n",
       " 364,\n",
       " 376,\n",
       " 385,\n",
       " 388,\n",
       " 403,\n",
       " 412,\n",
       " 418,\n",
       " 436,\n",
       " 445,\n",
       " 463,\n",
       " 472,\n",
       " 478,\n",
       " 481,\n",
       " 502,\n",
       " 511,\n",
       " 541,\n",
       " 544,\n",
       " 550,\n",
       " 556,\n",
       " 577,\n",
       " 580,\n",
       " 586,\n",
       " 589,\n",
       " 592,\n",
       " 601,\n",
       " 616,\n",
       " 628,\n",
       " 634,\n",
       " 640,\n",
       " 646,\n",
       " 664,\n",
       " 670,\n",
       " 679,\n",
       " 682,\n",
       " 685,\n",
       " 688,\n",
       " 694,\n",
       " 703,\n",
       " 709,\n",
       " 715,\n",
       " 721,\n",
       " 727,\n",
       " 730,\n",
       " 739,\n",
       " 742,\n",
       " 766,\n",
       " 769,\n",
       " 787,\n",
       " 811,\n",
       " 829,\n",
       " 841,\n",
       " 844,\n",
       " 850,\n",
       " 859,\n",
       " 862,\n",
       " 886,\n",
       " 892,\n",
       " 901,\n",
       " 904,\n",
       " 910,\n",
       " 925,\n",
       " 934,\n",
       " 946,\n",
       " 949,\n",
       " 952,\n",
       " 958,\n",
       " 970,\n",
       " 985,\n",
       " 1039,\n",
       " 1045,\n",
       " 1048,\n",
       " 1054,\n",
       " 1057,\n",
       " 1060,\n",
       " 1063,\n",
       " 1066,\n",
       " 1072,\n",
       " 1075,\n",
       " 1078,\n",
       " 1081,\n",
       " 1084,\n",
       " 1090,\n",
       " 1093,\n",
       " 1102,\n",
       " 1123,\n",
       " 1135,\n",
       " 1141,\n",
       " 1147,\n",
       " 1156,\n",
       " 1165,\n",
       " 1168,\n",
       " 1174,\n",
       " 1183,\n",
       " 1186,\n",
       " 1189,\n",
       " 1192,\n",
       " 1195,\n",
       " 1201,\n",
       " 1204,\n",
       " 1210,\n",
       " 1213,\n",
       " 1216,\n",
       " 1219,\n",
       " 1225,\n",
       " 1228,\n",
       " 1231,\n",
       " 1240,\n",
       " 1258,\n",
       " 1261,\n",
       " 1291,\n",
       " 1312,\n",
       " 1333,\n",
       " 1336,\n",
       " 1342,\n",
       " 1345,\n",
       " 1351,\n",
       " 1360,\n",
       " 1366,\n",
       " 1369,\n",
       " 1378,\n",
       " 1381,\n",
       " 1387,\n",
       " 1420,\n",
       " 1453,\n",
       " 1465,\n",
       " 1468,\n",
       " 1492,\n",
       " 1519,\n",
       " 1534,\n",
       " 1537,\n",
       " 1543,\n",
       " 1546,\n",
       " 1573,\n",
       " 1588,\n",
       " 1594,\n",
       " 1597,\n",
       " 1606,\n",
       " 1618,\n",
       " 1624,\n",
       " 1636,\n",
       " 1639,\n",
       " 1651,\n",
       " 1663,\n",
       " 1675,\n",
       " 1687,\n",
       " 1693,\n",
       " 1702,\n",
       " 1705,\n",
       " 1708,\n",
       " 1729,\n",
       " 1735,\n",
       " 1741,\n",
       " 1750,\n",
       " 1768,\n",
       " 1786,\n",
       " 1819,\n",
       " 1825,\n",
       " 1831,\n",
       " 1837,\n",
       " 1849,\n",
       " 1852,\n",
       " 1864,\n",
       " 1873,\n",
       " 1882,\n",
       " 1903,\n",
       " 1915,\n",
       " 1927,\n",
       " 1930,\n",
       " 1951,\n",
       " 1960,\n",
       " 1999,\n",
       " 2005,\n",
       " 2017,\n",
       " 2041,\n",
       " 2065,\n",
       " 2083,\n",
       " 2095,\n",
       " 2110,\n",
       " 2122,\n",
       " 2140,\n",
       " 2158,\n",
       " 2167,\n",
       " 2188,\n",
       " 2200,\n",
       " 2230,\n",
       " 2239,\n",
       " 2272,\n",
       " 2296,\n",
       " 2305,\n",
       " 2314,\n",
       " 2320,\n",
       " 2326,\n",
       " 2332,\n",
       " 2341,\n",
       " 2353,\n",
       " 2362,\n",
       " 2374,\n",
       " 2380,\n",
       " 2389,\n",
       " 2392,\n",
       " 2401,\n",
       " 2419,\n",
       " 2431,\n",
       " 2443,\n",
       " 2458]"
      ]
     },
     "execution_count": 15,
     "metadata": {},
     "output_type": "execute_result"
    }
   ],
   "source": [
    "annotatedsections"
   ]
  },
  {
   "cell_type": "code",
   "execution_count": 16,
   "id": "fb69db97-f3ee-4524-9acb-f02cb666b9f7",
   "metadata": {},
   "outputs": [
    {
     "data": {
      "text/plain": [
       "[<matplotlib.lines.Line2D at 0x7fbfe0a8ad60>]"
      ]
     },
     "execution_count": 16,
     "metadata": {},
     "output_type": "execute_result"
    },
    {
     "data": {
      "image/png": "[encoded data removed]",
      "text/plain": [
       "<Figure size 640x480 with 1 Axes>"
      ]
     },
     "metadata": {},
     "output_type": "display_data"
    }
   ],
   "source": [
    "plt.plot(annotatedsections[:-1],np.diff(annotatedsections),'b-')\n",
    "plt.plot(annotatedsections[:-1],np.diff(annotatedsections),'rx')"
   ]
  },
  {
   "cell_type": "code",
   "execution_count": 17,
   "id": "a6270a81-96bf-45b6-9b67-705a5e27bc01",
   "metadata": {},
   "outputs": [
    {
     "data": {
      "text/plain": [
       "(array([67., 50., 41., 30.,  9., 12., 10.,  7.,  3.,  3.,  4.,  1.,  2.,\n",
       "         0.,  0.,  0.,  0.,  1.,  0.]),\n",
       " array([ 3.,  6.,  9., 12., 15., 18., 21., 24., 27., 30., 33., 36., 39.,\n",
       "        42., 45., 48., 51., 54., 57., 60.]),\n",
       " <BarContainer object of 19 artists>)"
      ]
     },
     "execution_count": 17,
     "metadata": {},
     "output_type": "execute_result"
    },
    {
     "data": {
      "image/png": "[encoded data removed]",
      "text/plain": [
       "<Figure size 640x480 with 1 Axes>"
      ]
     },
     "metadata": {},
     "output_type": "display_data"
    }
   ],
   "source": [
    "plt.hist(np.diff(annotatedsections),bins=range(3,63,3))"
   ]
  },
  {
   "cell_type": "code",
   "execution_count": 18,
   "id": "d2f0ea8c-42c8-4b48-847d-e930ae631757",
   "metadata": {},
   "outputs": [],
   "source": [
    "secno = annotatedsections[0]"
   ]
  },
  {
   "cell_type": "code",
   "execution_count": 20,
   "id": "fd68b574-590a-4121-bc90-10f67e91672e",
   "metadata": {},
   "outputs": [],
   "source": [
    "msk_i=apiobj.get_mask_stack(str(secno),mpp=16)"
   ]
  },
  {
   "cell_type": "code",
   "execution_count": 21,
   "id": "e8ebf8d5-3d55-4c85-a4b6-fe4ece489ca3",
   "metadata": {},
   "outputs": [
    {
     "data": {
      "text/plain": [
       "array([ 0, 13, 14, 15], dtype=uint16)"
      ]
     },
     "execution_count": 21,
     "metadata": {},
     "output_type": "execute_result"
    }
   ],
   "source": [
    "np.unique(msk_i)"
   ]
  },
  {
   "cell_type": "code",
   "execution_count": 22,
   "id": "e5345944-8cbc-400b-b64e-b05ea0afa170",
   "metadata": {},
   "outputs": [
    {
     "data": {
      "text/plain": [
       "<matplotlib.image.AxesImage at 0x7f7beae3f610>"
      ]
     },
     "execution_count": 22,
     "metadata": {},
     "output_type": "execute_result"
    },
    {
     "data": {
      "image/png": "[encoded data removed]",
      "text/plain": [
       "<Figure size 640x480 with 1 Axes>"
      ]
     },
     "metadata": {},
     "output_type": "display_data"
    }
   ],
   "source": [
    "plt.imshow(msk_i==14)"
   ]
  },
  {
   "cell_type": "code",
   "execution_count": 23,
   "id": "3aa4132f-095e-42ea-9d3f-0aad06843f14",
   "metadata": {},
   "outputs": [],
   "source": [
    "nomobj = Nomenclature()"
   ]
  },
  {
   "cell_type": "code",
   "execution_count": 24,
   "id": "bdaad95f-a239-4a2b-ae54-8ac7e8e1465b",
   "metadata": {},
   "outputs": [
    {
     "data": {
      "text/plain": [
       "[(13, ('SGL-FCTx', 'Subpial granular layer, frontal cortex', 5, 12)),\n",
       " (14, ('MZ-FCTx', 'Marginal zone, frontal cortex', 5, 12)),\n",
       " (15, ('CP-FCTx', 'Cortical plate, frontal cortex', 5, 12))]"
      ]
     },
     "execution_count": 24,
     "metadata": {},
     "output_type": "execute_result"
    }
   ],
   "source": [
    "[(x,nomobj.onto_lookup[x]) for x in np.unique(msk_i) if x>0]"
   ]
  },
  {
   "cell_type": "code",
   "execution_count": 25,
   "id": "bad69ad6-03bb-4a4c-b104-d930c6863811",
   "metadata": {},
   "outputs": [],
   "source": [
    "maxsec = max(annotatedsections)\n",
    "nsl = round(int(maxsec)/3+0.5)"
   ]
  },
  {
   "cell_type": "code",
   "execution_count": 26,
   "id": "4d065f3e-27aa-49ec-a80e-df55f51a5785",
   "metadata": {},
   "outputs": [
    {
     "data": {
      "text/plain": [
       "820"
      ]
     },
     "execution_count": 26,
     "metadata": {},
     "output_type": "execute_result"
    }
   ],
   "source": [
    "nsl"
   ]
  },
  {
   "cell_type": "code",
   "execution_count": 27,
   "id": "e813af57-41b2-4b9d-811f-12aea13732c9",
   "metadata": {},
   "outputs": [],
   "source": [
    "arr = np.zeros([nsl]+list(msk_i.shape),np.uint16)"
   ]
  },
  {
   "cell_type": "code",
   "execution_count": 28,
   "id": "ddd9ecc9-636c-4181-b481-ba1ed406d28c",
   "metadata": {},
   "outputs": [
    {
     "data": {
      "text/plain": [
       "(820, 4000, 4000)"
      ]
     },
     "execution_count": 28,
     "metadata": {},
     "output_type": "execute_result"
    }
   ],
   "source": [
    "arr.shape"
   ]
  },
  {
   "cell_type": "code",
   "execution_count": 29,
   "id": "893bedda-d39f-4c67-bb1c-a4c275960717",
   "metadata": {},
   "outputs": [],
   "source": [
    "res=16 # mpp"
   ]
  },
  {
   "cell_type": "code",
   "execution_count": 31,
   "id": "8bf60d40-4b2d-4d59-b02d-ba258e974c09",
   "metadata": {},
   "outputs": [
    {
     "name": "stderr",
     "output_type": "stream",
     "text": [
      " 39%|█████████████████████████████████████▍                                                         | 95/241 [09:48<22:26,  9.23s/it]"
     ]
    },
    {
     "name": "stdout",
     "output_type": "stream",
     "text": [
      "Skipping feature 16379: invalid polygon coordinates\n",
      "Skipping feature 16219: invalid polygon coordinates\n"
     ]
    },
    {
     "name": "stderr",
     "output_type": "stream",
     "text": [
      " 48%|████████████████████████████████████████████▊                                                 | 115/241 [12:57<21:12, 10.10s/it]"
     ]
    },
    {
     "name": "stdout",
     "output_type": "stream",
     "text": [
      "Skipping feature 255757: invalid polygon coordinates\n"
     ]
    },
    {
     "name": "stderr",
     "output_type": "stream",
     "text": [
      " 51%|████████████████████████████████████████████████▎                                             | 124/241 [14:22<18:49,  9.65s/it]"
     ]
    },
    {
     "name": "stdout",
     "output_type": "stream",
     "text": [
      "Skipping feature 13731: invalid polygon coordinates\n",
      "Skipping feature 14563: invalid polygon coordinates\n"
     ]
    },
    {
     "name": "stderr",
     "output_type": "stream",
     "text": [
      " 53%|█████████████████████████████████████████████████▌                                            | 127/241 [14:54<19:40, 10.35s/it]"
     ]
    },
    {
     "name": "stdout",
     "output_type": "stream",
     "text": [
      "Skipping feature 36895: invalid polygon coordinates\n"
     ]
    },
    {
     "name": "stderr",
     "output_type": "stream",
     "text": [
      " 63%|███████████████████████████████████████████████████████████▋                                  | 153/241 [19:37<17:21, 11.83s/it]"
     ]
    },
    {
     "name": "stdout",
     "output_type": "stream",
     "text": [
      "Skipping feature 26720: invalid polygon coordinates\n"
     ]
    },
    {
     "name": "stderr",
     "output_type": "stream",
     "text": [
      " 70%|█████████████████████████████████████████████████████████████████▌                            | 168/241 [22:41<16:38, 13.68s/it]"
     ]
    },
    {
     "name": "stdout",
     "output_type": "stream",
     "text": [
      "Skipping feature 116332: invalid polygon coordinates\n",
      "Skipping feature 116369: invalid polygon coordinates\n"
     ]
    },
    {
     "name": "stderr",
     "output_type": "stream",
     "text": [
      " 73%|████████████████████████████████████████████████████████████████████▎                         | 175/241 [24:16<13:49, 12.56s/it]"
     ]
    },
    {
     "name": "stdout",
     "output_type": "stream",
     "text": [
      "Skipping feature 26807: invalid polygon coordinates\n",
      "Skipping feature 14952: invalid polygon coordinates\n"
     ]
    },
    {
     "name": "stderr",
     "output_type": "stream",
     "text": [
      " 74%|█████████████████████████████████████████████████████████████████████▊                        | 179/241 [25:00<11:43, 11.34s/it]"
     ]
    },
    {
     "name": "stdout",
     "output_type": "stream",
     "text": [
      "Skipping feature 9837: invalid polygon coordinates\n"
     ]
    },
    {
     "name": "stderr",
     "output_type": "stream",
     "text": [
      " 77%|████████████████████████████████████████████████████████████████████████▏                     | 185/241 [26:05<10:16, 11.00s/it]"
     ]
    },
    {
     "name": "stdout",
     "output_type": "stream",
     "text": [
      "Skipping feature 17449: invalid polygon coordinates\n",
      "Skipping feature 9332: invalid polygon coordinates\n"
     ]
    },
    {
     "name": "stderr",
     "output_type": "stream",
     "text": [
      " 78%|█████████████████████████████████████████████████████████████████████████▎                    | 188/241 [26:48<11:35, 13.12s/it]"
     ]
    },
    {
     "name": "stdout",
     "output_type": "stream",
     "text": [
      "Skipping feature 38310: invalid polygon coordinates\n",
      "Skipping feature 9625: invalid polygon coordinates\n"
     ]
    },
    {
     "name": "stderr",
     "output_type": "stream",
     "text": [
      " 79%|██████████████████████████████████████████████████████████████████████████▍                   | 191/241 [27:25<10:45, 12.91s/it]"
     ]
    },
    {
     "name": "stdout",
     "output_type": "stream",
     "text": [
      "Skipping feature 19007: invalid polygon coordinates\n",
      "Skipping feature 33880: invalid polygon coordinates\n"
     ]
    },
    {
     "name": "stderr",
     "output_type": "stream",
     "text": [
      "100%|██████████████████████████████████████████████████████████████████████████████████████████████| 241/241 [34:17<00:00,  8.54s/it]\n"
     ]
    }
   ],
   "source": [
    "for secno in tqdm(annotatedsections):\n",
    "    slno = secno//3\n",
    "    arr[slno,...]=apiobj.get_mask_stack(str(secno),mpp=res)"
   ]
  },
  {
   "cell_type": "code",
   "execution_count": 32,
   "id": "e7af5e19-bd52-4d1a-801d-4f54dcade439",
   "metadata": {},
   "outputs": [
    {
     "data": {
      "text/plain": [
       "2458"
      ]
     },
     "execution_count": 32,
     "metadata": {},
     "output_type": "execute_result"
    }
   ],
   "source": [
    "secno"
   ]
  },
  {
   "cell_type": "code",
   "execution_count": 33,
   "id": "9cf9ccc5-cd72-4646-b96a-9c665022b4e6",
   "metadata": {},
   "outputs": [
    {
     "data": {
      "text/plain": [
       "819"
      ]
     },
     "execution_count": 33,
     "metadata": {},
     "output_type": "execute_result"
    }
   ],
   "source": [
    "secno//3"
   ]
  },
  {
   "cell_type": "code",
   "execution_count": 1,
   "id": "eb34b399-62d4-44fe-8ecb-b5fbbd7ebd5c",
   "metadata": {},
   "outputs": [],
   "source": [
    "import SimpleITK as sitk"
   ]
  },
  {
   "cell_type": "code",
   "execution_count": 35,
   "id": "4ae8624a-9b6a-4032-9402-5d797e9c2ceb",
   "metadata": {},
   "outputs": [],
   "source": [
    "img=sitk.GetImageFromArray(arr)\n",
    "\n",
    "img.SetSpacing([res/1000,res/1000,0.060])\n",
    "\n",
    "drnmat=np.array([ [0,0,1], [-1,0,0], [0,-1,0] ]) # psr \n",
    "\n",
    "# sagittal LR\n",
    "# rotmat = np.array([[-1,0,0],[0,-1,0],[0,0,1]]) # psr to asl\n",
    "\n",
    "# sagittal RL\n",
    "rotmat = np.eye(3) \n",
    "\n",
    "# coronal AP\n",
    "if biosampleid=='213':\n",
    "    rotmat = np.array([[0,-1,0],[1,0,0],[0,0,1]]) # psr to rsa\n",
    "\n",
    "drn = np.dot(rotmat,drnmat).ravel()\n",
    "\n",
    "img.SetDirection(drn.tolist())\n",
    "\n"
   ]
  },
  {
   "cell_type": "code",
   "execution_count": 36,
   "id": "1da11f00-85ca-41f2-96fd-782074ff66e8",
   "metadata": {},
   "outputs": [
    {
     "data": {
      "text/plain": [
       "dtype('uint16')"
      ]
     },
     "execution_count": 36,
     "metadata": {},
     "output_type": "execute_result"
    }
   ],
   "source": [
    "arr.dtype"
   ]
  },
  {
   "cell_type": "code",
   "execution_count": 37,
   "id": "0440bed9-d2cc-427d-b561-06d0b82f8a2b",
   "metadata": {},
   "outputs": [
    {
     "data": {
      "text/plain": [
       "'16-bit unsigned integer'"
      ]
     },
     "execution_count": 37,
     "metadata": {},
     "output_type": "execute_result"
    }
   ],
   "source": [
    "img.GetPixelIDTypeAsString()"
   ]
  },
  {
   "cell_type": "code",
   "execution_count": 38,
   "id": "be8f9ce9-ae74-42e1-9a35-90efa0ef64f7",
   "metadata": {},
   "outputs": [],
   "source": [
    "sitk.WriteImage(img, '/data/keerthi/brainpubdata/%s/%s_annot_%dmpp.nii.gz' % (biosampleid,brainname[biosampleid],res), useCompression=True)"
   ]
  },
  {
   "cell_type": "code",
   "execution_count": 39,
   "id": "cd6643ad-f8c7-4b07-a5ea-25e775472cba",
   "metadata": {},
   "outputs": [],
   "source": [
    "del arr, img"
   ]
  },
  {
   "cell_type": "markdown",
   "id": "46d47d49-159f-4ad1-a1c4-5a6d6b764b96",
   "metadata": {},
   "source": [
    "# reverse"
   ]
  },
  {
   "cell_type": "code",
   "execution_count": 16,
   "id": "004e3d8b-ffbd-4eca-91ab-269c167c8f46",
   "metadata": {},
   "outputs": [],
   "source": [
    "import SimpleITK as sitk"
   ]
  },
  {
   "cell_type": "code",
   "execution_count": 17,
   "id": "de714842-f301-4cd7-b44a-7c3407a05570",
   "metadata": {},
   "outputs": [],
   "source": [
    "img = sitk.ReadImage('/data/keerthi/brainpubdata/213/FB62_annot_16mpp.nii.gz')"
   ]
  },
  {
   "cell_type": "code",
   "execution_count": 18,
   "id": "4fc7cdad-3e61-43c4-96ba-a238ecc671f6",
   "metadata": {},
   "outputs": [],
   "source": [
    "arr = sitk.GetArrayViewFromImage(img)"
   ]
  },
  {
   "cell_type": "code",
   "execution_count": 4,
   "id": "9ae4286c-0eed-4838-93df-378a43bb885b",
   "metadata": {},
   "outputs": [
    {
     "data": {
      "text/plain": [
       "(820, 4000, 4000)"
      ]
     },
     "execution_count": 4,
     "metadata": {},
     "output_type": "execute_result"
    }
   ],
   "source": [
    "arr.shape"
   ]
  },
  {
   "cell_type": "code",
   "execution_count": 20,
   "id": "d0af6ae6-25e6-4ebf-898d-07d93a6ee221",
   "metadata": {},
   "outputs": [],
   "source": [
    "slices = [x//3 for x in annotatedsections]"
   ]
  },
  {
   "cell_type": "code",
   "execution_count": 21,
   "id": "836c8326-6e97-4ae4-984e-84f917647eda",
   "metadata": {},
   "outputs": [
    {
     "data": {
      "text/plain": [
       "[<matplotlib.lines.Line2D at 0x7f1bdd2fa850>]"
      ]
     },
     "execution_count": 21,
     "metadata": {},
     "output_type": "execute_result"
    },
    {
     "data": {
      "image/png": "[encoded data removed]",
      "text/plain": [
       "<Figure size 640x480 with 1 Axes>"
      ]
     },
     "metadata": {},
     "output_type": "display_data"
    }
   ],
   "source": [
    "plt.plot(slices[:-1],np.diff(slices),'r-x')"
   ]
  },
  {
   "cell_type": "code",
   "execution_count": 22,
   "id": "927e90c8-8207-40ce-ba4a-f3e39de55ff4",
   "metadata": {},
   "outputs": [
    {
     "data": {
      "text/plain": [
       "(array([67., 50., 41., 39.]),\n",
       " array([1., 2., 3., 4., 5.]),\n",
       " <BarContainer object of 4 artists>)"
      ]
     },
     "execution_count": 22,
     "metadata": {},
     "output_type": "execute_result"
    },
    {
     "data": {
      "image/png": "[encoded data removed]",
      "text/plain": [
       "<Figure size 640x480 with 1 Axes>"
      ]
     },
     "metadata": {},
     "output_type": "display_data"
    }
   ],
   "source": [
    "plt.hist(np.diff(slices),bins=[1,2,3,4,5])"
   ]
  },
  {
   "cell_type": "code",
   "execution_count": 23,
   "id": "4efb4118-6deb-4c9b-99b9-77b34e4ad354",
   "metadata": {},
   "outputs": [],
   "source": [
    "slices_arr=np.array(slices)"
   ]
  },
  {
   "cell_type": "code",
   "execution_count": 24,
   "id": "320e6004-268a-4bb7-9c2c-0e5fe63c56b9",
   "metadata": {},
   "outputs": [],
   "source": [
    "loc = np.diff(slices_arr)>5"
   ]
  },
  {
   "cell_type": "code",
   "execution_count": 25,
   "id": "d173919a-0c46-4c29-8fa6-1510756bf71a",
   "metadata": {},
   "outputs": [
    {
     "data": {
      "text/plain": [
       "240"
      ]
     },
     "execution_count": 25,
     "metadata": {},
     "output_type": "execute_result"
    }
   ],
   "source": [
    "len(loc)"
   ]
  },
  {
   "cell_type": "code",
   "execution_count": 26,
   "id": "f3e5566f-012a-4124-b9ce-1b549cf4595c",
   "metadata": {},
   "outputs": [
    {
     "data": {
      "text/plain": [
       "array([2, 3])"
      ]
     },
     "execution_count": 26,
     "metadata": {},
     "output_type": "execute_result"
    }
   ],
   "source": [
    "np.diff(slices_arr)[:2]"
   ]
  },
  {
   "cell_type": "code",
   "execution_count": 27,
   "id": "bfa96065-db23-4e26-ac7c-2f774c21aabc",
   "metadata": {},
   "outputs": [
    {
     "data": {
      "text/plain": [
       "array([ 9, 11, 14])"
      ]
     },
     "execution_count": 27,
     "metadata": {},
     "output_type": "execute_result"
    }
   ],
   "source": [
    "slices_arr[:3]"
   ]
  },
  {
   "cell_type": "code",
   "execution_count": 28,
   "id": "4d274d7d-fa49-44e5-987e-364dcfd6f376",
   "metadata": {
    "scrolled": true
   },
   "outputs": [
    {
     "data": {
      "text/plain": [
       "array([[  9,   1],\n",
       "       [ 11,   2],\n",
       "       [ 14,   8],\n",
       "       [ 23,   0],\n",
       "       [ 24,   2],\n",
       "       [ 27,   2],\n",
       "       [ 30,   0],\n",
       "       [ 31,   0],\n",
       "       [ 32,   4],\n",
       "       [ 37,  11],\n",
       "       [ 49,   0],\n",
       "       [ 50,   2],\n",
       "       [ 53,   0],\n",
       "       [ 54,   3],\n",
       "       [ 58,   0],\n",
       "       [ 59,   0],\n",
       "       [ 60,   0],\n",
       "       [ 61,  12],\n",
       "       [ 74,   1],\n",
       "       [ 76,   0],\n",
       "       [ 77,   1],\n",
       "       [ 79,   2],\n",
       "       [ 82,   1],\n",
       "       [ 84,   0],\n",
       "       [ 85,   3],\n",
       "       [ 89,   3],\n",
       "       [ 93,   2],\n",
       "       [ 96,   6],\n",
       "       [103,   2],\n",
       "       [106,   0],\n",
       "       [107,   2],\n",
       "       [110,   3],\n",
       "       [114,   0],\n",
       "       [115,   3],\n",
       "       [119,   0],\n",
       "       [120,   0],\n",
       "       [121,   3],\n",
       "       [125,   2],\n",
       "       [128,   0],\n",
       "       [129,   4],\n",
       "       [134,   2],\n",
       "       [137,   1],\n",
       "       [139,   5],\n",
       "       [145,   2],\n",
       "       [148,   5],\n",
       "       [154,   2],\n",
       "       [157,   1],\n",
       "       [159,   0],\n",
       "       [160,   6],\n",
       "       [167,   2],\n",
       "       [170,   9],\n",
       "       [180,   0],\n",
       "       [181,   1],\n",
       "       [183,   1],\n",
       "       [185,   6],\n",
       "       [192,   0],\n",
       "       [193,   1],\n",
       "       [195,   0],\n",
       "       [196,   0],\n",
       "       [197,   2],\n",
       "       [200,   4],\n",
       "       [205,   3],\n",
       "       [209,   1],\n",
       "       [211,   1],\n",
       "       [213,   1],\n",
       "       [215,   5],\n",
       "       [221,   1],\n",
       "       [223,   2],\n",
       "       [226,   0],\n",
       "       [227,   0],\n",
       "       [228,   0],\n",
       "       [229,   1],\n",
       "       [231,   2],\n",
       "       [234,   1],\n",
       "       [236,   1],\n",
       "       [238,   1],\n",
       "       [240,   1],\n",
       "       [242,   0],\n",
       "       [243,   2],\n",
       "       [246,   0],\n",
       "       [247,   7],\n",
       "       [255,   0],\n",
       "       [256,   5],\n",
       "       [262,   7],\n",
       "       [270,   5],\n",
       "       [276,   3],\n",
       "       [280,   0],\n",
       "       [281,   1],\n",
       "       [283,   2],\n",
       "       [286,   0],\n",
       "       [287,   7],\n",
       "       [295,   1],\n",
       "       [297,   2],\n",
       "       [300,   0],\n",
       "       [301,   1],\n",
       "       [303,   4],\n",
       "       [308,   2],\n",
       "       [311,   3],\n",
       "       [315,   0],\n",
       "       [316,   0],\n",
       "       [317,   1],\n",
       "       [319,   3],\n",
       "       [323,   4],\n",
       "       [328,  17],\n",
       "       [346,   1],\n",
       "       [348,   0],\n",
       "       [349,   1],\n",
       "       [351,   0],\n",
       "       [352,   0],\n",
       "       [353,   0],\n",
       "       [354,   0],\n",
       "       [355,   1],\n",
       "       [357,   0],\n",
       "       [358,   0],\n",
       "       [359,   0],\n",
       "       [360,   0],\n",
       "       [361,   1],\n",
       "       [363,   0],\n",
       "       [364,   2],\n",
       "       [367,   6],\n",
       "       [374,   3],\n",
       "       [378,   1],\n",
       "       [380,   1],\n",
       "       [382,   2],\n",
       "       [385,   2],\n",
       "       [388,   0],\n",
       "       [389,   1],\n",
       "       [391,   2],\n",
       "       [394,   0],\n",
       "       [395,   0],\n",
       "       [396,   0],\n",
       "       [397,   0],\n",
       "       [398,   1],\n",
       "       [400,   0],\n",
       "       [401,   1],\n",
       "       [403,   0],\n",
       "       [404,   0],\n",
       "       [405,   0],\n",
       "       [406,   1],\n",
       "       [408,   0],\n",
       "       [409,   0],\n",
       "       [410,   2],\n",
       "       [413,   5],\n",
       "       [419,   0],\n",
       "       [420,   9],\n",
       "       [430,   6],\n",
       "       [437,   6],\n",
       "       [444,   0],\n",
       "       [445,   1],\n",
       "       [447,   0],\n",
       "       [448,   1],\n",
       "       [450,   2],\n",
       "       [453,   1],\n",
       "       [455,   0],\n",
       "       [456,   2],\n",
       "       [459,   0],\n",
       "       [460,   1],\n",
       "       [462,  10],\n",
       "       [473,  10],\n",
       "       [484,   3],\n",
       "       [488,   0],\n",
       "       [489,   7],\n",
       "       [497,   8],\n",
       "       [506,   4],\n",
       "       [511,   0],\n",
       "       [512,   1],\n",
       "       [514,   0],\n",
       "       [515,   8],\n",
       "       [524,   4],\n",
       "       [529,   1],\n",
       "       [531,   0],\n",
       "       [532,   2],\n",
       "       [535,   3],\n",
       "       [539,   1],\n",
       "       [541,   3],\n",
       "       [545,   0],\n",
       "       [546,   3],\n",
       "       [550,   3],\n",
       "       [554,   3],\n",
       "       [558,   3],\n",
       "       [562,   1],\n",
       "       [564,   2],\n",
       "       [567,   0],\n",
       "       [568,   0],\n",
       "       [569,   6],\n",
       "       [576,   1],\n",
       "       [578,   1],\n",
       "       [580,   2],\n",
       "       [583,   5],\n",
       "       [589,   5],\n",
       "       [595,  10],\n",
       "       [606,   1],\n",
       "       [608,   1],\n",
       "       [610,   1],\n",
       "       [612,   3],\n",
       "       [616,   0],\n",
       "       [617,   3],\n",
       "       [621,   2],\n",
       "       [624,   2],\n",
       "       [627,   6],\n",
       "       [634,   3],\n",
       "       [638,   3],\n",
       "       [642,   0],\n",
       "       [643,   6],\n",
       "       [650,   2],\n",
       "       [653,  12],\n",
       "       [666,   1],\n",
       "       [668,   3],\n",
       "       [672,   7],\n",
       "       [680,   7],\n",
       "       [688,   5],\n",
       "       [694,   3],\n",
       "       [698,   4],\n",
       "       [703,   3],\n",
       "       [707,   5],\n",
       "       [713,   5],\n",
       "       [719,   2],\n",
       "       [722,   6],\n",
       "       [729,   3],\n",
       "       [733,   9],\n",
       "       [743,   2],\n",
       "       [746,  10],\n",
       "       [757,   7],\n",
       "       [765,   2],\n",
       "       [768,   2],\n",
       "       [771,   1],\n",
       "       [773,   1],\n",
       "       [775,   1],\n",
       "       [777,   2],\n",
       "       [780,   3],\n",
       "       [784,   2],\n",
       "       [787,   3],\n",
       "       [791,   1],\n",
       "       [793,   2],\n",
       "       [796,   0],\n",
       "       [797,   2],\n",
       "       [800,   5],\n",
       "       [806,   3],\n",
       "       [810,   3],\n",
       "       [814,   4]])"
      ]
     },
     "execution_count": 28,
     "metadata": {},
     "output_type": "execute_result"
    }
   ],
   "source": [
    "np.vstack([slices_arr[:-1], np.diff(slices_arr)-1]).T"
   ]
  },
  {
   "cell_type": "code",
   "execution_count": 29,
   "id": "73eac264-e015-46dc-8f9c-ccbc58843b61",
   "metadata": {},
   "outputs": [
    {
     "name": "stdout",
     "output_type": "stream",
     "text": [
      "0 176 0.8669950738916257 27 [(17, 14, 23), (41, 37, 49), (45, 37, 49), (65, 61, 74), (69, 61, 74), (173, 170, 180), (265, 262, 270), (333, 328, 346), (337, 328, 346), (341, 328, 346), (425, 420, 430), (433, 430, 437), (465, 462, 473), (469, 462, 473), (477, 473, 484), (493, 489, 497), (501, 497, 506), (597, 595, 606), (601, 595, 606), (657, 653, 666), (661, 653, 666), (709, 707, 713), (725, 722, 729), (737, 733, 743), (749, 746, 757), (753, 746, 757), (761, 757, 765)]\n"
     ]
    }
   ],
   "source": [
    "spacing=4\n",
    "for dx in range(spacing):\n",
    "    cnt = 0\n",
    "    clist = [] # copy list\n",
    "    ilist = [] # interp list\n",
    "    matched = []\n",
    "    \n",
    "    pl = range(slices[0]+dx,slices[-1]+1,spacing)\n",
    "    for planned in pl:\n",
    "        if planned in slices: \n",
    "            clist.append((planned,planned))\n",
    "            matched.append(planned)\n",
    "            cnt+=1\n",
    "        elif planned+1 in slices:\n",
    "            clist.append((planned,planned+1))\n",
    "            matched.append(planned+1)\n",
    "            cnt+=1\n",
    "        elif planned-1 in slices:\n",
    "            clist.append((planned,planned-1))\n",
    "            matched.append(planned-1)\n",
    "            cnt+=1\n",
    "        else:\n",
    "            imin = np.argmin(np.abs(slices_arr-planned))\n",
    "            vmin = slices_arr[imin]\n",
    "            if planned<vmin:\n",
    "                vlower = slices_arr[imin-1]\n",
    "                vupper = slices_arr[imin]\n",
    "            else:\n",
    "                vlower = vmin\n",
    "                vupper = slices_arr[imin+1]\n",
    "                \n",
    "            if planned-vlower < spacing and vlower not in matched:\n",
    "                clist.append((planned,vlower))\n",
    "                matched.append(vlower)\n",
    "                cnt+=1\n",
    "            elif vupper-planned < spacing and vupper not in matched:\n",
    "                clist.append((planned,vupper))\n",
    "                matched.append(vupper)\n",
    "                cnt+=1\n",
    "            else:\n",
    "                ilist.append((planned,vlower,vupper))\n",
    "                \n",
    "    print(dx,cnt, cnt/len(pl),len(ilist),ilist)\n",
    "    break\n",
    "    "
   ]
  },
  {
   "cell_type": "code",
   "execution_count": 30,
   "id": "43318b58-5d2d-4488-bf40-e9271ceacfec",
   "metadata": {},
   "outputs": [
    {
     "data": {
      "text/plain": [
       "176"
      ]
     },
     "execution_count": 30,
     "metadata": {},
     "output_type": "execute_result"
    }
   ],
   "source": [
    "len(clist)"
   ]
  },
  {
   "cell_type": "code",
   "execution_count": 31,
   "id": "de5cb3d6-da26-42a6-b49f-424152b81860",
   "metadata": {},
   "outputs": [],
   "source": [
    "clist = np.array(clist)\n",
    "newsl = clist[:,0]//spacing"
   ]
  },
  {
   "cell_type": "code",
   "execution_count": 37,
   "id": "0a0200cf-5de3-45f6-a1f1-2152268ec7b4",
   "metadata": {},
   "outputs": [
    {
     "data": {
      "text/plain": [
       "(176, 2)"
      ]
     },
     "execution_count": 37,
     "metadata": {},
     "output_type": "execute_result"
    }
   ],
   "source": [
    "clist.shape"
   ]
  },
  {
   "cell_type": "code",
   "execution_count": 32,
   "id": "3708bed6-1ec5-43c4-963b-26a5830ed2ea",
   "metadata": {},
   "outputs": [],
   "source": [
    "# np.array(pl)"
   ]
  },
  {
   "cell_type": "code",
   "execution_count": 33,
   "id": "fc5c1265-ce65-4971-8f1f-5464f154ac7d",
   "metadata": {},
   "outputs": [
    {
     "data": {
      "text/plain": [
       "(176,)"
      ]
     },
     "execution_count": 33,
     "metadata": {},
     "output_type": "execute_result"
    }
   ],
   "source": [
    "newsl.shape"
   ]
  },
  {
   "cell_type": "code",
   "execution_count": 34,
   "id": "c3ca583c-1660-48c7-b68f-f05d8a35ff63",
   "metadata": {
    "scrolled": true
   },
   "outputs": [
    {
     "data": {
      "text/plain": [
       "array([[  2,   9,   9],\n",
       "       [  3,  13,  14],\n",
       "       [  5,  21,  23],\n",
       "       [  6,  25,  24],\n",
       "       [  7,  29,  30],\n",
       "       [  8,  33,  32],\n",
       "       [  9,  37,  37],\n",
       "       [ 12,  49,  49],\n",
       "       [ 13,  53,  53],\n",
       "       [ 14,  57,  58],\n",
       "       [ 15,  61,  61],\n",
       "       [ 18,  73,  74],\n",
       "       [ 19,  77,  77],\n",
       "       [ 20,  81,  82],\n",
       "       [ 21,  85,  85],\n",
       "       [ 22,  89,  89],\n",
       "       [ 23,  93,  93],\n",
       "       [ 24,  97,  96],\n",
       "       [ 25, 101, 103],\n",
       "       [ 26, 105, 106],\n",
       "       [ 27, 109, 110],\n",
       "       [ 28, 113, 114],\n",
       "       [ 29, 117, 115],\n",
       "       [ 30, 121, 121],\n",
       "       [ 31, 125, 125],\n",
       "       [ 32, 129, 129],\n",
       "       [ 33, 133, 134],\n",
       "       [ 34, 137, 137],\n",
       "       [ 35, 141, 139],\n",
       "       [ 36, 145, 145],\n",
       "       [ 37, 149, 148],\n",
       "       [ 38, 153, 154],\n",
       "       [ 39, 157, 157],\n",
       "       [ 40, 161, 160],\n",
       "       [ 41, 165, 167],\n",
       "       [ 42, 169, 170],\n",
       "       [ 44, 177, 180],\n",
       "       [ 45, 181, 181],\n",
       "       [ 46, 185, 185],\n",
       "       [ 47, 189, 192],\n",
       "       [ 48, 193, 193],\n",
       "       [ 49, 197, 197],\n",
       "       [ 50, 201, 200],\n",
       "       [ 51, 205, 205],\n",
       "       [ 52, 209, 209],\n",
       "       [ 53, 213, 213],\n",
       "       [ 54, 217, 215],\n",
       "       [ 55, 221, 221],\n",
       "       [ 56, 225, 226],\n",
       "       [ 57, 229, 229],\n",
       "       [ 58, 233, 234],\n",
       "       [ 59, 237, 238],\n",
       "       [ 60, 241, 242],\n",
       "       [ 61, 245, 246],\n",
       "       [ 62, 249, 247],\n",
       "       [ 63, 253, 255],\n",
       "       [ 64, 257, 256],\n",
       "       [ 65, 261, 262],\n",
       "       [ 67, 269, 270],\n",
       "       [ 68, 273, 276],\n",
       "       [ 69, 277, 276],\n",
       "       [ 70, 281, 281],\n",
       "       [ 71, 285, 286],\n",
       "       [ 72, 289, 287],\n",
       "       [ 73, 293, 295],\n",
       "       [ 74, 297, 297],\n",
       "       [ 75, 301, 301],\n",
       "       [ 76, 305, 303],\n",
       "       [ 77, 309, 308],\n",
       "       [ 78, 313, 311],\n",
       "       [ 79, 317, 317],\n",
       "       [ 80, 321, 319],\n",
       "       [ 81, 325, 323],\n",
       "       [ 82, 329, 328],\n",
       "       [ 86, 345, 346],\n",
       "       [ 87, 349, 349],\n",
       "       [ 88, 353, 353],\n",
       "       [ 89, 357, 357],\n",
       "       [ 90, 361, 361],\n",
       "       [ 91, 365, 364],\n",
       "       [ 92, 369, 367],\n",
       "       [ 93, 373, 374],\n",
       "       [ 94, 377, 378],\n",
       "       [ 95, 381, 382],\n",
       "       [ 96, 385, 385],\n",
       "       [ 97, 389, 389],\n",
       "       [ 98, 393, 394],\n",
       "       [ 99, 397, 397],\n",
       "       [100, 401, 401],\n",
       "       [101, 405, 405],\n",
       "       [102, 409, 409],\n",
       "       [103, 413, 413],\n",
       "       [104, 417, 419],\n",
       "       [105, 421, 420],\n",
       "       [107, 429, 430],\n",
       "       [109, 437, 437],\n",
       "       [110, 441, 444],\n",
       "       [111, 445, 445],\n",
       "       [112, 449, 450],\n",
       "       [113, 453, 453],\n",
       "       [114, 457, 456],\n",
       "       [115, 461, 462],\n",
       "       [118, 473, 473],\n",
       "       [120, 481, 484],\n",
       "       [121, 485, 484],\n",
       "       [122, 489, 489],\n",
       "       [124, 497, 497],\n",
       "       [126, 505, 506],\n",
       "       [127, 509, 511],\n",
       "       [128, 513, 514],\n",
       "       [129, 517, 515],\n",
       "       [130, 521, 524],\n",
       "       [131, 525, 524],\n",
       "       [132, 529, 529],\n",
       "       [133, 533, 532],\n",
       "       [134, 537, 535],\n",
       "       [135, 541, 541],\n",
       "       [136, 545, 545],\n",
       "       [137, 549, 550],\n",
       "       [138, 553, 554],\n",
       "       [139, 557, 558],\n",
       "       [140, 561, 562],\n",
       "       [141, 565, 564],\n",
       "       [142, 569, 569],\n",
       "       [143, 573, 576],\n",
       "       [144, 577, 578],\n",
       "       [145, 581, 580],\n",
       "       [146, 585, 583],\n",
       "       [147, 589, 589],\n",
       "       [148, 593, 595],\n",
       "       [151, 605, 606],\n",
       "       [152, 609, 610],\n",
       "       [153, 613, 612],\n",
       "       [154, 617, 617],\n",
       "       [155, 621, 621],\n",
       "       [156, 625, 624],\n",
       "       [157, 629, 627],\n",
       "       [158, 633, 634],\n",
       "       [159, 637, 638],\n",
       "       [160, 641, 642],\n",
       "       [161, 645, 643],\n",
       "       [162, 649, 650],\n",
       "       [163, 653, 653],\n",
       "       [166, 665, 666],\n",
       "       [167, 669, 668],\n",
       "       [168, 673, 672],\n",
       "       [169, 677, 680],\n",
       "       [170, 681, 680],\n",
       "       [171, 685, 688],\n",
       "       [172, 689, 688],\n",
       "       [173, 693, 694],\n",
       "       [174, 697, 698],\n",
       "       [175, 701, 703],\n",
       "       [176, 705, 707],\n",
       "       [178, 713, 713],\n",
       "       [179, 717, 719],\n",
       "       [180, 721, 722],\n",
       "       [182, 729, 729],\n",
       "       [183, 733, 733],\n",
       "       [185, 741, 743],\n",
       "       [186, 745, 746],\n",
       "       [189, 757, 757],\n",
       "       [191, 765, 765],\n",
       "       [192, 769, 768],\n",
       "       [193, 773, 773],\n",
       "       [194, 777, 777],\n",
       "       [195, 781, 780],\n",
       "       [196, 785, 784],\n",
       "       [197, 789, 787],\n",
       "       [198, 793, 793],\n",
       "       [199, 797, 797],\n",
       "       [200, 801, 800],\n",
       "       [201, 805, 806],\n",
       "       [202, 809, 810],\n",
       "       [203, 813, 814],\n",
       "       [204, 817, 819]])"
      ]
     },
     "execution_count": 34,
     "metadata": {},
     "output_type": "execute_result"
    }
   ],
   "source": [
    "np.hstack([newsl[...,np.newaxis],clist])"
   ]
  },
  {
   "cell_type": "code",
   "execution_count": 41,
   "id": "747b909e-e552-47ad-9e5e-0e441d49f715",
   "metadata": {},
   "outputs": [
    {
     "data": {
      "text/plain": [
       "817"
      ]
     },
     "execution_count": 41,
     "metadata": {},
     "output_type": "execute_result"
    }
   ],
   "source": [
    "pl[-1]"
   ]
  },
  {
   "cell_type": "code",
   "execution_count": 42,
   "id": "15f252e1-e397-4064-bfaa-597fc8f60658",
   "metadata": {},
   "outputs": [],
   "source": [
    "newarr = np.zeros((pl[-1]//spacing+1,4000,4000),np.uint16)"
   ]
  },
  {
   "cell_type": "code",
   "execution_count": 43,
   "id": "d35a53cd-15fc-418f-9cde-cf25a88a8da8",
   "metadata": {},
   "outputs": [],
   "source": [
    "for ii,newslno in enumerate(newsl):\n",
    "    slno = clist[ii,1]\n",
    "    newarr[newslno,...]=arr[slno,...]"
   ]
  },
  {
   "cell_type": "code",
   "execution_count": 45,
   "id": "42768955-0835-4944-bd9f-32f7cd5f1977",
   "metadata": {},
   "outputs": [],
   "source": [
    "img=sitk.GetImageFromArray(newarr)\n",
    "res=16\n",
    "img.SetSpacing([res/1000,res/1000,0.060*spacing])\n",
    "img.SetOrigin([0,0,0.06*spacing/2])\n",
    "\n",
    "drnmat=np.array([ [0,0,1], [-1,0,0], [0,-1,0] ]) # psr \n",
    "\n",
    "# sagittal LR\n",
    "# rotmat = np.array([[-1,0,0],[0,-1,0],[0,0,1]]) # psr to asl\n",
    "\n",
    "# sagittal RL\n",
    "rotmat = np.eye(3) \n",
    "\n",
    "# coronal AP\n",
    "if biosampleid=='213':\n",
    "    rotmat = np.array([[0,-1,0],[1,0,0],[0,0,1]]) # psr to rsa\n",
    "\n",
    "drn = np.dot(rotmat,drnmat).ravel()\n",
    "\n",
    "img.SetDirection(drn.tolist())\n"
   ]
  },
  {
   "cell_type": "code",
   "execution_count": 46,
   "id": "bc5b8b46-7f18-411b-a218-523a05f3cdcb",
   "metadata": {},
   "outputs": [],
   "source": [
    "sitk.WriteImage(img, '/data/keerthi/brainpubdata/%s/%s_annot%d_%dmpp.nii.gz' % (biosampleid,brainname[biosampleid],spacing,res), useCompression=True)"
   ]
  },
  {
   "cell_type": "code",
   "execution_count": 34,
   "id": "f9677a8c-51cb-4422-b8b9-1edfa1a68141",
   "metadata": {},
   "outputs": [
    {
     "data": {
      "text/plain": [
       "163"
      ]
     },
     "execution_count": 34,
     "metadata": {},
     "output_type": "execute_result"
    }
   ],
   "source": [
    "len(pl)"
   ]
  },
  {
   "cell_type": "code",
   "execution_count": 35,
   "id": "fca1c804-8e05-497f-8d06-111b7bf7c8f2",
   "metadata": {},
   "outputs": [
    {
     "data": {
      "text/plain": [
       "<matplotlib.image.AxesImage at 0x7f56acb63c70>"
      ]
     },
     "execution_count": 35,
     "metadata": {},
     "output_type": "execute_result"
    },
    {
     "data": {
      "image/png": "[encoded data removed]",
      "text/plain": [
       "<Figure size 640x480 with 2 Axes>"
      ]
     },
     "metadata": {},
     "output_type": "display_data"
    }
   ],
   "source": [
    "plt.subplot(1,2,1)\n",
    "plt.imshow(arr[61])\n",
    "\n",
    "plt.subplot(1,2,2)\n",
    "plt.imshow(arr[74])"
   ]
  },
  {
   "cell_type": "code",
   "execution_count": 36,
   "id": "9e7dd062-1845-484e-98dc-062d67289b1a",
   "metadata": {},
   "outputs": [
    {
     "data": {
      "text/plain": [
       "array([ 0, 13, 14, 15, 16, 17], dtype=uint16)"
      ]
     },
     "execution_count": 36,
     "metadata": {},
     "output_type": "execute_result"
    }
   ],
   "source": [
    "np.unique(arr[61])"
   ]
  },
  {
   "cell_type": "code",
   "execution_count": 19,
   "id": "136d53ad-c9f8-41bd-9068-2454f44677dd",
   "metadata": {},
   "outputs": [
    {
     "data": {
      "text/plain": [
       "<matplotlib.image.AxesImage at 0x7f40653939d0>"
      ]
     },
     "execution_count": 19,
     "metadata": {},
     "output_type": "execute_result"
    },
    {
     "data": {
      "image/png": "[encoded data removed]",
      "text/plain": [
       "<Figure size 640x480 with 1 Axes>"
      ]
     },
     "metadata": {},
     "output_type": "display_data"
    }
   ],
   "source": [
    "plt.imshow(arr[61]==15)"
   ]
  },
  {
   "cell_type": "code",
   "execution_count": 20,
   "id": "794047a6-a255-4bc2-98ab-fba46096078e",
   "metadata": {},
   "outputs": [
    {
     "data": {
      "text/plain": [
       "<matplotlib.image.AxesImage at 0x7f4064a442b0>"
      ]
     },
     "execution_count": 20,
     "metadata": {},
     "output_type": "execute_result"
    },
    {
     "data": {
      "image/png": "[encoded data removed]",
      "text/plain": [
       "<Figure size 640x480 with 1 Axes>"
      ]
     },
     "metadata": {},
     "output_type": "display_data"
    }
   ],
   "source": [
    "plt.imshow(arr[74]==15)"
   ]
  },
  {
   "cell_type": "code",
   "execution_count": null,
   "id": "53fb19a9-e4ea-4733-be99-fed1cc96db08",
   "metadata": {},
   "outputs": [],
   "source": []
  },
  {
   "cell_type": "code",
   "execution_count": 38,
   "id": "c3293f94-5f7e-412f-92d9-8c4794869cee",
   "metadata": {},
   "outputs": [],
   "source": [
    "# import cv2\n",
    "# import shapely\n",
    "\n",
    "# def make_polyshape(feat):\n",
    "    \n",
    "#     if len(feat)>1:\n",
    "#         return shapely.Polygon(shell=feat[0],holes=feat[1:])\n",
    "#     else:\n",
    "#         # print(feat)\n",
    "#         pass\n",
    "#     return shapely.Polygon(feat[0])\n",
    "\n",
    "# def mask_to_shapes(msk):\n",
    "#     contours,hier=cv2.findContours( msk.astype(np.uint8),cv2.RETR_CCOMP,cv2.CHAIN_APPROX_SIMPLE)\n",
    "#     features, _ = get_features(contours, hier)\n",
    "\n",
    "#     shapes = []\n",
    "#     for feat in features:\n",
    "#         try:\n",
    "#             shapes.append(make_polyshape(feat))\n",
    "#         except Exception as ex:\n",
    "#             print('make polyshape error',ex)\n",
    "#     return shapes\n",
    "    \n",
    "# def labelmap_to_shapes(lmap):\n",
    "#     shapes = {}\n",
    "#     for clr in np.unique(lmap):\n",
    "#         if clr==0:\n",
    "#             continue\n",
    "    \n",
    "#         shapes[clr] = mask_to_shapes(lmap==clr)\n",
    "#     return shapes\n",
    "\n",
    "# def get_features(contours, hier):\n",
    "#     polygons = []\n",
    "#     features = []\n",
    "#     outer = np.where(hier[0,:,3]==-1)[0]\n",
    "#     for outerid in outer:\n",
    "#         feat = [contours[outerid].squeeze()]\n",
    "#         innerids = []\n",
    "#         for innerid in np.where(hier[0,:,3]==outerid)[0]:\n",
    "#             innerids.append(innerid)\n",
    "#             feat.append(contours[innerid].squeeze())\n",
    "            \n",
    "#         polygons.append({'outer':outerid,'inner':innerids})\n",
    "#         features.append(feat)\n",
    "#     return features, polygons"
   ]
  },
  {
   "cell_type": "code",
   "execution_count": 261,
   "id": "31d115ad-678c-413b-869e-df1e75b793dd",
   "metadata": {},
   "outputs": [],
   "source": [
    "from contour_functions import  nearest_shape , labelmap_to_shapes, make_polyshape"
   ]
  },
  {
   "cell_type": "code",
   "execution_count": 25,
   "id": "d913237a-1c8e-4b08-a7cb-648eb4816753",
   "metadata": {},
   "outputs": [
    {
     "name": "stdout",
     "output_type": "stream",
     "text": [
      "make polyshape error linearrings: Input operand 0 does not have enough dimensions (has 1, gufunc core with signature (i, d)->() requires 2)\n",
      "make polyshape error linearrings: Input operand 0 does not have enough dimensions (has 1, gufunc core with signature (i, d)->() requires 2)\n"
     ]
    }
   ],
   "source": [
    "shapes_61 = labelmap_to_shapes(arr[61])\n",
    "shapes_74 = labelmap_to_shapes(arr[74])"
   ]
  },
  {
   "cell_type": "code",
   "execution_count": 41,
   "id": "2d201dce-7385-46dd-9965-4e63484edf58",
   "metadata": {},
   "outputs": [
    {
     "data": {
      "text/plain": [
       "5"
      ]
     },
     "execution_count": 41,
     "metadata": {},
     "output_type": "execute_result"
    }
   ],
   "source": [
    "len(shapes_61)"
   ]
  },
  {
   "cell_type": "code",
   "execution_count": 42,
   "id": "20d6ffbe-94ed-4c71-a3f2-4f2900161b72",
   "metadata": {},
   "outputs": [
    {
     "data": {
      "text/plain": [
       "5"
      ]
     },
     "execution_count": 42,
     "metadata": {},
     "output_type": "execute_result"
    }
   ],
   "source": [
    "len(shapes_74)"
   ]
  },
  {
   "cell_type": "code",
   "execution_count": 43,
   "id": "85009678-fef9-4336-9a0e-6220e90a01b0",
   "metadata": {},
   "outputs": [
    {
     "data": {
      "text/plain": [
       "dict_keys([13, 14, 15, 16, 17])"
      ]
     },
     "execution_count": 43,
     "metadata": {},
     "output_type": "execute_result"
    }
   ],
   "source": [
    "shapes_61.keys()"
   ]
  },
  {
   "cell_type": "code",
   "execution_count": 44,
   "id": "5a9e60ec-6dad-4711-8240-5cd170509a82",
   "metadata": {},
   "outputs": [
    {
     "data": {
      "text/plain": [
       "[11, 2, 2, 2, 2]"
      ]
     },
     "execution_count": 44,
     "metadata": {},
     "output_type": "execute_result"
    }
   ],
   "source": [
    "[len(shapes_61[x]) for x in shapes_61]"
   ]
  },
  {
   "cell_type": "code",
   "execution_count": 27,
   "id": "48559c72-d515-4a29-aace-07f41dcc9f1a",
   "metadata": {},
   "outputs": [],
   "source": [
    "nr,_ = nearest_shape(shapes_61[15][0], shapes_74[15])"
   ]
  },
  {
   "cell_type": "code",
   "execution_count": 356,
   "id": "0679e682-bd9e-46fd-b040-38b7b929c0c1",
   "metadata": {},
   "outputs": [],
   "source": [
    "def boundarymask(contour):\n",
    "    msk = np.zeros([4000,4000],bool)\n",
    "    r = contour[:,1]\n",
    "    c = contour[:,0]\n",
    "    rr,cc = skdraw.polygon_perimeter(r,c,msk.shape,clip=True)\n",
    "    msk[rr,cc]=1\n",
    "    return msk\n",
    "    \n",
    "def morph_contour(fromcontour, tocontour, fromnum, tonum, internum):\n",
    "    \n",
    "    # frommsk = boundarymask(fromcontour)\n",
    "    \n",
    "    tomsk = boundarymask(tocontour)\n",
    "    # plt.subplot(1,3,1)\n",
    "    # plt.imshow(frommsk)\n",
    "    # plt.subplot(1,3,2)\n",
    "    # plt.imshow(tomsk)\n",
    "    \n",
    "    assert tonum > fromnum\n",
    "    assert internum > fromnum and internum < tonum\n",
    "    \n",
    "    nsteps = tonum-fromnum+1\n",
    "    stepnum = internum-fromnum\n",
    "    \n",
    "    distmap,distidx = scipy.ndimage.distance_transform_edt(~tomsk,return_indices=True)\n",
    "    # plt.subplot(1,3,3)\n",
    "    # plt.imshow(distmap)\n",
    "    \n",
    "    pairs = []\n",
    "    widthlist = []\n",
    "    newpts = []\n",
    "    \n",
    "    for pt in fromcontour:\n",
    "        pairpt = distidx[:,pt[1],pt[0]].T.squeeze()[::-1].tolist() # maintain x,y notation\n",
    "        pairs.append((pt,pairpt))\n",
    "        u = np.array(pairpt-pt)\n",
    "        m = scipy.linalg.norm(u)\n",
    "        widthlist.append(m)\n",
    "        if m==0:\n",
    "            newpts.append(pt)\n",
    "        else:\n",
    "            u = u/m\n",
    "            newpt = np.array(pt) + u*m/nsteps*stepnum\n",
    "            newpts.append(newpt)\n",
    "\n",
    "    return np.array(newpts), pairs, widthlist\n",
    "    \n",
    "    \n",
    "                        \n",
    "def morph_shape(fromshape, toshape, fromnum, tonum, internum):\n",
    "    \n",
    "    extfrom=np.array(fromshape.exterior.xy).T.astype(int)\n",
    "    extto=np.array(toshape.exterior.xy).T.astype(int)\n",
    "\n",
    "    newext,pairs,widthlist = morph_contour(extfrom, extto, fromnum, tonum, internum)\n",
    "    # print(pairs)\n",
    "    # print(widthlist)\n",
    "    intfrom = np.vstack([np.array(elt.xy).T.astype(int) for elt in fromshape.interiors])\n",
    "    intto = np.vstack([np.array(elt.xy).T.astype(int) for elt in toshape.interiors])\n",
    "\n",
    "    # print(len(intfrom), len(intto))\n",
    "    newint, pairs2, widthlist2 = morph_contour(intfrom, intto, fromnum, tonum, internum)\n",
    "    \n",
    "    return make_polyshape([newext, newint])\n",
    "    \n",
    "\n",
    "    \n",
    "    "
   ]
  },
  {
   "cell_type": "code",
   "execution_count": 357,
   "id": "321a9fe6-c179-430c-a365-b60fbc7c9d43",
   "metadata": {},
   "outputs": [],
   "source": [
    "shp1=shapes_61[15][0]"
   ]
  },
  {
   "cell_type": "code",
   "execution_count": 358,
   "id": "e9d10db1-d921-4eb6-a233-1dec26bece84",
   "metadata": {},
   "outputs": [],
   "source": [
    "newshp = morph_shape(shp1,nr,61,74,65)"
   ]
  },
  {
   "cell_type": "code",
   "execution_count": 359,
   "id": "017498c3-5404-4eb5-a0bc-4f0d814b3352",
   "metadata": {},
   "outputs": [],
   "source": [
    "import shapely"
   ]
  },
  {
   "cell_type": "code",
   "execution_count": 360,
   "id": "1ff85658-6924-4633-bdcb-5cf292c42c3e",
   "metadata": {},
   "outputs": [
    {
     "data": {
      "text/plain": [
       "shapely.geometry.polygon.LinearRing"
      ]
     },
     "execution_count": 360,
     "metadata": {},
     "output_type": "execute_result"
    }
   ],
   "source": [
    "type(shp1.exterior)"
   ]
  },
  {
   "cell_type": "code",
   "execution_count": 361,
   "id": "60ae0b4a-9eab-438e-a0bc-7449bf68de28",
   "metadata": {},
   "outputs": [
    {
     "data": {
      "text/plain": [
       "<matplotlib.patches.PathPatch at 0x7f36f8c5efd0>"
      ]
     },
     "execution_count": 361,
     "metadata": {},
     "output_type": "execute_result"
    },
    {
     "data": {
      "image/png": "[encoded data removed]",
      "text/plain": [
       "<Figure size 640x480 with 1 Axes>"
      ]
     },
     "metadata": {},
     "output_type": "display_data"
    }
   ],
   "source": [
    "from shapely import plotting as shpplot\n",
    "# plt.subplot(1,2,1)\n",
    "shpplot.plot_polygon(shp1,add_points=False)\n",
    "shpplot.plot_polygon(nr,add_points=False,color='r')\n",
    "\n",
    "# plt.subplot(1,2,2)\n",
    "shpplot.plot_polygon(newshp,add_points=False, color='g')"
   ]
  },
  {
   "cell_type": "code",
   "execution_count": 29,
   "id": "9c30b2ba-2c7c-49e3-9ba6-fb7598588ff6",
   "metadata": {},
   "outputs": [],
   "source": [
    "from skimage import draw as skdraw"
   ]
  },
  {
   "cell_type": "code",
   "execution_count": 257,
   "id": "942049e7-1c6d-4200-b12b-d64397d5e2be",
   "metadata": {},
   "outputs": [
    {
     "data": {
      "text/plain": [
       "(1824.0, 838.0)"
      ]
     },
     "execution_count": 257,
     "metadata": {},
     "output_type": "execute_result"
    }
   ],
   "source": [
    "shapes_61[15][0].interiors[0].coords[0]"
   ]
  },
  {
   "cell_type": "code",
   "execution_count": 47,
   "id": "4304bf5d-4f40-4353-adb4-5e13064357b3",
   "metadata": {},
   "outputs": [],
   "source": [
    "xy61=np.array(shapes_61[15][0].exterior.xy).T.astype(int)\n",
    "xy74=np.array(nr.exterior.xy).T.astype(int)"
   ]
  },
  {
   "cell_type": "code",
   "execution_count": null,
   "id": "d8a58bf7-a419-4b4b-b1fe-4f09f454ff34",
   "metadata": {},
   "outputs": [],
   "source": []
  },
  {
   "cell_type": "code",
   "execution_count": 48,
   "id": "a4b439a9-7853-440e-a0df-fdc60a310c8b",
   "metadata": {},
   "outputs": [],
   "source": [
    "\n",
    "msk61=skdraw.polygon2mask([4000,4000], np.fliplr(xy61))>0\n",
    "msk74=skdraw.polygon2mask([4000,4000], np.fliplr(xy74))>0"
   ]
  },
  {
   "cell_type": "code",
   "execution_count": 161,
   "id": "9bb28bfe-30a1-46d5-bb49-2ebeffed3438",
   "metadata": {},
   "outputs": [],
   "source": [
    "combined = np.ones((4000,4000), dtype=float)*3\n",
    "combined[msk74]=1\n",
    "combined[msk61]=2"
   ]
  },
  {
   "cell_type": "code",
   "execution_count": 188,
   "id": "9b9d96b8-a7b7-4aec-98dd-cbe87e6f4a85",
   "metadata": {},
   "outputs": [],
   "source": [
    "inters = msk74&~msk61"
   ]
  },
  {
   "cell_type": "code",
   "execution_count": 211,
   "id": "431ac00b-a1e1-4c2d-a1f0-b23f62f27f6b",
   "metadata": {},
   "outputs": [],
   "source": [
    "distmap,distidx = scipy.ndimage.distance_transform_edt(msk74,return_indices=True)"
   ]
  },
  {
   "cell_type": "code",
   "execution_count": 212,
   "id": "62183d12-7db7-4c3e-926f-6f5cb139e836",
   "metadata": {},
   "outputs": [
    {
     "data": {
      "text/plain": [
       "<matplotlib.image.AxesImage at 0x7f38e90be700>"
      ]
     },
     "execution_count": 212,
     "metadata": {},
     "output_type": "execute_result"
    },
    {
     "data": {
      "image/png": "[encoded data removed]",
      "text/plain": [
       "<Figure size 640x480 with 1 Axes>"
      ]
     },
     "metadata": {},
     "output_type": "display_data"
    }
   ],
   "source": [
    "plt.imshow(distmap)"
   ]
  },
  {
   "cell_type": "code",
   "execution_count": 239,
   "id": "f2b128ed-698c-4f10-af94-d93f869a4e32",
   "metadata": {},
   "outputs": [],
   "source": [
    "pair_from_61 = []\n",
    "widthlist = []\n",
    "newpts = []\n",
    "for pt in xy61:\n",
    "    pairpt = distidx[:,pt[1],pt[0]].T.squeeze()[::-1].tolist()\n",
    "    pair_from_61.append((pt,pairpt))\n",
    "    u = np.array(pairpt-pt)\n",
    "    m = scipy.linalg.norm(u)\n",
    "    widthlist.append(m)\n",
    "    if m==0:\n",
    "        newpts.append(pt)\n",
    "    else:\n",
    "        u = u/m\n",
    "        newpt = np.array(pt) + u*m/13*3\n",
    "        newpts.append(newpt)\n",
    "    "
   ]
  },
  {
   "cell_type": "code",
   "execution_count": 246,
   "id": "c023c64c-9120-4c1d-8aa8-6b114cc81ea2",
   "metadata": {},
   "outputs": [],
   "source": [
    "newpts = np.array(newpts)"
   ]
  },
  {
   "cell_type": "code",
   "execution_count": 247,
   "id": "5ced6272-531c-4725-ae3a-e8aefa1ad93a",
   "metadata": {},
   "outputs": [
    {
     "data": {
      "text/plain": [
       "(3361, 2)"
      ]
     },
     "execution_count": 247,
     "metadata": {},
     "output_type": "execute_result"
    }
   ],
   "source": [
    "newpts.shape"
   ]
  },
  {
   "cell_type": "code",
   "execution_count": 250,
   "id": "1ab961be-fa6f-4256-bd28-e07264653156",
   "metadata": {},
   "outputs": [
    {
     "data": {
      "text/plain": [
       "[<matplotlib.lines.Line2D at 0x7f36f96d6580>]"
      ]
     },
     "execution_count": 250,
     "metadata": {},
     "output_type": "execute_result"
    },
    {
     "data": {
      "image/png": "[encoded data removed]",
      "text/plain": [
       "<Figure size 640x480 with 1 Axes>"
      ]
     },
     "metadata": {},
     "output_type": "display_data"
    }
   ],
   "source": [
    "plt.plot(newpts[:,0],newpts[:,1],'-')\n",
    "plt.plot(xy61[:,0],xy61[:,1])\n",
    "plt.plot(xy74[:,0],xy74[:,1])"
   ]
  },
  {
   "cell_type": "code",
   "execution_count": 235,
   "id": "c4e04fdb-d649-4399-b421-2e6a2e78b668",
   "metadata": {
    "scrolled": true
   },
   "outputs": [
    {
     "data": {
      "text/plain": [
       "[(array([1778,  733]), [1778, 663]),\n",
       " (array([1777,  734]), [1777, 663]),\n",
       " (array([1776,  734]), [1776, 663]),\n",
       " (array([1775,  734]), [1775, 663]),\n",
       " (array([1774,  734]), [1774, 663]),\n",
       " (array([1773,  734]), [1773, 663]),\n",
       " (array([1772,  734]), [1772, 663]),\n",
       " (array([1771,  734]), [1771, 663]),\n",
       " (array([1770,  735]), [1770, 663]),\n",
       " (array([1769,  735]), [1769, 663]),\n",
       " (array([1768,  735]), [1768, 663]),\n",
       " (array([1767,  735]), [1767, 663]),\n",
       " (array([1766,  735]), [1766, 663]),\n",
       " (array([1765,  735]), [1765, 663]),\n",
       " (array([1764,  735]), [1764, 663]),\n",
       " (array([1763,  736]), [1763, 663]),\n",
       " (array([1762,  736]), [1762, 663]),\n",
       " (array([1761,  736]), [1761, 663]),\n",
       " (array([1760,  736]), [1760, 663]),\n",
       " (array([1759,  736]), [1759, 663]),\n",
       " (array([1758,  736]), [1758, 663]),\n",
       " (array([1757,  736]), [1745, 664]),\n",
       " (array([1756,  736]), [1745, 664]),\n",
       " (array([1755,  737]), [1745, 664]),\n",
       " (array([1754,  737]), [1745, 664]),\n",
       " (array([1753,  737]), [1745, 664]),\n",
       " (array([1752,  737]), [1745, 664]),\n",
       " (array([1751,  737]), [1745, 664]),\n",
       " (array([1750,  737]), [1745, 664]),\n",
       " (array([1749,  737]), [1745, 664]),\n",
       " (array([1748,  738]), [1745, 664]),\n",
       " (array([1747,  738]), [1735, 665]),\n",
       " (array([1746,  738]), [1735, 665]),\n",
       " (array([1745,  738]), [1735, 665]),\n",
       " (array([1744,  738]), [1735, 665]),\n",
       " (array([1743,  738]), [1735, 665]),\n",
       " (array([1742,  739]), [1735, 665]),\n",
       " (array([1741,  739]), [1735, 665]),\n",
       " (array([1740,  739]), [1735, 665]),\n",
       " (array([1739,  740]), [1735, 665]),\n",
       " (array([1738,  740]), [1726, 666]),\n",
       " (array([1737,  740]), [1726, 666]),\n",
       " (array([1736,  741]), [1726, 666]),\n",
       " (array([1735,  741]), [1716, 668]),\n",
       " (array([1734,  741]), [1716, 668]),\n",
       " (array([1733,  742]), [1716, 668]),\n",
       " (array([1732,  742]), [1712, 669]),\n",
       " (array([1731,  742]), [1712, 669]),\n",
       " (array([1730,  743]), [1712, 669]),\n",
       " (array([1729,  743]), [1712, 669]),\n",
       " (array([1728,  743]), [1712, 669]),\n",
       " (array([1727,  744]), [1712, 669]),\n",
       " (array([1726,  744]), [1712, 669]),\n",
       " (array([1725,  744]), [1712, 669]),\n",
       " (array([1724,  745]), [1707, 670]),\n",
       " (array([1723,  745]), [1703, 671]),\n",
       " (array([1722,  745]), [1703, 671]),\n",
       " (array([1721,  746]), [1703, 671]),\n",
       " (array([1720,  746]), [1703, 671]),\n",
       " (array([1719,  746]), [1699, 672]),\n",
       " (array([1718,  747]), [1699, 672]),\n",
       " (array([1717,  747]), [1699, 672]),\n",
       " (array([1716,  747]), [1689, 675]),\n",
       " (array([1715,  748]), [1684, 677]),\n",
       " (array([1714,  748]), [1684, 677]),\n",
       " (array([1713,  748]), [1684, 677]),\n",
       " (array([1712,  749]), [1684, 677]),\n",
       " (array([1711,  749]), [1684, 677]),\n",
       " (array([1710,  750]), [1684, 677]),\n",
       " (array([1709,  750]), [1684, 677]),\n",
       " (array([1708,  750]), [1684, 677]),\n",
       " (array([1707,  751]), [1681, 678]),\n",
       " (array([1706,  751]), [1681, 678]),\n",
       " (array([1705,  751]), [1681, 678]),\n",
       " (array([1704,  752]), [1678, 679]),\n",
       " (array([1703,  752]), [1678, 679]),\n",
       " (array([1702,  752]), [1678, 679]),\n",
       " (array([1701,  753]), [1675, 680]),\n",
       " (array([1700,  753]), [1675, 680]),\n",
       " (array([1699,  753]), [1675, 680]),\n",
       " (array([1698,  754]), [1665, 684]),\n",
       " (array([1697,  754]), [1665, 684]),\n",
       " (array([1696,  754]), [1665, 684]),\n",
       " (array([1695,  755]), [1665, 684]),\n",
       " (array([1694,  755]), [1665, 684]),\n",
       " (array([1693,  755]), [1665, 684]),\n",
       " (array([1692,  756]), [1665, 684]),\n",
       " (array([1691,  756]), [1665, 684]),\n",
       " (array([1690,  757]), [1665, 684]),\n",
       " (array([1689,  757]), [1665, 684]),\n",
       " (array([1688,  758]), [1665, 684]),\n",
       " (array([1687,  759]), [1665, 684]),\n",
       " (array([1686,  759]), [1665, 684]),\n",
       " (array([1685,  760]), [1648, 691]),\n",
       " (array([1684,  760]), [1648, 691]),\n",
       " (array([1683,  761]), [1648, 691]),\n",
       " (array([1682,  762]), [1648, 691]),\n",
       " (array([1681,  762]), [1648, 691]),\n",
       " (array([1680,  763]), [1648, 691]),\n",
       " (array([1679,  764]), [1648, 691]),\n",
       " (array([1678,  764]), [1648, 691]),\n",
       " (array([1677,  765]), [1648, 691]),\n",
       " (array([1676,  766]), [1648, 691]),\n",
       " (array([1675,  766]), [1648, 691]),\n",
       " (array([1674,  767]), [1648, 691]),\n",
       " (array([1673,  768]), [1648, 691]),\n",
       " (array([1672,  768]), [1648, 691]),\n",
       " (array([1671,  769]), [1628, 700]),\n",
       " (array([1670,  770]), [1628, 700]),\n",
       " (array([1669,  770]), [1628, 700]),\n",
       " (array([1668,  771]), [1628, 700]),\n",
       " (array([1667,  771]), [1628, 700]),\n",
       " (array([1666,  772]), [1628, 700]),\n",
       " (array([1665,  773]), [1628, 700]),\n",
       " (array([1664,  773]), [1628, 700]),\n",
       " (array([1663,  774]), [1615, 708]),\n",
       " (array([1662,  775]), [1611, 711]),\n",
       " (array([1661,  775]), [1611, 711]),\n",
       " (array([1660,  776]), [1611, 711]),\n",
       " (array([1659,  777]), [1611, 711]),\n",
       " (array([1658,  777]), [1611, 711]),\n",
       " (array([1657,  778]), [1611, 711]),\n",
       " (array([1656,  779]), [1611, 711]),\n",
       " (array([1655,  779]), [1611, 711]),\n",
       " (array([1654,  780]), [1611, 711]),\n",
       " (array([1653,  781]), [1611, 711]),\n",
       " (array([1652,  781]), [1611, 711]),\n",
       " (array([1651,  781]), [1611, 711]),\n",
       " (array([1650,  782]), [1611, 711]),\n",
       " (array([1649,  782]), [1611, 711]),\n",
       " (array([1648,  782]), [1611, 711]),\n",
       " (array([1647,  782]), [1611, 711]),\n",
       " (array([1646,  782]), [1611, 711]),\n",
       " (array([1645,  782]), [1611, 711]),\n",
       " (array([1644,  782]), [1611, 711]),\n",
       " (array([1643,  783]), [1611, 711]),\n",
       " (array([1642,  783]), [1611, 711]),\n",
       " (array([1641,  783]), [1611, 711]),\n",
       " (array([1640,  783]), [1592, 722]),\n",
       " (array([1639,  783]), [1592, 722]),\n",
       " (array([1638,  783]), [1585, 728]),\n",
       " (array([1637,  784]), [1585, 728]),\n",
       " (array([1636,  784]), [1585, 728]),\n",
       " (array([1635,  784]), [1585, 728]),\n",
       " (array([1634,  784]), [1585, 728]),\n",
       " (array([1633,  784]), [1585, 728]),\n",
       " (array([1632,  784]), [1585, 728]),\n",
       " (array([1631,  785]), [1585, 728]),\n",
       " (array([1630,  785]), [1585, 728]),\n",
       " (array([1629,  785]), [1585, 728]),\n",
       " (array([1628,  785]), [1585, 728]),\n",
       " (array([1627,  785]), [1585, 728]),\n",
       " (array([1626,  785]), [1585, 728]),\n",
       " (array([1625,  786]), [1585, 728]),\n",
       " (array([1624,  786]), [1585, 728]),\n",
       " (array([1623,  786]), [1585, 728]),\n",
       " (array([1622,  786]), [1585, 728]),\n",
       " (array([1621,  786]), [1585, 728]),\n",
       " (array([1620,  786]), [1585, 728]),\n",
       " (array([1619,  787]), [1585, 728]),\n",
       " (array([1618,  787]), [1585, 728]),\n",
       " (array([1617,  787]), [1585, 728]),\n",
       " (array([1616,  787]), [1585, 728]),\n",
       " (array([1615,  787]), [1585, 728]),\n",
       " (array([1614,  787]), [1585, 728]),\n",
       " (array([1613,  787]), [1583, 729]),\n",
       " (array([1612,  788]), [1583, 729]),\n",
       " (array([1611,  788]), [1583, 729]),\n",
       " (array([1610,  788]), [1583, 729]),\n",
       " (array([1609,  788]), [1583, 729]),\n",
       " (array([1608,  788]), [1583, 729]),\n",
       " (array([1607,  788]), [1583, 729]),\n",
       " (array([1606,  788]), [1583, 729]),\n",
       " (array([1605,  788]), [1583, 729]),\n",
       " (array([1604,  788]), [1583, 729]),\n",
       " (array([1603,  788]), [1583, 729]),\n",
       " (array([1602,  789]), [1583, 729]),\n",
       " (array([1601,  789]), [1580, 730]),\n",
       " (array([1600,  789]), [1580, 730]),\n",
       " (array([1599,  789]), [1580, 730]),\n",
       " (array([1598,  789]), [1580, 730]),\n",
       " (array([1597,  789]), [1580, 730]),\n",
       " (array([1596,  789]), [1580, 730]),\n",
       " (array([1595,  789]), [1580, 730]),\n",
       " (array([1594,  789]), [1580, 730]),\n",
       " (array([1593,  789]), [1573, 732]),\n",
       " (array([1592,  790]), [1573, 732]),\n",
       " (array([1591,  790]), [1573, 732]),\n",
       " (array([1590,  790]), [1570, 733]),\n",
       " (array([1589,  790]), [1570, 733]),\n",
       " (array([1588,  790]), [1570, 733]),\n",
       " (array([1587,  790]), [1570, 733]),\n",
       " (array([1586,  790]), [1570, 733]),\n",
       " (array([1585,  790]), [1570, 733]),\n",
       " (array([1584,  790]), [1570, 733]),\n",
       " (array([1583,  791]), [1570, 733]),\n",
       " (array([1582,  791]), [1566, 734]),\n",
       " (array([1581,  791]), [1566, 734]),\n",
       " (array([1580,  791]), [1566, 734]),\n",
       " (array([1579,  791]), [1566, 734]),\n",
       " (array([1578,  791]), [1566, 734]),\n",
       " (array([1577,  791]), [1566, 734]),\n",
       " (array([1576,  791]), [1566, 734]),\n",
       " (array([1575,  791]), [1566, 734]),\n",
       " (array([1574,  791]), [1566, 734]),\n",
       " (array([1573,  792]), [1566, 734]),\n",
       " (array([1572,  792]), [1566, 734]),\n",
       " (array([1571,  792]), [1566, 734]),\n",
       " (array([1570,  792]), [1559, 735]),\n",
       " (array([1569,  792]), [1559, 735]),\n",
       " (array([1568,  793]), [1559, 735]),\n",
       " (array([1567,  793]), [1559, 735]),\n",
       " (array([1566,  793]), [1559, 735]),\n",
       " (array([1565,  793]), [1553, 736]),\n",
       " (array([1564,  793]), [1553, 736]),\n",
       " (array([1563,  794]), [1553, 736]),\n",
       " (array([1562,  794]), [1553, 736]),\n",
       " (array([1561,  794]), [1553, 736]),\n",
       " (array([1560,  794]), [1553, 736]),\n",
       " (array([1559,  794]), [1540, 739]),\n",
       " (array([1558,  794]), [1540, 739]),\n",
       " (array([1557,  795]), [1537, 740]),\n",
       " (array([1556,  795]), [1537, 740]),\n",
       " (array([1555,  795]), [1537, 740]),\n",
       " (array([1554,  795]), [1537, 740]),\n",
       " (array([1553,  795]), [1534, 741]),\n",
       " (array([1552,  796]), [1534, 741]),\n",
       " (array([1551,  796]), [1534, 741]),\n",
       " (array([1550,  796]), [1531, 742]),\n",
       " (array([1549,  796]), [1531, 742]),\n",
       " (array([1548,  796]), [1531, 742]),\n",
       " (array([1547,  797]), [1528, 743]),\n",
       " (array([1546,  797]), [1528, 743]),\n",
       " (array([1545,  797]), [1528, 743]),\n",
       " (array([1544,  797]), [1525, 744]),\n",
       " (array([1543,  797]), [1525, 744]),\n",
       " (array([1542,  797]), [1525, 744]),\n",
       " (array([1541,  798]), [1525, 744]),\n",
       " (array([1540,  798]), [1525, 744]),\n",
       " (array([1539,  798]), [1525, 744]),\n",
       " (array([1538,  798]), [1525, 744]),\n",
       " (array([1537,  799]), [1525, 744]),\n",
       " (array([1536,  799]), [1518, 746]),\n",
       " (array([1535,  799]), [1518, 746]),\n",
       " (array([1534,  800]), [1518, 746]),\n",
       " (array([1533,  800]), [1518, 746]),\n",
       " (array([1532,  801]), [1518, 746]),\n",
       " (array([1531,  801]), [1518, 746]),\n",
       " (array([1530,  801]), [1518, 746]),\n",
       " (array([1529,  802]), [1511, 748]),\n",
       " (array([1528,  802]), [1511, 748]),\n",
       " (array([1527,  803]), [1508, 749]),\n",
       " (array([1526,  803]), [1508, 749]),\n",
       " (array([1525,  804]), [1508, 749]),\n",
       " (array([1524,  804]), [1508, 749]),\n",
       " (array([1523,  804]), [1508, 749]),\n",
       " (array([1522,  805]), [1508, 749]),\n",
       " (array([1521,  805]), [1508, 749]),\n",
       " (array([1520,  806]), [1501, 751]),\n",
       " (array([1519,  806]), [1501, 751]),\n",
       " (array([1518,  807]), [1501, 751]),\n",
       " (array([1517,  807]), [1501, 751]),\n",
       " (array([1516,  807]), [1501, 751]),\n",
       " (array([1515,  808]), [1501, 751]),\n",
       " (array([1514,  808]), [1501, 751]),\n",
       " (array([1513,  809]), [1494, 753]),\n",
       " (array([1512,  809]), [1494, 753]),\n",
       " (array([1511,  810]), [1494, 753]),\n",
       " (array([1510,  811]), [1494, 753]),\n",
       " (array([1509,  812]), [1494, 753]),\n",
       " (array([1508,  813]), [1494, 753]),\n",
       " (array([1507,  813]), [1487, 755]),\n",
       " (array([1506,  814]), [1487, 755]),\n",
       " (array([1505,  815]), [1487, 755]),\n",
       " (array([1504,  816]), [1487, 755]),\n",
       " (array([1503,  817]), [1487, 755]),\n",
       " (array([1502,  818]), [1487, 755]),\n",
       " (array([1501,  818]), [1473, 760]),\n",
       " (array([1500,  819]), [1471, 761]),\n",
       " (array([1499,  820]), [1469, 762]),\n",
       " (array([1498,  821]), [1469, 762]),\n",
       " (array([1497,  822]), [1467, 763]),\n",
       " (array([1496,  822]), [1467, 763]),\n",
       " (array([1495,  823]), [1465, 764]),\n",
       " (array([1494,  824]), [1465, 764]),\n",
       " (array([1493,  825]), [1463, 765]),\n",
       " (array([1492,  826]), [1461, 766]),\n",
       " (array([1491,  826]), [1461, 766]),\n",
       " (array([1490,  827]), [1459, 767]),\n",
       " (array([1489,  828]), [1459, 767]),\n",
       " (array([1488,  829]), [1457, 768]),\n",
       " (array([1487,  830]), [1457, 768]),\n",
       " (array([1486,  831]), [1455, 769]),\n",
       " (array([1485,  831]), [1455, 769]),\n",
       " (array([1484,  832]), [1453, 770]),\n",
       " (array([1483,  833]), [1451, 771]),\n",
       " (array([1482,  834]), [1451, 771]),\n",
       " (array([1481,  835]), [1449, 772]),\n",
       " (array([1480,  836]), [1449, 772]),\n",
       " (array([1479,  837]), [1447, 773]),\n",
       " (array([1478,  837]), [1447, 773]),\n",
       " (array([1477,  838]), [1447, 773]),\n",
       " (array([1476,  839]), [1447, 773]),\n",
       " (array([1475,  840]), [1424, 789]),\n",
       " (array([1474,  841]), [1423, 790]),\n",
       " (array([1473,  842]), [1422, 791]),\n",
       " (array([1472,  843]), [1421, 792]),\n",
       " (array([1471,  844]), [1420, 793]),\n",
       " (array([1470,  844]), [1419, 794]),\n",
       " (array([1469,  845]), [1418, 795]),\n",
       " (array([1468,  846]), [1417, 796]),\n",
       " (array([1467,  847]), [1416, 797]),\n",
       " (array([1466,  848]), [1415, 798]),\n",
       " (array([1465,  849]), [1414, 799]),\n",
       " (array([1464,  850]), [1413, 800]),\n",
       " (array([1463,  851]), [1412, 801]),\n",
       " (array([1462,  852]), [1411, 802]),\n",
       " (array([1461,  852]), [1411, 802]),\n",
       " (array([1460,  853]), [1410, 803]),\n",
       " (array([1459,  854]), [1409, 804]),\n",
       " (array([1458,  855]), [1408, 805]),\n",
       " (array([1457,  856]), [1407, 806]),\n",
       " (array([1456,  857]), [1406, 807]),\n",
       " (array([1455,  858]), [1405, 808]),\n",
       " (array([1454,  859]), [1404, 809]),\n",
       " (array([1453,  860]), [1403, 810]),\n",
       " (array([1452,  860]), [1396, 818]),\n",
       " (array([1451,  861]), [1396, 818]),\n",
       " (array([1450,  862]), [1393, 822]),\n",
       " (array([1449,  863]), [1393, 822]),\n",
       " (array([1448,  864]), [1393, 822]),\n",
       " (array([1447,  865]), [1393, 822]),\n",
       " (array([1446,  866]), [1393, 822]),\n",
       " (array([1445,  867]), [1393, 822]),\n",
       " (array([1444,  867]), [1389, 827]),\n",
       " (array([1443,  868]), [1389, 827]),\n",
       " (array([1443,  869]), [1389, 827]),\n",
       " (array([1442,  870]), [1386, 831]),\n",
       " (array([1441,  871]), [1386, 831]),\n",
       " (array([1440,  872]), [1386, 831]),\n",
       " (array([1439,  873]), [1386, 831]),\n",
       " (array([1438,  874]), [1383, 835]),\n",
       " (array([1438,  875]), [1383, 835]),\n",
       " (array([1437,  876]), [1383, 835]),\n",
       " (array([1436,  877]), [1383, 835]),\n",
       " (array([1435,  878]), [1383, 835]),\n",
       " (array([1434,  879]), [1383, 835]),\n",
       " (array([1433,  880]), [1379, 840]),\n",
       " (array([1433,  881]), [1379, 840]),\n",
       " (array([1432,  882]), [1379, 840]),\n",
       " (array([1431,  883]), [1376, 844]),\n",
       " (array([1430,  884]), [1376, 844]),\n",
       " (array([1429,  885]), [1376, 844]),\n",
       " (array([1428,  886]), [1370, 853]),\n",
       " (array([1428,  887]), [1370, 853]),\n",
       " (array([1427,  888]), [1370, 853]),\n",
       " (array([1426,  889]), [1370, 853]),\n",
       " (array([1425,  890]), [1370, 853]),\n",
       " (array([1424,  891]), [1370, 853]),\n",
       " (array([1424,  892]), [1368, 856]),\n",
       " (array([1423,  893]), [1368, 856]),\n",
       " (array([1422,  894]), [1368, 856]),\n",
       " (array([1421,  895]), [1366, 859]),\n",
       " (array([1420,  896]), [1366, 859]),\n",
       " (array([1419,  897]), [1364, 862]),\n",
       " (array([1419,  898]), [1364, 862]),\n",
       " (array([1418,  899]), [1364, 862]),\n",
       " (array([1417,  900]), [1362, 865]),\n",
       " (array([1416,  901]), [1362, 865]),\n",
       " (array([1415,  902]), [1362, 865]),\n",
       " (array([1415,  903]), [1360, 868]),\n",
       " (array([1414,  904]), [1360, 868]),\n",
       " (array([1413,  905]), [1360, 868]),\n",
       " (array([1413,  906]), [1358, 871]),\n",
       " (array([1412,  907]), [1355, 876]),\n",
       " (array([1411,  908]), [1355, 876]),\n",
       " (array([1411,  909]), [1355, 876]),\n",
       " (array([1410,  910]), [1355, 876]),\n",
       " (array([1409,  911]), [1355, 876]),\n",
       " (array([1409,  912]), [1355, 876]),\n",
       " (array([1408,  913]), [1355, 876]),\n",
       " (array([1407,  914]), [1353, 879]),\n",
       " (array([1406,  915]), [1353, 879]),\n",
       " (array([1406,  916]), [1353, 879]),\n",
       " (array([1405,  917]), [1351, 882]),\n",
       " (array([1404,  918]), [1351, 882]),\n",
       " (array([1404,  919]), [1351, 882]),\n",
       " (array([1403,  920]), [1349, 885]),\n",
       " (array([1402,  921]), [1349, 885]),\n",
       " (array([1402,  922]), [1349, 885]),\n",
       " (array([1401,  923]), [1347, 888]),\n",
       " (array([1400,  924]), [1343, 895]),\n",
       " (array([1400,  925]), [1343, 895]),\n",
       " (array([1399,  926]), [1343, 895]),\n",
       " (array([1398,  927]), [1343, 895]),\n",
       " (array([1398,  928]), [1343, 895]),\n",
       " (array([1397,  929]), [1343, 895]),\n",
       " (array([1396,  930]), [1339, 902]),\n",
       " (array([1396,  931]), [1339, 902]),\n",
       " (array([1395,  932]), [1339, 902]),\n",
       " (array([1394,  933]), [1339, 902]),\n",
       " (array([1393,  934]), [1339, 902]),\n",
       " (array([1393,  935]), [1339, 902]),\n",
       " (array([1392,  936]), [1339, 902]),\n",
       " (array([1391,  937]), [1335, 909]),\n",
       " (array([1391,  938]), [1335, 909]),\n",
       " (array([1390,  939]), [1335, 909]),\n",
       " (array([1389,  940]), [1335, 909]),\n",
       " (array([1389,  941]), [1335, 909]),\n",
       " (array([1388,  942]), [1329, 922]),\n",
       " (array([1387,  943]), [1328, 925]),\n",
       " (array([1387,  944]), [1328, 925]),\n",
       " (array([1386,  945]), [1328, 925]),\n",
       " (array([1385,  946]), [1328, 925]),\n",
       " (array([1385,  947]), [1328, 925]),\n",
       " (array([1384,  948]), [1328, 925]),\n",
       " (array([1383,  949]), [1328, 925]),\n",
       " (array([1383,  950]), [1328, 925]),\n",
       " (array([1382,  951]), [1328, 925]),\n",
       " (array([1381,  952]), [1328, 925]),\n",
       " (array([1380,  953]), [1327, 927]),\n",
       " (array([1380,  954]), [1327, 927]),\n",
       " (array([1379,  955]), [1326, 929]),\n",
       " (array([1378,  956]), [1326, 929]),\n",
       " (array([1378,  957]), [1325, 931]),\n",
       " (array([1377,  958]), [1325, 931]),\n",
       " (array([1377,  959]), [1325, 931]),\n",
       " (array([1376,  960]), [1325, 931]),\n",
       " (array([1376,  961]), [1325, 931]),\n",
       " (array([1375,  962]), [1325, 931]),\n",
       " (array([1374,  963]), [1325, 931]),\n",
       " (array([1374,  964]), [1321, 938]),\n",
       " (array([1373,  965]), [1321, 938]),\n",
       " (array([1373,  966]), [1320, 940]),\n",
       " (array([1372,  967]), [1320, 940]),\n",
       " (array([1372,  968]), [1319, 942]),\n",
       " (array([1371,  969]), [1319, 942]),\n",
       " (array([1371,  970]), [1318, 944]),\n",
       " (array([1370,  971]), [1318, 944]),\n",
       " (array([1370,  972]), [1317, 946]),\n",
       " (array([1369,  973]), [1317, 946]),\n",
       " (array([1369,  974]), [1316, 948]),\n",
       " (array([1368,  975]), [1316, 948]),\n",
       " (array([1368,  976]), [1315, 950]),\n",
       " (array([1367,  977]), [1315, 950]),\n",
       " (array([1367,  978]), [1315, 950]),\n",
       " (array([1366,  979]), [1315, 950]),\n",
       " (array([1366,  980]), [1315, 950]),\n",
       " (array([1365,  981]), [1315, 950]),\n",
       " (array([1365,  982]), [1315, 950]),\n",
       " (array([1364,  983]), [1311, 957]),\n",
       " (array([1364,  984]), [1311, 957]),\n",
       " (array([1363,  985]), [1310, 959]),\n",
       " (array([1363,  986]), [1310, 959]),\n",
       " (array([1362,  987]), [1309, 961]),\n",
       " (array([1362,  988]), [1305, 971]),\n",
       " (array([1361,  989]), [1305, 971]),\n",
       " (array([1361,  990]), [1305, 971]),\n",
       " (array([1360,  991]), [1303, 978]),\n",
       " (array([1359,  992]), [1303, 978]),\n",
       " (array([1359,  993]), [1303, 978]),\n",
       " (array([1358,  994]), [1302, 982]),\n",
       " (array([1358,  995]), [1302, 982]),\n",
       " (array([1357,  996]), [1302, 982]),\n",
       " (array([1357,  997]), [1302, 982]),\n",
       " (array([1356,  998]), [1302, 982]),\n",
       " (array([1356,  999]), [1302, 982]),\n",
       " (array([1355, 1000]), [1302, 982]),\n",
       " (array([1355, 1001]), [1300, 989]),\n",
       " (array([1354, 1002]), [1300, 989]),\n",
       " (array([1354, 1003]), [1300, 989]),\n",
       " (array([1353, 1004]), [1300, 989]),\n",
       " (array([1353, 1005]), [1299, 993]),\n",
       " (array([1352, 1006]), [1299, 993]),\n",
       " (array([1352, 1007]), [1299, 993]),\n",
       " (array([1351, 1008]), [1299, 993]),\n",
       " (array([1351, 1009]), [1299, 993]),\n",
       " (array([1350, 1010]), [1299, 993]),\n",
       " (array([1350, 1011]), [1299, 993]),\n",
       " (array([1349, 1012]), [1299, 993]),\n",
       " (array([1349, 1013]), [1299, 993]),\n",
       " (array([1348, 1014]), [1299, 993]),\n",
       " (array([1348, 1015]), [1299, 993]),\n",
       " (array([1347, 1016]), [1299, 993]),\n",
       " (array([1347, 1017]), [1299, 993]),\n",
       " (array([1346, 1018]), [1299, 993]),\n",
       " (array([1346, 1019]), [1299, 993]),\n",
       " (array([1346, 1020]), [1299, 993]),\n",
       " (array([1345, 1021]), [1299, 993]),\n",
       " (array([1345, 1022]), [1299, 993]),\n",
       " (array([1344, 1023]), [1293, 1006]),\n",
       " (array([1344, 1024]), [1293, 1006]),\n",
       " (array([1343, 1025]), [1293, 1006]),\n",
       " (array([1343, 1026]), [1293, 1006]),\n",
       " (array([1343, 1027]), [1293, 1006]),\n",
       " (array([1342, 1028]), [1293, 1006]),\n",
       " (array([1342, 1029]), [1291, 1011]),\n",
       " (array([1341, 1030]), [1290, 1014]),\n",
       " (array([1341, 1031]), [1290, 1014]),\n",
       " (array([1340, 1032]), [1290, 1014]),\n",
       " (array([1340, 1033]), [1289, 1017]),\n",
       " (array([1340, 1034]), [1289, 1017]),\n",
       " (array([1339, 1035]), [1289, 1017]),\n",
       " (array([1339, 1036]), [1289, 1017]),\n",
       " (array([1338, 1037]), [1289, 1017]),\n",
       " (array([1338, 1038]), [1289, 1017]),\n",
       " (array([1337, 1039]), [1289, 1017]),\n",
       " (array([1337, 1040]), [1287, 1022]),\n",
       " (array([1337, 1041]), [1286, 1025]),\n",
       " (array([1336, 1042]), [1286, 1025]),\n",
       " (array([1336, 1043]), [1286, 1025]),\n",
       " (array([1335, 1044]), [1285, 1028]),\n",
       " (array([1335, 1045]), [1285, 1028]),\n",
       " (array([1334, 1046]), [1285, 1028]),\n",
       " (array([1334, 1047]), [1285, 1028]),\n",
       " (array([1334, 1048]), [1285, 1028]),\n",
       " (array([1333, 1049]), [1285, 1028]),\n",
       " (array([1333, 1050]), [1285, 1028]),\n",
       " (array([1332, 1051]), [1282, 1036]),\n",
       " (array([1332, 1052]), [1282, 1036]),\n",
       " (array([1331, 1053]), [1282, 1036]),\n",
       " (array([1331, 1054]), [1281, 1039]),\n",
       " (array([1331, 1055]), [1281, 1039]),\n",
       " (array([1330, 1056]), [1281, 1039]),\n",
       " (array([1330, 1057]), [1281, 1039]),\n",
       " (array([1330, 1058]), [1281, 1039]),\n",
       " (array([1329, 1059]), [1281, 1039]),\n",
       " (array([1329, 1060]), [1281, 1039]),\n",
       " (array([1329, 1061]), [1281, 1039]),\n",
       " (array([1329, 1062]), [1279, 1044]),\n",
       " (array([1328, 1063]), [1278, 1047]),\n",
       " (array([1328, 1064]), [1278, 1047]),\n",
       " (array([1328, 1065]), [1278, 1047]),\n",
       " (array([1327, 1066]), [1278, 1047]),\n",
       " (array([1327, 1067]), [1278, 1047]),\n",
       " (array([1327, 1068]), [1278, 1047]),\n",
       " (array([1327, 1069]), [1278, 1047]),\n",
       " (array([1326, 1070]), [1276, 1052]),\n",
       " (array([1326, 1071]), [1275, 1055]),\n",
       " (array([1326, 1072]), [1275, 1055]),\n",
       " (array([1325, 1073]), [1275, 1055]),\n",
       " (array([1325, 1074]), [1273, 1062]),\n",
       " (array([1325, 1075]), [1273, 1062]),\n",
       " (array([1325, 1076]), [1273, 1062]),\n",
       " (array([1324, 1077]), [1272, 1066]),\n",
       " (array([1324, 1078]), [1272, 1066]),\n",
       " (array([1324, 1079]), [1272, 1066]),\n",
       " (array([1323, 1080]), [1272, 1066]),\n",
       " (array([1323, 1081]), [1271, 1070]),\n",
       " (array([1323, 1082]), [1271, 1070]),\n",
       " (array([1323, 1083]), [1271, 1070]),\n",
       " (array([1322, 1084]), [1271, 1070]),\n",
       " (array([1322, 1085]), [1270, 1074]),\n",
       " (array([1322, 1086]), [1270, 1074]),\n",
       " (array([1322, 1087]), [1270, 1074]),\n",
       " (array([1321, 1088]), [1270, 1074]),\n",
       " (array([1321, 1089]), [1269, 1078]),\n",
       " (array([1321, 1090]), [1269, 1078]),\n",
       " (array([1321, 1091]), [1269, 1078]),\n",
       " (array([1320, 1092]), [1269, 1078]),\n",
       " (array([1320, 1093]), [1268, 1082]),\n",
       " (array([1320, 1094]), [1268, 1082]),\n",
       " (array([1320, 1095]), [1268, 1082]),\n",
       " (array([1319, 1096]), [1268, 1082]),\n",
       " (array([1319, 1097]), [1267, 1086]),\n",
       " (array([1319, 1098]), [1267, 1086]),\n",
       " (array([1319, 1099]), [1267, 1086]),\n",
       " (array([1318, 1100]), [1267, 1086]),\n",
       " (array([1318, 1101]), [1266, 1090]),\n",
       " (array([1318, 1102]), [1266, 1090]),\n",
       " (array([1318, 1103]), [1266, 1090]),\n",
       " (array([1317, 1104]), [1266, 1090]),\n",
       " (array([1317, 1105]), [1265, 1094]),\n",
       " (array([1317, 1106]), [1265, 1094]),\n",
       " (array([1317, 1107]), [1265, 1094]),\n",
       " (array([1316, 1108]), [1265, 1094]),\n",
       " (array([1316, 1109]), [1265, 1094]),\n",
       " (array([1316, 1110]), [1265, 1094]),\n",
       " (array([1316, 1111]), [1265, 1094]),\n",
       " (array([1315, 1112]), [1265, 1094]),\n",
       " (array([1315, 1113]), [1263, 1101]),\n",
       " (array([1315, 1114]), [1263, 1101]),\n",
       " (array([1315, 1115]), [1263, 1101]),\n",
       " (array([1315, 1116]), [1263, 1101]),\n",
       " (array([1314, 1117]), [1262, 1105]),\n",
       " (array([1314, 1118]), [1262, 1105]),\n",
       " (array([1314, 1119]), [1262, 1105]),\n",
       " (array([1314, 1120]), [1262, 1105]),\n",
       " (array([1313, 1121]), [1261, 1109]),\n",
       " (array([1313, 1122]), [1261, 1109]),\n",
       " (array([1313, 1123]), [1261, 1109]),\n",
       " (array([1313, 1124]), [1261, 1109]),\n",
       " (array([1312, 1125]), [1260, 1113]),\n",
       " (array([1312, 1126]), [1260, 1113]),\n",
       " (array([1312, 1127]), [1260, 1113]),\n",
       " (array([1312, 1128]), [1260, 1113]),\n",
       " (array([1311, 1129]), [1259, 1117]),\n",
       " (array([1311, 1130]), [1259, 1117]),\n",
       " (array([1311, 1131]), [1259, 1117]),\n",
       " (array([1311, 1132]), [1259, 1117]),\n",
       " (array([1310, 1133]), [1258, 1121]),\n",
       " (array([1310, 1134]), [1258, 1121]),\n",
       " (array([1310, 1135]), [1258, 1121]),\n",
       " (array([1310, 1136]), [1258, 1121]),\n",
       " (array([1309, 1137]), [1257, 1125]),\n",
       " (array([1309, 1138]), [1257, 1125]),\n",
       " (array([1309, 1139]), [1257, 1125]),\n",
       " (array([1309, 1140]), [1257, 1125]),\n",
       " (array([1308, 1141]), [1256, 1129]),\n",
       " (array([1308, 1142]), [1256, 1129]),\n",
       " (array([1308, 1143]), [1256, 1129]),\n",
       " (array([1308, 1144]), [1256, 1129]),\n",
       " (array([1307, 1145]), [1256, 1129]),\n",
       " (array([1307, 1146]), [1256, 1129]),\n",
       " (array([1307, 1147]), [1253, 1144]),\n",
       " (array([1307, 1148]), [1253, 1144]),\n",
       " (array([1306, 1149]), [1253, 1144]),\n",
       " (array([1306, 1150]), [1253, 1144]),\n",
       " (array([1306, 1151]), [1253, 1144]),\n",
       " (array([1306, 1152]), [1253, 1144]),\n",
       " (array([1305, 1153]), [1253, 1144]),\n",
       " (array([1305, 1154]), [1253, 1144]),\n",
       " (array([1305, 1155]), [1253, 1144]),\n",
       " (array([1305, 1156]), [1253, 1144]),\n",
       " (array([1304, 1157]), [1252, 1149]),\n",
       " (array([1304, 1158]), [1252, 1149]),\n",
       " (array([1304, 1159]), [1252, 1149]),\n",
       " (array([1304, 1160]), [1252, 1149]),\n",
       " (array([1304, 1161]), [1252, 1149]),\n",
       " (array([1304, 1162]), [1251, 1154]),\n",
       " (array([1303, 1163]), [1251, 1154]),\n",
       " (array([1303, 1164]), [1251, 1154]),\n",
       " (array([1303, 1165]), [1251, 1154]),\n",
       " (array([1303, 1166]), [1251, 1154]),\n",
       " (array([1303, 1167]), [1250, 1159]),\n",
       " (array([1303, 1168]), [1250, 1159]),\n",
       " (array([1303, 1169]), [1250, 1159]),\n",
       " (array([1303, 1170]), [1250, 1159]),\n",
       " (array([1302, 1171]), [1250, 1159]),\n",
       " (array([1302, 1172]), [1249, 1164]),\n",
       " (array([1302, 1173]), [1249, 1164]),\n",
       " (array([1302, 1174]), [1249, 1164]),\n",
       " (array([1302, 1175]), [1249, 1164]),\n",
       " (array([1302, 1176]), [1249, 1164]),\n",
       " (array([1302, 1177]), [1249, 1164]),\n",
       " (array([1302, 1178]), [1248, 1169]),\n",
       " (array([1302, 1179]), [1248, 1169]),\n",
       " (array([1301, 1180]), [1247, 1177]),\n",
       " (array([1301, 1181]), [1247, 1177]),\n",
       " (array([1301, 1182]), [1247, 1177]),\n",
       " (array([1301, 1183]), [1247, 1177]),\n",
       " (array([1301, 1184]), [1247, 1177]),\n",
       " (array([1301, 1185]), [1247, 1177]),\n",
       " (array([1301, 1186]), [1247, 1177]),\n",
       " (array([1301, 1187]), [1247, 1177]),\n",
       " (array([1300, 1188]), [1246, 1186]),\n",
       " (array([1300, 1189]), [1246, 1186]),\n",
       " (array([1300, 1190]), [1246, 1186]),\n",
       " (array([1300, 1191]), [1246, 1186]),\n",
       " (array([1300, 1192]), [1246, 1186]),\n",
       " (array([1300, 1193]), [1246, 1186]),\n",
       " (array([1300, 1194]), [1246, 1186]),\n",
       " (array([1300, 1195]), [1246, 1186]),\n",
       " (array([1299, 1196]), [1246, 1186]),\n",
       " (array([1299, 1197]), [1245, 1194]),\n",
       " (array([1299, 1198]), [1245, 1194]),\n",
       " (array([1299, 1199]), [1245, 1194]),\n",
       " (array([1299, 1200]), [1245, 1194]),\n",
       " (array([1299, 1201]), [1245, 1194]),\n",
       " (array([1298, 1202]), [1245, 1194]),\n",
       " (array([1298, 1203]), [1245, 1194]),\n",
       " (array([1298, 1204]), [1245, 1194]),\n",
       " (array([1297, 1205]), [1244, 1203]),\n",
       " (array([1297, 1206]), [1244, 1203]),\n",
       " (array([1297, 1207]), [1244, 1203]),\n",
       " (array([1296, 1208]), [1244, 1203]),\n",
       " (array([1296, 1209]), [1244, 1203]),\n",
       " (array([1296, 1210]), [1244, 1203]),\n",
       " (array([1296, 1211]), [1244, 1203]),\n",
       " (array([1295, 1212]), [1244, 1203]),\n",
       " (array([1295, 1213]), [1244, 1203]),\n",
       " (array([1295, 1214]), [1243, 1214]),\n",
       " (array([1294, 1215]), [1243, 1215]),\n",
       " (array([1294, 1216]), [1243, 1216]),\n",
       " (array([1294, 1217]), [1243, 1217]),\n",
       " (array([1294, 1218]), [1243, 1217]),\n",
       " (array([1293, 1219]), [1243, 1217]),\n",
       " (array([1293, 1220]), [1243, 1217]),\n",
       " (array([1293, 1221]), [1243, 1217]),\n",
       " (array([1292, 1222]), [1243, 1217]),\n",
       " (array([1292, 1223]), [1243, 1217]),\n",
       " (array([1292, 1224]), [1243, 1217]),\n",
       " (array([1292, 1225]), [1243, 1217]),\n",
       " (array([1292, 1226]), [1243, 1217]),\n",
       " (array([1292, 1227]), [1242, 1227]),\n",
       " (array([1291, 1228]), [1242, 1228]),\n",
       " (array([1291, 1229]), [1242, 1229]),\n",
       " (array([1291, 1230]), [1242, 1230]),\n",
       " (array([1291, 1231]), [1242, 1231]),\n",
       " (array([1291, 1232]), [1242, 1232]),\n",
       " (array([1291, 1233]), [1242, 1233]),\n",
       " (array([1291, 1234]), [1242, 1234]),\n",
       " (array([1291, 1235]), [1242, 1235]),\n",
       " (array([1291, 1236]), [1242, 1235]),\n",
       " (array([1291, 1237]), [1242, 1235]),\n",
       " (array([1291, 1238]), [1242, 1235]),\n",
       " (array([1291, 1239]), [1242, 1235]),\n",
       " (array([1291, 1240]), [1242, 1235]),\n",
       " (array([1291, 1241]), [1242, 1235]),\n",
       " (array([1291, 1242]), [1242, 1235]),\n",
       " (array([1290, 1243]), [1242, 1235]),\n",
       " (array([1290, 1244]), [1242, 1235]),\n",
       " (array([1290, 1245]), [1241, 1245]),\n",
       " (array([1290, 1246]), [1241, 1246]),\n",
       " (array([1290, 1247]), [1241, 1247]),\n",
       " (array([1290, 1248]), [1241, 1248]),\n",
       " (array([1290, 1249]), [1241, 1249]),\n",
       " (array([1290, 1250]), [1241, 1250]),\n",
       " (array([1290, 1251]), [1241, 1251]),\n",
       " (array([1290, 1252]), [1241, 1252]),\n",
       " (array([1290, 1253]), [1241, 1253]),\n",
       " (array([1290, 1254]), [1241, 1254]),\n",
       " (array([1290, 1255]), [1241, 1255]),\n",
       " (array([1290, 1256]), [1242, 1265]),\n",
       " (array([1290, 1257]), [1242, 1265]),\n",
       " (array([1290, 1258]), [1242, 1265]),\n",
       " (array([1290, 1259]), [1242, 1265]),\n",
       " (array([1290, 1260]), [1242, 1265]),\n",
       " (array([1290, 1261]), [1242, 1265]),\n",
       " (array([1290, 1262]), [1242, 1265]),\n",
       " (array([1290, 1263]), [1242, 1265]),\n",
       " (array([1290, 1264]), [1242, 1265]),\n",
       " (array([1290, 1265]), [1242, 1265]),\n",
       " (array([1290, 1266]), [1242, 1266]),\n",
       " (array([1290, 1267]), [1242, 1267]),\n",
       " (array([1290, 1268]), [1242, 1268]),\n",
       " (array([1290, 1269]), [1242, 1269]),\n",
       " (array([1290, 1270]), [1242, 1270]),\n",
       " (array([1290, 1271]), [1242, 1271]),\n",
       " (array([1290, 1272]), [1242, 1272]),\n",
       " (array([1290, 1273]), [1242, 1273]),\n",
       " (array([1291, 1274]), [1243, 1283]),\n",
       " (array([1291, 1275]), [1243, 1283]),\n",
       " (array([1291, 1276]), [1243, 1283]),\n",
       " (array([1291, 1277]), [1243, 1283]),\n",
       " (array([1291, 1278]), [1243, 1283]),\n",
       " (array([1291, 1279]), [1243, 1283]),\n",
       " (array([1291, 1280]), [1243, 1283]),\n",
       " (array([1291, 1281]), [1243, 1283]),\n",
       " (array([1291, 1282]), [1244, 1291]),\n",
       " (array([1291, 1283]), [1244, 1291]),\n",
       " (array([1291, 1284]), [1244, 1291]),\n",
       " (array([1291, 1285]), [1244, 1291]),\n",
       " (array([1291, 1286]), [1244, 1291]),\n",
       " (array([1291, 1287]), [1244, 1291]),\n",
       " (array([1291, 1288]), [1245, 1298]),\n",
       " (array([1291, 1289]), [1245, 1298]),\n",
       " (array([1291, 1290]), [1245, 1298]),\n",
       " (array([1291, 1291]), [1245, 1298]),\n",
       " (array([1292, 1292]), [1245, 1298]),\n",
       " (array([1292, 1293]), [1245, 1298]),\n",
       " (array([1292, 1294]), [1245, 1298]),\n",
       " (array([1292, 1295]), [1245, 1298]),\n",
       " (array([1292, 1296]), [1245, 1298]),\n",
       " (array([1292, 1297]), [1246, 1306]),\n",
       " (array([1292, 1298]), [1246, 1306]),\n",
       " (array([1292, 1299]), [1246, 1306]),\n",
       " (array([1292, 1300]), [1246, 1306]),\n",
       " (array([1292, 1301]), [1246, 1306]),\n",
       " (array([1293, 1302]), [1246, 1306]),\n",
       " (array([1293, 1303]), [1247, 1313]),\n",
       " (array([1293, 1304]), [1247, 1313]),\n",
       " (array([1293, 1305]), [1247, 1313]),\n",
       " (array([1293, 1306]), [1247, 1313]),\n",
       " (array([1293, 1307]), [1247, 1313]),\n",
       " (array([1293, 1308]), [1247, 1313]),\n",
       " (array([1293, 1309]), [1247, 1313]),\n",
       " (array([1293, 1310]), [1247, 1313]),\n",
       " (array([1294, 1311]), [1247, 1313]),\n",
       " (array([1294, 1312]), [1248, 1321]),\n",
       " (array([1294, 1313]), [1248, 1321]),\n",
       " (array([1294, 1314]), [1248, 1321]),\n",
       " (array([1294, 1315]), [1248, 1321]),\n",
       " (array([1294, 1316]), [1248, 1321]),\n",
       " (array([1294, 1317]), [1248, 1321]),\n",
       " (array([1294, 1318]), [1248, 1321]),\n",
       " (array([1294, 1319]), [1249, 1328]),\n",
       " (array([1294, 1320]), [1249, 1328]),\n",
       " (array([1295, 1321]), [1249, 1328]),\n",
       " (array([1295, 1322]), [1249, 1328]),\n",
       " (array([1295, 1323]), [1249, 1328]),\n",
       " (array([1295, 1324]), [1249, 1328]),\n",
       " (array([1295, 1325]), [1249, 1328]),\n",
       " (array([1295, 1326]), [1249, 1328]),\n",
       " (array([1295, 1327]), [1250, 1336]),\n",
       " (array([1295, 1328]), [1250, 1336]),\n",
       " (array([1295, 1329]), [1250, 1336]),\n",
       " (array([1296, 1330]), [1250, 1336]),\n",
       " (array([1296, 1331]), [1250, 1336]),\n",
       " (array([1296, 1332]), [1250, 1336]),\n",
       " (array([1296, 1333]), [1250, 1336]),\n",
       " (array([1296, 1334]), [1250, 1336]),\n",
       " (array([1296, 1335]), [1251, 1344]),\n",
       " (array([1296, 1336]), [1251, 1344]),\n",
       " (array([1296, 1337]), [1251, 1344]),\n",
       " (array([1296, 1338]), [1251, 1344]),\n",
       " (array([1296, 1339]), [1251, 1344]),\n",
       " (array([1297, 1340]), [1251, 1344]),\n",
       " (array([1297, 1341]), [1251, 1344]),\n",
       " (array([1297, 1342]), [1251, 1344]),\n",
       " (array([1297, 1343]), [1251, 1344]),\n",
       " (array([1297, 1344]), [1251, 1344]),\n",
       " (array([1297, 1345]), [1251, 1345]),\n",
       " (array([1297, 1346]), [1251, 1346]),\n",
       " (array([1297, 1347]), [1252, 1356]),\n",
       " (array([1297, 1348]), [1252, 1356]),\n",
       " (array([1298, 1349]), [1252, 1356]),\n",
       " (array([1298, 1350]), [1252, 1356]),\n",
       " (array([1298, 1351]), [1252, 1356]),\n",
       " (array([1298, 1352]), [1252, 1356]),\n",
       " (array([1298, 1353]), [1252, 1356]),\n",
       " (array([1298, 1354]), [1252, 1356]),\n",
       " (array([1298, 1355]), [1253, 1364]),\n",
       " (array([1298, 1356]), [1253, 1364]),\n",
       " (array([1298, 1357]), [1253, 1364]),\n",
       " (array([1298, 1358]), [1253, 1364]),\n",
       " (array([1299, 1359]), [1253, 1364]),\n",
       " (array([1299, 1360]), [1253, 1364]),\n",
       " (array([1299, 1361]), [1253, 1364]),\n",
       " (array([1299, 1362]), [1254, 1371]),\n",
       " (array([1299, 1363]), [1254, 1371]),\n",
       " (array([1299, 1364]), [1254, 1371]),\n",
       " (array([1299, 1365]), [1254, 1371]),\n",
       " (array([1299, 1366]), [1254, 1371]),\n",
       " (array([1299, 1367]), [1254, 1371]),\n",
       " (array([1300, 1368]), [1254, 1371]),\n",
       " (array([1300, 1369]), [1254, 1371]),\n",
       " (array([1300, 1370]), [1255, 1379]),\n",
       " (array([1300, 1371]), [1255, 1379]),\n",
       " (array([1300, 1372]), [1255, 1379]),\n",
       " (array([1301, 1373]), [1255, 1379]),\n",
       " (array([1301, 1374]), [1255, 1379]),\n",
       " (array([1301, 1375]), [1255, 1379]),\n",
       " (array([1301, 1376]), [1255, 1379]),\n",
       " (array([1301, 1377]), [1256, 1386]),\n",
       " (array([1302, 1378]), [1256, 1386]),\n",
       " (array([1302, 1379]), [1256, 1386]),\n",
       " (array([1302, 1380]), [1256, 1386]),\n",
       " (array([1302, 1381]), [1256, 1386]),\n",
       " (array([1302, 1382]), [1256, 1386]),\n",
       " (array([1303, 1383]), [1256, 1386]),\n",
       " (array([1303, 1384]), [1256, 1386]),\n",
       " (array([1303, 1385]), [1257, 1394]),\n",
       " (array([1303, 1386]), [1257, 1394]),\n",
       " (array([1303, 1387]), [1257, 1394]),\n",
       " (array([1304, 1388]), [1257, 1394]),\n",
       " (array([1304, 1389]), [1257, 1394]),\n",
       " (array([1304, 1390]), [1257, 1394]),\n",
       " (array([1304, 1391]), [1257, 1394]),\n",
       " (array([1304, 1392]), [1257, 1394]),\n",
       " (array([1305, 1393]), [1258, 1402]),\n",
       " (array([1305, 1394]), [1258, 1402]),\n",
       " (array([1305, 1395]), [1258, 1402]),\n",
       " (array([1305, 1396]), [1258, 1402]),\n",
       " (array([1305, 1397]), [1258, 1402]),\n",
       " (array([1306, 1398]), [1258, 1402]),\n",
       " (array([1306, 1399]), [1258, 1402]),\n",
       " (array([1306, 1400]), [1258, 1402]),\n",
       " (array([1306, 1401]), [1259, 1410]),\n",
       " (array([1306, 1402]), [1259, 1410]),\n",
       " (array([1307, 1403]), [1259, 1410]),\n",
       " (array([1307, 1404]), [1259, 1410]),\n",
       " (array([1307, 1405]), [1259, 1410]),\n",
       " (array([1307, 1406]), [1259, 1410]),\n",
       " (array([1307, 1407]), [1260, 1417]),\n",
       " (array([1308, 1408]), [1260, 1417]),\n",
       " (array([1308, 1409]), [1260, 1417]),\n",
       " (array([1308, 1410]), [1260, 1417]),\n",
       " (array([1308, 1411]), [1260, 1417]),\n",
       " (array([1308, 1412]), [1260, 1417]),\n",
       " (array([1309, 1413]), [1260, 1417]),\n",
       " (array([1309, 1414]), [1260, 1417]),\n",
       " (array([1309, 1415]), [1261, 1425]),\n",
       " (array([1309, 1416]), [1261, 1425]),\n",
       " (array([1309, 1417]), [1261, 1425]),\n",
       " (array([1309, 1418]), [1261, 1425]),\n",
       " (array([1309, 1419]), [1261, 1425]),\n",
       " (array([1309, 1420]), [1261, 1425]),\n",
       " (array([1309, 1421]), [1262, 1431]),\n",
       " (array([1310, 1422]), [1262, 1431]),\n",
       " (array([1310, 1423]), [1262, 1431]),\n",
       " (array([1310, 1424]), [1262, 1431]),\n",
       " (array([1310, 1425]), [1263, 1436]),\n",
       " (array([1310, 1426]), [1263, 1436]),\n",
       " (array([1310, 1427]), [1263, 1436]),\n",
       " (array([1310, 1428]), [1263, 1436]),\n",
       " (array([1310, 1429]), [1263, 1436]),\n",
       " (array([1310, 1430]), [1263, 1436]),\n",
       " (array([1311, 1431]), [1263, 1436]),\n",
       " (array([1311, 1432]), [1264, 1442]),\n",
       " (array([1311, 1433]), [1264, 1442]),\n",
       " (array([1311, 1434]), [1264, 1442]),\n",
       " (array([1311, 1435]), [1264, 1442]),\n",
       " (array([1311, 1436]), [1265, 1447]),\n",
       " (array([1311, 1437]), [1265, 1447]),\n",
       " (array([1311, 1438]), [1265, 1447]),\n",
       " (array([1311, 1439]), [1265, 1447]),\n",
       " (array([1312, 1440]), [1265, 1447]),\n",
       " (array([1312, 1441]), [1265, 1447]),\n",
       " (array([1312, 1442]), [1265, 1447]),\n",
       " (array([1312, 1443]), [1266, 1453]),\n",
       " (array([1312, 1444]), [1266, 1453]),\n",
       " (array([1312, 1445]), [1266, 1453]),\n",
       " (array([1312, 1446]), [1266, 1453]),\n",
       " (array([1312, 1447]), [1267, 1458]),\n",
       " (array([1312, 1448]), [1267, 1458]),\n",
       " (array([1313, 1449]), [1267, 1458]),\n",
       " (array([1313, 1450]), [1267, 1458]),\n",
       " (array([1313, 1451]), [1267, 1458]),\n",
       " (array([1313, 1452]), [1267, 1458]),\n",
       " (array([1313, 1453]), [1267, 1458]),\n",
       " (array([1313, 1454]), [1268, 1464]),\n",
       " (array([1313, 1455]), [1268, 1464]),\n",
       " (array([1313, 1456]), [1268, 1464]),\n",
       " (array([1313, 1457]), [1268, 1464]),\n",
       " (array([1314, 1458]), [1269, 1469]),\n",
       " (array([1314, 1459]), [1269, 1469]),\n",
       " (array([1314, 1460]), [1269, 1469]),\n",
       " (array([1314, 1461]), [1269, 1469]),\n",
       " (array([1314, 1462]), [1269, 1469]),\n",
       " (array([1314, 1463]), [1269, 1469]),\n",
       " (array([1314, 1464]), [1269, 1469]),\n",
       " (array([1314, 1465]), [1270, 1475]),\n",
       " (array([1315, 1466]), [1270, 1475]),\n",
       " (array([1315, 1467]), [1270, 1475]),\n",
       " (array([1315, 1468]), [1270, 1475]),\n",
       " (array([1315, 1469]), [1271, 1480]),\n",
       " (array([1315, 1470]), [1271, 1480]),\n",
       " (array([1315, 1471]), [1271, 1480]),\n",
       " (array([1315, 1472]), [1271, 1480]),\n",
       " (array([1315, 1473]), [1271, 1480]),\n",
       " (array([1315, 1474]), [1271, 1480]),\n",
       " (array([1316, 1475]), [1271, 1480]),\n",
       " (array([1316, 1476]), [1271, 1480]),\n",
       " (array([1316, 1477]), [1271, 1480]),\n",
       " (array([1316, 1478]), [1271, 1480]),\n",
       " (array([1316, 1479]), [1271, 1480]),\n",
       " (array([1316, 1480]), [1271, 1480]),\n",
       " (array([1316, 1481]), [1271, 1481]),\n",
       " (array([1316, 1482]), [1271, 1482]),\n",
       " (array([1316, 1483]), [1272, 1492]),\n",
       " (array([1316, 1484]), [1272, 1492]),\n",
       " (array([1317, 1485]), [1272, 1492]),\n",
       " (array([1317, 1486]), [1272, 1492]),\n",
       " (array([1317, 1487]), [1272, 1492]),\n",
       " (array([1317, 1488]), [1272, 1492]),\n",
       " (array([1317, 1489]), [1272, 1492]),\n",
       " (array([1317, 1490]), [1272, 1492]),\n",
       " (array([1317, 1491]), [1272, 1492]),\n",
       " (array([1317, 1492]), [1272, 1492]),\n",
       " (array([1317, 1493]), [1272, 1493]),\n",
       " (array([1317, 1494]), [1272, 1494]),\n",
       " (array([1317, 1495]), [1272, 1495]),\n",
       " (array([1317, 1496]), [1272, 1496]),\n",
       " (array([1317, 1497]), [1272, 1497]),\n",
       " (array([1317, 1498]), [1272, 1498]),\n",
       " (array([1317, 1499]), [1272, 1499]),\n",
       " (array([1317, 1500]), [1272, 1500]),\n",
       " (array([1317, 1501]), [1272, 1501]),\n",
       " (array([1317, 1502]), [1272, 1502]),\n",
       " (array([1317, 1503]), [1272, 1503]),\n",
       " (array([1317, 1504]), [1272, 1504]),\n",
       " (array([1317, 1505]), [1273, 1514]),\n",
       " (array([1317, 1506]), [1273, 1514]),\n",
       " (array([1317, 1507]), [1273, 1514]),\n",
       " (array([1317, 1508]), [1273, 1514]),\n",
       " (array([1317, 1509]), [1273, 1514]),\n",
       " (array([1317, 1510]), [1273, 1514]),\n",
       " (array([1317, 1511]), [1273, 1514]),\n",
       " (array([1317, 1512]), [1273, 1514]),\n",
       " (array([1317, 1513]), [1273, 1514]),\n",
       " (array([1317, 1514]), [1273, 1514]),\n",
       " (array([1317, 1515]), [1273, 1515]),\n",
       " (array([1317, 1516]), [1273, 1516]),\n",
       " (array([1317, 1517]), [1273, 1517]),\n",
       " (array([1317, 1518]), [1273, 1518]),\n",
       " (array([1317, 1519]), [1273, 1519]),\n",
       " (array([1317, 1520]), [1273, 1520]),\n",
       " (array([1317, 1521]), [1273, 1521]),\n",
       " (array([1317, 1522]), [1273, 1522]),\n",
       " (array([1317, 1523]), [1273, 1523]),\n",
       " (array([1317, 1524]), [1273, 1524]),\n",
       " (array([1317, 1525]), [1273, 1525]),\n",
       " (array([1317, 1526]), [1273, 1526]),\n",
       " (array([1317, 1527]), [1273, 1527]),\n",
       " (array([1318, 1528]), [1273, 1528]),\n",
       " (array([1318, 1529]), [1273, 1529]),\n",
       " (array([1318, 1530]), [1273, 1530]),\n",
       " (array([1318, 1531]), [1273, 1531]),\n",
       " (array([1318, 1532]), [1274, 1541]),\n",
       " ...]"
      ]
     },
     "execution_count": 235,
     "metadata": {},
     "output_type": "execute_result"
    }
   ],
   "source": [
    "pair_from_61"
   ]
  },
  {
   "cell_type": "code",
   "execution_count": 210,
   "id": "6bffc423-d7ee-46dd-825a-4a46322085b8",
   "metadata": {},
   "outputs": [
    {
     "data": {
      "text/plain": [
       "0.0"
      ]
     },
     "execution_count": 210,
     "metadata": {},
     "output_type": "execute_result"
    }
   ],
   "source": [
    "np.min(distmap)"
   ]
  },
  {
   "cell_type": "code",
   "execution_count": 201,
   "id": "6382598d-efc3-451b-bc7f-7cda32cceffe",
   "metadata": {},
   "outputs": [],
   "source": [
    "from skimage.feature import peak_local_max"
   ]
  },
  {
   "cell_type": "code",
   "execution_count": 202,
   "id": "94ebade7-19ea-4adf-8681-75c77528c552",
   "metadata": {},
   "outputs": [],
   "source": [
    "max_points = peak_local_max(distmap)"
   ]
  },
  {
   "cell_type": "code",
   "execution_count": 205,
   "id": "fd504e5a-8374-4a08-ae7c-297835a99d3d",
   "metadata": {},
   "outputs": [
    {
     "data": {
      "text/plain": [
       "[<matplotlib.lines.Line2D at 0x7f38e9386f40>]"
      ]
     },
     "execution_count": 205,
     "metadata": {},
     "output_type": "execute_result"
    },
    {
     "data": {
      "image/png": "[encoded data removed]",
      "text/plain": [
       "<Figure size 640x480 with 1 Axes>"
      ]
     },
     "metadata": {},
     "output_type": "display_data"
    }
   ],
   "source": [
    "plt.plot(max_points[:,1],max_points[:,0],'x')\n",
    "plt.plot(xy61[:,0],xy61[:,1])\n",
    "plt.plot(xy74[:,0],xy74[:,1])"
   ]
  },
  {
   "cell_type": "code",
   "execution_count": 162,
   "id": "8b0cbda6-92e0-44f4-9cd6-b867173682e2",
   "metadata": {},
   "outputs": [
    {
     "data": {
      "text/plain": [
       "3.0"
      ]
     },
     "execution_count": 162,
     "metadata": {},
     "output_type": "execute_result"
    }
   ],
   "source": [
    "combined.max()"
   ]
  },
  {
   "cell_type": "code",
   "execution_count": 163,
   "id": "f5c4d3ab-f5a4-4a0b-a78a-d5532680c440",
   "metadata": {},
   "outputs": [
    {
     "data": {
      "text/plain": [
       "<matplotlib.image.AxesImage at 0x7f38e9dc4ac0>"
      ]
     },
     "execution_count": 163,
     "metadata": {},
     "output_type": "execute_result"
    },
    {
     "data": {
      "image/png": "[encoded data removed]",
      "text/plain": [
       "<Figure size 640x480 with 1 Axes>"
      ]
     },
     "metadata": {},
     "output_type": "display_data"
    }
   ],
   "source": [
    "plt.imshow(combined)"
   ]
  },
  {
   "cell_type": "code",
   "execution_count": 164,
   "id": "8379e4c0-1438-443d-b70a-f799176a3754",
   "metadata": {},
   "outputs": [],
   "source": [
    "kern = np.zeros((5,5))\n",
    "kern[2,:]=1\n",
    "kern[:,2]=1\n",
    "kern/=kern.sum()"
   ]
  },
  {
   "cell_type": "code",
   "execution_count": 165,
   "id": "844171e2-3fb5-40dc-9169-216df42f59d8",
   "metadata": {},
   "outputs": [
    {
     "data": {
      "text/plain": [
       "array([[0.        , 0.        , 0.11111111, 0.        , 0.        ],\n",
       "       [0.        , 0.        , 0.11111111, 0.        , 0.        ],\n",
       "       [0.11111111, 0.11111111, 0.11111111, 0.11111111, 0.11111111],\n",
       "       [0.        , 0.        , 0.11111111, 0.        , 0.        ],\n",
       "       [0.        , 0.        , 0.11111111, 0.        , 0.        ]])"
      ]
     },
     "execution_count": 165,
     "metadata": {},
     "output_type": "execute_result"
    }
   ],
   "source": [
    "kern"
   ]
  },
  {
   "cell_type": "code",
   "execution_count": 166,
   "id": "76294152-3ada-4983-8697-afcc95e55cf7",
   "metadata": {},
   "outputs": [],
   "source": [
    "import scipy\n",
    "from tqdm import tqdm"
   ]
  },
  {
   "cell_type": "code",
   "execution_count": 167,
   "id": "fd24f1b9-dd30-47b6-95be-79dd82fb7492",
   "metadata": {},
   "outputs": [
    {
     "name": "stderr",
     "output_type": "stream",
     "text": [
      "100%|██████████████████████████████████████████████████████████████████████████████████████████████| 200/200 [00:38<00:00,  5.22it/s]\n"
     ]
    }
   ],
   "source": [
    "for _ in tqdm(range(200)):\n",
    "    combined = scipy.ndimage.convolve(combined,kern)"
   ]
  },
  {
   "cell_type": "code",
   "execution_count": 168,
   "id": "9a7ae501-e32d-42ad-94a2-185e12fea904",
   "metadata": {},
   "outputs": [
    {
     "data": {
      "text/plain": [
       "<matplotlib.image.AxesImage at 0x7f38e9d5e4f0>"
      ]
     },
     "execution_count": 168,
     "metadata": {},
     "output_type": "execute_result"
    },
    {
     "data": {
      "image/png": "[encoded data removed]",
      "text/plain": [
       "<Figure size 640x480 with 1 Axes>"
      ]
     },
     "metadata": {},
     "output_type": "display_data"
    }
   ],
   "source": [
    "plt.imshow(combined)"
   ]
  },
  {
   "cell_type": "code",
   "execution_count": 169,
   "id": "22f9b5aa-599a-44ce-b165-70fb1054c3c7",
   "metadata": {},
   "outputs": [],
   "source": [
    "X, Y = np.meshgrid(np.arange(0,4000),np.arange(0,4000))"
   ]
  },
  {
   "cell_type": "code",
   "execution_count": 195,
   "id": "69418101-a441-4c50-b451-20d1063f4fcf",
   "metadata": {},
   "outputs": [
    {
     "data": {
      "text/plain": [
       "<matplotlib.contour.QuadContourSet at 0x7f38e95bbb80>"
      ]
     },
     "execution_count": 195,
     "metadata": {},
     "output_type": "execute_result"
    },
    {
     "data": {
      "image/png": "[encoded data removed]",
      "text/plain": [
       "<Figure size 640x480 with 1 Axes>"
      ]
     },
     "metadata": {},
     "output_type": "display_data"
    }
   ],
   "source": [
    "plt.contour(X,Y,distmap,levels=5) # 74-61+1)"
   ]
  },
  {
   "cell_type": "code",
   "execution_count": 196,
   "id": "e86991a9-7cff-45d2-8eb0-7b43e3380951",
   "metadata": {},
   "outputs": [],
   "source": [
    "from skimage.measure import find_contours"
   ]
  },
  {
   "cell_type": "code",
   "execution_count": 172,
   "id": "b010080e-022f-459d-b2d3-9b39e255ff7f",
   "metadata": {},
   "outputs": [
    {
     "data": {
      "text/plain": [
       "<matplotlib.image.AxesImage at 0x7f38e9c0ddf0>"
      ]
     },
     "execution_count": 172,
     "metadata": {},
     "output_type": "execute_result"
    },
    {
     "data": {
      "image/png": "[encoded data removed]",
      "text/plain": [
       "<Figure size 640x480 with 1 Axes>"
      ]
     },
     "metadata": {},
     "output_type": "display_data"
    }
   ],
   "source": [
    "plt.imshow(combined*msk74)"
   ]
  },
  {
   "cell_type": "code",
   "execution_count": 173,
   "id": "482d96e9-3e04-4228-b132-e0fbd6f040ef",
   "metadata": {},
   "outputs": [
    {
     "data": {
      "text/plain": [
       "1.010021358611553"
      ]
     },
     "execution_count": 173,
     "metadata": {},
     "output_type": "execute_result"
    }
   ],
   "source": [
    "np.min(combined)"
   ]
  },
  {
   "cell_type": "code",
   "execution_count": 174,
   "id": "0bad6227-a20a-428c-a5db-83ab2d9b5388",
   "metadata": {},
   "outputs": [
    {
     "data": {
      "text/plain": [
       "1.0769230769230769"
      ]
     },
     "execution_count": 174,
     "metadata": {},
     "output_type": "execute_result"
    }
   ],
   "source": [
    "1+1/13"
   ]
  },
  {
   "cell_type": "code",
   "execution_count": 197,
   "id": "8f37207c-b79e-4941-905c-a767eed32c07",
   "metadata": {},
   "outputs": [],
   "source": [
    "C = find_contours(distmap) #,1.8)"
   ]
  },
  {
   "cell_type": "code",
   "execution_count": 198,
   "id": "a8a4ad09-75da-448b-b2ad-3d799be1f991",
   "metadata": {},
   "outputs": [
    {
     "data": {
      "text/plain": [
       "29"
      ]
     },
     "execution_count": 198,
     "metadata": {},
     "output_type": "execute_result"
    }
   ],
   "source": [
    "len(C)"
   ]
  },
  {
   "cell_type": "code",
   "execution_count": 200,
   "id": "e0392dd5-508b-4de4-ad71-78fffa3c3074",
   "metadata": {},
   "outputs": [
    {
     "data": {
      "text/plain": [
       "[<matplotlib.lines.Line2D at 0x7f38e94b5b20>]"
      ]
     },
     "execution_count": 200,
     "metadata": {},
     "output_type": "execute_result"
    },
    {
     "data": {
      "image/png": "[encoded data removed]",
      "text/plain": [
       "<Figure size 640x480 with 1 Axes>"
      ]
     },
     "metadata": {},
     "output_type": "display_data"
    }
   ],
   "source": [
    "plt.ion()\n",
    "for ii in range(len(C)):\n",
    "    plt.plot(C[ii][:,1],C[ii][:,0],'-')\n",
    "    \n",
    "# plt.plot(xy61[:,0],xy61[:,1])\n",
    "plt.plot(xy74[:,0],xy74[:,1])"
   ]
  },
  {
   "cell_type": "code",
   "execution_count": 54,
   "id": "f09bb306-16cc-4aa8-b3c5-2fc99603fda7",
   "metadata": {},
   "outputs": [
    {
     "data": {
      "text/plain": [
       "<matplotlib.image.AxesImage at 0x7f39705159d0>"
      ]
     },
     "execution_count": 54,
     "metadata": {},
     "output_type": "execute_result"
    },
    {
     "data": {
      "image/png": "[encoded data removed]",
      "text/plain": [
       "<Figure size 640x480 with 2 Axes>"
      ]
     },
     "metadata": {},
     "output_type": "display_data"
    }
   ],
   "source": [
    "plt.subplot(1,2,1)\n",
    "plt.imshow(msk61)\n",
    "\n",
    "plt.subplot(1,2,2)\n",
    "plt.imshow(msk74)"
   ]
  },
  {
   "cell_type": "code",
   "execution_count": null,
   "id": "9c26ed82-dadd-4ab7-911b-8ad01f6b507c",
   "metadata": {},
   "outputs": [],
   "source": [
    "shapes_61[15][0]"
   ]
  },
  {
   "cell_type": "code",
   "execution_count": null,
   "id": "6e3ff9b8-d309-4dd8-a380-3d1d4900a4e3",
   "metadata": {},
   "outputs": [],
   "source": [
    "nr"
   ]
  },
  {
   "cell_type": "code",
   "execution_count": 84,
   "id": "e7934753-9535-4451-aae0-ce9f20e27630",
   "metadata": {},
   "outputs": [
    {
     "data": {
      "text/plain": [
       "1492.0"
      ]
     },
     "execution_count": 84,
     "metadata": {},
     "output_type": "execute_result"
    }
   ],
   "source": [
    "width = max((maxx-minx),(maxy-miny))\n",
    "width"
   ]
  },
  {
   "cell_type": "code",
   "execution_count": 72,
   "id": "e15a93c6-5d47-40e4-a966-2dfb721f38af",
   "metadata": {},
   "outputs": [
    {
     "data": {
      "text/plain": [
       "[<matplotlib.lines.Line2D at 0x7f492b2cab50>]"
      ]
     },
     "execution_count": 72,
     "metadata": {},
     "output_type": "execute_result"
    },
    {
     "data": {
      "image/png": "[encoded data removed]",
      "text/plain": [
       "<Figure size 640x480 with 1 Axes>"
      ]
     },
     "metadata": {},
     "output_type": "display_data"
    }
   ],
   "source": [
    "xy=shapes_61[15][0].exterior.xy\n",
    "plt.plot(xy[0],xy[1],'r.')"
   ]
  },
  {
   "cell_type": "code",
   "execution_count": null,
   "id": "4f56793c-a70b-4486-aaa0-475d30048167",
   "metadata": {},
   "outputs": [],
   "source": []
  },
  {
   "cell_type": "code",
   "execution_count": 73,
   "id": "1a210c02-67b2-4d77-9c35-710cd9b30afb",
   "metadata": {},
   "outputs": [],
   "source": [
    "# dir(shapes_61[15][0])"
   ]
  },
  {
   "cell_type": "code",
   "execution_count": null,
   "id": "7588b09f-3c4d-4dc7-8178-90cf2368a037",
   "metadata": {},
   "outputs": [],
   "source": []
  }
 ],
 "metadata": {
  "kernelspec": {
   "display_name": "Python 3 (ipykernel)",
   "language": "python",
   "name": "python3"
  },
  "language_info": {
   "codemirror_mode": {
    "name": "ipython",
    "version": 3
   },
   "file_extension": ".py",
   "mimetype": "text/x-python",
   "name": "python",
   "nbconvert_exporter": "python",
   "pygments_lexer": "ipython3",
   "version": "3.8.10"
  }
 },
 "nbformat": 4,
 "nbformat_minor": 5
}
