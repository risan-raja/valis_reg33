{
 "cells": [
  {
   "cell_type": "code",
   "execution_count": 1,
   "metadata": {},
   "outputs": [],
   "source": [
    "import numpy as np\n",
    "import json\n",
    "import pandas as pd\n",
    "import re\n",
    "import os\n",
    "import matplotlib.pyplot as plt\n",
    "import imageio.v2 as imageio\n",
    "import cv2\n",
    "import shutil\n",
    "from tqdm import tqdm, trange\n",
    "import scipy.ndimage as ndimage\n",
    "import pickle\n",
    "import SimpleITK as sitk\n",
    "import h5py\n",
    "\n",
    "# filename = \"/storage/valis_reg/segmentation_masks/1202_msrcr_Simple Segmentation.h5\"\n",
    "\n",
    "def read_h5_mask(filename):\n",
    "    with h5py.File(filename, \"r\") as f:\n",
    "        data = f['exported_data']\n",
    "        data = np.squeeze(np.array(data), axis=-1)\n",
    "    return data\n",
    "\n",
    "\n",
    "# mask = read_h5_mask(filename)\n",
    "regex = re.compile(r'\\d+')\n",
    "\n",
    "\n",
    "def black2white(img):\n",
    "    img = img.copy()\n",
    "    img[img == [0,0,0]] = 255\n",
    "    return img\n"
   ]
  },
  {
   "cell_type": "code",
   "execution_count": 2,
   "metadata": {},
   "outputs": [
    {
     "name": "stderr",
     "output_type": "stream",
     "text": [
      "100%|██████████| 2495/2495 [01:12<00:00, 34.42it/s]\n",
      "100%|██████████| 2495/2495 [01:06<00:00, 37.66it/s]\n",
      "100%|██████████| 2496/2496 [01:51<00:00, 22.42it/s]\n"
     ]
    }
   ],
   "source": [
    "retinex_imgs = [imageio.imread(f'/storage/valis_reg/244_processed/msrcr/{img}') for img in tqdm(sorted(os.listdir('/storage/valis_reg/244_processed/msrcr/')))]\n",
    "orig_imgs = [imageio.imread(f'/storage/valis_reg/244_processed/original/{img}') for img in tqdm(sorted(os.listdir('/storage/valis_reg/244_processed/original/')))]\n"
   ]
  },
  {
   "cell_type": "code",
   "execution_count": 8,
   "metadata": {},
   "outputs": [
    {
     "name": "stderr",
     "output_type": "stream",
     "text": [
      "100%|██████████| 2496/2496 [00:08<00:00, 309.97it/s]\n"
     ]
    }
   ],
   "source": [
    "segmentation_dir = '/storage/valis_reg/segmentation_masks'\n",
    "segmentation_masks = {f.split('_')[0]: read_h5_mask(os.path.join(segmentation_dir, f)) for f in tqdm(sorted(os.listdir(segmentation_dir))) if f!='2434'}"
   ]
  },
  {
   "cell_type": "code",
   "execution_count": 12,
   "metadata": {},
   "outputs": [],
   "source": [
    "del segmentation_masks['2434']"
   ]
  },
  {
   "cell_type": "code",
   "execution_count": 14,
   "metadata": {},
   "outputs": [],
   "source": [
    "def invert_mask(mask):\n",
    "    mask[mask>1] = 0\n",
    "    return mask\n",
    "# plt.imshow(invert_mask(segmentation_masks['1202']))"
   ]
  },
  {
   "cell_type": "code",
   "execution_count": 15,
   "metadata": {},
   "outputs": [],
   "source": [
    "segmentation_masks = dict(sorted(segmentation_masks.items(), key=lambda x: int(x[0])))\n",
    "retinex_masks = list(segmentation_masks.values())\n",
    "retinex_masks = [invert_mask(mask) for mask in retinex_masks]"
   ]
  },
  {
   "cell_type": "code",
   "execution_count": 16,
   "metadata": {},
   "outputs": [
    {
     "name": "stderr",
     "output_type": "stream",
     "text": [
      "100%|██████████| 2495/2495 [01:17<00:00, 32.34it/s]\n",
      "100%|██████████| 2495/2495 [05:15<00:00,  7.91it/s]\n",
      "100%|██████████| 2495/2495 [00:22<00:00, 112.64it/s]\n"
     ]
    }
   ],
   "source": [
    "def find_largest_image_dimensions(retinex_imgs):\n",
    "    largest_r = 0\n",
    "    largest_c = 0\n",
    "    for img in retinex_imgs:\n",
    "        r, c = img.shape[0], img.shape[1]\n",
    "        if r > largest_r:\n",
    "            largest_r = r\n",
    "        if c > largest_c:\n",
    "            largest_c = c\n",
    "    return largest_r,largest_c\n",
    "\n",
    "largest_r, largest_c = find_largest_image_dimensions(retinex_imgs=retinex_imgs)\n",
    "\n",
    "\n",
    "def pad_img_gray(img, r, c):\n",
    "    padded_img = np.ones((r, c))*255\n",
    "    padded_img[:img.shape[0], :img.shape[1]] = img\n",
    "    return padded_img\n",
    "\n",
    "def pad_mask(mask, r, c):\n",
    "    padded_mask = np.zeros((r, c))\n",
    "    padded_mask[:mask.shape[0], :mask.shape[1]] = mask\n",
    "    return padded_mask\n",
    "\n",
    "def pad_img_color(img, r, c):\n",
    "    padded_img = np.ones((r, c, 3))*255\n",
    "    padded_img[:img.shape[0], :img.shape[1], :] = img\n",
    "    return padded_img\n",
    "\n",
    "def pad_img(img, r, c, mask=False):\n",
    "    if mask:\n",
    "        return pad_mask(img, r, c)\n",
    "    if len(img.shape) == 2:\n",
    "        return pad_img_gray(img, r, c)\n",
    "    else:\n",
    "        return pad_img_color(img, r, c)\n",
    "\n",
    "\n",
    "retinex_imgs = [pad_img(img, largest_r, largest_c) for img in tqdm(retinex_imgs)]\n",
    "orig_imgs = [pad_img(img, largest_r, largest_c) for img in tqdm(orig_imgs)]\n",
    "retinex_masks = [pad_img(mask, largest_r, largest_c, mask=True) for mask in tqdm(retinex_masks)]"
   ]
  },
  {
   "cell_type": "code",
   "execution_count": 24,
   "metadata": {},
   "outputs": [],
   "source": [
    "output_dir = 'sitk_combined'\n",
    "with open('/storage/valis_reg/sitk_combined/transforms.pkl', 'rb') as file:\n",
    "    transforms = pickle.load(file)"
   ]
  },
  {
   "cell_type": "code",
   "execution_count": 26,
   "metadata": {},
   "outputs": [],
   "source": [
    "\n",
    "def apply_channel_transform(img_channel, transform):\n",
    "    sitk_img = sitk.GetImageFromArray(img_channel)\n",
    "    moved_img = sitk.Resample(sitk_img, transform, sitk.sitkLinear, 255.0, sitk_img.GetPixelID())\n",
    "    moved_img = sitk.GetArrayFromImage(moved_img)\n",
    "    return moved_img.astype(np.uint8)\n",
    "\n",
    "def apply_transform(img, transform):\n",
    "    r = apply_channel_transform(img[:,:,0], transform)\n",
    "    g = apply_channel_transform(img[:,:,1], transform)\n",
    "    b = apply_channel_transform(img[:,:,2], transform)\n",
    "    return np.stack([r,g,b], axis=2)\n",
    "\n",
    "def apply_transfrom_mask(mask, transform):\n",
    "    sitk_img = sitk.GetImageFromArray(mask)\n",
    "    moved_img = sitk.Resample(sitk_img, transform, sitk.sitkNearestNeighbor, 0.0, sitk_img.GetPixelID())\n",
    "    moved_img = sitk.GetArrayFromImage(moved_img)\n",
    "    return moved_img.astype(np.uint8)"
   ]
  },
  {
   "cell_type": "code",
   "execution_count": 27,
   "metadata": {},
   "outputs": [],
   "source": [
    "assert len(retinex_imgs) == len(transforms)"
   ]
  },
  {
   "cell_type": "code",
   "execution_count": 28,
   "metadata": {},
   "outputs": [
    {
     "name": "stderr",
     "output_type": "stream",
     "text": [
      "2495it [07:39,  5.43it/s]\n",
      "2495it [07:35,  5.48it/s]\n"
     ]
    }
   ],
   "source": [
    "retinex_imgs_aligned = [apply_transform(img, transform) for img, transform in tqdm(zip(retinex_imgs, transforms))]\n",
    "orig_imgs_aligned = [apply_transform(img, transform) for img, transform in tqdm(zip(orig_imgs, transforms))]"
   ]
  },
  {
   "cell_type": "code",
   "execution_count": 29,
   "metadata": {},
   "outputs": [
    {
     "name": "stderr",
     "output_type": "stream",
     "text": [
      "2495it [01:13, 33.87it/s]\n"
     ]
    }
   ],
   "source": [
    "retinex_masks_aligned = [apply_transfrom_mask(mask, transform) for mask, transform in tqdm(zip(retinex_masks, transforms))]"
   ]
  },
  {
   "cell_type": "code",
   "execution_count": 30,
   "metadata": {},
   "outputs": [
    {
     "name": "stderr",
     "output_type": "stream",
     "text": [
      "2495it [01:57, 21.30it/s]\n"
     ]
    }
   ],
   "source": [
    "os.makedirs('244_BFIW_aligned/retinex', exist_ok=True)\n",
    "os.makedirs('244_BFIW_aligned/original', exist_ok=True)\n",
    "os.makedirs('244_BFIW_aligned/mask', exist_ok=True)\n",
    "\n",
    "for i, (retinex_img, orig_img, mask) in tqdm(enumerate(zip(retinex_imgs_aligned, orig_imgs_aligned, retinex_masks_aligned))):\n",
    "    imageio.imwrite(f'244_BFIW_aligned/retinex/{str(i).zfill(4)}.jpg', retinex_img)\n",
    "    imageio.imwrite(f'244_BFIW_aligned/original/{str(i).zfill(4)}.jpg', orig_img)\n",
    "    imageio.imwrite(f'244_BFIW_aligned/mask/{str(i).zfill(4)}.jpg', mask)"
   ]
  }
 ],
 "metadata": {
  "kernelspec": {
   "display_name": "Python 3",
   "language": "python",
   "name": "python3"
  },
  "language_info": {
   "codemirror_mode": {
    "name": "ipython",
    "version": 3
   },
   "file_extension": ".py",
   "mimetype": "text/x-python",
   "name": "python",
   "nbconvert_exporter": "python",
   "pygments_lexer": "ipython3",
   "version": "3.10.12"
  }
 },
 "nbformat": 4,
 "nbformat_minor": 2
}
