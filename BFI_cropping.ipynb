{
 "cells": [
  {
   "cell_type": "code",
   "execution_count": null,
   "id": "6b5105e1-9d58-4954-9255-1e60beb72e8c",
   "metadata": {},
   "outputs": [
    {
     "name": "stderr",
     "output_type": "stream",
     "text": [
      "/usr/local/src/.venv/lib/python3.12/site-packages/SimpleITK/extra.py:457: SyntaxWarning: invalid escape sequence '\\s'\n",
      "  \"\"\"Blurs an image by separable convolution with discrete\n",
      "/usr/local/src/valis/valtils.py:92: SyntaxWarning: invalid escape sequence '\\.'\n",
      "  if re.search(\"\\.\", f) is None:\n"
     ]
    }
   ],
   "source": [
    "import os\n",
    "import cv2\n",
    "from PIL import Image\n",
    "import numpy as np\n",
    "import valis\n",
    "\n",
    "thresh = 170\n",
    "\n",
    "def process_BFI_images(input_folder, output_folder):\n",
    "    \"\"\"Processes all images in the input folder and saves the results to the output folder.\n",
    "\n",
    "    Args:\n",
    "        input_folder (str): The path to the input folder containing the images.\n",
    "        output_folder (str): The path to the output folder where the   \n",
    " processed images will be saved.\n",
    "    \"\"\"\n",
    "\n",
    "    if not os.path.exists(output_folder):\n",
    "        os.makedirs(output_folder)\n",
    "\n",
    "    for filename in os.listdir(input_folder):\n",
    "        if filename.endswith(('.jpg')):\n",
    "            image_path = os.path.join(input_folder, filename)\n",
    "            output_path = os.path.join(output_folder, filename)\n",
    "\n",
    "            # Load the image using Pillow\n",
    "            with Image.open(image_path) as img:\n",
    "                #img = cv2.cvtColor(img1, cv2.COLOR_BGR2RGB)\n",
    "                img1 = np.array(img.convert('RGB'))\n",
    "                gray=img1[:,:,1]\n",
    "                bw = cv2.threshold(gray, thresh, 255, cv2.THRESH_BINARY)[1]\n",
    "                contours, _ = cv2.findContours(bw, cv2.RETR_EXTERNAL, cv2.CHAIN_APPROX_SIMPLE)\n",
    "                largest_contour = max(contours, key=cv2.contourArea)\n",
    "                # Get the bounding rectangle of the brain contour\n",
    "                x, y, w, h = cv2.boundingRect(largest_contour)\n",
    "\n",
    "                # Crop the image using the bounding rectangle\n",
    "                cropped_image = img1[y:y+h, x:x+w]\n",
    "                img_new = valis.preprocessing.standardize_colorfulness(cropped_image, c=0.2, h=0)\n",
    "                \n",
    "                processed_img = Image.fromarray(np.uint8(img_new))\n",
    "\n",
    "                # Save the processed image\n",
    "                processed_img.save(output_path)\n",
    "\n",
    "if __name__ == \"__main__\":\n",
    "    input_folder = \"../keerthi_data/BFIW_original\"  # Replace with your input folder path\n",
    "    output_folder = \"./cropped_imgs_new1\"  # Replace with your output folder path\n",
    "    process_BFI_images(input_folder, output_folder)"
   ]
  },
  {
   "cell_type": "code",
   "execution_count": null,
   "id": "490a303c-dbe4-4a63-8342-70c24012302f",
   "metadata": {},
   "outputs": [],
   "source": []
  }
 ],
 "metadata": {
  "kernelspec": {
   "display_name": "Python 3 (ipykernel)",
   "language": "python",
   "name": "python3"
  },
  "language_info": {
   "codemirror_mode": {
    "name": "ipython",
    "version": 3
   },
   "file_extension": ".py",
   "mimetype": "text/x-python",
   "name": "python",
   "nbconvert_exporter": "python",
   "pygments_lexer": "ipython3",
   "version": "3.12.3"
  }
 },
 "nbformat": 4,
 "nbformat_minor": 5
}
