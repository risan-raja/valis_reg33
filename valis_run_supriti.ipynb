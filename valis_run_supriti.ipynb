{
 "cells": [
  {
   "cell_type": "code",
   "execution_count": 1,
   "metadata": {},
   "outputs": [
    {
     "name": "stderr",
     "output_type": "stream",
     "text": [
      "/usr/local/src/.venv/lib/python3.12/site-packages/SimpleITK/extra.py:457: SyntaxWarning: invalid escape sequence '\\s'\n",
      "  \"\"\"Blurs an image by separable convolution with discrete\n",
      "/usr/local/src/valis/valtils.py:92: SyntaxWarning: invalid escape sequence '\\.'\n",
      "  if re.search(\"\\.\", f) is None:\n"
     ]
    }
   ],
   "source": [
    "import cv2\n",
    "import os\n",
    "import re\n",
    "import matplotlib.pyplot as plt\n",
    "import ants\n",
    "import valis\n",
    "from valis import registration, feature_detectors, non_rigid_registrars, affine_optimizer\n",
    "\n",
    "non_rigid_registrar_cls = non_rigid_registrars.SimpleElastixWarper"
   ]
  },
  {
   "cell_type": "code",
   "execution_count": 2,
   "metadata": {},
   "outputs": [],
   "source": [
    "def sort_files_by_digit(directory):\n",
    "    \"\"\"Sorts files in a directory based on the digit before \"_processed.jpg\".\n",
    "\n",
    "    Args:\n",
    "        directory: The directory path containing the files.\n",
    "    \"\"\"\n",
    "\n",
    "    files = os.listdir(directory)\n",
    "    file_info = []\n",
    "\n",
    "    for file in files:\n",
    "        if file.endswith(\"_processed.jpg\"):\n",
    "            digit = file.split(\"_\")[3]\n",
    "            try:\n",
    "                digit = int(digit)\n",
    "                file_info.append((digit, file))\n",
    "            except ValueError:\n",
    "                # Handle files without a digit prefix\n",
    "                pass\n",
    "\n",
    "    # Sort the files based on the digit\n",
    "    sorted_files = sorted(file_info, key=lambda x: x[0])\n",
    "\n",
    "    # Extract the original file names from the sorted tuples\n",
    "    sorted_file_names = [file[1] for file in sorted_files]\n",
    "\n",
    "    return sorted_file_names\n",
    "\n",
    "# Example usage\n",
    "#directory_path = \"./cropped_imgs_new/\"\n",
    "#sorted_files = sort_files_by_digit(directory_path)\n",
    "#print(sorted_files)"
   ]
  },
  {
   "cell_type": "code",
   "execution_count": 3,
   "metadata": {},
   "outputs": [],
   "source": [
    "from valis import registration\n",
    "from natsort import natsorted \n",
    "#img_dir = './cropped_imgs_new/'\n",
    "img_dir ='../keerthi_data/BFIW_processed/'\n",
    "#imgs = os.listdir(img_dir)\n",
    "#regex = re.compile(r\".*.jpg\")\n",
    "imgs = sort_files_by_digit(img_dir)"
   ]
  },
  {
   "cell_type": "code",
   "execution_count": 4,
   "metadata": {},
   "outputs": [
    {
     "name": "stderr",
     "output_type": "stream",
     "text": [
      "/usr/local/src/valis/valtils.py:25: UserWarning: Can't find slide file associated with .ipynb_checkpoints\n",
      "  warnings.warn(warning_msg, warning_type)\n"
     ]
    },
    {
     "name": "stdout",
     "output_type": "stream",
     "text": [
      "\n",
      "==== Converting images\n",
      "\n"
     ]
    },
    {
     "name": "stderr",
     "output_type": "stream",
     "text": [
      "Converting images:   0%|                                                          | 0/2608 [00:00<?, ?image/s]"
     ]
    },
    {
     "name": "stdout",
     "output_type": "stream",
     "text": [
      "<Slide, name = B_213-ST_BFIW-SE_2_processed>, width=300, height=375, channels=3, levels=1, RGB=True, dtype=uint8> <valis.slide_io.VipsSlideReader object at 0x7f05680e1190> True (375, 300, 3)\n",
      "<Slide, name = B_213-ST_BFIW-SE_3_processed>, width=300, height=375, channels=3, levels=1, RGB=True, dtype=uint8> <valis.slide_io.VipsSlideReader object at 0x7f05680b48c0> True (375, 300, 3)\n",
      "<Slide, name = B_213-ST_BFIW-SE_4_processed>, width=300, height=375, channels=3, levels=1, RGB=True, dtype=uint8> <valis.slide_io.VipsSlideReader object at 0x7f0568090230> True (375, 300, 3)\n",
      "<Slide, name = B_213-ST_BFIW-SE_5_processed>, width=300, height=375, channels=3, levels=1, RGB=True, dtype=uint8> <valis.slide_io.VipsSlideReader object at 0x7f05680987a0> True (375, 300, 3)\n",
      "<Slide, name = B_213-ST_BFIW-SE_6_processed>, width=300, height=375, channels=3, levels=1, RGB=True, dtype=uint8> <valis.slide_io.VipsSlideReader object at 0x7f05680e1ac0> True (375, 300, 3)\n",
      "<Slide, name = B_213-ST_BFIW-SE_7_processed>, width=300, height=375, channels=3, levels=1, RGB=True, dtype=uint8> <valis.slide_io.VipsSlideReader object at 0x7f05680b26c0> True (375, 300, 3)\n",
      "<Slide, name = B_213-ST_BFIW-SE_8_processed>, width=300, height=375, channels=3, levels=1, RGB=True, dtype=uint8> <valis.slide_io.VipsSlideReader object at 0x7f05680e19a0> True (375, 300, 3)\n",
      "<Slide, name = B_213-ST_BFIW-SE_9_processed>, width=300, height=375, channels=3, levels=1, RGB=True, dtype=uint8> <valis.slide_io.VipsSlideReader object at 0x7f05680e1a00> True (375, 300, 3)\n",
      "<Slide, name = B_213-ST_BFIW-SE_10_processed>, width=300, height=375, channels=3, levels=1, RGB=True, dtype=uint8> <valis.slide_io.VipsSlideReader object at 0x7f05680e2990> True (375, 300, 3)\n",
      "<Slide, name = B_213-ST_BFIW-SE_11_processed>, width=300, height=375, channels=3, levels=1, RGB=True, dtype=uint8> <valis.slide_io.VipsSlideReader object at 0x7f05680e2a20> True (375, 300, 3)\n"
     ]
    },
    {
     "name": "stderr",
     "output_type": "stream",
     "text": [
      "Converting images:   0%|▏                                                | 10/2608 [00:00<00:28, 91.02image/s]"
     ]
    },
    {
     "name": "stdout",
     "output_type": "stream",
     "text": [
      "<Slide, name = B_213-ST_BFIW-SE_12_processed>, width=300, height=375, channels=3, levels=1, RGB=True, dtype=uint8> <valis.slide_io.VipsSlideReader object at 0x7f05680e2ab0> True (375, 300, 3)\n",
      "<Slide, name = B_213-ST_BFIW-SE_13_processed>, width=300, height=375, channels=3, levels=1, RGB=True, dtype=uint8> <valis.slide_io.VipsSlideReader object at 0x7f05680e2b40> True (375, 300, 3)\n",
      "<Slide, name = B_213-ST_BFIW-SE_14_processed>, width=300, height=375, channels=3, levels=1, RGB=True, dtype=uint8> <valis.slide_io.VipsSlideReader object at 0x7f05680e2bd0> True (375, 300, 3)\n",
      "<Slide, name = B_213-ST_BFIW-SE_38_processed>, width=300, height=375, channels=3, levels=1, RGB=True, dtype=uint8> <valis.slide_io.VipsSlideReader object at 0x7f05680e2c90> True (375, 300, 3)\n",
      "<Slide, name = B_213-ST_BFIW-SE_39_processed>, width=300, height=375, channels=3, levels=1, RGB=True, dtype=uint8> <valis.slide_io.VipsSlideReader object at 0x7f05680e2d20> True (375, 300, 3)\n",
      "<Slide, name = B_213-ST_BFIW-SE_40_processed>, width=300, height=375, channels=3, levels=1, RGB=True, dtype=uint8> <valis.slide_io.VipsSlideReader object at 0x7f05680e2db0> True (375, 300, 3)\n",
      "<Slide, name = B_213-ST_BFIW-SE_41_processed>, width=300, height=375, channels=3, levels=1, RGB=True, dtype=uint8> <valis.slide_io.VipsSlideReader object at 0x7f05680e2810> True (375, 300, 3)\n",
      "<Slide, name = B_213-ST_BFIW-SE_42_processed>, width=300, height=375, channels=3, levels=1, RGB=True, dtype=uint8> <valis.slide_io.VipsSlideReader object at 0x7f05680e2720> True (375, 300, 3)\n",
      "<Slide, name = B_213-ST_BFIW-SE_43_processed>, width=300, height=375, channels=3, levels=1, RGB=True, dtype=uint8> <valis.slide_io.VipsSlideReader object at 0x7f05680e2f60> True (375, 300, 3)\n",
      "<Slide, name = B_213-ST_BFIW-SE_44_processed>, width=300, height=375, channels=3, levels=1, RGB=True, dtype=uint8> <valis.slide_io.VipsSlideReader object at 0x7f056825a930> True (375, 300, 3)\n"
     ]
    },
    {
     "name": "stderr",
     "output_type": "stream",
     "text": [
      "Converting images:   1%|▍                                                | 20/2608 [00:00<00:27, 93.16image/s]"
     ]
    },
    {
     "name": "stdout",
     "output_type": "stream",
     "text": [
      "<Slide, name = B_213-ST_BFIW-SE_45_processed>, width=300, height=375, channels=3, levels=1, RGB=True, dtype=uint8> <valis.slide_io.VipsSlideReader object at 0x7f05680e2450> True (375, 300, 3)\n",
      "<Slide, name = B_213-ST_BFIW-SE_46_processed>, width=300, height=375, channels=3, levels=1, RGB=True, dtype=uint8> <valis.slide_io.VipsSlideReader object at 0x7f05680b2f30> True (375, 300, 3)\n",
      "<Slide, name = B_213-ST_BFIW-SE_47_processed>, width=300, height=375, channels=3, levels=1, RGB=True, dtype=uint8> <valis.slide_io.VipsSlideReader object at 0x7f05680e2d50> True (375, 300, 3)\n",
      "<Slide, name = B_213-ST_BFIW-SE_48_processed>, width=300, height=375, channels=3, levels=1, RGB=True, dtype=uint8> <valis.slide_io.VipsSlideReader object at 0x7f05680e2330> True (375, 300, 3)\n",
      "<Slide, name = B_213-ST_BFIW-SE_49_processed>, width=300, height=375, channels=3, levels=1, RGB=True, dtype=uint8> <valis.slide_io.VipsSlideReader object at 0x7f05680e32c0> True (375, 300, 3)\n",
      "<Slide, name = B_213-ST_BFIW-SE_50_processed>, width=300, height=375, channels=3, levels=1, RGB=True, dtype=uint8> <valis.slide_io.VipsSlideReader object at 0x7f05680e3350> True (375, 300, 3)\n",
      "<Slide, name = B_213-ST_BFIW-SE_51_processed>, width=300, height=375, channels=3, levels=1, RGB=True, dtype=uint8> <valis.slide_io.VipsSlideReader object at 0x7f05680b2f90> True (375, 300, 3)\n",
      "<Slide, name = B_213-ST_BFIW-SE_52_processed>, width=300, height=375, channels=3, levels=1, RGB=True, dtype=uint8> <valis.slide_io.VipsSlideReader object at 0x7f05680b34d0> True (375, 300, 3)\n",
      "<Slide, name = B_213-ST_BFIW-SE_53_processed>, width=300, height=375, channels=3, levels=1, RGB=True, dtype=uint8> <valis.slide_io.VipsSlideReader object at 0x7f05680e2f00> True (375, 300, 3)\n",
      "<Slide, name = B_213-ST_BFIW-SE_54_processed>, width=300, height=375, channels=3, levels=1, RGB=True, dtype=uint8> <valis.slide_io.VipsSlideReader object at 0x7f05680e3440> True (375, 300, 3)\n"
     ]
    },
    {
     "name": "stderr",
     "output_type": "stream",
     "text": [
      "Converting images:   1%|▌                                                | 30/2608 [00:00<00:27, 94.04image/s]"
     ]
    },
    {
     "name": "stdout",
     "output_type": "stream",
     "text": [
      "<Slide, name = B_213-ST_BFIW-SE_55_processed>, width=300, height=375, channels=3, levels=1, RGB=True, dtype=uint8> <valis.slide_io.VipsSlideReader object at 0x7f056809ae10> True (375, 300, 3)\n",
      "<Slide, name = B_213-ST_BFIW-SE_56_processed>, width=300, height=375, channels=3, levels=1, RGB=True, dtype=uint8> <valis.slide_io.VipsSlideReader object at 0x7f05680e3770> True (375, 300, 3)\n",
      "<Slide, name = B_213-ST_BFIW-SE_57_processed>, width=300, height=375, channels=3, levels=1, RGB=True, dtype=uint8> <valis.slide_io.VipsSlideReader object at 0x7f05680e3500> True (375, 300, 3)\n",
      "<Slide, name = B_213-ST_BFIW-SE_58_processed>, width=300, height=375, channels=3, levels=1, RGB=True, dtype=uint8> <valis.slide_io.VipsSlideReader object at 0x7f05680e36e0> True (375, 300, 3)\n",
      "<Slide, name = B_213-ST_BFIW-SE_59_processed>, width=300, height=375, channels=3, levels=1, RGB=True, dtype=uint8> <valis.slide_io.VipsSlideReader object at 0x7f05680e3800> True (375, 300, 3)\n",
      "<Slide, name = B_213-ST_BFIW-SE_60_processed>, width=300, height=375, channels=3, levels=1, RGB=True, dtype=uint8> <valis.slide_io.VipsSlideReader object at 0x7f05680e38f0> True (375, 300, 3)\n",
      "<Slide, name = B_213-ST_BFIW-SE_61_processed>, width=300, height=375, channels=3, levels=1, RGB=True, dtype=uint8> <valis.slide_io.VipsSlideReader object at 0x7f05680e3830> True (375, 300, 3)\n",
      "<Slide, name = B_213-ST_BFIW-SE_62_processed>, width=300, height=375, channels=3, levels=1, RGB=True, dtype=uint8> <valis.slide_io.VipsSlideReader object at 0x7f05680e3680> True (375, 300, 3)\n",
      "<Slide, name = B_213-ST_BFIW-SE_63_processed>, width=300, height=375, channels=3, levels=1, RGB=True, dtype=uint8> <valis.slide_io.VipsSlideReader object at 0x7f05680e3620> True (375, 300, 3)\n",
      "<Slide, name = B_213-ST_BFIW-SE_64_processed>, width=300, height=375, channels=3, levels=1, RGB=True, dtype=uint8> <valis.slide_io.VipsSlideReader object at 0x7f05680e3530> True (375, 300, 3)\n"
     ]
    },
    {
     "name": "stderr",
     "output_type": "stream",
     "text": [
      "Converting images:   2%|▊                                                | 40/2608 [00:00<00:27, 94.25image/s]"
     ]
    },
    {
     "name": "stdout",
     "output_type": "stream",
     "text": [
      "<Slide, name = B_213-ST_BFIW-SE_65_processed>, width=300, height=375, channels=3, levels=1, RGB=True, dtype=uint8> <valis.slide_io.VipsSlideReader object at 0x7f05680e3890> True (375, 300, 3)\n",
      "<Slide, name = B_213-ST_BFIW-SE_66_processed>, width=300, height=375, channels=3, levels=1, RGB=True, dtype=uint8> <valis.slide_io.VipsSlideReader object at 0x7f05680e4260> True (375, 300, 3)\n",
      "<Slide, name = B_213-ST_BFIW-SE_67_processed>, width=300, height=375, channels=3, levels=1, RGB=True, dtype=uint8> <valis.slide_io.VipsSlideReader object at 0x7f05680e4350> True (375, 300, 3)\n",
      "<Slide, name = B_213-ST_BFIW-SE_68_processed>, width=300, height=375, channels=3, levels=1, RGB=True, dtype=uint8> <valis.slide_io.VipsSlideReader object at 0x7f05680e4650> True (375, 300, 3)\n",
      "<Slide, name = B_213-ST_BFIW-SE_69_processed>, width=300, height=375, channels=3, levels=1, RGB=True, dtype=uint8> <valis.slide_io.VipsSlideReader object at 0x7f05680e42f0> True (375, 300, 3)\n",
      "<Slide, name = B_213-ST_BFIW-SE_70_processed>, width=300, height=375, channels=3, levels=1, RGB=True, dtype=uint8> <valis.slide_io.VipsSlideReader object at 0x7f05680e4230> True (375, 300, 3)\n",
      "<Slide, name = B_213-ST_BFIW-SE_71_processed>, width=300, height=375, channels=3, levels=1, RGB=True, dtype=uint8> <valis.slide_io.VipsSlideReader object at 0x7f05680e4320> True (375, 300, 3)\n",
      "<Slide, name = B_213-ST_BFIW-SE_72_processed>, width=300, height=375, channels=3, levels=1, RGB=True, dtype=uint8> <valis.slide_io.VipsSlideReader object at 0x7f05680e47a0> True (375, 300, 3)\n",
      "<Slide, name = B_213-ST_BFIW-SE_73_processed>, width=300, height=375, channels=3, levels=1, RGB=True, dtype=uint8> <valis.slide_io.VipsSlideReader object at 0x7f05680e4800> True (375, 300, 3)\n",
      "<Slide, name = B_213-ST_BFIW-SE_74_processed>, width=300, height=375, channels=3, levels=1, RGB=True, dtype=uint8> <valis.slide_io.VipsSlideReader object at 0x7f05680e4860> True (375, 300, 3)\n"
     ]
    },
    {
     "name": "stderr",
     "output_type": "stream",
     "text": [
      "Converting images:   2%|▉                                                | 50/2608 [00:00<00:27, 94.26image/s]"
     ]
    },
    {
     "name": "stdout",
     "output_type": "stream",
     "text": [
      "<Slide, name = B_213-ST_BFIW-SE_75_processed>, width=300, height=375, channels=3, levels=1, RGB=True, dtype=uint8> <valis.slide_io.VipsSlideReader object at 0x7f05680e48c0> True (375, 300, 3)\n",
      "<Slide, name = B_213-ST_BFIW-SE_76_processed>, width=300, height=375, channels=3, levels=1, RGB=True, dtype=uint8> <valis.slide_io.VipsSlideReader object at 0x7f05680e4920> True (375, 300, 3)\n",
      "<Slide, name = B_213-ST_BFIW-SE_77_processed>, width=300, height=375, channels=3, levels=1, RGB=True, dtype=uint8> <valis.slide_io.VipsSlideReader object at 0x7f05680e4980> True (375, 300, 3)\n",
      "<Slide, name = B_213-ST_BFIW-SE_78_processed>, width=300, height=375, channels=3, levels=1, RGB=True, dtype=uint8> <valis.slide_io.VipsSlideReader object at 0x7f05680e49e0> True (375, 300, 3)\n",
      "<Slide, name = B_213-ST_BFIW-SE_79_processed>, width=300, height=375, channels=3, levels=1, RGB=True, dtype=uint8> <valis.slide_io.VipsSlideReader object at 0x7f05680e4a40> True (375, 300, 3)\n",
      "<Slide, name = B_213-ST_BFIW-SE_80_processed>, width=300, height=375, channels=3, levels=1, RGB=True, dtype=uint8> <valis.slide_io.VipsSlideReader object at 0x7f05680e4ad0> True (375, 300, 3)\n",
      "<Slide, name = B_213-ST_BFIW-SE_81_processed>, width=300, height=375, channels=3, levels=1, RGB=True, dtype=uint8> <valis.slide_io.VipsSlideReader object at 0x7f05680e4b60> True (375, 300, 3)\n",
      "<Slide, name = B_213-ST_BFIW-SE_82_processed>, width=300, height=375, channels=3, levels=1, RGB=True, dtype=uint8> <valis.slide_io.VipsSlideReader object at 0x7f05680e4bc0> True (375, 300, 3)\n",
      "<Slide, name = B_213-ST_BFIW-SE_83_processed>, width=300, height=375, channels=3, levels=1, RGB=True, dtype=uint8> <valis.slide_io.VipsSlideReader object at 0x7f05680e4c50> True (375, 300, 3)\n",
      "<Slide, name = B_213-ST_BFIW-SE_84_processed>, width=300, height=375, channels=3, levels=1, RGB=True, dtype=uint8> <valis.slide_io.VipsSlideReader object at 0x7f05680e34d0> True (375, 300, 3)\n"
     ]
    },
    {
     "name": "stderr",
     "output_type": "stream",
     "text": [
      "Converting images:   2%|█▏                                               | 60/2608 [00:00<00:27, 93.45image/s]"
     ]
    },
    {
     "name": "stdout",
     "output_type": "stream",
     "text": [
      "<Slide, name = B_213-ST_BFIW-SE_85_processed>, width=300, height=375, channels=3, levels=1, RGB=True, dtype=uint8> <valis.slide_io.VipsSlideReader object at 0x7f05680e4e90> True (375, 300, 3)\n",
      "<Slide, name = B_213-ST_BFIW-SE_86_processed>, width=300, height=375, channels=3, levels=1, RGB=True, dtype=uint8> <valis.slide_io.VipsSlideReader object at 0x7f05680e4dd0> True (375, 300, 3)\n",
      "<Slide, name = B_213-ST_BFIW-SE_87_processed>, width=300, height=375, channels=3, levels=1, RGB=True, dtype=uint8> <valis.slide_io.VipsSlideReader object at 0x7f05680e4a70> True (375, 300, 3)\n",
      "<Slide, name = B_213-ST_BFIW-SE_88_processed>, width=300, height=375, channels=3, levels=1, RGB=True, dtype=uint8> <valis.slide_io.VipsSlideReader object at 0x7f05680e4bf0> True (375, 300, 3)\n",
      "<Slide, name = B_213-ST_BFIW-SE_89_processed>, width=300, height=375, channels=3, levels=1, RGB=True, dtype=uint8> <valis.slide_io.VipsSlideReader object at 0x7f05680e4ec0> True (375, 300, 3)\n",
      "<Slide, name = B_213-ST_BFIW-SE_90_processed>, width=300, height=375, channels=3, levels=1, RGB=True, dtype=uint8> <valis.slide_io.VipsSlideReader object at 0x7f05680e4f20> True (375, 300, 3)\n",
      "<Slide, name = B_213-ST_BFIW-SE_91_processed>, width=300, height=375, channels=3, levels=1, RGB=True, dtype=uint8> <valis.slide_io.VipsSlideReader object at 0x7f05680e4f80> True (375, 300, 3)\n",
      "<Slide, name = B_213-ST_BFIW-SE_92_processed>, width=300, height=375, channels=3, levels=1, RGB=True, dtype=uint8> <valis.slide_io.VipsSlideReader object at 0x7f05680e4fe0> True (375, 300, 3)\n",
      "<Slide, name = B_213-ST_BFIW-SE_93_processed>, width=300, height=375, channels=3, levels=1, RGB=True, dtype=uint8> <valis.slide_io.VipsSlideReader object at 0x7f05680e5040> True (375, 300, 3)\n",
      "<Slide, name = B_213-ST_BFIW-SE_94_processed>, width=300, height=375, channels=3, levels=1, RGB=True, dtype=uint8> <valis.slide_io.VipsSlideReader object at 0x7f05680e50d0> True (375, 300, 3)\n"
     ]
    },
    {
     "name": "stderr",
     "output_type": "stream",
     "text": [
      "Converting images:   3%|█▎                                               | 70/2608 [00:00<00:27, 93.93image/s]"
     ]
    },
    {
     "name": "stdout",
     "output_type": "stream",
     "text": [
      "<Slide, name = B_213-ST_BFIW-SE_95_processed>, width=300, height=375, channels=3, levels=1, RGB=True, dtype=uint8> <valis.slide_io.VipsSlideReader object at 0x7f05680e5130> True (375, 300, 3)\n",
      "<Slide, name = B_213-ST_BFIW-SE_96_processed>, width=300, height=375, channels=3, levels=1, RGB=True, dtype=uint8> <valis.slide_io.VipsSlideReader object at 0x7f05680e5190> True (375, 300, 3)\n",
      "<Slide, name = B_213-ST_BFIW-SE_97_processed>, width=300, height=375, channels=3, levels=1, RGB=True, dtype=uint8> <valis.slide_io.VipsSlideReader object at 0x7f05680b3e90> True (375, 300, 3)\n",
      "<Slide, name = B_213-ST_BFIW-SE_98_processed>, width=300, height=375, channels=3, levels=1, RGB=True, dtype=uint8> <valis.slide_io.VipsSlideReader object at 0x7f05680e5370> True (375, 300, 3)\n",
      "<Slide, name = B_213-ST_BFIW-SE_99_processed>, width=300, height=375, channels=3, levels=1, RGB=True, dtype=uint8> <valis.slide_io.VipsSlideReader object at 0x7f05680e52b0> True (375, 300, 3)\n",
      "<Slide, name = B_213-ST_BFIW-SE_100_processed>, width=300, height=375, channels=3, levels=1, RGB=True, dtype=uint8> <valis.slide_io.VipsSlideReader object at 0x7f05680e5010> True (375, 300, 3)\n",
      "<Slide, name = B_213-ST_BFIW-SE_101_processed>, width=300, height=375, channels=3, levels=1, RGB=True, dtype=uint8> <valis.slide_io.VipsSlideReader object at 0x7f05680e5160> True (375, 300, 3)\n",
      "<Slide, name = B_213-ST_BFIW-SE_102_processed>, width=300, height=375, channels=3, levels=1, RGB=True, dtype=uint8> <valis.slide_io.VipsSlideReader object at 0x7f05680e53a0> True (375, 300, 3)\n",
      "<Slide, name = B_213-ST_BFIW-SE_103_processed>, width=300, height=375, channels=3, levels=1, RGB=True, dtype=uint8> <valis.slide_io.VipsSlideReader object at 0x7f05680e5430> True (375, 300, 3)\n",
      "<Slide, name = B_213-ST_BFIW-SE_104_processed>, width=300, height=375, channels=3, levels=1, RGB=True, dtype=uint8> <valis.slide_io.VipsSlideReader object at 0x7f05680e5490> True (375, 300, 3)\n"
     ]
    },
    {
     "name": "stderr",
     "output_type": "stream",
     "text": [
      "Converting images:   3%|█▌                                               | 80/2608 [00:00<00:26, 94.28image/s]"
     ]
    },
    {
     "name": "stdout",
     "output_type": "stream",
     "text": [
      "<Slide, name = B_213-ST_BFIW-SE_105_processed>, width=300, height=375, channels=3, levels=1, RGB=True, dtype=uint8> <valis.slide_io.VipsSlideReader object at 0x7f05680e54f0> True (375, 300, 3)\n",
      "<Slide, name = B_213-ST_BFIW-SE_106_processed>, width=300, height=375, channels=3, levels=1, RGB=True, dtype=uint8> <valis.slide_io.VipsSlideReader object at 0x7f05680e5580> True (375, 300, 3)\n",
      "<Slide, name = B_213-ST_BFIW-SE_107_processed>, width=300, height=375, channels=3, levels=1, RGB=True, dtype=uint8> <valis.slide_io.VipsSlideReader object at 0x7f05680e55e0> True (375, 300, 3)\n",
      "<Slide, name = B_213-ST_BFIW-SE_108_processed>, width=300, height=375, channels=3, levels=1, RGB=True, dtype=uint8> <valis.slide_io.VipsSlideReader object at 0x7f05680e5640> True (375, 300, 3)\n",
      "<Slide, name = B_213-ST_BFIW-SE_109_processed>, width=300, height=375, channels=3, levels=1, RGB=True, dtype=uint8> <valis.slide_io.VipsSlideReader object at 0x7f05680e56a0> True (375, 300, 3)\n",
      "<Slide, name = B_213-ST_BFIW-SE_110_processed>, width=300, height=375, channels=3, levels=1, RGB=True, dtype=uint8> <valis.slide_io.VipsSlideReader object at 0x7f05680e5700> True (375, 300, 3)\n",
      "<Slide, name = B_213-ST_BFIW-SE_111_processed>, width=300, height=375, channels=3, levels=1, RGB=True, dtype=uint8> <valis.slide_io.VipsSlideReader object at 0x7f05680e5760> True (375, 300, 3)\n",
      "<Slide, name = B_213-ST_BFIW-SE_112_processed>, width=300, height=375, channels=3, levels=1, RGB=True, dtype=uint8> <valis.slide_io.VipsSlideReader object at 0x7f05680e57c0> True (375, 300, 3)\n",
      "<Slide, name = B_213-ST_BFIW-SE_113_processed>, width=300, height=375, channels=3, levels=1, RGB=True, dtype=uint8> <valis.slide_io.VipsSlideReader object at 0x7f05680e5820> True (375, 300, 3)\n",
      "<Slide, name = B_213-ST_BFIW-SE_114_processed>, width=300, height=375, channels=3, levels=1, RGB=True, dtype=uint8> <valis.slide_io.VipsSlideReader object at 0x7f05680e58b0> True (375, 300, 3)\n"
     ]
    },
    {
     "name": "stderr",
     "output_type": "stream",
     "text": [
      "Converting images:   3%|█▋                                               | 90/2608 [00:00<00:26, 93.99image/s]"
     ]
    },
    {
     "name": "stdout",
     "output_type": "stream",
     "text": [
      "<Slide, name = B_213-ST_BFIW-SE_115_processed>, width=300, height=375, channels=3, levels=1, RGB=True, dtype=uint8> <valis.slide_io.VipsSlideReader object at 0x7f05680e5910> True (375, 300, 3)\n",
      "<Slide, name = B_213-ST_BFIW-SE_116_processed>, width=300, height=375, channels=3, levels=1, RGB=True, dtype=uint8> <valis.slide_io.VipsSlideReader object at 0x7f05680e5970> True (375, 300, 3)\n",
      "<Slide, name = B_213-ST_BFIW-SE_117_processed>, width=300, height=375, channels=3, levels=1, RGB=True, dtype=uint8> <valis.slide_io.VipsSlideReader object at 0x7f05680e59d0> True (375, 300, 3)\n",
      "<Slide, name = B_213-ST_BFIW-SE_118_processed>, width=300, height=375, channels=3, levels=1, RGB=True, dtype=uint8> <valis.slide_io.VipsSlideReader object at 0x7f05680e5a30> True (375, 300, 3)\n",
      "<Slide, name = B_213-ST_BFIW-SE_119_processed>, width=300, height=375, channels=3, levels=1, RGB=True, dtype=uint8> <valis.slide_io.VipsSlideReader object at 0x7f05680e5a90> True (375, 300, 3)\n",
      "<Slide, name = B_213-ST_BFIW-SE_120_processed>, width=300, height=375, channels=3, levels=1, RGB=True, dtype=uint8> <valis.slide_io.VipsSlideReader object at 0x7f05680e5af0> True (375, 300, 3)\n",
      "<Slide, name = B_213-ST_BFIW-SE_121_processed>, width=300, height=375, channels=3, levels=1, RGB=True, dtype=uint8> <valis.slide_io.VipsSlideReader object at 0x7f05680e5b50> True (375, 300, 3)\n",
      "<Slide, name = B_213-ST_BFIW-SE_122_processed>, width=300, height=375, channels=3, levels=1, RGB=True, dtype=uint8> <valis.slide_io.VipsSlideReader object at 0x7f05680e5bb0> True (375, 300, 3)\n",
      "<Slide, name = B_213-ST_BFIW-SE_123_processed>, width=300, height=375, channels=3, levels=1, RGB=True, dtype=uint8> <valis.slide_io.VipsSlideReader object at 0x7f05680e5c10> True (375, 300, 3)\n",
      "<Slide, name = B_213-ST_BFIW-SE_124_processed>, width=300, height=375, channels=3, levels=1, RGB=True, dtype=uint8> <valis.slide_io.VipsSlideReader object at 0x7f05680e5c70> True (375, 300, 3)\n"
     ]
    },
    {
     "name": "stderr",
     "output_type": "stream",
     "text": [
      "Converting images:   4%|█▊                                              | 100/2608 [00:01<00:27, 92.41image/s]"
     ]
    },
    {
     "name": "stdout",
     "output_type": "stream",
     "text": [
      "<Slide, name = B_213-ST_BFIW-SE_125_processed>, width=300, height=375, channels=3, levels=1, RGB=True, dtype=uint8> <valis.slide_io.VipsSlideReader object at 0x7f05680e5cd0> True (375, 300, 3)\n",
      "<Slide, name = B_213-ST_BFIW-SE_126_processed>, width=300, height=375, channels=3, levels=1, RGB=True, dtype=uint8> <valis.slide_io.VipsSlideReader object at 0x7f05680e5d30> True (375, 300, 3)\n",
      "<Slide, name = B_213-ST_BFIW-SE_127_processed>, width=300, height=375, channels=3, levels=1, RGB=True, dtype=uint8> <valis.slide_io.VipsSlideReader object at 0x7f05680e5dc0> True (375, 300, 3)\n",
      "<Slide, name = B_213-ST_BFIW-SE_128_processed>, width=300, height=375, channels=3, levels=1, RGB=True, dtype=uint8> <valis.slide_io.VipsSlideReader object at 0x7f05680e5e20> True (375, 300, 3)\n",
      "<Slide, name = B_213-ST_BFIW-SE_129_processed>, width=300, height=375, channels=3, levels=1, RGB=True, dtype=uint8> <valis.slide_io.VipsSlideReader object at 0x7f05680e5e80> True (375, 300, 3)\n",
      "<Slide, name = B_213-ST_BFIW-SE_130_processed>, width=300, height=375, channels=3, levels=1, RGB=True, dtype=uint8> <valis.slide_io.VipsSlideReader object at 0x7f05680e5ee0> True (375, 300, 3)\n",
      "<Slide, name = B_213-ST_BFIW-SE_131_processed>, width=300, height=375, channels=3, levels=1, RGB=True, dtype=uint8> <valis.slide_io.VipsSlideReader object at 0x7f05680e5f40> True (375, 300, 3)\n",
      "<Slide, name = B_213-ST_BFIW-SE_132_processed>, width=300, height=375, channels=3, levels=1, RGB=True, dtype=uint8> <valis.slide_io.VipsSlideReader object at 0x7f05680e5fa0> True (375, 300, 3)\n",
      "<Slide, name = B_213-ST_BFIW-SE_133_processed>, width=300, height=375, channels=3, levels=1, RGB=True, dtype=uint8> <valis.slide_io.VipsSlideReader object at 0x7f05680e6000> True (375, 300, 3)\n",
      "<Slide, name = B_213-ST_BFIW-SE_134_processed>, width=300, height=375, channels=3, levels=1, RGB=True, dtype=uint8> <valis.slide_io.VipsSlideReader object at 0x7f05680e6060> True (375, 300, 3)\n"
     ]
    },
    {
     "name": "stderr",
     "output_type": "stream",
     "text": [
      "Converting images:   4%|██                                              | 110/2608 [00:01<00:27, 90.50image/s]"
     ]
    },
    {
     "name": "stdout",
     "output_type": "stream",
     "text": [
      "<Slide, name = B_213-ST_BFIW-SE_135_processed>, width=300, height=375, channels=3, levels=1, RGB=True, dtype=uint8> <valis.slide_io.VipsSlideReader object at 0x7f05680e60c0> True (375, 300, 3)\n",
      "<Slide, name = B_213-ST_BFIW-SE_136_processed>, width=300, height=375, channels=3, levels=1, RGB=True, dtype=uint8> <valis.slide_io.VipsSlideReader object at 0x7f05680e6120> True (375, 300, 3)\n",
      "<Slide, name = B_213-ST_BFIW-SE_137_processed>, width=300, height=375, channels=3, levels=1, RGB=True, dtype=uint8> <valis.slide_io.VipsSlideReader object at 0x7f05680e6180> True (375, 300, 3)\n",
      "<Slide, name = B_213-ST_BFIW-SE_138_processed>, width=300, height=375, channels=3, levels=1, RGB=True, dtype=uint8> <valis.slide_io.VipsSlideReader object at 0x7f05680e61e0> True (375, 300, 3)\n",
      "<Slide, name = B_213-ST_BFIW-SE_139_processed>, width=300, height=375, channels=3, levels=1, RGB=True, dtype=uint8> <valis.slide_io.VipsSlideReader object at 0x7f05680e6240> True (375, 300, 3)\n",
      "<Slide, name = B_213-ST_BFIW-SE_140_processed>, width=300, height=375, channels=3, levels=1, RGB=True, dtype=uint8> <valis.slide_io.VipsSlideReader object at 0x7f05680e62a0> True (375, 300, 3)\n",
      "<Slide, name = B_213-ST_BFIW-SE_141_processed>, width=300, height=375, channels=3, levels=1, RGB=True, dtype=uint8> <valis.slide_io.VipsSlideReader object at 0x7f05680e6300> True (375, 300, 3)\n",
      "<Slide, name = B_213-ST_BFIW-SE_142_processed>, width=300, height=375, channels=3, levels=1, RGB=True, dtype=uint8> <valis.slide_io.VipsSlideReader object at 0x7f05680e6360> True (375, 300, 3)\n",
      "<Slide, name = B_213-ST_BFIW-SE_143_processed>, width=300, height=375, channels=3, levels=1, RGB=True, dtype=uint8> <valis.slide_io.VipsSlideReader object at 0x7f05680e63c0> True (375, 300, 3)\n",
      "<Slide, name = B_213-ST_BFIW-SE_144_processed>, width=300, height=375, channels=3, levels=1, RGB=True, dtype=uint8> <valis.slide_io.VipsSlideReader object at 0x7f05680e6420> True (375, 300, 3)\n"
     ]
    },
    {
     "name": "stderr",
     "output_type": "stream",
     "text": [
      "Converting images:   5%|██▏                                             | 120/2608 [00:01<00:27, 88.94image/s]"
     ]
    },
    {
     "name": "stdout",
     "output_type": "stream",
     "text": [
      "<Slide, name = B_213-ST_BFIW-SE_145_processed>, width=300, height=375, channels=3, levels=1, RGB=True, dtype=uint8> <valis.slide_io.VipsSlideReader object at 0x7f05680e6480> True (375, 300, 3)\n",
      "<Slide, name = B_213-ST_BFIW-SE_146_processed>, width=300, height=375, channels=3, levels=1, RGB=True, dtype=uint8> <valis.slide_io.VipsSlideReader object at 0x7f05680e64e0> True (375, 300, 3)\n",
      "<Slide, name = B_213-ST_BFIW-SE_147_processed>, width=300, height=375, channels=3, levels=1, RGB=True, dtype=uint8> <valis.slide_io.VipsSlideReader object at 0x7f05680e6540> True (375, 300, 3)\n",
      "<Slide, name = B_213-ST_BFIW-SE_148_processed>, width=300, height=375, channels=3, levels=1, RGB=True, dtype=uint8> <valis.slide_io.VipsSlideReader object at 0x7f05680e65a0> True (375, 300, 3)\n",
      "<Slide, name = B_213-ST_BFIW-SE_149_processed>, width=300, height=375, channels=3, levels=1, RGB=True, dtype=uint8> <valis.slide_io.VipsSlideReader object at 0x7f05680e6600> True (375, 300, 3)\n",
      "<Slide, name = B_213-ST_BFIW-SE_150_processed>, width=300, height=375, channels=3, levels=1, RGB=True, dtype=uint8> <valis.slide_io.VipsSlideReader object at 0x7f05680e6660> True (375, 300, 3)\n",
      "<Slide, name = B_213-ST_BFIW-SE_151_processed>, width=300, height=375, channels=3, levels=1, RGB=True, dtype=uint8> <valis.slide_io.VipsSlideReader object at 0x7f05680e66c0> True (375, 300, 3)\n",
      "<Slide, name = B_213-ST_BFIW-SE_152_processed>, width=300, height=375, channels=3, levels=1, RGB=True, dtype=uint8> <valis.slide_io.VipsSlideReader object at 0x7f05680e6720> True (375, 300, 3)\n",
      "<Slide, name = B_213-ST_BFIW-SE_153_processed>, width=300, height=375, channels=3, levels=1, RGB=True, dtype=uint8> <valis.slide_io.VipsSlideReader object at 0x7f05680e67b0> True (375, 300, 3)\n"
     ]
    },
    {
     "name": "stderr",
     "output_type": "stream",
     "text": [
      "Converting images:   5%|██▎                                             | 129/2608 [00:01<00:28, 87.77image/s]"
     ]
    },
    {
     "name": "stdout",
     "output_type": "stream",
     "text": [
      "<Slide, name = B_213-ST_BFIW-SE_154_processed>, width=300, height=375, channels=3, levels=1, RGB=True, dtype=uint8> <valis.slide_io.VipsSlideReader object at 0x7f05680e6840> True (375, 300, 3)\n",
      "<Slide, name = B_213-ST_BFIW-SE_155_processed>, width=300, height=375, channels=3, levels=1, RGB=True, dtype=uint8> <valis.slide_io.VipsSlideReader object at 0x7f05680e68a0> True (375, 300, 3)\n",
      "<Slide, name = B_213-ST_BFIW-SE_156_processed>, width=300, height=375, channels=3, levels=1, RGB=True, dtype=uint8> <valis.slide_io.VipsSlideReader object at 0x7f05680e6960> True (375, 300, 3)\n",
      "<Slide, name = B_213-ST_BFIW-SE_157_processed>, width=300, height=375, channels=3, levels=1, RGB=True, dtype=uint8> <valis.slide_io.VipsSlideReader object at 0x7f05680e69f0> True (375, 300, 3)\n",
      "<Slide, name = B_213-ST_BFIW-SE_158_processed>, width=300, height=375, channels=3, levels=1, RGB=True, dtype=uint8> <valis.slide_io.VipsSlideReader object at 0x7f05680e6a50> True (375, 300, 3)\n",
      "<Slide, name = B_213-ST_BFIW-SE_159_processed>, width=300, height=375, channels=3, levels=1, RGB=True, dtype=uint8> <valis.slide_io.VipsSlideReader object at 0x7f05680e6ab0> True (375, 300, 3)\n",
      "<Slide, name = B_213-ST_BFIW-SE_160_processed>, width=300, height=375, channels=3, levels=1, RGB=True, dtype=uint8> <valis.slide_io.VipsSlideReader object at 0x7f05680e6b40> True (375, 300, 3)\n",
      "<Slide, name = B_213-ST_BFIW-SE_161_processed>, width=300, height=375, channels=3, levels=1, RGB=True, dtype=uint8> <valis.slide_io.VipsSlideReader object at 0x7f05680e6ba0> True (375, 300, 3)\n",
      "<Slide, name = B_213-ST_BFIW-SE_162_processed>, width=300, height=375, channels=3, levels=1, RGB=True, dtype=uint8> <valis.slide_io.VipsSlideReader object at 0x7f05680e6c00> True (375, 300, 3)\n"
     ]
    },
    {
     "name": "stderr",
     "output_type": "stream",
     "text": [
      "Converting images:   5%|██▌                                             | 138/2608 [00:01<00:28, 86.93image/s]"
     ]
    },
    {
     "name": "stdout",
     "output_type": "stream",
     "text": [
      "<Slide, name = B_213-ST_BFIW-SE_163_processed>, width=300, height=375, channels=3, levels=1, RGB=True, dtype=uint8> <valis.slide_io.VipsSlideReader object at 0x7f05680e6c90> True (375, 300, 3)\n",
      "<Slide, name = B_213-ST_BFIW-SE_164_processed>, width=300, height=375, channels=3, levels=1, RGB=True, dtype=uint8> <valis.slide_io.VipsSlideReader object at 0x7f05680e6cf0> True (375, 300, 3)\n",
      "<Slide, name = B_213-ST_BFIW-SE_165_processed>, width=300, height=375, channels=3, levels=1, RGB=True, dtype=uint8> <valis.slide_io.VipsSlideReader object at 0x7f05680e6d50> True (375, 300, 3)\n",
      "<Slide, name = B_213-ST_BFIW-SE_166_processed>, width=300, height=375, channels=3, levels=1, RGB=True, dtype=uint8> <valis.slide_io.VipsSlideReader object at 0x7f05680e6db0> True (375, 300, 3)\n",
      "<Slide, name = B_213-ST_BFIW-SE_167_processed>, width=300, height=375, channels=3, levels=1, RGB=True, dtype=uint8> <valis.slide_io.VipsSlideReader object at 0x7f05680e6ea0> True (375, 300, 3)\n",
      "<Slide, name = B_213-ST_BFIW-SE_168_processed>, width=300, height=375, channels=3, levels=1, RGB=True, dtype=uint8> <valis.slide_io.VipsSlideReader object at 0x7f05680e6f00> True (375, 300, 3)\n",
      "<Slide, name = B_213-ST_BFIW-SE_169_processed>, width=300, height=375, channels=3, levels=1, RGB=True, dtype=uint8> <valis.slide_io.VipsSlideReader object at 0x7f05680e2f90> True (375, 300, 3)\n",
      "<Slide, name = B_213-ST_BFIW-SE_170_processed>, width=300, height=375, channels=3, levels=1, RGB=True, dtype=uint8> <valis.slide_io.VipsSlideReader object at 0x7f05680e7140> True (375, 300, 3)\n",
      "<Slide, name = B_213-ST_BFIW-SE_171_processed>, width=300, height=375, channels=3, levels=1, RGB=True, dtype=uint8> <valis.slide_io.VipsSlideReader object at 0x7f05680e7080> True (375, 300, 3)\n"
     ]
    },
    {
     "name": "stderr",
     "output_type": "stream",
     "text": [
      "Converting images:   6%|██▋                                             | 147/2608 [00:01<00:28, 85.94image/s]"
     ]
    },
    {
     "name": "stdout",
     "output_type": "stream",
     "text": [
      "<Slide, name = B_213-ST_BFIW-SE_172_processed>, width=300, height=375, channels=3, levels=1, RGB=True, dtype=uint8> <valis.slide_io.VipsSlideReader object at 0x7f05680e6d20> True (375, 300, 3)\n",
      "<Slide, name = B_213-ST_BFIW-SE_173_processed>, width=300, height=375, channels=3, levels=1, RGB=True, dtype=uint8> <valis.slide_io.VipsSlideReader object at 0x7f05680e6ed0> True (375, 300, 3)\n",
      "<Slide, name = B_213-ST_BFIW-SE_174_processed>, width=300, height=375, channels=3, levels=1, RGB=True, dtype=uint8> <valis.slide_io.VipsSlideReader object at 0x7f05680e7170> True (375, 300, 3)\n",
      "<Slide, name = B_213-ST_BFIW-SE_175_processed>, width=300, height=375, channels=3, levels=1, RGB=True, dtype=uint8> <valis.slide_io.VipsSlideReader object at 0x7f05680e7260> True (375, 300, 3)\n",
      "<Slide, name = B_213-ST_BFIW-SE_176_processed>, width=300, height=375, channels=3, levels=1, RGB=True, dtype=uint8> <valis.slide_io.VipsSlideReader object at 0x7f05680e1310> True (375, 300, 3)\n",
      "<Slide, name = B_213-ST_BFIW-SE_177_processed>, width=300, height=375, channels=3, levels=1, RGB=True, dtype=uint8> <valis.slide_io.VipsSlideReader object at 0x7f05680e7380> True (375, 300, 3)\n",
      "<Slide, name = B_213-ST_BFIW-SE_178_processed>, width=300, height=375, channels=3, levels=1, RGB=True, dtype=uint8> <valis.slide_io.VipsSlideReader object at 0x7f05680e7440> True (375, 300, 3)\n",
      "<Slide, name = B_213-ST_BFIW-SE_179_processed>, width=300, height=375, channels=3, levels=1, RGB=True, dtype=uint8> <valis.slide_io.VipsSlideReader object at 0x7f05680e6f90> True (375, 300, 3)\n",
      "<Slide, name = B_213-ST_BFIW-SE_180_processed>, width=300, height=375, channels=3, levels=1, RGB=True, dtype=uint8> <valis.slide_io.VipsSlideReader object at 0x7f05680e7230> True (375, 300, 3)\n"
     ]
    },
    {
     "name": "stderr",
     "output_type": "stream",
     "text": [
      "Converting images:   6%|██▊                                             | 156/2608 [00:01<00:29, 84.00image/s]"
     ]
    },
    {
     "name": "stdout",
     "output_type": "stream",
     "text": [
      "<Slide, name = B_213-ST_BFIW-SE_181_processed>, width=300, height=375, channels=3, levels=1, RGB=True, dtype=uint8> <valis.slide_io.VipsSlideReader object at 0x7f05680e7470> True (375, 300, 3)\n",
      "<Slide, name = B_213-ST_BFIW-SE_182_processed>, width=300, height=375, channels=3, levels=1, RGB=True, dtype=uint8> <valis.slide_io.VipsSlideReader object at 0x7f05680e7620> True (375, 300, 3)\n",
      "<Slide, name = B_213-ST_BFIW-SE_183_processed>, width=300, height=375, channels=3, levels=1, RGB=True, dtype=uint8> <valis.slide_io.VipsSlideReader object at 0x7f05680e7680> True (375, 300, 3)\n",
      "<Slide, name = B_213-ST_BFIW-SE_184_processed>, width=300, height=375, channels=3, levels=1, RGB=True, dtype=uint8> <valis.slide_io.VipsSlideReader object at 0x7f05680e76e0> True (375, 300, 3)\n",
      "<Slide, name = B_213-ST_BFIW-SE_185_processed>, width=300, height=375, channels=3, levels=1, RGB=True, dtype=uint8> <valis.slide_io.VipsSlideReader object at 0x7f05680e7740> True (375, 300, 3)\n",
      "<Slide, name = B_213-ST_BFIW-SE_186_processed>, width=300, height=375, channels=3, levels=1, RGB=True, dtype=uint8> <valis.slide_io.VipsSlideReader object at 0x7f05680e77a0> True (375, 300, 3)\n",
      "<Slide, name = B_213-ST_BFIW-SE_187_processed>, width=300, height=375, channels=3, levels=1, RGB=True, dtype=uint8> <valis.slide_io.VipsSlideReader object at 0x7f05680e7800> True (375, 300, 3)\n",
      "<Slide, name = B_213-ST_BFIW-SE_188_processed>, width=300, height=375, channels=3, levels=1, RGB=True, dtype=uint8> <valis.slide_io.VipsSlideReader object at 0x7f05680e7860> True (375, 300, 3)\n",
      "<Slide, name = B_213-ST_BFIW-SE_189_processed>, width=300, height=375, channels=3, levels=1, RGB=True, dtype=uint8> <valis.slide_io.VipsSlideReader object at 0x7f05680e78c0> True (375, 300, 3)\n"
     ]
    },
    {
     "name": "stderr",
     "output_type": "stream",
     "text": [
      "Converting images:   6%|███                                             | 165/2608 [00:01<00:29, 82.85image/s]"
     ]
    },
    {
     "name": "stdout",
     "output_type": "stream",
     "text": [
      "<Slide, name = B_213-ST_BFIW-SE_190_processed>, width=300, height=375, channels=3, levels=1, RGB=True, dtype=uint8> <valis.slide_io.VipsSlideReader object at 0x7f05680e7920> True (375, 300, 3)\n",
      "<Slide, name = B_213-ST_BFIW-SE_191_processed>, width=300, height=375, channels=3, levels=1, RGB=True, dtype=uint8> <valis.slide_io.VipsSlideReader object at 0x7f05680e79e0> True (375, 300, 3)\n",
      "<Slide, name = B_213-ST_BFIW-SE_192_processed>, width=300, height=375, channels=3, levels=1, RGB=True, dtype=uint8> <valis.slide_io.VipsSlideReader object at 0x7f05680e7a40> True (375, 300, 3)\n",
      "<Slide, name = B_213-ST_BFIW-SE_193_processed>, width=300, height=375, channels=3, levels=1, RGB=True, dtype=uint8> <valis.slide_io.VipsSlideReader object at 0x7f05680e7ad0> True (375, 300, 3)\n",
      "<Slide, name = B_213-ST_BFIW-SE_194_processed>, width=300, height=375, channels=3, levels=1, RGB=True, dtype=uint8> <valis.slide_io.VipsSlideReader object at 0x7f05680e7b30> True (375, 300, 3)\n",
      "<Slide, name = B_213-ST_BFIW-SE_195_processed>, width=300, height=375, channels=3, levels=1, RGB=True, dtype=uint8> <valis.slide_io.VipsSlideReader object at 0x7f05680e7bc0> True (375, 300, 3)\n",
      "<Slide, name = B_213-ST_BFIW-SE_196_processed>, width=300, height=375, channels=3, levels=1, RGB=True, dtype=uint8> <valis.slide_io.VipsSlideReader object at 0x7f05680e7c20> True (375, 300, 3)\n",
      "<Slide, name = B_213-ST_BFIW-SE_197_processed>, width=300, height=375, channels=3, levels=1, RGB=True, dtype=uint8> <valis.slide_io.VipsSlideReader object at 0x7f05680e7c80> True (375, 300, 3)\n",
      "<Slide, name = B_213-ST_BFIW-SE_198_processed>, width=300, height=375, channels=3, levels=1, RGB=True, dtype=uint8> <valis.slide_io.VipsSlideReader object at 0x7f05680e7ce0> True (375, 300, 3)\n"
     ]
    },
    {
     "name": "stderr",
     "output_type": "stream",
     "text": [
      "Converting images:   7%|███▏                                            | 174/2608 [00:01<00:31, 77.10image/s]"
     ]
    },
    {
     "name": "stdout",
     "output_type": "stream",
     "text": [
      "<Slide, name = B_213-ST_BFIW-SE_201_processed>, width=300, height=375, channels=3, levels=1, RGB=True, dtype=uint8> <valis.slide_io.VipsSlideReader object at 0x7f05680e7d40> True (375, 300, 3)\n",
      "<Slide, name = B_213-ST_BFIW-SE_202_processed>, width=300, height=375, channels=3, levels=1, RGB=True, dtype=uint8> <valis.slide_io.VipsSlideReader object at 0x7f05680e7da0> True (375, 300, 3)\n",
      "<Slide, name = B_213-ST_BFIW-SE_203_processed>, width=300, height=375, channels=3, levels=1, RGB=True, dtype=uint8> <valis.slide_io.VipsSlideReader object at 0x7f05680e7e00> True (375, 300, 3)\n",
      "<Slide, name = B_213-ST_BFIW-SE_204_processed>, width=300, height=375, channels=3, levels=1, RGB=True, dtype=uint8> <valis.slide_io.VipsSlideReader object at 0x7f05680e7e60> True (375, 300, 3)\n",
      "<Slide, name = B_213-ST_BFIW-SE_205_processed>, width=300, height=375, channels=3, levels=1, RGB=True, dtype=uint8> <valis.slide_io.VipsSlideReader object at 0x7f05680e7ef0> True (375, 300, 3)\n",
      "<Slide, name = B_213-ST_BFIW-SE_206_processed>, width=300, height=375, channels=3, levels=1, RGB=True, dtype=uint8> <valis.slide_io.VipsSlideReader object at 0x7f05680e7fe0> True (375, 300, 3)\n",
      "<Slide, name = B_213-ST_BFIW-SE_207_processed>, width=300, height=375, channels=3, levels=1, RGB=True, dtype=uint8> <valis.slide_io.VipsSlideReader object at 0x7f05680e7f80> True (375, 300, 3)\n",
      "<Slide, name = B_213-ST_BFIW-SE_208_processed>, width=300, height=375, channels=3, levels=1, RGB=True, dtype=uint8> <valis.slide_io.VipsSlideReader object at 0x7f05680e3590> True (375, 300, 3)\n"
     ]
    },
    {
     "name": "stderr",
     "output_type": "stream",
     "text": [
      "Converting images:   7%|███▎                                            | 182/2608 [00:02<00:34, 70.77image/s]"
     ]
    },
    {
     "name": "stdout",
     "output_type": "stream",
     "text": [
      "<Slide, name = B_213-ST_BFIW-SE_209_processed>, width=300, height=375, channels=3, levels=1, RGB=True, dtype=uint8> <valis.slide_io.VipsSlideReader object at 0x7f05680e7cb0> True (375, 300, 3)\n",
      "<Slide, name = B_213-ST_BFIW-SE_210_processed>, width=300, height=375, channels=3, levels=1, RGB=True, dtype=uint8> <valis.slide_io.VipsSlideReader object at 0x7f05680e7e30> True (375, 300, 3)\n",
      "<Slide, name = B_213-ST_BFIW-SE_211_processed>, width=300, height=375, channels=3, levels=1, RGB=True, dtype=uint8> <valis.slide_io.VipsSlideReader object at 0x7f05680e7f20> True (375, 300, 3)\n",
      "<Slide, name = B_213-ST_BFIW-SE_212_processed>, width=300, height=375, channels=3, levels=1, RGB=True, dtype=uint8> <valis.slide_io.VipsSlideReader object at 0x7f05680e8260> True (375, 300, 3)\n",
      "<Slide, name = B_213-ST_BFIW-SE_213_processed>, width=300, height=375, channels=3, levels=1, RGB=True, dtype=uint8> <valis.slide_io.VipsSlideReader object at 0x7f05680e80e0> True (375, 300, 3)\n",
      "<Slide, name = B_213-ST_BFIW-SE_214_processed>, width=300, height=375, channels=3, levels=1, RGB=True, dtype=uint8> <valis.slide_io.VipsSlideReader object at 0x7f05680e83e0> True (375, 300, 3)\n",
      "<Slide, name = B_213-ST_BFIW-SE_215_processed>, width=300, height=375, channels=3, levels=1, RGB=True, dtype=uint8> <valis.slide_io.VipsSlideReader object at 0x7f05680e84d0> True (375, 300, 3)\n",
      "<Slide, name = B_213-ST_BFIW-SE_216_processed>, width=300, height=375, channels=3, levels=1, RGB=True, dtype=uint8> <valis.slide_io.VipsSlideReader object at 0x7f05680e8560> True (375, 300, 3)\n"
     ]
    },
    {
     "name": "stderr",
     "output_type": "stream",
     "text": [
      "Converting images:   7%|███▍                                            | 190/2608 [00:02<00:35, 67.46image/s]"
     ]
    },
    {
     "name": "stdout",
     "output_type": "stream",
     "text": [
      "<Slide, name = B_213-ST_BFIW-SE_217_processed>, width=300, height=375, channels=3, levels=1, RGB=True, dtype=uint8> <valis.slide_io.VipsSlideReader object at 0x7f05680e85f0> True (375, 300, 3)\n",
      "<Slide, name = B_213-ST_BFIW-SE_218_processed>, width=300, height=375, channels=3, levels=1, RGB=True, dtype=uint8> <valis.slide_io.VipsSlideReader object at 0x7f056c438440> True (375, 300, 3)\n",
      "<Slide, name = B_213-ST_BFIW-SE_219_processed>, width=300, height=375, channels=3, levels=1, RGB=True, dtype=uint8> <valis.slide_io.VipsSlideReader object at 0x7f05680e8110> True (375, 300, 3)\n",
      "<Slide, name = B_213-ST_BFIW-SE_220_processed>, width=300, height=375, channels=3, levels=1, RGB=True, dtype=uint8> <valis.slide_io.VipsSlideReader object at 0x7f05680e8590> True (375, 300, 3)\n",
      "<Slide, name = B_213-ST_BFIW-SE_221_processed>, width=300, height=375, channels=3, levels=1, RGB=True, dtype=uint8> <valis.slide_io.VipsSlideReader object at 0x7f05680e8860> True (375, 300, 3)\n",
      "<Slide, name = B_213-ST_BFIW-SE_222_processed>, width=300, height=375, channels=3, levels=1, RGB=True, dtype=uint8> <valis.slide_io.VipsSlideReader object at 0x7f05680e88f0> True (375, 300, 3)\n",
      "<Slide, name = B_213-ST_BFIW-SE_223_processed>, width=300, height=375, channels=3, levels=1, RGB=True, dtype=uint8> <valis.slide_io.VipsSlideReader object at 0x7f05680e8980> True (375, 300, 3)\n"
     ]
    },
    {
     "name": "stderr",
     "output_type": "stream",
     "text": [
      "Converting images:   8%|███▋                                            | 197/2608 [00:02<00:37, 64.50image/s]"
     ]
    },
    {
     "name": "stdout",
     "output_type": "stream",
     "text": [
      "<Slide, name = B_213-ST_BFIW-SE_224_processed>, width=300, height=375, channels=3, levels=1, RGB=True, dtype=uint8> <valis.slide_io.VipsSlideReader object at 0x7f05680e07a0> True (375, 300, 3)\n",
      "<Slide, name = B_213-ST_BFIW-SE_225_processed>, width=300, height=375, channels=3, levels=1, RGB=True, dtype=uint8> <valis.slide_io.VipsSlideReader object at 0x7f05680e8050> True (375, 300, 3)\n",
      "<Slide, name = B_213-ST_BFIW-SE_226_processed>, width=300, height=375, channels=3, levels=1, RGB=True, dtype=uint8> <valis.slide_io.VipsSlideReader object at 0x7f05680e8920> True (375, 300, 3)\n",
      "<Slide, name = B_213-ST_BFIW-SE_227_processed>, width=300, height=375, channels=3, levels=1, RGB=True, dtype=uint8> <valis.slide_io.VipsSlideReader object at 0x7f05680e8b90> True (375, 300, 3)\n",
      "<Slide, name = B_213-ST_BFIW-SE_228_processed>, width=300, height=375, channels=3, levels=1, RGB=True, dtype=uint8> <valis.slide_io.VipsSlideReader object at 0x7f05680e8c20> True (375, 300, 3)\n",
      "<Slide, name = B_213-ST_BFIW-SE_229_processed>, width=300, height=375, channels=3, levels=1, RGB=True, dtype=uint8> <valis.slide_io.VipsSlideReader object at 0x7f05680e8cb0> True (375, 300, 3)\n",
      "<Slide, name = B_213-ST_BFIW-SE_230_processed>, width=300, height=375, channels=3, levels=1, RGB=True, dtype=uint8> <valis.slide_io.VipsSlideReader object at 0x7f05680e8d70> True (375, 300, 3)\n"
     ]
    },
    {
     "name": "stderr",
     "output_type": "stream",
     "text": [
      "Converting images:   8%|███▊                                            | 204/2608 [00:02<00:38, 63.08image/s]"
     ]
    },
    {
     "name": "stdout",
     "output_type": "stream",
     "text": [
      "<Slide, name = B_213-ST_BFIW-SE_231_processed>, width=300, height=375, channels=3, levels=1, RGB=True, dtype=uint8> <valis.slide_io.VipsSlideReader object at 0x7f05680e8e00> True (375, 300, 3)\n",
      "<Slide, name = B_213-ST_BFIW-SE_232_processed>, width=300, height=375, channels=3, levels=1, RGB=True, dtype=uint8> <valis.slide_io.VipsSlideReader object at 0x7f05680e8ec0> True (375, 300, 3)\n",
      "<Slide, name = B_213-ST_BFIW-SE_233_processed>, width=300, height=375, channels=3, levels=1, RGB=True, dtype=uint8> <valis.slide_io.VipsSlideReader object at 0x7f05680e8f80> True (375, 300, 3)\n",
      "<Slide, name = B_213-ST_BFIW-SE_234_processed>, width=300, height=375, channels=3, levels=1, RGB=True, dtype=uint8> <valis.slide_io.VipsSlideReader object at 0x7f05680e9040> True (375, 300, 3)\n",
      "<Slide, name = B_213-ST_BFIW-SE_235_processed>, width=300, height=375, channels=3, levels=1, RGB=True, dtype=uint8> <valis.slide_io.VipsSlideReader object at 0x7f05680e90d0> True (375, 300, 3)\n",
      "<Slide, name = B_213-ST_BFIW-SE_236_processed>, width=300, height=375, channels=3, levels=1, RGB=True, dtype=uint8> <valis.slide_io.VipsSlideReader object at 0x7f05680e9160> True (375, 300, 3)\n",
      "<Slide, name = B_213-ST_BFIW-SE_237_processed>, width=300, height=375, channels=3, levels=1, RGB=True, dtype=uint8> <valis.slide_io.VipsSlideReader object at 0x7f0568098fe0> True (375, 300, 3)\n"
     ]
    },
    {
     "name": "stderr",
     "output_type": "stream",
     "text": [
      "Converting images:   8%|███▉                                            | 211/2608 [00:02<00:39, 61.28image/s]"
     ]
    },
    {
     "name": "stdout",
     "output_type": "stream",
     "text": [
      "<Slide, name = B_213-ST_BFIW-SE_238_processed>, width=300, height=375, channels=3, levels=1, RGB=True, dtype=uint8> <valis.slide_io.VipsSlideReader object at 0x7f0568099280> True (375, 300, 3)\n",
      "<Slide, name = B_213-ST_BFIW-SE_239_processed>, width=300, height=375, channels=3, levels=1, RGB=True, dtype=uint8> <valis.slide_io.VipsSlideReader object at 0x7f05680e8890> True (375, 300, 3)\n",
      "<Slide, name = B_213-ST_BFIW-SE_240_processed>, width=300, height=375, channels=3, levels=1, RGB=True, dtype=uint8> <valis.slide_io.VipsSlideReader object at 0x7f05680e9250> True (375, 300, 3)\n",
      "<Slide, name = B_213-ST_BFIW-SE_241_processed>, width=300, height=375, channels=3, levels=1, RGB=True, dtype=uint8> <valis.slide_io.VipsSlideReader object at 0x7f05680e93d0> True (375, 300, 3)\n",
      "<Slide, name = B_213-ST_BFIW-SE_242_processed>, width=300, height=375, channels=3, levels=1, RGB=True, dtype=uint8> <valis.slide_io.VipsSlideReader object at 0x7f05680e94c0> True (375, 300, 3)\n",
      "<Slide, name = B_213-ST_BFIW-SE_243_processed>, width=300, height=375, channels=3, levels=1, RGB=True, dtype=uint8> <valis.slide_io.VipsSlideReader object at 0x7f05680e9550> True (375, 300, 3)\n",
      "<Slide, name = B_213-ST_BFIW-SE_244_processed>, width=300, height=375, channels=3, levels=1, RGB=True, dtype=uint8> <valis.slide_io.VipsSlideReader object at 0x7f05680e8230> True (375, 300, 3)\n"
     ]
    },
    {
     "name": "stderr",
     "output_type": "stream",
     "text": [
      "Converting images:   8%|████                                            | 218/2608 [00:02<00:39, 60.71image/s]"
     ]
    },
    {
     "name": "stdout",
     "output_type": "stream",
     "text": [
      "<Slide, name = B_213-ST_BFIW-SE_245_processed>, width=300, height=375, channels=3, levels=1, RGB=True, dtype=uint8> <valis.slide_io.VipsSlideReader object at 0x7f05680e9610> True (375, 300, 3)\n",
      "<Slide, name = B_213-ST_BFIW-SE_246_processed>, width=300, height=375, channels=3, levels=1, RGB=True, dtype=uint8> <valis.slide_io.VipsSlideReader object at 0x7f05680e9460> True (375, 300, 3)\n",
      "<Slide, name = B_213-ST_BFIW-SE_247_processed>, width=300, height=375, channels=3, levels=1, RGB=True, dtype=uint8> <valis.slide_io.VipsSlideReader object at 0x7f05680e96d0> True (375, 300, 3)\n",
      "<Slide, name = B_213-ST_BFIW-SE_248_processed>, width=300, height=375, channels=3, levels=1, RGB=True, dtype=uint8> <valis.slide_io.VipsSlideReader object at 0x7f05680e9790> True (375, 300, 3)\n",
      "<Slide, name = B_213-ST_BFIW-SE_249_processed>, width=300, height=375, channels=3, levels=1, RGB=True, dtype=uint8> <valis.slide_io.VipsSlideReader object at 0x7f05680e9940> True (375, 300, 3)\n",
      "<Slide, name = B_213-ST_BFIW-SE_250_processed>, width=300, height=375, channels=3, levels=1, RGB=True, dtype=uint8> <valis.slide_io.VipsSlideReader object at 0x7f05680e9a30> True (375, 300, 3)\n",
      "<Slide, name = B_213-ST_BFIW-SE_251_processed>, width=300, height=375, channels=3, levels=1, RGB=True, dtype=uint8> <valis.slide_io.VipsSlideReader object at 0x7f05680e9af0> True (375, 300, 3)\n"
     ]
    },
    {
     "name": "stderr",
     "output_type": "stream",
     "text": [
      "Converting images:   9%|████▏                                           | 225/2608 [00:02<00:42, 56.63image/s]"
     ]
    },
    {
     "name": "stdout",
     "output_type": "stream",
     "text": [
      "<Slide, name = B_213-ST_BFIW-SE_252_processed>, width=300, height=375, channels=3, levels=1, RGB=True, dtype=uint8> <valis.slide_io.VipsSlideReader object at 0x7f05680e9310> True (375, 300, 3)\n",
      "<Slide, name = B_213-ST_BFIW-SE_253_processed>, width=300, height=375, channels=3, levels=1, RGB=True, dtype=uint8> <valis.slide_io.VipsSlideReader object at 0x7f05680e98e0> True (375, 300, 3)\n",
      "<Slide, name = B_213-ST_BFIW-SE_254_processed>, width=300, height=375, channels=3, levels=1, RGB=True, dtype=uint8> <valis.slide_io.VipsSlideReader object at 0x7f05680e9d00> True (375, 300, 3)\n",
      "<Slide, name = B_213-ST_BFIW-SE_255_processed>, width=300, height=375, channels=3, levels=1, RGB=True, dtype=uint8> <valis.slide_io.VipsSlideReader object at 0x7f0722699dc0> True (375, 300, 3)\n",
      "<Slide, name = B_213-ST_BFIW-SE_256_processed>, width=300, height=375, channels=3, levels=1, RGB=True, dtype=uint8> <valis.slide_io.VipsSlideReader object at 0x7f05680e99d0> True (375, 300, 3)\n",
      "<Slide, name = B_213-ST_BFIW-SE_257_processed>, width=300, height=375, channels=3, levels=1, RGB=True, dtype=uint8> <valis.slide_io.VipsSlideReader object at 0x7f05680e8950> True (375, 300, 3)\n"
     ]
    },
    {
     "name": "stderr",
     "output_type": "stream",
     "text": [
      "Converting images:   9%|████▎                                           | 231/2608 [00:03<00:47, 50.05image/s]"
     ]
    },
    {
     "name": "stdout",
     "output_type": "stream",
     "text": [
      "<Slide, name = B_213-ST_BFIW-SE_258_processed>, width=300, height=375, channels=3, levels=1, RGB=True, dtype=uint8> <valis.slide_io.VipsSlideReader object at 0x7f05680e9a00> True (375, 300, 3)\n",
      "<Slide, name = B_213-ST_BFIW-SE_259_processed>, width=300, height=375, channels=3, levels=1, RGB=True, dtype=uint8> <valis.slide_io.VipsSlideReader object at 0x7f05680ea000> True (375, 300, 3)\n",
      "<Slide, name = B_213-ST_BFIW-SE_260_processed>, width=300, height=375, channels=3, levels=1, RGB=True, dtype=uint8> <valis.slide_io.VipsSlideReader object at 0x7f05680ea0c0> True (375, 300, 3)\n",
      "<Slide, name = B_213-ST_BFIW-SE_261_processed>, width=300, height=375, channels=3, levels=1, RGB=True, dtype=uint8> <valis.slide_io.VipsSlideReader object at 0x7f05680ea1b0> True (375, 300, 3)\n",
      "<Slide, name = B_213-ST_BFIW-SE_262_processed>, width=300, height=375, channels=3, levels=1, RGB=True, dtype=uint8> <valis.slide_io.VipsSlideReader object at 0x7f0568261eb0> True (375, 300, 3)\n",
      "<Slide, name = B_213-ST_BFIW-SE_263_processed>, width=300, height=375, channels=3, levels=1, RGB=True, dtype=uint8> <valis.slide_io.VipsSlideReader object at 0x7f05680e9f70> True (375, 300, 3)\n"
     ]
    },
    {
     "name": "stderr",
     "output_type": "stream",
     "text": [
      "Converting images:   9%|████▎                                           | 237/2608 [00:03<00:51, 45.96image/s]"
     ]
    },
    {
     "name": "stdout",
     "output_type": "stream",
     "text": [
      "<Slide, name = B_213-ST_BFIW-SE_264_processed>, width=300, height=375, channels=3, levels=1, RGB=True, dtype=uint8> <valis.slide_io.VipsSlideReader object at 0x7f05680ea390> True (375, 300, 3)\n",
      "<Slide, name = B_213-ST_BFIW-SE_265_processed>, width=300, height=375, channels=3, levels=1, RGB=True, dtype=uint8> <valis.slide_io.VipsSlideReader object at 0x7f05680ea060> True (375, 300, 3)\n",
      "<Slide, name = B_213-ST_BFIW-SE_266_processed>, width=300, height=375, channels=3, levels=1, RGB=True, dtype=uint8> <valis.slide_io.VipsSlideReader object at 0x7f05680ea540> True (375, 300, 3)\n",
      "<Slide, name = B_213-ST_BFIW-SE_267_processed>, width=300, height=375, channels=3, levels=1, RGB=True, dtype=uint8> <valis.slide_io.VipsSlideReader object at 0x7f05680ea5d0> True (375, 300, 3)\n",
      "<Slide, name = B_213-ST_BFIW-SE_268_processed>, width=300, height=375, channels=3, levels=1, RGB=True, dtype=uint8> <valis.slide_io.VipsSlideReader object at 0x7f0568429be0> True (375, 300, 3)\n"
     ]
    },
    {
     "name": "stderr",
     "output_type": "stream",
     "text": [
      "Converting images:   9%|████▍                                           | 242/2608 [00:03<00:52, 44.75image/s]"
     ]
    },
    {
     "name": "stdout",
     "output_type": "stream",
     "text": [
      "<Slide, name = B_213-ST_BFIW-SE_269_processed>, width=300, height=375, channels=3, levels=1, RGB=True, dtype=uint8> <valis.slide_io.VipsSlideReader object at 0x7f05680b2750> True (375, 300, 3)\n",
      "<Slide, name = B_213-ST_BFIW-SE_270_processed>, width=300, height=375, channels=3, levels=1, RGB=True, dtype=uint8> <valis.slide_io.VipsSlideReader object at 0x7f05680e2570> True (375, 300, 3)\n",
      "<Slide, name = B_213-ST_BFIW-SE_271_processed>, width=300, height=375, channels=3, levels=1, RGB=True, dtype=uint8> <valis.slide_io.VipsSlideReader object at 0x7f05680e3050> True (375, 300, 3)\n",
      "<Slide, name = B_213-ST_BFIW-SE_272_processed>, width=300, height=375, channels=3, levels=1, RGB=True, dtype=uint8> <valis.slide_io.VipsSlideReader object at 0x7f05680ea5a0> True (375, 300, 3)\n",
      "<Slide, name = B_213-ST_BFIW-SE_273_processed>, width=300, height=375, channels=3, levels=1, RGB=True, dtype=uint8> <valis.slide_io.VipsSlideReader object at 0x7f05680e24b0> True (375, 300, 3)\n"
     ]
    },
    {
     "name": "stderr",
     "output_type": "stream",
     "text": [
      "Converting images:   9%|████▌                                           | 247/2608 [00:03<00:52, 44.78image/s]"
     ]
    },
    {
     "name": "stdout",
     "output_type": "stream",
     "text": [
      "<Slide, name = B_213-ST_BFIW-SE_274_processed>, width=300, height=375, channels=3, levels=1, RGB=True, dtype=uint8> <valis.slide_io.VipsSlideReader object at 0x7f05680b29f0> True (375, 300, 3)\n",
      "<Slide, name = B_213-ST_BFIW-SE_275_processed>, width=300, height=375, channels=3, levels=1, RGB=True, dtype=uint8> <valis.slide_io.VipsSlideReader object at 0x7f05680e2870> True (375, 300, 3)\n",
      "<Slide, name = B_213-ST_BFIW-SE_276_processed>, width=300, height=375, channels=3, levels=1, RGB=True, dtype=uint8> <valis.slide_io.VipsSlideReader object at 0x7f05680ea840> True (375, 300, 3)\n",
      "<Slide, name = B_213-ST_BFIW-SE_277_processed>, width=300, height=375, channels=3, levels=1, RGB=True, dtype=uint8> <valis.slide_io.VipsSlideReader object at 0x7f05680ea990> True (375, 300, 3)\n",
      "<Slide, name = B_213-ST_BFIW-SE_278_processed>, width=300, height=375, channels=3, levels=1, RGB=True, dtype=uint8> <valis.slide_io.VipsSlideReader object at 0x7f05680ea7b0> True (375, 300, 3)\n"
     ]
    },
    {
     "name": "stderr",
     "output_type": "stream",
     "text": [
      "Converting images:  10%|████▋                                           | 252/2608 [00:03<00:59, 39.39image/s]"
     ]
    },
    {
     "name": "stdout",
     "output_type": "stream",
     "text": [
      "<Slide, name = B_213-ST_BFIW-SE_279_processed>, width=300, height=375, channels=3, levels=1, RGB=True, dtype=uint8> <valis.slide_io.VipsSlideReader object at 0x7f05680eac90> True (375, 300, 3)\n",
      "<Slide, name = B_213-ST_BFIW-SE_280_processed>, width=300, height=375, channels=3, levels=1, RGB=True, dtype=uint8> <valis.slide_io.VipsSlideReader object at 0x7f05680ead80> True (375, 300, 3)\n",
      "<Slide, name = B_213-ST_BFIW-SE_281_processed>, width=300, height=375, channels=3, levels=1, RGB=True, dtype=uint8> <valis.slide_io.VipsSlideReader object at 0x7f05680e2ae0> True (375, 300, 3)\n",
      "<Slide, name = B_213-ST_BFIW-SE_282_processed>, width=300, height=375, channels=3, levels=1, RGB=True, dtype=uint8> <valis.slide_io.VipsSlideReader object at 0x7f05680b2f00> True (375, 300, 3)\n",
      "<Slide, name = B_213-ST_BFIW-SE_283_processed>, width=300, height=375, channels=3, levels=1, RGB=True, dtype=uint8> <valis.slide_io.VipsSlideReader object at 0x7f05680eac30> True (375, 300, 3)\n"
     ]
    },
    {
     "name": "stderr",
     "output_type": "stream",
     "text": [
      "Converting images:  10%|████▋                                           | 257/2608 [00:03<01:02, 37.49image/s]"
     ]
    },
    {
     "name": "stdout",
     "output_type": "stream",
     "text": [
      "<Slide, name = B_213-ST_BFIW-SE_284_processed>, width=300, height=375, channels=3, levels=1, RGB=True, dtype=uint8> <valis.slide_io.VipsSlideReader object at 0x7f05680eaf90> True (375, 300, 3)\n",
      "<Slide, name = B_213-ST_BFIW-SE_285_processed>, width=300, height=375, channels=3, levels=1, RGB=True, dtype=uint8> <valis.slide_io.VipsSlideReader object at 0x7f05680e2a50> True (375, 300, 3)\n",
      "<Slide, name = B_213-ST_BFIW-SE_286_processed>, width=300, height=375, channels=3, levels=1, RGB=True, dtype=uint8> <valis.slide_io.VipsSlideReader object at 0x7f05680e2f30> True (375, 300, 3)\n",
      "<Slide, name = B_213-ST_BFIW-SE_287_processed>, width=300, height=375, channels=3, levels=1, RGB=True, dtype=uint8> <valis.slide_io.VipsSlideReader object at 0x7f05680eacc0> True (375, 300, 3)\n",
      "<Slide, name = B_213-ST_BFIW-SE_288_processed>, width=300, height=375, channels=3, levels=1, RGB=True, dtype=uint8> <valis.slide_io.VipsSlideReader object at 0x7f05680eb050> True (375, 300, 3)\n"
     ]
    },
    {
     "name": "stderr",
     "output_type": "stream",
     "text": [
      "Converting images:  10%|████▊                                           | 262/2608 [00:03<00:59, 39.57image/s]"
     ]
    },
    {
     "name": "stdout",
     "output_type": "stream",
     "text": [
      "<Slide, name = B_213-ST_BFIW-SE_289_processed>, width=300, height=375, channels=3, levels=1, RGB=True, dtype=uint8> <valis.slide_io.VipsSlideReader object at 0x7f05680e87d0> True (375, 300, 3)\n",
      "<Slide, name = B_213-ST_BFIW-SE_290_processed>, width=300, height=375, channels=3, levels=1, RGB=True, dtype=uint8> <valis.slide_io.VipsSlideReader object at 0x7f05680eb110> True (375, 300, 3)\n",
      "<Slide, name = B_213-ST_BFIW-SE_291_processed>, width=300, height=375, channels=3, levels=1, RGB=True, dtype=uint8> <valis.slide_io.VipsSlideReader object at 0x7f05680ead50> True (375, 300, 3)\n",
      "<Slide, name = B_213-ST_BFIW-SE_292_processed>, width=300, height=375, channels=3, levels=1, RGB=True, dtype=uint8> <valis.slide_io.VipsSlideReader object at 0x7f05680e81d0> True (375, 300, 3)\n",
      "<Slide, name = B_213-ST_BFIW-SE_293_processed>, width=300, height=375, channels=3, levels=1, RGB=True, dtype=uint8> <valis.slide_io.VipsSlideReader object at 0x7f05680e31d0> True (375, 300, 3)\n"
     ]
    },
    {
     "name": "stderr",
     "output_type": "stream",
     "text": [
      "Converting images:  10%|████▉                                           | 267/2608 [00:04<01:04, 36.42image/s]"
     ]
    },
    {
     "name": "stdout",
     "output_type": "stream",
     "text": [
      "<Slide, name = B_213-ST_BFIW-SE_294_processed>, width=300, height=375, channels=3, levels=1, RGB=True, dtype=uint8> <valis.slide_io.VipsSlideReader object at 0x7f05680eb380> True (375, 300, 3)\n",
      "<Slide, name = B_213-ST_BFIW-SE_295_processed>, width=300, height=375, channels=3, levels=1, RGB=True, dtype=uint8> <valis.slide_io.VipsSlideReader object at 0x7f056809ac00> True (375, 300, 3)\n",
      "<Slide, name = B_213-ST_BFIW-SE_296_processed>, width=300, height=375, channels=3, levels=1, RGB=True, dtype=uint8> <valis.slide_io.VipsSlideReader object at 0x7f05680b36b0> True (375, 300, 3)\n",
      "<Slide, name = B_213-ST_BFIW-SE_297_processed>, width=300, height=375, channels=3, levels=1, RGB=True, dtype=uint8> <valis.slide_io.VipsSlideReader object at 0x7f05680b3080> True (375, 300, 3)\n",
      "<Slide, name = B_213-ST_BFIW-SE_298_processed>, width=300, height=375, channels=3, levels=1, RGB=True, dtype=uint8> <valis.slide_io.VipsSlideReader object at 0x7f05680eb500> True (375, 300, 3)\n",
      "<Slide, name = B_213-ST_BFIW-SE_299_processed>, width=300, height=375, channels=3, levels=1, RGB=True, dtype=uint8> <valis.slide_io.VipsSlideReader object at 0x7f05680eb6e0> True (375, 300, 3)\n",
      "<Slide, name = B_213-ST_BFIW-SE_300_processed>, width=300, height=375, channels=3, levels=1, RGB=True, dtype=uint8> <valis.slide_io.VipsSlideReader object at 0x7f05680e3740> True (375, 300, 3)\n",
      "<Slide, name = B_213-ST_BFIW-SE_301_processed>, width=300, height=375, channels=3, levels=1, RGB=True, dtype=uint8> <valis.slide_io.VipsSlideReader object at 0x7f05680eb5c0> True (375, 300, 3)\n",
      "<Slide, name = B_213-ST_BFIW-SE_302_processed>, width=300, height=375, channels=3, levels=1, RGB=True, dtype=uint8> <valis.slide_io.VipsSlideReader object at 0x7f05680eb200> True (375, 300, 3)\n",
      "<Slide, name = B_213-ST_BFIW-SE_303_processed>, width=300, height=375, channels=3, levels=1, RGB=True, dtype=uint8> <valis.slide_io.VipsSlideReader object at 0x7f05680ebb00> True (375, 300, 3)\n"
     ]
    },
    {
     "name": "stderr",
     "output_type": "stream",
     "text": [
      "Converting images:  11%|█████                                           | 277/2608 [00:04<00:46, 50.39image/s]"
     ]
    },
    {
     "name": "stdout",
     "output_type": "stream",
     "text": [
      "<Slide, name = B_213-ST_BFIW-SE_304_processed>, width=300, height=375, channels=3, levels=1, RGB=True, dtype=uint8> <valis.slide_io.VipsSlideReader object at 0x7f05680ebbc0> True (375, 300, 3)\n",
      "<Slide, name = B_213-ST_BFIW-SE_305_processed>, width=300, height=375, channels=3, levels=1, RGB=True, dtype=uint8> <valis.slide_io.VipsSlideReader object at 0x7f05680ebc80> True (375, 300, 3)\n",
      "<Slide, name = B_213-ST_BFIW-SE_306_processed>, width=300, height=375, channels=3, levels=1, RGB=True, dtype=uint8> <valis.slide_io.VipsSlideReader object at 0x7f05680ebd40> True (375, 300, 3)\n",
      "<Slide, name = B_213-ST_BFIW-SE_307_processed>, width=300, height=375, channels=3, levels=1, RGB=True, dtype=uint8> <valis.slide_io.VipsSlideReader object at 0x7f05680ebe00> True (375, 300, 3)\n",
      "<Slide, name = B_213-ST_BFIW-SE_308_processed>, width=300, height=375, channels=3, levels=1, RGB=True, dtype=uint8> <valis.slide_io.VipsSlideReader object at 0x7f05680ebec0> True (375, 300, 3)\n",
      "<Slide, name = B_213-ST_BFIW-SE_309_processed>, width=300, height=375, channels=3, levels=1, RGB=True, dtype=uint8> <valis.slide_io.VipsSlideReader object at 0x7f05680ebf80> True (375, 300, 3)\n",
      "<Slide, name = B_213-ST_BFIW-SE_310_processed>, width=300, height=375, channels=3, levels=1, RGB=True, dtype=uint8> <valis.slide_io.VipsSlideReader object at 0x7f05680ebef0> True (375, 300, 3)\n",
      "<Slide, name = B_213-ST_BFIW-SE_311_processed>, width=300, height=375, channels=3, levels=1, RGB=True, dtype=uint8> <valis.slide_io.VipsSlideReader object at 0x7f05680eb440> True (375, 300, 3)\n",
      "<Slide, name = B_213-ST_BFIW-SE_312_processed>, width=300, height=375, channels=3, levels=1, RGB=True, dtype=uint8> <valis.slide_io.VipsSlideReader object at 0x7f05680eb170> True (375, 300, 3)\n",
      "<Slide, name = B_213-ST_BFIW-SE_313_processed>, width=300, height=375, channels=3, levels=1, RGB=True, dtype=uint8> <valis.slide_io.VipsSlideReader object at 0x7f05680eb2f0> True (375, 300, 3)\n"
     ]
    },
    {
     "name": "stderr",
     "output_type": "stream",
     "text": [
      "Converting images:  11%|█████▎                                          | 287/2608 [00:04<00:37, 61.28image/s]"
     ]
    },
    {
     "name": "stdout",
     "output_type": "stream",
     "text": [
      "<Slide, name = B_213-ST_BFIW-SE_314_processed>, width=300, height=375, channels=3, levels=1, RGB=True, dtype=uint8> <valis.slide_io.VipsSlideReader object at 0x7f05680edb50> True (375, 300, 3)\n",
      "<Slide, name = B_213-ST_BFIW-SE_315_processed>, width=300, height=375, channels=3, levels=1, RGB=True, dtype=uint8> <valis.slide_io.VipsSlideReader object at 0x7f05680ed940> True (375, 300, 3)\n",
      "<Slide, name = B_213-ST_BFIW-SE_316_processed>, width=300, height=375, channels=3, levels=1, RGB=True, dtype=uint8> <valis.slide_io.VipsSlideReader object at 0x7f05680ea750> True (375, 300, 3)\n",
      "<Slide, name = B_213-ST_BFIW-SE_317_processed>, width=300, height=375, channels=3, levels=1, RGB=True, dtype=uint8> <valis.slide_io.VipsSlideReader object at 0x7f05680ef440> True (375, 300, 3)\n",
      "<Slide, name = B_213-ST_BFIW-SE_318_processed>, width=300, height=375, channels=3, levels=1, RGB=True, dtype=uint8> <valis.slide_io.VipsSlideReader object at 0x7f05680edc10> True (375, 300, 3)\n",
      "<Slide, name = B_213-ST_BFIW-SE_319_processed>, width=300, height=375, channels=3, levels=1, RGB=True, dtype=uint8> <valis.slide_io.VipsSlideReader object at 0x7f05680e9f10> True (375, 300, 3)\n",
      "<Slide, name = B_213-ST_BFIW-SE_320_processed>, width=300, height=375, channels=3, levels=1, RGB=True, dtype=uint8> <valis.slide_io.VipsSlideReader object at 0x7f05680ed9d0> True (375, 300, 3)\n",
      "<Slide, name = B_213-ST_BFIW-SE_321_processed>, width=300, height=375, channels=3, levels=1, RGB=True, dtype=uint8> <valis.slide_io.VipsSlideReader object at 0x7f05680ec080> True (375, 300, 3)\n",
      "<Slide, name = B_213-ST_BFIW-SE_322_processed>, width=300, height=375, channels=3, levels=1, RGB=True, dtype=uint8> <valis.slide_io.VipsSlideReader object at 0x7f05680ec4d0> True (375, 300, 3)\n",
      "<Slide, name = B_213-ST_BFIW-SE_323_processed>, width=300, height=375, channels=3, levels=1, RGB=True, dtype=uint8> <valis.slide_io.VipsSlideReader object at 0x7f05680ec560> True (375, 300, 3)\n"
     ]
    },
    {
     "name": "stderr",
     "output_type": "stream",
     "text": [
      "Converting images:  11%|█████▍                                          | 297/2608 [00:04<00:32, 70.31image/s]"
     ]
    },
    {
     "name": "stdout",
     "output_type": "stream",
     "text": [
      "<Slide, name = B_213-ST_BFIW-SE_324_processed>, width=300, height=375, channels=3, levels=1, RGB=True, dtype=uint8> <valis.slide_io.VipsSlideReader object at 0x7f05680ec620> True (375, 300, 3)\n",
      "<Slide, name = B_213-ST_BFIW-SE_325_processed>, width=300, height=375, channels=3, levels=1, RGB=True, dtype=uint8> <valis.slide_io.VipsSlideReader object at 0x7f05680ec260> True (375, 300, 3)\n",
      "<Slide, name = B_213-ST_BFIW-SE_326_processed>, width=300, height=375, channels=3, levels=1, RGB=True, dtype=uint8> <valis.slide_io.VipsSlideReader object at 0x7f05680ec440> True (375, 300, 3)\n",
      "<Slide, name = B_213-ST_BFIW-SE_327_processed>, width=300, height=375, channels=3, levels=1, RGB=True, dtype=uint8> <valis.slide_io.VipsSlideReader object at 0x7f05680eda30> True (375, 300, 3)\n",
      "<Slide, name = B_213-ST_BFIW-SE_328_processed>, width=300, height=375, channels=3, levels=1, RGB=True, dtype=uint8> <valis.slide_io.VipsSlideReader object at 0x7f05680ec770> True (375, 300, 3)\n",
      "<Slide, name = B_213-ST_BFIW-SE_329_processed>, width=300, height=375, channels=3, levels=1, RGB=True, dtype=uint8> <valis.slide_io.VipsSlideReader object at 0x7f05680ec7d0> True (375, 300, 3)\n",
      "<Slide, name = B_213-ST_BFIW-SE_330_processed>, width=300, height=375, channels=3, levels=1, RGB=True, dtype=uint8> <valis.slide_io.VipsSlideReader object at 0x7f05680ec830> True (375, 300, 3)\n",
      "<Slide, name = B_213-ST_BFIW-SE_331_processed>, width=300, height=375, channels=3, levels=1, RGB=True, dtype=uint8> <valis.slide_io.VipsSlideReader object at 0x7f05680ec890> True (375, 300, 3)\n",
      "<Slide, name = B_213-ST_BFIW-SE_332_processed>, width=300, height=375, channels=3, levels=1, RGB=True, dtype=uint8> <valis.slide_io.VipsSlideReader object at 0x7f05680ec8f0> True (375, 300, 3)\n",
      "<Slide, name = B_213-ST_BFIW-SE_333_processed>, width=300, height=375, channels=3, levels=1, RGB=True, dtype=uint8> <valis.slide_io.VipsSlideReader object at 0x7f05680ec950> True (375, 300, 3)\n"
     ]
    },
    {
     "name": "stderr",
     "output_type": "stream",
     "text": [
      "Converting images:  12%|█████▋                                          | 307/2608 [00:04<00:29, 76.78image/s]"
     ]
    },
    {
     "name": "stdout",
     "output_type": "stream",
     "text": [
      "<Slide, name = B_213-ST_BFIW-SE_334_processed>, width=300, height=375, channels=3, levels=1, RGB=True, dtype=uint8> <valis.slide_io.VipsSlideReader object at 0x7f05680e8c50> True (375, 300, 3)\n",
      "<Slide, name = B_213-ST_BFIW-SE_335_processed>, width=300, height=375, channels=3, levels=1, RGB=True, dtype=uint8> <valis.slide_io.VipsSlideReader object at 0x7f05680ecb90> True (375, 300, 3)\n",
      "<Slide, name = B_213-ST_BFIW-SE_336_processed>, width=300, height=375, channels=3, levels=1, RGB=True, dtype=uint8> <valis.slide_io.VipsSlideReader object at 0x7f05680ecaa0> True (375, 300, 3)\n",
      "<Slide, name = B_213-ST_BFIW-SE_337_processed>, width=300, height=375, channels=3, levels=1, RGB=True, dtype=uint8> <valis.slide_io.VipsSlideReader object at 0x7f05680ec800> True (375, 300, 3)\n",
      "<Slide, name = B_213-ST_BFIW-SE_338_processed>, width=300, height=375, channels=3, levels=1, RGB=True, dtype=uint8> <valis.slide_io.VipsSlideReader object at 0x7f05680ec920> True (375, 300, 3)\n",
      "<Slide, name = B_213-ST_BFIW-SE_339_processed>, width=300, height=375, channels=3, levels=1, RGB=True, dtype=uint8> <valis.slide_io.VipsSlideReader object at 0x7f05680ecbc0> True (375, 300, 3)\n",
      "<Slide, name = B_213-ST_BFIW-SE_340_processed>, width=300, height=375, channels=3, levels=1, RGB=True, dtype=uint8> <valis.slide_io.VipsSlideReader object at 0x7f05680ecc20> True (375, 300, 3)\n",
      "<Slide, name = B_213-ST_BFIW-SE_341_processed>, width=300, height=375, channels=3, levels=1, RGB=True, dtype=uint8> <valis.slide_io.VipsSlideReader object at 0x7f05680ecc80> True (375, 300, 3)\n",
      "<Slide, name = B_213-ST_BFIW-SE_342_processed>, width=300, height=375, channels=3, levels=1, RGB=True, dtype=uint8> <valis.slide_io.VipsSlideReader object at 0x7f05680ecce0> True (375, 300, 3)\n"
     ]
    },
    {
     "name": "stderr",
     "output_type": "stream",
     "text": [
      "Converting images:  12%|█████▊                                          | 316/2608 [00:04<00:29, 78.66image/s]"
     ]
    },
    {
     "name": "stdout",
     "output_type": "stream",
     "text": [
      "<Slide, name = B_213-ST_BFIW-SE_343_processed>, width=300, height=375, channels=3, levels=1, RGB=True, dtype=uint8> <valis.slide_io.VipsSlideReader object at 0x7f05680ecd40> True (375, 300, 3)\n",
      "<Slide, name = B_213-ST_BFIW-SE_344_processed>, width=300, height=375, channels=3, levels=1, RGB=True, dtype=uint8> <valis.slide_io.VipsSlideReader object at 0x7f05680ecda0> True (375, 300, 3)\n",
      "<Slide, name = B_213-ST_BFIW-SE_345_processed>, width=300, height=375, channels=3, levels=1, RGB=True, dtype=uint8> <valis.slide_io.VipsSlideReader object at 0x7f05680ece00> True (375, 300, 3)\n",
      "<Slide, name = B_213-ST_BFIW-SE_346_processed>, width=300, height=375, channels=3, levels=1, RGB=True, dtype=uint8> <valis.slide_io.VipsSlideReader object at 0x7f05680ece60> True (375, 300, 3)\n",
      "<Slide, name = B_213-ST_BFIW-SE_347_processed>, width=300, height=375, channels=3, levels=1, RGB=True, dtype=uint8> <valis.slide_io.VipsSlideReader object at 0x7f05680ecec0> True (375, 300, 3)\n",
      "<Slide, name = B_213-ST_BFIW-SE_348_processed>, width=300, height=375, channels=3, levels=1, RGB=True, dtype=uint8> <valis.slide_io.VipsSlideReader object at 0x7f05680ecf50> True (375, 300, 3)\n",
      "<Slide, name = B_213-ST_BFIW-SE_349_processed>, width=300, height=375, channels=3, levels=1, RGB=True, dtype=uint8> <valis.slide_io.VipsSlideReader object at 0x7f05680ecfb0> True (375, 300, 3)\n",
      "<Slide, name = B_213-ST_BFIW-SE_350_processed>, width=300, height=375, channels=3, levels=1, RGB=True, dtype=uint8> <valis.slide_io.VipsSlideReader object at 0x7f05680ed010> True (375, 300, 3)\n",
      "<Slide, name = B_213-ST_BFIW-SE_351_processed>, width=300, height=375, channels=3, levels=1, RGB=True, dtype=uint8> <valis.slide_io.VipsSlideReader object at 0x7f05680eb290> True (375, 300, 3)\n",
      "<Slide, name = B_213-ST_BFIW-SE_352_processed>, width=300, height=375, channels=3, levels=1, RGB=True, dtype=uint8> <valis.slide_io.VipsSlideReader object at 0x7f05680ed1f0> True (375, 300, 3)\n"
     ]
    },
    {
     "name": "stderr",
     "output_type": "stream",
     "text": [
      "Converting images:  12%|██████                                          | 326/2608 [00:04<00:27, 82.79image/s]"
     ]
    },
    {
     "name": "stdout",
     "output_type": "stream",
     "text": [
      "<Slide, name = B_213-ST_BFIW-SE_353_processed>, width=300, height=375, channels=3, levels=1, RGB=True, dtype=uint8> <valis.slide_io.VipsSlideReader object at 0x7f05680ed130> True (375, 300, 3)\n",
      "<Slide, name = B_213-ST_BFIW-SE_354_processed>, width=300, height=375, channels=3, levels=1, RGB=True, dtype=uint8> <valis.slide_io.VipsSlideReader object at 0x7f05680ece90> True (375, 300, 3)\n",
      "<Slide, name = B_213-ST_BFIW-SE_355_processed>, width=300, height=375, channels=3, levels=1, RGB=True, dtype=uint8> <valis.slide_io.VipsSlideReader object at 0x7f05680ecfe0> True (375, 300, 3)\n",
      "<Slide, name = B_213-ST_BFIW-SE_356_processed>, width=300, height=375, channels=3, levels=1, RGB=True, dtype=uint8> <valis.slide_io.VipsSlideReader object at 0x7f05680eab10> True (375, 300, 3)\n",
      "<Slide, name = B_213-ST_BFIW-SE_357_processed>, width=300, height=375, channels=3, levels=1, RGB=True, dtype=uint8> <valis.slide_io.VipsSlideReader object at 0x7f05680ed3a0> True (375, 300, 3)\n",
      "<Slide, name = B_213-ST_BFIW-SE_358_processed>, width=300, height=375, channels=3, levels=1, RGB=True, dtype=uint8> <valis.slide_io.VipsSlideReader object at 0x7f05680ed2e0> True (375, 300, 3)\n",
      "<Slide, name = B_213-ST_BFIW-SE_359_processed>, width=300, height=375, channels=3, levels=1, RGB=True, dtype=uint8> <valis.slide_io.VipsSlideReader object at 0x7f05680ed100> True (375, 300, 3)\n",
      "<Slide, name = B_213-ST_BFIW-SE_360_processed>, width=300, height=375, channels=3, levels=1, RGB=True, dtype=uint8> <valis.slide_io.VipsSlideReader object at 0x7f05680ed160> True (375, 300, 3)\n",
      "<Slide, name = B_213-ST_BFIW-SE_361_processed>, width=300, height=375, channels=3, levels=1, RGB=True, dtype=uint8> <valis.slide_io.VipsSlideReader object at 0x7f05680ed3d0> True (375, 300, 3)\n",
      "<Slide, name = B_213-ST_BFIW-SE_362_processed>, width=300, height=375, channels=3, levels=1, RGB=True, dtype=uint8> <valis.slide_io.VipsSlideReader object at 0x7f05680ed430> True (375, 300, 3)\n"
     ]
    },
    {
     "name": "stderr",
     "output_type": "stream",
     "text": [
      "Converting images:  13%|██████▏                                         | 336/2608 [00:04<00:26, 85.75image/s]"
     ]
    },
    {
     "name": "stdout",
     "output_type": "stream",
     "text": [
      "<Slide, name = B_213-ST_BFIW-SE_363_processed>, width=300, height=375, channels=3, levels=1, RGB=True, dtype=uint8> <valis.slide_io.VipsSlideReader object at 0x7f05680ed4c0> True (375, 300, 3)\n",
      "<Slide, name = B_213-ST_BFIW-SE_364_processed>, width=300, height=375, channels=3, levels=1, RGB=True, dtype=uint8> <valis.slide_io.VipsSlideReader object at 0x7f05680ed550> True (375, 300, 3)\n",
      "<Slide, name = B_213-ST_BFIW-SE_365_processed>, width=300, height=375, channels=3, levels=1, RGB=True, dtype=uint8> <valis.slide_io.VipsSlideReader object at 0x7f05680ed5b0> True (375, 300, 3)\n",
      "<Slide, name = B_213-ST_BFIW-SE_366_processed>, width=300, height=375, channels=3, levels=1, RGB=True, dtype=uint8> <valis.slide_io.VipsSlideReader object at 0x7f05680ed640> True (375, 300, 3)\n",
      "<Slide, name = B_213-ST_BFIW-SE_367_processed>, width=300, height=375, channels=3, levels=1, RGB=True, dtype=uint8> <valis.slide_io.VipsSlideReader object at 0x7f05680ed6d0> True (375, 300, 3)\n",
      "<Slide, name = B_213-ST_BFIW-SE_368_processed>, width=300, height=375, channels=3, levels=1, RGB=True, dtype=uint8> <valis.slide_io.VipsSlideReader object at 0x7f05680ed7f0> True (375, 300, 3)\n",
      "<Slide, name = B_213-ST_BFIW-SE_369_processed>, width=300, height=375, channels=3, levels=1, RGB=True, dtype=uint8> <valis.slide_io.VipsSlideReader object at 0x7f05680ed700> True (375, 300, 3)\n",
      "<Slide, name = B_213-ST_BFIW-SE_370_processed>, width=300, height=375, channels=3, levels=1, RGB=True, dtype=uint8> <valis.slide_io.VipsSlideReader object at 0x7f05680ed7c0> True (375, 300, 3)\n",
      "<Slide, name = B_213-ST_BFIW-SE_371_processed>, width=300, height=375, channels=3, levels=1, RGB=True, dtype=uint8> <valis.slide_io.VipsSlideReader object at 0x7f05680ed760> True (375, 300, 3)\n",
      "<Slide, name = B_213-ST_BFIW-SE_372_processed>, width=300, height=375, channels=3, levels=1, RGB=True, dtype=uint8> <valis.slide_io.VipsSlideReader object at 0x7f05680ee9f0> True (375, 300, 3)\n"
     ]
    },
    {
     "name": "stderr",
     "output_type": "stream",
     "text": [
      "Converting images:  13%|██████▎                                         | 346/2608 [00:04<00:25, 87.77image/s]"
     ]
    },
    {
     "name": "stdout",
     "output_type": "stream",
     "text": [
      "<Slide, name = B_213-ST_BFIW-SE_373_processed>, width=300, height=375, channels=3, levels=1, RGB=True, dtype=uint8> <valis.slide_io.VipsSlideReader object at 0x7f05680eea50> True (375, 300, 3)\n",
      "<Slide, name = B_213-ST_BFIW-SE_374_processed>, width=300, height=375, channels=3, levels=1, RGB=True, dtype=uint8> <valis.slide_io.VipsSlideReader object at 0x7f05680eeab0> True (375, 300, 3)\n",
      "<Slide, name = B_213-ST_BFIW-SE_375_processed>, width=300, height=375, channels=3, levels=1, RGB=True, dtype=uint8> <valis.slide_io.VipsSlideReader object at 0x7f056809a450> True (375, 300, 3)\n",
      "<Slide, name = B_213-ST_BFIW-SE_376_processed>, width=300, height=375, channels=3, levels=1, RGB=True, dtype=uint8> <valis.slide_io.VipsSlideReader object at 0x7f05680eecc0> True (375, 300, 3)\n",
      "<Slide, name = B_213-ST_BFIW-SE_377_processed>, width=300, height=375, channels=3, levels=1, RGB=True, dtype=uint8> <valis.slide_io.VipsSlideReader object at 0x7f05680eec00> True (375, 300, 3)\n",
      "<Slide, name = B_213-ST_BFIW-SE_378_processed>, width=300, height=375, channels=3, levels=1, RGB=True, dtype=uint8> <valis.slide_io.VipsSlideReader object at 0x7f05680ed790> True (375, 300, 3)\n",
      "<Slide, name = B_213-ST_BFIW-SE_379_processed>, width=300, height=375, channels=3, levels=1, RGB=True, dtype=uint8> <valis.slide_io.VipsSlideReader object at 0x7f05680eea80> True (375, 300, 3)\n",
      "<Slide, name = B_213-ST_BFIW-SE_380_processed>, width=300, height=375, channels=3, levels=1, RGB=True, dtype=uint8> <valis.slide_io.VipsSlideReader object at 0x7f05680eecf0> True (375, 300, 3)\n",
      "<Slide, name = B_213-ST_BFIW-SE_381_processed>, width=300, height=375, channels=3, levels=1, RGB=True, dtype=uint8> <valis.slide_io.VipsSlideReader object at 0x7f05680eed80> True (375, 300, 3)\n",
      "<Slide, name = B_213-ST_BFIW-SE_382_processed>, width=300, height=375, channels=3, levels=1, RGB=True, dtype=uint8> <valis.slide_io.VipsSlideReader object at 0x7f05680eede0> True (375, 300, 3)\n"
     ]
    },
    {
     "name": "stderr",
     "output_type": "stream",
     "text": [
      "Converting images:  14%|██████▌                                         | 356/2608 [00:04<00:25, 89.49image/s]"
     ]
    },
    {
     "name": "stdout",
     "output_type": "stream",
     "text": [
      "<Slide, name = B_213-ST_BFIW-SE_383_processed>, width=300, height=375, channels=3, levels=1, RGB=True, dtype=uint8> <valis.slide_io.VipsSlideReader object at 0x7f05680eee40> True (375, 300, 3)\n",
      "<Slide, name = B_213-ST_BFIW-SE_384_processed>, width=300, height=375, channels=3, levels=1, RGB=True, dtype=uint8> <valis.slide_io.VipsSlideReader object at 0x7f05680b2bd0> True (375, 300, 3)\n",
      "<Slide, name = B_213-ST_BFIW-SE_385_processed>, width=300, height=375, channels=3, levels=1, RGB=True, dtype=uint8> <valis.slide_io.VipsSlideReader object at 0x7f05680ef020> True (375, 300, 3)\n",
      "<Slide, name = B_213-ST_BFIW-SE_386_processed>, width=300, height=375, channels=3, levels=1, RGB=True, dtype=uint8> <valis.slide_io.VipsSlideReader object at 0x7f05680eef60> True (375, 300, 3)\n",
      "<Slide, name = B_213-ST_BFIW-SE_387_processed>, width=300, height=375, channels=3, levels=1, RGB=True, dtype=uint8> <valis.slide_io.VipsSlideReader object at 0x7f05680eec90> True (375, 300, 3)\n",
      "<Slide, name = B_213-ST_BFIW-SE_388_processed>, width=300, height=375, channels=3, levels=1, RGB=True, dtype=uint8> <valis.slide_io.VipsSlideReader object at 0x7f05680eee10> True (375, 300, 3)\n",
      "<Slide, name = B_213-ST_BFIW-SE_389_processed>, width=300, height=375, channels=3, levels=1, RGB=True, dtype=uint8> <valis.slide_io.VipsSlideReader object at 0x7f05680ef050> True (375, 300, 3)\n",
      "<Slide, name = B_213-ST_BFIW-SE_390_processed>, width=300, height=375, channels=3, levels=1, RGB=True, dtype=uint8> <valis.slide_io.VipsSlideReader object at 0x7f05680ef0b0> True (375, 300, 3)\n",
      "<Slide, name = B_213-ST_BFIW-SE_391_processed>, width=300, height=375, channels=3, levels=1, RGB=True, dtype=uint8> <valis.slide_io.VipsSlideReader object at 0x7f05680ef110> True (375, 300, 3)\n",
      "<Slide, name = B_213-ST_BFIW-SE_392_processed>, width=300, height=375, channels=3, levels=1, RGB=True, dtype=uint8> <valis.slide_io.VipsSlideReader object at 0x7f05680ef170> True (375, 300, 3)\n"
     ]
    },
    {
     "name": "stderr",
     "output_type": "stream",
     "text": [
      "Converting images:  14%|██████▋                                         | 366/2608 [00:05<00:24, 90.83image/s]"
     ]
    },
    {
     "name": "stdout",
     "output_type": "stream",
     "text": [
      "<Slide, name = B_213-ST_BFIW-SE_393_processed>, width=300, height=375, channels=3, levels=1, RGB=True, dtype=uint8> <valis.slide_io.VipsSlideReader object at 0x7f05680e9a90> True (375, 300, 3)\n",
      "<Slide, name = B_213-ST_BFIW-SE_394_processed>, width=300, height=375, channels=3, levels=1, RGB=True, dtype=uint8> <valis.slide_io.VipsSlideReader object at 0x7f05680ef380> True (375, 300, 3)\n",
      "<Slide, name = B_213-ST_BFIW-SE_395_processed>, width=300, height=375, channels=3, levels=1, RGB=True, dtype=uint8> <valis.slide_io.VipsSlideReader object at 0x7f05680e1550> True (375, 300, 3)\n",
      "<Slide, name = B_213-ST_BFIW-SE_396_processed>, width=300, height=375, channels=3, levels=1, RGB=True, dtype=uint8> <valis.slide_io.VipsSlideReader object at 0x7f05680ef500> True (375, 300, 3)\n",
      "<Slide, name = B_213-ST_BFIW-SE_397_processed>, width=300, height=375, channels=3, levels=1, RGB=True, dtype=uint8> <valis.slide_io.VipsSlideReader object at 0x7f05680ef140> True (375, 300, 3)\n",
      "<Slide, name = B_213-ST_BFIW-SE_398_processed>, width=300, height=375, channels=3, levels=1, RGB=True, dtype=uint8> <valis.slide_io.VipsSlideReader object at 0x7f05680ef0e0> True (375, 300, 3)\n",
      "<Slide, name = B_213-ST_BFIW-SE_399_processed>, width=300, height=375, channels=3, levels=1, RGB=True, dtype=uint8> <valis.slide_io.VipsSlideReader object at 0x7f05680ef260> True (375, 300, 3)\n",
      "<Slide, name = B_213-ST_BFIW-SE_400_processed>, width=300, height=375, channels=3, levels=1, RGB=True, dtype=uint8> <valis.slide_io.VipsSlideReader object at 0x7f05680ef530> True (375, 300, 3)\n",
      "<Slide, name = B_213-ST_BFIW-SE_401_processed>, width=300, height=375, channels=3, levels=1, RGB=True, dtype=uint8> <valis.slide_io.VipsSlideReader object at 0x7f05680ef5c0> True (375, 300, 3)\n",
      "<Slide, name = B_213-ST_BFIW-SE_402_processed>, width=300, height=375, channels=3, levels=1, RGB=True, dtype=uint8> <valis.slide_io.VipsSlideReader object at 0x7f05680ef8c0> True (375, 300, 3)\n"
     ]
    },
    {
     "name": "stderr",
     "output_type": "stream",
     "text": [
      "Converting images:  14%|██████▉                                         | 376/2608 [00:05<00:24, 91.38image/s]"
     ]
    },
    {
     "name": "stdout",
     "output_type": "stream",
     "text": [
      "<Slide, name = B_213-ST_BFIW-SE_403_processed>, width=300, height=375, channels=3, levels=1, RGB=True, dtype=uint8> <valis.slide_io.VipsSlideReader object at 0x7f05680ef920> True (375, 300, 3)\n",
      "<Slide, name = B_213-ST_BFIW-SE_404_processed>, width=300, height=375, channels=3, levels=1, RGB=True, dtype=uint8> <valis.slide_io.VipsSlideReader object at 0x7f05680ef980> True (375, 300, 3)\n",
      "<Slide, name = B_213-ST_BFIW-SE_405_processed>, width=300, height=375, channels=3, levels=1, RGB=True, dtype=uint8> <valis.slide_io.VipsSlideReader object at 0x7f05680ef9e0> True (375, 300, 3)\n",
      "<Slide, name = B_213-ST_BFIW-SE_406_processed>, width=300, height=375, channels=3, levels=1, RGB=True, dtype=uint8> <valis.slide_io.VipsSlideReader object at 0x7f05680efa40> True (375, 300, 3)\n",
      "<Slide, name = B_213-ST_BFIW-SE_407_processed>, width=300, height=375, channels=3, levels=1, RGB=True, dtype=uint8> <valis.slide_io.VipsSlideReader object at 0x7f05680efaa0> True (375, 300, 3)\n",
      "<Slide, name = B_213-ST_BFIW-SE_408_processed>, width=300, height=375, channels=3, levels=1, RGB=True, dtype=uint8> <valis.slide_io.VipsSlideReader object at 0x7f05680efb00> True (375, 300, 3)\n",
      "<Slide, name = B_213-ST_BFIW-SE_409_processed>, width=300, height=375, channels=3, levels=1, RGB=True, dtype=uint8> <valis.slide_io.VipsSlideReader object at 0x7f05680efb60> True (375, 300, 3)\n",
      "<Slide, name = B_213-ST_BFIW-SE_410_processed>, width=300, height=375, channels=3, levels=1, RGB=True, dtype=uint8> <valis.slide_io.VipsSlideReader object at 0x7f05680efbc0> True (375, 300, 3)\n",
      "<Slide, name = B_213-ST_BFIW-SE_411_processed>, width=300, height=375, channels=3, levels=1, RGB=True, dtype=uint8> <valis.slide_io.VipsSlideReader object at 0x7f05680efc20> True (375, 300, 3)\n",
      "<Slide, name = B_213-ST_BFIW-SE_412_processed>, width=300, height=375, channels=3, levels=1, RGB=True, dtype=uint8> <valis.slide_io.VipsSlideReader object at 0x7f05680efc80> True (375, 300, 3)\n"
     ]
    },
    {
     "name": "stderr",
     "output_type": "stream",
     "text": [
      "Converting images:  15%|███████                                         | 386/2608 [00:05<00:24, 91.46image/s]"
     ]
    },
    {
     "name": "stdout",
     "output_type": "stream",
     "text": [
      "<Slide, name = B_213-ST_BFIW-SE_413_processed>, width=300, height=375, channels=3, levels=1, RGB=True, dtype=uint8> <valis.slide_io.VipsSlideReader object at 0x7f05680efd10> True (375, 300, 3)\n",
      "<Slide, name = B_213-ST_BFIW-SE_414_processed>, width=300, height=375, channels=3, levels=1, RGB=True, dtype=uint8> <valis.slide_io.VipsSlideReader object at 0x7f05680efd70> True (375, 300, 3)\n",
      "<Slide, name = B_213-ST_BFIW-SE_415_processed>, width=300, height=375, channels=3, levels=1, RGB=True, dtype=uint8> <valis.slide_io.VipsSlideReader object at 0x7f05680efdd0> True (375, 300, 3)\n",
      "<Slide, name = B_213-ST_BFIW-SE_416_processed>, width=300, height=375, channels=3, levels=1, RGB=True, dtype=uint8> <valis.slide_io.VipsSlideReader object at 0x7f05680efe30> True (375, 300, 3)\n",
      "<Slide, name = B_213-ST_BFIW-SE_417_processed>, width=300, height=375, channels=3, levels=1, RGB=True, dtype=uint8> <valis.slide_io.VipsSlideReader object at 0x7f05680efe90> True (375, 300, 3)\n",
      "<Slide, name = B_213-ST_BFIW-SE_418_processed>, width=300, height=375, channels=3, levels=1, RGB=True, dtype=uint8> <valis.slide_io.VipsSlideReader object at 0x7f05680eff20> True (375, 300, 3)\n",
      "<Slide, name = B_213-ST_BFIW-SE_419_processed>, width=300, height=375, channels=3, levels=1, RGB=True, dtype=uint8> <valis.slide_io.VipsSlideReader object at 0x7f05680efec0> True (375, 300, 3)\n",
      "<Slide, name = B_213-ST_BFIW-SE_420_processed>, width=300, height=375, channels=3, levels=1, RGB=True, dtype=uint8> <valis.slide_io.VipsSlideReader object at 0x7f05680efd40> True (375, 300, 3)\n",
      "<Slide, name = B_213-ST_BFIW-SE_421_processed>, width=300, height=375, channels=3, levels=1, RGB=True, dtype=uint8> <valis.slide_io.VipsSlideReader object at 0x7f05680efe00> True (375, 300, 3)\n",
      "<Slide, name = B_213-ST_BFIW-SE_422_processed>, width=300, height=375, channels=3, levels=1, RGB=True, dtype=uint8> <valis.slide_io.VipsSlideReader object at 0x7f05680effe0> True (375, 300, 3)\n"
     ]
    },
    {
     "name": "stderr",
     "output_type": "stream",
     "text": [
      "Converting images:  15%|███████▎                                        | 396/2608 [00:05<00:24, 92.09image/s]"
     ]
    },
    {
     "name": "stdout",
     "output_type": "stream",
     "text": [
      "<Slide, name = B_213-ST_BFIW-SE_423_processed>, width=300, height=375, channels=3, levels=1, RGB=True, dtype=uint8> <valis.slide_io.VipsSlideReader object at 0x7f05680eff50> True (375, 300, 3)\n",
      "<Slide, name = B_213-ST_BFIW-SE_424_processed>, width=300, height=375, channels=3, levels=1, RGB=True, dtype=uint8> <valis.slide_io.VipsSlideReader object at 0x7f05680efce0> True (375, 300, 3)\n",
      "<Slide, name = B_213-ST_BFIW-SE_425_processed>, width=300, height=375, channels=3, levels=1, RGB=True, dtype=uint8> <valis.slide_io.VipsSlideReader object at 0x7f0567d101a0> True (375, 300, 3)\n",
      "<Slide, name = B_213-ST_BFIW-SE_426_processed>, width=300, height=375, channels=3, levels=1, RGB=True, dtype=uint8> <valis.slide_io.VipsSlideReader object at 0x7f0567d12ea0> True (375, 300, 3)\n",
      "<Slide, name = B_213-ST_BFIW-SE_427_processed>, width=300, height=375, channels=3, levels=1, RGB=True, dtype=uint8> <valis.slide_io.VipsSlideReader object at 0x7f056c438200> True (375, 300, 3)\n",
      "<Slide, name = B_213-ST_BFIW-SE_428_processed>, width=300, height=375, channels=3, levels=1, RGB=True, dtype=uint8> <valis.slide_io.VipsSlideReader object at 0x7f0567d11af0> True (375, 300, 3)\n",
      "<Slide, name = B_213-ST_BFIW-SE_429_processed>, width=300, height=375, channels=3, levels=1, RGB=True, dtype=uint8> <valis.slide_io.VipsSlideReader object at 0x7f0567d10170> True (375, 300, 3)\n",
      "<Slide, name = B_213-ST_BFIW-SE_430_processed>, width=300, height=375, channels=3, levels=1, RGB=True, dtype=uint8> <valis.slide_io.VipsSlideReader object at 0x7f0567d10230> True (375, 300, 3)\n",
      "<Slide, name = B_213-ST_BFIW-SE_431_processed>, width=300, height=375, channels=3, levels=1, RGB=True, dtype=uint8> <valis.slide_io.VipsSlideReader object at 0x7f0567d11880> True (375, 300, 3)\n",
      "<Slide, name = B_213-ST_BFIW-SE_432_processed>, width=300, height=375, channels=3, levels=1, RGB=True, dtype=uint8> <valis.slide_io.VipsSlideReader object at 0x7f0567d10590> True (375, 300, 3)\n"
     ]
    },
    {
     "name": "stderr",
     "output_type": "stream",
     "text": [
      "Converting images:  16%|███████▍                                        | 406/2608 [00:05<00:23, 92.76image/s]"
     ]
    },
    {
     "name": "stdout",
     "output_type": "stream",
     "text": [
      "<Slide, name = B_213-ST_BFIW-SE_433_processed>, width=300, height=375, channels=3, levels=1, RGB=True, dtype=uint8> <valis.slide_io.VipsSlideReader object at 0x7f05680e8440> True (375, 300, 3)\n",
      "<Slide, name = B_213-ST_BFIW-SE_434_processed>, width=300, height=375, channels=3, levels=1, RGB=True, dtype=uint8> <valis.slide_io.VipsSlideReader object at 0x7f05680e86e0> True (375, 300, 3)\n",
      "<Slide, name = B_213-ST_BFIW-SE_435_processed>, width=300, height=375, channels=3, levels=1, RGB=True, dtype=uint8> <valis.slide_io.VipsSlideReader object at 0x7f05680e8500> True (375, 300, 3)\n",
      "<Slide, name = B_213-ST_BFIW-SE_436_processed>, width=300, height=375, channels=3, levels=1, RGB=True, dtype=uint8> <valis.slide_io.VipsSlideReader object at 0x7f07200706b0> True (375, 300, 3)\n",
      "<Slide, name = B_213-ST_BFIW-SE_437_processed>, width=300, height=375, channels=3, levels=1, RGB=True, dtype=uint8> <valis.slide_io.VipsSlideReader object at 0x7f0567d10560> True (375, 300, 3)\n",
      "<Slide, name = B_213-ST_BFIW-SE_438_processed>, width=300, height=375, channels=3, levels=1, RGB=True, dtype=uint8> <valis.slide_io.VipsSlideReader object at 0x7f0568090770> True (375, 300, 3)\n",
      "<Slide, name = B_213-ST_BFIW-SE_439_processed>, width=300, height=375, channels=3, levels=1, RGB=True, dtype=uint8> <valis.slide_io.VipsSlideReader object at 0x7f05680e80b0> True (375, 300, 3)\n",
      "<Slide, name = B_213-ST_BFIW-SE_440_processed>, width=300, height=375, channels=3, levels=1, RGB=True, dtype=uint8> <valis.slide_io.VipsSlideReader object at 0x7f0568098860> True (375, 300, 3)\n",
      "<Slide, name = B_213-ST_BFIW-SE_441_processed>, width=300, height=375, channels=3, levels=1, RGB=True, dtype=uint8> <valis.slide_io.VipsSlideReader object at 0x7f05680ec350> True (375, 300, 3)\n",
      "<Slide, name = B_213-ST_BFIW-SE_442_processed>, width=300, height=375, channels=3, levels=1, RGB=True, dtype=uint8> <valis.slide_io.VipsSlideReader object at 0x7f0567d113d0> True (375, 300, 3)\n"
     ]
    },
    {
     "name": "stderr",
     "output_type": "stream",
     "text": [
      "Converting images:  16%|███████▋                                        | 416/2608 [00:05<00:23, 93.16image/s]"
     ]
    },
    {
     "name": "stdout",
     "output_type": "stream",
     "text": [
      "<Slide, name = B_213-ST_BFIW-SE_443_processed>, width=300, height=375, channels=3, levels=1, RGB=True, dtype=uint8> <valis.slide_io.VipsSlideReader object at 0x7f0567d109b0> True (375, 300, 3)\n",
      "<Slide, name = B_213-ST_BFIW-SE_444_processed>, width=300, height=375, channels=3, levels=1, RGB=True, dtype=uint8> <valis.slide_io.VipsSlideReader object at 0x7f0567d10290> True (375, 300, 3)\n",
      "<Slide, name = B_213-ST_BFIW-SE_445_processed>, width=300, height=375, channels=3, levels=1, RGB=True, dtype=uint8> <valis.slide_io.VipsSlideReader object at 0x7f0567d10b90> True (375, 300, 3)\n",
      "<Slide, name = B_213-ST_BFIW-SE_446_processed>, width=300, height=375, channels=3, levels=1, RGB=True, dtype=uint8> <valis.slide_io.VipsSlideReader object at 0x7f05680e0c20> True (375, 300, 3)\n",
      "<Slide, name = B_213-ST_BFIW-SE_447_processed>, width=300, height=375, channels=3, levels=1, RGB=True, dtype=uint8> <valis.slide_io.VipsSlideReader object at 0x7f0567d10a70> True (375, 300, 3)\n",
      "<Slide, name = B_213-ST_BFIW-SE_448_processed>, width=300, height=375, channels=3, levels=1, RGB=True, dtype=uint8> <valis.slide_io.VipsSlideReader object at 0x7f05680b4710> True (375, 300, 3)\n",
      "<Slide, name = B_213-ST_BFIW-SE_449_processed>, width=300, height=375, channels=3, levels=1, RGB=True, dtype=uint8> <valis.slide_io.VipsSlideReader object at 0x7f0567d10bc0> True (375, 300, 3)\n",
      "<Slide, name = B_213-ST_BFIW-SE_450_processed>, width=300, height=375, channels=3, levels=1, RGB=True, dtype=uint8> <valis.slide_io.VipsSlideReader object at 0x7f0567d107d0> True (375, 300, 3)\n",
      "<Slide, name = B_213-ST_BFIW-SE_451_processed>, width=300, height=375, channels=3, levels=1, RGB=True, dtype=uint8> <valis.slide_io.VipsSlideReader object at 0x7f0567d10c50> True (375, 300, 3)\n",
      "<Slide, name = B_213-ST_BFIW-SE_452_processed>, width=300, height=375, channels=3, levels=1, RGB=True, dtype=uint8> <valis.slide_io.VipsSlideReader object at 0x7f05680e8b30> True (375, 300, 3)\n"
     ]
    },
    {
     "name": "stderr",
     "output_type": "stream",
     "text": [
      "Converting images:  16%|███████▊                                        | 426/2608 [00:05<00:23, 93.01image/s]"
     ]
    },
    {
     "name": "stdout",
     "output_type": "stream",
     "text": [
      "<Slide, name = B_213-ST_BFIW-SE_453_processed>, width=300, height=375, channels=3, levels=1, RGB=True, dtype=uint8> <valis.slide_io.VipsSlideReader object at 0x7f0568260fb0> True (375, 300, 3)\n",
      "<Slide, name = B_213-ST_BFIW-SE_454_processed>, width=300, height=375, channels=3, levels=1, RGB=True, dtype=uint8> <valis.slide_io.VipsSlideReader object at 0x7f05680e0e60> True (375, 300, 3)\n",
      "<Slide, name = B_213-ST_BFIW-SE_455_processed>, width=300, height=375, channels=3, levels=1, RGB=True, dtype=uint8> <valis.slide_io.VipsSlideReader object at 0x7f0567d11100> True (375, 300, 3)\n",
      "<Slide, name = B_213-ST_BFIW-SE_456_processed>, width=300, height=375, channels=3, levels=1, RGB=True, dtype=uint8> <valis.slide_io.VipsSlideReader object at 0x7f0567d10d40> True (375, 300, 3)\n",
      "<Slide, name = B_213-ST_BFIW-SE_457_processed>, width=300, height=375, channels=3, levels=1, RGB=True, dtype=uint8> <valis.slide_io.VipsSlideReader object at 0x7f0567d11130> True (375, 300, 3)\n",
      "<Slide, name = B_213-ST_BFIW-SE_458_processed>, width=300, height=375, channels=3, levels=1, RGB=True, dtype=uint8> <valis.slide_io.VipsSlideReader object at 0x7f0567d111c0> True (375, 300, 3)\n",
      "<Slide, name = B_213-ST_BFIW-SE_459_processed>, width=300, height=375, channels=3, levels=1, RGB=True, dtype=uint8> <valis.slide_io.VipsSlideReader object at 0x7f0567d11280> True (375, 300, 3)\n",
      "<Slide, name = B_213-ST_BFIW-SE_460_processed>, width=300, height=375, channels=3, levels=1, RGB=True, dtype=uint8> <valis.slide_io.VipsSlideReader object at 0x7f0567d10b00> True (375, 300, 3)\n",
      "<Slide, name = B_213-ST_BFIW-SE_461_processed>, width=300, height=375, channels=3, levels=1, RGB=True, dtype=uint8> <valis.slide_io.VipsSlideReader object at 0x7f0567d110d0> True (375, 300, 3)\n",
      "<Slide, name = B_213-ST_BFIW-SE_462_processed>, width=300, height=375, channels=3, levels=1, RGB=True, dtype=uint8> <valis.slide_io.VipsSlideReader object at 0x7f0567d11190> True (375, 300, 3)\n"
     ]
    },
    {
     "name": "stderr",
     "output_type": "stream",
     "text": [
      "Converting images:  17%|████████                                        | 436/2608 [00:05<00:23, 93.10image/s]"
     ]
    },
    {
     "name": "stdout",
     "output_type": "stream",
     "text": [
      "<Slide, name = B_213-ST_BFIW-SE_463_processed>, width=300, height=375, channels=3, levels=1, RGB=True, dtype=uint8> <valis.slide_io.VipsSlideReader object at 0x7f0567d11220> True (375, 300, 3)\n",
      "<Slide, name = B_213-ST_BFIW-SE_464_processed>, width=300, height=375, channels=3, levels=1, RGB=True, dtype=uint8> <valis.slide_io.VipsSlideReader object at 0x7f0567d11160> True (375, 300, 3)\n",
      "<Slide, name = B_213-ST_BFIW-SE_465_processed>, width=300, height=375, channels=3, levels=1, RGB=True, dtype=uint8> <valis.slide_io.VipsSlideReader object at 0x7f0567d10e30> True (375, 300, 3)\n",
      "<Slide, name = B_213-ST_BFIW-SE_466_processed>, width=300, height=375, channels=3, levels=1, RGB=True, dtype=uint8> <valis.slide_io.VipsSlideReader object at 0x7f05680ce750> True (375, 300, 3)\n",
      "<Slide, name = B_213-ST_BFIW-SE_467_processed>, width=300, height=375, channels=3, levels=1, RGB=True, dtype=uint8> <valis.slide_io.VipsSlideReader object at 0x7f05680e7d10> True (375, 300, 3)\n",
      "<Slide, name = B_213-ST_BFIW-SE_468_processed>, width=300, height=375, channels=3, levels=1, RGB=True, dtype=uint8> <valis.slide_io.VipsSlideReader object at 0x7f0567d116a0> True (375, 300, 3)\n",
      "<Slide, name = B_213-ST_BFIW-SE_469_processed>, width=300, height=375, channels=3, levels=1, RGB=True, dtype=uint8> <valis.slide_io.VipsSlideReader object at 0x7f0567d11520> True (375, 300, 3)\n",
      "<Slide, name = B_213-ST_BFIW-SE_470_processed>, width=300, height=375, channels=3, levels=1, RGB=True, dtype=uint8> <valis.slide_io.VipsSlideReader object at 0x7f0567d11610> True (375, 300, 3)\n",
      "<Slide, name = B_213-ST_BFIW-SE_471_processed>, width=300, height=375, channels=3, levels=1, RGB=True, dtype=uint8> <valis.slide_io.VipsSlideReader object at 0x7f0567d11670> True (375, 300, 3)\n",
      "<Slide, name = B_213-ST_BFIW-SE_472_processed>, width=300, height=375, channels=3, levels=1, RGB=True, dtype=uint8> <valis.slide_io.VipsSlideReader object at 0x7f0567d11400> True (375, 300, 3)\n"
     ]
    },
    {
     "name": "stderr",
     "output_type": "stream",
     "text": [
      "Converting images:  17%|████████▏                                       | 446/2608 [00:05<00:23, 93.13image/s]"
     ]
    },
    {
     "name": "stdout",
     "output_type": "stream",
     "text": [
      "<Slide, name = B_213-ST_BFIW-SE_473_processed>, width=300, height=375, channels=3, levels=1, RGB=True, dtype=uint8> <valis.slide_io.VipsSlideReader object at 0x7f0567d112e0> True (375, 300, 3)\n",
      "<Slide, name = B_213-ST_BFIW-SE_474_processed>, width=300, height=375, channels=3, levels=1, RGB=True, dtype=uint8> <valis.slide_io.VipsSlideReader object at 0x7f0567d114c0> True (375, 300, 3)\n",
      "<Slide, name = B_213-ST_BFIW-SE_475_processed>, width=300, height=375, channels=3, levels=1, RGB=True, dtype=uint8> <valis.slide_io.VipsSlideReader object at 0x7f0567d110a0> True (375, 300, 3)\n",
      "<Slide, name = B_213-ST_BFIW-SE_476_processed>, width=300, height=375, channels=3, levels=1, RGB=True, dtype=uint8> <valis.slide_io.VipsSlideReader object at 0x7f0567d10c80> True (375, 300, 3)\n",
      "<Slide, name = B_213-ST_BFIW-SE_477_processed>, width=300, height=375, channels=3, levels=1, RGB=True, dtype=uint8> <valis.slide_io.VipsSlideReader object at 0x7f0567d11070> True (375, 300, 3)\n",
      "<Slide, name = B_213-ST_BFIW-SE_478_processed>, width=300, height=375, channels=3, levels=1, RGB=True, dtype=uint8> <valis.slide_io.VipsSlideReader object at 0x7f0567d10f50> True (375, 300, 3)\n",
      "<Slide, name = B_213-ST_BFIW-SE_479_processed>, width=300, height=375, channels=3, levels=1, RGB=True, dtype=uint8> <valis.slide_io.VipsSlideReader object at 0x7f0567d11580> True (375, 300, 3)\n",
      "<Slide, name = B_213-ST_BFIW-SE_480_processed>, width=300, height=375, channels=3, levels=1, RGB=True, dtype=uint8> <valis.slide_io.VipsSlideReader object at 0x7f0567d11460> True (375, 300, 3)\n",
      "<Slide, name = B_213-ST_BFIW-SE_481_processed>, width=300, height=375, channels=3, levels=1, RGB=True, dtype=uint8> <valis.slide_io.VipsSlideReader object at 0x7f0567d115e0> True (375, 300, 3)\n",
      "<Slide, name = B_213-ST_BFIW-SE_482_processed>, width=300, height=375, channels=3, levels=1, RGB=True, dtype=uint8> <valis.slide_io.VipsSlideReader object at 0x7f0567d11640> True (375, 300, 3)\n"
     ]
    },
    {
     "name": "stderr",
     "output_type": "stream",
     "text": [
      "Converting images:  17%|████████▍                                       | 456/2608 [00:06<00:22, 93.59image/s]"
     ]
    },
    {
     "name": "stdout",
     "output_type": "stream",
     "text": [
      "<Slide, name = B_213-ST_BFIW-SE_483_processed>, width=300, height=375, channels=3, levels=1, RGB=True, dtype=uint8> <valis.slide_io.VipsSlideReader object at 0x7f0567d11700> True (375, 300, 3)\n",
      "<Slide, name = B_213-ST_BFIW-SE_484_processed>, width=300, height=375, channels=3, levels=1, RGB=True, dtype=uint8> <valis.slide_io.VipsSlideReader object at 0x7f0567d11760> True (375, 300, 3)\n",
      "<Slide, name = B_213-ST_BFIW-SE_485_processed>, width=300, height=375, channels=3, levels=1, RGB=True, dtype=uint8> <valis.slide_io.VipsSlideReader object at 0x7f0567d117c0> True (375, 300, 3)\n",
      "<Slide, name = B_213-ST_BFIW-SE_486_processed>, width=300, height=375, channels=3, levels=1, RGB=True, dtype=uint8> <valis.slide_io.VipsSlideReader object at 0x7f0567d11820> True (375, 300, 3)\n",
      "<Slide, name = B_213-ST_BFIW-SE_487_processed>, width=300, height=375, channels=3, levels=1, RGB=True, dtype=uint8> <valis.slide_io.VipsSlideReader object at 0x7f0567d11e20> True (375, 300, 3)\n",
      "<Slide, name = B_213-ST_BFIW-SE_488_processed>, width=300, height=375, channels=3, levels=1, RGB=True, dtype=uint8> <valis.slide_io.VipsSlideReader object at 0x7f0567d11dc0> True (375, 300, 3)\n",
      "<Slide, name = B_213-ST_BFIW-SE_489_processed>, width=300, height=375, channels=3, levels=1, RGB=True, dtype=uint8> <valis.slide_io.VipsSlideReader object at 0x7f0567d11910> True (375, 300, 3)\n",
      "<Slide, name = B_213-ST_BFIW-SE_490_processed>, width=300, height=375, channels=3, levels=1, RGB=True, dtype=uint8> <valis.slide_io.VipsSlideReader object at 0x7f0567d11970> True (375, 300, 3)\n",
      "<Slide, name = B_213-ST_BFIW-SE_491_processed>, width=300, height=375, channels=3, levels=1, RGB=True, dtype=uint8> <valis.slide_io.VipsSlideReader object at 0x7f0567d12120> True (375, 300, 3)\n",
      "<Slide, name = B_213-ST_BFIW-SE_492_processed>, width=300, height=375, channels=3, levels=1, RGB=True, dtype=uint8> <valis.slide_io.VipsSlideReader object at 0x7f0567d121b0> True (375, 300, 3)\n"
     ]
    },
    {
     "name": "stderr",
     "output_type": "stream",
     "text": [
      "Converting images:  18%|████████▌                                       | 466/2608 [00:06<00:22, 94.23image/s]"
     ]
    },
    {
     "name": "stdout",
     "output_type": "stream",
     "text": [
      "<Slide, name = B_213-ST_BFIW-SE_493_processed>, width=300, height=375, channels=3, levels=1, RGB=True, dtype=uint8> <valis.slide_io.VipsSlideReader object at 0x7f05680e9d60> True (375, 300, 3)\n",
      "<Slide, name = B_213-ST_BFIW-SE_494_processed>, width=300, height=375, channels=3, levels=1, RGB=True, dtype=uint8> <valis.slide_io.VipsSlideReader object at 0x7f0567d109e0> True (375, 300, 3)\n",
      "<Slide, name = B_213-ST_BFIW-SE_495_processed>, width=300, height=375, channels=3, levels=1, RGB=True, dtype=uint8> <valis.slide_io.VipsSlideReader object at 0x7f0567d12750> True (375, 300, 3)\n",
      "<Slide, name = B_213-ST_BFIW-SE_496_processed>, width=300, height=375, channels=3, levels=1, RGB=True, dtype=uint8> <valis.slide_io.VipsSlideReader object at 0x7f0567d12150> True (375, 300, 3)\n",
      "<Slide, name = B_213-ST_BFIW-SE_497_processed>, width=300, height=375, channels=3, levels=1, RGB=True, dtype=uint8> <valis.slide_io.VipsSlideReader object at 0x7f0567d121e0> True (375, 300, 3)\n",
      "<Slide, name = B_213-ST_BFIW-SE_498_processed>, width=300, height=375, channels=3, levels=1, RGB=True, dtype=uint8> <valis.slide_io.VipsSlideReader object at 0x7f05680eb9b0> True (375, 300, 3)\n",
      "<Slide, name = B_213-ST_BFIW-SE_499_processed>, width=300, height=375, channels=3, levels=1, RGB=True, dtype=uint8> <valis.slide_io.VipsSlideReader object at 0x7f0567d122a0> True (375, 300, 3)\n",
      "<Slide, name = B_213-ST_BFIW-SE_500_processed>, width=300, height=375, channels=3, levels=1, RGB=True, dtype=uint8> <valis.slide_io.VipsSlideReader object at 0x7f0567d11f70> True (375, 300, 3)\n",
      "<Slide, name = B_213-ST_BFIW-SE_501_processed>, width=300, height=375, channels=3, levels=1, RGB=True, dtype=uint8> <valis.slide_io.VipsSlideReader object at 0x7f0568094da0> True (375, 300, 3)\n",
      "<Slide, name = B_213-ST_BFIW-SE_502_processed>, width=300, height=375, channels=3, levels=1, RGB=True, dtype=uint8> <valis.slide_io.VipsSlideReader object at 0x7f0567d14ec0> True (375, 300, 3)\n"
     ]
    },
    {
     "name": "stderr",
     "output_type": "stream",
     "text": [
      "Converting images:  18%|████████▊                                       | 476/2608 [00:06<00:22, 94.22image/s]"
     ]
    },
    {
     "name": "stdout",
     "output_type": "stream",
     "text": [
      "<Slide, name = B_213-ST_BFIW-SE_503_processed>, width=300, height=375, channels=3, levels=1, RGB=True, dtype=uint8> <valis.slide_io.VipsSlideReader object at 0x7f0567d15070> True (375, 300, 3)\n",
      "<Slide, name = B_213-ST_BFIW-SE_504_processed>, width=300, height=375, channels=3, levels=1, RGB=True, dtype=uint8> <valis.slide_io.VipsSlideReader object at 0x7f0567d151f0> True (375, 300, 3)\n",
      "<Slide, name = B_213-ST_BFIW-SE_505_processed>, width=300, height=375, channels=3, levels=1, RGB=True, dtype=uint8> <valis.slide_io.VipsSlideReader object at 0x7f0567d150d0> True (375, 300, 3)\n",
      "<Slide, name = B_213-ST_BFIW-SE_506_processed>, width=300, height=375, channels=3, levels=1, RGB=True, dtype=uint8> <valis.slide_io.VipsSlideReader object at 0x7f0567d14fe0> True (375, 300, 3)\n",
      "<Slide, name = B_213-ST_BFIW-SE_507_processed>, width=300, height=375, channels=3, levels=1, RGB=True, dtype=uint8> <valis.slide_io.VipsSlideReader object at 0x7f0567d14f50> True (375, 300, 3)\n",
      "<Slide, name = B_213-ST_BFIW-SE_508_processed>, width=300, height=375, channels=3, levels=1, RGB=True, dtype=uint8> <valis.slide_io.VipsSlideReader object at 0x7f05680ccf20> True (375, 300, 3)\n",
      "<Slide, name = B_213-ST_BFIW-SE_509_processed>, width=300, height=375, channels=3, levels=1, RGB=True, dtype=uint8> <valis.slide_io.VipsSlideReader object at 0x7f0567d15220> True (375, 300, 3)\n",
      "<Slide, name = B_213-ST_BFIW-SE_510_processed>, width=300, height=375, channels=3, levels=1, RGB=True, dtype=uint8> <valis.slide_io.VipsSlideReader object at 0x7f05680b52e0> True (375, 300, 3)\n",
      "<Slide, name = B_213-ST_BFIW-SE_511_processed>, width=300, height=375, channels=3, levels=1, RGB=True, dtype=uint8> <valis.slide_io.VipsSlideReader object at 0x7f0567d15340> True (375, 300, 3)\n",
      "<Slide, name = B_213-ST_BFIW-SE_512_processed>, width=300, height=375, channels=3, levels=1, RGB=True, dtype=uint8> <valis.slide_io.VipsSlideReader object at 0x7f0567d15100> True (375, 300, 3)\n"
     ]
    },
    {
     "name": "stderr",
     "output_type": "stream",
     "text": [
      "Converting images:  19%|████████▉                                       | 486/2608 [00:06<00:22, 94.40image/s]"
     ]
    },
    {
     "name": "stdout",
     "output_type": "stream",
     "text": [
      "<Slide, name = B_213-ST_BFIW-SE_513_processed>, width=300, height=375, channels=3, levels=1, RGB=True, dtype=uint8> <valis.slide_io.VipsSlideReader object at 0x7f0568095670> True (375, 300, 3)\n",
      "<Slide, name = B_213-ST_BFIW-SE_514_processed>, width=300, height=375, channels=3, levels=1, RGB=True, dtype=uint8> <valis.slide_io.VipsSlideReader object at 0x7f0567d15400> True (375, 300, 3)\n",
      "<Slide, name = B_213-ST_BFIW-SE_515_processed>, width=300, height=375, channels=3, levels=1, RGB=True, dtype=uint8> <valis.slide_io.VipsSlideReader object at 0x7f0567d15640> True (375, 300, 3)\n",
      "<Slide, name = B_213-ST_BFIW-SE_516_processed>, width=300, height=375, channels=3, levels=1, RGB=True, dtype=uint8> <valis.slide_io.VipsSlideReader object at 0x7f0567d157f0> True (375, 300, 3)\n",
      "<Slide, name = B_213-ST_BFIW-SE_517_processed>, width=300, height=375, channels=3, levels=1, RGB=True, dtype=uint8> <valis.slide_io.VipsSlideReader object at 0x7f0567d15880> True (375, 300, 3)\n",
      "<Slide, name = B_213-ST_BFIW-SE_518_processed>, width=300, height=375, channels=3, levels=1, RGB=True, dtype=uint8> <valis.slide_io.VipsSlideReader object at 0x7f0567d15910> True (375, 300, 3)\n",
      "<Slide, name = B_213-ST_BFIW-SE_519_processed>, width=300, height=375, channels=3, levels=1, RGB=True, dtype=uint8> <valis.slide_io.VipsSlideReader object at 0x7f0567d15610> True (375, 300, 3)\n",
      "<Slide, name = B_213-ST_BFIW-SE_520_processed>, width=300, height=375, channels=3, levels=1, RGB=True, dtype=uint8> <valis.slide_io.VipsSlideReader object at 0x7f0567d154f0> True (375, 300, 3)\n",
      "<Slide, name = B_213-ST_BFIW-SE_521_processed>, width=300, height=375, channels=3, levels=1, RGB=True, dtype=uint8> <valis.slide_io.VipsSlideReader object at 0x7f0567d15ac0> True (375, 300, 3)\n",
      "<Slide, name = B_213-ST_BFIW-SE_522_processed>, width=300, height=375, channels=3, levels=1, RGB=True, dtype=uint8> <valis.slide_io.VipsSlideReader object at 0x7f0567d15760> True (375, 300, 3)\n"
     ]
    },
    {
     "name": "stderr",
     "output_type": "stream",
     "text": [
      "Converting images:  19%|█████████▏                                      | 496/2608 [00:06<00:23, 91.35image/s]"
     ]
    },
    {
     "name": "stdout",
     "output_type": "stream",
     "text": [
      "<Slide, name = B_213-ST_BFIW-SE_523_processed>, width=300, height=375, channels=3, levels=1, RGB=True, dtype=uint8> <valis.slide_io.VipsSlideReader object at 0x7f0567d159d0> True (375, 300, 3)\n",
      "<Slide, name = B_213-ST_BFIW-SE_524_processed>, width=300, height=375, channels=3, levels=1, RGB=True, dtype=uint8> <valis.slide_io.VipsSlideReader object at 0x7f0567d158b0> True (375, 300, 3)\n",
      "<Slide, name = B_213-ST_BFIW-SE_525_processed>, width=300, height=375, channels=3, levels=1, RGB=True, dtype=uint8> <valis.slide_io.VipsSlideReader object at 0x7f0567d15cd0> True (375, 300, 3)\n",
      "<Slide, name = B_213-ST_BFIW-SE_526_processed>, width=300, height=375, channels=3, levels=1, RGB=True, dtype=uint8> <valis.slide_io.VipsSlideReader object at 0x7f0567d15a60> True (375, 300, 3)\n",
      "<Slide, name = B_213-ST_BFIW-SE_527_processed>, width=300, height=375, channels=3, levels=1, RGB=True, dtype=uint8> <valis.slide_io.VipsSlideReader object at 0x7f0567d15c10> True (375, 300, 3)\n",
      "<Slide, name = B_213-ST_BFIW-SE_528_processed>, width=300, height=375, channels=3, levels=1, RGB=True, dtype=uint8> <valis.slide_io.VipsSlideReader object at 0x7f0567d15c70> True (375, 300, 3)\n",
      "<Slide, name = B_213-ST_BFIW-SE_529_processed>, width=300, height=375, channels=3, levels=1, RGB=True, dtype=uint8> <valis.slide_io.VipsSlideReader object at 0x7f0567d15df0> True (375, 300, 3)\n",
      "<Slide, name = B_213-ST_BFIW-SE_530_processed>, width=300, height=375, channels=3, levels=1, RGB=True, dtype=uint8> <valis.slide_io.VipsSlideReader object at 0x7f0567d15e50> True (375, 300, 3)\n",
      "<Slide, name = B_213-ST_BFIW-SE_531_processed>, width=300, height=375, channels=3, levels=1, RGB=True, dtype=uint8> <valis.slide_io.VipsSlideReader object at 0x7f0567d15eb0> True (375, 300, 3)\n",
      "<Slide, name = B_213-ST_BFIW-SE_532_processed>, width=300, height=375, channels=3, levels=1, RGB=True, dtype=uint8> <valis.slide_io.VipsSlideReader object at 0x7f0567d15f10> True (375, 300, 3)\n"
     ]
    },
    {
     "name": "stderr",
     "output_type": "stream",
     "text": [
      "Converting images:  19%|█████████▎                                      | 506/2608 [00:06<00:22, 91.50image/s]"
     ]
    },
    {
     "name": "stdout",
     "output_type": "stream",
     "text": [
      "<Slide, name = B_213-ST_BFIW-SE_533_processed>, width=300, height=375, channels=3, levels=1, RGB=True, dtype=uint8> <valis.slide_io.VipsSlideReader object at 0x7f0567d15f70> True (375, 300, 3)\n",
      "<Slide, name = B_213-ST_BFIW-SE_534_processed>, width=300, height=375, channels=3, levels=1, RGB=True, dtype=uint8> <valis.slide_io.VipsSlideReader object at 0x7f0567d15fd0> True (375, 300, 3)\n",
      "<Slide, name = B_213-ST_BFIW-SE_535_processed>, width=300, height=375, channels=3, levels=1, RGB=True, dtype=uint8> <valis.slide_io.VipsSlideReader object at 0x7f0567d16030> True (375, 300, 3)\n",
      "<Slide, name = B_213-ST_BFIW-SE_536_processed>, width=300, height=375, channels=3, levels=1, RGB=True, dtype=uint8> <valis.slide_io.VipsSlideReader object at 0x7f0567d16090> True (375, 300, 3)\n",
      "<Slide, name = B_213-ST_BFIW-SE_537_processed>, width=300, height=375, channels=3, levels=1, RGB=True, dtype=uint8> <valis.slide_io.VipsSlideReader object at 0x7f0567d16120> True (375, 300, 3)\n",
      "<Slide, name = B_213-ST_BFIW-SE_538_processed>, width=300, height=375, channels=3, levels=1, RGB=True, dtype=uint8> <valis.slide_io.VipsSlideReader object at 0x7f0567d12090> True (375, 300, 3)\n",
      "<Slide, name = B_213-ST_BFIW-SE_539_processed>, width=300, height=375, channels=3, levels=1, RGB=True, dtype=uint8> <valis.slide_io.VipsSlideReader object at 0x7f0567d16300> True (375, 300, 3)\n",
      "<Slide, name = B_213-ST_BFIW-SE_540_processed>, width=300, height=375, channels=3, levels=1, RGB=True, dtype=uint8> <valis.slide_io.VipsSlideReader object at 0x7f0567d16240> True (375, 300, 3)\n",
      "<Slide, name = B_213-ST_BFIW-SE_541_processed>, width=300, height=375, channels=3, levels=1, RGB=True, dtype=uint8> <valis.slide_io.VipsSlideReader object at 0x7f0567d16060> True (375, 300, 3)\n",
      "<Slide, name = B_213-ST_BFIW-SE_542_processed>, width=300, height=375, channels=3, levels=1, RGB=True, dtype=uint8> <valis.slide_io.VipsSlideReader object at 0x7f0567d160f0> True (375, 300, 3)\n"
     ]
    },
    {
     "name": "stderr",
     "output_type": "stream",
     "text": [
      "Converting images:  20%|█████████▍                                      | 516/2608 [00:06<00:22, 91.20image/s]"
     ]
    },
    {
     "name": "stdout",
     "output_type": "stream",
     "text": [
      "<Slide, name = B_213-ST_BFIW-SE_543_processed>, width=300, height=375, channels=3, levels=1, RGB=True, dtype=uint8> <valis.slide_io.VipsSlideReader object at 0x7f0567d16330> True (375, 300, 3)\n",
      "<Slide, name = B_213-ST_BFIW-SE_544_processed>, width=300, height=375, channels=3, levels=1, RGB=True, dtype=uint8> <valis.slide_io.VipsSlideReader object at 0x7f0567d16390> True (375, 300, 3)\n",
      "<Slide, name = B_213-ST_BFIW-SE_545_processed>, width=300, height=375, channels=3, levels=1, RGB=True, dtype=uint8> <valis.slide_io.VipsSlideReader object at 0x7f0567d163f0> True (375, 300, 3)\n",
      "<Slide, name = B_213-ST_BFIW-SE_546_processed>, width=300, height=375, channels=3, levels=1, RGB=True, dtype=uint8> <valis.slide_io.VipsSlideReader object at 0x7f0567d16450> True (375, 300, 3)\n",
      "<Slide, name = B_213-ST_BFIW-SE_547_processed>, width=300, height=375, channels=3, levels=1, RGB=True, dtype=uint8> <valis.slide_io.VipsSlideReader object at 0x7f0567d164b0> True (375, 300, 3)\n",
      "<Slide, name = B_213-ST_BFIW-SE_548_processed>, width=300, height=375, channels=3, levels=1, RGB=True, dtype=uint8> <valis.slide_io.VipsSlideReader object at 0x7f0567d16540> True (375, 300, 3)\n",
      "<Slide, name = B_213-ST_BFIW-SE_549_processed>, width=300, height=375, channels=3, levels=1, RGB=True, dtype=uint8> <valis.slide_io.VipsSlideReader object at 0x7f0567d165a0> True (375, 300, 3)\n",
      "<Slide, name = B_213-ST_BFIW-SE_550_processed>, width=300, height=375, channels=3, levels=1, RGB=True, dtype=uint8> <valis.slide_io.VipsSlideReader object at 0x7f0567d16600> True (375, 300, 3)\n",
      "<Slide, name = B_213-ST_BFIW-SE_551_processed>, width=300, height=375, channels=3, levels=1, RGB=True, dtype=uint8> <valis.slide_io.VipsSlideReader object at 0x7f0567d16660> True (375, 300, 3)\n",
      "<Slide, name = B_213-ST_BFIW-SE_552_processed>, width=300, height=375, channels=3, levels=1, RGB=True, dtype=uint8> <valis.slide_io.VipsSlideReader object at 0x7f0567d11fd0> True (375, 300, 3)\n"
     ]
    },
    {
     "name": "stderr",
     "output_type": "stream",
     "text": [
      "Converting images:  20%|█████████▋                                      | 526/2608 [00:06<00:22, 91.55image/s]"
     ]
    },
    {
     "name": "stdout",
     "output_type": "stream",
     "text": [
      "<Slide, name = B_213-ST_BFIW-SE_553_processed>, width=300, height=375, channels=3, levels=1, RGB=True, dtype=uint8> <valis.slide_io.VipsSlideReader object at 0x7f0567d16840> True (375, 300, 3)\n",
      "<Slide, name = B_213-ST_BFIW-SE_554_processed>, width=300, height=375, channels=3, levels=1, RGB=True, dtype=uint8> <valis.slide_io.VipsSlideReader object at 0x7f0567d16780> True (375, 300, 3)\n",
      "<Slide, name = B_213-ST_BFIW-SE_555_processed>, width=300, height=375, channels=3, levels=1, RGB=True, dtype=uint8> <valis.slide_io.VipsSlideReader object at 0x7f0567d165d0> True (375, 300, 3)\n",
      "<Slide, name = B_213-ST_BFIW-SE_556_processed>, width=300, height=375, channels=3, levels=1, RGB=True, dtype=uint8> <valis.slide_io.VipsSlideReader object at 0x7f0567d16630> True (375, 300, 3)\n",
      "<Slide, name = B_213-ST_BFIW-SE_557_processed>, width=300, height=375, channels=3, levels=1, RGB=True, dtype=uint8> <valis.slide_io.VipsSlideReader object at 0x7f0567d16870> True (375, 300, 3)\n",
      "<Slide, name = B_213-ST_BFIW-SE_558_processed>, width=300, height=375, channels=3, levels=1, RGB=True, dtype=uint8> <valis.slide_io.VipsSlideReader object at 0x7f0567d168d0> True (375, 300, 3)\n",
      "<Slide, name = B_213-ST_BFIW-SE_559_processed>, width=300, height=375, channels=3, levels=1, RGB=True, dtype=uint8> <valis.slide_io.VipsSlideReader object at 0x7f0567d16930> True (375, 300, 3)\n",
      "<Slide, name = B_213-ST_BFIW-SE_560_processed>, width=300, height=375, channels=3, levels=1, RGB=True, dtype=uint8> <valis.slide_io.VipsSlideReader object at 0x7f05680e8d10> True (375, 300, 3)\n",
      "<Slide, name = B_213-ST_BFIW-SE_561_processed>, width=300, height=375, channels=3, levels=1, RGB=True, dtype=uint8> <valis.slide_io.VipsSlideReader object at 0x7f0567d10dd0> True (375, 300, 3)\n",
      "<Slide, name = B_213-ST_BFIW-SE_562_processed>, width=300, height=375, channels=3, levels=1, RGB=True, dtype=uint8> <valis.slide_io.VipsSlideReader object at 0x7f05680eaa50> True (375, 300, 3)\n"
     ]
    },
    {
     "name": "stderr",
     "output_type": "stream",
     "text": [
      "Converting images:  21%|█████████▊                                      | 536/2608 [00:06<00:22, 90.98image/s]"
     ]
    },
    {
     "name": "stdout",
     "output_type": "stream",
     "text": [
      "<Slide, name = B_213-ST_BFIW-SE_563_processed>, width=300, height=375, channels=3, levels=1, RGB=True, dtype=uint8> <valis.slide_io.VipsSlideReader object at 0x7f0567d16b70> True (375, 300, 3)\n",
      "<Slide, name = B_213-ST_BFIW-SE_564_processed>, width=300, height=375, channels=3, levels=1, RGB=True, dtype=uint8> <valis.slide_io.VipsSlideReader object at 0x7f0567d166f0> True (375, 300, 3)\n",
      "<Slide, name = B_213-ST_BFIW-SE_565_processed>, width=300, height=375, channels=3, levels=1, RGB=True, dtype=uint8> <valis.slide_io.VipsSlideReader object at 0x7f0567d16990> True (375, 300, 3)\n",
      "<Slide, name = B_213-ST_BFIW-SE_566_processed>, width=300, height=375, channels=3, levels=1, RGB=True, dtype=uint8> <valis.slide_io.VipsSlideReader object at 0x7f0567d16a50> True (375, 300, 3)\n",
      "<Slide, name = B_213-ST_BFIW-SE_567_processed>, width=300, height=375, channels=3, levels=1, RGB=True, dtype=uint8> <valis.slide_io.VipsSlideReader object at 0x7f0567d16ba0> True (375, 300, 3)\n",
      "<Slide, name = B_213-ST_BFIW-SE_568_processed>, width=300, height=375, channels=3, levels=1, RGB=True, dtype=uint8> <valis.slide_io.VipsSlideReader object at 0x7f0567d16c30> True (375, 300, 3)\n",
      "<Slide, name = B_213-ST_BFIW-SE_569_processed>, width=300, height=375, channels=3, levels=1, RGB=True, dtype=uint8> <valis.slide_io.VipsSlideReader object at 0x7f0567d16c90> True (375, 300, 3)\n",
      "<Slide, name = B_213-ST_BFIW-SE_570_processed>, width=300, height=375, channels=3, levels=1, RGB=True, dtype=uint8> <valis.slide_io.VipsSlideReader object at 0x7f0567d16cc0> True (375, 300, 3)\n",
      "<Slide, name = B_213-ST_BFIW-SE_571_processed>, width=300, height=375, channels=3, levels=1, RGB=True, dtype=uint8> <valis.slide_io.VipsSlideReader object at 0x7f0567d16ea0> True (375, 300, 3)\n",
      "<Slide, name = B_213-ST_BFIW-SE_572_processed>, width=300, height=375, channels=3, levels=1, RGB=True, dtype=uint8> <valis.slide_io.VipsSlideReader object at 0x7f0567d16e40> True (375, 300, 3)\n"
     ]
    },
    {
     "name": "stderr",
     "output_type": "stream",
     "text": [
      "Converting images:  21%|██████████                                      | 546/2608 [00:07<00:22, 89.87image/s]"
     ]
    },
    {
     "name": "stdout",
     "output_type": "stream",
     "text": [
      "<Slide, name = B_213-ST_BFIW-SE_573_processed>, width=300, height=375, channels=3, levels=1, RGB=True, dtype=uint8> <valis.slide_io.VipsSlideReader object at 0x7f0567d16de0> True (375, 300, 3)\n",
      "<Slide, name = B_213-ST_BFIW-SE_574_processed>, width=300, height=375, channels=3, levels=1, RGB=True, dtype=uint8> <valis.slide_io.VipsSlideReader object at 0x7f0567d16d80> True (375, 300, 3)\n",
      "<Slide, name = B_213-ST_BFIW-SE_575_processed>, width=300, height=375, channels=3, levels=1, RGB=True, dtype=uint8> <valis.slide_io.VipsSlideReader object at 0x7f0567d16d20> True (375, 300, 3)\n",
      "<Slide, name = B_213-ST_BFIW-SE_576_processed>, width=300, height=375, channels=3, levels=1, RGB=True, dtype=uint8> <valis.slide_io.VipsSlideReader object at 0x7f0567d16f00> True (375, 300, 3)\n",
      "<Slide, name = B_213-ST_BFIW-SE_577_processed>, width=300, height=375, channels=3, levels=1, RGB=True, dtype=uint8> <valis.slide_io.VipsSlideReader object at 0x7f0567d173b0> True (375, 300, 3)\n",
      "<Slide, name = B_213-ST_BFIW-SE_578_processed>, width=300, height=375, channels=3, levels=1, RGB=True, dtype=uint8> <valis.slide_io.VipsSlideReader object at 0x7f0567d17440> True (375, 300, 3)\n",
      "<Slide, name = B_213-ST_BFIW-SE_579_processed>, width=300, height=375, channels=3, levels=1, RGB=True, dtype=uint8> <valis.slide_io.VipsSlideReader object at 0x7f0567d174a0> True (375, 300, 3)\n",
      "<Slide, name = B_213-ST_BFIW-SE_580_processed>, width=300, height=375, channels=3, levels=1, RGB=True, dtype=uint8> <valis.slide_io.VipsSlideReader object at 0x7f0567d17500> True (375, 300, 3)\n",
      "<Slide, name = B_213-ST_BFIW-SE_581_processed>, width=300, height=375, channels=3, levels=1, RGB=True, dtype=uint8> <valis.slide_io.VipsSlideReader object at 0x7f0567d17560> True (375, 300, 3)\n"
     ]
    },
    {
     "name": "stderr",
     "output_type": "stream",
     "text": [
      "Converting images:  21%|██████████▏                                     | 555/2608 [00:07<00:23, 86.42image/s]"
     ]
    },
    {
     "name": "stdout",
     "output_type": "stream",
     "text": [
      "<Slide, name = B_213-ST_BFIW-SE_582_processed>, width=300, height=375, channels=3, levels=1, RGB=True, dtype=uint8> <valis.slide_io.VipsSlideReader object at 0x7f0567d175c0> True (375, 300, 3)\n",
      "<Slide, name = B_213-ST_BFIW-SE_583_processed>, width=300, height=375, channels=3, levels=1, RGB=True, dtype=uint8> <valis.slide_io.VipsSlideReader object at 0x7f0567d10050> True (375, 300, 3)\n",
      "<Slide, name = B_213-ST_BFIW-SE_584_processed>, width=300, height=375, channels=3, levels=1, RGB=True, dtype=uint8> <valis.slide_io.VipsSlideReader object at 0x7f0567d177a0> True (375, 300, 3)\n",
      "<Slide, name = B_213-ST_BFIW-SE_585_processed>, width=300, height=375, channels=3, levels=1, RGB=True, dtype=uint8> <valis.slide_io.VipsSlideReader object at 0x7f0567d176e0> True (375, 300, 3)\n",
      "<Slide, name = B_213-ST_BFIW-SE_586_processed>, width=300, height=375, channels=3, levels=1, RGB=True, dtype=uint8> <valis.slide_io.VipsSlideReader object at 0x7f0567d17530> True (375, 300, 3)\n",
      "<Slide, name = B_213-ST_BFIW-SE_587_processed>, width=300, height=375, channels=3, levels=1, RGB=True, dtype=uint8> <valis.slide_io.VipsSlideReader object at 0x7f0567d17590> True (375, 300, 3)\n",
      "<Slide, name = B_213-ST_BFIW-SE_588_processed>, width=300, height=375, channels=3, levels=1, RGB=True, dtype=uint8> <valis.slide_io.VipsSlideReader object at 0x7f0567d177d0> True (375, 300, 3)\n",
      "<Slide, name = B_213-ST_BFIW-SE_589_processed>, width=300, height=375, channels=3, levels=1, RGB=True, dtype=uint8> <valis.slide_io.VipsSlideReader object at 0x7f0567d17830> True (375, 300, 3)\n",
      "<Slide, name = B_213-ST_BFIW-SE_590_processed>, width=300, height=375, channels=3, levels=1, RGB=True, dtype=uint8> <valis.slide_io.VipsSlideReader object at 0x7f0567d17890> True (375, 300, 3)\n"
     ]
    },
    {
     "name": "stderr",
     "output_type": "stream",
     "text": [
      "Converting images:  22%|██████████▍                                     | 564/2608 [00:07<00:23, 86.19image/s]"
     ]
    },
    {
     "name": "stdout",
     "output_type": "stream",
     "text": [
      "<Slide, name = B_213-ST_BFIW-SE_591_processed>, width=300, height=375, channels=3, levels=1, RGB=True, dtype=uint8> <valis.slide_io.VipsSlideReader object at 0x7f0567d178f0> True (375, 300, 3)\n",
      "<Slide, name = B_213-ST_BFIW-SE_592_processed>, width=300, height=375, channels=3, levels=1, RGB=True, dtype=uint8> <valis.slide_io.VipsSlideReader object at 0x7f0567d17950> True (375, 300, 3)\n",
      "<Slide, name = B_213-ST_BFIW-SE_593_processed>, width=300, height=375, channels=3, levels=1, RGB=True, dtype=uint8> <valis.slide_io.VipsSlideReader object at 0x7f0567d179b0> True (375, 300, 3)\n",
      "<Slide, name = B_213-ST_BFIW-SE_594_processed>, width=300, height=375, channels=3, levels=1, RGB=True, dtype=uint8> <valis.slide_io.VipsSlideReader object at 0x7f0567d17a10> True (375, 300, 3)\n",
      "<Slide, name = B_213-ST_BFIW-SE_595_processed>, width=300, height=375, channels=3, levels=1, RGB=True, dtype=uint8> <valis.slide_io.VipsSlideReader object at 0x7f0567d17a70> True (375, 300, 3)\n",
      "<Slide, name = B_213-ST_BFIW-SE_596_processed>, width=300, height=375, channels=3, levels=1, RGB=True, dtype=uint8> <valis.slide_io.VipsSlideReader object at 0x7f0567d17ad0> True (375, 300, 3)\n",
      "<Slide, name = B_213-ST_BFIW-SE_597_processed>, width=300, height=375, channels=3, levels=1, RGB=True, dtype=uint8> <valis.slide_io.VipsSlideReader object at 0x7f0567d17b30> True (375, 300, 3)\n",
      "<Slide, name = B_213-ST_BFIW-SE_598_processed>, width=300, height=375, channels=3, levels=1, RGB=True, dtype=uint8> <valis.slide_io.VipsSlideReader object at 0x7f0567d17b90> True (375, 300, 3)\n",
      "<Slide, name = B_213-ST_BFIW-SE_599_processed>, width=300, height=375, channels=3, levels=1, RGB=True, dtype=uint8> <valis.slide_io.VipsSlideReader object at 0x7f0567d17bf0> True (375, 300, 3)\n"
     ]
    },
    {
     "name": "stderr",
     "output_type": "stream",
     "text": [
      "Converting images:  22%|██████████▌                                     | 573/2608 [00:07<00:25, 79.83image/s]"
     ]
    },
    {
     "name": "stdout",
     "output_type": "stream",
     "text": [
      "<Slide, name = B_213-ST_BFIW-SE_600_processed>, width=300, height=375, channels=3, levels=1, RGB=True, dtype=uint8> <valis.slide_io.VipsSlideReader object at 0x7f0567d17c50> True (375, 300, 3)\n",
      "<Slide, name = B_213-ST_BFIW-SE_601_processed>, width=300, height=375, channels=3, levels=1, RGB=True, dtype=uint8> <valis.slide_io.VipsSlideReader object at 0x7f0567d17cb0> True (375, 300, 3)\n",
      "<Slide, name = B_213-ST_BFIW-SE_602_processed>, width=300, height=375, channels=3, levels=1, RGB=True, dtype=uint8> <valis.slide_io.VipsSlideReader object at 0x7f0567d17d10> True (375, 300, 3)\n",
      "<Slide, name = B_213-ST_BFIW-SE_603_processed>, width=300, height=375, channels=3, levels=1, RGB=True, dtype=uint8> <valis.slide_io.VipsSlideReader object at 0x7f0567d17d70> True (375, 300, 3)\n",
      "<Slide, name = B_213-ST_BFIW-SE_604_processed>, width=300, height=375, channels=3, levels=1, RGB=True, dtype=uint8> <valis.slide_io.VipsSlideReader object at 0x7f0567d17dd0> True (375, 300, 3)\n",
      "<Slide, name = B_213-ST_BFIW-SE_605_processed>, width=300, height=375, channels=3, levels=1, RGB=True, dtype=uint8> <valis.slide_io.VipsSlideReader object at 0x7f0567d17e60> True (375, 300, 3)\n",
      "<Slide, name = B_213-ST_BFIW-SE_606_processed>, width=300, height=375, channels=3, levels=1, RGB=True, dtype=uint8> <valis.slide_io.VipsSlideReader object at 0x7f0567d17ec0> True (375, 300, 3)\n",
      "<Slide, name = B_213-ST_BFIW-SE_607_processed>, width=300, height=375, channels=3, levels=1, RGB=True, dtype=uint8> <valis.slide_io.VipsSlideReader object at 0x7f0567d17f50> True (375, 300, 3)\n",
      "<Slide, name = B_213-ST_BFIW-SE_608_processed>, width=300, height=375, channels=3, levels=1, RGB=True, dtype=uint8> <valis.slide_io.VipsSlideReader object at 0x7f0567d17ef0> True (375, 300, 3)\n"
     ]
    },
    {
     "name": "stderr",
     "output_type": "stream",
     "text": [
      "Converting images:  22%|██████████▋                                     | 582/2608 [00:07<00:27, 74.92image/s]"
     ]
    },
    {
     "name": "stdout",
     "output_type": "stream",
     "text": [
      "<Slide, name = B_213-ST_BFIW-SE_609_processed>, width=300, height=375, channels=3, levels=1, RGB=True, dtype=uint8> <valis.slide_io.VipsSlideReader object at 0x7f0567d17e00> True (375, 300, 3)\n",
      "<Slide, name = B_213-ST_BFIW-SE_610_processed>, width=300, height=375, channels=3, levels=1, RGB=True, dtype=uint8> <valis.slide_io.VipsSlideReader object at 0x7f0567d17fe0> True (375, 300, 3)\n",
      "<Slide, name = B_213-ST_BFIW-SE_611_processed>, width=300, height=375, channels=3, levels=1, RGB=True, dtype=uint8> <valis.slide_io.VipsSlideReader object at 0x7f0567d17d40> True (375, 300, 3)\n",
      "<Slide, name = B_213-ST_BFIW-SE_612_processed>, width=300, height=375, channels=3, levels=1, RGB=True, dtype=uint8> <valis.slide_io.VipsSlideReader object at 0x7f0567d17ce0> True (375, 300, 3)\n",
      "<Slide, name = B_213-ST_BFIW-SE_613_processed>, width=300, height=375, channels=3, levels=1, RGB=True, dtype=uint8> <valis.slide_io.VipsSlideReader object at 0x7f0567d17e90> True (375, 300, 3)\n",
      "<Slide, name = B_213-ST_BFIW-SE_614_processed>, width=300, height=375, channels=3, levels=1, RGB=True, dtype=uint8> <valis.slide_io.VipsSlideReader object at 0x7f0567d100e0> True (375, 300, 3)\n",
      "<Slide, name = B_213-ST_BFIW-SE_615_processed>, width=300, height=375, channels=3, levels=1, RGB=True, dtype=uint8> <valis.slide_io.VipsSlideReader object at 0x7f05680e8140> True (375, 300, 3)\n",
      "<Slide, name = B_213-ST_BFIW-SE_616_processed>, width=300, height=375, channels=3, levels=1, RGB=True, dtype=uint8> <valis.slide_io.VipsSlideReader object at 0x7f0567d181d0> True (375, 300, 3)\n"
     ]
    },
    {
     "name": "stderr",
     "output_type": "stream",
     "text": [
      "Converting images:  23%|██████████▊                                     | 590/2608 [00:07<00:27, 72.89image/s]"
     ]
    },
    {
     "name": "stdout",
     "output_type": "stream",
     "text": [
      "<Slide, name = B_213-ST_BFIW-SE_617_processed>, width=300, height=375, channels=3, levels=1, RGB=True, dtype=uint8> <valis.slide_io.VipsSlideReader object at 0x7f05680e82f0> True (375, 300, 3)\n",
      "<Slide, name = B_213-ST_BFIW-SE_618_processed>, width=300, height=375, channels=3, levels=1, RGB=True, dtype=uint8> <valis.slide_io.VipsSlideReader object at 0x7f05680e8080> True (375, 300, 3)\n",
      "<Slide, name = B_213-ST_BFIW-SE_619_processed>, width=300, height=375, channels=3, levels=1, RGB=True, dtype=uint8> <valis.slide_io.VipsSlideReader object at 0x7f05680e8380> True (375, 300, 3)\n",
      "<Slide, name = B_213-ST_BFIW-SE_620_processed>, width=300, height=375, channels=3, levels=1, RGB=True, dtype=uint8> <valis.slide_io.VipsSlideReader object at 0x7f0567d18590> True (375, 300, 3)\n",
      "<Slide, name = B_213-ST_BFIW-SE_621_processed>, width=300, height=375, channels=3, levels=1, RGB=True, dtype=uint8> <valis.slide_io.VipsSlideReader object at 0x7f0569420170> True (375, 300, 3)\n",
      "<Slide, name = B_213-ST_BFIW-SE_622_processed>, width=300, height=375, channels=3, levels=1, RGB=True, dtype=uint8> <valis.slide_io.VipsSlideReader object at 0x7f0567d103b0> True (375, 300, 3)\n",
      "<Slide, name = B_213-ST_BFIW-SE_623_processed>, width=300, height=375, channels=3, levels=1, RGB=True, dtype=uint8> <valis.slide_io.VipsSlideReader object at 0x7f0567d18440> True (375, 300, 3)\n",
      "<Slide, name = B_213-ST_BFIW-SE_624_processed>, width=300, height=375, channels=3, levels=1, RGB=True, dtype=uint8> <valis.slide_io.VipsSlideReader object at 0x7f0567d18500> True (375, 300, 3)\n"
     ]
    },
    {
     "name": "stderr",
     "output_type": "stream",
     "text": [
      "Converting images:  23%|███████████                                     | 598/2608 [00:07<00:28, 71.29image/s]"
     ]
    },
    {
     "name": "stdout",
     "output_type": "stream",
     "text": [
      "<Slide, name = B_213-ST_BFIW-SE_625_processed>, width=300, height=375, channels=3, levels=1, RGB=True, dtype=uint8> <valis.slide_io.VipsSlideReader object at 0x7f0567d18290> True (375, 300, 3)\n",
      "<Slide, name = B_213-ST_BFIW-SE_626_processed>, width=300, height=375, channels=3, levels=1, RGB=True, dtype=uint8> <valis.slide_io.VipsSlideReader object at 0x7f05680e85c0> True (375, 300, 3)\n",
      "<Slide, name = B_213-ST_BFIW-SE_627_processed>, width=300, height=375, channels=3, levels=1, RGB=True, dtype=uint8> <valis.slide_io.VipsSlideReader object at 0x7f0567d18470> True (375, 300, 3)\n",
      "<Slide, name = B_213-ST_BFIW-SE_628_processed>, width=300, height=375, channels=3, levels=1, RGB=True, dtype=uint8> <valis.slide_io.VipsSlideReader object at 0x7f0567d18740> True (375, 300, 3)\n",
      "<Slide, name = B_213-ST_BFIW-SE_629_processed>, width=300, height=375, channels=3, levels=1, RGB=True, dtype=uint8> <valis.slide_io.VipsSlideReader object at 0x7f0567d108c0> True (375, 300, 3)\n",
      "<Slide, name = B_213-ST_BFIW-SE_630_processed>, width=300, height=375, channels=3, levels=1, RGB=True, dtype=uint8> <valis.slide_io.VipsSlideReader object at 0x7f0567d106e0> True (375, 300, 3)\n",
      "<Slide, name = B_213-ST_BFIW-SE_631_processed>, width=300, height=375, channels=3, levels=1, RGB=True, dtype=uint8> <valis.slide_io.VipsSlideReader object at 0x7f05680e0890> True (375, 300, 3)\n",
      "<Slide, name = B_213-ST_BFIW-SE_632_processed>, width=300, height=375, channels=3, levels=1, RGB=True, dtype=uint8> <valis.slide_io.VipsSlideReader object at 0x7f05680e08f0> True (375, 300, 3)\n"
     ]
    },
    {
     "name": "stderr",
     "output_type": "stream",
     "text": [
      "Converting images:  23%|███████████▏                                    | 606/2608 [00:07<00:28, 69.27image/s]"
     ]
    },
    {
     "name": "stdout",
     "output_type": "stream",
     "text": [
      "<Slide, name = B_213-ST_BFIW-SE_633_processed>, width=300, height=375, channels=3, levels=1, RGB=True, dtype=uint8> <valis.slide_io.VipsSlideReader object at 0x7f0567d10920> True (375, 300, 3)\n",
      "<Slide, name = B_213-ST_BFIW-SE_634_processed>, width=300, height=375, channels=3, levels=1, RGB=True, dtype=uint8> <valis.slide_io.VipsSlideReader object at 0x7f0567d10980> True (375, 300, 3)\n",
      "<Slide, name = B_213-ST_BFIW-SE_635_processed>, width=300, height=375, channels=3, levels=1, RGB=True, dtype=uint8> <valis.slide_io.VipsSlideReader object at 0x7f0567d18800> True (375, 300, 3)\n",
      "<Slide, name = B_213-ST_BFIW-SE_636_processed>, width=300, height=375, channels=3, levels=1, RGB=True, dtype=uint8> <valis.slide_io.VipsSlideReader object at 0x7f0567d18a40> True (375, 300, 3)\n",
      "<Slide, name = B_213-ST_BFIW-SE_637_processed>, width=300, height=375, channels=3, levels=1, RGB=True, dtype=uint8> <valis.slide_io.VipsSlideReader object at 0x7f0567d187d0> True (375, 300, 3)\n",
      "<Slide, name = B_213-ST_BFIW-SE_638_processed>, width=300, height=375, channels=3, levels=1, RGB=True, dtype=uint8> <valis.slide_io.VipsSlideReader object at 0x7f0567d18950> True (375, 300, 3)\n",
      "<Slide, name = B_213-ST_BFIW-SE_639_processed>, width=300, height=375, channels=3, levels=1, RGB=True, dtype=uint8> <valis.slide_io.VipsSlideReader object at 0x7f05680e8bc0> True (375, 300, 3)\n"
     ]
    },
    {
     "name": "stderr",
     "output_type": "stream",
     "text": [
      "Converting images:  24%|███████████▎                                    | 613/2608 [00:07<00:29, 68.49image/s]"
     ]
    },
    {
     "name": "stdout",
     "output_type": "stream",
     "text": [
      "<Slide, name = B_213-ST_BFIW-SE_640_processed>, width=300, height=375, channels=3, levels=1, RGB=True, dtype=uint8> <valis.slide_io.VipsSlideReader object at 0x7f0567d10d70> True (375, 300, 3)\n",
      "<Slide, name = B_213-ST_BFIW-SE_641_processed>, width=300, height=375, channels=3, levels=1, RGB=True, dtype=uint8> <valis.slide_io.VipsSlideReader object at 0x7f05680e8a70> True (375, 300, 3)\n",
      "<Slide, name = B_213-ST_BFIW-SE_642_processed>, width=300, height=375, channels=3, levels=1, RGB=True, dtype=uint8> <valis.slide_io.VipsSlideReader object at 0x7f0567d18b90> True (375, 300, 3)\n",
      "<Slide, name = B_213-ST_BFIW-SE_643_processed>, width=300, height=375, channels=3, levels=1, RGB=True, dtype=uint8> <valis.slide_io.VipsSlideReader object at 0x7f0567d18da0> True (375, 300, 3)\n",
      "<Slide, name = B_213-ST_BFIW-SE_644_processed>, width=300, height=375, channels=3, levels=1, RGB=True, dtype=uint8> <valis.slide_io.VipsSlideReader object at 0x7f0567d18f20> True (375, 300, 3)\n",
      "<Slide, name = B_213-ST_BFIW-SE_645_processed>, width=300, height=375, channels=3, levels=1, RGB=True, dtype=uint8> <valis.slide_io.VipsSlideReader object at 0x7f0567d10fb0> True (375, 300, 3)\n",
      "<Slide, name = B_213-ST_BFIW-SE_646_processed>, width=300, height=375, channels=3, levels=1, RGB=True, dtype=uint8> <valis.slide_io.VipsSlideReader object at 0x7f0567d10c20> True (375, 300, 3)\n"
     ]
    },
    {
     "name": "stderr",
     "output_type": "stream",
     "text": [
      "Converting images:  24%|███████████▍                                    | 620/2608 [00:08<00:29, 68.10image/s]"
     ]
    },
    {
     "name": "stdout",
     "output_type": "stream",
     "text": [
      "<Slide, name = B_213-ST_BFIW-SE_647_processed>, width=300, height=375, channels=3, levels=1, RGB=True, dtype=uint8> <valis.slide_io.VipsSlideReader object at 0x7f0567d18e30> True (375, 300, 3)\n",
      "<Slide, name = B_213-ST_BFIW-SE_648_processed>, width=300, height=375, channels=3, levels=1, RGB=True, dtype=uint8> <valis.slide_io.VipsSlideReader object at 0x7f0567d18fe0> True (375, 300, 3)\n",
      "<Slide, name = B_213-ST_BFIW-SE_649_processed>, width=300, height=375, channels=3, levels=1, RGB=True, dtype=uint8> <valis.slide_io.VipsSlideReader object at 0x7f0567d18dd0> True (375, 300, 3)\n",
      "<Slide, name = B_213-ST_BFIW-SE_650_processed>, width=300, height=375, channels=3, levels=1, RGB=True, dtype=uint8> <valis.slide_io.VipsSlideReader object at 0x7f0567d10ce0> True (375, 300, 3)\n",
      "<Slide, name = B_213-ST_BFIW-SE_651_processed>, width=300, height=375, channels=3, levels=1, RGB=True, dtype=uint8> <valis.slide_io.VipsSlideReader object at 0x7f0567d18e60> True (375, 300, 3)\n",
      "<Slide, name = B_213-ST_BFIW-SE_652_processed>, width=300, height=375, channels=3, levels=1, RGB=True, dtype=uint8> <valis.slide_io.VipsSlideReader object at 0x7f05680e9100> True (375, 300, 3)\n",
      "<Slide, name = B_213-ST_BFIW-SE_653_processed>, width=300, height=375, channels=3, levels=1, RGB=True, dtype=uint8> <valis.slide_io.VipsSlideReader object at 0x7f0567d185f0> True (375, 300, 3)\n"
     ]
    },
    {
     "name": "stderr",
     "output_type": "stream",
     "text": [
      "Converting images:  24%|███████████▌                                    | 627/2608 [00:08<00:30, 65.07image/s]"
     ]
    },
    {
     "name": "stdout",
     "output_type": "stream",
     "text": [
      "<Slide, name = B_213-ST_BFIW-SE_654_processed>, width=300, height=375, channels=3, levels=1, RGB=True, dtype=uint8> <valis.slide_io.VipsSlideReader object at 0x7f0567d19280> True (375, 300, 3)\n",
      "<Slide, name = B_213-ST_BFIW-SE_655_processed>, width=300, height=375, channels=3, levels=1, RGB=True, dtype=uint8> <valis.slide_io.VipsSlideReader object at 0x7f05680e92b0> True (375, 300, 3)\n",
      "<Slide, name = B_213-ST_BFIW-SE_656_processed>, width=300, height=375, channels=3, levels=1, RGB=True, dtype=uint8> <valis.slide_io.VipsSlideReader object at 0x7f0567d19220> True (375, 300, 3)\n",
      "<Slide, name = B_213-ST_BFIW-SE_657_processed>, width=300, height=375, channels=3, levels=1, RGB=True, dtype=uint8> <valis.slide_io.VipsSlideReader object at 0x7f0567d190a0> True (375, 300, 3)\n",
      "<Slide, name = B_213-ST_BFIW-SE_658_processed>, width=300, height=375, channels=3, levels=1, RGB=True, dtype=uint8> <valis.slide_io.VipsSlideReader object at 0x7f0567d195b0> True (375, 300, 3)\n",
      "<Slide, name = B_213-ST_BFIW-SE_659_processed>, width=300, height=375, channels=3, levels=1, RGB=True, dtype=uint8> <valis.slide_io.VipsSlideReader object at 0x7f05680e1640> True (375, 300, 3)\n",
      "<Slide, name = B_213-ST_BFIW-SE_660_processed>, width=300, height=375, channels=3, levels=1, RGB=True, dtype=uint8> <valis.slide_io.VipsSlideReader object at 0x7f0568079040> True (375, 300, 3)\n"
     ]
    },
    {
     "name": "stderr",
     "output_type": "stream",
     "text": [
      "Converting images:  24%|███████████▋                                    | 634/2608 [00:08<00:35, 55.94image/s]"
     ]
    },
    {
     "name": "stdout",
     "output_type": "stream",
     "text": [
      "<Slide, name = B_213-ST_BFIW-SE_661_processed>, width=300, height=375, channels=3, levels=1, RGB=True, dtype=uint8> <valis.slide_io.VipsSlideReader object at 0x7f0567d194f0> True (375, 300, 3)\n",
      "<Slide, name = B_213-ST_BFIW-SE_662_processed>, width=300, height=375, channels=3, levels=1, RGB=True, dtype=uint8> <valis.slide_io.VipsSlideReader object at 0x7f0567d19610> True (375, 300, 3)\n",
      "<Slide, name = B_213-ST_BFIW-SE_663_processed>, width=300, height=375, channels=3, levels=1, RGB=True, dtype=uint8> <valis.slide_io.VipsSlideReader object at 0x7f0567d19580> True (375, 300, 3)\n",
      "<Slide, name = B_213-ST_BFIW-SE_664_processed>, width=300, height=375, channels=3, levels=1, RGB=True, dtype=uint8> <valis.slide_io.VipsSlideReader object at 0x7f0567d196d0> True (375, 300, 3)\n",
      "<Slide, name = B_213-ST_BFIW-SE_665_processed>, width=300, height=375, channels=3, levels=1, RGB=True, dtype=uint8> <valis.slide_io.VipsSlideReader object at 0x7f0567d19850> True (375, 300, 3)\n",
      "<Slide, name = B_213-ST_BFIW-SE_666_processed>, width=300, height=375, channels=3, levels=1, RGB=True, dtype=uint8> <valis.slide_io.VipsSlideReader object at 0x7f05680e18e0> True (375, 300, 3)\n"
     ]
    },
    {
     "name": "stderr",
     "output_type": "stream",
     "text": [
      "Converting images:  25%|███████████▊                                    | 640/2608 [00:08<00:36, 53.63image/s]"
     ]
    },
    {
     "name": "stdout",
     "output_type": "stream",
     "text": [
      "<Slide, name = B_213-ST_BFIW-SE_667_processed>, width=300, height=375, channels=3, levels=1, RGB=True, dtype=uint8> <valis.slide_io.VipsSlideReader object at 0x7f0567d19760> True (375, 300, 3)\n",
      "<Slide, name = B_213-ST_BFIW-SE_668_processed>, width=300, height=375, channels=3, levels=1, RGB=True, dtype=uint8> <valis.slide_io.VipsSlideReader object at 0x7f05680e9370> True (375, 300, 3)\n",
      "<Slide, name = B_213-ST_BFIW-SE_669_processed>, width=300, height=375, channels=3, levels=1, RGB=True, dtype=uint8> <valis.slide_io.VipsSlideReader object at 0x7f0567d19880> True (375, 300, 3)\n",
      "<Slide, name = B_213-ST_BFIW-SE_670_processed>, width=300, height=375, channels=3, levels=1, RGB=True, dtype=uint8> <valis.slide_io.VipsSlideReader object at 0x7f0567d19a90> True (375, 300, 3)\n",
      "<Slide, name = B_213-ST_BFIW-SE_671_processed>, width=300, height=375, channels=3, levels=1, RGB=True, dtype=uint8> <valis.slide_io.VipsSlideReader object at 0x7f0567d19970> True (375, 300, 3)\n",
      "<Slide, name = B_213-ST_BFIW-SE_672_processed>, width=300, height=375, channels=3, levels=1, RGB=True, dtype=uint8> <valis.slide_io.VipsSlideReader object at 0x7f0720071ac0> True (375, 300, 3)\n"
     ]
    },
    {
     "name": "stderr",
     "output_type": "stream",
     "text": [
      "Converting images:  25%|███████████▉                                    | 646/2608 [00:08<00:41, 47.73image/s]"
     ]
    },
    {
     "name": "stdout",
     "output_type": "stream",
     "text": [
      "<Slide, name = B_213-ST_BFIW-SE_673_processed>, width=300, height=375, channels=3, levels=1, RGB=True, dtype=uint8> <valis.slide_io.VipsSlideReader object at 0x7f0567d19b80> True (375, 300, 3)\n",
      "<Slide, name = B_213-ST_BFIW-SE_674_processed>, width=300, height=375, channels=3, levels=1, RGB=True, dtype=uint8> <valis.slide_io.VipsSlideReader object at 0x7f05a22a1a30> True (375, 300, 3)\n",
      "<Slide, name = B_213-ST_BFIW-SE_675_processed>, width=300, height=375, channels=3, levels=1, RGB=True, dtype=uint8> <valis.slide_io.VipsSlideReader object at 0x7f0567d19790> True (375, 300, 3)\n",
      "<Slide, name = B_213-ST_BFIW-SE_676_processed>, width=300, height=375, channels=3, levels=1, RGB=True, dtype=uint8> <valis.slide_io.VipsSlideReader object at 0x7f0567d18ad0> True (375, 300, 3)\n",
      "<Slide, name = B_213-ST_BFIW-SE_677_processed>, width=300, height=375, channels=3, levels=1, RGB=True, dtype=uint8> <valis.slide_io.VipsSlideReader object at 0x7f0567d19a60> True (375, 300, 3)\n"
     ]
    },
    {
     "name": "stderr",
     "output_type": "stream",
     "text": [
      "Converting images:  25%|███████████▉                                    | 651/2608 [00:08<00:41, 46.78image/s]"
     ]
    },
    {
     "name": "stdout",
     "output_type": "stream",
     "text": [
      "<Slide, name = B_213-ST_BFIW-SE_678_processed>, width=300, height=375, channels=3, levels=1, RGB=True, dtype=uint8> <valis.slide_io.VipsSlideReader object at 0x7f05680e9dc0> True (375, 300, 3)\n",
      "<Slide, name = B_213-ST_BFIW-SE_679_processed>, width=300, height=375, channels=3, levels=1, RGB=True, dtype=uint8> <valis.slide_io.VipsSlideReader object at 0x7f0567d12000> True (375, 300, 3)\n",
      "<Slide, name = B_213-ST_BFIW-SE_680_processed>, width=300, height=375, channels=3, levels=1, RGB=True, dtype=uint8> <valis.slide_io.VipsSlideReader object at 0x7f0567d19df0> True (375, 300, 3)\n",
      "<Slide, name = B_213-ST_BFIW-SE_681_processed>, width=300, height=375, channels=3, levels=1, RGB=True, dtype=uint8> <valis.slide_io.VipsSlideReader object at 0x7f0567d19d90> True (375, 300, 3)\n",
      "<Slide, name = B_213-ST_BFIW-SE_682_processed>, width=300, height=375, channels=3, levels=1, RGB=True, dtype=uint8> <valis.slide_io.VipsSlideReader object at 0x7f0567d19fd0> True (375, 300, 3)\n"
     ]
    },
    {
     "name": "stderr",
     "output_type": "stream",
     "text": [
      "Converting images:  25%|████████████                                    | 656/2608 [00:08<00:42, 46.03image/s]"
     ]
    },
    {
     "name": "stdout",
     "output_type": "stream",
     "text": [
      "<Slide, name = B_213-ST_BFIW-SE_683_processed>, width=300, height=375, channels=3, levels=1, RGB=True, dtype=uint8> <valis.slide_io.VipsSlideReader object at 0x7f0567d11ee0> True (375, 300, 3)\n",
      "<Slide, name = B_213-ST_BFIW-SE_684_processed>, width=300, height=375, channels=3, levels=1, RGB=True, dtype=uint8> <valis.slide_io.VipsSlideReader object at 0x7f05680e9eb0> True (375, 300, 3)\n",
      "<Slide, name = B_213-ST_BFIW-SE_685_processed>, width=300, height=375, channels=3, levels=1, RGB=True, dtype=uint8> <valis.slide_io.VipsSlideReader object at 0x7f05680ea120> True (375, 300, 3)\n",
      "<Slide, name = B_213-ST_BFIW-SE_686_processed>, width=300, height=375, channels=3, levels=1, RGB=True, dtype=uint8> <valis.slide_io.VipsSlideReader object at 0x7f0567d1a1b0> True (375, 300, 3)\n",
      "<Slide, name = B_213-ST_BFIW-SE_687_processed>, width=300, height=375, channels=3, levels=1, RGB=True, dtype=uint8> <valis.slide_io.VipsSlideReader object at 0x7f0567d1a1e0> True (375, 300, 3)\n"
     ]
    },
    {
     "name": "stderr",
     "output_type": "stream",
     "text": [
      "Converting images:  25%|████████████▏                                   | 661/2608 [00:09<00:43, 45.01image/s]"
     ]
    },
    {
     "name": "stdout",
     "output_type": "stream",
     "text": [
      "<Slide, name = B_213-ST_BFIW-SE_688_processed>, width=300, height=375, channels=3, levels=1, RGB=True, dtype=uint8> <valis.slide_io.VipsSlideReader object at 0x7f0567d1a390> True (375, 300, 3)\n",
      "<Slide, name = B_213-ST_BFIW-SE_689_processed>, width=300, height=375, channels=3, levels=1, RGB=True, dtype=uint8> <valis.slide_io.VipsSlideReader object at 0x7f0567d12270> True (375, 300, 3)\n",
      "<Slide, name = B_213-ST_BFIW-SE_690_processed>, width=300, height=375, channels=3, levels=1, RGB=True, dtype=uint8> <valis.slide_io.VipsSlideReader object at 0x7f05680ea4b0> True (375, 300, 3)\n",
      "<Slide, name = B_213-ST_BFIW-SE_691_processed>, width=300, height=375, channels=3, levels=1, RGB=True, dtype=uint8> <valis.slide_io.VipsSlideReader object at 0x7f0567d19e50> True (375, 300, 3)\n",
      "<Slide, name = B_213-ST_BFIW-SE_692_processed>, width=300, height=375, channels=3, levels=1, RGB=True, dtype=uint8> <valis.slide_io.VipsSlideReader object at 0x7f0567d1a480> True (375, 300, 3)\n",
      "<Slide, name = B_213-ST_BFIW-SE_693_processed>, width=300, height=375, channels=3, levels=1, RGB=True, dtype=uint8> <valis.slide_io.VipsSlideReader object at 0x7f0567d1a630> True (375, 300, 3)\n"
     ]
    },
    {
     "name": "stderr",
     "output_type": "stream",
     "text": [
      "Converting images:  26%|████████████▎                                   | 667/2608 [00:09<00:40, 47.51image/s]"
     ]
    },
    {
     "name": "stdout",
     "output_type": "stream",
     "text": [
      "<Slide, name = B_213-ST_BFIW-SE_694_processed>, width=300, height=375, channels=3, levels=1, RGB=True, dtype=uint8> <valis.slide_io.VipsSlideReader object at 0x7f0567d1a6c0> True (375, 300, 3)\n",
      "<Slide, name = B_213-ST_BFIW-SE_695_processed>, width=300, height=375, channels=3, levels=1, RGB=True, dtype=uint8> <valis.slide_io.VipsSlideReader object at 0x7f0567d1a2d0> True (375, 300, 3)\n",
      "<Slide, name = B_213-ST_BFIW-SE_696_processed>, width=300, height=375, channels=3, levels=1, RGB=True, dtype=uint8> <valis.slide_io.VipsSlideReader object at 0x7f0567d1a750> True (375, 300, 3)\n",
      "<Slide, name = B_213-ST_BFIW-SE_697_processed>, width=300, height=375, channels=3, levels=1, RGB=True, dtype=uint8> <valis.slide_io.VipsSlideReader object at 0x7f0567d127e0> True (375, 300, 3)\n",
      "<Slide, name = B_213-ST_BFIW-SE_698_processed>, width=300, height=375, channels=3, levels=1, RGB=True, dtype=uint8> <valis.slide_io.VipsSlideReader object at 0x7f05680e28a0> True (375, 300, 3)\n"
     ]
    },
    {
     "name": "stderr",
     "output_type": "stream",
     "text": [
      "Converting images:  26%|████████████▎                                   | 672/2608 [00:09<00:46, 41.57image/s]"
     ]
    },
    {
     "name": "stdout",
     "output_type": "stream",
     "text": [
      "<Slide, name = B_213-ST_BFIW-SE_699_processed>, width=300, height=375, channels=3, levels=1, RGB=True, dtype=uint8> <valis.slide_io.VipsSlideReader object at 0x7f0567d1a840> True (375, 300, 3)\n",
      "<Slide, name = B_213-ST_BFIW-SE_700_processed>, width=300, height=375, channels=3, levels=1, RGB=True, dtype=uint8> <valis.slide_io.VipsSlideReader object at 0x7f05680b2600> True (375, 300, 3)\n",
      "<Slide, name = B_213-ST_BFIW-SE_701_processed>, width=300, height=375, channels=3, levels=1, RGB=True, dtype=uint8> <valis.slide_io.VipsSlideReader object at 0x7f05680ea9f0> True (375, 300, 3)\n",
      "<Slide, name = B_213-ST_BFIW-SE_702_processed>, width=300, height=375, channels=3, levels=1, RGB=True, dtype=uint8> <valis.slide_io.VipsSlideReader object at 0x7f0567d1a570> True (375, 300, 3)\n",
      "<Slide, name = B_213-ST_BFIW-SE_703_processed>, width=300, height=375, channels=3, levels=1, RGB=True, dtype=uint8> <valis.slide_io.VipsSlideReader object at 0x7f05680ea870> True (375, 300, 3)\n"
     ]
    },
    {
     "name": "stderr",
     "output_type": "stream",
     "text": [
      "Converting images:  26%|████████████▍                                   | 677/2608 [00:09<00:47, 40.42image/s]"
     ]
    },
    {
     "name": "stdout",
     "output_type": "stream",
     "text": [
      "<Slide, name = B_213-ST_BFIW-SE_704_processed>, width=300, height=375, channels=3, levels=1, RGB=True, dtype=uint8> <valis.slide_io.VipsSlideReader object at 0x7f05680eab40> True (375, 300, 3)\n",
      "<Slide, name = B_213-ST_BFIW-SE_705_processed>, width=300, height=375, channels=3, levels=1, RGB=True, dtype=uint8> <valis.slide_io.VipsSlideReader object at 0x7f05680e2930> True (375, 300, 3)\n",
      "<Slide, name = B_213-ST_BFIW-SE_706_processed>, width=300, height=375, channels=3, levels=1, RGB=True, dtype=uint8> <valis.slide_io.VipsSlideReader object at 0x7f0567d1aa20> True (375, 300, 3)\n",
      "<Slide, name = B_213-ST_BFIW-SE_707_processed>, width=300, height=375, channels=3, levels=1, RGB=True, dtype=uint8> <valis.slide_io.VipsSlideReader object at 0x7f05680e2b70> True (375, 300, 3)\n",
      "<Slide, name = B_213-ST_BFIW-SE_708_processed>, width=300, height=375, channels=3, levels=1, RGB=True, dtype=uint8> <valis.slide_io.VipsSlideReader object at 0x7f05680e29c0> True (375, 300, 3)\n",
      "<Slide, name = B_213-ST_BFIW-SE_709_processed>, width=300, height=375, channels=3, levels=1, RGB=True, dtype=uint8> <valis.slide_io.VipsSlideReader object at 0x7f05680eac00> True (375, 300, 3)\n"
     ]
    },
    {
     "name": "stderr",
     "output_type": "stream",
     "text": [
      "Converting images:  26%|████████████▌                                   | 683/2608 [00:09<00:43, 44.67image/s]"
     ]
    },
    {
     "name": "stdout",
     "output_type": "stream",
     "text": [
      "<Slide, name = B_213-ST_BFIW-SE_710_processed>, width=300, height=375, channels=3, levels=1, RGB=True, dtype=uint8> <valis.slide_io.VipsSlideReader object at 0x7f05680b2c60> True (375, 300, 3)\n",
      "<Slide, name = B_213-ST_BFIW-SE_711_processed>, width=300, height=375, channels=3, levels=1, RGB=True, dtype=uint8> <valis.slide_io.VipsSlideReader object at 0x7f0567d1aae0> True (375, 300, 3)\n",
      "<Slide, name = B_213-ST_BFIW-SE_712_processed>, width=300, height=375, channels=3, levels=1, RGB=True, dtype=uint8> <valis.slide_io.VipsSlideReader object at 0x7f05680ea720> True (375, 300, 3)\n",
      "<Slide, name = B_213-ST_BFIW-SE_713_processed>, width=300, height=375, channels=3, levels=1, RGB=True, dtype=uint8> <valis.slide_io.VipsSlideReader object at 0x7f0567d1aed0> True (375, 300, 3)\n",
      "<Slide, name = B_213-ST_BFIW-SE_714_processed>, width=300, height=375, channels=3, levels=1, RGB=True, dtype=uint8> <valis.slide_io.VipsSlideReader object at 0x7f0567d1ad50> True (375, 300, 3)\n"
     ]
    },
    {
     "name": "stderr",
     "output_type": "stream",
     "text": [
      "Converting images:  26%|████████████▋                                   | 688/2608 [00:09<00:44, 43.33image/s]"
     ]
    },
    {
     "name": "stdout",
     "output_type": "stream",
     "text": [
      "<Slide, name = B_213-ST_BFIW-SE_715_processed>, width=300, height=375, channels=3, levels=1, RGB=True, dtype=uint8> <valis.slide_io.VipsSlideReader object at 0x7f0567d1af30> True (375, 300, 3)\n",
      "<Slide, name = B_213-ST_BFIW-SE_716_processed>, width=300, height=375, channels=3, levels=1, RGB=True, dtype=uint8> <valis.slide_io.VipsSlideReader object at 0x7f05680e2e40> True (375, 300, 3)\n",
      "<Slide, name = B_213-ST_BFIW-SE_717_processed>, width=300, height=375, channels=3, levels=1, RGB=True, dtype=uint8> <valis.slide_io.VipsSlideReader object at 0x7f05680eb080> True (375, 300, 3)\n",
      "<Slide, name = B_213-ST_BFIW-SE_718_processed>, width=300, height=375, channels=3, levels=1, RGB=True, dtype=uint8> <valis.slide_io.VipsSlideReader object at 0x7f0567d189e0> True (375, 300, 3)\n",
      "<Slide, name = B_213-ST_BFIW-SE_719_processed>, width=300, height=375, channels=3, levels=1, RGB=True, dtype=uint8> <valis.slide_io.VipsSlideReader object at 0x7f0567d1b050> True (375, 300, 3)\n"
     ]
    },
    {
     "name": "stderr",
     "output_type": "stream",
     "text": [
      "Converting images:  27%|████████████▊                                   | 693/2608 [00:09<00:44, 43.30image/s]"
     ]
    },
    {
     "name": "stdout",
     "output_type": "stream",
     "text": [
      "<Slide, name = B_213-ST_BFIW-SE_720_processed>, width=300, height=375, channels=3, levels=1, RGB=True, dtype=uint8> <valis.slide_io.VipsSlideReader object at 0x7f0567d1a8d0> True (375, 300, 3)\n",
      "<Slide, name = B_213-ST_BFIW-SE_721_processed>, width=300, height=375, channels=3, levels=1, RGB=True, dtype=uint8> <valis.slide_io.VipsSlideReader object at 0x7f05680eaf00> True (375, 300, 3)\n",
      "<Slide, name = B_213-ST_BFIW-SE_722_processed>, width=300, height=375, channels=3, levels=1, RGB=True, dtype=uint8> <valis.slide_io.VipsSlideReader object at 0x7f0567d1acf0> True (375, 300, 3)\n",
      "<Slide, name = B_213-ST_BFIW-SE_723_processed>, width=300, height=375, channels=3, levels=1, RGB=True, dtype=uint8> <valis.slide_io.VipsSlideReader object at 0x7f05680e3170> True (375, 300, 3)\n",
      "<Slide, name = B_213-ST_BFIW-SE_724_processed>, width=300, height=375, channels=3, levels=1, RGB=True, dtype=uint8> <valis.slide_io.VipsSlideReader object at 0x7f05680e3140> True (375, 300, 3)\n",
      "<Slide, name = B_213-ST_BFIW-SE_725_processed>, width=300, height=375, channels=3, levels=1, RGB=True, dtype=uint8> <valis.slide_io.VipsSlideReader object at 0x7f05680eb2c0> True (375, 300, 3)\n",
      "<Slide, name = B_213-ST_BFIW-SE_726_processed>, width=300, height=375, channels=3, levels=1, RGB=True, dtype=uint8> <valis.slide_io.VipsSlideReader object at 0x7f05680e32f0> True (375, 300, 3)\n",
      "<Slide, name = B_213-ST_BFIW-SE_727_processed>, width=300, height=375, channels=3, levels=1, RGB=True, dtype=uint8> <valis.slide_io.VipsSlideReader object at 0x7f0567d1b200> True (375, 300, 3)\n",
      "<Slide, name = B_213-ST_BFIW-SE_728_processed>, width=300, height=375, channels=3, levels=1, RGB=True, dtype=uint8> <valis.slide_io.VipsSlideReader object at 0x7f05680eb3b0> True (375, 300, 3)\n",
      "<Slide, name = B_213-ST_BFIW-SE_729_processed>, width=300, height=375, channels=3, levels=1, RGB=True, dtype=uint8> <valis.slide_io.VipsSlideReader object at 0x7f0567d1b260> True (375, 300, 3)\n"
     ]
    },
    {
     "name": "stderr",
     "output_type": "stream",
     "text": [
      "Converting images:  27%|████████████▉                                   | 703/2608 [00:09<00:33, 57.29image/s]"
     ]
    },
    {
     "name": "stdout",
     "output_type": "stream",
     "text": [
      "<Slide, name = B_213-ST_BFIW-SE_730_processed>, width=300, height=375, channels=3, levels=1, RGB=True, dtype=uint8> <valis.slide_io.VipsSlideReader object at 0x7f056826b230> True (375, 300, 3)\n",
      "<Slide, name = B_213-ST_BFIW-SE_731_processed>, width=300, height=375, channels=3, levels=1, RGB=True, dtype=uint8> <valis.slide_io.VipsSlideReader object at 0x7f0567d1b380> True (375, 300, 3)\n",
      "<Slide, name = B_213-ST_BFIW-SE_732_processed>, width=300, height=375, channels=3, levels=1, RGB=True, dtype=uint8> <valis.slide_io.VipsSlideReader object at 0x7f0567d1b500> True (375, 300, 3)\n",
      "<Slide, name = B_213-ST_BFIW-SE_733_processed>, width=300, height=375, channels=3, levels=1, RGB=True, dtype=uint8> <valis.slide_io.VipsSlideReader object at 0x7f0567d1b710> True (375, 300, 3)\n",
      "<Slide, name = B_213-ST_BFIW-SE_734_processed>, width=300, height=375, channels=3, levels=1, RGB=True, dtype=uint8> <valis.slide_io.VipsSlideReader object at 0x7f05680e35c0> True (375, 300, 3)\n",
      "<Slide, name = B_213-ST_BFIW-SE_735_processed>, width=300, height=375, channels=3, levels=1, RGB=True, dtype=uint8> <valis.slide_io.VipsSlideReader object at 0x7f05680eb830> True (375, 300, 3)\n",
      "<Slide, name = B_213-ST_BFIW-SE_736_processed>, width=300, height=375, channels=3, levels=1, RGB=True, dtype=uint8> <valis.slide_io.VipsSlideReader object at 0x7f05680eb680> True (375, 300, 3)\n",
      "<Slide, name = B_213-ST_BFIW-SE_737_processed>, width=300, height=375, channels=3, levels=1, RGB=True, dtype=uint8> <valis.slide_io.VipsSlideReader object at 0x7f05680eb800> True (375, 300, 3)\n",
      "<Slide, name = B_213-ST_BFIW-SE_738_processed>, width=300, height=375, channels=3, levels=1, RGB=True, dtype=uint8> <valis.slide_io.VipsSlideReader object at 0x7f05680eb860> True (375, 300, 3)\n",
      "<Slide, name = B_213-ST_BFIW-SE_739_processed>, width=300, height=375, channels=3, levels=1, RGB=True, dtype=uint8> <valis.slide_io.VipsSlideReader object at 0x7f0567d1b7a0> True (375, 300, 3)\n"
     ]
    },
    {
     "name": "stderr",
     "output_type": "stream",
     "text": [
      "Converting images:  27%|█████████████                                   | 713/2608 [00:09<00:28, 66.87image/s]"
     ]
    },
    {
     "name": "stdout",
     "output_type": "stream",
     "text": [
      "<Slide, name = B_213-ST_BFIW-SE_740_processed>, width=300, height=375, channels=3, levels=1, RGB=True, dtype=uint8> <valis.slide_io.VipsSlideReader object at 0x7f0567d1b890> True (375, 300, 3)\n",
      "<Slide, name = B_213-ST_BFIW-SE_741_processed>, width=300, height=375, channels=3, levels=1, RGB=True, dtype=uint8> <valis.slide_io.VipsSlideReader object at 0x7f0567d1b4d0> True (375, 300, 3)\n",
      "<Slide, name = B_213-ST_BFIW-SE_742_processed>, width=300, height=375, channels=3, levels=1, RGB=True, dtype=uint8> <valis.slide_io.VipsSlideReader object at 0x7f0567d139b0> True (375, 300, 3)\n",
      "<Slide, name = B_213-ST_BFIW-SE_743_processed>, width=300, height=375, channels=3, levels=1, RGB=True, dtype=uint8> <valis.slide_io.VipsSlideReader object at 0x7f0567d1baa0> True (375, 300, 3)\n",
      "<Slide, name = B_213-ST_BFIW-SE_744_processed>, width=300, height=375, channels=3, levels=1, RGB=True, dtype=uint8> <valis.slide_io.VipsSlideReader object at 0x7f0567d1b980> True (375, 300, 3)\n",
      "<Slide, name = B_213-ST_BFIW-SE_745_processed>, width=300, height=375, channels=3, levels=1, RGB=True, dtype=uint8> <valis.slide_io.VipsSlideReader object at 0x7f0567d1ba10> True (375, 300, 3)\n",
      "<Slide, name = B_213-ST_BFIW-SE_746_processed>, width=300, height=375, channels=3, levels=1, RGB=True, dtype=uint8> <valis.slide_io.VipsSlideReader object at 0x7f0567d1b950> True (375, 300, 3)\n",
      "<Slide, name = B_213-ST_BFIW-SE_747_processed>, width=300, height=375, channels=3, levels=1, RGB=True, dtype=uint8> <valis.slide_io.VipsSlideReader object at 0x7f0567d1bd70> True (375, 300, 3)\n",
      "<Slide, name = B_213-ST_BFIW-SE_748_processed>, width=300, height=375, channels=3, levels=1, RGB=True, dtype=uint8> <valis.slide_io.VipsSlideReader object at 0x7f0567d1bc50> True (375, 300, 3)\n",
      "<Slide, name = B_213-ST_BFIW-SE_749_processed>, width=300, height=375, channels=3, levels=1, RGB=True, dtype=uint8> <valis.slide_io.VipsSlideReader object at 0x7f05680ebb30> True (375, 300, 3)\n"
     ]
    },
    {
     "name": "stderr",
     "output_type": "stream",
     "text": [
      "Converting images:  28%|█████████████▎                                  | 723/2608 [00:10<00:25, 74.48image/s]"
     ]
    },
    {
     "name": "stdout",
     "output_type": "stream",
     "text": [
      "<Slide, name = B_213-ST_BFIW-SE_750_processed>, width=300, height=375, channels=3, levels=1, RGB=True, dtype=uint8> <valis.slide_io.VipsSlideReader object at 0x7f0567d1bcb0> True (375, 300, 3)\n",
      "<Slide, name = B_213-ST_BFIW-SE_751_processed>, width=300, height=375, channels=3, levels=1, RGB=True, dtype=uint8> <valis.slide_io.VipsSlideReader object at 0x7f05680ebda0> True (375, 300, 3)\n",
      "<Slide, name = B_213-ST_BFIW-SE_752_processed>, width=300, height=375, channels=3, levels=1, RGB=True, dtype=uint8> <valis.slide_io.VipsSlideReader object at 0x7f0567d1bdd0> True (375, 300, 3)\n",
      "<Slide, name = B_213-ST_BFIW-SE_753_processed>, width=300, height=375, channels=3, levels=1, RGB=True, dtype=uint8> <valis.slide_io.VipsSlideReader object at 0x7f0567d1bd10> True (375, 300, 3)\n",
      "<Slide, name = B_213-ST_BFIW-SE_754_processed>, width=300, height=375, channels=3, levels=1, RGB=True, dtype=uint8> <valis.slide_io.VipsSlideReader object at 0x7f0567d1bf50> True (375, 300, 3)\n",
      "<Slide, name = B_213-ST_BFIW-SE_755_processed>, width=300, height=375, channels=3, levels=1, RGB=True, dtype=uint8> <valis.slide_io.VipsSlideReader object at 0x7f0567d1b9e0> True (375, 300, 3)\n",
      "<Slide, name = B_213-ST_BFIW-SE_756_processed>, width=300, height=375, channels=3, levels=1, RGB=True, dtype=uint8> <valis.slide_io.VipsSlideReader object at 0x7f0567d1bf80> True (375, 300, 3)\n",
      "<Slide, name = B_213-ST_BFIW-SE_757_processed>, width=300, height=375, channels=3, levels=1, RGB=True, dtype=uint8> <valis.slide_io.VipsSlideReader object at 0x7f0567d1ba40> True (375, 300, 3)\n",
      "<Slide, name = B_213-ST_BFIW-SE_758_processed>, width=300, height=375, channels=3, levels=1, RGB=True, dtype=uint8> <valis.slide_io.VipsSlideReader object at 0x7f0567d1ea50> True (375, 300, 3)\n",
      "<Slide, name = B_213-ST_BFIW-SE_759_processed>, width=300, height=375, channels=3, levels=1, RGB=True, dtype=uint8> <valis.slide_io.VipsSlideReader object at 0x7f05680ec1a0> True (375, 300, 3)\n"
     ]
    },
    {
     "name": "stderr",
     "output_type": "stream",
     "text": [
      "Converting images:  28%|█████████████▍                                  | 733/2608 [00:10<00:23, 79.98image/s]"
     ]
    },
    {
     "name": "stdout",
     "output_type": "stream",
     "text": [
      "<Slide, name = B_213-ST_BFIW-SE_760_processed>, width=300, height=375, channels=3, levels=1, RGB=True, dtype=uint8> <valis.slide_io.VipsSlideReader object at 0x7f0567d1c110> True (375, 300, 3)\n",
      "<Slide, name = B_213-ST_BFIW-SE_761_processed>, width=300, height=375, channels=3, levels=1, RGB=True, dtype=uint8> <valis.slide_io.VipsSlideReader object at 0x7f0567d1c170> True (375, 300, 3)\n",
      "<Slide, name = B_213-ST_BFIW-SE_762_processed>, width=300, height=375, channels=3, levels=1, RGB=True, dtype=uint8> <valis.slide_io.VipsSlideReader object at 0x7f0567d1c410> True (375, 300, 3)\n",
      "<Slide, name = B_213-ST_BFIW-SE_763_processed>, width=300, height=375, channels=3, levels=1, RGB=True, dtype=uint8> <valis.slide_io.VipsSlideReader object at 0x7f0567d1c4a0> True (375, 300, 3)\n",
      "<Slide, name = B_213-ST_BFIW-SE_764_processed>, width=300, height=375, channels=3, levels=1, RGB=True, dtype=uint8> <valis.slide_io.VipsSlideReader object at 0x7f05680ec200> True (375, 300, 3)\n",
      "<Slide, name = B_213-ST_BFIW-SE_765_processed>, width=300, height=375, channels=3, levels=1, RGB=True, dtype=uint8> <valis.slide_io.VipsSlideReader object at 0x7f0567d1c1d0> True (375, 300, 3)\n",
      "<Slide, name = B_213-ST_BFIW-SE_766_processed>, width=300, height=375, channels=3, levels=1, RGB=True, dtype=uint8> <valis.slide_io.VipsSlideReader object at 0x7f0567d1c440> True (375, 300, 3)\n",
      "<Slide, name = B_213-ST_BFIW-SE_767_processed>, width=300, height=375, channels=3, levels=1, RGB=True, dtype=uint8> <valis.slide_io.VipsSlideReader object at 0x7f0567d1c6b0> True (375, 300, 3)\n",
      "<Slide, name = B_213-ST_BFIW-SE_768_processed>, width=300, height=375, channels=3, levels=1, RGB=True, dtype=uint8> <valis.slide_io.VipsSlideReader object at 0x7f0567d1c740> True (375, 300, 3)\n",
      "<Slide, name = B_213-ST_BFIW-SE_769_processed>, width=300, height=375, channels=3, levels=1, RGB=True, dtype=uint8> <valis.slide_io.VipsSlideReader object at 0x7f0567d1c7d0> True (375, 300, 3)\n"
     ]
    },
    {
     "name": "stderr",
     "output_type": "stream",
     "text": [
      "Converting images:  28%|█████████████▋                                  | 743/2608 [00:10<00:22, 83.57image/s]"
     ]
    },
    {
     "name": "stdout",
     "output_type": "stream",
     "text": [
      "<Slide, name = B_213-ST_BFIW-SE_770_processed>, width=300, height=375, channels=3, levels=1, RGB=True, dtype=uint8> <valis.slide_io.VipsSlideReader object at 0x7f0567d1c4d0> True (375, 300, 3)\n",
      "<Slide, name = B_213-ST_BFIW-SE_771_processed>, width=300, height=375, channels=3, levels=1, RGB=True, dtype=uint8> <valis.slide_io.VipsSlideReader object at 0x7f05680a40b0> True (375, 300, 3)\n",
      "<Slide, name = B_213-ST_BFIW-SE_772_processed>, width=300, height=375, channels=3, levels=1, RGB=True, dtype=uint8> <valis.slide_io.VipsSlideReader object at 0x7f0567d1c710> True (375, 300, 3)\n",
      "<Slide, name = B_213-ST_BFIW-SE_773_processed>, width=300, height=375, channels=3, levels=1, RGB=True, dtype=uint8> <valis.slide_io.VipsSlideReader object at 0x7f05680ec380> True (375, 300, 3)\n",
      "<Slide, name = B_213-ST_BFIW-SE_774_processed>, width=300, height=375, channels=3, levels=1, RGB=True, dtype=uint8> <valis.slide_io.VipsSlideReader object at 0x7f0567d1c080> True (375, 300, 3)\n",
      "<Slide, name = B_213-ST_BFIW-SE_775_processed>, width=300, height=375, channels=3, levels=1, RGB=True, dtype=uint8> <valis.slide_io.VipsSlideReader object at 0x7f0567d1c980> True (375, 300, 3)\n",
      "<Slide, name = B_213-ST_BFIW-SE_776_processed>, width=300, height=375, channels=3, levels=1, RGB=True, dtype=uint8> <valis.slide_io.VipsSlideReader object at 0x7f0567d1caa0> True (375, 300, 3)\n",
      "<Slide, name = B_213-ST_BFIW-SE_777_processed>, width=300, height=375, channels=3, levels=1, RGB=True, dtype=uint8> <valis.slide_io.VipsSlideReader object at 0x7f0567d1c350> True (375, 300, 3)\n",
      "<Slide, name = B_213-ST_BFIW-SE_778_processed>, width=300, height=375, channels=3, levels=1, RGB=True, dtype=uint8> <valis.slide_io.VipsSlideReader object at 0x7f0567d1c9e0> True (375, 300, 3)\n",
      "<Slide, name = B_213-ST_BFIW-SE_779_processed>, width=300, height=375, channels=3, levels=1, RGB=True, dtype=uint8> <valis.slide_io.VipsSlideReader object at 0x7f0567d1cc50> True (375, 300, 3)\n"
     ]
    },
    {
     "name": "stderr",
     "output_type": "stream",
     "text": [
      "Converting images:  29%|█████████████▊                                  | 753/2608 [00:10<00:21, 86.50image/s]"
     ]
    },
    {
     "name": "stdout",
     "output_type": "stream",
     "text": [
      "<Slide, name = B_213-ST_BFIW-SE_780_processed>, width=300, height=375, channels=3, levels=1, RGB=True, dtype=uint8> <valis.slide_io.VipsSlideReader object at 0x7f0567d1cce0> True (375, 300, 3)\n",
      "<Slide, name = B_213-ST_BFIW-SE_781_processed>, width=300, height=375, channels=3, levels=1, RGB=True, dtype=uint8> <valis.slide_io.VipsSlideReader object at 0x7f0567d1cd70> True (375, 300, 3)\n",
      "<Slide, name = B_213-ST_BFIW-SE_782_processed>, width=300, height=375, channels=3, levels=1, RGB=True, dtype=uint8> <valis.slide_io.VipsSlideReader object at 0x7f0567d1cad0> True (375, 300, 3)\n",
      "<Slide, name = B_213-ST_BFIW-SE_783_processed>, width=300, height=375, channels=3, levels=1, RGB=True, dtype=uint8> <valis.slide_io.VipsSlideReader object at 0x7f0567d1cbf0> True (375, 300, 3)\n",
      "<Slide, name = B_213-ST_BFIW-SE_784_processed>, width=300, height=375, channels=3, levels=1, RGB=True, dtype=uint8> <valis.slide_io.VipsSlideReader object at 0x7f0567d14ef0> True (375, 300, 3)\n",
      "<Slide, name = B_213-ST_BFIW-SE_785_processed>, width=300, height=375, channels=3, levels=1, RGB=True, dtype=uint8> <valis.slide_io.VipsSlideReader object at 0x7f0567d1cc80> True (375, 300, 3)\n",
      "<Slide, name = B_213-ST_BFIW-SE_786_processed>, width=300, height=375, channels=3, levels=1, RGB=True, dtype=uint8> <valis.slide_io.VipsSlideReader object at 0x7f0567d1ce90> True (375, 300, 3)\n",
      "<Slide, name = B_213-ST_BFIW-SE_787_processed>, width=300, height=375, channels=3, levels=1, RGB=True, dtype=uint8> <valis.slide_io.VipsSlideReader object at 0x7f0567d1ca70> True (375, 300, 3)\n",
      "<Slide, name = B_213-ST_BFIW-SE_788_processed>, width=300, height=375, channels=3, levels=1, RGB=True, dtype=uint8> <valis.slide_io.VipsSlideReader object at 0x7f0567d1d0d0> True (375, 300, 3)\n",
      "<Slide, name = B_213-ST_BFIW-SE_789_processed>, width=300, height=375, channels=3, levels=1, RGB=True, dtype=uint8> <valis.slide_io.VipsSlideReader object at 0x7f05680b5160> True (375, 300, 3)\n"
     ]
    },
    {
     "name": "stderr",
     "output_type": "stream",
     "text": [
      "Converting images:  29%|██████████████                                  | 763/2608 [00:10<00:20, 88.44image/s]"
     ]
    },
    {
     "name": "stdout",
     "output_type": "stream",
     "text": [
      "<Slide, name = B_213-ST_BFIW-SE_790_processed>, width=300, height=375, channels=3, levels=1, RGB=True, dtype=uint8> <valis.slide_io.VipsSlideReader object at 0x7f05680ccfb0> True (375, 300, 3)\n",
      "<Slide, name = B_213-ST_BFIW-SE_791_processed>, width=300, height=375, channels=3, levels=1, RGB=True, dtype=uint8> <valis.slide_io.VipsSlideReader object at 0x7f05680cd130> True (375, 300, 3)\n",
      "<Slide, name = B_213-ST_BFIW-SE_792_processed>, width=300, height=375, channels=3, levels=1, RGB=True, dtype=uint8> <valis.slide_io.VipsSlideReader object at 0x7f0567d15190> True (375, 300, 3)\n",
      "<Slide, name = B_213-ST_BFIW-SE_793_processed>, width=300, height=375, channels=3, levels=1, RGB=True, dtype=uint8> <valis.slide_io.VipsSlideReader object at 0x7f0567d1d0a0> True (375, 300, 3)\n",
      "<Slide, name = B_213-ST_BFIW-SE_794_processed>, width=300, height=375, channels=3, levels=1, RGB=True, dtype=uint8> <valis.slide_io.VipsSlideReader object at 0x7f0567d1d250> True (375, 300, 3)\n",
      "<Slide, name = B_213-ST_BFIW-SE_795_processed>, width=300, height=375, channels=3, levels=1, RGB=True, dtype=uint8> <valis.slide_io.VipsSlideReader object at 0x7f0567d1d400> True (375, 300, 3)\n",
      "<Slide, name = B_213-ST_BFIW-SE_796_processed>, width=300, height=375, channels=3, levels=1, RGB=True, dtype=uint8> <valis.slide_io.VipsSlideReader object at 0x7f0567d152e0> True (375, 300, 3)\n",
      "<Slide, name = B_213-ST_BFIW-SE_797_processed>, width=300, height=375, channels=3, levels=1, RGB=True, dtype=uint8> <valis.slide_io.VipsSlideReader object at 0x7f072005d520> True (375, 300, 3)\n",
      "<Slide, name = B_213-ST_BFIW-SE_798_processed>, width=300, height=375, channels=3, levels=1, RGB=True, dtype=uint8> <valis.slide_io.VipsSlideReader object at 0x7f0567d1d4f0> True (375, 300, 3)\n",
      "<Slide, name = B_213-ST_BFIW-SE_799_processed>, width=300, height=375, channels=3, levels=1, RGB=True, dtype=uint8> <valis.slide_io.VipsSlideReader object at 0x7f0567d1ce00> True (375, 300, 3)\n"
     ]
    },
    {
     "name": "stderr",
     "output_type": "stream",
     "text": [
      "Converting images:  30%|██████████████▏                                 | 773/2608 [00:10<00:20, 89.77image/s]"
     ]
    },
    {
     "name": "stdout",
     "output_type": "stream",
     "text": [
      "<Slide, name = B_213-ST_BFIW-SE_800_processed>, width=300, height=375, channels=3, levels=1, RGB=True, dtype=uint8> <valis.slide_io.VipsSlideReader object at 0x7f0567d1cf50> True (375, 300, 3)\n",
      "<Slide, name = B_213-ST_BFIW-SE_801_processed>, width=300, height=375, channels=3, levels=1, RGB=True, dtype=uint8> <valis.slide_io.VipsSlideReader object at 0x7f05680cd5b0> True (375, 300, 3)\n",
      "<Slide, name = B_213-ST_BFIW-SE_802_processed>, width=300, height=375, channels=3, levels=1, RGB=True, dtype=uint8> <valis.slide_io.VipsSlideReader object at 0x7f0567d15280> True (375, 300, 3)\n",
      "<Slide, name = B_213-ST_BFIW-SE_803_processed>, width=300, height=375, channels=3, levels=1, RGB=True, dtype=uint8> <valis.slide_io.VipsSlideReader object at 0x7f0567d15580> True (375, 300, 3)\n",
      "<Slide, name = B_213-ST_BFIW-SE_804_processed>, width=300, height=375, channels=3, levels=1, RGB=True, dtype=uint8> <valis.slide_io.VipsSlideReader object at 0x7f072005d5e0> True (375, 300, 3)\n",
      "<Slide, name = B_213-ST_BFIW-SE_805_processed>, width=300, height=375, channels=3, levels=1, RGB=True, dtype=uint8> <valis.slide_io.VipsSlideReader object at 0x7f0567d15670> True (375, 300, 3)\n",
      "<Slide, name = B_213-ST_BFIW-SE_806_processed>, width=300, height=375, channels=3, levels=1, RGB=True, dtype=uint8> <valis.slide_io.VipsSlideReader object at 0x7f0567d1d3d0> True (375, 300, 3)\n",
      "<Slide, name = B_213-ST_BFIW-SE_807_processed>, width=300, height=375, channels=3, levels=1, RGB=True, dtype=uint8> <valis.slide_io.VipsSlideReader object at 0x7f072005d640> True (375, 300, 3)\n",
      "<Slide, name = B_213-ST_BFIW-SE_808_processed>, width=300, height=375, channels=3, levels=1, RGB=True, dtype=uint8> <valis.slide_io.VipsSlideReader object at 0x7f0567d1d430> True (375, 300, 3)\n",
      "<Slide, name = B_213-ST_BFIW-SE_809_processed>, width=300, height=375, channels=3, levels=1, RGB=True, dtype=uint8> <valis.slide_io.VipsSlideReader object at 0x7f0567d15700> True (375, 300, 3)\n"
     ]
    },
    {
     "name": "stderr",
     "output_type": "stream",
     "text": [
      "Converting images:  30%|██████████████▍                                 | 783/2608 [00:10<00:20, 89.94image/s]"
     ]
    },
    {
     "name": "stdout",
     "output_type": "stream",
     "text": [
      "<Slide, name = B_213-ST_BFIW-SE_810_processed>, width=300, height=375, channels=3, levels=1, RGB=True, dtype=uint8> <valis.slide_io.VipsSlideReader object at 0x7f0567d1d790> True (375, 300, 3)\n",
      "<Slide, name = B_213-ST_BFIW-SE_811_processed>, width=300, height=375, channels=3, levels=1, RGB=True, dtype=uint8> <valis.slide_io.VipsSlideReader object at 0x7f0567d1d9d0> True (375, 300, 3)\n",
      "<Slide, name = B_213-ST_BFIW-SE_812_processed>, width=300, height=375, channels=3, levels=1, RGB=True, dtype=uint8> <valis.slide_io.VipsSlideReader object at 0x7f0567d1d8b0> True (375, 300, 3)\n",
      "<Slide, name = B_213-ST_BFIW-SE_813_processed>, width=300, height=375, channels=3, levels=1, RGB=True, dtype=uint8> <valis.slide_io.VipsSlideReader object at 0x7f0567d1db20> True (375, 300, 3)\n",
      "<Slide, name = B_213-ST_BFIW-SE_814_processed>, width=300, height=375, channels=3, levels=1, RGB=True, dtype=uint8> <valis.slide_io.VipsSlideReader object at 0x7f0567d15820> True (375, 300, 3)\n",
      "<Slide, name = B_213-ST_BFIW-SE_815_processed>, width=300, height=375, channels=3, levels=1, RGB=True, dtype=uint8> <valis.slide_io.VipsSlideReader object at 0x7f0567d1d550> True (375, 300, 3)\n",
      "<Slide, name = B_213-ST_BFIW-SE_816_processed>, width=300, height=375, channels=3, levels=1, RGB=True, dtype=uint8> <valis.slide_io.VipsSlideReader object at 0x7f0567d1da90> True (375, 300, 3)\n",
      "<Slide, name = B_213-ST_BFIW-SE_817_processed>, width=300, height=375, channels=3, levels=1, RGB=True, dtype=uint8> <valis.slide_io.VipsSlideReader object at 0x7f0567d1dd30> True (375, 300, 3)\n",
      "<Slide, name = B_213-ST_BFIW-SE_818_processed>, width=300, height=375, channels=3, levels=1, RGB=True, dtype=uint8> <valis.slide_io.VipsSlideReader object at 0x7f0567d1dc10> True (375, 300, 3)\n",
      "<Slide, name = B_213-ST_BFIW-SE_819_processed>, width=300, height=375, channels=3, levels=1, RGB=True, dtype=uint8> <valis.slide_io.VipsSlideReader object at 0x7f0567d1d7c0> True (375, 300, 3)\n"
     ]
    },
    {
     "name": "stderr",
     "output_type": "stream",
     "text": [
      "Converting images:  30%|██████████████▌                                 | 793/2608 [00:10<00:19, 91.14image/s]"
     ]
    },
    {
     "name": "stdout",
     "output_type": "stream",
     "text": [
      "<Slide, name = B_213-ST_BFIW-SE_820_processed>, width=300, height=375, channels=3, levels=1, RGB=True, dtype=uint8> <valis.slide_io.VipsSlideReader object at 0x7f07225b5d60> True (375, 300, 3)\n",
      "<Slide, name = B_213-ST_BFIW-SE_821_processed>, width=300, height=375, channels=3, levels=1, RGB=True, dtype=uint8> <valis.slide_io.VipsSlideReader object at 0x7f0567d1df70> True (375, 300, 3)\n",
      "<Slide, name = B_213-ST_BFIW-SE_822_processed>, width=300, height=375, channels=3, levels=1, RGB=True, dtype=uint8> <valis.slide_io.VipsSlideReader object at 0x7f0567d1db50> True (375, 300, 3)\n",
      "<Slide, name = B_213-ST_BFIW-SE_823_processed>, width=300, height=375, channels=3, levels=1, RGB=True, dtype=uint8> <valis.slide_io.VipsSlideReader object at 0x7f0567d1de50> True (375, 300, 3)\n",
      "<Slide, name = B_213-ST_BFIW-SE_824_processed>, width=300, height=375, channels=3, levels=1, RGB=True, dtype=uint8> <valis.slide_io.VipsSlideReader object at 0x7f0567d1d9a0> True (375, 300, 3)\n",
      "<Slide, name = B_213-ST_BFIW-SE_825_processed>, width=300, height=375, channels=3, levels=1, RGB=True, dtype=uint8> <valis.slide_io.VipsSlideReader object at 0x7f0567d1e0f0> True (375, 300, 3)\n",
      "<Slide, name = B_213-ST_BFIW-SE_826_processed>, width=300, height=375, channels=3, levels=1, RGB=True, dtype=uint8> <valis.slide_io.VipsSlideReader object at 0x7f0567d1e180> True (375, 300, 3)\n",
      "<Slide, name = B_213-ST_BFIW-SE_827_processed>, width=300, height=375, channels=3, levels=1, RGB=True, dtype=uint8> <valis.slide_io.VipsSlideReader object at 0x7f05680a5c70> True (375, 300, 3)\n",
      "<Slide, name = B_213-ST_BFIW-SE_828_processed>, width=300, height=375, channels=3, levels=1, RGB=True, dtype=uint8> <valis.slide_io.VipsSlideReader object at 0x7f05680ce2a0> True (375, 300, 3)\n",
      "<Slide, name = B_213-ST_BFIW-SE_829_processed>, width=300, height=375, channels=3, levels=1, RGB=True, dtype=uint8> <valis.slide_io.VipsSlideReader object at 0x7f05680ce120> True (375, 300, 3)\n"
     ]
    },
    {
     "name": "stderr",
     "output_type": "stream",
     "text": [
      "Converting images:  31%|██████████████▊                                 | 803/2608 [00:10<00:19, 91.56image/s]"
     ]
    },
    {
     "name": "stdout",
     "output_type": "stream",
     "text": [
      "<Slide, name = B_213-ST_BFIW-SE_830_processed>, width=300, height=375, channels=3, levels=1, RGB=True, dtype=uint8> <valis.slide_io.VipsSlideReader object at 0x7f0567d1e060> True (375, 300, 3)\n",
      "<Slide, name = B_213-ST_BFIW-SE_831_processed>, width=300, height=375, channels=3, levels=1, RGB=True, dtype=uint8> <valis.slide_io.VipsSlideReader object at 0x7f05680edca0> True (375, 300, 3)\n",
      "<Slide, name = B_213-ST_BFIW-SE_832_processed>, width=300, height=375, channels=3, levels=1, RGB=True, dtype=uint8> <valis.slide_io.VipsSlideReader object at 0x7f0567d1e210> True (375, 300, 3)\n",
      "<Slide, name = B_213-ST_BFIW-SE_833_processed>, width=300, height=375, channels=3, levels=1, RGB=True, dtype=uint8> <valis.slide_io.VipsSlideReader object at 0x7f0567d1e450> True (375, 300, 3)\n",
      "<Slide, name = B_213-ST_BFIW-SE_834_processed>, width=300, height=375, channels=3, levels=1, RGB=True, dtype=uint8> <valis.slide_io.VipsSlideReader object at 0x7f0567d1e300> True (375, 300, 3)\n",
      "<Slide, name = B_213-ST_BFIW-SE_835_processed>, width=300, height=375, channels=3, levels=1, RGB=True, dtype=uint8> <valis.slide_io.VipsSlideReader object at 0x7f0567d1df10> True (375, 300, 3)\n",
      "<Slide, name = B_213-ST_BFIW-SE_836_processed>, width=300, height=375, channels=3, levels=1, RGB=True, dtype=uint8> <valis.slide_io.VipsSlideReader object at 0x7f0567d1e540> True (375, 300, 3)\n",
      "<Slide, name = B_213-ST_BFIW-SE_837_processed>, width=300, height=375, channels=3, levels=1, RGB=True, dtype=uint8> <valis.slide_io.VipsSlideReader object at 0x7f0567d1e150> True (375, 300, 3)\n",
      "<Slide, name = B_213-ST_BFIW-SE_838_processed>, width=300, height=375, channels=3, levels=1, RGB=True, dtype=uint8> <valis.slide_io.VipsSlideReader object at 0x7f0567d1e690> True (375, 300, 3)\n",
      "<Slide, name = B_213-ST_BFIW-SE_839_processed>, width=300, height=375, channels=3, levels=1, RGB=True, dtype=uint8> <valis.slide_io.VipsSlideReader object at 0x7f0567d1e510> True (375, 300, 3)\n"
     ]
    },
    {
     "name": "stderr",
     "output_type": "stream",
     "text": [
      "Converting images:  31%|██████████████▉                                 | 813/2608 [00:11<00:19, 92.28image/s]"
     ]
    },
    {
     "name": "stdout",
     "output_type": "stream",
     "text": [
      "<Slide, name = B_213-ST_BFIW-SE_840_processed>, width=300, height=375, channels=3, levels=1, RGB=True, dtype=uint8> <valis.slide_io.VipsSlideReader object at 0x7f0567d1e7e0> True (375, 300, 3)\n",
      "<Slide, name = B_213-ST_BFIW-SE_841_processed>, width=300, height=375, channels=3, levels=1, RGB=True, dtype=uint8> <valis.slide_io.VipsSlideReader object at 0x7f0567d1e870> True (375, 300, 3)\n",
      "<Slide, name = B_213-ST_BFIW-SE_842_processed>, width=300, height=375, channels=3, levels=1, RGB=True, dtype=uint8> <valis.slide_io.VipsSlideReader object at 0x7f0567d1e930> True (375, 300, 3)\n",
      "<Slide, name = B_213-ST_BFIW-SE_843_processed>, width=300, height=375, channels=3, levels=1, RGB=True, dtype=uint8> <valis.slide_io.VipsSlideReader object at 0x7f0567d1e2d0> True (375, 300, 3)\n",
      "<Slide, name = B_213-ST_BFIW-SE_844_processed>, width=300, height=375, channels=3, levels=1, RGB=True, dtype=uint8> <valis.slide_io.VipsSlideReader object at 0x7f0567d1e780> True (375, 300, 3)\n",
      "<Slide, name = B_213-ST_BFIW-SE_845_processed>, width=300, height=375, channels=3, levels=1, RGB=True, dtype=uint8> <valis.slide_io.VipsSlideReader object at 0x7f0567d1eb70> True (375, 300, 3)\n",
      "<Slide, name = B_213-ST_BFIW-SE_846_processed>, width=300, height=375, channels=3, levels=1, RGB=True, dtype=uint8> <valis.slide_io.VipsSlideReader object at 0x7f0567d1e990> True (375, 300, 3)\n",
      "<Slide, name = B_213-ST_BFIW-SE_847_processed>, width=300, height=375, channels=3, levels=1, RGB=True, dtype=uint8> <valis.slide_io.VipsSlideReader object at 0x7f0567d1e660> True (375, 300, 3)\n",
      "<Slide, name = B_213-ST_BFIW-SE_848_processed>, width=300, height=375, channels=3, levels=1, RGB=True, dtype=uint8> <valis.slide_io.VipsSlideReader object at 0x7f0567d1ec60> True (375, 300, 3)\n",
      "<Slide, name = B_213-ST_BFIW-SE_849_processed>, width=300, height=375, channels=3, levels=1, RGB=True, dtype=uint8> <valis.slide_io.VipsSlideReader object at 0x7f0567d1ebd0> True (375, 300, 3)\n"
     ]
    },
    {
     "name": "stderr",
     "output_type": "stream",
     "text": [
      "Converting images:  32%|███████████████▏                                | 823/2608 [00:11<00:19, 92.57image/s]"
     ]
    },
    {
     "name": "stdout",
     "output_type": "stream",
     "text": [
      "<Slide, name = B_213-ST_BFIW-SE_850_processed>, width=300, height=375, channels=3, levels=1, RGB=True, dtype=uint8> <valis.slide_io.VipsSlideReader object at 0x7f0567d1e810> True (375, 300, 3)\n",
      "<Slide, name = B_213-ST_BFIW-SE_851_processed>, width=300, height=375, channels=3, levels=1, RGB=True, dtype=uint8> <valis.slide_io.VipsSlideReader object at 0x7f0568096f60> True (375, 300, 3)\n",
      "<Slide, name = B_213-ST_BFIW-SE_852_processed>, width=300, height=375, channels=3, levels=1, RGB=True, dtype=uint8> <valis.slide_io.VipsSlideReader object at 0x7f0567d1f230> True (375, 300, 3)\n",
      "<Slide, name = B_213-ST_BFIW-SE_853_processed>, width=300, height=375, channels=3, levels=1, RGB=True, dtype=uint8> <valis.slide_io.VipsSlideReader object at 0x7f0567d1ecf0> True (375, 300, 3)\n",
      "<Slide, name = B_213-ST_BFIW-SE_854_processed>, width=300, height=375, channels=3, levels=1, RGB=True, dtype=uint8> <valis.slide_io.VipsSlideReader object at 0x7f0567d1f1d0> True (375, 300, 3)\n",
      "<Slide, name = B_213-ST_BFIW-SE_855_processed>, width=300, height=375, channels=3, levels=1, RGB=True, dtype=uint8> <valis.slide_io.VipsSlideReader object at 0x7f0567d1ea80> True (375, 300, 3)\n",
      "<Slide, name = B_213-ST_BFIW-SE_856_processed>, width=300, height=375, channels=3, levels=1, RGB=True, dtype=uint8> <valis.slide_io.VipsSlideReader object at 0x7f0567d1f530> True (375, 300, 3)\n",
      "<Slide, name = B_213-ST_BFIW-SE_857_processed>, width=300, height=375, channels=3, levels=1, RGB=True, dtype=uint8> <valis.slide_io.VipsSlideReader object at 0x7f0567d1f410> True (375, 300, 3)\n",
      "<Slide, name = B_213-ST_BFIW-SE_858_processed>, width=300, height=375, channels=3, levels=1, RGB=True, dtype=uint8> <valis.slide_io.VipsSlideReader object at 0x7f0567d1ed20> True (375, 300, 3)\n",
      "<Slide, name = B_213-ST_BFIW-SE_859_processed>, width=300, height=375, channels=3, levels=1, RGB=True, dtype=uint8> <valis.slide_io.VipsSlideReader object at 0x7f0567d1f6e0> True (375, 300, 3)\n"
     ]
    },
    {
     "name": "stderr",
     "output_type": "stream",
     "text": [
      "Converting images:  32%|███████████████▎                                | 833/2608 [00:11<00:19, 92.78image/s]"
     ]
    },
    {
     "name": "stdout",
     "output_type": "stream",
     "text": [
      "<Slide, name = B_213-ST_BFIW-SE_860_processed>, width=300, height=375, channels=3, levels=1, RGB=True, dtype=uint8> <valis.slide_io.VipsSlideReader object at 0x7f0567d1f770> True (375, 300, 3)\n",
      "<Slide, name = B_213-ST_BFIW-SE_861_processed>, width=300, height=375, channels=3, levels=1, RGB=True, dtype=uint8> <valis.slide_io.VipsSlideReader object at 0x7f0567d1f800> True (375, 300, 3)\n",
      "<Slide, name = B_213-ST_BFIW-SE_862_processed>, width=300, height=375, channels=3, levels=1, RGB=True, dtype=uint8> <valis.slide_io.VipsSlideReader object at 0x7f0567d1f890> True (375, 300, 3)\n",
      "<Slide, name = B_213-ST_BFIW-SE_863_processed>, width=300, height=375, channels=3, levels=1, RGB=True, dtype=uint8> <valis.slide_io.VipsSlideReader object at 0x7f0567d1f920> True (375, 300, 3)\n",
      "<Slide, name = B_213-ST_BFIW-SE_864_processed>, width=300, height=375, channels=3, levels=1, RGB=True, dtype=uint8> <valis.slide_io.VipsSlideReader object at 0x7f0567d1f710> True (375, 300, 3)\n",
      "<Slide, name = B_213-ST_BFIW-SE_865_processed>, width=300, height=375, channels=3, levels=1, RGB=True, dtype=uint8> <valis.slide_io.VipsSlideReader object at 0x7f05680b7680> True (375, 300, 3)\n",
      "<Slide, name = B_213-ST_BFIW-SE_866_processed>, width=300, height=375, channels=3, levels=1, RGB=True, dtype=uint8> <valis.slide_io.VipsSlideReader object at 0x7f0567d1f860> True (375, 300, 3)\n",
      "<Slide, name = B_213-ST_BFIW-SE_867_processed>, width=300, height=375, channels=3, levels=1, RGB=True, dtype=uint8> <valis.slide_io.VipsSlideReader object at 0x7f0567d1e5d0> True (375, 300, 3)\n",
      "<Slide, name = B_213-ST_BFIW-SE_868_processed>, width=300, height=375, channels=3, levels=1, RGB=True, dtype=uint8> <valis.slide_io.VipsSlideReader object at 0x7f0567d1fc20> True (375, 300, 3)\n",
      "<Slide, name = B_213-ST_BFIW-SE_869_processed>, width=300, height=375, channels=3, levels=1, RGB=True, dtype=uint8> <valis.slide_io.VipsSlideReader object at 0x7f0567d1fce0> True (375, 300, 3)\n"
     ]
    },
    {
     "name": "stderr",
     "output_type": "stream",
     "text": [
      "Converting images:  32%|███████████████▌                                | 843/2608 [00:11<00:18, 92.96image/s]"
     ]
    },
    {
     "name": "stdout",
     "output_type": "stream",
     "text": [
      "<Slide, name = B_213-ST_BFIW-SE_870_processed>, width=300, height=375, channels=3, levels=1, RGB=True, dtype=uint8> <valis.slide_io.VipsSlideReader object at 0x7f0567d1fd70> True (375, 300, 3)\n",
      "<Slide, name = B_213-ST_BFIW-SE_871_processed>, width=300, height=375, channels=3, levels=1, RGB=True, dtype=uint8> <valis.slide_io.VipsSlideReader object at 0x7f0567d1fe00> True (375, 300, 3)\n",
      "<Slide, name = B_213-ST_BFIW-SE_872_processed>, width=300, height=375, channels=3, levels=1, RGB=True, dtype=uint8> <valis.slide_io.VipsSlideReader object at 0x7f05680e7e90> True (375, 300, 3)\n",
      "<Slide, name = B_213-ST_BFIW-SE_873_processed>, width=300, height=375, channels=3, levels=1, RGB=True, dtype=uint8> <valis.slide_io.VipsSlideReader object at 0x7f0567d1f200> True (375, 300, 3)\n",
      "<Slide, name = B_213-ST_BFIW-SE_874_processed>, width=300, height=375, channels=3, levels=1, RGB=True, dtype=uint8> <valis.slide_io.VipsSlideReader object at 0x7f0567d1fad0> True (375, 300, 3)\n",
      "<Slide, name = B_213-ST_BFIW-SE_875_processed>, width=300, height=375, channels=3, levels=1, RGB=True, dtype=uint8> <valis.slide_io.VipsSlideReader object at 0x7f0567d1c050> True (375, 300, 3)\n",
      "<Slide, name = B_213-ST_BFIW-SE_876_processed>, width=300, height=375, channels=3, levels=1, RGB=True, dtype=uint8> <valis.slide_io.VipsSlideReader object at 0x7f0567d1fb90> True (375, 300, 3)\n",
      "<Slide, name = B_213-ST_BFIW-SE_877_processed>, width=300, height=375, channels=3, levels=1, RGB=True, dtype=uint8> <valis.slide_io.VipsSlideReader object at 0x7f0567d1ff50> True (375, 300, 3)\n",
      "<Slide, name = B_213-ST_BFIW-SE_878_processed>, width=300, height=375, channels=3, levels=1, RGB=True, dtype=uint8> <valis.slide_io.VipsSlideReader object at 0x7f0567d1f4d0> True (375, 300, 3)\n",
      "<Slide, name = B_213-ST_BFIW-SE_879_processed>, width=300, height=375, channels=3, levels=1, RGB=True, dtype=uint8> <valis.slide_io.VipsSlideReader object at 0x7f0567d1ff80> True (375, 300, 3)\n"
     ]
    },
    {
     "name": "stderr",
     "output_type": "stream",
     "text": [
      "Converting images:  33%|███████████████▋                                | 853/2608 [00:11<00:18, 93.03image/s]"
     ]
    },
    {
     "name": "stdout",
     "output_type": "stream",
     "text": [
      "<Slide, name = B_213-ST_BFIW-SE_880_processed>, width=300, height=375, channels=3, levels=1, RGB=True, dtype=uint8> <valis.slide_io.VipsSlideReader object at 0x7f0567d18080> True (375, 300, 3)\n",
      "<Slide, name = B_213-ST_BFIW-SE_881_processed>, width=300, height=375, channels=3, levels=1, RGB=True, dtype=uint8> <valis.slide_io.VipsSlideReader object at 0x7f0567d20050> True (375, 300, 3)\n",
      "<Slide, name = B_213-ST_BFIW-SE_882_processed>, width=300, height=375, channels=3, levels=1, RGB=True, dtype=uint8> <valis.slide_io.VipsSlideReader object at 0x7f0567d201d0> True (375, 300, 3)\n",
      "<Slide, name = B_213-ST_BFIW-SE_883_processed>, width=300, height=375, channels=3, levels=1, RGB=True, dtype=uint8> <valis.slide_io.VipsSlideReader object at 0x7f0567d20230> True (375, 300, 3)\n",
      "<Slide, name = B_213-ST_BFIW-SE_884_processed>, width=300, height=375, channels=3, levels=1, RGB=True, dtype=uint8> <valis.slide_io.VipsSlideReader object at 0x7f0567d183b0> True (375, 300, 3)\n",
      "<Slide, name = B_213-ST_BFIW-SE_885_processed>, width=300, height=375, channels=3, levels=1, RGB=True, dtype=uint8> <valis.slide_io.VipsSlideReader object at 0x7f0567d10470> True (375, 300, 3)\n",
      "<Slide, name = B_213-ST_BFIW-SE_886_processed>, width=300, height=375, channels=3, levels=1, RGB=True, dtype=uint8> <valis.slide_io.VipsSlideReader object at 0x7f05680e8350> True (375, 300, 3)\n",
      "<Slide, name = B_213-ST_BFIW-SE_887_processed>, width=300, height=375, channels=3, levels=1, RGB=True, dtype=uint8> <valis.slide_io.VipsSlideReader object at 0x7f0567d10440> True (375, 300, 3)\n",
      "<Slide, name = B_213-ST_BFIW-SE_888_processed>, width=300, height=375, channels=3, levels=1, RGB=True, dtype=uint8> <valis.slide_io.VipsSlideReader object at 0x7f0567d18260> True (375, 300, 3)\n",
      "<Slide, name = B_213-ST_BFIW-SE_889_processed>, width=300, height=375, channels=3, levels=1, RGB=True, dtype=uint8> <valis.slide_io.VipsSlideReader object at 0x7f0567d202f0> True (375, 300, 3)\n"
     ]
    },
    {
     "name": "stderr",
     "output_type": "stream",
     "text": [
      "Converting images:  33%|███████████████▉                                | 863/2608 [00:11<00:18, 93.34image/s]"
     ]
    },
    {
     "name": "stdout",
     "output_type": "stream",
     "text": [
      "<Slide, name = B_213-ST_BFIW-SE_890_processed>, width=300, height=375, channels=3, levels=1, RGB=True, dtype=uint8> <valis.slide_io.VipsSlideReader object at 0x7f0567d18170> True (375, 300, 3)\n",
      "<Slide, name = B_213-ST_BFIW-SE_891_processed>, width=300, height=375, channels=3, levels=1, RGB=True, dtype=uint8> <valis.slide_io.VipsSlideReader object at 0x7f0567d204a0> True (375, 300, 3)\n",
      "<Slide, name = B_213-ST_BFIW-SE_892_processed>, width=300, height=375, channels=3, levels=1, RGB=True, dtype=uint8> <valis.slide_io.VipsSlideReader object at 0x7f0567d20290> True (375, 300, 3)\n",
      "<Slide, name = B_213-ST_BFIW-SE_893_processed>, width=300, height=375, channels=3, levels=1, RGB=True, dtype=uint8> <valis.slide_io.VipsSlideReader object at 0x7f0567d185c0> True (375, 300, 3)\n",
      "<Slide, name = B_213-ST_BFIW-SE_894_processed>, width=300, height=375, channels=3, levels=1, RGB=True, dtype=uint8> <valis.slide_io.VipsSlideReader object at 0x7f0567d205f0> True (375, 300, 3)\n",
      "<Slide, name = B_213-ST_BFIW-SE_895_processed>, width=300, height=375, channels=3, levels=1, RGB=True, dtype=uint8> <valis.slide_io.VipsSlideReader object at 0x7f0567d186e0> True (375, 300, 3)\n",
      "<Slide, name = B_213-ST_BFIW-SE_896_processed>, width=300, height=375, channels=3, levels=1, RGB=True, dtype=uint8> <valis.slide_io.VipsSlideReader object at 0x7f0567d10770> True (375, 300, 3)\n",
      "<Slide, name = B_213-ST_BFIW-SE_897_processed>, width=300, height=375, channels=3, levels=1, RGB=True, dtype=uint8> <valis.slide_io.VipsSlideReader object at 0x7f0567d1ac60> True (375, 300, 3)\n",
      "<Slide, name = B_213-ST_BFIW-SE_898_processed>, width=300, height=375, channels=3, levels=1, RGB=True, dtype=uint8> <valis.slide_io.VipsSlideReader object at 0x7f0567d20740> True (375, 300, 3)\n",
      "<Slide, name = B_213-ST_BFIW-SE_899_processed>, width=300, height=375, channels=3, levels=1, RGB=True, dtype=uint8> <valis.slide_io.VipsSlideReader object at 0x7f0567d106b0> True (375, 300, 3)\n"
     ]
    },
    {
     "name": "stderr",
     "output_type": "stream",
     "text": [
      "Converting images:  33%|████████████████                                | 873/2608 [00:11<00:18, 92.89image/s]"
     ]
    },
    {
     "name": "stdout",
     "output_type": "stream",
     "text": [
      "<Slide, name = B_213-ST_BFIW-SE_900_processed>, width=300, height=375, channels=3, levels=1, RGB=True, dtype=uint8> <valis.slide_io.VipsSlideReader object at 0x7f0567d18890> True (375, 300, 3)\n",
      "<Slide, name = B_213-ST_BFIW-SE_901_processed>, width=300, height=375, channels=3, levels=1, RGB=True, dtype=uint8> <valis.slide_io.VipsSlideReader object at 0x7f0567d188c0> True (375, 300, 3)\n",
      "<Slide, name = B_213-ST_BFIW-SE_902_processed>, width=300, height=375, channels=3, levels=1, RGB=True, dtype=uint8> <valis.slide_io.VipsSlideReader object at 0x7f0567d18920> True (375, 300, 3)\n",
      "<Slide, name = B_213-ST_BFIW-SE_903_processed>, width=300, height=375, channels=3, levels=1, RGB=True, dtype=uint8> <valis.slide_io.VipsSlideReader object at 0x7f0567d20860> True (375, 300, 3)\n",
      "<Slide, name = B_213-ST_BFIW-SE_904_processed>, width=300, height=375, channels=3, levels=1, RGB=True, dtype=uint8> <valis.slide_io.VipsSlideReader object at 0x7f0567d20a10> True (375, 300, 3)\n",
      "<Slide, name = B_213-ST_BFIW-SE_905_processed>, width=300, height=375, channels=3, levels=1, RGB=True, dtype=uint8> <valis.slide_io.VipsSlideReader object at 0x7f0567d18bf0> True (375, 300, 3)\n",
      "<Slide, name = B_213-ST_BFIW-SE_906_processed>, width=300, height=375, channels=3, levels=1, RGB=True, dtype=uint8> <valis.slide_io.VipsSlideReader object at 0x7f0567d20830> True (375, 300, 3)\n",
      "<Slide, name = B_213-ST_BFIW-SE_907_processed>, width=300, height=375, channels=3, levels=1, RGB=True, dtype=uint8> <valis.slide_io.VipsSlideReader object at 0x7f05680e8b00> True (375, 300, 3)\n",
      "<Slide, name = B_213-ST_BFIW-SE_908_processed>, width=300, height=375, channels=3, levels=1, RGB=True, dtype=uint8> <valis.slide_io.VipsSlideReader object at 0x7f0567d18d40> True (375, 300, 3)\n",
      "<Slide, name = B_213-ST_BFIW-SE_909_processed>, width=300, height=375, channels=3, levels=1, RGB=True, dtype=uint8> <valis.slide_io.VipsSlideReader object at 0x7f0567d10b30> True (375, 300, 3)\n"
     ]
    },
    {
     "name": "stderr",
     "output_type": "stream",
     "text": [
      "Converting images:  34%|████████████████▎                               | 883/2608 [00:11<00:18, 93.33image/s]"
     ]
    },
    {
     "name": "stdout",
     "output_type": "stream",
     "text": [
      "<Slide, name = B_213-ST_BFIW-SE_910_processed>, width=300, height=375, channels=3, levels=1, RGB=True, dtype=uint8> <valis.slide_io.VipsSlideReader object at 0x7f0567d20c20> True (375, 300, 3)\n",
      "<Slide, name = B_213-ST_BFIW-SE_911_processed>, width=300, height=375, channels=3, levels=1, RGB=True, dtype=uint8> <valis.slide_io.VipsSlideReader object at 0x7f0567d18d70> True (375, 300, 3)\n",
      "<Slide, name = B_213-ST_BFIW-SE_912_processed>, width=300, height=375, channels=3, levels=1, RGB=True, dtype=uint8> <valis.slide_io.VipsSlideReader object at 0x7f0567d18bc0> True (375, 300, 3)\n",
      "<Slide, name = B_213-ST_BFIW-SE_913_processed>, width=300, height=375, channels=3, levels=1, RGB=True, dtype=uint8> <valis.slide_io.VipsSlideReader object at 0x7f0567d20ad0> True (375, 300, 3)\n",
      "<Slide, name = B_213-ST_BFIW-SE_914_processed>, width=300, height=375, channels=3, levels=1, RGB=True, dtype=uint8> <valis.slide_io.VipsSlideReader object at 0x7f0567d20e60> True (375, 300, 3)\n",
      "<Slide, name = B_213-ST_BFIW-SE_915_processed>, width=300, height=375, channels=3, levels=1, RGB=True, dtype=uint8> <valis.slide_io.VipsSlideReader object at 0x7f0567d20d10> True (375, 300, 3)\n",
      "<Slide, name = B_213-ST_BFIW-SE_916_processed>, width=300, height=375, channels=3, levels=1, RGB=True, dtype=uint8> <valis.slide_io.VipsSlideReader object at 0x7f05680e8ef0> True (375, 300, 3)\n",
      "<Slide, name = B_213-ST_BFIW-SE_917_processed>, width=300, height=375, channels=3, levels=1, RGB=True, dtype=uint8> <valis.slide_io.VipsSlideReader object at 0x7f05680e8e30> True (375, 300, 3)\n",
      "<Slide, name = B_213-ST_BFIW-SE_918_processed>, width=300, height=375, channels=3, levels=1, RGB=True, dtype=uint8> <valis.slide_io.VipsSlideReader object at 0x7f0567d19130> True (375, 300, 3)\n",
      "<Slide, name = B_213-ST_BFIW-SE_919_processed>, width=300, height=375, channels=3, levels=1, RGB=True, dtype=uint8> <valis.slide_io.VipsSlideReader object at 0x7f0567d19100> True (375, 300, 3)\n"
     ]
    },
    {
     "name": "stderr",
     "output_type": "stream",
     "text": [
      "Converting images:  34%|████████████████▍                               | 893/2608 [00:11<00:18, 93.56image/s]"
     ]
    },
    {
     "name": "stdout",
     "output_type": "stream",
     "text": [
      "<Slide, name = B_213-ST_BFIW-SE_920_processed>, width=300, height=375, channels=3, levels=1, RGB=True, dtype=uint8> <valis.slide_io.VipsSlideReader object at 0x7f0567d20fb0> True (375, 300, 3)\n",
      "<Slide, name = B_213-ST_BFIW-SE_921_processed>, width=300, height=375, channels=3, levels=1, RGB=True, dtype=uint8> <valis.slide_io.VipsSlideReader object at 0x7f05680e0f20> True (375, 300, 3)\n",
      "<Slide, name = B_213-ST_BFIW-SE_922_processed>, width=300, height=375, channels=3, levels=1, RGB=True, dtype=uint8> <valis.slide_io.VipsSlideReader object at 0x7f0567d20a40> True (375, 300, 3)\n",
      "<Slide, name = B_213-ST_BFIW-SE_923_processed>, width=300, height=375, channels=3, levels=1, RGB=True, dtype=uint8> <valis.slide_io.VipsSlideReader object at 0x7f0567d19640> True (375, 300, 3)\n",
      "<Slide, name = B_213-ST_BFIW-SE_924_processed>, width=300, height=375, channels=3, levels=1, RGB=True, dtype=uint8> <valis.slide_io.VipsSlideReader object at 0x7f0567d21010> True (375, 300, 3)\n",
      "<Slide, name = B_213-ST_BFIW-SE_925_processed>, width=300, height=375, channels=3, levels=1, RGB=True, dtype=uint8> <valis.slide_io.VipsSlideReader object at 0x7f05680e1880> True (375, 300, 3)\n",
      "<Slide, name = B_213-ST_BFIW-SE_926_processed>, width=300, height=375, channels=3, levels=1, RGB=True, dtype=uint8> <valis.slide_io.VipsSlideReader object at 0x7f0567d21940> True (375, 300, 3)\n",
      "<Slide, name = B_213-ST_BFIW-SE_927_processed>, width=300, height=375, channels=3, levels=1, RGB=True, dtype=uint8> <valis.slide_io.VipsSlideReader object at 0x7f0567d197f0> True (375, 300, 3)\n",
      "<Slide, name = B_213-ST_BFIW-SE_928_processed>, width=300, height=375, channels=3, levels=1, RGB=True, dtype=uint8> <valis.slide_io.VipsSlideReader object at 0x7f0567d19ac0> True (375, 300, 3)\n",
      "<Slide, name = B_213-ST_BFIW-SE_929_processed>, width=300, height=375, channels=3, levels=1, RGB=True, dtype=uint8> <valis.slide_io.VipsSlideReader object at 0x7f0567d199a0> True (375, 300, 3)\n"
     ]
    },
    {
     "name": "stderr",
     "output_type": "stream",
     "text": [
      "Converting images:  35%|████████████████▌                               | 903/2608 [00:12<00:18, 93.39image/s]"
     ]
    },
    {
     "name": "stdout",
     "output_type": "stream",
     "text": [
      "<Slide, name = B_213-ST_BFIW-SE_930_processed>, width=300, height=375, channels=3, levels=1, RGB=True, dtype=uint8> <valis.slide_io.VipsSlideReader object at 0x7f0567d21970> True (375, 300, 3)\n",
      "<Slide, name = B_213-ST_BFIW-SE_931_processed>, width=300, height=375, channels=3, levels=1, RGB=True, dtype=uint8> <valis.slide_io.VipsSlideReader object at 0x7f0567d21a90> True (375, 300, 3)\n",
      "<Slide, name = B_213-ST_BFIW-SE_932_processed>, width=300, height=375, channels=3, levels=1, RGB=True, dtype=uint8> <valis.slide_io.VipsSlideReader object at 0x7f0567d21910> True (375, 300, 3)\n",
      "<Slide, name = B_213-ST_BFIW-SE_933_processed>, width=300, height=375, channels=3, levels=1, RGB=True, dtype=uint8> <valis.slide_io.VipsSlideReader object at 0x7f05680e9b80> True (375, 300, 3)\n",
      "<Slide, name = B_213-ST_BFIW-SE_934_processed>, width=300, height=375, channels=3, levels=1, RGB=True, dtype=uint8> <valis.slide_io.VipsSlideReader object at 0x7f0567d21c70> True (375, 300, 3)\n",
      "<Slide, name = B_213-ST_BFIW-SE_935_processed>, width=300, height=375, channels=3, levels=1, RGB=True, dtype=uint8> <valis.slide_io.VipsSlideReader object at 0x7f0567d21d90> True (375, 300, 3)\n",
      "<Slide, name = B_213-ST_BFIW-SE_936_processed>, width=300, height=375, channels=3, levels=1, RGB=True, dtype=uint8> <valis.slide_io.VipsSlideReader object at 0x7f05680e9bb0> True (375, 300, 3)\n",
      "<Slide, name = B_213-ST_BFIW-SE_937_processed>, width=300, height=375, channels=3, levels=1, RGB=True, dtype=uint8> <valis.slide_io.VipsSlideReader object at 0x7f0568099d00> True (375, 300, 3)\n",
      "<Slide, name = B_213-ST_BFIW-SE_938_processed>, width=300, height=375, channels=3, levels=1, RGB=True, dtype=uint8> <valis.slide_io.VipsSlideReader object at 0x7f0567d21d30> True (375, 300, 3)\n",
      "<Slide, name = B_213-ST_BFIW-SE_939_processed>, width=300, height=375, channels=3, levels=1, RGB=True, dtype=uint8> <valis.slide_io.VipsSlideReader object at 0x7f0567d21e50> True (375, 300, 3)\n"
     ]
    },
    {
     "name": "stderr",
     "output_type": "stream",
     "text": [
      "Converting images:  35%|████████████████▊                               | 913/2608 [00:12<00:18, 92.18image/s]"
     ]
    },
    {
     "name": "stdout",
     "output_type": "stream",
     "text": [
      "<Slide, name = B_213-ST_BFIW-SE_940_processed>, width=300, height=375, channels=3, levels=1, RGB=True, dtype=uint8> <valis.slide_io.VipsSlideReader object at 0x7f0567d1a000> True (375, 300, 3)\n",
      "<Slide, name = B_213-ST_BFIW-SE_941_processed>, width=300, height=375, channels=3, levels=1, RGB=True, dtype=uint8> <valis.slide_io.VipsSlideReader object at 0x7f0567d19ee0> True (375, 300, 3)\n",
      "<Slide, name = B_213-ST_BFIW-SE_942_processed>, width=300, height=375, channels=3, levels=1, RGB=True, dtype=uint8> <valis.slide_io.VipsSlideReader object at 0x7f0567d21e20> True (375, 300, 3)\n",
      "<Slide, name = B_213-ST_BFIW-SE_943_processed>, width=300, height=375, channels=3, levels=1, RGB=True, dtype=uint8> <valis.slide_io.VipsSlideReader object at 0x7f0567d1a030> True (375, 300, 3)\n",
      "<Slide, name = B_213-ST_BFIW-SE_944_processed>, width=300, height=375, channels=3, levels=1, RGB=True, dtype=uint8> <valis.slide_io.VipsSlideReader object at 0x7f0567d218b0> True (375, 300, 3)\n",
      "<Slide, name = B_213-ST_BFIW-SE_945_processed>, width=300, height=375, channels=3, levels=1, RGB=True, dtype=uint8> <valis.slide_io.VipsSlideReader object at 0x7f05682620f0> True (375, 300, 3)\n",
      "<Slide, name = B_213-ST_BFIW-SE_946_processed>, width=300, height=375, channels=3, levels=1, RGB=True, dtype=uint8> <valis.slide_io.VipsSlideReader object at 0x7f05680ccd10> True (375, 300, 3)\n",
      "<Slide, name = B_213-ST_BFIW-SE_947_processed>, width=300, height=375, channels=3, levels=1, RGB=True, dtype=uint8> <valis.slide_io.VipsSlideReader object at 0x7f0567d21fd0> True (375, 300, 3)\n",
      "<Slide, name = B_213-ST_BFIW-SE_948_processed>, width=300, height=375, channels=3, levels=1, RGB=True, dtype=uint8> <valis.slide_io.VipsSlideReader object at 0x7f0567d22240> True (375, 300, 3)\n",
      "<Slide, name = B_213-ST_BFIW-SE_949_processed>, width=300, height=375, channels=3, levels=1, RGB=True, dtype=uint8> <valis.slide_io.VipsSlideReader object at 0x7f05680b23f0> True (375, 300, 3)\n"
     ]
    },
    {
     "name": "stderr",
     "output_type": "stream",
     "text": [
      "Converting images:  35%|████████████████▉                               | 923/2608 [00:12<00:18, 92.07image/s]"
     ]
    },
    {
     "name": "stdout",
     "output_type": "stream",
     "text": [
      "<Slide, name = B_213-ST_BFIW-SE_950_processed>, width=300, height=375, channels=3, levels=1, RGB=True, dtype=uint8> <valis.slide_io.VipsSlideReader object at 0x7f0567d22150> True (375, 300, 3)\n",
      "<Slide, name = B_213-ST_BFIW-SE_951_processed>, width=300, height=375, channels=3, levels=1, RGB=True, dtype=uint8> <valis.slide_io.VipsSlideReader object at 0x7f0567d222d0> True (375, 300, 3)\n",
      "<Slide, name = B_213-ST_BFIW-SE_952_processed>, width=300, height=375, channels=3, levels=1, RGB=True, dtype=uint8> <valis.slide_io.VipsSlideReader object at 0x7f0567d1a060> True (375, 300, 3)\n",
      "<Slide, name = B_213-ST_BFIW-SE_953_processed>, width=300, height=375, channels=3, levels=1, RGB=True, dtype=uint8> <valis.slide_io.VipsSlideReader object at 0x7f0567d22270> True (375, 300, 3)\n",
      "<Slide, name = B_213-ST_BFIW-SE_954_processed>, width=300, height=375, channels=3, levels=1, RGB=True, dtype=uint8> <valis.slide_io.VipsSlideReader object at 0x7f0567d1a360> True (375, 300, 3)\n",
      "<Slide, name = B_213-ST_BFIW-SE_955_processed>, width=300, height=375, channels=3, levels=1, RGB=True, dtype=uint8> <valis.slide_io.VipsSlideReader object at 0x7f0567d22510> True (375, 300, 3)\n",
      "<Slide, name = B_213-ST_BFIW-SE_956_processed>, width=300, height=375, channels=3, levels=1, RGB=True, dtype=uint8> <valis.slide_io.VipsSlideReader object at 0x7f0567d21e80> True (375, 300, 3)\n",
      "<Slide, name = B_213-ST_BFIW-SE_957_processed>, width=300, height=375, channels=3, levels=1, RGB=True, dtype=uint8> <valis.slide_io.VipsSlideReader object at 0x7f0567d1a600> True (375, 300, 3)\n",
      "<Slide, name = B_213-ST_BFIW-SE_958_processed>, width=300, height=375, channels=3, levels=1, RGB=True, dtype=uint8> <valis.slide_io.VipsSlideReader object at 0x7f0567d1a7e0> True (375, 300, 3)\n",
      "<Slide, name = B_213-ST_BFIW-SE_959_processed>, width=300, height=375, channels=3, levels=1, RGB=True, dtype=uint8> <valis.slide_io.VipsSlideReader object at 0x7f0567d1a4b0> True (375, 300, 3)\n"
     ]
    },
    {
     "name": "stderr",
     "output_type": "stream",
     "text": [
      "Converting images:  36%|█████████████████▏                              | 933/2608 [00:12<00:18, 91.60image/s]"
     ]
    },
    {
     "name": "stdout",
     "output_type": "stream",
     "text": [
      "<Slide, name = B_213-ST_BFIW-SE_960_processed>, width=300, height=375, channels=3, levels=1, RGB=True, dtype=uint8> <valis.slide_io.VipsSlideReader object at 0x7f0567d22930> True (375, 300, 3)\n",
      "<Slide, name = B_213-ST_BFIW-SE_961_processed>, width=300, height=375, channels=3, levels=1, RGB=True, dtype=uint8> <valis.slide_io.VipsSlideReader object at 0x7f05680ea570> True (375, 300, 3)\n",
      "<Slide, name = B_213-ST_BFIW-SE_962_processed>, width=300, height=375, channels=3, levels=1, RGB=True, dtype=uint8> <valis.slide_io.VipsSlideReader object at 0x7f05680e26c0> True (375, 300, 3)\n",
      "<Slide, name = B_213-ST_BFIW-SE_963_processed>, width=300, height=375, channels=3, levels=1, RGB=True, dtype=uint8> <valis.slide_io.VipsSlideReader object at 0x7f0567d22810> True (375, 300, 3)\n",
      "<Slide, name = B_213-ST_BFIW-SE_964_processed>, width=300, height=375, channels=3, levels=1, RGB=True, dtype=uint8> <valis.slide_io.VipsSlideReader object at 0x7f0567d228a0> True (375, 300, 3)\n",
      "<Slide, name = B_213-ST_BFIW-SE_965_processed>, width=300, height=375, channels=3, levels=1, RGB=True, dtype=uint8> <valis.slide_io.VipsSlideReader object at 0x7f0567d22750> True (375, 300, 3)\n",
      "<Slide, name = B_213-ST_BFIW-SE_966_processed>, width=300, height=375, channels=3, levels=1, RGB=True, dtype=uint8> <valis.slide_io.VipsSlideReader object at 0x7f05680b27b0> True (375, 300, 3)\n",
      "<Slide, name = B_213-ST_BFIW-SE_967_processed>, width=300, height=375, channels=3, levels=1, RGB=True, dtype=uint8> <valis.slide_io.VipsSlideReader object at 0x7f0567d22420> True (375, 300, 3)\n",
      "<Slide, name = B_213-ST_BFIW-SE_968_processed>, width=300, height=375, channels=3, levels=1, RGB=True, dtype=uint8> <valis.slide_io.VipsSlideReader object at 0x7f0567d23290> True (375, 300, 3)\n",
      "<Slide, name = B_213-ST_BFIW-SE_969_processed>, width=300, height=375, channels=3, levels=1, RGB=True, dtype=uint8> <valis.slide_io.VipsSlideReader object at 0x7f0567d22a50> True (375, 300, 3)\n"
     ]
    },
    {
     "name": "stderr",
     "output_type": "stream",
     "text": [
      "Converting images:  36%|█████████████████▎                              | 943/2608 [00:12<00:18, 91.04image/s]"
     ]
    },
    {
     "name": "stdout",
     "output_type": "stream",
     "text": [
      "<Slide, name = B_213-ST_BFIW-SE_970_processed>, width=300, height=375, channels=3, levels=1, RGB=True, dtype=uint8> <valis.slide_io.VipsSlideReader object at 0x7f0567d22990> True (375, 300, 3)\n",
      "<Slide, name = B_213-ST_BFIW-SE_971_processed>, width=300, height=375, channels=3, levels=1, RGB=True, dtype=uint8> <valis.slide_io.VipsSlideReader object at 0x7f0567d1b2f0> True (375, 300, 3)\n",
      "<Slide, name = B_213-ST_BFIW-SE_972_processed>, width=300, height=375, channels=3, levels=1, RGB=True, dtype=uint8> <valis.slide_io.VipsSlideReader object at 0x7f0567d233e0> True (375, 300, 3)\n",
      "<Slide, name = B_213-ST_BFIW-SE_973_processed>, width=300, height=375, channels=3, levels=1, RGB=True, dtype=uint8> <valis.slide_io.VipsSlideReader object at 0x7f0567d1a9f0> True (375, 300, 3)\n",
      "<Slide, name = B_213-ST_BFIW-SE_974_processed>, width=300, height=375, channels=3, levels=1, RGB=True, dtype=uint8> <valis.slide_io.VipsSlideReader object at 0x7f05680e3320> True (375, 300, 3)\n",
      "<Slide, name = B_213-ST_BFIW-SE_975_processed>, width=300, height=375, channels=3, levels=1, RGB=True, dtype=uint8> <valis.slide_io.VipsSlideReader object at 0x7f0567d23440> True (375, 300, 3)\n",
      "<Slide, name = B_213-ST_BFIW-SE_976_processed>, width=300, height=375, channels=3, levels=1, RGB=True, dtype=uint8> <valis.slide_io.VipsSlideReader object at 0x7f05680eb530> True (375, 300, 3)\n",
      "<Slide, name = B_213-ST_BFIW-SE_977_processed>, width=300, height=375, channels=3, levels=1, RGB=True, dtype=uint8> <valis.slide_io.VipsSlideReader object at 0x7f0567d234a0> True (375, 300, 3)\n",
      "<Slide, name = B_213-ST_BFIW-SE_978_processed>, width=300, height=375, channels=3, levels=1, RGB=True, dtype=uint8> <valis.slide_io.VipsSlideReader object at 0x7f05680e2480> True (375, 300, 3)\n",
      "<Slide, name = B_213-ST_BFIW-SE_979_processed>, width=300, height=375, channels=3, levels=1, RGB=True, dtype=uint8> <valis.slide_io.VipsSlideReader object at 0x7f05680eb7a0> True (375, 300, 3)\n"
     ]
    },
    {
     "name": "stderr",
     "output_type": "stream",
     "text": [
      "Converting images:  37%|█████████████████▌                              | 953/2608 [00:12<00:18, 90.40image/s]"
     ]
    },
    {
     "name": "stdout",
     "output_type": "stream",
     "text": [
      "<Slide, name = B_213-ST_BFIW-SE_980_processed>, width=300, height=375, channels=3, levels=1, RGB=True, dtype=uint8> <valis.slide_io.VipsSlideReader object at 0x7f0567d1b680> True (375, 300, 3)\n",
      "<Slide, name = B_213-ST_BFIW-SE_981_processed>, width=300, height=375, channels=3, levels=1, RGB=True, dtype=uint8> <valis.slide_io.VipsSlideReader object at 0x7f0567d23650> True (375, 300, 3)\n",
      "<Slide, name = B_213-ST_BFIW-SE_982_processed>, width=300, height=375, channels=3, levels=1, RGB=True, dtype=uint8> <valis.slide_io.VipsSlideReader object at 0x7f0567d1b5c0> True (375, 300, 3)\n",
      "<Slide, name = B_213-ST_BFIW-SE_983_processed>, width=300, height=375, channels=3, levels=1, RGB=True, dtype=uint8> <valis.slide_io.VipsSlideReader object at 0x7f0567d235f0> True (375, 300, 3)\n",
      "<Slide, name = B_213-ST_BFIW-SE_984_processed>, width=300, height=375, channels=3, levels=1, RGB=True, dtype=uint8> <valis.slide_io.VipsSlideReader object at 0x7f0567d1b830> True (375, 300, 3)\n",
      "<Slide, name = B_213-ST_BFIW-SE_985_processed>, width=300, height=375, channels=3, levels=1, RGB=True, dtype=uint8> <valis.slide_io.VipsSlideReader object at 0x7f0567d1b800> True (375, 300, 3)\n",
      "<Slide, name = B_213-ST_BFIW-SE_986_processed>, width=300, height=375, channels=3, levels=1, RGB=True, dtype=uint8> <valis.slide_io.VipsSlideReader object at 0x7f05680eb980> True (375, 300, 3)\n",
      "<Slide, name = B_213-ST_BFIW-SE_987_processed>, width=300, height=375, channels=3, levels=1, RGB=True, dtype=uint8> <valis.slide_io.VipsSlideReader object at 0x7f0567d1b9b0> True (375, 300, 3)\n",
      "<Slide, name = B_213-ST_BFIW-SE_988_processed>, width=300, height=375, channels=3, levels=1, RGB=True, dtype=uint8> <valis.slide_io.VipsSlideReader object at 0x7f0567d238c0> True (375, 300, 3)\n",
      "<Slide, name = B_213-ST_BFIW-SE_989_processed>, width=300, height=375, channels=3, levels=1, RGB=True, dtype=uint8> <valis.slide_io.VipsSlideReader object at 0x7f05680eba70> True (375, 300, 3)\n"
     ]
    },
    {
     "name": "stderr",
     "output_type": "stream",
     "text": [
      "Converting images:  37%|█████████████████▋                              | 963/2608 [00:12<00:18, 89.84image/s]"
     ]
    },
    {
     "name": "stdout",
     "output_type": "stream",
     "text": [
      "<Slide, name = B_213-ST_BFIW-SE_990_processed>, width=300, height=375, channels=3, levels=1, RGB=True, dtype=uint8> <valis.slide_io.VipsSlideReader object at 0x7f05680b3260> True (375, 300, 3)\n",
      "<Slide, name = B_213-ST_BFIW-SE_991_processed>, width=300, height=375, channels=3, levels=1, RGB=True, dtype=uint8> <valis.slide_io.VipsSlideReader object at 0x7f0567d23200> True (375, 300, 3)\n",
      "<Slide, name = B_213-ST_BFIW-SE_992_processed>, width=300, height=375, channels=3, levels=1, RGB=True, dtype=uint8> <valis.slide_io.VipsSlideReader object at 0x7f0567d23bc0> True (375, 300, 3)\n",
      "<Slide, name = B_213-ST_BFIW-SE_993_processed>, width=300, height=375, channels=3, levels=1, RGB=True, dtype=uint8> <valis.slide_io.VipsSlideReader object at 0x7f0567d23a10> True (375, 300, 3)\n",
      "<Slide, name = B_213-ST_BFIW-SE_994_processed>, width=300, height=375, channels=3, levels=1, RGB=True, dtype=uint8> <valis.slide_io.VipsSlideReader object at 0x7f05680eba40> True (375, 300, 3)\n",
      "<Slide, name = B_213-ST_BFIW-SE_995_processed>, width=300, height=375, channels=3, levels=1, RGB=True, dtype=uint8> <valis.slide_io.VipsSlideReader object at 0x7f0567d1be60> True (375, 300, 3)\n",
      "<Slide, name = B_213-ST_BFIW-SE_996_processed>, width=300, height=375, channels=3, levels=1, RGB=True, dtype=uint8> <valis.slide_io.VipsSlideReader object at 0x7f0567d23e00> True (375, 300, 3)\n",
      "<Slide, name = B_213-ST_BFIW-SE_997_processed>, width=300, height=375, channels=3, levels=1, RGB=True, dtype=uint8> <valis.slide_io.VipsSlideReader object at 0x7f0567d23d10> True (375, 300, 3)\n",
      "<Slide, name = B_213-ST_BFIW-SE_998_processed>, width=300, height=375, channels=3, levels=1, RGB=True, dtype=uint8> <valis.slide_io.VipsSlideReader object at 0x7f0567d23ce0> True (375, 300, 3)\n"
     ]
    },
    {
     "name": "stderr",
     "output_type": "stream",
     "text": [
      "Converting images:  37%|█████████████████▉                              | 972/2608 [00:12<00:19, 85.88image/s]"
     ]
    },
    {
     "name": "stdout",
     "output_type": "stream",
     "text": [
      "<Slide, name = B_213-ST_BFIW-SE_999_processed>, width=300, height=375, channels=3, levels=1, RGB=True, dtype=uint8> <valis.slide_io.VipsSlideReader object at 0x7f0567d23cb0> True (375, 300, 3)\n",
      "<Slide, name = B_213-ST_BFIW-SE_1000_processed>, width=300, height=375, channels=3, levels=1, RGB=True, dtype=uint8> <valis.slide_io.VipsSlideReader object at 0x7f0567d23fb0> True (375, 300, 3)\n",
      "<Slide, name = B_213-ST_BFIW-SE_1001_processed>, width=300, height=375, channels=3, levels=1, RGB=True, dtype=uint8> <valis.slide_io.VipsSlideReader object at 0x7f0567d23950> True (375, 300, 3)\n",
      "<Slide, name = B_213-ST_BFIW-SE_1002_processed>, width=300, height=375, channels=3, levels=1, RGB=True, dtype=uint8> <valis.slide_io.VipsSlideReader object at 0x7f0567d23f20> True (375, 300, 3)\n",
      "<Slide, name = B_213-ST_BFIW-SE_1003_processed>, width=300, height=375, channels=3, levels=1, RGB=True, dtype=uint8> <valis.slide_io.VipsSlideReader object at 0x7f0567d23d40> True (375, 300, 3)\n",
      "<Slide, name = B_213-ST_BFIW-SE_1004_processed>, width=300, height=375, channels=3, levels=1, RGB=True, dtype=uint8> <valis.slide_io.VipsSlideReader object at 0x7f0567d23f80> True (375, 300, 3)\n",
      "<Slide, name = B_213-ST_BFIW-SE_1005_processed>, width=300, height=375, channels=3, levels=1, RGB=True, dtype=uint8> <valis.slide_io.VipsSlideReader object at 0x7f05680e82c0> True (375, 300, 3)\n",
      "<Slide, name = B_213-ST_BFIW-SE_1006_processed>, width=300, height=375, channels=3, levels=1, RGB=True, dtype=uint8> <valis.slide_io.VipsSlideReader object at 0x7f0567d10200> True (375, 300, 3)\n",
      "<Slide, name = B_213-ST_BFIW-SE_1007_processed>, width=300, height=375, channels=3, levels=1, RGB=True, dtype=uint8> <valis.slide_io.VipsSlideReader object at 0x7f0567d281a0> True (375, 300, 3)\n"
     ]
    },
    {
     "name": "stderr",
     "output_type": "stream",
     "text": [
      "Converting images:  38%|██████████████████                              | 981/2608 [00:12<00:20, 80.26image/s]"
     ]
    },
    {
     "name": "stdout",
     "output_type": "stream",
     "text": [
      "<Slide, name = B_213-ST_BFIW-SE_1008_processed>, width=300, height=375, channels=3, levels=1, RGB=True, dtype=uint8> <valis.slide_io.VipsSlideReader object at 0x7f0567d182f0> True (375, 300, 3)\n",
      "<Slide, name = B_213-ST_BFIW-SE_1009_processed>, width=300, height=375, channels=3, levels=1, RGB=True, dtype=uint8> <valis.slide_io.VipsSlideReader object at 0x7f0567d28050> True (375, 300, 3)\n",
      "<Slide, name = B_213-ST_BFIW-SE_1010_processed>, width=300, height=375, channels=3, levels=1, RGB=True, dtype=uint8> <valis.slide_io.VipsSlideReader object at 0x7f0567d203b0> True (375, 300, 3)\n",
      "<Slide, name = B_213-ST_BFIW-SE_1011_processed>, width=300, height=375, channels=3, levels=1, RGB=True, dtype=uint8> <valis.slide_io.VipsSlideReader object at 0x7f0567d18140> True (375, 300, 3)\n",
      "<Slide, name = B_213-ST_BFIW-SE_1012_processed>, width=300, height=375, channels=3, levels=1, RGB=True, dtype=uint8> <valis.slide_io.VipsSlideReader object at 0x7f0567d180e0> True (375, 300, 3)\n",
      "<Slide, name = B_213-ST_BFIW-SE_1013_processed>, width=300, height=375, channels=3, levels=1, RGB=True, dtype=uint8> <valis.slide_io.VipsSlideReader object at 0x7f0567d28410> True (375, 300, 3)\n",
      "<Slide, name = B_213-ST_BFIW-SE_1014_processed>, width=300, height=375, channels=3, levels=1, RGB=True, dtype=uint8> <valis.slide_io.VipsSlideReader object at 0x7f0567d20260> True (375, 300, 3)\n",
      "<Slide, name = B_213-ST_BFIW-SE_1015_processed>, width=300, height=375, channels=3, levels=1, RGB=True, dtype=uint8> <valis.slide_io.VipsSlideReader object at 0x7f0567d28470> True (375, 300, 3)\n",
      "<Slide, name = B_213-ST_BFIW-SE_1016_processed>, width=300, height=375, channels=3, levels=1, RGB=True, dtype=uint8> <valis.slide_io.VipsSlideReader object at 0x7f0567d28590> True (375, 300, 3)\n"
     ]
    },
    {
     "name": "stderr",
     "output_type": "stream",
     "text": [
      "Converting images:  38%|██████████████████▏                             | 990/2608 [00:13<00:21, 75.84image/s]"
     ]
    },
    {
     "name": "stdout",
     "output_type": "stream",
     "text": [
      "<Slide, name = B_213-ST_BFIW-SE_1017_processed>, width=300, height=375, channels=3, levels=1, RGB=True, dtype=uint8> <valis.slide_io.VipsSlideReader object at 0x7f0567d28770> True (375, 300, 3)\n",
      "<Slide, name = B_213-ST_BFIW-SE_1018_processed>, width=300, height=375, channels=3, levels=1, RGB=True, dtype=uint8> <valis.slide_io.VipsSlideReader object at 0x7f0567d28800> True (375, 300, 3)\n",
      "<Slide, name = B_213-ST_BFIW-SE_1019_processed>, width=300, height=375, channels=3, levels=1, RGB=True, dtype=uint8> <valis.slide_io.VipsSlideReader object at 0x7f0567d28650> True (375, 300, 3)\n",
      "<Slide, name = B_213-ST_BFIW-SE_1020_processed>, width=300, height=375, channels=3, levels=1, RGB=True, dtype=uint8> <valis.slide_io.VipsSlideReader object at 0x7f0567d205c0> True (375, 300, 3)\n",
      "<Slide, name = B_213-ST_BFIW-SE_1021_processed>, width=300, height=375, channels=3, levels=1, RGB=True, dtype=uint8> <valis.slide_io.VipsSlideReader object at 0x7f05680e8740> True (375, 300, 3)\n",
      "<Slide, name = B_213-ST_BFIW-SE_1022_processed>, width=300, height=375, channels=3, levels=1, RGB=True, dtype=uint8> <valis.slide_io.VipsSlideReader object at 0x7f0567d208c0> True (375, 300, 3)\n",
      "<Slide, name = B_213-ST_BFIW-SE_1023_processed>, width=300, height=375, channels=3, levels=1, RGB=True, dtype=uint8> <valis.slide_io.VipsSlideReader object at 0x7f0567d188f0> True (375, 300, 3)\n",
      "<Slide, name = B_213-ST_BFIW-SE_1024_processed>, width=300, height=375, channels=3, levels=1, RGB=True, dtype=uint8> <valis.slide_io.VipsSlideReader object at 0x7f0567d28830> True (375, 300, 3)\n"
     ]
    },
    {
     "name": "stderr",
     "output_type": "stream",
     "text": [
      "Converting images:  38%|██████████████████▎                             | 998/2608 [00:13<00:23, 68.26image/s]"
     ]
    },
    {
     "name": "stdout",
     "output_type": "stream",
     "text": [
      "<Slide, name = B_213-ST_BFIW-SE_1025_processed>, width=300, height=375, channels=3, levels=1, RGB=True, dtype=uint8> <valis.slide_io.VipsSlideReader object at 0x7f0567d209b0> True (375, 300, 3)\n",
      "<Slide, name = B_213-ST_BFIW-SE_1026_processed>, width=300, height=375, channels=3, levels=1, RGB=True, dtype=uint8> <valis.slide_io.VipsSlideReader object at 0x7f0567d206e0> True (375, 300, 3)\n",
      "<Slide, name = B_213-ST_BFIW-SE_1027_processed>, width=300, height=375, channels=3, levels=1, RGB=True, dtype=uint8> <valis.slide_io.VipsSlideReader object at 0x7f0567d18a70> True (375, 300, 3)\n",
      "<Slide, name = B_213-ST_BFIW-SE_1028_processed>, width=300, height=375, channels=3, levels=1, RGB=True, dtype=uint8> <valis.slide_io.VipsSlideReader object at 0x7f0567d28980> True (375, 300, 3)\n",
      "<Slide, name = B_213-ST_BFIW-SE_1029_processed>, width=300, height=375, channels=3, levels=1, RGB=True, dtype=uint8> <valis.slide_io.VipsSlideReader object at 0x7f0567d20b30> True (375, 300, 3)\n",
      "<Slide, name = B_213-ST_BFIW-SE_1030_processed>, width=300, height=375, channels=3, levels=1, RGB=True, dtype=uint8> <valis.slide_io.VipsSlideReader object at 0x7f0567d28b60> True (375, 300, 3)\n",
      "<Slide, name = B_213-ST_BFIW-SE_1031_processed>, width=300, height=375, channels=3, levels=1, RGB=True, dtype=uint8> <valis.slide_io.VipsSlideReader object at 0x7f0567d20bf0> True (375, 300, 3)\n"
     ]
    },
    {
     "name": "stderr",
     "output_type": "stream",
     "text": [
      "Converting images:  39%|██████████████████                             | 1005/2608 [00:13<00:24, 66.23image/s]"
     ]
    },
    {
     "name": "stdout",
     "output_type": "stream",
     "text": [
      "<Slide, name = B_213-ST_BFIW-SE_1032_processed>, width=300, height=375, channels=3, levels=1, RGB=True, dtype=uint8> <valis.slide_io.VipsSlideReader object at 0x7f0567d28ce0> True (375, 300, 3)\n",
      "<Slide, name = B_213-ST_BFIW-SE_1033_processed>, width=300, height=375, channels=3, levels=1, RGB=True, dtype=uint8> <valis.slide_io.VipsSlideReader object at 0x7f0567d10cb0> True (375, 300, 3)\n",
      "<Slide, name = B_213-ST_BFIW-SE_1034_processed>, width=300, height=375, channels=3, levels=1, RGB=True, dtype=uint8> <valis.slide_io.VipsSlideReader object at 0x7f0567d28da0> True (375, 300, 3)\n",
      "<Slide, name = B_213-ST_BFIW-SE_1035_processed>, width=300, height=375, channels=3, levels=1, RGB=True, dtype=uint8> <valis.slide_io.VipsSlideReader object at 0x7f0567d20d70> True (375, 300, 3)\n",
      "<Slide, name = B_213-ST_BFIW-SE_1036_processed>, width=300, height=375, channels=3, levels=1, RGB=True, dtype=uint8> <valis.slide_io.VipsSlideReader object at 0x7f0567d28e60> True (375, 300, 3)\n",
      "<Slide, name = B_213-ST_BFIW-SE_1037_processed>, width=300, height=375, channels=3, levels=1, RGB=True, dtype=uint8> <valis.slide_io.VipsSlideReader object at 0x7f0567d20e30> True (375, 300, 3)\n",
      "<Slide, name = B_213-ST_BFIW-SE_1038_processed>, width=300, height=375, channels=3, levels=1, RGB=True, dtype=uint8> <valis.slide_io.VipsSlideReader object at 0x7f0567d28f20> True (375, 300, 3)\n"
     ]
    },
    {
     "name": "stderr",
     "output_type": "stream",
     "text": [
      "Converting images:  39%|██████████████████▏                            | 1012/2608 [00:13<00:24, 64.67image/s]"
     ]
    },
    {
     "name": "stdout",
     "output_type": "stream",
     "text": [
      "<Slide, name = B_213-ST_BFIW-SE_1039_processed>, width=300, height=375, channels=3, levels=1, RGB=True, dtype=uint8> <valis.slide_io.VipsSlideReader object at 0x7f0567d20ef0> True (375, 300, 3)\n",
      "<Slide, name = B_213-ST_BFIW-SE_1040_processed>, width=300, height=375, channels=3, levels=1, RGB=True, dtype=uint8> <valis.slide_io.VipsSlideReader object at 0x7f0567d28fe0> True (375, 300, 3)\n",
      "<Slide, name = B_213-ST_BFIW-SE_1041_processed>, width=300, height=375, channels=3, levels=1, RGB=True, dtype=uint8> <valis.slide_io.VipsSlideReader object at 0x7f0567d18fb0> True (375, 300, 3)\n",
      "<Slide, name = B_213-ST_BFIW-SE_1042_processed>, width=300, height=375, channels=3, levels=1, RGB=True, dtype=uint8> <valis.slide_io.VipsSlideReader object at 0x7f0567d290a0> True (375, 300, 3)\n",
      "<Slide, name = B_213-ST_BFIW-SE_1043_processed>, width=300, height=375, channels=3, levels=1, RGB=True, dtype=uint8> <valis.slide_io.VipsSlideReader object at 0x7f0567d29070> True (375, 300, 3)\n",
      "<Slide, name = B_213-ST_BFIW-SE_1044_processed>, width=300, height=375, channels=3, levels=1, RGB=True, dtype=uint8> <valis.slide_io.VipsSlideReader object at 0x7f0567d28f50> True (375, 300, 3)\n",
      "<Slide, name = B_213-ST_BFIW-SE_1045_processed>, width=300, height=375, channels=3, levels=1, RGB=True, dtype=uint8> <valis.slide_io.VipsSlideReader object at 0x7f0567d28dd0> True (375, 300, 3)\n"
     ]
    },
    {
     "name": "stderr",
     "output_type": "stream",
     "text": [
      "Converting images:  39%|██████████████████▎                            | 1019/2608 [00:13<00:25, 63.15image/s]"
     ]
    },
    {
     "name": "stdout",
     "output_type": "stream",
     "text": [
      "<Slide, name = B_213-ST_BFIW-SE_1046_processed>, width=300, height=375, channels=3, levels=1, RGB=True, dtype=uint8> <valis.slide_io.VipsSlideReader object at 0x7f0567d29040> True (375, 300, 3)\n",
      "<Slide, name = B_213-ST_BFIW-SE_1047_processed>, width=300, height=375, channels=3, levels=1, RGB=True, dtype=uint8> <valis.slide_io.VipsSlideReader object at 0x7f0567d28b90> True (375, 300, 3)\n",
      "<Slide, name = B_213-ST_BFIW-SE_1048_processed>, width=300, height=375, channels=3, levels=1, RGB=True, dtype=uint8> <valis.slide_io.VipsSlideReader object at 0x7f0567d29100> True (375, 300, 3)\n",
      "<Slide, name = B_213-ST_BFIW-SE_1049_processed>, width=300, height=375, channels=3, levels=1, RGB=True, dtype=uint8> <valis.slide_io.VipsSlideReader object at 0x7f0567d28c50> True (375, 300, 3)\n",
      "<Slide, name = B_213-ST_BFIW-SE_1050_processed>, width=300, height=375, channels=3, levels=1, RGB=True, dtype=uint8> <valis.slide_io.VipsSlideReader object at 0x7f0567d291c0> True (375, 300, 3)\n",
      "<Slide, name = B_213-ST_BFIW-SE_1051_processed>, width=300, height=375, channels=3, levels=1, RGB=True, dtype=uint8> <valis.slide_io.VipsSlideReader object at 0x7f0567d28d10> True (375, 300, 3)\n",
      "<Slide, name = B_213-ST_BFIW-SE_1052_processed>, width=300, height=375, channels=3, levels=1, RGB=True, dtype=uint8> <valis.slide_io.VipsSlideReader object at 0x7f0567d29160> True (375, 300, 3)\n"
     ]
    },
    {
     "name": "stderr",
     "output_type": "stream",
     "text": [
      "Converting images:  39%|██████████████████▍                            | 1026/2608 [00:13<00:25, 61.63image/s]"
     ]
    },
    {
     "name": "stdout",
     "output_type": "stream",
     "text": [
      "<Slide, name = B_213-ST_BFIW-SE_1053_processed>, width=300, height=375, channels=3, levels=1, RGB=True, dtype=uint8> <valis.slide_io.VipsSlideReader object at 0x7f0567d290d0> True (375, 300, 3)\n",
      "<Slide, name = B_213-ST_BFIW-SE_1054_processed>, width=300, height=375, channels=3, levels=1, RGB=True, dtype=uint8> <valis.slide_io.VipsSlideReader object at 0x7f0567d29130> True (375, 300, 3)\n",
      "<Slide, name = B_213-ST_BFIW-SE_1055_processed>, width=300, height=375, channels=3, levels=1, RGB=True, dtype=uint8> <valis.slide_io.VipsSlideReader object at 0x7f0567d29190> True (375, 300, 3)\n",
      "<Slide, name = B_213-ST_BFIW-SE_1056_processed>, width=300, height=375, channels=3, levels=1, RGB=True, dtype=uint8> <valis.slide_io.VipsSlideReader object at 0x7f0567d291f0> True (375, 300, 3)\n",
      "<Slide, name = B_213-ST_BFIW-SE_1057_processed>, width=300, height=375, channels=3, levels=1, RGB=True, dtype=uint8> <valis.slide_io.VipsSlideReader object at 0x7f0567d29250> True (375, 300, 3)\n",
      "<Slide, name = B_213-ST_BFIW-SE_1058_processed>, width=300, height=375, channels=3, levels=1, RGB=True, dtype=uint8> <valis.slide_io.VipsSlideReader object at 0x7f0567d292b0> True (375, 300, 3)\n",
      "<Slide, name = B_213-ST_BFIW-SE_1059_processed>, width=300, height=375, channels=3, levels=1, RGB=True, dtype=uint8> <valis.slide_io.VipsSlideReader object at 0x7f0567d29310> True (375, 300, 3)\n"
     ]
    },
    {
     "name": "stderr",
     "output_type": "stream",
     "text": [
      "Converting images:  40%|██████████████████▌                            | 1033/2608 [00:13<00:27, 58.00image/s]"
     ]
    },
    {
     "name": "stdout",
     "output_type": "stream",
     "text": [
      "<Slide, name = B_213-ST_BFIW-SE_1060_processed>, width=300, height=375, channels=3, levels=1, RGB=True, dtype=uint8> <valis.slide_io.VipsSlideReader object at 0x7f0567d29370> True (375, 300, 3)\n",
      "<Slide, name = B_213-ST_BFIW-SE_1061_processed>, width=300, height=375, channels=3, levels=1, RGB=True, dtype=uint8> <valis.slide_io.VipsSlideReader object at 0x7f0567d293d0> True (375, 300, 3)\n",
      "<Slide, name = B_213-ST_BFIW-SE_1062_processed>, width=300, height=375, channels=3, levels=1, RGB=True, dtype=uint8> <valis.slide_io.VipsSlideReader object at 0x7f0567d29430> True (375, 300, 3)\n",
      "<Slide, name = B_213-ST_BFIW-SE_1063_processed>, width=300, height=375, channels=3, levels=1, RGB=True, dtype=uint8> <valis.slide_io.VipsSlideReader object at 0x7f0567d29490> True (375, 300, 3)\n",
      "<Slide, name = B_213-ST_BFIW-SE_1064_processed>, width=300, height=375, channels=3, levels=1, RGB=True, dtype=uint8> <valis.slide_io.VipsSlideReader object at 0x7f0567d294f0> True (375, 300, 3)\n",
      "<Slide, name = B_213-ST_BFIW-SE_1065_processed>, width=300, height=375, channels=3, levels=1, RGB=True, dtype=uint8> <valis.slide_io.VipsSlideReader object at 0x7f0567d29550> True (375, 300, 3)\n"
     ]
    },
    {
     "name": "stderr",
     "output_type": "stream",
     "text": [
      "Converting images:  40%|██████████████████▋                            | 1039/2608 [00:13<00:28, 55.63image/s]"
     ]
    },
    {
     "name": "stdout",
     "output_type": "stream",
     "text": [
      "<Slide, name = B_213-ST_BFIW-SE_1066_processed>, width=300, height=375, channels=3, levels=1, RGB=True, dtype=uint8> <valis.slide_io.VipsSlideReader object at 0x7f0567d295b0> True (375, 300, 3)\n",
      "<Slide, name = B_213-ST_BFIW-SE_1067_processed>, width=300, height=375, channels=3, levels=1, RGB=True, dtype=uint8> <valis.slide_io.VipsSlideReader object at 0x7f0567d29610> True (375, 300, 3)\n",
      "<Slide, name = B_213-ST_BFIW-SE_1068_processed>, width=300, height=375, channels=3, levels=1, RGB=True, dtype=uint8> <valis.slide_io.VipsSlideReader object at 0x7f0567d29670> True (375, 300, 3)\n",
      "<Slide, name = B_213-ST_BFIW-SE_1069_processed>, width=300, height=375, channels=3, levels=1, RGB=True, dtype=uint8> <valis.slide_io.VipsSlideReader object at 0x7f0567d296d0> True (375, 300, 3)\n",
      "<Slide, name = B_213-ST_BFIW-SE_1070_processed>, width=300, height=375, channels=3, levels=1, RGB=True, dtype=uint8> <valis.slide_io.VipsSlideReader object at 0x7f0567d29730> True (375, 300, 3)\n",
      "<Slide, name = B_213-ST_BFIW-SE_1071_processed>, width=300, height=375, channels=3, levels=1, RGB=True, dtype=uint8> <valis.slide_io.VipsSlideReader object at 0x7f0567d29790> True (375, 300, 3)\n"
     ]
    },
    {
     "name": "stderr",
     "output_type": "stream",
     "text": [
      "Converting images:  40%|██████████████████▊                            | 1045/2608 [00:14<00:28, 55.21image/s]"
     ]
    },
    {
     "name": "stdout",
     "output_type": "stream",
     "text": [
      "<Slide, name = B_213-ST_BFIW-SE_1072_processed>, width=300, height=375, channels=3, levels=1, RGB=True, dtype=uint8> <valis.slide_io.VipsSlideReader object at 0x7f0567d297f0> True (375, 300, 3)\n",
      "<Slide, name = B_213-ST_BFIW-SE_1073_processed>, width=300, height=375, channels=3, levels=1, RGB=True, dtype=uint8> <valis.slide_io.VipsSlideReader object at 0x7f0567d29850> True (375, 300, 3)\n",
      "<Slide, name = B_213-ST_BFIW-SE_1074_processed>, width=300, height=375, channels=3, levels=1, RGB=True, dtype=uint8> <valis.slide_io.VipsSlideReader object at 0x7f0567d298b0> True (375, 300, 3)\n",
      "<Slide, name = B_213-ST_BFIW-SE_1075_processed>, width=300, height=375, channels=3, levels=1, RGB=True, dtype=uint8> <valis.slide_io.VipsSlideReader object at 0x7f0567d29910> True (375, 300, 3)\n",
      "<Slide, name = B_213-ST_BFIW-SE_1076_processed>, width=300, height=375, channels=3, levels=1, RGB=True, dtype=uint8> <valis.slide_io.VipsSlideReader object at 0x7f0567d29970> True (375, 300, 3)\n",
      "<Slide, name = B_213-ST_BFIW-SE_1077_processed>, width=300, height=375, channels=3, levels=1, RGB=True, dtype=uint8> <valis.slide_io.VipsSlideReader object at 0x7f0567d299d0> True (375, 300, 3)\n"
     ]
    },
    {
     "name": "stderr",
     "output_type": "stream",
     "text": [
      "Converting images:  40%|██████████████████▉                            | 1051/2608 [00:14<00:30, 51.75image/s]"
     ]
    },
    {
     "name": "stdout",
     "output_type": "stream",
     "text": [
      "<Slide, name = B_213-ST_BFIW-SE_1078_processed>, width=300, height=375, channels=3, levels=1, RGB=True, dtype=uint8> <valis.slide_io.VipsSlideReader object at 0x7f0567d29a30> True (375, 300, 3)\n",
      "<Slide, name = B_213-ST_BFIW-SE_1079_processed>, width=300, height=375, channels=3, levels=1, RGB=True, dtype=uint8> <valis.slide_io.VipsSlideReader object at 0x7f0567d29a90> True (375, 300, 3)\n",
      "<Slide, name = B_213-ST_BFIW-SE_1080_processed>, width=300, height=375, channels=3, levels=1, RGB=True, dtype=uint8> <valis.slide_io.VipsSlideReader object at 0x7f0567d29af0> True (375, 300, 3)\n",
      "<Slide, name = B_213-ST_BFIW-SE_1081_processed>, width=300, height=375, channels=3, levels=1, RGB=True, dtype=uint8> <valis.slide_io.VipsSlideReader object at 0x7f0567d1f650> True (375, 300, 3)\n",
      "<Slide, name = B_213-ST_BFIW-SE_1082_processed>, width=300, height=375, channels=3, levels=1, RGB=True, dtype=uint8> <valis.slide_io.VipsSlideReader object at 0x7f0567d2a0c0> True (375, 300, 3)\n",
      "<Slide, name = B_213-ST_BFIW-SE_1083_processed>, width=300, height=375, channels=3, levels=1, RGB=True, dtype=uint8> <valis.slide_io.VipsSlideReader object at 0x7f0567d15550> True (375, 300, 3)\n"
     ]
    },
    {
     "name": "stderr",
     "output_type": "stream",
     "text": [
      "Converting images:  41%|███████████████████                            | 1057/2608 [00:14<00:31, 49.47image/s]"
     ]
    },
    {
     "name": "stdout",
     "output_type": "stream",
     "text": [
      "<Slide, name = B_213-ST_BFIW-SE_1084_processed>, width=300, height=375, channels=3, levels=1, RGB=True, dtype=uint8> <valis.slide_io.VipsSlideReader object at 0x7f0567d2a150> True (375, 300, 3)\n",
      "<Slide, name = B_213-ST_BFIW-SE_1085_processed>, width=300, height=375, channels=3, levels=1, RGB=True, dtype=uint8> <valis.slide_io.VipsSlideReader object at 0x7f0567d2a0f0> True (375, 300, 3)\n",
      "<Slide, name = B_213-ST_BFIW-SE_1086_processed>, width=300, height=375, channels=3, levels=1, RGB=True, dtype=uint8> <valis.slide_io.VipsSlideReader object at 0x7f0567d29bb0> True (375, 300, 3)\n",
      "<Slide, name = B_213-ST_BFIW-SE_1087_processed>, width=300, height=375, channels=3, levels=1, RGB=True, dtype=uint8> <valis.slide_io.VipsSlideReader object at 0x7f0567d2a060> True (375, 300, 3)\n",
      "<Slide, name = B_213-ST_BFIW-SE_1088_processed>, width=300, height=375, channels=3, levels=1, RGB=True, dtype=uint8> <valis.slide_io.VipsSlideReader object at 0x7f0567d29c10> True (375, 300, 3)\n"
     ]
    },
    {
     "name": "stderr",
     "output_type": "stream",
     "text": [
      "Converting images:  41%|███████████████████▏                           | 1062/2608 [00:14<00:32, 47.55image/s]"
     ]
    },
    {
     "name": "stdout",
     "output_type": "stream",
     "text": [
      "<Slide, name = B_213-ST_BFIW-SE_1089_processed>, width=300, height=375, channels=3, levels=1, RGB=True, dtype=uint8> <valis.slide_io.VipsSlideReader object at 0x7f0567d2a030> True (375, 300, 3)\n",
      "<Slide, name = B_213-ST_BFIW-SE_1090_processed>, width=300, height=375, channels=3, levels=1, RGB=True, dtype=uint8> <valis.slide_io.VipsSlideReader object at 0x7f0567d29c70> True (375, 300, 3)\n",
      "<Slide, name = B_213-ST_BFIW-SE_1091_processed>, width=300, height=375, channels=3, levels=1, RGB=True, dtype=uint8> <valis.slide_io.VipsSlideReader object at 0x7f0567d29f10> True (375, 300, 3)\n",
      "<Slide, name = B_213-ST_BFIW-SE_1092_processed>, width=300, height=375, channels=3, levels=1, RGB=True, dtype=uint8> <valis.slide_io.VipsSlideReader object at 0x7f0567d29b50> True (375, 300, 3)\n",
      "<Slide, name = B_213-ST_BFIW-SE_1093_processed>, width=300, height=375, channels=3, levels=1, RGB=True, dtype=uint8> <valis.slide_io.VipsSlideReader object at 0x7f0567d29d30> True (375, 300, 3)\n"
     ]
    },
    {
     "name": "stderr",
     "output_type": "stream",
     "text": [
      "Converting images:  41%|███████████████████▏                           | 1067/2608 [00:14<00:33, 45.50image/s]"
     ]
    },
    {
     "name": "stdout",
     "output_type": "stream",
     "text": [
      "<Slide, name = B_213-ST_BFIW-SE_1094_processed>, width=300, height=375, channels=3, levels=1, RGB=True, dtype=uint8> <valis.slide_io.VipsSlideReader object at 0x7f0567d29df0> True (375, 300, 3)\n",
      "<Slide, name = B_213-ST_BFIW-SE_1095_processed>, width=300, height=375, channels=3, levels=1, RGB=True, dtype=uint8> <valis.slide_io.VipsSlideReader object at 0x7f0567d29eb0> True (375, 300, 3)\n",
      "<Slide, name = B_213-ST_BFIW-SE_1096_processed>, width=300, height=375, channels=3, levels=1, RGB=True, dtype=uint8> <valis.slide_io.VipsSlideReader object at 0x7f0567d29e50> True (375, 300, 3)\n",
      "<Slide, name = B_213-ST_BFIW-SE_1097_processed>, width=300, height=375, channels=3, levels=1, RGB=True, dtype=uint8> <valis.slide_io.VipsSlideReader object at 0x7f0567d2a090> True (375, 300, 3)\n",
      "<Slide, name = B_213-ST_BFIW-SE_1098_processed>, width=300, height=375, channels=3, levels=1, RGB=True, dtype=uint8> <valis.slide_io.VipsSlideReader object at 0x7f0567d2a120> True (375, 300, 3)\n"
     ]
    },
    {
     "name": "stderr",
     "output_type": "stream",
     "text": [
      "Converting images:  41%|███████████████████▎                           | 1072/2608 [00:14<00:34, 44.93image/s]"
     ]
    },
    {
     "name": "stdout",
     "output_type": "stream",
     "text": [
      "<Slide, name = B_213-ST_BFIW-SE_1099_processed>, width=300, height=375, channels=3, levels=1, RGB=True, dtype=uint8> <valis.slide_io.VipsSlideReader object at 0x7f0567d2a1b0> True (375, 300, 3)\n",
      "<Slide, name = B_213-ST_BFIW-SE_1100_processed>, width=300, height=375, channels=3, levels=1, RGB=True, dtype=uint8> <valis.slide_io.VipsSlideReader object at 0x7f0567d2a210> True (375, 300, 3)\n",
      "<Slide, name = B_213-ST_BFIW-SE_1101_processed>, width=300, height=375, channels=3, levels=1, RGB=True, dtype=uint8> <valis.slide_io.VipsSlideReader object at 0x7f0567d2a270> True (375, 300, 3)\n",
      "<Slide, name = B_213-ST_BFIW-SE_1102_processed>, width=300, height=375, channels=3, levels=1, RGB=True, dtype=uint8> <valis.slide_io.VipsSlideReader object at 0x7f0567d2a2d0> True (375, 300, 3)\n",
      "<Slide, name = B_213-ST_BFIW-SE_1103_processed>, width=300, height=375, channels=3, levels=1, RGB=True, dtype=uint8> <valis.slide_io.VipsSlideReader object at 0x7f0567d2a330> True (375, 300, 3)\n"
     ]
    },
    {
     "name": "stderr",
     "output_type": "stream",
     "text": [
      "Converting images:  41%|███████████████████▍                           | 1077/2608 [00:14<00:33, 45.13image/s]"
     ]
    },
    {
     "name": "stdout",
     "output_type": "stream",
     "text": [
      "<Slide, name = B_213-ST_BFIW-SE_1104_processed>, width=300, height=375, channels=3, levels=1, RGB=True, dtype=uint8> <valis.slide_io.VipsSlideReader object at 0x7f0567d2a390> True (375, 300, 3)\n",
      "<Slide, name = B_213-ST_BFIW-SE_1105_processed>, width=300, height=375, channels=3, levels=1, RGB=True, dtype=uint8> <valis.slide_io.VipsSlideReader object at 0x7f0567d2a420> True (375, 300, 3)\n",
      "<Slide, name = B_213-ST_BFIW-SE_1106_processed>, width=300, height=375, channels=3, levels=1, RGB=True, dtype=uint8> <valis.slide_io.VipsSlideReader object at 0x7f0567d2a480> True (375, 300, 3)\n",
      "<Slide, name = B_213-ST_BFIW-SE_1107_processed>, width=300, height=375, channels=3, levels=1, RGB=True, dtype=uint8> <valis.slide_io.VipsSlideReader object at 0x7f0567d2a4e0> True (375, 300, 3)\n",
      "<Slide, name = B_213-ST_BFIW-SE_1108_processed>, width=300, height=375, channels=3, levels=1, RGB=True, dtype=uint8> <valis.slide_io.VipsSlideReader object at 0x7f0567d2a540> True (375, 300, 3)\n"
     ]
    },
    {
     "name": "stderr",
     "output_type": "stream",
     "text": [
      "Converting images:  41%|███████████████████▍                           | 1082/2608 [00:14<00:36, 41.92image/s]"
     ]
    },
    {
     "name": "stdout",
     "output_type": "stream",
     "text": [
      "<Slide, name = B_213-ST_BFIW-SE_1109_processed>, width=300, height=375, channels=3, levels=1, RGB=True, dtype=uint8> <valis.slide_io.VipsSlideReader object at 0x7f0567d2a5a0> True (375, 300, 3)\n",
      "<Slide, name = B_213-ST_BFIW-SE_1110_processed>, width=300, height=375, channels=3, levels=1, RGB=True, dtype=uint8> <valis.slide_io.VipsSlideReader object at 0x7f0567d2a600> True (375, 300, 3)\n",
      "<Slide, name = B_213-ST_BFIW-SE_1111_processed>, width=300, height=375, channels=3, levels=1, RGB=True, dtype=uint8> <valis.slide_io.VipsSlideReader object at 0x7f0567d2a690> True (375, 300, 3)\n",
      "<Slide, name = B_213-ST_BFIW-SE_1112_processed>, width=300, height=375, channels=3, levels=1, RGB=True, dtype=uint8> <valis.slide_io.VipsSlideReader object at 0x7f0567d2a6f0> True (375, 300, 3)\n",
      "<Slide, name = B_213-ST_BFIW-SE_1113_processed>, width=300, height=375, channels=3, levels=1, RGB=True, dtype=uint8> <valis.slide_io.VipsSlideReader object at 0x7f0567d2a750> True (375, 300, 3)\n",
      "<Slide, name = B_213-ST_BFIW-SE_1114_processed>, width=300, height=375, channels=3, levels=1, RGB=True, dtype=uint8> <valis.slide_io.VipsSlideReader object at 0x7f0567d2a7b0> True (375, 300, 3)\n"
     ]
    },
    {
     "name": "stderr",
     "output_type": "stream",
     "text": [
      "Converting images:  42%|███████████████████▌                           | 1088/2608 [00:15<00:35, 43.18image/s]"
     ]
    },
    {
     "name": "stdout",
     "output_type": "stream",
     "text": [
      "<Slide, name = B_213-ST_BFIW-SE_1115_processed>, width=300, height=375, channels=3, levels=1, RGB=True, dtype=uint8> <valis.slide_io.VipsSlideReader object at 0x7f0567d2a810> True (375, 300, 3)\n",
      "<Slide, name = B_213-ST_BFIW-SE_1116_processed>, width=300, height=375, channels=3, levels=1, RGB=True, dtype=uint8> <valis.slide_io.VipsSlideReader object at 0x7f0567d2a870> True (375, 300, 3)\n",
      "<Slide, name = B_213-ST_BFIW-SE_1117_processed>, width=300, height=375, channels=3, levels=1, RGB=True, dtype=uint8> <valis.slide_io.VipsSlideReader object at 0x7f0567d2a8d0> True (375, 300, 3)\n",
      "<Slide, name = B_213-ST_BFIW-SE_1118_processed>, width=300, height=375, channels=3, levels=1, RGB=True, dtype=uint8> <valis.slide_io.VipsSlideReader object at 0x7f0567d2a930> True (375, 300, 3)\n",
      "<Slide, name = B_213-ST_BFIW-SE_1119_processed>, width=300, height=375, channels=3, levels=1, RGB=True, dtype=uint8> <valis.slide_io.VipsSlideReader object at 0x7f0567d2a990> True (375, 300, 3)\n"
     ]
    },
    {
     "name": "stderr",
     "output_type": "stream",
     "text": [
      "Converting images:  42%|███████████████████▋                           | 1093/2608 [00:15<00:37, 40.87image/s]"
     ]
    },
    {
     "name": "stdout",
     "output_type": "stream",
     "text": [
      "<Slide, name = B_213-ST_BFIW-SE_1120_processed>, width=300, height=375, channels=3, levels=1, RGB=True, dtype=uint8> <valis.slide_io.VipsSlideReader object at 0x7f0567d2a9f0> True (375, 300, 3)\n",
      "<Slide, name = B_213-ST_BFIW-SE_1121_processed>, width=300, height=375, channels=3, levels=1, RGB=True, dtype=uint8> <valis.slide_io.VipsSlideReader object at 0x7f0567d2aa50> True (375, 300, 3)\n",
      "<Slide, name = B_213-ST_BFIW-SE_1122_processed>, width=300, height=375, channels=3, levels=1, RGB=True, dtype=uint8> <valis.slide_io.VipsSlideReader object at 0x7f0567d2aab0> True (375, 300, 3)\n",
      "<Slide, name = B_213-ST_BFIW-SE_1123_processed>, width=300, height=375, channels=3, levels=1, RGB=True, dtype=uint8> <valis.slide_io.VipsSlideReader object at 0x7f0567d2ab10> True (375, 300, 3)\n",
      "<Slide, name = B_213-ST_BFIW-SE_1124_processed>, width=300, height=375, channels=3, levels=1, RGB=True, dtype=uint8> <valis.slide_io.VipsSlideReader object at 0x7f0567d2ab70> True (375, 300, 3)\n"
     ]
    },
    {
     "name": "stderr",
     "output_type": "stream",
     "text": [
      "Converting images:  42%|███████████████████▊                           | 1098/2608 [00:15<00:36, 41.41image/s]"
     ]
    },
    {
     "name": "stdout",
     "output_type": "stream",
     "text": [
      "<Slide, name = B_213-ST_BFIW-SE_1125_processed>, width=300, height=375, channels=3, levels=1, RGB=True, dtype=uint8> <valis.slide_io.VipsSlideReader object at 0x7f0567d2abd0> True (375, 300, 3)\n",
      "<Slide, name = B_213-ST_BFIW-SE_1126_processed>, width=300, height=375, channels=3, levels=1, RGB=True, dtype=uint8> <valis.slide_io.VipsSlideReader object at 0x7f0567d2ac30> True (375, 300, 3)\n",
      "<Slide, name = B_213-ST_BFIW-SE_1127_processed>, width=300, height=375, channels=3, levels=1, RGB=True, dtype=uint8> <valis.slide_io.VipsSlideReader object at 0x7f0567d2ac90> True (375, 300, 3)\n",
      "<Slide, name = B_213-ST_BFIW-SE_1128_processed>, width=300, height=375, channels=3, levels=1, RGB=True, dtype=uint8> <valis.slide_io.VipsSlideReader object at 0x7f0567d2acf0> True (375, 300, 3)\n",
      "<Slide, name = B_213-ST_BFIW-SE_1129_processed>, width=300, height=375, channels=3, levels=1, RGB=True, dtype=uint8> <valis.slide_io.VipsSlideReader object at 0x7f0567d2ad50> True (375, 300, 3)\n"
     ]
    },
    {
     "name": "stderr",
     "output_type": "stream",
     "text": [
      "Converting images:  42%|███████████████████▉                           | 1103/2608 [00:15<00:40, 36.94image/s]"
     ]
    },
    {
     "name": "stdout",
     "output_type": "stream",
     "text": [
      "<Slide, name = B_213-ST_BFIW-SE_1130_processed>, width=300, height=375, channels=3, levels=1, RGB=True, dtype=uint8> <valis.slide_io.VipsSlideReader object at 0x7f0567d2adb0> True (375, 300, 3)\n",
      "<Slide, name = B_213-ST_BFIW-SE_1131_processed>, width=300, height=375, channels=3, levels=1, RGB=True, dtype=uint8> <valis.slide_io.VipsSlideReader object at 0x7f0567d2ae10> True (375, 300, 3)\n",
      "<Slide, name = B_213-ST_BFIW-SE_1132_processed>, width=300, height=375, channels=3, levels=1, RGB=True, dtype=uint8> <valis.slide_io.VipsSlideReader object at 0x7f0567d2ae70> True (375, 300, 3)\n",
      "<Slide, name = B_213-ST_BFIW-SE_1133_processed>, width=300, height=375, channels=3, levels=1, RGB=True, dtype=uint8> <valis.slide_io.VipsSlideReader object at 0x7f0567d2aed0> True (375, 300, 3)\n",
      "<Slide, name = B_213-ST_BFIW-SE_1134_processed>, width=300, height=375, channels=3, levels=1, RGB=True, dtype=uint8> <valis.slide_io.VipsSlideReader object at 0x7f0567d2af30> True (375, 300, 3)\n",
      "<Slide, name = B_213-ST_BFIW-SE_1135_processed>, width=300, height=375, channels=3, levels=1, RGB=True, dtype=uint8> <valis.slide_io.VipsSlideReader object at 0x7f0567d2af90> True (375, 300, 3)\n",
      "<Slide, name = B_213-ST_BFIW-SE_1136_processed>, width=300, height=375, channels=3, levels=1, RGB=True, dtype=uint8> <valis.slide_io.VipsSlideReader object at 0x7f0567d2aff0> True (375, 300, 3)\n",
      "<Slide, name = B_213-ST_BFIW-SE_1137_processed>, width=300, height=375, channels=3, levels=1, RGB=True, dtype=uint8> <valis.slide_io.VipsSlideReader object at 0x7f0567d2b050> True (375, 300, 3)\n"
     ]
    },
    {
     "name": "stderr",
     "output_type": "stream",
     "text": [
      "Converting images:  43%|████████████████████                           | 1111/2608 [00:15<00:32, 46.04image/s]"
     ]
    },
    {
     "name": "stdout",
     "output_type": "stream",
     "text": [
      "<Slide, name = B_213-ST_BFIW-SE_1138_processed>, width=300, height=375, channels=3, levels=1, RGB=True, dtype=uint8> <valis.slide_io.VipsSlideReader object at 0x7f0567d2b0b0> True (375, 300, 3)\n",
      "<Slide, name = B_213-ST_BFIW-SE_1139_processed>, width=300, height=375, channels=3, levels=1, RGB=True, dtype=uint8> <valis.slide_io.VipsSlideReader object at 0x7f0567d2b110> True (375, 300, 3)\n",
      "<Slide, name = B_213-ST_BFIW-SE_1140_processed>, width=300, height=375, channels=3, levels=1, RGB=True, dtype=uint8> <valis.slide_io.VipsSlideReader object at 0x7f0567d2b170> True (375, 300, 3)\n",
      "<Slide, name = B_213-ST_BFIW-SE_1141_processed>, width=300, height=375, channels=3, levels=1, RGB=True, dtype=uint8> <valis.slide_io.VipsSlideReader object at 0x7f0567d2b1d0> True (375, 300, 3)\n",
      "<Slide, name = B_213-ST_BFIW-SE_1142_processed>, width=300, height=375, channels=3, levels=1, RGB=True, dtype=uint8> <valis.slide_io.VipsSlideReader object at 0x7f0567d2b230> True (375, 300, 3)\n",
      "<Slide, name = B_213-ST_BFIW-SE_1143_processed>, width=300, height=375, channels=3, levels=1, RGB=True, dtype=uint8> <valis.slide_io.VipsSlideReader object at 0x7f0567d2b290> True (375, 300, 3)\n",
      "<Slide, name = B_213-ST_BFIW-SE_1144_processed>, width=300, height=375, channels=3, levels=1, RGB=True, dtype=uint8> <valis.slide_io.VipsSlideReader object at 0x7f0567d2b2f0> True (375, 300, 3)\n",
      "<Slide, name = B_213-ST_BFIW-SE_1145_processed>, width=300, height=375, channels=3, levels=1, RGB=True, dtype=uint8> <valis.slide_io.VipsSlideReader object at 0x7f0567d2b350> True (375, 300, 3)\n",
      "<Slide, name = B_213-ST_BFIW-SE_1146_processed>, width=300, height=375, channels=3, levels=1, RGB=True, dtype=uint8> <valis.slide_io.VipsSlideReader object at 0x7f0567d2b3b0> True (375, 300, 3)\n",
      "<Slide, name = B_213-ST_BFIW-SE_1147_processed>, width=300, height=375, channels=3, levels=1, RGB=True, dtype=uint8> <valis.slide_io.VipsSlideReader object at 0x7f0567d2b410> True (375, 300, 3)\n"
     ]
    },
    {
     "name": "stderr",
     "output_type": "stream",
     "text": [
      "Converting images:  43%|████████████████████▏                          | 1121/2608 [00:15<00:25, 58.09image/s]"
     ]
    },
    {
     "name": "stdout",
     "output_type": "stream",
     "text": [
      "<Slide, name = B_213-ST_BFIW-SE_1148_processed>, width=300, height=375, channels=3, levels=1, RGB=True, dtype=uint8> <valis.slide_io.VipsSlideReader object at 0x7f0567d2b470> True (375, 300, 3)\n",
      "<Slide, name = B_213-ST_BFIW-SE_1149_processed>, width=300, height=375, channels=3, levels=1, RGB=True, dtype=uint8> <valis.slide_io.VipsSlideReader object at 0x7f0567d2b4d0> True (375, 300, 3)\n",
      "<Slide, name = B_213-ST_BFIW-SE_1150_processed>, width=300, height=375, channels=3, levels=1, RGB=True, dtype=uint8> <valis.slide_io.VipsSlideReader object at 0x7f0567d2b530> True (375, 300, 3)\n",
      "<Slide, name = B_213-ST_BFIW-SE_1151_processed>, width=300, height=375, channels=3, levels=1, RGB=True, dtype=uint8> <valis.slide_io.VipsSlideReader object at 0x7f0567d2b590> True (375, 300, 3)\n",
      "<Slide, name = B_213-ST_BFIW-SE_1152_processed>, width=300, height=375, channels=3, levels=1, RGB=True, dtype=uint8> <valis.slide_io.VipsSlideReader object at 0x7f0567d2b5f0> True (375, 300, 3)\n",
      "<Slide, name = B_213-ST_BFIW-SE_1153_processed>, width=300, height=375, channels=3, levels=1, RGB=True, dtype=uint8> <valis.slide_io.VipsSlideReader object at 0x7f0567d2b650> True (375, 300, 3)\n",
      "<Slide, name = B_213-ST_BFIW-SE_1154_processed>, width=300, height=375, channels=3, levels=1, RGB=True, dtype=uint8> <valis.slide_io.VipsSlideReader object at 0x7f0567d2b6b0> True (375, 300, 3)\n",
      "<Slide, name = B_213-ST_BFIW-SE_1155_processed>, width=300, height=375, channels=3, levels=1, RGB=True, dtype=uint8> <valis.slide_io.VipsSlideReader object at 0x7f0567d2b710> True (375, 300, 3)\n",
      "<Slide, name = B_213-ST_BFIW-SE_1156_processed>, width=300, height=375, channels=3, levels=1, RGB=True, dtype=uint8> <valis.slide_io.VipsSlideReader object at 0x7f0567d2b770> True (375, 300, 3)\n",
      "<Slide, name = B_213-ST_BFIW-SE_1157_processed>, width=300, height=375, channels=3, levels=1, RGB=True, dtype=uint8> <valis.slide_io.VipsSlideReader object at 0x7f0567d2b7d0> True (375, 300, 3)\n"
     ]
    },
    {
     "name": "stderr",
     "output_type": "stream",
     "text": [
      "Converting images:  43%|████████████████████▍                          | 1131/2608 [00:15<00:21, 67.73image/s]"
     ]
    },
    {
     "name": "stdout",
     "output_type": "stream",
     "text": [
      "<Slide, name = B_213-ST_BFIW-SE_1158_processed>, width=300, height=375, channels=3, levels=1, RGB=True, dtype=uint8> <valis.slide_io.VipsSlideReader object at 0x7f0567d2b830> True (375, 300, 3)\n",
      "<Slide, name = B_213-ST_BFIW-SE_1159_processed>, width=300, height=375, channels=3, levels=1, RGB=True, dtype=uint8> <valis.slide_io.VipsSlideReader object at 0x7f0567d2b890> True (375, 300, 3)\n",
      "<Slide, name = B_213-ST_BFIW-SE_1160_processed>, width=300, height=375, channels=3, levels=1, RGB=True, dtype=uint8> <valis.slide_io.VipsSlideReader object at 0x7f0567d2b8f0> True (375, 300, 3)\n",
      "<Slide, name = B_213-ST_BFIW-SE_1161_processed>, width=300, height=375, channels=3, levels=1, RGB=True, dtype=uint8> <valis.slide_io.VipsSlideReader object at 0x7f0567d2b950> True (375, 300, 3)\n",
      "<Slide, name = B_213-ST_BFIW-SE_1162_processed>, width=300, height=375, channels=3, levels=1, RGB=True, dtype=uint8> <valis.slide_io.VipsSlideReader object at 0x7f0567d2b9b0> True (375, 300, 3)\n",
      "<Slide, name = B_213-ST_BFIW-SE_1163_processed>, width=300, height=375, channels=3, levels=1, RGB=True, dtype=uint8> <valis.slide_io.VipsSlideReader object at 0x7f0567d2ba10> True (375, 300, 3)\n",
      "<Slide, name = B_213-ST_BFIW-SE_1164_processed>, width=300, height=375, channels=3, levels=1, RGB=True, dtype=uint8> <valis.slide_io.VipsSlideReader object at 0x7f0567d2ba70> True (375, 300, 3)\n",
      "<Slide, name = B_213-ST_BFIW-SE_1165_processed>, width=300, height=375, channels=3, levels=1, RGB=True, dtype=uint8> <valis.slide_io.VipsSlideReader object at 0x7f0567d2bad0> True (375, 300, 3)\n",
      "<Slide, name = B_213-ST_BFIW-SE_1166_processed>, width=300, height=375, channels=3, levels=1, RGB=True, dtype=uint8> <valis.slide_io.VipsSlideReader object at 0x7f0567d2bb30> True (375, 300, 3)\n",
      "<Slide, name = B_213-ST_BFIW-SE_1167_processed>, width=300, height=375, channels=3, levels=1, RGB=True, dtype=uint8> <valis.slide_io.VipsSlideReader object at 0x7f0567d2bfe0> True (375, 300, 3)\n"
     ]
    },
    {
     "name": "stderr",
     "output_type": "stream",
     "text": [
      "Converting images:  44%|████████████████████▌                          | 1141/2608 [00:15<00:19, 75.02image/s]"
     ]
    },
    {
     "name": "stdout",
     "output_type": "stream",
     "text": [
      "<Slide, name = B_213-ST_BFIW-SE_1168_processed>, width=300, height=375, channels=3, levels=1, RGB=True, dtype=uint8> <valis.slide_io.VipsSlideReader object at 0x7f0567d2bce0> True (375, 300, 3)\n",
      "<Slide, name = B_213-ST_BFIW-SE_1169_processed>, width=300, height=375, channels=3, levels=1, RGB=True, dtype=uint8> <valis.slide_io.VipsSlideReader object at 0x7f0567d1bb90> True (375, 300, 3)\n",
      "<Slide, name = B_213-ST_BFIW-SE_1170_processed>, width=300, height=375, channels=3, levels=1, RGB=True, dtype=uint8> <valis.slide_io.VipsSlideReader object at 0x7f0567d2be60> True (375, 300, 3)\n",
      "<Slide, name = B_213-ST_BFIW-SE_1171_processed>, width=300, height=375, channels=3, levels=1, RGB=True, dtype=uint8> <valis.slide_io.VipsSlideReader object at 0x7f0567d2bda0> True (375, 300, 3)\n",
      "<Slide, name = B_213-ST_BFIW-SE_1172_processed>, width=300, height=375, channels=3, levels=1, RGB=True, dtype=uint8> <valis.slide_io.VipsSlideReader object at 0x7f0567d1c2c0> True (375, 300, 3)\n",
      "<Slide, name = B_213-ST_BFIW-SE_1173_processed>, width=300, height=375, channels=3, levels=1, RGB=True, dtype=uint8> <valis.slide_io.VipsSlideReader object at 0x7f0567d2c080> True (375, 300, 3)\n",
      "<Slide, name = B_213-ST_BFIW-SE_1174_processed>, width=300, height=375, channels=3, levels=1, RGB=True, dtype=uint8> <valis.slide_io.VipsSlideReader object at 0x7f0567d2c2f0> True (375, 300, 3)\n",
      "<Slide, name = B_213-ST_BFIW-SE_1175_processed>, width=300, height=375, channels=3, levels=1, RGB=True, dtype=uint8> <valis.slide_io.VipsSlideReader object at 0x7f0567d10110> True (375, 300, 3)\n",
      "<Slide, name = B_213-ST_BFIW-SE_1176_processed>, width=300, height=375, channels=3, levels=1, RGB=True, dtype=uint8> <valis.slide_io.VipsSlideReader object at 0x7f0567d2c590> True (375, 300, 3)\n",
      "<Slide, name = B_213-ST_BFIW-SE_1177_processed>, width=300, height=375, channels=3, levels=1, RGB=True, dtype=uint8> <valis.slide_io.VipsSlideReader object at 0x7f0567d2c320> True (375, 300, 3)\n"
     ]
    },
    {
     "name": "stderr",
     "output_type": "stream",
     "text": [
      "Converting images:  44%|████████████████████▋                          | 1151/2608 [00:16<00:18, 79.99image/s]"
     ]
    },
    {
     "name": "stdout",
     "output_type": "stream",
     "text": [
      "<Slide, name = B_213-ST_BFIW-SE_1178_processed>, width=300, height=375, channels=3, levels=1, RGB=True, dtype=uint8> <valis.slide_io.VipsSlideReader object at 0x7f0567d2c200> True (375, 300, 3)\n",
      "<Slide, name = B_213-ST_BFIW-SE_1179_processed>, width=300, height=375, channels=3, levels=1, RGB=True, dtype=uint8> <valis.slide_io.VipsSlideReader object at 0x7f0567d2c470> True (375, 300, 3)\n",
      "<Slide, name = B_213-ST_BFIW-SE_1180_processed>, width=300, height=375, channels=3, levels=1, RGB=True, dtype=uint8> <valis.slide_io.VipsSlideReader object at 0x7f05680d41d0> True (375, 300, 3)\n",
      "<Slide, name = B_213-ST_BFIW-SE_1181_processed>, width=300, height=375, channels=3, levels=1, RGB=True, dtype=uint8> <valis.slide_io.VipsSlideReader object at 0x7f0567d2c4d0> True (375, 300, 3)\n",
      "<Slide, name = B_213-ST_BFIW-SE_1182_processed>, width=300, height=375, channels=3, levels=1, RGB=True, dtype=uint8> <valis.slide_io.VipsSlideReader object at 0x7f0567d2c6e0> True (375, 300, 3)\n",
      "<Slide, name = B_213-ST_BFIW-SE_1183_processed>, width=300, height=375, channels=3, levels=1, RGB=True, dtype=uint8> <valis.slide_io.VipsSlideReader object at 0x7f05680ec170> True (375, 300, 3)\n",
      "<Slide, name = B_213-ST_BFIW-SE_1184_processed>, width=300, height=375, channels=3, levels=1, RGB=True, dtype=uint8> <valis.slide_io.VipsSlideReader object at 0x7f0567d2c560> True (375, 300, 3)\n",
      "<Slide, name = B_213-ST_BFIW-SE_1185_processed>, width=300, height=375, channels=3, levels=1, RGB=True, dtype=uint8> <valis.slide_io.VipsSlideReader object at 0x7f05680d45f0> True (375, 300, 3)\n",
      "<Slide, name = B_213-ST_BFIW-SE_1186_processed>, width=300, height=375, channels=3, levels=1, RGB=True, dtype=uint8> <valis.slide_io.VipsSlideReader object at 0x7f0567d2c3b0> True (375, 300, 3)\n",
      "<Slide, name = B_213-ST_BFIW-SE_1187_processed>, width=300, height=375, channels=3, levels=1, RGB=True, dtype=uint8> <valis.slide_io.VipsSlideReader object at 0x7f0567d2c710> True (375, 300, 3)\n"
     ]
    },
    {
     "name": "stderr",
     "output_type": "stream",
     "text": [
      "Converting images:  45%|████████████████████▉                          | 1161/2608 [00:16<00:17, 83.45image/s]"
     ]
    },
    {
     "name": "stdout",
     "output_type": "stream",
     "text": [
      "<Slide, name = B_213-ST_BFIW-SE_1188_processed>, width=300, height=375, channels=3, levels=1, RGB=True, dtype=uint8> <valis.slide_io.VipsSlideReader object at 0x7f0567d1c0e0> True (375, 300, 3)\n",
      "<Slide, name = B_213-ST_BFIW-SE_1189_processed>, width=300, height=375, channels=3, levels=1, RGB=True, dtype=uint8> <valis.slide_io.VipsSlideReader object at 0x7f0567d2c770> True (375, 300, 3)\n",
      "<Slide, name = B_213-ST_BFIW-SE_1190_processed>, width=300, height=375, channels=3, levels=1, RGB=True, dtype=uint8> <valis.slide_io.VipsSlideReader object at 0x7f0567d1c920> True (375, 300, 3)\n",
      "<Slide, name = B_213-ST_BFIW-SE_1191_processed>, width=300, height=375, channels=3, levels=1, RGB=True, dtype=uint8> <valis.slide_io.VipsSlideReader object at 0x7f0567d2ca10> True (375, 300, 3)\n",
      "<Slide, name = B_213-ST_BFIW-SE_1192_processed>, width=300, height=375, channels=3, levels=1, RGB=True, dtype=uint8> <valis.slide_io.VipsSlideReader object at 0x7f0567d1c8f0> True (375, 300, 3)\n",
      "<Slide, name = B_213-ST_BFIW-SE_1193_processed>, width=300, height=375, channels=3, levels=1, RGB=True, dtype=uint8> <valis.slide_io.VipsSlideReader object at 0x7f05680ccb90> True (375, 300, 3)\n",
      "<Slide, name = B_213-ST_BFIW-SE_1194_processed>, width=300, height=375, channels=3, levels=1, RGB=True, dtype=uint8> <valis.slide_io.VipsSlideReader object at 0x7f05680b4a70> True (375, 300, 3)\n",
      "<Slide, name = B_213-ST_BFIW-SE_1195_processed>, width=300, height=375, channels=3, levels=1, RGB=True, dtype=uint8> <valis.slide_io.VipsSlideReader object at 0x7f0567d2ca40> True (375, 300, 3)\n",
      "<Slide, name = B_213-ST_BFIW-SE_1196_processed>, width=300, height=375, channels=3, levels=1, RGB=True, dtype=uint8> <valis.slide_io.VipsSlideReader object at 0x7f0567d1c0b0> True (375, 300, 3)\n",
      "<Slide, name = B_213-ST_BFIW-SE_1197_processed>, width=300, height=375, channels=3, levels=1, RGB=True, dtype=uint8> <valis.slide_io.VipsSlideReader object at 0x7f0567d2c9e0> True (375, 300, 3)\n"
     ]
    },
    {
     "name": "stderr",
     "output_type": "stream",
     "text": [
      "Converting images:  45%|█████████████████████                          | 1171/2608 [00:16<00:16, 85.85image/s]"
     ]
    },
    {
     "name": "stdout",
     "output_type": "stream",
     "text": [
      "<Slide, name = B_213-ST_BFIW-SE_1198_processed>, width=300, height=375, channels=3, levels=1, RGB=True, dtype=uint8> <valis.slide_io.VipsSlideReader object at 0x7f0567d1cb30> True (375, 300, 3)\n",
      "<Slide, name = B_213-ST_BFIW-SE_1199_processed>, width=300, height=375, channels=3, levels=1, RGB=True, dtype=uint8> <valis.slide_io.VipsSlideReader object at 0x7f0567d14e30> True (375, 300, 3)\n",
      "<Slide, name = B_213-ST_BFIW-SE_1200_processed>, width=300, height=375, channels=3, levels=1, RGB=True, dtype=uint8> <valis.slide_io.VipsSlideReader object at 0x7f0567d2c650> True (375, 300, 3)\n",
      "<Slide, name = B_213-ST_BFIW-SE_1201_processed>, width=300, height=375, channels=3, levels=1, RGB=True, dtype=uint8> <valis.slide_io.VipsSlideReader object at 0x7f05680b4c20> True (375, 300, 3)\n",
      "<Slide, name = B_213-ST_BFIW-SE_1202_processed>, width=300, height=375, channels=3, levels=1, RGB=True, dtype=uint8> <valis.slide_io.VipsSlideReader object at 0x7f0567d2ccb0> True (375, 300, 3)\n",
      "<Slide, name = B_213-ST_BFIW-SE_1203_processed>, width=300, height=375, channels=3, levels=1, RGB=True, dtype=uint8> <valis.slide_io.VipsSlideReader object at 0x7f0567d1c830> True (375, 300, 3)\n",
      "<Slide, name = B_213-ST_BFIW-SE_1204_processed>, width=300, height=375, channels=3, levels=1, RGB=True, dtype=uint8> <valis.slide_io.VipsSlideReader object at 0x7f0567d2ce60> True (375, 300, 3)\n",
      "<Slide, name = B_213-ST_BFIW-SE_1205_processed>, width=300, height=375, channels=3, levels=1, RGB=True, dtype=uint8> <valis.slide_io.VipsSlideReader object at 0x7f0567d1cef0> True (375, 300, 3)\n",
      "<Slide, name = B_213-ST_BFIW-SE_1206_processed>, width=300, height=375, channels=3, levels=1, RGB=True, dtype=uint8> <valis.slide_io.VipsSlideReader object at 0x7f0567d1d190> True (375, 300, 3)\n",
      "<Slide, name = B_213-ST_BFIW-SE_1207_processed>, width=300, height=375, channels=3, levels=1, RGB=True, dtype=uint8> <valis.slide_io.VipsSlideReader object at 0x7f0567d2cd10> True (375, 300, 3)\n"
     ]
    },
    {
     "name": "stderr",
     "output_type": "stream",
     "text": [
      "Converting images:  45%|█████████████████████▎                         | 1181/2608 [00:16<00:16, 87.71image/s]"
     ]
    },
    {
     "name": "stdout",
     "output_type": "stream",
     "text": [
      "<Slide, name = B_213-ST_BFIW-SE_1208_processed>, width=300, height=375, channels=3, levels=1, RGB=True, dtype=uint8> <valis.slide_io.VipsSlideReader object at 0x7f0567d1d160> True (375, 300, 3)\n",
      "<Slide, name = B_213-ST_BFIW-SE_1209_processed>, width=300, height=375, channels=3, levels=1, RGB=True, dtype=uint8> <valis.slide_io.VipsSlideReader object at 0x7f0567d1cfe0> True (375, 300, 3)\n",
      "<Slide, name = B_213-ST_BFIW-SE_1210_processed>, width=300, height=375, channels=3, levels=1, RGB=True, dtype=uint8> <valis.slide_io.VipsSlideReader object at 0x7f0567d1d1f0> True (375, 300, 3)\n",
      "<Slide, name = B_213-ST_BFIW-SE_1211_processed>, width=300, height=375, channels=3, levels=1, RGB=True, dtype=uint8> <valis.slide_io.VipsSlideReader object at 0x7f0567d2c380> True (375, 300, 3)\n",
      "<Slide, name = B_213-ST_BFIW-SE_1212_processed>, width=300, height=375, channels=3, levels=1, RGB=True, dtype=uint8> <valis.slide_io.VipsSlideReader object at 0x7f0567d1d2b0> True (375, 300, 3)\n",
      "<Slide, name = B_213-ST_BFIW-SE_1213_processed>, width=300, height=375, channels=3, levels=1, RGB=True, dtype=uint8> <valis.slide_io.VipsSlideReader object at 0x7f0567d2d2e0> True (375, 300, 3)\n",
      "<Slide, name = B_213-ST_BFIW-SE_1214_processed>, width=300, height=375, channels=3, levels=1, RGB=True, dtype=uint8> <valis.slide_io.VipsSlideReader object at 0x7f0567d15370> True (375, 300, 3)\n",
      "<Slide, name = B_213-ST_BFIW-SE_1215_processed>, width=300, height=375, channels=3, levels=1, RGB=True, dtype=uint8> <valis.slide_io.VipsSlideReader object at 0x7f05680a51c0> True (375, 300, 3)\n",
      "<Slide, name = B_213-ST_BFIW-SE_1216_processed>, width=300, height=375, channels=3, levels=1, RGB=True, dtype=uint8> <valis.slide_io.VipsSlideReader object at 0x7f0567d2d250> True (375, 300, 3)\n",
      "<Slide, name = B_213-ST_BFIW-SE_1217_processed>, width=300, height=375, channels=3, levels=1, RGB=True, dtype=uint8> <valis.slide_io.VipsSlideReader object at 0x7f0567d2d490> True (375, 300, 3)\n"
     ]
    },
    {
     "name": "stderr",
     "output_type": "stream",
     "text": [
      "Converting images:  46%|█████████████████████▍                         | 1191/2608 [00:16<00:15, 89.07image/s]"
     ]
    },
    {
     "name": "stdout",
     "output_type": "stream",
     "text": [
      "<Slide, name = B_213-ST_BFIW-SE_1218_processed>, width=300, height=375, channels=3, levels=1, RGB=True, dtype=uint8> <valis.slide_io.VipsSlideReader object at 0x7f0567d1d640> True (375, 300, 3)\n",
      "<Slide, name = B_213-ST_BFIW-SE_1219_processed>, width=300, height=375, channels=3, levels=1, RGB=True, dtype=uint8> <valis.slide_io.VipsSlideReader object at 0x7f0567d1d520> True (375, 300, 3)\n",
      "<Slide, name = B_213-ST_BFIW-SE_1220_processed>, width=300, height=375, channels=3, levels=1, RGB=True, dtype=uint8> <valis.slide_io.VipsSlideReader object at 0x7f0567d2cdd0> True (375, 300, 3)\n",
      "<Slide, name = B_213-ST_BFIW-SE_1221_processed>, width=300, height=375, channels=3, levels=1, RGB=True, dtype=uint8> <valis.slide_io.VipsSlideReader object at 0x7f0567d1d670> True (375, 300, 3)\n",
      "<Slide, name = B_213-ST_BFIW-SE_1222_processed>, width=300, height=375, channels=3, levels=1, RGB=True, dtype=uint8> <valis.slide_io.VipsSlideReader object at 0x7f0567d2cf50> True (375, 300, 3)\n",
      "<Slide, name = B_213-ST_BFIW-SE_1223_processed>, width=300, height=375, channels=3, levels=1, RGB=True, dtype=uint8> <valis.slide_io.VipsSlideReader object at 0x7f0567d1d700> True (375, 300, 3)\n",
      "<Slide, name = B_213-ST_BFIW-SE_1224_processed>, width=300, height=375, channels=3, levels=1, RGB=True, dtype=uint8> <valis.slide_io.VipsSlideReader object at 0x7f0567d1d6d0> True (375, 300, 3)\n",
      "<Slide, name = B_213-ST_BFIW-SE_1225_processed>, width=300, height=375, channels=3, levels=1, RGB=True, dtype=uint8> <valis.slide_io.VipsSlideReader object at 0x7f05680cd7f0> True (375, 300, 3)\n",
      "<Slide, name = B_213-ST_BFIW-SE_1226_processed>, width=300, height=375, channels=3, levels=1, RGB=True, dtype=uint8> <valis.slide_io.VipsSlideReader object at 0x7f0567d2d6a0> True (375, 300, 3)\n",
      "<Slide, name = B_213-ST_BFIW-SE_1227_processed>, width=300, height=375, channels=3, levels=1, RGB=True, dtype=uint8> <valis.slide_io.VipsSlideReader object at 0x7f0567d2d850> True (375, 300, 3)\n"
     ]
    },
    {
     "name": "stderr",
     "output_type": "stream",
     "text": [
      "Converting images:  46%|█████████████████████▋                         | 1201/2608 [00:16<00:15, 89.61image/s]"
     ]
    },
    {
     "name": "stdout",
     "output_type": "stream",
     "text": [
      "<Slide, name = B_213-ST_BFIW-SE_1228_processed>, width=300, height=375, channels=3, levels=1, RGB=True, dtype=uint8> <valis.slide_io.VipsSlideReader object at 0x7f0567d2d550> True (375, 300, 3)\n",
      "<Slide, name = B_213-ST_BFIW-SE_1229_processed>, width=300, height=375, channels=3, levels=1, RGB=True, dtype=uint8> <valis.slide_io.VipsSlideReader object at 0x7f05680edac0> True (375, 300, 3)\n",
      "<Slide, name = B_213-ST_BFIW-SE_1230_processed>, width=300, height=375, channels=3, levels=1, RGB=True, dtype=uint8> <valis.slide_io.VipsSlideReader object at 0x7f0567d2d910> True (375, 300, 3)\n",
      "<Slide, name = B_213-ST_BFIW-SE_1231_processed>, width=300, height=375, channels=3, levels=1, RGB=True, dtype=uint8> <valis.slide_io.VipsSlideReader object at 0x7f0567d2da90> True (375, 300, 3)\n",
      "<Slide, name = B_213-ST_BFIW-SE_1232_processed>, width=300, height=375, channels=3, levels=1, RGB=True, dtype=uint8> <valis.slide_io.VipsSlideReader object at 0x7f0567d2d9d0> True (375, 300, 3)\n",
      "<Slide, name = B_213-ST_BFIW-SE_1233_processed>, width=300, height=375, channels=3, levels=1, RGB=True, dtype=uint8> <valis.slide_io.VipsSlideReader object at 0x7f0567d159a0> True (375, 300, 3)\n",
      "<Slide, name = B_213-ST_BFIW-SE_1234_processed>, width=300, height=375, channels=3, levels=1, RGB=True, dtype=uint8> <valis.slide_io.VipsSlideReader object at 0x7f0567d2da00> True (375, 300, 3)\n",
      "<Slide, name = B_213-ST_BFIW-SE_1235_processed>, width=300, height=375, channels=3, levels=1, RGB=True, dtype=uint8> <valis.slide_io.VipsSlideReader object at 0x7f05680b5b80> True (375, 300, 3)\n",
      "<Slide, name = B_213-ST_BFIW-SE_1236_processed>, width=300, height=375, channels=3, levels=1, RGB=True, dtype=uint8> <valis.slide_io.VipsSlideReader object at 0x7f0567d1ddc0> True (375, 300, 3)\n",
      "<Slide, name = B_213-ST_BFIW-SE_1237_processed>, width=300, height=375, channels=3, levels=1, RGB=True, dtype=uint8> <valis.slide_io.VipsSlideReader object at 0x7f0567d1d8e0> True (375, 300, 3)\n"
     ]
    },
    {
     "name": "stderr",
     "output_type": "stream",
     "text": [
      "Converting images:  46%|█████████████████████▊                         | 1211/2608 [00:16<00:15, 90.25image/s]"
     ]
    },
    {
     "name": "stdout",
     "output_type": "stream",
     "text": [
      "<Slide, name = B_213-ST_BFIW-SE_1238_processed>, width=300, height=375, channels=3, levels=1, RGB=True, dtype=uint8> <valis.slide_io.VipsSlideReader object at 0x7f0567d1dd90> True (375, 300, 3)\n",
      "<Slide, name = B_213-ST_BFIW-SE_1239_processed>, width=300, height=375, channels=3, levels=1, RGB=True, dtype=uint8> <valis.slide_io.VipsSlideReader object at 0x7f0567d2dbb0> True (375, 300, 3)\n",
      "<Slide, name = B_213-ST_BFIW-SE_1240_processed>, width=300, height=375, channels=3, levels=1, RGB=True, dtype=uint8> <valis.slide_io.VipsSlideReader object at 0x7f05680edbe0> True (375, 300, 3)\n",
      "<Slide, name = B_213-ST_BFIW-SE_1241_processed>, width=300, height=375, channels=3, levels=1, RGB=True, dtype=uint8> <valis.slide_io.VipsSlideReader object at 0x7f05680ce000> True (375, 300, 3)\n",
      "<Slide, name = B_213-ST_BFIW-SE_1242_processed>, width=300, height=375, channels=3, levels=1, RGB=True, dtype=uint8> <valis.slide_io.VipsSlideReader object at 0x7f0567d2db20> True (375, 300, 3)\n",
      "<Slide, name = B_213-ST_BFIW-SE_1243_processed>, width=300, height=375, channels=3, levels=1, RGB=True, dtype=uint8> <valis.slide_io.VipsSlideReader object at 0x7f0567d2dfd0> True (375, 300, 3)\n",
      "<Slide, name = B_213-ST_BFIW-SE_1244_processed>, width=300, height=375, channels=3, levels=1, RGB=True, dtype=uint8> <valis.slide_io.VipsSlideReader object at 0x7f0567d2de50> True (375, 300, 3)\n",
      "<Slide, name = B_213-ST_BFIW-SE_1245_processed>, width=300, height=375, channels=3, levels=1, RGB=True, dtype=uint8> <valis.slide_io.VipsSlideReader object at 0x7f0567d1dc40> True (375, 300, 3)\n",
      "<Slide, name = B_213-ST_BFIW-SE_1246_processed>, width=300, height=375, channels=3, levels=1, RGB=True, dtype=uint8> <valis.slide_io.VipsSlideReader object at 0x7f0567d2df40> True (375, 300, 3)\n",
      "<Slide, name = B_213-ST_BFIW-SE_1247_processed>, width=300, height=375, channels=3, levels=1, RGB=True, dtype=uint8> <valis.slide_io.VipsSlideReader object at 0x7f0567d2e180> True (375, 300, 3)\n"
     ]
    },
    {
     "name": "stderr",
     "output_type": "stream",
     "text": [
      "Converting images:  47%|██████████████████████                         | 1221/2608 [00:16<00:15, 90.60image/s]"
     ]
    },
    {
     "name": "stdout",
     "output_type": "stream",
     "text": [
      "<Slide, name = B_213-ST_BFIW-SE_1248_processed>, width=300, height=375, channels=3, levels=1, RGB=True, dtype=uint8> <valis.slide_io.VipsSlideReader object at 0x7f0567d2e330> True (375, 300, 3)\n",
      "<Slide, name = B_213-ST_BFIW-SE_1249_processed>, width=300, height=375, channels=3, levels=1, RGB=True, dtype=uint8> <valis.slide_io.VipsSlideReader object at 0x7f0567d2e3c0> True (375, 300, 3)\n",
      "<Slide, name = B_213-ST_BFIW-SE_1250_processed>, width=300, height=375, channels=3, levels=1, RGB=True, dtype=uint8> <valis.slide_io.VipsSlideReader object at 0x7f0567d2db50> True (375, 300, 3)\n",
      "<Slide, name = B_213-ST_BFIW-SE_1251_processed>, width=300, height=375, channels=3, levels=1, RGB=True, dtype=uint8> <valis.slide_io.VipsSlideReader object at 0x7f05680de1e0> True (375, 300, 3)\n",
      "<Slide, name = B_213-ST_BFIW-SE_1252_processed>, width=300, height=375, channels=3, levels=1, RGB=True, dtype=uint8> <valis.slide_io.VipsSlideReader object at 0x7f0567d2e270> True (375, 300, 3)\n",
      "<Slide, name = B_213-ST_BFIW-SE_1253_processed>, width=300, height=375, channels=3, levels=1, RGB=True, dtype=uint8> <valis.slide_io.VipsSlideReader object at 0x7f0567d2e2d0> True (375, 300, 3)\n",
      "<Slide, name = B_213-ST_BFIW-SE_1254_processed>, width=300, height=375, channels=3, levels=1, RGB=True, dtype=uint8> <valis.slide_io.VipsSlideReader object at 0x7f0567d2e4e0> True (375, 300, 3)\n",
      "<Slide, name = B_213-ST_BFIW-SE_1255_processed>, width=300, height=375, channels=3, levels=1, RGB=True, dtype=uint8> <valis.slide_io.VipsSlideReader object at 0x7f0567d2e660> True (375, 300, 3)\n",
      "<Slide, name = B_213-ST_BFIW-SE_1256_processed>, width=300, height=375, channels=3, levels=1, RGB=True, dtype=uint8> <valis.slide_io.VipsSlideReader object at 0x7f05680ce6f0> True (375, 300, 3)\n",
      "<Slide, name = B_213-ST_BFIW-SE_1257_processed>, width=300, height=375, channels=3, levels=1, RGB=True, dtype=uint8> <valis.slide_io.VipsSlideReader object at 0x7f0567d2e4b0> True (375, 300, 3)\n"
     ]
    },
    {
     "name": "stderr",
     "output_type": "stream",
     "text": [
      "Converting images:  47%|██████████████████████▏                        | 1231/2608 [00:16<00:15, 90.77image/s]"
     ]
    },
    {
     "name": "stdout",
     "output_type": "stream",
     "text": [
      "<Slide, name = B_213-ST_BFIW-SE_1258_processed>, width=300, height=375, channels=3, levels=1, RGB=True, dtype=uint8> <valis.slide_io.VipsSlideReader object at 0x7f0567d1e630> True (375, 300, 3)\n",
      "<Slide, name = B_213-ST_BFIW-SE_1259_processed>, width=300, height=375, channels=3, levels=1, RGB=True, dtype=uint8> <valis.slide_io.VipsSlideReader object at 0x7f0567d1e840> True (375, 300, 3)\n",
      "<Slide, name = B_213-ST_BFIW-SE_1260_processed>, width=300, height=375, channels=3, levels=1, RGB=True, dtype=uint8> <valis.slide_io.VipsSlideReader object at 0x7f0567d2e060> True (375, 300, 3)\n",
      "<Slide, name = B_213-ST_BFIW-SE_1261_processed>, width=300, height=375, channels=3, levels=1, RGB=True, dtype=uint8> <valis.slide_io.VipsSlideReader object at 0x7f0567d2e390> True (375, 300, 3)\n",
      "<Slide, name = B_213-ST_BFIW-SE_1262_processed>, width=300, height=375, channels=3, levels=1, RGB=True, dtype=uint8> <valis.slide_io.VipsSlideReader object at 0x7f0567d2e810> True (375, 300, 3)\n",
      "<Slide, name = B_213-ST_BFIW-SE_1263_processed>, width=300, height=375, channels=3, levels=1, RGB=True, dtype=uint8> <valis.slide_io.VipsSlideReader object at 0x7f0567d2e5d0> True (375, 300, 3)\n",
      "<Slide, name = B_213-ST_BFIW-SE_1264_processed>, width=300, height=375, channels=3, levels=1, RGB=True, dtype=uint8> <valis.slide_io.VipsSlideReader object at 0x7f0567d1e5a0> True (375, 300, 3)\n",
      "<Slide, name = B_213-ST_BFIW-SE_1265_processed>, width=300, height=375, channels=3, levels=1, RGB=True, dtype=uint8> <valis.slide_io.VipsSlideReader object at 0x7f0567d2e900> True (375, 300, 3)\n",
      "<Slide, name = B_213-ST_BFIW-SE_1266_processed>, width=300, height=375, channels=3, levels=1, RGB=True, dtype=uint8> <valis.slide_io.VipsSlideReader object at 0x7f05680ce8d0> True (375, 300, 3)\n",
      "<Slide, name = B_213-ST_BFIW-SE_1267_processed>, width=300, height=375, channels=3, levels=1, RGB=True, dtype=uint8> <valis.slide_io.VipsSlideReader object at 0x7f05680deb70> True (375, 300, 3)\n"
     ]
    },
    {
     "name": "stderr",
     "output_type": "stream",
     "text": [
      "Converting images:  48%|██████████████████████▎                        | 1241/2608 [00:17<00:14, 91.31image/s]"
     ]
    },
    {
     "name": "stdout",
     "output_type": "stream",
     "text": [
      "<Slide, name = B_213-ST_BFIW-SE_1268_processed>, width=300, height=375, channels=3, levels=1, RGB=True, dtype=uint8> <valis.slide_io.VipsSlideReader object at 0x7f0567d2e960> True (375, 300, 3)\n",
      "<Slide, name = B_213-ST_BFIW-SE_1269_processed>, width=300, height=375, channels=3, levels=1, RGB=True, dtype=uint8> <valis.slide_io.VipsSlideReader object at 0x7f0567d1e9c0> True (375, 300, 3)\n",
      "<Slide, name = B_213-ST_BFIW-SE_1270_processed>, width=300, height=375, channels=3, levels=1, RGB=True, dtype=uint8> <valis.slide_io.VipsSlideReader object at 0x7f0567d2ed80> True (375, 300, 3)\n",
      "<Slide, name = B_213-ST_BFIW-SE_1271_processed>, width=300, height=375, channels=3, levels=1, RGB=True, dtype=uint8> <valis.slide_io.VipsSlideReader object at 0x7f0567d1ea20> True (375, 300, 3)\n",
      "<Slide, name = B_213-ST_BFIW-SE_1272_processed>, width=300, height=375, channels=3, levels=1, RGB=True, dtype=uint8> <valis.slide_io.VipsSlideReader object at 0x7f0567d1ecc0> True (375, 300, 3)\n",
      "<Slide, name = B_213-ST_BFIW-SE_1273_processed>, width=300, height=375, channels=3, levels=1, RGB=True, dtype=uint8> <valis.slide_io.VipsSlideReader object at 0x7f0567d2eb40> True (375, 300, 3)\n",
      "<Slide, name = B_213-ST_BFIW-SE_1274_processed>, width=300, height=375, channels=3, levels=1, RGB=True, dtype=uint8> <valis.slide_io.VipsSlideReader object at 0x7f0567d2eb10> True (375, 300, 3)\n",
      "<Slide, name = B_213-ST_BFIW-SE_1275_processed>, width=300, height=375, channels=3, levels=1, RGB=True, dtype=uint8> <valis.slide_io.VipsSlideReader object at 0x7f0567d2ec60> True (375, 300, 3)\n",
      "<Slide, name = B_213-ST_BFIW-SE_1276_processed>, width=300, height=375, channels=3, levels=1, RGB=True, dtype=uint8> <valis.slide_io.VipsSlideReader object at 0x7f05680cede0> True (375, 300, 3)\n",
      "<Slide, name = B_213-ST_BFIW-SE_1277_processed>, width=300, height=375, channels=3, levels=1, RGB=True, dtype=uint8> <valis.slide_io.VipsSlideReader object at 0x7f0567d2eed0> True (375, 300, 3)\n"
     ]
    },
    {
     "name": "stderr",
     "output_type": "stream",
     "text": [
      "Converting images:  48%|██████████████████████▌                        | 1251/2608 [00:17<00:14, 91.82image/s]"
     ]
    },
    {
     "name": "stdout",
     "output_type": "stream",
     "text": [
      "<Slide, name = B_213-ST_BFIW-SE_1278_processed>, width=300, height=375, channels=3, levels=1, RGB=True, dtype=uint8> <valis.slide_io.VipsSlideReader object at 0x7f0567d2eab0> True (375, 300, 3)\n",
      "<Slide, name = B_213-ST_BFIW-SE_1279_processed>, width=300, height=375, channels=3, levels=1, RGB=True, dtype=uint8> <valis.slide_io.VipsSlideReader object at 0x7f0567d2f0b0> True (375, 300, 3)\n",
      "<Slide, name = B_213-ST_BFIW-SE_1280_processed>, width=300, height=375, channels=3, levels=1, RGB=True, dtype=uint8> <valis.slide_io.VipsSlideReader object at 0x7f0567d1dfd0> True (375, 300, 3)\n",
      "<Slide, name = B_213-ST_BFIW-SE_1281_processed>, width=300, height=375, channels=3, levels=1, RGB=True, dtype=uint8> <valis.slide_io.VipsSlideReader object at 0x7f0567d2f230> True (375, 300, 3)\n",
      "<Slide, name = B_213-ST_BFIW-SE_1282_processed>, width=300, height=375, channels=3, levels=1, RGB=True, dtype=uint8> <valis.slide_io.VipsSlideReader object at 0x7f05680eec30> True (375, 300, 3)\n",
      "<Slide, name = B_213-ST_BFIW-SE_1283_processed>, width=300, height=375, channels=3, levels=1, RGB=True, dtype=uint8> <valis.slide_io.VipsSlideReader object at 0x7f0567d2f080> True (375, 300, 3)\n",
      "<Slide, name = B_213-ST_BFIW-SE_1284_processed>, width=300, height=375, channels=3, levels=1, RGB=True, dtype=uint8> <valis.slide_io.VipsSlideReader object at 0x7f0567d2f020> True (375, 300, 3)\n",
      "<Slide, name = B_213-ST_BFIW-SE_1285_processed>, width=300, height=375, channels=3, levels=1, RGB=True, dtype=uint8> <valis.slide_io.VipsSlideReader object at 0x7f0567d2f350> True (375, 300, 3)\n",
      "<Slide, name = B_213-ST_BFIW-SE_1286_processed>, width=300, height=375, channels=3, levels=1, RGB=True, dtype=uint8> <valis.slide_io.VipsSlideReader object at 0x7f0567d2f3e0> True (375, 300, 3)\n",
      "<Slide, name = B_213-ST_BFIW-SE_1287_processed>, width=300, height=375, channels=3, levels=1, RGB=True, dtype=uint8> <valis.slide_io.VipsSlideReader object at 0x7f0567d1f170> True (375, 300, 3)\n"
     ]
    },
    {
     "name": "stderr",
     "output_type": "stream",
     "text": [
      "Converting images:  48%|██████████████████████▋                        | 1261/2608 [00:17<00:14, 91.81image/s]"
     ]
    },
    {
     "name": "stdout",
     "output_type": "stream",
     "text": [
      "<Slide, name = B_213-ST_BFIW-SE_1288_processed>, width=300, height=375, channels=3, levels=1, RGB=True, dtype=uint8> <valis.slide_io.VipsSlideReader object at 0x7f0567d2f050> True (375, 300, 3)\n",
      "<Slide, name = B_213-ST_BFIW-SE_1289_processed>, width=300, height=375, channels=3, levels=1, RGB=True, dtype=uint8> <valis.slide_io.VipsSlideReader object at 0x7f05680ef3b0> True (375, 300, 3)\n",
      "<Slide, name = B_213-ST_BFIW-SE_1290_processed>, width=300, height=375, channels=3, levels=1, RGB=True, dtype=uint8> <valis.slide_io.VipsSlideReader object at 0x7f0567d2f2c0> True (375, 300, 3)\n",
      "<Slide, name = B_213-ST_BFIW-SE_1291_processed>, width=300, height=375, channels=3, levels=1, RGB=True, dtype=uint8> <valis.slide_io.VipsSlideReader object at 0x7f0567d2ef90> True (375, 300, 3)\n",
      "<Slide, name = B_213-ST_BFIW-SE_1292_processed>, width=300, height=375, channels=3, levels=1, RGB=True, dtype=uint8> <valis.slide_io.VipsSlideReader object at 0x7f0567d2f4d0> True (375, 300, 3)\n",
      "<Slide, name = B_213-ST_BFIW-SE_1293_processed>, width=300, height=375, channels=3, levels=1, RGB=True, dtype=uint8> <valis.slide_io.VipsSlideReader object at 0x7f0568096ff0> True (375, 300, 3)\n",
      "<Slide, name = B_213-ST_BFIW-SE_1294_processed>, width=300, height=375, channels=3, levels=1, RGB=True, dtype=uint8> <valis.slide_io.VipsSlideReader object at 0x7f0567d2f5c0> True (375, 300, 3)\n",
      "<Slide, name = B_213-ST_BFIW-SE_1295_processed>, width=300, height=375, channels=3, levels=1, RGB=True, dtype=uint8> <valis.slide_io.VipsSlideReader object at 0x7f0567d2f590> True (375, 300, 3)\n",
      "<Slide, name = B_213-ST_BFIW-SE_1296_processed>, width=300, height=375, channels=3, levels=1, RGB=True, dtype=uint8> <valis.slide_io.VipsSlideReader object at 0x7f0567d2f7a0> True (375, 300, 3)\n",
      "<Slide, name = B_213-ST_BFIW-SE_1297_processed>, width=300, height=375, channels=3, levels=1, RGB=True, dtype=uint8> <valis.slide_io.VipsSlideReader object at 0x7f0567d2f920> True (375, 300, 3)\n"
     ]
    },
    {
     "name": "stderr",
     "output_type": "stream",
     "text": [
      "Converting images:  49%|██████████████████████▉                        | 1271/2608 [00:17<00:14, 92.25image/s]"
     ]
    },
    {
     "name": "stdout",
     "output_type": "stream",
     "text": [
      "<Slide, name = B_213-ST_BFIW-SE_1298_processed>, width=300, height=375, channels=3, levels=1, RGB=True, dtype=uint8> <valis.slide_io.VipsSlideReader object at 0x7f0567d1f9b0> True (375, 300, 3)\n",
      "<Slide, name = B_213-ST_BFIW-SE_1299_processed>, width=300, height=375, channels=3, levels=1, RGB=True, dtype=uint8> <valis.slide_io.VipsSlideReader object at 0x7f0567d2faa0> True (375, 300, 3)\n",
      "<Slide, name = B_213-ST_BFIW-SE_1300_processed>, width=300, height=375, channels=3, levels=1, RGB=True, dtype=uint8> <valis.slide_io.VipsSlideReader object at 0x7f0567d2d190> True (375, 300, 3)\n",
      "<Slide, name = B_213-ST_BFIW-SE_1301_processed>, width=300, height=375, channels=3, levels=1, RGB=True, dtype=uint8> <valis.slide_io.VipsSlideReader object at 0x7f0567d2f800> True (375, 300, 3)\n",
      "<Slide, name = B_213-ST_BFIW-SE_1302_processed>, width=300, height=375, channels=3, levels=1, RGB=True, dtype=uint8> <valis.slide_io.VipsSlideReader object at 0x7f0567d2fb30> True (375, 300, 3)\n",
      "<Slide, name = B_213-ST_BFIW-SE_1303_processed>, width=300, height=375, channels=3, levels=1, RGB=True, dtype=uint8> <valis.slide_io.VipsSlideReader object at 0x7f0567d1f8c0> True (375, 300, 3)\n",
      "<Slide, name = B_213-ST_BFIW-SE_1304_processed>, width=300, height=375, channels=3, levels=1, RGB=True, dtype=uint8> <valis.slide_io.VipsSlideReader object at 0x7f0567d2f8f0> True (375, 300, 3)\n",
      "<Slide, name = B_213-ST_BFIW-SE_1305_processed>, width=300, height=375, channels=3, levels=1, RGB=True, dtype=uint8> <valis.slide_io.VipsSlideReader object at 0x7f0567d2fc50> True (375, 300, 3)\n",
      "<Slide, name = B_213-ST_BFIW-SE_1306_processed>, width=300, height=375, channels=3, levels=1, RGB=True, dtype=uint8> <valis.slide_io.VipsSlideReader object at 0x7f0567d2c1d0> True (375, 300, 3)\n",
      "<Slide, name = B_213-ST_BFIW-SE_1307_processed>, width=300, height=375, channels=3, levels=1, RGB=True, dtype=uint8> <valis.slide_io.VipsSlideReader object at 0x7f0567d1fd40> True (375, 300, 3)\n"
     ]
    },
    {
     "name": "stderr",
     "output_type": "stream",
     "text": [
      "Converting images:  49%|███████████████████████                        | 1281/2608 [00:17<00:14, 93.07image/s]"
     ]
    },
    {
     "name": "stdout",
     "output_type": "stream",
     "text": [
      "<Slide, name = B_213-ST_BFIW-SE_1308_processed>, width=300, height=375, channels=3, levels=1, RGB=True, dtype=uint8> <valis.slide_io.VipsSlideReader object at 0x7f0567d2fbf0> True (375, 300, 3)\n",
      "<Slide, name = B_213-ST_BFIW-SE_1309_processed>, width=300, height=375, channels=3, levels=1, RGB=True, dtype=uint8> <valis.slide_io.VipsSlideReader object at 0x7f0567d2fce0> True (375, 300, 3)\n",
      "<Slide, name = B_213-ST_BFIW-SE_1310_processed>, width=300, height=375, channels=3, levels=1, RGB=True, dtype=uint8> <valis.slide_io.VipsSlideReader object at 0x7f0567d2fef0> True (375, 300, 3)\n",
      "<Slide, name = B_213-ST_BFIW-SE_1311_processed>, width=300, height=375, channels=3, levels=1, RGB=True, dtype=uint8> <valis.slide_io.VipsSlideReader object at 0x7f0567d2ff80> True (375, 300, 3)\n",
      "<Slide, name = B_213-ST_BFIW-SE_1312_processed>, width=300, height=375, channels=3, levels=1, RGB=True, dtype=uint8> <valis.slide_io.VipsSlideReader object at 0x7f0567d2fad0> True (375, 300, 3)\n",
      "<Slide, name = B_213-ST_BFIW-SE_1313_processed>, width=300, height=375, channels=3, levels=1, RGB=True, dtype=uint8> <valis.slide_io.VipsSlideReader object at 0x7f0567d2f7d0> True (375, 300, 3)\n",
      "<Slide, name = B_213-ST_BFIW-SE_1314_processed>, width=300, height=375, channels=3, levels=1, RGB=True, dtype=uint8> <valis.slide_io.VipsSlideReader object at 0x7f0567d17c80> True (375, 300, 3)\n",
      "<Slide, name = B_213-ST_BFIW-SE_1315_processed>, width=300, height=375, channels=3, levels=1, RGB=True, dtype=uint8> <valis.slide_io.VipsSlideReader object at 0x7f0567d1fec0> True (375, 300, 3)\n",
      "<Slide, name = B_213-ST_BFIW-SE_1316_processed>, width=300, height=375, channels=3, levels=1, RGB=True, dtype=uint8> <valis.slide_io.VipsSlideReader object at 0x7f0567d2fc20> True (375, 300, 3)\n",
      "<Slide, name = B_213-ST_BFIW-SE_1317_processed>, width=300, height=375, channels=3, levels=1, RGB=True, dtype=uint8> <valis.slide_io.VipsSlideReader object at 0x7f0567d2fe90> True (375, 300, 3)\n"
     ]
    },
    {
     "name": "stderr",
     "output_type": "stream",
     "text": [
      "Converting images:  50%|███████████████████████▎                       | 1291/2608 [00:17<00:14, 91.95image/s]"
     ]
    },
    {
     "name": "stdout",
     "output_type": "stream",
     "text": [
      "<Slide, name = B_213-ST_BFIW-SE_1318_processed>, width=300, height=375, channels=3, levels=1, RGB=True, dtype=uint8> <valis.slide_io.VipsSlideReader object at 0x7f0567d2c170> True (375, 300, 3)\n",
      "<Slide, name = B_213-ST_BFIW-SE_1319_processed>, width=300, height=375, channels=3, levels=1, RGB=True, dtype=uint8> <valis.slide_io.VipsSlideReader object at 0x7f0567d34110> True (375, 300, 3)\n",
      "<Slide, name = B_213-ST_BFIW-SE_1320_processed>, width=300, height=375, channels=3, levels=1, RGB=True, dtype=uint8> <valis.slide_io.VipsSlideReader object at 0x7f0567d1c140> True (375, 300, 3)\n",
      "<Slide, name = B_213-ST_BFIW-SE_1321_processed>, width=300, height=375, channels=3, levels=1, RGB=True, dtype=uint8> <valis.slide_io.VipsSlideReader object at 0x7f0567d34290> True (375, 300, 3)\n",
      "<Slide, name = B_213-ST_BFIW-SE_1322_processed>, width=300, height=375, channels=3, levels=1, RGB=True, dtype=uint8> <valis.slide_io.VipsSlideReader object at 0x7f0567d1c380> True (375, 300, 3)\n",
      "<Slide, name = B_213-ST_BFIW-SE_1323_processed>, width=300, height=375, channels=3, levels=1, RGB=True, dtype=uint8> <valis.slide_io.VipsSlideReader object at 0x7f0567d2c0e0> True (375, 300, 3)\n",
      "<Slide, name = B_213-ST_BFIW-SE_1324_processed>, width=300, height=375, channels=3, levels=1, RGB=True, dtype=uint8> <valis.slide_io.VipsSlideReader object at 0x7f0567d34050> True (375, 300, 3)\n",
      "<Slide, name = B_213-ST_BFIW-SE_1325_processed>, width=300, height=375, channels=3, levels=1, RGB=True, dtype=uint8> <valis.slide_io.VipsSlideReader object at 0x7f0567d1c470> True (375, 300, 3)\n",
      "<Slide, name = B_213-ST_BFIW-SE_1326_processed>, width=300, height=375, channels=3, levels=1, RGB=True, dtype=uint8> <valis.slide_io.VipsSlideReader object at 0x7f0567d343b0> True (375, 300, 3)\n",
      "<Slide, name = B_213-ST_BFIW-SE_1327_processed>, width=300, height=375, channels=3, levels=1, RGB=True, dtype=uint8> <valis.slide_io.VipsSlideReader object at 0x7f0567d34530> True (375, 300, 3)\n"
     ]
    },
    {
     "name": "stderr",
     "output_type": "stream",
     "text": [
      "Converting images:  50%|███████████████████████▍                       | 1301/2608 [00:17<00:14, 92.68image/s]"
     ]
    },
    {
     "name": "stdout",
     "output_type": "stream",
     "text": [
      "<Slide, name = B_213-ST_BFIW-SE_1328_processed>, width=300, height=375, channels=3, levels=1, RGB=True, dtype=uint8> <valis.slide_io.VipsSlideReader object at 0x7f0567d34680> True (375, 300, 3)\n",
      "<Slide, name = B_213-ST_BFIW-SE_1329_processed>, width=300, height=375, channels=3, levels=1, RGB=True, dtype=uint8> <valis.slide_io.VipsSlideReader object at 0x7f0567d34320> True (375, 300, 3)\n",
      "<Slide, name = B_213-ST_BFIW-SE_1330_processed>, width=300, height=375, channels=3, levels=1, RGB=True, dtype=uint8> <valis.slide_io.VipsSlideReader object at 0x7f0567d34500> True (375, 300, 3)\n",
      "<Slide, name = B_213-ST_BFIW-SE_1331_processed>, width=300, height=375, channels=3, levels=1, RGB=True, dtype=uint8> <valis.slide_io.VipsSlideReader object at 0x7f0567d34770> True (375, 300, 3)\n",
      "<Slide, name = B_213-ST_BFIW-SE_1332_processed>, width=300, height=375, channels=3, levels=1, RGB=True, dtype=uint8> <valis.slide_io.VipsSlideReader object at 0x7f0567d347d0> True (375, 300, 3)\n",
      "<Slide, name = B_213-ST_BFIW-SE_1333_processed>, width=300, height=375, channels=3, levels=1, RGB=True, dtype=uint8> <valis.slide_io.VipsSlideReader object at 0x7f0567d34830> True (375, 300, 3)\n",
      "<Slide, name = B_213-ST_BFIW-SE_1334_processed>, width=300, height=375, channels=3, levels=1, RGB=True, dtype=uint8> <valis.slide_io.VipsSlideReader object at 0x7f0567d34890> True (375, 300, 3)\n",
      "<Slide, name = B_213-ST_BFIW-SE_1335_processed>, width=300, height=375, channels=3, levels=1, RGB=True, dtype=uint8> <valis.slide_io.VipsSlideReader object at 0x7f0567d348f0> True (375, 300, 3)\n",
      "<Slide, name = B_213-ST_BFIW-SE_1336_processed>, width=300, height=375, channels=3, levels=1, RGB=True, dtype=uint8> <valis.slide_io.VipsSlideReader object at 0x7f0567d34950> True (375, 300, 3)\n",
      "<Slide, name = B_213-ST_BFIW-SE_1337_processed>, width=300, height=375, channels=3, levels=1, RGB=True, dtype=uint8> <valis.slide_io.VipsSlideReader object at 0x7f0567d349b0> True (375, 300, 3)\n"
     ]
    },
    {
     "name": "stderr",
     "output_type": "stream",
     "text": [
      "Converting images:  50%|███████████████████████▋                       | 1311/2608 [00:17<00:13, 92.70image/s]"
     ]
    },
    {
     "name": "stdout",
     "output_type": "stream",
     "text": [
      "<Slide, name = B_213-ST_BFIW-SE_1338_processed>, width=300, height=375, channels=3, levels=1, RGB=True, dtype=uint8> <valis.slide_io.VipsSlideReader object at 0x7f0567d34a10> True (375, 300, 3)\n",
      "<Slide, name = B_213-ST_BFIW-SE_1339_processed>, width=300, height=375, channels=3, levels=1, RGB=True, dtype=uint8> <valis.slide_io.VipsSlideReader object at 0x7f0567d34a70> True (375, 300, 3)\n",
      "<Slide, name = B_213-ST_BFIW-SE_1340_processed>, width=300, height=375, channels=3, levels=1, RGB=True, dtype=uint8> <valis.slide_io.VipsSlideReader object at 0x7f0567d34ad0> True (375, 300, 3)\n",
      "<Slide, name = B_213-ST_BFIW-SE_1341_processed>, width=300, height=375, channels=3, levels=1, RGB=True, dtype=uint8> <valis.slide_io.VipsSlideReader object at 0x7f0567d34b30> True (375, 300, 3)\n",
      "<Slide, name = B_213-ST_BFIW-SE_1342_processed>, width=300, height=375, channels=3, levels=1, RGB=True, dtype=uint8> <valis.slide_io.VipsSlideReader object at 0x7f0567d34b90> True (375, 300, 3)\n",
      "<Slide, name = B_213-ST_BFIW-SE_1343_processed>, width=300, height=375, channels=3, levels=1, RGB=True, dtype=uint8> <valis.slide_io.VipsSlideReader object at 0x7f0567d34bf0> True (375, 300, 3)\n",
      "<Slide, name = B_213-ST_BFIW-SE_1344_processed>, width=300, height=375, channels=3, levels=1, RGB=True, dtype=uint8> <valis.slide_io.VipsSlideReader object at 0x7f0567d34c50> True (375, 300, 3)\n",
      "<Slide, name = B_213-ST_BFIW-SE_1345_processed>, width=300, height=375, channels=3, levels=1, RGB=True, dtype=uint8> <valis.slide_io.VipsSlideReader object at 0x7f0567d34cb0> True (375, 300, 3)\n",
      "<Slide, name = B_213-ST_BFIW-SE_1346_processed>, width=300, height=375, channels=3, levels=1, RGB=True, dtype=uint8> <valis.slide_io.VipsSlideReader object at 0x7f0567d34d10> True (375, 300, 3)\n",
      "<Slide, name = B_213-ST_BFIW-SE_1347_processed>, width=300, height=375, channels=3, levels=1, RGB=True, dtype=uint8> <valis.slide_io.VipsSlideReader object at 0x7f0567d34d70> True (375, 300, 3)\n"
     ]
    },
    {
     "name": "stderr",
     "output_type": "stream",
     "text": [
      "Converting images:  51%|███████████████████████▊                       | 1321/2608 [00:17<00:13, 92.94image/s]"
     ]
    },
    {
     "name": "stdout",
     "output_type": "stream",
     "text": [
      "<Slide, name = B_213-ST_BFIW-SE_1348_processed>, width=300, height=375, channels=3, levels=1, RGB=True, dtype=uint8> <valis.slide_io.VipsSlideReader object at 0x7f0567d34dd0> True (375, 300, 3)\n",
      "<Slide, name = B_213-ST_BFIW-SE_1349_processed>, width=300, height=375, channels=3, levels=1, RGB=True, dtype=uint8> <valis.slide_io.VipsSlideReader object at 0x7f0567d34e30> True (375, 300, 3)\n",
      "<Slide, name = B_213-ST_BFIW-SE_1350_processed>, width=300, height=375, channels=3, levels=1, RGB=True, dtype=uint8> <valis.slide_io.VipsSlideReader object at 0x7f0567d34e90> True (375, 300, 3)\n",
      "<Slide, name = B_213-ST_BFIW-SE_1351_processed>, width=300, height=375, channels=3, levels=1, RGB=True, dtype=uint8> <valis.slide_io.VipsSlideReader object at 0x7f0567d34ef0> True (375, 300, 3)\n",
      "<Slide, name = B_213-ST_BFIW-SE_1352_processed>, width=300, height=375, channels=3, levels=1, RGB=True, dtype=uint8> <valis.slide_io.VipsSlideReader object at 0x7f0567d34f50> True (375, 300, 3)\n",
      "<Slide, name = B_213-ST_BFIW-SE_1353_processed>, width=300, height=375, channels=3, levels=1, RGB=True, dtype=uint8> <valis.slide_io.VipsSlideReader object at 0x7f0567d34fb0> True (375, 300, 3)\n",
      "<Slide, name = B_213-ST_BFIW-SE_1354_processed>, width=300, height=375, channels=3, levels=1, RGB=True, dtype=uint8> <valis.slide_io.VipsSlideReader object at 0x7f0567d35010> True (375, 300, 3)\n",
      "<Slide, name = B_213-ST_BFIW-SE_1355_processed>, width=300, height=375, channels=3, levels=1, RGB=True, dtype=uint8> <valis.slide_io.VipsSlideReader object at 0x7f0567d35070> True (375, 300, 3)\n",
      "<Slide, name = B_213-ST_BFIW-SE_1356_processed>, width=300, height=375, channels=3, levels=1, RGB=True, dtype=uint8> <valis.slide_io.VipsSlideReader object at 0x7f0567d350d0> True (375, 300, 3)\n",
      "<Slide, name = B_213-ST_BFIW-SE_1357_processed>, width=300, height=375, channels=3, levels=1, RGB=True, dtype=uint8> <valis.slide_io.VipsSlideReader object at 0x7f0567d35130> True (375, 300, 3)\n"
     ]
    },
    {
     "name": "stderr",
     "output_type": "stream",
     "text": [
      "Converting images:  51%|███████████████████████▉                       | 1331/2608 [00:17<00:13, 92.09image/s]"
     ]
    },
    {
     "name": "stdout",
     "output_type": "stream",
     "text": [
      "<Slide, name = B_213-ST_BFIW-SE_1358_processed>, width=300, height=375, channels=3, levels=1, RGB=True, dtype=uint8> <valis.slide_io.VipsSlideReader object at 0x7f0567d35190> True (375, 300, 3)\n",
      "<Slide, name = B_213-ST_BFIW-SE_1359_processed>, width=300, height=375, channels=3, levels=1, RGB=True, dtype=uint8> <valis.slide_io.VipsSlideReader object at 0x7f0567d351f0> True (375, 300, 3)\n",
      "<Slide, name = B_213-ST_BFIW-SE_1360_processed>, width=300, height=375, channels=3, levels=1, RGB=True, dtype=uint8> <valis.slide_io.VipsSlideReader object at 0x7f0567d35250> True (375, 300, 3)\n",
      "<Slide, name = B_213-ST_BFIW-SE_1361_processed>, width=300, height=375, channels=3, levels=1, RGB=True, dtype=uint8> <valis.slide_io.VipsSlideReader object at 0x7f0567d352b0> True (375, 300, 3)\n",
      "<Slide, name = B_213-ST_BFIW-SE_1362_processed>, width=300, height=375, channels=3, levels=1, RGB=True, dtype=uint8> <valis.slide_io.VipsSlideReader object at 0x7f0567d35310> True (375, 300, 3)\n",
      "<Slide, name = B_213-ST_BFIW-SE_1363_processed>, width=300, height=375, channels=3, levels=1, RGB=True, dtype=uint8> <valis.slide_io.VipsSlideReader object at 0x7f0567d35370> True (375, 300, 3)\n",
      "<Slide, name = B_213-ST_BFIW-SE_1364_processed>, width=300, height=375, channels=3, levels=1, RGB=True, dtype=uint8> <valis.slide_io.VipsSlideReader object at 0x7f0567d35400> True (375, 300, 3)\n",
      "<Slide, name = B_213-ST_BFIW-SE_1365_processed>, width=300, height=375, channels=3, levels=1, RGB=True, dtype=uint8> <valis.slide_io.VipsSlideReader object at 0x7f0567d35460> True (375, 300, 3)\n",
      "<Slide, name = B_213-ST_BFIW-SE_1366_processed>, width=300, height=375, channels=3, levels=1, RGB=True, dtype=uint8> <valis.slide_io.VipsSlideReader object at 0x7f0567d354c0> True (375, 300, 3)\n",
      "<Slide, name = B_213-ST_BFIW-SE_1367_processed>, width=300, height=375, channels=3, levels=1, RGB=True, dtype=uint8> <valis.slide_io.VipsSlideReader object at 0x7f0567d35520> True (375, 300, 3)\n"
     ]
    },
    {
     "name": "stderr",
     "output_type": "stream",
     "text": [
      "Converting images:  51%|████████████████████████▏                      | 1341/2608 [00:18<00:14, 89.59image/s]"
     ]
    },
    {
     "name": "stdout",
     "output_type": "stream",
     "text": [
      "<Slide, name = B_213-ST_BFIW-SE_1368_processed>, width=300, height=375, channels=3, levels=1, RGB=True, dtype=uint8> <valis.slide_io.VipsSlideReader object at 0x7f0567d35580> True (375, 300, 3)\n",
      "<Slide, name = B_213-ST_BFIW-SE_1369_processed>, width=300, height=375, channels=3, levels=1, RGB=True, dtype=uint8> <valis.slide_io.VipsSlideReader object at 0x7f0567d355e0> True (375, 300, 3)\n",
      "<Slide, name = B_213-ST_BFIW-SE_1370_processed>, width=300, height=375, channels=3, levels=1, RGB=True, dtype=uint8> <valis.slide_io.VipsSlideReader object at 0x7f0567d35640> True (375, 300, 3)\n",
      "<Slide, name = B_213-ST_BFIW-SE_1371_processed>, width=300, height=375, channels=3, levels=1, RGB=True, dtype=uint8> <valis.slide_io.VipsSlideReader object at 0x7f0567d356d0> True (375, 300, 3)\n",
      "<Slide, name = B_213-ST_BFIW-SE_1372_processed>, width=300, height=375, channels=3, levels=1, RGB=True, dtype=uint8> <valis.slide_io.VipsSlideReader object at 0x7f0567d35730> True (375, 300, 3)\n",
      "<Slide, name = B_213-ST_BFIW-SE_1373_processed>, width=300, height=375, channels=3, levels=1, RGB=True, dtype=uint8> <valis.slide_io.VipsSlideReader object at 0x7f0567d35790> True (375, 300, 3)\n",
      "<Slide, name = B_213-ST_BFIW-SE_1374_processed>, width=300, height=375, channels=3, levels=1, RGB=True, dtype=uint8> <valis.slide_io.VipsSlideReader object at 0x7f0567d357f0> True (375, 300, 3)\n",
      "<Slide, name = B_213-ST_BFIW-SE_1375_processed>, width=300, height=375, channels=3, levels=1, RGB=True, dtype=uint8> <valis.slide_io.VipsSlideReader object at 0x7f0567d35850> True (375, 300, 3)\n",
      "<Slide, name = B_213-ST_BFIW-SE_1376_processed>, width=300, height=375, channels=3, levels=1, RGB=True, dtype=uint8> <valis.slide_io.VipsSlideReader object at 0x7f0567d358b0> True (375, 300, 3)\n",
      "<Slide, name = B_213-ST_BFIW-SE_1377_processed>, width=300, height=375, channels=3, levels=1, RGB=True, dtype=uint8> <valis.slide_io.VipsSlideReader object at 0x7f0567d35910> True (375, 300, 3)\n"
     ]
    },
    {
     "name": "stderr",
     "output_type": "stream",
     "text": [
      "Converting images:  52%|████████████████████████▎                      | 1351/2608 [00:18<00:14, 89.73image/s]"
     ]
    },
    {
     "name": "stdout",
     "output_type": "stream",
     "text": [
      "<Slide, name = B_213-ST_BFIW-SE_1378_processed>, width=300, height=375, channels=3, levels=1, RGB=True, dtype=uint8> <valis.slide_io.VipsSlideReader object at 0x7f0567d35970> True (375, 300, 3)\n",
      "<Slide, name = B_213-ST_BFIW-SE_1379_processed>, width=300, height=375, channels=3, levels=1, RGB=True, dtype=uint8> <valis.slide_io.VipsSlideReader object at 0x7f0567d359d0> True (375, 300, 3)\n",
      "<Slide, name = B_213-ST_BFIW-SE_1380_processed>, width=300, height=375, channels=3, levels=1, RGB=True, dtype=uint8> <valis.slide_io.VipsSlideReader object at 0x7f0567d35a30> True (375, 300, 3)\n",
      "<Slide, name = B_213-ST_BFIW-SE_1381_processed>, width=300, height=375, channels=3, levels=1, RGB=True, dtype=uint8> <valis.slide_io.VipsSlideReader object at 0x7f0567d35a90> True (375, 300, 3)\n",
      "<Slide, name = B_213-ST_BFIW-SE_1382_processed>, width=300, height=375, channels=3, levels=1, RGB=True, dtype=uint8> <valis.slide_io.VipsSlideReader object at 0x7f0567d35af0> True (375, 300, 3)\n",
      "<Slide, name = B_213-ST_BFIW-SE_1383_processed>, width=300, height=375, channels=3, levels=1, RGB=True, dtype=uint8> <valis.slide_io.VipsSlideReader object at 0x7f0567d35b50> True (375, 300, 3)\n",
      "<Slide, name = B_213-ST_BFIW-SE_1384_processed>, width=300, height=375, channels=3, levels=1, RGB=True, dtype=uint8> <valis.slide_io.VipsSlideReader object at 0x7f0567d35bb0> True (375, 300, 3)\n",
      "<Slide, name = B_213-ST_BFIW-SE_1385_processed>, width=300, height=375, channels=3, levels=1, RGB=True, dtype=uint8> <valis.slide_io.VipsSlideReader object at 0x7f0567d35c10> True (375, 300, 3)\n",
      "<Slide, name = B_213-ST_BFIW-SE_1386_processed>, width=300, height=375, channels=3, levels=1, RGB=True, dtype=uint8> <valis.slide_io.VipsSlideReader object at 0x7f0567d35c70> True (375, 300, 3)\n"
     ]
    },
    {
     "name": "stderr",
     "output_type": "stream",
     "text": [
      "Converting images:  52%|████████████████████████▌                      | 1360/2608 [00:18<00:13, 89.41image/s]"
     ]
    },
    {
     "name": "stdout",
     "output_type": "stream",
     "text": [
      "<Slide, name = B_213-ST_BFIW-SE_1387_processed>, width=300, height=375, channels=3, levels=1, RGB=True, dtype=uint8> <valis.slide_io.VipsSlideReader object at 0x7f0567d35cd0> True (375, 300, 3)\n",
      "<Slide, name = B_213-ST_BFIW-SE_1388_processed>, width=300, height=375, channels=3, levels=1, RGB=True, dtype=uint8> <valis.slide_io.VipsSlideReader object at 0x7f0567d35d30> True (375, 300, 3)\n",
      "<Slide, name = B_213-ST_BFIW-SE_1389_processed>, width=300, height=375, channels=3, levels=1, RGB=True, dtype=uint8> <valis.slide_io.VipsSlideReader object at 0x7f0567d35d90> True (375, 300, 3)\n",
      "<Slide, name = B_213-ST_BFIW-SE_1390_processed>, width=300, height=375, channels=3, levels=1, RGB=True, dtype=uint8> <valis.slide_io.VipsSlideReader object at 0x7f0567d35df0> True (375, 300, 3)\n",
      "<Slide, name = B_213-ST_BFIW-SE_1391_processed>, width=300, height=375, channels=3, levels=1, RGB=True, dtype=uint8> <valis.slide_io.VipsSlideReader object at 0x7f0567d35e50> True (375, 300, 3)\n",
      "<Slide, name = B_213-ST_BFIW-SE_1392_processed>, width=300, height=375, channels=3, levels=1, RGB=True, dtype=uint8> <valis.slide_io.VipsSlideReader object at 0x7f0567d35eb0> True (375, 300, 3)\n",
      "<Slide, name = B_213-ST_BFIW-SE_1393_processed>, width=300, height=375, channels=3, levels=1, RGB=True, dtype=uint8> <valis.slide_io.VipsSlideReader object at 0x7f0567d35f10> True (375, 300, 3)\n",
      "<Slide, name = B_213-ST_BFIW-SE_1394_processed>, width=300, height=375, channels=3, levels=1, RGB=True, dtype=uint8> <valis.slide_io.VipsSlideReader object at 0x7f0567d35f70> True (375, 300, 3)\n",
      "<Slide, name = B_213-ST_BFIW-SE_1395_processed>, width=300, height=375, channels=3, levels=1, RGB=True, dtype=uint8> <valis.slide_io.VipsSlideReader object at 0x7f0567d35fd0> True (375, 300, 3)\n"
     ]
    },
    {
     "name": "stderr",
     "output_type": "stream",
     "text": [
      "Converting images:  52%|████████████████████████▋                      | 1369/2608 [00:18<00:13, 89.20image/s]"
     ]
    },
    {
     "name": "stdout",
     "output_type": "stream",
     "text": [
      "<Slide, name = B_213-ST_BFIW-SE_1396_processed>, width=300, height=375, channels=3, levels=1, RGB=True, dtype=uint8> <valis.slide_io.VipsSlideReader object at 0x7f0567d36030> True (375, 300, 3)\n",
      "<Slide, name = B_213-ST_BFIW-SE_1397_processed>, width=300, height=375, channels=3, levels=1, RGB=True, dtype=uint8> <valis.slide_io.VipsSlideReader object at 0x7f0567d36090> True (375, 300, 3)\n",
      "<Slide, name = B_213-ST_BFIW-SE_1398_processed>, width=300, height=375, channels=3, levels=1, RGB=True, dtype=uint8> <valis.slide_io.VipsSlideReader object at 0x7f0567d360f0> True (375, 300, 3)\n",
      "<Slide, name = B_213-ST_BFIW-SE_1399_processed>, width=300, height=375, channels=3, levels=1, RGB=True, dtype=uint8> <valis.slide_io.VipsSlideReader object at 0x7f0567d36150> True (375, 300, 3)\n",
      "<Slide, name = B_213-ST_BFIW-SE_1400_processed>, width=300, height=375, channels=3, levels=1, RGB=True, dtype=uint8> <valis.slide_io.VipsSlideReader object at 0x7f0567d361b0> True (375, 300, 3)\n",
      "<Slide, name = B_213-ST_BFIW-SE_1401_processed>, width=300, height=375, channels=3, levels=1, RGB=True, dtype=uint8> <valis.slide_io.VipsSlideReader object at 0x7f0567d36210> True (375, 300, 3)\n",
      "<Slide, name = B_213-ST_BFIW-SE_1402_processed>, width=300, height=375, channels=3, levels=1, RGB=True, dtype=uint8> <valis.slide_io.VipsSlideReader object at 0x7f0567d36270> True (375, 300, 3)\n",
      "<Slide, name = B_213-ST_BFIW-SE_1403_processed>, width=300, height=375, channels=3, levels=1, RGB=True, dtype=uint8> <valis.slide_io.VipsSlideReader object at 0x7f0567d362d0> True (375, 300, 3)\n",
      "<Slide, name = B_213-ST_BFIW-SE_1404_processed>, width=300, height=375, channels=3, levels=1, RGB=True, dtype=uint8> <valis.slide_io.VipsSlideReader object at 0x7f0567d36330> True (375, 300, 3)\n"
     ]
    },
    {
     "name": "stderr",
     "output_type": "stream",
     "text": [
      "Converting images:  53%|████████████████████████▊                      | 1378/2608 [00:18<00:13, 88.94image/s]"
     ]
    },
    {
     "name": "stdout",
     "output_type": "stream",
     "text": [
      "<Slide, name = B_213-ST_BFIW-SE_1405_processed>, width=300, height=375, channels=3, levels=1, RGB=True, dtype=uint8> <valis.slide_io.VipsSlideReader object at 0x7f0567d36390> True (375, 300, 3)\n",
      "<Slide, name = B_213-ST_BFIW-SE_1406_processed>, width=300, height=375, channels=3, levels=1, RGB=True, dtype=uint8> <valis.slide_io.VipsSlideReader object at 0x7f0567d363f0> True (375, 300, 3)\n",
      "<Slide, name = B_213-ST_BFIW-SE_1407_processed>, width=300, height=375, channels=3, levels=1, RGB=True, dtype=uint8> <valis.slide_io.VipsSlideReader object at 0x7f0567d36450> True (375, 300, 3)\n",
      "<Slide, name = B_213-ST_BFIW-SE_1408_processed>, width=300, height=375, channels=3, levels=1, RGB=True, dtype=uint8> <valis.slide_io.VipsSlideReader object at 0x7f0567d364b0> True (375, 300, 3)\n",
      "<Slide, name = B_213-ST_BFIW-SE_1409_processed>, width=300, height=375, channels=3, levels=1, RGB=True, dtype=uint8> <valis.slide_io.VipsSlideReader object at 0x7f0567d36510> True (375, 300, 3)\n",
      "<Slide, name = B_213-ST_BFIW-SE_1410_processed>, width=300, height=375, channels=3, levels=1, RGB=True, dtype=uint8> <valis.slide_io.VipsSlideReader object at 0x7f0567d36570> True (375, 300, 3)\n",
      "<Slide, name = B_213-ST_BFIW-SE_1411_processed>, width=300, height=375, channels=3, levels=1, RGB=True, dtype=uint8> <valis.slide_io.VipsSlideReader object at 0x7f0567d365d0> True (375, 300, 3)\n",
      "<Slide, name = B_213-ST_BFIW-SE_1412_processed>, width=300, height=375, channels=3, levels=1, RGB=True, dtype=uint8> <valis.slide_io.VipsSlideReader object at 0x7f0567d36630> True (375, 300, 3)\n",
      "<Slide, name = B_213-ST_BFIW-SE_1413_processed>, width=300, height=375, channels=3, levels=1, RGB=True, dtype=uint8> <valis.slide_io.VipsSlideReader object at 0x7f0567d36690> True (375, 300, 3)\n"
     ]
    },
    {
     "name": "stderr",
     "output_type": "stream",
     "text": [
      "Converting images:  53%|████████████████████████▉                      | 1387/2608 [00:18<00:14, 85.97image/s]"
     ]
    },
    {
     "name": "stdout",
     "output_type": "stream",
     "text": [
      "<Slide, name = B_213-ST_BFIW-SE_1414_processed>, width=300, height=375, channels=3, levels=1, RGB=True, dtype=uint8> <valis.slide_io.VipsSlideReader object at 0x7f0567d366f0> True (375, 300, 3)\n",
      "<Slide, name = B_213-ST_BFIW-SE_1415_processed>, width=300, height=375, channels=3, levels=1, RGB=True, dtype=uint8> <valis.slide_io.VipsSlideReader object at 0x7f0567d36750> True (375, 300, 3)\n",
      "<Slide, name = B_213-ST_BFIW-SE_1416_processed>, width=300, height=375, channels=3, levels=1, RGB=True, dtype=uint8> <valis.slide_io.VipsSlideReader object at 0x7f0567d367b0> True (375, 300, 3)\n",
      "<Slide, name = B_213-ST_BFIW-SE_1417_processed>, width=300, height=375, channels=3, levels=1, RGB=True, dtype=uint8> <valis.slide_io.VipsSlideReader object at 0x7f0567d36810> True (375, 300, 3)\n",
      "<Slide, name = B_213-ST_BFIW-SE_1418_processed>, width=300, height=375, channels=3, levels=1, RGB=True, dtype=uint8> <valis.slide_io.VipsSlideReader object at 0x7f0567d36870> True (375, 300, 3)\n",
      "<Slide, name = B_213-ST_BFIW-SE_1419_processed>, width=300, height=375, channels=3, levels=1, RGB=True, dtype=uint8> <valis.slide_io.VipsSlideReader object at 0x7f0567d368d0> True (375, 300, 3)\n",
      "<Slide, name = B_213-ST_BFIW-SE_1420_processed>, width=300, height=375, channels=3, levels=1, RGB=True, dtype=uint8> <valis.slide_io.VipsSlideReader object at 0x7f0567d36930> True (375, 300, 3)\n",
      "<Slide, name = B_213-ST_BFIW-SE_1421_processed>, width=300, height=375, channels=3, levels=1, RGB=True, dtype=uint8> <valis.slide_io.VipsSlideReader object at 0x7f0567d36990> True (375, 300, 3)\n",
      "<Slide, name = B_213-ST_BFIW-SE_1422_processed>, width=300, height=375, channels=3, levels=1, RGB=True, dtype=uint8> <valis.slide_io.VipsSlideReader object at 0x7f0567d36a20> True (375, 300, 3)\n"
     ]
    },
    {
     "name": "stderr",
     "output_type": "stream",
     "text": [
      "Converting images:  54%|█████████████████████████▏                     | 1396/2608 [00:18<00:14, 84.20image/s]"
     ]
    },
    {
     "name": "stdout",
     "output_type": "stream",
     "text": [
      "<Slide, name = B_213-ST_BFIW-SE_1423_processed>, width=300, height=375, channels=3, levels=1, RGB=True, dtype=uint8> <valis.slide_io.VipsSlideReader object at 0x7f0567d36a80> True (375, 300, 3)\n",
      "<Slide, name = B_213-ST_BFIW-SE_1424_processed>, width=300, height=375, channels=3, levels=1, RGB=True, dtype=uint8> <valis.slide_io.VipsSlideReader object at 0x7f0567d36ae0> True (375, 300, 3)\n",
      "<Slide, name = B_213-ST_BFIW-SE_1425_processed>, width=300, height=375, channels=3, levels=1, RGB=True, dtype=uint8> <valis.slide_io.VipsSlideReader object at 0x7f0567d36b40> True (375, 300, 3)\n",
      "<Slide, name = B_213-ST_BFIW-SE_1426_processed>, width=300, height=375, channels=3, levels=1, RGB=True, dtype=uint8> <valis.slide_io.VipsSlideReader object at 0x7f0567d36ba0> True (375, 300, 3)\n",
      "<Slide, name = B_213-ST_BFIW-SE_1427_processed>, width=300, height=375, channels=3, levels=1, RGB=True, dtype=uint8> <valis.slide_io.VipsSlideReader object at 0x7f0567d36c00> True (375, 300, 3)\n",
      "<Slide, name = B_213-ST_BFIW-SE_1428_processed>, width=300, height=375, channels=3, levels=1, RGB=True, dtype=uint8> <valis.slide_io.VipsSlideReader object at 0x7f0567d36c60> True (375, 300, 3)\n",
      "<Slide, name = B_213-ST_BFIW-SE_1429_processed>, width=300, height=375, channels=3, levels=1, RGB=True, dtype=uint8> <valis.slide_io.VipsSlideReader object at 0x7f0567d36cc0> True (375, 300, 3)\n",
      "<Slide, name = B_213-ST_BFIW-SE_1430_processed>, width=300, height=375, channels=3, levels=1, RGB=True, dtype=uint8> <valis.slide_io.VipsSlideReader object at 0x7f0567d36d20> True (375, 300, 3)\n",
      "<Slide, name = B_213-ST_BFIW-SE_1431_processed>, width=300, height=375, channels=3, levels=1, RGB=True, dtype=uint8> <valis.slide_io.VipsSlideReader object at 0x7f0567d36d80> True (375, 300, 3)\n"
     ]
    },
    {
     "name": "stderr",
     "output_type": "stream",
     "text": [
      "Converting images:  54%|█████████████████████████▎                     | 1405/2608 [00:18<00:15, 80.02image/s]"
     ]
    },
    {
     "name": "stdout",
     "output_type": "stream",
     "text": [
      "<Slide, name = B_213-ST_BFIW-SE_1432_processed>, width=300, height=375, channels=3, levels=1, RGB=True, dtype=uint8> <valis.slide_io.VipsSlideReader object at 0x7f0567d36de0> True (375, 300, 3)\n",
      "<Slide, name = B_213-ST_BFIW-SE_1433_processed>, width=300, height=375, channels=3, levels=1, RGB=True, dtype=uint8> <valis.slide_io.VipsSlideReader object at 0x7f0567d36e40> True (375, 300, 3)\n",
      "<Slide, name = B_213-ST_BFIW-SE_1434_processed>, width=300, height=375, channels=3, levels=1, RGB=True, dtype=uint8> <valis.slide_io.VipsSlideReader object at 0x7f0567d36ea0> True (375, 300, 3)\n",
      "<Slide, name = B_213-ST_BFIW-SE_1435_processed>, width=300, height=375, channels=3, levels=1, RGB=True, dtype=uint8> <valis.slide_io.VipsSlideReader object at 0x7f0567d36f00> True (375, 300, 3)\n",
      "<Slide, name = B_213-ST_BFIW-SE_1436_processed>, width=300, height=375, channels=3, levels=1, RGB=True, dtype=uint8> <valis.slide_io.VipsSlideReader object at 0x7f0567d36f60> True (375, 300, 3)\n",
      "<Slide, name = B_213-ST_BFIW-SE_1437_processed>, width=300, height=375, channels=3, levels=1, RGB=True, dtype=uint8> <valis.slide_io.VipsSlideReader object at 0x7f0567d36fc0> True (375, 300, 3)\n",
      "<Slide, name = B_213-ST_BFIW-SE_1438_processed>, width=300, height=375, channels=3, levels=1, RGB=True, dtype=uint8> <valis.slide_io.VipsSlideReader object at 0x7f0567d37020> True (375, 300, 3)\n",
      "<Slide, name = B_213-ST_BFIW-SE_1439_processed>, width=300, height=375, channels=3, levels=1, RGB=True, dtype=uint8> <valis.slide_io.VipsSlideReader object at 0x7f0567d37080> True (375, 300, 3)\n",
      "<Slide, name = B_213-ST_BFIW-SE_1440_processed>, width=300, height=375, channels=3, levels=1, RGB=True, dtype=uint8> <valis.slide_io.VipsSlideReader object at 0x7f0567d370e0> True (375, 300, 3)\n"
     ]
    },
    {
     "name": "stderr",
     "output_type": "stream",
     "text": [
      "Converting images:  54%|█████████████████████████▍                     | 1414/2608 [00:19<00:15, 78.11image/s]"
     ]
    },
    {
     "name": "stdout",
     "output_type": "stream",
     "text": [
      "<Slide, name = B_213-ST_BFIW-SE_1441_processed>, width=300, height=375, channels=3, levels=1, RGB=True, dtype=uint8> <valis.slide_io.VipsSlideReader object at 0x7f0567d37140> True (375, 300, 3)\n",
      "<Slide, name = B_213-ST_BFIW-SE_1442_processed>, width=300, height=375, channels=3, levels=1, RGB=True, dtype=uint8> <valis.slide_io.VipsSlideReader object at 0x7f0567d371a0> True (375, 300, 3)\n",
      "<Slide, name = B_213-ST_BFIW-SE_1443_processed>, width=300, height=375, channels=3, levels=1, RGB=True, dtype=uint8> <valis.slide_io.VipsSlideReader object at 0x7f0567d37200> True (375, 300, 3)\n",
      "<Slide, name = B_213-ST_BFIW-SE_1444_processed>, width=300, height=375, channels=3, levels=1, RGB=True, dtype=uint8> <valis.slide_io.VipsSlideReader object at 0x7f0567d37260> True (375, 300, 3)\n",
      "<Slide, name = B_213-ST_BFIW-SE_1445_processed>, width=300, height=375, channels=3, levels=1, RGB=True, dtype=uint8> <valis.slide_io.VipsSlideReader object at 0x7f0567d372c0> True (375, 300, 3)\n",
      "<Slide, name = B_213-ST_BFIW-SE_1446_processed>, width=300, height=375, channels=3, levels=1, RGB=True, dtype=uint8> <valis.slide_io.VipsSlideReader object at 0x7f0567d37320> True (375, 300, 3)\n",
      "<Slide, name = B_213-ST_BFIW-SE_1447_processed>, width=300, height=375, channels=3, levels=1, RGB=True, dtype=uint8> <valis.slide_io.VipsSlideReader object at 0x7f0567d37380> True (375, 300, 3)\n",
      "<Slide, name = B_213-ST_BFIW-SE_1448_processed>, width=300, height=375, channels=3, levels=1, RGB=True, dtype=uint8> <valis.slide_io.VipsSlideReader object at 0x7f0567d373e0> True (375, 300, 3)\n"
     ]
    },
    {
     "name": "stderr",
     "output_type": "stream",
     "text": [
      "Converting images:  55%|█████████████████████████▋                     | 1422/2608 [00:19<00:15, 76.98image/s]"
     ]
    },
    {
     "name": "stdout",
     "output_type": "stream",
     "text": [
      "<Slide, name = B_213-ST_BFIW-SE_1449_processed>, width=300, height=375, channels=3, levels=1, RGB=True, dtype=uint8> <valis.slide_io.VipsSlideReader object at 0x7f0567d37440> True (375, 300, 3)\n",
      "<Slide, name = B_213-ST_BFIW-SE_1451_processed>, width=300, height=375, channels=3, levels=1, RGB=True, dtype=uint8> <valis.slide_io.VipsSlideReader object at 0x7f0567d374a0> True (375, 300, 3)\n",
      "<Slide, name = B_213-ST_BFIW-SE_1452_processed>, width=300, height=375, channels=3, levels=1, RGB=True, dtype=uint8> <valis.slide_io.VipsSlideReader object at 0x7f0567d37500> True (375, 300, 3)\n",
      "<Slide, name = B_213-ST_BFIW-SE_1453_processed>, width=300, height=375, channels=3, levels=1, RGB=True, dtype=uint8> <valis.slide_io.VipsSlideReader object at 0x7f0567d37560> True (375, 300, 3)\n",
      "<Slide, name = B_213-ST_BFIW-SE_1454_processed>, width=300, height=375, channels=3, levels=1, RGB=True, dtype=uint8> <valis.slide_io.VipsSlideReader object at 0x7f0567d375c0> True (375, 300, 3)\n",
      "<Slide, name = B_213-ST_BFIW-SE_1455_processed>, width=300, height=375, channels=3, levels=1, RGB=True, dtype=uint8> <valis.slide_io.VipsSlideReader object at 0x7f0567d37620> True (375, 300, 3)\n",
      "<Slide, name = B_213-ST_BFIW-SE_1456_processed>, width=300, height=375, channels=3, levels=1, RGB=True, dtype=uint8> <valis.slide_io.VipsSlideReader object at 0x7f0567d37680> True (375, 300, 3)\n",
      "<Slide, name = B_213-ST_BFIW-SE_1457_processed>, width=300, height=375, channels=3, levels=1, RGB=True, dtype=uint8> <valis.slide_io.VipsSlideReader object at 0x7f0567d376e0> True (375, 300, 3)\n"
     ]
    },
    {
     "name": "stderr",
     "output_type": "stream",
     "text": [
      "Converting images:  55%|█████████████████████████▊                     | 1430/2608 [00:19<00:15, 74.20image/s]"
     ]
    },
    {
     "name": "stdout",
     "output_type": "stream",
     "text": [
      "<Slide, name = B_213-ST_BFIW-SE_1458_processed>, width=300, height=375, channels=3, levels=1, RGB=True, dtype=uint8> <valis.slide_io.VipsSlideReader object at 0x7f0567d37740> True (375, 300, 3)\n",
      "<Slide, name = B_213-ST_BFIW-SE_1459_processed>, width=300, height=375, channels=3, levels=1, RGB=True, dtype=uint8> <valis.slide_io.VipsSlideReader object at 0x7f0567d377a0> True (375, 300, 3)\n",
      "<Slide, name = B_213-ST_BFIW-SE_1460_processed>, width=300, height=375, channels=3, levels=1, RGB=True, dtype=uint8> <valis.slide_io.VipsSlideReader object at 0x7f0567d37800> True (375, 300, 3)\n",
      "<Slide, name = B_213-ST_BFIW-SE_1461_processed>, width=300, height=375, channels=3, levels=1, RGB=True, dtype=uint8> <valis.slide_io.VipsSlideReader object at 0x7f0567d37860> True (375, 300, 3)\n",
      "<Slide, name = B_213-ST_BFIW-SE_1462_processed>, width=300, height=375, channels=3, levels=1, RGB=True, dtype=uint8> <valis.slide_io.VipsSlideReader object at 0x7f0567d378c0> True (375, 300, 3)\n",
      "<Slide, name = B_213-ST_BFIW-SE_1463_processed>, width=300, height=375, channels=3, levels=1, RGB=True, dtype=uint8> <valis.slide_io.VipsSlideReader object at 0x7f0567d37920> True (375, 300, 3)\n",
      "<Slide, name = B_213-ST_BFIW-SE_1464_processed>, width=300, height=375, channels=3, levels=1, RGB=True, dtype=uint8> <valis.slide_io.VipsSlideReader object at 0x7f0567d37980> True (375, 300, 3)\n",
      "<Slide, name = B_213-ST_BFIW-SE_1465_processed>, width=300, height=375, channels=3, levels=1, RGB=True, dtype=uint8> <valis.slide_io.VipsSlideReader object at 0x7f0567d379e0> True (375, 300, 3)\n"
     ]
    },
    {
     "name": "stderr",
     "output_type": "stream",
     "text": [
      "Converting images:  55%|█████████████████████████▉                     | 1438/2608 [00:19<00:15, 74.47image/s]"
     ]
    },
    {
     "name": "stdout",
     "output_type": "stream",
     "text": [
      "<Slide, name = B_213-ST_BFIW-SE_1466_processed>, width=300, height=375, channels=3, levels=1, RGB=True, dtype=uint8> <valis.slide_io.VipsSlideReader object at 0x7f0567d37a40> True (375, 300, 3)\n",
      "<Slide, name = B_213-ST_BFIW-SE_1467_processed>, width=300, height=375, channels=3, levels=1, RGB=True, dtype=uint8> <valis.slide_io.VipsSlideReader object at 0x7f0567d37aa0> True (375, 300, 3)\n",
      "<Slide, name = B_213-ST_BFIW-SE_1468_processed>, width=300, height=375, channels=3, levels=1, RGB=True, dtype=uint8> <valis.slide_io.VipsSlideReader object at 0x7f0567d37b00> True (375, 300, 3)\n",
      "<Slide, name = B_213-ST_BFIW-SE_1469_processed>, width=300, height=375, channels=3, levels=1, RGB=True, dtype=uint8> <valis.slide_io.VipsSlideReader object at 0x7f0567d37b60> True (375, 300, 3)\n",
      "<Slide, name = B_213-ST_BFIW-SE_1470_processed>, width=300, height=375, channels=3, levels=1, RGB=True, dtype=uint8> <valis.slide_io.VipsSlideReader object at 0x7f0567d37bc0> True (375, 300, 3)\n",
      "<Slide, name = B_213-ST_BFIW-SE_1471_processed>, width=300, height=375, channels=3, levels=1, RGB=True, dtype=uint8> <valis.slide_io.VipsSlideReader object at 0x7f0567d37c20> True (375, 300, 3)\n",
      "<Slide, name = B_213-ST_BFIW-SE_1472_processed>, width=300, height=375, channels=3, levels=1, RGB=True, dtype=uint8> <valis.slide_io.VipsSlideReader object at 0x7f0567d37c80> True (375, 300, 3)\n",
      "<Slide, name = B_213-ST_BFIW-SE_1473_processed>, width=300, height=375, channels=3, levels=1, RGB=True, dtype=uint8> <valis.slide_io.VipsSlideReader object at 0x7f0567d37ce0> True (375, 300, 3)\n"
     ]
    },
    {
     "name": "stderr",
     "output_type": "stream",
     "text": [
      "Converting images:  55%|██████████████████████████                     | 1446/2608 [00:19<00:15, 74.38image/s]"
     ]
    },
    {
     "name": "stdout",
     "output_type": "stream",
     "text": [
      "<Slide, name = B_213-ST_BFIW-SE_1474_processed>, width=300, height=375, channels=3, levels=1, RGB=True, dtype=uint8> <valis.slide_io.VipsSlideReader object at 0x7f0567d37d40> True (375, 300, 3)\n",
      "<Slide, name = B_213-ST_BFIW-SE_1475_processed>, width=300, height=375, channels=3, levels=1, RGB=True, dtype=uint8> <valis.slide_io.VipsSlideReader object at 0x7f0567d37da0> True (375, 300, 3)\n",
      "<Slide, name = B_213-ST_BFIW-SE_1476_processed>, width=300, height=375, channels=3, levels=1, RGB=True, dtype=uint8> <valis.slide_io.VipsSlideReader object at 0x7f0567d37e00> True (375, 300, 3)\n",
      "<Slide, name = B_213-ST_BFIW-SE_1477_processed>, width=300, height=375, channels=3, levels=1, RGB=True, dtype=uint8> <valis.slide_io.VipsSlideReader object at 0x7f0567d37e60> True (375, 300, 3)\n",
      "<Slide, name = B_213-ST_BFIW-SE_1478_processed>, width=300, height=375, channels=3, levels=1, RGB=True, dtype=uint8> <valis.slide_io.VipsSlideReader object at 0x7f0567d37ec0> True (375, 300, 3)\n",
      "<Slide, name = B_213-ST_BFIW-SE_1479_processed>, width=300, height=375, channels=3, levels=1, RGB=True, dtype=uint8> <valis.slide_io.VipsSlideReader object at 0x7f0567d37f50> True (375, 300, 3)\n",
      "<Slide, name = B_213-ST_BFIW-SE_1480_processed>, width=300, height=375, channels=3, levels=1, RGB=True, dtype=uint8> <valis.slide_io.VipsSlideReader object at 0x7f0567d37ef0> True (375, 300, 3)\n",
      "<Slide, name = B_213-ST_BFIW-SE_1481_processed>, width=300, height=375, channels=3, levels=1, RGB=True, dtype=uint8> <valis.slide_io.VipsSlideReader object at 0x7f0567d37d70> True (375, 300, 3)\n"
     ]
    },
    {
     "name": "stderr",
     "output_type": "stream",
     "text": [
      "Converting images:  56%|██████████████████████████▏                    | 1454/2608 [00:19<00:15, 74.38image/s]"
     ]
    },
    {
     "name": "stdout",
     "output_type": "stream",
     "text": [
      "<Slide, name = B_213-ST_BFIW-SE_1482_processed>, width=300, height=375, channels=3, levels=1, RGB=True, dtype=uint8> <valis.slide_io.VipsSlideReader object at 0x7f0567d37fe0> True (375, 300, 3)\n",
      "<Slide, name = B_213-ST_BFIW-SE_1483_processed>, width=300, height=375, channels=3, levels=1, RGB=True, dtype=uint8> <valis.slide_io.VipsSlideReader object at 0x7f0567d34590> True (375, 300, 3)\n",
      "<Slide, name = B_213-ST_BFIW-SE_1484_processed>, width=300, height=375, channels=3, levels=1, RGB=True, dtype=uint8> <valis.slide_io.VipsSlideReader object at 0x7f0567d37e90> True (375, 300, 3)\n",
      "<Slide, name = B_213-ST_BFIW-SE_1485_processed>, width=300, height=375, channels=3, levels=1, RGB=True, dtype=uint8> <valis.slide_io.VipsSlideReader object at 0x7f0567d37e30> True (375, 300, 3)\n",
      "<Slide, name = B_213-ST_BFIW-SE_1486_processed>, width=300, height=375, channels=3, levels=1, RGB=True, dtype=uint8> <valis.slide_io.VipsSlideReader object at 0x7f0567d37f20> True (375, 300, 3)\n",
      "<Slide, name = B_213-ST_BFIW-SE_1487_processed>, width=300, height=375, channels=3, levels=1, RGB=True, dtype=uint8> <valis.slide_io.VipsSlideReader object at 0x7f0567d282c0> True (375, 300, 3)\n",
      "<Slide, name = B_213-ST_BFIW-SE_1488_processed>, width=300, height=375, channels=3, levels=1, RGB=True, dtype=uint8> <valis.slide_io.VipsSlideReader object at 0x7f0567d28200> True (375, 300, 3)\n",
      "<Slide, name = B_213-ST_BFIW-SE_1489_processed>, width=300, height=375, channels=3, levels=1, RGB=True, dtype=uint8> <valis.slide_io.VipsSlideReader object at 0x7f0567d38170> True (375, 300, 3)\n"
     ]
    },
    {
     "name": "stderr",
     "output_type": "stream",
     "text": [
      "Converting images:  56%|██████████████████████████▎                    | 1462/2608 [00:19<00:17, 64.31image/s]"
     ]
    },
    {
     "name": "stdout",
     "output_type": "stream",
     "text": [
      "<Slide, name = B_213-ST_BFIW-SE_1490_processed>, width=300, height=375, channels=3, levels=1, RGB=True, dtype=uint8> <valis.slide_io.VipsSlideReader object at 0x7f0567d282f0> True (375, 300, 3)\n",
      "<Slide, name = B_213-ST_BFIW-SE_1491_processed>, width=300, height=375, channels=3, levels=1, RGB=True, dtype=uint8> <valis.slide_io.VipsSlideReader object at 0x7f0567d38080> True (375, 300, 3)\n",
      "<Slide, name = B_213-ST_BFIW-SE_1492_processed>, width=300, height=375, channels=3, levels=1, RGB=True, dtype=uint8> <valis.slide_io.VipsSlideReader object at 0x7f0567d283b0> True (375, 300, 3)\n",
      "<Slide, name = B_213-ST_BFIW-SE_1493_processed>, width=300, height=375, channels=3, levels=1, RGB=True, dtype=uint8> <valis.slide_io.VipsSlideReader object at 0x7f0567d384a0> True (375, 300, 3)\n",
      "<Slide, name = B_213-ST_BFIW-SE_1494_processed>, width=300, height=375, channels=3, levels=1, RGB=True, dtype=uint8> <valis.slide_io.VipsSlideReader object at 0x7f0567d20470> True (375, 300, 3)\n",
      "<Slide, name = B_213-ST_BFIW-SE_1495_processed>, width=300, height=375, channels=3, levels=1, RGB=True, dtype=uint8> <valis.slide_io.VipsSlideReader object at 0x7f0567d20350> True (375, 300, 3)\n",
      "<Slide, name = B_213-ST_BFIW-SE_1496_processed>, width=300, height=375, channels=3, levels=1, RGB=True, dtype=uint8> <valis.slide_io.VipsSlideReader object at 0x7f0567d28530> True (375, 300, 3)\n"
     ]
    },
    {
     "name": "stderr",
     "output_type": "stream",
     "text": [
      "Converting images:  56%|██████████████████████████▍                    | 1469/2608 [00:19<00:19, 58.86image/s]"
     ]
    },
    {
     "name": "stdout",
     "output_type": "stream",
     "text": [
      "<Slide, name = B_213-ST_BFIW-SE_1497_processed>, width=300, height=375, channels=3, levels=1, RGB=True, dtype=uint8> <valis.slide_io.VipsSlideReader object at 0x7f0567d38410> True (375, 300, 3)\n",
      "<Slide, name = B_213-ST_BFIW-SE_1498_processed>, width=300, height=375, channels=3, levels=1, RGB=True, dtype=uint8> <valis.slide_io.VipsSlideReader object at 0x7f0567d285f0> True (375, 300, 3)\n",
      "<Slide, name = B_213-ST_BFIW-SE_1499_processed>, width=300, height=375, channels=3, levels=1, RGB=True, dtype=uint8> <valis.slide_io.VipsSlideReader object at 0x7f0567d38620> True (375, 300, 3)\n",
      "<Slide, name = B_213-ST_BFIW-SE_1500_processed>, width=300, height=375, channels=3, levels=1, RGB=True, dtype=uint8> <valis.slide_io.VipsSlideReader object at 0x7f0567d206b0> True (375, 300, 3)\n",
      "<Slide, name = B_213-ST_BFIW-SE_1501_processed>, width=300, height=375, channels=3, levels=1, RGB=True, dtype=uint8> <valis.slide_io.VipsSlideReader object at 0x7f0567d387a0> True (375, 300, 3)\n",
      "<Slide, name = B_213-ST_BFIW-SE_1502_processed>, width=300, height=375, channels=3, levels=1, RGB=True, dtype=uint8> <valis.slide_io.VipsSlideReader object at 0x7f0567d20770> True (375, 300, 3)\n",
      "<Slide, name = B_213-ST_BFIW-SE_1503_processed>, width=300, height=375, channels=3, levels=1, RGB=True, dtype=uint8> <valis.slide_io.VipsSlideReader object at 0x7f0567d38860> True (375, 300, 3)\n"
     ]
    },
    {
     "name": "stderr",
     "output_type": "stream",
     "text": [
      "Converting images:  57%|██████████████████████████▌                    | 1476/2608 [00:20<00:20, 54.36image/s]"
     ]
    },
    {
     "name": "stdout",
     "output_type": "stream",
     "text": [
      "<Slide, name = B_213-ST_BFIW-SE_1504_processed>, width=300, height=375, channels=3, levels=1, RGB=True, dtype=uint8> <valis.slide_io.VipsSlideReader object at 0x7f0567d20f50> True (375, 300, 3)\n",
      "<Slide, name = B_213-ST_BFIW-SE_1505_processed>, width=300, height=375, channels=3, levels=1, RGB=True, dtype=uint8> <valis.slide_io.VipsSlideReader object at 0x7f0567d38920> True (375, 300, 3)\n",
      "<Slide, name = B_213-ST_BFIW-SE_1506_processed>, width=300, height=375, channels=3, levels=1, RGB=True, dtype=uint8> <valis.slide_io.VipsSlideReader object at 0x7f0567d288f0> True (375, 300, 3)\n",
      "<Slide, name = B_213-ST_BFIW-SE_1507_processed>, width=300, height=375, channels=3, levels=1, RGB=True, dtype=uint8> <valis.slide_io.VipsSlideReader object at 0x7f0567d389e0> True (375, 300, 3)\n",
      "<Slide, name = B_213-ST_BFIW-SE_1508_processed>, width=300, height=375, channels=3, levels=1, RGB=True, dtype=uint8> <valis.slide_io.VipsSlideReader object at 0x7f0567d289b0> True (375, 300, 3)\n",
      "<Slide, name = B_213-ST_BFIW-SE_1509_processed>, width=300, height=375, channels=3, levels=1, RGB=True, dtype=uint8> <valis.slide_io.VipsSlideReader object at 0x7f0567d38aa0> True (375, 300, 3)\n"
     ]
    },
    {
     "name": "stderr",
     "output_type": "stream",
     "text": [
      "Converting images:  57%|██████████████████████████▋                    | 1482/2608 [00:20<00:21, 52.30image/s]"
     ]
    },
    {
     "name": "stdout",
     "output_type": "stream",
     "text": [
      "<Slide, name = B_213-ST_BFIW-SE_1510_processed>, width=300, height=375, channels=3, levels=1, RGB=True, dtype=uint8> <valis.slide_io.VipsSlideReader object at 0x7f0567d28a70> True (375, 300, 3)\n",
      "<Slide, name = B_213-ST_BFIW-SE_1511_processed>, width=300, height=375, channels=3, levels=1, RGB=True, dtype=uint8> <valis.slide_io.VipsSlideReader object at 0x7f0567d38b60> True (375, 300, 3)\n",
      "<Slide, name = B_213-ST_BFIW-SE_1512_processed>, width=300, height=375, channels=3, levels=1, RGB=True, dtype=uint8> <valis.slide_io.VipsSlideReader object at 0x7f0567d28b30> True (375, 300, 3)\n",
      "<Slide, name = B_213-ST_BFIW-SE_1513_processed>, width=300, height=375, channels=3, levels=1, RGB=True, dtype=uint8> <valis.slide_io.VipsSlideReader object at 0x7f0567d38c20> True (375, 300, 3)\n",
      "<Slide, name = B_213-ST_BFIW-SE_1514_processed>, width=300, height=375, channels=3, levels=1, RGB=True, dtype=uint8> <valis.slide_io.VipsSlideReader object at 0x7f0567d28bf0> True (375, 300, 3)\n",
      "<Slide, name = B_213-ST_BFIW-SE_1515_processed>, width=300, height=375, channels=3, levels=1, RGB=True, dtype=uint8> <valis.slide_io.VipsSlideReader object at 0x7f0567d38ce0> True (375, 300, 3)\n"
     ]
    },
    {
     "name": "stderr",
     "output_type": "stream",
     "text": [
      "Converting images:  57%|██████████████████████████▊                    | 1488/2608 [00:20<00:21, 51.41image/s]"
     ]
    },
    {
     "name": "stdout",
     "output_type": "stream",
     "text": [
      "<Slide, name = B_213-ST_BFIW-SE_1516_processed>, width=300, height=375, channels=3, levels=1, RGB=True, dtype=uint8> <valis.slide_io.VipsSlideReader object at 0x7f0567d28cb0> True (375, 300, 3)\n",
      "<Slide, name = B_213-ST_BFIW-SE_1517_processed>, width=300, height=375, channels=3, levels=1, RGB=True, dtype=uint8> <valis.slide_io.VipsSlideReader object at 0x7f0567d38da0> True (375, 300, 3)\n",
      "<Slide, name = B_213-ST_BFIW-SE_1518_processed>, width=300, height=375, channels=3, levels=1, RGB=True, dtype=uint8> <valis.slide_io.VipsSlideReader object at 0x7f0567d28d70> True (375, 300, 3)\n",
      "<Slide, name = B_213-ST_BFIW-SE_1519_processed>, width=300, height=375, channels=3, levels=1, RGB=True, dtype=uint8> <valis.slide_io.VipsSlideReader object at 0x7f0567d38e60> True (375, 300, 3)\n",
      "<Slide, name = B_213-ST_BFIW-SE_1520_processed>, width=300, height=375, channels=3, levels=1, RGB=True, dtype=uint8> <valis.slide_io.VipsSlideReader object at 0x7f0567d28e30> True (375, 300, 3)\n",
      "<Slide, name = B_213-ST_BFIW-SE_1521_processed>, width=300, height=375, channels=3, levels=1, RGB=True, dtype=uint8> <valis.slide_io.VipsSlideReader object at 0x7f0567d38f20> True (375, 300, 3)\n"
     ]
    },
    {
     "name": "stderr",
     "output_type": "stream",
     "text": [
      "Converting images:  57%|██████████████████████████▉                    | 1494/2608 [00:20<00:21, 52.03image/s]"
     ]
    },
    {
     "name": "stdout",
     "output_type": "stream",
     "text": [
      "<Slide, name = B_213-ST_BFIW-SE_1522_processed>, width=300, height=375, channels=3, levels=1, RGB=True, dtype=uint8> <valis.slide_io.VipsSlideReader object at 0x7f0567d28ef0> True (375, 300, 3)\n",
      "<Slide, name = B_213-ST_BFIW-SE_1523_processed>, width=300, height=375, channels=3, levels=1, RGB=True, dtype=uint8> <valis.slide_io.VipsSlideReader object at 0x7f0567d38fe0> True (375, 300, 3)\n",
      "<Slide, name = B_213-ST_BFIW-SE_1524_processed>, width=300, height=375, channels=3, levels=1, RGB=True, dtype=uint8> <valis.slide_io.VipsSlideReader object at 0x7f0567d28fb0> True (375, 300, 3)\n",
      "<Slide, name = B_213-ST_BFIW-SE_1525_processed>, width=300, height=375, channels=3, levels=1, RGB=True, dtype=uint8> <valis.slide_io.VipsSlideReader object at 0x7f0567d390a0> True (375, 300, 3)\n",
      "<Slide, name = B_213-ST_BFIW-SE_1526_processed>, width=300, height=375, channels=3, levels=1, RGB=True, dtype=uint8> <valis.slide_io.VipsSlideReader object at 0x7f0567d39070> True (375, 300, 3)\n",
      "<Slide, name = B_213-ST_BFIW-SE_1527_processed>, width=300, height=375, channels=3, levels=1, RGB=True, dtype=uint8> <valis.slide_io.VipsSlideReader object at 0x7f0567d38f50> True (375, 300, 3)\n"
     ]
    },
    {
     "name": "stderr",
     "output_type": "stream",
     "text": [
      "Converting images:  58%|███████████████████████████                    | 1500/2608 [00:20<00:22, 48.49image/s]"
     ]
    },
    {
     "name": "stdout",
     "output_type": "stream",
     "text": [
      "<Slide, name = B_213-ST_BFIW-SE_1528_processed>, width=300, height=375, channels=3, levels=1, RGB=True, dtype=uint8> <valis.slide_io.VipsSlideReader object at 0x7f0567d38dd0> True (375, 300, 3)\n",
      "<Slide, name = B_213-ST_BFIW-SE_1529_processed>, width=300, height=375, channels=3, levels=1, RGB=True, dtype=uint8> <valis.slide_io.VipsSlideReader object at 0x7f0567d39040> True (375, 300, 3)\n",
      "<Slide, name = B_213-ST_BFIW-SE_1530_processed>, width=300, height=375, channels=3, levels=1, RGB=True, dtype=uint8> <valis.slide_io.VipsSlideReader object at 0x7f0567d38b90> True (375, 300, 3)\n",
      "<Slide, name = B_213-ST_BFIW-SE_1531_processed>, width=300, height=375, channels=3, levels=1, RGB=True, dtype=uint8> <valis.slide_io.VipsSlideReader object at 0x7f0567d39100> True (375, 300, 3)\n",
      "<Slide, name = B_213-ST_BFIW-SE_1532_processed>, width=300, height=375, channels=3, levels=1, RGB=True, dtype=uint8> <valis.slide_io.VipsSlideReader object at 0x7f0567d38c50> True (375, 300, 3)\n",
      "<Slide, name = B_213-ST_BFIW-SE_1533_processed>, width=300, height=375, channels=3, levels=1, RGB=True, dtype=uint8> <valis.slide_io.VipsSlideReader object at 0x7f0567d391c0> True (375, 300, 3)\n"
     ]
    },
    {
     "name": "stderr",
     "output_type": "stream",
     "text": [
      "Converting images:  58%|███████████████████████████▏                   | 1506/2608 [00:20<00:22, 49.97image/s]"
     ]
    },
    {
     "name": "stdout",
     "output_type": "stream",
     "text": [
      "<Slide, name = B_213-ST_BFIW-SE_1534_processed>, width=300, height=375, channels=3, levels=1, RGB=True, dtype=uint8> <valis.slide_io.VipsSlideReader object at 0x7f0567d38d10> True (375, 300, 3)\n",
      "<Slide, name = B_213-ST_BFIW-SE_1535_processed>, width=300, height=375, channels=3, levels=1, RGB=True, dtype=uint8> <valis.slide_io.VipsSlideReader object at 0x7f0567d39160> True (375, 300, 3)\n",
      "<Slide, name = B_213-ST_BFIW-SE_1536_processed>, width=300, height=375, channels=3, levels=1, RGB=True, dtype=uint8> <valis.slide_io.VipsSlideReader object at 0x7f0567d390d0> True (375, 300, 3)\n",
      "<Slide, name = B_213-ST_BFIW-SE_1537_processed>, width=300, height=375, channels=3, levels=1, RGB=True, dtype=uint8> <valis.slide_io.VipsSlideReader object at 0x7f0567d2dd90> True (375, 300, 3)\n",
      "<Slide, name = B_213-ST_BFIW-SE_1538_processed>, width=300, height=375, channels=3, levels=1, RGB=True, dtype=uint8> <valis.slide_io.VipsSlideReader object at 0x7f0567d396a0> True (375, 300, 3)\n",
      "<Slide, name = B_213-ST_BFIW-SE_1539_processed>, width=300, height=375, channels=3, levels=1, RGB=True, dtype=uint8> <valis.slide_io.VipsSlideReader object at 0x7f0567d39640> True (375, 300, 3)\n"
     ]
    },
    {
     "name": "stderr",
     "output_type": "stream",
     "text": [
      "Converting images:  58%|███████████████████████████▏                   | 1512/2608 [00:20<00:23, 46.87image/s]"
     ]
    },
    {
     "name": "stdout",
     "output_type": "stream",
     "text": [
      "<Slide, name = B_213-ST_BFIW-SE_1540_processed>, width=300, height=375, channels=3, levels=1, RGB=True, dtype=uint8> <valis.slide_io.VipsSlideReader object at 0x7f0567d39190> True (375, 300, 3)\n",
      "<Slide, name = B_213-ST_BFIW-SE_1541_processed>, width=300, height=375, channels=3, levels=1, RGB=True, dtype=uint8> <valis.slide_io.VipsSlideReader object at 0x7f0567d39130> True (375, 300, 3)\n",
      "<Slide, name = B_213-ST_BFIW-SE_1542_processed>, width=300, height=375, channels=3, levels=1, RGB=True, dtype=uint8> <valis.slide_io.VipsSlideReader object at 0x7f0567d393d0> True (375, 300, 3)\n",
      "<Slide, name = B_213-ST_BFIW-SE_1543_processed>, width=300, height=375, channels=3, levels=1, RGB=True, dtype=uint8> <valis.slide_io.VipsSlideReader object at 0x7f0567d395b0> True (375, 300, 3)\n",
      "<Slide, name = B_213-ST_BFIW-SE_1544_processed>, width=300, height=375, channels=3, levels=1, RGB=True, dtype=uint8> <valis.slide_io.VipsSlideReader object at 0x7f0567d39490> True (375, 300, 3)\n",
      "<Slide, name = B_213-ST_BFIW-SE_1545_processed>, width=300, height=375, channels=3, levels=1, RGB=True, dtype=uint8> <valis.slide_io.VipsSlideReader object at 0x7f0567d39430> True (375, 300, 3)\n"
     ]
    },
    {
     "name": "stderr",
     "output_type": "stream",
     "text": [
      "Converting images:  58%|███████████████████████████▎                   | 1518/2608 [00:20<00:22, 49.29image/s]"
     ]
    },
    {
     "name": "stdout",
     "output_type": "stream",
     "text": [
      "<Slide, name = B_213-ST_BFIW-SE_1546_processed>, width=300, height=375, channels=3, levels=1, RGB=True, dtype=uint8> <valis.slide_io.VipsSlideReader object at 0x7f0567d391f0> True (375, 300, 3)\n",
      "<Slide, name = B_213-ST_BFIW-SE_1547_processed>, width=300, height=375, channels=3, levels=1, RGB=True, dtype=uint8> <valis.slide_io.VipsSlideReader object at 0x7f0567d394f0> True (375, 300, 3)\n",
      "<Slide, name = B_213-ST_BFIW-SE_1548_processed>, width=300, height=375, channels=3, levels=1, RGB=True, dtype=uint8> <valis.slide_io.VipsSlideReader object at 0x7f0567d1c290> True (375, 300, 3)\n",
      "<Slide, name = B_213-ST_BFIW-SE_1549_processed>, width=300, height=375, channels=3, levels=1, RGB=True, dtype=uint8> <valis.slide_io.VipsSlideReader object at 0x7f0567d39ac0> True (375, 300, 3)\n",
      "<Slide, name = B_213-ST_BFIW-SE_1550_processed>, width=300, height=375, channels=3, levels=1, RGB=True, dtype=uint8> <valis.slide_io.VipsSlideReader object at 0x7f0567d39a60> True (375, 300, 3)\n",
      "<Slide, name = B_213-ST_BFIW-SE_1552_processed>, width=300, height=375, channels=3, levels=1, RGB=True, dtype=uint8> <valis.slide_io.VipsSlideReader object at 0x7f0567d39310> True (375, 300, 3)\n"
     ]
    },
    {
     "name": "stderr",
     "output_type": "stream",
     "text": [
      "Converting images:  58%|███████████████████████████▍                   | 1524/2608 [00:21<00:23, 46.27image/s]"
     ]
    },
    {
     "name": "stdout",
     "output_type": "stream",
     "text": [
      "<Slide, name = B_213-ST_BFIW-SE_1553_processed>, width=300, height=375, channels=3, levels=1, RGB=True, dtype=uint8> <valis.slide_io.VipsSlideReader object at 0x7f0567d39250> True (375, 300, 3)\n",
      "<Slide, name = B_213-ST_BFIW-SE_1554_processed>, width=300, height=375, channels=3, levels=1, RGB=True, dtype=uint8> <valis.slide_io.VipsSlideReader object at 0x7f0567d397f0> True (375, 300, 3)\n",
      "<Slide, name = B_213-ST_BFIW-SE_1555_processed>, width=300, height=375, channels=3, levels=1, RGB=True, dtype=uint8> <valis.slide_io.VipsSlideReader object at 0x7f0567d399d0> True (375, 300, 3)\n",
      "<Slide, name = B_213-ST_BFIW-SE_1556_processed>, width=300, height=375, channels=3, levels=1, RGB=True, dtype=uint8> <valis.slide_io.VipsSlideReader object at 0x7f0567d2fdd0> True (375, 300, 3)\n",
      "<Slide, name = B_213-ST_BFIW-SE_1557_processed>, width=300, height=375, channels=3, levels=1, RGB=True, dtype=uint8> <valis.slide_io.VipsSlideReader object at 0x7f0567d39d60> True (375, 300, 3)\n",
      "<Slide, name = B_213-ST_BFIW-SE_1558_processed>, width=300, height=375, channels=3, levels=1, RGB=True, dtype=uint8> <valis.slide_io.VipsSlideReader object at 0x7f0567d39d00> True (375, 300, 3)\n",
      "<Slide, name = B_213-ST_BFIW-SE_1559_processed>, width=300, height=375, channels=3, levels=1, RGB=True, dtype=uint8> <valis.slide_io.VipsSlideReader object at 0x7f0567d39850> True (375, 300, 3)\n",
      "<Slide, name = B_213-ST_BFIW-SE_1560_processed>, width=300, height=375, channels=3, levels=1, RGB=True, dtype=uint8> <valis.slide_io.VipsSlideReader object at 0x7f0567d398b0> True (375, 300, 3)\n",
      "<Slide, name = B_213-ST_BFIW-SE_1561_processed>, width=300, height=375, channels=3, levels=1, RGB=True, dtype=uint8> <valis.slide_io.VipsSlideReader object at 0x7f0567d39a30> True (375, 300, 3)\n"
     ]
    },
    {
     "name": "stderr",
     "output_type": "stream",
     "text": [
      "Converting images:  59%|███████████████████████████▋                   | 1533/2608 [00:21<00:18, 56.83image/s]"
     ]
    },
    {
     "name": "stdout",
     "output_type": "stream",
     "text": [
      "<Slide, name = B_213-ST_BFIW-SE_1562_processed>, width=300, height=375, channels=3, levels=1, RGB=True, dtype=uint8> <valis.slide_io.VipsSlideReader object at 0x7f0567d39c70> True (375, 300, 3)\n",
      "<Slide, name = B_213-ST_BFIW-SE_1563_processed>, width=300, height=375, channels=3, levels=1, RGB=True, dtype=uint8> <valis.slide_io.VipsSlideReader object at 0x7f0567d39b20> True (375, 300, 3)\n",
      "<Slide, name = B_213-ST_BFIW-SE_1564_processed>, width=300, height=375, channels=3, levels=1, RGB=True, dtype=uint8> <valis.slide_io.VipsSlideReader object at 0x7f0567d39a90> True (375, 300, 3)\n",
      "<Slide, name = B_213-ST_BFIW-SE_1565_processed>, width=300, height=375, channels=3, levels=1, RGB=True, dtype=uint8> <valis.slide_io.VipsSlideReader object at 0x7f0567d39370> True (375, 300, 3)\n",
      "<Slide, name = B_213-ST_BFIW-SE_1566_processed>, width=300, height=375, channels=3, levels=1, RGB=True, dtype=uint8> <valis.slide_io.VipsSlideReader object at 0x7f0567d39b80> True (375, 300, 3)\n",
      "<Slide, name = B_213-ST_BFIW-SE_1567_processed>, width=300, height=375, channels=3, levels=1, RGB=True, dtype=uint8> <valis.slide_io.VipsSlideReader object at 0x7f0567d39910> True (375, 300, 3)\n",
      "<Slide, name = B_213-ST_BFIW-SE_1568_processed>, width=300, height=375, channels=3, levels=1, RGB=True, dtype=uint8> <valis.slide_io.VipsSlideReader object at 0x7f0567d39700> True (375, 300, 3)\n",
      "<Slide, name = B_213-ST_BFIW-SE_1569_processed>, width=300, height=375, channels=3, levels=1, RGB=True, dtype=uint8> <valis.slide_io.VipsSlideReader object at 0x7f0567d39760> True (375, 300, 3)\n",
      "<Slide, name = B_213-ST_BFIW-SE_1570_processed>, width=300, height=375, channels=3, levels=1, RGB=True, dtype=uint8> <valis.slide_io.VipsSlideReader object at 0x7f0567d39cd0> True (375, 300, 3)\n",
      "<Slide, name = B_213-ST_BFIW-SE_1571_processed>, width=300, height=375, channels=3, levels=1, RGB=True, dtype=uint8> <valis.slide_io.VipsSlideReader object at 0x7f0567d39d30> True (375, 300, 3)\n"
     ]
    },
    {
     "name": "stderr",
     "output_type": "stream",
     "text": [
      "Converting images:  59%|███████████████████████████▊                   | 1543/2608 [00:21<00:15, 66.86image/s]"
     ]
    },
    {
     "name": "stdout",
     "output_type": "stream",
     "text": [
      "<Slide, name = B_213-ST_BFIW-SE_1572_processed>, width=300, height=375, channels=3, levels=1, RGB=True, dtype=uint8> <valis.slide_io.VipsSlideReader object at 0x7f0567d39dc0> True (375, 300, 3)\n",
      "<Slide, name = B_213-ST_BFIW-SE_1573_processed>, width=300, height=375, channels=3, levels=1, RGB=True, dtype=uint8> <valis.slide_io.VipsSlideReader object at 0x7f0567d39e20> True (375, 300, 3)\n",
      "<Slide, name = B_213-ST_BFIW-SE_1574_processed>, width=300, height=375, channels=3, levels=1, RGB=True, dtype=uint8> <valis.slide_io.VipsSlideReader object at 0x7f0567d39e80> True (375, 300, 3)\n",
      "<Slide, name = B_213-ST_BFIW-SE_1575_processed>, width=300, height=375, channels=3, levels=1, RGB=True, dtype=uint8> <valis.slide_io.VipsSlideReader object at 0x7f0567d39ee0> True (375, 300, 3)\n",
      "<Slide, name = B_213-ST_BFIW-SE_1576_processed>, width=300, height=375, channels=3, levels=1, RGB=True, dtype=uint8> <valis.slide_io.VipsSlideReader object at 0x7f0567d39f40> True (375, 300, 3)\n",
      "<Slide, name = B_213-ST_BFIW-SE_1577_processed>, width=300, height=375, channels=3, levels=1, RGB=True, dtype=uint8> <valis.slide_io.VipsSlideReader object at 0x7f0567d39fa0> True (375, 300, 3)\n",
      "<Slide, name = B_213-ST_BFIW-SE_1578_processed>, width=300, height=375, channels=3, levels=1, RGB=True, dtype=uint8> <valis.slide_io.VipsSlideReader object at 0x7f0567d3a000> True (375, 300, 3)\n",
      "<Slide, name = B_213-ST_BFIW-SE_1579_processed>, width=300, height=375, channels=3, levels=1, RGB=True, dtype=uint8> <valis.slide_io.VipsSlideReader object at 0x7f0567d3a060> True (375, 300, 3)\n",
      "<Slide, name = B_213-ST_BFIW-SE_1580_processed>, width=300, height=375, channels=3, levels=1, RGB=True, dtype=uint8> <valis.slide_io.VipsSlideReader object at 0x7f0567d3a0c0> True (375, 300, 3)\n",
      "<Slide, name = B_213-ST_BFIW-SE_1581_processed>, width=300, height=375, channels=3, levels=1, RGB=True, dtype=uint8> <valis.slide_io.VipsSlideReader object at 0x7f0567d3a120> True (375, 300, 3)\n"
     ]
    },
    {
     "name": "stderr",
     "output_type": "stream",
     "text": [
      "Converting images:  60%|███████████████████████████▉                   | 1553/2608 [00:21<00:14, 74.54image/s]"
     ]
    },
    {
     "name": "stdout",
     "output_type": "stream",
     "text": [
      "<Slide, name = B_213-ST_BFIW-SE_1582_processed>, width=300, height=375, channels=3, levels=1, RGB=True, dtype=uint8> <valis.slide_io.VipsSlideReader object at 0x7f0567d3a180> True (375, 300, 3)\n",
      "<Slide, name = B_213-ST_BFIW-SE_1583_processed>, width=300, height=375, channels=3, levels=1, RGB=True, dtype=uint8> <valis.slide_io.VipsSlideReader object at 0x7f0567d2cb90> True (375, 300, 3)\n",
      "<Slide, name = B_213-ST_BFIW-SE_1584_processed>, width=300, height=375, channels=3, levels=1, RGB=True, dtype=uint8> <valis.slide_io.VipsSlideReader object at 0x7f0567d3a9c0> True (375, 300, 3)\n",
      "<Slide, name = B_213-ST_BFIW-SE_1585_processed>, width=300, height=375, channels=3, levels=1, RGB=True, dtype=uint8> <valis.slide_io.VipsSlideReader object at 0x7f0567d3a930> True (375, 300, 3)\n",
      "<Slide, name = B_213-ST_BFIW-SE_1586_processed>, width=300, height=375, channels=3, levels=1, RGB=True, dtype=uint8> <valis.slide_io.VipsSlideReader object at 0x7f0567d3a240> True (375, 300, 3)\n",
      "<Slide, name = B_213-ST_BFIW-SE_1587_processed>, width=300, height=375, channels=3, levels=1, RGB=True, dtype=uint8> <valis.slide_io.VipsSlideReader object at 0x7f0567d3a1e0> True (375, 300, 3)\n",
      "<Slide, name = B_213-ST_BFIW-SE_1588_processed>, width=300, height=375, channels=3, levels=1, RGB=True, dtype=uint8> <valis.slide_io.VipsSlideReader object at 0x7f0567d3a540> True (375, 300, 3)\n",
      "<Slide, name = B_213-ST_BFIW-SE_1589_processed>, width=300, height=375, channels=3, levels=1, RGB=True, dtype=uint8> <valis.slide_io.VipsSlideReader object at 0x7f0567d3a8a0> True (375, 300, 3)\n",
      "<Slide, name = B_213-ST_BFIW-SE_1590_processed>, width=300, height=375, channels=3, levels=1, RGB=True, dtype=uint8> <valis.slide_io.VipsSlideReader object at 0x7f0567d3a6c0> True (375, 300, 3)\n",
      "<Slide, name = B_213-ST_BFIW-SE_1591_processed>, width=300, height=375, channels=3, levels=1, RGB=True, dtype=uint8> <valis.slide_io.VipsSlideReader object at 0x7f0567d3a600> True (375, 300, 3)\n"
     ]
    },
    {
     "name": "stderr",
     "output_type": "stream",
     "text": [
      "Converting images:  60%|████████████████████████████▏                  | 1563/2608 [00:21<00:13, 79.99image/s]"
     ]
    },
    {
     "name": "stdout",
     "output_type": "stream",
     "text": [
      "<Slide, name = B_213-ST_BFIW-SE_1592_processed>, width=300, height=375, channels=3, levels=1, RGB=True, dtype=uint8> <valis.slide_io.VipsSlideReader object at 0x7f0567d3a2a0> True (375, 300, 3)\n",
      "<Slide, name = B_213-ST_BFIW-SE_1593_processed>, width=300, height=375, channels=3, levels=1, RGB=True, dtype=uint8> <valis.slide_io.VipsSlideReader object at 0x7f0567d3a780> True (375, 300, 3)\n",
      "<Slide, name = B_213-ST_BFIW-SE_1594_processed>, width=300, height=375, channels=3, levels=1, RGB=True, dtype=uint8> <valis.slide_io.VipsSlideReader object at 0x7f0567d3a300> True (375, 300, 3)\n",
      "<Slide, name = B_213-ST_BFIW-SE_1595_processed>, width=300, height=375, channels=3, levels=1, RGB=True, dtype=uint8> <valis.slide_io.VipsSlideReader object at 0x7f0567d3a420> True (375, 300, 3)\n",
      "<Slide, name = B_213-ST_BFIW-SE_1596_processed>, width=300, height=375, channels=3, levels=1, RGB=True, dtype=uint8> <valis.slide_io.VipsSlideReader object at 0x7f0567d3a4b0> True (375, 300, 3)\n",
      "<Slide, name = B_213-ST_BFIW-SE_1597_processed>, width=300, height=375, channels=3, levels=1, RGB=True, dtype=uint8> <valis.slide_io.VipsSlideReader object at 0x7f0567d3a900> True (375, 300, 3)\n",
      "<Slide, name = B_213-ST_BFIW-SE_1598_processed>, width=300, height=375, channels=3, levels=1, RGB=True, dtype=uint8> <valis.slide_io.VipsSlideReader object at 0x7f0567d3a960> True (375, 300, 3)\n",
      "<Slide, name = B_213-ST_BFIW-SE_1599_processed>, width=300, height=375, channels=3, levels=1, RGB=True, dtype=uint8> <valis.slide_io.VipsSlideReader object at 0x7f0567d3aa20> True (375, 300, 3)\n",
      "<Slide, name = B_213-ST_BFIW-SE_1600_processed>, width=300, height=375, channels=3, levels=1, RGB=True, dtype=uint8> <valis.slide_io.VipsSlideReader object at 0x7f0567d3aa80> True (375, 300, 3)\n",
      "<Slide, name = B_213-ST_BFIW-SE_1601_processed>, width=300, height=375, channels=3, levels=1, RGB=True, dtype=uint8> <valis.slide_io.VipsSlideReader object at 0x7f0567d3aae0> True (375, 300, 3)\n"
     ]
    },
    {
     "name": "stderr",
     "output_type": "stream",
     "text": [
      "Converting images:  60%|████████████████████████████▎                  | 1573/2608 [00:21<00:12, 83.93image/s]"
     ]
    },
    {
     "name": "stdout",
     "output_type": "stream",
     "text": [
      "<Slide, name = B_213-ST_BFIW-SE_1602_processed>, width=300, height=375, channels=3, levels=1, RGB=True, dtype=uint8> <valis.slide_io.VipsSlideReader object at 0x7f0567d3ab40> True (375, 300, 3)\n",
      "<Slide, name = B_213-ST_BFIW-SE_1603_processed>, width=300, height=375, channels=3, levels=1, RGB=True, dtype=uint8> <valis.slide_io.VipsSlideReader object at 0x7f0567d3aba0> True (375, 300, 3)\n",
      "<Slide, name = B_213-ST_BFIW-SE_1604_processed>, width=300, height=375, channels=3, levels=1, RGB=True, dtype=uint8> <valis.slide_io.VipsSlideReader object at 0x7f0567d3ac00> True (375, 300, 3)\n",
      "<Slide, name = B_213-ST_BFIW-SE_1605_processed>, width=300, height=375, channels=3, levels=1, RGB=True, dtype=uint8> <valis.slide_io.VipsSlideReader object at 0x7f0567d3ac60> True (375, 300, 3)\n",
      "<Slide, name = B_213-ST_BFIW-SE_1606_processed>, width=300, height=375, channels=3, levels=1, RGB=True, dtype=uint8> <valis.slide_io.VipsSlideReader object at 0x7f0567d3acc0> True (375, 300, 3)\n",
      "<Slide, name = B_213-ST_BFIW-SE_1607_processed>, width=300, height=375, channels=3, levels=1, RGB=True, dtype=uint8> <valis.slide_io.VipsSlideReader object at 0x7f0567d3ad20> True (375, 300, 3)\n",
      "<Slide, name = B_213-ST_BFIW-SE_1608_processed>, width=300, height=375, channels=3, levels=1, RGB=True, dtype=uint8> <valis.slide_io.VipsSlideReader object at 0x7f0567d3ad80> True (375, 300, 3)\n",
      "<Slide, name = B_213-ST_BFIW-SE_1609_processed>, width=300, height=375, channels=3, levels=1, RGB=True, dtype=uint8> <valis.slide_io.VipsSlideReader object at 0x7f0567d3ade0> True (375, 300, 3)\n",
      "<Slide, name = B_213-ST_BFIW-SE_1610_processed>, width=300, height=375, channels=3, levels=1, RGB=True, dtype=uint8> <valis.slide_io.VipsSlideReader object at 0x7f0567d3ae40> True (375, 300, 3)\n",
      "<Slide, name = B_213-ST_BFIW-SE_1611_processed>, width=300, height=375, channels=3, levels=1, RGB=True, dtype=uint8> <valis.slide_io.VipsSlideReader object at 0x7f0567d3aea0> True (375, 300, 3)\n"
     ]
    },
    {
     "name": "stderr",
     "output_type": "stream",
     "text": [
      "Converting images:  61%|████████████████████████████▌                  | 1583/2608 [00:21<00:11, 86.87image/s]"
     ]
    },
    {
     "name": "stdout",
     "output_type": "stream",
     "text": [
      "<Slide, name = B_213-ST_BFIW-SE_1612_processed>, width=300, height=375, channels=3, levels=1, RGB=True, dtype=uint8> <valis.slide_io.VipsSlideReader object at 0x7f0567d3af30> True (375, 300, 3)\n",
      "<Slide, name = B_213-ST_BFIW-SE_1613_processed>, width=300, height=375, channels=3, levels=1, RGB=True, dtype=uint8> <valis.slide_io.VipsSlideReader object at 0x7f0567d3af90> True (375, 300, 3)\n",
      "<Slide, name = B_213-ST_BFIW-SE_1614_processed>, width=300, height=375, channels=3, levels=1, RGB=True, dtype=uint8> <valis.slide_io.VipsSlideReader object at 0x7f0567d3aff0> True (375, 300, 3)\n",
      "<Slide, name = B_213-ST_BFIW-SE_1615_processed>, width=300, height=375, channels=3, levels=1, RGB=True, dtype=uint8> <valis.slide_io.VipsSlideReader object at 0x7f0567d3b050> True (375, 300, 3)\n",
      "<Slide, name = B_213-ST_BFIW-SE_1616_processed>, width=300, height=375, channels=3, levels=1, RGB=True, dtype=uint8> <valis.slide_io.VipsSlideReader object at 0x7f0567d3b0b0> True (375, 300, 3)\n",
      "<Slide, name = B_213-ST_BFIW-SE_1617_processed>, width=300, height=375, channels=3, levels=1, RGB=True, dtype=uint8> <valis.slide_io.VipsSlideReader object at 0x7f0567d3b110> True (375, 300, 3)\n",
      "<Slide, name = B_213-ST_BFIW-SE_1618_processed>, width=300, height=375, channels=3, levels=1, RGB=True, dtype=uint8> <valis.slide_io.VipsSlideReader object at 0x7f0567d3b170> True (375, 300, 3)\n",
      "<Slide, name = B_213-ST_BFIW-SE_1619_processed>, width=300, height=375, channels=3, levels=1, RGB=True, dtype=uint8> <valis.slide_io.VipsSlideReader object at 0x7f0567d3b1d0> True (375, 300, 3)\n",
      "<Slide, name = B_213-ST_BFIW-SE_1620_processed>, width=300, height=375, channels=3, levels=1, RGB=True, dtype=uint8> <valis.slide_io.VipsSlideReader object at 0x7f0567d3b230> True (375, 300, 3)\n",
      "<Slide, name = B_213-ST_BFIW-SE_1621_processed>, width=300, height=375, channels=3, levels=1, RGB=True, dtype=uint8> <valis.slide_io.VipsSlideReader object at 0x7f0567d3b290> True (375, 300, 3)\n"
     ]
    },
    {
     "name": "stderr",
     "output_type": "stream",
     "text": [
      "Converting images:  61%|████████████████████████████▋                  | 1593/2608 [00:21<00:11, 88.90image/s]"
     ]
    },
    {
     "name": "stdout",
     "output_type": "stream",
     "text": [
      "<Slide, name = B_213-ST_BFIW-SE_1622_processed>, width=300, height=375, channels=3, levels=1, RGB=True, dtype=uint8> <valis.slide_io.VipsSlideReader object at 0x7f0567d3b2f0> True (375, 300, 3)\n",
      "<Slide, name = B_213-ST_BFIW-SE_1623_processed>, width=300, height=375, channels=3, levels=1, RGB=True, dtype=uint8> <valis.slide_io.VipsSlideReader object at 0x7f0567d3b350> True (375, 300, 3)\n",
      "<Slide, name = B_213-ST_BFIW-SE_1624_processed>, width=300, height=375, channels=3, levels=1, RGB=True, dtype=uint8> <valis.slide_io.VipsSlideReader object at 0x7f0567d3b3b0> True (375, 300, 3)\n",
      "<Slide, name = B_213-ST_BFIW-SE_1625_processed>, width=300, height=375, channels=3, levels=1, RGB=True, dtype=uint8> <valis.slide_io.VipsSlideReader object at 0x7f0567d3b410> True (375, 300, 3)\n",
      "<Slide, name = B_213-ST_BFIW-SE_1626_processed>, width=300, height=375, channels=3, levels=1, RGB=True, dtype=uint8> <valis.slide_io.VipsSlideReader object at 0x7f0567d3b470> True (375, 300, 3)\n",
      "<Slide, name = B_213-ST_BFIW-SE_1627_processed>, width=300, height=375, channels=3, levels=1, RGB=True, dtype=uint8> <valis.slide_io.VipsSlideReader object at 0x7f0567d3b4d0> True (375, 300, 3)\n",
      "<Slide, name = B_213-ST_BFIW-SE_1628_processed>, width=300, height=375, channels=3, levels=1, RGB=True, dtype=uint8> <valis.slide_io.VipsSlideReader object at 0x7f0567d3b530> True (375, 300, 3)\n",
      "<Slide, name = B_213-ST_BFIW-SE_1629_processed>, width=300, height=375, channels=3, levels=1, RGB=True, dtype=uint8> <valis.slide_io.VipsSlideReader object at 0x7f0567d3b590> True (375, 300, 3)\n",
      "<Slide, name = B_213-ST_BFIW-SE_1630_processed>, width=300, height=375, channels=3, levels=1, RGB=True, dtype=uint8> <valis.slide_io.VipsSlideReader object at 0x7f0567d3b5f0> True (375, 300, 3)\n",
      "<Slide, name = B_213-ST_BFIW-SE_1631_processed>, width=300, height=375, channels=3, levels=1, RGB=True, dtype=uint8> <valis.slide_io.VipsSlideReader object at 0x7f0567d3b650> True (375, 300, 3)\n"
     ]
    },
    {
     "name": "stderr",
     "output_type": "stream",
     "text": [
      "Converting images:  61%|████████████████████████████▉                  | 1603/2608 [00:21<00:11, 90.20image/s]"
     ]
    },
    {
     "name": "stdout",
     "output_type": "stream",
     "text": [
      "<Slide, name = B_213-ST_BFIW-SE_1632_processed>, width=300, height=375, channels=3, levels=1, RGB=True, dtype=uint8> <valis.slide_io.VipsSlideReader object at 0x7f0567d3b6b0> True (375, 300, 3)\n",
      "<Slide, name = B_213-ST_BFIW-SE_1633_processed>, width=300, height=375, channels=3, levels=1, RGB=True, dtype=uint8> <valis.slide_io.VipsSlideReader object at 0x7f0567d3b710> True (375, 300, 3)\n",
      "<Slide, name = B_213-ST_BFIW-SE_1634_processed>, width=300, height=375, channels=3, levels=1, RGB=True, dtype=uint8> <valis.slide_io.VipsSlideReader object at 0x7f0567d3b770> True (375, 300, 3)\n",
      "<Slide, name = B_213-ST_BFIW-SE_1635_processed>, width=300, height=375, channels=3, levels=1, RGB=True, dtype=uint8> <valis.slide_io.VipsSlideReader object at 0x7f0567d3b7d0> True (375, 300, 3)\n",
      "<Slide, name = B_213-ST_BFIW-SE_1636_processed>, width=300, height=375, channels=3, levels=1, RGB=True, dtype=uint8> <valis.slide_io.VipsSlideReader object at 0x7f0567d3b830> True (375, 300, 3)\n",
      "<Slide, name = B_213-ST_BFIW-SE_1637_processed>, width=300, height=375, channels=3, levels=1, RGB=True, dtype=uint8> <valis.slide_io.VipsSlideReader object at 0x7f0567d3b890> True (375, 300, 3)\n",
      "<Slide, name = B_213-ST_BFIW-SE_1638_processed>, width=300, height=375, channels=3, levels=1, RGB=True, dtype=uint8> <valis.slide_io.VipsSlideReader object at 0x7f0567d3b8f0> True (375, 300, 3)\n",
      "<Slide, name = B_213-ST_BFIW-SE_1639_processed>, width=300, height=375, channels=3, levels=1, RGB=True, dtype=uint8> <valis.slide_io.VipsSlideReader object at 0x7f0567d3b950> True (375, 300, 3)\n",
      "<Slide, name = B_213-ST_BFIW-SE_1640_processed>, width=300, height=375, channels=3, levels=1, RGB=True, dtype=uint8> <valis.slide_io.VipsSlideReader object at 0x7f0567d3b9b0> True (375, 300, 3)\n",
      "<Slide, name = B_213-ST_BFIW-SE_1641_processed>, width=300, height=375, channels=3, levels=1, RGB=True, dtype=uint8> <valis.slide_io.VipsSlideReader object at 0x7f0567d3ba10> True (375, 300, 3)\n"
     ]
    },
    {
     "name": "stderr",
     "output_type": "stream",
     "text": [
      "Converting images:  62%|█████████████████████████████                  | 1613/2608 [00:21<00:10, 91.10image/s]"
     ]
    },
    {
     "name": "stdout",
     "output_type": "stream",
     "text": [
      "<Slide, name = B_213-ST_BFIW-SE_1642_processed>, width=300, height=375, channels=3, levels=1, RGB=True, dtype=uint8> <valis.slide_io.VipsSlideReader object at 0x7f0567d3ba70> True (375, 300, 3)\n",
      "<Slide, name = B_213-ST_BFIW-SE_1643_processed>, width=300, height=375, channels=3, levels=1, RGB=True, dtype=uint8> <valis.slide_io.VipsSlideReader object at 0x7f0567d3bad0> True (375, 300, 3)\n",
      "<Slide, name = B_213-ST_BFIW-SE_1644_processed>, width=300, height=375, channels=3, levels=1, RGB=True, dtype=uint8> <valis.slide_io.VipsSlideReader object at 0x7f0567d3bb30> True (375, 300, 3)\n",
      "<Slide, name = B_213-ST_BFIW-SE_1645_processed>, width=300, height=375, channels=3, levels=1, RGB=True, dtype=uint8> <valis.slide_io.VipsSlideReader object at 0x7f0567d3bb90> True (375, 300, 3)\n",
      "<Slide, name = B_213-ST_BFIW-SE_1646_processed>, width=300, height=375, channels=3, levels=1, RGB=True, dtype=uint8> <valis.slide_io.VipsSlideReader object at 0x7f0567d3bbf0> True (375, 300, 3)\n",
      "<Slide, name = B_213-ST_BFIW-SE_1647_processed>, width=300, height=375, channels=3, levels=1, RGB=True, dtype=uint8> <valis.slide_io.VipsSlideReader object at 0x7f0567d3bd70> True (375, 300, 3)\n",
      "<Slide, name = B_213-ST_BFIW-SE_1648_processed>, width=300, height=375, channels=3, levels=1, RGB=True, dtype=uint8> <valis.slide_io.VipsSlideReader object at 0x7f0567d3be90> True (375, 300, 3)\n",
      "<Slide, name = B_213-ST_BFIW-SE_1649_processed>, width=300, height=375, channels=3, levels=1, RGB=True, dtype=uint8> <valis.slide_io.VipsSlideReader object at 0x7f0567d3bd10> True (375, 300, 3)\n",
      "<Slide, name = B_213-ST_BFIW-SE_1650_processed>, width=300, height=375, channels=3, levels=1, RGB=True, dtype=uint8> <valis.slide_io.VipsSlideReader object at 0x7f0567d3be30> True (375, 300, 3)\n",
      "<Slide, name = B_213-ST_BFIW-SE_1651_processed>, width=300, height=375, channels=3, levels=1, RGB=True, dtype=uint8> <valis.slide_io.VipsSlideReader object at 0x7f0567d3bef0> True (375, 300, 3)\n"
     ]
    },
    {
     "name": "stderr",
     "output_type": "stream",
     "text": [
      "Converting images:  62%|█████████████████████████████▏                 | 1623/2608 [00:22<00:10, 91.09image/s]"
     ]
    },
    {
     "name": "stdout",
     "output_type": "stream",
     "text": [
      "<Slide, name = B_213-ST_BFIW-SE_1652_processed>, width=300, height=375, channels=3, levels=1, RGB=True, dtype=uint8> <valis.slide_io.VipsSlideReader object at 0x7f0567d2c2c0> True (375, 300, 3)\n",
      "<Slide, name = B_213-ST_BFIW-SE_1653_processed>, width=300, height=375, channels=3, levels=1, RGB=True, dtype=uint8> <valis.slide_io.VipsSlideReader object at 0x7f0567d1c200> True (375, 300, 3)\n",
      "<Slide, name = B_213-ST_BFIW-SE_1654_processed>, width=300, height=375, channels=3, levels=1, RGB=True, dtype=uint8> <valis.slide_io.VipsSlideReader object at 0x7f0567d3c170> True (375, 300, 3)\n",
      "<Slide, name = B_213-ST_BFIW-SE_1655_processed>, width=300, height=375, channels=3, levels=1, RGB=True, dtype=uint8> <valis.slide_io.VipsSlideReader object at 0x7f0567d1c2f0> True (375, 300, 3)\n",
      "<Slide, name = B_213-ST_BFIW-SE_1656_processed>, width=300, height=375, channels=3, levels=1, RGB=True, dtype=uint8> <valis.slide_io.VipsSlideReader object at 0x7f0567d3c140> True (375, 300, 3)\n",
      "<Slide, name = B_213-ST_BFIW-SE_1657_processed>, width=300, height=375, channels=3, levels=1, RGB=True, dtype=uint8> <valis.slide_io.VipsSlideReader object at 0x7f05680e43b0> True (375, 300, 3)\n",
      "<Slide, name = B_213-ST_BFIW-SE_1658_processed>, width=300, height=375, channels=3, levels=1, RGB=True, dtype=uint8> <valis.slide_io.VipsSlideReader object at 0x7f0567d3c4a0> True (375, 300, 3)\n",
      "<Slide, name = B_213-ST_BFIW-SE_1659_processed>, width=300, height=375, channels=3, levels=1, RGB=True, dtype=uint8> <valis.slide_io.VipsSlideReader object at 0x7f0567d34470> True (375, 300, 3)\n",
      "<Slide, name = B_213-ST_BFIW-SE_1660_processed>, width=300, height=375, channels=3, levels=1, RGB=True, dtype=uint8> <valis.slide_io.VipsSlideReader object at 0x7f0567d3c560> True (375, 300, 3)\n",
      "<Slide, name = B_213-ST_BFIW-SE_1661_processed>, width=300, height=375, channels=3, levels=1, RGB=True, dtype=uint8> <valis.slide_io.VipsSlideReader object at 0x7f0567d3c350> True (375, 300, 3)\n"
     ]
    },
    {
     "name": "stderr",
     "output_type": "stream",
     "text": [
      "Converting images:  63%|█████████████████████████████▍                 | 1633/2608 [00:22<00:10, 91.99image/s]"
     ]
    },
    {
     "name": "stdout",
     "output_type": "stream",
     "text": [
      "<Slide, name = B_213-ST_BFIW-SE_1662_processed>, width=300, height=375, channels=3, levels=1, RGB=True, dtype=uint8> <valis.slide_io.VipsSlideReader object at 0x7f0567d3c410> True (375, 300, 3)\n",
      "<Slide, name = B_213-ST_BFIW-SE_1663_processed>, width=300, height=375, channels=3, levels=1, RGB=True, dtype=uint8> <valis.slide_io.VipsSlideReader object at 0x7f0567d3c4d0> True (375, 300, 3)\n",
      "<Slide, name = B_213-ST_BFIW-SE_1664_processed>, width=300, height=375, channels=3, levels=1, RGB=True, dtype=uint8> <valis.slide_io.VipsSlideReader object at 0x7f0567d3c6e0> True (375, 300, 3)\n",
      "<Slide, name = B_213-ST_BFIW-SE_1665_processed>, width=300, height=375, channels=3, levels=1, RGB=True, dtype=uint8> <valis.slide_io.VipsSlideReader object at 0x7f0567d3c110> True (375, 300, 3)\n",
      "<Slide, name = B_213-ST_BFIW-SE_1666_processed>, width=300, height=375, channels=3, levels=1, RGB=True, dtype=uint8> <valis.slide_io.VipsSlideReader object at 0x7f0567d3c290> True (375, 300, 3)\n",
      "<Slide, name = B_213-ST_BFIW-SE_1667_processed>, width=300, height=375, channels=3, levels=1, RGB=True, dtype=uint8> <valis.slide_io.VipsSlideReader object at 0x7f0567d2c920> True (375, 300, 3)\n",
      "<Slide, name = B_213-ST_BFIW-SE_1668_processed>, width=300, height=375, channels=3, levels=1, RGB=True, dtype=uint8> <valis.slide_io.VipsSlideReader object at 0x7f0567d2c7d0> True (375, 300, 3)\n",
      "<Slide, name = B_213-ST_BFIW-SE_1669_processed>, width=300, height=375, channels=3, levels=1, RGB=True, dtype=uint8> <valis.slide_io.VipsSlideReader object at 0x7f0567d2c8f0> True (375, 300, 3)\n",
      "<Slide, name = B_213-ST_BFIW-SE_1670_processed>, width=300, height=375, channels=3, levels=1, RGB=True, dtype=uint8> <valis.slide_io.VipsSlideReader object at 0x7f0567d3c8c0> True (375, 300, 3)\n",
      "<Slide, name = B_213-ST_BFIW-SE_1671_processed>, width=300, height=375, channels=3, levels=1, RGB=True, dtype=uint8> <valis.slide_io.VipsSlideReader object at 0x7f0567d3c950> True (375, 300, 3)\n"
     ]
    },
    {
     "name": "stderr",
     "output_type": "stream",
     "text": [
      "Converting images:  63%|█████████████████████████████▌                 | 1643/2608 [00:22<00:10, 92.64image/s]"
     ]
    },
    {
     "name": "stdout",
     "output_type": "stream",
     "text": [
      "<Slide, name = B_213-ST_BFIW-SE_1672_processed>, width=300, height=375, channels=3, levels=1, RGB=True, dtype=uint8> <valis.slide_io.VipsSlideReader object at 0x7f0567d3c710> True (375, 300, 3)\n",
      "<Slide, name = B_213-ST_BFIW-SE_1673_processed>, width=300, height=375, channels=3, levels=1, RGB=True, dtype=uint8> <valis.slide_io.VipsSlideReader object at 0x7f0567d1ca40> True (375, 300, 3)\n",
      "<Slide, name = B_213-ST_BFIW-SE_1674_processed>, width=300, height=375, channels=3, levels=1, RGB=True, dtype=uint8> <valis.slide_io.VipsSlideReader object at 0x7f0567d2cc20> True (375, 300, 3)\n",
      "<Slide, name = B_213-ST_BFIW-SE_1675_processed>, width=300, height=375, channels=3, levels=1, RGB=True, dtype=uint8> <valis.slide_io.VipsSlideReader object at 0x7f0567d3c9b0> True (375, 300, 3)\n",
      "<Slide, name = B_213-ST_BFIW-SE_1676_processed>, width=300, height=375, channels=3, levels=1, RGB=True, dtype=uint8> <valis.slide_io.VipsSlideReader object at 0x7f0567d3ca10> True (375, 300, 3)\n",
      "<Slide, name = B_213-ST_BFIW-SE_1677_processed>, width=300, height=375, channels=3, levels=1, RGB=True, dtype=uint8> <valis.slide_io.VipsSlideReader object at 0x7f0567d2c830> True (375, 300, 3)\n",
      "<Slide, name = B_213-ST_BFIW-SE_1678_processed>, width=300, height=375, channels=3, levels=1, RGB=True, dtype=uint8> <valis.slide_io.VipsSlideReader object at 0x7f0567d3cb30> True (375, 300, 3)\n",
      "<Slide, name = B_213-ST_BFIW-SE_1679_processed>, width=300, height=375, channels=3, levels=1, RGB=True, dtype=uint8> <valis.slide_io.VipsSlideReader object at 0x7f0567d3ccb0> True (375, 300, 3)\n",
      "<Slide, name = B_213-ST_BFIW-SE_1680_processed>, width=300, height=375, channels=3, levels=1, RGB=True, dtype=uint8> <valis.slide_io.VipsSlideReader object at 0x7f0567d1cec0> True (375, 300, 3)\n",
      "<Slide, name = B_213-ST_BFIW-SE_1681_processed>, width=300, height=375, channels=3, levels=1, RGB=True, dtype=uint8> <valis.slide_io.VipsSlideReader object at 0x7f0567d3c9e0> True (375, 300, 3)\n"
     ]
    },
    {
     "name": "stderr",
     "output_type": "stream",
     "text": [
      "Converting images:  63%|█████████████████████████████▊                 | 1653/2608 [00:22<00:10, 93.04image/s]"
     ]
    },
    {
     "name": "stdout",
     "output_type": "stream",
     "text": [
      "<Slide, name = B_213-ST_BFIW-SE_1682_processed>, width=300, height=375, channels=3, levels=1, RGB=True, dtype=uint8> <valis.slide_io.VipsSlideReader object at 0x7f0567d3cc50> True (375, 300, 3)\n",
      "<Slide, name = B_213-ST_BFIW-SE_1683_processed>, width=300, height=375, channels=3, levels=1, RGB=True, dtype=uint8> <valis.slide_io.VipsSlideReader object at 0x7f0567d3ce90> True (375, 300, 3)\n",
      "<Slide, name = B_213-ST_BFIW-SE_1684_processed>, width=300, height=375, channels=3, levels=1, RGB=True, dtype=uint8> <valis.slide_io.VipsSlideReader object at 0x7f0567d3cad0> True (375, 300, 3)\n",
      "<Slide, name = B_213-ST_BFIW-SE_1685_processed>, width=300, height=375, channels=3, levels=1, RGB=True, dtype=uint8> <valis.slide_io.VipsSlideReader object at 0x7f0567d3d010> True (375, 300, 3)\n",
      "<Slide, name = B_213-ST_BFIW-SE_1686_processed>, width=300, height=375, channels=3, levels=1, RGB=True, dtype=uint8> <valis.slide_io.VipsSlideReader object at 0x7f0567d2d070> True (375, 300, 3)\n",
      "<Slide, name = B_213-ST_BFIW-SE_1687_processed>, width=300, height=375, channels=3, levels=1, RGB=True, dtype=uint8> <valis.slide_io.VipsSlideReader object at 0x7f0567d3cfb0> True (375, 300, 3)\n",
      "<Slide, name = B_213-ST_BFIW-SE_1688_processed>, width=300, height=375, channels=3, levels=1, RGB=True, dtype=uint8> <valis.slide_io.VipsSlideReader object at 0x7f0567d3cd10> True (375, 300, 3)\n",
      "<Slide, name = B_213-ST_BFIW-SE_1689_processed>, width=300, height=375, channels=3, levels=1, RGB=True, dtype=uint8> <valis.slide_io.VipsSlideReader object at 0x7f0567d3d190> True (375, 300, 3)\n",
      "<Slide, name = B_213-ST_BFIW-SE_1690_processed>, width=300, height=375, channels=3, levels=1, RGB=True, dtype=uint8> <valis.slide_io.VipsSlideReader object at 0x7f0567d2d1c0> True (375, 300, 3)\n",
      "<Slide, name = B_213-ST_BFIW-SE_1691_processed>, width=300, height=375, channels=3, levels=1, RGB=True, dtype=uint8> <valis.slide_io.VipsSlideReader object at 0x7f0567d3d2b0> True (375, 300, 3)\n"
     ]
    },
    {
     "name": "stderr",
     "output_type": "stream",
     "text": [
      "Converting images:  64%|█████████████████████████████▉                 | 1663/2608 [00:22<00:10, 92.36image/s]"
     ]
    },
    {
     "name": "stdout",
     "output_type": "stream",
     "text": [
      "<Slide, name = B_213-ST_BFIW-SE_1692_processed>, width=300, height=375, channels=3, levels=1, RGB=True, dtype=uint8> <valis.slide_io.VipsSlideReader object at 0x7f0567d1d220> True (375, 300, 3)\n",
      "<Slide, name = B_213-ST_BFIW-SE_1693_processed>, width=300, height=375, channels=3, levels=1, RGB=True, dtype=uint8> <valis.slide_io.VipsSlideReader object at 0x7f0567d3cf20> True (375, 300, 3)\n",
      "<Slide, name = B_213-ST_BFIW-SE_1694_processed>, width=300, height=375, channels=3, levels=1, RGB=True, dtype=uint8> <valis.slide_io.VipsSlideReader object at 0x7f0567d3d490> True (375, 300, 3)\n",
      "<Slide, name = B_213-ST_BFIW-SE_1695_processed>, width=300, height=375, channels=3, levels=1, RGB=True, dtype=uint8> <valis.slide_io.VipsSlideReader object at 0x7f0567d2d370> True (375, 300, 3)\n",
      "<Slide, name = B_213-ST_BFIW-SE_1696_processed>, width=300, height=375, channels=3, levels=1, RGB=True, dtype=uint8> <valis.slide_io.VipsSlideReader object at 0x7f0567d1c860> True (375, 300, 3)\n",
      "<Slide, name = B_213-ST_BFIW-SE_1697_processed>, width=300, height=375, channels=3, levels=1, RGB=True, dtype=uint8> <valis.slide_io.VipsSlideReader object at 0x7f072005d4f0> True (375, 300, 3)\n",
      "<Slide, name = B_213-ST_BFIW-SE_1698_processed>, width=300, height=375, channels=3, levels=1, RGB=True, dtype=uint8> <valis.slide_io.VipsSlideReader object at 0x7f0567d3d580> True (375, 300, 3)\n",
      "<Slide, name = B_213-ST_BFIW-SE_1699_processed>, width=300, height=375, channels=3, levels=1, RGB=True, dtype=uint8> <valis.slide_io.VipsSlideReader object at 0x7f0567d1d5b0> True (375, 300, 3)\n",
      "<Slide, name = B_213-ST_BFIW-SE_1700_processed>, width=300, height=375, channels=3, levels=1, RGB=True, dtype=uint8> <valis.slide_io.VipsSlideReader object at 0x7f0567d3d5e0> True (375, 300, 3)\n",
      "<Slide, name = B_213-ST_BFIW-SE_1701_processed>, width=300, height=375, channels=3, levels=1, RGB=True, dtype=uint8> <valis.slide_io.VipsSlideReader object at 0x7f0567d2d670> True (375, 300, 3)\n"
     ]
    },
    {
     "name": "stderr",
     "output_type": "stream",
     "text": [
      "Converting images:  64%|██████████████████████████████▏                | 1673/2608 [00:22<00:10, 92.60image/s]"
     ]
    },
    {
     "name": "stdout",
     "output_type": "stream",
     "text": [
      "<Slide, name = B_213-ST_BFIW-SE_1702_processed>, width=300, height=375, channels=3, levels=1, RGB=True, dtype=uint8> <valis.slide_io.VipsSlideReader object at 0x7f0567d154c0> True (375, 300, 3)\n",
      "<Slide, name = B_213-ST_BFIW-SE_1703_processed>, width=300, height=375, channels=3, levels=1, RGB=True, dtype=uint8> <valis.slide_io.VipsSlideReader object at 0x7f0567d3d550> True (375, 300, 3)\n",
      "<Slide, name = B_213-ST_BFIW-SE_1704_processed>, width=300, height=375, channels=3, levels=1, RGB=True, dtype=uint8> <valis.slide_io.VipsSlideReader object at 0x7f0567d3d790> True (375, 300, 3)\n",
      "<Slide, name = B_213-ST_BFIW-SE_1705_processed>, width=300, height=375, channels=3, levels=1, RGB=True, dtype=uint8> <valis.slide_io.VipsSlideReader object at 0x7f0567d3d250> True (375, 300, 3)\n",
      "<Slide, name = B_213-ST_BFIW-SE_1706_processed>, width=300, height=375, channels=3, levels=1, RGB=True, dtype=uint8> <valis.slide_io.VipsSlideReader object at 0x7f0567d3d880> True (375, 300, 3)\n",
      "<Slide, name = B_213-ST_BFIW-SE_1707_processed>, width=300, height=375, channels=3, levels=1, RGB=True, dtype=uint8> <valis.slide_io.VipsSlideReader object at 0x7f0567d3d850> True (375, 300, 3)\n",
      "<Slide, name = B_213-ST_BFIW-SE_1708_processed>, width=300, height=375, channels=3, levels=1, RGB=True, dtype=uint8> <valis.slide_io.VipsSlideReader object at 0x7f0567d1d280> True (375, 300, 3)\n",
      "<Slide, name = B_213-ST_BFIW-SE_1709_processed>, width=300, height=375, channels=3, levels=1, RGB=True, dtype=uint8> <valis.slide_io.VipsSlideReader object at 0x7f05680ddb20> True (375, 300, 3)\n",
      "<Slide, name = B_213-ST_BFIW-SE_1710_processed>, width=300, height=375, channels=3, levels=1, RGB=True, dtype=uint8> <valis.slide_io.VipsSlideReader object at 0x7f0567d2d640> True (375, 300, 3)\n",
      "<Slide, name = B_213-ST_BFIW-SE_1711_processed>, width=300, height=375, channels=3, levels=1, RGB=True, dtype=uint8> <valis.slide_io.VipsSlideReader object at 0x7f0567d1daf0> True (375, 300, 3)\n"
     ]
    },
    {
     "name": "stderr",
     "output_type": "stream",
     "text": [
      "Converting images:  65%|██████████████████████████████▎                | 1683/2608 [00:22<00:10, 91.59image/s]"
     ]
    },
    {
     "name": "stdout",
     "output_type": "stream",
     "text": [
      "<Slide, name = B_213-ST_BFIW-SE_1712_processed>, width=300, height=375, channels=3, levels=1, RGB=True, dtype=uint8> <valis.slide_io.VipsSlideReader object at 0x7f0567d3d8e0> True (375, 300, 3)\n",
      "<Slide, name = B_213-ST_BFIW-SE_1713_processed>, width=300, height=375, channels=3, levels=1, RGB=True, dtype=uint8> <valis.slide_io.VipsSlideReader object at 0x7f0567d2db80> True (375, 300, 3)\n",
      "<Slide, name = B_213-ST_BFIW-SE_1714_processed>, width=300, height=375, channels=3, levels=1, RGB=True, dtype=uint8> <valis.slide_io.VipsSlideReader object at 0x7f0567d2d8b0> True (375, 300, 3)\n",
      "<Slide, name = B_213-ST_BFIW-SE_1715_processed>, width=300, height=375, channels=3, levels=1, RGB=True, dtype=uint8> <valis.slide_io.VipsSlideReader object at 0x7f0567d2dc40> True (375, 300, 3)\n",
      "<Slide, name = B_213-ST_BFIW-SE_1716_processed>, width=300, height=375, channels=3, levels=1, RGB=True, dtype=uint8> <valis.slide_io.VipsSlideReader object at 0x7f0567d3da00> True (375, 300, 3)\n",
      "<Slide, name = B_213-ST_BFIW-SE_1717_processed>, width=300, height=375, channels=3, levels=1, RGB=True, dtype=uint8> <valis.slide_io.VipsSlideReader object at 0x7f0567d3dcd0> True (375, 300, 3)\n",
      "<Slide, name = B_213-ST_BFIW-SE_1718_processed>, width=300, height=375, channels=3, levels=1, RGB=True, dtype=uint8> <valis.slide_io.VipsSlideReader object at 0x7f0567d2dbe0> True (375, 300, 3)\n",
      "<Slide, name = B_213-ST_BFIW-SE_1719_processed>, width=300, height=375, channels=3, levels=1, RGB=True, dtype=uint8> <valis.slide_io.VipsSlideReader object at 0x7f0567d1df40> True (375, 300, 3)\n",
      "<Slide, name = B_213-ST_BFIW-SE_1720_processed>, width=300, height=375, channels=3, levels=1, RGB=True, dtype=uint8> <valis.slide_io.VipsSlideReader object at 0x7f0567d2de20> True (375, 300, 3)\n",
      "<Slide, name = B_213-ST_BFIW-SE_1721_processed>, width=300, height=375, channels=3, levels=1, RGB=True, dtype=uint8> <valis.slide_io.VipsSlideReader object at 0x7f0567d3ddf0> True (375, 300, 3)\n"
     ]
    },
    {
     "name": "stderr",
     "output_type": "stream",
     "text": [
      "Converting images:  65%|██████████████████████████████▌                | 1693/2608 [00:22<00:09, 91.69image/s]"
     ]
    },
    {
     "name": "stdout",
     "output_type": "stream",
     "text": [
      "<Slide, name = B_213-ST_BFIW-SE_1722_processed>, width=300, height=375, channels=3, levels=1, RGB=True, dtype=uint8> <valis.slide_io.VipsSlideReader object at 0x7f0567d3df10> True (375, 300, 3)\n",
      "<Slide, name = B_213-ST_BFIW-SE_1723_processed>, width=300, height=375, channels=3, levels=1, RGB=True, dtype=uint8> <valis.slide_io.VipsSlideReader object at 0x7f0567d3db50> True (375, 300, 3)\n",
      "<Slide, name = B_213-ST_BFIW-SE_1724_processed>, width=300, height=375, channels=3, levels=1, RGB=True, dtype=uint8> <valis.slide_io.VipsSlideReader object at 0x7f0567d3dd90> True (375, 300, 3)\n",
      "<Slide, name = B_213-ST_BFIW-SE_1725_processed>, width=300, height=375, channels=3, levels=1, RGB=True, dtype=uint8> <valis.slide_io.VipsSlideReader object at 0x7f0567d3e150> True (375, 300, 3)\n",
      "<Slide, name = B_213-ST_BFIW-SE_1726_processed>, width=300, height=375, channels=3, levels=1, RGB=True, dtype=uint8> <valis.slide_io.VipsSlideReader object at 0x7f0567d2e1e0> True (375, 300, 3)\n",
      "<Slide, name = B_213-ST_BFIW-SE_1727_processed>, width=300, height=375, channels=3, levels=1, RGB=True, dtype=uint8> <valis.slide_io.VipsSlideReader object at 0x7f0567d3e060> True (375, 300, 3)\n",
      "<Slide, name = B_213-ST_BFIW-SE_1728_processed>, width=300, height=375, channels=3, levels=1, RGB=True, dtype=uint8> <valis.slide_io.VipsSlideReader object at 0x7f0567d3e2d0> True (375, 300, 3)\n",
      "<Slide, name = B_213-ST_BFIW-SE_1729_processed>, width=300, height=375, channels=3, levels=1, RGB=True, dtype=uint8> <valis.slide_io.VipsSlideReader object at 0x7f05680ce180> True (375, 300, 3)\n",
      "<Slide, name = B_213-ST_BFIW-SE_1730_processed>, width=300, height=375, channels=3, levels=1, RGB=True, dtype=uint8> <valis.slide_io.VipsSlideReader object at 0x7f0567d2de80> True (375, 300, 3)\n",
      "<Slide, name = B_213-ST_BFIW-SE_1731_processed>, width=300, height=375, channels=3, levels=1, RGB=True, dtype=uint8> <valis.slide_io.VipsSlideReader object at 0x7f0567d1e330> True (375, 300, 3)\n"
     ]
    },
    {
     "name": "stderr",
     "output_type": "stream",
     "text": [
      "Converting images:  65%|██████████████████████████████▋                | 1703/2608 [00:22<00:09, 91.66image/s]"
     ]
    },
    {
     "name": "stdout",
     "output_type": "stream",
     "text": [
      "<Slide, name = B_213-ST_BFIW-SE_1732_processed>, width=300, height=375, channels=3, levels=1, RGB=True, dtype=uint8> <valis.slide_io.VipsSlideReader object at 0x7f0567d3e3c0> True (375, 300, 3)\n",
      "<Slide, name = B_213-ST_BFIW-SE_1733_processed>, width=300, height=375, channels=3, levels=1, RGB=True, dtype=uint8> <valis.slide_io.VipsSlideReader object at 0x7f0567d3e390> True (375, 300, 3)\n",
      "<Slide, name = B_213-ST_BFIW-SE_1734_processed>, width=300, height=375, channels=3, levels=1, RGB=True, dtype=uint8> <valis.slide_io.VipsSlideReader object at 0x7f0567d3e090> True (375, 300, 3)\n",
      "<Slide, name = B_213-ST_BFIW-SE_1735_processed>, width=300, height=375, channels=3, levels=1, RGB=True, dtype=uint8> <valis.slide_io.VipsSlideReader object at 0x7f0567d3e600> True (375, 300, 3)\n",
      "<Slide, name = B_213-ST_BFIW-SE_1736_processed>, width=300, height=375, channels=3, levels=1, RGB=True, dtype=uint8> <valis.slide_io.VipsSlideReader object at 0x7f0567d1e4e0> True (375, 300, 3)\n",
      "<Slide, name = B_213-ST_BFIW-SE_1737_processed>, width=300, height=375, channels=3, levels=1, RGB=True, dtype=uint8> <valis.slide_io.VipsSlideReader object at 0x7f0567d1e720> True (375, 300, 3)\n",
      "<Slide, name = B_213-ST_BFIW-SE_1738_processed>, width=300, height=375, channels=3, levels=1, RGB=True, dtype=uint8> <valis.slide_io.VipsSlideReader object at 0x7f0567d2e630> True (375, 300, 3)\n",
      "<Slide, name = B_213-ST_BFIW-SE_1739_processed>, width=300, height=375, channels=3, levels=1, RGB=True, dtype=uint8> <valis.slide_io.VipsSlideReader object at 0x7f0567d1e6c0> True (375, 300, 3)\n",
      "<Slide, name = B_213-ST_BFIW-SE_1740_processed>, width=300, height=375, channels=3, levels=1, RGB=True, dtype=uint8> <valis.slide_io.VipsSlideReader object at 0x7f0567d2e6f0> True (375, 300, 3)\n",
      "<Slide, name = B_213-ST_BFIW-SE_1741_processed>, width=300, height=375, channels=3, levels=1, RGB=True, dtype=uint8> <valis.slide_io.VipsSlideReader object at 0x7f0567d3e4b0> True (375, 300, 3)\n"
     ]
    },
    {
     "name": "stderr",
     "output_type": "stream",
     "text": [
      "Converting images:  66%|██████████████████████████████▊                | 1713/2608 [00:23<00:09, 92.19image/s]"
     ]
    },
    {
     "name": "stdout",
     "output_type": "stream",
     "text": [
      "<Slide, name = B_213-ST_BFIW-SE_1742_processed>, width=300, height=375, channels=3, levels=1, RGB=True, dtype=uint8> <valis.slide_io.VipsSlideReader object at 0x7f0567d3e750> True (375, 300, 3)\n",
      "<Slide, name = B_213-ST_BFIW-SE_1743_processed>, width=300, height=375, channels=3, levels=1, RGB=True, dtype=uint8> <valis.slide_io.VipsSlideReader object at 0x7f0567d3e240> True (375, 300, 3)\n",
      "<Slide, name = B_213-ST_BFIW-SE_1744_processed>, width=300, height=375, channels=3, levels=1, RGB=True, dtype=uint8> <valis.slide_io.VipsSlideReader object at 0x7f0567d2ea20> True (375, 300, 3)\n",
      "<Slide, name = B_213-ST_BFIW-SE_1745_processed>, width=300, height=375, channels=3, levels=1, RGB=True, dtype=uint8> <valis.slide_io.VipsSlideReader object at 0x7f0567d2e9c0> True (375, 300, 3)\n",
      "<Slide, name = B_213-ST_BFIW-SE_1746_processed>, width=300, height=375, channels=3, levels=1, RGB=True, dtype=uint8> <valis.slide_io.VipsSlideReader object at 0x7f05680ce9f0> True (375, 300, 3)\n",
      "<Slide, name = B_213-ST_BFIW-SE_1747_processed>, width=300, height=375, channels=3, levels=1, RGB=True, dtype=uint8> <valis.slide_io.VipsSlideReader object at 0x7f0567d3e5a0> True (375, 300, 3)\n",
      "<Slide, name = B_213-ST_BFIW-SE_1748_processed>, width=300, height=375, channels=3, levels=1, RGB=True, dtype=uint8> <valis.slide_io.VipsSlideReader object at 0x7f0567d3ea50> True (375, 300, 3)\n",
      "<Slide, name = B_213-ST_BFIW-SE_1749_processed>, width=300, height=375, channels=3, levels=1, RGB=True, dtype=uint8> <valis.slide_io.VipsSlideReader object at 0x7f0567d3e450> True (375, 300, 3)\n",
      "<Slide, name = B_213-ST_BFIW-SE_1750_processed>, width=300, height=375, channels=3, levels=1, RGB=True, dtype=uint8> <valis.slide_io.VipsSlideReader object at 0x7f0567d3ec90> True (375, 300, 3)\n",
      "<Slide, name = B_213-ST_BFIW-SE_1751_processed>, width=300, height=375, channels=3, levels=1, RGB=True, dtype=uint8> <valis.slide_io.VipsSlideReader object at 0x7f0567d2eb70> True (375, 300, 3)\n"
     ]
    },
    {
     "name": "stderr",
     "output_type": "stream",
     "text": [
      "Converting images:  66%|███████████████████████████████                | 1723/2608 [00:23<00:09, 92.93image/s]"
     ]
    },
    {
     "name": "stdout",
     "output_type": "stream",
     "text": [
      "<Slide, name = B_213-ST_BFIW-SE_1752_processed>, width=300, height=375, channels=3, levels=1, RGB=True, dtype=uint8> <valis.slide_io.VipsSlideReader object at 0x7f0567d2edb0> True (375, 300, 3)\n",
      "<Slide, name = B_213-ST_BFIW-SE_1753_processed>, width=300, height=375, channels=3, levels=1, RGB=True, dtype=uint8> <valis.slide_io.VipsSlideReader object at 0x7f0567d1ec00> True (375, 300, 3)\n",
      "<Slide, name = B_213-ST_BFIW-SE_1754_processed>, width=300, height=375, channels=3, levels=1, RGB=True, dtype=uint8> <valis.slide_io.VipsSlideReader object at 0x7f0567d3eb10> True (375, 300, 3)\n",
      "<Slide, name = B_213-ST_BFIW-SE_1755_processed>, width=300, height=375, channels=3, levels=1, RGB=True, dtype=uint8> <valis.slide_io.VipsSlideReader object at 0x7f0567d3ede0> True (375, 300, 3)\n",
      "<Slide, name = B_213-ST_BFIW-SE_1756_processed>, width=300, height=375, channels=3, levels=1, RGB=True, dtype=uint8> <valis.slide_io.VipsSlideReader object at 0x7f0567d3ef60> True (375, 300, 3)\n",
      "<Slide, name = B_213-ST_BFIW-SE_1757_processed>, width=300, height=375, channels=3, levels=1, RGB=True, dtype=uint8> <valis.slide_io.VipsSlideReader object at 0x7f0567d3ee10> True (375, 300, 3)\n",
      "<Slide, name = B_213-ST_BFIW-SE_1758_processed>, width=300, height=375, channels=3, levels=1, RGB=True, dtype=uint8> <valis.slide_io.VipsSlideReader object at 0x7f0567d2ed20> True (375, 300, 3)\n",
      "<Slide, name = B_213-ST_BFIW-SE_1759_processed>, width=300, height=375, channels=3, levels=1, RGB=True, dtype=uint8> <valis.slide_io.VipsSlideReader object at 0x7f0567d3ee70> True (375, 300, 3)\n",
      "<Slide, name = B_213-ST_BFIW-SE_1760_processed>, width=300, height=375, channels=3, levels=1, RGB=True, dtype=uint8> <valis.slide_io.VipsSlideReader object at 0x7f0567d2eea0> True (375, 300, 3)\n",
      "<Slide, name = B_213-ST_BFIW-SE_1761_processed>, width=300, height=375, channels=3, levels=1, RGB=True, dtype=uint8> <valis.slide_io.VipsSlideReader object at 0x7f0567d2eff0> True (375, 300, 3)\n"
     ]
    },
    {
     "name": "stderr",
     "output_type": "stream",
     "text": [
      "Converting images:  66%|███████████████████████████████▏               | 1733/2608 [00:23<00:09, 93.09image/s]"
     ]
    },
    {
     "name": "stdout",
     "output_type": "stream",
     "text": [
      "<Slide, name = B_213-ST_BFIW-SE_1762_processed>, width=300, height=375, channels=3, levels=1, RGB=True, dtype=uint8> <valis.slide_io.VipsSlideReader object at 0x7f0567d3ec60> True (375, 300, 3)\n",
      "<Slide, name = B_213-ST_BFIW-SE_1763_processed>, width=300, height=375, channels=3, levels=1, RGB=True, dtype=uint8> <valis.slide_io.VipsSlideReader object at 0x7f0567d2ec30> True (375, 300, 3)\n",
      "<Slide, name = B_213-ST_BFIW-SE_1764_processed>, width=300, height=375, channels=3, levels=1, RGB=True, dtype=uint8> <valis.slide_io.VipsSlideReader object at 0x7f0567d2f0e0> True (375, 300, 3)\n",
      "<Slide, name = B_213-ST_BFIW-SE_1765_processed>, width=300, height=375, channels=3, levels=1, RGB=True, dtype=uint8> <valis.slide_io.VipsSlideReader object at 0x7f0567d3f1d0> True (375, 300, 3)\n",
      "<Slide, name = B_213-ST_BFIW-SE_1766_processed>, width=300, height=375, channels=3, levels=1, RGB=True, dtype=uint8> <valis.slide_io.VipsSlideReader object at 0x7f0567d2f260> True (375, 300, 3)\n",
      "<Slide, name = B_213-ST_BFIW-SE_1767_processed>, width=300, height=375, channels=3, levels=1, RGB=True, dtype=uint8> <valis.slide_io.VipsSlideReader object at 0x7f0567d1f440> True (375, 300, 3)\n",
      "<Slide, name = B_213-ST_BFIW-SE_1768_processed>, width=300, height=375, channels=3, levels=1, RGB=True, dtype=uint8> <valis.slide_io.VipsSlideReader object at 0x7f0567d3f080> True (375, 300, 3)\n",
      "<Slide, name = B_213-ST_BFIW-SE_1769_processed>, width=300, height=375, channels=3, levels=1, RGB=True, dtype=uint8> <valis.slide_io.VipsSlideReader object at 0x7f0567d3ebd0> True (375, 300, 3)\n",
      "<Slide, name = B_213-ST_BFIW-SE_1770_processed>, width=300, height=375, channels=3, levels=1, RGB=True, dtype=uint8> <valis.slide_io.VipsSlideReader object at 0x7f0567d3f410> True (375, 300, 3)\n",
      "<Slide, name = B_213-ST_BFIW-SE_1771_processed>, width=300, height=375, channels=3, levels=1, RGB=True, dtype=uint8> <valis.slide_io.VipsSlideReader object at 0x7f0567d3f140> True (375, 300, 3)\n"
     ]
    },
    {
     "name": "stderr",
     "output_type": "stream",
     "text": [
      "Converting images:  67%|███████████████████████████████▍               | 1743/2608 [00:23<00:09, 92.93image/s]"
     ]
    },
    {
     "name": "stdout",
     "output_type": "stream",
     "text": [
      "<Slide, name = B_213-ST_BFIW-SE_1772_processed>, width=300, height=375, channels=3, levels=1, RGB=True, dtype=uint8> <valis.slide_io.VipsSlideReader object at 0x7f0567d3f590> True (375, 300, 3)\n",
      "<Slide, name = B_213-ST_BFIW-SE_1773_processed>, width=300, height=375, channels=3, levels=1, RGB=True, dtype=uint8> <valis.slide_io.VipsSlideReader object at 0x7f0567d1f5f0> True (375, 300, 3)\n",
      "<Slide, name = B_213-ST_BFIW-SE_1774_processed>, width=300, height=375, channels=3, levels=1, RGB=True, dtype=uint8> <valis.slide_io.VipsSlideReader object at 0x7f0567d3f530> True (375, 300, 3)\n",
      "<Slide, name = B_213-ST_BFIW-SE_1775_processed>, width=300, height=375, channels=3, levels=1, RGB=True, dtype=uint8> <valis.slide_io.VipsSlideReader object at 0x7f0567d1f5c0> True (375, 300, 3)\n",
      "<Slide, name = B_213-ST_BFIW-SE_1776_processed>, width=300, height=375, channels=3, levels=1, RGB=True, dtype=uint8> <valis.slide_io.VipsSlideReader object at 0x7f0567d3f6e0> True (375, 300, 3)\n",
      "<Slide, name = B_213-ST_BFIW-SE_1777_processed>, width=300, height=375, channels=3, levels=1, RGB=True, dtype=uint8> <valis.slide_io.VipsSlideReader object at 0x7f0567d2f200> True (375, 300, 3)\n",
      "<Slide, name = B_213-ST_BFIW-SE_1778_processed>, width=300, height=375, channels=3, levels=1, RGB=True, dtype=uint8> <valis.slide_io.VipsSlideReader object at 0x7f0567d3f6b0> True (375, 300, 3)\n",
      "<Slide, name = B_213-ST_BFIW-SE_1779_processed>, width=300, height=375, channels=3, levels=1, RGB=True, dtype=uint8> <valis.slide_io.VipsSlideReader object at 0x7f0567d2f770> True (375, 300, 3)\n",
      "<Slide, name = B_213-ST_BFIW-SE_1780_processed>, width=300, height=375, channels=3, levels=1, RGB=True, dtype=uint8> <valis.slide_io.VipsSlideReader object at 0x7f0567d1f9e0> True (375, 300, 3)\n",
      "<Slide, name = B_213-ST_BFIW-SE_1781_processed>, width=300, height=375, channels=3, levels=1, RGB=True, dtype=uint8> <valis.slide_io.VipsSlideReader object at 0x7f0567d3f560> True (375, 300, 3)\n"
     ]
    },
    {
     "name": "stderr",
     "output_type": "stream",
     "text": [
      "Converting images:  67%|███████████████████████████████▌               | 1753/2608 [00:23<00:09, 92.00image/s]"
     ]
    },
    {
     "name": "stdout",
     "output_type": "stream",
     "text": [
      "<Slide, name = B_213-ST_BFIW-SE_1782_processed>, width=300, height=375, channels=3, levels=1, RGB=True, dtype=uint8> <valis.slide_io.VipsSlideReader object at 0x7f0567d2f9b0> True (375, 300, 3)\n",
      "<Slide, name = B_213-ST_BFIW-SE_1783_processed>, width=300, height=375, channels=3, levels=1, RGB=True, dtype=uint8> <valis.slide_io.VipsSlideReader object at 0x7f0567d2f860> True (375, 300, 3)\n",
      "<Slide, name = B_213-ST_BFIW-SE_1784_processed>, width=300, height=375, channels=3, levels=1, RGB=True, dtype=uint8> <valis.slide_io.VipsSlideReader object at 0x7f0567d2fa40> True (375, 300, 3)\n",
      "<Slide, name = B_213-ST_BFIW-SE_1785_processed>, width=300, height=375, channels=3, levels=1, RGB=True, dtype=uint8> <valis.slide_io.VipsSlideReader object at 0x7f0567d3f740> True (375, 300, 3)\n",
      "<Slide, name = B_213-ST_BFIW-SE_1786_processed>, width=300, height=375, channels=3, levels=1, RGB=True, dtype=uint8> <valis.slide_io.VipsSlideReader object at 0x7f0567d2f620> True (375, 300, 3)\n",
      "<Slide, name = B_213-ST_BFIW-SE_1787_processed>, width=300, height=375, channels=3, levels=1, RGB=True, dtype=uint8> <valis.slide_io.VipsSlideReader object at 0x7f0567d3f890> True (375, 300, 3)\n",
      "<Slide, name = B_213-ST_BFIW-SE_1788_processed>, width=300, height=375, channels=3, levels=1, RGB=True, dtype=uint8> <valis.slide_io.VipsSlideReader object at 0x7f0567d3fb90> True (375, 300, 3)\n",
      "<Slide, name = B_213-ST_BFIW-SE_1789_processed>, width=300, height=375, channels=3, levels=1, RGB=True, dtype=uint8> <valis.slide_io.VipsSlideReader object at 0x7f0567d3fad0> True (375, 300, 3)\n",
      "<Slide, name = B_213-ST_BFIW-SE_1790_processed>, width=300, height=375, channels=3, levels=1, RGB=True, dtype=uint8> <valis.slide_io.VipsSlideReader object at 0x7f0567d3fb30> True (375, 300, 3)\n",
      "<Slide, name = B_213-ST_BFIW-SE_1791_processed>, width=300, height=375, channels=3, levels=1, RGB=True, dtype=uint8> <valis.slide_io.VipsSlideReader object at 0x7f0567d1fe90> True (375, 300, 3)\n"
     ]
    },
    {
     "name": "stderr",
     "output_type": "stream",
     "text": [
      "Converting images:  68%|███████████████████████████████▊               | 1763/2608 [00:23<00:09, 90.75image/s]"
     ]
    },
    {
     "name": "stdout",
     "output_type": "stream",
     "text": [
      "<Slide, name = B_213-ST_BFIW-SE_1792_processed>, width=300, height=375, channels=3, levels=1, RGB=True, dtype=uint8> <valis.slide_io.VipsSlideReader object at 0x7f0567d3fc50> True (375, 300, 3)\n",
      "<Slide, name = B_213-ST_BFIW-SE_1793_processed>, width=300, height=375, channels=3, levels=1, RGB=True, dtype=uint8> <valis.slide_io.VipsSlideReader object at 0x7f0567d3fe60> True (375, 300, 3)\n",
      "<Slide, name = B_213-ST_BFIW-SE_1794_processed>, width=300, height=375, channels=3, levels=1, RGB=True, dtype=uint8> <valis.slide_io.VipsSlideReader object at 0x7f0567d2ffe0> True (375, 300, 3)\n",
      "<Slide, name = B_213-ST_BFIW-SE_1795_processed>, width=300, height=375, channels=3, levels=1, RGB=True, dtype=uint8> <valis.slide_io.VipsSlideReader object at 0x7f0567d3ff20> True (375, 300, 3)\n",
      "<Slide, name = B_213-ST_BFIW-SE_1796_processed>, width=300, height=375, channels=3, levels=1, RGB=True, dtype=uint8> <valis.slide_io.VipsSlideReader object at 0x7f0567d2fd40> True (375, 300, 3)\n",
      "<Slide, name = B_213-ST_BFIW-SE_1797_processed>, width=300, height=375, channels=3, levels=1, RGB=True, dtype=uint8> <valis.slide_io.VipsSlideReader object at 0x7f0567d3f2f0> True (375, 300, 3)\n",
      "<Slide, name = B_213-ST_BFIW-SE_1798_processed>, width=300, height=375, channels=3, levels=1, RGB=True, dtype=uint8> <valis.slide_io.VipsSlideReader object at 0x7f0567d3ffb0> True (375, 300, 3)\n",
      "<Slide, name = B_213-ST_BFIW-SE_1799_processed>, width=300, height=375, channels=3, levels=1, RGB=True, dtype=uint8> <valis.slide_io.VipsSlideReader object at 0x7f0567d3fbf0> True (375, 300, 3)\n",
      "<Slide, name = B_213-ST_BFIW-SE_1800_processed>, width=300, height=375, channels=3, levels=1, RGB=True, dtype=uint8> <valis.slide_io.VipsSlideReader object at 0x7f0567d280e0> True (375, 300, 3)\n",
      "<Slide, name = B_213-ST_BFIW-SE_1801_processed>, width=300, height=375, channels=3, levels=1, RGB=True, dtype=uint8> <valis.slide_io.VipsSlideReader object at 0x7f0567d28260> True (375, 300, 3)\n"
     ]
    },
    {
     "name": "stderr",
     "output_type": "stream",
     "text": [
      "Converting images:  68%|███████████████████████████████▉               | 1773/2608 [00:23<00:09, 89.90image/s]"
     ]
    },
    {
     "name": "stdout",
     "output_type": "stream",
     "text": [
      "<Slide, name = B_213-ST_BFIW-SE_1802_processed>, width=300, height=375, channels=3, levels=1, RGB=True, dtype=uint8> <valis.slide_io.VipsSlideReader object at 0x7f0567d402c0> True (375, 300, 3)\n",
      "<Slide, name = B_213-ST_BFIW-SE_1803_processed>, width=300, height=375, channels=3, levels=1, RGB=True, dtype=uint8> <valis.slide_io.VipsSlideReader object at 0x7f0567d382f0> True (375, 300, 3)\n",
      "<Slide, name = B_213-ST_BFIW-SE_1804_processed>, width=300, height=375, channels=3, levels=1, RGB=True, dtype=uint8> <valis.slide_io.VipsSlideReader object at 0x7f0567d100b0> True (375, 300, 3)\n",
      "<Slide, name = B_213-ST_BFIW-SE_1805_processed>, width=300, height=375, channels=3, levels=1, RGB=True, dtype=uint8> <valis.slide_io.VipsSlideReader object at 0x7f0567d18380> True (375, 300, 3)\n",
      "<Slide, name = B_213-ST_BFIW-SE_1806_processed>, width=300, height=375, channels=3, levels=1, RGB=True, dtype=uint8> <valis.slide_io.VipsSlideReader object at 0x7f0567d40170> True (375, 300, 3)\n",
      "<Slide, name = B_213-ST_BFIW-SE_1807_processed>, width=300, height=375, channels=3, levels=1, RGB=True, dtype=uint8> <valis.slide_io.VipsSlideReader object at 0x7f0567d40440> True (375, 300, 3)\n",
      "<Slide, name = B_213-ST_BFIW-SE_1808_processed>, width=300, height=375, channels=3, levels=1, RGB=True, dtype=uint8> <valis.slide_io.VipsSlideReader object at 0x7f0567d385f0> True (375, 300, 3)\n",
      "<Slide, name = B_213-ST_BFIW-SE_1809_processed>, width=300, height=375, channels=3, levels=1, RGB=True, dtype=uint8> <valis.slide_io.VipsSlideReader object at 0x7f0567d38350> True (375, 300, 3)\n",
      "<Slide, name = B_213-ST_BFIW-SE_1810_processed>, width=300, height=375, channels=3, levels=1, RGB=True, dtype=uint8> <valis.slide_io.VipsSlideReader object at 0x7f0567d285c0> True (375, 300, 3)\n",
      "<Slide, name = B_213-ST_BFIW-SE_1811_processed>, width=300, height=375, channels=3, levels=1, RGB=True, dtype=uint8> <valis.slide_io.VipsSlideReader object at 0x7f05680e8620> True (375, 300, 3)\n"
     ]
    },
    {
     "name": "stderr",
     "output_type": "stream",
     "text": [
      "Converting images:  68%|████████████████████████████████▏              | 1783/2608 [00:23<00:09, 89.99image/s]"
     ]
    },
    {
     "name": "stdout",
     "output_type": "stream",
     "text": [
      "<Slide, name = B_213-ST_BFIW-SE_1812_processed>, width=300, height=375, channels=3, levels=1, RGB=True, dtype=uint8> <valis.slide_io.VipsSlideReader object at 0x7f0567d40500> True (375, 300, 3)\n",
      "<Slide, name = B_213-ST_BFIW-SE_1813_processed>, width=300, height=375, channels=3, levels=1, RGB=True, dtype=uint8> <valis.slide_io.VipsSlideReader object at 0x7f0567d386b0> True (375, 300, 3)\n",
      "<Slide, name = B_213-ST_BFIW-SE_1814_processed>, width=300, height=375, channels=3, levels=1, RGB=True, dtype=uint8> <valis.slide_io.VipsSlideReader object at 0x7f0567d38470> True (375, 300, 3)\n",
      "<Slide, name = B_213-ST_BFIW-SE_1815_processed>, width=300, height=375, channels=3, levels=1, RGB=True, dtype=uint8> <valis.slide_io.VipsSlideReader object at 0x7f0567d38770> True (375, 300, 3)\n",
      "<Slide, name = B_213-ST_BFIW-SE_1816_processed>, width=300, height=375, channels=3, levels=1, RGB=True, dtype=uint8> <valis.slide_io.VipsSlideReader object at 0x7f0567d40980> True (375, 300, 3)\n",
      "<Slide, name = B_213-ST_BFIW-SE_1817_processed>, width=300, height=375, channels=3, levels=1, RGB=True, dtype=uint8> <valis.slide_io.VipsSlideReader object at 0x7f0567d40650> True (375, 300, 3)\n",
      "<Slide, name = B_213-ST_BFIW-SE_1818_processed>, width=300, height=375, channels=3, levels=1, RGB=True, dtype=uint8> <valis.slide_io.VipsSlideReader object at 0x7f05680e87a0> True (375, 300, 3)\n",
      "<Slide, name = B_213-ST_BFIW-SE_1819_processed>, width=300, height=375, channels=3, levels=1, RGB=True, dtype=uint8> <valis.slide_io.VipsSlideReader object at 0x7f0567d38830> True (375, 300, 3)\n",
      "<Slide, name = B_213-ST_BFIW-SE_1820_processed>, width=300, height=375, channels=3, levels=1, RGB=True, dtype=uint8> <valis.slide_io.VipsSlideReader object at 0x7f0567d388f0> True (375, 300, 3)\n",
      "<Slide, name = B_213-ST_BFIW-SE_1821_processed>, width=300, height=375, channels=3, levels=1, RGB=True, dtype=uint8> <valis.slide_io.VipsSlideReader object at 0x7f0567d409b0> True (375, 300, 3)\n"
     ]
    },
    {
     "name": "stderr",
     "output_type": "stream",
     "text": [
      "Converting images:  69%|████████████████████████████████▎              | 1793/2608 [00:23<00:09, 90.00image/s]"
     ]
    },
    {
     "name": "stdout",
     "output_type": "stream",
     "text": [
      "<Slide, name = B_213-ST_BFIW-SE_1822_processed>, width=300, height=375, channels=3, levels=1, RGB=True, dtype=uint8> <valis.slide_io.VipsSlideReader object at 0x7f0567d40950> True (375, 300, 3)\n",
      "<Slide, name = B_213-ST_BFIW-SE_1823_processed>, width=300, height=375, channels=3, levels=1, RGB=True, dtype=uint8> <valis.slide_io.VipsSlideReader object at 0x7f0567d404d0> True (375, 300, 3)\n",
      "<Slide, name = B_213-ST_BFIW-SE_1824_processed>, width=300, height=375, channels=3, levels=1, RGB=True, dtype=uint8> <valis.slide_io.VipsSlideReader object at 0x7f0567d38bf0> True (375, 300, 3)\n",
      "<Slide, name = B_213-ST_BFIW-SE_1825_processed>, width=300, height=375, channels=3, levels=1, RGB=True, dtype=uint8> <valis.slide_io.VipsSlideReader object at 0x7f0567d40a40> True (375, 300, 3)\n",
      "<Slide, name = B_213-ST_BFIW-SE_1826_processed>, width=300, height=375, channels=3, levels=1, RGB=True, dtype=uint8> <valis.slide_io.VipsSlideReader object at 0x7f0567d20bc0> True (375, 300, 3)\n",
      "<Slide, name = B_213-ST_BFIW-SE_1827_processed>, width=300, height=375, channels=3, levels=1, RGB=True, dtype=uint8> <valis.slide_io.VipsSlideReader object at 0x7f0567d40c80> True (375, 300, 3)\n",
      "<Slide, name = B_213-ST_BFIW-SE_1828_processed>, width=300, height=375, channels=3, levels=1, RGB=True, dtype=uint8> <valis.slide_io.VipsSlideReader object at 0x7f0567d40a10> True (375, 300, 3)\n",
      "<Slide, name = B_213-ST_BFIW-SE_1829_processed>, width=300, height=375, channels=3, levels=1, RGB=True, dtype=uint8> <valis.slide_io.VipsSlideReader object at 0x7f0567d40c50> True (375, 300, 3)\n",
      "<Slide, name = B_213-ST_BFIW-SE_1830_processed>, width=300, height=375, channels=3, levels=1, RGB=True, dtype=uint8> <valis.slide_io.VipsSlideReader object at 0x7f0567d40ad0> True (375, 300, 3)\n",
      "<Slide, name = B_213-ST_BFIW-SE_1831_processed>, width=300, height=375, channels=3, levels=1, RGB=True, dtype=uint8> <valis.slide_io.VipsSlideReader object at 0x7f0567d38b30> True (375, 300, 3)\n"
     ]
    },
    {
     "name": "stderr",
     "output_type": "stream",
     "text": [
      "Converting images:  69%|████████████████████████████████▍              | 1803/2608 [00:24<00:09, 87.87image/s]"
     ]
    },
    {
     "name": "stdout",
     "output_type": "stream",
     "text": [
      "<Slide, name = B_213-ST_BFIW-SE_1832_processed>, width=300, height=375, channels=3, levels=1, RGB=True, dtype=uint8> <valis.slide_io.VipsSlideReader object at 0x7f0567d288c0> True (375, 300, 3)\n",
      "<Slide, name = B_213-ST_BFIW-SE_1833_processed>, width=300, height=375, channels=3, levels=1, RGB=True, dtype=uint8> <valis.slide_io.VipsSlideReader object at 0x7f0567d38e30> True (375, 300, 3)\n",
      "<Slide, name = B_213-ST_BFIW-SE_1834_processed>, width=300, height=375, channels=3, levels=1, RGB=True, dtype=uint8> <valis.slide_io.VipsSlideReader object at 0x7f0567d40ec0> True (375, 300, 3)\n",
      "<Slide, name = B_213-ST_BFIW-SE_1835_processed>, width=300, height=375, channels=3, levels=1, RGB=True, dtype=uint8> <valis.slide_io.VipsSlideReader object at 0x7f0567d40ef0> True (375, 300, 3)\n",
      "<Slide, name = B_213-ST_BFIW-SE_1836_processed>, width=300, height=375, channels=3, levels=1, RGB=True, dtype=uint8> <valis.slide_io.VipsSlideReader object at 0x7f0567d40b90> True (375, 300, 3)\n",
      "<Slide, name = B_213-ST_BFIW-SE_1837_processed>, width=300, height=375, channels=3, levels=1, RGB=True, dtype=uint8> <valis.slide_io.VipsSlideReader object at 0x7f0567d40ce0> True (375, 300, 3)\n",
      "<Slide, name = B_213-ST_BFIW-SE_1838_processed>, width=300, height=375, channels=3, levels=1, RGB=True, dtype=uint8> <valis.slide_io.VipsSlideReader object at 0x7f0567d40cb0> True (375, 300, 3)\n",
      "<Slide, name = B_213-ST_BFIW-SE_1839_processed>, width=300, height=375, channels=3, levels=1, RGB=True, dtype=uint8> <valis.slide_io.VipsSlideReader object at 0x7f0567d40d10> True (375, 300, 3)\n",
      "<Slide, name = B_213-ST_BFIW-SE_1840_processed>, width=300, height=375, channels=3, levels=1, RGB=True, dtype=uint8> <valis.slide_io.VipsSlideReader object at 0x7f0567d40f80> True (375, 300, 3)\n"
     ]
    },
    {
     "name": "stderr",
     "output_type": "stream",
     "text": [
      "Converting images:  69%|████████████████████████████████▋              | 1812/2608 [00:24<00:09, 84.82image/s]"
     ]
    },
    {
     "name": "stdout",
     "output_type": "stream",
     "text": [
      "<Slide, name = B_213-ST_BFIW-SE_1841_processed>, width=300, height=375, channels=3, levels=1, RGB=True, dtype=uint8> <valis.slide_io.VipsSlideReader object at 0x7f0567d40fe0> True (375, 300, 3)\n",
      "<Slide, name = B_213-ST_BFIW-SE_1842_processed>, width=300, height=375, channels=3, levels=1, RGB=True, dtype=uint8> <valis.slide_io.VipsSlideReader object at 0x7f0567d41040> True (375, 300, 3)\n",
      "<Slide, name = B_213-ST_BFIW-SE_1843_processed>, width=300, height=375, channels=3, levels=1, RGB=True, dtype=uint8> <valis.slide_io.VipsSlideReader object at 0x7f0567d40920> True (375, 300, 3)\n",
      "<Slide, name = B_213-ST_BFIW-SE_1844_processed>, width=300, height=375, channels=3, levels=1, RGB=True, dtype=uint8> <valis.slide_io.VipsSlideReader object at 0x7f0567d40f20> True (375, 300, 3)\n",
      "<Slide, name = B_213-ST_BFIW-SE_1845_processed>, width=300, height=375, channels=3, levels=1, RGB=True, dtype=uint8> <valis.slide_io.VipsSlideReader object at 0x7f0567d40f50> True (375, 300, 3)\n",
      "<Slide, name = B_213-ST_BFIW-SE_1846_processed>, width=300, height=375, channels=3, levels=1, RGB=True, dtype=uint8> <valis.slide_io.VipsSlideReader object at 0x7f0567d40fb0> True (375, 300, 3)\n",
      "<Slide, name = B_213-ST_BFIW-SE_1847_processed>, width=300, height=375, channels=3, levels=1, RGB=True, dtype=uint8> <valis.slide_io.VipsSlideReader object at 0x7f0567d41010> True (375, 300, 3)\n",
      "<Slide, name = B_213-ST_BFIW-SE_1848_processed>, width=300, height=375, channels=3, levels=1, RGB=True, dtype=uint8> <valis.slide_io.VipsSlideReader object at 0x7f0567d41070> True (375, 300, 3)\n",
      "<Slide, name = B_213-ST_BFIW-SE_1849_processed>, width=300, height=375, channels=3, levels=1, RGB=True, dtype=uint8> <valis.slide_io.VipsSlideReader object at 0x7f0567d410d0> True (375, 300, 3)\n"
     ]
    },
    {
     "name": "stderr",
     "output_type": "stream",
     "text": [
      "Converting images:  70%|████████████████████████████████▊              | 1821/2608 [00:24<00:10, 77.86image/s]"
     ]
    },
    {
     "name": "stdout",
     "output_type": "stream",
     "text": [
      "<Slide, name = B_213-ST_BFIW-SE_1850_processed>, width=300, height=375, channels=3, levels=1, RGB=True, dtype=uint8> <valis.slide_io.VipsSlideReader object at 0x7f0567d41160> True (375, 300, 3)\n",
      "<Slide, name = B_213-ST_BFIW-SE_1851_processed>, width=300, height=375, channels=3, levels=1, RGB=True, dtype=uint8> <valis.slide_io.VipsSlideReader object at 0x7f0567d411c0> True (375, 300, 3)\n",
      "<Slide, name = B_213-ST_BFIW-SE_1852_processed>, width=300, height=375, channels=3, levels=1, RGB=True, dtype=uint8> <valis.slide_io.VipsSlideReader object at 0x7f0567d41220> True (375, 300, 3)\n",
      "<Slide, name = B_213-ST_BFIW-SE_1853_processed>, width=300, height=375, channels=3, levels=1, RGB=True, dtype=uint8> <valis.slide_io.VipsSlideReader object at 0x7f05680eb1d0> True (375, 300, 3)\n",
      "<Slide, name = B_213-ST_BFIW-SE_1854_processed>, width=300, height=375, channels=3, levels=1, RGB=True, dtype=uint8> <valis.slide_io.VipsSlideReader object at 0x7f0567d41850> True (375, 300, 3)\n",
      "<Slide, name = B_213-ST_BFIW-SE_1855_processed>, width=300, height=375, channels=3, levels=1, RGB=True, dtype=uint8> <valis.slide_io.VipsSlideReader object at 0x7f0567d417f0> True (375, 300, 3)\n",
      "<Slide, name = B_213-ST_BFIW-SE_1856_processed>, width=300, height=375, channels=3, levels=1, RGB=True, dtype=uint8> <valis.slide_io.VipsSlideReader object at 0x7f0567d412e0> True (375, 300, 3)\n",
      "<Slide, name = B_213-ST_BFIW-SE_1857_processed>, width=300, height=375, channels=3, levels=1, RGB=True, dtype=uint8> <valis.slide_io.VipsSlideReader object at 0x7f0567d41280> True (375, 300, 3)\n"
     ]
    },
    {
     "name": "stderr",
     "output_type": "stream",
     "text": [
      "Converting images:  70%|████████████████████████████████▉              | 1829/2608 [00:24<00:10, 75.40image/s]"
     ]
    },
    {
     "name": "stdout",
     "output_type": "stream",
     "text": [
      "<Slide, name = B_213-ST_BFIW-SE_1858_processed>, width=300, height=375, channels=3, levels=1, RGB=True, dtype=uint8> <valis.slide_io.VipsSlideReader object at 0x7f0567d41520> True (375, 300, 3)\n",
      "<Slide, name = B_213-ST_BFIW-SE_1859_processed>, width=300, height=375, channels=3, levels=1, RGB=True, dtype=uint8> <valis.slide_io.VipsSlideReader object at 0x7f0567d41760> True (375, 300, 3)\n",
      "<Slide, name = B_213-ST_BFIW-SE_1860_processed>, width=300, height=375, channels=3, levels=1, RGB=True, dtype=uint8> <valis.slide_io.VipsSlideReader object at 0x7f0567d41640> True (375, 300, 3)\n",
      "<Slide, name = B_213-ST_BFIW-SE_1861_processed>, width=300, height=375, channels=3, levels=1, RGB=True, dtype=uint8> <valis.slide_io.VipsSlideReader object at 0x7f0567d415e0> True (375, 300, 3)\n",
      "<Slide, name = B_213-ST_BFIW-SE_1862_processed>, width=300, height=375, channels=3, levels=1, RGB=True, dtype=uint8> <valis.slide_io.VipsSlideReader object at 0x7f0567d41340> True (375, 300, 3)\n",
      "<Slide, name = B_213-ST_BFIW-SE_1863_processed>, width=300, height=375, channels=3, levels=1, RGB=True, dtype=uint8> <valis.slide_io.VipsSlideReader object at 0x7f0567d40350> True (375, 300, 3)\n",
      "<Slide, name = B_213-ST_BFIW-SE_1864_processed>, width=300, height=375, channels=3, levels=1, RGB=True, dtype=uint8> <valis.slide_io.VipsSlideReader object at 0x7f0567d419d0> True (375, 300, 3)\n",
      "<Slide, name = B_213-ST_BFIW-SE_1865_processed>, width=300, height=375, channels=3, levels=1, RGB=True, dtype=uint8> <valis.slide_io.VipsSlideReader object at 0x7f0567d41ac0> True (375, 300, 3)\n"
     ]
    },
    {
     "name": "stderr",
     "output_type": "stream",
     "text": [
      "Converting images:  70%|█████████████████████████████████              | 1837/2608 [00:24<00:10, 74.91image/s]"
     ]
    },
    {
     "name": "stdout",
     "output_type": "stream",
     "text": [
      "<Slide, name = B_213-ST_BFIW-SE_1866_processed>, width=300, height=375, channels=3, levels=1, RGB=True, dtype=uint8> <valis.slide_io.VipsSlideReader object at 0x7f0567d414c0> True (375, 300, 3)\n",
      "<Slide, name = B_213-ST_BFIW-SE_1867_processed>, width=300, height=375, channels=3, levels=1, RGB=True, dtype=uint8> <valis.slide_io.VipsSlideReader object at 0x7f0567d418b0> True (375, 300, 3)\n",
      "<Slide, name = B_213-ST_BFIW-SE_1868_processed>, width=300, height=375, channels=3, levels=1, RGB=True, dtype=uint8> <valis.slide_io.VipsSlideReader object at 0x7f0567d41a90> True (375, 300, 3)\n",
      "<Slide, name = B_213-ST_BFIW-SE_1869_processed>, width=300, height=375, channels=3, levels=1, RGB=True, dtype=uint8> <valis.slide_io.VipsSlideReader object at 0x7f0567d41970> True (375, 300, 3)\n",
      "<Slide, name = B_213-ST_BFIW-SE_1870_processed>, width=300, height=375, channels=3, levels=1, RGB=True, dtype=uint8> <valis.slide_io.VipsSlideReader object at 0x7f0567d41910> True (375, 300, 3)\n",
      "<Slide, name = B_213-ST_BFIW-SE_1871_processed>, width=300, height=375, channels=3, levels=1, RGB=True, dtype=uint8> <valis.slide_io.VipsSlideReader object at 0x7f0567d41b80> True (375, 300, 3)\n",
      "<Slide, name = B_213-ST_BFIW-SE_1872_processed>, width=300, height=375, channels=3, levels=1, RGB=True, dtype=uint8> <valis.slide_io.VipsSlideReader object at 0x7f0567d41a30> True (375, 300, 3)\n",
      "<Slide, name = B_213-ST_BFIW-SE_1873_processed>, width=300, height=375, channels=3, levels=1, RGB=True, dtype=uint8> <valis.slide_io.VipsSlideReader object at 0x7f0567d41b20> True (375, 300, 3)\n"
     ]
    },
    {
     "name": "stderr",
     "output_type": "stream",
     "text": [
      "Converting images:  71%|█████████████████████████████████▏             | 1845/2608 [00:24<00:10, 72.16image/s]"
     ]
    },
    {
     "name": "stdout",
     "output_type": "stream",
     "text": [
      "<Slide, name = B_213-ST_BFIW-SE_1874_processed>, width=300, height=375, channels=3, levels=1, RGB=True, dtype=uint8> <valis.slide_io.VipsSlideReader object at 0x7f0567d3cdd0> True (375, 300, 3)\n",
      "<Slide, name = B_213-ST_BFIW-SE_1875_processed>, width=300, height=375, channels=3, levels=1, RGB=True, dtype=uint8> <valis.slide_io.VipsSlideReader object at 0x7f0567d41820> True (375, 300, 3)\n",
      "<Slide, name = B_213-ST_BFIW-SE_1876_processed>, width=300, height=375, channels=3, levels=1, RGB=True, dtype=uint8> <valis.slide_io.VipsSlideReader object at 0x7f0567d41af0> True (375, 300, 3)\n",
      "<Slide, name = B_213-ST_BFIW-SE_1877_processed>, width=300, height=375, channels=3, levels=1, RGB=True, dtype=uint8> <valis.slide_io.VipsSlideReader object at 0x7f0567d41b50> True (375, 300, 3)\n",
      "<Slide, name = B_213-ST_BFIW-SE_1878_processed>, width=300, height=375, channels=3, levels=1, RGB=True, dtype=uint8> <valis.slide_io.VipsSlideReader object at 0x7f0567d417c0> True (375, 300, 3)\n",
      "<Slide, name = B_213-ST_BFIW-SE_1879_processed>, width=300, height=375, channels=3, levels=1, RGB=True, dtype=uint8> <valis.slide_io.VipsSlideReader object at 0x7f0567d41ca0> True (375, 300, 3)\n",
      "<Slide, name = B_213-ST_BFIW-SE_1880_processed>, width=300, height=375, channels=3, levels=1, RGB=True, dtype=uint8> <valis.slide_io.VipsSlideReader object at 0x7f0567d41be0> True (375, 300, 3)\n",
      "<Slide, name = B_213-ST_BFIW-SE_1881_processed>, width=300, height=375, channels=3, levels=1, RGB=True, dtype=uint8> <valis.slide_io.VipsSlideReader object at 0x7f0567d41d00> True (375, 300, 3)\n"
     ]
    },
    {
     "name": "stderr",
     "output_type": "stream",
     "text": [
      "Converting images:  71%|█████████████████████████████████▍             | 1853/2608 [00:24<00:10, 73.62image/s]"
     ]
    },
    {
     "name": "stdout",
     "output_type": "stream",
     "text": [
      "<Slide, name = B_213-ST_BFIW-SE_1882_processed>, width=300, height=375, channels=3, levels=1, RGB=True, dtype=uint8> <valis.slide_io.VipsSlideReader object at 0x7f0567d41d60> True (375, 300, 3)\n",
      "<Slide, name = B_213-ST_BFIW-SE_1883_processed>, width=300, height=375, channels=3, levels=1, RGB=True, dtype=uint8> <valis.slide_io.VipsSlideReader object at 0x7f0567d41dc0> True (375, 300, 3)\n",
      "<Slide, name = B_213-ST_BFIW-SE_1884_processed>, width=300, height=375, channels=3, levels=1, RGB=True, dtype=uint8> <valis.slide_io.VipsSlideReader object at 0x7f0567d41e20> True (375, 300, 3)\n",
      "<Slide, name = B_213-ST_BFIW-SE_1885_processed>, width=300, height=375, channels=3, levels=1, RGB=True, dtype=uint8> <valis.slide_io.VipsSlideReader object at 0x7f0567d409e0> True (375, 300, 3)\n",
      "<Slide, name = B_213-ST_BFIW-SE_1886_processed>, width=300, height=375, channels=3, levels=1, RGB=True, dtype=uint8> <valis.slide_io.VipsSlideReader object at 0x7f0567d41e80> True (375, 300, 3)\n",
      "<Slide, name = B_213-ST_BFIW-SE_1887_processed>, width=300, height=375, channels=3, levels=1, RGB=True, dtype=uint8> <valis.slide_io.VipsSlideReader object at 0x7f0567d21c40> True (375, 300, 3)\n",
      "<Slide, name = B_213-ST_BFIW-SE_1888_processed>, width=300, height=375, channels=3, levels=1, RGB=True, dtype=uint8> <valis.slide_io.VipsSlideReader object at 0x7f0567d21ee0> True (375, 300, 3)\n",
      "<Slide, name = B_213-ST_BFIW-SE_1889_processed>, width=300, height=375, channels=3, levels=1, RGB=True, dtype=uint8> <valis.slide_io.VipsSlideReader object at 0x7f05680ea330> True (375, 300, 3)\n"
     ]
    },
    {
     "name": "stderr",
     "output_type": "stream",
     "text": [
      "Converting images:  71%|█████████████████████████████████▌             | 1861/2608 [00:24<00:10, 71.41image/s]"
     ]
    },
    {
     "name": "stdout",
     "output_type": "stream",
     "text": [
      "<Slide, name = B_213-ST_BFIW-SE_1890_processed>, width=300, height=375, channels=3, levels=1, RGB=True, dtype=uint8> <valis.slide_io.VipsSlideReader object at 0x7f0567d423c0> True (375, 300, 3)\n",
      "<Slide, name = B_213-ST_BFIW-SE_1891_processed>, width=300, height=375, channels=3, levels=1, RGB=True, dtype=uint8> <valis.slide_io.VipsSlideReader object at 0x7f0567d223f0> True (375, 300, 3)\n",
      "<Slide, name = B_213-ST_BFIW-SE_1892_processed>, width=300, height=375, channels=3, levels=1, RGB=True, dtype=uint8> <valis.slide_io.VipsSlideReader object at 0x7f0567d42420> True (375, 300, 3)\n",
      "<Slide, name = B_213-ST_BFIW-SE_1893_processed>, width=300, height=375, channels=3, levels=1, RGB=True, dtype=uint8> <valis.slide_io.VipsSlideReader object at 0x7f0567d424b0> True (375, 300, 3)\n",
      "<Slide, name = B_213-ST_BFIW-SE_1894_processed>, width=300, height=375, channels=3, levels=1, RGB=True, dtype=uint8> <valis.slide_io.VipsSlideReader object at 0x7f0567d422d0> True (375, 300, 3)\n",
      "<Slide, name = B_213-ST_BFIW-SE_1895_processed>, width=300, height=375, channels=3, levels=1, RGB=True, dtype=uint8> <valis.slide_io.VipsSlideReader object at 0x7f0567d42390> True (375, 300, 3)\n",
      "<Slide, name = B_213-ST_BFIW-SE_1896_processed>, width=300, height=375, channels=3, levels=1, RGB=True, dtype=uint8> <valis.slide_io.VipsSlideReader object at 0x7f0567d42480> True (375, 300, 3)\n",
      "<Slide, name = B_213-ST_BFIW-SE_1897_processed>, width=300, height=375, channels=3, levels=1, RGB=True, dtype=uint8> <valis.slide_io.VipsSlideReader object at 0x7f0567d424e0> True (375, 300, 3)\n"
     ]
    },
    {
     "name": "stderr",
     "output_type": "stream",
     "text": [
      "Converting images:  72%|█████████████████████████████████▋             | 1869/2608 [00:25<00:10, 67.89image/s]"
     ]
    },
    {
     "name": "stdout",
     "output_type": "stream",
     "text": [
      "<Slide, name = B_213-ST_BFIW-SE_1898_processed>, width=300, height=375, channels=3, levels=1, RGB=True, dtype=uint8> <valis.slide_io.VipsSlideReader object at 0x7f0567d42540> True (375, 300, 3)\n",
      "<Slide, name = B_213-ST_BFIW-SE_1899_processed>, width=300, height=375, channels=3, levels=1, RGB=True, dtype=uint8> <valis.slide_io.VipsSlideReader object at 0x7f0567d42000> True (375, 300, 3)\n",
      "<Slide, name = B_213-ST_BFIW-SE_1900_processed>, width=300, height=375, channels=3, levels=1, RGB=True, dtype=uint8> <valis.slide_io.VipsSlideReader object at 0x7f0567d42600> True (375, 300, 3)\n",
      "<Slide, name = B_213-ST_BFIW-SE_1901_processed>, width=300, height=375, channels=3, levels=1, RGB=True, dtype=uint8> <valis.slide_io.VipsSlideReader object at 0x7f0567d41fa0> True (375, 300, 3)\n",
      "<Slide, name = B_213-ST_BFIW-SE_1902_processed>, width=300, height=375, channels=3, levels=1, RGB=True, dtype=uint8> <valis.slide_io.VipsSlideReader object at 0x7f0567d425a0> True (375, 300, 3)\n",
      "<Slide, name = B_213-ST_BFIW-SE_1903_processed>, width=300, height=375, channels=3, levels=1, RGB=True, dtype=uint8> <valis.slide_io.VipsSlideReader object at 0x7f0567d42510> True (375, 300, 3)\n",
      "<Slide, name = B_213-ST_BFIW-SE_1904_processed>, width=300, height=375, channels=3, levels=1, RGB=True, dtype=uint8> <valis.slide_io.VipsSlideReader object at 0x7f0567d42570> True (375, 300, 3)\n"
     ]
    },
    {
     "name": "stderr",
     "output_type": "stream",
     "text": [
      "Converting images:  72%|█████████████████████████████████▊             | 1876/2608 [00:25<00:11, 61.69image/s]"
     ]
    },
    {
     "name": "stdout",
     "output_type": "stream",
     "text": [
      "<Slide, name = B_213-ST_BFIW-SE_1905_processed>, width=300, height=375, channels=3, levels=1, RGB=True, dtype=uint8> <valis.slide_io.VipsSlideReader object at 0x7f0567d425d0> True (375, 300, 3)\n",
      "<Slide, name = B_213-ST_BFIW-SE_1906_processed>, width=300, height=375, channels=3, levels=1, RGB=True, dtype=uint8> <valis.slide_io.VipsSlideReader object at 0x7f0567d42630> True (375, 300, 3)\n",
      "<Slide, name = B_213-ST_BFIW-SE_1907_processed>, width=300, height=375, channels=3, levels=1, RGB=True, dtype=uint8> <valis.slide_io.VipsSlideReader object at 0x7f0567d42690> True (375, 300, 3)\n",
      "<Slide, name = B_213-ST_BFIW-SE_1908_processed>, width=300, height=375, channels=3, levels=1, RGB=True, dtype=uint8> <valis.slide_io.VipsSlideReader object at 0x7f0567d426f0> True (375, 300, 3)\n",
      "<Slide, name = B_213-ST_BFIW-SE_1909_processed>, width=300, height=375, channels=3, levels=1, RGB=True, dtype=uint8> <valis.slide_io.VipsSlideReader object at 0x7f0567d42750> True (375, 300, 3)\n",
      "<Slide, name = B_213-ST_BFIW-SE_1910_processed>, width=300, height=375, channels=3, levels=1, RGB=True, dtype=uint8> <valis.slide_io.VipsSlideReader object at 0x7f0567d427b0> True (375, 300, 3)\n",
      "<Slide, name = B_213-ST_BFIW-SE_1911_processed>, width=300, height=375, channels=3, levels=1, RGB=True, dtype=uint8> <valis.slide_io.VipsSlideReader object at 0x7f0567d42810> True (375, 300, 3)\n"
     ]
    },
    {
     "name": "stderr",
     "output_type": "stream",
     "text": [
      "Converting images:  72%|█████████████████████████████████▉             | 1883/2608 [00:25<00:12, 56.23image/s]"
     ]
    },
    {
     "name": "stdout",
     "output_type": "stream",
     "text": [
      "<Slide, name = B_213-ST_BFIW-SE_1912_processed>, width=300, height=375, channels=3, levels=1, RGB=True, dtype=uint8> <valis.slide_io.VipsSlideReader object at 0x7f0567d42870> True (375, 300, 3)\n",
      "<Slide, name = B_213-ST_BFIW-SE_1913_processed>, width=300, height=375, channels=3, levels=1, RGB=True, dtype=uint8> <valis.slide_io.VipsSlideReader object at 0x7f0567d428d0> True (375, 300, 3)\n",
      "<Slide, name = B_213-ST_BFIW-SE_1914_processed>, width=300, height=375, channels=3, levels=1, RGB=True, dtype=uint8> <valis.slide_io.VipsSlideReader object at 0x7f0567d42930> True (375, 300, 3)\n",
      "<Slide, name = B_213-ST_BFIW-SE_1915_processed>, width=300, height=375, channels=3, levels=1, RGB=True, dtype=uint8> <valis.slide_io.VipsSlideReader object at 0x7f0567d42990> True (375, 300, 3)\n",
      "<Slide, name = B_213-ST_BFIW-SE_1916_processed>, width=300, height=375, channels=3, levels=1, RGB=True, dtype=uint8> <valis.slide_io.VipsSlideReader object at 0x7f0567d429f0> True (375, 300, 3)\n",
      "<Slide, name = B_213-ST_BFIW-SE_1917_processed>, width=300, height=375, channels=3, levels=1, RGB=True, dtype=uint8> <valis.slide_io.VipsSlideReader object at 0x7f0567d42a50> True (375, 300, 3)\n"
     ]
    },
    {
     "name": "stderr",
     "output_type": "stream",
     "text": [
      "Converting images:  72%|██████████████████████████████████             | 1889/2608 [00:25<00:14, 50.41image/s]"
     ]
    },
    {
     "name": "stdout",
     "output_type": "stream",
     "text": [
      "<Slide, name = B_213-ST_BFIW-SE_1918_processed>, width=300, height=375, channels=3, levels=1, RGB=True, dtype=uint8> <valis.slide_io.VipsSlideReader object at 0x7f0567d42ab0> True (375, 300, 3)\n",
      "<Slide, name = B_213-ST_BFIW-SE_1919_processed>, width=300, height=375, channels=3, levels=1, RGB=True, dtype=uint8> <valis.slide_io.VipsSlideReader object at 0x7f0567d42b10> True (375, 300, 3)\n",
      "<Slide, name = B_213-ST_BFIW-SE_1920_processed>, width=300, height=375, channels=3, levels=1, RGB=True, dtype=uint8> <valis.slide_io.VipsSlideReader object at 0x7f0567d42b70> True (375, 300, 3)\n",
      "<Slide, name = B_213-ST_BFIW-SE_1921_processed>, width=300, height=375, channels=3, levels=1, RGB=True, dtype=uint8> <valis.slide_io.VipsSlideReader object at 0x7f0567d42bd0> True (375, 300, 3)\n",
      "<Slide, name = B_213-ST_BFIW-SE_1922_processed>, width=300, height=375, channels=3, levels=1, RGB=True, dtype=uint8> <valis.slide_io.VipsSlideReader object at 0x7f0567d42c30> True (375, 300, 3)\n",
      "<Slide, name = B_213-ST_BFIW-SE_1923_processed>, width=300, height=375, channels=3, levels=1, RGB=True, dtype=uint8> <valis.slide_io.VipsSlideReader object at 0x7f0567d42c90> True (375, 300, 3)\n"
     ]
    },
    {
     "name": "stderr",
     "output_type": "stream",
     "text": [
      "Converting images:  73%|██████████████████████████████████▏            | 1895/2608 [00:25<00:14, 48.07image/s]"
     ]
    },
    {
     "name": "stdout",
     "output_type": "stream",
     "text": [
      "<Slide, name = B_213-ST_BFIW-SE_1924_processed>, width=300, height=375, channels=3, levels=1, RGB=True, dtype=uint8> <valis.slide_io.VipsSlideReader object at 0x7f0567d42cf0> True (375, 300, 3)\n",
      "<Slide, name = B_213-ST_BFIW-SE_1925_processed>, width=300, height=375, channels=3, levels=1, RGB=True, dtype=uint8> <valis.slide_io.VipsSlideReader object at 0x7f0567d42d50> True (375, 300, 3)\n",
      "<Slide, name = B_213-ST_BFIW-SE_1926_processed>, width=300, height=375, channels=3, levels=1, RGB=True, dtype=uint8> <valis.slide_io.VipsSlideReader object at 0x7f0567d42db0> True (375, 300, 3)\n",
      "<Slide, name = B_213-ST_BFIW-SE_1927_processed>, width=300, height=375, channels=3, levels=1, RGB=True, dtype=uint8> <valis.slide_io.VipsSlideReader object at 0x7f0567d42e10> True (375, 300, 3)\n",
      "<Slide, name = B_213-ST_BFIW-SE_1928_processed>, width=300, height=375, channels=3, levels=1, RGB=True, dtype=uint8> <valis.slide_io.VipsSlideReader object at 0x7f0567d42e70> True (375, 300, 3)\n"
     ]
    },
    {
     "name": "stderr",
     "output_type": "stream",
     "text": [
      "Converting images:  73%|██████████████████████████████████▏            | 1900/2608 [00:25<00:15, 46.97image/s]"
     ]
    },
    {
     "name": "stdout",
     "output_type": "stream",
     "text": [
      "<Slide, name = B_213-ST_BFIW-SE_1929_processed>, width=300, height=375, channels=3, levels=1, RGB=True, dtype=uint8> <valis.slide_io.VipsSlideReader object at 0x7f0567d42ed0> True (375, 300, 3)\n",
      "<Slide, name = B_213-ST_BFIW-SE_1930_processed>, width=300, height=375, channels=3, levels=1, RGB=True, dtype=uint8> <valis.slide_io.VipsSlideReader object at 0x7f0567d42f30> True (375, 300, 3)\n",
      "<Slide, name = B_213-ST_BFIW-SE_1931_processed>, width=300, height=375, channels=3, levels=1, RGB=True, dtype=uint8> <valis.slide_io.VipsSlideReader object at 0x7f0567d42f90> True (375, 300, 3)\n",
      "<Slide, name = B_213-ST_BFIW-SE_1932_processed>, width=300, height=375, channels=3, levels=1, RGB=True, dtype=uint8> <valis.slide_io.VipsSlideReader object at 0x7f0567d42ff0> True (375, 300, 3)\n",
      "<Slide, name = B_213-ST_BFIW-SE_1933_processed>, width=300, height=375, channels=3, levels=1, RGB=True, dtype=uint8> <valis.slide_io.VipsSlideReader object at 0x7f0567d43050> True (375, 300, 3)\n"
     ]
    },
    {
     "name": "stderr",
     "output_type": "stream",
     "text": [
      "Converting images:  73%|██████████████████████████████████▎            | 1905/2608 [00:25<00:15, 46.43image/s]"
     ]
    },
    {
     "name": "stdout",
     "output_type": "stream",
     "text": [
      "<Slide, name = B_213-ST_BFIW-SE_1934_processed>, width=300, height=375, channels=3, levels=1, RGB=True, dtype=uint8> <valis.slide_io.VipsSlideReader object at 0x7f0567d430b0> True (375, 300, 3)\n",
      "<Slide, name = B_213-ST_BFIW-SE_1935_processed>, width=300, height=375, channels=3, levels=1, RGB=True, dtype=uint8> <valis.slide_io.VipsSlideReader object at 0x7f0567d43110> True (375, 300, 3)\n",
      "<Slide, name = B_213-ST_BFIW-SE_1936_processed>, width=300, height=375, channels=3, levels=1, RGB=True, dtype=uint8> <valis.slide_io.VipsSlideReader object at 0x7f0567d43170> True (375, 300, 3)\n",
      "<Slide, name = B_213-ST_BFIW-SE_1937_processed>, width=300, height=375, channels=3, levels=1, RGB=True, dtype=uint8> <valis.slide_io.VipsSlideReader object at 0x7f0567d431d0> True (375, 300, 3)\n",
      "<Slide, name = B_213-ST_BFIW-SE_1938_processed>, width=300, height=375, channels=3, levels=1, RGB=True, dtype=uint8> <valis.slide_io.VipsSlideReader object at 0x7f0567d43230> True (375, 300, 3)\n"
     ]
    },
    {
     "name": "stderr",
     "output_type": "stream",
     "text": [
      "Converting images:  73%|██████████████████████████████████▍            | 1910/2608 [00:25<00:14, 46.61image/s]"
     ]
    },
    {
     "name": "stdout",
     "output_type": "stream",
     "text": [
      "<Slide, name = B_213-ST_BFIW-SE_1939_processed>, width=300, height=375, channels=3, levels=1, RGB=True, dtype=uint8> <valis.slide_io.VipsSlideReader object at 0x7f0567d43290> True (375, 300, 3)\n",
      "<Slide, name = B_213-ST_BFIW-SE_1940_processed>, width=300, height=375, channels=3, levels=1, RGB=True, dtype=uint8> <valis.slide_io.VipsSlideReader object at 0x7f0567d432f0> True (375, 300, 3)\n",
      "<Slide, name = B_213-ST_BFIW-SE_1941_processed>, width=300, height=375, channels=3, levels=1, RGB=True, dtype=uint8> <valis.slide_io.VipsSlideReader object at 0x7f0567d43350> True (375, 300, 3)\n",
      "<Slide, name = B_213-ST_BFIW-SE_1942_processed>, width=300, height=375, channels=3, levels=1, RGB=True, dtype=uint8> <valis.slide_io.VipsSlideReader object at 0x7f0567d433b0> True (375, 300, 3)\n",
      "<Slide, name = B_213-ST_BFIW-SE_1943_processed>, width=300, height=375, channels=3, levels=1, RGB=True, dtype=uint8> <valis.slide_io.VipsSlideReader object at 0x7f0567d43410> True (375, 300, 3)\n"
     ]
    },
    {
     "name": "stderr",
     "output_type": "stream",
     "text": [
      "Converting images:  73%|██████████████████████████████████▌            | 1915/2608 [00:26<00:15, 45.18image/s]"
     ]
    },
    {
     "name": "stdout",
     "output_type": "stream",
     "text": [
      "<Slide, name = B_213-ST_BFIW-SE_1944_processed>, width=300, height=375, channels=3, levels=1, RGB=True, dtype=uint8> <valis.slide_io.VipsSlideReader object at 0x7f0567d43470> True (375, 300, 3)\n",
      "<Slide, name = B_213-ST_BFIW-SE_1945_processed>, width=300, height=375, channels=3, levels=1, RGB=True, dtype=uint8> <valis.slide_io.VipsSlideReader object at 0x7f0567d434d0> True (375, 300, 3)\n",
      "<Slide, name = B_213-ST_BFIW-SE_1946_processed>, width=300, height=375, channels=3, levels=1, RGB=True, dtype=uint8> <valis.slide_io.VipsSlideReader object at 0x7f0567d43530> True (375, 300, 3)\n",
      "<Slide, name = B_213-ST_BFIW-SE_1947_processed>, width=300, height=375, channels=3, levels=1, RGB=True, dtype=uint8> <valis.slide_io.VipsSlideReader object at 0x7f0567d43590> True (375, 300, 3)\n",
      "<Slide, name = B_213-ST_BFIW-SE_1948_processed>, width=300, height=375, channels=3, levels=1, RGB=True, dtype=uint8> <valis.slide_io.VipsSlideReader object at 0x7f0567d435f0> True (375, 300, 3)\n"
     ]
    },
    {
     "name": "stderr",
     "output_type": "stream",
     "text": [
      "Converting images:  74%|██████████████████████████████████▌            | 1920/2608 [00:26<00:15, 45.01image/s]"
     ]
    },
    {
     "name": "stdout",
     "output_type": "stream",
     "text": [
      "<Slide, name = B_213-ST_BFIW-SE_1949_processed>, width=300, height=375, channels=3, levels=1, RGB=True, dtype=uint8> <valis.slide_io.VipsSlideReader object at 0x7f0567d43650> True (375, 300, 3)\n",
      "<Slide, name = B_213-ST_BFIW-SE_1950_processed>, width=300, height=375, channels=3, levels=1, RGB=True, dtype=uint8> <valis.slide_io.VipsSlideReader object at 0x7f0567d436b0> True (375, 300, 3)\n",
      "<Slide, name = B_213-ST_BFIW-SE_1951_processed>, width=300, height=375, channels=3, levels=1, RGB=True, dtype=uint8> <valis.slide_io.VipsSlideReader object at 0x7f0567d43710> True (375, 300, 3)\n",
      "<Slide, name = B_213-ST_BFIW-SE_1952_processed>, width=300, height=375, channels=3, levels=1, RGB=True, dtype=uint8> <valis.slide_io.VipsSlideReader object at 0x7f0567d43770> True (375, 300, 3)\n",
      "<Slide, name = B_213-ST_BFIW-SE_1953_processed>, width=300, height=375, channels=3, levels=1, RGB=True, dtype=uint8> <valis.slide_io.VipsSlideReader object at 0x7f0567d437d0> True (375, 300, 3)\n",
      "<Slide, name = B_213-ST_BFIW-SE_1954_processed>, width=300, height=375, channels=3, levels=1, RGB=True, dtype=uint8> <valis.slide_io.VipsSlideReader object at 0x7f0567d43830> True (375, 300, 3)\n"
     ]
    },
    {
     "name": "stderr",
     "output_type": "stream",
     "text": [
      "Converting images:  74%|██████████████████████████████████▋            | 1926/2608 [00:26<00:14, 47.43image/s]"
     ]
    },
    {
     "name": "stdout",
     "output_type": "stream",
     "text": [
      "<Slide, name = B_213-ST_BFIW-SE_1955_processed>, width=300, height=375, channels=3, levels=1, RGB=True, dtype=uint8> <valis.slide_io.VipsSlideReader object at 0x7f0567d43890> True (375, 300, 3)\n",
      "<Slide, name = B_213-ST_BFIW-SE_1956_processed>, width=300, height=375, channels=3, levels=1, RGB=True, dtype=uint8> <valis.slide_io.VipsSlideReader object at 0x7f0567d438f0> True (375, 300, 3)\n",
      "<Slide, name = B_213-ST_BFIW-SE_1957_processed>, width=300, height=375, channels=3, levels=1, RGB=True, dtype=uint8> <valis.slide_io.VipsSlideReader object at 0x7f0567d43950> True (375, 300, 3)\n",
      "<Slide, name = B_213-ST_BFIW-SE_1958_processed>, width=300, height=375, channels=3, levels=1, RGB=True, dtype=uint8> <valis.slide_io.VipsSlideReader object at 0x7f0567d439b0> True (375, 300, 3)\n",
      "<Slide, name = B_213-ST_BFIW-SE_1959_processed>, width=300, height=375, channels=3, levels=1, RGB=True, dtype=uint8> <valis.slide_io.VipsSlideReader object at 0x7f0567d43a10> True (375, 300, 3)\n",
      "<Slide, name = B_213-ST_BFIW-SE_1960_processed>, width=300, height=375, channels=3, levels=1, RGB=True, dtype=uint8> <valis.slide_io.VipsSlideReader object at 0x7f0567d43a70> True (375, 300, 3)\n"
     ]
    },
    {
     "name": "stderr",
     "output_type": "stream",
     "text": [
      "Converting images:  74%|██████████████████████████████████▊            | 1932/2608 [00:26<00:14, 47.64image/s]"
     ]
    },
    {
     "name": "stdout",
     "output_type": "stream",
     "text": [
      "<Slide, name = B_213-ST_BFIW-SE_1961_processed>, width=300, height=375, channels=3, levels=1, RGB=True, dtype=uint8> <valis.slide_io.VipsSlideReader object at 0x7f0567d43ad0> True (375, 300, 3)\n",
      "<Slide, name = B_213-ST_BFIW-SE_1962_processed>, width=300, height=375, channels=3, levels=1, RGB=True, dtype=uint8> <valis.slide_io.VipsSlideReader object at 0x7f0567d43b30> True (375, 300, 3)\n",
      "<Slide, name = B_213-ST_BFIW-SE_1963_processed>, width=300, height=375, channels=3, levels=1, RGB=True, dtype=uint8> <valis.slide_io.VipsSlideReader object at 0x7f0567d43b90> True (375, 300, 3)\n",
      "<Slide, name = B_213-ST_BFIW-SE_1964_processed>, width=300, height=375, channels=3, levels=1, RGB=True, dtype=uint8> <valis.slide_io.VipsSlideReader object at 0x7f0567d43bf0> True (375, 300, 3)\n",
      "<Slide, name = B_213-ST_BFIW-SE_1965_processed>, width=300, height=375, channels=3, levels=1, RGB=True, dtype=uint8> <valis.slide_io.VipsSlideReader object at 0x7f0567d43d70> True (375, 300, 3)\n",
      "<Slide, name = B_213-ST_BFIW-SE_1966_processed>, width=300, height=375, channels=3, levels=1, RGB=True, dtype=uint8> <valis.slide_io.VipsSlideReader object at 0x7f0567d43e90> True (375, 300, 3)\n"
     ]
    },
    {
     "name": "stderr",
     "output_type": "stream",
     "text": [
      "Converting images:  74%|██████████████████████████████████▉            | 1938/2608 [00:26<00:14, 47.23image/s]"
     ]
    },
    {
     "name": "stdout",
     "output_type": "stream",
     "text": [
      "<Slide, name = B_213-ST_BFIW-SE_1967_processed>, width=300, height=375, channels=3, levels=1, RGB=True, dtype=uint8> <valis.slide_io.VipsSlideReader object at 0x7f0567d43d10> True (375, 300, 3)\n",
      "<Slide, name = B_213-ST_BFIW-SE_1968_processed>, width=300, height=375, channels=3, levels=1, RGB=True, dtype=uint8> <valis.slide_io.VipsSlideReader object at 0x7f0567d43e30> True (375, 300, 3)\n",
      "<Slide, name = B_213-ST_BFIW-SE_1969_processed>, width=300, height=375, channels=3, levels=1, RGB=True, dtype=uint8> <valis.slide_io.VipsSlideReader object at 0x7f0567d43ef0> True (375, 300, 3)\n",
      "<Slide, name = B_213-ST_BFIW-SE_1970_processed>, width=300, height=375, channels=3, levels=1, RGB=True, dtype=uint8> <valis.slide_io.VipsSlideReader object at 0x7f0567d3c2f0> True (375, 300, 3)\n",
      "<Slide, name = B_213-ST_BFIW-SE_1971_processed>, width=300, height=375, channels=3, levels=1, RGB=True, dtype=uint8> <valis.slide_io.VipsSlideReader object at 0x7f0567d44050> True (375, 300, 3)\n"
     ]
    },
    {
     "name": "stderr",
     "output_type": "stream",
     "text": [
      "Converting images:  75%|███████████████████████████████████            | 1943/2608 [00:26<00:13, 47.81image/s]"
     ]
    },
    {
     "name": "stdout",
     "output_type": "stream",
     "text": [
      "<Slide, name = B_213-ST_BFIW-SE_1972_processed>, width=300, height=375, channels=3, levels=1, RGB=True, dtype=uint8> <valis.slide_io.VipsSlideReader object at 0x7f0567d440b0> True (375, 300, 3)\n",
      "<Slide, name = B_213-ST_BFIW-SE_1973_processed>, width=300, height=375, channels=3, levels=1, RGB=True, dtype=uint8> <valis.slide_io.VipsSlideReader object at 0x7f0567d44410> True (375, 300, 3)\n",
      "<Slide, name = B_213-ST_BFIW-SE_1974_processed>, width=300, height=375, channels=3, levels=1, RGB=True, dtype=uint8> <valis.slide_io.VipsSlideReader object at 0x7f0567d441a0> True (375, 300, 3)\n",
      "<Slide, name = B_213-ST_BFIW-SE_1975_processed>, width=300, height=375, channels=3, levels=1, RGB=True, dtype=uint8> <valis.slide_io.VipsSlideReader object at 0x7f0567d44470> True (375, 300, 3)\n",
      "<Slide, name = B_213-ST_BFIW-SE_1976_processed>, width=300, height=375, channels=3, levels=1, RGB=True, dtype=uint8> <valis.slide_io.VipsSlideReader object at 0x7f0567d444d0> True (375, 300, 3)\n",
      "<Slide, name = B_213-ST_BFIW-SE_1977_processed>, width=300, height=375, channels=3, levels=1, RGB=True, dtype=uint8> <valis.slide_io.VipsSlideReader object at 0x7f0567d44530> True (375, 300, 3)\n",
      "<Slide, name = B_213-ST_BFIW-SE_1978_processed>, width=300, height=375, channels=3, levels=1, RGB=True, dtype=uint8> <valis.slide_io.VipsSlideReader object at 0x7f0567d44590> True (375, 300, 3)\n"
     ]
    },
    {
     "name": "stderr",
     "output_type": "stream",
     "text": [
      "Converting images:  75%|███████████████████████████████████▏           | 1950/2608 [00:26<00:12, 53.36image/s]"
     ]
    },
    {
     "name": "stdout",
     "output_type": "stream",
     "text": [
      "<Slide, name = B_213-ST_BFIW-SE_1979_processed>, width=300, height=375, channels=3, levels=1, RGB=True, dtype=uint8> <valis.slide_io.VipsSlideReader object at 0x7f0567d445f0> True (375, 300, 3)\n",
      "<Slide, name = B_213-ST_BFIW-SE_1980_processed>, width=300, height=375, channels=3, levels=1, RGB=True, dtype=uint8> <valis.slide_io.VipsSlideReader object at 0x7f0567d44650> True (375, 300, 3)\n",
      "<Slide, name = B_213-ST_BFIW-SE_1981_processed>, width=300, height=375, channels=3, levels=1, RGB=True, dtype=uint8> <valis.slide_io.VipsSlideReader object at 0x7f0567d446b0> True (375, 300, 3)\n",
      "<Slide, name = B_213-ST_BFIW-SE_1982_processed>, width=300, height=375, channels=3, levels=1, RGB=True, dtype=uint8> <valis.slide_io.VipsSlideReader object at 0x7f0567d44710> True (375, 300, 3)\n",
      "<Slide, name = B_213-ST_BFIW-SE_1983_processed>, width=300, height=375, channels=3, levels=1, RGB=True, dtype=uint8> <valis.slide_io.VipsSlideReader object at 0x7f0567d44770> True (375, 300, 3)\n",
      "<Slide, name = B_213-ST_BFIW-SE_1984_processed>, width=300, height=375, channels=3, levels=1, RGB=True, dtype=uint8> <valis.slide_io.VipsSlideReader object at 0x7f0567d447d0> True (375, 300, 3)\n",
      "<Slide, name = B_213-ST_BFIW-SE_1985_processed>, width=300, height=375, channels=3, levels=1, RGB=True, dtype=uint8> <valis.slide_io.VipsSlideReader object at 0x7f0567d44830> True (375, 300, 3)\n",
      "<Slide, name = B_213-ST_BFIW-SE_1986_processed>, width=300, height=375, channels=3, levels=1, RGB=True, dtype=uint8> <valis.slide_io.VipsSlideReader object at 0x7f0567d44890> True (375, 300, 3)\n",
      "<Slide, name = B_213-ST_BFIW-SE_1987_processed>, width=300, height=375, channels=3, levels=1, RGB=True, dtype=uint8> <valis.slide_io.VipsSlideReader object at 0x7f0567d448f0> True (375, 300, 3)\n",
      "<Slide, name = B_213-ST_BFIW-SE_1988_processed>, width=300, height=375, channels=3, levels=1, RGB=True, dtype=uint8> <valis.slide_io.VipsSlideReader object at 0x7f0567d44950> True (375, 300, 3)\n"
     ]
    },
    {
     "name": "stderr",
     "output_type": "stream",
     "text": [
      "Converting images:  75%|███████████████████████████████████▎           | 1960/2608 [00:26<00:10, 64.45image/s]"
     ]
    },
    {
     "name": "stdout",
     "output_type": "stream",
     "text": [
      "<Slide, name = B_213-ST_BFIW-SE_1989_processed>, width=300, height=375, channels=3, levels=1, RGB=True, dtype=uint8> <valis.slide_io.VipsSlideReader object at 0x7f0567d449b0> True (375, 300, 3)\n",
      "<Slide, name = B_213-ST_BFIW-SE_1990_processed>, width=300, height=375, channels=3, levels=1, RGB=True, dtype=uint8> <valis.slide_io.VipsSlideReader object at 0x7f0567d44a10> True (375, 300, 3)\n",
      "<Slide, name = B_213-ST_BFIW-SE_1991_processed>, width=300, height=375, channels=3, levels=1, RGB=True, dtype=uint8> <valis.slide_io.VipsSlideReader object at 0x7f0567d44a70> True (375, 300, 3)\n",
      "<Slide, name = B_213-ST_BFIW-SE_1992_processed>, width=300, height=375, channels=3, levels=1, RGB=True, dtype=uint8> <valis.slide_io.VipsSlideReader object at 0x7f0567d44ad0> True (375, 300, 3)\n",
      "<Slide, name = B_213-ST_BFIW-SE_1993_processed>, width=300, height=375, channels=3, levels=1, RGB=True, dtype=uint8> <valis.slide_io.VipsSlideReader object at 0x7f0567d44b30> True (375, 300, 3)\n",
      "<Slide, name = B_213-ST_BFIW-SE_1994_processed>, width=300, height=375, channels=3, levels=1, RGB=True, dtype=uint8> <valis.slide_io.VipsSlideReader object at 0x7f0567d44b90> True (375, 300, 3)\n",
      "<Slide, name = B_213-ST_BFIW-SE_1995_processed>, width=300, height=375, channels=3, levels=1, RGB=True, dtype=uint8> <valis.slide_io.VipsSlideReader object at 0x7f0567d44bf0> True (375, 300, 3)\n",
      "<Slide, name = B_213-ST_BFIW-SE_1996_processed>, width=300, height=375, channels=3, levels=1, RGB=True, dtype=uint8> <valis.slide_io.VipsSlideReader object at 0x7f0567d44c50> True (375, 300, 3)\n",
      "<Slide, name = B_213-ST_BFIW-SE_1997_processed>, width=300, height=375, channels=3, levels=1, RGB=True, dtype=uint8> <valis.slide_io.VipsSlideReader object at 0x7f0567d44cb0> True (375, 300, 3)\n"
     ]
    },
    {
     "name": "stderr",
     "output_type": "stream",
     "text": [
      "Converting images:  75%|███████████████████████████████████▍           | 1969/2608 [00:26<00:08, 71.44image/s]"
     ]
    },
    {
     "name": "stdout",
     "output_type": "stream",
     "text": [
      "<Slide, name = B_213-ST_BFIW-SE_1998_processed>, width=300, height=375, channels=3, levels=1, RGB=True, dtype=uint8> <valis.slide_io.VipsSlideReader object at 0x7f0567d44d10> True (375, 300, 3)\n",
      "<Slide, name = B_213-ST_BFIW-SE_1999_processed>, width=300, height=375, channels=3, levels=1, RGB=True, dtype=uint8> <valis.slide_io.VipsSlideReader object at 0x7f0567d44d70> True (375, 300, 3)\n",
      "<Slide, name = B_213-ST_BFIW-SE_2000_processed>, width=300, height=375, channels=3, levels=1, RGB=True, dtype=uint8> <valis.slide_io.VipsSlideReader object at 0x7f0567d44dd0> True (375, 300, 3)\n",
      "<Slide, name = B_213-ST_BFIW-SE_2001_processed>, width=300, height=375, channels=3, levels=1, RGB=True, dtype=uint8> <valis.slide_io.VipsSlideReader object at 0x7f0567d44e30> True (375, 300, 3)\n",
      "<Slide, name = B_213-ST_BFIW-SE_2002_processed>, width=300, height=375, channels=3, levels=1, RGB=True, dtype=uint8> <valis.slide_io.VipsSlideReader object at 0x7f0567d44e90> True (375, 300, 3)\n",
      "<Slide, name = B_213-ST_BFIW-SE_2003_processed>, width=300, height=375, channels=3, levels=1, RGB=True, dtype=uint8> <valis.slide_io.VipsSlideReader object at 0x7f0567d44ef0> True (375, 300, 3)\n",
      "<Slide, name = B_213-ST_BFIW-SE_2004_processed>, width=300, height=375, channels=3, levels=1, RGB=True, dtype=uint8> <valis.slide_io.VipsSlideReader object at 0x7f0567d44f50> True (375, 300, 3)\n",
      "<Slide, name = B_213-ST_BFIW-SE_2005_processed>, width=300, height=375, channels=3, levels=1, RGB=True, dtype=uint8> <valis.slide_io.VipsSlideReader object at 0x7f0567d44fb0> True (375, 300, 3)\n",
      "<Slide, name = B_213-ST_BFIW-SE_2006_processed>, width=300, height=375, channels=3, levels=1, RGB=True, dtype=uint8> <valis.slide_io.VipsSlideReader object at 0x7f0567d45010> True (375, 300, 3)\n",
      "<Slide, name = B_213-ST_BFIW-SE_2007_processed>, width=300, height=375, channels=3, levels=1, RGB=True, dtype=uint8> <valis.slide_io.VipsSlideReader object at 0x7f0567d45070> True (375, 300, 3)\n"
     ]
    },
    {
     "name": "stderr",
     "output_type": "stream",
     "text": [
      "Converting images:  76%|███████████████████████████████████▋           | 1979/2608 [00:27<00:08, 78.13image/s]"
     ]
    },
    {
     "name": "stdout",
     "output_type": "stream",
     "text": [
      "<Slide, name = B_213-ST_BFIW-SE_2008_processed>, width=300, height=375, channels=3, levels=1, RGB=True, dtype=uint8> <valis.slide_io.VipsSlideReader object at 0x7f0567d450d0> True (375, 300, 3)\n",
      "<Slide, name = B_213-ST_BFIW-SE_2009_processed>, width=300, height=375, channels=3, levels=1, RGB=True, dtype=uint8> <valis.slide_io.VipsSlideReader object at 0x7f0567d45130> True (375, 300, 3)\n",
      "<Slide, name = B_213-ST_BFIW-SE_2010_processed>, width=300, height=375, channels=3, levels=1, RGB=True, dtype=uint8> <valis.slide_io.VipsSlideReader object at 0x7f0567d45190> True (375, 300, 3)\n",
      "<Slide, name = B_213-ST_BFIW-SE_2011_processed>, width=300, height=375, channels=3, levels=1, RGB=True, dtype=uint8> <valis.slide_io.VipsSlideReader object at 0x7f0567d451f0> True (375, 300, 3)\n",
      "<Slide, name = B_213-ST_BFIW-SE_2012_processed>, width=300, height=375, channels=3, levels=1, RGB=True, dtype=uint8> <valis.slide_io.VipsSlideReader object at 0x7f0567d45250> True (375, 300, 3)\n",
      "<Slide, name = B_213-ST_BFIW-SE_2013_processed>, width=300, height=375, channels=3, levels=1, RGB=True, dtype=uint8> <valis.slide_io.VipsSlideReader object at 0x7f0567d452b0> True (375, 300, 3)\n",
      "<Slide, name = B_213-ST_BFIW-SE_2014_processed>, width=300, height=375, channels=3, levels=1, RGB=True, dtype=uint8> <valis.slide_io.VipsSlideReader object at 0x7f0567d45310> True (375, 300, 3)\n",
      "<Slide, name = B_213-ST_BFIW-SE_2015_processed>, width=300, height=375, channels=3, levels=1, RGB=True, dtype=uint8> <valis.slide_io.VipsSlideReader object at 0x7f0567d45370> True (375, 300, 3)\n",
      "<Slide, name = B_213-ST_BFIW-SE_2016_processed>, width=300, height=375, channels=3, levels=1, RGB=True, dtype=uint8> <valis.slide_io.VipsSlideReader object at 0x7f0567d453d0> True (375, 300, 3)\n",
      "<Slide, name = B_213-ST_BFIW-SE_2017_processed>, width=300, height=375, channels=3, levels=1, RGB=True, dtype=uint8> <valis.slide_io.VipsSlideReader object at 0x7f0567d45430> True (375, 300, 3)\n"
     ]
    },
    {
     "name": "stderr",
     "output_type": "stream",
     "text": [
      "Converting images:  76%|███████████████████████████████████▊           | 1989/2608 [00:27<00:07, 82.67image/s]"
     ]
    },
    {
     "name": "stdout",
     "output_type": "stream",
     "text": [
      "<Slide, name = B_213-ST_BFIW-SE_2018_processed>, width=300, height=375, channels=3, levels=1, RGB=True, dtype=uint8> <valis.slide_io.VipsSlideReader object at 0x7f0567d45490> True (375, 300, 3)\n",
      "<Slide, name = B_213-ST_BFIW-SE_2019_processed>, width=300, height=375, channels=3, levels=1, RGB=True, dtype=uint8> <valis.slide_io.VipsSlideReader object at 0x7f0567d454f0> True (375, 300, 3)\n",
      "<Slide, name = B_213-ST_BFIW-SE_2020_processed>, width=300, height=375, channels=3, levels=1, RGB=True, dtype=uint8> <valis.slide_io.VipsSlideReader object at 0x7f0567d45550> True (375, 300, 3)\n",
      "<Slide, name = B_213-ST_BFIW-SE_2021_processed>, width=300, height=375, channels=3, levels=1, RGB=True, dtype=uint8> <valis.slide_io.VipsSlideReader object at 0x7f0567d455b0> True (375, 300, 3)\n",
      "<Slide, name = B_213-ST_BFIW-SE_2022_processed>, width=300, height=375, channels=3, levels=1, RGB=True, dtype=uint8> <valis.slide_io.VipsSlideReader object at 0x7f0567d45610> True (375, 300, 3)\n",
      "<Slide, name = B_213-ST_BFIW-SE_2023_processed>, width=300, height=375, channels=3, levels=1, RGB=True, dtype=uint8> <valis.slide_io.VipsSlideReader object at 0x7f0567d45670> True (375, 300, 3)\n",
      "<Slide, name = B_213-ST_BFIW-SE_2024_processed>, width=300, height=375, channels=3, levels=1, RGB=True, dtype=uint8> <valis.slide_io.VipsSlideReader object at 0x7f0567d456d0> True (375, 300, 3)\n",
      "<Slide, name = B_213-ST_BFIW-SE_2025_processed>, width=300, height=375, channels=3, levels=1, RGB=True, dtype=uint8> <valis.slide_io.VipsSlideReader object at 0x7f0567d45730> True (375, 300, 3)\n",
      "<Slide, name = B_213-ST_BFIW-SE_2026_processed>, width=300, height=375, channels=3, levels=1, RGB=True, dtype=uint8> <valis.slide_io.VipsSlideReader object at 0x7f0567d45790> True (375, 300, 3)\n",
      "<Slide, name = B_213-ST_BFIW-SE_2027_processed>, width=300, height=375, channels=3, levels=1, RGB=True, dtype=uint8> <valis.slide_io.VipsSlideReader object at 0x7f0567d457f0> True (375, 300, 3)\n"
     ]
    },
    {
     "name": "stderr",
     "output_type": "stream",
     "text": [
      "Converting images:  77%|████████████████████████████████████           | 1999/2608 [00:27<00:07, 86.24image/s]"
     ]
    },
    {
     "name": "stdout",
     "output_type": "stream",
     "text": [
      "<Slide, name = B_213-ST_BFIW-SE_2028_processed>, width=300, height=375, channels=3, levels=1, RGB=True, dtype=uint8> <valis.slide_io.VipsSlideReader object at 0x7f0567d45850> True (375, 300, 3)\n",
      "<Slide, name = B_213-ST_BFIW-SE_2029_processed>, width=300, height=375, channels=3, levels=1, RGB=True, dtype=uint8> <valis.slide_io.VipsSlideReader object at 0x7f0567d458b0> True (375, 300, 3)\n",
      "<Slide, name = B_213-ST_BFIW-SE_2030_processed>, width=300, height=375, channels=3, levels=1, RGB=True, dtype=uint8> <valis.slide_io.VipsSlideReader object at 0x7f0567d45910> True (375, 300, 3)\n",
      "<Slide, name = B_213-ST_BFIW-SE_2031_processed>, width=300, height=375, channels=3, levels=1, RGB=True, dtype=uint8> <valis.slide_io.VipsSlideReader object at 0x7f0567d45970> True (375, 300, 3)\n",
      "<Slide, name = B_213-ST_BFIW-SE_2032_processed>, width=300, height=375, channels=3, levels=1, RGB=True, dtype=uint8> <valis.slide_io.VipsSlideReader object at 0x7f0567d459d0> True (375, 300, 3)\n",
      "<Slide, name = B_213-ST_BFIW-SE_2033_processed>, width=300, height=375, channels=3, levels=1, RGB=True, dtype=uint8> <valis.slide_io.VipsSlideReader object at 0x7f0567d45a30> True (375, 300, 3)\n",
      "<Slide, name = B_213-ST_BFIW-SE_2034_processed>, width=300, height=375, channels=3, levels=1, RGB=True, dtype=uint8> <valis.slide_io.VipsSlideReader object at 0x7f0567d45a90> True (375, 300, 3)\n",
      "<Slide, name = B_213-ST_BFIW-SE_2035_processed>, width=300, height=375, channels=3, levels=1, RGB=True, dtype=uint8> <valis.slide_io.VipsSlideReader object at 0x7f0567d45af0> True (375, 300, 3)\n",
      "<Slide, name = B_213-ST_BFIW-SE_2036_processed>, width=300, height=375, channels=3, levels=1, RGB=True, dtype=uint8> <valis.slide_io.VipsSlideReader object at 0x7f0567d45b50> True (375, 300, 3)\n",
      "<Slide, name = B_213-ST_BFIW-SE_2037_processed>, width=300, height=375, channels=3, levels=1, RGB=True, dtype=uint8> <valis.slide_io.VipsSlideReader object at 0x7f0567d45bb0> True (375, 300, 3)\n"
     ]
    },
    {
     "name": "stderr",
     "output_type": "stream",
     "text": [
      "Converting images:  77%|████████████████████████████████████▏          | 2009/2608 [00:27<00:06, 88.59image/s]"
     ]
    },
    {
     "name": "stdout",
     "output_type": "stream",
     "text": [
      "<Slide, name = B_213-ST_BFIW-SE_2038_processed>, width=300, height=375, channels=3, levels=1, RGB=True, dtype=uint8> <valis.slide_io.VipsSlideReader object at 0x7f0567d45c10> True (375, 300, 3)\n",
      "<Slide, name = B_213-ST_BFIW-SE_2039_processed>, width=300, height=375, channels=3, levels=1, RGB=True, dtype=uint8> <valis.slide_io.VipsSlideReader object at 0x7f0567d45c70> True (375, 300, 3)\n",
      "<Slide, name = B_213-ST_BFIW-SE_2040_processed>, width=300, height=375, channels=3, levels=1, RGB=True, dtype=uint8> <valis.slide_io.VipsSlideReader object at 0x7f0567d45cd0> True (375, 300, 3)\n",
      "<Slide, name = B_213-ST_BFIW-SE_2041_processed>, width=300, height=375, channels=3, levels=1, RGB=True, dtype=uint8> <valis.slide_io.VipsSlideReader object at 0x7f0567d45d30> True (375, 300, 3)\n",
      "<Slide, name = B_213-ST_BFIW-SE_2042_processed>, width=300, height=375, channels=3, levels=1, RGB=True, dtype=uint8> <valis.slide_io.VipsSlideReader object at 0x7f0567d45d90> True (375, 300, 3)\n",
      "<Slide, name = B_213-ST_BFIW-SE_2043_processed>, width=300, height=375, channels=3, levels=1, RGB=True, dtype=uint8> <valis.slide_io.VipsSlideReader object at 0x7f0567d45df0> True (375, 300, 3)\n",
      "<Slide, name = B_213-ST_BFIW-SE_2044_processed>, width=300, height=375, channels=3, levels=1, RGB=True, dtype=uint8> <valis.slide_io.VipsSlideReader object at 0x7f0567d45e50> True (375, 300, 3)\n",
      "<Slide, name = B_213-ST_BFIW-SE_2045_processed>, width=300, height=375, channels=3, levels=1, RGB=True, dtype=uint8> <valis.slide_io.VipsSlideReader object at 0x7f0567d45eb0> True (375, 300, 3)\n",
      "<Slide, name = B_213-ST_BFIW-SE_2046_processed>, width=300, height=375, channels=3, levels=1, RGB=True, dtype=uint8> <valis.slide_io.VipsSlideReader object at 0x7f0567d45f10> True (375, 300, 3)\n",
      "<Slide, name = B_213-ST_BFIW-SE_2047_processed>, width=300, height=375, channels=3, levels=1, RGB=True, dtype=uint8> <valis.slide_io.VipsSlideReader object at 0x7f0567d45f70> True (375, 300, 3)\n"
     ]
    },
    {
     "name": "stderr",
     "output_type": "stream",
     "text": [
      "Converting images:  77%|████████████████████████████████████▍          | 2019/2608 [00:27<00:06, 90.36image/s]"
     ]
    },
    {
     "name": "stdout",
     "output_type": "stream",
     "text": [
      "<Slide, name = B_213-ST_BFIW-SE_2048_processed>, width=300, height=375, channels=3, levels=1, RGB=True, dtype=uint8> <valis.slide_io.VipsSlideReader object at 0x7f0567d45fd0> True (375, 300, 3)\n",
      "<Slide, name = B_213-ST_BFIW-SE_2049_processed>, width=300, height=375, channels=3, levels=1, RGB=True, dtype=uint8> <valis.slide_io.VipsSlideReader object at 0x7f0567d46030> True (375, 300, 3)\n",
      "<Slide, name = B_213-ST_BFIW-SE_2050_processed>, width=300, height=375, channels=3, levels=1, RGB=True, dtype=uint8> <valis.slide_io.VipsSlideReader object at 0x7f0567d46090> True (375, 300, 3)\n",
      "<Slide, name = B_213-ST_BFIW-SE_2051_processed>, width=300, height=375, channels=3, levels=1, RGB=True, dtype=uint8> <valis.slide_io.VipsSlideReader object at 0x7f0567d460f0> True (375, 300, 3)\n",
      "<Slide, name = B_213-ST_BFIW-SE_2052_processed>, width=300, height=375, channels=3, levels=1, RGB=True, dtype=uint8> <valis.slide_io.VipsSlideReader object at 0x7f0567d46150> True (375, 300, 3)\n",
      "<Slide, name = B_213-ST_BFIW-SE_2053_processed>, width=300, height=375, channels=3, levels=1, RGB=True, dtype=uint8> <valis.slide_io.VipsSlideReader object at 0x7f0567d461b0> True (375, 300, 3)\n",
      "<Slide, name = B_213-ST_BFIW-SE_2054_processed>, width=300, height=375, channels=3, levels=1, RGB=True, dtype=uint8> <valis.slide_io.VipsSlideReader object at 0x7f0567d46210> True (375, 300, 3)\n",
      "<Slide, name = B_213-ST_BFIW-SE_2055_processed>, width=300, height=375, channels=3, levels=1, RGB=True, dtype=uint8> <valis.slide_io.VipsSlideReader object at 0x7f0567d46270> True (375, 300, 3)\n",
      "<Slide, name = B_213-ST_BFIW-SE_2056_processed>, width=300, height=375, channels=3, levels=1, RGB=True, dtype=uint8> <valis.slide_io.VipsSlideReader object at 0x7f0567d462d0> True (375, 300, 3)\n",
      "<Slide, name = B_213-ST_BFIW-SE_2057_processed>, width=300, height=375, channels=3, levels=1, RGB=True, dtype=uint8> <valis.slide_io.VipsSlideReader object at 0x7f0567d46330> True (375, 300, 3)\n"
     ]
    },
    {
     "name": "stderr",
     "output_type": "stream",
     "text": [
      "Converting images:  78%|████████████████████████████████████▌          | 2029/2608 [00:27<00:06, 91.44image/s]"
     ]
    },
    {
     "name": "stdout",
     "output_type": "stream",
     "text": [
      "<Slide, name = B_213-ST_BFIW-SE_2058_processed>, width=300, height=375, channels=3, levels=1, RGB=True, dtype=uint8> <valis.slide_io.VipsSlideReader object at 0x7f0567d46390> True (375, 300, 3)\n",
      "<Slide, name = B_213-ST_BFIW-SE_2059_processed>, width=300, height=375, channels=3, levels=1, RGB=True, dtype=uint8> <valis.slide_io.VipsSlideReader object at 0x7f0567d463f0> True (375, 300, 3)\n",
      "<Slide, name = B_213-ST_BFIW-SE_2060_processed>, width=300, height=375, channels=3, levels=1, RGB=True, dtype=uint8> <valis.slide_io.VipsSlideReader object at 0x7f0567d46450> True (375, 300, 3)\n",
      "<Slide, name = B_213-ST_BFIW-SE_2061_processed>, width=300, height=375, channels=3, levels=1, RGB=True, dtype=uint8> <valis.slide_io.VipsSlideReader object at 0x7f0567d464b0> True (375, 300, 3)\n",
      "<Slide, name = B_213-ST_BFIW-SE_2062_processed>, width=300, height=375, channels=3, levels=1, RGB=True, dtype=uint8> <valis.slide_io.VipsSlideReader object at 0x7f0567d46510> True (375, 300, 3)\n",
      "<Slide, name = B_213-ST_BFIW-SE_2063_processed>, width=300, height=375, channels=3, levels=1, RGB=True, dtype=uint8> <valis.slide_io.VipsSlideReader object at 0x7f0567d46570> True (375, 300, 3)\n",
      "<Slide, name = B_213-ST_BFIW-SE_2064_processed>, width=300, height=375, channels=3, levels=1, RGB=True, dtype=uint8> <valis.slide_io.VipsSlideReader object at 0x7f0567d465d0> True (375, 300, 3)\n",
      "<Slide, name = B_213-ST_BFIW-SE_2066_processed>, width=300, height=375, channels=3, levels=1, RGB=True, dtype=uint8> <valis.slide_io.VipsSlideReader object at 0x7f0567d46630> True (375, 300, 3)\n",
      "<Slide, name = B_213-ST_BFIW-SE_2067_processed>, width=300, height=375, channels=3, levels=1, RGB=True, dtype=uint8> <valis.slide_io.VipsSlideReader object at 0x7f0567d46690> True (375, 300, 3)\n",
      "<Slide, name = B_213-ST_BFIW-SE_2068_processed>, width=300, height=375, channels=3, levels=1, RGB=True, dtype=uint8> <valis.slide_io.VipsSlideReader object at 0x7f0567d466f0> True (375, 300, 3)\n"
     ]
    },
    {
     "name": "stderr",
     "output_type": "stream",
     "text": [
      "Converting images:  78%|████████████████████████████████████▋          | 2039/2608 [00:27<00:06, 91.87image/s]"
     ]
    },
    {
     "name": "stdout",
     "output_type": "stream",
     "text": [
      "<Slide, name = B_213-ST_BFIW-SE_2069_processed>, width=300, height=375, channels=3, levels=1, RGB=True, dtype=uint8> <valis.slide_io.VipsSlideReader object at 0x7f0567d46750> True (375, 300, 3)\n",
      "<Slide, name = B_213-ST_BFIW-SE_2070_processed>, width=300, height=375, channels=3, levels=1, RGB=True, dtype=uint8> <valis.slide_io.VipsSlideReader object at 0x7f0567d467b0> True (375, 300, 3)\n",
      "<Slide, name = B_213-ST_BFIW-SE_2071_processed>, width=300, height=375, channels=3, levels=1, RGB=True, dtype=uint8> <valis.slide_io.VipsSlideReader object at 0x7f0567d46810> True (375, 300, 3)\n",
      "<Slide, name = B_213-ST_BFIW-SE_2072_processed>, width=300, height=375, channels=3, levels=1, RGB=True, dtype=uint8> <valis.slide_io.VipsSlideReader object at 0x7f0567d46870> True (375, 300, 3)\n",
      "<Slide, name = B_213-ST_BFIW-SE_2073_processed>, width=300, height=375, channels=3, levels=1, RGB=True, dtype=uint8> <valis.slide_io.VipsSlideReader object at 0x7f0567d468d0> True (375, 300, 3)\n",
      "<Slide, name = B_213-ST_BFIW-SE_2074_processed>, width=300, height=375, channels=3, levels=1, RGB=True, dtype=uint8> <valis.slide_io.VipsSlideReader object at 0x7f0567d46930> True (375, 300, 3)\n",
      "<Slide, name = B_213-ST_BFIW-SE_2075_processed>, width=300, height=375, channels=3, levels=1, RGB=True, dtype=uint8> <valis.slide_io.VipsSlideReader object at 0x7f0567d46990> True (375, 300, 3)\n",
      "<Slide, name = B_213-ST_BFIW-SE_2076_processed>, width=300, height=375, channels=3, levels=1, RGB=True, dtype=uint8> <valis.slide_io.VipsSlideReader object at 0x7f0567d469f0> True (375, 300, 3)\n",
      "<Slide, name = B_213-ST_BFIW-SE_2077_processed>, width=300, height=375, channels=3, levels=1, RGB=True, dtype=uint8> <valis.slide_io.VipsSlideReader object at 0x7f0567d46a50> True (375, 300, 3)\n",
      "<Slide, name = B_213-ST_BFIW-SE_2078_processed>, width=300, height=375, channels=3, levels=1, RGB=True, dtype=uint8> <valis.slide_io.VipsSlideReader object at 0x7f0567d46ab0> True (375, 300, 3)\n"
     ]
    },
    {
     "name": "stderr",
     "output_type": "stream",
     "text": [
      "Converting images:  79%|████████████████████████████████████▉          | 2049/2608 [00:27<00:06, 91.45image/s]"
     ]
    },
    {
     "name": "stdout",
     "output_type": "stream",
     "text": [
      "<Slide, name = B_213-ST_BFIW-SE_2079_processed>, width=300, height=375, channels=3, levels=1, RGB=True, dtype=uint8> <valis.slide_io.VipsSlideReader object at 0x7f0567d46b40> True (375, 300, 3)\n",
      "<Slide, name = B_213-ST_BFIW-SE_2080_processed>, width=300, height=375, channels=3, levels=1, RGB=True, dtype=uint8> <valis.slide_io.VipsSlideReader object at 0x7f0567d46ba0> True (375, 300, 3)\n",
      "<Slide, name = B_213-ST_BFIW-SE_2081_processed>, width=300, height=375, channels=3, levels=1, RGB=True, dtype=uint8> <valis.slide_io.VipsSlideReader object at 0x7f0567d46c00> True (375, 300, 3)\n",
      "<Slide, name = B_213-ST_BFIW-SE_2082_processed>, width=300, height=375, channels=3, levels=1, RGB=True, dtype=uint8> <valis.slide_io.VipsSlideReader object at 0x7f0567d46c60> True (375, 300, 3)\n",
      "<Slide, name = B_213-ST_BFIW-SE_2083_processed>, width=300, height=375, channels=3, levels=1, RGB=True, dtype=uint8> <valis.slide_io.VipsSlideReader object at 0x7f0567d46cc0> True (375, 300, 3)\n",
      "<Slide, name = B_213-ST_BFIW-SE_2084_processed>, width=300, height=375, channels=3, levels=1, RGB=True, dtype=uint8> <valis.slide_io.VipsSlideReader object at 0x7f0567d46d20> True (375, 300, 3)\n",
      "<Slide, name = B_213-ST_BFIW-SE_2085_processed>, width=300, height=375, channels=3, levels=1, RGB=True, dtype=uint8> <valis.slide_io.VipsSlideReader object at 0x7f0567d46d80> True (375, 300, 3)\n",
      "<Slide, name = B_213-ST_BFIW-SE_2086_processed>, width=300, height=375, channels=3, levels=1, RGB=True, dtype=uint8> <valis.slide_io.VipsSlideReader object at 0x7f0567d46de0> True (375, 300, 3)\n",
      "<Slide, name = B_213-ST_BFIW-SE_2087_processed>, width=300, height=375, channels=3, levels=1, RGB=True, dtype=uint8> <valis.slide_io.VipsSlideReader object at 0x7f0567d46e40> True (375, 300, 3)\n",
      "<Slide, name = B_213-ST_BFIW-SE_2088_processed>, width=300, height=375, channels=3, levels=1, RGB=True, dtype=uint8> <valis.slide_io.VipsSlideReader object at 0x7f0567d46ea0> True (375, 300, 3)\n"
     ]
    },
    {
     "name": "stderr",
     "output_type": "stream",
     "text": [
      "Converting images:  79%|█████████████████████████████████████          | 2059/2608 [00:27<00:05, 91.71image/s]"
     ]
    },
    {
     "name": "stdout",
     "output_type": "stream",
     "text": [
      "<Slide, name = B_213-ST_BFIW-SE_2089_processed>, width=300, height=375, channels=3, levels=1, RGB=True, dtype=uint8> <valis.slide_io.VipsSlideReader object at 0x7f0567d46f00> True (375, 300, 3)\n",
      "<Slide, name = B_213-ST_BFIW-SE_2090_processed>, width=300, height=375, channels=3, levels=1, RGB=True, dtype=uint8> <valis.slide_io.VipsSlideReader object at 0x7f0567d46f60> True (375, 300, 3)\n",
      "<Slide, name = B_213-ST_BFIW-SE_2092_processed>, width=300, height=375, channels=3, levels=1, RGB=True, dtype=uint8> <valis.slide_io.VipsSlideReader object at 0x7f0567d46fc0> True (375, 300, 3)\n",
      "<Slide, name = B_213-ST_BFIW-SE_2093_processed>, width=300, height=375, channels=3, levels=1, RGB=True, dtype=uint8> <valis.slide_io.VipsSlideReader object at 0x7f0567d47020> True (375, 300, 3)\n",
      "<Slide, name = B_213-ST_BFIW-SE_2094_processed>, width=300, height=375, channels=3, levels=1, RGB=True, dtype=uint8> <valis.slide_io.VipsSlideReader object at 0x7f0567d47080> True (375, 300, 3)\n",
      "<Slide, name = B_213-ST_BFIW-SE_2095_processed>, width=300, height=375, channels=3, levels=1, RGB=True, dtype=uint8> <valis.slide_io.VipsSlideReader object at 0x7f0567d470e0> True (375, 300, 3)\n",
      "<Slide, name = B_213-ST_BFIW-SE_2096_processed>, width=300, height=375, channels=3, levels=1, RGB=True, dtype=uint8> <valis.slide_io.VipsSlideReader object at 0x7f0567d47140> True (375, 300, 3)\n",
      "<Slide, name = B_213-ST_BFIW-SE_2097_processed>, width=300, height=375, channels=3, levels=1, RGB=True, dtype=uint8> <valis.slide_io.VipsSlideReader object at 0x7f0567d471a0> True (375, 300, 3)\n",
      "<Slide, name = B_213-ST_BFIW-SE_2098_processed>, width=300, height=375, channels=3, levels=1, RGB=True, dtype=uint8> <valis.slide_io.VipsSlideReader object at 0x7f0567d47200> True (375, 300, 3)\n",
      "<Slide, name = B_213-ST_BFIW-SE_2099_processed>, width=300, height=375, channels=3, levels=1, RGB=True, dtype=uint8> <valis.slide_io.VipsSlideReader object at 0x7f0567d47260> True (375, 300, 3)\n"
     ]
    },
    {
     "name": "stderr",
     "output_type": "stream",
     "text": [
      "Converting images:  79%|█████████████████████████████████████▎         | 2069/2608 [00:28<00:05, 92.40image/s]"
     ]
    },
    {
     "name": "stdout",
     "output_type": "stream",
     "text": [
      "<Slide, name = B_213-ST_BFIW-SE_2100_processed>, width=300, height=375, channels=3, levels=1, RGB=True, dtype=uint8> <valis.slide_io.VipsSlideReader object at 0x7f0567d472c0> True (375, 300, 3)\n",
      "<Slide, name = B_213-ST_BFIW-SE_2101_processed>, width=300, height=375, channels=3, levels=1, RGB=True, dtype=uint8> <valis.slide_io.VipsSlideReader object at 0x7f0567d47320> True (375, 300, 3)\n",
      "<Slide, name = B_213-ST_BFIW-SE_2102_processed>, width=300, height=375, channels=3, levels=1, RGB=True, dtype=uint8> <valis.slide_io.VipsSlideReader object at 0x7f0567d47380> True (375, 300, 3)\n",
      "<Slide, name = B_213-ST_BFIW-SE_2103_processed>, width=300, height=375, channels=3, levels=1, RGB=True, dtype=uint8> <valis.slide_io.VipsSlideReader object at 0x7f0567d473e0> True (375, 300, 3)\n",
      "<Slide, name = B_213-ST_BFIW-SE_2104_processed>, width=300, height=375, channels=3, levels=1, RGB=True, dtype=uint8> <valis.slide_io.VipsSlideReader object at 0x7f0567d47440> True (375, 300, 3)\n",
      "<Slide, name = B_213-ST_BFIW-SE_2105_processed>, width=300, height=375, channels=3, levels=1, RGB=True, dtype=uint8> <valis.slide_io.VipsSlideReader object at 0x7f0567d474a0> True (375, 300, 3)\n",
      "<Slide, name = B_213-ST_BFIW-SE_2106_processed>, width=300, height=375, channels=3, levels=1, RGB=True, dtype=uint8> <valis.slide_io.VipsSlideReader object at 0x7f0567d47500> True (375, 300, 3)\n",
      "<Slide, name = B_213-ST_BFIW-SE_2107_processed>, width=300, height=375, channels=3, levels=1, RGB=True, dtype=uint8> <valis.slide_io.VipsSlideReader object at 0x7f0567d47560> True (375, 300, 3)\n",
      "<Slide, name = B_213-ST_BFIW-SE_2108_processed>, width=300, height=375, channels=3, levels=1, RGB=True, dtype=uint8> <valis.slide_io.VipsSlideReader object at 0x7f0567d475c0> True (375, 300, 3)\n",
      "<Slide, name = B_213-ST_BFIW-SE_2109_processed>, width=300, height=375, channels=3, levels=1, RGB=True, dtype=uint8> <valis.slide_io.VipsSlideReader object at 0x7f0567d47620> True (375, 300, 3)\n"
     ]
    },
    {
     "name": "stderr",
     "output_type": "stream",
     "text": [
      "Converting images:  80%|█████████████████████████████████████▍         | 2079/2608 [00:28<00:05, 92.28image/s]"
     ]
    },
    {
     "name": "stdout",
     "output_type": "stream",
     "text": [
      "<Slide, name = B_213-ST_BFIW-SE_2110_processed>, width=300, height=375, channels=3, levels=1, RGB=True, dtype=uint8> <valis.slide_io.VipsSlideReader object at 0x7f0567d47680> True (375, 300, 3)\n",
      "<Slide, name = B_213-ST_BFIW-SE_2111_processed>, width=300, height=375, channels=3, levels=1, RGB=True, dtype=uint8> <valis.slide_io.VipsSlideReader object at 0x7f0567d476e0> True (375, 300, 3)\n",
      "<Slide, name = B_213-ST_BFIW-SE_2112_processed>, width=300, height=375, channels=3, levels=1, RGB=True, dtype=uint8> <valis.slide_io.VipsSlideReader object at 0x7f0567d47740> True (375, 300, 3)\n",
      "<Slide, name = B_213-ST_BFIW-SE_2113_processed>, width=300, height=375, channels=3, levels=1, RGB=True, dtype=uint8> <valis.slide_io.VipsSlideReader object at 0x7f0567d477a0> True (375, 300, 3)\n",
      "<Slide, name = B_213-ST_BFIW-SE_2114_processed>, width=300, height=375, channels=3, levels=1, RGB=True, dtype=uint8> <valis.slide_io.VipsSlideReader object at 0x7f0567d47800> True (375, 300, 3)\n",
      "<Slide, name = B_213-ST_BFIW-SE_2115_processed>, width=300, height=375, channels=3, levels=1, RGB=True, dtype=uint8> <valis.slide_io.VipsSlideReader object at 0x7f0567d47860> True (375, 300, 3)\n",
      "<Slide, name = B_213-ST_BFIW-SE_2116_processed>, width=300, height=375, channels=3, levels=1, RGB=True, dtype=uint8> <valis.slide_io.VipsSlideReader object at 0x7f0567d478c0> True (375, 300, 3)\n",
      "<Slide, name = B_213-ST_BFIW-SE_2117_processed>, width=300, height=375, channels=3, levels=1, RGB=True, dtype=uint8> <valis.slide_io.VipsSlideReader object at 0x7f0567d47920> True (375, 300, 3)\n",
      "<Slide, name = B_213-ST_BFIW-SE_2118_processed>, width=300, height=375, channels=3, levels=1, RGB=True, dtype=uint8> <valis.slide_io.VipsSlideReader object at 0x7f0567d47980> True (375, 300, 3)\n",
      "<Slide, name = B_213-ST_BFIW-SE_2119_processed>, width=300, height=375, channels=3, levels=1, RGB=True, dtype=uint8> <valis.slide_io.VipsSlideReader object at 0x7f0567d479e0> True (375, 300, 3)\n"
     ]
    },
    {
     "name": "stderr",
     "output_type": "stream",
     "text": [
      "Converting images:  80%|█████████████████████████████████████▋         | 2089/2608 [00:28<00:05, 91.82image/s]"
     ]
    },
    {
     "name": "stdout",
     "output_type": "stream",
     "text": [
      "<Slide, name = B_213-ST_BFIW-SE_2120_processed>, width=300, height=375, channels=3, levels=1, RGB=True, dtype=uint8> <valis.slide_io.VipsSlideReader object at 0x7f0567d47a40> True (375, 300, 3)\n",
      "<Slide, name = B_213-ST_BFIW-SE_2121_processed>, width=300, height=375, channels=3, levels=1, RGB=True, dtype=uint8> <valis.slide_io.VipsSlideReader object at 0x7f0567d47aa0> True (375, 300, 3)\n",
      "<Slide, name = B_213-ST_BFIW-SE_2122_processed>, width=300, height=375, channels=3, levels=1, RGB=True, dtype=uint8> <valis.slide_io.VipsSlideReader object at 0x7f0567d47b00> True (375, 300, 3)\n",
      "<Slide, name = B_213-ST_BFIW-SE_2123_processed>, width=300, height=375, channels=3, levels=1, RGB=True, dtype=uint8> <valis.slide_io.VipsSlideReader object at 0x7f0567d47b60> True (375, 300, 3)\n",
      "<Slide, name = B_213-ST_BFIW-SE_2124_processed>, width=300, height=375, channels=3, levels=1, RGB=True, dtype=uint8> <valis.slide_io.VipsSlideReader object at 0x7f0567d47bc0> True (375, 300, 3)\n",
      "<Slide, name = B_213-ST_BFIW-SE_2125_processed>, width=300, height=375, channels=3, levels=1, RGB=True, dtype=uint8> <valis.slide_io.VipsSlideReader object at 0x7f0567d47c20> True (375, 300, 3)\n",
      "<Slide, name = B_213-ST_BFIW-SE_2126_processed>, width=300, height=375, channels=3, levels=1, RGB=True, dtype=uint8> <valis.slide_io.VipsSlideReader object at 0x7f0567d47c80> True (375, 300, 3)\n",
      "<Slide, name = B_213-ST_BFIW-SE_2127_processed>, width=300, height=375, channels=3, levels=1, RGB=True, dtype=uint8> <valis.slide_io.VipsSlideReader object at 0x7f0567d47ce0> True (375, 300, 3)\n",
      "<Slide, name = B_213-ST_BFIW-SE_2128_processed>, width=300, height=375, channels=3, levels=1, RGB=True, dtype=uint8> <valis.slide_io.VipsSlideReader object at 0x7f0567d47d40> True (375, 300, 3)\n",
      "<Slide, name = B_213-ST_BFIW-SE_2129_processed>, width=300, height=375, channels=3, levels=1, RGB=True, dtype=uint8> <valis.slide_io.VipsSlideReader object at 0x7f0567d47da0> True (375, 300, 3)\n"
     ]
    },
    {
     "name": "stderr",
     "output_type": "stream",
     "text": [
      "Converting images:  80%|█████████████████████████████████████▊         | 2099/2608 [00:28<00:05, 91.51image/s]"
     ]
    },
    {
     "name": "stdout",
     "output_type": "stream",
     "text": [
      "<Slide, name = B_213-ST_BFIW-SE_2130_processed>, width=300, height=375, channels=3, levels=1, RGB=True, dtype=uint8> <valis.slide_io.VipsSlideReader object at 0x7f0567d47e00> True (375, 300, 3)\n",
      "<Slide, name = B_213-ST_BFIW-SE_2131_processed>, width=300, height=375, channels=3, levels=1, RGB=True, dtype=uint8> <valis.slide_io.VipsSlideReader object at 0x7f0567d47e60> True (375, 300, 3)\n",
      "<Slide, name = B_213-ST_BFIW-SE_2132_processed>, width=300, height=375, channels=3, levels=1, RGB=True, dtype=uint8> <valis.slide_io.VipsSlideReader object at 0x7f0567d47ec0> True (375, 300, 3)\n",
      "<Slide, name = B_213-ST_BFIW-SE_2133_processed>, width=300, height=375, channels=3, levels=1, RGB=True, dtype=uint8> <valis.slide_io.VipsSlideReader object at 0x7f0567d47f50> True (375, 300, 3)\n",
      "<Slide, name = B_213-ST_BFIW-SE_2134_processed>, width=300, height=375, channels=3, levels=1, RGB=True, dtype=uint8> <valis.slide_io.VipsSlideReader object at 0x7f0567d47ef0> True (375, 300, 3)\n",
      "<Slide, name = B_213-ST_BFIW-SE_2135_processed>, width=300, height=375, channels=3, levels=1, RGB=True, dtype=uint8> <valis.slide_io.VipsSlideReader object at 0x7f0567d47d70> True (375, 300, 3)\n",
      "<Slide, name = B_213-ST_BFIW-SE_2136_processed>, width=300, height=375, channels=3, levels=1, RGB=True, dtype=uint8> <valis.slide_io.VipsSlideReader object at 0x7f0567d47fe0> True (375, 300, 3)\n",
      "<Slide, name = B_213-ST_BFIW-SE_2137_processed>, width=300, height=375, channels=3, levels=1, RGB=True, dtype=uint8> <valis.slide_io.VipsSlideReader object at 0x7f0567d47f80> True (375, 300, 3)\n",
      "<Slide, name = B_213-ST_BFIW-SE_2138_processed>, width=300, height=375, channels=3, levels=1, RGB=True, dtype=uint8> <valis.slide_io.VipsSlideReader object at 0x7f0567d47e90> True (375, 300, 3)\n",
      "<Slide, name = B_213-ST_BFIW-SE_2139_processed>, width=300, height=375, channels=3, levels=1, RGB=True, dtype=uint8> <valis.slide_io.VipsSlideReader object at 0x7f0567d47d10> True (375, 300, 3)\n"
     ]
    },
    {
     "name": "stderr",
     "output_type": "stream",
     "text": [
      "Converting images:  81%|██████████████████████████████████████         | 2109/2608 [00:28<00:05, 91.55image/s]"
     ]
    },
    {
     "name": "stdout",
     "output_type": "stream",
     "text": [
      "<Slide, name = B_213-ST_BFIW-SE_2140_processed>, width=300, height=375, channels=3, levels=1, RGB=True, dtype=uint8> <valis.slide_io.VipsSlideReader object at 0x7f0567d44200> True (375, 300, 3)\n",
      "<Slide, name = B_213-ST_BFIW-SE_2141_processed>, width=300, height=375, channels=3, levels=1, RGB=True, dtype=uint8> <valis.slide_io.VipsSlideReader object at 0x7f0567d3c2c0> True (375, 300, 3)\n",
      "<Slide, name = B_213-ST_BFIW-SE_2142_processed>, width=300, height=375, channels=3, levels=1, RGB=True, dtype=uint8> <valis.slide_io.VipsSlideReader object at 0x7f0567d3c200> True (375, 300, 3)\n",
      "<Slide, name = B_213-ST_BFIW-SE_2143_processed>, width=300, height=375, channels=3, levels=1, RGB=True, dtype=uint8> <valis.slide_io.VipsSlideReader object at 0x7f0567d4c170> True (375, 300, 3)\n",
      "<Slide, name = B_213-ST_BFIW-SE_2144_processed>, width=300, height=375, channels=3, levels=1, RGB=True, dtype=uint8> <valis.slide_io.VipsSlideReader object at 0x7f0567d442f0> True (375, 300, 3)\n",
      "<Slide, name = B_213-ST_BFIW-SE_2145_processed>, width=300, height=375, channels=3, levels=1, RGB=True, dtype=uint8> <valis.slide_io.VipsSlideReader object at 0x7f0567d4c080> True (375, 300, 3)\n",
      "<Slide, name = B_213-ST_BFIW-SE_2146_processed>, width=300, height=375, channels=3, levels=1, RGB=True, dtype=uint8> <valis.slide_io.VipsSlideReader object at 0x7f0567d3c3b0> True (375, 300, 3)\n",
      "<Slide, name = B_213-ST_BFIW-SE_2147_processed>, width=300, height=375, channels=3, levels=1, RGB=True, dtype=uint8> <valis.slide_io.VipsSlideReader object at 0x7f0567d4c4a0> True (375, 300, 3)\n",
      "<Slide, name = B_213-ST_BFIW-SE_2148_processed>, width=300, height=375, channels=3, levels=1, RGB=True, dtype=uint8> <valis.slide_io.VipsSlideReader object at 0x7f0567d3c470> True (375, 300, 3)\n",
      "<Slide, name = B_213-ST_BFIW-SE_2149_processed>, width=300, height=375, channels=3, levels=1, RGB=True, dtype=uint8> <valis.slide_io.VipsSlideReader object at 0x7f0567d4c560> True (375, 300, 3)\n"
     ]
    },
    {
     "name": "stderr",
     "output_type": "stream",
     "text": [
      "Converting images:  81%|██████████████████████████████████████▏        | 2119/2608 [00:28<00:05, 91.51image/s]"
     ]
    },
    {
     "name": "stdout",
     "output_type": "stream",
     "text": [
      "<Slide, name = B_213-ST_BFIW-SE_2150_processed>, width=300, height=375, channels=3, levels=1, RGB=True, dtype=uint8> <valis.slide_io.VipsSlideReader object at 0x7f0567d3c530> True (375, 300, 3)\n",
      "<Slide, name = B_213-ST_BFIW-SE_2151_processed>, width=300, height=375, channels=3, levels=1, RGB=True, dtype=uint8> <valis.slide_io.VipsSlideReader object at 0x7f0567d4c680> True (375, 300, 3)\n",
      "<Slide, name = B_213-ST_BFIW-SE_2152_processed>, width=300, height=375, channels=3, levels=1, RGB=True, dtype=uint8> <valis.slide_io.VipsSlideReader object at 0x7f0567d2c5f0> True (375, 300, 3)\n",
      "<Slide, name = B_213-ST_BFIW-SE_2153_processed>, width=300, height=375, channels=3, levels=1, RGB=True, dtype=uint8> <valis.slide_io.VipsSlideReader object at 0x7f0567d4c740> True (375, 300, 3)\n",
      "<Slide, name = B_213-ST_BFIW-SE_2154_processed>, width=300, height=375, channels=3, levels=1, RGB=True, dtype=uint8> <valis.slide_io.VipsSlideReader object at 0x7f0567d4c4d0> True (375, 300, 3)\n",
      "<Slide, name = B_213-ST_BFIW-SE_2155_processed>, width=300, height=375, channels=3, levels=1, RGB=True, dtype=uint8> <valis.slide_io.VipsSlideReader object at 0x7f0567d4c710> True (375, 300, 3)\n",
      "<Slide, name = B_213-ST_BFIW-SE_2156_processed>, width=300, height=375, channels=3, levels=1, RGB=True, dtype=uint8> <valis.slide_io.VipsSlideReader object at 0x7f0567d4c590> True (375, 300, 3)\n",
      "<Slide, name = B_213-ST_BFIW-SE_2157_processed>, width=300, height=375, channels=3, levels=1, RGB=True, dtype=uint8> <valis.slide_io.VipsSlideReader object at 0x7f0567d1c6e0> True (375, 300, 3)\n",
      "<Slide, name = B_213-ST_BFIW-SE_2158_processed>, width=300, height=375, channels=3, levels=1, RGB=True, dtype=uint8> <valis.slide_io.VipsSlideReader object at 0x7f0567d4c830> True (375, 300, 3)\n",
      "<Slide, name = B_213-ST_BFIW-SE_2159_processed>, width=300, height=375, channels=3, levels=1, RGB=True, dtype=uint8> <valis.slide_io.VipsSlideReader object at 0x7f0567d3c8f0> True (375, 300, 3)\n"
     ]
    },
    {
     "name": "stderr",
     "output_type": "stream",
     "text": [
      "Converting images:  82%|██████████████████████████████████████▎        | 2129/2608 [00:28<00:05, 91.05image/s]"
     ]
    },
    {
     "name": "stdout",
     "output_type": "stream",
     "text": [
      "<Slide, name = B_213-ST_BFIW-SE_2160_processed>, width=300, height=375, channels=3, levels=1, RGB=True, dtype=uint8> <valis.slide_io.VipsSlideReader object at 0x7f0567d3c980> True (375, 300, 3)\n",
      "<Slide, name = B_213-ST_BFIW-SE_2161_processed>, width=300, height=375, channels=3, levels=1, RGB=True, dtype=uint8> <valis.slide_io.VipsSlideReader object at 0x7f0567d4c410> True (375, 300, 3)\n",
      "<Slide, name = B_213-ST_BFIW-SE_2162_processed>, width=300, height=375, channels=3, levels=1, RGB=True, dtype=uint8> <valis.slide_io.VipsSlideReader object at 0x7f0567d4ca10> True (375, 300, 3)\n",
      "<Slide, name = B_213-ST_BFIW-SE_2163_processed>, width=300, height=375, channels=3, levels=1, RGB=True, dtype=uint8> <valis.slide_io.VipsSlideReader object at 0x7f0567d4c1d0> True (375, 300, 3)\n",
      "<Slide, name = B_213-ST_BFIW-SE_2164_processed>, width=300, height=375, channels=3, levels=1, RGB=True, dtype=uint8> <valis.slide_io.VipsSlideReader object at 0x7f0567d4caa0> True (375, 300, 3)\n",
      "<Slide, name = B_213-ST_BFIW-SE_2165_processed>, width=300, height=375, channels=3, levels=1, RGB=True, dtype=uint8> <valis.slide_io.VipsSlideReader object at 0x7f0567d4c890> True (375, 300, 3)\n",
      "<Slide, name = B_213-ST_BFIW-SE_2166_processed>, width=300, height=375, channels=3, levels=1, RGB=True, dtype=uint8> <valis.slide_io.VipsSlideReader object at 0x7f0567d4cc50> True (375, 300, 3)\n",
      "<Slide, name = B_213-ST_BFIW-SE_2167_processed>, width=300, height=375, channels=3, levels=1, RGB=True, dtype=uint8> <valis.slide_io.VipsSlideReader object at 0x7f0567d14da0> True (375, 300, 3)\n",
      "<Slide, name = B_213-ST_BFIW-SE_2168_processed>, width=300, height=375, channels=3, levels=1, RGB=True, dtype=uint8> <valis.slide_io.VipsSlideReader object at 0x7f0567d2cd40> True (375, 300, 3)\n",
      "<Slide, name = B_213-ST_BFIW-SE_2169_processed>, width=300, height=375, channels=3, levels=1, RGB=True, dtype=uint8> <valis.slide_io.VipsSlideReader object at 0x7f0567d3cd70> True (375, 300, 3)\n"
     ]
    },
    {
     "name": "stderr",
     "output_type": "stream",
     "text": [
      "Converting images:  82%|██████████████████████████████████████▌        | 2139/2608 [00:28<00:05, 91.78image/s]"
     ]
    },
    {
     "name": "stdout",
     "output_type": "stream",
     "text": [
      "<Slide, name = B_213-ST_BFIW-SE_2170_processed>, width=300, height=375, channels=3, levels=1, RGB=True, dtype=uint8> <valis.slide_io.VipsSlideReader object at 0x7f0567d4c7a0> True (375, 300, 3)\n",
      "<Slide, name = B_213-ST_BFIW-SE_2171_processed>, width=300, height=375, channels=3, levels=1, RGB=True, dtype=uint8> <valis.slide_io.VipsSlideReader object at 0x7f0567d2cb60> True (375, 300, 3)\n",
      "<Slide, name = B_213-ST_BFIW-SE_2172_processed>, width=300, height=375, channels=3, levels=1, RGB=True, dtype=uint8> <valis.slide_io.VipsSlideReader object at 0x7f0567d1cfb0> True (375, 300, 3)\n",
      "<Slide, name = B_213-ST_BFIW-SE_2173_processed>, width=300, height=375, channels=3, levels=1, RGB=True, dtype=uint8> <valis.slide_io.VipsSlideReader object at 0x7f0567d4c350> True (375, 300, 3)\n",
      "<Slide, name = B_213-ST_BFIW-SE_2174_processed>, width=300, height=375, channels=3, levels=1, RGB=True, dtype=uint8> <valis.slide_io.VipsSlideReader object at 0x7f0567d2cf80> True (375, 300, 3)\n",
      "<Slide, name = B_213-ST_BFIW-SE_2175_processed>, width=300, height=375, channels=3, levels=1, RGB=True, dtype=uint8> <valis.slide_io.VipsSlideReader object at 0x7f0567d4ce30> True (375, 300, 3)\n",
      "<Slide, name = B_213-ST_BFIW-SE_2176_processed>, width=300, height=375, channels=3, levels=1, RGB=True, dtype=uint8> <valis.slide_io.VipsSlideReader object at 0x7f0567d2cb30> True (375, 300, 3)\n",
      "<Slide, name = B_213-ST_BFIW-SE_2177_processed>, width=300, height=375, channels=3, levels=1, RGB=True, dtype=uint8> <valis.slide_io.VipsSlideReader object at 0x7f0567d2d1f0> True (375, 300, 3)\n",
      "<Slide, name = B_213-ST_BFIW-SE_2178_processed>, width=300, height=375, channels=3, levels=1, RGB=True, dtype=uint8> <valis.slide_io.VipsSlideReader object at 0x7f0567d4cfe0> True (375, 300, 3)\n",
      "<Slide, name = B_213-ST_BFIW-SE_2179_processed>, width=300, height=375, channels=3, levels=1, RGB=True, dtype=uint8> <valis.slide_io.VipsSlideReader object at 0x7f0567d3d1c0> True (375, 300, 3)\n"
     ]
    },
    {
     "name": "stderr",
     "output_type": "stream",
     "text": [
      "Converting images:  82%|██████████████████████████████████████▋        | 2149/2608 [00:28<00:04, 92.24image/s]"
     ]
    },
    {
     "name": "stdout",
     "output_type": "stream",
     "text": [
      "<Slide, name = B_213-ST_BFIW-SE_2180_processed>, width=300, height=375, channels=3, levels=1, RGB=True, dtype=uint8> <valis.slide_io.VipsSlideReader object at 0x7f0567d2cef0> True (375, 300, 3)\n",
      "<Slide, name = B_213-ST_BFIW-SE_2181_processed>, width=300, height=375, channels=3, levels=1, RGB=True, dtype=uint8> <valis.slide_io.VipsSlideReader object at 0x7f0567d4cce0> True (375, 300, 3)\n",
      "<Slide, name = B_213-ST_BFIW-SE_2182_processed>, width=300, height=375, channels=3, levels=1, RGB=True, dtype=uint8> <valis.slide_io.VipsSlideReader object at 0x7f0567d2d2b0> True (375, 300, 3)\n",
      "<Slide, name = B_213-ST_BFIW-SE_2183_processed>, width=300, height=375, channels=3, levels=1, RGB=True, dtype=uint8> <valis.slide_io.VipsSlideReader object at 0x7f0567d15040> True (375, 300, 3)\n",
      "<Slide, name = B_213-ST_BFIW-SE_2184_processed>, width=300, height=375, channels=3, levels=1, RGB=True, dtype=uint8> <valis.slide_io.VipsSlideReader object at 0x7f0567d3d370> True (375, 300, 3)\n",
      "<Slide, name = B_213-ST_BFIW-SE_2185_processed>, width=300, height=375, channels=3, levels=1, RGB=True, dtype=uint8> <valis.slide_io.VipsSlideReader object at 0x7f0567d4d340> True (375, 300, 3)\n",
      "<Slide, name = B_213-ST_BFIW-SE_2186_processed>, width=300, height=375, channels=3, levels=1, RGB=True, dtype=uint8> <valis.slide_io.VipsSlideReader object at 0x7f0567d2d430> True (375, 300, 3)\n",
      "<Slide, name = B_213-ST_BFIW-SE_2187_processed>, width=300, height=375, channels=3, levels=1, RGB=True, dtype=uint8> <valis.slide_io.VipsSlideReader object at 0x7f0567d4d460> True (375, 300, 3)\n",
      "<Slide, name = B_213-ST_BFIW-SE_2188_processed>, width=300, height=375, channels=3, levels=1, RGB=True, dtype=uint8> <valis.slide_io.VipsSlideReader object at 0x7f0567d3d4f0> True (375, 300, 3)\n",
      "<Slide, name = B_213-ST_BFIW-SE_2189_processed>, width=300, height=375, channels=3, levels=1, RGB=True, dtype=uint8> <valis.slide_io.VipsSlideReader object at 0x7f0567d4d5e0> True (375, 300, 3)\n"
     ]
    },
    {
     "name": "stderr",
     "output_type": "stream",
     "text": [
      "Converting images:  83%|██████████████████████████████████████▉        | 2159/2608 [00:29<00:04, 92.32image/s]"
     ]
    },
    {
     "name": "stdout",
     "output_type": "stream",
     "text": [
      "<Slide, name = B_213-ST_BFIW-SE_2190_processed>, width=300, height=375, channels=3, levels=1, RGB=True, dtype=uint8> <valis.slide_io.VipsSlideReader object at 0x7f0567d3d5b0> True (375, 300, 3)\n",
      "<Slide, name = B_213-ST_BFIW-SE_2191_processed>, width=300, height=375, channels=3, levels=1, RGB=True, dtype=uint8> <valis.slide_io.VipsSlideReader object at 0x7f0567d4d6a0> True (375, 300, 3)\n",
      "<Slide, name = B_213-ST_BFIW-SE_2192_processed>, width=300, height=375, channels=3, levels=1, RGB=True, dtype=uint8> <valis.slide_io.VipsSlideReader object at 0x7f0567d3d670> True (375, 300, 3)\n",
      "<Slide, name = B_213-ST_BFIW-SE_2193_processed>, width=300, height=375, channels=3, levels=1, RGB=True, dtype=uint8> <valis.slide_io.VipsSlideReader object at 0x7f0567d4d760> True (375, 300, 3)\n",
      "<Slide, name = B_213-ST_BFIW-SE_2194_processed>, width=300, height=375, channels=3, levels=1, RGB=True, dtype=uint8> <valis.slide_io.VipsSlideReader object at 0x7f0567d3d730> True (375, 300, 3)\n",
      "<Slide, name = B_213-ST_BFIW-SE_2195_processed>, width=300, height=375, channels=3, levels=1, RGB=True, dtype=uint8> <valis.slide_io.VipsSlideReader object at 0x7f0567d4d820> True (375, 300, 3)\n",
      "<Slide, name = B_213-ST_BFIW-SE_2196_processed>, width=300, height=375, channels=3, levels=1, RGB=True, dtype=uint8> <valis.slide_io.VipsSlideReader object at 0x7f0567d2d7f0> True (375, 300, 3)\n",
      "<Slide, name = B_213-ST_BFIW-SE_2197_processed>, width=300, height=375, channels=3, levels=1, RGB=True, dtype=uint8> <valis.slide_io.VipsSlideReader object at 0x7f0567d2d6d0> True (375, 300, 3)\n",
      "<Slide, name = B_213-ST_BFIW-SE_2198_processed>, width=300, height=375, channels=3, levels=1, RGB=True, dtype=uint8> <valis.slide_io.VipsSlideReader object at 0x7f0567d3d8b0> True (375, 300, 3)\n",
      "<Slide, name = B_213-ST_BFIW-SE_2199_processed>, width=300, height=375, channels=3, levels=1, RGB=True, dtype=uint8> <valis.slide_io.VipsSlideReader object at 0x7f0567d4d790> True (375, 300, 3)\n"
     ]
    },
    {
     "name": "stderr",
     "output_type": "stream",
     "text": [
      "Converting images:  83%|███████████████████████████████████████        | 2169/2608 [00:29<00:04, 91.11image/s]"
     ]
    },
    {
     "name": "stdout",
     "output_type": "stream",
     "text": [
      "<Slide, name = B_213-ST_BFIW-SE_2200_processed>, width=300, height=375, channels=3, levels=1, RGB=True, dtype=uint8> <valis.slide_io.VipsSlideReader object at 0x7f0567d4d910> True (375, 300, 3)\n",
      "<Slide, name = B_213-ST_BFIW-SE_2201_processed>, width=300, height=375, channels=3, levels=1, RGB=True, dtype=uint8> <valis.slide_io.VipsSlideReader object at 0x7f0567d2d940> True (375, 300, 3)\n",
      "<Slide, name = B_213-ST_BFIW-SE_2202_processed>, width=300, height=375, channels=3, levels=1, RGB=True, dtype=uint8> <valis.slide_io.VipsSlideReader object at 0x7f0567d4db80> True (375, 300, 3)\n",
      "<Slide, name = B_213-ST_BFIW-SE_2203_processed>, width=300, height=375, channels=3, levels=1, RGB=True, dtype=uint8> <valis.slide_io.VipsSlideReader object at 0x7f0567d1da00> True (375, 300, 3)\n",
      "<Slide, name = B_213-ST_BFIW-SE_2204_processed>, width=300, height=375, channels=3, levels=1, RGB=True, dtype=uint8> <valis.slide_io.VipsSlideReader object at 0x7f0567d4d550> True (375, 300, 3)\n",
      "<Slide, name = B_213-ST_BFIW-SE_2205_processed>, width=300, height=375, channels=3, levels=1, RGB=True, dtype=uint8> <valis.slide_io.VipsSlideReader object at 0x7f0567d4d850> True (375, 300, 3)\n",
      "<Slide, name = B_213-ST_BFIW-SE_2206_processed>, width=300, height=375, channels=3, levels=1, RGB=True, dtype=uint8> <valis.slide_io.VipsSlideReader object at 0x7f0567d3db20> True (375, 300, 3)\n",
      "<Slide, name = B_213-ST_BFIW-SE_2207_processed>, width=300, height=375, channels=3, levels=1, RGB=True, dtype=uint8> <valis.slide_io.VipsSlideReader object at 0x7f0567d4dbb0> True (375, 300, 3)\n",
      "<Slide, name = B_213-ST_BFIW-SE_2208_processed>, width=300, height=375, channels=3, levels=1, RGB=True, dtype=uint8> <valis.slide_io.VipsSlideReader object at 0x7f0567d1dc70> True (375, 300, 3)\n",
      "<Slide, name = B_213-ST_BFIW-SE_2209_processed>, width=300, height=375, channels=3, levels=1, RGB=True, dtype=uint8> <valis.slide_io.VipsSlideReader object at 0x7f0567d4dd60> True (375, 300, 3)\n"
     ]
    },
    {
     "name": "stderr",
     "output_type": "stream",
     "text": [
      "Converting images:  84%|███████████████████████████████████████▎       | 2179/2608 [00:29<00:04, 90.08image/s]"
     ]
    },
    {
     "name": "stdout",
     "output_type": "stream",
     "text": [
      "<Slide, name = B_213-ST_BFIW-SE_2210_processed>, width=300, height=375, channels=3, levels=1, RGB=True, dtype=uint8> <valis.slide_io.VipsSlideReader object at 0x7f0567d4dd30> True (375, 300, 3)\n",
      "<Slide, name = B_213-ST_BFIW-SE_2211_processed>, width=300, height=375, channels=3, levels=1, RGB=True, dtype=uint8> <valis.slide_io.VipsSlideReader object at 0x7f0567d4dee0> True (375, 300, 3)\n",
      "<Slide, name = B_213-ST_BFIW-SE_2212_processed>, width=300, height=375, channels=3, levels=1, RGB=True, dtype=uint8> <valis.slide_io.VipsSlideReader object at 0x7f0567d3df70> True (375, 300, 3)\n",
      "<Slide, name = B_213-ST_BFIW-SE_2213_processed>, width=300, height=375, channels=3, levels=1, RGB=True, dtype=uint8> <valis.slide_io.VipsSlideReader object at 0x7f0567d4de20> True (375, 300, 3)\n",
      "<Slide, name = B_213-ST_BFIW-SE_2214_processed>, width=300, height=375, channels=3, levels=1, RGB=True, dtype=uint8> <valis.slide_io.VipsSlideReader object at 0x7f0567d3df40> True (375, 300, 3)\n",
      "<Slide, name = B_213-ST_BFIW-SE_2215_processed>, width=300, height=375, channels=3, levels=1, RGB=True, dtype=uint8> <valis.slide_io.VipsSlideReader object at 0x7f0567d4e000> True (375, 300, 3)\n",
      "<Slide, name = B_213-ST_BFIW-SE_2216_processed>, width=300, height=375, channels=3, levels=1, RGB=True, dtype=uint8> <valis.slide_io.VipsSlideReader object at 0x7f0567d4dc10> True (375, 300, 3)\n",
      "<Slide, name = B_213-ST_BFIW-SE_2217_processed>, width=300, height=375, channels=3, levels=1, RGB=True, dtype=uint8> <valis.slide_io.VipsSlideReader object at 0x7f0567d3dc40> True (375, 300, 3)\n",
      "<Slide, name = B_213-ST_BFIW-SE_2218_processed>, width=300, height=375, channels=3, levels=1, RGB=True, dtype=uint8> <valis.slide_io.VipsSlideReader object at 0x7f0567d4e030> True (375, 300, 3)\n",
      "<Slide, name = B_213-ST_BFIW-SE_2219_processed>, width=300, height=375, channels=3, levels=1, RGB=True, dtype=uint8> <valis.slide_io.VipsSlideReader object at 0x7f0567d3e0f0> True (375, 300, 3)\n"
     ]
    },
    {
     "name": "stderr",
     "output_type": "stream",
     "text": [
      "Converting images:  84%|███████████████████████████████████████▍       | 2189/2608 [00:29<00:04, 89.64image/s]"
     ]
    },
    {
     "name": "stdout",
     "output_type": "stream",
     "text": [
      "<Slide, name = B_213-ST_BFIW-SE_2220_processed>, width=300, height=375, channels=3, levels=1, RGB=True, dtype=uint8> <valis.slide_io.VipsSlideReader object at 0x7f0567d3e180> True (375, 300, 3)\n",
      "<Slide, name = B_213-ST_BFIW-SE_2221_processed>, width=300, height=375, channels=3, levels=1, RGB=True, dtype=uint8> <valis.slide_io.VipsSlideReader object at 0x7f0567d2e1b0> True (375, 300, 3)\n",
      "<Slide, name = B_213-ST_BFIW-SE_2222_processed>, width=300, height=375, channels=3, levels=1, RGB=True, dtype=uint8> <valis.slide_io.VipsSlideReader object at 0x7f0567d4e090> True (375, 300, 3)\n",
      "<Slide, name = B_213-ST_BFIW-SE_2223_processed>, width=300, height=375, channels=3, levels=1, RGB=True, dtype=uint8> <valis.slide_io.VipsSlideReader object at 0x7f0567d3e1e0> True (375, 300, 3)\n",
      "<Slide, name = B_213-ST_BFIW-SE_2224_processed>, width=300, height=375, channels=3, levels=1, RGB=True, dtype=uint8> <valis.slide_io.VipsSlideReader object at 0x7f0567d2e420> True (375, 300, 3)\n",
      "<Slide, name = B_213-ST_BFIW-SE_2225_processed>, width=300, height=375, channels=3, levels=1, RGB=True, dtype=uint8> <valis.slide_io.VipsSlideReader object at 0x7f0567d3e300> True (375, 300, 3)\n",
      "<Slide, name = B_213-ST_BFIW-SE_2226_processed>, width=300, height=375, channels=3, levels=1, RGB=True, dtype=uint8> <valis.slide_io.VipsSlideReader object at 0x7f0567d3e3f0> True (375, 300, 3)\n",
      "<Slide, name = B_213-ST_BFIW-SE_2227_processed>, width=300, height=375, channels=3, levels=1, RGB=True, dtype=uint8> <valis.slide_io.VipsSlideReader object at 0x7f0567d4e240> True (375, 300, 3)\n",
      "<Slide, name = B_213-ST_BFIW-SE_2228_processed>, width=300, height=375, channels=3, levels=1, RGB=True, dtype=uint8> <valis.slide_io.VipsSlideReader object at 0x7f0567d2e480> True (375, 300, 3)\n",
      "<Slide, name = B_213-ST_BFIW-SE_2229_processed>, width=300, height=375, channels=3, levels=1, RGB=True, dtype=uint8> <valis.slide_io.VipsSlideReader object at 0x7f0567d4e2a0> True (375, 300, 3)\n"
     ]
    },
    {
     "name": "stderr",
     "output_type": "stream",
     "text": [
      "Converting images:  84%|███████████████████████████████████████▋       | 2199/2608 [00:29<00:04, 89.91image/s]"
     ]
    },
    {
     "name": "stdout",
     "output_type": "stream",
     "text": [
      "<Slide, name = B_213-ST_BFIW-SE_2230_processed>, width=300, height=375, channels=3, levels=1, RGB=True, dtype=uint8> <valis.slide_io.VipsSlideReader object at 0x7f0567d2e540> True (375, 300, 3)\n",
      "<Slide, name = B_213-ST_BFIW-SE_2231_processed>, width=300, height=375, channels=3, levels=1, RGB=True, dtype=uint8> <valis.slide_io.VipsSlideReader object at 0x7f0567d4e630> True (375, 300, 3)\n",
      "<Slide, name = B_213-ST_BFIW-SE_2232_processed>, width=300, height=375, channels=3, levels=1, RGB=True, dtype=uint8> <valis.slide_io.VipsSlideReader object at 0x7f0567d4e600> True (375, 300, 3)\n",
      "<Slide, name = B_213-ST_BFIW-SE_2233_processed>, width=300, height=375, channels=3, levels=1, RGB=True, dtype=uint8> <valis.slide_io.VipsSlideReader object at 0x7f0567d3e7b0> True (375, 300, 3)\n",
      "<Slide, name = B_213-ST_BFIW-SE_2234_processed>, width=300, height=375, channels=3, levels=1, RGB=True, dtype=uint8> <valis.slide_io.VipsSlideReader object at 0x7f0567d2e5a0> True (375, 300, 3)\n",
      "<Slide, name = B_213-ST_BFIW-SE_2235_processed>, width=300, height=375, channels=3, levels=1, RGB=True, dtype=uint8> <valis.slide_io.VipsSlideReader object at 0x7f0567d2e780> True (375, 300, 3)\n",
      "<Slide, name = B_213-ST_BFIW-SE_2236_processed>, width=300, height=375, channels=3, levels=1, RGB=True, dtype=uint8> <valis.slide_io.VipsSlideReader object at 0x7f0567d2e7e0> True (375, 300, 3)\n",
      "<Slide, name = B_213-ST_BFIW-SE_2237_processed>, width=300, height=375, channels=3, levels=1, RGB=True, dtype=uint8> <valis.slide_io.VipsSlideReader object at 0x7f0567d4e6c0> True (375, 300, 3)\n",
      "<Slide, name = B_213-ST_BFIW-SE_2238_processed>, width=300, height=375, channels=3, levels=1, RGB=True, dtype=uint8> <valis.slide_io.VipsSlideReader object at 0x7f0567d2e870> True (375, 300, 3)\n",
      "<Slide, name = B_213-ST_BFIW-SE_2239_processed>, width=300, height=375, channels=3, levels=1, RGB=True, dtype=uint8> <valis.slide_io.VipsSlideReader object at 0x7f0567d3e6f0> True (375, 300, 3)\n"
     ]
    },
    {
     "name": "stderr",
     "output_type": "stream",
     "text": [
      "Converting images:  85%|███████████████████████████████████████▊       | 2209/2608 [00:29<00:04, 89.99image/s]"
     ]
    },
    {
     "name": "stdout",
     "output_type": "stream",
     "text": [
      "<Slide, name = B_213-ST_BFIW-SE_2240_processed>, width=300, height=375, channels=3, levels=1, RGB=True, dtype=uint8> <valis.slide_io.VipsSlideReader object at 0x7f0567d4e450> True (375, 300, 3)\n",
      "<Slide, name = B_213-ST_BFIW-SE_2241_processed>, width=300, height=375, channels=3, levels=1, RGB=True, dtype=uint8> <valis.slide_io.VipsSlideReader object at 0x7f0567d4e990> True (375, 300, 3)\n",
      "<Slide, name = B_213-ST_BFIW-SE_2242_processed>, width=300, height=375, channels=3, levels=1, RGB=True, dtype=uint8> <valis.slide_io.VipsSlideReader object at 0x7f0567d3eb40> True (375, 300, 3)\n",
      "<Slide, name = B_213-ST_BFIW-SE_2243_processed>, width=300, height=375, channels=3, levels=1, RGB=True, dtype=uint8> <valis.slide_io.VipsSlideReader object at 0x7f0567d3ea20> True (375, 300, 3)\n",
      "<Slide, name = B_213-ST_BFIW-SE_2244_processed>, width=300, height=375, channels=3, levels=1, RGB=True, dtype=uint8> <valis.slide_io.VipsSlideReader object at 0x7f0567d4e960> True (375, 300, 3)\n",
      "<Slide, name = B_213-ST_BFIW-SE_2245_processed>, width=300, height=375, channels=3, levels=1, RGB=True, dtype=uint8> <valis.slide_io.VipsSlideReader object at 0x7f0567d3eb70> True (375, 300, 3)\n",
      "<Slide, name = B_213-ST_BFIW-SE_2246_processed>, width=300, height=375, channels=3, levels=1, RGB=True, dtype=uint8> <valis.slide_io.VipsSlideReader object at 0x7f0567d4e510> True (375, 300, 3)\n",
      "<Slide, name = B_213-ST_BFIW-SE_2247_processed>, width=300, height=375, channels=3, levels=1, RGB=True, dtype=uint8> <valis.slide_io.VipsSlideReader object at 0x7f0567d3ec00> True (375, 300, 3)\n",
      "<Slide, name = B_213-ST_BFIW-SE_2248_processed>, width=300, height=375, channels=3, levels=1, RGB=True, dtype=uint8> <valis.slide_io.VipsSlideReader object at 0x7f0567d4ecf0> True (375, 300, 3)\n",
      "<Slide, name = B_213-ST_BFIW-SE_2249_processed>, width=300, height=375, channels=3, levels=1, RGB=True, dtype=uint8> <valis.slide_io.VipsSlideReader object at 0x7f0567d2ecc0> True (375, 300, 3)\n"
     ]
    },
    {
     "name": "stderr",
     "output_type": "stream",
     "text": [
      "Converting images:  85%|███████████████████████████████████████▉       | 2219/2608 [00:29<00:04, 88.89image/s]"
     ]
    },
    {
     "name": "stdout",
     "output_type": "stream",
     "text": [
      "<Slide, name = B_213-ST_BFIW-SE_2250_processed>, width=300, height=375, channels=3, levels=1, RGB=True, dtype=uint8> <valis.slide_io.VipsSlideReader object at 0x7f0567d4edb0> True (375, 300, 3)\n",
      "<Slide, name = B_213-ST_BFIW-SE_2251_processed>, width=300, height=375, channels=3, levels=1, RGB=True, dtype=uint8> <valis.slide_io.VipsSlideReader object at 0x7f0567d4ed80> True (375, 300, 3)\n",
      "<Slide, name = B_213-ST_BFIW-SE_2252_processed>, width=300, height=375, channels=3, levels=1, RGB=True, dtype=uint8> <valis.slide_io.VipsSlideReader object at 0x7f05680cef30> True (375, 300, 3)\n",
      "<Slide, name = B_213-ST_BFIW-SE_2253_processed>, width=300, height=375, channels=3, levels=1, RGB=True, dtype=uint8> <valis.slide_io.VipsSlideReader object at 0x7f0567d3ed20> True (375, 300, 3)\n",
      "<Slide, name = B_213-ST_BFIW-SE_2254_processed>, width=300, height=375, channels=3, levels=1, RGB=True, dtype=uint8> <valis.slide_io.VipsSlideReader object at 0x7f0567d4ed50> True (375, 300, 3)\n",
      "<Slide, name = B_213-ST_BFIW-SE_2255_processed>, width=300, height=375, channels=3, levels=1, RGB=True, dtype=uint8> <valis.slide_io.VipsSlideReader object at 0x7f0567d4ef60> True (375, 300, 3)\n",
      "<Slide, name = B_213-ST_BFIW-SE_2256_processed>, width=300, height=375, channels=3, levels=1, RGB=True, dtype=uint8> <valis.slide_io.VipsSlideReader object at 0x7f0567d3f0e0> True (375, 300, 3)\n",
      "<Slide, name = B_213-ST_BFIW-SE_2257_processed>, width=300, height=375, channels=3, levels=1, RGB=True, dtype=uint8> <valis.slide_io.VipsSlideReader object at 0x7f0567d2efc0> True (375, 300, 3)\n",
      "<Slide, name = B_213-ST_BFIW-SE_2258_processed>, width=300, height=375, channels=3, levels=1, RGB=True, dtype=uint8> <valis.slide_io.VipsSlideReader object at 0x7f0567d4eed0> True (375, 300, 3)\n"
     ]
    },
    {
     "name": "stderr",
     "output_type": "stream",
     "text": [
      "Converting images:  85%|████████████████████████████████████████▏      | 2228/2608 [00:29<00:04, 84.96image/s]"
     ]
    },
    {
     "name": "stdout",
     "output_type": "stream",
     "text": [
      "<Slide, name = B_213-ST_BFIW-SE_2259_processed>, width=300, height=375, channels=3, levels=1, RGB=True, dtype=uint8> <valis.slide_io.VipsSlideReader object at 0x7f0567d4f110> True (375, 300, 3)\n",
      "<Slide, name = B_213-ST_BFIW-SE_2260_processed>, width=300, height=375, channels=3, levels=1, RGB=True, dtype=uint8> <valis.slide_io.VipsSlideReader object at 0x7f0567d4ec90> True (375, 300, 3)\n",
      "<Slide, name = B_213-ST_BFIW-SE_2261_processed>, width=300, height=375, channels=3, levels=1, RGB=True, dtype=uint8> <valis.slide_io.VipsSlideReader object at 0x7f0567d2f170> True (375, 300, 3)\n",
      "<Slide, name = B_213-ST_BFIW-SE_2262_processed>, width=300, height=375, channels=3, levels=1, RGB=True, dtype=uint8> <valis.slide_io.VipsSlideReader object at 0x7f0567d4ee40> True (375, 300, 3)\n",
      "<Slide, name = B_213-ST_BFIW-SE_2263_processed>, width=300, height=375, channels=3, levels=1, RGB=True, dtype=uint8> <valis.slide_io.VipsSlideReader object at 0x7f0567d3f200> True (375, 300, 3)\n",
      "<Slide, name = B_213-ST_BFIW-SE_2264_processed>, width=300, height=375, channels=3, levels=1, RGB=True, dtype=uint8> <valis.slide_io.VipsSlideReader object at 0x7f0567d3f440> True (375, 300, 3)\n",
      "<Slide, name = B_213-ST_BFIW-SE_2265_processed>, width=300, height=375, channels=3, levels=1, RGB=True, dtype=uint8> <valis.slide_io.VipsSlideReader object at 0x7f0567d3eff0> True (375, 300, 3)\n",
      "<Slide, name = B_213-ST_BFIW-SE_2266_processed>, width=300, height=375, channels=3, levels=1, RGB=True, dtype=uint8> <valis.slide_io.VipsSlideReader object at 0x7f0567d4f2f0> True (375, 300, 3)\n",
      "<Slide, name = B_213-ST_BFIW-SE_2267_processed>, width=300, height=375, channels=3, levels=1, RGB=True, dtype=uint8> <valis.slide_io.VipsSlideReader object at 0x7f0567d4f410> True (375, 300, 3)\n"
     ]
    },
    {
     "name": "stderr",
     "output_type": "stream",
     "text": [
      "Converting images:  86%|████████████████████████████████████████▎      | 2237/2608 [00:29<00:04, 79.36image/s]"
     ]
    },
    {
     "name": "stdout",
     "output_type": "stream",
     "text": [
      "<Slide, name = B_213-ST_BFIW-SE_2268_processed>, width=300, height=375, channels=3, levels=1, RGB=True, dtype=uint8> <valis.slide_io.VipsSlideReader object at 0x7f0567d3f380> True (375, 300, 3)\n",
      "<Slide, name = B_213-ST_BFIW-SE_2269_processed>, width=300, height=375, channels=3, levels=1, RGB=True, dtype=uint8> <valis.slide_io.VipsSlideReader object at 0x7f0567d4f260> True (375, 300, 3)\n",
      "<Slide, name = B_213-ST_BFIW-SE_2270_processed>, width=300, height=375, channels=3, levels=1, RGB=True, dtype=uint8> <valis.slide_io.VipsSlideReader object at 0x7f0567d2f530> True (375, 300, 3)\n",
      "<Slide, name = B_213-ST_BFIW-SE_2271_processed>, width=300, height=375, channels=3, levels=1, RGB=True, dtype=uint8> <valis.slide_io.VipsSlideReader object at 0x7f0567d2f500> True (375, 300, 3)\n",
      "<Slide, name = B_213-ST_BFIW-SE_2272_processed>, width=300, height=375, channels=3, levels=1, RGB=True, dtype=uint8> <valis.slide_io.VipsSlideReader object at 0x7f0567d1f680> True (375, 300, 3)\n",
      "<Slide, name = B_213-ST_BFIW-SE_2273_processed>, width=300, height=375, channels=3, levels=1, RGB=True, dtype=uint8> <valis.slide_io.VipsSlideReader object at 0x7f05680b76b0> True (375, 300, 3)\n",
      "<Slide, name = B_213-ST_BFIW-SE_2274_processed>, width=300, height=375, channels=3, levels=1, RGB=True, dtype=uint8> <valis.slide_io.VipsSlideReader object at 0x7f0567d4f5c0> True (375, 300, 3)\n",
      "<Slide, name = B_213-ST_BFIW-SE_2275_processed>, width=300, height=375, channels=3, levels=1, RGB=True, dtype=uint8> <valis.slide_io.VipsSlideReader object at 0x7f0567d3f770> True (375, 300, 3)\n",
      "<Slide, name = B_213-ST_BFIW-SE_2276_processed>, width=300, height=375, channels=3, levels=1, RGB=True, dtype=uint8> <valis.slide_io.VipsSlideReader object at 0x7f0567d3f1a0> True (375, 300, 3)\n"
     ]
    },
    {
     "name": "stderr",
     "output_type": "stream",
     "text": [
      "Converting images:  86%|████████████████████████████████████████▍      | 2246/2608 [00:30<00:04, 73.43image/s]"
     ]
    },
    {
     "name": "stdout",
     "output_type": "stream",
     "text": [
      "<Slide, name = B_213-ST_BFIW-SE_2277_processed>, width=300, height=375, channels=3, levels=1, RGB=True, dtype=uint8> <valis.slide_io.VipsSlideReader object at 0x7f0567d4f4a0> True (375, 300, 3)\n",
      "<Slide, name = B_213-ST_BFIW-SE_2278_processed>, width=300, height=375, channels=3, levels=1, RGB=True, dtype=uint8> <valis.slide_io.VipsSlideReader object at 0x7f0567d4f890> True (375, 300, 3)\n",
      "<Slide, name = B_213-ST_BFIW-SE_2279_processed>, width=300, height=375, channels=3, levels=1, RGB=True, dtype=uint8> <valis.slide_io.VipsSlideReader object at 0x7f0567d3fa40> True (375, 300, 3)\n",
      "<Slide, name = B_213-ST_BFIW-SE_2280_processed>, width=300, height=375, channels=3, levels=1, RGB=True, dtype=uint8> <valis.slide_io.VipsSlideReader object at 0x7f0567d4f7d0> True (375, 300, 3)\n",
      "<Slide, name = B_213-ST_BFIW-SE_2281_processed>, width=300, height=375, channels=3, levels=1, RGB=True, dtype=uint8> <valis.slide_io.VipsSlideReader object at 0x7f0567d4fa10> True (375, 300, 3)\n",
      "<Slide, name = B_213-ST_BFIW-SE_2282_processed>, width=300, height=375, channels=3, levels=1, RGB=True, dtype=uint8> <valis.slide_io.VipsSlideReader object at 0x7f0567d4f950> True (375, 300, 3)\n",
      "<Slide, name = B_213-ST_BFIW-SE_2283_processed>, width=300, height=375, channels=3, levels=1, RGB=True, dtype=uint8> <valis.slide_io.VipsSlideReader object at 0x7f0567d4fb90> True (375, 300, 3)\n",
      "<Slide, name = B_213-ST_BFIW-SE_2284_processed>, width=300, height=375, channels=3, levels=1, RGB=True, dtype=uint8> <valis.slide_io.VipsSlideReader object at 0x7f0567d3f8c0> True (375, 300, 3)\n"
     ]
    },
    {
     "name": "stderr",
     "output_type": "stream",
     "text": [
      "Converting images:  86%|████████████████████████████████████████▌      | 2254/2608 [00:30<00:04, 73.50image/s]"
     ]
    },
    {
     "name": "stdout",
     "output_type": "stream",
     "text": [
      "<Slide, name = B_213-ST_BFIW-SE_2285_processed>, width=300, height=375, channels=3, levels=1, RGB=True, dtype=uint8> <valis.slide_io.VipsSlideReader object at 0x7f0567d3faa0> True (375, 300, 3)\n",
      "<Slide, name = B_213-ST_BFIW-SE_2286_processed>, width=300, height=375, channels=3, levels=1, RGB=True, dtype=uint8> <valis.slide_io.VipsSlideReader object at 0x7f0567d4fb00> True (375, 300, 3)\n",
      "<Slide, name = B_213-ST_BFIW-SE_2287_processed>, width=300, height=375, channels=3, levels=1, RGB=True, dtype=uint8> <valis.slide_io.VipsSlideReader object at 0x7f0567d4fc50> True (375, 300, 3)\n",
      "<Slide, name = B_213-ST_BFIW-SE_2288_processed>, width=300, height=375, channels=3, levels=1, RGB=True, dtype=uint8> <valis.slide_io.VipsSlideReader object at 0x7f0567d2fe00> True (375, 300, 3)\n",
      "<Slide, name = B_213-ST_BFIW-SE_2289_processed>, width=300, height=375, channels=3, levels=1, RGB=True, dtype=uint8> <valis.slide_io.VipsSlideReader object at 0x7f05680b7ce0> True (375, 300, 3)\n",
      "<Slide, name = B_213-ST_BFIW-SE_2290_processed>, width=300, height=375, channels=3, levels=1, RGB=True, dtype=uint8> <valis.slide_io.VipsSlideReader object at 0x7f0567d4ff50> True (375, 300, 3)\n",
      "<Slide, name = B_213-ST_BFIW-SE_2291_processed>, width=300, height=375, channels=3, levels=1, RGB=True, dtype=uint8> <valis.slide_io.VipsSlideReader object at 0x7f0567d2f980> True (375, 300, 3)\n",
      "<Slide, name = B_213-ST_BFIW-SE_2292_processed>, width=300, height=375, channels=3, levels=1, RGB=True, dtype=uint8> <valis.slide_io.VipsSlideReader object at 0x7f0567d4f650> True (375, 300, 3)\n"
     ]
    },
    {
     "name": "stderr",
     "output_type": "stream",
     "text": [
      "Converting images:  87%|████████████████████████████████████████▊      | 2262/2608 [00:30<00:04, 73.29image/s]"
     ]
    },
    {
     "name": "stdout",
     "output_type": "stream",
     "text": [
      "<Slide, name = B_213-ST_BFIW-SE_2293_processed>, width=300, height=375, channels=3, levels=1, RGB=True, dtype=uint8> <valis.slide_io.VipsSlideReader object at 0x7f0567d3fd40> True (375, 300, 3)\n",
      "<Slide, name = B_213-ST_BFIW-SE_2294_processed>, width=300, height=375, channels=3, levels=1, RGB=True, dtype=uint8> <valis.slide_io.VipsSlideReader object at 0x7f0567d4ff80> True (375, 300, 3)\n",
      "<Slide, name = B_213-ST_BFIW-SE_2295_processed>, width=300, height=375, channels=3, levels=1, RGB=True, dtype=uint8> <valis.slide_io.VipsSlideReader object at 0x7f0567d3fe30> True (375, 300, 3)\n",
      "<Slide, name = B_213-ST_BFIW-SE_2296_processed>, width=300, height=375, channels=3, levels=1, RGB=True, dtype=uint8> <valis.slide_io.VipsSlideReader object at 0x7f0567d4ffb0> True (375, 300, 3)\n",
      "<Slide, name = B_213-ST_BFIW-SE_2297_processed>, width=300, height=375, channels=3, levels=1, RGB=True, dtype=uint8> <valis.slide_io.VipsSlideReader object at 0x7f0567d4d6d0> True (375, 300, 3)\n",
      "<Slide, name = B_213-ST_BFIW-SE_2298_processed>, width=300, height=375, channels=3, levels=1, RGB=True, dtype=uint8> <valis.slide_io.VipsSlideReader object at 0x7f0567d4fdd0> True (375, 300, 3)\n",
      "<Slide, name = B_213-ST_BFIW-SE_2299_processed>, width=300, height=375, channels=3, levels=1, RGB=True, dtype=uint8> <valis.slide_io.VipsSlideReader object at 0x7f0567d4ffe0> True (375, 300, 3)\n",
      "<Slide, name = B_213-ST_BFIW-SE_2300_processed>, width=300, height=375, channels=3, levels=1, RGB=True, dtype=uint8> <valis.slide_io.VipsSlideReader object at 0x7f0567d4fda0> True (375, 300, 3)\n"
     ]
    },
    {
     "name": "stderr",
     "output_type": "stream",
     "text": [
      "Converting images:  87%|████████████████████████████████████████▉      | 2270/2608 [00:30<00:04, 71.70image/s]"
     ]
    },
    {
     "name": "stdout",
     "output_type": "stream",
     "text": [
      "<Slide, name = B_213-ST_BFIW-SE_2301_processed>, width=300, height=375, channels=3, levels=1, RGB=True, dtype=uint8> <valis.slide_io.VipsSlideReader object at 0x7f0567d402f0> True (375, 300, 3)\n",
      "<Slide, name = B_213-ST_BFIW-SE_2302_processed>, width=300, height=375, channels=3, levels=1, RGB=True, dtype=uint8> <valis.slide_io.VipsSlideReader object at 0x7f0567d38200> True (375, 300, 3)\n",
      "<Slide, name = B_213-ST_BFIW-SE_2303_processed>, width=300, height=375, channels=3, levels=1, RGB=True, dtype=uint8> <valis.slide_io.VipsSlideReader object at 0x7f0567d382c0> True (375, 300, 3)\n",
      "<Slide, name = B_213-ST_BFIW-SE_2304_processed>, width=300, height=375, channels=3, levels=1, RGB=True, dtype=uint8> <valis.slide_io.VipsSlideReader object at 0x7f0567d68290> True (375, 300, 3)\n",
      "<Slide, name = B_213-ST_BFIW-SE_2305_processed>, width=300, height=375, channels=3, levels=1, RGB=True, dtype=uint8> <valis.slide_io.VipsSlideReader object at 0x7f0567d68380> True (375, 300, 3)\n",
      "<Slide, name = B_213-ST_BFIW-SE_2306_processed>, width=300, height=375, channels=3, levels=1, RGB=True, dtype=uint8> <valis.slide_io.VipsSlideReader object at 0x7f0567d28560> True (375, 300, 3)\n",
      "<Slide, name = B_213-ST_BFIW-SE_2307_processed>, width=300, height=375, channels=3, levels=1, RGB=True, dtype=uint8> <valis.slide_io.VipsSlideReader object at 0x7f0567d28140> True (375, 300, 3)\n",
      "<Slide, name = B_213-ST_BFIW-SE_2308_processed>, width=300, height=375, channels=3, levels=1, RGB=True, dtype=uint8> <valis.slide_io.VipsSlideReader object at 0x7f0567d38530> True (375, 300, 3)\n"
     ]
    },
    {
     "name": "stderr",
     "output_type": "stream",
     "text": [
      "Converting images:  87%|█████████████████████████████████████████      | 2278/2608 [00:30<00:04, 70.14image/s]"
     ]
    },
    {
     "name": "stdout",
     "output_type": "stream",
     "text": [
      "<Slide, name = B_213-ST_BFIW-SE_2309_processed>, width=300, height=375, channels=3, levels=1, RGB=True, dtype=uint8> <valis.slide_io.VipsSlideReader object at 0x7f0567d681d0> True (375, 300, 3)\n",
      "<Slide, name = B_213-ST_BFIW-SE_2310_processed>, width=300, height=375, channels=3, levels=1, RGB=True, dtype=uint8> <valis.slide_io.VipsSlideReader object at 0x7f0567d405c0> True (375, 300, 3)\n",
      "<Slide, name = B_213-ST_BFIW-SE_2311_processed>, width=300, height=375, channels=3, levels=1, RGB=True, dtype=uint8> <valis.slide_io.VipsSlideReader object at 0x7f0567d685f0> True (375, 300, 3)\n",
      "<Slide, name = B_213-ST_BFIW-SE_2312_processed>, width=300, height=375, channels=3, levels=1, RGB=True, dtype=uint8> <valis.slide_io.VipsSlideReader object at 0x7f0567d18680> True (375, 300, 3)\n",
      "<Slide, name = B_213-ST_BFIW-SE_2313_processed>, width=300, height=375, channels=3, levels=1, RGB=True, dtype=uint8> <valis.slide_io.VipsSlideReader object at 0x7f0567d20440> True (375, 300, 3)\n",
      "<Slide, name = B_213-ST_BFIW-SE_2314_processed>, width=300, height=375, channels=3, levels=1, RGB=True, dtype=uint8> <valis.slide_io.VipsSlideReader object at 0x7f0567d28740> True (375, 300, 3)\n",
      "<Slide, name = B_213-ST_BFIW-SE_2315_processed>, width=300, height=375, channels=3, levels=1, RGB=True, dtype=uint8> <valis.slide_io.VipsSlideReader object at 0x7f0567d407a0> True (375, 300, 3)\n",
      "<Slide, name = B_213-ST_BFIW-SE_2316_processed>, width=300, height=375, channels=3, levels=1, RGB=True, dtype=uint8> <valis.slide_io.VipsSlideReader object at 0x7f0567d68650> True (375, 300, 3)\n"
     ]
    },
    {
     "name": "stderr",
     "output_type": "stream",
     "text": [
      "Converting images:  88%|█████████████████████████████████████████▏     | 2286/2608 [00:30<00:04, 67.85image/s]"
     ]
    },
    {
     "name": "stdout",
     "output_type": "stream",
     "text": [
      "<Slide, name = B_213-ST_BFIW-SE_2317_processed>, width=300, height=375, channels=3, levels=1, RGB=True, dtype=uint8> <valis.slide_io.VipsSlideReader object at 0x7f0567d68860> True (375, 300, 3)\n",
      "<Slide, name = B_213-ST_BFIW-SE_2318_processed>, width=300, height=375, channels=3, levels=1, RGB=True, dtype=uint8> <valis.slide_io.VipsSlideReader object at 0x7f0567d68590> True (375, 300, 3)\n",
      "<Slide, name = B_213-ST_BFIW-SE_2319_processed>, width=300, height=375, channels=3, levels=1, RGB=True, dtype=uint8> <valis.slide_io.VipsSlideReader object at 0x7f0567d40830> True (375, 300, 3)\n",
      "<Slide, name = B_213-ST_BFIW-SE_2320_processed>, width=300, height=375, channels=3, levels=1, RGB=True, dtype=uint8> <valis.slide_io.VipsSlideReader object at 0x7f0567d181a0> True (375, 300, 3)\n",
      "<Slide, name = B_213-ST_BFIW-SE_2321_processed>, width=300, height=375, channels=3, levels=1, RGB=True, dtype=uint8> <valis.slide_io.VipsSlideReader object at 0x7f0567d10a40> True (375, 300, 3)\n",
      "<Slide, name = B_213-ST_BFIW-SE_2322_processed>, width=300, height=375, channels=3, levels=1, RGB=True, dtype=uint8> <valis.slide_io.VipsSlideReader object at 0x7f0567d38a70> True (375, 300, 3)\n",
      "<Slide, name = B_213-ST_BFIW-SE_2323_processed>, width=300, height=375, channels=3, levels=1, RGB=True, dtype=uint8> <valis.slide_io.VipsSlideReader object at 0x7f0567d68980> True (375, 300, 3)\n"
     ]
    },
    {
     "name": "stderr",
     "output_type": "stream",
     "text": [
      "Converting images:  88%|█████████████████████████████████████████▎     | 2293/2608 [00:30<00:04, 65.04image/s]"
     ]
    },
    {
     "name": "stdout",
     "output_type": "stream",
     "text": [
      "<Slide, name = B_213-ST_BFIW-SE_2324_processed>, width=300, height=375, channels=3, levels=1, RGB=True, dtype=uint8> <valis.slide_io.VipsSlideReader object at 0x7f0567d40b30> True (375, 300, 3)\n",
      "<Slide, name = B_213-ST_BFIW-SE_2325_processed>, width=300, height=375, channels=3, levels=1, RGB=True, dtype=uint8> <valis.slide_io.VipsSlideReader object at 0x7f0567d408f0> True (375, 300, 3)\n",
      "<Slide, name = B_213-ST_BFIW-SE_2326_processed>, width=300, height=375, channels=3, levels=1, RGB=True, dtype=uint8> <valis.slide_io.VipsSlideReader object at 0x7f0567d40bf0> True (375, 300, 3)\n",
      "<Slide, name = B_213-ST_BFIW-SE_2327_processed>, width=300, height=375, channels=3, levels=1, RGB=True, dtype=uint8> <valis.slide_io.VipsSlideReader object at 0x7f0567d68b00> True (375, 300, 3)\n",
      "<Slide, name = B_213-ST_BFIW-SE_2328_processed>, width=300, height=375, channels=3, levels=1, RGB=True, dtype=uint8> <valis.slide_io.VipsSlideReader object at 0x7f0567d38cb0> True (375, 300, 3)\n",
      "<Slide, name = B_213-ST_BFIW-SE_2329_processed>, width=300, height=375, channels=3, levels=1, RGB=True, dtype=uint8> <valis.slide_io.VipsSlideReader object at 0x7f0567d68ce0> True (375, 300, 3)\n",
      "<Slide, name = B_213-ST_BFIW-SE_2330_processed>, width=300, height=375, channels=3, levels=1, RGB=True, dtype=uint8> <valis.slide_io.VipsSlideReader object at 0x7f0567d38d70> True (375, 300, 3)\n"
     ]
    },
    {
     "name": "stderr",
     "output_type": "stream",
     "text": [
      "Converting images:  88%|█████████████████████████████████████████▍     | 2300/2608 [00:30<00:05, 58.33image/s]"
     ]
    },
    {
     "name": "stdout",
     "output_type": "stream",
     "text": [
      "<Slide, name = B_213-ST_BFIW-SE_2331_processed>, width=300, height=375, channels=3, levels=1, RGB=True, dtype=uint8> <valis.slide_io.VipsSlideReader object at 0x7f0567d68e90> True (375, 300, 3)\n",
      "<Slide, name = B_213-ST_BFIW-SE_2332_processed>, width=300, height=375, channels=3, levels=1, RGB=True, dtype=uint8> <valis.slide_io.VipsSlideReader object at 0x7f0567d10e60> True (375, 300, 3)\n",
      "<Slide, name = B_213-ST_BFIW-SE_2333_processed>, width=300, height=375, channels=3, levels=1, RGB=True, dtype=uint8> <valis.slide_io.VipsSlideReader object at 0x7f0567d68f50> True (375, 300, 3)\n",
      "<Slide, name = B_213-ST_BFIW-SE_2334_processed>, width=300, height=375, channels=3, levels=1, RGB=True, dtype=uint8> <valis.slide_io.VipsSlideReader object at 0x7f0567d20f20> True (375, 300, 3)\n",
      "<Slide, name = B_213-ST_BFIW-SE_2335_processed>, width=300, height=375, channels=3, levels=1, RGB=True, dtype=uint8> <valis.slide_io.VipsSlideReader object at 0x7f0567d69010> True (375, 300, 3)\n",
      "<Slide, name = B_213-ST_BFIW-SE_2336_processed>, width=300, height=375, channels=3, levels=1, RGB=True, dtype=uint8> <valis.slide_io.VipsSlideReader object at 0x7f05680e8fe0> True (375, 300, 3)\n"
     ]
    },
    {
     "name": "stderr",
     "output_type": "stream",
     "text": [
      "Converting images:  88%|█████████████████████████████████████████▌     | 2306/2608 [00:31<00:05, 53.50image/s]"
     ]
    },
    {
     "name": "stdout",
     "output_type": "stream",
     "text": [
      "<Slide, name = B_213-ST_BFIW-SE_2337_processed>, width=300, height=375, channels=3, levels=1, RGB=True, dtype=uint8> <valis.slide_io.VipsSlideReader object at 0x7f0567d10ec0> True (375, 300, 3)\n",
      "<Slide, name = B_213-ST_BFIW-SE_2338_processed>, width=300, height=375, channels=3, levels=1, RGB=True, dtype=uint8> <valis.slide_io.VipsSlideReader object at 0x7f0567d68f80> True (375, 300, 3)\n",
      "<Slide, name = B_213-ST_BFIW-SE_2339_processed>, width=300, height=375, channels=3, levels=1, RGB=True, dtype=uint8> <valis.slide_io.VipsSlideReader object at 0x7f0567d210a0> True (375, 300, 3)\n",
      "<Slide, name = B_213-ST_BFIW-SE_2340_processed>, width=300, height=375, channels=3, levels=1, RGB=True, dtype=uint8> <valis.slide_io.VipsSlideReader object at 0x7f0567d21100> True (375, 300, 3)\n",
      "<Slide, name = B_213-ST_BFIW-SE_2341_processed>, width=300, height=375, channels=3, levels=1, RGB=True, dtype=uint8> <valis.slide_io.VipsSlideReader object at 0x7f0567d690d0> True (375, 300, 3)\n",
      "<Slide, name = B_213-ST_BFIW-SE_2342_processed>, width=300, height=375, channels=3, levels=1, RGB=True, dtype=uint8> <valis.slide_io.VipsSlideReader object at 0x7f0567d191c0> True (375, 300, 3)\n"
     ]
    },
    {
     "name": "stderr",
     "output_type": "stream",
     "text": [
      "Converting images:  89%|█████████████████████████████████████████▋     | 2312/2608 [00:31<00:05, 50.87image/s]"
     ]
    },
    {
     "name": "stdout",
     "output_type": "stream",
     "text": [
      "<Slide, name = B_213-ST_BFIW-SE_2343_processed>, width=300, height=375, channels=3, levels=1, RGB=True, dtype=uint8> <valis.slide_io.VipsSlideReader object at 0x7f0567d69040> True (375, 300, 3)\n",
      "<Slide, name = B_213-ST_BFIW-SE_2344_processed>, width=300, height=375, channels=3, levels=1, RGB=True, dtype=uint8> <valis.slide_io.VipsSlideReader object at 0x7f0567d192b0> True (375, 300, 3)\n",
      "<Slide, name = B_213-ST_BFIW-SE_2345_processed>, width=300, height=375, channels=3, levels=1, RGB=True, dtype=uint8> <valis.slide_io.VipsSlideReader object at 0x7f0567d693a0> True (375, 300, 3)\n",
      "<Slide, name = B_213-ST_BFIW-SE_2346_processed>, width=300, height=375, channels=3, levels=1, RGB=True, dtype=uint8> <valis.slide_io.VipsSlideReader object at 0x7f0567d19370> True (375, 300, 3)\n",
      "<Slide, name = B_213-ST_BFIW-SE_2347_processed>, width=300, height=375, channels=3, levels=1, RGB=True, dtype=uint8> <valis.slide_io.VipsSlideReader object at 0x7f05680e9280> True (375, 300, 3)\n",
      "<Slide, name = B_213-ST_BFIW-SE_2348_processed>, width=300, height=375, channels=3, levels=1, RGB=True, dtype=uint8> <valis.slide_io.VipsSlideReader object at 0x7f05680e9430> True (375, 300, 3)\n"
     ]
    },
    {
     "name": "stderr",
     "output_type": "stream",
     "text": [
      "Converting images:  89%|█████████████████████████████████████████▊     | 2318/2608 [00:31<00:05, 49.34image/s]"
     ]
    },
    {
     "name": "stdout",
     "output_type": "stream",
     "text": [
      "<Slide, name = B_213-ST_BFIW-SE_2349_processed>, width=300, height=375, channels=3, levels=1, RGB=True, dtype=uint8> <valis.slide_io.VipsSlideReader object at 0x7f0567d69310> True (375, 300, 3)\n",
      "<Slide, name = B_213-ST_BFIW-SE_2350_processed>, width=300, height=375, channels=3, levels=1, RGB=True, dtype=uint8> <valis.slide_io.VipsSlideReader object at 0x7f05680e94f0> True (375, 300, 3)\n",
      "<Slide, name = B_213-ST_BFIW-SE_2351_processed>, width=300, height=375, channels=3, levels=1, RGB=True, dtype=uint8> <valis.slide_io.VipsSlideReader object at 0x7f0567d69520> True (375, 300, 3)\n",
      "<Slide, name = B_213-ST_BFIW-SE_2352_processed>, width=300, height=375, channels=3, levels=1, RGB=True, dtype=uint8> <valis.slide_io.VipsSlideReader object at 0x7f0567d68ad0> True (375, 300, 3)\n",
      "<Slide, name = B_213-ST_BFIW-SE_2353_processed>, width=300, height=375, channels=3, levels=1, RGB=True, dtype=uint8> <valis.slide_io.VipsSlideReader object at 0x7f0567d693d0> True (375, 300, 3)\n",
      "<Slide, name = B_213-ST_BFIW-SE_2354_processed>, width=300, height=375, channels=3, levels=1, RGB=True, dtype=uint8> <valis.slide_io.VipsSlideReader object at 0x7f05680e97c0> True (375, 300, 3)\n"
     ]
    },
    {
     "name": "stderr",
     "output_type": "stream",
     "text": [
      "Converting images:  89%|█████████████████████████████████████████▉     | 2324/2608 [00:31<00:05, 48.11image/s]"
     ]
    },
    {
     "name": "stdout",
     "output_type": "stream",
     "text": [
      "<Slide, name = B_213-ST_BFIW-SE_2355_processed>, width=300, height=375, channels=3, levels=1, RGB=True, dtype=uint8> <valis.slide_io.VipsSlideReader object at 0x7f0567d69610> True (375, 300, 3)\n",
      "<Slide, name = B_213-ST_BFIW-SE_2356_processed>, width=300, height=375, channels=3, levels=1, RGB=True, dtype=uint8> <valis.slide_io.VipsSlideReader object at 0x7f0567d69790> True (375, 300, 3)\n",
      "<Slide, name = B_213-ST_BFIW-SE_2357_processed>, width=300, height=375, channels=3, levels=1, RGB=True, dtype=uint8> <valis.slide_io.VipsSlideReader object at 0x7f0567d696d0> True (375, 300, 3)\n",
      "<Slide, name = B_213-ST_BFIW-SE_2358_processed>, width=300, height=375, channels=3, levels=1, RGB=True, dtype=uint8> <valis.slide_io.VipsSlideReader object at 0x7f0567d19340> True (375, 300, 3)\n",
      "<Slide, name = B_213-ST_BFIW-SE_2359_processed>, width=300, height=375, channels=3, levels=1, RGB=True, dtype=uint8> <valis.slide_io.VipsSlideReader object at 0x7f0567d21640> True (375, 300, 3)\n"
     ]
    },
    {
     "name": "stderr",
     "output_type": "stream",
     "text": [
      "Converting images:  89%|█████████████████████████████████████████▉     | 2329/2608 [00:31<00:06, 44.85image/s]"
     ]
    },
    {
     "name": "stdout",
     "output_type": "stream",
     "text": [
      "<Slide, name = B_213-ST_BFIW-SE_2360_processed>, width=300, height=375, channels=3, levels=1, RGB=True, dtype=uint8> <valis.slide_io.VipsSlideReader object at 0x7f0567d69820> True (375, 300, 3)\n",
      "<Slide, name = B_213-ST_BFIW-SE_2361_processed>, width=300, height=375, channels=3, levels=1, RGB=True, dtype=uint8> <valis.slide_io.VipsSlideReader object at 0x7f0567d69970> True (375, 300, 3)\n",
      "<Slide, name = B_213-ST_BFIW-SE_2362_processed>, width=300, height=375, channels=3, levels=1, RGB=True, dtype=uint8> <valis.slide_io.VipsSlideReader object at 0x7f0567d69910> True (375, 300, 3)\n",
      "<Slide, name = B_213-ST_BFIW-SE_2363_processed>, width=300, height=375, channels=3, levels=1, RGB=True, dtype=uint8> <valis.slide_io.VipsSlideReader object at 0x7f0567d219a0> True (375, 300, 3)\n",
      "<Slide, name = B_213-ST_BFIW-SE_2364_processed>, width=300, height=375, channels=3, levels=1, RGB=True, dtype=uint8> <valis.slide_io.VipsSlideReader object at 0x7f0567d69490> True (375, 300, 3)\n",
      "<Slide, name = B_213-ST_BFIW-SE_2365_processed>, width=300, height=375, channels=3, levels=1, RGB=True, dtype=uint8> <valis.slide_io.VipsSlideReader object at 0x7f0567d21ac0> True (375, 300, 3)\n"
     ]
    },
    {
     "name": "stderr",
     "output_type": "stream",
     "text": [
      "Converting images:  90%|██████████████████████████████████████████     | 2335/2608 [00:31<00:06, 45.48image/s]"
     ]
    },
    {
     "name": "stdout",
     "output_type": "stream",
     "text": [
      "<Slide, name = B_213-ST_BFIW-SE_2366_processed>, width=300, height=375, channels=3, levels=1, RGB=True, dtype=uint8> <valis.slide_io.VipsSlideReader object at 0x7f0567d21af0> True (375, 300, 3)\n",
      "<Slide, name = B_213-ST_BFIW-SE_2367_processed>, width=300, height=375, channels=3, levels=1, RGB=True, dtype=uint8> <valis.slide_io.VipsSlideReader object at 0x7f0567d41c40> True (375, 300, 3)\n",
      "<Slide, name = B_213-ST_BFIW-SE_2368_processed>, width=300, height=375, channels=3, levels=1, RGB=True, dtype=uint8> <valis.slide_io.VipsSlideReader object at 0x7f05680e9c70> True (375, 300, 3)\n",
      "<Slide, name = B_213-ST_BFIW-SE_2369_processed>, width=300, height=375, channels=3, levels=1, RGB=True, dtype=uint8> <valis.slide_io.VipsSlideReader object at 0x7f0567d69b80> True (375, 300, 3)\n",
      "<Slide, name = B_213-ST_BFIW-SE_2370_processed>, width=300, height=375, channels=3, levels=1, RGB=True, dtype=uint8> <valis.slide_io.VipsSlideReader object at 0x7f0567d19d30> True (375, 300, 3)\n"
     ]
    },
    {
     "name": "stderr",
     "output_type": "stream",
     "text": [
      "Converting images:  90%|██████████████████████████████████████████▏    | 2340/2608 [00:31<00:06, 41.41image/s]"
     ]
    },
    {
     "name": "stdout",
     "output_type": "stream",
     "text": [
      "<Slide, name = B_213-ST_BFIW-SE_2371_processed>, width=300, height=375, channels=3, levels=1, RGB=True, dtype=uint8> <valis.slide_io.VipsSlideReader object at 0x7f0567d198e0> True (375, 300, 3)\n",
      "<Slide, name = B_213-ST_BFIW-SE_2372_processed>, width=300, height=375, channels=3, levels=1, RGB=True, dtype=uint8> <valis.slide_io.VipsSlideReader object at 0x7f0567d21df0> True (375, 300, 3)\n",
      "<Slide, name = B_213-ST_BFIW-SE_2373_processed>, width=300, height=375, channels=3, levels=1, RGB=True, dtype=uint8> <valis.slide_io.VipsSlideReader object at 0x7f0567d69d00> True (375, 300, 3)\n",
      "<Slide, name = B_213-ST_BFIW-SE_2374_processed>, width=300, height=375, channels=3, levels=1, RGB=True, dtype=uint8> <valis.slide_io.VipsSlideReader object at 0x7f0567d19eb0> True (375, 300, 3)\n",
      "<Slide, name = B_213-ST_BFIW-SE_2375_processed>, width=300, height=375, channels=3, levels=1, RGB=True, dtype=uint8> <valis.slide_io.VipsSlideReader object at 0x7f0567d69ee0> True (375, 300, 3)\n",
      "<Slide, name = B_213-ST_BFIW-SE_2376_processed>, width=300, height=375, channels=3, levels=1, RGB=True, dtype=uint8> <valis.slide_io.VipsSlideReader object at 0x7f0567d69cd0> True (375, 300, 3)\n"
     ]
    },
    {
     "name": "stderr",
     "output_type": "stream",
     "text": [
      "Converting images:  90%|██████████████████████████████████████████▎    | 2346/2608 [00:32<00:05, 43.70image/s]"
     ]
    },
    {
     "name": "stdout",
     "output_type": "stream",
     "text": [
      "<Slide, name = B_213-ST_BFIW-SE_2377_processed>, width=300, height=375, channels=3, levels=1, RGB=True, dtype=uint8> <valis.slide_io.VipsSlideReader object at 0x7f0567d69d90> True (375, 300, 3)\n",
      "<Slide, name = B_213-ST_BFIW-SE_2378_processed>, width=300, height=375, channels=3, levels=1, RGB=True, dtype=uint8> <valis.slide_io.VipsSlideReader object at 0x7f0567d1a180> True (375, 300, 3)\n",
      "<Slide, name = B_213-ST_BFIW-SE_2379_processed>, width=300, height=375, channels=3, levels=1, RGB=True, dtype=uint8> <valis.slide_io.VipsSlideReader object at 0x7f0567d1a120> True (375, 300, 3)\n",
      "<Slide, name = B_213-ST_BFIW-SE_2380_processed>, width=300, height=375, channels=3, levels=1, RGB=True, dtype=uint8> <valis.slide_io.VipsSlideReader object at 0x7f0567d69fa0> True (375, 300, 3)\n",
      "<Slide, name = B_213-ST_BFIW-SE_2381_processed>, width=300, height=375, channels=3, levels=1, RGB=True, dtype=uint8> <valis.slide_io.VipsSlideReader object at 0x7f0567d221b0> True (375, 300, 3)\n"
     ]
    },
    {
     "name": "stderr",
     "output_type": "stream",
     "text": [
      "Converting images:  90%|██████████████████████████████████████████▎    | 2351/2608 [00:32<00:05, 43.03image/s]"
     ]
    },
    {
     "name": "stdout",
     "output_type": "stream",
     "text": [
      "<Slide, name = B_213-ST_BFIW-SE_2382_processed>, width=300, height=375, channels=3, levels=1, RGB=True, dtype=uint8> <valis.slide_io.VipsSlideReader object at 0x7f0567d69bb0> True (375, 300, 3)\n",
      "<Slide, name = B_213-ST_BFIW-SE_2383_processed>, width=300, height=375, channels=3, levels=1, RGB=True, dtype=uint8> <valis.slide_io.VipsSlideReader object at 0x7f0567d1a240> True (375, 300, 3)\n",
      "<Slide, name = B_213-ST_BFIW-SE_2384_processed>, width=300, height=375, channels=3, levels=1, RGB=True, dtype=uint8> <valis.slide_io.VipsSlideReader object at 0x7f0567d6a330> True (375, 300, 3)\n",
      "<Slide, name = B_213-ST_BFIW-SE_2385_processed>, width=300, height=375, channels=3, levels=1, RGB=True, dtype=uint8> <valis.slide_io.VipsSlideReader object at 0x7f0567d1a300> True (375, 300, 3)\n",
      "<Slide, name = B_213-ST_BFIW-SE_2386_processed>, width=300, height=375, channels=3, levels=1, RGB=True, dtype=uint8> <valis.slide_io.VipsSlideReader object at 0x7f0567d6a3f0> True (375, 300, 3)\n",
      "<Slide, name = B_213-ST_BFIW-SE_2387_processed>, width=300, height=375, channels=3, levels=1, RGB=True, dtype=uint8> <valis.slide_io.VipsSlideReader object at 0x7f0567d6a3c0> True (375, 300, 3)\n",
      "<Slide, name = B_213-ST_BFIW-SE_2388_processed>, width=300, height=375, channels=3, levels=1, RGB=True, dtype=uint8> <valis.slide_io.VipsSlideReader object at 0x7f0567d22570> True (375, 300, 3)\n"
     ]
    },
    {
     "name": "stderr",
     "output_type": "stream",
     "text": [
      "Converting images:  90%|██████████████████████████████████████████▍    | 2358/2608 [00:32<00:05, 47.40image/s]"
     ]
    },
    {
     "name": "stdout",
     "output_type": "stream",
     "text": [
      "<Slide, name = B_213-ST_BFIW-SE_2389_processed>, width=300, height=375, channels=3, levels=1, RGB=True, dtype=uint8> <valis.slide_io.VipsSlideReader object at 0x7f0567d22360> True (375, 300, 3)\n",
      "<Slide, name = B_213-ST_BFIW-SE_2390_processed>, width=300, height=375, channels=3, levels=1, RGB=True, dtype=uint8> <valis.slide_io.VipsSlideReader object at 0x7f0567d1a540> True (375, 300, 3)\n",
      "<Slide, name = B_213-ST_BFIW-SE_2391_processed>, width=300, height=375, channels=3, levels=1, RGB=True, dtype=uint8> <valis.slide_io.VipsSlideReader object at 0x7f056826a5a0> True (375, 300, 3)\n",
      "<Slide, name = B_213-ST_BFIW-SE_2392_processed>, width=300, height=375, channels=3, levels=1, RGB=True, dtype=uint8> <valis.slide_io.VipsSlideReader object at 0x7f0567d22600> True (375, 300, 3)\n",
      "<Slide, name = B_213-ST_BFIW-SE_2393_processed>, width=300, height=375, channels=3, levels=1, RGB=True, dtype=uint8> <valis.slide_io.VipsSlideReader object at 0x7f05680e2660> True (375, 300, 3)\n",
      "<Slide, name = B_213-ST_BFIW-SE_2394_processed>, width=300, height=375, channels=3, levels=1, RGB=True, dtype=uint8> <valis.slide_io.VipsSlideReader object at 0x7f0567d226c0> True (375, 300, 3)\n"
     ]
    },
    {
     "name": "stderr",
     "output_type": "stream",
     "text": [
      "Converting images:  91%|██████████████████████████████████████████▌    | 2364/2608 [00:32<00:04, 49.70image/s]"
     ]
    },
    {
     "name": "stdout",
     "output_type": "stream",
     "text": [
      "<Slide, name = B_213-ST_BFIW-SE_2395_processed>, width=300, height=375, channels=3, levels=1, RGB=True, dtype=uint8> <valis.slide_io.VipsSlideReader object at 0x7f0567d1a720> True (375, 300, 3)\n",
      "<Slide, name = B_213-ST_BFIW-SE_2396_processed>, width=300, height=375, channels=3, levels=1, RGB=True, dtype=uint8> <valis.slide_io.VipsSlideReader object at 0x7f05680ea780> True (375, 300, 3)\n",
      "<Slide, name = B_213-ST_BFIW-SE_2397_processed>, width=300, height=375, channels=3, levels=1, RGB=True, dtype=uint8> <valis.slide_io.VipsSlideReader object at 0x7f0567d227e0> True (375, 300, 3)\n",
      "<Slide, name = B_213-ST_BFIW-SE_2398_processed>, width=300, height=375, channels=3, levels=1, RGB=True, dtype=uint8> <valis.slide_io.VipsSlideReader object at 0x7f0567d6a2d0> True (375, 300, 3)\n",
      "<Slide, name = B_213-ST_BFIW-SE_2399_processed>, width=300, height=375, channels=3, levels=1, RGB=True, dtype=uint8> <valis.slide_io.VipsSlideReader object at 0x7f0567d6a8a0> True (375, 300, 3)\n",
      "<Slide, name = B_213-ST_BFIW-SE_2400_processed>, width=300, height=375, channels=3, levels=1, RGB=True, dtype=uint8> <valis.slide_io.VipsSlideReader object at 0x7f0567d6a090> True (375, 300, 3)\n",
      "<Slide, name = B_213-ST_BFIW-SE_2401_processed>, width=300, height=375, channels=3, levels=1, RGB=True, dtype=uint8> <valis.slide_io.VipsSlideReader object at 0x7f0567d22630> True (375, 300, 3)\n"
     ]
    },
    {
     "name": "stderr",
     "output_type": "stream",
     "text": [
      "Converting images:  91%|██████████████████████████████████████████▋    | 2371/2608 [00:32<00:04, 54.07image/s]"
     ]
    },
    {
     "name": "stdout",
     "output_type": "stream",
     "text": [
      "<Slide, name = B_213-ST_BFIW-SE_2402_processed>, width=300, height=375, channels=3, levels=1, RGB=True, dtype=uint8> <valis.slide_io.VipsSlideReader object at 0x7f0567d1a870> True (375, 300, 3)\n",
      "<Slide, name = B_213-ST_BFIW-SE_2403_processed>, width=300, height=375, channels=3, levels=1, RGB=True, dtype=uint8> <valis.slide_io.VipsSlideReader object at 0x7f0567d22a80> True (375, 300, 3)\n",
      "<Slide, name = B_213-ST_BFIW-SE_2404_processed>, width=300, height=375, channels=3, levels=1, RGB=True, dtype=uint8> <valis.slide_io.VipsSlideReader object at 0x7f0567d22ab0> True (375, 300, 3)\n",
      "<Slide, name = B_213-ST_BFIW-SE_2405_processed>, width=300, height=375, channels=3, levels=1, RGB=True, dtype=uint8> <valis.slide_io.VipsSlideReader object at 0x7f0567d6a9c0> True (375, 300, 3)\n",
      "<Slide, name = B_213-ST_BFIW-SE_2406_processed>, width=300, height=375, channels=3, levels=1, RGB=True, dtype=uint8> <valis.slide_io.VipsSlideReader object at 0x7f0567d1ab70> True (375, 300, 3)\n",
      "<Slide, name = B_213-ST_BFIW-SE_2407_processed>, width=300, height=375, channels=3, levels=1, RGB=True, dtype=uint8> <valis.slide_io.VipsSlideReader object at 0x7f0567d1a930> True (375, 300, 3)\n",
      "<Slide, name = B_213-ST_BFIW-SE_2408_processed>, width=300, height=375, channels=3, levels=1, RGB=True, dtype=uint8> <valis.slide_io.VipsSlideReader object at 0x7f0567d6aae0> True (375, 300, 3)\n",
      "<Slide, name = B_213-ST_BFIW-SE_2409_processed>, width=300, height=375, channels=3, levels=1, RGB=True, dtype=uint8> <valis.slide_io.VipsSlideReader object at 0x7f0567d6ac90> True (375, 300, 3)\n",
      "<Slide, name = B_213-ST_BFIW-SE_2410_processed>, width=300, height=375, channels=3, levels=1, RGB=True, dtype=uint8> <valis.slide_io.VipsSlideReader object at 0x7f0567d1ae40> True (375, 300, 3)\n"
     ]
    },
    {
     "name": "stderr",
     "output_type": "stream",
     "text": [
      "Converting images:  91%|██████████████████████████████████████████▉    | 2380/2608 [00:32<00:03, 63.73image/s]"
     ]
    },
    {
     "name": "stdout",
     "output_type": "stream",
     "text": [
      "<Slide, name = B_213-ST_BFIW-SE_2411_processed>, width=300, height=375, channels=3, levels=1, RGB=True, dtype=uint8> <valis.slide_io.VipsSlideReader object at 0x7f0567d6abd0> True (375, 300, 3)\n",
      "<Slide, name = B_213-ST_BFIW-SE_2412_processed>, width=300, height=375, channels=3, levels=1, RGB=True, dtype=uint8> <valis.slide_io.VipsSlideReader object at 0x7f0567d6ae10> True (375, 300, 3)\n",
      "<Slide, name = B_213-ST_BFIW-SE_2413_processed>, width=300, height=375, channels=3, levels=1, RGB=True, dtype=uint8> <valis.slide_io.VipsSlideReader object at 0x7f0567d6ad50> True (375, 300, 3)\n",
      "<Slide, name = B_213-ST_BFIW-SE_2414_processed>, width=300, height=375, channels=3, levels=1, RGB=True, dtype=uint8> <valis.slide_io.VipsSlideReader object at 0x7f0567d6af90> True (375, 300, 3)\n",
      "<Slide, name = B_213-ST_BFIW-SE_2415_processed>, width=300, height=375, channels=3, levels=1, RGB=True, dtype=uint8> <valis.slide_io.VipsSlideReader object at 0x7f0567d6aa50> True (375, 300, 3)\n",
      "<Slide, name = B_213-ST_BFIW-SE_2416_processed>, width=300, height=375, channels=3, levels=1, RGB=True, dtype=uint8> <valis.slide_io.VipsSlideReader object at 0x7f0567d1ade0> True (375, 300, 3)\n",
      "<Slide, name = B_213-ST_BFIW-SE_2417_processed>, width=300, height=375, channels=3, levels=1, RGB=True, dtype=uint8> <valis.slide_io.VipsSlideReader object at 0x7f05680eafc0> True (375, 300, 3)\n",
      "<Slide, name = B_213-ST_BFIW-SE_2418_processed>, width=300, height=375, channels=3, levels=1, RGB=True, dtype=uint8> <valis.slide_io.VipsSlideReader object at 0x7f0567d6aff0> True (375, 300, 3)\n",
      "<Slide, name = B_213-ST_BFIW-SE_2419_processed>, width=300, height=375, channels=3, levels=1, RGB=True, dtype=uint8> <valis.slide_io.VipsSlideReader object at 0x7f05680e30b0> True (375, 300, 3)\n",
      "<Slide, name = B_213-ST_BFIW-SE_2420_processed>, width=300, height=375, channels=3, levels=1, RGB=True, dtype=uint8> <valis.slide_io.VipsSlideReader object at 0x7f0567d6b0e0> True (375, 300, 3)\n"
     ]
    },
    {
     "name": "stderr",
     "output_type": "stream",
     "text": [
      "Converting images:  92%|███████████████████████████████████████████    | 2390/2608 [00:32<00:03, 71.64image/s]"
     ]
    },
    {
     "name": "stdout",
     "output_type": "stream",
     "text": [
      "<Slide, name = B_213-ST_BFIW-SE_2421_processed>, width=300, height=375, channels=3, levels=1, RGB=True, dtype=uint8> <valis.slide_io.VipsSlideReader object at 0x7f0567d6b080> True (375, 300, 3)\n",
      "<Slide, name = B_213-ST_BFIW-SE_2422_processed>, width=300, height=375, channels=3, levels=1, RGB=True, dtype=uint8> <valis.slide_io.VipsSlideReader object at 0x7f0567d23260> True (375, 300, 3)\n",
      "<Slide, name = B_213-ST_BFIW-SE_2423_processed>, width=300, height=375, channels=3, levels=1, RGB=True, dtype=uint8> <valis.slide_io.VipsSlideReader object at 0x7f0567d6b110> True (375, 300, 3)\n",
      "<Slide, name = B_213-ST_BFIW-SE_2424_processed>, width=300, height=375, channels=3, levels=1, RGB=True, dtype=uint8> <valis.slide_io.VipsSlideReader object at 0x7f0567d6b1d0> True (375, 300, 3)\n",
      "<Slide, name = B_213-ST_BFIW-SE_2425_processed>, width=300, height=375, channels=3, levels=1, RGB=True, dtype=uint8> <valis.slide_io.VipsSlideReader object at 0x7f0567d1af00> True (375, 300, 3)\n",
      "<Slide, name = B_213-ST_BFIW-SE_2426_processed>, width=300, height=375, channels=3, levels=1, RGB=True, dtype=uint8> <valis.slide_io.VipsSlideReader object at 0x7f0567d6b2f0> True (375, 300, 3)\n",
      "<Slide, name = B_213-ST_BFIW-SE_2427_processed>, width=300, height=375, channels=3, levels=1, RGB=True, dtype=uint8> <valis.slide_io.VipsSlideReader object at 0x7f0567d1b3b0> True (375, 300, 3)\n",
      "<Slide, name = B_213-ST_BFIW-SE_2428_processed>, width=300, height=375, channels=3, levels=1, RGB=True, dtype=uint8> <valis.slide_io.VipsSlideReader object at 0x7f0567d1b440> True (375, 300, 3)\n",
      "<Slide, name = B_213-ST_BFIW-SE_2429_processed>, width=300, height=375, channels=3, levels=1, RGB=True, dtype=uint8> <valis.slide_io.VipsSlideReader object at 0x7f0567d23470> True (375, 300, 3)\n",
      "<Slide, name = B_213-ST_BFIW-SE_2430_processed>, width=300, height=375, channels=3, levels=1, RGB=True, dtype=uint8> <valis.slide_io.VipsSlideReader object at 0x7f0567d6b350> True (375, 300, 3)\n"
     ]
    },
    {
     "name": "stderr",
     "output_type": "stream",
     "text": [
      "Converting images:  92%|███████████████████████████████████████████▎   | 2400/2608 [00:32<00:02, 77.62image/s]"
     ]
    },
    {
     "name": "stdout",
     "output_type": "stream",
     "text": [
      "<Slide, name = B_213-ST_BFIW-SE_2431_processed>, width=300, height=375, channels=3, levels=1, RGB=True, dtype=uint8> <valis.slide_io.VipsSlideReader object at 0x7f0567d23530> True (375, 300, 3)\n",
      "<Slide, name = B_213-ST_BFIW-SE_2432_processed>, width=300, height=375, channels=3, levels=1, RGB=True, dtype=uint8> <valis.slide_io.VipsSlideReader object at 0x7f0567d6b560> True (375, 300, 3)\n",
      "<Slide, name = B_213-ST_BFIW-SE_2433_processed>, width=300, height=375, channels=3, levels=1, RGB=True, dtype=uint8> <valis.slide_io.VipsSlideReader object at 0x7f0567d1b5f0> True (375, 300, 3)\n",
      "<Slide, name = B_213-ST_BFIW-SE_2434_processed>, width=300, height=375, channels=3, levels=1, RGB=True, dtype=uint8> <valis.slide_io.VipsSlideReader object at 0x7f0567d6b6e0> True (375, 300, 3)\n",
      "<Slide, name = B_213-ST_BFIW-SE_2435_processed>, width=300, height=375, channels=3, levels=1, RGB=True, dtype=uint8> <valis.slide_io.VipsSlideReader object at 0x7f05680eb6b0> True (375, 300, 3)\n",
      "<Slide, name = B_213-ST_BFIW-SE_2436_processed>, width=300, height=375, channels=3, levels=1, RGB=True, dtype=uint8> <valis.slide_io.VipsSlideReader object at 0x7f0567d6b7a0> True (375, 300, 3)\n",
      "<Slide, name = B_213-ST_BFIW-SE_2437_processed>, width=300, height=375, channels=3, levels=1, RGB=True, dtype=uint8> <valis.slide_io.VipsSlideReader object at 0x7f0567d23770> True (375, 300, 3)\n",
      "<Slide, name = B_213-ST_BFIW-SE_2438_processed>, width=300, height=375, channels=3, levels=1, RGB=True, dtype=uint8> <valis.slide_io.VipsSlideReader object at 0x7f0567d6b860> True (375, 300, 3)\n",
      "<Slide, name = B_213-ST_BFIW-SE_2439_processed>, width=300, height=375, channels=3, levels=1, RGB=True, dtype=uint8> <valis.slide_io.VipsSlideReader object at 0x7f0567d23830> True (375, 300, 3)\n",
      "<Slide, name = B_213-ST_BFIW-SE_2440_processed>, width=300, height=375, channels=3, levels=1, RGB=True, dtype=uint8> <valis.slide_io.VipsSlideReader object at 0x7f0567d6b920> True (375, 300, 3)\n"
     ]
    },
    {
     "name": "stderr",
     "output_type": "stream",
     "text": [
      "Converting images:  92%|███████████████████████████████████████████▍   | 2410/2608 [00:32<00:02, 81.47image/s]"
     ]
    },
    {
     "name": "stdout",
     "output_type": "stream",
     "text": [
      "<Slide, name = B_213-ST_BFIW-SE_2441_processed>, width=300, height=375, channels=3, levels=1, RGB=True, dtype=uint8> <valis.slide_io.VipsSlideReader object at 0x7f0567d1b8f0> True (375, 300, 3)\n",
      "<Slide, name = B_213-ST_BFIW-SE_2442_processed>, width=300, height=375, channels=3, levels=1, RGB=True, dtype=uint8> <valis.slide_io.VipsSlideReader object at 0x7f0567d6b9e0> True (375, 300, 3)\n",
      "<Slide, name = B_213-ST_BFIW-SE_2443_processed>, width=300, height=375, channels=3, levels=1, RGB=True, dtype=uint8> <valis.slide_io.VipsSlideReader object at 0x7f0567d239b0> True (375, 300, 3)\n",
      "<Slide, name = B_213-ST_BFIW-SE_2444_processed>, width=300, height=375, channels=3, levels=1, RGB=True, dtype=uint8> <valis.slide_io.VipsSlideReader object at 0x7f0567d6bad0> True (375, 300, 3)\n",
      "<Slide, name = B_213-ST_BFIW-SE_2445_processed>, width=300, height=375, channels=3, levels=1, RGB=True, dtype=uint8> <valis.slide_io.VipsSlideReader object at 0x7f0567d23a70> True (375, 300, 3)\n",
      "<Slide, name = B_213-ST_BFIW-SE_2446_processed>, width=300, height=375, channels=3, levels=1, RGB=True, dtype=uint8> <valis.slide_io.VipsSlideReader object at 0x7f0567d6bb90> True (375, 300, 3)\n",
      "<Slide, name = B_213-ST_BFIW-SE_2447_processed>, width=300, height=375, channels=3, levels=1, RGB=True, dtype=uint8> <valis.slide_io.VipsSlideReader object at 0x7f0567d23b60> True (375, 300, 3)\n",
      "<Slide, name = B_213-ST_BFIW-SE_2448_processed>, width=300, height=375, channels=3, levels=1, RGB=True, dtype=uint8> <valis.slide_io.VipsSlideReader object at 0x7f0567d6bc50> True (375, 300, 3)\n",
      "<Slide, name = B_213-ST_BFIW-SE_2449_processed>, width=300, height=375, channels=3, levels=1, RGB=True, dtype=uint8> <valis.slide_io.VipsSlideReader object at 0x7f0567d6ba10> True (375, 300, 3)\n",
      "<Slide, name = B_213-ST_BFIW-SE_2450_processed>, width=300, height=375, channels=3, levels=1, RGB=True, dtype=uint8> <valis.slide_io.VipsSlideReader object at 0x7f0567d6bb00> True (375, 300, 3)\n"
     ]
    },
    {
     "name": "stderr",
     "output_type": "stream",
     "text": [
      "Converting images:  93%|███████████████████████████████████████████▌   | 2420/2608 [00:33<00:02, 84.27image/s]"
     ]
    },
    {
     "name": "stdout",
     "output_type": "stream",
     "text": [
      "<Slide, name = B_213-ST_BFIW-SE_2451_processed>, width=300, height=375, channels=3, levels=1, RGB=True, dtype=uint8> <valis.slide_io.VipsSlideReader object at 0x7f0567d1bce0> True (375, 300, 3)\n",
      "<Slide, name = B_213-ST_BFIW-SE_2452_processed>, width=300, height=375, channels=3, levels=1, RGB=True, dtype=uint8> <valis.slide_io.VipsSlideReader object at 0x7f0567d2bec0> True (375, 300, 3)\n",
      "<Slide, name = B_213-ST_BFIW-SE_2453_processed>, width=300, height=375, channels=3, levels=1, RGB=True, dtype=uint8> <valis.slide_io.VipsSlideReader object at 0x7f05680ebcb0> True (375, 300, 3)\n",
      "<Slide, name = B_213-ST_BFIW-SE_2454_processed>, width=300, height=375, channels=3, levels=1, RGB=True, dtype=uint8> <valis.slide_io.VipsSlideReader object at 0x7f0567d6b7d0> True (375, 300, 3)\n",
      "<Slide, name = B_213-ST_BFIW-SE_2455_processed>, width=300, height=375, channels=3, levels=1, RGB=True, dtype=uint8> <valis.slide_io.VipsSlideReader object at 0x7f0567d1bef0> True (375, 300, 3)\n",
      "<Slide, name = B_213-ST_BFIW-SE_2456_processed>, width=300, height=375, channels=3, levels=1, RGB=True, dtype=uint8> <valis.slide_io.VipsSlideReader object at 0x7f0567d6b950> True (375, 300, 3)\n",
      "<Slide, name = B_213-ST_BFIW-SE_2457_processed>, width=300, height=375, channels=3, levels=1, RGB=True, dtype=uint8> <valis.slide_io.VipsSlideReader object at 0x7f0567d23e30> True (375, 300, 3)\n",
      "<Slide, name = B_213-ST_BFIW-SE_2458_processed>, width=300, height=375, channels=3, levels=1, RGB=True, dtype=uint8> <valis.slide_io.VipsSlideReader object at 0x7f0567d6bd40> True (375, 300, 3)\n",
      "<Slide, name = B_213-ST_BFIW-SE_2459_processed>, width=300, height=375, channels=3, levels=1, RGB=True, dtype=uint8> <valis.slide_io.VipsSlideReader object at 0x7f0567d6bc80> True (375, 300, 3)\n"
     ]
    },
    {
     "name": "stderr",
     "output_type": "stream",
     "text": [
      "Converting images:  93%|███████████████████████████████████████████▊   | 2429/2608 [00:33<00:02, 85.53image/s]"
     ]
    },
    {
     "name": "stdout",
     "output_type": "stream",
     "text": [
      "<Slide, name = B_213-ST_BFIW-SE_2460_processed>, width=300, height=375, channels=3, levels=1, RGB=True, dtype=uint8> <valis.slide_io.VipsSlideReader object at 0x7f0567d6be90> True (375, 300, 3)\n",
      "<Slide, name = B_213-ST_BFIW-SE_2461_processed>, width=300, height=375, channels=3, levels=1, RGB=True, dtype=uint8> <valis.slide_io.VipsSlideReader object at 0x7f0567d6bd10> True (375, 300, 3)\n",
      "<Slide, name = B_213-ST_BFIW-SE_2462_processed>, width=300, height=375, channels=3, levels=1, RGB=True, dtype=uint8> <valis.slide_io.VipsSlideReader object at 0x7f0567d4c2c0> True (375, 300, 3)\n",
      "<Slide, name = B_213-ST_BFIW-SE_2463_processed>, width=300, height=375, channels=3, levels=1, RGB=True, dtype=uint8> <valis.slide_io.VipsSlideReader object at 0x7f0567d340e0> True (375, 300, 3)\n",
      "<Slide, name = B_213-ST_BFIW-SE_2464_processed>, width=300, height=375, channels=3, levels=1, RGB=True, dtype=uint8> <valis.slide_io.VipsSlideReader object at 0x7f0567d6c1a0> True (375, 300, 3)\n",
      "<Slide, name = B_213-ST_BFIW-SE_2465_processed>, width=300, height=375, channels=3, levels=1, RGB=True, dtype=uint8> <valis.slide_io.VipsSlideReader object at 0x7f0567d4c2f0> True (375, 300, 3)\n",
      "<Slide, name = B_213-ST_BFIW-SE_2466_processed>, width=300, height=375, channels=3, levels=1, RGB=True, dtype=uint8> <valis.slide_io.VipsSlideReader object at 0x7f0567d4c200> True (375, 300, 3)\n",
      "<Slide, name = B_213-ST_BFIW-SE_2467_processed>, width=300, height=375, channels=3, levels=1, RGB=True, dtype=uint8> <valis.slide_io.VipsSlideReader object at 0x7f0567d4c3b0> True (375, 300, 3)\n",
      "<Slide, name = B_213-ST_BFIW-SE_2468_processed>, width=300, height=375, channels=3, levels=1, RGB=True, dtype=uint8> <valis.slide_io.VipsSlideReader object at 0x7f0567d6c0b0> True (375, 300, 3)\n",
      "<Slide, name = B_213-ST_BFIW-SE_2469_processed>, width=300, height=375, channels=3, levels=1, RGB=True, dtype=uint8> <valis.slide_io.VipsSlideReader object at 0x7f0567d4c470> True (375, 300, 3)\n"
     ]
    },
    {
     "name": "stderr",
     "output_type": "stream",
     "text": [
      "Converting images:  94%|███████████████████████████████████████████▉   | 2439/2608 [00:33<00:01, 87.25image/s]"
     ]
    },
    {
     "name": "stdout",
     "output_type": "stream",
     "text": [
      "<Slide, name = B_213-ST_BFIW-SE_2470_processed>, width=300, height=375, channels=3, levels=1, RGB=True, dtype=uint8> <valis.slide_io.VipsSlideReader object at 0x7f0567d6c4a0> True (375, 300, 3)\n",
      "<Slide, name = B_213-ST_BFIW-SE_2471_processed>, width=300, height=375, channels=3, levels=1, RGB=True, dtype=uint8> <valis.slide_io.VipsSlideReader object at 0x7f0567d4c530> True (375, 300, 3)\n",
      "<Slide, name = B_213-ST_BFIW-SE_2472_processed>, width=300, height=375, channels=3, levels=1, RGB=True, dtype=uint8> <valis.slide_io.VipsSlideReader object at 0x7f0567d6c620> True (375, 300, 3)\n",
      "<Slide, name = B_213-ST_BFIW-SE_2473_processed>, width=300, height=375, channels=3, levels=1, RGB=True, dtype=uint8> <valis.slide_io.VipsSlideReader object at 0x7f0567d4c5f0> True (375, 300, 3)\n",
      "<Slide, name = B_213-ST_BFIW-SE_2474_processed>, width=300, height=375, channels=3, levels=1, RGB=True, dtype=uint8> <valis.slide_io.VipsSlideReader object at 0x7f0567d6c6e0> True (375, 300, 3)\n",
      "<Slide, name = B_213-ST_BFIW-SE_2475_processed>, width=300, height=375, channels=3, levels=1, RGB=True, dtype=uint8> <valis.slide_io.VipsSlideReader object at 0x7f0567d3c6b0> True (375, 300, 3)\n",
      "<Slide, name = B_213-ST_BFIW-SE_2476_processed>, width=300, height=375, channels=3, levels=1, RGB=True, dtype=uint8> <valis.slide_io.VipsSlideReader object at 0x7f0567d6c7a0> True (375, 300, 3)\n",
      "<Slide, name = B_213-ST_BFIW-SE_2477_processed>, width=300, height=375, channels=3, levels=1, RGB=True, dtype=uint8> <valis.slide_io.VipsSlideReader object at 0x7f0567d6c590> True (375, 300, 3)\n",
      "<Slide, name = B_213-ST_BFIW-SE_2478_processed>, width=300, height=375, channels=3, levels=1, RGB=True, dtype=uint8> <valis.slide_io.VipsSlideReader object at 0x7f0567d6c650> True (375, 300, 3)\n"
     ]
    },
    {
     "name": "stderr",
     "output_type": "stream",
     "text": [
      "Converting images:  94%|████████████████████████████████████████████   | 2448/2608 [00:33<00:01, 87.59image/s]"
     ]
    },
    {
     "name": "stdout",
     "output_type": "stream",
     "text": [
      "<Slide, name = B_213-ST_BFIW-SE_2479_processed>, width=300, height=375, channels=3, levels=1, RGB=True, dtype=uint8> <valis.slide_io.VipsSlideReader object at 0x7f0567d4c980> True (375, 300, 3)\n",
      "<Slide, name = B_213-ST_BFIW-SE_2480_processed>, width=300, height=375, channels=3, levels=1, RGB=True, dtype=uint8> <valis.slide_io.VipsSlideReader object at 0x7f0567d3c920> True (375, 300, 3)\n",
      "<Slide, name = B_213-ST_BFIW-SE_2481_processed>, width=300, height=375, channels=3, levels=1, RGB=True, dtype=uint8> <valis.slide_io.VipsSlideReader object at 0x7f0567d6c410> True (375, 300, 3)\n",
      "<Slide, name = B_213-ST_BFIW-SE_2482_processed>, width=300, height=375, channels=3, levels=1, RGB=True, dtype=uint8> <valis.slide_io.VipsSlideReader object at 0x7f0567d4c9b0> True (375, 300, 3)\n",
      "<Slide, name = B_213-ST_BFIW-SE_2483_processed>, width=300, height=375, channels=3, levels=1, RGB=True, dtype=uint8> <valis.slide_io.VipsSlideReader object at 0x7f0567d6c290> True (375, 300, 3)\n",
      "<Slide, name = B_213-ST_BFIW-SE_2484_processed>, width=300, height=375, channels=3, levels=1, RGB=True, dtype=uint8> <valis.slide_io.VipsSlideReader object at 0x7f0567d3ca40> True (375, 300, 3)\n",
      "<Slide, name = B_213-ST_BFIW-SE_2485_processed>, width=300, height=375, channels=3, levels=1, RGB=True, dtype=uint8> <valis.slide_io.VipsSlideReader object at 0x7f0567d6cb30> True (375, 300, 3)\n",
      "<Slide, name = B_213-ST_BFIW-SE_2486_processed>, width=300, height=375, channels=3, levels=1, RGB=True, dtype=uint8> <valis.slide_io.VipsSlideReader object at 0x7f0567d4cb00> True (375, 300, 3)\n",
      "<Slide, name = B_213-ST_BFIW-SE_2487_processed>, width=300, height=375, channels=3, levels=1, RGB=True, dtype=uint8> <valis.slide_io.VipsSlideReader object at 0x7f0567d6cbf0> True (375, 300, 3)\n"
     ]
    },
    {
     "name": "stderr",
     "output_type": "stream",
     "text": [
      "Converting images:  94%|████████████████████████████████████████████▎  | 2457/2608 [00:33<00:01, 87.83image/s]"
     ]
    },
    {
     "name": "stdout",
     "output_type": "stream",
     "text": [
      "<Slide, name = B_213-ST_BFIW-SE_2488_processed>, width=300, height=375, channels=3, levels=1, RGB=True, dtype=uint8> <valis.slide_io.VipsSlideReader object at 0x7f0567d6cbc0> True (375, 300, 3)\n",
      "<Slide, name = B_213-ST_BFIW-SE_2489_processed>, width=300, height=375, channels=3, levels=1, RGB=True, dtype=uint8> <valis.slide_io.VipsSlideReader object at 0x7f0567d4cd70> True (375, 300, 3)\n",
      "<Slide, name = B_213-ST_BFIW-SE_2490_processed>, width=300, height=375, channels=3, levels=1, RGB=True, dtype=uint8> <valis.slide_io.VipsSlideReader object at 0x7f0567d4cb60> True (375, 300, 3)\n",
      "<Slide, name = B_213-ST_BFIW-SE_2491_processed>, width=300, height=375, channels=3, levels=1, RGB=True, dtype=uint8> <valis.slide_io.VipsSlideReader object at 0x7f0567d4cd40> True (375, 300, 3)\n",
      "<Slide, name = B_213-ST_BFIW-SE_2492_processed>, width=300, height=375, channels=3, levels=1, RGB=True, dtype=uint8> <valis.slide_io.VipsSlideReader object at 0x7f0567d4cda0> True (375, 300, 3)\n",
      "<Slide, name = B_213-ST_BFIW-SE_2493_processed>, width=300, height=375, channels=3, levels=1, RGB=True, dtype=uint8> <valis.slide_io.VipsSlideReader object at 0x7f0567d4cdd0> True (375, 300, 3)\n",
      "<Slide, name = B_213-ST_BFIW-SE_2494_processed>, width=300, height=375, channels=3, levels=1, RGB=True, dtype=uint8> <valis.slide_io.VipsSlideReader object at 0x7f0567d2ce30> True (375, 300, 3)\n",
      "<Slide, name = B_213-ST_BFIW-SE_2495_processed>, width=300, height=375, channels=3, levels=1, RGB=True, dtype=uint8> <valis.slide_io.VipsSlideReader object at 0x7f0567d6ccb0> True (375, 300, 3)\n",
      "<Slide, name = B_213-ST_BFIW-SE_2496_processed>, width=300, height=375, channels=3, levels=1, RGB=True, dtype=uint8> <valis.slide_io.VipsSlideReader object at 0x7f0567d4cef0> True (375, 300, 3)\n"
     ]
    },
    {
     "name": "stderr",
     "output_type": "stream",
     "text": [
      "Converting images:  95%|████████████████████████████████████████████▍  | 2466/2608 [00:33<00:01, 88.34image/s]"
     ]
    },
    {
     "name": "stdout",
     "output_type": "stream",
     "text": [
      "<Slide, name = B_213-ST_BFIW-SE_2497_processed>, width=300, height=375, channels=3, levels=1, RGB=True, dtype=uint8> <valis.slide_io.VipsSlideReader object at 0x7f0567d6cc50> True (375, 300, 3)\n",
      "<Slide, name = B_213-ST_BFIW-SE_2498_processed>, width=300, height=375, channels=3, levels=1, RGB=True, dtype=uint8> <valis.slide_io.VipsSlideReader object at 0x7f0567d4cfb0> True (375, 300, 3)\n",
      "<Slide, name = B_213-ST_BFIW-SE_2499_processed>, width=300, height=375, channels=3, levels=1, RGB=True, dtype=uint8> <valis.slide_io.VipsSlideReader object at 0x7f0567d6d0a0> True (375, 300, 3)\n",
      "<Slide, name = B_213-ST_BFIW-SE_2500_processed>, width=300, height=375, channels=3, levels=1, RGB=True, dtype=uint8> <valis.slide_io.VipsSlideReader object at 0x7f0567d4cf80> True (375, 300, 3)\n",
      "<Slide, name = B_213-ST_BFIW-SE_2501_processed>, width=300, height=375, channels=3, levels=1, RGB=True, dtype=uint8> <valis.slide_io.VipsSlideReader object at 0x7f0567d3d220> True (375, 300, 3)\n",
      "<Slide, name = B_213-ST_BFIW-SE_2502_processed>, width=300, height=375, channels=3, levels=1, RGB=True, dtype=uint8> <valis.slide_io.VipsSlideReader object at 0x7f0567d3d100> True (375, 300, 3)\n",
      "<Slide, name = B_213-ST_BFIW-SE_2503_processed>, width=300, height=375, channels=3, levels=1, RGB=True, dtype=uint8> <valis.slide_io.VipsSlideReader object at 0x7f0567d4d1f0> True (375, 300, 3)\n",
      "<Slide, name = B_213-ST_BFIW-SE_2504_processed>, width=300, height=375, channels=3, levels=1, RGB=True, dtype=uint8> <valis.slide_io.VipsSlideReader object at 0x7f0567d6d040> True (375, 300, 3)\n",
      "<Slide, name = B_213-ST_BFIW-SE_2505_processed>, width=300, height=375, channels=3, levels=1, RGB=True, dtype=uint8> <valis.slide_io.VipsSlideReader object at 0x7f0567d3d280> True (375, 300, 3)\n",
      "<Slide, name = B_213-ST_BFIW-SE_2506_processed>, width=300, height=375, channels=3, levels=1, RGB=True, dtype=uint8> <valis.slide_io.VipsSlideReader object at 0x7f0567d6d160> True (375, 300, 3)\n"
     ]
    },
    {
     "name": "stderr",
     "output_type": "stream",
     "text": [
      "Converting images:  95%|████████████████████████████████████████████▌  | 2476/2608 [00:33<00:01, 89.36image/s]"
     ]
    },
    {
     "name": "stdout",
     "output_type": "stream",
     "text": [
      "<Slide, name = B_213-ST_BFIW-SE_2507_processed>, width=300, height=375, channels=3, levels=1, RGB=True, dtype=uint8> <valis.slide_io.VipsSlideReader object at 0x7f0567d6cf50> True (375, 300, 3)\n",
      "<Slide, name = B_213-ST_BFIW-SE_2508_processed>, width=300, height=375, channels=3, levels=1, RGB=True, dtype=uint8> <valis.slide_io.VipsSlideReader object at 0x7f0567d1d2e0> True (375, 300, 3)\n",
      "<Slide, name = B_213-ST_BFIW-SE_2509_processed>, width=300, height=375, channels=3, levels=1, RGB=True, dtype=uint8> <valis.slide_io.VipsSlideReader object at 0x7f0567d1d580> True (375, 300, 3)\n",
      "<Slide, name = B_213-ST_BFIW-SE_2510_processed>, width=300, height=375, channels=3, levels=1, RGB=True, dtype=uint8> <valis.slide_io.VipsSlideReader object at 0x7f0567d3d070> True (375, 300, 3)\n",
      "<Slide, name = B_213-ST_BFIW-SE_2511_processed>, width=300, height=375, channels=3, levels=1, RGB=True, dtype=uint8> <valis.slide_io.VipsSlideReader object at 0x7f0567d6d400> True (375, 300, 3)\n",
      "<Slide, name = B_213-ST_BFIW-SE_2512_processed>, width=300, height=375, channels=3, levels=1, RGB=True, dtype=uint8> <valis.slide_io.VipsSlideReader object at 0x7f0567d4d5b0> True (375, 300, 3)\n",
      "<Slide, name = B_213-ST_BFIW-SE_2513_processed>, width=300, height=375, channels=3, levels=1, RGB=True, dtype=uint8> <valis.slide_io.VipsSlideReader object at 0x7f0567d6d430> True (375, 300, 3)\n",
      "<Slide, name = B_213-ST_BFIW-SE_2514_processed>, width=300, height=375, channels=3, levels=1, RGB=True, dtype=uint8> <valis.slide_io.VipsSlideReader object at 0x7f0567d3d640> True (375, 300, 3)\n",
      "<Slide, name = B_213-ST_BFIW-SE_2515_processed>, width=300, height=375, channels=3, levels=1, RGB=True, dtype=uint8> <valis.slide_io.VipsSlideReader object at 0x7f0567d3d3a0> True (375, 300, 3)\n"
     ]
    },
    {
     "name": "stderr",
     "output_type": "stream",
     "text": [
      "Converting images:  95%|████████████████████████████████████████████▊  | 2485/2608 [00:33<00:01, 88.93image/s]"
     ]
    },
    {
     "name": "stdout",
     "output_type": "stream",
     "text": [
      "<Slide, name = B_213-ST_BFIW-SE_2516_processed>, width=300, height=375, channels=3, levels=1, RGB=True, dtype=uint8> <valis.slide_io.VipsSlideReader object at 0x7f0567d2d700> True (375, 300, 3)\n",
      "<Slide, name = B_213-ST_BFIW-SE_2517_processed>, width=300, height=375, channels=3, levels=1, RGB=True, dtype=uint8> <valis.slide_io.VipsSlideReader object at 0x7f0567d6d5e0> True (375, 300, 3)\n",
      "<Slide, name = B_213-ST_BFIW-SE_2518_processed>, width=300, height=375, channels=3, levels=1, RGB=True, dtype=uint8> <valis.slide_io.VipsSlideReader object at 0x7f0567d4d730> True (375, 300, 3)\n",
      "<Slide, name = B_213-ST_BFIW-SE_2519_processed>, width=300, height=375, channels=3, levels=1, RGB=True, dtype=uint8> <valis.slide_io.VipsSlideReader object at 0x7f0567d6ce90> True (375, 300, 3)\n",
      "<Slide, name = B_213-ST_BFIW-SE_2520_processed>, width=300, height=375, channels=3, levels=1, RGB=True, dtype=uint8> <valis.slide_io.VipsSlideReader object at 0x7f0567d6d8b0> True (375, 300, 3)\n",
      "<Slide, name = B_213-ST_BFIW-SE_2521_processed>, width=300, height=375, channels=3, levels=1, RGB=True, dtype=uint8> <valis.slide_io.VipsSlideReader object at 0x7f0567d6d610> True (375, 300, 3)\n",
      "<Slide, name = B_213-ST_BFIW-SE_2522_processed>, width=300, height=375, channels=3, levels=1, RGB=True, dtype=uint8> <valis.slide_io.VipsSlideReader object at 0x7f0567d2dac0> True (375, 300, 3)\n",
      "<Slide, name = B_213-ST_BFIW-SE_2523_processed>, width=300, height=375, channels=3, levels=1, RGB=True, dtype=uint8> <valis.slide_io.VipsSlideReader object at 0x7f0567d1d820> True (375, 300, 3)\n",
      "<Slide, name = B_213-ST_BFIW-SE_2524_processed>, width=300, height=375, channels=3, levels=1, RGB=True, dtype=uint8> <valis.slide_io.VipsSlideReader object at 0x7f0567d6d850> True (375, 300, 3)\n",
      "<Slide, name = B_213-ST_BFIW-SE_2525_processed>, width=300, height=375, channels=3, levels=1, RGB=True, dtype=uint8> <valis.slide_io.VipsSlideReader object at 0x7f0567d3daf0> True (375, 300, 3)\n"
     ]
    },
    {
     "name": "stderr",
     "output_type": "stream",
     "text": [
      "Converting images:  96%|████████████████████████████████████████████▉  | 2495/2608 [00:33<00:01, 89.49image/s]"
     ]
    },
    {
     "name": "stdout",
     "output_type": "stream",
     "text": [
      "<Slide, name = B_213-ST_BFIW-SE_2527_processed>, width=300, height=375, channels=3, levels=1, RGB=True, dtype=uint8> <valis.slide_io.VipsSlideReader object at 0x7f0567d6d9a0> True (375, 300, 3)\n",
      "<Slide, name = B_213-ST_BFIW-SE_2528_processed>, width=300, height=375, channels=3, levels=1, RGB=True, dtype=uint8> <valis.slide_io.VipsSlideReader object at 0x7f0567d3db80> True (375, 300, 3)\n",
      "<Slide, name = B_213-ST_BFIW-SE_2529_processed>, width=300, height=375, channels=3, levels=1, RGB=True, dtype=uint8> <valis.slide_io.VipsSlideReader object at 0x7f0567d6dc70> True (375, 300, 3)\n",
      "<Slide, name = B_213-ST_BFIW-SE_2530_processed>, width=300, height=375, channels=3, levels=1, RGB=True, dtype=uint8> <valis.slide_io.VipsSlideReader object at 0x7f0567d4dc40> True (375, 300, 3)\n",
      "<Slide, name = B_213-ST_BFIW-SE_2531_processed>, width=300, height=375, channels=3, levels=1, RGB=True, dtype=uint8> <valis.slide_io.VipsSlideReader object at 0x7f0567d6de50> True (375, 300, 3)\n",
      "<Slide, name = B_213-ST_BFIW-SE_2532_processed>, width=300, height=375, channels=3, levels=1, RGB=True, dtype=uint8> <valis.slide_io.VipsSlideReader object at 0x7f0567d4ddf0> True (375, 300, 3)\n",
      "<Slide, name = B_213-ST_BFIW-SE_2533_processed>, width=300, height=375, channels=3, levels=1, RGB=True, dtype=uint8> <valis.slide_io.VipsSlideReader object at 0x7f0567d4db20> True (375, 300, 3)\n",
      "<Slide, name = B_213-ST_BFIW-SE_2534_processed>, width=300, height=375, channels=3, levels=1, RGB=True, dtype=uint8> <valis.slide_io.VipsSlideReader object at 0x7f0567d4d7f0> True (375, 300, 3)\n",
      "<Slide, name = B_213-ST_BFIW-SE_2535_processed>, width=300, height=375, channels=3, levels=1, RGB=True, dtype=uint8> <valis.slide_io.VipsSlideReader object at 0x7f0567d2ddc0> True (375, 300, 3)\n"
     ]
    },
    {
     "name": "stderr",
     "output_type": "stream",
     "text": [
      "Converting images:  96%|█████████████████████████████████████████████▏ | 2504/2608 [00:33<00:01, 89.41image/s]"
     ]
    },
    {
     "name": "stdout",
     "output_type": "stream",
     "text": [
      "<Slide, name = B_213-ST_BFIW-SE_2536_processed>, width=300, height=375, channels=3, levels=1, RGB=True, dtype=uint8> <valis.slide_io.VipsSlideReader object at 0x7f0567d3de20> True (375, 300, 3)\n",
      "<Slide, name = B_213-ST_BFIW-SE_2537_processed>, width=300, height=375, channels=3, levels=1, RGB=True, dtype=uint8> <valis.slide_io.VipsSlideReader object at 0x7f0567d6cdd0> True (375, 300, 3)\n",
      "<Slide, name = B_213-ST_BFIW-SE_2538_processed>, width=300, height=375, channels=3, levels=1, RGB=True, dtype=uint8> <valis.slide_io.VipsSlideReader object at 0x7f0567d4dd00> True (375, 300, 3)\n",
      "<Slide, name = B_213-ST_BFIW-SE_2539_processed>, width=300, height=375, channels=3, levels=1, RGB=True, dtype=uint8> <valis.slide_io.VipsSlideReader object at 0x7f0567d2e0c0> True (375, 300, 3)\n",
      "<Slide, name = B_213-ST_BFIW-SE_2540_processed>, width=300, height=375, channels=3, levels=1, RGB=True, dtype=uint8> <valis.slide_io.VipsSlideReader object at 0x7f0567d1dfa0> True (375, 300, 3)\n",
      "<Slide, name = B_213-ST_BFIW-SE_2541_processed>, width=300, height=375, channels=3, levels=1, RGB=True, dtype=uint8> <valis.slide_io.VipsSlideReader object at 0x7f0567d6df70> True (375, 300, 3)\n",
      "<Slide, name = B_213-ST_BFIW-SE_2542_processed>, width=300, height=375, channels=3, levels=1, RGB=True, dtype=uint8> <valis.slide_io.VipsSlideReader object at 0x7f0567d4e0f0> True (375, 300, 3)\n",
      "<Slide, name = B_213-ST_BFIW-SE_2543_processed>, width=300, height=375, channels=3, levels=1, RGB=True, dtype=uint8> <valis.slide_io.VipsSlideReader object at 0x7f0567d6dc10> True (375, 300, 3)\n",
      "<Slide, name = B_213-ST_BFIW-SE_2544_processed>, width=300, height=375, channels=3, levels=1, RGB=True, dtype=uint8> <valis.slide_io.VipsSlideReader object at 0x7f0567d4e180> True (375, 300, 3)\n",
      "<Slide, name = B_213-ST_BFIW-SE_2545_processed>, width=300, height=375, channels=3, levels=1, RGB=True, dtype=uint8> <valis.slide_io.VipsSlideReader object at 0x7f0567d3de80> True (375, 300, 3)\n"
     ]
    },
    {
     "name": "stderr",
     "output_type": "stream",
     "text": [
      "Converting images:  96%|█████████████████████████████████████████████▎ | 2514/2608 [00:34<00:01, 89.76image/s]"
     ]
    },
    {
     "name": "stdout",
     "output_type": "stream",
     "text": [
      "<Slide, name = B_213-ST_BFIW-SE_2546_processed>, width=300, height=375, channels=3, levels=1, RGB=True, dtype=uint8> <valis.slide_io.VipsSlideReader object at 0x7f0567d6e090> True (375, 300, 3)\n",
      "<Slide, name = B_213-ST_BFIW-SE_2547_processed>, width=300, height=375, channels=3, levels=1, RGB=True, dtype=uint8> <valis.slide_io.VipsSlideReader object at 0x7f0567d6e2a0> True (375, 300, 3)\n",
      "<Slide, name = B_213-ST_BFIW-SE_2548_processed>, width=300, height=375, channels=3, levels=1, RGB=True, dtype=uint8> <valis.slide_io.VipsSlideReader object at 0x7f0567d6df10> True (375, 300, 3)\n",
      "<Slide, name = B_213-ST_BFIW-SE_2549_processed>, width=300, height=375, channels=3, levels=1, RGB=True, dtype=uint8> <valis.slide_io.VipsSlideReader object at 0x7f0567d3e330> True (375, 300, 3)\n",
      "<Slide, name = B_213-ST_BFIW-SE_2550_processed>, width=300, height=375, channels=3, levels=1, RGB=True, dtype=uint8> <valis.slide_io.VipsSlideReader object at 0x7f0567d2dee0> True (375, 300, 3)\n",
      "<Slide, name = B_213-ST_BFIW-SE_2551_processed>, width=300, height=375, channels=3, levels=1, RGB=True, dtype=uint8> <valis.slide_io.VipsSlideReader object at 0x7f0567d4e480> True (375, 300, 3)\n",
      "<Slide, name = B_213-ST_BFIW-SE_2552_processed>, width=300, height=375, channels=3, levels=1, RGB=True, dtype=uint8> <valis.slide_io.VipsSlideReader object at 0x7f0567d6e4e0> True (375, 300, 3)\n",
      "<Slide, name = B_213-ST_BFIW-SE_2553_processed>, width=300, height=375, channels=3, levels=1, RGB=True, dtype=uint8> <valis.slide_io.VipsSlideReader object at 0x7f0567d6e4b0> True (375, 300, 3)\n",
      "<Slide, name = B_213-ST_BFIW-SE_2554_processed>, width=300, height=375, channels=3, levels=1, RGB=True, dtype=uint8> <valis.slide_io.VipsSlideReader object at 0x7f0567d3e6c0> True (375, 300, 3)\n",
      "<Slide, name = B_213-ST_BFIW-SE_2555_processed>, width=300, height=375, channels=3, levels=1, RGB=True, dtype=uint8> <valis.slide_io.VipsSlideReader object at 0x7f0567d4e420> True (375, 300, 3)\n"
     ]
    },
    {
     "name": "stderr",
     "output_type": "stream",
     "text": [
      "Converting images:  97%|█████████████████████████████████████████████▍ | 2524/2608 [00:34<00:00, 90.20image/s]"
     ]
    },
    {
     "name": "stdout",
     "output_type": "stream",
     "text": [
      "<Slide, name = B_213-ST_BFIW-SE_2556_processed>, width=300, height=375, channels=3, levels=1, RGB=True, dtype=uint8> <valis.slide_io.VipsSlideReader object at 0x7f0567d3e630> True (375, 300, 3)\n",
      "<Slide, name = B_213-ST_BFIW-SE_2557_processed>, width=300, height=375, channels=3, levels=1, RGB=True, dtype=uint8> <valis.slide_io.VipsSlideReader object at 0x7f0567d6e3c0> True (375, 300, 3)\n",
      "<Slide, name = B_213-ST_BFIW-SE_2558_processed>, width=300, height=375, channels=3, levels=1, RGB=True, dtype=uint8> <valis.slide_io.VipsSlideReader object at 0x7f0567d4e6f0> True (375, 300, 3)\n",
      "<Slide, name = B_213-ST_BFIW-SE_2559_processed>, width=300, height=375, channels=3, levels=1, RGB=True, dtype=uint8> <valis.slide_io.VipsSlideReader object at 0x7f0567d6e720> True (375, 300, 3)\n",
      "<Slide, name = B_213-ST_BFIW-SE_2560_processed>, width=300, height=375, channels=3, levels=1, RGB=True, dtype=uint8> <valis.slide_io.VipsSlideReader object at 0x7f0567d4e7b0> True (375, 300, 3)\n",
      "<Slide, name = B_213-ST_BFIW-SE_2561_processed>, width=300, height=375, channels=3, levels=1, RGB=True, dtype=uint8> <valis.slide_io.VipsSlideReader object at 0x7f0567d4e1e0> True (375, 300, 3)\n",
      "<Slide, name = B_213-ST_BFIW-SE_2562_processed>, width=300, height=375, channels=3, levels=1, RGB=True, dtype=uint8> <valis.slide_io.VipsSlideReader object at 0x7f0567d4e870> True (375, 300, 3)\n",
      "<Slide, name = B_213-ST_BFIW-SE_2563_processed>, width=300, height=375, channels=3, levels=1, RGB=True, dtype=uint8> <valis.slide_io.VipsSlideReader object at 0x7f0567d6e750> True (375, 300, 3)\n",
      "<Slide, name = B_213-ST_BFIW-SE_2564_processed>, width=300, height=375, channels=3, levels=1, RGB=True, dtype=uint8> <valis.slide_io.VipsSlideReader object at 0x7f0567d4e930> True (375, 300, 3)\n",
      "<Slide, name = B_213-ST_BFIW-SE_2565_processed>, width=300, height=375, channels=3, levels=1, RGB=True, dtype=uint8> <valis.slide_io.VipsSlideReader object at 0x7f0567d6e960> True (375, 300, 3)\n"
     ]
    },
    {
     "name": "stderr",
     "output_type": "stream",
     "text": [
      "Converting images:  97%|█████████████████████████████████████████████▋ | 2534/2608 [00:34<00:00, 90.64image/s]"
     ]
    },
    {
     "name": "stdout",
     "output_type": "stream",
     "text": [
      "<Slide, name = B_213-ST_BFIW-SE_2566_processed>, width=300, height=375, channels=3, levels=1, RGB=True, dtype=uint8> <valis.slide_io.VipsSlideReader object at 0x7f0567d3e9f0> True (375, 300, 3)\n",
      "<Slide, name = B_213-ST_BFIW-SE_2567_processed>, width=300, height=375, channels=3, levels=1, RGB=True, dtype=uint8> <valis.slide_io.VipsSlideReader object at 0x7f0567d6eae0> True (375, 300, 3)\n",
      "<Slide, name = B_213-ST_BFIW-SE_2568_processed>, width=300, height=375, channels=3, levels=1, RGB=True, dtype=uint8> <valis.slide_io.VipsSlideReader object at 0x7f0567d3eab0> True (375, 300, 3)\n",
      "<Slide, name = B_213-ST_BFIW-SE_2569_processed>, width=300, height=375, channels=3, levels=1, RGB=True, dtype=uint8> <valis.slide_io.VipsSlideReader object at 0x7f0567d6eba0> True (375, 300, 3)\n",
      "<Slide, name = B_213-ST_BFIW-SE_2570_processed>, width=300, height=375, channels=3, levels=1, RGB=True, dtype=uint8> <valis.slide_io.VipsSlideReader object at 0x7f0567d4eb70> True (375, 300, 3)\n",
      "<Slide, name = B_213-ST_BFIW-SE_2571_processed>, width=300, height=375, channels=3, levels=1, RGB=True, dtype=uint8> <valis.slide_io.VipsSlideReader object at 0x7f0567d6ec60> True (375, 300, 3)\n",
      "<Slide, name = B_213-ST_BFIW-SE_2572_processed>, width=300, height=375, channels=3, levels=1, RGB=True, dtype=uint8> <valis.slide_io.VipsSlideReader object at 0x7f0567d6ea50> True (375, 300, 3)\n",
      "<Slide, name = B_213-ST_BFIW-SE_2573_processed>, width=300, height=375, channels=3, levels=1, RGB=True, dtype=uint8> <valis.slide_io.VipsSlideReader object at 0x7f0567d6e8d0> True (375, 300, 3)\n",
      "<Slide, name = B_213-ST_BFIW-SE_2574_processed>, width=300, height=375, channels=3, levels=1, RGB=True, dtype=uint8> <valis.slide_io.VipsSlideReader object at 0x7f0567d6eb10> True (375, 300, 3)\n",
      "<Slide, name = B_213-ST_BFIW-SE_2575_processed>, width=300, height=375, channels=3, levels=1, RGB=True, dtype=uint8> <valis.slide_io.VipsSlideReader object at 0x7f0567d6ec30> True (375, 300, 3)\n"
     ]
    },
    {
     "name": "stderr",
     "output_type": "stream",
     "text": [
      "Converting images:  98%|█████████████████████████████████████████████▊ | 2544/2608 [00:34<00:00, 90.82image/s]"
     ]
    },
    {
     "name": "stdout",
     "output_type": "stream",
     "text": [
      "<Slide, name = B_213-ST_BFIW-SE_2576_processed>, width=300, height=375, channels=3, levels=1, RGB=True, dtype=uint8> <valis.slide_io.VipsSlideReader object at 0x7f0567d4ef00> True (375, 300, 3)\n",
      "<Slide, name = B_213-ST_BFIW-SE_2577_processed>, width=300, height=375, channels=3, levels=1, RGB=True, dtype=uint8> <valis.slide_io.VipsSlideReader object at 0x7f0567d3eea0> True (375, 300, 3)\n",
      "<Slide, name = B_213-ST_BFIW-SE_2578_processed>, width=300, height=375, channels=3, levels=1, RGB=True, dtype=uint8> <valis.slide_io.VipsSlideReader object at 0x7f0567d6dcd0> True (375, 300, 3)\n",
      "<Slide, name = B_213-ST_BFIW-SE_2579_processed>, width=300, height=375, channels=3, levels=1, RGB=True, dtype=uint8> <valis.slide_io.VipsSlideReader object at 0x7f0567d4ef30> True (375, 300, 3)\n",
      "<Slide, name = B_213-ST_BFIW-SE_2580_processed>, width=300, height=375, channels=3, levels=1, RGB=True, dtype=uint8> <valis.slide_io.VipsSlideReader object at 0x7f0567d2ede0> True (375, 300, 3)\n",
      "<Slide, name = B_213-ST_BFIW-SE_2581_processed>, width=300, height=375, channels=3, levels=1, RGB=True, dtype=uint8> <valis.slide_io.VipsSlideReader object at 0x7f0567d4efc0> True (375, 300, 3)\n",
      "<Slide, name = B_213-ST_BFIW-SE_2582_processed>, width=300, height=375, channels=3, levels=1, RGB=True, dtype=uint8> <valis.slide_io.VipsSlideReader object at 0x7f0567d3f020> True (375, 300, 3)\n",
      "<Slide, name = B_213-ST_BFIW-SE_2583_processed>, width=300, height=375, channels=3, levels=1, RGB=True, dtype=uint8> <valis.slide_io.VipsSlideReader object at 0x7f0567d4f080> True (375, 300, 3)\n",
      "<Slide, name = B_213-ST_BFIW-SE_2584_processed>, width=300, height=375, channels=3, levels=1, RGB=True, dtype=uint8> <valis.slide_io.VipsSlideReader object at 0x7f0567d4f0e0> True (375, 300, 3)\n",
      "<Slide, name = B_213-ST_BFIW-SE_2585_processed>, width=300, height=375, channels=3, levels=1, RGB=True, dtype=uint8> <valis.slide_io.VipsSlideReader object at 0x7f0567d6e810> True (375, 300, 3)\n"
     ]
    },
    {
     "name": "stderr",
     "output_type": "stream",
     "text": [
      "Converting images:  98%|██████████████████████████████████████████████ | 2554/2608 [00:34<00:00, 90.75image/s]"
     ]
    },
    {
     "name": "stdout",
     "output_type": "stream",
     "text": [
      "<Slide, name = B_213-ST_BFIW-SE_2586_processed>, width=300, height=375, channels=3, levels=1, RGB=True, dtype=uint8> <valis.slide_io.VipsSlideReader object at 0x7f0567d6f290> True (375, 300, 3)\n",
      "<Slide, name = B_213-ST_BFIW-SE_2587_processed>, width=300, height=375, channels=3, levels=1, RGB=True, dtype=uint8> <valis.slide_io.VipsSlideReader object at 0x7f0567d1ef60> True (375, 300, 3)\n",
      "<Slide, name = B_213-ST_BFIW-SE_2588_processed>, width=300, height=375, channels=3, levels=1, RGB=True, dtype=uint8> <valis.slide_io.VipsSlideReader object at 0x7f0567d4f200> True (375, 300, 3)\n",
      "<Slide, name = B_213-ST_BFIW-SE_2589_processed>, width=300, height=375, channels=3, levels=1, RGB=True, dtype=uint8> <valis.slide_io.VipsSlideReader object at 0x7f0567d1f2c0> True (375, 300, 3)\n",
      "<Slide, name = B_213-ST_BFIW-SE_2590_processed>, width=300, height=375, channels=3, levels=1, RGB=True, dtype=uint8> <valis.slide_io.VipsSlideReader object at 0x7f0567d1f320> True (375, 300, 3)\n",
      "<Slide, name = B_213-ST_BFIW-SE_2591_processed>, width=300, height=375, channels=3, levels=1, RGB=True, dtype=uint8> <valis.slide_io.VipsSlideReader object at 0x7f0567d4f380> True (375, 300, 3)\n",
      "<Slide, name = B_213-ST_BFIW-SE_2592_processed>, width=300, height=375, channels=3, levels=1, RGB=True, dtype=uint8> <valis.slide_io.VipsSlideReader object at 0x7f0567d6eed0> True (375, 300, 3)\n",
      "<Slide, name = B_213-ST_BFIW-SE_2593_processed>, width=300, height=375, channels=3, levels=1, RGB=True, dtype=uint8> <valis.slide_io.VipsSlideReader object at 0x7f0567d6f440> True (375, 300, 3)\n",
      "<Slide, name = B_213-ST_BFIW-SE_2594_processed>, width=300, height=375, channels=3, levels=1, RGB=True, dtype=uint8> <valis.slide_io.VipsSlideReader object at 0x7f0567d3f5f0> True (375, 300, 3)\n",
      "<Slide, name = B_213-ST_BFIW-SE_2595_processed>, width=300, height=375, channels=3, levels=1, RGB=True, dtype=uint8> <valis.slide_io.VipsSlideReader object at 0x7f0567d6f3b0> True (375, 300, 3)\n"
     ]
    },
    {
     "name": "stderr",
     "output_type": "stream",
     "text": [
      "Converting images:  98%|██████████████████████████████████████████████▏| 2564/2608 [00:34<00:00, 91.01image/s]"
     ]
    },
    {
     "name": "stdout",
     "output_type": "stream",
     "text": [
      "<Slide, name = B_213-ST_BFIW-SE_2596_processed>, width=300, height=375, channels=3, levels=1, RGB=True, dtype=uint8> <valis.slide_io.VipsSlideReader object at 0x7f0567d3f5c0> True (375, 300, 3)\n",
      "<Slide, name = B_213-ST_BFIW-SE_2597_processed>, width=300, height=375, channels=3, levels=1, RGB=True, dtype=uint8> <valis.slide_io.VipsSlideReader object at 0x7f0567d4f0b0> True (375, 300, 3)\n",
      "<Slide, name = B_213-ST_BFIW-SE_2598_processed>, width=300, height=375, channels=3, levels=1, RGB=True, dtype=uint8> <valis.slide_io.VipsSlideReader object at 0x7f0567d6ef90> True (375, 300, 3)\n",
      "<Slide, name = B_213-ST_BFIW-SE_2599_processed>, width=300, height=375, channels=3, levels=1, RGB=True, dtype=uint8> <valis.slide_io.VipsSlideReader object at 0x7f0567d4f6b0> True (375, 300, 3)\n",
      "<Slide, name = B_213-ST_BFIW-SE_2600_processed>, width=300, height=375, channels=3, levels=1, RGB=True, dtype=uint8> <valis.slide_io.VipsSlideReader object at 0x7f0567d4f470> True (375, 300, 3)\n",
      "<Slide, name = B_213-ST_BFIW-SE_2601_processed>, width=300, height=375, channels=3, levels=1, RGB=True, dtype=uint8> <valis.slide_io.VipsSlideReader object at 0x7f0567d4f770> True (375, 300, 3)\n",
      "<Slide, name = B_213-ST_BFIW-SE_2602_processed>, width=300, height=375, channels=3, levels=1, RGB=True, dtype=uint8> <valis.slide_io.VipsSlideReader object at 0x7f0567d6f740> True (375, 300, 3)\n",
      "<Slide, name = B_213-ST_BFIW-SE_2603_processed>, width=300, height=375, channels=3, levels=1, RGB=True, dtype=uint8> <valis.slide_io.VipsSlideReader object at 0x7f0567d4f830> True (375, 300, 3)\n",
      "<Slide, name = B_213-ST_BFIW-SE_2604_processed>, width=300, height=375, channels=3, levels=1, RGB=True, dtype=uint8> <valis.slide_io.VipsSlideReader object at 0x7f0567d6f860> True (375, 300, 3)\n",
      "<Slide, name = B_213-ST_BFIW-SE_2605_processed>, width=300, height=375, channels=3, levels=1, RGB=True, dtype=uint8> <valis.slide_io.VipsSlideReader object at 0x7f0567d3f8f0> True (375, 300, 3)\n"
     ]
    },
    {
     "name": "stderr",
     "output_type": "stream",
     "text": [
      "Converting images:  99%|██████████████████████████████████████████████▍| 2574/2608 [00:34<00:00, 91.36image/s]"
     ]
    },
    {
     "name": "stdout",
     "output_type": "stream",
     "text": [
      "<Slide, name = B_213-ST_BFIW-SE_2606_processed>, width=300, height=375, channels=3, levels=1, RGB=True, dtype=uint8> <valis.slide_io.VipsSlideReader object at 0x7f0567d6f9e0> True (375, 300, 3)\n",
      "<Slide, name = B_213-ST_BFIW-SE_2607_processed>, width=300, height=375, channels=3, levels=1, RGB=True, dtype=uint8> <valis.slide_io.VipsSlideReader object at 0x7f0567d3f9b0> True (375, 300, 3)\n",
      "<Slide, name = B_213-ST_BFIW-SE_2608_processed>, width=300, height=375, channels=3, levels=1, RGB=True, dtype=uint8> <valis.slide_io.VipsSlideReader object at 0x7f0567d6faa0> True (375, 300, 3)\n",
      "<Slide, name = B_213-ST_BFIW-SE_2609_processed>, width=300, height=375, channels=3, levels=1, RGB=True, dtype=uint8> <valis.slide_io.VipsSlideReader object at 0x7f0567d2fa70> True (375, 300, 3)\n",
      "<Slide, name = B_213-ST_BFIW-SE_2610_processed>, width=300, height=375, channels=3, levels=1, RGB=True, dtype=uint8> <valis.slide_io.VipsSlideReader object at 0x7f0567d6fb60> True (375, 300, 3)\n",
      "<Slide, name = B_213-ST_BFIW-SE_2611_processed>, width=300, height=375, channels=3, levels=1, RGB=True, dtype=uint8> <valis.slide_io.VipsSlideReader object at 0x7f0567d1fb30> True (375, 300, 3)\n",
      "<Slide, name = B_213-ST_BFIW-SE_2612_processed>, width=300, height=375, channels=3, levels=1, RGB=True, dtype=uint8> <valis.slide_io.VipsSlideReader object at 0x7f0567d6fc20> True (375, 300, 3)\n",
      "<Slide, name = B_213-ST_BFIW-SE_2613_processed>, width=300, height=375, channels=3, levels=1, RGB=True, dtype=uint8> <valis.slide_io.VipsSlideReader object at 0x7f0567d4fbf0> True (375, 300, 3)\n",
      "<Slide, name = B_213-ST_BFIW-SE_2614_processed>, width=300, height=375, channels=3, levels=1, RGB=True, dtype=uint8> <valis.slide_io.VipsSlideReader object at 0x7f0567d6fce0> True (375, 300, 3)\n",
      "<Slide, name = B_213-ST_BFIW-SE_2615_processed>, width=300, height=375, channels=3, levels=1, RGB=True, dtype=uint8> <valis.slide_io.VipsSlideReader object at 0x7f0567d3fcb0> True (375, 300, 3)\n"
     ]
    },
    {
     "name": "stderr",
     "output_type": "stream",
     "text": [
      "Converting images:  99%|██████████████████████████████████████████████▌| 2584/2608 [00:34<00:00, 90.83image/s]"
     ]
    },
    {
     "name": "stdout",
     "output_type": "stream",
     "text": [
      "<Slide, name = B_213-ST_BFIW-SE_2616_processed>, width=300, height=375, channels=3, levels=1, RGB=True, dtype=uint8> <valis.slide_io.VipsSlideReader object at 0x7f0567d6fda0> True (375, 300, 3)\n",
      "<Slide, name = B_213-ST_BFIW-SE_2617_processed>, width=300, height=375, channels=3, levels=1, RGB=True, dtype=uint8> <valis.slide_io.VipsSlideReader object at 0x7f05680e7d70> True (375, 300, 3)\n",
      "<Slide, name = B_213-ST_BFIW-SE_2618_processed>, width=300, height=375, channels=3, levels=1, RGB=True, dtype=uint8> <valis.slide_io.VipsSlideReader object at 0x7f0567d6fe60> True (375, 300, 3)\n",
      "<Slide, name = B_213-ST_BFIW-SE_2619_processed>, width=300, height=375, channels=3, levels=1, RGB=True, dtype=uint8> <valis.slide_io.VipsSlideReader object at 0x7f0567d4fe30> True (375, 300, 3)\n",
      "<Slide, name = B_213-ST_BFIW-SE_2620_processed>, width=300, height=375, channels=3, levels=1, RGB=True, dtype=uint8> <valis.slide_io.VipsSlideReader object at 0x7f0567d6ff20> True (375, 300, 3)\n",
      "<Slide, name = B_213-ST_BFIW-SE_2621_processed>, width=300, height=375, channels=3, levels=1, RGB=True, dtype=uint8> <valis.slide_io.VipsSlideReader object at 0x7f0567d6fd10> True (375, 300, 3)\n",
      "<Slide, name = B_213-ST_BFIW-SE_2622_processed>, width=300, height=375, channels=3, levels=1, RGB=True, dtype=uint8> <valis.slide_io.VipsSlideReader object at 0x7f0567d6ff50> True (375, 300, 3)\n",
      "<Slide, name = B_213-ST_BFIW-SE_2623_processed>, width=300, height=375, channels=3, levels=1, RGB=True, dtype=uint8> <valis.slide_io.VipsSlideReader object at 0x7f0567d3fe90> True (375, 300, 3)\n",
      "<Slide, name = B_213-ST_BFIW-SE_2624_processed>, width=300, height=375, channels=3, levels=1, RGB=True, dtype=uint8> <valis.slide_io.VipsSlideReader object at 0x7f0567d6fa10> True (375, 300, 3)\n",
      "<Slide, name = B_213-ST_BFIW-SE_2625_processed>, width=300, height=375, channels=3, levels=1, RGB=True, dtype=uint8> <valis.slide_io.VipsSlideReader object at 0x7f0567d6ffe0> True (375, 300, 3)\n"
     ]
    },
    {
     "name": "stderr",
     "output_type": "stream",
     "text": [
      "Converting images:  99%|██████████████████████████████████████████████▋| 2594/2608 [00:34<00:00, 90.05image/s]"
     ]
    },
    {
     "name": "stdout",
     "output_type": "stream",
     "text": [
      "<Slide, name = B_213-ST_BFIW-SE_2626_processed>, width=300, height=375, channels=3, levels=1, RGB=True, dtype=uint8> <valis.slide_io.VipsSlideReader object at 0x7f0567d6fad0> True (375, 300, 3)\n",
      "<Slide, name = B_213-ST_BFIW-SE_2627_processed>, width=300, height=375, channels=3, levels=1, RGB=True, dtype=uint8> <valis.slide_io.VipsSlideReader object at 0x7f0567d70200> True (375, 300, 3)\n",
      "<Slide, name = B_213-ST_BFIW-SE_2628_processed>, width=300, height=375, channels=3, levels=1, RGB=True, dtype=uint8> <valis.slide_io.VipsSlideReader object at 0x7f0567d70230> True (375, 300, 3)\n",
      "<Slide, name = B_213-ST_BFIW-SE_2629_processed>, width=300, height=375, channels=3, levels=1, RGB=True, dtype=uint8> <valis.slide_io.VipsSlideReader object at 0x7f0567d682f0> True (375, 300, 3)\n",
      "<Slide, name = B_213-ST_BFIW-SE_2630_processed>, width=300, height=375, channels=3, levels=1, RGB=True, dtype=uint8> <valis.slide_io.VipsSlideReader object at 0x7f0567d20080> True (375, 300, 3)\n",
      "<Slide, name = B_213-ST_BFIW-SE_2631_processed>, width=300, height=375, channels=3, levels=1, RGB=True, dtype=uint8> <valis.slide_io.VipsSlideReader object at 0x7f0567d68320> True (375, 300, 3)\n",
      "<Slide, name = B_213-ST_BFIW-SE_2632_processed>, width=300, height=375, channels=3, levels=1, RGB=True, dtype=uint8> <valis.slide_io.VipsSlideReader object at 0x7f0567d40380> True (375, 300, 3)\n",
      "<Slide, name = B_213-ST_BFIW-SE_2633_processed>, width=300, height=375, channels=3, levels=1, RGB=True, dtype=uint8> <valis.slide_io.VipsSlideReader object at 0x7f0567d403e0> True (375, 300, 3)\n",
      "<Slide, name = B_213-ST_BFIW-SE_2634_processed>, width=300, height=375, channels=3, levels=1, RGB=True, dtype=uint8> <valis.slide_io.VipsSlideReader object at 0x7f0567d68440> True (375, 300, 3)\n",
      "<Slide, name = B_213-ST_BFIW-SE_2635_processed>, width=300, height=375, channels=3, levels=1, RGB=True, dtype=uint8> <valis.slide_io.VipsSlideReader object at 0x7f0567d104a0> True (375, 300, 3)\n"
     ]
    },
    {
     "name": "stderr",
     "output_type": "stream",
     "text": [
      "Converting images: 100%|██████████████████████████████████████████████▉| 2604/2608 [00:35<00:00, 88.24image/s]"
     ]
    },
    {
     "name": "stdout",
     "output_type": "stream",
     "text": [
      "<Slide, name = B_213-ST_BFIW-SE_2636_processed>, width=300, height=375, channels=3, levels=1, RGB=True, dtype=uint8> <valis.slide_io.VipsSlideReader object at 0x7f0567d70350> True (375, 300, 3)\n",
      "<Slide, name = B_213-ST_BFIW-SE_2637_processed>, width=300, height=375, channels=3, levels=1, RGB=True, dtype=uint8> <valis.slide_io.VipsSlideReader object at 0x7f0567d70560> True (375, 300, 3)\n",
      "<Slide, name = B_213-ST_BFIW-SE_2638_processed>, width=300, height=375, channels=3, levels=1, RGB=True, dtype=uint8> <valis.slide_io.VipsSlideReader object at 0x7f0567d701d0> True (375, 300, 3)\n",
      "<Slide, name = B_213-ST_BFIW-SE_2639_processed>, width=300, height=375, channels=3, levels=1, RGB=True, dtype=uint8> <valis.slide_io.VipsSlideReader object at 0x7f0567d682c0> True (375, 300, 3)\n"
     ]
    },
    {
     "name": "stderr",
     "output_type": "stream",
     "text": [
      "Converting images: 100%|███████████████████████████████████████████████| 2608/2608 [00:35<00:00, 74.30image/s]\n"
     ]
    },
    {
     "name": "stdout",
     "output_type": "stream",
     "text": [
      "\n",
      "==== Processing images\n",
      "\n"
     ]
    },
    {
     "name": "stderr",
     "output_type": "stream",
     "text": [
      "Processing images : 100%|██████████████████████████████████████████████| 2608/2608 [15:11<00:00,  2.86image/s]\n",
      "Normalizing images: 100%|██████████████████████████████████████████████| 2608/2608 [03:34<00:00, 12.18image/s]\n"
     ]
    },
    {
     "name": "stdout",
     "output_type": "stream",
     "text": [
      "\n",
      "==== Rigid registration\n",
      "\n"
     ]
    },
    {
     "name": "stderr",
     "output_type": "stream",
     "text": [
      "/usr/local/src/valis/valtils.py:25: UserWarning: ('The reference was specified as B_213-ST_BFIW-SE_1606_processed ', 'but `align_to_reference` is `False`, and so images will be aligned serially *towards* the reference image. ', 'If you would like all images to be *directly* aligned to B_213-ST_BFIW-SE_1606_processed, then set `align_to_reference` to `True`. Note that in both cases, B_213-ST_BFIW-SE_1606_processed will remain unwarped.')\n",
      "  warnings.warn(warning_msg, warning_type)\n",
      "Detecting features   : 100%|███████████████████████████████████████████| 2625/2625 [01:52<00:00, 23.27image/s]\n",
      "/usr/local/src/valis/valtils.py:25: UserWarning: cannot access local variable 'slide_obj' where it is not associated with a value\n",
      "  warnings.warn(warning_msg, warning_type)\n"
     ]
    },
    {
     "name": "stdout",
     "output_type": "stream",
     "text": [
      "Traceback (most recent call last):\n",
      "  File \"/usr/local/src/valis/registration.py\", line 4608, in register\n",
      "    rigid_registrar = self.rigid_register()\n",
      "                      ^^^^^^^^^^^^^^^^^^^^^\n",
      "  File \"/usr/local/src/valis/registration.py\", line 3291, in rigid_register\n",
      "    rigid_registrar = serial_rigid.register_images(self.processed_dir,\n",
      "                      ^^^^^^^^^^^^^^^^^^^^^^^^^^^^^^^^^^^^^^^^^^^^^^^^\n",
      "  File \"/usr/local/src/valis/serial_rigid.py\", line 1527, in register_images\n",
      "    slide_obj = valis_obj.get_slide(img_obj.name)\n",
      "                ^^^^^^^^^^^^^^^^^^^^^^^^^^^^^^^^^\n",
      "  File \"/usr/local/src/valis/registration.py\", line 2323, in get_slide\n",
      "    return slide_obj\n",
      "           ^^^^^^^^^\n",
      "UnboundLocalError: cannot access local variable 'slide_obj' where it is not associated with a value\n",
      "\n",
      "JVM has been killed. If this was due to an error, then a new Python session will need to be started\n"
     ]
    }
   ],
   "source": [
    "#slide_src_dir = './cropped_imgs_new1/'\n",
    "slide_src_dir = '../keerthi_data/BFIW_processed/'\n",
    "results_dst_dir = '/storage/valis_reg/valis_process_s'\n",
    "registered_slide_dst_dir = \"/storage/valis_reg/valis_process_s/registered_slides\"\n",
    "os.makedirs(results_dst_dir, exist_ok=True)\n",
    "os.makedirs(registered_slide_dst_dir, exist_ok=True)\n",
    "reference_slide = \"/storage/keerthi_data/BFIW_processed/B_213-ST_BFIW-SE_1606_processed.jpg\"\n",
    "registrar = registration.Valis(slide_src_dir, results_dst_dir, reference_img_f=reference_slide)\n",
    "\n",
    "#registrar.name_dict = imgs_ordered\n",
    "registrar.imgs_ordered=True\n",
    "registrar.crop='overlap'\n",
    "rigid_registrar, non_rigid_registrar, error_df = registrar.register()"
   ]
  },
  {
   "cell_type": "code",
   "execution_count": 5,
   "metadata": {},
   "outputs": [
    {
     "name": "stderr",
     "output_type": "stream",
     "text": [
      "/usr/local/src/valis/valtils.py:92: SyntaxWarning: invalid escape sequence '\\.'\n",
      "  if re.search(\"\\.\", f) is None:\n"
     ]
    },
    {
     "ename": "TypeError",
     "evalue": "'<' not supported between instances of 'NoneType' and 'NoneType'",
     "output_type": "error",
     "traceback": [
      "\u001b[0;31m---------------------------------------------------------------------------\u001b[0m",
      "\u001b[0;31mTypeError\u001b[0m                                 Traceback (most recent call last)",
      "Cell \u001b[0;32mIn[5], line 2\u001b[0m\n\u001b[1;32m      1\u001b[0m \u001b[38;5;66;03m#registered_slide_dst_dir = \"/storage/valis_reg/valis_process_s/BFIW_processed/\"\u001b[39;00m\n\u001b[0;32m----> 2\u001b[0m \u001b[43mregistrar\u001b[49m\u001b[38;5;241;43m.\u001b[39;49m\u001b[43mwarp_and_save_slides\u001b[49m\u001b[43m(\u001b[49m\u001b[43mregistered_slide_dst_dir\u001b[49m\u001b[43m,\u001b[49m\u001b[43m \u001b[49m\u001b[43mcrop\u001b[49m\u001b[38;5;241;43m=\u001b[39;49m\u001b[38;5;124;43m\"\u001b[39;49m\u001b[38;5;124;43moverlap\u001b[39;49m\u001b[38;5;124;43m\"\u001b[39;49m\u001b[43m)\u001b[49m\n",
      "File \u001b[0;32m/usr/local/src/valis/valtils.py:36\u001b[0m, in \u001b[0;36mdeprecated_args.<locals>.deco.<locals>.wrapper\u001b[0;34m(*args, **kwargs)\u001b[0m\n\u001b[1;32m     33\u001b[0m \u001b[38;5;129m@functools\u001b[39m\u001b[38;5;241m.\u001b[39mwraps(f)\n\u001b[1;32m     34\u001b[0m \u001b[38;5;28;01mdef\u001b[39;00m \u001b[38;5;21mwrapper\u001b[39m(\u001b[38;5;241m*\u001b[39margs, \u001b[38;5;241m*\u001b[39m\u001b[38;5;241m*\u001b[39mkwargs):\n\u001b[1;32m     35\u001b[0m     rename_kwargs(f\u001b[38;5;241m.\u001b[39m\u001b[38;5;18m__name__\u001b[39m, kwargs, aliases)\n\u001b[0;32m---> 36\u001b[0m     \u001b[38;5;28;01mreturn\u001b[39;00m \u001b[43mf\u001b[49m\u001b[43m(\u001b[49m\u001b[38;5;241;43m*\u001b[39;49m\u001b[43margs\u001b[49m\u001b[43m,\u001b[49m\u001b[43m \u001b[49m\u001b[38;5;241;43m*\u001b[39;49m\u001b[38;5;241;43m*\u001b[39;49m\u001b[43mkwargs\u001b[49m\u001b[43m)\u001b[49m\n",
      "File \u001b[0;32m/usr/local/src/valis/registration.py:5002\u001b[0m, in \u001b[0;36mValis.warp_and_save_slides\u001b[0;34m(self, dst_dir, level, non_rigid, crop, colormap, interp_method, tile_wh, compression, Q, pyramid)\u001b[0m\n\u001b[1;32m   4956\u001b[0m \u001b[38;5;124mf\u001b[39m\u001b[38;5;124m\"\"\"\u001b[39m\u001b[38;5;124mWarp and save all slides\u001b[39m\n\u001b[1;32m   4957\u001b[0m \n\u001b[1;32m   4958\u001b[0m \u001b[38;5;124mEach slide will be saved as an ome.tiff. The extension of each file will\u001b[39m\n\u001b[0;32m   (...)\u001b[0m\n\u001b[1;32m   4998\u001b[0m \n\u001b[1;32m   4999\u001b[0m \u001b[38;5;124m\u001b[39m\u001b[38;5;124m\"\"\"\u001b[39m\n\u001b[1;32m   5000\u001b[0m pathlib\u001b[38;5;241m.\u001b[39mPath(dst_dir)\u001b[38;5;241m.\u001b[39mmkdir(exist_ok\u001b[38;5;241m=\u001b[39m\u001b[38;5;28;01mTrue\u001b[39;00m, parents\u001b[38;5;241m=\u001b[39m\u001b[38;5;28;01mTrue\u001b[39;00m)\n\u001b[0;32m-> 5002\u001b[0m src_f_list \u001b[38;5;241m=\u001b[39m \u001b[38;5;28;43mself\u001b[39;49m\u001b[38;5;241;43m.\u001b[39;49m\u001b[43mget_sorted_img_f_list\u001b[49m\u001b[43m(\u001b[49m\u001b[43m)\u001b[49m\n\u001b[1;32m   5003\u001b[0m cmap_is_str \u001b[38;5;241m=\u001b[39m \u001b[38;5;28;01mFalse\u001b[39;00m\n\u001b[1;32m   5004\u001b[0m named_color_map \u001b[38;5;241m=\u001b[39m \u001b[38;5;28;01mNone\u001b[39;00m\n",
      "File \u001b[0;32m/usr/local/src/valis/registration.py:4944\u001b[0m, in \u001b[0;36mValis.get_sorted_img_f_list\u001b[0;34m(self)\u001b[0m\n\u001b[1;32m   4942\u001b[0m \u001b[38;5;28;01mdef\u001b[39;00m \u001b[38;5;21mget_sorted_img_f_list\u001b[39m(\u001b[38;5;28mself\u001b[39m):\n\u001b[1;32m   4943\u001b[0m     img_idx \u001b[38;5;241m=\u001b[39m [slide_obj\u001b[38;5;241m.\u001b[39mstack_idx \u001b[38;5;28;01mfor\u001b[39;00m slide_obj \u001b[38;5;129;01min\u001b[39;00m \u001b[38;5;28mself\u001b[39m\u001b[38;5;241m.\u001b[39mslide_dict\u001b[38;5;241m.\u001b[39mvalues()]\n\u001b[0;32m-> 4944\u001b[0m     img_order \u001b[38;5;241m=\u001b[39m \u001b[43mnp\u001b[49m\u001b[38;5;241;43m.\u001b[39;49m\u001b[43margsort\u001b[49m\u001b[43m(\u001b[49m\u001b[43mimg_idx\u001b[49m\u001b[43m)\u001b[49m\n\u001b[1;32m   4945\u001b[0m     src_f_list \u001b[38;5;241m=\u001b[39m [\u001b[38;5;28mself\u001b[39m\u001b[38;5;241m.\u001b[39moriginal_img_list[i] \u001b[38;5;28;01mfor\u001b[39;00m i \u001b[38;5;129;01min\u001b[39;00m img_order]\n\u001b[1;32m   4947\u001b[0m     \u001b[38;5;28;01mreturn\u001b[39;00m src_f_list\n",
      "File \u001b[0;32m/usr/local/src/.venv/lib/python3.12/site-packages/numpy/core/fromnumeric.py:1133\u001b[0m, in \u001b[0;36margsort\u001b[0;34m(a, axis, kind, order)\u001b[0m\n\u001b[1;32m   1025\u001b[0m \u001b[38;5;129m@array_function_dispatch\u001b[39m(_argsort_dispatcher)\n\u001b[1;32m   1026\u001b[0m \u001b[38;5;28;01mdef\u001b[39;00m \u001b[38;5;21margsort\u001b[39m(a, axis\u001b[38;5;241m=\u001b[39m\u001b[38;5;241m-\u001b[39m\u001b[38;5;241m1\u001b[39m, kind\u001b[38;5;241m=\u001b[39m\u001b[38;5;28;01mNone\u001b[39;00m, order\u001b[38;5;241m=\u001b[39m\u001b[38;5;28;01mNone\u001b[39;00m):\n\u001b[1;32m   1027\u001b[0m \u001b[38;5;250m    \u001b[39m\u001b[38;5;124;03m\"\"\"\u001b[39;00m\n\u001b[1;32m   1028\u001b[0m \u001b[38;5;124;03m    Returns the indices that would sort an array.\u001b[39;00m\n\u001b[1;32m   1029\u001b[0m \n\u001b[0;32m   (...)\u001b[0m\n\u001b[1;32m   1131\u001b[0m \n\u001b[1;32m   1132\u001b[0m \u001b[38;5;124;03m    \"\"\"\u001b[39;00m\n\u001b[0;32m-> 1133\u001b[0m     \u001b[38;5;28;01mreturn\u001b[39;00m \u001b[43m_wrapfunc\u001b[49m\u001b[43m(\u001b[49m\u001b[43ma\u001b[49m\u001b[43m,\u001b[49m\u001b[43m \u001b[49m\u001b[38;5;124;43m'\u001b[39;49m\u001b[38;5;124;43margsort\u001b[39;49m\u001b[38;5;124;43m'\u001b[39;49m\u001b[43m,\u001b[49m\u001b[43m \u001b[49m\u001b[43maxis\u001b[49m\u001b[38;5;241;43m=\u001b[39;49m\u001b[43maxis\u001b[49m\u001b[43m,\u001b[49m\u001b[43m \u001b[49m\u001b[43mkind\u001b[49m\u001b[38;5;241;43m=\u001b[39;49m\u001b[43mkind\u001b[49m\u001b[43m,\u001b[49m\u001b[43m \u001b[49m\u001b[43morder\u001b[49m\u001b[38;5;241;43m=\u001b[39;49m\u001b[43morder\u001b[49m\u001b[43m)\u001b[49m\n",
      "File \u001b[0;32m/usr/local/src/.venv/lib/python3.12/site-packages/numpy/core/fromnumeric.py:56\u001b[0m, in \u001b[0;36m_wrapfunc\u001b[0;34m(obj, method, *args, **kwds)\u001b[0m\n\u001b[1;32m     54\u001b[0m bound \u001b[38;5;241m=\u001b[39m \u001b[38;5;28mgetattr\u001b[39m(obj, method, \u001b[38;5;28;01mNone\u001b[39;00m)\n\u001b[1;32m     55\u001b[0m \u001b[38;5;28;01mif\u001b[39;00m bound \u001b[38;5;129;01mis\u001b[39;00m \u001b[38;5;28;01mNone\u001b[39;00m:\n\u001b[0;32m---> 56\u001b[0m     \u001b[38;5;28;01mreturn\u001b[39;00m \u001b[43m_wrapit\u001b[49m\u001b[43m(\u001b[49m\u001b[43mobj\u001b[49m\u001b[43m,\u001b[49m\u001b[43m \u001b[49m\u001b[43mmethod\u001b[49m\u001b[43m,\u001b[49m\u001b[43m \u001b[49m\u001b[38;5;241;43m*\u001b[39;49m\u001b[43margs\u001b[49m\u001b[43m,\u001b[49m\u001b[43m \u001b[49m\u001b[38;5;241;43m*\u001b[39;49m\u001b[38;5;241;43m*\u001b[39;49m\u001b[43mkwds\u001b[49m\u001b[43m)\u001b[49m\n\u001b[1;32m     58\u001b[0m \u001b[38;5;28;01mtry\u001b[39;00m:\n\u001b[1;32m     59\u001b[0m     \u001b[38;5;28;01mreturn\u001b[39;00m bound(\u001b[38;5;241m*\u001b[39margs, \u001b[38;5;241m*\u001b[39m\u001b[38;5;241m*\u001b[39mkwds)\n",
      "File \u001b[0;32m/usr/local/src/.venv/lib/python3.12/site-packages/numpy/core/fromnumeric.py:45\u001b[0m, in \u001b[0;36m_wrapit\u001b[0;34m(obj, method, *args, **kwds)\u001b[0m\n\u001b[1;32m     43\u001b[0m \u001b[38;5;28;01mexcept\u001b[39;00m \u001b[38;5;167;01mAttributeError\u001b[39;00m:\n\u001b[1;32m     44\u001b[0m     wrap \u001b[38;5;241m=\u001b[39m \u001b[38;5;28;01mNone\u001b[39;00m\n\u001b[0;32m---> 45\u001b[0m result \u001b[38;5;241m=\u001b[39m \u001b[38;5;28;43mgetattr\u001b[39;49m\u001b[43m(\u001b[49m\u001b[43masarray\u001b[49m\u001b[43m(\u001b[49m\u001b[43mobj\u001b[49m\u001b[43m)\u001b[49m\u001b[43m,\u001b[49m\u001b[43m \u001b[49m\u001b[43mmethod\u001b[49m\u001b[43m)\u001b[49m\u001b[43m(\u001b[49m\u001b[38;5;241;43m*\u001b[39;49m\u001b[43margs\u001b[49m\u001b[43m,\u001b[49m\u001b[43m \u001b[49m\u001b[38;5;241;43m*\u001b[39;49m\u001b[38;5;241;43m*\u001b[39;49m\u001b[43mkwds\u001b[49m\u001b[43m)\u001b[49m\n\u001b[1;32m     46\u001b[0m \u001b[38;5;28;01mif\u001b[39;00m wrap:\n\u001b[1;32m     47\u001b[0m     \u001b[38;5;28;01mif\u001b[39;00m \u001b[38;5;129;01mnot\u001b[39;00m \u001b[38;5;28misinstance\u001b[39m(result, mu\u001b[38;5;241m.\u001b[39mndarray):\n",
      "\u001b[0;31mTypeError\u001b[0m: '<' not supported between instances of 'NoneType' and 'NoneType'"
     ]
    }
   ],
   "source": [
    "#registered_slide_dst_dir = \"/storage/valis_reg/valis_process_s/BFIW_processed/\"\n",
    "registrar.warp_and_save_slides(registered_slide_dst_dir, crop=\"overlap\")"
   ]
  },
  {
   "cell_type": "code",
   "execution_count": null,
   "metadata": {},
   "outputs": [],
   "source": [
    "!export OPENBLAS_NUM_THREADS=32"
   ]
  },
  {
   "cell_type": "code",
   "execution_count": null,
   "metadata": {},
   "outputs": [],
   "source": []
  },
  {
   "cell_type": "code",
   "execution_count": null,
   "metadata": {},
   "outputs": [],
   "source": []
  }
 ],
 "metadata": {
  "kernelspec": {
   "display_name": "Python 3 (ipykernel)",
   "language": "python",
   "name": "python3"
  },
  "language_info": {
   "codemirror_mode": {
    "name": "ipython",
    "version": 3
   },
   "file_extension": ".py",
   "mimetype": "text/x-python",
   "name": "python",
   "nbconvert_exporter": "python",
   "pygments_lexer": "ipython3",
   "version": "3.12.3"
  }
 },
 "nbformat": 4,
 "nbformat_minor": 4
}
