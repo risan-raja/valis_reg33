{
 "cells": [
  {
   "cell_type": "code",
   "execution_count": 1,
   "metadata": {},
   "outputs": [
    {
     "name": "stderr",
     "output_type": "stream",
     "text": [
      "/usr/local/src/.venv/lib/python3.12/site-packages/SimpleITK/extra.py:457: SyntaxWarning: invalid escape sequence '\\s'\n",
      "  \"\"\"Blurs an image by separable convolution with discrete\n",
      "/usr/local/src/valis/valtils.py:92: SyntaxWarning: invalid escape sequence '\\.'\n",
      "  if re.search(\"\\.\", f) is None:\n"
     ]
    }
   ],
   "source": [
    "import cv2\n",
    "import os\n",
    "import re\n",
    "import matplotlib.pyplot as plt\n",
    "import ants\n",
    "import valis\n",
    "from valis import registration, feature_detectors, non_rigid_registrars, affine_optimizer\n",
    "\n",
    "non_rigid_registrar_cls = non_rigid_registrars.SimpleElastixWarper"
   ]
  },
  {
   "cell_type": "code",
   "execution_count": 2,
   "metadata": {},
   "outputs": [],
   "source": [
    "def sort_files_by_digit(directory):\n",
    "    \"\"\"Sorts files in a directory based on the digit before \"_processed.jpg\".\n",
    "\n",
    "    Args:\n",
    "        directory: The directory path containing the files.\n",
    "    \"\"\"\n",
    "\n",
    "    files = os.listdir(directory)\n",
    "    file_info = []\n",
    "\n",
    "    for file in files:\n",
    "        if file.endswith(\"_processed.jpg\"):\n",
    "            digit = file.split(\"_\")[3]\n",
    "            try:\n",
    "                digit = int(digit)\n",
    "                file_info.append((digit, file))\n",
    "            except ValueError:\n",
    "                # Handle files without a digit prefix\n",
    "                pass\n",
    "\n",
    "    # Sort the files based on the digit\n",
    "    sorted_files = sorted(file_info, key=lambda x: x[0])\n",
    "\n",
    "    # Extract the original file names from the sorted tuples\n",
    "    sorted_file_names = [file[1] for file in sorted_files]\n",
    "\n",
    "    return sorted_file_names\n",
    "\n",
    "# Example usage\n",
    "#directory_path = \"./cropped_imgs_new/\"\n",
    "#sorted_files = sort_files_by_digit(directory_path)\n",
    "#print(sorted_files)"
   ]
  },
  {
   "cell_type": "code",
   "execution_count": 3,
   "metadata": {},
   "outputs": [],
   "source": [
    "from valis import registration\n",
    "from natsort import natsorted \n",
    "#img_dir = './cropped_imgs_new/'\n",
    "img_dir ='../keerthi_data/BFIW_processed/'\n",
    "#imgs = os.listdir(img_dir)\n",
    "#regex = re.compile(r\".*.jpg\")\n",
    "imgs = sort_files_by_digit(img_dir)"
   ]
  },
  {
   "cell_type": "code",
   "execution_count": null,
   "metadata": {},
   "outputs": [
    {
     "name": "stdout",
     "output_type": "stream",
     "text": [
      "\n",
      "==== Converting images\n",
      "\n"
     ]
    },
    {
     "name": "stderr",
     "output_type": "stream",
     "text": [
      "Converting images:   0%|                                                          | 0/2627 [00:00<?, ?image/s]"
     ]
    },
    {
     "name": "stdout",
     "output_type": "stream",
     "text": [
      "<Slide, name = B_213-ST_BFIW-SE_2_processed>, width=300, height=375, channels=3, levels=1, RGB=True, dtype=uint8> <valis.slide_io.VipsSlideReader object at 0x7f4137bdf1d0> True (375, 300, 3)\n",
      "<Slide, name = B_213-ST_BFIW-SE_3_processed>, width=300, height=375, channels=3, levels=1, RGB=True, dtype=uint8> <valis.slide_io.VipsSlideReader object at 0x7f4137bdc890> True (375, 300, 3)\n",
      "<Slide, name = B_213-ST_BFIW-SE_4_processed>, width=300, height=375, channels=3, levels=1, RGB=True, dtype=uint8> <valis.slide_io.VipsSlideReader object at 0x7f4137be3d40> True (375, 300, 3)\n",
      "<Slide, name = B_213-ST_BFIW-SE_5_processed>, width=300, height=375, channels=3, levels=1, RGB=True, dtype=uint8> <valis.slide_io.VipsSlideReader object at 0x7f4137da5820> True (375, 300, 3)\n",
      "<Slide, name = B_213-ST_BFIW-SE_6_processed>, width=300, height=375, channels=3, levels=1, RGB=True, dtype=uint8> <valis.slide_io.VipsSlideReader object at 0x7f41377fedb0> True (375, 300, 3)\n",
      "<Slide, name = B_213-ST_BFIW-SE_7_processed>, width=300, height=375, channels=3, levels=1, RGB=True, dtype=uint8> <valis.slide_io.VipsSlideReader object at 0x7f41377fea80> True (375, 300, 3)\n",
      "<Slide, name = B_213-ST_BFIW-SE_8_processed>, width=300, height=375, channels=3, levels=1, RGB=True, dtype=uint8> <valis.slide_io.VipsSlideReader object at 0x7f41377feff0> True (375, 300, 3)\n",
      "<Slide, name = B_213-ST_BFIW-SE_9_processed>, width=300, height=375, channels=3, levels=1, RGB=True, dtype=uint8> <valis.slide_io.VipsSlideReader object at 0x7f41377ff080> True (375, 300, 3)\n",
      "<Slide, name = B_213-ST_BFIW-SE_10_processed>, width=300, height=375, channels=3, levels=1, RGB=True, dtype=uint8> <valis.slide_io.VipsSlideReader object at 0x7f41377ff1d0> True (375, 300, 3)\n"
     ]
    },
    {
     "name": "stderr",
     "output_type": "stream",
     "text": [
      "Converting images:   0%|▏                                                 | 9/2627 [00:00<00:31, 82.26image/s]"
     ]
    },
    {
     "name": "stdout",
     "output_type": "stream",
     "text": [
      "<Slide, name = B_213-ST_BFIW-SE_11_processed>, width=300, height=375, channels=3, levels=1, RGB=True, dtype=uint8> <valis.slide_io.VipsSlideReader object at 0x7f41377ff290> True (375, 300, 3)\n",
      "<Slide, name = B_213-ST_BFIW-SE_12_processed>, width=300, height=375, channels=3, levels=1, RGB=True, dtype=uint8> <valis.slide_io.VipsSlideReader object at 0x7f41377ff350> True (375, 300, 3)\n",
      "<Slide, name = B_213-ST_BFIW-SE_13_processed>, width=300, height=375, channels=3, levels=1, RGB=True, dtype=uint8> <valis.slide_io.VipsSlideReader object at 0x7f41377ff410> True (375, 300, 3)\n",
      "<Slide, name = B_213-ST_BFIW-SE_14_processed>, width=300, height=375, channels=3, levels=1, RGB=True, dtype=uint8> <valis.slide_io.VipsSlideReader object at 0x7f41377ff4d0> True (375, 300, 3)\n",
      "<Slide, name = B_213-ST_BFIW-SE_38_processed>, width=300, height=375, channels=3, levels=1, RGB=True, dtype=uint8> <valis.slide_io.VipsSlideReader object at 0x7f41377faf90> True (375, 300, 3)\n",
      "<Slide, name = B_213-ST_BFIW-SE_39_processed>, width=300, height=375, channels=3, levels=1, RGB=True, dtype=uint8> <valis.slide_io.VipsSlideReader object at 0x7f41377fe270> True (375, 300, 3)\n",
      "<Slide, name = B_213-ST_BFIW-SE_40_processed>, width=300, height=375, channels=3, levels=1, RGB=True, dtype=uint8> <valis.slide_io.VipsSlideReader object at 0x7f41377ff440> True (375, 300, 3)\n",
      "<Slide, name = B_213-ST_BFIW-SE_41_processed>, width=300, height=375, channels=3, levels=1, RGB=True, dtype=uint8> <valis.slide_io.VipsSlideReader object at 0x7f41377ff740> True (375, 300, 3)\n",
      "<Slide, name = B_213-ST_BFIW-SE_42_processed>, width=300, height=375, channels=3, levels=1, RGB=True, dtype=uint8> <valis.slide_io.VipsSlideReader object at 0x7f4137bdecf0> True (375, 300, 3)\n"
     ]
    },
    {
     "name": "stderr",
     "output_type": "stream",
     "text": [
      "Converting images:   1%|▎                                                | 18/2627 [00:00<00:31, 82.00image/s]"
     ]
    },
    {
     "name": "stdout",
     "output_type": "stream",
     "text": [
      "<Slide, name = B_213-ST_BFIW-SE_43_processed>, width=300, height=375, channels=3, levels=1, RGB=True, dtype=uint8> <valis.slide_io.VipsSlideReader object at 0x7f41377fe990> True (375, 300, 3)\n",
      "<Slide, name = B_213-ST_BFIW-SE_44_processed>, width=300, height=375, channels=3, levels=1, RGB=True, dtype=uint8> <valis.slide_io.VipsSlideReader object at 0x7f41377ff6b0> True (375, 300, 3)\n",
      "<Slide, name = B_213-ST_BFIW-SE_45_processed>, width=300, height=375, channels=3, levels=1, RGB=True, dtype=uint8> <valis.slide_io.VipsSlideReader object at 0x7f41377ff980> True (375, 300, 3)\n",
      "<Slide, name = B_213-ST_BFIW-SE_46_processed>, width=300, height=375, channels=3, levels=1, RGB=True, dtype=uint8> <valis.slide_io.VipsSlideReader object at 0x7f41377ffa70> True (375, 300, 3)\n",
      "<Slide, name = B_213-ST_BFIW-SE_47_processed>, width=300, height=375, channels=3, levels=1, RGB=True, dtype=uint8> <valis.slide_io.VipsSlideReader object at 0x7f41377ffb30> True (375, 300, 3)\n",
      "<Slide, name = B_213-ST_BFIW-SE_48_processed>, width=300, height=375, channels=3, levels=1, RGB=True, dtype=uint8> <valis.slide_io.VipsSlideReader object at 0x7f41377ffbc0> True (375, 300, 3)\n",
      "<Slide, name = B_213-ST_BFIW-SE_49_processed>, width=300, height=375, channels=3, levels=1, RGB=True, dtype=uint8> <valis.slide_io.VipsSlideReader object at 0x7f41377ffc50> True (375, 300, 3)\n",
      "<Slide, name = B_213-ST_BFIW-SE_50_processed>, width=300, height=375, channels=3, levels=1, RGB=True, dtype=uint8> <valis.slide_io.VipsSlideReader object at 0x7f41377ffd10> True (375, 300, 3)\n",
      "<Slide, name = B_213-ST_BFIW-SE_51_processed>, width=300, height=375, channels=3, levels=1, RGB=True, dtype=uint8> <valis.slide_io.VipsSlideReader object at 0x7f41377ffda0> True (375, 300, 3)\n"
     ]
    },
    {
     "name": "stderr",
     "output_type": "stream",
     "text": [
      "Converting images:   1%|▌                                                | 27/2627 [00:00<00:30, 84.54image/s]"
     ]
    },
    {
     "name": "stdout",
     "output_type": "stream",
     "text": [
      "<Slide, name = B_213-ST_BFIW-SE_52_processed>, width=300, height=375, channels=3, levels=1, RGB=True, dtype=uint8> <valis.slide_io.VipsSlideReader object at 0x7f41377ffe60> True (375, 300, 3)\n",
      "<Slide, name = B_213-ST_BFIW-SE_53_processed>, width=300, height=375, channels=3, levels=1, RGB=True, dtype=uint8> <valis.slide_io.VipsSlideReader object at 0x7f41377ffef0> True (375, 300, 3)\n",
      "<Slide, name = B_213-ST_BFIW-SE_54_processed>, width=300, height=375, channels=3, levels=1, RGB=True, dtype=uint8> <valis.slide_io.VipsSlideReader object at 0x7f41377fff80> True (375, 300, 3)\n",
      "<Slide, name = B_213-ST_BFIW-SE_55_processed>, width=300, height=375, channels=3, levels=1, RGB=True, dtype=uint8> <valis.slide_io.VipsSlideReader object at 0x7f41377fff20> True (375, 300, 3)\n",
      "<Slide, name = B_213-ST_BFIW-SE_56_processed>, width=300, height=375, channels=3, levels=1, RGB=True, dtype=uint8> <valis.slide_io.VipsSlideReader object at 0x7f41377feba0> True (375, 300, 3)\n",
      "<Slide, name = B_213-ST_BFIW-SE_57_processed>, width=300, height=375, channels=3, levels=1, RGB=True, dtype=uint8> <valis.slide_io.VipsSlideReader object at 0x7f41377ff380> True (375, 300, 3)\n",
      "<Slide, name = B_213-ST_BFIW-SE_58_processed>, width=300, height=375, channels=3, levels=1, RGB=True, dtype=uint8> <valis.slide_io.VipsSlideReader object at 0x7f41377fdca0> True (375, 300, 3)\n",
      "<Slide, name = B_213-ST_BFIW-SE_59_processed>, width=300, height=375, channels=3, levels=1, RGB=True, dtype=uint8> <valis.slide_io.VipsSlideReader object at 0x7f4137800260> True (375, 300, 3)\n",
      "<Slide, name = B_213-ST_BFIW-SE_60_processed>, width=300, height=375, channels=3, levels=1, RGB=True, dtype=uint8> <valis.slide_io.VipsSlideReader object at 0x7f4137800140> True (375, 300, 3)\n"
     ]
    },
    {
     "name": "stderr",
     "output_type": "stream",
     "text": [
      "Converting images:   1%|▋                                                | 36/2627 [00:00<00:30, 85.70image/s]"
     ]
    },
    {
     "name": "stdout",
     "output_type": "stream",
     "text": [
      "<Slide, name = B_213-ST_BFIW-SE_61_processed>, width=300, height=375, channels=3, levels=1, RGB=True, dtype=uint8> <valis.slide_io.VipsSlideReader object at 0x7f4137800410> True (375, 300, 3)\n",
      "<Slide, name = B_213-ST_BFIW-SE_62_processed>, width=300, height=375, channels=3, levels=1, RGB=True, dtype=uint8> <valis.slide_io.VipsSlideReader object at 0x7f41378004a0> True (375, 300, 3)\n",
      "<Slide, name = B_213-ST_BFIW-SE_63_processed>, width=300, height=375, channels=3, levels=1, RGB=True, dtype=uint8> <valis.slide_io.VipsSlideReader object at 0x7f4137800590> True (375, 300, 3)\n",
      "<Slide, name = B_213-ST_BFIW-SE_64_processed>, width=300, height=375, channels=3, levels=1, RGB=True, dtype=uint8> <valis.slide_io.VipsSlideReader object at 0x7f4137800620> True (375, 300, 3)\n",
      "<Slide, name = B_213-ST_BFIW-SE_65_processed>, width=300, height=375, channels=3, levels=1, RGB=True, dtype=uint8> <valis.slide_io.VipsSlideReader object at 0x7f4137be8f50> True (375, 300, 3)\n",
      "<Slide, name = B_213-ST_BFIW-SE_66_processed>, width=300, height=375, channels=3, levels=1, RGB=True, dtype=uint8> <valis.slide_io.VipsSlideReader object at 0x7f4137801460> True (375, 300, 3)\n",
      "<Slide, name = B_213-ST_BFIW-SE_67_processed>, width=300, height=375, channels=3, levels=1, RGB=True, dtype=uint8> <valis.slide_io.VipsSlideReader object at 0x7f41378005c0> True (375, 300, 3)\n",
      "<Slide, name = B_213-ST_BFIW-SE_68_processed>, width=300, height=375, channels=3, levels=1, RGB=True, dtype=uint8> <valis.slide_io.VipsSlideReader object at 0x7f4137800860> True (375, 300, 3)\n",
      "<Slide, name = B_213-ST_BFIW-SE_69_processed>, width=300, height=375, channels=3, levels=1, RGB=True, dtype=uint8> <valis.slide_io.VipsSlideReader object at 0x7f4137bd81a0> True (375, 300, 3)\n",
      "<Slide, name = B_213-ST_BFIW-SE_70_processed>, width=300, height=375, channels=3, levels=1, RGB=True, dtype=uint8> <valis.slide_io.VipsSlideReader object at 0x7f4137800200> True (375, 300, 3)\n"
     ]
    },
    {
     "name": "stderr",
     "output_type": "stream",
     "text": [
      "Converting images:   2%|▊                                                | 46/2627 [00:00<00:29, 87.36image/s]"
     ]
    },
    {
     "name": "stdout",
     "output_type": "stream",
     "text": [
      "<Slide, name = B_213-ST_BFIW-SE_71_processed>, width=300, height=375, channels=3, levels=1, RGB=True, dtype=uint8> <valis.slide_io.VipsSlideReader object at 0x7f41378007d0> True (375, 300, 3)\n",
      "<Slide, name = B_213-ST_BFIW-SE_72_processed>, width=300, height=375, channels=3, levels=1, RGB=True, dtype=uint8> <valis.slide_io.VipsSlideReader object at 0x7f4137800ad0> True (375, 300, 3)\n",
      "<Slide, name = B_213-ST_BFIW-SE_73_processed>, width=300, height=375, channels=3, levels=1, RGB=True, dtype=uint8> <valis.slide_io.VipsSlideReader object at 0x7f4137800b60> True (375, 300, 3)\n",
      "<Slide, name = B_213-ST_BFIW-SE_74_processed>, width=300, height=375, channels=3, levels=1, RGB=True, dtype=uint8> <valis.slide_io.VipsSlideReader object at 0x7f4137800bf0> True (375, 300, 3)\n",
      "<Slide, name = B_213-ST_BFIW-SE_75_processed>, width=300, height=375, channels=3, levels=1, RGB=True, dtype=uint8> <valis.slide_io.VipsSlideReader object at 0x7f4137800c80> True (375, 300, 3)\n",
      "<Slide, name = B_213-ST_BFIW-SE_76_processed>, width=300, height=375, channels=3, levels=1, RGB=True, dtype=uint8> <valis.slide_io.VipsSlideReader object at 0x7f4137800da0> True (375, 300, 3)\n",
      "<Slide, name = B_213-ST_BFIW-SE_77_processed>, width=300, height=375, channels=3, levels=1, RGB=True, dtype=uint8> <valis.slide_io.VipsSlideReader object at 0x7f4137bd8b90> True (375, 300, 3)\n",
      "<Slide, name = B_213-ST_BFIW-SE_78_processed>, width=300, height=375, channels=3, levels=1, RGB=True, dtype=uint8> <valis.slide_io.VipsSlideReader object at 0x7f4137800650> True (375, 300, 3)\n",
      "<Slide, name = B_213-ST_BFIW-SE_79_processed>, width=300, height=375, channels=3, levels=1, RGB=True, dtype=uint8> <valis.slide_io.VipsSlideReader object at 0x7f4137800cb0> True (375, 300, 3)\n"
     ]
    },
    {
     "name": "stderr",
     "output_type": "stream",
     "text": [
      "Converting images:   2%|█                                                | 55/2627 [00:00<00:29, 87.40image/s]"
     ]
    },
    {
     "name": "stdout",
     "output_type": "stream",
     "text": [
      "<Slide, name = B_213-ST_BFIW-SE_80_processed>, width=300, height=375, channels=3, levels=1, RGB=True, dtype=uint8> <valis.slide_io.VipsSlideReader object at 0x7f4137801850> True (375, 300, 3)\n",
      "<Slide, name = B_213-ST_BFIW-SE_81_processed>, width=300, height=375, channels=3, levels=1, RGB=True, dtype=uint8> <valis.slide_io.VipsSlideReader object at 0x7f41378018e0> True (375, 300, 3)\n",
      "<Slide, name = B_213-ST_BFIW-SE_82_processed>, width=300, height=375, channels=3, levels=1, RGB=True, dtype=uint8> <valis.slide_io.VipsSlideReader object at 0x7f4137be0d70> True (375, 300, 3)\n",
      "<Slide, name = B_213-ST_BFIW-SE_83_processed>, width=300, height=375, channels=3, levels=1, RGB=True, dtype=uint8> <valis.slide_io.VipsSlideReader object at 0x7f4137800c20> True (375, 300, 3)\n",
      "<Slide, name = B_213-ST_BFIW-SE_84_processed>, width=300, height=375, channels=3, levels=1, RGB=True, dtype=uint8> <valis.slide_io.VipsSlideReader object at 0x7f4137801880> True (375, 300, 3)\n",
      "<Slide, name = B_213-ST_BFIW-SE_85_processed>, width=300, height=375, channels=3, levels=1, RGB=True, dtype=uint8> <valis.slide_io.VipsSlideReader object at 0x7f4137801bb0> True (375, 300, 3)\n",
      "<Slide, name = B_213-ST_BFIW-SE_86_processed>, width=300, height=375, channels=3, levels=1, RGB=True, dtype=uint8> <valis.slide_io.VipsSlideReader object at 0x7f4137801c40> True (375, 300, 3)\n",
      "<Slide, name = B_213-ST_BFIW-SE_87_processed>, width=300, height=375, channels=3, levels=1, RGB=True, dtype=uint8> <valis.slide_io.VipsSlideReader object at 0x7f4137801cd0> True (375, 300, 3)\n",
      "<Slide, name = B_213-ST_BFIW-SE_88_processed>, width=300, height=375, channels=3, levels=1, RGB=True, dtype=uint8> <valis.slide_io.VipsSlideReader object at 0x7f41377feb10> True (375, 300, 3)\n"
     ]
    },
    {
     "name": "stderr",
     "output_type": "stream",
     "text": [
      "Converting images:   2%|█▏                                               | 64/2627 [00:00<00:29, 87.79image/s]"
     ]
    },
    {
     "name": "stdout",
     "output_type": "stream",
     "text": [
      "<Slide, name = B_213-ST_BFIW-SE_89_processed>, width=300, height=375, channels=3, levels=1, RGB=True, dtype=uint8> <valis.slide_io.VipsSlideReader object at 0x7f41378000b0> True (375, 300, 3)\n",
      "<Slide, name = B_213-ST_BFIW-SE_90_processed>, width=300, height=375, channels=3, levels=1, RGB=True, dtype=uint8> <valis.slide_io.VipsSlideReader object at 0x7f4137801d30> True (375, 300, 3)\n",
      "<Slide, name = B_213-ST_BFIW-SE_91_processed>, width=300, height=375, channels=3, levels=1, RGB=True, dtype=uint8> <valis.slide_io.VipsSlideReader object at 0x7f4137801eb0> True (375, 300, 3)\n",
      "<Slide, name = B_213-ST_BFIW-SE_92_processed>, width=300, height=375, channels=3, levels=1, RGB=True, dtype=uint8> <valis.slide_io.VipsSlideReader object at 0x7f4137801f40> True (375, 300, 3)\n",
      "<Slide, name = B_213-ST_BFIW-SE_93_processed>, width=300, height=375, channels=3, levels=1, RGB=True, dtype=uint8> <valis.slide_io.VipsSlideReader object at 0x7f4137be9fd0> True (375, 300, 3)\n",
      "<Slide, name = B_213-ST_BFIW-SE_94_processed>, width=300, height=375, channels=3, levels=1, RGB=True, dtype=uint8> <valis.slide_io.VipsSlideReader object at 0x7f4137da8170> True (375, 300, 3)\n",
      "<Slide, name = B_213-ST_BFIW-SE_95_processed>, width=300, height=375, channels=3, levels=1, RGB=True, dtype=uint8> <valis.slide_io.VipsSlideReader object at 0x7f4137801e80> True (375, 300, 3)\n",
      "<Slide, name = B_213-ST_BFIW-SE_96_processed>, width=300, height=375, channels=3, levels=1, RGB=True, dtype=uint8> <valis.slide_io.VipsSlideReader object at 0x7f4137802030> True (375, 300, 3)\n",
      "<Slide, name = B_213-ST_BFIW-SE_97_processed>, width=300, height=375, channels=3, levels=1, RGB=True, dtype=uint8> <valis.slide_io.VipsSlideReader object at 0x7f4137801b50> True (375, 300, 3)\n",
      "<Slide, name = B_213-ST_BFIW-SE_98_processed>, width=300, height=375, channels=3, levels=1, RGB=True, dtype=uint8> <valis.slide_io.VipsSlideReader object at 0x7f4137802090> True (375, 300, 3)\n"
     ]
    },
    {
     "name": "stderr",
     "output_type": "stream",
     "text": [
      "Converting images:   3%|█▍                                               | 74/2627 [00:00<00:28, 88.49image/s]"
     ]
    },
    {
     "name": "stdout",
     "output_type": "stream",
     "text": [
      "<Slide, name = B_213-ST_BFIW-SE_99_processed>, width=300, height=375, channels=3, levels=1, RGB=True, dtype=uint8> <valis.slide_io.VipsSlideReader object at 0x7f4137802360> True (375, 300, 3)\n",
      "<Slide, name = B_213-ST_BFIW-SE_100_processed>, width=300, height=375, channels=3, levels=1, RGB=True, dtype=uint8> <valis.slide_io.VipsSlideReader object at 0x7f41378023f0> True (375, 300, 3)\n",
      "<Slide, name = B_213-ST_BFIW-SE_101_processed>, width=300, height=375, channels=3, levels=1, RGB=True, dtype=uint8> <valis.slide_io.VipsSlideReader object at 0x7f42d2f497c0> True (375, 300, 3)\n",
      "<Slide, name = B_213-ST_BFIW-SE_102_processed>, width=300, height=375, channels=3, levels=1, RGB=True, dtype=uint8> <valis.slide_io.VipsSlideReader object at 0x7f4137801e50> True (375, 300, 3)\n",
      "<Slide, name = B_213-ST_BFIW-SE_103_processed>, width=300, height=375, channels=3, levels=1, RGB=True, dtype=uint8> <valis.slide_io.VipsSlideReader object at 0x7f4137802390> True (375, 300, 3)\n",
      "<Slide, name = B_213-ST_BFIW-SE_104_processed>, width=300, height=375, channels=3, levels=1, RGB=True, dtype=uint8> <valis.slide_io.VipsSlideReader object at 0x7f4137802660> True (375, 300, 3)\n",
      "<Slide, name = B_213-ST_BFIW-SE_105_processed>, width=300, height=375, channels=3, levels=1, RGB=True, dtype=uint8> <valis.slide_io.VipsSlideReader object at 0x7f41378026f0> True (375, 300, 3)\n",
      "<Slide, name = B_213-ST_BFIW-SE_106_processed>, width=300, height=375, channels=3, levels=1, RGB=True, dtype=uint8> <valis.slide_io.VipsSlideReader object at 0x7f4137802780> True (375, 300, 3)\n",
      "<Slide, name = B_213-ST_BFIW-SE_107_processed>, width=300, height=375, channels=3, levels=1, RGB=True, dtype=uint8> <valis.slide_io.VipsSlideReader object at 0x7f4137802810> True (375, 300, 3)\n"
     ]
    },
    {
     "name": "stderr",
     "output_type": "stream",
     "text": [
      "Converting images:   3%|█▌                                               | 83/2627 [00:00<00:28, 88.43image/s]"
     ]
    },
    {
     "name": "stdout",
     "output_type": "stream",
     "text": [
      "<Slide, name = B_213-ST_BFIW-SE_108_processed>, width=300, height=375, channels=3, levels=1, RGB=True, dtype=uint8> <valis.slide_io.VipsSlideReader object at 0x7f41378028a0> True (375, 300, 3)\n",
      "<Slide, name = B_213-ST_BFIW-SE_109_processed>, width=300, height=375, channels=3, levels=1, RGB=True, dtype=uint8> <valis.slide_io.VipsSlideReader object at 0x7f4137802930> True (375, 300, 3)\n",
      "<Slide, name = B_213-ST_BFIW-SE_110_processed>, width=300, height=375, channels=3, levels=1, RGB=True, dtype=uint8> <valis.slide_io.VipsSlideReader object at 0x7f4137daa7b0> True (375, 300, 3)\n",
      "<Slide, name = B_213-ST_BFIW-SE_111_processed>, width=300, height=375, channels=3, levels=1, RGB=True, dtype=uint8> <valis.slide_io.VipsSlideReader object at 0x7f4137be2a80> True (375, 300, 3)\n",
      "<Slide, name = B_213-ST_BFIW-SE_112_processed>, width=300, height=375, channels=3, levels=1, RGB=True, dtype=uint8> <valis.slide_io.VipsSlideReader object at 0x7f4137802300> True (375, 300, 3)\n",
      "<Slide, name = B_213-ST_BFIW-SE_113_processed>, width=300, height=375, channels=3, levels=1, RGB=True, dtype=uint8> <valis.slide_io.VipsSlideReader object at 0x7f4137802a50> True (375, 300, 3)\n",
      "<Slide, name = B_213-ST_BFIW-SE_114_processed>, width=300, height=375, channels=3, levels=1, RGB=True, dtype=uint8> <valis.slide_io.VipsSlideReader object at 0x7f4137802bd0> True (375, 300, 3)\n",
      "<Slide, name = B_213-ST_BFIW-SE_115_processed>, width=300, height=375, channels=3, levels=1, RGB=True, dtype=uint8> <valis.slide_io.VipsSlideReader object at 0x7f4137802c60> True (375, 300, 3)\n",
      "<Slide, name = B_213-ST_BFIW-SE_116_processed>, width=300, height=375, channels=3, levels=1, RGB=True, dtype=uint8> <valis.slide_io.VipsSlideReader object at 0x7f4137802cf0> True (375, 300, 3)\n"
     ]
    },
    {
     "name": "stderr",
     "output_type": "stream",
     "text": [
      "Converting images:   4%|█▋                                               | 92/2627 [00:01<00:28, 88.54image/s]"
     ]
    },
    {
     "name": "stdout",
     "output_type": "stream",
     "text": [
      "<Slide, name = B_213-ST_BFIW-SE_117_processed>, width=300, height=375, channels=3, levels=1, RGB=True, dtype=uint8> <valis.slide_io.VipsSlideReader object at 0x7f4137802d80> True (375, 300, 3)\n",
      "<Slide, name = B_213-ST_BFIW-SE_118_processed>, width=300, height=375, channels=3, levels=1, RGB=True, dtype=uint8> <valis.slide_io.VipsSlideReader object at 0x7f4137802e10> True (375, 300, 3)\n",
      "<Slide, name = B_213-ST_BFIW-SE_119_processed>, width=300, height=375, channels=3, levels=1, RGB=True, dtype=uint8> <valis.slide_io.VipsSlideReader object at 0x7f4137802ea0> True (375, 300, 3)\n",
      "<Slide, name = B_213-ST_BFIW-SE_120_processed>, width=300, height=375, channels=3, levels=1, RGB=True, dtype=uint8> <valis.slide_io.VipsSlideReader object at 0x7f4137802f30> True (375, 300, 3)\n",
      "<Slide, name = B_213-ST_BFIW-SE_121_processed>, width=300, height=375, channels=3, levels=1, RGB=True, dtype=uint8> <valis.slide_io.VipsSlideReader object at 0x7f4137daadb0> True (375, 300, 3)\n",
      "<Slide, name = B_213-ST_BFIW-SE_122_processed>, width=300, height=375, channels=3, levels=1, RGB=True, dtype=uint8> <valis.slide_io.VipsSlideReader object at 0x7f4137802840> True (375, 300, 3)\n",
      "<Slide, name = B_213-ST_BFIW-SE_123_processed>, width=300, height=375, channels=3, levels=1, RGB=True, dtype=uint8> <valis.slide_io.VipsSlideReader object at 0x7f4137803050> True (375, 300, 3)\n",
      "<Slide, name = B_213-ST_BFIW-SE_124_processed>, width=300, height=375, channels=3, levels=1, RGB=True, dtype=uint8> <valis.slide_io.VipsSlideReader object at 0x7f4137802e40> True (375, 300, 3)\n",
      "<Slide, name = B_213-ST_BFIW-SE_125_processed>, width=300, height=375, channels=3, levels=1, RGB=True, dtype=uint8> <valis.slide_io.VipsSlideReader object at 0x7f41378031a0> True (375, 300, 3)\n"
     ]
    },
    {
     "name": "stderr",
     "output_type": "stream",
     "text": [
      "Converting images:   4%|█▊                                              | 101/2627 [00:01<00:29, 86.32image/s]"
     ]
    },
    {
     "name": "stdout",
     "output_type": "stream",
     "text": [
      "<Slide, name = B_213-ST_BFIW-SE_126_processed>, width=300, height=375, channels=3, levels=1, RGB=True, dtype=uint8> <valis.slide_io.VipsSlideReader object at 0x7f4137803080> True (375, 300, 3)\n",
      "<Slide, name = B_213-ST_BFIW-SE_127_processed>, width=300, height=375, channels=3, levels=1, RGB=True, dtype=uint8> <valis.slide_io.VipsSlideReader object at 0x7f4137daafc0> True (375, 300, 3)\n",
      "<Slide, name = B_213-ST_BFIW-SE_128_processed>, width=300, height=375, channels=3, levels=1, RGB=True, dtype=uint8> <valis.slide_io.VipsSlideReader object at 0x7f41378030b0> True (375, 300, 3)\n",
      "<Slide, name = B_213-ST_BFIW-SE_129_processed>, width=300, height=375, channels=3, levels=1, RGB=True, dtype=uint8> <valis.slide_io.VipsSlideReader object at 0x7f41378030e0> True (375, 300, 3)\n",
      "<Slide, name = B_213-ST_BFIW-SE_130_processed>, width=300, height=375, channels=3, levels=1, RGB=True, dtype=uint8> <valis.slide_io.VipsSlideReader object at 0x7f4137803410> True (375, 300, 3)\n",
      "<Slide, name = B_213-ST_BFIW-SE_131_processed>, width=300, height=375, channels=3, levels=1, RGB=True, dtype=uint8> <valis.slide_io.VipsSlideReader object at 0x7f41378034a0> True (375, 300, 3)\n",
      "<Slide, name = B_213-ST_BFIW-SE_132_processed>, width=300, height=375, channels=3, levels=1, RGB=True, dtype=uint8> <valis.slide_io.VipsSlideReader object at 0x7f41378033b0> True (375, 300, 3)\n",
      "<Slide, name = B_213-ST_BFIW-SE_133_processed>, width=300, height=375, channels=3, levels=1, RGB=True, dtype=uint8> <valis.slide_io.VipsSlideReader object at 0x7f4137803110> True (375, 300, 3)\n",
      "<Slide, name = B_213-ST_BFIW-SE_134_processed>, width=300, height=375, channels=3, levels=1, RGB=True, dtype=uint8> <valis.slide_io.VipsSlideReader object at 0x7f4137802b70> True (375, 300, 3)\n"
     ]
    },
    {
     "name": "stderr",
     "output_type": "stream",
     "text": [
      "Converting images:   4%|██                                              | 110/2627 [00:01<00:29, 86.76image/s]"
     ]
    },
    {
     "name": "stdout",
     "output_type": "stream",
     "text": [
      "<Slide, name = B_213-ST_BFIW-SE_135_processed>, width=300, height=375, channels=3, levels=1, RGB=True, dtype=uint8> <valis.slide_io.VipsSlideReader object at 0x7f4137803680> True (375, 300, 3)\n",
      "<Slide, name = B_213-ST_BFIW-SE_136_processed>, width=300, height=375, channels=3, levels=1, RGB=True, dtype=uint8> <valis.slide_io.VipsSlideReader object at 0x7f4137803710> True (375, 300, 3)\n",
      "<Slide, name = B_213-ST_BFIW-SE_137_processed>, width=300, height=375, channels=3, levels=1, RGB=True, dtype=uint8> <valis.slide_io.VipsSlideReader object at 0x7f41378037a0> True (375, 300, 3)\n",
      "<Slide, name = B_213-ST_BFIW-SE_138_processed>, width=300, height=375, channels=3, levels=1, RGB=True, dtype=uint8> <valis.slide_io.VipsSlideReader object at 0x7f4137803860> True (375, 300, 3)\n",
      "<Slide, name = B_213-ST_BFIW-SE_139_processed>, width=300, height=375, channels=3, levels=1, RGB=True, dtype=uint8> <valis.slide_io.VipsSlideReader object at 0x7f41378038f0> True (375, 300, 3)\n",
      "<Slide, name = B_213-ST_BFIW-SE_140_processed>, width=300, height=375, channels=3, levels=1, RGB=True, dtype=uint8> <valis.slide_io.VipsSlideReader object at 0x7f41378032c0> True (375, 300, 3)\n",
      "<Slide, name = B_213-ST_BFIW-SE_141_processed>, width=300, height=375, channels=3, levels=1, RGB=True, dtype=uint8> <valis.slide_io.VipsSlideReader object at 0x7f41378034d0> True (375, 300, 3)\n",
      "<Slide, name = B_213-ST_BFIW-SE_142_processed>, width=300, height=375, channels=3, levels=1, RGB=True, dtype=uint8> <valis.slide_io.VipsSlideReader object at 0x7f4137bdb920> True (375, 300, 3)\n",
      "<Slide, name = B_213-ST_BFIW-SE_143_processed>, width=300, height=375, channels=3, levels=1, RGB=True, dtype=uint8> <valis.slide_io.VipsSlideReader object at 0x7f4137803470> True (375, 300, 3)\n"
     ]
    },
    {
     "name": "stderr",
     "output_type": "stream",
     "text": [
      "Converting images:   5%|██▏                                             | 119/2627 [00:01<00:28, 86.80image/s]"
     ]
    },
    {
     "name": "stdout",
     "output_type": "stream",
     "text": [
      "<Slide, name = B_213-ST_BFIW-SE_144_processed>, width=300, height=375, channels=3, levels=1, RGB=True, dtype=uint8> <valis.slide_io.VipsSlideReader object at 0x7f42d2f039b0> True (375, 300, 3)\n",
      "<Slide, name = B_213-ST_BFIW-SE_145_processed>, width=300, height=375, channels=3, levels=1, RGB=True, dtype=uint8> <valis.slide_io.VipsSlideReader object at 0x7f4137803d10> True (375, 300, 3)\n",
      "<Slide, name = B_213-ST_BFIW-SE_146_processed>, width=300, height=375, channels=3, levels=1, RGB=True, dtype=uint8> <valis.slide_io.VipsSlideReader object at 0x7f4137803aa0> True (375, 300, 3)\n",
      "<Slide, name = B_213-ST_BFIW-SE_147_processed>, width=300, height=375, channels=3, levels=1, RGB=True, dtype=uint8> <valis.slide_io.VipsSlideReader object at 0x7f4137803dd0> True (375, 300, 3)\n",
      "<Slide, name = B_213-ST_BFIW-SE_148_processed>, width=300, height=375, channels=3, levels=1, RGB=True, dtype=uint8> <valis.slide_io.VipsSlideReader object at 0x7f41377fb950> True (375, 300, 3)\n",
      "<Slide, name = B_213-ST_BFIW-SE_149_processed>, width=300, height=375, channels=3, levels=1, RGB=True, dtype=uint8> <valis.slide_io.VipsSlideReader object at 0x7f4137803a10> True (375, 300, 3)\n",
      "<Slide, name = B_213-ST_BFIW-SE_150_processed>, width=300, height=375, channels=3, levels=1, RGB=True, dtype=uint8> <valis.slide_io.VipsSlideReader object at 0x7f4137803c50> True (375, 300, 3)\n",
      "<Slide, name = B_213-ST_BFIW-SE_151_processed>, width=300, height=375, channels=3, levels=1, RGB=True, dtype=uint8> <valis.slide_io.VipsSlideReader object at 0x7f4137803e00> True (375, 300, 3)\n",
      "<Slide, name = B_213-ST_BFIW-SE_152_processed>, width=300, height=375, channels=3, levels=1, RGB=True, dtype=uint8> <valis.slide_io.VipsSlideReader object at 0x7f4137bdbef0> True (375, 300, 3)\n"
     ]
    },
    {
     "name": "stderr",
     "output_type": "stream",
     "text": [
      "Converting images:   5%|██▎                                             | 128/2627 [00:01<00:28, 87.64image/s]"
     ]
    },
    {
     "name": "stdout",
     "output_type": "stream",
     "text": [
      "<Slide, name = B_213-ST_BFIW-SE_153_processed>, width=300, height=375, channels=3, levels=1, RGB=True, dtype=uint8> <valis.slide_io.VipsSlideReader object at 0x7f4137803f80> True (375, 300, 3)\n",
      "<Slide, name = B_213-ST_BFIW-SE_154_processed>, width=300, height=375, channels=3, levels=1, RGB=True, dtype=uint8> <valis.slide_io.VipsSlideReader object at 0x7f4137803fe0> True (375, 300, 3)\n",
      "<Slide, name = B_213-ST_BFIW-SE_155_processed>, width=300, height=375, channels=3, levels=1, RGB=True, dtype=uint8> <valis.slide_io.VipsSlideReader object at 0x7f4137803c20> True (375, 300, 3)\n",
      "<Slide, name = B_213-ST_BFIW-SE_156_processed>, width=300, height=375, channels=3, levels=1, RGB=True, dtype=uint8> <valis.slide_io.VipsSlideReader object at 0x7f4137804380> True (375, 300, 3)\n",
      "<Slide, name = B_213-ST_BFIW-SE_157_processed>, width=300, height=375, channels=3, levels=1, RGB=True, dtype=uint8> <valis.slide_io.VipsSlideReader object at 0x7f4137804080> True (375, 300, 3)\n",
      "<Slide, name = B_213-ST_BFIW-SE_158_processed>, width=300, height=375, channels=3, levels=1, RGB=True, dtype=uint8> <valis.slide_io.VipsSlideReader object at 0x7f4137804470> True (375, 300, 3)\n",
      "<Slide, name = B_213-ST_BFIW-SE_159_processed>, width=300, height=375, channels=3, levels=1, RGB=True, dtype=uint8> <valis.slide_io.VipsSlideReader object at 0x7f4137804560> True (375, 300, 3)\n",
      "<Slide, name = B_213-ST_BFIW-SE_160_processed>, width=300, height=375, channels=3, levels=1, RGB=True, dtype=uint8> <valis.slide_io.VipsSlideReader object at 0x7f4137dac2c0> True (375, 300, 3)\n",
      "<Slide, name = B_213-ST_BFIW-SE_161_processed>, width=300, height=375, channels=3, levels=1, RGB=True, dtype=uint8> <valis.slide_io.VipsSlideReader object at 0x7f4137bdc6b0> True (375, 300, 3)\n"
     ]
    },
    {
     "name": "stderr",
     "output_type": "stream",
     "text": [
      "Converting images:   5%|██▌                                             | 137/2627 [00:01<00:28, 87.61image/s]"
     ]
    },
    {
     "name": "stdout",
     "output_type": "stream",
     "text": [
      "<Slide, name = B_213-ST_BFIW-SE_162_processed>, width=300, height=375, channels=3, levels=1, RGB=True, dtype=uint8> <valis.slide_io.VipsSlideReader object at 0x7f41378047a0> True (375, 300, 3)\n",
      "<Slide, name = B_213-ST_BFIW-SE_163_processed>, width=300, height=375, channels=3, levels=1, RGB=True, dtype=uint8> <valis.slide_io.VipsSlideReader object at 0x7f4137bcc0b0> True (375, 300, 3)\n",
      "<Slide, name = B_213-ST_BFIW-SE_164_processed>, width=300, height=375, channels=3, levels=1, RGB=True, dtype=uint8> <valis.slide_io.VipsSlideReader object at 0x7f4137804650> True (375, 300, 3)\n",
      "<Slide, name = B_213-ST_BFIW-SE_165_processed>, width=300, height=375, channels=3, levels=1, RGB=True, dtype=uint8> <valis.slide_io.VipsSlideReader object at 0x7f4137804170> True (375, 300, 3)\n",
      "<Slide, name = B_213-ST_BFIW-SE_166_processed>, width=300, height=375, channels=3, levels=1, RGB=True, dtype=uint8> <valis.slide_io.VipsSlideReader object at 0x7f4137804050> True (375, 300, 3)\n",
      "<Slide, name = B_213-ST_BFIW-SE_167_processed>, width=300, height=375, channels=3, levels=1, RGB=True, dtype=uint8> <valis.slide_io.VipsSlideReader object at 0x7f4137804740> True (375, 300, 3)\n",
      "<Slide, name = B_213-ST_BFIW-SE_168_processed>, width=300, height=375, channels=3, levels=1, RGB=True, dtype=uint8> <valis.slide_io.VipsSlideReader object at 0x7f41378049b0> True (375, 300, 3)\n",
      "<Slide, name = B_213-ST_BFIW-SE_169_processed>, width=300, height=375, channels=3, levels=1, RGB=True, dtype=uint8> <valis.slide_io.VipsSlideReader object at 0x7f4137804b60> True (375, 300, 3)\n",
      "<Slide, name = B_213-ST_BFIW-SE_170_processed>, width=300, height=375, channels=3, levels=1, RGB=True, dtype=uint8> <valis.slide_io.VipsSlideReader object at 0x7f4137804bf0> True (375, 300, 3)\n"
     ]
    },
    {
     "name": "stderr",
     "output_type": "stream",
     "text": [
      "Converting images:   6%|██▋                                             | 146/2627 [00:01<00:28, 87.70image/s]"
     ]
    },
    {
     "name": "stdout",
     "output_type": "stream",
     "text": [
      "<Slide, name = B_213-ST_BFIW-SE_171_processed>, width=300, height=375, channels=3, levels=1, RGB=True, dtype=uint8> <valis.slide_io.VipsSlideReader object at 0x7f4137804c80> True (375, 300, 3)\n",
      "<Slide, name = B_213-ST_BFIW-SE_172_processed>, width=300, height=375, channels=3, levels=1, RGB=True, dtype=uint8> <valis.slide_io.VipsSlideReader object at 0x7f4137bdcb00> True (375, 300, 3)\n",
      "<Slide, name = B_213-ST_BFIW-SE_173_processed>, width=300, height=375, channels=3, levels=1, RGB=True, dtype=uint8> <valis.slide_io.VipsSlideReader object at 0x7f41378041d0> True (375, 300, 3)\n",
      "<Slide, name = B_213-ST_BFIW-SE_174_processed>, width=300, height=375, channels=3, levels=1, RGB=True, dtype=uint8> <valis.slide_io.VipsSlideReader object at 0x7f4137804c20> True (375, 300, 3)\n",
      "<Slide, name = B_213-ST_BFIW-SE_175_processed>, width=300, height=375, channels=3, levels=1, RGB=True, dtype=uint8> <valis.slide_io.VipsSlideReader object at 0x7f4137804ec0> True (375, 300, 3)\n",
      "<Slide, name = B_213-ST_BFIW-SE_176_processed>, width=300, height=375, channels=3, levels=1, RGB=True, dtype=uint8> <valis.slide_io.VipsSlideReader object at 0x7f4137804f80> True (375, 300, 3)\n",
      "<Slide, name = B_213-ST_BFIW-SE_177_processed>, width=300, height=375, channels=3, levels=1, RGB=True, dtype=uint8> <valis.slide_io.VipsSlideReader object at 0x7f4137805070> True (375, 300, 3)\n",
      "<Slide, name = B_213-ST_BFIW-SE_178_processed>, width=300, height=375, channels=3, levels=1, RGB=True, dtype=uint8> <valis.slide_io.VipsSlideReader object at 0x7f4137805100> True (375, 300, 3)\n",
      "<Slide, name = B_213-ST_BFIW-SE_179_processed>, width=300, height=375, channels=3, levels=1, RGB=True, dtype=uint8> <valis.slide_io.VipsSlideReader object at 0x7f4137805190> True (375, 300, 3)\n"
     ]
    },
    {
     "name": "stderr",
     "output_type": "stream",
     "text": [
      "Converting images:   6%|██▊                                             | 155/2627 [00:01<00:28, 87.66image/s]"
     ]
    },
    {
     "name": "stdout",
     "output_type": "stream",
     "text": [
      "<Slide, name = B_213-ST_BFIW-SE_180_processed>, width=300, height=375, channels=3, levels=1, RGB=True, dtype=uint8> <valis.slide_io.VipsSlideReader object at 0x7f4137805220> True (375, 300, 3)\n",
      "<Slide, name = B_213-ST_BFIW-SE_181_processed>, width=300, height=375, channels=3, levels=1, RGB=True, dtype=uint8> <valis.slide_io.VipsSlideReader object at 0x7f41378052b0> True (375, 300, 3)\n",
      "<Slide, name = B_213-ST_BFIW-SE_182_processed>, width=300, height=375, channels=3, levels=1, RGB=True, dtype=uint8> <valis.slide_io.VipsSlideReader object at 0x7f4137bdd130> True (375, 300, 3)\n",
      "<Slide, name = B_213-ST_BFIW-SE_183_processed>, width=300, height=375, channels=3, levels=1, RGB=True, dtype=uint8> <valis.slide_io.VipsSlideReader object at 0x7f4137804710> True (375, 300, 3)\n",
      "<Slide, name = B_213-ST_BFIW-SE_184_processed>, width=300, height=375, channels=3, levels=1, RGB=True, dtype=uint8> <valis.slide_io.VipsSlideReader object at 0x7f4137804590> True (375, 300, 3)\n",
      "<Slide, name = B_213-ST_BFIW-SE_185_processed>, width=300, height=375, channels=3, levels=1, RGB=True, dtype=uint8> <valis.slide_io.VipsSlideReader object at 0x7f41378043b0> True (375, 300, 3)\n",
      "<Slide, name = B_213-ST_BFIW-SE_186_processed>, width=300, height=375, channels=3, levels=1, RGB=True, dtype=uint8> <valis.slide_io.VipsSlideReader object at 0x7f4137804b90> True (375, 300, 3)\n",
      "<Slide, name = B_213-ST_BFIW-SE_187_processed>, width=300, height=375, channels=3, levels=1, RGB=True, dtype=uint8> <valis.slide_io.VipsSlideReader object at 0x7f41378028d0> True (375, 300, 3)\n",
      "<Slide, name = B_213-ST_BFIW-SE_188_processed>, width=300, height=375, channels=3, levels=1, RGB=True, dtype=uint8> <valis.slide_io.VipsSlideReader object at 0x7f4137805700> True (375, 300, 3)\n"
     ]
    },
    {
     "name": "stderr",
     "output_type": "stream",
     "text": [
      "Converting images:   6%|██▉                                             | 164/2627 [00:01<00:28, 87.26image/s]"
     ]
    },
    {
     "name": "stdout",
     "output_type": "stream",
     "text": [
      "<Slide, name = B_213-ST_BFIW-SE_189_processed>, width=300, height=375, channels=3, levels=1, RGB=True, dtype=uint8> <valis.slide_io.VipsSlideReader object at 0x7f4137805610> True (375, 300, 3)\n",
      "<Slide, name = B_213-ST_BFIW-SE_190_processed>, width=300, height=375, channels=3, levels=1, RGB=True, dtype=uint8> <valis.slide_io.VipsSlideReader object at 0x7f4137805460> True (375, 300, 3)\n",
      "<Slide, name = B_213-ST_BFIW-SE_191_processed>, width=300, height=375, channels=3, levels=1, RGB=True, dtype=uint8> <valis.slide_io.VipsSlideReader object at 0x7f41378054c0> True (375, 300, 3)\n",
      "<Slide, name = B_213-ST_BFIW-SE_192_processed>, width=300, height=375, channels=3, levels=1, RGB=True, dtype=uint8> <valis.slide_io.VipsSlideReader object at 0x7f41378055e0> True (375, 300, 3)\n",
      "<Slide, name = B_213-ST_BFIW-SE_193_processed>, width=300, height=375, channels=3, levels=1, RGB=True, dtype=uint8> <valis.slide_io.VipsSlideReader object at 0x7f41378057c0> True (375, 300, 3)\n",
      "<Slide, name = B_213-ST_BFIW-SE_194_processed>, width=300, height=375, channels=3, levels=1, RGB=True, dtype=uint8> <valis.slide_io.VipsSlideReader object at 0x7f41378051c0> True (375, 300, 3)\n",
      "<Slide, name = B_213-ST_BFIW-SE_195_processed>, width=300, height=375, channels=3, levels=1, RGB=True, dtype=uint8> <valis.slide_io.VipsSlideReader object at 0x7f41378056a0> True (375, 300, 3)\n",
      "<Slide, name = B_213-ST_BFIW-SE_196_processed>, width=300, height=375, channels=3, levels=1, RGB=True, dtype=uint8> <valis.slide_io.VipsSlideReader object at 0x7f4137805760> True (375, 300, 3)\n",
      "<Slide, name = B_213-ST_BFIW-SE_197_processed>, width=300, height=375, channels=3, levels=1, RGB=True, dtype=uint8> <valis.slide_io.VipsSlideReader object at 0x7f4137da58e0> True (375, 300, 3)\n"
     ]
    },
    {
     "name": "stderr",
     "output_type": "stream",
     "text": [
      "Converting images:   7%|███▏                                            | 173/2627 [00:01<00:28, 86.93image/s]"
     ]
    },
    {
     "name": "stdout",
     "output_type": "stream",
     "text": [
      "<Slide, name = B_213-ST_BFIW-SE_198_processed>, width=300, height=375, channels=3, levels=1, RGB=True, dtype=uint8> <valis.slide_io.VipsSlideReader object at 0x7f4137dad850> True (375, 300, 3)\n",
      "<Slide, name = B_213-ST_BFIW-SE_201_processed>, width=300, height=375, channels=3, levels=1, RGB=True, dtype=uint8> <valis.slide_io.VipsSlideReader object at 0x7f41377ff710> True (375, 300, 3)\n",
      "<Slide, name = B_213-ST_BFIW-SE_202_processed>, width=300, height=375, channels=3, levels=1, RGB=True, dtype=uint8> <valis.slide_io.VipsSlideReader object at 0x7f41377fdd90> True (375, 300, 3)\n",
      "<Slide, name = B_213-ST_BFIW-SE_203_processed>, width=300, height=375, channels=3, levels=1, RGB=True, dtype=uint8> <valis.slide_io.VipsSlideReader object at 0x7f41378059a0> True (375, 300, 3)\n",
      "<Slide, name = B_213-ST_BFIW-SE_204_processed>, width=300, height=375, channels=3, levels=1, RGB=True, dtype=uint8> <valis.slide_io.VipsSlideReader object at 0x7f4137805bb0> True (375, 300, 3)\n",
      "<Slide, name = B_213-ST_BFIW-SE_205_processed>, width=300, height=375, channels=3, levels=1, RGB=True, dtype=uint8> <valis.slide_io.VipsSlideReader object at 0x7f413916dc40> True (375, 300, 3)\n",
      "<Slide, name = B_213-ST_BFIW-SE_206_processed>, width=300, height=375, channels=3, levels=1, RGB=True, dtype=uint8> <valis.slide_io.VipsSlideReader object at 0x7f4137805550> True (375, 300, 3)\n",
      "<Slide, name = B_213-ST_BFIW-SE_207_processed>, width=300, height=375, channels=3, levels=1, RGB=True, dtype=uint8> <valis.slide_io.VipsSlideReader object at 0x7f4137805be0> True (375, 300, 3)\n",
      "<Slide, name = B_213-ST_BFIW-SE_208_processed>, width=300, height=375, channels=3, levels=1, RGB=True, dtype=uint8> <valis.slide_io.VipsSlideReader object at 0x7f4137805f40> True (375, 300, 3)\n"
     ]
    },
    {
     "name": "stderr",
     "output_type": "stream",
     "text": [
      "Converting images:   7%|███▎                                            | 182/2627 [00:02<00:28, 85.06image/s]"
     ]
    },
    {
     "name": "stdout",
     "output_type": "stream",
     "text": [
      "<Slide, name = B_213-ST_BFIW-SE_209_processed>, width=300, height=375, channels=3, levels=1, RGB=True, dtype=uint8> <valis.slide_io.VipsSlideReader object at 0x7f4137805fd0> True (375, 300, 3)\n",
      "<Slide, name = B_213-ST_BFIW-SE_210_processed>, width=300, height=375, channels=3, levels=1, RGB=True, dtype=uint8> <valis.slide_io.VipsSlideReader object at 0x7f41378060c0> True (375, 300, 3)\n",
      "<Slide, name = B_213-ST_BFIW-SE_211_processed>, width=300, height=375, channels=3, levels=1, RGB=True, dtype=uint8> <valis.slide_io.VipsSlideReader object at 0x7f4137806180> True (375, 300, 3)\n",
      "<Slide, name = B_213-ST_BFIW-SE_212_processed>, width=300, height=375, channels=3, levels=1, RGB=True, dtype=uint8> <valis.slide_io.VipsSlideReader object at 0x7f4137806240> True (375, 300, 3)\n",
      "<Slide, name = B_213-ST_BFIW-SE_213_processed>, width=300, height=375, channels=3, levels=1, RGB=True, dtype=uint8> <valis.slide_io.VipsSlideReader object at 0x7f4137805d30> True (375, 300, 3)\n",
      "<Slide, name = B_213-ST_BFIW-SE_214_processed>, width=300, height=375, channels=3, levels=1, RGB=True, dtype=uint8> <valis.slide_io.VipsSlideReader object at 0x7f4137805b20> True (375, 300, 3)\n",
      "<Slide, name = B_213-ST_BFIW-SE_215_processed>, width=300, height=375, channels=3, levels=1, RGB=True, dtype=uint8> <valis.slide_io.VipsSlideReader object at 0x7f4137805820> True (375, 300, 3)\n",
      "<Slide, name = B_213-ST_BFIW-SE_216_processed>, width=300, height=375, channels=3, levels=1, RGB=True, dtype=uint8> <valis.slide_io.VipsSlideReader object at 0x7f4137806120> True (375, 300, 3)\n",
      "<Slide, name = B_213-ST_BFIW-SE_217_processed>, width=300, height=375, channels=3, levels=1, RGB=True, dtype=uint8> <valis.slide_io.VipsSlideReader object at 0x7f4137805940> True (375, 300, 3)\n"
     ]
    },
    {
     "name": "stderr",
     "output_type": "stream",
     "text": [
      "Converting images:   7%|███▍                                            | 191/2627 [00:02<00:28, 86.14image/s]"
     ]
    },
    {
     "name": "stdout",
     "output_type": "stream",
     "text": [
      "<Slide, name = B_213-ST_BFIW-SE_218_processed>, width=300, height=375, channels=3, levels=1, RGB=True, dtype=uint8> <valis.slide_io.VipsSlideReader object at 0x7f4137806390> True (375, 300, 3)\n",
      "<Slide, name = B_213-ST_BFIW-SE_219_processed>, width=300, height=375, channels=3, levels=1, RGB=True, dtype=uint8> <valis.slide_io.VipsSlideReader object at 0x7f4137806510> True (375, 300, 3)\n",
      "<Slide, name = B_213-ST_BFIW-SE_220_processed>, width=300, height=375, channels=3, levels=1, RGB=True, dtype=uint8> <valis.slide_io.VipsSlideReader object at 0x7f4137806750> True (375, 300, 3)\n",
      "<Slide, name = B_213-ST_BFIW-SE_221_processed>, width=300, height=375, channels=3, levels=1, RGB=True, dtype=uint8> <valis.slide_io.VipsSlideReader object at 0x7f41377fdee0> True (375, 300, 3)\n",
      "<Slide, name = B_213-ST_BFIW-SE_222_processed>, width=300, height=375, channels=3, levels=1, RGB=True, dtype=uint8> <valis.slide_io.VipsSlideReader object at 0x7f41378063f0> True (375, 300, 3)\n",
      "<Slide, name = B_213-ST_BFIW-SE_223_processed>, width=300, height=375, channels=3, levels=1, RGB=True, dtype=uint8> <valis.slide_io.VipsSlideReader object at 0x7f4137806690> True (375, 300, 3)\n",
      "<Slide, name = B_213-ST_BFIW-SE_224_processed>, width=300, height=375, channels=3, levels=1, RGB=True, dtype=uint8> <valis.slide_io.VipsSlideReader object at 0x7f41378069f0> True (375, 300, 3)\n",
      "<Slide, name = B_213-ST_BFIW-SE_225_processed>, width=300, height=375, channels=3, levels=1, RGB=True, dtype=uint8> <valis.slide_io.VipsSlideReader object at 0x7f4137806ae0> True (375, 300, 3)\n",
      "<Slide, name = B_213-ST_BFIW-SE_226_processed>, width=300, height=375, channels=3, levels=1, RGB=True, dtype=uint8> <valis.slide_io.VipsSlideReader object at 0x7f4137806ba0> True (375, 300, 3)\n"
     ]
    },
    {
     "name": "stderr",
     "output_type": "stream",
     "text": [
      "Converting images:   8%|███▋                                            | 200/2627 [00:02<00:28, 86.35image/s]"
     ]
    },
    {
     "name": "stdout",
     "output_type": "stream",
     "text": [
      "<Slide, name = B_213-ST_BFIW-SE_227_processed>, width=300, height=375, channels=3, levels=1, RGB=True, dtype=uint8> <valis.slide_io.VipsSlideReader object at 0x7f4137806c60> True (375, 300, 3)\n",
      "<Slide, name = B_213-ST_BFIW-SE_228_processed>, width=300, height=375, channels=3, levels=1, RGB=True, dtype=uint8> <valis.slide_io.VipsSlideReader object at 0x7f4137806d20> True (375, 300, 3)\n",
      "<Slide, name = B_213-ST_BFIW-SE_229_processed>, width=300, height=375, channels=3, levels=1, RGB=True, dtype=uint8> <valis.slide_io.VipsSlideReader object at 0x7f4137806de0> True (375, 300, 3)\n",
      "<Slide, name = B_213-ST_BFIW-SE_230_processed>, width=300, height=375, channels=3, levels=1, RGB=True, dtype=uint8> <valis.slide_io.VipsSlideReader object at 0x7f4137806b10> True (375, 300, 3)\n",
      "<Slide, name = B_213-ST_BFIW-SE_231_processed>, width=300, height=375, channels=3, levels=1, RGB=True, dtype=uint8> <valis.slide_io.VipsSlideReader object at 0x7f41378064b0> True (375, 300, 3)\n",
      "<Slide, name = B_213-ST_BFIW-SE_232_processed>, width=300, height=375, channels=3, levels=1, RGB=True, dtype=uint8> <valis.slide_io.VipsSlideReader object at 0x7f41377fee70> True (375, 300, 3)\n",
      "<Slide, name = B_213-ST_BFIW-SE_233_processed>, width=300, height=375, channels=3, levels=1, RGB=True, dtype=uint8> <valis.slide_io.VipsSlideReader object at 0x7f4137bdf0b0> True (375, 300, 3)\n",
      "<Slide, name = B_213-ST_BFIW-SE_234_processed>, width=300, height=375, channels=3, levels=1, RGB=True, dtype=uint8> <valis.slide_io.VipsSlideReader object at 0x7f41378066c0> True (375, 300, 3)\n",
      "<Slide, name = B_213-ST_BFIW-SE_235_processed>, width=300, height=375, channels=3, levels=1, RGB=True, dtype=uint8> <valis.slide_io.VipsSlideReader object at 0x7f4137807050> True (375, 300, 3)\n"
     ]
    },
    {
     "name": "stderr",
     "output_type": "stream",
     "text": [
      "Converting images:   8%|███▊                                            | 209/2627 [00:02<00:27, 87.25image/s]"
     ]
    },
    {
     "name": "stdout",
     "output_type": "stream",
     "text": [
      "<Slide, name = B_213-ST_BFIW-SE_236_processed>, width=300, height=375, channels=3, levels=1, RGB=True, dtype=uint8> <valis.slide_io.VipsSlideReader object at 0x7f41377ff0e0> True (375, 300, 3)\n",
      "<Slide, name = B_213-ST_BFIW-SE_237_processed>, width=300, height=375, channels=3, levels=1, RGB=True, dtype=uint8> <valis.slide_io.VipsSlideReader object at 0x7f4137806cf0> True (375, 300, 3)\n",
      "<Slide, name = B_213-ST_BFIW-SE_238_processed>, width=300, height=375, channels=3, levels=1, RGB=True, dtype=uint8> <valis.slide_io.VipsSlideReader object at 0x7f41378063c0> True (375, 300, 3)\n",
      "<Slide, name = B_213-ST_BFIW-SE_239_processed>, width=300, height=375, channels=3, levels=1, RGB=True, dtype=uint8> <valis.slide_io.VipsSlideReader object at 0x7f41377ff2f0> True (375, 300, 3)\n",
      "<Slide, name = B_213-ST_BFIW-SE_240_processed>, width=300, height=375, channels=3, levels=1, RGB=True, dtype=uint8> <valis.slide_io.VipsSlideReader object at 0x7f4137800050> True (375, 300, 3)\n",
      "<Slide, name = B_213-ST_BFIW-SE_241_processed>, width=300, height=375, channels=3, levels=1, RGB=True, dtype=uint8> <valis.slide_io.VipsSlideReader object at 0x7f4137bdf1a0> True (375, 300, 3)\n",
      "<Slide, name = B_213-ST_BFIW-SE_242_processed>, width=300, height=375, channels=3, levels=1, RGB=True, dtype=uint8> <valis.slide_io.VipsSlideReader object at 0x7f4137807140> True (375, 300, 3)\n",
      "<Slide, name = B_213-ST_BFIW-SE_243_processed>, width=300, height=375, channels=3, levels=1, RGB=True, dtype=uint8> <valis.slide_io.VipsSlideReader object at 0x7f4137802690> True (375, 300, 3)\n",
      "<Slide, name = B_213-ST_BFIW-SE_244_processed>, width=300, height=375, channels=3, levels=1, RGB=True, dtype=uint8> <valis.slide_io.VipsSlideReader object at 0x7f4137807470> True (375, 300, 3)\n"
     ]
    },
    {
     "name": "stderr",
     "output_type": "stream",
     "text": [
      "Converting images:   8%|███▉                                            | 218/2627 [00:02<00:27, 87.61image/s]"
     ]
    },
    {
     "name": "stdout",
     "output_type": "stream",
     "text": [
      "<Slide, name = B_213-ST_BFIW-SE_245_processed>, width=300, height=375, channels=3, levels=1, RGB=True, dtype=uint8> <valis.slide_io.VipsSlideReader object at 0x7f4137807620> True (375, 300, 3)\n",
      "<Slide, name = B_213-ST_BFIW-SE_246_processed>, width=300, height=375, channels=3, levels=1, RGB=True, dtype=uint8> <valis.slide_io.VipsSlideReader object at 0x7f4137807950> True (375, 300, 3)\n",
      "<Slide, name = B_213-ST_BFIW-SE_247_processed>, width=300, height=375, channels=3, levels=1, RGB=True, dtype=uint8> <valis.slide_io.VipsSlideReader object at 0x7f41377ff770> True (375, 300, 3)\n",
      "<Slide, name = B_213-ST_BFIW-SE_248_processed>, width=300, height=375, channels=3, levels=1, RGB=True, dtype=uint8> <valis.slide_io.VipsSlideReader object at 0x7f4137806f00> True (375, 300, 3)\n",
      "<Slide, name = B_213-ST_BFIW-SE_249_processed>, width=300, height=375, channels=3, levels=1, RGB=True, dtype=uint8> <valis.slide_io.VipsSlideReader object at 0x7f41377ff8f0> True (375, 300, 3)\n",
      "<Slide, name = B_213-ST_BFIW-SE_250_processed>, width=300, height=375, channels=3, levels=1, RGB=True, dtype=uint8> <valis.slide_io.VipsSlideReader object at 0x7f41377ffbf0> True (375, 300, 3)\n",
      "<Slide, name = B_213-ST_BFIW-SE_251_processed>, width=300, height=375, channels=3, levels=1, RGB=True, dtype=uint8> <valis.slide_io.VipsSlideReader object at 0x7f4137807350> True (375, 300, 3)\n",
      "<Slide, name = B_213-ST_BFIW-SE_252_processed>, width=300, height=375, channels=3, levels=1, RGB=True, dtype=uint8> <valis.slide_io.VipsSlideReader object at 0x7f41377ff890> True (375, 300, 3)\n",
      "<Slide, name = B_213-ST_BFIW-SE_253_processed>, width=300, height=375, channels=3, levels=1, RGB=True, dtype=uint8> <valis.slide_io.VipsSlideReader object at 0x7f4137807a70> True (375, 300, 3)\n"
     ]
    },
    {
     "name": "stderr",
     "output_type": "stream",
     "text": [
      "Converting images:   9%|████▏                                           | 227/2627 [00:02<00:27, 87.06image/s]"
     ]
    },
    {
     "name": "stdout",
     "output_type": "stream",
     "text": [
      "<Slide, name = B_213-ST_BFIW-SE_254_processed>, width=300, height=375, channels=3, levels=1, RGB=True, dtype=uint8> <valis.slide_io.VipsSlideReader object at 0x7f41378076e0> True (375, 300, 3)\n",
      "<Slide, name = B_213-ST_BFIW-SE_255_processed>, width=300, height=375, channels=3, levels=1, RGB=True, dtype=uint8> <valis.slide_io.VipsSlideReader object at 0x7f4137807ef0> True (375, 300, 3)\n",
      "<Slide, name = B_213-ST_BFIW-SE_256_processed>, width=300, height=375, channels=3, levels=1, RGB=True, dtype=uint8> <valis.slide_io.VipsSlideReader object at 0x7f4137dafd10> True (375, 300, 3)\n",
      "<Slide, name = B_213-ST_BFIW-SE_257_processed>, width=300, height=375, channels=3, levels=1, RGB=True, dtype=uint8> <valis.slide_io.VipsSlideReader object at 0x7f41378075c0> True (375, 300, 3)\n",
      "<Slide, name = B_213-ST_BFIW-SE_258_processed>, width=300, height=375, channels=3, levels=1, RGB=True, dtype=uint8> <valis.slide_io.VipsSlideReader object at 0x7f4137806540> True (375, 300, 3)\n",
      "<Slide, name = B_213-ST_BFIW-SE_259_processed>, width=300, height=375, channels=3, levels=1, RGB=True, dtype=uint8> <valis.slide_io.VipsSlideReader object at 0x7f4137807b90> True (375, 300, 3)\n",
      "<Slide, name = B_213-ST_BFIW-SE_260_processed>, width=300, height=375, channels=3, levels=1, RGB=True, dtype=uint8> <valis.slide_io.VipsSlideReader object at 0x7f4137807aa0> True (375, 300, 3)\n",
      "<Slide, name = B_213-ST_BFIW-SE_261_processed>, width=300, height=375, channels=3, levels=1, RGB=True, dtype=uint8> <valis.slide_io.VipsSlideReader object at 0x7f4137da7c20> True (375, 300, 3)\n",
      "<Slide, name = B_213-ST_BFIW-SE_262_processed>, width=300, height=375, channels=3, levels=1, RGB=True, dtype=uint8> <valis.slide_io.VipsSlideReader object at 0x7f413780efc0> True (375, 300, 3)\n"
     ]
    },
    {
     "name": "stderr",
     "output_type": "stream",
     "text": [
      "Converting images:   9%|████▎                                           | 236/2627 [00:02<00:27, 87.45image/s]"
     ]
    },
    {
     "name": "stdout",
     "output_type": "stream",
     "text": [
      "<Slide, name = B_213-ST_BFIW-SE_263_processed>, width=300, height=375, channels=3, levels=1, RGB=True, dtype=uint8> <valis.slide_io.VipsSlideReader object at 0x7f41377fee10> True (375, 300, 3)\n",
      "<Slide, name = B_213-ST_BFIW-SE_264_processed>, width=300, height=375, channels=3, levels=1, RGB=True, dtype=uint8> <valis.slide_io.VipsSlideReader object at 0x7f413780ef60> True (375, 300, 3)\n",
      "<Slide, name = B_213-ST_BFIW-SE_265_processed>, width=300, height=375, channels=3, levels=1, RGB=True, dtype=uint8> <valis.slide_io.VipsSlideReader object at 0x7f413780c0b0> True (375, 300, 3)\n",
      "<Slide, name = B_213-ST_BFIW-SE_266_processed>, width=300, height=375, channels=3, levels=1, RGB=True, dtype=uint8> <valis.slide_io.VipsSlideReader object at 0x7f4137804260> True (375, 300, 3)\n",
      "<Slide, name = B_213-ST_BFIW-SE_267_processed>, width=300, height=375, channels=3, levels=1, RGB=True, dtype=uint8> <valis.slide_io.VipsSlideReader object at 0x7f4137bdc4a0> True (375, 300, 3)\n",
      "<Slide, name = B_213-ST_BFIW-SE_268_processed>, width=300, height=375, channels=3, levels=1, RGB=True, dtype=uint8> <valis.slide_io.VipsSlideReader object at 0x7f413780ffb0> True (375, 300, 3)\n",
      "<Slide, name = B_213-ST_BFIW-SE_269_processed>, width=300, height=375, channels=3, levels=1, RGB=True, dtype=uint8> <valis.slide_io.VipsSlideReader object at 0x7f413780c470> True (375, 300, 3)\n",
      "<Slide, name = B_213-ST_BFIW-SE_270_processed>, width=300, height=375, channels=3, levels=1, RGB=True, dtype=uint8> <valis.slide_io.VipsSlideReader object at 0x7f41378044d0> True (375, 300, 3)\n",
      "<Slide, name = B_213-ST_BFIW-SE_271_processed>, width=300, height=375, channels=3, levels=1, RGB=True, dtype=uint8> <valis.slide_io.VipsSlideReader object at 0x7f413780c7d0> True (375, 300, 3)\n"
     ]
    },
    {
     "name": "stderr",
     "output_type": "stream",
     "text": [
      "Converting images:   9%|████▍                                           | 245/2627 [00:02<00:27, 87.04image/s]"
     ]
    },
    {
     "name": "stdout",
     "output_type": "stream",
     "text": [
      "<Slide, name = B_213-ST_BFIW-SE_272_processed>, width=300, height=375, channels=3, levels=1, RGB=True, dtype=uint8> <valis.slide_io.VipsSlideReader object at 0x7f413780c530> True (375, 300, 3)\n",
      "<Slide, name = B_213-ST_BFIW-SE_273_processed>, width=300, height=375, channels=3, levels=1, RGB=True, dtype=uint8> <valis.slide_io.VipsSlideReader object at 0x7f41378046b0> True (375, 300, 3)\n",
      "<Slide, name = B_213-ST_BFIW-SE_274_processed>, width=300, height=375, channels=3, levels=1, RGB=True, dtype=uint8> <valis.slide_io.VipsSlideReader object at 0x7f41378048c0> True (375, 300, 3)\n",
      "<Slide, name = B_213-ST_BFIW-SE_275_processed>, width=300, height=375, channels=3, levels=1, RGB=True, dtype=uint8> <valis.slide_io.VipsSlideReader object at 0x7f41378046e0> True (375, 300, 3)\n",
      "<Slide, name = B_213-ST_BFIW-SE_276_processed>, width=300, height=375, channels=3, levels=1, RGB=True, dtype=uint8> <valis.slide_io.VipsSlideReader object at 0x7f413780c110> True (375, 300, 3)\n",
      "<Slide, name = B_213-ST_BFIW-SE_277_processed>, width=300, height=375, channels=3, levels=1, RGB=True, dtype=uint8> <valis.slide_io.VipsSlideReader object at 0x7f41378042f0> True (375, 300, 3)\n",
      "<Slide, name = B_213-ST_BFIW-SE_278_processed>, width=300, height=375, channels=3, levels=1, RGB=True, dtype=uint8> <valis.slide_io.VipsSlideReader object at 0x7f413780cb00> True (375, 300, 3)\n",
      "<Slide, name = B_213-ST_BFIW-SE_279_processed>, width=300, height=375, channels=3, levels=1, RGB=True, dtype=uint8> <valis.slide_io.VipsSlideReader object at 0x7f413780ee40> True (375, 300, 3)\n",
      "<Slide, name = B_213-ST_BFIW-SE_280_processed>, width=300, height=375, channels=3, levels=1, RGB=True, dtype=uint8> <valis.slide_io.VipsSlideReader object at 0x7f413780c650> True (375, 300, 3)\n"
     ]
    },
    {
     "name": "stderr",
     "output_type": "stream",
     "text": [
      "Converting images:  10%|████▋                                           | 254/2627 [00:02<00:27, 85.51image/s]"
     ]
    },
    {
     "name": "stdout",
     "output_type": "stream",
     "text": [
      "<Slide, name = B_213-ST_BFIW-SE_281_processed>, width=300, height=375, channels=3, levels=1, RGB=True, dtype=uint8> <valis.slide_io.VipsSlideReader object at 0x7f4137804920> True (375, 300, 3)\n",
      "<Slide, name = B_213-ST_BFIW-SE_282_processed>, width=300, height=375, channels=3, levels=1, RGB=True, dtype=uint8> <valis.slide_io.VipsSlideReader object at 0x7f413780c9b0> True (375, 300, 3)\n",
      "<Slide, name = B_213-ST_BFIW-SE_283_processed>, width=300, height=375, channels=3, levels=1, RGB=True, dtype=uint8> <valis.slide_io.VipsSlideReader object at 0x7f413780cd10> True (375, 300, 3)\n",
      "<Slide, name = B_213-ST_BFIW-SE_284_processed>, width=300, height=375, channels=3, levels=1, RGB=True, dtype=uint8> <valis.slide_io.VipsSlideReader object at 0x7f413780cbc0> True (375, 300, 3)\n",
      "<Slide, name = B_213-ST_BFIW-SE_285_processed>, width=300, height=375, channels=3, levels=1, RGB=True, dtype=uint8> <valis.slide_io.VipsSlideReader object at 0x7f4137804d70> True (375, 300, 3)\n",
      "<Slide, name = B_213-ST_BFIW-SE_286_processed>, width=300, height=375, channels=3, levels=1, RGB=True, dtype=uint8> <valis.slide_io.VipsSlideReader object at 0x7f413780ce60> True (375, 300, 3)\n",
      "<Slide, name = B_213-ST_BFIW-SE_287_processed>, width=300, height=375, channels=3, levels=1, RGB=True, dtype=uint8> <valis.slide_io.VipsSlideReader object at 0x7f4137804da0> True (375, 300, 3)\n",
      "<Slide, name = B_213-ST_BFIW-SE_288_processed>, width=300, height=375, channels=3, levels=1, RGB=True, dtype=uint8> <valis.slide_io.VipsSlideReader object at 0x7f41378050a0> True (375, 300, 3)\n",
      "<Slide, name = B_213-ST_BFIW-SE_289_processed>, width=300, height=375, channels=3, levels=1, RGB=True, dtype=uint8> <valis.slide_io.VipsSlideReader object at 0x7f4137804ef0> True (375, 300, 3)\n"
     ]
    },
    {
     "name": "stderr",
     "output_type": "stream",
     "text": [
      "Converting images:  10%|████▊                                           | 263/2627 [00:03<00:27, 85.94image/s]"
     ]
    },
    {
     "name": "stdout",
     "output_type": "stream",
     "text": [
      "<Slide, name = B_213-ST_BFIW-SE_290_processed>, width=300, height=375, channels=3, levels=1, RGB=True, dtype=uint8> <valis.slide_io.VipsSlideReader object at 0x7f413780c5f0> True (375, 300, 3)\n",
      "<Slide, name = B_213-ST_BFIW-SE_291_processed>, width=300, height=375, channels=3, levels=1, RGB=True, dtype=uint8> <valis.slide_io.VipsSlideReader object at 0x7f413780ce00> True (375, 300, 3)\n",
      "<Slide, name = B_213-ST_BFIW-SE_292_processed>, width=300, height=375, channels=3, levels=1, RGB=True, dtype=uint8> <valis.slide_io.VipsSlideReader object at 0x7f413780d2b0> True (375, 300, 3)\n",
      "<Slide, name = B_213-ST_BFIW-SE_293_processed>, width=300, height=375, channels=3, levels=1, RGB=True, dtype=uint8> <valis.slide_io.VipsSlideReader object at 0x7f413780d370> True (375, 300, 3)\n",
      "<Slide, name = B_213-ST_BFIW-SE_294_processed>, width=300, height=375, channels=3, levels=1, RGB=True, dtype=uint8> <valis.slide_io.VipsSlideReader object at 0x7f413780d400> True (375, 300, 3)\n",
      "<Slide, name = B_213-ST_BFIW-SE_295_processed>, width=300, height=375, channels=3, levels=1, RGB=True, dtype=uint8> <valis.slide_io.VipsSlideReader object at 0x7f413780d490> True (375, 300, 3)\n",
      "<Slide, name = B_213-ST_BFIW-SE_296_processed>, width=300, height=375, channels=3, levels=1, RGB=True, dtype=uint8> <valis.slide_io.VipsSlideReader object at 0x7f41378052e0> True (375, 300, 3)\n",
      "<Slide, name = B_213-ST_BFIW-SE_297_processed>, width=300, height=375, channels=3, levels=1, RGB=True, dtype=uint8> <valis.slide_io.VipsSlideReader object at 0x7f413780cfe0> True (375, 300, 3)\n",
      "<Slide, name = B_213-ST_BFIW-SE_298_processed>, width=300, height=375, channels=3, levels=1, RGB=True, dtype=uint8> <valis.slide_io.VipsSlideReader object at 0x7f413780d430> True (375, 300, 3)\n"
     ]
    },
    {
     "name": "stderr",
     "output_type": "stream",
     "text": [
      "Converting images:  10%|████▉                                           | 272/2627 [00:03<00:27, 86.88image/s]"
     ]
    },
    {
     "name": "stdout",
     "output_type": "stream",
     "text": [
      "<Slide, name = B_213-ST_BFIW-SE_299_processed>, width=300, height=375, channels=3, levels=1, RGB=True, dtype=uint8> <valis.slide_io.VipsSlideReader object at 0x7f41377fd550> True (375, 300, 3)\n",
      "<Slide, name = B_213-ST_BFIW-SE_300_processed>, width=300, height=375, channels=3, levels=1, RGB=True, dtype=uint8> <valis.slide_io.VipsSlideReader object at 0x7f413780cdd0> True (375, 300, 3)\n",
      "<Slide, name = B_213-ST_BFIW-SE_301_processed>, width=300, height=375, channels=3, levels=1, RGB=True, dtype=uint8> <valis.slide_io.VipsSlideReader object at 0x7f413780d4c0> True (375, 300, 3)\n",
      "<Slide, name = B_213-ST_BFIW-SE_302_processed>, width=300, height=375, channels=3, levels=1, RGB=True, dtype=uint8> <valis.slide_io.VipsSlideReader object at 0x7f413780d880> True (375, 300, 3)\n",
      "<Slide, name = B_213-ST_BFIW-SE_303_processed>, width=300, height=375, channels=3, levels=1, RGB=True, dtype=uint8> <valis.slide_io.VipsSlideReader object at 0x7f413780d910> True (375, 300, 3)\n",
      "<Slide, name = B_213-ST_BFIW-SE_304_processed>, width=300, height=375, channels=3, levels=1, RGB=True, dtype=uint8> <valis.slide_io.VipsSlideReader object at 0x7f413780c800> True (375, 300, 3)\n",
      "<Slide, name = B_213-ST_BFIW-SE_305_processed>, width=300, height=375, channels=3, levels=1, RGB=True, dtype=uint8> <valis.slide_io.VipsSlideReader object at 0x7f4137805a00> True (375, 300, 3)\n",
      "<Slide, name = B_213-ST_BFIW-SE_306_processed>, width=300, height=375, channels=3, levels=1, RGB=True, dtype=uint8> <valis.slide_io.VipsSlideReader object at 0x7f413780d670> True (375, 300, 3)\n",
      "<Slide, name = B_213-ST_BFIW-SE_307_processed>, width=300, height=375, channels=3, levels=1, RGB=True, dtype=uint8> <valis.slide_io.VipsSlideReader object at 0x7f413780d9d0> True (375, 300, 3)\n"
     ]
    },
    {
     "name": "stderr",
     "output_type": "stream",
     "text": [
      "Converting images:  11%|█████▏                                          | 281/2627 [00:03<00:26, 87.21image/s]"
     ]
    },
    {
     "name": "stdout",
     "output_type": "stream",
     "text": [
      "<Slide, name = B_213-ST_BFIW-SE_308_processed>, width=300, height=375, channels=3, levels=1, RGB=True, dtype=uint8> <valis.slide_io.VipsSlideReader object at 0x7f413780db50> True (375, 300, 3)\n",
      "<Slide, name = B_213-ST_BFIW-SE_309_processed>, width=300, height=375, channels=3, levels=1, RGB=True, dtype=uint8> <valis.slide_io.VipsSlideReader object at 0x7f41378031d0> True (375, 300, 3)\n",
      "<Slide, name = B_213-ST_BFIW-SE_310_processed>, width=300, height=375, channels=3, levels=1, RGB=True, dtype=uint8> <valis.slide_io.VipsSlideReader object at 0x7f413780dd00> True (375, 300, 3)\n",
      "<Slide, name = B_213-ST_BFIW-SE_311_processed>, width=300, height=375, channels=3, levels=1, RGB=True, dtype=uint8> <valis.slide_io.VipsSlideReader object at 0x7f413780d7c0> True (375, 300, 3)\n",
      "<Slide, name = B_213-ST_BFIW-SE_312_processed>, width=300, height=375, channels=3, levels=1, RGB=True, dtype=uint8> <valis.slide_io.VipsSlideReader object at 0x7f4137805c70> True (375, 300, 3)\n",
      "<Slide, name = B_213-ST_BFIW-SE_313_processed>, width=300, height=375, channels=3, levels=1, RGB=True, dtype=uint8> <valis.slide_io.VipsSlideReader object at 0x7f413780daf0> True (375, 300, 3)\n",
      "<Slide, name = B_213-ST_BFIW-SE_314_processed>, width=300, height=375, channels=3, levels=1, RGB=True, dtype=uint8> <valis.slide_io.VipsSlideReader object at 0x7f4137bddb80> True (375, 300, 3)\n",
      "<Slide, name = B_213-ST_BFIW-SE_315_processed>, width=300, height=375, channels=3, levels=1, RGB=True, dtype=uint8> <valis.slide_io.VipsSlideReader object at 0x7f4137805c40> True (375, 300, 3)\n",
      "<Slide, name = B_213-ST_BFIW-SE_316_processed>, width=300, height=375, channels=3, levels=1, RGB=True, dtype=uint8> <valis.slide_io.VipsSlideReader object at 0x7f4137f2ddc0> True (375, 300, 3)\n"
     ]
    },
    {
     "name": "stderr",
     "output_type": "stream",
     "text": [
      "Converting images:  11%|█████▎                                          | 290/2627 [00:03<00:26, 87.06image/s]"
     ]
    },
    {
     "name": "stdout",
     "output_type": "stream",
     "text": [
      "<Slide, name = B_213-ST_BFIW-SE_317_processed>, width=300, height=375, channels=3, levels=1, RGB=True, dtype=uint8> <valis.slide_io.VipsSlideReader object at 0x7f4137806c90> True (375, 300, 3)\n",
      "<Slide, name = B_213-ST_BFIW-SE_318_processed>, width=300, height=375, channels=3, levels=1, RGB=True, dtype=uint8> <valis.slide_io.VipsSlideReader object at 0x7f4137805e50> True (375, 300, 3)\n",
      "<Slide, name = B_213-ST_BFIW-SE_319_processed>, width=300, height=375, channels=3, levels=1, RGB=True, dtype=uint8> <valis.slide_io.VipsSlideReader object at 0x7f4137805eb0> True (375, 300, 3)\n",
      "<Slide, name = B_213-ST_BFIW-SE_320_processed>, width=300, height=375, channels=3, levels=1, RGB=True, dtype=uint8> <valis.slide_io.VipsSlideReader object at 0x7f413780e0f0> True (375, 300, 3)\n",
      "<Slide, name = B_213-ST_BFIW-SE_321_processed>, width=300, height=375, channels=3, levels=1, RGB=True, dtype=uint8> <valis.slide_io.VipsSlideReader object at 0x7f413780c710> True (375, 300, 3)\n",
      "<Slide, name = B_213-ST_BFIW-SE_322_processed>, width=300, height=375, channels=3, levels=1, RGB=True, dtype=uint8> <valis.slide_io.VipsSlideReader object at 0x7f413780df40> True (375, 300, 3)\n",
      "<Slide, name = B_213-ST_BFIW-SE_323_processed>, width=300, height=375, channels=3, levels=1, RGB=True, dtype=uint8> <valis.slide_io.VipsSlideReader object at 0x7f413780e1b0> True (375, 300, 3)\n",
      "<Slide, name = B_213-ST_BFIW-SE_324_processed>, width=300, height=375, channels=3, levels=1, RGB=True, dtype=uint8> <valis.slide_io.VipsSlideReader object at 0x7f413780e240> True (375, 300, 3)\n",
      "<Slide, name = B_213-ST_BFIW-SE_325_processed>, width=300, height=375, channels=3, levels=1, RGB=True, dtype=uint8> <valis.slide_io.VipsSlideReader object at 0x7f413780e090> True (375, 300, 3)\n"
     ]
    },
    {
     "name": "stderr",
     "output_type": "stream",
     "text": [
      "Converting images:  11%|█████▍                                          | 299/2627 [00:03<00:26, 87.73image/s]"
     ]
    },
    {
     "name": "stdout",
     "output_type": "stream",
     "text": [
      "<Slide, name = B_213-ST_BFIW-SE_326_processed>, width=300, height=375, channels=3, levels=1, RGB=True, dtype=uint8> <valis.slide_io.VipsSlideReader object at 0x7f413780dd90> True (375, 300, 3)\n",
      "<Slide, name = B_213-ST_BFIW-SE_327_processed>, width=300, height=375, channels=3, levels=1, RGB=True, dtype=uint8> <valis.slide_io.VipsSlideReader object at 0x7f41378062d0> True (375, 300, 3)\n",
      "<Slide, name = B_213-ST_BFIW-SE_328_processed>, width=300, height=375, channels=3, levels=1, RGB=True, dtype=uint8> <valis.slide_io.VipsSlideReader object at 0x7f413780e570> True (375, 300, 3)\n",
      "<Slide, name = B_213-ST_BFIW-SE_329_processed>, width=300, height=375, channels=3, levels=1, RGB=True, dtype=uint8> <valis.slide_io.VipsSlideReader object at 0x7f413780e330> True (375, 300, 3)\n",
      "<Slide, name = B_213-ST_BFIW-SE_330_processed>, width=300, height=375, channels=3, levels=1, RGB=True, dtype=uint8> <valis.slide_io.VipsSlideReader object at 0x7f413780e5a0> True (375, 300, 3)\n",
      "<Slide, name = B_213-ST_BFIW-SE_331_processed>, width=300, height=375, channels=3, levels=1, RGB=True, dtype=uint8> <valis.slide_io.VipsSlideReader object at 0x7f413780e630> True (375, 300, 3)\n",
      "<Slide, name = B_213-ST_BFIW-SE_332_processed>, width=300, height=375, channels=3, levels=1, RGB=True, dtype=uint8> <valis.slide_io.VipsSlideReader object at 0x7f41378066f0> True (375, 300, 3)\n",
      "<Slide, name = B_213-ST_BFIW-SE_333_processed>, width=300, height=375, channels=3, levels=1, RGB=True, dtype=uint8> <valis.slide_io.VipsSlideReader object at 0x7f413780dcd0> True (375, 300, 3)\n",
      "<Slide, name = B_213-ST_BFIW-SE_334_processed>, width=300, height=375, channels=3, levels=1, RGB=True, dtype=uint8> <valis.slide_io.VipsSlideReader object at 0x7f4137da6600> True (375, 300, 3)\n"
     ]
    },
    {
     "name": "stderr",
     "output_type": "stream",
     "text": [
      "Converting images:  12%|█████▋                                          | 308/2627 [00:03<00:26, 87.98image/s]"
     ]
    },
    {
     "name": "stdout",
     "output_type": "stream",
     "text": [
      "<Slide, name = B_213-ST_BFIW-SE_335_processed>, width=300, height=375, channels=3, levels=1, RGB=True, dtype=uint8> <valis.slide_io.VipsSlideReader object at 0x7f413780e4b0> True (375, 300, 3)\n",
      "<Slide, name = B_213-ST_BFIW-SE_336_processed>, width=300, height=375, channels=3, levels=1, RGB=True, dtype=uint8> <valis.slide_io.VipsSlideReader object at 0x7f41378065d0> True (375, 300, 3)\n",
      "<Slide, name = B_213-ST_BFIW-SE_337_processed>, width=300, height=375, channels=3, levels=1, RGB=True, dtype=uint8> <valis.slide_io.VipsSlideReader object at 0x7f413780e720> True (375, 300, 3)\n",
      "<Slide, name = B_213-ST_BFIW-SE_338_processed>, width=300, height=375, channels=3, levels=1, RGB=True, dtype=uint8> <valis.slide_io.VipsSlideReader object at 0x7f413780e7e0> True (375, 300, 3)\n",
      "<Slide, name = B_213-ST_BFIW-SE_339_processed>, width=300, height=375, channels=3, levels=1, RGB=True, dtype=uint8> <valis.slide_io.VipsSlideReader object at 0x7f4137806930> True (375, 300, 3)\n",
      "<Slide, name = B_213-ST_BFIW-SE_340_processed>, width=300, height=375, channels=3, levels=1, RGB=True, dtype=uint8> <valis.slide_io.VipsSlideReader object at 0x7f413780e540> True (375, 300, 3)\n",
      "<Slide, name = B_213-ST_BFIW-SE_341_processed>, width=300, height=375, channels=3, levels=1, RGB=True, dtype=uint8> <valis.slide_io.VipsSlideReader object at 0x7f413780df70> True (375, 300, 3)\n",
      "<Slide, name = B_213-ST_BFIW-SE_342_processed>, width=300, height=375, channels=3, levels=1, RGB=True, dtype=uint8> <valis.slide_io.VipsSlideReader object at 0x7f4137daec00> True (375, 300, 3)\n",
      "<Slide, name = B_213-ST_BFIW-SE_343_processed>, width=300, height=375, channels=3, levels=1, RGB=True, dtype=uint8> <valis.slide_io.VipsSlideReader object at 0x7f413780e510> True (375, 300, 3)\n"
     ]
    },
    {
     "name": "stderr",
     "output_type": "stream",
     "text": [
      "Converting images:  12%|█████▊                                          | 317/2627 [00:03<00:26, 87.34image/s]"
     ]
    },
    {
     "name": "stdout",
     "output_type": "stream",
     "text": [
      "<Slide, name = B_213-ST_BFIW-SE_344_processed>, width=300, height=375, channels=3, levels=1, RGB=True, dtype=uint8> <valis.slide_io.VipsSlideReader object at 0x7f4137807530> True (375, 300, 3)\n",
      "<Slide, name = B_213-ST_BFIW-SE_345_processed>, width=300, height=375, channels=3, levels=1, RGB=True, dtype=uint8> <valis.slide_io.VipsSlideReader object at 0x7f4137807e90> True (375, 300, 3)\n",
      "<Slide, name = B_213-ST_BFIW-SE_346_processed>, width=300, height=375, channels=3, levels=1, RGB=True, dtype=uint8> <valis.slide_io.VipsSlideReader object at 0x7f4137d7eb40> True (375, 300, 3)\n",
      "<Slide, name = B_213-ST_BFIW-SE_347_processed>, width=300, height=375, channels=3, levels=1, RGB=True, dtype=uint8> <valis.slide_io.VipsSlideReader object at 0x7f413780e900> True (375, 300, 3)\n",
      "<Slide, name = B_213-ST_BFIW-SE_348_processed>, width=300, height=375, channels=3, levels=1, RGB=True, dtype=uint8> <valis.slide_io.VipsSlideReader object at 0x7f4137807e60> True (375, 300, 3)\n",
      "<Slide, name = B_213-ST_BFIW-SE_349_processed>, width=300, height=375, channels=3, levels=1, RGB=True, dtype=uint8> <valis.slide_io.VipsSlideReader object at 0x7f413780e780> True (375, 300, 3)\n",
      "<Slide, name = B_213-ST_BFIW-SE_350_processed>, width=300, height=375, channels=3, levels=1, RGB=True, dtype=uint8> <valis.slide_io.VipsSlideReader object at 0x7f413780ea20> True (375, 300, 3)\n",
      "<Slide, name = B_213-ST_BFIW-SE_351_processed>, width=300, height=375, channels=3, levels=1, RGB=True, dtype=uint8> <valis.slide_io.VipsSlideReader object at 0x7f413780fe00> True (375, 300, 3)\n",
      "<Slide, name = B_213-ST_BFIW-SE_352_processed>, width=300, height=375, channels=3, levels=1, RGB=True, dtype=uint8> <valis.slide_io.VipsSlideReader object at 0x7f413780eae0> True (375, 300, 3)\n"
     ]
    },
    {
     "name": "stderr",
     "output_type": "stream",
     "text": [
      "Converting images:  12%|█████▉                                          | 326/2627 [00:03<00:26, 87.69image/s]"
     ]
    },
    {
     "name": "stdout",
     "output_type": "stream",
     "text": [
      "<Slide, name = B_213-ST_BFIW-SE_353_processed>, width=300, height=375, channels=3, levels=1, RGB=True, dtype=uint8> <valis.slide_io.VipsSlideReader object at 0x7f413780ff50> True (375, 300, 3)\n",
      "<Slide, name = B_213-ST_BFIW-SE_354_processed>, width=300, height=375, channels=3, levels=1, RGB=True, dtype=uint8> <valis.slide_io.VipsSlideReader object at 0x7f4137800170> True (375, 300, 3)\n",
      "<Slide, name = B_213-ST_BFIW-SE_355_processed>, width=300, height=375, channels=3, levels=1, RGB=True, dtype=uint8> <valis.slide_io.VipsSlideReader object at 0x7f4137812600> True (375, 300, 3)\n",
      "<Slide, name = B_213-ST_BFIW-SE_356_processed>, width=300, height=375, channels=3, levels=1, RGB=True, dtype=uint8> <valis.slide_io.VipsSlideReader object at 0x7f4137810050> True (375, 300, 3)\n",
      "<Slide, name = B_213-ST_BFIW-SE_357_processed>, width=300, height=375, channels=3, levels=1, RGB=True, dtype=uint8> <valis.slide_io.VipsSlideReader object at 0x7f4137810110> True (375, 300, 3)\n",
      "<Slide, name = B_213-ST_BFIW-SE_358_processed>, width=300, height=375, channels=3, levels=1, RGB=True, dtype=uint8> <valis.slide_io.VipsSlideReader object at 0x7f4137810200> True (375, 300, 3)\n",
      "<Slide, name = B_213-ST_BFIW-SE_359_processed>, width=300, height=375, channels=3, levels=1, RGB=True, dtype=uint8> <valis.slide_io.VipsSlideReader object at 0x7f41378005f0> True (375, 300, 3)\n",
      "<Slide, name = B_213-ST_BFIW-SE_360_processed>, width=300, height=375, channels=3, levels=1, RGB=True, dtype=uint8> <valis.slide_io.VipsSlideReader object at 0x7f41378106e0> True (375, 300, 3)\n",
      "<Slide, name = B_213-ST_BFIW-SE_361_processed>, width=300, height=375, channels=3, levels=1, RGB=True, dtype=uint8> <valis.slide_io.VipsSlideReader object at 0x7f41378101d0> True (375, 300, 3)\n"
     ]
    },
    {
     "name": "stderr",
     "output_type": "stream",
     "text": [
      "Converting images:  13%|██████                                          | 335/2627 [00:03<00:26, 87.69image/s]"
     ]
    },
    {
     "name": "stdout",
     "output_type": "stream",
     "text": [
      "<Slide, name = B_213-ST_BFIW-SE_362_processed>, width=300, height=375, channels=3, levels=1, RGB=True, dtype=uint8> <valis.slide_io.VipsSlideReader object at 0x7f41378108c0> True (375, 300, 3)\n",
      "<Slide, name = B_213-ST_BFIW-SE_363_processed>, width=300, height=375, channels=3, levels=1, RGB=True, dtype=uint8> <valis.slide_io.VipsSlideReader object at 0x7f4137810950> True (375, 300, 3)\n",
      "<Slide, name = B_213-ST_BFIW-SE_364_processed>, width=300, height=375, channels=3, levels=1, RGB=True, dtype=uint8> <valis.slide_io.VipsSlideReader object at 0x7f41378109e0> True (375, 300, 3)\n",
      "<Slide, name = B_213-ST_BFIW-SE_365_processed>, width=300, height=375, channels=3, levels=1, RGB=True, dtype=uint8> <valis.slide_io.VipsSlideReader object at 0x7f4137800830> True (375, 300, 3)\n",
      "<Slide, name = B_213-ST_BFIW-SE_366_processed>, width=300, height=375, channels=3, levels=1, RGB=True, dtype=uint8> <valis.slide_io.VipsSlideReader object at 0x7f4137800b00> True (375, 300, 3)\n",
      "<Slide, name = B_213-ST_BFIW-SE_367_processed>, width=300, height=375, channels=3, levels=1, RGB=True, dtype=uint8> <valis.slide_io.VipsSlideReader object at 0x7f4137800980> True (375, 300, 3)\n",
      "<Slide, name = B_213-ST_BFIW-SE_368_processed>, width=300, height=375, channels=3, levels=1, RGB=True, dtype=uint8> <valis.slide_io.VipsSlideReader object at 0x7f4137800a70> True (375, 300, 3)\n",
      "<Slide, name = B_213-ST_BFIW-SE_369_processed>, width=300, height=375, channels=3, levels=1, RGB=True, dtype=uint8> <valis.slide_io.VipsSlideReader object at 0x7f4137810620> True (375, 300, 3)\n",
      "<Slide, name = B_213-ST_BFIW-SE_370_processed>, width=300, height=375, channels=3, levels=1, RGB=True, dtype=uint8> <valis.slide_io.VipsSlideReader object at 0x7f42d2f48b30> True (375, 300, 3)\n"
     ]
    },
    {
     "name": "stderr",
     "output_type": "stream",
     "text": [
      "Converting images:  13%|██████▎                                         | 344/2627 [00:03<00:26, 86.98image/s]"
     ]
    },
    {
     "name": "stdout",
     "output_type": "stream",
     "text": [
      "<Slide, name = B_213-ST_BFIW-SE_371_processed>, width=300, height=375, channels=3, levels=1, RGB=True, dtype=uint8> <valis.slide_io.VipsSlideReader object at 0x7f4137800ce0> True (375, 300, 3)\n",
      "<Slide, name = B_213-ST_BFIW-SE_372_processed>, width=300, height=375, channels=3, levels=1, RGB=True, dtype=uint8> <valis.slide_io.VipsSlideReader object at 0x7f4137810dd0> True (375, 300, 3)\n",
      "<Slide, name = B_213-ST_BFIW-SE_373_processed>, width=300, height=375, channels=3, levels=1, RGB=True, dtype=uint8> <valis.slide_io.VipsSlideReader object at 0x7f4137801f10> True (375, 300, 3)\n",
      "<Slide, name = B_213-ST_BFIW-SE_374_processed>, width=300, height=375, channels=3, levels=1, RGB=True, dtype=uint8> <valis.slide_io.VipsSlideReader object at 0x7f4137810c20> True (375, 300, 3)\n",
      "<Slide, name = B_213-ST_BFIW-SE_375_processed>, width=300, height=375, channels=3, levels=1, RGB=True, dtype=uint8> <valis.slide_io.VipsSlideReader object at 0x7f4137810bf0> True (375, 300, 3)\n",
      "<Slide, name = B_213-ST_BFIW-SE_376_processed>, width=300, height=375, channels=3, levels=1, RGB=True, dtype=uint8> <valis.slide_io.VipsSlideReader object at 0x7f4137be0da0> True (375, 300, 3)\n",
      "<Slide, name = B_213-ST_BFIW-SE_377_processed>, width=300, height=375, channels=3, levels=1, RGB=True, dtype=uint8> <valis.slide_io.VipsSlideReader object at 0x7f4137811010> True (375, 300, 3)\n",
      "<Slide, name = B_213-ST_BFIW-SE_378_processed>, width=300, height=375, channels=3, levels=1, RGB=True, dtype=uint8> <valis.slide_io.VipsSlideReader object at 0x7f4137810e30> True (375, 300, 3)\n",
      "<Slide, name = B_213-ST_BFIW-SE_379_processed>, width=300, height=375, channels=3, levels=1, RGB=True, dtype=uint8> <valis.slide_io.VipsSlideReader object at 0x7f4137810ad0> True (375, 300, 3)\n"
     ]
    },
    {
     "name": "stderr",
     "output_type": "stream",
     "text": [
      "Converting images:  13%|██████▍                                         | 353/2627 [00:04<00:26, 86.97image/s]"
     ]
    },
    {
     "name": "stdout",
     "output_type": "stream",
     "text": [
      "<Slide, name = B_213-ST_BFIW-SE_380_processed>, width=300, height=375, channels=3, levels=1, RGB=True, dtype=uint8> <valis.slide_io.VipsSlideReader object at 0x7f4137810f80> True (375, 300, 3)\n",
      "<Slide, name = B_213-ST_BFIW-SE_381_processed>, width=300, height=375, channels=3, levels=1, RGB=True, dtype=uint8> <valis.slide_io.VipsSlideReader object at 0x7f4137811130> True (375, 300, 3)\n",
      "<Slide, name = B_213-ST_BFIW-SE_382_processed>, width=300, height=375, channels=3, levels=1, RGB=True, dtype=uint8> <valis.slide_io.VipsSlideReader object at 0x7f41378111f0> True (375, 300, 3)\n",
      "<Slide, name = B_213-ST_BFIW-SE_383_processed>, width=300, height=375, channels=3, levels=1, RGB=True, dtype=uint8> <valis.slide_io.VipsSlideReader object at 0x7f4137811280> True (375, 300, 3)\n",
      "<Slide, name = B_213-ST_BFIW-SE_384_processed>, width=300, height=375, channels=3, levels=1, RGB=True, dtype=uint8> <valis.slide_io.VipsSlideReader object at 0x7f4137810f50> True (375, 300, 3)\n",
      "<Slide, name = B_213-ST_BFIW-SE_385_processed>, width=300, height=375, channels=3, levels=1, RGB=True, dtype=uint8> <valis.slide_io.VipsSlideReader object at 0x7f4137811310> True (375, 300, 3)\n",
      "<Slide, name = B_213-ST_BFIW-SE_386_processed>, width=300, height=375, channels=3, levels=1, RGB=True, dtype=uint8> <valis.slide_io.VipsSlideReader object at 0x7f41378110d0> True (375, 300, 3)\n",
      "<Slide, name = B_213-ST_BFIW-SE_387_processed>, width=300, height=375, channels=3, levels=1, RGB=True, dtype=uint8> <valis.slide_io.VipsSlideReader object at 0x7f4137811190> True (375, 300, 3)\n",
      "<Slide, name = B_213-ST_BFIW-SE_388_processed>, width=300, height=375, channels=3, levels=1, RGB=True, dtype=uint8> <valis.slide_io.VipsSlideReader object at 0x7f4137811250> True (375, 300, 3)\n"
     ]
    },
    {
     "name": "stderr",
     "output_type": "stream",
     "text": [
      "Converting images:  14%|██████▌                                         | 362/2627 [00:04<00:26, 86.89image/s]"
     ]
    },
    {
     "name": "stdout",
     "output_type": "stream",
     "text": [
      "<Slide, name = B_213-ST_BFIW-SE_389_processed>, width=300, height=375, channels=3, levels=1, RGB=True, dtype=uint8> <valis.slide_io.VipsSlideReader object at 0x7f4137811220> True (375, 300, 3)\n",
      "<Slide, name = B_213-ST_BFIW-SE_390_processed>, width=300, height=375, channels=3, levels=1, RGB=True, dtype=uint8> <valis.slide_io.VipsSlideReader object at 0x7f4137be2390> True (375, 300, 3)\n",
      "<Slide, name = B_213-ST_BFIW-SE_391_processed>, width=300, height=375, channels=3, levels=1, RGB=True, dtype=uint8> <valis.slide_io.VipsSlideReader object at 0x7f41378113d0> True (375, 300, 3)\n",
      "<Slide, name = B_213-ST_BFIW-SE_392_processed>, width=300, height=375, channels=3, levels=1, RGB=True, dtype=uint8> <valis.slide_io.VipsSlideReader object at 0x7f4137811610> True (375, 300, 3)\n",
      "<Slide, name = B_213-ST_BFIW-SE_393_processed>, width=300, height=375, channels=3, levels=1, RGB=True, dtype=uint8> <valis.slide_io.VipsSlideReader object at 0x7f4137801670> True (375, 300, 3)\n",
      "<Slide, name = B_213-ST_BFIW-SE_394_processed>, width=300, height=375, channels=3, levels=1, RGB=True, dtype=uint8> <valis.slide_io.VipsSlideReader object at 0x7f4137811160> True (375, 300, 3)\n",
      "<Slide, name = B_213-ST_BFIW-SE_395_processed>, width=300, height=375, channels=3, levels=1, RGB=True, dtype=uint8> <valis.slide_io.VipsSlideReader object at 0x7f4137811850> True (375, 300, 3)\n",
      "<Slide, name = B_213-ST_BFIW-SE_396_processed>, width=300, height=375, channels=3, levels=1, RGB=True, dtype=uint8> <valis.slide_io.VipsSlideReader object at 0x7f41378016d0> True (375, 300, 3)\n",
      "<Slide, name = B_213-ST_BFIW-SE_397_processed>, width=300, height=375, channels=3, levels=1, RGB=True, dtype=uint8> <valis.slide_io.VipsSlideReader object at 0x7f4137811790> True (375, 300, 3)\n"
     ]
    },
    {
     "name": "stderr",
     "output_type": "stream",
     "text": [
      "Converting images:  14%|██████▊                                         | 371/2627 [00:04<00:25, 86.98image/s]"
     ]
    },
    {
     "name": "stdout",
     "output_type": "stream",
     "text": [
      "<Slide, name = B_213-ST_BFIW-SE_398_processed>, width=300, height=375, channels=3, levels=1, RGB=True, dtype=uint8> <valis.slide_io.VipsSlideReader object at 0x7f4137801730> True (375, 300, 3)\n",
      "<Slide, name = B_213-ST_BFIW-SE_399_processed>, width=300, height=375, channels=3, levels=1, RGB=True, dtype=uint8> <valis.slide_io.VipsSlideReader object at 0x7f4137811370> True (375, 300, 3)\n",
      "<Slide, name = B_213-ST_BFIW-SE_400_processed>, width=300, height=375, channels=3, levels=1, RGB=True, dtype=uint8> <valis.slide_io.VipsSlideReader object at 0x7f4137811a00> True (375, 300, 3)\n",
      "<Slide, name = B_213-ST_BFIW-SE_401_processed>, width=300, height=375, channels=3, levels=1, RGB=True, dtype=uint8> <valis.slide_io.VipsSlideReader object at 0x7f4137801a30> True (375, 300, 3)\n",
      "<Slide, name = B_213-ST_BFIW-SE_402_processed>, width=300, height=375, channels=3, levels=1, RGB=True, dtype=uint8> <valis.slide_io.VipsSlideReader object at 0x7f413f481c70> True (375, 300, 3)\n",
      "<Slide, name = B_213-ST_BFIW-SE_403_processed>, width=300, height=375, channels=3, levels=1, RGB=True, dtype=uint8> <valis.slide_io.VipsSlideReader object at 0x7f41378112e0> True (375, 300, 3)\n",
      "<Slide, name = B_213-ST_BFIW-SE_404_processed>, width=300, height=375, channels=3, levels=1, RGB=True, dtype=uint8> <valis.slide_io.VipsSlideReader object at 0x7f4137811910> True (375, 300, 3)\n",
      "<Slide, name = B_213-ST_BFIW-SE_405_processed>, width=300, height=375, channels=3, levels=1, RGB=True, dtype=uint8> <valis.slide_io.VipsSlideReader object at 0x7f4137811a90> True (375, 300, 3)\n",
      "<Slide, name = B_213-ST_BFIW-SE_406_processed>, width=300, height=375, channels=3, levels=1, RGB=True, dtype=uint8> <valis.slide_io.VipsSlideReader object at 0x7f4137811e50> True (375, 300, 3)\n"
     ]
    },
    {
     "name": "stderr",
     "output_type": "stream",
     "text": [
      "Converting images:  14%|██████▉                                         | 380/2627 [00:04<00:25, 87.82image/s]"
     ]
    },
    {
     "name": "stdout",
     "output_type": "stream",
     "text": [
      "<Slide, name = B_213-ST_BFIW-SE_407_processed>, width=300, height=375, channels=3, levels=1, RGB=True, dtype=uint8> <valis.slide_io.VipsSlideReader object at 0x7f4137811ee0> True (375, 300, 3)\n",
      "<Slide, name = B_213-ST_BFIW-SE_408_processed>, width=300, height=375, channels=3, levels=1, RGB=True, dtype=uint8> <valis.slide_io.VipsSlideReader object at 0x7f4137811fa0> True (375, 300, 3)\n",
      "<Slide, name = B_213-ST_BFIW-SE_409_processed>, width=300, height=375, channels=3, levels=1, RGB=True, dtype=uint8> <valis.slide_io.VipsSlideReader object at 0x7f4137812030> True (375, 300, 3)\n",
      "<Slide, name = B_213-ST_BFIW-SE_410_processed>, width=300, height=375, channels=3, levels=1, RGB=True, dtype=uint8> <valis.slide_io.VipsSlideReader object at 0x7f41378120c0> True (375, 300, 3)\n",
      "<Slide, name = B_213-ST_BFIW-SE_411_processed>, width=300, height=375, channels=3, levels=1, RGB=True, dtype=uint8> <valis.slide_io.VipsSlideReader object at 0x7f4137812180> True (375, 300, 3)\n",
      "<Slide, name = B_213-ST_BFIW-SE_412_processed>, width=300, height=375, channels=3, levels=1, RGB=True, dtype=uint8> <valis.slide_io.VipsSlideReader object at 0x7f4137811f10> True (375, 300, 3)\n",
      "<Slide, name = B_213-ST_BFIW-SE_413_processed>, width=300, height=375, channels=3, levels=1, RGB=True, dtype=uint8> <valis.slide_io.VipsSlideReader object at 0x7f4137812210> True (375, 300, 3)\n",
      "<Slide, name = B_213-ST_BFIW-SE_414_processed>, width=300, height=375, channels=3, levels=1, RGB=True, dtype=uint8> <valis.slide_io.VipsSlideReader object at 0x7f4137810650> True (375, 300, 3)\n",
      "<Slide, name = B_213-ST_BFIW-SE_415_processed>, width=300, height=375, channels=3, levels=1, RGB=True, dtype=uint8> <valis.slide_io.VipsSlideReader object at 0x7f4137be2300> True (375, 300, 3)\n"
     ]
    },
    {
     "name": "stderr",
     "output_type": "stream",
     "text": [
      "Converting images:  15%|███████                                         | 389/2627 [00:04<00:25, 87.22image/s]"
     ]
    },
    {
     "name": "stdout",
     "output_type": "stream",
     "text": [
      "<Slide, name = B_213-ST_BFIW-SE_416_processed>, width=300, height=375, channels=3, levels=1, RGB=True, dtype=uint8> <valis.slide_io.VipsSlideReader object at 0x7f41378023c0> True (375, 300, 3)\n",
      "<Slide, name = B_213-ST_BFIW-SE_417_processed>, width=300, height=375, channels=3, levels=1, RGB=True, dtype=uint8> <valis.slide_io.VipsSlideReader object at 0x7f4137812360> True (375, 300, 3)\n",
      "<Slide, name = B_213-ST_BFIW-SE_418_processed>, width=300, height=375, channels=3, levels=1, RGB=True, dtype=uint8> <valis.slide_io.VipsSlideReader object at 0x7f4137812090> True (375, 300, 3)\n",
      "<Slide, name = B_213-ST_BFIW-SE_419_processed>, width=300, height=375, channels=3, levels=1, RGB=True, dtype=uint8> <valis.slide_io.VipsSlideReader object at 0x7f4137812390> True (375, 300, 3)\n",
      "<Slide, name = B_213-ST_BFIW-SE_420_processed>, width=300, height=375, channels=3, levels=1, RGB=True, dtype=uint8> <valis.slide_io.VipsSlideReader object at 0x7f4137802510> True (375, 300, 3)\n",
      "<Slide, name = B_213-ST_BFIW-SE_421_processed>, width=300, height=375, channels=3, levels=1, RGB=True, dtype=uint8> <valis.slide_io.VipsSlideReader object at 0x7f4137811d90> True (375, 300, 3)\n",
      "<Slide, name = B_213-ST_BFIW-SE_422_processed>, width=300, height=375, channels=3, levels=1, RGB=True, dtype=uint8> <valis.slide_io.VipsSlideReader object at 0x7f42d2f024b0> True (375, 300, 3)\n",
      "<Slide, name = B_213-ST_BFIW-SE_423_processed>, width=300, height=375, channels=3, levels=1, RGB=True, dtype=uint8> <valis.slide_io.VipsSlideReader object at 0x7f4137802ed0> True (375, 300, 3)\n",
      "<Slide, name = B_213-ST_BFIW-SE_424_processed>, width=300, height=375, channels=3, levels=1, RGB=True, dtype=uint8> <valis.slide_io.VipsSlideReader object at 0x7f41378121b0> True (375, 300, 3)\n"
     ]
    },
    {
     "name": "stderr",
     "output_type": "stream",
     "text": [
      "Converting images:  15%|███████▎                                        | 398/2627 [00:04<00:25, 86.51image/s]"
     ]
    },
    {
     "name": "stdout",
     "output_type": "stream",
     "text": [
      "<Slide, name = B_213-ST_BFIW-SE_425_processed>, width=300, height=375, channels=3, levels=1, RGB=True, dtype=uint8> <valis.slide_io.VipsSlideReader object at 0x7f4137812660> True (375, 300, 3)\n",
      "<Slide, name = B_213-ST_BFIW-SE_426_processed>, width=300, height=375, channels=3, levels=1, RGB=True, dtype=uint8> <valis.slide_io.VipsSlideReader object at 0x7f41378029c0> True (375, 300, 3)\n",
      "<Slide, name = B_213-ST_BFIW-SE_427_processed>, width=300, height=375, channels=3, levels=1, RGB=True, dtype=uint8> <valis.slide_io.VipsSlideReader object at 0x7f4137802420> True (375, 300, 3)\n",
      "<Slide, name = B_213-ST_BFIW-SE_428_processed>, width=300, height=375, channels=3, levels=1, RGB=True, dtype=uint8> <valis.slide_io.VipsSlideReader object at 0x7f4137812b10> True (375, 300, 3)\n",
      "<Slide, name = B_213-ST_BFIW-SE_429_processed>, width=300, height=375, channels=3, levels=1, RGB=True, dtype=uint8> <valis.slide_io.VipsSlideReader object at 0x7f4137812690> True (375, 300, 3)\n",
      "<Slide, name = B_213-ST_BFIW-SE_430_processed>, width=300, height=375, channels=3, levels=1, RGB=True, dtype=uint8> <valis.slide_io.VipsSlideReader object at 0x7f41378027b0> True (375, 300, 3)\n",
      "<Slide, name = B_213-ST_BFIW-SE_431_processed>, width=300, height=375, channels=3, levels=1, RGB=True, dtype=uint8> <valis.slide_io.VipsSlideReader object at 0x7f4137812540> True (375, 300, 3)\n",
      "<Slide, name = B_213-ST_BFIW-SE_432_processed>, width=300, height=375, channels=3, levels=1, RGB=True, dtype=uint8> <valis.slide_io.VipsSlideReader object at 0x7f4137812c90> True (375, 300, 3)\n",
      "<Slide, name = B_213-ST_BFIW-SE_433_processed>, width=300, height=375, channels=3, levels=1, RGB=True, dtype=uint8> <valis.slide_io.VipsSlideReader object at 0x7f41378125d0> True (375, 300, 3)\n"
     ]
    },
    {
     "name": "stderr",
     "output_type": "stream",
     "text": [
      "Converting images:  15%|███████▍                                        | 407/2627 [00:04<00:25, 86.26image/s]"
     ]
    },
    {
     "name": "stdout",
     "output_type": "stream",
     "text": [
      "<Slide, name = B_213-ST_BFIW-SE_434_processed>, width=300, height=375, channels=3, levels=1, RGB=True, dtype=uint8> <valis.slide_io.VipsSlideReader object at 0x7f4137812de0> True (375, 300, 3)\n",
      "<Slide, name = B_213-ST_BFIW-SE_435_processed>, width=300, height=375, channels=3, levels=1, RGB=True, dtype=uint8> <valis.slide_io.VipsSlideReader object at 0x7f4137812e70> True (375, 300, 3)\n",
      "<Slide, name = B_213-ST_BFIW-SE_436_processed>, width=300, height=375, channels=3, levels=1, RGB=True, dtype=uint8> <valis.slide_io.VipsSlideReader object at 0x7f4137812f00> True (375, 300, 3)\n",
      "<Slide, name = B_213-ST_BFIW-SE_437_processed>, width=300, height=375, channels=3, levels=1, RGB=True, dtype=uint8> <valis.slide_io.VipsSlideReader object at 0x7f4137812fc0> True (375, 300, 3)\n",
      "<Slide, name = B_213-ST_BFIW-SE_438_processed>, width=300, height=375, channels=3, levels=1, RGB=True, dtype=uint8> <valis.slide_io.VipsSlideReader object at 0x7f4137813050> True (375, 300, 3)\n",
      "<Slide, name = B_213-ST_BFIW-SE_439_processed>, width=300, height=375, channels=3, levels=1, RGB=True, dtype=uint8> <valis.slide_io.VipsSlideReader object at 0x7f41378130e0> True (375, 300, 3)\n",
      "<Slide, name = B_213-ST_BFIW-SE_440_processed>, width=300, height=375, channels=3, levels=1, RGB=True, dtype=uint8> <valis.slide_io.VipsSlideReader object at 0x7f41378131a0> True (375, 300, 3)\n",
      "<Slide, name = B_213-ST_BFIW-SE_441_processed>, width=300, height=375, channels=3, levels=1, RGB=True, dtype=uint8> <valis.slide_io.VipsSlideReader object at 0x7f4137daaff0> True (375, 300, 3)\n",
      "<Slide, name = B_213-ST_BFIW-SE_442_processed>, width=300, height=375, channels=3, levels=1, RGB=True, dtype=uint8> <valis.slide_io.VipsSlideReader object at 0x7f4137812570> True (375, 300, 3)\n"
     ]
    },
    {
     "name": "stderr",
     "output_type": "stream",
     "text": [
      "Converting images:  16%|███████▌                                        | 416/2627 [00:04<00:25, 85.51image/s]"
     ]
    },
    {
     "name": "stdout",
     "output_type": "stream",
     "text": [
      "<Slide, name = B_213-ST_BFIW-SE_443_processed>, width=300, height=375, channels=3, levels=1, RGB=True, dtype=uint8> <valis.slide_io.VipsSlideReader object at 0x7f4137bb3590> True (375, 300, 3)\n",
      "<Slide, name = B_213-ST_BFIW-SE_444_processed>, width=300, height=375, channels=3, levels=1, RGB=True, dtype=uint8> <valis.slide_io.VipsSlideReader object at 0x7f4137be33b0> True (375, 300, 3)\n",
      "<Slide, name = B_213-ST_BFIW-SE_445_processed>, width=300, height=375, channels=3, levels=1, RGB=True, dtype=uint8> <valis.slide_io.VipsSlideReader object at 0x7f4137812c60> True (375, 300, 3)\n",
      "<Slide, name = B_213-ST_BFIW-SE_446_processed>, width=300, height=375, channels=3, levels=1, RGB=True, dtype=uint8> <valis.slide_io.VipsSlideReader object at 0x7f4137813350> True (375, 300, 3)\n",
      "<Slide, name = B_213-ST_BFIW-SE_447_processed>, width=300, height=375, channels=3, levels=1, RGB=True, dtype=uint8> <valis.slide_io.VipsSlideReader object at 0x7f4137813110> True (375, 300, 3)\n",
      "<Slide, name = B_213-ST_BFIW-SE_448_processed>, width=300, height=375, channels=3, levels=1, RGB=True, dtype=uint8> <valis.slide_io.VipsSlideReader object at 0x7f4137812c00> True (375, 300, 3)\n",
      "<Slide, name = B_213-ST_BFIW-SE_449_processed>, width=300, height=375, channels=3, levels=1, RGB=True, dtype=uint8> <valis.slide_io.VipsSlideReader object at 0x7f4137813290> True (375, 300, 3)\n",
      "<Slide, name = B_213-ST_BFIW-SE_450_processed>, width=300, height=375, channels=3, levels=1, RGB=True, dtype=uint8> <valis.slide_io.VipsSlideReader object at 0x7f41378035f0> True (375, 300, 3)\n",
      "<Slide, name = B_213-ST_BFIW-SE_451_processed>, width=300, height=375, channels=3, levels=1, RGB=True, dtype=uint8> <valis.slide_io.VipsSlideReader object at 0x7f41378134d0> True (375, 300, 3)\n"
     ]
    },
    {
     "name": "stderr",
     "output_type": "stream",
     "text": [
      "Converting images:  16%|███████▊                                        | 425/2627 [00:04<00:25, 85.51image/s]"
     ]
    },
    {
     "name": "stdout",
     "output_type": "stream",
     "text": [
      "<Slide, name = B_213-ST_BFIW-SE_452_processed>, width=300, height=375, channels=3, levels=1, RGB=True, dtype=uint8> <valis.slide_io.VipsSlideReader object at 0x7f41378035c0> True (375, 300, 3)\n",
      "<Slide, name = B_213-ST_BFIW-SE_453_processed>, width=300, height=375, channels=3, levels=1, RGB=True, dtype=uint8> <valis.slide_io.VipsSlideReader object at 0x7f4137803740> True (375, 300, 3)\n",
      "<Slide, name = B_213-ST_BFIW-SE_454_processed>, width=300, height=375, channels=3, levels=1, RGB=True, dtype=uint8> <valis.slide_io.VipsSlideReader object at 0x7f4137813620> True (375, 300, 3)\n",
      "<Slide, name = B_213-ST_BFIW-SE_455_processed>, width=300, height=375, channels=3, levels=1, RGB=True, dtype=uint8> <valis.slide_io.VipsSlideReader object at 0x7f4137803380> True (375, 300, 3)\n",
      "<Slide, name = B_213-ST_BFIW-SE_456_processed>, width=300, height=375, channels=3, levels=1, RGB=True, dtype=uint8> <valis.slide_io.VipsSlideReader object at 0x7f413780ebd0> True (375, 300, 3)\n",
      "<Slide, name = B_213-ST_BFIW-SE_457_processed>, width=300, height=375, channels=3, levels=1, RGB=True, dtype=uint8> <valis.slide_io.VipsSlideReader object at 0x7f4137813da0> True (375, 300, 3)\n",
      "<Slide, name = B_213-ST_BFIW-SE_458_processed>, width=300, height=375, channels=3, levels=1, RGB=True, dtype=uint8> <valis.slide_io.VipsSlideReader object at 0x7f4137802d20> True (375, 300, 3)\n",
      "<Slide, name = B_213-ST_BFIW-SE_459_processed>, width=300, height=375, channels=3, levels=1, RGB=True, dtype=uint8> <valis.slide_io.VipsSlideReader object at 0x7f4137813560> True (375, 300, 3)\n",
      "<Slide, name = B_213-ST_BFIW-SE_460_processed>, width=300, height=375, channels=3, levels=1, RGB=True, dtype=uint8> <valis.slide_io.VipsSlideReader object at 0x7f413780d250> True (375, 300, 3)\n"
     ]
    },
    {
     "name": "stderr",
     "output_type": "stream",
     "text": [
      "Converting images:  17%|███████▉                                        | 434/2627 [00:04<00:25, 86.40image/s]"
     ]
    },
    {
     "name": "stdout",
     "output_type": "stream",
     "text": [
      "<Slide, name = B_213-ST_BFIW-SE_461_processed>, width=300, height=375, channels=3, levels=1, RGB=True, dtype=uint8> <valis.slide_io.VipsSlideReader object at 0x7f413781e3f0> True (375, 300, 3)\n",
      "<Slide, name = B_213-ST_BFIW-SE_462_processed>, width=300, height=375, channels=3, levels=1, RGB=True, dtype=uint8> <valis.slide_io.VipsSlideReader object at 0x7f413781c590> True (375, 300, 3)\n",
      "<Slide, name = B_213-ST_BFIW-SE_463_processed>, width=300, height=375, channels=3, levels=1, RGB=True, dtype=uint8> <valis.slide_io.VipsSlideReader object at 0x7f413780e450> True (375, 300, 3)\n",
      "<Slide, name = B_213-ST_BFIW-SE_464_processed>, width=300, height=375, channels=3, levels=1, RGB=True, dtype=uint8> <valis.slide_io.VipsSlideReader object at 0x7f413781e3c0> True (375, 300, 3)\n",
      "<Slide, name = B_213-ST_BFIW-SE_465_processed>, width=300, height=375, channels=3, levels=1, RGB=True, dtype=uint8> <valis.slide_io.VipsSlideReader object at 0x7f4137bde4e0> True (375, 300, 3)\n",
      "<Slide, name = B_213-ST_BFIW-SE_466_processed>, width=300, height=375, channels=3, levels=1, RGB=True, dtype=uint8> <valis.slide_io.VipsSlideReader object at 0x7f413780e7b0> True (375, 300, 3)\n",
      "<Slide, name = B_213-ST_BFIW-SE_467_processed>, width=300, height=375, channels=3, levels=1, RGB=True, dtype=uint8> <valis.slide_io.VipsSlideReader object at 0x7f4137806270> True (375, 300, 3)\n",
      "<Slide, name = B_213-ST_BFIW-SE_468_processed>, width=300, height=375, channels=3, levels=1, RGB=True, dtype=uint8> <valis.slide_io.VipsSlideReader object at 0x7f4137806780> True (375, 300, 3)\n",
      "<Slide, name = B_213-ST_BFIW-SE_469_processed>, width=300, height=375, channels=3, levels=1, RGB=True, dtype=uint8> <valis.slide_io.VipsSlideReader object at 0x7f413781e990> True (375, 300, 3)\n"
     ]
    },
    {
     "name": "stderr",
     "output_type": "stream",
     "text": [
      "Converting images:  17%|████████                                        | 443/2627 [00:05<00:25, 86.35image/s]"
     ]
    },
    {
     "name": "stdout",
     "output_type": "stream",
     "text": [
      "<Slide, name = B_213-ST_BFIW-SE_470_processed>, width=300, height=375, channels=3, levels=1, RGB=True, dtype=uint8> <valis.slide_io.VipsSlideReader object at 0x7f413780c230> True (375, 300, 3)\n",
      "<Slide, name = B_213-ST_BFIW-SE_471_processed>, width=300, height=375, channels=3, levels=1, RGB=True, dtype=uint8> <valis.slide_io.VipsSlideReader object at 0x7f413780c350> True (375, 300, 3)\n",
      "<Slide, name = B_213-ST_BFIW-SE_472_processed>, width=300, height=375, channels=3, levels=1, RGB=True, dtype=uint8> <valis.slide_io.VipsSlideReader object at 0x7f4137806870> True (375, 300, 3)\n",
      "<Slide, name = B_213-ST_BFIW-SE_473_processed>, width=300, height=375, channels=3, levels=1, RGB=True, dtype=uint8> <valis.slide_io.VipsSlideReader object at 0x7f413781e7e0> True (375, 300, 3)\n",
      "<Slide, name = B_213-ST_BFIW-SE_474_processed>, width=300, height=375, channels=3, levels=1, RGB=True, dtype=uint8> <valis.slide_io.VipsSlideReader object at 0x7f413780e930> True (375, 300, 3)\n",
      "<Slide, name = B_213-ST_BFIW-SE_475_processed>, width=300, height=375, channels=3, levels=1, RGB=True, dtype=uint8> <valis.slide_io.VipsSlideReader object at 0x7f413780eb40> True (375, 300, 3)\n",
      "<Slide, name = B_213-ST_BFIW-SE_476_processed>, width=300, height=375, channels=3, levels=1, RGB=True, dtype=uint8> <valis.slide_io.VipsSlideReader object at 0x7f4137806a20> True (375, 300, 3)\n",
      "<Slide, name = B_213-ST_BFIW-SE_477_processed>, width=300, height=375, channels=3, levels=1, RGB=True, dtype=uint8> <valis.slide_io.VipsSlideReader object at 0x7f413781e9f0> True (375, 300, 3)\n",
      "<Slide, name = B_213-ST_BFIW-SE_478_processed>, width=300, height=375, channels=3, levels=1, RGB=True, dtype=uint8> <valis.slide_io.VipsSlideReader object at 0x7f4137bd6ba0> True (375, 300, 3)\n"
     ]
    },
    {
     "name": "stderr",
     "output_type": "stream",
     "text": [
      "Converting images:  17%|████████▎                                       | 452/2627 [00:05<00:25, 85.89image/s]"
     ]
    },
    {
     "name": "stdout",
     "output_type": "stream",
     "text": [
      "<Slide, name = B_213-ST_BFIW-SE_479_processed>, width=300, height=375, channels=3, levels=1, RGB=True, dtype=uint8> <valis.slide_io.VipsSlideReader object at 0x7f413780e960> True (375, 300, 3)\n",
      "<Slide, name = B_213-ST_BFIW-SE_480_processed>, width=300, height=375, channels=3, levels=1, RGB=True, dtype=uint8> <valis.slide_io.VipsSlideReader object at 0x7f413780ec30> True (375, 300, 3)\n",
      "<Slide, name = B_213-ST_BFIW-SE_481_processed>, width=300, height=375, channels=3, levels=1, RGB=True, dtype=uint8> <valis.slide_io.VipsSlideReader object at 0x7f413781e9c0> True (375, 300, 3)\n",
      "<Slide, name = B_213-ST_BFIW-SE_482_processed>, width=300, height=375, channels=3, levels=1, RGB=True, dtype=uint8> <valis.slide_io.VipsSlideReader object at 0x7f41377fecf0> True (375, 300, 3)\n",
      "<Slide, name = B_213-ST_BFIW-SE_483_processed>, width=300, height=375, channels=3, levels=1, RGB=True, dtype=uint8> <valis.slide_io.VipsSlideReader object at 0x7f413781ed20> True (375, 300, 3)\n",
      "<Slide, name = B_213-ST_BFIW-SE_484_processed>, width=300, height=375, channels=3, levels=1, RGB=True, dtype=uint8> <valis.slide_io.VipsSlideReader object at 0x7f413781eb10> True (375, 300, 3)\n",
      "<Slide, name = B_213-ST_BFIW-SE_485_processed>, width=300, height=375, channels=3, levels=1, RGB=True, dtype=uint8> <valis.slide_io.VipsSlideReader object at 0x7f4137806d50> True (375, 300, 3)\n",
      "<Slide, name = B_213-ST_BFIW-SE_486_processed>, width=300, height=375, channels=3, levels=1, RGB=True, dtype=uint8> <valis.slide_io.VipsSlideReader object at 0x7f4137806ff0> True (375, 300, 3)\n",
      "<Slide, name = B_213-ST_BFIW-SE_487_processed>, width=300, height=375, channels=3, levels=1, RGB=True, dtype=uint8> <valis.slide_io.VipsSlideReader object at 0x7f41377feae0> True (375, 300, 3)\n"
     ]
    },
    {
     "name": "stderr",
     "output_type": "stream",
     "text": [
      "Converting images:  18%|████████▍                                       | 461/2627 [00:05<00:24, 86.81image/s]"
     ]
    },
    {
     "name": "stdout",
     "output_type": "stream",
     "text": [
      "<Slide, name = B_213-ST_BFIW-SE_488_processed>, width=300, height=375, channels=3, levels=1, RGB=True, dtype=uint8> <valis.slide_io.VipsSlideReader object at 0x7f413781eea0> True (375, 300, 3)\n",
      "<Slide, name = B_213-ST_BFIW-SE_489_processed>, width=300, height=375, channels=3, levels=1, RGB=True, dtype=uint8> <valis.slide_io.VipsSlideReader object at 0x7f413781f020> True (375, 300, 3)\n",
      "<Slide, name = B_213-ST_BFIW-SE_490_processed>, width=300, height=375, channels=3, levels=1, RGB=True, dtype=uint8> <valis.slide_io.VipsSlideReader object at 0x7f41378071a0> True (375, 300, 3)\n",
      "<Slide, name = B_213-ST_BFIW-SE_491_processed>, width=300, height=375, channels=3, levels=1, RGB=True, dtype=uint8> <valis.slide_io.VipsSlideReader object at 0x7f413780ee10> True (375, 300, 3)\n",
      "<Slide, name = B_213-ST_BFIW-SE_492_processed>, width=300, height=375, channels=3, levels=1, RGB=True, dtype=uint8> <valis.slide_io.VipsSlideReader object at 0x7f413781e420> True (375, 300, 3)\n",
      "<Slide, name = B_213-ST_BFIW-SE_493_processed>, width=300, height=375, channels=3, levels=1, RGB=True, dtype=uint8> <valis.slide_io.VipsSlideReader object at 0x7f413781f1d0> True (375, 300, 3)\n",
      "<Slide, name = B_213-ST_BFIW-SE_494_processed>, width=300, height=375, channels=3, levels=1, RGB=True, dtype=uint8> <valis.slide_io.VipsSlideReader object at 0x7f413781ec90> True (375, 300, 3)\n",
      "<Slide, name = B_213-ST_BFIW-SE_495_processed>, width=300, height=375, channels=3, levels=1, RGB=True, dtype=uint8> <valis.slide_io.VipsSlideReader object at 0x7f413781f350> True (375, 300, 3)\n",
      "<Slide, name = B_213-ST_BFIW-SE_496_processed>, width=300, height=375, channels=3, levels=1, RGB=True, dtype=uint8> <valis.slide_io.VipsSlideReader object at 0x7f413781f140> True (375, 300, 3)\n"
     ]
    },
    {
     "name": "stderr",
     "output_type": "stream",
     "text": [
      "Converting images:  18%|████████▌                                       | 470/2627 [00:05<00:24, 86.61image/s]"
     ]
    },
    {
     "name": "stdout",
     "output_type": "stream",
     "text": [
      "<Slide, name = B_213-ST_BFIW-SE_497_processed>, width=300, height=375, channels=3, levels=1, RGB=True, dtype=uint8> <valis.slide_io.VipsSlideReader object at 0x7f41377ff4a0> True (375, 300, 3)\n",
      "<Slide, name = B_213-ST_BFIW-SE_498_processed>, width=300, height=375, channels=3, levels=1, RGB=True, dtype=uint8> <valis.slide_io.VipsSlideReader object at 0x7f413781f320> True (375, 300, 3)\n",
      "<Slide, name = B_213-ST_BFIW-SE_499_processed>, width=300, height=375, channels=3, levels=1, RGB=True, dtype=uint8> <valis.slide_io.VipsSlideReader object at 0x7f413781f470> True (375, 300, 3)\n",
      "<Slide, name = B_213-ST_BFIW-SE_500_processed>, width=300, height=375, channels=3, levels=1, RGB=True, dtype=uint8> <valis.slide_io.VipsSlideReader object at 0x7f413781f5f0> True (375, 300, 3)\n",
      "<Slide, name = B_213-ST_BFIW-SE_501_processed>, width=300, height=375, channels=3, levels=1, RGB=True, dtype=uint8> <valis.slide_io.VipsSlideReader object at 0x7f41378070b0> True (375, 300, 3)\n",
      "<Slide, name = B_213-ST_BFIW-SE_502_processed>, width=300, height=375, channels=3, levels=1, RGB=True, dtype=uint8> <valis.slide_io.VipsSlideReader object at 0x7f413781f0e0> True (375, 300, 3)\n",
      "<Slide, name = B_213-ST_BFIW-SE_503_processed>, width=300, height=375, channels=3, levels=1, RGB=True, dtype=uint8> <valis.slide_io.VipsSlideReader object at 0x7f413781f710> True (375, 300, 3)\n",
      "<Slide, name = B_213-ST_BFIW-SE_504_processed>, width=300, height=375, channels=3, levels=1, RGB=True, dtype=uint8> <valis.slide_io.VipsSlideReader object at 0x7f413780f530> True (375, 300, 3)\n",
      "<Slide, name = B_213-ST_BFIW-SE_505_processed>, width=300, height=375, channels=3, levels=1, RGB=True, dtype=uint8> <valis.slide_io.VipsSlideReader object at 0x7f41377ff860> True (375, 300, 3)\n"
     ]
    },
    {
     "name": "stderr",
     "output_type": "stream",
     "text": [
      "Converting images:  18%|████████▊                                       | 479/2627 [00:05<00:24, 86.49image/s]"
     ]
    },
    {
     "name": "stdout",
     "output_type": "stream",
     "text": [
      "<Slide, name = B_213-ST_BFIW-SE_506_processed>, width=300, height=375, channels=3, levels=1, RGB=True, dtype=uint8> <valis.slide_io.VipsSlideReader object at 0x7f413781f800> True (375, 300, 3)\n",
      "<Slide, name = B_213-ST_BFIW-SE_507_processed>, width=300, height=375, channels=3, levels=1, RGB=True, dtype=uint8> <valis.slide_io.VipsSlideReader object at 0x7f413781f830> True (375, 300, 3)\n",
      "<Slide, name = B_213-ST_BFIW-SE_508_processed>, width=300, height=375, channels=3, levels=1, RGB=True, dtype=uint8> <valis.slide_io.VipsSlideReader object at 0x7f413781f950> True (375, 300, 3)\n",
      "<Slide, name = B_213-ST_BFIW-SE_509_processed>, width=300, height=375, channels=3, levels=1, RGB=True, dtype=uint8> <valis.slide_io.VipsSlideReader object at 0x7f413781f8f0> True (375, 300, 3)\n",
      "<Slide, name = B_213-ST_BFIW-SE_510_processed>, width=300, height=375, channels=3, levels=1, RGB=True, dtype=uint8> <valis.slide_io.VipsSlideReader object at 0x7f413781f620> True (375, 300, 3)\n",
      "<Slide, name = B_213-ST_BFIW-SE_511_processed>, width=300, height=375, channels=3, levels=1, RGB=True, dtype=uint8> <valis.slide_io.VipsSlideReader object at 0x7f413780d790> True (375, 300, 3)\n",
      "<Slide, name = B_213-ST_BFIW-SE_512_processed>, width=300, height=375, channels=3, levels=1, RGB=True, dtype=uint8> <valis.slide_io.VipsSlideReader object at 0x7f413781fbf0> True (375, 300, 3)\n",
      "<Slide, name = B_213-ST_BFIW-SE_513_processed>, width=300, height=375, channels=3, levels=1, RGB=True, dtype=uint8> <valis.slide_io.VipsSlideReader object at 0x7f4137807110> True (375, 300, 3)\n",
      "<Slide, name = B_213-ST_BFIW-SE_514_processed>, width=300, height=375, channels=3, levels=1, RGB=True, dtype=uint8> <valis.slide_io.VipsSlideReader object at 0x7f413781fc80> True (375, 300, 3)\n"
     ]
    },
    {
     "name": "stderr",
     "output_type": "stream",
     "text": [
      "Converting images:  19%|████████▉                                       | 488/2627 [00:05<00:24, 86.15image/s]"
     ]
    },
    {
     "name": "stdout",
     "output_type": "stream",
     "text": [
      "<Slide, name = B_213-ST_BFIW-SE_515_processed>, width=300, height=375, channels=3, levels=1, RGB=True, dtype=uint8> <valis.slide_io.VipsSlideReader object at 0x7f413781f9e0> True (375, 300, 3)\n",
      "<Slide, name = B_213-ST_BFIW-SE_516_processed>, width=300, height=375, channels=3, levels=1, RGB=True, dtype=uint8> <valis.slide_io.VipsSlideReader object at 0x7f413781f980> True (375, 300, 3)\n",
      "<Slide, name = B_213-ST_BFIW-SE_517_processed>, width=300, height=375, channels=3, levels=1, RGB=True, dtype=uint8> <valis.slide_io.VipsSlideReader object at 0x7f413780de50> True (375, 300, 3)\n",
      "<Slide, name = B_213-ST_BFIW-SE_518_processed>, width=300, height=375, channels=3, levels=1, RGB=True, dtype=uint8> <valis.slide_io.VipsSlideReader object at 0x7f413781fdd0> True (375, 300, 3)\n",
      "<Slide, name = B_213-ST_BFIW-SE_519_processed>, width=300, height=375, channels=3, levels=1, RGB=True, dtype=uint8> <valis.slide_io.VipsSlideReader object at 0x7f413781fd10> True (375, 300, 3)\n",
      "<Slide, name = B_213-ST_BFIW-SE_520_processed>, width=300, height=375, channels=3, levels=1, RGB=True, dtype=uint8> <valis.slide_io.VipsSlideReader object at 0x7f413781f920> True (375, 300, 3)\n",
      "<Slide, name = B_213-ST_BFIW-SE_521_processed>, width=300, height=375, channels=3, levels=1, RGB=True, dtype=uint8> <valis.slide_io.VipsSlideReader object at 0x7f413781fa70> True (375, 300, 3)\n",
      "<Slide, name = B_213-ST_BFIW-SE_522_processed>, width=300, height=375, channels=3, levels=1, RGB=True, dtype=uint8> <valis.slide_io.VipsSlideReader object at 0x7f413781fe00> True (375, 300, 3)\n",
      "<Slide, name = B_213-ST_BFIW-SE_523_processed>, width=300, height=375, channels=3, levels=1, RGB=True, dtype=uint8> <valis.slide_io.VipsSlideReader object at 0x7f413781ff20> True (375, 300, 3)\n"
     ]
    },
    {
     "name": "stderr",
     "output_type": "stream",
     "text": [
      "Converting images:  19%|█████████                                       | 497/2627 [00:05<00:24, 86.16image/s]"
     ]
    },
    {
     "name": "stdout",
     "output_type": "stream",
     "text": [
      "<Slide, name = B_213-ST_BFIW-SE_524_processed>, width=300, height=375, channels=3, levels=1, RGB=True, dtype=uint8> <valis.slide_io.VipsSlideReader object at 0x7f413781fec0> True (375, 300, 3)\n",
      "<Slide, name = B_213-ST_BFIW-SE_525_processed>, width=300, height=375, channels=3, levels=1, RGB=True, dtype=uint8> <valis.slide_io.VipsSlideReader object at 0x7f41378059d0> True (375, 300, 3)\n",
      "<Slide, name = B_213-ST_BFIW-SE_526_processed>, width=300, height=375, channels=3, levels=1, RGB=True, dtype=uint8> <valis.slide_io.VipsSlideReader object at 0x7f413781ff50> True (375, 300, 3)\n",
      "<Slide, name = B_213-ST_BFIW-SE_527_processed>, width=300, height=375, channels=3, levels=1, RGB=True, dtype=uint8> <valis.slide_io.VipsSlideReader object at 0x7f413781fc50> True (375, 300, 3)\n",
      "<Slide, name = B_213-ST_BFIW-SE_528_processed>, width=300, height=375, channels=3, levels=1, RGB=True, dtype=uint8> <valis.slide_io.VipsSlideReader object at 0x7f413781fcb0> True (375, 300, 3)\n",
      "<Slide, name = B_213-ST_BFIW-SE_529_processed>, width=300, height=375, channels=3, levels=1, RGB=True, dtype=uint8> <valis.slide_io.VipsSlideReader object at 0x7f413781fd40> True (375, 300, 3)\n",
      "<Slide, name = B_213-ST_BFIW-SE_530_processed>, width=300, height=375, channels=3, levels=1, RGB=True, dtype=uint8> <valis.slide_io.VipsSlideReader object at 0x7f413781ff80> True (375, 300, 3)\n",
      "<Slide, name = B_213-ST_BFIW-SE_531_processed>, width=300, height=375, channels=3, levels=1, RGB=True, dtype=uint8> <valis.slide_io.VipsSlideReader object at 0x7f413781fe30> True (375, 300, 3)\n",
      "<Slide, name = B_213-ST_BFIW-SE_532_processed>, width=300, height=375, channels=3, levels=1, RGB=True, dtype=uint8> <valis.slide_io.VipsSlideReader object at 0x7f413781fe60> True (375, 300, 3)\n"
     ]
    },
    {
     "name": "stderr",
     "output_type": "stream",
     "text": [
      "Converting images:  19%|█████████▏                                      | 506/2627 [00:05<00:24, 86.44image/s]"
     ]
    },
    {
     "name": "stdout",
     "output_type": "stream",
     "text": [
      "<Slide, name = B_213-ST_BFIW-SE_533_processed>, width=300, height=375, channels=3, levels=1, RGB=True, dtype=uint8> <valis.slide_io.VipsSlideReader object at 0x7f41378201d0> True (375, 300, 3)\n",
      "<Slide, name = B_213-ST_BFIW-SE_534_processed>, width=300, height=375, channels=3, levels=1, RGB=True, dtype=uint8> <valis.slide_io.VipsSlideReader object at 0x7f41378001a0> True (375, 300, 3)\n",
      "<Slide, name = B_213-ST_BFIW-SE_535_processed>, width=300, height=375, channels=3, levels=1, RGB=True, dtype=uint8> <valis.slide_io.VipsSlideReader object at 0x7f41378100e0> True (375, 300, 3)\n",
      "<Slide, name = B_213-ST_BFIW-SE_536_processed>, width=300, height=375, channels=3, levels=1, RGB=True, dtype=uint8> <valis.slide_io.VipsSlideReader object at 0x7f4137820290> True (375, 300, 3)\n",
      "<Slide, name = B_213-ST_BFIW-SE_537_processed>, width=300, height=375, channels=3, levels=1, RGB=True, dtype=uint8> <valis.slide_io.VipsSlideReader object at 0x7f41378047d0> True (375, 300, 3)\n",
      "<Slide, name = B_213-ST_BFIW-SE_538_processed>, width=300, height=375, channels=3, levels=1, RGB=True, dtype=uint8> <valis.slide_io.VipsSlideReader object at 0x7f41378002f0> True (375, 300, 3)\n",
      "<Slide, name = B_213-ST_BFIW-SE_539_processed>, width=300, height=375, channels=3, levels=1, RGB=True, dtype=uint8> <valis.slide_io.VipsSlideReader object at 0x7f41378204a0> True (375, 300, 3)\n",
      "<Slide, name = B_213-ST_BFIW-SE_540_processed>, width=300, height=375, channels=3, levels=1, RGB=True, dtype=uint8> <valis.slide_io.VipsSlideReader object at 0x7f4137800320> True (375, 300, 3)\n",
      "<Slide, name = B_213-ST_BFIW-SE_541_processed>, width=300, height=375, channels=3, levels=1, RGB=True, dtype=uint8> <valis.slide_io.VipsSlideReader object at 0x7f4137820b00> True (375, 300, 3)\n"
     ]
    },
    {
     "name": "stderr",
     "output_type": "stream",
     "text": [
      "Converting images:  20%|█████████▍                                      | 515/2627 [00:05<00:24, 85.32image/s]"
     ]
    },
    {
     "name": "stdout",
     "output_type": "stream",
     "text": [
      "<Slide, name = B_213-ST_BFIW-SE_542_processed>, width=300, height=375, channels=3, levels=1, RGB=True, dtype=uint8> <valis.slide_io.VipsSlideReader object at 0x7f4137800500> True (375, 300, 3)\n",
      "<Slide, name = B_213-ST_BFIW-SE_543_processed>, width=300, height=375, channels=3, levels=1, RGB=True, dtype=uint8> <valis.slide_io.VipsSlideReader object at 0x7f4137810b30> True (375, 300, 3)\n",
      "<Slide, name = B_213-ST_BFIW-SE_544_processed>, width=300, height=375, channels=3, levels=1, RGB=True, dtype=uint8> <valis.slide_io.VipsSlideReader object at 0x7f4137810080> True (375, 300, 3)\n",
      "<Slide, name = B_213-ST_BFIW-SE_545_processed>, width=300, height=375, channels=3, levels=1, RGB=True, dtype=uint8> <valis.slide_io.VipsSlideReader object at 0x7f4137800230> True (375, 300, 3)\n",
      "<Slide, name = B_213-ST_BFIW-SE_546_processed>, width=300, height=375, channels=3, levels=1, RGB=True, dtype=uint8> <valis.slide_io.VipsSlideReader object at 0x7f4137820aa0> True (375, 300, 3)\n",
      "<Slide, name = B_213-ST_BFIW-SE_547_processed>, width=300, height=375, channels=3, levels=1, RGB=True, dtype=uint8> <valis.slide_io.VipsSlideReader object at 0x7f4137810170> True (375, 300, 3)\n",
      "<Slide, name = B_213-ST_BFIW-SE_548_processed>, width=300, height=375, channels=3, levels=1, RGB=True, dtype=uint8> <valis.slide_io.VipsSlideReader object at 0x7f4137820ad0> True (375, 300, 3)\n",
      "<Slide, name = B_213-ST_BFIW-SE_549_processed>, width=300, height=375, channels=3, levels=1, RGB=True, dtype=uint8> <valis.slide_io.VipsSlideReader object at 0x7f4137820c20> True (375, 300, 3)\n",
      "<Slide, name = B_213-ST_BFIW-SE_550_processed>, width=300, height=375, channels=3, levels=1, RGB=True, dtype=uint8> <valis.slide_io.VipsSlideReader object at 0x7f4137be0e30> True (375, 300, 3)\n"
     ]
    },
    {
     "name": "stderr",
     "output_type": "stream",
     "text": [
      "Converting images:  20%|█████████▌                                      | 524/2627 [00:06<00:24, 86.59image/s]"
     ]
    },
    {
     "name": "stdout",
     "output_type": "stream",
     "text": [
      "<Slide, name = B_213-ST_BFIW-SE_551_processed>, width=300, height=375, channels=3, levels=1, RGB=True, dtype=uint8> <valis.slide_io.VipsSlideReader object at 0x7f4137820d70> True (375, 300, 3)\n",
      "<Slide, name = B_213-ST_BFIW-SE_552_processed>, width=300, height=375, channels=3, levels=1, RGB=True, dtype=uint8> <valis.slide_io.VipsSlideReader object at 0x7f4137810e00> True (375, 300, 3)\n",
      "<Slide, name = B_213-ST_BFIW-SE_553_processed>, width=300, height=375, channels=3, levels=1, RGB=True, dtype=uint8> <valis.slide_io.VipsSlideReader object at 0x7f4137810ce0> True (375, 300, 3)\n",
      "<Slide, name = B_213-ST_BFIW-SE_554_processed>, width=300, height=375, channels=3, levels=1, RGB=True, dtype=uint8> <valis.slide_io.VipsSlideReader object at 0x7f4137820b90> True (375, 300, 3)\n",
      "<Slide, name = B_213-ST_BFIW-SE_555_processed>, width=300, height=375, channels=3, levels=1, RGB=True, dtype=uint8> <valis.slide_io.VipsSlideReader object at 0x7f4137820e90> True (375, 300, 3)\n",
      "<Slide, name = B_213-ST_BFIW-SE_556_processed>, width=300, height=375, channels=3, levels=1, RGB=True, dtype=uint8> <valis.slide_io.VipsSlideReader object at 0x7f4137820a40> True (375, 300, 3)\n",
      "<Slide, name = B_213-ST_BFIW-SE_557_processed>, width=300, height=375, channels=3, levels=1, RGB=True, dtype=uint8> <valis.slide_io.VipsSlideReader object at 0x7f4137821100> True (375, 300, 3)\n",
      "<Slide, name = B_213-ST_BFIW-SE_558_processed>, width=300, height=375, channels=3, levels=1, RGB=True, dtype=uint8> <valis.slide_io.VipsSlideReader object at 0x7f4137810fe0> True (375, 300, 3)\n",
      "<Slide, name = B_213-ST_BFIW-SE_559_processed>, width=300, height=375, channels=3, levels=1, RGB=True, dtype=uint8> <valis.slide_io.VipsSlideReader object at 0x7f4137820e60> True (375, 300, 3)\n"
     ]
    },
    {
     "name": "stderr",
     "output_type": "stream",
     "text": [
      "Converting images:  20%|█████████▋                                      | 533/2627 [00:06<00:24, 86.85image/s]"
     ]
    },
    {
     "name": "stdout",
     "output_type": "stream",
     "text": [
      "<Slide, name = B_213-ST_BFIW-SE_560_processed>, width=300, height=375, channels=3, levels=1, RGB=True, dtype=uint8> <valis.slide_io.VipsSlideReader object at 0x7f4137821070> True (375, 300, 3)\n",
      "<Slide, name = B_213-ST_BFIW-SE_561_processed>, width=300, height=375, channels=3, levels=1, RGB=True, dtype=uint8> <valis.slide_io.VipsSlideReader object at 0x7f41378210d0> True (375, 300, 3)\n",
      "<Slide, name = B_213-ST_BFIW-SE_562_processed>, width=300, height=375, channels=3, levels=1, RGB=True, dtype=uint8> <valis.slide_io.VipsSlideReader object at 0x7f4137821310> True (375, 300, 3)\n",
      "<Slide, name = B_213-ST_BFIW-SE_563_processed>, width=300, height=375, channels=3, levels=1, RGB=True, dtype=uint8> <valis.slide_io.VipsSlideReader object at 0x7f4137805850> True (375, 300, 3)\n",
      "<Slide, name = B_213-ST_BFIW-SE_564_processed>, width=300, height=375, channels=3, levels=1, RGB=True, dtype=uint8> <valis.slide_io.VipsSlideReader object at 0x7f41378212e0> True (375, 300, 3)\n",
      "<Slide, name = B_213-ST_BFIW-SE_565_processed>, width=300, height=375, channels=3, levels=1, RGB=True, dtype=uint8> <valis.slide_io.VipsSlideReader object at 0x7f4137821250> True (375, 300, 3)\n",
      "<Slide, name = B_213-ST_BFIW-SE_566_processed>, width=300, height=375, channels=3, levels=1, RGB=True, dtype=uint8> <valis.slide_io.VipsSlideReader object at 0x7f4137811340> True (375, 300, 3)\n",
      "<Slide, name = B_213-ST_BFIW-SE_567_processed>, width=300, height=375, channels=3, levels=1, RGB=True, dtype=uint8> <valis.slide_io.VipsSlideReader object at 0x7f4137820f50> True (375, 300, 3)\n",
      "<Slide, name = B_213-ST_BFIW-SE_568_processed>, width=300, height=375, channels=3, levels=1, RGB=True, dtype=uint8> <valis.slide_io.VipsSlideReader object at 0x7f4137800440> True (375, 300, 3)\n"
     ]
    },
    {
     "name": "stderr",
     "output_type": "stream",
     "text": [
      "Converting images:  21%|█████████▉                                      | 542/2627 [00:06<00:23, 87.09image/s]"
     ]
    },
    {
     "name": "stdout",
     "output_type": "stream",
     "text": [
      "<Slide, name = B_213-ST_BFIW-SE_569_processed>, width=300, height=375, channels=3, levels=1, RGB=True, dtype=uint8> <valis.slide_io.VipsSlideReader object at 0x7f4137811670> True (375, 300, 3)\n",
      "<Slide, name = B_213-ST_BFIW-SE_570_processed>, width=300, height=375, channels=3, levels=1, RGB=True, dtype=uint8> <valis.slide_io.VipsSlideReader object at 0x7f41378213d0> True (375, 300, 3)\n",
      "<Slide, name = B_213-ST_BFIW-SE_571_processed>, width=300, height=375, channels=3, levels=1, RGB=True, dtype=uint8> <valis.slide_io.VipsSlideReader object at 0x7f4137821640> True (375, 300, 3)\n",
      "<Slide, name = B_213-ST_BFIW-SE_572_processed>, width=300, height=375, channels=3, levels=1, RGB=True, dtype=uint8> <valis.slide_io.VipsSlideReader object at 0x7f41378217c0> True (375, 300, 3)\n",
      "<Slide, name = B_213-ST_BFIW-SE_573_processed>, width=300, height=375, channels=3, levels=1, RGB=True, dtype=uint8> <valis.slide_io.VipsSlideReader object at 0x7f41378218b0> True (375, 300, 3)\n",
      "<Slide, name = B_213-ST_BFIW-SE_574_processed>, width=300, height=375, channels=3, levels=1, RGB=True, dtype=uint8> <valis.slide_io.VipsSlideReader object at 0x7f4137821970> True (375, 300, 3)\n",
      "<Slide, name = B_213-ST_BFIW-SE_575_processed>, width=300, height=375, channels=3, levels=1, RGB=True, dtype=uint8> <valis.slide_io.VipsSlideReader object at 0x7f4137811730> True (375, 300, 3)\n",
      "<Slide, name = B_213-ST_BFIW-SE_576_processed>, width=300, height=375, channels=3, levels=1, RGB=True, dtype=uint8> <valis.slide_io.VipsSlideReader object at 0x7f4137811b80> True (375, 300, 3)\n",
      "<Slide, name = B_213-ST_BFIW-SE_577_processed>, width=300, height=375, channels=3, levels=1, RGB=True, dtype=uint8> <valis.slide_io.VipsSlideReader object at 0x7f4137821550> True (375, 300, 3)\n"
     ]
    },
    {
     "name": "stderr",
     "output_type": "stream",
     "text": [
      "Converting images:  21%|██████████                                      | 551/2627 [00:06<00:23, 87.67image/s]"
     ]
    },
    {
     "name": "stdout",
     "output_type": "stream",
     "text": [
      "<Slide, name = B_213-ST_BFIW-SE_578_processed>, width=300, height=375, channels=3, levels=1, RGB=True, dtype=uint8> <valis.slide_io.VipsSlideReader object at 0x7f4137811a60> True (375, 300, 3)\n",
      "<Slide, name = B_213-ST_BFIW-SE_579_processed>, width=300, height=375, channels=3, levels=1, RGB=True, dtype=uint8> <valis.slide_io.VipsSlideReader object at 0x7f4137821940> True (375, 300, 3)\n",
      "<Slide, name = B_213-ST_BFIW-SE_580_processed>, width=300, height=375, channels=3, levels=1, RGB=True, dtype=uint8> <valis.slide_io.VipsSlideReader object at 0x7f4137821d90> True (375, 300, 3)\n",
      "<Slide, name = B_213-ST_BFIW-SE_581_processed>, width=300, height=375, channels=3, levels=1, RGB=True, dtype=uint8> <valis.slide_io.VipsSlideReader object at 0x7f4137821be0> True (375, 300, 3)\n",
      "<Slide, name = B_213-ST_BFIW-SE_582_processed>, width=300, height=375, channels=3, levels=1, RGB=True, dtype=uint8> <valis.slide_io.VipsSlideReader object at 0x7f4137811dc0> True (375, 300, 3)\n",
      "<Slide, name = B_213-ST_BFIW-SE_583_processed>, width=300, height=375, channels=3, levels=1, RGB=True, dtype=uint8> <valis.slide_io.VipsSlideReader object at 0x7f4137821eb0> True (375, 300, 3)\n",
      "<Slide, name = B_213-ST_BFIW-SE_584_processed>, width=300, height=375, channels=3, levels=1, RGB=True, dtype=uint8> <valis.slide_io.VipsSlideReader object at 0x7f4137811d00> True (375, 300, 3)\n",
      "<Slide, name = B_213-ST_BFIW-SE_585_processed>, width=300, height=375, channels=3, levels=1, RGB=True, dtype=uint8> <valis.slide_io.VipsSlideReader object at 0x7f4137801ca0> True (375, 300, 3)\n",
      "<Slide, name = B_213-ST_BFIW-SE_586_processed>, width=300, height=375, channels=3, levels=1, RGB=True, dtype=uint8> <valis.slide_io.VipsSlideReader object at 0x7f4137bb2000> True (375, 300, 3)\n"
     ]
    },
    {
     "name": "stderr",
     "output_type": "stream",
     "text": [
      "Converting images:  21%|██████████▏                                     | 560/2627 [00:06<00:23, 87.46image/s]"
     ]
    },
    {
     "name": "stdout",
     "output_type": "stream",
     "text": [
      "<Slide, name = B_213-ST_BFIW-SE_587_processed>, width=300, height=375, channels=3, levels=1, RGB=True, dtype=uint8> <valis.slide_io.VipsSlideReader object at 0x7f4137821d60> True (375, 300, 3)\n",
      "<Slide, name = B_213-ST_BFIW-SE_588_processed>, width=300, height=375, channels=3, levels=1, RGB=True, dtype=uint8> <valis.slide_io.VipsSlideReader object at 0x7f4137822090> True (375, 300, 3)\n",
      "<Slide, name = B_213-ST_BFIW-SE_589_processed>, width=300, height=375, channels=3, levels=1, RGB=True, dtype=uint8> <valis.slide_io.VipsSlideReader object at 0x7f4137822240> True (375, 300, 3)\n",
      "<Slide, name = B_213-ST_BFIW-SE_590_processed>, width=300, height=375, channels=3, levels=1, RGB=True, dtype=uint8> <valis.slide_io.VipsSlideReader object at 0x7f41378222d0> True (375, 300, 3)\n",
      "<Slide, name = B_213-ST_BFIW-SE_591_processed>, width=300, height=375, channels=3, levels=1, RGB=True, dtype=uint8> <valis.slide_io.VipsSlideReader object at 0x7f4137811820> True (375, 300, 3)\n",
      "<Slide, name = B_213-ST_BFIW-SE_592_processed>, width=300, height=375, channels=3, levels=1, RGB=True, dtype=uint8> <valis.slide_io.VipsSlideReader object at 0x7f4137821fd0> True (375, 300, 3)\n",
      "<Slide, name = B_213-ST_BFIW-SE_593_processed>, width=300, height=375, channels=3, levels=1, RGB=True, dtype=uint8> <valis.slide_io.VipsSlideReader object at 0x7f4137822270> True (375, 300, 3)\n",
      "<Slide, name = B_213-ST_BFIW-SE_594_processed>, width=300, height=375, channels=3, levels=1, RGB=True, dtype=uint8> <valis.slide_io.VipsSlideReader object at 0x7f41378123c0> True (375, 300, 3)\n",
      "<Slide, name = B_213-ST_BFIW-SE_595_processed>, width=300, height=375, channels=3, levels=1, RGB=True, dtype=uint8> <valis.slide_io.VipsSlideReader object at 0x7f41378220c0> True (375, 300, 3)\n"
     ]
    },
    {
     "name": "stderr",
     "output_type": "stream",
     "text": [
      "Converting images:  22%|██████████▍                                     | 569/2627 [00:06<00:23, 87.24image/s]"
     ]
    },
    {
     "name": "stdout",
     "output_type": "stream",
     "text": [
      "<Slide, name = B_213-ST_BFIW-SE_596_processed>, width=300, height=375, channels=3, levels=1, RGB=True, dtype=uint8> <valis.slide_io.VipsSlideReader object at 0x7f4137812420> True (375, 300, 3)\n",
      "<Slide, name = B_213-ST_BFIW-SE_597_processed>, width=300, height=375, channels=3, levels=1, RGB=True, dtype=uint8> <valis.slide_io.VipsSlideReader object at 0x7f4137805a90> True (375, 300, 3)\n",
      "<Slide, name = B_213-ST_BFIW-SE_598_processed>, width=300, height=375, channels=3, levels=1, RGB=True, dtype=uint8> <valis.slide_io.VipsSlideReader object at 0x7f41378021e0> True (375, 300, 3)\n",
      "<Slide, name = B_213-ST_BFIW-SE_599_processed>, width=300, height=375, channels=3, levels=1, RGB=True, dtype=uint8> <valis.slide_io.VipsSlideReader object at 0x7f4137812630> True (375, 300, 3)\n",
      "<Slide, name = B_213-ST_BFIW-SE_600_processed>, width=300, height=375, channels=3, levels=1, RGB=True, dtype=uint8> <valis.slide_io.VipsSlideReader object at 0x7f4137822510> True (375, 300, 3)\n",
      "<Slide, name = B_213-ST_BFIW-SE_601_processed>, width=300, height=375, channels=3, levels=1, RGB=True, dtype=uint8> <valis.slide_io.VipsSlideReader object at 0x7f4137822690> True (375, 300, 3)\n",
      "<Slide, name = B_213-ST_BFIW-SE_602_processed>, width=300, height=375, channels=3, levels=1, RGB=True, dtype=uint8> <valis.slide_io.VipsSlideReader object at 0x7f4137801fa0> True (375, 300, 3)\n",
      "<Slide, name = B_213-ST_BFIW-SE_603_processed>, width=300, height=375, channels=3, levels=1, RGB=True, dtype=uint8> <valis.slide_io.VipsSlideReader object at 0x7f4137822540> True (375, 300, 3)\n",
      "<Slide, name = B_213-ST_BFIW-SE_604_processed>, width=300, height=375, channels=3, levels=1, RGB=True, dtype=uint8> <valis.slide_io.VipsSlideReader object at 0x7f41378127b0> True (375, 300, 3)\n"
     ]
    },
    {
     "name": "stderr",
     "output_type": "stream",
     "text": [
      "Converting images:  22%|██████████▌                                     | 578/2627 [00:06<00:23, 87.33image/s]"
     ]
    },
    {
     "name": "stdout",
     "output_type": "stream",
     "text": [
      "<Slide, name = B_213-ST_BFIW-SE_605_processed>, width=300, height=375, channels=3, levels=1, RGB=True, dtype=uint8> <valis.slide_io.VipsSlideReader object at 0x7f4137812780> True (375, 300, 3)\n",
      "<Slide, name = B_213-ST_BFIW-SE_606_processed>, width=300, height=375, channels=3, levels=1, RGB=True, dtype=uint8> <valis.slide_io.VipsSlideReader object at 0x7f4137802900> True (375, 300, 3)\n",
      "<Slide, name = B_213-ST_BFIW-SE_607_processed>, width=300, height=375, channels=3, levels=1, RGB=True, dtype=uint8> <valis.slide_io.VipsSlideReader object at 0x7f4137822720> True (375, 300, 3)\n",
      "<Slide, name = B_213-ST_BFIW-SE_608_processed>, width=300, height=375, channels=3, levels=1, RGB=True, dtype=uint8> <valis.slide_io.VipsSlideReader object at 0x7f4137822990> True (375, 300, 3)\n",
      "<Slide, name = B_213-ST_BFIW-SE_609_processed>, width=300, height=375, channels=3, levels=1, RGB=True, dtype=uint8> <valis.slide_io.VipsSlideReader object at 0x7f4137822b70> True (375, 300, 3)\n",
      "<Slide, name = B_213-ST_BFIW-SE_610_processed>, width=300, height=375, channels=3, levels=1, RGB=True, dtype=uint8> <valis.slide_io.VipsSlideReader object at 0x7f4137822c30> True (375, 300, 3)\n",
      "<Slide, name = B_213-ST_BFIW-SE_611_processed>, width=300, height=375, channels=3, levels=1, RGB=True, dtype=uint8> <valis.slide_io.VipsSlideReader object at 0x7f4137822cc0> True (375, 300, 3)\n",
      "<Slide, name = B_213-ST_BFIW-SE_612_processed>, width=300, height=375, channels=3, levels=1, RGB=True, dtype=uint8> <valis.slide_io.VipsSlideReader object at 0x7f4137802ab0> True (375, 300, 3)\n",
      "<Slide, name = B_213-ST_BFIW-SE_613_processed>, width=300, height=375, channels=3, levels=1, RGB=True, dtype=uint8> <valis.slide_io.VipsSlideReader object at 0x7f41378228a0> True (375, 300, 3)\n"
     ]
    },
    {
     "name": "stderr",
     "output_type": "stream",
     "text": [
      "Converting images:  22%|██████████▋                                     | 587/2627 [00:06<00:23, 87.52image/s]"
     ]
    },
    {
     "name": "stdout",
     "output_type": "stream",
     "text": [
      "<Slide, name = B_213-ST_BFIW-SE_614_processed>, width=300, height=375, channels=3, levels=1, RGB=True, dtype=uint8> <valis.slide_io.VipsSlideReader object at 0x7f4137822c60> True (375, 300, 3)\n",
      "<Slide, name = B_213-ST_BFIW-SE_615_processed>, width=300, height=375, channels=3, levels=1, RGB=True, dtype=uint8> <valis.slide_io.VipsSlideReader object at 0x7f4137822c90> True (375, 300, 3)\n",
      "<Slide, name = B_213-ST_BFIW-SE_616_processed>, width=300, height=375, channels=3, levels=1, RGB=True, dtype=uint8> <valis.slide_io.VipsSlideReader object at 0x7f41378229c0> True (375, 300, 3)\n",
      "<Slide, name = B_213-ST_BFIW-SE_617_processed>, width=300, height=375, channels=3, levels=1, RGB=True, dtype=uint8> <valis.slide_io.VipsSlideReader object at 0x7f4137823050> True (375, 300, 3)\n",
      "<Slide, name = B_213-ST_BFIW-SE_618_processed>, width=300, height=375, channels=3, levels=1, RGB=True, dtype=uint8> <valis.slide_io.VipsSlideReader object at 0x7f41378230e0> True (375, 300, 3)\n",
      "<Slide, name = B_213-ST_BFIW-SE_619_processed>, width=300, height=375, channels=3, levels=1, RGB=True, dtype=uint8> <valis.slide_io.VipsSlideReader object at 0x7f4137822ed0> True (375, 300, 3)\n",
      "<Slide, name = B_213-ST_BFIW-SE_620_processed>, width=300, height=375, channels=3, levels=1, RGB=True, dtype=uint8> <valis.slide_io.VipsSlideReader object at 0x7f4137812ff0> True (375, 300, 3)\n",
      "<Slide, name = B_213-ST_BFIW-SE_621_processed>, width=300, height=375, channels=3, levels=1, RGB=True, dtype=uint8> <valis.slide_io.VipsSlideReader object at 0x7f413781e690> True (375, 300, 3)\n",
      "<Slide, name = B_213-ST_BFIW-SE_622_processed>, width=300, height=375, channels=3, levels=1, RGB=True, dtype=uint8> <valis.slide_io.VipsSlideReader object at 0x7f4137812ba0> True (375, 300, 3)\n"
     ]
    },
    {
     "name": "stderr",
     "output_type": "stream",
     "text": [
      "Converting images:  23%|██████████▉                                     | 596/2627 [00:06<00:23, 87.45image/s]"
     ]
    },
    {
     "name": "stdout",
     "output_type": "stream",
     "text": [
      "<Slide, name = B_213-ST_BFIW-SE_623_processed>, width=300, height=375, channels=3, levels=1, RGB=True, dtype=uint8> <valis.slide_io.VipsSlideReader object at 0x7f4137803230> True (375, 300, 3)\n",
      "<Slide, name = B_213-ST_BFIW-SE_624_processed>, width=300, height=375, channels=3, levels=1, RGB=True, dtype=uint8> <valis.slide_io.VipsSlideReader object at 0x7f4137823110> True (375, 300, 3)\n",
      "<Slide, name = B_213-ST_BFIW-SE_625_processed>, width=300, height=375, channels=3, levels=1, RGB=True, dtype=uint8> <valis.slide_io.VipsSlideReader object at 0x7f41378132c0> True (375, 300, 3)\n",
      "<Slide, name = B_213-ST_BFIW-SE_626_processed>, width=300, height=375, channels=3, levels=1, RGB=True, dtype=uint8> <valis.slide_io.VipsSlideReader object at 0x7f4137803020> True (375, 300, 3)\n",
      "<Slide, name = B_213-ST_BFIW-SE_627_processed>, width=300, height=375, channels=3, levels=1, RGB=True, dtype=uint8> <valis.slide_io.VipsSlideReader object at 0x7f4137813380> True (375, 300, 3)\n",
      "<Slide, name = B_213-ST_BFIW-SE_628_processed>, width=300, height=375, channels=3, levels=1, RGB=True, dtype=uint8> <valis.slide_io.VipsSlideReader object at 0x7f4137822ae0> True (375, 300, 3)\n",
      "<Slide, name = B_213-ST_BFIW-SE_629_processed>, width=300, height=375, channels=3, levels=1, RGB=True, dtype=uint8> <valis.slide_io.VipsSlideReader object at 0x7f4137802fc0> True (375, 300, 3)\n",
      "<Slide, name = B_213-ST_BFIW-SE_630_processed>, width=300, height=375, channels=3, levels=1, RGB=True, dtype=uint8> <valis.slide_io.VipsSlideReader object at 0x7f4137803620> True (375, 300, 3)\n",
      "<Slide, name = B_213-ST_BFIW-SE_631_processed>, width=300, height=375, channels=3, levels=1, RGB=True, dtype=uint8> <valis.slide_io.VipsSlideReader object at 0x7f4137823710> True (375, 300, 3)\n"
     ]
    },
    {
     "name": "stderr",
     "output_type": "stream",
     "text": [
      "Converting images:  23%|███████████                                     | 605/2627 [00:06<00:23, 87.65image/s]"
     ]
    },
    {
     "name": "stdout",
     "output_type": "stream",
     "text": [
      "<Slide, name = B_213-ST_BFIW-SE_632_processed>, width=300, height=375, channels=3, levels=1, RGB=True, dtype=uint8> <valis.slide_io.VipsSlideReader object at 0x7f4137802a80> True (375, 300, 3)\n",
      "<Slide, name = B_213-ST_BFIW-SE_633_processed>, width=300, height=375, channels=3, levels=1, RGB=True, dtype=uint8> <valis.slide_io.VipsSlideReader object at 0x7f4137802db0> True (375, 300, 3)\n",
      "<Slide, name = B_213-ST_BFIW-SE_634_processed>, width=300, height=375, channels=3, levels=1, RGB=True, dtype=uint8> <valis.slide_io.VipsSlideReader object at 0x7f4137803560> True (375, 300, 3)\n",
      "<Slide, name = B_213-ST_BFIW-SE_635_processed>, width=300, height=375, channels=3, levels=1, RGB=True, dtype=uint8> <valis.slide_io.VipsSlideReader object at 0x7f41378235c0> True (375, 300, 3)\n",
      "<Slide, name = B_213-ST_BFIW-SE_636_processed>, width=300, height=375, channels=3, levels=1, RGB=True, dtype=uint8> <valis.slide_io.VipsSlideReader object at 0x7f41378037d0> True (375, 300, 3)\n",
      "<Slide, name = B_213-ST_BFIW-SE_637_processed>, width=300, height=375, channels=3, levels=1, RGB=True, dtype=uint8> <valis.slide_io.VipsSlideReader object at 0x7f4137823320> True (375, 300, 3)\n",
      "<Slide, name = B_213-ST_BFIW-SE_638_processed>, width=300, height=375, channels=3, levels=1, RGB=True, dtype=uint8> <valis.slide_io.VipsSlideReader object at 0x7f4137823500> True (375, 300, 3)\n",
      "<Slide, name = B_213-ST_BFIW-SE_639_processed>, width=300, height=375, channels=3, levels=1, RGB=True, dtype=uint8> <valis.slide_io.VipsSlideReader object at 0x7f41378039b0> True (375, 300, 3)\n",
      "<Slide, name = B_213-ST_BFIW-SE_640_processed>, width=300, height=375, channels=3, levels=1, RGB=True, dtype=uint8> <valis.slide_io.VipsSlideReader object at 0x7f41378236b0> True (375, 300, 3)\n"
     ]
    },
    {
     "name": "stderr",
     "output_type": "stream",
     "text": [
      "Converting images:  23%|███████████▏                                    | 614/2627 [00:07<00:23, 86.87image/s]"
     ]
    },
    {
     "name": "stdout",
     "output_type": "stream",
     "text": [
      "<Slide, name = B_213-ST_BFIW-SE_641_processed>, width=300, height=375, channels=3, levels=1, RGB=True, dtype=uint8> <valis.slide_io.VipsSlideReader object at 0x7f4137823290> True (375, 300, 3)\n",
      "<Slide, name = B_213-ST_BFIW-SE_642_processed>, width=300, height=375, channels=3, levels=1, RGB=True, dtype=uint8> <valis.slide_io.VipsSlideReader object at 0x7f4137823740> True (375, 300, 3)\n",
      "<Slide, name = B_213-ST_BFIW-SE_643_processed>, width=300, height=375, channels=3, levels=1, RGB=True, dtype=uint8> <valis.slide_io.VipsSlideReader object at 0x7f4137823b60> True (375, 300, 3)\n",
      "<Slide, name = B_213-ST_BFIW-SE_644_processed>, width=300, height=375, channels=3, levels=1, RGB=True, dtype=uint8> <valis.slide_io.VipsSlideReader object at 0x7f4137823a10> True (375, 300, 3)\n",
      "<Slide, name = B_213-ST_BFIW-SE_645_processed>, width=300, height=375, channels=3, levels=1, RGB=True, dtype=uint8> <valis.slide_io.VipsSlideReader object at 0x7f4137823a40> True (375, 300, 3)\n",
      "<Slide, name = B_213-ST_BFIW-SE_646_processed>, width=300, height=375, channels=3, levels=1, RGB=True, dtype=uint8> <valis.slide_io.VipsSlideReader object at 0x7f4137823590> True (375, 300, 3)\n",
      "<Slide, name = B_213-ST_BFIW-SE_647_processed>, width=300, height=375, channels=3, levels=1, RGB=True, dtype=uint8> <valis.slide_io.VipsSlideReader object at 0x7f4137823c80> True (375, 300, 3)\n",
      "<Slide, name = B_213-ST_BFIW-SE_648_processed>, width=300, height=375, channels=3, levels=1, RGB=True, dtype=uint8> <valis.slide_io.VipsSlideReader object at 0x7f4137823dd0> True (375, 300, 3)\n",
      "<Slide, name = B_213-ST_BFIW-SE_649_processed>, width=300, height=375, channels=3, levels=1, RGB=True, dtype=uint8> <valis.slide_io.VipsSlideReader object at 0x7f4137803b00> True (375, 300, 3)\n"
     ]
    },
    {
     "name": "stderr",
     "output_type": "stream",
     "text": [
      "Converting images:  24%|███████████▍                                    | 623/2627 [00:07<00:23, 86.23image/s]"
     ]
    },
    {
     "name": "stdout",
     "output_type": "stream",
     "text": [
      "<Slide, name = B_213-ST_BFIW-SE_650_processed>, width=300, height=375, channels=3, levels=1, RGB=True, dtype=uint8> <valis.slide_io.VipsSlideReader object at 0x7f4137803ef0> True (375, 300, 3)\n",
      "<Slide, name = B_213-ST_BFIW-SE_651_processed>, width=300, height=375, channels=3, levels=1, RGB=True, dtype=uint8> <valis.slide_io.VipsSlideReader object at 0x7f4137823b90> True (375, 300, 3)\n",
      "<Slide, name = B_213-ST_BFIW-SE_652_processed>, width=300, height=375, channels=3, levels=1, RGB=True, dtype=uint8> <valis.slide_io.VipsSlideReader object at 0x7f4137823d40> True (375, 300, 3)\n",
      "<Slide, name = B_213-ST_BFIW-SE_653_processed>, width=300, height=375, channels=3, levels=1, RGB=True, dtype=uint8> <valis.slide_io.VipsSlideReader object at 0x7f4137823da0> True (375, 300, 3)\n",
      "<Slide, name = B_213-ST_BFIW-SE_654_processed>, width=300, height=375, channels=3, levels=1, RGB=True, dtype=uint8> <valis.slide_io.VipsSlideReader object at 0x7f4137bdbd70> True (375, 300, 3)\n",
      "<Slide, name = B_213-ST_BFIW-SE_655_processed>, width=300, height=375, channels=3, levels=1, RGB=True, dtype=uint8> <valis.slide_io.VipsSlideReader object at 0x7f4137803fb0> True (375, 300, 3)\n",
      "<Slide, name = B_213-ST_BFIW-SE_656_processed>, width=300, height=375, channels=3, levels=1, RGB=True, dtype=uint8> <valis.slide_io.VipsSlideReader object at 0x7f4137823f80> True (375, 300, 3)\n",
      "<Slide, name = B_213-ST_BFIW-SE_657_processed>, width=300, height=375, channels=3, levels=1, RGB=True, dtype=uint8> <valis.slide_io.VipsSlideReader object at 0x7f4137823fe0> True (375, 300, 3)\n",
      "<Slide, name = B_213-ST_BFIW-SE_658_processed>, width=300, height=375, channels=3, levels=1, RGB=True, dtype=uint8> <valis.slide_io.VipsSlideReader object at 0x7f4137805cd0> True (375, 300, 3)\n"
     ]
    },
    {
     "name": "stderr",
     "output_type": "stream",
     "text": [
      "Converting images:  24%|███████████▌                                    | 632/2627 [00:07<00:23, 86.28image/s]"
     ]
    },
    {
     "name": "stdout",
     "output_type": "stream",
     "text": [
      "<Slide, name = B_213-ST_BFIW-SE_659_processed>, width=300, height=375, channels=3, levels=1, RGB=True, dtype=uint8> <valis.slide_io.VipsSlideReader object at 0x7f41377ffb60> True (375, 300, 3)\n",
      "<Slide, name = B_213-ST_BFIW-SE_660_processed>, width=300, height=375, channels=3, levels=1, RGB=True, dtype=uint8> <valis.slide_io.VipsSlideReader object at 0x7f4137824050> True (375, 300, 3)\n",
      "<Slide, name = B_213-ST_BFIW-SE_661_processed>, width=300, height=375, channels=3, levels=1, RGB=True, dtype=uint8> <valis.slide_io.VipsSlideReader object at 0x7f4137824260> True (375, 300, 3)\n",
      "<Slide, name = B_213-ST_BFIW-SE_662_processed>, width=300, height=375, channels=3, levels=1, RGB=True, dtype=uint8> <valis.slide_io.VipsSlideReader object at 0x7f413781c230> True (375, 300, 3)\n",
      "<Slide, name = B_213-ST_BFIW-SE_663_processed>, width=300, height=375, channels=3, levels=1, RGB=True, dtype=uint8> <valis.slide_io.VipsSlideReader object at 0x7f4137827aa0> True (375, 300, 3)\n",
      "<Slide, name = B_213-ST_BFIW-SE_664_processed>, width=300, height=375, channels=3, levels=1, RGB=True, dtype=uint8> <valis.slide_io.VipsSlideReader object at 0x7f413780c290> True (375, 300, 3)\n",
      "<Slide, name = B_213-ST_BFIW-SE_665_processed>, width=300, height=375, channels=3, levels=1, RGB=True, dtype=uint8> <valis.slide_io.VipsSlideReader object at 0x7f41378040b0> True (375, 300, 3)\n",
      "<Slide, name = B_213-ST_BFIW-SE_666_processed>, width=300, height=375, channels=3, levels=1, RGB=True, dtype=uint8> <valis.slide_io.VipsSlideReader object at 0x7f4137824380> True (375, 300, 3)\n",
      "<Slide, name = B_213-ST_BFIW-SE_667_processed>, width=300, height=375, channels=3, levels=1, RGB=True, dtype=uint8> <valis.slide_io.VipsSlideReader object at 0x7f4137824560> True (375, 300, 3)\n"
     ]
    },
    {
     "name": "stderr",
     "output_type": "stream",
     "text": [
      "Converting images:  24%|███████████▋                                    | 641/2627 [00:07<00:23, 86.35image/s]"
     ]
    },
    {
     "name": "stdout",
     "output_type": "stream",
     "text": [
      "<Slide, name = B_213-ST_BFIW-SE_668_processed>, width=300, height=375, channels=3, levels=1, RGB=True, dtype=uint8> <valis.slide_io.VipsSlideReader object at 0x7f41378245c0> True (375, 300, 3)\n",
      "<Slide, name = B_213-ST_BFIW-SE_669_processed>, width=300, height=375, channels=3, levels=1, RGB=True, dtype=uint8> <valis.slide_io.VipsSlideReader object at 0x7f41378240e0> True (375, 300, 3)\n",
      "<Slide, name = B_213-ST_BFIW-SE_670_processed>, width=300, height=375, channels=3, levels=1, RGB=True, dtype=uint8> <valis.slide_io.VipsSlideReader object at 0x7f4137824620> True (375, 300, 3)\n",
      "<Slide, name = B_213-ST_BFIW-SE_671_processed>, width=300, height=375, channels=3, levels=1, RGB=True, dtype=uint8> <valis.slide_io.VipsSlideReader object at 0x7f4137824680> True (375, 300, 3)\n",
      "<Slide, name = B_213-ST_BFIW-SE_672_processed>, width=300, height=375, channels=3, levels=1, RGB=True, dtype=uint8> <valis.slide_io.VipsSlideReader object at 0x7f41378246e0> True (375, 300, 3)\n",
      "<Slide, name = B_213-ST_BFIW-SE_673_processed>, width=300, height=375, channels=3, levels=1, RGB=True, dtype=uint8> <valis.slide_io.VipsSlideReader object at 0x7f4137824740> True (375, 300, 3)\n",
      "<Slide, name = B_213-ST_BFIW-SE_674_processed>, width=300, height=375, channels=3, levels=1, RGB=True, dtype=uint8> <valis.slide_io.VipsSlideReader object at 0x7f41378247a0> True (375, 300, 3)\n",
      "<Slide, name = B_213-ST_BFIW-SE_675_processed>, width=300, height=375, channels=3, levels=1, RGB=True, dtype=uint8> <valis.slide_io.VipsSlideReader object at 0x7f4137824800> True (375, 300, 3)\n",
      "<Slide, name = B_213-ST_BFIW-SE_676_processed>, width=300, height=375, channels=3, levels=1, RGB=True, dtype=uint8> <valis.slide_io.VipsSlideReader object at 0x7f4137824860> True (375, 300, 3)\n"
     ]
    },
    {
     "name": "stderr",
     "output_type": "stream",
     "text": [
      "Converting images:  25%|███████████▉                                    | 650/2627 [00:07<00:22, 86.71image/s]"
     ]
    },
    {
     "name": "stdout",
     "output_type": "stream",
     "text": [
      "<Slide, name = B_213-ST_BFIW-SE_677_processed>, width=300, height=375, channels=3, levels=1, RGB=True, dtype=uint8> <valis.slide_io.VipsSlideReader object at 0x7f41378248c0> True (375, 300, 3)\n",
      "<Slide, name = B_213-ST_BFIW-SE_678_processed>, width=300, height=375, channels=3, levels=1, RGB=True, dtype=uint8> <valis.slide_io.VipsSlideReader object at 0x7f4137824920> True (375, 300, 3)\n",
      "<Slide, name = B_213-ST_BFIW-SE_679_processed>, width=300, height=375, channels=3, levels=1, RGB=True, dtype=uint8> <valis.slide_io.VipsSlideReader object at 0x7f4137824980> True (375, 300, 3)\n",
      "<Slide, name = B_213-ST_BFIW-SE_680_processed>, width=300, height=375, channels=3, levels=1, RGB=True, dtype=uint8> <valis.slide_io.VipsSlideReader object at 0x7f41378249e0> True (375, 300, 3)\n",
      "<Slide, name = B_213-ST_BFIW-SE_681_processed>, width=300, height=375, channels=3, levels=1, RGB=True, dtype=uint8> <valis.slide_io.VipsSlideReader object at 0x7f4137824a40> True (375, 300, 3)\n",
      "<Slide, name = B_213-ST_BFIW-SE_682_processed>, width=300, height=375, channels=3, levels=1, RGB=True, dtype=uint8> <valis.slide_io.VipsSlideReader object at 0x7f4137824aa0> True (375, 300, 3)\n",
      "<Slide, name = B_213-ST_BFIW-SE_683_processed>, width=300, height=375, channels=3, levels=1, RGB=True, dtype=uint8> <valis.slide_io.VipsSlideReader object at 0x7f4137824b00> True (375, 300, 3)\n",
      "<Slide, name = B_213-ST_BFIW-SE_684_processed>, width=300, height=375, channels=3, levels=1, RGB=True, dtype=uint8> <valis.slide_io.VipsSlideReader object at 0x7f4137824b60> True (375, 300, 3)\n",
      "<Slide, name = B_213-ST_BFIW-SE_685_processed>, width=300, height=375, channels=3, levels=1, RGB=True, dtype=uint8> <valis.slide_io.VipsSlideReader object at 0x7f4137824bc0> True (375, 300, 3)\n"
     ]
    },
    {
     "name": "stderr",
     "output_type": "stream",
     "text": [
      "Converting images:  25%|████████████                                    | 659/2627 [00:07<00:22, 86.36image/s]"
     ]
    },
    {
     "name": "stdout",
     "output_type": "stream",
     "text": [
      "<Slide, name = B_213-ST_BFIW-SE_686_processed>, width=300, height=375, channels=3, levels=1, RGB=True, dtype=uint8> <valis.slide_io.VipsSlideReader object at 0x7f4137824c20> True (375, 300, 3)\n",
      "<Slide, name = B_213-ST_BFIW-SE_687_processed>, width=300, height=375, channels=3, levels=1, RGB=True, dtype=uint8> <valis.slide_io.VipsSlideReader object at 0x7f4137824c80> True (375, 300, 3)\n",
      "<Slide, name = B_213-ST_BFIW-SE_688_processed>, width=300, height=375, channels=3, levels=1, RGB=True, dtype=uint8> <valis.slide_io.VipsSlideReader object at 0x7f4137824ce0> True (375, 300, 3)\n",
      "<Slide, name = B_213-ST_BFIW-SE_689_processed>, width=300, height=375, channels=3, levels=1, RGB=True, dtype=uint8> <valis.slide_io.VipsSlideReader object at 0x7f4137824d40> True (375, 300, 3)\n",
      "<Slide, name = B_213-ST_BFIW-SE_690_processed>, width=300, height=375, channels=3, levels=1, RGB=True, dtype=uint8> <valis.slide_io.VipsSlideReader object at 0x7f4137824da0> True (375, 300, 3)\n",
      "<Slide, name = B_213-ST_BFIW-SE_691_processed>, width=300, height=375, channels=3, levels=1, RGB=True, dtype=uint8> <valis.slide_io.VipsSlideReader object at 0x7f4137824e30> True (375, 300, 3)\n",
      "<Slide, name = B_213-ST_BFIW-SE_692_processed>, width=300, height=375, channels=3, levels=1, RGB=True, dtype=uint8> <valis.slide_io.VipsSlideReader object at 0x7f4137824e90> True (375, 300, 3)\n",
      "<Slide, name = B_213-ST_BFIW-SE_693_processed>, width=300, height=375, channels=3, levels=1, RGB=True, dtype=uint8> <valis.slide_io.VipsSlideReader object at 0x7f4137824ef0> True (375, 300, 3)\n",
      "<Slide, name = B_213-ST_BFIW-SE_694_processed>, width=300, height=375, channels=3, levels=1, RGB=True, dtype=uint8> <valis.slide_io.VipsSlideReader object at 0x7f4137824f50> True (375, 300, 3)\n"
     ]
    },
    {
     "name": "stderr",
     "output_type": "stream",
     "text": [
      "Converting images:  25%|████████████▏                                   | 668/2627 [00:07<00:22, 85.94image/s]"
     ]
    },
    {
     "name": "stdout",
     "output_type": "stream",
     "text": [
      "<Slide, name = B_213-ST_BFIW-SE_695_processed>, width=300, height=375, channels=3, levels=1, RGB=True, dtype=uint8> <valis.slide_io.VipsSlideReader object at 0x7f4137824fb0> True (375, 300, 3)\n",
      "<Slide, name = B_213-ST_BFIW-SE_696_processed>, width=300, height=375, channels=3, levels=1, RGB=True, dtype=uint8> <valis.slide_io.VipsSlideReader object at 0x7f4137825010> True (375, 300, 3)\n",
      "<Slide, name = B_213-ST_BFIW-SE_697_processed>, width=300, height=375, channels=3, levels=1, RGB=True, dtype=uint8> <valis.slide_io.VipsSlideReader object at 0x7f4137810a10> True (375, 300, 3)\n",
      "<Slide, name = B_213-ST_BFIW-SE_698_processed>, width=300, height=375, channels=3, levels=1, RGB=True, dtype=uint8> <valis.slide_io.VipsSlideReader object at 0x7f41378251f0> True (375, 300, 3)\n",
      "<Slide, name = B_213-ST_BFIW-SE_699_processed>, width=300, height=375, channels=3, levels=1, RGB=True, dtype=uint8> <valis.slide_io.VipsSlideReader object at 0x7f4137825130> True (375, 300, 3)\n",
      "<Slide, name = B_213-ST_BFIW-SE_700_processed>, width=300, height=375, channels=3, levels=1, RGB=True, dtype=uint8> <valis.slide_io.VipsSlideReader object at 0x7f4137824ec0> True (375, 300, 3)\n",
      "<Slide, name = B_213-ST_BFIW-SE_701_processed>, width=300, height=375, channels=3, levels=1, RGB=True, dtype=uint8> <valis.slide_io.VipsSlideReader object at 0x7f4137824fe0> True (375, 300, 3)\n",
      "<Slide, name = B_213-ST_BFIW-SE_702_processed>, width=300, height=375, channels=3, levels=1, RGB=True, dtype=uint8> <valis.slide_io.VipsSlideReader object at 0x7f4137825220> True (375, 300, 3)\n",
      "<Slide, name = B_213-ST_BFIW-SE_703_processed>, width=300, height=375, channels=3, levels=1, RGB=True, dtype=uint8> <valis.slide_io.VipsSlideReader object at 0x7f4137825280> True (375, 300, 3)\n"
     ]
    },
    {
     "name": "stderr",
     "output_type": "stream",
     "text": [
      "Converting images:  26%|████████████▎                                   | 677/2627 [00:07<00:22, 85.83image/s]"
     ]
    },
    {
     "name": "stdout",
     "output_type": "stream",
     "text": [
      "<Slide, name = B_213-ST_BFIW-SE_704_processed>, width=300, height=375, channels=3, levels=1, RGB=True, dtype=uint8> <valis.slide_io.VipsSlideReader object at 0x7f41378252e0> True (375, 300, 3)\n",
      "<Slide, name = B_213-ST_BFIW-SE_705_processed>, width=300, height=375, channels=3, levels=1, RGB=True, dtype=uint8> <valis.slide_io.VipsSlideReader object at 0x7f4137825340> True (375, 300, 3)\n",
      "<Slide, name = B_213-ST_BFIW-SE_706_processed>, width=300, height=375, channels=3, levels=1, RGB=True, dtype=uint8> <valis.slide_io.VipsSlideReader object at 0x7f41378253a0> True (375, 300, 3)\n",
      "<Slide, name = B_213-ST_BFIW-SE_707_processed>, width=300, height=375, channels=3, levels=1, RGB=True, dtype=uint8> <valis.slide_io.VipsSlideReader object at 0x7f4137825430> True (375, 300, 3)\n",
      "<Slide, name = B_213-ST_BFIW-SE_708_processed>, width=300, height=375, channels=3, levels=1, RGB=True, dtype=uint8> <valis.slide_io.VipsSlideReader object at 0x7f4137825490> True (375, 300, 3)\n",
      "<Slide, name = B_213-ST_BFIW-SE_709_processed>, width=300, height=375, channels=3, levels=1, RGB=True, dtype=uint8> <valis.slide_io.VipsSlideReader object at 0x7f41378254f0> True (375, 300, 3)\n",
      "<Slide, name = B_213-ST_BFIW-SE_710_processed>, width=300, height=375, channels=3, levels=1, RGB=True, dtype=uint8> <valis.slide_io.VipsSlideReader object at 0x7f4137825550> True (375, 300, 3)\n",
      "<Slide, name = B_213-ST_BFIW-SE_711_processed>, width=300, height=375, channels=3, levels=1, RGB=True, dtype=uint8> <valis.slide_io.VipsSlideReader object at 0x7f41378255b0> True (375, 300, 3)\n",
      "<Slide, name = B_213-ST_BFIW-SE_712_processed>, width=300, height=375, channels=3, levels=1, RGB=True, dtype=uint8> <valis.slide_io.VipsSlideReader object at 0x7f4137825610> True (375, 300, 3)\n"
     ]
    },
    {
     "name": "stderr",
     "output_type": "stream",
     "text": [
      "Converting images:  26%|████████████▌                                   | 686/2627 [00:07<00:22, 85.36image/s]"
     ]
    },
    {
     "name": "stdout",
     "output_type": "stream",
     "text": [
      "<Slide, name = B_213-ST_BFIW-SE_713_processed>, width=300, height=375, channels=3, levels=1, RGB=True, dtype=uint8> <valis.slide_io.VipsSlideReader object at 0x7f4137803ad0> True (375, 300, 3)\n",
      "<Slide, name = B_213-ST_BFIW-SE_714_processed>, width=300, height=375, channels=3, levels=1, RGB=True, dtype=uint8> <valis.slide_io.VipsSlideReader object at 0x7f4137825820> True (375, 300, 3)\n",
      "<Slide, name = B_213-ST_BFIW-SE_715_processed>, width=300, height=375, channels=3, levels=1, RGB=True, dtype=uint8> <valis.slide_io.VipsSlideReader object at 0x7f4137825760> True (375, 300, 3)\n",
      "<Slide, name = B_213-ST_BFIW-SE_716_processed>, width=300, height=375, channels=3, levels=1, RGB=True, dtype=uint8> <valis.slide_io.VipsSlideReader object at 0x7f41378254c0> True (375, 300, 3)\n",
      "<Slide, name = B_213-ST_BFIW-SE_717_processed>, width=300, height=375, channels=3, levels=1, RGB=True, dtype=uint8> <valis.slide_io.VipsSlideReader object at 0x7f41378255e0> True (375, 300, 3)\n",
      "<Slide, name = B_213-ST_BFIW-SE_718_processed>, width=300, height=375, channels=3, levels=1, RGB=True, dtype=uint8> <valis.slide_io.VipsSlideReader object at 0x7f4137823410> True (375, 300, 3)\n",
      "<Slide, name = B_213-ST_BFIW-SE_719_processed>, width=300, height=375, channels=3, levels=1, RGB=True, dtype=uint8> <valis.slide_io.VipsSlideReader object at 0x7f41378259d0> True (375, 300, 3)\n",
      "<Slide, name = B_213-ST_BFIW-SE_720_processed>, width=300, height=375, channels=3, levels=1, RGB=True, dtype=uint8> <valis.slide_io.VipsSlideReader object at 0x7f4137825910> True (375, 300, 3)\n",
      "<Slide, name = B_213-ST_BFIW-SE_721_processed>, width=300, height=375, channels=3, levels=1, RGB=True, dtype=uint8> <valis.slide_io.VipsSlideReader object at 0x7f4137825730> True (375, 300, 3)\n"
     ]
    },
    {
     "name": "stderr",
     "output_type": "stream",
     "text": [
      "Converting images:  26%|████████████▋                                   | 695/2627 [00:08<00:22, 85.39image/s]"
     ]
    },
    {
     "name": "stdout",
     "output_type": "stream",
     "text": [
      "<Slide, name = B_213-ST_BFIW-SE_722_processed>, width=300, height=375, channels=3, levels=1, RGB=True, dtype=uint8> <valis.slide_io.VipsSlideReader object at 0x7f4137825790> True (375, 300, 3)\n",
      "<Slide, name = B_213-ST_BFIW-SE_723_processed>, width=300, height=375, channels=3, levels=1, RGB=True, dtype=uint8> <valis.slide_io.VipsSlideReader object at 0x7f4137825a00> True (375, 300, 3)\n",
      "<Slide, name = B_213-ST_BFIW-SE_724_processed>, width=300, height=375, channels=3, levels=1, RGB=True, dtype=uint8> <valis.slide_io.VipsSlideReader object at 0x7f4137825a60> True (375, 300, 3)\n",
      "<Slide, name = B_213-ST_BFIW-SE_725_processed>, width=300, height=375, channels=3, levels=1, RGB=True, dtype=uint8> <valis.slide_io.VipsSlideReader object at 0x7f4137825ac0> True (375, 300, 3)\n",
      "<Slide, name = B_213-ST_BFIW-SE_726_processed>, width=300, height=375, channels=3, levels=1, RGB=True, dtype=uint8> <valis.slide_io.VipsSlideReader object at 0x7f4137825b20> True (375, 300, 3)\n",
      "<Slide, name = B_213-ST_BFIW-SE_727_processed>, width=300, height=375, channels=3, levels=1, RGB=True, dtype=uint8> <valis.slide_io.VipsSlideReader object at 0x7f4137825b80> True (375, 300, 3)\n",
      "<Slide, name = B_213-ST_BFIW-SE_728_processed>, width=300, height=375, channels=3, levels=1, RGB=True, dtype=uint8> <valis.slide_io.VipsSlideReader object at 0x7f4137825be0> True (375, 300, 3)\n",
      "<Slide, name = B_213-ST_BFIW-SE_729_processed>, width=300, height=375, channels=3, levels=1, RGB=True, dtype=uint8> <valis.slide_io.VipsSlideReader object at 0x7f4137825c40> True (375, 300, 3)\n",
      "<Slide, name = B_213-ST_BFIW-SE_730_processed>, width=300, height=375, channels=3, levels=1, RGB=True, dtype=uint8> <valis.slide_io.VipsSlideReader object at 0x7f4137825ca0> True (375, 300, 3)\n"
     ]
    },
    {
     "name": "stderr",
     "output_type": "stream",
     "text": [
      "Converting images:  27%|████████████▊                                   | 704/2627 [00:08<00:22, 85.07image/s]"
     ]
    },
    {
     "name": "stdout",
     "output_type": "stream",
     "text": [
      "<Slide, name = B_213-ST_BFIW-SE_731_processed>, width=300, height=375, channels=3, levels=1, RGB=True, dtype=uint8> <valis.slide_io.VipsSlideReader object at 0x7f4137825d30> True (375, 300, 3)\n",
      "<Slide, name = B_213-ST_BFIW-SE_732_processed>, width=300, height=375, channels=3, levels=1, RGB=True, dtype=uint8> <valis.slide_io.VipsSlideReader object at 0x7f4137825d90> True (375, 300, 3)\n",
      "<Slide, name = B_213-ST_BFIW-SE_733_processed>, width=300, height=375, channels=3, levels=1, RGB=True, dtype=uint8> <valis.slide_io.VipsSlideReader object at 0x7f4137825df0> True (375, 300, 3)\n",
      "<Slide, name = B_213-ST_BFIW-SE_734_processed>, width=300, height=375, channels=3, levels=1, RGB=True, dtype=uint8> <valis.slide_io.VipsSlideReader object at 0x7f4137825e50> True (375, 300, 3)\n",
      "<Slide, name = B_213-ST_BFIW-SE_735_processed>, width=300, height=375, channels=3, levels=1, RGB=True, dtype=uint8> <valis.slide_io.VipsSlideReader object at 0x7f4137825eb0> True (375, 300, 3)\n",
      "<Slide, name = B_213-ST_BFIW-SE_736_processed>, width=300, height=375, channels=3, levels=1, RGB=True, dtype=uint8> <valis.slide_io.VipsSlideReader object at 0x7f4137825f10> True (375, 300, 3)\n",
      "<Slide, name = B_213-ST_BFIW-SE_737_processed>, width=300, height=375, channels=3, levels=1, RGB=True, dtype=uint8> <valis.slide_io.VipsSlideReader object at 0x7f4137825f70> True (375, 300, 3)\n",
      "<Slide, name = B_213-ST_BFIW-SE_738_processed>, width=300, height=375, channels=3, levels=1, RGB=True, dtype=uint8> <valis.slide_io.VipsSlideReader object at 0x7f4137825fd0> True (375, 300, 3)\n",
      "<Slide, name = B_213-ST_BFIW-SE_739_processed>, width=300, height=375, channels=3, levels=1, RGB=True, dtype=uint8> <valis.slide_io.VipsSlideReader object at 0x7f4137826030> True (375, 300, 3)\n",
      "<Slide, name = B_213-ST_BFIW-SE_740_processed>, width=300, height=375, channels=3, levels=1, RGB=True, dtype=uint8> <valis.slide_io.VipsSlideReader object at 0x7f4137826090> True (375, 300, 3)\n"
     ]
    },
    {
     "name": "stderr",
     "output_type": "stream",
     "text": [
      "Converting images:  27%|█████████████                                   | 714/2627 [00:08<00:22, 86.55image/s]"
     ]
    },
    {
     "name": "stdout",
     "output_type": "stream",
     "text": [
      "<Slide, name = B_213-ST_BFIW-SE_741_processed>, width=300, height=375, channels=3, levels=1, RGB=True, dtype=uint8> <valis.slide_io.VipsSlideReader object at 0x7f41378260f0> True (375, 300, 3)\n",
      "<Slide, name = B_213-ST_BFIW-SE_742_processed>, width=300, height=375, channels=3, levels=1, RGB=True, dtype=uint8> <valis.slide_io.VipsSlideReader object at 0x7f4137826150> True (375, 300, 3)\n",
      "<Slide, name = B_213-ST_BFIW-SE_743_processed>, width=300, height=375, channels=3, levels=1, RGB=True, dtype=uint8> <valis.slide_io.VipsSlideReader object at 0x7f41378261b0> True (375, 300, 3)\n",
      "<Slide, name = B_213-ST_BFIW-SE_744_processed>, width=300, height=375, channels=3, levels=1, RGB=True, dtype=uint8> <valis.slide_io.VipsSlideReader object at 0x7f4137826210> True (375, 300, 3)\n",
      "<Slide, name = B_213-ST_BFIW-SE_745_processed>, width=300, height=375, channels=3, levels=1, RGB=True, dtype=uint8> <valis.slide_io.VipsSlideReader object at 0x7f4137826270> True (375, 300, 3)\n",
      "<Slide, name = B_213-ST_BFIW-SE_746_processed>, width=300, height=375, channels=3, levels=1, RGB=True, dtype=uint8> <valis.slide_io.VipsSlideReader object at 0x7f41378262d0> True (375, 300, 3)\n",
      "<Slide, name = B_213-ST_BFIW-SE_747_processed>, width=300, height=375, channels=3, levels=1, RGB=True, dtype=uint8> <valis.slide_io.VipsSlideReader object at 0x7f4137826330> True (375, 300, 3)\n",
      "<Slide, name = B_213-ST_BFIW-SE_748_processed>, width=300, height=375, channels=3, levels=1, RGB=True, dtype=uint8> <valis.slide_io.VipsSlideReader object at 0x7f4137826390> True (375, 300, 3)\n",
      "<Slide, name = B_213-ST_BFIW-SE_749_processed>, width=300, height=375, channels=3, levels=1, RGB=True, dtype=uint8> <valis.slide_io.VipsSlideReader object at 0x7f41378263f0> True (375, 300, 3)\n"
     ]
    },
    {
     "name": "stderr",
     "output_type": "stream",
     "text": [
      "Converting images:  28%|█████████████▏                                  | 723/2627 [00:08<00:22, 86.16image/s]"
     ]
    },
    {
     "name": "stdout",
     "output_type": "stream",
     "text": [
      "<Slide, name = B_213-ST_BFIW-SE_750_processed>, width=300, height=375, channels=3, levels=1, RGB=True, dtype=uint8> <valis.slide_io.VipsSlideReader object at 0x7f4137826450> True (375, 300, 3)\n",
      "<Slide, name = B_213-ST_BFIW-SE_751_processed>, width=300, height=375, channels=3, levels=1, RGB=True, dtype=uint8> <valis.slide_io.VipsSlideReader object at 0x7f41378264b0> True (375, 300, 3)\n",
      "<Slide, name = B_213-ST_BFIW-SE_752_processed>, width=300, height=375, channels=3, levels=1, RGB=True, dtype=uint8> <valis.slide_io.VipsSlideReader object at 0x7f4137826510> True (375, 300, 3)\n",
      "<Slide, name = B_213-ST_BFIW-SE_753_processed>, width=300, height=375, channels=3, levels=1, RGB=True, dtype=uint8> <valis.slide_io.VipsSlideReader object at 0x7f4137826570> True (375, 300, 3)\n",
      "<Slide, name = B_213-ST_BFIW-SE_754_processed>, width=300, height=375, channels=3, levels=1, RGB=True, dtype=uint8> <valis.slide_io.VipsSlideReader object at 0x7f41378265d0> True (375, 300, 3)\n",
      "<Slide, name = B_213-ST_BFIW-SE_755_processed>, width=300, height=375, channels=3, levels=1, RGB=True, dtype=uint8> <valis.slide_io.VipsSlideReader object at 0x7f4137826630> True (375, 300, 3)\n",
      "<Slide, name = B_213-ST_BFIW-SE_756_processed>, width=300, height=375, channels=3, levels=1, RGB=True, dtype=uint8> <valis.slide_io.VipsSlideReader object at 0x7f4137826690> True (375, 300, 3)\n",
      "<Slide, name = B_213-ST_BFIW-SE_757_processed>, width=300, height=375, channels=3, levels=1, RGB=True, dtype=uint8> <valis.slide_io.VipsSlideReader object at 0x7f41378266f0> True (375, 300, 3)\n",
      "<Slide, name = B_213-ST_BFIW-SE_758_processed>, width=300, height=375, channels=3, levels=1, RGB=True, dtype=uint8> <valis.slide_io.VipsSlideReader object at 0x7f4137826750> True (375, 300, 3)\n"
     ]
    },
    {
     "name": "stderr",
     "output_type": "stream",
     "text": [
      "Converting images:  28%|█████████████▎                                  | 732/2627 [00:08<00:21, 86.67image/s]"
     ]
    },
    {
     "name": "stdout",
     "output_type": "stream",
     "text": [
      "<Slide, name = B_213-ST_BFIW-SE_759_processed>, width=300, height=375, channels=3, levels=1, RGB=True, dtype=uint8> <valis.slide_io.VipsSlideReader object at 0x7f41378267b0> True (375, 300, 3)\n",
      "<Slide, name = B_213-ST_BFIW-SE_760_processed>, width=300, height=375, channels=3, levels=1, RGB=True, dtype=uint8> <valis.slide_io.VipsSlideReader object at 0x7f4137826810> True (375, 300, 3)\n",
      "<Slide, name = B_213-ST_BFIW-SE_761_processed>, width=300, height=375, channels=3, levels=1, RGB=True, dtype=uint8> <valis.slide_io.VipsSlideReader object at 0x7f41378268a0> True (375, 300, 3)\n",
      "<Slide, name = B_213-ST_BFIW-SE_762_processed>, width=300, height=375, channels=3, levels=1, RGB=True, dtype=uint8> <valis.slide_io.VipsSlideReader object at 0x7f4137826900> True (375, 300, 3)\n",
      "<Slide, name = B_213-ST_BFIW-SE_763_processed>, width=300, height=375, channels=3, levels=1, RGB=True, dtype=uint8> <valis.slide_io.VipsSlideReader object at 0x7f4137826960> True (375, 300, 3)\n",
      "<Slide, name = B_213-ST_BFIW-SE_764_processed>, width=300, height=375, channels=3, levels=1, RGB=True, dtype=uint8> <valis.slide_io.VipsSlideReader object at 0x7f41378269c0> True (375, 300, 3)\n",
      "<Slide, name = B_213-ST_BFIW-SE_765_processed>, width=300, height=375, channels=3, levels=1, RGB=True, dtype=uint8> <valis.slide_io.VipsSlideReader object at 0x7f4137826a20> True (375, 300, 3)\n",
      "<Slide, name = B_213-ST_BFIW-SE_766_processed>, width=300, height=375, channels=3, levels=1, RGB=True, dtype=uint8> <valis.slide_io.VipsSlideReader object at 0x7f4137826ab0> True (375, 300, 3)\n",
      "<Slide, name = B_213-ST_BFIW-SE_767_processed>, width=300, height=375, channels=3, levels=1, RGB=True, dtype=uint8> <valis.slide_io.VipsSlideReader object at 0x7f4137826b10> True (375, 300, 3)\n"
     ]
    },
    {
     "name": "stderr",
     "output_type": "stream",
     "text": [
      "Converting images:  28%|█████████████▌                                  | 741/2627 [00:08<00:21, 87.11image/s]"
     ]
    },
    {
     "name": "stdout",
     "output_type": "stream",
     "text": [
      "<Slide, name = B_213-ST_BFIW-SE_768_processed>, width=300, height=375, channels=3, levels=1, RGB=True, dtype=uint8> <valis.slide_io.VipsSlideReader object at 0x7f4137826b70> True (375, 300, 3)\n",
      "<Slide, name = B_213-ST_BFIW-SE_769_processed>, width=300, height=375, channels=3, levels=1, RGB=True, dtype=uint8> <valis.slide_io.VipsSlideReader object at 0x7f4137826bd0> True (375, 300, 3)\n",
      "<Slide, name = B_213-ST_BFIW-SE_770_processed>, width=300, height=375, channels=3, levels=1, RGB=True, dtype=uint8> <valis.slide_io.VipsSlideReader object at 0x7f4137826c30> True (375, 300, 3)\n",
      "<Slide, name = B_213-ST_BFIW-SE_771_processed>, width=300, height=375, channels=3, levels=1, RGB=True, dtype=uint8> <valis.slide_io.VipsSlideReader object at 0x7f4137826c90> True (375, 300, 3)\n",
      "<Slide, name = B_213-ST_BFIW-SE_772_processed>, width=300, height=375, channels=3, levels=1, RGB=True, dtype=uint8> <valis.slide_io.VipsSlideReader object at 0x7f4137826cf0> True (375, 300, 3)\n",
      "<Slide, name = B_213-ST_BFIW-SE_773_processed>, width=300, height=375, channels=3, levels=1, RGB=True, dtype=uint8> <valis.slide_io.VipsSlideReader object at 0x7f4137826d50> True (375, 300, 3)\n",
      "<Slide, name = B_213-ST_BFIW-SE_774_processed>, width=300, height=375, channels=3, levels=1, RGB=True, dtype=uint8> <valis.slide_io.VipsSlideReader object at 0x7f4137826db0> True (375, 300, 3)\n",
      "<Slide, name = B_213-ST_BFIW-SE_775_processed>, width=300, height=375, channels=3, levels=1, RGB=True, dtype=uint8> <valis.slide_io.VipsSlideReader object at 0x7f4137826e10> True (375, 300, 3)\n",
      "<Slide, name = B_213-ST_BFIW-SE_776_processed>, width=300, height=375, channels=3, levels=1, RGB=True, dtype=uint8> <valis.slide_io.VipsSlideReader object at 0x7f4137826e70> True (375, 300, 3)\n"
     ]
    },
    {
     "name": "stderr",
     "output_type": "stream",
     "text": [
      "Converting images:  29%|█████████████▋                                  | 750/2627 [00:08<00:21, 87.77image/s]"
     ]
    },
    {
     "name": "stdout",
     "output_type": "stream",
     "text": [
      "<Slide, name = B_213-ST_BFIW-SE_777_processed>, width=300, height=375, channels=3, levels=1, RGB=True, dtype=uint8> <valis.slide_io.VipsSlideReader object at 0x7f4137826f00> True (375, 300, 3)\n",
      "<Slide, name = B_213-ST_BFIW-SE_778_processed>, width=300, height=375, channels=3, levels=1, RGB=True, dtype=uint8> <valis.slide_io.VipsSlideReader object at 0x7f4137821610> True (375, 300, 3)\n",
      "<Slide, name = B_213-ST_BFIW-SE_779_processed>, width=300, height=375, channels=3, levels=1, RGB=True, dtype=uint8> <valis.slide_io.VipsSlideReader object at 0x7f41378270e0> True (375, 300, 3)\n",
      "<Slide, name = B_213-ST_BFIW-SE_780_processed>, width=300, height=375, channels=3, levels=1, RGB=True, dtype=uint8> <valis.slide_io.VipsSlideReader object at 0x7f4137827020> True (375, 300, 3)\n",
      "<Slide, name = B_213-ST_BFIW-SE_781_processed>, width=300, height=375, channels=3, levels=1, RGB=True, dtype=uint8> <valis.slide_io.VipsSlideReader object at 0x7f4137826d80> True (375, 300, 3)\n",
      "<Slide, name = B_213-ST_BFIW-SE_782_processed>, width=300, height=375, channels=3, levels=1, RGB=True, dtype=uint8> <valis.slide_io.VipsSlideReader object at 0x7f4137826ed0> True (375, 300, 3)\n",
      "<Slide, name = B_213-ST_BFIW-SE_783_processed>, width=300, height=375, channels=3, levels=1, RGB=True, dtype=uint8> <valis.slide_io.VipsSlideReader object at 0x7f4137827110> True (375, 300, 3)\n",
      "<Slide, name = B_213-ST_BFIW-SE_784_processed>, width=300, height=375, channels=3, levels=1, RGB=True, dtype=uint8> <valis.slide_io.VipsSlideReader object at 0x7f4137827170> True (375, 300, 3)\n",
      "<Slide, name = B_213-ST_BFIW-SE_785_processed>, width=300, height=375, channels=3, levels=1, RGB=True, dtype=uint8> <valis.slide_io.VipsSlideReader object at 0x7f41378271d0> True (375, 300, 3)\n"
     ]
    },
    {
     "name": "stderr",
     "output_type": "stream",
     "text": [
      "Converting images:  29%|█████████████▊                                  | 759/2627 [00:08<00:21, 87.79image/s]"
     ]
    },
    {
     "name": "stdout",
     "output_type": "stream",
     "text": [
      "<Slide, name = B_213-ST_BFIW-SE_786_processed>, width=300, height=375, channels=3, levels=1, RGB=True, dtype=uint8> <valis.slide_io.VipsSlideReader object at 0x7f4137827230> True (375, 300, 3)\n",
      "<Slide, name = B_213-ST_BFIW-SE_787_processed>, width=300, height=375, channels=3, levels=1, RGB=True, dtype=uint8> <valis.slide_io.VipsSlideReader object at 0x7f4137827290> True (375, 300, 3)\n",
      "<Slide, name = B_213-ST_BFIW-SE_788_processed>, width=300, height=375, channels=3, levels=1, RGB=True, dtype=uint8> <valis.slide_io.VipsSlideReader object at 0x7f41378272f0> True (375, 300, 3)\n",
      "<Slide, name = B_213-ST_BFIW-SE_789_processed>, width=300, height=375, channels=3, levels=1, RGB=True, dtype=uint8> <valis.slide_io.VipsSlideReader object at 0x7f4137827350> True (375, 300, 3)\n",
      "<Slide, name = B_213-ST_BFIW-SE_790_processed>, width=300, height=375, channels=3, levels=1, RGB=True, dtype=uint8> <valis.slide_io.VipsSlideReader object at 0x7f41378273b0> True (375, 300, 3)\n",
      "<Slide, name = B_213-ST_BFIW-SE_791_processed>, width=300, height=375, channels=3, levels=1, RGB=True, dtype=uint8> <valis.slide_io.VipsSlideReader object at 0x7f4137827410> True (375, 300, 3)\n",
      "<Slide, name = B_213-ST_BFIW-SE_792_processed>, width=300, height=375, channels=3, levels=1, RGB=True, dtype=uint8> <valis.slide_io.VipsSlideReader object at 0x7f4137827470> True (375, 300, 3)\n",
      "<Slide, name = B_213-ST_BFIW-SE_793_processed>, width=300, height=375, channels=3, levels=1, RGB=True, dtype=uint8> <valis.slide_io.VipsSlideReader object at 0x7f41378274d0> True (375, 300, 3)\n",
      "<Slide, name = B_213-ST_BFIW-SE_794_processed>, width=300, height=375, channels=3, levels=1, RGB=True, dtype=uint8> <valis.slide_io.VipsSlideReader object at 0x7f4137827530> True (375, 300, 3)\n"
     ]
    },
    {
     "name": "stderr",
     "output_type": "stream",
     "text": [
      "Converting images:  29%|██████████████                                  | 768/2627 [00:08<00:21, 87.00image/s]"
     ]
    },
    {
     "name": "stdout",
     "output_type": "stream",
     "text": [
      "<Slide, name = B_213-ST_BFIW-SE_795_processed>, width=300, height=375, channels=3, levels=1, RGB=True, dtype=uint8> <valis.slide_io.VipsSlideReader object at 0x7f4137827590> True (375, 300, 3)\n",
      "<Slide, name = B_213-ST_BFIW-SE_796_processed>, width=300, height=375, channels=3, levels=1, RGB=True, dtype=uint8> <valis.slide_io.VipsSlideReader object at 0x7f41378275f0> True (375, 300, 3)\n",
      "<Slide, name = B_213-ST_BFIW-SE_797_processed>, width=300, height=375, channels=3, levels=1, RGB=True, dtype=uint8> <valis.slide_io.VipsSlideReader object at 0x7f4137827650> True (375, 300, 3)\n",
      "<Slide, name = B_213-ST_BFIW-SE_798_processed>, width=300, height=375, channels=3, levels=1, RGB=True, dtype=uint8> <valis.slide_io.VipsSlideReader object at 0x7f41378276b0> True (375, 300, 3)\n",
      "<Slide, name = B_213-ST_BFIW-SE_799_processed>, width=300, height=375, channels=3, levels=1, RGB=True, dtype=uint8> <valis.slide_io.VipsSlideReader object at 0x7f4137827710> True (375, 300, 3)\n",
      "<Slide, name = B_213-ST_BFIW-SE_800_processed>, width=300, height=375, channels=3, levels=1, RGB=True, dtype=uint8> <valis.slide_io.VipsSlideReader object at 0x7f4137827770> True (375, 300, 3)\n",
      "<Slide, name = B_213-ST_BFIW-SE_801_processed>, width=300, height=375, channels=3, levels=1, RGB=True, dtype=uint8> <valis.slide_io.VipsSlideReader object at 0x7f41378277d0> True (375, 300, 3)\n",
      "<Slide, name = B_213-ST_BFIW-SE_802_processed>, width=300, height=375, channels=3, levels=1, RGB=True, dtype=uint8> <valis.slide_io.VipsSlideReader object at 0x7f4137827830> True (375, 300, 3)\n",
      "<Slide, name = B_213-ST_BFIW-SE_803_processed>, width=300, height=375, channels=3, levels=1, RGB=True, dtype=uint8> <valis.slide_io.VipsSlideReader object at 0x7f4137827890> True (375, 300, 3)\n"
     ]
    },
    {
     "name": "stderr",
     "output_type": "stream",
     "text": [
      "Converting images:  30%|██████████████▏                                 | 777/2627 [00:08<00:21, 87.24image/s]"
     ]
    },
    {
     "name": "stdout",
     "output_type": "stream",
     "text": [
      "<Slide, name = B_213-ST_BFIW-SE_804_processed>, width=300, height=375, channels=3, levels=1, RGB=True, dtype=uint8> <valis.slide_io.VipsSlideReader object at 0x7f41378278f0> True (375, 300, 3)\n",
      "<Slide, name = B_213-ST_BFIW-SE_805_processed>, width=300, height=375, channels=3, levels=1, RGB=True, dtype=uint8> <valis.slide_io.VipsSlideReader object at 0x7f4137827950> True (375, 300, 3)\n",
      "<Slide, name = B_213-ST_BFIW-SE_806_processed>, width=300, height=375, channels=3, levels=1, RGB=True, dtype=uint8> <valis.slide_io.VipsSlideReader object at 0x7f41378279b0> True (375, 300, 3)\n",
      "<Slide, name = B_213-ST_BFIW-SE_807_processed>, width=300, height=375, channels=3, levels=1, RGB=True, dtype=uint8> <valis.slide_io.VipsSlideReader object at 0x7f4137827a10> True (375, 300, 3)\n",
      "<Slide, name = B_213-ST_BFIW-SE_808_processed>, width=300, height=375, channels=3, levels=1, RGB=True, dtype=uint8> <valis.slide_io.VipsSlideReader object at 0x7f4137820410> True (375, 300, 3)\n",
      "<Slide, name = B_213-ST_BFIW-SE_809_processed>, width=300, height=375, channels=3, levels=1, RGB=True, dtype=uint8> <valis.slide_io.VipsSlideReader object at 0x7f4137827d40> True (375, 300, 3)\n",
      "<Slide, name = B_213-ST_BFIW-SE_810_processed>, width=300, height=375, channels=3, levels=1, RGB=True, dtype=uint8> <valis.slide_io.VipsSlideReader object at 0x7f4137827bf0> True (375, 300, 3)\n",
      "<Slide, name = B_213-ST_BFIW-SE_811_processed>, width=300, height=375, channels=3, levels=1, RGB=True, dtype=uint8> <valis.slide_io.VipsSlideReader object at 0x7f41378278c0> True (375, 300, 3)\n",
      "<Slide, name = B_213-ST_BFIW-SE_812_processed>, width=300, height=375, channels=3, levels=1, RGB=True, dtype=uint8> <valis.slide_io.VipsSlideReader object at 0x7f41378279e0> True (375, 300, 3)\n"
     ]
    },
    {
     "name": "stderr",
     "output_type": "stream",
     "text": [
      "Converting images:  30%|██████████████▎                                 | 786/2627 [00:09<00:21, 86.89image/s]"
     ]
    },
    {
     "name": "stdout",
     "output_type": "stream",
     "text": [
      "<Slide, name = B_213-ST_BFIW-SE_813_processed>, width=300, height=375, channels=3, levels=1, RGB=True, dtype=uint8> <valis.slide_io.VipsSlideReader object at 0x7f4137827ce0> True (375, 300, 3)\n",
      "<Slide, name = B_213-ST_BFIW-SE_814_processed>, width=300, height=375, channels=3, levels=1, RGB=True, dtype=uint8> <valis.slide_io.VipsSlideReader object at 0x7f4137827d70> True (375, 300, 3)\n",
      "<Slide, name = B_213-ST_BFIW-SE_815_processed>, width=300, height=375, channels=3, levels=1, RGB=True, dtype=uint8> <valis.slide_io.VipsSlideReader object at 0x7f4137827bc0> True (375, 300, 3)\n",
      "<Slide, name = B_213-ST_BFIW-SE_816_processed>, width=300, height=375, channels=3, levels=1, RGB=True, dtype=uint8> <valis.slide_io.VipsSlideReader object at 0x7f4137827fb0> True (375, 300, 3)\n",
      "<Slide, name = B_213-ST_BFIW-SE_817_processed>, width=300, height=375, channels=3, levels=1, RGB=True, dtype=uint8> <valis.slide_io.VipsSlideReader object at 0x7f4137827cb0> True (375, 300, 3)\n",
      "<Slide, name = B_213-ST_BFIW-SE_818_processed>, width=300, height=375, channels=3, levels=1, RGB=True, dtype=uint8> <valis.slide_io.VipsSlideReader object at 0x7f4137827c20> True (375, 300, 3)\n",
      "<Slide, name = B_213-ST_BFIW-SE_819_processed>, width=300, height=375, channels=3, levels=1, RGB=True, dtype=uint8> <valis.slide_io.VipsSlideReader object at 0x7f4137827b90> True (375, 300, 3)\n",
      "<Slide, name = B_213-ST_BFIW-SE_820_processed>, width=300, height=375, channels=3, levels=1, RGB=True, dtype=uint8> <valis.slide_io.VipsSlideReader object at 0x7f4137827860> True (375, 300, 3)\n",
      "<Slide, name = B_213-ST_BFIW-SE_821_processed>, width=300, height=375, channels=3, levels=1, RGB=True, dtype=uint8> <valis.slide_io.VipsSlideReader object at 0x7f4137820440> True (375, 300, 3)\n"
     ]
    },
    {
     "name": "stderr",
     "output_type": "stream",
     "text": [
      "Converting images:  30%|██████████████▌                                 | 795/2627 [00:09<00:20, 87.65image/s]"
     ]
    },
    {
     "name": "stdout",
     "output_type": "stream",
     "text": [
      "<Slide, name = B_213-ST_BFIW-SE_822_processed>, width=300, height=375, channels=3, levels=1, RGB=True, dtype=uint8> <valis.slide_io.VipsSlideReader object at 0x7f4137800380> True (375, 300, 3)\n",
      "<Slide, name = B_213-ST_BFIW-SE_823_processed>, width=300, height=375, channels=3, levels=1, RGB=True, dtype=uint8> <valis.slide_io.VipsSlideReader object at 0x7f41378282f0> True (375, 300, 3)\n",
      "<Slide, name = B_213-ST_BFIW-SE_824_processed>, width=300, height=375, channels=3, levels=1, RGB=True, dtype=uint8> <valis.slide_io.VipsSlideReader object at 0x7f4137828410> True (375, 300, 3)\n",
      "<Slide, name = B_213-ST_BFIW-SE_825_processed>, width=300, height=375, channels=3, levels=1, RGB=True, dtype=uint8> <valis.slide_io.VipsSlideReader object at 0x7f4137828350> True (375, 300, 3)\n",
      "<Slide, name = B_213-ST_BFIW-SE_826_processed>, width=300, height=375, channels=3, levels=1, RGB=True, dtype=uint8> <valis.slide_io.VipsSlideReader object at 0x7f4137828290> True (375, 300, 3)\n",
      "<Slide, name = B_213-ST_BFIW-SE_827_processed>, width=300, height=375, channels=3, levels=1, RGB=True, dtype=uint8> <valis.slide_io.VipsSlideReader object at 0x7f41378106b0> True (375, 300, 3)\n",
      "<Slide, name = B_213-ST_BFIW-SE_828_processed>, width=300, height=375, channels=3, levels=1, RGB=True, dtype=uint8> <valis.slide_io.VipsSlideReader object at 0x7f4137820260> True (375, 300, 3)\n",
      "<Slide, name = B_213-ST_BFIW-SE_829_processed>, width=300, height=375, channels=3, levels=1, RGB=True, dtype=uint8> <valis.slide_io.VipsSlideReader object at 0x7f4137800740> True (375, 300, 3)\n",
      "<Slide, name = B_213-ST_BFIW-SE_830_processed>, width=300, height=375, channels=3, levels=1, RGB=True, dtype=uint8> <valis.slide_io.VipsSlideReader object at 0x7f4137800770> True (375, 300, 3)\n"
     ]
    },
    {
     "name": "stderr",
     "output_type": "stream",
     "text": [
      "Converting images:  31%|██████████████▋                                 | 804/2627 [00:09<00:20, 87.71image/s]"
     ]
    },
    {
     "name": "stdout",
     "output_type": "stream",
     "text": [
      "<Slide, name = B_213-ST_BFIW-SE_831_processed>, width=300, height=375, channels=3, levels=1, RGB=True, dtype=uint8> <valis.slide_io.VipsSlideReader object at 0x7f41378107d0> True (375, 300, 3)\n",
      "<Slide, name = B_213-ST_BFIW-SE_832_processed>, width=300, height=375, channels=3, levels=1, RGB=True, dtype=uint8> <valis.slide_io.VipsSlideReader object at 0x7f4137810830> True (375, 300, 3)\n",
      "<Slide, name = B_213-ST_BFIW-SE_833_processed>, width=300, height=375, channels=3, levels=1, RGB=True, dtype=uint8> <valis.slide_io.VipsSlideReader object at 0x7f4137828590> True (375, 300, 3)\n",
      "<Slide, name = B_213-ST_BFIW-SE_834_processed>, width=300, height=375, channels=3, levels=1, RGB=True, dtype=uint8> <valis.slide_io.VipsSlideReader object at 0x7f41378108f0> True (375, 300, 3)\n",
      "<Slide, name = B_213-ST_BFIW-SE_835_processed>, width=300, height=375, channels=3, levels=1, RGB=True, dtype=uint8> <valis.slide_io.VipsSlideReader object at 0x7f41378107a0> True (375, 300, 3)\n",
      "<Slide, name = B_213-ST_BFIW-SE_836_processed>, width=300, height=375, channels=3, levels=1, RGB=True, dtype=uint8> <valis.slide_io.VipsSlideReader object at 0x7f41378008c0> True (375, 300, 3)\n",
      "<Slide, name = B_213-ST_BFIW-SE_837_processed>, width=300, height=375, channels=3, levels=1, RGB=True, dtype=uint8> <valis.slide_io.VipsSlideReader object at 0x7f4137828950> True (375, 300, 3)\n",
      "<Slide, name = B_213-ST_BFIW-SE_838_processed>, width=300, height=375, channels=3, levels=1, RGB=True, dtype=uint8> <valis.slide_io.VipsSlideReader object at 0x7f41378009e0> True (375, 300, 3)\n",
      "<Slide, name = B_213-ST_BFIW-SE_839_processed>, width=300, height=375, channels=3, levels=1, RGB=True, dtype=uint8> <valis.slide_io.VipsSlideReader object at 0x7f4137820b30> True (375, 300, 3)\n"
     ]
    },
    {
     "name": "stderr",
     "output_type": "stream",
     "text": [
      "Converting images:  31%|██████████████▊                                 | 813/2627 [00:09<00:20, 87.93image/s]"
     ]
    },
    {
     "name": "stdout",
     "output_type": "stream",
     "text": [
      "<Slide, name = B_213-ST_BFIW-SE_840_processed>, width=300, height=375, channels=3, levels=1, RGB=True, dtype=uint8> <valis.slide_io.VipsSlideReader object at 0x7f4137828c20> True (375, 300, 3)\n",
      "<Slide, name = B_213-ST_BFIW-SE_841_processed>, width=300, height=375, channels=3, levels=1, RGB=True, dtype=uint8> <valis.slide_io.VipsSlideReader object at 0x7f4137810b00> True (375, 300, 3)\n",
      "<Slide, name = B_213-ST_BFIW-SE_842_processed>, width=300, height=375, channels=3, levels=1, RGB=True, dtype=uint8> <valis.slide_io.VipsSlideReader object at 0x7f4137bb0d40> True (375, 300, 3)\n",
      "<Slide, name = B_213-ST_BFIW-SE_843_processed>, width=300, height=375, channels=3, levels=1, RGB=True, dtype=uint8> <valis.slide_io.VipsSlideReader object at 0x7f4137828980> True (375, 300, 3)\n",
      "<Slide, name = B_213-ST_BFIW-SE_844_processed>, width=300, height=375, channels=3, levels=1, RGB=True, dtype=uint8> <valis.slide_io.VipsSlideReader object at 0x7f4137820ce0> True (375, 300, 3)\n",
      "<Slide, name = B_213-ST_BFIW-SE_845_processed>, width=300, height=375, channels=3, levels=1, RGB=True, dtype=uint8> <valis.slide_io.VipsSlideReader object at 0x7f4137828ef0> True (375, 300, 3)\n",
      "<Slide, name = B_213-ST_BFIW-SE_846_processed>, width=300, height=375, channels=3, levels=1, RGB=True, dtype=uint8> <valis.slide_io.VipsSlideReader object at 0x7f41378109b0> True (375, 300, 3)\n",
      "<Slide, name = B_213-ST_BFIW-SE_847_processed>, width=300, height=375, channels=3, levels=1, RGB=True, dtype=uint8> <valis.slide_io.VipsSlideReader object at 0x7f4137828800> True (375, 300, 3)\n",
      "<Slide, name = B_213-ST_BFIW-SE_848_processed>, width=300, height=375, channels=3, levels=1, RGB=True, dtype=uint8> <valis.slide_io.VipsSlideReader object at 0x7f4137820e30> True (375, 300, 3)\n"
     ]
    },
    {
     "name": "stderr",
     "output_type": "stream",
     "text": [
      "Converting images:  31%|███████████████                                 | 822/2627 [00:09<00:20, 86.02image/s]"
     ]
    },
    {
     "name": "stdout",
     "output_type": "stream",
     "text": [
      "<Slide, name = B_213-ST_BFIW-SE_849_processed>, width=300, height=375, channels=3, levels=1, RGB=True, dtype=uint8> <valis.slide_io.VipsSlideReader object at 0x7f4137820fe0> True (375, 300, 3)\n",
      "<Slide, name = B_213-ST_BFIW-SE_850_processed>, width=300, height=375, channels=3, levels=1, RGB=True, dtype=uint8> <valis.slide_io.VipsSlideReader object at 0x7f4137800a40> True (375, 300, 3)\n",
      "<Slide, name = B_213-ST_BFIW-SE_851_processed>, width=300, height=375, channels=3, levels=1, RGB=True, dtype=uint8> <valis.slide_io.VipsSlideReader object at 0x7f4137820fb0> True (375, 300, 3)\n",
      "<Slide, name = B_213-ST_BFIW-SE_852_processed>, width=300, height=375, channels=3, levels=1, RGB=True, dtype=uint8> <valis.slide_io.VipsSlideReader object at 0x7f4137828ad0> True (375, 300, 3)\n",
      "<Slide, name = B_213-ST_BFIW-SE_853_processed>, width=300, height=375, channels=3, levels=1, RGB=True, dtype=uint8> <valis.slide_io.VipsSlideReader object at 0x7f4137811040> True (375, 300, 3)\n",
      "<Slide, name = B_213-ST_BFIW-SE_854_processed>, width=300, height=375, channels=3, levels=1, RGB=True, dtype=uint8> <valis.slide_io.VipsSlideReader object at 0x7f4137810b60> True (375, 300, 3)\n",
      "<Slide, name = B_213-ST_BFIW-SE_855_processed>, width=300, height=375, channels=3, levels=1, RGB=True, dtype=uint8> <valis.slide_io.VipsSlideReader object at 0x7f4137828e60> True (375, 300, 3)\n",
      "<Slide, name = B_213-ST_BFIW-SE_856_processed>, width=300, height=375, channels=3, levels=1, RGB=True, dtype=uint8> <valis.slide_io.VipsSlideReader object at 0x7f4137829160> True (375, 300, 3)\n",
      "<Slide, name = B_213-ST_BFIW-SE_857_processed>, width=300, height=375, channels=3, levels=1, RGB=True, dtype=uint8> <valis.slide_io.VipsSlideReader object at 0x7f4137829010> True (375, 300, 3)\n"
     ]
    },
    {
     "name": "stderr",
     "output_type": "stream",
     "text": [
      "Converting images:  32%|███████████████▏                                | 831/2627 [00:09<00:21, 84.49image/s]"
     ]
    },
    {
     "name": "stdout",
     "output_type": "stream",
     "text": [
      "<Slide, name = B_213-ST_BFIW-SE_858_processed>, width=300, height=375, channels=3, levels=1, RGB=True, dtype=uint8> <valis.slide_io.VipsSlideReader object at 0x7f4137810da0> True (375, 300, 3)\n",
      "<Slide, name = B_213-ST_BFIW-SE_859_processed>, width=300, height=375, channels=3, levels=1, RGB=True, dtype=uint8> <valis.slide_io.VipsSlideReader object at 0x7f4137829130> True (375, 300, 3)\n",
      "<Slide, name = B_213-ST_BFIW-SE_860_processed>, width=300, height=375, channels=3, levels=1, RGB=True, dtype=uint8> <valis.slide_io.VipsSlideReader object at 0x7f4137be92e0> True (375, 300, 3)\n",
      "<Slide, name = B_213-ST_BFIW-SE_861_processed>, width=300, height=375, channels=3, levels=1, RGB=True, dtype=uint8> <valis.slide_io.VipsSlideReader object at 0x7f4137821370> True (375, 300, 3)\n",
      "<Slide, name = B_213-ST_BFIW-SE_862_processed>, width=300, height=375, channels=3, levels=1, RGB=True, dtype=uint8> <valis.slide_io.VipsSlideReader object at 0x7f41378214c0> True (375, 300, 3)\n",
      "<Slide, name = B_213-ST_BFIW-SE_863_processed>, width=300, height=375, channels=3, levels=1, RGB=True, dtype=uint8> <valis.slide_io.VipsSlideReader object at 0x7f41378114f0> True (375, 300, 3)\n",
      "<Slide, name = B_213-ST_BFIW-SE_864_processed>, width=300, height=375, channels=3, levels=1, RGB=True, dtype=uint8> <valis.slide_io.VipsSlideReader object at 0x7f4137829400> True (375, 300, 3)\n",
      "<Slide, name = B_213-ST_BFIW-SE_865_processed>, width=300, height=375, channels=3, levels=1, RGB=True, dtype=uint8> <valis.slide_io.VipsSlideReader object at 0x7f41378115b0> True (375, 300, 3)\n",
      "<Slide, name = B_213-ST_BFIW-SE_866_processed>, width=300, height=375, channels=3, levels=1, RGB=True, dtype=uint8> <valis.slide_io.VipsSlideReader object at 0x7f4137829460> True (375, 300, 3)\n"
     ]
    },
    {
     "name": "stderr",
     "output_type": "stream",
     "text": [
      "Converting images:  32%|███████████████▎                                | 840/2627 [00:09<00:21, 84.08image/s]"
     ]
    },
    {
     "name": "stdout",
     "output_type": "stream",
     "text": [
      "<Slide, name = B_213-ST_BFIW-SE_867_processed>, width=300, height=375, channels=3, levels=1, RGB=True, dtype=uint8> <valis.slide_io.VipsSlideReader object at 0x7f4137829670> True (375, 300, 3)\n",
      "<Slide, name = B_213-ST_BFIW-SE_868_processed>, width=300, height=375, channels=3, levels=1, RGB=True, dtype=uint8> <valis.slide_io.VipsSlideReader object at 0x7f4137829850> True (375, 300, 3)\n",
      "<Slide, name = B_213-ST_BFIW-SE_869_processed>, width=300, height=375, channels=3, levels=1, RGB=True, dtype=uint8> <valis.slide_io.VipsSlideReader object at 0x7f41378218e0> True (375, 300, 3)\n",
      "<Slide, name = B_213-ST_BFIW-SE_870_processed>, width=300, height=375, channels=3, levels=1, RGB=True, dtype=uint8> <valis.slide_io.VipsSlideReader object at 0x7f4137829760> True (375, 300, 3)\n",
      "<Slide, name = B_213-ST_BFIW-SE_871_processed>, width=300, height=375, channels=3, levels=1, RGB=True, dtype=uint8> <valis.slide_io.VipsSlideReader object at 0x7f41378018b0> True (375, 300, 3)\n",
      "<Slide, name = B_213-ST_BFIW-SE_872_processed>, width=300, height=375, channels=3, levels=1, RGB=True, dtype=uint8> <valis.slide_io.VipsSlideReader object at 0x7f4137821580> True (375, 300, 3)\n",
      "<Slide, name = B_213-ST_BFIW-SE_873_processed>, width=300, height=375, channels=3, levels=1, RGB=True, dtype=uint8> <valis.slide_io.VipsSlideReader object at 0x7f4137811940> True (375, 300, 3)\n",
      "<Slide, name = B_213-ST_BFIW-SE_874_processed>, width=300, height=375, channels=3, levels=1, RGB=True, dtype=uint8> <valis.slide_io.VipsSlideReader object at 0x7f41378119a0> True (375, 300, 3)\n",
      "<Slide, name = B_213-ST_BFIW-SE_875_processed>, width=300, height=375, channels=3, levels=1, RGB=True, dtype=uint8> <valis.slide_io.VipsSlideReader object at 0x7f4137801a00> True (375, 300, 3)\n"
     ]
    },
    {
     "name": "stderr",
     "output_type": "stream",
     "text": [
      "Converting images:  32%|███████████████▌                                | 849/2627 [00:09<00:21, 84.01image/s]"
     ]
    },
    {
     "name": "stdout",
     "output_type": "stream",
     "text": [
      "<Slide, name = B_213-ST_BFIW-SE_876_processed>, width=300, height=375, channels=3, levels=1, RGB=True, dtype=uint8> <valis.slide_io.VipsSlideReader object at 0x7f4137821a60> True (375, 300, 3)\n",
      "<Slide, name = B_213-ST_BFIW-SE_877_processed>, width=300, height=375, channels=3, levels=1, RGB=True, dtype=uint8> <valis.slide_io.VipsSlideReader object at 0x7f4137829970> True (375, 300, 3)\n",
      "<Slide, name = B_213-ST_BFIW-SE_878_processed>, width=300, height=375, channels=3, levels=1, RGB=True, dtype=uint8> <valis.slide_io.VipsSlideReader object at 0x7f4137829b20> True (375, 300, 3)\n",
      "<Slide, name = B_213-ST_BFIW-SE_879_processed>, width=300, height=375, channels=3, levels=1, RGB=True, dtype=uint8> <valis.slide_io.VipsSlideReader object at 0x7f4137829790> True (375, 300, 3)\n",
      "<Slide, name = B_213-ST_BFIW-SE_880_processed>, width=300, height=375, channels=3, levels=1, RGB=True, dtype=uint8> <valis.slide_io.VipsSlideReader object at 0x7f4137811a30> True (375, 300, 3)\n",
      "<Slide, name = B_213-ST_BFIW-SE_881_processed>, width=300, height=375, channels=3, levels=1, RGB=True, dtype=uint8> <valis.slide_io.VipsSlideReader object at 0x7f4137bb1af0> True (375, 300, 3)\n",
      "<Slide, name = B_213-ST_BFIW-SE_882_processed>, width=300, height=375, channels=3, levels=1, RGB=True, dtype=uint8> <valis.slide_io.VipsSlideReader object at 0x7f4137821d00> True (375, 300, 3)\n",
      "<Slide, name = B_213-ST_BFIW-SE_883_processed>, width=300, height=375, channels=3, levels=1, RGB=True, dtype=uint8> <valis.slide_io.VipsSlideReader object at 0x7f4137811d30> True (375, 300, 3)\n",
      "<Slide, name = B_213-ST_BFIW-SE_884_processed>, width=300, height=375, channels=3, levels=1, RGB=True, dtype=uint8> <valis.slide_io.VipsSlideReader object at 0x7f4137829c40> True (375, 300, 3)\n"
     ]
    },
    {
     "name": "stderr",
     "output_type": "stream",
     "text": [
      "Converting images:  33%|███████████████▋                                | 858/2627 [00:09<00:20, 84.50image/s]"
     ]
    },
    {
     "name": "stdout",
     "output_type": "stream",
     "text": [
      "<Slide, name = B_213-ST_BFIW-SE_885_processed>, width=300, height=375, channels=3, levels=1, RGB=True, dtype=uint8> <valis.slide_io.VipsSlideReader object at 0x7f4137811df0> True (375, 300, 3)\n",
      "<Slide, name = B_213-ST_BFIW-SE_886_processed>, width=300, height=375, channels=3, levels=1, RGB=True, dtype=uint8> <valis.slide_io.VipsSlideReader object at 0x7f4137829ca0> True (375, 300, 3)\n",
      "<Slide, name = B_213-ST_BFIW-SE_887_processed>, width=300, height=375, channels=3, levels=1, RGB=True, dtype=uint8> <valis.slide_io.VipsSlideReader object at 0x7f4137829eb0> True (375, 300, 3)\n",
      "<Slide, name = B_213-ST_BFIW-SE_888_processed>, width=300, height=375, channels=3, levels=1, RGB=True, dtype=uint8> <valis.slide_io.VipsSlideReader object at 0x7f42d2f4a060> True (375, 300, 3)\n",
      "<Slide, name = B_213-ST_BFIW-SE_889_processed>, width=300, height=375, channels=3, levels=1, RGB=True, dtype=uint8> <valis.slide_io.VipsSlideReader object at 0x7f4137829fa0> True (375, 300, 3)\n",
      "<Slide, name = B_213-ST_BFIW-SE_890_processed>, width=300, height=375, channels=3, levels=1, RGB=True, dtype=uint8> <valis.slide_io.VipsSlideReader object at 0x7f4137822030> True (375, 300, 3)\n",
      "<Slide, name = B_213-ST_BFIW-SE_891_processed>, width=300, height=375, channels=3, levels=1, RGB=True, dtype=uint8> <valis.slide_io.VipsSlideReader object at 0x7f4137801d60> True (375, 300, 3)\n",
      "<Slide, name = B_213-ST_BFIW-SE_892_processed>, width=300, height=375, channels=3, levels=1, RGB=True, dtype=uint8> <valis.slide_io.VipsSlideReader object at 0x7f4137829910> True (375, 300, 3)\n",
      "<Slide, name = B_213-ST_BFIW-SE_893_processed>, width=300, height=375, channels=3, levels=1, RGB=True, dtype=uint8> <valis.slide_io.VipsSlideReader object at 0x7f413782a120> True (375, 300, 3)\n"
     ]
    },
    {
     "name": "stderr",
     "output_type": "stream",
     "text": [
      "Converting images:  33%|███████████████▊                                | 867/2627 [00:10<00:20, 85.08image/s]"
     ]
    },
    {
     "name": "stdout",
     "output_type": "stream",
     "text": [
      "<Slide, name = B_213-ST_BFIW-SE_894_processed>, width=300, height=375, channels=3, levels=1, RGB=True, dtype=uint8> <valis.slide_io.VipsSlideReader object at 0x7f4137829e50> True (375, 300, 3)\n",
      "<Slide, name = B_213-ST_BFIW-SE_895_processed>, width=300, height=375, channels=3, levels=1, RGB=True, dtype=uint8> <valis.slide_io.VipsSlideReader object at 0x7f41378221b0> True (375, 300, 3)\n",
      "<Slide, name = B_213-ST_BFIW-SE_896_processed>, width=300, height=375, channels=3, levels=1, RGB=True, dtype=uint8> <valis.slide_io.VipsSlideReader object at 0x7f4137821dc0> True (375, 300, 3)\n",
      "<Slide, name = B_213-ST_BFIW-SE_897_processed>, width=300, height=375, channels=3, levels=1, RGB=True, dtype=uint8> <valis.slide_io.VipsSlideReader object at 0x7f4137812300> True (375, 300, 3)\n",
      "<Slide, name = B_213-ST_BFIW-SE_898_processed>, width=300, height=375, channels=3, levels=1, RGB=True, dtype=uint8> <valis.slide_io.VipsSlideReader object at 0x7f4137be2330> True (375, 300, 3)\n",
      "<Slide, name = B_213-ST_BFIW-SE_899_processed>, width=300, height=375, channels=3, levels=1, RGB=True, dtype=uint8> <valis.slide_io.VipsSlideReader object at 0x7f41378223c0> True (375, 300, 3)\n",
      "<Slide, name = B_213-ST_BFIW-SE_900_processed>, width=300, height=375, channels=3, levels=1, RGB=True, dtype=uint8> <valis.slide_io.VipsSlideReader object at 0x7f4137822420> True (375, 300, 3)\n",
      "<Slide, name = B_213-ST_BFIW-SE_901_processed>, width=300, height=375, channels=3, levels=1, RGB=True, dtype=uint8> <valis.slide_io.VipsSlideReader object at 0x7f4137812480> True (375, 300, 3)\n",
      "<Slide, name = B_213-ST_BFIW-SE_902_processed>, width=300, height=375, channels=3, levels=1, RGB=True, dtype=uint8> <valis.slide_io.VipsSlideReader object at 0x7f4137d524e0> True (375, 300, 3)\n"
     ]
    },
    {
     "name": "stderr",
     "output_type": "stream",
     "text": [
      "Converting images:  33%|████████████████                                | 876/2627 [00:10<00:20, 86.22image/s]"
     ]
    },
    {
     "name": "stdout",
     "output_type": "stream",
     "text": [
      "<Slide, name = B_213-ST_BFIW-SE_903_processed>, width=300, height=375, channels=3, levels=1, RGB=True, dtype=uint8> <valis.slide_io.VipsSlideReader object at 0x7f4137802540> True (375, 300, 3)\n",
      "<Slide, name = B_213-ST_BFIW-SE_904_processed>, width=300, height=375, channels=3, levels=1, RGB=True, dtype=uint8> <valis.slide_io.VipsSlideReader object at 0x7f4137811e80> True (375, 300, 3)\n",
      "<Slide, name = B_213-ST_BFIW-SE_905_processed>, width=300, height=375, channels=3, levels=1, RGB=True, dtype=uint8> <valis.slide_io.VipsSlideReader object at 0x7f41378221e0> True (375, 300, 3)\n",
      "<Slide, name = B_213-ST_BFIW-SE_906_processed>, width=300, height=375, channels=3, levels=1, RGB=True, dtype=uint8> <valis.slide_io.VipsSlideReader object at 0x7f413782a570> True (375, 300, 3)\n",
      "<Slide, name = B_213-ST_BFIW-SE_907_processed>, width=300, height=375, channels=3, levels=1, RGB=True, dtype=uint8> <valis.slide_io.VipsSlideReader object at 0x7f4137822630> True (375, 300, 3)\n",
      "<Slide, name = B_213-ST_BFIW-SE_908_processed>, width=300, height=375, channels=3, levels=1, RGB=True, dtype=uint8> <valis.slide_io.VipsSlideReader object at 0x7f4137802600> True (375, 300, 3)\n",
      "<Slide, name = B_213-ST_BFIW-SE_909_processed>, width=300, height=375, channels=3, levels=1, RGB=True, dtype=uint8> <valis.slide_io.VipsSlideReader object at 0x7f4137802720> True (375, 300, 3)\n",
      "<Slide, name = B_213-ST_BFIW-SE_910_processed>, width=300, height=375, channels=3, levels=1, RGB=True, dtype=uint8> <valis.slide_io.VipsSlideReader object at 0x7f41378227b0> True (375, 300, 3)\n",
      "<Slide, name = B_213-ST_BFIW-SE_911_processed>, width=300, height=375, channels=3, levels=1, RGB=True, dtype=uint8> <valis.slide_io.VipsSlideReader object at 0x7f4137822870> True (375, 300, 3)\n"
     ]
    },
    {
     "name": "stderr",
     "output_type": "stream",
     "text": [
      "Converting images:  34%|████████████████▏                               | 885/2627 [00:10<00:20, 87.08image/s]"
     ]
    },
    {
     "name": "stdout",
     "output_type": "stream",
     "text": [
      "<Slide, name = B_213-ST_BFIW-SE_912_processed>, width=300, height=375, channels=3, levels=1, RGB=True, dtype=uint8> <valis.slide_io.VipsSlideReader object at 0x7f413782a5d0> True (375, 300, 3)\n",
      "<Slide, name = B_213-ST_BFIW-SE_913_processed>, width=300, height=375, channels=3, levels=1, RGB=True, dtype=uint8> <valis.slide_io.VipsSlideReader object at 0x7f4137822900> True (375, 300, 3)\n",
      "<Slide, name = B_213-ST_BFIW-SE_914_processed>, width=300, height=375, channels=3, levels=1, RGB=True, dtype=uint8> <valis.slide_io.VipsSlideReader object at 0x7f41378223f0> True (375, 300, 3)\n",
      "<Slide, name = B_213-ST_BFIW-SE_915_processed>, width=300, height=375, channels=3, levels=1, RGB=True, dtype=uint8> <valis.slide_io.VipsSlideReader object at 0x7f413782a240> True (375, 300, 3)\n",
      "<Slide, name = B_213-ST_BFIW-SE_916_processed>, width=300, height=375, channels=3, levels=1, RGB=True, dtype=uint8> <valis.slide_io.VipsSlideReader object at 0x7f4137822930> True (375, 300, 3)\n",
      "<Slide, name = B_213-ST_BFIW-SE_917_processed>, width=300, height=375, channels=3, levels=1, RGB=True, dtype=uint8> <valis.slide_io.VipsSlideReader object at 0x7f4137822840> True (375, 300, 3)\n",
      "<Slide, name = B_213-ST_BFIW-SE_918_processed>, width=300, height=375, channels=3, levels=1, RGB=True, dtype=uint8> <valis.slide_io.VipsSlideReader object at 0x7f4137823020> True (375, 300, 3)\n",
      "<Slide, name = B_213-ST_BFIW-SE_919_processed>, width=300, height=375, channels=3, levels=1, RGB=True, dtype=uint8> <valis.slide_io.VipsSlideReader object at 0x7f413782af00> True (375, 300, 3)\n",
      "<Slide, name = B_213-ST_BFIW-SE_920_processed>, width=300, height=375, channels=3, levels=1, RGB=True, dtype=uint8> <valis.slide_io.VipsSlideReader object at 0x7f4137dab0e0> True (375, 300, 3)\n"
     ]
    },
    {
     "name": "stderr",
     "output_type": "stream",
     "text": [
      "Converting images:  34%|████████████████▎                               | 894/2627 [00:10<00:19, 87.11image/s]"
     ]
    },
    {
     "name": "stdout",
     "output_type": "stream",
     "text": [
      "<Slide, name = B_213-ST_BFIW-SE_921_processed>, width=300, height=375, channels=3, levels=1, RGB=True, dtype=uint8> <valis.slide_io.VipsSlideReader object at 0x7f413782b110> True (375, 300, 3)\n",
      "<Slide, name = B_213-ST_BFIW-SE_922_processed>, width=300, height=375, channels=3, levels=1, RGB=True, dtype=uint8> <valis.slide_io.VipsSlideReader object at 0x7f42e818b1a0> True (375, 300, 3)\n",
      "<Slide, name = B_213-ST_BFIW-SE_923_processed>, width=300, height=375, channels=3, levels=1, RGB=True, dtype=uint8> <valis.slide_io.VipsSlideReader object at 0x7f4137802c00> True (375, 300, 3)\n",
      "<Slide, name = B_213-ST_BFIW-SE_924_processed>, width=300, height=375, channels=3, levels=1, RGB=True, dtype=uint8> <valis.slide_io.VipsSlideReader object at 0x7f4137823260> True (375, 300, 3)\n",
      "<Slide, name = B_213-ST_BFIW-SE_925_processed>, width=300, height=375, channels=3, levels=1, RGB=True, dtype=uint8> <valis.slide_io.VipsSlideReader object at 0x7f41378232c0> True (375, 300, 3)\n",
      "<Slide, name = B_213-ST_BFIW-SE_926_processed>, width=300, height=375, channels=3, levels=1, RGB=True, dtype=uint8> <valis.slide_io.VipsSlideReader object at 0x7f4137803320> True (375, 300, 3)\n",
      "<Slide, name = B_213-ST_BFIW-SE_927_processed>, width=300, height=375, channels=3, levels=1, RGB=True, dtype=uint8> <valis.slide_io.VipsSlideReader object at 0x7f4137823380> True (375, 300, 3)\n",
      "<Slide, name = B_213-ST_BFIW-SE_928_processed>, width=300, height=375, channels=3, levels=1, RGB=True, dtype=uint8> <valis.slide_io.VipsSlideReader object at 0x7f41378233e0> True (375, 300, 3)\n",
      "<Slide, name = B_213-ST_BFIW-SE_929_processed>, width=300, height=375, channels=3, levels=1, RGB=True, dtype=uint8> <valis.slide_io.VipsSlideReader object at 0x7f413782b080> True (375, 300, 3)\n"
     ]
    },
    {
     "name": "stderr",
     "output_type": "stream",
     "text": [
      "Converting images:  34%|████████████████▍                               | 903/2627 [00:10<00:19, 87.14image/s]"
     ]
    },
    {
     "name": "stdout",
     "output_type": "stream",
     "text": [
      "<Slide, name = B_213-ST_BFIW-SE_930_processed>, width=300, height=375, channels=3, levels=1, RGB=True, dtype=uint8> <valis.slide_io.VipsSlideReader object at 0x7f413782b4a0> True (375, 300, 3)\n",
      "<Slide, name = B_213-ST_BFIW-SE_931_processed>, width=300, height=375, channels=3, levels=1, RGB=True, dtype=uint8> <valis.slide_io.VipsSlideReader object at 0x7f4137823680> True (375, 300, 3)\n",
      "<Slide, name = B_213-ST_BFIW-SE_932_processed>, width=300, height=375, channels=3, levels=1, RGB=True, dtype=uint8> <valis.slide_io.VipsSlideReader object at 0x7f4137dab200> True (375, 300, 3)\n",
      "<Slide, name = B_213-ST_BFIW-SE_933_processed>, width=300, height=375, channels=3, levels=1, RGB=True, dtype=uint8> <valis.slide_io.VipsSlideReader object at 0x7f413782b470> True (375, 300, 3)\n",
      "<Slide, name = B_213-ST_BFIW-SE_934_processed>, width=300, height=375, channels=3, levels=1, RGB=True, dtype=uint8> <valis.slide_io.VipsSlideReader object at 0x7f413782b650> True (375, 300, 3)\n",
      "<Slide, name = B_213-ST_BFIW-SE_935_processed>, width=300, height=375, channels=3, levels=1, RGB=True, dtype=uint8> <valis.slide_io.VipsSlideReader object at 0x7f4137823620> True (375, 300, 3)\n",
      "<Slide, name = B_213-ST_BFIW-SE_936_processed>, width=300, height=375, channels=3, levels=1, RGB=True, dtype=uint8> <valis.slide_io.VipsSlideReader object at 0x7f413782b890> True (375, 300, 3)\n",
      "<Slide, name = B_213-ST_BFIW-SE_937_processed>, width=300, height=375, channels=3, levels=1, RGB=True, dtype=uint8> <valis.slide_io.VipsSlideReader object at 0x7f413782b170> True (375, 300, 3)\n",
      "<Slide, name = B_213-ST_BFIW-SE_938_processed>, width=300, height=375, channels=3, levels=1, RGB=True, dtype=uint8> <valis.slide_io.VipsSlideReader object at 0x7f413782b590> True (375, 300, 3)\n"
     ]
    },
    {
     "name": "stderr",
     "output_type": "stream",
     "text": [
      "Converting images:  35%|████████████████▋                               | 912/2627 [00:10<00:19, 86.82image/s]"
     ]
    },
    {
     "name": "stdout",
     "output_type": "stream",
     "text": [
      "<Slide, name = B_213-ST_BFIW-SE_939_processed>, width=300, height=375, channels=3, levels=1, RGB=True, dtype=uint8> <valis.slide_io.VipsSlideReader object at 0x7f4137803830> True (375, 300, 3)\n",
      "<Slide, name = B_213-ST_BFIW-SE_940_processed>, width=300, height=375, channels=3, levels=1, RGB=True, dtype=uint8> <valis.slide_io.VipsSlideReader object at 0x7f4137813770> True (375, 300, 3)\n",
      "<Slide, name = B_213-ST_BFIW-SE_941_processed>, width=300, height=375, channels=3, levels=1, RGB=True, dtype=uint8> <valis.slide_io.VipsSlideReader object at 0x7f41378239b0> True (375, 300, 3)\n",
      "<Slide, name = B_213-ST_BFIW-SE_942_processed>, width=300, height=375, channels=3, levels=1, RGB=True, dtype=uint8> <valis.slide_io.VipsSlideReader object at 0x7f41378239e0> True (375, 300, 3)\n",
      "<Slide, name = B_213-ST_BFIW-SE_943_processed>, width=300, height=375, channels=3, levels=1, RGB=True, dtype=uint8> <valis.slide_io.VipsSlideReader object at 0x7f413782b530> True (375, 300, 3)\n",
      "<Slide, name = B_213-ST_BFIW-SE_944_processed>, width=300, height=375, channels=3, levels=1, RGB=True, dtype=uint8> <valis.slide_io.VipsSlideReader object at 0x7f4137823860> True (375, 300, 3)\n",
      "<Slide, name = B_213-ST_BFIW-SE_945_processed>, width=300, height=375, channels=3, levels=1, RGB=True, dtype=uint8> <valis.slide_io.VipsSlideReader object at 0x7f413782baa0> True (375, 300, 3)\n",
      "<Slide, name = B_213-ST_BFIW-SE_946_processed>, width=300, height=375, channels=3, levels=1, RGB=True, dtype=uint8> <valis.slide_io.VipsSlideReader object at 0x7f41378238c0> True (375, 300, 3)\n",
      "<Slide, name = B_213-ST_BFIW-SE_947_processed>, width=300, height=375, channels=3, levels=1, RGB=True, dtype=uint8> <valis.slide_io.VipsSlideReader object at 0x7f413782b950> True (375, 300, 3)\n"
     ]
    },
    {
     "name": "stderr",
     "output_type": "stream",
     "text": [
      "Converting images:  35%|████████████████▊                               | 921/2627 [00:10<00:19, 87.42image/s]"
     ]
    },
    {
     "name": "stdout",
     "output_type": "stream",
     "text": [
      "<Slide, name = B_213-ST_BFIW-SE_948_processed>, width=300, height=375, channels=3, levels=1, RGB=True, dtype=uint8> <valis.slide_io.VipsSlideReader object at 0x7f413782b920> True (375, 300, 3)\n",
      "<Slide, name = B_213-ST_BFIW-SE_949_processed>, width=300, height=375, channels=3, levels=1, RGB=True, dtype=uint8> <valis.slide_io.VipsSlideReader object at 0x7f413782c470> True (375, 300, 3)\n",
      "<Slide, name = B_213-ST_BFIW-SE_950_processed>, width=300, height=375, channels=3, levels=1, RGB=True, dtype=uint8> <valis.slide_io.VipsSlideReader object at 0x7f413782c3e0> True (375, 300, 3)\n",
      "<Slide, name = B_213-ST_BFIW-SE_951_processed>, width=300, height=375, channels=3, levels=1, RGB=True, dtype=uint8> <valis.slide_io.VipsSlideReader object at 0x7f413782c380> True (375, 300, 3)\n",
      "<Slide, name = B_213-ST_BFIW-SE_952_processed>, width=300, height=375, channels=3, levels=1, RGB=True, dtype=uint8> <valis.slide_io.VipsSlideReader object at 0x7f413782c2f0> True (375, 300, 3)\n",
      "<Slide, name = B_213-ST_BFIW-SE_953_processed>, width=300, height=375, channels=3, levels=1, RGB=True, dtype=uint8> <valis.slide_io.VipsSlideReader object at 0x7f413782c290> True (375, 300, 3)\n",
      "<Slide, name = B_213-ST_BFIW-SE_954_processed>, width=300, height=375, channels=3, levels=1, RGB=True, dtype=uint8> <valis.slide_io.VipsSlideReader object at 0x7f413782c680> True (375, 300, 3)\n",
      "<Slide, name = B_213-ST_BFIW-SE_955_processed>, width=300, height=375, channels=3, levels=1, RGB=True, dtype=uint8> <valis.slide_io.VipsSlideReader object at 0x7f413782c6e0> True (375, 300, 3)\n",
      "<Slide, name = B_213-ST_BFIW-SE_956_processed>, width=300, height=375, channels=3, levels=1, RGB=True, dtype=uint8> <valis.slide_io.VipsSlideReader object at 0x7f413782c740> True (375, 300, 3)\n"
     ]
    },
    {
     "name": "stderr",
     "output_type": "stream",
     "text": [
      "Converting images:  35%|████████████████▉                               | 930/2627 [00:10<00:19, 86.37image/s]"
     ]
    },
    {
     "name": "stdout",
     "output_type": "stream",
     "text": [
      "<Slide, name = B_213-ST_BFIW-SE_957_processed>, width=300, height=375, channels=3, levels=1, RGB=True, dtype=uint8> <valis.slide_io.VipsSlideReader object at 0x7f413782c7a0> True (375, 300, 3)\n",
      "<Slide, name = B_213-ST_BFIW-SE_958_processed>, width=300, height=375, channels=3, levels=1, RGB=True, dtype=uint8> <valis.slide_io.VipsSlideReader object at 0x7f413782c800> True (375, 300, 3)\n",
      "<Slide, name = B_213-ST_BFIW-SE_959_processed>, width=300, height=375, channels=3, levels=1, RGB=True, dtype=uint8> <valis.slide_io.VipsSlideReader object at 0x7f413782c860> True (375, 300, 3)\n",
      "<Slide, name = B_213-ST_BFIW-SE_960_processed>, width=300, height=375, channels=3, levels=1, RGB=True, dtype=uint8> <valis.slide_io.VipsSlideReader object at 0x7f413782c8c0> True (375, 300, 3)\n",
      "<Slide, name = B_213-ST_BFIW-SE_961_processed>, width=300, height=375, channels=3, levels=1, RGB=True, dtype=uint8> <valis.slide_io.VipsSlideReader object at 0x7f413782c920> True (375, 300, 3)\n",
      "<Slide, name = B_213-ST_BFIW-SE_962_processed>, width=300, height=375, channels=3, levels=1, RGB=True, dtype=uint8> <valis.slide_io.VipsSlideReader object at 0x7f413782c9b0> True (375, 300, 3)\n",
      "<Slide, name = B_213-ST_BFIW-SE_963_processed>, width=300, height=375, channels=3, levels=1, RGB=True, dtype=uint8> <valis.slide_io.VipsSlideReader object at 0x7f413782ca10> True (375, 300, 3)\n",
      "<Slide, name = B_213-ST_BFIW-SE_964_processed>, width=300, height=375, channels=3, levels=1, RGB=True, dtype=uint8> <valis.slide_io.VipsSlideReader object at 0x7f413782ca70> True (375, 300, 3)\n",
      "<Slide, name = B_213-ST_BFIW-SE_965_processed>, width=300, height=375, channels=3, levels=1, RGB=True, dtype=uint8> <valis.slide_io.VipsSlideReader object at 0x7f413782cad0> True (375, 300, 3)\n"
     ]
    },
    {
     "name": "stderr",
     "output_type": "stream",
     "text": [
      "Converting images:  36%|█████████████████▏                              | 939/2627 [00:10<00:19, 86.23image/s]"
     ]
    },
    {
     "name": "stdout",
     "output_type": "stream",
     "text": [
      "<Slide, name = B_213-ST_BFIW-SE_966_processed>, width=300, height=375, channels=3, levels=1, RGB=True, dtype=uint8> <valis.slide_io.VipsSlideReader object at 0x7f413782cb30> True (375, 300, 3)\n",
      "<Slide, name = B_213-ST_BFIW-SE_967_processed>, width=300, height=375, channels=3, levels=1, RGB=True, dtype=uint8> <valis.slide_io.VipsSlideReader object at 0x7f413782cb90> True (375, 300, 3)\n",
      "<Slide, name = B_213-ST_BFIW-SE_968_processed>, width=300, height=375, channels=3, levels=1, RGB=True, dtype=uint8> <valis.slide_io.VipsSlideReader object at 0x7f413782cbf0> True (375, 300, 3)\n",
      "<Slide, name = B_213-ST_BFIW-SE_969_processed>, width=300, height=375, channels=3, levels=1, RGB=True, dtype=uint8> <valis.slide_io.VipsSlideReader object at 0x7f413782cc50> True (375, 300, 3)\n",
      "<Slide, name = B_213-ST_BFIW-SE_970_processed>, width=300, height=375, channels=3, levels=1, RGB=True, dtype=uint8> <valis.slide_io.VipsSlideReader object at 0x7f413782ccb0> True (375, 300, 3)\n",
      "<Slide, name = B_213-ST_BFIW-SE_971_processed>, width=300, height=375, channels=3, levels=1, RGB=True, dtype=uint8> <valis.slide_io.VipsSlideReader object at 0x7f413782cd10> True (375, 300, 3)\n",
      "<Slide, name = B_213-ST_BFIW-SE_972_processed>, width=300, height=375, channels=3, levels=1, RGB=True, dtype=uint8> <valis.slide_io.VipsSlideReader object at 0x7f413782cd70> True (375, 300, 3)\n",
      "<Slide, name = B_213-ST_BFIW-SE_973_processed>, width=300, height=375, channels=3, levels=1, RGB=True, dtype=uint8> <valis.slide_io.VipsSlideReader object at 0x7f413782cdd0> True (375, 300, 3)\n",
      "<Slide, name = B_213-ST_BFIW-SE_974_processed>, width=300, height=375, channels=3, levels=1, RGB=True, dtype=uint8> <valis.slide_io.VipsSlideReader object at 0x7f413782ce30> True (375, 300, 3)\n"
     ]
    },
    {
     "name": "stderr",
     "output_type": "stream",
     "text": [
      "Converting images:  36%|█████████████████▎                              | 948/2627 [00:10<00:19, 86.82image/s]"
     ]
    },
    {
     "name": "stdout",
     "output_type": "stream",
     "text": [
      "<Slide, name = B_213-ST_BFIW-SE_975_processed>, width=300, height=375, channels=3, levels=1, RGB=True, dtype=uint8> <valis.slide_io.VipsSlideReader object at 0x7f413782ce90> True (375, 300, 3)\n",
      "<Slide, name = B_213-ST_BFIW-SE_976_processed>, width=300, height=375, channels=3, levels=1, RGB=True, dtype=uint8> <valis.slide_io.VipsSlideReader object at 0x7f413782cef0> True (375, 300, 3)\n",
      "<Slide, name = B_213-ST_BFIW-SE_977_processed>, width=300, height=375, channels=3, levels=1, RGB=True, dtype=uint8> <valis.slide_io.VipsSlideReader object at 0x7f413782cf50> True (375, 300, 3)\n",
      "<Slide, name = B_213-ST_BFIW-SE_978_processed>, width=300, height=375, channels=3, levels=1, RGB=True, dtype=uint8> <valis.slide_io.VipsSlideReader object at 0x7f413782cfb0> True (375, 300, 3)\n",
      "<Slide, name = B_213-ST_BFIW-SE_979_processed>, width=300, height=375, channels=3, levels=1, RGB=True, dtype=uint8> <valis.slide_io.VipsSlideReader object at 0x7f413782d010> True (375, 300, 3)\n",
      "<Slide, name = B_213-ST_BFIW-SE_980_processed>, width=300, height=375, channels=3, levels=1, RGB=True, dtype=uint8> <valis.slide_io.VipsSlideReader object at 0x7f413782d070> True (375, 300, 3)\n",
      "<Slide, name = B_213-ST_BFIW-SE_981_processed>, width=300, height=375, channels=3, levels=1, RGB=True, dtype=uint8> <valis.slide_io.VipsSlideReader object at 0x7f413782d0d0> True (375, 300, 3)\n",
      "<Slide, name = B_213-ST_BFIW-SE_982_processed>, width=300, height=375, channels=3, levels=1, RGB=True, dtype=uint8> <valis.slide_io.VipsSlideReader object at 0x7f413782d130> True (375, 300, 3)\n",
      "<Slide, name = B_213-ST_BFIW-SE_983_processed>, width=300, height=375, channels=3, levels=1, RGB=True, dtype=uint8> <valis.slide_io.VipsSlideReader object at 0x7f413782d190> True (375, 300, 3)\n"
     ]
    },
    {
     "name": "stderr",
     "output_type": "stream",
     "text": [
      "Converting images:  36%|█████████████████▍                              | 957/2627 [00:11<00:19, 86.43image/s]"
     ]
    },
    {
     "name": "stdout",
     "output_type": "stream",
     "text": [
      "<Slide, name = B_213-ST_BFIW-SE_984_processed>, width=300, height=375, channels=3, levels=1, RGB=True, dtype=uint8> <valis.slide_io.VipsSlideReader object at 0x7f413782d1f0> True (375, 300, 3)\n",
      "<Slide, name = B_213-ST_BFIW-SE_985_processed>, width=300, height=375, channels=3, levels=1, RGB=True, dtype=uint8> <valis.slide_io.VipsSlideReader object at 0x7f413782d250> True (375, 300, 3)\n",
      "<Slide, name = B_213-ST_BFIW-SE_986_processed>, width=300, height=375, channels=3, levels=1, RGB=True, dtype=uint8> <valis.slide_io.VipsSlideReader object at 0x7f413782d2b0> True (375, 300, 3)\n",
      "<Slide, name = B_213-ST_BFIW-SE_987_processed>, width=300, height=375, channels=3, levels=1, RGB=True, dtype=uint8> <valis.slide_io.VipsSlideReader object at 0x7f413782d310> True (375, 300, 3)\n",
      "<Slide, name = B_213-ST_BFIW-SE_988_processed>, width=300, height=375, channels=3, levels=1, RGB=True, dtype=uint8> <valis.slide_io.VipsSlideReader object at 0x7f413782d370> True (375, 300, 3)\n",
      "<Slide, name = B_213-ST_BFIW-SE_989_processed>, width=300, height=375, channels=3, levels=1, RGB=True, dtype=uint8> <valis.slide_io.VipsSlideReader object at 0x7f413782d400> True (375, 300, 3)\n",
      "<Slide, name = B_213-ST_BFIW-SE_990_processed>, width=300, height=375, channels=3, levels=1, RGB=True, dtype=uint8> <valis.slide_io.VipsSlideReader object at 0x7f413782d460> True (375, 300, 3)\n",
      "<Slide, name = B_213-ST_BFIW-SE_991_processed>, width=300, height=375, channels=3, levels=1, RGB=True, dtype=uint8> <valis.slide_io.VipsSlideReader object at 0x7f4137812510> True (375, 300, 3)\n",
      "<Slide, name = B_213-ST_BFIW-SE_992_processed>, width=300, height=375, channels=3, levels=1, RGB=True, dtype=uint8> <valis.slide_io.VipsSlideReader object at 0x7f413782d640> True (375, 300, 3)\n"
     ]
    },
    {
     "name": "stderr",
     "output_type": "stream",
     "text": [
      "Converting images:  37%|█████████████████▋                              | 966/2627 [00:11<00:19, 87.16image/s]"
     ]
    },
    {
     "name": "stdout",
     "output_type": "stream",
     "text": [
      "<Slide, name = B_213-ST_BFIW-SE_993_processed>, width=300, height=375, channels=3, levels=1, RGB=True, dtype=uint8> <valis.slide_io.VipsSlideReader object at 0x7f413782d580> True (375, 300, 3)\n",
      "<Slide, name = B_213-ST_BFIW-SE_994_processed>, width=300, height=375, channels=3, levels=1, RGB=True, dtype=uint8> <valis.slide_io.VipsSlideReader object at 0x7f413782d2e0> True (375, 300, 3)\n",
      "<Slide, name = B_213-ST_BFIW-SE_995_processed>, width=300, height=375, channels=3, levels=1, RGB=True, dtype=uint8> <valis.slide_io.VipsSlideReader object at 0x7f413782d430> True (375, 300, 3)\n",
      "<Slide, name = B_213-ST_BFIW-SE_996_processed>, width=300, height=375, channels=3, levels=1, RGB=True, dtype=uint8> <valis.slide_io.VipsSlideReader object at 0x7f4137812750> True (375, 300, 3)\n",
      "<Slide, name = B_213-ST_BFIW-SE_997_processed>, width=300, height=375, channels=3, levels=1, RGB=True, dtype=uint8> <valis.slide_io.VipsSlideReader object at 0x7f413782d7f0> True (375, 300, 3)\n",
      "<Slide, name = B_213-ST_BFIW-SE_998_processed>, width=300, height=375, channels=3, levels=1, RGB=True, dtype=uint8> <valis.slide_io.VipsSlideReader object at 0x7f413782d730> True (375, 300, 3)\n",
      "<Slide, name = B_213-ST_BFIW-SE_999_processed>, width=300, height=375, channels=3, levels=1, RGB=True, dtype=uint8> <valis.slide_io.VipsSlideReader object at 0x7f413782d550> True (375, 300, 3)\n",
      "<Slide, name = B_213-ST_BFIW-SE_1000_processed>, width=300, height=375, channels=3, levels=1, RGB=True, dtype=uint8> <valis.slide_io.VipsSlideReader object at 0x7f413782d5b0> True (375, 300, 3)\n",
      "<Slide, name = B_213-ST_BFIW-SE_1001_processed>, width=300, height=375, channels=3, levels=1, RGB=True, dtype=uint8> <valis.slide_io.VipsSlideReader object at 0x7f413782d820> True (375, 300, 3)\n"
     ]
    },
    {
     "name": "stderr",
     "output_type": "stream",
     "text": [
      "Converting images:  37%|█████████████████▊                              | 975/2627 [00:11<00:18, 87.54image/s]"
     ]
    },
    {
     "name": "stdout",
     "output_type": "stream",
     "text": [
      "<Slide, name = B_213-ST_BFIW-SE_1002_processed>, width=300, height=375, channels=3, levels=1, RGB=True, dtype=uint8> <valis.slide_io.VipsSlideReader object at 0x7f413782d880> True (375, 300, 3)\n",
      "<Slide, name = B_213-ST_BFIW-SE_1003_processed>, width=300, height=375, channels=3, levels=1, RGB=True, dtype=uint8> <valis.slide_io.VipsSlideReader object at 0x7f413782d8e0> True (375, 300, 3)\n",
      "<Slide, name = B_213-ST_BFIW-SE_1004_processed>, width=300, height=375, channels=3, levels=1, RGB=True, dtype=uint8> <valis.slide_io.VipsSlideReader object at 0x7f413782d940> True (375, 300, 3)\n",
      "<Slide, name = B_213-ST_BFIW-SE_1005_processed>, width=300, height=375, channels=3, levels=1, RGB=True, dtype=uint8> <valis.slide_io.VipsSlideReader object at 0x7f413782d9a0> True (375, 300, 3)\n",
      "<Slide, name = B_213-ST_BFIW-SE_1006_processed>, width=300, height=375, channels=3, levels=1, RGB=True, dtype=uint8> <valis.slide_io.VipsSlideReader object at 0x7f413782da00> True (375, 300, 3)\n",
      "<Slide, name = B_213-ST_BFIW-SE_1007_processed>, width=300, height=375, channels=3, levels=1, RGB=True, dtype=uint8> <valis.slide_io.VipsSlideReader object at 0x7f413782da60> True (375, 300, 3)\n",
      "<Slide, name = B_213-ST_BFIW-SE_1008_processed>, width=300, height=375, channels=3, levels=1, RGB=True, dtype=uint8> <valis.slide_io.VipsSlideReader object at 0x7f413782dac0> True (375, 300, 3)\n",
      "<Slide, name = B_213-ST_BFIW-SE_1009_processed>, width=300, height=375, channels=3, levels=1, RGB=True, dtype=uint8> <valis.slide_io.VipsSlideReader object at 0x7f413782db20> True (375, 300, 3)\n",
      "<Slide, name = B_213-ST_BFIW-SE_1010_processed>, width=300, height=375, channels=3, levels=1, RGB=True, dtype=uint8> <valis.slide_io.VipsSlideReader object at 0x7f413782db80> True (375, 300, 3)\n"
     ]
    },
    {
     "name": "stderr",
     "output_type": "stream",
     "text": [
      "Converting images:  37%|█████████████████▉                              | 984/2627 [00:11<00:18, 87.65image/s]"
     ]
    },
    {
     "name": "stdout",
     "output_type": "stream",
     "text": [
      "<Slide, name = B_213-ST_BFIW-SE_1011_processed>, width=300, height=375, channels=3, levels=1, RGB=True, dtype=uint8> <valis.slide_io.VipsSlideReader object at 0x7f413782dbe0> True (375, 300, 3)\n",
      "<Slide, name = B_213-ST_BFIW-SE_1012_processed>, width=300, height=375, channels=3, levels=1, RGB=True, dtype=uint8> <valis.slide_io.VipsSlideReader object at 0x7f413782dc40> True (375, 300, 3)\n",
      "<Slide, name = B_213-ST_BFIW-SE_1013_processed>, width=300, height=375, channels=3, levels=1, RGB=True, dtype=uint8> <valis.slide_io.VipsSlideReader object at 0x7f413782dca0> True (375, 300, 3)\n",
      "<Slide, name = B_213-ST_BFIW-SE_1014_processed>, width=300, height=375, channels=3, levels=1, RGB=True, dtype=uint8> <valis.slide_io.VipsSlideReader object at 0x7f413782dd00> True (375, 300, 3)\n",
      "<Slide, name = B_213-ST_BFIW-SE_1015_processed>, width=300, height=375, channels=3, levels=1, RGB=True, dtype=uint8> <valis.slide_io.VipsSlideReader object at 0x7f413782dd60> True (375, 300, 3)\n",
      "<Slide, name = B_213-ST_BFIW-SE_1016_processed>, width=300, height=375, channels=3, levels=1, RGB=True, dtype=uint8> <valis.slide_io.VipsSlideReader object at 0x7f413782ddc0> True (375, 300, 3)\n",
      "<Slide, name = B_213-ST_BFIW-SE_1017_processed>, width=300, height=375, channels=3, levels=1, RGB=True, dtype=uint8> <valis.slide_io.VipsSlideReader object at 0x7f413782de20> True (375, 300, 3)\n",
      "<Slide, name = B_213-ST_BFIW-SE_1018_processed>, width=300, height=375, channels=3, levels=1, RGB=True, dtype=uint8> <valis.slide_io.VipsSlideReader object at 0x7f413782de80> True (375, 300, 3)\n",
      "<Slide, name = B_213-ST_BFIW-SE_1019_processed>, width=300, height=375, channels=3, levels=1, RGB=True, dtype=uint8> <valis.slide_io.VipsSlideReader object at 0x7f413782dee0> True (375, 300, 3)\n"
     ]
    },
    {
     "name": "stderr",
     "output_type": "stream",
     "text": [
      "Converting images:  38%|██████████████████▏                             | 993/2627 [00:11<00:18, 87.48image/s]"
     ]
    },
    {
     "name": "stdout",
     "output_type": "stream",
     "text": [
      "<Slide, name = B_213-ST_BFIW-SE_1020_processed>, width=300, height=375, channels=3, levels=1, RGB=True, dtype=uint8> <valis.slide_io.VipsSlideReader object at 0x7f413782df40> True (375, 300, 3)\n",
      "<Slide, name = B_213-ST_BFIW-SE_1021_processed>, width=300, height=375, channels=3, levels=1, RGB=True, dtype=uint8> <valis.slide_io.VipsSlideReader object at 0x7f413782dfa0> True (375, 300, 3)\n",
      "<Slide, name = B_213-ST_BFIW-SE_1022_processed>, width=300, height=375, channels=3, levels=1, RGB=True, dtype=uint8> <valis.slide_io.VipsSlideReader object at 0x7f413782e000> True (375, 300, 3)\n",
      "<Slide, name = B_213-ST_BFIW-SE_1023_processed>, width=300, height=375, channels=3, levels=1, RGB=True, dtype=uint8> <valis.slide_io.VipsSlideReader object at 0x7f413782e060> True (375, 300, 3)\n",
      "<Slide, name = B_213-ST_BFIW-SE_1024_processed>, width=300, height=375, channels=3, levels=1, RGB=True, dtype=uint8> <valis.slide_io.VipsSlideReader object at 0x7f413782e0c0> True (375, 300, 3)\n",
      "<Slide, name = B_213-ST_BFIW-SE_1025_processed>, width=300, height=375, channels=3, levels=1, RGB=True, dtype=uint8> <valis.slide_io.VipsSlideReader object at 0x7f413782e120> True (375, 300, 3)\n",
      "<Slide, name = B_213-ST_BFIW-SE_1026_processed>, width=300, height=375, channels=3, levels=1, RGB=True, dtype=uint8> <valis.slide_io.VipsSlideReader object at 0x7f413782e180> True (375, 300, 3)\n",
      "<Slide, name = B_213-ST_BFIW-SE_1027_processed>, width=300, height=375, channels=3, levels=1, RGB=True, dtype=uint8> <valis.slide_io.VipsSlideReader object at 0x7f413782e1e0> True (375, 300, 3)\n",
      "<Slide, name = B_213-ST_BFIW-SE_1028_processed>, width=300, height=375, channels=3, levels=1, RGB=True, dtype=uint8> <valis.slide_io.VipsSlideReader object at 0x7f413782e240> True (375, 300, 3)\n"
     ]
    },
    {
     "name": "stderr",
     "output_type": "stream",
     "text": [
      "Converting images:  38%|█████████████████▉                             | 1002/2627 [00:11<00:18, 87.42image/s]"
     ]
    },
    {
     "name": "stdout",
     "output_type": "stream",
     "text": [
      "<Slide, name = B_213-ST_BFIW-SE_1029_processed>, width=300, height=375, channels=3, levels=1, RGB=True, dtype=uint8> <valis.slide_io.VipsSlideReader object at 0x7f413782e2a0> True (375, 300, 3)\n",
      "<Slide, name = B_213-ST_BFIW-SE_1030_processed>, width=300, height=375, channels=3, levels=1, RGB=True, dtype=uint8> <valis.slide_io.VipsSlideReader object at 0x7f413782e300> True (375, 300, 3)\n",
      "<Slide, name = B_213-ST_BFIW-SE_1031_processed>, width=300, height=375, channels=3, levels=1, RGB=True, dtype=uint8> <valis.slide_io.VipsSlideReader object at 0x7f413782e360> True (375, 300, 3)\n",
      "<Slide, name = B_213-ST_BFIW-SE_1032_processed>, width=300, height=375, channels=3, levels=1, RGB=True, dtype=uint8> <valis.slide_io.VipsSlideReader object at 0x7f413782e3c0> True (375, 300, 3)\n",
      "<Slide, name = B_213-ST_BFIW-SE_1033_processed>, width=300, height=375, channels=3, levels=1, RGB=True, dtype=uint8> <valis.slide_io.VipsSlideReader object at 0x7f413782e420> True (375, 300, 3)\n",
      "<Slide, name = B_213-ST_BFIW-SE_1034_processed>, width=300, height=375, channels=3, levels=1, RGB=True, dtype=uint8> <valis.slide_io.VipsSlideReader object at 0x7f413782e480> True (375, 300, 3)\n",
      "<Slide, name = B_213-ST_BFIW-SE_1035_processed>, width=300, height=375, channels=3, levels=1, RGB=True, dtype=uint8> <valis.slide_io.VipsSlideReader object at 0x7f413782e4e0> True (375, 300, 3)\n",
      "<Slide, name = B_213-ST_BFIW-SE_1036_processed>, width=300, height=375, channels=3, levels=1, RGB=True, dtype=uint8> <valis.slide_io.VipsSlideReader object at 0x7f413782e540> True (375, 300, 3)\n",
      "<Slide, name = B_213-ST_BFIW-SE_1037_processed>, width=300, height=375, channels=3, levels=1, RGB=True, dtype=uint8> <valis.slide_io.VipsSlideReader object at 0x7f413782e5a0> True (375, 300, 3)\n"
     ]
    },
    {
     "name": "stderr",
     "output_type": "stream",
     "text": [
      "Converting images:  38%|██████████████████                             | 1011/2627 [00:11<00:18, 87.05image/s]"
     ]
    },
    {
     "name": "stdout",
     "output_type": "stream",
     "text": [
      "<Slide, name = B_213-ST_BFIW-SE_1038_processed>, width=300, height=375, channels=3, levels=1, RGB=True, dtype=uint8> <valis.slide_io.VipsSlideReader object at 0x7f413782e600> True (375, 300, 3)\n",
      "<Slide, name = B_213-ST_BFIW-SE_1039_processed>, width=300, height=375, channels=3, levels=1, RGB=True, dtype=uint8> <valis.slide_io.VipsSlideReader object at 0x7f413782e660> True (375, 300, 3)\n",
      "<Slide, name = B_213-ST_BFIW-SE_1040_processed>, width=300, height=375, channels=3, levels=1, RGB=True, dtype=uint8> <valis.slide_io.VipsSlideReader object at 0x7f413782e6c0> True (375, 300, 3)\n",
      "<Slide, name = B_213-ST_BFIW-SE_1041_processed>, width=300, height=375, channels=3, levels=1, RGB=True, dtype=uint8> <valis.slide_io.VipsSlideReader object at 0x7f413782e720> True (375, 300, 3)\n",
      "<Slide, name = B_213-ST_BFIW-SE_1042_processed>, width=300, height=375, channels=3, levels=1, RGB=True, dtype=uint8> <valis.slide_io.VipsSlideReader object at 0x7f413782e780> True (375, 300, 3)\n",
      "<Slide, name = B_213-ST_BFIW-SE_1043_processed>, width=300, height=375, channels=3, levels=1, RGB=True, dtype=uint8> <valis.slide_io.VipsSlideReader object at 0x7f413782e7e0> True (375, 300, 3)\n",
      "<Slide, name = B_213-ST_BFIW-SE_1044_processed>, width=300, height=375, channels=3, levels=1, RGB=True, dtype=uint8> <valis.slide_io.VipsSlideReader object at 0x7f413782e840> True (375, 300, 3)\n",
      "<Slide, name = B_213-ST_BFIW-SE_1045_processed>, width=300, height=375, channels=3, levels=1, RGB=True, dtype=uint8> <valis.slide_io.VipsSlideReader object at 0x7f413782e8a0> True (375, 300, 3)\n",
      "<Slide, name = B_213-ST_BFIW-SE_1046_processed>, width=300, height=375, channels=3, levels=1, RGB=True, dtype=uint8> <valis.slide_io.VipsSlideReader object at 0x7f413782e900> True (375, 300, 3)\n"
     ]
    },
    {
     "name": "stderr",
     "output_type": "stream",
     "text": [
      "Converting images:  39%|██████████████████▏                            | 1020/2627 [00:11<00:18, 86.86image/s]"
     ]
    },
    {
     "name": "stdout",
     "output_type": "stream",
     "text": [
      "<Slide, name = B_213-ST_BFIW-SE_1047_processed>, width=300, height=375, channels=3, levels=1, RGB=True, dtype=uint8> <valis.slide_io.VipsSlideReader object at 0x7f413782e960> True (375, 300, 3)\n",
      "<Slide, name = B_213-ST_BFIW-SE_1048_processed>, width=300, height=375, channels=3, levels=1, RGB=True, dtype=uint8> <valis.slide_io.VipsSlideReader object at 0x7f413782e9c0> True (375, 300, 3)\n",
      "<Slide, name = B_213-ST_BFIW-SE_1049_processed>, width=300, height=375, channels=3, levels=1, RGB=True, dtype=uint8> <valis.slide_io.VipsSlideReader object at 0x7f413782ea20> True (375, 300, 3)\n",
      "<Slide, name = B_213-ST_BFIW-SE_1050_processed>, width=300, height=375, channels=3, levels=1, RGB=True, dtype=uint8> <valis.slide_io.VipsSlideReader object at 0x7f413782ea80> True (375, 300, 3)\n",
      "<Slide, name = B_213-ST_BFIW-SE_1051_processed>, width=300, height=375, channels=3, levels=1, RGB=True, dtype=uint8> <valis.slide_io.VipsSlideReader object at 0x7f413782eae0> True (375, 300, 3)\n",
      "<Slide, name = B_213-ST_BFIW-SE_1052_processed>, width=300, height=375, channels=3, levels=1, RGB=True, dtype=uint8> <valis.slide_io.VipsSlideReader object at 0x7f413782eb40> True (375, 300, 3)\n",
      "<Slide, name = B_213-ST_BFIW-SE_1053_processed>, width=300, height=375, channels=3, levels=1, RGB=True, dtype=uint8> <valis.slide_io.VipsSlideReader object at 0x7f413782eba0> True (375, 300, 3)\n",
      "<Slide, name = B_213-ST_BFIW-SE_1054_processed>, width=300, height=375, channels=3, levels=1, RGB=True, dtype=uint8> <valis.slide_io.VipsSlideReader object at 0x7f413782ec00> True (375, 300, 3)\n",
      "<Slide, name = B_213-ST_BFIW-SE_1055_processed>, width=300, height=375, channels=3, levels=1, RGB=True, dtype=uint8> <valis.slide_io.VipsSlideReader object at 0x7f413782ec60> True (375, 300, 3)\n"
     ]
    },
    {
     "name": "stderr",
     "output_type": "stream",
     "text": [
      "Converting images:  39%|██████████████████▍                            | 1029/2627 [00:11<00:18, 87.30image/s]"
     ]
    },
    {
     "name": "stdout",
     "output_type": "stream",
     "text": [
      "<Slide, name = B_213-ST_BFIW-SE_1056_processed>, width=300, height=375, channels=3, levels=1, RGB=True, dtype=uint8> <valis.slide_io.VipsSlideReader object at 0x7f413782ecc0> True (375, 300, 3)\n",
      "<Slide, name = B_213-ST_BFIW-SE_1057_processed>, width=300, height=375, channels=3, levels=1, RGB=True, dtype=uint8> <valis.slide_io.VipsSlideReader object at 0x7f413782ed20> True (375, 300, 3)\n",
      "<Slide, name = B_213-ST_BFIW-SE_1058_processed>, width=300, height=375, channels=3, levels=1, RGB=True, dtype=uint8> <valis.slide_io.VipsSlideReader object at 0x7f413782ed80> True (375, 300, 3)\n",
      "<Slide, name = B_213-ST_BFIW-SE_1059_processed>, width=300, height=375, channels=3, levels=1, RGB=True, dtype=uint8> <valis.slide_io.VipsSlideReader object at 0x7f413782ede0> True (375, 300, 3)\n",
      "<Slide, name = B_213-ST_BFIW-SE_1060_processed>, width=300, height=375, channels=3, levels=1, RGB=True, dtype=uint8> <valis.slide_io.VipsSlideReader object at 0x7f413782ee40> True (375, 300, 3)\n",
      "<Slide, name = B_213-ST_BFIW-SE_1061_processed>, width=300, height=375, channels=3, levels=1, RGB=True, dtype=uint8> <valis.slide_io.VipsSlideReader object at 0x7f413782eea0> True (375, 300, 3)\n",
      "<Slide, name = B_213-ST_BFIW-SE_1062_processed>, width=300, height=375, channels=3, levels=1, RGB=True, dtype=uint8> <valis.slide_io.VipsSlideReader object at 0x7f413782ef00> True (375, 300, 3)\n",
      "<Slide, name = B_213-ST_BFIW-SE_1063_processed>, width=300, height=375, channels=3, levels=1, RGB=True, dtype=uint8> <valis.slide_io.VipsSlideReader object at 0x7f413782ef60> True (375, 300, 3)\n",
      "<Slide, name = B_213-ST_BFIW-SE_1064_processed>, width=300, height=375, channels=3, levels=1, RGB=True, dtype=uint8> <valis.slide_io.VipsSlideReader object at 0x7f413782efc0> True (375, 300, 3)\n"
     ]
    },
    {
     "name": "stderr",
     "output_type": "stream",
     "text": [
      "Converting images:  40%|██████████████████▌                            | 1038/2627 [00:11<00:18, 85.77image/s]"
     ]
    },
    {
     "name": "stdout",
     "output_type": "stream",
     "text": [
      "<Slide, name = B_213-ST_BFIW-SE_1065_processed>, width=300, height=375, channels=3, levels=1, RGB=True, dtype=uint8> <valis.slide_io.VipsSlideReader object at 0x7f413782f020> True (375, 300, 3)\n",
      "<Slide, name = B_213-ST_BFIW-SE_1066_processed>, width=300, height=375, channels=3, levels=1, RGB=True, dtype=uint8> <valis.slide_io.VipsSlideReader object at 0x7f413782f080> True (375, 300, 3)\n",
      "<Slide, name = B_213-ST_BFIW-SE_1067_processed>, width=300, height=375, channels=3, levels=1, RGB=True, dtype=uint8> <valis.slide_io.VipsSlideReader object at 0x7f413782f0e0> True (375, 300, 3)\n",
      "<Slide, name = B_213-ST_BFIW-SE_1068_processed>, width=300, height=375, channels=3, levels=1, RGB=True, dtype=uint8> <valis.slide_io.VipsSlideReader object at 0x7f413782f140> True (375, 300, 3)\n",
      "<Slide, name = B_213-ST_BFIW-SE_1069_processed>, width=300, height=375, channels=3, levels=1, RGB=True, dtype=uint8> <valis.slide_io.VipsSlideReader object at 0x7f413782f1a0> True (375, 300, 3)\n",
      "<Slide, name = B_213-ST_BFIW-SE_1070_processed>, width=300, height=375, channels=3, levels=1, RGB=True, dtype=uint8> <valis.slide_io.VipsSlideReader object at 0x7f413782f200> True (375, 300, 3)\n",
      "<Slide, name = B_213-ST_BFIW-SE_1071_processed>, width=300, height=375, channels=3, levels=1, RGB=True, dtype=uint8> <valis.slide_io.VipsSlideReader object at 0x7f413780c4d0> True (375, 300, 3)\n",
      "<Slide, name = B_213-ST_BFIW-SE_1072_processed>, width=300, height=375, channels=3, levels=1, RGB=True, dtype=uint8> <valis.slide_io.VipsSlideReader object at 0x7f413782f3e0> True (375, 300, 3)\n",
      "<Slide, name = B_213-ST_BFIW-SE_1073_processed>, width=300, height=375, channels=3, levels=1, RGB=True, dtype=uint8> <valis.slide_io.VipsSlideReader object at 0x7f413782f320> True (375, 300, 3)\n"
     ]
    },
    {
     "name": "stderr",
     "output_type": "stream",
     "text": [
      "Converting images:  40%|██████████████████▋                            | 1047/2627 [00:12<00:18, 85.86image/s]"
     ]
    },
    {
     "name": "stdout",
     "output_type": "stream",
     "text": [
      "<Slide, name = B_213-ST_BFIW-SE_1074_processed>, width=300, height=375, channels=3, levels=1, RGB=True, dtype=uint8> <valis.slide_io.VipsSlideReader object at 0x7f413782f0b0> True (375, 300, 3)\n",
      "<Slide, name = B_213-ST_BFIW-SE_1075_processed>, width=300, height=375, channels=3, levels=1, RGB=True, dtype=uint8> <valis.slide_io.VipsSlideReader object at 0x7f413782f1d0> True (375, 300, 3)\n",
      "<Slide, name = B_213-ST_BFIW-SE_1076_processed>, width=300, height=375, channels=3, levels=1, RGB=True, dtype=uint8> <valis.slide_io.VipsSlideReader object at 0x7f413782f410> True (375, 300, 3)\n",
      "<Slide, name = B_213-ST_BFIW-SE_1077_processed>, width=300, height=375, channels=3, levels=1, RGB=True, dtype=uint8> <valis.slide_io.VipsSlideReader object at 0x7f413782f470> True (375, 300, 3)\n",
      "<Slide, name = B_213-ST_BFIW-SE_1078_processed>, width=300, height=375, channels=3, levels=1, RGB=True, dtype=uint8> <valis.slide_io.VipsSlideReader object at 0x7f413782f4d0> True (375, 300, 3)\n",
      "<Slide, name = B_213-ST_BFIW-SE_1079_processed>, width=300, height=375, channels=3, levels=1, RGB=True, dtype=uint8> <valis.slide_io.VipsSlideReader object at 0x7f413782f530> True (375, 300, 3)\n",
      "<Slide, name = B_213-ST_BFIW-SE_1080_processed>, width=300, height=375, channels=3, levels=1, RGB=True, dtype=uint8> <valis.slide_io.VipsSlideReader object at 0x7f413782f590> True (375, 300, 3)\n",
      "<Slide, name = B_213-ST_BFIW-SE_1081_processed>, width=300, height=375, channels=3, levels=1, RGB=True, dtype=uint8> <valis.slide_io.VipsSlideReader object at 0x7f413782f5f0> True (375, 300, 3)\n",
      "<Slide, name = B_213-ST_BFIW-SE_1082_processed>, width=300, height=375, channels=3, levels=1, RGB=True, dtype=uint8> <valis.slide_io.VipsSlideReader object at 0x7f413782f650> True (375, 300, 3)\n"
     ]
    },
    {
     "name": "stderr",
     "output_type": "stream",
     "text": [
      "Converting images:  40%|██████████████████▉                            | 1056/2627 [00:12<00:18, 86.72image/s]"
     ]
    },
    {
     "name": "stdout",
     "output_type": "stream",
     "text": [
      "<Slide, name = B_213-ST_BFIW-SE_1083_processed>, width=300, height=375, channels=3, levels=1, RGB=True, dtype=uint8> <valis.slide_io.VipsSlideReader object at 0x7f413782f6b0> True (375, 300, 3)\n",
      "<Slide, name = B_213-ST_BFIW-SE_1084_processed>, width=300, height=375, channels=3, levels=1, RGB=True, dtype=uint8> <valis.slide_io.VipsSlideReader object at 0x7f413782f710> True (375, 300, 3)\n",
      "<Slide, name = B_213-ST_BFIW-SE_1085_processed>, width=300, height=375, channels=3, levels=1, RGB=True, dtype=uint8> <valis.slide_io.VipsSlideReader object at 0x7f413782f770> True (375, 300, 3)\n",
      "<Slide, name = B_213-ST_BFIW-SE_1086_processed>, width=300, height=375, channels=3, levels=1, RGB=True, dtype=uint8> <valis.slide_io.VipsSlideReader object at 0x7f4137804950> True (375, 300, 3)\n",
      "<Slide, name = B_213-ST_BFIW-SE_1087_processed>, width=300, height=375, channels=3, levels=1, RGB=True, dtype=uint8> <valis.slide_io.VipsSlideReader object at 0x7f413782f950> True (375, 300, 3)\n",
      "<Slide, name = B_213-ST_BFIW-SE_1088_processed>, width=300, height=375, channels=3, levels=1, RGB=True, dtype=uint8> <valis.slide_io.VipsSlideReader object at 0x7f413782f890> True (375, 300, 3)\n",
      "<Slide, name = B_213-ST_BFIW-SE_1089_processed>, width=300, height=375, channels=3, levels=1, RGB=True, dtype=uint8> <valis.slide_io.VipsSlideReader object at 0x7f413782f620> True (375, 300, 3)\n",
      "<Slide, name = B_213-ST_BFIW-SE_1090_processed>, width=300, height=375, channels=3, levels=1, RGB=True, dtype=uint8> <valis.slide_io.VipsSlideReader object at 0x7f413782f740> True (375, 300, 3)\n",
      "<Slide, name = B_213-ST_BFIW-SE_1091_processed>, width=300, height=375, channels=3, levels=1, RGB=True, dtype=uint8> <valis.slide_io.VipsSlideReader object at 0x7f413782f980> True (375, 300, 3)\n"
     ]
    },
    {
     "name": "stderr",
     "output_type": "stream",
     "text": [
      "Converting images:  41%|███████████████████                            | 1065/2627 [00:12<00:18, 85.51image/s]"
     ]
    },
    {
     "name": "stdout",
     "output_type": "stream",
     "text": [
      "<Slide, name = B_213-ST_BFIW-SE_1092_processed>, width=300, height=375, channels=3, levels=1, RGB=True, dtype=uint8> <valis.slide_io.VipsSlideReader object at 0x7f413782f9e0> True (375, 300, 3)\n",
      "<Slide, name = B_213-ST_BFIW-SE_1093_processed>, width=300, height=375, channels=3, levels=1, RGB=True, dtype=uint8> <valis.slide_io.VipsSlideReader object at 0x7f413782fa40> True (375, 300, 3)\n",
      "<Slide, name = B_213-ST_BFIW-SE_1094_processed>, width=300, height=375, channels=3, levels=1, RGB=True, dtype=uint8> <valis.slide_io.VipsSlideReader object at 0x7f413782fb00> True (375, 300, 3)\n",
      "<Slide, name = B_213-ST_BFIW-SE_1095_processed>, width=300, height=375, channels=3, levels=1, RGB=True, dtype=uint8> <valis.slide_io.VipsSlideReader object at 0x7f413782fb60> True (375, 300, 3)\n",
      "<Slide, name = B_213-ST_BFIW-SE_1096_processed>, width=300, height=375, channels=3, levels=1, RGB=True, dtype=uint8> <valis.slide_io.VipsSlideReader object at 0x7f413782fbc0> True (375, 300, 3)\n",
      "<Slide, name = B_213-ST_BFIW-SE_1097_processed>, width=300, height=375, channels=3, levels=1, RGB=True, dtype=uint8> <valis.slide_io.VipsSlideReader object at 0x7f41378071d0> True (375, 300, 3)\n",
      "<Slide, name = B_213-ST_BFIW-SE_1098_processed>, width=300, height=375, channels=3, levels=1, RGB=True, dtype=uint8> <valis.slide_io.VipsSlideReader object at 0x7f413782fda0> True (375, 300, 3)\n",
      "<Slide, name = B_213-ST_BFIW-SE_1099_processed>, width=300, height=375, channels=3, levels=1, RGB=True, dtype=uint8> <valis.slide_io.VipsSlideReader object at 0x7f413782fce0> True (375, 300, 3)\n",
      "<Slide, name = B_213-ST_BFIW-SE_1100_processed>, width=300, height=375, channels=3, levels=1, RGB=True, dtype=uint8> <valis.slide_io.VipsSlideReader object at 0x7f413782fa10> True (375, 300, 3)\n"
     ]
    },
    {
     "name": "stderr",
     "output_type": "stream",
     "text": [
      "Converting images:  41%|███████████████████▏                           | 1074/2627 [00:12<00:18, 85.46image/s]"
     ]
    },
    {
     "name": "stdout",
     "output_type": "stream",
     "text": [
      "<Slide, name = B_213-ST_BFIW-SE_1101_processed>, width=300, height=375, channels=3, levels=1, RGB=True, dtype=uint8> <valis.slide_io.VipsSlideReader object at 0x7f413782fb90> True (375, 300, 3)\n",
      "<Slide, name = B_213-ST_BFIW-SE_1102_processed>, width=300, height=375, channels=3, levels=1, RGB=True, dtype=uint8> <valis.slide_io.VipsSlideReader object at 0x7f413782fdd0> True (375, 300, 3)\n",
      "<Slide, name = B_213-ST_BFIW-SE_1103_processed>, width=300, height=375, channels=3, levels=1, RGB=True, dtype=uint8> <valis.slide_io.VipsSlideReader object at 0x7f413782fe30> True (375, 300, 3)\n",
      "<Slide, name = B_213-ST_BFIW-SE_1104_processed>, width=300, height=375, channels=3, levels=1, RGB=True, dtype=uint8> <valis.slide_io.VipsSlideReader object at 0x7f413782fe90> True (375, 300, 3)\n",
      "<Slide, name = B_213-ST_BFIW-SE_1105_processed>, width=300, height=375, channels=3, levels=1, RGB=True, dtype=uint8> <valis.slide_io.VipsSlideReader object at 0x7f413782ff20> True (375, 300, 3)\n",
      "<Slide, name = B_213-ST_BFIW-SE_1106_processed>, width=300, height=375, channels=3, levels=1, RGB=True, dtype=uint8> <valis.slide_io.VipsSlideReader object at 0x7f413782ffe0> True (375, 300, 3)\n",
      "<Slide, name = B_213-ST_BFIW-SE_1107_processed>, width=300, height=375, channels=3, levels=1, RGB=True, dtype=uint8> <valis.slide_io.VipsSlideReader object at 0x7f413782ffb0> True (375, 300, 3)\n",
      "<Slide, name = B_213-ST_BFIW-SE_1108_processed>, width=300, height=375, channels=3, levels=1, RGB=True, dtype=uint8> <valis.slide_io.VipsSlideReader object at 0x7f413782fd10> True (375, 300, 3)\n",
      "<Slide, name = B_213-ST_BFIW-SE_1109_processed>, width=300, height=375, channels=3, levels=1, RGB=True, dtype=uint8> <valis.slide_io.VipsSlideReader object at 0x7f413782fe60> True (375, 300, 3)\n"
     ]
    },
    {
     "name": "stderr",
     "output_type": "stream",
     "text": [
      "Converting images:  41%|███████████████████▍                           | 1083/2627 [00:12<00:18, 85.37image/s]"
     ]
    },
    {
     "name": "stdout",
     "output_type": "stream",
     "text": [
      "<Slide, name = B_213-ST_BFIW-SE_1110_processed>, width=300, height=375, channels=3, levels=1, RGB=True, dtype=uint8> <valis.slide_io.VipsSlideReader object at 0x7f413782ff80> True (375, 300, 3)\n",
      "<Slide, name = B_213-ST_BFIW-SE_1111_processed>, width=300, height=375, channels=3, levels=1, RGB=True, dtype=uint8> <valis.slide_io.VipsSlideReader object at 0x7f413782fec0> True (375, 300, 3)\n",
      "<Slide, name = B_213-ST_BFIW-SE_1112_processed>, width=300, height=375, channels=3, levels=1, RGB=True, dtype=uint8> <valis.slide_io.VipsSlideReader object at 0x7f4137830230> True (375, 300, 3)\n",
      "<Slide, name = B_213-ST_BFIW-SE_1113_processed>, width=300, height=375, channels=3, levels=1, RGB=True, dtype=uint8> <valis.slide_io.VipsSlideReader object at 0x7f4137820140> True (375, 300, 3)\n",
      "<Slide, name = B_213-ST_BFIW-SE_1114_processed>, width=300, height=375, channels=3, levels=1, RGB=True, dtype=uint8> <valis.slide_io.VipsSlideReader object at 0x7f41378003b0> True (375, 300, 3)\n",
      "<Slide, name = B_213-ST_BFIW-SE_1115_processed>, width=300, height=375, channels=3, levels=1, RGB=True, dtype=uint8> <valis.slide_io.VipsSlideReader object at 0x7f4137828260> True (375, 300, 3)\n",
      "<Slide, name = B_213-ST_BFIW-SE_1116_processed>, width=300, height=375, channels=3, levels=1, RGB=True, dtype=uint8> <valis.slide_io.VipsSlideReader object at 0x7f4137828380> True (375, 300, 3)\n",
      "<Slide, name = B_213-ST_BFIW-SE_1117_processed>, width=300, height=375, channels=3, levels=1, RGB=True, dtype=uint8> <valis.slide_io.VipsSlideReader object at 0x7f4137830350> True (375, 300, 3)\n",
      "<Slide, name = B_213-ST_BFIW-SE_1118_processed>, width=300, height=375, channels=3, levels=1, RGB=True, dtype=uint8> <valis.slide_io.VipsSlideReader object at 0x7f4137820080> True (375, 300, 3)\n"
     ]
    },
    {
     "name": "stderr",
     "output_type": "stream",
     "text": [
      "Converting images:  42%|███████████████████▌                           | 1092/2627 [00:12<00:17, 85.96image/s]"
     ]
    },
    {
     "name": "stdout",
     "output_type": "stream",
     "text": [
      "<Slide, name = B_213-ST_BFIW-SE_1119_processed>, width=300, height=375, channels=3, levels=1, RGB=True, dtype=uint8> <valis.slide_io.VipsSlideReader object at 0x7f41378105f0> True (375, 300, 3)\n",
      "<Slide, name = B_213-ST_BFIW-SE_1120_processed>, width=300, height=375, channels=3, levels=1, RGB=True, dtype=uint8> <valis.slide_io.VipsSlideReader object at 0x7f41378284a0> True (375, 300, 3)\n",
      "<Slide, name = B_213-ST_BFIW-SE_1121_processed>, width=300, height=375, channels=3, levels=1, RGB=True, dtype=uint8> <valis.slide_io.VipsSlideReader object at 0x7f41378105c0> True (375, 300, 3)\n",
      "<Slide, name = B_213-ST_BFIW-SE_1122_processed>, width=300, height=375, channels=3, levels=1, RGB=True, dtype=uint8> <valis.slide_io.VipsSlideReader object at 0x7f41378301a0> True (375, 300, 3)\n",
      "<Slide, name = B_213-ST_BFIW-SE_1123_processed>, width=300, height=375, channels=3, levels=1, RGB=True, dtype=uint8> <valis.slide_io.VipsSlideReader object at 0x7f4137820170> True (375, 300, 3)\n",
      "<Slide, name = B_213-ST_BFIW-SE_1124_processed>, width=300, height=375, channels=3, levels=1, RGB=True, dtype=uint8> <valis.slide_io.VipsSlideReader object at 0x7f4137800800> True (375, 300, 3)\n",
      "<Slide, name = B_213-ST_BFIW-SE_1125_processed>, width=300, height=375, channels=3, levels=1, RGB=True, dtype=uint8> <valis.slide_io.VipsSlideReader object at 0x7f41378301d0> True (375, 300, 3)\n",
      "<Slide, name = B_213-ST_BFIW-SE_1126_processed>, width=300, height=375, channels=3, levels=1, RGB=True, dtype=uint8> <valis.slide_io.VipsSlideReader object at 0x7f41378307d0> True (375, 300, 3)\n",
      "<Slide, name = B_213-ST_BFIW-SE_1127_processed>, width=300, height=375, channels=3, levels=1, RGB=True, dtype=uint8> <valis.slide_io.VipsSlideReader object at 0x7f4137830650> True (375, 300, 3)\n"
     ]
    },
    {
     "name": "stderr",
     "output_type": "stream",
     "text": [
      "Converting images:  42%|███████████████████▋                           | 1101/2627 [00:12<00:17, 86.21image/s]"
     ]
    },
    {
     "name": "stdout",
     "output_type": "stream",
     "text": [
      "<Slide, name = B_213-ST_BFIW-SE_1128_processed>, width=300, height=375, channels=3, levels=1, RGB=True, dtype=uint8> <valis.slide_io.VipsSlideReader object at 0x7f4137830950> True (375, 300, 3)\n",
      "<Slide, name = B_213-ST_BFIW-SE_1129_processed>, width=300, height=375, channels=3, levels=1, RGB=True, dtype=uint8> <valis.slide_io.VipsSlideReader object at 0x7f4137810680> True (375, 300, 3)\n",
      "<Slide, name = B_213-ST_BFIW-SE_1130_processed>, width=300, height=375, channels=3, levels=1, RGB=True, dtype=uint8> <valis.slide_io.VipsSlideReader object at 0x7f4137830920> True (375, 300, 3)\n",
      "<Slide, name = B_213-ST_BFIW-SE_1131_processed>, width=300, height=375, channels=3, levels=1, RGB=True, dtype=uint8> <valis.slide_io.VipsSlideReader object at 0x7f41378287a0> True (375, 300, 3)\n",
      "<Slide, name = B_213-ST_BFIW-SE_1132_processed>, width=300, height=375, channels=3, levels=1, RGB=True, dtype=uint8> <valis.slide_io.VipsSlideReader object at 0x7f4137828b60> True (375, 300, 3)\n",
      "<Slide, name = B_213-ST_BFIW-SE_1133_processed>, width=300, height=375, channels=3, levels=1, RGB=True, dtype=uint8> <valis.slide_io.VipsSlideReader object at 0x7f41378200e0> True (375, 300, 3)\n",
      "<Slide, name = B_213-ST_BFIW-SE_1134_processed>, width=300, height=375, channels=3, levels=1, RGB=True, dtype=uint8> <valis.slide_io.VipsSlideReader object at 0x7f41378289b0> True (375, 300, 3)\n",
      "<Slide, name = B_213-ST_BFIW-SE_1135_processed>, width=300, height=375, channels=3, levels=1, RGB=True, dtype=uint8> <valis.slide_io.VipsSlideReader object at 0x7f4137828a40> True (375, 300, 3)\n",
      "<Slide, name = B_213-ST_BFIW-SE_1136_processed>, width=300, height=375, channels=3, levels=1, RGB=True, dtype=uint8> <valis.slide_io.VipsSlideReader object at 0x7f4137828b00> True (375, 300, 3)\n"
     ]
    },
    {
     "name": "stderr",
     "output_type": "stream",
     "text": [
      "Converting images:  42%|███████████████████▊                           | 1110/2627 [00:12<00:17, 86.15image/s]"
     ]
    },
    {
     "name": "stdout",
     "output_type": "stream",
     "text": [
      "<Slide, name = B_213-ST_BFIW-SE_1137_processed>, width=300, height=375, channels=3, levels=1, RGB=True, dtype=uint8> <valis.slide_io.VipsSlideReader object at 0x7f4137828740> True (375, 300, 3)\n",
      "<Slide, name = B_213-ST_BFIW-SE_1138_processed>, width=300, height=375, channels=3, levels=1, RGB=True, dtype=uint8> <valis.slide_io.VipsSlideReader object at 0x7f4137d38c20> True (375, 300, 3)\n",
      "<Slide, name = B_213-ST_BFIW-SE_1139_processed>, width=300, height=375, channels=3, levels=1, RGB=True, dtype=uint8> <valis.slide_io.VipsSlideReader object at 0x7f4137830cb0> True (375, 300, 3)\n",
      "<Slide, name = B_213-ST_BFIW-SE_1140_processed>, width=300, height=375, channels=3, levels=1, RGB=True, dtype=uint8> <valis.slide_io.VipsSlideReader object at 0x7f4137828aa0> True (375, 300, 3)\n",
      "<Slide, name = B_213-ST_BFIW-SE_1141_processed>, width=300, height=375, channels=3, levels=1, RGB=True, dtype=uint8> <valis.slide_io.VipsSlideReader object at 0x7f4137830500> True (375, 300, 3)\n",
      "<Slide, name = B_213-ST_BFIW-SE_1142_processed>, width=300, height=375, channels=3, levels=1, RGB=True, dtype=uint8> <valis.slide_io.VipsSlideReader object at 0x7f4137828ce0> True (375, 300, 3)\n",
      "<Slide, name = B_213-ST_BFIW-SE_1143_processed>, width=300, height=375, channels=3, levels=1, RGB=True, dtype=uint8> <valis.slide_io.VipsSlideReader object at 0x7f4137828fb0> True (375, 300, 3)\n",
      "<Slide, name = B_213-ST_BFIW-SE_1144_processed>, width=300, height=375, channels=3, levels=1, RGB=True, dtype=uint8> <valis.slide_io.VipsSlideReader object at 0x7f4137830b30> True (375, 300, 3)\n",
      "<Slide, name = B_213-ST_BFIW-SE_1145_processed>, width=300, height=375, channels=3, levels=1, RGB=True, dtype=uint8> <valis.slide_io.VipsSlideReader object at 0x7f4137828da0> True (375, 300, 3)\n"
     ]
    },
    {
     "name": "stderr",
     "output_type": "stream",
     "text": [
      "Converting images:  43%|████████████████████                           | 1119/2627 [00:12<00:17, 86.21image/s]"
     ]
    },
    {
     "name": "stdout",
     "output_type": "stream",
     "text": [
      "<Slide, name = B_213-ST_BFIW-SE_1146_processed>, width=300, height=375, channels=3, levels=1, RGB=True, dtype=uint8> <valis.slide_io.VipsSlideReader object at 0x7f4137829100> True (375, 300, 3)\n",
      "<Slide, name = B_213-ST_BFIW-SE_1147_processed>, width=300, height=375, channels=3, levels=1, RGB=True, dtype=uint8> <valis.slide_io.VipsSlideReader object at 0x7f4137820e00> True (375, 300, 3)\n",
      "<Slide, name = B_213-ST_BFIW-SE_1148_processed>, width=300, height=375, channels=3, levels=1, RGB=True, dtype=uint8> <valis.slide_io.VipsSlideReader object at 0x7f4137830fe0> True (375, 300, 3)\n",
      "<Slide, name = B_213-ST_BFIW-SE_1149_processed>, width=300, height=375, channels=3, levels=1, RGB=True, dtype=uint8> <valis.slide_io.VipsSlideReader object at 0x7f4137d71130> True (375, 300, 3)\n",
      "<Slide, name = B_213-ST_BFIW-SE_1150_processed>, width=300, height=375, channels=3, levels=1, RGB=True, dtype=uint8> <valis.slide_io.VipsSlideReader object at 0x7f4137820f80> True (375, 300, 3)\n",
      "<Slide, name = B_213-ST_BFIW-SE_1151_processed>, width=300, height=375, channels=3, levels=1, RGB=True, dtype=uint8> <valis.slide_io.VipsSlideReader object at 0x7f41378211c0> True (375, 300, 3)\n",
      "<Slide, name = B_213-ST_BFIW-SE_1152_processed>, width=300, height=375, channels=3, levels=1, RGB=True, dtype=uint8> <valis.slide_io.VipsSlideReader object at 0x7f4137821220> True (375, 300, 3)\n",
      "<Slide, name = B_213-ST_BFIW-SE_1153_processed>, width=300, height=375, channels=3, levels=1, RGB=True, dtype=uint8> <valis.slide_io.VipsSlideReader object at 0x7f4137821280> True (375, 300, 3)\n",
      "<Slide, name = B_213-ST_BFIW-SE_1154_processed>, width=300, height=375, channels=3, levels=1, RGB=True, dtype=uint8> <valis.slide_io.VipsSlideReader object at 0x7f41378292e0> True (375, 300, 3)\n"
     ]
    },
    {
     "name": "stderr",
     "output_type": "stream",
     "text": [
      "Converting images:  43%|████████████████████▏                          | 1128/2627 [00:13<00:17, 84.73image/s]"
     ]
    },
    {
     "name": "stdout",
     "output_type": "stream",
     "text": [
      "<Slide, name = B_213-ST_BFIW-SE_1155_processed>, width=300, height=375, channels=3, levels=1, RGB=True, dtype=uint8> <valis.slide_io.VipsSlideReader object at 0x7f4137821340> True (375, 300, 3)\n",
      "<Slide, name = B_213-ST_BFIW-SE_1156_processed>, width=300, height=375, channels=3, levels=1, RGB=True, dtype=uint8> <valis.slide_io.VipsSlideReader object at 0x7f41378293a0> True (375, 300, 3)\n",
      "<Slide, name = B_213-ST_BFIW-SE_1157_processed>, width=300, height=375, channels=3, levels=1, RGB=True, dtype=uint8> <valis.slide_io.VipsSlideReader object at 0x7f41378308c0> True (375, 300, 3)\n",
      "<Slide, name = B_213-ST_BFIW-SE_1158_processed>, width=300, height=375, channels=3, levels=1, RGB=True, dtype=uint8> <valis.slide_io.VipsSlideReader object at 0x7f4137831460> True (375, 300, 3)\n",
      "<Slide, name = B_213-ST_BFIW-SE_1159_processed>, width=300, height=375, channels=3, levels=1, RGB=True, dtype=uint8> <valis.slide_io.VipsSlideReader object at 0x7f4137830e90> True (375, 300, 3)\n",
      "<Slide, name = B_213-ST_BFIW-SE_1160_processed>, width=300, height=375, channels=3, levels=1, RGB=True, dtype=uint8> <valis.slide_io.VipsSlideReader object at 0x7f41378112b0> True (375, 300, 3)\n",
      "<Slide, name = B_213-ST_BFIW-SE_1161_processed>, width=300, height=375, channels=3, levels=1, RGB=True, dtype=uint8> <valis.slide_io.VipsSlideReader object at 0x7f4137829430> True (375, 300, 3)\n",
      "<Slide, name = B_213-ST_BFIW-SE_1162_processed>, width=300, height=375, channels=3, levels=1, RGB=True, dtype=uint8> <valis.slide_io.VipsSlideReader object at 0x7f4137811640> True (375, 300, 3)\n",
      "<Slide, name = B_213-ST_BFIW-SE_1163_processed>, width=300, height=375, channels=3, levels=1, RGB=True, dtype=uint8> <valis.slide_io.VipsSlideReader object at 0x7f4137821670> True (375, 300, 3)\n"
     ]
    },
    {
     "name": "stderr",
     "output_type": "stream",
     "text": [
      "Converting images:  43%|████████████████████▎                          | 1137/2627 [00:13<00:17, 85.24image/s]"
     ]
    },
    {
     "name": "stdout",
     "output_type": "stream",
     "text": [
      "<Slide, name = B_213-ST_BFIW-SE_1164_processed>, width=300, height=375, channels=3, levels=1, RGB=True, dtype=uint8> <valis.slide_io.VipsSlideReader object at 0x7f4137831580> True (375, 300, 3)\n",
      "<Slide, name = B_213-ST_BFIW-SE_1165_processed>, width=300, height=375, channels=3, levels=1, RGB=True, dtype=uint8> <valis.slide_io.VipsSlideReader object at 0x7f4137821730> True (375, 300, 3)\n",
      "<Slide, name = B_213-ST_BFIW-SE_1166_processed>, width=300, height=375, channels=3, levels=1, RGB=True, dtype=uint8> <valis.slide_io.VipsSlideReader object at 0x7f41378294f0> True (375, 300, 3)\n",
      "<Slide, name = B_213-ST_BFIW-SE_1167_processed>, width=300, height=375, channels=3, levels=1, RGB=True, dtype=uint8> <valis.slide_io.VipsSlideReader object at 0x7f41378316a0> True (375, 300, 3)\n",
      "<Slide, name = B_213-ST_BFIW-SE_1168_processed>, width=300, height=375, channels=3, levels=1, RGB=True, dtype=uint8> <valis.slide_io.VipsSlideReader object at 0x7f4137831850> True (375, 300, 3)\n",
      "<Slide, name = B_213-ST_BFIW-SE_1169_processed>, width=300, height=375, channels=3, levels=1, RGB=True, dtype=uint8> <valis.slide_io.VipsSlideReader object at 0x7f4137829a30> True (375, 300, 3)\n",
      "<Slide, name = B_213-ST_BFIW-SE_1170_processed>, width=300, height=375, channels=3, levels=1, RGB=True, dtype=uint8> <valis.slide_io.VipsSlideReader object at 0x7f41378298e0> True (375, 300, 3)\n",
      "<Slide, name = B_213-ST_BFIW-SE_1171_processed>, width=300, height=375, channels=3, levels=1, RGB=True, dtype=uint8> <valis.slide_io.VipsSlideReader object at 0x7f4137829a00> True (375, 300, 3)\n",
      "<Slide, name = B_213-ST_BFIW-SE_1172_processed>, width=300, height=375, channels=3, levels=1, RGB=True, dtype=uint8> <valis.slide_io.VipsSlideReader object at 0x7f4137829a60> True (375, 300, 3)\n"
     ]
    },
    {
     "name": "stderr",
     "output_type": "stream",
     "text": [
      "Converting images:  44%|████████████████████▌                          | 1146/2627 [00:13<00:17, 85.70image/s]"
     ]
    },
    {
     "name": "stdout",
     "output_type": "stream",
     "text": [
      "<Slide, name = B_213-ST_BFIW-SE_1173_processed>, width=300, height=375, channels=3, levels=1, RGB=True, dtype=uint8> <valis.slide_io.VipsSlideReader object at 0x7f4137831910> True (375, 300, 3)\n",
      "<Slide, name = B_213-ST_BFIW-SE_1174_processed>, width=300, height=375, channels=3, levels=1, RGB=True, dtype=uint8> <valis.slide_io.VipsSlideReader object at 0x7f4137829af0> True (375, 300, 3)\n",
      "<Slide, name = B_213-ST_BFIW-SE_1175_processed>, width=300, height=375, channels=3, levels=1, RGB=True, dtype=uint8> <valis.slide_io.VipsSlideReader object at 0x7f4137831610> True (375, 300, 3)\n",
      "<Slide, name = B_213-ST_BFIW-SE_1176_processed>, width=300, height=375, channels=3, levels=1, RGB=True, dtype=uint8> <valis.slide_io.VipsSlideReader object at 0x7f4137829bb0> True (375, 300, 3)\n",
      "<Slide, name = B_213-ST_BFIW-SE_1177_processed>, width=300, height=375, channels=3, levels=1, RGB=True, dtype=uint8> <valis.slide_io.VipsSlideReader object at 0x7f4137829ac0> True (375, 300, 3)\n",
      "<Slide, name = B_213-ST_BFIW-SE_1178_processed>, width=300, height=375, channels=3, levels=1, RGB=True, dtype=uint8> <valis.slide_io.VipsSlideReader object at 0x7f4137811c70> True (375, 300, 3)\n",
      "<Slide, name = B_213-ST_BFIW-SE_1179_processed>, width=300, height=375, channels=3, levels=1, RGB=True, dtype=uint8> <valis.slide_io.VipsSlideReader object at 0x7f4137831b50> True (375, 300, 3)\n",
      "<Slide, name = B_213-ST_BFIW-SE_1180_processed>, width=300, height=375, channels=3, levels=1, RGB=True, dtype=uint8> <valis.slide_io.VipsSlideReader object at 0x7f4137829d30> True (375, 300, 3)\n",
      "<Slide, name = B_213-ST_BFIW-SE_1181_processed>, width=300, height=375, channels=3, levels=1, RGB=True, dtype=uint8> <valis.slide_io.VipsSlideReader object at 0x7f4137831d60> True (375, 300, 3)\n"
     ]
    },
    {
     "name": "stderr",
     "output_type": "stream",
     "text": [
      "Converting images:  44%|████████████████████▋                          | 1155/2627 [00:13<00:17, 86.47image/s]"
     ]
    },
    {
     "name": "stdout",
     "output_type": "stream",
     "text": [
      "<Slide, name = B_213-ST_BFIW-SE_1182_processed>, width=300, height=375, channels=3, levels=1, RGB=True, dtype=uint8> <valis.slide_io.VipsSlideReader object at 0x7f4137829df0> True (375, 300, 3)\n",
      "<Slide, name = B_213-ST_BFIW-SE_1183_processed>, width=300, height=375, channels=3, levels=1, RGB=True, dtype=uint8> <valis.slide_io.VipsSlideReader object at 0x7f4137831ee0> True (375, 300, 3)\n",
      "<Slide, name = B_213-ST_BFIW-SE_1184_processed>, width=300, height=375, channels=3, levels=1, RGB=True, dtype=uint8> <valis.slide_io.VipsSlideReader object at 0x7f4137831c10> True (375, 300, 3)\n",
      "<Slide, name = B_213-ST_BFIW-SE_1185_processed>, width=300, height=375, channels=3, levels=1, RGB=True, dtype=uint8> <valis.slide_io.VipsSlideReader object at 0x7f4137831d90> True (375, 300, 3)\n",
      "<Slide, name = B_213-ST_BFIW-SE_1186_processed>, width=300, height=375, channels=3, levels=1, RGB=True, dtype=uint8> <valis.slide_io.VipsSlideReader object at 0x7f413782a0c0> True (375, 300, 3)\n",
      "<Slide, name = B_213-ST_BFIW-SE_1187_processed>, width=300, height=375, channels=3, levels=1, RGB=True, dtype=uint8> <valis.slide_io.VipsSlideReader object at 0x7f413782a060> True (375, 300, 3)\n",
      "<Slide, name = B_213-ST_BFIW-SE_1188_processed>, width=300, height=375, channels=3, levels=1, RGB=True, dtype=uint8> <valis.slide_io.VipsSlideReader object at 0x7f4137831b80> True (375, 300, 3)\n",
      "<Slide, name = B_213-ST_BFIW-SE_1189_processed>, width=300, height=375, channels=3, levels=1, RGB=True, dtype=uint8> <valis.slide_io.VipsSlideReader object at 0x7f41378220f0> True (375, 300, 3)\n",
      "<Slide, name = B_213-ST_BFIW-SE_1190_processed>, width=300, height=375, channels=3, levels=1, RGB=True, dtype=uint8> <valis.slide_io.VipsSlideReader object at 0x7f4137831a90> True (375, 300, 3)\n"
     ]
    },
    {
     "name": "stderr",
     "output_type": "stream",
     "text": [
      "Converting images:  44%|████████████████████▊                          | 1164/2627 [00:13<00:16, 86.86image/s]"
     ]
    },
    {
     "name": "stdout",
     "output_type": "stream",
     "text": [
      "<Slide, name = B_213-ST_BFIW-SE_1191_processed>, width=300, height=375, channels=3, levels=1, RGB=True, dtype=uint8> <valis.slide_io.VipsSlideReader object at 0x7f41377fa180> True (375, 300, 3)\n",
      "<Slide, name = B_213-ST_BFIW-SE_1192_processed>, width=300, height=375, channels=3, levels=1, RGB=True, dtype=uint8> <valis.slide_io.VipsSlideReader object at 0x7f4137832270> True (375, 300, 3)\n",
      "<Slide, name = B_213-ST_BFIW-SE_1193_processed>, width=300, height=375, channels=3, levels=1, RGB=True, dtype=uint8> <valis.slide_io.VipsSlideReader object at 0x7f4137802240> True (375, 300, 3)\n",
      "<Slide, name = B_213-ST_BFIW-SE_1194_processed>, width=300, height=375, channels=3, levels=1, RGB=True, dtype=uint8> <valis.slide_io.VipsSlideReader object at 0x7f4137822120> True (375, 300, 3)\n",
      "<Slide, name = B_213-ST_BFIW-SE_1195_processed>, width=300, height=375, channels=3, levels=1, RGB=True, dtype=uint8> <valis.slide_io.VipsSlideReader object at 0x7f413782a300> True (375, 300, 3)\n",
      "<Slide, name = B_213-ST_BFIW-SE_1196_processed>, width=300, height=375, channels=3, levels=1, RGB=True, dtype=uint8> <valis.slide_io.VipsSlideReader object at 0x7f41378321e0> True (375, 300, 3)\n",
      "<Slide, name = B_213-ST_BFIW-SE_1197_processed>, width=300, height=375, channels=3, levels=1, RGB=True, dtype=uint8> <valis.slide_io.VipsSlideReader object at 0x7f413782a330> True (375, 300, 3)\n",
      "<Slide, name = B_213-ST_BFIW-SE_1198_processed>, width=300, height=375, channels=3, levels=1, RGB=True, dtype=uint8> <valis.slide_io.VipsSlideReader object at 0x7f4137822570> True (375, 300, 3)\n",
      "<Slide, name = B_213-ST_BFIW-SE_1199_processed>, width=300, height=375, channels=3, levels=1, RGB=True, dtype=uint8> <valis.slide_io.VipsSlideReader object at 0x7f41378322a0> True (375, 300, 3)\n"
     ]
    },
    {
     "name": "stderr",
     "output_type": "stream",
     "text": [
      "Converting images:  45%|████████████████████▉                          | 1173/2627 [00:13<00:16, 86.69image/s]"
     ]
    },
    {
     "name": "stdout",
     "output_type": "stream",
     "text": [
      "<Slide, name = B_213-ST_BFIW-SE_1200_processed>, width=300, height=375, channels=3, levels=1, RGB=True, dtype=uint8> <valis.slide_io.VipsSlideReader object at 0x7f413782a540> True (375, 300, 3)\n",
      "<Slide, name = B_213-ST_BFIW-SE_1201_processed>, width=300, height=375, channels=3, levels=1, RGB=True, dtype=uint8> <valis.slide_io.VipsSlideReader object at 0x7f41378323f0> True (375, 300, 3)\n",
      "<Slide, name = B_213-ST_BFIW-SE_1202_processed>, width=300, height=375, channels=3, levels=1, RGB=True, dtype=uint8> <valis.slide_io.VipsSlideReader object at 0x7f4137832390> True (375, 300, 3)\n",
      "<Slide, name = B_213-ST_BFIW-SE_1203_processed>, width=300, height=375, channels=3, levels=1, RGB=True, dtype=uint8> <valis.slide_io.VipsSlideReader object at 0x7f41378325d0> True (375, 300, 3)\n",
      "<Slide, name = B_213-ST_BFIW-SE_1204_processed>, width=300, height=375, channels=3, levels=1, RGB=True, dtype=uint8> <valis.slide_io.VipsSlideReader object at 0x7f4137832210> True (375, 300, 3)\n",
      "<Slide, name = B_213-ST_BFIW-SE_1205_processed>, width=300, height=375, channels=3, levels=1, RGB=True, dtype=uint8> <valis.slide_io.VipsSlideReader object at 0x7f41378124b0> True (375, 300, 3)\n",
      "<Slide, name = B_213-ST_BFIW-SE_1206_processed>, width=300, height=375, channels=3, levels=1, RGB=True, dtype=uint8> <valis.slide_io.VipsSlideReader object at 0x7f413782a600> True (375, 300, 3)\n",
      "<Slide, name = B_213-ST_BFIW-SE_1207_processed>, width=300, height=375, channels=3, levels=1, RGB=True, dtype=uint8> <valis.slide_io.VipsSlideReader object at 0x7f413782a7b0> True (375, 300, 3)\n",
      "<Slide, name = B_213-ST_BFIW-SE_1208_processed>, width=300, height=375, channels=3, levels=1, RGB=True, dtype=uint8> <valis.slide_io.VipsSlideReader object at 0x7f4137832840> True (375, 300, 3)\n"
     ]
    },
    {
     "name": "stderr",
     "output_type": "stream",
     "text": [
      "Converting images:  45%|█████████████████████▏                         | 1182/2627 [00:13<00:16, 86.87image/s]"
     ]
    },
    {
     "name": "stdout",
     "output_type": "stream",
     "text": [
      "<Slide, name = B_213-ST_BFIW-SE_1209_processed>, width=300, height=375, channels=3, levels=1, RGB=True, dtype=uint8> <valis.slide_io.VipsSlideReader object at 0x7f413782a870> True (375, 300, 3)\n",
      "<Slide, name = B_213-ST_BFIW-SE_1210_processed>, width=300, height=375, channels=3, levels=1, RGB=True, dtype=uint8> <valis.slide_io.VipsSlideReader object at 0x7f41378328a0> True (375, 300, 3)\n",
      "<Slide, name = B_213-ST_BFIW-SE_1211_processed>, width=300, height=375, channels=3, levels=1, RGB=True, dtype=uint8> <valis.slide_io.VipsSlideReader object at 0x7f4137832450> True (375, 300, 3)\n",
      "<Slide, name = B_213-ST_BFIW-SE_1212_processed>, width=300, height=375, channels=3, levels=1, RGB=True, dtype=uint8> <valis.slide_io.VipsSlideReader object at 0x7f413782a900> True (375, 300, 3)\n",
      "<Slide, name = B_213-ST_BFIW-SE_1213_processed>, width=300, height=375, channels=3, levels=1, RGB=True, dtype=uint8> <valis.slide_io.VipsSlideReader object at 0x7f4137832810> True (375, 300, 3)\n",
      "<Slide, name = B_213-ST_BFIW-SE_1214_processed>, width=300, height=375, channels=3, levels=1, RGB=True, dtype=uint8> <valis.slide_io.VipsSlideReader object at 0x7f4137832420> True (375, 300, 3)\n",
      "<Slide, name = B_213-ST_BFIW-SE_1215_processed>, width=300, height=375, channels=3, levels=1, RGB=True, dtype=uint8> <valis.slide_io.VipsSlideReader object at 0x7f4137832990> True (375, 300, 3)\n",
      "<Slide, name = B_213-ST_BFIW-SE_1216_processed>, width=300, height=375, channels=3, levels=1, RGB=True, dtype=uint8> <valis.slide_io.VipsSlideReader object at 0x7f41378329c0> True (375, 300, 3)\n",
      "<Slide, name = B_213-ST_BFIW-SE_1217_processed>, width=300, height=375, channels=3, levels=1, RGB=True, dtype=uint8> <valis.slide_io.VipsSlideReader object at 0x7f4137812d50> True (375, 300, 3)\n"
     ]
    },
    {
     "name": "stderr",
     "output_type": "stream",
     "text": [
      "Converting images:  45%|█████████████████████▎                         | 1191/2627 [00:13<00:16, 86.31image/s]"
     ]
    },
    {
     "name": "stdout",
     "output_type": "stream",
     "text": [
      "<Slide, name = B_213-ST_BFIW-SE_1218_processed>, width=300, height=375, channels=3, levels=1, RGB=True, dtype=uint8> <valis.slide_io.VipsSlideReader object at 0x7f4137832660> True (375, 300, 3)\n",
      "<Slide, name = B_213-ST_BFIW-SE_1219_processed>, width=300, height=375, channels=3, levels=1, RGB=True, dtype=uint8> <valis.slide_io.VipsSlideReader object at 0x7f4137832d20> True (375, 300, 3)\n",
      "<Slide, name = B_213-ST_BFIW-SE_1220_processed>, width=300, height=375, channels=3, levels=1, RGB=True, dtype=uint8> <valis.slide_io.VipsSlideReader object at 0x7f4137812ea0> True (375, 300, 3)\n",
      "<Slide, name = B_213-ST_BFIW-SE_1221_processed>, width=300, height=375, channels=3, levels=1, RGB=True, dtype=uint8> <valis.slide_io.VipsSlideReader object at 0x7f413782ac00> True (375, 300, 3)\n",
      "<Slide, name = B_213-ST_BFIW-SE_1222_processed>, width=300, height=375, channels=3, levels=1, RGB=True, dtype=uint8> <valis.slide_io.VipsSlideReader object at 0x7f41378329f0> True (375, 300, 3)\n",
      "<Slide, name = B_213-ST_BFIW-SE_1223_processed>, width=300, height=375, channels=3, levels=1, RGB=True, dtype=uint8> <valis.slide_io.VipsSlideReader object at 0x7f4137832ed0> True (375, 300, 3)\n",
      "<Slide, name = B_213-ST_BFIW-SE_1224_processed>, width=300, height=375, channels=3, levels=1, RGB=True, dtype=uint8> <valis.slide_io.VipsSlideReader object at 0x7f4137832c90> True (375, 300, 3)\n",
      "<Slide, name = B_213-ST_BFIW-SE_1225_processed>, width=300, height=375, channels=3, levels=1, RGB=True, dtype=uint8> <valis.slide_io.VipsSlideReader object at 0x7f4137822f60> True (375, 300, 3)\n",
      "<Slide, name = B_213-ST_BFIW-SE_1226_processed>, width=300, height=375, channels=3, levels=1, RGB=True, dtype=uint8> <valis.slide_io.VipsSlideReader object at 0x7f4137822e40> True (375, 300, 3)\n"
     ]
    },
    {
     "name": "stderr",
     "output_type": "stream",
     "text": [
      "Converting images:  46%|█████████████████████▍                         | 1200/2627 [00:13<00:16, 87.13image/s]"
     ]
    },
    {
     "name": "stdout",
     "output_type": "stream",
     "text": [
      "<Slide, name = B_213-ST_BFIW-SE_1227_processed>, width=300, height=375, channels=3, levels=1, RGB=True, dtype=uint8> <valis.slide_io.VipsSlideReader object at 0x7f4137dab0b0> True (375, 300, 3)\n",
      "<Slide, name = B_213-ST_BFIW-SE_1228_processed>, width=300, height=375, channels=3, levels=1, RGB=True, dtype=uint8> <valis.slide_io.VipsSlideReader object at 0x7f413782b0e0> True (375, 300, 3)\n",
      "<Slide, name = B_213-ST_BFIW-SE_1229_processed>, width=300, height=375, channels=3, levels=1, RGB=True, dtype=uint8> <valis.slide_io.VipsSlideReader object at 0x7f4137832ff0> True (375, 300, 3)\n",
      "<Slide, name = B_213-ST_BFIW-SE_1230_processed>, width=300, height=375, channels=3, levels=1, RGB=True, dtype=uint8> <valis.slide_io.VipsSlideReader object at 0x7f4137833290> True (375, 300, 3)\n",
      "<Slide, name = B_213-ST_BFIW-SE_1231_processed>, width=300, height=375, channels=3, levels=1, RGB=True, dtype=uint8> <valis.slide_io.VipsSlideReader object at 0x7f4137832f90> True (375, 300, 3)\n",
      "<Slide, name = B_213-ST_BFIW-SE_1232_processed>, width=300, height=375, channels=3, levels=1, RGB=True, dtype=uint8> <valis.slide_io.VipsSlideReader object at 0x7f4137823170> True (375, 300, 3)\n",
      "<Slide, name = B_213-ST_BFIW-SE_1233_processed>, width=300, height=375, channels=3, levels=1, RGB=True, dtype=uint8> <valis.slide_io.VipsSlideReader object at 0x7f4137822ab0> True (375, 300, 3)\n",
      "<Slide, name = B_213-ST_BFIW-SE_1234_processed>, width=300, height=375, channels=3, levels=1, RGB=True, dtype=uint8> <valis.slide_io.VipsSlideReader object at 0x7f413782b320> True (375, 300, 3)\n",
      "<Slide, name = B_213-ST_BFIW-SE_1235_processed>, width=300, height=375, channels=3, levels=1, RGB=True, dtype=uint8> <valis.slide_io.VipsSlideReader object at 0x7f413782b380> True (375, 300, 3)\n"
     ]
    },
    {
     "name": "stderr",
     "output_type": "stream",
     "text": [
      "Converting images:  46%|█████████████████████▋                         | 1209/2627 [00:13<00:16, 87.54image/s]"
     ]
    },
    {
     "name": "stdout",
     "output_type": "stream",
     "text": [
      "<Slide, name = B_213-ST_BFIW-SE_1236_processed>, width=300, height=375, channels=3, levels=1, RGB=True, dtype=uint8> <valis.slide_io.VipsSlideReader object at 0x7f413782b3e0> True (375, 300, 3)\n",
      "<Slide, name = B_213-ST_BFIW-SE_1237_processed>, width=300, height=375, channels=3, levels=1, RGB=True, dtype=uint8> <valis.slide_io.VipsSlideReader object at 0x7f413782b440> True (375, 300, 3)\n",
      "<Slide, name = B_213-ST_BFIW-SE_1238_processed>, width=300, height=375, channels=3, levels=1, RGB=True, dtype=uint8> <valis.slide_io.VipsSlideReader object at 0x7f41378331d0> True (375, 300, 3)\n",
      "<Slide, name = B_213-ST_BFIW-SE_1239_processed>, width=300, height=375, channels=3, levels=1, RGB=True, dtype=uint8> <valis.slide_io.VipsSlideReader object at 0x7f4137823230> True (375, 300, 3)\n",
      "<Slide, name = B_213-ST_BFIW-SE_1240_processed>, width=300, height=375, channels=3, levels=1, RGB=True, dtype=uint8> <valis.slide_io.VipsSlideReader object at 0x7f413782b6e0> True (375, 300, 3)\n",
      "<Slide, name = B_213-ST_BFIW-SE_1241_processed>, width=300, height=375, channels=3, levels=1, RGB=True, dtype=uint8> <valis.slide_io.VipsSlideReader object at 0x7f4137833410> True (375, 300, 3)\n",
      "<Slide, name = B_213-ST_BFIW-SE_1242_processed>, width=300, height=375, channels=3, levels=1, RGB=True, dtype=uint8> <valis.slide_io.VipsSlideReader object at 0x7f4137833590> True (375, 300, 3)\n",
      "<Slide, name = B_213-ST_BFIW-SE_1243_processed>, width=300, height=375, channels=3, levels=1, RGB=True, dtype=uint8> <valis.slide_io.VipsSlideReader object at 0x7f4137813530> True (375, 300, 3)\n",
      "<Slide, name = B_213-ST_BFIW-SE_1244_processed>, width=300, height=375, channels=3, levels=1, RGB=True, dtype=uint8> <valis.slide_io.VipsSlideReader object at 0x7f4137833890> True (375, 300, 3)\n",
      "<Slide, name = B_213-ST_BFIW-SE_1245_processed>, width=300, height=375, channels=3, levels=1, RGB=True, dtype=uint8> <valis.slide_io.VipsSlideReader object at 0x7f413782b620> True (375, 300, 3)\n"
     ]
    },
    {
     "name": "stderr",
     "output_type": "stream",
     "text": [
      "Converting images:  46%|█████████████████████▊                         | 1219/2627 [00:14<00:15, 88.39image/s]"
     ]
    },
    {
     "name": "stdout",
     "output_type": "stream",
     "text": [
      "<Slide, name = B_213-ST_BFIW-SE_1246_processed>, width=300, height=375, channels=3, levels=1, RGB=True, dtype=uint8> <valis.slide_io.VipsSlideReader object at 0x7f41378339b0> True (375, 300, 3)\n",
      "<Slide, name = B_213-ST_BFIW-SE_1247_processed>, width=300, height=375, channels=3, levels=1, RGB=True, dtype=uint8> <valis.slide_io.VipsSlideReader object at 0x7f4137832d50> True (375, 300, 3)\n",
      "<Slide, name = B_213-ST_BFIW-SE_1248_processed>, width=300, height=375, channels=3, levels=1, RGB=True, dtype=uint8> <valis.slide_io.VipsSlideReader object at 0x7f413782b1a0> True (375, 300, 3)\n",
      "<Slide, name = B_213-ST_BFIW-SE_1249_processed>, width=300, height=375, channels=3, levels=1, RGB=True, dtype=uint8> <valis.slide_io.VipsSlideReader object at 0x7f4137833560> True (375, 300, 3)\n",
      "<Slide, name = B_213-ST_BFIW-SE_1250_processed>, width=300, height=375, channels=3, levels=1, RGB=True, dtype=uint8> <valis.slide_io.VipsSlideReader object at 0x7f4137803920> True (375, 300, 3)\n",
      "<Slide, name = B_213-ST_BFIW-SE_1251_processed>, width=300, height=375, channels=3, levels=1, RGB=True, dtype=uint8> <valis.slide_io.VipsSlideReader object at 0x7f413782b9e0> True (375, 300, 3)\n",
      "<Slide, name = B_213-ST_BFIW-SE_1252_processed>, width=300, height=375, channels=3, levels=1, RGB=True, dtype=uint8> <valis.slide_io.VipsSlideReader object at 0x7f4137833950> True (375, 300, 3)\n",
      "<Slide, name = B_213-ST_BFIW-SE_1253_processed>, width=300, height=375, channels=3, levels=1, RGB=True, dtype=uint8> <valis.slide_io.VipsSlideReader object at 0x7f4137823a70> True (375, 300, 3)\n",
      "<Slide, name = B_213-ST_BFIW-SE_1254_processed>, width=300, height=375, channels=3, levels=1, RGB=True, dtype=uint8> <valis.slide_io.VipsSlideReader object at 0x7f4137813740> True (375, 300, 3)\n"
     ]
    },
    {
     "name": "stderr",
     "output_type": "stream",
     "text": [
      "Converting images:  47%|█████████████████████▉                         | 1228/2627 [00:14<00:15, 87.84image/s]"
     ]
    },
    {
     "name": "stdout",
     "output_type": "stream",
     "text": [
      "<Slide, name = B_213-ST_BFIW-SE_1255_processed>, width=300, height=375, channels=3, levels=1, RGB=True, dtype=uint8> <valis.slide_io.VipsSlideReader object at 0x7f4137803b60> True (375, 300, 3)\n",
      "<Slide, name = B_213-ST_BFIW-SE_1256_processed>, width=300, height=375, channels=3, levels=1, RGB=True, dtype=uint8> <valis.slide_io.VipsSlideReader object at 0x7f4137833b30> True (375, 300, 3)\n",
      "<Slide, name = B_213-ST_BFIW-SE_1257_processed>, width=300, height=375, channels=3, levels=1, RGB=True, dtype=uint8> <valis.slide_io.VipsSlideReader object at 0x7f4137823980> True (375, 300, 3)\n",
      "<Slide, name = B_213-ST_BFIW-SE_1258_processed>, width=300, height=375, channels=3, levels=1, RGB=True, dtype=uint8> <valis.slide_io.VipsSlideReader object at 0x7f4137833a10> True (375, 300, 3)\n",
      "<Slide, name = B_213-ST_BFIW-SE_1259_processed>, width=300, height=375, channels=3, levels=1, RGB=True, dtype=uint8> <valis.slide_io.VipsSlideReader object at 0x7f4137823cb0> True (375, 300, 3)\n",
      "<Slide, name = B_213-ST_BFIW-SE_1260_processed>, width=300, height=375, channels=3, levels=1, RGB=True, dtype=uint8> <valis.slide_io.VipsSlideReader object at 0x7f4137803c80> True (375, 300, 3)\n",
      "<Slide, name = B_213-ST_BFIW-SE_1261_processed>, width=300, height=375, channels=3, levels=1, RGB=True, dtype=uint8> <valis.slide_io.VipsSlideReader object at 0x7f42ebf2be00> True (375, 300, 3)\n",
      "<Slide, name = B_213-ST_BFIW-SE_1262_processed>, width=300, height=375, channels=3, levels=1, RGB=True, dtype=uint8> <valis.slide_io.VipsSlideReader object at 0x7f4137833c50> True (375, 300, 3)\n",
      "<Slide, name = B_213-ST_BFIW-SE_1263_processed>, width=300, height=375, channels=3, levels=1, RGB=True, dtype=uint8> <valis.slide_io.VipsSlideReader object at 0x7f413782b770> True (375, 300, 3)\n"
     ]
    },
    {
     "name": "stderr",
     "output_type": "stream",
     "text": [
      "Converting images:  47%|██████████████████████▏                        | 1237/2627 [00:14<00:15, 88.21image/s]"
     ]
    },
    {
     "name": "stdout",
     "output_type": "stream",
     "text": [
      "<Slide, name = B_213-ST_BFIW-SE_1264_processed>, width=300, height=375, channels=3, levels=1, RGB=True, dtype=uint8> <valis.slide_io.VipsSlideReader object at 0x7f4137833dd0> True (375, 300, 3)\n",
      "<Slide, name = B_213-ST_BFIW-SE_1265_processed>, width=300, height=375, channels=3, levels=1, RGB=True, dtype=uint8> <valis.slide_io.VipsSlideReader object at 0x7f4137833f50> True (375, 300, 3)\n",
      "<Slide, name = B_213-ST_BFIW-SE_1266_processed>, width=300, height=375, channels=3, levels=1, RGB=True, dtype=uint8> <valis.slide_io.VipsSlideReader object at 0x7f4137823b00> True (375, 300, 3)\n",
      "<Slide, name = B_213-ST_BFIW-SE_1267_processed>, width=300, height=375, channels=3, levels=1, RGB=True, dtype=uint8> <valis.slide_io.VipsSlideReader object at 0x7f4137823fb0> True (375, 300, 3)\n",
      "<Slide, name = B_213-ST_BFIW-SE_1268_processed>, width=300, height=375, channels=3, levels=1, RGB=True, dtype=uint8> <valis.slide_io.VipsSlideReader object at 0x7f4137833f80> True (375, 300, 3)\n",
      "<Slide, name = B_213-ST_BFIW-SE_1269_processed>, width=300, height=375, channels=3, levels=1, RGB=True, dtype=uint8> <valis.slide_io.VipsSlideReader object at 0x7f4137833d40> True (375, 300, 3)\n",
      "<Slide, name = B_213-ST_BFIW-SE_1270_processed>, width=300, height=375, channels=3, levels=1, RGB=True, dtype=uint8> <valis.slide_io.VipsSlideReader object at 0x7f4137820230> True (375, 300, 3)\n",
      "<Slide, name = B_213-ST_BFIW-SE_1271_processed>, width=300, height=375, channels=3, levels=1, RGB=True, dtype=uint8> <valis.slide_io.VipsSlideReader object at 0x7f41378480b0> True (375, 300, 3)\n",
      "<Slide, name = B_213-ST_BFIW-SE_1272_processed>, width=300, height=375, channels=3, levels=1, RGB=True, dtype=uint8> <valis.slide_io.VipsSlideReader object at 0x7f4137830260> True (375, 300, 3)\n"
     ]
    },
    {
     "name": "stderr",
     "output_type": "stream",
     "text": [
      "Converting images:  47%|██████████████████████▎                        | 1246/2627 [00:14<00:15, 88.46image/s]"
     ]
    },
    {
     "name": "stdout",
     "output_type": "stream",
     "text": [
      "<Slide, name = B_213-ST_BFIW-SE_1273_processed>, width=300, height=375, channels=3, levels=1, RGB=True, dtype=uint8> <valis.slide_io.VipsSlideReader object at 0x7f4137848140> True (375, 300, 3)\n",
      "<Slide, name = B_213-ST_BFIW-SE_1274_processed>, width=300, height=375, channels=3, levels=1, RGB=True, dtype=uint8> <valis.slide_io.VipsSlideReader object at 0x7f4137820320> True (375, 300, 3)\n",
      "<Slide, name = B_213-ST_BFIW-SE_1275_processed>, width=300, height=375, channels=3, levels=1, RGB=True, dtype=uint8> <valis.slide_io.VipsSlideReader object at 0x7f4137830170> True (375, 300, 3)\n",
      "<Slide, name = B_213-ST_BFIW-SE_1276_processed>, width=300, height=375, channels=3, levels=1, RGB=True, dtype=uint8> <valis.slide_io.VipsSlideReader object at 0x7f41378303e0> True (375, 300, 3)\n",
      "<Slide, name = B_213-ST_BFIW-SE_1277_processed>, width=300, height=375, channels=3, levels=1, RGB=True, dtype=uint8> <valis.slide_io.VipsSlideReader object at 0x7f4137828440> True (375, 300, 3)\n",
      "<Slide, name = B_213-ST_BFIW-SE_1278_processed>, width=300, height=375, channels=3, levels=1, RGB=True, dtype=uint8> <valis.slide_io.VipsSlideReader object at 0x7f41378304a0> True (375, 300, 3)\n",
      "<Slide, name = B_213-ST_BFIW-SE_1279_processed>, width=300, height=375, channels=3, levels=1, RGB=True, dtype=uint8> <valis.slide_io.VipsSlideReader object at 0x7f4137810530> True (375, 300, 3)\n",
      "<Slide, name = B_213-ST_BFIW-SE_1280_processed>, width=300, height=375, channels=3, levels=1, RGB=True, dtype=uint8> <valis.slide_io.VipsSlideReader object at 0x7f4137848410> True (375, 300, 3)\n",
      "<Slide, name = B_213-ST_BFIW-SE_1281_processed>, width=300, height=375, channels=3, levels=1, RGB=True, dtype=uint8> <valis.slide_io.VipsSlideReader object at 0x7f41378305f0> True (375, 300, 3)\n"
     ]
    },
    {
     "name": "stderr",
     "output_type": "stream",
     "text": [
      "Converting images:  48%|██████████████████████▍                        | 1255/2627 [00:14<00:15, 88.43image/s]"
     ]
    },
    {
     "name": "stdout",
     "output_type": "stream",
     "text": [
      "<Slide, name = B_213-ST_BFIW-SE_1282_processed>, width=300, height=375, channels=3, levels=1, RGB=True, dtype=uint8> <valis.slide_io.VipsSlideReader object at 0x7f41378202c0> True (375, 300, 3)\n",
      "<Slide, name = B_213-ST_BFIW-SE_1283_processed>, width=300, height=375, channels=3, levels=1, RGB=True, dtype=uint8> <valis.slide_io.VipsSlideReader object at 0x7f41378286b0> True (375, 300, 3)\n",
      "<Slide, name = B_213-ST_BFIW-SE_1284_processed>, width=300, height=375, channels=3, levels=1, RGB=True, dtype=uint8> <valis.slide_io.VipsSlideReader object at 0x7f41378484d0> True (375, 300, 3)\n",
      "<Slide, name = B_213-ST_BFIW-SE_1285_processed>, width=300, height=375, channels=3, levels=1, RGB=True, dtype=uint8> <valis.slide_io.VipsSlideReader object at 0x7f4137828770> True (375, 300, 3)\n",
      "<Slide, name = B_213-ST_BFIW-SE_1286_processed>, width=300, height=375, channels=3, levels=1, RGB=True, dtype=uint8> <valis.slide_io.VipsSlideReader object at 0x7f41378487a0> True (375, 300, 3)\n",
      "<Slide, name = B_213-ST_BFIW-SE_1287_processed>, width=300, height=375, channels=3, levels=1, RGB=True, dtype=uint8> <valis.slide_io.VipsSlideReader object at 0x7f4137828830> True (375, 300, 3)\n",
      "<Slide, name = B_213-ST_BFIW-SE_1288_processed>, width=300, height=375, channels=3, levels=1, RGB=True, dtype=uint8> <valis.slide_io.VipsSlideReader object at 0x7f4137848920> True (375, 300, 3)\n",
      "<Slide, name = B_213-ST_BFIW-SE_1289_processed>, width=300, height=375, channels=3, levels=1, RGB=True, dtype=uint8> <valis.slide_io.VipsSlideReader object at 0x7f41378288f0> True (375, 300, 3)\n",
      "<Slide, name = B_213-ST_BFIW-SE_1290_processed>, width=300, height=375, channels=3, levels=1, RGB=True, dtype=uint8> <valis.slide_io.VipsSlideReader object at 0x7f41378287d0> True (375, 300, 3)\n"
     ]
    },
    {
     "name": "stderr",
     "output_type": "stream",
     "text": [
      "Converting images:  48%|██████████████████████▌                        | 1264/2627 [00:14<00:15, 88.70image/s]"
     ]
    },
    {
     "name": "stdout",
     "output_type": "stream",
     "text": [
      "<Slide, name = B_213-ST_BFIW-SE_1291_processed>, width=300, height=375, channels=3, levels=1, RGB=True, dtype=uint8> <valis.slide_io.VipsSlideReader object at 0x7f41378309b0> True (375, 300, 3)\n",
      "<Slide, name = B_213-ST_BFIW-SE_1292_processed>, width=300, height=375, channels=3, levels=1, RGB=True, dtype=uint8> <valis.slide_io.VipsSlideReader object at 0x7f4137848890> True (375, 300, 3)\n",
      "<Slide, name = B_213-ST_BFIW-SE_1293_processed>, width=300, height=375, channels=3, levels=1, RGB=True, dtype=uint8> <valis.slide_io.VipsSlideReader object at 0x7f4137810a70> True (375, 300, 3)\n",
      "<Slide, name = B_213-ST_BFIW-SE_1294_processed>, width=300, height=375, channels=3, levels=1, RGB=True, dtype=uint8> <valis.slide_io.VipsSlideReader object at 0x7f4137848aa0> True (375, 300, 3)\n",
      "<Slide, name = B_213-ST_BFIW-SE_1295_processed>, width=300, height=375, channels=3, levels=1, RGB=True, dtype=uint8> <valis.slide_io.VipsSlideReader object at 0x7f4137828b30> True (375, 300, 3)\n",
      "<Slide, name = B_213-ST_BFIW-SE_1296_processed>, width=300, height=375, channels=3, levels=1, RGB=True, dtype=uint8> <valis.slide_io.VipsSlideReader object at 0x7f4137848c20> True (375, 300, 3)\n",
      "<Slide, name = B_213-ST_BFIW-SE_1297_processed>, width=300, height=375, channels=3, levels=1, RGB=True, dtype=uint8> <valis.slide_io.VipsSlideReader object at 0x7f4137848950> True (375, 300, 3)\n",
      "<Slide, name = B_213-ST_BFIW-SE_1298_processed>, width=300, height=375, channels=3, levels=1, RGB=True, dtype=uint8> <valis.slide_io.VipsSlideReader object at 0x7f4137848ad0> True (375, 300, 3)\n",
      "<Slide, name = B_213-ST_BFIW-SE_1299_processed>, width=300, height=375, channels=3, levels=1, RGB=True, dtype=uint8> <valis.slide_io.VipsSlideReader object at 0x7f4137828e30> True (375, 300, 3)\n"
     ]
    },
    {
     "name": "stderr",
     "output_type": "stream",
     "text": [
      "Converting images:  48%|██████████████████████▊                        | 1273/2627 [00:14<00:15, 88.64image/s]"
     ]
    },
    {
     "name": "stdout",
     "output_type": "stream",
     "text": [
      "<Slide, name = B_213-ST_BFIW-SE_1300_processed>, width=300, height=375, channels=3, levels=1, RGB=True, dtype=uint8> <valis.slide_io.VipsSlideReader object at 0x7f4137848f20> True (375, 300, 3)\n",
      "<Slide, name = B_213-ST_BFIW-SE_1301_processed>, width=300, height=375, channels=3, levels=1, RGB=True, dtype=uint8> <valis.slide_io.VipsSlideReader object at 0x7f4137830ec0> True (375, 300, 3)\n",
      "<Slide, name = B_213-ST_BFIW-SE_1302_processed>, width=300, height=375, channels=3, levels=1, RGB=True, dtype=uint8> <valis.slide_io.VipsSlideReader object at 0x7f4137848d40> True (375, 300, 3)\n",
      "<Slide, name = B_213-ST_BFIW-SE_1303_processed>, width=300, height=375, channels=3, levels=1, RGB=True, dtype=uint8> <valis.slide_io.VipsSlideReader object at 0x7f4137848dd0> True (375, 300, 3)\n",
      "<Slide, name = B_213-ST_BFIW-SE_1304_processed>, width=300, height=375, channels=3, levels=1, RGB=True, dtype=uint8> <valis.slide_io.VipsSlideReader object at 0x7f4137830e00> True (375, 300, 3)\n",
      "<Slide, name = B_213-ST_BFIW-SE_1305_processed>, width=300, height=375, channels=3, levels=1, RGB=True, dtype=uint8> <valis.slide_io.VipsSlideReader object at 0x7f4137848e90> True (375, 300, 3)\n",
      "<Slide, name = B_213-ST_BFIW-SE_1306_processed>, width=300, height=375, channels=3, levels=1, RGB=True, dtype=uint8> <valis.slide_io.VipsSlideReader object at 0x7f4137830f80> True (375, 300, 3)\n",
      "<Slide, name = B_213-ST_BFIW-SE_1307_processed>, width=300, height=375, channels=3, levels=1, RGB=True, dtype=uint8> <valis.slide_io.VipsSlideReader object at 0x7f4137849070> True (375, 300, 3)\n",
      "<Slide, name = B_213-ST_BFIW-SE_1308_processed>, width=300, height=375, channels=3, levels=1, RGB=True, dtype=uint8> <valis.slide_io.VipsSlideReader object at 0x7f4137829040> True (375, 300, 3)\n",
      "<Slide, name = B_213-ST_BFIW-SE_1309_processed>, width=300, height=375, channels=3, levels=1, RGB=True, dtype=uint8> <valis.slide_io.VipsSlideReader object at 0x7f4137820ef0> True (375, 300, 3)\n"
     ]
    },
    {
     "name": "stderr",
     "output_type": "stream",
     "text": [
      "Converting images:  49%|██████████████████████▉                        | 1283/2627 [00:14<00:15, 89.01image/s]"
     ]
    },
    {
     "name": "stdout",
     "output_type": "stream",
     "text": [
      "<Slide, name = B_213-ST_BFIW-SE_1310_processed>, width=300, height=375, channels=3, levels=1, RGB=True, dtype=uint8> <valis.slide_io.VipsSlideReader object at 0x7f4137831100> True (375, 300, 3)\n",
      "<Slide, name = B_213-ST_BFIW-SE_1311_processed>, width=300, height=375, channels=3, levels=1, RGB=True, dtype=uint8> <valis.slide_io.VipsSlideReader object at 0x7f4137848fe0> True (375, 300, 3)\n",
      "<Slide, name = B_213-ST_BFIW-SE_1312_processed>, width=300, height=375, channels=3, levels=1, RGB=True, dtype=uint8> <valis.slide_io.VipsSlideReader object at 0x7f4137831130> True (375, 300, 3)\n",
      "<Slide, name = B_213-ST_BFIW-SE_1313_processed>, width=300, height=375, channels=3, levels=1, RGB=True, dtype=uint8> <valis.slide_io.VipsSlideReader object at 0x7f4137829370> True (375, 300, 3)\n",
      "<Slide, name = B_213-ST_BFIW-SE_1314_processed>, width=300, height=375, channels=3, levels=1, RGB=True, dtype=uint8> <valis.slide_io.VipsSlideReader object at 0x7f41378490a0> True (375, 300, 3)\n",
      "<Slide, name = B_213-ST_BFIW-SE_1315_processed>, width=300, height=375, channels=3, levels=1, RGB=True, dtype=uint8> <valis.slide_io.VipsSlideReader object at 0x7f4137831340> True (375, 300, 3)\n",
      "<Slide, name = B_213-ST_BFIW-SE_1316_processed>, width=300, height=375, channels=3, levels=1, RGB=True, dtype=uint8> <valis.slide_io.VipsSlideReader object at 0x7f41378491f0> True (375, 300, 3)\n",
      "<Slide, name = B_213-ST_BFIW-SE_1317_processed>, width=300, height=375, channels=3, levels=1, RGB=True, dtype=uint8> <valis.slide_io.VipsSlideReader object at 0x7f4137849190> True (375, 300, 3)\n",
      "<Slide, name = B_213-ST_BFIW-SE_1318_processed>, width=300, height=375, channels=3, levels=1, RGB=True, dtype=uint8> <valis.slide_io.VipsSlideReader object at 0x7f41378493d0> True (375, 300, 3)\n"
     ]
    },
    {
     "name": "stderr",
     "output_type": "stream",
     "text": [
      "Converting images:  49%|███████████████████████                        | 1292/2627 [00:14<00:15, 87.83image/s]"
     ]
    },
    {
     "name": "stdout",
     "output_type": "stream",
     "text": [
      "<Slide, name = B_213-ST_BFIW-SE_1319_processed>, width=300, height=375, channels=3, levels=1, RGB=True, dtype=uint8> <valis.slide_io.VipsSlideReader object at 0x7f4137848b90> True (375, 300, 3)\n",
      "<Slide, name = B_213-ST_BFIW-SE_1320_processed>, width=300, height=375, channels=3, levels=1, RGB=True, dtype=uint8> <valis.slide_io.VipsSlideReader object at 0x7f41378312b0> True (375, 300, 3)\n",
      "<Slide, name = B_213-ST_BFIW-SE_1321_processed>, width=300, height=375, channels=3, levels=1, RGB=True, dtype=uint8> <valis.slide_io.VipsSlideReader object at 0x7f4137831400> True (375, 300, 3)\n",
      "<Slide, name = B_213-ST_BFIW-SE_1322_processed>, width=300, height=375, channels=3, levels=1, RGB=True, dtype=uint8> <valis.slide_io.VipsSlideReader object at 0x7f41378295b0> True (375, 300, 3)\n",
      "<Slide, name = B_213-ST_BFIW-SE_1323_processed>, width=300, height=375, channels=3, levels=1, RGB=True, dtype=uint8> <valis.slide_io.VipsSlideReader object at 0x7f4137849640> True (375, 300, 3)\n",
      "<Slide, name = B_213-ST_BFIW-SE_1324_processed>, width=300, height=375, channels=3, levels=1, RGB=True, dtype=uint8> <valis.slide_io.VipsSlideReader object at 0x7f4137831670> True (375, 300, 3)\n",
      "<Slide, name = B_213-ST_BFIW-SE_1325_processed>, width=300, height=375, channels=3, levels=1, RGB=True, dtype=uint8> <valis.slide_io.VipsSlideReader object at 0x7f41378496a0> True (375, 300, 3)\n",
      "<Slide, name = B_213-ST_BFIW-SE_1326_processed>, width=300, height=375, channels=3, levels=1, RGB=True, dtype=uint8> <valis.slide_io.VipsSlideReader object at 0x7f4137831730> True (375, 300, 3)\n",
      "<Slide, name = B_213-ST_BFIW-SE_1327_processed>, width=300, height=375, channels=3, levels=1, RGB=True, dtype=uint8> <valis.slide_io.VipsSlideReader object at 0x7f4137849820> True (375, 300, 3)\n"
     ]
    },
    {
     "name": "stderr",
     "output_type": "stream",
     "text": [
      "Converting images:  50%|███████████████████████▎                       | 1301/2627 [00:14<00:15, 87.38image/s]"
     ]
    },
    {
     "name": "stdout",
     "output_type": "stream",
     "text": [
      "<Slide, name = B_213-ST_BFIW-SE_1328_processed>, width=300, height=375, channels=3, levels=1, RGB=True, dtype=uint8> <valis.slide_io.VipsSlideReader object at 0x7f41378317f0> True (375, 300, 3)\n",
      "<Slide, name = B_213-ST_BFIW-SE_1329_processed>, width=300, height=375, channels=3, levels=1, RGB=True, dtype=uint8> <valis.slide_io.VipsSlideReader object at 0x7f41378498e0> True (375, 300, 3)\n",
      "<Slide, name = B_213-ST_BFIW-SE_1330_processed>, width=300, height=375, channels=3, levels=1, RGB=True, dtype=uint8> <valis.slide_io.VipsSlideReader object at 0x7f41378298b0> True (375, 300, 3)\n",
      "<Slide, name = B_213-ST_BFIW-SE_1331_processed>, width=300, height=375, channels=3, levels=1, RGB=True, dtype=uint8> <valis.slide_io.VipsSlideReader object at 0x7f41378499a0> True (375, 300, 3)\n",
      "<Slide, name = B_213-ST_BFIW-SE_1332_processed>, width=300, height=375, channels=3, levels=1, RGB=True, dtype=uint8> <valis.slide_io.VipsSlideReader object at 0x7f4137849790> True (375, 300, 3)\n",
      "<Slide, name = B_213-ST_BFIW-SE_1333_processed>, width=300, height=375, channels=3, levels=1, RGB=True, dtype=uint8> <valis.slide_io.VipsSlideReader object at 0x7f4137849850> True (375, 300, 3)\n",
      "<Slide, name = B_213-ST_BFIW-SE_1334_processed>, width=300, height=375, channels=3, levels=1, RGB=True, dtype=uint8> <valis.slide_io.VipsSlideReader object at 0x7f4137821b80> True (375, 300, 3)\n",
      "<Slide, name = B_213-ST_BFIW-SE_1335_processed>, width=300, height=375, channels=3, levels=1, RGB=True, dtype=uint8> <valis.slide_io.VipsSlideReader object at 0x7f4137821b20> True (375, 300, 3)\n",
      "<Slide, name = B_213-ST_BFIW-SE_1336_processed>, width=300, height=375, channels=3, levels=1, RGB=True, dtype=uint8> <valis.slide_io.VipsSlideReader object at 0x7f4137849610> True (375, 300, 3)\n"
     ]
    },
    {
     "name": "stderr",
     "output_type": "stream",
     "text": [
      "Converting images:  50%|███████████████████████▍                       | 1310/2627 [00:15<00:15, 86.93image/s]"
     ]
    },
    {
     "name": "stdout",
     "output_type": "stream",
     "text": [
      "<Slide, name = B_213-ST_BFIW-SE_1337_processed>, width=300, height=375, channels=3, levels=1, RGB=True, dtype=uint8> <valis.slide_io.VipsSlideReader object at 0x7f4137831bb0> True (375, 300, 3)\n",
      "<Slide, name = B_213-ST_BFIW-SE_1338_processed>, width=300, height=375, channels=3, levels=1, RGB=True, dtype=uint8> <valis.slide_io.VipsSlideReader object at 0x7f4137849250> True (375, 300, 3)\n",
      "<Slide, name = B_213-ST_BFIW-SE_1339_processed>, width=300, height=375, channels=3, levels=1, RGB=True, dtype=uint8> <valis.slide_io.VipsSlideReader object at 0x7f4137811c40> True (375, 300, 3)\n",
      "<Slide, name = B_213-ST_BFIW-SE_1340_processed>, width=300, height=375, channels=3, levels=1, RGB=True, dtype=uint8> <valis.slide_io.VipsSlideReader object at 0x7f4137849d30> True (375, 300, 3)\n",
      "<Slide, name = B_213-ST_BFIW-SE_1341_processed>, width=300, height=375, channels=3, levels=1, RGB=True, dtype=uint8> <valis.slide_io.VipsSlideReader object at 0x7f4137829d00> True (375, 300, 3)\n",
      "<Slide, name = B_213-ST_BFIW-SE_1342_processed>, width=300, height=375, channels=3, levels=1, RGB=True, dtype=uint8> <valis.slide_io.VipsSlideReader object at 0x7f4137801be0> True (375, 300, 3)\n",
      "<Slide, name = B_213-ST_BFIW-SE_1343_processed>, width=300, height=375, channels=3, levels=1, RGB=True, dtype=uint8> <valis.slide_io.VipsSlideReader object at 0x7f4137829dc0> True (375, 300, 3)\n",
      "<Slide, name = B_213-ST_BFIW-SE_1344_processed>, width=300, height=375, channels=3, levels=1, RGB=True, dtype=uint8> <valis.slide_io.VipsSlideReader object at 0x7f4137801e20> True (375, 300, 3)\n",
      "<Slide, name = B_213-ST_BFIW-SE_1345_processed>, width=300, height=375, channels=3, levels=1, RGB=True, dtype=uint8> <valis.slide_io.VipsSlideReader object at 0x7f4137829e80> True (375, 300, 3)\n"
     ]
    },
    {
     "name": "stderr",
     "output_type": "stream",
     "text": [
      "Converting images:  50%|███████████████████████▌                       | 1319/2627 [00:15<00:14, 87.78image/s]"
     ]
    },
    {
     "name": "stdout",
     "output_type": "stream",
     "text": [
      "<Slide, name = B_213-ST_BFIW-SE_1346_processed>, width=300, height=375, channels=3, levels=1, RGB=True, dtype=uint8> <valis.slide_io.VipsSlideReader object at 0x7f4137849c10> True (375, 300, 3)\n",
      "<Slide, name = B_213-ST_BFIW-SE_1347_processed>, width=300, height=375, channels=3, levels=1, RGB=True, dtype=uint8> <valis.slide_io.VipsSlideReader object at 0x7f4137821ca0> True (375, 300, 3)\n",
      "<Slide, name = B_213-ST_BFIW-SE_1348_processed>, width=300, height=375, channels=3, levels=1, RGB=True, dtype=uint8> <valis.slide_io.VipsSlideReader object at 0x7f41378320f0> True (375, 300, 3)\n",
      "<Slide, name = B_213-ST_BFIW-SE_1349_processed>, width=300, height=375, channels=3, levels=1, RGB=True, dtype=uint8> <valis.slide_io.VipsSlideReader object at 0x7f4137849d60> True (375, 300, 3)\n",
      "<Slide, name = B_213-ST_BFIW-SE_1350_processed>, width=300, height=375, channels=3, levels=1, RGB=True, dtype=uint8> <valis.slide_io.VipsSlideReader object at 0x7f41378320c0> True (375, 300, 3)\n",
      "<Slide, name = B_213-ST_BFIW-SE_1351_processed>, width=300, height=375, channels=3, levels=1, RGB=True, dtype=uint8> <valis.slide_io.VipsSlideReader object at 0x7f4137849eb0> True (375, 300, 3)\n",
      "<Slide, name = B_213-ST_BFIW-SE_1352_processed>, width=300, height=375, channels=3, levels=1, RGB=True, dtype=uint8> <valis.slide_io.VipsSlideReader object at 0x7f4137849f10> True (375, 300, 3)\n",
      "<Slide, name = B_213-ST_BFIW-SE_1353_processed>, width=300, height=375, channels=3, levels=1, RGB=True, dtype=uint8> <valis.slide_io.VipsSlideReader object at 0x7f4137831df0> True (375, 300, 3)\n",
      "<Slide, name = B_213-ST_BFIW-SE_1354_processed>, width=300, height=375, channels=3, levels=1, RGB=True, dtype=uint8> <valis.slide_io.VipsSlideReader object at 0x7f413784a1b0> True (375, 300, 3)\n"
     ]
    },
    {
     "name": "stderr",
     "output_type": "stream",
     "text": [
      "Converting images:  51%|███████████████████████▊                       | 1328/2627 [00:15<00:14, 88.28image/s]"
     ]
    },
    {
     "name": "stdout",
     "output_type": "stream",
     "text": [
      "<Slide, name = B_213-ST_BFIW-SE_1355_processed>, width=300, height=375, channels=3, levels=1, RGB=True, dtype=uint8> <valis.slide_io.VipsSlideReader object at 0x7f4137812270> True (375, 300, 3)\n",
      "<Slide, name = B_213-ST_BFIW-SE_1356_processed>, width=300, height=375, channels=3, levels=1, RGB=True, dtype=uint8> <valis.slide_io.VipsSlideReader object at 0x7f4137832300> True (375, 300, 3)\n",
      "<Slide, name = B_213-ST_BFIW-SE_1357_processed>, width=300, height=375, channels=3, levels=1, RGB=True, dtype=uint8> <valis.slide_io.VipsSlideReader object at 0x7f4137832330> True (375, 300, 3)\n",
      "<Slide, name = B_213-ST_BFIW-SE_1358_processed>, width=300, height=375, channels=3, levels=1, RGB=True, dtype=uint8> <valis.slide_io.VipsSlideReader object at 0x7f413784a210> True (375, 300, 3)\n",
      "<Slide, name = B_213-ST_BFIW-SE_1359_processed>, width=300, height=375, channels=3, levels=1, RGB=True, dtype=uint8> <valis.slide_io.VipsSlideReader object at 0x7f413782a3f0> True (375, 300, 3)\n",
      "<Slide, name = B_213-ST_BFIW-SE_1360_processed>, width=300, height=375, channels=3, levels=1, RGB=True, dtype=uint8> <valis.slide_io.VipsSlideReader object at 0x7f413784a420> True (375, 300, 3)\n",
      "<Slide, name = B_213-ST_BFIW-SE_1361_processed>, width=300, height=375, channels=3, levels=1, RGB=True, dtype=uint8> <valis.slide_io.VipsSlideReader object at 0x7f41378324b0> True (375, 300, 3)\n",
      "<Slide, name = B_213-ST_BFIW-SE_1362_processed>, width=300, height=375, channels=3, levels=1, RGB=True, dtype=uint8> <valis.slide_io.VipsSlideReader object at 0x7f413784a5a0> True (375, 300, 3)\n",
      "<Slide, name = B_213-ST_BFIW-SE_1363_processed>, width=300, height=375, channels=3, levels=1, RGB=True, dtype=uint8> <valis.slide_io.VipsSlideReader object at 0x7f4137832570> True (375, 300, 3)\n"
     ]
    },
    {
     "name": "stderr",
     "output_type": "stream",
     "text": [
      "Converting images:  51%|███████████████████████▉                       | 1337/2627 [00:15<00:14, 88.22image/s]"
     ]
    },
    {
     "name": "stdout",
     "output_type": "stream",
     "text": [
      "<Slide, name = B_213-ST_BFIW-SE_1364_processed>, width=300, height=375, channels=3, levels=1, RGB=True, dtype=uint8> <valis.slide_io.VipsSlideReader object at 0x7f413784a660> True (375, 300, 3)\n",
      "<Slide, name = B_213-ST_BFIW-SE_1365_processed>, width=300, height=375, channels=3, levels=1, RGB=True, dtype=uint8> <valis.slide_io.VipsSlideReader object at 0x7f413782a630> True (375, 300, 3)\n",
      "<Slide, name = B_213-ST_BFIW-SE_1366_processed>, width=300, height=375, channels=3, levels=1, RGB=True, dtype=uint8> <valis.slide_io.VipsSlideReader object at 0x7f413784a720> True (375, 300, 3)\n",
      "<Slide, name = B_213-ST_BFIW-SE_1367_processed>, width=300, height=375, channels=3, levels=1, RGB=True, dtype=uint8> <valis.slide_io.VipsSlideReader object at 0x7f41378126f0> True (375, 300, 3)\n",
      "<Slide, name = B_213-ST_BFIW-SE_1368_processed>, width=300, height=375, channels=3, levels=1, RGB=True, dtype=uint8> <valis.slide_io.VipsSlideReader object at 0x7f413784a7e0> True (375, 300, 3)\n",
      "<Slide, name = B_213-ST_BFIW-SE_1369_processed>, width=300, height=375, channels=3, levels=1, RGB=True, dtype=uint8> <valis.slide_io.VipsSlideReader object at 0x7f41378327b0> True (375, 300, 3)\n",
      "<Slide, name = B_213-ST_BFIW-SE_1370_processed>, width=300, height=375, channels=3, levels=1, RGB=True, dtype=uint8> <valis.slide_io.VipsSlideReader object at 0x7f413784a8a0> True (375, 300, 3)\n",
      "<Slide, name = B_213-ST_BFIW-SE_1371_processed>, width=300, height=375, channels=3, levels=1, RGB=True, dtype=uint8> <valis.slide_io.VipsSlideReader object at 0x7f4137832870> True (375, 300, 3)\n",
      "<Slide, name = B_213-ST_BFIW-SE_1372_processed>, width=300, height=375, channels=3, levels=1, RGB=True, dtype=uint8> <valis.slide_io.VipsSlideReader object at 0x7f413784a960> True (375, 300, 3)\n"
     ]
    },
    {
     "name": "stderr",
     "output_type": "stream",
     "text": [
      "Converting images:  51%|████████████████████████                       | 1346/2627 [00:15<00:14, 88.02image/s]"
     ]
    },
    {
     "name": "stdout",
     "output_type": "stream",
     "text": [
      "<Slide, name = B_213-ST_BFIW-SE_1373_processed>, width=300, height=375, channels=3, levels=1, RGB=True, dtype=uint8> <valis.slide_io.VipsSlideReader object at 0x7f413782a930> True (375, 300, 3)\n",
      "<Slide, name = B_213-ST_BFIW-SE_1374_processed>, width=300, height=375, channels=3, levels=1, RGB=True, dtype=uint8> <valis.slide_io.VipsSlideReader object at 0x7f413784aa20> True (375, 300, 3)\n",
      "<Slide, name = B_213-ST_BFIW-SE_1375_processed>, width=300, height=375, channels=3, levels=1, RGB=True, dtype=uint8> <valis.slide_io.VipsSlideReader object at 0x7f41378229f0> True (375, 300, 3)\n",
      "<Slide, name = B_213-ST_BFIW-SE_1376_processed>, width=300, height=375, channels=3, levels=1, RGB=True, dtype=uint8> <valis.slide_io.VipsSlideReader object at 0x7f413784aae0> True (375, 300, 3)\n",
      "<Slide, name = B_213-ST_BFIW-SE_1377_processed>, width=300, height=375, channels=3, levels=1, RGB=True, dtype=uint8> <valis.slide_io.VipsSlideReader object at 0x7f4137832ab0> True (375, 300, 3)\n",
      "<Slide, name = B_213-ST_BFIW-SE_1378_processed>, width=300, height=375, channels=3, levels=1, RGB=True, dtype=uint8> <valis.slide_io.VipsSlideReader object at 0x7f413784aba0> True (375, 300, 3)\n",
      "<Slide, name = B_213-ST_BFIW-SE_1379_processed>, width=300, height=375, channels=3, levels=1, RGB=True, dtype=uint8> <valis.slide_io.VipsSlideReader object at 0x7f4137832b70> True (375, 300, 3)\n",
      "<Slide, name = B_213-ST_BFIW-SE_1380_processed>, width=300, height=375, channels=3, levels=1, RGB=True, dtype=uint8> <valis.slide_io.VipsSlideReader object at 0x7f413784ac60> True (375, 300, 3)\n",
      "<Slide, name = B_213-ST_BFIW-SE_1381_processed>, width=300, height=375, channels=3, levels=1, RGB=True, dtype=uint8> <valis.slide_io.VipsSlideReader object at 0x7f413784aa50> True (375, 300, 3)\n"
     ]
    },
    {
     "name": "stderr",
     "output_type": "stream",
     "text": [
      "Converting images:  52%|████████████████████████▏                      | 1355/2627 [00:15<00:14, 88.16image/s]"
     ]
    },
    {
     "name": "stdout",
     "output_type": "stream",
     "text": [
      "<Slide, name = B_213-ST_BFIW-SE_1382_processed>, width=300, height=375, channels=3, levels=1, RGB=True, dtype=uint8> <valis.slide_io.VipsSlideReader object at 0x7f413784ab10> True (375, 300, 3)\n",
      "<Slide, name = B_213-ST_BFIW-SE_1383_processed>, width=300, height=375, channels=3, levels=1, RGB=True, dtype=uint8> <valis.slide_io.VipsSlideReader object at 0x7f4137832e40> True (375, 300, 3)\n",
      "<Slide, name = B_213-ST_BFIW-SE_1384_processed>, width=300, height=375, channels=3, levels=1, RGB=True, dtype=uint8> <valis.slide_io.VipsSlideReader object at 0x7f413784ac90> True (375, 300, 3)\n",
      "<Slide, name = B_213-ST_BFIW-SE_1385_processed>, width=300, height=375, channels=3, levels=1, RGB=True, dtype=uint8> <valis.slide_io.VipsSlideReader object at 0x7f413784ae10> True (375, 300, 3)\n",
      "<Slide, name = B_213-ST_BFIW-SE_1386_processed>, width=300, height=375, channels=3, levels=1, RGB=True, dtype=uint8> <valis.slide_io.VipsSlideReader object at 0x7f413784ad50> True (375, 300, 3)\n",
      "<Slide, name = B_213-ST_BFIW-SE_1387_processed>, width=300, height=375, channels=3, levels=1, RGB=True, dtype=uint8> <valis.slide_io.VipsSlideReader object at 0x7f413784af90> True (375, 300, 3)\n",
      "<Slide, name = B_213-ST_BFIW-SE_1388_processed>, width=300, height=375, channels=3, levels=1, RGB=True, dtype=uint8> <valis.slide_io.VipsSlideReader object at 0x7f4137812cc0> True (375, 300, 3)\n",
      "<Slide, name = B_213-ST_BFIW-SE_1389_processed>, width=300, height=375, channels=3, levels=1, RGB=True, dtype=uint8> <valis.slide_io.VipsSlideReader object at 0x7f4137832ea0> True (375, 300, 3)\n",
      "<Slide, name = B_213-ST_BFIW-SE_1390_processed>, width=300, height=375, channels=3, levels=1, RGB=True, dtype=uint8> <valis.slide_io.VipsSlideReader object at 0x7f4137822ff0> True (375, 300, 3)\n"
     ]
    },
    {
     "name": "stderr",
     "output_type": "stream",
     "text": [
      "Converting images:  52%|████████████████████████▍                      | 1364/2627 [00:15<00:14, 88.04image/s]"
     ]
    },
    {
     "name": "stdout",
     "output_type": "stream",
     "text": [
      "<Slide, name = B_213-ST_BFIW-SE_1391_processed>, width=300, height=375, channels=3, levels=1, RGB=True, dtype=uint8> <valis.slide_io.VipsSlideReader object at 0x7f413784b080> True (375, 300, 3)\n",
      "<Slide, name = B_213-ST_BFIW-SE_1392_processed>, width=300, height=375, channels=3, levels=1, RGB=True, dtype=uint8> <valis.slide_io.VipsSlideReader object at 0x7f41378330e0> True (375, 300, 3)\n",
      "<Slide, name = B_213-ST_BFIW-SE_1393_processed>, width=300, height=375, channels=3, levels=1, RGB=True, dtype=uint8> <valis.slide_io.VipsSlideReader object at 0x7f4137832f60> True (375, 300, 3)\n",
      "<Slide, name = B_213-ST_BFIW-SE_1394_processed>, width=300, height=375, channels=3, levels=1, RGB=True, dtype=uint8> <valis.slide_io.VipsSlideReader object at 0x7f4137812d80> True (375, 300, 3)\n",
      "<Slide, name = B_213-ST_BFIW-SE_1395_processed>, width=300, height=375, channels=3, levels=1, RGB=True, dtype=uint8> <valis.slide_io.VipsSlideReader object at 0x7f4137833170> True (375, 300, 3)\n",
      "<Slide, name = B_213-ST_BFIW-SE_1396_processed>, width=300, height=375, channels=3, levels=1, RGB=True, dtype=uint8> <valis.slide_io.VipsSlideReader object at 0x7f413784aed0> True (375, 300, 3)\n",
      "<Slide, name = B_213-ST_BFIW-SE_1397_processed>, width=300, height=375, channels=3, levels=1, RGB=True, dtype=uint8> <valis.slide_io.VipsSlideReader object at 0x7f413782b260> True (375, 300, 3)\n",
      "<Slide, name = B_213-ST_BFIW-SE_1398_processed>, width=300, height=375, channels=3, levels=1, RGB=True, dtype=uint8> <valis.slide_io.VipsSlideReader object at 0x7f41378331a0> True (375, 300, 3)\n",
      "<Slide, name = B_213-ST_BFIW-SE_1399_processed>, width=300, height=375, channels=3, levels=1, RGB=True, dtype=uint8> <valis.slide_io.VipsSlideReader object at 0x7f4137833320> True (375, 300, 3)\n"
     ]
    },
    {
     "name": "stderr",
     "output_type": "stream",
     "text": [
      "Converting images:  52%|████████████████████████▌                      | 1373/2627 [00:15<00:14, 88.60image/s]"
     ]
    },
    {
     "name": "stdout",
     "output_type": "stream",
     "text": [
      "<Slide, name = B_213-ST_BFIW-SE_1400_processed>, width=300, height=375, channels=3, levels=1, RGB=True, dtype=uint8> <valis.slide_io.VipsSlideReader object at 0x7f4137833380> True (375, 300, 3)\n",
      "<Slide, name = B_213-ST_BFIW-SE_1401_processed>, width=300, height=375, channels=3, levels=1, RGB=True, dtype=uint8> <valis.slide_io.VipsSlideReader object at 0x7f41378333e0> True (375, 300, 3)\n",
      "<Slide, name = B_213-ST_BFIW-SE_1402_processed>, width=300, height=375, channels=3, levels=1, RGB=True, dtype=uint8> <valis.slide_io.VipsSlideReader object at 0x7f4137833440> True (375, 300, 3)\n",
      "<Slide, name = B_213-ST_BFIW-SE_1403_processed>, width=300, height=375, channels=3, levels=1, RGB=True, dtype=uint8> <valis.slide_io.VipsSlideReader object at 0x7f41378334a0> True (375, 300, 3)\n",
      "<Slide, name = B_213-ST_BFIW-SE_1404_processed>, width=300, height=375, channels=3, levels=1, RGB=True, dtype=uint8> <valis.slide_io.VipsSlideReader object at 0x7f4137803500> True (375, 300, 3)\n",
      "<Slide, name = B_213-ST_BFIW-SE_1405_processed>, width=300, height=375, channels=3, levels=1, RGB=True, dtype=uint8> <valis.slide_io.VipsSlideReader object at 0x7f4137823560> True (375, 300, 3)\n",
      "<Slide, name = B_213-ST_BFIW-SE_1406_processed>, width=300, height=375, channels=3, levels=1, RGB=True, dtype=uint8> <valis.slide_io.VipsSlideReader object at 0x7f41378135c0> True (375, 300, 3)\n",
      "<Slide, name = B_213-ST_BFIW-SE_1407_processed>, width=300, height=375, channels=3, levels=1, RGB=True, dtype=uint8> <valis.slide_io.VipsSlideReader object at 0x7f4137833620> True (375, 300, 3)\n",
      "<Slide, name = B_213-ST_BFIW-SE_1408_processed>, width=300, height=375, channels=3, levels=1, RGB=True, dtype=uint8> <valis.slide_io.VipsSlideReader object at 0x7f413782b680> True (375, 300, 3)\n"
     ]
    },
    {
     "name": "stderr",
     "output_type": "stream",
     "text": [
      "Converting images:  53%|████████████████████████▋                      | 1382/2627 [00:15<00:14, 88.52image/s]"
     ]
    },
    {
     "name": "stdout",
     "output_type": "stream",
     "text": [
      "<Slide, name = B_213-ST_BFIW-SE_1409_processed>, width=300, height=375, channels=3, levels=1, RGB=True, dtype=uint8> <valis.slide_io.VipsSlideReader object at 0x7f413784a810> True (375, 300, 3)\n",
      "<Slide, name = B_213-ST_BFIW-SE_1410_processed>, width=300, height=375, channels=3, levels=1, RGB=True, dtype=uint8> <valis.slide_io.VipsSlideReader object at 0x7f4137833770> True (375, 300, 3)\n",
      "<Slide, name = B_213-ST_BFIW-SE_1411_processed>, width=300, height=375, channels=3, levels=1, RGB=True, dtype=uint8> <valis.slide_io.VipsSlideReader object at 0x7f41378330b0> True (375, 300, 3)\n",
      "<Slide, name = B_213-ST_BFIW-SE_1412_processed>, width=300, height=375, channels=3, levels=1, RGB=True, dtype=uint8> <valis.slide_io.VipsSlideReader object at 0x7f413782b830> True (375, 300, 3)\n",
      "<Slide, name = B_213-ST_BFIW-SE_1413_processed>, width=300, height=375, channels=3, levels=1, RGB=True, dtype=uint8> <valis.slide_io.VipsSlideReader object at 0x7f413784b410> True (375, 300, 3)\n",
      "<Slide, name = B_213-ST_BFIW-SE_1414_processed>, width=300, height=375, channels=3, levels=1, RGB=True, dtype=uint8> <valis.slide_io.VipsSlideReader object at 0x7f413784b890> True (375, 300, 3)\n",
      "<Slide, name = B_213-ST_BFIW-SE_1415_processed>, width=300, height=375, channels=3, levels=1, RGB=True, dtype=uint8> <valis.slide_io.VipsSlideReader object at 0x7f413784b710> True (375, 300, 3)\n",
      "<Slide, name = B_213-ST_BFIW-SE_1416_processed>, width=300, height=375, channels=3, levels=1, RGB=True, dtype=uint8> <valis.slide_io.VipsSlideReader object at 0x7f4137833b00> True (375, 300, 3)\n",
      "<Slide, name = B_213-ST_BFIW-SE_1417_processed>, width=300, height=375, channels=3, levels=1, RGB=True, dtype=uint8> <valis.slide_io.VipsSlideReader object at 0x7f4137be3aa0> True (375, 300, 3)\n"
     ]
    },
    {
     "name": "stderr",
     "output_type": "stream",
     "text": [
      "Converting images:  53%|████████████████████████▉                      | 1391/2627 [00:16<00:14, 87.99image/s]"
     ]
    },
    {
     "name": "stdout",
     "output_type": "stream",
     "text": [
      "<Slide, name = B_213-ST_BFIW-SE_1418_processed>, width=300, height=375, channels=3, levels=1, RGB=True, dtype=uint8> <valis.slide_io.VipsSlideReader object at 0x7f413784b230> True (375, 300, 3)\n",
      "<Slide, name = B_213-ST_BFIW-SE_1419_processed>, width=300, height=375, channels=3, levels=1, RGB=True, dtype=uint8> <valis.slide_io.VipsSlideReader object at 0x7f413784bad0> True (375, 300, 3)\n",
      "<Slide, name = B_213-ST_BFIW-SE_1420_processed>, width=300, height=375, channels=3, levels=1, RGB=True, dtype=uint8> <valis.slide_io.VipsSlideReader object at 0x7f413784ba10> True (375, 300, 3)\n",
      "<Slide, name = B_213-ST_BFIW-SE_1421_processed>, width=300, height=375, channels=3, levels=1, RGB=True, dtype=uint8> <valis.slide_io.VipsSlideReader object at 0x7f413784bb90> True (375, 300, 3)\n",
      "<Slide, name = B_213-ST_BFIW-SE_1422_processed>, width=300, height=375, channels=3, levels=1, RGB=True, dtype=uint8> <valis.slide_io.VipsSlideReader object at 0x7f4137833cb0> True (375, 300, 3)\n",
      "<Slide, name = B_213-ST_BFIW-SE_1423_processed>, width=300, height=375, channels=3, levels=1, RGB=True, dtype=uint8> <valis.slide_io.VipsSlideReader object at 0x7f413782ba40> True (375, 300, 3)\n",
      "<Slide, name = B_213-ST_BFIW-SE_1424_processed>, width=300, height=375, channels=3, levels=1, RGB=True, dtype=uint8> <valis.slide_io.VipsSlideReader object at 0x7f413784bc20> True (375, 300, 3)\n",
      "<Slide, name = B_213-ST_BFIW-SE_1425_processed>, width=300, height=375, channels=3, levels=1, RGB=True, dtype=uint8> <valis.slide_io.VipsSlideReader object at 0x7f4137823d70> True (375, 300, 3)\n",
      "<Slide, name = B_213-ST_BFIW-SE_1426_processed>, width=300, height=375, channels=3, levels=1, RGB=True, dtype=uint8> <valis.slide_io.VipsSlideReader object at 0x7f4137833c80> True (375, 300, 3)\n"
     ]
    },
    {
     "name": "stderr",
     "output_type": "stream",
     "text": [
      "Converting images:  53%|█████████████████████████                      | 1400/2627 [00:16<00:14, 87.62image/s]"
     ]
    },
    {
     "name": "stdout",
     "output_type": "stream",
     "text": [
      "<Slide, name = B_213-ST_BFIW-SE_1427_processed>, width=300, height=375, channels=3, levels=1, RGB=True, dtype=uint8> <valis.slide_io.VipsSlideReader object at 0x7f4137833e30> True (375, 300, 3)\n",
      "<Slide, name = B_213-ST_BFIW-SE_1428_processed>, width=300, height=375, channels=3, levels=1, RGB=True, dtype=uint8> <valis.slide_io.VipsSlideReader object at 0x7f413784be00> True (375, 300, 3)\n",
      "<Slide, name = B_213-ST_BFIW-SE_1429_processed>, width=300, height=375, channels=3, levels=1, RGB=True, dtype=uint8> <valis.slide_io.VipsSlideReader object at 0x7f413784be90> True (375, 300, 3)\n",
      "<Slide, name = B_213-ST_BFIW-SE_1430_processed>, width=300, height=375, channels=3, levels=1, RGB=True, dtype=uint8> <valis.slide_io.VipsSlideReader object at 0x7f4137823ef0> True (375, 300, 3)\n",
      "<Slide, name = B_213-ST_BFIW-SE_1431_processed>, width=300, height=375, channels=3, levels=1, RGB=True, dtype=uint8> <valis.slide_io.VipsSlideReader object at 0x7f413784bf80> True (375, 300, 3)\n",
      "<Slide, name = B_213-ST_BFIW-SE_1432_processed>, width=300, height=375, channels=3, levels=1, RGB=True, dtype=uint8> <valis.slide_io.VipsSlideReader object at 0x7f413784bc50> True (375, 300, 3)\n",
      "<Slide, name = B_213-ST_BFIW-SE_1433_processed>, width=300, height=375, channels=3, levels=1, RGB=True, dtype=uint8> <valis.slide_io.VipsSlideReader object at 0x7f413784bda0> True (375, 300, 3)\n",
      "<Slide, name = B_213-ST_BFIW-SE_1434_processed>, width=300, height=375, channels=3, levels=1, RGB=True, dtype=uint8> <valis.slide_io.VipsSlideReader object at 0x7f413784bec0> True (375, 300, 3)\n",
      "<Slide, name = B_213-ST_BFIW-SE_1435_processed>, width=300, height=375, channels=3, levels=1, RGB=True, dtype=uint8> <valis.slide_io.VipsSlideReader object at 0x7f413784bf20> True (375, 300, 3)\n"
     ]
    },
    {
     "name": "stderr",
     "output_type": "stream",
     "text": [
      "Converting images:  54%|█████████████████████████▏                     | 1409/2627 [00:16<00:13, 87.07image/s]"
     ]
    },
    {
     "name": "stdout",
     "output_type": "stream",
     "text": [
      "<Slide, name = B_213-ST_BFIW-SE_1436_processed>, width=300, height=375, channels=3, levels=1, RGB=True, dtype=uint8> <valis.slide_io.VipsSlideReader object at 0x7f41378042c0> True (375, 300, 3)\n",
      "<Slide, name = B_213-ST_BFIW-SE_1437_processed>, width=300, height=375, channels=3, levels=1, RGB=True, dtype=uint8> <valis.slide_io.VipsSlideReader object at 0x7f413784c050> True (375, 300, 3)\n",
      "<Slide, name = B_213-ST_BFIW-SE_1438_processed>, width=300, height=375, channels=3, levels=1, RGB=True, dtype=uint8> <valis.slide_io.VipsSlideReader object at 0x7f4137824290> True (375, 300, 3)\n",
      "<Slide, name = B_213-ST_BFIW-SE_1439_processed>, width=300, height=375, channels=3, levels=1, RGB=True, dtype=uint8> <valis.slide_io.VipsSlideReader object at 0x7f413780c260> True (375, 300, 3)\n",
      "<Slide, name = B_213-ST_BFIW-SE_1440_processed>, width=300, height=375, channels=3, levels=1, RGB=True, dtype=uint8> <valis.slide_io.VipsSlideReader object at 0x7f413784c230> True (375, 300, 3)\n",
      "<Slide, name = B_213-ST_BFIW-SE_1441_processed>, width=300, height=375, channels=3, levels=1, RGB=True, dtype=uint8> <valis.slide_io.VipsSlideReader object at 0x7f4137807890> True (375, 300, 3)\n",
      "<Slide, name = B_213-ST_BFIW-SE_1442_processed>, width=300, height=375, channels=3, levels=1, RGB=True, dtype=uint8> <valis.slide_io.VipsSlideReader object at 0x7f413784c620> True (375, 300, 3)\n",
      "<Slide, name = B_213-ST_BFIW-SE_1443_processed>, width=300, height=375, channels=3, levels=1, RGB=True, dtype=uint8> <valis.slide_io.VipsSlideReader object at 0x7f4137804140> True (375, 300, 3)\n",
      "<Slide, name = B_213-ST_BFIW-SE_1444_processed>, width=300, height=375, channels=3, levels=1, RGB=True, dtype=uint8> <valis.slide_io.VipsSlideReader object at 0x7f413780c590> True (375, 300, 3)\n"
     ]
    },
    {
     "name": "stderr",
     "output_type": "stream",
     "text": [
      "Converting images:  54%|█████████████████████████▎                     | 1418/2627 [00:16<00:13, 86.38image/s]"
     ]
    },
    {
     "name": "stdout",
     "output_type": "stream",
     "text": [
      "<Slide, name = B_213-ST_BFIW-SE_1445_processed>, width=300, height=375, channels=3, levels=1, RGB=True, dtype=uint8> <valis.slide_io.VipsSlideReader object at 0x7f413784c3e0> True (375, 300, 3)\n",
      "<Slide, name = B_213-ST_BFIW-SE_1446_processed>, width=300, height=375, channels=3, levels=1, RGB=True, dtype=uint8> <valis.slide_io.VipsSlideReader object at 0x7f4137bdc5c0> True (375, 300, 3)\n",
      "<Slide, name = B_213-ST_BFIW-SE_1447_processed>, width=300, height=375, channels=3, levels=1, RGB=True, dtype=uint8> <valis.slide_io.VipsSlideReader object at 0x7f4137804530> True (375, 300, 3)\n",
      "<Slide, name = B_213-ST_BFIW-SE_1448_processed>, width=300, height=375, channels=3, levels=1, RGB=True, dtype=uint8> <valis.slide_io.VipsSlideReader object at 0x7f413784c0b0> True (375, 300, 3)\n",
      "<Slide, name = B_213-ST_BFIW-SE_1449_processed>, width=300, height=375, channels=3, levels=1, RGB=True, dtype=uint8> <valis.slide_io.VipsSlideReader object at 0x7f413784c6e0> True (375, 300, 3)\n",
      "<Slide, name = B_213-ST_BFIW-SE_1451_processed>, width=300, height=375, channels=3, levels=1, RGB=True, dtype=uint8> <valis.slide_io.VipsSlideReader object at 0x7f413784c410> True (375, 300, 3)\n",
      "<Slide, name = B_213-ST_BFIW-SE_1452_processed>, width=300, height=375, channels=3, levels=1, RGB=True, dtype=uint8> <valis.slide_io.VipsSlideReader object at 0x7f413784c7d0> True (375, 300, 3)\n",
      "<Slide, name = B_213-ST_BFIW-SE_1453_processed>, width=300, height=375, channels=3, levels=1, RGB=True, dtype=uint8> <valis.slide_io.VipsSlideReader object at 0x7f413784c170> True (375, 300, 3)\n",
      "<Slide, name = B_213-ST_BFIW-SE_1454_processed>, width=300, height=375, channels=3, levels=1, RGB=True, dtype=uint8> <valis.slide_io.VipsSlideReader object at 0x7f4137bdc9e0> True (375, 300, 3)\n"
     ]
    },
    {
     "name": "stderr",
     "output_type": "stream",
     "text": [
      "Converting images:  54%|█████████████████████████▌                     | 1427/2627 [00:16<00:13, 86.24image/s]"
     ]
    },
    {
     "name": "stdout",
     "output_type": "stream",
     "text": [
      "<Slide, name = B_213-ST_BFIW-SE_1455_processed>, width=300, height=375, channels=3, levels=1, RGB=True, dtype=uint8> <valis.slide_io.VipsSlideReader object at 0x7f413780c6b0> True (375, 300, 3)\n",
      "<Slide, name = B_213-ST_BFIW-SE_1456_processed>, width=300, height=375, channels=3, levels=1, RGB=True, dtype=uint8> <valis.slide_io.VipsSlideReader object at 0x7f413784c770> True (375, 300, 3)\n",
      "<Slide, name = B_213-ST_BFIW-SE_1457_processed>, width=300, height=375, channels=3, levels=1, RGB=True, dtype=uint8> <valis.slide_io.VipsSlideReader object at 0x7f413784ca10> True (375, 300, 3)\n",
      "<Slide, name = B_213-ST_BFIW-SE_1458_processed>, width=300, height=375, channels=3, levels=1, RGB=True, dtype=uint8> <valis.slide_io.VipsSlideReader object at 0x7f413780cb90> True (375, 300, 3)\n",
      "<Slide, name = B_213-ST_BFIW-SE_1459_processed>, width=300, height=375, channels=3, levels=1, RGB=True, dtype=uint8> <valis.slide_io.VipsSlideReader object at 0x7f413784c8c0> True (375, 300, 3)\n",
      "<Slide, name = B_213-ST_BFIW-SE_1460_processed>, width=300, height=375, channels=3, levels=1, RGB=True, dtype=uint8> <valis.slide_io.VipsSlideReader object at 0x7f413780caa0> True (375, 300, 3)\n",
      "<Slide, name = B_213-ST_BFIW-SE_1461_processed>, width=300, height=375, channels=3, levels=1, RGB=True, dtype=uint8> <valis.slide_io.VipsSlideReader object at 0x7f413780cce0> True (375, 300, 3)\n",
      "<Slide, name = B_213-ST_BFIW-SE_1462_processed>, width=300, height=375, channels=3, levels=1, RGB=True, dtype=uint8> <valis.slide_io.VipsSlideReader object at 0x7f413784c860> True (375, 300, 3)\n",
      "<Slide, name = B_213-ST_BFIW-SE_1463_processed>, width=300, height=375, channels=3, levels=1, RGB=True, dtype=uint8> <valis.slide_io.VipsSlideReader object at 0x7f4137804cb0> True (375, 300, 3)\n"
     ]
    },
    {
     "name": "stderr",
     "output_type": "stream",
     "text": [
      "Converting images:  55%|█████████████████████████▋                     | 1436/2627 [00:16<00:13, 86.44image/s]"
     ]
    },
    {
     "name": "stdout",
     "output_type": "stream",
     "text": [
      "<Slide, name = B_213-ST_BFIW-SE_1464_processed>, width=300, height=375, channels=3, levels=1, RGB=True, dtype=uint8> <valis.slide_io.VipsSlideReader object at 0x7f413784cc20> True (375, 300, 3)\n",
      "<Slide, name = B_213-ST_BFIW-SE_1465_processed>, width=300, height=375, channels=3, levels=1, RGB=True, dtype=uint8> <valis.slide_io.VipsSlideReader object at 0x7f413784c4d0> True (375, 300, 3)\n",
      "<Slide, name = B_213-ST_BFIW-SE_1466_processed>, width=300, height=375, channels=3, levels=1, RGB=True, dtype=uint8> <valis.slide_io.VipsSlideReader object at 0x7f413784c5f0> True (375, 300, 3)\n",
      "<Slide, name = B_213-ST_BFIW-SE_1467_processed>, width=300, height=375, channels=3, levels=1, RGB=True, dtype=uint8> <valis.slide_io.VipsSlideReader object at 0x7f413784cd10> True (375, 300, 3)\n",
      "<Slide, name = B_213-ST_BFIW-SE_1468_processed>, width=300, height=375, channels=3, levels=1, RGB=True, dtype=uint8> <valis.slide_io.VipsSlideReader object at 0x7f413780cef0> True (375, 300, 3)\n",
      "<Slide, name = B_213-ST_BFIW-SE_1469_processed>, width=300, height=375, channels=3, levels=1, RGB=True, dtype=uint8> <valis.slide_io.VipsSlideReader object at 0x7f413780cd70> True (375, 300, 3)\n",
      "<Slide, name = B_213-ST_BFIW-SE_1470_processed>, width=300, height=375, channels=3, levels=1, RGB=True, dtype=uint8> <valis.slide_io.VipsSlideReader object at 0x7f413784d100> True (375, 300, 3)\n",
      "<Slide, name = B_213-ST_BFIW-SE_1471_processed>, width=300, height=375, channels=3, levels=1, RGB=True, dtype=uint8> <valis.slide_io.VipsSlideReader object at 0x7f413780d040> True (375, 300, 3)\n",
      "<Slide, name = B_213-ST_BFIW-SE_1472_processed>, width=300, height=375, channels=3, levels=1, RGB=True, dtype=uint8> <valis.slide_io.VipsSlideReader object at 0x7f4137805130> True (375, 300, 3)\n"
     ]
    },
    {
     "name": "stderr",
     "output_type": "stream",
     "text": [
      "Converting images:  55%|█████████████████████████▊                     | 1445/2627 [00:16<00:13, 86.41image/s]"
     ]
    },
    {
     "name": "stdout",
     "output_type": "stream",
     "text": [
      "<Slide, name = B_213-ST_BFIW-SE_1473_processed>, width=300, height=375, channels=3, levels=1, RGB=True, dtype=uint8> <valis.slide_io.VipsSlideReader object at 0x7f413784cf80> True (375, 300, 3)\n",
      "<Slide, name = B_213-ST_BFIW-SE_1474_processed>, width=300, height=375, channels=3, levels=1, RGB=True, dtype=uint8> <valis.slide_io.VipsSlideReader object at 0x7f413784d0d0> True (375, 300, 3)\n",
      "<Slide, name = B_213-ST_BFIW-SE_1475_processed>, width=300, height=375, channels=3, levels=1, RGB=True, dtype=uint8> <valis.slide_io.VipsSlideReader object at 0x7f4137805280> True (375, 300, 3)\n",
      "<Slide, name = B_213-ST_BFIW-SE_1476_processed>, width=300, height=375, channels=3, levels=1, RGB=True, dtype=uint8> <valis.slide_io.VipsSlideReader object at 0x7f413784d0a0> True (375, 300, 3)\n",
      "<Slide, name = B_213-ST_BFIW-SE_1477_processed>, width=300, height=375, channels=3, levels=1, RGB=True, dtype=uint8> <valis.slide_io.VipsSlideReader object at 0x7f413784cb90> True (375, 300, 3)\n",
      "<Slide, name = B_213-ST_BFIW-SE_1478_processed>, width=300, height=375, channels=3, levels=1, RGB=True, dtype=uint8> <valis.slide_io.VipsSlideReader object at 0x7f413784d250> True (375, 300, 3)\n",
      "<Slide, name = B_213-ST_BFIW-SE_1479_processed>, width=300, height=375, channels=3, levels=1, RGB=True, dtype=uint8> <valis.slide_io.VipsSlideReader object at 0x7f413784ce90> True (375, 300, 3)\n",
      "<Slide, name = B_213-ST_BFIW-SE_1480_processed>, width=300, height=375, channels=3, levels=1, RGB=True, dtype=uint8> <valis.slide_io.VipsSlideReader object at 0x7f413784cf50> True (375, 300, 3)\n",
      "<Slide, name = B_213-ST_BFIW-SE_1481_processed>, width=300, height=375, channels=3, levels=1, RGB=True, dtype=uint8> <valis.slide_io.VipsSlideReader object at 0x7f413784d220> True (375, 300, 3)\n"
     ]
    },
    {
     "name": "stderr",
     "output_type": "stream",
     "text": [
      "Converting images:  55%|██████████████████████████                     | 1454/2627 [00:16<00:13, 86.61image/s]"
     ]
    },
    {
     "name": "stdout",
     "output_type": "stream",
     "text": [
      "<Slide, name = B_213-ST_BFIW-SE_1482_processed>, width=300, height=375, channels=3, levels=1, RGB=True, dtype=uint8> <valis.slide_io.VipsSlideReader object at 0x7f413784d490> True (375, 300, 3)\n",
      "<Slide, name = B_213-ST_BFIW-SE_1483_processed>, width=300, height=375, channels=3, levels=1, RGB=True, dtype=uint8> <valis.slide_io.VipsSlideReader object at 0x7f413784d550> True (375, 300, 3)\n",
      "<Slide, name = B_213-ST_BFIW-SE_1484_processed>, width=300, height=375, channels=3, levels=1, RGB=True, dtype=uint8> <valis.slide_io.VipsSlideReader object at 0x7f413780d5e0> True (375, 300, 3)\n",
      "<Slide, name = B_213-ST_BFIW-SE_1485_processed>, width=300, height=375, channels=3, levels=1, RGB=True, dtype=uint8> <valis.slide_io.VipsSlideReader object at 0x7f413784d460> True (375, 300, 3)\n",
      "<Slide, name = B_213-ST_BFIW-SE_1486_processed>, width=300, height=375, channels=3, levels=1, RGB=True, dtype=uint8> <valis.slide_io.VipsSlideReader object at 0x7f413784d2b0> True (375, 300, 3)\n",
      "<Slide, name = B_213-ST_BFIW-SE_1487_processed>, width=300, height=375, channels=3, levels=1, RGB=True, dtype=uint8> <valis.slide_io.VipsSlideReader object at 0x7f413784d010> True (375, 300, 3)\n",
      "<Slide, name = B_213-ST_BFIW-SE_1488_processed>, width=300, height=375, channels=3, levels=1, RGB=True, dtype=uint8> <valis.slide_io.VipsSlideReader object at 0x7f4137dad520> True (375, 300, 3)\n",
      "<Slide, name = B_213-ST_BFIW-SE_1489_processed>, width=300, height=375, channels=3, levels=1, RGB=True, dtype=uint8> <valis.slide_io.VipsSlideReader object at 0x7f413784d8e0> True (375, 300, 3)\n",
      "<Slide, name = B_213-ST_BFIW-SE_1490_processed>, width=300, height=375, channels=3, levels=1, RGB=True, dtype=uint8> <valis.slide_io.VipsSlideReader object at 0x7f413784d790> True (375, 300, 3)\n"
     ]
    },
    {
     "name": "stderr",
     "output_type": "stream",
     "text": [
      "Converting images:  56%|██████████████████████████▏                    | 1463/2627 [00:16<00:13, 86.60image/s]"
     ]
    },
    {
     "name": "stdout",
     "output_type": "stream",
     "text": [
      "<Slide, name = B_213-ST_BFIW-SE_1491_processed>, width=300, height=375, channels=3, levels=1, RGB=True, dtype=uint8> <valis.slide_io.VipsSlideReader object at 0x7f413784d310> True (375, 300, 3)\n",
      "<Slide, name = B_213-ST_BFIW-SE_1492_processed>, width=300, height=375, channels=3, levels=1, RGB=True, dtype=uint8> <valis.slide_io.VipsSlideReader object at 0x7f41378057f0> True (375, 300, 3)\n",
      "<Slide, name = B_213-ST_BFIW-SE_1493_processed>, width=300, height=375, channels=3, levels=1, RGB=True, dtype=uint8> <valis.slide_io.VipsSlideReader object at 0x7f413780d2e0> True (375, 300, 3)\n",
      "<Slide, name = B_213-ST_BFIW-SE_1494_processed>, width=300, height=375, channels=3, levels=1, RGB=True, dtype=uint8> <valis.slide_io.VipsSlideReader object at 0x7f413780d940> True (375, 300, 3)\n",
      "<Slide, name = B_213-ST_BFIW-SE_1495_processed>, width=300, height=375, channels=3, levels=1, RGB=True, dtype=uint8> <valis.slide_io.VipsSlideReader object at 0x7f413780d9a0> True (375, 300, 3)\n",
      "<Slide, name = B_213-ST_BFIW-SE_1496_processed>, width=300, height=375, channels=3, levels=1, RGB=True, dtype=uint8> <valis.slide_io.VipsSlideReader object at 0x7f413784d850> True (375, 300, 3)\n",
      "<Slide, name = B_213-ST_BFIW-SE_1497_processed>, width=300, height=375, channels=3, levels=1, RGB=True, dtype=uint8> <valis.slide_io.VipsSlideReader object at 0x7f413780da30> True (375, 300, 3)\n",
      "<Slide, name = B_213-ST_BFIW-SE_1498_processed>, width=300, height=375, channels=3, levels=1, RGB=True, dtype=uint8> <valis.slide_io.VipsSlideReader object at 0x7f413780d610> True (375, 300, 3)\n",
      "<Slide, name = B_213-ST_BFIW-SE_1499_processed>, width=300, height=375, channels=3, levels=1, RGB=True, dtype=uint8> <valis.slide_io.VipsSlideReader object at 0x7f4137dadb20> True (375, 300, 3)\n"
     ]
    },
    {
     "name": "stderr",
     "output_type": "stream",
     "text": [
      "Converting images:  56%|██████████████████████████▎                    | 1472/2627 [00:16<00:13, 87.09image/s]"
     ]
    },
    {
     "name": "stdout",
     "output_type": "stream",
     "text": [
      "<Slide, name = B_213-ST_BFIW-SE_1500_processed>, width=300, height=375, channels=3, levels=1, RGB=True, dtype=uint8> <valis.slide_io.VipsSlideReader object at 0x7f413780db80> True (375, 300, 3)\n",
      "<Slide, name = B_213-ST_BFIW-SE_1501_processed>, width=300, height=375, channels=3, levels=1, RGB=True, dtype=uint8> <valis.slide_io.VipsSlideReader object at 0x7f413780dbe0> True (375, 300, 3)\n",
      "<Slide, name = B_213-ST_BFIW-SE_1502_processed>, width=300, height=375, channels=3, levels=1, RGB=True, dtype=uint8> <valis.slide_io.VipsSlideReader object at 0x7f413780dc40> True (375, 300, 3)\n",
      "<Slide, name = B_213-ST_BFIW-SE_1503_processed>, width=300, height=375, channels=3, levels=1, RGB=True, dtype=uint8> <valis.slide_io.VipsSlideReader object at 0x7f4137805ca0> True (375, 300, 3)\n",
      "<Slide, name = B_213-ST_BFIW-SE_1504_processed>, width=300, height=375, channels=3, levels=1, RGB=True, dtype=uint8> <valis.slide_io.VipsSlideReader object at 0x7f4137805d00> True (375, 300, 3)\n",
      "<Slide, name = B_213-ST_BFIW-SE_1505_processed>, width=300, height=375, channels=3, levels=1, RGB=True, dtype=uint8> <valis.slide_io.VipsSlideReader object at 0x7f413780dd60> True (375, 300, 3)\n",
      "<Slide, name = B_213-ST_BFIW-SE_1506_processed>, width=300, height=375, channels=3, levels=1, RGB=True, dtype=uint8> <valis.slide_io.VipsSlideReader object at 0x7f413780ddc0> True (375, 300, 3)\n",
      "<Slide, name = B_213-ST_BFIW-SE_1507_processed>, width=300, height=375, channels=3, levels=1, RGB=True, dtype=uint8> <valis.slide_io.VipsSlideReader object at 0x7f4137805e20> True (375, 300, 3)\n",
      "<Slide, name = B_213-ST_BFIW-SE_1508_processed>, width=300, height=375, channels=3, levels=1, RGB=True, dtype=uint8> <valis.slide_io.VipsSlideReader object at 0x7f413780de80> True (375, 300, 3)\n"
     ]
    },
    {
     "name": "stderr",
     "output_type": "stream",
     "text": [
      "Converting images:  56%|██████████████████████████▍                    | 1481/2627 [00:17<00:13, 87.15image/s]"
     ]
    },
    {
     "name": "stdout",
     "output_type": "stream",
     "text": [
      "<Slide, name = B_213-ST_BFIW-SE_1509_processed>, width=300, height=375, channels=3, levels=1, RGB=True, dtype=uint8> <valis.slide_io.VipsSlideReader object at 0x7f4137805ee0> True (375, 300, 3)\n",
      "<Slide, name = B_213-ST_BFIW-SE_1510_processed>, width=300, height=375, channels=3, levels=1, RGB=True, dtype=uint8> <valis.slide_io.VipsSlideReader object at 0x7f413784da00> True (375, 300, 3)\n",
      "<Slide, name = B_213-ST_BFIW-SE_1511_processed>, width=300, height=375, channels=3, levels=1, RGB=True, dtype=uint8> <valis.slide_io.VipsSlideReader object at 0x7f413780d1c0> True (375, 300, 3)\n",
      "<Slide, name = B_213-ST_BFIW-SE_1512_processed>, width=300, height=375, channels=3, levels=1, RGB=True, dtype=uint8> <valis.slide_io.VipsSlideReader object at 0x7f413784d9d0> True (375, 300, 3)\n",
      "<Slide, name = B_213-ST_BFIW-SE_1513_processed>, width=300, height=375, channels=3, levels=1, RGB=True, dtype=uint8> <valis.slide_io.VipsSlideReader object at 0x7f413784e150> True (375, 300, 3)\n",
      "<Slide, name = B_213-ST_BFIW-SE_1514_processed>, width=300, height=375, channels=3, levels=1, RGB=True, dtype=uint8> <valis.slide_io.VipsSlideReader object at 0x7f413784e000> True (375, 300, 3)\n",
      "<Slide, name = B_213-ST_BFIW-SE_1515_processed>, width=300, height=375, channels=3, levels=1, RGB=True, dtype=uint8> <valis.slide_io.VipsSlideReader object at 0x7f413784dc10> True (375, 300, 3)\n",
      "<Slide, name = B_213-ST_BFIW-SE_1516_processed>, width=300, height=375, channels=3, levels=1, RGB=True, dtype=uint8> <valis.slide_io.VipsSlideReader object at 0x7f413784e240> True (375, 300, 3)\n",
      "<Slide, name = B_213-ST_BFIW-SE_1517_processed>, width=300, height=375, channels=3, levels=1, RGB=True, dtype=uint8> <valis.slide_io.VipsSlideReader object at 0x7f413781e270> True (375, 300, 3)\n"
     ]
    },
    {
     "name": "stderr",
     "output_type": "stream",
     "text": [
      "Converting images:  57%|██████████████████████████▋                    | 1490/2627 [00:17<00:13, 87.25image/s]"
     ]
    },
    {
     "name": "stdout",
     "output_type": "stream",
     "text": [
      "<Slide, name = B_213-ST_BFIW-SE_1518_processed>, width=300, height=375, channels=3, levels=1, RGB=True, dtype=uint8> <valis.slide_io.VipsSlideReader object at 0x7f413784e330> True (375, 300, 3)\n",
      "<Slide, name = B_213-ST_BFIW-SE_1519_processed>, width=300, height=375, channels=3, levels=1, RGB=True, dtype=uint8> <valis.slide_io.VipsSlideReader object at 0x7f413780e2d0> True (375, 300, 3)\n",
      "<Slide, name = B_213-ST_BFIW-SE_1520_processed>, width=300, height=375, channels=3, levels=1, RGB=True, dtype=uint8> <valis.slide_io.VipsSlideReader object at 0x7f413784dac0> True (375, 300, 3)\n",
      "<Slide, name = B_213-ST_BFIW-SE_1521_processed>, width=300, height=375, channels=3, levels=1, RGB=True, dtype=uint8> <valis.slide_io.VipsSlideReader object at 0x7f413784e510> True (375, 300, 3)\n",
      "<Slide, name = B_213-ST_BFIW-SE_1522_processed>, width=300, height=375, channels=3, levels=1, RGB=True, dtype=uint8> <valis.slide_io.VipsSlideReader object at 0x7f413784e3f0> True (375, 300, 3)\n",
      "<Slide, name = B_213-ST_BFIW-SE_1523_processed>, width=300, height=375, channels=3, levels=1, RGB=True, dtype=uint8> <valis.slide_io.VipsSlideReader object at 0x7f4137bde660> True (375, 300, 3)\n",
      "<Slide, name = B_213-ST_BFIW-SE_1524_processed>, width=300, height=375, channels=3, levels=1, RGB=True, dtype=uint8> <valis.slide_io.VipsSlideReader object at 0x7f413780e600> True (375, 300, 3)\n",
      "<Slide, name = B_213-ST_BFIW-SE_1525_processed>, width=300, height=375, channels=3, levels=1, RGB=True, dtype=uint8> <valis.slide_io.VipsSlideReader object at 0x7f4137806630> True (375, 300, 3)\n",
      "<Slide, name = B_213-ST_BFIW-SE_1526_processed>, width=300, height=375, channels=3, levels=1, RGB=True, dtype=uint8> <valis.slide_io.VipsSlideReader object at 0x7f413784e120> True (375, 300, 3)\n"
     ]
    },
    {
     "name": "stderr",
     "output_type": "stream",
     "text": [
      "Converting images:  57%|██████████████████████████▊                    | 1499/2627 [00:17<00:12, 86.89image/s]"
     ]
    },
    {
     "name": "stdout",
     "output_type": "stream",
     "text": [
      "<Slide, name = B_213-ST_BFIW-SE_1527_processed>, width=300, height=375, channels=3, levels=1, RGB=True, dtype=uint8> <valis.slide_io.VipsSlideReader object at 0x7f4137da66c0> True (375, 300, 3)\n",
      "<Slide, name = B_213-ST_BFIW-SE_1528_processed>, width=300, height=375, channels=3, levels=1, RGB=True, dtype=uint8> <valis.slide_io.VipsSlideReader object at 0x7f413784e6f0> True (375, 300, 3)\n",
      "<Slide, name = B_213-ST_BFIW-SE_1529_processed>, width=300, height=375, channels=3, levels=1, RGB=True, dtype=uint8> <valis.slide_io.VipsSlideReader object at 0x7f413781e780> True (375, 300, 3)\n",
      "<Slide, name = B_213-ST_BFIW-SE_1530_processed>, width=300, height=375, channels=3, levels=1, RGB=True, dtype=uint8> <valis.slide_io.VipsSlideReader object at 0x7f413780dfa0> True (375, 300, 3)\n",
      "<Slide, name = B_213-ST_BFIW-SE_1531_processed>, width=300, height=375, channels=3, levels=1, RGB=True, dtype=uint8> <valis.slide_io.VipsSlideReader object at 0x7f413780e840> True (375, 300, 3)\n",
      "<Slide, name = B_213-ST_BFIW-SE_1532_processed>, width=300, height=375, channels=3, levels=1, RGB=True, dtype=uint8> <valis.slide_io.VipsSlideReader object at 0x7f41378068a0> True (375, 300, 3)\n",
      "<Slide, name = B_213-ST_BFIW-SE_1533_processed>, width=300, height=375, channels=3, levels=1, RGB=True, dtype=uint8> <valis.slide_io.VipsSlideReader object at 0x7f413781e900> True (375, 300, 3)\n",
      "<Slide, name = B_213-ST_BFIW-SE_1534_processed>, width=300, height=375, channels=3, levels=1, RGB=True, dtype=uint8> <valis.slide_io.VipsSlideReader object at 0x7f413781e960> True (375, 300, 3)\n",
      "<Slide, name = B_213-ST_BFIW-SE_1535_processed>, width=300, height=375, channels=3, levels=1, RGB=True, dtype=uint8> <valis.slide_io.VipsSlideReader object at 0x7f413780e9c0> True (375, 300, 3)\n"
     ]
    },
    {
     "name": "stderr",
     "output_type": "stream",
     "text": [
      "Converting images:  57%|██████████████████████████▉                    | 1508/2627 [00:17<00:12, 86.70image/s]"
     ]
    },
    {
     "name": "stdout",
     "output_type": "stream",
     "text": [
      "<Slide, name = B_213-ST_BFIW-SE_1536_processed>, width=300, height=375, channels=3, levels=1, RGB=True, dtype=uint8> <valis.slide_io.VipsSlideReader object at 0x7f413781ea20> True (375, 300, 3)\n",
      "<Slide, name = B_213-ST_BFIW-SE_1537_processed>, width=300, height=375, channels=3, levels=1, RGB=True, dtype=uint8> <valis.slide_io.VipsSlideReader object at 0x7f4137daea80> True (375, 300, 3)\n",
      "<Slide, name = B_213-ST_BFIW-SE_1538_processed>, width=300, height=375, channels=3, levels=1, RGB=True, dtype=uint8> <valis.slide_io.VipsSlideReader object at 0x7f413781eae0> True (375, 300, 3)\n",
      "<Slide, name = B_213-ST_BFIW-SE_1539_processed>, width=300, height=375, channels=3, levels=1, RGB=True, dtype=uint8> <valis.slide_io.VipsSlideReader object at 0x7f413781eb40> True (375, 300, 3)\n",
      "<Slide, name = B_213-ST_BFIW-SE_1540_processed>, width=300, height=375, channels=3, levels=1, RGB=True, dtype=uint8> <valis.slide_io.VipsSlideReader object at 0x7f413781eba0> True (375, 300, 3)\n",
      "<Slide, name = B_213-ST_BFIW-SE_1541_processed>, width=300, height=375, channels=3, levels=1, RGB=True, dtype=uint8> <valis.slide_io.VipsSlideReader object at 0x7f413780ec00> True (375, 300, 3)\n",
      "<Slide, name = B_213-ST_BFIW-SE_1542_processed>, width=300, height=375, channels=3, levels=1, RGB=True, dtype=uint8> <valis.slide_io.VipsSlideReader object at 0x7f413784e720> True (375, 300, 3)\n",
      "<Slide, name = B_213-ST_BFIW-SE_1543_processed>, width=300, height=375, channels=3, levels=1, RGB=True, dtype=uint8> <valis.slide_io.VipsSlideReader object at 0x7f413781e870> True (375, 300, 3)\n",
      "<Slide, name = B_213-ST_BFIW-SE_1544_processed>, width=300, height=375, channels=3, levels=1, RGB=True, dtype=uint8> <valis.slide_io.VipsSlideReader object at 0x7f4137806e70> True (375, 300, 3)\n"
     ]
    },
    {
     "name": "stderr",
     "output_type": "stream",
     "text": [
      "Converting images:  58%|███████████████████████████▏                   | 1517/2627 [00:17<00:12, 86.74image/s]"
     ]
    },
    {
     "name": "stdout",
     "output_type": "stream",
     "text": [
      "<Slide, name = B_213-ST_BFIW-SE_1545_processed>, width=300, height=375, channels=3, levels=1, RGB=True, dtype=uint8> <valis.slide_io.VipsSlideReader object at 0x7f413784e7e0> True (375, 300, 3)\n",
      "<Slide, name = B_213-ST_BFIW-SE_1546_processed>, width=300, height=375, channels=3, levels=1, RGB=True, dtype=uint8> <valis.slide_io.VipsSlideReader object at 0x7f4137bdee40> True (375, 300, 3)\n",
      "<Slide, name = B_213-ST_BFIW-SE_1547_processed>, width=300, height=375, channels=3, levels=1, RGB=True, dtype=uint8> <valis.slide_io.VipsSlideReader object at 0x7f413784e930> True (375, 300, 3)\n",
      "<Slide, name = B_213-ST_BFIW-SE_1548_processed>, width=300, height=375, channels=3, levels=1, RGB=True, dtype=uint8> <valis.slide_io.VipsSlideReader object at 0x7f4137806ed0> True (375, 300, 3)\n",
      "<Slide, name = B_213-ST_BFIW-SE_1549_processed>, width=300, height=375, channels=3, levels=1, RGB=True, dtype=uint8> <valis.slide_io.VipsSlideReader object at 0x7f413784eff0> True (375, 300, 3)\n",
      "<Slide, name = B_213-ST_BFIW-SE_1550_processed>, width=300, height=375, channels=3, levels=1, RGB=True, dtype=uint8> <valis.slide_io.VipsSlideReader object at 0x7f413781efc0> True (375, 300, 3)\n",
      "<Slide, name = B_213-ST_BFIW-SE_1552_processed>, width=300, height=375, channels=3, levels=1, RGB=True, dtype=uint8> <valis.slide_io.VipsSlideReader object at 0x7f4137daeea0> True (375, 300, 3)\n",
      "<Slide, name = B_213-ST_BFIW-SE_1553_processed>, width=300, height=375, channels=3, levels=1, RGB=True, dtype=uint8> <valis.slide_io.VipsSlideReader object at 0x7f413784ec90> True (375, 300, 3)\n",
      "<Slide, name = B_213-ST_BFIW-SE_1554_processed>, width=300, height=375, channels=3, levels=1, RGB=True, dtype=uint8> <valis.slide_io.VipsSlideReader object at 0x7f413784f1d0> True (375, 300, 3)\n"
     ]
    },
    {
     "name": "stderr",
     "output_type": "stream",
     "text": [
      "Converting images:  58%|███████████████████████████▎                   | 1526/2627 [00:17<00:12, 86.83image/s]"
     ]
    },
    {
     "name": "stdout",
     "output_type": "stream",
     "text": [
      "<Slide, name = B_213-ST_BFIW-SE_1555_processed>, width=300, height=375, channels=3, levels=1, RGB=True, dtype=uint8> <valis.slide_io.VipsSlideReader object at 0x7f413784f230> True (375, 300, 3)\n",
      "<Slide, name = B_213-ST_BFIW-SE_1556_processed>, width=300, height=375, channels=3, levels=1, RGB=True, dtype=uint8> <valis.slide_io.VipsSlideReader object at 0x7f413784ef30> True (375, 300, 3)\n",
      "<Slide, name = B_213-ST_BFIW-SE_1557_processed>, width=300, height=375, channels=3, levels=1, RGB=True, dtype=uint8> <valis.slide_io.VipsSlideReader object at 0x7f413784f290> True (375, 300, 3)\n",
      "<Slide, name = B_213-ST_BFIW-SE_1558_processed>, width=300, height=375, channels=3, levels=1, RGB=True, dtype=uint8> <valis.slide_io.VipsSlideReader object at 0x7f413784f2f0> True (375, 300, 3)\n",
      "<Slide, name = B_213-ST_BFIW-SE_1559_processed>, width=300, height=375, channels=3, levels=1, RGB=True, dtype=uint8> <valis.slide_io.VipsSlideReader object at 0x7f413784f350> True (375, 300, 3)\n",
      "<Slide, name = B_213-ST_BFIW-SE_1560_processed>, width=300, height=375, channels=3, levels=1, RGB=True, dtype=uint8> <valis.slide_io.VipsSlideReader object at 0x7f413784f3e0> True (375, 300, 3)\n",
      "<Slide, name = B_213-ST_BFIW-SE_1561_processed>, width=300, height=375, channels=3, levels=1, RGB=True, dtype=uint8> <valis.slide_io.VipsSlideReader object at 0x7f413784f440> True (375, 300, 3)\n",
      "<Slide, name = B_213-ST_BFIW-SE_1562_processed>, width=300, height=375, channels=3, levels=1, RGB=True, dtype=uint8> <valis.slide_io.VipsSlideReader object at 0x7f413784f4a0> True (375, 300, 3)\n",
      "<Slide, name = B_213-ST_BFIW-SE_1563_processed>, width=300, height=375, channels=3, levels=1, RGB=True, dtype=uint8> <valis.slide_io.VipsSlideReader object at 0x7f413784f500> True (375, 300, 3)\n"
     ]
    },
    {
     "name": "stderr",
     "output_type": "stream",
     "text": [
      "Converting images:  58%|███████████████████████████▍                   | 1535/2627 [00:17<00:12, 87.52image/s]"
     ]
    },
    {
     "name": "stdout",
     "output_type": "stream",
     "text": [
      "<Slide, name = B_213-ST_BFIW-SE_1564_processed>, width=300, height=375, channels=3, levels=1, RGB=True, dtype=uint8> <valis.slide_io.VipsSlideReader object at 0x7f413784f560> True (375, 300, 3)\n",
      "<Slide, name = B_213-ST_BFIW-SE_1565_processed>, width=300, height=375, channels=3, levels=1, RGB=True, dtype=uint8> <valis.slide_io.VipsSlideReader object at 0x7f413784f5c0> True (375, 300, 3)\n",
      "<Slide, name = B_213-ST_BFIW-SE_1566_processed>, width=300, height=375, channels=3, levels=1, RGB=True, dtype=uint8> <valis.slide_io.VipsSlideReader object at 0x7f413784f620> True (375, 300, 3)\n",
      "<Slide, name = B_213-ST_BFIW-SE_1567_processed>, width=300, height=375, channels=3, levels=1, RGB=True, dtype=uint8> <valis.slide_io.VipsSlideReader object at 0x7f413784f680> True (375, 300, 3)\n",
      "<Slide, name = B_213-ST_BFIW-SE_1568_processed>, width=300, height=375, channels=3, levels=1, RGB=True, dtype=uint8> <valis.slide_io.VipsSlideReader object at 0x7f413784f6e0> True (375, 300, 3)\n",
      "<Slide, name = B_213-ST_BFIW-SE_1569_processed>, width=300, height=375, channels=3, levels=1, RGB=True, dtype=uint8> <valis.slide_io.VipsSlideReader object at 0x7f413784f740> True (375, 300, 3)\n",
      "<Slide, name = B_213-ST_BFIW-SE_1570_processed>, width=300, height=375, channels=3, levels=1, RGB=True, dtype=uint8> <valis.slide_io.VipsSlideReader object at 0x7f413784f7a0> True (375, 300, 3)\n",
      "<Slide, name = B_213-ST_BFIW-SE_1571_processed>, width=300, height=375, channels=3, levels=1, RGB=True, dtype=uint8> <valis.slide_io.VipsSlideReader object at 0x7f413784f800> True (375, 300, 3)\n",
      "<Slide, name = B_213-ST_BFIW-SE_1572_processed>, width=300, height=375, channels=3, levels=1, RGB=True, dtype=uint8> <valis.slide_io.VipsSlideReader object at 0x7f413784f860> True (375, 300, 3)\n"
     ]
    },
    {
     "name": "stderr",
     "output_type": "stream",
     "text": [
      "Converting images:  59%|███████████████████████████▌                   | 1544/2627 [00:17<00:12, 87.12image/s]"
     ]
    },
    {
     "name": "stdout",
     "output_type": "stream",
     "text": [
      "<Slide, name = B_213-ST_BFIW-SE_1573_processed>, width=300, height=375, channels=3, levels=1, RGB=True, dtype=uint8> <valis.slide_io.VipsSlideReader object at 0x7f413784f8c0> True (375, 300, 3)\n",
      "<Slide, name = B_213-ST_BFIW-SE_1574_processed>, width=300, height=375, channels=3, levels=1, RGB=True, dtype=uint8> <valis.slide_io.VipsSlideReader object at 0x7f413784f920> True (375, 300, 3)\n",
      "<Slide, name = B_213-ST_BFIW-SE_1575_processed>, width=300, height=375, channels=3, levels=1, RGB=True, dtype=uint8> <valis.slide_io.VipsSlideReader object at 0x7f413784f980> True (375, 300, 3)\n",
      "<Slide, name = B_213-ST_BFIW-SE_1576_processed>, width=300, height=375, channels=3, levels=1, RGB=True, dtype=uint8> <valis.slide_io.VipsSlideReader object at 0x7f413784f9e0> True (375, 300, 3)\n",
      "<Slide, name = B_213-ST_BFIW-SE_1577_processed>, width=300, height=375, channels=3, levels=1, RGB=True, dtype=uint8> <valis.slide_io.VipsSlideReader object at 0x7f413784fa40> True (375, 300, 3)\n",
      "<Slide, name = B_213-ST_BFIW-SE_1578_processed>, width=300, height=375, channels=3, levels=1, RGB=True, dtype=uint8> <valis.slide_io.VipsSlideReader object at 0x7f413784faa0> True (375, 300, 3)\n",
      "<Slide, name = B_213-ST_BFIW-SE_1579_processed>, width=300, height=375, channels=3, levels=1, RGB=True, dtype=uint8> <valis.slide_io.VipsSlideReader object at 0x7f413784fb00> True (375, 300, 3)\n",
      "<Slide, name = B_213-ST_BFIW-SE_1580_processed>, width=300, height=375, channels=3, levels=1, RGB=True, dtype=uint8> <valis.slide_io.VipsSlideReader object at 0x7f413784fb60> True (375, 300, 3)\n",
      "<Slide, name = B_213-ST_BFIW-SE_1581_processed>, width=300, height=375, channels=3, levels=1, RGB=True, dtype=uint8> <valis.slide_io.VipsSlideReader object at 0x7f413784fbc0> True (375, 300, 3)\n"
     ]
    },
    {
     "name": "stderr",
     "output_type": "stream",
     "text": [
      "Converting images:  59%|███████████████████████████▊                   | 1553/2627 [00:17<00:12, 87.26image/s]"
     ]
    },
    {
     "name": "stdout",
     "output_type": "stream",
     "text": [
      "<Slide, name = B_213-ST_BFIW-SE_1582_processed>, width=300, height=375, channels=3, levels=1, RGB=True, dtype=uint8> <valis.slide_io.VipsSlideReader object at 0x7f413784fc20> True (375, 300, 3)\n",
      "<Slide, name = B_213-ST_BFIW-SE_1583_processed>, width=300, height=375, channels=3, levels=1, RGB=True, dtype=uint8> <valis.slide_io.VipsSlideReader object at 0x7f413784fc80> True (375, 300, 3)\n",
      "<Slide, name = B_213-ST_BFIW-SE_1584_processed>, width=300, height=375, channels=3, levels=1, RGB=True, dtype=uint8> <valis.slide_io.VipsSlideReader object at 0x7f413784fce0> True (375, 300, 3)\n",
      "<Slide, name = B_213-ST_BFIW-SE_1585_processed>, width=300, height=375, channels=3, levels=1, RGB=True, dtype=uint8> <valis.slide_io.VipsSlideReader object at 0x7f413784fd40> True (375, 300, 3)\n",
      "<Slide, name = B_213-ST_BFIW-SE_1586_processed>, width=300, height=375, channels=3, levels=1, RGB=True, dtype=uint8> <valis.slide_io.VipsSlideReader object at 0x7f413784fda0> True (375, 300, 3)\n",
      "<Slide, name = B_213-ST_BFIW-SE_1587_processed>, width=300, height=375, channels=3, levels=1, RGB=True, dtype=uint8> <valis.slide_io.VipsSlideReader object at 0x7f413784fe00> True (375, 300, 3)\n",
      "<Slide, name = B_213-ST_BFIW-SE_1588_processed>, width=300, height=375, channels=3, levels=1, RGB=True, dtype=uint8> <valis.slide_io.VipsSlideReader object at 0x7f413784fe60> True (375, 300, 3)\n",
      "<Slide, name = B_213-ST_BFIW-SE_1589_processed>, width=300, height=375, channels=3, levels=1, RGB=True, dtype=uint8> <valis.slide_io.VipsSlideReader object at 0x7f413784fec0> True (375, 300, 3)\n",
      "<Slide, name = B_213-ST_BFIW-SE_1590_processed>, width=300, height=375, channels=3, levels=1, RGB=True, dtype=uint8> <valis.slide_io.VipsSlideReader object at 0x7f413784ff50> True (375, 300, 3)\n"
     ]
    },
    {
     "name": "stderr",
     "output_type": "stream",
     "text": [
      "Converting images:  59%|███████████████████████████▉                   | 1562/2627 [00:17<00:12, 87.27image/s]"
     ]
    },
    {
     "name": "stdout",
     "output_type": "stream",
     "text": [
      "<Slide, name = B_213-ST_BFIW-SE_1591_processed>, width=300, height=375, channels=3, levels=1, RGB=True, dtype=uint8> <valis.slide_io.VipsSlideReader object at 0x7f413784fef0> True (375, 300, 3)\n",
      "<Slide, name = B_213-ST_BFIW-SE_1592_processed>, width=300, height=375, channels=3, levels=1, RGB=True, dtype=uint8> <valis.slide_io.VipsSlideReader object at 0x7f413784fd70> True (375, 300, 3)\n",
      "<Slide, name = B_213-ST_BFIW-SE_1593_processed>, width=300, height=375, channels=3, levels=1, RGB=True, dtype=uint8> <valis.slide_io.VipsSlideReader object at 0x7f413784fe30> True (375, 300, 3)\n",
      "<Slide, name = B_213-ST_BFIW-SE_1594_processed>, width=300, height=375, channels=3, levels=1, RGB=True, dtype=uint8> <valis.slide_io.VipsSlideReader object at 0x7f413784fe90> True (375, 300, 3)\n",
      "<Slide, name = B_213-ST_BFIW-SE_1595_processed>, width=300, height=375, channels=3, levels=1, RGB=True, dtype=uint8> <valis.slide_io.VipsSlideReader object at 0x7f413784ffe0> True (375, 300, 3)\n",
      "<Slide, name = B_213-ST_BFIW-SE_1596_processed>, width=300, height=375, channels=3, levels=1, RGB=True, dtype=uint8> <valis.slide_io.VipsSlideReader object at 0x7f413784ffb0> True (375, 300, 3)\n",
      "<Slide, name = B_213-ST_BFIW-SE_1597_processed>, width=300, height=375, channels=3, levels=1, RGB=True, dtype=uint8> <valis.slide_io.VipsSlideReader object at 0x7f4137854170> True (375, 300, 3)\n",
      "<Slide, name = B_213-ST_BFIW-SE_1598_processed>, width=300, height=375, channels=3, levels=1, RGB=True, dtype=uint8> <valis.slide_io.VipsSlideReader object at 0x7f413784c260> True (375, 300, 3)\n",
      "<Slide, name = B_213-ST_BFIW-SE_1599_processed>, width=300, height=375, channels=3, levels=1, RGB=True, dtype=uint8> <valis.slide_io.VipsSlideReader object at 0x7f413784c140> True (375, 300, 3)\n"
     ]
    },
    {
     "name": "stderr",
     "output_type": "stream",
     "text": [
      "Converting images:  60%|████████████████████████████                   | 1571/2627 [00:18<00:12, 87.04image/s]"
     ]
    },
    {
     "name": "stdout",
     "output_type": "stream",
     "text": [
      "<Slide, name = B_213-ST_BFIW-SE_1600_processed>, width=300, height=375, channels=3, levels=1, RGB=True, dtype=uint8> <valis.slide_io.VipsSlideReader object at 0x7f413780c2f0> True (375, 300, 3)\n",
      "<Slide, name = B_213-ST_BFIW-SE_1601_processed>, width=300, height=375, channels=3, levels=1, RGB=True, dtype=uint8> <valis.slide_io.VipsSlideReader object at 0x7f4137804320> True (375, 300, 3)\n",
      "<Slide, name = B_213-ST_BFIW-SE_1602_processed>, width=300, height=375, channels=3, levels=1, RGB=True, dtype=uint8> <valis.slide_io.VipsSlideReader object at 0x7f413784c380> True (375, 300, 3)\n",
      "<Slide, name = B_213-ST_BFIW-SE_1603_processed>, width=300, height=375, channels=3, levels=1, RGB=True, dtype=uint8> <valis.slide_io.VipsSlideReader object at 0x7f413780c3e0> True (375, 300, 3)\n",
      "<Slide, name = B_213-ST_BFIW-SE_1604_processed>, width=300, height=375, channels=3, levels=1, RGB=True, dtype=uint8> <valis.slide_io.VipsSlideReader object at 0x7f41378541d0> True (375, 300, 3)\n",
      "<Slide, name = B_213-ST_BFIW-SE_1605_processed>, width=300, height=375, channels=3, levels=1, RGB=True, dtype=uint8> <valis.slide_io.VipsSlideReader object at 0x7f41378545c0> True (375, 300, 3)\n",
      "<Slide, name = B_213-ST_BFIW-SE_1606_processed>, width=300, height=375, channels=3, levels=1, RGB=True, dtype=uint8> <valis.slide_io.VipsSlideReader object at 0x7f4137854620> True (375, 300, 3)\n",
      "<Slide, name = B_213-ST_BFIW-SE_1607_processed>, width=300, height=375, channels=3, levels=1, RGB=True, dtype=uint8> <valis.slide_io.VipsSlideReader object at 0x7f4137854050> True (375, 300, 3)\n",
      "<Slide, name = B_213-ST_BFIW-SE_1608_processed>, width=300, height=375, channels=3, levels=1, RGB=True, dtype=uint8> <valis.slide_io.VipsSlideReader object at 0x7f4137854680> True (375, 300, 3)\n"
     ]
    },
    {
     "name": "stderr",
     "output_type": "stream",
     "text": [
      "Converting images:  60%|████████████████████████████▎                  | 1580/2627 [00:18<00:12, 86.53image/s]"
     ]
    },
    {
     "name": "stdout",
     "output_type": "stream",
     "text": [
      "<Slide, name = B_213-ST_BFIW-SE_1609_processed>, width=300, height=375, channels=3, levels=1, RGB=True, dtype=uint8> <valis.slide_io.VipsSlideReader object at 0x7f41378546e0> True (375, 300, 3)\n",
      "<Slide, name = B_213-ST_BFIW-SE_1610_processed>, width=300, height=375, channels=3, levels=1, RGB=True, dtype=uint8> <valis.slide_io.VipsSlideReader object at 0x7f4137854740> True (375, 300, 3)\n",
      "<Slide, name = B_213-ST_BFIW-SE_1611_processed>, width=300, height=375, channels=3, levels=1, RGB=True, dtype=uint8> <valis.slide_io.VipsSlideReader object at 0x7f413784c590> True (375, 300, 3)\n",
      "<Slide, name = B_213-ST_BFIW-SE_1612_processed>, width=300, height=375, channels=3, levels=1, RGB=True, dtype=uint8> <valis.slide_io.VipsSlideReader object at 0x7f4137854920> True (375, 300, 3)\n",
      "<Slide, name = B_213-ST_BFIW-SE_1613_processed>, width=300, height=375, channels=3, levels=1, RGB=True, dtype=uint8> <valis.slide_io.VipsSlideReader object at 0x7f4137854860> True (375, 300, 3)\n",
      "<Slide, name = B_213-ST_BFIW-SE_1614_processed>, width=300, height=375, channels=3, levels=1, RGB=True, dtype=uint8> <valis.slide_io.VipsSlideReader object at 0x7f413784c290> True (375, 300, 3)\n",
      "<Slide, name = B_213-ST_BFIW-SE_1615_processed>, width=300, height=375, channels=3, levels=1, RGB=True, dtype=uint8> <valis.slide_io.VipsSlideReader object at 0x7f4137854a40> True (375, 300, 3)\n",
      "<Slide, name = B_213-ST_BFIW-SE_1616_processed>, width=300, height=375, channels=3, levels=1, RGB=True, dtype=uint8> <valis.slide_io.VipsSlideReader object at 0x7f4137854950> True (375, 300, 3)\n",
      "<Slide, name = B_213-ST_BFIW-SE_1617_processed>, width=300, height=375, channels=3, levels=1, RGB=True, dtype=uint8> <valis.slide_io.VipsSlideReader object at 0x7f4137854500> True (375, 300, 3)\n"
     ]
    },
    {
     "name": "stderr",
     "output_type": "stream",
     "text": [
      "Converting images:  60%|████████████████████████████▍                  | 1589/2627 [00:18<00:11, 86.88image/s]"
     ]
    },
    {
     "name": "stdout",
     "output_type": "stream",
     "text": [
      "<Slide, name = B_213-ST_BFIW-SE_1618_processed>, width=300, height=375, channels=3, levels=1, RGB=True, dtype=uint8> <valis.slide_io.VipsSlideReader object at 0x7f4137854770> True (375, 300, 3)\n",
      "<Slide, name = B_213-ST_BFIW-SE_1619_processed>, width=300, height=375, channels=3, levels=1, RGB=True, dtype=uint8> <valis.slide_io.VipsSlideReader object at 0x7f4137854a70> True (375, 300, 3)\n",
      "<Slide, name = B_213-ST_BFIW-SE_1620_processed>, width=300, height=375, channels=3, levels=1, RGB=True, dtype=uint8> <valis.slide_io.VipsSlideReader object at 0x7f4137854ad0> True (375, 300, 3)\n",
      "<Slide, name = B_213-ST_BFIW-SE_1621_processed>, width=300, height=375, channels=3, levels=1, RGB=True, dtype=uint8> <valis.slide_io.VipsSlideReader object at 0x7f413784d610> True (375, 300, 3)\n",
      "<Slide, name = B_213-ST_BFIW-SE_1622_processed>, width=300, height=375, channels=3, levels=1, RGB=True, dtype=uint8> <valis.slide_io.VipsSlideReader object at 0x7f4137854cb0> True (375, 300, 3)\n",
      "<Slide, name = B_213-ST_BFIW-SE_1623_processed>, width=300, height=375, channels=3, levels=1, RGB=True, dtype=uint8> <valis.slide_io.VipsSlideReader object at 0x7f4137854bf0> True (375, 300, 3)\n",
      "<Slide, name = B_213-ST_BFIW-SE_1624_processed>, width=300, height=375, channels=3, levels=1, RGB=True, dtype=uint8> <valis.slide_io.VipsSlideReader object at 0x7f4137854890> True (375, 300, 3)\n",
      "<Slide, name = B_213-ST_BFIW-SE_1625_processed>, width=300, height=375, channels=3, levels=1, RGB=True, dtype=uint8> <valis.slide_io.VipsSlideReader object at 0x7f4137854aa0> True (375, 300, 3)\n",
      "<Slide, name = B_213-ST_BFIW-SE_1626_processed>, width=300, height=375, channels=3, levels=1, RGB=True, dtype=uint8> <valis.slide_io.VipsSlideReader object at 0x7f4137854ce0> True (375, 300, 3)\n"
     ]
    },
    {
     "name": "stderr",
     "output_type": "stream",
     "text": [
      "Converting images:  61%|████████████████████████████▌                  | 1598/2627 [00:18<00:11, 87.10image/s]"
     ]
    },
    {
     "name": "stdout",
     "output_type": "stream",
     "text": [
      "<Slide, name = B_213-ST_BFIW-SE_1627_processed>, width=300, height=375, channels=3, levels=1, RGB=True, dtype=uint8> <valis.slide_io.VipsSlideReader object at 0x7f4137854d40> True (375, 300, 3)\n",
      "<Slide, name = B_213-ST_BFIW-SE_1628_processed>, width=300, height=375, channels=3, levels=1, RGB=True, dtype=uint8> <valis.slide_io.VipsSlideReader object at 0x7f4137854da0> True (375, 300, 3)\n",
      "<Slide, name = B_213-ST_BFIW-SE_1629_processed>, width=300, height=375, channels=3, levels=1, RGB=True, dtype=uint8> <valis.slide_io.VipsSlideReader object at 0x7f4137854e00> True (375, 300, 3)\n",
      "<Slide, name = B_213-ST_BFIW-SE_1630_processed>, width=300, height=375, channels=3, levels=1, RGB=True, dtype=uint8> <valis.slide_io.VipsSlideReader object at 0x7f4137854e60> True (375, 300, 3)\n",
      "<Slide, name = B_213-ST_BFIW-SE_1631_processed>, width=300, height=375, channels=3, levels=1, RGB=True, dtype=uint8> <valis.slide_io.VipsSlideReader object at 0x7f4137854ec0> True (375, 300, 3)\n",
      "<Slide, name = B_213-ST_BFIW-SE_1632_processed>, width=300, height=375, channels=3, levels=1, RGB=True, dtype=uint8> <valis.slide_io.VipsSlideReader object at 0x7f4137854f20> True (375, 300, 3)\n",
      "<Slide, name = B_213-ST_BFIW-SE_1633_processed>, width=300, height=375, channels=3, levels=1, RGB=True, dtype=uint8> <valis.slide_io.VipsSlideReader object at 0x7f4137854f80> True (375, 300, 3)\n",
      "<Slide, name = B_213-ST_BFIW-SE_1634_processed>, width=300, height=375, channels=3, levels=1, RGB=True, dtype=uint8> <valis.slide_io.VipsSlideReader object at 0x7f4137854fe0> True (375, 300, 3)\n",
      "<Slide, name = B_213-ST_BFIW-SE_1635_processed>, width=300, height=375, channels=3, levels=1, RGB=True, dtype=uint8> <valis.slide_io.VipsSlideReader object at 0x7f4137855040> True (375, 300, 3)\n"
     ]
    },
    {
     "name": "stderr",
     "output_type": "stream",
     "text": [
      "Converting images:  61%|████████████████████████████▊                  | 1607/2627 [00:18<00:11, 86.08image/s]"
     ]
    },
    {
     "name": "stdout",
     "output_type": "stream",
     "text": [
      "<Slide, name = B_213-ST_BFIW-SE_1636_processed>, width=300, height=375, channels=3, levels=1, RGB=True, dtype=uint8> <valis.slide_io.VipsSlideReader object at 0x7f41378550a0> True (375, 300, 3)\n",
      "<Slide, name = B_213-ST_BFIW-SE_1637_processed>, width=300, height=375, channels=3, levels=1, RGB=True, dtype=uint8> <valis.slide_io.VipsSlideReader object at 0x7f4137855100> True (375, 300, 3)\n",
      "<Slide, name = B_213-ST_BFIW-SE_1638_processed>, width=300, height=375, channels=3, levels=1, RGB=True, dtype=uint8> <valis.slide_io.VipsSlideReader object at 0x7f4137855160> True (375, 300, 3)\n",
      "<Slide, name = B_213-ST_BFIW-SE_1639_processed>, width=300, height=375, channels=3, levels=1, RGB=True, dtype=uint8> <valis.slide_io.VipsSlideReader object at 0x7f41378551c0> True (375, 300, 3)\n",
      "<Slide, name = B_213-ST_BFIW-SE_1640_processed>, width=300, height=375, channels=3, levels=1, RGB=True, dtype=uint8> <valis.slide_io.VipsSlideReader object at 0x7f4137855220> True (375, 300, 3)\n",
      "<Slide, name = B_213-ST_BFIW-SE_1641_processed>, width=300, height=375, channels=3, levels=1, RGB=True, dtype=uint8> <valis.slide_io.VipsSlideReader object at 0x7f4137855280> True (375, 300, 3)\n",
      "<Slide, name = B_213-ST_BFIW-SE_1642_processed>, width=300, height=375, channels=3, levels=1, RGB=True, dtype=uint8> <valis.slide_io.VipsSlideReader object at 0x7f41378077d0> True (375, 300, 3)\n",
      "<Slide, name = B_213-ST_BFIW-SE_1643_processed>, width=300, height=375, channels=3, levels=1, RGB=True, dtype=uint8> <valis.slide_io.VipsSlideReader object at 0x7f4137855460> True (375, 300, 3)\n",
      "<Slide, name = B_213-ST_BFIW-SE_1644_processed>, width=300, height=375, channels=3, levels=1, RGB=True, dtype=uint8> <valis.slide_io.VipsSlideReader object at 0x7f41378553a0> True (375, 300, 3)\n"
     ]
    },
    {
     "name": "stderr",
     "output_type": "stream",
     "text": [
      "Converting images:  62%|████████████████████████████▉                  | 1616/2627 [00:18<00:11, 86.60image/s]"
     ]
    },
    {
     "name": "stdout",
     "output_type": "stream",
     "text": [
      "<Slide, name = B_213-ST_BFIW-SE_1645_processed>, width=300, height=375, channels=3, levels=1, RGB=True, dtype=uint8> <valis.slide_io.VipsSlideReader object at 0x7f4137855130> True (375, 300, 3)\n",
      "<Slide, name = B_213-ST_BFIW-SE_1646_processed>, width=300, height=375, channels=3, levels=1, RGB=True, dtype=uint8> <valis.slide_io.VipsSlideReader object at 0x7f4137855250> True (375, 300, 3)\n",
      "<Slide, name = B_213-ST_BFIW-SE_1647_processed>, width=300, height=375, channels=3, levels=1, RGB=True, dtype=uint8> <valis.slide_io.VipsSlideReader object at 0x7f4137855490> True (375, 300, 3)\n",
      "<Slide, name = B_213-ST_BFIW-SE_1648_processed>, width=300, height=375, channels=3, levels=1, RGB=True, dtype=uint8> <valis.slide_io.VipsSlideReader object at 0x7f41378554f0> True (375, 300, 3)\n",
      "<Slide, name = B_213-ST_BFIW-SE_1649_processed>, width=300, height=375, channels=3, levels=1, RGB=True, dtype=uint8> <valis.slide_io.VipsSlideReader object at 0x7f4137855550> True (375, 300, 3)\n",
      "<Slide, name = B_213-ST_BFIW-SE_1650_processed>, width=300, height=375, channels=3, levels=1, RGB=True, dtype=uint8> <valis.slide_io.VipsSlideReader object at 0x7f41378555b0> True (375, 300, 3)\n",
      "<Slide, name = B_213-ST_BFIW-SE_1651_processed>, width=300, height=375, channels=3, levels=1, RGB=True, dtype=uint8> <valis.slide_io.VipsSlideReader object at 0x7f4137855610> True (375, 300, 3)\n",
      "<Slide, name = B_213-ST_BFIW-SE_1652_processed>, width=300, height=375, channels=3, levels=1, RGB=True, dtype=uint8> <valis.slide_io.VipsSlideReader object at 0x7f4137855670> True (375, 300, 3)\n",
      "<Slide, name = B_213-ST_BFIW-SE_1653_processed>, width=300, height=375, channels=3, levels=1, RGB=True, dtype=uint8> <valis.slide_io.VipsSlideReader object at 0x7f41378556d0> True (375, 300, 3)\n"
     ]
    },
    {
     "name": "stderr",
     "output_type": "stream",
     "text": [
      "Converting images:  62%|█████████████████████████████                  | 1625/2627 [00:18<00:11, 86.73image/s]"
     ]
    },
    {
     "name": "stdout",
     "output_type": "stream",
     "text": [
      "<Slide, name = B_213-ST_BFIW-SE_1654_processed>, width=300, height=375, channels=3, levels=1, RGB=True, dtype=uint8> <valis.slide_io.VipsSlideReader object at 0x7f4137855730> True (375, 300, 3)\n",
      "<Slide, name = B_213-ST_BFIW-SE_1655_processed>, width=300, height=375, channels=3, levels=1, RGB=True, dtype=uint8> <valis.slide_io.VipsSlideReader object at 0x7f4137855790> True (375, 300, 3)\n",
      "<Slide, name = B_213-ST_BFIW-SE_1656_processed>, width=300, height=375, channels=3, levels=1, RGB=True, dtype=uint8> <valis.slide_io.VipsSlideReader object at 0x7f41378557f0> True (375, 300, 3)\n",
      "<Slide, name = B_213-ST_BFIW-SE_1657_processed>, width=300, height=375, channels=3, levels=1, RGB=True, dtype=uint8> <valis.slide_io.VipsSlideReader object at 0x7f4137855850> True (375, 300, 3)\n",
      "<Slide, name = B_213-ST_BFIW-SE_1658_processed>, width=300, height=375, channels=3, levels=1, RGB=True, dtype=uint8> <valis.slide_io.VipsSlideReader object at 0x7f41378558b0> True (375, 300, 3)\n",
      "<Slide, name = B_213-ST_BFIW-SE_1659_processed>, width=300, height=375, channels=3, levels=1, RGB=True, dtype=uint8> <valis.slide_io.VipsSlideReader object at 0x7f4137855910> True (375, 300, 3)\n",
      "<Slide, name = B_213-ST_BFIW-SE_1660_processed>, width=300, height=375, channels=3, levels=1, RGB=True, dtype=uint8> <valis.slide_io.VipsSlideReader object at 0x7f4137855970> True (375, 300, 3)\n",
      "<Slide, name = B_213-ST_BFIW-SE_1661_processed>, width=300, height=375, channels=3, levels=1, RGB=True, dtype=uint8> <valis.slide_io.VipsSlideReader object at 0x7f41378559d0> True (375, 300, 3)\n",
      "<Slide, name = B_213-ST_BFIW-SE_1662_processed>, width=300, height=375, channels=3, levels=1, RGB=True, dtype=uint8> <valis.slide_io.VipsSlideReader object at 0x7f4137855a30> True (375, 300, 3)\n"
     ]
    },
    {
     "name": "stderr",
     "output_type": "stream",
     "text": [
      "Converting images:  62%|█████████████████████████████▏                 | 1634/2627 [00:18<00:11, 85.66image/s]"
     ]
    },
    {
     "name": "stdout",
     "output_type": "stream",
     "text": [
      "<Slide, name = B_213-ST_BFIW-SE_1663_processed>, width=300, height=375, channels=3, levels=1, RGB=True, dtype=uint8> <valis.slide_io.VipsSlideReader object at 0x7f4137855a90> True (375, 300, 3)\n",
      "<Slide, name = B_213-ST_BFIW-SE_1664_processed>, width=300, height=375, channels=3, levels=1, RGB=True, dtype=uint8> <valis.slide_io.VipsSlideReader object at 0x7f4137855af0> True (375, 300, 3)\n",
      "<Slide, name = B_213-ST_BFIW-SE_1665_processed>, width=300, height=375, channels=3, levels=1, RGB=True, dtype=uint8> <valis.slide_io.VipsSlideReader object at 0x7f4137855b50> True (375, 300, 3)\n",
      "<Slide, name = B_213-ST_BFIW-SE_1666_processed>, width=300, height=375, channels=3, levels=1, RGB=True, dtype=uint8> <valis.slide_io.VipsSlideReader object at 0x7f4137855bb0> True (375, 300, 3)\n",
      "<Slide, name = B_213-ST_BFIW-SE_1667_processed>, width=300, height=375, channels=3, levels=1, RGB=True, dtype=uint8> <valis.slide_io.VipsSlideReader object at 0x7f4137855c10> True (375, 300, 3)\n",
      "<Slide, name = B_213-ST_BFIW-SE_1668_processed>, width=300, height=375, channels=3, levels=1, RGB=True, dtype=uint8> <valis.slide_io.VipsSlideReader object at 0x7f4137855c70> True (375, 300, 3)\n",
      "<Slide, name = B_213-ST_BFIW-SE_1669_processed>, width=300, height=375, channels=3, levels=1, RGB=True, dtype=uint8> <valis.slide_io.VipsSlideReader object at 0x7f4137855cd0> True (375, 300, 3)\n",
      "<Slide, name = B_213-ST_BFIW-SE_1670_processed>, width=300, height=375, channels=3, levels=1, RGB=True, dtype=uint8> <valis.slide_io.VipsSlideReader object at 0x7f4137855d30> True (375, 300, 3)\n",
      "<Slide, name = B_213-ST_BFIW-SE_1671_processed>, width=300, height=375, channels=3, levels=1, RGB=True, dtype=uint8> <valis.slide_io.VipsSlideReader object at 0x7f4137855d90> True (375, 300, 3)\n"
     ]
    },
    {
     "name": "stderr",
     "output_type": "stream",
     "text": [
      "Converting images:  63%|█████████████████████████████▍                 | 1643/2627 [00:18<00:11, 84.91image/s]"
     ]
    },
    {
     "name": "stdout",
     "output_type": "stream",
     "text": [
      "<Slide, name = B_213-ST_BFIW-SE_1672_processed>, width=300, height=375, channels=3, levels=1, RGB=True, dtype=uint8> <valis.slide_io.VipsSlideReader object at 0x7f4137855df0> True (375, 300, 3)\n",
      "<Slide, name = B_213-ST_BFIW-SE_1673_processed>, width=300, height=375, channels=3, levels=1, RGB=True, dtype=uint8> <valis.slide_io.VipsSlideReader object at 0x7f4137855e50> True (375, 300, 3)\n",
      "<Slide, name = B_213-ST_BFIW-SE_1674_processed>, width=300, height=375, channels=3, levels=1, RGB=True, dtype=uint8> <valis.slide_io.VipsSlideReader object at 0x7f4137855eb0> True (375, 300, 3)\n",
      "<Slide, name = B_213-ST_BFIW-SE_1675_processed>, width=300, height=375, channels=3, levels=1, RGB=True, dtype=uint8> <valis.slide_io.VipsSlideReader object at 0x7f4137855f10> True (375, 300, 3)\n",
      "<Slide, name = B_213-ST_BFIW-SE_1676_processed>, width=300, height=375, channels=3, levels=1, RGB=True, dtype=uint8> <valis.slide_io.VipsSlideReader object at 0x7f4137855f70> True (375, 300, 3)\n",
      "<Slide, name = B_213-ST_BFIW-SE_1677_processed>, width=300, height=375, channels=3, levels=1, RGB=True, dtype=uint8> <valis.slide_io.VipsSlideReader object at 0x7f4137855fd0> True (375, 300, 3)\n",
      "<Slide, name = B_213-ST_BFIW-SE_1678_processed>, width=300, height=375, channels=3, levels=1, RGB=True, dtype=uint8> <valis.slide_io.VipsSlideReader object at 0x7f4137856030> True (375, 300, 3)\n",
      "<Slide, name = B_213-ST_BFIW-SE_1679_processed>, width=300, height=375, channels=3, levels=1, RGB=True, dtype=uint8> <valis.slide_io.VipsSlideReader object at 0x7f4137856090> True (375, 300, 3)\n",
      "<Slide, name = B_213-ST_BFIW-SE_1680_processed>, width=300, height=375, channels=3, levels=1, RGB=True, dtype=uint8> <valis.slide_io.VipsSlideReader object at 0x7f41378560f0> True (375, 300, 3)\n"
     ]
    },
    {
     "name": "stderr",
     "output_type": "stream",
     "text": [
      "Converting images:  63%|█████████████████████████████▌                 | 1652/2627 [00:19<00:11, 84.49image/s]"
     ]
    },
    {
     "name": "stdout",
     "output_type": "stream",
     "text": [
      "<Slide, name = B_213-ST_BFIW-SE_1681_processed>, width=300, height=375, channels=3, levels=1, RGB=True, dtype=uint8> <valis.slide_io.VipsSlideReader object at 0x7f4137856150> True (375, 300, 3)\n",
      "<Slide, name = B_213-ST_BFIW-SE_1682_processed>, width=300, height=375, channels=3, levels=1, RGB=True, dtype=uint8> <valis.slide_io.VipsSlideReader object at 0x7f41378561b0> True (375, 300, 3)\n",
      "<Slide, name = B_213-ST_BFIW-SE_1683_processed>, width=300, height=375, channels=3, levels=1, RGB=True, dtype=uint8> <valis.slide_io.VipsSlideReader object at 0x7f4137856210> True (375, 300, 3)\n",
      "<Slide, name = B_213-ST_BFIW-SE_1684_processed>, width=300, height=375, channels=3, levels=1, RGB=True, dtype=uint8> <valis.slide_io.VipsSlideReader object at 0x7f4137856270> True (375, 300, 3)\n",
      "<Slide, name = B_213-ST_BFIW-SE_1685_processed>, width=300, height=375, channels=3, levels=1, RGB=True, dtype=uint8> <valis.slide_io.VipsSlideReader object at 0x7f41378562d0> True (375, 300, 3)\n",
      "<Slide, name = B_213-ST_BFIW-SE_1686_processed>, width=300, height=375, channels=3, levels=1, RGB=True, dtype=uint8> <valis.slide_io.VipsSlideReader object at 0x7f4137856330> True (375, 300, 3)\n",
      "<Slide, name = B_213-ST_BFIW-SE_1687_processed>, width=300, height=375, channels=3, levels=1, RGB=True, dtype=uint8> <valis.slide_io.VipsSlideReader object at 0x7f4137856390> True (375, 300, 3)\n",
      "<Slide, name = B_213-ST_BFIW-SE_1688_processed>, width=300, height=375, channels=3, levels=1, RGB=True, dtype=uint8> <valis.slide_io.VipsSlideReader object at 0x7f41378563f0> True (375, 300, 3)\n",
      "<Slide, name = B_213-ST_BFIW-SE_1689_processed>, width=300, height=375, channels=3, levels=1, RGB=True, dtype=uint8> <valis.slide_io.VipsSlideReader object at 0x7f4137856450> True (375, 300, 3)\n"
     ]
    },
    {
     "name": "stderr",
     "output_type": "stream",
     "text": [
      "Converting images:  63%|█████████████████████████████▋                 | 1661/2627 [00:19<00:11, 84.06image/s]"
     ]
    },
    {
     "name": "stdout",
     "output_type": "stream",
     "text": [
      "<Slide, name = B_213-ST_BFIW-SE_1690_processed>, width=300, height=375, channels=3, levels=1, RGB=True, dtype=uint8> <valis.slide_io.VipsSlideReader object at 0x7f41378564b0> True (375, 300, 3)\n",
      "<Slide, name = B_213-ST_BFIW-SE_1691_processed>, width=300, height=375, channels=3, levels=1, RGB=True, dtype=uint8> <valis.slide_io.VipsSlideReader object at 0x7f4137856510> True (375, 300, 3)\n",
      "<Slide, name = B_213-ST_BFIW-SE_1692_processed>, width=300, height=375, channels=3, levels=1, RGB=True, dtype=uint8> <valis.slide_io.VipsSlideReader object at 0x7f4137856570> True (375, 300, 3)\n",
      "<Slide, name = B_213-ST_BFIW-SE_1693_processed>, width=300, height=375, channels=3, levels=1, RGB=True, dtype=uint8> <valis.slide_io.VipsSlideReader object at 0x7f41378565d0> True (375, 300, 3)\n",
      "<Slide, name = B_213-ST_BFIW-SE_1694_processed>, width=300, height=375, channels=3, levels=1, RGB=True, dtype=uint8> <valis.slide_io.VipsSlideReader object at 0x7f4137856630> True (375, 300, 3)\n",
      "<Slide, name = B_213-ST_BFIW-SE_1695_processed>, width=300, height=375, channels=3, levels=1, RGB=True, dtype=uint8> <valis.slide_io.VipsSlideReader object at 0x7f4137804c50> True (375, 300, 3)\n",
      "<Slide, name = B_213-ST_BFIW-SE_1696_processed>, width=300, height=375, channels=3, levels=1, RGB=True, dtype=uint8> <valis.slide_io.VipsSlideReader object at 0x7f4137856840> True (375, 300, 3)\n",
      "<Slide, name = B_213-ST_BFIW-SE_1697_processed>, width=300, height=375, channels=3, levels=1, RGB=True, dtype=uint8> <valis.slide_io.VipsSlideReader object at 0x7f4137856780> True (375, 300, 3)\n",
      "<Slide, name = B_213-ST_BFIW-SE_1698_processed>, width=300, height=375, channels=3, levels=1, RGB=True, dtype=uint8> <valis.slide_io.VipsSlideReader object at 0x7f41378564e0> True (375, 300, 3)\n"
     ]
    },
    {
     "name": "stderr",
     "output_type": "stream",
     "text": [
      "Converting images:  64%|█████████████████████████████▉                 | 1670/2627 [00:19<00:11, 84.17image/s]"
     ]
    },
    {
     "name": "stdout",
     "output_type": "stream",
     "text": [
      "<Slide, name = B_213-ST_BFIW-SE_1699_processed>, width=300, height=375, channels=3, levels=1, RGB=True, dtype=uint8> <valis.slide_io.VipsSlideReader object at 0x7f4137856600> True (375, 300, 3)\n",
      "<Slide, name = B_213-ST_BFIW-SE_1700_processed>, width=300, height=375, channels=3, levels=1, RGB=True, dtype=uint8> <valis.slide_io.VipsSlideReader object at 0x7f4137856870> True (375, 300, 3)\n",
      "<Slide, name = B_213-ST_BFIW-SE_1701_processed>, width=300, height=375, channels=3, levels=1, RGB=True, dtype=uint8> <valis.slide_io.VipsSlideReader object at 0x7f41378568d0> True (375, 300, 3)\n",
      "<Slide, name = B_213-ST_BFIW-SE_1702_processed>, width=300, height=375, channels=3, levels=1, RGB=True, dtype=uint8> <valis.slide_io.VipsSlideReader object at 0x7f4137856930> True (375, 300, 3)\n",
      "<Slide, name = B_213-ST_BFIW-SE_1703_processed>, width=300, height=375, channels=3, levels=1, RGB=True, dtype=uint8> <valis.slide_io.VipsSlideReader object at 0x7f4137856990> True (375, 300, 3)\n",
      "<Slide, name = B_213-ST_BFIW-SE_1704_processed>, width=300, height=375, channels=3, levels=1, RGB=True, dtype=uint8> <valis.slide_io.VipsSlideReader object at 0x7f41378569f0> True (375, 300, 3)\n",
      "<Slide, name = B_213-ST_BFIW-SE_1705_processed>, width=300, height=375, channels=3, levels=1, RGB=True, dtype=uint8> <valis.slide_io.VipsSlideReader object at 0x7f4137856a50> True (375, 300, 3)\n",
      "<Slide, name = B_213-ST_BFIW-SE_1706_processed>, width=300, height=375, channels=3, levels=1, RGB=True, dtype=uint8> <valis.slide_io.VipsSlideReader object at 0x7f4137856ab0> True (375, 300, 3)\n",
      "<Slide, name = B_213-ST_BFIW-SE_1707_processed>, width=300, height=375, channels=3, levels=1, RGB=True, dtype=uint8> <valis.slide_io.VipsSlideReader object at 0x7f4137856b10> True (375, 300, 3)\n"
     ]
    },
    {
     "name": "stderr",
     "output_type": "stream",
     "text": [
      "Converting images:  64%|██████████████████████████████                 | 1679/2627 [00:19<00:11, 84.06image/s]"
     ]
    },
    {
     "name": "stdout",
     "output_type": "stream",
     "text": [
      "<Slide, name = B_213-ST_BFIW-SE_1708_processed>, width=300, height=375, channels=3, levels=1, RGB=True, dtype=uint8> <valis.slide_io.VipsSlideReader object at 0x7f4137856b70> True (375, 300, 3)\n",
      "<Slide, name = B_213-ST_BFIW-SE_1709_processed>, width=300, height=375, channels=3, levels=1, RGB=True, dtype=uint8> <valis.slide_io.VipsSlideReader object at 0x7f4137856bd0> True (375, 300, 3)\n",
      "<Slide, name = B_213-ST_BFIW-SE_1710_processed>, width=300, height=375, channels=3, levels=1, RGB=True, dtype=uint8> <valis.slide_io.VipsSlideReader object at 0x7f4137856c30> True (375, 300, 3)\n",
      "<Slide, name = B_213-ST_BFIW-SE_1711_processed>, width=300, height=375, channels=3, levels=1, RGB=True, dtype=uint8> <valis.slide_io.VipsSlideReader object at 0x7f4137856c90> True (375, 300, 3)\n",
      "<Slide, name = B_213-ST_BFIW-SE_1712_processed>, width=300, height=375, channels=3, levels=1, RGB=True, dtype=uint8> <valis.slide_io.VipsSlideReader object at 0x7f4137856cf0> True (375, 300, 3)\n",
      "<Slide, name = B_213-ST_BFIW-SE_1713_processed>, width=300, height=375, channels=3, levels=1, RGB=True, dtype=uint8> <valis.slide_io.VipsSlideReader object at 0x7f4137856d50> True (375, 300, 3)\n",
      "<Slide, name = B_213-ST_BFIW-SE_1714_processed>, width=300, height=375, channels=3, levels=1, RGB=True, dtype=uint8> <valis.slide_io.VipsSlideReader object at 0x7f4137856db0> True (375, 300, 3)\n",
      "<Slide, name = B_213-ST_BFIW-SE_1715_processed>, width=300, height=375, channels=3, levels=1, RGB=True, dtype=uint8> <valis.slide_io.VipsSlideReader object at 0x7f4137856e10> True (375, 300, 3)\n",
      "<Slide, name = B_213-ST_BFIW-SE_1716_processed>, width=300, height=375, channels=3, levels=1, RGB=True, dtype=uint8> <valis.slide_io.VipsSlideReader object at 0x7f4137856e70> True (375, 300, 3)\n"
     ]
    },
    {
     "name": "stderr",
     "output_type": "stream",
     "text": [
      "Converting images:  64%|██████████████████████████████▏                | 1688/2627 [00:19<00:11, 83.63image/s]"
     ]
    },
    {
     "name": "stdout",
     "output_type": "stream",
     "text": [
      "<Slide, name = B_213-ST_BFIW-SE_1717_processed>, width=300, height=375, channels=3, levels=1, RGB=True, dtype=uint8> <valis.slide_io.VipsSlideReader object at 0x7f4137856ed0> True (375, 300, 3)\n",
      "<Slide, name = B_213-ST_BFIW-SE_1718_processed>, width=300, height=375, channels=3, levels=1, RGB=True, dtype=uint8> <valis.slide_io.VipsSlideReader object at 0x7f4137856f30> True (375, 300, 3)\n",
      "<Slide, name = B_213-ST_BFIW-SE_1719_processed>, width=300, height=375, channels=3, levels=1, RGB=True, dtype=uint8> <valis.slide_io.VipsSlideReader object at 0x7f4137856f90> True (375, 300, 3)\n",
      "<Slide, name = B_213-ST_BFIW-SE_1720_processed>, width=300, height=375, channels=3, levels=1, RGB=True, dtype=uint8> <valis.slide_io.VipsSlideReader object at 0x7f4137856ff0> True (375, 300, 3)\n",
      "<Slide, name = B_213-ST_BFIW-SE_1721_processed>, width=300, height=375, channels=3, levels=1, RGB=True, dtype=uint8> <valis.slide_io.VipsSlideReader object at 0x7f4137857050> True (375, 300, 3)\n",
      "<Slide, name = B_213-ST_BFIW-SE_1722_processed>, width=300, height=375, channels=3, levels=1, RGB=True, dtype=uint8> <valis.slide_io.VipsSlideReader object at 0x7f41378570b0> True (375, 300, 3)\n",
      "<Slide, name = B_213-ST_BFIW-SE_1723_processed>, width=300, height=375, channels=3, levels=1, RGB=True, dtype=uint8> <valis.slide_io.VipsSlideReader object at 0x7f4137857110> True (375, 300, 3)\n",
      "<Slide, name = B_213-ST_BFIW-SE_1724_processed>, width=300, height=375, channels=3, levels=1, RGB=True, dtype=uint8> <valis.slide_io.VipsSlideReader object at 0x7f4137857170> True (375, 300, 3)\n",
      "<Slide, name = B_213-ST_BFIW-SE_1725_processed>, width=300, height=375, channels=3, levels=1, RGB=True, dtype=uint8> <valis.slide_io.VipsSlideReader object at 0x7f4137857200> True (375, 300, 3)\n"
     ]
    },
    {
     "name": "stderr",
     "output_type": "stream",
     "text": [
      "Converting images:  65%|██████████████████████████████▎                | 1697/2627 [00:19<00:11, 83.66image/s]"
     ]
    },
    {
     "name": "stdout",
     "output_type": "stream",
     "text": [
      "<Slide, name = B_213-ST_BFIW-SE_1726_processed>, width=300, height=375, channels=3, levels=1, RGB=True, dtype=uint8> <valis.slide_io.VipsSlideReader object at 0x7f4137857260> True (375, 300, 3)\n",
      "<Slide, name = B_213-ST_BFIW-SE_1727_processed>, width=300, height=375, channels=3, levels=1, RGB=True, dtype=uint8> <valis.slide_io.VipsSlideReader object at 0x7f41378572c0> True (375, 300, 3)\n",
      "<Slide, name = B_213-ST_BFIW-SE_1728_processed>, width=300, height=375, channels=3, levels=1, RGB=True, dtype=uint8> <valis.slide_io.VipsSlideReader object at 0x7f4137857320> True (375, 300, 3)\n",
      "<Slide, name = B_213-ST_BFIW-SE_1729_processed>, width=300, height=375, channels=3, levels=1, RGB=True, dtype=uint8> <valis.slide_io.VipsSlideReader object at 0x7f4137857380> True (375, 300, 3)\n",
      "<Slide, name = B_213-ST_BFIW-SE_1730_processed>, width=300, height=375, channels=3, levels=1, RGB=True, dtype=uint8> <valis.slide_io.VipsSlideReader object at 0x7f41378573e0> True (375, 300, 3)\n",
      "<Slide, name = B_213-ST_BFIW-SE_1731_processed>, width=300, height=375, channels=3, levels=1, RGB=True, dtype=uint8> <valis.slide_io.VipsSlideReader object at 0x7f4137857440> True (375, 300, 3)\n",
      "<Slide, name = B_213-ST_BFIW-SE_1732_processed>, width=300, height=375, channels=3, levels=1, RGB=True, dtype=uint8> <valis.slide_io.VipsSlideReader object at 0x7f41378574a0> True (375, 300, 3)\n",
      "<Slide, name = B_213-ST_BFIW-SE_1733_processed>, width=300, height=375, channels=3, levels=1, RGB=True, dtype=uint8> <valis.slide_io.VipsSlideReader object at 0x7f4137857500> True (375, 300, 3)\n",
      "<Slide, name = B_213-ST_BFIW-SE_1734_processed>, width=300, height=375, channels=3, levels=1, RGB=True, dtype=uint8> <valis.slide_io.VipsSlideReader object at 0x7f4137857560> True (375, 300, 3)\n"
     ]
    },
    {
     "name": "stderr",
     "output_type": "stream",
     "text": [
      "Converting images:  65%|██████████████████████████████▌                | 1706/2627 [00:19<00:11, 82.96image/s]"
     ]
    },
    {
     "name": "stdout",
     "output_type": "stream",
     "text": [
      "<Slide, name = B_213-ST_BFIW-SE_1735_processed>, width=300, height=375, channels=3, levels=1, RGB=True, dtype=uint8> <valis.slide_io.VipsSlideReader object at 0x7f41378575c0> True (375, 300, 3)\n",
      "<Slide, name = B_213-ST_BFIW-SE_1736_processed>, width=300, height=375, channels=3, levels=1, RGB=True, dtype=uint8> <valis.slide_io.VipsSlideReader object at 0x7f4137857620> True (375, 300, 3)\n",
      "<Slide, name = B_213-ST_BFIW-SE_1737_processed>, width=300, height=375, channels=3, levels=1, RGB=True, dtype=uint8> <valis.slide_io.VipsSlideReader object at 0x7f4137857680> True (375, 300, 3)\n",
      "<Slide, name = B_213-ST_BFIW-SE_1738_processed>, width=300, height=375, channels=3, levels=1, RGB=True, dtype=uint8> <valis.slide_io.VipsSlideReader object at 0x7f41378576e0> True (375, 300, 3)\n",
      "<Slide, name = B_213-ST_BFIW-SE_1739_processed>, width=300, height=375, channels=3, levels=1, RGB=True, dtype=uint8> <valis.slide_io.VipsSlideReader object at 0x7f4137857740> True (375, 300, 3)\n",
      "<Slide, name = B_213-ST_BFIW-SE_1740_processed>, width=300, height=375, channels=3, levels=1, RGB=True, dtype=uint8> <valis.slide_io.VipsSlideReader object at 0x7f41378577a0> True (375, 300, 3)\n",
      "<Slide, name = B_213-ST_BFIW-SE_1741_processed>, width=300, height=375, channels=3, levels=1, RGB=True, dtype=uint8> <valis.slide_io.VipsSlideReader object at 0x7f4137857800> True (375, 300, 3)\n",
      "<Slide, name = B_213-ST_BFIW-SE_1742_processed>, width=300, height=375, channels=3, levels=1, RGB=True, dtype=uint8> <valis.slide_io.VipsSlideReader object at 0x7f4137857860> True (375, 300, 3)\n",
      "<Slide, name = B_213-ST_BFIW-SE_1743_processed>, width=300, height=375, channels=3, levels=1, RGB=True, dtype=uint8> <valis.slide_io.VipsSlideReader object at 0x7f41378578c0> True (375, 300, 3)\n"
     ]
    },
    {
     "name": "stderr",
     "output_type": "stream",
     "text": [
      "Converting images:  65%|██████████████████████████████▋                | 1715/2627 [00:19<00:11, 82.66image/s]"
     ]
    },
    {
     "name": "stdout",
     "output_type": "stream",
     "text": [
      "<Slide, name = B_213-ST_BFIW-SE_1744_processed>, width=300, height=375, channels=3, levels=1, RGB=True, dtype=uint8> <valis.slide_io.VipsSlideReader object at 0x7f4137857920> True (375, 300, 3)\n",
      "<Slide, name = B_213-ST_BFIW-SE_1745_processed>, width=300, height=375, channels=3, levels=1, RGB=True, dtype=uint8> <valis.slide_io.VipsSlideReader object at 0x7f4137857980> True (375, 300, 3)\n",
      "<Slide, name = B_213-ST_BFIW-SE_1746_processed>, width=300, height=375, channels=3, levels=1, RGB=True, dtype=uint8> <valis.slide_io.VipsSlideReader object at 0x7f41378579e0> True (375, 300, 3)\n",
      "<Slide, name = B_213-ST_BFIW-SE_1747_processed>, width=300, height=375, channels=3, levels=1, RGB=True, dtype=uint8> <valis.slide_io.VipsSlideReader object at 0x7f4137857a40> True (375, 300, 3)\n",
      "<Slide, name = B_213-ST_BFIW-SE_1748_processed>, width=300, height=375, channels=3, levels=1, RGB=True, dtype=uint8> <valis.slide_io.VipsSlideReader object at 0x7f4137857aa0> True (375, 300, 3)\n",
      "<Slide, name = B_213-ST_BFIW-SE_1749_processed>, width=300, height=375, channels=3, levels=1, RGB=True, dtype=uint8> <valis.slide_io.VipsSlideReader object at 0x7f4137857b00> True (375, 300, 3)\n",
      "<Slide, name = B_213-ST_BFIW-SE_1750_processed>, width=300, height=375, channels=3, levels=1, RGB=True, dtype=uint8> <valis.slide_io.VipsSlideReader object at 0x7f4137857b60> True (375, 300, 3)\n",
      "<Slide, name = B_213-ST_BFIW-SE_1751_processed>, width=300, height=375, channels=3, levels=1, RGB=True, dtype=uint8> <valis.slide_io.VipsSlideReader object at 0x7f4137857bc0> True (375, 300, 3)\n",
      "<Slide, name = B_213-ST_BFIW-SE_1752_processed>, width=300, height=375, channels=3, levels=1, RGB=True, dtype=uint8> <valis.slide_io.VipsSlideReader object at 0x7f413784eed0> True (375, 300, 3)\n"
     ]
    },
    {
     "name": "stderr",
     "output_type": "stream",
     "text": [
      "Converting images:  66%|██████████████████████████████▊                | 1724/2627 [00:19<00:11, 81.83image/s]"
     ]
    },
    {
     "name": "stdout",
     "output_type": "stream",
     "text": [
      "<Slide, name = B_213-ST_BFIW-SE_1753_processed>, width=300, height=375, channels=3, levels=1, RGB=True, dtype=uint8> <valis.slide_io.VipsSlideReader object at 0x7f4137857dd0> True (375, 300, 3)\n",
      "<Slide, name = B_213-ST_BFIW-SE_1754_processed>, width=300, height=375, channels=3, levels=1, RGB=True, dtype=uint8> <valis.slide_io.VipsSlideReader object at 0x7f4137857ce0> True (375, 300, 3)\n",
      "<Slide, name = B_213-ST_BFIW-SE_1755_processed>, width=300, height=375, channels=3, levels=1, RGB=True, dtype=uint8> <valis.slide_io.VipsSlideReader object at 0x7f4137857a70> True (375, 300, 3)\n",
      "<Slide, name = B_213-ST_BFIW-SE_1756_processed>, width=300, height=375, channels=3, levels=1, RGB=True, dtype=uint8> <valis.slide_io.VipsSlideReader object at 0x7f4137857b90> True (375, 300, 3)\n",
      "<Slide, name = B_213-ST_BFIW-SE_1757_processed>, width=300, height=375, channels=3, levels=1, RGB=True, dtype=uint8> <valis.slide_io.VipsSlideReader object at 0x7f4137857e00> True (375, 300, 3)\n",
      "<Slide, name = B_213-ST_BFIW-SE_1758_processed>, width=300, height=375, channels=3, levels=1, RGB=True, dtype=uint8> <valis.slide_io.VipsSlideReader object at 0x7f4137857e60> True (375, 300, 3)\n",
      "<Slide, name = B_213-ST_BFIW-SE_1759_processed>, width=300, height=375, channels=3, levels=1, RGB=True, dtype=uint8> <valis.slide_io.VipsSlideReader object at 0x7f4137857ec0> True (375, 300, 3)\n",
      "<Slide, name = B_213-ST_BFIW-SE_1760_processed>, width=300, height=375, channels=3, levels=1, RGB=True, dtype=uint8> <valis.slide_io.VipsSlideReader object at 0x7f4137857f50> True (375, 300, 3)\n",
      "<Slide, name = B_213-ST_BFIW-SE_1761_processed>, width=300, height=375, channels=3, levels=1, RGB=True, dtype=uint8> <valis.slide_io.VipsSlideReader object at 0x7f4137857ef0> True (375, 300, 3)\n"
     ]
    },
    {
     "name": "stderr",
     "output_type": "stream",
     "text": [
      "Converting images:  66%|███████████████████████████████                | 1733/2627 [00:20<00:10, 82.22image/s]"
     ]
    },
    {
     "name": "stdout",
     "output_type": "stream",
     "text": [
      "<Slide, name = B_213-ST_BFIW-SE_1762_processed>, width=300, height=375, channels=3, levels=1, RGB=True, dtype=uint8> <valis.slide_io.VipsSlideReader object at 0x7f4137857d40> True (375, 300, 3)\n",
      "<Slide, name = B_213-ST_BFIW-SE_1763_processed>, width=300, height=375, channels=3, levels=1, RGB=True, dtype=uint8> <valis.slide_io.VipsSlideReader object at 0x7f4137857fe0> True (375, 300, 3)\n",
      "<Slide, name = B_213-ST_BFIW-SE_1764_processed>, width=300, height=375, channels=3, levels=1, RGB=True, dtype=uint8> <valis.slide_io.VipsSlideReader object at 0x7f4137857f80> True (375, 300, 3)\n",
      "<Slide, name = B_213-ST_BFIW-SE_1765_processed>, width=300, height=375, channels=3, levels=1, RGB=True, dtype=uint8> <valis.slide_io.VipsSlideReader object at 0x7f4137857e90> True (375, 300, 3)\n",
      "<Slide, name = B_213-ST_BFIW-SE_1766_processed>, width=300, height=375, channels=3, levels=1, RGB=True, dtype=uint8> <valis.slide_io.VipsSlideReader object at 0x7f4137857c50> True (375, 300, 3)\n",
      "<Slide, name = B_213-ST_BFIW-SE_1767_processed>, width=300, height=375, channels=3, levels=1, RGB=True, dtype=uint8> <valis.slide_io.VipsSlideReader object at 0x7f4137857a10> True (375, 300, 3)\n",
      "<Slide, name = B_213-ST_BFIW-SE_1768_processed>, width=300, height=375, channels=3, levels=1, RGB=True, dtype=uint8> <valis.slide_io.VipsSlideReader object at 0x7f413784c2c0> True (375, 300, 3)\n",
      "<Slide, name = B_213-ST_BFIW-SE_1769_processed>, width=300, height=375, channels=3, levels=1, RGB=True, dtype=uint8> <valis.slide_io.VipsSlideReader object at 0x7f413785c140> True (375, 300, 3)\n",
      "<Slide, name = B_213-ST_BFIW-SE_1770_processed>, width=300, height=375, channels=3, levels=1, RGB=True, dtype=uint8> <valis.slide_io.VipsSlideReader object at 0x7f413785c200> True (375, 300, 3)\n"
     ]
    },
    {
     "name": "stderr",
     "output_type": "stream",
     "text": [
      "Converting images:  66%|███████████████████████████████▏               | 1742/2627 [00:20<00:10, 82.48image/s]"
     ]
    },
    {
     "name": "stdout",
     "output_type": "stream",
     "text": [
      "<Slide, name = B_213-ST_BFIW-SE_1771_processed>, width=300, height=375, channels=3, levels=1, RGB=True, dtype=uint8> <valis.slide_io.VipsSlideReader object at 0x7f4137854260> True (375, 300, 3)\n",
      "<Slide, name = B_213-ST_BFIW-SE_1772_processed>, width=300, height=375, channels=3, levels=1, RGB=True, dtype=uint8> <valis.slide_io.VipsSlideReader object at 0x7f4137824230> True (375, 300, 3)\n",
      "<Slide, name = B_213-ST_BFIW-SE_1773_processed>, width=300, height=375, channels=3, levels=1, RGB=True, dtype=uint8> <valis.slide_io.VipsSlideReader object at 0x7f413782c3b0> True (375, 300, 3)\n",
      "<Slide, name = B_213-ST_BFIW-SE_1774_processed>, width=300, height=375, channels=3, levels=1, RGB=True, dtype=uint8> <valis.slide_io.VipsSlideReader object at 0x7f413785c440> True (375, 300, 3)\n",
      "<Slide, name = B_213-ST_BFIW-SE_1775_processed>, width=300, height=375, channels=3, levels=1, RGB=True, dtype=uint8> <valis.slide_io.VipsSlideReader object at 0x7f4137bdc470> True (375, 300, 3)\n",
      "<Slide, name = B_213-ST_BFIW-SE_1776_processed>, width=300, height=375, channels=3, levels=1, RGB=True, dtype=uint8> <valis.slide_io.VipsSlideReader object at 0x7f413785c4a0> True (375, 300, 3)\n",
      "<Slide, name = B_213-ST_BFIW-SE_1777_processed>, width=300, height=375, channels=3, levels=1, RGB=True, dtype=uint8> <valis.slide_io.VipsSlideReader object at 0x7f413785c290> True (375, 300, 3)\n",
      "<Slide, name = B_213-ST_BFIW-SE_1778_processed>, width=300, height=375, channels=3, levels=1, RGB=True, dtype=uint8> <valis.slide_io.VipsSlideReader object at 0x7f413785c350> True (375, 300, 3)\n",
      "<Slide, name = B_213-ST_BFIW-SE_1779_processed>, width=300, height=375, channels=3, levels=1, RGB=True, dtype=uint8> <valis.slide_io.VipsSlideReader object at 0x7f413785c4d0> True (375, 300, 3)\n"
     ]
    },
    {
     "name": "stderr",
     "output_type": "stream",
     "text": [
      "Converting images:  67%|███████████████████████████████▎               | 1751/2627 [00:20<00:10, 82.32image/s]"
     ]
    },
    {
     "name": "stdout",
     "output_type": "stream",
     "text": [
      "<Slide, name = B_213-ST_BFIW-SE_1780_processed>, width=300, height=375, channels=3, levels=1, RGB=True, dtype=uint8> <valis.slide_io.VipsSlideReader object at 0x7f413785c710> True (375, 300, 3)\n",
      "<Slide, name = B_213-ST_BFIW-SE_1781_processed>, width=300, height=375, channels=3, levels=1, RGB=True, dtype=uint8> <valis.slide_io.VipsSlideReader object at 0x7f4137804860> True (375, 300, 3)\n",
      "<Slide, name = B_213-ST_BFIW-SE_1782_processed>, width=300, height=375, channels=3, levels=1, RGB=True, dtype=uint8> <valis.slide_io.VipsSlideReader object at 0x7f413785c050> True (375, 300, 3)\n",
      "<Slide, name = B_213-ST_BFIW-SE_1783_processed>, width=300, height=375, channels=3, levels=1, RGB=True, dtype=uint8> <valis.slide_io.VipsSlideReader object at 0x7f413784c7a0> True (375, 300, 3)\n",
      "<Slide, name = B_213-ST_BFIW-SE_1784_processed>, width=300, height=375, channels=3, levels=1, RGB=True, dtype=uint8> <valis.slide_io.VipsSlideReader object at 0x7f413784c9b0> True (375, 300, 3)\n",
      "<Slide, name = B_213-ST_BFIW-SE_1785_processed>, width=300, height=375, channels=3, levels=1, RGB=True, dtype=uint8> <valis.slide_io.VipsSlideReader object at 0x7f413784c6b0> True (375, 300, 3)\n",
      "<Slide, name = B_213-ST_BFIW-SE_1786_processed>, width=300, height=375, channels=3, levels=1, RGB=True, dtype=uint8> <valis.slide_io.VipsSlideReader object at 0x7f413785c890> True (375, 300, 3)\n",
      "<Slide, name = B_213-ST_BFIW-SE_1787_processed>, width=300, height=375, channels=3, levels=1, RGB=True, dtype=uint8> <valis.slide_io.VipsSlideReader object at 0x7f413784c5c0> True (375, 300, 3)\n",
      "<Slide, name = B_213-ST_BFIW-SE_1788_processed>, width=300, height=375, channels=3, levels=1, RGB=True, dtype=uint8> <valis.slide_io.VipsSlideReader object at 0x7f413785c830> True (375, 300, 3)\n"
     ]
    },
    {
     "name": "stderr",
     "output_type": "stream",
     "text": [
      "Converting images:  67%|███████████████████████████████▍               | 1760/2627 [00:20<00:10, 82.33image/s]"
     ]
    },
    {
     "name": "stdout",
     "output_type": "stream",
     "text": [
      "<Slide, name = B_213-ST_BFIW-SE_1789_processed>, width=300, height=375, channels=3, levels=1, RGB=True, dtype=uint8> <valis.slide_io.VipsSlideReader object at 0x7f413785ca40> True (375, 300, 3)\n",
      "<Slide, name = B_213-ST_BFIW-SE_1790_processed>, width=300, height=375, channels=3, levels=1, RGB=True, dtype=uint8> <valis.slide_io.VipsSlideReader object at 0x7f413785c950> True (375, 300, 3)\n",
      "<Slide, name = B_213-ST_BFIW-SE_1791_processed>, width=300, height=375, channels=3, levels=1, RGB=True, dtype=uint8> <valis.slide_io.VipsSlideReader object at 0x7f413780c6e0> True (375, 300, 3)\n",
      "<Slide, name = B_213-ST_BFIW-SE_1792_processed>, width=300, height=375, channels=3, levels=1, RGB=True, dtype=uint8> <valis.slide_io.VipsSlideReader object at 0x7f413785cb00> True (375, 300, 3)\n",
      "<Slide, name = B_213-ST_BFIW-SE_1793_processed>, width=300, height=375, channels=3, levels=1, RGB=True, dtype=uint8> <valis.slide_io.VipsSlideReader object at 0x7f413785cad0> True (375, 300, 3)\n",
      "<Slide, name = B_213-ST_BFIW-SE_1794_processed>, width=300, height=375, channels=3, levels=1, RGB=True, dtype=uint8> <valis.slide_io.VipsSlideReader object at 0x7f4137bdcc20> True (375, 300, 3)\n",
      "<Slide, name = B_213-ST_BFIW-SE_1795_processed>, width=300, height=375, channels=3, levels=1, RGB=True, dtype=uint8> <valis.slide_io.VipsSlideReader object at 0x7f413784ce60> True (375, 300, 3)\n",
      "<Slide, name = B_213-ST_BFIW-SE_1796_processed>, width=300, height=375, channels=3, levels=1, RGB=True, dtype=uint8> <valis.slide_io.VipsSlideReader object at 0x7f413785ce00> True (375, 300, 3)\n",
      "<Slide, name = B_213-ST_BFIW-SE_1797_processed>, width=300, height=375, channels=3, levels=1, RGB=True, dtype=uint8> <valis.slide_io.VipsSlideReader object at 0x7f413785cef0> True (375, 300, 3)\n"
     ]
    },
    {
     "name": "stderr",
     "output_type": "stream",
     "text": [
      "Converting images:  67%|███████████████████████████████▋               | 1769/2627 [00:20<00:10, 82.87image/s]"
     ]
    },
    {
     "name": "stdout",
     "output_type": "stream",
     "text": [
      "<Slide, name = B_213-ST_BFIW-SE_1798_processed>, width=300, height=375, channels=3, levels=1, RGB=True, dtype=uint8> <valis.slide_io.VipsSlideReader object at 0x7f413784ccb0> True (375, 300, 3)\n",
      "<Slide, name = B_213-ST_BFIW-SE_1799_processed>, width=300, height=375, channels=3, levels=1, RGB=True, dtype=uint8> <valis.slide_io.VipsSlideReader object at 0x7f413785cd40> True (375, 300, 3)\n",
      "<Slide, name = B_213-ST_BFIW-SE_1800_processed>, width=300, height=375, channels=3, levels=1, RGB=True, dtype=uint8> <valis.slide_io.VipsSlideReader object at 0x7f413784cf20> True (375, 300, 3)\n",
      "<Slide, name = B_213-ST_BFIW-SE_1801_processed>, width=300, height=375, channels=3, levels=1, RGB=True, dtype=uint8> <valis.slide_io.VipsSlideReader object at 0x7f413784caa0> True (375, 300, 3)\n",
      "<Slide, name = B_213-ST_BFIW-SE_1802_processed>, width=300, height=375, channels=3, levels=1, RGB=True, dtype=uint8> <valis.slide_io.VipsSlideReader object at 0x7f413784cfe0> True (375, 300, 3)\n",
      "<Slide, name = B_213-ST_BFIW-SE_1803_processed>, width=300, height=375, channels=3, levels=1, RGB=True, dtype=uint8> <valis.slide_io.VipsSlideReader object at 0x7f413784d040> True (375, 300, 3)\n",
      "<Slide, name = B_213-ST_BFIW-SE_1804_processed>, width=300, height=375, channels=3, levels=1, RGB=True, dtype=uint8> <valis.slide_io.VipsSlideReader object at 0x7f413780d0a0> True (375, 300, 3)\n",
      "<Slide, name = B_213-ST_BFIW-SE_1805_processed>, width=300, height=375, channels=3, levels=1, RGB=True, dtype=uint8> <valis.slide_io.VipsSlideReader object at 0x7f413785ce90> True (375, 300, 3)\n",
      "<Slide, name = B_213-ST_BFIW-SE_1806_processed>, width=300, height=375, channels=3, levels=1, RGB=True, dtype=uint8> <valis.slide_io.VipsSlideReader object at 0x7f413785d160> True (375, 300, 3)\n"
     ]
    },
    {
     "name": "stderr",
     "output_type": "stream",
     "text": [
      "Converting images:  68%|███████████████████████████████▊               | 1778/2627 [00:20<00:10, 82.80image/s]"
     ]
    },
    {
     "name": "stdout",
     "output_type": "stream",
     "text": [
      "<Slide, name = B_213-ST_BFIW-SE_1807_processed>, width=300, height=375, channels=3, levels=1, RGB=True, dtype=uint8> <valis.slide_io.VipsSlideReader object at 0x7f413785cb90> True (375, 300, 3)\n",
      "<Slide, name = B_213-ST_BFIW-SE_1808_processed>, width=300, height=375, channels=3, levels=1, RGB=True, dtype=uint8> <valis.slide_io.VipsSlideReader object at 0x7f413780cf80> True (375, 300, 3)\n",
      "<Slide, name = B_213-ST_BFIW-SE_1809_processed>, width=300, height=375, channels=3, levels=1, RGB=True, dtype=uint8> <valis.slide_io.VipsSlideReader object at 0x7f413784d130> True (375, 300, 3)\n",
      "<Slide, name = B_213-ST_BFIW-SE_1810_processed>, width=300, height=375, channels=3, levels=1, RGB=True, dtype=uint8> <valis.slide_io.VipsSlideReader object at 0x7f413785d220> True (375, 300, 3)\n",
      "<Slide, name = B_213-ST_BFIW-SE_1811_processed>, width=300, height=375, channels=3, levels=1, RGB=True, dtype=uint8> <valis.slide_io.VipsSlideReader object at 0x7f413785d370> True (375, 300, 3)\n",
      "<Slide, name = B_213-ST_BFIW-SE_1812_processed>, width=300, height=375, channels=3, levels=1, RGB=True, dtype=uint8> <valis.slide_io.VipsSlideReader object at 0x7f413784d520> True (375, 300, 3)\n",
      "<Slide, name = B_213-ST_BFIW-SE_1813_processed>, width=300, height=375, channels=3, levels=1, RGB=True, dtype=uint8> <valis.slide_io.VipsSlideReader object at 0x7f413785d2e0> True (375, 300, 3)\n",
      "<Slide, name = B_213-ST_BFIW-SE_1814_processed>, width=300, height=375, channels=3, levels=1, RGB=True, dtype=uint8> <valis.slide_io.VipsSlideReader object at 0x7f413785d280> True (375, 300, 3)\n",
      "<Slide, name = B_213-ST_BFIW-SE_1815_processed>, width=300, height=375, channels=3, levels=1, RGB=True, dtype=uint8> <valis.slide_io.VipsSlideReader object at 0x7f413785d5b0> True (375, 300, 3)\n"
     ]
    },
    {
     "name": "stderr",
     "output_type": "stream",
     "text": [
      "Converting images:  68%|███████████████████████████████▉               | 1787/2627 [00:20<00:10, 82.79image/s]"
     ]
    },
    {
     "name": "stdout",
     "output_type": "stream",
     "text": [
      "<Slide, name = B_213-ST_BFIW-SE_1816_processed>, width=300, height=375, channels=3, levels=1, RGB=True, dtype=uint8> <valis.slide_io.VipsSlideReader object at 0x7f41377fd4c0> True (375, 300, 3)\n",
      "<Slide, name = B_213-ST_BFIW-SE_1817_processed>, width=300, height=375, channels=3, levels=1, RGB=True, dtype=uint8> <valis.slide_io.VipsSlideReader object at 0x7f413785d760> True (375, 300, 3)\n",
      "<Slide, name = B_213-ST_BFIW-SE_1818_processed>, width=300, height=375, channels=3, levels=1, RGB=True, dtype=uint8> <valis.slide_io.VipsSlideReader object at 0x7f4137805640> True (375, 300, 3)\n",
      "<Slide, name = B_213-ST_BFIW-SE_1819_processed>, width=300, height=375, channels=3, levels=1, RGB=True, dtype=uint8> <valis.slide_io.VipsSlideReader object at 0x7f413785d3a0> True (375, 300, 3)\n",
      "<Slide, name = B_213-ST_BFIW-SE_1820_processed>, width=300, height=375, channels=3, levels=1, RGB=True, dtype=uint8> <valis.slide_io.VipsSlideReader object at 0x7f413780d460> True (375, 300, 3)\n",
      "<Slide, name = B_213-ST_BFIW-SE_1821_processed>, width=300, height=375, channels=3, levels=1, RGB=True, dtype=uint8> <valis.slide_io.VipsSlideReader object at 0x7f413785d8e0> True (375, 300, 3)\n",
      "<Slide, name = B_213-ST_BFIW-SE_1822_processed>, width=300, height=375, channels=3, levels=1, RGB=True, dtype=uint8> <valis.slide_io.VipsSlideReader object at 0x7f4137805670> True (375, 300, 3)\n",
      "<Slide, name = B_213-ST_BFIW-SE_1823_processed>, width=300, height=375, channels=3, levels=1, RGB=True, dtype=uint8> <valis.slide_io.VipsSlideReader object at 0x7f413785d9a0> True (375, 300, 3)\n",
      "<Slide, name = B_213-ST_BFIW-SE_1824_processed>, width=300, height=375, channels=3, levels=1, RGB=True, dtype=uint8> <valis.slide_io.VipsSlideReader object at 0x7f413784d7c0> True (375, 300, 3)\n"
     ]
    },
    {
     "name": "stderr",
     "output_type": "stream",
     "text": [
      "Converting images:  68%|████████████████████████████████▏              | 1796/2627 [00:20<00:09, 83.16image/s]"
     ]
    },
    {
     "name": "stdout",
     "output_type": "stream",
     "text": [
      "<Slide, name = B_213-ST_BFIW-SE_1825_processed>, width=300, height=375, channels=3, levels=1, RGB=True, dtype=uint8> <valis.slide_io.VipsSlideReader object at 0x7f413785d610> True (375, 300, 3)\n",
      "<Slide, name = B_213-ST_BFIW-SE_1826_processed>, width=300, height=375, channels=3, levels=1, RGB=True, dtype=uint8> <valis.slide_io.VipsSlideReader object at 0x7f413785d940> True (375, 300, 3)\n",
      "<Slide, name = B_213-ST_BFIW-SE_1827_processed>, width=300, height=375, channels=3, levels=1, RGB=True, dtype=uint8> <valis.slide_io.VipsSlideReader object at 0x7f413784da30> True (375, 300, 3)\n",
      "<Slide, name = B_213-ST_BFIW-SE_1828_processed>, width=300, height=375, channels=3, levels=1, RGB=True, dtype=uint8> <valis.slide_io.VipsSlideReader object at 0x7f413784dbe0> True (375, 300, 3)\n",
      "<Slide, name = B_213-ST_BFIW-SE_1829_processed>, width=300, height=375, channels=3, levels=1, RGB=True, dtype=uint8> <valis.slide_io.VipsSlideReader object at 0x7f4137da58b0> True (375, 300, 3)\n",
      "<Slide, name = B_213-ST_BFIW-SE_1830_processed>, width=300, height=375, channels=3, levels=1, RGB=True, dtype=uint8> <valis.slide_io.VipsSlideReader object at 0x7f413916dbb0> True (375, 300, 3)\n",
      "<Slide, name = B_213-ST_BFIW-SE_1831_processed>, width=300, height=375, channels=3, levels=1, RGB=True, dtype=uint8> <valis.slide_io.VipsSlideReader object at 0x7f413785da90> True (375, 300, 3)\n",
      "<Slide, name = B_213-ST_BFIW-SE_1832_processed>, width=300, height=375, channels=3, levels=1, RGB=True, dtype=uint8> <valis.slide_io.VipsSlideReader object at 0x7f413784dc40> True (375, 300, 3)\n",
      "<Slide, name = B_213-ST_BFIW-SE_1833_processed>, width=300, height=375, channels=3, levels=1, RGB=True, dtype=uint8> <valis.slide_io.VipsSlideReader object at 0x7f413785d850> True (375, 300, 3)\n"
     ]
    },
    {
     "name": "stderr",
     "output_type": "stream",
     "text": [
      "Converting images:  69%|████████████████████████████████▎              | 1805/2627 [00:20<00:09, 84.00image/s]"
     ]
    },
    {
     "name": "stdout",
     "output_type": "stream",
     "text": [
      "<Slide, name = B_213-ST_BFIW-SE_1834_processed>, width=300, height=375, channels=3, levels=1, RGB=True, dtype=uint8> <valis.slide_io.VipsSlideReader object at 0x7f4137805af0> True (375, 300, 3)\n",
      "<Slide, name = B_213-ST_BFIW-SE_1835_processed>, width=300, height=375, channels=3, levels=1, RGB=True, dtype=uint8> <valis.slide_io.VipsSlideReader object at 0x7f413780ddf0> True (375, 300, 3)\n",
      "<Slide, name = B_213-ST_BFIW-SE_1836_processed>, width=300, height=375, channels=3, levels=1, RGB=True, dtype=uint8> <valis.slide_io.VipsSlideReader object at 0x7f413785dca0> True (375, 300, 3)\n",
      "<Slide, name = B_213-ST_BFIW-SE_1837_processed>, width=300, height=375, channels=3, levels=1, RGB=True, dtype=uint8> <valis.slide_io.VipsSlideReader object at 0x7f413785de20> True (375, 300, 3)\n",
      "<Slide, name = B_213-ST_BFIW-SE_1838_processed>, width=300, height=375, channels=3, levels=1, RGB=True, dtype=uint8> <valis.slide_io.VipsSlideReader object at 0x7f413785db50> True (375, 300, 3)\n",
      "<Slide, name = B_213-ST_BFIW-SE_1839_processed>, width=300, height=375, channels=3, levels=1, RGB=True, dtype=uint8> <valis.slide_io.VipsSlideReader object at 0x7f413785dfd0> True (375, 300, 3)\n",
      "<Slide, name = B_213-ST_BFIW-SE_1840_processed>, width=300, height=375, channels=3, levels=1, RGB=True, dtype=uint8> <valis.slide_io.VipsSlideReader object at 0x7f413784ddc0> True (375, 300, 3)\n",
      "<Slide, name = B_213-ST_BFIW-SE_1841_processed>, width=300, height=375, channels=3, levels=1, RGB=True, dtype=uint8> <valis.slide_io.VipsSlideReader object at 0x7f413784dee0> True (375, 300, 3)\n",
      "<Slide, name = B_213-ST_BFIW-SE_1842_processed>, width=300, height=375, channels=3, levels=1, RGB=True, dtype=uint8> <valis.slide_io.VipsSlideReader object at 0x7f413784e030> True (375, 300, 3)\n"
     ]
    },
    {
     "name": "stderr",
     "output_type": "stream",
     "text": [
      "Converting images:  69%|████████████████████████████████▍              | 1814/2627 [00:20<00:09, 83.60image/s]"
     ]
    },
    {
     "name": "stdout",
     "output_type": "stream",
     "text": [
      "<Slide, name = B_213-ST_BFIW-SE_1843_processed>, width=300, height=375, channels=3, levels=1, RGB=True, dtype=uint8> <valis.slide_io.VipsSlideReader object at 0x7f413785e0c0> True (375, 300, 3)\n",
      "<Slide, name = B_213-ST_BFIW-SE_1844_processed>, width=300, height=375, channels=3, levels=1, RGB=True, dtype=uint8> <valis.slide_io.VipsSlideReader object at 0x7f413785e090> True (375, 300, 3)\n",
      "<Slide, name = B_213-ST_BFIW-SE_1845_processed>, width=300, height=375, channels=3, levels=1, RGB=True, dtype=uint8> <valis.slide_io.VipsSlideReader object at 0x7f4137806000> True (375, 300, 3)\n",
      "<Slide, name = B_213-ST_BFIW-SE_1846_processed>, width=300, height=375, channels=3, levels=1, RGB=True, dtype=uint8> <valis.slide_io.VipsSlideReader object at 0x7f413780e300> True (375, 300, 3)\n",
      "<Slide, name = B_213-ST_BFIW-SE_1847_processed>, width=300, height=375, channels=3, levels=1, RGB=True, dtype=uint8> <valis.slide_io.VipsSlideReader object at 0x7f413784e1e0> True (375, 300, 3)\n",
      "<Slide, name = B_213-ST_BFIW-SE_1848_processed>, width=300, height=375, channels=3, levels=1, RGB=True, dtype=uint8> <valis.slide_io.VipsSlideReader object at 0x7f413784e2d0> True (375, 300, 3)\n",
      "<Slide, name = B_213-ST_BFIW-SE_1849_processed>, width=300, height=375, channels=3, levels=1, RGB=True, dtype=uint8> <valis.slide_io.VipsSlideReader object at 0x7f413781e330> True (375, 300, 3)\n",
      "<Slide, name = B_213-ST_BFIW-SE_1850_processed>, width=300, height=375, channels=3, levels=1, RGB=True, dtype=uint8> <valis.slide_io.VipsSlideReader object at 0x7f4137da6360> True (375, 300, 3)\n",
      "<Slide, name = B_213-ST_BFIW-SE_1851_processed>, width=300, height=375, channels=3, levels=1, RGB=True, dtype=uint8> <valis.slide_io.VipsSlideReader object at 0x7f413780e3c0> True (375, 300, 3)\n"
     ]
    },
    {
     "name": "stderr",
     "output_type": "stream",
     "text": [
      "Converting images:  69%|████████████████████████████████▌              | 1823/2627 [00:21<00:09, 83.04image/s]"
     ]
    },
    {
     "name": "stdout",
     "output_type": "stream",
     "text": [
      "<Slide, name = B_213-ST_BFIW-SE_1852_processed>, width=300, height=375, channels=3, levels=1, RGB=True, dtype=uint8> <valis.slide_io.VipsSlideReader object at 0x7f413784e420> True (375, 300, 3)\n",
      "<Slide, name = B_213-ST_BFIW-SE_1853_processed>, width=300, height=375, channels=3, levels=1, RGB=True, dtype=uint8> <valis.slide_io.VipsSlideReader object at 0x7f4137806480> True (375, 300, 3)\n",
      "<Slide, name = B_213-ST_BFIW-SE_1854_processed>, width=300, height=375, channels=3, levels=1, RGB=True, dtype=uint8> <valis.slide_io.VipsSlideReader object at 0x7f413781e4e0> True (375, 300, 3)\n",
      "<Slide, name = B_213-ST_BFIW-SE_1855_processed>, width=300, height=375, channels=3, levels=1, RGB=True, dtype=uint8> <valis.slide_io.VipsSlideReader object at 0x7f413785d910> True (375, 300, 3)\n",
      "<Slide, name = B_213-ST_BFIW-SE_1856_processed>, width=300, height=375, channels=3, levels=1, RGB=True, dtype=uint8> <valis.slide_io.VipsSlideReader object at 0x7f41377fe1b0> True (375, 300, 3)\n",
      "<Slide, name = B_213-ST_BFIW-SE_1857_processed>, width=300, height=375, channels=3, levels=1, RGB=True, dtype=uint8> <valis.slide_io.VipsSlideReader object at 0x7f413785e2a0> True (375, 300, 3)\n",
      "<Slide, name = B_213-ST_BFIW-SE_1858_processed>, width=300, height=375, channels=3, levels=1, RGB=True, dtype=uint8> <valis.slide_io.VipsSlideReader object at 0x7f413784e630> True (375, 300, 3)\n",
      "<Slide, name = B_213-ST_BFIW-SE_1859_processed>, width=300, height=375, channels=3, levels=1, RGB=True, dtype=uint8> <valis.slide_io.VipsSlideReader object at 0x7f413784e600> True (375, 300, 3)\n",
      "<Slide, name = B_213-ST_BFIW-SE_1860_processed>, width=300, height=375, channels=3, levels=1, RGB=True, dtype=uint8> <valis.slide_io.VipsSlideReader object at 0x7f413784e780> True (375, 300, 3)\n"
     ]
    },
    {
     "name": "stderr",
     "output_type": "stream",
     "text": [
      "Converting images:  70%|████████████████████████████████▊              | 1832/2627 [00:21<00:09, 83.83image/s]"
     ]
    },
    {
     "name": "stdout",
     "output_type": "stream",
     "text": [
      "<Slide, name = B_213-ST_BFIW-SE_1861_processed>, width=300, height=375, channels=3, levels=1, RGB=True, dtype=uint8> <valis.slide_io.VipsSlideReader object at 0x7f413781e7b0> True (375, 300, 3)\n",
      "<Slide, name = B_213-ST_BFIW-SE_1862_processed>, width=300, height=375, channels=3, levels=1, RGB=True, dtype=uint8> <valis.slide_io.VipsSlideReader object at 0x7f413785e6c0> True (375, 300, 3)\n",
      "<Slide, name = B_213-ST_BFIW-SE_1863_processed>, width=300, height=375, channels=3, levels=1, RGB=True, dtype=uint8> <valis.slide_io.VipsSlideReader object at 0x7f413784e870> True (375, 300, 3)\n",
      "<Slide, name = B_213-ST_BFIW-SE_1864_processed>, width=300, height=375, channels=3, levels=1, RGB=True, dtype=uint8> <valis.slide_io.VipsSlideReader object at 0x7f413784df40> True (375, 300, 3)\n",
      "<Slide, name = B_213-ST_BFIW-SE_1865_processed>, width=300, height=375, channels=3, levels=1, RGB=True, dtype=uint8> <valis.slide_io.VipsSlideReader object at 0x7f413781e930> True (375, 300, 3)\n",
      "<Slide, name = B_213-ST_BFIW-SE_1866_processed>, width=300, height=375, channels=3, levels=1, RGB=True, dtype=uint8> <valis.slide_io.VipsSlideReader object at 0x7f413785e840> True (375, 300, 3)\n",
      "<Slide, name = B_213-ST_BFIW-SE_1867_processed>, width=300, height=375, channels=3, levels=1, RGB=True, dtype=uint8> <valis.slide_io.VipsSlideReader object at 0x7f413780e9f0> True (375, 300, 3)\n",
      "<Slide, name = B_213-ST_BFIW-SE_1868_processed>, width=300, height=375, channels=3, levels=1, RGB=True, dtype=uint8> <valis.slide_io.VipsSlideReader object at 0x7f413785ea20> True (375, 300, 3)\n",
      "<Slide, name = B_213-ST_BFIW-SE_1869_processed>, width=300, height=375, channels=3, levels=1, RGB=True, dtype=uint8> <valis.slide_io.VipsSlideReader object at 0x7f413784eae0> True (375, 300, 3)\n"
     ]
    },
    {
     "name": "stderr",
     "output_type": "stream",
     "text": [
      "Converting images:  70%|████████████████████████████████▉              | 1841/2627 [00:21<00:09, 84.68image/s]"
     ]
    },
    {
     "name": "stdout",
     "output_type": "stream",
     "text": [
      "<Slide, name = B_213-ST_BFIW-SE_1870_processed>, width=300, height=375, channels=3, levels=1, RGB=True, dtype=uint8> <valis.slide_io.VipsSlideReader object at 0x7f413785ec00> True (375, 300, 3)\n",
      "<Slide, name = B_213-ST_BFIW-SE_1871_processed>, width=300, height=375, channels=3, levels=1, RGB=True, dtype=uint8> <valis.slide_io.VipsSlideReader object at 0x7f413784eba0> True (375, 300, 3)\n",
      "<Slide, name = B_213-ST_BFIW-SE_1872_processed>, width=300, height=375, channels=3, levels=1, RGB=True, dtype=uint8> <valis.slide_io.VipsSlideReader object at 0x7f413784ea80> True (375, 300, 3)\n",
      "<Slide, name = B_213-ST_BFIW-SE_1873_processed>, width=300, height=375, channels=3, levels=1, RGB=True, dtype=uint8> <valis.slide_io.VipsSlideReader object at 0x7f413785e810> True (375, 300, 3)\n",
      "<Slide, name = B_213-ST_BFIW-SE_1874_processed>, width=300, height=375, channels=3, levels=1, RGB=True, dtype=uint8> <valis.slide_io.VipsSlideReader object at 0x7f413781ecf0> True (375, 300, 3)\n",
      "<Slide, name = B_213-ST_BFIW-SE_1875_processed>, width=300, height=375, channels=3, levels=1, RGB=True, dtype=uint8> <valis.slide_io.VipsSlideReader object at 0x7f41377feb70> True (375, 300, 3)\n",
      "<Slide, name = B_213-ST_BFIW-SE_1876_processed>, width=300, height=375, channels=3, levels=1, RGB=True, dtype=uint8> <valis.slide_io.VipsSlideReader object at 0x7f413781edb0> True (375, 300, 3)\n",
      "<Slide, name = B_213-ST_BFIW-SE_1877_processed>, width=300, height=375, channels=3, levels=1, RGB=True, dtype=uint8> <valis.slide_io.VipsSlideReader object at 0x7f413785ed80> True (375, 300, 3)\n",
      "<Slide, name = B_213-ST_BFIW-SE_1878_processed>, width=300, height=375, channels=3, levels=1, RGB=True, dtype=uint8> <valis.slide_io.VipsSlideReader object at 0x7f413784ee70> True (375, 300, 3)\n"
     ]
    },
    {
     "name": "stderr",
     "output_type": "stream",
     "text": [
      "Converting images:  70%|█████████████████████████████████              | 1850/2627 [00:21<00:09, 85.14image/s]"
     ]
    },
    {
     "name": "stdout",
     "output_type": "stream",
     "text": [
      "<Slide, name = B_213-ST_BFIW-SE_1879_processed>, width=300, height=375, channels=3, levels=1, RGB=True, dtype=uint8> <valis.slide_io.VipsSlideReader object at 0x7f413785eea0> True (375, 300, 3)\n",
      "<Slide, name = B_213-ST_BFIW-SE_1880_processed>, width=300, height=375, channels=3, levels=1, RGB=True, dtype=uint8> <valis.slide_io.VipsSlideReader object at 0x7f413785ec90> True (375, 300, 3)\n",
      "<Slide, name = B_213-ST_BFIW-SE_1881_processed>, width=300, height=375, channels=3, levels=1, RGB=True, dtype=uint8> <valis.slide_io.VipsSlideReader object at 0x7f413785ed50> True (375, 300, 3)\n",
      "<Slide, name = B_213-ST_BFIW-SE_1882_processed>, width=300, height=375, channels=3, levels=1, RGB=True, dtype=uint8> <valis.slide_io.VipsSlideReader object at 0x7f4137daf140> True (375, 300, 3)\n",
      "<Slide, name = B_213-ST_BFIW-SE_1883_processed>, width=300, height=375, channels=3, levels=1, RGB=True, dtype=uint8> <valis.slide_io.VipsSlideReader object at 0x7f41378070e0> True (375, 300, 3)\n",
      "<Slide, name = B_213-ST_BFIW-SE_1884_processed>, width=300, height=375, channels=3, levels=1, RGB=True, dtype=uint8> <valis.slide_io.VipsSlideReader object at 0x7f413785ef60> True (375, 300, 3)\n",
      "<Slide, name = B_213-ST_BFIW-SE_1885_processed>, width=300, height=375, channels=3, levels=1, RGB=True, dtype=uint8> <valis.slide_io.VipsSlideReader object at 0x7f413781f170> True (375, 300, 3)\n",
      "<Slide, name = B_213-ST_BFIW-SE_1886_processed>, width=300, height=375, channels=3, levels=1, RGB=True, dtype=uint8> <valis.slide_io.VipsSlideReader object at 0x7f413785e150> True (375, 300, 3)\n",
      "<Slide, name = B_213-ST_BFIW-SE_1887_processed>, width=300, height=375, channels=3, levels=1, RGB=True, dtype=uint8> <valis.slide_io.VipsSlideReader object at 0x7f41377ff200> True (375, 300, 3)\n"
     ]
    },
    {
     "name": "stderr",
     "output_type": "stream",
     "text": [
      "Converting images:  71%|█████████████████████████████████▎             | 1859/2627 [00:21<00:09, 83.90image/s]"
     ]
    },
    {
     "name": "stdout",
     "output_type": "stream",
     "text": [
      "<Slide, name = B_213-ST_BFIW-SE_1888_processed>, width=300, height=375, channels=3, levels=1, RGB=True, dtype=uint8> <valis.slide_io.VipsSlideReader object at 0x7f413785f2f0> True (375, 300, 3)\n",
      "<Slide, name = B_213-ST_BFIW-SE_1889_processed>, width=300, height=375, channels=3, levels=1, RGB=True, dtype=uint8> <valis.slide_io.VipsSlideReader object at 0x7f413785f1d0> True (375, 300, 3)\n",
      "<Slide, name = B_213-ST_BFIW-SE_1890_processed>, width=300, height=375, channels=3, levels=1, RGB=True, dtype=uint8> <valis.slide_io.VipsSlideReader object at 0x7f413781f260> True (375, 300, 3)\n",
      "<Slide, name = B_213-ST_BFIW-SE_1891_processed>, width=300, height=375, channels=3, levels=1, RGB=True, dtype=uint8> <valis.slide_io.VipsSlideReader object at 0x7f413785f050> True (375, 300, 3)\n",
      "<Slide, name = B_213-ST_BFIW-SE_1892_processed>, width=300, height=375, channels=3, levels=1, RGB=True, dtype=uint8> <valis.slide_io.VipsSlideReader object at 0x7f413785f4d0> True (375, 300, 3)\n",
      "<Slide, name = B_213-ST_BFIW-SE_1893_processed>, width=300, height=375, channels=3, levels=1, RGB=True, dtype=uint8> <valis.slide_io.VipsSlideReader object at 0x7f413785ef90> True (375, 300, 3)\n",
      "<Slide, name = B_213-ST_BFIW-SE_1894_processed>, width=300, height=375, channels=3, levels=1, RGB=True, dtype=uint8> <valis.slide_io.VipsSlideReader object at 0x7f413785f1a0> True (375, 300, 3)\n",
      "<Slide, name = B_213-ST_BFIW-SE_1895_processed>, width=300, height=375, channels=3, levels=1, RGB=True, dtype=uint8> <valis.slide_io.VipsSlideReader object at 0x7f413781f530> True (375, 300, 3)\n",
      "<Slide, name = B_213-ST_BFIW-SE_1896_processed>, width=300, height=375, channels=3, levels=1, RGB=True, dtype=uint8> <valis.slide_io.VipsSlideReader object at 0x7f413785f650> True (375, 300, 3)\n"
     ]
    },
    {
     "name": "stderr",
     "output_type": "stream",
     "text": [
      "Converting images:  71%|█████████████████████████████████▍             | 1868/2627 [00:21<00:09, 83.19image/s]"
     ]
    },
    {
     "name": "stdout",
     "output_type": "stream",
     "text": [
      "<Slide, name = B_213-ST_BFIW-SE_1897_processed>, width=300, height=375, channels=3, levels=1, RGB=True, dtype=uint8> <valis.slide_io.VipsSlideReader object at 0x7f41377ff5c0> True (375, 300, 3)\n",
      "<Slide, name = B_213-ST_BFIW-SE_1898_processed>, width=300, height=375, channels=3, levels=1, RGB=True, dtype=uint8> <valis.slide_io.VipsSlideReader object at 0x7f4137807830> True (375, 300, 3)\n",
      "<Slide, name = B_213-ST_BFIW-SE_1899_processed>, width=300, height=375, channels=3, levels=1, RGB=True, dtype=uint8> <valis.slide_io.VipsSlideReader object at 0x7f413785f500> True (375, 300, 3)\n",
      "<Slide, name = B_213-ST_BFIW-SE_1900_processed>, width=300, height=375, channels=3, levels=1, RGB=True, dtype=uint8> <valis.slide_io.VipsSlideReader object at 0x7f413785f800> True (375, 300, 3)\n",
      "<Slide, name = B_213-ST_BFIW-SE_1901_processed>, width=300, height=375, channels=3, levels=1, RGB=True, dtype=uint8> <valis.slide_io.VipsSlideReader object at 0x7f413785f410> True (375, 300, 3)\n",
      "<Slide, name = B_213-ST_BFIW-SE_1902_processed>, width=300, height=375, channels=3, levels=1, RGB=True, dtype=uint8> <valis.slide_io.VipsSlideReader object at 0x7f413785f4a0> True (375, 300, 3)\n",
      "<Slide, name = B_213-ST_BFIW-SE_1903_processed>, width=300, height=375, channels=3, levels=1, RGB=True, dtype=uint8> <valis.slide_io.VipsSlideReader object at 0x7f413785f710> True (375, 300, 3)\n",
      "<Slide, name = B_213-ST_BFIW-SE_1904_processed>, width=300, height=375, channels=3, levels=1, RGB=True, dtype=uint8> <valis.slide_io.VipsSlideReader object at 0x7f413781f440> True (375, 300, 3)\n",
      "<Slide, name = B_213-ST_BFIW-SE_1905_processed>, width=300, height=375, channels=3, levels=1, RGB=True, dtype=uint8> <valis.slide_io.VipsSlideReader object at 0x7f4137827b60> True (375, 300, 3)\n"
     ]
    },
    {
     "name": "stderr",
     "output_type": "stream",
     "text": [
      "Converting images:  71%|█████████████████████████████████▌             | 1877/2627 [00:21<00:08, 83.48image/s]"
     ]
    },
    {
     "name": "stdout",
     "output_type": "stream",
     "text": [
      "<Slide, name = B_213-ST_BFIW-SE_1906_processed>, width=300, height=375, channels=3, levels=1, RGB=True, dtype=uint8> <valis.slide_io.VipsSlideReader object at 0x7f41377ff6e0> True (375, 300, 3)\n",
      "<Slide, name = B_213-ST_BFIW-SE_1907_processed>, width=300, height=375, channels=3, levels=1, RGB=True, dtype=uint8> <valis.slide_io.VipsSlideReader object at 0x7f413785fa40> True (375, 300, 3)\n",
      "<Slide, name = B_213-ST_BFIW-SE_1908_processed>, width=300, height=375, channels=3, levels=1, RGB=True, dtype=uint8> <valis.slide_io.VipsSlideReader object at 0x7f41378078f0> True (375, 300, 3)\n",
      "<Slide, name = B_213-ST_BFIW-SE_1909_processed>, width=300, height=375, channels=3, levels=1, RGB=True, dtype=uint8> <valis.slide_io.VipsSlideReader object at 0x7f413785fa10> True (375, 300, 3)\n",
      "<Slide, name = B_213-ST_BFIW-SE_1910_processed>, width=300, height=375, channels=3, levels=1, RGB=True, dtype=uint8> <valis.slide_io.VipsSlideReader object at 0x7f4137807bf0> True (375, 300, 3)\n",
      "<Slide, name = B_213-ST_BFIW-SE_1911_processed>, width=300, height=375, channels=3, levels=1, RGB=True, dtype=uint8> <valis.slide_io.VipsSlideReader object at 0x7f413781fbc0> True (375, 300, 3)\n",
      "<Slide, name = B_213-ST_BFIW-SE_1912_processed>, width=300, height=375, channels=3, levels=1, RGB=True, dtype=uint8> <valis.slide_io.VipsSlideReader object at 0x7f41377ffd40> True (375, 300, 3)\n",
      "<Slide, name = B_213-ST_BFIW-SE_1913_processed>, width=300, height=375, channels=3, levels=1, RGB=True, dtype=uint8> <valis.slide_io.VipsSlideReader object at 0x7f413782fd70> True (375, 300, 3)\n",
      "<Slide, name = B_213-ST_BFIW-SE_1914_processed>, width=300, height=375, channels=3, levels=1, RGB=True, dtype=uint8> <valis.slide_io.VipsSlideReader object at 0x7f413785fc80> True (375, 300, 3)\n"
     ]
    },
    {
     "name": "stderr",
     "output_type": "stream",
     "text": [
      "Converting images:  72%|█████████████████████████████████▋             | 1886/2627 [00:21<00:08, 85.21image/s]"
     ]
    },
    {
     "name": "stdout",
     "output_type": "stream",
     "text": [
      "<Slide, name = B_213-ST_BFIW-SE_1915_processed>, width=300, height=375, channels=3, levels=1, RGB=True, dtype=uint8> <valis.slide_io.VipsSlideReader object at 0x7f413780fe30> True (375, 300, 3)\n",
      "<Slide, name = B_213-ST_BFIW-SE_1916_processed>, width=300, height=375, channels=3, levels=1, RGB=True, dtype=uint8> <valis.slide_io.VipsSlideReader object at 0x7f413785fce0> True (375, 300, 3)\n",
      "<Slide, name = B_213-ST_BFIW-SE_1917_processed>, width=300, height=375, channels=3, levels=1, RGB=True, dtype=uint8> <valis.slide_io.VipsSlideReader object at 0x7f413785fef0> True (375, 300, 3)\n",
      "<Slide, name = B_213-ST_BFIW-SE_1918_processed>, width=300, height=375, channels=3, levels=1, RGB=True, dtype=uint8> <valis.slide_io.VipsSlideReader object at 0x7f41377ff920> True (375, 300, 3)\n",
      "<Slide, name = B_213-ST_BFIW-SE_1919_processed>, width=300, height=375, channels=3, levels=1, RGB=True, dtype=uint8> <valis.slide_io.VipsSlideReader object at 0x7f413781ffb0> True (375, 300, 3)\n",
      "<Slide, name = B_213-ST_BFIW-SE_1920_processed>, width=300, height=375, channels=3, levels=1, RGB=True, dtype=uint8> <valis.slide_io.VipsSlideReader object at 0x7f413785ffe0> True (375, 300, 3)\n",
      "<Slide, name = B_213-ST_BFIW-SE_1921_processed>, width=300, height=375, channels=3, levels=1, RGB=True, dtype=uint8> <valis.slide_io.VipsSlideReader object at 0x7f413785fe00> True (375, 300, 3)\n",
      "<Slide, name = B_213-ST_BFIW-SE_1922_processed>, width=300, height=375, channels=3, levels=1, RGB=True, dtype=uint8> <valis.slide_io.VipsSlideReader object at 0x7f413785fd10> True (375, 300, 3)\n",
      "<Slide, name = B_213-ST_BFIW-SE_1923_processed>, width=300, height=375, channels=3, levels=1, RGB=True, dtype=uint8> <valis.slide_io.VipsSlideReader object at 0x7f413785c230> True (375, 300, 3)\n"
     ]
    },
    {
     "name": "stderr",
     "output_type": "stream",
     "text": [
      "Converting images:  72%|█████████████████████████████████▉             | 1895/2627 [00:21<00:08, 84.54image/s]"
     ]
    },
    {
     "name": "stdout",
     "output_type": "stream",
     "text": [
      "<Slide, name = B_213-ST_BFIW-SE_1924_processed>, width=300, height=375, channels=3, levels=1, RGB=True, dtype=uint8> <valis.slide_io.VipsSlideReader object at 0x7f41378640b0> True (375, 300, 3)\n",
      "<Slide, name = B_213-ST_BFIW-SE_1925_processed>, width=300, height=375, channels=3, levels=1, RGB=True, dtype=uint8> <valis.slide_io.VipsSlideReader object at 0x7f4137864260> True (375, 300, 3)\n",
      "<Slide, name = B_213-ST_BFIW-SE_1926_processed>, width=300, height=375, channels=3, levels=1, RGB=True, dtype=uint8> <valis.slide_io.VipsSlideReader object at 0x7f413785c2c0> True (375, 300, 3)\n",
      "<Slide, name = B_213-ST_BFIW-SE_1927_processed>, width=300, height=375, channels=3, levels=1, RGB=True, dtype=uint8> <valis.slide_io.VipsSlideReader object at 0x7f4137854140> True (375, 300, 3)\n",
      "<Slide, name = B_213-ST_BFIW-SE_1928_processed>, width=300, height=375, channels=3, levels=1, RGB=True, dtype=uint8> <valis.slide_io.VipsSlideReader object at 0x7f4137854380> True (375, 300, 3)\n",
      "<Slide, name = B_213-ST_BFIW-SE_1929_processed>, width=300, height=375, channels=3, levels=1, RGB=True, dtype=uint8> <valis.slide_io.VipsSlideReader object at 0x7f4137864080> True (375, 300, 3)\n",
      "<Slide, name = B_213-ST_BFIW-SE_1930_processed>, width=300, height=375, channels=3, levels=1, RGB=True, dtype=uint8> <valis.slide_io.VipsSlideReader object at 0x7f4137864560> True (375, 300, 3)\n",
      "<Slide, name = B_213-ST_BFIW-SE_1931_processed>, width=300, height=375, channels=3, levels=1, RGB=True, dtype=uint8> <valis.slide_io.VipsSlideReader object at 0x7f41378645c0> True (375, 300, 3)\n",
      "<Slide, name = B_213-ST_BFIW-SE_1932_processed>, width=300, height=375, channels=3, levels=1, RGB=True, dtype=uint8> <valis.slide_io.VipsSlideReader object at 0x7f4137864320> True (375, 300, 3)\n"
     ]
    },
    {
     "name": "stderr",
     "output_type": "stream",
     "text": [
      "Converting images:  72%|██████████████████████████████████             | 1904/2627 [00:22<00:08, 85.64image/s]"
     ]
    },
    {
     "name": "stdout",
     "output_type": "stream",
     "text": [
      "<Slide, name = B_213-ST_BFIW-SE_1933_processed>, width=300, height=375, channels=3, levels=1, RGB=True, dtype=uint8> <valis.slide_io.VipsSlideReader object at 0x7f4137864620> True (375, 300, 3)\n",
      "<Slide, name = B_213-ST_BFIW-SE_1934_processed>, width=300, height=375, channels=3, levels=1, RGB=True, dtype=uint8> <valis.slide_io.VipsSlideReader object at 0x7f4137864680> True (375, 300, 3)\n",
      "<Slide, name = B_213-ST_BFIW-SE_1935_processed>, width=300, height=375, channels=3, levels=1, RGB=True, dtype=uint8> <valis.slide_io.VipsSlideReader object at 0x7f41378646e0> True (375, 300, 3)\n",
      "<Slide, name = B_213-ST_BFIW-SE_1936_processed>, width=300, height=375, channels=3, levels=1, RGB=True, dtype=uint8> <valis.slide_io.VipsSlideReader object at 0x7f4137864740> True (375, 300, 3)\n",
      "<Slide, name = B_213-ST_BFIW-SE_1937_processed>, width=300, height=375, channels=3, levels=1, RGB=True, dtype=uint8> <valis.slide_io.VipsSlideReader object at 0x7f41378647a0> True (375, 300, 3)\n",
      "<Slide, name = B_213-ST_BFIW-SE_1938_processed>, width=300, height=375, channels=3, levels=1, RGB=True, dtype=uint8> <valis.slide_io.VipsSlideReader object at 0x7f4137864800> True (375, 300, 3)\n",
      "<Slide, name = B_213-ST_BFIW-SE_1939_processed>, width=300, height=375, channels=3, levels=1, RGB=True, dtype=uint8> <valis.slide_io.VipsSlideReader object at 0x7f4137864860> True (375, 300, 3)\n",
      "<Slide, name = B_213-ST_BFIW-SE_1940_processed>, width=300, height=375, channels=3, levels=1, RGB=True, dtype=uint8> <valis.slide_io.VipsSlideReader object at 0x7f41378648c0> True (375, 300, 3)\n",
      "<Slide, name = B_213-ST_BFIW-SE_1941_processed>, width=300, height=375, channels=3, levels=1, RGB=True, dtype=uint8> <valis.slide_io.VipsSlideReader object at 0x7f4137864920> True (375, 300, 3)\n"
     ]
    },
    {
     "name": "stderr",
     "output_type": "stream",
     "text": [
      "Converting images:  73%|██████████████████████████████████▏            | 1913/2627 [00:22<00:08, 85.42image/s]"
     ]
    },
    {
     "name": "stdout",
     "output_type": "stream",
     "text": [
      "<Slide, name = B_213-ST_BFIW-SE_1942_processed>, width=300, height=375, channels=3, levels=1, RGB=True, dtype=uint8> <valis.slide_io.VipsSlideReader object at 0x7f4137864980> True (375, 300, 3)\n",
      "<Slide, name = B_213-ST_BFIW-SE_1943_processed>, width=300, height=375, channels=3, levels=1, RGB=True, dtype=uint8> <valis.slide_io.VipsSlideReader object at 0x7f41378649e0> True (375, 300, 3)\n",
      "<Slide, name = B_213-ST_BFIW-SE_1944_processed>, width=300, height=375, channels=3, levels=1, RGB=True, dtype=uint8> <valis.slide_io.VipsSlideReader object at 0x7f4137864a40> True (375, 300, 3)\n",
      "<Slide, name = B_213-ST_BFIW-SE_1945_processed>, width=300, height=375, channels=3, levels=1, RGB=True, dtype=uint8> <valis.slide_io.VipsSlideReader object at 0x7f4137864aa0> True (375, 300, 3)\n",
      "<Slide, name = B_213-ST_BFIW-SE_1946_processed>, width=300, height=375, channels=3, levels=1, RGB=True, dtype=uint8> <valis.slide_io.VipsSlideReader object at 0x7f4137864b00> True (375, 300, 3)\n",
      "<Slide, name = B_213-ST_BFIW-SE_1947_processed>, width=300, height=375, channels=3, levels=1, RGB=True, dtype=uint8> <valis.slide_io.VipsSlideReader object at 0x7f4137864b60> True (375, 300, 3)\n",
      "<Slide, name = B_213-ST_BFIW-SE_1948_processed>, width=300, height=375, channels=3, levels=1, RGB=True, dtype=uint8> <valis.slide_io.VipsSlideReader object at 0x7f4137864bc0> True (375, 300, 3)\n",
      "<Slide, name = B_213-ST_BFIW-SE_1949_processed>, width=300, height=375, channels=3, levels=1, RGB=True, dtype=uint8> <valis.slide_io.VipsSlideReader object at 0x7f4137864c20> True (375, 300, 3)\n",
      "<Slide, name = B_213-ST_BFIW-SE_1950_processed>, width=300, height=375, channels=3, levels=1, RGB=True, dtype=uint8> <valis.slide_io.VipsSlideReader object at 0x7f4137864c80> True (375, 300, 3)\n"
     ]
    },
    {
     "name": "stderr",
     "output_type": "stream",
     "text": [
      "Converting images:  73%|██████████████████████████████████▍            | 1922/2627 [00:22<00:08, 81.76image/s]"
     ]
    },
    {
     "name": "stdout",
     "output_type": "stream",
     "text": [
      "<Slide, name = B_213-ST_BFIW-SE_1951_processed>, width=300, height=375, channels=3, levels=1, RGB=True, dtype=uint8> <valis.slide_io.VipsSlideReader object at 0x7f4137864ce0> True (375, 300, 3)\n",
      "<Slide, name = B_213-ST_BFIW-SE_1952_processed>, width=300, height=375, channels=3, levels=1, RGB=True, dtype=uint8> <valis.slide_io.VipsSlideReader object at 0x7f4137864d40> True (375, 300, 3)\n",
      "<Slide, name = B_213-ST_BFIW-SE_1953_processed>, width=300, height=375, channels=3, levels=1, RGB=True, dtype=uint8> <valis.slide_io.VipsSlideReader object at 0x7f4137864da0> True (375, 300, 3)\n",
      "<Slide, name = B_213-ST_BFIW-SE_1954_processed>, width=300, height=375, channels=3, levels=1, RGB=True, dtype=uint8> <valis.slide_io.VipsSlideReader object at 0x7f4137864e00> True (375, 300, 3)\n",
      "<Slide, name = B_213-ST_BFIW-SE_1955_processed>, width=300, height=375, channels=3, levels=1, RGB=True, dtype=uint8> <valis.slide_io.VipsSlideReader object at 0x7f4137864e60> True (375, 300, 3)\n",
      "<Slide, name = B_213-ST_BFIW-SE_1956_processed>, width=300, height=375, channels=3, levels=1, RGB=True, dtype=uint8> <valis.slide_io.VipsSlideReader object at 0x7f4137864ec0> True (375, 300, 3)\n",
      "<Slide, name = B_213-ST_BFIW-SE_1957_processed>, width=300, height=375, channels=3, levels=1, RGB=True, dtype=uint8> <valis.slide_io.VipsSlideReader object at 0x7f4137864f20> True (375, 300, 3)\n",
      "<Slide, name = B_213-ST_BFIW-SE_1958_processed>, width=300, height=375, channels=3, levels=1, RGB=True, dtype=uint8> <valis.slide_io.VipsSlideReader object at 0x7f4137864f80> True (375, 300, 3)\n",
      "<Slide, name = B_213-ST_BFIW-SE_1959_processed>, width=300, height=375, channels=3, levels=1, RGB=True, dtype=uint8> <valis.slide_io.VipsSlideReader object at 0x7f4137864fe0> True (375, 300, 3)\n"
     ]
    },
    {
     "name": "stderr",
     "output_type": "stream",
     "text": [
      "Converting images:  74%|██████████████████████████████████▌            | 1931/2627 [00:22<00:08, 82.78image/s]"
     ]
    },
    {
     "name": "stdout",
     "output_type": "stream",
     "text": [
      "<Slide, name = B_213-ST_BFIW-SE_1960_processed>, width=300, height=375, channels=3, levels=1, RGB=True, dtype=uint8> <valis.slide_io.VipsSlideReader object at 0x7f4137865040> True (375, 300, 3)\n",
      "<Slide, name = B_213-ST_BFIW-SE_1961_processed>, width=300, height=375, channels=3, levels=1, RGB=True, dtype=uint8> <valis.slide_io.VipsSlideReader object at 0x7f41378650a0> True (375, 300, 3)\n",
      "<Slide, name = B_213-ST_BFIW-SE_1962_processed>, width=300, height=375, channels=3, levels=1, RGB=True, dtype=uint8> <valis.slide_io.VipsSlideReader object at 0x7f4137865100> True (375, 300, 3)\n",
      "<Slide, name = B_213-ST_BFIW-SE_1963_processed>, width=300, height=375, channels=3, levels=1, RGB=True, dtype=uint8> <valis.slide_io.VipsSlideReader object at 0x7f4137865160> True (375, 300, 3)\n",
      "<Slide, name = B_213-ST_BFIW-SE_1964_processed>, width=300, height=375, channels=3, levels=1, RGB=True, dtype=uint8> <valis.slide_io.VipsSlideReader object at 0x7f41378651c0> True (375, 300, 3)\n",
      "<Slide, name = B_213-ST_BFIW-SE_1965_processed>, width=300, height=375, channels=3, levels=1, RGB=True, dtype=uint8> <valis.slide_io.VipsSlideReader object at 0x7f4137865220> True (375, 300, 3)\n",
      "<Slide, name = B_213-ST_BFIW-SE_1966_processed>, width=300, height=375, channels=3, levels=1, RGB=True, dtype=uint8> <valis.slide_io.VipsSlideReader object at 0x7f4137865280> True (375, 300, 3)\n",
      "<Slide, name = B_213-ST_BFIW-SE_1967_processed>, width=300, height=375, channels=3, levels=1, RGB=True, dtype=uint8> <valis.slide_io.VipsSlideReader object at 0x7f41378652e0> True (375, 300, 3)\n",
      "<Slide, name = B_213-ST_BFIW-SE_1968_processed>, width=300, height=375, channels=3, levels=1, RGB=True, dtype=uint8> <valis.slide_io.VipsSlideReader object at 0x7f4137865340> True (375, 300, 3)\n"
     ]
    },
    {
     "name": "stderr",
     "output_type": "stream",
     "text": [
      "Converting images:  74%|██████████████████████████████████▋            | 1940/2627 [00:22<00:08, 84.51image/s]"
     ]
    },
    {
     "name": "stdout",
     "output_type": "stream",
     "text": [
      "<Slide, name = B_213-ST_BFIW-SE_1969_processed>, width=300, height=375, channels=3, levels=1, RGB=True, dtype=uint8> <valis.slide_io.VipsSlideReader object at 0x7f41378653a0> True (375, 300, 3)\n",
      "<Slide, name = B_213-ST_BFIW-SE_1970_processed>, width=300, height=375, channels=3, levels=1, RGB=True, dtype=uint8> <valis.slide_io.VipsSlideReader object at 0x7f4137865400> True (375, 300, 3)\n",
      "<Slide, name = B_213-ST_BFIW-SE_1971_processed>, width=300, height=375, channels=3, levels=1, RGB=True, dtype=uint8> <valis.slide_io.VipsSlideReader object at 0x7f4137865460> True (375, 300, 3)\n",
      "<Slide, name = B_213-ST_BFIW-SE_1972_processed>, width=300, height=375, channels=3, levels=1, RGB=True, dtype=uint8> <valis.slide_io.VipsSlideReader object at 0x7f41378654c0> True (375, 300, 3)\n",
      "<Slide, name = B_213-ST_BFIW-SE_1973_processed>, width=300, height=375, channels=3, levels=1, RGB=True, dtype=uint8> <valis.slide_io.VipsSlideReader object at 0x7f4137865520> True (375, 300, 3)\n",
      "<Slide, name = B_213-ST_BFIW-SE_1974_processed>, width=300, height=375, channels=3, levels=1, RGB=True, dtype=uint8> <valis.slide_io.VipsSlideReader object at 0x7f4137865580> True (375, 300, 3)\n",
      "<Slide, name = B_213-ST_BFIW-SE_1975_processed>, width=300, height=375, channels=3, levels=1, RGB=True, dtype=uint8> <valis.slide_io.VipsSlideReader object at 0x7f41378655e0> True (375, 300, 3)\n",
      "<Slide, name = B_213-ST_BFIW-SE_1976_processed>, width=300, height=375, channels=3, levels=1, RGB=True, dtype=uint8> <valis.slide_io.VipsSlideReader object at 0x7f4137865640> True (375, 300, 3)\n",
      "<Slide, name = B_213-ST_BFIW-SE_1977_processed>, width=300, height=375, channels=3, levels=1, RGB=True, dtype=uint8> <valis.slide_io.VipsSlideReader object at 0x7f41378656a0> True (375, 300, 3)\n"
     ]
    },
    {
     "name": "stderr",
     "output_type": "stream",
     "text": [
      "Converting images:  74%|██████████████████████████████████▊            | 1949/2627 [00:22<00:08, 83.95image/s]"
     ]
    },
    {
     "name": "stdout",
     "output_type": "stream",
     "text": [
      "<Slide, name = B_213-ST_BFIW-SE_1978_processed>, width=300, height=375, channels=3, levels=1, RGB=True, dtype=uint8> <valis.slide_io.VipsSlideReader object at 0x7f4137865700> True (375, 300, 3)\n",
      "<Slide, name = B_213-ST_BFIW-SE_1979_processed>, width=300, height=375, channels=3, levels=1, RGB=True, dtype=uint8> <valis.slide_io.VipsSlideReader object at 0x7f4137865760> True (375, 300, 3)\n",
      "<Slide, name = B_213-ST_BFIW-SE_1980_processed>, width=300, height=375, channels=3, levels=1, RGB=True, dtype=uint8> <valis.slide_io.VipsSlideReader object at 0x7f41378657f0> True (375, 300, 3)\n",
      "<Slide, name = B_213-ST_BFIW-SE_1981_processed>, width=300, height=375, channels=3, levels=1, RGB=True, dtype=uint8> <valis.slide_io.VipsSlideReader object at 0x7f4137865850> True (375, 300, 3)\n",
      "<Slide, name = B_213-ST_BFIW-SE_1982_processed>, width=300, height=375, channels=3, levels=1, RGB=True, dtype=uint8> <valis.slide_io.VipsSlideReader object at 0x7f41378658b0> True (375, 300, 3)\n",
      "<Slide, name = B_213-ST_BFIW-SE_1983_processed>, width=300, height=375, channels=3, levels=1, RGB=True, dtype=uint8> <valis.slide_io.VipsSlideReader object at 0x7f4137865910> True (375, 300, 3)\n",
      "<Slide, name = B_213-ST_BFIW-SE_1984_processed>, width=300, height=375, channels=3, levels=1, RGB=True, dtype=uint8> <valis.slide_io.VipsSlideReader object at 0x7f4137865970> True (375, 300, 3)\n",
      "<Slide, name = B_213-ST_BFIW-SE_1985_processed>, width=300, height=375, channels=3, levels=1, RGB=True, dtype=uint8> <valis.slide_io.VipsSlideReader object at 0x7f41378659d0> True (375, 300, 3)\n",
      "<Slide, name = B_213-ST_BFIW-SE_1986_processed>, width=300, height=375, channels=3, levels=1, RGB=True, dtype=uint8> <valis.slide_io.VipsSlideReader object at 0x7f4137865a30> True (375, 300, 3)\n"
     ]
    },
    {
     "name": "stderr",
     "output_type": "stream",
     "text": [
      "Converting images:  75%|███████████████████████████████████            | 1958/2627 [00:22<00:08, 81.68image/s]"
     ]
    },
    {
     "name": "stdout",
     "output_type": "stream",
     "text": [
      "<Slide, name = B_213-ST_BFIW-SE_1987_processed>, width=300, height=375, channels=3, levels=1, RGB=True, dtype=uint8> <valis.slide_io.VipsSlideReader object at 0x7f4137865a90> True (375, 300, 3)\n",
      "<Slide, name = B_213-ST_BFIW-SE_1988_processed>, width=300, height=375, channels=3, levels=1, RGB=True, dtype=uint8> <valis.slide_io.VipsSlideReader object at 0x7f4137865af0> True (375, 300, 3)\n",
      "<Slide, name = B_213-ST_BFIW-SE_1989_processed>, width=300, height=375, channels=3, levels=1, RGB=True, dtype=uint8> <valis.slide_io.VipsSlideReader object at 0x7f4137865b50> True (375, 300, 3)\n",
      "<Slide, name = B_213-ST_BFIW-SE_1990_processed>, width=300, height=375, channels=3, levels=1, RGB=True, dtype=uint8> <valis.slide_io.VipsSlideReader object at 0x7f4137865bb0> True (375, 300, 3)\n",
      "<Slide, name = B_213-ST_BFIW-SE_1991_processed>, width=300, height=375, channels=3, levels=1, RGB=True, dtype=uint8> <valis.slide_io.VipsSlideReader object at 0x7f4137865c10> True (375, 300, 3)\n",
      "<Slide, name = B_213-ST_BFIW-SE_1992_processed>, width=300, height=375, channels=3, levels=1, RGB=True, dtype=uint8> <valis.slide_io.VipsSlideReader object at 0x7f4137865c70> True (375, 300, 3)\n",
      "<Slide, name = B_213-ST_BFIW-SE_1993_processed>, width=300, height=375, channels=3, levels=1, RGB=True, dtype=uint8> <valis.slide_io.VipsSlideReader object at 0x7f4137865cd0> True (375, 300, 3)\n",
      "<Slide, name = B_213-ST_BFIW-SE_1994_processed>, width=300, height=375, channels=3, levels=1, RGB=True, dtype=uint8> <valis.slide_io.VipsSlideReader object at 0x7f4137865d30> True (375, 300, 3)\n",
      "<Slide, name = B_213-ST_BFIW-SE_1995_processed>, width=300, height=375, channels=3, levels=1, RGB=True, dtype=uint8> <valis.slide_io.VipsSlideReader object at 0x7f4137865d90> True (375, 300, 3)\n"
     ]
    },
    {
     "name": "stderr",
     "output_type": "stream",
     "text": [
      "Converting images:  75%|███████████████████████████████████▏           | 1967/2627 [00:22<00:08, 82.28image/s]"
     ]
    },
    {
     "name": "stdout",
     "output_type": "stream",
     "text": [
      "<Slide, name = B_213-ST_BFIW-SE_1996_processed>, width=300, height=375, channels=3, levels=1, RGB=True, dtype=uint8> <valis.slide_io.VipsSlideReader object at 0x7f4137865df0> True (375, 300, 3)\n",
      "<Slide, name = B_213-ST_BFIW-SE_1997_processed>, width=300, height=375, channels=3, levels=1, RGB=True, dtype=uint8> <valis.slide_io.VipsSlideReader object at 0x7f4137865e50> True (375, 300, 3)\n",
      "<Slide, name = B_213-ST_BFIW-SE_1998_processed>, width=300, height=375, channels=3, levels=1, RGB=True, dtype=uint8> <valis.slide_io.VipsSlideReader object at 0x7f4137865eb0> True (375, 300, 3)\n",
      "<Slide, name = B_213-ST_BFIW-SE_1999_processed>, width=300, height=375, channels=3, levels=1, RGB=True, dtype=uint8> <valis.slide_io.VipsSlideReader object at 0x7f4137865f10> True (375, 300, 3)\n",
      "<Slide, name = B_213-ST_BFIW-SE_2000_processed>, width=300, height=375, channels=3, levels=1, RGB=True, dtype=uint8> <valis.slide_io.VipsSlideReader object at 0x7f4137865f70> True (375, 300, 3)\n",
      "<Slide, name = B_213-ST_BFIW-SE_2001_processed>, width=300, height=375, channels=3, levels=1, RGB=True, dtype=uint8> <valis.slide_io.VipsSlideReader object at 0x7f4137865fd0> True (375, 300, 3)\n",
      "<Slide, name = B_213-ST_BFIW-SE_2002_processed>, width=300, height=375, channels=3, levels=1, RGB=True, dtype=uint8> <valis.slide_io.VipsSlideReader object at 0x7f4137866030> True (375, 300, 3)\n",
      "<Slide, name = B_213-ST_BFIW-SE_2003_processed>, width=300, height=375, channels=3, levels=1, RGB=True, dtype=uint8> <valis.slide_io.VipsSlideReader object at 0x7f41378660c0> True (375, 300, 3)\n",
      "<Slide, name = B_213-ST_BFIW-SE_2004_processed>, width=300, height=375, channels=3, levels=1, RGB=True, dtype=uint8> <valis.slide_io.VipsSlideReader object at 0x7f4137866120> True (375, 300, 3)\n"
     ]
    },
    {
     "name": "stderr",
     "output_type": "stream",
     "text": [
      "Converting images:  75%|███████████████████████████████████▎           | 1976/2627 [00:22<00:07, 84.30image/s]"
     ]
    },
    {
     "name": "stdout",
     "output_type": "stream",
     "text": [
      "<Slide, name = B_213-ST_BFIW-SE_2005_processed>, width=300, height=375, channels=3, levels=1, RGB=True, dtype=uint8> <valis.slide_io.VipsSlideReader object at 0x7f4137866180> True (375, 300, 3)\n",
      "<Slide, name = B_213-ST_BFIW-SE_2006_processed>, width=300, height=375, channels=3, levels=1, RGB=True, dtype=uint8> <valis.slide_io.VipsSlideReader object at 0x7f41378661e0> True (375, 300, 3)\n",
      "<Slide, name = B_213-ST_BFIW-SE_2007_processed>, width=300, height=375, channels=3, levels=1, RGB=True, dtype=uint8> <valis.slide_io.VipsSlideReader object at 0x7f4137866240> True (375, 300, 3)\n",
      "<Slide, name = B_213-ST_BFIW-SE_2008_processed>, width=300, height=375, channels=3, levels=1, RGB=True, dtype=uint8> <valis.slide_io.VipsSlideReader object at 0x7f41378662a0> True (375, 300, 3)\n",
      "<Slide, name = B_213-ST_BFIW-SE_2009_processed>, width=300, height=375, channels=3, levels=1, RGB=True, dtype=uint8> <valis.slide_io.VipsSlideReader object at 0x7f4137866300> True (375, 300, 3)\n",
      "<Slide, name = B_213-ST_BFIW-SE_2010_processed>, width=300, height=375, channels=3, levels=1, RGB=True, dtype=uint8> <valis.slide_io.VipsSlideReader object at 0x7f4137866360> True (375, 300, 3)\n",
      "<Slide, name = B_213-ST_BFIW-SE_2011_processed>, width=300, height=375, channels=3, levels=1, RGB=True, dtype=uint8> <valis.slide_io.VipsSlideReader object at 0x7f41378663c0> True (375, 300, 3)\n",
      "<Slide, name = B_213-ST_BFIW-SE_2012_processed>, width=300, height=375, channels=3, levels=1, RGB=True, dtype=uint8> <valis.slide_io.VipsSlideReader object at 0x7f4137866420> True (375, 300, 3)\n",
      "<Slide, name = B_213-ST_BFIW-SE_2013_processed>, width=300, height=375, channels=3, levels=1, RGB=True, dtype=uint8> <valis.slide_io.VipsSlideReader object at 0x7f4137866480> True (375, 300, 3)\n"
     ]
    },
    {
     "name": "stderr",
     "output_type": "stream",
     "text": [
      "Converting images:  76%|███████████████████████████████████▌           | 1985/2627 [00:23<00:07, 85.44image/s]"
     ]
    },
    {
     "name": "stdout",
     "output_type": "stream",
     "text": [
      "<Slide, name = B_213-ST_BFIW-SE_2014_processed>, width=300, height=375, channels=3, levels=1, RGB=True, dtype=uint8> <valis.slide_io.VipsSlideReader object at 0x7f41378664e0> True (375, 300, 3)\n",
      "<Slide, name = B_213-ST_BFIW-SE_2015_processed>, width=300, height=375, channels=3, levels=1, RGB=True, dtype=uint8> <valis.slide_io.VipsSlideReader object at 0x7f4137866540> True (375, 300, 3)\n",
      "<Slide, name = B_213-ST_BFIW-SE_2016_processed>, width=300, height=375, channels=3, levels=1, RGB=True, dtype=uint8> <valis.slide_io.VipsSlideReader object at 0x7f41378665a0> True (375, 300, 3)\n",
      "<Slide, name = B_213-ST_BFIW-SE_2017_processed>, width=300, height=375, channels=3, levels=1, RGB=True, dtype=uint8> <valis.slide_io.VipsSlideReader object at 0x7f4137866600> True (375, 300, 3)\n",
      "<Slide, name = B_213-ST_BFIW-SE_2018_processed>, width=300, height=375, channels=3, levels=1, RGB=True, dtype=uint8> <valis.slide_io.VipsSlideReader object at 0x7f4137866660> True (375, 300, 3)\n",
      "<Slide, name = B_213-ST_BFIW-SE_2019_processed>, width=300, height=375, channels=3, levels=1, RGB=True, dtype=uint8> <valis.slide_io.VipsSlideReader object at 0x7f41378666c0> True (375, 300, 3)\n",
      "<Slide, name = B_213-ST_BFIW-SE_2020_processed>, width=300, height=375, channels=3, levels=1, RGB=True, dtype=uint8> <valis.slide_io.VipsSlideReader object at 0x7f4137866720> True (375, 300, 3)\n",
      "<Slide, name = B_213-ST_BFIW-SE_2021_processed>, width=300, height=375, channels=3, levels=1, RGB=True, dtype=uint8> <valis.slide_io.VipsSlideReader object at 0x7f4137866780> True (375, 300, 3)\n",
      "<Slide, name = B_213-ST_BFIW-SE_2022_processed>, width=300, height=375, channels=3, levels=1, RGB=True, dtype=uint8> <valis.slide_io.VipsSlideReader object at 0x7f41378667e0> True (375, 300, 3)\n"
     ]
    },
    {
     "name": "stderr",
     "output_type": "stream",
     "text": [
      "Converting images:  76%|███████████████████████████████████▋           | 1994/2627 [00:23<00:07, 86.14image/s]"
     ]
    },
    {
     "name": "stdout",
     "output_type": "stream",
     "text": [
      "<Slide, name = B_213-ST_BFIW-SE_2023_processed>, width=300, height=375, channels=3, levels=1, RGB=True, dtype=uint8> <valis.slide_io.VipsSlideReader object at 0x7f4137866840> True (375, 300, 3)\n",
      "<Slide, name = B_213-ST_BFIW-SE_2024_processed>, width=300, height=375, channels=3, levels=1, RGB=True, dtype=uint8> <valis.slide_io.VipsSlideReader object at 0x7f41378668a0> True (375, 300, 3)\n",
      "<Slide, name = B_213-ST_BFIW-SE_2025_processed>, width=300, height=375, channels=3, levels=1, RGB=True, dtype=uint8> <valis.slide_io.VipsSlideReader object at 0x7f4137866900> True (375, 300, 3)\n",
      "<Slide, name = B_213-ST_BFIW-SE_2026_processed>, width=300, height=375, channels=3, levels=1, RGB=True, dtype=uint8> <valis.slide_io.VipsSlideReader object at 0x7f4137866960> True (375, 300, 3)\n",
      "<Slide, name = B_213-ST_BFIW-SE_2027_processed>, width=300, height=375, channels=3, levels=1, RGB=True, dtype=uint8> <valis.slide_io.VipsSlideReader object at 0x7f41378669f0> True (375, 300, 3)\n",
      "<Slide, name = B_213-ST_BFIW-SE_2028_processed>, width=300, height=375, channels=3, levels=1, RGB=True, dtype=uint8> <valis.slide_io.VipsSlideReader object at 0x7f4137866a50> True (375, 300, 3)\n",
      "<Slide, name = B_213-ST_BFIW-SE_2029_processed>, width=300, height=375, channels=3, levels=1, RGB=True, dtype=uint8> <valis.slide_io.VipsSlideReader object at 0x7f4137866ab0> True (375, 300, 3)\n",
      "<Slide, name = B_213-ST_BFIW-SE_2030_processed>, width=300, height=375, channels=3, levels=1, RGB=True, dtype=uint8> <valis.slide_io.VipsSlideReader object at 0x7f4137866b10> True (375, 300, 3)\n",
      "<Slide, name = B_213-ST_BFIW-SE_2031_processed>, width=300, height=375, channels=3, levels=1, RGB=True, dtype=uint8> <valis.slide_io.VipsSlideReader object at 0x7f4137866b70> True (375, 300, 3)\n"
     ]
    },
    {
     "name": "stderr",
     "output_type": "stream",
     "text": [
      "Converting images:  76%|███████████████████████████████████▊           | 2003/2627 [00:23<00:07, 86.26image/s]"
     ]
    },
    {
     "name": "stdout",
     "output_type": "stream",
     "text": [
      "<Slide, name = B_213-ST_BFIW-SE_2032_processed>, width=300, height=375, channels=3, levels=1, RGB=True, dtype=uint8> <valis.slide_io.VipsSlideReader object at 0x7f4137866bd0> True (375, 300, 3)\n",
      "<Slide, name = B_213-ST_BFIW-SE_2033_processed>, width=300, height=375, channels=3, levels=1, RGB=True, dtype=uint8> <valis.slide_io.VipsSlideReader object at 0x7f4137866c30> True (375, 300, 3)\n",
      "<Slide, name = B_213-ST_BFIW-SE_2034_processed>, width=300, height=375, channels=3, levels=1, RGB=True, dtype=uint8> <valis.slide_io.VipsSlideReader object at 0x7f4137866c90> True (375, 300, 3)\n",
      "<Slide, name = B_213-ST_BFIW-SE_2035_processed>, width=300, height=375, channels=3, levels=1, RGB=True, dtype=uint8> <valis.slide_io.VipsSlideReader object at 0x7f4137866cf0> True (375, 300, 3)\n",
      "<Slide, name = B_213-ST_BFIW-SE_2036_processed>, width=300, height=375, channels=3, levels=1, RGB=True, dtype=uint8> <valis.slide_io.VipsSlideReader object at 0x7f4137866d50> True (375, 300, 3)\n",
      "<Slide, name = B_213-ST_BFIW-SE_2037_processed>, width=300, height=375, channels=3, levels=1, RGB=True, dtype=uint8> <valis.slide_io.VipsSlideReader object at 0x7f4137866db0> True (375, 300, 3)\n",
      "<Slide, name = B_213-ST_BFIW-SE_2038_processed>, width=300, height=375, channels=3, levels=1, RGB=True, dtype=uint8> <valis.slide_io.VipsSlideReader object at 0x7f4137866e10> True (375, 300, 3)\n",
      "<Slide, name = B_213-ST_BFIW-SE_2039_processed>, width=300, height=375, channels=3, levels=1, RGB=True, dtype=uint8> <valis.slide_io.VipsSlideReader object at 0x7f4137866ea0> True (375, 300, 3)\n",
      "<Slide, name = B_213-ST_BFIW-SE_2040_processed>, width=300, height=375, channels=3, levels=1, RGB=True, dtype=uint8> <valis.slide_io.VipsSlideReader object at 0x7f4137866f00> True (375, 300, 3)\n"
     ]
    },
    {
     "name": "stderr",
     "output_type": "stream",
     "text": [
      "Converting images:  77%|███████████████████████████████████▉           | 2012/2627 [00:23<00:07, 85.60image/s]"
     ]
    },
    {
     "name": "stdout",
     "output_type": "stream",
     "text": [
      "<Slide, name = B_213-ST_BFIW-SE_2041_processed>, width=300, height=375, channels=3, levels=1, RGB=True, dtype=uint8> <valis.slide_io.VipsSlideReader object at 0x7f4137866f60> True (375, 300, 3)\n",
      "<Slide, name = B_213-ST_BFIW-SE_2042_processed>, width=300, height=375, channels=3, levels=1, RGB=True, dtype=uint8> <valis.slide_io.VipsSlideReader object at 0x7f4137866fc0> True (375, 300, 3)\n",
      "<Slide, name = B_213-ST_BFIW-SE_2043_processed>, width=300, height=375, channels=3, levels=1, RGB=True, dtype=uint8> <valis.slide_io.VipsSlideReader object at 0x7f4137867020> True (375, 300, 3)\n",
      "<Slide, name = B_213-ST_BFIW-SE_2044_processed>, width=300, height=375, channels=3, levels=1, RGB=True, dtype=uint8> <valis.slide_io.VipsSlideReader object at 0x7f4137867080> True (375, 300, 3)\n",
      "<Slide, name = B_213-ST_BFIW-SE_2045_processed>, width=300, height=375, channels=3, levels=1, RGB=True, dtype=uint8> <valis.slide_io.VipsSlideReader object at 0x7f41378670e0> True (375, 300, 3)\n",
      "<Slide, name = B_213-ST_BFIW-SE_2046_processed>, width=300, height=375, channels=3, levels=1, RGB=True, dtype=uint8> <valis.slide_io.VipsSlideReader object at 0x7f4137867140> True (375, 300, 3)\n",
      "<Slide, name = B_213-ST_BFIW-SE_2047_processed>, width=300, height=375, channels=3, levels=1, RGB=True, dtype=uint8> <valis.slide_io.VipsSlideReader object at 0x7f41378671a0> True (375, 300, 3)\n",
      "<Slide, name = B_213-ST_BFIW-SE_2048_processed>, width=300, height=375, channels=3, levels=1, RGB=True, dtype=uint8> <valis.slide_io.VipsSlideReader object at 0x7f4137867200> True (375, 300, 3)\n",
      "<Slide, name = B_213-ST_BFIW-SE_2049_processed>, width=300, height=375, channels=3, levels=1, RGB=True, dtype=uint8> <valis.slide_io.VipsSlideReader object at 0x7f4137807ad0> True (375, 300, 3)\n"
     ]
    },
    {
     "name": "stderr",
     "output_type": "stream",
     "text": [
      "Converting images:  77%|████████████████████████████████████▏          | 2021/2627 [00:23<00:07, 85.99image/s]"
     ]
    },
    {
     "name": "stdout",
     "output_type": "stream",
     "text": [
      "<Slide, name = B_213-ST_BFIW-SE_2050_processed>, width=300, height=375, channels=3, levels=1, RGB=True, dtype=uint8> <valis.slide_io.VipsSlideReader object at 0x7f41378673e0> True (375, 300, 3)\n",
      "<Slide, name = B_213-ST_BFIW-SE_2051_processed>, width=300, height=375, channels=3, levels=1, RGB=True, dtype=uint8> <valis.slide_io.VipsSlideReader object at 0x7f4137867320> True (375, 300, 3)\n",
      "<Slide, name = B_213-ST_BFIW-SE_2052_processed>, width=300, height=375, channels=3, levels=1, RGB=True, dtype=uint8> <valis.slide_io.VipsSlideReader object at 0x7f41378670b0> True (375, 300, 3)\n",
      "<Slide, name = B_213-ST_BFIW-SE_2053_processed>, width=300, height=375, channels=3, levels=1, RGB=True, dtype=uint8> <valis.slide_io.VipsSlideReader object at 0x7f41378671d0> True (375, 300, 3)\n",
      "<Slide, name = B_213-ST_BFIW-SE_2054_processed>, width=300, height=375, channels=3, levels=1, RGB=True, dtype=uint8> <valis.slide_io.VipsSlideReader object at 0x7f4137867410> True (375, 300, 3)\n",
      "<Slide, name = B_213-ST_BFIW-SE_2055_processed>, width=300, height=375, channels=3, levels=1, RGB=True, dtype=uint8> <valis.slide_io.VipsSlideReader object at 0x7f4137867470> True (375, 300, 3)\n",
      "<Slide, name = B_213-ST_BFIW-SE_2056_processed>, width=300, height=375, channels=3, levels=1, RGB=True, dtype=uint8> <valis.slide_io.VipsSlideReader object at 0x7f41378674d0> True (375, 300, 3)\n",
      "<Slide, name = B_213-ST_BFIW-SE_2057_processed>, width=300, height=375, channels=3, levels=1, RGB=True, dtype=uint8> <valis.slide_io.VipsSlideReader object at 0x7f4137867530> True (375, 300, 3)\n",
      "<Slide, name = B_213-ST_BFIW-SE_2058_processed>, width=300, height=375, channels=3, levels=1, RGB=True, dtype=uint8> <valis.slide_io.VipsSlideReader object at 0x7f4137867590> True (375, 300, 3)\n"
     ]
    },
    {
     "name": "stderr",
     "output_type": "stream",
     "text": [
      "Converting images:  77%|████████████████████████████████████▎          | 2030/2627 [00:23<00:06, 86.30image/s]"
     ]
    },
    {
     "name": "stdout",
     "output_type": "stream",
     "text": [
      "<Slide, name = B_213-ST_BFIW-SE_2059_processed>, width=300, height=375, channels=3, levels=1, RGB=True, dtype=uint8> <valis.slide_io.VipsSlideReader object at 0x7f41378675f0> True (375, 300, 3)\n",
      "<Slide, name = B_213-ST_BFIW-SE_2060_processed>, width=300, height=375, channels=3, levels=1, RGB=True, dtype=uint8> <valis.slide_io.VipsSlideReader object at 0x7f4137867650> True (375, 300, 3)\n",
      "<Slide, name = B_213-ST_BFIW-SE_2061_processed>, width=300, height=375, channels=3, levels=1, RGB=True, dtype=uint8> <valis.slide_io.VipsSlideReader object at 0x7f41378676b0> True (375, 300, 3)\n",
      "<Slide, name = B_213-ST_BFIW-SE_2062_processed>, width=300, height=375, channels=3, levels=1, RGB=True, dtype=uint8> <valis.slide_io.VipsSlideReader object at 0x7f4137867710> True (375, 300, 3)\n",
      "<Slide, name = B_213-ST_BFIW-SE_2063_processed>, width=300, height=375, channels=3, levels=1, RGB=True, dtype=uint8> <valis.slide_io.VipsSlideReader object at 0x7f4137867770> True (375, 300, 3)\n",
      "<Slide, name = B_213-ST_BFIW-SE_2064_processed>, width=300, height=375, channels=3, levels=1, RGB=True, dtype=uint8> <valis.slide_io.VipsSlideReader object at 0x7f41378677d0> True (375, 300, 3)\n",
      "<Slide, name = B_213-ST_BFIW-SE_2066_processed>, width=300, height=375, channels=3, levels=1, RGB=True, dtype=uint8> <valis.slide_io.VipsSlideReader object at 0x7f4137867830> True (375, 300, 3)\n",
      "<Slide, name = B_213-ST_BFIW-SE_2067_processed>, width=300, height=375, channels=3, levels=1, RGB=True, dtype=uint8> <valis.slide_io.VipsSlideReader object at 0x7f4137867890> True (375, 300, 3)\n",
      "<Slide, name = B_213-ST_BFIW-SE_2068_processed>, width=300, height=375, channels=3, levels=1, RGB=True, dtype=uint8> <valis.slide_io.VipsSlideReader object at 0x7f41378678f0> True (375, 300, 3)\n"
     ]
    },
    {
     "name": "stderr",
     "output_type": "stream",
     "text": [
      "Converting images:  78%|████████████████████████████████████▍          | 2039/2627 [00:23<00:06, 86.92image/s]"
     ]
    },
    {
     "name": "stdout",
     "output_type": "stream",
     "text": [
      "<Slide, name = B_213-ST_BFIW-SE_2069_processed>, width=300, height=375, channels=3, levels=1, RGB=True, dtype=uint8> <valis.slide_io.VipsSlideReader object at 0x7f4137867950> True (375, 300, 3)\n",
      "<Slide, name = B_213-ST_BFIW-SE_2070_processed>, width=300, height=375, channels=3, levels=1, RGB=True, dtype=uint8> <valis.slide_io.VipsSlideReader object at 0x7f41378679b0> True (375, 300, 3)\n",
      "<Slide, name = B_213-ST_BFIW-SE_2071_processed>, width=300, height=375, channels=3, levels=1, RGB=True, dtype=uint8> <valis.slide_io.VipsSlideReader object at 0x7f4137867a10> True (375, 300, 3)\n",
      "<Slide, name = B_213-ST_BFIW-SE_2072_processed>, width=300, height=375, channels=3, levels=1, RGB=True, dtype=uint8> <valis.slide_io.VipsSlideReader object at 0x7f4137867a70> True (375, 300, 3)\n",
      "<Slide, name = B_213-ST_BFIW-SE_2073_processed>, width=300, height=375, channels=3, levels=1, RGB=True, dtype=uint8> <valis.slide_io.VipsSlideReader object at 0x7f4137867ad0> True (375, 300, 3)\n",
      "<Slide, name = B_213-ST_BFIW-SE_2074_processed>, width=300, height=375, channels=3, levels=1, RGB=True, dtype=uint8> <valis.slide_io.VipsSlideReader object at 0x7f4137867b30> True (375, 300, 3)\n",
      "<Slide, name = B_213-ST_BFIW-SE_2075_processed>, width=300, height=375, channels=3, levels=1, RGB=True, dtype=uint8> <valis.slide_io.VipsSlideReader object at 0x7f4137867b90> True (375, 300, 3)\n",
      "<Slide, name = B_213-ST_BFIW-SE_2076_processed>, width=300, height=375, channels=3, levels=1, RGB=True, dtype=uint8> <valis.slide_io.VipsSlideReader object at 0x7f4137867bf0> True (375, 300, 3)\n",
      "<Slide, name = B_213-ST_BFIW-SE_2077_processed>, width=300, height=375, channels=3, levels=1, RGB=True, dtype=uint8> <valis.slide_io.VipsSlideReader object at 0x7f4137867c50> True (375, 300, 3)\n"
     ]
    },
    {
     "name": "stderr",
     "output_type": "stream",
     "text": [
      "Converting images:  78%|████████████████████████████████████▋          | 2048/2627 [00:23<00:06, 87.14image/s]"
     ]
    },
    {
     "name": "stdout",
     "output_type": "stream",
     "text": [
      "<Slide, name = B_213-ST_BFIW-SE_2078_processed>, width=300, height=375, channels=3, levels=1, RGB=True, dtype=uint8> <valis.slide_io.VipsSlideReader object at 0x7f4137867cb0> True (375, 300, 3)\n",
      "<Slide, name = B_213-ST_BFIW-SE_2079_processed>, width=300, height=375, channels=3, levels=1, RGB=True, dtype=uint8> <valis.slide_io.VipsSlideReader object at 0x7f4137867d10> True (375, 300, 3)\n",
      "<Slide, name = B_213-ST_BFIW-SE_2080_processed>, width=300, height=375, channels=3, levels=1, RGB=True, dtype=uint8> <valis.slide_io.VipsSlideReader object at 0x7f4137867d70> True (375, 300, 3)\n",
      "<Slide, name = B_213-ST_BFIW-SE_2081_processed>, width=300, height=375, channels=3, levels=1, RGB=True, dtype=uint8> <valis.slide_io.VipsSlideReader object at 0x7f4137867dd0> True (375, 300, 3)\n",
      "<Slide, name = B_213-ST_BFIW-SE_2082_processed>, width=300, height=375, channels=3, levels=1, RGB=True, dtype=uint8> <valis.slide_io.VipsSlideReader object at 0x7f4137867e30> True (375, 300, 3)\n",
      "<Slide, name = B_213-ST_BFIW-SE_2083_processed>, width=300, height=375, channels=3, levels=1, RGB=True, dtype=uint8> <valis.slide_io.VipsSlideReader object at 0x7f4137867e90> True (375, 300, 3)\n",
      "<Slide, name = B_213-ST_BFIW-SE_2084_processed>, width=300, height=375, channels=3, levels=1, RGB=True, dtype=uint8> <valis.slide_io.VipsSlideReader object at 0x7f4137867f20> True (375, 300, 3)\n",
      "<Slide, name = B_213-ST_BFIW-SE_2085_processed>, width=300, height=375, channels=3, levels=1, RGB=True, dtype=uint8> <valis.slide_io.VipsSlideReader object at 0x7f4137867fe0> True (375, 300, 3)\n",
      "<Slide, name = B_213-ST_BFIW-SE_2086_processed>, width=300, height=375, channels=3, levels=1, RGB=True, dtype=uint8> <valis.slide_io.VipsSlideReader object at 0x7f4137867fb0> True (375, 300, 3)\n"
     ]
    },
    {
     "name": "stderr",
     "output_type": "stream",
     "text": [
      "Converting images:  78%|████████████████████████████████████▊          | 2057/2627 [00:23<00:06, 87.12image/s]"
     ]
    },
    {
     "name": "stdout",
     "output_type": "stream",
     "text": [
      "<Slide, name = B_213-ST_BFIW-SE_2087_processed>, width=300, height=375, channels=3, levels=1, RGB=True, dtype=uint8> <valis.slide_io.VipsSlideReader object at 0x7f4137867d40> True (375, 300, 3)\n",
      "<Slide, name = B_213-ST_BFIW-SE_2088_processed>, width=300, height=375, channels=3, levels=1, RGB=True, dtype=uint8> <valis.slide_io.VipsSlideReader object at 0x7f4137867f80> True (375, 300, 3)\n",
      "<Slide, name = B_213-ST_BFIW-SE_2089_processed>, width=300, height=375, channels=3, levels=1, RGB=True, dtype=uint8> <valis.slide_io.VipsSlideReader object at 0x7f4137867e60> True (375, 300, 3)\n",
      "<Slide, name = B_213-ST_BFIW-SE_2090_processed>, width=300, height=375, channels=3, levels=1, RGB=True, dtype=uint8> <valis.slide_io.VipsSlideReader object at 0x7f4137867f50> True (375, 300, 3)\n",
      "<Slide, name = B_213-ST_BFIW-SE_2092_processed>, width=300, height=375, channels=3, levels=1, RGB=True, dtype=uint8> <valis.slide_io.VipsSlideReader object at 0x7f4137867da0> True (375, 300, 3)\n",
      "<Slide, name = B_213-ST_BFIW-SE_2093_processed>, width=300, height=375, channels=3, levels=1, RGB=True, dtype=uint8> <valis.slide_io.VipsSlideReader object at 0x7f4137848170> True (375, 300, 3)\n",
      "<Slide, name = B_213-ST_BFIW-SE_2094_processed>, width=300, height=375, channels=3, levels=1, RGB=True, dtype=uint8> <valis.slide_io.VipsSlideReader object at 0x7f4137830140> True (375, 300, 3)\n",
      "<Slide, name = B_213-ST_BFIW-SE_2095_processed>, width=300, height=375, channels=3, levels=1, RGB=True, dtype=uint8> <valis.slide_io.VipsSlideReader object at 0x7f4137830080> True (375, 300, 3)\n",
      "<Slide, name = B_213-ST_BFIW-SE_2096_processed>, width=300, height=375, channels=3, levels=1, RGB=True, dtype=uint8> <valis.slide_io.VipsSlideReader object at 0x7f4137868050> True (375, 300, 3)\n"
     ]
    },
    {
     "name": "stderr",
     "output_type": "stream",
     "text": [
      "Converting images:  79%|████████████████████████████████████▉          | 2066/2627 [00:24<00:09, 57.63image/s]"
     ]
    },
    {
     "name": "stdout",
     "output_type": "stream",
     "text": [
      "<Slide, name = B_213-ST_BFIW-SE_2097_processed>, width=300, height=375, channels=3, levels=1, RGB=True, dtype=uint8> <valis.slide_io.VipsSlideReader object at 0x7f41378303b0> True (375, 300, 3)\n",
      "<Slide, name = B_213-ST_BFIW-SE_2098_processed>, width=300, height=375, channels=3, levels=1, RGB=True, dtype=uint8> <valis.slide_io.VipsSlideReader object at 0x7f41378682c0> True (375, 300, 3)\n",
      "<Slide, name = B_213-ST_BFIW-SE_2099_processed>, width=300, height=375, channels=3, levels=1, RGB=True, dtype=uint8> <valis.slide_io.VipsSlideReader object at 0x7f4137848440> True (375, 300, 3)\n",
      "<Slide, name = B_213-ST_BFIW-SE_2100_processed>, width=300, height=375, channels=3, levels=1, RGB=True, dtype=uint8> <valis.slide_io.VipsSlideReader object at 0x7f41378201a0> True (375, 300, 3)\n",
      "<Slide, name = B_213-ST_BFIW-SE_2101_processed>, width=300, height=375, channels=3, levels=1, RGB=True, dtype=uint8> <valis.slide_io.VipsSlideReader object at 0x7f4137820500> True (375, 300, 3)\n",
      "<Slide, name = B_213-ST_BFIW-SE_2102_processed>, width=300, height=375, channels=3, levels=1, RGB=True, dtype=uint8> <valis.slide_io.VipsSlideReader object at 0x7f4137810560> True (375, 300, 3)\n",
      "<Slide, name = B_213-ST_BFIW-SE_2103_processed>, width=300, height=375, channels=3, levels=1, RGB=True, dtype=uint8> <valis.slide_io.VipsSlideReader object at 0x7f41378305c0> True (375, 300, 3)\n",
      "<Slide, name = B_213-ST_BFIW-SE_2104_processed>, width=300, height=375, channels=3, levels=1, RGB=True, dtype=uint8> <valis.slide_io.VipsSlideReader object at 0x7f4137830620> True (375, 300, 3)\n",
      "<Slide, name = B_213-ST_BFIW-SE_2105_processed>, width=300, height=375, channels=3, levels=1, RGB=True, dtype=uint8> <valis.slide_io.VipsSlideReader object at 0x7f4137830680> True (375, 300, 3)\n"
     ]
    },
    {
     "name": "stderr",
     "output_type": "stream",
     "text": [
      "Converting images:  79%|█████████████████████████████████████          | 2075/2627 [00:24<00:08, 63.65image/s]"
     ]
    },
    {
     "name": "stdout",
     "output_type": "stream",
     "text": [
      "<Slide, name = B_213-ST_BFIW-SE_2106_processed>, width=300, height=375, channels=3, levels=1, RGB=True, dtype=uint8> <valis.slide_io.VipsSlideReader object at 0x7f41378306e0> True (375, 300, 3)\n",
      "<Slide, name = B_213-ST_BFIW-SE_2107_processed>, width=300, height=375, channels=3, levels=1, RGB=True, dtype=uint8> <valis.slide_io.VipsSlideReader object at 0x7f41378688f0> True (375, 300, 3)\n",
      "<Slide, name = B_213-ST_BFIW-SE_2108_processed>, width=300, height=375, channels=3, levels=1, RGB=True, dtype=uint8> <valis.slide_io.VipsSlideReader object at 0x7f4137848530> True (375, 300, 3)\n",
      "<Slide, name = B_213-ST_BFIW-SE_2109_processed>, width=300, height=375, channels=3, levels=1, RGB=True, dtype=uint8> <valis.slide_io.VipsSlideReader object at 0x7f4137868890> True (375, 300, 3)\n",
      "<Slide, name = B_213-ST_BFIW-SE_2110_processed>, width=300, height=375, channels=3, levels=1, RGB=True, dtype=uint8> <valis.slide_io.VipsSlideReader object at 0x7f4137868710> True (375, 300, 3)\n",
      "<Slide, name = B_213-ST_BFIW-SE_2111_processed>, width=300, height=375, channels=3, levels=1, RGB=True, dtype=uint8> <valis.slide_io.VipsSlideReader object at 0x7f4137830740> True (375, 300, 3)\n",
      "<Slide, name = B_213-ST_BFIW-SE_2112_processed>, width=300, height=375, channels=3, levels=1, RGB=True, dtype=uint8> <valis.slide_io.VipsSlideReader object at 0x7f4137868860> True (375, 300, 3)\n",
      "<Slide, name = B_213-ST_BFIW-SE_2113_processed>, width=300, height=375, channels=3, levels=1, RGB=True, dtype=uint8> <valis.slide_io.VipsSlideReader object at 0x7f4137868110> True (375, 300, 3)\n",
      "<Slide, name = B_213-ST_BFIW-SE_2114_processed>, width=300, height=375, channels=3, levels=1, RGB=True, dtype=uint8> <valis.slide_io.VipsSlideReader object at 0x7f41378289e0> True (375, 300, 3)\n"
     ]
    },
    {
     "name": "stderr",
     "output_type": "stream",
     "text": [
      "Converting images:  79%|█████████████████████████████████████▎         | 2084/2627 [00:24<00:07, 69.04image/s]"
     ]
    },
    {
     "name": "stdout",
     "output_type": "stream",
     "text": [
      "<Slide, name = B_213-ST_BFIW-SE_2115_processed>, width=300, height=375, channels=3, levels=1, RGB=True, dtype=uint8> <valis.slide_io.VipsSlideReader object at 0x7f41378689b0> True (375, 300, 3)\n",
      "<Slide, name = B_213-ST_BFIW-SE_2116_processed>, width=300, height=375, channels=3, levels=1, RGB=True, dtype=uint8> <valis.slide_io.VipsSlideReader object at 0x7f4137848a70> True (375, 300, 3)\n",
      "<Slide, name = B_213-ST_BFIW-SE_2117_processed>, width=300, height=375, channels=3, levels=1, RGB=True, dtype=uint8> <valis.slide_io.VipsSlideReader object at 0x7f4137830b00> True (375, 300, 3)\n",
      "<Slide, name = B_213-ST_BFIW-SE_2118_processed>, width=300, height=375, channels=3, levels=1, RGB=True, dtype=uint8> <valis.slide_io.VipsSlideReader object at 0x7f4137848b30> True (375, 300, 3)\n",
      "<Slide, name = B_213-ST_BFIW-SE_2119_processed>, width=300, height=375, channels=3, levels=1, RGB=True, dtype=uint8> <valis.slide_io.VipsSlideReader object at 0x7f4137868a10> True (375, 300, 3)\n",
      "<Slide, name = B_213-ST_BFIW-SE_2120_processed>, width=300, height=375, channels=3, levels=1, RGB=True, dtype=uint8> <valis.slide_io.VipsSlideReader object at 0x7f4137848bf0> True (375, 300, 3)\n",
      "<Slide, name = B_213-ST_BFIW-SE_2121_processed>, width=300, height=375, channels=3, levels=1, RGB=True, dtype=uint8> <valis.slide_io.VipsSlideReader object at 0x7f4137868c20> True (375, 300, 3)\n",
      "<Slide, name = B_213-ST_BFIW-SE_2122_processed>, width=300, height=375, channels=3, levels=1, RGB=True, dtype=uint8> <valis.slide_io.VipsSlideReader object at 0x7f4137828cb0> True (375, 300, 3)\n"
     ]
    },
    {
     "name": "stderr",
     "output_type": "stream",
     "text": [
      "Converting images:  80%|█████████████████████████████████████▍         | 2092/2627 [00:24<00:07, 69.47image/s]"
     ]
    },
    {
     "name": "stdout",
     "output_type": "stream",
     "text": [
      "<Slide, name = B_213-ST_BFIW-SE_2123_processed>, width=300, height=375, channels=3, levels=1, RGB=True, dtype=uint8> <valis.slide_io.VipsSlideReader object at 0x7f4137868da0> True (375, 300, 3)\n",
      "<Slide, name = B_213-ST_BFIW-SE_2124_processed>, width=300, height=375, channels=3, levels=1, RGB=True, dtype=uint8> <valis.slide_io.VipsSlideReader object at 0x7f4137800d70> True (375, 300, 3)\n",
      "<Slide, name = B_213-ST_BFIW-SE_2125_processed>, width=300, height=375, channels=3, levels=1, RGB=True, dtype=uint8> <valis.slide_io.VipsSlideReader object at 0x7f4137868e60> True (375, 300, 3)\n",
      "<Slide, name = B_213-ST_BFIW-SE_2126_processed>, width=300, height=375, channels=3, levels=1, RGB=True, dtype=uint8> <valis.slide_io.VipsSlideReader object at 0x7f4137848e30> True (375, 300, 3)\n",
      "<Slide, name = B_213-ST_BFIW-SE_2127_processed>, width=300, height=375, channels=3, levels=1, RGB=True, dtype=uint8> <valis.slide_io.VipsSlideReader object at 0x7f4137868f50> True (375, 300, 3)\n",
      "<Slide, name = B_213-ST_BFIW-SE_2128_processed>, width=300, height=375, channels=3, levels=1, RGB=True, dtype=uint8> <valis.slide_io.VipsSlideReader object at 0x7f4137868d10> True (375, 300, 3)\n",
      "<Slide, name = B_213-ST_BFIW-SE_2129_processed>, width=300, height=375, channels=3, levels=1, RGB=True, dtype=uint8> <valis.slide_io.VipsSlideReader object at 0x7f4137868dd0> True (375, 300, 3)\n",
      "<Slide, name = B_213-ST_BFIW-SE_2130_processed>, width=300, height=375, channels=3, levels=1, RGB=True, dtype=uint8> <valis.slide_io.VipsSlideReader object at 0x7f4137849130> True (375, 300, 3)\n",
      "<Slide, name = B_213-ST_BFIW-SE_2131_processed>, width=300, height=375, channels=3, levels=1, RGB=True, dtype=uint8> <valis.slide_io.VipsSlideReader object at 0x7f4137868f80> True (375, 300, 3)\n"
     ]
    },
    {
     "name": "stderr",
     "output_type": "stream",
     "text": [
      "Converting images:  80%|█████████████████████████████████████▌         | 2101/2627 [00:24<00:07, 74.13image/s]"
     ]
    },
    {
     "name": "stdout",
     "output_type": "stream",
     "text": [
      "<Slide, name = B_213-ST_BFIW-SE_2132_processed>, width=300, height=375, channels=3, levels=1, RGB=True, dtype=uint8> <valis.slide_io.VipsSlideReader object at 0x7f4137849100> True (375, 300, 3)\n",
      "<Slide, name = B_213-ST_BFIW-SE_2133_processed>, width=300, height=375, channels=3, levels=1, RGB=True, dtype=uint8> <valis.slide_io.VipsSlideReader object at 0x7f41378691c0> True (375, 300, 3)\n",
      "<Slide, name = B_213-ST_BFIW-SE_2134_processed>, width=300, height=375, channels=3, levels=1, RGB=True, dtype=uint8> <valis.slide_io.VipsSlideReader object at 0x7f4137869010> True (375, 300, 3)\n",
      "<Slide, name = B_213-ST_BFIW-SE_2135_processed>, width=300, height=375, channels=3, levels=1, RGB=True, dtype=uint8> <valis.slide_io.VipsSlideReader object at 0x7f4137869190> True (375, 300, 3)\n",
      "<Slide, name = B_213-ST_BFIW-SE_2136_processed>, width=300, height=375, channels=3, levels=1, RGB=True, dtype=uint8> <valis.slide_io.VipsSlideReader object at 0x7f41378687d0> True (375, 300, 3)\n",
      "<Slide, name = B_213-ST_BFIW-SE_2137_processed>, width=300, height=375, channels=3, levels=1, RGB=True, dtype=uint8> <valis.slide_io.VipsSlideReader object at 0x7f41378690d0> True (375, 300, 3)\n",
      "<Slide, name = B_213-ST_BFIW-SE_2138_processed>, width=300, height=375, channels=3, levels=1, RGB=True, dtype=uint8> <valis.slide_io.VipsSlideReader object at 0x7f4137849400> True (375, 300, 3)\n",
      "<Slide, name = B_213-ST_BFIW-SE_2139_processed>, width=300, height=375, channels=3, levels=1, RGB=True, dtype=uint8> <valis.slide_io.VipsSlideReader object at 0x7f41378294c0> True (375, 300, 3)\n",
      "<Slide, name = B_213-ST_BFIW-SE_2140_processed>, width=300, height=375, channels=3, levels=1, RGB=True, dtype=uint8> <valis.slide_io.VipsSlideReader object at 0x7f4137831280> True (375, 300, 3)\n"
     ]
    },
    {
     "name": "stderr",
     "output_type": "stream",
     "text": [
      "Converting images:  80%|█████████████████████████████████████▊         | 2110/2627 [00:24<00:06, 77.34image/s]"
     ]
    },
    {
     "name": "stdout",
     "output_type": "stream",
     "text": [
      "<Slide, name = B_213-ST_BFIW-SE_2141_processed>, width=300, height=375, channels=3, levels=1, RGB=True, dtype=uint8> <valis.slide_io.VipsSlideReader object at 0x7f4137869370> True (375, 300, 3)\n",
      "<Slide, name = B_213-ST_BFIW-SE_2142_processed>, width=300, height=375, channels=3, levels=1, RGB=True, dtype=uint8> <valis.slide_io.VipsSlideReader object at 0x7f41378314f0> True (375, 300, 3)\n",
      "<Slide, name = B_213-ST_BFIW-SE_2143_processed>, width=300, height=375, channels=3, levels=1, RGB=True, dtype=uint8> <valis.slide_io.VipsSlideReader object at 0x7f41378692b0> True (375, 300, 3)\n",
      "<Slide, name = B_213-ST_BFIW-SE_2144_processed>, width=300, height=375, channels=3, levels=1, RGB=True, dtype=uint8> <valis.slide_io.VipsSlideReader object at 0x7f4137829580> True (375, 300, 3)\n",
      "<Slide, name = B_213-ST_BFIW-SE_2145_processed>, width=300, height=375, channels=3, levels=1, RGB=True, dtype=uint8> <valis.slide_io.VipsSlideReader object at 0x7f4137869670> True (375, 300, 3)\n",
      "<Slide, name = B_213-ST_BFIW-SE_2146_processed>, width=300, height=375, channels=3, levels=1, RGB=True, dtype=uint8> <valis.slide_io.VipsSlideReader object at 0x7f4137831640> True (375, 300, 3)\n",
      "<Slide, name = B_213-ST_BFIW-SE_2147_processed>, width=300, height=375, channels=3, levels=1, RGB=True, dtype=uint8> <valis.slide_io.VipsSlideReader object at 0x7f4137869730> True (375, 300, 3)\n",
      "<Slide, name = B_213-ST_BFIW-SE_2148_processed>, width=300, height=375, channels=3, levels=1, RGB=True, dtype=uint8> <valis.slide_io.VipsSlideReader object at 0x7f4137869700> True (375, 300, 3)\n",
      "<Slide, name = B_213-ST_BFIW-SE_2149_processed>, width=300, height=375, channels=3, levels=1, RGB=True, dtype=uint8> <valis.slide_io.VipsSlideReader object at 0x7f41378498b0> True (375, 300, 3)\n"
     ]
    },
    {
     "name": "stderr",
     "output_type": "stream",
     "text": [
      "Converting images:  81%|█████████████████████████████████████▉         | 2119/2627 [00:24<00:06, 80.25image/s]"
     ]
    },
    {
     "name": "stdout",
     "output_type": "stream",
     "text": [
      "<Slide, name = B_213-ST_BFIW-SE_2150_processed>, width=300, height=375, channels=3, levels=1, RGB=True, dtype=uint8> <valis.slide_io.VipsSlideReader object at 0x7f41378216a0> True (375, 300, 3)\n",
      "<Slide, name = B_213-ST_BFIW-SE_2151_processed>, width=300, height=375, channels=3, levels=1, RGB=True, dtype=uint8> <valis.slide_io.VipsSlideReader object at 0x7f4137811880> True (375, 300, 3)\n",
      "<Slide, name = B_213-ST_BFIW-SE_2152_processed>, width=300, height=375, channels=3, levels=1, RGB=True, dtype=uint8> <valis.slide_io.VipsSlideReader object at 0x7f41378318e0> True (375, 300, 3)\n",
      "<Slide, name = B_213-ST_BFIW-SE_2153_processed>, width=300, height=375, channels=3, levels=1, RGB=True, dtype=uint8> <valis.slide_io.VipsSlideReader object at 0x7f41378697c0> True (375, 300, 3)\n",
      "<Slide, name = B_213-ST_BFIW-SE_2154_processed>, width=300, height=375, channels=3, levels=1, RGB=True, dtype=uint8> <valis.slide_io.VipsSlideReader object at 0x7f4137849970> True (375, 300, 3)\n",
      "<Slide, name = B_213-ST_BFIW-SE_2155_processed>, width=300, height=375, channels=3, levels=1, RGB=True, dtype=uint8> <valis.slide_io.VipsSlideReader object at 0x7f41378497f0> True (375, 300, 3)\n",
      "<Slide, name = B_213-ST_BFIW-SE_2156_processed>, width=300, height=375, channels=3, levels=1, RGB=True, dtype=uint8> <valis.slide_io.VipsSlideReader object at 0x7f4137831a30> True (375, 300, 3)\n",
      "<Slide, name = B_213-ST_BFIW-SE_2157_processed>, width=300, height=375, channels=3, levels=1, RGB=True, dtype=uint8> <valis.slide_io.VipsSlideReader object at 0x7f4137869940> True (375, 300, 3)\n",
      "<Slide, name = B_213-ST_BFIW-SE_2158_processed>, width=300, height=375, channels=3, levels=1, RGB=True, dtype=uint8> <valis.slide_io.VipsSlideReader object at 0x7f4137831af0> True (375, 300, 3)\n"
     ]
    },
    {
     "name": "stderr",
     "output_type": "stream",
     "text": [
      "Converting images:  81%|██████████████████████████████████████         | 2128/2627 [00:24<00:06, 81.18image/s]"
     ]
    },
    {
     "name": "stdout",
     "output_type": "stream",
     "text": [
      "<Slide, name = B_213-ST_BFIW-SE_2159_processed>, width=300, height=375, channels=3, levels=1, RGB=True, dtype=uint8> <valis.slide_io.VipsSlideReader object at 0x7f4137869b20> True (375, 300, 3)\n",
      "<Slide, name = B_213-ST_BFIW-SE_2160_processed>, width=300, height=375, channels=3, levels=1, RGB=True, dtype=uint8> <valis.slide_io.VipsSlideReader object at 0x7f4137849bb0> True (375, 300, 3)\n",
      "<Slide, name = B_213-ST_BFIW-SE_2161_processed>, width=300, height=375, channels=3, levels=1, RGB=True, dtype=uint8> <valis.slide_io.VipsSlideReader object at 0x7f4137869ca0> True (375, 300, 3)\n",
      "<Slide, name = B_213-ST_BFIW-SE_2162_processed>, width=300, height=375, channels=3, levels=1, RGB=True, dtype=uint8> <valis.slide_io.VipsSlideReader object at 0x7f4137831c70> True (375, 300, 3)\n",
      "<Slide, name = B_213-ST_BFIW-SE_2163_processed>, width=300, height=375, channels=3, levels=1, RGB=True, dtype=uint8> <valis.slide_io.VipsSlideReader object at 0x7f4137869d60> True (375, 300, 3)\n",
      "<Slide, name = B_213-ST_BFIW-SE_2164_processed>, width=300, height=375, channels=3, levels=1, RGB=True, dtype=uint8> <valis.slide_io.VipsSlideReader object at 0x7f4137831d30> True (375, 300, 3)\n",
      "<Slide, name = B_213-ST_BFIW-SE_2165_processed>, width=300, height=375, channels=3, levels=1, RGB=True, dtype=uint8> <valis.slide_io.VipsSlideReader object at 0x7f4137869e20> True (375, 300, 3)\n",
      "<Slide, name = B_213-ST_BFIW-SE_2166_processed>, width=300, height=375, channels=3, levels=1, RGB=True, dtype=uint8> <valis.slide_io.VipsSlideReader object at 0x7f4137849df0> True (375, 300, 3)\n",
      "<Slide, name = B_213-ST_BFIW-SE_2167_processed>, width=300, height=375, channels=3, levels=1, RGB=True, dtype=uint8> <valis.slide_io.VipsSlideReader object at 0x7f4137869ee0> True (375, 300, 3)\n"
     ]
    },
    {
     "name": "stderr",
     "output_type": "stream",
     "text": [
      "Converting images:  81%|██████████████████████████████████████▏        | 2137/2627 [00:24<00:05, 82.74image/s]"
     ]
    },
    {
     "name": "stdout",
     "output_type": "stream",
     "text": [
      "<Slide, name = B_213-ST_BFIW-SE_2168_processed>, width=300, height=375, channels=3, levels=1, RGB=True, dtype=uint8> <valis.slide_io.VipsSlideReader object at 0x7f4137831eb0> True (375, 300, 3)\n",
      "<Slide, name = B_213-ST_BFIW-SE_2169_processed>, width=300, height=375, channels=3, levels=1, RGB=True, dtype=uint8> <valis.slide_io.VipsSlideReader object at 0x7f4137869fd0> True (375, 300, 3)\n",
      "<Slide, name = B_213-ST_BFIW-SE_2170_processed>, width=300, height=375, channels=3, levels=1, RGB=True, dtype=uint8> <valis.slide_io.VipsSlideReader object at 0x7f4137821fa0> True (375, 300, 3)\n",
      "<Slide, name = B_213-ST_BFIW-SE_2171_processed>, width=300, height=375, channels=3, levels=1, RGB=True, dtype=uint8> <valis.slide_io.VipsSlideReader object at 0x7f413786a0c0> True (375, 300, 3)\n",
      "<Slide, name = B_213-ST_BFIW-SE_2172_processed>, width=300, height=375, channels=3, levels=1, RGB=True, dtype=uint8> <valis.slide_io.VipsSlideReader object at 0x7f4137869e50> True (375, 300, 3)\n",
      "<Slide, name = B_213-ST_BFIW-SE_2173_processed>, width=300, height=375, channels=3, levels=1, RGB=True, dtype=uint8> <valis.slide_io.VipsSlideReader object at 0x7f413786a090> True (375, 300, 3)\n",
      "<Slide, name = B_213-ST_BFIW-SE_2174_processed>, width=300, height=375, channels=3, levels=1, RGB=True, dtype=uint8> <valis.slide_io.VipsSlideReader object at 0x7f4137832240> True (375, 300, 3)\n",
      "<Slide, name = B_213-ST_BFIW-SE_2175_processed>, width=300, height=375, channels=3, levels=1, RGB=True, dtype=uint8> <valis.slide_io.VipsSlideReader object at 0x7f413784a300> True (375, 300, 3)\n",
      "<Slide, name = B_213-ST_BFIW-SE_2176_processed>, width=300, height=375, channels=3, levels=1, RGB=True, dtype=uint8> <valis.slide_io.VipsSlideReader object at 0x7f413782a1e0> True (375, 300, 3)\n"
     ]
    },
    {
     "name": "stderr",
     "output_type": "stream",
     "text": [
      "Converting images:  82%|██████████████████████████████████████▍        | 2146/2627 [00:25<00:05, 83.10image/s]"
     ]
    },
    {
     "name": "stdout",
     "output_type": "stream",
     "text": [
      "<Slide, name = B_213-ST_BFIW-SE_2177_processed>, width=300, height=375, channels=3, levels=1, RGB=True, dtype=uint8> <valis.slide_io.VipsSlideReader object at 0x7f413786a1b0> True (375, 300, 3)\n",
      "<Slide, name = B_213-ST_BFIW-SE_2178_processed>, width=300, height=375, channels=3, levels=1, RGB=True, dtype=uint8> <valis.slide_io.VipsSlideReader object at 0x7f413784a330> True (375, 300, 3)\n",
      "<Slide, name = B_213-ST_BFIW-SE_2179_processed>, width=300, height=375, channels=3, levels=1, RGB=True, dtype=uint8> <valis.slide_io.VipsSlideReader object at 0x7f413786a0f0> True (375, 300, 3)\n",
      "<Slide, name = B_213-ST_BFIW-SE_2180_processed>, width=300, height=375, channels=3, levels=1, RGB=True, dtype=uint8> <valis.slide_io.VipsSlideReader object at 0x7f413782a3c0> True (375, 300, 3)\n",
      "<Slide, name = B_213-ST_BFIW-SE_2181_processed>, width=300, height=375, channels=3, levels=1, RGB=True, dtype=uint8> <valis.slide_io.VipsSlideReader object at 0x7f413786a4b0> True (375, 300, 3)\n",
      "<Slide, name = B_213-ST_BFIW-SE_2182_processed>, width=300, height=375, channels=3, levels=1, RGB=True, dtype=uint8> <valis.slide_io.VipsSlideReader object at 0x7f413782a480> True (375, 300, 3)\n",
      "<Slide, name = B_213-ST_BFIW-SE_2183_processed>, width=300, height=375, channels=3, levels=1, RGB=True, dtype=uint8> <valis.slide_io.VipsSlideReader object at 0x7f4137832360> True (375, 300, 3)\n",
      "<Slide, name = B_213-ST_BFIW-SE_2184_processed>, width=300, height=375, channels=3, levels=1, RGB=True, dtype=uint8> <valis.slide_io.VipsSlideReader object at 0x7f4137832540> True (375, 300, 3)\n",
      "<Slide, name = B_213-ST_BFIW-SE_2185_processed>, width=300, height=375, channels=3, levels=1, RGB=True, dtype=uint8> <valis.slide_io.VipsSlideReader object at 0x7f41378125a0> True (375, 300, 3)\n"
     ]
    },
    {
     "name": "stderr",
     "output_type": "stream",
     "text": [
      "Converting images:  82%|██████████████████████████████████████▌        | 2155/2627 [00:25<00:05, 80.62image/s]"
     ]
    },
    {
     "name": "stdout",
     "output_type": "stream",
     "text": [
      "<Slide, name = B_213-ST_BFIW-SE_2186_processed>, width=300, height=375, channels=3, levels=1, RGB=True, dtype=uint8> <valis.slide_io.VipsSlideReader object at 0x7f4137832600> True (375, 300, 3)\n",
      "<Slide, name = B_213-ST_BFIW-SE_2187_processed>, width=300, height=375, channels=3, levels=1, RGB=True, dtype=uint8> <valis.slide_io.VipsSlideReader object at 0x7f4137822660> True (375, 300, 3)\n",
      "<Slide, name = B_213-ST_BFIW-SE_2188_processed>, width=300, height=375, channels=3, levels=1, RGB=True, dtype=uint8> <valis.slide_io.VipsSlideReader object at 0x7f41378226c0> True (375, 300, 3)\n",
      "<Slide, name = B_213-ST_BFIW-SE_2189_processed>, width=300, height=375, channels=3, levels=1, RGB=True, dtype=uint8> <valis.slide_io.VipsSlideReader object at 0x7f413782a720> True (375, 300, 3)\n",
      "<Slide, name = B_213-ST_BFIW-SE_2190_processed>, width=300, height=375, channels=3, levels=1, RGB=True, dtype=uint8> <valis.slide_io.VipsSlideReader object at 0x7f413786a960> True (375, 300, 3)\n",
      "<Slide, name = B_213-ST_BFIW-SE_2191_processed>, width=300, height=375, channels=3, levels=1, RGB=True, dtype=uint8> <valis.slide_io.VipsSlideReader object at 0x7f413784a570> True (375, 300, 3)\n",
      "<Slide, name = B_213-ST_BFIW-SE_2192_processed>, width=300, height=375, channels=3, levels=1, RGB=True, dtype=uint8> <valis.slide_io.VipsSlideReader object at 0x7f413786a900> True (375, 300, 3)\n",
      "<Slide, name = B_213-ST_BFIW-SE_2193_processed>, width=300, height=375, channels=3, levels=1, RGB=True, dtype=uint8> <valis.slide_io.VipsSlideReader object at 0x7f413782a840> True (375, 300, 3)\n",
      "<Slide, name = B_213-ST_BFIW-SE_2194_processed>, width=300, height=375, channels=3, levels=1, RGB=True, dtype=uint8> <valis.slide_io.VipsSlideReader object at 0x7f4137822780> True (375, 300, 3)\n"
     ]
    },
    {
     "name": "stderr",
     "output_type": "stream",
     "text": [
      "Converting images:  82%|██████████████████████████████████████▋        | 2164/2627 [00:25<00:05, 80.47image/s]"
     ]
    },
    {
     "name": "stdout",
     "output_type": "stream",
     "text": [
      "<Slide, name = B_213-ST_BFIW-SE_2195_processed>, width=300, height=375, channels=3, levels=1, RGB=True, dtype=uint8> <valis.slide_io.VipsSlideReader object at 0x7f413784a930> True (375, 300, 3)\n",
      "<Slide, name = B_213-ST_BFIW-SE_2196_processed>, width=300, height=375, channels=3, levels=1, RGB=True, dtype=uint8> <valis.slide_io.VipsSlideReader object at 0x7f41378129c0> True (375, 300, 3)\n",
      "<Slide, name = B_213-ST_BFIW-SE_2197_processed>, width=300, height=375, channels=3, levels=1, RGB=True, dtype=uint8> <valis.slide_io.VipsSlideReader object at 0x7f4137822a20> True (375, 300, 3)\n",
      "<Slide, name = B_213-ST_BFIW-SE_2198_processed>, width=300, height=375, channels=3, levels=1, RGB=True, dtype=uint8> <valis.slide_io.VipsSlideReader object at 0x7f4137822a80> True (375, 300, 3)\n",
      "<Slide, name = B_213-ST_BFIW-SE_2199_processed>, width=300, height=375, channels=3, levels=1, RGB=True, dtype=uint8> <valis.slide_io.VipsSlideReader object at 0x7f4137d7aae0> True (375, 300, 3)\n",
      "<Slide, name = B_213-ST_BFIW-SE_2200_processed>, width=300, height=375, channels=3, levels=1, RGB=True, dtype=uint8> <valis.slide_io.VipsSlideReader object at 0x7f4137802b40> True (375, 300, 3)\n",
      "<Slide, name = B_213-ST_BFIW-SE_2201_processed>, width=300, height=375, channels=3, levels=1, RGB=True, dtype=uint8> <valis.slide_io.VipsSlideReader object at 0x7f4137822ba0> True (375, 300, 3)\n",
      "<Slide, name = B_213-ST_BFIW-SE_2202_processed>, width=300, height=375, channels=3, levels=1, RGB=True, dtype=uint8> <valis.slide_io.VipsSlideReader object at 0x7f4137832c00> True (375, 300, 3)\n",
      "<Slide, name = B_213-ST_BFIW-SE_2203_processed>, width=300, height=375, channels=3, levels=1, RGB=True, dtype=uint8> <valis.slide_io.VipsSlideReader object at 0x7f4137832c60> True (375, 300, 3)\n"
     ]
    },
    {
     "name": "stderr",
     "output_type": "stream",
     "text": [
      "Converting images:  83%|██████████████████████████████████████▉        | 2173/2627 [00:25<00:05, 82.55image/s]"
     ]
    },
    {
     "name": "stdout",
     "output_type": "stream",
     "text": [
      "<Slide, name = B_213-ST_BFIW-SE_2204_processed>, width=300, height=375, channels=3, levels=1, RGB=True, dtype=uint8> <valis.slide_io.VipsSlideReader object at 0x7f413784acc0> True (375, 300, 3)\n",
      "<Slide, name = B_213-ST_BFIW-SE_2205_processed>, width=300, height=375, channels=3, levels=1, RGB=True, dtype=uint8> <valis.slide_io.VipsSlideReader object at 0x7f4137812d20> True (375, 300, 3)\n",
      "<Slide, name = B_213-ST_BFIW-SE_2206_processed>, width=300, height=375, channels=3, levels=1, RGB=True, dtype=uint8> <valis.slide_io.VipsSlideReader object at 0x7f413784ad80> True (375, 300, 3)\n",
      "<Slide, name = B_213-ST_BFIW-SE_2207_processed>, width=300, height=375, channels=3, levels=1, RGB=True, dtype=uint8> <valis.slide_io.VipsSlideReader object at 0x7f413784ade0> True (375, 300, 3)\n",
      "<Slide, name = B_213-ST_BFIW-SE_2208_processed>, width=300, height=375, channels=3, levels=1, RGB=True, dtype=uint8> <valis.slide_io.VipsSlideReader object at 0x7f413784ae40> True (375, 300, 3)\n",
      "<Slide, name = B_213-ST_BFIW-SE_2209_processed>, width=300, height=375, channels=3, levels=1, RGB=True, dtype=uint8> <valis.slide_io.VipsSlideReader object at 0x7f413784aea0> True (375, 300, 3)\n",
      "<Slide, name = B_213-ST_BFIW-SE_2210_processed>, width=300, height=375, channels=3, levels=1, RGB=True, dtype=uint8> <valis.slide_io.VipsSlideReader object at 0x7f4137822f00> True (375, 300, 3)\n",
      "<Slide, name = B_213-ST_BFIW-SE_2211_processed>, width=300, height=375, channels=3, levels=1, RGB=True, dtype=uint8> <valis.slide_io.VipsSlideReader object at 0x7f413784af60> True (375, 300, 3)\n",
      "<Slide, name = B_213-ST_BFIW-SE_2212_processed>, width=300, height=375, channels=3, levels=1, RGB=True, dtype=uint8> <valis.slide_io.VipsSlideReader object at 0x7f4137822fc0> True (375, 300, 3)\n"
     ]
    },
    {
     "name": "stderr",
     "output_type": "stream",
     "text": [
      "Converting images:  83%|███████████████████████████████████████        | 2182/2627 [00:25<00:05, 84.23image/s]"
     ]
    },
    {
     "name": "stdout",
     "output_type": "stream",
     "text": [
      "<Slide, name = B_213-ST_BFIW-SE_2213_processed>, width=300, height=375, channels=3, levels=1, RGB=True, dtype=uint8> <valis.slide_io.VipsSlideReader object at 0x7f413782b020> True (375, 300, 3)\n",
      "<Slide, name = B_213-ST_BFIW-SE_2214_processed>, width=300, height=375, channels=3, levels=1, RGB=True, dtype=uint8> <valis.slide_io.VipsSlideReader object at 0x7f413786a990> True (375, 300, 3)\n",
      "<Slide, name = B_213-ST_BFIW-SE_2215_processed>, width=300, height=375, channels=3, levels=1, RGB=True, dtype=uint8> <valis.slide_io.VipsSlideReader object at 0x7f413784b0e0> True (375, 300, 3)\n",
      "<Slide, name = B_213-ST_BFIW-SE_2216_processed>, width=300, height=375, channels=3, levels=1, RGB=True, dtype=uint8> <valis.slide_io.VipsSlideReader object at 0x7f413784a7b0> True (375, 300, 3)\n",
      "<Slide, name = B_213-ST_BFIW-SE_2217_processed>, width=300, height=375, channels=3, levels=1, RGB=True, dtype=uint8> <valis.slide_io.VipsSlideReader object at 0x7f413784b1a0> True (375, 300, 3)\n",
      "<Slide, name = B_213-ST_BFIW-SE_2218_processed>, width=300, height=375, channels=3, levels=1, RGB=True, dtype=uint8> <valis.slide_io.VipsSlideReader object at 0x7f413782b200> True (375, 300, 3)\n",
      "<Slide, name = B_213-ST_BFIW-SE_2219_processed>, width=300, height=375, channels=3, levels=1, RGB=True, dtype=uint8> <valis.slide_io.VipsSlideReader object at 0x7f413784b260> True (375, 300, 3)\n",
      "<Slide, name = B_213-ST_BFIW-SE_2220_processed>, width=300, height=375, channels=3, levels=1, RGB=True, dtype=uint8> <valis.slide_io.VipsSlideReader object at 0x7f413782b2c0> True (375, 300, 3)\n",
      "<Slide, name = B_213-ST_BFIW-SE_2221_processed>, width=300, height=375, channels=3, levels=1, RGB=True, dtype=uint8> <valis.slide_io.VipsSlideReader object at 0x7f413784b320> True (375, 300, 3)\n"
     ]
    },
    {
     "name": "stderr",
     "output_type": "stream",
     "text": [
      "Converting images:  83%|███████████████████████████████████████▏       | 2191/2627 [00:25<00:05, 84.85image/s]"
     ]
    },
    {
     "name": "stdout",
     "output_type": "stream",
     "text": [
      "<Slide, name = B_213-ST_BFIW-SE_2222_processed>, width=300, height=375, channels=3, levels=1, RGB=True, dtype=uint8> <valis.slide_io.VipsSlideReader object at 0x7f413784b380> True (375, 300, 3)\n",
      "<Slide, name = B_213-ST_BFIW-SE_2223_processed>, width=300, height=375, channels=3, levels=1, RGB=True, dtype=uint8> <valis.slide_io.VipsSlideReader object at 0x7f413784b3e0> True (375, 300, 3)\n",
      "<Slide, name = B_213-ST_BFIW-SE_2224_processed>, width=300, height=375, channels=3, levels=1, RGB=True, dtype=uint8> <valis.slide_io.VipsSlideReader object at 0x7f413784b440> True (375, 300, 3)\n",
      "<Slide, name = B_213-ST_BFIW-SE_2225_processed>, width=300, height=375, channels=3, levels=1, RGB=True, dtype=uint8> <valis.slide_io.VipsSlideReader object at 0x7f413784b4a0> True (375, 300, 3)\n",
      "<Slide, name = B_213-ST_BFIW-SE_2226_processed>, width=300, height=375, channels=3, levels=1, RGB=True, dtype=uint8> <valis.slide_io.VipsSlideReader object at 0x7f413784b500> True (375, 300, 3)\n",
      "<Slide, name = B_213-ST_BFIW-SE_2227_processed>, width=300, height=375, channels=3, levels=1, RGB=True, dtype=uint8> <valis.slide_io.VipsSlideReader object at 0x7f413784b560> True (375, 300, 3)\n",
      "<Slide, name = B_213-ST_BFIW-SE_2228_processed>, width=300, height=375, channels=3, levels=1, RGB=True, dtype=uint8> <valis.slide_io.VipsSlideReader object at 0x7f413784b5c0> True (375, 300, 3)\n",
      "<Slide, name = B_213-ST_BFIW-SE_2229_processed>, width=300, height=375, channels=3, levels=1, RGB=True, dtype=uint8> <valis.slide_io.VipsSlideReader object at 0x7f413784b620> True (375, 300, 3)\n",
      "<Slide, name = B_213-ST_BFIW-SE_2230_processed>, width=300, height=375, channels=3, levels=1, RGB=True, dtype=uint8> <valis.slide_io.VipsSlideReader object at 0x7f413784b680> True (375, 300, 3)\n"
     ]
    },
    {
     "name": "stderr",
     "output_type": "stream",
     "text": [
      "Converting images:  84%|███████████████████████████████████████▎       | 2200/2627 [00:25<00:05, 85.00image/s]"
     ]
    },
    {
     "name": "stdout",
     "output_type": "stream",
     "text": [
      "<Slide, name = B_213-ST_BFIW-SE_2231_processed>, width=300, height=375, channels=3, levels=1, RGB=True, dtype=uint8> <valis.slide_io.VipsSlideReader object at 0x7f41378336e0> True (375, 300, 3)\n",
      "<Slide, name = B_213-ST_BFIW-SE_2232_processed>, width=300, height=375, channels=3, levels=1, RGB=True, dtype=uint8> <valis.slide_io.VipsSlideReader object at 0x7f4137833740> True (375, 300, 3)\n",
      "<Slide, name = B_213-ST_BFIW-SE_2233_processed>, width=300, height=375, channels=3, levels=1, RGB=True, dtype=uint8> <valis.slide_io.VipsSlideReader object at 0x7f413786a8d0> True (375, 300, 3)\n",
      "<Slide, name = B_213-ST_BFIW-SE_2234_processed>, width=300, height=375, channels=3, levels=1, RGB=True, dtype=uint8> <valis.slide_io.VipsSlideReader object at 0x7f41378642c0> True (375, 300, 3)\n",
      "<Slide, name = B_213-ST_BFIW-SE_2235_processed>, width=300, height=375, channels=3, levels=1, RGB=True, dtype=uint8> <valis.slide_io.VipsSlideReader object at 0x7f4137833980> True (375, 300, 3)\n",
      "<Slide, name = B_213-ST_BFIW-SE_2236_processed>, width=300, height=375, channels=3, levels=1, RGB=True, dtype=uint8> <valis.slide_io.VipsSlideReader object at 0x7f413782b9b0> True (375, 300, 3)\n",
      "<Slide, name = B_213-ST_BFIW-SE_2237_processed>, width=300, height=375, channels=3, levels=1, RGB=True, dtype=uint8> <valis.slide_io.VipsSlideReader object at 0x7f413782b8c0> True (375, 300, 3)\n",
      "<Slide, name = B_213-ST_BFIW-SE_2238_processed>, width=300, height=375, channels=3, levels=1, RGB=True, dtype=uint8> <valis.slide_io.VipsSlideReader object at 0x7f413786b290> True (375, 300, 3)\n",
      "<Slide, name = B_213-ST_BFIW-SE_2239_processed>, width=300, height=375, channels=3, levels=1, RGB=True, dtype=uint8> <valis.slide_io.VipsSlideReader object at 0x7f413786ba10> True (375, 300, 3)\n"
     ]
    },
    {
     "name": "stderr",
     "output_type": "stream",
     "text": [
      "Converting images:  84%|███████████████████████████████████████▌       | 2209/2627 [00:25<00:04, 85.86image/s]"
     ]
    },
    {
     "name": "stdout",
     "output_type": "stream",
     "text": [
      "<Slide, name = B_213-ST_BFIW-SE_2240_processed>, width=300, height=375, channels=3, levels=1, RGB=True, dtype=uint8> <valis.slide_io.VipsSlideReader object at 0x7f413786b080> True (375, 300, 3)\n",
      "<Slide, name = B_213-ST_BFIW-SE_2241_processed>, width=300, height=375, channels=3, levels=1, RGB=True, dtype=uint8> <valis.slide_io.VipsSlideReader object at 0x7f413784b830> True (375, 300, 3)\n",
      "<Slide, name = B_213-ST_BFIW-SE_2242_processed>, width=300, height=375, channels=3, levels=1, RGB=True, dtype=uint8> <valis.slide_io.VipsSlideReader object at 0x7f413786b890> True (375, 300, 3)\n",
      "<Slide, name = B_213-ST_BFIW-SE_2243_processed>, width=300, height=375, channels=3, levels=1, RGB=True, dtype=uint8> <valis.slide_io.VipsSlideReader object at 0x7f413784ba40> True (375, 300, 3)\n",
      "<Slide, name = B_213-ST_BFIW-SE_2244_processed>, width=300, height=375, channels=3, levels=1, RGB=True, dtype=uint8> <valis.slide_io.VipsSlideReader object at 0x7f413784bc80> True (375, 300, 3)\n",
      "<Slide, name = B_213-ST_BFIW-SE_2245_processed>, width=300, height=375, channels=3, levels=1, RGB=True, dtype=uint8> <valis.slide_io.VipsSlideReader object at 0x7f413784bb00> True (375, 300, 3)\n",
      "<Slide, name = B_213-ST_BFIW-SE_2246_processed>, width=300, height=375, channels=3, levels=1, RGB=True, dtype=uint8> <valis.slide_io.VipsSlideReader object at 0x7f413786bb30> True (375, 300, 3)\n",
      "<Slide, name = B_213-ST_BFIW-SE_2247_processed>, width=300, height=375, channels=3, levels=1, RGB=True, dtype=uint8> <valis.slide_io.VipsSlideReader object at 0x7f413784bcb0> True (375, 300, 3)\n",
      "<Slide, name = B_213-ST_BFIW-SE_2248_processed>, width=300, height=375, channels=3, levels=1, RGB=True, dtype=uint8> <valis.slide_io.VipsSlideReader object at 0x7f413786b950> True (375, 300, 3)\n"
     ]
    },
    {
     "name": "stderr",
     "output_type": "stream",
     "text": [
      "Converting images:  84%|███████████████████████████████████████▋       | 2218/2627 [00:25<00:04, 86.39image/s]"
     ]
    },
    {
     "name": "stdout",
     "output_type": "stream",
     "text": [
      "<Slide, name = B_213-ST_BFIW-SE_2249_processed>, width=300, height=375, channels=3, levels=1, RGB=True, dtype=uint8> <valis.slide_io.VipsSlideReader object at 0x7f413786bad0> True (375, 300, 3)\n",
      "<Slide, name = B_213-ST_BFIW-SE_2250_processed>, width=300, height=375, channels=3, levels=1, RGB=True, dtype=uint8> <valis.slide_io.VipsSlideReader object at 0x7f4137833bc0> True (375, 300, 3)\n",
      "<Slide, name = B_213-ST_BFIW-SE_2251_processed>, width=300, height=375, channels=3, levels=1, RGB=True, dtype=uint8> <valis.slide_io.VipsSlideReader object at 0x7f413786bda0> True (375, 300, 3)\n",
      "<Slide, name = B_213-ST_BFIW-SE_2252_processed>, width=300, height=375, channels=3, levels=1, RGB=True, dtype=uint8> <valis.slide_io.VipsSlideReader object at 0x7f413786bc50> True (375, 300, 3)\n",
      "<Slide, name = B_213-ST_BFIW-SE_2253_processed>, width=300, height=375, channels=3, levels=1, RGB=True, dtype=uint8> <valis.slide_io.VipsSlideReader object at 0x7f413786bef0> True (375, 300, 3)\n",
      "<Slide, name = B_213-ST_BFIW-SE_2254_processed>, width=300, height=375, channels=3, levels=1, RGB=True, dtype=uint8> <valis.slide_io.VipsSlideReader object at 0x7f4137833e00> True (375, 300, 3)\n",
      "<Slide, name = B_213-ST_BFIW-SE_2255_processed>, width=300, height=375, channels=3, levels=1, RGB=True, dtype=uint8> <valis.slide_io.VipsSlideReader object at 0x7f413786bfe0> True (375, 300, 3)\n",
      "<Slide, name = B_213-ST_BFIW-SE_2256_processed>, width=300, height=375, channels=3, levels=1, RGB=True, dtype=uint8> <valis.slide_io.VipsSlideReader object at 0x7f413784bfb0> True (375, 300, 3)\n",
      "<Slide, name = B_213-ST_BFIW-SE_2257_processed>, width=300, height=375, channels=3, levels=1, RGB=True, dtype=uint8> <valis.slide_io.VipsSlideReader object at 0x7f413786be30> True (375, 300, 3)\n"
     ]
    },
    {
     "name": "stderr",
     "output_type": "stream",
     "text": [
      "Converting images:  85%|███████████████████████████████████████▊       | 2227/2627 [00:26<00:04, 86.28image/s]"
     ]
    },
    {
     "name": "stdout",
     "output_type": "stream",
     "text": [
      "<Slide, name = B_213-ST_BFIW-SE_2258_processed>, width=300, height=375, channels=3, levels=1, RGB=True, dtype=uint8> <valis.slide_io.VipsSlideReader object at 0x7f413786bd10> True (375, 300, 3)\n",
      "<Slide, name = B_213-ST_BFIW-SE_2259_processed>, width=300, height=375, channels=3, levels=1, RGB=True, dtype=uint8> <valis.slide_io.VipsSlideReader object at 0x7f4137864230> True (375, 300, 3)\n",
      "<Slide, name = B_213-ST_BFIW-SE_2260_processed>, width=300, height=375, channels=3, levels=1, RGB=True, dtype=uint8> <valis.slide_io.VipsSlideReader object at 0x7f413780c0e0> True (375, 300, 3)\n",
      "<Slide, name = B_213-ST_BFIW-SE_2261_processed>, width=300, height=375, channels=3, levels=1, RGB=True, dtype=uint8> <valis.slide_io.VipsSlideReader object at 0x7f413785c260> True (375, 300, 3)\n",
      "<Slide, name = B_213-ST_BFIW-SE_2262_processed>, width=300, height=375, channels=3, levels=1, RGB=True, dtype=uint8> <valis.slide_io.VipsSlideReader object at 0x7f413786c290> True (375, 300, 3)\n",
      "<Slide, name = B_213-ST_BFIW-SE_2263_processed>, width=300, height=375, channels=3, levels=1, RGB=True, dtype=uint8> <valis.slide_io.VipsSlideReader object at 0x7f41378240b0> True (375, 300, 3)\n",
      "<Slide, name = B_213-ST_BFIW-SE_2264_processed>, width=300, height=375, channels=3, levels=1, RGB=True, dtype=uint8> <valis.slide_io.VipsSlideReader object at 0x7f413786c200> True (375, 300, 3)\n",
      "<Slide, name = B_213-ST_BFIW-SE_2265_processed>, width=300, height=375, channels=3, levels=1, RGB=True, dtype=uint8> <valis.slide_io.VipsSlideReader object at 0x7f413785c3b0> True (375, 300, 3)\n",
      "<Slide, name = B_213-ST_BFIW-SE_2266_processed>, width=300, height=375, channels=3, levels=1, RGB=True, dtype=uint8> <valis.slide_io.VipsSlideReader object at 0x7f4137864380> True (375, 300, 3)\n"
     ]
    },
    {
     "name": "stderr",
     "output_type": "stream",
     "text": [
      "Converting images:  85%|████████████████████████████████████████       | 2236/2627 [00:26<00:04, 87.03image/s]"
     ]
    },
    {
     "name": "stdout",
     "output_type": "stream",
     "text": [
      "<Slide, name = B_213-ST_BFIW-SE_2267_processed>, width=300, height=375, channels=3, levels=1, RGB=True, dtype=uint8> <valis.slide_io.VipsSlideReader object at 0x7f413786c320> True (375, 300, 3)\n",
      "<Slide, name = B_213-ST_BFIW-SE_2268_processed>, width=300, height=375, channels=3, levels=1, RGB=True, dtype=uint8> <valis.slide_io.VipsSlideReader object at 0x7f413786c530> True (375, 300, 3)\n",
      "<Slide, name = B_213-ST_BFIW-SE_2269_processed>, width=300, height=375, channels=3, levels=1, RGB=True, dtype=uint8> <valis.slide_io.VipsSlideReader object at 0x7f413785c6e0> True (375, 300, 3)\n",
      "<Slide, name = B_213-ST_BFIW-SE_2270_processed>, width=300, height=375, channels=3, levels=1, RGB=True, dtype=uint8> <valis.slide_io.VipsSlideReader object at 0x7f413785c5c0> True (375, 300, 3)\n",
      "<Slide, name = B_213-ST_BFIW-SE_2271_processed>, width=300, height=375, channels=3, levels=1, RGB=True, dtype=uint8> <valis.slide_io.VipsSlideReader object at 0x7f413785c6b0> True (375, 300, 3)\n",
      "<Slide, name = B_213-ST_BFIW-SE_2272_processed>, width=300, height=375, channels=3, levels=1, RGB=True, dtype=uint8> <valis.slide_io.VipsSlideReader object at 0x7f413786c170> True (375, 300, 3)\n",
      "<Slide, name = B_213-ST_BFIW-SE_2273_processed>, width=300, height=375, channels=3, levels=1, RGB=True, dtype=uint8> <valis.slide_io.VipsSlideReader object at 0x7f413786c710> True (375, 300, 3)\n",
      "<Slide, name = B_213-ST_BFIW-SE_2274_processed>, width=300, height=375, channels=3, levels=1, RGB=True, dtype=uint8> <valis.slide_io.VipsSlideReader object at 0x7f413786c4d0> True (375, 300, 3)\n",
      "<Slide, name = B_213-ST_BFIW-SE_2275_processed>, width=300, height=375, channels=3, levels=1, RGB=True, dtype=uint8> <valis.slide_io.VipsSlideReader object at 0x7f413786c5f0> True (375, 300, 3)\n"
     ]
    },
    {
     "name": "stderr",
     "output_type": "stream",
     "text": [
      "Converting images:  85%|████████████████████████████████████████▏      | 2245/2627 [00:26<00:04, 85.77image/s]"
     ]
    },
    {
     "name": "stdout",
     "output_type": "stream",
     "text": [
      "<Slide, name = B_213-ST_BFIW-SE_2276_processed>, width=300, height=375, channels=3, levels=1, RGB=True, dtype=uint8> <valis.slide_io.VipsSlideReader object at 0x7f413786c7a0> True (375, 300, 3)\n",
      "<Slide, name = B_213-ST_BFIW-SE_2277_processed>, width=300, height=375, channels=3, levels=1, RGB=True, dtype=uint8> <valis.slide_io.VipsSlideReader object at 0x7f413786c410> True (375, 300, 3)\n",
      "<Slide, name = B_213-ST_BFIW-SE_2278_processed>, width=300, height=375, channels=3, levels=1, RGB=True, dtype=uint8> <valis.slide_io.VipsSlideReader object at 0x7f413786c860> True (375, 300, 3)\n",
      "<Slide, name = B_213-ST_BFIW-SE_2279_processed>, width=300, height=375, channels=3, levels=1, RGB=True, dtype=uint8> <valis.slide_io.VipsSlideReader object at 0x7f413784c9e0> True (375, 300, 3)\n",
      "<Slide, name = B_213-ST_BFIW-SE_2280_processed>, width=300, height=375, channels=3, levels=1, RGB=True, dtype=uint8> <valis.slide_io.VipsSlideReader object at 0x7f413786cbf0> True (375, 300, 3)\n",
      "<Slide, name = B_213-ST_BFIW-SE_2281_processed>, width=300, height=375, channels=3, levels=1, RGB=True, dtype=uint8> <valis.slide_io.VipsSlideReader object at 0x7f413786c950> True (375, 300, 3)\n",
      "<Slide, name = B_213-ST_BFIW-SE_2282_processed>, width=300, height=375, channels=3, levels=1, RGB=True, dtype=uint8> <valis.slide_io.VipsSlideReader object at 0x7f413786cad0> True (375, 300, 3)\n",
      "<Slide, name = B_213-ST_BFIW-SE_2283_processed>, width=300, height=375, channels=3, levels=1, RGB=True, dtype=uint8> <valis.slide_io.VipsSlideReader object at 0x7f413785ccb0> True (375, 300, 3)\n",
      "<Slide, name = B_213-ST_BFIW-SE_2284_processed>, width=300, height=375, channels=3, levels=1, RGB=True, dtype=uint8> <valis.slide_io.VipsSlideReader object at 0x7f413786cd70> True (375, 300, 3)\n"
     ]
    },
    {
     "name": "stderr",
     "output_type": "stream",
     "text": [
      "Converting images:  86%|████████████████████████████████████████▎      | 2254/2627 [00:26<00:04, 84.26image/s]"
     ]
    },
    {
     "name": "stdout",
     "output_type": "stream",
     "text": [
      "<Slide, name = B_213-ST_BFIW-SE_2285_processed>, width=300, height=375, channels=3, levels=1, RGB=True, dtype=uint8> <valis.slide_io.VipsSlideReader object at 0x7f413780c8c0> True (375, 300, 3)\n",
      "<Slide, name = B_213-ST_BFIW-SE_2286_processed>, width=300, height=375, channels=3, levels=1, RGB=True, dtype=uint8> <valis.slide_io.VipsSlideReader object at 0x7f4137804e30> True (375, 300, 3)\n",
      "<Slide, name = B_213-ST_BFIW-SE_2287_processed>, width=300, height=375, channels=3, levels=1, RGB=True, dtype=uint8> <valis.slide_io.VipsSlideReader object at 0x7f413780c920> True (375, 300, 3)\n",
      "<Slide, name = B_213-ST_BFIW-SE_2288_processed>, width=300, height=375, channels=3, levels=1, RGB=True, dtype=uint8> <valis.slide_io.VipsSlideReader object at 0x7f4137804e00> True (375, 300, 3)\n",
      "<Slide, name = B_213-ST_BFIW-SE_2289_processed>, width=300, height=375, channels=3, levels=1, RGB=True, dtype=uint8> <valis.slide_io.VipsSlideReader object at 0x7f413785ce60> True (375, 300, 3)\n",
      "<Slide, name = B_213-ST_BFIW-SE_2290_processed>, width=300, height=375, channels=3, levels=1, RGB=True, dtype=uint8> <valis.slide_io.VipsSlideReader object at 0x7f413786ca10> True (375, 300, 3)\n",
      "<Slide, name = B_213-ST_BFIW-SE_2291_processed>, width=300, height=375, channels=3, levels=1, RGB=True, dtype=uint8> <valis.slide_io.VipsSlideReader object at 0x7f413784cef0> True (375, 300, 3)\n",
      "<Slide, name = B_213-ST_BFIW-SE_2292_processed>, width=300, height=375, channels=3, levels=1, RGB=True, dtype=uint8> <valis.slide_io.VipsSlideReader object at 0x7f413785cc20> True (375, 300, 3)\n",
      "<Slide, name = B_213-ST_BFIW-SE_2293_processed>, width=300, height=375, channels=3, levels=1, RGB=True, dtype=uint8> <valis.slide_io.VipsSlideReader object at 0x7f4137804fb0> True (375, 300, 3)\n"
     ]
    },
    {
     "name": "stderr",
     "output_type": "stream",
     "text": [
      "Converting images:  86%|████████████████████████████████████████▍      | 2263/2627 [00:26<00:04, 85.79image/s]"
     ]
    },
    {
     "name": "stdout",
     "output_type": "stream",
     "text": [
      "<Slide, name = B_213-ST_BFIW-SE_2294_processed>, width=300, height=375, channels=3, levels=1, RGB=True, dtype=uint8> <valis.slide_io.VipsSlideReader object at 0x7f413786c800> True (375, 300, 3)\n",
      "<Slide, name = B_213-ST_BFIW-SE_2295_processed>, width=300, height=375, channels=3, levels=1, RGB=True, dtype=uint8> <valis.slide_io.VipsSlideReader object at 0x7f413780d070> True (375, 300, 3)\n",
      "<Slide, name = B_213-ST_BFIW-SE_2296_processed>, width=300, height=375, channels=3, levels=1, RGB=True, dtype=uint8> <valis.slide_io.VipsSlideReader object at 0x7f413786d0a0> True (375, 300, 3)\n",
      "<Slide, name = B_213-ST_BFIW-SE_2297_processed>, width=300, height=375, channels=3, levels=1, RGB=True, dtype=uint8> <valis.slide_io.VipsSlideReader object at 0x7f413785d130> True (375, 300, 3)\n",
      "<Slide, name = B_213-ST_BFIW-SE_2298_processed>, width=300, height=375, channels=3, levels=1, RGB=True, dtype=uint8> <valis.slide_io.VipsSlideReader object at 0x7f413786cf50> True (375, 300, 3)\n",
      "<Slide, name = B_213-ST_BFIW-SE_2299_processed>, width=300, height=375, channels=3, levels=1, RGB=True, dtype=uint8> <valis.slide_io.VipsSlideReader object at 0x7f413784cec0> True (375, 300, 3)\n",
      "<Slide, name = B_213-ST_BFIW-SE_2300_processed>, width=300, height=375, channels=3, levels=1, RGB=True, dtype=uint8> <valis.slide_io.VipsSlideReader object at 0x7f413786d220> True (375, 300, 3)\n",
      "<Slide, name = B_213-ST_BFIW-SE_2301_processed>, width=300, height=375, channels=3, levels=1, RGB=True, dtype=uint8> <valis.slide_io.VipsSlideReader object at 0x7f413786d0d0> True (375, 300, 3)\n",
      "<Slide, name = B_213-ST_BFIW-SE_2302_processed>, width=300, height=375, channels=3, levels=1, RGB=True, dtype=uint8> <valis.slide_io.VipsSlideReader object at 0x7f413786d370> True (375, 300, 3)\n"
     ]
    },
    {
     "name": "stderr",
     "output_type": "stream",
     "text": [
      "Converting images:  86%|████████████████████████████████████████▋      | 2272/2627 [00:26<00:04, 86.27image/s]"
     ]
    },
    {
     "name": "stdout",
     "output_type": "stream",
     "text": [
      "<Slide, name = B_213-ST_BFIW-SE_2303_processed>, width=300, height=375, channels=3, levels=1, RGB=True, dtype=uint8> <valis.slide_io.VipsSlideReader object at 0x7f413784d2e0> True (375, 300, 3)\n",
      "<Slide, name = B_213-ST_BFIW-SE_2304_processed>, width=300, height=375, channels=3, levels=1, RGB=True, dtype=uint8> <valis.slide_io.VipsSlideReader object at 0x7f413784d1c0> True (375, 300, 3)\n",
      "<Slide, name = B_213-ST_BFIW-SE_2305_processed>, width=300, height=375, channels=3, levels=1, RGB=True, dtype=uint8> <valis.slide_io.VipsSlideReader object at 0x7f413786d340> True (375, 300, 3)\n",
      "<Slide, name = B_213-ST_BFIW-SE_2306_processed>, width=300, height=375, channels=3, levels=1, RGB=True, dtype=uint8> <valis.slide_io.VipsSlideReader object at 0x7f413786d580> True (375, 300, 3)\n",
      "<Slide, name = B_213-ST_BFIW-SE_2307_processed>, width=300, height=375, channels=3, levels=1, RGB=True, dtype=uint8> <valis.slide_io.VipsSlideReader object at 0x7f413785d430> True (375, 300, 3)\n",
      "<Slide, name = B_213-ST_BFIW-SE_2308_processed>, width=300, height=375, channels=3, levels=1, RGB=True, dtype=uint8> <valis.slide_io.VipsSlideReader object at 0x7f413786d4f0> True (375, 300, 3)\n",
      "<Slide, name = B_213-ST_BFIW-SE_2309_processed>, width=300, height=375, channels=3, levels=1, RGB=True, dtype=uint8> <valis.slide_io.VipsSlideReader object at 0x7f413780d5b0> True (375, 300, 3)\n",
      "<Slide, name = B_213-ST_BFIW-SE_2310_processed>, width=300, height=375, channels=3, levels=1, RGB=True, dtype=uint8> <valis.slide_io.VipsSlideReader object at 0x7f413786d6a0> True (375, 300, 3)\n",
      "<Slide, name = B_213-ST_BFIW-SE_2311_processed>, width=300, height=375, channels=3, levels=1, RGB=True, dtype=uint8> <valis.slide_io.VipsSlideReader object at 0x7f413786d670> True (375, 300, 3)\n"
     ]
    },
    {
     "name": "stderr",
     "output_type": "stream",
     "text": [
      "Converting images:  87%|████████████████████████████████████████▊      | 2281/2627 [00:26<00:03, 86.66image/s]"
     ]
    },
    {
     "name": "stdout",
     "output_type": "stream",
     "text": [
      "<Slide, name = B_213-ST_BFIW-SE_2312_processed>, width=300, height=375, channels=3, levels=1, RGB=True, dtype=uint8> <valis.slide_io.VipsSlideReader object at 0x7f413785d880> True (375, 300, 3)\n",
      "<Slide, name = B_213-ST_BFIW-SE_2313_processed>, width=300, height=375, channels=3, levels=1, RGB=True, dtype=uint8> <valis.slide_io.VipsSlideReader object at 0x7f413786d760> True (375, 300, 3)\n",
      "<Slide, name = B_213-ST_BFIW-SE_2314_processed>, width=300, height=375, channels=3, levels=1, RGB=True, dtype=uint8> <valis.slide_io.VipsSlideReader object at 0x7f413786d610> True (375, 300, 3)\n",
      "<Slide, name = B_213-ST_BFIW-SE_2315_processed>, width=300, height=375, channels=3, levels=1, RGB=True, dtype=uint8> <valis.slide_io.VipsSlideReader object at 0x7f413785d640> True (375, 300, 3)\n",
      "<Slide, name = B_213-ST_BFIW-SE_2316_processed>, width=300, height=375, channels=3, levels=1, RGB=True, dtype=uint8> <valis.slide_io.VipsSlideReader object at 0x7f413785d8b0> True (375, 300, 3)\n",
      "<Slide, name = B_213-ST_BFIW-SE_2317_processed>, width=300, height=375, channels=3, levels=1, RGB=True, dtype=uint8> <valis.slide_io.VipsSlideReader object at 0x7f413785d460> True (375, 300, 3)\n",
      "<Slide, name = B_213-ST_BFIW-SE_2318_processed>, width=300, height=375, channels=3, levels=1, RGB=True, dtype=uint8> <valis.slide_io.VipsSlideReader object at 0x7f413786d700> True (375, 300, 3)\n",
      "<Slide, name = B_213-ST_BFIW-SE_2319_processed>, width=300, height=375, channels=3, levels=1, RGB=True, dtype=uint8> <valis.slide_io.VipsSlideReader object at 0x7f413785da60> True (375, 300, 3)\n",
      "<Slide, name = B_213-ST_BFIW-SE_2320_processed>, width=300, height=375, channels=3, levels=1, RGB=True, dtype=uint8> <valis.slide_io.VipsSlideReader object at 0x7f413786d550> True (375, 300, 3)\n"
     ]
    },
    {
     "name": "stderr",
     "output_type": "stream",
     "text": [
      "Converting images:  87%|████████████████████████████████████████▉      | 2290/2627 [00:26<00:03, 87.09image/s]"
     ]
    },
    {
     "name": "stdout",
     "output_type": "stream",
     "text": [
      "<Slide, name = B_213-ST_BFIW-SE_2321_processed>, width=300, height=375, channels=3, levels=1, RGB=True, dtype=uint8> <valis.slide_io.VipsSlideReader object at 0x7f413786d7f0> True (375, 300, 3)\n",
      "<Slide, name = B_213-ST_BFIW-SE_2322_processed>, width=300, height=375, channels=3, levels=1, RGB=True, dtype=uint8> <valis.slide_io.VipsSlideReader object at 0x7f413786dc70> True (375, 300, 3)\n",
      "<Slide, name = B_213-ST_BFIW-SE_2323_processed>, width=300, height=375, channels=3, levels=1, RGB=True, dtype=uint8> <valis.slide_io.VipsSlideReader object at 0x7f413786d8e0> True (375, 300, 3)\n",
      "<Slide, name = B_213-ST_BFIW-SE_2324_processed>, width=300, height=375, channels=3, levels=1, RGB=True, dtype=uint8> <valis.slide_io.VipsSlideReader object at 0x7f413786dcd0> True (375, 300, 3)\n",
      "<Slide, name = B_213-ST_BFIW-SE_2325_processed>, width=300, height=375, channels=3, levels=1, RGB=True, dtype=uint8> <valis.slide_io.VipsSlideReader object at 0x7f413786dd30> True (375, 300, 3)\n",
      "<Slide, name = B_213-ST_BFIW-SE_2326_processed>, width=300, height=375, channels=3, levels=1, RGB=True, dtype=uint8> <valis.slide_io.VipsSlideReader object at 0x7f413786dd90> True (375, 300, 3)\n",
      "<Slide, name = B_213-ST_BFIW-SE_2327_processed>, width=300, height=375, channels=3, levels=1, RGB=True, dtype=uint8> <valis.slide_io.VipsSlideReader object at 0x7f413786ddf0> True (375, 300, 3)\n",
      "<Slide, name = B_213-ST_BFIW-SE_2328_processed>, width=300, height=375, channels=3, levels=1, RGB=True, dtype=uint8> <valis.slide_io.VipsSlideReader object at 0x7f413786de50> True (375, 300, 3)\n",
      "<Slide, name = B_213-ST_BFIW-SE_2329_processed>, width=300, height=375, channels=3, levels=1, RGB=True, dtype=uint8> <valis.slide_io.VipsSlideReader object at 0x7f413786deb0> True (375, 300, 3)\n"
     ]
    },
    {
     "name": "stderr",
     "output_type": "stream",
     "text": [
      "Converting images:  88%|█████████████████████████████████████████▏     | 2299/2627 [00:26<00:03, 86.79image/s]"
     ]
    },
    {
     "name": "stdout",
     "output_type": "stream",
     "text": [
      "<Slide, name = B_213-ST_BFIW-SE_2330_processed>, width=300, height=375, channels=3, levels=1, RGB=True, dtype=uint8> <valis.slide_io.VipsSlideReader object at 0x7f413786df10> True (375, 300, 3)\n",
      "<Slide, name = B_213-ST_BFIW-SE_2331_processed>, width=300, height=375, channels=3, levels=1, RGB=True, dtype=uint8> <valis.slide_io.VipsSlideReader object at 0x7f413786df70> True (375, 300, 3)\n",
      "<Slide, name = B_213-ST_BFIW-SE_2332_processed>, width=300, height=375, channels=3, levels=1, RGB=True, dtype=uint8> <valis.slide_io.VipsSlideReader object at 0x7f413786dfd0> True (375, 300, 3)\n",
      "<Slide, name = B_213-ST_BFIW-SE_2333_processed>, width=300, height=375, channels=3, levels=1, RGB=True, dtype=uint8> <valis.slide_io.VipsSlideReader object at 0x7f413786e030> True (375, 300, 3)\n",
      "<Slide, name = B_213-ST_BFIW-SE_2334_processed>, width=300, height=375, channels=3, levels=1, RGB=True, dtype=uint8> <valis.slide_io.VipsSlideReader object at 0x7f413786e090> True (375, 300, 3)\n",
      "<Slide, name = B_213-ST_BFIW-SE_2335_processed>, width=300, height=375, channels=3, levels=1, RGB=True, dtype=uint8> <valis.slide_io.VipsSlideReader object at 0x7f413786e0f0> True (375, 300, 3)\n",
      "<Slide, name = B_213-ST_BFIW-SE_2336_processed>, width=300, height=375, channels=3, levels=1, RGB=True, dtype=uint8> <valis.slide_io.VipsSlideReader object at 0x7f413786e150> True (375, 300, 3)\n",
      "<Slide, name = B_213-ST_BFIW-SE_2337_processed>, width=300, height=375, channels=3, levels=1, RGB=True, dtype=uint8> <valis.slide_io.VipsSlideReader object at 0x7f413786e1b0> True (375, 300, 3)\n",
      "<Slide, name = B_213-ST_BFIW-SE_2338_processed>, width=300, height=375, channels=3, levels=1, RGB=True, dtype=uint8> <valis.slide_io.VipsSlideReader object at 0x7f413786e210> True (375, 300, 3)\n"
     ]
    },
    {
     "name": "stderr",
     "output_type": "stream",
     "text": [
      "Converting images:  88%|█████████████████████████████████████████▎     | 2308/2627 [00:26<00:03, 86.30image/s]"
     ]
    },
    {
     "name": "stdout",
     "output_type": "stream",
     "text": [
      "<Slide, name = B_213-ST_BFIW-SE_2339_processed>, width=300, height=375, channels=3, levels=1, RGB=True, dtype=uint8> <valis.slide_io.VipsSlideReader object at 0x7f413786e270> True (375, 300, 3)\n",
      "<Slide, name = B_213-ST_BFIW-SE_2340_processed>, width=300, height=375, channels=3, levels=1, RGB=True, dtype=uint8> <valis.slide_io.VipsSlideReader object at 0x7f413786e330> True (375, 300, 3)\n",
      "<Slide, name = B_213-ST_BFIW-SE_2341_processed>, width=300, height=375, channels=3, levels=1, RGB=True, dtype=uint8> <valis.slide_io.VipsSlideReader object at 0x7f413786e3f0> True (375, 300, 3)\n",
      "<Slide, name = B_213-ST_BFIW-SE_2342_processed>, width=300, height=375, channels=3, levels=1, RGB=True, dtype=uint8> <valis.slide_io.VipsSlideReader object at 0x7f413786e450> True (375, 300, 3)\n",
      "<Slide, name = B_213-ST_BFIW-SE_2343_processed>, width=300, height=375, channels=3, levels=1, RGB=True, dtype=uint8> <valis.slide_io.VipsSlideReader object at 0x7f413786e4b0> True (375, 300, 3)\n",
      "<Slide, name = B_213-ST_BFIW-SE_2344_processed>, width=300, height=375, channels=3, levels=1, RGB=True, dtype=uint8> <valis.slide_io.VipsSlideReader object at 0x7f413786e510> True (375, 300, 3)\n",
      "<Slide, name = B_213-ST_BFIW-SE_2345_processed>, width=300, height=375, channels=3, levels=1, RGB=True, dtype=uint8> <valis.slide_io.VipsSlideReader object at 0x7f413786e570> True (375, 300, 3)\n",
      "<Slide, name = B_213-ST_BFIW-SE_2346_processed>, width=300, height=375, channels=3, levels=1, RGB=True, dtype=uint8> <valis.slide_io.VipsSlideReader object at 0x7f413786e5d0> True (375, 300, 3)\n",
      "<Slide, name = B_213-ST_BFIW-SE_2347_processed>, width=300, height=375, channels=3, levels=1, RGB=True, dtype=uint8> <valis.slide_io.VipsSlideReader object at 0x7f413786e630> True (375, 300, 3)\n"
     ]
    },
    {
     "name": "stderr",
     "output_type": "stream",
     "text": [
      "Converting images:  88%|█████████████████████████████████████████▍     | 2317/2627 [00:27<00:03, 81.00image/s]"
     ]
    },
    {
     "name": "stdout",
     "output_type": "stream",
     "text": [
      "<Slide, name = B_213-ST_BFIW-SE_2348_processed>, width=300, height=375, channels=3, levels=1, RGB=True, dtype=uint8> <valis.slide_io.VipsSlideReader object at 0x7f413786e690> True (375, 300, 3)\n",
      "<Slide, name = B_213-ST_BFIW-SE_2349_processed>, width=300, height=375, channels=3, levels=1, RGB=True, dtype=uint8> <valis.slide_io.VipsSlideReader object at 0x7f413786e6f0> True (375, 300, 3)\n",
      "<Slide, name = B_213-ST_BFIW-SE_2350_processed>, width=300, height=375, channels=3, levels=1, RGB=True, dtype=uint8> <valis.slide_io.VipsSlideReader object at 0x7f413786e750> True (375, 300, 3)\n",
      "<Slide, name = B_213-ST_BFIW-SE_2351_processed>, width=300, height=375, channels=3, levels=1, RGB=True, dtype=uint8> <valis.slide_io.VipsSlideReader object at 0x7f413786e7b0> True (375, 300, 3)\n",
      "<Slide, name = B_213-ST_BFIW-SE_2352_processed>, width=300, height=375, channels=3, levels=1, RGB=True, dtype=uint8> <valis.slide_io.VipsSlideReader object at 0x7f413786e810> True (375, 300, 3)\n",
      "<Slide, name = B_213-ST_BFIW-SE_2353_processed>, width=300, height=375, channels=3, levels=1, RGB=True, dtype=uint8> <valis.slide_io.VipsSlideReader object at 0x7f413786e870> True (375, 300, 3)\n",
      "<Slide, name = B_213-ST_BFIW-SE_2354_processed>, width=300, height=375, channels=3, levels=1, RGB=True, dtype=uint8> <valis.slide_io.VipsSlideReader object at 0x7f413786e8d0> True (375, 300, 3)\n",
      "<Slide, name = B_213-ST_BFIW-SE_2355_processed>, width=300, height=375, channels=3, levels=1, RGB=True, dtype=uint8> <valis.slide_io.VipsSlideReader object at 0x7f413786e930> True (375, 300, 3)\n",
      "<Slide, name = B_213-ST_BFIW-SE_2356_processed>, width=300, height=375, channels=3, levels=1, RGB=True, dtype=uint8> <valis.slide_io.VipsSlideReader object at 0x7f413786e990> True (375, 300, 3)\n"
     ]
    },
    {
     "name": "stderr",
     "output_type": "stream",
     "text": [
      "Converting images:  89%|█████████████████████████████████████████▌     | 2326/2627 [00:27<00:03, 82.00image/s]"
     ]
    },
    {
     "name": "stdout",
     "output_type": "stream",
     "text": [
      "<Slide, name = B_213-ST_BFIW-SE_2357_processed>, width=300, height=375, channels=3, levels=1, RGB=True, dtype=uint8> <valis.slide_io.VipsSlideReader object at 0x7f413786e9f0> True (375, 300, 3)\n",
      "<Slide, name = B_213-ST_BFIW-SE_2358_processed>, width=300, height=375, channels=3, levels=1, RGB=True, dtype=uint8> <valis.slide_io.VipsSlideReader object at 0x7f413786ea50> True (375, 300, 3)\n",
      "<Slide, name = B_213-ST_BFIW-SE_2359_processed>, width=300, height=375, channels=3, levels=1, RGB=True, dtype=uint8> <valis.slide_io.VipsSlideReader object at 0x7f413786eab0> True (375, 300, 3)\n",
      "<Slide, name = B_213-ST_BFIW-SE_2360_processed>, width=300, height=375, channels=3, levels=1, RGB=True, dtype=uint8> <valis.slide_io.VipsSlideReader object at 0x7f413786eb40> True (375, 300, 3)\n",
      "<Slide, name = B_213-ST_BFIW-SE_2361_processed>, width=300, height=375, channels=3, levels=1, RGB=True, dtype=uint8> <valis.slide_io.VipsSlideReader object at 0x7f413786eba0> True (375, 300, 3)\n",
      "<Slide, name = B_213-ST_BFIW-SE_2362_processed>, width=300, height=375, channels=3, levels=1, RGB=True, dtype=uint8> <valis.slide_io.VipsSlideReader object at 0x7f413786ec00> True (375, 300, 3)\n",
      "<Slide, name = B_213-ST_BFIW-SE_2363_processed>, width=300, height=375, channels=3, levels=1, RGB=True, dtype=uint8> <valis.slide_io.VipsSlideReader object at 0x7f413786ec60> True (375, 300, 3)\n",
      "<Slide, name = B_213-ST_BFIW-SE_2364_processed>, width=300, height=375, channels=3, levels=1, RGB=True, dtype=uint8> <valis.slide_io.VipsSlideReader object at 0x7f413786ecc0> True (375, 300, 3)\n",
      "<Slide, name = B_213-ST_BFIW-SE_2365_processed>, width=300, height=375, channels=3, levels=1, RGB=True, dtype=uint8> <valis.slide_io.VipsSlideReader object at 0x7f413786ed20> True (375, 300, 3)\n"
     ]
    },
    {
     "name": "stderr",
     "output_type": "stream",
     "text": [
      "Converting images:  89%|█████████████████████████████████████████▊     | 2335/2627 [00:27<00:03, 82.59image/s]"
     ]
    },
    {
     "name": "stdout",
     "output_type": "stream",
     "text": [
      "<Slide, name = B_213-ST_BFIW-SE_2366_processed>, width=300, height=375, channels=3, levels=1, RGB=True, dtype=uint8> <valis.slide_io.VipsSlideReader object at 0x7f413786ed80> True (375, 300, 3)\n",
      "<Slide, name = B_213-ST_BFIW-SE_2367_processed>, width=300, height=375, channels=3, levels=1, RGB=True, dtype=uint8> <valis.slide_io.VipsSlideReader object at 0x7f413786ede0> True (375, 300, 3)\n",
      "<Slide, name = B_213-ST_BFIW-SE_2368_processed>, width=300, height=375, channels=3, levels=1, RGB=True, dtype=uint8> <valis.slide_io.VipsSlideReader object at 0x7f413786ee40> True (375, 300, 3)\n",
      "<Slide, name = B_213-ST_BFIW-SE_2369_processed>, width=300, height=375, channels=3, levels=1, RGB=True, dtype=uint8> <valis.slide_io.VipsSlideReader object at 0x7f413786eea0> True (375, 300, 3)\n",
      "<Slide, name = B_213-ST_BFIW-SE_2370_processed>, width=300, height=375, channels=3, levels=1, RGB=True, dtype=uint8> <valis.slide_io.VipsSlideReader object at 0x7f413786ef00> True (375, 300, 3)\n",
      "<Slide, name = B_213-ST_BFIW-SE_2371_processed>, width=300, height=375, channels=3, levels=1, RGB=True, dtype=uint8> <valis.slide_io.VipsSlideReader object at 0x7f413786ef60> True (375, 300, 3)\n",
      "<Slide, name = B_213-ST_BFIW-SE_2372_processed>, width=300, height=375, channels=3, levels=1, RGB=True, dtype=uint8> <valis.slide_io.VipsSlideReader object at 0x7f413786f020> True (375, 300, 3)\n",
      "<Slide, name = B_213-ST_BFIW-SE_2373_processed>, width=300, height=375, channels=3, levels=1, RGB=True, dtype=uint8> <valis.slide_io.VipsSlideReader object at 0x7f413786f080> True (375, 300, 3)\n",
      "<Slide, name = B_213-ST_BFIW-SE_2374_processed>, width=300, height=375, channels=3, levels=1, RGB=True, dtype=uint8> <valis.slide_io.VipsSlideReader object at 0x7f413786f0e0> True (375, 300, 3)\n"
     ]
    },
    {
     "name": "stderr",
     "output_type": "stream",
     "text": [
      "Converting images:  89%|█████████████████████████████████████████▉     | 2344/2627 [00:27<00:03, 81.95image/s]"
     ]
    },
    {
     "name": "stdout",
     "output_type": "stream",
     "text": [
      "<Slide, name = B_213-ST_BFIW-SE_2375_processed>, width=300, height=375, channels=3, levels=1, RGB=True, dtype=uint8> <valis.slide_io.VipsSlideReader object at 0x7f413786f140> True (375, 300, 3)\n",
      "<Slide, name = B_213-ST_BFIW-SE_2376_processed>, width=300, height=375, channels=3, levels=1, RGB=True, dtype=uint8> <valis.slide_io.VipsSlideReader object at 0x7f413786f1a0> True (375, 300, 3)\n",
      "<Slide, name = B_213-ST_BFIW-SE_2377_processed>, width=300, height=375, channels=3, levels=1, RGB=True, dtype=uint8> <valis.slide_io.VipsSlideReader object at 0x7f413786f200> True (375, 300, 3)\n",
      "<Slide, name = B_213-ST_BFIW-SE_2378_processed>, width=300, height=375, channels=3, levels=1, RGB=True, dtype=uint8> <valis.slide_io.VipsSlideReader object at 0x7f413786f260> True (375, 300, 3)\n",
      "<Slide, name = B_213-ST_BFIW-SE_2379_processed>, width=300, height=375, channels=3, levels=1, RGB=True, dtype=uint8> <valis.slide_io.VipsSlideReader object at 0x7f413786f2c0> True (375, 300, 3)\n",
      "<Slide, name = B_213-ST_BFIW-SE_2380_processed>, width=300, height=375, channels=3, levels=1, RGB=True, dtype=uint8> <valis.slide_io.VipsSlideReader object at 0x7f413786f320> True (375, 300, 3)\n",
      "<Slide, name = B_213-ST_BFIW-SE_2381_processed>, width=300, height=375, channels=3, levels=1, RGB=True, dtype=uint8> <valis.slide_io.VipsSlideReader object at 0x7f413786f380> True (375, 300, 3)\n",
      "<Slide, name = B_213-ST_BFIW-SE_2382_processed>, width=300, height=375, channels=3, levels=1, RGB=True, dtype=uint8> <valis.slide_io.VipsSlideReader object at 0x7f413786f3e0> True (375, 300, 3)\n",
      "<Slide, name = B_213-ST_BFIW-SE_2383_processed>, width=300, height=375, channels=3, levels=1, RGB=True, dtype=uint8> <valis.slide_io.VipsSlideReader object at 0x7f413786f440> True (375, 300, 3)\n"
     ]
    },
    {
     "name": "stderr",
     "output_type": "stream",
     "text": [
      "Converting images:  90%|██████████████████████████████████████████     | 2353/2627 [00:27<00:03, 82.32image/s]"
     ]
    },
    {
     "name": "stdout",
     "output_type": "stream",
     "text": [
      "<Slide, name = B_213-ST_BFIW-SE_2384_processed>, width=300, height=375, channels=3, levels=1, RGB=True, dtype=uint8> <valis.slide_io.VipsSlideReader object at 0x7f413786f4a0> True (375, 300, 3)\n",
      "<Slide, name = B_213-ST_BFIW-SE_2385_processed>, width=300, height=375, channels=3, levels=1, RGB=True, dtype=uint8> <valis.slide_io.VipsSlideReader object at 0x7f413786f500> True (375, 300, 3)\n",
      "<Slide, name = B_213-ST_BFIW-SE_2386_processed>, width=300, height=375, channels=3, levels=1, RGB=True, dtype=uint8> <valis.slide_io.VipsSlideReader object at 0x7f413786f560> True (375, 300, 3)\n",
      "<Slide, name = B_213-ST_BFIW-SE_2387_processed>, width=300, height=375, channels=3, levels=1, RGB=True, dtype=uint8> <valis.slide_io.VipsSlideReader object at 0x7f413786f5c0> True (375, 300, 3)\n",
      "<Slide, name = B_213-ST_BFIW-SE_2388_processed>, width=300, height=375, channels=3, levels=1, RGB=True, dtype=uint8> <valis.slide_io.VipsSlideReader object at 0x7f413786f620> True (375, 300, 3)\n",
      "<Slide, name = B_213-ST_BFIW-SE_2389_processed>, width=300, height=375, channels=3, levels=1, RGB=True, dtype=uint8> <valis.slide_io.VipsSlideReader object at 0x7f413786f680> True (375, 300, 3)\n",
      "<Slide, name = B_213-ST_BFIW-SE_2390_processed>, width=300, height=375, channels=3, levels=1, RGB=True, dtype=uint8> <valis.slide_io.VipsSlideReader object at 0x7f413786f6e0> True (375, 300, 3)\n",
      "<Slide, name = B_213-ST_BFIW-SE_2391_processed>, width=300, height=375, channels=3, levels=1, RGB=True, dtype=uint8> <valis.slide_io.VipsSlideReader object at 0x7f413786f740> True (375, 300, 3)\n",
      "<Slide, name = B_213-ST_BFIW-SE_2392_processed>, width=300, height=375, channels=3, levels=1, RGB=True, dtype=uint8> <valis.slide_io.VipsSlideReader object at 0x7f413786f7a0> True (375, 300, 3)\n"
     ]
    },
    {
     "name": "stderr",
     "output_type": "stream",
     "text": [
      "Converting images:  90%|██████████████████████████████████████████▎    | 2362/2627 [00:27<00:03, 82.33image/s]"
     ]
    },
    {
     "name": "stdout",
     "output_type": "stream",
     "text": [
      "<Slide, name = B_213-ST_BFIW-SE_2393_processed>, width=300, height=375, channels=3, levels=1, RGB=True, dtype=uint8> <valis.slide_io.VipsSlideReader object at 0x7f413786f800> True (375, 300, 3)\n",
      "<Slide, name = B_213-ST_BFIW-SE_2394_processed>, width=300, height=375, channels=3, levels=1, RGB=True, dtype=uint8> <valis.slide_io.VipsSlideReader object at 0x7f413786f860> True (375, 300, 3)\n",
      "<Slide, name = B_213-ST_BFIW-SE_2395_processed>, width=300, height=375, channels=3, levels=1, RGB=True, dtype=uint8> <valis.slide_io.VipsSlideReader object at 0x7f413786f8c0> True (375, 300, 3)\n",
      "<Slide, name = B_213-ST_BFIW-SE_2396_processed>, width=300, height=375, channels=3, levels=1, RGB=True, dtype=uint8> <valis.slide_io.VipsSlideReader object at 0x7f413786f920> True (375, 300, 3)\n",
      "<Slide, name = B_213-ST_BFIW-SE_2397_processed>, width=300, height=375, channels=3, levels=1, RGB=True, dtype=uint8> <valis.slide_io.VipsSlideReader object at 0x7f413786f980> True (375, 300, 3)\n",
      "<Slide, name = B_213-ST_BFIW-SE_2398_processed>, width=300, height=375, channels=3, levels=1, RGB=True, dtype=uint8> <valis.slide_io.VipsSlideReader object at 0x7f413786f9e0> True (375, 300, 3)\n",
      "<Slide, name = B_213-ST_BFIW-SE_2399_processed>, width=300, height=375, channels=3, levels=1, RGB=True, dtype=uint8> <valis.slide_io.VipsSlideReader object at 0x7f413786fa40> True (375, 300, 3)\n",
      "<Slide, name = B_213-ST_BFIW-SE_2400_processed>, width=300, height=375, channels=3, levels=1, RGB=True, dtype=uint8> <valis.slide_io.VipsSlideReader object at 0x7f413786faa0> True (375, 300, 3)\n",
      "<Slide, name = B_213-ST_BFIW-SE_2401_processed>, width=300, height=375, channels=3, levels=1, RGB=True, dtype=uint8> <valis.slide_io.VipsSlideReader object at 0x7f413786fb00> True (375, 300, 3)\n"
     ]
    },
    {
     "name": "stderr",
     "output_type": "stream",
     "text": [
      "Converting images:  90%|██████████████████████████████████████████▍    | 2371/2627 [00:27<00:03, 82.65image/s]"
     ]
    },
    {
     "name": "stdout",
     "output_type": "stream",
     "text": [
      "<Slide, name = B_213-ST_BFIW-SE_2402_processed>, width=300, height=375, channels=3, levels=1, RGB=True, dtype=uint8> <valis.slide_io.VipsSlideReader object at 0x7f413786fb60> True (375, 300, 3)\n",
      "<Slide, name = B_213-ST_BFIW-SE_2403_processed>, width=300, height=375, channels=3, levels=1, RGB=True, dtype=uint8> <valis.slide_io.VipsSlideReader object at 0x7f413786fbc0> True (375, 300, 3)\n",
      "<Slide, name = B_213-ST_BFIW-SE_2404_processed>, width=300, height=375, channels=3, levels=1, RGB=True, dtype=uint8> <valis.slide_io.VipsSlideReader object at 0x7f413786fc20> True (375, 300, 3)\n",
      "<Slide, name = B_213-ST_BFIW-SE_2405_processed>, width=300, height=375, channels=3, levels=1, RGB=True, dtype=uint8> <valis.slide_io.VipsSlideReader object at 0x7f413786fc80> True (375, 300, 3)\n",
      "<Slide, name = B_213-ST_BFIW-SE_2406_processed>, width=300, height=375, channels=3, levels=1, RGB=True, dtype=uint8> <valis.slide_io.VipsSlideReader object at 0x7f413786fce0> True (375, 300, 3)\n",
      "<Slide, name = B_213-ST_BFIW-SE_2407_processed>, width=300, height=375, channels=3, levels=1, RGB=True, dtype=uint8> <valis.slide_io.VipsSlideReader object at 0x7f413786fd40> True (375, 300, 3)\n",
      "<Slide, name = B_213-ST_BFIW-SE_2408_processed>, width=300, height=375, channels=3, levels=1, RGB=True, dtype=uint8> <valis.slide_io.VipsSlideReader object at 0x7f413786fda0> True (375, 300, 3)\n",
      "<Slide, name = B_213-ST_BFIW-SE_2409_processed>, width=300, height=375, channels=3, levels=1, RGB=True, dtype=uint8> <valis.slide_io.VipsSlideReader object at 0x7f413786fe00> True (375, 300, 3)\n",
      "<Slide, name = B_213-ST_BFIW-SE_2410_processed>, width=300, height=375, channels=3, levels=1, RGB=True, dtype=uint8> <valis.slide_io.VipsSlideReader object at 0x7f413786fe90> True (375, 300, 3)\n"
     ]
    },
    {
     "name": "stderr",
     "output_type": "stream",
     "text": [
      "Converting images:  91%|██████████████████████████████████████████▌    | 2380/2627 [00:27<00:02, 83.74image/s]"
     ]
    },
    {
     "name": "stdout",
     "output_type": "stream",
     "text": [
      "<Slide, name = B_213-ST_BFIW-SE_2411_processed>, width=300, height=375, channels=3, levels=1, RGB=True, dtype=uint8> <valis.slide_io.VipsSlideReader object at 0x7f413786ff20> True (375, 300, 3)\n",
      "<Slide, name = B_213-ST_BFIW-SE_2412_processed>, width=300, height=375, channels=3, levels=1, RGB=True, dtype=uint8> <valis.slide_io.VipsSlideReader object at 0x7f413786ffe0> True (375, 300, 3)\n",
      "<Slide, name = B_213-ST_BFIW-SE_2413_processed>, width=300, height=375, channels=3, levels=1, RGB=True, dtype=uint8> <valis.slide_io.VipsSlideReader object at 0x7f413786ffb0> True (375, 300, 3)\n",
      "<Slide, name = B_213-ST_BFIW-SE_2414_processed>, width=300, height=375, channels=3, levels=1, RGB=True, dtype=uint8> <valis.slide_io.VipsSlideReader object at 0x7f413786fcb0> True (375, 300, 3)\n",
      "<Slide, name = B_213-ST_BFIW-SE_2415_processed>, width=300, height=375, channels=3, levels=1, RGB=True, dtype=uint8> <valis.slide_io.VipsSlideReader object at 0x7f413786ff80> True (375, 300, 3)\n",
      "<Slide, name = B_213-ST_BFIW-SE_2416_processed>, width=300, height=375, channels=3, levels=1, RGB=True, dtype=uint8> <valis.slide_io.VipsSlideReader object at 0x7f413786d970> True (375, 300, 3)\n",
      "<Slide, name = B_213-ST_BFIW-SE_2417_processed>, width=300, height=375, channels=3, levels=1, RGB=True, dtype=uint8> <valis.slide_io.VipsSlideReader object at 0x7f413786fdd0> True (375, 300, 3)\n",
      "<Slide, name = B_213-ST_BFIW-SE_2418_processed>, width=300, height=375, channels=3, levels=1, RGB=True, dtype=uint8> <valis.slide_io.VipsSlideReader object at 0x7f413786ff50> True (375, 300, 3)\n",
      "<Slide, name = B_213-ST_BFIW-SE_2419_processed>, width=300, height=375, channels=3, levels=1, RGB=True, dtype=uint8> <valis.slide_io.VipsSlideReader object at 0x7f4137848230> True (375, 300, 3)\n"
     ]
    },
    {
     "name": "stderr",
     "output_type": "stream",
     "text": [
      "Converting images:  91%|██████████████████████████████████████████▋    | 2389/2627 [00:27<00:02, 80.54image/s]"
     ]
    },
    {
     "name": "stdout",
     "output_type": "stream",
     "text": [
      "<Slide, name = B_213-ST_BFIW-SE_2420_processed>, width=300, height=375, channels=3, levels=1, RGB=True, dtype=uint8> <valis.slide_io.VipsSlideReader object at 0x7f4137870170> True (375, 300, 3)\n",
      "<Slide, name = B_213-ST_BFIW-SE_2421_processed>, width=300, height=375, channels=3, levels=1, RGB=True, dtype=uint8> <valis.slide_io.VipsSlideReader object at 0x7f4137848260> True (375, 300, 3)\n",
      "<Slide, name = B_213-ST_BFIW-SE_2422_processed>, width=300, height=375, channels=3, levels=1, RGB=True, dtype=uint8> <valis.slide_io.VipsSlideReader object at 0x7f4137870140> True (375, 300, 3)\n",
      "<Slide, name = B_213-ST_BFIW-SE_2423_processed>, width=300, height=375, channels=3, levels=1, RGB=True, dtype=uint8> <valis.slide_io.VipsSlideReader object at 0x7f4137870290> True (375, 300, 3)\n",
      "<Slide, name = B_213-ST_BFIW-SE_2424_processed>, width=300, height=375, channels=3, levels=1, RGB=True, dtype=uint8> <valis.slide_io.VipsSlideReader object at 0x7f41378300b0> True (375, 300, 3)\n",
      "<Slide, name = B_213-ST_BFIW-SE_2425_processed>, width=300, height=375, channels=3, levels=1, RGB=True, dtype=uint8> <valis.slide_io.VipsSlideReader object at 0x7f41378703b0> True (375, 300, 3)\n",
      "<Slide, name = B_213-ST_BFIW-SE_2426_processed>, width=300, height=375, channels=3, levels=1, RGB=True, dtype=uint8> <valis.slide_io.VipsSlideReader object at 0x7f4137870050> True (375, 300, 3)\n",
      "<Slide, name = B_213-ST_BFIW-SE_2427_processed>, width=300, height=375, channels=3, levels=1, RGB=True, dtype=uint8> <valis.slide_io.VipsSlideReader object at 0x7f4137870500> True (375, 300, 3)\n",
      "<Slide, name = B_213-ST_BFIW-SE_2428_processed>, width=300, height=375, channels=3, levels=1, RGB=True, dtype=uint8> <valis.slide_io.VipsSlideReader object at 0x7f4137868680> True (375, 300, 3)\n"
     ]
    },
    {
     "name": "stderr",
     "output_type": "stream",
     "text": [
      "Converting images:  91%|██████████████████████████████████████████▉    | 2398/2627 [00:28<00:02, 82.89image/s]"
     ]
    },
    {
     "name": "stdout",
     "output_type": "stream",
     "text": [
      "<Slide, name = B_213-ST_BFIW-SE_2429_processed>, width=300, height=375, channels=3, levels=1, RGB=True, dtype=uint8> <valis.slide_io.VipsSlideReader object at 0x7f4137868620> True (375, 300, 3)\n",
      "<Slide, name = B_213-ST_BFIW-SE_2430_processed>, width=300, height=375, channels=3, levels=1, RGB=True, dtype=uint8> <valis.slide_io.VipsSlideReader object at 0x7f41378704a0> True (375, 300, 3)\n",
      "<Slide, name = B_213-ST_BFIW-SE_2431_processed>, width=300, height=375, channels=3, levels=1, RGB=True, dtype=uint8> <valis.slide_io.VipsSlideReader object at 0x7f41378486b0> True (375, 300, 3)\n",
      "<Slide, name = B_213-ST_BFIW-SE_2432_processed>, width=300, height=375, channels=3, levels=1, RGB=True, dtype=uint8> <valis.slide_io.VipsSlideReader object at 0x7f4137870440> True (375, 300, 3)\n",
      "<Slide, name = B_213-ST_BFIW-SE_2433_processed>, width=300, height=375, channels=3, levels=1, RGB=True, dtype=uint8> <valis.slide_io.VipsSlideReader object at 0x7f4137868740> True (375, 300, 3)\n",
      "<Slide, name = B_213-ST_BFIW-SE_2434_processed>, width=300, height=375, channels=3, levels=1, RGB=True, dtype=uint8> <valis.slide_io.VipsSlideReader object at 0x7f4137870830> True (375, 300, 3)\n",
      "<Slide, name = B_213-ST_BFIW-SE_2435_processed>, width=300, height=375, channels=3, levels=1, RGB=True, dtype=uint8> <valis.slide_io.VipsSlideReader object at 0x7f4137830800> True (375, 300, 3)\n",
      "<Slide, name = B_213-ST_BFIW-SE_2436_processed>, width=300, height=375, channels=3, levels=1, RGB=True, dtype=uint8> <valis.slide_io.VipsSlideReader object at 0x7f41378686e0> True (375, 300, 3)\n",
      "<Slide, name = B_213-ST_BFIW-SE_2437_processed>, width=300, height=375, channels=3, levels=1, RGB=True, dtype=uint8> <valis.slide_io.VipsSlideReader object at 0x7f41378488f0> True (375, 300, 3)\n"
     ]
    },
    {
     "name": "stderr",
     "output_type": "stream",
     "text": [
      "Converting images:  92%|███████████████████████████████████████████    | 2407/2627 [00:28<00:02, 83.87image/s]"
     ]
    },
    {
     "name": "stdout",
     "output_type": "stream",
     "text": [
      "<Slide, name = B_213-ST_BFIW-SE_2438_processed>, width=300, height=375, channels=3, levels=1, RGB=True, dtype=uint8> <valis.slide_io.VipsSlideReader object at 0x7f41378707a0> True (375, 300, 3)\n",
      "<Slide, name = B_213-ST_BFIW-SE_2439_processed>, width=300, height=375, channels=3, levels=1, RGB=True, dtype=uint8> <valis.slide_io.VipsSlideReader object at 0x7f41378489b0> True (375, 300, 3)\n",
      "<Slide, name = B_213-ST_BFIW-SE_2440_processed>, width=300, height=375, channels=3, levels=1, RGB=True, dtype=uint8> <valis.slide_io.VipsSlideReader object at 0x7f41378709e0> True (375, 300, 3)\n",
      "<Slide, name = B_213-ST_BFIW-SE_2441_processed>, width=300, height=375, channels=3, levels=1, RGB=True, dtype=uint8> <valis.slide_io.VipsSlideReader object at 0x7f4137868a70> True (375, 300, 3)\n",
      "<Slide, name = B_213-ST_BFIW-SE_2442_processed>, width=300, height=375, channels=3, levels=1, RGB=True, dtype=uint8> <valis.slide_io.VipsSlideReader object at 0x7f4137870b60> True (375, 300, 3)\n",
      "<Slide, name = B_213-ST_BFIW-SE_2443_processed>, width=300, height=375, channels=3, levels=1, RGB=True, dtype=uint8> <valis.slide_io.VipsSlideReader object at 0x7f4137830a40> True (375, 300, 3)\n",
      "<Slide, name = B_213-ST_BFIW-SE_2444_processed>, width=300, height=375, channels=3, levels=1, RGB=True, dtype=uint8> <valis.slide_io.VipsSlideReader object at 0x7f4137830ce0> True (375, 300, 3)\n",
      "<Slide, name = B_213-ST_BFIW-SE_2445_processed>, width=300, height=375, channels=3, levels=1, RGB=True, dtype=uint8> <valis.slide_io.VipsSlideReader object at 0x7f4137870ad0> True (375, 300, 3)\n",
      "<Slide, name = B_213-ST_BFIW-SE_2446_processed>, width=300, height=375, channels=3, levels=1, RGB=True, dtype=uint8> <valis.slide_io.VipsSlideReader object at 0x7f4137868b30> True (375, 300, 3)\n"
     ]
    },
    {
     "name": "stderr",
     "output_type": "stream",
     "text": [
      "Converting images:  92%|███████████████████████████████████████████▏   | 2416/2627 [00:28<00:02, 84.56image/s]"
     ]
    },
    {
     "name": "stdout",
     "output_type": "stream",
     "text": [
      "<Slide, name = B_213-ST_BFIW-SE_2447_processed>, width=300, height=375, channels=3, levels=1, RGB=True, dtype=uint8> <valis.slide_io.VipsSlideReader object at 0x7f4137830e60> True (375, 300, 3)\n",
      "<Slide, name = B_213-ST_BFIW-SE_2448_processed>, width=300, height=375, channels=3, levels=1, RGB=True, dtype=uint8> <valis.slide_io.VipsSlideReader object at 0x7f4137870950> True (375, 300, 3)\n",
      "<Slide, name = B_213-ST_BFIW-SE_2449_processed>, width=300, height=375, channels=3, levels=1, RGB=True, dtype=uint8> <valis.slide_io.VipsSlideReader object at 0x7f4137868e30> True (375, 300, 3)\n",
      "<Slide, name = B_213-ST_BFIW-SE_2450_processed>, width=300, height=375, channels=3, levels=1, RGB=True, dtype=uint8> <valis.slide_io.VipsSlideReader object at 0x7f4137870c20> True (375, 300, 3)\n",
      "<Slide, name = B_213-ST_BFIW-SE_2451_processed>, width=300, height=375, channels=3, levels=1, RGB=True, dtype=uint8> <valis.slide_io.VipsSlideReader object at 0x7f4137848ec0> True (375, 300, 3)\n",
      "<Slide, name = B_213-ST_BFIW-SE_2452_processed>, width=300, height=375, channels=3, levels=1, RGB=True, dtype=uint8> <valis.slide_io.VipsSlideReader object at 0x7f4137870fb0> True (375, 300, 3)\n",
      "<Slide, name = B_213-ST_BFIW-SE_2453_processed>, width=300, height=375, channels=3, levels=1, RGB=True, dtype=uint8> <valis.slide_io.VipsSlideReader object at 0x7f4137848f80> True (375, 300, 3)\n",
      "<Slide, name = B_213-ST_BFIW-SE_2454_processed>, width=300, height=375, channels=3, levels=1, RGB=True, dtype=uint8> <valis.slide_io.VipsSlideReader object at 0x7f4137871070> True (375, 300, 3)\n",
      "<Slide, name = B_213-ST_BFIW-SE_2455_processed>, width=300, height=375, channels=3, levels=1, RGB=True, dtype=uint8> <valis.slide_io.VipsSlideReader object at 0x7f4137849040> True (375, 300, 3)\n"
     ]
    },
    {
     "name": "stderr",
     "output_type": "stream",
     "text": [
      "Converting images:  92%|███████████████████████████████████████████▍   | 2425/2627 [00:28<00:02, 84.52image/s]"
     ]
    },
    {
     "name": "stdout",
     "output_type": "stream",
     "text": [
      "<Slide, name = B_213-ST_BFIW-SE_2456_processed>, width=300, height=375, channels=3, levels=1, RGB=True, dtype=uint8> <valis.slide_io.VipsSlideReader object at 0x7f4137868f20> True (375, 300, 3)\n",
      "<Slide, name = B_213-ST_BFIW-SE_2457_processed>, width=300, height=375, channels=3, levels=1, RGB=True, dtype=uint8> <valis.slide_io.VipsSlideReader object at 0x7f4137869100> True (375, 300, 3)\n",
      "<Slide, name = B_213-ST_BFIW-SE_2458_processed>, width=300, height=375, channels=3, levels=1, RGB=True, dtype=uint8> <valis.slide_io.VipsSlideReader object at 0x7f4137849160> True (375, 300, 3)\n",
      "<Slide, name = B_213-ST_BFIW-SE_2459_processed>, width=300, height=375, channels=3, levels=1, RGB=True, dtype=uint8> <valis.slide_io.VipsSlideReader object at 0x7f41378311c0> True (375, 300, 3)\n",
      "<Slide, name = B_213-ST_BFIW-SE_2460_processed>, width=300, height=375, channels=3, levels=1, RGB=True, dtype=uint8> <valis.slide_io.VipsSlideReader object at 0x7f4137831220> True (375, 300, 3)\n",
      "<Slide, name = B_213-ST_BFIW-SE_2461_processed>, width=300, height=375, channels=3, levels=1, RGB=True, dtype=uint8> <valis.slide_io.VipsSlideReader object at 0x7f4137869280> True (375, 300, 3)\n",
      "<Slide, name = B_213-ST_BFIW-SE_2462_processed>, width=300, height=375, channels=3, levels=1, RGB=True, dtype=uint8> <valis.slide_io.VipsSlideReader object at 0x7f41378312e0> True (375, 300, 3)\n",
      "<Slide, name = B_213-ST_BFIW-SE_2463_processed>, width=300, height=375, channels=3, levels=1, RGB=True, dtype=uint8> <valis.slide_io.VipsSlideReader object at 0x7f4137849340> True (375, 300, 3)\n",
      "<Slide, name = B_213-ST_BFIW-SE_2464_processed>, width=300, height=375, channels=3, levels=1, RGB=True, dtype=uint8> <valis.slide_io.VipsSlideReader object at 0x7f41378313a0> True (375, 300, 3)\n"
     ]
    },
    {
     "name": "stderr",
     "output_type": "stream",
     "text": [
      "Converting images:  93%|███████████████████████████████████████████▌   | 2434/2627 [00:28<00:02, 84.32image/s]"
     ]
    },
    {
     "name": "stdout",
     "output_type": "stream",
     "text": [
      "<Slide, name = B_213-ST_BFIW-SE_2465_processed>, width=300, height=375, channels=3, levels=1, RGB=True, dtype=uint8> <valis.slide_io.VipsSlideReader object at 0x7f4137869400> True (375, 300, 3)\n",
      "<Slide, name = B_213-ST_BFIW-SE_2466_processed>, width=300, height=375, channels=3, levels=1, RGB=True, dtype=uint8> <valis.slide_io.VipsSlideReader object at 0x7f4137821460> True (375, 300, 3)\n",
      "<Slide, name = B_213-ST_BFIW-SE_2467_processed>, width=300, height=375, channels=3, levels=1, RGB=True, dtype=uint8> <valis.slide_io.VipsSlideReader object at 0x7f41378694c0> True (375, 300, 3)\n",
      "<Slide, name = B_213-ST_BFIW-SE_2468_processed>, width=300, height=375, channels=3, levels=1, RGB=True, dtype=uint8> <valis.slide_io.VipsSlideReader object at 0x7f4137869520> True (375, 300, 3)\n",
      "<Slide, name = B_213-ST_BFIW-SE_2469_processed>, width=300, height=375, channels=3, levels=1, RGB=True, dtype=uint8> <valis.slide_io.VipsSlideReader object at 0x7f4137869580> True (375, 300, 3)\n",
      "<Slide, name = B_213-ST_BFIW-SE_2470_processed>, width=300, height=375, channels=3, levels=1, RGB=True, dtype=uint8> <valis.slide_io.VipsSlideReader object at 0x7f42ebf295e0> True (375, 300, 3)\n",
      "<Slide, name = B_213-ST_BFIW-SE_2471_processed>, width=300, height=375, channels=3, levels=1, RGB=True, dtype=uint8> <valis.slide_io.VipsSlideReader object at 0x7f4137869640> True (375, 300, 3)\n",
      "<Slide, name = B_213-ST_BFIW-SE_2472_processed>, width=300, height=375, channels=3, levels=1, RGB=True, dtype=uint8> <valis.slide_io.VipsSlideReader object at 0x7f41378696a0> True (375, 300, 3)\n",
      "<Slide, name = B_213-ST_BFIW-SE_2473_processed>, width=300, height=375, channels=3, levels=1, RGB=True, dtype=uint8> <valis.slide_io.VipsSlideReader object at 0x7f4137821700> True (375, 300, 3)\n"
     ]
    },
    {
     "name": "stderr",
     "output_type": "stream",
     "text": [
      "Converting images:  93%|███████████████████████████████████████████▋   | 2443/2627 [00:28<00:02, 85.07image/s]"
     ]
    },
    {
     "name": "stdout",
     "output_type": "stream",
     "text": [
      "<Slide, name = B_213-ST_BFIW-SE_2474_processed>, width=300, height=375, channels=3, levels=1, RGB=True, dtype=uint8> <valis.slide_io.VipsSlideReader object at 0x7f42d2f49760> True (375, 300, 3)\n",
      "<Slide, name = B_213-ST_BFIW-SE_2475_processed>, width=300, height=375, channels=3, levels=1, RGB=True, dtype=uint8> <valis.slide_io.VipsSlideReader object at 0x7f41378017c0> True (375, 300, 3)\n",
      "<Slide, name = B_213-ST_BFIW-SE_2476_processed>, width=300, height=375, channels=3, levels=1, RGB=True, dtype=uint8> <valis.slide_io.VipsSlideReader object at 0x7f4137821820> True (375, 300, 3)\n",
      "<Slide, name = B_213-ST_BFIW-SE_2477_processed>, width=300, height=375, channels=3, levels=1, RGB=True, dtype=uint8> <valis.slide_io.VipsSlideReader object at 0x7f4137869880> True (375, 300, 3)\n",
      "<Slide, name = B_213-ST_BFIW-SE_2478_processed>, width=300, height=375, channels=3, levels=1, RGB=True, dtype=uint8> <valis.slide_io.VipsSlideReader object at 0x7f41378698e0> True (375, 300, 3)\n",
      "<Slide, name = B_213-ST_BFIW-SE_2479_processed>, width=300, height=375, channels=3, levels=1, RGB=True, dtype=uint8> <valis.slide_io.VipsSlideReader object at 0x7f4137829940> True (375, 300, 3)\n",
      "<Slide, name = B_213-ST_BFIW-SE_2480_processed>, width=300, height=375, channels=3, levels=1, RGB=True, dtype=uint8> <valis.slide_io.VipsSlideReader object at 0x7f41378299a0> True (375, 300, 3)\n",
      "<Slide, name = B_213-ST_BFIW-SE_2481_processed>, width=300, height=375, channels=3, levels=1, RGB=True, dtype=uint8> <valis.slide_io.VipsSlideReader object at 0x7f4137831a00> True (375, 300, 3)\n",
      "<Slide, name = B_213-ST_BFIW-SE_2482_processed>, width=300, height=375, channels=3, levels=1, RGB=True, dtype=uint8> <valis.slide_io.VipsSlideReader object at 0x7f4137831a60> True (375, 300, 3)\n"
     ]
    },
    {
     "name": "stderr",
     "output_type": "stream",
     "text": [
      "Converting images:  93%|███████████████████████████████████████████▊   | 2452/2627 [00:28<00:02, 83.53image/s]"
     ]
    },
    {
     "name": "stdout",
     "output_type": "stream",
     "text": [
      "<Slide, name = B_213-ST_BFIW-SE_2483_processed>, width=300, height=375, channels=3, levels=1, RGB=True, dtype=uint8> <valis.slide_io.VipsSlideReader object at 0x7f4137831ac0> True (375, 300, 3)\n",
      "<Slide, name = B_213-ST_BFIW-SE_2484_processed>, width=300, height=375, channels=3, levels=1, RGB=True, dtype=uint8> <valis.slide_io.VipsSlideReader object at 0x7f4137849b20> True (375, 300, 3)\n",
      "<Slide, name = B_213-ST_BFIW-SE_2485_processed>, width=300, height=375, channels=3, levels=1, RGB=True, dtype=uint8> <valis.slide_io.VipsSlideReader object at 0x7f4137849b80> True (375, 300, 3)\n",
      "<Slide, name = B_213-ST_BFIW-SE_2486_processed>, width=300, height=375, channels=3, levels=1, RGB=True, dtype=uint8> <valis.slide_io.VipsSlideReader object at 0x7f4137849be0> True (375, 300, 3)\n",
      "<Slide, name = B_213-ST_BFIW-SE_2487_processed>, width=300, height=375, channels=3, levels=1, RGB=True, dtype=uint8> <valis.slide_io.VipsSlideReader object at 0x7f4137849c40> True (375, 300, 3)\n",
      "<Slide, name = B_213-ST_BFIW-SE_2488_processed>, width=300, height=375, channels=3, levels=1, RGB=True, dtype=uint8> <valis.slide_io.VipsSlideReader object at 0x7f4137849ca0> True (375, 300, 3)\n",
      "<Slide, name = B_213-ST_BFIW-SE_2489_processed>, width=300, height=375, channels=3, levels=1, RGB=True, dtype=uint8> <valis.slide_io.VipsSlideReader object at 0x7f4137849d00> True (375, 300, 3)\n",
      "<Slide, name = B_213-ST_BFIW-SE_2490_processed>, width=300, height=375, channels=3, levels=1, RGB=True, dtype=uint8> <valis.slide_io.VipsSlideReader object at 0x7f4137829d60> True (375, 300, 3)\n",
      "<Slide, name = B_213-ST_BFIW-SE_2491_processed>, width=300, height=375, channels=3, levels=1, RGB=True, dtype=uint8> <valis.slide_io.VipsSlideReader object at 0x7f4137849dc0> True (375, 300, 3)\n"
     ]
    },
    {
     "name": "stderr",
     "output_type": "stream",
     "text": [
      "Converting images:  94%|████████████████████████████████████████████   | 2461/2627 [00:28<00:01, 84.66image/s]"
     ]
    },
    {
     "name": "stdout",
     "output_type": "stream",
     "text": [
      "<Slide, name = B_213-ST_BFIW-SE_2492_processed>, width=300, height=375, channels=3, levels=1, RGB=True, dtype=uint8> <valis.slide_io.VipsSlideReader object at 0x7f4137849e20> True (375, 300, 3)\n",
      "<Slide, name = B_213-ST_BFIW-SE_2493_processed>, width=300, height=375, channels=3, levels=1, RGB=True, dtype=uint8> <valis.slide_io.VipsSlideReader object at 0x7f4137849e80> True (375, 300, 3)\n",
      "<Slide, name = B_213-ST_BFIW-SE_2494_processed>, width=300, height=375, channels=3, levels=1, RGB=True, dtype=uint8> <valis.slide_io.VipsSlideReader object at 0x7f4137849ee0> True (375, 300, 3)\n",
      "<Slide, name = B_213-ST_BFIW-SE_2495_processed>, width=300, height=375, channels=3, levels=1, RGB=True, dtype=uint8> <valis.slide_io.VipsSlideReader object at 0x7f4137869f40> True (375, 300, 3)\n",
      "<Slide, name = B_213-ST_BFIW-SE_2496_processed>, width=300, height=375, channels=3, levels=1, RGB=True, dtype=uint8> <valis.slide_io.VipsSlideReader object at 0x7f4137869fa0> True (375, 300, 3)\n",
      "<Slide, name = B_213-ST_BFIW-SE_2497_processed>, width=300, height=375, channels=3, levels=1, RGB=True, dtype=uint8> <valis.slide_io.VipsSlideReader object at 0x7f4137822000> True (375, 300, 3)\n",
      "<Slide, name = B_213-ST_BFIW-SE_2498_processed>, width=300, height=375, channels=3, levels=1, RGB=True, dtype=uint8> <valis.slide_io.VipsSlideReader object at 0x7f4137832060> True (375, 300, 3)\n",
      "<Slide, name = B_213-ST_BFIW-SE_2499_processed>, width=300, height=375, channels=3, levels=1, RGB=True, dtype=uint8> <valis.slide_io.VipsSlideReader object at 0x7f413784a0c0> True (375, 300, 3)\n",
      "<Slide, name = B_213-ST_BFIW-SE_2500_processed>, width=300, height=375, channels=3, levels=1, RGB=True, dtype=uint8> <valis.slide_io.VipsSlideReader object at 0x7f4137832120> True (375, 300, 3)\n"
     ]
    },
    {
     "name": "stderr",
     "output_type": "stream",
     "text": [
      "Converting images:  94%|████████████████████████████████████████████▏  | 2470/2627 [00:28<00:01, 85.66image/s]"
     ]
    },
    {
     "name": "stdout",
     "output_type": "stream",
     "text": [
      "<Slide, name = B_213-ST_BFIW-SE_2501_processed>, width=300, height=375, channels=3, levels=1, RGB=True, dtype=uint8> <valis.slide_io.VipsSlideReader object at 0x7f4137832180> True (375, 300, 3)\n",
      "<Slide, name = B_213-ST_BFIW-SE_2502_processed>, width=300, height=375, channels=3, levels=1, RGB=True, dtype=uint8> <valis.slide_io.VipsSlideReader object at 0x7f413786a1e0> True (375, 300, 3)\n",
      "<Slide, name = B_213-ST_BFIW-SE_2503_processed>, width=300, height=375, channels=3, levels=1, RGB=True, dtype=uint8> <valis.slide_io.VipsSlideReader object at 0x7f413786a240> True (375, 300, 3)\n",
      "<Slide, name = B_213-ST_BFIW-SE_2504_processed>, width=300, height=375, channels=3, levels=1, RGB=True, dtype=uint8> <valis.slide_io.VipsSlideReader object at 0x7f41378222a0> True (375, 300, 3)\n",
      "<Slide, name = B_213-ST_BFIW-SE_2505_processed>, width=300, height=375, channels=3, levels=1, RGB=True, dtype=uint8> <valis.slide_io.VipsSlideReader object at 0x7f413786a300> True (375, 300, 3)\n",
      "<Slide, name = B_213-ST_BFIW-SE_2506_processed>, width=300, height=375, channels=3, levels=1, RGB=True, dtype=uint8> <valis.slide_io.VipsSlideReader object at 0x7f413786a360> True (375, 300, 3)\n",
      "<Slide, name = B_213-ST_BFIW-SE_2507_processed>, width=300, height=375, channels=3, levels=1, RGB=True, dtype=uint8> <valis.slide_io.VipsSlideReader object at 0x7f413786a3c0> True (375, 300, 3)\n",
      "<Slide, name = B_213-ST_BFIW-SE_2508_processed>, width=300, height=375, channels=3, levels=1, RGB=True, dtype=uint8> <valis.slide_io.VipsSlideReader object at 0x7f413782a420> True (375, 300, 3)\n",
      "<Slide, name = B_213-ST_BFIW-SE_2509_processed>, width=300, height=375, channels=3, levels=1, RGB=True, dtype=uint8> <valis.slide_io.VipsSlideReader object at 0x7f413786a480> True (375, 300, 3)\n"
     ]
    },
    {
     "name": "stderr",
     "output_type": "stream",
     "text": [
      "Converting images:  94%|████████████████████████████████████████████▎  | 2479/2627 [00:29<00:01, 86.20image/s]"
     ]
    },
    {
     "name": "stdout",
     "output_type": "stream",
     "text": [
      "<Slide, name = B_213-ST_BFIW-SE_2510_processed>, width=300, height=375, channels=3, levels=1, RGB=True, dtype=uint8> <valis.slide_io.VipsSlideReader object at 0x7f413782a4e0> True (375, 300, 3)\n",
      "<Slide, name = B_213-ST_BFIW-SE_2511_processed>, width=300, height=375, channels=3, levels=1, RGB=True, dtype=uint8> <valis.slide_io.VipsSlideReader object at 0x7f413786a540> True (375, 300, 3)\n",
      "<Slide, name = B_213-ST_BFIW-SE_2512_processed>, width=300, height=375, channels=3, levels=1, RGB=True, dtype=uint8> <valis.slide_io.VipsSlideReader object at 0x7f413786a5a0> True (375, 300, 3)\n",
      "<Slide, name = B_213-ST_BFIW-SE_2513_processed>, width=300, height=375, channels=3, levels=1, RGB=True, dtype=uint8> <valis.slide_io.VipsSlideReader object at 0x7f413786a600> True (375, 300, 3)\n",
      "<Slide, name = B_213-ST_BFIW-SE_2514_processed>, width=300, height=375, channels=3, levels=1, RGB=True, dtype=uint8> <valis.slide_io.VipsSlideReader object at 0x7f413786a660> True (375, 300, 3)\n",
      "<Slide, name = B_213-ST_BFIW-SE_2515_processed>, width=300, height=375, channels=3, levels=1, RGB=True, dtype=uint8> <valis.slide_io.VipsSlideReader object at 0x7f413786a6c0> True (375, 300, 3)\n",
      "<Slide, name = B_213-ST_BFIW-SE_2516_processed>, width=300, height=375, channels=3, levels=1, RGB=True, dtype=uint8> <valis.slide_io.VipsSlideReader object at 0x7f413786a720> True (375, 300, 3)\n",
      "<Slide, name = B_213-ST_BFIW-SE_2517_processed>, width=300, height=375, channels=3, levels=1, RGB=True, dtype=uint8> <valis.slide_io.VipsSlideReader object at 0x7f413786a780> True (375, 300, 3)\n",
      "<Slide, name = B_213-ST_BFIW-SE_2518_processed>, width=300, height=375, channels=3, levels=1, RGB=True, dtype=uint8> <valis.slide_io.VipsSlideReader object at 0x7f4137be27e0> True (375, 300, 3)\n"
     ]
    },
    {
     "name": "stderr",
     "output_type": "stream",
     "text": [
      "Converting images:  95%|████████████████████████████████████████████▌  | 2488/2627 [00:29<00:01, 86.38image/s]"
     ]
    },
    {
     "name": "stdout",
     "output_type": "stream",
     "text": [
      "<Slide, name = B_213-ST_BFIW-SE_2519_processed>, width=300, height=375, channels=3, levels=1, RGB=True, dtype=uint8> <valis.slide_io.VipsSlideReader object at 0x7f413786a840> True (375, 300, 3)\n",
      "<Slide, name = B_213-ST_BFIW-SE_2520_processed>, width=300, height=375, channels=3, levels=1, RGB=True, dtype=uint8> <valis.slide_io.VipsSlideReader object at 0x7f41378128a0> True (375, 300, 3)\n",
      "<Slide, name = B_213-ST_BFIW-SE_2521_processed>, width=300, height=375, channels=3, levels=1, RGB=True, dtype=uint8> <valis.slide_io.VipsSlideReader object at 0x7f4137832900> True (375, 300, 3)\n",
      "<Slide, name = B_213-ST_BFIW-SE_2522_processed>, width=300, height=375, channels=3, levels=1, RGB=True, dtype=uint8> <valis.slide_io.VipsSlideReader object at 0x7f4137832960> True (375, 300, 3)\n",
      "<Slide, name = B_213-ST_BFIW-SE_2523_processed>, width=300, height=375, channels=3, levels=1, RGB=True, dtype=uint8> <valis.slide_io.VipsSlideReader object at 0x7f413786a9c0> True (375, 300, 3)\n",
      "<Slide, name = B_213-ST_BFIW-SE_2524_processed>, width=300, height=375, channels=3, levels=1, RGB=True, dtype=uint8> <valis.slide_io.VipsSlideReader object at 0x7f413786aa20> True (375, 300, 3)\n",
      "<Slide, name = B_213-ST_BFIW-SE_2525_processed>, width=300, height=375, channels=3, levels=1, RGB=True, dtype=uint8> <valis.slide_io.VipsSlideReader object at 0x7f413786aa80> True (375, 300, 3)\n",
      "<Slide, name = B_213-ST_BFIW-SE_2527_processed>, width=300, height=375, channels=3, levels=1, RGB=True, dtype=uint8> <valis.slide_io.VipsSlideReader object at 0x7f413786aae0> True (375, 300, 3)\n",
      "<Slide, name = B_213-ST_BFIW-SE_2528_processed>, width=300, height=375, channels=3, levels=1, RGB=True, dtype=uint8> <valis.slide_io.VipsSlideReader object at 0x7f413786ab40> True (375, 300, 3)\n"
     ]
    },
    {
     "name": "stderr",
     "output_type": "stream",
     "text": [
      "Converting images:  95%|████████████████████████████████████████████▋  | 2497/2627 [00:29<00:01, 86.97image/s]"
     ]
    },
    {
     "name": "stdout",
     "output_type": "stream",
     "text": [
      "<Slide, name = B_213-ST_BFIW-SE_2529_processed>, width=300, height=375, channels=3, levels=1, RGB=True, dtype=uint8> <valis.slide_io.VipsSlideReader object at 0x7f413786aba0> True (375, 300, 3)\n",
      "<Slide, name = B_213-ST_BFIW-SE_2530_processed>, width=300, height=375, channels=3, levels=1, RGB=True, dtype=uint8> <valis.slide_io.VipsSlideReader object at 0x7f413786ac00> True (375, 300, 3)\n",
      "<Slide, name = B_213-ST_BFIW-SE_2531_processed>, width=300, height=375, channels=3, levels=1, RGB=True, dtype=uint8> <valis.slide_io.VipsSlideReader object at 0x7f413786ac60> True (375, 300, 3)\n",
      "<Slide, name = B_213-ST_BFIW-SE_2532_processed>, width=300, height=375, channels=3, levels=1, RGB=True, dtype=uint8> <valis.slide_io.VipsSlideReader object at 0x7f413786acc0> True (375, 300, 3)\n",
      "<Slide, name = B_213-ST_BFIW-SE_2533_processed>, width=300, height=375, channels=3, levels=1, RGB=True, dtype=uint8> <valis.slide_io.VipsSlideReader object at 0x7f413786ad20> True (375, 300, 3)\n",
      "<Slide, name = B_213-ST_BFIW-SE_2534_processed>, width=300, height=375, channels=3, levels=1, RGB=True, dtype=uint8> <valis.slide_io.VipsSlideReader object at 0x7f413786ad80> True (375, 300, 3)\n",
      "<Slide, name = B_213-ST_BFIW-SE_2535_processed>, width=300, height=375, channels=3, levels=1, RGB=True, dtype=uint8> <valis.slide_io.VipsSlideReader object at 0x7f413786ade0> True (375, 300, 3)\n",
      "<Slide, name = B_213-ST_BFIW-SE_2536_processed>, width=300, height=375, channels=3, levels=1, RGB=True, dtype=uint8> <valis.slide_io.VipsSlideReader object at 0x7f413786ae40> True (375, 300, 3)\n",
      "<Slide, name = B_213-ST_BFIW-SE_2537_processed>, width=300, height=375, channels=3, levels=1, RGB=True, dtype=uint8> <valis.slide_io.VipsSlideReader object at 0x7f413786aea0> True (375, 300, 3)\n"
     ]
    },
    {
     "name": "stderr",
     "output_type": "stream",
     "text": [
      "Converting images:  95%|████████████████████████████████████████████▊  | 2506/2627 [00:29<00:01, 85.72image/s]"
     ]
    },
    {
     "name": "stdout",
     "output_type": "stream",
     "text": [
      "<Slide, name = B_213-ST_BFIW-SE_2538_processed>, width=300, height=375, channels=3, levels=1, RGB=True, dtype=uint8> <valis.slide_io.VipsSlideReader object at 0x7f413786af00> True (375, 300, 3)\n",
      "<Slide, name = B_213-ST_BFIW-SE_2539_processed>, width=300, height=375, channels=3, levels=1, RGB=True, dtype=uint8> <valis.slide_io.VipsSlideReader object at 0x7f413786af60> True (375, 300, 3)\n",
      "<Slide, name = B_213-ST_BFIW-SE_2540_processed>, width=300, height=375, channels=3, levels=1, RGB=True, dtype=uint8> <valis.slide_io.VipsSlideReader object at 0x7f413786afc0> True (375, 300, 3)\n",
      "<Slide, name = B_213-ST_BFIW-SE_2541_processed>, width=300, height=375, channels=3, levels=1, RGB=True, dtype=uint8> <valis.slide_io.VipsSlideReader object at 0x7f413786b020> True (375, 300, 3)\n",
      "<Slide, name = B_213-ST_BFIW-SE_2542_processed>, width=300, height=375, channels=3, levels=1, RGB=True, dtype=uint8> <valis.slide_io.VipsSlideReader object at 0x7f4137871130> True (375, 300, 3)\n",
      "<Slide, name = B_213-ST_BFIW-SE_2543_processed>, width=300, height=375, channels=3, levels=1, RGB=True, dtype=uint8> <valis.slide_io.VipsSlideReader object at 0x7f413786b0e0> True (375, 300, 3)\n",
      "<Slide, name = B_213-ST_BFIW-SE_2544_processed>, width=300, height=375, channels=3, levels=1, RGB=True, dtype=uint8> <valis.slide_io.VipsSlideReader object at 0x7f4137828fe0> True (375, 300, 3)\n",
      "<Slide, name = B_213-ST_BFIW-SE_2545_processed>, width=300, height=375, channels=3, levels=1, RGB=True, dtype=uint8> <valis.slide_io.VipsSlideReader object at 0x7f413786b1a0> True (375, 300, 3)\n",
      "<Slide, name = B_213-ST_BFIW-SE_2546_processed>, width=300, height=375, channels=3, levels=1, RGB=True, dtype=uint8> <valis.slide_io.VipsSlideReader object at 0x7f413786b200> True (375, 300, 3)\n"
     ]
    },
    {
     "name": "stderr",
     "output_type": "stream",
     "text": [
      "Converting images:  96%|████████████████████████████████████████████▉  | 2515/2627 [00:29<00:01, 86.49image/s]"
     ]
    },
    {
     "name": "stdout",
     "output_type": "stream",
     "text": [
      "<Slide, name = B_213-ST_BFIW-SE_2547_processed>, width=300, height=375, channels=3, levels=1, RGB=True, dtype=uint8> <valis.slide_io.VipsSlideReader object at 0x7f413786b260> True (375, 300, 3)\n",
      "<Slide, name = B_213-ST_BFIW-SE_2548_processed>, width=300, height=375, channels=3, levels=1, RGB=True, dtype=uint8> <valis.slide_io.VipsSlideReader object at 0x7f413786b2c0> True (375, 300, 3)\n",
      "<Slide, name = B_213-ST_BFIW-SE_2549_processed>, width=300, height=375, channels=3, levels=1, RGB=True, dtype=uint8> <valis.slide_io.VipsSlideReader object at 0x7f413786b320> True (375, 300, 3)\n",
      "<Slide, name = B_213-ST_BFIW-SE_2550_processed>, width=300, height=375, channels=3, levels=1, RGB=True, dtype=uint8> <valis.slide_io.VipsSlideReader object at 0x7f413786b380> True (375, 300, 3)\n",
      "<Slide, name = B_213-ST_BFIW-SE_2551_processed>, width=300, height=375, channels=3, levels=1, RGB=True, dtype=uint8> <valis.slide_io.VipsSlideReader object at 0x7f413786b3e0> True (375, 300, 3)\n",
      "<Slide, name = B_213-ST_BFIW-SE_2552_processed>, width=300, height=375, channels=3, levels=1, RGB=True, dtype=uint8> <valis.slide_io.VipsSlideReader object at 0x7f413786b440> True (375, 300, 3)\n",
      "<Slide, name = B_213-ST_BFIW-SE_2553_processed>, width=300, height=375, channels=3, levels=1, RGB=True, dtype=uint8> <valis.slide_io.VipsSlideReader object at 0x7f413786b4a0> True (375, 300, 3)\n",
      "<Slide, name = B_213-ST_BFIW-SE_2554_processed>, width=300, height=375, channels=3, levels=1, RGB=True, dtype=uint8> <valis.slide_io.VipsSlideReader object at 0x7f413786b500> True (375, 300, 3)\n",
      "<Slide, name = B_213-ST_BFIW-SE_2555_processed>, width=300, height=375, channels=3, levels=1, RGB=True, dtype=uint8> <valis.slide_io.VipsSlideReader object at 0x7f4137873710> True (375, 300, 3)\n"
     ]
    },
    {
     "name": "stderr",
     "output_type": "stream",
     "text": [
      "Converting images:  96%|█████████████████████████████████████████████▏ | 2524/2627 [00:29<00:01, 84.23image/s]"
     ]
    },
    {
     "name": "stdout",
     "output_type": "stream",
     "text": [
      "<Slide, name = B_213-ST_BFIW-SE_2556_processed>, width=300, height=375, channels=3, levels=1, RGB=True, dtype=uint8> <valis.slide_io.VipsSlideReader object at 0x7f4137870890> True (375, 300, 3)\n",
      "<Slide, name = B_213-ST_BFIW-SE_2557_processed>, width=300, height=375, channels=3, levels=1, RGB=True, dtype=uint8> <valis.slide_io.VipsSlideReader object at 0x7f413786b5c0> True (375, 300, 3)\n",
      "<Slide, name = B_213-ST_BFIW-SE_2558_processed>, width=300, height=375, channels=3, levels=1, RGB=True, dtype=uint8> <valis.slide_io.VipsSlideReader object at 0x7f41378737a0> True (375, 300, 3)\n",
      "<Slide, name = B_213-ST_BFIW-SE_2559_processed>, width=300, height=375, channels=3, levels=1, RGB=True, dtype=uint8> <valis.slide_io.VipsSlideReader object at 0x7f4137873590> True (375, 300, 3)\n",
      "<Slide, name = B_213-ST_BFIW-SE_2560_processed>, width=300, height=375, channels=3, levels=1, RGB=True, dtype=uint8> <valis.slide_io.VipsSlideReader object at 0x7f4137870e90> True (375, 300, 3)\n",
      "<Slide, name = B_213-ST_BFIW-SE_2561_processed>, width=300, height=375, channels=3, levels=1, RGB=True, dtype=uint8> <valis.slide_io.VipsSlideReader object at 0x7f413782b860> True (375, 300, 3)\n",
      "<Slide, name = B_213-ST_BFIW-SE_2562_processed>, width=300, height=375, channels=3, levels=1, RGB=True, dtype=uint8> <valis.slide_io.VipsSlideReader object at 0x7f413784b770> True (375, 300, 3)\n",
      "<Slide, name = B_213-ST_BFIW-SE_2563_processed>, width=300, height=375, channels=3, levels=1, RGB=True, dtype=uint8> <valis.slide_io.VipsSlideReader object at 0x7f41378737d0> True (375, 300, 3)\n",
      "<Slide, name = B_213-ST_BFIW-SE_2564_processed>, width=300, height=375, channels=3, levels=1, RGB=True, dtype=uint8> <valis.slide_io.VipsSlideReader object at 0x7f4137873080> True (375, 300, 3)\n"
     ]
    },
    {
     "name": "stderr",
     "output_type": "stream",
     "text": [
      "Converting images:  96%|█████████████████████████████████████████████▎ | 2533/2627 [00:29<00:01, 85.47image/s]"
     ]
    },
    {
     "name": "stdout",
     "output_type": "stream",
     "text": [
      "<Slide, name = B_213-ST_BFIW-SE_2565_processed>, width=300, height=375, channels=3, levels=1, RGB=True, dtype=uint8> <valis.slide_io.VipsSlideReader object at 0x7f4137873890> True (375, 300, 3)\n",
      "<Slide, name = B_213-ST_BFIW-SE_2566_processed>, width=300, height=375, channels=3, levels=1, RGB=True, dtype=uint8> <valis.slide_io.VipsSlideReader object at 0x7f4137833920> True (375, 300, 3)\n",
      "<Slide, name = B_213-ST_BFIW-SE_2567_processed>, width=300, height=375, channels=3, levels=1, RGB=True, dtype=uint8> <valis.slide_io.VipsSlideReader object at 0x7f413786b830> True (375, 300, 3)\n",
      "<Slide, name = B_213-ST_BFIW-SE_2568_processed>, width=300, height=375, channels=3, levels=1, RGB=True, dtype=uint8> <valis.slide_io.VipsSlideReader object at 0x7f41378710a0> True (375, 300, 3)\n",
      "<Slide, name = B_213-ST_BFIW-SE_2569_processed>, width=300, height=375, channels=3, levels=1, RGB=True, dtype=uint8> <valis.slide_io.VipsSlideReader object at 0x7f413786b8c0> True (375, 300, 3)\n",
      "<Slide, name = B_213-ST_BFIW-SE_2570_processed>, width=300, height=375, channels=3, levels=1, RGB=True, dtype=uint8> <valis.slide_io.VipsSlideReader object at 0x7f413786b6e0> True (375, 300, 3)\n",
      "<Slide, name = B_213-ST_BFIW-SE_2571_processed>, width=300, height=375, channels=3, levels=1, RGB=True, dtype=uint8> <valis.slide_io.VipsSlideReader object at 0x7f4137870bc0> True (375, 300, 3)\n",
      "<Slide, name = B_213-ST_BFIW-SE_2572_processed>, width=300, height=375, channels=3, levels=1, RGB=True, dtype=uint8> <valis.slide_io.VipsSlideReader object at 0x7f4137833b60> True (375, 300, 3)\n",
      "<Slide, name = B_213-ST_BFIW-SE_2573_processed>, width=300, height=375, channels=3, levels=1, RGB=True, dtype=uint8> <valis.slide_io.VipsSlideReader object at 0x7f4137833a70> True (375, 300, 3)\n"
     ]
    },
    {
     "name": "stderr",
     "output_type": "stream",
     "text": [
      "Converting images:  97%|█████████████████████████████████████████████▍ | 2542/2627 [00:29<00:00, 86.50image/s]"
     ]
    },
    {
     "name": "stdout",
     "output_type": "stream",
     "text": [
      "<Slide, name = B_213-ST_BFIW-SE_2574_processed>, width=300, height=375, channels=3, levels=1, RGB=True, dtype=uint8> <valis.slide_io.VipsSlideReader object at 0x7f413786bc80> True (375, 300, 3)\n",
      "<Slide, name = B_213-ST_BFIW-SE_2575_processed>, width=300, height=375, channels=3, levels=1, RGB=True, dtype=uint8> <valis.slide_io.VipsSlideReader object at 0x7f4137823ce0> True (375, 300, 3)\n",
      "<Slide, name = B_213-ST_BFIW-SE_2576_processed>, width=300, height=375, channels=3, levels=1, RGB=True, dtype=uint8> <valis.slide_io.VipsSlideReader object at 0x7f413784bd70> True (375, 300, 3)\n",
      "<Slide, name = B_213-ST_BFIW-SE_2577_processed>, width=300, height=375, channels=3, levels=1, RGB=True, dtype=uint8> <valis.slide_io.VipsSlideReader object at 0x7f4137873ad0> True (375, 300, 3)\n",
      "<Slide, name = B_213-ST_BFIW-SE_2578_processed>, width=300, height=375, channels=3, levels=1, RGB=True, dtype=uint8> <valis.slide_io.VipsSlideReader object at 0x7f413784be30> True (375, 300, 3)\n",
      "<Slide, name = B_213-ST_BFIW-SE_2579_processed>, width=300, height=375, channels=3, levels=1, RGB=True, dtype=uint8> <valis.slide_io.VipsSlideReader object at 0x7f413786b9b0> True (375, 300, 3)\n",
      "<Slide, name = B_213-ST_BFIW-SE_2580_processed>, width=300, height=375, channels=3, levels=1, RGB=True, dtype=uint8> <valis.slide_io.VipsSlideReader object at 0x7f4137873b90> True (375, 300, 3)\n",
      "<Slide, name = B_213-ST_BFIW-SE_2581_processed>, width=300, height=375, channels=3, levels=1, RGB=True, dtype=uint8> <valis.slide_io.VipsSlideReader object at 0x7f413784bef0> True (375, 300, 3)\n",
      "<Slide, name = B_213-ST_BFIW-SE_2582_processed>, width=300, height=375, channels=3, levels=1, RGB=True, dtype=uint8> <valis.slide_io.VipsSlideReader object at 0x7f4137873e90> True (375, 300, 3)\n"
     ]
    },
    {
     "name": "stderr",
     "output_type": "stream",
     "text": [
      "Converting images:  97%|█████████████████████████████████████████████▋ | 2551/2627 [00:29<00:00, 86.90image/s]"
     ]
    },
    {
     "name": "stdout",
     "output_type": "stream",
     "text": [
      "<Slide, name = B_213-ST_BFIW-SE_2583_processed>, width=300, height=375, channels=3, levels=1, RGB=True, dtype=uint8> <valis.slide_io.VipsSlideReader object at 0x7f4137873bf0> True (375, 300, 3)\n",
      "<Slide, name = B_213-ST_BFIW-SE_2584_processed>, width=300, height=375, channels=3, levels=1, RGB=True, dtype=uint8> <valis.slide_io.VipsSlideReader object at 0x7f4137873fe0> True (375, 300, 3)\n",
      "<Slide, name = B_213-ST_BFIW-SE_2585_processed>, width=300, height=375, channels=3, levels=1, RGB=True, dtype=uint8> <valis.slide_io.VipsSlideReader object at 0x7f4137873ec0> True (375, 300, 3)\n",
      "<Slide, name = B_213-ST_BFIW-SE_2586_processed>, width=300, height=375, channels=3, levels=1, RGB=True, dtype=uint8> <valis.slide_io.VipsSlideReader object at 0x7f413786c0e0> True (375, 300, 3)\n",
      "<Slide, name = B_213-ST_BFIW-SE_2587_processed>, width=300, height=375, channels=3, levels=1, RGB=True, dtype=uint8> <valis.slide_io.VipsSlideReader object at 0x7f413786c0b0> True (375, 300, 3)\n",
      "<Slide, name = B_213-ST_BFIW-SE_2588_processed>, width=300, height=375, channels=3, levels=1, RGB=True, dtype=uint8> <valis.slide_io.VipsSlideReader object at 0x7f4137874140> True (375, 300, 3)\n",
      "<Slide, name = B_213-ST_BFIW-SE_2589_processed>, width=300, height=375, channels=3, levels=1, RGB=True, dtype=uint8> <valis.slide_io.VipsSlideReader object at 0x7f413786c2c0> True (375, 300, 3)\n",
      "<Slide, name = B_213-ST_BFIW-SE_2590_processed>, width=300, height=375, channels=3, levels=1, RGB=True, dtype=uint8> <valis.slide_io.VipsSlideReader object at 0x7f41378041a0> True (375, 300, 3)\n",
      "<Slide, name = B_213-ST_BFIW-SE_2591_processed>, width=300, height=375, channels=3, levels=1, RGB=True, dtype=uint8> <valis.slide_io.VipsSlideReader object at 0x7f413786c380> True (375, 300, 3)\n"
     ]
    },
    {
     "name": "stderr",
     "output_type": "stream",
     "text": [
      "Converting images:  97%|█████████████████████████████████████████████▊ | 2560/2627 [00:29<00:00, 87.63image/s]"
     ]
    },
    {
     "name": "stdout",
     "output_type": "stream",
     "text": [
      "<Slide, name = B_213-ST_BFIW-SE_2592_processed>, width=300, height=375, channels=3, levels=1, RGB=True, dtype=uint8> <valis.slide_io.VipsSlideReader object at 0x7f41378543e0> True (375, 300, 3)\n",
      "<Slide, name = B_213-ST_BFIW-SE_2593_processed>, width=300, height=375, channels=3, levels=1, RGB=True, dtype=uint8> <valis.slide_io.VipsSlideReader object at 0x7f4137874260> True (375, 300, 3)\n",
      "<Slide, name = B_213-ST_BFIW-SE_2594_processed>, width=300, height=375, channels=3, levels=1, RGB=True, dtype=uint8> <valis.slide_io.VipsSlideReader object at 0x7f4137874590> True (375, 300, 3)\n",
      "<Slide, name = B_213-ST_BFIW-SE_2595_processed>, width=300, height=375, channels=3, levels=1, RGB=True, dtype=uint8> <valis.slide_io.VipsSlideReader object at 0x7f41378745f0> True (375, 300, 3)\n",
      "<Slide, name = B_213-ST_BFIW-SE_2596_processed>, width=300, height=375, channels=3, levels=1, RGB=True, dtype=uint8> <valis.slide_io.VipsSlideReader object at 0x7f4137874350> True (375, 300, 3)\n",
      "<Slide, name = B_213-ST_BFIW-SE_2597_processed>, width=300, height=375, channels=3, levels=1, RGB=True, dtype=uint8> <valis.slide_io.VipsSlideReader object at 0x7f4137874650> True (375, 300, 3)\n",
      "<Slide, name = B_213-ST_BFIW-SE_2598_processed>, width=300, height=375, channels=3, levels=1, RGB=True, dtype=uint8> <valis.slide_io.VipsSlideReader object at 0x7f41378746e0> True (375, 300, 3)\n",
      "<Slide, name = B_213-ST_BFIW-SE_2599_processed>, width=300, height=375, channels=3, levels=1, RGB=True, dtype=uint8> <valis.slide_io.VipsSlideReader object at 0x7f4137874740> True (375, 300, 3)\n",
      "<Slide, name = B_213-ST_BFIW-SE_2600_processed>, width=300, height=375, channels=3, levels=1, RGB=True, dtype=uint8> <valis.slide_io.VipsSlideReader object at 0x7f41378747a0> True (375, 300, 3)\n"
     ]
    },
    {
     "name": "stderr",
     "output_type": "stream",
     "text": [
      "Converting images:  98%|█████████████████████████████████████████████▉ | 2569/2627 [00:30<00:00, 85.46image/s]"
     ]
    },
    {
     "name": "stdout",
     "output_type": "stream",
     "text": [
      "<Slide, name = B_213-ST_BFIW-SE_2601_processed>, width=300, height=375, channels=3, levels=1, RGB=True, dtype=uint8> <valis.slide_io.VipsSlideReader object at 0x7f4137874800> True (375, 300, 3)\n",
      "<Slide, name = B_213-ST_BFIW-SE_2602_processed>, width=300, height=375, channels=3, levels=1, RGB=True, dtype=uint8> <valis.slide_io.VipsSlideReader object at 0x7f4137874860> True (375, 300, 3)\n",
      "<Slide, name = B_213-ST_BFIW-SE_2603_processed>, width=300, height=375, channels=3, levels=1, RGB=True, dtype=uint8> <valis.slide_io.VipsSlideReader object at 0x7f41378748f0> True (375, 300, 3)\n",
      "<Slide, name = B_213-ST_BFIW-SE_2604_processed>, width=300, height=375, channels=3, levels=1, RGB=True, dtype=uint8> <valis.slide_io.VipsSlideReader object at 0x7f4137874950> True (375, 300, 3)\n",
      "<Slide, name = B_213-ST_BFIW-SE_2605_processed>, width=300, height=375, channels=3, levels=1, RGB=True, dtype=uint8> <valis.slide_io.VipsSlideReader object at 0x7f41378749b0> True (375, 300, 3)\n",
      "<Slide, name = B_213-ST_BFIW-SE_2606_processed>, width=300, height=375, channels=3, levels=1, RGB=True, dtype=uint8> <valis.slide_io.VipsSlideReader object at 0x7f4137874a10> True (375, 300, 3)\n",
      "<Slide, name = B_213-ST_BFIW-SE_2607_processed>, width=300, height=375, channels=3, levels=1, RGB=True, dtype=uint8> <valis.slide_io.VipsSlideReader object at 0x7f4137874a70> True (375, 300, 3)\n",
      "<Slide, name = B_213-ST_BFIW-SE_2608_processed>, width=300, height=375, channels=3, levels=1, RGB=True, dtype=uint8> <valis.slide_io.VipsSlideReader object at 0x7f4137874ad0> True (375, 300, 3)\n",
      "<Slide, name = B_213-ST_BFIW-SE_2609_processed>, width=300, height=375, channels=3, levels=1, RGB=True, dtype=uint8> <valis.slide_io.VipsSlideReader object at 0x7f4137874b30> True (375, 300, 3)\n"
     ]
    },
    {
     "name": "stderr",
     "output_type": "stream",
     "text": [
      "Converting images:  98%|██████████████████████████████████████████████ | 2578/2627 [00:30<00:00, 86.18image/s]"
     ]
    },
    {
     "name": "stdout",
     "output_type": "stream",
     "text": [
      "<Slide, name = B_213-ST_BFIW-SE_2610_processed>, width=300, height=375, channels=3, levels=1, RGB=True, dtype=uint8> <valis.slide_io.VipsSlideReader object at 0x7f4137874b90> True (375, 300, 3)\n",
      "<Slide, name = B_213-ST_BFIW-SE_2611_processed>, width=300, height=375, channels=3, levels=1, RGB=True, dtype=uint8> <valis.slide_io.VipsSlideReader object at 0x7f4137874bf0> True (375, 300, 3)\n",
      "<Slide, name = B_213-ST_BFIW-SE_2612_processed>, width=300, height=375, channels=3, levels=1, RGB=True, dtype=uint8> <valis.slide_io.VipsSlideReader object at 0x7f4137874c50> True (375, 300, 3)\n",
      "<Slide, name = B_213-ST_BFIW-SE_2613_processed>, width=300, height=375, channels=3, levels=1, RGB=True, dtype=uint8> <valis.slide_io.VipsSlideReader object at 0x7f4137874cb0> True (375, 300, 3)\n",
      "<Slide, name = B_213-ST_BFIW-SE_2614_processed>, width=300, height=375, channels=3, levels=1, RGB=True, dtype=uint8> <valis.slide_io.VipsSlideReader object at 0x7f4137874d10> True (375, 300, 3)\n",
      "<Slide, name = B_213-ST_BFIW-SE_2615_processed>, width=300, height=375, channels=3, levels=1, RGB=True, dtype=uint8> <valis.slide_io.VipsSlideReader object at 0x7f4137874d70> True (375, 300, 3)\n",
      "<Slide, name = B_213-ST_BFIW-SE_2616_processed>, width=300, height=375, channels=3, levels=1, RGB=True, dtype=uint8> <valis.slide_io.VipsSlideReader object at 0x7f4137874dd0> True (375, 300, 3)\n",
      "<Slide, name = B_213-ST_BFIW-SE_2617_processed>, width=300, height=375, channels=3, levels=1, RGB=True, dtype=uint8> <valis.slide_io.VipsSlideReader object at 0x7f4137874e30> True (375, 300, 3)\n",
      "<Slide, name = B_213-ST_BFIW-SE_2618_processed>, width=300, height=375, channels=3, levels=1, RGB=True, dtype=uint8> <valis.slide_io.VipsSlideReader object at 0x7f4137874e90> True (375, 300, 3)\n"
     ]
    },
    {
     "name": "stderr",
     "output_type": "stream",
     "text": [
      "Converting images:  98%|██████████████████████████████████████████████▎| 2587/2627 [00:30<00:00, 82.31image/s]"
     ]
    },
    {
     "name": "stdout",
     "output_type": "stream",
     "text": [
      "<Slide, name = B_213-ST_BFIW-SE_2619_processed>, width=300, height=375, channels=3, levels=1, RGB=True, dtype=uint8> <valis.slide_io.VipsSlideReader object at 0x7f4137874ef0> True (375, 300, 3)\n",
      "<Slide, name = B_213-ST_BFIW-SE_2620_processed>, width=300, height=375, channels=3, levels=1, RGB=True, dtype=uint8> <valis.slide_io.VipsSlideReader object at 0x7f4137874f50> True (375, 300, 3)\n",
      "<Slide, name = B_213-ST_BFIW-SE_2621_processed>, width=300, height=375, channels=3, levels=1, RGB=True, dtype=uint8> <valis.slide_io.VipsSlideReader object at 0x7f4137874fb0> True (375, 300, 3)\n",
      "<Slide, name = B_213-ST_BFIW-SE_2622_processed>, width=300, height=375, channels=3, levels=1, RGB=True, dtype=uint8> <valis.slide_io.VipsSlideReader object at 0x7f4137875010> True (375, 300, 3)\n",
      "<Slide, name = B_213-ST_BFIW-SE_2623_processed>, width=300, height=375, channels=3, levels=1, RGB=True, dtype=uint8> <valis.slide_io.VipsSlideReader object at 0x7f4137875070> True (375, 300, 3)\n",
      "<Slide, name = B_213-ST_BFIW-SE_2624_processed>, width=300, height=375, channels=3, levels=1, RGB=True, dtype=uint8> <valis.slide_io.VipsSlideReader object at 0x7f41378750d0> True (375, 300, 3)\n",
      "<Slide, name = B_213-ST_BFIW-SE_2625_processed>, width=300, height=375, channels=3, levels=1, RGB=True, dtype=uint8> <valis.slide_io.VipsSlideReader object at 0x7f4137875130> True (375, 300, 3)\n",
      "<Slide, name = B_213-ST_BFIW-SE_2626_processed>, width=300, height=375, channels=3, levels=1, RGB=True, dtype=uint8> <valis.slide_io.VipsSlideReader object at 0x7f4137875190> True (375, 300, 3)\n",
      "<Slide, name = B_213-ST_BFIW-SE_2627_processed>, width=300, height=375, channels=3, levels=1, RGB=True, dtype=uint8> <valis.slide_io.VipsSlideReader object at 0x7f41378751f0> True (375, 300, 3)\n"
     ]
    },
    {
     "name": "stderr",
     "output_type": "stream",
     "text": [
      "Converting images:  99%|██████████████████████████████████████████████▍| 2596/2627 [00:30<00:00, 83.56image/s]"
     ]
    },
    {
     "name": "stdout",
     "output_type": "stream",
     "text": [
      "<Slide, name = B_213-ST_BFIW-SE_2628_processed>, width=300, height=375, channels=3, levels=1, RGB=True, dtype=uint8> <valis.slide_io.VipsSlideReader object at 0x7f4137875250> True (375, 300, 3)\n",
      "<Slide, name = B_213-ST_BFIW-SE_2629_processed>, width=300, height=375, channels=3, levels=1, RGB=True, dtype=uint8> <valis.slide_io.VipsSlideReader object at 0x7f41378752b0> True (375, 300, 3)\n",
      "<Slide, name = B_213-ST_BFIW-SE_2630_processed>, width=300, height=375, channels=3, levels=1, RGB=True, dtype=uint8> <valis.slide_io.VipsSlideReader object at 0x7f4137875310> True (375, 300, 3)\n",
      "<Slide, name = B_213-ST_BFIW-SE_2631_processed>, width=300, height=375, channels=3, levels=1, RGB=True, dtype=uint8> <valis.slide_io.VipsSlideReader object at 0x7f4137875370> True (375, 300, 3)\n",
      "<Slide, name = B_213-ST_BFIW-SE_2632_processed>, width=300, height=375, channels=3, levels=1, RGB=True, dtype=uint8> <valis.slide_io.VipsSlideReader object at 0x7f41378753d0> True (375, 300, 3)\n",
      "<Slide, name = B_213-ST_BFIW-SE_2633_processed>, width=300, height=375, channels=3, levels=1, RGB=True, dtype=uint8> <valis.slide_io.VipsSlideReader object at 0x7f4137875430> True (375, 300, 3)\n",
      "<Slide, name = B_213-ST_BFIW-SE_2634_processed>, width=300, height=375, channels=3, levels=1, RGB=True, dtype=uint8> <valis.slide_io.VipsSlideReader object at 0x7f4137875490> True (375, 300, 3)\n",
      "<Slide, name = B_213-ST_BFIW-SE_2635_processed>, width=300, height=375, channels=3, levels=1, RGB=True, dtype=uint8> <valis.slide_io.VipsSlideReader object at 0x7f41378754f0> True (375, 300, 3)\n",
      "<Slide, name = B_213-ST_BFIW-SE_2636_processed>, width=300, height=375, channels=3, levels=1, RGB=True, dtype=uint8> <valis.slide_io.VipsSlideReader object at 0x7f4137875550> True (375, 300, 3)\n"
     ]
    },
    {
     "name": "stderr",
     "output_type": "stream",
     "text": [
      "Converting images:  99%|██████████████████████████████████████████████▌| 2605/2627 [00:30<00:00, 85.01image/s]"
     ]
    },
    {
     "name": "stdout",
     "output_type": "stream",
     "text": [
      "<Slide, name = B_213-ST_BFIW-SE_2637_processed>, width=300, height=375, channels=3, levels=1, RGB=True, dtype=uint8> <valis.slide_io.VipsSlideReader object at 0x7f41378755b0> True (375, 300, 3)\n",
      "<Slide, name = B_213-ST_BFIW-SE_2638_processed>, width=300, height=375, channels=3, levels=1, RGB=True, dtype=uint8> <valis.slide_io.VipsSlideReader object at 0x7f4137875610> True (375, 300, 3)\n",
      "<Slide, name = B_213-ST_BFIW-SE_2639_processed>, width=300, height=375, channels=3, levels=1, RGB=True, dtype=uint8> <valis.slide_io.VipsSlideReader object at 0x7f4137875670> True (375, 300, 3)\n",
      "<Slide, name = B_213-ST_BFIW-SE_2640_processed>, width=300, height=375, channels=3, levels=1, RGB=True, dtype=uint8> <valis.slide_io.VipsSlideReader object at 0x7f41378756d0> True (375, 300, 3)\n",
      "<Slide, name = B_213-ST_BFIW-SE_2641_processed>, width=300, height=375, channels=3, levels=1, RGB=True, dtype=uint8> <valis.slide_io.VipsSlideReader object at 0x7f4137875730> True (375, 300, 3)\n",
      "<Slide, name = B_213-ST_BFIW-SE_2642_processed>, width=300, height=375, channels=3, levels=1, RGB=True, dtype=uint8> <valis.slide_io.VipsSlideReader object at 0x7f4137875790> True (375, 300, 3)\n",
      "<Slide, name = B_213-ST_BFIW-SE_2643_processed>, width=300, height=375, channels=3, levels=1, RGB=True, dtype=uint8> <valis.slide_io.VipsSlideReader object at 0x7f41378757f0> True (375, 300, 3)\n",
      "<Slide, name = B_213-ST_BFIW-SE_2644_processed>, width=300, height=375, channels=3, levels=1, RGB=True, dtype=uint8> <valis.slide_io.VipsSlideReader object at 0x7f4137875850> True (375, 300, 3)\n",
      "<Slide, name = B_213-ST_BFIW-SE_2645_processed>, width=300, height=375, channels=3, levels=1, RGB=True, dtype=uint8> <valis.slide_io.VipsSlideReader object at 0x7f41378758b0> True (375, 300, 3)\n"
     ]
    },
    {
     "name": "stderr",
     "output_type": "stream",
     "text": [
      "Converting images: 100%|██████████████████████████████████████████████▊| 2614/2627 [00:30<00:00, 86.05image/s]"
     ]
    },
    {
     "name": "stdout",
     "output_type": "stream",
     "text": [
      "<Slide, name = B_213-ST_BFIW-SE_2646_processed>, width=300, height=375, channels=3, levels=1, RGB=True, dtype=uint8> <valis.slide_io.VipsSlideReader object at 0x7f4137875910> True (375, 300, 3)\n",
      "<Slide, name = B_213-ST_BFIW-SE_2647_processed>, width=300, height=375, channels=3, levels=1, RGB=True, dtype=uint8> <valis.slide_io.VipsSlideReader object at 0x7f4137875970> True (375, 300, 3)\n",
      "<Slide, name = B_213-ST_BFIW-SE_2648_processed>, width=300, height=375, channels=3, levels=1, RGB=True, dtype=uint8> <valis.slide_io.VipsSlideReader object at 0x7f41378759d0> True (375, 300, 3)\n",
      "<Slide, name = B_213-ST_BFIW-SE_2649_processed>, width=300, height=375, channels=3, levels=1, RGB=True, dtype=uint8> <valis.slide_io.VipsSlideReader object at 0x7f4137875a30> True (375, 300, 3)\n",
      "<Slide, name = B_213-ST_BFIW-SE_2650_processed>, width=300, height=375, channels=3, levels=1, RGB=True, dtype=uint8> <valis.slide_io.VipsSlideReader object at 0x7f4137875a90> True (375, 300, 3)\n",
      "<Slide, name = B_213-ST_BFIW-SE_2651_processed>, width=300, height=375, channels=3, levels=1, RGB=True, dtype=uint8> <valis.slide_io.VipsSlideReader object at 0x7f4137875af0> True (375, 300, 3)\n",
      "<Slide, name = B_213-ST_BFIW-SE_2652_processed>, width=300, height=375, channels=3, levels=1, RGB=True, dtype=uint8> <valis.slide_io.VipsSlideReader object at 0x7f4137875b50> True (375, 300, 3)\n",
      "<Slide, name = B_213-ST_BFIW-SE_2653_processed>, width=300, height=375, channels=3, levels=1, RGB=True, dtype=uint8> <valis.slide_io.VipsSlideReader object at 0x7f4137875bb0> True (375, 300, 3)\n",
      "<Slide, name = B_213-ST_BFIW-SE_2654_processed>, width=300, height=375, channels=3, levels=1, RGB=True, dtype=uint8> <valis.slide_io.VipsSlideReader object at 0x7f4137875c10> True (375, 300, 3)\n"
     ]
    },
    {
     "name": "stderr",
     "output_type": "stream",
     "text": [
      "Converting images: 100%|██████████████████████████████████████████████▉| 2623/2627 [00:30<00:00, 86.68image/s]"
     ]
    },
    {
     "name": "stdout",
     "output_type": "stream",
     "text": [
      "<Slide, name = B_213-ST_BFIW-SE_2655_processed>, width=300, height=375, channels=3, levels=1, RGB=True, dtype=uint8> <valis.slide_io.VipsSlideReader object at 0x7f4137875c70> True (375, 300, 3)\n",
      "<Slide, name = B_213-ST_BFIW-SE_2656_processed>, width=300, height=375, channels=3, levels=1, RGB=True, dtype=uint8> <valis.slide_io.VipsSlideReader object at 0x7f4137875cd0> True (375, 300, 3)\n",
      "<Slide, name = B_213-ST_BFIW-SE_10000_processed>, width=300, height=375, channels=3, levels=1, RGB=True, dtype=uint8> <valis.slide_io.VipsSlideReader object at 0x7f4137875d30> True (375, 300, 3)\n",
      "<Slide, name = B_213-ST_BFIW-SE_10001_processed>, width=300, height=375, channels=3, levels=1, RGB=True, dtype=uint8> <valis.slide_io.VipsSlideReader object at 0x7f4137875d90> True (375, 300, 3)\n"
     ]
    },
    {
     "name": "stderr",
     "output_type": "stream",
     "text": [
      "Converting images: 100%|███████████████████████████████████████████████| 2627/2627 [00:30<00:00, 85.41image/s]\n"
     ]
    },
    {
     "name": "stdout",
     "output_type": "stream",
     "text": [
      "\n",
      "==== Processing images\n",
      "\n"
     ]
    },
    {
     "name": "stderr",
     "output_type": "stream",
     "text": [
      "Processing images : 100%|██████████████████████████████████████████████| 2627/2627 [19:26<00:00,  2.25image/s]\n",
      "Normalizing images: 100%|██████████████████████████████████████████████| 2627/2627 [03:32<00:00, 12.37image/s]\n"
     ]
    },
    {
     "name": "stdout",
     "output_type": "stream",
     "text": [
      "\n",
      "==== Rigid registration\n",
      "\n"
     ]
    },
    {
     "name": "stderr",
     "output_type": "stream",
     "text": [
      "/usr/local/src/valis/valtils.py:25: UserWarning: ('The reference was specified as B_213-ST_BFIW-SE_1606_processed ', 'but `align_to_reference` is `False`, and so images will be aligned serially *towards* the reference image. ', 'If you would like all images to be *directly* aligned to B_213-ST_BFIW-SE_1606_processed, then set `align_to_reference` to `True`. Note that in both cases, B_213-ST_BFIW-SE_1606_processed will remain unwarped.')\n",
      "  warnings.warn(warning_msg, warning_type)\n",
      "Detecting features   : 100%|███████████████████████████████████████████| 2627/2627 [01:44<00:00, 25.24image/s]\n"
     ]
    },
    {
     "data": {
      "application/vnd.jupyter.widget-view+json": {
       "model_id": "",
       "version_major": 2,
       "version_minor": 0
      },
      "text/plain": [
       "QUEUEING TASKS | Matching images      :   0%|          | 0/2627 [00:00<?, ?image/s]"
      ]
     },
     "metadata": {},
     "output_type": "display_data"
    },
    {
     "name": "stderr",
     "output_type": "stream",
     "text": [
      "OpenBLAS warning: precompiled NUM_THREADS exceeded, adding auxiliary array for thread metadata.\n",
      "To avoid this warning, please rebuild your copy of OpenBLAS with a larger NUM_THREADS setting\n",
      "or set the environment variable OPENBLAS_NUM_THREADS to 128 or lower\n"
     ]
    },
    {
     "data": {
      "application/vnd.jupyter.widget-view+json": {
       "model_id": "56bc94af31ad43c18231fcf84ae30700",
       "version_major": 2,
       "version_minor": 0
      },
      "text/plain": [
       "PROCESSING TASKS | Matching images      :   0%|          | 0/2627 [00:00<?, ?image/s]"
      ]
     },
     "metadata": {},
     "output_type": "display_data"
    },
    {
     "name": "stderr",
     "output_type": "stream",
     "text": [
      "/usr/local/src/.venv/lib/python3.12/site-packages/skimage/transform/_geometric.py:136: RuntimeWarning: Mean of empty slice.\n",
      "  src_mean = src.mean(axis=0)\n",
      "/usr/local/src/.venv/lib/python3.12/site-packages/numpy/core/_methods.py:121: RuntimeWarning: invalid value encountered in divide\n",
      "  ret = um.true_divide(\n",
      "/usr/local/src/.venv/lib/python3.12/site-packages/skimage/transform/_geometric.py:137: RuntimeWarning: Mean of empty slice.\n",
      "  dst_mean = dst.mean(axis=0)\n",
      "/usr/local/src/valis/valtils.py:25: UserWarning: /usr/local/src/.venv/lib/python3.12/site-packages/numpy/core/_methods.py:121: RuntimeWarning: invalid value encountered in divide\n",
      "  ret = um.true_divide(\n",
      "Need at least 4 keypoints for RANSAC filtering, but only have 2/usr/local/src/.venv/lib/python3.12/site-packages/skimage/transform/_geometric.py:144: RuntimeWarning: invalid value encountered in divide\n",
      "  A = dst_demean.T @ src_demean / num\n",
      "\n",
      "  warnings.warn(warning_msg, warning_type)\n"
     ]
    },
    {
     "name": "stdout",
     "output_type": "stream",
     "text": [
      "NoneType: None\n",
      "\n"
     ]
    },
    {
     "name": "stderr",
     "output_type": "stream",
     "text": [
      "/usr/local/src/.venv/lib/python3.12/site-packages/numpy/linalg/linalg.py:2180: RuntimeWarning: invalid value encountered in det\n",
      "  r = _umath_linalg.det(a, signature=signature)\n",
      "/usr/local/src/.venv/lib/python3.12/site-packages/skimage/transform/_geometric.py:136: RuntimeWarning: Mean of empty slice.\n",
      "  src_mean = src.mean(axis=0)\n",
      "/usr/local/src/.venv/lib/python3.12/site-packages/numpy/core/_methods.py:121: RuntimeWarning: invalid value encountered in divide\n",
      "  ret = um.true_divide(\n",
      "/usr/local/src/.venv/lib/python3.12/site-packages/skimage/transform/_geometric.py:137: RuntimeWarning: Mean of empty slice.\n",
      "  dst_mean = dst.mean(axis=0)\n",
      "/usr/local/src/.venv/lib/python3.12/site-packages/numpy/core/_methods.py:121: RuntimeWarning: invalid value encountered in divide\n",
      "  ret = um.true_divide(\n",
      "/usr/local/src/.venv/lib/python3.12/site-packages/skimage/transform/_geometric.py:144: RuntimeWarning: invalid value encountered in divide\n",
      "  A = dst_demean.T @ src_demean / num\n",
      "/usr/local/src/.venv/lib/python3.12/site-packages/numpy/linalg/linalg.py:2180: RuntimeWarning: invalid value encountered in det\n",
      "  r = _umath_linalg.det(a, signature=signature)\n",
      "/usr/local/src/valis/valtils.py:25: UserWarning: Need at least 4 keypoints for RANSAC filtering, but only have 3\n",
      "  warnings.warn(warning_msg, warning_type)\n"
     ]
    },
    {
     "name": "stdout",
     "output_type": "stream",
     "text": [
      "NoneType: None\n",
      "\n"
     ]
    },
    {
     "name": "stderr",
     "output_type": "stream",
     "text": [
      "/usr/local/src/.venv/lib/python3.12/site-packages/skimage/transform/_geometric.py:136: RuntimeWarning: Mean of empty slice.\n",
      "  src_mean = src.mean(axis=0)\n",
      "/usr/local/src/.venv/lib/python3.12/site-packages/numpy/core/_methods.py:121: RuntimeWarning: invalid value encountered in divide\n",
      "  ret = um.true_divide(\n",
      "/usr/local/src/.venv/lib/python3.12/site-packages/skimage/transform/_geometric.py:137: RuntimeWarning: Mean of empty slice.\n",
      "  dst_mean = dst.mean(axis=0)\n",
      "/usr/local/src/.venv/lib/python3.12/site-packages/numpy/core/_methods.py:121: RuntimeWarning: invalid value encountered in divide\n",
      "  ret = um.true_divide(\n",
      "/usr/local/src/.venv/lib/python3.12/site-packages/skimage/transform/_geometric.py:144: RuntimeWarning: invalid value encountered in divide\n",
      "  A = dst_demean.T @ src_demean / num\n",
      "/usr/local/src/.venv/lib/python3.12/site-packages/numpy/linalg/linalg.py:2180: RuntimeWarning: invalid value encountered in det\n",
      "  r = _umath_linalg.det(a, signature=signature)\n",
      "/usr/local/src/.venv/lib/python3.12/site-packages/skimage/transform/_geometric.py:136: RuntimeWarning: Mean of empty slice.\n",
      "  src_mean = src.mean(axis=0)\n",
      "/usr/local/src/.venv/lib/python3.12/site-packages/numpy/core/_methods.py:121: RuntimeWarning: invalid value encountered in divide\n",
      "  ret = um.true_divide(\n",
      "/usr/local/src/.venv/lib/python3.12/site-packages/skimage/transform/_geometric.py:137: RuntimeWarning: Mean of empty slice.\n",
      "  dst_mean = dst.mean(axis=0)\n",
      "/usr/local/src/.venv/lib/python3.12/site-packages/skimage/transform/_geometric.py:136: RuntimeWarning: Mean of empty slice.\n",
      "  src_mean = src.mean(axis=0)\n",
      "/usr/local/src/.venv/lib/python3.12/site-packages/numpy/core/_methods.py:121: RuntimeWarning: invalid value encountered in divide\n",
      "  ret = um.true_divide(\n",
      "/usr/local/src/.venv/lib/python3.12/site-packages/skimage/transform/_geometric.py:137: RuntimeWarning: Mean of empty slice.\n",
      "  dst_mean = dst.mean(axis=0)\n",
      "/usr/local/src/.venv/lib/python3.12/site-packages/numpy/core/_methods.py:121: RuntimeWarning: invalid value encountered in divide\n",
      "  ret = um.true_divide(\n",
      "/usr/local/src/.venv/lib/python3.12/site-packages/skimage/transform/_geometric.py:144: RuntimeWarning: invalid value encountered in divide\n",
      "  A = dst_demean.T @ src_demean / num\n",
      "/usr/local/src/.venv/lib/python3.12/site-packages/numpy/core/_methods.py:121: RuntimeWarning: invalid value encountered in divide\n",
      "  ret = um.true_divide(\n",
      "/usr/local/src/.venv/lib/python3.12/site-packages/numpy/linalg/linalg.py:2180: RuntimeWarning: invalid value encountered in det\n",
      "  r = _umath_linalg.det(a, signature=signature)\n",
      "/usr/local/src/.venv/lib/python3.12/site-packages/skimage/transform/_geometric.py:144: RuntimeWarning: invalid value encountered in divide\n",
      "  A = dst_demean.T @ src_demean / num\n",
      "/usr/local/src/.venv/lib/python3.12/site-packages/numpy/linalg/linalg.py:2180: RuntimeWarning: invalid value encountered in det\n",
      "  r = _umath_linalg.det(a, signature=signature)\n",
      "/usr/local/src/.venv/lib/python3.12/site-packages/skimage/transform/_geometric.py:136: RuntimeWarning: Mean of empty slice.\n",
      "  src_mean = src.mean(axis=0)\n",
      "/usr/local/src/.venv/lib/python3.12/site-packages/numpy/core/_methods.py:121: RuntimeWarning: invalid value encountered in divide\n",
      "  ret = um.true_divide(\n",
      "/usr/local/src/.venv/lib/python3.12/site-packages/skimage/transform/_geometric.py:137: RuntimeWarning: Mean of empty slice.\n",
      "  dst_mean = dst.mean(axis=0)\n",
      "/usr/local/src/.venv/lib/python3.12/site-packages/numpy/core/_methods.py:121: RuntimeWarning: invalid value encountered in divide\n",
      "  ret = um.true_divide(\n",
      "/usr/local/src/.venv/lib/python3.12/site-packages/skimage/transform/_geometric.py:144: RuntimeWarning: invalid value encountered in divide\n",
      "  A = dst_demean.T @ src_demean / num\n",
      "/usr/local/src/.venv/lib/python3.12/site-packages/numpy/linalg/linalg.py:2180: RuntimeWarning: invalid value encountered in det\n",
      "  r = _umath_linalg.det(a, signature=signature)\n",
      "/usr/local/src/.venv/lib/python3.12/site-packages/skimage/transform/_geometric.py:136: RuntimeWarning: Mean of empty slice.\n",
      "  src_mean = src.mean(axis=0)\n",
      "/usr/local/src/.venv/lib/python3.12/site-packages/numpy/core/_methods.py:121: RuntimeWarning: invalid value encountered in divide\n",
      "  ret = um.true_divide(\n",
      "/usr/local/src/.venv/lib/python3.12/site-packages/skimage/transform/_geometric.py:137: RuntimeWarning: Mean of empty slice.\n",
      "  dst_mean = dst.mean(axis=0)\n",
      "/usr/local/src/.venv/lib/python3.12/site-packages/numpy/core/_methods.py:121: RuntimeWarning: invalid value encountered in divide\n",
      "  ret = um.true_divide(\n",
      "/usr/local/src/.venv/lib/python3.12/site-packages/skimage/transform/_geometric.py:144: RuntimeWarning: invalid value encountered in divide\n",
      "  A = dst_demean.T @ src_demean / num\n",
      "/usr/local/src/.venv/lib/python3.12/site-packages/numpy/linalg/linalg.py:2180: RuntimeWarning: invalid value encountered in det\n",
      "  r = _umath_linalg.det(a, signature=signature)\n",
      "/usr/local/src/.venv/lib/python3.12/site-packages/skimage/transform/_geometric.py:136: RuntimeWarning: Mean of empty slice.\n",
      "  src_mean = src.mean(axis=0)\n",
      "/usr/local/src/.venv/lib/python3.12/site-packages/numpy/core/_methods.py:121: RuntimeWarning: invalid value encountered in divide\n",
      "  ret = um.true_divide(\n",
      "/usr/local/src/.venv/lib/python3.12/site-packages/skimage/transform/_geometric.py:137: RuntimeWarning: Mean of empty slice.\n",
      "  dst_mean = dst.mean(axis=0)\n",
      "/usr/local/src/.venv/lib/python3.12/site-packages/skimage/transform/_geometric.py:136: RuntimeWarning: Mean of empty slice.\n",
      "  src_mean = src.mean(axis=0)\n",
      "/usr/local/src/.venv/lib/python3.12/site-packages/numpy/core/_methods.py:121: RuntimeWarning: invalid value encountered in divide\n",
      "  ret = um.true_divide(\n",
      "/usr/local/src/.venv/lib/python3.12/site-packages/numpy/core/_methods.py:121: RuntimeWarning: invalid value encountered in divide\n",
      "  ret = um.true_divide(\n",
      "/usr/local/src/.venv/lib/python3.12/site-packages/skimage/transform/_geometric.py:144: RuntimeWarning: invalid value encountered in divide\n",
      "  A = dst_demean.T @ src_demean / num\n",
      "/usr/local/src/.venv/lib/python3.12/site-packages/numpy/linalg/linalg.py:2180: RuntimeWarning: invalid value encountered in det\n",
      "  r = _umath_linalg.det(a, signature=signature)\n",
      "/usr/local/src/.venv/lib/python3.12/site-packages/skimage/transform/_geometric.py:137: RuntimeWarning: Mean of empty slice.\n",
      "  dst_mean = dst.mean(axis=0)\n",
      "/usr/local/src/.venv/lib/python3.12/site-packages/numpy/core/_methods.py:121: RuntimeWarning: invalid value encountered in divide\n",
      "  ret = um.true_divide(\n",
      "/usr/local/src/.venv/lib/python3.12/site-packages/skimage/transform/_geometric.py:144: RuntimeWarning: invalid value encountered in divide\n",
      "  A = dst_demean.T @ src_demean / num\n",
      "/usr/local/src/.venv/lib/python3.12/site-packages/numpy/linalg/linalg.py:2180: RuntimeWarning: invalid value encountered in det\n",
      "  r = _umath_linalg.det(a, signature=signature)\n",
      "/usr/local/src/.venv/lib/python3.12/site-packages/skimage/transform/_geometric.py:136: RuntimeWarning: Mean of empty slice.\n",
      "  src_mean = src.mean(axis=0)\n",
      "/usr/local/src/.venv/lib/python3.12/site-packages/numpy/core/_methods.py:121: RuntimeWarning: invalid value encountered in divide\n",
      "  ret = um.true_divide(\n",
      "/usr/local/src/.venv/lib/python3.12/site-packages/skimage/transform/_geometric.py:137: RuntimeWarning: Mean of empty slice.\n",
      "  dst_mean = dst.mean(axis=0)\n",
      "/usr/local/src/.venv/lib/python3.12/site-packages/numpy/core/_methods.py:121: RuntimeWarning: invalid value encountered in divide\n",
      "  ret = um.true_divide(\n",
      "/usr/local/src/.venv/lib/python3.12/site-packages/skimage/transform/_geometric.py:144: RuntimeWarning: invalid value encountered in divide\n",
      "  A = dst_demean.T @ src_demean / num\n",
      "/usr/local/src/.venv/lib/python3.12/site-packages/numpy/linalg/linalg.py:2180: RuntimeWarning: invalid value encountered in det\n",
      "  r = _umath_linalg.det(a, signature=signature)\n",
      "/usr/local/src/.venv/lib/python3.12/site-packages/skimage/transform/_geometric.py:136: RuntimeWarning: Mean of empty slice.\n",
      "  src_mean = src.mean(axis=0)\n",
      "/usr/local/src/.venv/lib/python3.12/site-packages/numpy/core/_methods.py:121: RuntimeWarning: invalid value encountered in divide\n",
      "  ret = um.true_divide(\n",
      "/usr/local/src/.venv/lib/python3.12/site-packages/skimage/transform/_geometric.py:137: RuntimeWarning: Mean of empty slice.\n",
      "  dst_mean = dst.mean(axis=0)\n",
      "/usr/local/src/.venv/lib/python3.12/site-packages/numpy/core/_methods.py:121: RuntimeWarning: invalid value encountered in divide\n",
      "  ret = um.true_divide(\n",
      "/usr/local/src/.venv/lib/python3.12/site-packages/skimage/transform/_geometric.py:144: RuntimeWarning: invalid value encountered in divide\n",
      "  A = dst_demean.T @ src_demean / num\n",
      "/usr/local/src/.venv/lib/python3.12/site-packages/numpy/linalg/linalg.py:2180: RuntimeWarning: invalid value encountered in det\n",
      "  r = _umath_linalg.det(a, signature=signature)\n",
      "/usr/local/src/.venv/lib/python3.12/site-packages/skimage/transform/_geometric.py:136: RuntimeWarning: Mean of empty slice.\n",
      "  src_mean = src.mean(axis=0)\n",
      "/usr/local/src/.venv/lib/python3.12/site-packages/numpy/core/_methods.py:121: RuntimeWarning: invalid value encountered in divide\n",
      "  ret = um.true_divide(\n",
      "/usr/local/src/.venv/lib/python3.12/site-packages/skimage/transform/_geometric.py:137: RuntimeWarning: Mean of empty slice.\n",
      "  dst_mean = dst.mean(axis=0)\n",
      "/usr/local/src/.venv/lib/python3.12/site-packages/numpy/core/_methods.py:121: RuntimeWarning: invalid value encountered in divide\n",
      "  ret = um.true_divide(\n",
      "/usr/local/src/.venv/lib/python3.12/site-packages/skimage/transform/_geometric.py:144: RuntimeWarning: invalid value encountered in divide\n",
      "  A = dst_demean.T @ src_demean / num\n",
      "/usr/local/src/.venv/lib/python3.12/site-packages/numpy/linalg/linalg.py:2180: RuntimeWarning: invalid value encountered in det\n",
      "  r = _umath_linalg.det(a, signature=signature)\n",
      "/usr/local/src/.venv/lib/python3.12/site-packages/skimage/transform/_geometric.py:136: RuntimeWarning: Mean of empty slice.\n",
      "  src_mean = src.mean(axis=0)\n",
      "/usr/local/src/.venv/lib/python3.12/site-packages/numpy/core/_methods.py:121: RuntimeWarning: invalid value encountered in divide\n",
      "  ret = um.true_divide(\n",
      "/usr/local/src/.venv/lib/python3.12/site-packages/skimage/transform/_geometric.py:137: RuntimeWarning: Mean of empty slice.\n",
      "  dst_mean = dst.mean(axis=0)\n",
      "/usr/local/src/.venv/lib/python3.12/site-packages/numpy/core/_methods.py:121: RuntimeWarning: invalid value encountered in divide\n",
      "  ret = um.true_divide(\n",
      "/usr/local/src/.venv/lib/python3.12/site-packages/skimage/transform/_geometric.py:144: RuntimeWarning: invalid value encountered in divide\n",
      "  A = dst_demean.T @ src_demean / num\n",
      "/usr/local/src/valis/valtils.py:25: UserWarning: Need at least 4 keypoints for RANSAC filtering, but only have 3/usr/local/src/.venv/lib/python3.12/site-packages/numpy/linalg/linalg.py:2180: RuntimeWarning: invalid value encountered in det\n",
      "  r = _umath_linalg.det(a, signature=signature)\n",
      "\n",
      "  warnings.warn(warning_msg, warning_type)\n",
      "/usr/local/src/.venv/lib/python3.12/site-packages/skimage/transform/_geometric.py:136: RuntimeWarning: Mean of empty slice.\n",
      "  src_mean = src.mean(axis=0)\n"
     ]
    },
    {
     "name": "stdout",
     "output_type": "stream",
     "text": [
      "NoneType: None\n"
     ]
    },
    {
     "name": "stderr",
     "output_type": "stream",
     "text": [
      "/usr/local/src/.venv/lib/python3.12/site-packages/numpy/core/_methods.py:121: RuntimeWarning: invalid value encountered in divide\n",
      "  ret = um.true_divide(\n"
     ]
    },
    {
     "name": "stdout",
     "output_type": "stream",
     "text": [
      "\n"
     ]
    },
    {
     "name": "stderr",
     "output_type": "stream",
     "text": [
      "/usr/local/src/.venv/lib/python3.12/site-packages/skimage/transform/_geometric.py:137: RuntimeWarning: Mean of empty slice.\n",
      "  dst_mean = dst.mean(axis=0)\n",
      "/usr/local/src/.venv/lib/python3.12/site-packages/numpy/core/_methods.py:121: RuntimeWarning: invalid value encountered in divide\n",
      "  ret = um.true_divide(\n",
      "/usr/local/src/.venv/lib/python3.12/site-packages/skimage/transform/_geometric.py:144: RuntimeWarning: invalid value encountered in divide\n",
      "  A = dst_demean.T @ src_demean / num\n",
      "/usr/local/src/.venv/lib/python3.12/site-packages/numpy/linalg/linalg.py:2180: RuntimeWarning: invalid value encountered in det\n",
      "  r = _umath_linalg.det(a, signature=signature)\n",
      "/usr/local/src/.venv/lib/python3.12/site-packages/skimage/transform/_geometric.py:136: RuntimeWarning: Mean of empty slice.\n",
      "  src_mean = src.mean(axis=0)\n",
      "/usr/local/src/.venv/lib/python3.12/site-packages/numpy/core/_methods.py:121: RuntimeWarning: invalid value encountered in divide\n",
      "  ret = um.true_divide(\n",
      "/usr/local/src/.venv/lib/python3.12/site-packages/skimage/transform/_geometric.py:137: RuntimeWarning: Mean of empty slice.\n",
      "  dst_mean = dst.mean(axis=0)\n",
      "/usr/local/src/.venv/lib/python3.12/site-packages/numpy/core/_methods.py:121: RuntimeWarning: invalid value encountered in divide\n",
      "  ret = um.true_divide(\n",
      "/usr/local/src/.venv/lib/python3.12/site-packages/skimage/transform/_geometric.py:144: RuntimeWarning: invalid value encountered in divide\n",
      "  A = dst_demean.T @ src_demean / num\n",
      "/usr/local/src/.venv/lib/python3.12/site-packages/numpy/linalg/linalg.py:2180: RuntimeWarning: invalid value encountered in det\n",
      "  r = _umath_linalg.det(a, signature=signature)\n",
      "/usr/local/src/valis/valtils.py:25: UserWarning: Need at least 4 keypoints for RANSAC filtering, but only have 3\n",
      "  warnings.warn(warning_msg, warning_type)\n"
     ]
    },
    {
     "name": "stdout",
     "output_type": "stream",
     "text": [
      "NoneType: None\n",
      "\n"
     ]
    },
    {
     "name": "stderr",
     "output_type": "stream",
     "text": [
      "/usr/local/src/.venv/lib/python3.12/site-packages/skimage/transform/_geometric.py:136: RuntimeWarning: Mean of empty slice.\n",
      "  src_mean = src.mean(axis=0)\n",
      "/usr/local/src/.venv/lib/python3.12/site-packages/numpy/core/_methods.py:121: RuntimeWarning: invalid value encountered in divide\n",
      "  ret = um.true_divide(\n",
      "/usr/local/src/.venv/lib/python3.12/site-packages/skimage/transform/_geometric.py:137: RuntimeWarning: Mean of empty slice.\n",
      "  dst_mean = dst.mean(axis=0)\n",
      "/usr/local/src/.venv/lib/python3.12/site-packages/numpy/core/_methods.py:121: RuntimeWarning: invalid value encountered in divide\n",
      "  ret = um.true_divide(\n",
      "/usr/local/src/.venv/lib/python3.12/site-packages/skimage/transform/_geometric.py:144: RuntimeWarning: invalid value encountered in divide\n",
      "  A = dst_demean.T @ src_demean / num\n",
      "/usr/local/src/valis/valtils.py:25: UserWarning: Need at least 4 keypoints for RANSAC filtering, but only have 2/usr/local/src/.venv/lib/python3.12/site-packages/numpy/linalg/linalg.py:2180: RuntimeWarning: invalid value encountered in det\n",
      "  r = _umath_linalg.det(a, signature=signature)\n",
      "/usr/local/src/.venv/lib/python3.12/site-packages/skimage/transform/_geometric.py:136: RuntimeWarning: Mean of empty slice.\n",
      "  src_mean = src.mean(axis=0)\n",
      "\n",
      "  warnings.warn(warning_msg, warning_type)\n",
      "/usr/local/src/valis/valtils.py:25: UserWarning: /usr/local/src/.venv/lib/python3.12/site-packages/numpy/core/_methods.py:121: RuntimeWarning: invalid value encountered in divide\n",
      "  ret = um.true_divide(\n",
      "Need at least 4 keypoints for RANSAC filtering, but only have 3"
     ]
    },
    {
     "name": "stdout",
     "output_type": "stream",
     "text": [
      "NoneType: None\n"
     ]
    },
    {
     "name": "stderr",
     "output_type": "stream",
     "text": [
      "/usr/local/src/.venv/lib/python3.12/site-packages/skimage/transform/_geometric.py:137: RuntimeWarning: Mean of empty slice.\n",
      "  dst_mean = dst.mean(axis=0)\n"
     ]
    },
    {
     "name": "stdout",
     "output_type": "stream",
     "text": [
      "\n"
     ]
    },
    {
     "name": "stderr",
     "output_type": "stream",
     "text": [
      "\n",
      "  warnings.warn(warning_msg, warning_type)\n",
      "/usr/local/src/.venv/lib/python3.12/site-packages/numpy/core/_methods.py:121: RuntimeWarning: invalid value encountered in divide\n",
      "  ret = um.true_divide(\n"
     ]
    },
    {
     "name": "stdout",
     "output_type": "stream",
     "text": [
      "NoneType: None\n"
     ]
    },
    {
     "name": "stderr",
     "output_type": "stream",
     "text": [
      "/usr/local/src/valis/valtils.py:25: UserWarning: "
     ]
    },
    {
     "name": "stdout",
     "output_type": "stream",
     "text": [
      "\n"
     ]
    },
    {
     "name": "stderr",
     "output_type": "stream",
     "text": [
      "Need at least 4 keypoints for RANSAC filtering, but only have 3/usr/local/src/.venv/lib/python3.12/site-packages/skimage/transform/_geometric.py:144: RuntimeWarning: invalid value encountered in divide\n",
      "  A = dst_demean.T @ src_demean / num\n",
      "/usr/local/src/valis/valtils.py:25: UserWarning: /usr/local/src/valis/valtils.py:25: UserWarning: Need at least 4 keypoints for RANSAC filtering, but only have 3\n",
      "  warnings.warn(warning_msg, warning_type)\n",
      "Need at least 4 keypoints for RANSAC filtering, but only have 3/usr/local/src/.venv/lib/python3.12/site-packages/numpy/linalg/linalg.py:2180: RuntimeWarning: invalid value encountered in det\n",
      "  r = _umath_linalg.det(a, signature=signature)\n",
      "\n",
      "  warnings.warn(warning_msg, warning_type)\n",
      "\n",
      "  warnings.warn(warning_msg, warning_type)\n"
     ]
    },
    {
     "name": "stdout",
     "output_type": "stream",
     "text": [
      "NoneType: None\n",
      "\n",
      "NoneType: None\n",
      "NoneType: None\n",
      "\n",
      "\n"
     ]
    },
    {
     "name": "stderr",
     "output_type": "stream",
     "text": [
      "/usr/local/src/valis/valtils.py:25: UserWarning: Need at least 4 keypoints for RANSAC filtering, but only have 3\n",
      "  warnings.warn(warning_msg, warning_type)\n"
     ]
    },
    {
     "name": "stdout",
     "output_type": "stream",
     "text": [
      "NoneType: None\n",
      "\n"
     ]
    },
    {
     "name": "stderr",
     "output_type": "stream",
     "text": [
      "/usr/local/src/valis/valtils.py:25: UserWarning: Need at least 4 keypoints for RANSAC filtering, but only have 2\n",
      "  warnings.warn(warning_msg, warning_type)\n"
     ]
    },
    {
     "name": "stdout",
     "output_type": "stream",
     "text": [
      "NoneType: None\n",
      "\n"
     ]
    },
    {
     "name": "stderr",
     "output_type": "stream",
     "text": [
      "/usr/local/src/valis/valtils.py:25: UserWarning: Need at least 4 keypoints for RANSAC filtering, but only have 3\n",
      "  warnings.warn(warning_msg, warning_type)\n"
     ]
    },
    {
     "name": "stdout",
     "output_type": "stream",
     "text": [
      "NoneType: None\n",
      "\n"
     ]
    },
    {
     "name": "stderr",
     "output_type": "stream",
     "text": [
      "/usr/local/src/.venv/lib/python3.12/site-packages/skimage/transform/_geometric.py:136: RuntimeWarning: Mean of empty slice.\n",
      "  src_mean = src.mean(axis=0)\n",
      "/usr/local/src/.venv/lib/python3.12/site-packages/numpy/core/_methods.py:121: RuntimeWarning: invalid value encountered in divide\n",
      "  ret = um.true_divide(\n",
      "/usr/local/src/.venv/lib/python3.12/site-packages/skimage/transform/_geometric.py:137: RuntimeWarning: Mean of empty slice.\n",
      "  dst_mean = dst.mean(axis=0)\n",
      "/usr/local/src/.venv/lib/python3.12/site-packages/numpy/core/_methods.py:121: RuntimeWarning: invalid value encountered in divide\n",
      "  ret = um.true_divide(\n",
      "/usr/local/src/.venv/lib/python3.12/site-packages/skimage/transform/_geometric.py:144: RuntimeWarning: invalid value encountered in divide\n",
      "  A = dst_demean.T @ src_demean / num\n",
      "/usr/local/src/.venv/lib/python3.12/site-packages/numpy/linalg/linalg.py:2180: RuntimeWarning: invalid value encountered in det\n",
      "  r = _umath_linalg.det(a, signature=signature)\n",
      "/usr/local/src/valis/valtils.py:25: UserWarning: Need at least 4 keypoints for RANSAC filtering, but only have 2\n",
      "  warnings.warn(warning_msg, warning_type)\n"
     ]
    },
    {
     "name": "stdout",
     "output_type": "stream",
     "text": [
      "NoneType: None\n",
      "\n"
     ]
    },
    {
     "name": "stderr",
     "output_type": "stream",
     "text": [
      "/usr/local/src/valis/valtils.py:25: UserWarning: Need at least 4 keypoints for RANSAC filtering, but only have 3\n",
      "  warnings.warn(warning_msg, warning_type)\n",
      "/usr/local/src/.venv/lib/python3.12/site-packages/skimage/transform/_geometric.py:136: RuntimeWarning: Mean of empty slice.\n",
      "  src_mean = src.mean(axis=0)\n",
      "/usr/local/src/valis/valtils.py:25: UserWarning: /usr/local/src/.venv/lib/python3.12/site-packages/numpy/core/_methods.py:121: RuntimeWarning: invalid value encountered in divide\n",
      "  ret = um.true_divide(\n",
      "Need at least 4 keypoints for RANSAC filtering, but only have 3"
     ]
    },
    {
     "name": "stdout",
     "output_type": "stream",
     "text": [
      "NoneType: None\n"
     ]
    },
    {
     "name": "stderr",
     "output_type": "stream",
     "text": [
      "\n",
      "  warnings.warn(warning_msg, warning_type)\n",
      "/usr/local/src/valis/valtils.py:25: UserWarning: "
     ]
    },
    {
     "name": "stdout",
     "output_type": "stream",
     "text": [
      "\n",
      "NoneType: None\n"
     ]
    },
    {
     "name": "stderr",
     "output_type": "stream",
     "text": [
      "/usr/local/src/.venv/lib/python3.12/site-packages/skimage/transform/_geometric.py:137: RuntimeWarning: Mean of empty slice.\n",
      "  dst_mean = dst.mean(axis=0)\n",
      "Need at least 4 keypoints for RANSAC filtering, but only have 3/usr/local/src/.venv/lib/python3.12/site-packages/numpy/core/_methods.py:121: RuntimeWarning: invalid value encountered in divide\n",
      "  ret = um.true_divide(\n",
      "/usr/local/src/.venv/lib/python3.12/site-packages/skimage/transform/_geometric.py:136: RuntimeWarning: Mean of empty slice.\n",
      "  src_mean = src.mean(axis=0)\n",
      "\n",
      "  warnings.warn(warning_msg, warning_type)\n"
     ]
    },
    {
     "name": "stdout",
     "output_type": "stream",
     "text": [
      "\n"
     ]
    },
    {
     "name": "stderr",
     "output_type": "stream",
     "text": [
      "/usr/local/src/.venv/lib/python3.12/site-packages/numpy/core/_methods.py:121: RuntimeWarning: invalid value encountered in divide\n",
      "  ret = um.true_divide(\n",
      "/usr/local/src/.venv/lib/python3.12/site-packages/skimage/transform/_geometric.py:144: RuntimeWarning: invalid value encountered in divide\n",
      "  A = dst_demean.T @ src_demean / num\n"
     ]
    },
    {
     "name": "stdout",
     "output_type": "stream",
     "text": [
      "NoneType: None\n"
     ]
    },
    {
     "name": "stderr",
     "output_type": "stream",
     "text": [
      "/usr/local/src/.venv/lib/python3.12/site-packages/numpy/linalg/linalg.py:2180: RuntimeWarning: invalid value encountered in det\n",
      "  r = _umath_linalg.det(a, signature=signature)\n",
      "/usr/local/src/.venv/lib/python3.12/site-packages/skimage/transform/_geometric.py:137: RuntimeWarning: Mean of empty slice.\n",
      "  dst_mean = dst.mean(axis=0)\n",
      "/usr/local/src/.venv/lib/python3.12/site-packages/numpy/core/_methods.py:121: RuntimeWarning: invalid value encountered in divide\n",
      "  ret = um.true_divide(\n"
     ]
    },
    {
     "name": "stdout",
     "output_type": "stream",
     "text": [
      "\n"
     ]
    },
    {
     "name": "stderr",
     "output_type": "stream",
     "text": [
      "/usr/local/src/valis/valtils.py:25: UserWarning: /usr/local/src/.venv/lib/python3.12/site-packages/skimage/transform/_geometric.py:144: RuntimeWarning: invalid value encountered in divide\n",
      "  A = dst_demean.T @ src_demean / num\n",
      "Need at least 4 keypoints for RANSAC filtering, but only have 3/usr/local/src/.venv/lib/python3.12/site-packages/numpy/linalg/linalg.py:2180: RuntimeWarning: invalid value encountered in det\n",
      "  r = _umath_linalg.det(a, signature=signature)\n",
      "\n",
      "  warnings.warn(warning_msg, warning_type)\n"
     ]
    },
    {
     "name": "stdout",
     "output_type": "stream",
     "text": [
      "NoneType: None\n"
     ]
    },
    {
     "name": "stderr",
     "output_type": "stream",
     "text": [
      "/usr/local/src/valis/valtils.py:25: UserWarning: "
     ]
    },
    {
     "name": "stdout",
     "output_type": "stream",
     "text": [
      "\n"
     ]
    },
    {
     "name": "stderr",
     "output_type": "stream",
     "text": [
      "Need at least 4 keypoints for RANSAC filtering, but only have 3\n",
      "  warnings.warn(warning_msg, warning_type)\n"
     ]
    },
    {
     "name": "stdout",
     "output_type": "stream",
     "text": [
      "NoneType: None\n",
      "\n"
     ]
    },
    {
     "name": "stderr",
     "output_type": "stream",
     "text": [
      "/usr/local/src/.venv/lib/python3.12/site-packages/skimage/transform/_geometric.py:136: RuntimeWarning: Mean of empty slice.\n",
      "  src_mean = src.mean(axis=0)\n",
      "/usr/local/src/.venv/lib/python3.12/site-packages/numpy/core/_methods.py:121: RuntimeWarning: invalid value encountered in divide\n",
      "  ret = um.true_divide(\n",
      "/usr/local/src/.venv/lib/python3.12/site-packages/skimage/transform/_geometric.py:137: RuntimeWarning: Mean of empty slice.\n",
      "  dst_mean = dst.mean(axis=0)\n",
      "/usr/local/src/.venv/lib/python3.12/site-packages/numpy/core/_methods.py:121: RuntimeWarning: invalid value encountered in divide\n",
      "  ret = um.true_divide(\n",
      "/usr/local/src/.venv/lib/python3.12/site-packages/skimage/transform/_geometric.py:144: RuntimeWarning: invalid value encountered in divide\n",
      "  A = dst_demean.T @ src_demean / num\n",
      "/usr/local/src/.venv/lib/python3.12/site-packages/numpy/linalg/linalg.py:2180: RuntimeWarning: invalid value encountered in det\n",
      "  r = _umath_linalg.det(a, signature=signature)\n",
      "/usr/local/src/.venv/lib/python3.12/site-packages/skimage/transform/_geometric.py:136: RuntimeWarning: Mean of empty slice.\n",
      "  src_mean = src.mean(axis=0)\n",
      "/usr/local/src/.venv/lib/python3.12/site-packages/skimage/transform/_geometric.py:136: RuntimeWarning: Mean of empty slice.\n",
      "  src_mean = src.mean(axis=0)\n",
      "/usr/local/src/.venv/lib/python3.12/site-packages/numpy/core/_methods.py:121: RuntimeWarning: invalid value encountered in divide\n",
      "  ret = um.true_divide(\n",
      "/usr/local/src/.venv/lib/python3.12/site-packages/skimage/transform/_geometric.py:137: RuntimeWarning: Mean of empty slice.\n",
      "  dst_mean = dst.mean(axis=0)\n",
      "/usr/local/src/.venv/lib/python3.12/site-packages/numpy/core/_methods.py:121: RuntimeWarning: invalid value encountered in divide\n",
      "  ret = um.true_divide(\n",
      "/usr/local/src/.venv/lib/python3.12/site-packages/numpy/core/_methods.py:121: RuntimeWarning: invalid value encountered in divide\n",
      "  ret = um.true_divide(\n",
      "/usr/local/src/.venv/lib/python3.12/site-packages/skimage/transform/_geometric.py:144: RuntimeWarning: invalid value encountered in divide\n",
      "  A = dst_demean.T @ src_demean / num\n",
      "/usr/local/src/.venv/lib/python3.12/site-packages/numpy/linalg/linalg.py:2180: RuntimeWarning: invalid value encountered in det\n",
      "  r = _umath_linalg.det(a, signature=signature)\n",
      "/usr/local/src/.venv/lib/python3.12/site-packages/skimage/transform/_geometric.py:137: RuntimeWarning: Mean of empty slice.\n",
      "  dst_mean = dst.mean(axis=0)\n",
      "/usr/local/src/.venv/lib/python3.12/site-packages/numpy/core/_methods.py:121: RuntimeWarning: invalid value encountered in divide\n",
      "  ret = um.true_divide(\n",
      "/usr/local/src/.venv/lib/python3.12/site-packages/skimage/transform/_geometric.py:144: RuntimeWarning: invalid value encountered in divide\n",
      "  A = dst_demean.T @ src_demean / num\n",
      "/usr/local/src/.venv/lib/python3.12/site-packages/numpy/linalg/linalg.py:2180: RuntimeWarning: invalid value encountered in det\n",
      "  r = _umath_linalg.det(a, signature=signature)\n",
      "/usr/local/src/valis/valtils.py:25: UserWarning: Need at least 4 keypoints for RANSAC filtering, but only have 3\n",
      "  warnings.warn(warning_msg, warning_type)\n"
     ]
    },
    {
     "name": "stdout",
     "output_type": "stream",
     "text": [
      "NoneType: None\n",
      "\n"
     ]
    },
    {
     "name": "stderr",
     "output_type": "stream",
     "text": [
      "/usr/local/src/.venv/lib/python3.12/site-packages/skimage/transform/_geometric.py:136: RuntimeWarning: Mean of empty slice.\n",
      "  src_mean = src.mean(axis=0)\n",
      "/usr/local/src/.venv/lib/python3.12/site-packages/numpy/core/_methods.py:121: RuntimeWarning: invalid value encountered in divide\n",
      "  ret = um.true_divide(\n",
      "/usr/local/src/.venv/lib/python3.12/site-packages/skimage/transform/_geometric.py:137: RuntimeWarning: Mean of empty slice.\n",
      "  dst_mean = dst.mean(axis=0)\n",
      "/usr/local/src/.venv/lib/python3.12/site-packages/numpy/core/_methods.py:121: RuntimeWarning: invalid value encountered in divide\n",
      "  ret = um.true_divide(\n",
      "/usr/local/src/.venv/lib/python3.12/site-packages/skimage/transform/_geometric.py:144: RuntimeWarning: invalid value encountered in divide\n",
      "  A = dst_demean.T @ src_demean / num\n",
      "/usr/local/src/.venv/lib/python3.12/site-packages/numpy/linalg/linalg.py:2180: RuntimeWarning: invalid value encountered in det\n",
      "  r = _umath_linalg.det(a, signature=signature)\n",
      "/usr/local/src/.venv/lib/python3.12/site-packages/skimage/transform/_geometric.py:136: RuntimeWarning: Mean of empty slice.\n",
      "  src_mean = src.mean(axis=0)\n",
      "/usr/local/src/.venv/lib/python3.12/site-packages/numpy/core/_methods.py:121: RuntimeWarning: invalid value encountered in divide\n",
      "  ret = um.true_divide(\n",
      "/usr/local/src/.venv/lib/python3.12/site-packages/skimage/transform/_geometric.py:137: RuntimeWarning: Mean of empty slice.\n",
      "  dst_mean = dst.mean(axis=0)\n",
      "/usr/local/src/.venv/lib/python3.12/site-packages/numpy/core/_methods.py:121: RuntimeWarning: invalid value encountered in divide\n",
      "  ret = um.true_divide(\n",
      "/usr/local/src/.venv/lib/python3.12/site-packages/skimage/transform/_geometric.py:144: RuntimeWarning: invalid value encountered in divide\n",
      "  A = dst_demean.T @ src_demean / num\n",
      "/usr/local/src/.venv/lib/python3.12/site-packages/numpy/linalg/linalg.py:2180: RuntimeWarning: invalid value encountered in det\n",
      "  r = _umath_linalg.det(a, signature=signature)\n",
      "/usr/local/src/valis/valtils.py:25: UserWarning: Need at least 4 keypoints for RANSAC filtering, but only have 3\n",
      "  warnings.warn(warning_msg, warning_type)\n",
      "/usr/local/src/valis/valtils.py:25: UserWarning: /usr/local/src/valis/valtils.py:25: UserWarning: Need at least 4 keypoints for RANSAC filtering, but only have 3\n",
      "  warnings.warn(warning_msg, warning_type)\n",
      "Need at least 4 keypoints for RANSAC filtering, but only have 3"
     ]
    },
    {
     "name": "stdout",
     "output_type": "stream",
     "text": [
      "NoneType: None\n",
      "NoneType: None\n",
      "\n"
     ]
    },
    {
     "name": "stderr",
     "output_type": "stream",
     "text": [
      "\n",
      "  warnings.warn(warning_msg, warning_type)\n"
     ]
    },
    {
     "name": "stdout",
     "output_type": "stream",
     "text": [
      "NoneType: None\n",
      "\n",
      "\n"
     ]
    },
    {
     "name": "stderr",
     "output_type": "stream",
     "text": [
      "/usr/local/src/valis/valtils.py:25: UserWarning: Need at least 4 keypoints for RANSAC filtering, but only have 3\n",
      "  warnings.warn(warning_msg, warning_type)\n"
     ]
    },
    {
     "name": "stdout",
     "output_type": "stream",
     "text": [
      "NoneType: None\n",
      "\n"
     ]
    },
    {
     "name": "stderr",
     "output_type": "stream",
     "text": [
      "/usr/local/src/.venv/lib/python3.12/site-packages/skimage/transform/_geometric.py:136: RuntimeWarning: Mean of empty slice.\n",
      "  src_mean = src.mean(axis=0)\n",
      "/usr/local/src/.venv/lib/python3.12/site-packages/numpy/core/_methods.py:121: RuntimeWarning: invalid value encountered in divide\n",
      "  ret = um.true_divide(\n",
      "/usr/local/src/.venv/lib/python3.12/site-packages/skimage/transform/_geometric.py:137: RuntimeWarning: Mean of empty slice.\n",
      "  dst_mean = dst.mean(axis=0)\n",
      "/usr/local/src/.venv/lib/python3.12/site-packages/numpy/core/_methods.py:121: RuntimeWarning: invalid value encountered in divide\n",
      "  ret = um.true_divide(\n",
      "/usr/local/src/.venv/lib/python3.12/site-packages/skimage/transform/_geometric.py:144: RuntimeWarning: invalid value encountered in divide\n",
      "  A = dst_demean.T @ src_demean / num\n",
      "/usr/local/src/.venv/lib/python3.12/site-packages/numpy/linalg/linalg.py:2180: RuntimeWarning: invalid value encountered in det\n",
      "  r = _umath_linalg.det(a, signature=signature)\n",
      "/usr/local/src/valis/valtils.py:25: UserWarning: Need at least 4 keypoints for RANSAC filtering, but only have 3\n",
      "  warnings.warn(warning_msg, warning_type)\n"
     ]
    },
    {
     "name": "stdout",
     "output_type": "stream",
     "text": [
      "NoneType: None\n",
      "\n"
     ]
    },
    {
     "name": "stderr",
     "output_type": "stream",
     "text": [
      "/usr/local/src/valis/valtils.py:25: UserWarning: Need at least 4 keypoints for RANSAC filtering, but only have 1\n",
      "  warnings.warn(warning_msg, warning_type)\n"
     ]
    },
    {
     "name": "stdout",
     "output_type": "stream",
     "text": [
      "NoneType: None\n",
      "\n"
     ]
    },
    {
     "name": "stderr",
     "output_type": "stream",
     "text": [
      "/usr/local/src/valis/valtils.py:25: UserWarning: Need at least 4 keypoints for RANSAC filtering, but only have 3\n",
      "  warnings.warn(warning_msg, warning_type)\n"
     ]
    },
    {
     "name": "stdout",
     "output_type": "stream",
     "text": [
      "NoneType: None\n",
      "\n"
     ]
    },
    {
     "name": "stderr",
     "output_type": "stream",
     "text": [
      "/usr/local/src/.venv/lib/python3.12/site-packages/skimage/transform/_geometric.py:136: RuntimeWarning: Mean of empty slice.\n",
      "  src_mean = src.mean(axis=0)\n",
      "/usr/local/src/.venv/lib/python3.12/site-packages/numpy/core/_methods.py:121: RuntimeWarning: invalid value encountered in divide\n",
      "  ret = um.true_divide(\n",
      "/usr/local/src/.venv/lib/python3.12/site-packages/skimage/transform/_geometric.py:137: RuntimeWarning: Mean of empty slice.\n",
      "  dst_mean = dst.mean(axis=0)\n",
      "/usr/local/src/.venv/lib/python3.12/site-packages/numpy/core/_methods.py:121: RuntimeWarning: invalid value encountered in divide\n",
      "  ret = um.true_divide(\n",
      "/usr/local/src/.venv/lib/python3.12/site-packages/skimage/transform/_geometric.py:144: RuntimeWarning: invalid value encountered in divide\n",
      "  A = dst_demean.T @ src_demean / num\n",
      "/usr/local/src/.venv/lib/python3.12/site-packages/numpy/linalg/linalg.py:2180: RuntimeWarning: invalid value encountered in det\n",
      "  r = _umath_linalg.det(a, signature=signature)\n",
      "/usr/local/src/valis/valtils.py:25: UserWarning: Need at least 4 keypoints for RANSAC filtering, but only have 3\n",
      "  warnings.warn(warning_msg, warning_type)\n"
     ]
    },
    {
     "name": "stdout",
     "output_type": "stream",
     "text": [
      "NoneType: None\n",
      "\n"
     ]
    },
    {
     "name": "stderr",
     "output_type": "stream",
     "text": [
      "/usr/local/src/valis/valtils.py:25: UserWarning: Need at least 4 keypoints for RANSAC filtering, but only have 3\n",
      "  warnings.warn(warning_msg, warning_type)\n"
     ]
    },
    {
     "name": "stdout",
     "output_type": "stream",
     "text": [
      "NoneType: None\n",
      "\n"
     ]
    },
    {
     "name": "stderr",
     "output_type": "stream",
     "text": [
      "/usr/local/src/.venv/lib/python3.12/site-packages/skimage/transform/_geometric.py:136: RuntimeWarning: Mean of empty slice.\n",
      "  src_mean = src.mean(axis=0)\n",
      "/usr/local/src/.venv/lib/python3.12/site-packages/numpy/core/_methods.py:121: RuntimeWarning: invalid value encountered in divide\n",
      "  ret = um.true_divide(\n",
      "/usr/local/src/.venv/lib/python3.12/site-packages/skimage/transform/_geometric.py:137: RuntimeWarning: Mean of empty slice.\n",
      "  dst_mean = dst.mean(axis=0)\n",
      "/usr/local/src/.venv/lib/python3.12/site-packages/numpy/core/_methods.py:121: RuntimeWarning: invalid value encountered in divide\n",
      "  ret = um.true_divide(\n",
      "/usr/local/src/.venv/lib/python3.12/site-packages/skimage/transform/_geometric.py:144: RuntimeWarning: invalid value encountered in divide\n",
      "  A = dst_demean.T @ src_demean / num\n",
      "/usr/local/src/.venv/lib/python3.12/site-packages/numpy/linalg/linalg.py:2180: RuntimeWarning: invalid value encountered in det\n",
      "  r = _umath_linalg.det(a, signature=signature)\n",
      "/usr/local/src/valis/valtils.py:25: UserWarning: Need at least 4 keypoints for RANSAC filtering, but only have 2\n",
      "  warnings.warn(warning_msg, warning_type)\n"
     ]
    },
    {
     "name": "stdout",
     "output_type": "stream",
     "text": [
      "NoneType: None\n",
      "\n"
     ]
    },
    {
     "name": "stderr",
     "output_type": "stream",
     "text": [
      "/usr/local/src/.venv/lib/python3.12/site-packages/skimage/transform/_geometric.py:136: RuntimeWarning: Mean of empty slice.\n",
      "  src_mean = src.mean(axis=0)\n",
      "/usr/local/src/.venv/lib/python3.12/site-packages/numpy/core/_methods.py:121: RuntimeWarning: invalid value encountered in divide\n",
      "  ret = um.true_divide(\n",
      "/usr/local/src/.venv/lib/python3.12/site-packages/skimage/transform/_geometric.py:137: RuntimeWarning: Mean of empty slice.\n",
      "  dst_mean = dst.mean(axis=0)\n",
      "/usr/local/src/.venv/lib/python3.12/site-packages/numpy/core/_methods.py:121: RuntimeWarning: invalid value encountered in divide\n",
      "  ret = um.true_divide(\n",
      "/usr/local/src/.venv/lib/python3.12/site-packages/skimage/transform/_geometric.py:144: RuntimeWarning: invalid value encountered in divide\n",
      "  A = dst_demean.T @ src_demean / num\n",
      "/usr/local/src/.venv/lib/python3.12/site-packages/numpy/linalg/linalg.py:2180: RuntimeWarning: invalid value encountered in det\n",
      "  r = _umath_linalg.det(a, signature=signature)\n",
      "/usr/local/src/valis/valtils.py:25: UserWarning: Need at least 4 keypoints for RANSAC filtering, but only have 3\n",
      "  warnings.warn(warning_msg, warning_type)\n"
     ]
    },
    {
     "name": "stdout",
     "output_type": "stream",
     "text": [
      "NoneType: None\n",
      "\n"
     ]
    },
    {
     "name": "stderr",
     "output_type": "stream",
     "text": [
      "/usr/local/src/.venv/lib/python3.12/site-packages/skimage/transform/_geometric.py:136: RuntimeWarning: Mean of empty slice.\n",
      "  src_mean = src.mean(axis=0)\n",
      "/usr/local/src/.venv/lib/python3.12/site-packages/numpy/core/_methods.py:121: RuntimeWarning: invalid value encountered in divide\n",
      "  ret = um.true_divide(\n",
      "/usr/local/src/.venv/lib/python3.12/site-packages/skimage/transform/_geometric.py:137: RuntimeWarning: Mean of empty slice.\n",
      "  dst_mean = dst.mean(axis=0)\n",
      "/usr/local/src/.venv/lib/python3.12/site-packages/numpy/core/_methods.py:121: RuntimeWarning: invalid value encountered in divide\n",
      "  ret = um.true_divide(\n",
      "/usr/local/src/.venv/lib/python3.12/site-packages/skimage/transform/_geometric.py:144: RuntimeWarning: invalid value encountered in divide\n",
      "  A = dst_demean.T @ src_demean / num\n",
      "/usr/local/src/.venv/lib/python3.12/site-packages/numpy/linalg/linalg.py:2180: RuntimeWarning: invalid value encountered in det\n",
      "  r = _umath_linalg.det(a, signature=signature)\n",
      "/usr/local/src/.venv/lib/python3.12/site-packages/skimage/transform/_geometric.py:136: RuntimeWarning: Mean of empty slice.\n",
      "  src_mean = src.mean(axis=0)\n",
      "/usr/local/src/.venv/lib/python3.12/site-packages/numpy/core/_methods.py:121: RuntimeWarning: invalid value encountered in divide\n",
      "  ret = um.true_divide(\n",
      "/usr/local/src/.venv/lib/python3.12/site-packages/skimage/transform/_geometric.py:137: RuntimeWarning: Mean of empty slice.\n",
      "  dst_mean = dst.mean(axis=0)\n",
      "/usr/local/src/.venv/lib/python3.12/site-packages/numpy/core/_methods.py:121: RuntimeWarning: invalid value encountered in divide\n",
      "  ret = um.true_divide(\n",
      "/usr/local/src/.venv/lib/python3.12/site-packages/skimage/transform/_geometric.py:144: RuntimeWarning: invalid value encountered in divide\n",
      "  A = dst_demean.T @ src_demean / num\n",
      "/usr/local/src/.venv/lib/python3.12/site-packages/skimage/transform/_geometric.py:136: RuntimeWarning: Mean of empty slice.\n",
      "  src_mean = src.mean(axis=0)\n",
      "/usr/local/src/.venv/lib/python3.12/site-packages/numpy/linalg/linalg.py:2180: RuntimeWarning: invalid value encountered in det\n",
      "  r = _umath_linalg.det(a, signature=signature)\n",
      "/usr/local/src/.venv/lib/python3.12/site-packages/numpy/core/_methods.py:121: RuntimeWarning: invalid value encountered in divide\n",
      "  ret = um.true_divide(\n",
      "/usr/local/src/.venv/lib/python3.12/site-packages/skimage/transform/_geometric.py:137: RuntimeWarning: Mean of empty slice.\n",
      "  dst_mean = dst.mean(axis=0)\n",
      "/usr/local/src/.venv/lib/python3.12/site-packages/numpy/core/_methods.py:121: RuntimeWarning: invalid value encountered in divide\n",
      "  ret = um.true_divide(\n",
      "/usr/local/src/.venv/lib/python3.12/site-packages/skimage/transform/_geometric.py:136: RuntimeWarning: Mean of empty slice.\n",
      "  src_mean = src.mean(axis=0)\n",
      "/usr/local/src/.venv/lib/python3.12/site-packages/skimage/transform/_geometric.py:136: RuntimeWarning: Mean of empty slice.\n",
      "  src_mean = src.mean(axis=0)\n",
      "/usr/local/src/.venv/lib/python3.12/site-packages/skimage/transform/_geometric.py:144: RuntimeWarning: invalid value encountered in divide\n",
      "  A = dst_demean.T @ src_demean / num\n",
      "/usr/local/src/.venv/lib/python3.12/site-packages/numpy/core/_methods.py:121: RuntimeWarning: invalid value encountered in divide\n",
      "  ret = um.true_divide(\n",
      "/usr/local/src/.venv/lib/python3.12/site-packages/numpy/core/_methods.py:121: RuntimeWarning: invalid value encountered in divide\n",
      "  ret = um.true_divide(\n",
      "/usr/local/src/.venv/lib/python3.12/site-packages/skimage/transform/_geometric.py:137: RuntimeWarning: Mean of empty slice.\n",
      "  dst_mean = dst.mean(axis=0)\n",
      "/usr/local/src/.venv/lib/python3.12/site-packages/numpy/linalg/linalg.py:2180: RuntimeWarning: invalid value encountered in det\n",
      "  r = _umath_linalg.det(a, signature=signature)\n",
      "/usr/local/src/.venv/lib/python3.12/site-packages/skimage/transform/_geometric.py:136: RuntimeWarning: Mean of empty slice.\n",
      "  src_mean = src.mean(axis=0)\n",
      "/usr/local/src/.venv/lib/python3.12/site-packages/skimage/transform/_geometric.py:137: RuntimeWarning: Mean of empty slice.\n",
      "  dst_mean = dst.mean(axis=0)\n",
      "/usr/local/src/.venv/lib/python3.12/site-packages/numpy/core/_methods.py:121: RuntimeWarning: invalid value encountered in divide\n",
      "  ret = um.true_divide(\n",
      "/usr/local/src/.venv/lib/python3.12/site-packages/numpy/core/_methods.py:121: RuntimeWarning: invalid value encountered in divide\n",
      "  ret = um.true_divide(\n",
      "/usr/local/src/.venv/lib/python3.12/site-packages/skimage/transform/_geometric.py:137: RuntimeWarning: Mean of empty slice.\n",
      "  dst_mean = dst.mean(axis=0)\n",
      "/usr/local/src/.venv/lib/python3.12/site-packages/numpy/core/_methods.py:121: RuntimeWarning: invalid value encountered in divide\n",
      "  ret = um.true_divide(\n",
      "/usr/local/src/.venv/lib/python3.12/site-packages/numpy/core/_methods.py:121: RuntimeWarning: invalid value encountered in divide\n",
      "  ret = um.true_divide(\n",
      "/usr/local/src/.venv/lib/python3.12/site-packages/skimage/transform/_geometric.py:144: RuntimeWarning: invalid value encountered in divide\n",
      "  A = dst_demean.T @ src_demean / num\n",
      "/usr/local/src/.venv/lib/python3.12/site-packages/skimage/transform/_geometric.py:144: RuntimeWarning: invalid value encountered in divide\n",
      "  A = dst_demean.T @ src_demean / num\n",
      "/usr/local/src/.venv/lib/python3.12/site-packages/skimage/transform/_geometric.py:136: RuntimeWarning: Mean of empty slice.\n",
      "  src_mean = src.mean(axis=0)\n",
      "/usr/local/src/.venv/lib/python3.12/site-packages/numpy/linalg/linalg.py:2180: RuntimeWarning: invalid value encountered in det\n",
      "  r = _umath_linalg.det(a, signature=signature)\n",
      "/usr/local/src/.venv/lib/python3.12/site-packages/numpy/core/_methods.py:121: RuntimeWarning: invalid value encountered in divide\n",
      "  ret = um.true_divide(\n",
      "/usr/local/src/.venv/lib/python3.12/site-packages/numpy/linalg/linalg.py:2180: RuntimeWarning: invalid value encountered in det\n",
      "  r = _umath_linalg.det(a, signature=signature)\n",
      "/usr/local/src/.venv/lib/python3.12/site-packages/skimage/transform/_geometric.py:144: RuntimeWarning: invalid value encountered in divide\n",
      "  A = dst_demean.T @ src_demean / num\n",
      "/usr/local/src/.venv/lib/python3.12/site-packages/skimage/transform/_geometric.py:137: RuntimeWarning: Mean of empty slice.\n",
      "  dst_mean = dst.mean(axis=0)\n",
      "/usr/local/src/.venv/lib/python3.12/site-packages/numpy/linalg/linalg.py:2180: RuntimeWarning: invalid value encountered in det\n",
      "  r = _umath_linalg.det(a, signature=signature)\n",
      "/usr/local/src/.venv/lib/python3.12/site-packages/numpy/core/_methods.py:121: RuntimeWarning: invalid value encountered in divide\n",
      "  ret = um.true_divide(\n",
      "/usr/local/src/.venv/lib/python3.12/site-packages/skimage/transform/_geometric.py:144: RuntimeWarning: invalid value encountered in divide\n",
      "  A = dst_demean.T @ src_demean / num\n",
      "/usr/local/src/.venv/lib/python3.12/site-packages/numpy/linalg/linalg.py:2180: RuntimeWarning: invalid value encountered in det\n",
      "  r = _umath_linalg.det(a, signature=signature)\n",
      "/usr/local/src/.venv/lib/python3.12/site-packages/skimage/transform/_geometric.py:136: RuntimeWarning: Mean of empty slice.\n",
      "  src_mean = src.mean(axis=0)\n",
      "/usr/local/src/.venv/lib/python3.12/site-packages/numpy/core/_methods.py:121: RuntimeWarning: invalid value encountered in divide\n",
      "  ret = um.true_divide(\n",
      "/usr/local/src/.venv/lib/python3.12/site-packages/skimage/transform/_geometric.py:137: RuntimeWarning: Mean of empty slice.\n",
      "  dst_mean = dst.mean(axis=0)\n",
      "/usr/local/src/.venv/lib/python3.12/site-packages/numpy/core/_methods.py:121: RuntimeWarning: invalid value encountered in divide\n",
      "  ret = um.true_divide(\n",
      "/usr/local/src/.venv/lib/python3.12/site-packages/skimage/transform/_geometric.py:136: RuntimeWarning: Mean of empty slice.\n",
      "  src_mean = src.mean(axis=0)\n",
      "/usr/local/src/.venv/lib/python3.12/site-packages/skimage/transform/_geometric.py:144: RuntimeWarning: invalid value encountered in divide\n",
      "  A = dst_demean.T @ src_demean / num\n",
      "/usr/local/src/.venv/lib/python3.12/site-packages/numpy/core/_methods.py:121: RuntimeWarning: invalid value encountered in divide\n",
      "  ret = um.true_divide(\n",
      "/usr/local/src/.venv/lib/python3.12/site-packages/skimage/transform/_geometric.py:137: RuntimeWarning: Mean of empty slice.\n",
      "  dst_mean = dst.mean(axis=0)\n",
      "/usr/local/src/.venv/lib/python3.12/site-packages/numpy/linalg/linalg.py:2180: RuntimeWarning: invalid value encountered in det\n",
      "  r = _umath_linalg.det(a, signature=signature)\n",
      "/usr/local/src/.venv/lib/python3.12/site-packages/numpy/core/_methods.py:121: RuntimeWarning: invalid value encountered in divide\n",
      "  ret = um.true_divide(\n",
      "/usr/local/src/valis/valtils.py:25: UserWarning: /usr/local/src/.venv/lib/python3.12/site-packages/skimage/transform/_geometric.py:144: RuntimeWarning: invalid value encountered in divide\n",
      "  A = dst_demean.T @ src_demean / num\n",
      "Need at least 4 keypoints for RANSAC filtering, but only have 3/usr/local/src/.venv/lib/python3.12/site-packages/numpy/linalg/linalg.py:2180: RuntimeWarning: invalid value encountered in det\n",
      "  r = _umath_linalg.det(a, signature=signature)\n",
      "\n",
      "  warnings.warn(warning_msg, warning_type)\n"
     ]
    },
    {
     "name": "stdout",
     "output_type": "stream",
     "text": [
      "NoneType: None\n",
      "\n"
     ]
    },
    {
     "name": "stderr",
     "output_type": "stream",
     "text": [
      "/usr/local/src/.venv/lib/python3.12/site-packages/skimage/transform/_geometric.py:136: RuntimeWarning: Mean of empty slice.\n",
      "  src_mean = src.mean(axis=0)\n",
      "/usr/local/src/.venv/lib/python3.12/site-packages/numpy/core/_methods.py:121: RuntimeWarning: invalid value encountered in divide\n",
      "  ret = um.true_divide(\n",
      "/usr/local/src/.venv/lib/python3.12/site-packages/skimage/transform/_geometric.py:137: RuntimeWarning: Mean of empty slice.\n",
      "  dst_mean = dst.mean(axis=0)\n",
      "/usr/local/src/.venv/lib/python3.12/site-packages/numpy/core/_methods.py:121: RuntimeWarning: invalid value encountered in divide\n",
      "  ret = um.true_divide(\n",
      "/usr/local/src/.venv/lib/python3.12/site-packages/skimage/transform/_geometric.py:144: RuntimeWarning: invalid value encountered in divide\n",
      "  A = dst_demean.T @ src_demean / num\n",
      "/usr/local/src/.venv/lib/python3.12/site-packages/numpy/linalg/linalg.py:2180: RuntimeWarning: invalid value encountered in det\n",
      "  r = _umath_linalg.det(a, signature=signature)\n",
      "/usr/local/src/.venv/lib/python3.12/site-packages/skimage/transform/_geometric.py:136: RuntimeWarning: Mean of empty slice.\n",
      "  src_mean = src.mean(axis=0)\n",
      "/usr/local/src/.venv/lib/python3.12/site-packages/numpy/core/_methods.py:121: RuntimeWarning: invalid value encountered in divide\n",
      "  ret = um.true_divide(\n",
      "/usr/local/src/.venv/lib/python3.12/site-packages/skimage/transform/_geometric.py:137: RuntimeWarning: Mean of empty slice.\n",
      "  dst_mean = dst.mean(axis=0)\n",
      "/usr/local/src/.venv/lib/python3.12/site-packages/numpy/core/_methods.py:121: RuntimeWarning: invalid value encountered in divide\n",
      "  ret = um.true_divide(\n",
      "/usr/local/src/.venv/lib/python3.12/site-packages/skimage/transform/_geometric.py:144: RuntimeWarning: invalid value encountered in divide\n",
      "  A = dst_demean.T @ src_demean / num\n",
      "/usr/local/src/.venv/lib/python3.12/site-packages/numpy/linalg/linalg.py:2180: RuntimeWarning: invalid value encountered in det\n",
      "  r = _umath_linalg.det(a, signature=signature)\n",
      "/usr/local/src/.venv/lib/python3.12/site-packages/skimage/transform/_geometric.py:136: RuntimeWarning: Mean of empty slice.\n",
      "  src_mean = src.mean(axis=0)\n",
      "/usr/local/src/.venv/lib/python3.12/site-packages/numpy/core/_methods.py:121: RuntimeWarning: invalid value encountered in divide\n",
      "  ret = um.true_divide(\n",
      "/usr/local/src/.venv/lib/python3.12/site-packages/skimage/transform/_geometric.py:137: RuntimeWarning: Mean of empty slice.\n",
      "  dst_mean = dst.mean(axis=0)\n",
      "/usr/local/src/.venv/lib/python3.12/site-packages/numpy/core/_methods.py:121: RuntimeWarning: invalid value encountered in divide\n",
      "  ret = um.true_divide(\n",
      "/usr/local/src/.venv/lib/python3.12/site-packages/skimage/transform/_geometric.py:144: RuntimeWarning: invalid value encountered in divide\n",
      "  A = dst_demean.T @ src_demean / num\n",
      "/usr/local/src/.venv/lib/python3.12/site-packages/numpy/linalg/linalg.py:2180: RuntimeWarning: invalid value encountered in det\n",
      "  r = _umath_linalg.det(a, signature=signature)\n",
      "/usr/local/src/valis/valtils.py:25: UserWarning: Need at least 4 keypoints for RANSAC filtering, but only have 3\n",
      "  warnings.warn(warning_msg, warning_type)\n"
     ]
    },
    {
     "name": "stdout",
     "output_type": "stream",
     "text": [
      "NoneType: None\n",
      "\n"
     ]
    },
    {
     "name": "stderr",
     "output_type": "stream",
     "text": [
      "/usr/local/src/.venv/lib/python3.12/site-packages/skimage/transform/_geometric.py:136: RuntimeWarning: Mean of empty slice.\n",
      "  src_mean = src.mean(axis=0)\n",
      "/usr/local/src/.venv/lib/python3.12/site-packages/numpy/core/_methods.py:121: RuntimeWarning: invalid value encountered in divide\n",
      "  ret = um.true_divide(\n",
      "/usr/local/src/.venv/lib/python3.12/site-packages/skimage/transform/_geometric.py:137: RuntimeWarning: Mean of empty slice.\n",
      "  dst_mean = dst.mean(axis=0)\n",
      "/usr/local/src/.venv/lib/python3.12/site-packages/numpy/core/_methods.py:121: RuntimeWarning: invalid value encountered in divide\n",
      "  ret = um.true_divide(\n",
      "/usr/local/src/.venv/lib/python3.12/site-packages/skimage/transform/_geometric.py:144: RuntimeWarning: invalid value encountered in divide\n",
      "  A = dst_demean.T @ src_demean / num\n",
      "/usr/local/src/.venv/lib/python3.12/site-packages/numpy/linalg/linalg.py:2180: RuntimeWarning: invalid value encountered in det\n",
      "  r = _umath_linalg.det(a, signature=signature)\n",
      "/usr/local/src/.venv/lib/python3.12/site-packages/skimage/transform/_geometric.py:136: RuntimeWarning: Mean of empty slice.\n",
      "  src_mean = src.mean(axis=0)\n",
      "/usr/local/src/.venv/lib/python3.12/site-packages/numpy/core/_methods.py:121: RuntimeWarning: invalid value encountered in divide\n",
      "  ret = um.true_divide(\n",
      "/usr/local/src/valis/valtils.py:25: UserWarning: /usr/local/src/.venv/lib/python3.12/site-packages/skimage/transform/_geometric.py:137: RuntimeWarning: Mean of empty slice.\n",
      "  dst_mean = dst.mean(axis=0)\n",
      "Need at least 4 keypoints for RANSAC filtering, but only have 2\n",
      "  warnings.warn(warning_msg, warning_type)\n",
      "/usr/local/src/.venv/lib/python3.12/site-packages/numpy/core/_methods.py:121: RuntimeWarning: invalid value encountered in divide\n",
      "  ret = um.true_divide(\n"
     ]
    },
    {
     "name": "stdout",
     "output_type": "stream",
     "text": [
      "NoneType: None\n"
     ]
    },
    {
     "name": "stderr",
     "output_type": "stream",
     "text": [
      "/usr/local/src/.venv/lib/python3.12/site-packages/skimage/transform/_geometric.py:144: RuntimeWarning: invalid value encountered in divide\n",
      "  A = dst_demean.T @ src_demean / num\n"
     ]
    },
    {
     "name": "stdout",
     "output_type": "stream",
     "text": [
      "\n"
     ]
    },
    {
     "name": "stderr",
     "output_type": "stream",
     "text": [
      "/usr/local/src/.venv/lib/python3.12/site-packages/numpy/linalg/linalg.py:2180: RuntimeWarning: invalid value encountered in det\n",
      "  r = _umath_linalg.det(a, signature=signature)\n",
      "/usr/local/src/valis/serial_rigid.py:615: UserWarning: 0 between B_213-ST_BFIW-SE_1088_processed and B_213-ST_BFIW-SE_2499_processed\n",
      "  warnings.warn(f\"{len(filtered_match_info12.matched_kp1_xy)} between {img_obj_1.name} and {img_obj_2.name}\")\n",
      "/usr/local/src/.venv/lib/python3.12/site-packages/skimage/transform/_geometric.py:136: RuntimeWarning: Mean of empty slice.\n",
      "  src_mean = src.mean(axis=0)\n",
      "/usr/local/src/.venv/lib/python3.12/site-packages/numpy/core/_methods.py:121: RuntimeWarning: invalid value encountered in divide\n",
      "  ret = um.true_divide(\n",
      "/usr/local/src/.venv/lib/python3.12/site-packages/skimage/transform/_geometric.py:137: RuntimeWarning: Mean of empty slice.\n",
      "  dst_mean = dst.mean(axis=0)\n",
      "/usr/local/src/.venv/lib/python3.12/site-packages/numpy/core/_methods.py:121: RuntimeWarning: invalid value encountered in divide\n",
      "  ret = um.true_divide(\n",
      "/usr/local/src/.venv/lib/python3.12/site-packages/skimage/transform/_geometric.py:144: RuntimeWarning: invalid value encountered in divide\n",
      "  A = dst_demean.T @ src_demean / num\n",
      "/usr/local/src/.venv/lib/python3.12/site-packages/numpy/linalg/linalg.py:2180: RuntimeWarning: invalid value encountered in det\n",
      "  r = _umath_linalg.det(a, signature=signature)\n",
      "/usr/local/src/valis/valtils.py:25: UserWarning: Need at least 4 keypoints for RANSAC filtering, but only have 2\n",
      "  warnings.warn(warning_msg, warning_type)\n"
     ]
    },
    {
     "name": "stdout",
     "output_type": "stream",
     "text": [
      "NoneType: None\n"
     ]
    },
    {
     "name": "stderr",
     "output_type": "stream",
     "text": [
      "/usr/local/src/valis/valtils.py:25: UserWarning: /usr/local/src/.venv/lib/python3.12/site-packages/skimage/transform/_geometric.py:136: RuntimeWarning: Mean of empty slice.\n",
      "  src_mean = src.mean(axis=0)\n",
      "Need at least 4 keypoints for RANSAC filtering, but only have 3/usr/local/src/.venv/lib/python3.12/site-packages/skimage/transform/_geometric.py:136: RuntimeWarning: Mean of empty slice.\n",
      "  src_mean = src.mean(axis=0)\n"
     ]
    },
    {
     "name": "stdout",
     "output_type": "stream",
     "text": [
      "\n"
     ]
    },
    {
     "name": "stderr",
     "output_type": "stream",
     "text": [
      "/usr/local/src/.venv/lib/python3.12/site-packages/numpy/core/_methods.py:121: RuntimeWarning: invalid value encountered in divide\n",
      "  ret = um.true_divide(\n",
      "/usr/local/src/.venv/lib/python3.12/site-packages/numpy/core/_methods.py:121: RuntimeWarning: invalid value encountered in divide\n",
      "  ret = um.true_divide(\n",
      "\n",
      "  warnings.warn(warning_msg, warning_type)\n",
      "/usr/local/src/valis/serial_rigid.py:615: UserWarning: 0 between B_213-ST_BFIW-SE_1060_processed and B_213-ST_BFIW-SE_2488_processed\n",
      "  warnings.warn(f\"{len(filtered_match_info12.matched_kp1_xy)} between {img_obj_1.name} and {img_obj_2.name}\")\n",
      "/usr/local/src/.venv/lib/python3.12/site-packages/skimage/transform/_geometric.py:137: RuntimeWarning: Mean of empty slice.\n",
      "  dst_mean = dst.mean(axis=0)\n",
      "/usr/local/src/.venv/lib/python3.12/site-packages/skimage/transform/_geometric.py:137: RuntimeWarning: Mean of empty slice.\n",
      "  dst_mean = dst.mean(axis=0)\n"
     ]
    },
    {
     "name": "stdout",
     "output_type": "stream",
     "text": [
      "NoneType: None\n"
     ]
    },
    {
     "name": "stderr",
     "output_type": "stream",
     "text": [
      "/usr/local/src/.venv/lib/python3.12/site-packages/numpy/core/_methods.py:121: RuntimeWarning: invalid value encountered in divide\n",
      "  ret = um.true_divide(\n",
      "/usr/local/src/.venv/lib/python3.12/site-packages/numpy/core/_methods.py:121: RuntimeWarning: invalid value encountered in divide\n",
      "  ret = um.true_divide(\n",
      "/usr/local/src/.venv/lib/python3.12/site-packages/skimage/transform/_geometric.py:144: RuntimeWarning: invalid value encountered in divide\n",
      "  A = dst_demean.T @ src_demean / num\n",
      "/usr/local/src/.venv/lib/python3.12/site-packages/skimage/transform/_geometric.py:144: RuntimeWarning: invalid value encountered in divide\n",
      "  A = dst_demean.T @ src_demean / num\n",
      "/usr/local/src/.venv/lib/python3.12/site-packages/numpy/linalg/linalg.py:2180: RuntimeWarning: invalid value encountered in det\n",
      "  r = _umath_linalg.det(a, signature=signature)\n",
      "/usr/local/src/.venv/lib/python3.12/site-packages/numpy/linalg/linalg.py:2180: RuntimeWarning: invalid value encountered in det\n",
      "  r = _umath_linalg.det(a, signature=signature)\n"
     ]
    },
    {
     "name": "stdout",
     "output_type": "stream",
     "text": [
      "\n"
     ]
    },
    {
     "name": "stderr",
     "output_type": "stream",
     "text": [
      "/usr/local/src/.venv/lib/python3.12/site-packages/skimage/transform/_geometric.py:136: RuntimeWarning: Mean of empty slice.\n",
      "  src_mean = src.mean(axis=0)\n",
      "/usr/local/src/.venv/lib/python3.12/site-packages/numpy/core/_methods.py:121: RuntimeWarning: invalid value encountered in divide\n",
      "  ret = um.true_divide(\n",
      "/usr/local/src/.venv/lib/python3.12/site-packages/skimage/transform/_geometric.py:137: RuntimeWarning: Mean of empty slice.\n",
      "  dst_mean = dst.mean(axis=0)\n",
      "/usr/local/src/.venv/lib/python3.12/site-packages/numpy/core/_methods.py:121: RuntimeWarning: invalid value encountered in divide\n",
      "  ret = um.true_divide(\n",
      "/usr/local/src/.venv/lib/python3.12/site-packages/skimage/transform/_geometric.py:144: RuntimeWarning: invalid value encountered in divide\n",
      "  A = dst_demean.T @ src_demean / num\n",
      "/usr/local/src/.venv/lib/python3.12/site-packages/numpy/linalg/linalg.py:2180: RuntimeWarning: invalid value encountered in det\n",
      "  r = _umath_linalg.det(a, signature=signature)\n",
      "/usr/local/src/valis/valtils.py:25: UserWarning: Need at least 4 keypoints for RANSAC filtering, but only have 3\n",
      "  warnings.warn(warning_msg, warning_type)\n"
     ]
    },
    {
     "name": "stdout",
     "output_type": "stream",
     "text": [
      "NoneType: None\n",
      "\n"
     ]
    },
    {
     "name": "stderr",
     "output_type": "stream",
     "text": [
      "/usr/local/src/valis/valtils.py:25: UserWarning: Need at least 4 keypoints for RANSAC filtering, but only have 2\n",
      "  warnings.warn(warning_msg, warning_type)\n"
     ]
    },
    {
     "name": "stdout",
     "output_type": "stream",
     "text": [
      "NoneType: None\n",
      "\n"
     ]
    },
    {
     "name": "stderr",
     "output_type": "stream",
     "text": [
      "/usr/local/src/valis/valtils.py:25: UserWarning: Need at least 4 keypoints for RANSAC filtering, but only have 3\n",
      "  warnings.warn(warning_msg, warning_type)\n"
     ]
    },
    {
     "name": "stdout",
     "output_type": "stream",
     "text": [
      "NoneType: None\n",
      "\n"
     ]
    },
    {
     "name": "stderr",
     "output_type": "stream",
     "text": [
      "/usr/local/src/valis/valtils.py:25: UserWarning: Need at least 4 keypoints for RANSAC filtering, but only have 3\n",
      "  warnings.warn(warning_msg, warning_type)\n"
     ]
    },
    {
     "name": "stdout",
     "output_type": "stream",
     "text": [
      "NoneType: None\n",
      "\n"
     ]
    },
    {
     "name": "stderr",
     "output_type": "stream",
     "text": [
      "/usr/local/src/valis/valtils.py:25: UserWarning: Need at least 4 keypoints for RANSAC filtering, but only have 3\n",
      "  warnings.warn(warning_msg, warning_type)\n"
     ]
    },
    {
     "name": "stdout",
     "output_type": "stream",
     "text": [
      "NoneType: None\n",
      "\n"
     ]
    },
    {
     "name": "stderr",
     "output_type": "stream",
     "text": [
      "/usr/local/src/.venv/lib/python3.12/site-packages/skimage/transform/_geometric.py:136: RuntimeWarning: Mean of empty slice.\n",
      "  src_mean = src.mean(axis=0)\n",
      "/usr/local/src/.venv/lib/python3.12/site-packages/numpy/core/_methods.py:121: RuntimeWarning: invalid value encountered in divide\n",
      "  ret = um.true_divide(\n",
      "/usr/local/src/.venv/lib/python3.12/site-packages/skimage/transform/_geometric.py:137: RuntimeWarning: Mean of empty slice.\n",
      "  dst_mean = dst.mean(axis=0)\n",
      "/usr/local/src/.venv/lib/python3.12/site-packages/numpy/core/_methods.py:121: RuntimeWarning: invalid value encountered in divide\n",
      "  ret = um.true_divide(\n",
      "/usr/local/src/.venv/lib/python3.12/site-packages/skimage/transform/_geometric.py:144: RuntimeWarning: invalid value encountered in divide\n",
      "  A = dst_demean.T @ src_demean / num\n",
      "/usr/local/src/.venv/lib/python3.12/site-packages/numpy/linalg/linalg.py:2180: RuntimeWarning: invalid value encountered in det\n",
      "  r = _umath_linalg.det(a, signature=signature)\n",
      "/usr/local/src/.venv/lib/python3.12/site-packages/skimage/transform/_geometric.py:136: RuntimeWarning: Mean of empty slice.\n",
      "  src_mean = src.mean(axis=0)\n",
      "/usr/local/src/.venv/lib/python3.12/site-packages/numpy/core/_methods.py:121: RuntimeWarning: invalid value encountered in divide\n",
      "  ret = um.true_divide(\n",
      "/usr/local/src/.venv/lib/python3.12/site-packages/skimage/transform/_geometric.py:137: RuntimeWarning: Mean of empty slice.\n",
      "  dst_mean = dst.mean(axis=0)\n",
      "/usr/local/src/.venv/lib/python3.12/site-packages/numpy/core/_methods.py:121: RuntimeWarning: invalid value encountered in divide\n",
      "  ret = um.true_divide(\n",
      "/usr/local/src/.venv/lib/python3.12/site-packages/skimage/transform/_geometric.py:144: RuntimeWarning: invalid value encountered in divide\n",
      "  A = dst_demean.T @ src_demean / num\n",
      "/usr/local/src/.venv/lib/python3.12/site-packages/numpy/linalg/linalg.py:2180: RuntimeWarning: invalid value encountered in det\n",
      "  r = _umath_linalg.det(a, signature=signature)\n",
      "/usr/local/src/.venv/lib/python3.12/site-packages/skimage/transform/_geometric.py:136: RuntimeWarning: Mean of empty slice.\n",
      "  src_mean = src.mean(axis=0)\n",
      "/usr/local/src/.venv/lib/python3.12/site-packages/numpy/core/_methods.py:121: RuntimeWarning: invalid value encountered in divide\n",
      "  ret = um.true_divide(\n",
      "/usr/local/src/.venv/lib/python3.12/site-packages/skimage/transform/_geometric.py:137: RuntimeWarning: Mean of empty slice.\n",
      "  dst_mean = dst.mean(axis=0)\n",
      "/usr/local/src/.venv/lib/python3.12/site-packages/numpy/core/_methods.py:121: RuntimeWarning: invalid value encountered in divide\n",
      "  ret = um.true_divide(\n",
      "/usr/local/src/.venv/lib/python3.12/site-packages/skimage/transform/_geometric.py:144: RuntimeWarning: invalid value encountered in divide\n",
      "  A = dst_demean.T @ src_demean / num\n",
      "/usr/local/src/.venv/lib/python3.12/site-packages/numpy/linalg/linalg.py:2180: RuntimeWarning: invalid value encountered in det\n",
      "  r = _umath_linalg.det(a, signature=signature)\n",
      "/usr/local/src/.venv/lib/python3.12/site-packages/skimage/transform/_geometric.py:136: RuntimeWarning: Mean of empty slice.\n",
      "  src_mean = src.mean(axis=0)\n",
      "/usr/local/src/.venv/lib/python3.12/site-packages/numpy/core/_methods.py:121: RuntimeWarning: invalid value encountered in divide\n",
      "  ret = um.true_divide(\n",
      "/usr/local/src/.venv/lib/python3.12/site-packages/skimage/transform/_geometric.py:137: RuntimeWarning: Mean of empty slice.\n",
      "  dst_mean = dst.mean(axis=0)\n",
      "/usr/local/src/valis/valtils.py:25: UserWarning: /usr/local/src/.venv/lib/python3.12/site-packages/numpy/core/_methods.py:121: RuntimeWarning: invalid value encountered in divide\n",
      "  ret = um.true_divide(\n",
      "Need at least 4 keypoints for RANSAC filtering, but only have 3/usr/local/src/.venv/lib/python3.12/site-packages/skimage/transform/_geometric.py:144: RuntimeWarning: invalid value encountered in divide\n",
      "  A = dst_demean.T @ src_demean / num\n",
      "\n",
      "  warnings.warn(warning_msg, warning_type)\n"
     ]
    },
    {
     "name": "stdout",
     "output_type": "stream",
     "text": [
      "NoneType: None\n"
     ]
    },
    {
     "name": "stderr",
     "output_type": "stream",
     "text": [
      "/usr/local/src/.venv/lib/python3.12/site-packages/numpy/linalg/linalg.py:2180: RuntimeWarning: invalid value encountered in det\n",
      "  r = _umath_linalg.det(a, signature=signature)\n"
     ]
    },
    {
     "name": "stdout",
     "output_type": "stream",
     "text": [
      "\n"
     ]
    },
    {
     "name": "stderr",
     "output_type": "stream",
     "text": [
      "/usr/local/src/.venv/lib/python3.12/site-packages/skimage/transform/_geometric.py:136: RuntimeWarning: Mean of empty slice.\n",
      "  src_mean = src.mean(axis=0)\n",
      "/usr/local/src/.venv/lib/python3.12/site-packages/numpy/core/_methods.py:121: RuntimeWarning: invalid value encountered in divide\n",
      "  ret = um.true_divide(\n",
      "/usr/local/src/.venv/lib/python3.12/site-packages/skimage/transform/_geometric.py:137: RuntimeWarning: Mean of empty slice.\n",
      "  dst_mean = dst.mean(axis=0)\n",
      "/usr/local/src/.venv/lib/python3.12/site-packages/numpy/core/_methods.py:121: RuntimeWarning: invalid value encountered in divide\n",
      "  ret = um.true_divide(\n",
      "/usr/local/src/.venv/lib/python3.12/site-packages/skimage/transform/_geometric.py:136: RuntimeWarning: Mean of empty slice.\n",
      "  src_mean = src.mean(axis=0)\n",
      "/usr/local/src/.venv/lib/python3.12/site-packages/numpy/core/_methods.py:121: RuntimeWarning: invalid value encountered in divide\n",
      "  ret = um.true_divide(\n",
      "/usr/local/src/.venv/lib/python3.12/site-packages/skimage/transform/_geometric.py:144: RuntimeWarning: invalid value encountered in divide\n",
      "  A = dst_demean.T @ src_demean / num\n",
      "/usr/local/src/.venv/lib/python3.12/site-packages/numpy/linalg/linalg.py:2180: RuntimeWarning: invalid value encountered in det\n",
      "  r = _umath_linalg.det(a, signature=signature)\n",
      "/usr/local/src/.venv/lib/python3.12/site-packages/skimage/transform/_geometric.py:137: RuntimeWarning: Mean of empty slice.\n",
      "  dst_mean = dst.mean(axis=0)\n",
      "/usr/local/src/.venv/lib/python3.12/site-packages/numpy/core/_methods.py:121: RuntimeWarning: invalid value encountered in divide\n",
      "  ret = um.true_divide(\n",
      "/usr/local/src/.venv/lib/python3.12/site-packages/skimage/transform/_geometric.py:144: RuntimeWarning: invalid value encountered in divide\n",
      "  A = dst_demean.T @ src_demean / num\n",
      "/usr/local/src/.venv/lib/python3.12/site-packages/numpy/linalg/linalg.py:2180: RuntimeWarning: invalid value encountered in det\n",
      "  r = _umath_linalg.det(a, signature=signature)\n",
      "/usr/local/src/.venv/lib/python3.12/site-packages/skimage/transform/_geometric.py:136: RuntimeWarning: Mean of empty slice.\n",
      "  src_mean = src.mean(axis=0)\n",
      "/usr/local/src/.venv/lib/python3.12/site-packages/numpy/core/_methods.py:121: RuntimeWarning: invalid value encountered in divide\n",
      "  ret = um.true_divide(\n",
      "/usr/local/src/.venv/lib/python3.12/site-packages/skimage/transform/_geometric.py:137: RuntimeWarning: Mean of empty slice.\n",
      "  dst_mean = dst.mean(axis=0)\n",
      "/usr/local/src/.venv/lib/python3.12/site-packages/skimage/transform/_geometric.py:136: RuntimeWarning: Mean of empty slice.\n",
      "  src_mean = src.mean(axis=0)\n",
      "/usr/local/src/.venv/lib/python3.12/site-packages/numpy/core/_methods.py:121: RuntimeWarning: invalid value encountered in divide\n",
      "  ret = um.true_divide(\n",
      "/usr/local/src/.venv/lib/python3.12/site-packages/numpy/core/_methods.py:121: RuntimeWarning: invalid value encountered in divide\n",
      "  ret = um.true_divide(\n",
      "/usr/local/src/.venv/lib/python3.12/site-packages/skimage/transform/_geometric.py:144: RuntimeWarning: invalid value encountered in divide\n",
      "  A = dst_demean.T @ src_demean / num\n",
      "/usr/local/src/.venv/lib/python3.12/site-packages/numpy/linalg/linalg.py:2180: RuntimeWarning: invalid value encountered in det\n",
      "  r = _umath_linalg.det(a, signature=signature)\n",
      "/usr/local/src/.venv/lib/python3.12/site-packages/skimage/transform/_geometric.py:137: RuntimeWarning: Mean of empty slice.\n",
      "  dst_mean = dst.mean(axis=0)\n",
      "/usr/local/src/.venv/lib/python3.12/site-packages/numpy/core/_methods.py:121: RuntimeWarning: invalid value encountered in divide\n",
      "  ret = um.true_divide(\n",
      "/usr/local/src/.venv/lib/python3.12/site-packages/skimage/transform/_geometric.py:144: RuntimeWarning: invalid value encountered in divide\n",
      "  A = dst_demean.T @ src_demean / num\n",
      "/usr/local/src/.venv/lib/python3.12/site-packages/numpy/linalg/linalg.py:2180: RuntimeWarning: invalid value encountered in det\n",
      "  r = _umath_linalg.det(a, signature=signature)\n",
      "/usr/local/src/.venv/lib/python3.12/site-packages/skimage/transform/_geometric.py:136: RuntimeWarning: Mean of empty slice.\n",
      "  src_mean = src.mean(axis=0)\n",
      "/usr/local/src/.venv/lib/python3.12/site-packages/numpy/core/_methods.py:121: RuntimeWarning: invalid value encountered in divide\n",
      "  ret = um.true_divide(\n",
      "/usr/local/src/.venv/lib/python3.12/site-packages/skimage/transform/_geometric.py:137: RuntimeWarning: Mean of empty slice.\n",
      "  dst_mean = dst.mean(axis=0)\n",
      "/usr/local/src/.venv/lib/python3.12/site-packages/numpy/core/_methods.py:121: RuntimeWarning: invalid value encountered in divide\n",
      "  ret = um.true_divide(\n",
      "/usr/local/src/.venv/lib/python3.12/site-packages/skimage/transform/_geometric.py:144: RuntimeWarning: invalid value encountered in divide\n",
      "  A = dst_demean.T @ src_demean / num\n",
      "/usr/local/src/.venv/lib/python3.12/site-packages/numpy/linalg/linalg.py:2180: RuntimeWarning: invalid value encountered in det\n",
      "  r = _umath_linalg.det(a, signature=signature)\n",
      "/usr/local/src/valis/valtils.py:25: UserWarning: Need at least 4 keypoints for RANSAC filtering, but only have 2/usr/local/src/.venv/lib/python3.12/site-packages/skimage/transform/_geometric.py:136: RuntimeWarning: Mean of empty slice.\n",
      "  src_mean = src.mean(axis=0)\n",
      "\n",
      "  warnings.warn(warning_msg, warning_type)\n"
     ]
    },
    {
     "name": "stdout",
     "output_type": "stream",
     "text": [
      "NoneType: None\n"
     ]
    },
    {
     "name": "stderr",
     "output_type": "stream",
     "text": [
      "/usr/local/src/.venv/lib/python3.12/site-packages/numpy/core/_methods.py:121: RuntimeWarning: invalid value encountered in divide\n",
      "  ret = um.true_divide(\n",
      "/usr/local/src/.venv/lib/python3.12/site-packages/skimage/transform/_geometric.py:137: RuntimeWarning: Mean of empty slice.\n",
      "  dst_mean = dst.mean(axis=0)\n"
     ]
    },
    {
     "name": "stdout",
     "output_type": "stream",
     "text": [
      "\n"
     ]
    },
    {
     "name": "stderr",
     "output_type": "stream",
     "text": [
      "/usr/local/src/.venv/lib/python3.12/site-packages/numpy/core/_methods.py:121: RuntimeWarning: invalid value encountered in divide\n",
      "  ret = um.true_divide(\n",
      "/usr/local/src/valis/serial_rigid.py:615: UserWarning: 0 between B_213-ST_BFIW-SE_1036_processed and B_213-ST_BFIW-SE_2488_processed\n",
      "  warnings.warn(f\"{len(filtered_match_info12.matched_kp1_xy)} between {img_obj_1.name} and {img_obj_2.name}\")\n",
      "/usr/local/src/.venv/lib/python3.12/site-packages/skimage/transform/_geometric.py:144: RuntimeWarning: invalid value encountered in divide\n",
      "  A = dst_demean.T @ src_demean / num\n",
      "/usr/local/src/.venv/lib/python3.12/site-packages/numpy/linalg/linalg.py:2180: RuntimeWarning: invalid value encountered in det\n",
      "  r = _umath_linalg.det(a, signature=signature)\n",
      "/usr/local/src/.venv/lib/python3.12/site-packages/skimage/transform/_geometric.py:136: RuntimeWarning: Mean of empty slice.\n",
      "  src_mean = src.mean(axis=0)\n",
      "/usr/local/src/.venv/lib/python3.12/site-packages/numpy/core/_methods.py:121: RuntimeWarning: invalid value encountered in divide\n",
      "  ret = um.true_divide(\n",
      "/usr/local/src/.venv/lib/python3.12/site-packages/skimage/transform/_geometric.py:137: RuntimeWarning: Mean of empty slice.\n",
      "  dst_mean = dst.mean(axis=0)\n",
      "/usr/local/src/.venv/lib/python3.12/site-packages/numpy/core/_methods.py:121: RuntimeWarning: invalid value encountered in divide\n",
      "  ret = um.true_divide(\n",
      "/usr/local/src/.venv/lib/python3.12/site-packages/skimage/transform/_geometric.py:144: RuntimeWarning: invalid value encountered in divide\n",
      "  A = dst_demean.T @ src_demean / num\n",
      "/usr/local/src/.venv/lib/python3.12/site-packages/numpy/linalg/linalg.py:2180: RuntimeWarning: invalid value encountered in det\n",
      "  r = _umath_linalg.det(a, signature=signature)\n",
      "/usr/local/src/valis/valtils.py:25: UserWarning: Need at least 4 keypoints for RANSAC filtering, but only have 3\n",
      "  warnings.warn(warning_msg, warning_type)\n"
     ]
    },
    {
     "name": "stdout",
     "output_type": "stream",
     "text": [
      "NoneType: None\n",
      "\n"
     ]
    },
    {
     "name": "stderr",
     "output_type": "stream",
     "text": [
      "/usr/local/src/valis/valtils.py:25: UserWarning: Need at least 4 keypoints for RANSAC filtering, but only have 3\n",
      "  warnings.warn(warning_msg, warning_type)\n"
     ]
    },
    {
     "name": "stdout",
     "output_type": "stream",
     "text": [
      "NoneType: None\n",
      "\n"
     ]
    },
    {
     "name": "stderr",
     "output_type": "stream",
     "text": [
      "/usr/local/src/.venv/lib/python3.12/site-packages/skimage/transform/_geometric.py:136: RuntimeWarning: Mean of empty slice.\n",
      "  src_mean = src.mean(axis=0)\n",
      "/usr/local/src/.venv/lib/python3.12/site-packages/numpy/core/_methods.py:121: RuntimeWarning: invalid value encountered in divide\n",
      "  ret = um.true_divide(\n",
      "/usr/local/src/.venv/lib/python3.12/site-packages/skimage/transform/_geometric.py:137: RuntimeWarning: Mean of empty slice.\n",
      "  dst_mean = dst.mean(axis=0)\n",
      "/usr/local/src/.venv/lib/python3.12/site-packages/numpy/core/_methods.py:121: RuntimeWarning: invalid value encountered in divide\n",
      "  ret = um.true_divide(\n",
      "/usr/local/src/.venv/lib/python3.12/site-packages/skimage/transform/_geometric.py:144: RuntimeWarning: invalid value encountered in divide\n",
      "  A = dst_demean.T @ src_demean / num\n",
      "/usr/local/src/.venv/lib/python3.12/site-packages/numpy/linalg/linalg.py:2180: RuntimeWarning: invalid value encountered in det\n",
      "  r = _umath_linalg.det(a, signature=signature)\n",
      "/usr/local/src/.venv/lib/python3.12/site-packages/skimage/transform/_geometric.py:136: RuntimeWarning: Mean of empty slice.\n",
      "  src_mean = src.mean(axis=0)\n",
      "/usr/local/src/.venv/lib/python3.12/site-packages/numpy/core/_methods.py:121: RuntimeWarning: invalid value encountered in divide\n",
      "  ret = um.true_divide(\n",
      "/usr/local/src/.venv/lib/python3.12/site-packages/skimage/transform/_geometric.py:137: RuntimeWarning: Mean of empty slice.\n",
      "  dst_mean = dst.mean(axis=0)\n",
      "/usr/local/src/.venv/lib/python3.12/site-packages/numpy/core/_methods.py:121: RuntimeWarning: invalid value encountered in divide\n",
      "  ret = um.true_divide(\n",
      "/usr/local/src/.venv/lib/python3.12/site-packages/skimage/transform/_geometric.py:144: RuntimeWarning: invalid value encountered in divide\n",
      "  A = dst_demean.T @ src_demean / num\n",
      "/usr/local/src/.venv/lib/python3.12/site-packages/numpy/linalg/linalg.py:2180: RuntimeWarning: invalid value encountered in det\n",
      "  r = _umath_linalg.det(a, signature=signature)\n",
      "/usr/local/src/.venv/lib/python3.12/site-packages/skimage/transform/_geometric.py:136: RuntimeWarning: Mean of empty slice.\n",
      "  src_mean = src.mean(axis=0)\n",
      "/usr/local/src/.venv/lib/python3.12/site-packages/numpy/core/_methods.py:121: RuntimeWarning: invalid value encountered in divide\n",
      "  ret = um.true_divide(\n",
      "/usr/local/src/.venv/lib/python3.12/site-packages/skimage/transform/_geometric.py:137: RuntimeWarning: Mean of empty slice.\n",
      "  dst_mean = dst.mean(axis=0)\n",
      "/usr/local/src/.venv/lib/python3.12/site-packages/numpy/core/_methods.py:121: RuntimeWarning: invalid value encountered in divide\n",
      "  ret = um.true_divide(\n",
      "/usr/local/src/.venv/lib/python3.12/site-packages/skimage/transform/_geometric.py:144: RuntimeWarning: invalid value encountered in divide\n",
      "  A = dst_demean.T @ src_demean / num\n",
      "/usr/local/src/.venv/lib/python3.12/site-packages/numpy/linalg/linalg.py:2180: RuntimeWarning: invalid value encountered in det\n",
      "  r = _umath_linalg.det(a, signature=signature)\n",
      "/usr/local/src/.venv/lib/python3.12/site-packages/skimage/transform/_geometric.py:136: RuntimeWarning: Mean of empty slice.\n",
      "  src_mean = src.mean(axis=0)\n",
      "/usr/local/src/.venv/lib/python3.12/site-packages/numpy/core/_methods.py:121: RuntimeWarning: invalid value encountered in divide\n",
      "  ret = um.true_divide(\n",
      "/usr/local/src/.venv/lib/python3.12/site-packages/skimage/transform/_geometric.py:137: RuntimeWarning: Mean of empty slice.\n",
      "  dst_mean = dst.mean(axis=0)\n",
      "/usr/local/src/.venv/lib/python3.12/site-packages/numpy/core/_methods.py:121: RuntimeWarning: invalid value encountered in divide\n",
      "  ret = um.true_divide(\n",
      "/usr/local/src/.venv/lib/python3.12/site-packages/skimage/transform/_geometric.py:144: RuntimeWarning: invalid value encountered in divide\n",
      "  A = dst_demean.T @ src_demean / num\n",
      "/usr/local/src/.venv/lib/python3.12/site-packages/numpy/linalg/linalg.py:2180: RuntimeWarning: invalid value encountered in det\n",
      "  r = _umath_linalg.det(a, signature=signature)\n",
      "/usr/local/src/.venv/lib/python3.12/site-packages/skimage/transform/_geometric.py:136: RuntimeWarning: Mean of empty slice.\n",
      "  src_mean = src.mean(axis=0)\n",
      "/usr/local/src/.venv/lib/python3.12/site-packages/numpy/core/_methods.py:121: RuntimeWarning: invalid value encountered in divide\n",
      "  ret = um.true_divide(\n",
      "/usr/local/src/.venv/lib/python3.12/site-packages/skimage/transform/_geometric.py:137: RuntimeWarning: Mean of empty slice.\n",
      "  dst_mean = dst.mean(axis=0)\n",
      "/usr/local/src/.venv/lib/python3.12/site-packages/numpy/core/_methods.py:121: RuntimeWarning: invalid value encountered in divide\n",
      "  ret = um.true_divide(\n",
      "/usr/local/src/.venv/lib/python3.12/site-packages/skimage/transform/_geometric.py:144: RuntimeWarning: invalid value encountered in divide\n",
      "  A = dst_demean.T @ src_demean / num\n",
      "/usr/local/src/.venv/lib/python3.12/site-packages/numpy/linalg/linalg.py:2180: RuntimeWarning: invalid value encountered in det\n",
      "  r = _umath_linalg.det(a, signature=signature)\n",
      "/usr/local/src/valis/valtils.py:25: UserWarning: Need at least 4 keypoints for RANSAC filtering, but only have 3\n",
      "  warnings.warn(warning_msg, warning_type)\n"
     ]
    },
    {
     "name": "stdout",
     "output_type": "stream",
     "text": [
      "NoneType: None\n",
      "\n"
     ]
    },
    {
     "name": "stderr",
     "output_type": "stream",
     "text": [
      "/usr/local/src/.venv/lib/python3.12/site-packages/skimage/transform/_geometric.py:136: RuntimeWarning: Mean of empty slice.\n",
      "  src_mean = src.mean(axis=0)\n",
      "/usr/local/src/.venv/lib/python3.12/site-packages/numpy/core/_methods.py:121: RuntimeWarning: invalid value encountered in divide\n",
      "  ret = um.true_divide(\n",
      "/usr/local/src/.venv/lib/python3.12/site-packages/skimage/transform/_geometric.py:137: RuntimeWarning: Mean of empty slice.\n",
      "  dst_mean = dst.mean(axis=0)\n",
      "/usr/local/src/.venv/lib/python3.12/site-packages/numpy/core/_methods.py:121: RuntimeWarning: invalid value encountered in divide\n",
      "  ret = um.true_divide(\n",
      "/usr/local/src/.venv/lib/python3.12/site-packages/skimage/transform/_geometric.py:144: RuntimeWarning: invalid value encountered in divide\n",
      "  A = dst_demean.T @ src_demean / num\n",
      "/usr/local/src/.venv/lib/python3.12/site-packages/numpy/linalg/linalg.py:2180: RuntimeWarning: invalid value encountered in det\n",
      "  r = _umath_linalg.det(a, signature=signature)\n",
      "/usr/local/src/.venv/lib/python3.12/site-packages/skimage/transform/_geometric.py:136: RuntimeWarning: Mean of empty slice.\n",
      "  src_mean = src.mean(axis=0)\n",
      "/usr/local/src/.venv/lib/python3.12/site-packages/numpy/core/_methods.py:121: RuntimeWarning: invalid value encountered in divide\n",
      "  ret = um.true_divide(\n",
      "/usr/local/src/.venv/lib/python3.12/site-packages/skimage/transform/_geometric.py:137: RuntimeWarning: Mean of empty slice.\n",
      "  dst_mean = dst.mean(axis=0)\n",
      "/usr/local/src/.venv/lib/python3.12/site-packages/numpy/core/_methods.py:121: RuntimeWarning: invalid value encountered in divide\n",
      "  ret = um.true_divide(\n",
      "/usr/local/src/.venv/lib/python3.12/site-packages/skimage/transform/_geometric.py:144: RuntimeWarning: invalid value encountered in divide\n",
      "  A = dst_demean.T @ src_demean / num\n",
      "/usr/local/src/.venv/lib/python3.12/site-packages/numpy/linalg/linalg.py:2180: RuntimeWarning: invalid value encountered in det\n",
      "  r = _umath_linalg.det(a, signature=signature)\n",
      "/usr/local/src/.venv/lib/python3.12/site-packages/skimage/transform/_geometric.py:136: RuntimeWarning: Mean of empty slice.\n",
      "  src_mean = src.mean(axis=0)\n",
      "/usr/local/src/.venv/lib/python3.12/site-packages/numpy/core/_methods.py:121: RuntimeWarning: invalid value encountered in divide\n",
      "  ret = um.true_divide(\n",
      "/usr/local/src/.venv/lib/python3.12/site-packages/skimage/transform/_geometric.py:137: RuntimeWarning: Mean of empty slice.\n",
      "  dst_mean = dst.mean(axis=0)\n",
      "/usr/local/src/.venv/lib/python3.12/site-packages/numpy/core/_methods.py:121: RuntimeWarning: invalid value encountered in divide\n",
      "  ret = um.true_divide(\n",
      "/usr/local/src/.venv/lib/python3.12/site-packages/skimage/transform/_geometric.py:144: RuntimeWarning: invalid value encountered in divide\n",
      "  A = dst_demean.T @ src_demean / num\n",
      "/usr/local/src/.venv/lib/python3.12/site-packages/numpy/linalg/linalg.py:2180: RuntimeWarning: invalid value encountered in det\n",
      "  r = _umath_linalg.det(a, signature=signature)\n",
      "/usr/local/src/.venv/lib/python3.12/site-packages/skimage/transform/_geometric.py:136: RuntimeWarning: Mean of empty slice.\n",
      "  src_mean = src.mean(axis=0)\n",
      "/usr/local/src/.venv/lib/python3.12/site-packages/numpy/core/_methods.py:121: RuntimeWarning: invalid value encountered in divide\n",
      "  ret = um.true_divide(\n",
      "/usr/local/src/.venv/lib/python3.12/site-packages/skimage/transform/_geometric.py:137: RuntimeWarning: Mean of empty slice.\n",
      "  dst_mean = dst.mean(axis=0)\n",
      "/usr/local/src/.venv/lib/python3.12/site-packages/numpy/core/_methods.py:121: RuntimeWarning: invalid value encountered in divide\n",
      "  ret = um.true_divide(\n",
      "/usr/local/src/.venv/lib/python3.12/site-packages/skimage/transform/_geometric.py:144: RuntimeWarning: invalid value encountered in divide\n",
      "  A = dst_demean.T @ src_demean / num\n",
      "/usr/local/src/.venv/lib/python3.12/site-packages/numpy/linalg/linalg.py:2180: RuntimeWarning: invalid value encountered in det\n",
      "  r = _umath_linalg.det(a, signature=signature)\n",
      "/usr/local/src/.venv/lib/python3.12/site-packages/skimage/transform/_geometric.py:136: RuntimeWarning: Mean of empty slice.\n",
      "  src_mean = src.mean(axis=0)\n",
      "/usr/local/src/.venv/lib/python3.12/site-packages/numpy/core/_methods.py:121: RuntimeWarning: invalid value encountered in divide\n",
      "  ret = um.true_divide(\n",
      "/usr/local/src/.venv/lib/python3.12/site-packages/skimage/transform/_geometric.py:137: RuntimeWarning: Mean of empty slice.\n",
      "  dst_mean = dst.mean(axis=0)\n",
      "/usr/local/src/.venv/lib/python3.12/site-packages/numpy/core/_methods.py:121: RuntimeWarning: invalid value encountered in divide\n",
      "  ret = um.true_divide(\n",
      "/usr/local/src/.venv/lib/python3.12/site-packages/skimage/transform/_geometric.py:144: RuntimeWarning: invalid value encountered in divide\n",
      "  A = dst_demean.T @ src_demean / num\n",
      "/usr/local/src/.venv/lib/python3.12/site-packages/numpy/linalg/linalg.py:2180: RuntimeWarning: invalid value encountered in det\n",
      "  r = _umath_linalg.det(a, signature=signature)\n",
      "/usr/local/src/.venv/lib/python3.12/site-packages/skimage/transform/_geometric.py:136: RuntimeWarning: Mean of empty slice.\n",
      "  src_mean = src.mean(axis=0)\n",
      "/usr/local/src/.venv/lib/python3.12/site-packages/numpy/core/_methods.py:121: RuntimeWarning: invalid value encountered in divide\n",
      "  ret = um.true_divide(\n",
      "/usr/local/src/.venv/lib/python3.12/site-packages/skimage/transform/_geometric.py:137: RuntimeWarning: Mean of empty slice.\n",
      "  dst_mean = dst.mean(axis=0)\n",
      "/usr/local/src/.venv/lib/python3.12/site-packages/numpy/core/_methods.py:121: RuntimeWarning: invalid value encountered in divide\n",
      "  ret = um.true_divide(\n",
      "/usr/local/src/.venv/lib/python3.12/site-packages/skimage/transform/_geometric.py:144: RuntimeWarning: invalid value encountered in divide\n",
      "  A = dst_demean.T @ src_demean / num\n",
      "/usr/local/src/.venv/lib/python3.12/site-packages/numpy/linalg/linalg.py:2180: RuntimeWarning: invalid value encountered in det\n",
      "  r = _umath_linalg.det(a, signature=signature)\n",
      "/usr/local/src/valis/valtils.py:25: UserWarning: Need at least 4 keypoints for RANSAC filtering, but only have 3\n",
      "  warnings.warn(warning_msg, warning_type)\n"
     ]
    },
    {
     "name": "stdout",
     "output_type": "stream",
     "text": [
      "NoneType: None\n",
      "\n"
     ]
    },
    {
     "name": "stderr",
     "output_type": "stream",
     "text": [
      "/usr/local/src/valis/valtils.py:25: UserWarning: Need at least 4 keypoints for RANSAC filtering, but only have 3\n",
      "  warnings.warn(warning_msg, warning_type)\n"
     ]
    },
    {
     "name": "stdout",
     "output_type": "stream",
     "text": [
      "NoneType: None\n",
      "\n"
     ]
    },
    {
     "name": "stderr",
     "output_type": "stream",
     "text": [
      "/usr/local/src/.venv/lib/python3.12/site-packages/skimage/transform/_geometric.py:136: RuntimeWarning: Mean of empty slice.\n",
      "  src_mean = src.mean(axis=0)\n",
      "/usr/local/src/.venv/lib/python3.12/site-packages/numpy/core/_methods.py:121: RuntimeWarning: invalid value encountered in divide\n",
      "  ret = um.true_divide(\n",
      "/usr/local/src/.venv/lib/python3.12/site-packages/skimage/transform/_geometric.py:137: RuntimeWarning: Mean of empty slice.\n",
      "  dst_mean = dst.mean(axis=0)\n",
      "/usr/local/src/.venv/lib/python3.12/site-packages/numpy/core/_methods.py:121: RuntimeWarning: invalid value encountered in divide\n",
      "  ret = um.true_divide(\n",
      "/usr/local/src/.venv/lib/python3.12/site-packages/skimage/transform/_geometric.py:144: RuntimeWarning: invalid value encountered in divide\n",
      "  A = dst_demean.T @ src_demean / num\n",
      "/usr/local/src/.venv/lib/python3.12/site-packages/numpy/linalg/linalg.py:2180: RuntimeWarning: invalid value encountered in det\n",
      "  r = _umath_linalg.det(a, signature=signature)\n",
      "/usr/local/src/.venv/lib/python3.12/site-packages/skimage/transform/_geometric.py:136: RuntimeWarning: Mean of empty slice.\n",
      "  src_mean = src.mean(axis=0)\n",
      "/usr/local/src/.venv/lib/python3.12/site-packages/numpy/core/_methods.py:121: RuntimeWarning: invalid value encountered in divide\n",
      "  ret = um.true_divide(\n",
      "/usr/local/src/.venv/lib/python3.12/site-packages/skimage/transform/_geometric.py:137: RuntimeWarning: Mean of empty slice.\n",
      "  dst_mean = dst.mean(axis=0)\n",
      "/usr/local/src/.venv/lib/python3.12/site-packages/numpy/core/_methods.py:121: RuntimeWarning: invalid value encountered in divide\n",
      "  ret = um.true_divide(\n",
      "/usr/local/src/.venv/lib/python3.12/site-packages/skimage/transform/_geometric.py:144: RuntimeWarning: invalid value encountered in divide\n",
      "  A = dst_demean.T @ src_demean / num\n",
      "/usr/local/src/.venv/lib/python3.12/site-packages/numpy/linalg/linalg.py:2180: RuntimeWarning: invalid value encountered in det\n",
      "  r = _umath_linalg.det(a, signature=signature)\n",
      "/usr/local/src/.venv/lib/python3.12/site-packages/skimage/transform/_geometric.py:136: RuntimeWarning: Mean of empty slice.\n",
      "  src_mean = src.mean(axis=0)\n",
      "/usr/local/src/.venv/lib/python3.12/site-packages/numpy/core/_methods.py:121: RuntimeWarning: invalid value encountered in divide\n",
      "  ret = um.true_divide(\n",
      "/usr/local/src/.venv/lib/python3.12/site-packages/skimage/transform/_geometric.py:137: RuntimeWarning: Mean of empty slice.\n",
      "  dst_mean = dst.mean(axis=0)\n",
      "/usr/local/src/.venv/lib/python3.12/site-packages/numpy/core/_methods.py:121: RuntimeWarning: invalid value encountered in divide\n",
      "  ret = um.true_divide(\n",
      "/usr/local/src/.venv/lib/python3.12/site-packages/skimage/transform/_geometric.py:144: RuntimeWarning: invalid value encountered in divide\n",
      "  A = dst_demean.T @ src_demean / num\n",
      "/usr/local/src/.venv/lib/python3.12/site-packages/numpy/linalg/linalg.py:2180: RuntimeWarning: invalid value encountered in det\n",
      "  r = _umath_linalg.det(a, signature=signature)\n",
      "/usr/local/src/valis/valtils.py:25: UserWarning: Need at least 4 keypoints for RANSAC filtering, but only have 3\n",
      "  warnings.warn(warning_msg, warning_type)\n"
     ]
    },
    {
     "name": "stdout",
     "output_type": "stream",
     "text": [
      "NoneType: None\n",
      "\n"
     ]
    },
    {
     "name": "stderr",
     "output_type": "stream",
     "text": [
      "/usr/local/src/.venv/lib/python3.12/site-packages/skimage/transform/_geometric.py:136: RuntimeWarning: Mean of empty slice.\n",
      "  src_mean = src.mean(axis=0)\n",
      "/usr/local/src/.venv/lib/python3.12/site-packages/numpy/core/_methods.py:121: RuntimeWarning: invalid value encountered in divide\n",
      "  ret = um.true_divide(\n",
      "/usr/local/src/.venv/lib/python3.12/site-packages/skimage/transform/_geometric.py:137: RuntimeWarning: Mean of empty slice.\n",
      "  dst_mean = dst.mean(axis=0)\n",
      "/usr/local/src/.venv/lib/python3.12/site-packages/numpy/core/_methods.py:121: RuntimeWarning: invalid value encountered in divide\n",
      "  ret = um.true_divide(\n",
      "/usr/local/src/.venv/lib/python3.12/site-packages/skimage/transform/_geometric.py:144: RuntimeWarning: invalid value encountered in divide\n",
      "  A = dst_demean.T @ src_demean / num\n",
      "/usr/local/src/.venv/lib/python3.12/site-packages/numpy/linalg/linalg.py:2180: RuntimeWarning: invalid value encountered in det\n",
      "  r = _umath_linalg.det(a, signature=signature)\n",
      "/usr/local/src/valis/valtils.py:25: UserWarning: Need at least 4 keypoints for RANSAC filtering, but only have 3\n",
      "  warnings.warn(warning_msg, warning_type)\n"
     ]
    },
    {
     "name": "stdout",
     "output_type": "stream",
     "text": [
      "NoneType: None\n",
      "\n"
     ]
    },
    {
     "name": "stderr",
     "output_type": "stream",
     "text": [
      "/usr/local/src/.venv/lib/python3.12/site-packages/skimage/transform/_geometric.py:136: RuntimeWarning: Mean of empty slice.\n",
      "  src_mean = src.mean(axis=0)\n",
      "/usr/local/src/.venv/lib/python3.12/site-packages/numpy/core/_methods.py:121: RuntimeWarning: invalid value encountered in divide\n",
      "  ret = um.true_divide(\n",
      "/usr/local/src/.venv/lib/python3.12/site-packages/skimage/transform/_geometric.py:137: RuntimeWarning: Mean of empty slice.\n",
      "  dst_mean = dst.mean(axis=0)\n",
      "/usr/local/src/.venv/lib/python3.12/site-packages/numpy/core/_methods.py:121: RuntimeWarning: invalid value encountered in divide\n",
      "  ret = um.true_divide(\n",
      "/usr/local/src/.venv/lib/python3.12/site-packages/skimage/transform/_geometric.py:136: RuntimeWarning: Mean of empty slice.\n",
      "  src_mean = src.mean(axis=0)\n",
      "/usr/local/src/.venv/lib/python3.12/site-packages/skimage/transform/_geometric.py:144: RuntimeWarning: invalid value encountered in divide\n",
      "  A = dst_demean.T @ src_demean / num\n",
      "/usr/local/src/.venv/lib/python3.12/site-packages/numpy/linalg/linalg.py:2180: RuntimeWarning: invalid value encountered in det\n",
      "  r = _umath_linalg.det(a, signature=signature)\n",
      "/usr/local/src/.venv/lib/python3.12/site-packages/numpy/core/_methods.py:121: RuntimeWarning: invalid value encountered in divide\n",
      "  ret = um.true_divide(\n",
      "/usr/local/src/.venv/lib/python3.12/site-packages/skimage/transform/_geometric.py:137: RuntimeWarning: Mean of empty slice.\n",
      "  dst_mean = dst.mean(axis=0)\n",
      "/usr/local/src/.venv/lib/python3.12/site-packages/numpy/core/_methods.py:121: RuntimeWarning: invalid value encountered in divide\n",
      "  ret = um.true_divide(\n",
      "/usr/local/src/.venv/lib/python3.12/site-packages/skimage/transform/_geometric.py:144: RuntimeWarning: invalid value encountered in divide\n",
      "  A = dst_demean.T @ src_demean / num\n",
      "/usr/local/src/.venv/lib/python3.12/site-packages/numpy/linalg/linalg.py:2180: RuntimeWarning: invalid value encountered in det\n",
      "  r = _umath_linalg.det(a, signature=signature)\n",
      "/usr/local/src/valis/valtils.py:25: UserWarning: Need at least 4 keypoints for RANSAC filtering, but only have 3\n",
      "  warnings.warn(warning_msg, warning_type)\n"
     ]
    },
    {
     "name": "stdout",
     "output_type": "stream",
     "text": [
      "NoneType: None\n",
      "\n"
     ]
    },
    {
     "name": "stderr",
     "output_type": "stream",
     "text": [
      "/usr/local/src/.venv/lib/python3.12/site-packages/skimage/transform/_geometric.py:136: RuntimeWarning: Mean of empty slice.\n",
      "  src_mean = src.mean(axis=0)\n",
      "/usr/local/src/.venv/lib/python3.12/site-packages/numpy/core/_methods.py:121: RuntimeWarning: invalid value encountered in divide\n",
      "  ret = um.true_divide(\n",
      "/usr/local/src/.venv/lib/python3.12/site-packages/skimage/transform/_geometric.py:137: RuntimeWarning: Mean of empty slice.\n",
      "  dst_mean = dst.mean(axis=0)\n",
      "/usr/local/src/valis/valtils.py:25: UserWarning: /usr/local/src/valis/valtils.py:25: UserWarning: Need at least 4 keypoints for RANSAC filtering, but only have 2Need at least 4 keypoints for RANSAC filtering, but only have 3/usr/local/src/.venv/lib/python3.12/site-packages/numpy/core/_methods.py:121: RuntimeWarning: invalid value encountered in divide\n",
      "  ret = um.true_divide(\n",
      "\n",
      "  warnings.warn(warning_msg, warning_type)\n",
      "/usr/local/src/.venv/lib/python3.12/site-packages/skimage/transform/_geometric.py:144: RuntimeWarning: invalid value encountered in divide\n",
      "  A = dst_demean.T @ src_demean / num\n",
      "\n",
      "  warnings.warn(warning_msg, warning_type)\n"
     ]
    },
    {
     "name": "stdout",
     "output_type": "stream",
     "text": [
      "NoneType: None\n",
      "NoneType: None\n",
      "\n"
     ]
    },
    {
     "name": "stderr",
     "output_type": "stream",
     "text": [
      "/usr/local/src/.venv/lib/python3.12/site-packages/numpy/linalg/linalg.py:2180: RuntimeWarning: invalid value encountered in det\n",
      "  r = _umath_linalg.det(a, signature=signature)\n"
     ]
    },
    {
     "name": "stdout",
     "output_type": "stream",
     "text": [
      "\n"
     ]
    },
    {
     "name": "stderr",
     "output_type": "stream",
     "text": [
      "/usr/local/src/valis/valtils.py:25: UserWarning: Need at least 4 keypoints for RANSAC filtering, but only have 3\n",
      "  warnings.warn(warning_msg, warning_type)\n"
     ]
    },
    {
     "name": "stdout",
     "output_type": "stream",
     "text": [
      "NoneType: None\n",
      "\n"
     ]
    },
    {
     "name": "stderr",
     "output_type": "stream",
     "text": [
      "/usr/local/src/.venv/lib/python3.12/site-packages/skimage/transform/_geometric.py:136: RuntimeWarning: Mean of empty slice.\n",
      "  src_mean = src.mean(axis=0)\n",
      "/usr/local/src/.venv/lib/python3.12/site-packages/numpy/core/_methods.py:121: RuntimeWarning: invalid value encountered in divide\n",
      "  ret = um.true_divide(\n",
      "/usr/local/src/.venv/lib/python3.12/site-packages/skimage/transform/_geometric.py:137: RuntimeWarning: Mean of empty slice.\n",
      "  dst_mean = dst.mean(axis=0)\n",
      "/usr/local/src/.venv/lib/python3.12/site-packages/numpy/core/_methods.py:121: RuntimeWarning: invalid value encountered in divide\n",
      "  ret = um.true_divide(\n",
      "/usr/local/src/.venv/lib/python3.12/site-packages/skimage/transform/_geometric.py:136: RuntimeWarning: Mean of empty slice.\n",
      "  src_mean = src.mean(axis=0)\n",
      "/usr/local/src/.venv/lib/python3.12/site-packages/skimage/transform/_geometric.py:144: RuntimeWarning: invalid value encountered in divide\n",
      "  A = dst_demean.T @ src_demean / num\n",
      "/usr/local/src/.venv/lib/python3.12/site-packages/numpy/core/_methods.py:121: RuntimeWarning: invalid value encountered in divide\n",
      "  ret = um.true_divide(\n",
      "/usr/local/src/.venv/lib/python3.12/site-packages/skimage/transform/_geometric.py:137: RuntimeWarning: Mean of empty slice.\n",
      "  dst_mean = dst.mean(axis=0)\n",
      "/usr/local/src/.venv/lib/python3.12/site-packages/numpy/linalg/linalg.py:2180: RuntimeWarning: invalid value encountered in det\n",
      "  r = _umath_linalg.det(a, signature=signature)\n",
      "/usr/local/src/.venv/lib/python3.12/site-packages/numpy/core/_methods.py:121: RuntimeWarning: invalid value encountered in divide\n",
      "  ret = um.true_divide(\n",
      "/usr/local/src/.venv/lib/python3.12/site-packages/skimage/transform/_geometric.py:144: RuntimeWarning: invalid value encountered in divide\n",
      "  A = dst_demean.T @ src_demean / num\n",
      "/usr/local/src/.venv/lib/python3.12/site-packages/numpy/linalg/linalg.py:2180: RuntimeWarning: invalid value encountered in det\n",
      "  r = _umath_linalg.det(a, signature=signature)\n",
      "/usr/local/src/valis/valtils.py:25: UserWarning: Need at least 4 keypoints for RANSAC filtering, but only have 3\n",
      "  warnings.warn(warning_msg, warning_type)\n"
     ]
    },
    {
     "name": "stdout",
     "output_type": "stream",
     "text": [
      "NoneType: None\n",
      "\n"
     ]
    },
    {
     "name": "stderr",
     "output_type": "stream",
     "text": [
      "/usr/local/src/valis/valtils.py:25: UserWarning: Need at least 4 keypoints for RANSAC filtering, but only have 3\n",
      "  warnings.warn(warning_msg, warning_type)\n"
     ]
    },
    {
     "name": "stdout",
     "output_type": "stream",
     "text": [
      "NoneType: None\n",
      "\n"
     ]
    },
    {
     "name": "stderr",
     "output_type": "stream",
     "text": [
      "/usr/local/src/.venv/lib/python3.12/site-packages/skimage/transform/_geometric.py:136: RuntimeWarning: Mean of empty slice.\n",
      "  src_mean = src.mean(axis=0)\n",
      "/usr/local/src/.venv/lib/python3.12/site-packages/numpy/core/_methods.py:121: RuntimeWarning: invalid value encountered in divide\n",
      "  ret = um.true_divide(\n",
      "/usr/local/src/.venv/lib/python3.12/site-packages/skimage/transform/_geometric.py:137: RuntimeWarning: Mean of empty slice.\n",
      "  dst_mean = dst.mean(axis=0)\n",
      "/usr/local/src/.venv/lib/python3.12/site-packages/numpy/core/_methods.py:121: RuntimeWarning: invalid value encountered in divide\n",
      "  ret = um.true_divide(\n",
      "/usr/local/src/.venv/lib/python3.12/site-packages/skimage/transform/_geometric.py:144: RuntimeWarning: invalid value encountered in divide\n",
      "  A = dst_demean.T @ src_demean / num\n",
      "/usr/local/src/.venv/lib/python3.12/site-packages/numpy/linalg/linalg.py:2180: RuntimeWarning: invalid value encountered in det\n",
      "  r = _umath_linalg.det(a, signature=signature)\n",
      "/usr/local/src/valis/valtils.py:25: UserWarning: Need at least 4 keypoints for RANSAC filtering, but only have 2\n",
      "  warnings.warn(warning_msg, warning_type)\n"
     ]
    },
    {
     "name": "stdout",
     "output_type": "stream",
     "text": [
      "NoneType: None\n",
      "\n"
     ]
    },
    {
     "name": "stderr",
     "output_type": "stream",
     "text": [
      "/usr/local/src/valis/serial_rigid.py:615: UserWarning: 0 between B_213-ST_BFIW-SE_1274_processed and B_213-ST_BFIW-SE_2488_processed\n",
      "  warnings.warn(f\"{len(filtered_match_info12.matched_kp1_xy)} between {img_obj_1.name} and {img_obj_2.name}\")\n",
      "/usr/local/src/valis/valtils.py:25: UserWarning: Need at least 4 keypoints for RANSAC filtering, but only have 3\n",
      "  warnings.warn(warning_msg, warning_type)\n"
     ]
    },
    {
     "name": "stdout",
     "output_type": "stream",
     "text": [
      "NoneType: None\n",
      "\n"
     ]
    },
    {
     "name": "stderr",
     "output_type": "stream",
     "text": [
      "/usr/local/src/valis/valtils.py:25: UserWarning: Need at least 4 keypoints for RANSAC filtering, but only have 3\n",
      "  warnings.warn(warning_msg, warning_type)\n"
     ]
    },
    {
     "name": "stdout",
     "output_type": "stream",
     "text": [
      "NoneType: None\n",
      "\n"
     ]
    },
    {
     "name": "stderr",
     "output_type": "stream",
     "text": [
      "/usr/local/src/.venv/lib/python3.12/site-packages/skimage/transform/_geometric.py:136: RuntimeWarning: Mean of empty slice.\n",
      "  src_mean = src.mean(axis=0)\n",
      "/usr/local/src/.venv/lib/python3.12/site-packages/numpy/core/_methods.py:121: RuntimeWarning: invalid value encountered in divide\n",
      "  ret = um.true_divide(\n",
      "/usr/local/src/.venv/lib/python3.12/site-packages/skimage/transform/_geometric.py:137: RuntimeWarning: Mean of empty slice.\n",
      "  dst_mean = dst.mean(axis=0)\n",
      "/usr/local/src/.venv/lib/python3.12/site-packages/numpy/core/_methods.py:121: RuntimeWarning: invalid value encountered in divide\n",
      "  ret = um.true_divide(\n",
      "/usr/local/src/.venv/lib/python3.12/site-packages/skimage/transform/_geometric.py:144: RuntimeWarning: invalid value encountered in divide\n",
      "  A = dst_demean.T @ src_demean / num\n",
      "/usr/local/src/.venv/lib/python3.12/site-packages/numpy/linalg/linalg.py:2180: RuntimeWarning: invalid value encountered in det\n",
      "  r = _umath_linalg.det(a, signature=signature)\n",
      "/usr/local/src/.venv/lib/python3.12/site-packages/skimage/transform/_geometric.py:136: RuntimeWarning: Mean of empty slice.\n",
      "  src_mean = src.mean(axis=0)\n",
      "/usr/local/src/.venv/lib/python3.12/site-packages/numpy/core/_methods.py:121: RuntimeWarning: invalid value encountered in divide\n",
      "  ret = um.true_divide(\n",
      "/usr/local/src/.venv/lib/python3.12/site-packages/skimage/transform/_geometric.py:137: RuntimeWarning: Mean of empty slice.\n",
      "  dst_mean = dst.mean(axis=0)\n",
      "/usr/local/src/.venv/lib/python3.12/site-packages/numpy/core/_methods.py:121: RuntimeWarning: invalid value encountered in divide\n",
      "  ret = um.true_divide(\n",
      "/usr/local/src/.venv/lib/python3.12/site-packages/skimage/transform/_geometric.py:144: RuntimeWarning: invalid value encountered in divide\n",
      "  A = dst_demean.T @ src_demean / num\n",
      "/usr/local/src/.venv/lib/python3.12/site-packages/numpy/linalg/linalg.py:2180: RuntimeWarning: invalid value encountered in det\n",
      "  r = _umath_linalg.det(a, signature=signature)\n",
      "/usr/local/src/.venv/lib/python3.12/site-packages/skimage/transform/_geometric.py:136: RuntimeWarning: Mean of empty slice.\n",
      "  src_mean = src.mean(axis=0)\n",
      "/usr/local/src/.venv/lib/python3.12/site-packages/numpy/core/_methods.py:121: RuntimeWarning: invalid value encountered in divide\n",
      "  ret = um.true_divide(\n",
      "/usr/local/src/.venv/lib/python3.12/site-packages/skimage/transform/_geometric.py:137: RuntimeWarning: Mean of empty slice.\n",
      "  dst_mean = dst.mean(axis=0)\n",
      "/usr/local/src/.venv/lib/python3.12/site-packages/numpy/core/_methods.py:121: RuntimeWarning: invalid value encountered in divide\n",
      "  ret = um.true_divide(\n",
      "/usr/local/src/.venv/lib/python3.12/site-packages/skimage/transform/_geometric.py:144: RuntimeWarning: invalid value encountered in divide\n",
      "  A = dst_demean.T @ src_demean / num\n",
      "/usr/local/src/.venv/lib/python3.12/site-packages/numpy/linalg/linalg.py:2180: RuntimeWarning: invalid value encountered in det\n",
      "  r = _umath_linalg.det(a, signature=signature)\n",
      "/usr/local/src/valis/valtils.py:25: UserWarning: Need at least 4 keypoints for RANSAC filtering, but only have 3\n",
      "  warnings.warn(warning_msg, warning_type)\n"
     ]
    },
    {
     "name": "stdout",
     "output_type": "stream",
     "text": [
      "NoneType: None\n",
      "\n"
     ]
    },
    {
     "name": "stderr",
     "output_type": "stream",
     "text": [
      "/usr/local/src/valis/valtils.py:25: UserWarning: Need at least 4 keypoints for RANSAC filtering, but only have 3\n",
      "  warnings.warn(warning_msg, warning_type)\n"
     ]
    },
    {
     "name": "stdout",
     "output_type": "stream",
     "text": [
      "NoneType: None\n",
      "\n"
     ]
    },
    {
     "name": "stderr",
     "output_type": "stream",
     "text": [
      "/usr/local/src/.venv/lib/python3.12/site-packages/skimage/transform/_geometric.py:136: RuntimeWarning: Mean of empty slice.\n",
      "  src_mean = src.mean(axis=0)\n",
      "/usr/local/src/.venv/lib/python3.12/site-packages/numpy/core/_methods.py:121: RuntimeWarning: invalid value encountered in divide\n",
      "  ret = um.true_divide(\n",
      "/usr/local/src/.venv/lib/python3.12/site-packages/skimage/transform/_geometric.py:137: RuntimeWarning: Mean of empty slice.\n",
      "  dst_mean = dst.mean(axis=0)\n",
      "/usr/local/src/.venv/lib/python3.12/site-packages/numpy/core/_methods.py:121: RuntimeWarning: invalid value encountered in divide\n",
      "  ret = um.true_divide(\n",
      "/usr/local/src/.venv/lib/python3.12/site-packages/skimage/transform/_geometric.py:144: RuntimeWarning: invalid value encountered in divide\n",
      "  A = dst_demean.T @ src_demean / num\n",
      "/usr/local/src/.venv/lib/python3.12/site-packages/numpy/linalg/linalg.py:2180: RuntimeWarning: invalid value encountered in det\n",
      "  r = _umath_linalg.det(a, signature=signature)\n",
      "/usr/local/src/valis/valtils.py:25: UserWarning: Need at least 4 keypoints for RANSAC filtering, but only have 2\n",
      "  warnings.warn(warning_msg, warning_type)\n"
     ]
    },
    {
     "name": "stdout",
     "output_type": "stream",
     "text": [
      "NoneType: None\n",
      "\n"
     ]
    },
    {
     "name": "stderr",
     "output_type": "stream",
     "text": [
      "/usr/local/src/valis/valtils.py:25: UserWarning: Need at least 4 keypoints for RANSAC filtering, but only have 2\n",
      "  warnings.warn(warning_msg, warning_type)\n"
     ]
    },
    {
     "name": "stdout",
     "output_type": "stream",
     "text": [
      "NoneType: None\n",
      "\n"
     ]
    },
    {
     "name": "stderr",
     "output_type": "stream",
     "text": [
      "/usr/local/src/valis/serial_rigid.py:615: UserWarning: 0 between B_213-ST_BFIW-SE_1302_processed and B_213-ST_BFIW-SE_2497_processed\n",
      "  warnings.warn(f\"{len(filtered_match_info12.matched_kp1_xy)} between {img_obj_1.name} and {img_obj_2.name}\")\n",
      "/usr/local/src/valis/valtils.py:25: UserWarning: Need at least 4 keypoints for RANSAC filtering, but only have 3\n",
      "  warnings.warn(warning_msg, warning_type)\n"
     ]
    },
    {
     "name": "stdout",
     "output_type": "stream",
     "text": [
      "NoneType: None\n",
      "\n"
     ]
    },
    {
     "name": "stderr",
     "output_type": "stream",
     "text": [
      "/usr/local/src/.venv/lib/python3.12/site-packages/skimage/transform/_geometric.py:136: RuntimeWarning: Mean of empty slice.\n",
      "  src_mean = src.mean(axis=0)\n",
      "/usr/local/src/.venv/lib/python3.12/site-packages/numpy/core/_methods.py:121: RuntimeWarning: invalid value encountered in divide\n",
      "  ret = um.true_divide(\n",
      "/usr/local/src/.venv/lib/python3.12/site-packages/skimage/transform/_geometric.py:136: RuntimeWarning: Mean of empty slice.\n",
      "  src_mean = src.mean(axis=0)\n",
      "/usr/local/src/.venv/lib/python3.12/site-packages/skimage/transform/_geometric.py:137: RuntimeWarning: Mean of empty slice.\n",
      "  dst_mean = dst.mean(axis=0)\n",
      "/usr/local/src/.venv/lib/python3.12/site-packages/numpy/core/_methods.py:121: RuntimeWarning: invalid value encountered in divide\n",
      "  ret = um.true_divide(\n",
      "/usr/local/src/.venv/lib/python3.12/site-packages/numpy/core/_methods.py:121: RuntimeWarning: invalid value encountered in divide\n",
      "  ret = um.true_divide(\n",
      "/usr/local/src/.venv/lib/python3.12/site-packages/skimage/transform/_geometric.py:144: RuntimeWarning: invalid value encountered in divide\n",
      "  A = dst_demean.T @ src_demean / num\n",
      "/usr/local/src/.venv/lib/python3.12/site-packages/skimage/transform/_geometric.py:137: RuntimeWarning: Mean of empty slice.\n",
      "  dst_mean = dst.mean(axis=0)\n",
      "/usr/local/src/.venv/lib/python3.12/site-packages/numpy/linalg/linalg.py:2180: RuntimeWarning: invalid value encountered in det\n",
      "  r = _umath_linalg.det(a, signature=signature)\n",
      "/usr/local/src/.venv/lib/python3.12/site-packages/numpy/core/_methods.py:121: RuntimeWarning: invalid value encountered in divide\n",
      "  ret = um.true_divide(\n",
      "/usr/local/src/.venv/lib/python3.12/site-packages/skimage/transform/_geometric.py:144: RuntimeWarning: invalid value encountered in divide\n",
      "  A = dst_demean.T @ src_demean / num\n",
      "/usr/local/src/.venv/lib/python3.12/site-packages/numpy/linalg/linalg.py:2180: RuntimeWarning: invalid value encountered in det\n",
      "  r = _umath_linalg.det(a, signature=signature)\n",
      "/usr/local/src/valis/valtils.py:25: UserWarning: Need at least 4 keypoints for RANSAC filtering, but only have 2\n",
      "  warnings.warn(warning_msg, warning_type)\n"
     ]
    },
    {
     "name": "stdout",
     "output_type": "stream",
     "text": [
      "NoneType: None\n",
      "\n"
     ]
    },
    {
     "name": "stderr",
     "output_type": "stream",
     "text": [
      "/usr/local/src/valis/serial_rigid.py:615: UserWarning: 0 between B_213-ST_BFIW-SE_1297_processed and B_213-ST_BFIW-SE_2497_processed\n",
      "  warnings.warn(f\"{len(filtered_match_info12.matched_kp1_xy)} between {img_obj_1.name} and {img_obj_2.name}\")\n",
      "/usr/local/src/valis/valtils.py:25: UserWarning: /usr/local/src/.venv/lib/python3.12/site-packages/skimage/transform/_geometric.py:136: RuntimeWarning: Mean of empty slice.\n",
      "  src_mean = src.mean(axis=0)\n",
      "/usr/local/src/valis/valtils.py:25: UserWarning: Need at least 4 keypoints for RANSAC filtering, but only have 3/usr/local/src/.venv/lib/python3.12/site-packages/numpy/core/_methods.py:121: RuntimeWarning: invalid value encountered in divide\n",
      "  ret = um.true_divide(\n",
      "Need at least 4 keypoints for RANSAC filtering, but only have 2\n",
      "  warnings.warn(warning_msg, warning_type)\n",
      "/usr/local/src/.venv/lib/python3.12/site-packages/skimage/transform/_geometric.py:137: RuntimeWarning: Mean of empty slice.\n",
      "  dst_mean = dst.mean(axis=0)\n",
      "\n",
      "  warnings.warn(warning_msg, warning_type)\n"
     ]
    },
    {
     "name": "stdout",
     "output_type": "stream",
     "text": [
      "NoneType: None\n"
     ]
    },
    {
     "name": "stderr",
     "output_type": "stream",
     "text": [
      "/usr/local/src/.venv/lib/python3.12/site-packages/numpy/core/_methods.py:121: RuntimeWarning: invalid value encountered in divide\n",
      "  ret = um.true_divide(\n"
     ]
    },
    {
     "name": "stdout",
     "output_type": "stream",
     "text": [
      "NoneType: None\n",
      "\n",
      "\n"
     ]
    },
    {
     "name": "stderr",
     "output_type": "stream",
     "text": [
      "/usr/local/src/valis/valtils.py:25: UserWarning: /usr/local/src/.venv/lib/python3.12/site-packages/skimage/transform/_geometric.py:144: RuntimeWarning: invalid value encountered in divide\n",
      "  A = dst_demean.T @ src_demean / num\n",
      "/usr/local/src/.venv/lib/python3.12/site-packages/numpy/linalg/linalg.py:2180: RuntimeWarning: invalid value encountered in det\n",
      "  r = _umath_linalg.det(a, signature=signature)\n",
      "Need at least 4 keypoints for RANSAC filtering, but only have 3/usr/local/src/.venv/lib/python3.12/site-packages/skimage/transform/_geometric.py:136: RuntimeWarning: Mean of empty slice.\n",
      "  src_mean = src.mean(axis=0)\n",
      "\n",
      "  warnings.warn(warning_msg, warning_type)\n"
     ]
    },
    {
     "name": "stdout",
     "output_type": "stream",
     "text": [
      "NoneType: None\n"
     ]
    },
    {
     "name": "stderr",
     "output_type": "stream",
     "text": [
      "/usr/local/src/.venv/lib/python3.12/site-packages/numpy/core/_methods.py:121: RuntimeWarning: invalid value encountered in divide\n",
      "  ret = um.true_divide(\n"
     ]
    },
    {
     "name": "stdout",
     "output_type": "stream",
     "text": [
      "\n"
     ]
    },
    {
     "name": "stderr",
     "output_type": "stream",
     "text": [
      "/usr/local/src/.venv/lib/python3.12/site-packages/skimage/transform/_geometric.py:137: RuntimeWarning: Mean of empty slice.\n",
      "  dst_mean = dst.mean(axis=0)\n",
      "/usr/local/src/.venv/lib/python3.12/site-packages/numpy/core/_methods.py:121: RuntimeWarning: invalid value encountered in divide\n",
      "  ret = um.true_divide(\n",
      "/usr/local/src/valis/valtils.py:25: UserWarning: /usr/local/src/.venv/lib/python3.12/site-packages/skimage/transform/_geometric.py:144: RuntimeWarning: invalid value encountered in divide\n",
      "  A = dst_demean.T @ src_demean / num\n",
      "Need at least 4 keypoints for RANSAC filtering, but only have 3/usr/local/src/.venv/lib/python3.12/site-packages/numpy/linalg/linalg.py:2180: RuntimeWarning: invalid value encountered in det\n",
      "  r = _umath_linalg.det(a, signature=signature)\n",
      "\n",
      "  warnings.warn(warning_msg, warning_type)\n"
     ]
    },
    {
     "name": "stdout",
     "output_type": "stream",
     "text": [
      "NoneType: None\n"
     ]
    },
    {
     "name": "stderr",
     "output_type": "stream",
     "text": [
      "/usr/local/src/valis/valtils.py:25: UserWarning: /usr/local/src/valis/valtils.py:25: UserWarning: Need at least 4 keypoints for RANSAC filtering, but only have 2"
     ]
    },
    {
     "name": "stdout",
     "output_type": "stream",
     "text": [
      "\n"
     ]
    },
    {
     "name": "stderr",
     "output_type": "stream",
     "text": [
      "Need at least 4 keypoints for RANSAC filtering, but only have 2\n",
      "  warnings.warn(warning_msg, warning_type)\n"
     ]
    },
    {
     "name": "stdout",
     "output_type": "stream",
     "text": [
      "NoneType: None\n"
     ]
    },
    {
     "name": "stderr",
     "output_type": "stream",
     "text": [
      "\n",
      "  warnings.warn(warning_msg, warning_type)\n"
     ]
    },
    {
     "name": "stdout",
     "output_type": "stream",
     "text": [
      "\n"
     ]
    },
    {
     "name": "stderr",
     "output_type": "stream",
     "text": [
      "/usr/local/src/.venv/lib/python3.12/site-packages/skimage/transform/_geometric.py:136: RuntimeWarning: Mean of empty slice.\n",
      "  src_mean = src.mean(axis=0)\n",
      "/usr/local/src/.venv/lib/python3.12/site-packages/numpy/core/_methods.py:121: RuntimeWarning: invalid value encountered in divide\n",
      "  ret = um.true_divide(\n",
      "/usr/local/src/valis/valtils.py:25: UserWarning: /usr/local/src/valis/valtils.py:25: UserWarning: "
     ]
    },
    {
     "name": "stdout",
     "output_type": "stream",
     "text": [
      "NoneType: None\n"
     ]
    },
    {
     "name": "stderr",
     "output_type": "stream",
     "text": [
      "/usr/local/src/.venv/lib/python3.12/site-packages/skimage/transform/_geometric.py:137: RuntimeWarning: Mean of empty slice.\n",
      "  dst_mean = dst.mean(axis=0)\n",
      "Need at least 4 keypoints for RANSAC filtering, but only have 3Need at least 4 keypoints for RANSAC filtering, but only have 3/usr/local/src/valis/valtils.py:25: UserWarning: "
     ]
    },
    {
     "name": "stdout",
     "output_type": "stream",
     "text": [
      "\n"
     ]
    },
    {
     "name": "stderr",
     "output_type": "stream",
     "text": [
      "/usr/local/src/.venv/lib/python3.12/site-packages/numpy/core/_methods.py:121: RuntimeWarning: invalid value encountered in divide\n",
      "  ret = um.true_divide(\n",
      "\n",
      "  warnings.warn(warning_msg, warning_type)\n",
      "/usr/local/src/valis/valtils.py:25: UserWarning: \n",
      "  warnings.warn(warning_msg, warning_type)\n",
      "/usr/local/src/.venv/lib/python3.12/site-packages/skimage/transform/_geometric.py:144: RuntimeWarning: invalid value encountered in divide\n",
      "  A = dst_demean.T @ src_demean / num\n",
      "Need at least 4 keypoints for RANSAC filtering, but only have 3Need at least 4 keypoints for RANSAC filtering, but only have 3"
     ]
    },
    {
     "name": "stdout",
     "output_type": "stream",
     "text": [
      "NoneType: None\n",
      "NoneType: None\n"
     ]
    },
    {
     "name": "stderr",
     "output_type": "stream",
     "text": [
      "\n",
      "  warnings.warn(warning_msg, warning_type)\n",
      "/usr/local/src/.venv/lib/python3.12/site-packages/numpy/linalg/linalg.py:2180: RuntimeWarning: invalid value encountered in det\n",
      "  r = _umath_linalg.det(a, signature=signature)\n",
      "/usr/local/src/valis/valtils.py:25: UserWarning: \n",
      "  warnings.warn(warning_msg, warning_type)\n"
     ]
    },
    {
     "name": "stdout",
     "output_type": "stream",
     "text": [
      "\n",
      "\n",
      "NoneType: None\n",
      "NoneType: None\n",
      "\n"
     ]
    },
    {
     "name": "stderr",
     "output_type": "stream",
     "text": [
      "Need at least 4 keypoints for RANSAC filtering, but only have 3\n",
      "  warnings.warn(warning_msg, warning_type)\n"
     ]
    },
    {
     "name": "stdout",
     "output_type": "stream",
     "text": [
      "\n",
      "NoneType: None\n",
      "\n"
     ]
    },
    {
     "name": "stderr",
     "output_type": "stream",
     "text": [
      "/usr/local/src/.venv/lib/python3.12/site-packages/skimage/transform/_geometric.py:136: RuntimeWarning: Mean of empty slice.\n",
      "  src_mean = src.mean(axis=0)\n",
      "/usr/local/src/valis/valtils.py:25: UserWarning: /usr/local/src/.venv/lib/python3.12/site-packages/skimage/transform/_geometric.py:136: RuntimeWarning: Mean of empty slice.\n",
      "  src_mean = src.mean(axis=0)\n",
      "/usr/local/src/valis/valtils.py:25: UserWarning: Need at least 4 keypoints for RANSAC filtering, but only have 3Need at least 4 keypoints for RANSAC filtering, but only have 3/usr/local/src/.venv/lib/python3.12/site-packages/numpy/core/_methods.py:121: RuntimeWarning: invalid value encountered in divide\n",
      "  ret = um.true_divide(\n",
      "/usr/local/src/.venv/lib/python3.12/site-packages/numpy/core/_methods.py:121: RuntimeWarning: invalid value encountered in divide\n",
      "  ret = um.true_divide(\n",
      "/usr/local/src/.venv/lib/python3.12/site-packages/skimage/transform/_geometric.py:137: RuntimeWarning: Mean of empty slice.\n",
      "  dst_mean = dst.mean(axis=0)\n",
      "\n",
      "  warnings.warn(warning_msg, warning_type)\n",
      "\n",
      "  warnings.warn(warning_msg, warning_type)\n",
      "/usr/local/src/.venv/lib/python3.12/site-packages/skimage/transform/_geometric.py:137: RuntimeWarning: Mean of empty slice.\n",
      "  dst_mean = dst.mean(axis=0)\n",
      "/usr/local/src/valis/valtils.py:25: UserWarning: "
     ]
    },
    {
     "name": "stdout",
     "output_type": "stream",
     "text": [
      "NoneType: None\n",
      "NoneType: None\n"
     ]
    },
    {
     "name": "stderr",
     "output_type": "stream",
     "text": [
      "Need at least 4 keypoints for RANSAC filtering, but only have 3/usr/local/src/.venv/lib/python3.12/site-packages/numpy/core/_methods.py:121: RuntimeWarning: invalid value encountered in divide\n",
      "  ret = um.true_divide(\n",
      "/usr/local/src/.venv/lib/python3.12/site-packages/numpy/core/_methods.py:121: RuntimeWarning: invalid value encountered in divide\n",
      "  ret = um.true_divide(\n"
     ]
    },
    {
     "name": "stdout",
     "output_type": "stream",
     "text": [
      "\n",
      "\n"
     ]
    },
    {
     "name": "stderr",
     "output_type": "stream",
     "text": [
      "\n",
      "  warnings.warn(warning_msg, warning_type)\n",
      "/usr/local/src/.venv/lib/python3.12/site-packages/skimage/transform/_geometric.py:144: RuntimeWarning: invalid value encountered in divide\n",
      "  A = dst_demean.T @ src_demean / num\n",
      "/usr/local/src/.venv/lib/python3.12/site-packages/skimage/transform/_geometric.py:144: RuntimeWarning: invalid value encountered in divide\n",
      "  A = dst_demean.T @ src_demean / num\n"
     ]
    },
    {
     "name": "stdout",
     "output_type": "stream",
     "text": [
      "NoneType: None\n"
     ]
    },
    {
     "name": "stderr",
     "output_type": "stream",
     "text": [
      "/usr/local/src/.venv/lib/python3.12/site-packages/numpy/linalg/linalg.py:2180: RuntimeWarning: invalid value encountered in det\n",
      "  r = _umath_linalg.det(a, signature=signature)\n",
      "/usr/local/src/.venv/lib/python3.12/site-packages/numpy/linalg/linalg.py:2180: RuntimeWarning: invalid value encountered in det\n",
      "  r = _umath_linalg.det(a, signature=signature)\n",
      "/usr/local/src/valis/valtils.py:25: UserWarning: /usr/local/src/valis/valtils.py:25: UserWarning: Need at least 4 keypoints for RANSAC filtering, but only have 3Need at least 4 keypoints for RANSAC filtering, but only have 3"
     ]
    },
    {
     "name": "stdout",
     "output_type": "stream",
     "text": [
      "\n"
     ]
    },
    {
     "name": "stderr",
     "output_type": "stream",
     "text": [
      "\n",
      "  warnings.warn(warning_msg, warning_type)\n",
      "\n",
      "  warnings.warn(warning_msg, warning_type)\n"
     ]
    },
    {
     "name": "stdout",
     "output_type": "stream",
     "text": [
      "NoneType: None\n",
      "\n",
      "NoneType: None\n"
     ]
    },
    {
     "name": "stderr",
     "output_type": "stream",
     "text": [
      "/usr/local/src/valis/valtils.py:25: UserWarning: "
     ]
    },
    {
     "name": "stdout",
     "output_type": "stream",
     "text": [
      "\n"
     ]
    },
    {
     "name": "stderr",
     "output_type": "stream",
     "text": [
      "Need at least 4 keypoints for RANSAC filtering, but only have 3/usr/local/src/valis/valtils.py:25: UserWarning: \n",
      "  warnings.warn(warning_msg, warning_type)\n",
      "Need at least 4 keypoints for RANSAC filtering, but only have 2\n",
      "  warnings.warn(warning_msg, warning_type)\n"
     ]
    },
    {
     "name": "stdout",
     "output_type": "stream",
     "text": [
      "NoneType: None\n",
      "NoneType: None\n",
      "\n"
     ]
    },
    {
     "name": "stderr",
     "output_type": "stream",
     "text": [
      "/usr/local/src/.venv/lib/python3.12/site-packages/skimage/transform/_geometric.py:136: RuntimeWarning: Mean of empty slice.\n",
      "  src_mean = src.mean(axis=0)\n",
      "/usr/local/src/valis/valtils.py:25: UserWarning: "
     ]
    },
    {
     "name": "stdout",
     "output_type": "stream",
     "text": [
      "\n"
     ]
    },
    {
     "name": "stderr",
     "output_type": "stream",
     "text": [
      "/usr/local/src/.venv/lib/python3.12/site-packages/numpy/core/_methods.py:121: RuntimeWarning: invalid value encountered in divide\n",
      "  ret = um.true_divide(\n",
      "/usr/local/src/.venv/lib/python3.12/site-packages/skimage/transform/_geometric.py:136: RuntimeWarning: Mean of empty slice.\n",
      "  src_mean = src.mean(axis=0)\n",
      "Need at least 4 keypoints for RANSAC filtering, but only have 3/usr/local/src/valis/serial_rigid.py:615: UserWarning: 0 between B_213-ST_BFIW-SE_1330_processed and B_213-ST_BFIW-SE_2488_processed\n",
      "  warnings.warn(f\"{len(filtered_match_info12.matched_kp1_xy)} between {img_obj_1.name} and {img_obj_2.name}\")\n",
      "/usr/local/src/.venv/lib/python3.12/site-packages/skimage/transform/_geometric.py:137: RuntimeWarning: Mean of empty slice.\n",
      "  dst_mean = dst.mean(axis=0)\n",
      "/usr/local/src/.venv/lib/python3.12/site-packages/numpy/core/_methods.py:121: RuntimeWarning: invalid value encountered in divide\n",
      "  ret = um.true_divide(\n",
      "\n",
      "  warnings.warn(warning_msg, warning_type)\n",
      "/usr/local/src/.venv/lib/python3.12/site-packages/skimage/transform/_geometric.py:137: RuntimeWarning: Mean of empty slice.\n",
      "  dst_mean = dst.mean(axis=0)\n",
      "/usr/local/src/.venv/lib/python3.12/site-packages/numpy/core/_methods.py:121: RuntimeWarning: invalid value encountered in divide\n",
      "  ret = um.true_divide(\n"
     ]
    },
    {
     "name": "stdout",
     "output_type": "stream",
     "text": [
      "NoneType: None\n"
     ]
    },
    {
     "name": "stderr",
     "output_type": "stream",
     "text": [
      "/usr/local/src/.venv/lib/python3.12/site-packages/skimage/transform/_geometric.py:144: RuntimeWarning: invalid value encountered in divide\n",
      "  A = dst_demean.T @ src_demean / num\n",
      "/usr/local/src/.venv/lib/python3.12/site-packages/numpy/core/_methods.py:121: RuntimeWarning: invalid value encountered in divide\n",
      "  ret = um.true_divide(\n"
     ]
    },
    {
     "name": "stdout",
     "output_type": "stream",
     "text": [
      "\n"
     ]
    },
    {
     "name": "stderr",
     "output_type": "stream",
     "text": [
      "/usr/local/src/.venv/lib/python3.12/site-packages/numpy/linalg/linalg.py:2180: RuntimeWarning: invalid value encountered in det\n",
      "  r = _umath_linalg.det(a, signature=signature)\n",
      "/usr/local/src/.venv/lib/python3.12/site-packages/skimage/transform/_geometric.py:144: RuntimeWarning: invalid value encountered in divide\n",
      "  A = dst_demean.T @ src_demean / num\n",
      "/usr/local/src/.venv/lib/python3.12/site-packages/numpy/linalg/linalg.py:2180: RuntimeWarning: invalid value encountered in det\n",
      "  r = _umath_linalg.det(a, signature=signature)\n",
      "/usr/local/src/valis/valtils.py:25: UserWarning: Need at least 4 keypoints for RANSAC filtering, but only have 3/usr/local/src/valis/valtils.py:25: UserWarning: \n",
      "  warnings.warn(warning_msg, warning_type)\n",
      "Need at least 4 keypoints for RANSAC filtering, but only have 2"
     ]
    },
    {
     "name": "stdout",
     "output_type": "stream",
     "text": [
      "NoneType: None\n"
     ]
    },
    {
     "name": "stderr",
     "output_type": "stream",
     "text": [
      "\n",
      "  warnings.warn(warning_msg, warning_type)\n",
      "/usr/local/src/.venv/lib/python3.12/site-packages/skimage/transform/_geometric.py:136: RuntimeWarning: Mean of empty slice.\n",
      "  src_mean = src.mean(axis=0)\n"
     ]
    },
    {
     "name": "stdout",
     "output_type": "stream",
     "text": [
      "\n",
      "NoneType: None\n"
     ]
    },
    {
     "name": "stderr",
     "output_type": "stream",
     "text": [
      "/usr/local/src/.venv/lib/python3.12/site-packages/numpy/core/_methods.py:121: RuntimeWarning: invalid value encountered in divide\n",
      "  ret = um.true_divide(\n"
     ]
    },
    {
     "name": "stdout",
     "output_type": "stream",
     "text": [
      "\n"
     ]
    },
    {
     "name": "stderr",
     "output_type": "stream",
     "text": [
      "/usr/local/src/.venv/lib/python3.12/site-packages/skimage/transform/_geometric.py:137: RuntimeWarning: Mean of empty slice.\n",
      "  dst_mean = dst.mean(axis=0)\n",
      "/usr/local/src/.venv/lib/python3.12/site-packages/numpy/core/_methods.py:121: RuntimeWarning: invalid value encountered in divide\n",
      "  ret = um.true_divide(\n",
      "/usr/local/src/valis/serial_rigid.py:615: UserWarning: 0 between B_213-ST_BFIW-SE_1335_processed and B_213-ST_BFIW-SE_2497_processed\n",
      "  warnings.warn(f\"{len(filtered_match_info12.matched_kp1_xy)} between {img_obj_1.name} and {img_obj_2.name}\")\n",
      "/usr/local/src/.venv/lib/python3.12/site-packages/skimage/transform/_geometric.py:144: RuntimeWarning: invalid value encountered in divide\n",
      "  A = dst_demean.T @ src_demean / num\n",
      "/usr/local/src/.venv/lib/python3.12/site-packages/skimage/transform/_geometric.py:136: RuntimeWarning: Mean of empty slice.\n",
      "  src_mean = src.mean(axis=0)\n",
      "/usr/local/src/.venv/lib/python3.12/site-packages/numpy/linalg/linalg.py:2180: RuntimeWarning: invalid value encountered in det\n",
      "  r = _umath_linalg.det(a, signature=signature)\n",
      "/usr/local/src/.venv/lib/python3.12/site-packages/numpy/core/_methods.py:121: RuntimeWarning: invalid value encountered in divide\n",
      "  ret = um.true_divide(\n",
      "/usr/local/src/.venv/lib/python3.12/site-packages/skimage/transform/_geometric.py:137: RuntimeWarning: Mean of empty slice.\n",
      "  dst_mean = dst.mean(axis=0)\n",
      "/usr/local/src/valis/valtils.py:25: UserWarning: Need at least 4 keypoints for RANSAC filtering, but only have 2/usr/local/src/.venv/lib/python3.12/site-packages/numpy/core/_methods.py:121: RuntimeWarning: invalid value encountered in divide\n",
      "  ret = um.true_divide(\n",
      "\n",
      "  warnings.warn(warning_msg, warning_type)\n",
      "/usr/local/src/.venv/lib/python3.12/site-packages/skimage/transform/_geometric.py:144: RuntimeWarning: invalid value encountered in divide\n",
      "  A = dst_demean.T @ src_demean / num\n"
     ]
    },
    {
     "name": "stdout",
     "output_type": "stream",
     "text": [
      "NoneType: None\n"
     ]
    },
    {
     "name": "stderr",
     "output_type": "stream",
     "text": [
      "/usr/local/src/.venv/lib/python3.12/site-packages/numpy/linalg/linalg.py:2180: RuntimeWarning: invalid value encountered in det\n",
      "  r = _umath_linalg.det(a, signature=signature)\n",
      "/usr/local/src/valis/valtils.py:25: UserWarning: "
     ]
    },
    {
     "name": "stdout",
     "output_type": "stream",
     "text": [
      "\n"
     ]
    },
    {
     "name": "stderr",
     "output_type": "stream",
     "text": [
      "Need at least 4 keypoints for RANSAC filtering, but only have 3/usr/local/src/valis/valtils.py:25: UserWarning: /usr/local/src/valis/valtils.py:25: UserWarning: /usr/local/src/valis/valtils.py:25: UserWarning: /usr/local/src/.venv/lib/python3.12/site-packages/skimage/transform/_geometric.py:136: RuntimeWarning: Mean of empty slice.\n",
      "  src_mean = src.mean(axis=0)\n",
      "\n",
      "  warnings.warn(warning_msg, warning_type)\n",
      "Need at least 4 keypoints for RANSAC filtering, but only have 2Need at least 4 keypoints for RANSAC filtering, but only have 2Need at least 4 keypoints for RANSAC filtering, but only have 2/usr/local/src/valis/valtils.py:25: UserWarning: /usr/local/src/.venv/lib/python3.12/site-packages/skimage/transform/_geometric.py:136: RuntimeWarning: Mean of empty slice.\n",
      "  src_mean = src.mean(axis=0)\n",
      "/usr/local/src/.venv/lib/python3.12/site-packages/numpy/core/_methods.py:121: RuntimeWarning: invalid value encountered in divide\n",
      "  ret = um.true_divide(\n",
      "/usr/local/src/valis/valtils.py:25: UserWarning: Need at least 4 keypoints for RANSAC filtering, but only have 3\n",
      "  warnings.warn(warning_msg, warning_type)\n",
      "/usr/local/src/.venv/lib/python3.12/site-packages/numpy/core/_methods.py:121: RuntimeWarning: invalid value encountered in divide\n",
      "  ret = um.true_divide(\n",
      "\n",
      "  warnings.warn(warning_msg, warning_type)\n",
      "\n",
      "  warnings.warn(warning_msg, warning_type)\n",
      "/usr/local/src/.venv/lib/python3.12/site-packages/skimage/transform/_geometric.py:137: RuntimeWarning: Mean of empty slice.\n",
      "  dst_mean = dst.mean(axis=0)\n",
      "Need at least 4 keypoints for RANSAC filtering, but only have 3"
     ]
    },
    {
     "name": "stdout",
     "output_type": "stream",
     "text": [
      "NoneType: None\n",
      "NoneType: None\n",
      "NoneType: None\n"
     ]
    },
    {
     "name": "stderr",
     "output_type": "stream",
     "text": [
      "/usr/local/src/.venv/lib/python3.12/site-packages/skimage/transform/_geometric.py:137: RuntimeWarning: Mean of empty slice.\n",
      "  dst_mean = dst.mean(axis=0)\n",
      "\n",
      "  warnings.warn(warning_msg, warning_type)\n",
      "/usr/local/src/.venv/lib/python3.12/site-packages/numpy/core/_methods.py:121: RuntimeWarning: invalid value encountered in divide\n",
      "  ret = um.true_divide(\n",
      "\n",
      "  warnings.warn(warning_msg, warning_type)\n"
     ]
    },
    {
     "name": "stdout",
     "output_type": "stream",
     "text": [
      "\n",
      "NoneType: None\n"
     ]
    },
    {
     "name": "stderr",
     "output_type": "stream",
     "text": [
      "/usr/local/src/.venv/lib/python3.12/site-packages/numpy/core/_methods.py:121: RuntimeWarning: invalid value encountered in divide\n",
      "  ret = um.true_divide(\n",
      "/usr/local/src/valis/valtils.py:25: UserWarning: "
     ]
    },
    {
     "name": "stdout",
     "output_type": "stream",
     "text": [
      "\n",
      "\n"
     ]
    },
    {
     "name": "stderr",
     "output_type": "stream",
     "text": [
      "/usr/local/src/.venv/lib/python3.12/site-packages/skimage/transform/_geometric.py:144: RuntimeWarning: invalid value encountered in divide\n",
      "  A = dst_demean.T @ src_demean / num\n"
     ]
    },
    {
     "name": "stdout",
     "output_type": "stream",
     "text": [
      "NoneType: None\n"
     ]
    },
    {
     "name": "stderr",
     "output_type": "stream",
     "text": [
      "/usr/local/src/.venv/lib/python3.12/site-packages/skimage/transform/_geometric.py:136: RuntimeWarning: Mean of empty slice.\n",
      "  src_mean = src.mean(axis=0)\n"
     ]
    },
    {
     "name": "stdout",
     "output_type": "stream",
     "text": [
      "NoneType: None\n",
      "\n"
     ]
    },
    {
     "name": "stderr",
     "output_type": "stream",
     "text": [
      "Need at least 4 keypoints for RANSAC filtering, but only have 3/usr/local/src/valis/serial_rigid.py:615: UserWarning: 0 between B_213-ST_BFIW-SE_1309_processed and B_213-ST_BFIW-SE_2497_processed\n",
      "  warnings.warn(f\"{len(filtered_match_info12.matched_kp1_xy)} between {img_obj_1.name} and {img_obj_2.name}\")\n",
      "/usr/local/src/valis/serial_rigid.py:615: UserWarning: 0 between B_213-ST_BFIW-SE_1318_processed and B_213-ST_BFIW-SE_2497_processed\n",
      "  warnings.warn(f\"{len(filtered_match_info12.matched_kp1_xy)} between {img_obj_1.name} and {img_obj_2.name}\")\n"
     ]
    },
    {
     "name": "stdout",
     "output_type": "stream",
     "text": [
      "\n"
     ]
    },
    {
     "name": "stderr",
     "output_type": "stream",
     "text": [
      "/usr/local/src/.venv/lib/python3.12/site-packages/skimage/transform/_geometric.py:144: RuntimeWarning: invalid value encountered in divide\n",
      "  A = dst_demean.T @ src_demean / num\n",
      "/usr/local/src/.venv/lib/python3.12/site-packages/numpy/linalg/linalg.py:2180: RuntimeWarning: invalid value encountered in det\n",
      "  r = _umath_linalg.det(a, signature=signature)\n",
      "/usr/local/src/.venv/lib/python3.12/site-packages/numpy/core/_methods.py:121: RuntimeWarning: invalid value encountered in divide\n",
      "  ret = um.true_divide(\n",
      "/usr/local/src/valis/valtils.py:25: UserWarning: "
     ]
    },
    {
     "name": "stdout",
     "output_type": "stream",
     "text": [
      "\n"
     ]
    },
    {
     "name": "stderr",
     "output_type": "stream",
     "text": [
      "\n",
      "  warnings.warn(warning_msg, warning_type)\n",
      "/usr/local/src/.venv/lib/python3.12/site-packages/numpy/linalg/linalg.py:2180: RuntimeWarning: invalid value encountered in det\n",
      "  r = _umath_linalg.det(a, signature=signature)\n",
      "/usr/local/src/.venv/lib/python3.12/site-packages/skimage/transform/_geometric.py:137: RuntimeWarning: Mean of empty slice.\n",
      "  dst_mean = dst.mean(axis=0)\n",
      "Need at least 4 keypoints for RANSAC filtering, but only have 3/usr/local/src/.venv/lib/python3.12/site-packages/numpy/core/_methods.py:121: RuntimeWarning: invalid value encountered in divide\n",
      "  ret = um.true_divide(\n",
      "\n",
      "  warnings.warn(warning_msg, warning_type)\n"
     ]
    },
    {
     "name": "stdout",
     "output_type": "stream",
     "text": [
      "NoneType: None\n"
     ]
    },
    {
     "name": "stderr",
     "output_type": "stream",
     "text": [
      "/usr/local/src/.venv/lib/python3.12/site-packages/skimage/transform/_geometric.py:144: RuntimeWarning: invalid value encountered in divide\n",
      "  A = dst_demean.T @ src_demean / num\n",
      "/usr/local/src/valis/valtils.py:25: UserWarning: "
     ]
    },
    {
     "name": "stdout",
     "output_type": "stream",
     "text": [
      "\n",
      "NoneType: None\n"
     ]
    },
    {
     "name": "stderr",
     "output_type": "stream",
     "text": [
      "/usr/local/src/.venv/lib/python3.12/site-packages/numpy/linalg/linalg.py:2180: RuntimeWarning: invalid value encountered in det\n",
      "  r = _umath_linalg.det(a, signature=signature)\n"
     ]
    },
    {
     "name": "stdout",
     "output_type": "stream",
     "text": [
      "\n"
     ]
    },
    {
     "name": "stderr",
     "output_type": "stream",
     "text": [
      "/usr/local/src/valis/valtils.py:25: UserWarning: Need at least 4 keypoints for RANSAC filtering, but only have 2/usr/local/src/valis/valtils.py:25: UserWarning: \n",
      "  warnings.warn(warning_msg, warning_type)\n",
      "Need at least 4 keypoints for RANSAC filtering, but only have 2/usr/local/src/valis/valtils.py:25: UserWarning: Need at least 4 keypoints for RANSAC filtering, but only have 3\n",
      "  warnings.warn(warning_msg, warning_type)\n",
      "\n",
      "  warnings.warn(warning_msg, warning_type)\n",
      "Need at least 4 keypoints for RANSAC filtering, but only have 3"
     ]
    },
    {
     "name": "stdout",
     "output_type": "stream",
     "text": [
      "NoneType: None\n"
     ]
    },
    {
     "name": "stderr",
     "output_type": "stream",
     "text": [
      "/usr/local/src/valis/valtils.py:25: UserWarning: \n",
      "  warnings.warn(warning_msg, warning_type)\n"
     ]
    },
    {
     "name": "stdout",
     "output_type": "stream",
     "text": [
      "\n",
      "NoneType: None\n",
      "NoneType: None\n"
     ]
    },
    {
     "name": "stderr",
     "output_type": "stream",
     "text": [
      "Need at least 4 keypoints for RANSAC filtering, but only have 3"
     ]
    },
    {
     "name": "stdout",
     "output_type": "stream",
     "text": [
      "\n",
      "\n"
     ]
    },
    {
     "name": "stderr",
     "output_type": "stream",
     "text": [
      "/usr/local/src/valis/serial_rigid.py:615: UserWarning: 0 between B_213-ST_BFIW-SE_1333_processed and B_213-ST_BFIW-SE_2499_processed\n",
      "  warnings.warn(f\"{len(filtered_match_info12.matched_kp1_xy)} between {img_obj_1.name} and {img_obj_2.name}\")\n"
     ]
    },
    {
     "name": "stdout",
     "output_type": "stream",
     "text": [
      "NoneType: None\n"
     ]
    },
    {
     "name": "stderr",
     "output_type": "stream",
     "text": [
      "\n",
      "  warnings.warn(warning_msg, warning_type)\n",
      "/usr/local/src/valis/serial_rigid.py:615: UserWarning: 0 between B_213-ST_BFIW-SE_1350_processed and B_213-ST_BFIW-SE_2497_processed\n",
      "  warnings.warn(f\"{len(filtered_match_info12.matched_kp1_xy)} between {img_obj_1.name} and {img_obj_2.name}\")\n",
      "/usr/local/src/valis/valtils.py:25: UserWarning: Need at least 4 keypoints for RANSAC filtering, but only have 3"
     ]
    },
    {
     "name": "stdout",
     "output_type": "stream",
     "text": [
      "\n",
      "NoneType: None\n"
     ]
    },
    {
     "name": "stderr",
     "output_type": "stream",
     "text": [
      "\n",
      "  warnings.warn(warning_msg, warning_type)\n",
      "/usr/local/src/valis/valtils.py:25: UserWarning: "
     ]
    },
    {
     "name": "stdout",
     "output_type": "stream",
     "text": [
      "NoneType: None\n",
      "\n"
     ]
    },
    {
     "name": "stderr",
     "output_type": "stream",
     "text": [
      "Need at least 4 keypoints for RANSAC filtering, but only have 3/usr/local/src/valis/valtils.py:25: UserWarning: \n",
      "  warnings.warn(warning_msg, warning_type)\n",
      "Need at least 4 keypoints for RANSAC filtering, but only have 3"
     ]
    },
    {
     "name": "stdout",
     "output_type": "stream",
     "text": [
      "\n",
      "NoneType: None\n"
     ]
    },
    {
     "name": "stderr",
     "output_type": "stream",
     "text": [
      "\n",
      "  warnings.warn(warning_msg, warning_type)\n",
      "/usr/local/src/valis/valtils.py:25: UserWarning: /usr/local/src/valis/valtils.py:25: UserWarning: "
     ]
    },
    {
     "name": "stdout",
     "output_type": "stream",
     "text": [
      "\n",
      "NoneType: None\n",
      "\n"
     ]
    },
    {
     "name": "stderr",
     "output_type": "stream",
     "text": [
      "Need at least 4 keypoints for RANSAC filtering, but only have 3Need at least 4 keypoints for RANSAC filtering, but only have 3\n",
      "  warnings.warn(warning_msg, warning_type)\n",
      "\n",
      "  warnings.warn(warning_msg, warning_type)\n",
      "/usr/local/src/valis/valtils.py:25: UserWarning: /usr/local/src/.venv/lib/python3.12/site-packages/skimage/transform/_geometric.py:136: RuntimeWarning: Mean of empty slice.\n",
      "  src_mean = src.mean(axis=0)\n"
     ]
    },
    {
     "name": "stdout",
     "output_type": "stream",
     "text": [
      "NoneType: None\n",
      "NoneType: None\n"
     ]
    },
    {
     "name": "stderr",
     "output_type": "stream",
     "text": [
      "Need at least 4 keypoints for RANSAC filtering, but only have 2/usr/local/src/.venv/lib/python3.12/site-packages/numpy/core/_methods.py:121: RuntimeWarning: invalid value encountered in divide\n",
      "  ret = um.true_divide(\n",
      "/usr/local/src/valis/valtils.py:25: UserWarning: \n",
      "  warnings.warn(warning_msg, warning_type)\n",
      "/usr/local/src/.venv/lib/python3.12/site-packages/skimage/transform/_geometric.py:137: RuntimeWarning: Mean of empty slice.\n",
      "  dst_mean = dst.mean(axis=0)\n",
      "/usr/local/src/.venv/lib/python3.12/site-packages/skimage/transform/_geometric.py:136: RuntimeWarning: Mean of empty slice.\n",
      "  src_mean = src.mean(axis=0)\n"
     ]
    },
    {
     "name": "stdout",
     "output_type": "stream",
     "text": [
      "\n",
      "\n"
     ]
    },
    {
     "name": "stderr",
     "output_type": "stream",
     "text": [
      "Need at least 4 keypoints for RANSAC filtering, but only have 3"
     ]
    },
    {
     "name": "stdout",
     "output_type": "stream",
     "text": [
      "NoneType: None\n"
     ]
    },
    {
     "name": "stderr",
     "output_type": "stream",
     "text": [
      "/usr/local/src/.venv/lib/python3.12/site-packages/numpy/core/_methods.py:121: RuntimeWarning: invalid value encountered in divide\n",
      "  ret = um.true_divide(\n",
      "/usr/local/src/.venv/lib/python3.12/site-packages/numpy/core/_methods.py:121: RuntimeWarning: invalid value encountered in divide\n",
      "  ret = um.true_divide(\n",
      "\n",
      "  warnings.warn(warning_msg, warning_type)\n",
      "/usr/local/src/.venv/lib/python3.12/site-packages/skimage/transform/_geometric.py:144: RuntimeWarning: invalid value encountered in divide\n",
      "  A = dst_demean.T @ src_demean / num\n"
     ]
    },
    {
     "name": "stdout",
     "output_type": "stream",
     "text": [
      "\n"
     ]
    },
    {
     "name": "stderr",
     "output_type": "stream",
     "text": [
      "/usr/local/src/.venv/lib/python3.12/site-packages/skimage/transform/_geometric.py:137: RuntimeWarning: Mean of empty slice.\n",
      "  dst_mean = dst.mean(axis=0)\n"
     ]
    },
    {
     "name": "stdout",
     "output_type": "stream",
     "text": [
      "NoneType: None\n"
     ]
    },
    {
     "name": "stderr",
     "output_type": "stream",
     "text": [
      "/usr/local/src/.venv/lib/python3.12/site-packages/numpy/linalg/linalg.py:2180: RuntimeWarning: invalid value encountered in det\n",
      "  r = _umath_linalg.det(a, signature=signature)\n",
      "/usr/local/src/valis/valtils.py:25: UserWarning: /usr/local/src/valis/serial_rigid.py:615: UserWarning: 0 between B_213-ST_BFIW-SE_1337_processed and B_213-ST_BFIW-SE_2497_processed\n",
      "  warnings.warn(f\"{len(filtered_match_info12.matched_kp1_xy)} between {img_obj_1.name} and {img_obj_2.name}\")\n",
      "/usr/local/src/.venv/lib/python3.12/site-packages/skimage/transform/_geometric.py:136: RuntimeWarning: Mean of empty slice.\n",
      "  src_mean = src.mean(axis=0)\n",
      "/usr/local/src/.venv/lib/python3.12/site-packages/numpy/core/_methods.py:121: RuntimeWarning: invalid value encountered in divide\n",
      "  ret = um.true_divide(\n",
      "Need at least 4 keypoints for RANSAC filtering, but only have 3/usr/local/src/.venv/lib/python3.12/site-packages/skimage/transform/_geometric.py:136: RuntimeWarning: Mean of empty slice.\n",
      "  src_mean = src.mean(axis=0)\n",
      "/usr/local/src/.venv/lib/python3.12/site-packages/skimage/transform/_geometric.py:136: RuntimeWarning: Mean of empty slice.\n",
      "  src_mean = src.mean(axis=0)\n"
     ]
    },
    {
     "name": "stdout",
     "output_type": "stream",
     "text": [
      "\n"
     ]
    },
    {
     "name": "stderr",
     "output_type": "stream",
     "text": [
      "/usr/local/src/.venv/lib/python3.12/site-packages/skimage/transform/_geometric.py:136: RuntimeWarning: Mean of empty slice.\n",
      "  src_mean = src.mean(axis=0)\n",
      "/usr/local/src/.venv/lib/python3.12/site-packages/numpy/core/_methods.py:121: RuntimeWarning: invalid value encountered in divide\n",
      "  ret = um.true_divide(\n",
      "/usr/local/src/.venv/lib/python3.12/site-packages/skimage/transform/_geometric.py:144: RuntimeWarning: invalid value encountered in divide\n",
      "  A = dst_demean.T @ src_demean / num\n",
      "/usr/local/src/.venv/lib/python3.12/site-packages/skimage/transform/_geometric.py:136: RuntimeWarning: Mean of empty slice.\n",
      "  src_mean = src.mean(axis=0)\n",
      "/usr/local/src/valis/valtils.py:25: UserWarning: \n",
      "  warnings.warn(warning_msg, warning_type)\n",
      "/usr/local/src/.venv/lib/python3.12/site-packages/numpy/core/_methods.py:121: RuntimeWarning: invalid value encountered in divide\n",
      "  ret = um.true_divide(\n",
      "/usr/local/src/.venv/lib/python3.12/site-packages/numpy/core/_methods.py:121: RuntimeWarning: invalid value encountered in divide\n",
      "  ret = um.true_divide(\n",
      "/usr/local/src/valis/valtils.py:25: UserWarning: /usr/local/src/.venv/lib/python3.12/site-packages/skimage/transform/_geometric.py:137: RuntimeWarning: Mean of empty slice.\n",
      "  dst_mean = dst.mean(axis=0)\n",
      "/usr/local/src/.venv/lib/python3.12/site-packages/numpy/core/_methods.py:121: RuntimeWarning: invalid value encountered in divide\n",
      "  ret = um.true_divide(\n",
      "Need at least 4 keypoints for RANSAC filtering, but only have 3/usr/local/src/.venv/lib/python3.12/site-packages/numpy/core/_methods.py:121: RuntimeWarning: invalid value encountered in divide\n",
      "  ret = um.true_divide(\n",
      "/usr/local/src/.venv/lib/python3.12/site-packages/numpy/linalg/linalg.py:2180: RuntimeWarning: invalid value encountered in det\n",
      "  r = _umath_linalg.det(a, signature=signature)\n",
      "/usr/local/src/.venv/lib/python3.12/site-packages/skimage/transform/_geometric.py:136: RuntimeWarning: Mean of empty slice.\n",
      "  src_mean = src.mean(axis=0)\n",
      "/usr/local/src/.venv/lib/python3.12/site-packages/skimage/transform/_geometric.py:137: RuntimeWarning: Mean of empty slice.\n",
      "  dst_mean = dst.mean(axis=0)\n",
      "/usr/local/src/.venv/lib/python3.12/site-packages/numpy/core/_methods.py:121: RuntimeWarning: invalid value encountered in divide\n",
      "  ret = um.true_divide(\n",
      "Need at least 4 keypoints for RANSAC filtering, but only have 3/usr/local/src/.venv/lib/python3.12/site-packages/skimage/transform/_geometric.py:137: RuntimeWarning: Mean of empty slice.\n",
      "  dst_mean = dst.mean(axis=0)\n",
      "/usr/local/src/.venv/lib/python3.12/site-packages/skimage/transform/_geometric.py:137: RuntimeWarning: Mean of empty slice.\n",
      "  dst_mean = dst.mean(axis=0)\n",
      "\n",
      "  warnings.warn(warning_msg, warning_type)\n",
      "/usr/local/src/.venv/lib/python3.12/site-packages/numpy/core/_methods.py:121: RuntimeWarning: invalid value encountered in divide\n",
      "  ret = um.true_divide(\n",
      "/usr/local/src/.venv/lib/python3.12/site-packages/skimage/transform/_geometric.py:137: RuntimeWarning: Mean of empty slice.\n",
      "  dst_mean = dst.mean(axis=0)\n"
     ]
    },
    {
     "name": "stdout",
     "output_type": "stream",
     "text": [
      "NoneType: None\n"
     ]
    },
    {
     "name": "stderr",
     "output_type": "stream",
     "text": [
      "/usr/local/src/.venv/lib/python3.12/site-packages/numpy/core/_methods.py:121: RuntimeWarning: invalid value encountered in divide\n",
      "  ret = um.true_divide(\n",
      "\n",
      "  warnings.warn(warning_msg, warning_type)\n",
      "/usr/local/src/.venv/lib/python3.12/site-packages/skimage/transform/_geometric.py:144: RuntimeWarning: invalid value encountered in divide\n",
      "  A = dst_demean.T @ src_demean / num\n",
      "/usr/local/src/.venv/lib/python3.12/site-packages/numpy/core/_methods.py:121: RuntimeWarning: invalid value encountered in divide\n",
      "  ret = um.true_divide(\n",
      "/usr/local/src/.venv/lib/python3.12/site-packages/numpy/core/_methods.py:121: RuntimeWarning: invalid value encountered in divide\n",
      "  ret = um.true_divide(\n",
      "/usr/local/src/.venv/lib/python3.12/site-packages/skimage/transform/_geometric.py:144: RuntimeWarning: invalid value encountered in divide\n",
      "  A = dst_demean.T @ src_demean / num\n",
      "/usr/local/src/.venv/lib/python3.12/site-packages/skimage/transform/_geometric.py:137: RuntimeWarning: Mean of empty slice.\n",
      "  dst_mean = dst.mean(axis=0)\n",
      "/usr/local/src/valis/valtils.py:25: UserWarning: /usr/local/src/.venv/lib/python3.12/site-packages/skimage/transform/_geometric.py:144: RuntimeWarning: invalid value encountered in divide\n",
      "  A = dst_demean.T @ src_demean / num\n"
     ]
    },
    {
     "name": "stdout",
     "output_type": "stream",
     "text": [
      "NoneType: None\n",
      "\n"
     ]
    },
    {
     "name": "stderr",
     "output_type": "stream",
     "text": [
      "/usr/local/src/.venv/lib/python3.12/site-packages/skimage/transform/_geometric.py:144: RuntimeWarning: invalid value encountered in divide\n",
      "  A = dst_demean.T @ src_demean / num\n",
      "Need at least 4 keypoints for RANSAC filtering, but only have 3/usr/local/src/.venv/lib/python3.12/site-packages/skimage/transform/_geometric.py:144: RuntimeWarning: invalid value encountered in divide\n",
      "  A = dst_demean.T @ src_demean / num\n",
      "/usr/local/src/.venv/lib/python3.12/site-packages/numpy/linalg/linalg.py:2180: RuntimeWarning: invalid value encountered in det\n",
      "  r = _umath_linalg.det(a, signature=signature)\n",
      "/usr/local/src/.venv/lib/python3.12/site-packages/numpy/linalg/linalg.py:2180: RuntimeWarning: invalid value encountered in det\n",
      "  r = _umath_linalg.det(a, signature=signature)\n",
      "/usr/local/src/.venv/lib/python3.12/site-packages/numpy/core/_methods.py:121: RuntimeWarning: invalid value encountered in divide\n",
      "  ret = um.true_divide(\n",
      "/usr/local/src/valis/valtils.py:25: UserWarning: /usr/local/src/.venv/lib/python3.12/site-packages/numpy/linalg/linalg.py:2180: RuntimeWarning: invalid value encountered in det\n",
      "  r = _umath_linalg.det(a, signature=signature)\n"
     ]
    },
    {
     "name": "stdout",
     "output_type": "stream",
     "text": [
      "NoneType: None\n",
      "\n"
     ]
    },
    {
     "name": "stderr",
     "output_type": "stream",
     "text": [
      "/usr/local/src/.venv/lib/python3.12/site-packages/numpy/linalg/linalg.py:2180: RuntimeWarning: invalid value encountered in det\n",
      "  r = _umath_linalg.det(a, signature=signature)\n",
      "\n",
      "  warnings.warn(warning_msg, warning_type)\n",
      "/usr/local/src/.venv/lib/python3.12/site-packages/numpy/linalg/linalg.py:2180: RuntimeWarning: invalid value encountered in det\n",
      "  r = _umath_linalg.det(a, signature=signature)\n",
      "Need at least 4 keypoints for RANSAC filtering, but only have 3/usr/local/src/.venv/lib/python3.12/site-packages/skimage/transform/_geometric.py:144: RuntimeWarning: invalid value encountered in divide\n",
      "  A = dst_demean.T @ src_demean / num\n"
     ]
    },
    {
     "name": "stdout",
     "output_type": "stream",
     "text": [
      "\n"
     ]
    },
    {
     "name": "stderr",
     "output_type": "stream",
     "text": [
      "/usr/local/src/valis/valtils.py:25: UserWarning: "
     ]
    },
    {
     "name": "stdout",
     "output_type": "stream",
     "text": [
      "NoneType: None\n"
     ]
    },
    {
     "name": "stderr",
     "output_type": "stream",
     "text": [
      "/usr/local/src/.venv/lib/python3.12/site-packages/numpy/linalg/linalg.py:2180: RuntimeWarning: invalid value encountered in det\n",
      "  r = _umath_linalg.det(a, signature=signature)\n",
      "\n",
      "  warnings.warn(warning_msg, warning_type)\n",
      "Need at least 4 keypoints for RANSAC filtering, but only have 3"
     ]
    },
    {
     "name": "stdout",
     "output_type": "stream",
     "text": [
      "\n",
      "NoneType: None\n"
     ]
    },
    {
     "name": "stderr",
     "output_type": "stream",
     "text": [
      "\n",
      "  warnings.warn(warning_msg, warning_type)\n",
      "/usr/local/src/.venv/lib/python3.12/site-packages/skimage/transform/_geometric.py:136: RuntimeWarning: Mean of empty slice.\n",
      "  src_mean = src.mean(axis=0)\n",
      "/usr/local/src/.venv/lib/python3.12/site-packages/skimage/transform/_geometric.py:136: RuntimeWarning: Mean of empty slice.\n",
      "  src_mean = src.mean(axis=0)\n"
     ]
    },
    {
     "name": "stdout",
     "output_type": "stream",
     "text": [
      "\n"
     ]
    },
    {
     "name": "stderr",
     "output_type": "stream",
     "text": [
      "/usr/local/src/.venv/lib/python3.12/site-packages/numpy/core/_methods.py:121: RuntimeWarning: invalid value encountered in divide\n",
      "  ret = um.true_divide(\n"
     ]
    },
    {
     "name": "stdout",
     "output_type": "stream",
     "text": [
      "NoneType: None\n"
     ]
    },
    {
     "name": "stderr",
     "output_type": "stream",
     "text": [
      "/usr/local/src/.venv/lib/python3.12/site-packages/skimage/transform/_geometric.py:137: RuntimeWarning: Mean of empty slice.\n",
      "  dst_mean = dst.mean(axis=0)\n",
      "/usr/local/src/.venv/lib/python3.12/site-packages/numpy/core/_methods.py:121: RuntimeWarning: invalid value encountered in divide\n",
      "  ret = um.true_divide(\n",
      "/usr/local/src/.venv/lib/python3.12/site-packages/skimage/transform/_geometric.py:136: RuntimeWarning: Mean of empty slice.\n",
      "  src_mean = src.mean(axis=0)\n",
      "/usr/local/src/.venv/lib/python3.12/site-packages/skimage/transform/_geometric.py:137: RuntimeWarning: Mean of empty slice.\n",
      "  dst_mean = dst.mean(axis=0)\n",
      "/usr/local/src/.venv/lib/python3.12/site-packages/numpy/core/_methods.py:121: RuntimeWarning: invalid value encountered in divide\n",
      "  ret = um.true_divide(\n",
      "/usr/local/src/.venv/lib/python3.12/site-packages/numpy/core/_methods.py:121: RuntimeWarning: invalid value encountered in divide\n",
      "  ret = um.true_divide(\n"
     ]
    },
    {
     "name": "stdout",
     "output_type": "stream",
     "text": [
      "\n"
     ]
    },
    {
     "name": "stderr",
     "output_type": "stream",
     "text": [
      "/usr/local/src/.venv/lib/python3.12/site-packages/numpy/core/_methods.py:121: RuntimeWarning: invalid value encountered in divide\n",
      "  ret = um.true_divide(\n",
      "/usr/local/src/.venv/lib/python3.12/site-packages/skimage/transform/_geometric.py:137: RuntimeWarning: Mean of empty slice.\n",
      "  dst_mean = dst.mean(axis=0)\n",
      "/usr/local/src/.venv/lib/python3.12/site-packages/skimage/transform/_geometric.py:144: RuntimeWarning: invalid value encountered in divide\n",
      "  A = dst_demean.T @ src_demean / num\n",
      "/usr/local/src/.venv/lib/python3.12/site-packages/numpy/core/_methods.py:121: RuntimeWarning: invalid value encountered in divide\n",
      "  ret = um.true_divide(\n",
      "/usr/local/src/.venv/lib/python3.12/site-packages/numpy/linalg/linalg.py:2180: RuntimeWarning: invalid value encountered in det\n",
      "  r = _umath_linalg.det(a, signature=signature)\n",
      "/usr/local/src/.venv/lib/python3.12/site-packages/skimage/transform/_geometric.py:144: RuntimeWarning: invalid value encountered in divide\n",
      "  A = dst_demean.T @ src_demean / num\n",
      "/usr/local/src/valis/valtils.py:25: UserWarning: Need at least 4 keypoints for RANSAC filtering, but only have 1/usr/local/src/.venv/lib/python3.12/site-packages/numpy/linalg/linalg.py:2180: RuntimeWarning: invalid value encountered in det\n",
      "  r = _umath_linalg.det(a, signature=signature)\n",
      "/usr/local/src/.venv/lib/python3.12/site-packages/skimage/transform/_geometric.py:144: RuntimeWarning: invalid value encountered in divide\n",
      "  A = dst_demean.T @ src_demean / num\n",
      "\n",
      "  warnings.warn(warning_msg, warning_type)\n",
      "/usr/local/src/.venv/lib/python3.12/site-packages/numpy/linalg/linalg.py:2180: RuntimeWarning: invalid value encountered in det\n",
      "  r = _umath_linalg.det(a, signature=signature)\n",
      "/usr/local/src/.venv/lib/python3.12/site-packages/skimage/transform/_geometric.py:136: RuntimeWarning: Mean of empty slice.\n",
      "  src_mean = src.mean(axis=0)\n",
      "/usr/local/src/valis/valtils.py:25: UserWarning: /usr/local/src/valis/valtils.py:25: UserWarning: "
     ]
    },
    {
     "name": "stdout",
     "output_type": "stream",
     "text": [
      "NoneType: None\n"
     ]
    },
    {
     "name": "stderr",
     "output_type": "stream",
     "text": [
      "/usr/local/src/.venv/lib/python3.12/site-packages/numpy/core/_methods.py:121: RuntimeWarning: invalid value encountered in divide\n",
      "  ret = um.true_divide(\n",
      "Need at least 4 keypoints for RANSAC filtering, but only have 2"
     ]
    },
    {
     "name": "stdout",
     "output_type": "stream",
     "text": [
      "\n"
     ]
    },
    {
     "name": "stderr",
     "output_type": "stream",
     "text": [
      "Need at least 4 keypoints for RANSAC filtering, but only have 2/usr/local/src/.venv/lib/python3.12/site-packages/skimage/transform/_geometric.py:137: RuntimeWarning: Mean of empty slice.\n",
      "  dst_mean = dst.mean(axis=0)\n",
      "\n",
      "  warnings.warn(warning_msg, warning_type)\n",
      "\n",
      "  warnings.warn(warning_msg, warning_type)\n",
      "/usr/local/src/.venv/lib/python3.12/site-packages/numpy/core/_methods.py:121: RuntimeWarning: invalid value encountered in divide\n",
      "  ret = um.true_divide(\n",
      "/usr/local/src/.venv/lib/python3.12/site-packages/skimage/transform/_geometric.py:136: RuntimeWarning: Mean of empty slice.\n",
      "  src_mean = src.mean(axis=0)\n",
      "/usr/local/src/valis/valtils.py:25: UserWarning: /usr/local/src/.venv/lib/python3.12/site-packages/skimage/transform/_geometric.py:136: RuntimeWarning: Mean of empty slice.\n",
      "  src_mean = src.mean(axis=0)\n",
      "/usr/local/src/.venv/lib/python3.12/site-packages/skimage/transform/_geometric.py:144: RuntimeWarning: invalid value encountered in divide\n",
      "  A = dst_demean.T @ src_demean / num\n",
      "/usr/local/src/.venv/lib/python3.12/site-packages/numpy/core/_methods.py:121: RuntimeWarning: invalid value encountered in divide\n",
      "  ret = um.true_divide(\n",
      "Need at least 4 keypoints for RANSAC filtering, but only have 2"
     ]
    },
    {
     "name": "stdout",
     "output_type": "stream",
     "text": [
      "NoneType: None\n",
      "NoneType: None\n"
     ]
    },
    {
     "name": "stderr",
     "output_type": "stream",
     "text": [
      "/usr/local/src/.venv/lib/python3.12/site-packages/skimage/transform/_geometric.py:137: RuntimeWarning: Mean of empty slice.\n",
      "  dst_mean = dst.mean(axis=0)\n",
      "\n",
      "  warnings.warn(warning_msg, warning_type)\n",
      "/usr/local/src/.venv/lib/python3.12/site-packages/numpy/linalg/linalg.py:2180: RuntimeWarning: invalid value encountered in det\n",
      "  r = _umath_linalg.det(a, signature=signature)\n",
      "/usr/local/src/.venv/lib/python3.12/site-packages/numpy/core/_methods.py:121: RuntimeWarning: invalid value encountered in divide\n",
      "  ret = um.true_divide(\n"
     ]
    },
    {
     "name": "stdout",
     "output_type": "stream",
     "text": [
      "\n",
      "\n",
      "NoneType: None\n"
     ]
    },
    {
     "name": "stderr",
     "output_type": "stream",
     "text": [
      "/usr/local/src/.venv/lib/python3.12/site-packages/skimage/transform/_geometric.py:137: RuntimeWarning: Mean of empty slice.\n",
      "  dst_mean = dst.mean(axis=0)\n",
      "/usr/local/src/.venv/lib/python3.12/site-packages/numpy/core/_methods.py:121: RuntimeWarning: invalid value encountered in divide\n",
      "  ret = um.true_divide(\n"
     ]
    },
    {
     "name": "stdout",
     "output_type": "stream",
     "text": [
      "\n"
     ]
    },
    {
     "name": "stderr",
     "output_type": "stream",
     "text": [
      "/usr/local/src/.venv/lib/python3.12/site-packages/numpy/core/_methods.py:121: RuntimeWarning: invalid value encountered in divide\n",
      "  ret = um.true_divide(\n",
      "/usr/local/src/valis/valtils.py:25: UserWarning: /usr/local/src/.venv/lib/python3.12/site-packages/skimage/transform/_geometric.py:144: RuntimeWarning: invalid value encountered in divide\n",
      "  A = dst_demean.T @ src_demean / num\n",
      "/usr/local/src/.venv/lib/python3.12/site-packages/skimage/transform/_geometric.py:144: RuntimeWarning: invalid value encountered in divide\n",
      "  A = dst_demean.T @ src_demean / num\n",
      "/usr/local/src/.venv/lib/python3.12/site-packages/numpy/linalg/linalg.py:2180: RuntimeWarning: invalid value encountered in det\n",
      "  r = _umath_linalg.det(a, signature=signature)\n",
      "Need at least 4 keypoints for RANSAC filtering, but only have 3/usr/local/src/.venv/lib/python3.12/site-packages/numpy/linalg/linalg.py:2180: RuntimeWarning: invalid value encountered in det\n",
      "  r = _umath_linalg.det(a, signature=signature)\n",
      "\n",
      "  warnings.warn(warning_msg, warning_type)\n",
      "/usr/local/src/valis/valtils.py:25: UserWarning: Need at least 4 keypoints for RANSAC filtering, but only have 2"
     ]
    },
    {
     "name": "stdout",
     "output_type": "stream",
     "text": [
      "NoneType: None\n"
     ]
    },
    {
     "name": "stderr",
     "output_type": "stream",
     "text": [
      "\n",
      "  warnings.warn(warning_msg, warning_type)\n"
     ]
    },
    {
     "name": "stdout",
     "output_type": "stream",
     "text": [
      "\n"
     ]
    },
    {
     "name": "stderr",
     "output_type": "stream",
     "text": [
      "/usr/local/src/valis/valtils.py:25: UserWarning: "
     ]
    },
    {
     "name": "stdout",
     "output_type": "stream",
     "text": [
      "NoneType: None\n"
     ]
    },
    {
     "name": "stderr",
     "output_type": "stream",
     "text": [
      "/usr/local/src/.venv/lib/python3.12/site-packages/skimage/transform/_geometric.py:136: RuntimeWarning: Mean of empty slice.\n",
      "  src_mean = src.mean(axis=0)\n",
      "/usr/local/src/.venv/lib/python3.12/site-packages/skimage/transform/_geometric.py:136: RuntimeWarning: Mean of empty slice.\n",
      "  src_mean = src.mean(axis=0)\n",
      "Need at least 4 keypoints for RANSAC filtering, but only have 3"
     ]
    },
    {
     "name": "stdout",
     "output_type": "stream",
     "text": [
      "\n"
     ]
    },
    {
     "name": "stderr",
     "output_type": "stream",
     "text": [
      "/usr/local/src/.venv/lib/python3.12/site-packages/numpy/core/_methods.py:121: RuntimeWarning: invalid value encountered in divide\n",
      "  ret = um.true_divide(\n",
      "/usr/local/src/.venv/lib/python3.12/site-packages/skimage/transform/_geometric.py:136: RuntimeWarning: Mean of empty slice.\n",
      "  src_mean = src.mean(axis=0)\n",
      "/usr/local/src/.venv/lib/python3.12/site-packages/skimage/transform/_geometric.py:136: RuntimeWarning: Mean of empty slice.\n",
      "  src_mean = src.mean(axis=0)\n",
      "/usr/local/src/.venv/lib/python3.12/site-packages/numpy/core/_methods.py:121: RuntimeWarning: invalid value encountered in divide\n",
      "  ret = um.true_divide(\n",
      "\n",
      "  warnings.warn(warning_msg, warning_type)\n",
      "/usr/local/src/.venv/lib/python3.12/site-packages/skimage/transform/_geometric.py:137: RuntimeWarning: Mean of empty slice.\n",
      "  dst_mean = dst.mean(axis=0)\n",
      "/usr/local/src/.venv/lib/python3.12/site-packages/numpy/core/_methods.py:121: RuntimeWarning: invalid value encountered in divide\n",
      "  ret = um.true_divide(\n",
      "/usr/local/src/.venv/lib/python3.12/site-packages/numpy/core/_methods.py:121: RuntimeWarning: invalid value encountered in divide\n",
      "  ret = um.true_divide(\n",
      "/usr/local/src/.venv/lib/python3.12/site-packages/skimage/transform/_geometric.py:137: RuntimeWarning: Mean of empty slice.\n",
      "  dst_mean = dst.mean(axis=0)\n",
      "/usr/local/src/.venv/lib/python3.12/site-packages/skimage/transform/_geometric.py:136: RuntimeWarning: Mean of empty slice.\n",
      "  src_mean = src.mean(axis=0)\n",
      "/usr/local/src/.venv/lib/python3.12/site-packages/numpy/core/_methods.py:121: RuntimeWarning: invalid value encountered in divide\n",
      "  ret = um.true_divide(\n"
     ]
    },
    {
     "name": "stdout",
     "output_type": "stream",
     "text": [
      "NoneType: None\n"
     ]
    },
    {
     "name": "stderr",
     "output_type": "stream",
     "text": [
      "/usr/local/src/.venv/lib/python3.12/site-packages/skimage/transform/_geometric.py:137: RuntimeWarning: Mean of empty slice.\n",
      "  dst_mean = dst.mean(axis=0)\n",
      "/usr/local/src/.venv/lib/python3.12/site-packages/skimage/transform/_geometric.py:137: RuntimeWarning: Mean of empty slice.\n",
      "  dst_mean = dst.mean(axis=0)\n",
      "/usr/local/src/.venv/lib/python3.12/site-packages/numpy/core/_methods.py:121: RuntimeWarning: invalid value encountered in divide\n",
      "  ret = um.true_divide(\n",
      "/usr/local/src/.venv/lib/python3.12/site-packages/numpy/core/_methods.py:121: RuntimeWarning: invalid value encountered in divide\n",
      "  ret = um.true_divide(\n",
      "/usr/local/src/valis/valtils.py:25: UserWarning: /usr/local/src/.venv/lib/python3.12/site-packages/skimage/transform/_geometric.py:144: RuntimeWarning: invalid value encountered in divide\n",
      "  A = dst_demean.T @ src_demean / num\n",
      "/usr/local/src/.venv/lib/python3.12/site-packages/numpy/core/_methods.py:121: RuntimeWarning: invalid value encountered in divide\n",
      "  ret = um.true_divide(\n",
      "/usr/local/src/.venv/lib/python3.12/site-packages/numpy/core/_methods.py:121: RuntimeWarning: invalid value encountered in divide\n",
      "  ret = um.true_divide(\n",
      "/usr/local/src/valis/valtils.py:25: UserWarning: "
     ]
    },
    {
     "name": "stdout",
     "output_type": "stream",
     "text": [
      "\n"
     ]
    },
    {
     "name": "stderr",
     "output_type": "stream",
     "text": [
      "/usr/local/src/.venv/lib/python3.12/site-packages/skimage/transform/_geometric.py:144: RuntimeWarning: invalid value encountered in divide\n",
      "  A = dst_demean.T @ src_demean / num\n",
      "Need at least 4 keypoints for RANSAC filtering, but only have 3/usr/local/src/.venv/lib/python3.12/site-packages/skimage/transform/_geometric.py:137: RuntimeWarning: Mean of empty slice.\n",
      "  dst_mean = dst.mean(axis=0)\n",
      "/usr/local/src/valis/valtils.py:25: UserWarning: /usr/local/src/.venv/lib/python3.12/site-packages/skimage/transform/_geometric.py:136: RuntimeWarning: Mean of empty slice.\n",
      "  src_mean = src.mean(axis=0)\n",
      "/usr/local/src/valis/valtils.py:25: UserWarning: /usr/local/src/.venv/lib/python3.12/site-packages/numpy/linalg/linalg.py:2180: RuntimeWarning: invalid value encountered in det\n",
      "  r = _umath_linalg.det(a, signature=signature)\n",
      "/usr/local/src/.venv/lib/python3.12/site-packages/skimage/transform/_geometric.py:136: RuntimeWarning: Mean of empty slice.\n",
      "  src_mean = src.mean(axis=0)\n",
      "/usr/local/src/.venv/lib/python3.12/site-packages/skimage/transform/_geometric.py:144: RuntimeWarning: invalid value encountered in divide\n",
      "  A = dst_demean.T @ src_demean / num\n",
      "/usr/local/src/.venv/lib/python3.12/site-packages/numpy/linalg/linalg.py:2180: RuntimeWarning: invalid value encountered in det\n",
      "  r = _umath_linalg.det(a, signature=signature)\n",
      "Need at least 4 keypoints for RANSAC filtering, but only have 3/usr/local/src/valis/valtils.py:25: UserWarning: /usr/local/src/valis/valtils.py:25: UserWarning: /usr/local/src/valis/valtils.py:25: UserWarning: \n",
      "  warnings.warn(warning_msg, warning_type)\n",
      "/usr/local/src/.venv/lib/python3.12/site-packages/numpy/core/_methods.py:121: RuntimeWarning: invalid value encountered in divide\n",
      "  ret = um.true_divide(\n",
      "/usr/local/src/.venv/lib/python3.12/site-packages/numpy/linalg/linalg.py:2180: RuntimeWarning: invalid value encountered in det\n",
      "  r = _umath_linalg.det(a, signature=signature)\n",
      "/usr/local/src/valis/valtils.py:25: UserWarning: /usr/local/src/.venv/lib/python3.12/site-packages/numpy/core/_methods.py:121: RuntimeWarning: invalid value encountered in divide\n",
      "  ret = um.true_divide(\n",
      "Need at least 4 keypoints for RANSAC filtering, but only have 3/usr/local/src/.venv/lib/python3.12/site-packages/numpy/core/_methods.py:121: RuntimeWarning: invalid value encountered in divide\n",
      "  ret = um.true_divide(\n",
      "Need at least 4 keypoints for RANSAC filtering, but only have 3\n",
      "  warnings.warn(warning_msg, warning_type)\n",
      "Need at least 4 keypoints for RANSAC filtering, but only have 3/usr/local/src/.venv/lib/python3.12/site-packages/numpy/linalg/linalg.py:2180: RuntimeWarning: invalid value encountered in det\n",
      "  r = _umath_linalg.det(a, signature=signature)\n",
      "Need at least 4 keypoints for RANSAC filtering, but only have 3Need at least 4 keypoints for RANSAC filtering, but only have 3/usr/local/src/.venv/lib/python3.12/site-packages/skimage/transform/_geometric.py:144: RuntimeWarning: invalid value encountered in divide\n",
      "  A = dst_demean.T @ src_demean / num\n",
      "/usr/local/src/valis/valtils.py:25: UserWarning: /usr/local/src/valis/valtils.py:25: UserWarning: /usr/local/src/valis/valtils.py:25: UserWarning: "
     ]
    },
    {
     "name": "stdout",
     "output_type": "stream",
     "text": [
      "NoneType: None\n"
     ]
    },
    {
     "name": "stderr",
     "output_type": "stream",
     "text": [
      "Need at least 4 keypoints for RANSAC filtering, but only have 2/usr/local/src/valis/valtils.py:25: UserWarning: /usr/local/src/valis/valtils.py:25: UserWarning: \n",
      "  warnings.warn(warning_msg, warning_type)\n",
      "/usr/local/src/.venv/lib/python3.12/site-packages/skimage/transform/_geometric.py:137: RuntimeWarning: Mean of empty slice.\n",
      "  dst_mean = dst.mean(axis=0)\n",
      "/usr/local/src/.venv/lib/python3.12/site-packages/skimage/transform/_geometric.py:137: RuntimeWarning: Mean of empty slice.\n",
      "  dst_mean = dst.mean(axis=0)\n",
      "/usr/local/src/.venv/lib/python3.12/site-packages/skimage/transform/_geometric.py:136: RuntimeWarning: Mean of empty slice.\n",
      "  src_mean = src.mean(axis=0)\n",
      "\n",
      "  warnings.warn(warning_msg, warning_type)\n",
      "\n",
      "  warnings.warn(warning_msg, warning_type)\n",
      "\n",
      "  warnings.warn(warning_msg, warning_type)\n",
      "\n",
      "  warnings.warn(warning_msg, warning_type)\n",
      "/usr/local/src/.venv/lib/python3.12/site-packages/numpy/linalg/linalg.py:2180: RuntimeWarning: invalid value encountered in det\n",
      "  r = _umath_linalg.det(a, signature=signature)\n"
     ]
    },
    {
     "name": "stdout",
     "output_type": "stream",
     "text": [
      "NoneType: None\n"
     ]
    },
    {
     "name": "stderr",
     "output_type": "stream",
     "text": [
      "Need at least 4 keypoints for RANSAC filtering, but only have 3Need at least 4 keypoints for RANSAC filtering, but only have 3/usr/local/src/valis/valtils.py:25: UserWarning: \n",
      "  warnings.warn(warning_msg, warning_type)\n",
      "Need at least 4 keypoints for RANSAC filtering, but only have 3Need at least 4 keypoints for RANSAC filtering, but only have 3Need at least 4 keypoints for RANSAC filtering, but only have 1/usr/local/src/.venv/lib/python3.12/site-packages/numpy/core/_methods.py:121: RuntimeWarning: invalid value encountered in divide\n",
      "  ret = um.true_divide(\n"
     ]
    },
    {
     "name": "stdout",
     "output_type": "stream",
     "text": [
      "\n",
      "NoneType: None\n"
     ]
    },
    {
     "name": "stderr",
     "output_type": "stream",
     "text": [
      "/usr/local/src/.venv/lib/python3.12/site-packages/numpy/core/_methods.py:121: RuntimeWarning: invalid value encountered in divide\n",
      "  ret = um.true_divide(\n",
      "/usr/local/src/.venv/lib/python3.12/site-packages/numpy/core/_methods.py:121: RuntimeWarning: invalid value encountered in divide\n",
      "  ret = um.true_divide(\n"
     ]
    },
    {
     "name": "stdout",
     "output_type": "stream",
     "text": [
      "\n",
      "NoneType: None\n",
      "NoneType: None\n",
      "NoneType: None\n",
      "NoneType: None\n"
     ]
    },
    {
     "name": "stderr",
     "output_type": "stream",
     "text": [
      "\n",
      "  warnings.warn(warning_msg, warning_type)\n",
      "\n",
      "  warnings.warn(warning_msg, warning_type)\n",
      "Need at least 4 keypoints for RANSAC filtering, but only have 3\n",
      "  warnings.warn(warning_msg, warning_type)\n",
      "\n",
      "  warnings.warn(warning_msg, warning_type)\n",
      "/usr/local/src/.venv/lib/python3.12/site-packages/skimage/transform/_geometric.py:136: RuntimeWarning: Mean of empty slice.\n",
      "  src_mean = src.mean(axis=0)\n",
      "\n",
      "  warnings.warn(warning_msg, warning_type)\n",
      "/usr/local/src/valis/valtils.py:25: UserWarning: /usr/local/src/valis/valtils.py:25: UserWarning: /usr/local/src/valis/valtils.py:25: UserWarning: "
     ]
    },
    {
     "name": "stdout",
     "output_type": "stream",
     "text": [
      "NoneType: None\n"
     ]
    },
    {
     "name": "stderr",
     "output_type": "stream",
     "text": [
      "/usr/local/src/.venv/lib/python3.12/site-packages/skimage/transform/_geometric.py:144: RuntimeWarning: invalid value encountered in divide\n",
      "  A = dst_demean.T @ src_demean / num\n"
     ]
    },
    {
     "name": "stdout",
     "output_type": "stream",
     "text": [
      "\n"
     ]
    },
    {
     "name": "stderr",
     "output_type": "stream",
     "text": [
      "/usr/local/src/.venv/lib/python3.12/site-packages/skimage/transform/_geometric.py:137: RuntimeWarning: Mean of empty slice.\n",
      "  dst_mean = dst.mean(axis=0)\n",
      "/usr/local/src/.venv/lib/python3.12/site-packages/skimage/transform/_geometric.py:144: RuntimeWarning: invalid value encountered in divide\n",
      "  A = dst_demean.T @ src_demean / num\n"
     ]
    },
    {
     "name": "stdout",
     "output_type": "stream",
     "text": [
      "\n",
      "\n",
      "\n",
      "\n",
      "NoneType: None\n",
      "NoneType: None\n"
     ]
    },
    {
     "name": "stderr",
     "output_type": "stream",
     "text": [
      "\n",
      "  warnings.warn(warning_msg, warning_type)\n",
      "/usr/local/src/.venv/lib/python3.12/site-packages/skimage/transform/_geometric.py:136: RuntimeWarning: Mean of empty slice.\n",
      "  src_mean = src.mean(axis=0)\n",
      "/usr/local/src/valis/valtils.py:25: UserWarning: "
     ]
    },
    {
     "name": "stdout",
     "output_type": "stream",
     "text": [
      "\n",
      "NoneType: None\n",
      "NoneType: None\n",
      "NoneType: None\n"
     ]
    },
    {
     "name": "stderr",
     "output_type": "stream",
     "text": [
      "/usr/local/src/.venv/lib/python3.12/site-packages/numpy/core/_methods.py:121: RuntimeWarning: invalid value encountered in divide\n",
      "  ret = um.true_divide(\n",
      "Need at least 4 keypoints for RANSAC filtering, but only have 2Need at least 4 keypoints for RANSAC filtering, but only have 3Need at least 4 keypoints for RANSAC filtering, but only have 2/usr/local/src/.venv/lib/python3.12/site-packages/numpy/linalg/linalg.py:2180: RuntimeWarning: invalid value encountered in det\n",
      "  r = _umath_linalg.det(a, signature=signature)\n",
      "/usr/local/src/valis/valtils.py:25: UserWarning: /usr/local/src/.venv/lib/python3.12/site-packages/numpy/core/_methods.py:121: RuntimeWarning: invalid value encountered in divide\n",
      "  ret = um.true_divide(\n",
      "/usr/local/src/.venv/lib/python3.12/site-packages/numpy/linalg/linalg.py:2180: RuntimeWarning: invalid value encountered in det\n",
      "  r = _umath_linalg.det(a, signature=signature)\n"
     ]
    },
    {
     "name": "stdout",
     "output_type": "stream",
     "text": [
      "\n",
      "\n",
      "NoneType: None\n"
     ]
    },
    {
     "name": "stderr",
     "output_type": "stream",
     "text": [
      "/usr/local/src/valis/valtils.py:25: UserWarning: Need at least 4 keypoints for RANSAC filtering, but only have 3/usr/local/src/.venv/lib/python3.12/site-packages/skimage/transform/_geometric.py:137: RuntimeWarning: Mean of empty slice.\n",
      "  dst_mean = dst.mean(axis=0)\n",
      "Need at least 4 keypoints for RANSAC filtering, but only have 3\n",
      "  warnings.warn(warning_msg, warning_type)\n"
     ]
    },
    {
     "name": "stdout",
     "output_type": "stream",
     "text": [
      "\n",
      "\n",
      "\n"
     ]
    },
    {
     "name": "stderr",
     "output_type": "stream",
     "text": [
      "\n",
      "  warnings.warn(warning_msg, warning_type)\n",
      "\n",
      "  warnings.warn(warning_msg, warning_type)\n",
      "/usr/local/src/.venv/lib/python3.12/site-packages/numpy/core/_methods.py:121: RuntimeWarning: invalid value encountered in divide\n",
      "  ret = um.true_divide(\n",
      "/usr/local/src/.venv/lib/python3.12/site-packages/skimage/transform/_geometric.py:144: RuntimeWarning: invalid value encountered in divide\n",
      "  A = dst_demean.T @ src_demean / num\n",
      "/usr/local/src/.venv/lib/python3.12/site-packages/skimage/transform/_geometric.py:136: RuntimeWarning: Mean of empty slice.\n",
      "  src_mean = src.mean(axis=0)\n",
      "Need at least 4 keypoints for RANSAC filtering, but only have 2/usr/local/src/valis/valtils.py:25: UserWarning: \n",
      "  warnings.warn(warning_msg, warning_type)\n",
      "/usr/local/src/valis/valtils.py:25: UserWarning: /usr/local/src/valis/valtils.py:25: UserWarning: /usr/local/src/valis/valtils.py:25: UserWarning: "
     ]
    },
    {
     "name": "stdout",
     "output_type": "stream",
     "text": [
      "\n",
      "NoneType: None\n",
      "NoneType: None\n"
     ]
    },
    {
     "name": "stderr",
     "output_type": "stream",
     "text": [
      "\n",
      "  warnings.warn(warning_msg, warning_type)\n",
      "/usr/local/src/valis/valtils.py:25: UserWarning: /usr/local/src/.venv/lib/python3.12/site-packages/numpy/core/_methods.py:121: RuntimeWarning: invalid value encountered in divide\n",
      "  ret = um.true_divide(\n",
      "/usr/local/src/.venv/lib/python3.12/site-packages/skimage/transform/_geometric.py:137: RuntimeWarning: Mean of empty slice.\n",
      "  dst_mean = dst.mean(axis=0)\n",
      "/usr/local/src/.venv/lib/python3.12/site-packages/numpy/linalg/linalg.py:2180: RuntimeWarning: invalid value encountered in det\n",
      "  r = _umath_linalg.det(a, signature=signature)\n",
      "/usr/local/src/.venv/lib/python3.12/site-packages/skimage/transform/_geometric.py:136: RuntimeWarning: Mean of empty slice.\n",
      "  src_mean = src.mean(axis=0)\n"
     ]
    },
    {
     "name": "stdout",
     "output_type": "stream",
     "text": [
      "NoneType: None\n"
     ]
    },
    {
     "name": "stderr",
     "output_type": "stream",
     "text": [
      "/usr/local/src/.venv/lib/python3.12/site-packages/numpy/core/_methods.py:121: RuntimeWarning: invalid value encountered in divide\n",
      "  ret = um.true_divide(\n",
      "\n",
      "  warnings.warn(warning_msg, warning_type)\n",
      "/usr/local/src/valis/valtils.py:25: UserWarning: Need at least 4 keypoints for RANSAC filtering, but only have 3"
     ]
    },
    {
     "name": "stdout",
     "output_type": "stream",
     "text": [
      "NoneType: None\n"
     ]
    },
    {
     "name": "stderr",
     "output_type": "stream",
     "text": [
      "Need at least 4 keypoints for RANSAC filtering, but only have 3Need at least 4 keypoints for RANSAC filtering, but only have 3Need at least 4 keypoints for RANSAC filtering, but only have 3/usr/local/src/valis/valtils.py:25: UserWarning: /usr/local/src/.venv/lib/python3.12/site-packages/skimage/transform/_geometric.py:136: RuntimeWarning: Mean of empty slice.\n",
      "  src_mean = src.mean(axis=0)\n",
      "Need at least 4 keypoints for RANSAC filtering, but only have 3"
     ]
    },
    {
     "name": "stdout",
     "output_type": "stream",
     "text": [
      "NoneType: None\n",
      "\n",
      "\n"
     ]
    },
    {
     "name": "stderr",
     "output_type": "stream",
     "text": [
      "/usr/local/src/.venv/lib/python3.12/site-packages/skimage/transform/_geometric.py:144: RuntimeWarning: invalid value encountered in divide\n",
      "  A = dst_demean.T @ src_demean / num\n",
      "/usr/local/src/.venv/lib/python3.12/site-packages/numpy/core/_methods.py:121: RuntimeWarning: invalid value encountered in divide\n",
      "  ret = um.true_divide(\n",
      "/usr/local/src/.venv/lib/python3.12/site-packages/numpy/core/_methods.py:121: RuntimeWarning: invalid value encountered in divide\n",
      "  ret = um.true_divide(\n",
      "/usr/local/src/valis/valtils.py:25: UserWarning: /usr/local/src/valis/valtils.py:25: UserWarning: /usr/local/src/valis/valtils.py:25: UserWarning: /usr/local/src/valis/valtils.py:25: UserWarning: /usr/local/src/.venv/lib/python3.12/site-packages/skimage/transform/_geometric.py:136: RuntimeWarning: Mean of empty slice.\n",
      "  src_mean = src.mean(axis=0)\n",
      "/usr/local/src/.venv/lib/python3.12/site-packages/skimage/transform/_geometric.py:137: RuntimeWarning: Mean of empty slice.\n",
      "  dst_mean = dst.mean(axis=0)\n",
      "Need at least 4 keypoints for RANSAC filtering, but only have 2\n",
      "  warnings.warn(warning_msg, warning_type)\n",
      "/usr/local/src/valis/valtils.py:25: UserWarning: /usr/local/src/.venv/lib/python3.12/site-packages/skimage/transform/_geometric.py:136: RuntimeWarning: Mean of empty slice.\n",
      "  src_mean = src.mean(axis=0)\n"
     ]
    },
    {
     "name": "stdout",
     "output_type": "stream",
     "text": [
      "\n",
      "NoneType: None\n"
     ]
    },
    {
     "name": "stderr",
     "output_type": "stream",
     "text": [
      "\n",
      "  warnings.warn(warning_msg, warning_type)\n",
      "\n",
      "  warnings.warn(warning_msg, warning_type)\n",
      "\n",
      "  warnings.warn(warning_msg, warning_type)\n",
      "/usr/local/src/.venv/lib/python3.12/site-packages/numpy/core/_methods.py:121: RuntimeWarning: invalid value encountered in divide\n",
      "  ret = um.true_divide(\n",
      "Need at least 4 keypoints for RANSAC filtering, but only have 3/usr/local/src/valis/valtils.py:25: UserWarning: "
     ]
    },
    {
     "name": "stdout",
     "output_type": "stream",
     "text": [
      "\n"
     ]
    },
    {
     "name": "stderr",
     "output_type": "stream",
     "text": [
      "\n",
      "  warnings.warn(warning_msg, warning_type)\n",
      "/usr/local/src/.venv/lib/python3.12/site-packages/numpy/linalg/linalg.py:2180: RuntimeWarning: invalid value encountered in det\n",
      "  r = _umath_linalg.det(a, signature=signature)\n"
     ]
    },
    {
     "name": "stdout",
     "output_type": "stream",
     "text": [
      "\n"
     ]
    },
    {
     "name": "stderr",
     "output_type": "stream",
     "text": [
      "/usr/local/src/.venv/lib/python3.12/site-packages/skimage/transform/_geometric.py:144: RuntimeWarning: invalid value encountered in divide\n",
      "  A = dst_demean.T @ src_demean / num\n",
      "/usr/local/src/.venv/lib/python3.12/site-packages/numpy/core/_methods.py:121: RuntimeWarning: invalid value encountered in divide\n",
      "  ret = um.true_divide(\n",
      "/usr/local/src/.venv/lib/python3.12/site-packages/skimage/transform/_geometric.py:137: RuntimeWarning: Mean of empty slice.\n",
      "  dst_mean = dst.mean(axis=0)\n",
      "Need at least 4 keypoints for RANSAC filtering, but only have 3Need at least 4 keypoints for RANSAC filtering, but only have 3Need at least 4 keypoints for RANSAC filtering, but only have 3Need at least 4 keypoints for RANSAC filtering, but only have 2/usr/local/src/valis/valtils.py:25: UserWarning: /usr/local/src/valis/valtils.py:25: UserWarning: \n",
      "  warnings.warn(warning_msg, warning_type)\n",
      "Need at least 4 keypoints for RANSAC filtering, but only have 3/usr/local/src/.venv/lib/python3.12/site-packages/numpy/core/_methods.py:121: RuntimeWarning: invalid value encountered in divide\n",
      "  ret = um.true_divide(\n"
     ]
    },
    {
     "name": "stdout",
     "output_type": "stream",
     "text": [
      "\n",
      "NoneType: None\n",
      "NoneType: None\n",
      "NoneType: None\n",
      "NoneType: None\n"
     ]
    },
    {
     "name": "stderr",
     "output_type": "stream",
     "text": [
      "/usr/local/src/.venv/lib/python3.12/site-packages/numpy/core/_methods.py:121: RuntimeWarning: invalid value encountered in divide\n",
      "  ret = um.true_divide(\n",
      "/usr/local/src/.venv/lib/python3.12/site-packages/skimage/transform/_geometric.py:137: RuntimeWarning: Mean of empty slice.\n",
      "  dst_mean = dst.mean(axis=0)\n",
      "Need at least 4 keypoints for RANSAC filtering, but only have 1\n",
      "  warnings.warn(warning_msg, warning_type)\n",
      "/usr/local/src/valis/valtils.py:25: UserWarning: /usr/local/src/.venv/lib/python3.12/site-packages/skimage/transform/_geometric.py:136: RuntimeWarning: Mean of empty slice.\n",
      "  src_mean = src.mean(axis=0)\n",
      "/usr/local/src/valis/valtils.py:25: UserWarning: /usr/local/src/.venv/lib/python3.12/site-packages/numpy/linalg/linalg.py:2180: RuntimeWarning: invalid value encountered in det\n",
      "  r = _umath_linalg.det(a, signature=signature)\n",
      "/usr/local/src/valis/valtils.py:25: UserWarning: /usr/local/src/.venv/lib/python3.12/site-packages/numpy/core/_methods.py:121: RuntimeWarning: invalid value encountered in divide\n",
      "  ret = um.true_divide(\n",
      "\n",
      "  warnings.warn(warning_msg, warning_type)\n",
      "Need at least 4 keypoints for RANSAC filtering, but only have 3\n",
      "  warnings.warn(warning_msg, warning_type)\n",
      "/usr/local/src/.venv/lib/python3.12/site-packages/skimage/transform/_geometric.py:137: RuntimeWarning: Mean of empty slice.\n",
      "  dst_mean = dst.mean(axis=0)\n",
      "\n",
      "  warnings.warn(warning_msg, warning_type)\n",
      "\n",
      "  warnings.warn(warning_msg, warning_type)\n",
      "/usr/local/src/.venv/lib/python3.12/site-packages/skimage/transform/_geometric.py:136: RuntimeWarning: Mean of empty slice.\n",
      "  src_mean = src.mean(axis=0)\n"
     ]
    },
    {
     "name": "stdout",
     "output_type": "stream",
     "text": [
      "NoneType: None\n"
     ]
    },
    {
     "name": "stderr",
     "output_type": "stream",
     "text": [
      "Need at least 4 keypoints for RANSAC filtering, but only have 3"
     ]
    },
    {
     "name": "stdout",
     "output_type": "stream",
     "text": [
      "NoneType: None\n",
      "\n"
     ]
    },
    {
     "name": "stderr",
     "output_type": "stream",
     "text": [
      "\n",
      "  warnings.warn(warning_msg, warning_type)\n",
      "/usr/local/src/.venv/lib/python3.12/site-packages/skimage/transform/_geometric.py:137: RuntimeWarning: Mean of empty slice.\n",
      "  dst_mean = dst.mean(axis=0)\n"
     ]
    },
    {
     "name": "stdout",
     "output_type": "stream",
     "text": [
      "\n",
      "\n",
      "\n",
      "NoneType: None\n"
     ]
    },
    {
     "name": "stderr",
     "output_type": "stream",
     "text": [
      "\n",
      "  warnings.warn(warning_msg, warning_type)\n",
      "/usr/local/src/.venv/lib/python3.12/site-packages/skimage/transform/_geometric.py:144: RuntimeWarning: invalid value encountered in divide\n",
      "  A = dst_demean.T @ src_demean / num\n",
      "/usr/local/src/.venv/lib/python3.12/site-packages/numpy/core/_methods.py:121: RuntimeWarning: invalid value encountered in divide\n",
      "  ret = um.true_divide(\n",
      "Need at least 4 keypoints for RANSAC filtering, but only have 3/usr/local/src/.venv/lib/python3.12/site-packages/skimage/transform/_geometric.py:137: RuntimeWarning: Mean of empty slice.\n",
      "  dst_mean = dst.mean(axis=0)\n",
      "Need at least 4 keypoints for RANSAC filtering, but only have 1/usr/local/src/valis/valtils.py:25: UserWarning: "
     ]
    },
    {
     "name": "stdout",
     "output_type": "stream",
     "text": [
      "\n",
      "NoneType: None\n",
      "NoneType: None\n",
      "NoneType: None\n",
      "NoneType: None\n"
     ]
    },
    {
     "name": "stderr",
     "output_type": "stream",
     "text": [
      "/usr/local/src/.venv/lib/python3.12/site-packages/numpy/core/_methods.py:121: RuntimeWarning: invalid value encountered in divide\n",
      "  ret = um.true_divide(\n",
      "/usr/local/src/.venv/lib/python3.12/site-packages/skimage/transform/_geometric.py:144: RuntimeWarning: invalid value encountered in divide\n",
      "  A = dst_demean.T @ src_demean / num\n",
      "Need at least 4 keypoints for RANSAC filtering, but only have 3/usr/local/src/.venv/lib/python3.12/site-packages/numpy/core/_methods.py:121: RuntimeWarning: invalid value encountered in divide\n",
      "  ret = um.true_divide(\n",
      "\n",
      "  warnings.warn(warning_msg, warning_type)\n",
      "\n",
      "  warnings.warn(warning_msg, warning_type)\n",
      "/usr/local/src/valis/valtils.py:25: UserWarning: /usr/local/src/.venv/lib/python3.12/site-packages/numpy/core/_methods.py:121: RuntimeWarning: invalid value encountered in divide\n",
      "  ret = um.true_divide(\n"
     ]
    },
    {
     "name": "stdout",
     "output_type": "stream",
     "text": [
      "\n",
      "NoneType: None\n",
      "\n",
      "NoneType: None\n"
     ]
    },
    {
     "name": "stderr",
     "output_type": "stream",
     "text": [
      "/usr/local/src/.venv/lib/python3.12/site-packages/numpy/core/_methods.py:121: RuntimeWarning: invalid value encountered in divide\n",
      "  ret = um.true_divide(\n",
      "/usr/local/src/.venv/lib/python3.12/site-packages/numpy/linalg/linalg.py:2180: RuntimeWarning: invalid value encountered in det\n",
      "  r = _umath_linalg.det(a, signature=signature)\n",
      "/usr/local/src/.venv/lib/python3.12/site-packages/skimage/transform/_geometric.py:144: RuntimeWarning: invalid value encountered in divide\n",
      "  A = dst_demean.T @ src_demean / num\n",
      "\n",
      "  warnings.warn(warning_msg, warning_type)\n",
      "\n",
      "  warnings.warn(warning_msg, warning_type)\n",
      "Need at least 4 keypoints for RANSAC filtering, but only have 3"
     ]
    },
    {
     "name": "stdout",
     "output_type": "stream",
     "text": [
      "\n"
     ]
    },
    {
     "name": "stderr",
     "output_type": "stream",
     "text": [
      "/usr/local/src/.venv/lib/python3.12/site-packages/skimage/transform/_geometric.py:137: RuntimeWarning: Mean of empty slice.\n",
      "  dst_mean = dst.mean(axis=0)\n",
      "/usr/local/src/.venv/lib/python3.12/site-packages/numpy/linalg/linalg.py:2180: RuntimeWarning: invalid value encountered in det\n",
      "  r = _umath_linalg.det(a, signature=signature)\n"
     ]
    },
    {
     "name": "stdout",
     "output_type": "stream",
     "text": [
      "\n",
      "\n",
      "\n",
      "NoneType: None\n"
     ]
    },
    {
     "name": "stderr",
     "output_type": "stream",
     "text": [
      "\n",
      "  warnings.warn(warning_msg, warning_type)\n",
      "/usr/local/src/.venv/lib/python3.12/site-packages/skimage/transform/_geometric.py:144: RuntimeWarning: invalid value encountered in divide\n",
      "  A = dst_demean.T @ src_demean / num\n"
     ]
    },
    {
     "name": "stdout",
     "output_type": "stream",
     "text": [
      "NoneType: None\n"
     ]
    },
    {
     "name": "stderr",
     "output_type": "stream",
     "text": [
      "Need at least 4 keypoints for RANSAC filtering, but only have 3/usr/local/src/valis/serial_rigid.py:615: UserWarning: 0 between B_213-ST_BFIW-SE_1379_processed and B_213-ST_BFIW-SE_2499_processed\n",
      "  warnings.warn(f\"{len(filtered_match_info12.matched_kp1_xy)} between {img_obj_1.name} and {img_obj_2.name}\")\n"
     ]
    },
    {
     "name": "stdout",
     "output_type": "stream",
     "text": [
      "\n"
     ]
    },
    {
     "name": "stderr",
     "output_type": "stream",
     "text": [
      "/usr/local/src/.venv/lib/python3.12/site-packages/skimage/transform/_geometric.py:144: RuntimeWarning: invalid value encountered in divide\n",
      "  A = dst_demean.T @ src_demean / num\n",
      "/usr/local/src/.venv/lib/python3.12/site-packages/skimage/transform/_geometric.py:136: RuntimeWarning: Mean of empty slice.\n",
      "  src_mean = src.mean(axis=0)\n",
      "/usr/local/src/.venv/lib/python3.12/site-packages/numpy/linalg/linalg.py:2180: RuntimeWarning: invalid value encountered in det\n",
      "  r = _umath_linalg.det(a, signature=signature)\n",
      "/usr/local/src/.venv/lib/python3.12/site-packages/skimage/transform/_geometric.py:144: RuntimeWarning: invalid value encountered in divide\n",
      "  A = dst_demean.T @ src_demean / num\n",
      "/usr/local/src/.venv/lib/python3.12/site-packages/skimage/transform/_geometric.py:136: RuntimeWarning: Mean of empty slice.\n",
      "  src_mean = src.mean(axis=0)\n"
     ]
    },
    {
     "name": "stdout",
     "output_type": "stream",
     "text": [
      "NoneType: None\n",
      "NoneType: None\n",
      "\n"
     ]
    },
    {
     "name": "stderr",
     "output_type": "stream",
     "text": [
      "\n",
      "  warnings.warn(warning_msg, warning_type)\n",
      "/usr/local/src/.venv/lib/python3.12/site-packages/numpy/core/_methods.py:121: RuntimeWarning: invalid value encountered in divide\n",
      "  ret = um.true_divide(\n",
      "/usr/local/src/.venv/lib/python3.12/site-packages/numpy/linalg/linalg.py:2180: RuntimeWarning: invalid value encountered in det\n",
      "  r = _umath_linalg.det(a, signature=signature)\n",
      "/usr/local/src/.venv/lib/python3.12/site-packages/skimage/transform/_geometric.py:136: RuntimeWarning: Mean of empty slice.\n",
      "  src_mean = src.mean(axis=0)\n"
     ]
    },
    {
     "name": "stdout",
     "output_type": "stream",
     "text": [
      "NoneType: None\n",
      "\n"
     ]
    },
    {
     "name": "stderr",
     "output_type": "stream",
     "text": [
      "\n",
      "  warnings.warn(warning_msg, warning_type)\n"
     ]
    },
    {
     "name": "stdout",
     "output_type": "stream",
     "text": [
      "\n"
     ]
    },
    {
     "name": "stderr",
     "output_type": "stream",
     "text": [
      "/usr/local/src/.venv/lib/python3.12/site-packages/numpy/linalg/linalg.py:2180: RuntimeWarning: invalid value encountered in det\n",
      "  r = _umath_linalg.det(a, signature=signature)\n",
      "/usr/local/src/.venv/lib/python3.12/site-packages/numpy/core/_methods.py:121: RuntimeWarning: invalid value encountered in divide\n",
      "  ret = um.true_divide(\n"
     ]
    },
    {
     "name": "stdout",
     "output_type": "stream",
     "text": [
      "\n",
      "\n"
     ]
    },
    {
     "name": "stderr",
     "output_type": "stream",
     "text": [
      "/usr/local/src/.venv/lib/python3.12/site-packages/numpy/linalg/linalg.py:2180: RuntimeWarning: invalid value encountered in det\n",
      "  r = _umath_linalg.det(a, signature=signature)\n",
      "/usr/local/src/.venv/lib/python3.12/site-packages/numpy/core/_methods.py:121: RuntimeWarning: invalid value encountered in divide\n",
      "  ret = um.true_divide(\n",
      "/usr/local/src/valis/valtils.py:25: UserWarning: /usr/local/src/valis/valtils.py:25: UserWarning: /usr/local/src/valis/valtils.py:25: UserWarning: "
     ]
    },
    {
     "name": "stdout",
     "output_type": "stream",
     "text": [
      "NoneType: None\n"
     ]
    },
    {
     "name": "stderr",
     "output_type": "stream",
     "text": [
      "/usr/local/src/.venv/lib/python3.12/site-packages/skimage/transform/_geometric.py:144: RuntimeWarning: invalid value encountered in divide\n",
      "  A = dst_demean.T @ src_demean / num\n",
      "/usr/local/src/.venv/lib/python3.12/site-packages/numpy/core/_methods.py:121: RuntimeWarning: invalid value encountered in divide\n",
      "  ret = um.true_divide(\n",
      "/usr/local/src/valis/valtils.py:25: UserWarning: "
     ]
    },
    {
     "name": "stdout",
     "output_type": "stream",
     "text": [
      "\n",
      "NoneType: None\n"
     ]
    },
    {
     "name": "stderr",
     "output_type": "stream",
     "text": [
      "/usr/local/src/.venv/lib/python3.12/site-packages/skimage/transform/_geometric.py:137: RuntimeWarning: Mean of empty slice.\n",
      "  dst_mean = dst.mean(axis=0)\n",
      "/usr/local/src/.venv/lib/python3.12/site-packages/skimage/transform/_geometric.py:137: RuntimeWarning: Mean of empty slice.\n",
      "  dst_mean = dst.mean(axis=0)\n",
      "Need at least 4 keypoints for RANSAC filtering, but only have 3Need at least 4 keypoints for RANSAC filtering, but only have 2Need at least 4 keypoints for RANSAC filtering, but only have 3/usr/local/src/valis/valtils.py:25: UserWarning: "
     ]
    },
    {
     "name": "stdout",
     "output_type": "stream",
     "text": [
      "\n"
     ]
    },
    {
     "name": "stderr",
     "output_type": "stream",
     "text": [
      "/usr/local/src/.venv/lib/python3.12/site-packages/numpy/linalg/linalg.py:2180: RuntimeWarning: invalid value encountered in det\n",
      "  r = _umath_linalg.det(a, signature=signature)\n",
      "Need at least 4 keypoints for RANSAC filtering, but only have 1/usr/local/src/.venv/lib/python3.12/site-packages/numpy/core/_methods.py:121: RuntimeWarning: invalid value encountered in divide\n",
      "  ret = um.true_divide(\n",
      "/usr/local/src/.venv/lib/python3.12/site-packages/skimage/transform/_geometric.py:137: RuntimeWarning: Mean of empty slice.\n",
      "  dst_mean = dst.mean(axis=0)\n"
     ]
    },
    {
     "name": "stdout",
     "output_type": "stream",
     "text": [
      "\n"
     ]
    },
    {
     "name": "stderr",
     "output_type": "stream",
     "text": [
      "/usr/local/src/.venv/lib/python3.12/site-packages/numpy/core/_methods.py:121: RuntimeWarning: invalid value encountered in divide\n",
      "  ret = um.true_divide(\n",
      "Need at least 4 keypoints for RANSAC filtering, but only have 3\n",
      "  warnings.warn(warning_msg, warning_type)\n",
      "\n",
      "  warnings.warn(warning_msg, warning_type)\n",
      "\n",
      "  warnings.warn(warning_msg, warning_type)\n",
      "\n",
      "  warnings.warn(warning_msg, warning_type)\n",
      "/usr/local/src/.venv/lib/python3.12/site-packages/numpy/core/_methods.py:121: RuntimeWarning: invalid value encountered in divide\n",
      "  ret = um.true_divide(\n",
      "/usr/local/src/.venv/lib/python3.12/site-packages/skimage/transform/_geometric.py:144: RuntimeWarning: invalid value encountered in divide\n",
      "  A = dst_demean.T @ src_demean / num\n",
      "/usr/local/src/.venv/lib/python3.12/site-packages/skimage/transform/_geometric.py:144: RuntimeWarning: invalid value encountered in divide\n",
      "  A = dst_demean.T @ src_demean / num\n",
      "\n",
      "  warnings.warn(warning_msg, warning_type)\n",
      "/usr/local/src/.venv/lib/python3.12/site-packages/skimage/transform/_geometric.py:136: RuntimeWarning: Mean of empty slice.\n",
      "  src_mean = src.mean(axis=0)\n",
      "/usr/local/src/.venv/lib/python3.12/site-packages/skimage/transform/_geometric.py:136: RuntimeWarning: Mean of empty slice.\n",
      "  src_mean = src.mean(axis=0)\n",
      "/usr/local/src/.venv/lib/python3.12/site-packages/skimage/transform/_geometric.py:144: RuntimeWarning: invalid value encountered in divide\n",
      "  A = dst_demean.T @ src_demean / num\n",
      "/usr/local/src/.venv/lib/python3.12/site-packages/numpy/linalg/linalg.py:2180: RuntimeWarning: invalid value encountered in det\n",
      "  r = _umath_linalg.det(a, signature=signature)\n"
     ]
    },
    {
     "name": "stdout",
     "output_type": "stream",
     "text": [
      "NoneType: None\n",
      "NoneType: None\n",
      "NoneType: None\n",
      "NoneType: None\n"
     ]
    },
    {
     "name": "stderr",
     "output_type": "stream",
     "text": [
      "/usr/local/src/.venv/lib/python3.12/site-packages/numpy/linalg/linalg.py:2180: RuntimeWarning: invalid value encountered in det\n",
      "  r = _umath_linalg.det(a, signature=signature)\n"
     ]
    },
    {
     "name": "stdout",
     "output_type": "stream",
     "text": [
      "\n",
      "\n",
      "\n",
      "NoneType: None\n"
     ]
    },
    {
     "name": "stderr",
     "output_type": "stream",
     "text": [
      "/usr/local/src/.venv/lib/python3.12/site-packages/numpy/linalg/linalg.py:2180: RuntimeWarning: invalid value encountered in det\n",
      "  r = _umath_linalg.det(a, signature=signature)\n",
      "/usr/local/src/.venv/lib/python3.12/site-packages/numpy/core/_methods.py:121: RuntimeWarning: invalid value encountered in divide\n",
      "  ret = um.true_divide(\n",
      "/usr/local/src/.venv/lib/python3.12/site-packages/numpy/core/_methods.py:121: RuntimeWarning: invalid value encountered in divide\n",
      "  ret = um.true_divide(\n"
     ]
    },
    {
     "name": "stdout",
     "output_type": "stream",
     "text": [
      "\n",
      "\n"
     ]
    },
    {
     "name": "stderr",
     "output_type": "stream",
     "text": [
      "/usr/local/src/.venv/lib/python3.12/site-packages/skimage/transform/_geometric.py:137: RuntimeWarning: Mean of empty slice.\n",
      "  dst_mean = dst.mean(axis=0)\n",
      "/usr/local/src/.venv/lib/python3.12/site-packages/skimage/transform/_geometric.py:137: RuntimeWarning: Mean of empty slice.\n",
      "  dst_mean = dst.mean(axis=0)\n",
      "/usr/local/src/valis/valtils.py:25: UserWarning: /usr/local/src/valis/valtils.py:25: UserWarning: /usr/local/src/.venv/lib/python3.12/site-packages/numpy/core/_methods.py:121: RuntimeWarning: invalid value encountered in divide\n",
      "  ret = um.true_divide(\n",
      "/usr/local/src/.venv/lib/python3.12/site-packages/numpy/core/_methods.py:121: RuntimeWarning: invalid value encountered in divide\n",
      "  ret = um.true_divide(\n",
      "/usr/local/src/valis/valtils.py:25: UserWarning: Need at least 4 keypoints for RANSAC filtering, but only have 3/usr/local/src/.venv/lib/python3.12/site-packages/skimage/transform/_geometric.py:136: RuntimeWarning: Mean of empty slice.\n",
      "  src_mean = src.mean(axis=0)\n",
      "Need at least 4 keypoints for RANSAC filtering, but only have 2/usr/local/src/.venv/lib/python3.12/site-packages/skimage/transform/_geometric.py:144: RuntimeWarning: invalid value encountered in divide\n",
      "  A = dst_demean.T @ src_demean / num\n",
      "/usr/local/src/.venv/lib/python3.12/site-packages/skimage/transform/_geometric.py:144: RuntimeWarning: invalid value encountered in divide\n",
      "  A = dst_demean.T @ src_demean / num\n",
      "Need at least 4 keypoints for RANSAC filtering, but only have 3/usr/local/src/.venv/lib/python3.12/site-packages/skimage/transform/_geometric.py:136: RuntimeWarning: Mean of empty slice.\n",
      "  src_mean = src.mean(axis=0)\n",
      "\n",
      "  warnings.warn(warning_msg, warning_type)\n",
      "/usr/local/src/.venv/lib/python3.12/site-packages/numpy/core/_methods.py:121: RuntimeWarning: invalid value encountered in divide\n",
      "  ret = um.true_divide(\n",
      "/usr/local/src/.venv/lib/python3.12/site-packages/numpy/core/_methods.py:121: RuntimeWarning: invalid value encountered in divide\n",
      "  ret = um.true_divide(\n",
      "\n",
      "  warnings.warn(warning_msg, warning_type)\n",
      "/usr/local/src/.venv/lib/python3.12/site-packages/numpy/linalg/linalg.py:2180: RuntimeWarning: invalid value encountered in det\n",
      "  r = _umath_linalg.det(a, signature=signature)\n",
      "\n",
      "  warnings.warn(warning_msg, warning_type)\n",
      "/usr/local/src/.venv/lib/python3.12/site-packages/numpy/linalg/linalg.py:2180: RuntimeWarning: invalid value encountered in det\n",
      "  r = _umath_linalg.det(a, signature=signature)\n",
      "/usr/local/src/.venv/lib/python3.12/site-packages/skimage/transform/_geometric.py:137: RuntimeWarning: Mean of empty slice.\n",
      "  dst_mean = dst.mean(axis=0)\n",
      "/usr/local/src/valis/valtils.py:25: UserWarning: "
     ]
    },
    {
     "name": "stdout",
     "output_type": "stream",
     "text": [
      "NoneType: None\n"
     ]
    },
    {
     "name": "stderr",
     "output_type": "stream",
     "text": [
      "/usr/local/src/.venv/lib/python3.12/site-packages/skimage/transform/_geometric.py:137: RuntimeWarning: Mean of empty slice.\n",
      "  dst_mean = dst.mean(axis=0)\n",
      "/usr/local/src/.venv/lib/python3.12/site-packages/numpy/core/_methods.py:121: RuntimeWarning: invalid value encountered in divide\n",
      "  ret = um.true_divide(\n"
     ]
    },
    {
     "name": "stdout",
     "output_type": "stream",
     "text": [
      "NoneType: None\n",
      "NoneType: None\n",
      "\n"
     ]
    },
    {
     "name": "stderr",
     "output_type": "stream",
     "text": [
      "Need at least 4 keypoints for RANSAC filtering, but only have 3"
     ]
    },
    {
     "name": "stdout",
     "output_type": "stream",
     "text": [
      "\n",
      "\n"
     ]
    },
    {
     "name": "stderr",
     "output_type": "stream",
     "text": [
      "/usr/local/src/.venv/lib/python3.12/site-packages/numpy/core/_methods.py:121: RuntimeWarning: invalid value encountered in divide\n",
      "  ret = um.true_divide(\n",
      "/usr/local/src/.venv/lib/python3.12/site-packages/skimage/transform/_geometric.py:144: RuntimeWarning: invalid value encountered in divide\n",
      "  A = dst_demean.T @ src_demean / num\n",
      "\n",
      "  warnings.warn(warning_msg, warning_type)\n",
      "/usr/local/src/.venv/lib/python3.12/site-packages/numpy/linalg/linalg.py:2180: RuntimeWarning: invalid value encountered in det\n",
      "  r = _umath_linalg.det(a, signature=signature)\n",
      "/usr/local/src/.venv/lib/python3.12/site-packages/skimage/transform/_geometric.py:144: RuntimeWarning: invalid value encountered in divide\n",
      "  A = dst_demean.T @ src_demean / num\n"
     ]
    },
    {
     "name": "stdout",
     "output_type": "stream",
     "text": [
      "NoneType: None\n"
     ]
    },
    {
     "name": "stderr",
     "output_type": "stream",
     "text": [
      "/usr/local/src/.venv/lib/python3.12/site-packages/numpy/linalg/linalg.py:2180: RuntimeWarning: invalid value encountered in det\n",
      "  r = _umath_linalg.det(a, signature=signature)\n",
      "/usr/local/src/valis/valtils.py:25: UserWarning: "
     ]
    },
    {
     "name": "stdout",
     "output_type": "stream",
     "text": [
      "\n"
     ]
    },
    {
     "name": "stderr",
     "output_type": "stream",
     "text": [
      "Need at least 4 keypoints for RANSAC filtering, but only have 2\n",
      "  warnings.warn(warning_msg, warning_type)\n",
      "/usr/local/src/.venv/lib/python3.12/site-packages/skimage/transform/_geometric.py:136: RuntimeWarning: Mean of empty slice.\n",
      "  src_mean = src.mean(axis=0)\n"
     ]
    },
    {
     "name": "stdout",
     "output_type": "stream",
     "text": [
      "NoneType: None\n"
     ]
    },
    {
     "name": "stderr",
     "output_type": "stream",
     "text": [
      "/usr/local/src/.venv/lib/python3.12/site-packages/numpy/core/_methods.py:121: RuntimeWarning: invalid value encountered in divide\n",
      "  ret = um.true_divide(\n"
     ]
    },
    {
     "name": "stdout",
     "output_type": "stream",
     "text": [
      "\n"
     ]
    },
    {
     "name": "stderr",
     "output_type": "stream",
     "text": [
      "/usr/local/src/.venv/lib/python3.12/site-packages/skimage/transform/_geometric.py:137: RuntimeWarning: Mean of empty slice.\n",
      "  dst_mean = dst.mean(axis=0)\n",
      "/usr/local/src/.venv/lib/python3.12/site-packages/numpy/core/_methods.py:121: RuntimeWarning: invalid value encountered in divide\n",
      "  ret = um.true_divide(\n",
      "/usr/local/src/.venv/lib/python3.12/site-packages/skimage/transform/_geometric.py:144: RuntimeWarning: invalid value encountered in divide\n",
      "  A = dst_demean.T @ src_demean / num\n",
      "/usr/local/src/valis/serial_rigid.py:615: UserWarning: 0 between B_213-ST_BFIW-SE_1405_processed and B_213-ST_BFIW-SE_2499_processed\n",
      "  warnings.warn(f\"{len(filtered_match_info12.matched_kp1_xy)} between {img_obj_1.name} and {img_obj_2.name}\")\n",
      "/usr/local/src/.venv/lib/python3.12/site-packages/numpy/linalg/linalg.py:2180: RuntimeWarning: invalid value encountered in det\n",
      "  r = _umath_linalg.det(a, signature=signature)\n",
      "/usr/local/src/.venv/lib/python3.12/site-packages/skimage/transform/_geometric.py:136: RuntimeWarning: Mean of empty slice.\n",
      "  src_mean = src.mean(axis=0)\n",
      "/usr/local/src/.venv/lib/python3.12/site-packages/numpy/core/_methods.py:121: RuntimeWarning: invalid value encountered in divide\n",
      "  ret = um.true_divide(\n",
      "/usr/local/src/.venv/lib/python3.12/site-packages/skimage/transform/_geometric.py:137: RuntimeWarning: Mean of empty slice.\n",
      "  dst_mean = dst.mean(axis=0)\n",
      "/usr/local/src/.venv/lib/python3.12/site-packages/numpy/core/_methods.py:121: RuntimeWarning: invalid value encountered in divide\n",
      "  ret = um.true_divide(\n",
      "/usr/local/src/.venv/lib/python3.12/site-packages/skimage/transform/_geometric.py:144: RuntimeWarning: invalid value encountered in divide\n",
      "  A = dst_demean.T @ src_demean / num\n",
      "/usr/local/src/.venv/lib/python3.12/site-packages/skimage/transform/_geometric.py:136: RuntimeWarning: Mean of empty slice.\n",
      "  src_mean = src.mean(axis=0)\n",
      "/usr/local/src/.venv/lib/python3.12/site-packages/numpy/linalg/linalg.py:2180: RuntimeWarning: invalid value encountered in det\n",
      "  r = _umath_linalg.det(a, signature=signature)\n",
      "/usr/local/src/.venv/lib/python3.12/site-packages/numpy/core/_methods.py:121: RuntimeWarning: invalid value encountered in divide\n",
      "  ret = um.true_divide(\n",
      "/usr/local/src/.venv/lib/python3.12/site-packages/skimage/transform/_geometric.py:137: RuntimeWarning: Mean of empty slice.\n",
      "  dst_mean = dst.mean(axis=0)\n",
      "/usr/local/src/valis/valtils.py:25: UserWarning: /usr/local/src/.venv/lib/python3.12/site-packages/skimage/transform/_geometric.py:136: RuntimeWarning: Mean of empty slice.\n",
      "  src_mean = src.mean(axis=0)\n",
      "/usr/local/src/.venv/lib/python3.12/site-packages/numpy/core/_methods.py:121: RuntimeWarning: invalid value encountered in divide\n",
      "  ret = um.true_divide(\n",
      "/usr/local/src/.venv/lib/python3.12/site-packages/numpy/core/_methods.py:121: RuntimeWarning: invalid value encountered in divide\n",
      "  ret = um.true_divide(\n",
      "Need at least 4 keypoints for RANSAC filtering, but only have 1/usr/local/src/.venv/lib/python3.12/site-packages/skimage/transform/_geometric.py:144: RuntimeWarning: invalid value encountered in divide\n",
      "  A = dst_demean.T @ src_demean / num\n",
      "/usr/local/src/.venv/lib/python3.12/site-packages/skimage/transform/_geometric.py:136: RuntimeWarning: Mean of empty slice.\n",
      "  src_mean = src.mean(axis=0)\n",
      "/usr/local/src/.venv/lib/python3.12/site-packages/numpy/core/_methods.py:121: RuntimeWarning: invalid value encountered in divide\n",
      "  ret = um.true_divide(\n",
      "\n",
      "  warnings.warn(warning_msg, warning_type)\n",
      "/usr/local/src/.venv/lib/python3.12/site-packages/numpy/linalg/linalg.py:2180: RuntimeWarning: invalid value encountered in det\n",
      "  r = _umath_linalg.det(a, signature=signature)\n",
      "/usr/local/src/.venv/lib/python3.12/site-packages/skimage/transform/_geometric.py:137: RuntimeWarning: Mean of empty slice.\n",
      "  dst_mean = dst.mean(axis=0)\n",
      "/usr/local/src/.venv/lib/python3.12/site-packages/skimage/transform/_geometric.py:137: RuntimeWarning: Mean of empty slice.\n",
      "  dst_mean = dst.mean(axis=0)\n",
      "/usr/local/src/.venv/lib/python3.12/site-packages/numpy/core/_methods.py:121: RuntimeWarning: invalid value encountered in divide\n",
      "  ret = um.true_divide(\n",
      "/usr/local/src/.venv/lib/python3.12/site-packages/numpy/core/_methods.py:121: RuntimeWarning: invalid value encountered in divide\n",
      "  ret = um.true_divide(\n",
      "/usr/local/src/.venv/lib/python3.12/site-packages/skimage/transform/_geometric.py:144: RuntimeWarning: invalid value encountered in divide\n",
      "  A = dst_demean.T @ src_demean / num\n",
      "/usr/local/src/.venv/lib/python3.12/site-packages/skimage/transform/_geometric.py:144: RuntimeWarning: invalid value encountered in divide\n",
      "  A = dst_demean.T @ src_demean / num\n"
     ]
    },
    {
     "name": "stdout",
     "output_type": "stream",
     "text": [
      "NoneType: None\n"
     ]
    },
    {
     "name": "stderr",
     "output_type": "stream",
     "text": [
      "/usr/local/src/.venv/lib/python3.12/site-packages/numpy/linalg/linalg.py:2180: RuntimeWarning: invalid value encountered in det\n",
      "  r = _umath_linalg.det(a, signature=signature)\n",
      "/usr/local/src/.venv/lib/python3.12/site-packages/numpy/linalg/linalg.py:2180: RuntimeWarning: invalid value encountered in det\n",
      "  r = _umath_linalg.det(a, signature=signature)\n"
     ]
    },
    {
     "name": "stdout",
     "output_type": "stream",
     "text": [
      "\n"
     ]
    },
    {
     "name": "stderr",
     "output_type": "stream",
     "text": [
      "/usr/local/src/valis/valtils.py:25: UserWarning: Need at least 4 keypoints for RANSAC filtering, but only have 3\n",
      "  warnings.warn(warning_msg, warning_type)\n",
      "/usr/local/src/valis/valtils.py:25: UserWarning: "
     ]
    },
    {
     "name": "stdout",
     "output_type": "stream",
     "text": [
      "NoneType: None\n"
     ]
    },
    {
     "name": "stderr",
     "output_type": "stream",
     "text": [
      "Need at least 4 keypoints for RANSAC filtering, but only have 3/usr/local/src/valis/valtils.py:25: UserWarning: /usr/local/src/valis/valtils.py:25: UserWarning: \n",
      "  warnings.warn(warning_msg, warning_type)\n"
     ]
    },
    {
     "name": "stdout",
     "output_type": "stream",
     "text": [
      "\n"
     ]
    },
    {
     "name": "stderr",
     "output_type": "stream",
     "text": [
      "Need at least 4 keypoints for RANSAC filtering, but only have 3Need at least 4 keypoints for RANSAC filtering, but only have 2"
     ]
    },
    {
     "name": "stdout",
     "output_type": "stream",
     "text": [
      "NoneType: None\n"
     ]
    },
    {
     "name": "stderr",
     "output_type": "stream",
     "text": [
      "\n",
      "  warnings.warn(warning_msg, warning_type)\n",
      "\n",
      "  warnings.warn(warning_msg, warning_type)\n"
     ]
    },
    {
     "name": "stdout",
     "output_type": "stream",
     "text": [
      "\n",
      "NoneType: None\n",
      "NoneType: None\n",
      "\n",
      "\n"
     ]
    },
    {
     "name": "stderr",
     "output_type": "stream",
     "text": [
      "/usr/local/src/valis/valtils.py:25: UserWarning: Need at least 4 keypoints for RANSAC filtering, but only have 3\n",
      "  warnings.warn(warning_msg, warning_type)\n"
     ]
    },
    {
     "name": "stdout",
     "output_type": "stream",
     "text": [
      "NoneType: None\n",
      "\n"
     ]
    },
    {
     "name": "stderr",
     "output_type": "stream",
     "text": [
      "/usr/local/src/valis/valtils.py:25: UserWarning: Need at least 4 keypoints for RANSAC filtering, but only have 3\n",
      "  warnings.warn(warning_msg, warning_type)\n"
     ]
    },
    {
     "name": "stdout",
     "output_type": "stream",
     "text": [
      "NoneType: None\n",
      "\n"
     ]
    },
    {
     "name": "stderr",
     "output_type": "stream",
     "text": [
      "/usr/local/src/valis/valtils.py:25: UserWarning: Need at least 4 keypoints for RANSAC filtering, but only have 3\n",
      "  warnings.warn(warning_msg, warning_type)\n"
     ]
    },
    {
     "name": "stdout",
     "output_type": "stream",
     "text": [
      "NoneType: None\n",
      "\n"
     ]
    },
    {
     "name": "stderr",
     "output_type": "stream",
     "text": [
      "/usr/local/src/.venv/lib/python3.12/site-packages/skimage/transform/_geometric.py:136: RuntimeWarning: Mean of empty slice.\n",
      "  src_mean = src.mean(axis=0)\n",
      "/usr/local/src/.venv/lib/python3.12/site-packages/numpy/core/_methods.py:121: RuntimeWarning: invalid value encountered in divide\n",
      "  ret = um.true_divide(\n",
      "/usr/local/src/.venv/lib/python3.12/site-packages/skimage/transform/_geometric.py:136: RuntimeWarning: Mean of empty slice.\n",
      "  src_mean = src.mean(axis=0)\n",
      "/usr/local/src/.venv/lib/python3.12/site-packages/numpy/core/_methods.py:121: RuntimeWarning: invalid value encountered in divide\n",
      "  ret = um.true_divide(\n",
      "/usr/local/src/.venv/lib/python3.12/site-packages/skimage/transform/_geometric.py:137: RuntimeWarning: Mean of empty slice.\n",
      "  dst_mean = dst.mean(axis=0)\n",
      "/usr/local/src/.venv/lib/python3.12/site-packages/skimage/transform/_geometric.py:137: RuntimeWarning: Mean of empty slice.\n",
      "  dst_mean = dst.mean(axis=0)\n",
      "/usr/local/src/.venv/lib/python3.12/site-packages/numpy/core/_methods.py:121: RuntimeWarning: invalid value encountered in divide\n",
      "  ret = um.true_divide(\n",
      "/usr/local/src/.venv/lib/python3.12/site-packages/skimage/transform/_geometric.py:144: RuntimeWarning: invalid value encountered in divide\n",
      "  A = dst_demean.T @ src_demean / num\n",
      "/usr/local/src/.venv/lib/python3.12/site-packages/numpy/linalg/linalg.py:2180: RuntimeWarning: invalid value encountered in det\n",
      "  r = _umath_linalg.det(a, signature=signature)\n",
      "/usr/local/src/.venv/lib/python3.12/site-packages/numpy/core/_methods.py:121: RuntimeWarning: invalid value encountered in divide\n",
      "  ret = um.true_divide(\n",
      "/usr/local/src/.venv/lib/python3.12/site-packages/skimage/transform/_geometric.py:144: RuntimeWarning: invalid value encountered in divide\n",
      "  A = dst_demean.T @ src_demean / num\n",
      "/usr/local/src/.venv/lib/python3.12/site-packages/numpy/linalg/linalg.py:2180: RuntimeWarning: invalid value encountered in det\n",
      "  r = _umath_linalg.det(a, signature=signature)\n",
      "/usr/local/src/valis/valtils.py:25: UserWarning: Need at least 4 keypoints for RANSAC filtering, but only have 2/usr/local/src/valis/valtils.py:25: UserWarning: \n",
      "  warnings.warn(warning_msg, warning_type)\n",
      "Need at least 4 keypoints for RANSAC filtering, but only have 3/usr/local/src/.venv/lib/python3.12/site-packages/skimage/transform/_geometric.py:136: RuntimeWarning: Mean of empty slice.\n",
      "  src_mean = src.mean(axis=0)\n",
      "/usr/local/src/valis/valtils.py:25: UserWarning: "
     ]
    },
    {
     "name": "stdout",
     "output_type": "stream",
     "text": [
      "NoneType: None\n"
     ]
    },
    {
     "name": "stderr",
     "output_type": "stream",
     "text": [
      "\n",
      "  warnings.warn(warning_msg, warning_type)\n",
      "/usr/local/src/.venv/lib/python3.12/site-packages/numpy/core/_methods.py:121: RuntimeWarning: invalid value encountered in divide\n",
      "  ret = um.true_divide(\n",
      "Need at least 4 keypoints for RANSAC filtering, but only have 2"
     ]
    },
    {
     "name": "stdout",
     "output_type": "stream",
     "text": [
      "\n",
      "NoneType: None\n"
     ]
    },
    {
     "name": "stderr",
     "output_type": "stream",
     "text": [
      "\n",
      "  warnings.warn(warning_msg, warning_type)\n",
      "/usr/local/src/.venv/lib/python3.12/site-packages/skimage/transform/_geometric.py:137: RuntimeWarning: Mean of empty slice.\n",
      "  dst_mean = dst.mean(axis=0)\n",
      "/usr/local/src/.venv/lib/python3.12/site-packages/numpy/core/_methods.py:121: RuntimeWarning: invalid value encountered in divide\n",
      "  ret = um.true_divide(\n"
     ]
    },
    {
     "name": "stdout",
     "output_type": "stream",
     "text": [
      "NoneType: None\n",
      "\n"
     ]
    },
    {
     "name": "stderr",
     "output_type": "stream",
     "text": [
      "/usr/local/src/valis/valtils.py:25: UserWarning: /usr/local/src/.venv/lib/python3.12/site-packages/skimage/transform/_geometric.py:144: RuntimeWarning: invalid value encountered in divide\n",
      "  A = dst_demean.T @ src_demean / num\n",
      "/usr/local/src/valis/valtils.py:25: UserWarning: "
     ]
    },
    {
     "name": "stdout",
     "output_type": "stream",
     "text": [
      "\n"
     ]
    },
    {
     "name": "stderr",
     "output_type": "stream",
     "text": [
      "Need at least 4 keypoints for RANSAC filtering, but only have 3/usr/local/src/.venv/lib/python3.12/site-packages/numpy/linalg/linalg.py:2180: RuntimeWarning: invalid value encountered in det\n",
      "  r = _umath_linalg.det(a, signature=signature)\n",
      "Need at least 4 keypoints for RANSAC filtering, but only have 3\n",
      "  warnings.warn(warning_msg, warning_type)\n",
      "\n",
      "  warnings.warn(warning_msg, warning_type)\n"
     ]
    },
    {
     "name": "stdout",
     "output_type": "stream",
     "text": [
      "NoneType: None\n",
      "NoneType: None\n"
     ]
    },
    {
     "name": "stderr",
     "output_type": "stream",
     "text": [
      "/usr/local/src/valis/valtils.py:25: UserWarning: "
     ]
    },
    {
     "name": "stdout",
     "output_type": "stream",
     "text": [
      "\n",
      "\n"
     ]
    },
    {
     "name": "stderr",
     "output_type": "stream",
     "text": [
      "Need at least 4 keypoints for RANSAC filtering, but only have 3\n",
      "  warnings.warn(warning_msg, warning_type)\n"
     ]
    },
    {
     "name": "stdout",
     "output_type": "stream",
     "text": [
      "NoneType: None\n",
      "\n"
     ]
    },
    {
     "name": "stderr",
     "output_type": "stream",
     "text": [
      "/usr/local/src/valis/valtils.py:25: UserWarning: Need at least 4 keypoints for RANSAC filtering, but only have 3\n",
      "  warnings.warn(warning_msg, warning_type)\n",
      "/usr/local/src/valis/valtils.py:25: UserWarning: "
     ]
    },
    {
     "name": "stdout",
     "output_type": "stream",
     "text": [
      "NoneType: None\n"
     ]
    },
    {
     "name": "stderr",
     "output_type": "stream",
     "text": [
      "Need at least 4 keypoints for RANSAC filtering, but only have 3"
     ]
    },
    {
     "name": "stdout",
     "output_type": "stream",
     "text": [
      "\n"
     ]
    },
    {
     "name": "stderr",
     "output_type": "stream",
     "text": [
      "/usr/local/src/.venv/lib/python3.12/site-packages/skimage/transform/_geometric.py:136: RuntimeWarning: Mean of empty slice.\n",
      "  src_mean = src.mean(axis=0)\n",
      "\n",
      "  warnings.warn(warning_msg, warning_type)\n",
      "/usr/local/src/.venv/lib/python3.12/site-packages/numpy/core/_methods.py:121: RuntimeWarning: invalid value encountered in divide\n",
      "  ret = um.true_divide(\n"
     ]
    },
    {
     "name": "stdout",
     "output_type": "stream",
     "text": [
      "NoneType: None\n"
     ]
    },
    {
     "name": "stderr",
     "output_type": "stream",
     "text": [
      "/usr/local/src/.venv/lib/python3.12/site-packages/skimage/transform/_geometric.py:137: RuntimeWarning: Mean of empty slice.\n",
      "  dst_mean = dst.mean(axis=0)\n",
      "/usr/local/src/.venv/lib/python3.12/site-packages/numpy/core/_methods.py:121: RuntimeWarning: invalid value encountered in divide\n",
      "  ret = um.true_divide(\n",
      "/usr/local/src/.venv/lib/python3.12/site-packages/skimage/transform/_geometric.py:136: RuntimeWarning: Mean of empty slice.\n",
      "  src_mean = src.mean(axis=0)\n"
     ]
    },
    {
     "name": "stdout",
     "output_type": "stream",
     "text": [
      "\n"
     ]
    },
    {
     "name": "stderr",
     "output_type": "stream",
     "text": [
      "/usr/local/src/.venv/lib/python3.12/site-packages/numpy/core/_methods.py:121: RuntimeWarning: invalid value encountered in divide\n",
      "  ret = um.true_divide(\n",
      "/usr/local/src/.venv/lib/python3.12/site-packages/skimage/transform/_geometric.py:144: RuntimeWarning: invalid value encountered in divide\n",
      "  A = dst_demean.T @ src_demean / num\n",
      "/usr/local/src/.venv/lib/python3.12/site-packages/skimage/transform/_geometric.py:136: RuntimeWarning: Mean of empty slice.\n",
      "  src_mean = src.mean(axis=0)\n",
      "/usr/local/src/.venv/lib/python3.12/site-packages/numpy/core/_methods.py:121: RuntimeWarning: invalid value encountered in divide\n",
      "  ret = um.true_divide(\n",
      "/usr/local/src/.venv/lib/python3.12/site-packages/skimage/transform/_geometric.py:136: RuntimeWarning: Mean of empty slice.\n",
      "  src_mean = src.mean(axis=0)\n",
      "/usr/local/src/.venv/lib/python3.12/site-packages/skimage/transform/_geometric.py:137: RuntimeWarning: Mean of empty slice.\n",
      "  dst_mean = dst.mean(axis=0)\n",
      "/usr/local/src/.venv/lib/python3.12/site-packages/skimage/transform/_geometric.py:137: RuntimeWarning: Mean of empty slice.\n",
      "  dst_mean = dst.mean(axis=0)\n",
      "/usr/local/src/.venv/lib/python3.12/site-packages/numpy/linalg/linalg.py:2180: RuntimeWarning: invalid value encountered in det\n",
      "  r = _umath_linalg.det(a, signature=signature)\n",
      "/usr/local/src/.venv/lib/python3.12/site-packages/numpy/core/_methods.py:121: RuntimeWarning: invalid value encountered in divide\n",
      "  ret = um.true_divide(\n",
      "/usr/local/src/.venv/lib/python3.12/site-packages/numpy/core/_methods.py:121: RuntimeWarning: invalid value encountered in divide\n",
      "  ret = um.true_divide(\n",
      "/usr/local/src/.venv/lib/python3.12/site-packages/skimage/transform/_geometric.py:144: RuntimeWarning: invalid value encountered in divide\n",
      "  A = dst_demean.T @ src_demean / num\n",
      "/usr/local/src/.venv/lib/python3.12/site-packages/skimage/transform/_geometric.py:137: RuntimeWarning: Mean of empty slice.\n",
      "  dst_mean = dst.mean(axis=0)\n",
      "/usr/local/src/.venv/lib/python3.12/site-packages/numpy/core/_methods.py:121: RuntimeWarning: invalid value encountered in divide\n",
      "  ret = um.true_divide(\n",
      "/usr/local/src/.venv/lib/python3.12/site-packages/numpy/linalg/linalg.py:2180: RuntimeWarning: invalid value encountered in det\n",
      "  r = _umath_linalg.det(a, signature=signature)\n",
      "/usr/local/src/.venv/lib/python3.12/site-packages/numpy/core/_methods.py:121: RuntimeWarning: invalid value encountered in divide\n",
      "  ret = um.true_divide(\n",
      "/usr/local/src/.venv/lib/python3.12/site-packages/skimage/transform/_geometric.py:144: RuntimeWarning: invalid value encountered in divide\n",
      "  A = dst_demean.T @ src_demean / num\n",
      "/usr/local/src/.venv/lib/python3.12/site-packages/skimage/transform/_geometric.py:144: RuntimeWarning: invalid value encountered in divide\n",
      "  A = dst_demean.T @ src_demean / num\n",
      "/usr/local/src/.venv/lib/python3.12/site-packages/numpy/linalg/linalg.py:2180: RuntimeWarning: invalid value encountered in det\n",
      "  r = _umath_linalg.det(a, signature=signature)\n",
      "/usr/local/src/.venv/lib/python3.12/site-packages/numpy/linalg/linalg.py:2180: RuntimeWarning: invalid value encountered in det\n",
      "  r = _umath_linalg.det(a, signature=signature)\n",
      "/usr/local/src/valis/valtils.py:25: UserWarning: Need at least 4 keypoints for RANSAC filtering, but only have 1\n",
      "  warnings.warn(warning_msg, warning_type)\n"
     ]
    },
    {
     "name": "stdout",
     "output_type": "stream",
     "text": [
      "NoneType: None\n",
      "\n"
     ]
    },
    {
     "name": "stderr",
     "output_type": "stream",
     "text": [
      "/usr/local/src/.venv/lib/python3.12/site-packages/skimage/transform/_geometric.py:136: RuntimeWarning: Mean of empty slice.\n",
      "  src_mean = src.mean(axis=0)\n",
      "/usr/local/src/.venv/lib/python3.12/site-packages/numpy/core/_methods.py:121: RuntimeWarning: invalid value encountered in divide\n",
      "  ret = um.true_divide(\n",
      "/usr/local/src/.venv/lib/python3.12/site-packages/skimage/transform/_geometric.py:137: RuntimeWarning: Mean of empty slice.\n",
      "  dst_mean = dst.mean(axis=0)\n",
      "/usr/local/src/.venv/lib/python3.12/site-packages/numpy/core/_methods.py:121: RuntimeWarning: invalid value encountered in divide\n",
      "  ret = um.true_divide(\n",
      "/usr/local/src/.venv/lib/python3.12/site-packages/skimage/transform/_geometric.py:144: RuntimeWarning: invalid value encountered in divide\n",
      "  A = dst_demean.T @ src_demean / num\n",
      "/usr/local/src/.venv/lib/python3.12/site-packages/numpy/linalg/linalg.py:2180: RuntimeWarning: invalid value encountered in det\n",
      "  r = _umath_linalg.det(a, signature=signature)\n",
      "/usr/local/src/valis/valtils.py:25: UserWarning: Need at least 4 keypoints for RANSAC filtering, but only have 3/usr/local/src/valis/valtils.py:25: UserWarning: /usr/local/src/valis/valtils.py:25: UserWarning: Need at least 4 keypoints for RANSAC filtering, but only have 3\n",
      "  warnings.warn(warning_msg, warning_type)\n",
      "\n",
      "  warnings.warn(warning_msg, warning_type)\n",
      "Need at least 4 keypoints for RANSAC filtering, but only have 3"
     ]
    },
    {
     "name": "stdout",
     "output_type": "stream",
     "text": [
      "NoneType: None\n"
     ]
    },
    {
     "name": "stderr",
     "output_type": "stream",
     "text": [
      "\n",
      "  warnings.warn(warning_msg, warning_type)\n"
     ]
    },
    {
     "name": "stdout",
     "output_type": "stream",
     "text": [
      "NoneType: None\n",
      "\n",
      "NoneType: None\n",
      "\n",
      "\n"
     ]
    },
    {
     "name": "stderr",
     "output_type": "stream",
     "text": [
      "/usr/local/src/.venv/lib/python3.12/site-packages/skimage/transform/_geometric.py:136: RuntimeWarning: Mean of empty slice.\n",
      "  src_mean = src.mean(axis=0)\n",
      "/usr/local/src/.venv/lib/python3.12/site-packages/numpy/core/_methods.py:121: RuntimeWarning: invalid value encountered in divide\n",
      "  ret = um.true_divide(\n",
      "/usr/local/src/valis/valtils.py:25: UserWarning: /usr/local/src/.venv/lib/python3.12/site-packages/skimage/transform/_geometric.py:137: RuntimeWarning: Mean of empty slice.\n",
      "  dst_mean = dst.mean(axis=0)\n",
      "Need at least 4 keypoints for RANSAC filtering, but only have 3/usr/local/src/.venv/lib/python3.12/site-packages/numpy/core/_methods.py:121: RuntimeWarning: invalid value encountered in divide\n",
      "  ret = um.true_divide(\n",
      "\n",
      "  warnings.warn(warning_msg, warning_type)\n"
     ]
    },
    {
     "name": "stdout",
     "output_type": "stream",
     "text": [
      "NoneType: None\n"
     ]
    },
    {
     "name": "stderr",
     "output_type": "stream",
     "text": [
      "/usr/local/src/.venv/lib/python3.12/site-packages/skimage/transform/_geometric.py:144: RuntimeWarning: invalid value encountered in divide\n",
      "  A = dst_demean.T @ src_demean / num\n"
     ]
    },
    {
     "name": "stdout",
     "output_type": "stream",
     "text": [
      "\n"
     ]
    },
    {
     "name": "stderr",
     "output_type": "stream",
     "text": [
      "/usr/local/src/.venv/lib/python3.12/site-packages/numpy/linalg/linalg.py:2180: RuntimeWarning: invalid value encountered in det\n",
      "  r = _umath_linalg.det(a, signature=signature)\n",
      "/usr/local/src/.venv/lib/python3.12/site-packages/skimage/transform/_geometric.py:136: RuntimeWarning: Mean of empty slice.\n",
      "  src_mean = src.mean(axis=0)\n",
      "/usr/local/src/.venv/lib/python3.12/site-packages/numpy/core/_methods.py:121: RuntimeWarning: invalid value encountered in divide\n",
      "  ret = um.true_divide(\n",
      "/usr/local/src/.venv/lib/python3.12/site-packages/skimage/transform/_geometric.py:137: RuntimeWarning: Mean of empty slice.\n",
      "  dst_mean = dst.mean(axis=0)\n",
      "/usr/local/src/.venv/lib/python3.12/site-packages/numpy/core/_methods.py:121: RuntimeWarning: invalid value encountered in divide\n",
      "  ret = um.true_divide(\n",
      "/usr/local/src/valis/valtils.py:25: UserWarning: /usr/local/src/.venv/lib/python3.12/site-packages/skimage/transform/_geometric.py:144: RuntimeWarning: invalid value encountered in divide\n",
      "  A = dst_demean.T @ src_demean / num\n",
      "Need at least 4 keypoints for RANSAC filtering, but only have 2/usr/local/src/.venv/lib/python3.12/site-packages/numpy/linalg/linalg.py:2180: RuntimeWarning: invalid value encountered in det\n",
      "  r = _umath_linalg.det(a, signature=signature)\n",
      "/usr/local/src/valis/valtils.py:25: UserWarning: \n",
      "  warnings.warn(warning_msg, warning_type)\n",
      "Need at least 4 keypoints for RANSAC filtering, but only have 3\n",
      "  warnings.warn(warning_msg, warning_type)\n"
     ]
    },
    {
     "name": "stdout",
     "output_type": "stream",
     "text": [
      "NoneType: None\n",
      "\n",
      "NoneType: None\n",
      "\n"
     ]
    },
    {
     "name": "stderr",
     "output_type": "stream",
     "text": [
      "/usr/local/src/valis/valtils.py:25: UserWarning: Need at least 4 keypoints for RANSAC filtering, but only have 2\n",
      "  warnings.warn(warning_msg, warning_type)\n"
     ]
    },
    {
     "name": "stdout",
     "output_type": "stream",
     "text": [
      "NoneType: None\n",
      "\n"
     ]
    },
    {
     "name": "stderr",
     "output_type": "stream",
     "text": [
      "/usr/local/src/valis/valtils.py:25: UserWarning: Need at least 4 keypoints for RANSAC filtering, but only have 3\n",
      "  warnings.warn(warning_msg, warning_type)\n"
     ]
    },
    {
     "name": "stdout",
     "output_type": "stream",
     "text": [
      "NoneType: None\n",
      "\n"
     ]
    },
    {
     "name": "stderr",
     "output_type": "stream",
     "text": [
      "/usr/local/src/valis/valtils.py:25: UserWarning: Need at least 4 keypoints for RANSAC filtering, but only have 3\n",
      "  warnings.warn(warning_msg, warning_type)\n"
     ]
    },
    {
     "name": "stdout",
     "output_type": "stream",
     "text": [
      "NoneType: None\n",
      "\n"
     ]
    },
    {
     "name": "stderr",
     "output_type": "stream",
     "text": [
      "/usr/local/src/valis/valtils.py:25: UserWarning: Need at least 4 keypoints for RANSAC filtering, but only have 3\n",
      "  warnings.warn(warning_msg, warning_type)\n"
     ]
    },
    {
     "name": "stdout",
     "output_type": "stream",
     "text": [
      "NoneType: None\n",
      "\n"
     ]
    },
    {
     "name": "stderr",
     "output_type": "stream",
     "text": [
      "/usr/local/src/valis/valtils.py:25: UserWarning: Need at least 4 keypoints for RANSAC filtering, but only have 3\n",
      "  warnings.warn(warning_msg, warning_type)\n"
     ]
    },
    {
     "name": "stdout",
     "output_type": "stream",
     "text": [
      "NoneType: None\n",
      "\n"
     ]
    },
    {
     "name": "stderr",
     "output_type": "stream",
     "text": [
      "/usr/local/src/valis/valtils.py:25: UserWarning: Need at least 4 keypoints for RANSAC filtering, but only have 3\n",
      "  warnings.warn(warning_msg, warning_type)\n"
     ]
    },
    {
     "name": "stdout",
     "output_type": "stream",
     "text": [
      "NoneType: None\n",
      "\n"
     ]
    },
    {
     "name": "stderr",
     "output_type": "stream",
     "text": [
      "/usr/local/src/valis/valtils.py:25: UserWarning: Need at least 4 keypoints for RANSAC filtering, but only have 3\n",
      "  warnings.warn(warning_msg, warning_type)\n"
     ]
    },
    {
     "name": "stdout",
     "output_type": "stream",
     "text": [
      "NoneType: None\n",
      "\n"
     ]
    },
    {
     "name": "stderr",
     "output_type": "stream",
     "text": [
      "/usr/local/src/valis/valtils.py:25: UserWarning: Need at least 4 keypoints for RANSAC filtering, but only have 3\n",
      "  warnings.warn(warning_msg, warning_type)\n"
     ]
    },
    {
     "name": "stdout",
     "output_type": "stream",
     "text": [
      "NoneType: None\n",
      "\n"
     ]
    },
    {
     "name": "stderr",
     "output_type": "stream",
     "text": [
      "/usr/local/src/.venv/lib/python3.12/site-packages/skimage/transform/_geometric.py:136: RuntimeWarning: Mean of empty slice.\n",
      "  src_mean = src.mean(axis=0)\n",
      "/usr/local/src/.venv/lib/python3.12/site-packages/numpy/core/_methods.py:121: RuntimeWarning: invalid value encountered in divide\n",
      "  ret = um.true_divide(\n",
      "/usr/local/src/.venv/lib/python3.12/site-packages/skimage/transform/_geometric.py:137: RuntimeWarning: Mean of empty slice.\n",
      "  dst_mean = dst.mean(axis=0)\n",
      "/usr/local/src/.venv/lib/python3.12/site-packages/numpy/core/_methods.py:121: RuntimeWarning: invalid value encountered in divide\n",
      "  ret = um.true_divide(\n",
      "/usr/local/src/.venv/lib/python3.12/site-packages/skimage/transform/_geometric.py:144: RuntimeWarning: invalid value encountered in divide\n",
      "  A = dst_demean.T @ src_demean / num\n",
      "/usr/local/src/.venv/lib/python3.12/site-packages/numpy/linalg/linalg.py:2180: RuntimeWarning: invalid value encountered in det\n",
      "  r = _umath_linalg.det(a, signature=signature)\n",
      "/usr/local/src/valis/valtils.py:25: UserWarning: Need at least 4 keypoints for RANSAC filtering, but only have 2\n",
      "  warnings.warn(warning_msg, warning_type)\n"
     ]
    },
    {
     "name": "stdout",
     "output_type": "stream",
     "text": [
      "NoneType: None\n",
      "\n"
     ]
    },
    {
     "name": "stderr",
     "output_type": "stream",
     "text": [
      "/usr/local/src/valis/valtils.py:25: UserWarning: Need at least 4 keypoints for RANSAC filtering, but only have 3\n",
      "  warnings.warn(warning_msg, warning_type)\n"
     ]
    },
    {
     "name": "stdout",
     "output_type": "stream",
     "text": [
      "NoneType: None\n",
      "\n"
     ]
    },
    {
     "name": "stderr",
     "output_type": "stream",
     "text": [
      "/usr/local/src/valis/valtils.py:25: UserWarning: Need at least 4 keypoints for RANSAC filtering, but only have 3\n",
      "  warnings.warn(warning_msg, warning_type)\n"
     ]
    },
    {
     "name": "stdout",
     "output_type": "stream",
     "text": [
      "NoneType: None\n",
      "\n"
     ]
    },
    {
     "name": "stderr",
     "output_type": "stream",
     "text": [
      "/usr/local/src/valis/valtils.py:25: UserWarning: Need at least 4 keypoints for RANSAC filtering, but only have 1\n",
      "  warnings.warn(warning_msg, warning_type)\n"
     ]
    },
    {
     "name": "stdout",
     "output_type": "stream",
     "text": [
      "NoneType: None\n",
      "\n"
     ]
    },
    {
     "name": "stderr",
     "output_type": "stream",
     "text": [
      "/usr/local/src/valis/valtils.py:25: UserWarning: Need at least 4 keypoints for RANSAC filtering, but only have 3\n",
      "  warnings.warn(warning_msg, warning_type)\n",
      "/usr/local/src/.venv/lib/python3.12/site-packages/skimage/transform/_geometric.py:136: RuntimeWarning: Mean of empty slice.\n",
      "  src_mean = src.mean(axis=0)\n"
     ]
    },
    {
     "name": "stdout",
     "output_type": "stream",
     "text": [
      "NoneType: None\n"
     ]
    },
    {
     "name": "stderr",
     "output_type": "stream",
     "text": [
      "/usr/local/src/.venv/lib/python3.12/site-packages/numpy/core/_methods.py:121: RuntimeWarning: invalid value encountered in divide\n",
      "  ret = um.true_divide(\n"
     ]
    },
    {
     "name": "stdout",
     "output_type": "stream",
     "text": [
      "\n"
     ]
    },
    {
     "name": "stderr",
     "output_type": "stream",
     "text": [
      "/usr/local/src/.venv/lib/python3.12/site-packages/skimage/transform/_geometric.py:137: RuntimeWarning: Mean of empty slice.\n",
      "  dst_mean = dst.mean(axis=0)\n",
      "/usr/local/src/.venv/lib/python3.12/site-packages/numpy/core/_methods.py:121: RuntimeWarning: invalid value encountered in divide\n",
      "  ret = um.true_divide(\n",
      "/usr/local/src/.venv/lib/python3.12/site-packages/skimage/transform/_geometric.py:144: RuntimeWarning: invalid value encountered in divide\n",
      "  A = dst_demean.T @ src_demean / num\n",
      "/usr/local/src/.venv/lib/python3.12/site-packages/numpy/linalg/linalg.py:2180: RuntimeWarning: invalid value encountered in det\n",
      "  r = _umath_linalg.det(a, signature=signature)\n",
      "/usr/local/src/valis/valtils.py:25: UserWarning: Need at least 4 keypoints for RANSAC filtering, but only have 1\n",
      "  warnings.warn(warning_msg, warning_type)\n"
     ]
    },
    {
     "name": "stdout",
     "output_type": "stream",
     "text": [
      "NoneType: None\n",
      "\n"
     ]
    },
    {
     "name": "stderr",
     "output_type": "stream",
     "text": [
      "/usr/local/src/valis/valtils.py:25: UserWarning: Need at least 4 keypoints for RANSAC filtering, but only have 3\n",
      "  warnings.warn(warning_msg, warning_type)\n",
      "/usr/local/src/.venv/lib/python3.12/site-packages/skimage/transform/_geometric.py:136: RuntimeWarning: Mean of empty slice.\n",
      "  src_mean = src.mean(axis=0)\n"
     ]
    },
    {
     "name": "stdout",
     "output_type": "stream",
     "text": [
      "NoneType: None\n"
     ]
    },
    {
     "name": "stderr",
     "output_type": "stream",
     "text": [
      "/usr/local/src/.venv/lib/python3.12/site-packages/numpy/core/_methods.py:121: RuntimeWarning: invalid value encountered in divide\n",
      "  ret = um.true_divide(\n"
     ]
    },
    {
     "name": "stdout",
     "output_type": "stream",
     "text": [
      "\n"
     ]
    },
    {
     "name": "stderr",
     "output_type": "stream",
     "text": [
      "/usr/local/src/.venv/lib/python3.12/site-packages/skimage/transform/_geometric.py:137: RuntimeWarning: Mean of empty slice.\n",
      "  dst_mean = dst.mean(axis=0)\n",
      "/usr/local/src/valis/valtils.py:25: UserWarning: Need at least 4 keypoints for RANSAC filtering, but only have 2/usr/local/src/.venv/lib/python3.12/site-packages/numpy/core/_methods.py:121: RuntimeWarning: invalid value encountered in divide\n",
      "  ret = um.true_divide(\n",
      "/usr/local/src/.venv/lib/python3.12/site-packages/skimage/transform/_geometric.py:144: RuntimeWarning: invalid value encountered in divide\n",
      "  A = dst_demean.T @ src_demean / num\n",
      "\n",
      "  warnings.warn(warning_msg, warning_type)\n",
      "/usr/local/src/.venv/lib/python3.12/site-packages/numpy/linalg/linalg.py:2180: RuntimeWarning: invalid value encountered in det\n",
      "  r = _umath_linalg.det(a, signature=signature)\n"
     ]
    },
    {
     "name": "stdout",
     "output_type": "stream",
     "text": [
      "NoneType: None\n",
      "\n"
     ]
    },
    {
     "name": "stderr",
     "output_type": "stream",
     "text": [
      "/usr/local/src/.venv/lib/python3.12/site-packages/skimage/transform/_geometric.py:136: RuntimeWarning: Mean of empty slice.\n",
      "  src_mean = src.mean(axis=0)\n",
      "/usr/local/src/valis/valtils.py:25: UserWarning: /usr/local/src/.venv/lib/python3.12/site-packages/numpy/core/_methods.py:121: RuntimeWarning: invalid value encountered in divide\n",
      "  ret = um.true_divide(\n",
      "Need at least 4 keypoints for RANSAC filtering, but only have 3/usr/local/src/.venv/lib/python3.12/site-packages/skimage/transform/_geometric.py:137: RuntimeWarning: Mean of empty slice.\n",
      "  dst_mean = dst.mean(axis=0)\n",
      "\n",
      "  warnings.warn(warning_msg, warning_type)\n",
      "/usr/local/src/.venv/lib/python3.12/site-packages/numpy/core/_methods.py:121: RuntimeWarning: invalid value encountered in divide\n",
      "  ret = um.true_divide(\n"
     ]
    },
    {
     "name": "stdout",
     "output_type": "stream",
     "text": [
      "NoneType: None\n"
     ]
    },
    {
     "name": "stderr",
     "output_type": "stream",
     "text": [
      "/usr/local/src/.venv/lib/python3.12/site-packages/skimage/transform/_geometric.py:144: RuntimeWarning: invalid value encountered in divide\n",
      "  A = dst_demean.T @ src_demean / num\n",
      "/usr/local/src/.venv/lib/python3.12/site-packages/numpy/linalg/linalg.py:2180: RuntimeWarning: invalid value encountered in det\n",
      "  r = _umath_linalg.det(a, signature=signature)\n",
      "/usr/local/src/valis/valtils.py:25: UserWarning: "
     ]
    },
    {
     "name": "stdout",
     "output_type": "stream",
     "text": [
      "\n"
     ]
    },
    {
     "name": "stderr",
     "output_type": "stream",
     "text": [
      "Need at least 4 keypoints for RANSAC filtering, but only have 2\n",
      "  warnings.warn(warning_msg, warning_type)\n"
     ]
    },
    {
     "name": "stdout",
     "output_type": "stream",
     "text": [
      "NoneType: None\n",
      "\n"
     ]
    },
    {
     "name": "stderr",
     "output_type": "stream",
     "text": [
      "/usr/local/src/valis/serial_rigid.py:615: UserWarning: 0 between B_213-ST_BFIW-SE_1440_processed and B_213-ST_BFIW-SE_2497_processed\n",
      "  warnings.warn(f\"{len(filtered_match_info12.matched_kp1_xy)} between {img_obj_1.name} and {img_obj_2.name}\")\n",
      "/usr/local/src/valis/valtils.py:25: UserWarning: /usr/local/src/valis/valtils.py:25: UserWarning: Need at least 4 keypoints for RANSAC filtering, but only have 3Need at least 4 keypoints for RANSAC filtering, but only have 2\n",
      "  warnings.warn(warning_msg, warning_type)\n"
     ]
    },
    {
     "name": "stdout",
     "output_type": "stream",
     "text": [
      "NoneType: None\n"
     ]
    },
    {
     "name": "stderr",
     "output_type": "stream",
     "text": [
      "\n",
      "  warnings.warn(warning_msg, warning_type)\n"
     ]
    },
    {
     "name": "stdout",
     "output_type": "stream",
     "text": [
      "\n",
      "NoneType: None\n",
      "\n"
     ]
    },
    {
     "name": "stderr",
     "output_type": "stream",
     "text": [
      "/usr/local/src/valis/valtils.py:25: UserWarning: Need at least 4 keypoints for RANSAC filtering, but only have 2\n",
      "  warnings.warn(warning_msg, warning_type)\n"
     ]
    },
    {
     "name": "stdout",
     "output_type": "stream",
     "text": [
      "NoneType: None\n",
      "\n"
     ]
    },
    {
     "name": "stderr",
     "output_type": "stream",
     "text": [
      "/usr/local/src/valis/valtils.py:25: UserWarning: Need at least 4 keypoints for RANSAC filtering, but only have 2\n",
      "  warnings.warn(warning_msg, warning_type)\n"
     ]
    },
    {
     "name": "stdout",
     "output_type": "stream",
     "text": [
      "NoneType: None\n",
      "\n"
     ]
    },
    {
     "name": "stderr",
     "output_type": "stream",
     "text": [
      "/usr/local/src/valis/valtils.py:25: UserWarning: Need at least 4 keypoints for RANSAC filtering, but only have 3\n",
      "  warnings.warn(warning_msg, warning_type)\n"
     ]
    },
    {
     "name": "stdout",
     "output_type": "stream",
     "text": [
      "NoneType: None\n",
      "\n"
     ]
    },
    {
     "name": "stderr",
     "output_type": "stream",
     "text": [
      "/usr/local/src/valis/valtils.py:25: UserWarning: /usr/local/src/valis/valtils.py:25: UserWarning: Need at least 4 keypoints for RANSAC filtering, but only have 3Need at least 4 keypoints for RANSAC filtering, but only have 2\n",
      "  warnings.warn(warning_msg, warning_type)\n"
     ]
    },
    {
     "name": "stdout",
     "output_type": "stream",
     "text": [
      "NoneType: None\n"
     ]
    },
    {
     "name": "stderr",
     "output_type": "stream",
     "text": [
      "\n",
      "  warnings.warn(warning_msg, warning_type)\n"
     ]
    },
    {
     "name": "stdout",
     "output_type": "stream",
     "text": [
      "NoneType: None\n",
      "\n"
     ]
    },
    {
     "name": "stderr",
     "output_type": "stream",
     "text": [
      "/usr/local/src/valis/valtils.py:25: UserWarning: "
     ]
    },
    {
     "name": "stdout",
     "output_type": "stream",
     "text": [
      "\n"
     ]
    },
    {
     "name": "stderr",
     "output_type": "stream",
     "text": [
      "Need at least 4 keypoints for RANSAC filtering, but only have 3\n",
      "  warnings.warn(warning_msg, warning_type)\n"
     ]
    },
    {
     "name": "stdout",
     "output_type": "stream",
     "text": [
      "NoneType: None\n",
      "\n"
     ]
    },
    {
     "name": "stderr",
     "output_type": "stream",
     "text": [
      "/usr/local/src/valis/valtils.py:25: UserWarning: /usr/local/src/valis/valtils.py:25: UserWarning: Need at least 4 keypoints for RANSAC filtering, but only have 3\n",
      "  warnings.warn(warning_msg, warning_type)\n",
      "Need at least 4 keypoints for RANSAC filtering, but only have 3\n",
      "  warnings.warn(warning_msg, warning_type)\n"
     ]
    },
    {
     "name": "stdout",
     "output_type": "stream",
     "text": [
      "NoneType: None\n"
     ]
    },
    {
     "name": "stderr",
     "output_type": "stream",
     "text": [
      "/usr/local/src/valis/valtils.py:25: UserWarning: "
     ]
    },
    {
     "name": "stdout",
     "output_type": "stream",
     "text": [
      "\n",
      "NoneType: None\n"
     ]
    },
    {
     "name": "stderr",
     "output_type": "stream",
     "text": [
      "Need at least 4 keypoints for RANSAC filtering, but only have 3"
     ]
    },
    {
     "name": "stdout",
     "output_type": "stream",
     "text": [
      "\n"
     ]
    },
    {
     "name": "stderr",
     "output_type": "stream",
     "text": [
      "\n",
      "  warnings.warn(warning_msg, warning_type)\n"
     ]
    },
    {
     "name": "stdout",
     "output_type": "stream",
     "text": [
      "NoneType: None\n",
      "\n"
     ]
    },
    {
     "name": "stderr",
     "output_type": "stream",
     "text": [
      "/usr/local/src/.venv/lib/python3.12/site-packages/skimage/transform/_geometric.py:136: RuntimeWarning: Mean of empty slice.\n",
      "  src_mean = src.mean(axis=0)\n",
      "/usr/local/src/.venv/lib/python3.12/site-packages/numpy/core/_methods.py:121: RuntimeWarning: invalid value encountered in divide\n",
      "  ret = um.true_divide(\n",
      "/usr/local/src/.venv/lib/python3.12/site-packages/skimage/transform/_geometric.py:137: RuntimeWarning: Mean of empty slice.\n",
      "  dst_mean = dst.mean(axis=0)\n",
      "/usr/local/src/.venv/lib/python3.12/site-packages/numpy/core/_methods.py:121: RuntimeWarning: invalid value encountered in divide\n",
      "  ret = um.true_divide(\n",
      "/usr/local/src/.venv/lib/python3.12/site-packages/skimage/transform/_geometric.py:144: RuntimeWarning: invalid value encountered in divide\n",
      "  A = dst_demean.T @ src_demean / num\n",
      "/usr/local/src/valis/valtils.py:25: UserWarning: /usr/local/src/.venv/lib/python3.12/site-packages/numpy/linalg/linalg.py:2180: RuntimeWarning: invalid value encountered in det\n",
      "  r = _umath_linalg.det(a, signature=signature)\n",
      "Need at least 4 keypoints for RANSAC filtering, but only have 2\n",
      "  warnings.warn(warning_msg, warning_type)\n"
     ]
    },
    {
     "name": "stdout",
     "output_type": "stream",
     "text": [
      "NoneType: None\n",
      "\n"
     ]
    },
    {
     "name": "stderr",
     "output_type": "stream",
     "text": [
      "/usr/local/src/valis/valtils.py:25: UserWarning: Need at least 4 keypoints for RANSAC filtering, but only have 2\n",
      "  warnings.warn(warning_msg, warning_type)\n"
     ]
    },
    {
     "name": "stdout",
     "output_type": "stream",
     "text": [
      "NoneType: None\n",
      "\n"
     ]
    },
    {
     "name": "stderr",
     "output_type": "stream",
     "text": [
      "/usr/local/src/valis/valtils.py:25: UserWarning: Need at least 4 keypoints for RANSAC filtering, but only have 3\n",
      "  warnings.warn(warning_msg, warning_type)\n"
     ]
    },
    {
     "name": "stdout",
     "output_type": "stream",
     "text": [
      "NoneType: None\n",
      "\n"
     ]
    },
    {
     "name": "stderr",
     "output_type": "stream",
     "text": [
      "/usr/local/src/valis/valtils.py:25: UserWarning: Need at least 4 keypoints for RANSAC filtering, but only have 2\n",
      "  warnings.warn(warning_msg, warning_type)\n"
     ]
    },
    {
     "name": "stdout",
     "output_type": "stream",
     "text": [
      "NoneType: None\n",
      "\n"
     ]
    },
    {
     "name": "stderr",
     "output_type": "stream",
     "text": [
      "/usr/local/src/valis/valtils.py:25: UserWarning: Need at least 4 keypoints for RANSAC filtering, but only have 3\n",
      "  warnings.warn(warning_msg, warning_type)\n"
     ]
    },
    {
     "name": "stdout",
     "output_type": "stream",
     "text": [
      "NoneType: None\n",
      "\n"
     ]
    },
    {
     "name": "stderr",
     "output_type": "stream",
     "text": [
      "/usr/local/src/.venv/lib/python3.12/site-packages/skimage/transform/_geometric.py:136: RuntimeWarning: Mean of empty slice.\n",
      "  src_mean = src.mean(axis=0)\n",
      "/usr/local/src/.venv/lib/python3.12/site-packages/numpy/core/_methods.py:121: RuntimeWarning: invalid value encountered in divide\n",
      "  ret = um.true_divide(\n",
      "/usr/local/src/.venv/lib/python3.12/site-packages/skimage/transform/_geometric.py:137: RuntimeWarning: Mean of empty slice.\n",
      "  dst_mean = dst.mean(axis=0)\n",
      "/usr/local/src/valis/valtils.py:25: UserWarning: /usr/local/src/.venv/lib/python3.12/site-packages/numpy/core/_methods.py:121: RuntimeWarning: invalid value encountered in divide\n",
      "  ret = um.true_divide(\n",
      "Need at least 4 keypoints for RANSAC filtering, but only have 3\n",
      "  warnings.warn(warning_msg, warning_type)\n",
      "/usr/local/src/.venv/lib/python3.12/site-packages/skimage/transform/_geometric.py:144: RuntimeWarning: invalid value encountered in divide\n",
      "  A = dst_demean.T @ src_demean / num\n",
      "/usr/local/src/.venv/lib/python3.12/site-packages/skimage/transform/_geometric.py:136: RuntimeWarning: Mean of empty slice.\n",
      "  src_mean = src.mean(axis=0)\n"
     ]
    },
    {
     "name": "stdout",
     "output_type": "stream",
     "text": [
      "NoneType: None\n"
     ]
    },
    {
     "name": "stderr",
     "output_type": "stream",
     "text": [
      "/usr/local/src/.venv/lib/python3.12/site-packages/numpy/linalg/linalg.py:2180: RuntimeWarning: invalid value encountered in det\n",
      "  r = _umath_linalg.det(a, signature=signature)\n",
      "/usr/local/src/.venv/lib/python3.12/site-packages/numpy/core/_methods.py:121: RuntimeWarning: invalid value encountered in divide\n",
      "  ret = um.true_divide(\n"
     ]
    },
    {
     "name": "stdout",
     "output_type": "stream",
     "text": [
      "\n"
     ]
    },
    {
     "name": "stderr",
     "output_type": "stream",
     "text": [
      "/usr/local/src/.venv/lib/python3.12/site-packages/skimage/transform/_geometric.py:137: RuntimeWarning: Mean of empty slice.\n",
      "  dst_mean = dst.mean(axis=0)\n",
      "/usr/local/src/.venv/lib/python3.12/site-packages/numpy/core/_methods.py:121: RuntimeWarning: invalid value encountered in divide\n",
      "  ret = um.true_divide(\n",
      "/usr/local/src/.venv/lib/python3.12/site-packages/skimage/transform/_geometric.py:144: RuntimeWarning: invalid value encountered in divide\n",
      "  A = dst_demean.T @ src_demean / num\n",
      "/usr/local/src/.venv/lib/python3.12/site-packages/numpy/linalg/linalg.py:2180: RuntimeWarning: invalid value encountered in det\n",
      "  r = _umath_linalg.det(a, signature=signature)\n",
      "/usr/local/src/valis/valtils.py:25: UserWarning: Need at least 4 keypoints for RANSAC filtering, but only have 2\n",
      "  warnings.warn(warning_msg, warning_type)\n"
     ]
    },
    {
     "name": "stdout",
     "output_type": "stream",
     "text": [
      "NoneType: None\n",
      "\n"
     ]
    },
    {
     "name": "stderr",
     "output_type": "stream",
     "text": [
      "/usr/local/src/valis/serial_rigid.py:615: UserWarning: 0 between B_213-ST_BFIW-SE_1453_processed and B_213-ST_BFIW-SE_2497_processed\n",
      "  warnings.warn(f\"{len(filtered_match_info12.matched_kp1_xy)} between {img_obj_1.name} and {img_obj_2.name}\")\n",
      "/usr/local/src/.venv/lib/python3.12/site-packages/skimage/transform/_geometric.py:136: RuntimeWarning: Mean of empty slice.\n",
      "  src_mean = src.mean(axis=0)\n",
      "/usr/local/src/.venv/lib/python3.12/site-packages/numpy/core/_methods.py:121: RuntimeWarning: invalid value encountered in divide\n",
      "  ret = um.true_divide(\n",
      "/usr/local/src/.venv/lib/python3.12/site-packages/skimage/transform/_geometric.py:137: RuntimeWarning: Mean of empty slice.\n",
      "  dst_mean = dst.mean(axis=0)\n",
      "/usr/local/src/.venv/lib/python3.12/site-packages/numpy/core/_methods.py:121: RuntimeWarning: invalid value encountered in divide\n",
      "  ret = um.true_divide(\n",
      "/usr/local/src/.venv/lib/python3.12/site-packages/skimage/transform/_geometric.py:144: RuntimeWarning: invalid value encountered in divide\n",
      "  A = dst_demean.T @ src_demean / num\n",
      "/usr/local/src/.venv/lib/python3.12/site-packages/numpy/linalg/linalg.py:2180: RuntimeWarning: invalid value encountered in det\n",
      "  r = _umath_linalg.det(a, signature=signature)\n",
      "/usr/local/src/valis/valtils.py:25: UserWarning: Need at least 4 keypoints for RANSAC filtering, but only have 3\n",
      "  warnings.warn(warning_msg, warning_type)\n"
     ]
    },
    {
     "name": "stdout",
     "output_type": "stream",
     "text": [
      "NoneType: None\n",
      "\n"
     ]
    },
    {
     "name": "stderr",
     "output_type": "stream",
     "text": [
      "/usr/local/src/valis/valtils.py:25: UserWarning: Need at least 4 keypoints for RANSAC filtering, but only have 3\n",
      "  warnings.warn(warning_msg, warning_type)\n"
     ]
    },
    {
     "name": "stdout",
     "output_type": "stream",
     "text": [
      "NoneType: None\n",
      "\n"
     ]
    },
    {
     "name": "stderr",
     "output_type": "stream",
     "text": [
      "/usr/local/src/.venv/lib/python3.12/site-packages/skimage/transform/_geometric.py:136: RuntimeWarning: Mean of empty slice.\n",
      "  src_mean = src.mean(axis=0)\n",
      "/usr/local/src/.venv/lib/python3.12/site-packages/numpy/core/_methods.py:121: RuntimeWarning: invalid value encountered in divide\n",
      "  ret = um.true_divide(\n",
      "/usr/local/src/.venv/lib/python3.12/site-packages/skimage/transform/_geometric.py:137: RuntimeWarning: Mean of empty slice.\n",
      "  dst_mean = dst.mean(axis=0)\n",
      "/usr/local/src/.venv/lib/python3.12/site-packages/numpy/core/_methods.py:121: RuntimeWarning: invalid value encountered in divide\n",
      "  ret = um.true_divide(\n",
      "/usr/local/src/.venv/lib/python3.12/site-packages/skimage/transform/_geometric.py:144: RuntimeWarning: invalid value encountered in divide\n",
      "  A = dst_demean.T @ src_demean / num\n",
      "/usr/local/src/.venv/lib/python3.12/site-packages/numpy/linalg/linalg.py:2180: RuntimeWarning: invalid value encountered in det\n",
      "  r = _umath_linalg.det(a, signature=signature)\n",
      "/usr/local/src/valis/valtils.py:25: UserWarning: Need at least 4 keypoints for RANSAC filtering, but only have 2\n",
      "  warnings.warn(warning_msg, warning_type)\n"
     ]
    },
    {
     "name": "stdout",
     "output_type": "stream",
     "text": [
      "NoneType: None\n",
      "\n"
     ]
    },
    {
     "name": "stderr",
     "output_type": "stream",
     "text": [
      "/usr/local/src/valis/valtils.py:25: UserWarning: Need at least 4 keypoints for RANSAC filtering, but only have 3\n",
      "  warnings.warn(warning_msg, warning_type)\n"
     ]
    },
    {
     "name": "stdout",
     "output_type": "stream",
     "text": [
      "NoneType: None\n",
      "\n"
     ]
    },
    {
     "name": "stderr",
     "output_type": "stream",
     "text": [
      "/usr/local/src/valis/valtils.py:25: UserWarning: Need at least 4 keypoints for RANSAC filtering, but only have 3\n",
      "  warnings.warn(warning_msg, warning_type)\n"
     ]
    },
    {
     "name": "stdout",
     "output_type": "stream",
     "text": [
      "NoneType: None\n",
      "\n"
     ]
    },
    {
     "name": "stderr",
     "output_type": "stream",
     "text": [
      "/usr/local/src/valis/valtils.py:25: UserWarning: Need at least 4 keypoints for RANSAC filtering, but only have 2\n",
      "  warnings.warn(warning_msg, warning_type)\n"
     ]
    },
    {
     "name": "stdout",
     "output_type": "stream",
     "text": [
      "NoneType: None\n",
      "\n"
     ]
    },
    {
     "name": "stderr",
     "output_type": "stream",
     "text": [
      "/usr/local/src/valis/serial_rigid.py:615: UserWarning: 0 between B_213-ST_BFIW-SE_1457_processed and B_213-ST_BFIW-SE_2497_processed\n",
      "  warnings.warn(f\"{len(filtered_match_info12.matched_kp1_xy)} between {img_obj_1.name} and {img_obj_2.name}\")\n",
      "/usr/local/src/.venv/lib/python3.12/site-packages/skimage/transform/_geometric.py:136: RuntimeWarning: Mean of empty slice.\n",
      "  src_mean = src.mean(axis=0)\n",
      "/usr/local/src/.venv/lib/python3.12/site-packages/numpy/core/_methods.py:121: RuntimeWarning: invalid value encountered in divide\n",
      "  ret = um.true_divide(\n",
      "/usr/local/src/.venv/lib/python3.12/site-packages/skimage/transform/_geometric.py:137: RuntimeWarning: Mean of empty slice.\n",
      "  dst_mean = dst.mean(axis=0)\n",
      "/usr/local/src/.venv/lib/python3.12/site-packages/numpy/core/_methods.py:121: RuntimeWarning: invalid value encountered in divide\n",
      "  ret = um.true_divide(\n",
      "/usr/local/src/.venv/lib/python3.12/site-packages/skimage/transform/_geometric.py:144: RuntimeWarning: invalid value encountered in divide\n",
      "  A = dst_demean.T @ src_demean / num\n",
      "/usr/local/src/.venv/lib/python3.12/site-packages/numpy/linalg/linalg.py:2180: RuntimeWarning: invalid value encountered in det\n",
      "  r = _umath_linalg.det(a, signature=signature)\n",
      "/usr/local/src/valis/valtils.py:25: UserWarning: Need at least 4 keypoints for RANSAC filtering, but only have 2\n",
      "  warnings.warn(warning_msg, warning_type)\n"
     ]
    },
    {
     "name": "stdout",
     "output_type": "stream",
     "text": [
      "NoneType: None\n",
      "\n"
     ]
    },
    {
     "name": "stderr",
     "output_type": "stream",
     "text": [
      "/usr/local/src/valis/serial_rigid.py:615: UserWarning: 0 between B_213-ST_BFIW-SE_1457_processed and B_213-ST_BFIW-SE_2503_processed\n",
      "  warnings.warn(f\"{len(filtered_match_info12.matched_kp1_xy)} between {img_obj_1.name} and {img_obj_2.name}\")\n",
      "/usr/local/src/valis/valtils.py:25: UserWarning: Need at least 4 keypoints for RANSAC filtering, but only have 3\n",
      "  warnings.warn(warning_msg, warning_type)\n"
     ]
    },
    {
     "name": "stdout",
     "output_type": "stream",
     "text": [
      "NoneType: None\n",
      "\n"
     ]
    },
    {
     "name": "stderr",
     "output_type": "stream",
     "text": [
      "/usr/local/src/valis/valtils.py:25: UserWarning: Need at least 4 keypoints for RANSAC filtering, but only have 3\n",
      "  warnings.warn(warning_msg, warning_type)\n"
     ]
    },
    {
     "name": "stdout",
     "output_type": "stream",
     "text": [
      "NoneType: None\n",
      "\n"
     ]
    }
   ],
   "source": [
    "#slide_src_dir = './cropped_imgs_new1/'\n",
    "slide_src_dir = '../keerthi_data/BFIW_processed/'\n",
    "results_dst_dir = '/storage/valis_reg/valis_process_s'\n",
    "registered_slide_dst_dir = \"/storage/valis_reg/valis_process_s/registered_slides\"\n",
    "os.makedirs(results_dst_dir, exist_ok=True)\n",
    "os.makedirs(registered_slide_dst_dir, exist_ok=True)\n",
    "reference_slide = \"/storage/keerthi_data/BFIW_processed/B_213-ST_BFIW-SE_1606_processed.jpg\"\n",
    "registrar = registration.Valis(slide_src_dir, results_dst_dir, reference_img_f=reference_slide)\n",
    "\n",
    "#registrar.name_dict = imgs_ordered\n",
    "registrar.imgs_ordered=True\n",
    "registrar.crop='overlap'\n",
    "rigid_registrar, non_rigid_registrar, error_df = registrar.register()"
   ]
  },
  {
   "cell_type": "code",
   "execution_count": null,
   "metadata": {},
   "outputs": [],
   "source": [
    "#registered_slide_dst_dir = \"/storage/valis_reg/valis_process_s/BFIW_processed/\"\n",
    "registrar.warp_and_save_slides(registered_slide_dst_dir, crop=\"overlap\")"
   ]
  },
  {
   "cell_type": "code",
   "execution_count": null,
   "metadata": {},
   "outputs": [],
   "source": []
  }
 ],
 "metadata": {
  "kernelspec": {
   "display_name": "Python 3 (ipykernel)",
   "language": "python",
   "name": "python3"
  },
  "language_info": {
   "codemirror_mode": {
    "name": "ipython",
    "version": 3
   },
   "file_extension": ".py",
   "mimetype": "text/x-python",
   "name": "python",
   "nbconvert_exporter": "python",
   "pygments_lexer": "ipython3",
   "version": "3.12.3"
  }
 },
 "nbformat": 4,
 "nbformat_minor": 4
}
