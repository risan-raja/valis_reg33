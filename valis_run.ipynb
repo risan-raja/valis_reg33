{
 "cells": [
  {
   "cell_type": "code",
   "execution_count": 1,
   "metadata": {},
   "outputs": [
    {
     "name": "stderr",
     "output_type": "stream",
     "text": [
      "/usr/local/src/valis/valtils.py:92: SyntaxWarning: invalid escape sequence '\\.'\n",
      "  if re.search(\"\\.\", f) is None:\n"
     ]
    }
   ],
   "source": [
    "import cv2\n",
    "import os\n",
    "import re\n",
    "import matplotlib.pyplot as plt\n",
    "import ants\n",
    "import valis\n",
    "from valis import registration, feature_detectors, non_rigid_registrars, affine_optimizer\n",
    "\n",
    "non_rigid_registrar_cls = non_rigid_registrars.SimpleElastixWarper\n",
    "\n"
   ]
  },
  {
   "cell_type": "code",
   "execution_count": 5,
   "metadata": {},
   "outputs": [],
   "source": [
    "from valis import registration\n",
    "img_dir = '/storage/keerthi_data/BFIW_processed/'\n",
    "imgs = os.listdir(img_dir)\n",
    "regex = re.compile(r\".*-SE_(\\d+)_processed.jpg\")\n",
    "imgs = sorted(imgs, key=lambda x: int(regex.match(x).group(1)))\n",
    "imgs_ordered = {}\n",
    "for img in imgs:\n",
    "    section_num = int(regex.match(img).group(1))\n",
    "    section_id = str(section_num)\n",
    "    section_id_digits = len(section_id)\n",
    "    if section_id_digits <4:\n",
    "        section_id = '0'*(4-section_id_digits) + str(section_num)\n",
    "    imgs_ordered[ os.path.join(img_dir, img)] = section_id"
   ]
  },
  {
   "cell_type": "code",
   "execution_count": 8,
   "metadata": {},
   "outputs": [
    {
     "name": "stdout",
     "output_type": "stream",
     "text": [
      "\n",
      "==== Converting images\n",
      "\n"
     ]
    },
    {
     "name": "stderr",
     "output_type": "stream",
     "text": [
      "Converting images:   0%|          | 0/2627 [00:00<?, ?image/s]"
     ]
    },
    {
     "name": "stdout",
     "output_type": "stream",
     "text": [
      "<Slide, name = 0002>, width=300, height=375, channels=3, levels=1, RGB=True, dtype=uint8> <valis.slide_io.VipsSlideReader object at 0x7f11bcb33380> True (375, 300, 3)\n",
      "<Slide, name = 0003>, width=300, height=375, channels=3, levels=1, RGB=True, dtype=uint8> <valis.slide_io.VipsSlideReader object at 0x7f11bcd1dc10> True (375, 300, 3)\n",
      "<Slide, name = 0004>, width=300, height=375, channels=3, levels=1, RGB=True, dtype=uint8> <valis.slide_io.VipsSlideReader object at 0x7f11bd511df0> True (375, 300, 3)\n",
      "<Slide, name = 0005>, width=300, height=375, channels=3, levels=1, RGB=True, dtype=uint8> <valis.slide_io.VipsSlideReader object at 0x7f11bcb34e90> True (375, 300, 3)\n",
      "<Slide, name = 0006>, width=300, height=375, channels=3, levels=1, RGB=True, dtype=uint8> <valis.slide_io.VipsSlideReader object at 0x7f11bcb35b50> True (375, 300, 3)\n",
      "<Slide, name = 0007>, width=300, height=375, channels=3, levels=1, RGB=True, dtype=uint8> <valis.slide_io.VipsSlideReader object at 0x7f11bcb4b530> True (375, 300, 3)\n",
      "<Slide, name = 0008>, width=300, height=375, channels=3, levels=1, RGB=True, dtype=uint8> <valis.slide_io.VipsSlideReader object at 0x7f11bcb31f40> True (375, 300, 3)\n",
      "<Slide, name = 0009>, width=300, height=375, channels=3, levels=1, RGB=True, dtype=uint8> <valis.slide_io.VipsSlideReader object at 0x7f11bcb4c200> True (375, 300, 3)\n",
      "<Slide, name = 0010>, width=300, height=375, channels=3, levels=1, RGB=True, dtype=uint8> <valis.slide_io.VipsSlideReader object at 0x7f11bcb4e1e0> True (375, 300, 3)\n"
     ]
    },
    {
     "name": "stderr",
     "output_type": "stream",
     "text": [
      "Converting images:   0%|          | 9/2627 [00:00<00:29, 89.22image/s]"
     ]
    },
    {
     "name": "stdout",
     "output_type": "stream",
     "text": [
      "<Slide, name = 0011>, width=300, height=375, channels=3, levels=1, RGB=True, dtype=uint8> <valis.slide_io.VipsSlideReader object at 0x7f11bcb4f890> True (375, 300, 3)\n",
      "<Slide, name = 0012>, width=300, height=375, channels=3, levels=1, RGB=True, dtype=uint8> <valis.slide_io.VipsSlideReader object at 0x7f11bcb26480> True (375, 300, 3)\n",
      "<Slide, name = 0013>, width=300, height=375, channels=3, levels=1, RGB=True, dtype=uint8> <valis.slide_io.VipsSlideReader object at 0x7f11bcb248c0> True (375, 300, 3)\n",
      "<Slide, name = 0014>, width=300, height=375, channels=3, levels=1, RGB=True, dtype=uint8> <valis.slide_io.VipsSlideReader object at 0x7f11bcb27da0> True (375, 300, 3)\n",
      "<Slide, name = 0038>, width=300, height=375, channels=3, levels=1, RGB=True, dtype=uint8> <valis.slide_io.VipsSlideReader object at 0x7f11bccaf410> True (375, 300, 3)\n",
      "<Slide, name = 0039>, width=300, height=375, channels=3, levels=1, RGB=True, dtype=uint8> <valis.slide_io.VipsSlideReader object at 0x7f11bcb25c70> True (375, 300, 3)\n",
      "<Slide, name = 0040>, width=300, height=375, channels=3, levels=1, RGB=True, dtype=uint8> <valis.slide_io.VipsSlideReader object at 0x7f11bcb3d970> True (375, 300, 3)\n",
      "<Slide, name = 0041>, width=300, height=375, channels=3, levels=1, RGB=True, dtype=uint8> <valis.slide_io.VipsSlideReader object at 0x7f11bcb3c320> True (375, 300, 3)\n",
      "<Slide, name = 0042>, width=300, height=375, channels=3, levels=1, RGB=True, dtype=uint8> <valis.slide_io.VipsSlideReader object at 0x7f11bcb4c530> True (375, 300, 3)\n",
      "<Slide, name = 0043>, width=300, height=375, channels=3, levels=1, RGB=True, dtype=uint8> <valis.slide_io.VipsSlideReader object at 0x7f11bd1c41a0> True (375, 300, 3)\n"
     ]
    },
    {
     "name": "stderr",
     "output_type": "stream",
     "text": [
      "Converting images:   1%|          | 19/2627 [00:00<00:28, 90.71image/s]"
     ]
    },
    {
     "name": "stdout",
     "output_type": "stream",
     "text": [
      "<Slide, name = 0044>, width=300, height=375, channels=3, levels=1, RGB=True, dtype=uint8> <valis.slide_io.VipsSlideReader object at 0x7f11bccaea80> True (375, 300, 3)\n",
      "<Slide, name = 0045>, width=300, height=375, channels=3, levels=1, RGB=True, dtype=uint8> <valis.slide_io.VipsSlideReader object at 0x7f11bcb3d880> True (375, 300, 3)\n",
      "<Slide, name = 0046>, width=300, height=375, channels=3, levels=1, RGB=True, dtype=uint8> <valis.slide_io.VipsSlideReader object at 0x7f11bd19d370> True (375, 300, 3)\n",
      "<Slide, name = 0047>, width=300, height=375, channels=3, levels=1, RGB=True, dtype=uint8> <valis.slide_io.VipsSlideReader object at 0x7f11bcb3e960> True (375, 300, 3)\n",
      "<Slide, name = 0048>, width=300, height=375, channels=3, levels=1, RGB=True, dtype=uint8> <valis.slide_io.VipsSlideReader object at 0x7f11bcced9a0> True (375, 300, 3)\n",
      "<Slide, name = 0049>, width=300, height=375, channels=3, levels=1, RGB=True, dtype=uint8> <valis.slide_io.VipsSlideReader object at 0x7f11bcb3f1d0> True (375, 300, 3)\n",
      "<Slide, name = 0050>, width=300, height=375, channels=3, levels=1, RGB=True, dtype=uint8> <valis.slide_io.VipsSlideReader object at 0x7f11bcb4e720> True (375, 300, 3)\n",
      "<Slide, name = 0051>, width=300, height=375, channels=3, levels=1, RGB=True, dtype=uint8> <valis.slide_io.VipsSlideReader object at 0x7f11bccaf440> True (375, 300, 3)\n",
      "<Slide, name = 0052>, width=300, height=375, channels=3, levels=1, RGB=True, dtype=uint8> <valis.slide_io.VipsSlideReader object at 0x7f11bcb3e210> True (375, 300, 3)\n",
      "<Slide, name = 0053>, width=300, height=375, channels=3, levels=1, RGB=True, dtype=uint8> <valis.slide_io.VipsSlideReader object at 0x7f11bcb3e4b0> True (375, 300, 3)\n"
     ]
    },
    {
     "name": "stderr",
     "output_type": "stream",
     "text": [
      "Converting images:   1%|          | 29/2627 [00:00<00:28, 91.06image/s]"
     ]
    },
    {
     "name": "stdout",
     "output_type": "stream",
     "text": [
      "<Slide, name = 0054>, width=300, height=375, channels=3, levels=1, RGB=True, dtype=uint8> <valis.slide_io.VipsSlideReader object at 0x7f11bcb3cf80> True (375, 300, 3)\n",
      "<Slide, name = 0055>, width=300, height=375, channels=3, levels=1, RGB=True, dtype=uint8> <valis.slide_io.VipsSlideReader object at 0x7f11bcb3c380> True (375, 300, 3)\n",
      "<Slide, name = 0056>, width=300, height=375, channels=3, levels=1, RGB=True, dtype=uint8> <valis.slide_io.VipsSlideReader object at 0x7f11bcb3c860> True (375, 300, 3)\n",
      "<Slide, name = 0057>, width=300, height=375, channels=3, levels=1, RGB=True, dtype=uint8> <valis.slide_io.VipsSlideReader object at 0x7f11bcb3cef0> True (375, 300, 3)\n",
      "<Slide, name = 0058>, width=300, height=375, channels=3, levels=1, RGB=True, dtype=uint8> <valis.slide_io.VipsSlideReader object at 0x7f11bcb3c800> True (375, 300, 3)\n",
      "<Slide, name = 0059>, width=300, height=375, channels=3, levels=1, RGB=True, dtype=uint8> <valis.slide_io.VipsSlideReader object at 0x7f11bcb3d280> True (375, 300, 3)\n",
      "<Slide, name = 0060>, width=300, height=375, channels=3, levels=1, RGB=True, dtype=uint8> <valis.slide_io.VipsSlideReader object at 0x7f11bcb3f320> True (375, 300, 3)\n",
      "<Slide, name = 0061>, width=300, height=375, channels=3, levels=1, RGB=True, dtype=uint8> <valis.slide_io.VipsSlideReader object at 0x7f11bcb3ce00> True (375, 300, 3)\n",
      "<Slide, name = 0062>, width=300, height=375, channels=3, levels=1, RGB=True, dtype=uint8> <valis.slide_io.VipsSlideReader object at 0x7f11bcb3c470> True (375, 300, 3)\n",
      "<Slide, name = 0063>, width=300, height=375, channels=3, levels=1, RGB=True, dtype=uint8> <valis.slide_io.VipsSlideReader object at 0x7f11bcb3e930> True (375, 300, 3)\n"
     ]
    },
    {
     "name": "stderr",
     "output_type": "stream",
     "text": [
      "Converting images:   1%|▏         | 39/2627 [00:00<00:28, 91.99image/s]"
     ]
    },
    {
     "name": "stdout",
     "output_type": "stream",
     "text": [
      "<Slide, name = 0064>, width=300, height=375, channels=3, levels=1, RGB=True, dtype=uint8> <valis.slide_io.VipsSlideReader object at 0x7f11bcce6030> True (375, 300, 3)\n",
      "<Slide, name = 0065>, width=300, height=375, channels=3, levels=1, RGB=True, dtype=uint8> <valis.slide_io.VipsSlideReader object at 0x7f11bcb3d850> True (375, 300, 3)\n",
      "<Slide, name = 0066>, width=300, height=375, channels=3, levels=1, RGB=True, dtype=uint8> <valis.slide_io.VipsSlideReader object at 0x7f11bcb3e540> True (375, 300, 3)\n",
      "<Slide, name = 0067>, width=300, height=375, channels=3, levels=1, RGB=True, dtype=uint8> <valis.slide_io.VipsSlideReader object at 0x7f11bcb2e870> True (375, 300, 3)\n",
      "<Slide, name = 0068>, width=300, height=375, channels=3, levels=1, RGB=True, dtype=uint8> <valis.slide_io.VipsSlideReader object at 0x7f11bcb2d8b0> True (375, 300, 3)\n",
      "<Slide, name = 0069>, width=300, height=375, channels=3, levels=1, RGB=True, dtype=uint8> <valis.slide_io.VipsSlideReader object at 0x7f11bcb2d430> True (375, 300, 3)\n",
      "<Slide, name = 0070>, width=300, height=375, channels=3, levels=1, RGB=True, dtype=uint8> <valis.slide_io.VipsSlideReader object at 0x7f11bcb2fd70> True (375, 300, 3)\n",
      "<Slide, name = 0071>, width=300, height=375, channels=3, levels=1, RGB=True, dtype=uint8> <valis.slide_io.VipsSlideReader object at 0x7f11bcb2c560> True (375, 300, 3)\n",
      "<Slide, name = 0072>, width=300, height=375, channels=3, levels=1, RGB=True, dtype=uint8> <valis.slide_io.VipsSlideReader object at 0x7f11bcb2f710> True (375, 300, 3)\n",
      "<Slide, name = 0073>, width=300, height=375, channels=3, levels=1, RGB=True, dtype=uint8> <valis.slide_io.VipsSlideReader object at 0x7f11bcb2da60> True (375, 300, 3)\n"
     ]
    },
    {
     "name": "stderr",
     "output_type": "stream",
     "text": [
      "Converting images:   2%|▏         | 49/2627 [00:00<00:27, 92.65image/s]"
     ]
    },
    {
     "name": "stdout",
     "output_type": "stream",
     "text": [
      "<Slide, name = 0074>, width=300, height=375, channels=3, levels=1, RGB=True, dtype=uint8> <valis.slide_io.VipsSlideReader object at 0x7f11bcb550a0> True (375, 300, 3)\n",
      "<Slide, name = 0075>, width=300, height=375, channels=3, levels=1, RGB=True, dtype=uint8> <valis.slide_io.VipsSlideReader object at 0x7f11bccaf110> True (375, 300, 3)\n",
      "<Slide, name = 0076>, width=300, height=375, channels=3, levels=1, RGB=True, dtype=uint8> <valis.slide_io.VipsSlideReader object at 0x7f11bcb3c1a0> True (375, 300, 3)\n",
      "<Slide, name = 0077>, width=300, height=375, channels=3, levels=1, RGB=True, dtype=uint8> <valis.slide_io.VipsSlideReader object at 0x7f11bd19ce00> True (375, 300, 3)\n",
      "<Slide, name = 0078>, width=300, height=375, channels=3, levels=1, RGB=True, dtype=uint8> <valis.slide_io.VipsSlideReader object at 0x7f11bcb55010> True (375, 300, 3)\n",
      "<Slide, name = 0079>, width=300, height=375, channels=3, levels=1, RGB=True, dtype=uint8> <valis.slide_io.VipsSlideReader object at 0x7f11bcb2dbe0> True (375, 300, 3)\n",
      "<Slide, name = 0080>, width=300, height=375, channels=3, levels=1, RGB=True, dtype=uint8> <valis.slide_io.VipsSlideReader object at 0x7f11bcb56570> True (375, 300, 3)\n",
      "<Slide, name = 0081>, width=300, height=375, channels=3, levels=1, RGB=True, dtype=uint8> <valis.slide_io.VipsSlideReader object at 0x7f11bd19d670> True (375, 300, 3)\n",
      "<Slide, name = 0082>, width=300, height=375, channels=3, levels=1, RGB=True, dtype=uint8> <valis.slide_io.VipsSlideReader object at 0x7f11bcb54290> True (375, 300, 3)\n",
      "<Slide, name = 0083>, width=300, height=375, channels=3, levels=1, RGB=True, dtype=uint8> <valis.slide_io.VipsSlideReader object at 0x7f11bccedaf0> True (375, 300, 3)\n"
     ]
    },
    {
     "name": "stderr",
     "output_type": "stream",
     "text": [
      "Converting images:   2%|▏         | 59/2627 [00:00<00:27, 92.90image/s]"
     ]
    },
    {
     "name": "stdout",
     "output_type": "stream",
     "text": [
      "<Slide, name = 0084>, width=300, height=375, channels=3, levels=1, RGB=True, dtype=uint8> <valis.slide_io.VipsSlideReader object at 0x7f11bcb55550> True (375, 300, 3)\n",
      "<Slide, name = 0085>, width=300, height=375, channels=3, levels=1, RGB=True, dtype=uint8> <valis.slide_io.VipsSlideReader object at 0x7f11bcb563f0> True (375, 300, 3)\n",
      "<Slide, name = 0086>, width=300, height=375, channels=3, levels=1, RGB=True, dtype=uint8> <valis.slide_io.VipsSlideReader object at 0x7f11bcb56720> True (375, 300, 3)\n",
      "<Slide, name = 0087>, width=300, height=375, channels=3, levels=1, RGB=True, dtype=uint8> <valis.slide_io.VipsSlideReader object at 0x7f11bcb566f0> True (375, 300, 3)\n",
      "<Slide, name = 0088>, width=300, height=375, channels=3, levels=1, RGB=True, dtype=uint8> <valis.slide_io.VipsSlideReader object at 0x7f11bcd1e750> True (375, 300, 3)\n",
      "<Slide, name = 0089>, width=300, height=375, channels=3, levels=1, RGB=True, dtype=uint8> <valis.slide_io.VipsSlideReader object at 0x7f11bcb55c10> True (375, 300, 3)\n",
      "<Slide, name = 0090>, width=300, height=375, channels=3, levels=1, RGB=True, dtype=uint8> <valis.slide_io.VipsSlideReader object at 0x7f11bcb4f4d0> True (375, 300, 3)\n",
      "<Slide, name = 0091>, width=300, height=375, channels=3, levels=1, RGB=True, dtype=uint8> <valis.slide_io.VipsSlideReader object at 0x7f11bcb34890> True (375, 300, 3)\n",
      "<Slide, name = 0092>, width=300, height=375, channels=3, levels=1, RGB=True, dtype=uint8> <valis.slide_io.VipsSlideReader object at 0x7f11bcb55070> True (375, 300, 3)\n",
      "<Slide, name = 0093>, width=300, height=375, channels=3, levels=1, RGB=True, dtype=uint8> <valis.slide_io.VipsSlideReader object at 0x7f11bcb55100> True (375, 300, 3)\n"
     ]
    },
    {
     "name": "stderr",
     "output_type": "stream",
     "text": [
      "Converting images:   3%|▎         | 69/2627 [00:00<00:27, 92.15image/s]"
     ]
    },
    {
     "name": "stdout",
     "output_type": "stream",
     "text": [
      "<Slide, name = 0094>, width=300, height=375, channels=3, levels=1, RGB=True, dtype=uint8> <valis.slide_io.VipsSlideReader object at 0x7f11bcb55c70> True (375, 300, 3)\n",
      "<Slide, name = 0095>, width=300, height=375, channels=3, levels=1, RGB=True, dtype=uint8> <valis.slide_io.VipsSlideReader object at 0x7f11bcb3e510> True (375, 300, 3)\n",
      "<Slide, name = 0096>, width=300, height=375, channels=3, levels=1, RGB=True, dtype=uint8> <valis.slide_io.VipsSlideReader object at 0x7f11bcb567e0> True (375, 300, 3)\n",
      "<Slide, name = 0097>, width=300, height=375, channels=3, levels=1, RGB=True, dtype=uint8> <valis.slide_io.VipsSlideReader object at 0x7f11bcb52a20> True (375, 300, 3)\n",
      "<Slide, name = 0098>, width=300, height=375, channels=3, levels=1, RGB=True, dtype=uint8> <valis.slide_io.VipsSlideReader object at 0x7f11bd1b9490> True (375, 300, 3)\n",
      "<Slide, name = 0099>, width=300, height=375, channels=3, levels=1, RGB=True, dtype=uint8> <valis.slide_io.VipsSlideReader object at 0x7f11bcb514c0> True (375, 300, 3)\n",
      "<Slide, name = 0100>, width=300, height=375, channels=3, levels=1, RGB=True, dtype=uint8> <valis.slide_io.VipsSlideReader object at 0x7f11bcb52f90> True (375, 300, 3)\n",
      "<Slide, name = 0101>, width=300, height=375, channels=3, levels=1, RGB=True, dtype=uint8> <valis.slide_io.VipsSlideReader object at 0x7f1370c7b2f0> True (375, 300, 3)\n",
      "<Slide, name = 0102>, width=300, height=375, channels=3, levels=1, RGB=True, dtype=uint8> <valis.slide_io.VipsSlideReader object at 0x7f11bcb51f10> True (375, 300, 3)\n",
      "<Slide, name = 0103>, width=300, height=375, channels=3, levels=1, RGB=True, dtype=uint8> <valis.slide_io.VipsSlideReader object at 0x7f11bcb50680> True (375, 300, 3)\n"
     ]
    },
    {
     "name": "stderr",
     "output_type": "stream",
     "text": [
      "Converting images:   3%|▎         | 79/2627 [00:00<00:27, 91.97image/s]"
     ]
    },
    {
     "name": "stdout",
     "output_type": "stream",
     "text": [
      "<Slide, name = 0104>, width=300, height=375, channels=3, levels=1, RGB=True, dtype=uint8> <valis.slide_io.VipsSlideReader object at 0x7f11bcb52fc0> True (375, 300, 3)\n",
      "<Slide, name = 0105>, width=300, height=375, channels=3, levels=1, RGB=True, dtype=uint8> <valis.slide_io.VipsSlideReader object at 0x7f11bcb50c20> True (375, 300, 3)\n",
      "<Slide, name = 0106>, width=300, height=375, channels=3, levels=1, RGB=True, dtype=uint8> <valis.slide_io.VipsSlideReader object at 0x7f11bcb517c0> True (375, 300, 3)\n",
      "<Slide, name = 0107>, width=300, height=375, channels=3, levels=1, RGB=True, dtype=uint8> <valis.slide_io.VipsSlideReader object at 0x7f11bcb50bc0> True (375, 300, 3)\n",
      "<Slide, name = 0108>, width=300, height=375, channels=3, levels=1, RGB=True, dtype=uint8> <valis.slide_io.VipsSlideReader object at 0x7f11bcb50470> True (375, 300, 3)\n",
      "<Slide, name = 0109>, width=300, height=375, channels=3, levels=1, RGB=True, dtype=uint8> <valis.slide_io.VipsSlideReader object at 0x7f11bcd19c40> True (375, 300, 3)\n",
      "<Slide, name = 0110>, width=300, height=375, channels=3, levels=1, RGB=True, dtype=uint8> <valis.slide_io.VipsSlideReader object at 0x7f11bcb523c0> True (375, 300, 3)\n",
      "<Slide, name = 0111>, width=300, height=375, channels=3, levels=1, RGB=True, dtype=uint8> <valis.slide_io.VipsSlideReader object at 0x7f11bd1ca4e0> True (375, 300, 3)\n",
      "<Slide, name = 0112>, width=300, height=375, channels=3, levels=1, RGB=True, dtype=uint8> <valis.slide_io.VipsSlideReader object at 0x7f11bd1c8b30> True (375, 300, 3)\n",
      "<Slide, name = 0113>, width=300, height=375, channels=3, levels=1, RGB=True, dtype=uint8> <valis.slide_io.VipsSlideReader object at 0x7f11bcb53650> True (375, 300, 3)\n"
     ]
    },
    {
     "name": "stderr",
     "output_type": "stream",
     "text": [
      "Converting images:   3%|▎         | 89/2627 [00:00<00:27, 91.85image/s]"
     ]
    },
    {
     "name": "stdout",
     "output_type": "stream",
     "text": [
      "<Slide, name = 0114>, width=300, height=375, channels=3, levels=1, RGB=True, dtype=uint8> <valis.slide_io.VipsSlideReader object at 0x7f11bcb25d90> True (375, 300, 3)\n",
      "<Slide, name = 0115>, width=300, height=375, channels=3, levels=1, RGB=True, dtype=uint8> <valis.slide_io.VipsSlideReader object at 0x7f11bcb52900> True (375, 300, 3)\n",
      "<Slide, name = 0116>, width=300, height=375, channels=3, levels=1, RGB=True, dtype=uint8> <valis.slide_io.VipsSlideReader object at 0x7f11bcb512b0> True (375, 300, 3)\n",
      "<Slide, name = 0117>, width=300, height=375, channels=3, levels=1, RGB=True, dtype=uint8> <valis.slide_io.VipsSlideReader object at 0x7f11bcb53f20> True (375, 300, 3)\n",
      "<Slide, name = 0118>, width=300, height=375, channels=3, levels=1, RGB=True, dtype=uint8> <valis.slide_io.VipsSlideReader object at 0x7f11bcb50890> True (375, 300, 3)\n",
      "<Slide, name = 0119>, width=300, height=375, channels=3, levels=1, RGB=True, dtype=uint8> <valis.slide_io.VipsSlideReader object at 0x7f11bcb52ae0> True (375, 300, 3)\n",
      "<Slide, name = 0120>, width=300, height=375, channels=3, levels=1, RGB=True, dtype=uint8> <valis.slide_io.VipsSlideReader object at 0x7f11bcb50590> True (375, 300, 3)\n",
      "<Slide, name = 0121>, width=300, height=375, channels=3, levels=1, RGB=True, dtype=uint8> <valis.slide_io.VipsSlideReader object at 0x7f11bcb51c10> True (375, 300, 3)\n",
      "<Slide, name = 0122>, width=300, height=375, channels=3, levels=1, RGB=True, dtype=uint8> <valis.slide_io.VipsSlideReader object at 0x7f11bcb52360> True (375, 300, 3)\n",
      "<Slide, name = 0123>, width=300, height=375, channels=3, levels=1, RGB=True, dtype=uint8> <valis.slide_io.VipsSlideReader object at 0x7f11bcb53a40> True (375, 300, 3)\n"
     ]
    },
    {
     "name": "stderr",
     "output_type": "stream",
     "text": [
      "Converting images:   4%|▍         | 99/2627 [00:01<00:27, 91.14image/s]"
     ]
    },
    {
     "name": "stdout",
     "output_type": "stream",
     "text": [
      "<Slide, name = 0124>, width=300, height=375, channels=3, levels=1, RGB=True, dtype=uint8> <valis.slide_io.VipsSlideReader object at 0x7f11bd1ba5a0> True (375, 300, 3)\n",
      "<Slide, name = 0125>, width=300, height=375, channels=3, levels=1, RGB=True, dtype=uint8> <valis.slide_io.VipsSlideReader object at 0x7f11bd19b020> True (375, 300, 3)\n",
      "<Slide, name = 0126>, width=300, height=375, channels=3, levels=1, RGB=True, dtype=uint8> <valis.slide_io.VipsSlideReader object at 0x7f11bcb502f0> True (375, 300, 3)\n",
      "<Slide, name = 0127>, width=300, height=375, channels=3, levels=1, RGB=True, dtype=uint8> <valis.slide_io.VipsSlideReader object at 0x7f11bccea660> True (375, 300, 3)\n",
      "<Slide, name = 0128>, width=300, height=375, channels=3, levels=1, RGB=True, dtype=uint8> <valis.slide_io.VipsSlideReader object at 0x7f11bd1887a0> True (375, 300, 3)\n",
      "<Slide, name = 0129>, width=300, height=375, channels=3, levels=1, RGB=True, dtype=uint8> <valis.slide_io.VipsSlideReader object at 0x7f11bcb516a0> True (375, 300, 3)\n",
      "<Slide, name = 0130>, width=300, height=375, channels=3, levels=1, RGB=True, dtype=uint8> <valis.slide_io.VipsSlideReader object at 0x7f11bcc6f590> True (375, 300, 3)\n",
      "<Slide, name = 0131>, width=300, height=375, channels=3, levels=1, RGB=True, dtype=uint8> <valis.slide_io.VipsSlideReader object at 0x7f11bd1c8fe0> True (375, 300, 3)\n",
      "<Slide, name = 0132>, width=300, height=375, channels=3, levels=1, RGB=True, dtype=uint8> <valis.slide_io.VipsSlideReader object at 0x7f11bcce9370> True (375, 300, 3)\n",
      "<Slide, name = 0133>, width=300, height=375, channels=3, levels=1, RGB=True, dtype=uint8> <valis.slide_io.VipsSlideReader object at 0x7f11bcb51940> True (375, 300, 3)\n"
     ]
    },
    {
     "name": "stderr",
     "output_type": "stream",
     "text": [
      "Converting images:   4%|▍         | 109/2627 [00:01<00:27, 91.44image/s]"
     ]
    },
    {
     "name": "stdout",
     "output_type": "stream",
     "text": [
      "<Slide, name = 0134>, width=300, height=375, channels=3, levels=1, RGB=True, dtype=uint8> <valis.slide_io.VipsSlideReader object at 0x7f11bcb50800> True (375, 300, 3)\n",
      "<Slide, name = 0135>, width=300, height=375, channels=3, levels=1, RGB=True, dtype=uint8> <valis.slide_io.VipsSlideReader object at 0x7f11bcb52180> True (375, 300, 3)\n",
      "<Slide, name = 0136>, width=300, height=375, channels=3, levels=1, RGB=True, dtype=uint8> <valis.slide_io.VipsSlideReader object at 0x7f11bd1c9700> True (375, 300, 3)\n",
      "<Slide, name = 0137>, width=300, height=375, channels=3, levels=1, RGB=True, dtype=uint8> <valis.slide_io.VipsSlideReader object at 0x7f11bcb50ec0> True (375, 300, 3)\n",
      "<Slide, name = 0138>, width=300, height=375, channels=3, levels=1, RGB=True, dtype=uint8> <valis.slide_io.VipsSlideReader object at 0x7f11bcb30350> True (375, 300, 3)\n",
      "<Slide, name = 0139>, width=300, height=375, channels=3, levels=1, RGB=True, dtype=uint8> <valis.slide_io.VipsSlideReader object at 0x7f11bcb52510> True (375, 300, 3)\n",
      "<Slide, name = 0140>, width=300, height=375, channels=3, levels=1, RGB=True, dtype=uint8> <valis.slide_io.VipsSlideReader object at 0x7f11bcb50050> True (375, 300, 3)\n",
      "<Slide, name = 0141>, width=300, height=375, channels=3, levels=1, RGB=True, dtype=uint8> <valis.slide_io.VipsSlideReader object at 0x7f11bcb51a90> True (375, 300, 3)\n",
      "<Slide, name = 0142>, width=300, height=375, channels=3, levels=1, RGB=True, dtype=uint8> <valis.slide_io.VipsSlideReader object at 0x7f11bd1ca6c0> True (375, 300, 3)\n",
      "<Slide, name = 0143>, width=300, height=375, channels=3, levels=1, RGB=True, dtype=uint8> <valis.slide_io.VipsSlideReader object at 0x7f11bccb0710> True (375, 300, 3)\n"
     ]
    },
    {
     "name": "stderr",
     "output_type": "stream",
     "text": [
      "Converting images:   5%|▍         | 119/2627 [00:01<00:27, 91.72image/s]"
     ]
    },
    {
     "name": "stdout",
     "output_type": "stream",
     "text": [
      "<Slide, name = 0144>, width=300, height=375, channels=3, levels=1, RGB=True, dtype=uint8> <valis.slide_io.VipsSlideReader object at 0x7f11bcb53b60> True (375, 300, 3)\n",
      "<Slide, name = 0145>, width=300, height=375, channels=3, levels=1, RGB=True, dtype=uint8> <valis.slide_io.VipsSlideReader object at 0x7f11bd1c9460> True (375, 300, 3)\n",
      "<Slide, name = 0146>, width=300, height=375, channels=3, levels=1, RGB=True, dtype=uint8> <valis.slide_io.VipsSlideReader object at 0x7f11bcb53a70> True (375, 300, 3)\n",
      "<Slide, name = 0147>, width=300, height=375, channels=3, levels=1, RGB=True, dtype=uint8> <valis.slide_io.VipsSlideReader object at 0x7f11bcb2a300> True (375, 300, 3)\n",
      "<Slide, name = 0148>, width=300, height=375, channels=3, levels=1, RGB=True, dtype=uint8> <valis.slide_io.VipsSlideReader object at 0x7f11bccea330> True (375, 300, 3)\n",
      "<Slide, name = 0149>, width=300, height=375, channels=3, levels=1, RGB=True, dtype=uint8> <valis.slide_io.VipsSlideReader object at 0x7f11bcb51040> True (375, 300, 3)\n",
      "<Slide, name = 0150>, width=300, height=375, channels=3, levels=1, RGB=True, dtype=uint8> <valis.slide_io.VipsSlideReader object at 0x7f11bcb53e60> True (375, 300, 3)\n",
      "<Slide, name = 0151>, width=300, height=375, channels=3, levels=1, RGB=True, dtype=uint8> <valis.slide_io.VipsSlideReader object at 0x7f11bcb50920> True (375, 300, 3)\n",
      "<Slide, name = 0152>, width=300, height=375, channels=3, levels=1, RGB=True, dtype=uint8> <valis.slide_io.VipsSlideReader object at 0x7f11bcb53200> True (375, 300, 3)\n",
      "<Slide, name = 0153>, width=300, height=375, channels=3, levels=1, RGB=True, dtype=uint8> <valis.slide_io.VipsSlideReader object at 0x7f11bcb51d00> True (375, 300, 3)\n"
     ]
    },
    {
     "name": "stderr",
     "output_type": "stream",
     "text": [
      "Converting images:   5%|▍         | 129/2627 [00:01<00:27, 92.10image/s]"
     ]
    },
    {
     "name": "stdout",
     "output_type": "stream",
     "text": [
      "<Slide, name = 0154>, width=300, height=375, channels=3, levels=1, RGB=True, dtype=uint8> <valis.slide_io.VipsSlideReader object at 0x7f11bcb51f40> True (375, 300, 3)\n",
      "<Slide, name = 0155>, width=300, height=375, channels=3, levels=1, RGB=True, dtype=uint8> <valis.slide_io.VipsSlideReader object at 0x7f11bcd19be0> True (375, 300, 3)\n",
      "<Slide, name = 0156>, width=300, height=375, channels=3, levels=1, RGB=True, dtype=uint8> <valis.slide_io.VipsSlideReader object at 0x7f11bcb50e60> True (375, 300, 3)\n",
      "<Slide, name = 0157>, width=300, height=375, channels=3, levels=1, RGB=True, dtype=uint8> <valis.slide_io.VipsSlideReader object at 0x7f11bcb516d0> True (375, 300, 3)\n",
      "<Slide, name = 0158>, width=300, height=375, channels=3, levels=1, RGB=True, dtype=uint8> <valis.slide_io.VipsSlideReader object at 0x7f11bcb38830> True (375, 300, 3)\n",
      "<Slide, name = 0159>, width=300, height=375, channels=3, levels=1, RGB=True, dtype=uint8> <valis.slide_io.VipsSlideReader object at 0x7f11bcb52690> True (375, 300, 3)\n",
      "<Slide, name = 0160>, width=300, height=375, channels=3, levels=1, RGB=True, dtype=uint8> <valis.slide_io.VipsSlideReader object at 0x7f11bcb4a7e0> True (375, 300, 3)\n",
      "<Slide, name = 0161>, width=300, height=375, channels=3, levels=1, RGB=True, dtype=uint8> <valis.slide_io.VipsSlideReader object at 0x7f11bcb2ebd0> True (375, 300, 3)\n",
      "<Slide, name = 0162>, width=300, height=375, channels=3, levels=1, RGB=True, dtype=uint8> <valis.slide_io.VipsSlideReader object at 0x7f11bcb2fc50> True (375, 300, 3)\n",
      "<Slide, name = 0163>, width=300, height=375, channels=3, levels=1, RGB=True, dtype=uint8> <valis.slide_io.VipsSlideReader object at 0x7f11bcb50290> True (375, 300, 3)\n"
     ]
    },
    {
     "name": "stderr",
     "output_type": "stream",
     "text": [
      "Converting images:   5%|▌         | 139/2627 [00:01<00:26, 92.58image/s]"
     ]
    },
    {
     "name": "stdout",
     "output_type": "stream",
     "text": [
      "<Slide, name = 0164>, width=300, height=375, channels=3, levels=1, RGB=True, dtype=uint8> <valis.slide_io.VipsSlideReader object at 0x7f11bcb51fa0> True (375, 300, 3)\n",
      "<Slide, name = 0165>, width=300, height=375, channels=3, levels=1, RGB=True, dtype=uint8> <valis.slide_io.VipsSlideReader object at 0x7f11bcb52750> True (375, 300, 3)\n",
      "<Slide, name = 0166>, width=300, height=375, channels=3, levels=1, RGB=True, dtype=uint8> <valis.slide_io.VipsSlideReader object at 0x7f11c1994a10> True (375, 300, 3)\n",
      "<Slide, name = 0167>, width=300, height=375, channels=3, levels=1, RGB=True, dtype=uint8> <valis.slide_io.VipsSlideReader object at 0x7f11bcb51820> True (375, 300, 3)\n",
      "<Slide, name = 0168>, width=300, height=375, channels=3, levels=1, RGB=True, dtype=uint8> <valis.slide_io.VipsSlideReader object at 0x7f11bcb533e0> True (375, 300, 3)\n",
      "<Slide, name = 0169>, width=300, height=375, channels=3, levels=1, RGB=True, dtype=uint8> <valis.slide_io.VipsSlideReader object at 0x7f11bccb01d0> True (375, 300, 3)\n",
      "<Slide, name = 0170>, width=300, height=375, channels=3, levels=1, RGB=True, dtype=uint8> <valis.slide_io.VipsSlideReader object at 0x7f11bcb525d0> True (375, 300, 3)\n",
      "<Slide, name = 0171>, width=300, height=375, channels=3, levels=1, RGB=True, dtype=uint8> <valis.slide_io.VipsSlideReader object at 0x7f11bcb52960> True (375, 300, 3)\n",
      "<Slide, name = 0172>, width=300, height=375, channels=3, levels=1, RGB=True, dtype=uint8> <valis.slide_io.VipsSlideReader object at 0x7f11bcb531d0> True (375, 300, 3)\n",
      "<Slide, name = 0173>, width=300, height=375, channels=3, levels=1, RGB=True, dtype=uint8> <valis.slide_io.VipsSlideReader object at 0x7f11bcce9d60> True (375, 300, 3)\n"
     ]
    },
    {
     "name": "stderr",
     "output_type": "stream",
     "text": [
      "Converting images:   6%|▌         | 149/2627 [00:01<00:27, 91.56image/s]"
     ]
    },
    {
     "name": "stdout",
     "output_type": "stream",
     "text": [
      "<Slide, name = 0174>, width=300, height=375, channels=3, levels=1, RGB=True, dtype=uint8> <valis.slide_io.VipsSlideReader object at 0x7f11bd1caab0> True (375, 300, 3)\n",
      "<Slide, name = 0175>, width=300, height=375, channels=3, levels=1, RGB=True, dtype=uint8> <valis.slide_io.VipsSlideReader object at 0x7f11bcb52d50> True (375, 300, 3)\n",
      "<Slide, name = 0176>, width=300, height=375, channels=3, levels=1, RGB=True, dtype=uint8> <valis.slide_io.VipsSlideReader object at 0x7f11bcb52db0> True (375, 300, 3)\n",
      "<Slide, name = 0177>, width=300, height=375, channels=3, levels=1, RGB=True, dtype=uint8> <valis.slide_io.VipsSlideReader object at 0x7f11bcb2dcd0> True (375, 300, 3)\n",
      "<Slide, name = 0178>, width=300, height=375, channels=3, levels=1, RGB=True, dtype=uint8> <valis.slide_io.VipsSlideReader object at 0x7f11bcb50e00> True (375, 300, 3)\n",
      "<Slide, name = 0179>, width=300, height=375, channels=3, levels=1, RGB=True, dtype=uint8> <valis.slide_io.VipsSlideReader object at 0x7f11bcb3d910> True (375, 300, 3)\n",
      "<Slide, name = 0180>, width=300, height=375, channels=3, levels=1, RGB=True, dtype=uint8> <valis.slide_io.VipsSlideReader object at 0x7f11bcceae10> True (375, 300, 3)\n",
      "<Slide, name = 0181>, width=300, height=375, channels=3, levels=1, RGB=True, dtype=uint8> <valis.slide_io.VipsSlideReader object at 0x7f11bcb52de0> True (375, 300, 3)\n",
      "<Slide, name = 0182>, width=300, height=375, channels=3, levels=1, RGB=True, dtype=uint8> <valis.slide_io.VipsSlideReader object at 0x7f11bcd1b350> True (375, 300, 3)\n",
      "<Slide, name = 0183>, width=300, height=375, channels=3, levels=1, RGB=True, dtype=uint8> <valis.slide_io.VipsSlideReader object at 0x7f11bcb52d80> True (375, 300, 3)\n"
     ]
    },
    {
     "name": "stderr",
     "output_type": "stream",
     "text": [
      "Converting images:   6%|▌         | 159/2627 [00:01<00:27, 90.89image/s]"
     ]
    },
    {
     "name": "stdout",
     "output_type": "stream",
     "text": [
      "<Slide, name = 0184>, width=300, height=375, channels=3, levels=1, RGB=True, dtype=uint8> <valis.slide_io.VipsSlideReader object at 0x7f11bd1cb470> True (375, 300, 3)\n",
      "<Slide, name = 0185>, width=300, height=375, channels=3, levels=1, RGB=True, dtype=uint8> <valis.slide_io.VipsSlideReader object at 0x7f11bcb4d790> True (375, 300, 3)\n",
      "<Slide, name = 0186>, width=300, height=375, channels=3, levels=1, RGB=True, dtype=uint8> <valis.slide_io.VipsSlideReader object at 0x7f11bd1cb740> True (375, 300, 3)\n",
      "<Slide, name = 0187>, width=300, height=375, channels=3, levels=1, RGB=True, dtype=uint8> <valis.slide_io.VipsSlideReader object at 0x7f11bcb2acf0> True (375, 300, 3)\n",
      "<Slide, name = 0188>, width=300, height=375, channels=3, levels=1, RGB=True, dtype=uint8> <valis.slide_io.VipsSlideReader object at 0x7f11bcb52c90> True (375, 300, 3)\n",
      "<Slide, name = 0189>, width=300, height=375, channels=3, levels=1, RGB=True, dtype=uint8> <valis.slide_io.VipsSlideReader object at 0x7f11bcb52210> True (375, 300, 3)\n",
      "<Slide, name = 0190>, width=300, height=375, channels=3, levels=1, RGB=True, dtype=uint8> <valis.slide_io.VipsSlideReader object at 0x7f11bcb50ef0> True (375, 300, 3)\n",
      "<Slide, name = 0191>, width=300, height=375, channels=3, levels=1, RGB=True, dtype=uint8> <valis.slide_io.VipsSlideReader object at 0x7f11bcb537a0> True (375, 300, 3)\n",
      "<Slide, name = 0192>, width=300, height=375, channels=3, levels=1, RGB=True, dtype=uint8> <valis.slide_io.VipsSlideReader object at 0x7f11bcb519d0> True (375, 300, 3)\n",
      "<Slide, name = 0193>, width=300, height=375, channels=3, levels=1, RGB=True, dtype=uint8> <valis.slide_io.VipsSlideReader object at 0x7f11bcb53530> True (375, 300, 3)\n"
     ]
    },
    {
     "name": "stderr",
     "output_type": "stream",
     "text": [
      "Converting images:   6%|▋         | 169/2627 [00:01<00:27, 90.78image/s]"
     ]
    },
    {
     "name": "stdout",
     "output_type": "stream",
     "text": [
      "<Slide, name = 0194>, width=300, height=375, channels=3, levels=1, RGB=True, dtype=uint8> <valis.slide_io.VipsSlideReader object at 0x7f11bcb5f470> True (375, 300, 3)\n",
      "<Slide, name = 0195>, width=300, height=375, channels=3, levels=1, RGB=True, dtype=uint8> <valis.slide_io.VipsSlideReader object at 0x7f11bcb5cfb0> True (375, 300, 3)\n",
      "<Slide, name = 0196>, width=300, height=375, channels=3, levels=1, RGB=True, dtype=uint8> <valis.slide_io.VipsSlideReader object at 0x7f11bcb5f410> True (375, 300, 3)\n",
      "<Slide, name = 0197>, width=300, height=375, channels=3, levels=1, RGB=True, dtype=uint8> <valis.slide_io.VipsSlideReader object at 0x7f11bcb3f440> True (375, 300, 3)\n",
      "<Slide, name = 0198>, width=300, height=375, channels=3, levels=1, RGB=True, dtype=uint8> <valis.slide_io.VipsSlideReader object at 0x7f11bcb2f500> True (375, 300, 3)\n",
      "<Slide, name = 0201>, width=300, height=375, channels=3, levels=1, RGB=True, dtype=uint8> <valis.slide_io.VipsSlideReader object at 0x7f11bcb5ff50> True (375, 300, 3)\n",
      "<Slide, name = 0202>, width=300, height=375, channels=3, levels=1, RGB=True, dtype=uint8> <valis.slide_io.VipsSlideReader object at 0x7f11bccaf230> True (375, 300, 3)\n",
      "<Slide, name = 0203>, width=300, height=375, channels=3, levels=1, RGB=True, dtype=uint8> <valis.slide_io.VipsSlideReader object at 0x7f11bcb5f350> True (375, 300, 3)\n",
      "<Slide, name = 0204>, width=300, height=375, channels=3, levels=1, RGB=True, dtype=uint8> <valis.slide_io.VipsSlideReader object at 0x7f11bcb5e6f0> True (375, 300, 3)\n",
      "<Slide, name = 0205>, width=300, height=375, channels=3, levels=1, RGB=True, dtype=uint8> <valis.slide_io.VipsSlideReader object at 0x7f11bcb5f830> True (375, 300, 3)\n"
     ]
    },
    {
     "name": "stderr",
     "output_type": "stream",
     "text": [
      "Converting images:   7%|▋         | 179/2627 [00:01<00:26, 90.70image/s]"
     ]
    },
    {
     "name": "stdout",
     "output_type": "stream",
     "text": [
      "<Slide, name = 0206>, width=300, height=375, channels=3, levels=1, RGB=True, dtype=uint8> <valis.slide_io.VipsSlideReader object at 0x7f11bcb5f4d0> True (375, 300, 3)\n",
      "<Slide, name = 0207>, width=300, height=375, channels=3, levels=1, RGB=True, dtype=uint8> <valis.slide_io.VipsSlideReader object at 0x7f11bd1b96a0> True (375, 300, 3)\n",
      "<Slide, name = 0208>, width=300, height=375, channels=3, levels=1, RGB=True, dtype=uint8> <valis.slide_io.VipsSlideReader object at 0x7f11bcb524e0> True (375, 300, 3)\n",
      "<Slide, name = 0209>, width=300, height=375, channels=3, levels=1, RGB=True, dtype=uint8> <valis.slide_io.VipsSlideReader object at 0x7f11bcb61280> True (375, 300, 3)\n",
      "<Slide, name = 0210>, width=300, height=375, channels=3, levels=1, RGB=True, dtype=uint8> <valis.slide_io.VipsSlideReader object at 0x7f11bd1b9880> True (375, 300, 3)\n",
      "<Slide, name = 0211>, width=300, height=375, channels=3, levels=1, RGB=True, dtype=uint8> <valis.slide_io.VipsSlideReader object at 0x7f11bcb518b0> True (375, 300, 3)\n",
      "<Slide, name = 0212>, width=300, height=375, channels=3, levels=1, RGB=True, dtype=uint8> <valis.slide_io.VipsSlideReader object at 0x7f11bd1c97f0> True (375, 300, 3)\n",
      "<Slide, name = 0213>, width=300, height=375, channels=3, levels=1, RGB=True, dtype=uint8> <valis.slide_io.VipsSlideReader object at 0x7f11bcb51be0> True (375, 300, 3)\n",
      "<Slide, name = 0214>, width=300, height=375, channels=3, levels=1, RGB=True, dtype=uint8> <valis.slide_io.VipsSlideReader object at 0x7f11bd1ca4b0> True (375, 300, 3)\n",
      "<Slide, name = 0215>, width=300, height=375, channels=3, levels=1, RGB=True, dtype=uint8> <valis.slide_io.VipsSlideReader object at 0x7f11bcb51ca0> True (375, 300, 3)\n"
     ]
    },
    {
     "name": "stderr",
     "output_type": "stream",
     "text": [
      "Converting images:   7%|▋         | 189/2627 [00:02<00:26, 91.16image/s]"
     ]
    },
    {
     "name": "stdout",
     "output_type": "stream",
     "text": [
      "<Slide, name = 0216>, width=300, height=375, channels=3, levels=1, RGB=True, dtype=uint8> <valis.slide_io.VipsSlideReader object at 0x7f11bcb61d00> True (375, 300, 3)\n",
      "<Slide, name = 0217>, width=300, height=375, channels=3, levels=1, RGB=True, dtype=uint8> <valis.slide_io.VipsSlideReader object at 0x7f11bcb51970> True (375, 300, 3)\n",
      "<Slide, name = 0218>, width=300, height=375, channels=3, levels=1, RGB=True, dtype=uint8> <valis.slide_io.VipsSlideReader object at 0x7f11bcb61b50> True (375, 300, 3)\n",
      "<Slide, name = 0219>, width=300, height=375, channels=3, levels=1, RGB=True, dtype=uint8> <valis.slide_io.VipsSlideReader object at 0x7f11bcb51d30> True (375, 300, 3)\n",
      "<Slide, name = 0220>, width=300, height=375, channels=3, levels=1, RGB=True, dtype=uint8> <valis.slide_io.VipsSlideReader object at 0x7f11bcb61dc0> True (375, 300, 3)\n",
      "<Slide, name = 0221>, width=300, height=375, channels=3, levels=1, RGB=True, dtype=uint8> <valis.slide_io.VipsSlideReader object at 0x7f11bcb619d0> True (375, 300, 3)\n",
      "<Slide, name = 0222>, width=300, height=375, channels=3, levels=1, RGB=True, dtype=uint8> <valis.slide_io.VipsSlideReader object at 0x7f11bcb62570> True (375, 300, 3)\n",
      "<Slide, name = 0223>, width=300, height=375, channels=3, levels=1, RGB=True, dtype=uint8> <valis.slide_io.VipsSlideReader object at 0x7f11bcb63b60> True (375, 300, 3)\n",
      "<Slide, name = 0224>, width=300, height=375, channels=3, levels=1, RGB=True, dtype=uint8> <valis.slide_io.VipsSlideReader object at 0x7f11bcd1bc20> True (375, 300, 3)\n",
      "<Slide, name = 0225>, width=300, height=375, channels=3, levels=1, RGB=True, dtype=uint8> <valis.slide_io.VipsSlideReader object at 0x7f11bcb51850> True (375, 300, 3)\n"
     ]
    },
    {
     "name": "stderr",
     "output_type": "stream",
     "text": [
      "Converting images:   8%|▊         | 199/2627 [00:02<00:26, 91.56image/s]"
     ]
    },
    {
     "name": "stdout",
     "output_type": "stream",
     "text": [
      "<Slide, name = 0226>, width=300, height=375, channels=3, levels=1, RGB=True, dtype=uint8> <valis.slide_io.VipsSlideReader object at 0x7f11bcb4bbf0> True (375, 300, 3)\n",
      "<Slide, name = 0227>, width=300, height=375, channels=3, levels=1, RGB=True, dtype=uint8> <valis.slide_io.VipsSlideReader object at 0x7f11bcb61730> True (375, 300, 3)\n",
      "<Slide, name = 0228>, width=300, height=375, channels=3, levels=1, RGB=True, dtype=uint8> <valis.slide_io.VipsSlideReader object at 0x7f11bcb63d40> True (375, 300, 3)\n",
      "<Slide, name = 0229>, width=300, height=375, channels=3, levels=1, RGB=True, dtype=uint8> <valis.slide_io.VipsSlideReader object at 0x7f11bcb60f50> True (375, 300, 3)\n",
      "<Slide, name = 0230>, width=300, height=375, channels=3, levels=1, RGB=True, dtype=uint8> <valis.slide_io.VipsSlideReader object at 0x7f11bcb620f0> True (375, 300, 3)\n",
      "<Slide, name = 0231>, width=300, height=375, channels=3, levels=1, RGB=True, dtype=uint8> <valis.slide_io.VipsSlideReader object at 0x7f11bcb61e50> True (375, 300, 3)\n",
      "<Slide, name = 0232>, width=300, height=375, channels=3, levels=1, RGB=True, dtype=uint8> <valis.slide_io.VipsSlideReader object at 0x7f11bcb61c70> True (375, 300, 3)\n",
      "<Slide, name = 0233>, width=300, height=375, channels=3, levels=1, RGB=True, dtype=uint8> <valis.slide_io.VipsSlideReader object at 0x7f11bcb63c80> True (375, 300, 3)\n",
      "<Slide, name = 0234>, width=300, height=375, channels=3, levels=1, RGB=True, dtype=uint8> <valis.slide_io.VipsSlideReader object at 0x7f11bcb63d70> True (375, 300, 3)\n",
      "<Slide, name = 0235>, width=300, height=375, channels=3, levels=1, RGB=True, dtype=uint8> <valis.slide_io.VipsSlideReader object at 0x7f11bcb63dd0> True (375, 300, 3)\n"
     ]
    },
    {
     "name": "stderr",
     "output_type": "stream",
     "text": [
      "Converting images:   8%|▊         | 209/2627 [00:02<00:26, 91.93image/s]"
     ]
    },
    {
     "name": "stdout",
     "output_type": "stream",
     "text": [
      "<Slide, name = 0236>, width=300, height=375, channels=3, levels=1, RGB=True, dtype=uint8> <valis.slide_io.VipsSlideReader object at 0x7f11bcb53e00> True (375, 300, 3)\n",
      "<Slide, name = 0237>, width=300, height=375, channels=3, levels=1, RGB=True, dtype=uint8> <valis.slide_io.VipsSlideReader object at 0x7f11bcb3c650> True (375, 300, 3)\n",
      "<Slide, name = 0238>, width=300, height=375, channels=3, levels=1, RGB=True, dtype=uint8> <valis.slide_io.VipsSlideReader object at 0x7f11bcb63ec0> True (375, 300, 3)\n",
      "<Slide, name = 0239>, width=300, height=375, channels=3, levels=1, RGB=True, dtype=uint8> <valis.slide_io.VipsSlideReader object at 0x7f11bcb63e60> True (375, 300, 3)\n",
      "<Slide, name = 0240>, width=300, height=375, channels=3, levels=1, RGB=True, dtype=uint8> <valis.slide_io.VipsSlideReader object at 0x7f11bcb64260> True (375, 300, 3)\n",
      "<Slide, name = 0241>, width=300, height=375, channels=3, levels=1, RGB=True, dtype=uint8> <valis.slide_io.VipsSlideReader object at 0x7f11bcb64110> True (375, 300, 3)\n",
      "<Slide, name = 0242>, width=300, height=375, channels=3, levels=1, RGB=True, dtype=uint8> <valis.slide_io.VipsSlideReader object at 0x7f11bcb64050> True (375, 300, 3)\n",
      "<Slide, name = 0243>, width=300, height=375, channels=3, levels=1, RGB=True, dtype=uint8> <valis.slide_io.VipsSlideReader object at 0x7f11bcb640e0> True (375, 300, 3)\n",
      "<Slide, name = 0244>, width=300, height=375, channels=3, levels=1, RGB=True, dtype=uint8> <valis.slide_io.VipsSlideReader object at 0x7f11bcb541a0> True (375, 300, 3)\n",
      "<Slide, name = 0245>, width=300, height=375, channels=3, levels=1, RGB=True, dtype=uint8> <valis.slide_io.VipsSlideReader object at 0x7f11bcb3c530> True (375, 300, 3)\n"
     ]
    },
    {
     "name": "stderr",
     "output_type": "stream",
     "text": [
      "Converting images:   8%|▊         | 219/2627 [00:02<00:25, 92.69image/s]"
     ]
    },
    {
     "name": "stdout",
     "output_type": "stream",
     "text": [
      "<Slide, name = 0246>, width=300, height=375, channels=3, levels=1, RGB=True, dtype=uint8> <valis.slide_io.VipsSlideReader object at 0x7f11bcb644d0> True (375, 300, 3)\n",
      "<Slide, name = 0247>, width=300, height=375, channels=3, levels=1, RGB=True, dtype=uint8> <valis.slide_io.VipsSlideReader object at 0x7f11bcd1c3e0> True (375, 300, 3)\n",
      "<Slide, name = 0248>, width=300, height=375, channels=3, levels=1, RGB=True, dtype=uint8> <valis.slide_io.VipsSlideReader object at 0x7f11bcb4c680> True (375, 300, 3)\n",
      "<Slide, name = 0249>, width=300, height=375, channels=3, levels=1, RGB=True, dtype=uint8> <valis.slide_io.VipsSlideReader object at 0x7f11bcb642c0> True (375, 300, 3)\n",
      "<Slide, name = 0250>, width=300, height=375, channels=3, levels=1, RGB=True, dtype=uint8> <valis.slide_io.VipsSlideReader object at 0x7f11bcd1c500> True (375, 300, 3)\n",
      "<Slide, name = 0251>, width=300, height=375, channels=3, levels=1, RGB=True, dtype=uint8> <valis.slide_io.VipsSlideReader object at 0x7f11bcb64350> True (375, 300, 3)\n",
      "<Slide, name = 0252>, width=300, height=375, channels=3, levels=1, RGB=True, dtype=uint8> <valis.slide_io.VipsSlideReader object at 0x7f11bcb645c0> True (375, 300, 3)\n",
      "<Slide, name = 0253>, width=300, height=375, channels=3, levels=1, RGB=True, dtype=uint8> <valis.slide_io.VipsSlideReader object at 0x7f11bcb3c7a0> True (375, 300, 3)\n",
      "<Slide, name = 0254>, width=300, height=375, channels=3, levels=1, RGB=True, dtype=uint8> <valis.slide_io.VipsSlideReader object at 0x7f11bcb640b0> True (375, 300, 3)\n",
      "<Slide, name = 0255>, width=300, height=375, channels=3, levels=1, RGB=True, dtype=uint8> <valis.slide_io.VipsSlideReader object at 0x7f11bcb64620> True (375, 300, 3)\n"
     ]
    },
    {
     "name": "stderr",
     "output_type": "stream",
     "text": [
      "Converting images:   9%|▊         | 229/2627 [00:02<00:25, 92.93image/s]"
     ]
    },
    {
     "name": "stdout",
     "output_type": "stream",
     "text": [
      "<Slide, name = 0256>, width=300, height=375, channels=3, levels=1, RGB=True, dtype=uint8> <valis.slide_io.VipsSlideReader object at 0x7f11bcb64800> True (375, 300, 3)\n",
      "<Slide, name = 0257>, width=300, height=375, channels=3, levels=1, RGB=True, dtype=uint8> <valis.slide_io.VipsSlideReader object at 0x7f11bcb54410> True (375, 300, 3)\n",
      "<Slide, name = 0258>, width=300, height=375, channels=3, levels=1, RGB=True, dtype=uint8> <valis.slide_io.VipsSlideReader object at 0x7f11bcb648f0> True (375, 300, 3)\n",
      "<Slide, name = 0259>, width=300, height=375, channels=3, levels=1, RGB=True, dtype=uint8> <valis.slide_io.VipsSlideReader object at 0x7f11bcce49b0> True (375, 300, 3)\n",
      "<Slide, name = 0260>, width=300, height=375, channels=3, levels=1, RGB=True, dtype=uint8> <valis.slide_io.VipsSlideReader object at 0x7f11bd1b9550> True (375, 300, 3)\n",
      "<Slide, name = 0261>, width=300, height=375, channels=3, levels=1, RGB=True, dtype=uint8> <valis.slide_io.VipsSlideReader object at 0x7f11bcb64710> True (375, 300, 3)\n",
      "<Slide, name = 0262>, width=300, height=375, channels=3, levels=1, RGB=True, dtype=uint8> <valis.slide_io.VipsSlideReader object at 0x7f11bcce49e0> True (375, 300, 3)\n",
      "<Slide, name = 0263>, width=300, height=375, channels=3, levels=1, RGB=True, dtype=uint8> <valis.slide_io.VipsSlideReader object at 0x7f11bcb64e30> True (375, 300, 3)\n",
      "<Slide, name = 0264>, width=300, height=375, channels=3, levels=1, RGB=True, dtype=uint8> <valis.slide_io.VipsSlideReader object at 0x7f11bcb64c50> True (375, 300, 3)\n",
      "<Slide, name = 0265>, width=300, height=375, channels=3, levels=1, RGB=True, dtype=uint8> <valis.slide_io.VipsSlideReader object at 0x7f11bcb64ad0> True (375, 300, 3)\n"
     ]
    },
    {
     "name": "stderr",
     "output_type": "stream",
     "text": [
      "Converting images:   9%|▉         | 239/2627 [00:02<00:25, 92.35image/s]"
     ]
    },
    {
     "name": "stdout",
     "output_type": "stream",
     "text": [
      "<Slide, name = 0266>, width=300, height=375, channels=3, levels=1, RGB=True, dtype=uint8> <valis.slide_io.VipsSlideReader object at 0x7f11bcb64b00> True (375, 300, 3)\n",
      "<Slide, name = 0267>, width=300, height=375, channels=3, levels=1, RGB=True, dtype=uint8> <valis.slide_io.VipsSlideReader object at 0x7f11bcb64cb0> True (375, 300, 3)\n",
      "<Slide, name = 0268>, width=300, height=375, channels=3, levels=1, RGB=True, dtype=uint8> <valis.slide_io.VipsSlideReader object at 0x7f11bcb64ec0> True (375, 300, 3)\n",
      "<Slide, name = 0269>, width=300, height=375, channels=3, levels=1, RGB=True, dtype=uint8> <valis.slide_io.VipsSlideReader object at 0x7f11bcb64f20> True (375, 300, 3)\n",
      "<Slide, name = 0270>, width=300, height=375, channels=3, levels=1, RGB=True, dtype=uint8> <valis.slide_io.VipsSlideReader object at 0x7f11bcb64f80> True (375, 300, 3)\n",
      "<Slide, name = 0271>, width=300, height=375, channels=3, levels=1, RGB=True, dtype=uint8> <valis.slide_io.VipsSlideReader object at 0x7f11bcb64fe0> True (375, 300, 3)\n",
      "<Slide, name = 0272>, width=300, height=375, channels=3, levels=1, RGB=True, dtype=uint8> <valis.slide_io.VipsSlideReader object at 0x7f11bcb65040> True (375, 300, 3)\n",
      "<Slide, name = 0273>, width=300, height=375, channels=3, levels=1, RGB=True, dtype=uint8> <valis.slide_io.VipsSlideReader object at 0x7f11bcb650a0> True (375, 300, 3)\n",
      "<Slide, name = 0274>, width=300, height=375, channels=3, levels=1, RGB=True, dtype=uint8> <valis.slide_io.VipsSlideReader object at 0x7f11bcb65100> True (375, 300, 3)\n",
      "<Slide, name = 0275>, width=300, height=375, channels=3, levels=1, RGB=True, dtype=uint8> <valis.slide_io.VipsSlideReader object at 0x7f11bcb65160> True (375, 300, 3)\n"
     ]
    },
    {
     "name": "stderr",
     "output_type": "stream",
     "text": [
      "Converting images:   9%|▉         | 249/2627 [00:02<00:25, 92.51image/s]"
     ]
    },
    {
     "name": "stdout",
     "output_type": "stream",
     "text": [
      "<Slide, name = 0276>, width=300, height=375, channels=3, levels=1, RGB=True, dtype=uint8> <valis.slide_io.VipsSlideReader object at 0x7f11bcb651c0> True (375, 300, 3)\n",
      "<Slide, name = 0277>, width=300, height=375, channels=3, levels=1, RGB=True, dtype=uint8> <valis.slide_io.VipsSlideReader object at 0x7f11bcb65220> True (375, 300, 3)\n",
      "<Slide, name = 0278>, width=300, height=375, channels=3, levels=1, RGB=True, dtype=uint8> <valis.slide_io.VipsSlideReader object at 0x7f11bcb65280> True (375, 300, 3)\n",
      "<Slide, name = 0279>, width=300, height=375, channels=3, levels=1, RGB=True, dtype=uint8> <valis.slide_io.VipsSlideReader object at 0x7f11bcb652e0> True (375, 300, 3)\n",
      "<Slide, name = 0280>, width=300, height=375, channels=3, levels=1, RGB=True, dtype=uint8> <valis.slide_io.VipsSlideReader object at 0x7f11bcb65340> True (375, 300, 3)\n",
      "<Slide, name = 0281>, width=300, height=375, channels=3, levels=1, RGB=True, dtype=uint8> <valis.slide_io.VipsSlideReader object at 0x7f11bcb653a0> True (375, 300, 3)\n",
      "<Slide, name = 0282>, width=300, height=375, channels=3, levels=1, RGB=True, dtype=uint8> <valis.slide_io.VipsSlideReader object at 0x7f11bcb65400> True (375, 300, 3)\n",
      "<Slide, name = 0283>, width=300, height=375, channels=3, levels=1, RGB=True, dtype=uint8> <valis.slide_io.VipsSlideReader object at 0x7f11bcb51490> True (375, 300, 3)\n",
      "<Slide, name = 0284>, width=300, height=375, channels=3, levels=1, RGB=True, dtype=uint8> <valis.slide_io.VipsSlideReader object at 0x7f11bcb655e0> True (375, 300, 3)\n",
      "<Slide, name = 0285>, width=300, height=375, channels=3, levels=1, RGB=True, dtype=uint8> <valis.slide_io.VipsSlideReader object at 0x7f11bcb65520> True (375, 300, 3)\n"
     ]
    },
    {
     "name": "stderr",
     "output_type": "stream",
     "text": [
      "Converting images:  10%|▉         | 259/2627 [00:02<00:25, 92.85image/s]"
     ]
    },
    {
     "name": "stdout",
     "output_type": "stream",
     "text": [
      "<Slide, name = 0286>, width=300, height=375, channels=3, levels=1, RGB=True, dtype=uint8> <valis.slide_io.VipsSlideReader object at 0x7f11bcb652b0> True (375, 300, 3)\n",
      "<Slide, name = 0287>, width=300, height=375, channels=3, levels=1, RGB=True, dtype=uint8> <valis.slide_io.VipsSlideReader object at 0x7f11bcb653d0> True (375, 300, 3)\n",
      "<Slide, name = 0288>, width=300, height=375, channels=3, levels=1, RGB=True, dtype=uint8> <valis.slide_io.VipsSlideReader object at 0x7f11bcb65610> True (375, 300, 3)\n",
      "<Slide, name = 0289>, width=300, height=375, channels=3, levels=1, RGB=True, dtype=uint8> <valis.slide_io.VipsSlideReader object at 0x7f11bcb65670> True (375, 300, 3)\n",
      "<Slide, name = 0290>, width=300, height=375, channels=3, levels=1, RGB=True, dtype=uint8> <valis.slide_io.VipsSlideReader object at 0x7f11bcb656d0> True (375, 300, 3)\n",
      "<Slide, name = 0291>, width=300, height=375, channels=3, levels=1, RGB=True, dtype=uint8> <valis.slide_io.VipsSlideReader object at 0x7f11bcb3da00> True (375, 300, 3)\n",
      "<Slide, name = 0292>, width=300, height=375, channels=3, levels=1, RGB=True, dtype=uint8> <valis.slide_io.VipsSlideReader object at 0x7f11bcb65790> True (375, 300, 3)\n",
      "<Slide, name = 0293>, width=300, height=375, channels=3, levels=1, RGB=True, dtype=uint8> <valis.slide_io.VipsSlideReader object at 0x7f11bcb61a90> True (375, 300, 3)\n",
      "<Slide, name = 0294>, width=300, height=375, channels=3, levels=1, RGB=True, dtype=uint8> <valis.slide_io.VipsSlideReader object at 0x7f11bcb65940> True (375, 300, 3)\n",
      "<Slide, name = 0295>, width=300, height=375, channels=3, levels=1, RGB=True, dtype=uint8> <valis.slide_io.VipsSlideReader object at 0x7f11bcb65880> True (375, 300, 3)\n"
     ]
    },
    {
     "name": "stderr",
     "output_type": "stream",
     "text": [
      "Converting images:  10%|█         | 269/2627 [00:02<00:25, 93.06image/s]"
     ]
    },
    {
     "name": "stdout",
     "output_type": "stream",
     "text": [
      "<Slide, name = 0296>, width=300, height=375, channels=3, levels=1, RGB=True, dtype=uint8> <valis.slide_io.VipsSlideReader object at 0x7f11bcb65640> True (375, 300, 3)\n",
      "<Slide, name = 0297>, width=300, height=375, channels=3, levels=1, RGB=True, dtype=uint8> <valis.slide_io.VipsSlideReader object at 0x7f11bcb2a750> True (375, 300, 3)\n",
      "<Slide, name = 0298>, width=300, height=375, channels=3, levels=1, RGB=True, dtype=uint8> <valis.slide_io.VipsSlideReader object at 0x7f11bcb65a90> True (375, 300, 3)\n",
      "<Slide, name = 0299>, width=300, height=375, channels=3, levels=1, RGB=True, dtype=uint8> <valis.slide_io.VipsSlideReader object at 0x7f11bcb659d0> True (375, 300, 3)\n",
      "<Slide, name = 0300>, width=300, height=375, channels=3, levels=1, RGB=True, dtype=uint8> <valis.slide_io.VipsSlideReader object at 0x7f11bcb51610> True (375, 300, 3)\n",
      "<Slide, name = 0301>, width=300, height=375, channels=3, levels=1, RGB=True, dtype=uint8> <valis.slide_io.VipsSlideReader object at 0x7f11bcb65b80> True (375, 300, 3)\n",
      "<Slide, name = 0302>, width=300, height=375, channels=3, levels=1, RGB=True, dtype=uint8> <valis.slide_io.VipsSlideReader object at 0x7f11bcb65ac0> True (375, 300, 3)\n",
      "<Slide, name = 0303>, width=300, height=375, channels=3, levels=1, RGB=True, dtype=uint8> <valis.slide_io.VipsSlideReader object at 0x7f11bcb51e50> True (375, 300, 3)\n",
      "<Slide, name = 0304>, width=300, height=375, channels=3, levels=1, RGB=True, dtype=uint8> <valis.slide_io.VipsSlideReader object at 0x7f11bcb65c70> True (375, 300, 3)\n",
      "<Slide, name = 0305>, width=300, height=375, channels=3, levels=1, RGB=True, dtype=uint8> <valis.slide_io.VipsSlideReader object at 0x7f11bcb65bb0> True (375, 300, 3)\n"
     ]
    },
    {
     "name": "stderr",
     "output_type": "stream",
     "text": [
      "Converting images:  11%|█         | 279/2627 [00:03<00:25, 93.19image/s]"
     ]
    },
    {
     "name": "stdout",
     "output_type": "stream",
     "text": [
      "<Slide, name = 0306>, width=300, height=375, channels=3, levels=1, RGB=True, dtype=uint8> <valis.slide_io.VipsSlideReader object at 0x7f11bcb65820> True (375, 300, 3)\n",
      "<Slide, name = 0307>, width=300, height=375, channels=3, levels=1, RGB=True, dtype=uint8> <valis.slide_io.VipsSlideReader object at 0x7f11bcb65910> True (375, 300, 3)\n",
      "<Slide, name = 0308>, width=300, height=375, channels=3, levels=1, RGB=True, dtype=uint8> <valis.slide_io.VipsSlideReader object at 0x7f11bcb65ca0> True (375, 300, 3)\n",
      "<Slide, name = 0309>, width=300, height=375, channels=3, levels=1, RGB=True, dtype=uint8> <valis.slide_io.VipsSlideReader object at 0x7f11bcb65d00> True (375, 300, 3)\n",
      "<Slide, name = 0310>, width=300, height=375, channels=3, levels=1, RGB=True, dtype=uint8> <valis.slide_io.VipsSlideReader object at 0x7f11bcb65d60> True (375, 300, 3)\n",
      "<Slide, name = 0311>, width=300, height=375, channels=3, levels=1, RGB=True, dtype=uint8> <valis.slide_io.VipsSlideReader object at 0x7f11bcb65dc0> True (375, 300, 3)\n",
      "<Slide, name = 0312>, width=300, height=375, channels=3, levels=1, RGB=True, dtype=uint8> <valis.slide_io.VipsSlideReader object at 0x7f11bcb65e20> True (375, 300, 3)\n",
      "<Slide, name = 0313>, width=300, height=375, channels=3, levels=1, RGB=True, dtype=uint8> <valis.slide_io.VipsSlideReader object at 0x7f11bcb65e80> True (375, 300, 3)\n",
      "<Slide, name = 0314>, width=300, height=375, channels=3, levels=1, RGB=True, dtype=uint8> <valis.slide_io.VipsSlideReader object at 0x7f11bcb65ee0> True (375, 300, 3)\n",
      "<Slide, name = 0315>, width=300, height=375, channels=3, levels=1, RGB=True, dtype=uint8> <valis.slide_io.VipsSlideReader object at 0x7f11bcb4ad50> True (375, 300, 3)\n"
     ]
    },
    {
     "name": "stderr",
     "output_type": "stream",
     "text": [
      "Converting images:  11%|█         | 289/2627 [00:03<00:25, 92.43image/s]"
     ]
    },
    {
     "name": "stdout",
     "output_type": "stream",
     "text": [
      "<Slide, name = 0316>, width=300, height=375, channels=3, levels=1, RGB=True, dtype=uint8> <valis.slide_io.VipsSlideReader object at 0x7f11bcb660c0> True (375, 300, 3)\n",
      "<Slide, name = 0317>, width=300, height=375, channels=3, levels=1, RGB=True, dtype=uint8> <valis.slide_io.VipsSlideReader object at 0x7f11bcd1b950> True (375, 300, 3)\n",
      "<Slide, name = 0318>, width=300, height=375, channels=3, levels=1, RGB=True, dtype=uint8> <valis.slide_io.VipsSlideReader object at 0x7f11bcb66150> True (375, 300, 3)\n",
      "<Slide, name = 0319>, width=300, height=375, channels=3, levels=1, RGB=True, dtype=uint8> <valis.slide_io.VipsSlideReader object at 0x7f11bcb65eb0> True (375, 300, 3)\n",
      "<Slide, name = 0320>, width=300, height=375, channels=3, levels=1, RGB=True, dtype=uint8> <valis.slide_io.VipsSlideReader object at 0x7f11bcb65e50> True (375, 300, 3)\n",
      "<Slide, name = 0321>, width=300, height=375, channels=3, levels=1, RGB=True, dtype=uint8> <valis.slide_io.VipsSlideReader object at 0x7f11bcb65fd0> True (375, 300, 3)\n",
      "<Slide, name = 0322>, width=300, height=375, channels=3, levels=1, RGB=True, dtype=uint8> <valis.slide_io.VipsSlideReader object at 0x7f11bcb66180> True (375, 300, 3)\n",
      "<Slide, name = 0323>, width=300, height=375, channels=3, levels=1, RGB=True, dtype=uint8> <valis.slide_io.VipsSlideReader object at 0x7f11bcb661e0> True (375, 300, 3)\n",
      "<Slide, name = 0324>, width=300, height=375, channels=3, levels=1, RGB=True, dtype=uint8> <valis.slide_io.VipsSlideReader object at 0x7f11bcb66240> True (375, 300, 3)\n",
      "<Slide, name = 0325>, width=300, height=375, channels=3, levels=1, RGB=True, dtype=uint8> <valis.slide_io.VipsSlideReader object at 0x7f11bcb662a0> True (375, 300, 3)\n"
     ]
    },
    {
     "name": "stderr",
     "output_type": "stream",
     "text": [
      "Converting images:  11%|█▏        | 299/2627 [00:03<00:25, 92.07image/s]"
     ]
    },
    {
     "name": "stdout",
     "output_type": "stream",
     "text": [
      "<Slide, name = 0326>, width=300, height=375, channels=3, levels=1, RGB=True, dtype=uint8> <valis.slide_io.VipsSlideReader object at 0x7f11bcb66300> True (375, 300, 3)\n",
      "<Slide, name = 0327>, width=300, height=375, channels=3, levels=1, RGB=True, dtype=uint8> <valis.slide_io.VipsSlideReader object at 0x7f11bcb66360> True (375, 300, 3)\n",
      "<Slide, name = 0328>, width=300, height=375, channels=3, levels=1, RGB=True, dtype=uint8> <valis.slide_io.VipsSlideReader object at 0x7f11bcb50350> True (375, 300, 3)\n",
      "<Slide, name = 0329>, width=300, height=375, channels=3, levels=1, RGB=True, dtype=uint8> <valis.slide_io.VipsSlideReader object at 0x7f11bcb50950> True (375, 300, 3)\n",
      "<Slide, name = 0330>, width=300, height=375, channels=3, levels=1, RGB=True, dtype=uint8> <valis.slide_io.VipsSlideReader object at 0x7f11bd1ca990> True (375, 300, 3)\n",
      "<Slide, name = 0331>, width=300, height=375, channels=3, levels=1, RGB=True, dtype=uint8> <valis.slide_io.VipsSlideReader object at 0x7f11bcb665a0> True (375, 300, 3)\n",
      "<Slide, name = 0332>, width=300, height=375, channels=3, levels=1, RGB=True, dtype=uint8> <valis.slide_io.VipsSlideReader object at 0x7f11bcb659a0> True (375, 300, 3)\n",
      "<Slide, name = 0333>, width=300, height=375, channels=3, levels=1, RGB=True, dtype=uint8> <valis.slide_io.VipsSlideReader object at 0x7f11bcb661b0> True (375, 300, 3)\n",
      "<Slide, name = 0334>, width=300, height=375, channels=3, levels=1, RGB=True, dtype=uint8> <valis.slide_io.VipsSlideReader object at 0x7f11bcb66480> True (375, 300, 3)\n",
      "<Slide, name = 0335>, width=300, height=375, channels=3, levels=1, RGB=True, dtype=uint8> <valis.slide_io.VipsSlideReader object at 0x7f11bcb665d0> True (375, 300, 3)\n"
     ]
    },
    {
     "name": "stderr",
     "output_type": "stream",
     "text": [
      "Converting images:  12%|█▏        | 309/2627 [00:03<00:25, 92.70image/s]"
     ]
    },
    {
     "name": "stdout",
     "output_type": "stream",
     "text": [
      "<Slide, name = 0336>, width=300, height=375, channels=3, levels=1, RGB=True, dtype=uint8> <valis.slide_io.VipsSlideReader object at 0x7f11bcb66630> True (375, 300, 3)\n",
      "<Slide, name = 0337>, width=300, height=375, channels=3, levels=1, RGB=True, dtype=uint8> <valis.slide_io.VipsSlideReader object at 0x7f11bcb66690> True (375, 300, 3)\n",
      "<Slide, name = 0338>, width=300, height=375, channels=3, levels=1, RGB=True, dtype=uint8> <valis.slide_io.VipsSlideReader object at 0x7f11bcb666f0> True (375, 300, 3)\n",
      "<Slide, name = 0339>, width=300, height=375, channels=3, levels=1, RGB=True, dtype=uint8> <valis.slide_io.VipsSlideReader object at 0x7f11bcb66750> True (375, 300, 3)\n",
      "<Slide, name = 0340>, width=300, height=375, channels=3, levels=1, RGB=True, dtype=uint8> <valis.slide_io.VipsSlideReader object at 0x7f11bcb667b0> True (375, 300, 3)\n",
      "<Slide, name = 0341>, width=300, height=375, channels=3, levels=1, RGB=True, dtype=uint8> <valis.slide_io.VipsSlideReader object at 0x7f11bcb51b50> True (375, 300, 3)\n",
      "<Slide, name = 0342>, width=300, height=375, channels=3, levels=1, RGB=True, dtype=uint8> <valis.slide_io.VipsSlideReader object at 0x7f11bcb66990> True (375, 300, 3)\n",
      "<Slide, name = 0343>, width=300, height=375, channels=3, levels=1, RGB=True, dtype=uint8> <valis.slide_io.VipsSlideReader object at 0x7f11bcb4b4d0> True (375, 300, 3)\n",
      "<Slide, name = 0344>, width=300, height=375, channels=3, levels=1, RGB=True, dtype=uint8> <valis.slide_io.VipsSlideReader object at 0x7f11bcb53350> True (375, 300, 3)\n",
      "<Slide, name = 0345>, width=300, height=375, channels=3, levels=1, RGB=True, dtype=uint8> <valis.slide_io.VipsSlideReader object at 0x7f11bcb61850> True (375, 300, 3)\n"
     ]
    },
    {
     "name": "stderr",
     "output_type": "stream",
     "text": [
      "Converting images:  12%|█▏        | 319/2627 [00:03<00:24, 93.31image/s]"
     ]
    },
    {
     "name": "stdout",
     "output_type": "stream",
     "text": [
      "<Slide, name = 0346>, width=300, height=375, channels=3, levels=1, RGB=True, dtype=uint8> <valis.slide_io.VipsSlideReader object at 0x7f11bcb66a80> True (375, 300, 3)\n",
      "<Slide, name = 0347>, width=300, height=375, channels=3, levels=1, RGB=True, dtype=uint8> <valis.slide_io.VipsSlideReader object at 0x7f11bcb66600> True (375, 300, 3)\n",
      "<Slide, name = 0348>, width=300, height=375, channels=3, levels=1, RGB=True, dtype=uint8> <valis.slide_io.VipsSlideReader object at 0x7f11bcb662d0> True (375, 300, 3)\n",
      "<Slide, name = 0349>, width=300, height=375, channels=3, levels=1, RGB=True, dtype=uint8> <valis.slide_io.VipsSlideReader object at 0x7f11bcb66780> True (375, 300, 3)\n",
      "<Slide, name = 0350>, width=300, height=375, channels=3, levels=1, RGB=True, dtype=uint8> <valis.slide_io.VipsSlideReader object at 0x7f11bcb66ab0> True (375, 300, 3)\n",
      "<Slide, name = 0351>, width=300, height=375, channels=3, levels=1, RGB=True, dtype=uint8> <valis.slide_io.VipsSlideReader object at 0x7f11bcb66b10> True (375, 300, 3)\n",
      "<Slide, name = 0352>, width=300, height=375, channels=3, levels=1, RGB=True, dtype=uint8> <valis.slide_io.VipsSlideReader object at 0x7f11bcb66b70> True (375, 300, 3)\n",
      "<Slide, name = 0353>, width=300, height=375, channels=3, levels=1, RGB=True, dtype=uint8> <valis.slide_io.VipsSlideReader object at 0x7f11bcb66bd0> True (375, 300, 3)\n",
      "<Slide, name = 0354>, width=300, height=375, channels=3, levels=1, RGB=True, dtype=uint8> <valis.slide_io.VipsSlideReader object at 0x7f11bcb66c30> True (375, 300, 3)\n",
      "<Slide, name = 0355>, width=300, height=375, channels=3, levels=1, RGB=True, dtype=uint8> <valis.slide_io.VipsSlideReader object at 0x7f11bcb66c90> True (375, 300, 3)\n"
     ]
    },
    {
     "name": "stderr",
     "output_type": "stream",
     "text": [
      "Converting images:  13%|█▎        | 329/2627 [00:03<00:24, 92.91image/s]"
     ]
    },
    {
     "name": "stdout",
     "output_type": "stream",
     "text": [
      "<Slide, name = 0356>, width=300, height=375, channels=3, levels=1, RGB=True, dtype=uint8> <valis.slide_io.VipsSlideReader object at 0x7f11bcb66cf0> True (375, 300, 3)\n",
      "<Slide, name = 0357>, width=300, height=375, channels=3, levels=1, RGB=True, dtype=uint8> <valis.slide_io.VipsSlideReader object at 0x7f11bcb66d50> True (375, 300, 3)\n",
      "<Slide, name = 0358>, width=300, height=375, channels=3, levels=1, RGB=True, dtype=uint8> <valis.slide_io.VipsSlideReader object at 0x7f11bcb66db0> True (375, 300, 3)\n",
      "<Slide, name = 0359>, width=300, height=375, channels=3, levels=1, RGB=True, dtype=uint8> <valis.slide_io.VipsSlideReader object at 0x7f11bcb66e10> True (375, 300, 3)\n",
      "<Slide, name = 0360>, width=300, height=375, channels=3, levels=1, RGB=True, dtype=uint8> <valis.slide_io.VipsSlideReader object at 0x7f11bcb66e70> True (375, 300, 3)\n",
      "<Slide, name = 0361>, width=300, height=375, channels=3, levels=1, RGB=True, dtype=uint8> <valis.slide_io.VipsSlideReader object at 0x7f11bcb66ed0> True (375, 300, 3)\n",
      "<Slide, name = 0362>, width=300, height=375, channels=3, levels=1, RGB=True, dtype=uint8> <valis.slide_io.VipsSlideReader object at 0x7f11bcb66f30> True (375, 300, 3)\n",
      "<Slide, name = 0363>, width=300, height=375, channels=3, levels=1, RGB=True, dtype=uint8> <valis.slide_io.VipsSlideReader object at 0x7f11bcb66f90> True (375, 300, 3)\n",
      "<Slide, name = 0364>, width=300, height=375, channels=3, levels=1, RGB=True, dtype=uint8> <valis.slide_io.VipsSlideReader object at 0x7f11bcb66ff0> True (375, 300, 3)\n",
      "<Slide, name = 0365>, width=300, height=375, channels=3, levels=1, RGB=True, dtype=uint8> <valis.slide_io.VipsSlideReader object at 0x7f11bcb67050> True (375, 300, 3)\n"
     ]
    },
    {
     "name": "stderr",
     "output_type": "stream",
     "text": [
      "Converting images:  13%|█▎        | 339/2627 [00:03<00:24, 92.92image/s]"
     ]
    },
    {
     "name": "stdout",
     "output_type": "stream",
     "text": [
      "<Slide, name = 0366>, width=300, height=375, channels=3, levels=1, RGB=True, dtype=uint8> <valis.slide_io.VipsSlideReader object at 0x7f11bcb670b0> True (375, 300, 3)\n",
      "<Slide, name = 0367>, width=300, height=375, channels=3, levels=1, RGB=True, dtype=uint8> <valis.slide_io.VipsSlideReader object at 0x7f11bcb67110> True (375, 300, 3)\n",
      "<Slide, name = 0368>, width=300, height=375, channels=3, levels=1, RGB=True, dtype=uint8> <valis.slide_io.VipsSlideReader object at 0x7f11bcb67170> True (375, 300, 3)\n",
      "<Slide, name = 0369>, width=300, height=375, channels=3, levels=1, RGB=True, dtype=uint8> <valis.slide_io.VipsSlideReader object at 0x7f11bcb671d0> True (375, 300, 3)\n",
      "<Slide, name = 0370>, width=300, height=375, channels=3, levels=1, RGB=True, dtype=uint8> <valis.slide_io.VipsSlideReader object at 0x7f11bcb67230> True (375, 300, 3)\n",
      "<Slide, name = 0371>, width=300, height=375, channels=3, levels=1, RGB=True, dtype=uint8> <valis.slide_io.VipsSlideReader object at 0x7f11bcb67290> True (375, 300, 3)\n",
      "<Slide, name = 0372>, width=300, height=375, channels=3, levels=1, RGB=True, dtype=uint8> <valis.slide_io.VipsSlideReader object at 0x7f11bcb672f0> True (375, 300, 3)\n",
      "<Slide, name = 0373>, width=300, height=375, channels=3, levels=1, RGB=True, dtype=uint8> <valis.slide_io.VipsSlideReader object at 0x7f11bcb67350> True (375, 300, 3)\n",
      "<Slide, name = 0374>, width=300, height=375, channels=3, levels=1, RGB=True, dtype=uint8> <valis.slide_io.VipsSlideReader object at 0x7f11bcb673b0> True (375, 300, 3)\n",
      "<Slide, name = 0375>, width=300, height=375, channels=3, levels=1, RGB=True, dtype=uint8> <valis.slide_io.VipsSlideReader object at 0x7f11bcb67410> True (375, 300, 3)\n"
     ]
    },
    {
     "name": "stderr",
     "output_type": "stream",
     "text": [
      "Converting images:  13%|█▎        | 349/2627 [00:03<00:24, 92.49image/s]"
     ]
    },
    {
     "name": "stdout",
     "output_type": "stream",
     "text": [
      "<Slide, name = 0376>, width=300, height=375, channels=3, levels=1, RGB=True, dtype=uint8> <valis.slide_io.VipsSlideReader object at 0x7f11bcb53d10> True (375, 300, 3)\n",
      "<Slide, name = 0377>, width=300, height=375, channels=3, levels=1, RGB=True, dtype=uint8> <valis.slide_io.VipsSlideReader object at 0x7f11bcb675f0> True (375, 300, 3)\n",
      "<Slide, name = 0378>, width=300, height=375, channels=3, levels=1, RGB=True, dtype=uint8> <valis.slide_io.VipsSlideReader object at 0x7f11bcb67530> True (375, 300, 3)\n",
      "<Slide, name = 0379>, width=300, height=375, channels=3, levels=1, RGB=True, dtype=uint8> <valis.slide_io.VipsSlideReader object at 0x7f11bcb51010> True (375, 300, 3)\n",
      "<Slide, name = 0380>, width=300, height=375, channels=3, levels=1, RGB=True, dtype=uint8> <valis.slide_io.VipsSlideReader object at 0x7f11bcb676e0> True (375, 300, 3)\n",
      "<Slide, name = 0381>, width=300, height=375, channels=3, levels=1, RGB=True, dtype=uint8> <valis.slide_io.VipsSlideReader object at 0x7f11bcb50a10> True (375, 300, 3)\n",
      "<Slide, name = 0382>, width=300, height=375, channels=3, levels=1, RGB=True, dtype=uint8> <valis.slide_io.VipsSlideReader object at 0x7f11bcb67770> True (375, 300, 3)\n",
      "<Slide, name = 0383>, width=300, height=375, channels=3, levels=1, RGB=True, dtype=uint8> <valis.slide_io.VipsSlideReader object at 0x7f11bcb67440> True (375, 300, 3)\n",
      "<Slide, name = 0384>, width=300, height=375, channels=3, levels=1, RGB=True, dtype=uint8> <valis.slide_io.VipsSlideReader object at 0x7f11bcb67500> True (375, 300, 3)\n",
      "<Slide, name = 0385>, width=300, height=375, channels=3, levels=1, RGB=True, dtype=uint8> <valis.slide_io.VipsSlideReader object at 0x7f11bcb675c0> True (375, 300, 3)\n"
     ]
    },
    {
     "name": "stderr",
     "output_type": "stream",
     "text": [
      "Converting images:  14%|█▎        | 359/2627 [00:03<00:24, 92.35image/s]"
     ]
    },
    {
     "name": "stdout",
     "output_type": "stream",
     "text": [
      "<Slide, name = 0386>, width=300, height=375, channels=3, levels=1, RGB=True, dtype=uint8> <valis.slide_io.VipsSlideReader object at 0x7f11bcb677a0> True (375, 300, 3)\n",
      "<Slide, name = 0387>, width=300, height=375, channels=3, levels=1, RGB=True, dtype=uint8> <valis.slide_io.VipsSlideReader object at 0x7f11bcb67800> True (375, 300, 3)\n",
      "<Slide, name = 0388>, width=300, height=375, channels=3, levels=1, RGB=True, dtype=uint8> <valis.slide_io.VipsSlideReader object at 0x7f11bcb62150> True (375, 300, 3)\n",
      "<Slide, name = 0389>, width=300, height=375, channels=3, levels=1, RGB=True, dtype=uint8> <valis.slide_io.VipsSlideReader object at 0x7f11bcb679e0> True (375, 300, 3)\n",
      "<Slide, name = 0390>, width=300, height=375, channels=3, levels=1, RGB=True, dtype=uint8> <valis.slide_io.VipsSlideReader object at 0x7f11bcb67920> True (375, 300, 3)\n",
      "<Slide, name = 0391>, width=300, height=375, channels=3, levels=1, RGB=True, dtype=uint8> <valis.slide_io.VipsSlideReader object at 0x7f11bcb67560> True (375, 300, 3)\n",
      "<Slide, name = 0392>, width=300, height=375, channels=3, levels=1, RGB=True, dtype=uint8> <valis.slide_io.VipsSlideReader object at 0x7f11bcb677d0> True (375, 300, 3)\n",
      "<Slide, name = 0393>, width=300, height=375, channels=3, levels=1, RGB=True, dtype=uint8> <valis.slide_io.VipsSlideReader object at 0x7f11bcb67a10> True (375, 300, 3)\n",
      "<Slide, name = 0394>, width=300, height=375, channels=3, levels=1, RGB=True, dtype=uint8> <valis.slide_io.VipsSlideReader object at 0x7f11bcb67a70> True (375, 300, 3)\n",
      "<Slide, name = 0395>, width=300, height=375, channels=3, levels=1, RGB=True, dtype=uint8> <valis.slide_io.VipsSlideReader object at 0x7f11bcb67ad0> True (375, 300, 3)\n"
     ]
    },
    {
     "name": "stderr",
     "output_type": "stream",
     "text": [
      "Converting images:  14%|█▍        | 369/2627 [00:04<00:24, 92.16image/s]"
     ]
    },
    {
     "name": "stdout",
     "output_type": "stream",
     "text": [
      "<Slide, name = 0396>, width=300, height=375, channels=3, levels=1, RGB=True, dtype=uint8> <valis.slide_io.VipsSlideReader object at 0x7f11bcb67b30> True (375, 300, 3)\n",
      "<Slide, name = 0397>, width=300, height=375, channels=3, levels=1, RGB=True, dtype=uint8> <valis.slide_io.VipsSlideReader object at 0x7f11bcb67b90> True (375, 300, 3)\n",
      "<Slide, name = 0398>, width=300, height=375, channels=3, levels=1, RGB=True, dtype=uint8> <valis.slide_io.VipsSlideReader object at 0x7f11bcb67bf0> True (375, 300, 3)\n",
      "<Slide, name = 0399>, width=300, height=375, channels=3, levels=1, RGB=True, dtype=uint8> <valis.slide_io.VipsSlideReader object at 0x7f11bcb67c50> True (375, 300, 3)\n",
      "<Slide, name = 0400>, width=300, height=375, channels=3, levels=1, RGB=True, dtype=uint8> <valis.slide_io.VipsSlideReader object at 0x7f11bcb67cb0> True (375, 300, 3)\n",
      "<Slide, name = 0401>, width=300, height=375, channels=3, levels=1, RGB=True, dtype=uint8> <valis.slide_io.VipsSlideReader object at 0x7f11bcb67d10> True (375, 300, 3)\n",
      "<Slide, name = 0402>, width=300, height=375, channels=3, levels=1, RGB=True, dtype=uint8> <valis.slide_io.VipsSlideReader object at 0x7f11bcb67d70> True (375, 300, 3)\n",
      "<Slide, name = 0403>, width=300, height=375, channels=3, levels=1, RGB=True, dtype=uint8> <valis.slide_io.VipsSlideReader object at 0x7f11bcb67dd0> True (375, 300, 3)\n",
      "<Slide, name = 0404>, width=300, height=375, channels=3, levels=1, RGB=True, dtype=uint8> <valis.slide_io.VipsSlideReader object at 0x7f11bcb67e30> True (375, 300, 3)\n",
      "<Slide, name = 0405>, width=300, height=375, channels=3, levels=1, RGB=True, dtype=uint8> <valis.slide_io.VipsSlideReader object at 0x7f11bcb67e90> True (375, 300, 3)\n"
     ]
    },
    {
     "name": "stderr",
     "output_type": "stream",
     "text": [
      "Converting images:  14%|█▍        | 379/2627 [00:04<00:24, 92.54image/s]"
     ]
    },
    {
     "name": "stdout",
     "output_type": "stream",
     "text": [
      "<Slide, name = 0406>, width=300, height=375, channels=3, levels=1, RGB=True, dtype=uint8> <valis.slide_io.VipsSlideReader object at 0x7f11bcb67f20> True (375, 300, 3)\n",
      "<Slide, name = 0407>, width=300, height=375, channels=3, levels=1, RGB=True, dtype=uint8> <valis.slide_io.VipsSlideReader object at 0x7f11bcb67fe0> True (375, 300, 3)\n",
      "<Slide, name = 0408>, width=300, height=375, channels=3, levels=1, RGB=True, dtype=uint8> <valis.slide_io.VipsSlideReader object at 0x7f11bcb67fb0> True (375, 300, 3)\n",
      "<Slide, name = 0409>, width=300, height=375, channels=3, levels=1, RGB=True, dtype=uint8> <valis.slide_io.VipsSlideReader object at 0x7f11bcb67d40> True (375, 300, 3)\n",
      "<Slide, name = 0410>, width=300, height=375, channels=3, levels=1, RGB=True, dtype=uint8> <valis.slide_io.VipsSlideReader object at 0x7f11bcb67f80> True (375, 300, 3)\n",
      "<Slide, name = 0411>, width=300, height=375, channels=3, levels=1, RGB=True, dtype=uint8> <valis.slide_io.VipsSlideReader object at 0x7f11bcb47ef0> True (375, 300, 3)\n",
      "<Slide, name = 0412>, width=300, height=375, channels=3, levels=1, RGB=True, dtype=uint8> <valis.slide_io.VipsSlideReader object at 0x7f11bcb67e60> True (375, 300, 3)\n",
      "<Slide, name = 0413>, width=300, height=375, channels=3, levels=1, RGB=True, dtype=uint8> <valis.slide_io.VipsSlideReader object at 0x7f11bcb67ec0> True (375, 300, 3)\n",
      "<Slide, name = 0414>, width=300, height=375, channels=3, levels=1, RGB=True, dtype=uint8> <valis.slide_io.VipsSlideReader object at 0x7f11bcb68290> True (375, 300, 3)\n",
      "<Slide, name = 0415>, width=300, height=375, channels=3, levels=1, RGB=True, dtype=uint8> <valis.slide_io.VipsSlideReader object at 0x7f11bcb68050> True (375, 300, 3)\n"
     ]
    },
    {
     "name": "stderr",
     "output_type": "stream",
     "text": [
      "Converting images:  15%|█▍        | 389/2627 [00:04<00:24, 93.24image/s]"
     ]
    },
    {
     "name": "stdout",
     "output_type": "stream",
     "text": [
      "<Slide, name = 0416>, width=300, height=375, channels=3, levels=1, RGB=True, dtype=uint8> <valis.slide_io.VipsSlideReader object at 0x7f11bcb68410> True (375, 300, 3)\n",
      "<Slide, name = 0417>, width=300, height=375, channels=3, levels=1, RGB=True, dtype=uint8> <valis.slide_io.VipsSlideReader object at 0x7f11bcb684a0> True (375, 300, 3)\n",
      "<Slide, name = 0418>, width=300, height=375, channels=3, levels=1, RGB=True, dtype=uint8> <valis.slide_io.VipsSlideReader object at 0x7f11bd1b8200> True (375, 300, 3)\n",
      "<Slide, name = 0419>, width=300, height=375, channels=3, levels=1, RGB=True, dtype=uint8> <valis.slide_io.VipsSlideReader object at 0x7f11bcb485c0> True (375, 300, 3)\n",
      "<Slide, name = 0420>, width=300, height=375, channels=3, levels=1, RGB=True, dtype=uint8> <valis.slide_io.VipsSlideReader object at 0x7f11bcb50440> True (375, 300, 3)\n",
      "<Slide, name = 0421>, width=300, height=375, channels=3, levels=1, RGB=True, dtype=uint8> <valis.slide_io.VipsSlideReader object at 0x7f11bcb68380> True (375, 300, 3)\n",
      "<Slide, name = 0422>, width=300, height=375, channels=3, levels=1, RGB=True, dtype=uint8> <valis.slide_io.VipsSlideReader object at 0x7f11bcb685f0> True (375, 300, 3)\n",
      "<Slide, name = 0423>, width=300, height=375, channels=3, levels=1, RGB=True, dtype=uint8> <valis.slide_io.VipsSlideReader object at 0x7f11bcb68770> True (375, 300, 3)\n",
      "<Slide, name = 0424>, width=300, height=375, channels=3, levels=1, RGB=True, dtype=uint8> <valis.slide_io.VipsSlideReader object at 0x7f11bcb68800> True (375, 300, 3)\n",
      "<Slide, name = 0425>, width=300, height=375, channels=3, levels=1, RGB=True, dtype=uint8> <valis.slide_io.VipsSlideReader object at 0x7f11bcb688f0> True (375, 300, 3)\n"
     ]
    },
    {
     "name": "stderr",
     "output_type": "stream",
     "text": [
      "Converting images:  15%|█▌        | 399/2627 [00:04<00:23, 93.35image/s]"
     ]
    },
    {
     "name": "stdout",
     "output_type": "stream",
     "text": [
      "<Slide, name = 0426>, width=300, height=375, channels=3, levels=1, RGB=True, dtype=uint8> <valis.slide_io.VipsSlideReader object at 0x7f11bcb506e0> True (375, 300, 3)\n",
      "<Slide, name = 0427>, width=300, height=375, channels=3, levels=1, RGB=True, dtype=uint8> <valis.slide_io.VipsSlideReader object at 0x7f11bcb68140> True (375, 300, 3)\n",
      "<Slide, name = 0428>, width=300, height=375, channels=3, levels=1, RGB=True, dtype=uint8> <valis.slide_io.VipsSlideReader object at 0x7f11bcb50860> True (375, 300, 3)\n",
      "<Slide, name = 0429>, width=300, height=375, channels=3, levels=1, RGB=True, dtype=uint8> <valis.slide_io.VipsSlideReader object at 0x7f11bcb507a0> True (375, 300, 3)\n",
      "<Slide, name = 0430>, width=300, height=375, channels=3, levels=1, RGB=True, dtype=uint8> <valis.slide_io.VipsSlideReader object at 0x7f11bcb50a40> True (375, 300, 3)\n",
      "<Slide, name = 0431>, width=300, height=375, channels=3, levels=1, RGB=True, dtype=uint8> <valis.slide_io.VipsSlideReader object at 0x7f11bd1b8a70> True (375, 300, 3)\n",
      "<Slide, name = 0432>, width=300, height=375, channels=3, levels=1, RGB=True, dtype=uint8> <valis.slide_io.VipsSlideReader object at 0x7f11bcb68c80> True (375, 300, 3)\n",
      "<Slide, name = 0433>, width=300, height=375, channels=3, levels=1, RGB=True, dtype=uint8> <valis.slide_io.VipsSlideReader object at 0x7f11bcb68980> True (375, 300, 3)\n",
      "<Slide, name = 0434>, width=300, height=375, channels=3, levels=1, RGB=True, dtype=uint8> <valis.slide_io.VipsSlideReader object at 0x7f11bcb68cb0> True (375, 300, 3)\n",
      "<Slide, name = 0435>, width=300, height=375, channels=3, levels=1, RGB=True, dtype=uint8> <valis.slide_io.VipsSlideReader object at 0x7f11bcb509b0> True (375, 300, 3)\n"
     ]
    },
    {
     "name": "stderr",
     "output_type": "stream",
     "text": [
      "Converting images:  16%|█▌        | 409/2627 [00:04<00:23, 93.75image/s]"
     ]
    },
    {
     "name": "stdout",
     "output_type": "stream",
     "text": [
      "<Slide, name = 0436>, width=300, height=375, channels=3, levels=1, RGB=True, dtype=uint8> <valis.slide_io.VipsSlideReader object at 0x7f11bcb689e0> True (375, 300, 3)\n",
      "<Slide, name = 0437>, width=300, height=375, channels=3, levels=1, RGB=True, dtype=uint8> <valis.slide_io.VipsSlideReader object at 0x7f11bcb68bf0> True (375, 300, 3)\n",
      "<Slide, name = 0438>, width=300, height=375, channels=3, levels=1, RGB=True, dtype=uint8> <valis.slide_io.VipsSlideReader object at 0x7f11bcb68ec0> True (375, 300, 3)\n",
      "<Slide, name = 0439>, width=300, height=375, channels=3, levels=1, RGB=True, dtype=uint8> <valis.slide_io.VipsSlideReader object at 0x7f11bcb68f50> True (375, 300, 3)\n",
      "<Slide, name = 0440>, width=300, height=375, channels=3, levels=1, RGB=True, dtype=uint8> <valis.slide_io.VipsSlideReader object at 0x7f11bcb50fe0> True (375, 300, 3)\n",
      "<Slide, name = 0441>, width=300, height=375, channels=3, levels=1, RGB=True, dtype=uint8> <valis.slide_io.VipsSlideReader object at 0x7f11bcb68ad0> True (375, 300, 3)\n",
      "<Slide, name = 0442>, width=300, height=375, channels=3, levels=1, RGB=True, dtype=uint8> <valis.slide_io.VipsSlideReader object at 0x7f11bd150f20> True (375, 300, 3)\n",
      "<Slide, name = 0443>, width=300, height=375, channels=3, levels=1, RGB=True, dtype=uint8> <valis.slide_io.VipsSlideReader object at 0x7f11bcb68c20> True (375, 300, 3)\n",
      "<Slide, name = 0444>, width=300, height=375, channels=3, levels=1, RGB=True, dtype=uint8> <valis.slide_io.VipsSlideReader object at 0x7f11bcb68110> True (375, 300, 3)\n",
      "<Slide, name = 0445>, width=300, height=375, channels=3, levels=1, RGB=True, dtype=uint8> <valis.slide_io.VipsSlideReader object at 0x7f11bcb69250> True (375, 300, 3)\n"
     ]
    },
    {
     "name": "stderr",
     "output_type": "stream",
     "text": [
      "Converting images:  16%|█▌        | 419/2627 [00:04<00:23, 93.53image/s]"
     ]
    },
    {
     "name": "stdout",
     "output_type": "stream",
     "text": [
      "<Slide, name = 0446>, width=300, height=375, channels=3, levels=1, RGB=True, dtype=uint8> <valis.slide_io.VipsSlideReader object at 0x7f11bcb510d0> True (375, 300, 3)\n",
      "<Slide, name = 0447>, width=300, height=375, channels=3, levels=1, RGB=True, dtype=uint8> <valis.slide_io.VipsSlideReader object at 0x7f11bcb51370> True (375, 300, 3)\n",
      "<Slide, name = 0448>, width=300, height=375, channels=3, levels=1, RGB=True, dtype=uint8> <valis.slide_io.VipsSlideReader object at 0x7f11bcb69010> True (375, 300, 3)\n",
      "<Slide, name = 0449>, width=300, height=375, channels=3, levels=1, RGB=True, dtype=uint8> <valis.slide_io.VipsSlideReader object at 0x7f11bcb69340> True (375, 300, 3)\n",
      "<Slide, name = 0450>, width=300, height=375, channels=3, levels=1, RGB=True, dtype=uint8> <valis.slide_io.VipsSlideReader object at 0x7f11bcb513a0> True (375, 300, 3)\n",
      "<Slide, name = 0451>, width=300, height=375, channels=3, levels=1, RGB=True, dtype=uint8> <valis.slide_io.VipsSlideReader object at 0x7f11bcb69070> True (375, 300, 3)\n",
      "<Slide, name = 0452>, width=300, height=375, channels=3, levels=1, RGB=True, dtype=uint8> <valis.slide_io.VipsSlideReader object at 0x7f11bcb69550> True (375, 300, 3)\n",
      "<Slide, name = 0453>, width=300, height=375, channels=3, levels=1, RGB=True, dtype=uint8> <valis.slide_io.VipsSlideReader object at 0x7f11bcb68aa0> True (375, 300, 3)\n",
      "<Slide, name = 0454>, width=300, height=375, channels=3, levels=1, RGB=True, dtype=uint8> <valis.slide_io.VipsSlideReader object at 0x7f11bcb51580> True (375, 300, 3)\n",
      "<Slide, name = 0455>, width=300, height=375, channels=3, levels=1, RGB=True, dtype=uint8> <valis.slide_io.VipsSlideReader object at 0x7f11bcb51730> True (375, 300, 3)\n"
     ]
    },
    {
     "name": "stderr",
     "output_type": "stream",
     "text": [
      "Converting images:  16%|█▋        | 429/2627 [00:04<00:23, 93.44image/s]"
     ]
    },
    {
     "name": "stdout",
     "output_type": "stream",
     "text": [
      "<Slide, name = 0456>, width=300, height=375, channels=3, levels=1, RGB=True, dtype=uint8> <valis.slide_io.VipsSlideReader object at 0x7f11bcb691f0> True (375, 300, 3)\n",
      "<Slide, name = 0457>, width=300, height=375, channels=3, levels=1, RGB=True, dtype=uint8> <valis.slide_io.VipsSlideReader object at 0x7f11bcb616a0> True (375, 300, 3)\n",
      "<Slide, name = 0458>, width=300, height=375, channels=3, levels=1, RGB=True, dtype=uint8> <valis.slide_io.VipsSlideReader object at 0x7f11bcb61880> True (375, 300, 3)\n",
      "<Slide, name = 0459>, width=300, height=375, channels=3, levels=1, RGB=True, dtype=uint8> <valis.slide_io.VipsSlideReader object at 0x7f11bcb694c0> True (375, 300, 3)\n",
      "<Slide, name = 0460>, width=300, height=375, channels=3, levels=1, RGB=True, dtype=uint8> <valis.slide_io.VipsSlideReader object at 0x7f11bcb51700> True (375, 300, 3)\n",
      "<Slide, name = 0461>, width=300, height=375, channels=3, levels=1, RGB=True, dtype=uint8> <valis.slide_io.VipsSlideReader object at 0x7f11bcb69610> True (375, 300, 3)\n",
      "<Slide, name = 0462>, width=300, height=375, channels=3, levels=1, RGB=True, dtype=uint8> <valis.slide_io.VipsSlideReader object at 0x7f11bcb515e0> True (375, 300, 3)\n",
      "<Slide, name = 0463>, width=300, height=375, channels=3, levels=1, RGB=True, dtype=uint8> <valis.slide_io.VipsSlideReader object at 0x7f11bcb698b0> True (375, 300, 3)\n",
      "<Slide, name = 0464>, width=300, height=375, channels=3, levels=1, RGB=True, dtype=uint8> <valis.slide_io.VipsSlideReader object at 0x7f11bcb69970> True (375, 300, 3)\n",
      "<Slide, name = 0465>, width=300, height=375, channels=3, levels=1, RGB=True, dtype=uint8> <valis.slide_io.VipsSlideReader object at 0x7f11bcb69bb0> True (375, 300, 3)\n"
     ]
    },
    {
     "name": "stderr",
     "output_type": "stream",
     "text": [
      "Converting images:  17%|█▋        | 439/2627 [00:04<00:23, 92.68image/s]"
     ]
    },
    {
     "name": "stdout",
     "output_type": "stream",
     "text": [
      "<Slide, name = 0466>, width=300, height=375, channels=3, levels=1, RGB=True, dtype=uint8> <valis.slide_io.VipsSlideReader object at 0x7f11bcb51c40> True (375, 300, 3)\n",
      "<Slide, name = 0467>, width=300, height=375, channels=3, levels=1, RGB=True, dtype=uint8> <valis.slide_io.VipsSlideReader object at 0x7f11bcb69460> True (375, 300, 3)\n",
      "<Slide, name = 0468>, width=300, height=375, channels=3, levels=1, RGB=True, dtype=uint8> <valis.slide_io.VipsSlideReader object at 0x7f11bcb51b80> True (375, 300, 3)\n",
      "<Slide, name = 0469>, width=300, height=375, channels=3, levels=1, RGB=True, dtype=uint8> <valis.slide_io.VipsSlideReader object at 0x7f11bcb699a0> True (375, 300, 3)\n",
      "<Slide, name = 0470>, width=300, height=375, channels=3, levels=1, RGB=True, dtype=uint8> <valis.slide_io.VipsSlideReader object at 0x7f11bcb69d90> True (375, 300, 3)\n",
      "<Slide, name = 0471>, width=300, height=375, channels=3, levels=1, RGB=True, dtype=uint8> <valis.slide_io.VipsSlideReader object at 0x7f11bcb69b50> True (375, 300, 3)\n",
      "<Slide, name = 0472>, width=300, height=375, channels=3, levels=1, RGB=True, dtype=uint8> <valis.slide_io.VipsSlideReader object at 0x7f11bcb61e80> True (375, 300, 3)\n",
      "<Slide, name = 0473>, width=300, height=375, channels=3, levels=1, RGB=True, dtype=uint8> <valis.slide_io.VipsSlideReader object at 0x7f11bcb41f70> True (375, 300, 3)\n",
      "<Slide, name = 0474>, width=300, height=375, channels=3, levels=1, RGB=True, dtype=uint8> <valis.slide_io.VipsSlideReader object at 0x7f11bcb69ee0> True (375, 300, 3)\n",
      "<Slide, name = 0475>, width=300, height=375, channels=3, levels=1, RGB=True, dtype=uint8> <valis.slide_io.VipsSlideReader object at 0x7f11bcb69f10> True (375, 300, 3)\n"
     ]
    },
    {
     "name": "stderr",
     "output_type": "stream",
     "text": [
      "Converting images:  17%|█▋        | 449/2627 [00:04<00:23, 93.37image/s]"
     ]
    },
    {
     "name": "stdout",
     "output_type": "stream",
     "text": [
      "<Slide, name = 0476>, width=300, height=375, channels=3, levels=1, RGB=True, dtype=uint8> <valis.slide_io.VipsSlideReader object at 0x7f11bcb520c0> True (375, 300, 3)\n",
      "<Slide, name = 0477>, width=300, height=375, channels=3, levels=1, RGB=True, dtype=uint8> <valis.slide_io.VipsSlideReader object at 0x7f11bcb51d60> True (375, 300, 3)\n",
      "<Slide, name = 0478>, width=300, height=375, channels=3, levels=1, RGB=True, dtype=uint8> <valis.slide_io.VipsSlideReader object at 0x7f11bcc6a090> True (375, 300, 3)\n",
      "<Slide, name = 0479>, width=300, height=375, channels=3, levels=1, RGB=True, dtype=uint8> <valis.slide_io.VipsSlideReader object at 0x7f11bcb520f0> True (375, 300, 3)\n",
      "<Slide, name = 0480>, width=300, height=375, channels=3, levels=1, RGB=True, dtype=uint8> <valis.slide_io.VipsSlideReader object at 0x7f11bcb52120> True (375, 300, 3)\n",
      "<Slide, name = 0481>, width=300, height=375, channels=3, levels=1, RGB=True, dtype=uint8> <valis.slide_io.VipsSlideReader object at 0x7f11bd18a180> True (375, 300, 3)\n",
      "<Slide, name = 0482>, width=300, height=375, channels=3, levels=1, RGB=True, dtype=uint8> <valis.slide_io.VipsSlideReader object at 0x7f11bcb521e0> True (375, 300, 3)\n",
      "<Slide, name = 0483>, width=300, height=375, channels=3, levels=1, RGB=True, dtype=uint8> <valis.slide_io.VipsSlideReader object at 0x7f11bccea240> True (375, 300, 3)\n",
      "<Slide, name = 0484>, width=300, height=375, channels=3, levels=1, RGB=True, dtype=uint8> <valis.slide_io.VipsSlideReader object at 0x7f11bcb522a0> True (375, 300, 3)\n",
      "<Slide, name = 0485>, width=300, height=375, channels=3, levels=1, RGB=True, dtype=uint8> <valis.slide_io.VipsSlideReader object at 0x7f11bcb52300> True (375, 300, 3)\n"
     ]
    },
    {
     "name": "stderr",
     "output_type": "stream",
     "text": [
      "Converting images:  17%|█▋        | 459/2627 [00:04<00:23, 93.60image/s]"
     ]
    },
    {
     "name": "stdout",
     "output_type": "stream",
     "text": [
      "<Slide, name = 0486>, width=300, height=375, channels=3, levels=1, RGB=True, dtype=uint8> <valis.slide_io.VipsSlideReader object at 0x7f11bccea360> True (375, 300, 3)\n",
      "<Slide, name = 0487>, width=300, height=375, channels=3, levels=1, RGB=True, dtype=uint8> <valis.slide_io.VipsSlideReader object at 0x7f11bcb69dc0> True (375, 300, 3)\n",
      "<Slide, name = 0488>, width=300, height=375, channels=3, levels=1, RGB=True, dtype=uint8> <valis.slide_io.VipsSlideReader object at 0x7f11bcb6a420> True (375, 300, 3)\n",
      "<Slide, name = 0489>, width=300, height=375, channels=3, levels=1, RGB=True, dtype=uint8> <valis.slide_io.VipsSlideReader object at 0x7f11bcb6a5d0> True (375, 300, 3)\n",
      "<Slide, name = 0490>, width=300, height=375, channels=3, levels=1, RGB=True, dtype=uint8> <valis.slide_io.VipsSlideReader object at 0x7f11bcb624b0> True (375, 300, 3)\n",
      "<Slide, name = 0491>, width=300, height=375, channels=3, levels=1, RGB=True, dtype=uint8> <valis.slide_io.VipsSlideReader object at 0x7f11bcb6a780> True (375, 300, 3)\n",
      "<Slide, name = 0492>, width=300, height=375, channels=3, levels=1, RGB=True, dtype=uint8> <valis.slide_io.VipsSlideReader object at 0x7f11bcb6a5a0> True (375, 300, 3)\n",
      "<Slide, name = 0493>, width=300, height=375, channels=3, levels=1, RGB=True, dtype=uint8> <valis.slide_io.VipsSlideReader object at 0x7f11bcb527b0> True (375, 300, 3)\n",
      "<Slide, name = 0494>, width=300, height=375, channels=3, levels=1, RGB=True, dtype=uint8> <valis.slide_io.VipsSlideReader object at 0x7f11bcb526f0> True (375, 300, 3)\n",
      "<Slide, name = 0495>, width=300, height=375, channels=3, levels=1, RGB=True, dtype=uint8> <valis.slide_io.VipsSlideReader object at 0x7f11bcb6a900> True (375, 300, 3)\n"
     ]
    },
    {
     "name": "stderr",
     "output_type": "stream",
     "text": [
      "Converting images:  18%|█▊        | 469/2627 [00:05<00:23, 93.15image/s]"
     ]
    },
    {
     "name": "stdout",
     "output_type": "stream",
     "text": [
      "<Slide, name = 0496>, width=300, height=375, channels=3, levels=1, RGB=True, dtype=uint8> <valis.slide_io.VipsSlideReader object at 0x7f11bd1ca840> True (375, 300, 3)\n",
      "<Slide, name = 0497>, width=300, height=375, channels=3, levels=1, RGB=True, dtype=uint8> <valis.slide_io.VipsSlideReader object at 0x7f11bcb6a6c0> True (375, 300, 3)\n",
      "<Slide, name = 0498>, width=300, height=375, channels=3, levels=1, RGB=True, dtype=uint8> <valis.slide_io.VipsSlideReader object at 0x7f11bcb6a570> True (375, 300, 3)\n",
      "<Slide, name = 0499>, width=300, height=375, channels=3, levels=1, RGB=True, dtype=uint8> <valis.slide_io.VipsSlideReader object at 0x7f11bcb4a8d0> True (375, 300, 3)\n",
      "<Slide, name = 0500>, width=300, height=375, channels=3, levels=1, RGB=True, dtype=uint8> <valis.slide_io.VipsSlideReader object at 0x7f11bcb52ab0> True (375, 300, 3)\n",
      "<Slide, name = 0501>, width=300, height=375, channels=3, levels=1, RGB=True, dtype=uint8> <valis.slide_io.VipsSlideReader object at 0x7f11bd1ca960> True (375, 300, 3)\n",
      "<Slide, name = 0502>, width=300, height=375, channels=3, levels=1, RGB=True, dtype=uint8> <valis.slide_io.VipsSlideReader object at 0x7f11bcb69760> True (375, 300, 3)\n",
      "<Slide, name = 0503>, width=300, height=375, channels=3, levels=1, RGB=True, dtype=uint8> <valis.slide_io.VipsSlideReader object at 0x7f11bcb647d0> True (375, 300, 3)\n",
      "<Slide, name = 0504>, width=300, height=375, channels=3, levels=1, RGB=True, dtype=uint8> <valis.slide_io.VipsSlideReader object at 0x7f11bcb69df0> True (375, 300, 3)\n",
      "<Slide, name = 0505>, width=300, height=375, channels=3, levels=1, RGB=True, dtype=uint8> <valis.slide_io.VipsSlideReader object at 0x7f11bcb6a8a0> True (375, 300, 3)\n"
     ]
    },
    {
     "name": "stderr",
     "output_type": "stream",
     "text": [
      "Converting images:  18%|█▊        | 479/2627 [00:05<00:22, 93.89image/s]"
     ]
    },
    {
     "name": "stdout",
     "output_type": "stream",
     "text": [
      "<Slide, name = 0506>, width=300, height=375, channels=3, levels=1, RGB=True, dtype=uint8> <valis.slide_io.VipsSlideReader object at 0x7f11bcb6ad20> True (375, 300, 3)\n",
      "<Slide, name = 0507>, width=300, height=375, channels=3, levels=1, RGB=True, dtype=uint8> <valis.slide_io.VipsSlideReader object at 0x7f11bcb6adb0> True (375, 300, 3)\n",
      "<Slide, name = 0508>, width=300, height=375, channels=3, levels=1, RGB=True, dtype=uint8> <valis.slide_io.VipsSlideReader object at 0x7f11bcb6abd0> True (375, 300, 3)\n",
      "<Slide, name = 0509>, width=300, height=375, channels=3, levels=1, RGB=True, dtype=uint8> <valis.slide_io.VipsSlideReader object at 0x7f11bcb6a510> True (375, 300, 3)\n",
      "<Slide, name = 0510>, width=300, height=375, channels=3, levels=1, RGB=True, dtype=uint8> <valis.slide_io.VipsSlideReader object at 0x7f11bcb52e10> True (375, 300, 3)\n",
      "<Slide, name = 0511>, width=300, height=375, channels=3, levels=1, RGB=True, dtype=uint8> <valis.slide_io.VipsSlideReader object at 0x7f11bcb6aff0> True (375, 300, 3)\n",
      "<Slide, name = 0512>, width=300, height=375, channels=3, levels=1, RGB=True, dtype=uint8> <valis.slide_io.VipsSlideReader object at 0x7f11bcb6ac90> True (375, 300, 3)\n",
      "<Slide, name = 0513>, width=300, height=375, channels=3, levels=1, RGB=True, dtype=uint8> <valis.slide_io.VipsSlideReader object at 0x7f11bcb6aed0> True (375, 300, 3)\n",
      "<Slide, name = 0514>, width=300, height=375, channels=3, levels=1, RGB=True, dtype=uint8> <valis.slide_io.VipsSlideReader object at 0x7f11bcb530b0> True (375, 300, 3)\n",
      "<Slide, name = 0515>, width=300, height=375, channels=3, levels=1, RGB=True, dtype=uint8> <valis.slide_io.VipsSlideReader object at 0x7f11bcb6ad50> True (375, 300, 3)\n"
     ]
    },
    {
     "name": "stderr",
     "output_type": "stream",
     "text": [
      "Converting images:  19%|█▊        | 489/2627 [00:05<00:22, 93.31image/s]"
     ]
    },
    {
     "name": "stdout",
     "output_type": "stream",
     "text": [
      "<Slide, name = 0516>, width=300, height=375, channels=3, levels=1, RGB=True, dtype=uint8> <valis.slide_io.VipsSlideReader object at 0x7f11bcb6b050> True (375, 300, 3)\n",
      "<Slide, name = 0517>, width=300, height=375, channels=3, levels=1, RGB=True, dtype=uint8> <valis.slide_io.VipsSlideReader object at 0x7f11bcb53140> True (375, 300, 3)\n",
      "<Slide, name = 0518>, width=300, height=375, channels=3, levels=1, RGB=True, dtype=uint8> <valis.slide_io.VipsSlideReader object at 0x7f11bcb52f00> True (375, 300, 3)\n",
      "<Slide, name = 0519>, width=300, height=375, channels=3, levels=1, RGB=True, dtype=uint8> <valis.slide_io.VipsSlideReader object at 0x7f11bcb6b020> True (375, 300, 3)\n",
      "<Slide, name = 0520>, width=300, height=375, channels=3, levels=1, RGB=True, dtype=uint8> <valis.slide_io.VipsSlideReader object at 0x7f11bcb52cf0> True (375, 300, 3)\n",
      "<Slide, name = 0521>, width=300, height=375, channels=3, levels=1, RGB=True, dtype=uint8> <valis.slide_io.VipsSlideReader object at 0x7f11bcb6af90> True (375, 300, 3)\n",
      "<Slide, name = 0522>, width=300, height=375, channels=3, levels=1, RGB=True, dtype=uint8> <valis.slide_io.VipsSlideReader object at 0x7f11bcb53260> True (375, 300, 3)\n",
      "<Slide, name = 0523>, width=300, height=375, channels=3, levels=1, RGB=True, dtype=uint8> <valis.slide_io.VipsSlideReader object at 0x7f11bcb6b230> True (375, 300, 3)\n",
      "<Slide, name = 0524>, width=300, height=375, channels=3, levels=1, RGB=True, dtype=uint8> <valis.slide_io.VipsSlideReader object at 0x7f11bcb6b440> True (375, 300, 3)\n",
      "<Slide, name = 0525>, width=300, height=375, channels=3, levels=1, RGB=True, dtype=uint8> <valis.slide_io.VipsSlideReader object at 0x7f11bcb6b350> True (375, 300, 3)\n"
     ]
    },
    {
     "name": "stderr",
     "output_type": "stream",
     "text": [
      "Converting images:  19%|█▉        | 499/2627 [00:05<00:22, 93.03image/s]"
     ]
    },
    {
     "name": "stdout",
     "output_type": "stream",
     "text": [
      "<Slide, name = 0526>, width=300, height=375, channels=3, levels=1, RGB=True, dtype=uint8> <valis.slide_io.VipsSlideReader object at 0x7f11bcb6b650> True (375, 300, 3)\n",
      "<Slide, name = 0527>, width=300, height=375, channels=3, levels=1, RGB=True, dtype=uint8> <valis.slide_io.VipsSlideReader object at 0x7f11bcb536e0> True (375, 300, 3)\n",
      "<Slide, name = 0528>, width=300, height=375, channels=3, levels=1, RGB=True, dtype=uint8> <valis.slide_io.VipsSlideReader object at 0x7f11bcb6b500> True (375, 300, 3)\n",
      "<Slide, name = 0529>, width=300, height=375, channels=3, levels=1, RGB=True, dtype=uint8> <valis.slide_io.VipsSlideReader object at 0x7f11bcb53110> True (375, 300, 3)\n",
      "<Slide, name = 0530>, width=300, height=375, channels=3, levels=1, RGB=True, dtype=uint8> <valis.slide_io.VipsSlideReader object at 0x7f11bcb6b680> True (375, 300, 3)\n",
      "<Slide, name = 0531>, width=300, height=375, channels=3, levels=1, RGB=True, dtype=uint8> <valis.slide_io.VipsSlideReader object at 0x7f11bcb6ae10> True (375, 300, 3)\n",
      "<Slide, name = 0532>, width=300, height=375, channels=3, levels=1, RGB=True, dtype=uint8> <valis.slide_io.VipsSlideReader object at 0x7f11bcb534a0> True (375, 300, 3)\n",
      "<Slide, name = 0533>, width=300, height=375, channels=3, levels=1, RGB=True, dtype=uint8> <valis.slide_io.VipsSlideReader object at 0x7f11bcb6b200> True (375, 300, 3)\n",
      "<Slide, name = 0534>, width=300, height=375, channels=3, levels=1, RGB=True, dtype=uint8> <valis.slide_io.VipsSlideReader object at 0x7f11bcb532f0> True (375, 300, 3)\n",
      "<Slide, name = 0535>, width=300, height=375, channels=3, levels=1, RGB=True, dtype=uint8> <valis.slide_io.VipsSlideReader object at 0x7f11bcb6b740> True (375, 300, 3)\n"
     ]
    },
    {
     "name": "stderr",
     "output_type": "stream",
     "text": [
      "Converting images:  19%|█▉        | 509/2627 [00:05<00:22, 92.47image/s]"
     ]
    },
    {
     "name": "stdout",
     "output_type": "stream",
     "text": [
      "<Slide, name = 0536>, width=300, height=375, channels=3, levels=1, RGB=True, dtype=uint8> <valis.slide_io.VipsSlideReader object at 0x7f11bcb6ba40> True (375, 300, 3)\n",
      "<Slide, name = 0537>, width=300, height=375, channels=3, levels=1, RGB=True, dtype=uint8> <valis.slide_io.VipsSlideReader object at 0x7f11bcb6bbc0> True (375, 300, 3)\n",
      "<Slide, name = 0538>, width=300, height=375, channels=3, levels=1, RGB=True, dtype=uint8> <valis.slide_io.VipsSlideReader object at 0x7f11bcb6bc50> True (375, 300, 3)\n",
      "<Slide, name = 0539>, width=300, height=375, channels=3, levels=1, RGB=True, dtype=uint8> <valis.slide_io.VipsSlideReader object at 0x7f11bcb6bce0> True (375, 300, 3)\n",
      "<Slide, name = 0540>, width=300, height=375, channels=3, levels=1, RGB=True, dtype=uint8> <valis.slide_io.VipsSlideReader object at 0x7f11bcb53d70> True (375, 300, 3)\n",
      "<Slide, name = 0541>, width=300, height=375, channels=3, levels=1, RGB=True, dtype=uint8> <valis.slide_io.VipsSlideReader object at 0x7f11fd26b9e0> True (375, 300, 3)\n",
      "<Slide, name = 0542>, width=300, height=375, channels=3, levels=1, RGB=True, dtype=uint8> <valis.slide_io.VipsSlideReader object at 0x7f11bcb6bc20> True (375, 300, 3)\n",
      "<Slide, name = 0543>, width=300, height=375, channels=3, levels=1, RGB=True, dtype=uint8> <valis.slide_io.VipsSlideReader object at 0x7f11bcb6bda0> True (375, 300, 3)\n",
      "<Slide, name = 0544>, width=300, height=375, channels=3, levels=1, RGB=True, dtype=uint8> <valis.slide_io.VipsSlideReader object at 0x7f11bcb33f20> True (375, 300, 3)\n",
      "<Slide, name = 0545>, width=300, height=375, channels=3, levels=1, RGB=True, dtype=uint8> <valis.slide_io.VipsSlideReader object at 0x7f11bcb63e00> True (375, 300, 3)\n"
     ]
    },
    {
     "name": "stderr",
     "output_type": "stream",
     "text": [
      "Converting images:  20%|█▉        | 519/2627 [00:05<00:22, 91.84image/s]"
     ]
    },
    {
     "name": "stdout",
     "output_type": "stream",
     "text": [
      "<Slide, name = 0546>, width=300, height=375, channels=3, levels=1, RGB=True, dtype=uint8> <valis.slide_io.VipsSlideReader object at 0x7f11bd1cbef0> True (375, 300, 3)\n",
      "<Slide, name = 0547>, width=300, height=375, channels=3, levels=1, RGB=True, dtype=uint8> <valis.slide_io.VipsSlideReader object at 0x7f11bcb6b770> True (375, 300, 3)\n",
      "<Slide, name = 0548>, width=300, height=375, channels=3, levels=1, RGB=True, dtype=uint8> <valis.slide_io.VipsSlideReader object at 0x7f11bcb6bbf0> True (375, 300, 3)\n",
      "<Slide, name = 0549>, width=300, height=375, channels=3, levels=1, RGB=True, dtype=uint8> <valis.slide_io.VipsSlideReader object at 0x7f11bd1739b0> True (375, 300, 3)\n",
      "<Slide, name = 0550>, width=300, height=375, channels=3, levels=1, RGB=True, dtype=uint8> <valis.slide_io.VipsSlideReader object at 0x7f11bcb6bfb0> True (375, 300, 3)\n",
      "<Slide, name = 0551>, width=300, height=375, channels=3, levels=1, RGB=True, dtype=uint8> <valis.slide_io.VipsSlideReader object at 0x7f11bcb6bfe0> True (375, 300, 3)\n",
      "<Slide, name = 0552>, width=300, height=375, channels=3, levels=1, RGB=True, dtype=uint8> <valis.slide_io.VipsSlideReader object at 0x7f11bcb6c230> True (375, 300, 3)\n",
      "<Slide, name = 0553>, width=300, height=375, channels=3, levels=1, RGB=True, dtype=uint8> <valis.slide_io.VipsSlideReader object at 0x7f11bcb64140> True (375, 300, 3)\n",
      "<Slide, name = 0554>, width=300, height=375, channels=3, levels=1, RGB=True, dtype=uint8> <valis.slide_io.VipsSlideReader object at 0x7f11bcb6c440> True (375, 300, 3)\n",
      "<Slide, name = 0555>, width=300, height=375, channels=3, levels=1, RGB=True, dtype=uint8> <valis.slide_io.VipsSlideReader object at 0x7f11bcb6c290> True (375, 300, 3)\n"
     ]
    },
    {
     "name": "stderr",
     "output_type": "stream",
     "text": [
      "Converting images:  20%|██        | 529/2627 [00:05<00:22, 91.52image/s]"
     ]
    },
    {
     "name": "stdout",
     "output_type": "stream",
     "text": [
      "<Slide, name = 0556>, width=300, height=375, channels=3, levels=1, RGB=True, dtype=uint8> <valis.slide_io.VipsSlideReader object at 0x7f11bcd1c2f0> True (375, 300, 3)\n",
      "<Slide, name = 0557>, width=300, height=375, channels=3, levels=1, RGB=True, dtype=uint8> <valis.slide_io.VipsSlideReader object at 0x7f11bcb6c320> True (375, 300, 3)\n",
      "<Slide, name = 0558>, width=300, height=375, channels=3, levels=1, RGB=True, dtype=uint8> <valis.slide_io.VipsSlideReader object at 0x7f11bcb6c3e0> True (375, 300, 3)\n",
      "<Slide, name = 0559>, width=300, height=375, channels=3, levels=1, RGB=True, dtype=uint8> <valis.slide_io.VipsSlideReader object at 0x7f11bcb64410> True (375, 300, 3)\n",
      "<Slide, name = 0560>, width=300, height=375, channels=3, levels=1, RGB=True, dtype=uint8> <valis.slide_io.VipsSlideReader object at 0x7f11bcb6c2c0> True (375, 300, 3)\n",
      "<Slide, name = 0561>, width=300, height=375, channels=3, levels=1, RGB=True, dtype=uint8> <valis.slide_io.VipsSlideReader object at 0x7f11bcb6c080> True (375, 300, 3)\n",
      "<Slide, name = 0562>, width=300, height=375, channels=3, levels=1, RGB=True, dtype=uint8> <valis.slide_io.VipsSlideReader object at 0x7f11bcb6c710> True (375, 300, 3)\n",
      "<Slide, name = 0563>, width=300, height=375, channels=3, levels=1, RGB=True, dtype=uint8> <valis.slide_io.VipsSlideReader object at 0x7f11bcb641a0> True (375, 300, 3)\n",
      "<Slide, name = 0564>, width=300, height=375, channels=3, levels=1, RGB=True, dtype=uint8> <valis.slide_io.VipsSlideReader object at 0x7f11bcb6c1d0> True (375, 300, 3)\n",
      "<Slide, name = 0565>, width=300, height=375, channels=3, levels=1, RGB=True, dtype=uint8> <valis.slide_io.VipsSlideReader object at 0x7f11bcb6c530> True (375, 300, 3)\n"
     ]
    },
    {
     "name": "stderr",
     "output_type": "stream",
     "text": [
      "Converting images:  21%|██        | 539/2627 [00:05<00:22, 92.05image/s]"
     ]
    },
    {
     "name": "stdout",
     "output_type": "stream",
     "text": [
      "<Slide, name = 0566>, width=300, height=375, channels=3, levels=1, RGB=True, dtype=uint8> <valis.slide_io.VipsSlideReader object at 0x7f11bcb6c8c0> True (375, 300, 3)\n",
      "<Slide, name = 0567>, width=300, height=375, channels=3, levels=1, RGB=True, dtype=uint8> <valis.slide_io.VipsSlideReader object at 0x7f11bcb6c170> True (375, 300, 3)\n",
      "<Slide, name = 0568>, width=300, height=375, channels=3, levels=1, RGB=True, dtype=uint8> <valis.slide_io.VipsSlideReader object at 0x7f11bcb6c920> True (375, 300, 3)\n",
      "<Slide, name = 0569>, width=300, height=375, channels=3, levels=1, RGB=True, dtype=uint8> <valis.slide_io.VipsSlideReader object at 0x7f11bcb6c980> True (375, 300, 3)\n",
      "<Slide, name = 0570>, width=300, height=375, channels=3, levels=1, RGB=True, dtype=uint8> <valis.slide_io.VipsSlideReader object at 0x7f11bcb6c9e0> True (375, 300, 3)\n",
      "<Slide, name = 0571>, width=300, height=375, channels=3, levels=1, RGB=True, dtype=uint8> <valis.slide_io.VipsSlideReader object at 0x7f11bd1925d0> True (375, 300, 3)\n",
      "<Slide, name = 0572>, width=300, height=375, channels=3, levels=1, RGB=True, dtype=uint8> <valis.slide_io.VipsSlideReader object at 0x7f11bcb6cbf0> True (375, 300, 3)\n",
      "<Slide, name = 0573>, width=300, height=375, channels=3, levels=1, RGB=True, dtype=uint8> <valis.slide_io.VipsSlideReader object at 0x7f11bcb6cb30> True (375, 300, 3)\n",
      "<Slide, name = 0574>, width=300, height=375, channels=3, levels=1, RGB=True, dtype=uint8> <valis.slide_io.VipsSlideReader object at 0x7f11bcb6c890> True (375, 300, 3)\n",
      "<Slide, name = 0575>, width=300, height=375, channels=3, levels=1, RGB=True, dtype=uint8> <valis.slide_io.VipsSlideReader object at 0x7f11bcb6c9b0> True (375, 300, 3)\n"
     ]
    },
    {
     "name": "stderr",
     "output_type": "stream",
     "text": [
      "Converting images:  21%|██        | 549/2627 [00:05<00:22, 92.30image/s]"
     ]
    },
    {
     "name": "stdout",
     "output_type": "stream",
     "text": [
      "<Slide, name = 0576>, width=300, height=375, channels=3, levels=1, RGB=True, dtype=uint8> <valis.slide_io.VipsSlideReader object at 0x7f11bcb6cc20> True (375, 300, 3)\n",
      "<Slide, name = 0577>, width=300, height=375, channels=3, levels=1, RGB=True, dtype=uint8> <valis.slide_io.VipsSlideReader object at 0x7f11bcb6cc80> True (375, 300, 3)\n",
      "<Slide, name = 0578>, width=300, height=375, channels=3, levels=1, RGB=True, dtype=uint8> <valis.slide_io.VipsSlideReader object at 0x7f11bcb6cce0> True (375, 300, 3)\n",
      "<Slide, name = 0579>, width=300, height=375, channels=3, levels=1, RGB=True, dtype=uint8> <valis.slide_io.VipsSlideReader object at 0x7f11bcb6cd40> True (375, 300, 3)\n",
      "<Slide, name = 0580>, width=300, height=375, channels=3, levels=1, RGB=True, dtype=uint8> <valis.slide_io.VipsSlideReader object at 0x7f11bccb22d0> True (375, 300, 3)\n",
      "<Slide, name = 0581>, width=300, height=375, channels=3, levels=1, RGB=True, dtype=uint8> <valis.slide_io.VipsSlideReader object at 0x7f11bcb32510> True (375, 300, 3)\n",
      "<Slide, name = 0582>, width=300, height=375, channels=3, levels=1, RGB=True, dtype=uint8> <valis.slide_io.VipsSlideReader object at 0x7f11bcb6cf50> True (375, 300, 3)\n",
      "<Slide, name = 0583>, width=300, height=375, channels=3, levels=1, RGB=True, dtype=uint8> <valis.slide_io.VipsSlideReader object at 0x7f11bcb6cbc0> True (375, 300, 3)\n",
      "<Slide, name = 0584>, width=300, height=375, channels=3, levels=1, RGB=True, dtype=uint8> <valis.slide_io.VipsSlideReader object at 0x7f11bcb6c860> True (375, 300, 3)\n",
      "<Slide, name = 0585>, width=300, height=375, channels=3, levels=1, RGB=True, dtype=uint8> <valis.slide_io.VipsSlideReader object at 0x7f11bcb6ce00> True (375, 300, 3)\n"
     ]
    },
    {
     "name": "stderr",
     "output_type": "stream",
     "text": [
      "Converting images:  21%|██▏       | 559/2627 [00:06<00:22, 92.48image/s]"
     ]
    },
    {
     "name": "stdout",
     "output_type": "stream",
     "text": [
      "<Slide, name = 0586>, width=300, height=375, channels=3, levels=1, RGB=True, dtype=uint8> <valis.slide_io.VipsSlideReader object at 0x7f11bcb6cf80> True (375, 300, 3)\n",
      "<Slide, name = 0587>, width=300, height=375, channels=3, levels=1, RGB=True, dtype=uint8> <valis.slide_io.VipsSlideReader object at 0x7f11bcb6cfe0> True (375, 300, 3)\n",
      "<Slide, name = 0588>, width=300, height=375, channels=3, levels=1, RGB=True, dtype=uint8> <valis.slide_io.VipsSlideReader object at 0x7f11bcb6d040> True (375, 300, 3)\n",
      "<Slide, name = 0589>, width=300, height=375, channels=3, levels=1, RGB=True, dtype=uint8> <valis.slide_io.VipsSlideReader object at 0x7f11bcb6d0a0> True (375, 300, 3)\n",
      "<Slide, name = 0590>, width=300, height=375, channels=3, levels=1, RGB=True, dtype=uint8> <valis.slide_io.VipsSlideReader object at 0x7f11bcb6d100> True (375, 300, 3)\n",
      "<Slide, name = 0591>, width=300, height=375, channels=3, levels=1, RGB=True, dtype=uint8> <valis.slide_io.VipsSlideReader object at 0x7f11bcb6d160> True (375, 300, 3)\n",
      "<Slide, name = 0592>, width=300, height=375, channels=3, levels=1, RGB=True, dtype=uint8> <valis.slide_io.VipsSlideReader object at 0x7f11bcb6d1c0> True (375, 300, 3)\n",
      "<Slide, name = 0593>, width=300, height=375, channels=3, levels=1, RGB=True, dtype=uint8> <valis.slide_io.VipsSlideReader object at 0x7f11bcb6d220> True (375, 300, 3)\n",
      "<Slide, name = 0594>, width=300, height=375, channels=3, levels=1, RGB=True, dtype=uint8> <valis.slide_io.VipsSlideReader object at 0x7f11bcb6d280> True (375, 300, 3)\n",
      "<Slide, name = 0595>, width=300, height=375, channels=3, levels=1, RGB=True, dtype=uint8> <valis.slide_io.VipsSlideReader object at 0x7f11bcb6d2e0> True (375, 300, 3)\n"
     ]
    },
    {
     "name": "stderr",
     "output_type": "stream",
     "text": [
      "Converting images:  22%|██▏       | 569/2627 [00:06<00:22, 92.99image/s]"
     ]
    },
    {
     "name": "stdout",
     "output_type": "stream",
     "text": [
      "<Slide, name = 0596>, width=300, height=375, channels=3, levels=1, RGB=True, dtype=uint8> <valis.slide_io.VipsSlideReader object at 0x7f11bcb6d340> True (375, 300, 3)\n",
      "<Slide, name = 0597>, width=300, height=375, channels=3, levels=1, RGB=True, dtype=uint8> <valis.slide_io.VipsSlideReader object at 0x7f11bcb6d3a0> True (375, 300, 3)\n",
      "<Slide, name = 0598>, width=300, height=375, channels=3, levels=1, RGB=True, dtype=uint8> <valis.slide_io.VipsSlideReader object at 0x7f11bcb6d400> True (375, 300, 3)\n",
      "<Slide, name = 0599>, width=300, height=375, channels=3, levels=1, RGB=True, dtype=uint8> <valis.slide_io.VipsSlideReader object at 0x7f11bcb6d460> True (375, 300, 3)\n",
      "<Slide, name = 0600>, width=300, height=375, channels=3, levels=1, RGB=True, dtype=uint8> <valis.slide_io.VipsSlideReader object at 0x7f11bcb6d4c0> True (375, 300, 3)\n",
      "<Slide, name = 0601>, width=300, height=375, channels=3, levels=1, RGB=True, dtype=uint8> <valis.slide_io.VipsSlideReader object at 0x7f11bcb6d520> True (375, 300, 3)\n",
      "<Slide, name = 0602>, width=300, height=375, channels=3, levels=1, RGB=True, dtype=uint8> <valis.slide_io.VipsSlideReader object at 0x7f11bcb6d580> True (375, 300, 3)\n",
      "<Slide, name = 0603>, width=300, height=375, channels=3, levels=1, RGB=True, dtype=uint8> <valis.slide_io.VipsSlideReader object at 0x7f11bcb6d5e0> True (375, 300, 3)\n",
      "<Slide, name = 0604>, width=300, height=375, channels=3, levels=1, RGB=True, dtype=uint8> <valis.slide_io.VipsSlideReader object at 0x7f11bcb6d640> True (375, 300, 3)\n",
      "<Slide, name = 0605>, width=300, height=375, channels=3, levels=1, RGB=True, dtype=uint8> <valis.slide_io.VipsSlideReader object at 0x7f11bcb68c50> True (375, 300, 3)\n"
     ]
    },
    {
     "name": "stderr",
     "output_type": "stream",
     "text": [
      "Converting images:  22%|██▏       | 579/2627 [00:06<00:22, 92.50image/s]"
     ]
    },
    {
     "name": "stdout",
     "output_type": "stream",
     "text": [
      "<Slide, name = 0606>, width=300, height=375, channels=3, levels=1, RGB=True, dtype=uint8> <valis.slide_io.VipsSlideReader object at 0x7f11bcb6b890> True (375, 300, 3)\n",
      "<Slide, name = 0607>, width=300, height=375, channels=3, levels=1, RGB=True, dtype=uint8> <valis.slide_io.VipsSlideReader object at 0x7f11bcb6d850> True (375, 300, 3)\n",
      "<Slide, name = 0608>, width=300, height=375, channels=3, levels=1, RGB=True, dtype=uint8> <valis.slide_io.VipsSlideReader object at 0x7f11bcb6d4f0> True (375, 300, 3)\n",
      "<Slide, name = 0609>, width=300, height=375, channels=3, levels=1, RGB=True, dtype=uint8> <valis.slide_io.VipsSlideReader object at 0x7f11bcb6cc50> True (375, 300, 3)\n",
      "<Slide, name = 0610>, width=300, height=375, channels=3, levels=1, RGB=True, dtype=uint8> <valis.slide_io.VipsSlideReader object at 0x7f11bcb6d700> True (375, 300, 3)\n",
      "<Slide, name = 0611>, width=300, height=375, channels=3, levels=1, RGB=True, dtype=uint8> <valis.slide_io.VipsSlideReader object at 0x7f11bcb6d880> True (375, 300, 3)\n",
      "<Slide, name = 0612>, width=300, height=375, channels=3, levels=1, RGB=True, dtype=uint8> <valis.slide_io.VipsSlideReader object at 0x7f11bcb6d8e0> True (375, 300, 3)\n",
      "<Slide, name = 0613>, width=300, height=375, channels=3, levels=1, RGB=True, dtype=uint8> <valis.slide_io.VipsSlideReader object at 0x7f11bcb6d940> True (375, 300, 3)\n",
      "<Slide, name = 0614>, width=300, height=375, channels=3, levels=1, RGB=True, dtype=uint8> <valis.slide_io.VipsSlideReader object at 0x7f11bcb6d9a0> True (375, 300, 3)\n",
      "<Slide, name = 0615>, width=300, height=375, channels=3, levels=1, RGB=True, dtype=uint8> <valis.slide_io.VipsSlideReader object at 0x7f11bcb6da00> True (375, 300, 3)\n"
     ]
    },
    {
     "name": "stderr",
     "output_type": "stream",
     "text": [
      "Converting images:  22%|██▏       | 589/2627 [00:06<00:22, 91.31image/s]"
     ]
    },
    {
     "name": "stdout",
     "output_type": "stream",
     "text": [
      "<Slide, name = 0616>, width=300, height=375, channels=3, levels=1, RGB=True, dtype=uint8> <valis.slide_io.VipsSlideReader object at 0x7f11bcb6da60> True (375, 300, 3)\n",
      "<Slide, name = 0617>, width=300, height=375, channels=3, levels=1, RGB=True, dtype=uint8> <valis.slide_io.VipsSlideReader object at 0x7f11bcb6dac0> True (375, 300, 3)\n",
      "<Slide, name = 0618>, width=300, height=375, channels=3, levels=1, RGB=True, dtype=uint8> <valis.slide_io.VipsSlideReader object at 0x7f11bcb6db20> True (375, 300, 3)\n",
      "<Slide, name = 0619>, width=300, height=375, channels=3, levels=1, RGB=True, dtype=uint8> <valis.slide_io.VipsSlideReader object at 0x7f11bcb6db80> True (375, 300, 3)\n",
      "<Slide, name = 0620>, width=300, height=375, channels=3, levels=1, RGB=True, dtype=uint8> <valis.slide_io.VipsSlideReader object at 0x7f11bcb6dbe0> True (375, 300, 3)\n",
      "<Slide, name = 0621>, width=300, height=375, channels=3, levels=1, RGB=True, dtype=uint8> <valis.slide_io.VipsSlideReader object at 0x7f11bcb6dc40> True (375, 300, 3)\n",
      "<Slide, name = 0622>, width=300, height=375, channels=3, levels=1, RGB=True, dtype=uint8> <valis.slide_io.VipsSlideReader object at 0x7f11bcb6dca0> True (375, 300, 3)\n",
      "<Slide, name = 0623>, width=300, height=375, channels=3, levels=1, RGB=True, dtype=uint8> <valis.slide_io.VipsSlideReader object at 0x7f11bcb6dd00> True (375, 300, 3)\n",
      "<Slide, name = 0624>, width=300, height=375, channels=3, levels=1, RGB=True, dtype=uint8> <valis.slide_io.VipsSlideReader object at 0x7f11bcb6dd60> True (375, 300, 3)\n",
      "<Slide, name = 0625>, width=300, height=375, channels=3, levels=1, RGB=True, dtype=uint8> <valis.slide_io.VipsSlideReader object at 0x7f11bcb6ddc0> True (375, 300, 3)\n"
     ]
    },
    {
     "name": "stderr",
     "output_type": "stream",
     "text": [
      "Converting images:  23%|██▎       | 599/2627 [00:06<00:22, 90.66image/s]"
     ]
    },
    {
     "name": "stdout",
     "output_type": "stream",
     "text": [
      "<Slide, name = 0626>, width=300, height=375, channels=3, levels=1, RGB=True, dtype=uint8> <valis.slide_io.VipsSlideReader object at 0x7f11bcb6de20> True (375, 300, 3)\n",
      "<Slide, name = 0627>, width=300, height=375, channels=3, levels=1, RGB=True, dtype=uint8> <valis.slide_io.VipsSlideReader object at 0x7f11bcb6de80> True (375, 300, 3)\n",
      "<Slide, name = 0628>, width=300, height=375, channels=3, levels=1, RGB=True, dtype=uint8> <valis.slide_io.VipsSlideReader object at 0x7f11bcb6dee0> True (375, 300, 3)\n",
      "<Slide, name = 0629>, width=300, height=375, channels=3, levels=1, RGB=True, dtype=uint8> <valis.slide_io.VipsSlideReader object at 0x7f11bcb6df40> True (375, 300, 3)\n",
      "<Slide, name = 0630>, width=300, height=375, channels=3, levels=1, RGB=True, dtype=uint8> <valis.slide_io.VipsSlideReader object at 0x7f11bcb6dfa0> True (375, 300, 3)\n",
      "<Slide, name = 0631>, width=300, height=375, channels=3, levels=1, RGB=True, dtype=uint8> <valis.slide_io.VipsSlideReader object at 0x7f11bcb6e000> True (375, 300, 3)\n",
      "<Slide, name = 0632>, width=300, height=375, channels=3, levels=1, RGB=True, dtype=uint8> <valis.slide_io.VipsSlideReader object at 0x7f11bcb6e060> True (375, 300, 3)\n",
      "<Slide, name = 0633>, width=300, height=375, channels=3, levels=1, RGB=True, dtype=uint8> <valis.slide_io.VipsSlideReader object at 0x7f11bcb6e0c0> True (375, 300, 3)\n",
      "<Slide, name = 0634>, width=300, height=375, channels=3, levels=1, RGB=True, dtype=uint8> <valis.slide_io.VipsSlideReader object at 0x7f11bcb6e120> True (375, 300, 3)\n",
      "<Slide, name = 0635>, width=300, height=375, channels=3, levels=1, RGB=True, dtype=uint8> <valis.slide_io.VipsSlideReader object at 0x7f11bcb6e180> True (375, 300, 3)\n"
     ]
    },
    {
     "name": "stderr",
     "output_type": "stream",
     "text": [
      "Converting images:  23%|██▎       | 609/2627 [00:06<00:22, 89.86image/s]"
     ]
    },
    {
     "name": "stdout",
     "output_type": "stream",
     "text": [
      "<Slide, name = 0636>, width=300, height=375, channels=3, levels=1, RGB=True, dtype=uint8> <valis.slide_io.VipsSlideReader object at 0x7f11bcb6e1e0> True (375, 300, 3)\n",
      "<Slide, name = 0637>, width=300, height=375, channels=3, levels=1, RGB=True, dtype=uint8> <valis.slide_io.VipsSlideReader object at 0x7f11bcb6e240> True (375, 300, 3)\n",
      "<Slide, name = 0638>, width=300, height=375, channels=3, levels=1, RGB=True, dtype=uint8> <valis.slide_io.VipsSlideReader object at 0x7f11bcb6a090> True (375, 300, 3)\n",
      "<Slide, name = 0639>, width=300, height=375, channels=3, levels=1, RGB=True, dtype=uint8> <valis.slide_io.VipsSlideReader object at 0x7f11bcb6e420> True (375, 300, 3)\n",
      "<Slide, name = 0640>, width=300, height=375, channels=3, levels=1, RGB=True, dtype=uint8> <valis.slide_io.VipsSlideReader object at 0x7f11bcb6e360> True (375, 300, 3)\n",
      "<Slide, name = 0641>, width=300, height=375, channels=3, levels=1, RGB=True, dtype=uint8> <valis.slide_io.VipsSlideReader object at 0x7f11bcb6e0f0> True (375, 300, 3)\n",
      "<Slide, name = 0642>, width=300, height=375, channels=3, levels=1, RGB=True, dtype=uint8> <valis.slide_io.VipsSlideReader object at 0x7f11bcb6e210> True (375, 300, 3)\n",
      "<Slide, name = 0643>, width=300, height=375, channels=3, levels=1, RGB=True, dtype=uint8> <valis.slide_io.VipsSlideReader object at 0x7f11bcb6e450> True (375, 300, 3)\n",
      "<Slide, name = 0644>, width=300, height=375, channels=3, levels=1, RGB=True, dtype=uint8> <valis.slide_io.VipsSlideReader object at 0x7f11bcb6e4b0> True (375, 300, 3)\n"
     ]
    },
    {
     "name": "stderr",
     "output_type": "stream",
     "text": [
      "Converting images:  24%|██▎       | 618/2627 [00:06<00:22, 89.13image/s]"
     ]
    },
    {
     "name": "stdout",
     "output_type": "stream",
     "text": [
      "<Slide, name = 0645>, width=300, height=375, channels=3, levels=1, RGB=True, dtype=uint8> <valis.slide_io.VipsSlideReader object at 0x7f11bcb6e510> True (375, 300, 3)\n",
      "<Slide, name = 0646>, width=300, height=375, channels=3, levels=1, RGB=True, dtype=uint8> <valis.slide_io.VipsSlideReader object at 0x7f11bcb6e570> True (375, 300, 3)\n",
      "<Slide, name = 0647>, width=300, height=375, channels=3, levels=1, RGB=True, dtype=uint8> <valis.slide_io.VipsSlideReader object at 0x7f11bcb6e5d0> True (375, 300, 3)\n",
      "<Slide, name = 0648>, width=300, height=375, channels=3, levels=1, RGB=True, dtype=uint8> <valis.slide_io.VipsSlideReader object at 0x7f11bcb6e630> True (375, 300, 3)\n",
      "<Slide, name = 0649>, width=300, height=375, channels=3, levels=1, RGB=True, dtype=uint8> <valis.slide_io.VipsSlideReader object at 0x7f11bcb6e690> True (375, 300, 3)\n",
      "<Slide, name = 0650>, width=300, height=375, channels=3, levels=1, RGB=True, dtype=uint8> <valis.slide_io.VipsSlideReader object at 0x7f11bcb68590> True (375, 300, 3)\n",
      "<Slide, name = 0651>, width=300, height=375, channels=3, levels=1, RGB=True, dtype=uint8> <valis.slide_io.VipsSlideReader object at 0x7f11bcb6e870> True (375, 300, 3)\n",
      "<Slide, name = 0652>, width=300, height=375, channels=3, levels=1, RGB=True, dtype=uint8> <valis.slide_io.VipsSlideReader object at 0x7f11bcb6e7b0> True (375, 300, 3)\n",
      "<Slide, name = 0653>, width=300, height=375, channels=3, levels=1, RGB=True, dtype=uint8> <valis.slide_io.VipsSlideReader object at 0x7f11bcb6e540> True (375, 300, 3)\n"
     ]
    },
    {
     "name": "stderr",
     "output_type": "stream",
     "text": [
      "Converting images:  24%|██▍       | 627/2627 [00:06<00:22, 88.59image/s]"
     ]
    },
    {
     "name": "stdout",
     "output_type": "stream",
     "text": [
      "<Slide, name = 0654>, width=300, height=375, channels=3, levels=1, RGB=True, dtype=uint8> <valis.slide_io.VipsSlideReader object at 0x7f11bcb6e660> True (375, 300, 3)\n",
      "<Slide, name = 0655>, width=300, height=375, channels=3, levels=1, RGB=True, dtype=uint8> <valis.slide_io.VipsSlideReader object at 0x7f11bcb6e8a0> True (375, 300, 3)\n",
      "<Slide, name = 0656>, width=300, height=375, channels=3, levels=1, RGB=True, dtype=uint8> <valis.slide_io.VipsSlideReader object at 0x7f11bcb6e900> True (375, 300, 3)\n",
      "<Slide, name = 0657>, width=300, height=375, channels=3, levels=1, RGB=True, dtype=uint8> <valis.slide_io.VipsSlideReader object at 0x7f11bcb6e960> True (375, 300, 3)\n",
      "<Slide, name = 0658>, width=300, height=375, channels=3, levels=1, RGB=True, dtype=uint8> <valis.slide_io.VipsSlideReader object at 0x7f11bcb6e9c0> True (375, 300, 3)\n",
      "<Slide, name = 0659>, width=300, height=375, channels=3, levels=1, RGB=True, dtype=uint8> <valis.slide_io.VipsSlideReader object at 0x7f11bcb6ea20> True (375, 300, 3)\n",
      "<Slide, name = 0660>, width=300, height=375, channels=3, levels=1, RGB=True, dtype=uint8> <valis.slide_io.VipsSlideReader object at 0x7f11bcb6ea80> True (375, 300, 3)\n",
      "<Slide, name = 0661>, width=300, height=375, channels=3, levels=1, RGB=True, dtype=uint8> <valis.slide_io.VipsSlideReader object at 0x7f11bcb69190> True (375, 300, 3)\n",
      "<Slide, name = 0662>, width=300, height=375, channels=3, levels=1, RGB=True, dtype=uint8> <valis.slide_io.VipsSlideReader object at 0x7f11bcb6ec60> True (375, 300, 3)\n"
     ]
    },
    {
     "name": "stderr",
     "output_type": "stream",
     "text": [
      "Converting images:  24%|██▍       | 636/2627 [00:06<00:22, 88.01image/s]"
     ]
    },
    {
     "name": "stdout",
     "output_type": "stream",
     "text": [
      "<Slide, name = 0663>, width=300, height=375, channels=3, levels=1, RGB=True, dtype=uint8> <valis.slide_io.VipsSlideReader object at 0x7f11bcb6eba0> True (375, 300, 3)\n",
      "<Slide, name = 0664>, width=300, height=375, channels=3, levels=1, RGB=True, dtype=uint8> <valis.slide_io.VipsSlideReader object at 0x7f11bcb6e930> True (375, 300, 3)\n",
      "<Slide, name = 0665>, width=300, height=375, channels=3, levels=1, RGB=True, dtype=uint8> <valis.slide_io.VipsSlideReader object at 0x7f11bcb6ea50> True (375, 300, 3)\n",
      "<Slide, name = 0666>, width=300, height=375, channels=3, levels=1, RGB=True, dtype=uint8> <valis.slide_io.VipsSlideReader object at 0x7f11bcb6ec90> True (375, 300, 3)\n",
      "<Slide, name = 0667>, width=300, height=375, channels=3, levels=1, RGB=True, dtype=uint8> <valis.slide_io.VipsSlideReader object at 0x7f11bcb68dd0> True (375, 300, 3)\n",
      "<Slide, name = 0668>, width=300, height=375, channels=3, levels=1, RGB=True, dtype=uint8> <valis.slide_io.VipsSlideReader object at 0x7f11bcb6ee70> True (375, 300, 3)\n",
      "<Slide, name = 0669>, width=300, height=375, channels=3, levels=1, RGB=True, dtype=uint8> <valis.slide_io.VipsSlideReader object at 0x7f11bcb6edb0> True (375, 300, 3)\n",
      "<Slide, name = 0670>, width=300, height=375, channels=3, levels=1, RGB=True, dtype=uint8> <valis.slide_io.VipsSlideReader object at 0x7f11bcb6eab0> True (375, 300, 3)\n",
      "<Slide, name = 0671>, width=300, height=375, channels=3, levels=1, RGB=True, dtype=uint8> <valis.slide_io.VipsSlideReader object at 0x7f11bcb6ec30> True (375, 300, 3)\n",
      "<Slide, name = 0672>, width=300, height=375, channels=3, levels=1, RGB=True, dtype=uint8> <valis.slide_io.VipsSlideReader object at 0x7f11bcb6eea0> True (375, 300, 3)\n"
     ]
    },
    {
     "name": "stderr",
     "output_type": "stream",
     "text": [
      "Converting images:  25%|██▍       | 646/2627 [00:07<00:22, 89.42image/s]"
     ]
    },
    {
     "name": "stdout",
     "output_type": "stream",
     "text": [
      "<Slide, name = 0673>, width=300, height=375, channels=3, levels=1, RGB=True, dtype=uint8> <valis.slide_io.VipsSlideReader object at 0x7f11bcb6ef00> True (375, 300, 3)\n",
      "<Slide, name = 0674>, width=300, height=375, channels=3, levels=1, RGB=True, dtype=uint8> <valis.slide_io.VipsSlideReader object at 0x7f11bcb6ef60> True (375, 300, 3)\n",
      "<Slide, name = 0675>, width=300, height=375, channels=3, levels=1, RGB=True, dtype=uint8> <valis.slide_io.VipsSlideReader object at 0x7f11bcb6efc0> True (375, 300, 3)\n",
      "<Slide, name = 0676>, width=300, height=375, channels=3, levels=1, RGB=True, dtype=uint8> <valis.slide_io.VipsSlideReader object at 0x7f11bcb6f020> True (375, 300, 3)\n",
      "<Slide, name = 0677>, width=300, height=375, channels=3, levels=1, RGB=True, dtype=uint8> <valis.slide_io.VipsSlideReader object at 0x7f11bcb6f080> True (375, 300, 3)\n",
      "<Slide, name = 0678>, width=300, height=375, channels=3, levels=1, RGB=True, dtype=uint8> <valis.slide_io.VipsSlideReader object at 0x7f11bcb6f0e0> True (375, 300, 3)\n",
      "<Slide, name = 0679>, width=300, height=375, channels=3, levels=1, RGB=True, dtype=uint8> <valis.slide_io.VipsSlideReader object at 0x7f11bcb6f140> True (375, 300, 3)\n",
      "<Slide, name = 0680>, width=300, height=375, channels=3, levels=1, RGB=True, dtype=uint8> <valis.slide_io.VipsSlideReader object at 0x7f11bcb6f1a0> True (375, 300, 3)\n",
      "<Slide, name = 0681>, width=300, height=375, channels=3, levels=1, RGB=True, dtype=uint8> <valis.slide_io.VipsSlideReader object at 0x7f11bcb6f200> True (375, 300, 3)\n",
      "<Slide, name = 0682>, width=300, height=375, channels=3, levels=1, RGB=True, dtype=uint8> <valis.slide_io.VipsSlideReader object at 0x7f11bcb6f260> True (375, 300, 3)\n"
     ]
    },
    {
     "name": "stderr",
     "output_type": "stream",
     "text": [
      "Converting images:  25%|██▍       | 656/2627 [00:07<00:21, 90.38image/s]"
     ]
    },
    {
     "name": "stdout",
     "output_type": "stream",
     "text": [
      "<Slide, name = 0683>, width=300, height=375, channels=3, levels=1, RGB=True, dtype=uint8> <valis.slide_io.VipsSlideReader object at 0x7f11bcb6f2c0> True (375, 300, 3)\n",
      "<Slide, name = 0684>, width=300, height=375, channels=3, levels=1, RGB=True, dtype=uint8> <valis.slide_io.VipsSlideReader object at 0x7f11bcb6f320> True (375, 300, 3)\n",
      "<Slide, name = 0685>, width=300, height=375, channels=3, levels=1, RGB=True, dtype=uint8> <valis.slide_io.VipsSlideReader object at 0x7f11bcb6f380> True (375, 300, 3)\n",
      "<Slide, name = 0686>, width=300, height=375, channels=3, levels=1, RGB=True, dtype=uint8> <valis.slide_io.VipsSlideReader object at 0x7f11bcb6f3e0> True (375, 300, 3)\n",
      "<Slide, name = 0687>, width=300, height=375, channels=3, levels=1, RGB=True, dtype=uint8> <valis.slide_io.VipsSlideReader object at 0x7f11bcb6f440> True (375, 300, 3)\n",
      "<Slide, name = 0688>, width=300, height=375, channels=3, levels=1, RGB=True, dtype=uint8> <valis.slide_io.VipsSlideReader object at 0x7f11bcb6f4a0> True (375, 300, 3)\n",
      "<Slide, name = 0689>, width=300, height=375, channels=3, levels=1, RGB=True, dtype=uint8> <valis.slide_io.VipsSlideReader object at 0x7f11bcb6f500> True (375, 300, 3)\n",
      "<Slide, name = 0690>, width=300, height=375, channels=3, levels=1, RGB=True, dtype=uint8> <valis.slide_io.VipsSlideReader object at 0x7f11bcb6f560> True (375, 300, 3)\n",
      "<Slide, name = 0691>, width=300, height=375, channels=3, levels=1, RGB=True, dtype=uint8> <valis.slide_io.VipsSlideReader object at 0x7f11bcb6f5c0> True (375, 300, 3)\n",
      "<Slide, name = 0692>, width=300, height=375, channels=3, levels=1, RGB=True, dtype=uint8> <valis.slide_io.VipsSlideReader object at 0x7f11bcb6f620> True (375, 300, 3)\n"
     ]
    },
    {
     "name": "stderr",
     "output_type": "stream",
     "text": [
      "Converting images:  25%|██▌       | 666/2627 [00:07<00:21, 90.11image/s]"
     ]
    },
    {
     "name": "stdout",
     "output_type": "stream",
     "text": [
      "<Slide, name = 0693>, width=300, height=375, channels=3, levels=1, RGB=True, dtype=uint8> <valis.slide_io.VipsSlideReader object at 0x7f11bcb6f680> True (375, 300, 3)\n",
      "<Slide, name = 0694>, width=300, height=375, channels=3, levels=1, RGB=True, dtype=uint8> <valis.slide_io.VipsSlideReader object at 0x7f11bcb6f6e0> True (375, 300, 3)\n",
      "<Slide, name = 0695>, width=300, height=375, channels=3, levels=1, RGB=True, dtype=uint8> <valis.slide_io.VipsSlideReader object at 0x7f11bcb6f740> True (375, 300, 3)\n",
      "<Slide, name = 0696>, width=300, height=375, channels=3, levels=1, RGB=True, dtype=uint8> <valis.slide_io.VipsSlideReader object at 0x7f11bcb6f7a0> True (375, 300, 3)\n",
      "<Slide, name = 0697>, width=300, height=375, channels=3, levels=1, RGB=True, dtype=uint8> <valis.slide_io.VipsSlideReader object at 0x7f11bcb6f800> True (375, 300, 3)\n",
      "<Slide, name = 0698>, width=300, height=375, channels=3, levels=1, RGB=True, dtype=uint8> <valis.slide_io.VipsSlideReader object at 0x7f11bcb6f860> True (375, 300, 3)\n",
      "<Slide, name = 0699>, width=300, height=375, channels=3, levels=1, RGB=True, dtype=uint8> <valis.slide_io.VipsSlideReader object at 0x7f11bcb6f8c0> True (375, 300, 3)\n",
      "<Slide, name = 0700>, width=300, height=375, channels=3, levels=1, RGB=True, dtype=uint8> <valis.slide_io.VipsSlideReader object at 0x7f11bcb6f920> True (375, 300, 3)\n",
      "<Slide, name = 0701>, width=300, height=375, channels=3, levels=1, RGB=True, dtype=uint8> <valis.slide_io.VipsSlideReader object at 0x7f11bcb6f980> True (375, 300, 3)\n",
      "<Slide, name = 0702>, width=300, height=375, channels=3, levels=1, RGB=True, dtype=uint8> <valis.slide_io.VipsSlideReader object at 0x7f11bcb6f9e0> True (375, 300, 3)\n"
     ]
    },
    {
     "name": "stderr",
     "output_type": "stream",
     "text": [
      "Converting images:  26%|██▌       | 676/2627 [00:07<00:21, 90.17image/s]"
     ]
    },
    {
     "name": "stdout",
     "output_type": "stream",
     "text": [
      "<Slide, name = 0703>, width=300, height=375, channels=3, levels=1, RGB=True, dtype=uint8> <valis.slide_io.VipsSlideReader object at 0x7f11bcb6fa40> True (375, 300, 3)\n",
      "<Slide, name = 0704>, width=300, height=375, channels=3, levels=1, RGB=True, dtype=uint8> <valis.slide_io.VipsSlideReader object at 0x7f11bcb6faa0> True (375, 300, 3)\n",
      "<Slide, name = 0705>, width=300, height=375, channels=3, levels=1, RGB=True, dtype=uint8> <valis.slide_io.VipsSlideReader object at 0x7f11bcb6fb00> True (375, 300, 3)\n",
      "<Slide, name = 0706>, width=300, height=375, channels=3, levels=1, RGB=True, dtype=uint8> <valis.slide_io.VipsSlideReader object at 0x7f11bcb6fb60> True (375, 300, 3)\n",
      "<Slide, name = 0707>, width=300, height=375, channels=3, levels=1, RGB=True, dtype=uint8> <valis.slide_io.VipsSlideReader object at 0x7f11bcb6fbc0> True (375, 300, 3)\n",
      "<Slide, name = 0708>, width=300, height=375, channels=3, levels=1, RGB=True, dtype=uint8> <valis.slide_io.VipsSlideReader object at 0x7f11bcb6fc20> True (375, 300, 3)\n",
      "<Slide, name = 0709>, width=300, height=375, channels=3, levels=1, RGB=True, dtype=uint8> <valis.slide_io.VipsSlideReader object at 0x7f11bcb6fc80> True (375, 300, 3)\n",
      "<Slide, name = 0710>, width=300, height=375, channels=3, levels=1, RGB=True, dtype=uint8> <valis.slide_io.VipsSlideReader object at 0x7f11bcb6fce0> True (375, 300, 3)\n",
      "<Slide, name = 0711>, width=300, height=375, channels=3, levels=1, RGB=True, dtype=uint8> <valis.slide_io.VipsSlideReader object at 0x7f11bcb6fd40> True (375, 300, 3)\n",
      "<Slide, name = 0712>, width=300, height=375, channels=3, levels=1, RGB=True, dtype=uint8> <valis.slide_io.VipsSlideReader object at 0x7f11bcb6fda0> True (375, 300, 3)\n"
     ]
    },
    {
     "name": "stderr",
     "output_type": "stream",
     "text": [
      "Converting images:  26%|██▌       | 686/2627 [00:07<00:21, 90.14image/s]"
     ]
    },
    {
     "name": "stdout",
     "output_type": "stream",
     "text": [
      "<Slide, name = 0713>, width=300, height=375, channels=3, levels=1, RGB=True, dtype=uint8> <valis.slide_io.VipsSlideReader object at 0x7f11bcb6fe00> True (375, 300, 3)\n",
      "<Slide, name = 0714>, width=300, height=375, channels=3, levels=1, RGB=True, dtype=uint8> <valis.slide_io.VipsSlideReader object at 0x7f11bcb6fe60> True (375, 300, 3)\n",
      "<Slide, name = 0715>, width=300, height=375, channels=3, levels=1, RGB=True, dtype=uint8> <valis.slide_io.VipsSlideReader object at 0x7f11bcb6fec0> True (375, 300, 3)\n",
      "<Slide, name = 0716>, width=300, height=375, channels=3, levels=1, RGB=True, dtype=uint8> <valis.slide_io.VipsSlideReader object at 0x7f11bcb6ff50> True (375, 300, 3)\n",
      "<Slide, name = 0717>, width=300, height=375, channels=3, levels=1, RGB=True, dtype=uint8> <valis.slide_io.VipsSlideReader object at 0x7f11bcb6fef0> True (375, 300, 3)\n",
      "<Slide, name = 0718>, width=300, height=375, channels=3, levels=1, RGB=True, dtype=uint8> <valis.slide_io.VipsSlideReader object at 0x7f11bcb6fd70> True (375, 300, 3)\n",
      "<Slide, name = 0719>, width=300, height=375, channels=3, levels=1, RGB=True, dtype=uint8> <valis.slide_io.VipsSlideReader object at 0x7f11bcb6fe30> True (375, 300, 3)\n",
      "<Slide, name = 0720>, width=300, height=375, channels=3, levels=1, RGB=True, dtype=uint8> <valis.slide_io.VipsSlideReader object at 0x7f11bcb6ff80> True (375, 300, 3)\n",
      "<Slide, name = 0721>, width=300, height=375, channels=3, levels=1, RGB=True, dtype=uint8> <valis.slide_io.VipsSlideReader object at 0x7f11bcb6ffe0> True (375, 300, 3)\n",
      "<Slide, name = 0722>, width=300, height=375, channels=3, levels=1, RGB=True, dtype=uint8> <valis.slide_io.VipsSlideReader object at 0x7f11bcb6fd10> True (375, 300, 3)\n"
     ]
    },
    {
     "name": "stderr",
     "output_type": "stream",
     "text": [
      "Converting images:  26%|██▋       | 696/2627 [00:07<00:21, 90.26image/s]"
     ]
    },
    {
     "name": "stdout",
     "output_type": "stream",
     "text": [
      "<Slide, name = 0723>, width=300, height=375, channels=3, levels=1, RGB=True, dtype=uint8> <valis.slide_io.VipsSlideReader object at 0x7f11bcb70230> True (375, 300, 3)\n",
      "<Slide, name = 0724>, width=300, height=375, channels=3, levels=1, RGB=True, dtype=uint8> <valis.slide_io.VipsSlideReader object at 0x7f11bcb700e0> True (375, 300, 3)\n",
      "<Slide, name = 0725>, width=300, height=375, channels=3, levels=1, RGB=True, dtype=uint8> <valis.slide_io.VipsSlideReader object at 0x7f11bcb70290> True (375, 300, 3)\n",
      "<Slide, name = 0726>, width=300, height=375, channels=3, levels=1, RGB=True, dtype=uint8> <valis.slide_io.VipsSlideReader object at 0x7f11bcb50140> True (375, 300, 3)\n",
      "<Slide, name = 0727>, width=300, height=375, channels=3, levels=1, RGB=True, dtype=uint8> <valis.slide_io.VipsSlideReader object at 0x7f11bcb70350> True (375, 300, 3)\n",
      "<Slide, name = 0728>, width=300, height=375, channels=3, levels=1, RGB=True, dtype=uint8> <valis.slide_io.VipsSlideReader object at 0x7f11bcb70050> True (375, 300, 3)\n",
      "<Slide, name = 0729>, width=300, height=375, channels=3, levels=1, RGB=True, dtype=uint8> <valis.slide_io.VipsSlideReader object at 0x7f11bcb68470> True (375, 300, 3)\n",
      "<Slide, name = 0730>, width=300, height=375, channels=3, levels=1, RGB=True, dtype=uint8> <valis.slide_io.VipsSlideReader object at 0x7f11bcb68620> True (375, 300, 3)\n",
      "<Slide, name = 0731>, width=300, height=375, channels=3, levels=1, RGB=True, dtype=uint8> <valis.slide_io.VipsSlideReader object at 0x7f11bcb68200> True (375, 300, 3)\n",
      "<Slide, name = 0732>, width=300, height=375, channels=3, levels=1, RGB=True, dtype=uint8> <valis.slide_io.VipsSlideReader object at 0x7f11bcb505f0> True (375, 300, 3)\n"
     ]
    },
    {
     "name": "stderr",
     "output_type": "stream",
     "text": [
      "Converting images:  27%|██▋       | 706/2627 [00:07<00:21, 89.95image/s]"
     ]
    },
    {
     "name": "stdout",
     "output_type": "stream",
     "text": [
      "<Slide, name = 0733>, width=300, height=375, channels=3, levels=1, RGB=True, dtype=uint8> <valis.slide_io.VipsSlideReader object at 0x7f11bcb68650> True (375, 300, 3)\n",
      "<Slide, name = 0734>, width=300, height=375, channels=3, levels=1, RGB=True, dtype=uint8> <valis.slide_io.VipsSlideReader object at 0x7f11bcb70590> True (375, 300, 3)\n",
      "<Slide, name = 0735>, width=300, height=375, channels=3, levels=1, RGB=True, dtype=uint8> <valis.slide_io.VipsSlideReader object at 0x7f11bcb682f0> True (375, 300, 3)\n",
      "<Slide, name = 0736>, width=300, height=375, channels=3, levels=1, RGB=True, dtype=uint8> <valis.slide_io.VipsSlideReader object at 0x7f11bcb70440> True (375, 300, 3)\n",
      "<Slide, name = 0737>, width=300, height=375, channels=3, levels=1, RGB=True, dtype=uint8> <valis.slide_io.VipsSlideReader object at 0x7f11bcb70890> True (375, 300, 3)\n",
      "<Slide, name = 0738>, width=300, height=375, channels=3, levels=1, RGB=True, dtype=uint8> <valis.slide_io.VipsSlideReader object at 0x7f11bcb50380> True (375, 300, 3)\n",
      "<Slide, name = 0739>, width=300, height=375, channels=3, levels=1, RGB=True, dtype=uint8> <valis.slide_io.VipsSlideReader object at 0x7f11bcb489e0> True (375, 300, 3)\n",
      "<Slide, name = 0740>, width=300, height=375, channels=3, levels=1, RGB=True, dtype=uint8> <valis.slide_io.VipsSlideReader object at 0x7f11bcb70980> True (375, 300, 3)\n",
      "<Slide, name = 0741>, width=300, height=375, channels=3, levels=1, RGB=True, dtype=uint8> <valis.slide_io.VipsSlideReader object at 0x7f11bcb689b0> True (375, 300, 3)\n"
     ]
    },
    {
     "name": "stderr",
     "output_type": "stream",
     "text": [
      "Converting images:  27%|██▋       | 715/2627 [00:07<00:21, 89.77image/s]"
     ]
    },
    {
     "name": "stdout",
     "output_type": "stream",
     "text": [
      "<Slide, name = 0742>, width=300, height=375, channels=3, levels=1, RGB=True, dtype=uint8> <valis.slide_io.VipsSlideReader object at 0x7f11bcb70860> True (375, 300, 3)\n",
      "<Slide, name = 0743>, width=300, height=375, channels=3, levels=1, RGB=True, dtype=uint8> <valis.slide_io.VipsSlideReader object at 0x7f11bcb68a40> True (375, 300, 3)\n",
      "<Slide, name = 0744>, width=300, height=375, channels=3, levels=1, RGB=True, dtype=uint8> <valis.slide_io.VipsSlideReader object at 0x7f11bcb53dd0> True (375, 300, 3)\n",
      "<Slide, name = 0745>, width=300, height=375, channels=3, levels=1, RGB=True, dtype=uint8> <valis.slide_io.VipsSlideReader object at 0x7f11bcb68b00> True (375, 300, 3)\n",
      "<Slide, name = 0746>, width=300, height=375, channels=3, levels=1, RGB=True, dtype=uint8> <valis.slide_io.VipsSlideReader object at 0x7f11bd1b8b60> True (375, 300, 3)\n",
      "<Slide, name = 0747>, width=300, height=375, channels=3, levels=1, RGB=True, dtype=uint8> <valis.slide_io.VipsSlideReader object at 0x7f11bd1c8bc0> True (375, 300, 3)\n",
      "<Slide, name = 0748>, width=300, height=375, channels=3, levels=1, RGB=True, dtype=uint8> <valis.slide_io.VipsSlideReader object at 0x7f11bcb70710> True (375, 300, 3)\n",
      "<Slide, name = 0749>, width=300, height=375, channels=3, levels=1, RGB=True, dtype=uint8> <valis.slide_io.VipsSlideReader object at 0x7f11bcb70c80> True (375, 300, 3)\n",
      "<Slide, name = 0750>, width=300, height=375, channels=3, levels=1, RGB=True, dtype=uint8> <valis.slide_io.VipsSlideReader object at 0x7f11bcb50e30> True (375, 300, 3)\n"
     ]
    },
    {
     "name": "stderr",
     "output_type": "stream",
     "text": [
      "Converting images:  28%|██▊       | 724/2627 [00:07<00:21, 89.60image/s]"
     ]
    },
    {
     "name": "stdout",
     "output_type": "stream",
     "text": [
      "<Slide, name = 0751>, width=300, height=375, channels=3, levels=1, RGB=True, dtype=uint8> <valis.slide_io.VipsSlideReader object at 0x7f11bcb70bf0> True (375, 300, 3)\n",
      "<Slide, name = 0752>, width=300, height=375, channels=3, levels=1, RGB=True, dtype=uint8> <valis.slide_io.VipsSlideReader object at 0x7f11bcb50d40> True (375, 300, 3)\n",
      "<Slide, name = 0753>, width=300, height=375, channels=3, levels=1, RGB=True, dtype=uint8> <valis.slide_io.VipsSlideReader object at 0x7f11bcb70b30> True (375, 300, 3)\n",
      "<Slide, name = 0754>, width=300, height=375, channels=3, levels=1, RGB=True, dtype=uint8> <valis.slide_io.VipsSlideReader object at 0x7f11bcb70d70> True (375, 300, 3)\n",
      "<Slide, name = 0755>, width=300, height=375, channels=3, levels=1, RGB=True, dtype=uint8> <valis.slide_io.VipsSlideReader object at 0x7f11bcb71070> True (375, 300, 3)\n",
      "<Slide, name = 0756>, width=300, height=375, channels=3, levels=1, RGB=True, dtype=uint8> <valis.slide_io.VipsSlideReader object at 0x7f11bcb69100> True (375, 300, 3)\n",
      "<Slide, name = 0757>, width=300, height=375, channels=3, levels=1, RGB=True, dtype=uint8> <valis.slide_io.VipsSlideReader object at 0x7f11bcb70c50> True (375, 300, 3)\n",
      "<Slide, name = 0758>, width=300, height=375, channels=3, levels=1, RGB=True, dtype=uint8> <valis.slide_io.VipsSlideReader object at 0x7f11bcb690d0> True (375, 300, 3)\n",
      "<Slide, name = 0759>, width=300, height=375, channels=3, levels=1, RGB=True, dtype=uint8> <valis.slide_io.VipsSlideReader object at 0x7f11bcb68e60> True (375, 300, 3)\n"
     ]
    },
    {
     "name": "stderr",
     "output_type": "stream",
     "text": [
      "Converting images:  28%|██▊       | 733/2627 [00:07<00:21, 89.70image/s]"
     ]
    },
    {
     "name": "stdout",
     "output_type": "stream",
     "text": [
      "<Slide, name = 0760>, width=300, height=375, channels=3, levels=1, RGB=True, dtype=uint8> <valis.slide_io.VipsSlideReader object at 0x7f11bcb70f50> True (375, 300, 3)\n",
      "<Slide, name = 0761>, width=300, height=375, channels=3, levels=1, RGB=True, dtype=uint8> <valis.slide_io.VipsSlideReader object at 0x7f11bcb711c0> True (375, 300, 3)\n",
      "<Slide, name = 0762>, width=300, height=375, channels=3, levels=1, RGB=True, dtype=uint8> <valis.slide_io.VipsSlideReader object at 0x7f11bcb69370> True (375, 300, 3)\n",
      "<Slide, name = 0763>, width=300, height=375, channels=3, levels=1, RGB=True, dtype=uint8> <valis.slide_io.VipsSlideReader object at 0x7f11bcb71130> True (375, 300, 3)\n",
      "<Slide, name = 0764>, width=300, height=375, channels=3, levels=1, RGB=True, dtype=uint8> <valis.slide_io.VipsSlideReader object at 0x7f11bcb51340> True (375, 300, 3)\n",
      "<Slide, name = 0765>, width=300, height=375, channels=3, levels=1, RGB=True, dtype=uint8> <valis.slide_io.VipsSlideReader object at 0x7f11bcb71400> True (375, 300, 3)\n",
      "<Slide, name = 0766>, width=300, height=375, channels=3, levels=1, RGB=True, dtype=uint8> <valis.slide_io.VipsSlideReader object at 0x7f11bcb70dd0> True (375, 300, 3)\n",
      "<Slide, name = 0767>, width=300, height=375, channels=3, levels=1, RGB=True, dtype=uint8> <valis.slide_io.VipsSlideReader object at 0x7f11bcb713d0> True (375, 300, 3)\n",
      "<Slide, name = 0768>, width=300, height=375, channels=3, levels=1, RGB=True, dtype=uint8> <valis.slide_io.VipsSlideReader object at 0x7f11bcb69580> True (375, 300, 3)\n"
     ]
    },
    {
     "name": "stderr",
     "output_type": "stream",
     "text": [
      "Converting images:  28%|██▊       | 742/2627 [00:08<00:21, 89.66image/s]"
     ]
    },
    {
     "name": "stdout",
     "output_type": "stream",
     "text": [
      "<Slide, name = 0769>, width=300, height=375, channels=3, levels=1, RGB=True, dtype=uint8> <valis.slide_io.VipsSlideReader object at 0x7f11bcb61640> True (375, 300, 3)\n",
      "<Slide, name = 0770>, width=300, height=375, channels=3, levels=1, RGB=True, dtype=uint8> <valis.slide_io.VipsSlideReader object at 0x7f11bcb69520> True (375, 300, 3)\n",
      "<Slide, name = 0771>, width=300, height=375, channels=3, levels=1, RGB=True, dtype=uint8> <valis.slide_io.VipsSlideReader object at 0x7f11bcb71790> True (375, 300, 3)\n",
      "<Slide, name = 0772>, width=300, height=375, channels=3, levels=1, RGB=True, dtype=uint8> <valis.slide_io.VipsSlideReader object at 0x7f11bcb51430> True (375, 300, 3)\n",
      "<Slide, name = 0773>, width=300, height=375, channels=3, levels=1, RGB=True, dtype=uint8> <valis.slide_io.VipsSlideReader object at 0x7f11bcb712b0> True (375, 300, 3)\n",
      "<Slide, name = 0774>, width=300, height=375, channels=3, levels=1, RGB=True, dtype=uint8> <valis.slide_io.VipsSlideReader object at 0x7f11bcb71610> True (375, 300, 3)\n",
      "<Slide, name = 0775>, width=300, height=375, channels=3, levels=1, RGB=True, dtype=uint8> <valis.slide_io.VipsSlideReader object at 0x7f11bcb501d0> True (375, 300, 3)\n",
      "<Slide, name = 0776>, width=300, height=375, channels=3, levels=1, RGB=True, dtype=uint8> <valis.slide_io.VipsSlideReader object at 0x7f11bcb71700> True (375, 300, 3)\n",
      "<Slide, name = 0777>, width=300, height=375, channels=3, levels=1, RGB=True, dtype=uint8> <valis.slide_io.VipsSlideReader object at 0x7f11bcb617f0> True (375, 300, 3)\n",
      "<Slide, name = 0778>, width=300, height=375, channels=3, levels=1, RGB=True, dtype=uint8> <valis.slide_io.VipsSlideReader object at 0x7f11bcb618b0> True (375, 300, 3)\n"
     ]
    },
    {
     "name": "stderr",
     "output_type": "stream",
     "text": [
      "Converting images:  29%|██▊       | 752/2627 [00:08<00:20, 90.42image/s]"
     ]
    },
    {
     "name": "stdout",
     "output_type": "stream",
     "text": [
      "<Slide, name = 0779>, width=300, height=375, channels=3, levels=1, RGB=True, dtype=uint8> <valis.slide_io.VipsSlideReader object at 0x7f11bcb70d10> True (375, 300, 3)\n",
      "<Slide, name = 0780>, width=300, height=375, channels=3, levels=1, RGB=True, dtype=uint8> <valis.slide_io.VipsSlideReader object at 0x7f11bcb71940> True (375, 300, 3)\n",
      "<Slide, name = 0781>, width=300, height=375, channels=3, levels=1, RGB=True, dtype=uint8> <valis.slide_io.VipsSlideReader object at 0x7f11bcb70650> True (375, 300, 3)\n",
      "<Slide, name = 0782>, width=300, height=375, channels=3, levels=1, RGB=True, dtype=uint8> <valis.slide_io.VipsSlideReader object at 0x7f11bd1b9760> True (375, 300, 3)\n",
      "<Slide, name = 0783>, width=300, height=375, channels=3, levels=1, RGB=True, dtype=uint8> <valis.slide_io.VipsSlideReader object at 0x7f11bcb61be0> True (375, 300, 3)\n",
      "<Slide, name = 0784>, width=300, height=375, channels=3, levels=1, RGB=True, dtype=uint8> <valis.slide_io.VipsSlideReader object at 0x7f11bcb71b80> True (375, 300, 3)\n",
      "<Slide, name = 0785>, width=300, height=375, channels=3, levels=1, RGB=True, dtype=uint8> <valis.slide_io.VipsSlideReader object at 0x7f11bcb71a90> True (375, 300, 3)\n",
      "<Slide, name = 0786>, width=300, height=375, channels=3, levels=1, RGB=True, dtype=uint8> <valis.slide_io.VipsSlideReader object at 0x7f11bcb71a60> True (375, 300, 3)\n",
      "<Slide, name = 0787>, width=300, height=375, channels=3, levels=1, RGB=True, dtype=uint8> <valis.slide_io.VipsSlideReader object at 0x7f11bcb71850> True (375, 300, 3)\n",
      "<Slide, name = 0788>, width=300, height=375, channels=3, levels=1, RGB=True, dtype=uint8> <valis.slide_io.VipsSlideReader object at 0x7f11bcb61d30> True (375, 300, 3)\n"
     ]
    },
    {
     "name": "stderr",
     "output_type": "stream",
     "text": [
      "Converting images:  29%|██▉       | 762/2627 [00:08<00:20, 90.82image/s]"
     ]
    },
    {
     "name": "stdout",
     "output_type": "stream",
     "text": [
      "<Slide, name = 0789>, width=300, height=375, channels=3, levels=1, RGB=True, dtype=uint8> <valis.slide_io.VipsSlideReader object at 0x7f11bcb71c70> True (375, 300, 3)\n",
      "<Slide, name = 0790>, width=300, height=375, channels=3, levels=1, RGB=True, dtype=uint8> <valis.slide_io.VipsSlideReader object at 0x7f11bcb31dc0> True (375, 300, 3)\n",
      "<Slide, name = 0791>, width=300, height=375, channels=3, levels=1, RGB=True, dtype=uint8> <valis.slide_io.VipsSlideReader object at 0x7f11bcb69e20> True (375, 300, 3)\n",
      "<Slide, name = 0792>, width=300, height=375, channels=3, levels=1, RGB=True, dtype=uint8> <valis.slide_io.VipsSlideReader object at 0x7f11bcb71d90> True (375, 300, 3)\n",
      "<Slide, name = 0793>, width=300, height=375, channels=3, levels=1, RGB=True, dtype=uint8> <valis.slide_io.VipsSlideReader object at 0x7f11bd1a1eb0> True (375, 300, 3)\n",
      "<Slide, name = 0794>, width=300, height=375, channels=3, levels=1, RGB=True, dtype=uint8> <valis.slide_io.VipsSlideReader object at 0x7f11bcb69ac0> True (375, 300, 3)\n",
      "<Slide, name = 0795>, width=300, height=375, channels=3, levels=1, RGB=True, dtype=uint8> <valis.slide_io.VipsSlideReader object at 0x7f11bcb69f70> True (375, 300, 3)\n",
      "<Slide, name = 0796>, width=300, height=375, channels=3, levels=1, RGB=True, dtype=uint8> <valis.slide_io.VipsSlideReader object at 0x7f11bcb69fd0> True (375, 300, 3)\n",
      "<Slide, name = 0797>, width=300, height=375, channels=3, levels=1, RGB=True, dtype=uint8> <valis.slide_io.VipsSlideReader object at 0x7f11bcb721e0> True (375, 300, 3)\n",
      "<Slide, name = 0798>, width=300, height=375, channels=3, levels=1, RGB=True, dtype=uint8> <valis.slide_io.VipsSlideReader object at 0x7f11bcb71f40> True (375, 300, 3)\n"
     ]
    },
    {
     "name": "stderr",
     "output_type": "stream",
     "text": [
      "Converting images:  29%|██▉       | 772/2627 [00:08<00:20, 89.09image/s]"
     ]
    },
    {
     "name": "stdout",
     "output_type": "stream",
     "text": [
      "<Slide, name = 0799>, width=300, height=375, channels=3, levels=1, RGB=True, dtype=uint8> <valis.slide_io.VipsSlideReader object at 0x7f11bcb6a180> True (375, 300, 3)\n",
      "<Slide, name = 0800>, width=300, height=375, channels=3, levels=1, RGB=True, dtype=uint8> <valis.slide_io.VipsSlideReader object at 0x7f11bcb69d60> True (375, 300, 3)\n",
      "<Slide, name = 0801>, width=300, height=375, channels=3, levels=1, RGB=True, dtype=uint8> <valis.slide_io.VipsSlideReader object at 0x7f11bcb72120> True (375, 300, 3)\n",
      "<Slide, name = 0802>, width=300, height=375, channels=3, levels=1, RGB=True, dtype=uint8> <valis.slide_io.VipsSlideReader object at 0x7f11bcb521b0> True (375, 300, 3)\n",
      "<Slide, name = 0803>, width=300, height=375, channels=3, levels=1, RGB=True, dtype=uint8> <valis.slide_io.VipsSlideReader object at 0x7f11bcb69e80> True (375, 300, 3)\n",
      "<Slide, name = 0804>, width=300, height=375, channels=3, levels=1, RGB=True, dtype=uint8> <valis.slide_io.VipsSlideReader object at 0x7f11bcb6a2a0> True (375, 300, 3)\n",
      "<Slide, name = 0805>, width=300, height=375, channels=3, levels=1, RGB=True, dtype=uint8> <valis.slide_io.VipsSlideReader object at 0x7f11bcb6a300> True (375, 300, 3)\n",
      "<Slide, name = 0806>, width=300, height=375, channels=3, levels=1, RGB=True, dtype=uint8> <valis.slide_io.VipsSlideReader object at 0x7f11bcb6a360> True (375, 300, 3)\n",
      "<Slide, name = 0807>, width=300, height=375, channels=3, levels=1, RGB=True, dtype=uint8> <valis.slide_io.VipsSlideReader object at 0x7f11bcb6a3c0> True (375, 300, 3)\n"
     ]
    },
    {
     "name": "stderr",
     "output_type": "stream",
     "text": [
      "Converting images:  30%|██▉       | 781/2627 [00:08<00:20, 88.64image/s]"
     ]
    },
    {
     "name": "stdout",
     "output_type": "stream",
     "text": [
      "<Slide, name = 0808>, width=300, height=375, channels=3, levels=1, RGB=True, dtype=uint8> <valis.slide_io.VipsSlideReader object at 0x7f11bcb720f0> True (375, 300, 3)\n",
      "<Slide, name = 0809>, width=300, height=375, channels=3, levels=1, RGB=True, dtype=uint8> <valis.slide_io.VipsSlideReader object at 0x7f11bcb6a480> True (375, 300, 3)\n",
      "<Slide, name = 0810>, width=300, height=375, channels=3, levels=1, RGB=True, dtype=uint8> <valis.slide_io.VipsSlideReader object at 0x7f11bcb52270> True (375, 300, 3)\n",
      "<Slide, name = 0811>, width=300, height=375, channels=3, levels=1, RGB=True, dtype=uint8> <valis.slide_io.VipsSlideReader object at 0x7f11bcb2a540> True (375, 300, 3)\n",
      "<Slide, name = 0812>, width=300, height=375, channels=3, levels=1, RGB=True, dtype=uint8> <valis.slide_io.VipsSlideReader object at 0x7f11bcb525a0> True (375, 300, 3)\n",
      "<Slide, name = 0813>, width=300, height=375, channels=3, levels=1, RGB=True, dtype=uint8> <valis.slide_io.VipsSlideReader object at 0x7f11bcb6a240> True (375, 300, 3)\n",
      "<Slide, name = 0814>, width=300, height=375, channels=3, levels=1, RGB=True, dtype=uint8> <valis.slide_io.VipsSlideReader object at 0x7f11bcb724e0> True (375, 300, 3)\n",
      "<Slide, name = 0815>, width=300, height=375, channels=3, levels=1, RGB=True, dtype=uint8> <valis.slide_io.VipsSlideReader object at 0x7f11bcb72150> True (375, 300, 3)\n",
      "<Slide, name = 0816>, width=300, height=375, channels=3, levels=1, RGB=True, dtype=uint8> <valis.slide_io.VipsSlideReader object at 0x7f11bcb72630> True (375, 300, 3)\n",
      "<Slide, name = 0817>, width=300, height=375, channels=3, levels=1, RGB=True, dtype=uint8> <valis.slide_io.VipsSlideReader object at 0x7f11bcb528a0> True (375, 300, 3)\n"
     ]
    },
    {
     "name": "stderr",
     "output_type": "stream",
     "text": [
      "Converting images:  30%|███       | 791/2627 [00:08<00:20, 89.20image/s]"
     ]
    },
    {
     "name": "stdout",
     "output_type": "stream",
     "text": [
      "<Slide, name = 0818>, width=300, height=375, channels=3, levels=1, RGB=True, dtype=uint8> <valis.slide_io.VipsSlideReader object at 0x7f11bcb6a840> True (375, 300, 3)\n",
      "<Slide, name = 0819>, width=300, height=375, channels=3, levels=1, RGB=True, dtype=uint8> <valis.slide_io.VipsSlideReader object at 0x7f11bcb2a870> True (375, 300, 3)\n",
      "<Slide, name = 0820>, width=300, height=375, channels=3, levels=1, RGB=True, dtype=uint8> <valis.slide_io.VipsSlideReader object at 0x7f11bcb6a8d0> True (375, 300, 3)\n",
      "<Slide, name = 0821>, width=300, height=375, channels=3, levels=1, RGB=True, dtype=uint8> <valis.slide_io.VipsSlideReader object at 0x7f11bcb4a900> True (375, 300, 3)\n",
      "<Slide, name = 0822>, width=300, height=375, channels=3, levels=1, RGB=True, dtype=uint8> <valis.slide_io.VipsSlideReader object at 0x7f11bcb6a960> True (375, 300, 3)\n",
      "<Slide, name = 0823>, width=300, height=375, channels=3, levels=1, RGB=True, dtype=uint8> <valis.slide_io.VipsSlideReader object at 0x7f11bcb72690> True (375, 300, 3)\n",
      "<Slide, name = 0824>, width=300, height=375, channels=3, levels=1, RGB=True, dtype=uint8> <valis.slide_io.VipsSlideReader object at 0x7f11bcb32780> True (375, 300, 3)\n",
      "<Slide, name = 0825>, width=300, height=375, channels=3, levels=1, RGB=True, dtype=uint8> <valis.slide_io.VipsSlideReader object at 0x7f11bcb72600> True (375, 300, 3)\n",
      "<Slide, name = 0826>, width=300, height=375, channels=3, levels=1, RGB=True, dtype=uint8> <valis.slide_io.VipsSlideReader object at 0x7f11bcb6aab0> True (375, 300, 3)\n"
     ]
    },
    {
     "name": "stderr",
     "output_type": "stream",
     "text": [
      "Converting images:  30%|███       | 800/2627 [00:08<00:20, 89.24image/s]"
     ]
    },
    {
     "name": "stdout",
     "output_type": "stream",
     "text": [
      "<Slide, name = 0827>, width=300, height=375, channels=3, levels=1, RGB=True, dtype=uint8> <valis.slide_io.VipsSlideReader object at 0x7f11bcb6aa80> True (375, 300, 3)\n",
      "<Slide, name = 0828>, width=300, height=375, channels=3, levels=1, RGB=True, dtype=uint8> <valis.slide_io.VipsSlideReader object at 0x7f11bcb6ac00> True (375, 300, 3)\n",
      "<Slide, name = 0829>, width=300, height=375, channels=3, levels=1, RGB=True, dtype=uint8> <valis.slide_io.VipsSlideReader object at 0x7f11bcb6ac30> True (375, 300, 3)\n",
      "<Slide, name = 0830>, width=300, height=375, channels=3, levels=1, RGB=True, dtype=uint8> <valis.slide_io.VipsSlideReader object at 0x7f11bcb72b40> True (375, 300, 3)\n",
      "<Slide, name = 0831>, width=300, height=375, channels=3, levels=1, RGB=True, dtype=uint8> <valis.slide_io.VipsSlideReader object at 0x7f11bcb6acf0> True (375, 300, 3)\n",
      "<Slide, name = 0832>, width=300, height=375, channels=3, levels=1, RGB=True, dtype=uint8> <valis.slide_io.VipsSlideReader object at 0x7f11bcb72ba0> True (375, 300, 3)\n",
      "<Slide, name = 0833>, width=300, height=375, channels=3, levels=1, RGB=True, dtype=uint8> <valis.slide_io.VipsSlideReader object at 0x7f11bcb32db0> True (375, 300, 3)\n",
      "<Slide, name = 0834>, width=300, height=375, channels=3, levels=1, RGB=True, dtype=uint8> <valis.slide_io.VipsSlideReader object at 0x7f11bcb72fc0> True (375, 300, 3)\n",
      "<Slide, name = 0835>, width=300, height=375, channels=3, levels=1, RGB=True, dtype=uint8> <valis.slide_io.VipsSlideReader object at 0x7f11bcb72d50> True (375, 300, 3)\n"
     ]
    },
    {
     "name": "stderr",
     "output_type": "stream",
     "text": [
      "Converting images:  31%|███       | 809/2627 [00:08<00:20, 87.60image/s]"
     ]
    },
    {
     "name": "stdout",
     "output_type": "stream",
     "text": [
      "<Slide, name = 0836>, width=300, height=375, channels=3, levels=1, RGB=True, dtype=uint8> <valis.slide_io.VipsSlideReader object at 0x7f11bcb72de0> True (375, 300, 3)\n",
      "<Slide, name = 0837>, width=300, height=375, channels=3, levels=1, RGB=True, dtype=uint8> <valis.slide_io.VipsSlideReader object at 0x7f11bcb73050> True (375, 300, 3)\n",
      "<Slide, name = 0838>, width=300, height=375, channels=3, levels=1, RGB=True, dtype=uint8> <valis.slide_io.VipsSlideReader object at 0x7f11bcb72bd0> True (375, 300, 3)\n",
      "<Slide, name = 0839>, width=300, height=375, channels=3, levels=1, RGB=True, dtype=uint8> <valis.slide_io.VipsSlideReader object at 0x7f11bcb6ae70> True (375, 300, 3)\n",
      "<Slide, name = 0840>, width=300, height=375, channels=3, levels=1, RGB=True, dtype=uint8> <valis.slide_io.VipsSlideReader object at 0x7f11bcb6b1d0> True (375, 300, 3)\n",
      "<Slide, name = 0841>, width=300, height=375, channels=3, levels=1, RGB=True, dtype=uint8> <valis.slide_io.VipsSlideReader object at 0x7f11bcb73170> True (375, 300, 3)\n",
      "<Slide, name = 0842>, width=300, height=375, channels=3, levels=1, RGB=True, dtype=uint8> <valis.slide_io.VipsSlideReader object at 0x7f11bcb6b1a0> True (375, 300, 3)\n",
      "<Slide, name = 0843>, width=300, height=375, channels=3, levels=1, RGB=True, dtype=uint8> <valis.slide_io.VipsSlideReader object at 0x7f11bcb4b080> True (375, 300, 3)\n",
      "<Slide, name = 0844>, width=300, height=375, channels=3, levels=1, RGB=True, dtype=uint8> <valis.slide_io.VipsSlideReader object at 0x7f11bcb733e0> True (375, 300, 3)\n",
      "<Slide, name = 0845>, width=300, height=375, channels=3, levels=1, RGB=True, dtype=uint8> <valis.slide_io.VipsSlideReader object at 0x7f11bcb72c90> True (375, 300, 3)\n"
     ]
    },
    {
     "name": "stderr",
     "output_type": "stream",
     "text": [
      "Converting images:  31%|███       | 819/2627 [00:08<00:20, 88.70image/s]"
     ]
    },
    {
     "name": "stdout",
     "output_type": "stream",
     "text": [
      "<Slide, name = 0846>, width=300, height=375, channels=3, levels=1, RGB=True, dtype=uint8> <valis.slide_io.VipsSlideReader object at 0x7f11bcb6b260> True (375, 300, 3)\n",
      "<Slide, name = 0847>, width=300, height=375, channels=3, levels=1, RGB=True, dtype=uint8> <valis.slide_io.VipsSlideReader object at 0x7f11bcb6b4a0> True (375, 300, 3)\n",
      "<Slide, name = 0848>, width=300, height=375, channels=3, levels=1, RGB=True, dtype=uint8> <valis.slide_io.VipsSlideReader object at 0x7f11bcb6b2f0> True (375, 300, 3)\n",
      "<Slide, name = 0849>, width=300, height=375, channels=3, levels=1, RGB=True, dtype=uint8> <valis.slide_io.VipsSlideReader object at 0x7f11bcb53470> True (375, 300, 3)\n",
      "<Slide, name = 0850>, width=300, height=375, channels=3, levels=1, RGB=True, dtype=uint8> <valis.slide_io.VipsSlideReader object at 0x7f11bcb732c0> True (375, 300, 3)\n",
      "<Slide, name = 0851>, width=300, height=375, channels=3, levels=1, RGB=True, dtype=uint8> <valis.slide_io.VipsSlideReader object at 0x7f11bcb734d0> True (375, 300, 3)\n",
      "<Slide, name = 0852>, width=300, height=375, channels=3, levels=1, RGB=True, dtype=uint8> <valis.slide_io.VipsSlideReader object at 0x7f11bd162f60> True (375, 300, 3)\n",
      "<Slide, name = 0853>, width=300, height=375, channels=3, levels=1, RGB=True, dtype=uint8> <valis.slide_io.VipsSlideReader object at 0x7f11bcb72f30> True (375, 300, 3)\n",
      "<Slide, name = 0854>, width=300, height=375, channels=3, levels=1, RGB=True, dtype=uint8> <valis.slide_io.VipsSlideReader object at 0x7f11bcb73710> True (375, 300, 3)\n",
      "<Slide, name = 0855>, width=300, height=375, channels=3, levels=1, RGB=True, dtype=uint8> <valis.slide_io.VipsSlideReader object at 0x7f11bcb6b560> True (375, 300, 3)\n"
     ]
    },
    {
     "name": "stderr",
     "output_type": "stream",
     "text": [
      "Converting images:  32%|███▏      | 829/2627 [00:09<00:20, 89.79image/s]"
     ]
    },
    {
     "name": "stdout",
     "output_type": "stream",
     "text": [
      "<Slide, name = 0856>, width=300, height=375, channels=3, levels=1, RGB=True, dtype=uint8> <valis.slide_io.VipsSlideReader object at 0x7f11bcb53740> True (375, 300, 3)\n",
      "<Slide, name = 0857>, width=300, height=375, channels=3, levels=1, RGB=True, dtype=uint8> <valis.slide_io.VipsSlideReader object at 0x7f11bcb73380> True (375, 300, 3)\n",
      "<Slide, name = 0858>, width=300, height=375, channels=3, levels=1, RGB=True, dtype=uint8> <valis.slide_io.VipsSlideReader object at 0x7f11bcb73590> True (375, 300, 3)\n",
      "<Slide, name = 0859>, width=300, height=375, channels=3, levels=1, RGB=True, dtype=uint8> <valis.slide_io.VipsSlideReader object at 0x7f11bcb6b6e0> True (375, 300, 3)\n",
      "<Slide, name = 0860>, width=300, height=375, channels=3, levels=1, RGB=True, dtype=uint8> <valis.slide_io.VipsSlideReader object at 0x7f11bcb6b980> True (375, 300, 3)\n",
      "<Slide, name = 0861>, width=300, height=375, channels=3, levels=1, RGB=True, dtype=uint8> <valis.slide_io.VipsSlideReader object at 0x7f11bcb33230> True (375, 300, 3)\n",
      "<Slide, name = 0862>, width=300, height=375, channels=3, levels=1, RGB=True, dtype=uint8> <valis.slide_io.VipsSlideReader object at 0x7f11bcb735c0> True (375, 300, 3)\n",
      "<Slide, name = 0863>, width=300, height=375, channels=3, levels=1, RGB=True, dtype=uint8> <valis.slide_io.VipsSlideReader object at 0x7f11bcb73920> True (375, 300, 3)\n",
      "<Slide, name = 0864>, width=300, height=375, channels=3, levels=1, RGB=True, dtype=uint8> <valis.slide_io.VipsSlideReader object at 0x7f11bcb6b9b0> True (375, 300, 3)\n",
      "<Slide, name = 0865>, width=300, height=375, channels=3, levels=1, RGB=True, dtype=uint8> <valis.slide_io.VipsSlideReader object at 0x7f11bcb2ed50> True (375, 300, 3)\n"
     ]
    },
    {
     "name": "stderr",
     "output_type": "stream",
     "text": [
      "Converting images:  32%|███▏      | 839/2627 [00:09<00:19, 90.49image/s]"
     ]
    },
    {
     "name": "stdout",
     "output_type": "stream",
     "text": [
      "<Slide, name = 0866>, width=300, height=375, channels=3, levels=1, RGB=True, dtype=uint8> <valis.slide_io.VipsSlideReader object at 0x7f11bcb73890> True (375, 300, 3)\n",
      "<Slide, name = 0867>, width=300, height=375, channels=3, levels=1, RGB=True, dtype=uint8> <valis.slide_io.VipsSlideReader object at 0x7f11bcb737d0> True (375, 300, 3)\n",
      "<Slide, name = 0868>, width=300, height=375, channels=3, levels=1, RGB=True, dtype=uint8> <valis.slide_io.VipsSlideReader object at 0x7f11bcb73b90> True (375, 300, 3)\n",
      "<Slide, name = 0869>, width=300, height=375, channels=3, levels=1, RGB=True, dtype=uint8> <valis.slide_io.VipsSlideReader object at 0x7f11bcb6b8f0> True (375, 300, 3)\n",
      "<Slide, name = 0870>, width=300, height=375, channels=3, levels=1, RGB=True, dtype=uint8> <valis.slide_io.VipsSlideReader object at 0x7f11bcb6baa0> True (375, 300, 3)\n",
      "<Slide, name = 0871>, width=300, height=375, channels=3, levels=1, RGB=True, dtype=uint8> <valis.slide_io.VipsSlideReader object at 0x7f11bcb73a70> True (375, 300, 3)\n",
      "<Slide, name = 0872>, width=300, height=375, channels=3, levels=1, RGB=True, dtype=uint8> <valis.slide_io.VipsSlideReader object at 0x7f11bcb73d40> True (375, 300, 3)\n",
      "<Slide, name = 0873>, width=300, height=375, channels=3, levels=1, RGB=True, dtype=uint8> <valis.slide_io.VipsSlideReader object at 0x7f11bcb6bef0> True (375, 300, 3)\n",
      "<Slide, name = 0874>, width=300, height=375, channels=3, levels=1, RGB=True, dtype=uint8> <valis.slide_io.VipsSlideReader object at 0x7f11bcb73c80> True (375, 300, 3)\n",
      "<Slide, name = 0875>, width=300, height=375, channels=3, levels=1, RGB=True, dtype=uint8> <valis.slide_io.VipsSlideReader object at 0x7f11bcb73dd0> True (375, 300, 3)\n"
     ]
    },
    {
     "name": "stderr",
     "output_type": "stream",
     "text": [
      "Converting images:  32%|███▏      | 849/2627 [00:09<00:19, 90.81image/s]"
     ]
    },
    {
     "name": "stdout",
     "output_type": "stream",
     "text": [
      "<Slide, name = 0876>, width=300, height=375, channels=3, levels=1, RGB=True, dtype=uint8> <valis.slide_io.VipsSlideReader object at 0x7f11bcb73f50> True (375, 300, 3)\n",
      "<Slide, name = 0877>, width=300, height=375, channels=3, levels=1, RGB=True, dtype=uint8> <valis.slide_io.VipsSlideReader object at 0x7f11bcb73fe0> True (375, 300, 3)\n",
      "<Slide, name = 0878>, width=300, height=375, channels=3, levels=1, RGB=True, dtype=uint8> <valis.slide_io.VipsSlideReader object at 0x7f11bcb63bf0> True (375, 300, 3)\n",
      "<Slide, name = 0879>, width=300, height=375, channels=3, levels=1, RGB=True, dtype=uint8> <valis.slide_io.VipsSlideReader object at 0x7f11bcb6bd70> True (375, 300, 3)\n",
      "<Slide, name = 0880>, width=300, height=375, channels=3, levels=1, RGB=True, dtype=uint8> <valis.slide_io.VipsSlideReader object at 0x7f11bcb73a10> True (375, 300, 3)\n",
      "<Slide, name = 0881>, width=300, height=375, channels=3, levels=1, RGB=True, dtype=uint8> <valis.slide_io.VipsSlideReader object at 0x7f11bcb6bf20> True (375, 300, 3)\n",
      "<Slide, name = 0882>, width=300, height=375, channels=3, levels=1, RGB=True, dtype=uint8> <valis.slide_io.VipsSlideReader object at 0x7f11bcb680b0> True (375, 300, 3)\n",
      "<Slide, name = 0883>, width=300, height=375, channels=3, levels=1, RGB=True, dtype=uint8> <valis.slide_io.VipsSlideReader object at 0x7f11bcb68230> True (375, 300, 3)\n",
      "<Slide, name = 0884>, width=300, height=375, channels=3, levels=1, RGB=True, dtype=uint8> <valis.slide_io.VipsSlideReader object at 0x7f11bcb682c0> True (375, 300, 3)\n",
      "<Slide, name = 0885>, width=300, height=375, channels=3, levels=1, RGB=True, dtype=uint8> <valis.slide_io.VipsSlideReader object at 0x7f11bcb70320> True (375, 300, 3)\n"
     ]
    },
    {
     "name": "stderr",
     "output_type": "stream",
     "text": [
      "Converting images:  33%|███▎      | 859/2627 [00:09<00:19, 90.90image/s]"
     ]
    },
    {
     "name": "stdout",
     "output_type": "stream",
     "text": [
      "<Slide, name = 0886>, width=300, height=375, channels=3, levels=1, RGB=True, dtype=uint8> <valis.slide_io.VipsSlideReader object at 0x7f11bc3a0140> True (375, 300, 3)\n",
      "<Slide, name = 0887>, width=300, height=375, channels=3, levels=1, RGB=True, dtype=uint8> <valis.slide_io.VipsSlideReader object at 0x7f11bcb703b0> True (375, 300, 3)\n",
      "<Slide, name = 0888>, width=300, height=375, channels=3, levels=1, RGB=True, dtype=uint8> <valis.slide_io.VipsSlideReader object at 0x7f11bc3a00e0> True (375, 300, 3)\n",
      "<Slide, name = 0889>, width=300, height=375, channels=3, levels=1, RGB=True, dtype=uint8> <valis.slide_io.VipsSlideReader object at 0x7f11bccb0080> True (375, 300, 3)\n",
      "<Slide, name = 0890>, width=300, height=375, channels=3, levels=1, RGB=True, dtype=uint8> <valis.slide_io.VipsSlideReader object at 0x7f11bcb70620> True (375, 300, 3)\n",
      "<Slide, name = 0891>, width=300, height=375, channels=3, levels=1, RGB=True, dtype=uint8> <valis.slide_io.VipsSlideReader object at 0x7f11bcb30500> True (375, 300, 3)\n",
      "<Slide, name = 0892>, width=300, height=375, channels=3, levels=1, RGB=True, dtype=uint8> <valis.slide_io.VipsSlideReader object at 0x7f11bcb705f0> True (375, 300, 3)\n",
      "<Slide, name = 0893>, width=300, height=375, channels=3, levels=1, RGB=True, dtype=uint8> <valis.slide_io.VipsSlideReader object at 0x7f11bc3a0440> True (375, 300, 3)\n",
      "<Slide, name = 0894>, width=300, height=375, channels=3, levels=1, RGB=True, dtype=uint8> <valis.slide_io.VipsSlideReader object at 0x7f11bcb70680> True (375, 300, 3)\n",
      "<Slide, name = 0895>, width=300, height=375, channels=3, levels=1, RGB=True, dtype=uint8> <valis.slide_io.VipsSlideReader object at 0x7f11bc3a0560> True (375, 300, 3)\n"
     ]
    },
    {
     "name": "stderr",
     "output_type": "stream",
     "text": [
      "Converting images:  33%|███▎      | 869/2627 [00:09<00:19, 91.40image/s]"
     ]
    },
    {
     "name": "stdout",
     "output_type": "stream",
     "text": [
      "<Slide, name = 0896>, width=300, height=375, channels=3, levels=1, RGB=True, dtype=uint8> <valis.slide_io.VipsSlideReader object at 0x7f11bd1b8740> True (375, 300, 3)\n",
      "<Slide, name = 0897>, width=300, height=375, channels=3, levels=1, RGB=True, dtype=uint8> <valis.slide_io.VipsSlideReader object at 0x7f11bcb70110> True (375, 300, 3)\n",
      "<Slide, name = 0898>, width=300, height=375, channels=3, levels=1, RGB=True, dtype=uint8> <valis.slide_io.VipsSlideReader object at 0x7f11bc3a0650> True (375, 300, 3)\n",
      "<Slide, name = 0899>, width=300, height=375, channels=3, levels=1, RGB=True, dtype=uint8> <valis.slide_io.VipsSlideReader object at 0x7f11bc3a0860> True (375, 300, 3)\n",
      "<Slide, name = 0900>, width=300, height=375, channels=3, levels=1, RGB=True, dtype=uint8> <valis.slide_io.VipsSlideReader object at 0x7f11bc3a01d0> True (375, 300, 3)\n",
      "<Slide, name = 0901>, width=300, height=375, channels=3, levels=1, RGB=True, dtype=uint8> <valis.slide_io.VipsSlideReader object at 0x7f11bc3a0a10> True (375, 300, 3)\n",
      "<Slide, name = 0902>, width=300, height=375, channels=3, levels=1, RGB=True, dtype=uint8> <valis.slide_io.VipsSlideReader object at 0x7f11bcb70aa0> True (375, 300, 3)\n",
      "<Slide, name = 0903>, width=300, height=375, channels=3, levels=1, RGB=True, dtype=uint8> <valis.slide_io.VipsSlideReader object at 0x7f11bcb68b90> True (375, 300, 3)\n",
      "<Slide, name = 0904>, width=300, height=375, channels=3, levels=1, RGB=True, dtype=uint8> <valis.slide_io.VipsSlideReader object at 0x7f11bc3a0b00> True (375, 300, 3)\n",
      "<Slide, name = 0905>, width=300, height=375, channels=3, levels=1, RGB=True, dtype=uint8> <valis.slide_io.VipsSlideReader object at 0x7f11bcb50b30> True (375, 300, 3)\n"
     ]
    },
    {
     "name": "stderr",
     "output_type": "stream",
     "text": [
      "Converting images:  33%|███▎      | 879/2627 [00:09<00:19, 91.07image/s]"
     ]
    },
    {
     "name": "stdout",
     "output_type": "stream",
     "text": [
      "<Slide, name = 0906>, width=300, height=375, channels=3, levels=1, RGB=True, dtype=uint8> <valis.slide_io.VipsSlideReader object at 0x7f11bc3a09e0> True (375, 300, 3)\n",
      "<Slide, name = 0907>, width=300, height=375, channels=3, levels=1, RGB=True, dtype=uint8> <valis.slide_io.VipsSlideReader object at 0x7f11bcb50bf0> True (375, 300, 3)\n",
      "<Slide, name = 0908>, width=300, height=375, channels=3, levels=1, RGB=True, dtype=uint8> <valis.slide_io.VipsSlideReader object at 0x7f11bc3a0ce0> True (375, 300, 3)\n",
      "<Slide, name = 0909>, width=300, height=375, channels=3, levels=1, RGB=True, dtype=uint8> <valis.slide_io.VipsSlideReader object at 0x7f11bcb70cb0> True (375, 300, 3)\n",
      "<Slide, name = 0910>, width=300, height=375, channels=3, levels=1, RGB=True, dtype=uint8> <valis.slide_io.VipsSlideReader object at 0x7f11bcb70bc0> True (375, 300, 3)\n",
      "<Slide, name = 0911>, width=300, height=375, channels=3, levels=1, RGB=True, dtype=uint8> <valis.slide_io.VipsSlideReader object at 0x7f11bc3a0890> True (375, 300, 3)\n",
      "<Slide, name = 0912>, width=300, height=375, channels=3, levels=1, RGB=True, dtype=uint8> <valis.slide_io.VipsSlideReader object at 0x7f11bc3a0dd0> True (375, 300, 3)\n",
      "<Slide, name = 0913>, width=300, height=375, channels=3, levels=1, RGB=True, dtype=uint8> <valis.slide_io.VipsSlideReader object at 0x7f11bcb70f80> True (375, 300, 3)\n",
      "<Slide, name = 0914>, width=300, height=375, channels=3, levels=1, RGB=True, dtype=uint8> <valis.slide_io.VipsSlideReader object at 0x7f11bcb70e60> True (375, 300, 3)\n",
      "<Slide, name = 0915>, width=300, height=375, channels=3, levels=1, RGB=True, dtype=uint8> <valis.slide_io.VipsSlideReader object at 0x7f11bc3a0920> True (375, 300, 3)\n"
     ]
    },
    {
     "name": "stderr",
     "output_type": "stream",
     "text": [
      "Converting images:  34%|███▍      | 889/2627 [00:09<00:19, 90.77image/s]"
     ]
    },
    {
     "name": "stdout",
     "output_type": "stream",
     "text": [
      "<Slide, name = 0916>, width=300, height=375, channels=3, levels=1, RGB=True, dtype=uint8> <valis.slide_io.VipsSlideReader object at 0x7f11bcb70fb0> True (375, 300, 3)\n",
      "<Slide, name = 0917>, width=300, height=375, channels=3, levels=1, RGB=True, dtype=uint8> <valis.slide_io.VipsSlideReader object at 0x7f11bcb68e90> True (375, 300, 3)\n",
      "<Slide, name = 0918>, width=300, height=375, channels=3, levels=1, RGB=True, dtype=uint8> <valis.slide_io.VipsSlideReader object at 0x7f11bc3a0d10> True (375, 300, 3)\n",
      "<Slide, name = 0919>, width=300, height=375, channels=3, levels=1, RGB=True, dtype=uint8> <valis.slide_io.VipsSlideReader object at 0x7f11bc3a10a0> True (375, 300, 3)\n",
      "<Slide, name = 0920>, width=300, height=375, channels=3, levels=1, RGB=True, dtype=uint8> <valis.slide_io.VipsSlideReader object at 0x7f11bc3a0f50> True (375, 300, 3)\n",
      "<Slide, name = 0921>, width=300, height=375, channels=3, levels=1, RGB=True, dtype=uint8> <valis.slide_io.VipsSlideReader object at 0x7f11bcb69130> True (375, 300, 3)\n",
      "<Slide, name = 0922>, width=300, height=375, channels=3, levels=1, RGB=True, dtype=uint8> <valis.slide_io.VipsSlideReader object at 0x7f11bc3a0c50> True (375, 300, 3)\n",
      "<Slide, name = 0923>, width=300, height=375, channels=3, levels=1, RGB=True, dtype=uint8> <valis.slide_io.VipsSlideReader object at 0x7f11bcb691c0> True (375, 300, 3)\n",
      "<Slide, name = 0924>, width=300, height=375, channels=3, levels=1, RGB=True, dtype=uint8> <valis.slide_io.VipsSlideReader object at 0x7f11bcb69400> True (375, 300, 3)\n",
      "<Slide, name = 0925>, width=300, height=375, channels=3, levels=1, RGB=True, dtype=uint8> <valis.slide_io.VipsSlideReader object at 0x7f11bcb68f20> True (375, 300, 3)\n"
     ]
    },
    {
     "name": "stderr",
     "output_type": "stream",
     "text": [
      "Converting images:  34%|███▍      | 899/2627 [00:09<00:18, 91.04image/s]"
     ]
    },
    {
     "name": "stdout",
     "output_type": "stream",
     "text": [
      "<Slide, name = 0926>, width=300, height=375, channels=3, levels=1, RGB=True, dtype=uint8> <valis.slide_io.VipsSlideReader object at 0x7f11bc3a12b0> True (375, 300, 3)\n",
      "<Slide, name = 0927>, width=300, height=375, channels=3, levels=1, RGB=True, dtype=uint8> <valis.slide_io.VipsSlideReader object at 0x7f11bcb71430> True (375, 300, 3)\n",
      "<Slide, name = 0928>, width=300, height=375, channels=3, levels=1, RGB=True, dtype=uint8> <valis.slide_io.VipsSlideReader object at 0x7f11bcb71340> True (375, 300, 3)\n",
      "<Slide, name = 0929>, width=300, height=375, channels=3, levels=1, RGB=True, dtype=uint8> <valis.slide_io.VipsSlideReader object at 0x7f11bcb693a0> True (375, 300, 3)\n",
      "<Slide, name = 0930>, width=300, height=375, channels=3, levels=1, RGB=True, dtype=uint8> <valis.slide_io.VipsSlideReader object at 0x7f11bc3a0fe0> True (375, 300, 3)\n",
      "<Slide, name = 0931>, width=300, height=375, channels=3, levels=1, RGB=True, dtype=uint8> <valis.slide_io.VipsSlideReader object at 0x7f11bd1b94f0> True (375, 300, 3)\n",
      "<Slide, name = 0932>, width=300, height=375, channels=3, levels=1, RGB=True, dtype=uint8> <valis.slide_io.VipsSlideReader object at 0x7f11bc3a11f0> True (375, 300, 3)\n",
      "<Slide, name = 0933>, width=300, height=375, channels=3, levels=1, RGB=True, dtype=uint8> <valis.slide_io.VipsSlideReader object at 0x7f11bcb71160> True (375, 300, 3)\n",
      "<Slide, name = 0934>, width=300, height=375, channels=3, levels=1, RGB=True, dtype=uint8> <valis.slide_io.VipsSlideReader object at 0x7f11bc3a1280> True (375, 300, 3)\n",
      "<Slide, name = 0935>, width=300, height=375, channels=3, levels=1, RGB=True, dtype=uint8> <valis.slide_io.VipsSlideReader object at 0x7f11bc3a16a0> True (375, 300, 3)\n"
     ]
    },
    {
     "name": "stderr",
     "output_type": "stream",
     "text": [
      "Converting images:  35%|███▍      | 909/2627 [00:09<00:18, 90.80image/s]"
     ]
    },
    {
     "name": "stdout",
     "output_type": "stream",
     "text": [
      "<Slide, name = 0936>, width=300, height=375, channels=3, levels=1, RGB=True, dtype=uint8> <valis.slide_io.VipsSlideReader object at 0x7f11bc3a18b0> True (375, 300, 3)\n",
      "<Slide, name = 0937>, width=300, height=375, channels=3, levels=1, RGB=True, dtype=uint8> <valis.slide_io.VipsSlideReader object at 0x7f11bcb69940> True (375, 300, 3)\n",
      "<Slide, name = 0938>, width=300, height=375, channels=3, levels=1, RGB=True, dtype=uint8> <valis.slide_io.VipsSlideReader object at 0x7f11bcb71580> True (375, 300, 3)\n",
      "<Slide, name = 0939>, width=300, height=375, channels=3, levels=1, RGB=True, dtype=uint8> <valis.slide_io.VipsSlideReader object at 0x7f11bc3a17f0> True (375, 300, 3)\n",
      "<Slide, name = 0940>, width=300, height=375, channels=3, levels=1, RGB=True, dtype=uint8> <valis.slide_io.VipsSlideReader object at 0x7f11bcb61970> True (375, 300, 3)\n",
      "<Slide, name = 0941>, width=300, height=375, channels=3, levels=1, RGB=True, dtype=uint8> <valis.slide_io.VipsSlideReader object at 0x7f11bc3a1b50> True (375, 300, 3)\n",
      "<Slide, name = 0942>, width=300, height=375, channels=3, levels=1, RGB=True, dtype=uint8> <valis.slide_io.VipsSlideReader object at 0x7f11bcb51460> True (375, 300, 3)\n",
      "<Slide, name = 0943>, width=300, height=375, channels=3, levels=1, RGB=True, dtype=uint8> <valis.slide_io.VipsSlideReader object at 0x7f11bc3a1670> True (375, 300, 3)\n",
      "<Slide, name = 0944>, width=300, height=375, channels=3, levels=1, RGB=True, dtype=uint8> <valis.slide_io.VipsSlideReader object at 0x7f11bcb51a30> True (375, 300, 3)\n",
      "<Slide, name = 0945>, width=300, height=375, channels=3, levels=1, RGB=True, dtype=uint8> <valis.slide_io.VipsSlideReader object at 0x7f11bcb69880> True (375, 300, 3)\n"
     ]
    },
    {
     "name": "stderr",
     "output_type": "stream",
     "text": [
      "Converting images:  35%|███▍      | 919/2627 [00:10<00:18, 91.43image/s]"
     ]
    },
    {
     "name": "stdout",
     "output_type": "stream",
     "text": [
      "<Slide, name = 0946>, width=300, height=375, channels=3, levels=1, RGB=True, dtype=uint8> <valis.slide_io.VipsSlideReader object at 0x7f11bc3a19d0> True (375, 300, 3)\n",
      "<Slide, name = 0947>, width=300, height=375, channels=3, levels=1, RGB=True, dtype=uint8> <valis.slide_io.VipsSlideReader object at 0x7f11bc3a1bb0> True (375, 300, 3)\n",
      "<Slide, name = 0948>, width=300, height=375, channels=3, levels=1, RGB=True, dtype=uint8> <valis.slide_io.VipsSlideReader object at 0x7f11bcb71d60> True (375, 300, 3)\n",
      "<Slide, name = 0949>, width=300, height=375, channels=3, levels=1, RGB=True, dtype=uint8> <valis.slide_io.VipsSlideReader object at 0x7f11bcb69c40> True (375, 300, 3)\n",
      "<Slide, name = 0950>, width=300, height=375, channels=3, levels=1, RGB=True, dtype=uint8> <valis.slide_io.VipsSlideReader object at 0x7f11bcb71d30> True (375, 300, 3)\n",
      "<Slide, name = 0951>, width=300, height=375, channels=3, levels=1, RGB=True, dtype=uint8> <valis.slide_io.VipsSlideReader object at 0x7f11bc3a1700> True (375, 300, 3)\n",
      "<Slide, name = 0952>, width=300, height=375, channels=3, levels=1, RGB=True, dtype=uint8> <valis.slide_io.VipsSlideReader object at 0x7f11bcb71dc0> True (375, 300, 3)\n",
      "<Slide, name = 0953>, width=300, height=375, channels=3, levels=1, RGB=True, dtype=uint8> <valis.slide_io.VipsSlideReader object at 0x7f11bc3a1df0> True (375, 300, 3)\n",
      "<Slide, name = 0954>, width=300, height=375, channels=3, levels=1, RGB=True, dtype=uint8> <valis.slide_io.VipsSlideReader object at 0x7f11bcb71e80> True (375, 300, 3)\n",
      "<Slide, name = 0955>, width=300, height=375, channels=3, levels=1, RGB=True, dtype=uint8> <valis.slide_io.VipsSlideReader object at 0x7f11bc3a1f70> True (375, 300, 3)\n"
     ]
    },
    {
     "name": "stderr",
     "output_type": "stream",
     "text": [
      "Converting images:  35%|███▌      | 929/2627 [00:10<00:18, 91.64image/s]"
     ]
    },
    {
     "name": "stdout",
     "output_type": "stream",
     "text": [
      "<Slide, name = 0956>, width=300, height=375, channels=3, levels=1, RGB=True, dtype=uint8> <valis.slide_io.VipsSlideReader object at 0x7f11bc3a1f40> True (375, 300, 3)\n",
      "<Slide, name = 0957>, width=300, height=375, channels=3, levels=1, RGB=True, dtype=uint8> <valis.slide_io.VipsSlideReader object at 0x7f11bcb6a0f0> True (375, 300, 3)\n",
      "<Slide, name = 0958>, width=300, height=375, channels=3, levels=1, RGB=True, dtype=uint8> <valis.slide_io.VipsSlideReader object at 0x7f11bc3a2030> True (375, 300, 3)\n",
      "<Slide, name = 0959>, width=300, height=375, channels=3, levels=1, RGB=True, dtype=uint8> <valis.slide_io.VipsSlideReader object at 0x7f11bcb52000> True (375, 300, 3)\n",
      "<Slide, name = 0960>, width=300, height=375, channels=3, levels=1, RGB=True, dtype=uint8> <valis.slide_io.VipsSlideReader object at 0x7f11bcb72240> True (375, 300, 3)\n",
      "<Slide, name = 0961>, width=300, height=375, channels=3, levels=1, RGB=True, dtype=uint8> <valis.slide_io.VipsSlideReader object at 0x7f11bcb71af0> True (375, 300, 3)\n",
      "<Slide, name = 0962>, width=300, height=375, channels=3, levels=1, RGB=True, dtype=uint8> <valis.slide_io.VipsSlideReader object at 0x7f11bc3a2120> True (375, 300, 3)\n",
      "<Slide, name = 0963>, width=300, height=375, channels=3, levels=1, RGB=True, dtype=uint8> <valis.slide_io.VipsSlideReader object at 0x7f11bcb72270> True (375, 300, 3)\n",
      "<Slide, name = 0964>, width=300, height=375, channels=3, levels=1, RGB=True, dtype=uint8> <valis.slide_io.VipsSlideReader object at 0x7f11bcb6a0c0> True (375, 300, 3)\n",
      "<Slide, name = 0965>, width=300, height=375, channels=3, levels=1, RGB=True, dtype=uint8> <valis.slide_io.VipsSlideReader object at 0x7f11bcb72300> True (375, 300, 3)\n"
     ]
    },
    {
     "name": "stderr",
     "output_type": "stream",
     "text": [
      "Converting images:  36%|███▌      | 939/2627 [00:10<00:18, 91.33image/s]"
     ]
    },
    {
     "name": "stdout",
     "output_type": "stream",
     "text": [
      "<Slide, name = 0966>, width=300, height=375, channels=3, levels=1, RGB=True, dtype=uint8> <valis.slide_io.VipsSlideReader object at 0x7f11bcb72360> True (375, 300, 3)\n",
      "<Slide, name = 0967>, width=300, height=375, channels=3, levels=1, RGB=True, dtype=uint8> <valis.slide_io.VipsSlideReader object at 0x7f11bcb723c0> True (375, 300, 3)\n",
      "<Slide, name = 0968>, width=300, height=375, channels=3, levels=1, RGB=True, dtype=uint8> <valis.slide_io.VipsSlideReader object at 0x7f11bcb72420> True (375, 300, 3)\n",
      "<Slide, name = 0969>, width=300, height=375, channels=3, levels=1, RGB=True, dtype=uint8> <valis.slide_io.VipsSlideReader object at 0x7f11bcb72480> True (375, 300, 3)\n",
      "<Slide, name = 0970>, width=300, height=375, channels=3, levels=1, RGB=True, dtype=uint8> <valis.slide_io.VipsSlideReader object at 0x7f11bcb624e0> True (375, 300, 3)\n",
      "<Slide, name = 0971>, width=300, height=375, channels=3, levels=1, RGB=True, dtype=uint8> <valis.slide_io.VipsSlideReader object at 0x7f11bcb72540> True (375, 300, 3)\n",
      "<Slide, name = 0972>, width=300, height=375, channels=3, levels=1, RGB=True, dtype=uint8> <valis.slide_io.VipsSlideReader object at 0x7f11bcb725a0> True (375, 300, 3)\n",
      "<Slide, name = 0973>, width=300, height=375, channels=3, levels=1, RGB=True, dtype=uint8> <valis.slide_io.VipsSlideReader object at 0x7f11bcb6a600> True (375, 300, 3)\n",
      "<Slide, name = 0974>, width=300, height=375, channels=3, levels=1, RGB=True, dtype=uint8> <valis.slide_io.VipsSlideReader object at 0x7f11bcb52660> True (375, 300, 3)\n",
      "<Slide, name = 0975>, width=300, height=375, channels=3, levels=1, RGB=True, dtype=uint8> <valis.slide_io.VipsSlideReader object at 0x7f11bcb526c0> True (375, 300, 3)\n"
     ]
    },
    {
     "name": "stderr",
     "output_type": "stream",
     "text": [
      "Converting images:  36%|███▌      | 949/2627 [00:10<00:18, 90.49image/s]"
     ]
    },
    {
     "name": "stdout",
     "output_type": "stream",
     "text": [
      "<Slide, name = 0976>, width=300, height=375, channels=3, levels=1, RGB=True, dtype=uint8> <valis.slide_io.VipsSlideReader object at 0x7f11bcb52720> True (375, 300, 3)\n",
      "<Slide, name = 0977>, width=300, height=375, channels=3, levels=1, RGB=True, dtype=uint8> <valis.slide_io.VipsSlideReader object at 0x7f11bcb72780> True (375, 300, 3)\n",
      "<Slide, name = 0978>, width=300, height=375, channels=3, levels=1, RGB=True, dtype=uint8> <valis.slide_io.VipsSlideReader object at 0x7f11bcb527e0> True (375, 300, 3)\n",
      "<Slide, name = 0979>, width=300, height=375, channels=3, levels=1, RGB=True, dtype=uint8> <valis.slide_io.VipsSlideReader object at 0x7f11bcb72840> True (375, 300, 3)\n",
      "<Slide, name = 0980>, width=300, height=375, channels=3, levels=1, RGB=True, dtype=uint8> <valis.slide_io.VipsSlideReader object at 0x7f11bcb728a0> True (375, 300, 3)\n",
      "<Slide, name = 0981>, width=300, height=375, channels=3, levels=1, RGB=True, dtype=uint8> <valis.slide_io.VipsSlideReader object at 0x7f11bcb72900> True (375, 300, 3)\n",
      "<Slide, name = 0982>, width=300, height=375, channels=3, levels=1, RGB=True, dtype=uint8> <valis.slide_io.VipsSlideReader object at 0x7f11bcb72960> True (375, 300, 3)\n",
      "<Slide, name = 0983>, width=300, height=375, channels=3, levels=1, RGB=True, dtype=uint8> <valis.slide_io.VipsSlideReader object at 0x7f11bcb6aa20> True (375, 300, 3)\n",
      "<Slide, name = 0984>, width=300, height=375, channels=3, levels=1, RGB=True, dtype=uint8> <valis.slide_io.VipsSlideReader object at 0x7f11bcb72a80> True (375, 300, 3)\n",
      "<Slide, name = 0985>, width=300, height=375, channels=3, levels=1, RGB=True, dtype=uint8> <valis.slide_io.VipsSlideReader object at 0x7f11bcb6aae0> True (375, 300, 3)\n"
     ]
    },
    {
     "name": "stderr",
     "output_type": "stream",
     "text": [
      "Converting images:  37%|███▋      | 959/2627 [00:10<00:18, 90.51image/s]"
     ]
    },
    {
     "name": "stdout",
     "output_type": "stream",
     "text": [
      "<Slide, name = 0986>, width=300, height=375, channels=3, levels=1, RGB=True, dtype=uint8> <valis.slide_io.VipsSlideReader object at 0x7f11bc3a2180> True (375, 300, 3)\n",
      "<Slide, name = 0987>, width=300, height=375, channels=3, levels=1, RGB=True, dtype=uint8> <valis.slide_io.VipsSlideReader object at 0x7f11bc3a2bd0> True (375, 300, 3)\n",
      "<Slide, name = 0988>, width=300, height=375, channels=3, levels=1, RGB=True, dtype=uint8> <valis.slide_io.VipsSlideReader object at 0x7f11bcb72d80> True (375, 300, 3)\n",
      "<Slide, name = 0989>, width=300, height=375, channels=3, levels=1, RGB=True, dtype=uint8> <valis.slide_io.VipsSlideReader object at 0x7f11bcb722a0> True (375, 300, 3)\n",
      "<Slide, name = 0990>, width=300, height=375, channels=3, levels=1, RGB=True, dtype=uint8> <valis.slide_io.VipsSlideReader object at 0x7f11bc3a2ba0> True (375, 300, 3)\n",
      "<Slide, name = 0991>, width=300, height=375, channels=3, levels=1, RGB=True, dtype=uint8> <valis.slide_io.VipsSlideReader object at 0x7f11bcb72db0> True (375, 300, 3)\n",
      "<Slide, name = 0992>, width=300, height=375, channels=3, levels=1, RGB=True, dtype=uint8> <valis.slide_io.VipsSlideReader object at 0x7f11bc3a2c60> True (375, 300, 3)\n",
      "<Slide, name = 0993>, width=300, height=375, channels=3, levels=1, RGB=True, dtype=uint8> <valis.slide_io.VipsSlideReader object at 0x7f11bcb6ae40> True (375, 300, 3)\n",
      "<Slide, name = 0994>, width=300, height=375, channels=3, levels=1, RGB=True, dtype=uint8> <valis.slide_io.VipsSlideReader object at 0x7f11bc3a2f30> True (375, 300, 3)\n",
      "<Slide, name = 0995>, width=300, height=375, channels=3, levels=1, RGB=True, dtype=uint8> <valis.slide_io.VipsSlideReader object at 0x7f11bcb6af00> True (375, 300, 3)\n"
     ]
    },
    {
     "name": "stderr",
     "output_type": "stream",
     "text": [
      "Converting images:  37%|███▋      | 969/2627 [00:10<00:18, 89.89image/s]"
     ]
    },
    {
     "name": "stdout",
     "output_type": "stream",
     "text": [
      "<Slide, name = 0996>, width=300, height=375, channels=3, levels=1, RGB=True, dtype=uint8> <valis.slide_io.VipsSlideReader object at 0x7f11bc3a2ff0> True (375, 300, 3)\n",
      "<Slide, name = 0997>, width=300, height=375, channels=3, levels=1, RGB=True, dtype=uint8> <valis.slide_io.VipsSlideReader object at 0x7f11bc3a2fc0> True (375, 300, 3)\n",
      "<Slide, name = 0998>, width=300, height=375, channels=3, levels=1, RGB=True, dtype=uint8> <valis.slide_io.VipsSlideReader object at 0x7f11bcb6b170> True (375, 300, 3)\n",
      "<Slide, name = 0999>, width=300, height=375, channels=3, levels=1, RGB=True, dtype=uint8> <valis.slide_io.VipsSlideReader object at 0x7f11bcb72f60> True (375, 300, 3)\n",
      "<Slide, name = 1000>, width=300, height=375, channels=3, levels=1, RGB=True, dtype=uint8> <valis.slide_io.VipsSlideReader object at 0x7f11bcb6b140> True (375, 300, 3)\n",
      "<Slide, name = 1001>, width=300, height=375, channels=3, levels=1, RGB=True, dtype=uint8> <valis.slide_io.VipsSlideReader object at 0x7f11bcb731a0> True (375, 300, 3)\n",
      "<Slide, name = 1002>, width=300, height=375, channels=3, levels=1, RGB=True, dtype=uint8> <valis.slide_io.VipsSlideReader object at 0x7f11bcb731d0> True (375, 300, 3)\n",
      "<Slide, name = 1003>, width=300, height=375, channels=3, levels=1, RGB=True, dtype=uint8> <valis.slide_io.VipsSlideReader object at 0x7f11bcb73260> True (375, 300, 3)\n",
      "<Slide, name = 1004>, width=300, height=375, channels=3, levels=1, RGB=True, dtype=uint8> <valis.slide_io.VipsSlideReader object at 0x7f11bc3a30b0> True (375, 300, 3)\n"
     ]
    },
    {
     "name": "stderr",
     "output_type": "stream",
     "text": [
      "Converting images:  37%|███▋      | 978/2627 [00:10<00:18, 89.85image/s]"
     ]
    },
    {
     "name": "stdout",
     "output_type": "stream",
     "text": [
      "<Slide, name = 1005>, width=300, height=375, channels=3, levels=1, RGB=True, dtype=uint8> <valis.slide_io.VipsSlideReader object at 0x7f11bcb73080> True (375, 300, 3)\n",
      "<Slide, name = 1006>, width=300, height=375, channels=3, levels=1, RGB=True, dtype=uint8> <valis.slide_io.VipsSlideReader object at 0x7f11bc3a2c90> True (375, 300, 3)\n",
      "<Slide, name = 1007>, width=300, height=375, channels=3, levels=1, RGB=True, dtype=uint8> <valis.slide_io.VipsSlideReader object at 0x7f11bcb533b0> True (375, 300, 3)\n",
      "<Slide, name = 1008>, width=300, height=375, channels=3, levels=1, RGB=True, dtype=uint8> <valis.slide_io.VipsSlideReader object at 0x7f11bcb53380> True (375, 300, 3)\n",
      "<Slide, name = 1009>, width=300, height=375, channels=3, levels=1, RGB=True, dtype=uint8> <valis.slide_io.VipsSlideReader object at 0x7f11bcb73500> True (375, 300, 3)\n",
      "<Slide, name = 1010>, width=300, height=375, channels=3, levels=1, RGB=True, dtype=uint8> <valis.slide_io.VipsSlideReader object at 0x7f11bc3a3050> True (375, 300, 3)\n",
      "<Slide, name = 1011>, width=300, height=375, channels=3, levels=1, RGB=True, dtype=uint8> <valis.slide_io.VipsSlideReader object at 0x7f11bc3a3530> True (375, 300, 3)\n",
      "<Slide, name = 1012>, width=300, height=375, channels=3, levels=1, RGB=True, dtype=uint8> <valis.slide_io.VipsSlideReader object at 0x7f11bc3a3590> True (375, 300, 3)\n",
      "<Slide, name = 1013>, width=300, height=375, channels=3, levels=1, RGB=True, dtype=uint8> <valis.slide_io.VipsSlideReader object at 0x7f11bcb73320> True (375, 300, 3)\n"
     ]
    },
    {
     "name": "stderr",
     "output_type": "stream",
     "text": [
      "Converting images:  38%|███▊      | 987/2627 [00:10<00:18, 89.82image/s]"
     ]
    },
    {
     "name": "stdout",
     "output_type": "stream",
     "text": [
      "<Slide, name = 1014>, width=300, height=375, channels=3, levels=1, RGB=True, dtype=uint8> <valis.slide_io.VipsSlideReader object at 0x7f11bcb73560> True (375, 300, 3)\n",
      "<Slide, name = 1015>, width=300, height=375, channels=3, levels=1, RGB=True, dtype=uint8> <valis.slide_io.VipsSlideReader object at 0x7f11bc3a3230> True (375, 300, 3)\n",
      "<Slide, name = 1016>, width=300, height=375, channels=3, levels=1, RGB=True, dtype=uint8> <valis.slide_io.VipsSlideReader object at 0x7f11bcb6b7a0> True (375, 300, 3)\n",
      "<Slide, name = 1017>, width=300, height=375, channels=3, levels=1, RGB=True, dtype=uint8> <valis.slide_io.VipsSlideReader object at 0x7f11bc3a36b0> True (375, 300, 3)\n",
      "<Slide, name = 1018>, width=300, height=375, channels=3, levels=1, RGB=True, dtype=uint8> <valis.slide_io.VipsSlideReader object at 0x7f11bcb53440> True (375, 300, 3)\n",
      "<Slide, name = 1019>, width=300, height=375, channels=3, levels=1, RGB=True, dtype=uint8> <valis.slide_io.VipsSlideReader object at 0x7f11bc3a3830> True (375, 300, 3)\n",
      "<Slide, name = 1020>, width=300, height=375, channels=3, levels=1, RGB=True, dtype=uint8> <valis.slide_io.VipsSlideReader object at 0x7f11bcb738f0> True (375, 300, 3)\n",
      "<Slide, name = 1021>, width=300, height=375, channels=3, levels=1, RGB=True, dtype=uint8> <valis.slide_io.VipsSlideReader object at 0x7f11bc3a3650> True (375, 300, 3)\n",
      "<Slide, name = 1022>, width=300, height=375, channels=3, levels=1, RGB=True, dtype=uint8> <valis.slide_io.VipsSlideReader object at 0x7f11bcb73980> True (375, 300, 3)\n",
      "<Slide, name = 1023>, width=300, height=375, channels=3, levels=1, RGB=True, dtype=uint8> <valis.slide_io.VipsSlideReader object at 0x7f11bcb73bc0> True (375, 300, 3)\n"
     ]
    },
    {
     "name": "stderr",
     "output_type": "stream",
     "text": [
      "Converting images:  38%|███▊      | 997/2627 [00:10<00:17, 90.73image/s]"
     ]
    },
    {
     "name": "stdout",
     "output_type": "stream",
     "text": [
      "<Slide, name = 1024>, width=300, height=375, channels=3, levels=1, RGB=True, dtype=uint8> <valis.slide_io.VipsSlideReader object at 0x7f11bcb73aa0> True (375, 300, 3)\n",
      "<Slide, name = 1025>, width=300, height=375, channels=3, levels=1, RGB=True, dtype=uint8> <valis.slide_io.VipsSlideReader object at 0x7f11bc3a3a70> True (375, 300, 3)\n",
      "<Slide, name = 1026>, width=300, height=375, channels=3, levels=1, RGB=True, dtype=uint8> <valis.slide_io.VipsSlideReader object at 0x7f11bcb73bf0> True (375, 300, 3)\n",
      "<Slide, name = 1027>, width=300, height=375, channels=3, levels=1, RGB=True, dtype=uint8> <valis.slide_io.VipsSlideReader object at 0x7f11bcb73a40> True (375, 300, 3)\n",
      "<Slide, name = 1028>, width=300, height=375, channels=3, levels=1, RGB=True, dtype=uint8> <valis.slide_io.VipsSlideReader object at 0x7f11bcb6bb60> True (375, 300, 3)\n",
      "<Slide, name = 1029>, width=300, height=375, channels=3, levels=1, RGB=True, dtype=uint8> <valis.slide_io.VipsSlideReader object at 0x7f11bc3a3c20> True (375, 300, 3)\n",
      "<Slide, name = 1030>, width=300, height=375, channels=3, levels=1, RGB=True, dtype=uint8> <valis.slide_io.VipsSlideReader object at 0x7f11bcb63cb0> True (375, 300, 3)\n",
      "<Slide, name = 1031>, width=300, height=375, channels=3, levels=1, RGB=True, dtype=uint8> <valis.slide_io.VipsSlideReader object at 0x7f11bcb73d70> True (375, 300, 3)\n",
      "<Slide, name = 1032>, width=300, height=375, channels=3, levels=1, RGB=True, dtype=uint8> <valis.slide_io.VipsSlideReader object at 0x7f11bcb63da0> True (375, 300, 3)\n",
      "<Slide, name = 1033>, width=300, height=375, channels=3, levels=1, RGB=True, dtype=uint8> <valis.slide_io.VipsSlideReader object at 0x7f11bcb6be00> True (375, 300, 3)\n"
     ]
    },
    {
     "name": "stderr",
     "output_type": "stream",
     "text": [
      "Converting images:  38%|███▊      | 1007/2627 [00:11<00:17, 90.49image/s]"
     ]
    },
    {
     "name": "stdout",
     "output_type": "stream",
     "text": [
      "<Slide, name = 1034>, width=300, height=375, channels=3, levels=1, RGB=True, dtype=uint8> <valis.slide_io.VipsSlideReader object at 0x7f11bc3a3d40> True (375, 300, 3)\n",
      "<Slide, name = 1035>, width=300, height=375, channels=3, levels=1, RGB=True, dtype=uint8> <valis.slide_io.VipsSlideReader object at 0x7f11bc3a3e90> True (375, 300, 3)\n",
      "<Slide, name = 1036>, width=300, height=375, channels=3, levels=1, RGB=True, dtype=uint8> <valis.slide_io.VipsSlideReader object at 0x7f11bcb73ef0> True (375, 300, 3)\n",
      "<Slide, name = 1037>, width=300, height=375, channels=3, levels=1, RGB=True, dtype=uint8> <valis.slide_io.VipsSlideReader object at 0x7f11bc3a3b90> True (375, 300, 3)\n",
      "<Slide, name = 1038>, width=300, height=375, channels=3, levels=1, RGB=True, dtype=uint8> <valis.slide_io.VipsSlideReader object at 0x7f11bc3a3fe0> True (375, 300, 3)\n",
      "<Slide, name = 1039>, width=300, height=375, channels=3, levels=1, RGB=True, dtype=uint8> <valis.slide_io.VipsSlideReader object at 0x7f11bc3a3f80> True (375, 300, 3)\n",
      "<Slide, name = 1040>, width=300, height=375, channels=3, levels=1, RGB=True, dtype=uint8> <valis.slide_io.VipsSlideReader object at 0x7f11bc3a3f50> True (375, 300, 3)\n",
      "<Slide, name = 1041>, width=300, height=375, channels=3, levels=1, RGB=True, dtype=uint8> <valis.slide_io.VipsSlideReader object at 0x7f11bcb64230> True (375, 300, 3)\n",
      "<Slide, name = 1042>, width=300, height=375, channels=3, levels=1, RGB=True, dtype=uint8> <valis.slide_io.VipsSlideReader object at 0x7f11bcb6c0b0> True (375, 300, 3)\n",
      "<Slide, name = 1043>, width=300, height=375, channels=3, levels=1, RGB=True, dtype=uint8> <valis.slide_io.VipsSlideReader object at 0x7f11bcb6c260> True (375, 300, 3)\n"
     ]
    },
    {
     "name": "stderr",
     "output_type": "stream",
     "text": [
      "Converting images:  39%|███▊      | 1017/2627 [00:11<00:17, 89.89image/s]"
     ]
    },
    {
     "name": "stdout",
     "output_type": "stream",
     "text": [
      "<Slide, name = 1044>, width=300, height=375, channels=3, levels=1, RGB=True, dtype=uint8> <valis.slide_io.VipsSlideReader object at 0x7f11bc3a4290> True (375, 300, 3)\n",
      "<Slide, name = 1045>, width=300, height=375, channels=3, levels=1, RGB=True, dtype=uint8> <valis.slide_io.VipsSlideReader object at 0x7f11bc3a4320> True (375, 300, 3)\n",
      "<Slide, name = 1046>, width=300, height=375, channels=3, levels=1, RGB=True, dtype=uint8> <valis.slide_io.VipsSlideReader object at 0x7f11bc3a40e0> True (375, 300, 3)\n",
      "<Slide, name = 1047>, width=300, height=375, channels=3, levels=1, RGB=True, dtype=uint8> <valis.slide_io.VipsSlideReader object at 0x7f11bc3a44d0> True (375, 300, 3)\n",
      "<Slide, name = 1048>, width=300, height=375, channels=3, levels=1, RGB=True, dtype=uint8> <valis.slide_io.VipsSlideReader object at 0x7f11bc3a4050> True (375, 300, 3)\n",
      "<Slide, name = 1049>, width=300, height=375, channels=3, levels=1, RGB=True, dtype=uint8> <valis.slide_io.VipsSlideReader object at 0x7f11bcb643e0> True (375, 300, 3)\n",
      "<Slide, name = 1050>, width=300, height=375, channels=3, levels=1, RGB=True, dtype=uint8> <valis.slide_io.VipsSlideReader object at 0x7f11bcb64440> True (375, 300, 3)\n",
      "<Slide, name = 1051>, width=300, height=375, channels=3, levels=1, RGB=True, dtype=uint8> <valis.slide_io.VipsSlideReader object at 0x7f11bc3a4080> True (375, 300, 3)\n",
      "<Slide, name = 1052>, width=300, height=375, channels=3, levels=1, RGB=True, dtype=uint8> <valis.slide_io.VipsSlideReader object at 0x7f11bcb6c5f0> True (375, 300, 3)\n"
     ]
    },
    {
     "name": "stderr",
     "output_type": "stream",
     "text": [
      "Converting images:  39%|███▉      | 1026/2627 [00:11<00:17, 89.51image/s]"
     ]
    },
    {
     "name": "stdout",
     "output_type": "stream",
     "text": [
      "<Slide, name = 1053>, width=300, height=375, channels=3, levels=1, RGB=True, dtype=uint8> <valis.slide_io.VipsSlideReader object at 0x7f11bc3a4530> True (375, 300, 3)\n",
      "<Slide, name = 1054>, width=300, height=375, channels=3, levels=1, RGB=True, dtype=uint8> <valis.slide_io.VipsSlideReader object at 0x7f11bcb64170> True (375, 300, 3)\n",
      "<Slide, name = 1055>, width=300, height=375, channels=3, levels=1, RGB=True, dtype=uint8> <valis.slide_io.VipsSlideReader object at 0x7f11bc3a4680> True (375, 300, 3)\n",
      "<Slide, name = 1056>, width=300, height=375, channels=3, levels=1, RGB=True, dtype=uint8> <valis.slide_io.VipsSlideReader object at 0x7f11bcb6c4a0> True (375, 300, 3)\n",
      "<Slide, name = 1057>, width=300, height=375, channels=3, levels=1, RGB=True, dtype=uint8> <valis.slide_io.VipsSlideReader object at 0x7f11bcb64950> True (375, 300, 3)\n",
      "<Slide, name = 1058>, width=300, height=375, channels=3, levels=1, RGB=True, dtype=uint8> <valis.slide_io.VipsSlideReader object at 0x7f11bc3a47a0> True (375, 300, 3)\n",
      "<Slide, name = 1059>, width=300, height=375, channels=3, levels=1, RGB=True, dtype=uint8> <valis.slide_io.VipsSlideReader object at 0x7f11bcb54920> True (375, 300, 3)\n",
      "<Slide, name = 1060>, width=300, height=375, channels=3, levels=1, RGB=True, dtype=uint8> <valis.slide_io.VipsSlideReader object at 0x7f11bc3a4500> True (375, 300, 3)\n",
      "<Slide, name = 1061>, width=300, height=375, channels=3, levels=1, RGB=True, dtype=uint8> <valis.slide_io.VipsSlideReader object at 0x7f11bcb649b0> True (375, 300, 3)\n",
      "<Slide, name = 1062>, width=300, height=375, channels=3, levels=1, RGB=True, dtype=uint8> <valis.slide_io.VipsSlideReader object at 0x7f11bc3a4aa0> True (375, 300, 3)\n"
     ]
    },
    {
     "name": "stderr",
     "output_type": "stream",
     "text": [
      "Converting images:  39%|███▉      | 1036/2627 [00:11<00:17, 89.85image/s]"
     ]
    },
    {
     "name": "stdout",
     "output_type": "stream",
     "text": [
      "<Slide, name = 1063>, width=300, height=375, channels=3, levels=1, RGB=True, dtype=uint8> <valis.slide_io.VipsSlideReader object at 0x7f11bc3a4650> True (375, 300, 3)\n",
      "<Slide, name = 1064>, width=300, height=375, channels=3, levels=1, RGB=True, dtype=uint8> <valis.slide_io.VipsSlideReader object at 0x7f11bc3a4980> True (375, 300, 3)\n",
      "<Slide, name = 1065>, width=300, height=375, channels=3, levels=1, RGB=True, dtype=uint8> <valis.slide_io.VipsSlideReader object at 0x7f11bc3a4a10> True (375, 300, 3)\n",
      "<Slide, name = 1066>, width=300, height=375, channels=3, levels=1, RGB=True, dtype=uint8> <valis.slide_io.VipsSlideReader object at 0x7f11bc3a4c20> True (375, 300, 3)\n",
      "<Slide, name = 1067>, width=300, height=375, channels=3, levels=1, RGB=True, dtype=uint8> <valis.slide_io.VipsSlideReader object at 0x7f11bc3a4d70> True (375, 300, 3)\n",
      "<Slide, name = 1068>, width=300, height=375, channels=3, levels=1, RGB=True, dtype=uint8> <valis.slide_io.VipsSlideReader object at 0x7f11bcb54e00> True (375, 300, 3)\n",
      "<Slide, name = 1069>, width=300, height=375, channels=3, levels=1, RGB=True, dtype=uint8> <valis.slide_io.VipsSlideReader object at 0x7f11bc3a4710> True (375, 300, 3)\n",
      "<Slide, name = 1070>, width=300, height=375, channels=3, levels=1, RGB=True, dtype=uint8> <valis.slide_io.VipsSlideReader object at 0x7f11bc3a4ad0> True (375, 300, 3)\n",
      "<Slide, name = 1071>, width=300, height=375, channels=3, levels=1, RGB=True, dtype=uint8> <valis.slide_io.VipsSlideReader object at 0x7f11bc3a4dd0> True (375, 300, 3)\n"
     ]
    },
    {
     "name": "stderr",
     "output_type": "stream",
     "text": [
      "Converting images:  40%|███▉      | 1045/2627 [00:11<00:17, 89.54image/s]"
     ]
    },
    {
     "name": "stdout",
     "output_type": "stream",
     "text": [
      "<Slide, name = 1072>, width=300, height=375, channels=3, levels=1, RGB=True, dtype=uint8> <valis.slide_io.VipsSlideReader object at 0x7f11bc3a4cb0> True (375, 300, 3)\n",
      "<Slide, name = 1073>, width=300, height=375, channels=3, levels=1, RGB=True, dtype=uint8> <valis.slide_io.VipsSlideReader object at 0x7f11bc3a4e90> True (375, 300, 3)\n",
      "<Slide, name = 1074>, width=300, height=375, channels=3, levels=1, RGB=True, dtype=uint8> <valis.slide_io.VipsSlideReader object at 0x7f11bc3a4e30> True (375, 300, 3)\n",
      "<Slide, name = 1075>, width=300, height=375, channels=3, levels=1, RGB=True, dtype=uint8> <valis.slide_io.VipsSlideReader object at 0x7f11bc3a5010> True (375, 300, 3)\n",
      "<Slide, name = 1076>, width=300, height=375, channels=3, levels=1, RGB=True, dtype=uint8> <valis.slide_io.VipsSlideReader object at 0x7f11bc3a5070> True (375, 300, 3)\n",
      "<Slide, name = 1077>, width=300, height=375, channels=3, levels=1, RGB=True, dtype=uint8> <valis.slide_io.VipsSlideReader object at 0x7f11bc3a50d0> True (375, 300, 3)\n",
      "<Slide, name = 1078>, width=300, height=375, channels=3, levels=1, RGB=True, dtype=uint8> <valis.slide_io.VipsSlideReader object at 0x7f11bc3a5130> True (375, 300, 3)\n",
      "<Slide, name = 1079>, width=300, height=375, channels=3, levels=1, RGB=True, dtype=uint8> <valis.slide_io.VipsSlideReader object at 0x7f11bc3a5190> True (375, 300, 3)\n",
      "<Slide, name = 1080>, width=300, height=375, channels=3, levels=1, RGB=True, dtype=uint8> <valis.slide_io.VipsSlideReader object at 0x7f11bc3a51f0> True (375, 300, 3)\n"
     ]
    },
    {
     "name": "stderr",
     "output_type": "stream",
     "text": [
      "Converting images:  40%|████      | 1054/2627 [00:11<00:17, 89.61image/s]"
     ]
    },
    {
     "name": "stdout",
     "output_type": "stream",
     "text": [
      "<Slide, name = 1081>, width=300, height=375, channels=3, levels=1, RGB=True, dtype=uint8> <valis.slide_io.VipsSlideReader object at 0x7f11bc3a5250> True (375, 300, 3)\n",
      "<Slide, name = 1082>, width=300, height=375, channels=3, levels=1, RGB=True, dtype=uint8> <valis.slide_io.VipsSlideReader object at 0x7f11bc3a52b0> True (375, 300, 3)\n",
      "<Slide, name = 1083>, width=300, height=375, channels=3, levels=1, RGB=True, dtype=uint8> <valis.slide_io.VipsSlideReader object at 0x7f11bc3a5310> True (375, 300, 3)\n",
      "<Slide, name = 1084>, width=300, height=375, channels=3, levels=1, RGB=True, dtype=uint8> <valis.slide_io.VipsSlideReader object at 0x7f11bc3a5370> True (375, 300, 3)\n",
      "<Slide, name = 1085>, width=300, height=375, channels=3, levels=1, RGB=True, dtype=uint8> <valis.slide_io.VipsSlideReader object at 0x7f11bc3a53d0> True (375, 300, 3)\n",
      "<Slide, name = 1086>, width=300, height=375, channels=3, levels=1, RGB=True, dtype=uint8> <valis.slide_io.VipsSlideReader object at 0x7f11bc3a5430> True (375, 300, 3)\n",
      "<Slide, name = 1087>, width=300, height=375, channels=3, levels=1, RGB=True, dtype=uint8> <valis.slide_io.VipsSlideReader object at 0x7f11bc3a5490> True (375, 300, 3)\n",
      "<Slide, name = 1088>, width=300, height=375, channels=3, levels=1, RGB=True, dtype=uint8> <valis.slide_io.VipsSlideReader object at 0x7f11bc3a54f0> True (375, 300, 3)\n",
      "<Slide, name = 1089>, width=300, height=375, channels=3, levels=1, RGB=True, dtype=uint8> <valis.slide_io.VipsSlideReader object at 0x7f11bc3a5550> True (375, 300, 3)\n"
     ]
    },
    {
     "name": "stderr",
     "output_type": "stream",
     "text": [
      "Converting images:  40%|████      | 1063/2627 [00:11<00:17, 89.04image/s]"
     ]
    },
    {
     "name": "stdout",
     "output_type": "stream",
     "text": [
      "<Slide, name = 1090>, width=300, height=375, channels=3, levels=1, RGB=True, dtype=uint8> <valis.slide_io.VipsSlideReader object at 0x7f11bc3a55b0> True (375, 300, 3)\n",
      "<Slide, name = 1091>, width=300, height=375, channels=3, levels=1, RGB=True, dtype=uint8> <valis.slide_io.VipsSlideReader object at 0x7f11bc3a5610> True (375, 300, 3)\n",
      "<Slide, name = 1092>, width=300, height=375, channels=3, levels=1, RGB=True, dtype=uint8> <valis.slide_io.VipsSlideReader object at 0x7f11bc3a5670> True (375, 300, 3)\n",
      "<Slide, name = 1093>, width=300, height=375, channels=3, levels=1, RGB=True, dtype=uint8> <valis.slide_io.VipsSlideReader object at 0x7f11bc3a56d0> True (375, 300, 3)\n",
      "<Slide, name = 1094>, width=300, height=375, channels=3, levels=1, RGB=True, dtype=uint8> <valis.slide_io.VipsSlideReader object at 0x7f11bc3a5730> True (375, 300, 3)\n",
      "<Slide, name = 1095>, width=300, height=375, channels=3, levels=1, RGB=True, dtype=uint8> <valis.slide_io.VipsSlideReader object at 0x7f11bc3a5790> True (375, 300, 3)\n",
      "<Slide, name = 1096>, width=300, height=375, channels=3, levels=1, RGB=True, dtype=uint8> <valis.slide_io.VipsSlideReader object at 0x7f11bc3a57f0> True (375, 300, 3)\n",
      "<Slide, name = 1097>, width=300, height=375, channels=3, levels=1, RGB=True, dtype=uint8> <valis.slide_io.VipsSlideReader object at 0x7f11bc3a5850> True (375, 300, 3)\n",
      "<Slide, name = 1098>, width=300, height=375, channels=3, levels=1, RGB=True, dtype=uint8> <valis.slide_io.VipsSlideReader object at 0x7f11bc3a58b0> True (375, 300, 3)\n"
     ]
    },
    {
     "name": "stderr",
     "output_type": "stream",
     "text": [
      "Converting images:  41%|████      | 1072/2627 [00:11<00:17, 88.95image/s]"
     ]
    },
    {
     "name": "stdout",
     "output_type": "stream",
     "text": [
      "<Slide, name = 1099>, width=300, height=375, channels=3, levels=1, RGB=True, dtype=uint8> <valis.slide_io.VipsSlideReader object at 0x7f11bc3a5910> True (375, 300, 3)\n",
      "<Slide, name = 1100>, width=300, height=375, channels=3, levels=1, RGB=True, dtype=uint8> <valis.slide_io.VipsSlideReader object at 0x7f11bc3a5970> True (375, 300, 3)\n",
      "<Slide, name = 1101>, width=300, height=375, channels=3, levels=1, RGB=True, dtype=uint8> <valis.slide_io.VipsSlideReader object at 0x7f11bc3a59d0> True (375, 300, 3)\n",
      "<Slide, name = 1102>, width=300, height=375, channels=3, levels=1, RGB=True, dtype=uint8> <valis.slide_io.VipsSlideReader object at 0x7f11bc3a5a30> True (375, 300, 3)\n",
      "<Slide, name = 1103>, width=300, height=375, channels=3, levels=1, RGB=True, dtype=uint8> <valis.slide_io.VipsSlideReader object at 0x7f11bc3a5a90> True (375, 300, 3)\n",
      "<Slide, name = 1104>, width=300, height=375, channels=3, levels=1, RGB=True, dtype=uint8> <valis.slide_io.VipsSlideReader object at 0x7f11bc3a5af0> True (375, 300, 3)\n",
      "<Slide, name = 1105>, width=300, height=375, channels=3, levels=1, RGB=True, dtype=uint8> <valis.slide_io.VipsSlideReader object at 0x7f11bc3a5b50> True (375, 300, 3)\n",
      "<Slide, name = 1106>, width=300, height=375, channels=3, levels=1, RGB=True, dtype=uint8> <valis.slide_io.VipsSlideReader object at 0x7f11bc3a5bb0> True (375, 300, 3)\n",
      "<Slide, name = 1107>, width=300, height=375, channels=3, levels=1, RGB=True, dtype=uint8> <valis.slide_io.VipsSlideReader object at 0x7f11bc3a5c10> True (375, 300, 3)\n",
      "<Slide, name = 1108>, width=300, height=375, channels=3, levels=1, RGB=True, dtype=uint8> <valis.slide_io.VipsSlideReader object at 0x7f11bc3a5c70> True (375, 300, 3)\n"
     ]
    },
    {
     "name": "stderr",
     "output_type": "stream",
     "text": [
      "Converting images:  41%|████      | 1082/2627 [00:11<00:17, 90.32image/s]"
     ]
    },
    {
     "name": "stdout",
     "output_type": "stream",
     "text": [
      "<Slide, name = 1109>, width=300, height=375, channels=3, levels=1, RGB=True, dtype=uint8> <valis.slide_io.VipsSlideReader object at 0x7f11bc3a5cd0> True (375, 300, 3)\n",
      "<Slide, name = 1110>, width=300, height=375, channels=3, levels=1, RGB=True, dtype=uint8> <valis.slide_io.VipsSlideReader object at 0x7f11bc3a5d30> True (375, 300, 3)\n",
      "<Slide, name = 1111>, width=300, height=375, channels=3, levels=1, RGB=True, dtype=uint8> <valis.slide_io.VipsSlideReader object at 0x7f11bcb56510> True (375, 300, 3)\n",
      "<Slide, name = 1112>, width=300, height=375, channels=3, levels=1, RGB=True, dtype=uint8> <valis.slide_io.VipsSlideReader object at 0x7f11bc3a5f10> True (375, 300, 3)\n",
      "<Slide, name = 1113>, width=300, height=375, channels=3, levels=1, RGB=True, dtype=uint8> <valis.slide_io.VipsSlideReader object at 0x7f11bc3a5e50> True (375, 300, 3)\n",
      "<Slide, name = 1114>, width=300, height=375, channels=3, levels=1, RGB=True, dtype=uint8> <valis.slide_io.VipsSlideReader object at 0x7f11bc3a5be0> True (375, 300, 3)\n",
      "<Slide, name = 1115>, width=300, height=375, channels=3, levels=1, RGB=True, dtype=uint8> <valis.slide_io.VipsSlideReader object at 0x7f11bc3a5d00> True (375, 300, 3)\n",
      "<Slide, name = 1116>, width=300, height=375, channels=3, levels=1, RGB=True, dtype=uint8> <valis.slide_io.VipsSlideReader object at 0x7f11bc3a5f40> True (375, 300, 3)\n",
      "<Slide, name = 1117>, width=300, height=375, channels=3, levels=1, RGB=True, dtype=uint8> <valis.slide_io.VipsSlideReader object at 0x7f11bc3a5fa0> True (375, 300, 3)\n",
      "<Slide, name = 1118>, width=300, height=375, channels=3, levels=1, RGB=True, dtype=uint8> <valis.slide_io.VipsSlideReader object at 0x7f11bc3a6000> True (375, 300, 3)\n"
     ]
    },
    {
     "name": "stderr",
     "output_type": "stream",
     "text": [
      "Converting images:  42%|████▏     | 1092/2627 [00:11<00:17, 90.29image/s]"
     ]
    },
    {
     "name": "stdout",
     "output_type": "stream",
     "text": [
      "<Slide, name = 1119>, width=300, height=375, channels=3, levels=1, RGB=True, dtype=uint8> <valis.slide_io.VipsSlideReader object at 0x7f11bc3a6060> True (375, 300, 3)\n",
      "<Slide, name = 1120>, width=300, height=375, channels=3, levels=1, RGB=True, dtype=uint8> <valis.slide_io.VipsSlideReader object at 0x7f11bc3a60c0> True (375, 300, 3)\n",
      "<Slide, name = 1121>, width=300, height=375, channels=3, levels=1, RGB=True, dtype=uint8> <valis.slide_io.VipsSlideReader object at 0x7f11bc3a6120> True (375, 300, 3)\n",
      "<Slide, name = 1122>, width=300, height=375, channels=3, levels=1, RGB=True, dtype=uint8> <valis.slide_io.VipsSlideReader object at 0x7f11bc3a6180> True (375, 300, 3)\n",
      "<Slide, name = 1123>, width=300, height=375, channels=3, levels=1, RGB=True, dtype=uint8> <valis.slide_io.VipsSlideReader object at 0x7f11bc3a61e0> True (375, 300, 3)\n",
      "<Slide, name = 1124>, width=300, height=375, channels=3, levels=1, RGB=True, dtype=uint8> <valis.slide_io.VipsSlideReader object at 0x7f11bc3a6240> True (375, 300, 3)\n",
      "<Slide, name = 1125>, width=300, height=375, channels=3, levels=1, RGB=True, dtype=uint8> <valis.slide_io.VipsSlideReader object at 0x7f11bc3a62a0> True (375, 300, 3)\n",
      "<Slide, name = 1126>, width=300, height=375, channels=3, levels=1, RGB=True, dtype=uint8> <valis.slide_io.VipsSlideReader object at 0x7f11bc3a6300> True (375, 300, 3)\n",
      "<Slide, name = 1127>, width=300, height=375, channels=3, levels=1, RGB=True, dtype=uint8> <valis.slide_io.VipsSlideReader object at 0x7f11bc3a6360> True (375, 300, 3)\n",
      "<Slide, name = 1128>, width=300, height=375, channels=3, levels=1, RGB=True, dtype=uint8> <valis.slide_io.VipsSlideReader object at 0x7f11bc3a63c0> True (375, 300, 3)\n"
     ]
    },
    {
     "name": "stderr",
     "output_type": "stream",
     "text": [
      "Converting images:  42%|████▏     | 1102/2627 [00:12<00:16, 89.91image/s]"
     ]
    },
    {
     "name": "stdout",
     "output_type": "stream",
     "text": [
      "<Slide, name = 1129>, width=300, height=375, channels=3, levels=1, RGB=True, dtype=uint8> <valis.slide_io.VipsSlideReader object at 0x7f11bc3a6420> True (375, 300, 3)\n",
      "<Slide, name = 1130>, width=300, height=375, channels=3, levels=1, RGB=True, dtype=uint8> <valis.slide_io.VipsSlideReader object at 0x7f11bc3a64b0> True (375, 300, 3)\n",
      "<Slide, name = 1131>, width=300, height=375, channels=3, levels=1, RGB=True, dtype=uint8> <valis.slide_io.VipsSlideReader object at 0x7f11bc3a6510> True (375, 300, 3)\n",
      "<Slide, name = 1132>, width=300, height=375, channels=3, levels=1, RGB=True, dtype=uint8> <valis.slide_io.VipsSlideReader object at 0x7f11bcb54d10> True (375, 300, 3)\n",
      "<Slide, name = 1133>, width=300, height=375, channels=3, levels=1, RGB=True, dtype=uint8> <valis.slide_io.VipsSlideReader object at 0x7f11bc3a6750> True (375, 300, 3)\n",
      "<Slide, name = 1134>, width=300, height=375, channels=3, levels=1, RGB=True, dtype=uint8> <valis.slide_io.VipsSlideReader object at 0x7f11bc3a6690> True (375, 300, 3)\n",
      "<Slide, name = 1135>, width=300, height=375, channels=3, levels=1, RGB=True, dtype=uint8> <valis.slide_io.VipsSlideReader object at 0x7f11bc3a6390> True (375, 300, 3)\n",
      "<Slide, name = 1136>, width=300, height=375, channels=3, levels=1, RGB=True, dtype=uint8> <valis.slide_io.VipsSlideReader object at 0x7f11bc3a64e0> True (375, 300, 3)\n",
      "<Slide, name = 1137>, width=300, height=375, channels=3, levels=1, RGB=True, dtype=uint8> <valis.slide_io.VipsSlideReader object at 0x7f11bc3a6780> True (375, 300, 3)\n"
     ]
    },
    {
     "name": "stderr",
     "output_type": "stream",
     "text": [
      "Converting images:  42%|████▏     | 1111/2627 [00:12<00:16, 89.29image/s]"
     ]
    },
    {
     "name": "stdout",
     "output_type": "stream",
     "text": [
      "<Slide, name = 1138>, width=300, height=375, channels=3, levels=1, RGB=True, dtype=uint8> <valis.slide_io.VipsSlideReader object at 0x7f11bc3a67e0> True (375, 300, 3)\n",
      "<Slide, name = 1139>, width=300, height=375, channels=3, levels=1, RGB=True, dtype=uint8> <valis.slide_io.VipsSlideReader object at 0x7f11bc3a6870> True (375, 300, 3)\n",
      "<Slide, name = 1140>, width=300, height=375, channels=3, levels=1, RGB=True, dtype=uint8> <valis.slide_io.VipsSlideReader object at 0x7f11bc3a68d0> True (375, 300, 3)\n",
      "<Slide, name = 1141>, width=300, height=375, channels=3, levels=1, RGB=True, dtype=uint8> <valis.slide_io.VipsSlideReader object at 0x7f11bc3a6930> True (375, 300, 3)\n",
      "<Slide, name = 1142>, width=300, height=375, channels=3, levels=1, RGB=True, dtype=uint8> <valis.slide_io.VipsSlideReader object at 0x7f11bc3a6990> True (375, 300, 3)\n",
      "<Slide, name = 1143>, width=300, height=375, channels=3, levels=1, RGB=True, dtype=uint8> <valis.slide_io.VipsSlideReader object at 0x7f11bc3a69f0> True (375, 300, 3)\n",
      "<Slide, name = 1144>, width=300, height=375, channels=3, levels=1, RGB=True, dtype=uint8> <valis.slide_io.VipsSlideReader object at 0x7f11bc3a6a50> True (375, 300, 3)\n",
      "<Slide, name = 1145>, width=300, height=375, channels=3, levels=1, RGB=True, dtype=uint8> <valis.slide_io.VipsSlideReader object at 0x7f11bc3a6b10> True (375, 300, 3)\n",
      "<Slide, name = 1146>, width=300, height=375, channels=3, levels=1, RGB=True, dtype=uint8> <valis.slide_io.VipsSlideReader object at 0x7f11bc3a6b70> True (375, 300, 3)\n"
     ]
    },
    {
     "name": "stderr",
     "output_type": "stream",
     "text": [
      "Converting images:  43%|████▎     | 1120/2627 [00:12<00:16, 89.38image/s]"
     ]
    },
    {
     "name": "stdout",
     "output_type": "stream",
     "text": [
      "<Slide, name = 1147>, width=300, height=375, channels=3, levels=1, RGB=True, dtype=uint8> <valis.slide_io.VipsSlideReader object at 0x7f11bc3a6bd0> True (375, 300, 3)\n",
      "<Slide, name = 1148>, width=300, height=375, channels=3, levels=1, RGB=True, dtype=uint8> <valis.slide_io.VipsSlideReader object at 0x7f11bc3a6c30> True (375, 300, 3)\n",
      "<Slide, name = 1149>, width=300, height=375, channels=3, levels=1, RGB=True, dtype=uint8> <valis.slide_io.VipsSlideReader object at 0x7f11bc3a6c90> True (375, 300, 3)\n",
      "<Slide, name = 1150>, width=300, height=375, channels=3, levels=1, RGB=True, dtype=uint8> <valis.slide_io.VipsSlideReader object at 0x7f11bc3a6cf0> True (375, 300, 3)\n",
      "<Slide, name = 1151>, width=300, height=375, channels=3, levels=1, RGB=True, dtype=uint8> <valis.slide_io.VipsSlideReader object at 0x7f11bc3a6d50> True (375, 300, 3)\n",
      "<Slide, name = 1152>, width=300, height=375, channels=3, levels=1, RGB=True, dtype=uint8> <valis.slide_io.VipsSlideReader object at 0x7f11bc3a6db0> True (375, 300, 3)\n",
      "<Slide, name = 1153>, width=300, height=375, channels=3, levels=1, RGB=True, dtype=uint8> <valis.slide_io.VipsSlideReader object at 0x7f11bc3a6e10> True (375, 300, 3)\n",
      "<Slide, name = 1154>, width=300, height=375, channels=3, levels=1, RGB=True, dtype=uint8> <valis.slide_io.VipsSlideReader object at 0x7f11bc3a6e70> True (375, 300, 3)\n",
      "<Slide, name = 1155>, width=300, height=375, channels=3, levels=1, RGB=True, dtype=uint8> <valis.slide_io.VipsSlideReader object at 0x7f11bc3a6ed0> True (375, 300, 3)\n"
     ]
    },
    {
     "name": "stderr",
     "output_type": "stream",
     "text": [
      "Converting images:  43%|████▎     | 1129/2627 [00:12<00:16, 89.27image/s]"
     ]
    },
    {
     "name": "stdout",
     "output_type": "stream",
     "text": [
      "<Slide, name = 1156>, width=300, height=375, channels=3, levels=1, RGB=True, dtype=uint8> <valis.slide_io.VipsSlideReader object at 0x7f11bc3a6f30> True (375, 300, 3)\n",
      "<Slide, name = 1157>, width=300, height=375, channels=3, levels=1, RGB=True, dtype=uint8> <valis.slide_io.VipsSlideReader object at 0x7f11bc3a6f90> True (375, 300, 3)\n",
      "<Slide, name = 1158>, width=300, height=375, channels=3, levels=1, RGB=True, dtype=uint8> <valis.slide_io.VipsSlideReader object at 0x7f11bc3a6ff0> True (375, 300, 3)\n",
      "<Slide, name = 1159>, width=300, height=375, channels=3, levels=1, RGB=True, dtype=uint8> <valis.slide_io.VipsSlideReader object at 0x7f11bc3a7050> True (375, 300, 3)\n",
      "<Slide, name = 1160>, width=300, height=375, channels=3, levels=1, RGB=True, dtype=uint8> <valis.slide_io.VipsSlideReader object at 0x7f11bc3a70b0> True (375, 300, 3)\n",
      "<Slide, name = 1161>, width=300, height=375, channels=3, levels=1, RGB=True, dtype=uint8> <valis.slide_io.VipsSlideReader object at 0x7f11bc3a7110> True (375, 300, 3)\n",
      "<Slide, name = 1162>, width=300, height=375, channels=3, levels=1, RGB=True, dtype=uint8> <valis.slide_io.VipsSlideReader object at 0x7f11bc3a7170> True (375, 300, 3)\n",
      "<Slide, name = 1163>, width=300, height=375, channels=3, levels=1, RGB=True, dtype=uint8> <valis.slide_io.VipsSlideReader object at 0x7f11bc3a71d0> True (375, 300, 3)\n",
      "<Slide, name = 1164>, width=300, height=375, channels=3, levels=1, RGB=True, dtype=uint8> <valis.slide_io.VipsSlideReader object at 0x7f11bc3a7260> True (375, 300, 3)\n"
     ]
    },
    {
     "name": "stderr",
     "output_type": "stream",
     "text": [
      "Converting images:  43%|████▎     | 1138/2627 [00:12<00:16, 89.38image/s]"
     ]
    },
    {
     "name": "stdout",
     "output_type": "stream",
     "text": [
      "<Slide, name = 1165>, width=300, height=375, channels=3, levels=1, RGB=True, dtype=uint8> <valis.slide_io.VipsSlideReader object at 0x7f11bc3a72c0> True (375, 300, 3)\n",
      "<Slide, name = 1166>, width=300, height=375, channels=3, levels=1, RGB=True, dtype=uint8> <valis.slide_io.VipsSlideReader object at 0x7f11bc3a7320> True (375, 300, 3)\n",
      "<Slide, name = 1167>, width=300, height=375, channels=3, levels=1, RGB=True, dtype=uint8> <valis.slide_io.VipsSlideReader object at 0x7f11bc3a7380> True (375, 300, 3)\n",
      "<Slide, name = 1168>, width=300, height=375, channels=3, levels=1, RGB=True, dtype=uint8> <valis.slide_io.VipsSlideReader object at 0x7f11bc3a73e0> True (375, 300, 3)\n",
      "<Slide, name = 1169>, width=300, height=375, channels=3, levels=1, RGB=True, dtype=uint8> <valis.slide_io.VipsSlideReader object at 0x7f11bc3a7440> True (375, 300, 3)\n",
      "<Slide, name = 1170>, width=300, height=375, channels=3, levels=1, RGB=True, dtype=uint8> <valis.slide_io.VipsSlideReader object at 0x7f11bc3a74d0> True (375, 300, 3)\n",
      "<Slide, name = 1171>, width=300, height=375, channels=3, levels=1, RGB=True, dtype=uint8> <valis.slide_io.VipsSlideReader object at 0x7f11bc3a75f0> True (375, 300, 3)\n",
      "<Slide, name = 1172>, width=300, height=375, channels=3, levels=1, RGB=True, dtype=uint8> <valis.slide_io.VipsSlideReader object at 0x7f11bc3a7590> True (375, 300, 3)\n",
      "<Slide, name = 1173>, width=300, height=375, channels=3, levels=1, RGB=True, dtype=uint8> <valis.slide_io.VipsSlideReader object at 0x7f11bc3a7650> True (375, 300, 3)\n",
      "<Slide, name = 1174>, width=300, height=375, channels=3, levels=1, RGB=True, dtype=uint8> <valis.slide_io.VipsSlideReader object at 0x7f11bc3a73b0> True (375, 300, 3)\n"
     ]
    },
    {
     "name": "stderr",
     "output_type": "stream",
     "text": [
      "Converting images:  44%|████▎     | 1148/2627 [00:12<00:16, 89.67image/s]"
     ]
    },
    {
     "name": "stdout",
     "output_type": "stream",
     "text": [
      "<Slide, name = 1175>, width=300, height=375, channels=3, levels=1, RGB=True, dtype=uint8> <valis.slide_io.VipsSlideReader object at 0x7f11bc3a7680> True (375, 300, 3)\n",
      "<Slide, name = 1176>, width=300, height=375, channels=3, levels=1, RGB=True, dtype=uint8> <valis.slide_io.VipsSlideReader object at 0x7f11bc3a7710> True (375, 300, 3)\n",
      "<Slide, name = 1177>, width=300, height=375, channels=3, levels=1, RGB=True, dtype=uint8> <valis.slide_io.VipsSlideReader object at 0x7f11bc3a7770> True (375, 300, 3)\n",
      "<Slide, name = 1178>, width=300, height=375, channels=3, levels=1, RGB=True, dtype=uint8> <valis.slide_io.VipsSlideReader object at 0x7f11bc3a77d0> True (375, 300, 3)\n",
      "<Slide, name = 1179>, width=300, height=375, channels=3, levels=1, RGB=True, dtype=uint8> <valis.slide_io.VipsSlideReader object at 0x7f11bc3a7830> True (375, 300, 3)\n",
      "<Slide, name = 1180>, width=300, height=375, channels=3, levels=1, RGB=True, dtype=uint8> <valis.slide_io.VipsSlideReader object at 0x7f11bc3a7890> True (375, 300, 3)\n",
      "<Slide, name = 1181>, width=300, height=375, channels=3, levels=1, RGB=True, dtype=uint8> <valis.slide_io.VipsSlideReader object at 0x7f11bc3a7920> True (375, 300, 3)\n",
      "<Slide, name = 1182>, width=300, height=375, channels=3, levels=1, RGB=True, dtype=uint8> <valis.slide_io.VipsSlideReader object at 0x7f11bc3a7980> True (375, 300, 3)\n",
      "<Slide, name = 1183>, width=300, height=375, channels=3, levels=1, RGB=True, dtype=uint8> <valis.slide_io.VipsSlideReader object at 0x7f11bc3a79e0> True (375, 300, 3)\n",
      "<Slide, name = 1184>, width=300, height=375, channels=3, levels=1, RGB=True, dtype=uint8> <valis.slide_io.VipsSlideReader object at 0x7f11bc3a7a40> True (375, 300, 3)\n"
     ]
    },
    {
     "name": "stderr",
     "output_type": "stream",
     "text": [
      "Converting images:  44%|████▍     | 1158/2627 [00:12<00:16, 90.95image/s]"
     ]
    },
    {
     "name": "stdout",
     "output_type": "stream",
     "text": [
      "<Slide, name = 1185>, width=300, height=375, channels=3, levels=1, RGB=True, dtype=uint8> <valis.slide_io.VipsSlideReader object at 0x7f11bc3a7aa0> True (375, 300, 3)\n",
      "<Slide, name = 1186>, width=300, height=375, channels=3, levels=1, RGB=True, dtype=uint8> <valis.slide_io.VipsSlideReader object at 0x7f11bc3a7b00> True (375, 300, 3)\n",
      "<Slide, name = 1187>, width=300, height=375, channels=3, levels=1, RGB=True, dtype=uint8> <valis.slide_io.VipsSlideReader object at 0x7f11bc3a7b60> True (375, 300, 3)\n",
      "<Slide, name = 1188>, width=300, height=375, channels=3, levels=1, RGB=True, dtype=uint8> <valis.slide_io.VipsSlideReader object at 0x7f11bc3a7bc0> True (375, 300, 3)\n",
      "<Slide, name = 1189>, width=300, height=375, channels=3, levels=1, RGB=True, dtype=uint8> <valis.slide_io.VipsSlideReader object at 0x7f11bc3a7c20> True (375, 300, 3)\n",
      "<Slide, name = 1190>, width=300, height=375, channels=3, levels=1, RGB=True, dtype=uint8> <valis.slide_io.VipsSlideReader object at 0x7f11bc3a7c80> True (375, 300, 3)\n",
      "<Slide, name = 1191>, width=300, height=375, channels=3, levels=1, RGB=True, dtype=uint8> <valis.slide_io.VipsSlideReader object at 0x7f11bc3a7d10> True (375, 300, 3)\n",
      "<Slide, name = 1192>, width=300, height=375, channels=3, levels=1, RGB=True, dtype=uint8> <valis.slide_io.VipsSlideReader object at 0x7f11bc3a7d70> True (375, 300, 3)\n",
      "<Slide, name = 1193>, width=300, height=375, channels=3, levels=1, RGB=True, dtype=uint8> <valis.slide_io.VipsSlideReader object at 0x7f11bc3a7dd0> True (375, 300, 3)\n",
      "<Slide, name = 1194>, width=300, height=375, channels=3, levels=1, RGB=True, dtype=uint8> <valis.slide_io.VipsSlideReader object at 0x7f11bc3a7e30> True (375, 300, 3)\n"
     ]
    },
    {
     "name": "stderr",
     "output_type": "stream",
     "text": [
      "Converting images:  44%|████▍     | 1168/2627 [00:12<00:15, 91.19image/s]"
     ]
    },
    {
     "name": "stdout",
     "output_type": "stream",
     "text": [
      "<Slide, name = 1195>, width=300, height=375, channels=3, levels=1, RGB=True, dtype=uint8> <valis.slide_io.VipsSlideReader object at 0x7f11bc3a0050> True (375, 300, 3)\n",
      "<Slide, name = 1196>, width=300, height=375, channels=3, levels=1, RGB=True, dtype=uint8> <valis.slide_io.VipsSlideReader object at 0x7f11bc3a7e60> True (375, 300, 3)\n",
      "<Slide, name = 1197>, width=300, height=375, channels=3, levels=1, RGB=True, dtype=uint8> <valis.slide_io.VipsSlideReader object at 0x7f11bc3a7f80> True (375, 300, 3)\n",
      "<Slide, name = 1198>, width=300, height=375, channels=3, levels=1, RGB=True, dtype=uint8> <valis.slide_io.VipsSlideReader object at 0x7f11bc3a7ef0> True (375, 300, 3)\n",
      "<Slide, name = 1199>, width=300, height=375, channels=3, levels=1, RGB=True, dtype=uint8> <valis.slide_io.VipsSlideReader object at 0x7f11bc3a7da0> True (375, 300, 3)\n",
      "<Slide, name = 1200>, width=300, height=375, channels=3, levels=1, RGB=True, dtype=uint8> <valis.slide_io.VipsSlideReader object at 0x7f11bc3a7e00> True (375, 300, 3)\n",
      "<Slide, name = 1201>, width=300, height=375, channels=3, levels=1, RGB=True, dtype=uint8> <valis.slide_io.VipsSlideReader object at 0x7f11bc3a7c50> True (375, 300, 3)\n",
      "<Slide, name = 1202>, width=300, height=375, channels=3, levels=1, RGB=True, dtype=uint8> <valis.slide_io.VipsSlideReader object at 0x7f11bc3a7ec0> True (375, 300, 3)\n",
      "<Slide, name = 1203>, width=300, height=375, channels=3, levels=1, RGB=True, dtype=uint8> <valis.slide_io.VipsSlideReader object at 0x7f11bc3a7f20> True (375, 300, 3)\n",
      "<Slide, name = 1204>, width=300, height=375, channels=3, levels=1, RGB=True, dtype=uint8> <valis.slide_io.VipsSlideReader object at 0x7f11bc3a7f50> True (375, 300, 3)\n"
     ]
    },
    {
     "name": "stderr",
     "output_type": "stream",
     "text": [
      "Converting images:  45%|████▍     | 1178/2627 [00:12<00:16, 90.32image/s]"
     ]
    },
    {
     "name": "stdout",
     "output_type": "stream",
     "text": [
      "<Slide, name = 1205>, width=300, height=375, channels=3, levels=1, RGB=True, dtype=uint8> <valis.slide_io.VipsSlideReader object at 0x7f11bcb702f0> True (375, 300, 3)\n",
      "<Slide, name = 1206>, width=300, height=375, channels=3, levels=1, RGB=True, dtype=uint8> <valis.slide_io.VipsSlideReader object at 0x7f11bc3a0230> True (375, 300, 3)\n",
      "<Slide, name = 1207>, width=300, height=375, channels=3, levels=1, RGB=True, dtype=uint8> <valis.slide_io.VipsSlideReader object at 0x7f11bc3a02c0> True (375, 300, 3)\n",
      "<Slide, name = 1208>, width=300, height=375, channels=3, levels=1, RGB=True, dtype=uint8> <valis.slide_io.VipsSlideReader object at 0x7f11bc3a8290> True (375, 300, 3)\n",
      "<Slide, name = 1209>, width=300, height=375, channels=3, levels=1, RGB=True, dtype=uint8> <valis.slide_io.VipsSlideReader object at 0x7f11bc3a8350> True (375, 300, 3)\n",
      "<Slide, name = 1210>, width=300, height=375, channels=3, levels=1, RGB=True, dtype=uint8> <valis.slide_io.VipsSlideReader object at 0x7f11bc3a0080> True (375, 300, 3)\n",
      "<Slide, name = 1211>, width=300, height=375, channels=3, levels=1, RGB=True, dtype=uint8> <valis.slide_io.VipsSlideReader object at 0x7f11bc3a05f0> True (375, 300, 3)\n",
      "<Slide, name = 1212>, width=300, height=375, channels=3, levels=1, RGB=True, dtype=uint8> <valis.slide_io.VipsSlideReader object at 0x7f11bc3a8590> True (375, 300, 3)\n",
      "<Slide, name = 1213>, width=300, height=375, channels=3, levels=1, RGB=True, dtype=uint8> <valis.slide_io.VipsSlideReader object at 0x7f11bcb685c0> True (375, 300, 3)\n",
      "<Slide, name = 1214>, width=300, height=375, channels=3, levels=1, RGB=True, dtype=uint8> <valis.slide_io.VipsSlideReader object at 0x7f11bc3a8440> True (375, 300, 3)\n"
     ]
    },
    {
     "name": "stderr",
     "output_type": "stream",
     "text": [
      "Converting images:  45%|████▌     | 1188/2627 [00:13<00:15, 90.17image/s]"
     ]
    },
    {
     "name": "stdout",
     "output_type": "stream",
     "text": [
      "<Slide, name = 1215>, width=300, height=375, channels=3, levels=1, RGB=True, dtype=uint8> <valis.slide_io.VipsSlideReader object at 0x7f11bc3a81d0> True (375, 300, 3)\n",
      "<Slide, name = 1216>, width=300, height=375, channels=3, levels=1, RGB=True, dtype=uint8> <valis.slide_io.VipsSlideReader object at 0x7f11bcb70140> True (375, 300, 3)\n",
      "<Slide, name = 1217>, width=300, height=375, channels=3, levels=1, RGB=True, dtype=uint8> <valis.slide_io.VipsSlideReader object at 0x7f11bc3a86b0> True (375, 300, 3)\n",
      "<Slide, name = 1218>, width=300, height=375, channels=3, levels=1, RGB=True, dtype=uint8> <valis.slide_io.VipsSlideReader object at 0x7f11bcb70770> True (375, 300, 3)\n",
      "<Slide, name = 1219>, width=300, height=375, channels=3, levels=1, RGB=True, dtype=uint8> <valis.slide_io.VipsSlideReader object at 0x7f11bc3a0800> True (375, 300, 3)\n",
      "<Slide, name = 1220>, width=300, height=375, channels=3, levels=1, RGB=True, dtype=uint8> <valis.slide_io.VipsSlideReader object at 0x7f11bcb50830> True (375, 300, 3)\n",
      "<Slide, name = 1221>, width=300, height=375, channels=3, levels=1, RGB=True, dtype=uint8> <valis.slide_io.VipsSlideReader object at 0x7f11bc3a8710> True (375, 300, 3)\n",
      "<Slide, name = 1222>, width=300, height=375, channels=3, levels=1, RGB=True, dtype=uint8> <valis.slide_io.VipsSlideReader object at 0x7f11bc3a08f0> True (375, 300, 3)\n",
      "<Slide, name = 1223>, width=300, height=375, channels=3, levels=1, RGB=True, dtype=uint8> <valis.slide_io.VipsSlideReader object at 0x7f11bc3a8920> True (375, 300, 3)\n",
      "<Slide, name = 1224>, width=300, height=375, channels=3, levels=1, RGB=True, dtype=uint8> <valis.slide_io.VipsSlideReader object at 0x7f11bcb709b0> True (375, 300, 3)\n"
     ]
    },
    {
     "name": "stderr",
     "output_type": "stream",
     "text": [
      "Converting images:  46%|████▌     | 1198/2627 [00:13<00:15, 90.29image/s]"
     ]
    },
    {
     "name": "stdout",
     "output_type": "stream",
     "text": [
      "<Slide, name = 1225>, width=300, height=375, channels=3, levels=1, RGB=True, dtype=uint8> <valis.slide_io.VipsSlideReader object at 0x7f11bc3a8aa0> True (375, 300, 3)\n",
      "<Slide, name = 1226>, width=300, height=375, channels=3, levels=1, RGB=True, dtype=uint8> <valis.slide_io.VipsSlideReader object at 0x7f11bcb68a70> True (375, 300, 3)\n",
      "<Slide, name = 1227>, width=300, height=375, channels=3, levels=1, RGB=True, dtype=uint8> <valis.slide_io.VipsSlideReader object at 0x7f11bc3a8b60> True (375, 300, 3)\n",
      "<Slide, name = 1228>, width=300, height=375, channels=3, levels=1, RGB=True, dtype=uint8> <valis.slide_io.VipsSlideReader object at 0x7f11bc3a0b30> True (375, 300, 3)\n",
      "<Slide, name = 1229>, width=300, height=375, channels=3, levels=1, RGB=True, dtype=uint8> <valis.slide_io.VipsSlideReader object at 0x7f11bc3a8c20> True (375, 300, 3)\n",
      "<Slide, name = 1230>, width=300, height=375, channels=3, levels=1, RGB=True, dtype=uint8> <valis.slide_io.VipsSlideReader object at 0x7f11bc3a0bf0> True (375, 300, 3)\n",
      "<Slide, name = 1231>, width=300, height=375, channels=3, levels=1, RGB=True, dtype=uint8> <valis.slide_io.VipsSlideReader object at 0x7f11bcb50ad0> True (375, 300, 3)\n",
      "<Slide, name = 1232>, width=300, height=375, channels=3, levels=1, RGB=True, dtype=uint8> <valis.slide_io.VipsSlideReader object at 0x7f11bc3a0cb0> True (375, 300, 3)\n",
      "<Slide, name = 1233>, width=300, height=375, channels=3, levels=1, RGB=True, dtype=uint8> <valis.slide_io.VipsSlideReader object at 0x7f11bc3a8b90> True (375, 300, 3)\n",
      "<Slide, name = 1234>, width=300, height=375, channels=3, levels=1, RGB=True, dtype=uint8> <valis.slide_io.VipsSlideReader object at 0x7f11bc3a0d70> True (375, 300, 3)\n"
     ]
    },
    {
     "name": "stderr",
     "output_type": "stream",
     "text": [
      "Converting images:  46%|████▌     | 1208/2627 [00:13<00:15, 90.61image/s]"
     ]
    },
    {
     "name": "stdout",
     "output_type": "stream",
     "text": [
      "<Slide, name = 1235>, width=300, height=375, channels=3, levels=1, RGB=True, dtype=uint8> <valis.slide_io.VipsSlideReader object at 0x7f11bc3a8da0> True (375, 300, 3)\n",
      "<Slide, name = 1236>, width=300, height=375, channels=3, levels=1, RGB=True, dtype=uint8> <valis.slide_io.VipsSlideReader object at 0x7f11bc3a0e60> True (375, 300, 3)\n",
      "<Slide, name = 1237>, width=300, height=375, channels=3, levels=1, RGB=True, dtype=uint8> <valis.slide_io.VipsSlideReader object at 0x7f11bc3a8f50> True (375, 300, 3)\n",
      "<Slide, name = 1238>, width=300, height=375, channels=3, levels=1, RGB=True, dtype=uint8> <valis.slide_io.VipsSlideReader object at 0x7f11bc3a0f20> True (375, 300, 3)\n",
      "<Slide, name = 1239>, width=300, height=375, channels=3, levels=1, RGB=True, dtype=uint8> <valis.slide_io.VipsSlideReader object at 0x7f11bc3a9010> True (375, 300, 3)\n",
      "<Slide, name = 1240>, width=300, height=375, channels=3, levels=1, RGB=True, dtype=uint8> <valis.slide_io.VipsSlideReader object at 0x7f11bcb68ef0> True (375, 300, 3)\n",
      "<Slide, name = 1241>, width=300, height=375, channels=3, levels=1, RGB=True, dtype=uint8> <valis.slide_io.VipsSlideReader object at 0x7f11bc3a8ec0> True (375, 300, 3)\n",
      "<Slide, name = 1242>, width=300, height=375, channels=3, levels=1, RGB=True, dtype=uint8> <valis.slide_io.VipsSlideReader object at 0x7f11bc3a1070> True (375, 300, 3)\n",
      "<Slide, name = 1243>, width=300, height=375, channels=3, levels=1, RGB=True, dtype=uint8> <valis.slide_io.VipsSlideReader object at 0x7f11bc3a1040> True (375, 300, 3)\n",
      "<Slide, name = 1244>, width=300, height=375, channels=3, levels=1, RGB=True, dtype=uint8> <valis.slide_io.VipsSlideReader object at 0x7f11bc3a11c0> True (375, 300, 3)\n"
     ]
    },
    {
     "name": "stderr",
     "output_type": "stream",
     "text": [
      "Converting images:  46%|████▋     | 1218/2627 [00:13<00:15, 90.35image/s]"
     ]
    },
    {
     "name": "stdout",
     "output_type": "stream",
     "text": [
      "<Slide, name = 1245>, width=300, height=375, channels=3, levels=1, RGB=True, dtype=uint8> <valis.slide_io.VipsSlideReader object at 0x7f11bcb511f0> True (375, 300, 3)\n",
      "<Slide, name = 1246>, width=300, height=375, channels=3, levels=1, RGB=True, dtype=uint8> <valis.slide_io.VipsSlideReader object at 0x7f11bc3a9100> True (375, 300, 3)\n",
      "<Slide, name = 1247>, width=300, height=375, channels=3, levels=1, RGB=True, dtype=uint8> <valis.slide_io.VipsSlideReader object at 0x7f11bc3a9250> True (375, 300, 3)\n",
      "<Slide, name = 1248>, width=300, height=375, channels=3, levels=1, RGB=True, dtype=uint8> <valis.slide_io.VipsSlideReader object at 0x7f11bc3a8a10> True (375, 300, 3)\n",
      "<Slide, name = 1249>, width=300, height=375, channels=3, levels=1, RGB=True, dtype=uint8> <valis.slide_io.VipsSlideReader object at 0x7f11bcb71370> True (375, 300, 3)\n",
      "<Slide, name = 1250>, width=300, height=375, channels=3, levels=1, RGB=True, dtype=uint8> <valis.slide_io.VipsSlideReader object at 0x7f11bc3a9460> True (375, 300, 3)\n",
      "<Slide, name = 1251>, width=300, height=375, channels=3, levels=1, RGB=True, dtype=uint8> <valis.slide_io.VipsSlideReader object at 0x7f11bc3a1340> True (375, 300, 3)\n",
      "<Slide, name = 1252>, width=300, height=375, channels=3, levels=1, RGB=True, dtype=uint8> <valis.slide_io.VipsSlideReader object at 0x7f11bc3a13a0> True (375, 300, 3)\n",
      "<Slide, name = 1253>, width=300, height=375, channels=3, levels=1, RGB=True, dtype=uint8> <valis.slide_io.VipsSlideReader object at 0x7f11bc3a1580> True (375, 300, 3)\n",
      "<Slide, name = 1254>, width=300, height=375, channels=3, levels=1, RGB=True, dtype=uint8> <valis.slide_io.VipsSlideReader object at 0x7f11bc3a9310> True (375, 300, 3)\n"
     ]
    },
    {
     "name": "stderr",
     "output_type": "stream",
     "text": [
      "Converting images:  47%|████▋     | 1228/2627 [00:13<00:15, 90.18image/s]"
     ]
    },
    {
     "name": "stdout",
     "output_type": "stream",
     "text": [
      "<Slide, name = 1255>, width=300, height=375, channels=3, levels=1, RGB=True, dtype=uint8> <valis.slide_io.VipsSlideReader object at 0x7f11bc3a9610> True (375, 300, 3)\n",
      "<Slide, name = 1256>, width=300, height=375, channels=3, levels=1, RGB=True, dtype=uint8> <valis.slide_io.VipsSlideReader object at 0x7f11bc3a17c0> True (375, 300, 3)\n",
      "<Slide, name = 1257>, width=300, height=375, channels=3, levels=1, RGB=True, dtype=uint8> <valis.slide_io.VipsSlideReader object at 0x7f11bcb71520> True (375, 300, 3)\n",
      "<Slide, name = 1258>, width=300, height=375, channels=3, levels=1, RGB=True, dtype=uint8> <valis.slide_io.VipsSlideReader object at 0x7f11bc3a95e0> True (375, 300, 3)\n",
      "<Slide, name = 1259>, width=300, height=375, channels=3, levels=1, RGB=True, dtype=uint8> <valis.slide_io.VipsSlideReader object at 0x7f11bcb717f0> True (375, 300, 3)\n",
      "<Slide, name = 1260>, width=300, height=375, channels=3, levels=1, RGB=True, dtype=uint8> <valis.slide_io.VipsSlideReader object at 0x7f11bc3a96a0> True (375, 300, 3)\n",
      "<Slide, name = 1261>, width=300, height=375, channels=3, levels=1, RGB=True, dtype=uint8> <valis.slide_io.VipsSlideReader object at 0x7f11bc3a1880> True (375, 300, 3)\n",
      "<Slide, name = 1262>, width=300, height=375, channels=3, levels=1, RGB=True, dtype=uint8> <valis.slide_io.VipsSlideReader object at 0x7f11bc3a9970> True (375, 300, 3)\n",
      "<Slide, name = 1263>, width=300, height=375, channels=3, levels=1, RGB=True, dtype=uint8> <valis.slide_io.VipsSlideReader object at 0x7f11bc3a1940> True (375, 300, 3)\n",
      "<Slide, name = 1264>, width=300, height=375, channels=3, levels=1, RGB=True, dtype=uint8> <valis.slide_io.VipsSlideReader object at 0x7f11bcb718e0> True (375, 300, 3)\n"
     ]
    },
    {
     "name": "stderr",
     "output_type": "stream",
     "text": [
      "Converting images:  47%|████▋     | 1238/2627 [00:13<00:15, 91.28image/s]"
     ]
    },
    {
     "name": "stdout",
     "output_type": "stream",
     "text": [
      "<Slide, name = 1265>, width=300, height=375, channels=3, levels=1, RGB=True, dtype=uint8> <valis.slide_io.VipsSlideReader object at 0x7f11bc3a9b20> True (375, 300, 3)\n",
      "<Slide, name = 1266>, width=300, height=375, channels=3, levels=1, RGB=True, dtype=uint8> <valis.slide_io.VipsSlideReader object at 0x7f11bc3a1a00> True (375, 300, 3)\n",
      "<Slide, name = 1267>, width=300, height=375, channels=3, levels=1, RGB=True, dtype=uint8> <valis.slide_io.VipsSlideReader object at 0x7f11bc3a9c70> True (375, 300, 3)\n",
      "<Slide, name = 1268>, width=300, height=375, channels=3, levels=1, RGB=True, dtype=uint8> <valis.slide_io.VipsSlideReader object at 0x7f11bc3a9790> True (375, 300, 3)\n",
      "<Slide, name = 1269>, width=300, height=375, channels=3, levels=1, RGB=True, dtype=uint8> <valis.slide_io.VipsSlideReader object at 0x7f11bcb51a60> True (375, 300, 3)\n",
      "<Slide, name = 1270>, width=300, height=375, channels=3, levels=1, RGB=True, dtype=uint8> <valis.slide_io.VipsSlideReader object at 0x7f11bc3a1af0> True (375, 300, 3)\n",
      "<Slide, name = 1271>, width=300, height=375, channels=3, levels=1, RGB=True, dtype=uint8> <valis.slide_io.VipsSlideReader object at 0x7f11bcb71be0> True (375, 300, 3)\n",
      "<Slide, name = 1272>, width=300, height=375, channels=3, levels=1, RGB=True, dtype=uint8> <valis.slide_io.VipsSlideReader object at 0x7f11bc3a1c40> True (375, 300, 3)\n",
      "<Slide, name = 1273>, width=300, height=375, channels=3, levels=1, RGB=True, dtype=uint8> <valis.slide_io.VipsSlideReader object at 0x7f11bc3a9b50> True (375, 300, 3)\n",
      "<Slide, name = 1274>, width=300, height=375, channels=3, levels=1, RGB=True, dtype=uint8> <valis.slide_io.VipsSlideReader object at 0x7f11bc3a1d30> True (375, 300, 3)\n"
     ]
    },
    {
     "name": "stderr",
     "output_type": "stream",
     "text": [
      "Converting images:  48%|████▊     | 1248/2627 [00:13<00:15, 91.13image/s]"
     ]
    },
    {
     "name": "stdout",
     "output_type": "stream",
     "text": [
      "<Slide, name = 1275>, width=300, height=375, channels=3, levels=1, RGB=True, dtype=uint8> <valis.slide_io.VipsSlideReader object at 0x7f11bc3a96d0> True (375, 300, 3)\n",
      "<Slide, name = 1276>, width=300, height=375, channels=3, levels=1, RGB=True, dtype=uint8> <valis.slide_io.VipsSlideReader object at 0x7f11bcb71e20> True (375, 300, 3)\n",
      "<Slide, name = 1277>, width=300, height=375, channels=3, levels=1, RGB=True, dtype=uint8> <valis.slide_io.VipsSlideReader object at 0x7f11bc3a9f10> True (375, 300, 3)\n",
      "<Slide, name = 1278>, width=300, height=375, channels=3, levels=1, RGB=True, dtype=uint8> <valis.slide_io.VipsSlideReader object at 0x7f11bc3a9ee0> True (375, 300, 3)\n",
      "<Slide, name = 1279>, width=300, height=375, channels=3, levels=1, RGB=True, dtype=uint8> <valis.slide_io.VipsSlideReader object at 0x7f11bcb71eb0> True (375, 300, 3)\n",
      "<Slide, name = 1280>, width=300, height=375, channels=3, levels=1, RGB=True, dtype=uint8> <valis.slide_io.VipsSlideReader object at 0x7f11bcb71fd0> True (375, 300, 3)\n",
      "<Slide, name = 1281>, width=300, height=375, channels=3, levels=1, RGB=True, dtype=uint8> <valis.slide_io.VipsSlideReader object at 0x7f11bc3a2000> True (375, 300, 3)\n",
      "<Slide, name = 1282>, width=300, height=375, channels=3, levels=1, RGB=True, dtype=uint8> <valis.slide_io.VipsSlideReader object at 0x7f11bc3a20c0> True (375, 300, 3)\n",
      "<Slide, name = 1283>, width=300, height=375, channels=3, levels=1, RGB=True, dtype=uint8> <valis.slide_io.VipsSlideReader object at 0x7f11bc3a20f0> True (375, 300, 3)\n",
      "<Slide, name = 1284>, width=300, height=375, channels=3, levels=1, RGB=True, dtype=uint8> <valis.slide_io.VipsSlideReader object at 0x7f11bc3aa030> True (375, 300, 3)\n"
     ]
    },
    {
     "name": "stderr",
     "output_type": "stream",
     "text": [
      "Converting images:  48%|████▊     | 1258/2627 [00:13<00:15, 91.12image/s]"
     ]
    },
    {
     "name": "stdout",
     "output_type": "stream",
     "text": [
      "<Slide, name = 1285>, width=300, height=375, channels=3, levels=1, RGB=True, dtype=uint8> <valis.slide_io.VipsSlideReader object at 0x7f11bcb721b0> True (375, 300, 3)\n",
      "<Slide, name = 1286>, width=300, height=375, channels=3, levels=1, RGB=True, dtype=uint8> <valis.slide_io.VipsSlideReader object at 0x7f11bcb71f70> True (375, 300, 3)\n",
      "<Slide, name = 1287>, width=300, height=375, channels=3, levels=1, RGB=True, dtype=uint8> <valis.slide_io.VipsSlideReader object at 0x7f11bc3a2270> True (375, 300, 3)\n",
      "<Slide, name = 1288>, width=300, height=375, channels=3, levels=1, RGB=True, dtype=uint8> <valis.slide_io.VipsSlideReader object at 0x7f11bc3a9cd0> True (375, 300, 3)\n",
      "<Slide, name = 1289>, width=300, height=375, channels=3, levels=1, RGB=True, dtype=uint8> <valis.slide_io.VipsSlideReader object at 0x7f11bcb52330> True (375, 300, 3)\n",
      "<Slide, name = 1290>, width=300, height=375, channels=3, levels=1, RGB=True, dtype=uint8> <valis.slide_io.VipsSlideReader object at 0x7f11bc3aa360> True (375, 300, 3)\n",
      "<Slide, name = 1291>, width=300, height=375, channels=3, levels=1, RGB=True, dtype=uint8> <valis.slide_io.VipsSlideReader object at 0x7f11bcb323f0> True (375, 300, 3)\n",
      "<Slide, name = 1292>, width=300, height=375, channels=3, levels=1, RGB=True, dtype=uint8> <valis.slide_io.VipsSlideReader object at 0x7f11bc3aa4e0> True (375, 300, 3)\n",
      "<Slide, name = 1293>, width=300, height=375, channels=3, levels=1, RGB=True, dtype=uint8> <valis.slide_io.VipsSlideReader object at 0x7f11bcb6a4b0> True (375, 300, 3)\n",
      "<Slide, name = 1294>, width=300, height=375, channels=3, levels=1, RGB=True, dtype=uint8> <valis.slide_io.VipsSlideReader object at 0x7f11bc3aa5a0> True (375, 300, 3)\n"
     ]
    },
    {
     "name": "stderr",
     "output_type": "stream",
     "text": [
      "Converting images:  48%|████▊     | 1268/2627 [00:13<00:14, 91.37image/s]"
     ]
    },
    {
     "name": "stdout",
     "output_type": "stream",
     "text": [
      "<Slide, name = 1295>, width=300, height=375, channels=3, levels=1, RGB=True, dtype=uint8> <valis.slide_io.VipsSlideReader object at 0x7f11bcb32570> True (375, 300, 3)\n",
      "<Slide, name = 1296>, width=300, height=375, channels=3, levels=1, RGB=True, dtype=uint8> <valis.slide_io.VipsSlideReader object at 0x7f11bc3aa660> True (375, 300, 3)\n",
      "<Slide, name = 1297>, width=300, height=375, channels=3, levels=1, RGB=True, dtype=uint8> <valis.slide_io.VipsSlideReader object at 0x7f11bcb6a630> True (375, 300, 3)\n",
      "<Slide, name = 1298>, width=300, height=375, channels=3, levels=1, RGB=True, dtype=uint8> <valis.slide_io.VipsSlideReader object at 0x7f11bc3aa720> True (375, 300, 3)\n",
      "<Slide, name = 1299>, width=300, height=375, channels=3, levels=1, RGB=True, dtype=uint8> <valis.slide_io.VipsSlideReader object at 0x7f11bcb6a6f0> True (375, 300, 3)\n",
      "<Slide, name = 1300>, width=300, height=375, channels=3, levels=1, RGB=True, dtype=uint8> <valis.slide_io.VipsSlideReader object at 0x7f11bc3aa7e0> True (375, 300, 3)\n",
      "<Slide, name = 1301>, width=300, height=375, channels=3, levels=1, RGB=True, dtype=uint8> <valis.slide_io.VipsSlideReader object at 0x7f11bcb6a7b0> True (375, 300, 3)\n",
      "<Slide, name = 1302>, width=300, height=375, channels=3, levels=1, RGB=True, dtype=uint8> <valis.slide_io.VipsSlideReader object at 0x7f11bc3aa8a0> True (375, 300, 3)\n",
      "<Slide, name = 1303>, width=300, height=375, channels=3, levels=1, RGB=True, dtype=uint8> <valis.slide_io.VipsSlideReader object at 0x7f11bcb72870> True (375, 300, 3)\n",
      "<Slide, name = 1304>, width=300, height=375, channels=3, levels=1, RGB=True, dtype=uint8> <valis.slide_io.VipsSlideReader object at 0x7f11bc3aa960> True (375, 300, 3)\n"
     ]
    },
    {
     "name": "stderr",
     "output_type": "stream",
     "text": [
      "Converting images:  49%|████▊     | 1278/2627 [00:14<00:14, 92.00image/s]"
     ]
    },
    {
     "name": "stdout",
     "output_type": "stream",
     "text": [
      "<Slide, name = 1305>, width=300, height=375, channels=3, levels=1, RGB=True, dtype=uint8> <valis.slide_io.VipsSlideReader object at 0x7f11bcb6a930> True (375, 300, 3)\n",
      "<Slide, name = 1306>, width=300, height=375, channels=3, levels=1, RGB=True, dtype=uint8> <valis.slide_io.VipsSlideReader object at 0x7f11bc3aaa20> True (375, 300, 3)\n",
      "<Slide, name = 1307>, width=300, height=375, channels=3, levels=1, RGB=True, dtype=uint8> <valis.slide_io.VipsSlideReader object at 0x7f11bc3aa5d0> True (375, 300, 3)\n",
      "<Slide, name = 1308>, width=300, height=375, channels=3, levels=1, RGB=True, dtype=uint8> <valis.slide_io.VipsSlideReader object at 0x7f11bc3a2ae0> True (375, 300, 3)\n",
      "<Slide, name = 1309>, width=300, height=375, channels=3, levels=1, RGB=True, dtype=uint8> <valis.slide_io.VipsSlideReader object at 0x7f11bc3aa990> True (375, 300, 3)\n",
      "<Slide, name = 1310>, width=300, height=375, channels=3, levels=1, RGB=True, dtype=uint8> <valis.slide_io.VipsSlideReader object at 0x7f11bc3aaa50> True (375, 300, 3)\n",
      "<Slide, name = 1311>, width=300, height=375, channels=3, levels=1, RGB=True, dtype=uint8> <valis.slide_io.VipsSlideReader object at 0x7f11bc3aab10> True (375, 300, 3)\n",
      "<Slide, name = 1312>, width=300, height=375, channels=3, levels=1, RGB=True, dtype=uint8> <valis.slide_io.VipsSlideReader object at 0x7f11bc3aa8d0> True (375, 300, 3)\n",
      "<Slide, name = 1313>, width=300, height=375, channels=3, levels=1, RGB=True, dtype=uint8> <valis.slide_io.VipsSlideReader object at 0x7f11bcb72ab0> True (375, 300, 3)\n",
      "<Slide, name = 1314>, width=300, height=375, channels=3, levels=1, RGB=True, dtype=uint8> <valis.slide_io.VipsSlideReader object at 0x7f11bc3a2b40> True (375, 300, 3)\n"
     ]
    },
    {
     "name": "stderr",
     "output_type": "stream",
     "text": [
      "Converting images:  49%|████▉     | 1288/2627 [00:14<00:14, 91.32image/s]"
     ]
    },
    {
     "name": "stdout",
     "output_type": "stream",
     "text": [
      "<Slide, name = 1315>, width=300, height=375, channels=3, levels=1, RGB=True, dtype=uint8> <valis.slide_io.VipsSlideReader object at 0x7f11bcb72cf0> True (375, 300, 3)\n",
      "<Slide, name = 1316>, width=300, height=375, channels=3, levels=1, RGB=True, dtype=uint8> <valis.slide_io.VipsSlideReader object at 0x7f11bc3aad80> True (375, 300, 3)\n",
      "<Slide, name = 1317>, width=300, height=375, channels=3, levels=1, RGB=True, dtype=uint8> <valis.slide_io.VipsSlideReader object at 0x7f11bc3a2db0> True (375, 300, 3)\n",
      "<Slide, name = 1318>, width=300, height=375, channels=3, levels=1, RGB=True, dtype=uint8> <valis.slide_io.VipsSlideReader object at 0x7f11bc3aade0> True (375, 300, 3)\n",
      "<Slide, name = 1319>, width=300, height=375, channels=3, levels=1, RGB=True, dtype=uint8> <valis.slide_io.VipsSlideReader object at 0x7f11bcb72e70> True (375, 300, 3)\n",
      "<Slide, name = 1320>, width=300, height=375, channels=3, levels=1, RGB=True, dtype=uint8> <valis.slide_io.VipsSlideReader object at 0x7f11bc3aaf60> True (375, 300, 3)\n",
      "<Slide, name = 1321>, width=300, height=375, channels=3, levels=1, RGB=True, dtype=uint8> <valis.slide_io.VipsSlideReader object at 0x7f11bc3aac90> True (375, 300, 3)\n",
      "<Slide, name = 1322>, width=300, height=375, channels=3, levels=1, RGB=True, dtype=uint8> <valis.slide_io.VipsSlideReader object at 0x7f11bc3aae10> True (375, 300, 3)\n",
      "<Slide, name = 1323>, width=300, height=375, channels=3, levels=1, RGB=True, dtype=uint8> <valis.slide_io.VipsSlideReader object at 0x7f11bc3a3140> True (375, 300, 3)\n",
      "<Slide, name = 1324>, width=300, height=375, channels=3, levels=1, RGB=True, dtype=uint8> <valis.slide_io.VipsSlideReader object at 0x7f11bcb730e0> True (375, 300, 3)\n"
     ]
    },
    {
     "name": "stderr",
     "output_type": "stream",
     "text": [
      "Converting images:  49%|████▉     | 1298/2627 [00:14<00:14, 90.75image/s]"
     ]
    },
    {
     "name": "stdout",
     "output_type": "stream",
     "text": [
      "<Slide, name = 1325>, width=300, height=375, channels=3, levels=1, RGB=True, dtype=uint8> <valis.slide_io.VipsSlideReader object at 0x7f11bcb6b110> True (375, 300, 3)\n",
      "<Slide, name = 1326>, width=300, height=375, channels=3, levels=1, RGB=True, dtype=uint8> <valis.slide_io.VipsSlideReader object at 0x7f11bc3a3170> True (375, 300, 3)\n",
      "<Slide, name = 1327>, width=300, height=375, channels=3, levels=1, RGB=True, dtype=uint8> <valis.slide_io.VipsSlideReader object at 0x7f11bc3a31a0> True (375, 300, 3)\n",
      "<Slide, name = 1328>, width=300, height=375, channels=3, levels=1, RGB=True, dtype=uint8> <valis.slide_io.VipsSlideReader object at 0x7f11bcd1b200> True (375, 300, 3)\n",
      "<Slide, name = 1329>, width=300, height=375, channels=3, levels=1, RGB=True, dtype=uint8> <valis.slide_io.VipsSlideReader object at 0x7f11bc3a3260> True (375, 300, 3)\n",
      "<Slide, name = 1330>, width=300, height=375, channels=3, levels=1, RGB=True, dtype=uint8> <valis.slide_io.VipsSlideReader object at 0x7f11bc3a32c0> True (375, 300, 3)\n",
      "<Slide, name = 1331>, width=300, height=375, channels=3, levels=1, RGB=True, dtype=uint8> <valis.slide_io.VipsSlideReader object at 0x7f11bc3a3320> True (375, 300, 3)\n",
      "<Slide, name = 1332>, width=300, height=375, channels=3, levels=1, RGB=True, dtype=uint8> <valis.slide_io.VipsSlideReader object at 0x7f11bc3a3380> True (375, 300, 3)\n",
      "<Slide, name = 1333>, width=300, height=375, channels=3, levels=1, RGB=True, dtype=uint8> <valis.slide_io.VipsSlideReader object at 0x7f11bcb6b3e0> True (375, 300, 3)\n",
      "<Slide, name = 1334>, width=300, height=375, channels=3, levels=1, RGB=True, dtype=uint8> <valis.slide_io.VipsSlideReader object at 0x7f11bcb53020> True (375, 300, 3)\n"
     ]
    },
    {
     "name": "stderr",
     "output_type": "stream",
     "text": [
      "Converting images:  50%|████▉     | 1308/2627 [00:14<00:14, 90.62image/s]"
     ]
    },
    {
     "name": "stdout",
     "output_type": "stream",
     "text": [
      "<Slide, name = 1335>, width=300, height=375, channels=3, levels=1, RGB=True, dtype=uint8> <valis.slide_io.VipsSlideReader object at 0x7f11bc3ab1d0> True (375, 300, 3)\n",
      "<Slide, name = 1336>, width=300, height=375, channels=3, levels=1, RGB=True, dtype=uint8> <valis.slide_io.VipsSlideReader object at 0x7f11bcb735f0> True (375, 300, 3)\n",
      "<Slide, name = 1337>, width=300, height=375, channels=3, levels=1, RGB=True, dtype=uint8> <valis.slide_io.VipsSlideReader object at 0x7f11bc3a3440> True (375, 300, 3)\n",
      "<Slide, name = 1338>, width=300, height=375, channels=3, levels=1, RGB=True, dtype=uint8> <valis.slide_io.VipsSlideReader object at 0x7f11bc3ab4d0> True (375, 300, 3)\n",
      "<Slide, name = 1339>, width=300, height=375, channels=3, levels=1, RGB=True, dtype=uint8> <valis.slide_io.VipsSlideReader object at 0x7f11bc3aaf90> True (375, 300, 3)\n",
      "<Slide, name = 1340>, width=300, height=375, channels=3, levels=1, RGB=True, dtype=uint8> <valis.slide_io.VipsSlideReader object at 0x7f11bc3ab500> True (375, 300, 3)\n",
      "<Slide, name = 1341>, width=300, height=375, channels=3, levels=1, RGB=True, dtype=uint8> <valis.slide_io.VipsSlideReader object at 0x7f11bcb73800> True (375, 300, 3)\n",
      "<Slide, name = 1342>, width=300, height=375, channels=3, levels=1, RGB=True, dtype=uint8> <valis.slide_io.VipsSlideReader object at 0x7f11bc3a37a0> True (375, 300, 3)\n",
      "<Slide, name = 1343>, width=300, height=375, channels=3, levels=1, RGB=True, dtype=uint8> <valis.slide_io.VipsSlideReader object at 0x7f11bc3ab620> True (375, 300, 3)\n",
      "<Slide, name = 1344>, width=300, height=375, channels=3, levels=1, RGB=True, dtype=uint8> <valis.slide_io.VipsSlideReader object at 0x7f11bc3ab7d0> True (375, 300, 3)\n"
     ]
    },
    {
     "name": "stderr",
     "output_type": "stream",
     "text": [
      "Converting images:  50%|█████     | 1318/2627 [00:14<00:14, 90.50image/s]"
     ]
    },
    {
     "name": "stdout",
     "output_type": "stream",
     "text": [
      "<Slide, name = 1345>, width=300, height=375, channels=3, levels=1, RGB=True, dtype=uint8> <valis.slide_io.VipsSlideReader object at 0x7f11bc3ab710> True (375, 300, 3)\n",
      "<Slide, name = 1346>, width=300, height=375, channels=3, levels=1, RGB=True, dtype=uint8> <valis.slide_io.VipsSlideReader object at 0x7f11bc3ab890> True (375, 300, 3)\n",
      "<Slide, name = 1347>, width=300, height=375, channels=3, levels=1, RGB=True, dtype=uint8> <valis.slide_io.VipsSlideReader object at 0x7f11bcb739b0> True (375, 300, 3)\n",
      "<Slide, name = 1348>, width=300, height=375, channels=3, levels=1, RGB=True, dtype=uint8> <valis.slide_io.VipsSlideReader object at 0x7f11bcb73740> True (375, 300, 3)\n",
      "<Slide, name = 1349>, width=300, height=375, channels=3, levels=1, RGB=True, dtype=uint8> <valis.slide_io.VipsSlideReader object at 0x7f11bc3a3a40> True (375, 300, 3)\n",
      "<Slide, name = 1350>, width=300, height=375, channels=3, levels=1, RGB=True, dtype=uint8> <valis.slide_io.VipsSlideReader object at 0x7f11bcb6ba70> True (375, 300, 3)\n",
      "<Slide, name = 1351>, width=300, height=375, channels=3, levels=1, RGB=True, dtype=uint8> <valis.slide_io.VipsSlideReader object at 0x7f11bc3ab980> True (375, 300, 3)\n",
      "<Slide, name = 1352>, width=300, height=375, channels=3, levels=1, RGB=True, dtype=uint8> <valis.slide_io.VipsSlideReader object at 0x7f11bc3a3b60> True (375, 300, 3)\n",
      "<Slide, name = 1353>, width=300, height=375, channels=3, levels=1, RGB=True, dtype=uint8> <valis.slide_io.VipsSlideReader object at 0x7f11bc3a38f0> True (375, 300, 3)\n",
      "<Slide, name = 1354>, width=300, height=375, channels=3, levels=1, RGB=True, dtype=uint8> <valis.slide_io.VipsSlideReader object at 0x7f11bcb63c20> True (375, 300, 3)\n"
     ]
    },
    {
     "name": "stderr",
     "output_type": "stream",
     "text": [
      "Converting images:  51%|█████     | 1328/2627 [00:14<00:14, 89.99image/s]"
     ]
    },
    {
     "name": "stdout",
     "output_type": "stream",
     "text": [
      "<Slide, name = 1355>, width=300, height=375, channels=3, levels=1, RGB=True, dtype=uint8> <valis.slide_io.VipsSlideReader object at 0x7f11bc3a3c80> True (375, 300, 3)\n",
      "<Slide, name = 1356>, width=300, height=375, channels=3, levels=1, RGB=True, dtype=uint8> <valis.slide_io.VipsSlideReader object at 0x7f11bcb73ce0> True (375, 300, 3)\n",
      "<Slide, name = 1357>, width=300, height=375, channels=3, levels=1, RGB=True, dtype=uint8> <valis.slide_io.VipsSlideReader object at 0x7f11bcb6bd40> True (375, 300, 3)\n",
      "<Slide, name = 1358>, width=300, height=375, channels=3, levels=1, RGB=True, dtype=uint8> <valis.slide_io.VipsSlideReader object at 0x7f11bc3a3da0> True (375, 300, 3)\n",
      "<Slide, name = 1359>, width=300, height=375, channels=3, levels=1, RGB=True, dtype=uint8> <valis.slide_io.VipsSlideReader object at 0x7f11bc3a3e00> True (375, 300, 3)\n",
      "<Slide, name = 1360>, width=300, height=375, channels=3, levels=1, RGB=True, dtype=uint8> <valis.slide_io.VipsSlideReader object at 0x7f11bc3abb30> True (375, 300, 3)\n",
      "<Slide, name = 1361>, width=300, height=375, channels=3, levels=1, RGB=True, dtype=uint8> <valis.slide_io.VipsSlideReader object at 0x7f11bc3abec0> True (375, 300, 3)\n",
      "<Slide, name = 1362>, width=300, height=375, channels=3, levels=1, RGB=True, dtype=uint8> <valis.slide_io.VipsSlideReader object at 0x7f11bc3ab860> True (375, 300, 3)\n",
      "<Slide, name = 1363>, width=300, height=375, channels=3, levels=1, RGB=True, dtype=uint8> <valis.slide_io.VipsSlideReader object at 0x7f11bc3abf20> True (375, 300, 3)\n",
      "<Slide, name = 1364>, width=300, height=375, channels=3, levels=1, RGB=True, dtype=uint8> <valis.slide_io.VipsSlideReader object at 0x7f11bcb98650> True (375, 300, 3)\n"
     ]
    },
    {
     "name": "stderr",
     "output_type": "stream",
     "text": [
      "Converting images:  51%|█████     | 1338/2627 [00:14<00:14, 90.19image/s]"
     ]
    },
    {
     "name": "stdout",
     "output_type": "stream",
     "text": [
      "<Slide, name = 1365>, width=300, height=375, channels=3, levels=1, RGB=True, dtype=uint8> <valis.slide_io.VipsSlideReader object at 0x7f11bcb99190> True (375, 300, 3)\n",
      "<Slide, name = 1366>, width=300, height=375, channels=3, levels=1, RGB=True, dtype=uint8> <valis.slide_io.VipsSlideReader object at 0x7f11bc3abad0> True (375, 300, 3)\n",
      "<Slide, name = 1367>, width=300, height=375, channels=3, levels=1, RGB=True, dtype=uint8> <valis.slide_io.VipsSlideReader object at 0x7f11bcb73fb0> True (375, 300, 3)\n",
      "<Slide, name = 1368>, width=300, height=375, channels=3, levels=1, RGB=True, dtype=uint8> <valis.slide_io.VipsSlideReader object at 0x7f11bcbd8ce0> True (375, 300, 3)\n",
      "<Slide, name = 1369>, width=300, height=375, channels=3, levels=1, RGB=True, dtype=uint8> <valis.slide_io.VipsSlideReader object at 0x7f11bcb68fe0> True (375, 300, 3)\n",
      "<Slide, name = 1370>, width=300, height=375, channels=3, levels=1, RGB=True, dtype=uint8> <valis.slide_io.VipsSlideReader object at 0x7f11bcb98e60> True (375, 300, 3)\n",
      "<Slide, name = 1371>, width=300, height=375, channels=3, levels=1, RGB=True, dtype=uint8> <valis.slide_io.VipsSlideReader object at 0x7f11bd43dc70> True (375, 300, 3)\n",
      "<Slide, name = 1372>, width=300, height=375, channels=3, levels=1, RGB=True, dtype=uint8> <valis.slide_io.VipsSlideReader object at 0x7f11bc3abbc0> True (375, 300, 3)\n",
      "<Slide, name = 1373>, width=300, height=375, channels=3, levels=1, RGB=True, dtype=uint8> <valis.slide_io.VipsSlideReader object at 0x7f11bcb71670> True (375, 300, 3)\n",
      "<Slide, name = 1374>, width=300, height=375, channels=3, levels=1, RGB=True, dtype=uint8> <valis.slide_io.VipsSlideReader object at 0x7f11bcbda840> True (375, 300, 3)\n"
     ]
    },
    {
     "name": "stderr",
     "output_type": "stream",
     "text": [
      "Converting images:  51%|█████▏    | 1348/2627 [00:14<00:14, 89.89image/s]"
     ]
    },
    {
     "name": "stdout",
     "output_type": "stream",
     "text": [
      "<Slide, name = 1375>, width=300, height=375, channels=3, levels=1, RGB=True, dtype=uint8> <valis.slide_io.VipsSlideReader object at 0x7f11bd43f380> True (375, 300, 3)\n",
      "<Slide, name = 1376>, width=300, height=375, channels=3, levels=1, RGB=True, dtype=uint8> <valis.slide_io.VipsSlideReader object at 0x7f11bd215ca0> True (375, 300, 3)\n",
      "<Slide, name = 1377>, width=300, height=375, channels=3, levels=1, RGB=True, dtype=uint8> <valis.slide_io.VipsSlideReader object at 0x7f11bd215cd0> True (375, 300, 3)\n",
      "<Slide, name = 1378>, width=300, height=375, channels=3, levels=1, RGB=True, dtype=uint8> <valis.slide_io.VipsSlideReader object at 0x7f11bd215820> True (375, 300, 3)\n",
      "<Slide, name = 1379>, width=300, height=375, channels=3, levels=1, RGB=True, dtype=uint8> <valis.slide_io.VipsSlideReader object at 0x7f11bd215640> True (375, 300, 3)\n",
      "<Slide, name = 1380>, width=300, height=375, channels=3, levels=1, RGB=True, dtype=uint8> <valis.slide_io.VipsSlideReader object at 0x7f11bd2153a0> True (375, 300, 3)\n",
      "<Slide, name = 1381>, width=300, height=375, channels=3, levels=1, RGB=True, dtype=uint8> <valis.slide_io.VipsSlideReader object at 0x7f11bcb45940> True (375, 300, 3)\n",
      "<Slide, name = 1382>, width=300, height=375, channels=3, levels=1, RGB=True, dtype=uint8> <valis.slide_io.VipsSlideReader object at 0x7f11bd2160f0> True (375, 300, 3)\n",
      "<Slide, name = 1383>, width=300, height=375, channels=3, levels=1, RGB=True, dtype=uint8> <valis.slide_io.VipsSlideReader object at 0x7f11bd215460> True (375, 300, 3)\n"
     ]
    },
    {
     "name": "stderr",
     "output_type": "stream",
     "text": [
      "Converting images:  52%|█████▏    | 1357/2627 [00:14<00:14, 89.34image/s]"
     ]
    },
    {
     "name": "stdout",
     "output_type": "stream",
     "text": [
      "<Slide, name = 1384>, width=300, height=375, channels=3, levels=1, RGB=True, dtype=uint8> <valis.slide_io.VipsSlideReader object at 0x7f11bd214cb0> True (375, 300, 3)\n",
      "<Slide, name = 1385>, width=300, height=375, channels=3, levels=1, RGB=True, dtype=uint8> <valis.slide_io.VipsSlideReader object at 0x7f11bd214b90> True (375, 300, 3)\n",
      "<Slide, name = 1386>, width=300, height=375, channels=3, levels=1, RGB=True, dtype=uint8> <valis.slide_io.VipsSlideReader object at 0x7f11bc3a4920> True (375, 300, 3)\n",
      "<Slide, name = 1387>, width=300, height=375, channels=3, levels=1, RGB=True, dtype=uint8> <valis.slide_io.VipsSlideReader object at 0x7f11bd215dc0> True (375, 300, 3)\n",
      "<Slide, name = 1388>, width=300, height=375, channels=3, levels=1, RGB=True, dtype=uint8> <valis.slide_io.VipsSlideReader object at 0x7f11bd2149b0> True (375, 300, 3)\n",
      "<Slide, name = 1389>, width=300, height=375, channels=3, levels=1, RGB=True, dtype=uint8> <valis.slide_io.VipsSlideReader object at 0x7f11bd2146b0> True (375, 300, 3)\n",
      "<Slide, name = 1390>, width=300, height=375, channels=3, levels=1, RGB=True, dtype=uint8> <valis.slide_io.VipsSlideReader object at 0x7f11bd216120> True (375, 300, 3)\n",
      "<Slide, name = 1391>, width=300, height=375, channels=3, levels=1, RGB=True, dtype=uint8> <valis.slide_io.VipsSlideReader object at 0x7f11bd214890> True (375, 300, 3)\n",
      "<Slide, name = 1392>, width=300, height=375, channels=3, levels=1, RGB=True, dtype=uint8> <valis.slide_io.VipsSlideReader object at 0x7f11bd2147d0> True (375, 300, 3)\n"
     ]
    },
    {
     "name": "stderr",
     "output_type": "stream",
     "text": [
      "Converting images:  52%|█████▏    | 1366/2627 [00:15<00:14, 89.48image/s]"
     ]
    },
    {
     "name": "stdout",
     "output_type": "stream",
     "text": [
      "<Slide, name = 1393>, width=300, height=375, channels=3, levels=1, RGB=True, dtype=uint8> <valis.slide_io.VipsSlideReader object at 0x7f11bcb6c2f0> True (375, 300, 3)\n",
      "<Slide, name = 1394>, width=300, height=375, channels=3, levels=1, RGB=True, dtype=uint8> <valis.slide_io.VipsSlideReader object at 0x7f11bd214560> True (375, 300, 3)\n",
      "<Slide, name = 1395>, width=300, height=375, channels=3, levels=1, RGB=True, dtype=uint8> <valis.slide_io.VipsSlideReader object at 0x7f11bd214110> True (375, 300, 3)\n",
      "<Slide, name = 1396>, width=300, height=375, channels=3, levels=1, RGB=True, dtype=uint8> <valis.slide_io.VipsSlideReader object at 0x7f11bd214470> True (375, 300, 3)\n",
      "<Slide, name = 1397>, width=300, height=375, channels=3, levels=1, RGB=True, dtype=uint8> <valis.slide_io.VipsSlideReader object at 0x7f11bd2144d0> True (375, 300, 3)\n",
      "<Slide, name = 1398>, width=300, height=375, channels=3, levels=1, RGB=True, dtype=uint8> <valis.slide_io.VipsSlideReader object at 0x7f11bd215df0> True (375, 300, 3)\n",
      "<Slide, name = 1399>, width=300, height=375, channels=3, levels=1, RGB=True, dtype=uint8> <valis.slide_io.VipsSlideReader object at 0x7f11bd214650> True (375, 300, 3)\n",
      "<Slide, name = 1400>, width=300, height=375, channels=3, levels=1, RGB=True, dtype=uint8> <valis.slide_io.VipsSlideReader object at 0x7f11bd215bb0> True (375, 300, 3)\n",
      "<Slide, name = 1401>, width=300, height=375, channels=3, levels=1, RGB=True, dtype=uint8> <valis.slide_io.VipsSlideReader object at 0x7f11bd2168d0> True (375, 300, 3)\n",
      "<Slide, name = 1402>, width=300, height=375, channels=3, levels=1, RGB=True, dtype=uint8> <valis.slide_io.VipsSlideReader object at 0x7f11bcb4da30> True (375, 300, 3)\n"
     ]
    },
    {
     "name": "stderr",
     "output_type": "stream",
     "text": [
      "Converting images:  52%|█████▏    | 1376/2627 [00:15<00:13, 89.78image/s]"
     ]
    },
    {
     "name": "stdout",
     "output_type": "stream",
     "text": [
      "<Slide, name = 1403>, width=300, height=375, channels=3, levels=1, RGB=True, dtype=uint8> <valis.slide_io.VipsSlideReader object at 0x7f11bd2157c0> True (375, 300, 3)\n",
      "<Slide, name = 1404>, width=300, height=375, channels=3, levels=1, RGB=True, dtype=uint8> <valis.slide_io.VipsSlideReader object at 0x7f11bd215a60> True (375, 300, 3)\n",
      "<Slide, name = 1405>, width=300, height=375, channels=3, levels=1, RGB=True, dtype=uint8> <valis.slide_io.VipsSlideReader object at 0x7f11bd215790> True (375, 300, 3)\n",
      "<Slide, name = 1406>, width=300, height=375, channels=3, levels=1, RGB=True, dtype=uint8> <valis.slide_io.VipsSlideReader object at 0x7f11bd2159d0> True (375, 300, 3)\n",
      "<Slide, name = 1407>, width=300, height=375, channels=3, levels=1, RGB=True, dtype=uint8> <valis.slide_io.VipsSlideReader object at 0x7f11bd215ac0> True (375, 300, 3)\n",
      "<Slide, name = 1408>, width=300, height=375, channels=3, levels=1, RGB=True, dtype=uint8> <valis.slide_io.VipsSlideReader object at 0x7f11bd215be0> True (375, 300, 3)\n",
      "<Slide, name = 1409>, width=300, height=375, channels=3, levels=1, RGB=True, dtype=uint8> <valis.slide_io.VipsSlideReader object at 0x7f11bd2155e0> True (375, 300, 3)\n",
      "<Slide, name = 1410>, width=300, height=375, channels=3, levels=1, RGB=True, dtype=uint8> <valis.slide_io.VipsSlideReader object at 0x7f11bd215580> True (375, 300, 3)\n",
      "<Slide, name = 1411>, width=300, height=375, channels=3, levels=1, RGB=True, dtype=uint8> <valis.slide_io.VipsSlideReader object at 0x7f11bd215520> True (375, 300, 3)\n",
      "<Slide, name = 1412>, width=300, height=375, channels=3, levels=1, RGB=True, dtype=uint8> <valis.slide_io.VipsSlideReader object at 0x7f11bd2154c0> True (375, 300, 3)\n"
     ]
    },
    {
     "name": "stderr",
     "output_type": "stream",
     "text": [
      "Converting images:  53%|█████▎    | 1386/2627 [00:15<00:13, 90.28image/s]"
     ]
    },
    {
     "name": "stdout",
     "output_type": "stream",
     "text": [
      "<Slide, name = 1413>, width=300, height=375, channels=3, levels=1, RGB=True, dtype=uint8> <valis.slide_io.VipsSlideReader object at 0x7f11bd215400> True (375, 300, 3)\n",
      "<Slide, name = 1414>, width=300, height=375, channels=3, levels=1, RGB=True, dtype=uint8> <valis.slide_io.VipsSlideReader object at 0x7f11bd215250> True (375, 300, 3)\n",
      "<Slide, name = 1415>, width=300, height=375, channels=3, levels=1, RGB=True, dtype=uint8> <valis.slide_io.VipsSlideReader object at 0x7f11bd2151f0> True (375, 300, 3)\n",
      "<Slide, name = 1416>, width=300, height=375, channels=3, levels=1, RGB=True, dtype=uint8> <valis.slide_io.VipsSlideReader object at 0x7f11bd215190> True (375, 300, 3)\n",
      "<Slide, name = 1417>, width=300, height=375, channels=3, levels=1, RGB=True, dtype=uint8> <valis.slide_io.VipsSlideReader object at 0x7f11bd215100> True (375, 300, 3)\n",
      "<Slide, name = 1418>, width=300, height=375, channels=3, levels=1, RGB=True, dtype=uint8> <valis.slide_io.VipsSlideReader object at 0x7f11bd215070> True (375, 300, 3)\n",
      "<Slide, name = 1419>, width=300, height=375, channels=3, levels=1, RGB=True, dtype=uint8> <valis.slide_io.VipsSlideReader object at 0x7f11bd215010> True (375, 300, 3)\n",
      "<Slide, name = 1420>, width=300, height=375, channels=3, levels=1, RGB=True, dtype=uint8> <valis.slide_io.VipsSlideReader object at 0x7f11bd214fb0> True (375, 300, 3)\n",
      "<Slide, name = 1421>, width=300, height=375, channels=3, levels=1, RGB=True, dtype=uint8> <valis.slide_io.VipsSlideReader object at 0x7f11bd214f50> True (375, 300, 3)\n",
      "<Slide, name = 1422>, width=300, height=375, channels=3, levels=1, RGB=True, dtype=uint8> <valis.slide_io.VipsSlideReader object at 0x7f11bd214ef0> True (375, 300, 3)\n"
     ]
    },
    {
     "name": "stderr",
     "output_type": "stream",
     "text": [
      "Converting images:  53%|█████▎    | 1396/2627 [00:15<00:13, 90.39image/s]"
     ]
    },
    {
     "name": "stdout",
     "output_type": "stream",
     "text": [
      "<Slide, name = 1423>, width=300, height=375, channels=3, levels=1, RGB=True, dtype=uint8> <valis.slide_io.VipsSlideReader object at 0x7f11bd214e90> True (375, 300, 3)\n",
      "<Slide, name = 1424>, width=300, height=375, channels=3, levels=1, RGB=True, dtype=uint8> <valis.slide_io.VipsSlideReader object at 0x7f11bd214e00> True (375, 300, 3)\n",
      "<Slide, name = 1425>, width=300, height=375, channels=3, levels=1, RGB=True, dtype=uint8> <valis.slide_io.VipsSlideReader object at 0x7f11bd214da0> True (375, 300, 3)\n",
      "<Slide, name = 1426>, width=300, height=375, channels=3, levels=1, RGB=True, dtype=uint8> <valis.slide_io.VipsSlideReader object at 0x7f11bd214d10> True (375, 300, 3)\n",
      "<Slide, name = 1427>, width=300, height=375, channels=3, levels=1, RGB=True, dtype=uint8> <valis.slide_io.VipsSlideReader object at 0x7f11bd214c80> True (375, 300, 3)\n",
      "<Slide, name = 1428>, width=300, height=375, channels=3, levels=1, RGB=True, dtype=uint8> <valis.slide_io.VipsSlideReader object at 0x7f11bd214bc0> True (375, 300, 3)\n",
      "<Slide, name = 1429>, width=300, height=375, channels=3, levels=1, RGB=True, dtype=uint8> <valis.slide_io.VipsSlideReader object at 0x7f11bd214b30> True (375, 300, 3)\n",
      "<Slide, name = 1430>, width=300, height=375, channels=3, levels=1, RGB=True, dtype=uint8> <valis.slide_io.VipsSlideReader object at 0x7f11bd214ad0> True (375, 300, 3)\n",
      "<Slide, name = 1431>, width=300, height=375, channels=3, levels=1, RGB=True, dtype=uint8> <valis.slide_io.VipsSlideReader object at 0x7f11bd214a70> True (375, 300, 3)\n",
      "<Slide, name = 1432>, width=300, height=375, channels=3, levels=1, RGB=True, dtype=uint8> <valis.slide_io.VipsSlideReader object at 0x7f11bd2149e0> True (375, 300, 3)\n"
     ]
    },
    {
     "name": "stderr",
     "output_type": "stream",
     "text": [
      "Converting images:  54%|█████▎    | 1406/2627 [00:15<00:13, 91.24image/s]"
     ]
    },
    {
     "name": "stdout",
     "output_type": "stream",
     "text": [
      "<Slide, name = 1433>, width=300, height=375, channels=3, levels=1, RGB=True, dtype=uint8> <valis.slide_io.VipsSlideReader object at 0x7f11bd214950> True (375, 300, 3)\n",
      "<Slide, name = 1434>, width=300, height=375, channels=3, levels=1, RGB=True, dtype=uint8> <valis.slide_io.VipsSlideReader object at 0x7f11bd214860> True (375, 300, 3)\n",
      "<Slide, name = 1435>, width=300, height=375, channels=3, levels=1, RGB=True, dtype=uint8> <valis.slide_io.VipsSlideReader object at 0x7f11bd214800> True (375, 300, 3)\n",
      "<Slide, name = 1436>, width=300, height=375, channels=3, levels=1, RGB=True, dtype=uint8> <valis.slide_io.VipsSlideReader object at 0x7f11bd214740> True (375, 300, 3)\n",
      "<Slide, name = 1437>, width=300, height=375, channels=3, levels=1, RGB=True, dtype=uint8> <valis.slide_io.VipsSlideReader object at 0x7f11bd214620> True (375, 300, 3)\n",
      "<Slide, name = 1438>, width=300, height=375, channels=3, levels=1, RGB=True, dtype=uint8> <valis.slide_io.VipsSlideReader object at 0x7f11bd214590> True (375, 300, 3)\n",
      "<Slide, name = 1439>, width=300, height=375, channels=3, levels=1, RGB=True, dtype=uint8> <valis.slide_io.VipsSlideReader object at 0x7f11bd214500> True (375, 300, 3)\n",
      "<Slide, name = 1440>, width=300, height=375, channels=3, levels=1, RGB=True, dtype=uint8> <valis.slide_io.VipsSlideReader object at 0x7f11bd2143e0> True (375, 300, 3)\n",
      "<Slide, name = 1441>, width=300, height=375, channels=3, levels=1, RGB=True, dtype=uint8> <valis.slide_io.VipsSlideReader object at 0x7f11bd214380> True (375, 300, 3)\n",
      "<Slide, name = 1442>, width=300, height=375, channels=3, levels=1, RGB=True, dtype=uint8> <valis.slide_io.VipsSlideReader object at 0x7f11bd214320> True (375, 300, 3)\n"
     ]
    },
    {
     "name": "stderr",
     "output_type": "stream",
     "text": [
      "Converting images:  54%|█████▍    | 1416/2627 [00:15<00:13, 91.85image/s]"
     ]
    },
    {
     "name": "stdout",
     "output_type": "stream",
     "text": [
      "<Slide, name = 1443>, width=300, height=375, channels=3, levels=1, RGB=True, dtype=uint8> <valis.slide_io.VipsSlideReader object at 0x7f11bd214260> True (375, 300, 3)\n",
      "<Slide, name = 1444>, width=300, height=375, channels=3, levels=1, RGB=True, dtype=uint8> <valis.slide_io.VipsSlideReader object at 0x7f11bd2141a0> True (375, 300, 3)\n",
      "<Slide, name = 1445>, width=300, height=375, channels=3, levels=1, RGB=True, dtype=uint8> <valis.slide_io.VipsSlideReader object at 0x7f11bd214080> True (375, 300, 3)\n",
      "<Slide, name = 1446>, width=300, height=375, channels=3, levels=1, RGB=True, dtype=uint8> <valis.slide_io.VipsSlideReader object at 0x7f11bd214140> True (375, 300, 3)\n",
      "<Slide, name = 1447>, width=300, height=375, channels=3, levels=1, RGB=True, dtype=uint8> <valis.slide_io.VipsSlideReader object at 0x7f11bd2143b0> True (375, 300, 3)\n",
      "<Slide, name = 1448>, width=300, height=375, channels=3, levels=1, RGB=True, dtype=uint8> <valis.slide_io.VipsSlideReader object at 0x7f11bd214200> True (375, 300, 3)\n",
      "<Slide, name = 1449>, width=300, height=375, channels=3, levels=1, RGB=True, dtype=uint8> <valis.slide_io.VipsSlideReader object at 0x7f11bd2144a0> True (375, 300, 3)\n",
      "<Slide, name = 1451>, width=300, height=375, channels=3, levels=1, RGB=True, dtype=uint8> <valis.slide_io.VipsSlideReader object at 0x7f11bc3a40b0> True (375, 300, 3)\n",
      "<Slide, name = 1452>, width=300, height=375, channels=3, levels=1, RGB=True, dtype=uint8> <valis.slide_io.VipsSlideReader object at 0x7f11bd2142c0> True (375, 300, 3)\n",
      "<Slide, name = 1453>, width=300, height=375, channels=3, levels=1, RGB=True, dtype=uint8> <valis.slide_io.VipsSlideReader object at 0x7f11bc3ac230> True (375, 300, 3)\n"
     ]
    },
    {
     "name": "stderr",
     "output_type": "stream",
     "text": [
      "Converting images:  54%|█████▍    | 1426/2627 [00:15<00:13, 91.97image/s]"
     ]
    },
    {
     "name": "stdout",
     "output_type": "stream",
     "text": [
      "<Slide, name = 1454>, width=300, height=375, channels=3, levels=1, RGB=True, dtype=uint8> <valis.slide_io.VipsSlideReader object at 0x7f11bc3ac0e0> True (375, 300, 3)\n",
      "<Slide, name = 1455>, width=300, height=375, channels=3, levels=1, RGB=True, dtype=uint8> <valis.slide_io.VipsSlideReader object at 0x7f11bd2142f0> True (375, 300, 3)\n",
      "<Slide, name = 1456>, width=300, height=375, channels=3, levels=1, RGB=True, dtype=uint8> <valis.slide_io.VipsSlideReader object at 0x7f11bcb6c1a0> True (375, 300, 3)\n",
      "<Slide, name = 1457>, width=300, height=375, channels=3, levels=1, RGB=True, dtype=uint8> <valis.slide_io.VipsSlideReader object at 0x7f11bc3ac350> True (375, 300, 3)\n",
      "<Slide, name = 1458>, width=300, height=375, channels=3, levels=1, RGB=True, dtype=uint8> <valis.slide_io.VipsSlideReader object at 0x7f11bc3ac380> True (375, 300, 3)\n",
      "<Slide, name = 1459>, width=300, height=375, channels=3, levels=1, RGB=True, dtype=uint8> <valis.slide_io.VipsSlideReader object at 0x7f11bcb64530> True (375, 300, 3)\n",
      "<Slide, name = 1460>, width=300, height=375, channels=3, levels=1, RGB=True, dtype=uint8> <valis.slide_io.VipsSlideReader object at 0x7f11bcb6c410> True (375, 300, 3)\n",
      "<Slide, name = 1461>, width=300, height=375, channels=3, levels=1, RGB=True, dtype=uint8> <valis.slide_io.VipsSlideReader object at 0x7f11bcb64500> True (375, 300, 3)\n",
      "<Slide, name = 1462>, width=300, height=375, channels=3, levels=1, RGB=True, dtype=uint8> <valis.slide_io.VipsSlideReader object at 0x7f11bc3ac3b0> True (375, 300, 3)\n",
      "<Slide, name = 1463>, width=300, height=375, channels=3, levels=1, RGB=True, dtype=uint8> <valis.slide_io.VipsSlideReader object at 0x7f11bc3ac560> True (375, 300, 3)\n"
     ]
    },
    {
     "name": "stderr",
     "output_type": "stream",
     "text": [
      "Converting images:  55%|█████▍    | 1436/2627 [00:15<00:13, 91.37image/s]"
     ]
    },
    {
     "name": "stdout",
     "output_type": "stream",
     "text": [
      "<Slide, name = 1464>, width=300, height=375, channels=3, levels=1, RGB=True, dtype=uint8> <valis.slide_io.VipsSlideReader object at 0x7f11bc3ac590> True (375, 300, 3)\n",
      "<Slide, name = 1465>, width=300, height=375, channels=3, levels=1, RGB=True, dtype=uint8> <valis.slide_io.VipsSlideReader object at 0x7f11bd2140b0> True (375, 300, 3)\n",
      "<Slide, name = 1466>, width=300, height=375, channels=3, levels=1, RGB=True, dtype=uint8> <valis.slide_io.VipsSlideReader object at 0x7f11bc3a4470> True (375, 300, 3)\n",
      "<Slide, name = 1467>, width=300, height=375, channels=3, levels=1, RGB=True, dtype=uint8> <valis.slide_io.VipsSlideReader object at 0x7f11bc3ac200> True (375, 300, 3)\n",
      "<Slide, name = 1468>, width=300, height=375, channels=3, levels=1, RGB=True, dtype=uint8> <valis.slide_io.VipsSlideReader object at 0x7f11bc3ac860> True (375, 300, 3)\n",
      "<Slide, name = 1469>, width=300, height=375, channels=3, levels=1, RGB=True, dtype=uint8> <valis.slide_io.VipsSlideReader object at 0x7f11bc3ac8c0> True (375, 300, 3)\n",
      "<Slide, name = 1470>, width=300, height=375, channels=3, levels=1, RGB=True, dtype=uint8> <valis.slide_io.VipsSlideReader object at 0x7f11bc3ac7a0> True (375, 300, 3)\n",
      "<Slide, name = 1471>, width=300, height=375, channels=3, levels=1, RGB=True, dtype=uint8> <valis.slide_io.VipsSlideReader object at 0x7f11bc3ac920> True (375, 300, 3)\n",
      "<Slide, name = 1472>, width=300, height=375, channels=3, levels=1, RGB=True, dtype=uint8> <valis.slide_io.VipsSlideReader object at 0x7f11bc3ac980> True (375, 300, 3)\n",
      "<Slide, name = 1473>, width=300, height=375, channels=3, levels=1, RGB=True, dtype=uint8> <valis.slide_io.VipsSlideReader object at 0x7f11bc3ac9e0> True (375, 300, 3)\n"
     ]
    },
    {
     "name": "stderr",
     "output_type": "stream",
     "text": [
      "Converting images:  55%|█████▌    | 1446/2627 [00:15<00:12, 91.52image/s]"
     ]
    },
    {
     "name": "stdout",
     "output_type": "stream",
     "text": [
      "<Slide, name = 1474>, width=300, height=375, channels=3, levels=1, RGB=True, dtype=uint8> <valis.slide_io.VipsSlideReader object at 0x7f11bc3aca40> True (375, 300, 3)\n",
      "<Slide, name = 1475>, width=300, height=375, channels=3, levels=1, RGB=True, dtype=uint8> <valis.slide_io.VipsSlideReader object at 0x7f11bc3acaa0> True (375, 300, 3)\n",
      "<Slide, name = 1476>, width=300, height=375, channels=3, levels=1, RGB=True, dtype=uint8> <valis.slide_io.VipsSlideReader object at 0x7f11bc3acb00> True (375, 300, 3)\n",
      "<Slide, name = 1477>, width=300, height=375, channels=3, levels=1, RGB=True, dtype=uint8> <valis.slide_io.VipsSlideReader object at 0x7f11bc3acb60> True (375, 300, 3)\n",
      "<Slide, name = 1478>, width=300, height=375, channels=3, levels=1, RGB=True, dtype=uint8> <valis.slide_io.VipsSlideReader object at 0x7f11bc3acbc0> True (375, 300, 3)\n",
      "<Slide, name = 1479>, width=300, height=375, channels=3, levels=1, RGB=True, dtype=uint8> <valis.slide_io.VipsSlideReader object at 0x7f11bc3acc20> True (375, 300, 3)\n",
      "<Slide, name = 1480>, width=300, height=375, channels=3, levels=1, RGB=True, dtype=uint8> <valis.slide_io.VipsSlideReader object at 0x7f11bc3acc80> True (375, 300, 3)\n",
      "<Slide, name = 1481>, width=300, height=375, channels=3, levels=1, RGB=True, dtype=uint8> <valis.slide_io.VipsSlideReader object at 0x7f11bc3acce0> True (375, 300, 3)\n",
      "<Slide, name = 1482>, width=300, height=375, channels=3, levels=1, RGB=True, dtype=uint8> <valis.slide_io.VipsSlideReader object at 0x7f11bc3acd40> True (375, 300, 3)\n",
      "<Slide, name = 1483>, width=300, height=375, channels=3, levels=1, RGB=True, dtype=uint8> <valis.slide_io.VipsSlideReader object at 0x7f11bc3acda0> True (375, 300, 3)\n"
     ]
    },
    {
     "name": "stderr",
     "output_type": "stream",
     "text": [
      "Converting images:  55%|█████▌    | 1456/2627 [00:15<00:12, 91.09image/s]"
     ]
    },
    {
     "name": "stdout",
     "output_type": "stream",
     "text": [
      "<Slide, name = 1484>, width=300, height=375, channels=3, levels=1, RGB=True, dtype=uint8> <valis.slide_io.VipsSlideReader object at 0x7f11bc3ace00> True (375, 300, 3)\n",
      "<Slide, name = 1485>, width=300, height=375, channels=3, levels=1, RGB=True, dtype=uint8> <valis.slide_io.VipsSlideReader object at 0x7f11bc3ace60> True (375, 300, 3)\n",
      "<Slide, name = 1486>, width=300, height=375, channels=3, levels=1, RGB=True, dtype=uint8> <valis.slide_io.VipsSlideReader object at 0x7f11bc3acec0> True (375, 300, 3)\n",
      "<Slide, name = 1487>, width=300, height=375, channels=3, levels=1, RGB=True, dtype=uint8> <valis.slide_io.VipsSlideReader object at 0x7f11bc3acf20> True (375, 300, 3)\n",
      "<Slide, name = 1488>, width=300, height=375, channels=3, levels=1, RGB=True, dtype=uint8> <valis.slide_io.VipsSlideReader object at 0x7f11bc3acf80> True (375, 300, 3)\n",
      "<Slide, name = 1489>, width=300, height=375, channels=3, levels=1, RGB=True, dtype=uint8> <valis.slide_io.VipsSlideReader object at 0x7f11bc3acfe0> True (375, 300, 3)\n",
      "<Slide, name = 1490>, width=300, height=375, channels=3, levels=1, RGB=True, dtype=uint8> <valis.slide_io.VipsSlideReader object at 0x7f11bc3ad040> True (375, 300, 3)\n",
      "<Slide, name = 1491>, width=300, height=375, channels=3, levels=1, RGB=True, dtype=uint8> <valis.slide_io.VipsSlideReader object at 0x7f11bc3ad0a0> True (375, 300, 3)\n",
      "<Slide, name = 1492>, width=300, height=375, channels=3, levels=1, RGB=True, dtype=uint8> <valis.slide_io.VipsSlideReader object at 0x7f11bc3ad100> True (375, 300, 3)\n",
      "<Slide, name = 1493>, width=300, height=375, channels=3, levels=1, RGB=True, dtype=uint8> <valis.slide_io.VipsSlideReader object at 0x7f11bc3ad160> True (375, 300, 3)\n"
     ]
    },
    {
     "name": "stderr",
     "output_type": "stream",
     "text": [
      "Converting images:  56%|█████▌    | 1466/2627 [00:16<00:12, 91.10image/s]"
     ]
    },
    {
     "name": "stdout",
     "output_type": "stream",
     "text": [
      "<Slide, name = 1494>, width=300, height=375, channels=3, levels=1, RGB=True, dtype=uint8> <valis.slide_io.VipsSlideReader object at 0x7f11bc3ad1c0> True (375, 300, 3)\n",
      "<Slide, name = 1495>, width=300, height=375, channels=3, levels=1, RGB=True, dtype=uint8> <valis.slide_io.VipsSlideReader object at 0x7f11bc3ad220> True (375, 300, 3)\n",
      "<Slide, name = 1496>, width=300, height=375, channels=3, levels=1, RGB=True, dtype=uint8> <valis.slide_io.VipsSlideReader object at 0x7f11bc3ad280> True (375, 300, 3)\n",
      "<Slide, name = 1497>, width=300, height=375, channels=3, levels=1, RGB=True, dtype=uint8> <valis.slide_io.VipsSlideReader object at 0x7f11bc3ad2e0> True (375, 300, 3)\n",
      "<Slide, name = 1498>, width=300, height=375, channels=3, levels=1, RGB=True, dtype=uint8> <valis.slide_io.VipsSlideReader object at 0x7f11bc3ad340> True (375, 300, 3)\n",
      "<Slide, name = 1499>, width=300, height=375, channels=3, levels=1, RGB=True, dtype=uint8> <valis.slide_io.VipsSlideReader object at 0x7f11bc3ad3a0> True (375, 300, 3)\n",
      "<Slide, name = 1500>, width=300, height=375, channels=3, levels=1, RGB=True, dtype=uint8> <valis.slide_io.VipsSlideReader object at 0x7f11bc3ad400> True (375, 300, 3)\n",
      "<Slide, name = 1501>, width=300, height=375, channels=3, levels=1, RGB=True, dtype=uint8> <valis.slide_io.VipsSlideReader object at 0x7f11bc3ad460> True (375, 300, 3)\n",
      "<Slide, name = 1502>, width=300, height=375, channels=3, levels=1, RGB=True, dtype=uint8> <valis.slide_io.VipsSlideReader object at 0x7f11bc3ad4c0> True (375, 300, 3)\n",
      "<Slide, name = 1503>, width=300, height=375, channels=3, levels=1, RGB=True, dtype=uint8> <valis.slide_io.VipsSlideReader object at 0x7f11bc3ad520> True (375, 300, 3)\n"
     ]
    },
    {
     "name": "stderr",
     "output_type": "stream",
     "text": [
      "Converting images:  56%|█████▌    | 1476/2627 [00:16<00:12, 91.48image/s]"
     ]
    },
    {
     "name": "stdout",
     "output_type": "stream",
     "text": [
      "<Slide, name = 1504>, width=300, height=375, channels=3, levels=1, RGB=True, dtype=uint8> <valis.slide_io.VipsSlideReader object at 0x7f11bc3ad580> True (375, 300, 3)\n",
      "<Slide, name = 1505>, width=300, height=375, channels=3, levels=1, RGB=True, dtype=uint8> <valis.slide_io.VipsSlideReader object at 0x7f11bc3ad5e0> True (375, 300, 3)\n",
      "<Slide, name = 1506>, width=300, height=375, channels=3, levels=1, RGB=True, dtype=uint8> <valis.slide_io.VipsSlideReader object at 0x7f11bc3ad640> True (375, 300, 3)\n",
      "<Slide, name = 1507>, width=300, height=375, channels=3, levels=1, RGB=True, dtype=uint8> <valis.slide_io.VipsSlideReader object at 0x7f11bc3ad6a0> True (375, 300, 3)\n",
      "<Slide, name = 1508>, width=300, height=375, channels=3, levels=1, RGB=True, dtype=uint8> <valis.slide_io.VipsSlideReader object at 0x7f11bc3ad700> True (375, 300, 3)\n",
      "<Slide, name = 1509>, width=300, height=375, channels=3, levels=1, RGB=True, dtype=uint8> <valis.slide_io.VipsSlideReader object at 0x7f11bc3ad760> True (375, 300, 3)\n",
      "<Slide, name = 1510>, width=300, height=375, channels=3, levels=1, RGB=True, dtype=uint8> <valis.slide_io.VipsSlideReader object at 0x7f11bc3ad7c0> True (375, 300, 3)\n",
      "<Slide, name = 1511>, width=300, height=375, channels=3, levels=1, RGB=True, dtype=uint8> <valis.slide_io.VipsSlideReader object at 0x7f11bc3ad820> True (375, 300, 3)\n",
      "<Slide, name = 1512>, width=300, height=375, channels=3, levels=1, RGB=True, dtype=uint8> <valis.slide_io.VipsSlideReader object at 0x7f11bc3ad880> True (375, 300, 3)\n",
      "<Slide, name = 1513>, width=300, height=375, channels=3, levels=1, RGB=True, dtype=uint8> <valis.slide_io.VipsSlideReader object at 0x7f11bc3a8ad0> True (375, 300, 3)\n"
     ]
    },
    {
     "name": "stderr",
     "output_type": "stream",
     "text": [
      "Converting images:  57%|█████▋    | 1486/2627 [00:16<00:12, 91.28image/s]"
     ]
    },
    {
     "name": "stdout",
     "output_type": "stream",
     "text": [
      "<Slide, name = 1514>, width=300, height=375, channels=3, levels=1, RGB=True, dtype=uint8> <valis.slide_io.VipsSlideReader object at 0x7f11bc3ada60> True (375, 300, 3)\n",
      "<Slide, name = 1515>, width=300, height=375, channels=3, levels=1, RGB=True, dtype=uint8> <valis.slide_io.VipsSlideReader object at 0x7f11bc3ad9a0> True (375, 300, 3)\n",
      "<Slide, name = 1516>, width=300, height=375, channels=3, levels=1, RGB=True, dtype=uint8> <valis.slide_io.VipsSlideReader object at 0x7f11bc3ad730> True (375, 300, 3)\n",
      "<Slide, name = 1517>, width=300, height=375, channels=3, levels=1, RGB=True, dtype=uint8> <valis.slide_io.VipsSlideReader object at 0x7f11bc3ad850> True (375, 300, 3)\n",
      "<Slide, name = 1518>, width=300, height=375, channels=3, levels=1, RGB=True, dtype=uint8> <valis.slide_io.VipsSlideReader object at 0x7f11bc3ada90> True (375, 300, 3)\n",
      "<Slide, name = 1519>, width=300, height=375, channels=3, levels=1, RGB=True, dtype=uint8> <valis.slide_io.VipsSlideReader object at 0x7f11bc3adaf0> True (375, 300, 3)\n",
      "<Slide, name = 1520>, width=300, height=375, channels=3, levels=1, RGB=True, dtype=uint8> <valis.slide_io.VipsSlideReader object at 0x7f11bc3adb50> True (375, 300, 3)\n",
      "<Slide, name = 1521>, width=300, height=375, channels=3, levels=1, RGB=True, dtype=uint8> <valis.slide_io.VipsSlideReader object at 0x7f11bc3adbb0> True (375, 300, 3)\n",
      "<Slide, name = 1522>, width=300, height=375, channels=3, levels=1, RGB=True, dtype=uint8> <valis.slide_io.VipsSlideReader object at 0x7f11bc3adc10> True (375, 300, 3)\n",
      "<Slide, name = 1523>, width=300, height=375, channels=3, levels=1, RGB=True, dtype=uint8> <valis.slide_io.VipsSlideReader object at 0x7f11bc3adca0> True (375, 300, 3)\n"
     ]
    },
    {
     "name": "stderr",
     "output_type": "stream",
     "text": [
      "Converting images:  57%|█████▋    | 1496/2627 [00:16<00:12, 91.42image/s]"
     ]
    },
    {
     "name": "stdout",
     "output_type": "stream",
     "text": [
      "<Slide, name = 1524>, width=300, height=375, channels=3, levels=1, RGB=True, dtype=uint8> <valis.slide_io.VipsSlideReader object at 0x7f11bc3add00> True (375, 300, 3)\n",
      "<Slide, name = 1525>, width=300, height=375, channels=3, levels=1, RGB=True, dtype=uint8> <valis.slide_io.VipsSlideReader object at 0x7f11bc3add60> True (375, 300, 3)\n",
      "<Slide, name = 1526>, width=300, height=375, channels=3, levels=1, RGB=True, dtype=uint8> <valis.slide_io.VipsSlideReader object at 0x7f11bc3addc0> True (375, 300, 3)\n",
      "<Slide, name = 1527>, width=300, height=375, channels=3, levels=1, RGB=True, dtype=uint8> <valis.slide_io.VipsSlideReader object at 0x7f11bc3ade20> True (375, 300, 3)\n",
      "<Slide, name = 1528>, width=300, height=375, channels=3, levels=1, RGB=True, dtype=uint8> <valis.slide_io.VipsSlideReader object at 0x7f11bc3ade80> True (375, 300, 3)\n",
      "<Slide, name = 1529>, width=300, height=375, channels=3, levels=1, RGB=True, dtype=uint8> <valis.slide_io.VipsSlideReader object at 0x7f11bc3adee0> True (375, 300, 3)\n",
      "<Slide, name = 1530>, width=300, height=375, channels=3, levels=1, RGB=True, dtype=uint8> <valis.slide_io.VipsSlideReader object at 0x7f11bc3adf40> True (375, 300, 3)\n",
      "<Slide, name = 1531>, width=300, height=375, channels=3, levels=1, RGB=True, dtype=uint8> <valis.slide_io.VipsSlideReader object at 0x7f11bc3adfa0> True (375, 300, 3)\n",
      "<Slide, name = 1532>, width=300, height=375, channels=3, levels=1, RGB=True, dtype=uint8> <valis.slide_io.VipsSlideReader object at 0x7f11bc3ae000> True (375, 300, 3)\n",
      "<Slide, name = 1533>, width=300, height=375, channels=3, levels=1, RGB=True, dtype=uint8> <valis.slide_io.VipsSlideReader object at 0x7f11bc3ae060> True (375, 300, 3)\n"
     ]
    },
    {
     "name": "stderr",
     "output_type": "stream",
     "text": [
      "Converting images:  57%|█████▋    | 1506/2627 [00:16<00:12, 91.39image/s]"
     ]
    },
    {
     "name": "stdout",
     "output_type": "stream",
     "text": [
      "<Slide, name = 1534>, width=300, height=375, channels=3, levels=1, RGB=True, dtype=uint8> <valis.slide_io.VipsSlideReader object at 0x7f11bc3ae0c0> True (375, 300, 3)\n",
      "<Slide, name = 1535>, width=300, height=375, channels=3, levels=1, RGB=True, dtype=uint8> <valis.slide_io.VipsSlideReader object at 0x7f11bc3ae120> True (375, 300, 3)\n",
      "<Slide, name = 1536>, width=300, height=375, channels=3, levels=1, RGB=True, dtype=uint8> <valis.slide_io.VipsSlideReader object at 0x7f11bc3ae180> True (375, 300, 3)\n",
      "<Slide, name = 1537>, width=300, height=375, channels=3, levels=1, RGB=True, dtype=uint8> <valis.slide_io.VipsSlideReader object at 0x7f11bc3ae1e0> True (375, 300, 3)\n",
      "<Slide, name = 1538>, width=300, height=375, channels=3, levels=1, RGB=True, dtype=uint8> <valis.slide_io.VipsSlideReader object at 0x7f11bc3ae240> True (375, 300, 3)\n",
      "<Slide, name = 1539>, width=300, height=375, channels=3, levels=1, RGB=True, dtype=uint8> <valis.slide_io.VipsSlideReader object at 0x7f11bc3ae2a0> True (375, 300, 3)\n",
      "<Slide, name = 1540>, width=300, height=375, channels=3, levels=1, RGB=True, dtype=uint8> <valis.slide_io.VipsSlideReader object at 0x7f11bc3ae300> True (375, 300, 3)\n",
      "<Slide, name = 1541>, width=300, height=375, channels=3, levels=1, RGB=True, dtype=uint8> <valis.slide_io.VipsSlideReader object at 0x7f11bc3ae360> True (375, 300, 3)\n",
      "<Slide, name = 1542>, width=300, height=375, channels=3, levels=1, RGB=True, dtype=uint8> <valis.slide_io.VipsSlideReader object at 0x7f11bc3ae3c0> True (375, 300, 3)\n",
      "<Slide, name = 1543>, width=300, height=375, channels=3, levels=1, RGB=True, dtype=uint8> <valis.slide_io.VipsSlideReader object at 0x7f11bc3ae420> True (375, 300, 3)\n"
     ]
    },
    {
     "name": "stderr",
     "output_type": "stream",
     "text": [
      "Converting images:  58%|█████▊    | 1516/2627 [00:16<00:12, 90.92image/s]"
     ]
    },
    {
     "name": "stdout",
     "output_type": "stream",
     "text": [
      "<Slide, name = 1544>, width=300, height=375, channels=3, levels=1, RGB=True, dtype=uint8> <valis.slide_io.VipsSlideReader object at 0x7f11bc3ae480> True (375, 300, 3)\n",
      "<Slide, name = 1545>, width=300, height=375, channels=3, levels=1, RGB=True, dtype=uint8> <valis.slide_io.VipsSlideReader object at 0x7f11bc3ae4e0> True (375, 300, 3)\n",
      "<Slide, name = 1546>, width=300, height=375, channels=3, levels=1, RGB=True, dtype=uint8> <valis.slide_io.VipsSlideReader object at 0x7f11bc3ae540> True (375, 300, 3)\n",
      "<Slide, name = 1547>, width=300, height=375, channels=3, levels=1, RGB=True, dtype=uint8> <valis.slide_io.VipsSlideReader object at 0x7f11bc3ae5a0> True (375, 300, 3)\n",
      "<Slide, name = 1548>, width=300, height=375, channels=3, levels=1, RGB=True, dtype=uint8> <valis.slide_io.VipsSlideReader object at 0x7f11bc3ae600> True (375, 300, 3)\n",
      "<Slide, name = 1549>, width=300, height=375, channels=3, levels=1, RGB=True, dtype=uint8> <valis.slide_io.VipsSlideReader object at 0x7f11bc3ae660> True (375, 300, 3)\n",
      "<Slide, name = 1550>, width=300, height=375, channels=3, levels=1, RGB=True, dtype=uint8> <valis.slide_io.VipsSlideReader object at 0x7f11bc3ae6c0> True (375, 300, 3)\n",
      "<Slide, name = 1552>, width=300, height=375, channels=3, levels=1, RGB=True, dtype=uint8> <valis.slide_io.VipsSlideReader object at 0x7f11bc3ae720> True (375, 300, 3)\n",
      "<Slide, name = 1553>, width=300, height=375, channels=3, levels=1, RGB=True, dtype=uint8> <valis.slide_io.VipsSlideReader object at 0x7f11bc3ae780> True (375, 300, 3)\n",
      "<Slide, name = 1554>, width=300, height=375, channels=3, levels=1, RGB=True, dtype=uint8> <valis.slide_io.VipsSlideReader object at 0x7f11bc3ae7e0> True (375, 300, 3)\n"
     ]
    },
    {
     "name": "stderr",
     "output_type": "stream",
     "text": [
      "Converting images:  58%|█████▊    | 1526/2627 [00:16<00:12, 90.43image/s]"
     ]
    },
    {
     "name": "stdout",
     "output_type": "stream",
     "text": [
      "<Slide, name = 1555>, width=300, height=375, channels=3, levels=1, RGB=True, dtype=uint8> <valis.slide_io.VipsSlideReader object at 0x7f11bc3ae840> True (375, 300, 3)\n",
      "<Slide, name = 1556>, width=300, height=375, channels=3, levels=1, RGB=True, dtype=uint8> <valis.slide_io.VipsSlideReader object at 0x7f11bc3ae8a0> True (375, 300, 3)\n",
      "<Slide, name = 1557>, width=300, height=375, channels=3, levels=1, RGB=True, dtype=uint8> <valis.slide_io.VipsSlideReader object at 0x7f11bc3ae900> True (375, 300, 3)\n",
      "<Slide, name = 1558>, width=300, height=375, channels=3, levels=1, RGB=True, dtype=uint8> <valis.slide_io.VipsSlideReader object at 0x7f11bc3ae960> True (375, 300, 3)\n",
      "<Slide, name = 1559>, width=300, height=375, channels=3, levels=1, RGB=True, dtype=uint8> <valis.slide_io.VipsSlideReader object at 0x7f11bc3ae9c0> True (375, 300, 3)\n",
      "<Slide, name = 1560>, width=300, height=375, channels=3, levels=1, RGB=True, dtype=uint8> <valis.slide_io.VipsSlideReader object at 0x7f11bc3aea20> True (375, 300, 3)\n",
      "<Slide, name = 1561>, width=300, height=375, channels=3, levels=1, RGB=True, dtype=uint8> <valis.slide_io.VipsSlideReader object at 0x7f11bc3aea80> True (375, 300, 3)\n",
      "<Slide, name = 1562>, width=300, height=375, channels=3, levels=1, RGB=True, dtype=uint8> <valis.slide_io.VipsSlideReader object at 0x7f11bc3aeae0> True (375, 300, 3)\n",
      "<Slide, name = 1563>, width=300, height=375, channels=3, levels=1, RGB=True, dtype=uint8> <valis.slide_io.VipsSlideReader object at 0x7f11bc3aeb40> True (375, 300, 3)\n",
      "<Slide, name = 1564>, width=300, height=375, channels=3, levels=1, RGB=True, dtype=uint8> <valis.slide_io.VipsSlideReader object at 0x7f11bc3aeba0> True (375, 300, 3)\n"
     ]
    },
    {
     "name": "stderr",
     "output_type": "stream",
     "text": [
      "Converting images:  58%|█████▊    | 1536/2627 [00:16<00:12, 90.90image/s]"
     ]
    },
    {
     "name": "stdout",
     "output_type": "stream",
     "text": [
      "<Slide, name = 1565>, width=300, height=375, channels=3, levels=1, RGB=True, dtype=uint8> <valis.slide_io.VipsSlideReader object at 0x7f11bc3aec00> True (375, 300, 3)\n",
      "<Slide, name = 1566>, width=300, height=375, channels=3, levels=1, RGB=True, dtype=uint8> <valis.slide_io.VipsSlideReader object at 0x7f11bc3aec60> True (375, 300, 3)\n",
      "<Slide, name = 1567>, width=300, height=375, channels=3, levels=1, RGB=True, dtype=uint8> <valis.slide_io.VipsSlideReader object at 0x7f11bc3aecc0> True (375, 300, 3)\n",
      "<Slide, name = 1568>, width=300, height=375, channels=3, levels=1, RGB=True, dtype=uint8> <valis.slide_io.VipsSlideReader object at 0x7f11bc3aed20> True (375, 300, 3)\n",
      "<Slide, name = 1569>, width=300, height=375, channels=3, levels=1, RGB=True, dtype=uint8> <valis.slide_io.VipsSlideReader object at 0x7f11bc3aed80> True (375, 300, 3)\n",
      "<Slide, name = 1570>, width=300, height=375, channels=3, levels=1, RGB=True, dtype=uint8> <valis.slide_io.VipsSlideReader object at 0x7f11bc3aede0> True (375, 300, 3)\n",
      "<Slide, name = 1571>, width=300, height=375, channels=3, levels=1, RGB=True, dtype=uint8> <valis.slide_io.VipsSlideReader object at 0x7f11bc3aee40> True (375, 300, 3)\n",
      "<Slide, name = 1572>, width=300, height=375, channels=3, levels=1, RGB=True, dtype=uint8> <valis.slide_io.VipsSlideReader object at 0x7f11bc3aeea0> True (375, 300, 3)\n",
      "<Slide, name = 1573>, width=300, height=375, channels=3, levels=1, RGB=True, dtype=uint8> <valis.slide_io.VipsSlideReader object at 0x7f11bc3aef00> True (375, 300, 3)\n",
      "<Slide, name = 1574>, width=300, height=375, channels=3, levels=1, RGB=True, dtype=uint8> <valis.slide_io.VipsSlideReader object at 0x7f11bc3aef60> True (375, 300, 3)\n"
     ]
    },
    {
     "name": "stderr",
     "output_type": "stream",
     "text": [
      "Converting images:  59%|█████▉    | 1546/2627 [00:16<00:11, 91.08image/s]"
     ]
    },
    {
     "name": "stdout",
     "output_type": "stream",
     "text": [
      "<Slide, name = 1575>, width=300, height=375, channels=3, levels=1, RGB=True, dtype=uint8> <valis.slide_io.VipsSlideReader object at 0x7f11bc3aefc0> True (375, 300, 3)\n",
      "<Slide, name = 1576>, width=300, height=375, channels=3, levels=1, RGB=True, dtype=uint8> <valis.slide_io.VipsSlideReader object at 0x7f11bc3af020> True (375, 300, 3)\n",
      "<Slide, name = 1577>, width=300, height=375, channels=3, levels=1, RGB=True, dtype=uint8> <valis.slide_io.VipsSlideReader object at 0x7f11bc3af080> True (375, 300, 3)\n",
      "<Slide, name = 1578>, width=300, height=375, channels=3, levels=1, RGB=True, dtype=uint8> <valis.slide_io.VipsSlideReader object at 0x7f11bc3af0e0> True (375, 300, 3)\n",
      "<Slide, name = 1579>, width=300, height=375, channels=3, levels=1, RGB=True, dtype=uint8> <valis.slide_io.VipsSlideReader object at 0x7f11bc3af140> True (375, 300, 3)\n",
      "<Slide, name = 1580>, width=300, height=375, channels=3, levels=1, RGB=True, dtype=uint8> <valis.slide_io.VipsSlideReader object at 0x7f11bc3af1a0> True (375, 300, 3)\n",
      "<Slide, name = 1581>, width=300, height=375, channels=3, levels=1, RGB=True, dtype=uint8> <valis.slide_io.VipsSlideReader object at 0x7f11bc3af200> True (375, 300, 3)\n",
      "<Slide, name = 1582>, width=300, height=375, channels=3, levels=1, RGB=True, dtype=uint8> <valis.slide_io.VipsSlideReader object at 0x7f11bc3af260> True (375, 300, 3)\n",
      "<Slide, name = 1583>, width=300, height=375, channels=3, levels=1, RGB=True, dtype=uint8> <valis.slide_io.VipsSlideReader object at 0x7f11bc3af2c0> True (375, 300, 3)\n",
      "<Slide, name = 1584>, width=300, height=375, channels=3, levels=1, RGB=True, dtype=uint8> <valis.slide_io.VipsSlideReader object at 0x7f11bc3af320> True (375, 300, 3)\n"
     ]
    },
    {
     "name": "stderr",
     "output_type": "stream",
     "text": [
      "Converting images:  59%|█████▉    | 1556/2627 [00:17<00:11, 90.52image/s]"
     ]
    },
    {
     "name": "stdout",
     "output_type": "stream",
     "text": [
      "<Slide, name = 1585>, width=300, height=375, channels=3, levels=1, RGB=True, dtype=uint8> <valis.slide_io.VipsSlideReader object at 0x7f11bc3af380> True (375, 300, 3)\n",
      "<Slide, name = 1586>, width=300, height=375, channels=3, levels=1, RGB=True, dtype=uint8> <valis.slide_io.VipsSlideReader object at 0x7f11bc3af3e0> True (375, 300, 3)\n",
      "<Slide, name = 1587>, width=300, height=375, channels=3, levels=1, RGB=True, dtype=uint8> <valis.slide_io.VipsSlideReader object at 0x7f11bc3af440> True (375, 300, 3)\n",
      "<Slide, name = 1588>, width=300, height=375, channels=3, levels=1, RGB=True, dtype=uint8> <valis.slide_io.VipsSlideReader object at 0x7f11bc3af4a0> True (375, 300, 3)\n",
      "<Slide, name = 1589>, width=300, height=375, channels=3, levels=1, RGB=True, dtype=uint8> <valis.slide_io.VipsSlideReader object at 0x7f11bc3af500> True (375, 300, 3)\n",
      "<Slide, name = 1590>, width=300, height=375, channels=3, levels=1, RGB=True, dtype=uint8> <valis.slide_io.VipsSlideReader object at 0x7f11bc3af560> True (375, 300, 3)\n",
      "<Slide, name = 1591>, width=300, height=375, channels=3, levels=1, RGB=True, dtype=uint8> <valis.slide_io.VipsSlideReader object at 0x7f11bc3af5c0> True (375, 300, 3)\n",
      "<Slide, name = 1592>, width=300, height=375, channels=3, levels=1, RGB=True, dtype=uint8> <valis.slide_io.VipsSlideReader object at 0x7f11bc3af620> True (375, 300, 3)\n",
      "<Slide, name = 1593>, width=300, height=375, channels=3, levels=1, RGB=True, dtype=uint8> <valis.slide_io.VipsSlideReader object at 0x7f11bc3af680> True (375, 300, 3)\n",
      "<Slide, name = 1594>, width=300, height=375, channels=3, levels=1, RGB=True, dtype=uint8> <valis.slide_io.VipsSlideReader object at 0x7f11bc3af6e0> True (375, 300, 3)\n"
     ]
    },
    {
     "name": "stderr",
     "output_type": "stream",
     "text": [
      "Converting images:  60%|█████▉    | 1566/2627 [00:17<00:11, 90.47image/s]"
     ]
    },
    {
     "name": "stdout",
     "output_type": "stream",
     "text": [
      "<Slide, name = 1595>, width=300, height=375, channels=3, levels=1, RGB=True, dtype=uint8> <valis.slide_io.VipsSlideReader object at 0x7f11bc3af740> True (375, 300, 3)\n",
      "<Slide, name = 1596>, width=300, height=375, channels=3, levels=1, RGB=True, dtype=uint8> <valis.slide_io.VipsSlideReader object at 0x7f11bc3af7a0> True (375, 300, 3)\n",
      "<Slide, name = 1597>, width=300, height=375, channels=3, levels=1, RGB=True, dtype=uint8> <valis.slide_io.VipsSlideReader object at 0x7f11bc3af800> True (375, 300, 3)\n",
      "<Slide, name = 1598>, width=300, height=375, channels=3, levels=1, RGB=True, dtype=uint8> <valis.slide_io.VipsSlideReader object at 0x7f11bc3af860> True (375, 300, 3)\n",
      "<Slide, name = 1599>, width=300, height=375, channels=3, levels=1, RGB=True, dtype=uint8> <valis.slide_io.VipsSlideReader object at 0x7f11bc3af8c0> True (375, 300, 3)\n",
      "<Slide, name = 1600>, width=300, height=375, channels=3, levels=1, RGB=True, dtype=uint8> <valis.slide_io.VipsSlideReader object at 0x7f11bc3af920> True (375, 300, 3)\n",
      "<Slide, name = 1601>, width=300, height=375, channels=3, levels=1, RGB=True, dtype=uint8> <valis.slide_io.VipsSlideReader object at 0x7f11bc3af980> True (375, 300, 3)\n",
      "<Slide, name = 1602>, width=300, height=375, channels=3, levels=1, RGB=True, dtype=uint8> <valis.slide_io.VipsSlideReader object at 0x7f11bc3af9e0> True (375, 300, 3)\n",
      "<Slide, name = 1603>, width=300, height=375, channels=3, levels=1, RGB=True, dtype=uint8> <valis.slide_io.VipsSlideReader object at 0x7f11bc3afa40> True (375, 300, 3)\n",
      "<Slide, name = 1604>, width=300, height=375, channels=3, levels=1, RGB=True, dtype=uint8> <valis.slide_io.VipsSlideReader object at 0x7f11bc3afaa0> True (375, 300, 3)\n"
     ]
    },
    {
     "name": "stderr",
     "output_type": "stream",
     "text": [
      "Converting images:  60%|█████▉    | 1576/2627 [00:17<00:11, 91.12image/s]"
     ]
    },
    {
     "name": "stdout",
     "output_type": "stream",
     "text": [
      "<Slide, name = 1605>, width=300, height=375, channels=3, levels=1, RGB=True, dtype=uint8> <valis.slide_io.VipsSlideReader object at 0x7f11bc3afb00> True (375, 300, 3)\n",
      "<Slide, name = 1606>, width=300, height=375, channels=3, levels=1, RGB=True, dtype=uint8> <valis.slide_io.VipsSlideReader object at 0x7f11bc3afb60> True (375, 300, 3)\n",
      "<Slide, name = 1607>, width=300, height=375, channels=3, levels=1, RGB=True, dtype=uint8> <valis.slide_io.VipsSlideReader object at 0x7f11bc3afbc0> True (375, 300, 3)\n",
      "<Slide, name = 1608>, width=300, height=375, channels=3, levels=1, RGB=True, dtype=uint8> <valis.slide_io.VipsSlideReader object at 0x7f11bc3afc20> True (375, 300, 3)\n",
      "<Slide, name = 1609>, width=300, height=375, channels=3, levels=1, RGB=True, dtype=uint8> <valis.slide_io.VipsSlideReader object at 0x7f11bc3afc80> True (375, 300, 3)\n",
      "<Slide, name = 1610>, width=300, height=375, channels=3, levels=1, RGB=True, dtype=uint8> <valis.slide_io.VipsSlideReader object at 0x7f11bc3afce0> True (375, 300, 3)\n",
      "<Slide, name = 1611>, width=300, height=375, channels=3, levels=1, RGB=True, dtype=uint8> <valis.slide_io.VipsSlideReader object at 0x7f11bc3afd40> True (375, 300, 3)\n",
      "<Slide, name = 1612>, width=300, height=375, channels=3, levels=1, RGB=True, dtype=uint8> <valis.slide_io.VipsSlideReader object at 0x7f11bc3afda0> True (375, 300, 3)\n",
      "<Slide, name = 1613>, width=300, height=375, channels=3, levels=1, RGB=True, dtype=uint8> <valis.slide_io.VipsSlideReader object at 0x7f11bc3afe00> True (375, 300, 3)\n",
      "<Slide, name = 1614>, width=300, height=375, channels=3, levels=1, RGB=True, dtype=uint8> <valis.slide_io.VipsSlideReader object at 0x7f11bc3afe60> True (375, 300, 3)\n"
     ]
    },
    {
     "name": "stderr",
     "output_type": "stream",
     "text": [
      "Converting images:  60%|██████    | 1586/2627 [00:17<00:11, 91.38image/s]"
     ]
    },
    {
     "name": "stdout",
     "output_type": "stream",
     "text": [
      "<Slide, name = 1615>, width=300, height=375, channels=3, levels=1, RGB=True, dtype=uint8> <valis.slide_io.VipsSlideReader object at 0x7f11bc3afec0> True (375, 300, 3)\n",
      "<Slide, name = 1616>, width=300, height=375, channels=3, levels=1, RGB=True, dtype=uint8> <valis.slide_io.VipsSlideReader object at 0x7f11bc3aff50> True (375, 300, 3)\n",
      "<Slide, name = 1617>, width=300, height=375, channels=3, levels=1, RGB=True, dtype=uint8> <valis.slide_io.VipsSlideReader object at 0x7f11bc3affb0> True (375, 300, 3)\n",
      "<Slide, name = 1618>, width=300, height=375, channels=3, levels=1, RGB=True, dtype=uint8> <valis.slide_io.VipsSlideReader object at 0x7f11bc3afd70> True (375, 300, 3)\n",
      "<Slide, name = 1619>, width=300, height=375, channels=3, levels=1, RGB=True, dtype=uint8> <valis.slide_io.VipsSlideReader object at 0x7f11bc3affe0> True (375, 300, 3)\n",
      "<Slide, name = 1620>, width=300, height=375, channels=3, levels=1, RGB=True, dtype=uint8> <valis.slide_io.VipsSlideReader object at 0x7f11bc3ad6d0> True (375, 300, 3)\n",
      "<Slide, name = 1621>, width=300, height=375, channels=3, levels=1, RGB=True, dtype=uint8> <valis.slide_io.VipsSlideReader object at 0x7f11bc3afe90> True (375, 300, 3)\n",
      "<Slide, name = 1622>, width=300, height=375, channels=3, levels=1, RGB=True, dtype=uint8> <valis.slide_io.VipsSlideReader object at 0x7f11bc3afe30> True (375, 300, 3)\n",
      "<Slide, name = 1623>, width=300, height=375, channels=3, levels=1, RGB=True, dtype=uint8> <valis.slide_io.VipsSlideReader object at 0x7f11bc3aff80> True (375, 300, 3)\n",
      "<Slide, name = 1624>, width=300, height=375, channels=3, levels=1, RGB=True, dtype=uint8> <valis.slide_io.VipsSlideReader object at 0x7f11bd196ab0> True (375, 300, 3)\n"
     ]
    },
    {
     "name": "stderr",
     "output_type": "stream",
     "text": [
      "Converting images:  61%|██████    | 1596/2627 [00:17<00:11, 91.46image/s]"
     ]
    },
    {
     "name": "stdout",
     "output_type": "stream",
     "text": [
      "<Slide, name = 1625>, width=300, height=375, channels=3, levels=1, RGB=True, dtype=uint8> <valis.slide_io.VipsSlideReader object at 0x7f11bd5fe930> True (375, 300, 3)\n",
      "<Slide, name = 1626>, width=300, height=375, channels=3, levels=1, RGB=True, dtype=uint8> <valis.slide_io.VipsSlideReader object at 0x7f11bd5fea80> True (375, 300, 3)\n",
      "<Slide, name = 1627>, width=300, height=375, channels=3, levels=1, RGB=True, dtype=uint8> <valis.slide_io.VipsSlideReader object at 0x7f11bd16eae0> True (375, 300, 3)\n",
      "<Slide, name = 1628>, width=300, height=375, channels=3, levels=1, RGB=True, dtype=uint8> <valis.slide_io.VipsSlideReader object at 0x7f11bd5fe870> True (375, 300, 3)\n",
      "<Slide, name = 1629>, width=300, height=375, channels=3, levels=1, RGB=True, dtype=uint8> <valis.slide_io.VipsSlideReader object at 0x7f11bd5fe420> True (375, 300, 3)\n",
      "<Slide, name = 1630>, width=300, height=375, channels=3, levels=1, RGB=True, dtype=uint8> <valis.slide_io.VipsSlideReader object at 0x7f11bd5fedb0> True (375, 300, 3)\n",
      "<Slide, name = 1631>, width=300, height=375, channels=3, levels=1, RGB=True, dtype=uint8> <valis.slide_io.VipsSlideReader object at 0x7f11bccaee40> True (375, 300, 3)\n",
      "<Slide, name = 1632>, width=300, height=375, channels=3, levels=1, RGB=True, dtype=uint8> <valis.slide_io.VipsSlideReader object at 0x7f11bd5fea50> True (375, 300, 3)\n",
      "<Slide, name = 1633>, width=300, height=375, channels=3, levels=1, RGB=True, dtype=uint8> <valis.slide_io.VipsSlideReader object at 0x7f11bd5fee10> True (375, 300, 3)\n",
      "<Slide, name = 1634>, width=300, height=375, channels=3, levels=1, RGB=True, dtype=uint8> <valis.slide_io.VipsSlideReader object at 0x7f11bcb2ee70> True (375, 300, 3)\n"
     ]
    },
    {
     "name": "stderr",
     "output_type": "stream",
     "text": [
      "Converting images:  61%|██████    | 1606/2627 [00:17<00:11, 91.38image/s]"
     ]
    },
    {
     "name": "stdout",
     "output_type": "stream",
     "text": [
      "<Slide, name = 1635>, width=300, height=375, channels=3, levels=1, RGB=True, dtype=uint8> <valis.slide_io.VipsSlideReader object at 0x7f11bcc6f020> True (375, 300, 3)\n",
      "<Slide, name = 1636>, width=300, height=375, channels=3, levels=1, RGB=True, dtype=uint8> <valis.slide_io.VipsSlideReader object at 0x7f11bd5fecf0> True (375, 300, 3)\n",
      "<Slide, name = 1637>, width=300, height=375, channels=3, levels=1, RGB=True, dtype=uint8> <valis.slide_io.VipsSlideReader object at 0x7f11bcc6eff0> True (375, 300, 3)\n",
      "<Slide, name = 1638>, width=300, height=375, channels=3, levels=1, RGB=True, dtype=uint8> <valis.slide_io.VipsSlideReader object at 0x7f11bd5feed0> True (375, 300, 3)\n",
      "<Slide, name = 1639>, width=300, height=375, channels=3, levels=1, RGB=True, dtype=uint8> <valis.slide_io.VipsSlideReader object at 0x7f11bd5ff080> True (375, 300, 3)\n",
      "<Slide, name = 1640>, width=300, height=375, channels=3, levels=1, RGB=True, dtype=uint8> <valis.slide_io.VipsSlideReader object at 0x7f11bccaf0e0> True (375, 300, 3)\n",
      "<Slide, name = 1641>, width=300, height=375, channels=3, levels=1, RGB=True, dtype=uint8> <valis.slide_io.VipsSlideReader object at 0x7f11bd5ff050> True (375, 300, 3)\n",
      "<Slide, name = 1642>, width=300, height=375, channels=3, levels=1, RGB=True, dtype=uint8> <valis.slide_io.VipsSlideReader object at 0x7f11bcb5f140> True (375, 300, 3)\n",
      "<Slide, name = 1643>, width=300, height=375, channels=3, levels=1, RGB=True, dtype=uint8> <valis.slide_io.VipsSlideReader object at 0x7f11bd5ff440> True (375, 300, 3)\n",
      "<Slide, name = 1644>, width=300, height=375, channels=3, levels=1, RGB=True, dtype=uint8> <valis.slide_io.VipsSlideReader object at 0x7f11bcb27260> True (375, 300, 3)\n"
     ]
    },
    {
     "name": "stderr",
     "output_type": "stream",
     "text": [
      "Converting images:  62%|██████▏   | 1616/2627 [00:17<00:11, 91.51image/s]"
     ]
    },
    {
     "name": "stdout",
     "output_type": "stream",
     "text": [
      "<Slide, name = 1645>, width=300, height=375, channels=3, levels=1, RGB=True, dtype=uint8> <valis.slide_io.VipsSlideReader object at 0x7f11bd5ff1d0> True (375, 300, 3)\n",
      "<Slide, name = 1646>, width=300, height=375, channels=3, levels=1, RGB=True, dtype=uint8> <valis.slide_io.VipsSlideReader object at 0x7f11bd5ff1a0> True (375, 300, 3)\n",
      "<Slide, name = 1647>, width=300, height=375, channels=3, levels=1, RGB=True, dtype=uint8> <valis.slide_io.VipsSlideReader object at 0x7f11bd5ff350> True (375, 300, 3)\n",
      "<Slide, name = 1648>, width=300, height=375, channels=3, levels=1, RGB=True, dtype=uint8> <valis.slide_io.VipsSlideReader object at 0x7f11bd5ff320> True (375, 300, 3)\n",
      "<Slide, name = 1649>, width=300, height=375, channels=3, levels=1, RGB=True, dtype=uint8> <valis.slide_io.VipsSlideReader object at 0x7f11bcb5f620> True (375, 300, 3)\n",
      "<Slide, name = 1650>, width=300, height=375, channels=3, levels=1, RGB=True, dtype=uint8> <valis.slide_io.VipsSlideReader object at 0x7f11bd5ff170> True (375, 300, 3)\n",
      "<Slide, name = 1651>, width=300, height=375, channels=3, levels=1, RGB=True, dtype=uint8> <valis.slide_io.VipsSlideReader object at 0x7f11bd5ff5f0> True (375, 300, 3)\n",
      "<Slide, name = 1652>, width=300, height=375, channels=3, levels=1, RGB=True, dtype=uint8> <valis.slide_io.VipsSlideReader object at 0x7f11bcb4f650> True (375, 300, 3)\n",
      "<Slide, name = 1653>, width=300, height=375, channels=3, levels=1, RGB=True, dtype=uint8> <valis.slide_io.VipsSlideReader object at 0x7f11bd5ff4d0> True (375, 300, 3)\n",
      "<Slide, name = 1654>, width=300, height=375, channels=3, levels=1, RGB=True, dtype=uint8> <valis.slide_io.VipsSlideReader object at 0x7f11bcb3f680> True (375, 300, 3)\n"
     ]
    },
    {
     "name": "stderr",
     "output_type": "stream",
     "text": [
      "Converting images:  62%|██████▏   | 1626/2627 [00:17<00:10, 91.42image/s]"
     ]
    },
    {
     "name": "stdout",
     "output_type": "stream",
     "text": [
      "<Slide, name = 1655>, width=300, height=375, channels=3, levels=1, RGB=True, dtype=uint8> <valis.slide_io.VipsSlideReader object at 0x7f11bd5feba0> True (375, 300, 3)\n",
      "<Slide, name = 1656>, width=300, height=375, channels=3, levels=1, RGB=True, dtype=uint8> <valis.slide_io.VipsSlideReader object at 0x7f11bcb5f7a0> True (375, 300, 3)\n",
      "<Slide, name = 1657>, width=300, height=375, channels=3, levels=1, RGB=True, dtype=uint8> <valis.slide_io.VipsSlideReader object at 0x7f11bd5ff7d0> True (375, 300, 3)\n",
      "<Slide, name = 1658>, width=300, height=375, channels=3, levels=1, RGB=True, dtype=uint8> <valis.slide_io.VipsSlideReader object at 0x7f11bd5ff890> True (375, 300, 3)\n",
      "<Slide, name = 1659>, width=300, height=375, channels=3, levels=1, RGB=True, dtype=uint8> <valis.slide_io.VipsSlideReader object at 0x7f11bd5ffad0> True (375, 300, 3)\n",
      "<Slide, name = 1660>, width=300, height=375, channels=3, levels=1, RGB=True, dtype=uint8> <valis.slide_io.VipsSlideReader object at 0x7f11bd5ffb60> True (375, 300, 3)\n",
      "<Slide, name = 1661>, width=300, height=375, channels=3, levels=1, RGB=True, dtype=uint8> <valis.slide_io.VipsSlideReader object at 0x7f11bcd1f6e0> True (375, 300, 3)\n",
      "<Slide, name = 1662>, width=300, height=375, channels=3, levels=1, RGB=True, dtype=uint8> <valis.slide_io.VipsSlideReader object at 0x7f11bd5ff8c0> True (375, 300, 3)\n",
      "<Slide, name = 1663>, width=300, height=375, channels=3, levels=1, RGB=True, dtype=uint8> <valis.slide_io.VipsSlideReader object at 0x7f11bd5ffb00> True (375, 300, 3)\n",
      "<Slide, name = 1664>, width=300, height=375, channels=3, levels=1, RGB=True, dtype=uint8> <valis.slide_io.VipsSlideReader object at 0x7f11bd5ffd70> True (375, 300, 3)\n"
     ]
    },
    {
     "name": "stderr",
     "output_type": "stream",
     "text": [
      "Converting images:  62%|██████▏   | 1636/2627 [00:17<00:10, 91.85image/s]"
     ]
    },
    {
     "name": "stdout",
     "output_type": "stream",
     "text": [
      "<Slide, name = 1665>, width=300, height=375, channels=3, levels=1, RGB=True, dtype=uint8> <valis.slide_io.VipsSlideReader object at 0x7f11bcb3fe00> True (375, 300, 3)\n",
      "<Slide, name = 1666>, width=300, height=375, channels=3, levels=1, RGB=True, dtype=uint8> <valis.slide_io.VipsSlideReader object at 0x7f11bd5ff470> True (375, 300, 3)\n",
      "<Slide, name = 1667>, width=300, height=375, channels=3, levels=1, RGB=True, dtype=uint8> <valis.slide_io.VipsSlideReader object at 0x7f11bd5ffdd0> True (375, 300, 3)\n",
      "<Slide, name = 1668>, width=300, height=375, channels=3, levels=1, RGB=True, dtype=uint8> <valis.slide_io.VipsSlideReader object at 0x7f11bcb4fe30> True (375, 300, 3)\n",
      "<Slide, name = 1669>, width=300, height=375, channels=3, levels=1, RGB=True, dtype=uint8> <valis.slide_io.VipsSlideReader object at 0x7f11bc3a7fe0> True (375, 300, 3)\n",
      "<Slide, name = 1670>, width=300, height=375, channels=3, levels=1, RGB=True, dtype=uint8> <valis.slide_io.VipsSlideReader object at 0x7f11bd5ffcb0> True (375, 300, 3)\n",
      "<Slide, name = 1671>, width=300, height=375, channels=3, levels=1, RGB=True, dtype=uint8> <valis.slide_io.VipsSlideReader object at 0x7f11bcb3fa70> True (375, 300, 3)\n",
      "<Slide, name = 1672>, width=300, height=375, channels=3, levels=1, RGB=True, dtype=uint8> <valis.slide_io.VipsSlideReader object at 0x7f11bccb7ec0> True (375, 300, 3)\n",
      "<Slide, name = 1673>, width=300, height=375, channels=3, levels=1, RGB=True, dtype=uint8> <valis.slide_io.VipsSlideReader object at 0x7f11bd5ffb90> True (375, 300, 3)\n",
      "<Slide, name = 1674>, width=300, height=375, channels=3, levels=1, RGB=True, dtype=uint8> <valis.slide_io.VipsSlideReader object at 0x7f11bd5ffa40> True (375, 300, 3)\n"
     ]
    },
    {
     "name": "stderr",
     "output_type": "stream",
     "text": [
      "Converting images:  63%|██████▎   | 1646/2627 [00:18<00:10, 92.04image/s]"
     ]
    },
    {
     "name": "stdout",
     "output_type": "stream",
     "text": [
      "<Slide, name = 1675>, width=300, height=375, channels=3, levels=1, RGB=True, dtype=uint8> <valis.slide_io.VipsSlideReader object at 0x7f11bd5ffe60> True (375, 300, 3)\n",
      "<Slide, name = 1676>, width=300, height=375, channels=3, levels=1, RGB=True, dtype=uint8> <valis.slide_io.VipsSlideReader object at 0x7f11bc3a8230> True (375, 300, 3)\n",
      "<Slide, name = 1677>, width=300, height=375, channels=3, levels=1, RGB=True, dtype=uint8> <valis.slide_io.VipsSlideReader object at 0x7f11b83a0080> True (375, 300, 3)\n",
      "<Slide, name = 1678>, width=300, height=375, channels=3, levels=1, RGB=True, dtype=uint8> <valis.slide_io.VipsSlideReader object at 0x7f11b83a01d0> True (375, 300, 3)\n",
      "<Slide, name = 1679>, width=300, height=375, channels=3, levels=1, RGB=True, dtype=uint8> <valis.slide_io.VipsSlideReader object at 0x7f11bcb70170> True (375, 300, 3)\n",
      "<Slide, name = 1680>, width=300, height=375, channels=3, levels=1, RGB=True, dtype=uint8> <valis.slide_io.VipsSlideReader object at 0x7f11bcb70470> True (375, 300, 3)\n",
      "<Slide, name = 1681>, width=300, height=375, channels=3, levels=1, RGB=True, dtype=uint8> <valis.slide_io.VipsSlideReader object at 0x7f11bcb680e0> True (375, 300, 3)\n",
      "<Slide, name = 1682>, width=300, height=375, channels=3, levels=1, RGB=True, dtype=uint8> <valis.slide_io.VipsSlideReader object at 0x7f11bcb68440> True (375, 300, 3)\n",
      "<Slide, name = 1683>, width=300, height=375, channels=3, levels=1, RGB=True, dtype=uint8> <valis.slide_io.VipsSlideReader object at 0x7f11bcb704a0> True (375, 300, 3)\n",
      "<Slide, name = 1684>, width=300, height=375, channels=3, levels=1, RGB=True, dtype=uint8> <valis.slide_io.VipsSlideReader object at 0x7f11b83a0290> True (375, 300, 3)\n"
     ]
    },
    {
     "name": "stderr",
     "output_type": "stream",
     "text": [
      "Converting images:  63%|██████▎   | 1656/2627 [00:18<00:10, 92.14image/s]"
     ]
    },
    {
     "name": "stdout",
     "output_type": "stream",
     "text": [
      "<Slide, name = 1685>, width=300, height=375, channels=3, levels=1, RGB=True, dtype=uint8> <valis.slide_io.VipsSlideReader object at 0x7f11bcb68530> True (375, 300, 3)\n",
      "<Slide, name = 1686>, width=300, height=375, channels=3, levels=1, RGB=True, dtype=uint8> <valis.slide_io.VipsSlideReader object at 0x7f11b83a0140> True (375, 300, 3)\n",
      "<Slide, name = 1687>, width=300, height=375, channels=3, levels=1, RGB=True, dtype=uint8> <valis.slide_io.VipsSlideReader object at 0x7f11bc3a85f0> True (375, 300, 3)\n",
      "<Slide, name = 1688>, width=300, height=375, channels=3, levels=1, RGB=True, dtype=uint8> <valis.slide_io.VipsSlideReader object at 0x7f11bc3a82c0> True (375, 300, 3)\n",
      "<Slide, name = 1689>, width=300, height=375, channels=3, levels=1, RGB=True, dtype=uint8> <valis.slide_io.VipsSlideReader object at 0x7f11bcb286b0> True (375, 300, 3)\n",
      "<Slide, name = 1690>, width=300, height=375, channels=3, levels=1, RGB=True, dtype=uint8> <valis.slide_io.VipsSlideReader object at 0x7f11b83a0590> True (375, 300, 3)\n",
      "<Slide, name = 1691>, width=300, height=375, channels=3, levels=1, RGB=True, dtype=uint8> <valis.slide_io.VipsSlideReader object at 0x7f11bc3a8770> True (375, 300, 3)\n",
      "<Slide, name = 1692>, width=300, height=375, channels=3, levels=1, RGB=True, dtype=uint8> <valis.slide_io.VipsSlideReader object at 0x7f11b83a07a0> True (375, 300, 3)\n",
      "<Slide, name = 1693>, width=300, height=375, channels=3, levels=1, RGB=True, dtype=uint8> <valis.slide_io.VipsSlideReader object at 0x7f11bc3a8830> True (375, 300, 3)\n",
      "<Slide, name = 1694>, width=300, height=375, channels=3, levels=1, RGB=True, dtype=uint8> <valis.slide_io.VipsSlideReader object at 0x7f11b83a0920> True (375, 300, 3)\n"
     ]
    },
    {
     "name": "stderr",
     "output_type": "stream",
     "text": [
      "Converting images:  63%|██████▎   | 1666/2627 [00:18<00:10, 92.52image/s]"
     ]
    },
    {
     "name": "stdout",
     "output_type": "stream",
     "text": [
      "<Slide, name = 1695>, width=300, height=375, channels=3, levels=1, RGB=True, dtype=uint8> <valis.slide_io.VipsSlideReader object at 0x7f11bc3a88f0> True (375, 300, 3)\n",
      "<Slide, name = 1696>, width=300, height=375, channels=3, levels=1, RGB=True, dtype=uint8> <valis.slide_io.VipsSlideReader object at 0x7f11b83a09e0> True (375, 300, 3)\n",
      "<Slide, name = 1697>, width=300, height=375, channels=3, levels=1, RGB=True, dtype=uint8> <valis.slide_io.VipsSlideReader object at 0x7f11bc3a89b0> True (375, 300, 3)\n",
      "<Slide, name = 1698>, width=300, height=375, channels=3, levels=1, RGB=True, dtype=uint8> <valis.slide_io.VipsSlideReader object at 0x7f11b83a0aa0> True (375, 300, 3)\n",
      "<Slide, name = 1699>, width=300, height=375, channels=3, levels=1, RGB=True, dtype=uint8> <valis.slide_io.VipsSlideReader object at 0x7f11bc3a8a70> True (375, 300, 3)\n",
      "<Slide, name = 1700>, width=300, height=375, channels=3, levels=1, RGB=True, dtype=uint8> <valis.slide_io.VipsSlideReader object at 0x7f11b83a0b60> True (375, 300, 3)\n",
      "<Slide, name = 1701>, width=300, height=375, channels=3, levels=1, RGB=True, dtype=uint8> <valis.slide_io.VipsSlideReader object at 0x7f11bc3a8b30> True (375, 300, 3)\n",
      "<Slide, name = 1702>, width=300, height=375, channels=3, levels=1, RGB=True, dtype=uint8> <valis.slide_io.VipsSlideReader object at 0x7f11b83a0c20> True (375, 300, 3)\n",
      "<Slide, name = 1703>, width=300, height=375, channels=3, levels=1, RGB=True, dtype=uint8> <valis.slide_io.VipsSlideReader object at 0x7f11bc3a8bf0> True (375, 300, 3)\n",
      "<Slide, name = 1704>, width=300, height=375, channels=3, levels=1, RGB=True, dtype=uint8> <valis.slide_io.VipsSlideReader object at 0x7f11bc3a0b90> True (375, 300, 3)\n"
     ]
    },
    {
     "name": "stderr",
     "output_type": "stream",
     "text": [
      "Converting images:  64%|██████▍   | 1676/2627 [00:18<00:10, 93.11image/s]"
     ]
    },
    {
     "name": "stdout",
     "output_type": "stream",
     "text": [
      "<Slide, name = 1705>, width=300, height=375, channels=3, levels=1, RGB=True, dtype=uint8> <valis.slide_io.VipsSlideReader object at 0x7f11bc3a0bc0> True (375, 300, 3)\n",
      "<Slide, name = 1706>, width=300, height=375, channels=3, levels=1, RGB=True, dtype=uint8> <valis.slide_io.VipsSlideReader object at 0x7f11b83a0650> True (375, 300, 3)\n",
      "<Slide, name = 1707>, width=300, height=375, channels=3, levels=1, RGB=True, dtype=uint8> <valis.slide_io.VipsSlideReader object at 0x7f11bc3a8e00> True (375, 300, 3)\n",
      "<Slide, name = 1708>, width=300, height=375, channels=3, levels=1, RGB=True, dtype=uint8> <valis.slide_io.VipsSlideReader object at 0x7f11bc3a8ef0> True (375, 300, 3)\n",
      "<Slide, name = 1709>, width=300, height=375, channels=3, levels=1, RGB=True, dtype=uint8> <valis.slide_io.VipsSlideReader object at 0x7f11b83a0ad0> True (375, 300, 3)\n",
      "<Slide, name = 1710>, width=300, height=375, channels=3, levels=1, RGB=True, dtype=uint8> <valis.slide_io.VipsSlideReader object at 0x7f11bcb30ec0> True (375, 300, 3)\n",
      "<Slide, name = 1711>, width=300, height=375, channels=3, levels=1, RGB=True, dtype=uint8> <valis.slide_io.VipsSlideReader object at 0x7f11b83a0890> True (375, 300, 3)\n",
      "<Slide, name = 1712>, width=300, height=375, channels=3, levels=1, RGB=True, dtype=uint8> <valis.slide_io.VipsSlideReader object at 0x7f11b83a0f50> True (375, 300, 3)\n",
      "<Slide, name = 1713>, width=300, height=375, channels=3, levels=1, RGB=True, dtype=uint8> <valis.slide_io.VipsSlideReader object at 0x7f11bcb71100> True (375, 300, 3)\n",
      "<Slide, name = 1714>, width=300, height=375, channels=3, levels=1, RGB=True, dtype=uint8> <valis.slide_io.VipsSlideReader object at 0x7f11bc3a8f20> True (375, 300, 3)\n"
     ]
    },
    {
     "name": "stderr",
     "output_type": "stream",
     "text": [
      "Converting images:  64%|██████▍   | 1686/2627 [00:18<00:10, 92.62image/s]"
     ]
    },
    {
     "name": "stdout",
     "output_type": "stream",
     "text": [
      "<Slide, name = 1715>, width=300, height=375, channels=3, levels=1, RGB=True, dtype=uint8> <valis.slide_io.VipsSlideReader object at 0x7f11b83a0e30> True (375, 300, 3)\n",
      "<Slide, name = 1716>, width=300, height=375, channels=3, levels=1, RGB=True, dtype=uint8> <valis.slide_io.VipsSlideReader object at 0x7f11bc3a1130> True (375, 300, 3)\n",
      "<Slide, name = 1717>, width=300, height=375, channels=3, levels=1, RGB=True, dtype=uint8> <valis.slide_io.VipsSlideReader object at 0x7f11b83a0fe0> True (375, 300, 3)\n",
      "<Slide, name = 1718>, width=300, height=375, channels=3, levels=1, RGB=True, dtype=uint8> <valis.slide_io.VipsSlideReader object at 0x7f11bc3a91c0> True (375, 300, 3)\n",
      "<Slide, name = 1719>, width=300, height=375, channels=3, levels=1, RGB=True, dtype=uint8> <valis.slide_io.VipsSlideReader object at 0x7f11b83a12b0> True (375, 300, 3)\n",
      "<Slide, name = 1720>, width=300, height=375, channels=3, levels=1, RGB=True, dtype=uint8> <valis.slide_io.VipsSlideReader object at 0x7f11bc3a9280> True (375, 300, 3)\n",
      "<Slide, name = 1721>, width=300, height=375, channels=3, levels=1, RGB=True, dtype=uint8> <valis.slide_io.VipsSlideReader object at 0x7f11bc3a1160> True (375, 300, 3)\n",
      "<Slide, name = 1722>, width=300, height=375, channels=3, levels=1, RGB=True, dtype=uint8> <valis.slide_io.VipsSlideReader object at 0x7f11bc3a9340> True (375, 300, 3)\n",
      "<Slide, name = 1723>, width=300, height=375, channels=3, levels=1, RGB=True, dtype=uint8> <valis.slide_io.VipsSlideReader object at 0x7f11bc3a93a0> True (375, 300, 3)\n",
      "<Slide, name = 1724>, width=300, height=375, channels=3, levels=1, RGB=True, dtype=uint8> <valis.slide_io.VipsSlideReader object at 0x7f11bc3a1400> True (375, 300, 3)\n"
     ]
    },
    {
     "name": "stderr",
     "output_type": "stream",
     "text": [
      "Converting images:  65%|██████▍   | 1696/2627 [00:18<00:10, 91.88image/s]"
     ]
    },
    {
     "name": "stdout",
     "output_type": "stream",
     "text": [
      "<Slide, name = 1725>, width=300, height=375, channels=3, levels=1, RGB=True, dtype=uint8> <valis.slide_io.VipsSlideReader object at 0x7f11bc3a1460> True (375, 300, 3)\n",
      "<Slide, name = 1726>, width=300, height=375, channels=3, levels=1, RGB=True, dtype=uint8> <valis.slide_io.VipsSlideReader object at 0x7f11bc3a14c0> True (375, 300, 3)\n",
      "<Slide, name = 1727>, width=300, height=375, channels=3, levels=1, RGB=True, dtype=uint8> <valis.slide_io.VipsSlideReader object at 0x7f11bc3a9520> True (375, 300, 3)\n",
      "<Slide, name = 1728>, width=300, height=375, channels=3, levels=1, RGB=True, dtype=uint8> <valis.slide_io.VipsSlideReader object at 0x7f11bc3a9580> True (375, 300, 3)\n",
      "<Slide, name = 1729>, width=300, height=375, channels=3, levels=1, RGB=True, dtype=uint8> <valis.slide_io.VipsSlideReader object at 0x7f11bcb695e0> True (375, 300, 3)\n",
      "<Slide, name = 1730>, width=300, height=375, channels=3, levels=1, RGB=True, dtype=uint8> <valis.slide_io.VipsSlideReader object at 0x7f11bcb71640> True (375, 300, 3)\n",
      "<Slide, name = 1731>, width=300, height=375, channels=3, levels=1, RGB=True, dtype=uint8> <valis.slide_io.VipsSlideReader object at 0x7f11bcb696a0> True (375, 300, 3)\n",
      "<Slide, name = 1732>, width=300, height=375, channels=3, levels=1, RGB=True, dtype=uint8> <valis.slide_io.VipsSlideReader object at 0x7f11bcb69700> True (375, 300, 3)\n",
      "<Slide, name = 1733>, width=300, height=375, channels=3, levels=1, RGB=True, dtype=uint8> <valis.slide_io.VipsSlideReader object at 0x7f11bcb71760> True (375, 300, 3)\n",
      "<Slide, name = 1734>, width=300, height=375, channels=3, levels=1, RGB=True, dtype=uint8> <valis.slide_io.VipsSlideReader object at 0x7f11bc3a97c0> True (375, 300, 3)\n"
     ]
    },
    {
     "name": "stderr",
     "output_type": "stream",
     "text": [
      "Converting images:  65%|██████▍   | 1706/2627 [00:18<00:10, 91.40image/s]"
     ]
    },
    {
     "name": "stdout",
     "output_type": "stream",
     "text": [
      "<Slide, name = 1735>, width=300, height=375, channels=3, levels=1, RGB=True, dtype=uint8> <valis.slide_io.VipsSlideReader object at 0x7f11bcb69820> True (375, 300, 3)\n",
      "<Slide, name = 1736>, width=300, height=375, channels=3, levels=1, RGB=True, dtype=uint8> <valis.slide_io.VipsSlideReader object at 0x7f11bc3a9880> True (375, 300, 3)\n",
      "<Slide, name = 1737>, width=300, height=375, channels=3, levels=1, RGB=True, dtype=uint8> <valis.slide_io.VipsSlideReader object at 0x7f11bc3a98e0> True (375, 300, 3)\n",
      "<Slide, name = 1738>, width=300, height=375, channels=3, levels=1, RGB=True, dtype=uint8> <valis.slide_io.VipsSlideReader object at 0x7f11bc3a9940> True (375, 300, 3)\n",
      "<Slide, name = 1739>, width=300, height=375, channels=3, levels=1, RGB=True, dtype=uint8> <valis.slide_io.VipsSlideReader object at 0x7f11b83a1250> True (375, 300, 3)\n",
      "<Slide, name = 1740>, width=300, height=375, channels=3, levels=1, RGB=True, dtype=uint8> <valis.slide_io.VipsSlideReader object at 0x7f11b83a1a00> True (375, 300, 3)\n",
      "<Slide, name = 1741>, width=300, height=375, channels=3, levels=1, RGB=True, dtype=uint8> <valis.slide_io.VipsSlideReader object at 0x7f11bcb71bb0> True (375, 300, 3)\n",
      "<Slide, name = 1742>, width=300, height=375, channels=3, levels=1, RGB=True, dtype=uint8> <valis.slide_io.VipsSlideReader object at 0x7f11bcb692e0> True (375, 300, 3)\n",
      "<Slide, name = 1743>, width=300, height=375, channels=3, levels=1, RGB=True, dtype=uint8> <valis.slide_io.VipsSlideReader object at 0x7f11bcb69b80> True (375, 300, 3)\n",
      "<Slide, name = 1744>, width=300, height=375, channels=3, levels=1, RGB=True, dtype=uint8> <valis.slide_io.VipsSlideReader object at 0x7f11bc3a9be0> True (375, 300, 3)\n"
     ]
    },
    {
     "name": "stderr",
     "output_type": "stream",
     "text": [
      "Converting images:  65%|██████▌   | 1716/2627 [00:18<00:09, 91.58image/s]"
     ]
    },
    {
     "name": "stdout",
     "output_type": "stream",
     "text": [
      "<Slide, name = 1745>, width=300, height=375, channels=3, levels=1, RGB=True, dtype=uint8> <valis.slide_io.VipsSlideReader object at 0x7f11b83a1ac0> True (375, 300, 3)\n",
      "<Slide, name = 1746>, width=300, height=375, channels=3, levels=1, RGB=True, dtype=uint8> <valis.slide_io.VipsSlideReader object at 0x7f11bcb69c70> True (375, 300, 3)\n",
      "<Slide, name = 1747>, width=300, height=375, channels=3, levels=1, RGB=True, dtype=uint8> <valis.slide_io.VipsSlideReader object at 0x7f11bc3a1430> True (375, 300, 3)\n",
      "<Slide, name = 1748>, width=300, height=375, channels=3, levels=1, RGB=True, dtype=uint8> <valis.slide_io.VipsSlideReader object at 0x7f11bc3a9d30> True (375, 300, 3)\n",
      "<Slide, name = 1749>, width=300, height=375, channels=3, levels=1, RGB=True, dtype=uint8> <valis.slide_io.VipsSlideReader object at 0x7f11b83a1c40> True (375, 300, 3)\n",
      "<Slide, name = 1750>, width=300, height=375, channels=3, levels=1, RGB=True, dtype=uint8> <valis.slide_io.VipsSlideReader object at 0x7f11b83a1d90> True (375, 300, 3)\n",
      "<Slide, name = 1751>, width=300, height=375, channels=3, levels=1, RGB=True, dtype=uint8> <valis.slide_io.VipsSlideReader object at 0x7f11bc3a1dc0> True (375, 300, 3)\n",
      "<Slide, name = 1752>, width=300, height=375, channels=3, levels=1, RGB=True, dtype=uint8> <valis.slide_io.VipsSlideReader object at 0x7f11b83a2000> True (375, 300, 3)\n",
      "<Slide, name = 1753>, width=300, height=375, channels=3, levels=1, RGB=True, dtype=uint8> <valis.slide_io.VipsSlideReader object at 0x7f11bc3a1e80> True (375, 300, 3)\n",
      "<Slide, name = 1754>, width=300, height=375, channels=3, levels=1, RGB=True, dtype=uint8> <valis.slide_io.VipsSlideReader object at 0x7f11b83a1190> True (375, 300, 3)\n"
     ]
    },
    {
     "name": "stderr",
     "output_type": "stream",
     "text": [
      "Converting images:  66%|██████▌   | 1726/2627 [00:18<00:09, 91.56image/s]"
     ]
    },
    {
     "name": "stdout",
     "output_type": "stream",
     "text": [
      "<Slide, name = 1755>, width=300, height=375, channels=3, levels=1, RGB=True, dtype=uint8> <valis.slide_io.VipsSlideReader object at 0x7f11b83a1cd0> True (375, 300, 3)\n",
      "<Slide, name = 1756>, width=300, height=375, channels=3, levels=1, RGB=True, dtype=uint8> <valis.slide_io.VipsSlideReader object at 0x7f11b83a1fd0> True (375, 300, 3)\n",
      "<Slide, name = 1757>, width=300, height=375, channels=3, levels=1, RGB=True, dtype=uint8> <valis.slide_io.VipsSlideReader object at 0x7f11bcb72180> True (375, 300, 3)\n",
      "<Slide, name = 1758>, width=300, height=375, channels=3, levels=1, RGB=True, dtype=uint8> <valis.slide_io.VipsSlideReader object at 0x7f11bc3a2240> True (375, 300, 3)\n",
      "<Slide, name = 1759>, width=300, height=375, channels=3, levels=1, RGB=True, dtype=uint8> <valis.slide_io.VipsSlideReader object at 0x7f11bcb6a120> True (375, 300, 3)\n",
      "<Slide, name = 1760>, width=300, height=375, channels=3, levels=1, RGB=True, dtype=uint8> <valis.slide_io.VipsSlideReader object at 0x7f11b83a20f0> True (375, 300, 3)\n",
      "<Slide, name = 1761>, width=300, height=375, channels=3, levels=1, RGB=True, dtype=uint8> <valis.slide_io.VipsSlideReader object at 0x7f11bc3aa270> True (375, 300, 3)\n",
      "<Slide, name = 1762>, width=300, height=375, channels=3, levels=1, RGB=True, dtype=uint8> <valis.slide_io.VipsSlideReader object at 0x7f11b83a2030> True (375, 300, 3)\n",
      "<Slide, name = 1763>, width=300, height=375, channels=3, levels=1, RGB=True, dtype=uint8> <valis.slide_io.VipsSlideReader object at 0x7f11bc3a2300> True (375, 300, 3)\n",
      "<Slide, name = 1764>, width=300, height=375, channels=3, levels=1, RGB=True, dtype=uint8> <valis.slide_io.VipsSlideReader object at 0x7f11b83a23f0> True (375, 300, 3)\n"
     ]
    },
    {
     "name": "stderr",
     "output_type": "stream",
     "text": [
      "Converting images:  66%|██████▌   | 1736/2627 [00:19<00:09, 91.98image/s]"
     ]
    },
    {
     "name": "stdout",
     "output_type": "stream",
     "text": [
      "<Slide, name = 1765>, width=300, height=375, channels=3, levels=1, RGB=True, dtype=uint8> <valis.slide_io.VipsSlideReader object at 0x7f11bc3a23c0> True (375, 300, 3)\n",
      "<Slide, name = 1766>, width=300, height=375, channels=3, levels=1, RGB=True, dtype=uint8> <valis.slide_io.VipsSlideReader object at 0x7f11bc3a22a0> True (375, 300, 3)\n",
      "<Slide, name = 1767>, width=300, height=375, channels=3, levels=1, RGB=True, dtype=uint8> <valis.slide_io.VipsSlideReader object at 0x7f11bc3a2480> True (375, 300, 3)\n",
      "<Slide, name = 1768>, width=300, height=375, channels=3, levels=1, RGB=True, dtype=uint8> <valis.slide_io.VipsSlideReader object at 0x7f11bc3a24e0> True (375, 300, 3)\n",
      "<Slide, name = 1769>, width=300, height=375, channels=3, levels=1, RGB=True, dtype=uint8> <valis.slide_io.VipsSlideReader object at 0x7f11bc3a2540> True (375, 300, 3)\n",
      "<Slide, name = 1770>, width=300, height=375, channels=3, levels=1, RGB=True, dtype=uint8> <valis.slide_io.VipsSlideReader object at 0x7f11bc3a25a0> True (375, 300, 3)\n",
      "<Slide, name = 1771>, width=300, height=375, channels=3, levels=1, RGB=True, dtype=uint8> <valis.slide_io.VipsSlideReader object at 0x7f11bc3a2600> True (375, 300, 3)\n",
      "<Slide, name = 1772>, width=300, height=375, channels=3, levels=1, RGB=True, dtype=uint8> <valis.slide_io.VipsSlideReader object at 0x7f11bc3a2660> True (375, 300, 3)\n",
      "<Slide, name = 1773>, width=300, height=375, channels=3, levels=1, RGB=True, dtype=uint8> <valis.slide_io.VipsSlideReader object at 0x7f11bc3a26c0> True (375, 300, 3)\n",
      "<Slide, name = 1774>, width=300, height=375, channels=3, levels=1, RGB=True, dtype=uint8> <valis.slide_io.VipsSlideReader object at 0x7f11bc3a2720> True (375, 300, 3)\n"
     ]
    },
    {
     "name": "stderr",
     "output_type": "stream",
     "text": [
      "Converting images:  66%|██████▋   | 1746/2627 [00:19<00:09, 92.58image/s]"
     ]
    },
    {
     "name": "stdout",
     "output_type": "stream",
     "text": [
      "<Slide, name = 1775>, width=300, height=375, channels=3, levels=1, RGB=True, dtype=uint8> <valis.slide_io.VipsSlideReader object at 0x7f11bc3a2780> True (375, 300, 3)\n",
      "<Slide, name = 1776>, width=300, height=375, channels=3, levels=1, RGB=True, dtype=uint8> <valis.slide_io.VipsSlideReader object at 0x7f11bc3a27e0> True (375, 300, 3)\n",
      "<Slide, name = 1777>, width=300, height=375, channels=3, levels=1, RGB=True, dtype=uint8> <valis.slide_io.VipsSlideReader object at 0x7f11bc3a2840> True (375, 300, 3)\n",
      "<Slide, name = 1778>, width=300, height=375, channels=3, levels=1, RGB=True, dtype=uint8> <valis.slide_io.VipsSlideReader object at 0x7f11bc3a28a0> True (375, 300, 3)\n",
      "<Slide, name = 1779>, width=300, height=375, channels=3, levels=1, RGB=True, dtype=uint8> <valis.slide_io.VipsSlideReader object at 0x7f11bc3a2900> True (375, 300, 3)\n",
      "<Slide, name = 1780>, width=300, height=375, channels=3, levels=1, RGB=True, dtype=uint8> <valis.slide_io.VipsSlideReader object at 0x7f11bc3a2960> True (375, 300, 3)\n",
      "<Slide, name = 1781>, width=300, height=375, channels=3, levels=1, RGB=True, dtype=uint8> <valis.slide_io.VipsSlideReader object at 0x7f11bcb729c0> True (375, 300, 3)\n",
      "<Slide, name = 1782>, width=300, height=375, channels=3, levels=1, RGB=True, dtype=uint8> <valis.slide_io.VipsSlideReader object at 0x7f11bc3a2a20> True (375, 300, 3)\n",
      "<Slide, name = 1783>, width=300, height=375, channels=3, levels=1, RGB=True, dtype=uint8> <valis.slide_io.VipsSlideReader object at 0x7f11bc3a2a80> True (375, 300, 3)\n",
      "<Slide, name = 1784>, width=300, height=375, channels=3, levels=1, RGB=True, dtype=uint8> <valis.slide_io.VipsSlideReader object at 0x7f11bc3aaae0> True (375, 300, 3)\n"
     ]
    },
    {
     "name": "stderr",
     "output_type": "stream",
     "text": [
      "Converting images:  67%|██████▋   | 1756/2627 [00:19<00:09, 93.10image/s]"
     ]
    },
    {
     "name": "stdout",
     "output_type": "stream",
     "text": [
      "<Slide, name = 1785>, width=300, height=375, channels=3, levels=1, RGB=True, dtype=uint8> <valis.slide_io.VipsSlideReader object at 0x7f11bc3aab40> True (375, 300, 3)\n",
      "<Slide, name = 1786>, width=300, height=375, channels=3, levels=1, RGB=True, dtype=uint8> <valis.slide_io.VipsSlideReader object at 0x7f11b83a24b0> True (375, 300, 3)\n",
      "<Slide, name = 1787>, width=300, height=375, channels=3, levels=1, RGB=True, dtype=uint8> <valis.slide_io.VipsSlideReader object at 0x7f11b83a2c00> True (375, 300, 3)\n",
      "<Slide, name = 1788>, width=300, height=375, channels=3, levels=1, RGB=True, dtype=uint8> <valis.slide_io.VipsSlideReader object at 0x7f11bc3aadb0> True (375, 300, 3)\n",
      "<Slide, name = 1789>, width=300, height=375, channels=3, levels=1, RGB=True, dtype=uint8> <valis.slide_io.VipsSlideReader object at 0x7f11bc3a2420> True (375, 300, 3)\n",
      "<Slide, name = 1790>, width=300, height=375, channels=3, levels=1, RGB=True, dtype=uint8> <valis.slide_io.VipsSlideReader object at 0x7f11bc3a2d80> True (375, 300, 3)\n",
      "<Slide, name = 1791>, width=300, height=375, channels=3, levels=1, RGB=True, dtype=uint8> <valis.slide_io.VipsSlideReader object at 0x7f11bc3a2de0> True (375, 300, 3)\n",
      "<Slide, name = 1792>, width=300, height=375, channels=3, levels=1, RGB=True, dtype=uint8> <valis.slide_io.VipsSlideReader object at 0x7f11b83a2cc0> True (375, 300, 3)\n",
      "<Slide, name = 1793>, width=300, height=375, channels=3, levels=1, RGB=True, dtype=uint8> <valis.slide_io.VipsSlideReader object at 0x7f11bc3aae70> True (375, 300, 3)\n",
      "<Slide, name = 1794>, width=300, height=375, channels=3, levels=1, RGB=True, dtype=uint8> <valis.slide_io.VipsSlideReader object at 0x7f11bc3aa570> True (375, 300, 3)\n"
     ]
    },
    {
     "name": "stderr",
     "output_type": "stream",
     "text": [
      "Converting images:  67%|██████▋   | 1766/2627 [00:19<00:09, 91.84image/s]"
     ]
    },
    {
     "name": "stdout",
     "output_type": "stream",
     "text": [
      "<Slide, name = 1795>, width=300, height=375, channels=3, levels=1, RGB=True, dtype=uint8> <valis.slide_io.VipsSlideReader object at 0x7f11bc3aaf30> True (375, 300, 3)\n",
      "<Slide, name = 1796>, width=300, height=375, channels=3, levels=1, RGB=True, dtype=uint8> <valis.slide_io.VipsSlideReader object at 0x7f11b83a2e40> True (375, 300, 3)\n",
      "<Slide, name = 1797>, width=300, height=375, channels=3, levels=1, RGB=True, dtype=uint8> <valis.slide_io.VipsSlideReader object at 0x7f11bd1baff0> True (375, 300, 3)\n",
      "<Slide, name = 1798>, width=300, height=375, channels=3, levels=1, RGB=True, dtype=uint8> <valis.slide_io.VipsSlideReader object at 0x7f11b83a3020> True (375, 300, 3)\n",
      "<Slide, name = 1799>, width=300, height=375, channels=3, levels=1, RGB=True, dtype=uint8> <valis.slide_io.VipsSlideReader object at 0x7f11bcb6b0b0> True (375, 300, 3)\n",
      "<Slide, name = 1800>, width=300, height=375, channels=3, levels=1, RGB=True, dtype=uint8> <valis.slide_io.VipsSlideReader object at 0x7f11b83a31a0> True (375, 300, 3)\n",
      "<Slide, name = 1801>, width=300, height=375, channels=3, levels=1, RGB=True, dtype=uint8> <valis.slide_io.VipsSlideReader object at 0x7f11bc3ab170> True (375, 300, 3)\n",
      "<Slide, name = 1802>, width=300, height=375, channels=3, levels=1, RGB=True, dtype=uint8> <valis.slide_io.VipsSlideReader object at 0x7f11b83a3260> True (375, 300, 3)\n",
      "<Slide, name = 1803>, width=300, height=375, channels=3, levels=1, RGB=True, dtype=uint8> <valis.slide_io.VipsSlideReader object at 0x7f11b83a2f90> True (375, 300, 3)\n",
      "<Slide, name = 1804>, width=300, height=375, channels=3, levels=1, RGB=True, dtype=uint8> <valis.slide_io.VipsSlideReader object at 0x7f11bc3ab320> True (375, 300, 3)\n"
     ]
    },
    {
     "name": "stderr",
     "output_type": "stream",
     "text": [
      "Converting images:  68%|██████▊   | 1776/2627 [00:19<00:09, 90.75image/s]"
     ]
    },
    {
     "name": "stdout",
     "output_type": "stream",
     "text": [
      "<Slide, name = 1805>, width=300, height=375, channels=3, levels=1, RGB=True, dtype=uint8> <valis.slide_io.VipsSlideReader object at 0x7f1370c7b290> True (375, 300, 3)\n",
      "<Slide, name = 1806>, width=300, height=375, channels=3, levels=1, RGB=True, dtype=uint8> <valis.slide_io.VipsSlideReader object at 0x7f11b83a3200> True (375, 300, 3)\n",
      "<Slide, name = 1807>, width=300, height=375, channels=3, levels=1, RGB=True, dtype=uint8> <valis.slide_io.VipsSlideReader object at 0x7f11bc3a33b0> True (375, 300, 3)\n",
      "<Slide, name = 1808>, width=300, height=375, channels=3, levels=1, RGB=True, dtype=uint8> <valis.slide_io.VipsSlideReader object at 0x7f11bcb73230> True (375, 300, 3)\n",
      "<Slide, name = 1809>, width=300, height=375, channels=3, levels=1, RGB=True, dtype=uint8> <valis.slide_io.VipsSlideReader object at 0x7f11bcb73470> True (375, 300, 3)\n",
      "<Slide, name = 1810>, width=300, height=375, channels=3, levels=1, RGB=True, dtype=uint8> <valis.slide_io.VipsSlideReader object at 0x7f11b83a3440> True (375, 300, 3)\n",
      "<Slide, name = 1811>, width=300, height=375, channels=3, levels=1, RGB=True, dtype=uint8> <valis.slide_io.VipsSlideReader object at 0x7f11b83a34d0> True (375, 300, 3)\n",
      "<Slide, name = 1812>, width=300, height=375, channels=3, levels=1, RGB=True, dtype=uint8> <valis.slide_io.VipsSlideReader object at 0x7f11b83a3530> True (375, 300, 3)\n",
      "<Slide, name = 1813>, width=300, height=375, channels=3, levels=1, RGB=True, dtype=uint8> <valis.slide_io.VipsSlideReader object at 0x7f11b83a3350> True (375, 300, 3)\n",
      "<Slide, name = 1814>, width=300, height=375, channels=3, levels=1, RGB=True, dtype=uint8> <valis.slide_io.VipsSlideReader object at 0x7f11bc3a3500> True (375, 300, 3)\n"
     ]
    },
    {
     "name": "stderr",
     "output_type": "stream",
     "text": [
      "Converting images:  68%|██████▊   | 1786/2627 [00:19<00:09, 89.85image/s]"
     ]
    },
    {
     "name": "stdout",
     "output_type": "stream",
     "text": [
      "<Slide, name = 1815>, width=300, height=375, channels=3, levels=1, RGB=True, dtype=uint8> <valis.slide_io.VipsSlideReader object at 0x7f11bc3ab110> True (375, 300, 3)\n",
      "<Slide, name = 1816>, width=300, height=375, channels=3, levels=1, RGB=True, dtype=uint8> <valis.slide_io.VipsSlideReader object at 0x7f11b83a35c0> True (375, 300, 3)\n",
      "<Slide, name = 1817>, width=300, height=375, channels=3, levels=1, RGB=True, dtype=uint8> <valis.slide_io.VipsSlideReader object at 0x7f11b83a3710> True (375, 300, 3)\n",
      "<Slide, name = 1818>, width=300, height=375, channels=3, levels=1, RGB=True, dtype=uint8> <valis.slide_io.VipsSlideReader object at 0x7f11bc3ab800> True (375, 300, 3)\n",
      "<Slide, name = 1819>, width=300, height=375, channels=3, levels=1, RGB=True, dtype=uint8> <valis.slide_io.VipsSlideReader object at 0x7f11bc3a3980> True (375, 300, 3)\n",
      "<Slide, name = 1820>, width=300, height=375, channels=3, levels=1, RGB=True, dtype=uint8> <valis.slide_io.VipsSlideReader object at 0x7f11bcb73860> True (375, 300, 3)\n",
      "<Slide, name = 1821>, width=300, height=375, channels=3, levels=1, RGB=True, dtype=uint8> <valis.slide_io.VipsSlideReader object at 0x7f11b83a3830> True (375, 300, 3)\n",
      "<Slide, name = 1822>, width=300, height=375, channels=3, levels=1, RGB=True, dtype=uint8> <valis.slide_io.VipsSlideReader object at 0x7f11bc3ab9b0> True (375, 300, 3)\n",
      "<Slide, name = 1823>, width=300, height=375, channels=3, levels=1, RGB=True, dtype=uint8> <valis.slide_io.VipsSlideReader object at 0x7f11bc3a3620> True (375, 300, 3)\n",
      "<Slide, name = 1824>, width=300, height=375, channels=3, levels=1, RGB=True, dtype=uint8> <valis.slide_io.VipsSlideReader object at 0x7f11bc3aba40> True (375, 300, 3)\n"
     ]
    },
    {
     "name": "stderr",
     "output_type": "stream",
     "text": [
      "Converting images:  68%|██████▊   | 1796/2627 [00:19<00:09, 89.69image/s]"
     ]
    },
    {
     "name": "stdout",
     "output_type": "stream",
     "text": [
      "<Slide, name = 1825>, width=300, height=375, channels=3, levels=1, RGB=True, dtype=uint8> <valis.slide_io.VipsSlideReader object at 0x7f11bc3a3aa0> True (375, 300, 3)\n",
      "<Slide, name = 1826>, width=300, height=375, channels=3, levels=1, RGB=True, dtype=uint8> <valis.slide_io.VipsSlideReader object at 0x7f11bcb63b00> True (375, 300, 3)\n",
      "<Slide, name = 1827>, width=300, height=375, channels=3, levels=1, RGB=True, dtype=uint8> <valis.slide_io.VipsSlideReader object at 0x7f11bc3abb60> True (375, 300, 3)\n",
      "<Slide, name = 1828>, width=300, height=375, channels=3, levels=1, RGB=True, dtype=uint8> <valis.slide_io.VipsSlideReader object at 0x7f11bc3a3bc0> True (375, 300, 3)\n",
      "<Slide, name = 1829>, width=300, height=375, channels=3, levels=1, RGB=True, dtype=uint8> <valis.slide_io.VipsSlideReader object at 0x7f11bc3abc20> True (375, 300, 3)\n",
      "<Slide, name = 1830>, width=300, height=375, channels=3, levels=1, RGB=True, dtype=uint8> <valis.slide_io.VipsSlideReader object at 0x7f11bc3abc80> True (375, 300, 3)\n",
      "<Slide, name = 1831>, width=300, height=375, channels=3, levels=1, RGB=True, dtype=uint8> <valis.slide_io.VipsSlideReader object at 0x7f11bc3abce0> True (375, 300, 3)\n",
      "<Slide, name = 1832>, width=300, height=375, channels=3, levels=1, RGB=True, dtype=uint8> <valis.slide_io.VipsSlideReader object at 0x7f11bc3abd40> True (375, 300, 3)\n",
      "<Slide, name = 1833>, width=300, height=375, channels=3, levels=1, RGB=True, dtype=uint8> <valis.slide_io.VipsSlideReader object at 0x7f11bc3abda0> True (375, 300, 3)\n"
     ]
    },
    {
     "name": "stderr",
     "output_type": "stream",
     "text": [
      "Converting images:  69%|██████▊   | 1805/2627 [00:19<00:09, 88.72image/s]"
     ]
    },
    {
     "name": "stdout",
     "output_type": "stream",
     "text": [
      "<Slide, name = 1834>, width=300, height=375, channels=3, levels=1, RGB=True, dtype=uint8> <valis.slide_io.VipsSlideReader object at 0x7f11bc3ab7a0> True (375, 300, 3)\n",
      "<Slide, name = 1835>, width=300, height=375, channels=3, levels=1, RGB=True, dtype=uint8> <valis.slide_io.VipsSlideReader object at 0x7f11b83a39e0> True (375, 300, 3)\n",
      "<Slide, name = 1836>, width=300, height=375, channels=3, levels=1, RGB=True, dtype=uint8> <valis.slide_io.VipsSlideReader object at 0x7f11b83a3950> True (375, 300, 3)\n",
      "<Slide, name = 1837>, width=300, height=375, channels=3, levels=1, RGB=True, dtype=uint8> <valis.slide_io.VipsSlideReader object at 0x7f11b83a3f20> True (375, 300, 3)\n",
      "<Slide, name = 1838>, width=300, height=375, channels=3, levels=1, RGB=True, dtype=uint8> <valis.slide_io.VipsSlideReader object at 0x7f11b83a3e90> True (375, 300, 3)\n",
      "<Slide, name = 1839>, width=300, height=375, channels=3, levels=1, RGB=True, dtype=uint8> <valis.slide_io.VipsSlideReader object at 0x7f11b83a37d0> True (375, 300, 3)\n",
      "<Slide, name = 1840>, width=300, height=375, channels=3, levels=1, RGB=True, dtype=uint8> <valis.slide_io.VipsSlideReader object at 0x7f11b83a36b0> True (375, 300, 3)\n",
      "<Slide, name = 1841>, width=300, height=375, channels=3, levels=1, RGB=True, dtype=uint8> <valis.slide_io.VipsSlideReader object at 0x7f11bc3abe00> True (375, 300, 3)\n",
      "<Slide, name = 1842>, width=300, height=375, channels=3, levels=1, RGB=True, dtype=uint8> <valis.slide_io.VipsSlideReader object at 0x7f11b83a3fb0> True (375, 300, 3)\n"
     ]
    },
    {
     "name": "stderr",
     "output_type": "stream",
     "text": [
      "Converting images:  69%|██████▉   | 1814/2627 [00:19<00:09, 88.76image/s]"
     ]
    },
    {
     "name": "stdout",
     "output_type": "stream",
     "text": [
      "<Slide, name = 1843>, width=300, height=375, channels=3, levels=1, RGB=True, dtype=uint8> <valis.slide_io.VipsSlideReader object at 0x7f11bcb54200> True (375, 300, 3)\n",
      "<Slide, name = 1844>, width=300, height=375, channels=3, levels=1, RGB=True, dtype=uint8> <valis.slide_io.VipsSlideReader object at 0x7f11b8404140> True (375, 300, 3)\n",
      "<Slide, name = 1845>, width=300, height=375, channels=3, levels=1, RGB=True, dtype=uint8> <valis.slide_io.VipsSlideReader object at 0x7f11b8404110> True (375, 300, 3)\n",
      "<Slide, name = 1846>, width=300, height=375, channels=3, levels=1, RGB=True, dtype=uint8> <valis.slide_io.VipsSlideReader object at 0x7f11bd214170> True (375, 300, 3)\n",
      "<Slide, name = 1847>, width=300, height=375, channels=3, levels=1, RGB=True, dtype=uint8> <valis.slide_io.VipsSlideReader object at 0x7f11bd214230> True (375, 300, 3)\n",
      "<Slide, name = 1848>, width=300, height=375, channels=3, levels=1, RGB=True, dtype=uint8> <valis.slide_io.VipsSlideReader object at 0x7f11bcb6c380> True (375, 300, 3)\n",
      "<Slide, name = 1849>, width=300, height=375, channels=3, levels=1, RGB=True, dtype=uint8> <valis.slide_io.VipsSlideReader object at 0x7f11bc3a43e0> True (375, 300, 3)\n",
      "<Slide, name = 1850>, width=300, height=375, channels=3, levels=1, RGB=True, dtype=uint8> <valis.slide_io.VipsSlideReader object at 0x7f11bc3a4440> True (375, 300, 3)\n",
      "<Slide, name = 1851>, width=300, height=375, channels=3, levels=1, RGB=True, dtype=uint8> <valis.slide_io.VipsSlideReader object at 0x7f11bc3a44a0> True (375, 300, 3)\n",
      "<Slide, name = 1852>, width=300, height=375, channels=3, levels=1, RGB=True, dtype=uint8> <valis.slide_io.VipsSlideReader object at 0x7f11bc3ac500> True (375, 300, 3)\n"
     ]
    },
    {
     "name": "stderr",
     "output_type": "stream",
     "text": [
      "Converting images:  69%|██████▉   | 1824/2627 [00:20<00:08, 89.26image/s]"
     ]
    },
    {
     "name": "stdout",
     "output_type": "stream",
     "text": [
      "<Slide, name = 1853>, width=300, height=375, channels=3, levels=1, RGB=True, dtype=uint8> <valis.slide_io.VipsSlideReader object at 0x7f11b84041d0> True (375, 300, 3)\n",
      "<Slide, name = 1854>, width=300, height=375, channels=3, levels=1, RGB=True, dtype=uint8> <valis.slide_io.VipsSlideReader object at 0x7f11b8404560> True (375, 300, 3)\n",
      "<Slide, name = 1855>, width=300, height=375, channels=3, levels=1, RGB=True, dtype=uint8> <valis.slide_io.VipsSlideReader object at 0x7f11bc3ac320> True (375, 300, 3)\n",
      "<Slide, name = 1856>, width=300, height=375, channels=3, levels=1, RGB=True, dtype=uint8> <valis.slide_io.VipsSlideReader object at 0x7f11b84042c0> True (375, 300, 3)\n",
      "<Slide, name = 1857>, width=300, height=375, channels=3, levels=1, RGB=True, dtype=uint8> <valis.slide_io.VipsSlideReader object at 0x7f11bcce46b0> True (375, 300, 3)\n",
      "<Slide, name = 1858>, width=300, height=375, channels=3, levels=1, RGB=True, dtype=uint8> <valis.slide_io.VipsSlideReader object at 0x7f11bcb64680> True (375, 300, 3)\n",
      "<Slide, name = 1859>, width=300, height=375, channels=3, levels=1, RGB=True, dtype=uint8> <valis.slide_io.VipsSlideReader object at 0x7f11b8404260> True (375, 300, 3)\n",
      "<Slide, name = 1860>, width=300, height=375, channels=3, levels=1, RGB=True, dtype=uint8> <valis.slide_io.VipsSlideReader object at 0x7f11b8404800> True (375, 300, 3)\n",
      "<Slide, name = 1861>, width=300, height=375, channels=3, levels=1, RGB=True, dtype=uint8> <valis.slide_io.VipsSlideReader object at 0x7f11b8404980> True (375, 300, 3)\n",
      "<Slide, name = 1862>, width=300, height=375, channels=3, levels=1, RGB=True, dtype=uint8> <valis.slide_io.VipsSlideReader object at 0x7f11b8404620> True (375, 300, 3)\n"
     ]
    },
    {
     "name": "stderr",
     "output_type": "stream",
     "text": [
      "Converting images:  70%|██████▉   | 1834/2627 [00:20<00:08, 89.66image/s]"
     ]
    },
    {
     "name": "stdout",
     "output_type": "stream",
     "text": [
      "<Slide, name = 1863>, width=300, height=375, channels=3, levels=1, RGB=True, dtype=uint8> <valis.slide_io.VipsSlideReader object at 0x7f11b84047a0> True (375, 300, 3)\n",
      "<Slide, name = 1864>, width=300, height=375, channels=3, levels=1, RGB=True, dtype=uint8> <valis.slide_io.VipsSlideReader object at 0x7f11b8404a40> True (375, 300, 3)\n",
      "<Slide, name = 1865>, width=300, height=375, channels=3, levels=1, RGB=True, dtype=uint8> <valis.slide_io.VipsSlideReader object at 0x7f11b8404aa0> True (375, 300, 3)\n",
      "<Slide, name = 1866>, width=300, height=375, channels=3, levels=1, RGB=True, dtype=uint8> <valis.slide_io.VipsSlideReader object at 0x7f11b8404b00> True (375, 300, 3)\n",
      "<Slide, name = 1867>, width=300, height=375, channels=3, levels=1, RGB=True, dtype=uint8> <valis.slide_io.VipsSlideReader object at 0x7f11b8404b60> True (375, 300, 3)\n",
      "<Slide, name = 1868>, width=300, height=375, channels=3, levels=1, RGB=True, dtype=uint8> <valis.slide_io.VipsSlideReader object at 0x7f11b8404bc0> True (375, 300, 3)\n",
      "<Slide, name = 1869>, width=300, height=375, channels=3, levels=1, RGB=True, dtype=uint8> <valis.slide_io.VipsSlideReader object at 0x7f11b8404c20> True (375, 300, 3)\n",
      "<Slide, name = 1870>, width=300, height=375, channels=3, levels=1, RGB=True, dtype=uint8> <valis.slide_io.VipsSlideReader object at 0x7f11b8404c80> True (375, 300, 3)\n",
      "<Slide, name = 1871>, width=300, height=375, channels=3, levels=1, RGB=True, dtype=uint8> <valis.slide_io.VipsSlideReader object at 0x7f11b8404ce0> True (375, 300, 3)\n"
     ]
    },
    {
     "name": "stderr",
     "output_type": "stream",
     "text": [
      "Converting images:  70%|███████   | 1843/2627 [00:20<00:08, 89.75image/s]"
     ]
    },
    {
     "name": "stdout",
     "output_type": "stream",
     "text": [
      "<Slide, name = 1872>, width=300, height=375, channels=3, levels=1, RGB=True, dtype=uint8> <valis.slide_io.VipsSlideReader object at 0x7f11b8404d40> True (375, 300, 3)\n",
      "<Slide, name = 1873>, width=300, height=375, channels=3, levels=1, RGB=True, dtype=uint8> <valis.slide_io.VipsSlideReader object at 0x7f11b8404da0> True (375, 300, 3)\n",
      "<Slide, name = 1874>, width=300, height=375, channels=3, levels=1, RGB=True, dtype=uint8> <valis.slide_io.VipsSlideReader object at 0x7f11b8404e00> True (375, 300, 3)\n",
      "<Slide, name = 1875>, width=300, height=375, channels=3, levels=1, RGB=True, dtype=uint8> <valis.slide_io.VipsSlideReader object at 0x7f11b8404e60> True (375, 300, 3)\n",
      "<Slide, name = 1876>, width=300, height=375, channels=3, levels=1, RGB=True, dtype=uint8> <valis.slide_io.VipsSlideReader object at 0x7f11b8404ec0> True (375, 300, 3)\n",
      "<Slide, name = 1877>, width=300, height=375, channels=3, levels=1, RGB=True, dtype=uint8> <valis.slide_io.VipsSlideReader object at 0x7f11b8404f20> True (375, 300, 3)\n",
      "<Slide, name = 1878>, width=300, height=375, channels=3, levels=1, RGB=True, dtype=uint8> <valis.slide_io.VipsSlideReader object at 0x7f11b8404f80> True (375, 300, 3)\n",
      "<Slide, name = 1879>, width=300, height=375, channels=3, levels=1, RGB=True, dtype=uint8> <valis.slide_io.VipsSlideReader object at 0x7f11b8404fe0> True (375, 300, 3)\n",
      "<Slide, name = 1880>, width=300, height=375, channels=3, levels=1, RGB=True, dtype=uint8> <valis.slide_io.VipsSlideReader object at 0x7f11b8405040> True (375, 300, 3)\n",
      "<Slide, name = 1881>, width=300, height=375, channels=3, levels=1, RGB=True, dtype=uint8> <valis.slide_io.VipsSlideReader object at 0x7f11b84050a0> True (375, 300, 3)\n"
     ]
    },
    {
     "name": "stderr",
     "output_type": "stream",
     "text": [
      "Converting images:  71%|███████   | 1853/2627 [00:20<00:08, 89.87image/s]"
     ]
    },
    {
     "name": "stdout",
     "output_type": "stream",
     "text": [
      "<Slide, name = 1882>, width=300, height=375, channels=3, levels=1, RGB=True, dtype=uint8> <valis.slide_io.VipsSlideReader object at 0x7f11b8405100> True (375, 300, 3)\n",
      "<Slide, name = 1883>, width=300, height=375, channels=3, levels=1, RGB=True, dtype=uint8> <valis.slide_io.VipsSlideReader object at 0x7f11b8405160> True (375, 300, 3)\n",
      "<Slide, name = 1884>, width=300, height=375, channels=3, levels=1, RGB=True, dtype=uint8> <valis.slide_io.VipsSlideReader object at 0x7f11b84051c0> True (375, 300, 3)\n",
      "<Slide, name = 1885>, width=300, height=375, channels=3, levels=1, RGB=True, dtype=uint8> <valis.slide_io.VipsSlideReader object at 0x7f11b8405220> True (375, 300, 3)\n",
      "<Slide, name = 1886>, width=300, height=375, channels=3, levels=1, RGB=True, dtype=uint8> <valis.slide_io.VipsSlideReader object at 0x7f11b8405280> True (375, 300, 3)\n",
      "<Slide, name = 1887>, width=300, height=375, channels=3, levels=1, RGB=True, dtype=uint8> <valis.slide_io.VipsSlideReader object at 0x7f11b84052e0> True (375, 300, 3)\n",
      "<Slide, name = 1888>, width=300, height=375, channels=3, levels=1, RGB=True, dtype=uint8> <valis.slide_io.VipsSlideReader object at 0x7f11b8405340> True (375, 300, 3)\n",
      "<Slide, name = 1889>, width=300, height=375, channels=3, levels=1, RGB=True, dtype=uint8> <valis.slide_io.VipsSlideReader object at 0x7f11b84053a0> True (375, 300, 3)\n",
      "<Slide, name = 1890>, width=300, height=375, channels=3, levels=1, RGB=True, dtype=uint8> <valis.slide_io.VipsSlideReader object at 0x7f11b8405400> True (375, 300, 3)\n",
      "<Slide, name = 1891>, width=300, height=375, channels=3, levels=1, RGB=True, dtype=uint8> <valis.slide_io.VipsSlideReader object at 0x7f11b8405460> True (375, 300, 3)\n"
     ]
    },
    {
     "name": "stderr",
     "output_type": "stream",
     "text": [
      "Converting images:  71%|███████   | 1863/2627 [00:20<00:08, 90.23image/s]"
     ]
    },
    {
     "name": "stdout",
     "output_type": "stream",
     "text": [
      "<Slide, name = 1892>, width=300, height=375, channels=3, levels=1, RGB=True, dtype=uint8> <valis.slide_io.VipsSlideReader object at 0x7f11b84054c0> True (375, 300, 3)\n",
      "<Slide, name = 1893>, width=300, height=375, channels=3, levels=1, RGB=True, dtype=uint8> <valis.slide_io.VipsSlideReader object at 0x7f11b8405520> True (375, 300, 3)\n",
      "<Slide, name = 1894>, width=300, height=375, channels=3, levels=1, RGB=True, dtype=uint8> <valis.slide_io.VipsSlideReader object at 0x7f11b8405580> True (375, 300, 3)\n",
      "<Slide, name = 1895>, width=300, height=375, channels=3, levels=1, RGB=True, dtype=uint8> <valis.slide_io.VipsSlideReader object at 0x7f11b84055e0> True (375, 300, 3)\n",
      "<Slide, name = 1896>, width=300, height=375, channels=3, levels=1, RGB=True, dtype=uint8> <valis.slide_io.VipsSlideReader object at 0x7f11b8405640> True (375, 300, 3)\n",
      "<Slide, name = 1897>, width=300, height=375, channels=3, levels=1, RGB=True, dtype=uint8> <valis.slide_io.VipsSlideReader object at 0x7f11b84056a0> True (375, 300, 3)\n",
      "<Slide, name = 1898>, width=300, height=375, channels=3, levels=1, RGB=True, dtype=uint8> <valis.slide_io.VipsSlideReader object at 0x7f11b8405700> True (375, 300, 3)\n",
      "<Slide, name = 1899>, width=300, height=375, channels=3, levels=1, RGB=True, dtype=uint8> <valis.slide_io.VipsSlideReader object at 0x7f11b8405760> True (375, 300, 3)\n",
      "<Slide, name = 1900>, width=300, height=375, channels=3, levels=1, RGB=True, dtype=uint8> <valis.slide_io.VipsSlideReader object at 0x7f11b84057c0> True (375, 300, 3)\n",
      "<Slide, name = 1901>, width=300, height=375, channels=3, levels=1, RGB=True, dtype=uint8> <valis.slide_io.VipsSlideReader object at 0x7f11b8405820> True (375, 300, 3)\n"
     ]
    },
    {
     "name": "stderr",
     "output_type": "stream",
     "text": [
      "Converting images:  71%|███████▏  | 1873/2627 [00:20<00:08, 90.59image/s]"
     ]
    },
    {
     "name": "stdout",
     "output_type": "stream",
     "text": [
      "<Slide, name = 1902>, width=300, height=375, channels=3, levels=1, RGB=True, dtype=uint8> <valis.slide_io.VipsSlideReader object at 0x7f11b8405880> True (375, 300, 3)\n",
      "<Slide, name = 1903>, width=300, height=375, channels=3, levels=1, RGB=True, dtype=uint8> <valis.slide_io.VipsSlideReader object at 0x7f11b84058e0> True (375, 300, 3)\n",
      "<Slide, name = 1904>, width=300, height=375, channels=3, levels=1, RGB=True, dtype=uint8> <valis.slide_io.VipsSlideReader object at 0x7f11b8405940> True (375, 300, 3)\n",
      "<Slide, name = 1905>, width=300, height=375, channels=3, levels=1, RGB=True, dtype=uint8> <valis.slide_io.VipsSlideReader object at 0x7f11b84059a0> True (375, 300, 3)\n",
      "<Slide, name = 1906>, width=300, height=375, channels=3, levels=1, RGB=True, dtype=uint8> <valis.slide_io.VipsSlideReader object at 0x7f11b8405a00> True (375, 300, 3)\n",
      "<Slide, name = 1907>, width=300, height=375, channels=3, levels=1, RGB=True, dtype=uint8> <valis.slide_io.VipsSlideReader object at 0x7f11b8405a60> True (375, 300, 3)\n",
      "<Slide, name = 1908>, width=300, height=375, channels=3, levels=1, RGB=True, dtype=uint8> <valis.slide_io.VipsSlideReader object at 0x7f11b8405ac0> True (375, 300, 3)\n",
      "<Slide, name = 1909>, width=300, height=375, channels=3, levels=1, RGB=True, dtype=uint8> <valis.slide_io.VipsSlideReader object at 0x7f11b8405b20> True (375, 300, 3)\n",
      "<Slide, name = 1910>, width=300, height=375, channels=3, levels=1, RGB=True, dtype=uint8> <valis.slide_io.VipsSlideReader object at 0x7f11b8405c40> True (375, 300, 3)\n",
      "<Slide, name = 1911>, width=300, height=375, channels=3, levels=1, RGB=True, dtype=uint8> <valis.slide_io.VipsSlideReader object at 0x7f11bd215a30> True (375, 300, 3)\n"
     ]
    },
    {
     "name": "stderr",
     "output_type": "stream",
     "text": [
      "Converting images:  72%|███████▏  | 1883/2627 [00:20<00:08, 90.43image/s]"
     ]
    },
    {
     "name": "stdout",
     "output_type": "stream",
     "text": [
      "<Slide, name = 1912>, width=300, height=375, channels=3, levels=1, RGB=True, dtype=uint8> <valis.slide_io.VipsSlideReader object at 0x7f11b8405cd0> True (375, 300, 3)\n",
      "<Slide, name = 1913>, width=300, height=375, channels=3, levels=1, RGB=True, dtype=uint8> <valis.slide_io.VipsSlideReader object at 0x7f11bcb55af0> True (375, 300, 3)\n",
      "<Slide, name = 1914>, width=300, height=375, channels=3, levels=1, RGB=True, dtype=uint8> <valis.slide_io.VipsSlideReader object at 0x7f11bcb45970> True (375, 300, 3)\n",
      "<Slide, name = 1915>, width=300, height=375, channels=3, levels=1, RGB=True, dtype=uint8> <valis.slide_io.VipsSlideReader object at 0x7f11bd215c70> True (375, 300, 3)\n",
      "<Slide, name = 1916>, width=300, height=375, channels=3, levels=1, RGB=True, dtype=uint8> <valis.slide_io.VipsSlideReader object at 0x7f11b8405a90> True (375, 300, 3)\n",
      "<Slide, name = 1917>, width=300, height=375, channels=3, levels=1, RGB=True, dtype=uint8> <valis.slide_io.VipsSlideReader object at 0x7f11b8405d60> True (375, 300, 3)\n",
      "<Slide, name = 1918>, width=300, height=375, channels=3, levels=1, RGB=True, dtype=uint8> <valis.slide_io.VipsSlideReader object at 0x7f11b8405eb0> True (375, 300, 3)\n",
      "<Slide, name = 1919>, width=300, height=375, channels=3, levels=1, RGB=True, dtype=uint8> <valis.slide_io.VipsSlideReader object at 0x7f11b8405e50> True (375, 300, 3)\n",
      "<Slide, name = 1920>, width=300, height=375, channels=3, levels=1, RGB=True, dtype=uint8> <valis.slide_io.VipsSlideReader object at 0x7f11b8405850> True (375, 300, 3)\n",
      "<Slide, name = 1921>, width=300, height=375, channels=3, levels=1, RGB=True, dtype=uint8> <valis.slide_io.VipsSlideReader object at 0x7f11b8405fa0> True (375, 300, 3)\n"
     ]
    },
    {
     "name": "stderr",
     "output_type": "stream",
     "text": [
      "Converting images:  72%|███████▏  | 1893/2627 [00:20<00:08, 89.54image/s]"
     ]
    },
    {
     "name": "stdout",
     "output_type": "stream",
     "text": [
      "<Slide, name = 1922>, width=300, height=375, channels=3, levels=1, RGB=True, dtype=uint8> <valis.slide_io.VipsSlideReader object at 0x7f11b8406000> True (375, 300, 3)\n",
      "<Slide, name = 1923>, width=300, height=375, channels=3, levels=1, RGB=True, dtype=uint8> <valis.slide_io.VipsSlideReader object at 0x7f11b8406060> True (375, 300, 3)\n",
      "<Slide, name = 1924>, width=300, height=375, channels=3, levels=1, RGB=True, dtype=uint8> <valis.slide_io.VipsSlideReader object at 0x7f11b84060c0> True (375, 300, 3)\n",
      "<Slide, name = 1925>, width=300, height=375, channels=3, levels=1, RGB=True, dtype=uint8> <valis.slide_io.VipsSlideReader object at 0x7f11b8406120> True (375, 300, 3)\n",
      "<Slide, name = 1926>, width=300, height=375, channels=3, levels=1, RGB=True, dtype=uint8> <valis.slide_io.VipsSlideReader object at 0x7f11b8406180> True (375, 300, 3)\n",
      "<Slide, name = 1927>, width=300, height=375, channels=3, levels=1, RGB=True, dtype=uint8> <valis.slide_io.VipsSlideReader object at 0x7f11b84061e0> True (375, 300, 3)\n",
      "<Slide, name = 1928>, width=300, height=375, channels=3, levels=1, RGB=True, dtype=uint8> <valis.slide_io.VipsSlideReader object at 0x7f11b8406240> True (375, 300, 3)\n",
      "<Slide, name = 1929>, width=300, height=375, channels=3, levels=1, RGB=True, dtype=uint8> <valis.slide_io.VipsSlideReader object at 0x7f11b84062a0> True (375, 300, 3)\n",
      "<Slide, name = 1930>, width=300, height=375, channels=3, levels=1, RGB=True, dtype=uint8> <valis.slide_io.VipsSlideReader object at 0x7f11b8406300> True (375, 300, 3)\n",
      "<Slide, name = 1931>, width=300, height=375, channels=3, levels=1, RGB=True, dtype=uint8> <valis.slide_io.VipsSlideReader object at 0x7f11b8406360> True (375, 300, 3)\n"
     ]
    },
    {
     "name": "stderr",
     "output_type": "stream",
     "text": [
      "Converting images:  72%|███████▏  | 1903/2627 [00:20<00:08, 90.27image/s]"
     ]
    },
    {
     "name": "stdout",
     "output_type": "stream",
     "text": [
      "<Slide, name = 1932>, width=300, height=375, channels=3, levels=1, RGB=True, dtype=uint8> <valis.slide_io.VipsSlideReader object at 0x7f11b84063c0> True (375, 300, 3)\n",
      "<Slide, name = 1933>, width=300, height=375, channels=3, levels=1, RGB=True, dtype=uint8> <valis.slide_io.VipsSlideReader object at 0x7f11b8406420> True (375, 300, 3)\n",
      "<Slide, name = 1934>, width=300, height=375, channels=3, levels=1, RGB=True, dtype=uint8> <valis.slide_io.VipsSlideReader object at 0x7f11b8406480> True (375, 300, 3)\n",
      "<Slide, name = 1935>, width=300, height=375, channels=3, levels=1, RGB=True, dtype=uint8> <valis.slide_io.VipsSlideReader object at 0x7f11b84064e0> True (375, 300, 3)\n",
      "<Slide, name = 1936>, width=300, height=375, channels=3, levels=1, RGB=True, dtype=uint8> <valis.slide_io.VipsSlideReader object at 0x7f11b8406540> True (375, 300, 3)\n",
      "<Slide, name = 1937>, width=300, height=375, channels=3, levels=1, RGB=True, dtype=uint8> <valis.slide_io.VipsSlideReader object at 0x7f11b84065a0> True (375, 300, 3)\n",
      "<Slide, name = 1938>, width=300, height=375, channels=3, levels=1, RGB=True, dtype=uint8> <valis.slide_io.VipsSlideReader object at 0x7f11b8406600> True (375, 300, 3)\n",
      "<Slide, name = 1939>, width=300, height=375, channels=3, levels=1, RGB=True, dtype=uint8> <valis.slide_io.VipsSlideReader object at 0x7f11b8406660> True (375, 300, 3)\n",
      "<Slide, name = 1940>, width=300, height=375, channels=3, levels=1, RGB=True, dtype=uint8> <valis.slide_io.VipsSlideReader object at 0x7f11b84066c0> True (375, 300, 3)\n",
      "<Slide, name = 1941>, width=300, height=375, channels=3, levels=1, RGB=True, dtype=uint8> <valis.slide_io.VipsSlideReader object at 0x7f11b8406720> True (375, 300, 3)\n"
     ]
    },
    {
     "name": "stderr",
     "output_type": "stream",
     "text": [
      "Converting images:  73%|███████▎  | 1913/2627 [00:21<00:07, 90.93image/s]"
     ]
    },
    {
     "name": "stdout",
     "output_type": "stream",
     "text": [
      "<Slide, name = 1942>, width=300, height=375, channels=3, levels=1, RGB=True, dtype=uint8> <valis.slide_io.VipsSlideReader object at 0x7f11b8406780> True (375, 300, 3)\n",
      "<Slide, name = 1943>, width=300, height=375, channels=3, levels=1, RGB=True, dtype=uint8> <valis.slide_io.VipsSlideReader object at 0x7f11b84067e0> True (375, 300, 3)\n",
      "<Slide, name = 1944>, width=300, height=375, channels=3, levels=1, RGB=True, dtype=uint8> <valis.slide_io.VipsSlideReader object at 0x7f11b8406840> True (375, 300, 3)\n",
      "<Slide, name = 1945>, width=300, height=375, channels=3, levels=1, RGB=True, dtype=uint8> <valis.slide_io.VipsSlideReader object at 0x7f11b84068a0> True (375, 300, 3)\n",
      "<Slide, name = 1946>, width=300, height=375, channels=3, levels=1, RGB=True, dtype=uint8> <valis.slide_io.VipsSlideReader object at 0x7f11b8406900> True (375, 300, 3)\n",
      "<Slide, name = 1947>, width=300, height=375, channels=3, levels=1, RGB=True, dtype=uint8> <valis.slide_io.VipsSlideReader object at 0x7f11b8406960> True (375, 300, 3)\n",
      "<Slide, name = 1948>, width=300, height=375, channels=3, levels=1, RGB=True, dtype=uint8> <valis.slide_io.VipsSlideReader object at 0x7f11b84069c0> True (375, 300, 3)\n",
      "<Slide, name = 1949>, width=300, height=375, channels=3, levels=1, RGB=True, dtype=uint8> <valis.slide_io.VipsSlideReader object at 0x7f11b8406a20> True (375, 300, 3)\n",
      "<Slide, name = 1950>, width=300, height=375, channels=3, levels=1, RGB=True, dtype=uint8> <valis.slide_io.VipsSlideReader object at 0x7f11b8406a80> True (375, 300, 3)\n",
      "<Slide, name = 1951>, width=300, height=375, channels=3, levels=1, RGB=True, dtype=uint8> <valis.slide_io.VipsSlideReader object at 0x7f11b8406ae0> True (375, 300, 3)\n"
     ]
    },
    {
     "name": "stderr",
     "output_type": "stream",
     "text": [
      "Converting images:  73%|███████▎  | 1923/2627 [00:21<00:07, 91.06image/s]"
     ]
    },
    {
     "name": "stdout",
     "output_type": "stream",
     "text": [
      "<Slide, name = 1952>, width=300, height=375, channels=3, levels=1, RGB=True, dtype=uint8> <valis.slide_io.VipsSlideReader object at 0x7f11b8406b40> True (375, 300, 3)\n",
      "<Slide, name = 1953>, width=300, height=375, channels=3, levels=1, RGB=True, dtype=uint8> <valis.slide_io.VipsSlideReader object at 0x7f11b8406ba0> True (375, 300, 3)\n",
      "<Slide, name = 1954>, width=300, height=375, channels=3, levels=1, RGB=True, dtype=uint8> <valis.slide_io.VipsSlideReader object at 0x7f11b8406c00> True (375, 300, 3)\n",
      "<Slide, name = 1955>, width=300, height=375, channels=3, levels=1, RGB=True, dtype=uint8> <valis.slide_io.VipsSlideReader object at 0x7f11b8406c60> True (375, 300, 3)\n",
      "<Slide, name = 1956>, width=300, height=375, channels=3, levels=1, RGB=True, dtype=uint8> <valis.slide_io.VipsSlideReader object at 0x7f11b8406cc0> True (375, 300, 3)\n",
      "<Slide, name = 1957>, width=300, height=375, channels=3, levels=1, RGB=True, dtype=uint8> <valis.slide_io.VipsSlideReader object at 0x7f11b8406d20> True (375, 300, 3)\n",
      "<Slide, name = 1958>, width=300, height=375, channels=3, levels=1, RGB=True, dtype=uint8> <valis.slide_io.VipsSlideReader object at 0x7f11b8406d80> True (375, 300, 3)\n",
      "<Slide, name = 1959>, width=300, height=375, channels=3, levels=1, RGB=True, dtype=uint8> <valis.slide_io.VipsSlideReader object at 0x7f11b8406de0> True (375, 300, 3)\n",
      "<Slide, name = 1960>, width=300, height=375, channels=3, levels=1, RGB=True, dtype=uint8> <valis.slide_io.VipsSlideReader object at 0x7f11b8406e40> True (375, 300, 3)\n",
      "<Slide, name = 1961>, width=300, height=375, channels=3, levels=1, RGB=True, dtype=uint8> <valis.slide_io.VipsSlideReader object at 0x7f11b8406ea0> True (375, 300, 3)\n"
     ]
    },
    {
     "name": "stderr",
     "output_type": "stream",
     "text": [
      "Converting images:  74%|███████▎  | 1933/2627 [00:21<00:07, 92.08image/s]"
     ]
    },
    {
     "name": "stdout",
     "output_type": "stream",
     "text": [
      "<Slide, name = 1962>, width=300, height=375, channels=3, levels=1, RGB=True, dtype=uint8> <valis.slide_io.VipsSlideReader object at 0x7f11b8406f00> True (375, 300, 3)\n",
      "<Slide, name = 1963>, width=300, height=375, channels=3, levels=1, RGB=True, dtype=uint8> <valis.slide_io.VipsSlideReader object at 0x7f11b8406f60> True (375, 300, 3)\n",
      "<Slide, name = 1964>, width=300, height=375, channels=3, levels=1, RGB=True, dtype=uint8> <valis.slide_io.VipsSlideReader object at 0x7f11b8406fc0> True (375, 300, 3)\n",
      "<Slide, name = 1965>, width=300, height=375, channels=3, levels=1, RGB=True, dtype=uint8> <valis.slide_io.VipsSlideReader object at 0x7f11b8407020> True (375, 300, 3)\n",
      "<Slide, name = 1966>, width=300, height=375, channels=3, levels=1, RGB=True, dtype=uint8> <valis.slide_io.VipsSlideReader object at 0x7f11b8407080> True (375, 300, 3)\n",
      "<Slide, name = 1967>, width=300, height=375, channels=3, levels=1, RGB=True, dtype=uint8> <valis.slide_io.VipsSlideReader object at 0x7f11b84070e0> True (375, 300, 3)\n",
      "<Slide, name = 1968>, width=300, height=375, channels=3, levels=1, RGB=True, dtype=uint8> <valis.slide_io.VipsSlideReader object at 0x7f11b8407140> True (375, 300, 3)\n",
      "<Slide, name = 1969>, width=300, height=375, channels=3, levels=1, RGB=True, dtype=uint8> <valis.slide_io.VipsSlideReader object at 0x7f11b84071a0> True (375, 300, 3)\n",
      "<Slide, name = 1970>, width=300, height=375, channels=3, levels=1, RGB=True, dtype=uint8> <valis.slide_io.VipsSlideReader object at 0x7f11b8407200> True (375, 300, 3)\n",
      "<Slide, name = 1971>, width=300, height=375, channels=3, levels=1, RGB=True, dtype=uint8> <valis.slide_io.VipsSlideReader object at 0x7f11b8407260> True (375, 300, 3)\n"
     ]
    },
    {
     "name": "stderr",
     "output_type": "stream",
     "text": [
      "Converting images:  74%|███████▍  | 1943/2627 [00:21<00:07, 92.26image/s]"
     ]
    },
    {
     "name": "stdout",
     "output_type": "stream",
     "text": [
      "<Slide, name = 1972>, width=300, height=375, channels=3, levels=1, RGB=True, dtype=uint8> <valis.slide_io.VipsSlideReader object at 0x7f11b84072c0> True (375, 300, 3)\n",
      "<Slide, name = 1973>, width=300, height=375, channels=3, levels=1, RGB=True, dtype=uint8> <valis.slide_io.VipsSlideReader object at 0x7f11b8407320> True (375, 300, 3)\n",
      "<Slide, name = 1974>, width=300, height=375, channels=3, levels=1, RGB=True, dtype=uint8> <valis.slide_io.VipsSlideReader object at 0x7f11b8407380> True (375, 300, 3)\n",
      "<Slide, name = 1975>, width=300, height=375, channels=3, levels=1, RGB=True, dtype=uint8> <valis.slide_io.VipsSlideReader object at 0x7f11b84073e0> True (375, 300, 3)\n",
      "<Slide, name = 1976>, width=300, height=375, channels=3, levels=1, RGB=True, dtype=uint8> <valis.slide_io.VipsSlideReader object at 0x7f11b8407440> True (375, 300, 3)\n",
      "<Slide, name = 1977>, width=300, height=375, channels=3, levels=1, RGB=True, dtype=uint8> <valis.slide_io.VipsSlideReader object at 0x7f11b84074a0> True (375, 300, 3)\n",
      "<Slide, name = 1978>, width=300, height=375, channels=3, levels=1, RGB=True, dtype=uint8> <valis.slide_io.VipsSlideReader object at 0x7f11b8407500> True (375, 300, 3)\n",
      "<Slide, name = 1979>, width=300, height=375, channels=3, levels=1, RGB=True, dtype=uint8> <valis.slide_io.VipsSlideReader object at 0x7f11b8407560> True (375, 300, 3)\n",
      "<Slide, name = 1980>, width=300, height=375, channels=3, levels=1, RGB=True, dtype=uint8> <valis.slide_io.VipsSlideReader object at 0x7f11b84075c0> True (375, 300, 3)\n",
      "<Slide, name = 1981>, width=300, height=375, channels=3, levels=1, RGB=True, dtype=uint8> <valis.slide_io.VipsSlideReader object at 0x7f11b8407620> True (375, 300, 3)\n"
     ]
    },
    {
     "name": "stderr",
     "output_type": "stream",
     "text": [
      "Converting images:  74%|███████▍  | 1953/2627 [00:21<00:07, 92.23image/s]"
     ]
    },
    {
     "name": "stdout",
     "output_type": "stream",
     "text": [
      "<Slide, name = 1982>, width=300, height=375, channels=3, levels=1, RGB=True, dtype=uint8> <valis.slide_io.VipsSlideReader object at 0x7f11b8407680> True (375, 300, 3)\n",
      "<Slide, name = 1983>, width=300, height=375, channels=3, levels=1, RGB=True, dtype=uint8> <valis.slide_io.VipsSlideReader object at 0x7f11b84076e0> True (375, 300, 3)\n",
      "<Slide, name = 1984>, width=300, height=375, channels=3, levels=1, RGB=True, dtype=uint8> <valis.slide_io.VipsSlideReader object at 0x7f11b8407740> True (375, 300, 3)\n",
      "<Slide, name = 1985>, width=300, height=375, channels=3, levels=1, RGB=True, dtype=uint8> <valis.slide_io.VipsSlideReader object at 0x7f11b84077a0> True (375, 300, 3)\n",
      "<Slide, name = 1986>, width=300, height=375, channels=3, levels=1, RGB=True, dtype=uint8> <valis.slide_io.VipsSlideReader object at 0x7f11b8407800> True (375, 300, 3)\n",
      "<Slide, name = 1987>, width=300, height=375, channels=3, levels=1, RGB=True, dtype=uint8> <valis.slide_io.VipsSlideReader object at 0x7f11b8407860> True (375, 300, 3)\n",
      "<Slide, name = 1988>, width=300, height=375, channels=3, levels=1, RGB=True, dtype=uint8> <valis.slide_io.VipsSlideReader object at 0x7f11b84078c0> True (375, 300, 3)\n",
      "<Slide, name = 1989>, width=300, height=375, channels=3, levels=1, RGB=True, dtype=uint8> <valis.slide_io.VipsSlideReader object at 0x7f11b8407920> True (375, 300, 3)\n",
      "<Slide, name = 1990>, width=300, height=375, channels=3, levels=1, RGB=True, dtype=uint8> <valis.slide_io.VipsSlideReader object at 0x7f11b8407980> True (375, 300, 3)\n",
      "<Slide, name = 1991>, width=300, height=375, channels=3, levels=1, RGB=True, dtype=uint8> <valis.slide_io.VipsSlideReader object at 0x7f11b84079e0> True (375, 300, 3)\n"
     ]
    },
    {
     "name": "stderr",
     "output_type": "stream",
     "text": [
      "Converting images:  75%|███████▍  | 1963/2627 [00:21<00:07, 91.06image/s]"
     ]
    },
    {
     "name": "stdout",
     "output_type": "stream",
     "text": [
      "<Slide, name = 1992>, width=300, height=375, channels=3, levels=1, RGB=True, dtype=uint8> <valis.slide_io.VipsSlideReader object at 0x7f11b8407a40> True (375, 300, 3)\n",
      "<Slide, name = 1993>, width=300, height=375, channels=3, levels=1, RGB=True, dtype=uint8> <valis.slide_io.VipsSlideReader object at 0x7f11b8407aa0> True (375, 300, 3)\n",
      "<Slide, name = 1994>, width=300, height=375, channels=3, levels=1, RGB=True, dtype=uint8> <valis.slide_io.VipsSlideReader object at 0x7f11b8407b00> True (375, 300, 3)\n",
      "<Slide, name = 1995>, width=300, height=375, channels=3, levels=1, RGB=True, dtype=uint8> <valis.slide_io.VipsSlideReader object at 0x7f11b8407b60> True (375, 300, 3)\n",
      "<Slide, name = 1996>, width=300, height=375, channels=3, levels=1, RGB=True, dtype=uint8> <valis.slide_io.VipsSlideReader object at 0x7f11b8407bc0> True (375, 300, 3)\n",
      "<Slide, name = 1997>, width=300, height=375, channels=3, levels=1, RGB=True, dtype=uint8> <valis.slide_io.VipsSlideReader object at 0x7f11b8407c20> True (375, 300, 3)\n",
      "<Slide, name = 1998>, width=300, height=375, channels=3, levels=1, RGB=True, dtype=uint8> <valis.slide_io.VipsSlideReader object at 0x7f11b8407c80> True (375, 300, 3)\n",
      "<Slide, name = 1999>, width=300, height=375, channels=3, levels=1, RGB=True, dtype=uint8> <valis.slide_io.VipsSlideReader object at 0x7f11b8407ce0> True (375, 300, 3)\n",
      "<Slide, name = 2000>, width=300, height=375, channels=3, levels=1, RGB=True, dtype=uint8> <valis.slide_io.VipsSlideReader object at 0x7f11b8407d40> True (375, 300, 3)\n",
      "<Slide, name = 2001>, width=300, height=375, channels=3, levels=1, RGB=True, dtype=uint8> <valis.slide_io.VipsSlideReader object at 0x7f11b8407da0> True (375, 300, 3)\n"
     ]
    },
    {
     "name": "stderr",
     "output_type": "stream",
     "text": [
      "Converting images:  75%|███████▌  | 1973/2627 [00:21<00:07, 90.15image/s]"
     ]
    },
    {
     "name": "stdout",
     "output_type": "stream",
     "text": [
      "<Slide, name = 2002>, width=300, height=375, channels=3, levels=1, RGB=True, dtype=uint8> <valis.slide_io.VipsSlideReader object at 0x7f11b8407e00> True (375, 300, 3)\n",
      "<Slide, name = 2003>, width=300, height=375, channels=3, levels=1, RGB=True, dtype=uint8> <valis.slide_io.VipsSlideReader object at 0x7f11b8407e60> True (375, 300, 3)\n",
      "<Slide, name = 2004>, width=300, height=375, channels=3, levels=1, RGB=True, dtype=uint8> <valis.slide_io.VipsSlideReader object at 0x7f11b8407ec0> True (375, 300, 3)\n",
      "<Slide, name = 2005>, width=300, height=375, channels=3, levels=1, RGB=True, dtype=uint8> <valis.slide_io.VipsSlideReader object at 0x7f11b8407f50> True (375, 300, 3)\n",
      "<Slide, name = 2006>, width=300, height=375, channels=3, levels=1, RGB=True, dtype=uint8> <valis.slide_io.VipsSlideReader object at 0x7f11b8407ef0> True (375, 300, 3)\n",
      "<Slide, name = 2007>, width=300, height=375, channels=3, levels=1, RGB=True, dtype=uint8> <valis.slide_io.VipsSlideReader object at 0x7f11b8407d70> True (375, 300, 3)\n",
      "<Slide, name = 2008>, width=300, height=375, channels=3, levels=1, RGB=True, dtype=uint8> <valis.slide_io.VipsSlideReader object at 0x7f11b8407e30> True (375, 300, 3)\n",
      "<Slide, name = 2009>, width=300, height=375, channels=3, levels=1, RGB=True, dtype=uint8> <valis.slide_io.VipsSlideReader object at 0x7f11b8407f80> True (375, 300, 3)\n",
      "<Slide, name = 2010>, width=300, height=375, channels=3, levels=1, RGB=True, dtype=uint8> <valis.slide_io.VipsSlideReader object at 0x7f11b8407fe0> True (375, 300, 3)\n",
      "<Slide, name = 2011>, width=300, height=375, channels=3, levels=1, RGB=True, dtype=uint8> <valis.slide_io.VipsSlideReader object at 0x7f11b8407d10> True (375, 300, 3)\n"
     ]
    },
    {
     "name": "stderr",
     "output_type": "stream",
     "text": [
      "Converting images:  75%|███████▌  | 1983/2627 [00:21<00:07, 89.77image/s]"
     ]
    },
    {
     "name": "stdout",
     "output_type": "stream",
     "text": [
      "<Slide, name = 2012>, width=300, height=375, channels=3, levels=1, RGB=True, dtype=uint8> <valis.slide_io.VipsSlideReader object at 0x7f11b841c230> True (375, 300, 3)\n",
      "<Slide, name = 2013>, width=300, height=375, channels=3, levels=1, RGB=True, dtype=uint8> <valis.slide_io.VipsSlideReader object at 0x7f11b841c110> True (375, 300, 3)\n",
      "<Slide, name = 2014>, width=300, height=375, channels=3, levels=1, RGB=True, dtype=uint8> <valis.slide_io.VipsSlideReader object at 0x7f11bc3ac2f0> True (375, 300, 3)\n",
      "<Slide, name = 2015>, width=300, height=375, channels=3, levels=1, RGB=True, dtype=uint8> <valis.slide_io.VipsSlideReader object at 0x7f11bc3ac1a0> True (375, 300, 3)\n",
      "<Slide, name = 2016>, width=300, height=375, channels=3, levels=1, RGB=True, dtype=uint8> <valis.slide_io.VipsSlideReader object at 0x7f11b8404320> True (375, 300, 3)\n",
      "<Slide, name = 2017>, width=300, height=375, channels=3, levels=1, RGB=True, dtype=uint8> <valis.slide_io.VipsSlideReader object at 0x7f11b8404380> True (375, 300, 3)\n",
      "<Slide, name = 2018>, width=300, height=375, channels=3, levels=1, RGB=True, dtype=uint8> <valis.slide_io.VipsSlideReader object at 0x7f11b84043e0> True (375, 300, 3)\n",
      "<Slide, name = 2019>, width=300, height=375, channels=3, levels=1, RGB=True, dtype=uint8> <valis.slide_io.VipsSlideReader object at 0x7f11b8404440> True (375, 300, 3)\n",
      "<Slide, name = 2020>, width=300, height=375, channels=3, levels=1, RGB=True, dtype=uint8> <valis.slide_io.VipsSlideReader object at 0x7f11b84044a0> True (375, 300, 3)\n",
      "<Slide, name = 2021>, width=300, height=375, channels=3, levels=1, RGB=True, dtype=uint8> <valis.slide_io.VipsSlideReader object at 0x7f11b8404500> True (375, 300, 3)\n"
     ]
    },
    {
     "name": "stderr",
     "output_type": "stream",
     "text": [
      "Converting images:  76%|███████▌  | 1993/2627 [00:21<00:07, 90.41image/s]"
     ]
    },
    {
     "name": "stdout",
     "output_type": "stream",
     "text": [
      "<Slide, name = 2022>, width=300, height=375, channels=3, levels=1, RGB=True, dtype=uint8> <valis.slide_io.VipsSlideReader object at 0x7f11b841c3b0> True (375, 300, 3)\n",
      "<Slide, name = 2023>, width=300, height=375, channels=3, levels=1, RGB=True, dtype=uint8> <valis.slide_io.VipsSlideReader object at 0x7f11b84045c0> True (375, 300, 3)\n",
      "<Slide, name = 2024>, width=300, height=375, channels=3, levels=1, RGB=True, dtype=uint8> <valis.slide_io.VipsSlideReader object at 0x7f11b841c2c0> True (375, 300, 3)\n",
      "<Slide, name = 2025>, width=300, height=375, channels=3, levels=1, RGB=True, dtype=uint8> <valis.slide_io.VipsSlideReader object at 0x7f11b8404680> True (375, 300, 3)\n",
      "<Slide, name = 2026>, width=300, height=375, channels=3, levels=1, RGB=True, dtype=uint8> <valis.slide_io.VipsSlideReader object at 0x7f11b841c770> True (375, 300, 3)\n",
      "<Slide, name = 2027>, width=300, height=375, channels=3, levels=1, RGB=True, dtype=uint8> <valis.slide_io.VipsSlideReader object at 0x7f11bcce4740> True (375, 300, 3)\n",
      "<Slide, name = 2028>, width=300, height=375, channels=3, levels=1, RGB=True, dtype=uint8> <valis.slide_io.VipsSlideReader object at 0x7f11bcb6c620> True (375, 300, 3)\n",
      "<Slide, name = 2029>, width=300, height=375, channels=3, levels=1, RGB=True, dtype=uint8> <valis.slide_io.VipsSlideReader object at 0x7f11b841c0e0> True (375, 300, 3)\n",
      "<Slide, name = 2030>, width=300, height=375, channels=3, levels=1, RGB=True, dtype=uint8> <valis.slide_io.VipsSlideReader object at 0x7f11bc3a4860> True (375, 300, 3)\n",
      "<Slide, name = 2031>, width=300, height=375, channels=3, levels=1, RGB=True, dtype=uint8> <valis.slide_io.VipsSlideReader object at 0x7f11b841c7a0> True (375, 300, 3)\n"
     ]
    },
    {
     "name": "stderr",
     "output_type": "stream",
     "text": [
      "Converting images:  76%|███████▌  | 2003/2627 [00:21<00:06, 91.49image/s]"
     ]
    },
    {
     "name": "stdout",
     "output_type": "stream",
     "text": [
      "<Slide, name = 2032>, width=300, height=375, channels=3, levels=1, RGB=True, dtype=uint8> <valis.slide_io.VipsSlideReader object at 0x7f11b841c6e0> True (375, 300, 3)\n",
      "<Slide, name = 2033>, width=300, height=375, channels=3, levels=1, RGB=True, dtype=uint8> <valis.slide_io.VipsSlideReader object at 0x7f11b841ca70> True (375, 300, 3)\n",
      "<Slide, name = 2034>, width=300, height=375, channels=3, levels=1, RGB=True, dtype=uint8> <valis.slide_io.VipsSlideReader object at 0x7f11b841c830> True (375, 300, 3)\n",
      "<Slide, name = 2035>, width=300, height=375, channels=3, levels=1, RGB=True, dtype=uint8> <valis.slide_io.VipsSlideReader object at 0x7f11b841cad0> True (375, 300, 3)\n",
      "<Slide, name = 2036>, width=300, height=375, channels=3, levels=1, RGB=True, dtype=uint8> <valis.slide_io.VipsSlideReader object at 0x7f11b841cb30> True (375, 300, 3)\n",
      "<Slide, name = 2037>, width=300, height=375, channels=3, levels=1, RGB=True, dtype=uint8> <valis.slide_io.VipsSlideReader object at 0x7f11b841cb90> True (375, 300, 3)\n",
      "<Slide, name = 2038>, width=300, height=375, channels=3, levels=1, RGB=True, dtype=uint8> <valis.slide_io.VipsSlideReader object at 0x7f11b841cbf0> True (375, 300, 3)\n",
      "<Slide, name = 2039>, width=300, height=375, channels=3, levels=1, RGB=True, dtype=uint8> <valis.slide_io.VipsSlideReader object at 0x7f11b841cc50> True (375, 300, 3)\n",
      "<Slide, name = 2040>, width=300, height=375, channels=3, levels=1, RGB=True, dtype=uint8> <valis.slide_io.VipsSlideReader object at 0x7f11b841ccb0> True (375, 300, 3)\n",
      "<Slide, name = 2041>, width=300, height=375, channels=3, levels=1, RGB=True, dtype=uint8> <valis.slide_io.VipsSlideReader object at 0x7f11b841cd10> True (375, 300, 3)\n"
     ]
    },
    {
     "name": "stderr",
     "output_type": "stream",
     "text": [
      "Converting images:  77%|███████▋  | 2013/2627 [00:22<00:06, 91.59image/s]"
     ]
    },
    {
     "name": "stdout",
     "output_type": "stream",
     "text": [
      "<Slide, name = 2042>, width=300, height=375, channels=3, levels=1, RGB=True, dtype=uint8> <valis.slide_io.VipsSlideReader object at 0x7f11b841cd70> True (375, 300, 3)\n",
      "<Slide, name = 2043>, width=300, height=375, channels=3, levels=1, RGB=True, dtype=uint8> <valis.slide_io.VipsSlideReader object at 0x7f11b841cdd0> True (375, 300, 3)\n",
      "<Slide, name = 2044>, width=300, height=375, channels=3, levels=1, RGB=True, dtype=uint8> <valis.slide_io.VipsSlideReader object at 0x7f11b841ce30> True (375, 300, 3)\n",
      "<Slide, name = 2045>, width=300, height=375, channels=3, levels=1, RGB=True, dtype=uint8> <valis.slide_io.VipsSlideReader object at 0x7f11b841ce90> True (375, 300, 3)\n",
      "<Slide, name = 2046>, width=300, height=375, channels=3, levels=1, RGB=True, dtype=uint8> <valis.slide_io.VipsSlideReader object at 0x7f11b841cef0> True (375, 300, 3)\n",
      "<Slide, name = 2047>, width=300, height=375, channels=3, levels=1, RGB=True, dtype=uint8> <valis.slide_io.VipsSlideReader object at 0x7f11b841cf50> True (375, 300, 3)\n",
      "<Slide, name = 2048>, width=300, height=375, channels=3, levels=1, RGB=True, dtype=uint8> <valis.slide_io.VipsSlideReader object at 0x7f11b841cfb0> True (375, 300, 3)\n",
      "<Slide, name = 2049>, width=300, height=375, channels=3, levels=1, RGB=True, dtype=uint8> <valis.slide_io.VipsSlideReader object at 0x7f11b841d010> True (375, 300, 3)\n",
      "<Slide, name = 2050>, width=300, height=375, channels=3, levels=1, RGB=True, dtype=uint8> <valis.slide_io.VipsSlideReader object at 0x7f11b841d070> True (375, 300, 3)\n",
      "<Slide, name = 2051>, width=300, height=375, channels=3, levels=1, RGB=True, dtype=uint8> <valis.slide_io.VipsSlideReader object at 0x7f11b841d0d0> True (375, 300, 3)\n"
     ]
    },
    {
     "name": "stderr",
     "output_type": "stream",
     "text": [
      "Converting images:  77%|███████▋  | 2023/2627 [00:22<00:06, 91.67image/s]"
     ]
    },
    {
     "name": "stdout",
     "output_type": "stream",
     "text": [
      "<Slide, name = 2052>, width=300, height=375, channels=3, levels=1, RGB=True, dtype=uint8> <valis.slide_io.VipsSlideReader object at 0x7f11bcb5cec0> True (375, 300, 3)\n",
      "<Slide, name = 2053>, width=300, height=375, channels=3, levels=1, RGB=True, dtype=uint8> <valis.slide_io.VipsSlideReader object at 0x7f11b841cf20> True (375, 300, 3)\n",
      "<Slide, name = 2054>, width=300, height=375, channels=3, levels=1, RGB=True, dtype=uint8> <valis.slide_io.VipsSlideReader object at 0x7f11bd214e60> True (375, 300, 3)\n",
      "<Slide, name = 2055>, width=300, height=375, channels=3, levels=1, RGB=True, dtype=uint8> <valis.slide_io.VipsSlideReader object at 0x7f11b841cf80> True (375, 300, 3)\n",
      "<Slide, name = 2056>, width=300, height=375, channels=3, levels=1, RGB=True, dtype=uint8> <valis.slide_io.VipsSlideReader object at 0x7f11b841d310> True (375, 300, 3)\n",
      "<Slide, name = 2057>, width=300, height=375, channels=3, levels=1, RGB=True, dtype=uint8> <valis.slide_io.VipsSlideReader object at 0x7f11b841d190> True (375, 300, 3)\n",
      "<Slide, name = 2058>, width=300, height=375, channels=3, levels=1, RGB=True, dtype=uint8> <valis.slide_io.VipsSlideReader object at 0x7f11b841d160> True (375, 300, 3)\n",
      "<Slide, name = 2059>, width=300, height=375, channels=3, levels=1, RGB=True, dtype=uint8> <valis.slide_io.VipsSlideReader object at 0x7f11bcb3d370> True (375, 300, 3)\n",
      "<Slide, name = 2060>, width=300, height=375, channels=3, levels=1, RGB=True, dtype=uint8> <valis.slide_io.VipsSlideReader object at 0x7f11b841d460> True (375, 300, 3)\n",
      "<Slide, name = 2061>, width=300, height=375, channels=3, levels=1, RGB=True, dtype=uint8> <valis.slide_io.VipsSlideReader object at 0x7f11bd19d1f0> True (375, 300, 3)\n"
     ]
    },
    {
     "name": "stderr",
     "output_type": "stream",
     "text": [
      "Converting images:  77%|███████▋  | 2033/2627 [00:22<00:06, 91.36image/s]"
     ]
    },
    {
     "name": "stdout",
     "output_type": "stream",
     "text": [
      "<Slide, name = 2062>, width=300, height=375, channels=3, levels=1, RGB=True, dtype=uint8> <valis.slide_io.VipsSlideReader object at 0x7f11bd1853a0> True (375, 300, 3)\n",
      "<Slide, name = 2063>, width=300, height=375, channels=3, levels=1, RGB=True, dtype=uint8> <valis.slide_io.VipsSlideReader object at 0x7f11b841d4c0> True (375, 300, 3)\n",
      "<Slide, name = 2064>, width=300, height=375, channels=3, levels=1, RGB=True, dtype=uint8> <valis.slide_io.VipsSlideReader object at 0x7f11b841d5b0> True (375, 300, 3)\n",
      "<Slide, name = 2066>, width=300, height=375, channels=3, levels=1, RGB=True, dtype=uint8> <valis.slide_io.VipsSlideReader object at 0x7f11b841d550> True (375, 300, 3)\n",
      "<Slide, name = 2067>, width=300, height=375, channels=3, levels=1, RGB=True, dtype=uint8> <valis.slide_io.VipsSlideReader object at 0x7f11bcb55340> True (375, 300, 3)\n",
      "<Slide, name = 2068>, width=300, height=375, channels=3, levels=1, RGB=True, dtype=uint8> <valis.slide_io.VipsSlideReader object at 0x7f11b841ce00> True (375, 300, 3)\n",
      "<Slide, name = 2069>, width=300, height=375, channels=3, levels=1, RGB=True, dtype=uint8> <valis.slide_io.VipsSlideReader object at 0x7f11bcb25700> True (375, 300, 3)\n",
      "<Slide, name = 2070>, width=300, height=375, channels=3, levels=1, RGB=True, dtype=uint8> <valis.slide_io.VipsSlideReader object at 0x7f11bd215730> True (375, 300, 3)\n",
      "<Slide, name = 2071>, width=300, height=375, channels=3, levels=1, RGB=True, dtype=uint8> <valis.slide_io.VipsSlideReader object at 0x7f11b841d640> True (375, 300, 3)\n",
      "<Slide, name = 2072>, width=300, height=375, channels=3, levels=1, RGB=True, dtype=uint8> <valis.slide_io.VipsSlideReader object at 0x7f11b841d8b0> True (375, 300, 3)\n"
     ]
    },
    {
     "name": "stderr",
     "output_type": "stream",
     "text": [
      "Converting images:  78%|███████▊  | 2043/2627 [00:22<00:06, 91.68image/s]"
     ]
    },
    {
     "name": "stdout",
     "output_type": "stream",
     "text": [
      "<Slide, name = 2073>, width=300, height=375, channels=3, levels=1, RGB=True, dtype=uint8> <valis.slide_io.VipsSlideReader object at 0x7f11bcce5a60> True (375, 300, 3)\n",
      "<Slide, name = 2074>, width=300, height=375, channels=3, levels=1, RGB=True, dtype=uint8> <valis.slide_io.VipsSlideReader object at 0x7f11bd215940> True (375, 300, 3)\n",
      "<Slide, name = 2075>, width=300, height=375, channels=3, levels=1, RGB=True, dtype=uint8> <valis.slide_io.VipsSlideReader object at 0x7f11b8405a30> True (375, 300, 3)\n",
      "<Slide, name = 2076>, width=300, height=375, channels=3, levels=1, RGB=True, dtype=uint8> <valis.slide_io.VipsSlideReader object at 0x7f11b841d2e0> True (375, 300, 3)\n",
      "<Slide, name = 2077>, width=300, height=375, channels=3, levels=1, RGB=True, dtype=uint8> <valis.slide_io.VipsSlideReader object at 0x7f11bcb4d820> True (375, 300, 3)\n",
      "<Slide, name = 2078>, width=300, height=375, channels=3, levels=1, RGB=True, dtype=uint8> <valis.slide_io.VipsSlideReader object at 0x7f11b8405c70> True (375, 300, 3)\n",
      "<Slide, name = 2079>, width=300, height=375, channels=3, levels=1, RGB=True, dtype=uint8> <valis.slide_io.VipsSlideReader object at 0x7f11b841d7f0> True (375, 300, 3)\n",
      "<Slide, name = 2080>, width=300, height=375, channels=3, levels=1, RGB=True, dtype=uint8> <valis.slide_io.VipsSlideReader object at 0x7f11bd215c40> True (375, 300, 3)\n",
      "<Slide, name = 2081>, width=300, height=375, channels=3, levels=1, RGB=True, dtype=uint8> <valis.slide_io.VipsSlideReader object at 0x7f11bcb3d9a0> True (375, 300, 3)\n",
      "<Slide, name = 2082>, width=300, height=375, channels=3, levels=1, RGB=True, dtype=uint8> <valis.slide_io.VipsSlideReader object at 0x7f11b841d850> True (375, 300, 3)\n"
     ]
    },
    {
     "name": "stderr",
     "output_type": "stream",
     "text": [
      "Converting images:  78%|███████▊  | 2053/2627 [00:22<00:06, 91.53image/s]"
     ]
    },
    {
     "name": "stdout",
     "output_type": "stream",
     "text": [
      "<Slide, name = 2083>, width=300, height=375, channels=3, levels=1, RGB=True, dtype=uint8> <valis.slide_io.VipsSlideReader object at 0x7f11bd215d30> True (375, 300, 3)\n",
      "<Slide, name = 2084>, width=300, height=375, channels=3, levels=1, RGB=True, dtype=uint8> <valis.slide_io.VipsSlideReader object at 0x7f11b841dca0> True (375, 300, 3)\n",
      "<Slide, name = 2085>, width=300, height=375, channels=3, levels=1, RGB=True, dtype=uint8> <valis.slide_io.VipsSlideReader object at 0x7f11b8405d00> True (375, 300, 3)\n",
      "<Slide, name = 2086>, width=300, height=375, channels=3, levels=1, RGB=True, dtype=uint8> <valis.slide_io.VipsSlideReader object at 0x7f11b841ddc0> True (375, 300, 3)\n",
      "<Slide, name = 2087>, width=300, height=375, channels=3, levels=1, RGB=True, dtype=uint8> <valis.slide_io.VipsSlideReader object at 0x7f11bd215b20> True (375, 300, 3)\n",
      "<Slide, name = 2088>, width=300, height=375, channels=3, levels=1, RGB=True, dtype=uint8> <valis.slide_io.VipsSlideReader object at 0x7f11b841de50> True (375, 300, 3)\n",
      "<Slide, name = 2089>, width=300, height=375, channels=3, levels=1, RGB=True, dtype=uint8> <valis.slide_io.VipsSlideReader object at 0x7f11b841e090> True (375, 300, 3)\n",
      "<Slide, name = 2090>, width=300, height=375, channels=3, levels=1, RGB=True, dtype=uint8> <valis.slide_io.VipsSlideReader object at 0x7f11b8405af0> True (375, 300, 3)\n",
      "<Slide, name = 2092>, width=300, height=375, channels=3, levels=1, RGB=True, dtype=uint8> <valis.slide_io.VipsSlideReader object at 0x7f11b841de80> True (375, 300, 3)\n",
      "<Slide, name = 2093>, width=300, height=375, channels=3, levels=1, RGB=True, dtype=uint8> <valis.slide_io.VipsSlideReader object at 0x7f11bd215e20> True (375, 300, 3)\n"
     ]
    },
    {
     "name": "stderr",
     "output_type": "stream",
     "text": [
      "Converting images:  79%|███████▊  | 2063/2627 [00:22<00:06, 91.34image/s]"
     ]
    },
    {
     "name": "stdout",
     "output_type": "stream",
     "text": [
      "<Slide, name = 2094>, width=300, height=375, channels=3, levels=1, RGB=True, dtype=uint8> <valis.slide_io.VipsSlideReader object at 0x7f11b841e0c0> True (375, 300, 3)\n",
      "<Slide, name = 2095>, width=300, height=375, channels=3, levels=1, RGB=True, dtype=uint8> <valis.slide_io.VipsSlideReader object at 0x7f11b841e2d0> True (375, 300, 3)\n",
      "<Slide, name = 2096>, width=300, height=375, channels=3, levels=1, RGB=True, dtype=uint8> <valis.slide_io.VipsSlideReader object at 0x7f11b841e1b0> True (375, 300, 3)\n",
      "<Slide, name = 2097>, width=300, height=375, channels=3, levels=1, RGB=True, dtype=uint8> <valis.slide_io.VipsSlideReader object at 0x7f11bcb56420> True (375, 300, 3)\n",
      "<Slide, name = 2098>, width=300, height=375, channels=3, levels=1, RGB=True, dtype=uint8> <valis.slide_io.VipsSlideReader object at 0x7f11b841e2a0> True (375, 300, 3)\n",
      "<Slide, name = 2099>, width=300, height=375, channels=3, levels=1, RGB=True, dtype=uint8> <valis.slide_io.VipsSlideReader object at 0x7f11bd19e330> True (375, 300, 3)\n",
      "<Slide, name = 2100>, width=300, height=375, channels=3, levels=1, RGB=True, dtype=uint8> <valis.slide_io.VipsSlideReader object at 0x7f11b841e180> True (375, 300, 3)\n",
      "<Slide, name = 2101>, width=300, height=375, channels=3, levels=1, RGB=True, dtype=uint8> <valis.slide_io.VipsSlideReader object at 0x7f11bcb4e270> True (375, 300, 3)\n",
      "<Slide, name = 2102>, width=300, height=375, channels=3, levels=1, RGB=True, dtype=uint8> <valis.slide_io.VipsSlideReader object at 0x7f11b841e450> True (375, 300, 3)\n",
      "<Slide, name = 2103>, width=300, height=375, channels=3, levels=1, RGB=True, dtype=uint8> <valis.slide_io.VipsSlideReader object at 0x7f11b841e510> True (375, 300, 3)\n"
     ]
    },
    {
     "name": "stderr",
     "output_type": "stream",
     "text": [
      "Converting images:  79%|███████▉  | 2073/2627 [00:22<00:06, 91.41image/s]"
     ]
    },
    {
     "name": "stdout",
     "output_type": "stream",
     "text": [
      "<Slide, name = 2104>, width=300, height=375, channels=3, levels=1, RGB=True, dtype=uint8> <valis.slide_io.VipsSlideReader object at 0x7f11b841e750> True (375, 300, 3)\n",
      "<Slide, name = 2105>, width=300, height=375, channels=3, levels=1, RGB=True, dtype=uint8> <valis.slide_io.VipsSlideReader object at 0x7f11b841e7e0> True (375, 300, 3)\n",
      "<Slide, name = 2106>, width=300, height=375, channels=3, levels=1, RGB=True, dtype=uint8> <valis.slide_io.VipsSlideReader object at 0x7f11b841e870> True (375, 300, 3)\n",
      "<Slide, name = 2107>, width=300, height=375, channels=3, levels=1, RGB=True, dtype=uint8> <valis.slide_io.VipsSlideReader object at 0x7f11bcb566c0> True (375, 300, 3)\n",
      "<Slide, name = 2108>, width=300, height=375, channels=3, levels=1, RGB=True, dtype=uint8> <valis.slide_io.VipsSlideReader object at 0x7f11b841e030> True (375, 300, 3)\n",
      "<Slide, name = 2109>, width=300, height=375, channels=3, levels=1, RGB=True, dtype=uint8> <valis.slide_io.VipsSlideReader object at 0x7f11b841e990> True (375, 300, 3)\n",
      "<Slide, name = 2110>, width=300, height=375, channels=3, levels=1, RGB=True, dtype=uint8> <valis.slide_io.VipsSlideReader object at 0x7f11bcc6e780> True (375, 300, 3)\n",
      "<Slide, name = 2111>, width=300, height=375, channels=3, levels=1, RGB=True, dtype=uint8> <valis.slide_io.VipsSlideReader object at 0x7f11bcb46900> True (375, 300, 3)\n",
      "<Slide, name = 2112>, width=300, height=375, channels=3, levels=1, RGB=True, dtype=uint8> <valis.slide_io.VipsSlideReader object at 0x7f11bd5fe9f0> True (375, 300, 3)\n",
      "<Slide, name = 2113>, width=300, height=375, channels=3, levels=1, RGB=True, dtype=uint8> <valis.slide_io.VipsSlideReader object at 0x7f11b841ea80> True (375, 300, 3)\n"
     ]
    },
    {
     "name": "stderr",
     "output_type": "stream",
     "text": [
      "Converting images:  79%|███████▉  | 2083/2627 [00:22<00:06, 90.60image/s]"
     ]
    },
    {
     "name": "stdout",
     "output_type": "stream",
     "text": [
      "<Slide, name = 2114>, width=300, height=375, channels=3, levels=1, RGB=True, dtype=uint8> <valis.slide_io.VipsSlideReader object at 0x7f11bd5feab0> True (375, 300, 3)\n",
      "<Slide, name = 2115>, width=300, height=375, channels=3, levels=1, RGB=True, dtype=uint8> <valis.slide_io.VipsSlideReader object at 0x7f11b841eae0> True (375, 300, 3)\n",
      "<Slide, name = 2116>, width=300, height=375, channels=3, levels=1, RGB=True, dtype=uint8> <valis.slide_io.VipsSlideReader object at 0x7f11bcb6eb70> True (375, 300, 3)\n",
      "<Slide, name = 2117>, width=300, height=375, channels=3, levels=1, RGB=True, dtype=uint8> <valis.slide_io.VipsSlideReader object at 0x7f11bd5fe9c0> True (375, 300, 3)\n",
      "<Slide, name = 2118>, width=300, height=375, channels=3, levels=1, RGB=True, dtype=uint8> <valis.slide_io.VipsSlideReader object at 0x7f11b841ea50> True (375, 300, 3)\n",
      "<Slide, name = 2119>, width=300, height=375, channels=3, levels=1, RGB=True, dtype=uint8> <valis.slide_io.VipsSlideReader object at 0x7f11b841ec90> True (375, 300, 3)\n",
      "<Slide, name = 2120>, width=300, height=375, channels=3, levels=1, RGB=True, dtype=uint8> <valis.slide_io.VipsSlideReader object at 0x7f11bd5fee40> True (375, 300, 3)\n",
      "<Slide, name = 2121>, width=300, height=375, channels=3, levels=1, RGB=True, dtype=uint8> <valis.slide_io.VipsSlideReader object at 0x7f11b841ebd0> True (375, 300, 3)\n",
      "<Slide, name = 2122>, width=300, height=375, channels=3, levels=1, RGB=True, dtype=uint8> <valis.slide_io.VipsSlideReader object at 0x7f11b841ee10> True (375, 300, 3)\n",
      "<Slide, name = 2123>, width=300, height=375, channels=3, levels=1, RGB=True, dtype=uint8> <valis.slide_io.VipsSlideReader object at 0x7f11b841ed50> True (375, 300, 3)\n"
     ]
    },
    {
     "name": "stderr",
     "output_type": "stream",
     "text": [
      "Converting images:  80%|███████▉  | 2093/2627 [00:22<00:05, 90.73image/s]"
     ]
    },
    {
     "name": "stdout",
     "output_type": "stream",
     "text": [
      "<Slide, name = 2124>, width=300, height=375, channels=3, levels=1, RGB=True, dtype=uint8> <valis.slide_io.VipsSlideReader object at 0x7f11b841ef90> True (375, 300, 3)\n",
      "<Slide, name = 2125>, width=300, height=375, channels=3, levels=1, RGB=True, dtype=uint8> <valis.slide_io.VipsSlideReader object at 0x7f11bd5ff020> True (375, 300, 3)\n",
      "<Slide, name = 2126>, width=300, height=375, channels=3, levels=1, RGB=True, dtype=uint8> <valis.slide_io.VipsSlideReader object at 0x7f11bd5ff0e0> True (375, 300, 3)\n",
      "<Slide, name = 2127>, width=300, height=375, channels=3, levels=1, RGB=True, dtype=uint8> <valis.slide_io.VipsSlideReader object at 0x7f11bd5feb40> True (375, 300, 3)\n",
      "<Slide, name = 2128>, width=300, height=375, channels=3, levels=1, RGB=True, dtype=uint8> <valis.slide_io.VipsSlideReader object at 0x7f11bccaf0b0> True (375, 300, 3)\n",
      "<Slide, name = 2129>, width=300, height=375, channels=3, levels=1, RGB=True, dtype=uint8> <valis.slide_io.VipsSlideReader object at 0x7f11b841ede0> True (375, 300, 3)\n",
      "<Slide, name = 2130>, width=300, height=375, channels=3, levels=1, RGB=True, dtype=uint8> <valis.slide_io.VipsSlideReader object at 0x7f11bd5ff140> True (375, 300, 3)\n",
      "<Slide, name = 2131>, width=300, height=375, channels=3, levels=1, RGB=True, dtype=uint8> <valis.slide_io.VipsSlideReader object at 0x7f11bd5feea0> True (375, 300, 3)\n",
      "<Slide, name = 2132>, width=300, height=375, channels=3, levels=1, RGB=True, dtype=uint8> <valis.slide_io.VipsSlideReader object at 0x7f11b841efc0> True (375, 300, 3)\n",
      "<Slide, name = 2133>, width=300, height=375, channels=3, levels=1, RGB=True, dtype=uint8> <valis.slide_io.VipsSlideReader object at 0x7f11b841f260> True (375, 300, 3)\n"
     ]
    },
    {
     "name": "stderr",
     "output_type": "stream",
     "text": [
      "Converting images:  80%|████████  | 2103/2627 [00:23<00:05, 90.10image/s]"
     ]
    },
    {
     "name": "stdout",
     "output_type": "stream",
     "text": [
      "<Slide, name = 2134>, width=300, height=375, channels=3, levels=1, RGB=True, dtype=uint8> <valis.slide_io.VipsSlideReader object at 0x7f11b841f110> True (375, 300, 3)\n",
      "<Slide, name = 2135>, width=300, height=375, channels=3, levels=1, RGB=True, dtype=uint8> <valis.slide_io.VipsSlideReader object at 0x7f11bd5ff2f0> True (375, 300, 3)\n",
      "<Slide, name = 2136>, width=300, height=375, channels=3, levels=1, RGB=True, dtype=uint8> <valis.slide_io.VipsSlideReader object at 0x7f11bcb5f230> True (375, 300, 3)\n",
      "<Slide, name = 2137>, width=300, height=375, channels=3, levels=1, RGB=True, dtype=uint8> <valis.slide_io.VipsSlideReader object at 0x7f11bcb5f440> True (375, 300, 3)\n",
      "<Slide, name = 2138>, width=300, height=375, channels=3, levels=1, RGB=True, dtype=uint8> <valis.slide_io.VipsSlideReader object at 0x7f11bcc6f470> True (375, 300, 3)\n",
      "<Slide, name = 2139>, width=300, height=375, channels=3, levels=1, RGB=True, dtype=uint8> <valis.slide_io.VipsSlideReader object at 0x7f11b841f380> True (375, 300, 3)\n",
      "<Slide, name = 2140>, width=300, height=375, channels=3, levels=1, RGB=True, dtype=uint8> <valis.slide_io.VipsSlideReader object at 0x7f11bd5ff530> True (375, 300, 3)\n",
      "<Slide, name = 2141>, width=300, height=375, channels=3, levels=1, RGB=True, dtype=uint8> <valis.slide_io.VipsSlideReader object at 0x7f11bd5fecc0> True (375, 300, 3)\n",
      "<Slide, name = 2142>, width=300, height=375, channels=3, levels=1, RGB=True, dtype=uint8> <valis.slide_io.VipsSlideReader object at 0x7f11b841f4a0> True (375, 300, 3)\n",
      "<Slide, name = 2143>, width=300, height=375, channels=3, levels=1, RGB=True, dtype=uint8> <valis.slide_io.VipsSlideReader object at 0x7f11b841f650> True (375, 300, 3)\n"
     ]
    },
    {
     "name": "stderr",
     "output_type": "stream",
     "text": [
      "Converting images:  80%|████████  | 2113/2627 [00:23<00:05, 91.39image/s]"
     ]
    },
    {
     "name": "stdout",
     "output_type": "stream",
     "text": [
      "<Slide, name = 2144>, width=300, height=375, channels=3, levels=1, RGB=True, dtype=uint8> <valis.slide_io.VipsSlideReader object at 0x7f11b841f4d0> True (375, 300, 3)\n",
      "<Slide, name = 2145>, width=300, height=375, channels=3, levels=1, RGB=True, dtype=uint8> <valis.slide_io.VipsSlideReader object at 0x7f11bd5ff6e0> True (375, 300, 3)\n",
      "<Slide, name = 2146>, width=300, height=375, channels=3, levels=1, RGB=True, dtype=uint8> <valis.slide_io.VipsSlideReader object at 0x7f11bd5ff620> True (375, 300, 3)\n",
      "<Slide, name = 2147>, width=300, height=375, channels=3, levels=1, RGB=True, dtype=uint8> <valis.slide_io.VipsSlideReader object at 0x7f11bd5ff800> True (375, 300, 3)\n",
      "<Slide, name = 2148>, width=300, height=375, channels=3, levels=1, RGB=True, dtype=uint8> <valis.slide_io.VipsSlideReader object at 0x7f11bcce7830> True (375, 300, 3)\n",
      "<Slide, name = 2149>, width=300, height=375, channels=3, levels=1, RGB=True, dtype=uint8> <valis.slide_io.VipsSlideReader object at 0x7f11b841f710> True (375, 300, 3)\n",
      "<Slide, name = 2150>, width=300, height=375, channels=3, levels=1, RGB=True, dtype=uint8> <valis.slide_io.VipsSlideReader object at 0x7f11bd5ff8f0> True (375, 300, 3)\n",
      "<Slide, name = 2151>, width=300, height=375, channels=3, levels=1, RGB=True, dtype=uint8> <valis.slide_io.VipsSlideReader object at 0x7f11b841f770> True (375, 300, 3)\n",
      "<Slide, name = 2152>, width=300, height=375, channels=3, levels=1, RGB=True, dtype=uint8> <valis.slide_io.VipsSlideReader object at 0x7f11b841f9b0> True (375, 300, 3)\n",
      "<Slide, name = 2153>, width=300, height=375, channels=3, levels=1, RGB=True, dtype=uint8> <valis.slide_io.VipsSlideReader object at 0x7f11b841f590> True (375, 300, 3)\n"
     ]
    },
    {
     "name": "stderr",
     "output_type": "stream",
     "text": [
      "Converting images:  81%|████████  | 2123/2627 [00:23<00:05, 92.14image/s]"
     ]
    },
    {
     "name": "stdout",
     "output_type": "stream",
     "text": [
      "<Slide, name = 2154>, width=300, height=375, channels=3, levels=1, RGB=True, dtype=uint8> <valis.slide_io.VipsSlideReader object at 0x7f11bd5ff860> True (375, 300, 3)\n",
      "<Slide, name = 2155>, width=300, height=375, channels=3, levels=1, RGB=True, dtype=uint8> <valis.slide_io.VipsSlideReader object at 0x7f11b841f980> True (375, 300, 3)\n",
      "<Slide, name = 2156>, width=300, height=375, channels=3, levels=1, RGB=True, dtype=uint8> <valis.slide_io.VipsSlideReader object at 0x7f11b841fc50> True (375, 300, 3)\n",
      "<Slide, name = 2157>, width=300, height=375, channels=3, levels=1, RGB=True, dtype=uint8> <valis.slide_io.VipsSlideReader object at 0x7f11b841fb30> True (375, 300, 3)\n",
      "<Slide, name = 2158>, width=300, height=375, channels=3, levels=1, RGB=True, dtype=uint8> <valis.slide_io.VipsSlideReader object at 0x7f11bd5ffc80> True (375, 300, 3)\n",
      "<Slide, name = 2159>, width=300, height=375, channels=3, levels=1, RGB=True, dtype=uint8> <valis.slide_io.VipsSlideReader object at 0x7f11bd5ffe30> True (375, 300, 3)\n",
      "<Slide, name = 2160>, width=300, height=375, channels=3, levels=1, RGB=True, dtype=uint8> <valis.slide_io.VipsSlideReader object at 0x7f11bcb4f8c0> True (375, 300, 3)\n",
      "<Slide, name = 2161>, width=300, height=375, channels=3, levels=1, RGB=True, dtype=uint8> <valis.slide_io.VipsSlideReader object at 0x7f11bd5ffe00> True (375, 300, 3)\n",
      "<Slide, name = 2162>, width=300, height=375, channels=3, levels=1, RGB=True, dtype=uint8> <valis.slide_io.VipsSlideReader object at 0x7f11bccafe60> True (375, 300, 3)\n",
      "<Slide, name = 2163>, width=300, height=375, channels=3, levels=1, RGB=True, dtype=uint8> <valis.slide_io.VipsSlideReader object at 0x7f11b841fda0> True (375, 300, 3)\n"
     ]
    },
    {
     "name": "stderr",
     "output_type": "stream",
     "text": [
      "Converting images:  81%|████████  | 2133/2627 [00:23<00:05, 91.43image/s]"
     ]
    },
    {
     "name": "stdout",
     "output_type": "stream",
     "text": [
      "<Slide, name = 2164>, width=300, height=375, channels=3, levels=1, RGB=True, dtype=uint8> <valis.slide_io.VipsSlideReader object at 0x7f11b841fe90> True (375, 300, 3)\n",
      "<Slide, name = 2165>, width=300, height=375, channels=3, levels=1, RGB=True, dtype=uint8> <valis.slide_io.VipsSlideReader object at 0x7f11bd5ffef0> True (375, 300, 3)\n",
      "<Slide, name = 2166>, width=300, height=375, channels=3, levels=1, RGB=True, dtype=uint8> <valis.slide_io.VipsSlideReader object at 0x7f11b841fd40> True (375, 300, 3)\n",
      "<Slide, name = 2167>, width=300, height=375, channels=3, levels=1, RGB=True, dtype=uint8> <valis.slide_io.VipsSlideReader object at 0x7f11b841f950> True (375, 300, 3)\n",
      "<Slide, name = 2168>, width=300, height=375, channels=3, levels=1, RGB=True, dtype=uint8> <valis.slide_io.VipsSlideReader object at 0x7f11b841ff80> True (375, 300, 3)\n",
      "<Slide, name = 2169>, width=300, height=375, channels=3, levels=1, RGB=True, dtype=uint8> <valis.slide_io.VipsSlideReader object at 0x7f11b841ffe0> True (375, 300, 3)\n",
      "<Slide, name = 2170>, width=300, height=375, channels=3, levels=1, RGB=True, dtype=uint8> <valis.slide_io.VipsSlideReader object at 0x7f11b841fcb0> True (375, 300, 3)\n",
      "<Slide, name = 2171>, width=300, height=375, channels=3, levels=1, RGB=True, dtype=uint8> <valis.slide_io.VipsSlideReader object at 0x7f11bc3a42c0> True (375, 300, 3)\n",
      "<Slide, name = 2172>, width=300, height=375, channels=3, levels=1, RGB=True, dtype=uint8> <valis.slide_io.VipsSlideReader object at 0x7f11b8404200> True (375, 300, 3)\n",
      "<Slide, name = 2173>, width=300, height=375, channels=3, levels=1, RGB=True, dtype=uint8> <valis.slide_io.VipsSlideReader object at 0x7f11b836c170> True (375, 300, 3)\n"
     ]
    },
    {
     "name": "stderr",
     "output_type": "stream",
     "text": [
      "Converting images:  82%|████████▏ | 2143/2627 [00:23<00:05, 90.83image/s]"
     ]
    },
    {
     "name": "stdout",
     "output_type": "stream",
     "text": [
      "<Slide, name = 2174>, width=300, height=375, channels=3, levels=1, RGB=True, dtype=uint8> <valis.slide_io.VipsSlideReader object at 0x7f11b841c2f0> True (375, 300, 3)\n",
      "<Slide, name = 2175>, width=300, height=375, channels=3, levels=1, RGB=True, dtype=uint8> <valis.slide_io.VipsSlideReader object at 0x7f11b836c140> True (375, 300, 3)\n",
      "<Slide, name = 2176>, width=300, height=375, channels=3, levels=1, RGB=True, dtype=uint8> <valis.slide_io.VipsSlideReader object at 0x7f11bcb3c3b0> True (375, 300, 3)\n",
      "<Slide, name = 2177>, width=300, height=375, channels=3, levels=1, RGB=True, dtype=uint8> <valis.slide_io.VipsSlideReader object at 0x7f11b836c4a0> True (375, 300, 3)\n",
      "<Slide, name = 2178>, width=300, height=375, channels=3, levels=1, RGB=True, dtype=uint8> <valis.slide_io.VipsSlideReader object at 0x7f11bc3ac470> True (375, 300, 3)\n",
      "<Slide, name = 2179>, width=300, height=375, channels=3, levels=1, RGB=True, dtype=uint8> <valis.slide_io.VipsSlideReader object at 0x7f11b836c560> True (375, 300, 3)\n",
      "<Slide, name = 2180>, width=300, height=375, channels=3, levels=1, RGB=True, dtype=uint8> <valis.slide_io.VipsSlideReader object at 0x7f11bc3ac530> True (375, 300, 3)\n",
      "<Slide, name = 2181>, width=300, height=375, channels=3, levels=1, RGB=True, dtype=uint8> <valis.slide_io.VipsSlideReader object at 0x7f11b836c620> True (375, 300, 3)\n",
      "<Slide, name = 2182>, width=300, height=375, channels=3, levels=1, RGB=True, dtype=uint8> <valis.slide_io.VipsSlideReader object at 0x7f11bc3a45f0> True (375, 300, 3)\n",
      "<Slide, name = 2183>, width=300, height=375, channels=3, levels=1, RGB=True, dtype=uint8> <valis.slide_io.VipsSlideReader object at 0x7f11b836c6e0> True (375, 300, 3)\n"
     ]
    },
    {
     "name": "stderr",
     "output_type": "stream",
     "text": [
      "Converting images:  82%|████████▏ | 2153/2627 [00:23<00:05, 90.98image/s]"
     ]
    },
    {
     "name": "stdout",
     "output_type": "stream",
     "text": [
      "<Slide, name = 2184>, width=300, height=375, channels=3, levels=1, RGB=True, dtype=uint8> <valis.slide_io.VipsSlideReader object at 0x7f11b84046b0> True (375, 300, 3)\n",
      "<Slide, name = 2185>, width=300, height=375, channels=3, levels=1, RGB=True, dtype=uint8> <valis.slide_io.VipsSlideReader object at 0x7f11b836c7a0> True (375, 300, 3)\n",
      "<Slide, name = 2186>, width=300, height=375, channels=3, levels=1, RGB=True, dtype=uint8> <valis.slide_io.VipsSlideReader object at 0x7f11bcb64770> True (375, 300, 3)\n",
      "<Slide, name = 2187>, width=300, height=375, channels=3, levels=1, RGB=True, dtype=uint8> <valis.slide_io.VipsSlideReader object at 0x7f11b836c860> True (375, 300, 3)\n",
      "<Slide, name = 2188>, width=300, height=375, channels=3, levels=1, RGB=True, dtype=uint8> <valis.slide_io.VipsSlideReader object at 0x7f11b836c650> True (375, 300, 3)\n",
      "<Slide, name = 2189>, width=300, height=375, channels=3, levels=1, RGB=True, dtype=uint8> <valis.slide_io.VipsSlideReader object at 0x7f11b836c980> True (375, 300, 3)\n",
      "<Slide, name = 2190>, width=300, height=375, channels=3, levels=1, RGB=True, dtype=uint8> <valis.slide_io.VipsSlideReader object at 0x7f11b836c4d0> True (375, 300, 3)\n",
      "<Slide, name = 2191>, width=300, height=375, channels=3, levels=1, RGB=True, dtype=uint8> <valis.slide_io.VipsSlideReader object at 0x7f11b836c920> True (375, 300, 3)\n",
      "<Slide, name = 2192>, width=300, height=375, channels=3, levels=1, RGB=True, dtype=uint8> <valis.slide_io.VipsSlideReader object at 0x7f11b836ca40> True (375, 300, 3)\n",
      "<Slide, name = 2193>, width=300, height=375, channels=3, levels=1, RGB=True, dtype=uint8> <valis.slide_io.VipsSlideReader object at 0x7f11b836caa0> True (375, 300, 3)\n"
     ]
    },
    {
     "name": "stderr",
     "output_type": "stream",
     "text": [
      "Converting images:  82%|████████▏ | 2163/2627 [00:23<00:05, 91.70image/s]"
     ]
    },
    {
     "name": "stdout",
     "output_type": "stream",
     "text": [
      "<Slide, name = 2194>, width=300, height=375, channels=3, levels=1, RGB=True, dtype=uint8> <valis.slide_io.VipsSlideReader object at 0x7f11b836cb00> True (375, 300, 3)\n",
      "<Slide, name = 2195>, width=300, height=375, channels=3, levels=1, RGB=True, dtype=uint8> <valis.slide_io.VipsSlideReader object at 0x7f11b836cb60> True (375, 300, 3)\n",
      "<Slide, name = 2196>, width=300, height=375, channels=3, levels=1, RGB=True, dtype=uint8> <valis.slide_io.VipsSlideReader object at 0x7f11b836cbc0> True (375, 300, 3)\n",
      "<Slide, name = 2197>, width=300, height=375, channels=3, levels=1, RGB=True, dtype=uint8> <valis.slide_io.VipsSlideReader object at 0x7f11b836cc20> True (375, 300, 3)\n",
      "<Slide, name = 2198>, width=300, height=375, channels=3, levels=1, RGB=True, dtype=uint8> <valis.slide_io.VipsSlideReader object at 0x7f11b836cc80> True (375, 300, 3)\n",
      "<Slide, name = 2199>, width=300, height=375, channels=3, levels=1, RGB=True, dtype=uint8> <valis.slide_io.VipsSlideReader object at 0x7f11b836cce0> True (375, 300, 3)\n",
      "<Slide, name = 2200>, width=300, height=375, channels=3, levels=1, RGB=True, dtype=uint8> <valis.slide_io.VipsSlideReader object at 0x7f11b836cd40> True (375, 300, 3)\n",
      "<Slide, name = 2201>, width=300, height=375, channels=3, levels=1, RGB=True, dtype=uint8> <valis.slide_io.VipsSlideReader object at 0x7f11b836cda0> True (375, 300, 3)\n",
      "<Slide, name = 2202>, width=300, height=375, channels=3, levels=1, RGB=True, dtype=uint8> <valis.slide_io.VipsSlideReader object at 0x7f11b836ce00> True (375, 300, 3)\n",
      "<Slide, name = 2203>, width=300, height=375, channels=3, levels=1, RGB=True, dtype=uint8> <valis.slide_io.VipsSlideReader object at 0x7f11b836ce60> True (375, 300, 3)\n"
     ]
    },
    {
     "name": "stderr",
     "output_type": "stream",
     "text": [
      "Converting images:  83%|████████▎ | 2173/2627 [00:23<00:04, 92.07image/s]"
     ]
    },
    {
     "name": "stdout",
     "output_type": "stream",
     "text": [
      "<Slide, name = 2204>, width=300, height=375, channels=3, levels=1, RGB=True, dtype=uint8> <valis.slide_io.VipsSlideReader object at 0x7f11b836cec0> True (375, 300, 3)\n",
      "<Slide, name = 2205>, width=300, height=375, channels=3, levels=1, RGB=True, dtype=uint8> <valis.slide_io.VipsSlideReader object at 0x7f11b836cf20> True (375, 300, 3)\n",
      "<Slide, name = 2206>, width=300, height=375, channels=3, levels=1, RGB=True, dtype=uint8> <valis.slide_io.VipsSlideReader object at 0x7f11b836cf80> True (375, 300, 3)\n",
      "<Slide, name = 2207>, width=300, height=375, channels=3, levels=1, RGB=True, dtype=uint8> <valis.slide_io.VipsSlideReader object at 0x7f11b836cfe0> True (375, 300, 3)\n",
      "<Slide, name = 2208>, width=300, height=375, channels=3, levels=1, RGB=True, dtype=uint8> <valis.slide_io.VipsSlideReader object at 0x7f11b836d040> True (375, 300, 3)\n",
      "<Slide, name = 2209>, width=300, height=375, channels=3, levels=1, RGB=True, dtype=uint8> <valis.slide_io.VipsSlideReader object at 0x7f11b836d0a0> True (375, 300, 3)\n",
      "<Slide, name = 2210>, width=300, height=375, channels=3, levels=1, RGB=True, dtype=uint8> <valis.slide_io.VipsSlideReader object at 0x7f11b836d100> True (375, 300, 3)\n",
      "<Slide, name = 2211>, width=300, height=375, channels=3, levels=1, RGB=True, dtype=uint8> <valis.slide_io.VipsSlideReader object at 0x7f11b836d160> True (375, 300, 3)\n",
      "<Slide, name = 2212>, width=300, height=375, channels=3, levels=1, RGB=True, dtype=uint8> <valis.slide_io.VipsSlideReader object at 0x7f11b836d1c0> True (375, 300, 3)\n",
      "<Slide, name = 2213>, width=300, height=375, channels=3, levels=1, RGB=True, dtype=uint8> <valis.slide_io.VipsSlideReader object at 0x7f11b836d220> True (375, 300, 3)\n"
     ]
    },
    {
     "name": "stderr",
     "output_type": "stream",
     "text": [
      "Converting images:  83%|████████▎ | 2183/2627 [00:23<00:04, 91.85image/s]"
     ]
    },
    {
     "name": "stdout",
     "output_type": "stream",
     "text": [
      "<Slide, name = 2214>, width=300, height=375, channels=3, levels=1, RGB=True, dtype=uint8> <valis.slide_io.VipsSlideReader object at 0x7f11b836d280> True (375, 300, 3)\n",
      "<Slide, name = 2215>, width=300, height=375, channels=3, levels=1, RGB=True, dtype=uint8> <valis.slide_io.VipsSlideReader object at 0x7f11b836d2e0> True (375, 300, 3)\n",
      "<Slide, name = 2216>, width=300, height=375, channels=3, levels=1, RGB=True, dtype=uint8> <valis.slide_io.VipsSlideReader object at 0x7f11b836d340> True (375, 300, 3)\n",
      "<Slide, name = 2217>, width=300, height=375, channels=3, levels=1, RGB=True, dtype=uint8> <valis.slide_io.VipsSlideReader object at 0x7f11b836d3a0> True (375, 300, 3)\n",
      "<Slide, name = 2218>, width=300, height=375, channels=3, levels=1, RGB=True, dtype=uint8> <valis.slide_io.VipsSlideReader object at 0x7f11b836d400> True (375, 300, 3)\n",
      "<Slide, name = 2219>, width=300, height=375, channels=3, levels=1, RGB=True, dtype=uint8> <valis.slide_io.VipsSlideReader object at 0x7f11b836d460> True (375, 300, 3)\n",
      "<Slide, name = 2220>, width=300, height=375, channels=3, levels=1, RGB=True, dtype=uint8> <valis.slide_io.VipsSlideReader object at 0x7f11b836d4c0> True (375, 300, 3)\n",
      "<Slide, name = 2221>, width=300, height=375, channels=3, levels=1, RGB=True, dtype=uint8> <valis.slide_io.VipsSlideReader object at 0x7f11b836d520> True (375, 300, 3)\n",
      "<Slide, name = 2222>, width=300, height=375, channels=3, levels=1, RGB=True, dtype=uint8> <valis.slide_io.VipsSlideReader object at 0x7f11b836d580> True (375, 300, 3)\n",
      "<Slide, name = 2223>, width=300, height=375, channels=3, levels=1, RGB=True, dtype=uint8> <valis.slide_io.VipsSlideReader object at 0x7f11b836d5e0> True (375, 300, 3)\n"
     ]
    },
    {
     "name": "stderr",
     "output_type": "stream",
     "text": [
      "Converting images:  83%|████████▎ | 2193/2627 [00:24<00:04, 92.17image/s]"
     ]
    },
    {
     "name": "stdout",
     "output_type": "stream",
     "text": [
      "<Slide, name = 2224>, width=300, height=375, channels=3, levels=1, RGB=True, dtype=uint8> <valis.slide_io.VipsSlideReader object at 0x7f11b836d640> True (375, 300, 3)\n",
      "<Slide, name = 2225>, width=300, height=375, channels=3, levels=1, RGB=True, dtype=uint8> <valis.slide_io.VipsSlideReader object at 0x7f11b836d6a0> True (375, 300, 3)\n",
      "<Slide, name = 2226>, width=300, height=375, channels=3, levels=1, RGB=True, dtype=uint8> <valis.slide_io.VipsSlideReader object at 0x7f11b836d700> True (375, 300, 3)\n",
      "<Slide, name = 2227>, width=300, height=375, channels=3, levels=1, RGB=True, dtype=uint8> <valis.slide_io.VipsSlideReader object at 0x7f11b836d760> True (375, 300, 3)\n",
      "<Slide, name = 2228>, width=300, height=375, channels=3, levels=1, RGB=True, dtype=uint8> <valis.slide_io.VipsSlideReader object at 0x7f11b836d7c0> True (375, 300, 3)\n",
      "<Slide, name = 2229>, width=300, height=375, channels=3, levels=1, RGB=True, dtype=uint8> <valis.slide_io.VipsSlideReader object at 0x7f11b836d820> True (375, 300, 3)\n",
      "<Slide, name = 2230>, width=300, height=375, channels=3, levels=1, RGB=True, dtype=uint8> <valis.slide_io.VipsSlideReader object at 0x7f11b836d880> True (375, 300, 3)\n",
      "<Slide, name = 2231>, width=300, height=375, channels=3, levels=1, RGB=True, dtype=uint8> <valis.slide_io.VipsSlideReader object at 0x7f11b836d8e0> True (375, 300, 3)\n",
      "<Slide, name = 2232>, width=300, height=375, channels=3, levels=1, RGB=True, dtype=uint8> <valis.slide_io.VipsSlideReader object at 0x7f11b836d940> True (375, 300, 3)\n",
      "<Slide, name = 2233>, width=300, height=375, channels=3, levels=1, RGB=True, dtype=uint8> <valis.slide_io.VipsSlideReader object at 0x7f11b836d9a0> True (375, 300, 3)\n"
     ]
    },
    {
     "name": "stderr",
     "output_type": "stream",
     "text": [
      "Converting images:  84%|████████▍ | 2203/2627 [00:24<00:04, 92.55image/s]"
     ]
    },
    {
     "name": "stdout",
     "output_type": "stream",
     "text": [
      "<Slide, name = 2234>, width=300, height=375, channels=3, levels=1, RGB=True, dtype=uint8> <valis.slide_io.VipsSlideReader object at 0x7f11b836da00> True (375, 300, 3)\n",
      "<Slide, name = 2235>, width=300, height=375, channels=3, levels=1, RGB=True, dtype=uint8> <valis.slide_io.VipsSlideReader object at 0x7f11b836da60> True (375, 300, 3)\n",
      "<Slide, name = 2236>, width=300, height=375, channels=3, levels=1, RGB=True, dtype=uint8> <valis.slide_io.VipsSlideReader object at 0x7f11b836dac0> True (375, 300, 3)\n",
      "<Slide, name = 2237>, width=300, height=375, channels=3, levels=1, RGB=True, dtype=uint8> <valis.slide_io.VipsSlideReader object at 0x7f11b836db20> True (375, 300, 3)\n",
      "<Slide, name = 2238>, width=300, height=375, channels=3, levels=1, RGB=True, dtype=uint8> <valis.slide_io.VipsSlideReader object at 0x7f11b836db80> True (375, 300, 3)\n",
      "<Slide, name = 2239>, width=300, height=375, channels=3, levels=1, RGB=True, dtype=uint8> <valis.slide_io.VipsSlideReader object at 0x7f11b836dbe0> True (375, 300, 3)\n",
      "<Slide, name = 2240>, width=300, height=375, channels=3, levels=1, RGB=True, dtype=uint8> <valis.slide_io.VipsSlideReader object at 0x7f11b836dc40> True (375, 300, 3)\n",
      "<Slide, name = 2241>, width=300, height=375, channels=3, levels=1, RGB=True, dtype=uint8> <valis.slide_io.VipsSlideReader object at 0x7f11b836dca0> True (375, 300, 3)\n",
      "<Slide, name = 2242>, width=300, height=375, channels=3, levels=1, RGB=True, dtype=uint8> <valis.slide_io.VipsSlideReader object at 0x7f11b836dd00> True (375, 300, 3)\n",
      "<Slide, name = 2243>, width=300, height=375, channels=3, levels=1, RGB=True, dtype=uint8> <valis.slide_io.VipsSlideReader object at 0x7f11b836dd60> True (375, 300, 3)\n"
     ]
    },
    {
     "name": "stderr",
     "output_type": "stream",
     "text": [
      "Converting images:  84%|████████▍ | 2213/2627 [00:24<00:04, 92.63image/s]"
     ]
    },
    {
     "name": "stdout",
     "output_type": "stream",
     "text": [
      "<Slide, name = 2244>, width=300, height=375, channels=3, levels=1, RGB=True, dtype=uint8> <valis.slide_io.VipsSlideReader object at 0x7f11b836ddc0> True (375, 300, 3)\n",
      "<Slide, name = 2245>, width=300, height=375, channels=3, levels=1, RGB=True, dtype=uint8> <valis.slide_io.VipsSlideReader object at 0x7f11b836de20> True (375, 300, 3)\n",
      "<Slide, name = 2246>, width=300, height=375, channels=3, levels=1, RGB=True, dtype=uint8> <valis.slide_io.VipsSlideReader object at 0x7f11b836de80> True (375, 300, 3)\n",
      "<Slide, name = 2247>, width=300, height=375, channels=3, levels=1, RGB=True, dtype=uint8> <valis.slide_io.VipsSlideReader object at 0x7f11b836dee0> True (375, 300, 3)\n",
      "<Slide, name = 2248>, width=300, height=375, channels=3, levels=1, RGB=True, dtype=uint8> <valis.slide_io.VipsSlideReader object at 0x7f11b836df40> True (375, 300, 3)\n",
      "<Slide, name = 2249>, width=300, height=375, channels=3, levels=1, RGB=True, dtype=uint8> <valis.slide_io.VipsSlideReader object at 0x7f11b836dfa0> True (375, 300, 3)\n",
      "<Slide, name = 2250>, width=300, height=375, channels=3, levels=1, RGB=True, dtype=uint8> <valis.slide_io.VipsSlideReader object at 0x7f11b836e000> True (375, 300, 3)\n",
      "<Slide, name = 2251>, width=300, height=375, channels=3, levels=1, RGB=True, dtype=uint8> <valis.slide_io.VipsSlideReader object at 0x7f11b836e060> True (375, 300, 3)\n",
      "<Slide, name = 2252>, width=300, height=375, channels=3, levels=1, RGB=True, dtype=uint8> <valis.slide_io.VipsSlideReader object at 0x7f11b836e0c0> True (375, 300, 3)\n",
      "<Slide, name = 2253>, width=300, height=375, channels=3, levels=1, RGB=True, dtype=uint8> <valis.slide_io.VipsSlideReader object at 0x7f11b836e120> True (375, 300, 3)\n"
     ]
    },
    {
     "name": "stderr",
     "output_type": "stream",
     "text": [
      "Converting images:  85%|████████▍ | 2223/2627 [00:24<00:04, 92.75image/s]"
     ]
    },
    {
     "name": "stdout",
     "output_type": "stream",
     "text": [
      "<Slide, name = 2254>, width=300, height=375, channels=3, levels=1, RGB=True, dtype=uint8> <valis.slide_io.VipsSlideReader object at 0x7f11b836e180> True (375, 300, 3)\n",
      "<Slide, name = 2255>, width=300, height=375, channels=3, levels=1, RGB=True, dtype=uint8> <valis.slide_io.VipsSlideReader object at 0x7f11b836e1e0> True (375, 300, 3)\n",
      "<Slide, name = 2256>, width=300, height=375, channels=3, levels=1, RGB=True, dtype=uint8> <valis.slide_io.VipsSlideReader object at 0x7f11b836e240> True (375, 300, 3)\n",
      "<Slide, name = 2257>, width=300, height=375, channels=3, levels=1, RGB=True, dtype=uint8> <valis.slide_io.VipsSlideReader object at 0x7f11b836e2a0> True (375, 300, 3)\n",
      "<Slide, name = 2258>, width=300, height=375, channels=3, levels=1, RGB=True, dtype=uint8> <valis.slide_io.VipsSlideReader object at 0x7f11b836e300> True (375, 300, 3)\n",
      "<Slide, name = 2259>, width=300, height=375, channels=3, levels=1, RGB=True, dtype=uint8> <valis.slide_io.VipsSlideReader object at 0x7f11b836e360> True (375, 300, 3)\n",
      "<Slide, name = 2260>, width=300, height=375, channels=3, levels=1, RGB=True, dtype=uint8> <valis.slide_io.VipsSlideReader object at 0x7f11b836e3c0> True (375, 300, 3)\n",
      "<Slide, name = 2261>, width=300, height=375, channels=3, levels=1, RGB=True, dtype=uint8> <valis.slide_io.VipsSlideReader object at 0x7f11b836e420> True (375, 300, 3)\n",
      "<Slide, name = 2262>, width=300, height=375, channels=3, levels=1, RGB=True, dtype=uint8> <valis.slide_io.VipsSlideReader object at 0x7f11b836e480> True (375, 300, 3)\n",
      "<Slide, name = 2263>, width=300, height=375, channels=3, levels=1, RGB=True, dtype=uint8> <valis.slide_io.VipsSlideReader object at 0x7f11b836e4e0> True (375, 300, 3)\n"
     ]
    },
    {
     "name": "stderr",
     "output_type": "stream",
     "text": [
      "Converting images:  85%|████████▌ | 2233/2627 [00:24<00:04, 92.24image/s]"
     ]
    },
    {
     "name": "stdout",
     "output_type": "stream",
     "text": [
      "<Slide, name = 2264>, width=300, height=375, channels=3, levels=1, RGB=True, dtype=uint8> <valis.slide_io.VipsSlideReader object at 0x7f11b836e540> True (375, 300, 3)\n",
      "<Slide, name = 2265>, width=300, height=375, channels=3, levels=1, RGB=True, dtype=uint8> <valis.slide_io.VipsSlideReader object at 0x7f11b836e5a0> True (375, 300, 3)\n",
      "<Slide, name = 2266>, width=300, height=375, channels=3, levels=1, RGB=True, dtype=uint8> <valis.slide_io.VipsSlideReader object at 0x7f11b836e600> True (375, 300, 3)\n",
      "<Slide, name = 2267>, width=300, height=375, channels=3, levels=1, RGB=True, dtype=uint8> <valis.slide_io.VipsSlideReader object at 0x7f11b836e660> True (375, 300, 3)\n",
      "<Slide, name = 2268>, width=300, height=375, channels=3, levels=1, RGB=True, dtype=uint8> <valis.slide_io.VipsSlideReader object at 0x7f11b836e6c0> True (375, 300, 3)\n",
      "<Slide, name = 2269>, width=300, height=375, channels=3, levels=1, RGB=True, dtype=uint8> <valis.slide_io.VipsSlideReader object at 0x7f11b836e720> True (375, 300, 3)\n",
      "<Slide, name = 2270>, width=300, height=375, channels=3, levels=1, RGB=True, dtype=uint8> <valis.slide_io.VipsSlideReader object at 0x7f11b836e780> True (375, 300, 3)\n",
      "<Slide, name = 2271>, width=300, height=375, channels=3, levels=1, RGB=True, dtype=uint8> <valis.slide_io.VipsSlideReader object at 0x7f11b836e7e0> True (375, 300, 3)\n",
      "<Slide, name = 2272>, width=300, height=375, channels=3, levels=1, RGB=True, dtype=uint8> <valis.slide_io.VipsSlideReader object at 0x7f11b836e840> True (375, 300, 3)\n",
      "<Slide, name = 2273>, width=300, height=375, channels=3, levels=1, RGB=True, dtype=uint8> <valis.slide_io.VipsSlideReader object at 0x7f11b836e8a0> True (375, 300, 3)\n"
     ]
    },
    {
     "name": "stderr",
     "output_type": "stream",
     "text": [
      "Converting images:  85%|████████▌ | 2243/2627 [00:24<00:04, 92.53image/s]"
     ]
    },
    {
     "name": "stdout",
     "output_type": "stream",
     "text": [
      "<Slide, name = 2274>, width=300, height=375, channels=3, levels=1, RGB=True, dtype=uint8> <valis.slide_io.VipsSlideReader object at 0x7f11b836e900> True (375, 300, 3)\n",
      "<Slide, name = 2275>, width=300, height=375, channels=3, levels=1, RGB=True, dtype=uint8> <valis.slide_io.VipsSlideReader object at 0x7f11b836e960> True (375, 300, 3)\n",
      "<Slide, name = 2276>, width=300, height=375, channels=3, levels=1, RGB=True, dtype=uint8> <valis.slide_io.VipsSlideReader object at 0x7f11b836e9c0> True (375, 300, 3)\n",
      "<Slide, name = 2277>, width=300, height=375, channels=3, levels=1, RGB=True, dtype=uint8> <valis.slide_io.VipsSlideReader object at 0x7f11b836ea20> True (375, 300, 3)\n",
      "<Slide, name = 2278>, width=300, height=375, channels=3, levels=1, RGB=True, dtype=uint8> <valis.slide_io.VipsSlideReader object at 0x7f11b836ea80> True (375, 300, 3)\n",
      "<Slide, name = 2279>, width=300, height=375, channels=3, levels=1, RGB=True, dtype=uint8> <valis.slide_io.VipsSlideReader object at 0x7f11b836eae0> True (375, 300, 3)\n",
      "<Slide, name = 2280>, width=300, height=375, channels=3, levels=1, RGB=True, dtype=uint8> <valis.slide_io.VipsSlideReader object at 0x7f11b836eb40> True (375, 300, 3)\n",
      "<Slide, name = 2281>, width=300, height=375, channels=3, levels=1, RGB=True, dtype=uint8> <valis.slide_io.VipsSlideReader object at 0x7f11b836eba0> True (375, 300, 3)\n",
      "<Slide, name = 2282>, width=300, height=375, channels=3, levels=1, RGB=True, dtype=uint8> <valis.slide_io.VipsSlideReader object at 0x7f11b836ec00> True (375, 300, 3)\n",
      "<Slide, name = 2283>, width=300, height=375, channels=3, levels=1, RGB=True, dtype=uint8> <valis.slide_io.VipsSlideReader object at 0x7f11b836ec60> True (375, 300, 3)\n"
     ]
    },
    {
     "name": "stderr",
     "output_type": "stream",
     "text": [
      "Converting images:  86%|████████▌ | 2253/2627 [00:24<00:04, 92.31image/s]"
     ]
    },
    {
     "name": "stdout",
     "output_type": "stream",
     "text": [
      "<Slide, name = 2284>, width=300, height=375, channels=3, levels=1, RGB=True, dtype=uint8> <valis.slide_io.VipsSlideReader object at 0x7f11b836ecc0> True (375, 300, 3)\n",
      "<Slide, name = 2285>, width=300, height=375, channels=3, levels=1, RGB=True, dtype=uint8> <valis.slide_io.VipsSlideReader object at 0x7f11b836ed20> True (375, 300, 3)\n",
      "<Slide, name = 2286>, width=300, height=375, channels=3, levels=1, RGB=True, dtype=uint8> <valis.slide_io.VipsSlideReader object at 0x7f11b836ed80> True (375, 300, 3)\n",
      "<Slide, name = 2287>, width=300, height=375, channels=3, levels=1, RGB=True, dtype=uint8> <valis.slide_io.VipsSlideReader object at 0x7f11b836ede0> True (375, 300, 3)\n",
      "<Slide, name = 2288>, width=300, height=375, channels=3, levels=1, RGB=True, dtype=uint8> <valis.slide_io.VipsSlideReader object at 0x7f11b836ee40> True (375, 300, 3)\n",
      "<Slide, name = 2289>, width=300, height=375, channels=3, levels=1, RGB=True, dtype=uint8> <valis.slide_io.VipsSlideReader object at 0x7f11b836eea0> True (375, 300, 3)\n",
      "<Slide, name = 2290>, width=300, height=375, channels=3, levels=1, RGB=True, dtype=uint8> <valis.slide_io.VipsSlideReader object at 0x7f11b836ef00> True (375, 300, 3)\n",
      "<Slide, name = 2291>, width=300, height=375, channels=3, levels=1, RGB=True, dtype=uint8> <valis.slide_io.VipsSlideReader object at 0x7f11b836ef60> True (375, 300, 3)\n",
      "<Slide, name = 2292>, width=300, height=375, channels=3, levels=1, RGB=True, dtype=uint8> <valis.slide_io.VipsSlideReader object at 0x7f11b836efc0> True (375, 300, 3)\n",
      "<Slide, name = 2293>, width=300, height=375, channels=3, levels=1, RGB=True, dtype=uint8> <valis.slide_io.VipsSlideReader object at 0x7f11b836f020> True (375, 300, 3)\n"
     ]
    },
    {
     "name": "stderr",
     "output_type": "stream",
     "text": [
      "Converting images:  86%|████████▌ | 2263/2627 [00:24<00:03, 92.67image/s]"
     ]
    },
    {
     "name": "stdout",
     "output_type": "stream",
     "text": [
      "<Slide, name = 2294>, width=300, height=375, channels=3, levels=1, RGB=True, dtype=uint8> <valis.slide_io.VipsSlideReader object at 0x7f11b836f080> True (375, 300, 3)\n",
      "<Slide, name = 2295>, width=300, height=375, channels=3, levels=1, RGB=True, dtype=uint8> <valis.slide_io.VipsSlideReader object at 0x7f11b836f0e0> True (375, 300, 3)\n",
      "<Slide, name = 2296>, width=300, height=375, channels=3, levels=1, RGB=True, dtype=uint8> <valis.slide_io.VipsSlideReader object at 0x7f11b836f140> True (375, 300, 3)\n",
      "<Slide, name = 2297>, width=300, height=375, channels=3, levels=1, RGB=True, dtype=uint8> <valis.slide_io.VipsSlideReader object at 0x7f11b836f1a0> True (375, 300, 3)\n",
      "<Slide, name = 2298>, width=300, height=375, channels=3, levels=1, RGB=True, dtype=uint8> <valis.slide_io.VipsSlideReader object at 0x7f11b836f200> True (375, 300, 3)\n",
      "<Slide, name = 2299>, width=300, height=375, channels=3, levels=1, RGB=True, dtype=uint8> <valis.slide_io.VipsSlideReader object at 0x7f11b836f260> True (375, 300, 3)\n",
      "<Slide, name = 2300>, width=300, height=375, channels=3, levels=1, RGB=True, dtype=uint8> <valis.slide_io.VipsSlideReader object at 0x7f11b836f2c0> True (375, 300, 3)\n",
      "<Slide, name = 2301>, width=300, height=375, channels=3, levels=1, RGB=True, dtype=uint8> <valis.slide_io.VipsSlideReader object at 0x7f11b836f320> True (375, 300, 3)\n",
      "<Slide, name = 2302>, width=300, height=375, channels=3, levels=1, RGB=True, dtype=uint8> <valis.slide_io.VipsSlideReader object at 0x7f11b836f380> True (375, 300, 3)\n",
      "<Slide, name = 2303>, width=300, height=375, channels=3, levels=1, RGB=True, dtype=uint8> <valis.slide_io.VipsSlideReader object at 0x7f11b836f3e0> True (375, 300, 3)\n"
     ]
    },
    {
     "name": "stderr",
     "output_type": "stream",
     "text": [
      "Converting images:  87%|████████▋ | 2273/2627 [00:24<00:03, 91.93image/s]"
     ]
    },
    {
     "name": "stdout",
     "output_type": "stream",
     "text": [
      "<Slide, name = 2304>, width=300, height=375, channels=3, levels=1, RGB=True, dtype=uint8> <valis.slide_io.VipsSlideReader object at 0x7f11b836f440> True (375, 300, 3)\n",
      "<Slide, name = 2305>, width=300, height=375, channels=3, levels=1, RGB=True, dtype=uint8> <valis.slide_io.VipsSlideReader object at 0x7f11b836f4a0> True (375, 300, 3)\n",
      "<Slide, name = 2306>, width=300, height=375, channels=3, levels=1, RGB=True, dtype=uint8> <valis.slide_io.VipsSlideReader object at 0x7f11b836f500> True (375, 300, 3)\n",
      "<Slide, name = 2307>, width=300, height=375, channels=3, levels=1, RGB=True, dtype=uint8> <valis.slide_io.VipsSlideReader object at 0x7f11b836f560> True (375, 300, 3)\n",
      "<Slide, name = 2308>, width=300, height=375, channels=3, levels=1, RGB=True, dtype=uint8> <valis.slide_io.VipsSlideReader object at 0x7f11b836f5c0> True (375, 300, 3)\n",
      "<Slide, name = 2309>, width=300, height=375, channels=3, levels=1, RGB=True, dtype=uint8> <valis.slide_io.VipsSlideReader object at 0x7f11b836f620> True (375, 300, 3)\n",
      "<Slide, name = 2310>, width=300, height=375, channels=3, levels=1, RGB=True, dtype=uint8> <valis.slide_io.VipsSlideReader object at 0x7f11b836f680> True (375, 300, 3)\n",
      "<Slide, name = 2311>, width=300, height=375, channels=3, levels=1, RGB=True, dtype=uint8> <valis.slide_io.VipsSlideReader object at 0x7f11b836f6e0> True (375, 300, 3)\n",
      "<Slide, name = 2312>, width=300, height=375, channels=3, levels=1, RGB=True, dtype=uint8> <valis.slide_io.VipsSlideReader object at 0x7f11b836f740> True (375, 300, 3)\n",
      "<Slide, name = 2313>, width=300, height=375, channels=3, levels=1, RGB=True, dtype=uint8> <valis.slide_io.VipsSlideReader object at 0x7f11b836f7a0> True (375, 300, 3)\n"
     ]
    },
    {
     "name": "stderr",
     "output_type": "stream",
     "text": [
      "Converting images:  87%|████████▋ | 2283/2627 [00:25<00:03, 92.26image/s]"
     ]
    },
    {
     "name": "stdout",
     "output_type": "stream",
     "text": [
      "<Slide, name = 2314>, width=300, height=375, channels=3, levels=1, RGB=True, dtype=uint8> <valis.slide_io.VipsSlideReader object at 0x7f11b836f800> True (375, 300, 3)\n",
      "<Slide, name = 2315>, width=300, height=375, channels=3, levels=1, RGB=True, dtype=uint8> <valis.slide_io.VipsSlideReader object at 0x7f11b836f860> True (375, 300, 3)\n",
      "<Slide, name = 2316>, width=300, height=375, channels=3, levels=1, RGB=True, dtype=uint8> <valis.slide_io.VipsSlideReader object at 0x7f11b836f8c0> True (375, 300, 3)\n",
      "<Slide, name = 2317>, width=300, height=375, channels=3, levels=1, RGB=True, dtype=uint8> <valis.slide_io.VipsSlideReader object at 0x7f11b836f920> True (375, 300, 3)\n",
      "<Slide, name = 2318>, width=300, height=375, channels=3, levels=1, RGB=True, dtype=uint8> <valis.slide_io.VipsSlideReader object at 0x7f11b836f980> True (375, 300, 3)\n",
      "<Slide, name = 2319>, width=300, height=375, channels=3, levels=1, RGB=True, dtype=uint8> <valis.slide_io.VipsSlideReader object at 0x7f11b836f9e0> True (375, 300, 3)\n",
      "<Slide, name = 2320>, width=300, height=375, channels=3, levels=1, RGB=True, dtype=uint8> <valis.slide_io.VipsSlideReader object at 0x7f11b836fa40> True (375, 300, 3)\n",
      "<Slide, name = 2321>, width=300, height=375, channels=3, levels=1, RGB=True, dtype=uint8> <valis.slide_io.VipsSlideReader object at 0x7f11b836faa0> True (375, 300, 3)\n",
      "<Slide, name = 2322>, width=300, height=375, channels=3, levels=1, RGB=True, dtype=uint8> <valis.slide_io.VipsSlideReader object at 0x7f11b836fb00> True (375, 300, 3)\n",
      "<Slide, name = 2323>, width=300, height=375, channels=3, levels=1, RGB=True, dtype=uint8> <valis.slide_io.VipsSlideReader object at 0x7f11b836fb60> True (375, 300, 3)\n"
     ]
    },
    {
     "name": "stderr",
     "output_type": "stream",
     "text": [
      "Converting images:  87%|████████▋ | 2293/2627 [00:25<00:03, 92.16image/s]"
     ]
    },
    {
     "name": "stdout",
     "output_type": "stream",
     "text": [
      "<Slide, name = 2324>, width=300, height=375, channels=3, levels=1, RGB=True, dtype=uint8> <valis.slide_io.VipsSlideReader object at 0x7f11b836fbc0> True (375, 300, 3)\n",
      "<Slide, name = 2325>, width=300, height=375, channels=3, levels=1, RGB=True, dtype=uint8> <valis.slide_io.VipsSlideReader object at 0x7f11b836fc20> True (375, 300, 3)\n",
      "<Slide, name = 2326>, width=300, height=375, channels=3, levels=1, RGB=True, dtype=uint8> <valis.slide_io.VipsSlideReader object at 0x7f11b836fc80> True (375, 300, 3)\n",
      "<Slide, name = 2327>, width=300, height=375, channels=3, levels=1, RGB=True, dtype=uint8> <valis.slide_io.VipsSlideReader object at 0x7f11b836fce0> True (375, 300, 3)\n",
      "<Slide, name = 2328>, width=300, height=375, channels=3, levels=1, RGB=True, dtype=uint8> <valis.slide_io.VipsSlideReader object at 0x7f11b836fd40> True (375, 300, 3)\n",
      "<Slide, name = 2329>, width=300, height=375, channels=3, levels=1, RGB=True, dtype=uint8> <valis.slide_io.VipsSlideReader object at 0x7f11b836fda0> True (375, 300, 3)\n",
      "<Slide, name = 2330>, width=300, height=375, channels=3, levels=1, RGB=True, dtype=uint8> <valis.slide_io.VipsSlideReader object at 0x7f11b836fe00> True (375, 300, 3)\n",
      "<Slide, name = 2331>, width=300, height=375, channels=3, levels=1, RGB=True, dtype=uint8> <valis.slide_io.VipsSlideReader object at 0x7f11b836fe60> True (375, 300, 3)\n",
      "<Slide, name = 2332>, width=300, height=375, channels=3, levels=1, RGB=True, dtype=uint8> <valis.slide_io.VipsSlideReader object at 0x7f11b836fec0> True (375, 300, 3)\n",
      "<Slide, name = 2333>, width=300, height=375, channels=3, levels=1, RGB=True, dtype=uint8> <valis.slide_io.VipsSlideReader object at 0x7f11b836ff50> True (375, 300, 3)\n"
     ]
    },
    {
     "name": "stderr",
     "output_type": "stream",
     "text": [
      "Converting images:  88%|████████▊ | 2303/2627 [00:25<00:03, 91.96image/s]"
     ]
    },
    {
     "name": "stdout",
     "output_type": "stream",
     "text": [
      "<Slide, name = 2334>, width=300, height=375, channels=3, levels=1, RGB=True, dtype=uint8> <valis.slide_io.VipsSlideReader object at 0x7f11b836fef0> True (375, 300, 3)\n",
      "<Slide, name = 2335>, width=300, height=375, channels=3, levels=1, RGB=True, dtype=uint8> <valis.slide_io.VipsSlideReader object at 0x7f11b836fd70> True (375, 300, 3)\n",
      "<Slide, name = 2336>, width=300, height=375, channels=3, levels=1, RGB=True, dtype=uint8> <valis.slide_io.VipsSlideReader object at 0x7f11b836ffe0> True (375, 300, 3)\n",
      "<Slide, name = 2337>, width=300, height=375, channels=3, levels=1, RGB=True, dtype=uint8> <valis.slide_io.VipsSlideReader object at 0x7f11b836c7d0> True (375, 300, 3)\n",
      "<Slide, name = 2338>, width=300, height=375, channels=3, levels=1, RGB=True, dtype=uint8> <valis.slide_io.VipsSlideReader object at 0x7f11b836fe90> True (375, 300, 3)\n",
      "<Slide, name = 2339>, width=300, height=375, channels=3, levels=1, RGB=True, dtype=uint8> <valis.slide_io.VipsSlideReader object at 0x7f11b836fe30> True (375, 300, 3)\n",
      "<Slide, name = 2340>, width=300, height=375, channels=3, levels=1, RGB=True, dtype=uint8> <valis.slide_io.VipsSlideReader object at 0x7f11b836ff20> True (375, 300, 3)\n",
      "<Slide, name = 2341>, width=300, height=375, channels=3, levels=1, RGB=True, dtype=uint8> <valis.slide_io.VipsSlideReader object at 0x7f11b83a02c0> True (375, 300, 3)\n",
      "<Slide, name = 2342>, width=300, height=375, channels=3, levels=1, RGB=True, dtype=uint8> <valis.slide_io.VipsSlideReader object at 0x7f11bcb70200> True (375, 300, 3)\n",
      "<Slide, name = 2343>, width=300, height=375, channels=3, levels=1, RGB=True, dtype=uint8> <valis.slide_io.VipsSlideReader object at 0x7f11b8408170> True (375, 300, 3)\n"
     ]
    },
    {
     "name": "stderr",
     "output_type": "stream",
     "text": [
      "Converting images:  88%|████████▊ | 2313/2627 [00:25<00:03, 91.77image/s]"
     ]
    },
    {
     "name": "stdout",
     "output_type": "stream",
     "text": [
      "<Slide, name = 2344>, width=300, height=375, channels=3, levels=1, RGB=True, dtype=uint8> <valis.slide_io.VipsSlideReader object at 0x7f11bc3a82f0> True (375, 300, 3)\n",
      "<Slide, name = 2345>, width=300, height=375, channels=3, levels=1, RGB=True, dtype=uint8> <valis.slide_io.VipsSlideReader object at 0x7f11b8408080> True (375, 300, 3)\n",
      "<Slide, name = 2346>, width=300, height=375, channels=3, levels=1, RGB=True, dtype=uint8> <valis.slide_io.VipsSlideReader object at 0x7f11bc3a03b0> True (375, 300, 3)\n",
      "<Slide, name = 2347>, width=300, height=375, channels=3, levels=1, RGB=True, dtype=uint8> <valis.slide_io.VipsSlideReader object at 0x7f11b84084a0> True (375, 300, 3)\n",
      "<Slide, name = 2348>, width=300, height=375, channels=3, levels=1, RGB=True, dtype=uint8> <valis.slide_io.VipsSlideReader object at 0x7f11b83a0470> True (375, 300, 3)\n",
      "<Slide, name = 2349>, width=300, height=375, channels=3, levels=1, RGB=True, dtype=uint8> <valis.slide_io.VipsSlideReader object at 0x7f11b8408560> True (375, 300, 3)\n",
      "<Slide, name = 2350>, width=300, height=375, channels=3, levels=1, RGB=True, dtype=uint8> <valis.slide_io.VipsSlideReader object at 0x7f11b83a0530> True (375, 300, 3)\n",
      "<Slide, name = 2351>, width=300, height=375, channels=3, levels=1, RGB=True, dtype=uint8> <valis.slide_io.VipsSlideReader object at 0x7f11b8408620> True (375, 300, 3)\n",
      "<Slide, name = 2352>, width=300, height=375, channels=3, levels=1, RGB=True, dtype=uint8> <valis.slide_io.VipsSlideReader object at 0x7f11b83a05f0> True (375, 300, 3)\n",
      "<Slide, name = 2353>, width=300, height=375, channels=3, levels=1, RGB=True, dtype=uint8> <valis.slide_io.VipsSlideReader object at 0x7f11b84086e0> True (375, 300, 3)\n"
     ]
    },
    {
     "name": "stderr",
     "output_type": "stream",
     "text": [
      "Converting images:  88%|████████▊ | 2323/2627 [00:25<00:03, 91.88image/s]"
     ]
    },
    {
     "name": "stdout",
     "output_type": "stream",
     "text": [
      "<Slide, name = 2354>, width=300, height=375, channels=3, levels=1, RGB=True, dtype=uint8> <valis.slide_io.VipsSlideReader object at 0x7f11b83a06b0> True (375, 300, 3)\n",
      "<Slide, name = 2355>, width=300, height=375, channels=3, levels=1, RGB=True, dtype=uint8> <valis.slide_io.VipsSlideReader object at 0x7f11b84087a0> True (375, 300, 3)\n",
      "<Slide, name = 2356>, width=300, height=375, channels=3, levels=1, RGB=True, dtype=uint8> <valis.slide_io.VipsSlideReader object at 0x7f11b83a0770> True (375, 300, 3)\n",
      "<Slide, name = 2357>, width=300, height=375, channels=3, levels=1, RGB=True, dtype=uint8> <valis.slide_io.VipsSlideReader object at 0x7f11b8408860> True (375, 300, 3)\n",
      "<Slide, name = 2358>, width=300, height=375, channels=3, levels=1, RGB=True, dtype=uint8> <valis.slide_io.VipsSlideReader object at 0x7f11b83a0830> True (375, 300, 3)\n",
      "<Slide, name = 2359>, width=300, height=375, channels=3, levels=1, RGB=True, dtype=uint8> <valis.slide_io.VipsSlideReader object at 0x7f11b8408920> True (375, 300, 3)\n",
      "<Slide, name = 2360>, width=300, height=375, channels=3, levels=1, RGB=True, dtype=uint8> <valis.slide_io.VipsSlideReader object at 0x7f11b83a08f0> True (375, 300, 3)\n",
      "<Slide, name = 2361>, width=300, height=375, channels=3, levels=1, RGB=True, dtype=uint8> <valis.slide_io.VipsSlideReader object at 0x7f11b84089e0> True (375, 300, 3)\n",
      "<Slide, name = 2362>, width=300, height=375, channels=3, levels=1, RGB=True, dtype=uint8> <valis.slide_io.VipsSlideReader object at 0x7f11b83a09b0> True (375, 300, 3)\n",
      "<Slide, name = 2363>, width=300, height=375, channels=3, levels=1, RGB=True, dtype=uint8> <valis.slide_io.VipsSlideReader object at 0x7f11b8408aa0> True (375, 300, 3)\n"
     ]
    },
    {
     "name": "stderr",
     "output_type": "stream",
     "text": [
      "Converting images:  89%|████████▉ | 2333/2627 [00:25<00:03, 91.61image/s]"
     ]
    },
    {
     "name": "stdout",
     "output_type": "stream",
     "text": [
      "<Slide, name = 2364>, width=300, height=375, channels=3, levels=1, RGB=True, dtype=uint8> <valis.slide_io.VipsSlideReader object at 0x7f11b83a0a70> True (375, 300, 3)\n",
      "<Slide, name = 2365>, width=300, height=375, channels=3, levels=1, RGB=True, dtype=uint8> <valis.slide_io.VipsSlideReader object at 0x7f11b8408b60> True (375, 300, 3)\n",
      "<Slide, name = 2366>, width=300, height=375, channels=3, levels=1, RGB=True, dtype=uint8> <valis.slide_io.VipsSlideReader object at 0x7f11b83a0b30> True (375, 300, 3)\n",
      "<Slide, name = 2367>, width=300, height=375, channels=3, levels=1, RGB=True, dtype=uint8> <valis.slide_io.VipsSlideReader object at 0x7f11b8408c20> True (375, 300, 3)\n",
      "<Slide, name = 2368>, width=300, height=375, channels=3, levels=1, RGB=True, dtype=uint8> <valis.slide_io.VipsSlideReader object at 0x7f11b83a0bf0> True (375, 300, 3)\n",
      "<Slide, name = 2369>, width=300, height=375, channels=3, levels=1, RGB=True, dtype=uint8> <valis.slide_io.VipsSlideReader object at 0x7f11b8408ce0> True (375, 300, 3)\n",
      "<Slide, name = 2370>, width=300, height=375, channels=3, levels=1, RGB=True, dtype=uint8> <valis.slide_io.VipsSlideReader object at 0x7f11bc3a8cb0> True (375, 300, 3)\n",
      "<Slide, name = 2371>, width=300, height=375, channels=3, levels=1, RGB=True, dtype=uint8> <valis.slide_io.VipsSlideReader object at 0x7f11b83a0b90> True (375, 300, 3)\n",
      "<Slide, name = 2372>, width=300, height=375, channels=3, levels=1, RGB=True, dtype=uint8> <valis.slide_io.VipsSlideReader object at 0x7f11bc3a8d70> True (375, 300, 3)\n",
      "<Slide, name = 2373>, width=300, height=375, channels=3, levels=1, RGB=True, dtype=uint8> <valis.slide_io.VipsSlideReader object at 0x7f11bcb68da0> True (375, 300, 3)\n"
     ]
    },
    {
     "name": "stderr",
     "output_type": "stream",
     "text": [
      "Converting images:  89%|████████▉ | 2343/2627 [00:25<00:03, 91.44image/s]"
     ]
    },
    {
     "name": "stdout",
     "output_type": "stream",
     "text": [
      "<Slide, name = 2374>, width=300, height=375, channels=3, levels=1, RGB=True, dtype=uint8> <valis.slide_io.VipsSlideReader object at 0x7f11b83a0f20> True (375, 300, 3)\n",
      "<Slide, name = 2375>, width=300, height=375, channels=3, levels=1, RGB=True, dtype=uint8> <valis.slide_io.VipsSlideReader object at 0x7f11b83a0ec0> True (375, 300, 3)\n",
      "<Slide, name = 2376>, width=300, height=375, channels=3, levels=1, RGB=True, dtype=uint8> <valis.slide_io.VipsSlideReader object at 0x7f11b8408e30> True (375, 300, 3)\n",
      "<Slide, name = 2377>, width=300, height=375, channels=3, levels=1, RGB=True, dtype=uint8> <valis.slide_io.VipsSlideReader object at 0x7f11b83a0ef0> True (375, 300, 3)\n",
      "<Slide, name = 2378>, width=300, height=375, channels=3, levels=1, RGB=True, dtype=uint8> <valis.slide_io.VipsSlideReader object at 0x7f11bc3a0f80> True (375, 300, 3)\n",
      "<Slide, name = 2379>, width=300, height=375, channels=3, levels=1, RGB=True, dtype=uint8> <valis.slide_io.VipsSlideReader object at 0x7f11bcb98fe0> True (375, 300, 3)\n",
      "<Slide, name = 2380>, width=300, height=375, channels=3, levels=1, RGB=True, dtype=uint8> <valis.slide_io.VipsSlideReader object at 0x7f11bc3a9040> True (375, 300, 3)\n",
      "<Slide, name = 2381>, width=300, height=375, channels=3, levels=1, RGB=True, dtype=uint8> <valis.slide_io.VipsSlideReader object at 0x7f11bcb510a0> True (375, 300, 3)\n",
      "<Slide, name = 2382>, width=300, height=375, channels=3, levels=1, RGB=True, dtype=uint8> <valis.slide_io.VipsSlideReader object at 0x7f11b83a1100> True (375, 300, 3)\n",
      "<Slide, name = 2383>, width=300, height=375, channels=3, levels=1, RGB=True, dtype=uint8> <valis.slide_io.VipsSlideReader object at 0x7f11b83a1160> True (375, 300, 3)\n"
     ]
    },
    {
     "name": "stderr",
     "output_type": "stream",
     "text": [
      "Converting images:  90%|████████▉ | 2353/2627 [00:25<00:02, 91.63image/s]"
     ]
    },
    {
     "name": "stdout",
     "output_type": "stream",
     "text": [
      "<Slide, name = 2384>, width=300, height=375, channels=3, levels=1, RGB=True, dtype=uint8> <valis.slide_io.VipsSlideReader object at 0x7f11b83a11c0> True (375, 300, 3)\n",
      "<Slide, name = 2385>, width=300, height=375, channels=3, levels=1, RGB=True, dtype=uint8> <valis.slide_io.VipsSlideReader object at 0x7f11bc3a1220> True (375, 300, 3)\n",
      "<Slide, name = 2386>, width=300, height=375, channels=3, levels=1, RGB=True, dtype=uint8> <valis.slide_io.VipsSlideReader object at 0x7f11b83a1280> True (375, 300, 3)\n",
      "<Slide, name = 2387>, width=300, height=375, channels=3, levels=1, RGB=True, dtype=uint8> <valis.slide_io.VipsSlideReader object at 0x7f11b83a12e0> True (375, 300, 3)\n",
      "<Slide, name = 2388>, width=300, height=375, channels=3, levels=1, RGB=True, dtype=uint8> <valis.slide_io.VipsSlideReader object at 0x7f11b83a1340> True (375, 300, 3)\n",
      "<Slide, name = 2389>, width=300, height=375, channels=3, levels=1, RGB=True, dtype=uint8> <valis.slide_io.VipsSlideReader object at 0x7f11b83a13a0> True (375, 300, 3)\n",
      "<Slide, name = 2390>, width=300, height=375, channels=3, levels=1, RGB=True, dtype=uint8> <valis.slide_io.VipsSlideReader object at 0x7f11b83a1400> True (375, 300, 3)\n",
      "<Slide, name = 2391>, width=300, height=375, channels=3, levels=1, RGB=True, dtype=uint8> <valis.slide_io.VipsSlideReader object at 0x7f11b83a1460> True (375, 300, 3)\n",
      "<Slide, name = 2392>, width=300, height=375, channels=3, levels=1, RGB=True, dtype=uint8> <valis.slide_io.VipsSlideReader object at 0x7f11b83a14c0> True (375, 300, 3)\n",
      "<Slide, name = 2393>, width=300, height=375, channels=3, levels=1, RGB=True, dtype=uint8> <valis.slide_io.VipsSlideReader object at 0x7f11b83a1520> True (375, 300, 3)\n"
     ]
    },
    {
     "name": "stderr",
     "output_type": "stream",
     "text": [
      "Converting images:  90%|████████▉ | 2363/2627 [00:25<00:02, 91.40image/s]"
     ]
    },
    {
     "name": "stdout",
     "output_type": "stream",
     "text": [
      "<Slide, name = 2394>, width=300, height=375, channels=3, levels=1, RGB=True, dtype=uint8> <valis.slide_io.VipsSlideReader object at 0x7f11b83a1580> True (375, 300, 3)\n",
      "<Slide, name = 2395>, width=300, height=375, channels=3, levels=1, RGB=True, dtype=uint8> <valis.slide_io.VipsSlideReader object at 0x7f11b83a15e0> True (375, 300, 3)\n",
      "<Slide, name = 2396>, width=300, height=375, channels=3, levels=1, RGB=True, dtype=uint8> <valis.slide_io.VipsSlideReader object at 0x7f11b83a1640> True (375, 300, 3)\n",
      "<Slide, name = 2397>, width=300, height=375, channels=3, levels=1, RGB=True, dtype=uint8> <valis.slide_io.VipsSlideReader object at 0x7f11b83a16a0> True (375, 300, 3)\n",
      "<Slide, name = 2398>, width=300, height=375, channels=3, levels=1, RGB=True, dtype=uint8> <valis.slide_io.VipsSlideReader object at 0x7f11b83a1700> True (375, 300, 3)\n",
      "<Slide, name = 2399>, width=300, height=375, channels=3, levels=1, RGB=True, dtype=uint8> <valis.slide_io.VipsSlideReader object at 0x7f11b83a1760> True (375, 300, 3)\n",
      "<Slide, name = 2400>, width=300, height=375, channels=3, levels=1, RGB=True, dtype=uint8> <valis.slide_io.VipsSlideReader object at 0x7f11b83a17c0> True (375, 300, 3)\n",
      "<Slide, name = 2401>, width=300, height=375, channels=3, levels=1, RGB=True, dtype=uint8> <valis.slide_io.VipsSlideReader object at 0x7f11b83a1820> True (375, 300, 3)\n",
      "<Slide, name = 2402>, width=300, height=375, channels=3, levels=1, RGB=True, dtype=uint8> <valis.slide_io.VipsSlideReader object at 0x7f11b83a1880> True (375, 300, 3)\n",
      "<Slide, name = 2403>, width=300, height=375, channels=3, levels=1, RGB=True, dtype=uint8> <valis.slide_io.VipsSlideReader object at 0x7f11b83a18e0> True (375, 300, 3)\n"
     ]
    },
    {
     "name": "stderr",
     "output_type": "stream",
     "text": [
      "Converting images:  90%|█████████ | 2373/2627 [00:26<00:02, 91.23image/s]"
     ]
    },
    {
     "name": "stdout",
     "output_type": "stream",
     "text": [
      "<Slide, name = 2404>, width=300, height=375, channels=3, levels=1, RGB=True, dtype=uint8> <valis.slide_io.VipsSlideReader object at 0x7f11b83a1940> True (375, 300, 3)\n",
      "<Slide, name = 2405>, width=300, height=375, channels=3, levels=1, RGB=True, dtype=uint8> <valis.slide_io.VipsSlideReader object at 0x7f11b83a19a0> True (375, 300, 3)\n",
      "<Slide, name = 2406>, width=300, height=375, channels=3, levels=1, RGB=True, dtype=uint8> <valis.slide_io.VipsSlideReader object at 0x7f11bc3a9a00> True (375, 300, 3)\n",
      "<Slide, name = 2407>, width=300, height=375, channels=3, levels=1, RGB=True, dtype=uint8> <valis.slide_io.VipsSlideReader object at 0x7f11bc3a9a60> True (375, 300, 3)\n",
      "<Slide, name = 2408>, width=300, height=375, channels=3, levels=1, RGB=True, dtype=uint8> <valis.slide_io.VipsSlideReader object at 0x7f11bcb71ac0> True (375, 300, 3)\n",
      "<Slide, name = 2409>, width=300, height=375, channels=3, levels=1, RGB=True, dtype=uint8> <valis.slide_io.VipsSlideReader object at 0x7f11bc3a1b20> True (375, 300, 3)\n",
      "<Slide, name = 2410>, width=300, height=375, channels=3, levels=1, RGB=True, dtype=uint8> <valis.slide_io.VipsSlideReader object at 0x7f11b83a1b80> True (375, 300, 3)\n",
      "<Slide, name = 2411>, width=300, height=375, channels=3, levels=1, RGB=True, dtype=uint8> <valis.slide_io.VipsSlideReader object at 0x7f11b83a1be0> True (375, 300, 3)\n",
      "<Slide, name = 2412>, width=300, height=375, channels=3, levels=1, RGB=True, dtype=uint8> <valis.slide_io.VipsSlideReader object at 0x7f11bc3a9c40> True (375, 300, 3)\n",
      "<Slide, name = 2413>, width=300, height=375, channels=3, levels=1, RGB=True, dtype=uint8> <valis.slide_io.VipsSlideReader object at 0x7f11bcb61ca0> True (375, 300, 3)\n"
     ]
    },
    {
     "name": "stderr",
     "output_type": "stream",
     "text": [
      "Converting images:  91%|█████████ | 2383/2627 [00:26<00:02, 90.70image/s]"
     ]
    },
    {
     "name": "stdout",
     "output_type": "stream",
     "text": [
      "<Slide, name = 2414>, width=300, height=375, channels=3, levels=1, RGB=True, dtype=uint8> <valis.slide_io.VipsSlideReader object at 0x7f11bc3a9d00> True (375, 300, 3)\n",
      "<Slide, name = 2415>, width=300, height=375, channels=3, levels=1, RGB=True, dtype=uint8> <valis.slide_io.VipsSlideReader object at 0x7f11bc3a1d60> True (375, 300, 3)\n",
      "<Slide, name = 2416>, width=300, height=375, channels=3, levels=1, RGB=True, dtype=uint8> <valis.slide_io.VipsSlideReader object at 0x7f11b83a1dc0> True (375, 300, 3)\n",
      "<Slide, name = 2417>, width=300, height=375, channels=3, levels=1, RGB=True, dtype=uint8> <valis.slide_io.VipsSlideReader object at 0x7f11bc3a9e20> True (375, 300, 3)\n",
      "<Slide, name = 2418>, width=300, height=375, channels=3, levels=1, RGB=True, dtype=uint8> <valis.slide_io.VipsSlideReader object at 0x7f11b83a1e80> True (375, 300, 3)\n",
      "<Slide, name = 2419>, width=300, height=375, channels=3, levels=1, RGB=True, dtype=uint8> <valis.slide_io.VipsSlideReader object at 0x7f11bc3a1ee0> True (375, 300, 3)\n",
      "<Slide, name = 2420>, width=300, height=375, channels=3, levels=1, RGB=True, dtype=uint8> <valis.slide_io.VipsSlideReader object at 0x7f11b8408890> True (375, 300, 3)\n",
      "<Slide, name = 2421>, width=300, height=375, channels=3, levels=1, RGB=True, dtype=uint8> <valis.slide_io.VipsSlideReader object at 0x7f11b83a1fa0> True (375, 300, 3)\n",
      "<Slide, name = 2422>, width=300, height=375, channels=3, levels=1, RGB=True, dtype=uint8> <valis.slide_io.VipsSlideReader object at 0x7f11b84090d0> True (375, 300, 3)\n",
      "<Slide, name = 2423>, width=300, height=375, channels=3, levels=1, RGB=True, dtype=uint8> <valis.slide_io.VipsSlideReader object at 0x7f11bcb52060> True (375, 300, 3)\n"
     ]
    },
    {
     "name": "stderr",
     "output_type": "stream",
     "text": [
      "Converting images:  91%|█████████ | 2393/2627 [00:26<00:02, 90.05image/s]"
     ]
    },
    {
     "name": "stdout",
     "output_type": "stream",
     "text": [
      "<Slide, name = 2424>, width=300, height=375, channels=3, levels=1, RGB=True, dtype=uint8> <valis.slide_io.VipsSlideReader object at 0x7f11b840a150> True (375, 300, 3)\n",
      "<Slide, name = 2425>, width=300, height=375, channels=3, levels=1, RGB=True, dtype=uint8> <valis.slide_io.VipsSlideReader object at 0x7f11b83a2120> True (375, 300, 3)\n",
      "<Slide, name = 2426>, width=300, height=375, channels=3, levels=1, RGB=True, dtype=uint8> <valis.slide_io.VipsSlideReader object at 0x7f11bc3aa000> True (375, 300, 3)\n",
      "<Slide, name = 2427>, width=300, height=375, channels=3, levels=1, RGB=True, dtype=uint8> <valis.slide_io.VipsSlideReader object at 0x7f11bcb6a1e0> True (375, 300, 3)\n",
      "<Slide, name = 2428>, width=300, height=375, channels=3, levels=1, RGB=True, dtype=uint8> <valis.slide_io.VipsSlideReader object at 0x7f11b83a2240> True (375, 300, 3)\n",
      "<Slide, name = 2429>, width=300, height=375, channels=3, levels=1, RGB=True, dtype=uint8> <valis.slide_io.VipsSlideReader object at 0x7f11b83a22a0> True (375, 300, 3)\n",
      "<Slide, name = 2430>, width=300, height=375, channels=3, levels=1, RGB=True, dtype=uint8> <valis.slide_io.VipsSlideReader object at 0x7f11b83a2300> True (375, 300, 3)\n",
      "<Slide, name = 2431>, width=300, height=375, channels=3, levels=1, RGB=True, dtype=uint8> <valis.slide_io.VipsSlideReader object at 0x7f11bc3a2360> True (375, 300, 3)\n",
      "<Slide, name = 2432>, width=300, height=375, channels=3, levels=1, RGB=True, dtype=uint8> <valis.slide_io.VipsSlideReader object at 0x7f11b83a23c0> True (375, 300, 3)\n",
      "<Slide, name = 2433>, width=300, height=375, channels=3, levels=1, RGB=True, dtype=uint8> <valis.slide_io.VipsSlideReader object at 0x7f11b83a2420> True (375, 300, 3)\n"
     ]
    },
    {
     "name": "stderr",
     "output_type": "stream",
     "text": [
      "Converting images:  91%|█████████▏| 2403/2627 [00:26<00:02, 90.55image/s]"
     ]
    },
    {
     "name": "stdout",
     "output_type": "stream",
     "text": [
      "<Slide, name = 2434>, width=300, height=375, channels=3, levels=1, RGB=True, dtype=uint8> <valis.slide_io.VipsSlideReader object at 0x7f11b83a2480> True (375, 300, 3)\n",
      "<Slide, name = 2435>, width=300, height=375, channels=3, levels=1, RGB=True, dtype=uint8> <valis.slide_io.VipsSlideReader object at 0x7f11b83a24e0> True (375, 300, 3)\n",
      "<Slide, name = 2436>, width=300, height=375, channels=3, levels=1, RGB=True, dtype=uint8> <valis.slide_io.VipsSlideReader object at 0x7f11b83a2540> True (375, 300, 3)\n",
      "<Slide, name = 2437>, width=300, height=375, channels=3, levels=1, RGB=True, dtype=uint8> <valis.slide_io.VipsSlideReader object at 0x7f11b83a25a0> True (375, 300, 3)\n",
      "<Slide, name = 2438>, width=300, height=375, channels=3, levels=1, RGB=True, dtype=uint8> <valis.slide_io.VipsSlideReader object at 0x7f11b83a2600> True (375, 300, 3)\n",
      "<Slide, name = 2439>, width=300, height=375, channels=3, levels=1, RGB=True, dtype=uint8> <valis.slide_io.VipsSlideReader object at 0x7f11b83a2660> True (375, 300, 3)\n",
      "<Slide, name = 2440>, width=300, height=375, channels=3, levels=1, RGB=True, dtype=uint8> <valis.slide_io.VipsSlideReader object at 0x7f11b83a26c0> True (375, 300, 3)\n",
      "<Slide, name = 2441>, width=300, height=375, channels=3, levels=1, RGB=True, dtype=uint8> <valis.slide_io.VipsSlideReader object at 0x7f11b83a2720> True (375, 300, 3)\n",
      "<Slide, name = 2442>, width=300, height=375, channels=3, levels=1, RGB=True, dtype=uint8> <valis.slide_io.VipsSlideReader object at 0x7f11b83a2780> True (375, 300, 3)\n",
      "<Slide, name = 2443>, width=300, height=375, channels=3, levels=1, RGB=True, dtype=uint8> <valis.slide_io.VipsSlideReader object at 0x7f11b83a27e0> True (375, 300, 3)\n"
     ]
    },
    {
     "name": "stderr",
     "output_type": "stream",
     "text": [
      "Converting images:  92%|█████████▏| 2413/2627 [00:26<00:02, 90.17image/s]"
     ]
    },
    {
     "name": "stdout",
     "output_type": "stream",
     "text": [
      "<Slide, name = 2444>, width=300, height=375, channels=3, levels=1, RGB=True, dtype=uint8> <valis.slide_io.VipsSlideReader object at 0x7f11b83a2840> True (375, 300, 3)\n",
      "<Slide, name = 2445>, width=300, height=375, channels=3, levels=1, RGB=True, dtype=uint8> <valis.slide_io.VipsSlideReader object at 0x7f11b83a28a0> True (375, 300, 3)\n",
      "<Slide, name = 2446>, width=300, height=375, channels=3, levels=1, RGB=True, dtype=uint8> <valis.slide_io.VipsSlideReader object at 0x7f11b83a2900> True (375, 300, 3)\n",
      "<Slide, name = 2447>, width=300, height=375, channels=3, levels=1, RGB=True, dtype=uint8> <valis.slide_io.VipsSlideReader object at 0x7f11b83a2960> True (375, 300, 3)\n",
      "<Slide, name = 2448>, width=300, height=375, channels=3, levels=1, RGB=True, dtype=uint8> <valis.slide_io.VipsSlideReader object at 0x7f11b83a29c0> True (375, 300, 3)\n",
      "<Slide, name = 2449>, width=300, height=375, channels=3, levels=1, RGB=True, dtype=uint8> <valis.slide_io.VipsSlideReader object at 0x7f11b83a2a20> True (375, 300, 3)\n",
      "<Slide, name = 2450>, width=300, height=375, channels=3, levels=1, RGB=True, dtype=uint8> <valis.slide_io.VipsSlideReader object at 0x7f11b83a2a80> True (375, 300, 3)\n",
      "<Slide, name = 2451>, width=300, height=375, channels=3, levels=1, RGB=True, dtype=uint8> <valis.slide_io.VipsSlideReader object at 0x7f11b83a2ae0> True (375, 300, 3)\n",
      "<Slide, name = 2452>, width=300, height=375, channels=3, levels=1, RGB=True, dtype=uint8> <valis.slide_io.VipsSlideReader object at 0x7f11b83a2b40> True (375, 300, 3)\n",
      "<Slide, name = 2453>, width=300, height=375, channels=3, levels=1, RGB=True, dtype=uint8> <valis.slide_io.VipsSlideReader object at 0x7f11b83a2ba0> True (375, 300, 3)\n"
     ]
    },
    {
     "name": "stderr",
     "output_type": "stream",
     "text": [
      "Converting images:  92%|█████████▏| 2423/2627 [00:26<00:02, 90.63image/s]"
     ]
    },
    {
     "name": "stdout",
     "output_type": "stream",
     "text": [
      "<Slide, name = 2454>, width=300, height=375, channels=3, levels=1, RGB=True, dtype=uint8> <valis.slide_io.VipsSlideReader object at 0x7f11b840a0f0> True (375, 300, 3)\n",
      "<Slide, name = 2455>, width=300, height=375, channels=3, levels=1, RGB=True, dtype=uint8> <valis.slide_io.VipsSlideReader object at 0x7f11b840ac60> True (375, 300, 3)\n",
      "<Slide, name = 2456>, width=300, height=375, channels=3, levels=1, RGB=True, dtype=uint8> <valis.slide_io.VipsSlideReader object at 0x7f11b8408950> True (375, 300, 3)\n",
      "<Slide, name = 2457>, width=300, height=375, channels=3, levels=1, RGB=True, dtype=uint8> <valis.slide_io.VipsSlideReader object at 0x7f11b83a2180> True (375, 300, 3)\n",
      "<Slide, name = 2458>, width=300, height=375, channels=3, levels=1, RGB=True, dtype=uint8> <valis.slide_io.VipsSlideReader object at 0x7f11bcb72c30> True (375, 300, 3)\n",
      "<Slide, name = 2459>, width=300, height=375, channels=3, levels=1, RGB=True, dtype=uint8> <valis.slide_io.VipsSlideReader object at 0x7f11bc3a2e40> True (375, 300, 3)\n",
      "<Slide, name = 2460>, width=300, height=375, channels=3, levels=1, RGB=True, dtype=uint8> <valis.slide_io.VipsSlideReader object at 0x7f11b83a2e70> True (375, 300, 3)\n",
      "<Slide, name = 2461>, width=300, height=375, channels=3, levels=1, RGB=True, dtype=uint8> <valis.slide_io.VipsSlideReader object at 0x7f11b840ad80> True (375, 300, 3)\n",
      "<Slide, name = 2462>, width=300, height=375, channels=3, levels=1, RGB=True, dtype=uint8> <valis.slide_io.VipsSlideReader object at 0x7f11b83a2f30> True (375, 300, 3)\n",
      "<Slide, name = 2463>, width=300, height=375, channels=3, levels=1, RGB=True, dtype=uint8> <valis.slide_io.VipsSlideReader object at 0x7f11bc3aacf0> True (375, 300, 3)\n"
     ]
    },
    {
     "name": "stderr",
     "output_type": "stream",
     "text": [
      "Converting images:  93%|█████████▎| 2433/2627 [00:26<00:02, 90.64image/s]"
     ]
    },
    {
     "name": "stdout",
     "output_type": "stream",
     "text": [
      "<Slide, name = 2464>, width=300, height=375, channels=3, levels=1, RGB=True, dtype=uint8> <valis.slide_io.VipsSlideReader object at 0x7f11b83a2ff0> True (375, 300, 3)\n",
      "<Slide, name = 2465>, width=300, height=375, channels=3, levels=1, RGB=True, dtype=uint8> <valis.slide_io.VipsSlideReader object at 0x7f11b840af00> True (375, 300, 3)\n",
      "<Slide, name = 2466>, width=300, height=375, channels=3, levels=1, RGB=True, dtype=uint8> <valis.slide_io.VipsSlideReader object at 0x7f11bcb2aea0> True (375, 300, 3)\n",
      "<Slide, name = 2467>, width=300, height=375, channels=3, levels=1, RGB=True, dtype=uint8> <valis.slide_io.VipsSlideReader object at 0x7f11bc3ab0e0> True (375, 300, 3)\n",
      "<Slide, name = 2468>, width=300, height=375, channels=3, levels=1, RGB=True, dtype=uint8> <valis.slide_io.VipsSlideReader object at 0x7f11b840b110> True (375, 300, 3)\n",
      "<Slide, name = 2469>, width=300, height=375, channels=3, levels=1, RGB=True, dtype=uint8> <valis.slide_io.VipsSlideReader object at 0x7f11b840ae10> True (375, 300, 3)\n",
      "<Slide, name = 2470>, width=300, height=375, channels=3, levels=1, RGB=True, dtype=uint8> <valis.slide_io.VipsSlideReader object at 0x7f11bcc1b080> True (375, 300, 3)\n",
      "<Slide, name = 2471>, width=300, height=375, channels=3, levels=1, RGB=True, dtype=uint8> <valis.slide_io.VipsSlideReader object at 0x7f11bc3ab260> True (375, 300, 3)\n",
      "<Slide, name = 2472>, width=300, height=375, channels=3, levels=1, RGB=True, dtype=uint8> <valis.slide_io.VipsSlideReader object at 0x7f11bcb732f0> True (375, 300, 3)\n",
      "<Slide, name = 2473>, width=300, height=375, channels=3, levels=1, RGB=True, dtype=uint8> <valis.slide_io.VipsSlideReader object at 0x7f11b840b380> True (375, 300, 3)\n"
     ]
    },
    {
     "name": "stderr",
     "output_type": "stream",
     "text": [
      "Converting images:  93%|█████████▎| 2443/2627 [00:26<00:02, 90.43image/s]"
     ]
    },
    {
     "name": "stdout",
     "output_type": "stream",
     "text": [
      "<Slide, name = 2474>, width=300, height=375, channels=3, levels=1, RGB=True, dtype=uint8> <valis.slide_io.VipsSlideReader object at 0x7f11b83a33b0> True (375, 300, 3)\n",
      "<Slide, name = 2475>, width=300, height=375, channels=3, levels=1, RGB=True, dtype=uint8> <valis.slide_io.VipsSlideReader object at 0x7f11b840b3e0> True (375, 300, 3)\n",
      "<Slide, name = 2476>, width=300, height=375, channels=3, levels=1, RGB=True, dtype=uint8> <valis.slide_io.VipsSlideReader object at 0x7f11b83a3470> True (375, 300, 3)\n",
      "<Slide, name = 2477>, width=300, height=375, channels=3, levels=1, RGB=True, dtype=uint8> <valis.slide_io.VipsSlideReader object at 0x7f11b83a3290> True (375, 300, 3)\n",
      "<Slide, name = 2478>, width=300, height=375, channels=3, levels=1, RGB=True, dtype=uint8> <valis.slide_io.VipsSlideReader object at 0x7f11b840b350> True (375, 300, 3)\n",
      "<Slide, name = 2479>, width=300, height=375, channels=3, levels=1, RGB=True, dtype=uint8> <valis.slide_io.VipsSlideReader object at 0x7f11b840b530> True (375, 300, 3)\n",
      "<Slide, name = 2480>, width=300, height=375, channels=3, levels=1, RGB=True, dtype=uint8> <valis.slide_io.VipsSlideReader object at 0x7f11bc3ab440> True (375, 300, 3)\n",
      "<Slide, name = 2481>, width=300, height=375, channels=3, levels=1, RGB=True, dtype=uint8> <valis.slide_io.VipsSlideReader object at 0x7f11bc3a3560> True (375, 300, 3)\n",
      "<Slide, name = 2482>, width=300, height=375, channels=3, levels=1, RGB=True, dtype=uint8> <valis.slide_io.VipsSlideReader object at 0x7f11b840b200> True (375, 300, 3)\n",
      "<Slide, name = 2483>, width=300, height=375, channels=3, levels=1, RGB=True, dtype=uint8> <valis.slide_io.VipsSlideReader object at 0x7f11b840b710> True (375, 300, 3)\n"
     ]
    },
    {
     "name": "stderr",
     "output_type": "stream",
     "text": [
      "Converting images:  93%|█████████▎| 2453/2627 [00:26<00:01, 90.60image/s]"
     ]
    },
    {
     "name": "stdout",
     "output_type": "stream",
     "text": [
      "<Slide, name = 2484>, width=300, height=375, channels=3, levels=1, RGB=True, dtype=uint8> <valis.slide_io.VipsSlideReader object at 0x7f11bc3a38c0> True (375, 300, 3)\n",
      "<Slide, name = 2485>, width=300, height=375, channels=3, levels=1, RGB=True, dtype=uint8> <valis.slide_io.VipsSlideReader object at 0x7f11b83a37a0> True (375, 300, 3)\n",
      "<Slide, name = 2486>, width=300, height=375, channels=3, levels=1, RGB=True, dtype=uint8> <valis.slide_io.VipsSlideReader object at 0x7f11b840b6e0> True (375, 300, 3)\n",
      "<Slide, name = 2487>, width=300, height=375, channels=3, levels=1, RGB=True, dtype=uint8> <valis.slide_io.VipsSlideReader object at 0x7f11bc3ab8f0> True (375, 300, 3)\n",
      "<Slide, name = 2488>, width=300, height=375, channels=3, levels=1, RGB=True, dtype=uint8> <valis.slide_io.VipsSlideReader object at 0x7f11b840b4d0> True (375, 300, 3)\n",
      "<Slide, name = 2489>, width=300, height=375, channels=3, levels=1, RGB=True, dtype=uint8> <valis.slide_io.VipsSlideReader object at 0x7f11b83a3980> True (375, 300, 3)\n",
      "<Slide, name = 2490>, width=300, height=375, channels=3, levels=1, RGB=True, dtype=uint8> <valis.slide_io.VipsSlideReader object at 0x7f11b840ba70> True (375, 300, 3)\n",
      "<Slide, name = 2491>, width=300, height=375, channels=3, levels=1, RGB=True, dtype=uint8> <valis.slide_io.VipsSlideReader object at 0x7f11b83a3a40> True (375, 300, 3)\n",
      "<Slide, name = 2492>, width=300, height=375, channels=3, levels=1, RGB=True, dtype=uint8> <valis.slide_io.VipsSlideReader object at 0x7f11b840bb30> True (375, 300, 3)\n",
      "<Slide, name = 2493>, width=300, height=375, channels=3, levels=1, RGB=True, dtype=uint8> <valis.slide_io.VipsSlideReader object at 0x7f11b840bb00> True (375, 300, 3)\n"
     ]
    },
    {
     "name": "stderr",
     "output_type": "stream",
     "text": [
      "Converting images:  94%|█████████▍| 2463/2627 [00:27<00:01, 89.73image/s]"
     ]
    },
    {
     "name": "stdout",
     "output_type": "stream",
     "text": [
      "<Slide, name = 2494>, width=300, height=375, channels=3, levels=1, RGB=True, dtype=uint8> <valis.slide_io.VipsSlideReader object at 0x7f11bc3a3cb0> True (375, 300, 3)\n",
      "<Slide, name = 2495>, width=300, height=375, channels=3, levels=1, RGB=True, dtype=uint8> <valis.slide_io.VipsSlideReader object at 0x7f11b83a3aa0> True (375, 300, 3)\n",
      "<Slide, name = 2496>, width=300, height=375, channels=3, levels=1, RGB=True, dtype=uint8> <valis.slide_io.VipsSlideReader object at 0x7f11b83a3c80> True (375, 300, 3)\n",
      "<Slide, name = 2497>, width=300, height=375, channels=3, levels=1, RGB=True, dtype=uint8> <valis.slide_io.VipsSlideReader object at 0x7f11b83a3ce0> True (375, 300, 3)\n",
      "<Slide, name = 2498>, width=300, height=375, channels=3, levels=1, RGB=True, dtype=uint8> <valis.slide_io.VipsSlideReader object at 0x7f11b840bec0> True (375, 300, 3)\n",
      "<Slide, name = 2499>, width=300, height=375, channels=3, levels=1, RGB=True, dtype=uint8> <valis.slide_io.VipsSlideReader object at 0x7f11b840b290> True (375, 300, 3)\n",
      "<Slide, name = 2500>, width=300, height=375, channels=3, levels=1, RGB=True, dtype=uint8> <valis.slide_io.VipsSlideReader object at 0x7f11b840bb90> True (375, 300, 3)\n",
      "<Slide, name = 2501>, width=300, height=375, channels=3, levels=1, RGB=True, dtype=uint8> <valis.slide_io.VipsSlideReader object at 0x7f11b840bd10> True (375, 300, 3)\n",
      "<Slide, name = 2502>, width=300, height=375, channels=3, levels=1, RGB=True, dtype=uint8> <valis.slide_io.VipsSlideReader object at 0x7f11b83a3e00> True (375, 300, 3)\n",
      "<Slide, name = 2503>, width=300, height=375, channels=3, levels=1, RGB=True, dtype=uint8> <valis.slide_io.VipsSlideReader object at 0x7f11b840be30> True (375, 300, 3)\n"
     ]
    },
    {
     "name": "stderr",
     "output_type": "stream",
     "text": [
      "Converting images:  94%|█████████▍| 2473/2627 [00:27<00:01, 89.85image/s]"
     ]
    },
    {
     "name": "stdout",
     "output_type": "stream",
     "text": [
      "<Slide, name = 2504>, width=300, height=375, channels=3, levels=1, RGB=True, dtype=uint8> <valis.slide_io.VipsSlideReader object at 0x7f11b840bdd0> True (375, 300, 3)\n",
      "<Slide, name = 2505>, width=300, height=375, channels=3, levels=1, RGB=True, dtype=uint8> <valis.slide_io.VipsSlideReader object at 0x7f11b83a3d40> True (375, 300, 3)\n",
      "<Slide, name = 2506>, width=300, height=375, channels=3, levels=1, RGB=True, dtype=uint8> <valis.slide_io.VipsSlideReader object at 0x7f11bc3abfb0> True (375, 300, 3)\n",
      "<Slide, name = 2507>, width=300, height=375, channels=3, levels=1, RGB=True, dtype=uint8> <valis.slide_io.VipsSlideReader object at 0x7f11b83a3da0> True (375, 300, 3)\n",
      "<Slide, name = 2508>, width=300, height=375, channels=3, levels=1, RGB=True, dtype=uint8> <valis.slide_io.VipsSlideReader object at 0x7f11bc3ab9e0> True (375, 300, 3)\n",
      "<Slide, name = 2509>, width=300, height=375, channels=3, levels=1, RGB=True, dtype=uint8> <valis.slide_io.VipsSlideReader object at 0x7f11b840ba10> True (375, 300, 3)\n",
      "<Slide, name = 2510>, width=300, height=375, channels=3, levels=1, RGB=True, dtype=uint8> <valis.slide_io.VipsSlideReader object at 0x7f11b8404230> True (375, 300, 3)\n",
      "<Slide, name = 2511>, width=300, height=375, channels=3, levels=1, RGB=True, dtype=uint8> <valis.slide_io.VipsSlideReader object at 0x7f11b83d4080> True (375, 300, 3)\n",
      "<Slide, name = 2512>, width=300, height=375, channels=3, levels=1, RGB=True, dtype=uint8> <valis.slide_io.VipsSlideReader object at 0x7f11bc3a4260> True (375, 300, 3)\n",
      "<Slide, name = 2513>, width=300, height=375, channels=3, levels=1, RGB=True, dtype=uint8> <valis.slide_io.VipsSlideReader object at 0x7f11b83d4140> True (375, 300, 3)\n"
     ]
    },
    {
     "name": "stderr",
     "output_type": "stream",
     "text": [
      "Converting images:  95%|█████████▍| 2483/2627 [00:27<00:01, 90.16image/s]"
     ]
    },
    {
     "name": "stdout",
     "output_type": "stream",
     "text": [
      "<Slide, name = 2514>, width=300, height=375, channels=3, levels=1, RGB=True, dtype=uint8> <valis.slide_io.VipsSlideReader object at 0x7f11b841c320> True (375, 300, 3)\n",
      "<Slide, name = 2515>, width=300, height=375, channels=3, levels=1, RGB=True, dtype=uint8> <valis.slide_io.VipsSlideReader object at 0x7f11b8404170> True (375, 300, 3)\n",
      "<Slide, name = 2516>, width=300, height=375, channels=3, levels=1, RGB=True, dtype=uint8> <valis.slide_io.VipsSlideReader object at 0x7f11b841c3e0> True (375, 300, 3)\n",
      "<Slide, name = 2517>, width=300, height=375, channels=3, levels=1, RGB=True, dtype=uint8> <valis.slide_io.VipsSlideReader object at 0x7f11b841c440> True (375, 300, 3)\n",
      "<Slide, name = 2518>, width=300, height=375, channels=3, levels=1, RGB=True, dtype=uint8> <valis.slide_io.VipsSlideReader object at 0x7f11b841c4a0> True (375, 300, 3)\n",
      "<Slide, name = 2519>, width=300, height=375, channels=3, levels=1, RGB=True, dtype=uint8> <valis.slide_io.VipsSlideReader object at 0x7f11b841c500> True (375, 300, 3)\n",
      "<Slide, name = 2520>, width=300, height=375, channels=3, levels=1, RGB=True, dtype=uint8> <valis.slide_io.VipsSlideReader object at 0x7f11b83d4410> True (375, 300, 3)\n",
      "<Slide, name = 2521>, width=300, height=375, channels=3, levels=1, RGB=True, dtype=uint8> <valis.slide_io.VipsSlideReader object at 0x7f11b841c5c0> True (375, 300, 3)\n",
      "<Slide, name = 2522>, width=300, height=375, channels=3, levels=1, RGB=True, dtype=uint8> <valis.slide_io.VipsSlideReader object at 0x7f11b836c2c0> True (375, 300, 3)\n",
      "<Slide, name = 2523>, width=300, height=375, channels=3, levels=1, RGB=True, dtype=uint8> <valis.slide_io.VipsSlideReader object at 0x7f11b841c680> True (375, 300, 3)\n"
     ]
    },
    {
     "name": "stderr",
     "output_type": "stream",
     "text": [
      "Converting images:  95%|█████████▍| 2493/2627 [00:27<00:01, 89.51image/s]"
     ]
    },
    {
     "name": "stdout",
     "output_type": "stream",
     "text": [
      "<Slide, name = 2524>, width=300, height=375, channels=3, levels=1, RGB=True, dtype=uint8> <valis.slide_io.VipsSlideReader object at 0x7f11bd2146e0> True (375, 300, 3)\n",
      "<Slide, name = 2525>, width=300, height=375, channels=3, levels=1, RGB=True, dtype=uint8> <valis.slide_io.VipsSlideReader object at 0x7f11b841c740> True (375, 300, 3)\n",
      "<Slide, name = 2527>, width=300, height=375, channels=3, levels=1, RGB=True, dtype=uint8> <valis.slide_io.VipsSlideReader object at 0x7f11bcb647a0> True (375, 300, 3)\n",
      "<Slide, name = 2528>, width=300, height=375, channels=3, levels=1, RGB=True, dtype=uint8> <valis.slide_io.VipsSlideReader object at 0x7f11b83d4380> True (375, 300, 3)\n",
      "<Slide, name = 2529>, width=300, height=375, channels=3, levels=1, RGB=True, dtype=uint8> <valis.slide_io.VipsSlideReader object at 0x7f11b841c860> True (375, 300, 3)\n",
      "<Slide, name = 2530>, width=300, height=375, channels=3, levels=1, RGB=True, dtype=uint8> <valis.slide_io.VipsSlideReader object at 0x7f11b83d4620> True (375, 300, 3)\n",
      "<Slide, name = 2531>, width=300, height=375, channels=3, levels=1, RGB=True, dtype=uint8> <valis.slide_io.VipsSlideReader object at 0x7f11bd214920> True (375, 300, 3)\n",
      "<Slide, name = 2532>, width=300, height=375, channels=3, levels=1, RGB=True, dtype=uint8> <valis.slide_io.VipsSlideReader object at 0x7f11b836c770> True (375, 300, 3)\n",
      "<Slide, name = 2533>, width=300, height=375, channels=3, levels=1, RGB=True, dtype=uint8> <valis.slide_io.VipsSlideReader object at 0x7f11bcb649e0> True (375, 300, 3)\n"
     ]
    },
    {
     "name": "stderr",
     "output_type": "stream",
     "text": [
      "Converting images:  95%|█████████▌| 2502/2627 [00:27<00:01, 88.75image/s]"
     ]
    },
    {
     "name": "stdout",
     "output_type": "stream",
     "text": [
      "<Slide, name = 2534>, width=300, height=375, channels=3, levels=1, RGB=True, dtype=uint8> <valis.slide_io.VipsSlideReader object at 0x7f11bcb64a40> True (375, 300, 3)\n",
      "<Slide, name = 2535>, width=300, height=375, channels=3, levels=1, RGB=True, dtype=uint8> <valis.slide_io.VipsSlideReader object at 0x7f11b83d48f0> True (375, 300, 3)\n",
      "<Slide, name = 2536>, width=300, height=375, channels=3, levels=1, RGB=True, dtype=uint8> <valis.slide_io.VipsSlideReader object at 0x7f11b83d4b00> True (375, 300, 3)\n",
      "<Slide, name = 2537>, width=300, height=375, channels=3, levels=1, RGB=True, dtype=uint8> <valis.slide_io.VipsSlideReader object at 0x7f11bccbccb0> True (375, 300, 3)\n",
      "<Slide, name = 2538>, width=300, height=375, channels=3, levels=1, RGB=True, dtype=uint8> <valis.slide_io.VipsSlideReader object at 0x7f11b83d4980> True (375, 300, 3)\n",
      "<Slide, name = 2539>, width=300, height=375, channels=3, levels=1, RGB=True, dtype=uint8> <valis.slide_io.VipsSlideReader object at 0x7f11bc3a4c80> True (375, 300, 3)\n",
      "<Slide, name = 2540>, width=300, height=375, channels=3, levels=1, RGB=True, dtype=uint8> <valis.slide_io.VipsSlideReader object at 0x7f11b83d4d40> True (375, 300, 3)\n",
      "<Slide, name = 2541>, width=300, height=375, channels=3, levels=1, RGB=True, dtype=uint8> <valis.slide_io.VipsSlideReader object at 0x7f11b83d44d0> True (375, 300, 3)\n",
      "<Slide, name = 2542>, width=300, height=375, channels=3, levels=1, RGB=True, dtype=uint8> <valis.slide_io.VipsSlideReader object at 0x7f11b83d4d10> True (375, 300, 3)\n",
      "<Slide, name = 2543>, width=300, height=375, channels=3, levels=1, RGB=True, dtype=uint8> <valis.slide_io.VipsSlideReader object at 0x7f11b83d4800> True (375, 300, 3)\n"
     ]
    },
    {
     "name": "stderr",
     "output_type": "stream",
     "text": [
      "Converting images:  96%|█████████▌| 2512/2627 [00:27<00:01, 89.39image/s]"
     ]
    },
    {
     "name": "stdout",
     "output_type": "stream",
     "text": [
      "<Slide, name = 2544>, width=300, height=375, channels=3, levels=1, RGB=True, dtype=uint8> <valis.slide_io.VipsSlideReader object at 0x7f11b83d4a10> True (375, 300, 3)\n",
      "<Slide, name = 2545>, width=300, height=375, channels=3, levels=1, RGB=True, dtype=uint8> <valis.slide_io.VipsSlideReader object at 0x7f11b83d4dd0> True (375, 300, 3)\n",
      "<Slide, name = 2546>, width=300, height=375, channels=3, levels=1, RGB=True, dtype=uint8> <valis.slide_io.VipsSlideReader object at 0x7f11b841cfe0> True (375, 300, 3)\n",
      "<Slide, name = 2547>, width=300, height=375, channels=3, levels=1, RGB=True, dtype=uint8> <valis.slide_io.VipsSlideReader object at 0x7f11bd2150a0> True (375, 300, 3)\n",
      "<Slide, name = 2548>, width=300, height=375, channels=3, levels=1, RGB=True, dtype=uint8> <valis.slide_io.VipsSlideReader object at 0x7f11b83d5040> True (375, 300, 3)\n",
      "<Slide, name = 2549>, width=300, height=375, channels=3, levels=1, RGB=True, dtype=uint8> <valis.slide_io.VipsSlideReader object at 0x7f11bcce4da0> True (375, 300, 3)\n",
      "<Slide, name = 2550>, width=300, height=375, channels=3, levels=1, RGB=True, dtype=uint8> <valis.slide_io.VipsSlideReader object at 0x7f11b841d1f0> True (375, 300, 3)\n",
      "<Slide, name = 2551>, width=300, height=375, channels=3, levels=1, RGB=True, dtype=uint8> <valis.slide_io.VipsSlideReader object at 0x7f11b83d4560> True (375, 300, 3)\n",
      "<Slide, name = 2552>, width=300, height=375, channels=3, levels=1, RGB=True, dtype=uint8> <valis.slide_io.VipsSlideReader object at 0x7f11b83d51c0> True (375, 300, 3)\n"
     ]
    },
    {
     "name": "stderr",
     "output_type": "stream",
     "text": [
      "Converting images:  96%|█████████▌| 2521/2627 [00:27<00:01, 89.34image/s]"
     ]
    },
    {
     "name": "stdout",
     "output_type": "stream",
     "text": [
      "<Slide, name = 2553>, width=300, height=375, channels=3, levels=1, RGB=True, dtype=uint8> <valis.slide_io.VipsSlideReader object at 0x7f11b83d5340> True (375, 300, 3)\n",
      "<Slide, name = 2554>, width=300, height=375, channels=3, levels=1, RGB=True, dtype=uint8> <valis.slide_io.VipsSlideReader object at 0x7f11b83d53d0> True (375, 300, 3)\n",
      "<Slide, name = 2555>, width=300, height=375, channels=3, levels=1, RGB=True, dtype=uint8> <valis.slide_io.VipsSlideReader object at 0x7f11b83d5460> True (375, 300, 3)\n",
      "<Slide, name = 2556>, width=300, height=375, channels=3, levels=1, RGB=True, dtype=uint8> <valis.slide_io.VipsSlideReader object at 0x7f11b83d5190> True (375, 300, 3)\n",
      "<Slide, name = 2557>, width=300, height=375, channels=3, levels=1, RGB=True, dtype=uint8> <valis.slide_io.VipsSlideReader object at 0x7f11b83d4f50> True (375, 300, 3)\n",
      "<Slide, name = 2558>, width=300, height=375, channels=3, levels=1, RGB=True, dtype=uint8> <valis.slide_io.VipsSlideReader object at 0x7f11b83d50d0> True (375, 300, 3)\n",
      "<Slide, name = 2559>, width=300, height=375, channels=3, levels=1, RGB=True, dtype=uint8> <valis.slide_io.VipsSlideReader object at 0x7f11b83d5580> True (375, 300, 3)\n",
      "<Slide, name = 2560>, width=300, height=375, channels=3, levels=1, RGB=True, dtype=uint8> <valis.slide_io.VipsSlideReader object at 0x7f11b83d56d0> True (375, 300, 3)\n",
      "<Slide, name = 2561>, width=300, height=375, channels=3, levels=1, RGB=True, dtype=uint8> <valis.slide_io.VipsSlideReader object at 0x7f11bc3a4e00> True (375, 300, 3)\n"
     ]
    },
    {
     "name": "stderr",
     "output_type": "stream",
     "text": [
      "Converting images:  96%|█████████▋| 2530/2627 [00:27<00:01, 89.42image/s]"
     ]
    },
    {
     "name": "stdout",
     "output_type": "stream",
     "text": [
      "<Slide, name = 2562>, width=300, height=375, channels=3, levels=1, RGB=True, dtype=uint8> <valis.slide_io.VipsSlideReader object at 0x7f11b83d5370> True (375, 300, 3)\n",
      "<Slide, name = 2563>, width=300, height=375, channels=3, levels=1, RGB=True, dtype=uint8> <valis.slide_io.VipsSlideReader object at 0x7f11bcb4d6a0> True (375, 300, 3)\n",
      "<Slide, name = 2564>, width=300, height=375, channels=3, levels=1, RGB=True, dtype=uint8> <valis.slide_io.VipsSlideReader object at 0x7f11bd2158e0> True (375, 300, 3)\n",
      "<Slide, name = 2565>, width=300, height=375, channels=3, levels=1, RGB=True, dtype=uint8> <valis.slide_io.VipsSlideReader object at 0x7f11b841d3a0> True (375, 300, 3)\n",
      "<Slide, name = 2566>, width=300, height=375, channels=3, levels=1, RGB=True, dtype=uint8> <valis.slide_io.VipsSlideReader object at 0x7f11bcb3d8b0> True (375, 300, 3)\n",
      "<Slide, name = 2567>, width=300, height=375, channels=3, levels=1, RGB=True, dtype=uint8> <valis.slide_io.VipsSlideReader object at 0x7f11b83d5790> True (375, 300, 3)\n",
      "<Slide, name = 2568>, width=300, height=375, channels=3, levels=1, RGB=True, dtype=uint8> <valis.slide_io.VipsSlideReader object at 0x7f11b841d940> True (375, 300, 3)\n",
      "<Slide, name = 2569>, width=300, height=375, channels=3, levels=1, RGB=True, dtype=uint8> <valis.slide_io.VipsSlideReader object at 0x7f11b841d400> True (375, 300, 3)\n",
      "<Slide, name = 2570>, width=300, height=375, channels=3, levels=1, RGB=True, dtype=uint8> <valis.slide_io.VipsSlideReader object at 0x7f11b83d57c0> True (375, 300, 3)\n",
      "<Slide, name = 2571>, width=300, height=375, channels=3, levels=1, RGB=True, dtype=uint8> <valis.slide_io.VipsSlideReader object at 0x7f11b83d5a60> True (375, 300, 3)\n"
     ]
    },
    {
     "name": "stderr",
     "output_type": "stream",
     "text": [
      "Converting images:  97%|█████████▋| 2540/2627 [00:27<00:00, 89.96image/s]"
     ]
    },
    {
     "name": "stdout",
     "output_type": "stream",
     "text": [
      "<Slide, name = 2572>, width=300, height=375, channels=3, levels=1, RGB=True, dtype=uint8> <valis.slide_io.VipsSlideReader object at 0x7f11b83d5910> True (375, 300, 3)\n",
      "<Slide, name = 2573>, width=300, height=375, channels=3, levels=1, RGB=True, dtype=uint8> <valis.slide_io.VipsSlideReader object at 0x7f11b841daf0> True (375, 300, 3)\n",
      "<Slide, name = 2574>, width=300, height=375, channels=3, levels=1, RGB=True, dtype=uint8> <valis.slide_io.VipsSlideReader object at 0x7f11b841da30> True (375, 300, 3)\n",
      "<Slide, name = 2575>, width=300, height=375, channels=3, levels=1, RGB=True, dtype=uint8> <valis.slide_io.VipsSlideReader object at 0x7f11b841dc40> True (375, 300, 3)\n",
      "<Slide, name = 2576>, width=300, height=375, channels=3, levels=1, RGB=True, dtype=uint8> <valis.slide_io.VipsSlideReader object at 0x7f11b841dc70> True (375, 300, 3)\n",
      "<Slide, name = 2577>, width=300, height=375, channels=3, levels=1, RGB=True, dtype=uint8> <valis.slide_io.VipsSlideReader object at 0x7f11b83d5b80> True (375, 300, 3)\n",
      "<Slide, name = 2578>, width=300, height=375, channels=3, levels=1, RGB=True, dtype=uint8> <valis.slide_io.VipsSlideReader object at 0x7f11b841dd30> True (375, 300, 3)\n",
      "<Slide, name = 2579>, width=300, height=375, channels=3, levels=1, RGB=True, dtype=uint8> <valis.slide_io.VipsSlideReader object at 0x7f11bd185640> True (375, 300, 3)\n",
      "<Slide, name = 2580>, width=300, height=375, channels=3, levels=1, RGB=True, dtype=uint8> <valis.slide_io.VipsSlideReader object at 0x7f11bcb25df0> True (375, 300, 3)\n",
      "<Slide, name = 2581>, width=300, height=375, channels=3, levels=1, RGB=True, dtype=uint8> <valis.slide_io.VipsSlideReader object at 0x7f11b83d5d00> True (375, 300, 3)\n"
     ]
    },
    {
     "name": "stderr",
     "output_type": "stream",
     "text": [
      "Converting images:  97%|█████████▋| 2550/2627 [00:27<00:00, 90.30image/s]"
     ]
    },
    {
     "name": "stdout",
     "output_type": "stream",
     "text": [
      "<Slide, name = 2582>, width=300, height=375, channels=3, levels=1, RGB=True, dtype=uint8> <valis.slide_io.VipsSlideReader object at 0x7f11b83d5e50> True (375, 300, 3)\n",
      "<Slide, name = 2583>, width=300, height=375, channels=3, levels=1, RGB=True, dtype=uint8> <valis.slide_io.VipsSlideReader object at 0x7f11b83d5cd0> True (375, 300, 3)\n",
      "<Slide, name = 2584>, width=300, height=375, channels=3, levels=1, RGB=True, dtype=uint8> <valis.slide_io.VipsSlideReader object at 0x7f11b83d5d90> True (375, 300, 3)\n",
      "<Slide, name = 2585>, width=300, height=375, channels=3, levels=1, RGB=True, dtype=uint8> <valis.slide_io.VipsSlideReader object at 0x7f11b841dee0> True (375, 300, 3)\n",
      "<Slide, name = 2586>, width=300, height=375, channels=3, levels=1, RGB=True, dtype=uint8> <valis.slide_io.VipsSlideReader object at 0x7f11bcb3e1b0> True (375, 300, 3)\n",
      "<Slide, name = 2587>, width=300, height=375, channels=3, levels=1, RGB=True, dtype=uint8> <valis.slide_io.VipsSlideReader object at 0x7f11b841d9a0> True (375, 300, 3)\n",
      "<Slide, name = 2588>, width=300, height=375, channels=3, levels=1, RGB=True, dtype=uint8> <valis.slide_io.VipsSlideReader object at 0x7f11bd216180> True (375, 300, 3)\n",
      "<Slide, name = 2589>, width=300, height=375, channels=3, levels=1, RGB=True, dtype=uint8> <valis.slide_io.VipsSlideReader object at 0x7f11b841e1e0> True (375, 300, 3)\n",
      "<Slide, name = 2590>, width=300, height=375, channels=3, levels=1, RGB=True, dtype=uint8> <valis.slide_io.VipsSlideReader object at 0x7f11b83d6060> True (375, 300, 3)\n",
      "<Slide, name = 2591>, width=300, height=375, channels=3, levels=1, RGB=True, dtype=uint8> <valis.slide_io.VipsSlideReader object at 0x7f11b841e270> True (375, 300, 3)\n"
     ]
    },
    {
     "name": "stderr",
     "output_type": "stream",
     "text": [
      "Converting images:  97%|█████████▋| 2560/2627 [00:28<00:00, 90.71image/s]"
     ]
    },
    {
     "name": "stdout",
     "output_type": "stream",
     "text": [
      "<Slide, name = 2592>, width=300, height=375, channels=3, levels=1, RGB=True, dtype=uint8> <valis.slide_io.VipsSlideReader object at 0x7f11b83d5f10> True (375, 300, 3)\n",
      "<Slide, name = 2593>, width=300, height=375, channels=3, levels=1, RGB=True, dtype=uint8> <valis.slide_io.VipsSlideReader object at 0x7f11b841e330> True (375, 300, 3)\n",
      "<Slide, name = 2594>, width=300, height=375, channels=3, levels=1, RGB=True, dtype=uint8> <valis.slide_io.VipsSlideReader object at 0x7f11b841dfa0> True (375, 300, 3)\n",
      "<Slide, name = 2595>, width=300, height=375, channels=3, levels=1, RGB=True, dtype=uint8> <valis.slide_io.VipsSlideReader object at 0x7f11b83d6210> True (375, 300, 3)\n",
      "<Slide, name = 2596>, width=300, height=375, channels=3, levels=1, RGB=True, dtype=uint8> <valis.slide_io.VipsSlideReader object at 0x7f11b83d6450> True (375, 300, 3)\n",
      "<Slide, name = 2597>, width=300, height=375, channels=3, levels=1, RGB=True, dtype=uint8> <valis.slide_io.VipsSlideReader object at 0x7f11b841e600> True (375, 300, 3)\n",
      "<Slide, name = 2598>, width=300, height=375, channels=3, levels=1, RGB=True, dtype=uint8> <valis.slide_io.VipsSlideReader object at 0x7f11b841e4e0> True (375, 300, 3)\n",
      "<Slide, name = 2599>, width=300, height=375, channels=3, levels=1, RGB=True, dtype=uint8> <valis.slide_io.VipsSlideReader object at 0x7f11b83d5c10> True (375, 300, 3)\n",
      "<Slide, name = 2600>, width=300, height=375, channels=3, levels=1, RGB=True, dtype=uint8> <valis.slide_io.VipsSlideReader object at 0x7f11b841e630> True (375, 300, 3)\n",
      "<Slide, name = 2601>, width=300, height=375, channels=3, levels=1, RGB=True, dtype=uint8> <valis.slide_io.VipsSlideReader object at 0x7f11b83d6030> True (375, 300, 3)\n"
     ]
    },
    {
     "name": "stderr",
     "output_type": "stream",
     "text": [
      "Converting images:  98%|█████████▊| 2570/2627 [00:28<00:00, 90.84image/s]"
     ]
    },
    {
     "name": "stdout",
     "output_type": "stream",
     "text": [
      "<Slide, name = 2602>, width=300, height=375, channels=3, levels=1, RGB=True, dtype=uint8> <valis.slide_io.VipsSlideReader object at 0x7f11b841e6c0> True (375, 300, 3)\n",
      "<Slide, name = 2603>, width=300, height=375, channels=3, levels=1, RGB=True, dtype=uint8> <valis.slide_io.VipsSlideReader object at 0x7f11b83d67b0> True (375, 300, 3)\n",
      "<Slide, name = 2604>, width=300, height=375, channels=3, levels=1, RGB=True, dtype=uint8> <valis.slide_io.VipsSlideReader object at 0x7f11b841e780> True (375, 300, 3)\n",
      "<Slide, name = 2605>, width=300, height=375, channels=3, levels=1, RGB=True, dtype=uint8> <valis.slide_io.VipsSlideReader object at 0x7f11b83d5a00> True (375, 300, 3)\n",
      "<Slide, name = 2606>, width=300, height=375, channels=3, levels=1, RGB=True, dtype=uint8> <valis.slide_io.VipsSlideReader object at 0x7f11b83d6750> True (375, 300, 3)\n",
      "<Slide, name = 2607>, width=300, height=375, channels=3, levels=1, RGB=True, dtype=uint8> <valis.slide_io.VipsSlideReader object at 0x7f11b841e660> True (375, 300, 3)\n",
      "<Slide, name = 2608>, width=300, height=375, channels=3, levels=1, RGB=True, dtype=uint8> <valis.slide_io.VipsSlideReader object at 0x7f11b83d6810> True (375, 300, 3)\n",
      "<Slide, name = 2609>, width=300, height=375, channels=3, levels=1, RGB=True, dtype=uint8> <valis.slide_io.VipsSlideReader object at 0x7f11b83d6390> True (375, 300, 3)\n",
      "<Slide, name = 2610>, width=300, height=375, channels=3, levels=1, RGB=True, dtype=uint8> <valis.slide_io.VipsSlideReader object at 0x7f11b841eab0> True (375, 300, 3)\n",
      "<Slide, name = 2611>, width=300, height=375, channels=3, levels=1, RGB=True, dtype=uint8> <valis.slide_io.VipsSlideReader object at 0x7f11bcb568a0> True (375, 300, 3)\n"
     ]
    },
    {
     "name": "stderr",
     "output_type": "stream",
     "text": [
      "Converting images:  98%|█████████▊| 2580/2627 [00:28<00:00, 90.50image/s]"
     ]
    },
    {
     "name": "stdout",
     "output_type": "stream",
     "text": [
      "<Slide, name = 2612>, width=300, height=375, channels=3, levels=1, RGB=True, dtype=uint8> <valis.slide_io.VipsSlideReader object at 0x7f11bcb3ea80> True (375, 300, 3)\n",
      "<Slide, name = 2613>, width=300, height=375, channels=3, levels=1, RGB=True, dtype=uint8> <valis.slide_io.VipsSlideReader object at 0x7f11bd5feae0> True (375, 300, 3)\n",
      "<Slide, name = 2614>, width=300, height=375, channels=3, levels=1, RGB=True, dtype=uint8> <valis.slide_io.VipsSlideReader object at 0x7f11b83d69c0> True (375, 300, 3)\n",
      "<Slide, name = 2615>, width=300, height=375, channels=3, levels=1, RGB=True, dtype=uint8> <valis.slide_io.VipsSlideReader object at 0x7f11b841eb70> True (375, 300, 3)\n",
      "<Slide, name = 2616>, width=300, height=375, channels=3, levels=1, RGB=True, dtype=uint8> <valis.slide_io.VipsSlideReader object at 0x7f11b841e9f0> True (375, 300, 3)\n",
      "<Slide, name = 2617>, width=300, height=375, channels=3, levels=1, RGB=True, dtype=uint8> <valis.slide_io.VipsSlideReader object at 0x7f11b841ec30> True (375, 300, 3)\n",
      "<Slide, name = 2618>, width=300, height=375, channels=3, levels=1, RGB=True, dtype=uint8> <valis.slide_io.VipsSlideReader object at 0x7f11b83d6b40> True (375, 300, 3)\n",
      "<Slide, name = 2619>, width=300, height=375, channels=3, levels=1, RGB=True, dtype=uint8> <valis.slide_io.VipsSlideReader object at 0x7f11b83d6c90> True (375, 300, 3)\n",
      "<Slide, name = 2620>, width=300, height=375, channels=3, levels=1, RGB=True, dtype=uint8> <valis.slide_io.VipsSlideReader object at 0x7f11b83d6b10> True (375, 300, 3)\n",
      "<Slide, name = 2621>, width=300, height=375, channels=3, levels=1, RGB=True, dtype=uint8> <valis.slide_io.VipsSlideReader object at 0x7f11bd5fef00> True (375, 300, 3)\n"
     ]
    },
    {
     "name": "stderr",
     "output_type": "stream",
     "text": [
      "Converting images:  99%|█████████▊| 2590/2627 [00:28<00:00, 90.38image/s]"
     ]
    },
    {
     "name": "stdout",
     "output_type": "stream",
     "text": [
      "<Slide, name = 2622>, width=300, height=375, channels=3, levels=1, RGB=True, dtype=uint8> <valis.slide_io.VipsSlideReader object at 0x7f11b841eea0> True (375, 300, 3)\n",
      "<Slide, name = 2623>, width=300, height=375, channels=3, levels=1, RGB=True, dtype=uint8> <valis.slide_io.VipsSlideReader object at 0x7f11b83d68d0> True (375, 300, 3)\n",
      "<Slide, name = 2624>, width=300, height=375, channels=3, levels=1, RGB=True, dtype=uint8> <valis.slide_io.VipsSlideReader object at 0x7f11b83d6ed0> True (375, 300, 3)\n",
      "<Slide, name = 2625>, width=300, height=375, channels=3, levels=1, RGB=True, dtype=uint8> <valis.slide_io.VipsSlideReader object at 0x7f11b83d6e10> True (375, 300, 3)\n",
      "<Slide, name = 2626>, width=300, height=375, channels=3, levels=1, RGB=True, dtype=uint8> <valis.slide_io.VipsSlideReader object at 0x7f11b83d6f90> True (375, 300, 3)\n",
      "<Slide, name = 2627>, width=300, height=375, channels=3, levels=1, RGB=True, dtype=uint8> <valis.slide_io.VipsSlideReader object at 0x7f11b841f0b0> True (375, 300, 3)\n",
      "<Slide, name = 2628>, width=300, height=375, channels=3, levels=1, RGB=True, dtype=uint8> <valis.slide_io.VipsSlideReader object at 0x7f11b841ee40> True (375, 300, 3)\n",
      "<Slide, name = 2629>, width=300, height=375, channels=3, levels=1, RGB=True, dtype=uint8> <valis.slide_io.VipsSlideReader object at 0x7f11b841f140> True (375, 300, 3)\n",
      "<Slide, name = 2630>, width=300, height=375, channels=3, levels=1, RGB=True, dtype=uint8> <valis.slide_io.VipsSlideReader object at 0x7f11b83d71a0> True (375, 300, 3)\n",
      "<Slide, name = 2631>, width=300, height=375, channels=3, levels=1, RGB=True, dtype=uint8> <valis.slide_io.VipsSlideReader object at 0x7f11bd5feff0> True (375, 300, 3)\n"
     ]
    },
    {
     "name": "stderr",
     "output_type": "stream",
     "text": [
      "Converting images:  99%|█████████▉| 2600/2627 [00:28<00:00, 90.54image/s]"
     ]
    },
    {
     "name": "stdout",
     "output_type": "stream",
     "text": [
      "<Slide, name = 2632>, width=300, height=375, channels=3, levels=1, RGB=True, dtype=uint8> <valis.slide_io.VipsSlideReader object at 0x7f11bcb3f380> True (375, 300, 3)\n",
      "<Slide, name = 2633>, width=300, height=375, channels=3, levels=1, RGB=True, dtype=uint8> <valis.slide_io.VipsSlideReader object at 0x7f11bd5ff260> True (375, 300, 3)\n",
      "<Slide, name = 2634>, width=300, height=375, channels=3, levels=1, RGB=True, dtype=uint8> <valis.slide_io.VipsSlideReader object at 0x7f11b83d7230> True (375, 300, 3)\n",
      "<Slide, name = 2635>, width=300, height=375, channels=3, levels=1, RGB=True, dtype=uint8> <valis.slide_io.VipsSlideReader object at 0x7f11bcb2f3b0> True (375, 300, 3)\n",
      "<Slide, name = 2636>, width=300, height=375, channels=3, levels=1, RGB=True, dtype=uint8> <valis.slide_io.VipsSlideReader object at 0x7f11b83d7080> True (375, 300, 3)\n",
      "<Slide, name = 2637>, width=300, height=375, channels=3, levels=1, RGB=True, dtype=uint8> <valis.slide_io.VipsSlideReader object at 0x7f11b841f440> True (375, 300, 3)\n",
      "<Slide, name = 2638>, width=300, height=375, channels=3, levels=1, RGB=True, dtype=uint8> <valis.slide_io.VipsSlideReader object at 0x7f11b841f200> True (375, 300, 3)\n",
      "<Slide, name = 2639>, width=300, height=375, channels=3, levels=1, RGB=True, dtype=uint8> <valis.slide_io.VipsSlideReader object at 0x7f11bcb5f500> True (375, 300, 3)\n",
      "<Slide, name = 2640>, width=300, height=375, channels=3, levels=1, RGB=True, dtype=uint8> <valis.slide_io.VipsSlideReader object at 0x7f11bd5ff560> True (375, 300, 3)\n",
      "<Slide, name = 2641>, width=300, height=375, channels=3, levels=1, RGB=True, dtype=uint8> <valis.slide_io.VipsSlideReader object at 0x7f11bd5ff5c0> True (375, 300, 3)\n"
     ]
    },
    {
     "name": "stderr",
     "output_type": "stream",
     "text": [
      "Converting images:  99%|█████████▉| 2610/2627 [00:28<00:00, 91.16image/s]"
     ]
    },
    {
     "name": "stdout",
     "output_type": "stream",
     "text": [
      "<Slide, name = 2642>, width=300, height=375, channels=3, levels=1, RGB=True, dtype=uint8> <valis.slide_io.VipsSlideReader object at 0x7f11b841f620> True (375, 300, 3)\n",
      "<Slide, name = 2643>, width=300, height=375, channels=3, levels=1, RGB=True, dtype=uint8> <valis.slide_io.VipsSlideReader object at 0x7f11bd5ff680> True (375, 300, 3)\n",
      "<Slide, name = 2644>, width=300, height=375, channels=3, levels=1, RGB=True, dtype=uint8> <valis.slide_io.VipsSlideReader object at 0x7f11b841f6e0> True (375, 300, 3)\n",
      "<Slide, name = 2645>, width=300, height=375, channels=3, levels=1, RGB=True, dtype=uint8> <valis.slide_io.VipsSlideReader object at 0x7f11b83d73e0> True (375, 300, 3)\n",
      "<Slide, name = 2646>, width=300, height=375, channels=3, levels=1, RGB=True, dtype=uint8> <valis.slide_io.VipsSlideReader object at 0x7f11b841f530> True (375, 300, 3)\n",
      "<Slide, name = 2647>, width=300, height=375, channels=3, levels=1, RGB=True, dtype=uint8> <valis.slide_io.VipsSlideReader object at 0x7f11b83d71d0> True (375, 300, 3)\n",
      "<Slide, name = 2648>, width=300, height=375, channels=3, levels=1, RGB=True, dtype=uint8> <valis.slide_io.VipsSlideReader object at 0x7f11b841f830> True (375, 300, 3)\n",
      "<Slide, name = 2649>, width=300, height=375, channels=3, levels=1, RGB=True, dtype=uint8> <valis.slide_io.VipsSlideReader object at 0x7f11b841f800> True (375, 300, 3)\n",
      "<Slide, name = 2650>, width=300, height=375, channels=3, levels=1, RGB=True, dtype=uint8> <valis.slide_io.VipsSlideReader object at 0x7f11bd5ff980> True (375, 300, 3)\n",
      "<Slide, name = 2651>, width=300, height=375, channels=3, levels=1, RGB=True, dtype=uint8> <valis.slide_io.VipsSlideReader object at 0x7f11bd5ff9b0> True (375, 300, 3)\n"
     ]
    },
    {
     "name": "stderr",
     "output_type": "stream",
     "text": [
      "Converting images: 100%|█████████▉| 2620/2627 [00:28<00:00, 90.99image/s]"
     ]
    },
    {
     "name": "stdout",
     "output_type": "stream",
     "text": [
      "<Slide, name = 2652>, width=300, height=375, channels=3, levels=1, RGB=True, dtype=uint8> <valis.slide_io.VipsSlideReader object at 0x7f11b83d78c0> True (375, 300, 3)\n",
      "<Slide, name = 2653>, width=300, height=375, channels=3, levels=1, RGB=True, dtype=uint8> <valis.slide_io.VipsSlideReader object at 0x7f11bd5ffa70> True (375, 300, 3)\n",
      "<Slide, name = 2654>, width=300, height=375, channels=3, levels=1, RGB=True, dtype=uint8> <valis.slide_io.VipsSlideReader object at 0x7f11b83d7920> True (375, 300, 3)\n",
      "<Slide, name = 2655>, width=300, height=375, channels=3, levels=1, RGB=True, dtype=uint8> <valis.slide_io.VipsSlideReader object at 0x7f11bd5ffb30> True (375, 300, 3)\n",
      "<Slide, name = 2656>, width=300, height=375, channels=3, levels=1, RGB=True, dtype=uint8> <valis.slide_io.VipsSlideReader object at 0x7f11b841fa40> True (375, 300, 3)\n",
      "<Slide, name = 10000>, width=300, height=375, channels=3, levels=1, RGB=True, dtype=uint8> <valis.slide_io.VipsSlideReader object at 0x7f11b83d7a10> True (375, 300, 3)\n",
      "<Slide, name = 10001>, width=300, height=375, channels=3, levels=1, RGB=True, dtype=uint8> <valis.slide_io.VipsSlideReader object at 0x7f11b83d7c50> True (375, 300, 3)\n"
     ]
    },
    {
     "name": "stderr",
     "output_type": "stream",
     "text": [
      "Converting images: 100%|██████████| 2627/2627 [00:28<00:00, 91.07image/s]\n"
     ]
    },
    {
     "name": "stdout",
     "output_type": "stream",
     "text": [
      "\n",
      "==== Processing images\n",
      "\n"
     ]
    },
    {
     "name": "stderr",
     "output_type": "stream",
     "text": [
      "Processing images : 100%|██████████| 2627/2627 [14:38<00:00,  2.99image/s]\n",
      "Normalizing images:  36%|███▌      | 936/2627 [01:12<02:24, 11.71image/s]"
     ]
    }
   ],
   "source": [
    "slide_src_dir = '/storage/keerthi_data/BFIW_processed/'\n",
    "results_dir = '/storage/valis_reg/valis_process'\n",
    "os.makedirs(results_dir, exist_ok=True)\n",
    "reference_slide = \"/storage/keerthi_data/BFIW_processed/B_213-ST_BFIW-SE_1606_processed.jpg\"\n",
    "registrar = registration.Valis(slide_src_dir, results_dir, reference_img_f=reference_slide)\n",
    "\n",
    "\n",
    "registrar.name_dict = imgs_ordered\n",
    "registrar.imgs_ordered=True\n",
    "registrar.crop='overlap'\n",
    "rigid_registrar, non_rigid_registrar, error_df = registrar.register()\n"
   ]
  }
 ],
 "metadata": {
  "kernelspec": {
   "display_name": ".venv",
   "language": "python",
   "name": "python3"
  },
  "language_info": {
   "codemirror_mode": {
    "name": "ipython",
    "version": 3
   },
   "file_extension": ".py",
   "mimetype": "text/x-python",
   "name": "python",
   "nbconvert_exporter": "python",
   "pygments_lexer": "ipython3",
   "version": "3.12.3"
  }
 },
 "nbformat": 4,
 "nbformat_minor": 2
}
