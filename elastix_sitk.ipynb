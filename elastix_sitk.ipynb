{
 "cells": [
  {
   "cell_type": "code",
   "execution_count": 1,
   "metadata": {},
   "outputs": [
    {
     "name": "stderr",
     "output_type": "stream",
     "text": [
      "/usr/local/src/.venv/lib/python3.12/site-packages/SimpleITK/extra.py:457: SyntaxWarning: invalid escape sequence '\\s'\n",
      "  \"\"\"Blurs an image by separable convolution with discrete\n",
      "/usr/local/src/.venv/lib/python3.12/site-packages/tqdm/auto.py:21: TqdmWarning: IProgress not found. Please update jupyter and ipywidgets. See https://ipywidgets.readthedocs.io/en/stable/user_install.html\n",
      "  from .autonotebook import tqdm as notebook_tqdm\n",
      "/usr/local/src/valis/valtils.py:92: SyntaxWarning: invalid escape sequence '\\.'\n",
      "  if re.search(\"\\.\", f) is None:\n"
     ]
    }
   ],
   "source": [
    "from valis import registration"
   ]
  },
  {
   "cell_type": "code",
   "execution_count": 13,
   "metadata": {},
   "outputs": [],
   "source": [
    "src_dir = 'registered_masks'\n",
    "dst_dir = 'registered_masks_valis'\n",
    "register_all = registration.Valis(src_dir, dst_dir,non_rigid_registrar_cls=None)\n"
   ]
  },
  {
   "cell_type": "code",
   "execution_count": 18,
   "metadata": {},
   "outputs": [],
   "source": [
    "import os\n",
    "file_names = {f'{src_dir}/{f}':os.path.splitext(f)[0].zfill(4) for f in os.listdir(src_dir) }"
   ]
  },
  {
   "cell_type": "code",
   "execution_count": 19,
   "metadata": {},
   "outputs": [],
   "source": [
    "file_names = dict(sorted(file_names.items(), key=lambda item: item[1]))"
   ]
  },
  {
   "cell_type": "code",
   "execution_count": 20,
   "metadata": {},
   "outputs": [],
   "source": [
    "register_all.imgs_ordered=True\n",
    "\n",
    "register_all.name_dict = file_names"
   ]
  },
  {
   "cell_type": "code",
   "execution_count": 21,
   "metadata": {},
   "outputs": [
    {
     "name": "stdout",
     "output_type": "stream",
     "text": [
      "\n",
      "==== Converting images\n",
      "\n"
     ]
    },
    {
     "name": "stderr",
     "output_type": "stream",
     "text": [
      "Converting images:   0%|          | 0/2624 [00:00<?, ?image/s]"
     ]
    },
    {
     "name": "stdout",
     "output_type": "stream",
     "text": [
      "<Slide, name = 0000>, width=1583, height=1210, channels=1, levels=1, RGB=False, dtype=uint8> <valis.slide_io.VipsSlideReader object at 0x7f6063559fd0> False (783, 1024)\n",
      "<Slide, name = 0001>, width=1578, height=1210, channels=1, levels=1, RGB=False, dtype=uint8> <valis.slide_io.VipsSlideReader object at 0x7f606355a2a0> False (785, 1024)\n",
      "<Slide, name = 0002>, width=1582, height=1210, channels=1, levels=1, RGB=False, dtype=uint8> <valis.slide_io.VipsSlideReader object at 0x7f6063559f10> False (783, 1024)\n",
      "<Slide, name = 0003>, width=1582, height=1210, channels=1, levels=1, RGB=False, dtype=uint8> <valis.slide_io.VipsSlideReader object at 0x7f60635581d0> False (783, 1024)\n",
      "<Slide, name = 0004>, width=1579, height=1210, channels=1, levels=1, RGB=False, dtype=uint8> <valis.slide_io.VipsSlideReader object at 0x7f60635798e0> False (785, 1024)\n"
     ]
    },
    {
     "name": "stderr",
     "output_type": "stream",
     "text": [
      "Converting images:   0%|          | 5/2624 [00:00<01:01, 42.56image/s]"
     ]
    },
    {
     "name": "stdout",
     "output_type": "stream",
     "text": [
      "<Slide, name = 0005>, width=1583, height=1210, channels=1, levels=1, RGB=False, dtype=uint8> <valis.slide_io.VipsSlideReader object at 0x7f60635588f0> False (783, 1024)\n",
      "<Slide, name = 0006>, width=1583, height=1210, channels=1, levels=1, RGB=False, dtype=uint8> <valis.slide_io.VipsSlideReader object at 0x7f606355b320> False (783, 1024)\n",
      "<Slide, name = 0007>, width=1583, height=1210, channels=1, levels=1, RGB=False, dtype=uint8> <valis.slide_io.VipsSlideReader object at 0x7f6063559e20> False (783, 1024)\n",
      "<Slide, name = 0008>, width=1581, height=1210, channels=1, levels=1, RGB=False, dtype=uint8> <valis.slide_io.VipsSlideReader object at 0x7f6063501550> False (784, 1024)\n",
      "<Slide, name = 0009>, width=1582, height=1210, channels=1, levels=1, RGB=False, dtype=uint8> <valis.slide_io.VipsSlideReader object at 0x7f606355be00> False (783, 1024)\n"
     ]
    },
    {
     "name": "stderr",
     "output_type": "stream",
     "text": [
      "Converting images:   0%|          | 10/2624 [00:00<01:01, 42.38image/s]"
     ]
    },
    {
     "name": "stdout",
     "output_type": "stream",
     "text": [
      "<Slide, name = 0010>, width=1583, height=1210, channels=1, levels=1, RGB=False, dtype=uint8> <valis.slide_io.VipsSlideReader object at 0x7f6063579be0> False (783, 1024)\n",
      "<Slide, name = 0011>, width=1581, height=1210, channels=1, levels=1, RGB=False, dtype=uint8> <valis.slide_io.VipsSlideReader object at 0x7f606357a960> False (784, 1024)\n",
      "<Slide, name = 0012>, width=1583, height=1210, channels=1, levels=1, RGB=False, dtype=uint8> <valis.slide_io.VipsSlideReader object at 0x7f60635785f0> False (783, 1024)\n",
      "<Slide, name = 0013>, width=1583, height=1210, channels=1, levels=1, RGB=False, dtype=uint8> <valis.slide_io.VipsSlideReader object at 0x7f606357a660> False (783, 1024)\n",
      "<Slide, name = 0014>, width=1583, height=1210, channels=1, levels=1, RGB=False, dtype=uint8> <valis.slide_io.VipsSlideReader object at 0x7f6063579040> False (783, 1024)\n"
     ]
    },
    {
     "name": "stderr",
     "output_type": "stream",
     "text": [
      "Converting images:   1%|          | 15/2624 [00:00<01:01, 42.71image/s]"
     ]
    },
    {
     "name": "stdout",
     "output_type": "stream",
     "text": [
      "<Slide, name = 0015>, width=1583, height=1210, channels=1, levels=1, RGB=False, dtype=uint8> <valis.slide_io.VipsSlideReader object at 0x7f60635783e0> False (783, 1024)\n",
      "<Slide, name = 0016>, width=1583, height=1210, channels=1, levels=1, RGB=False, dtype=uint8> <valis.slide_io.VipsSlideReader object at 0x7f606355b920> False (783, 1024)\n",
      "<Slide, name = 0017>, width=1583, height=1210, channels=1, levels=1, RGB=False, dtype=uint8> <valis.slide_io.VipsSlideReader object at 0x7f6063578830> False (783, 1024)\n",
      "<Slide, name = 0018>, width=1583, height=1210, channels=1, levels=1, RGB=False, dtype=uint8> <valis.slide_io.VipsSlideReader object at 0x7f606357adb0> False (783, 1024)\n",
      "<Slide, name = 0019>, width=1583, height=1210, channels=1, levels=1, RGB=False, dtype=uint8> <valis.slide_io.VipsSlideReader object at 0x7f6063578710> False (783, 1024)\n"
     ]
    },
    {
     "name": "stderr",
     "output_type": "stream",
     "text": [
      "Converting images:   1%|          | 20/2624 [00:00<01:00, 42.99image/s]"
     ]
    },
    {
     "name": "stdout",
     "output_type": "stream",
     "text": [
      "<Slide, name = 0020>, width=1583, height=1210, channels=1, levels=1, RGB=False, dtype=uint8> <valis.slide_io.VipsSlideReader object at 0x7f606355ba10> False (783, 1024)\n",
      "<Slide, name = 0021>, width=1583, height=1210, channels=1, levels=1, RGB=False, dtype=uint8> <valis.slide_io.VipsSlideReader object at 0x7f6063579220> False (783, 1024)\n",
      "<Slide, name = 0022>, width=1583, height=1210, channels=1, levels=1, RGB=False, dtype=uint8> <valis.slide_io.VipsSlideReader object at 0x7f606357a720> False (783, 1024)\n",
      "<Slide, name = 0023>, width=1583, height=1210, channels=1, levels=1, RGB=False, dtype=uint8> <valis.slide_io.VipsSlideReader object at 0x7f6063578c50> False (783, 1024)\n",
      "<Slide, name = 0024>, width=1583, height=1210, channels=1, levels=1, RGB=False, dtype=uint8> <valis.slide_io.VipsSlideReader object at 0x7f606357a540> False (783, 1024)\n"
     ]
    },
    {
     "name": "stderr",
     "output_type": "stream",
     "text": [
      "Converting images:   1%|          | 25/2624 [00:00<01:01, 42.06image/s]"
     ]
    },
    {
     "name": "stdout",
     "output_type": "stream",
     "text": [
      "<Slide, name = 0025>, width=1583, height=1210, channels=1, levels=1, RGB=False, dtype=uint8> <valis.slide_io.VipsSlideReader object at 0x7f606357bec0> False (783, 1024)\n",
      "<Slide, name = 0026>, width=1583, height=1210, channels=1, levels=1, RGB=False, dtype=uint8> <valis.slide_io.VipsSlideReader object at 0x7f606355a0f0> False (783, 1024)\n",
      "<Slide, name = 0027>, width=1583, height=1210, channels=1, levels=1, RGB=False, dtype=uint8> <valis.slide_io.VipsSlideReader object at 0x7f606355a240> False (783, 1024)\n",
      "<Slide, name = 0028>, width=1583, height=1210, channels=1, levels=1, RGB=False, dtype=uint8> <valis.slide_io.VipsSlideReader object at 0x7f606357a3c0> False (783, 1024)\n",
      "<Slide, name = 0029>, width=1583, height=1210, channels=1, levels=1, RGB=False, dtype=uint8> <valis.slide_io.VipsSlideReader object at 0x7f606357af90> False (783, 1024)\n"
     ]
    },
    {
     "name": "stderr",
     "output_type": "stream",
     "text": [
      "Converting images:   1%|          | 30/2624 [00:00<01:01, 42.50image/s]"
     ]
    },
    {
     "name": "stdout",
     "output_type": "stream",
     "text": [
      "<Slide, name = 0030>, width=1583, height=1210, channels=1, levels=1, RGB=False, dtype=uint8> <valis.slide_io.VipsSlideReader object at 0x7f606357bce0> False (783, 1024)\n",
      "<Slide, name = 0031>, width=1583, height=1210, channels=1, levels=1, RGB=False, dtype=uint8> <valis.slide_io.VipsSlideReader object at 0x7f606357b9b0> False (783, 1024)\n",
      "<Slide, name = 0032>, width=1583, height=1210, channels=1, levels=1, RGB=False, dtype=uint8> <valis.slide_io.VipsSlideReader object at 0x7f606357ba70> False (783, 1024)\n",
      "<Slide, name = 0033>, width=1583, height=1210, channels=1, levels=1, RGB=False, dtype=uint8> <valis.slide_io.VipsSlideReader object at 0x7f6063558d40> False (783, 1024)\n",
      "<Slide, name = 0034>, width=1583, height=1210, channels=1, levels=1, RGB=False, dtype=uint8> <valis.slide_io.VipsSlideReader object at 0x7f6063558920> False (783, 1024)\n"
     ]
    },
    {
     "name": "stderr",
     "output_type": "stream",
     "text": [
      "Converting images:   1%|▏         | 35/2624 [00:00<01:00, 42.66image/s]"
     ]
    },
    {
     "name": "stdout",
     "output_type": "stream",
     "text": [
      "<Slide, name = 0035>, width=1583, height=1210, channels=1, levels=1, RGB=False, dtype=uint8> <valis.slide_io.VipsSlideReader object at 0x7f6063578950> False (783, 1024)\n",
      "<Slide, name = 0036>, width=1583, height=1210, channels=1, levels=1, RGB=False, dtype=uint8> <valis.slide_io.VipsSlideReader object at 0x7f6063578c80> False (783, 1024)\n",
      "<Slide, name = 0037>, width=1583, height=1210, channels=1, levels=1, RGB=False, dtype=uint8> <valis.slide_io.VipsSlideReader object at 0x7f6063559100> False (783, 1024)\n",
      "<Slide, name = 0038>, width=1583, height=1210, channels=1, levels=1, RGB=False, dtype=uint8> <valis.slide_io.VipsSlideReader object at 0x7f606357a570> False (783, 1024)\n",
      "<Slide, name = 0039>, width=1583, height=1210, channels=1, levels=1, RGB=False, dtype=uint8> <valis.slide_io.VipsSlideReader object at 0x7f6063578d10> False (783, 1024)\n"
     ]
    },
    {
     "name": "stderr",
     "output_type": "stream",
     "text": [
      "Converting images:   2%|▏         | 40/2624 [00:00<00:59, 43.49image/s]"
     ]
    },
    {
     "name": "stdout",
     "output_type": "stream",
     "text": [
      "<Slide, name = 0040>, width=1583, height=1210, channels=1, levels=1, RGB=False, dtype=uint8> <valis.slide_io.VipsSlideReader object at 0x7f606357bb60> False (783, 1024)\n",
      "<Slide, name = 0041>, width=1583, height=1210, channels=1, levels=1, RGB=False, dtype=uint8> <valis.slide_io.VipsSlideReader object at 0x7f6063579400> False (783, 1024)\n",
      "<Slide, name = 0042>, width=1583, height=1210, channels=1, levels=1, RGB=False, dtype=uint8> <valis.slide_io.VipsSlideReader object at 0x7f6063558fb0> False (783, 1024)\n",
      "<Slide, name = 0043>, width=1583, height=1210, channels=1, levels=1, RGB=False, dtype=uint8> <valis.slide_io.VipsSlideReader object at 0x7f606354bdd0> False (783, 1024)\n",
      "<Slide, name = 0044>, width=1583, height=1210, channels=1, levels=1, RGB=False, dtype=uint8> <valis.slide_io.VipsSlideReader object at 0x7f606354afc0> False (783, 1024)\n"
     ]
    },
    {
     "name": "stderr",
     "output_type": "stream",
     "text": [
      "Converting images:   2%|▏         | 45/2624 [00:01<00:58, 44.39image/s]"
     ]
    },
    {
     "name": "stdout",
     "output_type": "stream",
     "text": [
      "<Slide, name = 0045>, width=1583, height=1210, channels=1, levels=1, RGB=False, dtype=uint8> <valis.slide_io.VipsSlideReader object at 0x7f606354b6e0> False (783, 1024)\n",
      "<Slide, name = 0046>, width=1583, height=1210, channels=1, levels=1, RGB=False, dtype=uint8> <valis.slide_io.VipsSlideReader object at 0x7f606355b7d0> False (783, 1024)\n",
      "<Slide, name = 0047>, width=1583, height=1210, channels=1, levels=1, RGB=False, dtype=uint8> <valis.slide_io.VipsSlideReader object at 0x7f60635590d0> False (783, 1024)\n",
      "<Slide, name = 0048>, width=1583, height=1210, channels=1, levels=1, RGB=False, dtype=uint8> <valis.slide_io.VipsSlideReader object at 0x7f606355bad0> False (783, 1024)\n",
      "<Slide, name = 0049>, width=1583, height=1210, channels=1, levels=1, RGB=False, dtype=uint8> <valis.slide_io.VipsSlideReader object at 0x7f606355bc50> False (783, 1024)\n"
     ]
    },
    {
     "name": "stderr",
     "output_type": "stream",
     "text": [
      "Converting images:   2%|▏         | 50/2624 [00:01<00:56, 45.28image/s]"
     ]
    },
    {
     "name": "stdout",
     "output_type": "stream",
     "text": [
      "<Slide, name = 0050>, width=1583, height=1210, channels=1, levels=1, RGB=False, dtype=uint8> <valis.slide_io.VipsSlideReader object at 0x7f606357b9e0> False (783, 1024)\n",
      "<Slide, name = 0051>, width=1583, height=1210, channels=1, levels=1, RGB=False, dtype=uint8> <valis.slide_io.VipsSlideReader object at 0x7f606354b920> False (783, 1024)\n",
      "<Slide, name = 0052>, width=1583, height=1210, channels=1, levels=1, RGB=False, dtype=uint8> <valis.slide_io.VipsSlideReader object at 0x7f606354bbf0> False (783, 1024)\n",
      "<Slide, name = 0053>, width=1583, height=1210, channels=1, levels=1, RGB=False, dtype=uint8> <valis.slide_io.VipsSlideReader object at 0x7f60635481d0> False (783, 1024)\n",
      "<Slide, name = 0054>, width=1583, height=1210, channels=1, levels=1, RGB=False, dtype=uint8> <valis.slide_io.VipsSlideReader object at 0x7f6063549220> False (783, 1024)\n"
     ]
    },
    {
     "name": "stderr",
     "output_type": "stream",
     "text": [
      "Converting images:   2%|▏         | 55/2624 [00:01<00:56, 45.76image/s]"
     ]
    },
    {
     "name": "stdout",
     "output_type": "stream",
     "text": [
      "<Slide, name = 0055>, width=1583, height=1210, channels=1, levels=1, RGB=False, dtype=uint8> <valis.slide_io.VipsSlideReader object at 0x7f606355abd0> False (783, 1024)\n",
      "<Slide, name = 0056>, width=1583, height=1210, channels=1, levels=1, RGB=False, dtype=uint8> <valis.slide_io.VipsSlideReader object at 0x7f606355aea0> False (783, 1024)\n",
      "<Slide, name = 0057>, width=1583, height=1210, channels=1, levels=1, RGB=False, dtype=uint8> <valis.slide_io.VipsSlideReader object at 0x7f606354a9f0> False (783, 1024)\n",
      "<Slide, name = 0058>, width=1583, height=1210, channels=1, levels=1, RGB=False, dtype=uint8> <valis.slide_io.VipsSlideReader object at 0x7f606355aae0> False (783, 1024)\n",
      "<Slide, name = 0059>, width=1583, height=1210, channels=1, levels=1, RGB=False, dtype=uint8> <valis.slide_io.VipsSlideReader object at 0x7f606354a930> False (783, 1024)\n"
     ]
    },
    {
     "name": "stderr",
     "output_type": "stream",
     "text": [
      "Converting images:   2%|▏         | 60/2624 [00:01<00:55, 45.90image/s]"
     ]
    },
    {
     "name": "stdout",
     "output_type": "stream",
     "text": [
      "<Slide, name = 0060>, width=1583, height=1210, channels=1, levels=1, RGB=False, dtype=uint8> <valis.slide_io.VipsSlideReader object at 0x7f606355a8a0> False (783, 1024)\n",
      "<Slide, name = 0061>, width=1583, height=1210, channels=1, levels=1, RGB=False, dtype=uint8> <valis.slide_io.VipsSlideReader object at 0x7f606354a6f0> False (783, 1024)\n",
      "<Slide, name = 0062>, width=1583, height=1210, channels=1, levels=1, RGB=False, dtype=uint8> <valis.slide_io.VipsSlideReader object at 0x7f606354a750> False (783, 1024)\n",
      "<Slide, name = 0063>, width=1583, height=1210, channels=1, levels=1, RGB=False, dtype=uint8> <valis.slide_io.VipsSlideReader object at 0x7f606354aa20> False (783, 1024)\n",
      "<Slide, name = 0064>, width=1583, height=1210, channels=1, levels=1, RGB=False, dtype=uint8> <valis.slide_io.VipsSlideReader object at 0x7f606355a420> False (783, 1024)\n"
     ]
    },
    {
     "name": "stderr",
     "output_type": "stream",
     "text": [
      "Converting images:   2%|▏         | 65/2624 [00:01<00:55, 46.34image/s]"
     ]
    },
    {
     "name": "stdout",
     "output_type": "stream",
     "text": [
      "<Slide, name = 0065>, width=1583, height=1210, channels=1, levels=1, RGB=False, dtype=uint8> <valis.slide_io.VipsSlideReader object at 0x7f606354a4b0> False (783, 1024)\n",
      "<Slide, name = 0066>, width=1583, height=1210, channels=1, levels=1, RGB=False, dtype=uint8> <valis.slide_io.VipsSlideReader object at 0x7f606354a0c0> False (783, 1024)\n",
      "<Slide, name = 0067>, width=1583, height=1210, channels=1, levels=1, RGB=False, dtype=uint8> <valis.slide_io.VipsSlideReader object at 0x7f6063549f40> False (783, 1024)\n",
      "<Slide, name = 0068>, width=1583, height=1210, channels=1, levels=1, RGB=False, dtype=uint8> <valis.slide_io.VipsSlideReader object at 0x7f60635598b0> False (783, 1024)\n",
      "<Slide, name = 0069>, width=1583, height=1210, channels=1, levels=1, RGB=False, dtype=uint8> <valis.slide_io.VipsSlideReader object at 0x7f6063549970> False (783, 1024)\n"
     ]
    },
    {
     "name": "stderr",
     "output_type": "stream",
     "text": [
      "Converting images:   3%|▎         | 70/2624 [00:01<00:54, 46.78image/s]"
     ]
    },
    {
     "name": "stdout",
     "output_type": "stream",
     "text": [
      "<Slide, name = 0070>, width=1583, height=1210, channels=1, levels=1, RGB=False, dtype=uint8> <valis.slide_io.VipsSlideReader object at 0x7f60636d0170> False (783, 1024)\n",
      "<Slide, name = 0071>, width=1583, height=1210, channels=1, levels=1, RGB=False, dtype=uint8> <valis.slide_io.VipsSlideReader object at 0x7f6063549940> False (783, 1024)\n",
      "<Slide, name = 0072>, width=1583, height=1210, channels=1, levels=1, RGB=False, dtype=uint8> <valis.slide_io.VipsSlideReader object at 0x7f6063559010> False (783, 1024)\n",
      "<Slide, name = 0073>, width=1583, height=1210, channels=1, levels=1, RGB=False, dtype=uint8> <valis.slide_io.VipsSlideReader object at 0x7f606357a0f0> False (783, 1024)\n",
      "<Slide, name = 0074>, width=1583, height=1210, channels=1, levels=1, RGB=False, dtype=uint8> <valis.slide_io.VipsSlideReader object at 0x7f6063579370> False (783, 1024)\n"
     ]
    },
    {
     "name": "stderr",
     "output_type": "stream",
     "text": [
      "Converting images:   3%|▎         | 75/2624 [00:01<00:54, 46.81image/s]"
     ]
    },
    {
     "name": "stdout",
     "output_type": "stream",
     "text": [
      "<Slide, name = 0075>, width=1583, height=1210, channels=1, levels=1, RGB=False, dtype=uint8> <valis.slide_io.VipsSlideReader object at 0x7f6063548350> False (783, 1024)\n",
      "<Slide, name = 0076>, width=1583, height=1210, channels=1, levels=1, RGB=False, dtype=uint8> <valis.slide_io.VipsSlideReader object at 0x7f606355b0b0> False (783, 1024)\n",
      "<Slide, name = 0077>, width=1583, height=1210, channels=1, levels=1, RGB=False, dtype=uint8> <valis.slide_io.VipsSlideReader object at 0x7f606354b560> False (783, 1024)\n",
      "<Slide, name = 0078>, width=1583, height=1210, channels=1, levels=1, RGB=False, dtype=uint8> <valis.slide_io.VipsSlideReader object at 0x7f606354b170> False (783, 1024)\n",
      "<Slide, name = 0079>, width=1583, height=1210, channels=1, levels=1, RGB=False, dtype=uint8> <valis.slide_io.VipsSlideReader object at 0x7f606355b680> False (783, 1024)\n"
     ]
    },
    {
     "name": "stderr",
     "output_type": "stream",
     "text": [
      "Converting images:   3%|▎         | 80/2624 [00:01<00:54, 47.06image/s]"
     ]
    },
    {
     "name": "stdout",
     "output_type": "stream",
     "text": [
      "<Slide, name = 0080>, width=1583, height=1210, channels=1, levels=1, RGB=False, dtype=uint8> <valis.slide_io.VipsSlideReader object at 0x7f606355bec0> False (783, 1024)\n",
      "<Slide, name = 0081>, width=1583, height=1210, channels=1, levels=1, RGB=False, dtype=uint8> <valis.slide_io.VipsSlideReader object at 0x7f60635486e0> False (783, 1024)\n",
      "<Slide, name = 0082>, width=1583, height=1210, channels=1, levels=1, RGB=False, dtype=uint8> <valis.slide_io.VipsSlideReader object at 0x7f606354b410> False (783, 1024)\n",
      "<Slide, name = 0083>, width=1583, height=1210, channels=1, levels=1, RGB=False, dtype=uint8> <valis.slide_io.VipsSlideReader object at 0x7f6063578fb0> False (783, 1024)\n",
      "<Slide, name = 0084>, width=1583, height=1210, channels=1, levels=1, RGB=False, dtype=uint8> <valis.slide_io.VipsSlideReader object at 0x7f6063549c70> False (783, 1024)\n"
     ]
    },
    {
     "name": "stderr",
     "output_type": "stream",
     "text": [
      "Converting images:   3%|▎         | 85/2624 [00:01<00:53, 47.08image/s]"
     ]
    },
    {
     "name": "stdout",
     "output_type": "stream",
     "text": [
      "<Slide, name = 0085>, width=1583, height=1210, channels=1, levels=1, RGB=False, dtype=uint8> <valis.slide_io.VipsSlideReader object at 0x7f606354bfe0> False (783, 1024)\n",
      "<Slide, name = 0086>, width=1583, height=1210, channels=1, levels=1, RGB=False, dtype=uint8> <valis.slide_io.VipsSlideReader object at 0x7f606357a1b0> False (783, 1024)\n",
      "<Slide, name = 0087>, width=1583, height=1210, channels=1, levels=1, RGB=False, dtype=uint8> <valis.slide_io.VipsSlideReader object at 0x7f606353b2f0> False (783, 1024)\n",
      "<Slide, name = 0088>, width=1583, height=1210, channels=1, levels=1, RGB=False, dtype=uint8> <valis.slide_io.VipsSlideReader object at 0x7f6063579160> False (783, 1024)\n",
      "<Slide, name = 0089>, width=1583, height=1210, channels=1, levels=1, RGB=False, dtype=uint8> <valis.slide_io.VipsSlideReader object at 0x7f6063539580> False (783, 1024)\n"
     ]
    },
    {
     "name": "stderr",
     "output_type": "stream",
     "text": [
      "Converting images:   3%|▎         | 90/2624 [00:01<00:53, 47.00image/s]"
     ]
    },
    {
     "name": "stdout",
     "output_type": "stream",
     "text": [
      "<Slide, name = 0090>, width=1583, height=1210, channels=1, levels=1, RGB=False, dtype=uint8> <valis.slide_io.VipsSlideReader object at 0x7f606355ab70> False (783, 1024)\n",
      "<Slide, name = 0091>, width=1583, height=1210, channels=1, levels=1, RGB=False, dtype=uint8> <valis.slide_io.VipsSlideReader object at 0x7f6063538050> False (783, 1024)\n",
      "<Slide, name = 0092>, width=1583, height=1210, channels=1, levels=1, RGB=False, dtype=uint8> <valis.slide_io.VipsSlideReader object at 0x7f606355ade0> False (783, 1024)\n",
      "<Slide, name = 0093>, width=1583, height=1210, channels=1, levels=1, RGB=False, dtype=uint8> <valis.slide_io.VipsSlideReader object at 0x7f606355bb90> False (783, 1024)\n",
      "<Slide, name = 0094>, width=1583, height=1210, channels=1, levels=1, RGB=False, dtype=uint8> <valis.slide_io.VipsSlideReader object at 0x7f606353bda0> False (783, 1024)\n"
     ]
    },
    {
     "name": "stderr",
     "output_type": "stream",
     "text": [
      "Converting images:   4%|▎         | 95/2624 [00:02<00:53, 47.09image/s]"
     ]
    },
    {
     "name": "stdout",
     "output_type": "stream",
     "text": [
      "<Slide, name = 0095>, width=1583, height=1210, channels=1, levels=1, RGB=False, dtype=uint8> <valis.slide_io.VipsSlideReader object at 0x7f606355ae70> False (783, 1024)\n",
      "<Slide, name = 0096>, width=1583, height=1210, channels=1, levels=1, RGB=False, dtype=uint8> <valis.slide_io.VipsSlideReader object at 0x7f606353af60> False (783, 1024)\n",
      "<Slide, name = 0097>, width=1583, height=1210, channels=1, levels=1, RGB=False, dtype=uint8> <valis.slide_io.VipsSlideReader object at 0x7f606357bb30> False (783, 1024)\n",
      "<Slide, name = 0098>, width=1583, height=1210, channels=1, levels=1, RGB=False, dtype=uint8> <valis.slide_io.VipsSlideReader object at 0x7f606353b6b0> False (783, 1024)\n",
      "<Slide, name = 0099>, width=1583, height=1210, channels=1, levels=1, RGB=False, dtype=uint8> <valis.slide_io.VipsSlideReader object at 0x7f606357b950> False (783, 1024)\n"
     ]
    },
    {
     "name": "stderr",
     "output_type": "stream",
     "text": [
      "Converting images:   4%|▍         | 100/2624 [00:02<00:54, 46.59image/s]"
     ]
    },
    {
     "name": "stdout",
     "output_type": "stream",
     "text": [
      "<Slide, name = 0100>, width=1583, height=1210, channels=1, levels=1, RGB=False, dtype=uint8> <valis.slide_io.VipsSlideReader object at 0x7f6063539970> False (783, 1024)\n",
      "<Slide, name = 0101>, width=1583, height=1210, channels=1, levels=1, RGB=False, dtype=uint8> <valis.slide_io.VipsSlideReader object at 0x7f606353ba40> False (783, 1024)\n",
      "<Slide, name = 0102>, width=1583, height=1210, channels=1, levels=1, RGB=False, dtype=uint8> <valis.slide_io.VipsSlideReader object at 0x7f606353bc50> False (783, 1024)\n",
      "<Slide, name = 0103>, width=1583, height=1210, channels=1, levels=1, RGB=False, dtype=uint8> <valis.slide_io.VipsSlideReader object at 0x7f606355b620> False (783, 1024)\n",
      "<Slide, name = 0104>, width=1583, height=1210, channels=1, levels=1, RGB=False, dtype=uint8> <valis.slide_io.VipsSlideReader object at 0x7f606353b050> False (783, 1024)\n"
     ]
    },
    {
     "name": "stderr",
     "output_type": "stream",
     "text": [
      "Converting images:   4%|▍         | 105/2624 [00:02<00:53, 46.66image/s]"
     ]
    },
    {
     "name": "stdout",
     "output_type": "stream",
     "text": [
      "<Slide, name = 0105>, width=1583, height=1210, channels=1, levels=1, RGB=False, dtype=uint8> <valis.slide_io.VipsSlideReader object at 0x7f606355a960> False (783, 1024)\n",
      "<Slide, name = 0106>, width=1583, height=1210, channels=1, levels=1, RGB=False, dtype=uint8> <valis.slide_io.VipsSlideReader object at 0x7f606354b680> False (783, 1024)\n",
      "<Slide, name = 0107>, width=1583, height=1210, channels=1, levels=1, RGB=False, dtype=uint8> <valis.slide_io.VipsSlideReader object at 0x7f606353ad50> False (783, 1024)\n",
      "<Slide, name = 0108>, width=1583, height=1210, channels=1, levels=1, RGB=False, dtype=uint8> <valis.slide_io.VipsSlideReader object at 0x7f606357a750> False (783, 1024)\n",
      "<Slide, name = 0109>, width=1583, height=1210, channels=1, levels=1, RGB=False, dtype=uint8> <valis.slide_io.VipsSlideReader object at 0x7f606353a8a0> False (783, 1024)\n"
     ]
    },
    {
     "name": "stderr",
     "output_type": "stream",
     "text": [
      "Converting images:   4%|▍         | 110/2624 [00:02<00:53, 46.71image/s]"
     ]
    },
    {
     "name": "stdout",
     "output_type": "stream",
     "text": [
      "<Slide, name = 0110>, width=1583, height=1210, channels=1, levels=1, RGB=False, dtype=uint8> <valis.slide_io.VipsSlideReader object at 0x7f606353a8d0> False (783, 1024)\n",
      "<Slide, name = 0111>, width=1583, height=1210, channels=1, levels=1, RGB=False, dtype=uint8> <valis.slide_io.VipsSlideReader object at 0x7f606354a390> False (783, 1024)\n",
      "<Slide, name = 0112>, width=1583, height=1210, channels=1, levels=1, RGB=False, dtype=uint8> <valis.slide_io.VipsSlideReader object at 0x7f606353a450> False (783, 1024)\n",
      "<Slide, name = 0113>, width=1583, height=1210, channels=1, levels=1, RGB=False, dtype=uint8> <valis.slide_io.VipsSlideReader object at 0x7f606355a150> False (783, 1024)\n",
      "<Slide, name = 0114>, width=1583, height=1210, channels=1, levels=1, RGB=False, dtype=uint8> <valis.slide_io.VipsSlideReader object at 0x7f6063539fa0> False (783, 1024)\n"
     ]
    },
    {
     "name": "stderr",
     "output_type": "stream",
     "text": [
      "Converting images:   4%|▍         | 115/2624 [00:02<00:53, 46.59image/s]"
     ]
    },
    {
     "name": "stdout",
     "output_type": "stream",
     "text": [
      "<Slide, name = 0115>, width=1583, height=1210, channels=1, levels=1, RGB=False, dtype=uint8> <valis.slide_io.VipsSlideReader object at 0x7f606353a000> False (783, 1024)\n",
      "<Slide, name = 0116>, width=1583, height=1210, channels=1, levels=1, RGB=False, dtype=uint8> <valis.slide_io.VipsSlideReader object at 0x7f6063559b80> False (783, 1024)\n",
      "<Slide, name = 0117>, width=1583, height=1210, channels=1, levels=1, RGB=False, dtype=uint8> <valis.slide_io.VipsSlideReader object at 0x7f6063549e50> False (783, 1024)\n",
      "<Slide, name = 0118>, width=1583, height=1210, channels=1, levels=1, RGB=False, dtype=uint8> <valis.slide_io.VipsSlideReader object at 0x7f6063539a90> False (783, 1024)\n",
      "<Slide, name = 0119>, width=1583, height=1210, channels=1, levels=1, RGB=False, dtype=uint8> <valis.slide_io.VipsSlideReader object at 0x7f606b77f0b0> False (783, 1024)\n"
     ]
    },
    {
     "name": "stderr",
     "output_type": "stream",
     "text": [
      "Converting images:   5%|▍         | 120/2624 [00:02<00:53, 46.63image/s]"
     ]
    },
    {
     "name": "stdout",
     "output_type": "stream",
     "text": [
      "<Slide, name = 0120>, width=1583, height=1210, channels=1, levels=1, RGB=False, dtype=uint8> <valis.slide_io.VipsSlideReader object at 0x7f6063559730> False (783, 1024)\n",
      "<Slide, name = 0121>, width=1583, height=1210, channels=1, levels=1, RGB=False, dtype=uint8> <valis.slide_io.VipsSlideReader object at 0x7f6063538080> False (783, 1024)\n",
      "<Slide, name = 0122>, width=1583, height=1210, channels=1, levels=1, RGB=False, dtype=uint8> <valis.slide_io.VipsSlideReader object at 0x7f606353a5d0> False (783, 1024)\n",
      "<Slide, name = 0123>, width=1583, height=1210, channels=1, levels=1, RGB=False, dtype=uint8> <valis.slide_io.VipsSlideReader object at 0x7f6063578fe0> False (783, 1024)\n",
      "<Slide, name = 0124>, width=1583, height=1210, channels=1, levels=1, RGB=False, dtype=uint8> <valis.slide_io.VipsSlideReader object at 0x7f60635395e0> False (783, 1024)\n"
     ]
    },
    {
     "name": "stderr",
     "output_type": "stream",
     "text": [
      "Converting images:   5%|▍         | 125/2624 [00:02<00:53, 46.43image/s]"
     ]
    },
    {
     "name": "stdout",
     "output_type": "stream",
     "text": [
      "<Slide, name = 0125>, width=1583, height=1210, channels=1, levels=1, RGB=False, dtype=uint8> <valis.slide_io.VipsSlideReader object at 0x7f6063578da0> False (783, 1024)\n",
      "<Slide, name = 0126>, width=1583, height=1210, channels=1, levels=1, RGB=False, dtype=uint8> <valis.slide_io.VipsSlideReader object at 0x7f6063548fb0> False (783, 1024)\n",
      "<Slide, name = 0127>, width=1583, height=1210, channels=1, levels=1, RGB=False, dtype=uint8> <valis.slide_io.VipsSlideReader object at 0x7f6063538ec0> False (783, 1024)\n",
      "<Slide, name = 0128>, width=1583, height=1210, channels=1, levels=1, RGB=False, dtype=uint8> <valis.slide_io.VipsSlideReader object at 0x7f6063558bc0> False (783, 1024)\n",
      "<Slide, name = 0129>, width=1583, height=1210, channels=1, levels=1, RGB=False, dtype=uint8> <valis.slide_io.VipsSlideReader object at 0x7f6063578ce0> False (783, 1024)\n"
     ]
    },
    {
     "name": "stderr",
     "output_type": "stream",
     "text": [
      "Converting images:   5%|▍         | 130/2624 [00:02<00:54, 46.18image/s]"
     ]
    },
    {
     "name": "stdout",
     "output_type": "stream",
     "text": [
      "<Slide, name = 0130>, width=1583, height=1210, channels=1, levels=1, RGB=False, dtype=uint8> <valis.slide_io.VipsSlideReader object at 0x7f6063558e00> False (783, 1024)\n",
      "<Slide, name = 0131>, width=1583, height=1210, channels=1, levels=1, RGB=False, dtype=uint8> <valis.slide_io.VipsSlideReader object at 0x7f6063578860> False (783, 1024)\n",
      "<Slide, name = 0132>, width=1583, height=1210, channels=1, levels=1, RGB=False, dtype=uint8> <valis.slide_io.VipsSlideReader object at 0x7f60635588c0> False (783, 1024)\n",
      "<Slide, name = 0133>, width=1583, height=1210, channels=1, levels=1, RGB=False, dtype=uint8> <valis.slide_io.VipsSlideReader object at 0x7f6063548a10> False (783, 1024)\n",
      "<Slide, name = 0134>, width=1583, height=1210, channels=1, levels=1, RGB=False, dtype=uint8> <valis.slide_io.VipsSlideReader object at 0x7f6063558500> False (783, 1024)\n"
     ]
    },
    {
     "name": "stderr",
     "output_type": "stream",
     "text": [
      "Converting images:   5%|▌         | 135/2624 [00:02<00:53, 46.17image/s]"
     ]
    },
    {
     "name": "stdout",
     "output_type": "stream",
     "text": [
      "<Slide, name = 0135>, width=1583, height=1210, channels=1, levels=1, RGB=False, dtype=uint8> <valis.slide_io.VipsSlideReader object at 0x7f60635383e0> False (783, 1024)\n",
      "<Slide, name = 0136>, width=1583, height=1210, channels=1, levels=1, RGB=False, dtype=uint8> <valis.slide_io.VipsSlideReader object at 0x7f6063538890> False (783, 1024)\n",
      "<Slide, name = 0137>, width=1583, height=1210, channels=1, levels=1, RGB=False, dtype=uint8> <valis.slide_io.VipsSlideReader object at 0x7f6063578b00> False (783, 1024)\n",
      "<Slide, name = 0138>, width=1583, height=1210, channels=1, levels=1, RGB=False, dtype=uint8> <valis.slide_io.VipsSlideReader object at 0x7f6063538260> False (783, 1024)\n",
      "<Slide, name = 0139>, width=1583, height=1210, channels=1, levels=1, RGB=False, dtype=uint8> <valis.slide_io.VipsSlideReader object at 0x7f60635581a0> False (783, 1024)\n"
     ]
    },
    {
     "name": "stderr",
     "output_type": "stream",
     "text": [
      "Converting images:   5%|▌         | 140/2624 [00:03<00:53, 46.24image/s]"
     ]
    },
    {
     "name": "stdout",
     "output_type": "stream",
     "text": [
      "<Slide, name = 0140>, width=1583, height=1210, channels=1, levels=1, RGB=False, dtype=uint8> <valis.slide_io.VipsSlideReader object at 0x7f6063538440> False (783, 1024)\n",
      "<Slide, name = 0141>, width=1583, height=1210, channels=1, levels=1, RGB=False, dtype=uint8> <valis.slide_io.VipsSlideReader object at 0x7f6063521700> False (783, 1024)\n",
      "<Slide, name = 0142>, width=1583, height=1210, channels=1, levels=1, RGB=False, dtype=uint8> <valis.slide_io.VipsSlideReader object at 0x7f60635594c0> False (783, 1024)\n",
      "<Slide, name = 0143>, width=1583, height=1210, channels=1, levels=1, RGB=False, dtype=uint8> <valis.slide_io.VipsSlideReader object at 0x7f6063579640> False (783, 1024)\n",
      "<Slide, name = 0144>, width=1583, height=1210, channels=1, levels=1, RGB=False, dtype=uint8> <valis.slide_io.VipsSlideReader object at 0x7f6063521340> False (783, 1024)\n"
     ]
    },
    {
     "name": "stderr",
     "output_type": "stream",
     "text": [
      "Converting images:   6%|▌         | 145/2624 [00:03<00:53, 46.03image/s]"
     ]
    },
    {
     "name": "stdout",
     "output_type": "stream",
     "text": [
      "<Slide, name = 0145>, width=1583, height=1210, channels=1, levels=1, RGB=False, dtype=uint8> <valis.slide_io.VipsSlideReader object at 0x7f60635230e0> False (783, 1024)\n",
      "<Slide, name = 0146>, width=1583, height=1210, channels=1, levels=1, RGB=False, dtype=uint8> <valis.slide_io.VipsSlideReader object at 0x7f60635382c0> False (783, 1024)\n",
      "<Slide, name = 0147>, width=1583, height=1210, channels=1, levels=1, RGB=False, dtype=uint8> <valis.slide_io.VipsSlideReader object at 0x7f6063558440> False (783, 1024)\n",
      "<Slide, name = 0148>, width=1583, height=1210, channels=1, levels=1, RGB=False, dtype=uint8> <valis.slide_io.VipsSlideReader object at 0x7f6063558380> False (783, 1024)\n",
      "<Slide, name = 0149>, width=1583, height=1210, channels=1, levels=1, RGB=False, dtype=uint8> <valis.slide_io.VipsSlideReader object at 0x7f606354b9e0> False (783, 1024)\n"
     ]
    },
    {
     "name": "stderr",
     "output_type": "stream",
     "text": [
      "Converting images:   6%|▌         | 150/2624 [00:03<00:53, 46.22image/s]"
     ]
    },
    {
     "name": "stdout",
     "output_type": "stream",
     "text": [
      "<Slide, name = 0150>, width=1583, height=1210, channels=1, levels=1, RGB=False, dtype=uint8> <valis.slide_io.VipsSlideReader object at 0x7f6063523920> False (783, 1024)\n",
      "<Slide, name = 0151>, width=1583, height=1210, channels=1, levels=1, RGB=False, dtype=uint8> <valis.slide_io.VipsSlideReader object at 0x7f606353a150> False (783, 1024)\n",
      "<Slide, name = 0152>, width=1583, height=1210, channels=1, levels=1, RGB=False, dtype=uint8> <valis.slide_io.VipsSlideReader object at 0x7f6063523620> False (783, 1024)\n",
      "<Slide, name = 0153>, width=1583, height=1210, channels=1, levels=1, RGB=False, dtype=uint8> <valis.slide_io.VipsSlideReader object at 0x7f606353a930> False (783, 1024)\n",
      "<Slide, name = 0154>, width=1583, height=1210, channels=1, levels=1, RGB=False, dtype=uint8> <valis.slide_io.VipsSlideReader object at 0x7f60635212e0> False (783, 1024)\n"
     ]
    },
    {
     "name": "stderr",
     "output_type": "stream",
     "text": [
      "Converting images:   6%|▌         | 155/2624 [00:03<00:53, 46.49image/s]"
     ]
    },
    {
     "name": "stdout",
     "output_type": "stream",
     "text": [
      "<Slide, name = 0155>, width=1583, height=1210, channels=1, levels=1, RGB=False, dtype=uint8> <valis.slide_io.VipsSlideReader object at 0x7f606353a270> False (783, 1024)\n",
      "<Slide, name = 0156>, width=1583, height=1210, channels=1, levels=1, RGB=False, dtype=uint8> <valis.slide_io.VipsSlideReader object at 0x7f6063522870> False (783, 1024)\n",
      "<Slide, name = 0157>, width=1583, height=1210, channels=1, levels=1, RGB=False, dtype=uint8> <valis.slide_io.VipsSlideReader object at 0x7f606355be60> False (783, 1024)\n",
      "<Slide, name = 0158>, width=1583, height=1210, channels=1, levels=1, RGB=False, dtype=uint8> <valis.slide_io.VipsSlideReader object at 0x7f606354acf0> False (783, 1024)\n",
      "<Slide, name = 0159>, width=1583, height=1210, channels=1, levels=1, RGB=False, dtype=uint8> <valis.slide_io.VipsSlideReader object at 0x7f6063538fb0> False (783, 1024)\n"
     ]
    },
    {
     "name": "stderr",
     "output_type": "stream",
     "text": [
      "Converting images:   6%|▌         | 160/2624 [00:03<00:53, 46.19image/s]"
     ]
    },
    {
     "name": "stdout",
     "output_type": "stream",
     "text": [
      "<Slide, name = 0160>, width=1583, height=1210, channels=1, levels=1, RGB=False, dtype=uint8> <valis.slide_io.VipsSlideReader object at 0x7f6063523020> False (783, 1024)\n",
      "<Slide, name = 0161>, width=1583, height=1210, channels=1, levels=1, RGB=False, dtype=uint8> <valis.slide_io.VipsSlideReader object at 0x7f606354bec0> False (783, 1024)\n",
      "<Slide, name = 0162>, width=1583, height=1210, channels=1, levels=1, RGB=False, dtype=uint8> <valis.slide_io.VipsSlideReader object at 0x7f6063523d10> False (783, 1024)\n",
      "<Slide, name = 0163>, width=1583, height=1210, channels=1, levels=1, RGB=False, dtype=uint8> <valis.slide_io.VipsSlideReader object at 0x7f606354bc80> False (783, 1024)\n",
      "<Slide, name = 0164>, width=1583, height=1210, channels=1, levels=1, RGB=False, dtype=uint8> <valis.slide_io.VipsSlideReader object at 0x7f606354bc50> False (783, 1024)\n"
     ]
    },
    {
     "name": "stderr",
     "output_type": "stream",
     "text": [
      "Converting images:   6%|▋         | 165/2624 [00:03<00:54, 45.25image/s]"
     ]
    },
    {
     "name": "stdout",
     "output_type": "stream",
     "text": [
      "<Slide, name = 0165>, width=1583, height=1210, channels=1, levels=1, RGB=False, dtype=uint8> <valis.slide_io.VipsSlideReader object at 0x7f606357ba10> False (783, 1024)\n",
      "<Slide, name = 0166>, width=1583, height=1210, channels=1, levels=1, RGB=False, dtype=uint8> <valis.slide_io.VipsSlideReader object at 0x7f606354b830> False (783, 1024)\n",
      "<Slide, name = 0167>, width=1583, height=1210, channels=1, levels=1, RGB=False, dtype=uint8> <valis.slide_io.VipsSlideReader object at 0x7f606355b980> False (783, 1024)\n",
      "<Slide, name = 0168>, width=1583, height=1210, channels=1, levels=1, RGB=False, dtype=uint8> <valis.slide_io.VipsSlideReader object at 0x7f606355b4d0> False (783, 1024)\n",
      "<Slide, name = 0169>, width=1583, height=1210, channels=1, levels=1, RGB=False, dtype=uint8> <valis.slide_io.VipsSlideReader object at 0x7f606355b530> False (783, 1024)\n"
     ]
    },
    {
     "name": "stderr",
     "output_type": "stream",
     "text": [
      "Converting images:   6%|▋         | 170/2624 [00:03<00:54, 44.80image/s]"
     ]
    },
    {
     "name": "stdout",
     "output_type": "stream",
     "text": [
      "<Slide, name = 0170>, width=1583, height=1210, channels=1, levels=1, RGB=False, dtype=uint8> <valis.slide_io.VipsSlideReader object at 0x7f606353b680> False (783, 1024)\n",
      "<Slide, name = 0171>, width=1583, height=1210, channels=1, levels=1, RGB=False, dtype=uint8> <valis.slide_io.VipsSlideReader object at 0x7f6063523290> False (783, 1024)\n",
      "<Slide, name = 0172>, width=1583, height=1210, channels=1, levels=1, RGB=False, dtype=uint8> <valis.slide_io.VipsSlideReader object at 0x7f60635233b0> False (783, 1024)\n",
      "<Slide, name = 0173>, width=1583, height=1210, channels=1, levels=1, RGB=False, dtype=uint8> <valis.slide_io.VipsSlideReader object at 0x7f606355b200> False (783, 1024)\n",
      "<Slide, name = 0174>, width=1583, height=1210, channels=1, levels=1, RGB=False, dtype=uint8> <valis.slide_io.VipsSlideReader object at 0x7f606353ade0> False (783, 1024)\n"
     ]
    },
    {
     "name": "stderr",
     "output_type": "stream",
     "text": [
      "Converting images:   7%|▋         | 175/2624 [00:03<00:55, 44.25image/s]"
     ]
    },
    {
     "name": "stdout",
     "output_type": "stream",
     "text": [
      "<Slide, name = 0175>, width=1583, height=1210, channels=1, levels=1, RGB=False, dtype=uint8> <valis.slide_io.VipsSlideReader object at 0x7f606354aea0> False (783, 1024)\n",
      "<Slide, name = 0176>, width=1583, height=1210, channels=1, levels=1, RGB=False, dtype=uint8> <valis.slide_io.VipsSlideReader object at 0x7f606357ac60> False (783, 1024)\n",
      "<Slide, name = 0177>, width=1583, height=1210, channels=1, levels=1, RGB=False, dtype=uint8> <valis.slide_io.VipsSlideReader object at 0x7f6063522d80> False (783, 1024)\n",
      "<Slide, name = 0178>, width=1583, height=1210, channels=1, levels=1, RGB=False, dtype=uint8> <valis.slide_io.VipsSlideReader object at 0x7f6063522f90> False (783, 1024)\n",
      "<Slide, name = 0179>, width=1583, height=1210, channels=1, levels=1, RGB=False, dtype=uint8> <valis.slide_io.VipsSlideReader object at 0x7f606357a7e0> False (783, 1024)\n"
     ]
    },
    {
     "name": "stderr",
     "output_type": "stream",
     "text": [
      "Converting images:   7%|▋         | 180/2624 [00:03<00:55, 44.05image/s]"
     ]
    },
    {
     "name": "stdout",
     "output_type": "stream",
     "text": [
      "<Slide, name = 0180>, width=1583, height=1210, channels=1, levels=1, RGB=False, dtype=uint8> <valis.slide_io.VipsSlideReader object at 0x7f606357a9c0> False (783, 1024)\n",
      "<Slide, name = 0181>, width=1583, height=1210, channels=1, levels=1, RGB=False, dtype=uint8> <valis.slide_io.VipsSlideReader object at 0x7f606354abd0> False (783, 1024)\n",
      "<Slide, name = 0182>, width=1583, height=1210, channels=1, levels=1, RGB=False, dtype=uint8> <valis.slide_io.VipsSlideReader object at 0x7f6063522a50> False (783, 1024)\n",
      "<Slide, name = 0183>, width=1583, height=1210, channels=1, levels=1, RGB=False, dtype=uint8> <valis.slide_io.VipsSlideReader object at 0x7f606353a750> False (783, 1024)\n",
      "<Slide, name = 0184>, width=1583, height=1210, channels=1, levels=1, RGB=False, dtype=uint8> <valis.slide_io.VipsSlideReader object at 0x7f606353b140> False (783, 1024)\n"
     ]
    },
    {
     "name": "stderr",
     "output_type": "stream",
     "text": [
      "Converting images:   7%|▋         | 185/2624 [00:04<00:56, 43.35image/s]"
     ]
    },
    {
     "name": "stdout",
     "output_type": "stream",
     "text": [
      "<Slide, name = 0185>, width=1583, height=1210, channels=1, levels=1, RGB=False, dtype=uint8> <valis.slide_io.VipsSlideReader object at 0x7f606354a840> False (783, 1024)\n",
      "<Slide, name = 0186>, width=1583, height=1210, channels=1, levels=1, RGB=False, dtype=uint8> <valis.slide_io.VipsSlideReader object at 0x7f6063558050> False (783, 1024)\n",
      "<Slide, name = 0187>, width=1583, height=1210, channels=1, levels=1, RGB=False, dtype=uint8> <valis.slide_io.VipsSlideReader object at 0x7f606355a450> False (783, 1024)\n",
      "<Slide, name = 0188>, width=1583, height=1210, channels=1, levels=1, RGB=False, dtype=uint8> <valis.slide_io.VipsSlideReader object at 0x7f606357a180> False (783, 1024)\n",
      "<Slide, name = 0189>, width=1583, height=1210, channels=1, levels=1, RGB=False, dtype=uint8> <valis.slide_io.VipsSlideReader object at 0x7f6063522000> False (783, 1024)\n"
     ]
    },
    {
     "name": "stderr",
     "output_type": "stream",
     "text": [
      "Converting images:   7%|▋         | 190/2624 [00:04<00:56, 43.05image/s]"
     ]
    },
    {
     "name": "stdout",
     "output_type": "stream",
     "text": [
      "<Slide, name = 0190>, width=1583, height=1210, channels=1, levels=1, RGB=False, dtype=uint8> <valis.slide_io.VipsSlideReader object at 0x7f606357a060> False (783, 1024)\n",
      "<Slide, name = 0191>, width=1583, height=1210, channels=1, levels=1, RGB=False, dtype=uint8> <valis.slide_io.VipsSlideReader object at 0x7f606355a690> False (783, 1024)\n",
      "<Slide, name = 0192>, width=1583, height=1210, channels=1, levels=1, RGB=False, dtype=uint8> <valis.slide_io.VipsSlideReader object at 0x7f606354a2a0> False (783, 1024)\n",
      "<Slide, name = 0193>, width=1583, height=1210, channels=1, levels=1, RGB=False, dtype=uint8> <valis.slide_io.VipsSlideReader object at 0x7f6063549c10> False (783, 1024)\n",
      "<Slide, name = 0194>, width=1583, height=1210, channels=1, levels=1, RGB=False, dtype=uint8> <valis.slide_io.VipsSlideReader object at 0x7f6063559d60> False (783, 1024)\n"
     ]
    },
    {
     "name": "stderr",
     "output_type": "stream",
     "text": [
      "Converting images:   7%|▋         | 195/2624 [00:04<00:55, 43.44image/s]"
     ]
    },
    {
     "name": "stdout",
     "output_type": "stream",
     "text": [
      "<Slide, name = 0195>, width=1583, height=1210, channels=1, levels=1, RGB=False, dtype=uint8> <valis.slide_io.VipsSlideReader object at 0x7f60635498b0> False (783, 1024)\n",
      "<Slide, name = 0196>, width=1583, height=1210, channels=1, levels=1, RGB=False, dtype=uint8> <valis.slide_io.VipsSlideReader object at 0x7f6063559910> False (783, 1024)\n",
      "<Slide, name = 0197>, width=1583, height=1210, channels=1, levels=1, RGB=False, dtype=uint8> <valis.slide_io.VipsSlideReader object at 0x7f6063539a60> False (783, 1024)\n",
      "<Slide, name = 0198>, width=1583, height=1210, channels=1, levels=1, RGB=False, dtype=uint8> <valis.slide_io.VipsSlideReader object at 0x7f60635395b0> False (783, 1024)\n",
      "<Slide, name = 0199>, width=1583, height=1210, channels=1, levels=1, RGB=False, dtype=uint8> <valis.slide_io.VipsSlideReader object at 0x7f6063549610> False (783, 1024)\n"
     ]
    },
    {
     "name": "stderr",
     "output_type": "stream",
     "text": [
      "Converting images:   8%|▊         | 200/2624 [00:04<00:55, 43.65image/s]"
     ]
    },
    {
     "name": "stdout",
     "output_type": "stream",
     "text": [
      "<Slide, name = 0200>, width=1583, height=1210, channels=1, levels=1, RGB=False, dtype=uint8> <valis.slide_io.VipsSlideReader object at 0x7f6063559760> False (783, 1024)\n",
      "<Slide, name = 0201>, width=1583, height=1210, channels=1, levels=1, RGB=False, dtype=uint8> <valis.slide_io.VipsSlideReader object at 0x7f6063521460> False (783, 1024)\n",
      "<Slide, name = 0202>, width=1583, height=1210, channels=1, levels=1, RGB=False, dtype=uint8> <valis.slide_io.VipsSlideReader object at 0x7f6063521130> False (783, 1024)\n",
      "<Slide, name = 0203>, width=1583, height=1210, channels=1, levels=1, RGB=False, dtype=uint8> <valis.slide_io.VipsSlideReader object at 0x7f6063558f80> False (783, 1024)\n",
      "<Slide, name = 0204>, width=1583, height=1210, channels=1, levels=1, RGB=False, dtype=uint8> <valis.slide_io.VipsSlideReader object at 0x7f6063521370> False (783, 1024)\n"
     ]
    },
    {
     "name": "stderr",
     "output_type": "stream",
     "text": [
      "Converting images:   8%|▊         | 205/2624 [00:04<00:55, 43.63image/s]"
     ]
    },
    {
     "name": "stdout",
     "output_type": "stream",
     "text": [
      "<Slide, name = 0205>, width=1583, height=1210, channels=1, levels=1, RGB=False, dtype=uint8> <valis.slide_io.VipsSlideReader object at 0x7f60635790a0> False (783, 1024)\n",
      "<Slide, name = 0206>, width=1583, height=1210, channels=1, levels=1, RGB=False, dtype=uint8> <valis.slide_io.VipsSlideReader object at 0x7f6063521280> False (783, 1024)\n",
      "<Slide, name = 0207>, width=1583, height=1210, channels=1, levels=1, RGB=False, dtype=uint8> <valis.slide_io.VipsSlideReader object at 0x7f6063558e60> False (783, 1024)\n",
      "<Slide, name = 0208>, width=1583, height=1210, channels=1, levels=1, RGB=False, dtype=uint8> <valis.slide_io.VipsSlideReader object at 0x7f6063549010> False (783, 1024)\n",
      "<Slide, name = 0209>, width=1583, height=1210, channels=1, levels=1, RGB=False, dtype=uint8> <valis.slide_io.VipsSlideReader object at 0x7f6063558bf0> False (783, 1024)\n"
     ]
    },
    {
     "name": "stderr",
     "output_type": "stream",
     "text": [
      "Converting images:   8%|▊         | 210/2624 [00:04<00:55, 43.56image/s]"
     ]
    },
    {
     "name": "stdout",
     "output_type": "stream",
     "text": [
      "<Slide, name = 0210>, width=1583, height=1210, channels=1, levels=1, RGB=False, dtype=uint8> <valis.slide_io.VipsSlideReader object at 0x7f6063538a10> False (783, 1024)\n",
      "<Slide, name = 0211>, width=1583, height=1210, channels=1, levels=1, RGB=False, dtype=uint8> <valis.slide_io.VipsSlideReader object at 0x7f6063578b60> False (783, 1024)\n",
      "<Slide, name = 0212>, width=1583, height=1210, channels=1, levels=1, RGB=False, dtype=uint8> <valis.slide_io.VipsSlideReader object at 0x7f60635586b0> False (783, 1024)\n",
      "<Slide, name = 0213>, width=1583, height=1210, channels=1, levels=1, RGB=False, dtype=uint8> <valis.slide_io.VipsSlideReader object at 0x7f60635207d0> False (783, 1024)\n",
      "<Slide, name = 0214>, width=1583, height=1210, channels=1, levels=1, RGB=False, dtype=uint8> <valis.slide_io.VipsSlideReader object at 0x7f60636e84d0> False (783, 1024)\n"
     ]
    },
    {
     "name": "stderr",
     "output_type": "stream",
     "text": [
      "Converting images:   8%|▊         | 215/2624 [00:04<00:55, 43.64image/s]"
     ]
    },
    {
     "name": "stdout",
     "output_type": "stream",
     "text": [
      "<Slide, name = 0215>, width=1583, height=1210, channels=1, levels=1, RGB=False, dtype=uint8> <valis.slide_io.VipsSlideReader object at 0x7f6063538da0> False (783, 1024)\n",
      "<Slide, name = 0216>, width=1583, height=1210, channels=1, levels=1, RGB=False, dtype=uint8> <valis.slide_io.VipsSlideReader object at 0x7f60635589b0> False (783, 1024)\n",
      "<Slide, name = 0217>, width=1583, height=1210, channels=1, levels=1, RGB=False, dtype=uint8> <valis.slide_io.VipsSlideReader object at 0x7f6063520110> False (783, 1024)\n",
      "<Slide, name = 0218>, width=1583, height=1210, channels=1, levels=1, RGB=False, dtype=uint8> <valis.slide_io.VipsSlideReader object at 0x7f6063788140> False (783, 1024)\n",
      "<Slide, name = 0219>, width=1583, height=1210, channels=1, levels=1, RGB=False, dtype=uint8> <valis.slide_io.VipsSlideReader object at 0x7f60635203e0> False (783, 1024)\n"
     ]
    },
    {
     "name": "stderr",
     "output_type": "stream",
     "text": [
      "Converting images:   8%|▊         | 220/2624 [00:04<00:54, 44.11image/s]"
     ]
    },
    {
     "name": "stdout",
     "output_type": "stream",
     "text": [
      "<Slide, name = 0220>, width=1583, height=1210, channels=1, levels=1, RGB=False, dtype=uint8> <valis.slide_io.VipsSlideReader object at 0x7f6063520860> False (783, 1024)\n",
      "<Slide, name = 0221>, width=1583, height=1210, channels=1, levels=1, RGB=False, dtype=uint8> <valis.slide_io.VipsSlideReader object at 0x7f606350f050> False (783, 1024)\n",
      "<Slide, name = 0222>, width=1583, height=1210, channels=1, levels=1, RGB=False, dtype=uint8> <valis.slide_io.VipsSlideReader object at 0x7f606350c350> False (783, 1024)\n",
      "<Slide, name = 0223>, width=1583, height=1210, channels=1, levels=1, RGB=False, dtype=uint8> <valis.slide_io.VipsSlideReader object at 0x7f606350f380> False (783, 1024)\n",
      "<Slide, name = 0224>, width=1583, height=1210, channels=1, levels=1, RGB=False, dtype=uint8> <valis.slide_io.VipsSlideReader object at 0x7f606350f5c0> False (783, 1024)\n"
     ]
    },
    {
     "name": "stderr",
     "output_type": "stream",
     "text": [
      "Converting images:   9%|▊         | 225/2624 [00:04<00:54, 44.18image/s]"
     ]
    },
    {
     "name": "stdout",
     "output_type": "stream",
     "text": [
      "<Slide, name = 0225>, width=1583, height=1210, channels=1, levels=1, RGB=False, dtype=uint8> <valis.slide_io.VipsSlideReader object at 0x7f606350f9e0> False (783, 1024)\n",
      "<Slide, name = 0226>, width=1583, height=1210, channels=1, levels=1, RGB=False, dtype=uint8> <valis.slide_io.VipsSlideReader object at 0x7f606350e720> False (783, 1024)\n",
      "<Slide, name = 0227>, width=1583, height=1210, channels=1, levels=1, RGB=False, dtype=uint8> <valis.slide_io.VipsSlideReader object at 0x7f606350e360> False (783, 1024)\n",
      "<Slide, name = 0228>, width=1583, height=1210, channels=1, levels=1, RGB=False, dtype=uint8> <valis.slide_io.VipsSlideReader object at 0x7f606350dfa0> False (783, 1024)\n",
      "<Slide, name = 0229>, width=1583, height=1210, channels=1, levels=1, RGB=False, dtype=uint8> <valis.slide_io.VipsSlideReader object at 0x7f606350db20> False (783, 1024)\n"
     ]
    },
    {
     "name": "stderr",
     "output_type": "stream",
     "text": [
      "Converting images:   9%|▉         | 230/2624 [00:05<00:54, 44.27image/s]"
     ]
    },
    {
     "name": "stdout",
     "output_type": "stream",
     "text": [
      "<Slide, name = 0230>, width=1583, height=1210, channels=1, levels=1, RGB=False, dtype=uint8> <valis.slide_io.VipsSlideReader object at 0x7f606350d760> False (783, 1024)\n",
      "<Slide, name = 0231>, width=1583, height=1210, channels=1, levels=1, RGB=False, dtype=uint8> <valis.slide_io.VipsSlideReader object at 0x7f606350d3a0> False (783, 1024)\n",
      "<Slide, name = 0232>, width=1583, height=1210, channels=1, levels=1, RGB=False, dtype=uint8> <valis.slide_io.VipsSlideReader object at 0x7f606350c110> False (783, 1024)\n",
      "<Slide, name = 0233>, width=1583, height=1210, channels=1, levels=1, RGB=False, dtype=uint8> <valis.slide_io.VipsSlideReader object at 0x7f606350cb60> False (783, 1024)\n",
      "<Slide, name = 0234>, width=1583, height=1210, channels=1, levels=1, RGB=False, dtype=uint8> <valis.slide_io.VipsSlideReader object at 0x7f606350eba0> False (783, 1024)\n"
     ]
    },
    {
     "name": "stderr",
     "output_type": "stream",
     "text": [
      "Converting images:   9%|▉         | 235/2624 [00:05<00:54, 43.89image/s]"
     ]
    },
    {
     "name": "stdout",
     "output_type": "stream",
     "text": [
      "<Slide, name = 0235>, width=1583, height=1210, channels=1, levels=1, RGB=False, dtype=uint8> <valis.slide_io.VipsSlideReader object at 0x7f606350d6a0> False (783, 1024)\n",
      "<Slide, name = 0236>, width=1583, height=1210, channels=1, levels=1, RGB=False, dtype=uint8> <valis.slide_io.VipsSlideReader object at 0x7f60637c32c0> False (783, 1024)\n",
      "<Slide, name = 0237>, width=1583, height=1210, channels=1, levels=1, RGB=False, dtype=uint8> <valis.slide_io.VipsSlideReader object at 0x7f60635381a0> False (783, 1024)\n",
      "<Slide, name = 0238>, width=1583, height=1210, channels=1, levels=1, RGB=False, dtype=uint8> <valis.slide_io.VipsSlideReader object at 0x7f6063521df0> False (783, 1024)\n",
      "<Slide, name = 0239>, width=1583, height=1210, channels=1, levels=1, RGB=False, dtype=uint8> <valis.slide_io.VipsSlideReader object at 0x7f606353b380> False (783, 1024)\n"
     ]
    },
    {
     "name": "stderr",
     "output_type": "stream",
     "text": [
      "Converting images:   9%|▉         | 240/2624 [00:05<00:54, 44.12image/s]"
     ]
    },
    {
     "name": "stdout",
     "output_type": "stream",
     "text": [
      "<Slide, name = 0240>, width=1583, height=1210, channels=1, levels=1, RGB=False, dtype=uint8> <valis.slide_io.VipsSlideReader object at 0x7f6063558f20> False (783, 1024)\n",
      "<Slide, name = 0241>, width=1583, height=1210, channels=1, levels=1, RGB=False, dtype=uint8> <valis.slide_io.VipsSlideReader object at 0x7f60637c3da0> False (783, 1024)\n",
      "<Slide, name = 0242>, width=1583, height=1210, channels=1, levels=1, RGB=False, dtype=uint8> <valis.slide_io.VipsSlideReader object at 0x7f60637c3bf0> False (783, 1024)\n",
      "<Slide, name = 0243>, width=1583, height=1210, channels=1, levels=1, RGB=False, dtype=uint8> <valis.slide_io.VipsSlideReader object at 0x7f60635780b0> False (783, 1024)\n",
      "<Slide, name = 0244>, width=1583, height=1210, channels=1, levels=1, RGB=False, dtype=uint8> <valis.slide_io.VipsSlideReader object at 0x7f606355bd10> False (783, 1024)\n"
     ]
    },
    {
     "name": "stderr",
     "output_type": "stream",
     "text": [
      "Converting images:   9%|▉         | 245/2624 [00:05<00:53, 44.73image/s]"
     ]
    },
    {
     "name": "stdout",
     "output_type": "stream",
     "text": [
      "<Slide, name = 0245>, width=1583, height=1210, channels=1, levels=1, RGB=False, dtype=uint8> <valis.slide_io.VipsSlideReader object at 0x7f60637c34d0> False (783, 1024)\n",
      "<Slide, name = 0246>, width=1583, height=1210, channels=1, levels=1, RGB=False, dtype=uint8> <valis.slide_io.VipsSlideReader object at 0x7f60637c1970> False (783, 1024)\n",
      "<Slide, name = 0247>, width=1583, height=1210, channels=1, levels=1, RGB=False, dtype=uint8> <valis.slide_io.VipsSlideReader object at 0x7f60637c39e0> False (783, 1024)\n",
      "<Slide, name = 0248>, width=1583, height=1210, channels=1, levels=1, RGB=False, dtype=uint8> <valis.slide_io.VipsSlideReader object at 0x7f60637c3f80> False (783, 1024)\n",
      "<Slide, name = 0249>, width=1583, height=1210, channels=1, levels=1, RGB=False, dtype=uint8> <valis.slide_io.VipsSlideReader object at 0x7f606353b950> False (783, 1024)\n"
     ]
    },
    {
     "name": "stderr",
     "output_type": "stream",
     "text": [
      "Converting images:  10%|▉         | 250/2624 [00:05<00:53, 44.68image/s]"
     ]
    },
    {
     "name": "stdout",
     "output_type": "stream",
     "text": [
      "<Slide, name = 0250>, width=1583, height=1210, channels=1, levels=1, RGB=False, dtype=uint8> <valis.slide_io.VipsSlideReader object at 0x7f60637c3c50> False (783, 1024)\n",
      "<Slide, name = 0251>, width=1583, height=1210, channels=1, levels=1, RGB=False, dtype=uint8> <valis.slide_io.VipsSlideReader object at 0x7f606355ba40> False (783, 1024)\n",
      "<Slide, name = 0252>, width=1583, height=1210, channels=1, levels=1, RGB=False, dtype=uint8> <valis.slide_io.VipsSlideReader object at 0x7f6063523a10> False (783, 1024)\n",
      "<Slide, name = 0253>, width=1583, height=1210, channels=1, levels=1, RGB=False, dtype=uint8> <valis.slide_io.VipsSlideReader object at 0x7f606353ae70> False (783, 1024)\n",
      "<Slide, name = 0254>, width=1583, height=1210, channels=1, levels=1, RGB=False, dtype=uint8> <valis.slide_io.VipsSlideReader object at 0x7f606354af60> False (783, 1024)\n"
     ]
    },
    {
     "name": "stderr",
     "output_type": "stream",
     "text": [
      "Converting images:  10%|▉         | 255/2624 [00:05<00:52, 45.09image/s]"
     ]
    },
    {
     "name": "stdout",
     "output_type": "stream",
     "text": [
      "<Slide, name = 0255>, width=1583, height=1210, channels=1, levels=1, RGB=False, dtype=uint8> <valis.slide_io.VipsSlideReader object at 0x7f60637c0980> False (783, 1024)\n",
      "<Slide, name = 0256>, width=1583, height=1210, channels=1, levels=1, RGB=False, dtype=uint8> <valis.slide_io.VipsSlideReader object at 0x7f6063522930> False (783, 1024)\n",
      "<Slide, name = 0257>, width=1583, height=1210, channels=1, levels=1, RGB=False, dtype=uint8> <valis.slide_io.VipsSlideReader object at 0x7f60637c3ec0> False (783, 1024)\n",
      "<Slide, name = 0258>, width=1583, height=1210, channels=1, levels=1, RGB=False, dtype=uint8> <valis.slide_io.VipsSlideReader object at 0x7f606354b440> False (783, 1024)\n",
      "<Slide, name = 0259>, width=1583, height=1210, channels=1, levels=1, RGB=False, dtype=uint8> <valis.slide_io.VipsSlideReader object at 0x7f606355b230> False (783, 1024)\n"
     ]
    },
    {
     "name": "stderr",
     "output_type": "stream",
     "text": [
      "Converting images:  10%|▉         | 260/2624 [00:05<00:52, 44.88image/s]"
     ]
    },
    {
     "name": "stdout",
     "output_type": "stream",
     "text": [
      "<Slide, name = 0260>, width=1583, height=1210, channels=1, levels=1, RGB=False, dtype=uint8> <valis.slide_io.VipsSlideReader object at 0x7f60637fd400> False (783, 1024)\n",
      "<Slide, name = 0261>, width=1583, height=1210, channels=1, levels=1, RGB=False, dtype=uint8> <valis.slide_io.VipsSlideReader object at 0x7f60637fec00> False (783, 1024)\n",
      "<Slide, name = 0262>, width=1583, height=1210, channels=1, levels=1, RGB=False, dtype=uint8> <valis.slide_io.VipsSlideReader object at 0x7f60637fed20> False (783, 1024)\n",
      "<Slide, name = 0263>, width=1583, height=1210, channels=1, levels=1, RGB=False, dtype=uint8> <valis.slide_io.VipsSlideReader object at 0x7f6063dec470> False (783, 1024)\n",
      "<Slide, name = 0264>, width=1583, height=1210, channels=1, levels=1, RGB=False, dtype=uint8> <valis.slide_io.VipsSlideReader object at 0x7f60637fc8c0> False (783, 1024)\n"
     ]
    },
    {
     "name": "stderr",
     "output_type": "stream",
     "text": [
      "Converting images:  10%|█         | 265/2624 [00:05<00:52, 44.55image/s]"
     ]
    },
    {
     "name": "stdout",
     "output_type": "stream",
     "text": [
      "<Slide, name = 0265>, width=1583, height=1210, channels=1, levels=1, RGB=False, dtype=uint8> <valis.slide_io.VipsSlideReader object at 0x7f60637fdbe0> False (783, 1024)\n",
      "<Slide, name = 0266>, width=1583, height=1210, channels=1, levels=1, RGB=False, dtype=uint8> <valis.slide_io.VipsSlideReader object at 0x7f60637fd790> False (783, 1024)\n",
      "<Slide, name = 0267>, width=1583, height=1210, channels=1, levels=1, RGB=False, dtype=uint8> <valis.slide_io.VipsSlideReader object at 0x7f60637fcdd0> False (783, 1024)\n",
      "<Slide, name = 0268>, width=1583, height=1210, channels=1, levels=1, RGB=False, dtype=uint8> <valis.slide_io.VipsSlideReader object at 0x7f606384f800> False (783, 1024)\n",
      "<Slide, name = 0269>, width=1583, height=1210, channels=1, levels=1, RGB=False, dtype=uint8> <valis.slide_io.VipsSlideReader object at 0x7f60637fd5b0> False (783, 1024)\n"
     ]
    },
    {
     "name": "stderr",
     "output_type": "stream",
     "text": [
      "Converting images:  10%|█         | 270/2624 [00:06<00:52, 44.63image/s]"
     ]
    },
    {
     "name": "stdout",
     "output_type": "stream",
     "text": [
      "<Slide, name = 0270>, width=1583, height=1210, channels=1, levels=1, RGB=False, dtype=uint8> <valis.slide_io.VipsSlideReader object at 0x7f60637fe8a0> False (783, 1024)\n",
      "<Slide, name = 0271>, width=1583, height=1210, channels=1, levels=1, RGB=False, dtype=uint8> <valis.slide_io.VipsSlideReader object at 0x7f60637ff320> False (783, 1024)\n",
      "<Slide, name = 0272>, width=1583, height=1210, channels=1, levels=1, RGB=False, dtype=uint8> <valis.slide_io.VipsSlideReader object at 0x7f60637fea50> False (783, 1024)\n",
      "<Slide, name = 0273>, width=1583, height=1210, channels=1, levels=1, RGB=False, dtype=uint8> <valis.slide_io.VipsSlideReader object at 0x7f60637ff9e0> False (783, 1024)\n",
      "<Slide, name = 0274>, width=1583, height=1210, channels=1, levels=1, RGB=False, dtype=uint8> <valis.slide_io.VipsSlideReader object at 0x7f60637fc1d0> False (783, 1024)\n"
     ]
    },
    {
     "name": "stderr",
     "output_type": "stream",
     "text": [
      "Converting images:  10%|█         | 275/2624 [00:06<00:52, 44.70image/s]"
     ]
    },
    {
     "name": "stdout",
     "output_type": "stream",
     "text": [
      "<Slide, name = 0275>, width=1583, height=1210, channels=1, levels=1, RGB=False, dtype=uint8> <valis.slide_io.VipsSlideReader object at 0x7f60637fe6c0> False (783, 1024)\n",
      "<Slide, name = 0276>, width=1583, height=1210, channels=1, levels=1, RGB=False, dtype=uint8> <valis.slide_io.VipsSlideReader object at 0x7f60637fdf40> False (783, 1024)\n",
      "<Slide, name = 0277>, width=1583, height=1210, channels=1, levels=1, RGB=False, dtype=uint8> <valis.slide_io.VipsSlideReader object at 0x7f60637fe390> False (783, 1024)\n",
      "<Slide, name = 0278>, width=1583, height=1210, channels=1, levels=1, RGB=False, dtype=uint8> <valis.slide_io.VipsSlideReader object at 0x7f60637fdc40> False (783, 1024)\n",
      "<Slide, name = 0279>, width=1583, height=1210, channels=1, levels=1, RGB=False, dtype=uint8> <valis.slide_io.VipsSlideReader object at 0x7f60637fe0f0> False (783, 1024)\n"
     ]
    },
    {
     "name": "stderr",
     "output_type": "stream",
     "text": [
      "Converting images:  11%|█         | 280/2624 [00:06<00:52, 44.65image/s]"
     ]
    },
    {
     "name": "stdout",
     "output_type": "stream",
     "text": [
      "<Slide, name = 0280>, width=1583, height=1210, channels=1, levels=1, RGB=False, dtype=uint8> <valis.slide_io.VipsSlideReader object at 0x7f60637fddc0> False (783, 1024)\n",
      "<Slide, name = 0281>, width=1583, height=1210, channels=1, levels=1, RGB=False, dtype=uint8> <valis.slide_io.VipsSlideReader object at 0x7f60637fd760> False (783, 1024)\n",
      "<Slide, name = 0282>, width=1583, height=1210, channels=1, levels=1, RGB=False, dtype=uint8> <valis.slide_io.VipsSlideReader object at 0x7f60637fdd00> False (783, 1024)\n",
      "<Slide, name = 0283>, width=1583, height=1210, channels=1, levels=1, RGB=False, dtype=uint8> <valis.slide_io.VipsSlideReader object at 0x7f60637fd850> False (783, 1024)\n",
      "<Slide, name = 0284>, width=1583, height=1210, channels=1, levels=1, RGB=False, dtype=uint8> <valis.slide_io.VipsSlideReader object at 0x7f60636bca10> False (783, 1024)\n"
     ]
    },
    {
     "name": "stderr",
     "output_type": "stream",
     "text": [
      "Converting images:  11%|█         | 285/2624 [00:06<00:52, 44.56image/s]"
     ]
    },
    {
     "name": "stdout",
     "output_type": "stream",
     "text": [
      "<Slide, name = 0285>, width=1583, height=1210, channels=1, levels=1, RGB=False, dtype=uint8> <valis.slide_io.VipsSlideReader object at 0x7f606b77cc20> False (783, 1024)\n",
      "<Slide, name = 0286>, width=1583, height=1210, channels=1, levels=1, RGB=False, dtype=uint8> <valis.slide_io.VipsSlideReader object at 0x7f606350d520> False (783, 1024)\n",
      "<Slide, name = 0287>, width=1583, height=1210, channels=1, levels=1, RGB=False, dtype=uint8> <valis.slide_io.VipsSlideReader object at 0x7f60637fd2e0> False (783, 1024)\n",
      "<Slide, name = 0288>, width=1583, height=1210, channels=1, levels=1, RGB=False, dtype=uint8> <valis.slide_io.VipsSlideReader object at 0x7f60637fc9b0> False (783, 1024)\n",
      "<Slide, name = 0289>, width=1583, height=1210, channels=1, levels=1, RGB=False, dtype=uint8> <valis.slide_io.VipsSlideReader object at 0x7f60637d6180> False (783, 1024)\n"
     ]
    },
    {
     "name": "stderr",
     "output_type": "stream",
     "text": [
      "Converting images:  11%|█         | 290/2624 [00:06<00:52, 44.30image/s]"
     ]
    },
    {
     "name": "stdout",
     "output_type": "stream",
     "text": [
      "<Slide, name = 0290>, width=1583, height=1210, channels=1, levels=1, RGB=False, dtype=uint8> <valis.slide_io.VipsSlideReader object at 0x7f606350fe00> False (783, 1024)\n",
      "<Slide, name = 0291>, width=1583, height=1210, channels=1, levels=1, RGB=False, dtype=uint8> <valis.slide_io.VipsSlideReader object at 0x7f60637fc8f0> False (783, 1024)\n",
      "<Slide, name = 0292>, width=1583, height=1210, channels=1, levels=1, RGB=False, dtype=uint8> <valis.slide_io.VipsSlideReader object at 0x7f60637fcb90> False (783, 1024)\n",
      "<Slide, name = 0293>, width=1583, height=1210, channels=1, levels=1, RGB=False, dtype=uint8> <valis.slide_io.VipsSlideReader object at 0x7f6063e1e270> False (783, 1024)\n",
      "<Slide, name = 0294>, width=1583, height=1210, channels=1, levels=1, RGB=False, dtype=uint8> <valis.slide_io.VipsSlideReader object at 0x7f606bde6b70> False (783, 1024)\n"
     ]
    },
    {
     "name": "stderr",
     "output_type": "stream",
     "text": [
      "Converting images:  11%|█         | 295/2624 [00:06<00:52, 44.34image/s]"
     ]
    },
    {
     "name": "stdout",
     "output_type": "stream",
     "text": [
      "<Slide, name = 0295>, width=1583, height=1210, channels=1, levels=1, RGB=False, dtype=uint8> <valis.slide_io.VipsSlideReader object at 0x7f621c37d0a0> False (783, 1024)\n",
      "<Slide, name = 0296>, width=1583, height=1210, channels=1, levels=1, RGB=False, dtype=uint8> <valis.slide_io.VipsSlideReader object at 0x7f606bdd4740> False (783, 1024)\n",
      "<Slide, name = 0297>, width=1583, height=1210, channels=1, levels=1, RGB=False, dtype=uint8> <valis.slide_io.VipsSlideReader object at 0x7f60637bf0e0> False (783, 1024)\n",
      "<Slide, name = 0298>, width=1583, height=1210, channels=1, levels=1, RGB=False, dtype=uint8> <valis.slide_io.VipsSlideReader object at 0x7f60637bee70> False (783, 1024)\n",
      "<Slide, name = 0299>, width=1583, height=1210, channels=1, levels=1, RGB=False, dtype=uint8> <valis.slide_io.VipsSlideReader object at 0x7f60637fd520> False (783, 1024)\n"
     ]
    },
    {
     "name": "stderr",
     "output_type": "stream",
     "text": [
      "Converting images:  11%|█▏        | 300/2624 [00:06<00:52, 44.51image/s]"
     ]
    },
    {
     "name": "stdout",
     "output_type": "stream",
     "text": [
      "<Slide, name = 0300>, width=1583, height=1210, channels=1, levels=1, RGB=False, dtype=uint8> <valis.slide_io.VipsSlideReader object at 0x7f60637bc260> False (783, 1024)\n",
      "<Slide, name = 0301>, width=1583, height=1210, channels=1, levels=1, RGB=False, dtype=uint8> <valis.slide_io.VipsSlideReader object at 0x7f606350c830> False (783, 1024)\n",
      "<Slide, name = 0302>, width=1583, height=1210, channels=1, levels=1, RGB=False, dtype=uint8> <valis.slide_io.VipsSlideReader object at 0x7f60637bcc20> False (783, 1024)\n",
      "<Slide, name = 0303>, width=1583, height=1210, channels=1, levels=1, RGB=False, dtype=uint8> <valis.slide_io.VipsSlideReader object at 0x7f60637bf020> False (783, 1024)\n",
      "<Slide, name = 0304>, width=1583, height=1210, channels=1, levels=1, RGB=False, dtype=uint8> <valis.slide_io.VipsSlideReader object at 0x7f60637bc200> False (783, 1024)\n"
     ]
    },
    {
     "name": "stderr",
     "output_type": "stream",
     "text": [
      "Converting images:  12%|█▏        | 305/2624 [00:06<00:51, 44.63image/s]"
     ]
    },
    {
     "name": "stdout",
     "output_type": "stream",
     "text": [
      "<Slide, name = 0305>, width=1583, height=1210, channels=1, levels=1, RGB=False, dtype=uint8> <valis.slide_io.VipsSlideReader object at 0x7f60637bee10> False (783, 1024)\n",
      "<Slide, name = 0306>, width=1583, height=1210, channels=1, levels=1, RGB=False, dtype=uint8> <valis.slide_io.VipsSlideReader object at 0x7f60637bd040> False (783, 1024)\n",
      "<Slide, name = 0307>, width=1583, height=1210, channels=1, levels=1, RGB=False, dtype=uint8> <valis.slide_io.VipsSlideReader object at 0x7f60637d5580> False (783, 1024)\n",
      "<Slide, name = 0308>, width=1583, height=1210, channels=1, levels=1, RGB=False, dtype=uint8> <valis.slide_io.VipsSlideReader object at 0x7f60637bc0e0> False (783, 1024)\n",
      "<Slide, name = 0309>, width=1583, height=1210, channels=1, levels=1, RGB=False, dtype=uint8> <valis.slide_io.VipsSlideReader object at 0x7f60637bf2f0> False (783, 1024)\n"
     ]
    },
    {
     "name": "stderr",
     "output_type": "stream",
     "text": [
      "Converting images:  12%|█▏        | 310/2624 [00:06<00:51, 44.83image/s]"
     ]
    },
    {
     "name": "stdout",
     "output_type": "stream",
     "text": [
      "<Slide, name = 0310>, width=1583, height=1210, channels=1, levels=1, RGB=False, dtype=uint8> <valis.slide_io.VipsSlideReader object at 0x7f60637bcbc0> False (783, 1024)\n",
      "<Slide, name = 0311>, width=1583, height=1210, channels=1, levels=1, RGB=False, dtype=uint8> <valis.slide_io.VipsSlideReader object at 0x7f60637bcd10> False (783, 1024)\n",
      "<Slide, name = 0312>, width=1583, height=1210, channels=1, levels=1, RGB=False, dtype=uint8> <valis.slide_io.VipsSlideReader object at 0x7f60637bf500> False (783, 1024)\n",
      "<Slide, name = 0313>, width=1583, height=1210, channels=1, levels=1, RGB=False, dtype=uint8> <valis.slide_io.VipsSlideReader object at 0x7f60637beb70> False (783, 1024)\n",
      "<Slide, name = 0314>, width=1583, height=1210, channels=1, levels=1, RGB=False, dtype=uint8> <valis.slide_io.VipsSlideReader object at 0x7f606350eea0> False (783, 1024)\n"
     ]
    },
    {
     "name": "stderr",
     "output_type": "stream",
     "text": [
      "Converting images:  12%|█▏        | 315/2624 [00:07<00:51, 45.27image/s]"
     ]
    },
    {
     "name": "stdout",
     "output_type": "stream",
     "text": [
      "<Slide, name = 0315>, width=1583, height=1210, channels=1, levels=1, RGB=False, dtype=uint8> <valis.slide_io.VipsSlideReader object at 0x7f60637be4b0> False (783, 1024)\n",
      "<Slide, name = 0316>, width=1583, height=1210, channels=1, levels=1, RGB=False, dtype=uint8> <valis.slide_io.VipsSlideReader object at 0x7f60637bf8f0> False (783, 1024)\n",
      "<Slide, name = 0317>, width=1583, height=1210, channels=1, levels=1, RGB=False, dtype=uint8> <valis.slide_io.VipsSlideReader object at 0x7f60637be090> False (783, 1024)\n",
      "<Slide, name = 0318>, width=1583, height=1210, channels=1, levels=1, RGB=False, dtype=uint8> <valis.slide_io.VipsSlideReader object at 0x7f60637bd6a0> False (783, 1024)\n",
      "<Slide, name = 0319>, width=1583, height=1210, channels=1, levels=1, RGB=False, dtype=uint8> <valis.slide_io.VipsSlideReader object at 0x7f60637bf290> False (783, 1024)\n"
     ]
    },
    {
     "name": "stderr",
     "output_type": "stream",
     "text": [
      "Converting images:  12%|█▏        | 320/2624 [00:07<00:50, 45.45image/s]"
     ]
    },
    {
     "name": "stdout",
     "output_type": "stream",
     "text": [
      "<Slide, name = 0320>, width=1583, height=1210, channels=1, levels=1, RGB=False, dtype=uint8> <valis.slide_io.VipsSlideReader object at 0x7f60637bc9b0> False (783, 1024)\n",
      "<Slide, name = 0321>, width=1583, height=1210, channels=1, levels=1, RGB=False, dtype=uint8> <valis.slide_io.VipsSlideReader object at 0x7f60637bdd60> False (783, 1024)\n",
      "<Slide, name = 0322>, width=1583, height=1210, channels=1, levels=1, RGB=False, dtype=uint8> <valis.slide_io.VipsSlideReader object at 0x7f60637bc770> False (783, 1024)\n",
      "<Slide, name = 0323>, width=1583, height=1210, channels=1, levels=1, RGB=False, dtype=uint8> <valis.slide_io.VipsSlideReader object at 0x7f60637bff50> False (783, 1024)\n",
      "<Slide, name = 0324>, width=1583, height=1210, channels=1, levels=1, RGB=False, dtype=uint8> <valis.slide_io.VipsSlideReader object at 0x7f60637bfe60> False (783, 1024)\n"
     ]
    },
    {
     "name": "stderr",
     "output_type": "stream",
     "text": [
      "Converting images:  12%|█▏        | 325/2624 [00:07<00:50, 45.45image/s]"
     ]
    },
    {
     "name": "stdout",
     "output_type": "stream",
     "text": [
      "<Slide, name = 0325>, width=1583, height=1210, channels=1, levels=1, RGB=False, dtype=uint8> <valis.slide_io.VipsSlideReader object at 0x7f60637bff80> False (783, 1024)\n",
      "<Slide, name = 0326>, width=1583, height=1210, channels=1, levels=1, RGB=False, dtype=uint8> <valis.slide_io.VipsSlideReader object at 0x7f60637ff800> False (783, 1024)\n",
      "<Slide, name = 0327>, width=1583, height=1210, channels=1, levels=1, RGB=False, dtype=uint8> <valis.slide_io.VipsSlideReader object at 0x7f60637bf770> False (783, 1024)\n",
      "<Slide, name = 0328>, width=1583, height=1210, channels=1, levels=1, RGB=False, dtype=uint8> <valis.slide_io.VipsSlideReader object at 0x7f60637bf650> False (783, 1024)\n",
      "<Slide, name = 0329>, width=1583, height=1210, channels=1, levels=1, RGB=False, dtype=uint8> <valis.slide_io.VipsSlideReader object at 0x7f606350f5f0> False (783, 1024)\n"
     ]
    },
    {
     "name": "stderr",
     "output_type": "stream",
     "text": [
      "Converting images:  13%|█▎        | 330/2624 [00:07<00:50, 45.58image/s]"
     ]
    },
    {
     "name": "stdout",
     "output_type": "stream",
     "text": [
      "<Slide, name = 0330>, width=1583, height=1210, channels=1, levels=1, RGB=False, dtype=uint8> <valis.slide_io.VipsSlideReader object at 0x7f60637bf440> False (783, 1024)\n",
      "<Slide, name = 0331>, width=1583, height=1210, channels=1, levels=1, RGB=False, dtype=uint8> <valis.slide_io.VipsSlideReader object at 0x7f60637fe9f0> False (783, 1024)\n",
      "<Slide, name = 0332>, width=1583, height=1210, channels=1, levels=1, RGB=False, dtype=uint8> <valis.slide_io.VipsSlideReader object at 0x7f60637beed0> False (783, 1024)\n",
      "<Slide, name = 0333>, width=1583, height=1210, channels=1, levels=1, RGB=False, dtype=uint8> <valis.slide_io.VipsSlideReader object at 0x7f60637be7b0> False (783, 1024)\n",
      "<Slide, name = 0334>, width=1583, height=1210, channels=1, levels=1, RGB=False, dtype=uint8> <valis.slide_io.VipsSlideReader object at 0x7f60637bfa10> False (783, 1024)\n"
     ]
    },
    {
     "name": "stderr",
     "output_type": "stream",
     "text": [
      "Converting images:  13%|█▎        | 335/2624 [00:07<00:50, 45.48image/s]"
     ]
    },
    {
     "name": "stdout",
     "output_type": "stream",
     "text": [
      "<Slide, name = 0335>, width=1583, height=1210, channels=1, levels=1, RGB=False, dtype=uint8> <valis.slide_io.VipsSlideReader object at 0x7f60637bf170> False (783, 1024)\n",
      "<Slide, name = 0336>, width=1583, height=1210, channels=1, levels=1, RGB=False, dtype=uint8> <valis.slide_io.VipsSlideReader object at 0x7f60637bec90> False (783, 1024)\n",
      "<Slide, name = 0337>, width=1583, height=1210, channels=1, levels=1, RGB=False, dtype=uint8> <valis.slide_io.VipsSlideReader object at 0x7f60637bed50> False (783, 1024)\n",
      "<Slide, name = 0338>, width=1583, height=1210, channels=1, levels=1, RGB=False, dtype=uint8> <valis.slide_io.VipsSlideReader object at 0x7f60637be420> False (783, 1024)\n",
      "<Slide, name = 0339>, width=1583, height=1210, channels=1, levels=1, RGB=False, dtype=uint8> <valis.slide_io.VipsSlideReader object at 0x7f60637be300> False (783, 1024)\n"
     ]
    },
    {
     "name": "stderr",
     "output_type": "stream",
     "text": [
      "Converting images:  13%|█▎        | 340/2624 [00:07<00:50, 45.16image/s]"
     ]
    },
    {
     "name": "stdout",
     "output_type": "stream",
     "text": [
      "<Slide, name = 0340>, width=1583, height=1210, channels=1, levels=1, RGB=False, dtype=uint8> <valis.slide_io.VipsSlideReader object at 0x7f60637d60f0> False (783, 1024)\n",
      "<Slide, name = 0341>, width=1583, height=1210, channels=1, levels=1, RGB=False, dtype=uint8> <valis.slide_io.VipsSlideReader object at 0x7f60637bf3b0> False (783, 1024)\n",
      "<Slide, name = 0342>, width=1583, height=1210, channels=1, levels=1, RGB=False, dtype=uint8> <valis.slide_io.VipsSlideReader object at 0x7f60637bde20> False (783, 1024)\n",
      "<Slide, name = 0343>, width=1583, height=1210, channels=1, levels=1, RGB=False, dtype=uint8> <valis.slide_io.VipsSlideReader object at 0x7f60637beb40> False (783, 1024)\n",
      "<Slide, name = 0344>, width=1583, height=1210, channels=1, levels=1, RGB=False, dtype=uint8> <valis.slide_io.VipsSlideReader object at 0x7f60637be2a0> False (783, 1024)\n"
     ]
    },
    {
     "name": "stderr",
     "output_type": "stream",
     "text": [
      "Converting images:  13%|█▎        | 345/2624 [00:07<00:50, 45.39image/s]"
     ]
    },
    {
     "name": "stdout",
     "output_type": "stream",
     "text": [
      "<Slide, name = 0345>, width=1583, height=1210, channels=1, levels=1, RGB=False, dtype=uint8> <valis.slide_io.VipsSlideReader object at 0x7f606350d8e0> False (783, 1024)\n",
      "<Slide, name = 0346>, width=1583, height=1210, channels=1, levels=1, RGB=False, dtype=uint8> <valis.slide_io.VipsSlideReader object at 0x7f60637be6f0> False (783, 1024)\n",
      "<Slide, name = 0347>, width=1583, height=1210, channels=1, levels=1, RGB=False, dtype=uint8> <valis.slide_io.VipsSlideReader object at 0x7f60637bd490> False (783, 1024)\n",
      "<Slide, name = 0348>, width=1583, height=1210, channels=1, levels=1, RGB=False, dtype=uint8> <valis.slide_io.VipsSlideReader object at 0x7f60637be0c0> False (783, 1024)\n",
      "<Slide, name = 0349>, width=1583, height=1210, channels=1, levels=1, RGB=False, dtype=uint8> <valis.slide_io.VipsSlideReader object at 0x7f60637be120> False (783, 1024)\n"
     ]
    },
    {
     "name": "stderr",
     "output_type": "stream",
     "text": [
      "Converting images:  13%|█▎        | 350/2624 [00:07<00:50, 45.34image/s]"
     ]
    },
    {
     "name": "stdout",
     "output_type": "stream",
     "text": [
      "<Slide, name = 0350>, width=1583, height=1210, channels=1, levels=1, RGB=False, dtype=uint8> <valis.slide_io.VipsSlideReader object at 0x7f60637fdac0> False (783, 1024)\n",
      "<Slide, name = 0351>, width=1583, height=1210, channels=1, levels=1, RGB=False, dtype=uint8> <valis.slide_io.VipsSlideReader object at 0x7f60637bd5b0> False (783, 1024)\n",
      "<Slide, name = 0352>, width=1583, height=1210, channels=1, levels=1, RGB=False, dtype=uint8> <valis.slide_io.VipsSlideReader object at 0x7f60637fce90> False (783, 1024)\n",
      "<Slide, name = 0353>, width=1583, height=1210, channels=1, levels=1, RGB=False, dtype=uint8> <valis.slide_io.VipsSlideReader object at 0x7f60637bc4d0> False (783, 1024)\n",
      "<Slide, name = 0354>, width=1583, height=1210, channels=1, levels=1, RGB=False, dtype=uint8> <valis.slide_io.VipsSlideReader object at 0x7f60637bd2e0> False (783, 1024)\n"
     ]
    },
    {
     "name": "stderr",
     "output_type": "stream",
     "text": [
      "Converting images:  14%|█▎        | 355/2624 [00:07<00:50, 45.27image/s]"
     ]
    },
    {
     "name": "stdout",
     "output_type": "stream",
     "text": [
      "<Slide, name = 0355>, width=1583, height=1210, channels=1, levels=1, RGB=False, dtype=uint8> <valis.slide_io.VipsSlideReader object at 0x7f60637bd640> False (783, 1024)\n",
      "<Slide, name = 0356>, width=1583, height=1210, channels=1, levels=1, RGB=False, dtype=uint8> <valis.slide_io.VipsSlideReader object at 0x7f60637bcd70> False (783, 1024)\n",
      "<Slide, name = 0357>, width=1583, height=1210, channels=1, levels=1, RGB=False, dtype=uint8> <valis.slide_io.VipsSlideReader object at 0x7f60637bd160> False (783, 1024)\n",
      "<Slide, name = 0358>, width=1583, height=1210, channels=1, levels=1, RGB=False, dtype=uint8> <valis.slide_io.VipsSlideReader object at 0x7f60637bcec0> False (783, 1024)\n",
      "<Slide, name = 0359>, width=1583, height=1210, channels=1, levels=1, RGB=False, dtype=uint8> <valis.slide_io.VipsSlideReader object at 0x7f60636bc2c0> False (783, 1024)\n"
     ]
    },
    {
     "name": "stderr",
     "output_type": "stream",
     "text": [
      "Converting images:  14%|█▎        | 360/2624 [00:08<00:49, 45.41image/s]"
     ]
    },
    {
     "name": "stdout",
     "output_type": "stream",
     "text": [
      "<Slide, name = 0360>, width=1583, height=1210, channels=1, levels=1, RGB=False, dtype=uint8> <valis.slide_io.VipsSlideReader object at 0x7f60637fc5f0> False (783, 1024)\n",
      "<Slide, name = 0361>, width=1583, height=1210, channels=1, levels=1, RGB=False, dtype=uint8> <valis.slide_io.VipsSlideReader object at 0x7f60637fc7d0> False (783, 1024)\n",
      "<Slide, name = 0362>, width=1583, height=1210, channels=1, levels=1, RGB=False, dtype=uint8> <valis.slide_io.VipsSlideReader object at 0x7f60637bc710> False (783, 1024)\n",
      "<Slide, name = 0363>, width=1583, height=1210, channels=1, levels=1, RGB=False, dtype=uint8> <valis.slide_io.VipsSlideReader object at 0x7f60637bc530> False (783, 1024)\n",
      "<Slide, name = 0364>, width=1583, height=1210, channels=1, levels=1, RGB=False, dtype=uint8> <valis.slide_io.VipsSlideReader object at 0x7f6063eb03e0> False (783, 1024)\n"
     ]
    },
    {
     "name": "stderr",
     "output_type": "stream",
     "text": [
      "Converting images:  14%|█▍        | 365/2624 [00:08<00:50, 44.90image/s]"
     ]
    },
    {
     "name": "stdout",
     "output_type": "stream",
     "text": [
      "<Slide, name = 0365>, width=1583, height=1210, channels=1, levels=1, RGB=False, dtype=uint8> <valis.slide_io.VipsSlideReader object at 0x7f6063830860> False (783, 1024)\n",
      "<Slide, name = 0366>, width=1583, height=1210, channels=1, levels=1, RGB=False, dtype=uint8> <valis.slide_io.VipsSlideReader object at 0x7f60637bd790> False (783, 1024)\n",
      "<Slide, name = 0367>, width=1583, height=1210, channels=1, levels=1, RGB=False, dtype=uint8> <valis.slide_io.VipsSlideReader object at 0x7f60637bc440> False (783, 1024)\n",
      "<Slide, name = 0368>, width=1583, height=1210, channels=1, levels=1, RGB=False, dtype=uint8> <valis.slide_io.VipsSlideReader object at 0x7f60635227e0> False (783, 1024)\n",
      "<Slide, name = 0369>, width=1583, height=1210, channels=1, levels=1, RGB=False, dtype=uint8> <valis.slide_io.VipsSlideReader object at 0x7f606354a900> False (783, 1024)\n"
     ]
    },
    {
     "name": "stderr",
     "output_type": "stream",
     "text": [
      "Converting images:  14%|█▍        | 370/2624 [00:08<00:50, 44.72image/s]"
     ]
    },
    {
     "name": "stdout",
     "output_type": "stream",
     "text": [
      "<Slide, name = 0370>, width=1583, height=1210, channels=1, levels=1, RGB=False, dtype=uint8> <valis.slide_io.VipsSlideReader object at 0x7f606360a240> False (783, 1024)\n",
      "<Slide, name = 0371>, width=1583, height=1210, channels=1, levels=1, RGB=False, dtype=uint8> <valis.slide_io.VipsSlideReader object at 0x7f6063538860> False (783, 1024)\n",
      "<Slide, name = 0372>, width=1583, height=1210, channels=1, levels=1, RGB=False, dtype=uint8> <valis.slide_io.VipsSlideReader object at 0x7f6063578d40> False (783, 1024)\n",
      "<Slide, name = 0373>, width=1583, height=1210, channels=1, levels=1, RGB=False, dtype=uint8> <valis.slide_io.VipsSlideReader object at 0x7f60637c00b0> False (783, 1024)\n",
      "<Slide, name = 0374>, width=1583, height=1210, channels=1, levels=1, RGB=False, dtype=uint8> <valis.slide_io.VipsSlideReader object at 0x7f606357b920> False (783, 1024)\n"
     ]
    },
    {
     "name": "stderr",
     "output_type": "stream",
     "text": [
      "Converting images:  14%|█▍        | 375/2624 [00:08<00:50, 44.98image/s]"
     ]
    },
    {
     "name": "stdout",
     "output_type": "stream",
     "text": [
      "<Slide, name = 0375>, width=1583, height=1210, channels=1, levels=1, RGB=False, dtype=uint8> <valis.slide_io.VipsSlideReader object at 0x7f6063579070> False (783, 1024)\n",
      "<Slide, name = 0376>, width=1583, height=1210, channels=1, levels=1, RGB=False, dtype=uint8> <valis.slide_io.VipsSlideReader object at 0x7f60635206b0> False (783, 1024)\n",
      "<Slide, name = 0377>, width=1583, height=1210, channels=1, levels=1, RGB=False, dtype=uint8> <valis.slide_io.VipsSlideReader object at 0x7f6063579e20> False (783, 1024)\n",
      "<Slide, name = 0378>, width=1583, height=1210, channels=1, levels=1, RGB=False, dtype=uint8> <valis.slide_io.VipsSlideReader object at 0x7f6063521580> False (783, 1024)\n",
      "<Slide, name = 0379>, width=1583, height=1210, channels=1, levels=1, RGB=False, dtype=uint8> <valis.slide_io.VipsSlideReader object at 0x7f606357a360> False (783, 1024)\n"
     ]
    },
    {
     "name": "stderr",
     "output_type": "stream",
     "text": [
      "Converting images:  14%|█▍        | 380/2624 [00:08<00:49, 44.90image/s]"
     ]
    },
    {
     "name": "stdout",
     "output_type": "stream",
     "text": [
      "<Slide, name = 0380>, width=1583, height=1210, channels=1, levels=1, RGB=False, dtype=uint8> <valis.slide_io.VipsSlideReader object at 0x7f6063558260> False (783, 1024)\n",
      "<Slide, name = 0381>, width=1583, height=1210, channels=1, levels=1, RGB=False, dtype=uint8> <valis.slide_io.VipsSlideReader object at 0x7f60636091c0> False (783, 1024)\n",
      "<Slide, name = 0382>, width=1583, height=1210, channels=1, levels=1, RGB=False, dtype=uint8> <valis.slide_io.VipsSlideReader object at 0x7f60636089e0> False (783, 1024)\n",
      "<Slide, name = 0383>, width=1583, height=1210, channels=1, levels=1, RGB=False, dtype=uint8> <valis.slide_io.VipsSlideReader object at 0x7f6063608a40> False (783, 1024)\n",
      "<Slide, name = 0384>, width=1583, height=1210, channels=1, levels=1, RGB=False, dtype=uint8> <valis.slide_io.VipsSlideReader object at 0x7f606353bf50> False (783, 1024)\n"
     ]
    },
    {
     "name": "stderr",
     "output_type": "stream",
     "text": [
      "Converting images:  15%|█▍        | 385/2624 [00:08<00:49, 45.30image/s]"
     ]
    },
    {
     "name": "stdout",
     "output_type": "stream",
     "text": [
      "<Slide, name = 0385>, width=1583, height=1210, channels=1, levels=1, RGB=False, dtype=uint8> <valis.slide_io.VipsSlideReader object at 0x7f60635213d0> False (783, 1024)\n",
      "<Slide, name = 0386>, width=1583, height=1210, channels=1, levels=1, RGB=False, dtype=uint8> <valis.slide_io.VipsSlideReader object at 0x7f6063522de0> False (783, 1024)\n",
      "<Slide, name = 0387>, width=1583, height=1210, channels=1, levels=1, RGB=False, dtype=uint8> <valis.slide_io.VipsSlideReader object at 0x7f606355b5c0> False (783, 1024)\n",
      "<Slide, name = 0388>, width=1583, height=1210, channels=1, levels=1, RGB=False, dtype=uint8> <valis.slide_io.VipsSlideReader object at 0x7f60636094c0> False (783, 1024)\n",
      "<Slide, name = 0389>, width=1583, height=1210, channels=1, levels=1, RGB=False, dtype=uint8> <valis.slide_io.VipsSlideReader object at 0x7f6063609310> False (783, 1024)\n"
     ]
    },
    {
     "name": "stderr",
     "output_type": "stream",
     "text": [
      "Converting images:  15%|█▍        | 390/2624 [00:08<00:48, 45.66image/s]"
     ]
    },
    {
     "name": "stdout",
     "output_type": "stream",
     "text": [
      "<Slide, name = 0390>, width=1583, height=1210, channels=1, levels=1, RGB=False, dtype=uint8> <valis.slide_io.VipsSlideReader object at 0x7f60637c3a10> False (783, 1024)\n",
      "<Slide, name = 0391>, width=1583, height=1210, channels=1, levels=1, RGB=False, dtype=uint8> <valis.slide_io.VipsSlideReader object at 0x7f6063608ce0> False (783, 1024)\n",
      "<Slide, name = 0392>, width=1583, height=1210, channels=1, levels=1, RGB=False, dtype=uint8> <valis.slide_io.VipsSlideReader object at 0x7f606360aab0> False (783, 1024)\n",
      "<Slide, name = 0393>, width=1583, height=1210, channels=1, levels=1, RGB=False, dtype=uint8> <valis.slide_io.VipsSlideReader object at 0x7f606353b1a0> False (783, 1024)\n",
      "<Slide, name = 0394>, width=1583, height=1210, channels=1, levels=1, RGB=False, dtype=uint8> <valis.slide_io.VipsSlideReader object at 0x7f606353a1b0> False (783, 1024)\n"
     ]
    },
    {
     "name": "stderr",
     "output_type": "stream",
     "text": [
      "Converting images:  15%|█▌        | 395/2624 [00:08<00:50, 43.96image/s]"
     ]
    },
    {
     "name": "stdout",
     "output_type": "stream",
     "text": [
      "<Slide, name = 0395>, width=1583, height=1210, channels=1, levels=1, RGB=False, dtype=uint8> <valis.slide_io.VipsSlideReader object at 0x7f6063522150> False (783, 1024)\n",
      "<Slide, name = 0396>, width=1583, height=1210, channels=1, levels=1, RGB=False, dtype=uint8> <valis.slide_io.VipsSlideReader object at 0x7f60635213a0> False (783, 1024)\n",
      "<Slide, name = 0397>, width=1583, height=1210, channels=1, levels=1, RGB=False, dtype=uint8> <valis.slide_io.VipsSlideReader object at 0x7f606360b290> False (783, 1024)\n",
      "<Slide, name = 0398>, width=1583, height=1210, channels=1, levels=1, RGB=False, dtype=uint8> <valis.slide_io.VipsSlideReader object at 0x7f6063608710> False (783, 1024)\n",
      "<Slide, name = 0399>, width=1583, height=1210, channels=1, levels=1, RGB=False, dtype=uint8> <valis.slide_io.VipsSlideReader object at 0x7f6063522ea0> False (783, 1024)\n"
     ]
    },
    {
     "name": "stderr",
     "output_type": "stream",
     "text": [
      "Converting images:  15%|█▌        | 400/2624 [00:08<00:53, 41.79image/s]"
     ]
    },
    {
     "name": "stdout",
     "output_type": "stream",
     "text": [
      "<Slide, name = 0400>, width=1583, height=1210, channels=1, levels=1, RGB=False, dtype=uint8> <valis.slide_io.VipsSlideReader object at 0x7f6063558890> False (783, 1024)\n",
      "<Slide, name = 0401>, width=1583, height=1210, channels=1, levels=1, RGB=False, dtype=uint8> <valis.slide_io.VipsSlideReader object at 0x7f6063558680> False (783, 1024)\n",
      "<Slide, name = 0402>, width=1583, height=1210, channels=1, levels=1, RGB=False, dtype=uint8> <valis.slide_io.VipsSlideReader object at 0x7f6063608fe0> False (783, 1024)\n",
      "<Slide, name = 0403>, width=1583, height=1210, channels=1, levels=1, RGB=False, dtype=uint8> <valis.slide_io.VipsSlideReader object at 0x7f606360b6e0> False (783, 1024)\n",
      "<Slide, name = 0404>, width=1583, height=1210, channels=1, levels=1, RGB=False, dtype=uint8> <valis.slide_io.VipsSlideReader object at 0x7f6063608560> False (783, 1024)\n"
     ]
    },
    {
     "name": "stderr",
     "output_type": "stream",
     "text": [
      "Converting images:  15%|█▌        | 405/2624 [00:09<00:54, 40.81image/s]"
     ]
    },
    {
     "name": "stdout",
     "output_type": "stream",
     "text": [
      "<Slide, name = 0405>, width=1583, height=1210, channels=1, levels=1, RGB=False, dtype=uint8> <valis.slide_io.VipsSlideReader object at 0x7f6063579880> False (783, 1024)\n",
      "<Slide, name = 0406>, width=1583, height=1210, channels=1, levels=1, RGB=False, dtype=uint8> <valis.slide_io.VipsSlideReader object at 0x7f60637c3b60> False (783, 1024)\n",
      "<Slide, name = 0407>, width=1583, height=1210, channels=1, levels=1, RGB=False, dtype=uint8> <valis.slide_io.VipsSlideReader object at 0x7f60635398e0> False (783, 1024)\n",
      "<Slide, name = 0408>, width=1583, height=1210, channels=1, levels=1, RGB=False, dtype=uint8> <valis.slide_io.VipsSlideReader object at 0x7f606354a0f0> False (783, 1024)\n",
      "<Slide, name = 0409>, width=1583, height=1210, channels=1, levels=1, RGB=False, dtype=uint8> <valis.slide_io.VipsSlideReader object at 0x7f606360be60> False (783, 1024)\n"
     ]
    },
    {
     "name": "stderr",
     "output_type": "stream",
     "text": [
      "Converting images:  16%|█▌        | 410/2624 [00:09<00:53, 41.07image/s]"
     ]
    },
    {
     "name": "stdout",
     "output_type": "stream",
     "text": [
      "<Slide, name = 0410>, width=1583, height=1210, channels=1, levels=1, RGB=False, dtype=uint8> <valis.slide_io.VipsSlideReader object at 0x7f6063549e80> False (783, 1024)\n",
      "<Slide, name = 0411>, width=1583, height=1210, channels=1, levels=1, RGB=False, dtype=uint8> <valis.slide_io.VipsSlideReader object at 0x7f60635210a0> False (783, 1024)\n",
      "<Slide, name = 0412>, width=1583, height=1210, channels=1, levels=1, RGB=False, dtype=uint8> <valis.slide_io.VipsSlideReader object at 0x7f606360ae10> False (783, 1024)\n",
      "<Slide, name = 0413>, width=1583, height=1210, channels=1, levels=1, RGB=False, dtype=uint8> <valis.slide_io.VipsSlideReader object at 0x7f6063538230> False (783, 1024)\n",
      "<Slide, name = 0414>, width=1583, height=1210, channels=1, levels=1, RGB=False, dtype=uint8> <valis.slide_io.VipsSlideReader object at 0x7f6063559ee0> False (783, 1024)\n"
     ]
    },
    {
     "name": "stderr",
     "output_type": "stream",
     "text": [
      "Converting images:  16%|█▌        | 415/2624 [00:09<00:53, 41.14image/s]"
     ]
    },
    {
     "name": "stdout",
     "output_type": "stream",
     "text": [
      "<Slide, name = 0415>, width=1583, height=1210, channels=1, levels=1, RGB=False, dtype=uint8> <valis.slide_io.VipsSlideReader object at 0x7f606378bf80> False (783, 1024)\n",
      "<Slide, name = 0416>, width=1583, height=1210, channels=1, levels=1, RGB=False, dtype=uint8> <valis.slide_io.VipsSlideReader object at 0x7f6063609a60> False (783, 1024)\n",
      "<Slide, name = 0417>, width=1583, height=1210, channels=1, levels=1, RGB=False, dtype=uint8> <valis.slide_io.VipsSlideReader object at 0x7f60638fca70> False (783, 1024)\n",
      "<Slide, name = 0418>, width=1583, height=1210, channels=1, levels=1, RGB=False, dtype=uint8> <valis.slide_io.VipsSlideReader object at 0x7f606355ae40> False (783, 1024)\n",
      "<Slide, name = 0419>, width=1583, height=1210, channels=1, levels=1, RGB=False, dtype=uint8> <valis.slide_io.VipsSlideReader object at 0x7f6063608e00> False (783, 1024)\n"
     ]
    },
    {
     "name": "stderr",
     "output_type": "stream",
     "text": [
      "Converting images:  16%|█▌        | 420/2624 [00:09<00:54, 40.80image/s]"
     ]
    },
    {
     "name": "stdout",
     "output_type": "stream",
     "text": [
      "<Slide, name = 0420>, width=1583, height=1210, channels=1, levels=1, RGB=False, dtype=uint8> <valis.slide_io.VipsSlideReader object at 0x7f606357be30> False (783, 1024)\n",
      "<Slide, name = 0421>, width=1583, height=1210, channels=1, levels=1, RGB=False, dtype=uint8> <valis.slide_io.VipsSlideReader object at 0x7f60637bce90> False (783, 1024)\n",
      "<Slide, name = 0422>, width=1583, height=1210, channels=1, levels=1, RGB=False, dtype=uint8> <valis.slide_io.VipsSlideReader object at 0x7f60637ee0c0> False (783, 1024)\n",
      "<Slide, name = 0423>, width=1583, height=1210, channels=1, levels=1, RGB=False, dtype=uint8> <valis.slide_io.VipsSlideReader object at 0x7f60637efb00> False (783, 1024)\n",
      "<Slide, name = 0424>, width=1583, height=1210, channels=1, levels=1, RGB=False, dtype=uint8> <valis.slide_io.VipsSlideReader object at 0x7f60637efa70> False (783, 1024)\n"
     ]
    },
    {
     "name": "stderr",
     "output_type": "stream",
     "text": [
      "Converting images:  16%|█▌        | 425/2624 [00:09<00:53, 40.79image/s]"
     ]
    },
    {
     "name": "stdout",
     "output_type": "stream",
     "text": [
      "<Slide, name = 0425>, width=1583, height=1210, channels=1, levels=1, RGB=False, dtype=uint8> <valis.slide_io.VipsSlideReader object at 0x7f60637ed700> False (783, 1024)\n",
      "<Slide, name = 0426>, width=1583, height=1210, channels=1, levels=1, RGB=False, dtype=uint8> <valis.slide_io.VipsSlideReader object at 0x7f60637ee420> False (783, 1024)\n",
      "<Slide, name = 0427>, width=1583, height=1210, channels=1, levels=1, RGB=False, dtype=uint8> <valis.slide_io.VipsSlideReader object at 0x7f60637ecaa0> False (783, 1024)\n",
      "<Slide, name = 0428>, width=1583, height=1210, channels=1, levels=1, RGB=False, dtype=uint8> <valis.slide_io.VipsSlideReader object at 0x7f60637edfd0> False (783, 1024)\n",
      "<Slide, name = 0429>, width=1583, height=1210, channels=1, levels=1, RGB=False, dtype=uint8> <valis.slide_io.VipsSlideReader object at 0x7f60637ee5a0> False (783, 1024)\n"
     ]
    },
    {
     "name": "stderr",
     "output_type": "stream",
     "text": [
      "Converting images:  16%|█▋        | 430/2624 [00:09<00:53, 40.98image/s]"
     ]
    },
    {
     "name": "stdout",
     "output_type": "stream",
     "text": [
      "<Slide, name = 0430>, width=1583, height=1210, channels=1, levels=1, RGB=False, dtype=uint8> <valis.slide_io.VipsSlideReader object at 0x7f60637be030> False (783, 1024)\n",
      "<Slide, name = 0431>, width=1583, height=1210, channels=1, levels=1, RGB=False, dtype=uint8> <valis.slide_io.VipsSlideReader object at 0x7f60637be270> False (783, 1024)\n",
      "<Slide, name = 0432>, width=1583, height=1210, channels=1, levels=1, RGB=False, dtype=uint8> <valis.slide_io.VipsSlideReader object at 0x7f60637ed2b0> False (783, 1024)\n",
      "<Slide, name = 0433>, width=1583, height=1210, channels=1, levels=1, RGB=False, dtype=uint8> <valis.slide_io.VipsSlideReader object at 0x7f60637ec800> False (783, 1024)\n",
      "<Slide, name = 0434>, width=1583, height=1210, channels=1, levels=1, RGB=False, dtype=uint8> <valis.slide_io.VipsSlideReader object at 0x7f60637edbb0> False (783, 1024)\n"
     ]
    },
    {
     "name": "stderr",
     "output_type": "stream",
     "text": [
      "Converting images:  17%|█▋        | 435/2624 [00:09<00:53, 40.89image/s]"
     ]
    },
    {
     "name": "stdout",
     "output_type": "stream",
     "text": [
      "<Slide, name = 0435>, width=1583, height=1210, channels=1, levels=1, RGB=False, dtype=uint8> <valis.slide_io.VipsSlideReader object at 0x7f60637ee7b0> False (783, 1024)\n",
      "<Slide, name = 0436>, width=1583, height=1210, channels=1, levels=1, RGB=False, dtype=uint8> <valis.slide_io.VipsSlideReader object at 0x7f60637ed070> False (783, 1024)\n",
      "<Slide, name = 0437>, width=1583, height=1210, channels=1, levels=1, RGB=False, dtype=uint8> <valis.slide_io.VipsSlideReader object at 0x7f60637bd1f0> False (783, 1024)\n",
      "<Slide, name = 0438>, width=1583, height=1210, channels=1, levels=1, RGB=False, dtype=uint8> <valis.slide_io.VipsSlideReader object at 0x7f60637ed730> False (783, 1024)\n",
      "<Slide, name = 0439>, width=1583, height=1210, channels=1, levels=1, RGB=False, dtype=uint8> <valis.slide_io.VipsSlideReader object at 0x7f60637ed4f0> False (783, 1024)\n"
     ]
    },
    {
     "name": "stderr",
     "output_type": "stream",
     "text": [
      "Converting images:  17%|█▋        | 440/2624 [00:09<00:53, 40.89image/s]"
     ]
    },
    {
     "name": "stdout",
     "output_type": "stream",
     "text": [
      "<Slide, name = 0440>, width=1583, height=1210, channels=1, levels=1, RGB=False, dtype=uint8> <valis.slide_io.VipsSlideReader object at 0x7f60637ed5b0> False (783, 1024)\n",
      "<Slide, name = 0441>, width=1583, height=1210, channels=1, levels=1, RGB=False, dtype=uint8> <valis.slide_io.VipsSlideReader object at 0x7f60637fe810> False (783, 1024)\n",
      "<Slide, name = 0442>, width=1583, height=1210, channels=1, levels=1, RGB=False, dtype=uint8> <valis.slide_io.VipsSlideReader object at 0x7f60637efbf0> False (783, 1024)\n",
      "<Slide, name = 0443>, width=1583, height=1210, channels=1, levels=1, RGB=False, dtype=uint8> <valis.slide_io.VipsSlideReader object at 0x7f60637ef5c0> False (783, 1024)\n",
      "<Slide, name = 0444>, width=1583, height=1210, channels=1, levels=1, RGB=False, dtype=uint8> <valis.slide_io.VipsSlideReader object at 0x7f60637efd70> False (783, 1024)\n"
     ]
    },
    {
     "name": "stderr",
     "output_type": "stream",
     "text": [
      "Converting images:  17%|█▋        | 445/2624 [00:10<00:52, 41.82image/s]"
     ]
    },
    {
     "name": "stdout",
     "output_type": "stream",
     "text": [
      "<Slide, name = 0445>, width=1583, height=1210, channels=1, levels=1, RGB=False, dtype=uint8> <valis.slide_io.VipsSlideReader object at 0x7f60637ef4d0> False (783, 1024)\n",
      "<Slide, name = 0446>, width=1583, height=1210, channels=1, levels=1, RGB=False, dtype=uint8> <valis.slide_io.VipsSlideReader object at 0x7f60637be9f0> False (783, 1024)\n",
      "<Slide, name = 0447>, width=1583, height=1210, channels=1, levels=1, RGB=False, dtype=uint8> <valis.slide_io.VipsSlideReader object at 0x7f60637bf590> False (783, 1024)\n",
      "<Slide, name = 0448>, width=1583, height=1210, channels=1, levels=1, RGB=False, dtype=uint8> <valis.slide_io.VipsSlideReader object at 0x7f60637bed20> False (783, 1024)\n",
      "<Slide, name = 0449>, width=1583, height=1210, channels=1, levels=1, RGB=False, dtype=uint8> <valis.slide_io.VipsSlideReader object at 0x7f60637eeae0> False (783, 1024)\n"
     ]
    },
    {
     "name": "stderr",
     "output_type": "stream",
     "text": [
      "Converting images:  17%|█▋        | 450/2624 [00:10<00:51, 42.39image/s]"
     ]
    },
    {
     "name": "stdout",
     "output_type": "stream",
     "text": [
      "<Slide, name = 0450>, width=1583, height=1210, channels=1, levels=1, RGB=False, dtype=uint8> <valis.slide_io.VipsSlideReader object at 0x7f60637d5640> False (783, 1024)\n",
      "<Slide, name = 0451>, width=1583, height=1210, channels=1, levels=1, RGB=False, dtype=uint8> <valis.slide_io.VipsSlideReader object at 0x7f60637ef1d0> False (783, 1024)\n",
      "<Slide, name = 0452>, width=1583, height=1210, channels=1, levels=1, RGB=False, dtype=uint8> <valis.slide_io.VipsSlideReader object at 0x7f60637eedb0> False (783, 1024)\n",
      "<Slide, name = 0453>, width=1583, height=1210, channels=1, levels=1, RGB=False, dtype=uint8> <valis.slide_io.VipsSlideReader object at 0x7f60637eeea0> False (783, 1024)\n",
      "<Slide, name = 0454>, width=1583, height=1210, channels=1, levels=1, RGB=False, dtype=uint8> <valis.slide_io.VipsSlideReader object at 0x7f60637ee120> False (783, 1024)\n"
     ]
    },
    {
     "name": "stderr",
     "output_type": "stream",
     "text": [
      "Converting images:  17%|█▋        | 455/2624 [00:10<00:50, 42.77image/s]"
     ]
    },
    {
     "name": "stdout",
     "output_type": "stream",
     "text": [
      "<Slide, name = 0455>, width=1583, height=1210, channels=1, levels=1, RGB=False, dtype=uint8> <valis.slide_io.VipsSlideReader object at 0x7f60637ee210> False (783, 1024)\n",
      "<Slide, name = 0456>, width=1583, height=1210, channels=1, levels=1, RGB=False, dtype=uint8> <valis.slide_io.VipsSlideReader object at 0x7f60637ee000> False (783, 1024)\n",
      "<Slide, name = 0457>, width=1583, height=1210, channels=1, levels=1, RGB=False, dtype=uint8> <valis.slide_io.VipsSlideReader object at 0x7f60637bda00> False (783, 1024)\n",
      "<Slide, name = 0458>, width=1583, height=1210, channels=1, levels=1, RGB=False, dtype=uint8> <valis.slide_io.VipsSlideReader object at 0x7f60637ee3c0> False (783, 1024)\n",
      "<Slide, name = 0459>, width=1583, height=1210, channels=1, levels=1, RGB=False, dtype=uint8> <valis.slide_io.VipsSlideReader object at 0x7f60637ed0a0> False (783, 1024)\n"
     ]
    },
    {
     "name": "stderr",
     "output_type": "stream",
     "text": [
      "Converting images:  18%|█▊        | 460/2624 [00:10<00:49, 43.32image/s]"
     ]
    },
    {
     "name": "stdout",
     "output_type": "stream",
     "text": [
      "<Slide, name = 0460>, width=1583, height=1210, channels=1, levels=1, RGB=False, dtype=uint8> <valis.slide_io.VipsSlideReader object at 0x7f60637ee2d0> False (783, 1024)\n",
      "<Slide, name = 0461>, width=1583, height=1210, channels=1, levels=1, RGB=False, dtype=uint8> <valis.slide_io.VipsSlideReader object at 0x7f60637bd580> False (783, 1024)\n",
      "<Slide, name = 0462>, width=1583, height=1210, channels=1, levels=1, RGB=False, dtype=uint8> <valis.slide_io.VipsSlideReader object at 0x7f60637ee090> False (783, 1024)\n",
      "<Slide, name = 0463>, width=1583, height=1210, channels=1, levels=1, RGB=False, dtype=uint8> <valis.slide_io.VipsSlideReader object at 0x7f60637bcdd0> False (783, 1024)\n",
      "<Slide, name = 0464>, width=1583, height=1210, channels=1, levels=1, RGB=False, dtype=uint8> <valis.slide_io.VipsSlideReader object at 0x7f60637c0fb0> False (783, 1024)\n"
     ]
    },
    {
     "name": "stderr",
     "output_type": "stream",
     "text": [
      "Converting images:  18%|█▊        | 465/2624 [00:10<00:49, 43.78image/s]"
     ]
    },
    {
     "name": "stdout",
     "output_type": "stream",
     "text": [
      "<Slide, name = 0465>, width=1583, height=1210, channels=1, levels=1, RGB=False, dtype=uint8> <valis.slide_io.VipsSlideReader object at 0x7f60637bd8e0> False (783, 1024)\n",
      "<Slide, name = 0466>, width=1583, height=1210, channels=1, levels=1, RGB=False, dtype=uint8> <valis.slide_io.VipsSlideReader object at 0x7f60637bd1c0> False (783, 1024)\n",
      "<Slide, name = 0467>, width=1583, height=1210, channels=1, levels=1, RGB=False, dtype=uint8> <valis.slide_io.VipsSlideReader object at 0x7f60637bc830> False (783, 1024)\n",
      "<Slide, name = 0468>, width=1583, height=1210, channels=1, levels=1, RGB=False, dtype=uint8> <valis.slide_io.VipsSlideReader object at 0x7f60637bcb90> False (783, 1024)\n",
      "<Slide, name = 0469>, width=1583, height=1210, channels=1, levels=1, RGB=False, dtype=uint8> <valis.slide_io.VipsSlideReader object at 0x7f60637ecb30> False (783, 1024)\n"
     ]
    },
    {
     "name": "stderr",
     "output_type": "stream",
     "text": [
      "Converting images:  18%|█▊        | 470/2624 [00:10<00:48, 44.35image/s]"
     ]
    },
    {
     "name": "stdout",
     "output_type": "stream",
     "text": [
      "<Slide, name = 0470>, width=1583, height=1210, channels=1, levels=1, RGB=False, dtype=uint8> <valis.slide_io.VipsSlideReader object at 0x7f60637ed3d0> False (783, 1024)\n",
      "<Slide, name = 0471>, width=1583, height=1210, channels=1, levels=1, RGB=False, dtype=uint8> <valis.slide_io.VipsSlideReader object at 0x7f60637fc470> False (783, 1024)\n",
      "<Slide, name = 0472>, width=1583, height=1210, channels=1, levels=1, RGB=False, dtype=uint8> <valis.slide_io.VipsSlideReader object at 0x7f60637ecda0> False (783, 1024)\n",
      "<Slide, name = 0473>, width=1583, height=1210, channels=1, levels=1, RGB=False, dtype=uint8> <valis.slide_io.VipsSlideReader object at 0x7f60637fcc20> False (783, 1024)\n",
      "<Slide, name = 0474>, width=1583, height=1210, channels=1, levels=1, RGB=False, dtype=uint8> <valis.slide_io.VipsSlideReader object at 0x7f60637ec890> False (783, 1024)\n"
     ]
    },
    {
     "name": "stderr",
     "output_type": "stream",
     "text": [
      "Converting images:  18%|█▊        | 475/2624 [00:10<00:48, 44.55image/s]"
     ]
    },
    {
     "name": "stdout",
     "output_type": "stream",
     "text": [
      "<Slide, name = 0475>, width=1583, height=1210, channels=1, levels=1, RGB=False, dtype=uint8> <valis.slide_io.VipsSlideReader object at 0x7f60637ec9b0> False (783, 1024)\n",
      "<Slide, name = 0476>, width=1583, height=1210, channels=1, levels=1, RGB=False, dtype=uint8> <valis.slide_io.VipsSlideReader object at 0x7f606b919ca0> False (783, 1024)\n",
      "<Slide, name = 0477>, width=1583, height=1210, channels=1, levels=1, RGB=False, dtype=uint8> <valis.slide_io.VipsSlideReader object at 0x7f60637ef6b0> False (783, 1024)\n",
      "<Slide, name = 0478>, width=1583, height=1210, channels=1, levels=1, RGB=False, dtype=uint8> <valis.slide_io.VipsSlideReader object at 0x7f60637ec2f0> False (783, 1024)\n",
      "<Slide, name = 0479>, width=1583, height=1210, channels=1, levels=1, RGB=False, dtype=uint8> <valis.slide_io.VipsSlideReader object at 0x7f60637ec200> False (783, 1024)\n"
     ]
    },
    {
     "name": "stderr",
     "output_type": "stream",
     "text": [
      "Converting images:  18%|█▊        | 480/2624 [00:10<00:47, 44.99image/s]"
     ]
    },
    {
     "name": "stdout",
     "output_type": "stream",
     "text": [
      "<Slide, name = 0480>, width=1583, height=1210, channels=1, levels=1, RGB=False, dtype=uint8> <valis.slide_io.VipsSlideReader object at 0x7f60637bf5f0> False (783, 1024)\n",
      "<Slide, name = 0481>, width=1583, height=1210, channels=1, levels=1, RGB=False, dtype=uint8> <valis.slide_io.VipsSlideReader object at 0x7f60637b2420> False (783, 1024)\n",
      "<Slide, name = 0482>, width=1583, height=1210, channels=1, levels=1, RGB=False, dtype=uint8> <valis.slide_io.VipsSlideReader object at 0x7f606357af30> False (783, 1024)\n",
      "<Slide, name = 0483>, width=1583, height=1210, channels=1, levels=1, RGB=False, dtype=uint8> <valis.slide_io.VipsSlideReader object at 0x7f606360bb60> False (783, 1024)\n",
      "<Slide, name = 0484>, width=1583, height=1210, channels=1, levels=1, RGB=False, dtype=uint8> <valis.slide_io.VipsSlideReader object at 0x7f606355a7b0> False (783, 1024)\n"
     ]
    },
    {
     "name": "stderr",
     "output_type": "stream",
     "text": [
      "Converting images:  18%|█▊        | 485/2624 [00:10<00:47, 44.98image/s]"
     ]
    },
    {
     "name": "stdout",
     "output_type": "stream",
     "text": [
      "<Slide, name = 0485>, width=1583, height=1210, channels=1, levels=1, RGB=False, dtype=uint8> <valis.slide_io.VipsSlideReader object at 0x7f6063559ca0> False (783, 1024)\n",
      "<Slide, name = 0486>, width=1583, height=1210, channels=1, levels=1, RGB=False, dtype=uint8> <valis.slide_io.VipsSlideReader object at 0x7f6063523da0> False (783, 1024)\n",
      "<Slide, name = 0487>, width=1583, height=1210, channels=1, levels=1, RGB=False, dtype=uint8> <valis.slide_io.VipsSlideReader object at 0x7f60637b0a70> False (783, 1024)\n",
      "<Slide, name = 0488>, width=1583, height=1210, channels=1, levels=1, RGB=False, dtype=uint8> <valis.slide_io.VipsSlideReader object at 0x7f606360a0f0> False (783, 1024)\n",
      "<Slide, name = 0489>, width=1583, height=1210, channels=1, levels=1, RGB=False, dtype=uint8> <valis.slide_io.VipsSlideReader object at 0x7f606353a9f0> False (783, 1024)\n"
     ]
    },
    {
     "name": "stderr",
     "output_type": "stream",
     "text": [
      "Converting images:  19%|█▊        | 490/2624 [00:11<00:46, 45.49image/s]"
     ]
    },
    {
     "name": "stdout",
     "output_type": "stream",
     "text": [
      "<Slide, name = 0490>, width=1583, height=1210, channels=1, levels=1, RGB=False, dtype=uint8> <valis.slide_io.VipsSlideReader object at 0x7f6063521760> False (783, 1024)\n",
      "<Slide, name = 0491>, width=1583, height=1210, channels=1, levels=1, RGB=False, dtype=uint8> <valis.slide_io.VipsSlideReader object at 0x7f60637b3260> False (783, 1024)\n",
      "<Slide, name = 0492>, width=1583, height=1210, channels=1, levels=1, RGB=False, dtype=uint8> <valis.slide_io.VipsSlideReader object at 0x7f60635596a0> False (783, 1024)\n",
      "<Slide, name = 0493>, width=1583, height=1210, channels=1, levels=1, RGB=False, dtype=uint8> <valis.slide_io.VipsSlideReader object at 0x7f6063522270> False (783, 1024)\n",
      "<Slide, name = 0494>, width=1583, height=1210, channels=1, levels=1, RGB=False, dtype=uint8> <valis.slide_io.VipsSlideReader object at 0x7f606353b620> False (783, 1024)\n"
     ]
    },
    {
     "name": "stderr",
     "output_type": "stream",
     "text": [
      "Converting images:  19%|█▉        | 495/2624 [00:11<00:46, 45.55image/s]"
     ]
    },
    {
     "name": "stdout",
     "output_type": "stream",
     "text": [
      "<Slide, name = 0495>, width=1583, height=1210, channels=1, levels=1, RGB=False, dtype=uint8> <valis.slide_io.VipsSlideReader object at 0x7f6063521d60> False (783, 1024)\n",
      "<Slide, name = 0496>, width=1583, height=1210, channels=1, levels=1, RGB=False, dtype=uint8> <valis.slide_io.VipsSlideReader object at 0x7f60637b3bc0> False (783, 1024)\n",
      "<Slide, name = 0497>, width=1583, height=1210, channels=1, levels=1, RGB=False, dtype=uint8> <valis.slide_io.VipsSlideReader object at 0x7f60637b3470> False (783, 1024)\n",
      "<Slide, name = 0498>, width=1583, height=1210, channels=1, levels=1, RGB=False, dtype=uint8> <valis.slide_io.VipsSlideReader object at 0x7f606360a1b0> False (783, 1024)\n",
      "<Slide, name = 0499>, width=1583, height=1210, channels=1, levels=1, RGB=False, dtype=uint8> <valis.slide_io.VipsSlideReader object at 0x7f606355a4b0> False (783, 1024)\n"
     ]
    },
    {
     "name": "stderr",
     "output_type": "stream",
     "text": [
      "Converting images:  19%|█▉        | 500/2624 [00:11<00:46, 45.74image/s]"
     ]
    },
    {
     "name": "stdout",
     "output_type": "stream",
     "text": [
      "<Slide, name = 0500>, width=1583, height=1210, channels=1, levels=1, RGB=False, dtype=uint8> <valis.slide_io.VipsSlideReader object at 0x7f60637b15b0> False (783, 1024)\n",
      "<Slide, name = 0501>, width=1583, height=1210, channels=1, levels=1, RGB=False, dtype=uint8> <valis.slide_io.VipsSlideReader object at 0x7f606355aff0> False (783, 1024)\n",
      "<Slide, name = 0502>, width=1583, height=1210, channels=1, levels=1, RGB=False, dtype=uint8> <valis.slide_io.VipsSlideReader object at 0x7f6063523dd0> False (783, 1024)\n",
      "<Slide, name = 0503>, width=1583, height=1210, channels=1, levels=1, RGB=False, dtype=uint8> <valis.slide_io.VipsSlideReader object at 0x7f60637c0f20> False (783, 1024)\n",
      "<Slide, name = 0504>, width=1583, height=1210, channels=1, levels=1, RGB=False, dtype=uint8> <valis.slide_io.VipsSlideReader object at 0x7f6063558320> False (783, 1024)\n"
     ]
    },
    {
     "name": "stderr",
     "output_type": "stream",
     "text": [
      "Converting images:  19%|█▉        | 505/2624 [00:11<00:47, 44.49image/s]"
     ]
    },
    {
     "name": "stdout",
     "output_type": "stream",
     "text": [
      "<Slide, name = 0505>, width=1583, height=1210, channels=1, levels=1, RGB=False, dtype=uint8> <valis.slide_io.VipsSlideReader object at 0x7f606353bb90> False (783, 1024)\n",
      "<Slide, name = 0506>, width=1583, height=1210, channels=1, levels=1, RGB=False, dtype=uint8> <valis.slide_io.VipsSlideReader object at 0x7f60635785c0> False (783, 1024)\n",
      "<Slide, name = 0507>, width=1583, height=1210, channels=1, levels=1, RGB=False, dtype=uint8> <valis.slide_io.VipsSlideReader object at 0x7f606355be90> False (783, 1024)\n",
      "<Slide, name = 0508>, width=1583, height=1210, channels=1, levels=1, RGB=False, dtype=uint8> <valis.slide_io.VipsSlideReader object at 0x7f6063523080> False (783, 1024)\n",
      "<Slide, name = 0509>, width=1583, height=1210, channels=1, levels=1, RGB=False, dtype=uint8> <valis.slide_io.VipsSlideReader object at 0x7f60637b3a40> False (783, 1024)\n"
     ]
    },
    {
     "name": "stderr",
     "output_type": "stream",
     "text": [
      "Converting images:  19%|█▉        | 510/2624 [00:11<00:47, 44.92image/s]"
     ]
    },
    {
     "name": "stdout",
     "output_type": "stream",
     "text": [
      "<Slide, name = 0510>, width=1583, height=1210, channels=1, levels=1, RGB=False, dtype=uint8> <valis.slide_io.VipsSlideReader object at 0x7f606353b2c0> False (783, 1024)\n",
      "<Slide, name = 0511>, width=1583, height=1210, channels=1, levels=1, RGB=False, dtype=uint8> <valis.slide_io.VipsSlideReader object at 0x7f6063520b60> False (783, 1024)\n",
      "<Slide, name = 0512>, width=1583, height=1210, channels=1, levels=1, RGB=False, dtype=uint8> <valis.slide_io.VipsSlideReader object at 0x7f606360b710> False (783, 1024)\n",
      "<Slide, name = 0513>, width=1583, height=1210, channels=1, levels=1, RGB=False, dtype=uint8> <valis.slide_io.VipsSlideReader object at 0x7f60637b37a0> False (783, 1024)\n",
      "<Slide, name = 0514>, width=1583, height=1210, channels=1, levels=1, RGB=False, dtype=uint8> <valis.slide_io.VipsSlideReader object at 0x7f606355b560> False (783, 1024)\n"
     ]
    },
    {
     "name": "stderr",
     "output_type": "stream",
     "text": [
      "Converting images:  20%|█▉        | 515/2624 [00:11<00:46, 45.25image/s]"
     ]
    },
    {
     "name": "stdout",
     "output_type": "stream",
     "text": [
      "<Slide, name = 0515>, width=1583, height=1210, channels=1, levels=1, RGB=False, dtype=uint8> <valis.slide_io.VipsSlideReader object at 0x7f60637b2d50> False (783, 1024)\n",
      "<Slide, name = 0516>, width=1583, height=1210, channels=1, levels=1, RGB=False, dtype=uint8> <valis.slide_io.VipsSlideReader object at 0x7f60637b2960> False (783, 1024)\n",
      "<Slide, name = 0517>, width=1583, height=1210, channels=1, levels=1, RGB=False, dtype=uint8> <valis.slide_io.VipsSlideReader object at 0x7f606357aba0> False (783, 1024)\n",
      "<Slide, name = 0518>, width=1583, height=1210, channels=1, levels=1, RGB=False, dtype=uint8> <valis.slide_io.VipsSlideReader object at 0x7f6063522cc0> False (783, 1024)\n",
      "<Slide, name = 0519>, width=1583, height=1210, channels=1, levels=1, RGB=False, dtype=uint8> <valis.slide_io.VipsSlideReader object at 0x7f60635234d0> False (783, 1024)\n"
     ]
    },
    {
     "name": "stderr",
     "output_type": "stream",
     "text": [
      "Converting images:  20%|█▉        | 520/2624 [00:11<00:46, 45.52image/s]"
     ]
    },
    {
     "name": "stdout",
     "output_type": "stream",
     "text": [
      "<Slide, name = 0520>, width=1583, height=1210, channels=1, levels=1, RGB=False, dtype=uint8> <valis.slide_io.VipsSlideReader object at 0x7f606357b050> False (783, 1024)\n",
      "<Slide, name = 0521>, width=1583, height=1210, channels=1, levels=1, RGB=False, dtype=uint8> <valis.slide_io.VipsSlideReader object at 0x7f606360ade0> False (783, 1024)\n",
      "<Slide, name = 0522>, width=1583, height=1210, channels=1, levels=1, RGB=False, dtype=uint8> <valis.slide_io.VipsSlideReader object at 0x7f6063522bd0> False (783, 1024)\n",
      "<Slide, name = 0523>, width=1583, height=1210, channels=1, levels=1, RGB=False, dtype=uint8> <valis.slide_io.VipsSlideReader object at 0x7f60637b31a0> False (783, 1024)\n",
      "<Slide, name = 0524>, width=1583, height=1210, channels=1, levels=1, RGB=False, dtype=uint8> <valis.slide_io.VipsSlideReader object at 0x7f606360a480> False (783, 1024)\n"
     ]
    },
    {
     "name": "stderr",
     "output_type": "stream",
     "text": [
      "Converting images:  20%|██        | 525/2624 [00:11<00:45, 45.80image/s]"
     ]
    },
    {
     "name": "stdout",
     "output_type": "stream",
     "text": [
      "<Slide, name = 0525>, width=1583, height=1210, channels=1, levels=1, RGB=False, dtype=uint8> <valis.slide_io.VipsSlideReader object at 0x7f60637c3230> False (783, 1024)\n",
      "<Slide, name = 0526>, width=1583, height=1210, channels=1, levels=1, RGB=False, dtype=uint8> <valis.slide_io.VipsSlideReader object at 0x7f606353ad80> False (783, 1024)\n",
      "<Slide, name = 0527>, width=1583, height=1210, channels=1, levels=1, RGB=False, dtype=uint8> <valis.slide_io.VipsSlideReader object at 0x7f6063539f10> False (783, 1024)\n",
      "<Slide, name = 0528>, width=1583, height=1210, channels=1, levels=1, RGB=False, dtype=uint8> <valis.slide_io.VipsSlideReader object at 0x7f6063522c60> False (783, 1024)\n",
      "<Slide, name = 0529>, width=1583, height=1210, channels=1, levels=1, RGB=False, dtype=uint8> <valis.slide_io.VipsSlideReader object at 0x7f6063579d90> False (783, 1024)\n"
     ]
    },
    {
     "name": "stderr",
     "output_type": "stream",
     "text": [
      "Converting images:  20%|██        | 530/2624 [00:11<00:45, 45.88image/s]"
     ]
    },
    {
     "name": "stdout",
     "output_type": "stream",
     "text": [
      "<Slide, name = 0530>, width=1583, height=1210, channels=1, levels=1, RGB=False, dtype=uint8> <valis.slide_io.VipsSlideReader object at 0x7f606355a090> False (783, 1024)\n",
      "<Slide, name = 0531>, width=1583, height=1210, channels=1, levels=1, RGB=False, dtype=uint8> <valis.slide_io.VipsSlideReader object at 0x7f6063609e20> False (783, 1024)\n",
      "<Slide, name = 0532>, width=1583, height=1210, channels=1, levels=1, RGB=False, dtype=uint8> <valis.slide_io.VipsSlideReader object at 0x7f6063522060> False (783, 1024)\n",
      "<Slide, name = 0533>, width=1583, height=1210, channels=1, levels=1, RGB=False, dtype=uint8> <valis.slide_io.VipsSlideReader object at 0x7f606354a120> False (783, 1024)\n",
      "<Slide, name = 0534>, width=1583, height=1210, channels=1, levels=1, RGB=False, dtype=uint8> <valis.slide_io.VipsSlideReader object at 0x7f6063609b20> False (783, 1024)\n"
     ]
    },
    {
     "name": "stderr",
     "output_type": "stream",
     "text": [
      "Converting images:  20%|██        | 535/2624 [00:12<00:45, 45.97image/s]"
     ]
    },
    {
     "name": "stdout",
     "output_type": "stream",
     "text": [
      "<Slide, name = 0535>, width=1583, height=1210, channels=1, levels=1, RGB=False, dtype=uint8> <valis.slide_io.VipsSlideReader object at 0x7f60637b1eb0> False (783, 1024)\n",
      "<Slide, name = 0536>, width=1583, height=1210, channels=1, levels=1, RGB=False, dtype=uint8> <valis.slide_io.VipsSlideReader object at 0x7f6063521250> False (783, 1024)\n",
      "<Slide, name = 0537>, width=1583, height=1210, channels=1, levels=1, RGB=False, dtype=uint8> <valis.slide_io.VipsSlideReader object at 0x7f60637b1970> False (783, 1024)\n",
      "<Slide, name = 0538>, width=1583, height=1210, channels=1, levels=1, RGB=False, dtype=uint8> <valis.slide_io.VipsSlideReader object at 0x7f6063539520> False (783, 1024)\n",
      "<Slide, name = 0539>, width=1583, height=1210, channels=1, levels=1, RGB=False, dtype=uint8> <valis.slide_io.VipsSlideReader object at 0x7f6063559d30> False (783, 1024)\n"
     ]
    },
    {
     "name": "stderr",
     "output_type": "stream",
     "text": [
      "Converting images:  21%|██        | 540/2624 [00:12<00:45, 46.30image/s]"
     ]
    },
    {
     "name": "stdout",
     "output_type": "stream",
     "text": [
      "<Slide, name = 0540>, width=1583, height=1210, channels=1, levels=1, RGB=False, dtype=uint8> <valis.slide_io.VipsSlideReader object at 0x7f60635214c0> False (783, 1024)\n",
      "<Slide, name = 0541>, width=1583, height=1210, channels=1, levels=1, RGB=False, dtype=uint8> <valis.slide_io.VipsSlideReader object at 0x7f6063609880> False (783, 1024)\n",
      "<Slide, name = 0542>, width=1583, height=1210, channels=1, levels=1, RGB=False, dtype=uint8> <valis.slide_io.VipsSlideReader object at 0x7f6063539730> False (783, 1024)\n",
      "<Slide, name = 0543>, width=1583, height=1210, channels=1, levels=1, RGB=False, dtype=uint8> <valis.slide_io.VipsSlideReader object at 0x7f6063609b50> False (783, 1024)\n",
      "<Slide, name = 0544>, width=1583, height=1210, channels=1, levels=1, RGB=False, dtype=uint8> <valis.slide_io.VipsSlideReader object at 0x7f60635391c0> False (783, 1024)\n"
     ]
    },
    {
     "name": "stderr",
     "output_type": "stream",
     "text": [
      "Converting images:  21%|██        | 545/2624 [00:12<00:45, 45.50image/s]"
     ]
    },
    {
     "name": "stdout",
     "output_type": "stream",
     "text": [
      "<Slide, name = 0545>, width=1583, height=1210, channels=1, levels=1, RGB=False, dtype=uint8> <valis.slide_io.VipsSlideReader object at 0x7f6063608e90> False (783, 1024)\n",
      "<Slide, name = 0546>, width=1583, height=1210, channels=1, levels=1, RGB=False, dtype=uint8> <valis.slide_io.VipsSlideReader object at 0x7f60637b0590> False (783, 1024)\n",
      "<Slide, name = 0547>, width=1583, height=1210, channels=1, levels=1, RGB=False, dtype=uint8> <valis.slide_io.VipsSlideReader object at 0x7f60637b1280> False (783, 1024)\n",
      "<Slide, name = 0548>, width=1583, height=1210, channels=1, levels=1, RGB=False, dtype=uint8> <valis.slide_io.VipsSlideReader object at 0x7f606354a8a0> False (783, 1024)\n",
      "<Slide, name = 0549>, width=1583, height=1210, channels=1, levels=1, RGB=False, dtype=uint8> <valis.slide_io.VipsSlideReader object at 0x7f6063558ec0> False (783, 1024)\n"
     ]
    },
    {
     "name": "stderr",
     "output_type": "stream",
     "text": [
      "Converting images:  21%|██        | 550/2624 [00:12<00:46, 44.70image/s]"
     ]
    },
    {
     "name": "stdout",
     "output_type": "stream",
     "text": [
      "<Slide, name = 0550>, width=1583, height=1210, channels=1, levels=1, RGB=False, dtype=uint8> <valis.slide_io.VipsSlideReader object at 0x7f6063520440> False (783, 1024)\n",
      "<Slide, name = 0551>, width=1583, height=1210, channels=1, levels=1, RGB=False, dtype=uint8> <valis.slide_io.VipsSlideReader object at 0x7f60635209b0> False (783, 1024)\n",
      "<Slide, name = 0552>, width=1583, height=1210, channels=1, levels=1, RGB=False, dtype=uint8> <valis.slide_io.VipsSlideReader object at 0x7f60637b0c80> False (783, 1024)\n",
      "<Slide, name = 0553>, width=1583, height=1210, channels=1, levels=1, RGB=False, dtype=uint8> <valis.slide_io.VipsSlideReader object at 0x7f60637b07d0> False (783, 1024)\n",
      "<Slide, name = 0554>, width=1583, height=1210, channels=1, levels=1, RGB=False, dtype=uint8> <valis.slide_io.VipsSlideReader object at 0x7f60637b08f0> False (783, 1024)\n"
     ]
    },
    {
     "name": "stderr",
     "output_type": "stream",
     "text": [
      "Converting images:  21%|██        | 555/2624 [00:12<00:46, 44.11image/s]"
     ]
    },
    {
     "name": "stdout",
     "output_type": "stream",
     "text": [
      "<Slide, name = 0555>, width=1583, height=1210, channels=1, levels=1, RGB=False, dtype=uint8> <valis.slide_io.VipsSlideReader object at 0x7f60637b0260> False (783, 1024)\n",
      "<Slide, name = 0556>, width=1583, height=1210, channels=1, levels=1, RGB=False, dtype=uint8> <valis.slide_io.VipsSlideReader object at 0x7f606bdb0b90> False (783, 1024)\n",
      "<Slide, name = 0557>, width=1583, height=1210, channels=1, levels=1, RGB=False, dtype=uint8> <valis.slide_io.VipsSlideReader object at 0x7f60637b02f0> False (783, 1024)\n",
      "<Slide, name = 0558>, width=1583, height=1210, channels=1, levels=1, RGB=False, dtype=uint8> <valis.slide_io.VipsSlideReader object at 0x7f60637b0530> False (783, 1024)\n",
      "<Slide, name = 0559>, width=1583, height=1210, channels=1, levels=1, RGB=False, dtype=uint8> <valis.slide_io.VipsSlideReader object at 0x7f60637b00b0> False (783, 1024)\n"
     ]
    },
    {
     "name": "stderr",
     "output_type": "stream",
     "text": [
      "Converting images:  21%|██▏       | 560/2624 [00:12<00:47, 43.83image/s]"
     ]
    },
    {
     "name": "stdout",
     "output_type": "stream",
     "text": [
      "<Slide, name = 0560>, width=1583, height=1210, channels=1, levels=1, RGB=False, dtype=uint8> <valis.slide_io.VipsSlideReader object at 0x7f6063520380> False (783, 1024)\n",
      "<Slide, name = 0561>, width=1583, height=1210, channels=1, levels=1, RGB=False, dtype=uint8> <valis.slide_io.VipsSlideReader object at 0x7f6063608230> False (783, 1024)\n",
      "<Slide, name = 0562>, width=1583, height=1210, channels=1, levels=1, RGB=False, dtype=uint8> <valis.slide_io.VipsSlideReader object at 0x7f60637b1730> False (783, 1024)\n",
      "<Slide, name = 0563>, width=1583, height=1210, channels=1, levels=1, RGB=False, dtype=uint8> <valis.slide_io.VipsSlideReader object at 0x7f60637ab200> False (783, 1024)\n",
      "<Slide, name = 0564>, width=1583, height=1210, channels=1, levels=1, RGB=False, dtype=uint8> <valis.slide_io.VipsSlideReader object at 0x7f60637b23f0> False (783, 1024)\n"
     ]
    },
    {
     "name": "stderr",
     "output_type": "stream",
     "text": [
      "Converting images:  22%|██▏       | 565/2624 [00:12<00:46, 43.82image/s]"
     ]
    },
    {
     "name": "stdout",
     "output_type": "stream",
     "text": [
      "<Slide, name = 0565>, width=1583, height=1210, channels=1, levels=1, RGB=False, dtype=uint8> <valis.slide_io.VipsSlideReader object at 0x7f60637aae70> False (783, 1024)\n",
      "<Slide, name = 0566>, width=1583, height=1210, channels=1, levels=1, RGB=False, dtype=uint8> <valis.slide_io.VipsSlideReader object at 0x7f6063520a10> False (783, 1024)\n",
      "<Slide, name = 0567>, width=1583, height=1210, channels=1, levels=1, RGB=False, dtype=uint8> <valis.slide_io.VipsSlideReader object at 0x7f606357b800> False (783, 1024)\n",
      "<Slide, name = 0568>, width=1583, height=1210, channels=1, levels=1, RGB=False, dtype=uint8> <valis.slide_io.VipsSlideReader object at 0x7f606360b1a0> False (783, 1024)\n",
      "<Slide, name = 0569>, width=1583, height=1210, channels=1, levels=1, RGB=False, dtype=uint8> <valis.slide_io.VipsSlideReader object at 0x7f60635239e0> False (783, 1024)\n"
     ]
    },
    {
     "name": "stderr",
     "output_type": "stream",
     "text": [
      "Converting images:  22%|██▏       | 570/2624 [00:12<00:47, 43.61image/s]"
     ]
    },
    {
     "name": "stdout",
     "output_type": "stream",
     "text": [
      "<Slide, name = 0570>, width=1583, height=1210, channels=1, levels=1, RGB=False, dtype=uint8> <valis.slide_io.VipsSlideReader object at 0x7f6063522990> False (783, 1024)\n",
      "<Slide, name = 0571>, width=1583, height=1210, channels=1, levels=1, RGB=False, dtype=uint8> <valis.slide_io.VipsSlideReader object at 0x7f60635218b0> False (783, 1024)\n",
      "<Slide, name = 0572>, width=1583, height=1210, channels=1, levels=1, RGB=False, dtype=uint8> <valis.slide_io.VipsSlideReader object at 0x7f60637b0dd0> False (783, 1024)\n",
      "<Slide, name = 0573>, width=1583, height=1210, channels=1, levels=1, RGB=False, dtype=uint8> <valis.slide_io.VipsSlideReader object at 0x7f60637a8bc0> False (783, 1024)\n",
      "<Slide, name = 0574>, width=1583, height=1210, channels=1, levels=1, RGB=False, dtype=uint8> <valis.slide_io.VipsSlideReader object at 0x7f60635788f0> False (783, 1024)\n"
     ]
    },
    {
     "name": "stderr",
     "output_type": "stream",
     "text": [
      "Converting images:  22%|██▏       | 575/2624 [00:12<00:46, 43.85image/s]"
     ]
    },
    {
     "name": "stdout",
     "output_type": "stream",
     "text": [
      "<Slide, name = 0575>, width=1583, height=1210, channels=1, levels=1, RGB=False, dtype=uint8> <valis.slide_io.VipsSlideReader object at 0x7f6063558cb0> False (783, 1024)\n",
      "<Slide, name = 0576>, width=1583, height=1210, channels=1, levels=1, RGB=False, dtype=uint8> <valis.slide_io.VipsSlideReader object at 0x7f6063579c40> False (783, 1024)\n",
      "<Slide, name = 0577>, width=1583, height=1210, channels=1, levels=1, RGB=False, dtype=uint8> <valis.slide_io.VipsSlideReader object at 0x7f606360ab40> False (783, 1024)\n",
      "<Slide, name = 0578>, width=1583, height=1210, channels=1, levels=1, RGB=False, dtype=uint8> <valis.slide_io.VipsSlideReader object at 0x7f606360b170> False (783, 1024)\n",
      "<Slide, name = 0579>, width=1583, height=1210, channels=1, levels=1, RGB=False, dtype=uint8> <valis.slide_io.VipsSlideReader object at 0x7f6063523830> False (783, 1024)\n"
     ]
    },
    {
     "name": "stderr",
     "output_type": "stream",
     "text": [
      "Converting images:  22%|██▏       | 580/2624 [00:13<00:46, 43.86image/s]"
     ]
    },
    {
     "name": "stdout",
     "output_type": "stream",
     "text": [
      "<Slide, name = 0580>, width=1583, height=1210, channels=1, levels=1, RGB=False, dtype=uint8> <valis.slide_io.VipsSlideReader object at 0x7f606353a3c0> False (783, 1024)\n",
      "<Slide, name = 0581>, width=1583, height=1210, channels=1, levels=1, RGB=False, dtype=uint8> <valis.slide_io.VipsSlideReader object at 0x7f606353bb30> False (783, 1024)\n",
      "<Slide, name = 0582>, width=1583, height=1210, channels=1, levels=1, RGB=False, dtype=uint8> <valis.slide_io.VipsSlideReader object at 0x7f606355b2f0> False (783, 1024)\n",
      "<Slide, name = 0583>, width=1583, height=1210, channels=1, levels=1, RGB=False, dtype=uint8> <valis.slide_io.VipsSlideReader object at 0x7f606357bef0> False (783, 1024)\n",
      "<Slide, name = 0584>, width=1583, height=1210, channels=1, levels=1, RGB=False, dtype=uint8> <valis.slide_io.VipsSlideReader object at 0x7f606353a390> False (783, 1024)\n"
     ]
    },
    {
     "name": "stderr",
     "output_type": "stream",
     "text": [
      "Converting images:  22%|██▏       | 585/2624 [00:13<00:47, 42.91image/s]"
     ]
    },
    {
     "name": "stdout",
     "output_type": "stream",
     "text": [
      "<Slide, name = 0585>, width=1583, height=1210, channels=1, levels=1, RGB=False, dtype=uint8> <valis.slide_io.VipsSlideReader object at 0x7f6063608860> False (783, 1024)\n",
      "<Slide, name = 0586>, width=1583, height=1210, channels=1, levels=1, RGB=False, dtype=uint8> <valis.slide_io.VipsSlideReader object at 0x7f60637abbc0> False (783, 1024)\n",
      "<Slide, name = 0587>, width=1583, height=1210, channels=1, levels=1, RGB=False, dtype=uint8> <valis.slide_io.VipsSlideReader object at 0x7f60637aa300> False (783, 1024)\n",
      "<Slide, name = 0588>, width=1583, height=1210, channels=1, levels=1, RGB=False, dtype=uint8> <valis.slide_io.VipsSlideReader object at 0x7f606357b7a0> False (783, 1024)\n",
      "<Slide, name = 0589>, width=1583, height=1210, channels=1, levels=1, RGB=False, dtype=uint8> <valis.slide_io.VipsSlideReader object at 0x7f60637abc80> False (783, 1024)\n"
     ]
    },
    {
     "name": "stderr",
     "output_type": "stream",
     "text": [
      "Converting images:  22%|██▏       | 590/2624 [00:13<00:47, 43.24image/s]"
     ]
    },
    {
     "name": "stdout",
     "output_type": "stream",
     "text": [
      "<Slide, name = 0590>, width=1583, height=1210, channels=1, levels=1, RGB=False, dtype=uint8> <valis.slide_io.VipsSlideReader object at 0x7f60637b3e90> False (783, 1024)\n",
      "<Slide, name = 0591>, width=1583, height=1210, channels=1, levels=1, RGB=False, dtype=uint8> <valis.slide_io.VipsSlideReader object at 0x7f60637ab950> False (783, 1024)\n",
      "<Slide, name = 0592>, width=1583, height=1210, channels=1, levels=1, RGB=False, dtype=uint8> <valis.slide_io.VipsSlideReader object at 0x7f60636eb110> False (783, 1024)\n",
      "<Slide, name = 0593>, width=1583, height=1210, channels=1, levels=1, RGB=False, dtype=uint8> <valis.slide_io.VipsSlideReader object at 0x7f606353b590> False (783, 1024)\n",
      "<Slide, name = 0594>, width=1583, height=1210, channels=1, levels=1, RGB=False, dtype=uint8> <valis.slide_io.VipsSlideReader object at 0x7f606355bd70> False (783, 1024)\n"
     ]
    },
    {
     "name": "stderr",
     "output_type": "stream",
     "text": [
      "Converting images:  23%|██▎       | 595/2624 [00:13<00:46, 43.67image/s]"
     ]
    },
    {
     "name": "stdout",
     "output_type": "stream",
     "text": [
      "<Slide, name = 0595>, width=1583, height=1210, channels=1, levels=1, RGB=False, dtype=uint8> <valis.slide_io.VipsSlideReader object at 0x7f606355b0e0> False (783, 1024)\n",
      "<Slide, name = 0596>, width=1583, height=1210, channels=1, levels=1, RGB=False, dtype=uint8> <valis.slide_io.VipsSlideReader object at 0x7f60637c2f60> False (783, 1024)\n",
      "<Slide, name = 0597>, width=1583, height=1210, channels=1, levels=1, RGB=False, dtype=uint8> <valis.slide_io.VipsSlideReader object at 0x7f606357b320> False (783, 1024)\n",
      "<Slide, name = 0598>, width=1583, height=1210, channels=1, levels=1, RGB=False, dtype=uint8> <valis.slide_io.VipsSlideReader object at 0x7f606360b5c0> False (783, 1024)\n",
      "<Slide, name = 0599>, width=1583, height=1210, channels=1, levels=1, RGB=False, dtype=uint8> <valis.slide_io.VipsSlideReader object at 0x7f606360aea0> False (783, 1024)\n"
     ]
    },
    {
     "name": "stderr",
     "output_type": "stream",
     "text": [
      "Converting images:  23%|██▎       | 600/2624 [00:13<00:45, 44.03image/s]"
     ]
    },
    {
     "name": "stdout",
     "output_type": "stream",
     "text": [
      "<Slide, name = 0600>, width=1583, height=1210, channels=1, levels=1, RGB=False, dtype=uint8> <valis.slide_io.VipsSlideReader object at 0x7f60637b3050> False (783, 1024)\n",
      "<Slide, name = 0601>, width=1583, height=1210, channels=1, levels=1, RGB=False, dtype=uint8> <valis.slide_io.VipsSlideReader object at 0x7f6063522cf0> False (783, 1024)\n",
      "<Slide, name = 0602>, width=1583, height=1210, channels=1, levels=1, RGB=False, dtype=uint8> <valis.slide_io.VipsSlideReader object at 0x7f60637a9460> False (783, 1024)\n",
      "<Slide, name = 0603>, width=1583, height=1210, channels=1, levels=1, RGB=False, dtype=uint8> <valis.slide_io.VipsSlideReader object at 0x7f60635220c0> False (783, 1024)\n",
      "<Slide, name = 0604>, width=1583, height=1210, channels=1, levels=1, RGB=False, dtype=uint8> <valis.slide_io.VipsSlideReader object at 0x7f60637aa690> False (783, 1024)\n"
     ]
    },
    {
     "name": "stderr",
     "output_type": "stream",
     "text": [
      "Converting images:  23%|██▎       | 605/2624 [00:13<00:46, 43.34image/s]"
     ]
    },
    {
     "name": "stdout",
     "output_type": "stream",
     "text": [
      "<Slide, name = 0605>, width=1583, height=1210, channels=1, levels=1, RGB=False, dtype=uint8> <valis.slide_io.VipsSlideReader object at 0x7f60637b2bd0> False (783, 1024)\n",
      "<Slide, name = 0606>, width=1583, height=1210, channels=1, levels=1, RGB=False, dtype=uint8> <valis.slide_io.VipsSlideReader object at 0x7f60637aaa20> False (783, 1024)\n",
      "<Slide, name = 0607>, width=1583, height=1210, channels=1, levels=1, RGB=False, dtype=uint8> <valis.slide_io.VipsSlideReader object at 0x7f606357a240> False (783, 1024)\n",
      "<Slide, name = 0608>, width=1583, height=1210, channels=1, levels=1, RGB=False, dtype=uint8> <valis.slide_io.VipsSlideReader object at 0x7f60637aa330> False (783, 1024)\n",
      "<Slide, name = 0609>, width=1583, height=1210, channels=1, levels=1, RGB=False, dtype=uint8> <valis.slide_io.VipsSlideReader object at 0x7f60637aa090> False (783, 1024)\n"
     ]
    },
    {
     "name": "stderr",
     "output_type": "stream",
     "text": [
      "Converting images:  23%|██▎       | 610/2624 [00:13<00:45, 43.81image/s]"
     ]
    },
    {
     "name": "stdout",
     "output_type": "stream",
     "text": [
      "<Slide, name = 0610>, width=1583, height=1210, channels=1, levels=1, RGB=False, dtype=uint8> <valis.slide_io.VipsSlideReader object at 0x7f60637a97c0> False (783, 1024)\n",
      "<Slide, name = 0611>, width=1583, height=1210, channels=1, levels=1, RGB=False, dtype=uint8> <valis.slide_io.VipsSlideReader object at 0x7f606354a420> False (783, 1024)\n",
      "<Slide, name = 0612>, width=1583, height=1210, channels=1, levels=1, RGB=False, dtype=uint8> <valis.slide_io.VipsSlideReader object at 0x7f6063521c10> False (783, 1024)\n",
      "<Slide, name = 0613>, width=1583, height=1210, channels=1, levels=1, RGB=False, dtype=uint8> <valis.slide_io.VipsSlideReader object at 0x7f6063521910> False (783, 1024)\n",
      "<Slide, name = 0614>, width=1583, height=1210, channels=1, levels=1, RGB=False, dtype=uint8> <valis.slide_io.VipsSlideReader object at 0x7f60637a9be0> False (783, 1024)\n"
     ]
    },
    {
     "name": "stderr",
     "output_type": "stream",
     "text": [
      "Converting images:  23%|██▎       | 615/2624 [00:13<00:45, 44.36image/s]"
     ]
    },
    {
     "name": "stdout",
     "output_type": "stream",
     "text": [
      "<Slide, name = 0615>, width=1583, height=1210, channels=1, levels=1, RGB=False, dtype=uint8> <valis.slide_io.VipsSlideReader object at 0x7f60637b16a0> False (783, 1024)\n",
      "<Slide, name = 0616>, width=1583, height=1210, channels=1, levels=1, RGB=False, dtype=uint8> <valis.slide_io.VipsSlideReader object at 0x7f60637b1ca0> False (783, 1024)\n",
      "<Slide, name = 0617>, width=1583, height=1210, channels=1, levels=1, RGB=False, dtype=uint8> <valis.slide_io.VipsSlideReader object at 0x7f606360a360> False (783, 1024)\n",
      "<Slide, name = 0618>, width=1583, height=1210, channels=1, levels=1, RGB=False, dtype=uint8> <valis.slide_io.VipsSlideReader object at 0x7f60636093a0> False (783, 1024)\n",
      "<Slide, name = 0619>, width=1583, height=1210, channels=1, levels=1, RGB=False, dtype=uint8> <valis.slide_io.VipsSlideReader object at 0x7f60636098e0> False (783, 1024)\n"
     ]
    },
    {
     "name": "stderr",
     "output_type": "stream",
     "text": [
      "Converting images:  24%|██▎       | 620/2624 [00:13<00:44, 44.54image/s]"
     ]
    },
    {
     "name": "stdout",
     "output_type": "stream",
     "text": [
      "<Slide, name = 0620>, width=1583, height=1210, channels=1, levels=1, RGB=False, dtype=uint8> <valis.slide_io.VipsSlideReader object at 0x7f60637a91f0> False (783, 1024)\n",
      "<Slide, name = 0621>, width=1583, height=1210, channels=1, levels=1, RGB=False, dtype=uint8> <valis.slide_io.VipsSlideReader object at 0x7f60637a84d0> False (783, 1024)\n",
      "<Slide, name = 0622>, width=1583, height=1210, channels=1, levels=1, RGB=False, dtype=uint8> <valis.slide_io.VipsSlideReader object at 0x7f6063520bf0> False (783, 1024)\n",
      "<Slide, name = 0623>, width=1583, height=1210, channels=1, levels=1, RGB=False, dtype=uint8> <valis.slide_io.VipsSlideReader object at 0x7f60637a92e0> False (783, 1024)\n",
      "<Slide, name = 0624>, width=1583, height=1210, channels=1, levels=1, RGB=False, dtype=uint8> <valis.slide_io.VipsSlideReader object at 0x7f60637a8ec0> False (783, 1024)\n"
     ]
    },
    {
     "name": "stderr",
     "output_type": "stream",
     "text": [
      "Converting images:  24%|██▍       | 625/2624 [00:14<00:44, 45.09image/s]"
     ]
    },
    {
     "name": "stdout",
     "output_type": "stream",
     "text": [
      "<Slide, name = 0625>, width=1583, height=1210, channels=1, levels=1, RGB=False, dtype=uint8> <valis.slide_io.VipsSlideReader object at 0x7f60637a9520> False (783, 1024)\n",
      "<Slide, name = 0626>, width=1583, height=1210, channels=1, levels=1, RGB=False, dtype=uint8> <valis.slide_io.VipsSlideReader object at 0x7f60635210d0> False (783, 1024)\n",
      "<Slide, name = 0627>, width=1583, height=1210, channels=1, levels=1, RGB=False, dtype=uint8> <valis.slide_io.VipsSlideReader object at 0x7f60637b0b30> False (783, 1024)\n",
      "<Slide, name = 0628>, width=1583, height=1210, channels=1, levels=1, RGB=False, dtype=uint8> <valis.slide_io.VipsSlideReader object at 0x7f60637b09b0> False (783, 1024)\n",
      "<Slide, name = 0629>, width=1583, height=1210, channels=1, levels=1, RGB=False, dtype=uint8> <valis.slide_io.VipsSlideReader object at 0x7f60637a8d10> False (783, 1024)\n"
     ]
    },
    {
     "name": "stderr",
     "output_type": "stream",
     "text": [
      "Converting images:  24%|██▍       | 630/2624 [00:14<00:44, 45.28image/s]"
     ]
    },
    {
     "name": "stdout",
     "output_type": "stream",
     "text": [
      "<Slide, name = 0630>, width=1583, height=1210, channels=1, levels=1, RGB=False, dtype=uint8> <valis.slide_io.VipsSlideReader object at 0x7f60637a8500> False (783, 1024)\n",
      "<Slide, name = 0631>, width=1583, height=1210, channels=1, levels=1, RGB=False, dtype=uint8> <valis.slide_io.VipsSlideReader object at 0x7f60637a80e0> False (783, 1024)\n",
      "<Slide, name = 0632>, width=1583, height=1210, channels=1, levels=1, RGB=False, dtype=uint8> <valis.slide_io.VipsSlideReader object at 0x7f60637b27b0> False (783, 1024)\n",
      "<Slide, name = 0633>, width=1583, height=1210, channels=1, levels=1, RGB=False, dtype=uint8> <valis.slide_io.VipsSlideReader object at 0x7f6063548c20> False (783, 1024)\n",
      "<Slide, name = 0634>, width=1583, height=1210, channels=1, levels=1, RGB=False, dtype=uint8> <valis.slide_io.VipsSlideReader object at 0x7f6063608290> False (783, 1024)\n"
     ]
    },
    {
     "name": "stderr",
     "output_type": "stream",
     "text": [
      "Converting images:  24%|██▍       | 635/2624 [00:14<00:44, 45.07image/s]"
     ]
    },
    {
     "name": "stdout",
     "output_type": "stream",
     "text": [
      "<Slide, name = 0635>, width=1583, height=1210, channels=1, levels=1, RGB=False, dtype=uint8> <valis.slide_io.VipsSlideReader object at 0x7f60637a8320> False (783, 1024)\n",
      "<Slide, name = 0636>, width=1583, height=1210, channels=1, levels=1, RGB=False, dtype=uint8> <valis.slide_io.VipsSlideReader object at 0x7f60636e8530> False (783, 1024)\n",
      "<Slide, name = 0637>, width=1583, height=1210, channels=1, levels=1, RGB=False, dtype=uint8> <valis.slide_io.VipsSlideReader object at 0x7f6063e95880> False (783, 1024)\n",
      "<Slide, name = 0638>, width=1583, height=1210, channels=1, levels=1, RGB=False, dtype=uint8> <valis.slide_io.VipsSlideReader object at 0x7f60637a8140> False (783, 1024)\n",
      "<Slide, name = 0639>, width=1583, height=1210, channels=1, levels=1, RGB=False, dtype=uint8> <valis.slide_io.VipsSlideReader object at 0x7f60635388c0> False (783, 1024)\n"
     ]
    },
    {
     "name": "stderr",
     "output_type": "stream",
     "text": [
      "Converting images:  24%|██▍       | 640/2624 [00:14<00:43, 45.25image/s]"
     ]
    },
    {
     "name": "stdout",
     "output_type": "stream",
     "text": [
      "<Slide, name = 0640>, width=1583, height=1210, channels=1, levels=1, RGB=False, dtype=uint8> <valis.slide_io.VipsSlideReader object at 0x7f606374e2d0> False (783, 1024)\n",
      "<Slide, name = 0641>, width=1583, height=1210, channels=1, levels=1, RGB=False, dtype=uint8> <valis.slide_io.VipsSlideReader object at 0x7f60637df830> False (783, 1024)\n",
      "<Slide, name = 0642>, width=1583, height=1210, channels=1, levels=1, RGB=False, dtype=uint8> <valis.slide_io.VipsSlideReader object at 0x7f606350e8a0> False (783, 1024)\n",
      "<Slide, name = 0643>, width=1583, height=1210, channels=1, levels=1, RGB=False, dtype=uint8> <valis.slide_io.VipsSlideReader object at 0x7f60637dfef0> False (783, 1024)\n",
      "<Slide, name = 0644>, width=1583, height=1210, channels=1, levels=1, RGB=False, dtype=uint8> <valis.slide_io.VipsSlideReader object at 0x7f60637df260> False (783, 1024)\n"
     ]
    },
    {
     "name": "stderr",
     "output_type": "stream",
     "text": [
      "Converting images:  25%|██▍       | 645/2624 [00:14<00:43, 45.35image/s]"
     ]
    },
    {
     "name": "stdout",
     "output_type": "stream",
     "text": [
      "<Slide, name = 0645>, width=1583, height=1210, channels=1, levels=1, RGB=False, dtype=uint8> <valis.slide_io.VipsSlideReader object at 0x7f60637dfc20> False (783, 1024)\n",
      "<Slide, name = 0646>, width=1583, height=1210, channels=1, levels=1, RGB=False, dtype=uint8> <valis.slide_io.VipsSlideReader object at 0x7f60637ef440> False (783, 1024)\n",
      "<Slide, name = 0647>, width=1583, height=1210, channels=1, levels=1, RGB=False, dtype=uint8> <valis.slide_io.VipsSlideReader object at 0x7f60637ddbb0> False (783, 1024)\n",
      "<Slide, name = 0648>, width=1583, height=1210, channels=1, levels=1, RGB=False, dtype=uint8> <valis.slide_io.VipsSlideReader object at 0x7f60637ec470> False (783, 1024)\n",
      "<Slide, name = 0649>, width=1583, height=1210, channels=1, levels=1, RGB=False, dtype=uint8> <valis.slide_io.VipsSlideReader object at 0x7f60637dec00> False (783, 1024)\n"
     ]
    },
    {
     "name": "stderr",
     "output_type": "stream",
     "text": [
      "Converting images:  25%|██▍       | 650/2624 [00:14<00:43, 45.28image/s]"
     ]
    },
    {
     "name": "stdout",
     "output_type": "stream",
     "text": [
      "<Slide, name = 0650>, width=1583, height=1210, channels=1, levels=1, RGB=False, dtype=uint8> <valis.slide_io.VipsSlideReader object at 0x7f60637be000> False (783, 1024)\n",
      "<Slide, name = 0651>, width=1583, height=1210, channels=1, levels=1, RGB=False, dtype=uint8> <valis.slide_io.VipsSlideReader object at 0x7f60637de210> False (783, 1024)\n",
      "<Slide, name = 0652>, width=1583, height=1210, channels=1, levels=1, RGB=False, dtype=uint8> <valis.slide_io.VipsSlideReader object at 0x7f60637de810> False (783, 1024)\n",
      "<Slide, name = 0653>, width=1583, height=1210, channels=1, levels=1, RGB=False, dtype=uint8> <valis.slide_io.VipsSlideReader object at 0x7f60637bc7d0> False (783, 1024)\n",
      "<Slide, name = 0654>, width=1583, height=1210, channels=1, levels=1, RGB=False, dtype=uint8> <valis.slide_io.VipsSlideReader object at 0x7f60637dd400> False (783, 1024)\n"
     ]
    },
    {
     "name": "stderr",
     "output_type": "stream",
     "text": [
      "Converting images:  25%|██▍       | 655/2624 [00:14<00:43, 44.83image/s]"
     ]
    },
    {
     "name": "stdout",
     "output_type": "stream",
     "text": [
      "<Slide, name = 0655>, width=1583, height=1210, channels=1, levels=1, RGB=False, dtype=uint8> <valis.slide_io.VipsSlideReader object at 0x7f60637de420> False (783, 1024)\n",
      "<Slide, name = 0656>, width=1583, height=1210, channels=1, levels=1, RGB=False, dtype=uint8> <valis.slide_io.VipsSlideReader object at 0x7f60637dca70> False (783, 1024)\n",
      "<Slide, name = 0657>, width=1583, height=1210, channels=1, levels=1, RGB=False, dtype=uint8> <valis.slide_io.VipsSlideReader object at 0x7f60637dc6b0> False (783, 1024)\n",
      "<Slide, name = 0658>, width=1583, height=1210, channels=1, levels=1, RGB=False, dtype=uint8> <valis.slide_io.VipsSlideReader object at 0x7f60637df050> False (783, 1024)\n",
      "<Slide, name = 0659>, width=1583, height=1210, channels=1, levels=1, RGB=False, dtype=uint8> <valis.slide_io.VipsSlideReader object at 0x7f60637de5a0> False (783, 1024)\n"
     ]
    },
    {
     "name": "stderr",
     "output_type": "stream",
     "text": [
      "Converting images:  25%|██▌       | 660/2624 [00:14<00:43, 44.73image/s]"
     ]
    },
    {
     "name": "stdout",
     "output_type": "stream",
     "text": [
      "<Slide, name = 0660>, width=1583, height=1210, channels=1, levels=1, RGB=False, dtype=uint8> <valis.slide_io.VipsSlideReader object at 0x7f60637de720> False (783, 1024)\n",
      "<Slide, name = 0661>, width=1583, height=1210, channels=1, levels=1, RGB=False, dtype=uint8> <valis.slide_io.VipsSlideReader object at 0x7f60637deed0> False (783, 1024)\n",
      "<Slide, name = 0662>, width=1583, height=1210, channels=1, levels=1, RGB=False, dtype=uint8> <valis.slide_io.VipsSlideReader object at 0x7f60637ee030> False (783, 1024)\n",
      "<Slide, name = 0663>, width=1583, height=1210, channels=1, levels=1, RGB=False, dtype=uint8> <valis.slide_io.VipsSlideReader object at 0x7f60637dd700> False (783, 1024)\n",
      "<Slide, name = 0664>, width=1583, height=1210, channels=1, levels=1, RGB=False, dtype=uint8> <valis.slide_io.VipsSlideReader object at 0x7f60637dd670> False (783, 1024)\n"
     ]
    },
    {
     "name": "stderr",
     "output_type": "stream",
     "text": [
      "Converting images:  25%|██▌       | 665/2624 [00:14<00:43, 45.19image/s]"
     ]
    },
    {
     "name": "stdout",
     "output_type": "stream",
     "text": [
      "<Slide, name = 0665>, width=1583, height=1210, channels=1, levels=1, RGB=False, dtype=uint8> <valis.slide_io.VipsSlideReader object at 0x7f60637dccb0> False (783, 1024)\n",
      "<Slide, name = 0666>, width=1583, height=1210, channels=1, levels=1, RGB=False, dtype=uint8> <valis.slide_io.VipsSlideReader object at 0x7f60637de270> False (783, 1024)\n",
      "<Slide, name = 0667>, width=1583, height=1210, channels=1, levels=1, RGB=False, dtype=uint8> <valis.slide_io.VipsSlideReader object at 0x7f60637bfa70> False (783, 1024)\n",
      "<Slide, name = 0668>, width=1583, height=1210, channels=1, levels=1, RGB=False, dtype=uint8> <valis.slide_io.VipsSlideReader object at 0x7f60637ed130> False (783, 1024)\n",
      "<Slide, name = 0669>, width=1583, height=1210, channels=1, levels=1, RGB=False, dtype=uint8> <valis.slide_io.VipsSlideReader object at 0x7f60637bea50> False (783, 1024)\n"
     ]
    },
    {
     "name": "stderr",
     "output_type": "stream",
     "text": [
      "Converting images:  26%|██▌       | 670/2624 [00:15<00:43, 44.86image/s]"
     ]
    },
    {
     "name": "stdout",
     "output_type": "stream",
     "text": [
      "<Slide, name = 0670>, width=1583, height=1210, channels=1, levels=1, RGB=False, dtype=uint8> <valis.slide_io.VipsSlideReader object at 0x7f60637dff50> False (783, 1024)\n",
      "<Slide, name = 0671>, width=1583, height=1210, channels=1, levels=1, RGB=False, dtype=uint8> <valis.slide_io.VipsSlideReader object at 0x7f60637ffce0> False (783, 1024)\n",
      "<Slide, name = 0672>, width=1583, height=1210, channels=1, levels=1, RGB=False, dtype=uint8> <valis.slide_io.VipsSlideReader object at 0x7f60637dfd40> False (783, 1024)\n",
      "<Slide, name = 0673>, width=1583, height=1210, channels=1, levels=1, RGB=False, dtype=uint8> <valis.slide_io.VipsSlideReader object at 0x7f60637dfe90> False (783, 1024)\n",
      "<Slide, name = 0674>, width=1583, height=1210, channels=1, levels=1, RGB=False, dtype=uint8> <valis.slide_io.VipsSlideReader object at 0x7f60637ef200> False (783, 1024)\n"
     ]
    },
    {
     "name": "stderr",
     "output_type": "stream",
     "text": [
      "Converting images:  26%|██▌       | 675/2624 [00:15<00:43, 44.57image/s]"
     ]
    },
    {
     "name": "stdout",
     "output_type": "stream",
     "text": [
      "<Slide, name = 0675>, width=1583, height=1210, channels=1, levels=1, RGB=False, dtype=uint8> <valis.slide_io.VipsSlideReader object at 0x7f606350f2c0> False (783, 1024)\n",
      "<Slide, name = 0676>, width=1583, height=1210, channels=1, levels=1, RGB=False, dtype=uint8> <valis.slide_io.VipsSlideReader object at 0x7f60637decc0> False (783, 1024)\n",
      "<Slide, name = 0677>, width=1583, height=1210, channels=1, levels=1, RGB=False, dtype=uint8> <valis.slide_io.VipsSlideReader object at 0x7f60637dfcb0> False (783, 1024)\n",
      "<Slide, name = 0678>, width=1583, height=1210, channels=1, levels=1, RGB=False, dtype=uint8> <valis.slide_io.VipsSlideReader object at 0x7f60637bf140> False (783, 1024)\n",
      "<Slide, name = 0679>, width=1583, height=1210, channels=1, levels=1, RGB=False, dtype=uint8> <valis.slide_io.VipsSlideReader object at 0x7f60637ee990> False (783, 1024)\n"
     ]
    },
    {
     "name": "stderr",
     "output_type": "stream",
     "text": [
      "Converting images:  26%|██▌       | 680/2624 [00:15<00:43, 44.44image/s]"
     ]
    },
    {
     "name": "stdout",
     "output_type": "stream",
     "text": [
      "<Slide, name = 0680>, width=1583, height=1210, channels=1, levels=1, RGB=False, dtype=uint8> <valis.slide_io.VipsSlideReader object at 0x7f60637de7e0> False (783, 1024)\n",
      "<Slide, name = 0681>, width=1583, height=1210, channels=1, levels=1, RGB=False, dtype=uint8> <valis.slide_io.VipsSlideReader object at 0x7f60637bec60> False (783, 1024)\n",
      "<Slide, name = 0682>, width=1583, height=1210, channels=1, levels=1, RGB=False, dtype=uint8> <valis.slide_io.VipsSlideReader object at 0x7f60637becf0> False (783, 1024)\n",
      "<Slide, name = 0683>, width=1583, height=1210, channels=1, levels=1, RGB=False, dtype=uint8> <valis.slide_io.VipsSlideReader object at 0x7f60637de450> False (783, 1024)\n",
      "<Slide, name = 0684>, width=1583, height=1210, channels=1, levels=1, RGB=False, dtype=uint8> <valis.slide_io.VipsSlideReader object at 0x7f60637be6c0> False (783, 1024)\n"
     ]
    },
    {
     "name": "stderr",
     "output_type": "stream",
     "text": [
      "Converting images:  26%|██▌       | 685/2624 [00:15<00:43, 44.64image/s]"
     ]
    },
    {
     "name": "stdout",
     "output_type": "stream",
     "text": [
      "<Slide, name = 0685>, width=1583, height=1210, channels=1, levels=1, RGB=False, dtype=uint8> <valis.slide_io.VipsSlideReader object at 0x7f60637fe7b0> False (783, 1024)\n",
      "<Slide, name = 0686>, width=1583, height=1210, channels=1, levels=1, RGB=False, dtype=uint8> <valis.slide_io.VipsSlideReader object at 0x7f60637dea20> False (783, 1024)\n",
      "<Slide, name = 0687>, width=1583, height=1210, channels=1, levels=1, RGB=False, dtype=uint8> <valis.slide_io.VipsSlideReader object at 0x7f606350dca0> False (783, 1024)\n",
      "<Slide, name = 0688>, width=1583, height=1210, channels=1, levels=1, RGB=False, dtype=uint8> <valis.slide_io.VipsSlideReader object at 0x7f60637eddc0> False (783, 1024)\n",
      "<Slide, name = 0689>, width=1583, height=1210, channels=1, levels=1, RGB=False, dtype=uint8> <valis.slide_io.VipsSlideReader object at 0x7f60637ddd00> False (783, 1024)\n"
     ]
    },
    {
     "name": "stderr",
     "output_type": "stream",
     "text": [
      "Converting images:  26%|██▋       | 690/2624 [00:15<00:43, 44.39image/s]"
     ]
    },
    {
     "name": "stdout",
     "output_type": "stream",
     "text": [
      "<Slide, name = 0690>, width=1583, height=1210, channels=1, levels=1, RGB=False, dtype=uint8> <valis.slide_io.VipsSlideReader object at 0x7f60637fe150> False (783, 1024)\n",
      "<Slide, name = 0691>, width=1583, height=1210, channels=1, levels=1, RGB=False, dtype=uint8> <valis.slide_io.VipsSlideReader object at 0x7f60637fe180> False (783, 1024)\n",
      "<Slide, name = 0692>, width=1583, height=1210, channels=1, levels=1, RGB=False, dtype=uint8> <valis.slide_io.VipsSlideReader object at 0x7f60637fe0c0> False (783, 1024)\n",
      "<Slide, name = 0693>, width=1583, height=1210, channels=1, levels=1, RGB=False, dtype=uint8> <valis.slide_io.VipsSlideReader object at 0x7f60637ddee0> False (783, 1024)\n",
      "<Slide, name = 0694>, width=1583, height=1210, channels=1, levels=1, RGB=False, dtype=uint8> <valis.slide_io.VipsSlideReader object at 0x7f60637edcd0> False (783, 1024)\n"
     ]
    },
    {
     "name": "stderr",
     "output_type": "stream",
     "text": [
      "Converting images:  26%|██▋       | 695/2624 [00:15<00:43, 44.74image/s]"
     ]
    },
    {
     "name": "stdout",
     "output_type": "stream",
     "text": [
      "<Slide, name = 0695>, width=1583, height=1210, channels=1, levels=1, RGB=False, dtype=uint8> <valis.slide_io.VipsSlideReader object at 0x7f60637dda00> False (783, 1024)\n",
      "<Slide, name = 0696>, width=1583, height=1210, channels=1, levels=1, RGB=False, dtype=uint8> <valis.slide_io.VipsSlideReader object at 0x7f60637b0fb0> False (783, 1024)\n",
      "<Slide, name = 0697>, width=1583, height=1210, channels=1, levels=1, RGB=False, dtype=uint8> <valis.slide_io.VipsSlideReader object at 0x7f60637ddb50> False (783, 1024)\n",
      "<Slide, name = 0698>, width=1583, height=1210, channels=1, levels=1, RGB=False, dtype=uint8> <valis.slide_io.VipsSlideReader object at 0x7f60637dcce0> False (783, 1024)\n",
      "<Slide, name = 0699>, width=1583, height=1210, channels=1, levels=1, RGB=False, dtype=uint8> <valis.slide_io.VipsSlideReader object at 0x7f60637dd8e0> False (783, 1024)\n"
     ]
    },
    {
     "name": "stderr",
     "output_type": "stream",
     "text": [
      "Converting images:  27%|██▋       | 700/2624 [00:15<00:43, 44.72image/s]"
     ]
    },
    {
     "name": "stdout",
     "output_type": "stream",
     "text": [
      "<Slide, name = 0700>, width=1583, height=1210, channels=1, levels=1, RGB=False, dtype=uint8> <valis.slide_io.VipsSlideReader object at 0x7f60637bc8c0> False (783, 1024)\n",
      "<Slide, name = 0701>, width=1583, height=1210, channels=1, levels=1, RGB=False, dtype=uint8> <valis.slide_io.VipsSlideReader object at 0x7f60637ddd60> False (783, 1024)\n",
      "<Slide, name = 0702>, width=1583, height=1210, channels=1, levels=1, RGB=False, dtype=uint8> <valis.slide_io.VipsSlideReader object at 0x7f60637dd910> False (783, 1024)\n",
      "<Slide, name = 0703>, width=1583, height=1210, channels=1, levels=1, RGB=False, dtype=uint8> <valis.slide_io.VipsSlideReader object at 0x7f60637bcfe0> False (783, 1024)\n",
      "<Slide, name = 0704>, width=1583, height=1210, channels=1, levels=1, RGB=False, dtype=uint8> <valis.slide_io.VipsSlideReader object at 0x7f60637ecf80> False (783, 1024)\n"
     ]
    },
    {
     "name": "stderr",
     "output_type": "stream",
     "text": [
      "Converting images:  27%|██▋       | 705/2624 [00:15<00:42, 44.69image/s]"
     ]
    },
    {
     "name": "stdout",
     "output_type": "stream",
     "text": [
      "<Slide, name = 0705>, width=1583, height=1210, channels=1, levels=1, RGB=False, dtype=uint8> <valis.slide_io.VipsSlideReader object at 0x7f606350c9e0> False (783, 1024)\n",
      "<Slide, name = 0706>, width=1583, height=1210, channels=1, levels=1, RGB=False, dtype=uint8> <valis.slide_io.VipsSlideReader object at 0x7f606350cda0> False (783, 1024)\n",
      "<Slide, name = 0707>, width=1583, height=1210, channels=1, levels=1, RGB=False, dtype=uint8> <valis.slide_io.VipsSlideReader object at 0x7f60637fc3b0> False (783, 1024)\n",
      "<Slide, name = 0708>, width=1583, height=1210, channels=1, levels=1, RGB=False, dtype=uint8> <valis.slide_io.VipsSlideReader object at 0x7f60637bc860> False (783, 1024)\n",
      "<Slide, name = 0709>, width=1583, height=1210, channels=1, levels=1, RGB=False, dtype=uint8> <valis.slide_io.VipsSlideReader object at 0x7f60637dc530> False (783, 1024)\n"
     ]
    },
    {
     "name": "stderr",
     "output_type": "stream",
     "text": [
      "Converting images:  27%|██▋       | 710/2624 [00:15<00:42, 45.09image/s]"
     ]
    },
    {
     "name": "stdout",
     "output_type": "stream",
     "text": [
      "<Slide, name = 0710>, width=1583, height=1210, channels=1, levels=1, RGB=False, dtype=uint8> <valis.slide_io.VipsSlideReader object at 0x7f60637ef650> False (783, 1024)\n",
      "<Slide, name = 0711>, width=1583, height=1210, channels=1, levels=1, RGB=False, dtype=uint8> <valis.slide_io.VipsSlideReader object at 0x7f606bda76e0> False (783, 1024)\n",
      "<Slide, name = 0712>, width=1583, height=1210, channels=1, levels=1, RGB=False, dtype=uint8> <valis.slide_io.VipsSlideReader object at 0x7f60637dc410> False (783, 1024)\n",
      "<Slide, name = 0713>, width=1583, height=1210, channels=1, levels=1, RGB=False, dtype=uint8> <valis.slide_io.VipsSlideReader object at 0x7f60637dc0b0> False (783, 1024)\n",
      "<Slide, name = 0714>, width=1583, height=1210, channels=1, levels=1, RGB=False, dtype=uint8> <valis.slide_io.VipsSlideReader object at 0x7f60637dc5c0> False (783, 1024)\n"
     ]
    },
    {
     "name": "stderr",
     "output_type": "stream",
     "text": [
      "Converting images:  27%|██▋       | 715/2624 [00:16<00:42, 44.65image/s]"
     ]
    },
    {
     "name": "stdout",
     "output_type": "stream",
     "text": [
      "<Slide, name = 0715>, width=1583, height=1210, channels=1, levels=1, RGB=False, dtype=uint8> <valis.slide_io.VipsSlideReader object at 0x7f606350e4e0> False (783, 1024)\n",
      "<Slide, name = 0716>, width=1583, height=1210, channels=1, levels=1, RGB=False, dtype=uint8> <valis.slide_io.VipsSlideReader object at 0x7f60637b1d60> False (783, 1024)\n",
      "<Slide, name = 0717>, width=1583, height=1210, channels=1, levels=1, RGB=False, dtype=uint8> <valis.slide_io.VipsSlideReader object at 0x7f60637b2d80> False (783, 1024)\n",
      "<Slide, name = 0718>, width=1583, height=1210, channels=1, levels=1, RGB=False, dtype=uint8> <valis.slide_io.VipsSlideReader object at 0x7f60637ab7a0> False (783, 1024)\n",
      "<Slide, name = 0719>, width=1583, height=1210, channels=1, levels=1, RGB=False, dtype=uint8> <valis.slide_io.VipsSlideReader object at 0x7f606379a300> False (783, 1024)\n"
     ]
    },
    {
     "name": "stderr",
     "output_type": "stream",
     "text": [
      "Converting images:  27%|██▋       | 720/2624 [00:16<00:44, 42.75image/s]"
     ]
    },
    {
     "name": "stdout",
     "output_type": "stream",
     "text": [
      "<Slide, name = 0720>, width=1583, height=1210, channels=1, levels=1, RGB=False, dtype=uint8> <valis.slide_io.VipsSlideReader object at 0x7f6063799940> False (783, 1024)\n",
      "<Slide, name = 0721>, width=1583, height=1210, channels=1, levels=1, RGB=False, dtype=uint8> <valis.slide_io.VipsSlideReader object at 0x7f60637a98e0> False (783, 1024)\n",
      "<Slide, name = 0722>, width=1583, height=1210, channels=1, levels=1, RGB=False, dtype=uint8> <valis.slide_io.VipsSlideReader object at 0x7f60637ab0e0> False (783, 1024)\n",
      "<Slide, name = 0723>, width=1583, height=1210, channels=1, levels=1, RGB=False, dtype=uint8> <valis.slide_io.VipsSlideReader object at 0x7f60637ab2f0> False (783, 1024)\n",
      "<Slide, name = 0724>, width=1583, height=1210, channels=1, levels=1, RGB=False, dtype=uint8> <valis.slide_io.VipsSlideReader object at 0x7f60635797f0> False (783, 1024)\n"
     ]
    },
    {
     "name": "stderr",
     "output_type": "stream",
     "text": [
      "Converting images:  28%|██▊       | 725/2624 [00:16<00:43, 43.50image/s]"
     ]
    },
    {
     "name": "stdout",
     "output_type": "stream",
     "text": [
      "<Slide, name = 0725>, width=1583, height=1210, channels=1, levels=1, RGB=False, dtype=uint8> <valis.slide_io.VipsSlideReader object at 0x7f60637b2120> False (783, 1024)\n",
      "<Slide, name = 0726>, width=1583, height=1210, channels=1, levels=1, RGB=False, dtype=uint8> <valis.slide_io.VipsSlideReader object at 0x7f60637aa6f0> False (783, 1024)\n",
      "<Slide, name = 0727>, width=1583, height=1210, channels=1, levels=1, RGB=False, dtype=uint8> <valis.slide_io.VipsSlideReader object at 0x7f606354aae0> False (783, 1024)\n",
      "<Slide, name = 0728>, width=1583, height=1210, channels=1, levels=1, RGB=False, dtype=uint8> <valis.slide_io.VipsSlideReader object at 0x7f6063559d00> False (783, 1024)\n",
      "<Slide, name = 0729>, width=1583, height=1210, channels=1, levels=1, RGB=False, dtype=uint8> <valis.slide_io.VipsSlideReader object at 0x7f6063539790> False (783, 1024)\n"
     ]
    },
    {
     "name": "stderr",
     "output_type": "stream",
     "text": [
      "Converting images:  28%|██▊       | 730/2624 [00:16<00:42, 44.19image/s]"
     ]
    },
    {
     "name": "stdout",
     "output_type": "stream",
     "text": [
      "<Slide, name = 0730>, width=1583, height=1210, channels=1, levels=1, RGB=False, dtype=uint8> <valis.slide_io.VipsSlideReader object at 0x7f6063609ee0> False (783, 1024)\n",
      "<Slide, name = 0731>, width=1583, height=1210, channels=1, levels=1, RGB=False, dtype=uint8> <valis.slide_io.VipsSlideReader object at 0x7f60635229c0> False (783, 1024)\n",
      "<Slide, name = 0732>, width=1583, height=1210, channels=1, levels=1, RGB=False, dtype=uint8> <valis.slide_io.VipsSlideReader object at 0x7f60636082f0> False (783, 1024)\n",
      "<Slide, name = 0733>, width=1583, height=1210, channels=1, levels=1, RGB=False, dtype=uint8> <valis.slide_io.VipsSlideReader object at 0x7f60636080b0> False (783, 1024)\n",
      "<Slide, name = 0734>, width=1583, height=1210, channels=1, levels=1, RGB=False, dtype=uint8> <valis.slide_io.VipsSlideReader object at 0x7f60637a9c10> False (783, 1024)\n"
     ]
    },
    {
     "name": "stderr",
     "output_type": "stream",
     "text": [
      "Converting images:  28%|██▊       | 735/2624 [00:16<00:42, 44.33image/s]"
     ]
    },
    {
     "name": "stdout",
     "output_type": "stream",
     "text": [
      "<Slide, name = 0735>, width=1583, height=1210, channels=1, levels=1, RGB=False, dtype=uint8> <valis.slide_io.VipsSlideReader object at 0x7f606355b6b0> False (783, 1024)\n",
      "<Slide, name = 0736>, width=1583, height=1210, channels=1, levels=1, RGB=False, dtype=uint8> <valis.slide_io.VipsSlideReader object at 0x7f60637b3a70> False (783, 1024)\n",
      "<Slide, name = 0737>, width=1583, height=1210, channels=1, levels=1, RGB=False, dtype=uint8> <valis.slide_io.VipsSlideReader object at 0x7f606360be30> False (783, 1024)\n",
      "<Slide, name = 0738>, width=1583, height=1210, channels=1, levels=1, RGB=False, dtype=uint8> <valis.slide_io.VipsSlideReader object at 0x7f60637b2cc0> False (783, 1024)\n",
      "<Slide, name = 0739>, width=1583, height=1210, channels=1, levels=1, RGB=False, dtype=uint8> <valis.slide_io.VipsSlideReader object at 0x7f60637b3230> False (783, 1024)\n"
     ]
    },
    {
     "name": "stderr",
     "output_type": "stream",
     "text": [
      "Converting images:  28%|██▊       | 740/2624 [00:16<00:42, 44.54image/s]"
     ]
    },
    {
     "name": "stdout",
     "output_type": "stream",
     "text": [
      "<Slide, name = 0740>, width=1583, height=1210, channels=1, levels=1, RGB=False, dtype=uint8> <valis.slide_io.VipsSlideReader object at 0x7f60637aa3c0> False (783, 1024)\n",
      "<Slide, name = 0741>, width=1583, height=1210, channels=1, levels=1, RGB=False, dtype=uint8> <valis.slide_io.VipsSlideReader object at 0x7f6063558800> False (783, 1024)\n",
      "<Slide, name = 0742>, width=1583, height=1210, channels=1, levels=1, RGB=False, dtype=uint8> <valis.slide_io.VipsSlideReader object at 0x7f60637abfe0> False (783, 1024)\n",
      "<Slide, name = 0743>, width=1583, height=1210, channels=1, levels=1, RGB=False, dtype=uint8> <valis.slide_io.VipsSlideReader object at 0x7f60637c3fb0> False (783, 1024)\n",
      "<Slide, name = 0744>, width=1583, height=1210, channels=1, levels=1, RGB=False, dtype=uint8> <valis.slide_io.VipsSlideReader object at 0x7f606355bcb0> False (783, 1024)\n"
     ]
    },
    {
     "name": "stderr",
     "output_type": "stream",
     "text": [
      "Converting images:  28%|██▊       | 745/2624 [00:16<00:42, 44.54image/s]"
     ]
    },
    {
     "name": "stdout",
     "output_type": "stream",
     "text": [
      "<Slide, name = 0745>, width=1583, height=1210, channels=1, levels=1, RGB=False, dtype=uint8> <valis.slide_io.VipsSlideReader object at 0x7f60635236e0> False (783, 1024)\n",
      "<Slide, name = 0746>, width=1583, height=1210, channels=1, levels=1, RGB=False, dtype=uint8> <valis.slide_io.VipsSlideReader object at 0x7f60637abb30> False (783, 1024)\n",
      "<Slide, name = 0747>, width=1583, height=1210, channels=1, levels=1, RGB=False, dtype=uint8> <valis.slide_io.VipsSlideReader object at 0x7f6063523680> False (783, 1024)\n",
      "<Slide, name = 0748>, width=1583, height=1210, channels=1, levels=1, RGB=False, dtype=uint8> <valis.slide_io.VipsSlideReader object at 0x7f60637c3380> False (783, 1024)\n",
      "<Slide, name = 0749>, width=1583, height=1210, channels=1, levels=1, RGB=False, dtype=uint8> <valis.slide_io.VipsSlideReader object at 0x7f60637b3da0> False (783, 1024)\n"
     ]
    },
    {
     "name": "stderr",
     "output_type": "stream",
     "text": [
      "Converting images:  29%|██▊       | 750/2624 [00:16<00:42, 44.48image/s]"
     ]
    },
    {
     "name": "stdout",
     "output_type": "stream",
     "text": [
      "<Slide, name = 0750>, width=1583, height=1210, channels=1, levels=1, RGB=False, dtype=uint8> <valis.slide_io.VipsSlideReader object at 0x7f6063523ce0> False (783, 1024)\n",
      "<Slide, name = 0751>, width=1583, height=1210, channels=1, levels=1, RGB=False, dtype=uint8> <valis.slide_io.VipsSlideReader object at 0x7f60637b3710> False (783, 1024)\n",
      "<Slide, name = 0752>, width=1583, height=1210, channels=1, levels=1, RGB=False, dtype=uint8> <valis.slide_io.VipsSlideReader object at 0x7f60637aaf60> False (783, 1024)\n",
      "<Slide, name = 0753>, width=1583, height=1210, channels=1, levels=1, RGB=False, dtype=uint8> <valis.slide_io.VipsSlideReader object at 0x7f606379abd0> False (783, 1024)\n",
      "<Slide, name = 0754>, width=1583, height=1210, channels=1, levels=1, RGB=False, dtype=uint8> <valis.slide_io.VipsSlideReader object at 0x7f60637aad50> False (783, 1024)\n"
     ]
    },
    {
     "name": "stderr",
     "output_type": "stream",
     "text": [
      "Converting images:  29%|██▉       | 755/2624 [00:16<00:41, 44.51image/s]"
     ]
    },
    {
     "name": "stdout",
     "output_type": "stream",
     "text": [
      "<Slide, name = 0755>, width=1583, height=1210, channels=1, levels=1, RGB=False, dtype=uint8> <valis.slide_io.VipsSlideReader object at 0x7f6063549370> False (783, 1024)\n",
      "<Slide, name = 0756>, width=1583, height=1210, channels=1, levels=1, RGB=False, dtype=uint8> <valis.slide_io.VipsSlideReader object at 0x7f6063558c50> False (783, 1024)\n",
      "<Slide, name = 0757>, width=1583, height=1210, channels=1, levels=1, RGB=False, dtype=uint8> <valis.slide_io.VipsSlideReader object at 0x7f606379b050> False (783, 1024)\n",
      "<Slide, name = 0758>, width=1583, height=1210, channels=1, levels=1, RGB=False, dtype=uint8> <valis.slide_io.VipsSlideReader object at 0x7f606353ab70> False (783, 1024)\n",
      "<Slide, name = 0759>, width=1583, height=1210, channels=1, levels=1, RGB=False, dtype=uint8> <valis.slide_io.VipsSlideReader object at 0x7f606379ae10> False (783, 1024)\n"
     ]
    },
    {
     "name": "stderr",
     "output_type": "stream",
     "text": [
      "Converting images:  29%|██▉       | 760/2624 [00:17<00:41, 44.44image/s]"
     ]
    },
    {
     "name": "stdout",
     "output_type": "stream",
     "text": [
      "<Slide, name = 0760>, width=1583, height=1210, channels=1, levels=1, RGB=False, dtype=uint8> <valis.slide_io.VipsSlideReader object at 0x7f606353a570> False (783, 1024)\n",
      "<Slide, name = 0761>, width=1583, height=1210, channels=1, levels=1, RGB=False, dtype=uint8> <valis.slide_io.VipsSlideReader object at 0x7f60637b32c0> False (783, 1024)\n",
      "<Slide, name = 0762>, width=1583, height=1210, channels=1, levels=1, RGB=False, dtype=uint8> <valis.slide_io.VipsSlideReader object at 0x7f606355a4e0> False (783, 1024)\n",
      "<Slide, name = 0763>, width=1583, height=1210, channels=1, levels=1, RGB=False, dtype=uint8> <valis.slide_io.VipsSlideReader object at 0x7f606360a150> False (783, 1024)\n",
      "<Slide, name = 0764>, width=1583, height=1210, channels=1, levels=1, RGB=False, dtype=uint8> <valis.slide_io.VipsSlideReader object at 0x7f60637b21b0> False (783, 1024)\n"
     ]
    },
    {
     "name": "stderr",
     "output_type": "stream",
     "text": [
      "Converting images:  29%|██▉       | 765/2624 [00:17<00:42, 44.24image/s]"
     ]
    },
    {
     "name": "stdout",
     "output_type": "stream",
     "text": [
      "<Slide, name = 0765>, width=1583, height=1210, channels=1, levels=1, RGB=False, dtype=uint8> <valis.slide_io.VipsSlideReader object at 0x7f60637b1f10> False (783, 1024)\n",
      "<Slide, name = 0766>, width=1583, height=1210, channels=1, levels=1, RGB=False, dtype=uint8> <valis.slide_io.VipsSlideReader object at 0x7f60637aa5d0> False (783, 1024)\n",
      "<Slide, name = 0767>, width=1583, height=1210, channels=1, levels=1, RGB=False, dtype=uint8> <valis.slide_io.VipsSlideReader object at 0x7f6063539cd0> False (783, 1024)\n",
      "<Slide, name = 0768>, width=1583, height=1210, channels=1, levels=1, RGB=False, dtype=uint8> <valis.slide_io.VipsSlideReader object at 0x7f606353a600> False (783, 1024)\n",
      "<Slide, name = 0769>, width=1583, height=1210, channels=1, levels=1, RGB=False, dtype=uint8> <valis.slide_io.VipsSlideReader object at 0x7f6063522690> False (783, 1024)\n"
     ]
    },
    {
     "name": "stderr",
     "output_type": "stream",
     "text": [
      "Converting images:  29%|██▉       | 770/2624 [00:17<00:41, 44.52image/s]"
     ]
    },
    {
     "name": "stdout",
     "output_type": "stream",
     "text": [
      "<Slide, name = 0770>, width=1583, height=1210, channels=1, levels=1, RGB=False, dtype=uint8> <valis.slide_io.VipsSlideReader object at 0x7f60637aa390> False (783, 1024)\n",
      "<Slide, name = 0771>, width=1583, height=1210, channels=1, levels=1, RGB=False, dtype=uint8> <valis.slide_io.VipsSlideReader object at 0x7f60637aa0c0> False (783, 1024)\n",
      "<Slide, name = 0772>, width=1583, height=1210, channels=1, levels=1, RGB=False, dtype=uint8> <valis.slide_io.VipsSlideReader object at 0x7f60637aa420> False (783, 1024)\n",
      "<Slide, name = 0773>, width=1583, height=1210, channels=1, levels=1, RGB=False, dtype=uint8> <valis.slide_io.VipsSlideReader object at 0x7f60637a9ca0> False (783, 1024)\n",
      "<Slide, name = 0774>, width=1583, height=1210, channels=1, levels=1, RGB=False, dtype=uint8> <valis.slide_io.VipsSlideReader object at 0x7f60637b1fd0> False (783, 1024)\n"
     ]
    },
    {
     "name": "stderr",
     "output_type": "stream",
     "text": [
      "Converting images:  30%|██▉       | 775/2624 [00:17<00:41, 44.51image/s]"
     ]
    },
    {
     "name": "stdout",
     "output_type": "stream",
     "text": [
      "<Slide, name = 0775>, width=1583, height=1210, channels=1, levels=1, RGB=False, dtype=uint8> <valis.slide_io.VipsSlideReader object at 0x7f60637b0e90> False (783, 1024)\n",
      "<Slide, name = 0776>, width=1583, height=1210, channels=1, levels=1, RGB=False, dtype=uint8> <valis.slide_io.VipsSlideReader object at 0x7f6063539490> False (783, 1024)\n",
      "<Slide, name = 0777>, width=1583, height=1210, channels=1, levels=1, RGB=False, dtype=uint8> <valis.slide_io.VipsSlideReader object at 0x7f60637c1df0> False (783, 1024)\n",
      "<Slide, name = 0778>, width=1583, height=1210, channels=1, levels=1, RGB=False, dtype=uint8> <valis.slide_io.VipsSlideReader object at 0x7f6063799b50> False (783, 1024)\n",
      "<Slide, name = 0779>, width=1583, height=1210, channels=1, levels=1, RGB=False, dtype=uint8> <valis.slide_io.VipsSlideReader object at 0x7f6063798b90> False (783, 1024)\n"
     ]
    },
    {
     "name": "stderr",
     "output_type": "stream",
     "text": [
      "Converting images:  30%|██▉       | 780/2624 [00:17<00:41, 44.37image/s]"
     ]
    },
    {
     "name": "stdout",
     "output_type": "stream",
     "text": [
      "<Slide, name = 0780>, width=1583, height=1210, channels=1, levels=1, RGB=False, dtype=uint8> <valis.slide_io.VipsSlideReader object at 0x7f6063521010> False (783, 1024)\n",
      "<Slide, name = 0781>, width=1583, height=1210, channels=1, levels=1, RGB=False, dtype=uint8> <valis.slide_io.VipsSlideReader object at 0x7f6063609070> False (783, 1024)\n",
      "<Slide, name = 0782>, width=1583, height=1210, channels=1, levels=1, RGB=False, dtype=uint8> <valis.slide_io.VipsSlideReader object at 0x7f60637992e0> False (783, 1024)\n",
      "<Slide, name = 0783>, width=1583, height=1210, channels=1, levels=1, RGB=False, dtype=uint8> <valis.slide_io.VipsSlideReader object at 0x7f6063520f80> False (783, 1024)\n",
      "<Slide, name = 0784>, width=1583, height=1210, channels=1, levels=1, RGB=False, dtype=uint8> <valis.slide_io.VipsSlideReader object at 0x7f6063799760> False (783, 1024)\n"
     ]
    },
    {
     "name": "stderr",
     "output_type": "stream",
     "text": [
      "Converting images:  30%|██▉       | 785/2624 [00:17<00:41, 44.51image/s]"
     ]
    },
    {
     "name": "stdout",
     "output_type": "stream",
     "text": [
      "<Slide, name = 0785>, width=1583, height=1210, channels=1, levels=1, RGB=False, dtype=uint8> <valis.slide_io.VipsSlideReader object at 0x7f6063520da0> False (783, 1024)\n",
      "<Slide, name = 0786>, width=1583, height=1210, channels=1, levels=1, RGB=False, dtype=uint8> <valis.slide_io.VipsSlideReader object at 0x7f60637a96a0> False (783, 1024)\n",
      "<Slide, name = 0787>, width=1583, height=1210, channels=1, levels=1, RGB=False, dtype=uint8> <valis.slide_io.VipsSlideReader object at 0x7f6063538b00> False (783, 1024)\n",
      "<Slide, name = 0788>, width=1583, height=1210, channels=1, levels=1, RGB=False, dtype=uint8> <valis.slide_io.VipsSlideReader object at 0x7f6063608680> False (783, 1024)\n",
      "<Slide, name = 0789>, width=1583, height=1210, channels=1, levels=1, RGB=False, dtype=uint8> <valis.slide_io.VipsSlideReader object at 0x7f60637b05f0> False (783, 1024)\n"
     ]
    },
    {
     "name": "stderr",
     "output_type": "stream",
     "text": [
      "Converting images:  30%|███       | 790/2624 [00:17<00:40, 44.81image/s]"
     ]
    },
    {
     "name": "stdout",
     "output_type": "stream",
     "text": [
      "<Slide, name = 0790>, width=1583, height=1210, channels=1, levels=1, RGB=False, dtype=uint8> <valis.slide_io.VipsSlideReader object at 0x7f60637a8860> False (783, 1024)\n",
      "<Slide, name = 0791>, width=1583, height=1210, channels=1, levels=1, RGB=False, dtype=uint8> <valis.slide_io.VipsSlideReader object at 0x7f60636e8350> False (783, 1024)\n",
      "<Slide, name = 0792>, width=1583, height=1210, channels=1, levels=1, RGB=False, dtype=uint8> <valis.slide_io.VipsSlideReader object at 0x7f60637a8c20> False (783, 1024)\n",
      "<Slide, name = 0793>, width=1583, height=1210, channels=1, levels=1, RGB=False, dtype=uint8> <valis.slide_io.VipsSlideReader object at 0x7f60637b0b60> False (783, 1024)\n",
      "<Slide, name = 0794>, width=1583, height=1210, channels=1, levels=1, RGB=False, dtype=uint8> <valis.slide_io.VipsSlideReader object at 0x7f6063798590> False (783, 1024)\n"
     ]
    },
    {
     "name": "stderr",
     "output_type": "stream",
     "text": [
      "Converting images:  30%|███       | 795/2624 [00:17<00:40, 44.79image/s]"
     ]
    },
    {
     "name": "stdout",
     "output_type": "stream",
     "text": [
      "<Slide, name = 0795>, width=1583, height=1210, channels=1, levels=1, RGB=False, dtype=uint8> <valis.slide_io.VipsSlideReader object at 0x7f60637b03e0> False (783, 1024)\n",
      "<Slide, name = 0796>, width=1583, height=1210, channels=1, levels=1, RGB=False, dtype=uint8> <valis.slide_io.VipsSlideReader object at 0x7f6063798aa0> False (783, 1024)\n",
      "<Slide, name = 0797>, width=1583, height=1210, channels=1, levels=1, RGB=False, dtype=uint8> <valis.slide_io.VipsSlideReader object at 0x7f60637b0050> False (783, 1024)\n",
      "<Slide, name = 0798>, width=1583, height=1210, channels=1, levels=1, RGB=False, dtype=uint8> <valis.slide_io.VipsSlideReader object at 0x7f6063798b60> False (783, 1024)\n",
      "<Slide, name = 0799>, width=1583, height=1210, channels=1, levels=1, RGB=False, dtype=uint8> <valis.slide_io.VipsSlideReader object at 0x7f6063609e80> False (783, 1024)\n"
     ]
    },
    {
     "name": "stderr",
     "output_type": "stream",
     "text": [
      "Converting images:  30%|███       | 800/2624 [00:17<00:40, 44.88image/s]"
     ]
    },
    {
     "name": "stdout",
     "output_type": "stream",
     "text": [
      "<Slide, name = 0800>, width=1583, height=1210, channels=1, levels=1, RGB=False, dtype=uint8> <valis.slide_io.VipsSlideReader object at 0x7f6063798b00> False (783, 1024)\n",
      "<Slide, name = 0801>, width=1583, height=1210, channels=1, levels=1, RGB=False, dtype=uint8> <valis.slide_io.VipsSlideReader object at 0x7f606360b920> False (783, 1024)\n",
      "<Slide, name = 0802>, width=1583, height=1210, channels=1, levels=1, RGB=False, dtype=uint8> <valis.slide_io.VipsSlideReader object at 0x7f6063538500> False (783, 1024)\n",
      "<Slide, name = 0803>, width=1583, height=1210, channels=1, levels=1, RGB=False, dtype=uint8> <valis.slide_io.VipsSlideReader object at 0x7f6063792660> False (783, 1024)\n",
      "<Slide, name = 0804>, width=1583, height=1210, channels=1, levels=1, RGB=False, dtype=uint8> <valis.slide_io.VipsSlideReader object at 0x7f6063790a70> False (783, 1024)\n"
     ]
    },
    {
     "name": "stderr",
     "output_type": "stream",
     "text": [
      "Converting images:  31%|███       | 805/2624 [00:18<00:40, 44.90image/s]"
     ]
    },
    {
     "name": "stdout",
     "output_type": "stream",
     "text": [
      "<Slide, name = 0805>, width=1583, height=1210, channels=1, levels=1, RGB=False, dtype=uint8> <valis.slide_io.VipsSlideReader object at 0x7f60637eda30> False (783, 1024)\n",
      "<Slide, name = 0806>, width=1583, height=1210, channels=1, levels=1, RGB=False, dtype=uint8> <valis.slide_io.VipsSlideReader object at 0x7f60637b2fc0> False (783, 1024)\n",
      "<Slide, name = 0807>, width=1583, height=1210, channels=1, levels=1, RGB=False, dtype=uint8> <valis.slide_io.VipsSlideReader object at 0x7f606bdc72c0> False (783, 1024)\n",
      "<Slide, name = 0808>, width=1583, height=1210, channels=1, levels=1, RGB=False, dtype=uint8> <valis.slide_io.VipsSlideReader object at 0x7f606b7a10d0> False (783, 1024)\n",
      "<Slide, name = 0809>, width=1583, height=1210, channels=1, levels=1, RGB=False, dtype=uint8> <valis.slide_io.VipsSlideReader object at 0x7f60637ecdd0> False (783, 1024)\n"
     ]
    },
    {
     "name": "stderr",
     "output_type": "stream",
     "text": [
      "Converting images:  31%|███       | 810/2624 [00:18<00:41, 44.15image/s]"
     ]
    },
    {
     "name": "stdout",
     "output_type": "stream",
     "text": [
      "<Slide, name = 0810>, width=1583, height=1210, channels=1, levels=1, RGB=False, dtype=uint8> <valis.slide_io.VipsSlideReader object at 0x7f6063790f50> False (783, 1024)\n",
      "<Slide, name = 0811>, width=1583, height=1210, channels=1, levels=1, RGB=False, dtype=uint8> <valis.slide_io.VipsSlideReader object at 0x7f6063791970> False (783, 1024)\n",
      "<Slide, name = 0812>, width=1583, height=1210, channels=1, levels=1, RGB=False, dtype=uint8> <valis.slide_io.VipsSlideReader object at 0x7f60637451f0> False (783, 1024)\n",
      "<Slide, name = 0813>, width=1583, height=1210, channels=1, levels=1, RGB=False, dtype=uint8> <valis.slide_io.VipsSlideReader object at 0x7f60637ee240> False (783, 1024)\n",
      "<Slide, name = 0814>, width=1583, height=1210, channels=1, levels=1, RGB=False, dtype=uint8> <valis.slide_io.VipsSlideReader object at 0x7f6063745160> False (783, 1024)\n"
     ]
    },
    {
     "name": "stderr",
     "output_type": "stream",
     "text": [
      "Converting images:  31%|███       | 815/2624 [00:18<00:41, 43.58image/s]"
     ]
    },
    {
     "name": "stdout",
     "output_type": "stream",
     "text": [
      "<Slide, name = 0815>, width=1583, height=1210, channels=1, levels=1, RGB=False, dtype=uint8> <valis.slide_io.VipsSlideReader object at 0x7f60637fe3f0> False (783, 1024)\n",
      "<Slide, name = 0816>, width=1583, height=1210, channels=1, levels=1, RGB=False, dtype=uint8> <valis.slide_io.VipsSlideReader object at 0x7f60637dcbf0> False (783, 1024)\n",
      "<Slide, name = 0817>, width=1583, height=1210, channels=1, levels=1, RGB=False, dtype=uint8> <valis.slide_io.VipsSlideReader object at 0x7f60637bef90> False (783, 1024)\n",
      "<Slide, name = 0818>, width=1583, height=1210, channels=1, levels=1, RGB=False, dtype=uint8> <valis.slide_io.VipsSlideReader object at 0x7f60637472f0> False (783, 1024)\n",
      "<Slide, name = 0819>, width=1583, height=1210, channels=1, levels=1, RGB=False, dtype=uint8> <valis.slide_io.VipsSlideReader object at 0x7f60637de180> False (783, 1024)\n"
     ]
    },
    {
     "name": "stderr",
     "output_type": "stream",
     "text": [
      "Converting images:  31%|███▏      | 820/2624 [00:18<00:41, 43.33image/s]"
     ]
    },
    {
     "name": "stdout",
     "output_type": "stream",
     "text": [
      "<Slide, name = 0820>, width=1583, height=1210, channels=1, levels=1, RGB=False, dtype=uint8> <valis.slide_io.VipsSlideReader object at 0x7f606b76d2b0> False (783, 1024)\n",
      "<Slide, name = 0821>, width=1583, height=1210, channels=1, levels=1, RGB=False, dtype=uint8> <valis.slide_io.VipsSlideReader object at 0x7f606b78f0e0> False (783, 1024)\n",
      "<Slide, name = 0822>, width=1583, height=1210, channels=1, levels=1, RGB=False, dtype=uint8> <valis.slide_io.VipsSlideReader object at 0x7f60637df560> False (783, 1024)\n",
      "<Slide, name = 0823>, width=1583, height=1210, channels=1, levels=1, RGB=False, dtype=uint8> <valis.slide_io.VipsSlideReader object at 0x7f6063747830> False (783, 1024)\n",
      "<Slide, name = 0824>, width=1583, height=1210, channels=1, levels=1, RGB=False, dtype=uint8> <valis.slide_io.VipsSlideReader object at 0x7f60637dc110> False (783, 1024)\n"
     ]
    },
    {
     "name": "stderr",
     "output_type": "stream",
     "text": [
      "Converting images:  31%|███▏      | 825/2624 [00:18<00:42, 42.30image/s]"
     ]
    },
    {
     "name": "stdout",
     "output_type": "stream",
     "text": [
      "<Slide, name = 0825>, width=1583, height=1210, channels=1, levels=1, RGB=False, dtype=uint8> <valis.slide_io.VipsSlideReader object at 0x7f6063765a30> False (783, 1024)\n",
      "<Slide, name = 0826>, width=1583, height=1210, channels=1, levels=1, RGB=False, dtype=uint8> <valis.slide_io.VipsSlideReader object at 0x7f60637dd610> False (783, 1024)\n",
      "<Slide, name = 0827>, width=1583, height=1210, channels=1, levels=1, RGB=False, dtype=uint8> <valis.slide_io.VipsSlideReader object at 0x7f60637447a0> False (783, 1024)\n",
      "<Slide, name = 0828>, width=1583, height=1210, channels=1, levels=1, RGB=False, dtype=uint8> <valis.slide_io.VipsSlideReader object at 0x7f60637dd040> False (783, 1024)\n",
      "<Slide, name = 0829>, width=1583, height=1210, channels=1, levels=1, RGB=False, dtype=uint8> <valis.slide_io.VipsSlideReader object at 0x7f60637dce60> False (783, 1024)\n"
     ]
    },
    {
     "name": "stderr",
     "output_type": "stream",
     "text": [
      "Converting images:  32%|███▏      | 830/2624 [00:18<00:42, 42.29image/s]"
     ]
    },
    {
     "name": "stdout",
     "output_type": "stream",
     "text": [
      "<Slide, name = 0830>, width=1583, height=1210, channels=1, levels=1, RGB=False, dtype=uint8> <valis.slide_io.VipsSlideReader object at 0x7f60637dcc80> False (783, 1024)\n",
      "<Slide, name = 0831>, width=1583, height=1210, channels=1, levels=1, RGB=False, dtype=uint8> <valis.slide_io.VipsSlideReader object at 0x7f606350d2e0> False (783, 1024)\n",
      "<Slide, name = 0832>, width=1583, height=1210, channels=1, levels=1, RGB=False, dtype=uint8> <valis.slide_io.VipsSlideReader object at 0x7f60637dcda0> False (783, 1024)\n",
      "<Slide, name = 0833>, width=1583, height=1210, channels=1, levels=1, RGB=False, dtype=uint8> <valis.slide_io.VipsSlideReader object at 0x7f60637dd310> False (783, 1024)\n",
      "<Slide, name = 0834>, width=1583, height=1210, channels=1, levels=1, RGB=False, dtype=uint8> <valis.slide_io.VipsSlideReader object at 0x7f60637bd100> False (783, 1024)\n"
     ]
    },
    {
     "name": "stderr",
     "output_type": "stream",
     "text": [
      "Converting images:  32%|███▏      | 835/2624 [00:18<00:42, 41.73image/s]"
     ]
    },
    {
     "name": "stdout",
     "output_type": "stream",
     "text": [
      "<Slide, name = 0835>, width=1583, height=1210, channels=1, levels=1, RGB=False, dtype=uint8> <valis.slide_io.VipsSlideReader object at 0x7f60637ed580> False (783, 1024)\n",
      "<Slide, name = 0836>, width=1583, height=1210, channels=1, levels=1, RGB=False, dtype=uint8> <valis.slide_io.VipsSlideReader object at 0x7f60637ddc10> False (783, 1024)\n",
      "<Slide, name = 0837>, width=1583, height=1210, channels=1, levels=1, RGB=False, dtype=uint8> <valis.slide_io.VipsSlideReader object at 0x7f60637454f0> False (783, 1024)\n",
      "<Slide, name = 0838>, width=1583, height=1210, channels=1, levels=1, RGB=False, dtype=uint8> <valis.slide_io.VipsSlideReader object at 0x7f60637ed9a0> False (783, 1024)\n",
      "<Slide, name = 0839>, width=1583, height=1210, channels=1, levels=1, RGB=False, dtype=uint8> <valis.slide_io.VipsSlideReader object at 0x7f6063745b80> False (783, 1024)\n"
     ]
    },
    {
     "name": "stderr",
     "output_type": "stream",
     "text": [
      "Converting images:  32%|███▏      | 840/2624 [00:18<00:42, 41.85image/s]"
     ]
    },
    {
     "name": "stdout",
     "output_type": "stream",
     "text": [
      "<Slide, name = 0840>, width=1583, height=1210, channels=1, levels=1, RGB=False, dtype=uint8> <valis.slide_io.VipsSlideReader object at 0x7f6063745280> False (783, 1024)\n",
      "<Slide, name = 0841>, width=1583, height=1210, channels=1, levels=1, RGB=False, dtype=uint8> <valis.slide_io.VipsSlideReader object at 0x7f60637ed760> False (783, 1024)\n",
      "<Slide, name = 0842>, width=1583, height=1210, channels=1, levels=1, RGB=False, dtype=uint8> <valis.slide_io.VipsSlideReader object at 0x7f60637ed8e0> False (783, 1024)\n",
      "<Slide, name = 0843>, width=1583, height=1210, channels=1, levels=1, RGB=False, dtype=uint8> <valis.slide_io.VipsSlideReader object at 0x7f606350dee0> False (783, 1024)\n",
      "<Slide, name = 0844>, width=1583, height=1210, channels=1, levels=1, RGB=False, dtype=uint8> <valis.slide_io.VipsSlideReader object at 0x7f60637de0c0> False (783, 1024)\n"
     ]
    },
    {
     "name": "stderr",
     "output_type": "stream",
     "text": [
      "Converting images:  32%|███▏      | 845/2624 [00:19<00:42, 42.06image/s]"
     ]
    },
    {
     "name": "stdout",
     "output_type": "stream",
     "text": [
      "<Slide, name = 0845>, width=1583, height=1210, channels=1, levels=1, RGB=False, dtype=uint8> <valis.slide_io.VipsSlideReader object at 0x7f60637eddf0> False (783, 1024)\n",
      "<Slide, name = 0846>, width=1583, height=1210, channels=1, levels=1, RGB=False, dtype=uint8> <valis.slide_io.VipsSlideReader object at 0x7f60637bdd00> False (783, 1024)\n",
      "<Slide, name = 0847>, width=1583, height=1210, channels=1, levels=1, RGB=False, dtype=uint8> <valis.slide_io.VipsSlideReader object at 0x7f60637ee270> False (783, 1024)\n",
      "<Slide, name = 0848>, width=1583, height=1210, channels=1, levels=1, RGB=False, dtype=uint8> <valis.slide_io.VipsSlideReader object at 0x7f60637be360> False (783, 1024)\n",
      "<Slide, name = 0849>, width=1583, height=1210, channels=1, levels=1, RGB=False, dtype=uint8> <valis.slide_io.VipsSlideReader object at 0x7f6063746480> False (783, 1024)\n"
     ]
    },
    {
     "name": "stderr",
     "output_type": "stream",
     "text": [
      "Converting images:  32%|███▏      | 850/2624 [00:19<00:42, 42.20image/s]"
     ]
    },
    {
     "name": "stdout",
     "output_type": "stream",
     "text": [
      "<Slide, name = 0850>, width=1583, height=1210, channels=1, levels=1, RGB=False, dtype=uint8> <valis.slide_io.VipsSlideReader object at 0x7f6063745dc0> False (783, 1024)\n",
      "<Slide, name = 0851>, width=1583, height=1210, channels=1, levels=1, RGB=False, dtype=uint8> <valis.slide_io.VipsSlideReader object at 0x7f6063745e20> False (783, 1024)\n",
      "<Slide, name = 0852>, width=1583, height=1210, channels=1, levels=1, RGB=False, dtype=uint8> <valis.slide_io.VipsSlideReader object at 0x7f60637462a0> False (783, 1024)\n",
      "<Slide, name = 0853>, width=1583, height=1210, channels=1, levels=1, RGB=False, dtype=uint8> <valis.slide_io.VipsSlideReader object at 0x7f60637be780> False (783, 1024)\n",
      "<Slide, name = 0854>, width=1583, height=1210, channels=1, levels=1, RGB=False, dtype=uint8> <valis.slide_io.VipsSlideReader object at 0x7f6063746390> False (783, 1024)\n"
     ]
    },
    {
     "name": "stderr",
     "output_type": "stream",
     "text": [
      "Converting images:  33%|███▎      | 855/2624 [00:19<00:43, 40.91image/s]"
     ]
    },
    {
     "name": "stdout",
     "output_type": "stream",
     "text": [
      "<Slide, name = 0855>, width=1583, height=1210, channels=1, levels=1, RGB=False, dtype=uint8> <valis.slide_io.VipsSlideReader object at 0x7f60637de990> False (783, 1024)\n",
      "<Slide, name = 0856>, width=1583, height=1210, channels=1, levels=1, RGB=False, dtype=uint8> <valis.slide_io.VipsSlideReader object at 0x7f60637468d0> False (783, 1024)\n",
      "<Slide, name = 0857>, width=1583, height=1210, channels=1, levels=1, RGB=False, dtype=uint8> <valis.slide_io.VipsSlideReader object at 0x7f60637464e0> False (783, 1024)\n",
      "<Slide, name = 0858>, width=1583, height=1210, channels=1, levels=1, RGB=False, dtype=uint8> <valis.slide_io.VipsSlideReader object at 0x7f60637decf0> False (783, 1024)\n",
      "<Slide, name = 0859>, width=1583, height=1210, channels=1, levels=1, RGB=False, dtype=uint8> <valis.slide_io.VipsSlideReader object at 0x7f60637deba0> False (783, 1024)\n"
     ]
    },
    {
     "name": "stderr",
     "output_type": "stream",
     "text": [
      "Converting images:  33%|███▎      | 860/2624 [00:19<00:42, 41.35image/s]"
     ]
    },
    {
     "name": "stdout",
     "output_type": "stream",
     "text": [
      "<Slide, name = 0860>, width=1583, height=1210, channels=1, levels=1, RGB=False, dtype=uint8> <valis.slide_io.VipsSlideReader object at 0x7f60637dee10> False (783, 1024)\n",
      "<Slide, name = 0861>, width=1583, height=1210, channels=1, levels=1, RGB=False, dtype=uint8> <valis.slide_io.VipsSlideReader object at 0x7f6063746a50> False (783, 1024)\n",
      "<Slide, name = 0862>, width=1583, height=1210, channels=1, levels=1, RGB=False, dtype=uint8> <valis.slide_io.VipsSlideReader object at 0x7f6063747080> False (783, 1024)\n",
      "<Slide, name = 0863>, width=1583, height=1210, channels=1, levels=1, RGB=False, dtype=uint8> <valis.slide_io.VipsSlideReader object at 0x7f60637bf380> False (783, 1024)\n",
      "<Slide, name = 0864>, width=1583, height=1210, channels=1, levels=1, RGB=False, dtype=uint8> <valis.slide_io.VipsSlideReader object at 0x7f60637ef500> False (783, 1024)\n"
     ]
    },
    {
     "name": "stderr",
     "output_type": "stream",
     "text": [
      "Converting images:  33%|███▎      | 865/2624 [00:19<00:41, 41.94image/s]"
     ]
    },
    {
     "name": "stdout",
     "output_type": "stream",
     "text": [
      "<Slide, name = 0865>, width=1583, height=1210, channels=1, levels=1, RGB=False, dtype=uint8> <valis.slide_io.VipsSlideReader object at 0x7f60637475f0> False (783, 1024)\n",
      "<Slide, name = 0866>, width=1583, height=1210, channels=1, levels=1, RGB=False, dtype=uint8> <valis.slide_io.VipsSlideReader object at 0x7f60637bf980> False (783, 1024)\n",
      "<Slide, name = 0867>, width=1583, height=1210, channels=1, levels=1, RGB=False, dtype=uint8> <valis.slide_io.VipsSlideReader object at 0x7f6063747440> False (783, 1024)\n",
      "<Slide, name = 0868>, width=1583, height=1210, channels=1, levels=1, RGB=False, dtype=uint8> <valis.slide_io.VipsSlideReader object at 0x7f60637ef320> False (783, 1024)\n",
      "<Slide, name = 0869>, width=1583, height=1210, channels=1, levels=1, RGB=False, dtype=uint8> <valis.slide_io.VipsSlideReader object at 0x7f60637471d0> False (783, 1024)\n"
     ]
    },
    {
     "name": "stderr",
     "output_type": "stream",
     "text": [
      "Converting images:  33%|███▎      | 870/2624 [00:19<00:41, 42.13image/s]"
     ]
    },
    {
     "name": "stdout",
     "output_type": "stream",
     "text": [
      "<Slide, name = 0870>, width=1583, height=1210, channels=1, levels=1, RGB=False, dtype=uint8> <valis.slide_io.VipsSlideReader object at 0x7f60637bf950> False (783, 1024)\n",
      "<Slide, name = 0871>, width=1583, height=1210, channels=1, levels=1, RGB=False, dtype=uint8> <valis.slide_io.VipsSlideReader object at 0x7f60637df140> False (783, 1024)\n",
      "<Slide, name = 0872>, width=1583, height=1210, channels=1, levels=1, RGB=False, dtype=uint8> <valis.slide_io.VipsSlideReader object at 0x7f60637ef4a0> False (783, 1024)\n",
      "<Slide, name = 0873>, width=1583, height=1210, channels=1, levels=1, RGB=False, dtype=uint8> <valis.slide_io.VipsSlideReader object at 0x7f60637bf800> False (783, 1024)\n",
      "<Slide, name = 0874>, width=1583, height=1210, channels=1, levels=1, RGB=False, dtype=uint8> <valis.slide_io.VipsSlideReader object at 0x7f60637dff80> False (783, 1024)\n"
     ]
    },
    {
     "name": "stderr",
     "output_type": "stream",
     "text": [
      "Converting images:  33%|███▎      | 875/2624 [00:19<00:41, 42.07image/s]"
     ]
    },
    {
     "name": "stdout",
     "output_type": "stream",
     "text": [
      "<Slide, name = 0875>, width=1583, height=1210, channels=1, levels=1, RGB=False, dtype=uint8> <valis.slide_io.VipsSlideReader object at 0x7f60637ffe00> False (783, 1024)\n",
      "<Slide, name = 0876>, width=1583, height=1210, channels=1, levels=1, RGB=False, dtype=uint8> <valis.slide_io.VipsSlideReader object at 0x7f60637479b0> False (783, 1024)\n",
      "<Slide, name = 0877>, width=1583, height=1210, channels=1, levels=1, RGB=False, dtype=uint8> <valis.slide_io.VipsSlideReader object at 0x7f606362a1b0> False (783, 1024)\n",
      "<Slide, name = 0878>, width=1583, height=1210, channels=1, levels=1, RGB=False, dtype=uint8> <valis.slide_io.VipsSlideReader object at 0x7f606afd23f0> False (783, 1024)\n",
      "<Slide, name = 0879>, width=1583, height=1210, channels=1, levels=1, RGB=False, dtype=uint8> <valis.slide_io.VipsSlideReader object at 0x7f6063628e60> False (783, 1024)\n"
     ]
    },
    {
     "name": "stderr",
     "output_type": "stream",
     "text": [
      "Converting images:  34%|███▎      | 880/2624 [00:19<00:40, 42.80image/s]"
     ]
    },
    {
     "name": "stdout",
     "output_type": "stream",
     "text": [
      "<Slide, name = 0880>, width=1583, height=1210, channels=1, levels=1, RGB=False, dtype=uint8> <valis.slide_io.VipsSlideReader object at 0x7f60637477a0> False (783, 1024)\n",
      "<Slide, name = 0881>, width=1583, height=1210, channels=1, levels=1, RGB=False, dtype=uint8> <valis.slide_io.VipsSlideReader object at 0x7f60637dfdd0> False (783, 1024)\n",
      "<Slide, name = 0882>, width=1583, height=1210, channels=1, levels=1, RGB=False, dtype=uint8> <valis.slide_io.VipsSlideReader object at 0x7f60637ab290> False (783, 1024)\n",
      "<Slide, name = 0883>, width=1583, height=1210, channels=1, levels=1, RGB=False, dtype=uint8> <valis.slide_io.VipsSlideReader object at 0x7f60635233e0> False (783, 1024)\n",
      "<Slide, name = 0884>, width=1583, height=1210, channels=1, levels=1, RGB=False, dtype=uint8> <valis.slide_io.VipsSlideReader object at 0x7f606379b2f0> False (783, 1024)\n"
     ]
    },
    {
     "name": "stderr",
     "output_type": "stream",
     "text": [
      "Converting images:  34%|███▎      | 885/2624 [00:19<00:40, 42.87image/s]"
     ]
    },
    {
     "name": "stdout",
     "output_type": "stream",
     "text": [
      "<Slide, name = 0885>, width=1583, height=1210, channels=1, levels=1, RGB=False, dtype=uint8> <valis.slide_io.VipsSlideReader object at 0x7f6063579100> False (783, 1024)\n",
      "<Slide, name = 0886>, width=1583, height=1210, channels=1, levels=1, RGB=False, dtype=uint8> <valis.slide_io.VipsSlideReader object at 0x7f6063520e60> False (783, 1024)\n",
      "<Slide, name = 0887>, width=1583, height=1210, channels=1, levels=1, RGB=False, dtype=uint8> <valis.slide_io.VipsSlideReader object at 0x7f6063790500> False (783, 1024)\n",
      "<Slide, name = 0888>, width=1583, height=1210, channels=1, levels=1, RGB=False, dtype=uint8> <valis.slide_io.VipsSlideReader object at 0x7f6063799df0> False (783, 1024)\n",
      "<Slide, name = 0889>, width=1583, height=1210, channels=1, levels=1, RGB=False, dtype=uint8> <valis.slide_io.VipsSlideReader object at 0x7f60637b0470> False (783, 1024)\n"
     ]
    },
    {
     "name": "stderr",
     "output_type": "stream",
     "text": [
      "Converting images:  34%|███▍      | 890/2624 [00:20<00:41, 42.21image/s]"
     ]
    },
    {
     "name": "stdout",
     "output_type": "stream",
     "text": [
      "<Slide, name = 0890>, width=1583, height=1210, channels=1, levels=1, RGB=False, dtype=uint8> <valis.slide_io.VipsSlideReader object at 0x7f60635589e0> False (783, 1024)\n",
      "<Slide, name = 0891>, width=1583, height=1210, channels=1, levels=1, RGB=False, dtype=uint8> <valis.slide_io.VipsSlideReader object at 0x7f606379ab70> False (783, 1024)\n",
      "<Slide, name = 0892>, width=1583, height=1210, channels=1, levels=1, RGB=False, dtype=uint8> <valis.slide_io.VipsSlideReader object at 0x7f606360a7e0> False (783, 1024)\n",
      "<Slide, name = 0893>, width=1583, height=1210, channels=1, levels=1, RGB=False, dtype=uint8> <valis.slide_io.VipsSlideReader object at 0x7f60635786e0> False (783, 1024)\n",
      "<Slide, name = 0894>, width=1583, height=1210, channels=1, levels=1, RGB=False, dtype=uint8> <valis.slide_io.VipsSlideReader object at 0x7f606354b0b0> False (783, 1024)\n"
     ]
    },
    {
     "name": "stderr",
     "output_type": "stream",
     "text": [
      "Converting images:  34%|███▍      | 895/2624 [00:20<00:41, 42.14image/s]"
     ]
    },
    {
     "name": "stdout",
     "output_type": "stream",
     "text": [
      "<Slide, name = 0895>, width=1583, height=1210, channels=1, levels=1, RGB=False, dtype=uint8> <valis.slide_io.VipsSlideReader object at 0x7f6063799190> False (783, 1024)\n",
      "<Slide, name = 0896>, width=1583, height=1210, channels=1, levels=1, RGB=False, dtype=uint8> <valis.slide_io.VipsSlideReader object at 0x7f606379aae0> False (783, 1024)\n",
      "<Slide, name = 0897>, width=1583, height=1210, channels=1, levels=1, RGB=False, dtype=uint8> <valis.slide_io.VipsSlideReader object at 0x7f6063538fe0> False (783, 1024)\n",
      "<Slide, name = 0898>, width=1583, height=1210, channels=1, levels=1, RGB=False, dtype=uint8> <valis.slide_io.VipsSlideReader object at 0x7f60637a8bf0> False (783, 1024)\n",
      "<Slide, name = 0899>, width=1583, height=1210, channels=1, levels=1, RGB=False, dtype=uint8> <valis.slide_io.VipsSlideReader object at 0x7f60637b2ff0> False (783, 1024)\n"
     ]
    },
    {
     "name": "stderr",
     "output_type": "stream",
     "text": [
      "Converting images:  34%|███▍      | 900/2624 [00:20<00:41, 41.95image/s]"
     ]
    },
    {
     "name": "stdout",
     "output_type": "stream",
     "text": [
      "<Slide, name = 0900>, width=1583, height=1210, channels=1, levels=1, RGB=False, dtype=uint8> <valis.slide_io.VipsSlideReader object at 0x7f60637a8230> False (783, 1024)\n",
      "<Slide, name = 0901>, width=1583, height=1210, channels=1, levels=1, RGB=False, dtype=uint8> <valis.slide_io.VipsSlideReader object at 0x7f6063698110> False (783, 1024)\n",
      "<Slide, name = 0902>, width=1583, height=1210, channels=1, levels=1, RGB=False, dtype=uint8> <valis.slide_io.VipsSlideReader object at 0x7f60637b05c0> False (783, 1024)\n",
      "<Slide, name = 0903>, width=1583, height=1210, channels=1, levels=1, RGB=False, dtype=uint8> <valis.slide_io.VipsSlideReader object at 0x7f606355b470> False (783, 1024)\n",
      "<Slide, name = 0904>, width=1583, height=1210, channels=1, levels=1, RGB=False, dtype=uint8> <valis.slide_io.VipsSlideReader object at 0x7f606379b380> False (783, 1024)\n"
     ]
    },
    {
     "name": "stderr",
     "output_type": "stream",
     "text": [
      "Converting images:  34%|███▍      | 905/2624 [00:20<00:40, 42.08image/s]"
     ]
    },
    {
     "name": "stdout",
     "output_type": "stream",
     "text": [
      "<Slide, name = 0905>, width=1583, height=1210, channels=1, levels=1, RGB=False, dtype=uint8> <valis.slide_io.VipsSlideReader object at 0x7f60636987a0> False (783, 1024)\n",
      "<Slide, name = 0906>, width=1583, height=1210, channels=1, levels=1, RGB=False, dtype=uint8> <valis.slide_io.VipsSlideReader object at 0x7f60637a8a10> False (783, 1024)\n",
      "<Slide, name = 0907>, width=1583, height=1210, channels=1, levels=1, RGB=False, dtype=uint8> <valis.slide_io.VipsSlideReader object at 0x7f60637a8290> False (783, 1024)\n",
      "<Slide, name = 0908>, width=1583, height=1210, channels=1, levels=1, RGB=False, dtype=uint8> <valis.slide_io.VipsSlideReader object at 0x7f60636086b0> False (783, 1024)\n",
      "<Slide, name = 0909>, width=1583, height=1210, channels=1, levels=1, RGB=False, dtype=uint8> <valis.slide_io.VipsSlideReader object at 0x7f6063558b90> False (783, 1024)\n"
     ]
    },
    {
     "name": "stderr",
     "output_type": "stream",
     "text": [
      "Converting images:  35%|███▍      | 910/2624 [00:20<00:41, 41.22image/s]"
     ]
    },
    {
     "name": "stdout",
     "output_type": "stream",
     "text": [
      "<Slide, name = 0910>, width=1583, height=1210, channels=1, levels=1, RGB=False, dtype=uint8> <valis.slide_io.VipsSlideReader object at 0x7f6063539040> False (783, 1024)\n",
      "<Slide, name = 0911>, width=1583, height=1210, channels=1, levels=1, RGB=False, dtype=uint8> <valis.slide_io.VipsSlideReader object at 0x7f60637b0f20> False (783, 1024)\n",
      "<Slide, name = 0912>, width=1583, height=1210, channels=1, levels=1, RGB=False, dtype=uint8> <valis.slide_io.VipsSlideReader object at 0x7f60637a8dd0> False (783, 1024)\n",
      "<Slide, name = 0913>, width=1583, height=1210, channels=1, levels=1, RGB=False, dtype=uint8> <valis.slide_io.VipsSlideReader object at 0x7f6063608d40> False (783, 1024)\n",
      "<Slide, name = 0914>, width=1583, height=1210, channels=1, levels=1, RGB=False, dtype=uint8> <valis.slide_io.VipsSlideReader object at 0x7f6063578ef0> False (783, 1024)\n"
     ]
    },
    {
     "name": "stderr",
     "output_type": "stream",
     "text": [
      "Converting images:  35%|███▍      | 915/2624 [00:20<00:41, 41.39image/s]"
     ]
    },
    {
     "name": "stdout",
     "output_type": "stream",
     "text": [
      "<Slide, name = 0915>, width=1583, height=1210, channels=1, levels=1, RGB=False, dtype=uint8> <valis.slide_io.VipsSlideReader object at 0x7f6063538bc0> False (783, 1024)\n",
      "<Slide, name = 0916>, width=1583, height=1210, channels=1, levels=1, RGB=False, dtype=uint8> <valis.slide_io.VipsSlideReader object at 0x7f6063548c80> False (783, 1024)\n",
      "<Slide, name = 0917>, width=1583, height=1210, channels=1, levels=1, RGB=False, dtype=uint8> <valis.slide_io.VipsSlideReader object at 0x7f60635392b0> False (783, 1024)\n",
      "<Slide, name = 0918>, width=1583, height=1210, channels=1, levels=1, RGB=False, dtype=uint8> <valis.slide_io.VipsSlideReader object at 0x7f6063579130> False (783, 1024)\n",
      "<Slide, name = 0919>, width=1583, height=1210, channels=1, levels=1, RGB=False, dtype=uint8> <valis.slide_io.VipsSlideReader object at 0x7f6063799250> False (783, 1024)\n"
     ]
    },
    {
     "name": "stderr",
     "output_type": "stream",
     "text": [
      "Converting images:  35%|███▌      | 920/2624 [00:20<00:41, 41.05image/s]"
     ]
    },
    {
     "name": "stdout",
     "output_type": "stream",
     "text": [
      "<Slide, name = 0920>, width=1583, height=1210, channels=1, levels=1, RGB=False, dtype=uint8> <valis.slide_io.VipsSlideReader object at 0x7f60637b1340> False (783, 1024)\n",
      "<Slide, name = 0921>, width=1583, height=1210, channels=1, levels=1, RGB=False, dtype=uint8> <valis.slide_io.VipsSlideReader object at 0x7f60637b1430> False (783, 1024)\n",
      "<Slide, name = 0922>, width=1583, height=1210, channels=1, levels=1, RGB=False, dtype=uint8> <valis.slide_io.VipsSlideReader object at 0x7f60637b14c0> False (783, 1024)\n",
      "<Slide, name = 0923>, width=1583, height=1210, channels=1, levels=1, RGB=False, dtype=uint8> <valis.slide_io.VipsSlideReader object at 0x7f60637996a0> False (783, 1024)\n",
      "<Slide, name = 0924>, width=1583, height=1210, channels=1, levels=1, RGB=False, dtype=uint8> <valis.slide_io.VipsSlideReader object at 0x7f6063521610> False (783, 1024)\n"
     ]
    },
    {
     "name": "stderr",
     "output_type": "stream",
     "text": [
      "Converting images:  35%|███▌      | 925/2624 [00:20<00:42, 40.43image/s]"
     ]
    },
    {
     "name": "stdout",
     "output_type": "stream",
     "text": [
      "<Slide, name = 0925>, width=1583, height=1210, channels=1, levels=1, RGB=False, dtype=uint8> <valis.slide_io.VipsSlideReader object at 0x7f6063579af0> False (783, 1024)\n",
      "<Slide, name = 0926>, width=1583, height=1210, channels=1, levels=1, RGB=False, dtype=uint8> <valis.slide_io.VipsSlideReader object at 0x7f6063799c10> False (783, 1024)\n",
      "<Slide, name = 0927>, width=1583, height=1210, channels=1, levels=1, RGB=False, dtype=uint8> <valis.slide_io.VipsSlideReader object at 0x7f6063799d00> False (783, 1024)\n",
      "<Slide, name = 0928>, width=1583, height=1210, channels=1, levels=1, RGB=False, dtype=uint8> <valis.slide_io.VipsSlideReader object at 0x7f6063798fb0> False (783, 1024)\n",
      "<Slide, name = 0929>, width=1583, height=1210, channels=1, levels=1, RGB=False, dtype=uint8> <valis.slide_io.VipsSlideReader object at 0x7f6063799fd0> False (783, 1024)\n"
     ]
    },
    {
     "name": "stderr",
     "output_type": "stream",
     "text": [
      "Converting images:  35%|███▌      | 930/2624 [00:21<00:41, 40.63image/s]"
     ]
    },
    {
     "name": "stdout",
     "output_type": "stream",
     "text": [
      "<Slide, name = 0930>, width=1583, height=1210, channels=1, levels=1, RGB=False, dtype=uint8> <valis.slide_io.VipsSlideReader object at 0x7f6063539e50> False (783, 1024)\n",
      "<Slide, name = 0931>, width=1583, height=1210, channels=1, levels=1, RGB=False, dtype=uint8> <valis.slide_io.VipsSlideReader object at 0x7f6063698b30> False (783, 1024)\n",
      "<Slide, name = 0932>, width=1583, height=1210, channels=1, levels=1, RGB=False, dtype=uint8> <valis.slide_io.VipsSlideReader object at 0x7f606379a0c0> False (783, 1024)\n",
      "<Slide, name = 0933>, width=1583, height=1210, channels=1, levels=1, RGB=False, dtype=uint8> <valis.slide_io.VipsSlideReader object at 0x7f60637a88c0> False (783, 1024)\n",
      "<Slide, name = 0934>, width=1583, height=1210, channels=1, levels=1, RGB=False, dtype=uint8> <valis.slide_io.VipsSlideReader object at 0x7f60637a8a70> False (783, 1024)\n"
     ]
    },
    {
     "name": "stderr",
     "output_type": "stream",
     "text": [
      "Converting images:  36%|███▌      | 935/2624 [00:21<00:41, 40.60image/s]"
     ]
    },
    {
     "name": "stdout",
     "output_type": "stream",
     "text": [
      "<Slide, name = 0935>, width=1583, height=1210, channels=1, levels=1, RGB=False, dtype=uint8> <valis.slide_io.VipsSlideReader object at 0x7f60635222a0> False (783, 1024)\n",
      "<Slide, name = 0936>, width=1583, height=1210, channels=1, levels=1, RGB=False, dtype=uint8> <valis.slide_io.VipsSlideReader object at 0x7f6063579f70> False (783, 1024)\n",
      "<Slide, name = 0937>, width=1583, height=1210, channels=1, levels=1, RGB=False, dtype=uint8> <valis.slide_io.VipsSlideReader object at 0x7f606357a030> False (783, 1024)\n",
      "<Slide, name = 0938>, width=1583, height=1210, channels=1, levels=1, RGB=False, dtype=uint8> <valis.slide_io.VipsSlideReader object at 0x7f6063522630> False (783, 1024)\n",
      "<Slide, name = 0939>, width=1583, height=1210, channels=1, levels=1, RGB=False, dtype=uint8> <valis.slide_io.VipsSlideReader object at 0x7f606353a510> False (783, 1024)\n"
     ]
    },
    {
     "name": "stderr",
     "output_type": "stream",
     "text": [
      "Converting images:  36%|███▌      | 940/2624 [00:21<00:41, 40.72image/s]"
     ]
    },
    {
     "name": "stdout",
     "output_type": "stream",
     "text": [
      "<Slide, name = 0940>, width=1583, height=1210, channels=1, levels=1, RGB=False, dtype=uint8> <valis.slide_io.VipsSlideReader object at 0x7f606379a5d0> False (783, 1024)\n",
      "<Slide, name = 0941>, width=1583, height=1210, channels=1, levels=1, RGB=False, dtype=uint8> <valis.slide_io.VipsSlideReader object at 0x7f606369a8a0> False (783, 1024)\n",
      "<Slide, name = 0942>, width=1583, height=1210, channels=1, levels=1, RGB=False, dtype=uint8> <valis.slide_io.VipsSlideReader object at 0x7f60637aa990> False (783, 1024)\n",
      "<Slide, name = 0943>, width=1583, height=1210, channels=1, levels=1, RGB=False, dtype=uint8> <valis.slide_io.VipsSlideReader object at 0x7f606369b110> False (783, 1024)\n",
      "<Slide, name = 0944>, width=1583, height=1210, channels=1, levels=1, RGB=False, dtype=uint8> <valis.slide_io.VipsSlideReader object at 0x7f60636d2a50> False (783, 1024)\n"
     ]
    },
    {
     "name": "stderr",
     "output_type": "stream",
     "text": [
      "Converting images:  36%|███▌      | 945/2624 [00:21<00:40, 41.05image/s]"
     ]
    },
    {
     "name": "stdout",
     "output_type": "stream",
     "text": [
      "<Slide, name = 0945>, width=1583, height=1210, channels=1, levels=1, RGB=False, dtype=uint8> <valis.slide_io.VipsSlideReader object at 0x7f606357a780> False (783, 1024)\n",
      "<Slide, name = 0946>, width=1583, height=1210, channels=1, levels=1, RGB=False, dtype=uint8> <valis.slide_io.VipsSlideReader object at 0x7f60637aac30> False (783, 1024)\n",
      "<Slide, name = 0947>, width=1583, height=1210, channels=1, levels=1, RGB=False, dtype=uint8> <valis.slide_io.VipsSlideReader object at 0x7f606369aba0> False (783, 1024)\n",
      "<Slide, name = 0948>, width=1583, height=1210, channels=1, levels=1, RGB=False, dtype=uint8> <valis.slide_io.VipsSlideReader object at 0x7f606355ad20> False (783, 1024)\n",
      "<Slide, name = 0949>, width=1583, height=1210, channels=1, levels=1, RGB=False, dtype=uint8> <valis.slide_io.VipsSlideReader object at 0x7f606369acf0> False (783, 1024)\n"
     ]
    },
    {
     "name": "stderr",
     "output_type": "stream",
     "text": [
      "Converting images:  36%|███▌      | 950/2624 [00:21<00:40, 40.88image/s]"
     ]
    },
    {
     "name": "stdout",
     "output_type": "stream",
     "text": [
      "<Slide, name = 0950>, width=1583, height=1210, channels=1, levels=1, RGB=False, dtype=uint8> <valis.slide_io.VipsSlideReader object at 0x7f606379a9c0> False (783, 1024)\n",
      "<Slide, name = 0951>, width=1583, height=1210, channels=1, levels=1, RGB=False, dtype=uint8> <valis.slide_io.VipsSlideReader object at 0x7f606361e0f0> False (783, 1024)\n",
      "<Slide, name = 0952>, width=1583, height=1210, channels=1, levels=1, RGB=False, dtype=uint8> <valis.slide_io.VipsSlideReader object at 0x7f606361c620> False (783, 1024)\n",
      "<Slide, name = 0953>, width=1583, height=1210, channels=1, levels=1, RGB=False, dtype=uint8> <valis.slide_io.VipsSlideReader object at 0x7f60637bc890> False (783, 1024)\n",
      "<Slide, name = 0954>, width=1583, height=1210, channels=1, levels=1, RGB=False, dtype=uint8> <valis.slide_io.VipsSlideReader object at 0x7f606361c7a0> False (783, 1024)\n"
     ]
    },
    {
     "name": "stderr",
     "output_type": "stream",
     "text": [
      "Converting images:  36%|███▋      | 955/2624 [00:21<00:40, 41.07image/s]"
     ]
    },
    {
     "name": "stdout",
     "output_type": "stream",
     "text": [
      "<Slide, name = 0955>, width=1583, height=1210, channels=1, levels=1, RGB=False, dtype=uint8> <valis.slide_io.VipsSlideReader object at 0x7f60637446e0> False (783, 1024)\n",
      "<Slide, name = 0956>, width=1583, height=1210, channels=1, levels=1, RGB=False, dtype=uint8> <valis.slide_io.VipsSlideReader object at 0x7f60637ed1c0> False (783, 1024)\n",
      "<Slide, name = 0957>, width=1583, height=1210, channels=1, levels=1, RGB=False, dtype=uint8> <valis.slide_io.VipsSlideReader object at 0x7f6063745100> False (783, 1024)\n",
      "<Slide, name = 0958>, width=1583, height=1210, channels=1, levels=1, RGB=False, dtype=uint8> <valis.slide_io.VipsSlideReader object at 0x7f6063745d00> False (783, 1024)\n",
      "<Slide, name = 0959>, width=1583, height=1210, channels=1, levels=1, RGB=False, dtype=uint8> <valis.slide_io.VipsSlideReader object at 0x7f60637dc680> False (783, 1024)\n"
     ]
    },
    {
     "name": "stderr",
     "output_type": "stream",
     "text": [
      "Converting images:  37%|███▋      | 960/2624 [00:21<00:40, 41.30image/s]"
     ]
    },
    {
     "name": "stdout",
     "output_type": "stream",
     "text": [
      "<Slide, name = 0960>, width=1583, height=1210, channels=1, levels=1, RGB=False, dtype=uint8> <valis.slide_io.VipsSlideReader object at 0x7f606361cb00> False (783, 1024)\n",
      "<Slide, name = 0961>, width=1583, height=1210, channels=1, levels=1, RGB=False, dtype=uint8> <valis.slide_io.VipsSlideReader object at 0x7f60637dd130> False (783, 1024)\n",
      "<Slide, name = 0962>, width=1583, height=1210, channels=1, levels=1, RGB=False, dtype=uint8> <valis.slide_io.VipsSlideReader object at 0x7f606361c890> False (783, 1024)\n",
      "<Slide, name = 0963>, width=1583, height=1210, channels=1, levels=1, RGB=False, dtype=uint8> <valis.slide_io.VipsSlideReader object at 0x7f60637ddd90> False (783, 1024)\n",
      "<Slide, name = 0964>, width=1583, height=1210, channels=1, levels=1, RGB=False, dtype=uint8> <valis.slide_io.VipsSlideReader object at 0x7f60637ec0e0> False (783, 1024)\n"
     ]
    },
    {
     "name": "stderr",
     "output_type": "stream",
     "text": [
      "Converting images:  37%|███▋      | 965/2624 [00:21<00:39, 41.77image/s]"
     ]
    },
    {
     "name": "stdout",
     "output_type": "stream",
     "text": [
      "<Slide, name = 0965>, width=1583, height=1210, channels=1, levels=1, RGB=False, dtype=uint8> <valis.slide_io.VipsSlideReader object at 0x7f60637dfec0> False (783, 1024)\n",
      "<Slide, name = 0966>, width=1583, height=1210, channels=1, levels=1, RGB=False, dtype=uint8> <valis.slide_io.VipsSlideReader object at 0x7f60637cff80> False (783, 1024)\n",
      "<Slide, name = 0967>, width=1583, height=1210, channels=1, levels=1, RGB=False, dtype=uint8> <valis.slide_io.VipsSlideReader object at 0x7f60637cc7d0> False (783, 1024)\n",
      "<Slide, name = 0968>, width=1583, height=1210, channels=1, levels=1, RGB=False, dtype=uint8> <valis.slide_io.VipsSlideReader object at 0x7f60637cc740> False (783, 1024)\n",
      "<Slide, name = 0969>, width=1583, height=1210, channels=1, levels=1, RGB=False, dtype=uint8> <valis.slide_io.VipsSlideReader object at 0x7f606350d160> False (783, 1024)\n"
     ]
    },
    {
     "name": "stderr",
     "output_type": "stream",
     "text": [
      "Converting images:  37%|███▋      | 970/2624 [00:22<00:39, 42.01image/s]"
     ]
    },
    {
     "name": "stdout",
     "output_type": "stream",
     "text": [
      "<Slide, name = 0970>, width=1583, height=1210, channels=1, levels=1, RGB=False, dtype=uint8> <valis.slide_io.VipsSlideReader object at 0x7f606369a630> False (783, 1024)\n",
      "<Slide, name = 0971>, width=1583, height=1210, channels=1, levels=1, RGB=False, dtype=uint8> <valis.slide_io.VipsSlideReader object at 0x7f6063790b00> False (783, 1024)\n",
      "<Slide, name = 0972>, width=1583, height=1210, channels=1, levels=1, RGB=False, dtype=uint8> <valis.slide_io.VipsSlideReader object at 0x7f6063698bc0> False (783, 1024)\n",
      "<Slide, name = 0973>, width=1583, height=1210, channels=1, levels=1, RGB=False, dtype=uint8> <valis.slide_io.VipsSlideReader object at 0x7f6063798050> False (783, 1024)\n",
      "<Slide, name = 0974>, width=1583, height=1210, channels=1, levels=1, RGB=False, dtype=uint8> <valis.slide_io.VipsSlideReader object at 0x7f6063698c80> False (783, 1024)\n"
     ]
    },
    {
     "name": "stderr",
     "output_type": "stream",
     "text": [
      "Converting images:  37%|███▋      | 975/2624 [00:22<00:39, 42.19image/s]"
     ]
    },
    {
     "name": "stdout",
     "output_type": "stream",
     "text": [
      "<Slide, name = 0975>, width=1583, height=1210, channels=1, levels=1, RGB=False, dtype=uint8> <valis.slide_io.VipsSlideReader object at 0x7f6063538e00> False (783, 1024)\n",
      "<Slide, name = 0976>, width=1583, height=1210, channels=1, levels=1, RGB=False, dtype=uint8> <valis.slide_io.VipsSlideReader object at 0x7f6063558a40> False (783, 1024)\n",
      "<Slide, name = 0977>, width=1583, height=1210, channels=1, levels=1, RGB=False, dtype=uint8> <valis.slide_io.VipsSlideReader object at 0x7f6063609580> False (783, 1024)\n",
      "<Slide, name = 0978>, width=1583, height=1210, channels=1, levels=1, RGB=False, dtype=uint8> <valis.slide_io.VipsSlideReader object at 0x7f60637a8980> False (783, 1024)\n",
      "<Slide, name = 0979>, width=1583, height=1210, channels=1, levels=1, RGB=False, dtype=uint8> <valis.slide_io.VipsSlideReader object at 0x7f60637b0200> False (783, 1024)\n"
     ]
    },
    {
     "name": "stderr",
     "output_type": "stream",
     "text": [
      "Converting images:  37%|███▋      | 980/2624 [00:22<00:38, 42.43image/s]"
     ]
    },
    {
     "name": "stdout",
     "output_type": "stream",
     "text": [
      "<Slide, name = 0980>, width=1583, height=1210, channels=1, levels=1, RGB=False, dtype=uint8> <valis.slide_io.VipsSlideReader object at 0x7f606379a3c0> False (783, 1024)\n",
      "<Slide, name = 0981>, width=1583, height=1210, channels=1, levels=1, RGB=False, dtype=uint8> <valis.slide_io.VipsSlideReader object at 0x7f606369aae0> False (783, 1024)\n",
      "<Slide, name = 0982>, width=1583, height=1210, channels=1, levels=1, RGB=False, dtype=uint8> <valis.slide_io.VipsSlideReader object at 0x7f60637aaea0> False (783, 1024)\n",
      "<Slide, name = 0983>, width=1583, height=1210, channels=1, levels=1, RGB=False, dtype=uint8> <valis.slide_io.VipsSlideReader object at 0x7f60637ab320> False (783, 1024)\n",
      "<Slide, name = 0984>, width=1583, height=1210, channels=1, levels=1, RGB=False, dtype=uint8> <valis.slide_io.VipsSlideReader object at 0x7f60637b3620> False (783, 1024)\n"
     ]
    },
    {
     "name": "stderr",
     "output_type": "stream",
     "text": [
      "Converting images:  38%|███▊      | 985/2624 [00:22<00:38, 42.59image/s]"
     ]
    },
    {
     "name": "stdout",
     "output_type": "stream",
     "text": [
      "<Slide, name = 0985>, width=1583, height=1210, channels=1, levels=1, RGB=False, dtype=uint8> <valis.slide_io.VipsSlideReader object at 0x7f606354baa0> False (783, 1024)\n",
      "<Slide, name = 0986>, width=1583, height=1210, channels=1, levels=1, RGB=False, dtype=uint8> <valis.slide_io.VipsSlideReader object at 0x7f6063699340> False (783, 1024)\n",
      "<Slide, name = 0987>, width=1583, height=1210, channels=1, levels=1, RGB=False, dtype=uint8> <valis.slide_io.VipsSlideReader object at 0x7f606360bf50> False (783, 1024)\n",
      "<Slide, name = 0988>, width=1583, height=1210, channels=1, levels=1, RGB=False, dtype=uint8> <valis.slide_io.VipsSlideReader object at 0x7f60637abef0> False (783, 1024)\n",
      "<Slide, name = 0989>, width=1583, height=1210, channels=1, levels=1, RGB=False, dtype=uint8> <valis.slide_io.VipsSlideReader object at 0x7f606379bfe0> False (783, 1024)\n"
     ]
    },
    {
     "name": "stderr",
     "output_type": "stream",
     "text": [
      "Converting images:  38%|███▊      | 990/2624 [00:22<00:38, 42.88image/s]"
     ]
    },
    {
     "name": "stdout",
     "output_type": "stream",
     "text": [
      "<Slide, name = 0990>, width=1583, height=1210, channels=1, levels=1, RGB=False, dtype=uint8> <valis.slide_io.VipsSlideReader object at 0x7f606379a600> False (783, 1024)\n",
      "<Slide, name = 0991>, width=1583, height=1210, channels=1, levels=1, RGB=False, dtype=uint8> <valis.slide_io.VipsSlideReader object at 0x7f60637b3b90> False (783, 1024)\n",
      "<Slide, name = 0992>, width=1583, height=1210, channels=1, levels=1, RGB=False, dtype=uint8> <valis.slide_io.VipsSlideReader object at 0x7f60635b3cb0> False (783, 1024)\n",
      "<Slide, name = 0993>, width=1583, height=1210, channels=1, levels=1, RGB=False, dtype=uint8> <valis.slide_io.VipsSlideReader object at 0x7f606355b9b0> False (783, 1024)\n",
      "<Slide, name = 0994>, width=1583, height=1210, channels=1, levels=1, RGB=False, dtype=uint8> <valis.slide_io.VipsSlideReader object at 0x7f60636994c0> False (783, 1024)\n"
     ]
    },
    {
     "name": "stderr",
     "output_type": "stream",
     "text": [
      "Converting images:  38%|███▊      | 995/2624 [00:22<00:38, 42.61image/s]"
     ]
    },
    {
     "name": "stdout",
     "output_type": "stream",
     "text": [
      "<Slide, name = 0995>, width=1583, height=1210, channels=1, levels=1, RGB=False, dtype=uint8> <valis.slide_io.VipsSlideReader object at 0x7f60637b2480> False (783, 1024)\n",
      "<Slide, name = 0996>, width=1583, height=1210, channels=1, levels=1, RGB=False, dtype=uint8> <valis.slide_io.VipsSlideReader object at 0x7f60635b3710> False (783, 1024)\n",
      "<Slide, name = 0997>, width=1583, height=1210, channels=1, levels=1, RGB=False, dtype=uint8> <valis.slide_io.VipsSlideReader object at 0x7f60637b34d0> False (783, 1024)\n",
      "<Slide, name = 0998>, width=1583, height=1210, channels=1, levels=1, RGB=False, dtype=uint8> <valis.slide_io.VipsSlideReader object at 0x7f606355bd40> False (783, 1024)\n",
      "<Slide, name = 0999>, width=1583, height=1210, channels=1, levels=1, RGB=False, dtype=uint8> <valis.slide_io.VipsSlideReader object at 0x7f606355b350> False (783, 1024)\n"
     ]
    },
    {
     "name": "stderr",
     "output_type": "stream",
     "text": [
      "Converting images:  38%|███▊      | 1000/2624 [00:22<00:38, 42.34image/s]"
     ]
    },
    {
     "name": "stdout",
     "output_type": "stream",
     "text": [
      "<Slide, name = 1000>, width=1583, height=1210, channels=1, levels=1, RGB=False, dtype=uint8> <valis.slide_io.VipsSlideReader object at 0x7f60635b3470> False (783, 1024)\n",
      "<Slide, name = 1001>, width=1583, height=1210, channels=1, levels=1, RGB=False, dtype=uint8> <valis.slide_io.VipsSlideReader object at 0x7f60635b35c0> False (783, 1024)\n",
      "<Slide, name = 1002>, width=1583, height=1210, channels=1, levels=1, RGB=False, dtype=uint8> <valis.slide_io.VipsSlideReader object at 0x7f60635b2ff0> False (783, 1024)\n",
      "<Slide, name = 1003>, width=1583, height=1210, channels=1, levels=1, RGB=False, dtype=uint8> <valis.slide_io.VipsSlideReader object at 0x7f60635b3020> False (783, 1024)\n",
      "<Slide, name = 1004>, width=1583, height=1210, channels=1, levels=1, RGB=False, dtype=uint8> <valis.slide_io.VipsSlideReader object at 0x7f60635b3080> False (783, 1024)\n"
     ]
    },
    {
     "name": "stderr",
     "output_type": "stream",
     "text": [
      "Converting images:  38%|███▊      | 1005/2624 [00:22<00:38, 42.12image/s]"
     ]
    },
    {
     "name": "stdout",
     "output_type": "stream",
     "text": [
      "<Slide, name = 1005>, width=1583, height=1210, channels=1, levels=1, RGB=False, dtype=uint8> <valis.slide_io.VipsSlideReader object at 0x7f60635b3380> False (783, 1024)\n",
      "<Slide, name = 1006>, width=1583, height=1210, channels=1, levels=1, RGB=False, dtype=uint8> <valis.slide_io.VipsSlideReader object at 0x7f60635b2d50> False (783, 1024)\n",
      "<Slide, name = 1007>, width=1583, height=1210, channels=1, levels=1, RGB=False, dtype=uint8> <valis.slide_io.VipsSlideReader object at 0x7f60635b2db0> False (783, 1024)\n",
      "<Slide, name = 1008>, width=1583, height=1210, channels=1, levels=1, RGB=False, dtype=uint8> <valis.slide_io.VipsSlideReader object at 0x7f60635b2f00> False (783, 1024)\n",
      "<Slide, name = 1009>, width=1583, height=1210, channels=1, levels=1, RGB=False, dtype=uint8> <valis.slide_io.VipsSlideReader object at 0x7f60635b2a50> False (783, 1024)\n"
     ]
    },
    {
     "name": "stderr",
     "output_type": "stream",
     "text": [
      "Converting images:  38%|███▊      | 1010/2624 [00:22<00:37, 42.48image/s]"
     ]
    },
    {
     "name": "stdout",
     "output_type": "stream",
     "text": [
      "<Slide, name = 1010>, width=1583, height=1210, channels=1, levels=1, RGB=False, dtype=uint8> <valis.slide_io.VipsSlideReader object at 0x7f60635b2ab0> False (783, 1024)\n",
      "<Slide, name = 1011>, width=1583, height=1210, channels=1, levels=1, RGB=False, dtype=uint8> <valis.slide_io.VipsSlideReader object at 0x7f60635b2c00> False (783, 1024)\n",
      "<Slide, name = 1012>, width=1583, height=1210, channels=1, levels=1, RGB=False, dtype=uint8> <valis.slide_io.VipsSlideReader object at 0x7f60635b2720> False (783, 1024)\n",
      "<Slide, name = 1013>, width=1583, height=1210, channels=1, levels=1, RGB=False, dtype=uint8> <valis.slide_io.VipsSlideReader object at 0x7f60635b27b0> False (783, 1024)\n",
      "<Slide, name = 1014>, width=1583, height=1210, channels=1, levels=1, RGB=False, dtype=uint8> <valis.slide_io.VipsSlideReader object at 0x7f60635b2900> False (783, 1024)\n"
     ]
    },
    {
     "name": "stderr",
     "output_type": "stream",
     "text": [
      "Converting images:  39%|███▊      | 1015/2624 [00:23<00:38, 42.15image/s]"
     ]
    },
    {
     "name": "stdout",
     "output_type": "stream",
     "text": [
      "<Slide, name = 1015>, width=1583, height=1210, channels=1, levels=1, RGB=False, dtype=uint8> <valis.slide_io.VipsSlideReader object at 0x7f60635b2570> False (783, 1024)\n",
      "<Slide, name = 1016>, width=1583, height=1210, channels=1, levels=1, RGB=False, dtype=uint8> <valis.slide_io.VipsSlideReader object at 0x7f60635b2330> False (783, 1024)\n",
      "<Slide, name = 1017>, width=1583, height=1210, channels=1, levels=1, RGB=False, dtype=uint8> <valis.slide_io.VipsSlideReader object at 0x7f60635b1f40> False (783, 1024)\n",
      "<Slide, name = 1018>, width=1583, height=1210, channels=1, levels=1, RGB=False, dtype=uint8> <valis.slide_io.VipsSlideReader object at 0x7f60635b1f70> False (783, 1024)\n",
      "<Slide, name = 1019>, width=1583, height=1210, channels=1, levels=1, RGB=False, dtype=uint8> <valis.slide_io.VipsSlideReader object at 0x7f60635b24e0> False (783, 1024)\n"
     ]
    },
    {
     "name": "stderr",
     "output_type": "stream",
     "text": [
      "Converting images:  39%|███▉      | 1020/2624 [00:23<00:38, 41.93image/s]"
     ]
    },
    {
     "name": "stdout",
     "output_type": "stream",
     "text": [
      "<Slide, name = 1020>, width=1583, height=1210, channels=1, levels=1, RGB=False, dtype=uint8> <valis.slide_io.VipsSlideReader object at 0x7f60635b1df0> False (783, 1024)\n",
      "<Slide, name = 1021>, width=1583, height=1210, channels=1, levels=1, RGB=False, dtype=uint8> <valis.slide_io.VipsSlideReader object at 0x7f60635b1eb0> False (783, 1024)\n",
      "<Slide, name = 1022>, width=1583, height=1210, channels=1, levels=1, RGB=False, dtype=uint8> <valis.slide_io.VipsSlideReader object at 0x7f60635b1d30> False (783, 1024)\n",
      "<Slide, name = 1023>, width=1583, height=1210, channels=1, levels=1, RGB=False, dtype=uint8> <valis.slide_io.VipsSlideReader object at 0x7f60635b1d90> False (783, 1024)\n",
      "<Slide, name = 1024>, width=1583, height=1210, channels=1, levels=1, RGB=False, dtype=uint8> <valis.slide_io.VipsSlideReader object at 0x7f60635b1ee0> False (783, 1024)\n"
     ]
    },
    {
     "name": "stderr",
     "output_type": "stream",
     "text": [
      "Converting images:  39%|███▉      | 1025/2624 [00:23<00:38, 42.05image/s]"
     ]
    },
    {
     "name": "stdout",
     "output_type": "stream",
     "text": [
      "<Slide, name = 1025>, width=1583, height=1210, channels=1, levels=1, RGB=False, dtype=uint8> <valis.slide_io.VipsSlideReader object at 0x7f60635b1a30> False (783, 1024)\n",
      "<Slide, name = 1026>, width=1583, height=1210, channels=1, levels=1, RGB=False, dtype=uint8> <valis.slide_io.VipsSlideReader object at 0x7f60635b1a90> False (783, 1024)\n",
      "<Slide, name = 1027>, width=1583, height=1210, channels=1, levels=1, RGB=False, dtype=uint8> <valis.slide_io.VipsSlideReader object at 0x7f60635b1be0> False (783, 1024)\n",
      "<Slide, name = 1028>, width=1583, height=1210, channels=1, levels=1, RGB=False, dtype=uint8> <valis.slide_io.VipsSlideReader object at 0x7f60635b1730> False (783, 1024)\n",
      "<Slide, name = 1029>, width=1583, height=1210, channels=1, levels=1, RGB=False, dtype=uint8> <valis.slide_io.VipsSlideReader object at 0x7f60635b1790> False (783, 1024)\n"
     ]
    },
    {
     "name": "stderr",
     "output_type": "stream",
     "text": [
      "Converting images:  39%|███▉      | 1030/2624 [00:23<00:37, 42.20image/s]"
     ]
    },
    {
     "name": "stdout",
     "output_type": "stream",
     "text": [
      "<Slide, name = 1030>, width=1583, height=1210, channels=1, levels=1, RGB=False, dtype=uint8> <valis.slide_io.VipsSlideReader object at 0x7f60635b18e0> False (783, 1024)\n",
      "<Slide, name = 1031>, width=1583, height=1210, channels=1, levels=1, RGB=False, dtype=uint8> <valis.slide_io.VipsSlideReader object at 0x7f60635b1430> False (783, 1024)\n",
      "<Slide, name = 1032>, width=1583, height=1210, channels=1, levels=1, RGB=False, dtype=uint8> <valis.slide_io.VipsSlideReader object at 0x7f60635b1490> False (783, 1024)\n",
      "<Slide, name = 1033>, width=1583, height=1210, channels=1, levels=1, RGB=False, dtype=uint8> <valis.slide_io.VipsSlideReader object at 0x7f60635b10d0> False (783, 1024)\n",
      "<Slide, name = 1034>, width=1583, height=1210, channels=1, levels=1, RGB=False, dtype=uint8> <valis.slide_io.VipsSlideReader object at 0x7f60635b1460> False (783, 1024)\n"
     ]
    },
    {
     "name": "stderr",
     "output_type": "stream",
     "text": [
      "Converting images:  39%|███▉      | 1035/2624 [00:23<00:37, 42.40image/s]"
     ]
    },
    {
     "name": "stdout",
     "output_type": "stream",
     "text": [
      "<Slide, name = 1035>, width=1583, height=1210, channels=1, levels=1, RGB=False, dtype=uint8> <valis.slide_io.VipsSlideReader object at 0x7f60635b1130> False (783, 1024)\n",
      "<Slide, name = 1036>, width=1583, height=1210, channels=1, levels=1, RGB=False, dtype=uint8> <valis.slide_io.VipsSlideReader object at 0x7f60635b1160> False (783, 1024)\n",
      "<Slide, name = 1037>, width=1583, height=1210, channels=1, levels=1, RGB=False, dtype=uint8> <valis.slide_io.VipsSlideReader object at 0x7f60635b0f50> False (783, 1024)\n",
      "<Slide, name = 1038>, width=1583, height=1210, channels=1, levels=1, RGB=False, dtype=uint8> <valis.slide_io.VipsSlideReader object at 0x7f60635b10a0> False (783, 1024)\n",
      "<Slide, name = 1039>, width=1583, height=1210, channels=1, levels=1, RGB=False, dtype=uint8> <valis.slide_io.VipsSlideReader object at 0x7f60635b0bf0> False (783, 1024)\n"
     ]
    },
    {
     "name": "stderr",
     "output_type": "stream",
     "text": [
      "Converting images:  40%|███▉      | 1040/2624 [00:23<00:37, 42.32image/s]"
     ]
    },
    {
     "name": "stdout",
     "output_type": "stream",
     "text": [
      "<Slide, name = 1040>, width=1583, height=1210, channels=1, levels=1, RGB=False, dtype=uint8> <valis.slide_io.VipsSlideReader object at 0x7f60635b0c50> False (783, 1024)\n",
      "<Slide, name = 1041>, width=1583, height=1210, channels=1, levels=1, RGB=False, dtype=uint8> <valis.slide_io.VipsSlideReader object at 0x7f60635b0da0> False (783, 1024)\n",
      "<Slide, name = 1042>, width=1583, height=1210, channels=1, levels=1, RGB=False, dtype=uint8> <valis.slide_io.VipsSlideReader object at 0x7f60635b09e0> False (783, 1024)\n",
      "<Slide, name = 1043>, width=1583, height=1210, channels=1, levels=1, RGB=False, dtype=uint8> <valis.slide_io.VipsSlideReader object at 0x7f60635b0770> False (783, 1024)\n",
      "<Slide, name = 1044>, width=1583, height=1210, channels=1, levels=1, RGB=False, dtype=uint8> <valis.slide_io.VipsSlideReader object at 0x7f60635b07a0> False (783, 1024)\n"
     ]
    },
    {
     "name": "stderr",
     "output_type": "stream",
     "text": [
      "Converting images:  40%|███▉      | 1045/2624 [00:23<00:37, 42.27image/s]"
     ]
    },
    {
     "name": "stdout",
     "output_type": "stream",
     "text": [
      "<Slide, name = 1045>, width=1583, height=1210, channels=1, levels=1, RGB=False, dtype=uint8> <valis.slide_io.VipsSlideReader object at 0x7f60635b0650> False (783, 1024)\n",
      "<Slide, name = 1046>, width=1583, height=1210, channels=1, levels=1, RGB=False, dtype=uint8> <valis.slide_io.VipsSlideReader object at 0x7f60635b03b0> False (783, 1024)\n",
      "<Slide, name = 1047>, width=1583, height=1210, channels=1, levels=1, RGB=False, dtype=uint8> <valis.slide_io.VipsSlideReader object at 0x7f60635b04a0> False (783, 1024)\n",
      "<Slide, name = 1048>, width=1583, height=1210, channels=1, levels=1, RGB=False, dtype=uint8> <valis.slide_io.VipsSlideReader object at 0x7f60635b0860> False (783, 1024)\n",
      "<Slide, name = 1049>, width=1583, height=1210, channels=1, levels=1, RGB=False, dtype=uint8> <valis.slide_io.VipsSlideReader object at 0x7f60635b0410> False (783, 1024)\n"
     ]
    },
    {
     "name": "stderr",
     "output_type": "stream",
     "text": [
      "Converting images:  40%|████      | 1050/2624 [00:23<00:37, 42.15image/s]"
     ]
    },
    {
     "name": "stdout",
     "output_type": "stream",
     "text": [
      "<Slide, name = 1050>, width=1583, height=1210, channels=1, levels=1, RGB=False, dtype=uint8> <valis.slide_io.VipsSlideReader object at 0x7f60635b0140> False (783, 1024)\n",
      "<Slide, name = 1051>, width=1583, height=1210, channels=1, levels=1, RGB=False, dtype=uint8> <valis.slide_io.VipsSlideReader object at 0x7f60635b2750> False (783, 1024)\n",
      "<Slide, name = 1052>, width=1583, height=1210, channels=1, levels=1, RGB=False, dtype=uint8> <valis.slide_io.VipsSlideReader object at 0x7f60636de8d0> False (783, 1024)\n",
      "<Slide, name = 1053>, width=1583, height=1210, channels=1, levels=1, RGB=False, dtype=uint8> <valis.slide_io.VipsSlideReader object at 0x7f60636df680> False (783, 1024)\n",
      "<Slide, name = 1054>, width=1583, height=1210, channels=1, levels=1, RGB=False, dtype=uint8> <valis.slide_io.VipsSlideReader object at 0x7f60636dc530> False (783, 1024)\n"
     ]
    },
    {
     "name": "stderr",
     "output_type": "stream",
     "text": [
      "Converting images:  40%|████      | 1055/2624 [00:24<00:36, 42.41image/s]"
     ]
    },
    {
     "name": "stdout",
     "output_type": "stream",
     "text": [
      "<Slide, name = 1055>, width=1583, height=1210, channels=1, levels=1, RGB=False, dtype=uint8> <valis.slide_io.VipsSlideReader object at 0x7f60636dd400> False (783, 1024)\n",
      "<Slide, name = 1056>, width=1583, height=1210, channels=1, levels=1, RGB=False, dtype=uint8> <valis.slide_io.VipsSlideReader object at 0x7f60636de480> False (783, 1024)\n",
      "<Slide, name = 1057>, width=1583, height=1210, channels=1, levels=1, RGB=False, dtype=uint8> <valis.slide_io.VipsSlideReader object at 0x7f60636dc1a0> False (783, 1024)\n",
      "<Slide, name = 1058>, width=1583, height=1210, channels=1, levels=1, RGB=False, dtype=uint8> <valis.slide_io.VipsSlideReader object at 0x7f60636dc770> False (783, 1024)\n",
      "<Slide, name = 1059>, width=1583, height=1210, channels=1, levels=1, RGB=False, dtype=uint8> <valis.slide_io.VipsSlideReader object at 0x7f60636df1a0> False (783, 1024)\n"
     ]
    },
    {
     "name": "stderr",
     "output_type": "stream",
     "text": [
      "Converting images:  40%|████      | 1060/2624 [00:24<00:37, 41.98image/s]"
     ]
    },
    {
     "name": "stdout",
     "output_type": "stream",
     "text": [
      "<Slide, name = 1060>, width=1583, height=1210, channels=1, levels=1, RGB=False, dtype=uint8> <valis.slide_io.VipsSlideReader object at 0x7f60636dd070> False (783, 1024)\n",
      "<Slide, name = 1061>, width=1583, height=1210, channels=1, levels=1, RGB=False, dtype=uint8> <valis.slide_io.VipsSlideReader object at 0x7f60636df3e0> False (783, 1024)\n",
      "<Slide, name = 1062>, width=1583, height=1210, channels=1, levels=1, RGB=False, dtype=uint8> <valis.slide_io.VipsSlideReader object at 0x7f60636de060> False (783, 1024)\n",
      "<Slide, name = 1063>, width=1583, height=1210, channels=1, levels=1, RGB=False, dtype=uint8> <valis.slide_io.VipsSlideReader object at 0x7f60636df350> False (783, 1024)\n",
      "<Slide, name = 1064>, width=1583, height=1210, channels=1, levels=1, RGB=False, dtype=uint8> <valis.slide_io.VipsSlideReader object at 0x7f60636dfce0> False (783, 1024)\n"
     ]
    },
    {
     "name": "stderr",
     "output_type": "stream",
     "text": [
      "Converting images:  41%|████      | 1065/2624 [00:24<00:36, 42.15image/s]"
     ]
    },
    {
     "name": "stdout",
     "output_type": "stream",
     "text": [
      "<Slide, name = 1065>, width=1583, height=1210, channels=1, levels=1, RGB=False, dtype=uint8> <valis.slide_io.VipsSlideReader object at 0x7f60636dff80> False (783, 1024)\n",
      "<Slide, name = 1066>, width=1583, height=1210, channels=1, levels=1, RGB=False, dtype=uint8> <valis.slide_io.VipsSlideReader object at 0x7f60636ddb20> False (783, 1024)\n",
      "<Slide, name = 1067>, width=1583, height=1210, channels=1, levels=1, RGB=False, dtype=uint8> <valis.slide_io.VipsSlideReader object at 0x7f60636dfdd0> False (783, 1024)\n",
      "<Slide, name = 1068>, width=1583, height=1210, channels=1, levels=1, RGB=False, dtype=uint8> <valis.slide_io.VipsSlideReader object at 0x7f60636dd220> False (783, 1024)\n",
      "<Slide, name = 1069>, width=1583, height=1210, channels=1, levels=1, RGB=False, dtype=uint8> <valis.slide_io.VipsSlideReader object at 0x7f60636dffe0> False (783, 1024)\n"
     ]
    },
    {
     "name": "stderr",
     "output_type": "stream",
     "text": [
      "Converting images:  41%|████      | 1070/2624 [00:24<00:36, 42.36image/s]"
     ]
    },
    {
     "name": "stdout",
     "output_type": "stream",
     "text": [
      "<Slide, name = 1070>, width=1583, height=1210, channels=1, levels=1, RGB=False, dtype=uint8> <valis.slide_io.VipsSlideReader object at 0x7f60636dfa10> False (783, 1024)\n",
      "<Slide, name = 1071>, width=1583, height=1210, channels=1, levels=1, RGB=False, dtype=uint8> <valis.slide_io.VipsSlideReader object at 0x7f60636dff50> False (783, 1024)\n",
      "<Slide, name = 1072>, width=1583, height=1210, channels=1, levels=1, RGB=False, dtype=uint8> <valis.slide_io.VipsSlideReader object at 0x7f60636dfbc0> False (783, 1024)\n",
      "<Slide, name = 1073>, width=1583, height=1210, channels=1, levels=1, RGB=False, dtype=uint8> <valis.slide_io.VipsSlideReader object at 0x7f60636dfb30> False (783, 1024)\n",
      "<Slide, name = 1074>, width=1583, height=1210, channels=1, levels=1, RGB=False, dtype=uint8> <valis.slide_io.VipsSlideReader object at 0x7f60636dfe00> False (783, 1024)\n"
     ]
    },
    {
     "name": "stderr",
     "output_type": "stream",
     "text": [
      "Converting images:  41%|████      | 1075/2624 [00:24<00:36, 42.45image/s]"
     ]
    },
    {
     "name": "stdout",
     "output_type": "stream",
     "text": [
      "<Slide, name = 1075>, width=1583, height=1210, channels=1, levels=1, RGB=False, dtype=uint8> <valis.slide_io.VipsSlideReader object at 0x7f60636df8c0> False (783, 1024)\n",
      "<Slide, name = 1076>, width=1583, height=1210, channels=1, levels=1, RGB=False, dtype=uint8> <valis.slide_io.VipsSlideReader object at 0x7f60636df7d0> False (783, 1024)\n",
      "<Slide, name = 1077>, width=1583, height=1210, channels=1, levels=1, RGB=False, dtype=uint8> <valis.slide_io.VipsSlideReader object at 0x7f60636df0b0> False (783, 1024)\n",
      "<Slide, name = 1078>, width=1583, height=1210, channels=1, levels=1, RGB=False, dtype=uint8> <valis.slide_io.VipsSlideReader object at 0x7f60636df230> False (783, 1024)\n",
      "<Slide, name = 1079>, width=1583, height=1210, channels=1, levels=1, RGB=False, dtype=uint8> <valis.slide_io.VipsSlideReader object at 0x7f60636df6e0> False (783, 1024)\n"
     ]
    },
    {
     "name": "stderr",
     "output_type": "stream",
     "text": [
      "Converting images:  41%|████      | 1080/2624 [00:24<00:36, 42.40image/s]"
     ]
    },
    {
     "name": "stdout",
     "output_type": "stream",
     "text": [
      "<Slide, name = 1080>, width=1583, height=1210, channels=1, levels=1, RGB=False, dtype=uint8> <valis.slide_io.VipsSlideReader object at 0x7f60636df3b0> False (783, 1024)\n",
      "<Slide, name = 1081>, width=1583, height=1210, channels=1, levels=1, RGB=False, dtype=uint8> <valis.slide_io.VipsSlideReader object at 0x7f60636df380> False (783, 1024)\n",
      "<Slide, name = 1082>, width=1583, height=1210, channels=1, levels=1, RGB=False, dtype=uint8> <valis.slide_io.VipsSlideReader object at 0x7f60636dede0> False (783, 1024)\n",
      "<Slide, name = 1083>, width=1583, height=1210, channels=1, levels=1, RGB=False, dtype=uint8> <valis.slide_io.VipsSlideReader object at 0x7f60636df2c0> False (783, 1024)\n",
      "<Slide, name = 1084>, width=1583, height=1210, channels=1, levels=1, RGB=False, dtype=uint8> <valis.slide_io.VipsSlideReader object at 0x7f60636def00> False (783, 1024)\n"
     ]
    },
    {
     "name": "stderr",
     "output_type": "stream",
     "text": [
      "Converting images:  41%|████▏     | 1085/2624 [00:24<00:36, 42.55image/s]"
     ]
    },
    {
     "name": "stdout",
     "output_type": "stream",
     "text": [
      "<Slide, name = 1085>, width=1583, height=1210, channels=1, levels=1, RGB=False, dtype=uint8> <valis.slide_io.VipsSlideReader object at 0x7f60636de840> False (783, 1024)\n",
      "<Slide, name = 1086>, width=1583, height=1210, channels=1, levels=1, RGB=False, dtype=uint8> <valis.slide_io.VipsSlideReader object at 0x7f60636def90> False (783, 1024)\n",
      "<Slide, name = 1087>, width=1583, height=1210, channels=1, levels=1, RGB=False, dtype=uint8> <valis.slide_io.VipsSlideReader object at 0x7f60636dec60> False (783, 1024)\n",
      "<Slide, name = 1088>, width=1583, height=1210, channels=1, levels=1, RGB=False, dtype=uint8> <valis.slide_io.VipsSlideReader object at 0x7f60636de810> False (783, 1024)\n",
      "<Slide, name = 1089>, width=1583, height=1210, channels=1, levels=1, RGB=False, dtype=uint8> <valis.slide_io.VipsSlideReader object at 0x7f60636decf0> False (783, 1024)\n"
     ]
    },
    {
     "name": "stderr",
     "output_type": "stream",
     "text": [
      "Converting images:  42%|████▏     | 1090/2624 [00:24<00:36, 41.95image/s]"
     ]
    },
    {
     "name": "stdout",
     "output_type": "stream",
     "text": [
      "<Slide, name = 1090>, width=1583, height=1210, channels=1, levels=1, RGB=False, dtype=uint8> <valis.slide_io.VipsSlideReader object at 0x7f60636dec00> False (783, 1024)\n",
      "<Slide, name = 1091>, width=1583, height=1210, channels=1, levels=1, RGB=False, dtype=uint8> <valis.slide_io.VipsSlideReader object at 0x7f60636deb10> False (783, 1024)\n",
      "<Slide, name = 1092>, width=1583, height=1210, channels=1, levels=1, RGB=False, dtype=uint8> <valis.slide_io.VipsSlideReader object at 0x7f60636dea20> False (783, 1024)\n",
      "<Slide, name = 1093>, width=1583, height=1210, channels=1, levels=1, RGB=False, dtype=uint8> <valis.slide_io.VipsSlideReader object at 0x7f60636de420> False (783, 1024)\n",
      "<Slide, name = 1094>, width=1583, height=1210, channels=1, levels=1, RGB=False, dtype=uint8> <valis.slide_io.VipsSlideReader object at 0x7f60636de510> False (783, 1024)\n"
     ]
    },
    {
     "name": "stderr",
     "output_type": "stream",
     "text": [
      "Converting images:  42%|████▏     | 1095/2624 [00:25<00:36, 41.43image/s]"
     ]
    },
    {
     "name": "stdout",
     "output_type": "stream",
     "text": [
      "<Slide, name = 1095>, width=1583, height=1210, channels=1, levels=1, RGB=False, dtype=uint8> <valis.slide_io.VipsSlideReader object at 0x7f60636de3f0> False (783, 1024)\n",
      "<Slide, name = 1096>, width=1583, height=1210, channels=1, levels=1, RGB=False, dtype=uint8> <valis.slide_io.VipsSlideReader object at 0x7f60636de360> False (783, 1024)\n",
      "<Slide, name = 1097>, width=1583, height=1210, channels=1, levels=1, RGB=False, dtype=uint8> <valis.slide_io.VipsSlideReader object at 0x7f60636de150> False (783, 1024)\n",
      "<Slide, name = 1098>, width=1583, height=1210, channels=1, levels=1, RGB=False, dtype=uint8> <valis.slide_io.VipsSlideReader object at 0x7f60636dd790> False (783, 1024)\n",
      "<Slide, name = 1099>, width=1583, height=1210, channels=1, levels=1, RGB=False, dtype=uint8> <valis.slide_io.VipsSlideReader object at 0x7f60636de4e0> False (783, 1024)\n"
     ]
    },
    {
     "name": "stderr",
     "output_type": "stream",
     "text": [
      "Converting images:  42%|████▏     | 1100/2624 [00:25<00:38, 39.89image/s]"
     ]
    },
    {
     "name": "stdout",
     "output_type": "stream",
     "text": [
      "<Slide, name = 1100>, width=1583, height=1210, channels=1, levels=1, RGB=False, dtype=uint8> <valis.slide_io.VipsSlideReader object at 0x7f60636dddf0> False (783, 1024)\n",
      "<Slide, name = 1101>, width=1583, height=1210, channels=1, levels=1, RGB=False, dtype=uint8> <valis.slide_io.VipsSlideReader object at 0x7f60636ddcd0> False (783, 1024)\n",
      "<Slide, name = 1102>, width=1583, height=1210, channels=1, levels=1, RGB=False, dtype=uint8> <valis.slide_io.VipsSlideReader object at 0x7f60636dda00> False (783, 1024)\n",
      "<Slide, name = 1103>, width=1583, height=1210, channels=1, levels=1, RGB=False, dtype=uint8> <valis.slide_io.VipsSlideReader object at 0x7f60636de0c0> False (783, 1024)\n",
      "<Slide, name = 1104>, width=1583, height=1210, channels=1, levels=1, RGB=False, dtype=uint8> <valis.slide_io.VipsSlideReader object at 0x7f60636dddc0> False (783, 1024)\n"
     ]
    },
    {
     "name": "stderr",
     "output_type": "stream",
     "text": [
      "Converting images:  42%|████▏     | 1105/2624 [00:25<00:37, 40.35image/s]"
     ]
    },
    {
     "name": "stdout",
     "output_type": "stream",
     "text": [
      "<Slide, name = 1105>, width=1583, height=1210, channels=1, levels=1, RGB=False, dtype=uint8> <valis.slide_io.VipsSlideReader object at 0x7f60636dd9d0> False (783, 1024)\n",
      "<Slide, name = 1106>, width=1583, height=1210, channels=1, levels=1, RGB=False, dtype=uint8> <valis.slide_io.VipsSlideReader object at 0x7f60636dd880> False (783, 1024)\n",
      "<Slide, name = 1107>, width=1583, height=1210, channels=1, levels=1, RGB=False, dtype=uint8> <valis.slide_io.VipsSlideReader object at 0x7f60636dd130> False (783, 1024)\n",
      "<Slide, name = 1108>, width=1583, height=1210, channels=1, levels=1, RGB=False, dtype=uint8> <valis.slide_io.VipsSlideReader object at 0x7f60636dd5b0> False (783, 1024)\n",
      "<Slide, name = 1109>, width=1583, height=1210, channels=1, levels=1, RGB=False, dtype=uint8> <valis.slide_io.VipsSlideReader object at 0x7f60636dd640> False (783, 1024)\n"
     ]
    },
    {
     "name": "stderr",
     "output_type": "stream",
     "text": [
      "Converting images:  42%|████▏     | 1110/2624 [00:25<00:36, 41.13image/s]"
     ]
    },
    {
     "name": "stdout",
     "output_type": "stream",
     "text": [
      "<Slide, name = 1110>, width=1583, height=1210, channels=1, levels=1, RGB=False, dtype=uint8> <valis.slide_io.VipsSlideReader object at 0x7f60636dd280> False (783, 1024)\n",
      "<Slide, name = 1111>, width=1583, height=1210, channels=1, levels=1, RGB=False, dtype=uint8> <valis.slide_io.VipsSlideReader object at 0x7f60636dd340> False (783, 1024)\n",
      "<Slide, name = 1112>, width=1583, height=1210, channels=1, levels=1, RGB=False, dtype=uint8> <valis.slide_io.VipsSlideReader object at 0x7f60636dd250> False (783, 1024)\n",
      "<Slide, name = 1113>, width=1583, height=1210, channels=1, levels=1, RGB=False, dtype=uint8> <valis.slide_io.VipsSlideReader object at 0x7f60636dc050> False (783, 1024)\n",
      "<Slide, name = 1114>, width=1583, height=1210, channels=1, levels=1, RGB=False, dtype=uint8> <valis.slide_io.VipsSlideReader object at 0x7f60636dd2e0> False (783, 1024)\n"
     ]
    },
    {
     "name": "stderr",
     "output_type": "stream",
     "text": [
      "Converting images:  42%|████▏     | 1115/2624 [00:25<00:35, 42.11image/s]"
     ]
    },
    {
     "name": "stdout",
     "output_type": "stream",
     "text": [
      "<Slide, name = 1115>, width=1583, height=1210, channels=1, levels=1, RGB=False, dtype=uint8> <valis.slide_io.VipsSlideReader object at 0x7f60636dcfe0> False (783, 1024)\n",
      "<Slide, name = 1116>, width=1583, height=1210, channels=1, levels=1, RGB=False, dtype=uint8> <valis.slide_io.VipsSlideReader object at 0x7f60636dcec0> False (783, 1024)\n",
      "<Slide, name = 1117>, width=1583, height=1210, channels=1, levels=1, RGB=False, dtype=uint8> <valis.slide_io.VipsSlideReader object at 0x7f60636dcb00> False (783, 1024)\n",
      "<Slide, name = 1118>, width=1583, height=1210, channels=1, levels=1, RGB=False, dtype=uint8> <valis.slide_io.VipsSlideReader object at 0x7f60636dce90> False (783, 1024)\n",
      "<Slide, name = 1119>, width=1583, height=1210, channels=1, levels=1, RGB=False, dtype=uint8> <valis.slide_io.VipsSlideReader object at 0x7f60636dcb60> False (783, 1024)\n"
     ]
    },
    {
     "name": "stderr",
     "output_type": "stream",
     "text": [
      "Converting images:  43%|████▎     | 1120/2624 [00:25<00:35, 42.67image/s]"
     ]
    },
    {
     "name": "stdout",
     "output_type": "stream",
     "text": [
      "<Slide, name = 1120>, width=1583, height=1210, channels=1, levels=1, RGB=False, dtype=uint8> <valis.slide_io.VipsSlideReader object at 0x7f60636dcb90> False (783, 1024)\n",
      "<Slide, name = 1121>, width=1583, height=1210, channels=1, levels=1, RGB=False, dtype=uint8> <valis.slide_io.VipsSlideReader object at 0x7f60636dc980> False (783, 1024)\n",
      "<Slide, name = 1122>, width=1583, height=1210, channels=1, levels=1, RGB=False, dtype=uint8> <valis.slide_io.VipsSlideReader object at 0x7f60636dcad0> False (783, 1024)\n",
      "<Slide, name = 1123>, width=1583, height=1210, channels=1, levels=1, RGB=False, dtype=uint8> <valis.slide_io.VipsSlideReader object at 0x7f60636dc620> False (783, 1024)\n",
      "<Slide, name = 1124>, width=1583, height=1210, channels=1, levels=1, RGB=False, dtype=uint8> <valis.slide_io.VipsSlideReader object at 0x7f60636dc680> False (783, 1024)\n"
     ]
    },
    {
     "name": "stderr",
     "output_type": "stream",
     "text": [
      "Converting images:  43%|████▎     | 1125/2624 [00:25<00:34, 42.95image/s]"
     ]
    },
    {
     "name": "stdout",
     "output_type": "stream",
     "text": [
      "<Slide, name = 1125>, width=1583, height=1210, channels=1, levels=1, RGB=False, dtype=uint8> <valis.slide_io.VipsSlideReader object at 0x7f60636dc110> False (783, 1024)\n",
      "<Slide, name = 1126>, width=1583, height=1210, channels=1, levels=1, RGB=False, dtype=uint8> <valis.slide_io.VipsSlideReader object at 0x7f60636dc860> False (783, 1024)\n",
      "<Slide, name = 1127>, width=1583, height=1210, channels=1, levels=1, RGB=False, dtype=uint8> <valis.slide_io.VipsSlideReader object at 0x7f60636dc200> False (783, 1024)\n",
      "<Slide, name = 1128>, width=1583, height=1210, channels=1, levels=1, RGB=False, dtype=uint8> <valis.slide_io.VipsSlideReader object at 0x7f60636dc290> False (783, 1024)\n",
      "<Slide, name = 1129>, width=1583, height=1210, channels=1, levels=1, RGB=False, dtype=uint8> <valis.slide_io.VipsSlideReader object at 0x7f606360fa40> False (783, 1024)\n"
     ]
    },
    {
     "name": "stderr",
     "output_type": "stream",
     "text": [
      "Converting images:  43%|████▎     | 1130/2624 [00:25<00:34, 42.84image/s]"
     ]
    },
    {
     "name": "stdout",
     "output_type": "stream",
     "text": [
      "<Slide, name = 1130>, width=1583, height=1210, channels=1, levels=1, RGB=False, dtype=uint8> <valis.slide_io.VipsSlideReader object at 0x7f606360f320> False (783, 1024)\n",
      "<Slide, name = 1131>, width=1583, height=1210, channels=1, levels=1, RGB=False, dtype=uint8> <valis.slide_io.VipsSlideReader object at 0x7f606360fb30> False (783, 1024)\n",
      "<Slide, name = 1132>, width=1583, height=1210, channels=1, levels=1, RGB=False, dtype=uint8> <valis.slide_io.VipsSlideReader object at 0x7f606360e750> False (783, 1024)\n",
      "<Slide, name = 1133>, width=1583, height=1210, channels=1, levels=1, RGB=False, dtype=uint8> <valis.slide_io.VipsSlideReader object at 0x7f606360f560> False (783, 1024)\n",
      "<Slide, name = 1134>, width=1583, height=1210, channels=1, levels=1, RGB=False, dtype=uint8> <valis.slide_io.VipsSlideReader object at 0x7f606360cfe0> False (783, 1024)\n"
     ]
    },
    {
     "name": "stderr",
     "output_type": "stream",
     "text": [
      "Converting images:  43%|████▎     | 1135/2624 [00:25<00:34, 42.84image/s]"
     ]
    },
    {
     "name": "stdout",
     "output_type": "stream",
     "text": [
      "<Slide, name = 1135>, width=1583, height=1210, channels=1, levels=1, RGB=False, dtype=uint8> <valis.slide_io.VipsSlideReader object at 0x7f606360eea0> False (783, 1024)\n",
      "<Slide, name = 1136>, width=1583, height=1210, channels=1, levels=1, RGB=False, dtype=uint8> <valis.slide_io.VipsSlideReader object at 0x7f606360ffb0> False (783, 1024)\n",
      "<Slide, name = 1137>, width=1583, height=1210, channels=1, levels=1, RGB=False, dtype=uint8> <valis.slide_io.VipsSlideReader object at 0x7f606360dca0> False (783, 1024)\n",
      "<Slide, name = 1138>, width=1583, height=1210, channels=1, levels=1, RGB=False, dtype=uint8> <valis.slide_io.VipsSlideReader object at 0x7f606360e300> False (783, 1024)\n",
      "<Slide, name = 1139>, width=1583, height=1210, channels=1, levels=1, RGB=False, dtype=uint8> <valis.slide_io.VipsSlideReader object at 0x7f606360fad0> False (783, 1024)\n"
     ]
    },
    {
     "name": "stderr",
     "output_type": "stream",
     "text": [
      "Converting images:  43%|████▎     | 1140/2624 [00:26<00:35, 42.34image/s]"
     ]
    },
    {
     "name": "stdout",
     "output_type": "stream",
     "text": [
      "<Slide, name = 1140>, width=1583, height=1210, channels=1, levels=1, RGB=False, dtype=uint8> <valis.slide_io.VipsSlideReader object at 0x7f606360f200> False (783, 1024)\n",
      "<Slide, name = 1141>, width=1583, height=1210, channels=1, levels=1, RGB=False, dtype=uint8> <valis.slide_io.VipsSlideReader object at 0x7f606360c3b0> False (783, 1024)\n",
      "<Slide, name = 1142>, width=1583, height=1210, channels=1, levels=1, RGB=False, dtype=uint8> <valis.slide_io.VipsSlideReader object at 0x7f606360e720> False (783, 1024)\n",
      "<Slide, name = 1143>, width=1583, height=1210, channels=1, levels=1, RGB=False, dtype=uint8> <valis.slide_io.VipsSlideReader object at 0x7f606360c2c0> False (783, 1024)\n",
      "<Slide, name = 1144>, width=1583, height=1210, channels=1, levels=1, RGB=False, dtype=uint8> <valis.slide_io.VipsSlideReader object at 0x7f606360c230> False (783, 1024)\n"
     ]
    },
    {
     "name": "stderr",
     "output_type": "stream",
     "text": [
      "Converting images:  44%|████▎     | 1145/2624 [00:26<00:35, 41.16image/s]"
     ]
    },
    {
     "name": "stdout",
     "output_type": "stream",
     "text": [
      "<Slide, name = 1145>, width=1583, height=1210, channels=1, levels=1, RGB=False, dtype=uint8> <valis.slide_io.VipsSlideReader object at 0x7f606360c470> False (783, 1024)\n",
      "<Slide, name = 1146>, width=1583, height=1210, channels=1, levels=1, RGB=False, dtype=uint8> <valis.slide_io.VipsSlideReader object at 0x7f606360c380> False (783, 1024)\n",
      "<Slide, name = 1147>, width=1583, height=1210, channels=1, levels=1, RGB=False, dtype=uint8> <valis.slide_io.VipsSlideReader object at 0x7f606360c740> False (783, 1024)\n",
      "<Slide, name = 1148>, width=1583, height=1210, channels=1, levels=1, RGB=False, dtype=uint8> <valis.slide_io.VipsSlideReader object at 0x7f606360c4d0> False (783, 1024)\n",
      "<Slide, name = 1149>, width=1583, height=1210, channels=1, levels=1, RGB=False, dtype=uint8> <valis.slide_io.VipsSlideReader object at 0x7f606360c200> False (783, 1024)\n"
     ]
    },
    {
     "name": "stderr",
     "output_type": "stream",
     "text": [
      "Converting images:  44%|████▍     | 1150/2624 [00:26<00:35, 41.79image/s]"
     ]
    },
    {
     "name": "stdout",
     "output_type": "stream",
     "text": [
      "<Slide, name = 1150>, width=1583, height=1210, channels=1, levels=1, RGB=False, dtype=uint8> <valis.slide_io.VipsSlideReader object at 0x7f606360c440> False (783, 1024)\n",
      "<Slide, name = 1151>, width=1583, height=1210, channels=1, levels=1, RGB=False, dtype=uint8> <valis.slide_io.VipsSlideReader object at 0x7f606360cad0> False (783, 1024)\n",
      "<Slide, name = 1152>, width=1583, height=1210, channels=1, levels=1, RGB=False, dtype=uint8> <valis.slide_io.VipsSlideReader object at 0x7f606360cfb0> False (783, 1024)\n",
      "<Slide, name = 1153>, width=1583, height=1210, channels=1, levels=1, RGB=False, dtype=uint8> <valis.slide_io.VipsSlideReader object at 0x7f606360c4a0> False (783, 1024)\n",
      "<Slide, name = 1154>, width=1583, height=1210, channels=1, levels=1, RGB=False, dtype=uint8> <valis.slide_io.VipsSlideReader object at 0x7f606360c860> False (783, 1024)\n"
     ]
    },
    {
     "name": "stderr",
     "output_type": "stream",
     "text": [
      "Converting images:  44%|████▍     | 1155/2624 [00:26<00:35, 41.31image/s]"
     ]
    },
    {
     "name": "stdout",
     "output_type": "stream",
     "text": [
      "<Slide, name = 1155>, width=1583, height=1210, channels=1, levels=1, RGB=False, dtype=uint8> <valis.slide_io.VipsSlideReader object at 0x7f606360cc50> False (783, 1024)\n",
      "<Slide, name = 1156>, width=1583, height=1210, channels=1, levels=1, RGB=False, dtype=uint8> <valis.slide_io.VipsSlideReader object at 0x7f606360c920> False (783, 1024)\n",
      "<Slide, name = 1157>, width=1583, height=1210, channels=1, levels=1, RGB=False, dtype=uint8> <valis.slide_io.VipsSlideReader object at 0x7f606360d640> False (783, 1024)\n",
      "<Slide, name = 1158>, width=1583, height=1210, channels=1, levels=1, RGB=False, dtype=uint8> <valis.slide_io.VipsSlideReader object at 0x7f606360cf20> False (783, 1024)\n",
      "<Slide, name = 1159>, width=1583, height=1210, channels=1, levels=1, RGB=False, dtype=uint8> <valis.slide_io.VipsSlideReader object at 0x7f606360d250> False (783, 1024)\n"
     ]
    },
    {
     "name": "stderr",
     "output_type": "stream",
     "text": [
      "Converting images:  44%|████▍     | 1160/2624 [00:26<00:34, 42.23image/s]"
     ]
    },
    {
     "name": "stdout",
     "output_type": "stream",
     "text": [
      "<Slide, name = 1160>, width=1583, height=1210, channels=1, levels=1, RGB=False, dtype=uint8> <valis.slide_io.VipsSlideReader object at 0x7f6063e4f320> False (783, 1024)\n",
      "<Slide, name = 1161>, width=1583, height=1210, channels=1, levels=1, RGB=False, dtype=uint8> <valis.slide_io.VipsSlideReader object at 0x7f6063e94ce0> False (783, 1024)\n",
      "<Slide, name = 1162>, width=1583, height=1210, channels=1, levels=1, RGB=False, dtype=uint8> <valis.slide_io.VipsSlideReader object at 0x7f606b78df70> False (783, 1024)\n",
      "<Slide, name = 1163>, width=1583, height=1210, channels=1, levels=1, RGB=False, dtype=uint8> <valis.slide_io.VipsSlideReader object at 0x7f60637ab0b0> False (783, 1024)\n",
      "<Slide, name = 1164>, width=1583, height=1210, channels=1, levels=1, RGB=False, dtype=uint8> <valis.slide_io.VipsSlideReader object at 0x7f6063e953a0> False (783, 1024)\n"
     ]
    },
    {
     "name": "stderr",
     "output_type": "stream",
     "text": [
      "Converting images:  44%|████▍     | 1165/2624 [00:26<00:34, 42.32image/s]"
     ]
    },
    {
     "name": "stdout",
     "output_type": "stream",
     "text": [
      "<Slide, name = 1165>, width=1583, height=1210, channels=1, levels=1, RGB=False, dtype=uint8> <valis.slide_io.VipsSlideReader object at 0x7f6063dec9e0> False (783, 1024)\n",
      "<Slide, name = 1166>, width=1583, height=1210, channels=1, levels=1, RGB=False, dtype=uint8> <valis.slide_io.VipsSlideReader object at 0x7f60637bcda0> False (783, 1024)\n",
      "<Slide, name = 1167>, width=1583, height=1210, channels=1, levels=1, RGB=False, dtype=uint8> <valis.slide_io.VipsSlideReader object at 0x7f6063e965a0> False (783, 1024)\n",
      "<Slide, name = 1168>, width=1583, height=1210, channels=1, levels=1, RGB=False, dtype=uint8> <valis.slide_io.VipsSlideReader object at 0x7f6063e8f290> False (783, 1024)\n",
      "<Slide, name = 1169>, width=1583, height=1210, channels=1, levels=1, RGB=False, dtype=uint8> <valis.slide_io.VipsSlideReader object at 0x7f606bdbde80> False (783, 1024)\n"
     ]
    },
    {
     "name": "stderr",
     "output_type": "stream",
     "text": [
      "Converting images:  45%|████▍     | 1170/2624 [00:26<00:33, 42.89image/s]"
     ]
    },
    {
     "name": "stdout",
     "output_type": "stream",
     "text": [
      "<Slide, name = 1170>, width=1583, height=1210, channels=1, levels=1, RGB=False, dtype=uint8> <valis.slide_io.VipsSlideReader object at 0x7f6063e8f230> False (783, 1024)\n",
      "<Slide, name = 1171>, width=1583, height=1210, channels=1, levels=1, RGB=False, dtype=uint8> <valis.slide_io.VipsSlideReader object at 0x7f606b8e76b0> False (783, 1024)\n",
      "<Slide, name = 1172>, width=1583, height=1210, channels=1, levels=1, RGB=False, dtype=uint8> <valis.slide_io.VipsSlideReader object at 0x7f606b8e5c70> False (783, 1024)\n",
      "<Slide, name = 1173>, width=1583, height=1210, channels=1, levels=1, RGB=False, dtype=uint8> <valis.slide_io.VipsSlideReader object at 0x7f606b8e5610> False (783, 1024)\n",
      "<Slide, name = 1174>, width=1583, height=1210, channels=1, levels=1, RGB=False, dtype=uint8> <valis.slide_io.VipsSlideReader object at 0x7f606b7749b0> False (783, 1024)\n"
     ]
    },
    {
     "name": "stderr",
     "output_type": "stream",
     "text": [
      "Converting images:  45%|████▍     | 1175/2624 [00:26<00:33, 43.32image/s]"
     ]
    },
    {
     "name": "stdout",
     "output_type": "stream",
     "text": [
      "<Slide, name = 1175>, width=1583, height=1210, channels=1, levels=1, RGB=False, dtype=uint8> <valis.slide_io.VipsSlideReader object at 0x7f606380fbc0> False (783, 1024)\n",
      "<Slide, name = 1176>, width=1583, height=1210, channels=1, levels=1, RGB=False, dtype=uint8> <valis.slide_io.VipsSlideReader object at 0x7f606380fb90> False (783, 1024)\n",
      "<Slide, name = 1177>, width=1583, height=1210, channels=1, levels=1, RGB=False, dtype=uint8> <valis.slide_io.VipsSlideReader object at 0x7f606380ed80> False (783, 1024)\n",
      "<Slide, name = 1178>, width=1583, height=1210, channels=1, levels=1, RGB=False, dtype=uint8> <valis.slide_io.VipsSlideReader object at 0x7f606bde0ec0> False (783, 1024)\n",
      "<Slide, name = 1179>, width=1583, height=1210, channels=1, levels=1, RGB=False, dtype=uint8> <valis.slide_io.VipsSlideReader object at 0x7f606380ff50> False (783, 1024)\n"
     ]
    },
    {
     "name": "stderr",
     "output_type": "stream",
     "text": [
      "Converting images:  45%|████▍     | 1180/2624 [00:27<00:33, 43.07image/s]"
     ]
    },
    {
     "name": "stdout",
     "output_type": "stream",
     "text": [
      "<Slide, name = 1180>, width=1583, height=1210, channels=1, levels=1, RGB=False, dtype=uint8> <valis.slide_io.VipsSlideReader object at 0x7f60638320f0> False (783, 1024)\n",
      "<Slide, name = 1181>, width=1583, height=1210, channels=1, levels=1, RGB=False, dtype=uint8> <valis.slide_io.VipsSlideReader object at 0x7f6063831e80> False (783, 1024)\n",
      "<Slide, name = 1182>, width=1583, height=1210, channels=1, levels=1, RGB=False, dtype=uint8> <valis.slide_io.VipsSlideReader object at 0x7f6063832ae0> False (783, 1024)\n",
      "<Slide, name = 1183>, width=1583, height=1210, channels=1, levels=1, RGB=False, dtype=uint8> <valis.slide_io.VipsSlideReader object at 0x7f6063832a20> False (783, 1024)\n",
      "<Slide, name = 1184>, width=1583, height=1210, channels=1, levels=1, RGB=False, dtype=uint8> <valis.slide_io.VipsSlideReader object at 0x7f6063eb0ef0> False (783, 1024)\n"
     ]
    },
    {
     "name": "stderr",
     "output_type": "stream",
     "text": [
      "Converting images:  45%|████▌     | 1185/2624 [00:27<00:33, 43.11image/s]"
     ]
    },
    {
     "name": "stdout",
     "output_type": "stream",
     "text": [
      "<Slide, name = 1185>, width=1583, height=1210, channels=1, levels=1, RGB=False, dtype=uint8> <valis.slide_io.VipsSlideReader object at 0x7f6063eb0e60> False (783, 1024)\n",
      "<Slide, name = 1186>, width=1583, height=1210, channels=1, levels=1, RGB=False, dtype=uint8> <valis.slide_io.VipsSlideReader object at 0x7f6063eb1700> False (783, 1024)\n",
      "<Slide, name = 1187>, width=1583, height=1210, channels=1, levels=1, RGB=False, dtype=uint8> <valis.slide_io.VipsSlideReader object at 0x7f6063897e90> False (783, 1024)\n",
      "<Slide, name = 1188>, width=1583, height=1210, channels=1, levels=1, RGB=False, dtype=uint8> <valis.slide_io.VipsSlideReader object at 0x7f60638956a0> False (783, 1024)\n",
      "<Slide, name = 1189>, width=1583, height=1210, channels=1, levels=1, RGB=False, dtype=uint8> <valis.slide_io.VipsSlideReader object at 0x7f6063897d40> False (783, 1024)\n"
     ]
    },
    {
     "name": "stderr",
     "output_type": "stream",
     "text": [
      "Converting images:  45%|████▌     | 1190/2624 [00:27<00:32, 43.79image/s]"
     ]
    },
    {
     "name": "stdout",
     "output_type": "stream",
     "text": [
      "<Slide, name = 1190>, width=1583, height=1210, channels=1, levels=1, RGB=False, dtype=uint8> <valis.slide_io.VipsSlideReader object at 0x7f6063896240> False (783, 1024)\n",
      "<Slide, name = 1191>, width=1583, height=1210, channels=1, levels=1, RGB=False, dtype=uint8> <valis.slide_io.VipsSlideReader object at 0x7f6063894cb0> False (783, 1024)\n",
      "<Slide, name = 1192>, width=1583, height=1210, channels=1, levels=1, RGB=False, dtype=uint8> <valis.slide_io.VipsSlideReader object at 0x7f6063897a70> False (783, 1024)\n",
      "<Slide, name = 1193>, width=1583, height=1210, channels=1, levels=1, RGB=False, dtype=uint8> <valis.slide_io.VipsSlideReader object at 0x7f60638940e0> False (783, 1024)\n",
      "<Slide, name = 1194>, width=1583, height=1210, channels=1, levels=1, RGB=False, dtype=uint8> <valis.slide_io.VipsSlideReader object at 0x7f6063894d10> False (783, 1024)\n"
     ]
    },
    {
     "name": "stderr",
     "output_type": "stream",
     "text": [
      "Converting images:  46%|████▌     | 1195/2624 [00:27<00:32, 43.32image/s]"
     ]
    },
    {
     "name": "stdout",
     "output_type": "stream",
     "text": [
      "<Slide, name = 1195>, width=1583, height=1210, channels=1, levels=1, RGB=False, dtype=uint8> <valis.slide_io.VipsSlideReader object at 0x7f60638973b0> False (783, 1024)\n",
      "<Slide, name = 1196>, width=1583, height=1210, channels=1, levels=1, RGB=False, dtype=uint8> <valis.slide_io.VipsSlideReader object at 0x7f6063896150> False (783, 1024)\n",
      "<Slide, name = 1197>, width=1583, height=1210, channels=1, levels=1, RGB=False, dtype=uint8> <valis.slide_io.VipsSlideReader object at 0x7f60638fd670> False (783, 1024)\n",
      "<Slide, name = 1198>, width=1583, height=1210, channels=1, levels=1, RGB=False, dtype=uint8> <valis.slide_io.VipsSlideReader object at 0x7f60638fc320> False (783, 1024)\n",
      "<Slide, name = 1199>, width=1583, height=1210, channels=1, levels=1, RGB=False, dtype=uint8> <valis.slide_io.VipsSlideReader object at 0x7f60638fd9d0> False (783, 1024)\n"
     ]
    },
    {
     "name": "stderr",
     "output_type": "stream",
     "text": [
      "Converting images:  46%|████▌     | 1200/2624 [00:27<00:33, 42.75image/s]"
     ]
    },
    {
     "name": "stdout",
     "output_type": "stream",
     "text": [
      "<Slide, name = 1200>, width=1583, height=1210, channels=1, levels=1, RGB=False, dtype=uint8> <valis.slide_io.VipsSlideReader object at 0x7f60638fc470> False (783, 1024)\n",
      "<Slide, name = 1201>, width=1583, height=1210, channels=1, levels=1, RGB=False, dtype=uint8> <valis.slide_io.VipsSlideReader object at 0x7f60638fd430> False (783, 1024)\n",
      "<Slide, name = 1202>, width=1583, height=1210, channels=1, levels=1, RGB=False, dtype=uint8> <valis.slide_io.VipsSlideReader object at 0x7f60638fec00> False (783, 1024)\n",
      "<Slide, name = 1203>, width=1583, height=1210, channels=1, levels=1, RGB=False, dtype=uint8> <valis.slide_io.VipsSlideReader object at 0x7f60638fc3b0> False (783, 1024)\n",
      "<Slide, name = 1204>, width=1583, height=1210, channels=1, levels=1, RGB=False, dtype=uint8> <valis.slide_io.VipsSlideReader object at 0x7f606b762960> False (783, 1024)\n"
     ]
    },
    {
     "name": "stderr",
     "output_type": "stream",
     "text": [
      "Converting images:  46%|████▌     | 1205/2624 [00:27<00:32, 43.31image/s]"
     ]
    },
    {
     "name": "stdout",
     "output_type": "stream",
     "text": [
      "<Slide, name = 1205>, width=1583, height=1210, channels=1, levels=1, RGB=False, dtype=uint8> <valis.slide_io.VipsSlideReader object at 0x7f606b7610a0> False (783, 1024)\n",
      "<Slide, name = 1206>, width=1583, height=1210, channels=1, levels=1, RGB=False, dtype=uint8> <valis.slide_io.VipsSlideReader object at 0x7f60637444a0> False (783, 1024)\n",
      "<Slide, name = 1207>, width=1583, height=1210, channels=1, levels=1, RGB=False, dtype=uint8> <valis.slide_io.VipsSlideReader object at 0x7f60637464b0> False (783, 1024)\n",
      "<Slide, name = 1208>, width=1583, height=1210, channels=1, levels=1, RGB=False, dtype=uint8> <valis.slide_io.VipsSlideReader object at 0x7f6063744350> False (783, 1024)\n",
      "<Slide, name = 1209>, width=1583, height=1210, channels=1, levels=1, RGB=False, dtype=uint8> <valis.slide_io.VipsSlideReader object at 0x7f6063744860> False (783, 1024)\n"
     ]
    },
    {
     "name": "stderr",
     "output_type": "stream",
     "text": [
      "Converting images:  46%|████▌     | 1210/2624 [00:27<00:32, 43.55image/s]"
     ]
    },
    {
     "name": "stdout",
     "output_type": "stream",
     "text": [
      "<Slide, name = 1210>, width=1583, height=1210, channels=1, levels=1, RGB=False, dtype=uint8> <valis.slide_io.VipsSlideReader object at 0x7f60637445f0> False (783, 1024)\n",
      "<Slide, name = 1211>, width=1583, height=1210, channels=1, levels=1, RGB=False, dtype=uint8> <valis.slide_io.VipsSlideReader object at 0x7f6063744500> False (783, 1024)\n",
      "<Slide, name = 1212>, width=1583, height=1210, channels=1, levels=1, RGB=False, dtype=uint8> <valis.slide_io.VipsSlideReader object at 0x7f6063744530> False (783, 1024)\n",
      "<Slide, name = 1213>, width=1583, height=1210, channels=1, levels=1, RGB=False, dtype=uint8> <valis.slide_io.VipsSlideReader object at 0x7f6063744830> False (783, 1024)\n",
      "<Slide, name = 1214>, width=1583, height=1210, channels=1, levels=1, RGB=False, dtype=uint8> <valis.slide_io.VipsSlideReader object at 0x7f6063744890> False (783, 1024)\n"
     ]
    },
    {
     "name": "stderr",
     "output_type": "stream",
     "text": [
      "Converting images:  46%|████▋     | 1215/2624 [00:27<00:32, 43.74image/s]"
     ]
    },
    {
     "name": "stdout",
     "output_type": "stream",
     "text": [
      "<Slide, name = 1215>, width=1583, height=1210, channels=1, levels=1, RGB=False, dtype=uint8> <valis.slide_io.VipsSlideReader object at 0x7f6063744950> False (783, 1024)\n",
      "<Slide, name = 1216>, width=1583, height=1210, channels=1, levels=1, RGB=False, dtype=uint8> <valis.slide_io.VipsSlideReader object at 0x7f6063744a10> False (783, 1024)\n",
      "<Slide, name = 1217>, width=1583, height=1210, channels=1, levels=1, RGB=False, dtype=uint8> <valis.slide_io.VipsSlideReader object at 0x7f60638eddf0> False (783, 1024)\n",
      "<Slide, name = 1218>, width=1583, height=1210, channels=1, levels=1, RGB=False, dtype=uint8> <valis.slide_io.VipsSlideReader object at 0x7f60638ee090> False (783, 1024)\n",
      "<Slide, name = 1219>, width=1583, height=1210, channels=1, levels=1, RGB=False, dtype=uint8> <valis.slide_io.VipsSlideReader object at 0x7f60638edf10> False (783, 1024)\n"
     ]
    },
    {
     "name": "stderr",
     "output_type": "stream",
     "text": [
      "Converting images:  46%|████▋     | 1220/2624 [00:27<00:32, 43.55image/s]"
     ]
    },
    {
     "name": "stdout",
     "output_type": "stream",
     "text": [
      "<Slide, name = 1220>, width=1583, height=1210, channels=1, levels=1, RGB=False, dtype=uint8> <valis.slide_io.VipsSlideReader object at 0x7f60638ecce0> False (783, 1024)\n",
      "<Slide, name = 1221>, width=1583, height=1210, channels=1, levels=1, RGB=False, dtype=uint8> <valis.slide_io.VipsSlideReader object at 0x7f60638ec560> False (783, 1024)\n",
      "<Slide, name = 1222>, width=1583, height=1210, channels=1, levels=1, RGB=False, dtype=uint8> <valis.slide_io.VipsSlideReader object at 0x7f60638ed070> False (783, 1024)\n",
      "<Slide, name = 1223>, width=1583, height=1210, channels=1, levels=1, RGB=False, dtype=uint8> <valis.slide_io.VipsSlideReader object at 0x7f60638ec3e0> False (783, 1024)\n",
      "<Slide, name = 1224>, width=1583, height=1210, channels=1, levels=1, RGB=False, dtype=uint8> <valis.slide_io.VipsSlideReader object at 0x7f60638ee0f0> False (783, 1024)\n"
     ]
    },
    {
     "name": "stderr",
     "output_type": "stream",
     "text": [
      "Converting images:  47%|████▋     | 1225/2624 [00:28<00:31, 44.00image/s]"
     ]
    },
    {
     "name": "stdout",
     "output_type": "stream",
     "text": [
      "<Slide, name = 1225>, width=1583, height=1210, channels=1, levels=1, RGB=False, dtype=uint8> <valis.slide_io.VipsSlideReader object at 0x7f60638ede80> False (783, 1024)\n",
      "<Slide, name = 1226>, width=1583, height=1210, channels=1, levels=1, RGB=False, dtype=uint8> <valis.slide_io.VipsSlideReader object at 0x7f60638ee000> False (783, 1024)\n",
      "<Slide, name = 1227>, width=1583, height=1210, channels=1, levels=1, RGB=False, dtype=uint8> <valis.slide_io.VipsSlideReader object at 0x7f60638ecec0> False (783, 1024)\n",
      "<Slide, name = 1228>, width=1583, height=1210, channels=1, levels=1, RGB=False, dtype=uint8> <valis.slide_io.VipsSlideReader object at 0x7f606360a270> False (783, 1024)\n",
      "<Slide, name = 1229>, width=1583, height=1210, channels=1, levels=1, RGB=False, dtype=uint8> <valis.slide_io.VipsSlideReader object at 0x7f6063609fd0> False (783, 1024)\n"
     ]
    },
    {
     "name": "stderr",
     "output_type": "stream",
     "text": [
      "Converting images:  47%|████▋     | 1230/2624 [00:28<00:32, 43.25image/s]"
     ]
    },
    {
     "name": "stdout",
     "output_type": "stream",
     "text": [
      "<Slide, name = 1230>, width=1583, height=1210, channels=1, levels=1, RGB=False, dtype=uint8> <valis.slide_io.VipsSlideReader object at 0x7f606360a210> False (783, 1024)\n",
      "<Slide, name = 1231>, width=1583, height=1210, channels=1, levels=1, RGB=False, dtype=uint8> <valis.slide_io.VipsSlideReader object at 0x7f6063609cd0> False (783, 1024)\n",
      "<Slide, name = 1232>, width=1583, height=1210, channels=1, levels=1, RGB=False, dtype=uint8> <valis.slide_io.VipsSlideReader object at 0x7f606360be00> False (783, 1024)\n",
      "<Slide, name = 1233>, width=1583, height=1210, channels=1, levels=1, RGB=False, dtype=uint8> <valis.slide_io.VipsSlideReader object at 0x7f606360b0b0> False (783, 1024)\n",
      "<Slide, name = 1234>, width=1583, height=1210, channels=1, levels=1, RGB=False, dtype=uint8> <valis.slide_io.VipsSlideReader object at 0x7f606360ba40> False (783, 1024)\n"
     ]
    },
    {
     "name": "stderr",
     "output_type": "stream",
     "text": [
      "Converting images:  47%|████▋     | 1235/2624 [00:28<00:32, 43.16image/s]"
     ]
    },
    {
     "name": "stdout",
     "output_type": "stream",
     "text": [
      "<Slide, name = 1235>, width=1583, height=1210, channels=1, levels=1, RGB=False, dtype=uint8> <valis.slide_io.VipsSlideReader object at 0x7f606360afc0> False (783, 1024)\n",
      "<Slide, name = 1236>, width=1583, height=1210, channels=1, levels=1, RGB=False, dtype=uint8> <valis.slide_io.VipsSlideReader object at 0x7f606360b020> False (783, 1024)\n",
      "<Slide, name = 1237>, width=1583, height=1210, channels=1, levels=1, RGB=False, dtype=uint8> <valis.slide_io.VipsSlideReader object at 0x7f606360a8d0> False (783, 1024)\n",
      "<Slide, name = 1238>, width=1583, height=1210, channels=1, levels=1, RGB=False, dtype=uint8> <valis.slide_io.VipsSlideReader object at 0x7f6063609f40> False (783, 1024)\n",
      "<Slide, name = 1239>, width=1583, height=1210, channels=1, levels=1, RGB=False, dtype=uint8> <valis.slide_io.VipsSlideReader object at 0x7f606360af30> False (783, 1024)\n"
     ]
    },
    {
     "name": "stderr",
     "output_type": "stream",
     "text": [
      "Converting images:  47%|████▋     | 1240/2624 [00:28<00:32, 42.64image/s]"
     ]
    },
    {
     "name": "stdout",
     "output_type": "stream",
     "text": [
      "<Slide, name = 1240>, width=1583, height=1210, channels=1, levels=1, RGB=False, dtype=uint8> <valis.slide_io.VipsSlideReader object at 0x7f606360a1e0> False (783, 1024)\n",
      "<Slide, name = 1241>, width=1583, height=1210, channels=1, levels=1, RGB=False, dtype=uint8> <valis.slide_io.VipsSlideReader object at 0x7f606360a6c0> False (783, 1024)\n",
      "<Slide, name = 1242>, width=1583, height=1210, channels=1, levels=1, RGB=False, dtype=uint8> <valis.slide_io.VipsSlideReader object at 0x7f606360bc20> False (783, 1024)\n",
      "<Slide, name = 1243>, width=1583, height=1210, channels=1, levels=1, RGB=False, dtype=uint8> <valis.slide_io.VipsSlideReader object at 0x7f606360b7d0> False (783, 1024)\n",
      "<Slide, name = 1244>, width=1583, height=1210, channels=1, levels=1, RGB=False, dtype=uint8> <valis.slide_io.VipsSlideReader object at 0x7f606360a0c0> False (783, 1024)\n"
     ]
    },
    {
     "name": "stderr",
     "output_type": "stream",
     "text": [
      "Converting images:  47%|████▋     | 1245/2624 [00:28<00:32, 42.64image/s]"
     ]
    },
    {
     "name": "stdout",
     "output_type": "stream",
     "text": [
      "<Slide, name = 1245>, width=1583, height=1210, channels=1, levels=1, RGB=False, dtype=uint8> <valis.slide_io.VipsSlideReader object at 0x7f6063609670> False (783, 1024)\n",
      "<Slide, name = 1246>, width=1583, height=1210, channels=1, levels=1, RGB=False, dtype=uint8> <valis.slide_io.VipsSlideReader object at 0x7f60636090d0> False (783, 1024)\n",
      "<Slide, name = 1247>, width=1583, height=1210, channels=1, levels=1, RGB=False, dtype=uint8> <valis.slide_io.VipsSlideReader object at 0x7f606360b890> False (783, 1024)\n",
      "<Slide, name = 1248>, width=1583, height=1210, channels=1, levels=1, RGB=False, dtype=uint8> <valis.slide_io.VipsSlideReader object at 0x7f606b79a750> False (783, 1024)\n",
      "<Slide, name = 1249>, width=1583, height=1210, channels=1, levels=1, RGB=False, dtype=uint8> <valis.slide_io.VipsSlideReader object at 0x7f606b79b380> False (783, 1024)\n"
     ]
    },
    {
     "name": "stderr",
     "output_type": "stream",
     "text": [
      "Converting images:  48%|████▊     | 1250/2624 [00:28<00:31, 43.18image/s]"
     ]
    },
    {
     "name": "stdout",
     "output_type": "stream",
     "text": [
      "<Slide, name = 1250>, width=1583, height=1210, channels=1, levels=1, RGB=False, dtype=uint8> <valis.slide_io.VipsSlideReader object at 0x7f606b799ee0> False (783, 1024)\n",
      "<Slide, name = 1251>, width=1583, height=1210, channels=1, levels=1, RGB=False, dtype=uint8> <valis.slide_io.VipsSlideReader object at 0x7f606b79b410> False (783, 1024)\n",
      "<Slide, name = 1252>, width=1583, height=1210, channels=1, levels=1, RGB=False, dtype=uint8> <valis.slide_io.VipsSlideReader object at 0x7f60637ec590> False (783, 1024)\n",
      "<Slide, name = 1253>, width=1583, height=1210, channels=1, levels=1, RGB=False, dtype=uint8> <valis.slide_io.VipsSlideReader object at 0x7f60637ee510> False (783, 1024)\n",
      "<Slide, name = 1254>, width=1583, height=1210, channels=1, levels=1, RGB=False, dtype=uint8> <valis.slide_io.VipsSlideReader object at 0x7f60637efb60> False (783, 1024)\n"
     ]
    },
    {
     "name": "stderr",
     "output_type": "stream",
     "text": [
      "Converting images:  48%|████▊     | 1255/2624 [00:28<00:31, 43.19image/s]"
     ]
    },
    {
     "name": "stdout",
     "output_type": "stream",
     "text": [
      "<Slide, name = 1255>, width=1583, height=1210, channels=1, levels=1, RGB=False, dtype=uint8> <valis.slide_io.VipsSlideReader object at 0x7f60637ee060> False (783, 1024)\n",
      "<Slide, name = 1256>, width=1583, height=1210, channels=1, levels=1, RGB=False, dtype=uint8> <valis.slide_io.VipsSlideReader object at 0x7f60637ef470> False (783, 1024)\n",
      "<Slide, name = 1257>, width=1583, height=1210, channels=1, levels=1, RGB=False, dtype=uint8> <valis.slide_io.VipsSlideReader object at 0x7f60637efe60> False (783, 1024)\n",
      "<Slide, name = 1258>, width=1583, height=1210, channels=1, levels=1, RGB=False, dtype=uint8> <valis.slide_io.VipsSlideReader object at 0x7f60637eeff0> False (783, 1024)\n",
      "<Slide, name = 1259>, width=1583, height=1210, channels=1, levels=1, RGB=False, dtype=uint8> <valis.slide_io.VipsSlideReader object at 0x7f60637eff80> False (783, 1024)\n"
     ]
    },
    {
     "name": "stderr",
     "output_type": "stream",
     "text": [
      "Converting images:  48%|████▊     | 1260/2624 [00:28<00:31, 42.86image/s]"
     ]
    },
    {
     "name": "stdout",
     "output_type": "stream",
     "text": [
      "<Slide, name = 1260>, width=1583, height=1210, channels=1, levels=1, RGB=False, dtype=uint8> <valis.slide_io.VipsSlideReader object at 0x7f60637ee4b0> False (783, 1024)\n",
      "<Slide, name = 1261>, width=1583, height=1210, channels=1, levels=1, RGB=False, dtype=uint8> <valis.slide_io.VipsSlideReader object at 0x7f60637ee6f0> False (783, 1024)\n",
      "<Slide, name = 1262>, width=1583, height=1210, channels=1, levels=1, RGB=False, dtype=uint8> <valis.slide_io.VipsSlideReader object at 0x7f60637efd10> False (783, 1024)\n",
      "<Slide, name = 1263>, width=1583, height=1210, channels=1, levels=1, RGB=False, dtype=uint8> <valis.slide_io.VipsSlideReader object at 0x7f60637efdd0> False (783, 1024)\n",
      "<Slide, name = 1264>, width=1583, height=1210, channels=1, levels=1, RGB=False, dtype=uint8> <valis.slide_io.VipsSlideReader object at 0x7f60637ef170> False (783, 1024)\n"
     ]
    },
    {
     "name": "stderr",
     "output_type": "stream",
     "text": [
      "Converting images:  48%|████▊     | 1265/2624 [00:28<00:31, 42.83image/s]"
     ]
    },
    {
     "name": "stdout",
     "output_type": "stream",
     "text": [
      "<Slide, name = 1265>, width=1583, height=1210, channels=1, levels=1, RGB=False, dtype=uint8> <valis.slide_io.VipsSlideReader object at 0x7f60637edeb0> False (783, 1024)\n",
      "<Slide, name = 1266>, width=1583, height=1210, channels=1, levels=1, RGB=False, dtype=uint8> <valis.slide_io.VipsSlideReader object at 0x7f60637efe90> False (783, 1024)\n",
      "<Slide, name = 1267>, width=1583, height=1210, channels=1, levels=1, RGB=False, dtype=uint8> <valis.slide_io.VipsSlideReader object at 0x7f60637fd610> False (783, 1024)\n",
      "<Slide, name = 1268>, width=1583, height=1210, channels=1, levels=1, RGB=False, dtype=uint8> <valis.slide_io.VipsSlideReader object at 0x7f60637fc590> False (783, 1024)\n",
      "<Slide, name = 1269>, width=1583, height=1210, channels=1, levels=1, RGB=False, dtype=uint8> <valis.slide_io.VipsSlideReader object at 0x7f60637ff560> False (783, 1024)\n"
     ]
    },
    {
     "name": "stderr",
     "output_type": "stream",
     "text": [
      "Converting images:  48%|████▊     | 1270/2624 [00:29<00:31, 42.85image/s]"
     ]
    },
    {
     "name": "stdout",
     "output_type": "stream",
     "text": [
      "<Slide, name = 1270>, width=1583, height=1210, channels=1, levels=1, RGB=False, dtype=uint8> <valis.slide_io.VipsSlideReader object at 0x7f60637ffc50> False (783, 1024)\n",
      "<Slide, name = 1271>, width=1583, height=1210, channels=1, levels=1, RGB=False, dtype=uint8> <valis.slide_io.VipsSlideReader object at 0x7f60637fef30> False (783, 1024)\n",
      "<Slide, name = 1272>, width=1583, height=1210, channels=1, levels=1, RGB=False, dtype=uint8> <valis.slide_io.VipsSlideReader object at 0x7f60637ff6e0> False (783, 1024)\n",
      "<Slide, name = 1273>, width=1583, height=1210, channels=1, levels=1, RGB=False, dtype=uint8> <valis.slide_io.VipsSlideReader object at 0x7f60637ff3b0> False (783, 1024)\n",
      "<Slide, name = 1274>, width=1583, height=1210, channels=1, levels=1, RGB=False, dtype=uint8> <valis.slide_io.VipsSlideReader object at 0x7f60637ff2c0> False (783, 1024)\n"
     ]
    },
    {
     "name": "stderr",
     "output_type": "stream",
     "text": [
      "Converting images:  49%|████▊     | 1275/2624 [00:29<00:31, 42.24image/s]"
     ]
    },
    {
     "name": "stdout",
     "output_type": "stream",
     "text": [
      "<Slide, name = 1275>, width=1583, height=1210, channels=1, levels=1, RGB=False, dtype=uint8> <valis.slide_io.VipsSlideReader object at 0x7f60637fed80> False (783, 1024)\n",
      "<Slide, name = 1276>, width=1583, height=1210, channels=1, levels=1, RGB=False, dtype=uint8> <valis.slide_io.VipsSlideReader object at 0x7f60637fcd70> False (783, 1024)\n",
      "<Slide, name = 1277>, width=1583, height=1210, channels=1, levels=1, RGB=False, dtype=uint8> <valis.slide_io.VipsSlideReader object at 0x7f60637fc770> False (783, 1024)\n",
      "<Slide, name = 1278>, width=1583, height=1210, channels=1, levels=1, RGB=False, dtype=uint8> <valis.slide_io.VipsSlideReader object at 0x7f60637fdf70> False (783, 1024)\n",
      "<Slide, name = 1279>, width=1583, height=1210, channels=1, levels=1, RGB=False, dtype=uint8> <valis.slide_io.VipsSlideReader object at 0x7f60637fe930> False (783, 1024)\n"
     ]
    },
    {
     "name": "stderr",
     "output_type": "stream",
     "text": [
      "Converting images:  49%|████▉     | 1280/2624 [00:29<00:31, 42.05image/s]"
     ]
    },
    {
     "name": "stdout",
     "output_type": "stream",
     "text": [
      "<Slide, name = 1280>, width=1583, height=1210, channels=1, levels=1, RGB=False, dtype=uint8> <valis.slide_io.VipsSlideReader object at 0x7f60637fff80> False (783, 1024)\n",
      "<Slide, name = 1281>, width=1583, height=1210, channels=1, levels=1, RGB=False, dtype=uint8> <valis.slide_io.VipsSlideReader object at 0x7f60637fd340> False (783, 1024)\n",
      "<Slide, name = 1282>, width=1583, height=1210, channels=1, levels=1, RGB=False, dtype=uint8> <valis.slide_io.VipsSlideReader object at 0x7f60637ffc20> False (783, 1024)\n",
      "<Slide, name = 1283>, width=1583, height=1210, channels=1, levels=1, RGB=False, dtype=uint8> <valis.slide_io.VipsSlideReader object at 0x7f60637fd7f0> False (783, 1024)\n",
      "<Slide, name = 1284>, width=1583, height=1210, channels=1, levels=1, RGB=False, dtype=uint8> <valis.slide_io.VipsSlideReader object at 0x7f60637ffaa0> False (783, 1024)\n"
     ]
    },
    {
     "name": "stderr",
     "output_type": "stream",
     "text": [
      "Converting images:  49%|████▉     | 1285/2624 [00:29<00:31, 42.31image/s]"
     ]
    },
    {
     "name": "stdout",
     "output_type": "stream",
     "text": [
      "<Slide, name = 1285>, width=1583, height=1210, channels=1, levels=1, RGB=False, dtype=uint8> <valis.slide_io.VipsSlideReader object at 0x7f60637fc440> False (783, 1024)\n",
      "<Slide, name = 1286>, width=1583, height=1210, channels=1, levels=1, RGB=False, dtype=uint8> <valis.slide_io.VipsSlideReader object at 0x7f60637fee10> False (783, 1024)\n",
      "<Slide, name = 1287>, width=1583, height=1210, channels=1, levels=1, RGB=False, dtype=uint8> <valis.slide_io.VipsSlideReader object at 0x7f60637fca40> False (783, 1024)\n",
      "<Slide, name = 1288>, width=1583, height=1210, channels=1, levels=1, RGB=False, dtype=uint8> <valis.slide_io.VipsSlideReader object at 0x7f60637ff650> False (783, 1024)\n",
      "<Slide, name = 1289>, width=1583, height=1210, channels=1, levels=1, RGB=False, dtype=uint8> <valis.slide_io.VipsSlideReader object at 0x7f60637ff740> False (783, 1024)\n"
     ]
    },
    {
     "name": "stderr",
     "output_type": "stream",
     "text": [
      "Converting images:  49%|████▉     | 1290/2624 [00:29<00:31, 42.76image/s]"
     ]
    },
    {
     "name": "stdout",
     "output_type": "stream",
     "text": [
      "<Slide, name = 1290>, width=1583, height=1210, channels=1, levels=1, RGB=False, dtype=uint8> <valis.slide_io.VipsSlideReader object at 0x7f60637fd0d0> False (783, 1024)\n",
      "<Slide, name = 1291>, width=1583, height=1210, channels=1, levels=1, RGB=False, dtype=uint8> <valis.slide_io.VipsSlideReader object at 0x7f60637ffcb0> False (783, 1024)\n",
      "<Slide, name = 1292>, width=1583, height=1210, channels=1, levels=1, RGB=False, dtype=uint8> <valis.slide_io.VipsSlideReader object at 0x7f606b7640e0> False (783, 1024)\n",
      "<Slide, name = 1293>, width=1583, height=1210, channels=1, levels=1, RGB=False, dtype=uint8> <valis.slide_io.VipsSlideReader object at 0x7f606b766030> False (783, 1024)\n",
      "<Slide, name = 1294>, width=1583, height=1210, channels=1, levels=1, RGB=False, dtype=uint8> <valis.slide_io.VipsSlideReader object at 0x7f6063767d70> False (783, 1024)\n"
     ]
    },
    {
     "name": "stderr",
     "output_type": "stream",
     "text": [
      "Converting images:  49%|████▉     | 1295/2624 [00:29<00:30, 43.43image/s]"
     ]
    },
    {
     "name": "stdout",
     "output_type": "stream",
     "text": [
      "<Slide, name = 1295>, width=1583, height=1210, channels=1, levels=1, RGB=False, dtype=uint8> <valis.slide_io.VipsSlideReader object at 0x7f6063765dc0> False (783, 1024)\n",
      "<Slide, name = 1296>, width=1583, height=1210, channels=1, levels=1, RGB=False, dtype=uint8> <valis.slide_io.VipsSlideReader object at 0x7f6063767e90> False (783, 1024)\n",
      "<Slide, name = 1297>, width=1583, height=1210, channels=1, levels=1, RGB=False, dtype=uint8> <valis.slide_io.VipsSlideReader object at 0x7f6063764650> False (783, 1024)\n",
      "<Slide, name = 1298>, width=1583, height=1210, channels=1, levels=1, RGB=False, dtype=uint8> <valis.slide_io.VipsSlideReader object at 0x7f6063767fb0> False (783, 1024)\n",
      "<Slide, name = 1299>, width=1583, height=1210, channels=1, levels=1, RGB=False, dtype=uint8> <valis.slide_io.VipsSlideReader object at 0x7f6063764230> False (783, 1024)\n"
     ]
    },
    {
     "name": "stderr",
     "output_type": "stream",
     "text": [
      "Converting images:  50%|████▉     | 1300/2624 [00:29<00:30, 43.20image/s]"
     ]
    },
    {
     "name": "stdout",
     "output_type": "stream",
     "text": [
      "<Slide, name = 1300>, width=1583, height=1210, channels=1, levels=1, RGB=False, dtype=uint8> <valis.slide_io.VipsSlideReader object at 0x7f6063766060> False (783, 1024)\n",
      "<Slide, name = 1301>, width=1583, height=1210, channels=1, levels=1, RGB=False, dtype=uint8> <valis.slide_io.VipsSlideReader object at 0x7f6063764800> False (783, 1024)\n",
      "<Slide, name = 1302>, width=1583, height=1210, channels=1, levels=1, RGB=False, dtype=uint8> <valis.slide_io.VipsSlideReader object at 0x7f6063765b20> False (783, 1024)\n",
      "<Slide, name = 1303>, width=1583, height=1210, channels=1, levels=1, RGB=False, dtype=uint8> <valis.slide_io.VipsSlideReader object at 0x7f6063765c40> False (783, 1024)\n",
      "<Slide, name = 1304>, width=1583, height=1210, channels=1, levels=1, RGB=False, dtype=uint8> <valis.slide_io.VipsSlideReader object at 0x7f6063766090> False (783, 1024)\n"
     ]
    },
    {
     "name": "stderr",
     "output_type": "stream",
     "text": [
      "Converting images:  50%|████▉     | 1305/2624 [00:29<00:30, 43.39image/s]"
     ]
    },
    {
     "name": "stdout",
     "output_type": "stream",
     "text": [
      "<Slide, name = 1305>, width=1583, height=1210, channels=1, levels=1, RGB=False, dtype=uint8> <valis.slide_io.VipsSlideReader object at 0x7f6063766030> False (783, 1024)\n",
      "<Slide, name = 1306>, width=1583, height=1210, channels=1, levels=1, RGB=False, dtype=uint8> <valis.slide_io.VipsSlideReader object at 0x7f6063765e50> False (783, 1024)\n",
      "<Slide, name = 1307>, width=1583, height=1210, channels=1, levels=1, RGB=False, dtype=uint8> <valis.slide_io.VipsSlideReader object at 0x7f6063767f80> False (783, 1024)\n",
      "<Slide, name = 1308>, width=1583, height=1210, channels=1, levels=1, RGB=False, dtype=uint8> <valis.slide_io.VipsSlideReader object at 0x7f6063765f70> False (783, 1024)\n",
      "<Slide, name = 1309>, width=1583, height=1210, channels=1, levels=1, RGB=False, dtype=uint8> <valis.slide_io.VipsSlideReader object at 0x7f6063765fa0> False (783, 1024)\n"
     ]
    },
    {
     "name": "stderr",
     "output_type": "stream",
     "text": [
      "Converting images:  50%|████▉     | 1310/2624 [00:30<00:30, 43.67image/s]"
     ]
    },
    {
     "name": "stdout",
     "output_type": "stream",
     "text": [
      "<Slide, name = 1310>, width=1583, height=1210, channels=1, levels=1, RGB=False, dtype=uint8> <valis.slide_io.VipsSlideReader object at 0x7f6063767cb0> False (783, 1024)\n",
      "<Slide, name = 1311>, width=1583, height=1210, channels=1, levels=1, RGB=False, dtype=uint8> <valis.slide_io.VipsSlideReader object at 0x7f606b7935f0> False (783, 1024)\n",
      "<Slide, name = 1312>, width=1583, height=1210, channels=1, levels=1, RGB=False, dtype=uint8> <valis.slide_io.VipsSlideReader object at 0x7f606b793cb0> False (783, 1024)\n",
      "<Slide, name = 1313>, width=1583, height=1210, channels=1, levels=1, RGB=False, dtype=uint8> <valis.slide_io.VipsSlideReader object at 0x7f606b793c50> False (783, 1024)\n",
      "<Slide, name = 1314>, width=1583, height=1210, channels=1, levels=1, RGB=False, dtype=uint8> <valis.slide_io.VipsSlideReader object at 0x7f606b793f20> False (783, 1024)\n"
     ]
    },
    {
     "name": "stderr",
     "output_type": "stream",
     "text": [
      "Converting images:  50%|█████     | 1315/2624 [00:30<00:30, 43.51image/s]"
     ]
    },
    {
     "name": "stdout",
     "output_type": "stream",
     "text": [
      "<Slide, name = 1315>, width=1583, height=1210, channels=1, levels=1, RGB=False, dtype=uint8> <valis.slide_io.VipsSlideReader object at 0x7f606b792f90> False (783, 1024)\n",
      "<Slide, name = 1316>, width=1583, height=1210, channels=1, levels=1, RGB=False, dtype=uint8> <valis.slide_io.VipsSlideReader object at 0x7f606381e5d0> False (783, 1024)\n",
      "<Slide, name = 1317>, width=1583, height=1210, channels=1, levels=1, RGB=False, dtype=uint8> <valis.slide_io.VipsSlideReader object at 0x7f606bdc0920> False (783, 1024)\n",
      "<Slide, name = 1318>, width=1583, height=1210, channels=1, levels=1, RGB=False, dtype=uint8> <valis.slide_io.VipsSlideReader object at 0x7f606b7907a0> False (783, 1024)\n",
      "<Slide, name = 1319>, width=1583, height=1210, channels=1, levels=1, RGB=False, dtype=uint8> <valis.slide_io.VipsSlideReader object at 0x7f606bdc09e0> False (783, 1024)\n"
     ]
    },
    {
     "name": "stderr",
     "output_type": "stream",
     "text": [
      "Converting images:  50%|█████     | 1320/2624 [00:30<00:30, 43.18image/s]"
     ]
    },
    {
     "name": "stdout",
     "output_type": "stream",
     "text": [
      "<Slide, name = 1320>, width=1583, height=1210, channels=1, levels=1, RGB=False, dtype=uint8> <valis.slide_io.VipsSlideReader object at 0x7f606b7975c0> False (783, 1024)\n",
      "<Slide, name = 1321>, width=1583, height=1210, channels=1, levels=1, RGB=False, dtype=uint8> <valis.slide_io.VipsSlideReader object at 0x7f606b796fc0> False (783, 1024)\n",
      "<Slide, name = 1322>, width=1583, height=1210, channels=1, levels=1, RGB=False, dtype=uint8> <valis.slide_io.VipsSlideReader object at 0x7f606b797b90> False (783, 1024)\n",
      "<Slide, name = 1323>, width=1583, height=1210, channels=1, levels=1, RGB=False, dtype=uint8> <valis.slide_io.VipsSlideReader object at 0x7f606b795ac0> False (783, 1024)\n",
      "<Slide, name = 1324>, width=1583, height=1210, channels=1, levels=1, RGB=False, dtype=uint8> <valis.slide_io.VipsSlideReader object at 0x7f606b797350> False (783, 1024)\n"
     ]
    },
    {
     "name": "stderr",
     "output_type": "stream",
     "text": [
      "Converting images:  50%|█████     | 1325/2624 [00:30<00:30, 43.07image/s]"
     ]
    },
    {
     "name": "stdout",
     "output_type": "stream",
     "text": [
      "<Slide, name = 1325>, width=1583, height=1210, channels=1, levels=1, RGB=False, dtype=uint8> <valis.slide_io.VipsSlideReader object at 0x7f6063781130> False (783, 1024)\n",
      "<Slide, name = 1326>, width=1583, height=1210, channels=1, levels=1, RGB=False, dtype=uint8> <valis.slide_io.VipsSlideReader object at 0x7f6063782990> False (783, 1024)\n",
      "<Slide, name = 1327>, width=1583, height=1210, channels=1, levels=1, RGB=False, dtype=uint8> <valis.slide_io.VipsSlideReader object at 0x7f6063783650> False (783, 1024)\n",
      "<Slide, name = 1328>, width=1583, height=1210, channels=1, levels=1, RGB=False, dtype=uint8> <valis.slide_io.VipsSlideReader object at 0x7f6063783fb0> False (783, 1024)\n",
      "<Slide, name = 1329>, width=1583, height=1210, channels=1, levels=1, RGB=False, dtype=uint8> <valis.slide_io.VipsSlideReader object at 0x7f60637804d0> False (783, 1024)\n"
     ]
    },
    {
     "name": "stderr",
     "output_type": "stream",
     "text": [
      "Converting images:  51%|█████     | 1330/2624 [00:30<00:30, 42.83image/s]"
     ]
    },
    {
     "name": "stdout",
     "output_type": "stream",
     "text": [
      "<Slide, name = 1330>, width=1583, height=1210, channels=1, levels=1, RGB=False, dtype=uint8> <valis.slide_io.VipsSlideReader object at 0x7f6063783b90> False (783, 1024)\n",
      "<Slide, name = 1331>, width=1583, height=1210, channels=1, levels=1, RGB=False, dtype=uint8> <valis.slide_io.VipsSlideReader object at 0x7f6063780920> False (783, 1024)\n",
      "<Slide, name = 1332>, width=1583, height=1210, channels=1, levels=1, RGB=False, dtype=uint8> <valis.slide_io.VipsSlideReader object at 0x7f6063781070> False (783, 1024)\n",
      "<Slide, name = 1333>, width=1583, height=1210, channels=1, levels=1, RGB=False, dtype=uint8> <valis.slide_io.VipsSlideReader object at 0x7f6063780a40> False (783, 1024)\n",
      "<Slide, name = 1334>, width=1583, height=1210, channels=1, levels=1, RGB=False, dtype=uint8> <valis.slide_io.VipsSlideReader object at 0x7f6063780c80> False (783, 1024)\n"
     ]
    },
    {
     "name": "stderr",
     "output_type": "stream",
     "text": [
      "Converting images:  51%|█████     | 1335/2624 [00:30<00:30, 42.95image/s]"
     ]
    },
    {
     "name": "stdout",
     "output_type": "stream",
     "text": [
      "<Slide, name = 1335>, width=1583, height=1210, channels=1, levels=1, RGB=False, dtype=uint8> <valis.slide_io.VipsSlideReader object at 0x7f6063783d70> False (783, 1024)\n",
      "<Slide, name = 1336>, width=1583, height=1210, channels=1, levels=1, RGB=False, dtype=uint8> <valis.slide_io.VipsSlideReader object at 0x7f60637838c0> False (783, 1024)\n",
      "<Slide, name = 1337>, width=1583, height=1210, channels=1, levels=1, RGB=False, dtype=uint8> <valis.slide_io.VipsSlideReader object at 0x7f6063783050> False (783, 1024)\n",
      "<Slide, name = 1338>, width=1583, height=1210, channels=1, levels=1, RGB=False, dtype=uint8> <valis.slide_io.VipsSlideReader object at 0x7f6063783e60> False (783, 1024)\n",
      "<Slide, name = 1339>, width=1583, height=1210, channels=1, levels=1, RGB=False, dtype=uint8> <valis.slide_io.VipsSlideReader object at 0x7f6063781a30> False (783, 1024)\n"
     ]
    },
    {
     "name": "stderr",
     "output_type": "stream",
     "text": [
      "Converting images:  51%|█████     | 1340/2624 [00:30<00:30, 42.50image/s]"
     ]
    },
    {
     "name": "stdout",
     "output_type": "stream",
     "text": [
      "<Slide, name = 1340>, width=1583, height=1210, channels=1, levels=1, RGB=False, dtype=uint8> <valis.slide_io.VipsSlideReader object at 0x7f6063780080> False (783, 1024)\n",
      "<Slide, name = 1341>, width=1583, height=1210, channels=1, levels=1, RGB=False, dtype=uint8> <valis.slide_io.VipsSlideReader object at 0x7f6063783710> False (783, 1024)\n",
      "<Slide, name = 1342>, width=1583, height=1210, channels=1, levels=1, RGB=False, dtype=uint8> <valis.slide_io.VipsSlideReader object at 0x7f6063782690> False (783, 1024)\n",
      "<Slide, name = 1343>, width=1583, height=1210, channels=1, levels=1, RGB=False, dtype=uint8> <valis.slide_io.VipsSlideReader object at 0x7f6063781100> False (783, 1024)\n",
      "<Slide, name = 1344>, width=1583, height=1210, channels=1, levels=1, RGB=False, dtype=uint8> <valis.slide_io.VipsSlideReader object at 0x7f60637830b0> False (783, 1024)\n"
     ]
    },
    {
     "name": "stderr",
     "output_type": "stream",
     "text": [
      "Converting images:  51%|█████▏    | 1345/2624 [00:30<00:29, 42.90image/s]"
     ]
    },
    {
     "name": "stdout",
     "output_type": "stream",
     "text": [
      "<Slide, name = 1345>, width=1583, height=1210, channels=1, levels=1, RGB=False, dtype=uint8> <valis.slide_io.VipsSlideReader object at 0x7f6063781f40> False (783, 1024)\n",
      "<Slide, name = 1346>, width=1583, height=1210, channels=1, levels=1, RGB=False, dtype=uint8> <valis.slide_io.VipsSlideReader object at 0x7f6063781d30> False (783, 1024)\n",
      "<Slide, name = 1347>, width=1583, height=1210, channels=1, levels=1, RGB=False, dtype=uint8> <valis.slide_io.VipsSlideReader object at 0x7f60637814f0> False (783, 1024)\n",
      "<Slide, name = 1348>, width=1583, height=1210, channels=1, levels=1, RGB=False, dtype=uint8> <valis.slide_io.VipsSlideReader object at 0x7f6063781700> False (783, 1024)\n",
      "<Slide, name = 1349>, width=1583, height=1210, channels=1, levels=1, RGB=False, dtype=uint8> <valis.slide_io.VipsSlideReader object at 0x7f6063783bc0> False (783, 1024)\n"
     ]
    },
    {
     "name": "stderr",
     "output_type": "stream",
     "text": [
      "Converting images:  51%|█████▏    | 1350/2624 [00:30<00:29, 42.55image/s]"
     ]
    },
    {
     "name": "stdout",
     "output_type": "stream",
     "text": [
      "<Slide, name = 1350>, width=1583, height=1210, channels=1, levels=1, RGB=False, dtype=uint8> <valis.slide_io.VipsSlideReader object at 0x7f6063782840> False (783, 1024)\n",
      "<Slide, name = 1351>, width=1583, height=1210, channels=1, levels=1, RGB=False, dtype=uint8> <valis.slide_io.VipsSlideReader object at 0x7f6063781dc0> False (783, 1024)\n",
      "<Slide, name = 1352>, width=1583, height=1210, channels=1, levels=1, RGB=False, dtype=uint8> <valis.slide_io.VipsSlideReader object at 0x7f6063780ec0> False (783, 1024)\n",
      "<Slide, name = 1353>, width=1583, height=1210, channels=1, levels=1, RGB=False, dtype=uint8> <valis.slide_io.VipsSlideReader object at 0x7f6063781cd0> False (783, 1024)\n",
      "<Slide, name = 1354>, width=1583, height=1210, channels=1, levels=1, RGB=False, dtype=uint8> <valis.slide_io.VipsSlideReader object at 0x7f6063783ad0> False (783, 1024)\n"
     ]
    },
    {
     "name": "stderr",
     "output_type": "stream",
     "text": [
      "Converting images:  52%|█████▏    | 1355/2624 [00:31<00:29, 42.53image/s]"
     ]
    },
    {
     "name": "stdout",
     "output_type": "stream",
     "text": [
      "<Slide, name = 1355>, width=1583, height=1210, channels=1, levels=1, RGB=False, dtype=uint8> <valis.slide_io.VipsSlideReader object at 0x7f60637835c0> False (783, 1024)\n",
      "<Slide, name = 1356>, width=1583, height=1210, channels=1, levels=1, RGB=False, dtype=uint8> <valis.slide_io.VipsSlideReader object at 0x7f6063780c20> False (783, 1024)\n",
      "<Slide, name = 1357>, width=1583, height=1210, channels=1, levels=1, RGB=False, dtype=uint8> <valis.slide_io.VipsSlideReader object at 0x7f6063783110> False (783, 1024)\n",
      "<Slide, name = 1358>, width=1583, height=1210, channels=1, levels=1, RGB=False, dtype=uint8> <valis.slide_io.VipsSlideReader object at 0x7f60637826c0> False (783, 1024)\n",
      "<Slide, name = 1359>, width=1583, height=1210, channels=1, levels=1, RGB=False, dtype=uint8> <valis.slide_io.VipsSlideReader object at 0x7f60637835f0> False (783, 1024)\n"
     ]
    },
    {
     "name": "stderr",
     "output_type": "stream",
     "text": [
      "Converting images:  52%|█████▏    | 1360/2624 [00:31<00:29, 42.86image/s]"
     ]
    },
    {
     "name": "stdout",
     "output_type": "stream",
     "text": [
      "<Slide, name = 1360>, width=1583, height=1210, channels=1, levels=1, RGB=False, dtype=uint8> <valis.slide_io.VipsSlideReader object at 0x7f6063782ed0> False (783, 1024)\n",
      "<Slide, name = 1361>, width=1583, height=1210, channels=1, levels=1, RGB=False, dtype=uint8> <valis.slide_io.VipsSlideReader object at 0x7f6063783e30> False (783, 1024)\n",
      "<Slide, name = 1362>, width=1583, height=1210, channels=1, levels=1, RGB=False, dtype=uint8> <valis.slide_io.VipsSlideReader object at 0x7f6063780d10> False (783, 1024)\n",
      "<Slide, name = 1363>, width=1583, height=1210, channels=1, levels=1, RGB=False, dtype=uint8> <valis.slide_io.VipsSlideReader object at 0x7f60637834a0> False (783, 1024)\n",
      "<Slide, name = 1364>, width=1583, height=1210, channels=1, levels=1, RGB=False, dtype=uint8> <valis.slide_io.VipsSlideReader object at 0x7f6063783230> False (783, 1024)\n"
     ]
    },
    {
     "name": "stderr",
     "output_type": "stream",
     "text": [
      "Converting images:  52%|█████▏    | 1365/2624 [00:31<00:29, 42.54image/s]"
     ]
    },
    {
     "name": "stdout",
     "output_type": "stream",
     "text": [
      "<Slide, name = 1365>, width=1583, height=1210, channels=1, levels=1, RGB=False, dtype=uint8> <valis.slide_io.VipsSlideReader object at 0x7f6063783380> False (783, 1024)\n",
      "<Slide, name = 1366>, width=1583, height=1210, channels=1, levels=1, RGB=False, dtype=uint8> <valis.slide_io.VipsSlideReader object at 0x7f60637811c0> False (783, 1024)\n",
      "<Slide, name = 1367>, width=1583, height=1210, channels=1, levels=1, RGB=False, dtype=uint8> <valis.slide_io.VipsSlideReader object at 0x7f6063781760> False (783, 1024)\n",
      "<Slide, name = 1368>, width=1583, height=1210, channels=1, levels=1, RGB=False, dtype=uint8> <valis.slide_io.VipsSlideReader object at 0x7f60637802f0> False (783, 1024)\n",
      "<Slide, name = 1369>, width=1583, height=1210, channels=1, levels=1, RGB=False, dtype=uint8> <valis.slide_io.VipsSlideReader object at 0x7f6063781be0> False (783, 1024)\n"
     ]
    },
    {
     "name": "stderr",
     "output_type": "stream",
     "text": [
      "Converting images:  52%|█████▏    | 1370/2624 [00:31<00:29, 42.40image/s]"
     ]
    },
    {
     "name": "stdout",
     "output_type": "stream",
     "text": [
      "<Slide, name = 1370>, width=1583, height=1210, channels=1, levels=1, RGB=False, dtype=uint8> <valis.slide_io.VipsSlideReader object at 0x7f6063781d00> False (783, 1024)\n",
      "<Slide, name = 1371>, width=1583, height=1210, channels=1, levels=1, RGB=False, dtype=uint8> <valis.slide_io.VipsSlideReader object at 0x7f6063783c50> False (783, 1024)\n",
      "<Slide, name = 1372>, width=1583, height=1210, channels=1, levels=1, RGB=False, dtype=uint8> <valis.slide_io.VipsSlideReader object at 0x7f6063782e70> False (783, 1024)\n",
      "<Slide, name = 1373>, width=1583, height=1210, channels=1, levels=1, RGB=False, dtype=uint8> <valis.slide_io.VipsSlideReader object at 0x7f6063781850> False (783, 1024)\n",
      "<Slide, name = 1374>, width=1583, height=1210, channels=1, levels=1, RGB=False, dtype=uint8> <valis.slide_io.VipsSlideReader object at 0x7f6063783020> False (783, 1024)\n"
     ]
    },
    {
     "name": "stderr",
     "output_type": "stream",
     "text": [
      "Converting images:  52%|█████▏    | 1375/2624 [00:31<00:29, 42.49image/s]"
     ]
    },
    {
     "name": "stdout",
     "output_type": "stream",
     "text": [
      "<Slide, name = 1375>, width=1583, height=1210, channels=1, levels=1, RGB=False, dtype=uint8> <valis.slide_io.VipsSlideReader object at 0x7f6063780290> False (783, 1024)\n",
      "<Slide, name = 1376>, width=1583, height=1210, channels=1, levels=1, RGB=False, dtype=uint8> <valis.slide_io.VipsSlideReader object at 0x7f6063782a20> False (783, 1024)\n",
      "<Slide, name = 1377>, width=1583, height=1210, channels=1, levels=1, RGB=False, dtype=uint8> <valis.slide_io.VipsSlideReader object at 0x7f6063781370> False (783, 1024)\n",
      "<Slide, name = 1378>, width=1583, height=1210, channels=1, levels=1, RGB=False, dtype=uint8> <valis.slide_io.VipsSlideReader object at 0x7f6063783080> False (783, 1024)\n",
      "<Slide, name = 1379>, width=1583, height=1210, channels=1, levels=1, RGB=False, dtype=uint8> <valis.slide_io.VipsSlideReader object at 0x7f6063782570> False (783, 1024)\n"
     ]
    },
    {
     "name": "stderr",
     "output_type": "stream",
     "text": [
      "Converting images:  53%|█████▎    | 1380/2624 [00:31<00:28, 43.03image/s]"
     ]
    },
    {
     "name": "stdout",
     "output_type": "stream",
     "text": [
      "<Slide, name = 1380>, width=1583, height=1210, channels=1, levels=1, RGB=False, dtype=uint8> <valis.slide_io.VipsSlideReader object at 0x7f6063780cb0> False (783, 1024)\n",
      "<Slide, name = 1381>, width=1583, height=1210, channels=1, levels=1, RGB=False, dtype=uint8> <valis.slide_io.VipsSlideReader object at 0x7f6063780890> False (783, 1024)\n",
      "<Slide, name = 1382>, width=1583, height=1210, channels=1, levels=1, RGB=False, dtype=uint8> <valis.slide_io.VipsSlideReader object at 0x7f6063782cc0> False (783, 1024)\n",
      "<Slide, name = 1383>, width=1583, height=1210, channels=1, levels=1, RGB=False, dtype=uint8> <valis.slide_io.VipsSlideReader object at 0x7f6063780e60> False (783, 1024)\n",
      "<Slide, name = 1384>, width=1583, height=1210, channels=1, levels=1, RGB=False, dtype=uint8> <valis.slide_io.VipsSlideReader object at 0x7f6063783f50> False (783, 1024)\n"
     ]
    },
    {
     "name": "stderr",
     "output_type": "stream",
     "text": [
      "Converting images:  53%|█████▎    | 1385/2624 [00:31<00:28, 43.48image/s]"
     ]
    },
    {
     "name": "stdout",
     "output_type": "stream",
     "text": [
      "<Slide, name = 1385>, width=1583, height=1210, channels=1, levels=1, RGB=False, dtype=uint8> <valis.slide_io.VipsSlideReader object at 0x7f6063783dd0> False (783, 1024)\n",
      "<Slide, name = 1386>, width=1583, height=1210, channels=1, levels=1, RGB=False, dtype=uint8> <valis.slide_io.VipsSlideReader object at 0x7f6063780380> False (783, 1024)\n",
      "<Slide, name = 1387>, width=1583, height=1210, channels=1, levels=1, RGB=False, dtype=uint8> <valis.slide_io.VipsSlideReader object at 0x7f6063780b30> False (783, 1024)\n",
      "<Slide, name = 1388>, width=1583, height=1210, channels=1, levels=1, RGB=False, dtype=uint8> <valis.slide_io.VipsSlideReader object at 0x7f6063782d80> False (783, 1024)\n",
      "<Slide, name = 1389>, width=1583, height=1210, channels=1, levels=1, RGB=False, dtype=uint8> <valis.slide_io.VipsSlideReader object at 0x7f6063782210> False (783, 1024)\n"
     ]
    },
    {
     "name": "stderr",
     "output_type": "stream",
     "text": [
      "Converting images:  53%|█████▎    | 1390/2624 [00:31<00:28, 43.36image/s]"
     ]
    },
    {
     "name": "stdout",
     "output_type": "stream",
     "text": [
      "<Slide, name = 1390>, width=1583, height=1210, channels=1, levels=1, RGB=False, dtype=uint8> <valis.slide_io.VipsSlideReader object at 0x7f6063781ac0> False (783, 1024)\n",
      "<Slide, name = 1391>, width=1583, height=1210, channels=1, levels=1, RGB=False, dtype=uint8> <valis.slide_io.VipsSlideReader object at 0x7f60637838f0> False (783, 1024)\n",
      "<Slide, name = 1392>, width=1583, height=1210, channels=1, levels=1, RGB=False, dtype=uint8> <valis.slide_io.VipsSlideReader object at 0x7f60637824e0> False (783, 1024)\n",
      "<Slide, name = 1393>, width=1583, height=1210, channels=1, levels=1, RGB=False, dtype=uint8> <valis.slide_io.VipsSlideReader object at 0x7f6063781640> False (783, 1024)\n",
      "<Slide, name = 1394>, width=1583, height=1210, channels=1, levels=1, RGB=False, dtype=uint8> <valis.slide_io.VipsSlideReader object at 0x7f6063782f90> False (783, 1024)\n"
     ]
    },
    {
     "name": "stderr",
     "output_type": "stream",
     "text": [
      "Converting images:  53%|█████▎    | 1395/2624 [00:32<00:28, 43.66image/s]"
     ]
    },
    {
     "name": "stdout",
     "output_type": "stream",
     "text": [
      "<Slide, name = 1395>, width=1583, height=1210, channels=1, levels=1, RGB=False, dtype=uint8> <valis.slide_io.VipsSlideReader object at 0x7f6063781280> False (783, 1024)\n",
      "<Slide, name = 1396>, width=1583, height=1210, channels=1, levels=1, RGB=False, dtype=uint8> <valis.slide_io.VipsSlideReader object at 0x7f6063783770> False (783, 1024)\n",
      "<Slide, name = 1397>, width=1583, height=1210, channels=1, levels=1, RGB=False, dtype=uint8> <valis.slide_io.VipsSlideReader object at 0x7f6063781400> False (783, 1024)\n",
      "<Slide, name = 1398>, width=1583, height=1210, channels=1, levels=1, RGB=False, dtype=uint8> <valis.slide_io.VipsSlideReader object at 0x7f6063783f20> False (783, 1024)\n",
      "<Slide, name = 1399>, width=1583, height=1210, channels=1, levels=1, RGB=False, dtype=uint8> <valis.slide_io.VipsSlideReader object at 0x7f6063783560> False (783, 1024)\n"
     ]
    },
    {
     "name": "stderr",
     "output_type": "stream",
     "text": [
      "Converting images:  53%|█████▎    | 1400/2624 [00:32<00:27, 43.93image/s]"
     ]
    },
    {
     "name": "stdout",
     "output_type": "stream",
     "text": [
      "<Slide, name = 1400>, width=1583, height=1210, channels=1, levels=1, RGB=False, dtype=uint8> <valis.slide_io.VipsSlideReader object at 0x7f6063781c40> False (783, 1024)\n",
      "<Slide, name = 1401>, width=1583, height=1210, channels=1, levels=1, RGB=False, dtype=uint8> <valis.slide_io.VipsSlideReader object at 0x7f60637820f0> False (783, 1024)\n",
      "<Slide, name = 1402>, width=1583, height=1210, channels=1, levels=1, RGB=False, dtype=uint8> <valis.slide_io.VipsSlideReader object at 0x7f6063783bf0> False (783, 1024)\n",
      "<Slide, name = 1403>, width=1583, height=1210, channels=1, levels=1, RGB=False, dtype=uint8> <valis.slide_io.VipsSlideReader object at 0x7f6063783500> False (783, 1024)\n",
      "<Slide, name = 1404>, width=1583, height=1210, channels=1, levels=1, RGB=False, dtype=uint8> <valis.slide_io.VipsSlideReader object at 0x7f606369a7e0> False (783, 1024)\n"
     ]
    },
    {
     "name": "stderr",
     "output_type": "stream",
     "text": [
      "Converting images:  54%|█████▎    | 1405/2624 [00:32<00:27, 44.01image/s]"
     ]
    },
    {
     "name": "stdout",
     "output_type": "stream",
     "text": [
      "<Slide, name = 1405>, width=1583, height=1210, channels=1, levels=1, RGB=False, dtype=uint8> <valis.slide_io.VipsSlideReader object at 0x7f6063699250> False (783, 1024)\n",
      "<Slide, name = 1406>, width=1583, height=1210, channels=1, levels=1, RGB=False, dtype=uint8> <valis.slide_io.VipsSlideReader object at 0x7f606369a5d0> False (783, 1024)\n",
      "<Slide, name = 1407>, width=1583, height=1210, channels=1, levels=1, RGB=False, dtype=uint8> <valis.slide_io.VipsSlideReader object at 0x7f6063699c10> False (783, 1024)\n",
      "<Slide, name = 1408>, width=1583, height=1210, channels=1, levels=1, RGB=False, dtype=uint8> <valis.slide_io.VipsSlideReader object at 0x7f606369b440> False (783, 1024)\n",
      "<Slide, name = 1409>, width=1583, height=1210, channels=1, levels=1, RGB=False, dtype=uint8> <valis.slide_io.VipsSlideReader object at 0x7f6063698230> False (783, 1024)\n"
     ]
    },
    {
     "name": "stderr",
     "output_type": "stream",
     "text": [
      "Converting images:  54%|█████▎    | 1410/2624 [00:32<00:27, 44.13image/s]"
     ]
    },
    {
     "name": "stdout",
     "output_type": "stream",
     "text": [
      "<Slide, name = 1410>, width=1583, height=1210, channels=1, levels=1, RGB=False, dtype=uint8> <valis.slide_io.VipsSlideReader object at 0x7f606369bbf0> False (783, 1024)\n",
      "<Slide, name = 1411>, width=1583, height=1210, channels=1, levels=1, RGB=False, dtype=uint8> <valis.slide_io.VipsSlideReader object at 0x7f606369b860> False (783, 1024)\n",
      "<Slide, name = 1412>, width=1583, height=1210, channels=1, levels=1, RGB=False, dtype=uint8> <valis.slide_io.VipsSlideReader object at 0x7f606369b5c0> False (783, 1024)\n",
      "<Slide, name = 1413>, width=1583, height=1210, channels=1, levels=1, RGB=False, dtype=uint8> <valis.slide_io.VipsSlideReader object at 0x7f606369b770> False (783, 1024)\n",
      "<Slide, name = 1414>, width=1583, height=1210, channels=1, levels=1, RGB=False, dtype=uint8> <valis.slide_io.VipsSlideReader object at 0x7f606369bef0> False (783, 1024)\n"
     ]
    },
    {
     "name": "stderr",
     "output_type": "stream",
     "text": [
      "Converting images:  54%|█████▍    | 1415/2624 [00:32<00:27, 44.41image/s]"
     ]
    },
    {
     "name": "stdout",
     "output_type": "stream",
     "text": [
      "<Slide, name = 1415>, width=1583, height=1210, channels=1, levels=1, RGB=False, dtype=uint8> <valis.slide_io.VipsSlideReader object at 0x7f606369b800> False (783, 1024)\n",
      "<Slide, name = 1416>, width=1583, height=1210, channels=1, levels=1, RGB=False, dtype=uint8> <valis.slide_io.VipsSlideReader object at 0x7f606369bd70> False (783, 1024)\n",
      "<Slide, name = 1417>, width=1583, height=1210, channels=1, levels=1, RGB=False, dtype=uint8> <valis.slide_io.VipsSlideReader object at 0x7f606369b950> False (783, 1024)\n",
      "<Slide, name = 1418>, width=1583, height=1210, channels=1, levels=1, RGB=False, dtype=uint8> <valis.slide_io.VipsSlideReader object at 0x7f606369bd10> False (783, 1024)\n",
      "<Slide, name = 1419>, width=1583, height=1210, channels=1, levels=1, RGB=False, dtype=uint8> <valis.slide_io.VipsSlideReader object at 0x7f606369bc80> False (783, 1024)\n"
     ]
    },
    {
     "name": "stderr",
     "output_type": "stream",
     "text": [
      "Converting images:  54%|█████▍    | 1420/2624 [00:32<00:27, 44.46image/s]"
     ]
    },
    {
     "name": "stdout",
     "output_type": "stream",
     "text": [
      "<Slide, name = 1420>, width=1583, height=1210, channels=1, levels=1, RGB=False, dtype=uint8> <valis.slide_io.VipsSlideReader object at 0x7f606369b9b0> False (783, 1024)\n",
      "<Slide, name = 1421>, width=1583, height=1210, channels=1, levels=1, RGB=False, dtype=uint8> <valis.slide_io.VipsSlideReader object at 0x7f606369bf50> False (783, 1024)\n",
      "<Slide, name = 1422>, width=1583, height=1210, channels=1, levels=1, RGB=False, dtype=uint8> <valis.slide_io.VipsSlideReader object at 0x7f606369b500> False (783, 1024)\n",
      "<Slide, name = 1423>, width=1583, height=1210, channels=1, levels=1, RGB=False, dtype=uint8> <valis.slide_io.VipsSlideReader object at 0x7f606369bfb0> False (783, 1024)\n",
      "<Slide, name = 1424>, width=1583, height=1210, channels=1, levels=1, RGB=False, dtype=uint8> <valis.slide_io.VipsSlideReader object at 0x7f606372f8f0> False (783, 1024)\n"
     ]
    },
    {
     "name": "stderr",
     "output_type": "stream",
     "text": [
      "Converting images:  54%|█████▍    | 1425/2624 [00:32<00:26, 44.61image/s]"
     ]
    },
    {
     "name": "stdout",
     "output_type": "stream",
     "text": [
      "<Slide, name = 1425>, width=1583, height=1210, channels=1, levels=1, RGB=False, dtype=uint8> <valis.slide_io.VipsSlideReader object at 0x7f606372ff50> False (783, 1024)\n",
      "<Slide, name = 1426>, width=1583, height=1210, channels=1, levels=1, RGB=False, dtype=uint8> <valis.slide_io.VipsSlideReader object at 0x7f606372faa0> False (783, 1024)\n",
      "<Slide, name = 1427>, width=1583, height=1210, channels=1, levels=1, RGB=False, dtype=uint8> <valis.slide_io.VipsSlideReader object at 0x7f606372d3d0> False (783, 1024)\n",
      "<Slide, name = 1428>, width=1583, height=1210, channels=1, levels=1, RGB=False, dtype=uint8> <valis.slide_io.VipsSlideReader object at 0x7f6063808b30> False (783, 1024)\n",
      "<Slide, name = 1429>, width=1583, height=1210, channels=1, levels=1, RGB=False, dtype=uint8> <valis.slide_io.VipsSlideReader object at 0x7f60638088c0> False (783, 1024)\n"
     ]
    },
    {
     "name": "stderr",
     "output_type": "stream",
     "text": [
      "Converting images:  54%|█████▍    | 1430/2624 [00:32<00:26, 44.52image/s]"
     ]
    },
    {
     "name": "stdout",
     "output_type": "stream",
     "text": [
      "<Slide, name = 1430>, width=1583, height=1210, channels=1, levels=1, RGB=False, dtype=uint8> <valis.slide_io.VipsSlideReader object at 0x7f606380a930> False (783, 1024)\n",
      "<Slide, name = 1431>, width=1583, height=1210, channels=1, levels=1, RGB=False, dtype=uint8> <valis.slide_io.VipsSlideReader object at 0x7f6063809940> False (783, 1024)\n",
      "<Slide, name = 1432>, width=1583, height=1210, channels=1, levels=1, RGB=False, dtype=uint8> <valis.slide_io.VipsSlideReader object at 0x7f60638089b0> False (783, 1024)\n",
      "<Slide, name = 1433>, width=1583, height=1210, channels=1, levels=1, RGB=False, dtype=uint8> <valis.slide_io.VipsSlideReader object at 0x7f606380a6f0> False (783, 1024)\n",
      "<Slide, name = 1434>, width=1583, height=1210, channels=1, levels=1, RGB=False, dtype=uint8> <valis.slide_io.VipsSlideReader object at 0x7f6063808e30> False (783, 1024)\n"
     ]
    },
    {
     "name": "stderr",
     "output_type": "stream",
     "text": [
      "Converting images:  55%|█████▍    | 1435/2624 [00:32<00:26, 44.46image/s]"
     ]
    },
    {
     "name": "stdout",
     "output_type": "stream",
     "text": [
      "<Slide, name = 1435>, width=1583, height=1210, channels=1, levels=1, RGB=False, dtype=uint8> <valis.slide_io.VipsSlideReader object at 0x7f606380a450> False (783, 1024)\n",
      "<Slide, name = 1436>, width=1583, height=1210, channels=1, levels=1, RGB=False, dtype=uint8> <valis.slide_io.VipsSlideReader object at 0x7f606380aa80> False (783, 1024)\n",
      "<Slide, name = 1437>, width=1583, height=1210, channels=1, levels=1, RGB=False, dtype=uint8> <valis.slide_io.VipsSlideReader object at 0x7f6063809580> False (783, 1024)\n",
      "<Slide, name = 1438>, width=1583, height=1210, channels=1, levels=1, RGB=False, dtype=uint8> <valis.slide_io.VipsSlideReader object at 0x7f6063808740> False (783, 1024)\n",
      "<Slide, name = 1439>, width=1583, height=1210, channels=1, levels=1, RGB=False, dtype=uint8> <valis.slide_io.VipsSlideReader object at 0x7f6063809f40> False (783, 1024)\n"
     ]
    },
    {
     "name": "stderr",
     "output_type": "stream",
     "text": [
      "Converting images:  55%|█████▍    | 1440/2624 [00:33<00:26, 44.45image/s]"
     ]
    },
    {
     "name": "stdout",
     "output_type": "stream",
     "text": [
      "<Slide, name = 1440>, width=1583, height=1210, channels=1, levels=1, RGB=False, dtype=uint8> <valis.slide_io.VipsSlideReader object at 0x7f6063808260> False (783, 1024)\n",
      "<Slide, name = 1441>, width=1583, height=1210, channels=1, levels=1, RGB=False, dtype=uint8> <valis.slide_io.VipsSlideReader object at 0x7f606380b740> False (783, 1024)\n",
      "<Slide, name = 1442>, width=1583, height=1210, channels=1, levels=1, RGB=False, dtype=uint8> <valis.slide_io.VipsSlideReader object at 0x7f60638083e0> False (783, 1024)\n",
      "<Slide, name = 1443>, width=1583, height=1210, channels=1, levels=1, RGB=False, dtype=uint8> <valis.slide_io.VipsSlideReader object at 0x7f6063808e00> False (783, 1024)\n",
      "<Slide, name = 1444>, width=1583, height=1210, channels=1, levels=1, RGB=False, dtype=uint8> <valis.slide_io.VipsSlideReader object at 0x7f606380a870> False (783, 1024)\n"
     ]
    },
    {
     "name": "stderr",
     "output_type": "stream",
     "text": [
      "Converting images:  55%|█████▌    | 1445/2624 [00:33<00:27, 42.66image/s]"
     ]
    },
    {
     "name": "stdout",
     "output_type": "stream",
     "text": [
      "<Slide, name = 1445>, width=1583, height=1210, channels=1, levels=1, RGB=False, dtype=uint8> <valis.slide_io.VipsSlideReader object at 0x7f606380a0c0> False (783, 1024)\n",
      "<Slide, name = 1446>, width=1583, height=1210, channels=1, levels=1, RGB=False, dtype=uint8> <valis.slide_io.VipsSlideReader object at 0x7f6063808050> False (783, 1024)\n",
      "<Slide, name = 1447>, width=1583, height=1210, channels=1, levels=1, RGB=False, dtype=uint8> <valis.slide_io.VipsSlideReader object at 0x7f6063808ef0> False (783, 1024)\n",
      "<Slide, name = 1448>, width=1583, height=1210, channels=1, levels=1, RGB=False, dtype=uint8> <valis.slide_io.VipsSlideReader object at 0x7f606380a8d0> False (783, 1024)\n",
      "<Slide, name = 1449>, width=1583, height=1210, channels=1, levels=1, RGB=False, dtype=uint8> <valis.slide_io.VipsSlideReader object at 0x7f6063808290> False (783, 1024)\n"
     ]
    },
    {
     "name": "stderr",
     "output_type": "stream",
     "text": [
      "Converting images:  55%|█████▌    | 1450/2624 [00:33<00:27, 43.40image/s]"
     ]
    },
    {
     "name": "stdout",
     "output_type": "stream",
     "text": [
      "<Slide, name = 1450>, width=1583, height=1210, channels=1, levels=1, RGB=False, dtype=uint8> <valis.slide_io.VipsSlideReader object at 0x7f606380a420> False (783, 1024)\n",
      "<Slide, name = 1451>, width=1583, height=1210, channels=1, levels=1, RGB=False, dtype=uint8> <valis.slide_io.VipsSlideReader object at 0x7f606380a180> False (783, 1024)\n",
      "<Slide, name = 1452>, width=1583, height=1210, channels=1, levels=1, RGB=False, dtype=uint8> <valis.slide_io.VipsSlideReader object at 0x7f606380a750> False (783, 1024)\n",
      "<Slide, name = 1453>, width=1583, height=1210, channels=1, levels=1, RGB=False, dtype=uint8> <valis.slide_io.VipsSlideReader object at 0x7f60637902c0> False (783, 1024)\n",
      "<Slide, name = 1454>, width=1583, height=1210, channels=1, levels=1, RGB=False, dtype=uint8> <valis.slide_io.VipsSlideReader object at 0x7f6063792090> False (783, 1024)\n"
     ]
    },
    {
     "name": "stderr",
     "output_type": "stream",
     "text": [
      "Converting images:  55%|█████▌    | 1455/2624 [00:33<00:26, 44.02image/s]"
     ]
    },
    {
     "name": "stdout",
     "output_type": "stream",
     "text": [
      "<Slide, name = 1455>, width=1583, height=1210, channels=1, levels=1, RGB=False, dtype=uint8> <valis.slide_io.VipsSlideReader object at 0x7f6063791e80> False (783, 1024)\n",
      "<Slide, name = 1456>, width=1583, height=1210, channels=1, levels=1, RGB=False, dtype=uint8> <valis.slide_io.VipsSlideReader object at 0x7f6063793920> False (783, 1024)\n",
      "<Slide, name = 1457>, width=1583, height=1210, channels=1, levels=1, RGB=False, dtype=uint8> <valis.slide_io.VipsSlideReader object at 0x7f6063790050> False (783, 1024)\n",
      "<Slide, name = 1458>, width=1583, height=1210, channels=1, levels=1, RGB=False, dtype=uint8> <valis.slide_io.VipsSlideReader object at 0x7f6063790c80> False (783, 1024)\n",
      "<Slide, name = 1459>, width=1583, height=1210, channels=1, levels=1, RGB=False, dtype=uint8> <valis.slide_io.VipsSlideReader object at 0x7f6063792ae0> False (783, 1024)\n"
     ]
    },
    {
     "name": "stderr",
     "output_type": "stream",
     "text": [
      "Converting images:  56%|█████▌    | 1460/2624 [00:33<00:26, 44.18image/s]"
     ]
    },
    {
     "name": "stdout",
     "output_type": "stream",
     "text": [
      "<Slide, name = 1460>, width=1583, height=1210, channels=1, levels=1, RGB=False, dtype=uint8> <valis.slide_io.VipsSlideReader object at 0x7f60637927b0> False (783, 1024)\n",
      "<Slide, name = 1461>, width=1583, height=1210, channels=1, levels=1, RGB=False, dtype=uint8> <valis.slide_io.VipsSlideReader object at 0x7f6063792d50> False (783, 1024)\n",
      "<Slide, name = 1462>, width=1583, height=1210, channels=1, levels=1, RGB=False, dtype=uint8> <valis.slide_io.VipsSlideReader object at 0x7f60637923c0> False (783, 1024)\n",
      "<Slide, name = 1463>, width=1583, height=1210, channels=1, levels=1, RGB=False, dtype=uint8> <valis.slide_io.VipsSlideReader object at 0x7f60637928d0> False (783, 1024)\n",
      "<Slide, name = 1464>, width=1583, height=1210, channels=1, levels=1, RGB=False, dtype=uint8> <valis.slide_io.VipsSlideReader object at 0x7f60637911c0> False (783, 1024)\n"
     ]
    },
    {
     "name": "stderr",
     "output_type": "stream",
     "text": [
      "Converting images:  56%|█████▌    | 1465/2624 [00:33<00:26, 44.20image/s]"
     ]
    },
    {
     "name": "stdout",
     "output_type": "stream",
     "text": [
      "<Slide, name = 1465>, width=1583, height=1210, channels=1, levels=1, RGB=False, dtype=uint8> <valis.slide_io.VipsSlideReader object at 0x7f6063793320> False (783, 1024)\n",
      "<Slide, name = 1466>, width=1583, height=1210, channels=1, levels=1, RGB=False, dtype=uint8> <valis.slide_io.VipsSlideReader object at 0x7f6063790710> False (783, 1024)\n",
      "<Slide, name = 1467>, width=1583, height=1210, channels=1, levels=1, RGB=False, dtype=uint8> <valis.slide_io.VipsSlideReader object at 0x7f60637917c0> False (783, 1024)\n",
      "<Slide, name = 1468>, width=1583, height=1210, channels=1, levels=1, RGB=False, dtype=uint8> <valis.slide_io.VipsSlideReader object at 0x7f6063793140> False (783, 1024)\n",
      "<Slide, name = 1469>, width=1583, height=1210, channels=1, levels=1, RGB=False, dtype=uint8> <valis.slide_io.VipsSlideReader object at 0x7f6063791760> False (783, 1024)\n"
     ]
    },
    {
     "name": "stderr",
     "output_type": "stream",
     "text": [
      "Converting images:  56%|█████▌    | 1470/2624 [00:33<00:26, 44.22image/s]"
     ]
    },
    {
     "name": "stdout",
     "output_type": "stream",
     "text": [
      "<Slide, name = 1470>, width=1583, height=1210, channels=1, levels=1, RGB=False, dtype=uint8> <valis.slide_io.VipsSlideReader object at 0x7f6063791910> False (783, 1024)\n",
      "<Slide, name = 1471>, width=1583, height=1210, channels=1, levels=1, RGB=False, dtype=uint8> <valis.slide_io.VipsSlideReader object at 0x7f6063793260> False (783, 1024)\n",
      "<Slide, name = 1472>, width=1583, height=1210, channels=1, levels=1, RGB=False, dtype=uint8> <valis.slide_io.VipsSlideReader object at 0x7f6063790bf0> False (783, 1024)\n",
      "<Slide, name = 1473>, width=1583, height=1210, channels=1, levels=1, RGB=False, dtype=uint8> <valis.slide_io.VipsSlideReader object at 0x7f60637913a0> False (783, 1024)\n",
      "<Slide, name = 1474>, width=1583, height=1210, channels=1, levels=1, RGB=False, dtype=uint8> <valis.slide_io.VipsSlideReader object at 0x7f6063792ba0> False (783, 1024)\n"
     ]
    },
    {
     "name": "stderr",
     "output_type": "stream",
     "text": [
      "Converting images:  56%|█████▌    | 1475/2624 [00:33<00:25, 44.23image/s]"
     ]
    },
    {
     "name": "stdout",
     "output_type": "stream",
     "text": [
      "<Slide, name = 1475>, width=1583, height=1210, channels=1, levels=1, RGB=False, dtype=uint8> <valis.slide_io.VipsSlideReader object at 0x7f6063790980> False (783, 1024)\n",
      "<Slide, name = 1476>, width=1583, height=1210, channels=1, levels=1, RGB=False, dtype=uint8> <valis.slide_io.VipsSlideReader object at 0x7f6063793110> False (783, 1024)\n",
      "<Slide, name = 1477>, width=1583, height=1210, channels=1, levels=1, RGB=False, dtype=uint8> <valis.slide_io.VipsSlideReader object at 0x7f6063790800> False (783, 1024)\n",
      "<Slide, name = 1478>, width=1583, height=1210, channels=1, levels=1, RGB=False, dtype=uint8> <valis.slide_io.VipsSlideReader object at 0x7f6063791f10> False (783, 1024)\n",
      "<Slide, name = 1479>, width=1583, height=1210, channels=1, levels=1, RGB=False, dtype=uint8> <valis.slide_io.VipsSlideReader object at 0x7f60637924b0> False (783, 1024)\n"
     ]
    },
    {
     "name": "stderr",
     "output_type": "stream",
     "text": [
      "Converting images:  56%|█████▋    | 1480/2624 [00:33<00:25, 44.46image/s]"
     ]
    },
    {
     "name": "stdout",
     "output_type": "stream",
     "text": [
      "<Slide, name = 1480>, width=1583, height=1210, channels=1, levels=1, RGB=False, dtype=uint8> <valis.slide_io.VipsSlideReader object at 0x7f6063791310> False (783, 1024)\n",
      "<Slide, name = 1481>, width=1583, height=1210, channels=1, levels=1, RGB=False, dtype=uint8> <valis.slide_io.VipsSlideReader object at 0x7f6063790290> False (783, 1024)\n",
      "<Slide, name = 1482>, width=1583, height=1210, channels=1, levels=1, RGB=False, dtype=uint8> <valis.slide_io.VipsSlideReader object at 0x7f6063790ef0> False (783, 1024)\n",
      "<Slide, name = 1483>, width=1583, height=1210, channels=1, levels=1, RGB=False, dtype=uint8> <valis.slide_io.VipsSlideReader object at 0x7f6063792240> False (783, 1024)\n",
      "<Slide, name = 1484>, width=1583, height=1210, channels=1, levels=1, RGB=False, dtype=uint8> <valis.slide_io.VipsSlideReader object at 0x7f6063792c90> False (783, 1024)\n"
     ]
    },
    {
     "name": "stderr",
     "output_type": "stream",
     "text": [
      "Converting images:  57%|█████▋    | 1485/2624 [00:34<00:25, 44.38image/s]"
     ]
    },
    {
     "name": "stdout",
     "output_type": "stream",
     "text": [
      "<Slide, name = 1485>, width=1583, height=1210, channels=1, levels=1, RGB=False, dtype=uint8> <valis.slide_io.VipsSlideReader object at 0x7f6063792c30> False (783, 1024)\n",
      "<Slide, name = 1486>, width=1583, height=1210, channels=1, levels=1, RGB=False, dtype=uint8> <valis.slide_io.VipsSlideReader object at 0x7f6063793350> False (783, 1024)\n",
      "<Slide, name = 1487>, width=1583, height=1210, channels=1, levels=1, RGB=False, dtype=uint8> <valis.slide_io.VipsSlideReader object at 0x7f60637931d0> False (783, 1024)\n",
      "<Slide, name = 1488>, width=1583, height=1210, channels=1, levels=1, RGB=False, dtype=uint8> <valis.slide_io.VipsSlideReader object at 0x7f60637925a0> False (783, 1024)\n",
      "<Slide, name = 1489>, width=1583, height=1210, channels=1, levels=1, RGB=False, dtype=uint8> <valis.slide_io.VipsSlideReader object at 0x7f6063792d20> False (783, 1024)\n"
     ]
    },
    {
     "name": "stderr",
     "output_type": "stream",
     "text": [
      "Converting images:  57%|█████▋    | 1490/2624 [00:34<00:25, 44.67image/s]"
     ]
    },
    {
     "name": "stdout",
     "output_type": "stream",
     "text": [
      "<Slide, name = 1490>, width=1583, height=1210, channels=1, levels=1, RGB=False, dtype=uint8> <valis.slide_io.VipsSlideReader object at 0x7f6063790530> False (783, 1024)\n",
      "<Slide, name = 1491>, width=1583, height=1210, channels=1, levels=1, RGB=False, dtype=uint8> <valis.slide_io.VipsSlideReader object at 0x7f6063790ec0> False (783, 1024)\n",
      "<Slide, name = 1492>, width=1583, height=1210, channels=1, levels=1, RGB=False, dtype=uint8> <valis.slide_io.VipsSlideReader object at 0x7f60637923f0> False (783, 1024)\n",
      "<Slide, name = 1493>, width=1583, height=1210, channels=1, levels=1, RGB=False, dtype=uint8> <valis.slide_io.VipsSlideReader object at 0x7f6063792150> False (783, 1024)\n",
      "<Slide, name = 1494>, width=1583, height=1210, channels=1, levels=1, RGB=False, dtype=uint8> <valis.slide_io.VipsSlideReader object at 0x7f6063793e60> False (783, 1024)\n"
     ]
    },
    {
     "name": "stderr",
     "output_type": "stream",
     "text": [
      "Converting images:  57%|█████▋    | 1495/2624 [00:34<00:25, 44.90image/s]"
     ]
    },
    {
     "name": "stdout",
     "output_type": "stream",
     "text": [
      "<Slide, name = 1495>, width=1583, height=1210, channels=1, levels=1, RGB=False, dtype=uint8> <valis.slide_io.VipsSlideReader object at 0x7f6063793200> False (783, 1024)\n",
      "<Slide, name = 1496>, width=1583, height=1210, channels=1, levels=1, RGB=False, dtype=uint8> <valis.slide_io.VipsSlideReader object at 0x7f6063791400> False (783, 1024)\n",
      "<Slide, name = 1497>, width=1583, height=1210, channels=1, levels=1, RGB=False, dtype=uint8> <valis.slide_io.VipsSlideReader object at 0x7f60637914f0> False (783, 1024)\n",
      "<Slide, name = 1498>, width=1583, height=1210, channels=1, levels=1, RGB=False, dtype=uint8> <valis.slide_io.VipsSlideReader object at 0x7f6063793da0> False (783, 1024)\n",
      "<Slide, name = 1499>, width=1583, height=1210, channels=1, levels=1, RGB=False, dtype=uint8> <valis.slide_io.VipsSlideReader object at 0x7f6063793ad0> False (783, 1024)\n"
     ]
    },
    {
     "name": "stderr",
     "output_type": "stream",
     "text": [
      "Converting images:  57%|█████▋    | 1500/2624 [00:34<00:25, 44.88image/s]"
     ]
    },
    {
     "name": "stdout",
     "output_type": "stream",
     "text": [
      "<Slide, name = 1500>, width=1583, height=1210, channels=1, levels=1, RGB=False, dtype=uint8> <valis.slide_io.VipsSlideReader object at 0x7f60637906e0> False (783, 1024)\n",
      "<Slide, name = 1501>, width=1583, height=1210, channels=1, levels=1, RGB=False, dtype=uint8> <valis.slide_io.VipsSlideReader object at 0x7f60637927e0> False (783, 1024)\n",
      "<Slide, name = 1502>, width=1583, height=1210, channels=1, levels=1, RGB=False, dtype=uint8> <valis.slide_io.VipsSlideReader object at 0x7f6063791dc0> False (783, 1024)\n",
      "<Slide, name = 1503>, width=1583, height=1210, channels=1, levels=1, RGB=False, dtype=uint8> <valis.slide_io.VipsSlideReader object at 0x7f6063790e30> False (783, 1024)\n",
      "<Slide, name = 1504>, width=1583, height=1210, channels=1, levels=1, RGB=False, dtype=uint8> <valis.slide_io.VipsSlideReader object at 0x7f6063793230> False (783, 1024)\n"
     ]
    },
    {
     "name": "stderr",
     "output_type": "stream",
     "text": [
      "Converting images:  57%|█████▋    | 1505/2624 [00:34<00:24, 44.86image/s]"
     ]
    },
    {
     "name": "stdout",
     "output_type": "stream",
     "text": [
      "<Slide, name = 1505>, width=1583, height=1210, channels=1, levels=1, RGB=False, dtype=uint8> <valis.slide_io.VipsSlideReader object at 0x7f60637910a0> False (783, 1024)\n",
      "<Slide, name = 1506>, width=1583, height=1210, channels=1, levels=1, RGB=False, dtype=uint8> <valis.slide_io.VipsSlideReader object at 0x7f6063790ce0> False (783, 1024)\n",
      "<Slide, name = 1507>, width=1583, height=1210, channels=1, levels=1, RGB=False, dtype=uint8> <valis.slide_io.VipsSlideReader object at 0x7f6063791be0> False (783, 1024)\n",
      "<Slide, name = 1508>, width=1583, height=1210, channels=1, levels=1, RGB=False, dtype=uint8> <valis.slide_io.VipsSlideReader object at 0x7f6063791b20> False (783, 1024)\n",
      "<Slide, name = 1509>, width=1583, height=1210, channels=1, levels=1, RGB=False, dtype=uint8> <valis.slide_io.VipsSlideReader object at 0x7f60637918b0> False (783, 1024)\n"
     ]
    },
    {
     "name": "stderr",
     "output_type": "stream",
     "text": [
      "Converting images:  58%|█████▊    | 1510/2624 [00:34<00:25, 44.52image/s]"
     ]
    },
    {
     "name": "stdout",
     "output_type": "stream",
     "text": [
      "<Slide, name = 1510>, width=1583, height=1210, channels=1, levels=1, RGB=False, dtype=uint8> <valis.slide_io.VipsSlideReader object at 0x7f60637907a0> False (783, 1024)\n",
      "<Slide, name = 1511>, width=1583, height=1210, channels=1, levels=1, RGB=False, dtype=uint8> <valis.slide_io.VipsSlideReader object at 0x7f60637939e0> False (783, 1024)\n",
      "<Slide, name = 1512>, width=1583, height=1210, channels=1, levels=1, RGB=False, dtype=uint8> <valis.slide_io.VipsSlideReader object at 0x7f60637929f0> False (783, 1024)\n",
      "<Slide, name = 1513>, width=1583, height=1210, channels=1, levels=1, RGB=False, dtype=uint8> <valis.slide_io.VipsSlideReader object at 0x7f60637909b0> False (783, 1024)\n",
      "<Slide, name = 1514>, width=1583, height=1210, channels=1, levels=1, RGB=False, dtype=uint8> <valis.slide_io.VipsSlideReader object at 0x7f60637938f0> False (783, 1024)\n"
     ]
    },
    {
     "name": "stderr",
     "output_type": "stream",
     "text": [
      "Converting images:  58%|█████▊    | 1515/2624 [00:34<00:24, 44.82image/s]"
     ]
    },
    {
     "name": "stdout",
     "output_type": "stream",
     "text": [
      "<Slide, name = 1515>, width=1583, height=1210, channels=1, levels=1, RGB=False, dtype=uint8> <valis.slide_io.VipsSlideReader object at 0x7f6063791d30> False (783, 1024)\n",
      "<Slide, name = 1516>, width=1583, height=1210, channels=1, levels=1, RGB=False, dtype=uint8> <valis.slide_io.VipsSlideReader object at 0x7f6063791100> False (783, 1024)\n",
      "<Slide, name = 1517>, width=1583, height=1210, channels=1, levels=1, RGB=False, dtype=uint8> <valis.slide_io.VipsSlideReader object at 0x7f6063793590> False (783, 1024)\n",
      "<Slide, name = 1518>, width=1583, height=1210, channels=1, levels=1, RGB=False, dtype=uint8> <valis.slide_io.VipsSlideReader object at 0x7f60637930e0> False (783, 1024)\n",
      "<Slide, name = 1519>, width=1583, height=1210, channels=1, levels=1, RGB=False, dtype=uint8> <valis.slide_io.VipsSlideReader object at 0x7f6063793b90> False (783, 1024)\n"
     ]
    },
    {
     "name": "stderr",
     "output_type": "stream",
     "text": [
      "Converting images:  58%|█████▊    | 1520/2624 [00:34<00:24, 44.92image/s]"
     ]
    },
    {
     "name": "stdout",
     "output_type": "stream",
     "text": [
      "<Slide, name = 1520>, width=1583, height=1210, channels=1, levels=1, RGB=False, dtype=uint8> <valis.slide_io.VipsSlideReader object at 0x7f6063790350> False (783, 1024)\n",
      "<Slide, name = 1521>, width=1583, height=1210, channels=1, levels=1, RGB=False, dtype=uint8> <valis.slide_io.VipsSlideReader object at 0x7f60637922d0> False (783, 1024)\n",
      "<Slide, name = 1522>, width=1583, height=1210, channels=1, levels=1, RGB=False, dtype=uint8> <valis.slide_io.VipsSlideReader object at 0x7f6063791940> False (783, 1024)\n",
      "<Slide, name = 1523>, width=1583, height=1210, channels=1, levels=1, RGB=False, dtype=uint8> <valis.slide_io.VipsSlideReader object at 0x7f6063793020> False (783, 1024)\n",
      "<Slide, name = 1524>, width=1583, height=1210, channels=1, levels=1, RGB=False, dtype=uint8> <valis.slide_io.VipsSlideReader object at 0x7f6063792000> False (783, 1024)\n"
     ]
    },
    {
     "name": "stderr",
     "output_type": "stream",
     "text": [
      "Converting images:  58%|█████▊    | 1525/2624 [00:34<00:24, 45.00image/s]"
     ]
    },
    {
     "name": "stdout",
     "output_type": "stream",
     "text": [
      "<Slide, name = 1525>, width=1583, height=1210, channels=1, levels=1, RGB=False, dtype=uint8> <valis.slide_io.VipsSlideReader object at 0x7f6063793650> False (783, 1024)\n",
      "<Slide, name = 1526>, width=1583, height=1210, channels=1, levels=1, RGB=False, dtype=uint8> <valis.slide_io.VipsSlideReader object at 0x7f60637925d0> False (783, 1024)\n",
      "<Slide, name = 1527>, width=1583, height=1210, channels=1, levels=1, RGB=False, dtype=uint8> <valis.slide_io.VipsSlideReader object at 0x7f60637d5b80> False (783, 1024)\n",
      "<Slide, name = 1528>, width=1583, height=1210, channels=1, levels=1, RGB=False, dtype=uint8> <valis.slide_io.VipsSlideReader object at 0x7f60637d7920> False (783, 1024)\n",
      "<Slide, name = 1529>, width=1583, height=1210, channels=1, levels=1, RGB=False, dtype=uint8> <valis.slide_io.VipsSlideReader object at 0x7f60637d5880> False (783, 1024)\n"
     ]
    },
    {
     "name": "stderr",
     "output_type": "stream",
     "text": [
      "Converting images:  58%|█████▊    | 1530/2624 [00:35<00:24, 43.92image/s]"
     ]
    },
    {
     "name": "stdout",
     "output_type": "stream",
     "text": [
      "<Slide, name = 1530>, width=1583, height=1210, channels=1, levels=1, RGB=False, dtype=uint8> <valis.slide_io.VipsSlideReader object at 0x7f60637d7170> False (783, 1024)\n",
      "<Slide, name = 1531>, width=1583, height=1210, channels=1, levels=1, RGB=False, dtype=uint8> <valis.slide_io.VipsSlideReader object at 0x7f60637d5ee0> False (783, 1024)\n",
      "<Slide, name = 1532>, width=1583, height=1210, channels=1, levels=1, RGB=False, dtype=uint8> <valis.slide_io.VipsSlideReader object at 0x7f60637d4740> False (783, 1024)\n",
      "<Slide, name = 1533>, width=1583, height=1210, channels=1, levels=1, RGB=False, dtype=uint8> <valis.slide_io.VipsSlideReader object at 0x7f60637d5280> False (783, 1024)\n",
      "<Slide, name = 1534>, width=1583, height=1210, channels=1, levels=1, RGB=False, dtype=uint8> <valis.slide_io.VipsSlideReader object at 0x7f60637d66c0> False (783, 1024)\n"
     ]
    },
    {
     "name": "stderr",
     "output_type": "stream",
     "text": [
      "Converting images:  58%|█████▊    | 1535/2624 [00:35<00:24, 44.52image/s]"
     ]
    },
    {
     "name": "stdout",
     "output_type": "stream",
     "text": [
      "<Slide, name = 1535>, width=1583, height=1210, channels=1, levels=1, RGB=False, dtype=uint8> <valis.slide_io.VipsSlideReader object at 0x7f60637d7fb0> False (783, 1024)\n",
      "<Slide, name = 1536>, width=1583, height=1210, channels=1, levels=1, RGB=False, dtype=uint8> <valis.slide_io.VipsSlideReader object at 0x7f60637d6810> False (783, 1024)\n",
      "<Slide, name = 1537>, width=1583, height=1210, channels=1, levels=1, RGB=False, dtype=uint8> <valis.slide_io.VipsSlideReader object at 0x7f60637d6030> False (783, 1024)\n",
      "<Slide, name = 1538>, width=1583, height=1210, channels=1, levels=1, RGB=False, dtype=uint8> <valis.slide_io.VipsSlideReader object at 0x7f60637d5f40> False (783, 1024)\n",
      "<Slide, name = 1539>, width=1583, height=1210, channels=1, levels=1, RGB=False, dtype=uint8> <valis.slide_io.VipsSlideReader object at 0x7f60637d5310> False (783, 1024)\n"
     ]
    },
    {
     "name": "stderr",
     "output_type": "stream",
     "text": [
      "Converting images:  59%|█████▊    | 1540/2624 [00:35<00:24, 44.89image/s]"
     ]
    },
    {
     "name": "stdout",
     "output_type": "stream",
     "text": [
      "<Slide, name = 1540>, width=1583, height=1210, channels=1, levels=1, RGB=False, dtype=uint8> <valis.slide_io.VipsSlideReader object at 0x7f60637d4620> False (783, 1024)\n",
      "<Slide, name = 1541>, width=1583, height=1210, channels=1, levels=1, RGB=False, dtype=uint8> <valis.slide_io.VipsSlideReader object at 0x7f60637d6990> False (783, 1024)\n",
      "<Slide, name = 1542>, width=1583, height=1210, channels=1, levels=1, RGB=False, dtype=uint8> <valis.slide_io.VipsSlideReader object at 0x7f60637d76b0> False (783, 1024)\n",
      "<Slide, name = 1543>, width=1583, height=1210, channels=1, levels=1, RGB=False, dtype=uint8> <valis.slide_io.VipsSlideReader object at 0x7f60637d5460> False (783, 1024)\n",
      "<Slide, name = 1544>, width=1583, height=1210, channels=1, levels=1, RGB=False, dtype=uint8> <valis.slide_io.VipsSlideReader object at 0x7f60637d46e0> False (783, 1024)\n"
     ]
    },
    {
     "name": "stderr",
     "output_type": "stream",
     "text": [
      "Converting images:  59%|█████▉    | 1545/2624 [00:35<00:23, 45.45image/s]"
     ]
    },
    {
     "name": "stdout",
     "output_type": "stream",
     "text": [
      "<Slide, name = 1545>, width=1583, height=1210, channels=1, levels=1, RGB=False, dtype=uint8> <valis.slide_io.VipsSlideReader object at 0x7f60637d78f0> False (783, 1024)\n",
      "<Slide, name = 1546>, width=1583, height=1210, channels=1, levels=1, RGB=False, dtype=uint8> <valis.slide_io.VipsSlideReader object at 0x7f60637d7c80> False (783, 1024)\n",
      "<Slide, name = 1547>, width=1583, height=1210, channels=1, levels=1, RGB=False, dtype=uint8> <valis.slide_io.VipsSlideReader object at 0x7f60637d55e0> False (783, 1024)\n",
      "<Slide, name = 1548>, width=1583, height=1210, channels=1, levels=1, RGB=False, dtype=uint8> <valis.slide_io.VipsSlideReader object at 0x7f60637d6c60> False (783, 1024)\n",
      "<Slide, name = 1549>, width=1583, height=1210, channels=1, levels=1, RGB=False, dtype=uint8> <valis.slide_io.VipsSlideReader object at 0x7f60637d44a0> False (783, 1024)\n"
     ]
    },
    {
     "name": "stderr",
     "output_type": "stream",
     "text": [
      "Converting images:  59%|█████▉    | 1550/2624 [00:35<00:23, 45.55image/s]"
     ]
    },
    {
     "name": "stdout",
     "output_type": "stream",
     "text": [
      "<Slide, name = 1550>, width=1583, height=1210, channels=1, levels=1, RGB=False, dtype=uint8> <valis.slide_io.VipsSlideReader object at 0x7f60637d4650> False (783, 1024)\n",
      "<Slide, name = 1551>, width=1583, height=1210, channels=1, levels=1, RGB=False, dtype=uint8> <valis.slide_io.VipsSlideReader object at 0x7f60637d7260> False (783, 1024)\n",
      "<Slide, name = 1552>, width=1583, height=1210, channels=1, levels=1, RGB=False, dtype=uint8> <valis.slide_io.VipsSlideReader object at 0x7f60637d61b0> False (783, 1024)\n",
      "<Slide, name = 1553>, width=1583, height=1210, channels=1, levels=1, RGB=False, dtype=uint8> <valis.slide_io.VipsSlideReader object at 0x7f60637d5c40> False (783, 1024)\n",
      "<Slide, name = 1554>, width=1583, height=1210, channels=1, levels=1, RGB=False, dtype=uint8> <valis.slide_io.VipsSlideReader object at 0x7f60637d4f80> False (783, 1024)\n"
     ]
    },
    {
     "name": "stderr",
     "output_type": "stream",
     "text": [
      "Converting images:  59%|█████▉    | 1555/2624 [00:35<00:23, 45.29image/s]"
     ]
    },
    {
     "name": "stdout",
     "output_type": "stream",
     "text": [
      "<Slide, name = 1555>, width=1583, height=1210, channels=1, levels=1, RGB=False, dtype=uint8> <valis.slide_io.VipsSlideReader object at 0x7f60637d7530> False (783, 1024)\n",
      "<Slide, name = 1556>, width=1583, height=1210, channels=1, levels=1, RGB=False, dtype=uint8> <valis.slide_io.VipsSlideReader object at 0x7f60637d5df0> False (783, 1024)\n",
      "<Slide, name = 1557>, width=1583, height=1210, channels=1, levels=1, RGB=False, dtype=uint8> <valis.slide_io.VipsSlideReader object at 0x7f60637d6ff0> False (783, 1024)\n",
      "<Slide, name = 1558>, width=1583, height=1210, channels=1, levels=1, RGB=False, dtype=uint8> <valis.slide_io.VipsSlideReader object at 0x7f60637d7350> False (783, 1024)\n",
      "<Slide, name = 1559>, width=1583, height=1210, channels=1, levels=1, RGB=False, dtype=uint8> <valis.slide_io.VipsSlideReader object at 0x7f60637d5760> False (783, 1024)\n"
     ]
    },
    {
     "name": "stderr",
     "output_type": "stream",
     "text": [
      "Converting images:  59%|█████▉    | 1560/2624 [00:35<00:23, 45.43image/s]"
     ]
    },
    {
     "name": "stdout",
     "output_type": "stream",
     "text": [
      "<Slide, name = 1560>, width=1583, height=1210, channels=1, levels=1, RGB=False, dtype=uint8> <valis.slide_io.VipsSlideReader object at 0x7f60637d6ea0> False (783, 1024)\n",
      "<Slide, name = 1561>, width=1583, height=1210, channels=1, levels=1, RGB=False, dtype=uint8> <valis.slide_io.VipsSlideReader object at 0x7f60637d4770> False (783, 1024)\n",
      "<Slide, name = 1562>, width=1583, height=1210, channels=1, levels=1, RGB=False, dtype=uint8> <valis.slide_io.VipsSlideReader object at 0x7f60637d5cd0> False (783, 1024)\n",
      "<Slide, name = 1563>, width=1583, height=1210, channels=1, levels=1, RGB=False, dtype=uint8> <valis.slide_io.VipsSlideReader object at 0x7f60637d6270> False (783, 1024)\n",
      "<Slide, name = 1564>, width=1583, height=1210, channels=1, levels=1, RGB=False, dtype=uint8> <valis.slide_io.VipsSlideReader object at 0x7f60637d41a0> False (783, 1024)\n"
     ]
    },
    {
     "name": "stderr",
     "output_type": "stream",
     "text": [
      "Converting images:  60%|█████▉    | 1565/2624 [00:35<00:23, 45.78image/s]"
     ]
    },
    {
     "name": "stdout",
     "output_type": "stream",
     "text": [
      "<Slide, name = 1565>, width=1583, height=1210, channels=1, levels=1, RGB=False, dtype=uint8> <valis.slide_io.VipsSlideReader object at 0x7f60637d6a20> False (783, 1024)\n",
      "<Slide, name = 1566>, width=1583, height=1210, channels=1, levels=1, RGB=False, dtype=uint8> <valis.slide_io.VipsSlideReader object at 0x7f60637d4080> False (783, 1024)\n",
      "<Slide, name = 1567>, width=1583, height=1210, channels=1, levels=1, RGB=False, dtype=uint8> <valis.slide_io.VipsSlideReader object at 0x7f60637d6540> False (783, 1024)\n",
      "<Slide, name = 1568>, width=1583, height=1210, channels=1, levels=1, RGB=False, dtype=uint8> <valis.slide_io.VipsSlideReader object at 0x7f60637d7c50> False (783, 1024)\n",
      "<Slide, name = 1569>, width=1583, height=1210, channels=1, levels=1, RGB=False, dtype=uint8> <valis.slide_io.VipsSlideReader object at 0x7f60637d5a90> False (783, 1024)\n"
     ]
    },
    {
     "name": "stderr",
     "output_type": "stream",
     "text": [
      "Converting images:  60%|█████▉    | 1570/2624 [00:35<00:23, 45.77image/s]"
     ]
    },
    {
     "name": "stdout",
     "output_type": "stream",
     "text": [
      "<Slide, name = 1570>, width=1583, height=1210, channels=1, levels=1, RGB=False, dtype=uint8> <valis.slide_io.VipsSlideReader object at 0x7f60637d6930> False (783, 1024)\n",
      "<Slide, name = 1571>, width=1583, height=1210, channels=1, levels=1, RGB=False, dtype=uint8> <valis.slide_io.VipsSlideReader object at 0x7f60637d42f0> False (783, 1024)\n",
      "<Slide, name = 1572>, width=1583, height=1210, channels=1, levels=1, RGB=False, dtype=uint8> <valis.slide_io.VipsSlideReader object at 0x7f60637d60c0> False (783, 1024)\n",
      "<Slide, name = 1573>, width=1583, height=1210, channels=1, levels=1, RGB=False, dtype=uint8> <valis.slide_io.VipsSlideReader object at 0x7f60637d51c0> False (783, 1024)\n",
      "<Slide, name = 1574>, width=1583, height=1210, channels=1, levels=1, RGB=False, dtype=uint8> <valis.slide_io.VipsSlideReader object at 0x7f60637d6420> False (783, 1024)\n"
     ]
    },
    {
     "name": "stderr",
     "output_type": "stream",
     "text": [
      "Converting images:  60%|██████    | 1575/2624 [00:36<00:23, 45.05image/s]"
     ]
    },
    {
     "name": "stdout",
     "output_type": "stream",
     "text": [
      "<Slide, name = 1575>, width=1583, height=1210, channels=1, levels=1, RGB=False, dtype=uint8> <valis.slide_io.VipsSlideReader object at 0x7f60637d7e90> False (783, 1024)\n",
      "<Slide, name = 1576>, width=1583, height=1210, channels=1, levels=1, RGB=False, dtype=uint8> <valis.slide_io.VipsSlideReader object at 0x7f60637d4320> False (783, 1024)\n",
      "<Slide, name = 1577>, width=1583, height=1210, channels=1, levels=1, RGB=False, dtype=uint8> <valis.slide_io.VipsSlideReader object at 0x7f60637d7080> False (783, 1024)\n",
      "<Slide, name = 1578>, width=1583, height=1210, channels=1, levels=1, RGB=False, dtype=uint8> <valis.slide_io.VipsSlideReader object at 0x7f60637d4dd0> False (783, 1024)\n",
      "<Slide, name = 1579>, width=1583, height=1210, channels=1, levels=1, RGB=False, dtype=uint8> <valis.slide_io.VipsSlideReader object at 0x7f60637d4f20> False (783, 1024)\n"
     ]
    },
    {
     "name": "stderr",
     "output_type": "stream",
     "text": [
      "Converting images:  60%|██████    | 1580/2624 [00:36<00:22, 45.44image/s]"
     ]
    },
    {
     "name": "stdout",
     "output_type": "stream",
     "text": [
      "<Slide, name = 1580>, width=1583, height=1210, channels=1, levels=1, RGB=False, dtype=uint8> <valis.slide_io.VipsSlideReader object at 0x7f60637d5190> False (783, 1024)\n",
      "<Slide, name = 1581>, width=1583, height=1210, channels=1, levels=1, RGB=False, dtype=uint8> <valis.slide_io.VipsSlideReader object at 0x7f60637d7ad0> False (783, 1024)\n",
      "<Slide, name = 1582>, width=1583, height=1210, channels=1, levels=1, RGB=False, dtype=uint8> <valis.slide_io.VipsSlideReader object at 0x7f60637d5e80> False (783, 1024)\n",
      "<Slide, name = 1583>, width=1583, height=1210, channels=1, levels=1, RGB=False, dtype=uint8> <valis.slide_io.VipsSlideReader object at 0x7f60637d7f80> False (783, 1024)\n",
      "<Slide, name = 1584>, width=1583, height=1210, channels=1, levels=1, RGB=False, dtype=uint8> <valis.slide_io.VipsSlideReader object at 0x7f60637d7ec0> False (783, 1024)\n"
     ]
    },
    {
     "name": "stderr",
     "output_type": "stream",
     "text": [
      "Converting images:  60%|██████    | 1585/2624 [00:36<00:22, 45.41image/s]"
     ]
    },
    {
     "name": "stdout",
     "output_type": "stream",
     "text": [
      "<Slide, name = 1585>, width=1583, height=1210, channels=1, levels=1, RGB=False, dtype=uint8> <valis.slide_io.VipsSlideReader object at 0x7f60637d5220> False (783, 1024)\n",
      "<Slide, name = 1586>, width=1583, height=1210, channels=1, levels=1, RGB=False, dtype=uint8> <valis.slide_io.VipsSlideReader object at 0x7f60637d6f60> False (783, 1024)\n",
      "<Slide, name = 1587>, width=1583, height=1210, channels=1, levels=1, RGB=False, dtype=uint8> <valis.slide_io.VipsSlideReader object at 0x7f60637ebe00> False (783, 1024)\n",
      "<Slide, name = 1588>, width=1583, height=1210, channels=1, levels=1, RGB=False, dtype=uint8> <valis.slide_io.VipsSlideReader object at 0x7f60637ea600> False (783, 1024)\n",
      "<Slide, name = 1589>, width=1583, height=1210, channels=1, levels=1, RGB=False, dtype=uint8> <valis.slide_io.VipsSlideReader object at 0x7f60637eaed0> False (783, 1024)\n"
     ]
    },
    {
     "name": "stderr",
     "output_type": "stream",
     "text": [
      "Converting images:  61%|██████    | 1590/2624 [00:36<00:22, 45.71image/s]"
     ]
    },
    {
     "name": "stdout",
     "output_type": "stream",
     "text": [
      "<Slide, name = 1590>, width=1583, height=1210, channels=1, levels=1, RGB=False, dtype=uint8> <valis.slide_io.VipsSlideReader object at 0x7f60637ebb90> False (783, 1024)\n",
      "<Slide, name = 1591>, width=1583, height=1210, channels=1, levels=1, RGB=False, dtype=uint8> <valis.slide_io.VipsSlideReader object at 0x7f60637eb950> False (783, 1024)\n",
      "<Slide, name = 1592>, width=1583, height=1210, channels=1, levels=1, RGB=False, dtype=uint8> <valis.slide_io.VipsSlideReader object at 0x7f60637ebcb0> False (783, 1024)\n",
      "<Slide, name = 1593>, width=1583, height=1210, channels=1, levels=1, RGB=False, dtype=uint8> <valis.slide_io.VipsSlideReader object at 0x7f60637eb4a0> False (783, 1024)\n",
      "<Slide, name = 1594>, width=1583, height=1210, channels=1, levels=1, RGB=False, dtype=uint8> <valis.slide_io.VipsSlideReader object at 0x7f60637ebd40> False (783, 1024)\n"
     ]
    },
    {
     "name": "stderr",
     "output_type": "stream",
     "text": [
      "Converting images:  61%|██████    | 1595/2624 [00:36<00:22, 45.32image/s]"
     ]
    },
    {
     "name": "stdout",
     "output_type": "stream",
     "text": [
      "<Slide, name = 1595>, width=1583, height=1210, channels=1, levels=1, RGB=False, dtype=uint8> <valis.slide_io.VipsSlideReader object at 0x7f60637ebc50> False (783, 1024)\n",
      "<Slide, name = 1596>, width=1583, height=1210, channels=1, levels=1, RGB=False, dtype=uint8> <valis.slide_io.VipsSlideReader object at 0x7f60637e8ce0> False (783, 1024)\n",
      "<Slide, name = 1597>, width=1583, height=1210, channels=1, levels=1, RGB=False, dtype=uint8> <valis.slide_io.VipsSlideReader object at 0x7f60637eb7a0> False (783, 1024)\n",
      "<Slide, name = 1598>, width=1583, height=1210, channels=1, levels=1, RGB=False, dtype=uint8> <valis.slide_io.VipsSlideReader object at 0x7f60637ea2a0> False (783, 1024)\n",
      "<Slide, name = 1599>, width=1583, height=1210, channels=1, levels=1, RGB=False, dtype=uint8> <valis.slide_io.VipsSlideReader object at 0x7f60637ea630> False (783, 1024)\n"
     ]
    },
    {
     "name": "stderr",
     "output_type": "stream",
     "text": [
      "Converting images:  61%|██████    | 1600/2624 [00:36<00:22, 45.12image/s]"
     ]
    },
    {
     "name": "stdout",
     "output_type": "stream",
     "text": [
      "<Slide, name = 1600>, width=1583, height=1210, channels=1, levels=1, RGB=False, dtype=uint8> <valis.slide_io.VipsSlideReader object at 0x7f60637eb2f0> False (783, 1024)\n",
      "<Slide, name = 1601>, width=1583, height=1210, channels=1, levels=1, RGB=False, dtype=uint8> <valis.slide_io.VipsSlideReader object at 0x7f60637ead50> False (783, 1024)\n",
      "<Slide, name = 1602>, width=1583, height=1210, channels=1, levels=1, RGB=False, dtype=uint8> <valis.slide_io.VipsSlideReader object at 0x7f60637ea4e0> False (783, 1024)\n",
      "<Slide, name = 1603>, width=1583, height=1210, channels=1, levels=1, RGB=False, dtype=uint8> <valis.slide_io.VipsSlideReader object at 0x7f60637e9d60> False (783, 1024)\n",
      "<Slide, name = 1604>, width=1583, height=1210, channels=1, levels=1, RGB=False, dtype=uint8> <valis.slide_io.VipsSlideReader object at 0x7f60637ebce0> False (783, 1024)\n"
     ]
    },
    {
     "name": "stderr",
     "output_type": "stream",
     "text": [
      "Converting images:  61%|██████    | 1605/2624 [00:36<00:22, 45.40image/s]"
     ]
    },
    {
     "name": "stdout",
     "output_type": "stream",
     "text": [
      "<Slide, name = 1605>, width=1583, height=1210, channels=1, levels=1, RGB=False, dtype=uint8> <valis.slide_io.VipsSlideReader object at 0x7f60637ebbf0> False (783, 1024)\n",
      "<Slide, name = 1606>, width=1583, height=1210, channels=1, levels=1, RGB=False, dtype=uint8> <valis.slide_io.VipsSlideReader object at 0x7f60637eb8c0> False (783, 1024)\n",
      "<Slide, name = 1607>, width=1583, height=1210, channels=1, levels=1, RGB=False, dtype=uint8> <valis.slide_io.VipsSlideReader object at 0x7f60637ea150> False (783, 1024)\n",
      "<Slide, name = 1608>, width=1583, height=1210, channels=1, levels=1, RGB=False, dtype=uint8> <valis.slide_io.VipsSlideReader object at 0x7f60637ead80> False (783, 1024)\n",
      "<Slide, name = 1609>, width=1583, height=1210, channels=1, levels=1, RGB=False, dtype=uint8> <valis.slide_io.VipsSlideReader object at 0x7f60637ea0f0> False (783, 1024)\n"
     ]
    },
    {
     "name": "stderr",
     "output_type": "stream",
     "text": [
      "Converting images:  61%|██████▏   | 1610/2624 [00:36<00:22, 45.13image/s]"
     ]
    },
    {
     "name": "stdout",
     "output_type": "stream",
     "text": [
      "<Slide, name = 1610>, width=1583, height=1210, channels=1, levels=1, RGB=False, dtype=uint8> <valis.slide_io.VipsSlideReader object at 0x7f60637eb830> False (783, 1024)\n",
      "<Slide, name = 1611>, width=1583, height=1210, channels=1, levels=1, RGB=False, dtype=uint8> <valis.slide_io.VipsSlideReader object at 0x7f60637eb350> False (783, 1024)\n",
      "<Slide, name = 1612>, width=1583, height=1210, channels=1, levels=1, RGB=False, dtype=uint8> <valis.slide_io.VipsSlideReader object at 0x7f60637ebb60> False (783, 1024)\n",
      "<Slide, name = 1613>, width=1583, height=1210, channels=1, levels=1, RGB=False, dtype=uint8> <valis.slide_io.VipsSlideReader object at 0x7f60637eb200> False (783, 1024)\n",
      "<Slide, name = 1614>, width=1583, height=1210, channels=1, levels=1, RGB=False, dtype=uint8> <valis.slide_io.VipsSlideReader object at 0x7f60637eaa20> False (783, 1024)\n"
     ]
    },
    {
     "name": "stderr",
     "output_type": "stream",
     "text": [
      "Converting images:  62%|██████▏   | 1615/2624 [00:36<00:22, 45.28image/s]"
     ]
    },
    {
     "name": "stdout",
     "output_type": "stream",
     "text": [
      "<Slide, name = 1615>, width=1583, height=1210, channels=1, levels=1, RGB=False, dtype=uint8> <valis.slide_io.VipsSlideReader object at 0x7f60637ea510> False (783, 1024)\n",
      "<Slide, name = 1616>, width=1583, height=1210, channels=1, levels=1, RGB=False, dtype=uint8> <valis.slide_io.VipsSlideReader object at 0x7f60637e80b0> False (783, 1024)\n",
      "<Slide, name = 1617>, width=1583, height=1210, channels=1, levels=1, RGB=False, dtype=uint8> <valis.slide_io.VipsSlideReader object at 0x7f60637eaf90> False (783, 1024)\n",
      "<Slide, name = 1618>, width=1583, height=1210, channels=1, levels=1, RGB=False, dtype=uint8> <valis.slide_io.VipsSlideReader object at 0x7f60637e8f50> False (783, 1024)\n",
      "<Slide, name = 1619>, width=1583, height=1210, channels=1, levels=1, RGB=False, dtype=uint8> <valis.slide_io.VipsSlideReader object at 0x7f60637e8a40> False (783, 1024)\n"
     ]
    },
    {
     "name": "stderr",
     "output_type": "stream",
     "text": [
      "Converting images:  62%|██████▏   | 1620/2624 [00:37<00:22, 44.45image/s]"
     ]
    },
    {
     "name": "stdout",
     "output_type": "stream",
     "text": [
      "<Slide, name = 1620>, width=1583, height=1210, channels=1, levels=1, RGB=False, dtype=uint8> <valis.slide_io.VipsSlideReader object at 0x7f60637e8e30> False (783, 1024)\n",
      "<Slide, name = 1621>, width=1583, height=1210, channels=1, levels=1, RGB=False, dtype=uint8> <valis.slide_io.VipsSlideReader object at 0x7f60637eb980> False (783, 1024)\n",
      "<Slide, name = 1622>, width=1583, height=1210, channels=1, levels=1, RGB=False, dtype=uint8> <valis.slide_io.VipsSlideReader object at 0x7f60637e9880> False (783, 1024)\n",
      "<Slide, name = 1623>, width=1583, height=1210, channels=1, levels=1, RGB=False, dtype=uint8> <valis.slide_io.VipsSlideReader object at 0x7f60637e84d0> False (783, 1024)\n",
      "<Slide, name = 1624>, width=1583, height=1210, channels=1, levels=1, RGB=False, dtype=uint8> <valis.slide_io.VipsSlideReader object at 0x7f60637e8a70> False (783, 1024)\n"
     ]
    },
    {
     "name": "stderr",
     "output_type": "stream",
     "text": [
      "Converting images:  62%|██████▏   | 1625/2624 [00:37<00:22, 44.64image/s]"
     ]
    },
    {
     "name": "stdout",
     "output_type": "stream",
     "text": [
      "<Slide, name = 1625>, width=1583, height=1210, channels=1, levels=1, RGB=False, dtype=uint8> <valis.slide_io.VipsSlideReader object at 0x7f60637e9310> False (783, 1024)\n",
      "<Slide, name = 1626>, width=1583, height=1210, channels=1, levels=1, RGB=False, dtype=uint8> <valis.slide_io.VipsSlideReader object at 0x7f60637e8320> False (783, 1024)\n",
      "<Slide, name = 1627>, width=1583, height=1210, channels=1, levels=1, RGB=False, dtype=uint8> <valis.slide_io.VipsSlideReader object at 0x7f60637e9f70> False (783, 1024)\n",
      "<Slide, name = 1628>, width=1583, height=1210, channels=1, levels=1, RGB=False, dtype=uint8> <valis.slide_io.VipsSlideReader object at 0x7f60637e95e0> False (783, 1024)\n",
      "<Slide, name = 1629>, width=1583, height=1210, channels=1, levels=1, RGB=False, dtype=uint8> <valis.slide_io.VipsSlideReader object at 0x7f60637e9340> False (783, 1024)\n"
     ]
    },
    {
     "name": "stderr",
     "output_type": "stream",
     "text": [
      "Converting images:  62%|██████▏   | 1630/2624 [00:37<00:22, 44.53image/s]"
     ]
    },
    {
     "name": "stdout",
     "output_type": "stream",
     "text": [
      "<Slide, name = 1630>, width=1583, height=1210, channels=1, levels=1, RGB=False, dtype=uint8> <valis.slide_io.VipsSlideReader object at 0x7f60637ea930> False (783, 1024)\n",
      "<Slide, name = 1631>, width=1583, height=1210, channels=1, levels=1, RGB=False, dtype=uint8> <valis.slide_io.VipsSlideReader object at 0x7f60637e9850> False (783, 1024)\n",
      "<Slide, name = 1632>, width=1583, height=1210, channels=1, levels=1, RGB=False, dtype=uint8> <valis.slide_io.VipsSlideReader object at 0x7f60637ea840> False (783, 1024)\n",
      "<Slide, name = 1633>, width=1583, height=1210, channels=1, levels=1, RGB=False, dtype=uint8> <valis.slide_io.VipsSlideReader object at 0x7f60637e9e50> False (783, 1024)\n",
      "<Slide, name = 1634>, width=1583, height=1210, channels=1, levels=1, RGB=False, dtype=uint8> <valis.slide_io.VipsSlideReader object at 0x7f60637e9670> False (783, 1024)\n"
     ]
    },
    {
     "name": "stderr",
     "output_type": "stream",
     "text": [
      "Converting images:  62%|██████▏   | 1635/2624 [00:37<00:22, 44.55image/s]"
     ]
    },
    {
     "name": "stdout",
     "output_type": "stream",
     "text": [
      "<Slide, name = 1635>, width=1583, height=1210, channels=1, levels=1, RGB=False, dtype=uint8> <valis.slide_io.VipsSlideReader object at 0x7f60637eab40> False (783, 1024)\n",
      "<Slide, name = 1636>, width=1583, height=1210, channels=1, levels=1, RGB=False, dtype=uint8> <valis.slide_io.VipsSlideReader object at 0x7f60637ea000> False (783, 1024)\n",
      "<Slide, name = 1637>, width=1583, height=1210, channels=1, levels=1, RGB=False, dtype=uint8> <valis.slide_io.VipsSlideReader object at 0x7f60637e93a0> False (783, 1024)\n",
      "<Slide, name = 1638>, width=1583, height=1210, channels=1, levels=1, RGB=False, dtype=uint8> <valis.slide_io.VipsSlideReader object at 0x7f60637e91c0> False (783, 1024)\n",
      "<Slide, name = 1639>, width=1583, height=1210, channels=1, levels=1, RGB=False, dtype=uint8> <valis.slide_io.VipsSlideReader object at 0x7f60637e9970> False (783, 1024)\n"
     ]
    },
    {
     "name": "stderr",
     "output_type": "stream",
     "text": [
      "Converting images:  62%|██████▎   | 1640/2624 [00:37<00:22, 44.66image/s]"
     ]
    },
    {
     "name": "stdout",
     "output_type": "stream",
     "text": [
      "<Slide, name = 1640>, width=1583, height=1210, channels=1, levels=1, RGB=False, dtype=uint8> <valis.slide_io.VipsSlideReader object at 0x7f60637e99a0> False (783, 1024)\n",
      "<Slide, name = 1641>, width=1583, height=1210, channels=1, levels=1, RGB=False, dtype=uint8> <valis.slide_io.VipsSlideReader object at 0x7f60637e9010> False (783, 1024)\n",
      "<Slide, name = 1642>, width=1583, height=1210, channels=1, levels=1, RGB=False, dtype=uint8> <valis.slide_io.VipsSlideReader object at 0x7f60637e80e0> False (783, 1024)\n",
      "<Slide, name = 1643>, width=1583, height=1210, channels=1, levels=1, RGB=False, dtype=uint8> <valis.slide_io.VipsSlideReader object at 0x7f60637e8f80> False (783, 1024)\n",
      "<Slide, name = 1644>, width=1583, height=1210, channels=1, levels=1, RGB=False, dtype=uint8> <valis.slide_io.VipsSlideReader object at 0x7f60637e98e0> False (783, 1024)\n"
     ]
    },
    {
     "name": "stderr",
     "output_type": "stream",
     "text": [
      "Converting images:  63%|██████▎   | 1645/2624 [00:37<00:21, 45.01image/s]"
     ]
    },
    {
     "name": "stdout",
     "output_type": "stream",
     "text": [
      "<Slide, name = 1645>, width=1583, height=1210, channels=1, levels=1, RGB=False, dtype=uint8> <valis.slide_io.VipsSlideReader object at 0x7f60637e8980> False (783, 1024)\n",
      "<Slide, name = 1646>, width=1583, height=1210, channels=1, levels=1, RGB=False, dtype=uint8> <valis.slide_io.VipsSlideReader object at 0x7f60637e9c70> False (783, 1024)\n",
      "<Slide, name = 1647>, width=1583, height=1210, channels=1, levels=1, RGB=False, dtype=uint8> <valis.slide_io.VipsSlideReader object at 0x7f60637e8e90> False (783, 1024)\n",
      "<Slide, name = 1648>, width=1583, height=1210, channels=1, levels=1, RGB=False, dtype=uint8> <valis.slide_io.VipsSlideReader object at 0x7f60637e9430> False (783, 1024)\n",
      "<Slide, name = 1649>, width=1583, height=1210, channels=1, levels=1, RGB=False, dtype=uint8> <valis.slide_io.VipsSlideReader object at 0x7f60637ea270> False (783, 1024)\n"
     ]
    },
    {
     "name": "stderr",
     "output_type": "stream",
     "text": [
      "Converting images:  63%|██████▎   | 1650/2624 [00:37<00:21, 44.91image/s]"
     ]
    },
    {
     "name": "stdout",
     "output_type": "stream",
     "text": [
      "<Slide, name = 1650>, width=1583, height=1210, channels=1, levels=1, RGB=False, dtype=uint8> <valis.slide_io.VipsSlideReader object at 0x7f60637eab10> False (783, 1024)\n",
      "<Slide, name = 1651>, width=1583, height=1210, channels=1, levels=1, RGB=False, dtype=uint8> <valis.slide_io.VipsSlideReader object at 0x7f60637e8bc0> False (783, 1024)\n",
      "<Slide, name = 1652>, width=1583, height=1210, channels=1, levels=1, RGB=False, dtype=uint8> <valis.slide_io.VipsSlideReader object at 0x7f60637e9e80> False (783, 1024)\n",
      "<Slide, name = 1653>, width=1583, height=1210, channels=1, levels=1, RGB=False, dtype=uint8> <valis.slide_io.VipsSlideReader object at 0x7f60637ebb00> False (783, 1024)\n",
      "<Slide, name = 1654>, width=1583, height=1210, channels=1, levels=1, RGB=False, dtype=uint8> <valis.slide_io.VipsSlideReader object at 0x7f60637eb5f0> False (783, 1024)\n"
     ]
    },
    {
     "name": "stderr",
     "output_type": "stream",
     "text": [
      "Converting images:  63%|██████▎   | 1655/2624 [00:37<00:21, 45.24image/s]"
     ]
    },
    {
     "name": "stdout",
     "output_type": "stream",
     "text": [
      "<Slide, name = 1655>, width=1583, height=1210, channels=1, levels=1, RGB=False, dtype=uint8> <valis.slide_io.VipsSlideReader object at 0x7f60637e9250> False (783, 1024)\n",
      "<Slide, name = 1656>, width=1583, height=1210, channels=1, levels=1, RGB=False, dtype=uint8> <valis.slide_io.VipsSlideReader object at 0x7f60637e8530> False (783, 1024)\n",
      "<Slide, name = 1657>, width=1583, height=1210, channels=1, levels=1, RGB=False, dtype=uint8> <valis.slide_io.VipsSlideReader object at 0x7f60637e83b0> False (783, 1024)\n",
      "<Slide, name = 1658>, width=1583, height=1210, channels=1, levels=1, RGB=False, dtype=uint8> <valis.slide_io.VipsSlideReader object at 0x7f60637ea240> False (783, 1024)\n",
      "<Slide, name = 1659>, width=1583, height=1210, channels=1, levels=1, RGB=False, dtype=uint8> <valis.slide_io.VipsSlideReader object at 0x7f60637e8c80> False (783, 1024)\n"
     ]
    },
    {
     "name": "stderr",
     "output_type": "stream",
     "text": [
      "Converting images:  63%|██████▎   | 1660/2624 [00:37<00:21, 44.80image/s]"
     ]
    },
    {
     "name": "stdout",
     "output_type": "stream",
     "text": [
      "<Slide, name = 1660>, width=1583, height=1210, channels=1, levels=1, RGB=False, dtype=uint8> <valis.slide_io.VipsSlideReader object at 0x7f60637e9b80> False (783, 1024)\n",
      "<Slide, name = 1661>, width=1583, height=1210, channels=1, levels=1, RGB=False, dtype=uint8> <valis.slide_io.VipsSlideReader object at 0x7f60637eb500> False (783, 1024)\n",
      "<Slide, name = 1662>, width=1583, height=1210, channels=1, levels=1, RGB=False, dtype=uint8> <valis.slide_io.VipsSlideReader object at 0x7f60637e9a90> False (783, 1024)\n",
      "<Slide, name = 1663>, width=1583, height=1210, channels=1, levels=1, RGB=False, dtype=uint8> <valis.slide_io.VipsSlideReader object at 0x7f60637eb650> False (783, 1024)\n",
      "<Slide, name = 1664>, width=1583, height=1210, channels=1, levels=1, RGB=False, dtype=uint8> <valis.slide_io.VipsSlideReader object at 0x7f60637e91f0> False (783, 1024)\n"
     ]
    },
    {
     "name": "stderr",
     "output_type": "stream",
     "text": [
      "Converting images:  63%|██████▎   | 1665/2624 [00:38<00:21, 44.44image/s]"
     ]
    },
    {
     "name": "stdout",
     "output_type": "stream",
     "text": [
      "<Slide, name = 1665>, width=1583, height=1210, channels=1, levels=1, RGB=False, dtype=uint8> <valis.slide_io.VipsSlideReader object at 0x7f60637e87d0> False (783, 1024)\n",
      "<Slide, name = 1666>, width=1583, height=1210, channels=1, levels=1, RGB=False, dtype=uint8> <valis.slide_io.VipsSlideReader object at 0x7f60637e8b30> False (783, 1024)\n",
      "<Slide, name = 1667>, width=1583, height=1210, channels=1, levels=1, RGB=False, dtype=uint8> <valis.slide_io.VipsSlideReader object at 0x7f60637ce6f0> False (783, 1024)\n",
      "<Slide, name = 1668>, width=1583, height=1210, channels=1, levels=1, RGB=False, dtype=uint8> <valis.slide_io.VipsSlideReader object at 0x7f60637cdd90> False (783, 1024)\n",
      "<Slide, name = 1669>, width=1583, height=1210, channels=1, levels=1, RGB=False, dtype=uint8> <valis.slide_io.VipsSlideReader object at 0x7f60637cfec0> False (783, 1024)\n"
     ]
    },
    {
     "name": "stderr",
     "output_type": "stream",
     "text": [
      "Converting images:  64%|██████▎   | 1670/2624 [00:38<00:21, 44.65image/s]"
     ]
    },
    {
     "name": "stdout",
     "output_type": "stream",
     "text": [
      "<Slide, name = 1670>, width=1583, height=1210, channels=1, levels=1, RGB=False, dtype=uint8> <valis.slide_io.VipsSlideReader object at 0x7f60637cc5c0> False (783, 1024)\n",
      "<Slide, name = 1671>, width=1583, height=1210, channels=1, levels=1, RGB=False, dtype=uint8> <valis.slide_io.VipsSlideReader object at 0x7f60637cd190> False (783, 1024)\n",
      "<Slide, name = 1672>, width=1583, height=1210, channels=1, levels=1, RGB=False, dtype=uint8> <valis.slide_io.VipsSlideReader object at 0x7f60637cf110> False (783, 1024)\n",
      "<Slide, name = 1673>, width=1583, height=1210, channels=1, levels=1, RGB=False, dtype=uint8> <valis.slide_io.VipsSlideReader object at 0x7f60637cc1a0> False (783, 1024)\n",
      "<Slide, name = 1674>, width=1583, height=1210, channels=1, levels=1, RGB=False, dtype=uint8> <valis.slide_io.VipsSlideReader object at 0x7f60637cf1a0> False (783, 1024)\n"
     ]
    },
    {
     "name": "stderr",
     "output_type": "stream",
     "text": [
      "Converting images:  64%|██████▍   | 1675/2624 [00:38<00:21, 44.82image/s]"
     ]
    },
    {
     "name": "stdout",
     "output_type": "stream",
     "text": [
      "<Slide, name = 1675>, width=1583, height=1210, channels=1, levels=1, RGB=False, dtype=uint8> <valis.slide_io.VipsSlideReader object at 0x7f60637cf230> False (783, 1024)\n",
      "<Slide, name = 1676>, width=1583, height=1210, channels=1, levels=1, RGB=False, dtype=uint8> <valis.slide_io.VipsSlideReader object at 0x7f60637ccef0> False (783, 1024)\n",
      "<Slide, name = 1677>, width=1583, height=1210, channels=1, levels=1, RGB=False, dtype=uint8> <valis.slide_io.VipsSlideReader object at 0x7f60637ce330> False (783, 1024)\n",
      "<Slide, name = 1678>, width=1583, height=1210, channels=1, levels=1, RGB=False, dtype=uint8> <valis.slide_io.VipsSlideReader object at 0x7f60637ccb30> False (783, 1024)\n",
      "<Slide, name = 1679>, width=1583, height=1210, channels=1, levels=1, RGB=False, dtype=uint8> <valis.slide_io.VipsSlideReader object at 0x7f60637cc6b0> False (783, 1024)\n"
     ]
    },
    {
     "name": "stderr",
     "output_type": "stream",
     "text": [
      "Converting images:  64%|██████▍   | 1680/2624 [00:38<00:21, 44.90image/s]"
     ]
    },
    {
     "name": "stdout",
     "output_type": "stream",
     "text": [
      "<Slide, name = 1680>, width=1583, height=1210, channels=1, levels=1, RGB=False, dtype=uint8> <valis.slide_io.VipsSlideReader object at 0x7f60637cd3d0> False (783, 1024)\n",
      "<Slide, name = 1681>, width=1583, height=1210, channels=1, levels=1, RGB=False, dtype=uint8> <valis.slide_io.VipsSlideReader object at 0x7f60637ce3f0> False (783, 1024)\n",
      "<Slide, name = 1682>, width=1583, height=1210, channels=1, levels=1, RGB=False, dtype=uint8> <valis.slide_io.VipsSlideReader object at 0x7f60637cf9e0> False (783, 1024)\n",
      "<Slide, name = 1683>, width=1583, height=1210, channels=1, levels=1, RGB=False, dtype=uint8> <valis.slide_io.VipsSlideReader object at 0x7f60637cdc40> False (783, 1024)\n",
      "<Slide, name = 1684>, width=1583, height=1210, channels=1, levels=1, RGB=False, dtype=uint8> <valis.slide_io.VipsSlideReader object at 0x7f60637ccec0> False (783, 1024)\n"
     ]
    },
    {
     "name": "stderr",
     "output_type": "stream",
     "text": [
      "Converting images:  64%|██████▍   | 1685/2624 [00:38<00:21, 44.53image/s]"
     ]
    },
    {
     "name": "stdout",
     "output_type": "stream",
     "text": [
      "<Slide, name = 1685>, width=1583, height=1210, channels=1, levels=1, RGB=False, dtype=uint8> <valis.slide_io.VipsSlideReader object at 0x7f60637cd8e0> False (783, 1024)\n",
      "<Slide, name = 1686>, width=1583, height=1210, channels=1, levels=1, RGB=False, dtype=uint8> <valis.slide_io.VipsSlideReader object at 0x7f60637ce7b0> False (783, 1024)\n",
      "<Slide, name = 1687>, width=1583, height=1210, channels=1, levels=1, RGB=False, dtype=uint8> <valis.slide_io.VipsSlideReader object at 0x7f60637cd400> False (783, 1024)\n",
      "<Slide, name = 1688>, width=1583, height=1210, channels=1, levels=1, RGB=False, dtype=uint8> <valis.slide_io.VipsSlideReader object at 0x7f60637cf710> False (783, 1024)\n",
      "<Slide, name = 1689>, width=1583, height=1210, channels=1, levels=1, RGB=False, dtype=uint8> <valis.slide_io.VipsSlideReader object at 0x7f60637ccf50> False (783, 1024)\n"
     ]
    },
    {
     "name": "stderr",
     "output_type": "stream",
     "text": [
      "Converting images:  64%|██████▍   | 1690/2624 [00:38<00:20, 44.53image/s]"
     ]
    },
    {
     "name": "stdout",
     "output_type": "stream",
     "text": [
      "<Slide, name = 1690>, width=1583, height=1210, channels=1, levels=1, RGB=False, dtype=uint8> <valis.slide_io.VipsSlideReader object at 0x7f60637ce2d0> False (783, 1024)\n",
      "<Slide, name = 1691>, width=1583, height=1210, channels=1, levels=1, RGB=False, dtype=uint8> <valis.slide_io.VipsSlideReader object at 0x7f60637ccce0> False (783, 1024)\n",
      "<Slide, name = 1692>, width=1583, height=1210, channels=1, levels=1, RGB=False, dtype=uint8> <valis.slide_io.VipsSlideReader object at 0x7f60637ce3c0> False (783, 1024)\n",
      "<Slide, name = 1693>, width=1583, height=1210, channels=1, levels=1, RGB=False, dtype=uint8> <valis.slide_io.VipsSlideReader object at 0x7f60637cfa40> False (783, 1024)\n",
      "<Slide, name = 1694>, width=1583, height=1210, channels=1, levels=1, RGB=False, dtype=uint8> <valis.slide_io.VipsSlideReader object at 0x7f60637cedb0> False (783, 1024)\n"
     ]
    },
    {
     "name": "stderr",
     "output_type": "stream",
     "text": [
      "Converting images:  65%|██████▍   | 1695/2624 [00:38<00:20, 44.64image/s]"
     ]
    },
    {
     "name": "stdout",
     "output_type": "stream",
     "text": [
      "<Slide, name = 1695>, width=1583, height=1210, channels=1, levels=1, RGB=False, dtype=uint8> <valis.slide_io.VipsSlideReader object at 0x7f60637cdfa0> False (783, 1024)\n",
      "<Slide, name = 1696>, width=1583, height=1210, channels=1, levels=1, RGB=False, dtype=uint8> <valis.slide_io.VipsSlideReader object at 0x7f60637cdee0> False (783, 1024)\n",
      "<Slide, name = 1697>, width=1583, height=1210, channels=1, levels=1, RGB=False, dtype=uint8> <valis.slide_io.VipsSlideReader object at 0x7f60637cf080> False (783, 1024)\n",
      "<Slide, name = 1698>, width=1583, height=1210, channels=1, levels=1, RGB=False, dtype=uint8> <valis.slide_io.VipsSlideReader object at 0x7f60637cef30> False (783, 1024)\n",
      "<Slide, name = 1699>, width=1583, height=1210, channels=1, levels=1, RGB=False, dtype=uint8> <valis.slide_io.VipsSlideReader object at 0x7f60637cecc0> False (783, 1024)\n"
     ]
    },
    {
     "name": "stderr",
     "output_type": "stream",
     "text": [
      "Converting images:  65%|██████▍   | 1700/2624 [00:38<00:20, 44.78image/s]"
     ]
    },
    {
     "name": "stdout",
     "output_type": "stream",
     "text": [
      "<Slide, name = 1700>, width=1583, height=1210, channels=1, levels=1, RGB=False, dtype=uint8> <valis.slide_io.VipsSlideReader object at 0x7f60637cd010> False (783, 1024)\n",
      "<Slide, name = 1701>, width=1583, height=1210, channels=1, levels=1, RGB=False, dtype=uint8> <valis.slide_io.VipsSlideReader object at 0x7f60637ccd70> False (783, 1024)\n",
      "<Slide, name = 1702>, width=1583, height=1210, channels=1, levels=1, RGB=False, dtype=uint8> <valis.slide_io.VipsSlideReader object at 0x7f60637cc9b0> False (783, 1024)\n",
      "<Slide, name = 1703>, width=1583, height=1210, channels=1, levels=1, RGB=False, dtype=uint8> <valis.slide_io.VipsSlideReader object at 0x7f60637cd040> False (783, 1024)\n",
      "<Slide, name = 1704>, width=1583, height=1210, channels=1, levels=1, RGB=False, dtype=uint8> <valis.slide_io.VipsSlideReader object at 0x7f60637cd700> False (783, 1024)\n"
     ]
    },
    {
     "name": "stderr",
     "output_type": "stream",
     "text": [
      "Converting images:  65%|██████▍   | 1705/2624 [00:38<00:20, 44.51image/s]"
     ]
    },
    {
     "name": "stdout",
     "output_type": "stream",
     "text": [
      "<Slide, name = 1705>, width=1583, height=1210, channels=1, levels=1, RGB=False, dtype=uint8> <valis.slide_io.VipsSlideReader object at 0x7f60637cd640> False (783, 1024)\n",
      "<Slide, name = 1706>, width=1583, height=1210, channels=1, levels=1, RGB=False, dtype=uint8> <valis.slide_io.VipsSlideReader object at 0x7f60637cff20> False (783, 1024)\n",
      "<Slide, name = 1707>, width=1583, height=1210, channels=1, levels=1, RGB=False, dtype=uint8> <valis.slide_io.VipsSlideReader object at 0x7f60637cea80> False (783, 1024)\n",
      "<Slide, name = 1708>, width=1583, height=1210, channels=1, levels=1, RGB=False, dtype=uint8> <valis.slide_io.VipsSlideReader object at 0x7f60637cd4f0> False (783, 1024)\n",
      "<Slide, name = 1709>, width=1583, height=1210, channels=1, levels=1, RGB=False, dtype=uint8> <valis.slide_io.VipsSlideReader object at 0x7f60637ce240> False (783, 1024)\n"
     ]
    },
    {
     "name": "stderr",
     "output_type": "stream",
     "text": [
      "Converting images:  65%|██████▌   | 1710/2624 [00:39<00:20, 44.34image/s]"
     ]
    },
    {
     "name": "stdout",
     "output_type": "stream",
     "text": [
      "<Slide, name = 1710>, width=1583, height=1210, channels=1, levels=1, RGB=False, dtype=uint8> <valis.slide_io.VipsSlideReader object at 0x7f60637cde50> False (783, 1024)\n",
      "<Slide, name = 1711>, width=1583, height=1210, channels=1, levels=1, RGB=False, dtype=uint8> <valis.slide_io.VipsSlideReader object at 0x7f60637cf6b0> False (783, 1024)\n",
      "<Slide, name = 1712>, width=1583, height=1210, channels=1, levels=1, RGB=False, dtype=uint8> <valis.slide_io.VipsSlideReader object at 0x7f60637cc050> False (783, 1024)\n",
      "<Slide, name = 1713>, width=1583, height=1210, channels=1, levels=1, RGB=False, dtype=uint8> <valis.slide_io.VipsSlideReader object at 0x7f60637cfc80> False (783, 1024)\n",
      "<Slide, name = 1714>, width=1583, height=1210, channels=1, levels=1, RGB=False, dtype=uint8> <valis.slide_io.VipsSlideReader object at 0x7f60637cec30> False (783, 1024)\n"
     ]
    },
    {
     "name": "stderr",
     "output_type": "stream",
     "text": [
      "Converting images:  65%|██████▌   | 1715/2624 [00:39<00:20, 44.48image/s]"
     ]
    },
    {
     "name": "stdout",
     "output_type": "stream",
     "text": [
      "<Slide, name = 1715>, width=1583, height=1210, channels=1, levels=1, RGB=False, dtype=uint8> <valis.slide_io.VipsSlideReader object at 0x7f60637ce690> False (783, 1024)\n",
      "<Slide, name = 1716>, width=1583, height=1210, channels=1, levels=1, RGB=False, dtype=uint8> <valis.slide_io.VipsSlideReader object at 0x7f60637cda60> False (783, 1024)\n",
      "<Slide, name = 1717>, width=1583, height=1210, channels=1, levels=1, RGB=False, dtype=uint8> <valis.slide_io.VipsSlideReader object at 0x7f60637cfc50> False (783, 1024)\n",
      "<Slide, name = 1718>, width=1583, height=1210, channels=1, levels=1, RGB=False, dtype=uint8> <valis.slide_io.VipsSlideReader object at 0x7f60637cd610> False (783, 1024)\n",
      "<Slide, name = 1719>, width=1583, height=1210, channels=1, levels=1, RGB=False, dtype=uint8> <valis.slide_io.VipsSlideReader object at 0x7f60637cdf70> False (783, 1024)\n"
     ]
    },
    {
     "name": "stderr",
     "output_type": "stream",
     "text": [
      "Converting images:  66%|██████▌   | 1720/2624 [00:39<00:20, 44.62image/s]"
     ]
    },
    {
     "name": "stdout",
     "output_type": "stream",
     "text": [
      "<Slide, name = 1720>, width=1583, height=1210, channels=1, levels=1, RGB=False, dtype=uint8> <valis.slide_io.VipsSlideReader object at 0x7f60637ce720> False (783, 1024)\n",
      "<Slide, name = 1721>, width=1583, height=1210, channels=1, levels=1, RGB=False, dtype=uint8> <valis.slide_io.VipsSlideReader object at 0x7f60637cffb0> False (783, 1024)\n",
      "<Slide, name = 1722>, width=1583, height=1210, channels=1, levels=1, RGB=False, dtype=uint8> <valis.slide_io.VipsSlideReader object at 0x7f60637cdeb0> False (783, 1024)\n",
      "<Slide, name = 1723>, width=1583, height=1210, channels=1, levels=1, RGB=False, dtype=uint8> <valis.slide_io.VipsSlideReader object at 0x7f60637cfd10> False (783, 1024)\n",
      "<Slide, name = 1724>, width=1583, height=1210, channels=1, levels=1, RGB=False, dtype=uint8> <valis.slide_io.VipsSlideReader object at 0x7f60637cdcd0> False (783, 1024)\n"
     ]
    },
    {
     "name": "stderr",
     "output_type": "stream",
     "text": [
      "Converting images:  66%|██████▌   | 1725/2624 [00:39<00:19, 45.05image/s]"
     ]
    },
    {
     "name": "stdout",
     "output_type": "stream",
     "text": [
      "<Slide, name = 1725>, width=1583, height=1210, channels=1, levels=1, RGB=False, dtype=uint8> <valis.slide_io.VipsSlideReader object at 0x7f60637ceea0> False (783, 1024)\n",
      "<Slide, name = 1726>, width=1583, height=1210, channels=1, levels=1, RGB=False, dtype=uint8> <valis.slide_io.VipsSlideReader object at 0x7f60637cf050> False (783, 1024)\n",
      "<Slide, name = 1727>, width=1583, height=1210, channels=1, levels=1, RGB=False, dtype=uint8> <valis.slide_io.VipsSlideReader object at 0x7f60637cfc20> False (783, 1024)\n",
      "<Slide, name = 1728>, width=1583, height=1210, channels=1, levels=1, RGB=False, dtype=uint8> <valis.slide_io.VipsSlideReader object at 0x7f60637cf560> False (783, 1024)\n",
      "<Slide, name = 1729>, width=1583, height=1210, channels=1, levels=1, RGB=False, dtype=uint8> <valis.slide_io.VipsSlideReader object at 0x7f60637cdbe0> False (783, 1024)\n"
     ]
    },
    {
     "name": "stderr",
     "output_type": "stream",
     "text": [
      "Converting images:  66%|██████▌   | 1730/2624 [00:39<00:19, 44.87image/s]"
     ]
    },
    {
     "name": "stdout",
     "output_type": "stream",
     "text": [
      "<Slide, name = 1730>, width=1583, height=1210, channels=1, levels=1, RGB=False, dtype=uint8> <valis.slide_io.VipsSlideReader object at 0x7f60637ccfb0> False (783, 1024)\n",
      "<Slide, name = 1731>, width=1583, height=1210, channels=1, levels=1, RGB=False, dtype=uint8> <valis.slide_io.VipsSlideReader object at 0x7f60637ce210> False (783, 1024)\n",
      "<Slide, name = 1732>, width=1583, height=1210, channels=1, levels=1, RGB=False, dtype=uint8> <valis.slide_io.VipsSlideReader object at 0x7f60637cec00> False (783, 1024)\n",
      "<Slide, name = 1733>, width=1583, height=1210, channels=1, levels=1, RGB=False, dtype=uint8> <valis.slide_io.VipsSlideReader object at 0x7f60637ce360> False (783, 1024)\n",
      "<Slide, name = 1734>, width=1583, height=1210, channels=1, levels=1, RGB=False, dtype=uint8> <valis.slide_io.VipsSlideReader object at 0x7f60637cc4d0> False (783, 1024)\n"
     ]
    },
    {
     "name": "stderr",
     "output_type": "stream",
     "text": [
      "Converting images:  66%|██████▌   | 1735/2624 [00:39<00:19, 44.94image/s]"
     ]
    },
    {
     "name": "stdout",
     "output_type": "stream",
     "text": [
      "<Slide, name = 1735>, width=1583, height=1210, channels=1, levels=1, RGB=False, dtype=uint8> <valis.slide_io.VipsSlideReader object at 0x7f60637ce510> False (783, 1024)\n",
      "<Slide, name = 1736>, width=1583, height=1210, channels=1, levels=1, RGB=False, dtype=uint8> <valis.slide_io.VipsSlideReader object at 0x7f606361fd40> False (783, 1024)\n",
      "<Slide, name = 1737>, width=1583, height=1210, channels=1, levels=1, RGB=False, dtype=uint8> <valis.slide_io.VipsSlideReader object at 0x7f606361ebd0> False (783, 1024)\n",
      "<Slide, name = 1738>, width=1583, height=1210, channels=1, levels=1, RGB=False, dtype=uint8> <valis.slide_io.VipsSlideReader object at 0x7f606361e750> False (783, 1024)\n",
      "<Slide, name = 1739>, width=1583, height=1210, channels=1, levels=1, RGB=False, dtype=uint8> <valis.slide_io.VipsSlideReader object at 0x7f606361ce60> False (783, 1024)\n"
     ]
    },
    {
     "name": "stderr",
     "output_type": "stream",
     "text": [
      "Converting images:  66%|██████▋   | 1740/2624 [00:39<00:19, 44.76image/s]"
     ]
    },
    {
     "name": "stdout",
     "output_type": "stream",
     "text": [
      "<Slide, name = 1740>, width=1583, height=1210, channels=1, levels=1, RGB=False, dtype=uint8> <valis.slide_io.VipsSlideReader object at 0x7f606361cf20> False (783, 1024)\n",
      "<Slide, name = 1741>, width=1583, height=1210, channels=1, levels=1, RGB=False, dtype=uint8> <valis.slide_io.VipsSlideReader object at 0x7f606361f6e0> False (783, 1024)\n",
      "<Slide, name = 1742>, width=1583, height=1210, channels=1, levels=1, RGB=False, dtype=uint8> <valis.slide_io.VipsSlideReader object at 0x7f606361d640> False (783, 1024)\n",
      "<Slide, name = 1743>, width=1583, height=1210, channels=1, levels=1, RGB=False, dtype=uint8> <valis.slide_io.VipsSlideReader object at 0x7f606361dee0> False (783, 1024)\n",
      "<Slide, name = 1744>, width=1583, height=1210, channels=1, levels=1, RGB=False, dtype=uint8> <valis.slide_io.VipsSlideReader object at 0x7f606361e900> False (783, 1024)\n"
     ]
    },
    {
     "name": "stderr",
     "output_type": "stream",
     "text": [
      "Converting images:  67%|██████▋   | 1745/2624 [00:39<00:19, 45.27image/s]"
     ]
    },
    {
     "name": "stdout",
     "output_type": "stream",
     "text": [
      "<Slide, name = 1745>, width=1583, height=1210, channels=1, levels=1, RGB=False, dtype=uint8> <valis.slide_io.VipsSlideReader object at 0x7f606361c380> False (783, 1024)\n",
      "<Slide, name = 1746>, width=1583, height=1210, channels=1, levels=1, RGB=False, dtype=uint8> <valis.slide_io.VipsSlideReader object at 0x7f606361e7b0> False (783, 1024)\n",
      "<Slide, name = 1747>, width=1583, height=1210, channels=1, levels=1, RGB=False, dtype=uint8> <valis.slide_io.VipsSlideReader object at 0x7f606361f800> False (783, 1024)\n",
      "<Slide, name = 1748>, width=1583, height=1210, channels=1, levels=1, RGB=False, dtype=uint8> <valis.slide_io.VipsSlideReader object at 0x7f606361e4b0> False (783, 1024)\n",
      "<Slide, name = 1749>, width=1583, height=1210, channels=1, levels=1, RGB=False, dtype=uint8> <valis.slide_io.VipsSlideReader object at 0x7f606361d850> False (783, 1024)\n"
     ]
    },
    {
     "name": "stderr",
     "output_type": "stream",
     "text": [
      "Converting images:  67%|██████▋   | 1750/2624 [00:39<00:19, 45.45image/s]"
     ]
    },
    {
     "name": "stdout",
     "output_type": "stream",
     "text": [
      "<Slide, name = 1750>, width=1583, height=1210, channels=1, levels=1, RGB=False, dtype=uint8> <valis.slide_io.VipsSlideReader object at 0x7f606361d310> False (783, 1024)\n",
      "<Slide, name = 1751>, width=1583, height=1210, channels=1, levels=1, RGB=False, dtype=uint8> <valis.slide_io.VipsSlideReader object at 0x7f606361f710> False (783, 1024)\n",
      "<Slide, name = 1752>, width=1583, height=1210, channels=1, levels=1, RGB=False, dtype=uint8> <valis.slide_io.VipsSlideReader object at 0x7f606361f3b0> False (783, 1024)\n",
      "<Slide, name = 1753>, width=1583, height=1210, channels=1, levels=1, RGB=False, dtype=uint8> <valis.slide_io.VipsSlideReader object at 0x7f606361c410> False (783, 1024)\n",
      "<Slide, name = 1754>, width=1583, height=1210, channels=1, levels=1, RGB=False, dtype=uint8> <valis.slide_io.VipsSlideReader object at 0x7f606361de20> False (783, 1024)\n"
     ]
    },
    {
     "name": "stderr",
     "output_type": "stream",
     "text": [
      "Converting images:  67%|██████▋   | 1755/2624 [00:40<00:19, 45.35image/s]"
     ]
    },
    {
     "name": "stdout",
     "output_type": "stream",
     "text": [
      "<Slide, name = 1755>, width=1583, height=1210, channels=1, levels=1, RGB=False, dtype=uint8> <valis.slide_io.VipsSlideReader object at 0x7f606361c770> False (783, 1024)\n",
      "<Slide, name = 1756>, width=1583, height=1210, channels=1, levels=1, RGB=False, dtype=uint8> <valis.slide_io.VipsSlideReader object at 0x7f606361c710> False (783, 1024)\n",
      "<Slide, name = 1757>, width=1583, height=1210, channels=1, levels=1, RGB=False, dtype=uint8> <valis.slide_io.VipsSlideReader object at 0x7f606361d2b0> False (783, 1024)\n",
      "<Slide, name = 1758>, width=1583, height=1210, channels=1, levels=1, RGB=False, dtype=uint8> <valis.slide_io.VipsSlideReader object at 0x7f606361d220> False (783, 1024)\n",
      "<Slide, name = 1759>, width=1583, height=1210, channels=1, levels=1, RGB=False, dtype=uint8> <valis.slide_io.VipsSlideReader object at 0x7f606361db20> False (783, 1024)\n"
     ]
    },
    {
     "name": "stderr",
     "output_type": "stream",
     "text": [
      "Converting images:  67%|██████▋   | 1760/2624 [00:40<00:20, 43.02image/s]"
     ]
    },
    {
     "name": "stdout",
     "output_type": "stream",
     "text": [
      "<Slide, name = 1760>, width=1583, height=1210, channels=1, levels=1, RGB=False, dtype=uint8> <valis.slide_io.VipsSlideReader object at 0x7f606361c4d0> False (783, 1024)\n",
      "<Slide, name = 1761>, width=1583, height=1210, channels=1, levels=1, RGB=False, dtype=uint8> <valis.slide_io.VipsSlideReader object at 0x7f606361f410> False (783, 1024)\n",
      "<Slide, name = 1762>, width=1583, height=1210, channels=1, levels=1, RGB=False, dtype=uint8> <valis.slide_io.VipsSlideReader object at 0x7f606361c1d0> False (783, 1024)\n",
      "<Slide, name = 1763>, width=1583, height=1210, channels=1, levels=1, RGB=False, dtype=uint8> <valis.slide_io.VipsSlideReader object at 0x7f606361c980> False (783, 1024)\n",
      "<Slide, name = 1764>, width=1583, height=1210, channels=1, levels=1, RGB=False, dtype=uint8> <valis.slide_io.VipsSlideReader object at 0x7f606361d8b0> False (783, 1024)\n"
     ]
    },
    {
     "name": "stderr",
     "output_type": "stream",
     "text": [
      "Converting images:  67%|██████▋   | 1765/2624 [00:40<00:19, 43.58image/s]"
     ]
    },
    {
     "name": "stdout",
     "output_type": "stream",
     "text": [
      "<Slide, name = 1765>, width=1583, height=1210, channels=1, levels=1, RGB=False, dtype=uint8> <valis.slide_io.VipsSlideReader object at 0x7f606361d9d0> False (783, 1024)\n",
      "<Slide, name = 1766>, width=1583, height=1210, channels=1, levels=1, RGB=False, dtype=uint8> <valis.slide_io.VipsSlideReader object at 0x7f606361ede0> False (783, 1024)\n",
      "<Slide, name = 1767>, width=1583, height=1210, channels=1, levels=1, RGB=False, dtype=uint8> <valis.slide_io.VipsSlideReader object at 0x7f606361c2f0> False (783, 1024)\n",
      "<Slide, name = 1768>, width=1583, height=1210, channels=1, levels=1, RGB=False, dtype=uint8> <valis.slide_io.VipsSlideReader object at 0x7f606361fbc0> False (783, 1024)\n",
      "<Slide, name = 1769>, width=1583, height=1210, channels=1, levels=1, RGB=False, dtype=uint8> <valis.slide_io.VipsSlideReader object at 0x7f606361d670> False (783, 1024)\n"
     ]
    },
    {
     "name": "stderr",
     "output_type": "stream",
     "text": [
      "Converting images:  67%|██████▋   | 1770/2624 [00:40<00:19, 44.15image/s]"
     ]
    },
    {
     "name": "stdout",
     "output_type": "stream",
     "text": [
      "<Slide, name = 1770>, width=1583, height=1210, channels=1, levels=1, RGB=False, dtype=uint8> <valis.slide_io.VipsSlideReader object at 0x7f606361fd70> False (783, 1024)\n",
      "<Slide, name = 1771>, width=1583, height=1210, channels=1, levels=1, RGB=False, dtype=uint8> <valis.slide_io.VipsSlideReader object at 0x7f606361f3e0> False (783, 1024)\n",
      "<Slide, name = 1772>, width=1583, height=1210, channels=1, levels=1, RGB=False, dtype=uint8> <valis.slide_io.VipsSlideReader object at 0x7f606361da30> False (783, 1024)\n",
      "<Slide, name = 1773>, width=1583, height=1210, channels=1, levels=1, RGB=False, dtype=uint8> <valis.slide_io.VipsSlideReader object at 0x7f606361d760> False (783, 1024)\n",
      "<Slide, name = 1774>, width=1583, height=1210, channels=1, levels=1, RGB=False, dtype=uint8> <valis.slide_io.VipsSlideReader object at 0x7f606361f4a0> False (783, 1024)\n"
     ]
    },
    {
     "name": "stderr",
     "output_type": "stream",
     "text": [
      "Converting images:  68%|██████▊   | 1775/2624 [00:40<00:19, 44.41image/s]"
     ]
    },
    {
     "name": "stdout",
     "output_type": "stream",
     "text": [
      "<Slide, name = 1775>, width=1583, height=1210, channels=1, levels=1, RGB=False, dtype=uint8> <valis.slide_io.VipsSlideReader object at 0x7f606361c320> False (783, 1024)\n",
      "<Slide, name = 1776>, width=1583, height=1210, channels=1, levels=1, RGB=False, dtype=uint8> <valis.slide_io.VipsSlideReader object at 0x7f606361f740> False (783, 1024)\n",
      "<Slide, name = 1777>, width=1583, height=1210, channels=1, levels=1, RGB=False, dtype=uint8> <valis.slide_io.VipsSlideReader object at 0x7f606361df10> False (783, 1024)\n",
      "<Slide, name = 1778>, width=1583, height=1210, channels=1, levels=1, RGB=False, dtype=uint8> <valis.slide_io.VipsSlideReader object at 0x7f606361de50> False (783, 1024)\n",
      "<Slide, name = 1779>, width=1583, height=1210, channels=1, levels=1, RGB=False, dtype=uint8> <valis.slide_io.VipsSlideReader object at 0x7f606361c0b0> False (783, 1024)\n"
     ]
    },
    {
     "name": "stderr",
     "output_type": "stream",
     "text": [
      "Converting images:  68%|██████▊   | 1780/2624 [00:40<00:19, 44.13image/s]"
     ]
    },
    {
     "name": "stdout",
     "output_type": "stream",
     "text": [
      "<Slide, name = 1780>, width=1583, height=1210, channels=1, levels=1, RGB=False, dtype=uint8> <valis.slide_io.VipsSlideReader object at 0x7f606361d7f0> False (783, 1024)\n",
      "<Slide, name = 1781>, width=1583, height=1210, channels=1, levels=1, RGB=False, dtype=uint8> <valis.slide_io.VipsSlideReader object at 0x7f606361fa70> False (783, 1024)\n",
      "<Slide, name = 1782>, width=1583, height=1210, channels=1, levels=1, RGB=False, dtype=uint8> <valis.slide_io.VipsSlideReader object at 0x7f606361fad0> False (783, 1024)\n",
      "<Slide, name = 1783>, width=1583, height=1210, channels=1, levels=1, RGB=False, dtype=uint8> <valis.slide_io.VipsSlideReader object at 0x7f606361d1f0> False (783, 1024)\n",
      "<Slide, name = 1784>, width=1583, height=1210, channels=1, levels=1, RGB=False, dtype=uint8> <valis.slide_io.VipsSlideReader object at 0x7f606361f9e0> False (783, 1024)\n"
     ]
    },
    {
     "name": "stderr",
     "output_type": "stream",
     "text": [
      "Converting images:  68%|██████▊   | 1785/2624 [00:40<00:18, 44.38image/s]"
     ]
    },
    {
     "name": "stdout",
     "output_type": "stream",
     "text": [
      "<Slide, name = 1785>, width=1583, height=1210, channels=1, levels=1, RGB=False, dtype=uint8> <valis.slide_io.VipsSlideReader object at 0x7f606361f350> False (783, 1024)\n",
      "<Slide, name = 1786>, width=1583, height=1210, channels=1, levels=1, RGB=False, dtype=uint8> <valis.slide_io.VipsSlideReader object at 0x7f606361f8c0> False (783, 1024)\n",
      "<Slide, name = 1787>, width=1583, height=1210, channels=1, levels=1, RGB=False, dtype=uint8> <valis.slide_io.VipsSlideReader object at 0x7f606361c8f0> False (783, 1024)\n",
      "<Slide, name = 1788>, width=1583, height=1210, channels=1, levels=1, RGB=False, dtype=uint8> <valis.slide_io.VipsSlideReader object at 0x7f606361d1c0> False (783, 1024)\n",
      "<Slide, name = 1789>, width=1583, height=1210, channels=1, levels=1, RGB=False, dtype=uint8> <valis.slide_io.VipsSlideReader object at 0x7f606361dd60> False (783, 1024)\n"
     ]
    },
    {
     "name": "stderr",
     "output_type": "stream",
     "text": [
      "Converting images:  68%|██████▊   | 1790/2624 [00:40<00:18, 44.41image/s]"
     ]
    },
    {
     "name": "stdout",
     "output_type": "stream",
     "text": [
      "<Slide, name = 1790>, width=1583, height=1210, channels=1, levels=1, RGB=False, dtype=uint8> <valis.slide_io.VipsSlideReader object at 0x7f606361cdd0> False (783, 1024)\n",
      "<Slide, name = 1791>, width=1583, height=1210, channels=1, levels=1, RGB=False, dtype=uint8> <valis.slide_io.VipsSlideReader object at 0x7f606361e780> False (783, 1024)\n",
      "<Slide, name = 1792>, width=1583, height=1210, channels=1, levels=1, RGB=False, dtype=uint8> <valis.slide_io.VipsSlideReader object at 0x7f606361d2e0> False (783, 1024)\n",
      "<Slide, name = 1793>, width=1583, height=1210, channels=1, levels=1, RGB=False, dtype=uint8> <valis.slide_io.VipsSlideReader object at 0x7f606361e4e0> False (783, 1024)\n",
      "<Slide, name = 1794>, width=1583, height=1210, channels=1, levels=1, RGB=False, dtype=uint8> <valis.slide_io.VipsSlideReader object at 0x7f606361e870> False (783, 1024)\n"
     ]
    },
    {
     "name": "stderr",
     "output_type": "stream",
     "text": [
      "Converting images:  68%|██████▊   | 1795/2624 [00:40<00:18, 44.21image/s]"
     ]
    },
    {
     "name": "stdout",
     "output_type": "stream",
     "text": [
      "<Slide, name = 1795>, width=1583, height=1210, channels=1, levels=1, RGB=False, dtype=uint8> <valis.slide_io.VipsSlideReader object at 0x7f606361cb30> False (783, 1024)\n",
      "<Slide, name = 1796>, width=1583, height=1210, channels=1, levels=1, RGB=False, dtype=uint8> <valis.slide_io.VipsSlideReader object at 0x7f606361eba0> False (783, 1024)\n",
      "<Slide, name = 1797>, width=1583, height=1210, channels=1, levels=1, RGB=False, dtype=uint8> <valis.slide_io.VipsSlideReader object at 0x7f606361dbb0> False (783, 1024)\n",
      "<Slide, name = 1798>, width=1583, height=1210, channels=1, levels=1, RGB=False, dtype=uint8> <valis.slide_io.VipsSlideReader object at 0x7f606361db50> False (783, 1024)\n",
      "<Slide, name = 1799>, width=1583, height=1210, channels=1, levels=1, RGB=False, dtype=uint8> <valis.slide_io.VipsSlideReader object at 0x7f606361edb0> False (783, 1024)\n"
     ]
    },
    {
     "name": "stderr",
     "output_type": "stream",
     "text": [
      "Converting images:  69%|██████▊   | 1800/2624 [00:41<00:18, 43.96image/s]"
     ]
    },
    {
     "name": "stdout",
     "output_type": "stream",
     "text": [
      "<Slide, name = 1800>, width=1583, height=1210, channels=1, levels=1, RGB=False, dtype=uint8> <valis.slide_io.VipsSlideReader object at 0x7f606361d4f0> False (783, 1024)\n",
      "<Slide, name = 1801>, width=1583, height=1210, channels=1, levels=1, RGB=False, dtype=uint8> <valis.slide_io.VipsSlideReader object at 0x7f606361c080> False (783, 1024)\n",
      "<Slide, name = 1802>, width=1583, height=1210, channels=1, levels=1, RGB=False, dtype=uint8> <valis.slide_io.VipsSlideReader object at 0x7f606361c590> False (783, 1024)\n",
      "<Slide, name = 1803>, width=1583, height=1210, channels=1, levels=1, RGB=False, dtype=uint8> <valis.slide_io.VipsSlideReader object at 0x7f606361e1e0> False (783, 1024)\n",
      "<Slide, name = 1804>, width=1583, height=1210, channels=1, levels=1, RGB=False, dtype=uint8> <valis.slide_io.VipsSlideReader object at 0x7f606361ecc0> False (783, 1024)\n"
     ]
    },
    {
     "name": "stderr",
     "output_type": "stream",
     "text": [
      "Converting images:  69%|██████▉   | 1805/2624 [00:41<00:19, 43.02image/s]"
     ]
    },
    {
     "name": "stdout",
     "output_type": "stream",
     "text": [
      "<Slide, name = 1805>, width=1583, height=1210, channels=1, levels=1, RGB=False, dtype=uint8> <valis.slide_io.VipsSlideReader object at 0x7f606361dc10> False (783, 1024)\n",
      "<Slide, name = 1806>, width=1583, height=1210, channels=1, levels=1, RGB=False, dtype=uint8> <valis.slide_io.VipsSlideReader object at 0x7f606361e5a0> False (783, 1024)\n",
      "<Slide, name = 1807>, width=1583, height=1210, channels=1, levels=1, RGB=False, dtype=uint8> <valis.slide_io.VipsSlideReader object at 0x7f606361dd90> False (783, 1024)\n",
      "<Slide, name = 1808>, width=1583, height=1210, channels=1, levels=1, RGB=False, dtype=uint8> <valis.slide_io.VipsSlideReader object at 0x7f606361f470> False (783, 1024)\n",
      "<Slide, name = 1809>, width=1583, height=1210, channels=1, levels=1, RGB=False, dtype=uint8> <valis.slide_io.VipsSlideReader object at 0x7f606361f920> False (783, 1024)\n"
     ]
    },
    {
     "name": "stderr",
     "output_type": "stream",
     "text": [
      "Converting images:  69%|██████▉   | 1810/2624 [00:41<00:19, 41.69image/s]"
     ]
    },
    {
     "name": "stdout",
     "output_type": "stream",
     "text": [
      "<Slide, name = 1810>, width=1583, height=1210, channels=1, levels=1, RGB=False, dtype=uint8> <valis.slide_io.VipsSlideReader object at 0x7f606361ea80> False (783, 1024)\n",
      "<Slide, name = 1811>, width=1583, height=1210, channels=1, levels=1, RGB=False, dtype=uint8> <valis.slide_io.VipsSlideReader object at 0x7f606361eb40> False (783, 1024)\n",
      "<Slide, name = 1812>, width=1583, height=1210, channels=1, levels=1, RGB=False, dtype=uint8> <valis.slide_io.VipsSlideReader object at 0x7f606384fd40> False (783, 1024)\n",
      "<Slide, name = 1813>, width=1583, height=1210, channels=1, levels=1, RGB=False, dtype=uint8> <valis.slide_io.VipsSlideReader object at 0x7f606384f500> False (783, 1024)\n",
      "<Slide, name = 1814>, width=1583, height=1210, channels=1, levels=1, RGB=False, dtype=uint8> <valis.slide_io.VipsSlideReader object at 0x7f606384d580> False (783, 1024)\n"
     ]
    },
    {
     "name": "stderr",
     "output_type": "stream",
     "text": [
      "Converting images:  69%|██████▉   | 1815/2624 [00:41<00:20, 40.16image/s]"
     ]
    },
    {
     "name": "stdout",
     "output_type": "stream",
     "text": [
      "<Slide, name = 1815>, width=1583, height=1210, channels=1, levels=1, RGB=False, dtype=uint8> <valis.slide_io.VipsSlideReader object at 0x7f606384c260> False (783, 1024)\n",
      "<Slide, name = 1816>, width=1583, height=1210, channels=1, levels=1, RGB=False, dtype=uint8> <valis.slide_io.VipsSlideReader object at 0x7f606384ea20> False (783, 1024)\n",
      "<Slide, name = 1817>, width=1583, height=1210, channels=1, levels=1, RGB=False, dtype=uint8> <valis.slide_io.VipsSlideReader object at 0x7f606384d9d0> False (783, 1024)\n",
      "<Slide, name = 1818>, width=1583, height=1210, channels=1, levels=1, RGB=False, dtype=uint8> <valis.slide_io.VipsSlideReader object at 0x7f606384c9e0> False (783, 1024)\n",
      "<Slide, name = 1819>, width=1583, height=1210, channels=1, levels=1, RGB=False, dtype=uint8> <valis.slide_io.VipsSlideReader object at 0x7f606384f2f0> False (783, 1024)\n"
     ]
    },
    {
     "name": "stderr",
     "output_type": "stream",
     "text": [
      "Converting images:  69%|██████▉   | 1820/2624 [00:41<00:20, 39.45image/s]"
     ]
    },
    {
     "name": "stdout",
     "output_type": "stream",
     "text": [
      "<Slide, name = 1820>, width=1583, height=1210, channels=1, levels=1, RGB=False, dtype=uint8> <valis.slide_io.VipsSlideReader object at 0x7f606384fe00> False (783, 1024)\n",
      "<Slide, name = 1821>, width=1583, height=1210, channels=1, levels=1, RGB=False, dtype=uint8> <valis.slide_io.VipsSlideReader object at 0x7f606384cc50> False (783, 1024)\n",
      "<Slide, name = 1822>, width=1583, height=1210, channels=1, levels=1, RGB=False, dtype=uint8> <valis.slide_io.VipsSlideReader object at 0x7f606384d670> False (783, 1024)\n",
      "<Slide, name = 1823>, width=1583, height=1210, channels=1, levels=1, RGB=False, dtype=uint8> <valis.slide_io.VipsSlideReader object at 0x7f606384d7f0> False (783, 1024)\n"
     ]
    },
    {
     "name": "stderr",
     "output_type": "stream",
     "text": [
      "Converting images:  70%|██████▉   | 1824/2624 [00:41<00:20, 39.11image/s]"
     ]
    },
    {
     "name": "stdout",
     "output_type": "stream",
     "text": [
      "<Slide, name = 1824>, width=1583, height=1210, channels=1, levels=1, RGB=False, dtype=uint8> <valis.slide_io.VipsSlideReader object at 0x7f606384f440> False (783, 1024)\n",
      "<Slide, name = 1825>, width=1583, height=1210, channels=1, levels=1, RGB=False, dtype=uint8> <valis.slide_io.VipsSlideReader object at 0x7f606384e1e0> False (783, 1024)\n",
      "<Slide, name = 1826>, width=1583, height=1210, channels=1, levels=1, RGB=False, dtype=uint8> <valis.slide_io.VipsSlideReader object at 0x7f606384d100> False (783, 1024)\n",
      "<Slide, name = 1827>, width=1583, height=1210, channels=1, levels=1, RGB=False, dtype=uint8> <valis.slide_io.VipsSlideReader object at 0x7f606384f920> False (783, 1024)\n"
     ]
    },
    {
     "name": "stderr",
     "output_type": "stream",
     "text": [
      "Converting images:  70%|██████▉   | 1828/2624 [00:41<00:20, 39.16image/s]"
     ]
    },
    {
     "name": "stdout",
     "output_type": "stream",
     "text": [
      "<Slide, name = 1828>, width=1583, height=1210, channels=1, levels=1, RGB=False, dtype=uint8> <valis.slide_io.VipsSlideReader object at 0x7f606384cb90> False (783, 1024)\n",
      "<Slide, name = 1829>, width=1583, height=1210, channels=1, levels=1, RGB=False, dtype=uint8> <valis.slide_io.VipsSlideReader object at 0x7f606384de20> False (783, 1024)\n",
      "<Slide, name = 1830>, width=1583, height=1210, channels=1, levels=1, RGB=False, dtype=uint8> <valis.slide_io.VipsSlideReader object at 0x7f606384cf50> False (783, 1024)\n",
      "<Slide, name = 1831>, width=1583, height=1210, channels=1, levels=1, RGB=False, dtype=uint8> <valis.slide_io.VipsSlideReader object at 0x7f606384ecc0> False (783, 1024)\n"
     ]
    },
    {
     "name": "stderr",
     "output_type": "stream",
     "text": [
      "Converting images:  70%|██████▉   | 1832/2624 [00:41<00:20, 39.31image/s]"
     ]
    },
    {
     "name": "stdout",
     "output_type": "stream",
     "text": [
      "<Slide, name = 1832>, width=1583, height=1210, channels=1, levels=1, RGB=False, dtype=uint8> <valis.slide_io.VipsSlideReader object at 0x7f606384ef90> False (783, 1024)\n",
      "<Slide, name = 1833>, width=1583, height=1210, channels=1, levels=1, RGB=False, dtype=uint8> <valis.slide_io.VipsSlideReader object at 0x7f606384fb60> False (783, 1024)\n",
      "<Slide, name = 1834>, width=1583, height=1210, channels=1, levels=1, RGB=False, dtype=uint8> <valis.slide_io.VipsSlideReader object at 0x7f606384c110> False (783, 1024)\n",
      "<Slide, name = 1835>, width=1583, height=1210, channels=1, levels=1, RGB=False, dtype=uint8> <valis.slide_io.VipsSlideReader object at 0x7f606384c680> False (783, 1024)\n",
      "<Slide, name = 1836>, width=1583, height=1210, channels=1, levels=1, RGB=False, dtype=uint8> <valis.slide_io.VipsSlideReader object at 0x7f606384d3a0> False (783, 1024)\n"
     ]
    },
    {
     "name": "stderr",
     "output_type": "stream",
     "text": [
      "Converting images:  70%|███████   | 1837/2624 [00:42<00:19, 39.38image/s]"
     ]
    },
    {
     "name": "stdout",
     "output_type": "stream",
     "text": [
      "<Slide, name = 1837>, width=1583, height=1210, channels=1, levels=1, RGB=False, dtype=uint8> <valis.slide_io.VipsSlideReader object at 0x7f606384e180> False (783, 1024)\n",
      "<Slide, name = 1838>, width=1583, height=1210, channels=1, levels=1, RGB=False, dtype=uint8> <valis.slide_io.VipsSlideReader object at 0x7f606384e990> False (783, 1024)\n",
      "<Slide, name = 1839>, width=1583, height=1210, channels=1, levels=1, RGB=False, dtype=uint8> <valis.slide_io.VipsSlideReader object at 0x7f606384e870> False (783, 1024)\n",
      "<Slide, name = 1840>, width=1583, height=1210, channels=1, levels=1, RGB=False, dtype=uint8> <valis.slide_io.VipsSlideReader object at 0x7f606384c3b0> False (783, 1024)\n"
     ]
    },
    {
     "name": "stderr",
     "output_type": "stream",
     "text": [
      "Converting images:  70%|███████   | 1841/2624 [00:42<00:19, 39.30image/s]"
     ]
    },
    {
     "name": "stdout",
     "output_type": "stream",
     "text": [
      "<Slide, name = 1841>, width=1583, height=1210, channels=1, levels=1, RGB=False, dtype=uint8> <valis.slide_io.VipsSlideReader object at 0x7f606384ee40> False (783, 1024)\n",
      "<Slide, name = 1842>, width=1583, height=1210, channels=1, levels=1, RGB=False, dtype=uint8> <valis.slide_io.VipsSlideReader object at 0x7f606384f5c0> False (783, 1024)\n",
      "<Slide, name = 1843>, width=1583, height=1210, channels=1, levels=1, RGB=False, dtype=uint8> <valis.slide_io.VipsSlideReader object at 0x7f606384eff0> False (783, 1024)\n",
      "<Slide, name = 1844>, width=1583, height=1210, channels=1, levels=1, RGB=False, dtype=uint8> <valis.slide_io.VipsSlideReader object at 0x7f606384efc0> False (783, 1024)\n",
      "<Slide, name = 1845>, width=1583, height=1210, channels=1, levels=1, RGB=False, dtype=uint8> <valis.slide_io.VipsSlideReader object at 0x7f606384e690> False (783, 1024)\n"
     ]
    },
    {
     "name": "stderr",
     "output_type": "stream",
     "text": [
      "Converting images:  70%|███████   | 1846/2624 [00:42<00:19, 39.57image/s]"
     ]
    },
    {
     "name": "stdout",
     "output_type": "stream",
     "text": [
      "<Slide, name = 1846>, width=1583, height=1210, channels=1, levels=1, RGB=False, dtype=uint8> <valis.slide_io.VipsSlideReader object at 0x7f606384d010> False (783, 1024)\n",
      "<Slide, name = 1847>, width=1583, height=1210, channels=1, levels=1, RGB=False, dtype=uint8> <valis.slide_io.VipsSlideReader object at 0x7f606384ff50> False (783, 1024)\n",
      "<Slide, name = 1848>, width=1583, height=1210, channels=1, levels=1, RGB=False, dtype=uint8> <valis.slide_io.VipsSlideReader object at 0x7f606384cc20> False (783, 1024)\n",
      "<Slide, name = 1849>, width=1583, height=1210, channels=1, levels=1, RGB=False, dtype=uint8> <valis.slide_io.VipsSlideReader object at 0x7f606384e120> False (783, 1024)\n"
     ]
    },
    {
     "name": "stderr",
     "output_type": "stream",
     "text": [
      "Converting images:  71%|███████   | 1850/2624 [00:42<00:19, 38.95image/s]"
     ]
    },
    {
     "name": "stdout",
     "output_type": "stream",
     "text": [
      "<Slide, name = 1850>, width=1583, height=1210, channels=1, levels=1, RGB=False, dtype=uint8> <valis.slide_io.VipsSlideReader object at 0x7f606384e8a0> False (783, 1024)\n",
      "<Slide, name = 1851>, width=1583, height=1210, channels=1, levels=1, RGB=False, dtype=uint8> <valis.slide_io.VipsSlideReader object at 0x7f606384de50> False (783, 1024)\n",
      "<Slide, name = 1852>, width=1583, height=1210, channels=1, levels=1, RGB=False, dtype=uint8> <valis.slide_io.VipsSlideReader object at 0x7f606384f410> False (783, 1024)\n",
      "<Slide, name = 1853>, width=1583, height=1210, channels=1, levels=1, RGB=False, dtype=uint8> <valis.slide_io.VipsSlideReader object at 0x7f606384da30> False (783, 1024)\n",
      "<Slide, name = 1854>, width=1583, height=1210, channels=1, levels=1, RGB=False, dtype=uint8> <valis.slide_io.VipsSlideReader object at 0x7f606384c4d0> False (783, 1024)\n"
     ]
    },
    {
     "name": "stderr",
     "output_type": "stream",
     "text": [
      "Converting images:  71%|███████   | 1855/2624 [00:42<00:19, 39.97image/s]"
     ]
    },
    {
     "name": "stdout",
     "output_type": "stream",
     "text": [
      "<Slide, name = 1855>, width=1583, height=1210, channels=1, levels=1, RGB=False, dtype=uint8> <valis.slide_io.VipsSlideReader object at 0x7f606384c740> False (783, 1024)\n",
      "<Slide, name = 1856>, width=1583, height=1210, channels=1, levels=1, RGB=False, dtype=uint8> <valis.slide_io.VipsSlideReader object at 0x7f606384f8c0> False (783, 1024)\n",
      "<Slide, name = 1857>, width=1583, height=1210, channels=1, levels=1, RGB=False, dtype=uint8> <valis.slide_io.VipsSlideReader object at 0x7f606384c710> False (783, 1024)\n",
      "<Slide, name = 1858>, width=1583, height=1210, channels=1, levels=1, RGB=False, dtype=uint8> <valis.slide_io.VipsSlideReader object at 0x7f606384eea0> False (783, 1024)\n",
      "<Slide, name = 1859>, width=1583, height=1210, channels=1, levels=1, RGB=False, dtype=uint8> <valis.slide_io.VipsSlideReader object at 0x7f606384d130> False (783, 1024)\n"
     ]
    },
    {
     "name": "stderr",
     "output_type": "stream",
     "text": [
      "Converting images:  71%|███████   | 1860/2624 [00:42<00:18, 41.49image/s]"
     ]
    },
    {
     "name": "stdout",
     "output_type": "stream",
     "text": [
      "<Slide, name = 1860>, width=1583, height=1210, channels=1, levels=1, RGB=False, dtype=uint8> <valis.slide_io.VipsSlideReader object at 0x7f606384fad0> False (783, 1024)\n",
      "<Slide, name = 1861>, width=1583, height=1210, channels=1, levels=1, RGB=False, dtype=uint8> <valis.slide_io.VipsSlideReader object at 0x7f606384e240> False (783, 1024)\n",
      "<Slide, name = 1862>, width=1583, height=1210, channels=1, levels=1, RGB=False, dtype=uint8> <valis.slide_io.VipsSlideReader object at 0x7f606384fc50> False (783, 1024)\n",
      "<Slide, name = 1863>, width=1583, height=1210, channels=1, levels=1, RGB=False, dtype=uint8> <valis.slide_io.VipsSlideReader object at 0x7f606384eb40> False (783, 1024)\n",
      "<Slide, name = 1864>, width=1583, height=1210, channels=1, levels=1, RGB=False, dtype=uint8> <valis.slide_io.VipsSlideReader object at 0x7f606384e540> False (783, 1024)\n"
     ]
    },
    {
     "name": "stderr",
     "output_type": "stream",
     "text": [
      "Converting images:  71%|███████   | 1865/2624 [00:42<00:17, 42.30image/s]"
     ]
    },
    {
     "name": "stdout",
     "output_type": "stream",
     "text": [
      "<Slide, name = 1865>, width=1583, height=1210, channels=1, levels=1, RGB=False, dtype=uint8> <valis.slide_io.VipsSlideReader object at 0x7f606384cbf0> False (783, 1024)\n",
      "<Slide, name = 1866>, width=1583, height=1210, channels=1, levels=1, RGB=False, dtype=uint8> <valis.slide_io.VipsSlideReader object at 0x7f606384ed50> False (783, 1024)\n",
      "<Slide, name = 1867>, width=1583, height=1210, channels=1, levels=1, RGB=False, dtype=uint8> <valis.slide_io.VipsSlideReader object at 0x7f606384cd70> False (783, 1024)\n",
      "<Slide, name = 1868>, width=1583, height=1210, channels=1, levels=1, RGB=False, dtype=uint8> <valis.slide_io.VipsSlideReader object at 0x7f606384eab0> False (783, 1024)\n",
      "<Slide, name = 1869>, width=1583, height=1210, channels=1, levels=1, RGB=False, dtype=uint8> <valis.slide_io.VipsSlideReader object at 0x7f606384caa0> False (783, 1024)\n"
     ]
    },
    {
     "name": "stderr",
     "output_type": "stream",
     "text": [
      "Converting images:  71%|███████▏  | 1870/2624 [00:42<00:17, 43.23image/s]"
     ]
    },
    {
     "name": "stdout",
     "output_type": "stream",
     "text": [
      "<Slide, name = 1870>, width=1583, height=1210, channels=1, levels=1, RGB=False, dtype=uint8> <valis.slide_io.VipsSlideReader object at 0x7f606384fb00> False (783, 1024)\n",
      "<Slide, name = 1871>, width=1583, height=1210, channels=1, levels=1, RGB=False, dtype=uint8> <valis.slide_io.VipsSlideReader object at 0x7f606384f320> False (783, 1024)\n",
      "<Slide, name = 1872>, width=1583, height=1210, channels=1, levels=1, RGB=False, dtype=uint8> <valis.slide_io.VipsSlideReader object at 0x7f606384c8f0> False (783, 1024)\n",
      "<Slide, name = 1873>, width=1583, height=1210, channels=1, levels=1, RGB=False, dtype=uint8> <valis.slide_io.VipsSlideReader object at 0x7f606384f0b0> False (783, 1024)\n",
      "<Slide, name = 1874>, width=1583, height=1210, channels=1, levels=1, RGB=False, dtype=uint8> <valis.slide_io.VipsSlideReader object at 0x7f606384ede0> False (783, 1024)\n"
     ]
    },
    {
     "name": "stderr",
     "output_type": "stream",
     "text": [
      "Converting images:  71%|███████▏  | 1875/2624 [00:42<00:17, 43.85image/s]"
     ]
    },
    {
     "name": "stdout",
     "output_type": "stream",
     "text": [
      "<Slide, name = 1875>, width=1583, height=1210, channels=1, levels=1, RGB=False, dtype=uint8> <valis.slide_io.VipsSlideReader object at 0x7f606384cb00> False (783, 1024)\n",
      "<Slide, name = 1876>, width=1583, height=1210, channels=1, levels=1, RGB=False, dtype=uint8> <valis.slide_io.VipsSlideReader object at 0x7f606384e4e0> False (783, 1024)\n",
      "<Slide, name = 1877>, width=1583, height=1210, channels=1, levels=1, RGB=False, dtype=uint8> <valis.slide_io.VipsSlideReader object at 0x7f606384ffb0> False (783, 1024)\n",
      "<Slide, name = 1878>, width=1583, height=1210, channels=1, levels=1, RGB=False, dtype=uint8> <valis.slide_io.VipsSlideReader object at 0x7f606384dbe0> False (783, 1024)\n",
      "<Slide, name = 1879>, width=1583, height=1210, channels=1, levels=1, RGB=False, dtype=uint8> <valis.slide_io.VipsSlideReader object at 0x7f60637d63c0> False (783, 1024)\n"
     ]
    },
    {
     "name": "stderr",
     "output_type": "stream",
     "text": [
      "Converting images:  72%|███████▏  | 1880/2624 [00:43<00:16, 44.48image/s]"
     ]
    },
    {
     "name": "stdout",
     "output_type": "stream",
     "text": [
      "<Slide, name = 1880>, width=1583, height=1210, channels=1, levels=1, RGB=False, dtype=uint8> <valis.slide_io.VipsSlideReader object at 0x7f606362acf0> False (783, 1024)\n",
      "<Slide, name = 1881>, width=1583, height=1210, channels=1, levels=1, RGB=False, dtype=uint8> <valis.slide_io.VipsSlideReader object at 0x7f6063628a70> False (783, 1024)\n",
      "<Slide, name = 1882>, width=1583, height=1210, channels=1, levels=1, RGB=False, dtype=uint8> <valis.slide_io.VipsSlideReader object at 0x7f606362a480> False (783, 1024)\n",
      "<Slide, name = 1883>, width=1583, height=1210, channels=1, levels=1, RGB=False, dtype=uint8> <valis.slide_io.VipsSlideReader object at 0x7f606362a840> False (783, 1024)\n",
      "<Slide, name = 1884>, width=1583, height=1210, channels=1, levels=1, RGB=False, dtype=uint8> <valis.slide_io.VipsSlideReader object at 0x7f606362a780> False (783, 1024)\n"
     ]
    },
    {
     "name": "stderr",
     "output_type": "stream",
     "text": [
      "Converting images:  72%|███████▏  | 1885/2624 [00:43<00:16, 44.71image/s]"
     ]
    },
    {
     "name": "stdout",
     "output_type": "stream",
     "text": [
      "<Slide, name = 1885>, width=1583, height=1210, channels=1, levels=1, RGB=False, dtype=uint8> <valis.slide_io.VipsSlideReader object at 0x7f6063628d10> False (783, 1024)\n",
      "<Slide, name = 1886>, width=1583, height=1210, channels=1, levels=1, RGB=False, dtype=uint8> <valis.slide_io.VipsSlideReader object at 0x7f6063629b80> False (783, 1024)\n",
      "<Slide, name = 1887>, width=1583, height=1210, channels=1, levels=1, RGB=False, dtype=uint8> <valis.slide_io.VipsSlideReader object at 0x7f6063628a40> False (783, 1024)\n",
      "<Slide, name = 1888>, width=1583, height=1210, channels=1, levels=1, RGB=False, dtype=uint8> <valis.slide_io.VipsSlideReader object at 0x7f6063629610> False (783, 1024)\n",
      "<Slide, name = 1889>, width=1583, height=1210, channels=1, levels=1, RGB=False, dtype=uint8> <valis.slide_io.VipsSlideReader object at 0x7f6063629430> False (783, 1024)\n"
     ]
    },
    {
     "name": "stderr",
     "output_type": "stream",
     "text": [
      "Converting images:  72%|███████▏  | 1890/2624 [00:43<00:16, 44.56image/s]"
     ]
    },
    {
     "name": "stdout",
     "output_type": "stream",
     "text": [
      "<Slide, name = 1890>, width=1583, height=1210, channels=1, levels=1, RGB=False, dtype=uint8> <valis.slide_io.VipsSlideReader object at 0x7f60636280b0> False (783, 1024)\n",
      "<Slide, name = 1891>, width=1583, height=1210, channels=1, levels=1, RGB=False, dtype=uint8> <valis.slide_io.VipsSlideReader object at 0x7f606362bfe0> False (783, 1024)\n",
      "<Slide, name = 1892>, width=1583, height=1210, channels=1, levels=1, RGB=False, dtype=uint8> <valis.slide_io.VipsSlideReader object at 0x7f606362a000> False (783, 1024)\n",
      "<Slide, name = 1893>, width=1583, height=1210, channels=1, levels=1, RGB=False, dtype=uint8> <valis.slide_io.VipsSlideReader object at 0x7f6063628740> False (783, 1024)\n",
      "<Slide, name = 1894>, width=1583, height=1210, channels=1, levels=1, RGB=False, dtype=uint8> <valis.slide_io.VipsSlideReader object at 0x7f6063628980> False (783, 1024)\n"
     ]
    },
    {
     "name": "stderr",
     "output_type": "stream",
     "text": [
      "Converting images:  72%|███████▏  | 1895/2624 [00:43<00:16, 44.39image/s]"
     ]
    },
    {
     "name": "stdout",
     "output_type": "stream",
     "text": [
      "<Slide, name = 1895>, width=1583, height=1210, channels=1, levels=1, RGB=False, dtype=uint8> <valis.slide_io.VipsSlideReader object at 0x7f6063629940> False (783, 1024)\n",
      "<Slide, name = 1896>, width=1583, height=1210, channels=1, levels=1, RGB=False, dtype=uint8> <valis.slide_io.VipsSlideReader object at 0x7f606362be30> False (783, 1024)\n",
      "<Slide, name = 1897>, width=1583, height=1210, channels=1, levels=1, RGB=False, dtype=uint8> <valis.slide_io.VipsSlideReader object at 0x7f606362b3b0> False (783, 1024)\n",
      "<Slide, name = 1898>, width=1583, height=1210, channels=1, levels=1, RGB=False, dtype=uint8> <valis.slide_io.VipsSlideReader object at 0x7f6063629a00> False (783, 1024)\n",
      "<Slide, name = 1899>, width=1583, height=1210, channels=1, levels=1, RGB=False, dtype=uint8> <valis.slide_io.VipsSlideReader object at 0x7f606362b350> False (783, 1024)\n"
     ]
    },
    {
     "name": "stderr",
     "output_type": "stream",
     "text": [
      "Converting images:  72%|███████▏  | 1900/2624 [00:43<00:16, 44.57image/s]"
     ]
    },
    {
     "name": "stdout",
     "output_type": "stream",
     "text": [
      "<Slide, name = 1900>, width=1583, height=1210, channels=1, levels=1, RGB=False, dtype=uint8> <valis.slide_io.VipsSlideReader object at 0x7f606362a5d0> False (783, 1024)\n",
      "<Slide, name = 1901>, width=1583, height=1210, channels=1, levels=1, RGB=False, dtype=uint8> <valis.slide_io.VipsSlideReader object at 0x7f606362b800> False (783, 1024)\n",
      "<Slide, name = 1902>, width=1583, height=1210, channels=1, levels=1, RGB=False, dtype=uint8> <valis.slide_io.VipsSlideReader object at 0x7f606362a9f0> False (783, 1024)\n",
      "<Slide, name = 1903>, width=1583, height=1210, channels=1, levels=1, RGB=False, dtype=uint8> <valis.slide_io.VipsSlideReader object at 0x7f6063628230> False (783, 1024)\n",
      "<Slide, name = 1904>, width=1583, height=1210, channels=1, levels=1, RGB=False, dtype=uint8> <valis.slide_io.VipsSlideReader object at 0x7f606362ae70> False (783, 1024)\n"
     ]
    },
    {
     "name": "stderr",
     "output_type": "stream",
     "text": [
      "Converting images:  73%|███████▎  | 1905/2624 [00:43<00:16, 44.08image/s]"
     ]
    },
    {
     "name": "stdout",
     "output_type": "stream",
     "text": [
      "<Slide, name = 1905>, width=1583, height=1210, channels=1, levels=1, RGB=False, dtype=uint8> <valis.slide_io.VipsSlideReader object at 0x7f6063629df0> False (783, 1024)\n",
      "<Slide, name = 1906>, width=1583, height=1210, channels=1, levels=1, RGB=False, dtype=uint8> <valis.slide_io.VipsSlideReader object at 0x7f606362a7e0> False (783, 1024)\n",
      "<Slide, name = 1907>, width=1583, height=1210, channels=1, levels=1, RGB=False, dtype=uint8> <valis.slide_io.VipsSlideReader object at 0x7f6063628b00> False (783, 1024)\n",
      "<Slide, name = 1908>, width=1583, height=1210, channels=1, levels=1, RGB=False, dtype=uint8> <valis.slide_io.VipsSlideReader object at 0x7f606362a750> False (783, 1024)\n",
      "<Slide, name = 1909>, width=1583, height=1210, channels=1, levels=1, RGB=False, dtype=uint8> <valis.slide_io.VipsSlideReader object at 0x7f6063628200> False (783, 1024)\n"
     ]
    },
    {
     "name": "stderr",
     "output_type": "stream",
     "text": [
      "Converting images:  73%|███████▎  | 1910/2624 [00:43<00:16, 43.15image/s]"
     ]
    },
    {
     "name": "stdout",
     "output_type": "stream",
     "text": [
      "<Slide, name = 1910>, width=1583, height=1210, channels=1, levels=1, RGB=False, dtype=uint8> <valis.slide_io.VipsSlideReader object at 0x7f606362ad80> False (783, 1024)\n",
      "<Slide, name = 1911>, width=1583, height=1210, channels=1, levels=1, RGB=False, dtype=uint8> <valis.slide_io.VipsSlideReader object at 0x7f6063628ef0> False (783, 1024)\n",
      "<Slide, name = 1912>, width=1583, height=1210, channels=1, levels=1, RGB=False, dtype=uint8> <valis.slide_io.VipsSlideReader object at 0x7f6063628890> False (783, 1024)\n",
      "<Slide, name = 1913>, width=1583, height=1210, channels=1, levels=1, RGB=False, dtype=uint8> <valis.slide_io.VipsSlideReader object at 0x7f606362b560> False (783, 1024)\n",
      "<Slide, name = 1914>, width=1583, height=1210, channels=1, levels=1, RGB=False, dtype=uint8> <valis.slide_io.VipsSlideReader object at 0x7f606362aff0> False (783, 1024)\n"
     ]
    },
    {
     "name": "stderr",
     "output_type": "stream",
     "text": [
      "Converting images:  73%|███████▎  | 1915/2624 [00:43<00:16, 42.76image/s]"
     ]
    },
    {
     "name": "stdout",
     "output_type": "stream",
     "text": [
      "<Slide, name = 1915>, width=1583, height=1210, channels=1, levels=1, RGB=False, dtype=uint8> <valis.slide_io.VipsSlideReader object at 0x7f6063628170> False (783, 1024)\n",
      "<Slide, name = 1916>, width=1583, height=1210, channels=1, levels=1, RGB=False, dtype=uint8> <valis.slide_io.VipsSlideReader object at 0x7f606362b1a0> False (783, 1024)\n",
      "<Slide, name = 1917>, width=1583, height=1210, channels=1, levels=1, RGB=False, dtype=uint8> <valis.slide_io.VipsSlideReader object at 0x7f60636295b0> False (783, 1024)\n",
      "<Slide, name = 1918>, width=1583, height=1210, channels=1, levels=1, RGB=False, dtype=uint8> <valis.slide_io.VipsSlideReader object at 0x7f60636286b0> False (783, 1024)\n",
      "<Slide, name = 1919>, width=1583, height=1210, channels=1, levels=1, RGB=False, dtype=uint8> <valis.slide_io.VipsSlideReader object at 0x7f606362af90> False (783, 1024)\n"
     ]
    },
    {
     "name": "stderr",
     "output_type": "stream",
     "text": [
      "Converting images:  73%|███████▎  | 1920/2624 [00:43<00:17, 41.40image/s]"
     ]
    },
    {
     "name": "stdout",
     "output_type": "stream",
     "text": [
      "<Slide, name = 1920>, width=1583, height=1210, channels=1, levels=1, RGB=False, dtype=uint8> <valis.slide_io.VipsSlideReader object at 0x7f6063628260> False (783, 1024)\n",
      "<Slide, name = 1921>, width=1583, height=1210, channels=1, levels=1, RGB=False, dtype=uint8> <valis.slide_io.VipsSlideReader object at 0x7f6063629460> False (783, 1024)\n",
      "<Slide, name = 1922>, width=1583, height=1210, channels=1, levels=1, RGB=False, dtype=uint8> <valis.slide_io.VipsSlideReader object at 0x7f606362b1d0> False (783, 1024)\n",
      "<Slide, name = 1923>, width=1583, height=1210, channels=1, levels=1, RGB=False, dtype=uint8> <valis.slide_io.VipsSlideReader object at 0x7f60636291f0> False (783, 1024)\n",
      "<Slide, name = 1924>, width=1583, height=1210, channels=1, levels=1, RGB=False, dtype=uint8> <valis.slide_io.VipsSlideReader object at 0x7f606362b9b0> False (783, 1024)\n"
     ]
    },
    {
     "name": "stderr",
     "output_type": "stream",
     "text": [
      "Converting images:  73%|███████▎  | 1925/2624 [00:44<00:17, 40.21image/s]"
     ]
    },
    {
     "name": "stdout",
     "output_type": "stream",
     "text": [
      "<Slide, name = 1925>, width=1583, height=1210, channels=1, levels=1, RGB=False, dtype=uint8> <valis.slide_io.VipsSlideReader object at 0x7f6063628da0> False (783, 1024)\n",
      "<Slide, name = 1926>, width=1583, height=1210, channels=1, levels=1, RGB=False, dtype=uint8> <valis.slide_io.VipsSlideReader object at 0x7f6063629a60> False (783, 1024)\n",
      "<Slide, name = 1927>, width=1583, height=1210, channels=1, levels=1, RGB=False, dtype=uint8> <valis.slide_io.VipsSlideReader object at 0x7f606362b950> False (783, 1024)\n",
      "<Slide, name = 1928>, width=1583, height=1210, channels=1, levels=1, RGB=False, dtype=uint8> <valis.slide_io.VipsSlideReader object at 0x7f6063629d90> False (783, 1024)\n",
      "<Slide, name = 1929>, width=1583, height=1210, channels=1, levels=1, RGB=False, dtype=uint8> <valis.slide_io.VipsSlideReader object at 0x7f6063628ad0> False (783, 1024)\n"
     ]
    },
    {
     "name": "stderr",
     "output_type": "stream",
     "text": [
      "Converting images:  74%|███████▎  | 1930/2624 [00:44<00:17, 40.60image/s]"
     ]
    },
    {
     "name": "stdout",
     "output_type": "stream",
     "text": [
      "<Slide, name = 1930>, width=1583, height=1210, channels=1, levels=1, RGB=False, dtype=uint8> <valis.slide_io.VipsSlideReader object at 0x7f606362a210> False (783, 1024)\n",
      "<Slide, name = 1931>, width=1583, height=1210, channels=1, levels=1, RGB=False, dtype=uint8> <valis.slide_io.VipsSlideReader object at 0x7f606362b500> False (783, 1024)\n",
      "<Slide, name = 1932>, width=1583, height=1210, channels=1, levels=1, RGB=False, dtype=uint8> <valis.slide_io.VipsSlideReader object at 0x7f606362ae10> False (783, 1024)\n",
      "<Slide, name = 1933>, width=1583, height=1210, channels=1, levels=1, RGB=False, dtype=uint8> <valis.slide_io.VipsSlideReader object at 0x7f60636295e0> False (783, 1024)\n",
      "<Slide, name = 1934>, width=1583, height=1210, channels=1, levels=1, RGB=False, dtype=uint8> <valis.slide_io.VipsSlideReader object at 0x7f60636287a0> False (783, 1024)\n"
     ]
    },
    {
     "name": "stderr",
     "output_type": "stream",
     "text": [
      "Converting images:  74%|███████▎  | 1935/2624 [00:44<00:16, 40.75image/s]"
     ]
    },
    {
     "name": "stdout",
     "output_type": "stream",
     "text": [
      "<Slide, name = 1935>, width=1583, height=1210, channels=1, levels=1, RGB=False, dtype=uint8> <valis.slide_io.VipsSlideReader object at 0x7f606362a990> False (783, 1024)\n",
      "<Slide, name = 1936>, width=1583, height=1210, channels=1, levels=1, RGB=False, dtype=uint8> <valis.slide_io.VipsSlideReader object at 0x7f6063629fa0> False (783, 1024)\n",
      "<Slide, name = 1937>, width=1583, height=1210, channels=1, levels=1, RGB=False, dtype=uint8> <valis.slide_io.VipsSlideReader object at 0x7f6063629c10> False (783, 1024)\n",
      "<Slide, name = 1938>, width=1583, height=1210, channels=1, levels=1, RGB=False, dtype=uint8> <valis.slide_io.VipsSlideReader object at 0x7f6063629d00> False (783, 1024)\n",
      "<Slide, name = 1939>, width=1583, height=1210, channels=1, levels=1, RGB=False, dtype=uint8> <valis.slide_io.VipsSlideReader object at 0x7f606362a120> False (783, 1024)\n"
     ]
    },
    {
     "name": "stderr",
     "output_type": "stream",
     "text": [
      "Converting images:  74%|███████▍  | 1940/2624 [00:44<00:16, 40.70image/s]"
     ]
    },
    {
     "name": "stdout",
     "output_type": "stream",
     "text": [
      "<Slide, name = 1940>, width=1583, height=1210, channels=1, levels=1, RGB=False, dtype=uint8> <valis.slide_io.VipsSlideReader object at 0x7f6063628e90> False (783, 1024)\n",
      "<Slide, name = 1941>, width=1583, height=1210, channels=1, levels=1, RGB=False, dtype=uint8> <valis.slide_io.VipsSlideReader object at 0x7f606362ba70> False (783, 1024)\n",
      "<Slide, name = 1942>, width=1583, height=1210, channels=1, levels=1, RGB=False, dtype=uint8> <valis.slide_io.VipsSlideReader object at 0x7f606362b830> False (783, 1024)\n",
      "<Slide, name = 1943>, width=1583, height=1210, channels=1, levels=1, RGB=False, dtype=uint8> <valis.slide_io.VipsSlideReader object at 0x7f606362a150> False (783, 1024)\n",
      "<Slide, name = 1944>, width=1583, height=1210, channels=1, levels=1, RGB=False, dtype=uint8> <valis.slide_io.VipsSlideReader object at 0x7f606362bb00> False (783, 1024)\n"
     ]
    },
    {
     "name": "stderr",
     "output_type": "stream",
     "text": [
      "Converting images:  74%|███████▍  | 1945/2624 [00:44<00:16, 41.05image/s]"
     ]
    },
    {
     "name": "stdout",
     "output_type": "stream",
     "text": [
      "<Slide, name = 1945>, width=1583, height=1210, channels=1, levels=1, RGB=False, dtype=uint8> <valis.slide_io.VipsSlideReader object at 0x7f606362ac00> False (783, 1024)\n",
      "<Slide, name = 1946>, width=1583, height=1210, channels=1, levels=1, RGB=False, dtype=uint8> <valis.slide_io.VipsSlideReader object at 0x7f606362b6e0> False (783, 1024)\n",
      "<Slide, name = 1947>, width=1583, height=1210, channels=1, levels=1, RGB=False, dtype=uint8> <valis.slide_io.VipsSlideReader object at 0x7f606362bfb0> False (783, 1024)\n",
      "<Slide, name = 1948>, width=1583, height=1210, channels=1, levels=1, RGB=False, dtype=uint8> <valis.slide_io.VipsSlideReader object at 0x7f606362b4d0> False (783, 1024)\n",
      "<Slide, name = 1949>, width=1583, height=1210, channels=1, levels=1, RGB=False, dtype=uint8> <valis.slide_io.VipsSlideReader object at 0x7f606362bef0> False (783, 1024)\n"
     ]
    },
    {
     "name": "stderr",
     "output_type": "stream",
     "text": [
      "Converting images:  74%|███████▍  | 1950/2624 [00:44<00:16, 41.19image/s]"
     ]
    },
    {
     "name": "stdout",
     "output_type": "stream",
     "text": [
      "<Slide, name = 1950>, width=1583, height=1210, channels=1, levels=1, RGB=False, dtype=uint8> <valis.slide_io.VipsSlideReader object at 0x7f606362a8d0> False (783, 1024)\n",
      "<Slide, name = 1951>, width=1583, height=1210, channels=1, levels=1, RGB=False, dtype=uint8> <valis.slide_io.VipsSlideReader object at 0x7f606362b0b0> False (783, 1024)\n",
      "<Slide, name = 1952>, width=1583, height=1210, channels=1, levels=1, RGB=False, dtype=uint8> <valis.slide_io.VipsSlideReader object at 0x7f606362b380> False (783, 1024)\n",
      "<Slide, name = 1953>, width=1583, height=1210, channels=1, levels=1, RGB=False, dtype=uint8> <valis.slide_io.VipsSlideReader object at 0x7f606362af00> False (783, 1024)\n",
      "<Slide, name = 1954>, width=1583, height=1210, channels=1, levels=1, RGB=False, dtype=uint8> <valis.slide_io.VipsSlideReader object at 0x7f60636297f0> False (783, 1024)\n"
     ]
    },
    {
     "name": "stderr",
     "output_type": "stream",
     "text": [
      "Converting images:  75%|███████▍  | 1955/2624 [00:44<00:16, 41.36image/s]"
     ]
    },
    {
     "name": "stdout",
     "output_type": "stream",
     "text": [
      "<Slide, name = 1955>, width=1583, height=1210, channels=1, levels=1, RGB=False, dtype=uint8> <valis.slide_io.VipsSlideReader object at 0x7f606362afc0> False (783, 1024)\n",
      "<Slide, name = 1956>, width=1583, height=1210, channels=1, levels=1, RGB=False, dtype=uint8> <valis.slide_io.VipsSlideReader object at 0x7f606362bf20> False (783, 1024)\n",
      "<Slide, name = 1957>, width=1583, height=1210, channels=1, levels=1, RGB=False, dtype=uint8> <valis.slide_io.VipsSlideReader object at 0x7f6063629dc0> False (783, 1024)\n",
      "<Slide, name = 1958>, width=1583, height=1210, channels=1, levels=1, RGB=False, dtype=uint8> <valis.slide_io.VipsSlideReader object at 0x7f606362bf80> False (783, 1024)\n",
      "<Slide, name = 1959>, width=1583, height=1210, channels=1, levels=1, RGB=False, dtype=uint8> <valis.slide_io.VipsSlideReader object at 0x7f6063629910> False (783, 1024)\n"
     ]
    },
    {
     "name": "stderr",
     "output_type": "stream",
     "text": [
      "Converting images:  75%|███████▍  | 1960/2624 [00:44<00:16, 41.19image/s]"
     ]
    },
    {
     "name": "stdout",
     "output_type": "stream",
     "text": [
      "<Slide, name = 1960>, width=1583, height=1210, channels=1, levels=1, RGB=False, dtype=uint8> <valis.slide_io.VipsSlideReader object at 0x7f6063ef0c80> False (783, 1024)\n",
      "<Slide, name = 1961>, width=1583, height=1210, channels=1, levels=1, RGB=False, dtype=uint8> <valis.slide_io.VipsSlideReader object at 0x7f606374c2f0> False (783, 1024)\n",
      "<Slide, name = 1962>, width=1583, height=1210, channels=1, levels=1, RGB=False, dtype=uint8> <valis.slide_io.VipsSlideReader object at 0x7f606374d790> False (783, 1024)\n",
      "<Slide, name = 1963>, width=1583, height=1210, channels=1, levels=1, RGB=False, dtype=uint8> <valis.slide_io.VipsSlideReader object at 0x7f606374e120> False (783, 1024)\n",
      "<Slide, name = 1964>, width=1583, height=1210, channels=1, levels=1, RGB=False, dtype=uint8> <valis.slide_io.VipsSlideReader object at 0x7f606374d160> False (783, 1024)\n"
     ]
    },
    {
     "name": "stderr",
     "output_type": "stream",
     "text": [
      "Converting images:  75%|███████▍  | 1965/2624 [00:45<00:15, 41.93image/s]"
     ]
    },
    {
     "name": "stdout",
     "output_type": "stream",
     "text": [
      "<Slide, name = 1965>, width=1583, height=1210, channels=1, levels=1, RGB=False, dtype=uint8> <valis.slide_io.VipsSlideReader object at 0x7f606374f4a0> False (783, 1024)\n",
      "<Slide, name = 1966>, width=1583, height=1210, channels=1, levels=1, RGB=False, dtype=uint8> <valis.slide_io.VipsSlideReader object at 0x7f606374d310> False (783, 1024)\n",
      "<Slide, name = 1967>, width=1583, height=1210, channels=1, levels=1, RGB=False, dtype=uint8> <valis.slide_io.VipsSlideReader object at 0x7f606374c9b0> False (783, 1024)\n",
      "<Slide, name = 1968>, width=1583, height=1210, channels=1, levels=1, RGB=False, dtype=uint8> <valis.slide_io.VipsSlideReader object at 0x7f606374d640> False (783, 1024)\n",
      "<Slide, name = 1969>, width=1583, height=1210, channels=1, levels=1, RGB=False, dtype=uint8> <valis.slide_io.VipsSlideReader object at 0x7f606374c320> False (783, 1024)\n"
     ]
    },
    {
     "name": "stderr",
     "output_type": "stream",
     "text": [
      "Converting images:  75%|███████▌  | 1970/2624 [00:45<00:15, 42.06image/s]"
     ]
    },
    {
     "name": "stdout",
     "output_type": "stream",
     "text": [
      "<Slide, name = 1970>, width=1583, height=1210, channels=1, levels=1, RGB=False, dtype=uint8> <valis.slide_io.VipsSlideReader object at 0x7f606374ed50> False (783, 1024)\n",
      "<Slide, name = 1971>, width=1583, height=1210, channels=1, levels=1, RGB=False, dtype=uint8> <valis.slide_io.VipsSlideReader object at 0x7f606374db80> False (783, 1024)\n",
      "<Slide, name = 1972>, width=1583, height=1210, channels=1, levels=1, RGB=False, dtype=uint8> <valis.slide_io.VipsSlideReader object at 0x7f606374ec30> False (783, 1024)\n",
      "<Slide, name = 1973>, width=1583, height=1210, channels=1, levels=1, RGB=False, dtype=uint8> <valis.slide_io.VipsSlideReader object at 0x7f606374d910> False (783, 1024)\n",
      "<Slide, name = 1974>, width=1583, height=1210, channels=1, levels=1, RGB=False, dtype=uint8> <valis.slide_io.VipsSlideReader object at 0x7f606374cd70> False (783, 1024)\n"
     ]
    },
    {
     "name": "stderr",
     "output_type": "stream",
     "text": [
      "Converting images:  75%|███████▌  | 1975/2624 [00:45<00:15, 42.71image/s]"
     ]
    },
    {
     "name": "stdout",
     "output_type": "stream",
     "text": [
      "<Slide, name = 1975>, width=1583, height=1210, channels=1, levels=1, RGB=False, dtype=uint8> <valis.slide_io.VipsSlideReader object at 0x7f606374f440> False (783, 1024)\n",
      "<Slide, name = 1976>, width=1583, height=1210, channels=1, levels=1, RGB=False, dtype=uint8> <valis.slide_io.VipsSlideReader object at 0x7f606374f620> False (783, 1024)\n",
      "<Slide, name = 1977>, width=1583, height=1210, channels=1, levels=1, RGB=False, dtype=uint8> <valis.slide_io.VipsSlideReader object at 0x7f606374f860> False (783, 1024)\n",
      "<Slide, name = 1978>, width=1583, height=1210, channels=1, levels=1, RGB=False, dtype=uint8> <valis.slide_io.VipsSlideReader object at 0x7f606374d610> False (783, 1024)\n",
      "<Slide, name = 1979>, width=1583, height=1210, channels=1, levels=1, RGB=False, dtype=uint8> <valis.slide_io.VipsSlideReader object at 0x7f606374d1f0> False (783, 1024)\n"
     ]
    },
    {
     "name": "stderr",
     "output_type": "stream",
     "text": [
      "Converting images:  75%|███████▌  | 1980/2624 [00:45<00:14, 43.65image/s]"
     ]
    },
    {
     "name": "stdout",
     "output_type": "stream",
     "text": [
      "<Slide, name = 1980>, width=1583, height=1210, channels=1, levels=1, RGB=False, dtype=uint8> <valis.slide_io.VipsSlideReader object at 0x7f606374e5a0> False (783, 1024)\n",
      "<Slide, name = 1981>, width=1583, height=1210, channels=1, levels=1, RGB=False, dtype=uint8> <valis.slide_io.VipsSlideReader object at 0x7f606374e3c0> False (783, 1024)\n",
      "<Slide, name = 1982>, width=1583, height=1210, channels=1, levels=1, RGB=False, dtype=uint8> <valis.slide_io.VipsSlideReader object at 0x7f606374f9e0> False (783, 1024)\n",
      "<Slide, name = 1983>, width=1583, height=1210, channels=1, levels=1, RGB=False, dtype=uint8> <valis.slide_io.VipsSlideReader object at 0x7f606374fec0> False (783, 1024)\n",
      "<Slide, name = 1984>, width=1583, height=1210, channels=1, levels=1, RGB=False, dtype=uint8> <valis.slide_io.VipsSlideReader object at 0x7f606374cc50> False (783, 1024)\n"
     ]
    },
    {
     "name": "stderr",
     "output_type": "stream",
     "text": [
      "Converting images:  76%|███████▌  | 1985/2624 [00:45<00:14, 44.22image/s]"
     ]
    },
    {
     "name": "stdout",
     "output_type": "stream",
     "text": [
      "<Slide, name = 1985>, width=1583, height=1210, channels=1, levels=1, RGB=False, dtype=uint8> <valis.slide_io.VipsSlideReader object at 0x7f606374c710> False (783, 1024)\n",
      "<Slide, name = 1986>, width=1583, height=1210, channels=1, levels=1, RGB=False, dtype=uint8> <valis.slide_io.VipsSlideReader object at 0x7f606374c290> False (783, 1024)\n",
      "<Slide, name = 1987>, width=1583, height=1210, channels=1, levels=1, RGB=False, dtype=uint8> <valis.slide_io.VipsSlideReader object at 0x7f606374ca70> False (783, 1024)\n",
      "<Slide, name = 1988>, width=1583, height=1210, channels=1, levels=1, RGB=False, dtype=uint8> <valis.slide_io.VipsSlideReader object at 0x7f606374ce60> False (783, 1024)\n",
      "<Slide, name = 1989>, width=1583, height=1210, channels=1, levels=1, RGB=False, dtype=uint8> <valis.slide_io.VipsSlideReader object at 0x7f606374e750> False (783, 1024)\n"
     ]
    },
    {
     "name": "stderr",
     "output_type": "stream",
     "text": [
      "Converting images:  76%|███████▌  | 1990/2624 [00:45<00:14, 44.77image/s]"
     ]
    },
    {
     "name": "stdout",
     "output_type": "stream",
     "text": [
      "<Slide, name = 1990>, width=1583, height=1210, channels=1, levels=1, RGB=False, dtype=uint8> <valis.slide_io.VipsSlideReader object at 0x7f606374e0f0> False (783, 1024)\n",
      "<Slide, name = 1991>, width=1583, height=1210, channels=1, levels=1, RGB=False, dtype=uint8> <valis.slide_io.VipsSlideReader object at 0x7f606374d5b0> False (783, 1024)\n",
      "<Slide, name = 1992>, width=1583, height=1210, channels=1, levels=1, RGB=False, dtype=uint8> <valis.slide_io.VipsSlideReader object at 0x7f606374c740> False (783, 1024)\n",
      "<Slide, name = 1993>, width=1583, height=1210, channels=1, levels=1, RGB=False, dtype=uint8> <valis.slide_io.VipsSlideReader object at 0x7f606374d6a0> False (783, 1024)\n",
      "<Slide, name = 1994>, width=1583, height=1210, channels=1, levels=1, RGB=False, dtype=uint8> <valis.slide_io.VipsSlideReader object at 0x7f606374cd10> False (783, 1024)\n"
     ]
    },
    {
     "name": "stderr",
     "output_type": "stream",
     "text": [
      "Converting images:  76%|███████▌  | 1995/2624 [00:45<00:13, 45.01image/s]"
     ]
    },
    {
     "name": "stdout",
     "output_type": "stream",
     "text": [
      "<Slide, name = 1995>, width=1583, height=1210, channels=1, levels=1, RGB=False, dtype=uint8> <valis.slide_io.VipsSlideReader object at 0x7f606374f020> False (783, 1024)\n",
      "<Slide, name = 1996>, width=1583, height=1210, channels=1, levels=1, RGB=False, dtype=uint8> <valis.slide_io.VipsSlideReader object at 0x7f606374f080> False (783, 1024)\n",
      "<Slide, name = 1997>, width=1583, height=1210, channels=1, levels=1, RGB=False, dtype=uint8> <valis.slide_io.VipsSlideReader object at 0x7f606374c440> False (783, 1024)\n",
      "<Slide, name = 1998>, width=1583, height=1210, channels=1, levels=1, RGB=False, dtype=uint8> <valis.slide_io.VipsSlideReader object at 0x7f606374e480> False (783, 1024)\n",
      "<Slide, name = 1999>, width=1583, height=1210, channels=1, levels=1, RGB=False, dtype=uint8> <valis.slide_io.VipsSlideReader object at 0x7f606374cf20> False (783, 1024)\n"
     ]
    },
    {
     "name": "stderr",
     "output_type": "stream",
     "text": [
      "Converting images:  76%|███████▌  | 2000/2624 [00:45<00:13, 45.11image/s]"
     ]
    },
    {
     "name": "stdout",
     "output_type": "stream",
     "text": [
      "<Slide, name = 2000>, width=1583, height=1210, channels=1, levels=1, RGB=False, dtype=uint8> <valis.slide_io.VipsSlideReader object at 0x7f606374c2c0> False (783, 1024)\n",
      "<Slide, name = 2001>, width=1583, height=1210, channels=1, levels=1, RGB=False, dtype=uint8> <valis.slide_io.VipsSlideReader object at 0x7f606374d8b0> False (783, 1024)\n",
      "<Slide, name = 2002>, width=1583, height=1210, channels=1, levels=1, RGB=False, dtype=uint8> <valis.slide_io.VipsSlideReader object at 0x7f606374ef00> False (783, 1024)\n",
      "<Slide, name = 2003>, width=1583, height=1210, channels=1, levels=1, RGB=False, dtype=uint8> <valis.slide_io.VipsSlideReader object at 0x7f606374f4d0> False (783, 1024)\n",
      "<Slide, name = 2004>, width=1583, height=1210, channels=1, levels=1, RGB=False, dtype=uint8> <valis.slide_io.VipsSlideReader object at 0x7f606374dd00> False (783, 1024)\n"
     ]
    },
    {
     "name": "stderr",
     "output_type": "stream",
     "text": [
      "Converting images:  76%|███████▋  | 2005/2624 [00:45<00:13, 45.26image/s]"
     ]
    },
    {
     "name": "stdout",
     "output_type": "stream",
     "text": [
      "<Slide, name = 2005>, width=1583, height=1210, channels=1, levels=1, RGB=False, dtype=uint8> <valis.slide_io.VipsSlideReader object at 0x7f606374deb0> False (783, 1024)\n",
      "<Slide, name = 2006>, width=1583, height=1210, channels=1, levels=1, RGB=False, dtype=uint8> <valis.slide_io.VipsSlideReader object at 0x7f606374ff20> False (783, 1024)\n",
      "<Slide, name = 2007>, width=1583, height=1210, channels=1, levels=1, RGB=False, dtype=uint8> <valis.slide_io.VipsSlideReader object at 0x7f606374faa0> False (783, 1024)\n",
      "<Slide, name = 2008>, width=1583, height=1210, channels=1, levels=1, RGB=False, dtype=uint8> <valis.slide_io.VipsSlideReader object at 0x7f606374ffb0> False (783, 1024)\n",
      "<Slide, name = 2009>, width=1583, height=1210, channels=1, levels=1, RGB=False, dtype=uint8> <valis.slide_io.VipsSlideReader object at 0x7f606374eba0> False (783, 1024)\n"
     ]
    },
    {
     "name": "stderr",
     "output_type": "stream",
     "text": [
      "Converting images:  77%|███████▋  | 2010/2624 [00:46<00:13, 45.17image/s]"
     ]
    },
    {
     "name": "stdout",
     "output_type": "stream",
     "text": [
      "<Slide, name = 2010>, width=1583, height=1210, channels=1, levels=1, RGB=False, dtype=uint8> <valis.slide_io.VipsSlideReader object at 0x7f606374c1a0> False (783, 1024)\n",
      "<Slide, name = 2011>, width=1583, height=1210, channels=1, levels=1, RGB=False, dtype=uint8> <valis.slide_io.VipsSlideReader object at 0x7f606374dfd0> False (783, 1024)\n",
      "<Slide, name = 2012>, width=1583, height=1210, channels=1, levels=1, RGB=False, dtype=uint8> <valis.slide_io.VipsSlideReader object at 0x7f606374c6b0> False (783, 1024)\n",
      "<Slide, name = 2013>, width=1583, height=1210, channels=1, levels=1, RGB=False, dtype=uint8> <valis.slide_io.VipsSlideReader object at 0x7f606374fc50> False (783, 1024)\n",
      "<Slide, name = 2014>, width=1583, height=1210, channels=1, levels=1, RGB=False, dtype=uint8> <valis.slide_io.VipsSlideReader object at 0x7f606374e180> False (783, 1024)\n"
     ]
    },
    {
     "name": "stderr",
     "output_type": "stream",
     "text": [
      "Converting images:  77%|███████▋  | 2015/2624 [00:46<00:13, 45.10image/s]"
     ]
    },
    {
     "name": "stdout",
     "output_type": "stream",
     "text": [
      "<Slide, name = 2015>, width=1583, height=1210, channels=1, levels=1, RGB=False, dtype=uint8> <valis.slide_io.VipsSlideReader object at 0x7f606374efc0> False (783, 1024)\n",
      "<Slide, name = 2016>, width=1583, height=1210, channels=1, levels=1, RGB=False, dtype=uint8> <valis.slide_io.VipsSlideReader object at 0x7f606374fb60> False (783, 1024)\n",
      "<Slide, name = 2017>, width=1583, height=1210, channels=1, levels=1, RGB=False, dtype=uint8> <valis.slide_io.VipsSlideReader object at 0x7f606374dd90> False (783, 1024)\n",
      "<Slide, name = 2018>, width=1583, height=1210, channels=1, levels=1, RGB=False, dtype=uint8> <valis.slide_io.VipsSlideReader object at 0x7f606374fb30> False (783, 1024)\n",
      "<Slide, name = 2019>, width=1583, height=1210, channels=1, levels=1, RGB=False, dtype=uint8> <valis.slide_io.VipsSlideReader object at 0x7f606374cb30> False (783, 1024)\n"
     ]
    },
    {
     "name": "stderr",
     "output_type": "stream",
     "text": [
      "Converting images:  77%|███████▋  | 2020/2624 [00:46<00:13, 45.17image/s]"
     ]
    },
    {
     "name": "stdout",
     "output_type": "stream",
     "text": [
      "<Slide, name = 2020>, width=1583, height=1210, channels=1, levels=1, RGB=False, dtype=uint8> <valis.slide_io.VipsSlideReader object at 0x7f606374ecc0> False (783, 1024)\n",
      "<Slide, name = 2021>, width=1583, height=1210, channels=1, levels=1, RGB=False, dtype=uint8> <valis.slide_io.VipsSlideReader object at 0x7f606374f0e0> False (783, 1024)\n",
      "<Slide, name = 2022>, width=1583, height=1210, channels=1, levels=1, RGB=False, dtype=uint8> <valis.slide_io.VipsSlideReader object at 0x7f606374fda0> False (783, 1024)\n",
      "<Slide, name = 2023>, width=1583, height=1210, channels=1, levels=1, RGB=False, dtype=uint8> <valis.slide_io.VipsSlideReader object at 0x7f606374d730> False (783, 1024)\n",
      "<Slide, name = 2024>, width=1583, height=1210, channels=1, levels=1, RGB=False, dtype=uint8> <valis.slide_io.VipsSlideReader object at 0x7f606374f410> False (783, 1024)\n"
     ]
    },
    {
     "name": "stderr",
     "output_type": "stream",
     "text": [
      "Converting images:  77%|███████▋  | 2025/2624 [00:46<00:13, 44.31image/s]"
     ]
    },
    {
     "name": "stdout",
     "output_type": "stream",
     "text": [
      "<Slide, name = 2025>, width=1583, height=1210, channels=1, levels=1, RGB=False, dtype=uint8> <valis.slide_io.VipsSlideReader object at 0x7f606374e390> False (783, 1024)\n",
      "<Slide, name = 2026>, width=1583, height=1210, channels=1, levels=1, RGB=False, dtype=uint8> <valis.slide_io.VipsSlideReader object at 0x7f606374d4c0> False (783, 1024)\n",
      "<Slide, name = 2027>, width=1583, height=1210, channels=1, levels=1, RGB=False, dtype=uint8> <valis.slide_io.VipsSlideReader object at 0x7f606374d7f0> False (783, 1024)\n",
      "<Slide, name = 2028>, width=1583, height=1210, channels=1, levels=1, RGB=False, dtype=uint8> <valis.slide_io.VipsSlideReader object at 0x7f606374f140> False (783, 1024)\n",
      "<Slide, name = 2029>, width=1583, height=1210, channels=1, levels=1, RGB=False, dtype=uint8> <valis.slide_io.VipsSlideReader object at 0x7f606374d8e0> False (783, 1024)\n"
     ]
    },
    {
     "name": "stderr",
     "output_type": "stream",
     "text": [
      "Converting images:  77%|███████▋  | 2030/2624 [00:46<00:13, 44.76image/s]"
     ]
    },
    {
     "name": "stdout",
     "output_type": "stream",
     "text": [
      "<Slide, name = 2030>, width=1583, height=1210, channels=1, levels=1, RGB=False, dtype=uint8> <valis.slide_io.VipsSlideReader object at 0x7f606374ddf0> False (783, 1024)\n",
      "<Slide, name = 2031>, width=1583, height=1210, channels=1, levels=1, RGB=False, dtype=uint8> <valis.slide_io.VipsSlideReader object at 0x7f606374de80> False (783, 1024)\n",
      "<Slide, name = 2032>, width=1583, height=1210, channels=1, levels=1, RGB=False, dtype=uint8> <valis.slide_io.VipsSlideReader object at 0x7f606374fb90> False (783, 1024)\n",
      "<Slide, name = 2033>, width=1583, height=1210, channels=1, levels=1, RGB=False, dtype=uint8> <valis.slide_io.VipsSlideReader object at 0x7f606374ec00> False (783, 1024)\n",
      "<Slide, name = 2034>, width=1583, height=1210, channels=1, levels=1, RGB=False, dtype=uint8> <valis.slide_io.VipsSlideReader object at 0x7f606374f8c0> False (783, 1024)\n"
     ]
    },
    {
     "name": "stderr",
     "output_type": "stream",
     "text": [
      "Converting images:  78%|███████▊  | 2035/2624 [00:46<00:13, 44.54image/s]"
     ]
    },
    {
     "name": "stdout",
     "output_type": "stream",
     "text": [
      "<Slide, name = 2035>, width=1583, height=1210, channels=1, levels=1, RGB=False, dtype=uint8> <valis.slide_io.VipsSlideReader object at 0x7f606374df10> False (783, 1024)\n",
      "<Slide, name = 2036>, width=1583, height=1210, channels=1, levels=1, RGB=False, dtype=uint8> <valis.slide_io.VipsSlideReader object at 0x7f606374e9f0> False (783, 1024)\n",
      "<Slide, name = 2037>, width=1583, height=1210, channels=1, levels=1, RGB=False, dtype=uint8> <valis.slide_io.VipsSlideReader object at 0x7f606374d490> False (783, 1024)\n",
      "<Slide, name = 2038>, width=1583, height=1210, channels=1, levels=1, RGB=False, dtype=uint8> <valis.slide_io.VipsSlideReader object at 0x7f606374e1e0> False (783, 1024)\n",
      "<Slide, name = 2039>, width=1583, height=1210, channels=1, levels=1, RGB=False, dtype=uint8> <valis.slide_io.VipsSlideReader object at 0x7f606374c0b0> False (783, 1024)\n"
     ]
    },
    {
     "name": "stderr",
     "output_type": "stream",
     "text": [
      "Converting images:  78%|███████▊  | 2040/2624 [00:46<00:13, 44.71image/s]"
     ]
    },
    {
     "name": "stdout",
     "output_type": "stream",
     "text": [
      "<Slide, name = 2040>, width=1583, height=1210, channels=1, levels=1, RGB=False, dtype=uint8> <valis.slide_io.VipsSlideReader object at 0x7f606374c3e0> False (783, 1024)\n",
      "<Slide, name = 2041>, width=1583, height=1210, channels=1, levels=1, RGB=False, dtype=uint8> <valis.slide_io.VipsSlideReader object at 0x7f606374e720> False (783, 1024)\n",
      "<Slide, name = 2042>, width=1583, height=1210, channels=1, levels=1, RGB=False, dtype=uint8> <valis.slide_io.VipsSlideReader object at 0x7f6063538110> False (783, 1024)\n",
      "<Slide, name = 2043>, width=1583, height=1210, channels=1, levels=1, RGB=False, dtype=uint8> <valis.slide_io.VipsSlideReader object at 0x7f606353be60> False (783, 1024)\n",
      "<Slide, name = 2044>, width=1583, height=1210, channels=1, levels=1, RGB=False, dtype=uint8> <valis.slide_io.VipsSlideReader object at 0x7f606353bdd0> False (783, 1024)\n"
     ]
    },
    {
     "name": "stderr",
     "output_type": "stream",
     "text": [
      "Converting images:  78%|███████▊  | 2045/2624 [00:46<00:12, 44.84image/s]"
     ]
    },
    {
     "name": "stdout",
     "output_type": "stream",
     "text": [
      "<Slide, name = 2045>, width=1583, height=1210, channels=1, levels=1, RGB=False, dtype=uint8> <valis.slide_io.VipsSlideReader object at 0x7f6063539b80> False (783, 1024)\n",
      "<Slide, name = 2046>, width=1583, height=1210, channels=1, levels=1, RGB=False, dtype=uint8> <valis.slide_io.VipsSlideReader object at 0x7f60635394f0> False (783, 1024)\n",
      "<Slide, name = 2047>, width=1583, height=1210, channels=1, levels=1, RGB=False, dtype=uint8> <valis.slide_io.VipsSlideReader object at 0x7f606353baa0> False (783, 1024)\n",
      "<Slide, name = 2048>, width=1583, height=1210, channels=1, levels=1, RGB=False, dtype=uint8> <valis.slide_io.VipsSlideReader object at 0x7f6063539a00> False (783, 1024)\n",
      "<Slide, name = 2049>, width=1583, height=1210, channels=1, levels=1, RGB=False, dtype=uint8> <valis.slide_io.VipsSlideReader object at 0x7f606353bce0> False (783, 1024)\n"
     ]
    },
    {
     "name": "stderr",
     "output_type": "stream",
     "text": [
      "Converting images:  78%|███████▊  | 2050/2624 [00:46<00:12, 44.86image/s]"
     ]
    },
    {
     "name": "stdout",
     "output_type": "stream",
     "text": [
      "<Slide, name = 2050>, width=1583, height=1210, channels=1, levels=1, RGB=False, dtype=uint8> <valis.slide_io.VipsSlideReader object at 0x7f606353a990> False (783, 1024)\n",
      "<Slide, name = 2051>, width=1583, height=1210, channels=1, levels=1, RGB=False, dtype=uint8> <valis.slide_io.VipsSlideReader object at 0x7f606353aa50> False (783, 1024)\n",
      "<Slide, name = 2052>, width=1583, height=1210, channels=1, levels=1, RGB=False, dtype=uint8> <valis.slide_io.VipsSlideReader object at 0x7f606353a540> False (783, 1024)\n",
      "<Slide, name = 2053>, width=1583, height=1210, channels=1, levels=1, RGB=False, dtype=uint8> <valis.slide_io.VipsSlideReader object at 0x7f606353b8c0> False (783, 1024)\n",
      "<Slide, name = 2054>, width=1583, height=1210, channels=1, levels=1, RGB=False, dtype=uint8> <valis.slide_io.VipsSlideReader object at 0x7f606353b6e0> False (783, 1024)\n"
     ]
    },
    {
     "name": "stderr",
     "output_type": "stream",
     "text": [
      "Converting images:  78%|███████▊  | 2055/2624 [00:47<00:12, 45.04image/s]"
     ]
    },
    {
     "name": "stdout",
     "output_type": "stream",
     "text": [
      "<Slide, name = 2055>, width=1583, height=1210, channels=1, levels=1, RGB=False, dtype=uint8> <valis.slide_io.VipsSlideReader object at 0x7f606353a9c0> False (783, 1024)\n",
      "<Slide, name = 2056>, width=1583, height=1210, channels=1, levels=1, RGB=False, dtype=uint8> <valis.slide_io.VipsSlideReader object at 0x7f606353bd40> False (783, 1024)\n",
      "<Slide, name = 2057>, width=1583, height=1210, channels=1, levels=1, RGB=False, dtype=uint8> <valis.slide_io.VipsSlideReader object at 0x7f60635391f0> False (783, 1024)\n",
      "<Slide, name = 2058>, width=1583, height=1210, channels=1, levels=1, RGB=False, dtype=uint8> <valis.slide_io.VipsSlideReader object at 0x7f606353bbc0> False (783, 1024)\n",
      "<Slide, name = 2059>, width=1583, height=1210, channels=1, levels=1, RGB=False, dtype=uint8> <valis.slide_io.VipsSlideReader object at 0x7f6063538bf0> False (783, 1024)\n"
     ]
    },
    {
     "name": "stderr",
     "output_type": "stream",
     "text": [
      "Converting images:  79%|███████▊  | 2060/2624 [00:47<00:12, 44.87image/s]"
     ]
    },
    {
     "name": "stdout",
     "output_type": "stream",
     "text": [
      "<Slide, name = 2060>, width=1583, height=1210, channels=1, levels=1, RGB=False, dtype=uint8> <valis.slide_io.VipsSlideReader object at 0x7f606353a4b0> False (783, 1024)\n",
      "<Slide, name = 2061>, width=1583, height=1210, channels=1, levels=1, RGB=False, dtype=uint8> <valis.slide_io.VipsSlideReader object at 0x7f6063538b30> False (783, 1024)\n",
      "<Slide, name = 2062>, width=1583, height=1210, channels=1, levels=1, RGB=False, dtype=uint8> <valis.slide_io.VipsSlideReader object at 0x7f6063539370> False (783, 1024)\n",
      "<Slide, name = 2063>, width=1583, height=1210, channels=1, levels=1, RGB=False, dtype=uint8> <valis.slide_io.VipsSlideReader object at 0x7f60635489e0> False (783, 1024)\n",
      "<Slide, name = 2064>, width=1583, height=1210, channels=1, levels=1, RGB=False, dtype=uint8> <valis.slide_io.VipsSlideReader object at 0x7f6063549fd0> False (783, 1024)\n"
     ]
    },
    {
     "name": "stderr",
     "output_type": "stream",
     "text": [
      "Converting images:  79%|███████▊  | 2065/2624 [00:47<00:12, 44.65image/s]"
     ]
    },
    {
     "name": "stdout",
     "output_type": "stream",
     "text": [
      "<Slide, name = 2065>, width=1583, height=1210, channels=1, levels=1, RGB=False, dtype=uint8> <valis.slide_io.VipsSlideReader object at 0x7f606354a2d0> False (783, 1024)\n",
      "<Slide, name = 2066>, width=1583, height=1210, channels=1, levels=1, RGB=False, dtype=uint8> <valis.slide_io.VipsSlideReader object at 0x7f606354b140> False (783, 1024)\n",
      "<Slide, name = 2067>, width=1583, height=1210, channels=1, levels=1, RGB=False, dtype=uint8> <valis.slide_io.VipsSlideReader object at 0x7f6063549160> False (783, 1024)\n",
      "<Slide, name = 2068>, width=1583, height=1210, channels=1, levels=1, RGB=False, dtype=uint8> <valis.slide_io.VipsSlideReader object at 0x7f606354bce0> False (783, 1024)\n",
      "<Slide, name = 2069>, width=1583, height=1210, channels=1, levels=1, RGB=False, dtype=uint8> <valis.slide_io.VipsSlideReader object at 0x7f6063549100> False (783, 1024)\n"
     ]
    },
    {
     "name": "stderr",
     "output_type": "stream",
     "text": [
      "Converting images:  79%|███████▉  | 2070/2624 [00:47<00:12, 44.60image/s]"
     ]
    },
    {
     "name": "stdout",
     "output_type": "stream",
     "text": [
      "<Slide, name = 2070>, width=1583, height=1210, channels=1, levels=1, RGB=False, dtype=uint8> <valis.slide_io.VipsSlideReader object at 0x7f6063548890> False (783, 1024)\n",
      "<Slide, name = 2071>, width=1583, height=1210, channels=1, levels=1, RGB=False, dtype=uint8> <valis.slide_io.VipsSlideReader object at 0x7f6063548b30> False (783, 1024)\n",
      "<Slide, name = 2072>, width=1583, height=1210, channels=1, levels=1, RGB=False, dtype=uint8> <valis.slide_io.VipsSlideReader object at 0x7f6063548b90> False (783, 1024)\n",
      "<Slide, name = 2073>, width=1583, height=1210, channels=1, levels=1, RGB=False, dtype=uint8> <valis.slide_io.VipsSlideReader object at 0x7f6063549b80> False (783, 1024)\n",
      "<Slide, name = 2074>, width=1583, height=1210, channels=1, levels=1, RGB=False, dtype=uint8> <valis.slide_io.VipsSlideReader object at 0x7f6063548c50> False (783, 1024)\n"
     ]
    },
    {
     "name": "stderr",
     "output_type": "stream",
     "text": [
      "Converting images:  79%|███████▉  | 2075/2624 [00:47<00:12, 44.32image/s]"
     ]
    },
    {
     "name": "stdout",
     "output_type": "stream",
     "text": [
      "<Slide, name = 2075>, width=1583, height=1210, channels=1, levels=1, RGB=False, dtype=uint8> <valis.slide_io.VipsSlideReader object at 0x7f60635484d0> False (783, 1024)\n",
      "<Slide, name = 2076>, width=1583, height=1210, channels=1, levels=1, RGB=False, dtype=uint8> <valis.slide_io.VipsSlideReader object at 0x7f6063549ee0> False (783, 1024)\n",
      "<Slide, name = 2077>, width=1583, height=1210, channels=1, levels=1, RGB=False, dtype=uint8> <valis.slide_io.VipsSlideReader object at 0x7f60635496a0> False (783, 1024)\n",
      "<Slide, name = 2078>, width=1583, height=1210, channels=1, levels=1, RGB=False, dtype=uint8> <valis.slide_io.VipsSlideReader object at 0x7f60635488f0> False (783, 1024)\n",
      "<Slide, name = 2079>, width=1583, height=1210, channels=1, levels=1, RGB=False, dtype=uint8> <valis.slide_io.VipsSlideReader object at 0x7f6063548530> False (783, 1024)\n"
     ]
    },
    {
     "name": "stderr",
     "output_type": "stream",
     "text": [
      "Converting images:  79%|███████▉  | 2080/2624 [00:47<00:12, 44.35image/s]"
     ]
    },
    {
     "name": "stdout",
     "output_type": "stream",
     "text": [
      "<Slide, name = 2080>, width=1583, height=1210, channels=1, levels=1, RGB=False, dtype=uint8> <valis.slide_io.VipsSlideReader object at 0x7f606354b950> False (783, 1024)\n",
      "<Slide, name = 2081>, width=1583, height=1210, channels=1, levels=1, RGB=False, dtype=uint8> <valis.slide_io.VipsSlideReader object at 0x7f6063549340> False (783, 1024)\n",
      "<Slide, name = 2082>, width=1583, height=1210, channels=1, levels=1, RGB=False, dtype=uint8> <valis.slide_io.VipsSlideReader object at 0x7f6063548710> False (783, 1024)\n",
      "<Slide, name = 2083>, width=1583, height=1210, channels=1, levels=1, RGB=False, dtype=uint8> <valis.slide_io.VipsSlideReader object at 0x7f606355a180> False (783, 1024)\n",
      "<Slide, name = 2084>, width=1583, height=1210, channels=1, levels=1, RGB=False, dtype=uint8> <valis.slide_io.VipsSlideReader object at 0x7f606355bf20> False (783, 1024)\n"
     ]
    },
    {
     "name": "stderr",
     "output_type": "stream",
     "text": [
      "Converting images:  79%|███████▉  | 2085/2624 [00:47<00:12, 44.52image/s]"
     ]
    },
    {
     "name": "stdout",
     "output_type": "stream",
     "text": [
      "<Slide, name = 2085>, width=1583, height=1210, channels=1, levels=1, RGB=False, dtype=uint8> <valis.slide_io.VipsSlideReader object at 0x7f606355b7a0> False (783, 1024)\n",
      "<Slide, name = 2086>, width=1583, height=1210, channels=1, levels=1, RGB=False, dtype=uint8> <valis.slide_io.VipsSlideReader object at 0x7f6063559df0> False (783, 1024)\n",
      "<Slide, name = 2087>, width=1583, height=1210, channels=1, levels=1, RGB=False, dtype=uint8> <valis.slide_io.VipsSlideReader object at 0x7f606355a900> False (783, 1024)\n",
      "<Slide, name = 2088>, width=1583, height=1210, channels=1, levels=1, RGB=False, dtype=uint8> <valis.slide_io.VipsSlideReader object at 0x7f606355ab10> False (783, 1024)\n",
      "<Slide, name = 2089>, width=1583, height=1210, channels=1, levels=1, RGB=False, dtype=uint8> <valis.slide_io.VipsSlideReader object at 0x7f6063558290> False (783, 1024)\n"
     ]
    },
    {
     "name": "stderr",
     "output_type": "stream",
     "text": [
      "Converting images:  80%|███████▉  | 2090/2624 [00:47<00:11, 44.73image/s]"
     ]
    },
    {
     "name": "stdout",
     "output_type": "stream",
     "text": [
      "<Slide, name = 2090>, width=1583, height=1210, channels=1, levels=1, RGB=False, dtype=uint8> <valis.slide_io.VipsSlideReader object at 0x7f6063558140> False (783, 1024)\n",
      "<Slide, name = 2091>, width=1583, height=1210, channels=1, levels=1, RGB=False, dtype=uint8> <valis.slide_io.VipsSlideReader object at 0x7f60635591c0> False (783, 1024)\n",
      "<Slide, name = 2092>, width=1583, height=1210, channels=1, levels=1, RGB=False, dtype=uint8> <valis.slide_io.VipsSlideReader object at 0x7f6063558e30> False (783, 1024)\n",
      "<Slide, name = 2093>, width=1583, height=1210, channels=1, levels=1, RGB=False, dtype=uint8> <valis.slide_io.VipsSlideReader object at 0x7f606355afc0> False (783, 1024)\n",
      "<Slide, name = 2094>, width=1583, height=1210, channels=1, levels=1, RGB=False, dtype=uint8> <valis.slide_io.VipsSlideReader object at 0x7f606355a6f0> False (783, 1024)\n"
     ]
    },
    {
     "name": "stderr",
     "output_type": "stream",
     "text": [
      "Converting images:  80%|███████▉  | 2095/2624 [00:47<00:11, 44.81image/s]"
     ]
    },
    {
     "name": "stdout",
     "output_type": "stream",
     "text": [
      "<Slide, name = 2095>, width=1583, height=1210, channels=1, levels=1, RGB=False, dtype=uint8> <valis.slide_io.VipsSlideReader object at 0x7f6063559d90> False (783, 1024)\n",
      "<Slide, name = 2096>, width=1583, height=1210, channels=1, levels=1, RGB=False, dtype=uint8> <valis.slide_io.VipsSlideReader object at 0x7f606355af30> False (783, 1024)\n",
      "<Slide, name = 2097>, width=1583, height=1210, channels=1, levels=1, RGB=False, dtype=uint8> <valis.slide_io.VipsSlideReader object at 0x7f606355a540> False (783, 1024)\n",
      "<Slide, name = 2098>, width=1583, height=1210, channels=1, levels=1, RGB=False, dtype=uint8> <valis.slide_io.VipsSlideReader object at 0x7f606355a2d0> False (783, 1024)\n",
      "<Slide, name = 2099>, width=1583, height=1210, channels=1, levels=1, RGB=False, dtype=uint8> <valis.slide_io.VipsSlideReader object at 0x7f606355b440> False (783, 1024)\n"
     ]
    },
    {
     "name": "stderr",
     "output_type": "stream",
     "text": [
      "Converting images:  80%|████████  | 2100/2624 [00:48<00:11, 44.26image/s]"
     ]
    },
    {
     "name": "stdout",
     "output_type": "stream",
     "text": [
      "<Slide, name = 2100>, width=1583, height=1210, channels=1, levels=1, RGB=False, dtype=uint8> <valis.slide_io.VipsSlideReader object at 0x7f606355af60> False (783, 1024)\n",
      "<Slide, name = 2101>, width=1583, height=1210, channels=1, levels=1, RGB=False, dtype=uint8> <valis.slide_io.VipsSlideReader object at 0x7f606355b1d0> False (783, 1024)\n",
      "<Slide, name = 2102>, width=1583, height=1210, channels=1, levels=1, RGB=False, dtype=uint8> <valis.slide_io.VipsSlideReader object at 0x7f6063558860> False (783, 1024)\n",
      "<Slide, name = 2103>, width=1583, height=1210, channels=1, levels=1, RGB=False, dtype=uint8> <valis.slide_io.VipsSlideReader object at 0x7f60635590a0> False (783, 1024)\n",
      "<Slide, name = 2104>, width=1583, height=1210, channels=1, levels=1, RGB=False, dtype=uint8> <valis.slide_io.VipsSlideReader object at 0x7f6063559c40> False (783, 1024)\n"
     ]
    },
    {
     "name": "stderr",
     "output_type": "stream",
     "text": [
      "Converting images:  80%|████████  | 2105/2624 [00:48<00:11, 44.31image/s]"
     ]
    },
    {
     "name": "stdout",
     "output_type": "stream",
     "text": [
      "<Slide, name = 2105>, width=1583, height=1210, channels=1, levels=1, RGB=False, dtype=uint8> <valis.slide_io.VipsSlideReader object at 0x7f6063559a30> False (783, 1024)\n",
      "<Slide, name = 2106>, width=1583, height=1210, channels=1, levels=1, RGB=False, dtype=uint8> <valis.slide_io.VipsSlideReader object at 0x7f6063559cd0> False (783, 1024)\n",
      "<Slide, name = 2107>, width=1583, height=1210, channels=1, levels=1, RGB=False, dtype=uint8> <valis.slide_io.VipsSlideReader object at 0x7f606355a870> False (783, 1024)\n",
      "<Slide, name = 2108>, width=1583, height=1210, channels=1, levels=1, RGB=False, dtype=uint8> <valis.slide_io.VipsSlideReader object at 0x7f60635593d0> False (783, 1024)\n",
      "<Slide, name = 2109>, width=1583, height=1210, channels=1, levels=1, RGB=False, dtype=uint8> <valis.slide_io.VipsSlideReader object at 0x7f6063559190> False (783, 1024)\n"
     ]
    },
    {
     "name": "stderr",
     "output_type": "stream",
     "text": [
      "Converting images:  80%|████████  | 2110/2624 [00:48<00:11, 44.18image/s]"
     ]
    },
    {
     "name": "stdout",
     "output_type": "stream",
     "text": [
      "<Slide, name = 2110>, width=1583, height=1210, channels=1, levels=1, RGB=False, dtype=uint8> <valis.slide_io.VipsSlideReader object at 0x7f606355a9f0> False (783, 1024)\n",
      "<Slide, name = 2111>, width=1583, height=1210, channels=1, levels=1, RGB=False, dtype=uint8> <valis.slide_io.VipsSlideReader object at 0x7f606355bb60> False (783, 1024)\n",
      "<Slide, name = 2112>, width=1583, height=1210, channels=1, levels=1, RGB=False, dtype=uint8> <valis.slide_io.VipsSlideReader object at 0x7f6063559820> False (783, 1024)\n",
      "<Slide, name = 2113>, width=1583, height=1210, channels=1, levels=1, RGB=False, dtype=uint8> <valis.slide_io.VipsSlideReader object at 0x7f6063559700> False (783, 1024)\n",
      "<Slide, name = 2114>, width=1583, height=1210, channels=1, levels=1, RGB=False, dtype=uint8> <valis.slide_io.VipsSlideReader object at 0x7f606355a720> False (783, 1024)\n"
     ]
    },
    {
     "name": "stderr",
     "output_type": "stream",
     "text": [
      "Converting images:  81%|████████  | 2115/2624 [00:48<00:11, 44.68image/s]"
     ]
    },
    {
     "name": "stdout",
     "output_type": "stream",
     "text": [
      "<Slide, name = 2115>, width=1583, height=1210, channels=1, levels=1, RGB=False, dtype=uint8> <valis.slide_io.VipsSlideReader object at 0x7f60635599a0> False (783, 1024)\n",
      "<Slide, name = 2116>, width=1583, height=1210, channels=1, levels=1, RGB=False, dtype=uint8> <valis.slide_io.VipsSlideReader object at 0x7f6063559e80> False (783, 1024)\n",
      "<Slide, name = 2117>, width=1583, height=1210, channels=1, levels=1, RGB=False, dtype=uint8> <valis.slide_io.VipsSlideReader object at 0x7f6063558530> False (783, 1024)\n",
      "<Slide, name = 2118>, width=1583, height=1210, channels=1, levels=1, RGB=False, dtype=uint8> <valis.slide_io.VipsSlideReader object at 0x7f60635580e0> False (783, 1024)\n",
      "<Slide, name = 2119>, width=1583, height=1210, channels=1, levels=1, RGB=False, dtype=uint8> <valis.slide_io.VipsSlideReader object at 0x7f6063558710> False (783, 1024)\n"
     ]
    },
    {
     "name": "stderr",
     "output_type": "stream",
     "text": [
      "Converting images:  81%|████████  | 2120/2624 [00:48<00:11, 44.69image/s]"
     ]
    },
    {
     "name": "stdout",
     "output_type": "stream",
     "text": [
      "<Slide, name = 2120>, width=1583, height=1210, channels=1, levels=1, RGB=False, dtype=uint8> <valis.slide_io.VipsSlideReader object at 0x7f6063558470> False (783, 1024)\n",
      "<Slide, name = 2121>, width=1583, height=1210, channels=1, levels=1, RGB=False, dtype=uint8> <valis.slide_io.VipsSlideReader object at 0x7f6063559400> False (783, 1024)\n",
      "<Slide, name = 2122>, width=1583, height=1210, channels=1, levels=1, RGB=False, dtype=uint8> <valis.slide_io.VipsSlideReader object at 0x7f6063559340> False (783, 1024)\n",
      "<Slide, name = 2123>, width=1583, height=1210, channels=1, levels=1, RGB=False, dtype=uint8> <valis.slide_io.VipsSlideReader object at 0x7f606355a300> False (783, 1024)\n",
      "<Slide, name = 2124>, width=1583, height=1210, channels=1, levels=1, RGB=False, dtype=uint8> <valis.slide_io.VipsSlideReader object at 0x7f6063559c70> False (783, 1024)\n"
     ]
    },
    {
     "name": "stderr",
     "output_type": "stream",
     "text": [
      "Converting images:  81%|████████  | 2125/2624 [00:48<00:11, 44.55image/s]"
     ]
    },
    {
     "name": "stdout",
     "output_type": "stream",
     "text": [
      "<Slide, name = 2125>, width=1583, height=1210, channels=1, levels=1, RGB=False, dtype=uint8> <valis.slide_io.VipsSlideReader object at 0x7f606355a8d0> False (783, 1024)\n",
      "<Slide, name = 2126>, width=1583, height=1210, channels=1, levels=1, RGB=False, dtype=uint8> <valis.slide_io.VipsSlideReader object at 0x7f6063578050> False (783, 1024)\n",
      "<Slide, name = 2127>, width=1583, height=1210, channels=1, levels=1, RGB=False, dtype=uint8> <valis.slide_io.VipsSlideReader object at 0x7f6063579940> False (783, 1024)\n",
      "<Slide, name = 2128>, width=1583, height=1210, channels=1, levels=1, RGB=False, dtype=uint8> <valis.slide_io.VipsSlideReader object at 0x7f60635788c0> False (783, 1024)\n",
      "<Slide, name = 2129>, width=1583, height=1210, channels=1, levels=1, RGB=False, dtype=uint8> <valis.slide_io.VipsSlideReader object at 0x7f6063578f80> False (783, 1024)\n"
     ]
    },
    {
     "name": "stderr",
     "output_type": "stream",
     "text": [
      "Converting images:  81%|████████  | 2130/2624 [00:48<00:11, 43.87image/s]"
     ]
    },
    {
     "name": "stdout",
     "output_type": "stream",
     "text": [
      "<Slide, name = 2130>, width=1583, height=1210, channels=1, levels=1, RGB=False, dtype=uint8> <valis.slide_io.VipsSlideReader object at 0x7f6063579730> False (783, 1024)\n",
      "<Slide, name = 2131>, width=1583, height=1210, channels=1, levels=1, RGB=False, dtype=uint8> <valis.slide_io.VipsSlideReader object at 0x7f6063579d30> False (783, 1024)\n",
      "<Slide, name = 2132>, width=1583, height=1210, channels=1, levels=1, RGB=False, dtype=uint8> <valis.slide_io.VipsSlideReader object at 0x7f606357a7b0> False (783, 1024)\n",
      "<Slide, name = 2133>, width=1583, height=1210, channels=1, levels=1, RGB=False, dtype=uint8> <valis.slide_io.VipsSlideReader object at 0x7f606357a3f0> False (783, 1024)\n",
      "<Slide, name = 2134>, width=1583, height=1210, channels=1, levels=1, RGB=False, dtype=uint8> <valis.slide_io.VipsSlideReader object at 0x7f6063579010> False (783, 1024)\n"
     ]
    },
    {
     "name": "stderr",
     "output_type": "stream",
     "text": [
      "Converting images:  81%|████████▏ | 2135/2624 [00:48<00:11, 43.99image/s]"
     ]
    },
    {
     "name": "stdout",
     "output_type": "stream",
     "text": [
      "<Slide, name = 2135>, width=1583, height=1210, channels=1, levels=1, RGB=False, dtype=uint8> <valis.slide_io.VipsSlideReader object at 0x7f606357bb90> False (783, 1024)\n",
      "<Slide, name = 2136>, width=1583, height=1210, channels=1, levels=1, RGB=False, dtype=uint8> <valis.slide_io.VipsSlideReader object at 0x7f6063578560> False (783, 1024)\n",
      "<Slide, name = 2137>, width=1583, height=1210, channels=1, levels=1, RGB=False, dtype=uint8> <valis.slide_io.VipsSlideReader object at 0x7f6063578620> False (783, 1024)\n",
      "<Slide, name = 2138>, width=1583, height=1210, channels=1, levels=1, RGB=False, dtype=uint8> <valis.slide_io.VipsSlideReader object at 0x7f6063578140> False (783, 1024)\n",
      "<Slide, name = 2139>, width=1583, height=1210, channels=1, levels=1, RGB=False, dtype=uint8> <valis.slide_io.VipsSlideReader object at 0x7f60635797c0> False (783, 1024)\n"
     ]
    },
    {
     "name": "stderr",
     "output_type": "stream",
     "text": [
      "Converting images:  82%|████████▏ | 2140/2624 [00:48<00:11, 43.99image/s]"
     ]
    },
    {
     "name": "stdout",
     "output_type": "stream",
     "text": [
      "<Slide, name = 2140>, width=1583, height=1210, channels=1, levels=1, RGB=False, dtype=uint8> <valis.slide_io.VipsSlideReader object at 0x7f606357aff0> False (783, 1024)\n",
      "<Slide, name = 2141>, width=1583, height=1210, channels=1, levels=1, RGB=False, dtype=uint8> <valis.slide_io.VipsSlideReader object at 0x7f606357bb00> False (783, 1024)\n",
      "<Slide, name = 2142>, width=1583, height=1210, channels=1, levels=1, RGB=False, dtype=uint8> <valis.slide_io.VipsSlideReader object at 0x7f606357aed0> False (783, 1024)\n",
      "<Slide, name = 2143>, width=1583, height=1210, channels=1, levels=1, RGB=False, dtype=uint8> <valis.slide_io.VipsSlideReader object at 0x7f606357b2f0> False (783, 1024)\n",
      "<Slide, name = 2144>, width=1583, height=1210, channels=1, levels=1, RGB=False, dtype=uint8> <valis.slide_io.VipsSlideReader object at 0x7f606357b200> False (783, 1024)\n"
     ]
    },
    {
     "name": "stderr",
     "output_type": "stream",
     "text": [
      "Converting images:  82%|████████▏ | 2145/2624 [00:49<00:10, 44.06image/s]"
     ]
    },
    {
     "name": "stdout",
     "output_type": "stream",
     "text": [
      "<Slide, name = 2145>, width=1583, height=1210, channels=1, levels=1, RGB=False, dtype=uint8> <valis.slide_io.VipsSlideReader object at 0x7f606357acc0> False (783, 1024)\n",
      "<Slide, name = 2146>, width=1583, height=1210, channels=1, levels=1, RGB=False, dtype=uint8> <valis.slide_io.VipsSlideReader object at 0x7f606357b080> False (783, 1024)\n",
      "<Slide, name = 2147>, width=1583, height=1210, channels=1, levels=1, RGB=False, dtype=uint8> <valis.slide_io.VipsSlideReader object at 0x7f606357a870> False (783, 1024)\n",
      "<Slide, name = 2148>, width=1583, height=1210, channels=1, levels=1, RGB=False, dtype=uint8> <valis.slide_io.VipsSlideReader object at 0x7f606357a810> False (783, 1024)\n",
      "<Slide, name = 2149>, width=1583, height=1210, channels=1, levels=1, RGB=False, dtype=uint8> <valis.slide_io.VipsSlideReader object at 0x7f606357b860> False (783, 1024)\n"
     ]
    },
    {
     "name": "stderr",
     "output_type": "stream",
     "text": [
      "Converting images:  82%|████████▏ | 2150/2624 [00:49<00:10, 44.57image/s]"
     ]
    },
    {
     "name": "stdout",
     "output_type": "stream",
     "text": [
      "<Slide, name = 2150>, width=1583, height=1210, channels=1, levels=1, RGB=False, dtype=uint8> <valis.slide_io.VipsSlideReader object at 0x7f606357b020> False (783, 1024)\n",
      "<Slide, name = 2151>, width=1583, height=1210, channels=1, levels=1, RGB=False, dtype=uint8> <valis.slide_io.VipsSlideReader object at 0x7f606357b440> False (783, 1024)\n",
      "<Slide, name = 2152>, width=1583, height=1210, channels=1, levels=1, RGB=False, dtype=uint8> <valis.slide_io.VipsSlideReader object at 0x7f606357b1d0> False (783, 1024)\n",
      "<Slide, name = 2153>, width=1583, height=1210, channels=1, levels=1, RGB=False, dtype=uint8> <valis.slide_io.VipsSlideReader object at 0x7f606360c9b0> False (783, 1024)\n",
      "<Slide, name = 2154>, width=1583, height=1210, channels=1, levels=1, RGB=False, dtype=uint8> <valis.slide_io.VipsSlideReader object at 0x7f606360cdd0> False (783, 1024)\n"
     ]
    },
    {
     "name": "stderr",
     "output_type": "stream",
     "text": [
      "Converting images:  82%|████████▏ | 2155/2624 [00:49<00:10, 45.03image/s]"
     ]
    },
    {
     "name": "stdout",
     "output_type": "stream",
     "text": [
      "<Slide, name = 2155>, width=1583, height=1210, channels=1, levels=1, RGB=False, dtype=uint8> <valis.slide_io.VipsSlideReader object at 0x7f606360ddc0> False (783, 1024)\n",
      "<Slide, name = 2156>, width=1583, height=1210, channels=1, levels=1, RGB=False, dtype=uint8> <valis.slide_io.VipsSlideReader object at 0x7f606360cd10> False (783, 1024)\n",
      "<Slide, name = 2157>, width=1583, height=1210, channels=1, levels=1, RGB=False, dtype=uint8> <valis.slide_io.VipsSlideReader object at 0x7f606360c0e0> False (783, 1024)\n",
      "<Slide, name = 2158>, width=1583, height=1210, channels=1, levels=1, RGB=False, dtype=uint8> <valis.slide_io.VipsSlideReader object at 0x7f606360df40> False (783, 1024)\n",
      "<Slide, name = 2159>, width=1583, height=1210, channels=1, levels=1, RGB=False, dtype=uint8> <valis.slide_io.VipsSlideReader object at 0x7f606360cb30> False (783, 1024)\n"
     ]
    },
    {
     "name": "stderr",
     "output_type": "stream",
     "text": [
      "Converting images:  82%|████████▏ | 2160/2624 [00:49<00:10, 44.90image/s]"
     ]
    },
    {
     "name": "stdout",
     "output_type": "stream",
     "text": [
      "<Slide, name = 2160>, width=1583, height=1210, channels=1, levels=1, RGB=False, dtype=uint8> <valis.slide_io.VipsSlideReader object at 0x7f606360c560> False (783, 1024)\n",
      "<Slide, name = 2161>, width=1583, height=1210, channels=1, levels=1, RGB=False, dtype=uint8> <valis.slide_io.VipsSlideReader object at 0x7f606360cec0> False (783, 1024)\n",
      "<Slide, name = 2162>, width=1583, height=1210, channels=1, levels=1, RGB=False, dtype=uint8> <valis.slide_io.VipsSlideReader object at 0x7f606360cce0> False (783, 1024)\n",
      "<Slide, name = 2163>, width=1583, height=1210, channels=1, levels=1, RGB=False, dtype=uint8> <valis.slide_io.VipsSlideReader object at 0x7f606360d2b0> False (783, 1024)\n",
      "<Slide, name = 2164>, width=1583, height=1210, channels=1, levels=1, RGB=False, dtype=uint8> <valis.slide_io.VipsSlideReader object at 0x7f606360d460> False (783, 1024)\n"
     ]
    },
    {
     "name": "stderr",
     "output_type": "stream",
     "text": [
      "Converting images:  83%|████████▎ | 2165/2624 [00:49<00:10, 44.34image/s]"
     ]
    },
    {
     "name": "stdout",
     "output_type": "stream",
     "text": [
      "<Slide, name = 2165>, width=1583, height=1210, channels=1, levels=1, RGB=False, dtype=uint8> <valis.slide_io.VipsSlideReader object at 0x7f606360d4c0> False (783, 1024)\n",
      "<Slide, name = 2166>, width=1583, height=1210, channels=1, levels=1, RGB=False, dtype=uint8> <valis.slide_io.VipsSlideReader object at 0x7f606360d220> False (783, 1024)\n",
      "<Slide, name = 2167>, width=1583, height=1210, channels=1, levels=1, RGB=False, dtype=uint8> <valis.slide_io.VipsSlideReader object at 0x7f606360dbb0> False (783, 1024)\n",
      "<Slide, name = 2168>, width=1583, height=1210, channels=1, levels=1, RGB=False, dtype=uint8> <valis.slide_io.VipsSlideReader object at 0x7f606360d790> False (783, 1024)\n",
      "<Slide, name = 2169>, width=1583, height=1210, channels=1, levels=1, RGB=False, dtype=uint8> <valis.slide_io.VipsSlideReader object at 0x7f606360d4f0> False (783, 1024)\n"
     ]
    },
    {
     "name": "stderr",
     "output_type": "stream",
     "text": [
      "Converting images:  83%|████████▎ | 2170/2624 [00:49<00:10, 43.64image/s]"
     ]
    },
    {
     "name": "stdout",
     "output_type": "stream",
     "text": [
      "<Slide, name = 2170>, width=1583, height=1210, channels=1, levels=1, RGB=False, dtype=uint8> <valis.slide_io.VipsSlideReader object at 0x7f606360d7f0> False (783, 1024)\n",
      "<Slide, name = 2171>, width=1583, height=1210, channels=1, levels=1, RGB=False, dtype=uint8> <valis.slide_io.VipsSlideReader object at 0x7f606360daf0> False (783, 1024)\n",
      "<Slide, name = 2172>, width=1583, height=1210, channels=1, levels=1, RGB=False, dtype=uint8> <valis.slide_io.VipsSlideReader object at 0x7f606360dc10> False (783, 1024)\n",
      "<Slide, name = 2173>, width=1583, height=1210, channels=1, levels=1, RGB=False, dtype=uint8> <valis.slide_io.VipsSlideReader object at 0x7f606360e0c0> False (783, 1024)\n",
      "<Slide, name = 2174>, width=1583, height=1210, channels=1, levels=1, RGB=False, dtype=uint8> <valis.slide_io.VipsSlideReader object at 0x7f606360d9a0> False (783, 1024)\n"
     ]
    },
    {
     "name": "stderr",
     "output_type": "stream",
     "text": [
      "Converting images:  83%|████████▎ | 2175/2624 [00:49<00:10, 43.07image/s]"
     ]
    },
    {
     "name": "stdout",
     "output_type": "stream",
     "text": [
      "<Slide, name = 2175>, width=1583, height=1210, channels=1, levels=1, RGB=False, dtype=uint8> <valis.slide_io.VipsSlideReader object at 0x7f606360e990> False (783, 1024)\n",
      "<Slide, name = 2176>, width=1583, height=1210, channels=1, levels=1, RGB=False, dtype=uint8> <valis.slide_io.VipsSlideReader object at 0x7f606360df70> False (783, 1024)\n",
      "<Slide, name = 2177>, width=1583, height=1210, channels=1, levels=1, RGB=False, dtype=uint8> <valis.slide_io.VipsSlideReader object at 0x7f606360dcd0> False (783, 1024)\n",
      "<Slide, name = 2178>, width=1583, height=1210, channels=1, levels=1, RGB=False, dtype=uint8> <valis.slide_io.VipsSlideReader object at 0x7f606360dfd0> False (783, 1024)\n",
      "<Slide, name = 2179>, width=1583, height=1210, channels=1, levels=1, RGB=False, dtype=uint8> <valis.slide_io.VipsSlideReader object at 0x7f606360e2a0> False (783, 1024)\n"
     ]
    },
    {
     "name": "stderr",
     "output_type": "stream",
     "text": [
      "Converting images:  83%|████████▎ | 2180/2624 [00:49<00:10, 42.71image/s]"
     ]
    },
    {
     "name": "stdout",
     "output_type": "stream",
     "text": [
      "<Slide, name = 2180>, width=1583, height=1210, channels=1, levels=1, RGB=False, dtype=uint8> <valis.slide_io.VipsSlideReader object at 0x7f606360e4b0> False (783, 1024)\n",
      "<Slide, name = 2181>, width=1583, height=1210, channels=1, levels=1, RGB=False, dtype=uint8> <valis.slide_io.VipsSlideReader object at 0x7f606360e000> False (783, 1024)\n",
      "<Slide, name = 2182>, width=1583, height=1210, channels=1, levels=1, RGB=False, dtype=uint8> <valis.slide_io.VipsSlideReader object at 0x7f606360e5d0> False (783, 1024)\n",
      "<Slide, name = 2183>, width=1583, height=1210, channels=1, levels=1, RGB=False, dtype=uint8> <valis.slide_io.VipsSlideReader object at 0x7f606360e7e0> False (783, 1024)\n",
      "<Slide, name = 2184>, width=1583, height=1210, channels=1, levels=1, RGB=False, dtype=uint8> <valis.slide_io.VipsSlideReader object at 0x7f606360ea80> False (783, 1024)\n"
     ]
    },
    {
     "name": "stderr",
     "output_type": "stream",
     "text": [
      "Converting images:  83%|████████▎ | 2185/2624 [00:50<00:10, 42.68image/s]"
     ]
    },
    {
     "name": "stdout",
     "output_type": "stream",
     "text": [
      "<Slide, name = 2185>, width=1583, height=1210, channels=1, levels=1, RGB=False, dtype=uint8> <valis.slide_io.VipsSlideReader object at 0x7f606360e3f0> False (783, 1024)\n",
      "<Slide, name = 2186>, width=1583, height=1210, channels=1, levels=1, RGB=False, dtype=uint8> <valis.slide_io.VipsSlideReader object at 0x7f606360e4e0> False (783, 1024)\n",
      "<Slide, name = 2187>, width=1583, height=1210, channels=1, levels=1, RGB=False, dtype=uint8> <valis.slide_io.VipsSlideReader object at 0x7f606360e630> False (783, 1024)\n",
      "<Slide, name = 2188>, width=1583, height=1210, channels=1, levels=1, RGB=False, dtype=uint8> <valis.slide_io.VipsSlideReader object at 0x7f606360e660> False (783, 1024)\n",
      "<Slide, name = 2189>, width=1583, height=1210, channels=1, levels=1, RGB=False, dtype=uint8> <valis.slide_io.VipsSlideReader object at 0x7f606360eba0> False (783, 1024)\n"
     ]
    },
    {
     "name": "stderr",
     "output_type": "stream",
     "text": [
      "Converting images:  83%|████████▎ | 2190/2624 [00:50<00:10, 43.08image/s]"
     ]
    },
    {
     "name": "stdout",
     "output_type": "stream",
     "text": [
      "<Slide, name = 2190>, width=1583, height=1210, channels=1, levels=1, RGB=False, dtype=uint8> <valis.slide_io.VipsSlideReader object at 0x7f606360eab0> False (783, 1024)\n",
      "<Slide, name = 2191>, width=1583, height=1210, channels=1, levels=1, RGB=False, dtype=uint8> <valis.slide_io.VipsSlideReader object at 0x7f606360ed50> False (783, 1024)\n",
      "<Slide, name = 2192>, width=1583, height=1210, channels=1, levels=1, RGB=False, dtype=uint8> <valis.slide_io.VipsSlideReader object at 0x7f606360ef60> False (783, 1024)\n",
      "<Slide, name = 2193>, width=1583, height=1210, channels=1, levels=1, RGB=False, dtype=uint8> <valis.slide_io.VipsSlideReader object at 0x7f606360ebd0> False (783, 1024)\n",
      "<Slide, name = 2194>, width=1583, height=1210, channels=1, levels=1, RGB=False, dtype=uint8> <valis.slide_io.VipsSlideReader object at 0x7f606360ee70> False (783, 1024)\n"
     ]
    },
    {
     "name": "stderr",
     "output_type": "stream",
     "text": [
      "Converting images:  84%|████████▎ | 2195/2624 [00:50<00:09, 43.38image/s]"
     ]
    },
    {
     "name": "stdout",
     "output_type": "stream",
     "text": [
      "<Slide, name = 2195>, width=1583, height=1210, channels=1, levels=1, RGB=False, dtype=uint8> <valis.slide_io.VipsSlideReader object at 0x7f606360f110> False (783, 1024)\n",
      "<Slide, name = 2196>, width=1583, height=1210, channels=1, levels=1, RGB=False, dtype=uint8> <valis.slide_io.VipsSlideReader object at 0x7f606360ee40> False (783, 1024)\n",
      "<Slide, name = 2197>, width=1583, height=1210, channels=1, levels=1, RGB=False, dtype=uint8> <valis.slide_io.VipsSlideReader object at 0x7f606360f350> False (783, 1024)\n",
      "<Slide, name = 2198>, width=1583, height=1210, channels=1, levels=1, RGB=False, dtype=uint8> <valis.slide_io.VipsSlideReader object at 0x7f606360f410> False (783, 1024)\n",
      "<Slide, name = 2199>, width=1583, height=1210, channels=1, levels=1, RGB=False, dtype=uint8> <valis.slide_io.VipsSlideReader object at 0x7f606360fb90> False (783, 1024)\n"
     ]
    },
    {
     "name": "stderr",
     "output_type": "stream",
     "text": [
      "Converting images:  84%|████████▍ | 2200/2624 [00:50<00:09, 43.44image/s]"
     ]
    },
    {
     "name": "stdout",
     "output_type": "stream",
     "text": [
      "<Slide, name = 2200>, width=1583, height=1210, channels=1, levels=1, RGB=False, dtype=uint8> <valis.slide_io.VipsSlideReader object at 0x7f606360c410> False (783, 1024)\n",
      "<Slide, name = 2201>, width=1583, height=1210, channels=1, levels=1, RGB=False, dtype=uint8> <valis.slide_io.VipsSlideReader object at 0x7f606360f3b0> False (783, 1024)\n",
      "<Slide, name = 2202>, width=1583, height=1210, channels=1, levels=1, RGB=False, dtype=uint8> <valis.slide_io.VipsSlideReader object at 0x7f606360f230> False (783, 1024)\n",
      "<Slide, name = 2203>, width=1583, height=1210, channels=1, levels=1, RGB=False, dtype=uint8> <valis.slide_io.VipsSlideReader object at 0x7f606360f6b0> False (783, 1024)\n",
      "<Slide, name = 2204>, width=1583, height=1210, channels=1, levels=1, RGB=False, dtype=uint8> <valis.slide_io.VipsSlideReader object at 0x7f606360fb00> False (783, 1024)\n"
     ]
    },
    {
     "name": "stderr",
     "output_type": "stream",
     "text": [
      "Converting images:  84%|████████▍ | 2205/2624 [00:50<00:09, 43.04image/s]"
     ]
    },
    {
     "name": "stdout",
     "output_type": "stream",
     "text": [
      "<Slide, name = 2205>, width=1583, height=1210, channels=1, levels=1, RGB=False, dtype=uint8> <valis.slide_io.VipsSlideReader object at 0x7f606360f740> False (783, 1024)\n",
      "<Slide, name = 2206>, width=1583, height=1210, channels=1, levels=1, RGB=False, dtype=uint8> <valis.slide_io.VipsSlideReader object at 0x7f606360fef0> False (783, 1024)\n",
      "<Slide, name = 2207>, width=1583, height=1210, channels=1, levels=1, RGB=False, dtype=uint8> <valis.slide_io.VipsSlideReader object at 0x7f606360fbc0> False (783, 1024)\n",
      "<Slide, name = 2208>, width=1583, height=1210, channels=1, levels=1, RGB=False, dtype=uint8> <valis.slide_io.VipsSlideReader object at 0x7f606360fa70> False (783, 1024)\n",
      "<Slide, name = 2209>, width=1583, height=1210, channels=1, levels=1, RGB=False, dtype=uint8> <valis.slide_io.VipsSlideReader object at 0x7f606360fe30> False (783, 1024)\n"
     ]
    },
    {
     "name": "stderr",
     "output_type": "stream",
     "text": [
      "Converting images:  84%|████████▍ | 2210/2624 [00:50<00:09, 42.69image/s]"
     ]
    },
    {
     "name": "stdout",
     "output_type": "stream",
     "text": [
      "<Slide, name = 2210>, width=1583, height=1210, channels=1, levels=1, RGB=False, dtype=uint8> <valis.slide_io.VipsSlideReader object at 0x7f606360d1c0> False (783, 1024)\n",
      "<Slide, name = 2211>, width=1583, height=1210, channels=1, levels=1, RGB=False, dtype=uint8> <valis.slide_io.VipsSlideReader object at 0x7f606360fdd0> False (783, 1024)\n",
      "<Slide, name = 2212>, width=1583, height=1210, channels=1, levels=1, RGB=False, dtype=uint8> <valis.slide_io.VipsSlideReader object at 0x7f60635bd760> False (783, 1024)\n",
      "<Slide, name = 2213>, width=1583, height=1210, channels=1, levels=1, RGB=False, dtype=uint8> <valis.slide_io.VipsSlideReader object at 0x7f60635bd0a0> False (783, 1024)\n",
      "<Slide, name = 2214>, width=1583, height=1210, channels=1, levels=1, RGB=False, dtype=uint8> <valis.slide_io.VipsSlideReader object at 0x7f60635bfaa0> False (783, 1024)\n"
     ]
    },
    {
     "name": "stderr",
     "output_type": "stream",
     "text": [
      "Converting images:  84%|████████▍ | 2215/2624 [00:50<00:09, 42.73image/s]"
     ]
    },
    {
     "name": "stdout",
     "output_type": "stream",
     "text": [
      "<Slide, name = 2215>, width=1583, height=1210, channels=1, levels=1, RGB=False, dtype=uint8> <valis.slide_io.VipsSlideReader object at 0x7f60635bf560> False (783, 1024)\n",
      "<Slide, name = 2216>, width=1583, height=1210, channels=1, levels=1, RGB=False, dtype=uint8> <valis.slide_io.VipsSlideReader object at 0x7f60635be2a0> False (783, 1024)\n",
      "<Slide, name = 2217>, width=1583, height=1210, channels=1, levels=1, RGB=False, dtype=uint8> <valis.slide_io.VipsSlideReader object at 0x7f60635bc0e0> False (783, 1024)\n",
      "<Slide, name = 2218>, width=1583, height=1210, channels=1, levels=1, RGB=False, dtype=uint8> <valis.slide_io.VipsSlideReader object at 0x7f60635bfda0> False (783, 1024)\n",
      "<Slide, name = 2219>, width=1583, height=1210, channels=1, levels=1, RGB=False, dtype=uint8> <valis.slide_io.VipsSlideReader object at 0x7f60635bd160> False (783, 1024)\n"
     ]
    },
    {
     "name": "stderr",
     "output_type": "stream",
     "text": [
      "Converting images:  85%|████████▍ | 2220/2624 [00:50<00:09, 42.91image/s]"
     ]
    },
    {
     "name": "stdout",
     "output_type": "stream",
     "text": [
      "<Slide, name = 2220>, width=1583, height=1210, channels=1, levels=1, RGB=False, dtype=uint8> <valis.slide_io.VipsSlideReader object at 0x7f60635bed20> False (783, 1024)\n",
      "<Slide, name = 2221>, width=1583, height=1210, channels=1, levels=1, RGB=False, dtype=uint8> <valis.slide_io.VipsSlideReader object at 0x7f60635be7e0> False (783, 1024)\n",
      "<Slide, name = 2222>, width=1583, height=1210, channels=1, levels=1, RGB=False, dtype=uint8> <valis.slide_io.VipsSlideReader object at 0x7f60635be660> False (783, 1024)\n",
      "<Slide, name = 2223>, width=1583, height=1210, channels=1, levels=1, RGB=False, dtype=uint8> <valis.slide_io.VipsSlideReader object at 0x7f60635bd8e0> False (783, 1024)\n",
      "<Slide, name = 2224>, width=1583, height=1210, channels=1, levels=1, RGB=False, dtype=uint8> <valis.slide_io.VipsSlideReader object at 0x7f60635bd820> False (783, 1024)\n"
     ]
    },
    {
     "name": "stderr",
     "output_type": "stream",
     "text": [
      "Converting images:  85%|████████▍ | 2225/2624 [00:50<00:09, 42.97image/s]"
     ]
    },
    {
     "name": "stdout",
     "output_type": "stream",
     "text": [
      "<Slide, name = 2225>, width=1583, height=1210, channels=1, levels=1, RGB=False, dtype=uint8> <valis.slide_io.VipsSlideReader object at 0x7f60635bcaa0> False (783, 1024)\n",
      "<Slide, name = 2226>, width=1583, height=1210, channels=1, levels=1, RGB=False, dtype=uint8> <valis.slide_io.VipsSlideReader object at 0x7f60635bc7a0> False (783, 1024)\n",
      "<Slide, name = 2227>, width=1583, height=1210, channels=1, levels=1, RGB=False, dtype=uint8> <valis.slide_io.VipsSlideReader object at 0x7f60635bc3e0> False (783, 1024)\n",
      "<Slide, name = 2228>, width=1583, height=1210, channels=1, levels=1, RGB=False, dtype=uint8> <valis.slide_io.VipsSlideReader object at 0x7f60635bfe60> False (783, 1024)\n",
      "<Slide, name = 2229>, width=1583, height=1210, channels=1, levels=1, RGB=False, dtype=uint8> <valis.slide_io.VipsSlideReader object at 0x7f60635bff50> False (783, 1024)\n"
     ]
    },
    {
     "name": "stderr",
     "output_type": "stream",
     "text": [
      "Converting images:  85%|████████▍ | 2230/2624 [00:51<00:09, 42.44image/s]"
     ]
    },
    {
     "name": "stdout",
     "output_type": "stream",
     "text": [
      "<Slide, name = 2230>, width=1583, height=1210, channels=1, levels=1, RGB=False, dtype=uint8> <valis.slide_io.VipsSlideReader object at 0x7f60635bfdd0> False (783, 1024)\n",
      "<Slide, name = 2231>, width=1583, height=1210, channels=1, levels=1, RGB=False, dtype=uint8> <valis.slide_io.VipsSlideReader object at 0x7f60635bfc50> False (783, 1024)\n",
      "<Slide, name = 2232>, width=1583, height=1210, channels=1, levels=1, RGB=False, dtype=uint8> <valis.slide_io.VipsSlideReader object at 0x7f60635bfcb0> False (783, 1024)\n",
      "<Slide, name = 2233>, width=1583, height=1210, channels=1, levels=1, RGB=False, dtype=uint8> <valis.slide_io.VipsSlideReader object at 0x7f60635bfe00> False (783, 1024)\n",
      "<Slide, name = 2234>, width=1583, height=1210, channels=1, levels=1, RGB=False, dtype=uint8> <valis.slide_io.VipsSlideReader object at 0x7f60635bf950> False (783, 1024)\n"
     ]
    },
    {
     "name": "stderr",
     "output_type": "stream",
     "text": [
      "Converting images:  85%|████████▌ | 2235/2624 [00:51<00:09, 42.64image/s]"
     ]
    },
    {
     "name": "stdout",
     "output_type": "stream",
     "text": [
      "<Slide, name = 2235>, width=1583, height=1210, channels=1, levels=1, RGB=False, dtype=uint8> <valis.slide_io.VipsSlideReader object at 0x7f60635bf9b0> False (783, 1024)\n",
      "<Slide, name = 2236>, width=1583, height=1210, channels=1, levels=1, RGB=False, dtype=uint8> <valis.slide_io.VipsSlideReader object at 0x7f60635bfb00> False (783, 1024)\n",
      "<Slide, name = 2237>, width=1583, height=1210, channels=1, levels=1, RGB=False, dtype=uint8> <valis.slide_io.VipsSlideReader object at 0x7f60635bf650> False (783, 1024)\n",
      "<Slide, name = 2238>, width=1583, height=1210, channels=1, levels=1, RGB=False, dtype=uint8> <valis.slide_io.VipsSlideReader object at 0x7f60635bf6b0> False (783, 1024)\n",
      "<Slide, name = 2239>, width=1583, height=1210, channels=1, levels=1, RGB=False, dtype=uint8> <valis.slide_io.VipsSlideReader object at 0x7f60635bf800> False (783, 1024)\n"
     ]
    },
    {
     "name": "stderr",
     "output_type": "stream",
     "text": [
      "Converting images:  85%|████████▌ | 2240/2624 [00:51<00:09, 42.65image/s]"
     ]
    },
    {
     "name": "stdout",
     "output_type": "stream",
     "text": [
      "<Slide, name = 2240>, width=1583, height=1210, channels=1, levels=1, RGB=False, dtype=uint8> <valis.slide_io.VipsSlideReader object at 0x7f60635bf350> False (783, 1024)\n",
      "<Slide, name = 2241>, width=1583, height=1210, channels=1, levels=1, RGB=False, dtype=uint8> <valis.slide_io.VipsSlideReader object at 0x7f60635bf3b0> False (783, 1024)\n",
      "<Slide, name = 2242>, width=1583, height=1210, channels=1, levels=1, RGB=False, dtype=uint8> <valis.slide_io.VipsSlideReader object at 0x7f60635bf500> False (783, 1024)\n",
      "<Slide, name = 2243>, width=1583, height=1210, channels=1, levels=1, RGB=False, dtype=uint8> <valis.slide_io.VipsSlideReader object at 0x7f60635bf050> False (783, 1024)\n",
      "<Slide, name = 2244>, width=1583, height=1210, channels=1, levels=1, RGB=False, dtype=uint8> <valis.slide_io.VipsSlideReader object at 0x7f60635bf0b0> False (783, 1024)\n"
     ]
    },
    {
     "name": "stderr",
     "output_type": "stream",
     "text": [
      "Converting images:  86%|████████▌ | 2245/2624 [00:51<00:08, 42.67image/s]"
     ]
    },
    {
     "name": "stdout",
     "output_type": "stream",
     "text": [
      "<Slide, name = 2245>, width=1583, height=1210, channels=1, levels=1, RGB=False, dtype=uint8> <valis.slide_io.VipsSlideReader object at 0x7f60635bf200> False (783, 1024)\n",
      "<Slide, name = 2246>, width=1583, height=1210, channels=1, levels=1, RGB=False, dtype=uint8> <valis.slide_io.VipsSlideReader object at 0x7f60635bed50> False (783, 1024)\n",
      "<Slide, name = 2247>, width=1583, height=1210, channels=1, levels=1, RGB=False, dtype=uint8> <valis.slide_io.VipsSlideReader object at 0x7f60635bedb0> False (783, 1024)\n",
      "<Slide, name = 2248>, width=1583, height=1210, channels=1, levels=1, RGB=False, dtype=uint8> <valis.slide_io.VipsSlideReader object at 0x7f60635bef00> False (783, 1024)\n",
      "<Slide, name = 2249>, width=1583, height=1210, channels=1, levels=1, RGB=False, dtype=uint8> <valis.slide_io.VipsSlideReader object at 0x7f60635bea50> False (783, 1024)\n"
     ]
    },
    {
     "name": "stderr",
     "output_type": "stream",
     "text": [
      "Converting images:  86%|████████▌ | 2250/2624 [00:51<00:08, 42.81image/s]"
     ]
    },
    {
     "name": "stdout",
     "output_type": "stream",
     "text": [
      "<Slide, name = 2250>, width=1583, height=1210, channels=1, levels=1, RGB=False, dtype=uint8> <valis.slide_io.VipsSlideReader object at 0x7f60635beab0> False (783, 1024)\n",
      "<Slide, name = 2251>, width=1583, height=1210, channels=1, levels=1, RGB=False, dtype=uint8> <valis.slide_io.VipsSlideReader object at 0x7f60635bec00> False (783, 1024)\n",
      "<Slide, name = 2252>, width=1583, height=1210, channels=1, levels=1, RGB=False, dtype=uint8> <valis.slide_io.VipsSlideReader object at 0x7f60635be750> False (783, 1024)\n",
      "<Slide, name = 2253>, width=1583, height=1210, channels=1, levels=1, RGB=False, dtype=uint8> <valis.slide_io.VipsSlideReader object at 0x7f60635be7b0> False (783, 1024)\n",
      "<Slide, name = 2254>, width=1583, height=1210, channels=1, levels=1, RGB=False, dtype=uint8> <valis.slide_io.VipsSlideReader object at 0x7f60635be900> False (783, 1024)\n"
     ]
    },
    {
     "name": "stderr",
     "output_type": "stream",
     "text": [
      "Converting images:  86%|████████▌ | 2255/2624 [00:51<00:08, 42.68image/s]"
     ]
    },
    {
     "name": "stdout",
     "output_type": "stream",
     "text": [
      "<Slide, name = 2255>, width=1583, height=1210, channels=1, levels=1, RGB=False, dtype=uint8> <valis.slide_io.VipsSlideReader object at 0x7f60635be450> False (783, 1024)\n",
      "<Slide, name = 2256>, width=1583, height=1210, channels=1, levels=1, RGB=False, dtype=uint8> <valis.slide_io.VipsSlideReader object at 0x7f60635be4b0> False (783, 1024)\n",
      "<Slide, name = 2257>, width=1583, height=1210, channels=1, levels=1, RGB=False, dtype=uint8> <valis.slide_io.VipsSlideReader object at 0x7f60635be600> False (783, 1024)\n",
      "<Slide, name = 2258>, width=1583, height=1210, channels=1, levels=1, RGB=False, dtype=uint8> <valis.slide_io.VipsSlideReader object at 0x7f60635be150> False (783, 1024)\n",
      "<Slide, name = 2259>, width=1583, height=1210, channels=1, levels=1, RGB=False, dtype=uint8> <valis.slide_io.VipsSlideReader object at 0x7f60635be1b0> False (783, 1024)\n"
     ]
    },
    {
     "name": "stderr",
     "output_type": "stream",
     "text": [
      "Converting images:  86%|████████▌ | 2260/2624 [00:51<00:08, 42.25image/s]"
     ]
    },
    {
     "name": "stdout",
     "output_type": "stream",
     "text": [
      "<Slide, name = 2260>, width=1583, height=1210, channels=1, levels=1, RGB=False, dtype=uint8> <valis.slide_io.VipsSlideReader object at 0x7f60635be300> False (783, 1024)\n",
      "<Slide, name = 2261>, width=1583, height=1210, channels=1, levels=1, RGB=False, dtype=uint8> <valis.slide_io.VipsSlideReader object at 0x7f60635bde50> False (783, 1024)\n",
      "<Slide, name = 2262>, width=1583, height=1210, channels=1, levels=1, RGB=False, dtype=uint8> <valis.slide_io.VipsSlideReader object at 0x7f60635bdeb0> False (783, 1024)\n",
      "<Slide, name = 2263>, width=1583, height=1210, channels=1, levels=1, RGB=False, dtype=uint8> <valis.slide_io.VipsSlideReader object at 0x7f60635be000> False (783, 1024)\n",
      "<Slide, name = 2264>, width=1583, height=1210, channels=1, levels=1, RGB=False, dtype=uint8> <valis.slide_io.VipsSlideReader object at 0x7f60635bdb50> False (783, 1024)\n"
     ]
    },
    {
     "name": "stderr",
     "output_type": "stream",
     "text": [
      "Converting images:  86%|████████▋ | 2265/2624 [00:51<00:08, 42.12image/s]"
     ]
    },
    {
     "name": "stdout",
     "output_type": "stream",
     "text": [
      "<Slide, name = 2265>, width=1583, height=1210, channels=1, levels=1, RGB=False, dtype=uint8> <valis.slide_io.VipsSlideReader object at 0x7f60635bd790> False (783, 1024)\n",
      "<Slide, name = 2266>, width=1583, height=1210, channels=1, levels=1, RGB=False, dtype=uint8> <valis.slide_io.VipsSlideReader object at 0x7f60635bd6a0> False (783, 1024)\n",
      "<Slide, name = 2267>, width=1583, height=1210, channels=1, levels=1, RGB=False, dtype=uint8> <valis.slide_io.VipsSlideReader object at 0x7f60635bdb80> False (783, 1024)\n",
      "<Slide, name = 2268>, width=1583, height=1210, channels=1, levels=1, RGB=False, dtype=uint8> <valis.slide_io.VipsSlideReader object at 0x7f60635bd850> False (783, 1024)\n",
      "<Slide, name = 2269>, width=1583, height=1210, channels=1, levels=1, RGB=False, dtype=uint8> <valis.slide_io.VipsSlideReader object at 0x7f60635bda00> False (783, 1024)\n"
     ]
    },
    {
     "name": "stderr",
     "output_type": "stream",
     "text": [
      "Converting images:  87%|████████▋ | 2270/2624 [00:52<00:08, 42.21image/s]"
     ]
    },
    {
     "name": "stdout",
     "output_type": "stream",
     "text": [
      "<Slide, name = 2270>, width=1583, height=1210, channels=1, levels=1, RGB=False, dtype=uint8> <valis.slide_io.VipsSlideReader object at 0x7f60635bd640> False (783, 1024)\n",
      "<Slide, name = 2271>, width=1583, height=1210, channels=1, levels=1, RGB=False, dtype=uint8> <valis.slide_io.VipsSlideReader object at 0x7f60635bf7a0> False (783, 1024)\n",
      "<Slide, name = 2272>, width=1583, height=1210, channels=1, levels=1, RGB=False, dtype=uint8> <valis.slide_io.VipsSlideReader object at 0x7f60635bd430> False (783, 1024)\n",
      "<Slide, name = 2273>, width=1583, height=1210, channels=1, levels=1, RGB=False, dtype=uint8> <valis.slide_io.VipsSlideReader object at 0x7f60635bd700> False (783, 1024)\n",
      "<Slide, name = 2274>, width=1583, height=1210, channels=1, levels=1, RGB=False, dtype=uint8> <valis.slide_io.VipsSlideReader object at 0x7f60635bd2b0> False (783, 1024)\n"
     ]
    },
    {
     "name": "stderr",
     "output_type": "stream",
     "text": [
      "Converting images:  87%|████████▋ | 2275/2624 [00:52<00:08, 41.71image/s]"
     ]
    },
    {
     "name": "stdout",
     "output_type": "stream",
     "text": [
      "<Slide, name = 2275>, width=1583, height=1210, channels=1, levels=1, RGB=False, dtype=uint8> <valis.slide_io.VipsSlideReader object at 0x7f60635bd400> False (783, 1024)\n",
      "<Slide, name = 2276>, width=1583, height=1210, channels=1, levels=1, RGB=False, dtype=uint8> <valis.slide_io.VipsSlideReader object at 0x7f60635bcf50> False (783, 1024)\n",
      "<Slide, name = 2277>, width=1583, height=1210, channels=1, levels=1, RGB=False, dtype=uint8> <valis.slide_io.VipsSlideReader object at 0x7f60635bcfb0> False (783, 1024)\n",
      "<Slide, name = 2278>, width=1583, height=1210, channels=1, levels=1, RGB=False, dtype=uint8> <valis.slide_io.VipsSlideReader object at 0x7f60635bd100> False (783, 1024)\n",
      "<Slide, name = 2279>, width=1583, height=1210, channels=1, levels=1, RGB=False, dtype=uint8> <valis.slide_io.VipsSlideReader object at 0x7f60635bcc50> False (783, 1024)\n"
     ]
    },
    {
     "name": "stderr",
     "output_type": "stream",
     "text": [
      "Converting images:  87%|████████▋ | 2280/2624 [00:52<00:08, 41.37image/s]"
     ]
    },
    {
     "name": "stdout",
     "output_type": "stream",
     "text": [
      "<Slide, name = 2280>, width=1583, height=1210, channels=1, levels=1, RGB=False, dtype=uint8> <valis.slide_io.VipsSlideReader object at 0x7f60635bccb0> False (783, 1024)\n",
      "<Slide, name = 2281>, width=1583, height=1210, channels=1, levels=1, RGB=False, dtype=uint8> <valis.slide_io.VipsSlideReader object at 0x7f60635bc8f0> False (783, 1024)\n",
      "<Slide, name = 2282>, width=1583, height=1210, channels=1, levels=1, RGB=False, dtype=uint8> <valis.slide_io.VipsSlideReader object at 0x7f60635bcc80> False (783, 1024)\n",
      "<Slide, name = 2283>, width=1583, height=1210, channels=1, levels=1, RGB=False, dtype=uint8> <valis.slide_io.VipsSlideReader object at 0x7f60635bc950> False (783, 1024)\n",
      "<Slide, name = 2284>, width=1583, height=1210, channels=1, levels=1, RGB=False, dtype=uint8> <valis.slide_io.VipsSlideReader object at 0x7f60635bc980> False (783, 1024)\n"
     ]
    },
    {
     "name": "stderr",
     "output_type": "stream",
     "text": [
      "Converting images:  87%|████████▋ | 2285/2624 [00:52<00:08, 41.23image/s]"
     ]
    },
    {
     "name": "stdout",
     "output_type": "stream",
     "text": [
      "<Slide, name = 2285>, width=1583, height=1210, channels=1, levels=1, RGB=False, dtype=uint8> <valis.slide_io.VipsSlideReader object at 0x7f60635bc770> False (783, 1024)\n",
      "<Slide, name = 2286>, width=1583, height=1210, channels=1, levels=1, RGB=False, dtype=uint8> <valis.slide_io.VipsSlideReader object at 0x7f60635bc8c0> False (783, 1024)\n",
      "<Slide, name = 2287>, width=1583, height=1210, channels=1, levels=1, RGB=False, dtype=uint8> <valis.slide_io.VipsSlideReader object at 0x7f60635bc530> False (783, 1024)\n",
      "<Slide, name = 2288>, width=1583, height=1210, channels=1, levels=1, RGB=False, dtype=uint8> <valis.slide_io.VipsSlideReader object at 0x7f60635bc050> False (783, 1024)\n",
      "<Slide, name = 2289>, width=1583, height=1210, channels=1, levels=1, RGB=False, dtype=uint8> <valis.slide_io.VipsSlideReader object at 0x7f60635bc320> False (783, 1024)\n"
     ]
    },
    {
     "name": "stderr",
     "output_type": "stream",
     "text": [
      "Converting images:  87%|████████▋ | 2290/2624 [00:52<00:08, 41.24image/s]"
     ]
    },
    {
     "name": "stdout",
     "output_type": "stream",
     "text": [
      "<Slide, name = 2290>, width=1583, height=1210, channels=1, levels=1, RGB=False, dtype=uint8> <valis.slide_io.VipsSlideReader object at 0x7f60635bc350> False (783, 1024)\n",
      "<Slide, name = 2291>, width=1583, height=1210, channels=1, levels=1, RGB=False, dtype=uint8> <valis.slide_io.VipsSlideReader object at 0x7f60635bc170> False (783, 1024)\n",
      "<Slide, name = 2292>, width=1583, height=1210, channels=1, levels=1, RGB=False, dtype=uint8> <valis.slide_io.VipsSlideReader object at 0x7f60635bde20> False (783, 1024)\n",
      "<Slide, name = 2293>, width=1583, height=1210, channels=1, levels=1, RGB=False, dtype=uint8> <valis.slide_io.VipsSlideReader object at 0x7f60635bc2c0> False (783, 1024)\n",
      "<Slide, name = 2294>, width=1583, height=1210, channels=1, levels=1, RGB=False, dtype=uint8> <valis.slide_io.VipsSlideReader object at 0x7f60635bcb60> False (783, 1024)\n"
     ]
    },
    {
     "name": "stderr",
     "output_type": "stream",
     "text": [
      "Converting images:  87%|████████▋ | 2295/2624 [00:52<00:07, 41.15image/s]"
     ]
    },
    {
     "name": "stdout",
     "output_type": "stream",
     "text": [
      "<Slide, name = 2295>, width=1583, height=1210, channels=1, levels=1, RGB=False, dtype=uint8> <valis.slide_io.VipsSlideReader object at 0x7f60635bd460> False (783, 1024)\n",
      "<Slide, name = 2296>, width=1583, height=1210, channels=1, levels=1, RGB=False, dtype=uint8> <valis.slide_io.VipsSlideReader object at 0x7f6063560320> False (783, 1024)\n",
      "<Slide, name = 2297>, width=1583, height=1210, channels=1, levels=1, RGB=False, dtype=uint8> <valis.slide_io.VipsSlideReader object at 0x7f6063560110> False (783, 1024)\n",
      "<Slide, name = 2298>, width=1583, height=1210, channels=1, levels=1, RGB=False, dtype=uint8> <valis.slide_io.VipsSlideReader object at 0x7f60635600e0> False (783, 1024)\n",
      "<Slide, name = 2299>, width=1583, height=1210, channels=1, levels=1, RGB=False, dtype=uint8> <valis.slide_io.VipsSlideReader object at 0x7f60635602c0> False (783, 1024)\n"
     ]
    },
    {
     "name": "stderr",
     "output_type": "stream",
     "text": [
      "Converting images:  88%|████████▊ | 2300/2624 [00:52<00:07, 40.71image/s]"
     ]
    },
    {
     "name": "stdout",
     "output_type": "stream",
     "text": [
      "<Slide, name = 2300>, width=1583, height=1210, channels=1, levels=1, RGB=False, dtype=uint8> <valis.slide_io.VipsSlideReader object at 0x7f6063560380> False (783, 1024)\n",
      "<Slide, name = 2301>, width=1583, height=1210, channels=1, levels=1, RGB=False, dtype=uint8> <valis.slide_io.VipsSlideReader object at 0x7f6063560440> False (783, 1024)\n",
      "<Slide, name = 2302>, width=1583, height=1210, channels=1, levels=1, RGB=False, dtype=uint8> <valis.slide_io.VipsSlideReader object at 0x7f6063560500> False (783, 1024)\n",
      "<Slide, name = 2303>, width=1583, height=1210, channels=1, levels=1, RGB=False, dtype=uint8> <valis.slide_io.VipsSlideReader object at 0x7f60635605c0> False (783, 1024)\n",
      "<Slide, name = 2304>, width=1583, height=1210, channels=1, levels=1, RGB=False, dtype=uint8> <valis.slide_io.VipsSlideReader object at 0x7f6063560680> False (783, 1024)\n"
     ]
    },
    {
     "name": "stderr",
     "output_type": "stream",
     "text": [
      "Converting images:  88%|████████▊ | 2305/2624 [00:52<00:08, 39.84image/s]"
     ]
    },
    {
     "name": "stdout",
     "output_type": "stream",
     "text": [
      "<Slide, name = 2305>, width=1583, height=1210, channels=1, levels=1, RGB=False, dtype=uint8> <valis.slide_io.VipsSlideReader object at 0x7f6063560740> False (783, 1024)\n",
      "<Slide, name = 2306>, width=1583, height=1210, channels=1, levels=1, RGB=False, dtype=uint8> <valis.slide_io.VipsSlideReader object at 0x7f6063560800> False (783, 1024)\n",
      "<Slide, name = 2307>, width=1583, height=1210, channels=1, levels=1, RGB=False, dtype=uint8> <valis.slide_io.VipsSlideReader object at 0x7f60635608c0> False (783, 1024)\n",
      "<Slide, name = 2308>, width=1583, height=1210, channels=1, levels=1, RGB=False, dtype=uint8> <valis.slide_io.VipsSlideReader object at 0x7f6063560b90> False (783, 1024)\n",
      "<Slide, name = 2309>, width=1583, height=1210, channels=1, levels=1, RGB=False, dtype=uint8> <valis.slide_io.VipsSlideReader object at 0x7f6063560aa0> False (783, 1024)\n"
     ]
    },
    {
     "name": "stderr",
     "output_type": "stream",
     "text": [
      "Converting images:  88%|████████▊ | 2310/2624 [00:52<00:07, 41.08image/s]"
     ]
    },
    {
     "name": "stdout",
     "output_type": "stream",
     "text": [
      "<Slide, name = 2310>, width=1583, height=1210, channels=1, levels=1, RGB=False, dtype=uint8> <valis.slide_io.VipsSlideReader object at 0x7f6063560a40> False (783, 1024)\n",
      "<Slide, name = 2311>, width=1583, height=1210, channels=1, levels=1, RGB=False, dtype=uint8> <valis.slide_io.VipsSlideReader object at 0x7f6063560ce0> False (783, 1024)\n",
      "<Slide, name = 2312>, width=1583, height=1210, channels=1, levels=1, RGB=False, dtype=uint8> <valis.slide_io.VipsSlideReader object at 0x7f6063560cb0> False (783, 1024)\n",
      "<Slide, name = 2313>, width=1583, height=1210, channels=1, levels=1, RGB=False, dtype=uint8> <valis.slide_io.VipsSlideReader object at 0x7f6063560d70> False (783, 1024)\n",
      "<Slide, name = 2314>, width=1583, height=1210, channels=1, levels=1, RGB=False, dtype=uint8> <valis.slide_io.VipsSlideReader object at 0x7f6063560e30> False (783, 1024)\n"
     ]
    },
    {
     "name": "stderr",
     "output_type": "stream",
     "text": [
      "Converting images:  88%|████████▊ | 2315/2624 [00:53<00:07, 41.37image/s]"
     ]
    },
    {
     "name": "stdout",
     "output_type": "stream",
     "text": [
      "<Slide, name = 2315>, width=1583, height=1210, channels=1, levels=1, RGB=False, dtype=uint8> <valis.slide_io.VipsSlideReader object at 0x7f6063560ef0> False (783, 1024)\n",
      "<Slide, name = 2316>, width=1583, height=1210, channels=1, levels=1, RGB=False, dtype=uint8> <valis.slide_io.VipsSlideReader object at 0x7f6063560fb0> False (783, 1024)\n",
      "<Slide, name = 2317>, width=1583, height=1210, channels=1, levels=1, RGB=False, dtype=uint8> <valis.slide_io.VipsSlideReader object at 0x7f6063561070> False (783, 1024)\n",
      "<Slide, name = 2318>, width=1583, height=1210, channels=1, levels=1, RGB=False, dtype=uint8> <valis.slide_io.VipsSlideReader object at 0x7f6063561130> False (783, 1024)\n",
      "<Slide, name = 2319>, width=1583, height=1210, channels=1, levels=1, RGB=False, dtype=uint8> <valis.slide_io.VipsSlideReader object at 0x7f60635611f0> False (783, 1024)\n"
     ]
    },
    {
     "name": "stderr",
     "output_type": "stream",
     "text": [
      "Converting images:  88%|████████▊ | 2320/2624 [00:53<00:07, 41.75image/s]"
     ]
    },
    {
     "name": "stdout",
     "output_type": "stream",
     "text": [
      "<Slide, name = 2320>, width=1583, height=1210, channels=1, levels=1, RGB=False, dtype=uint8> <valis.slide_io.VipsSlideReader object at 0x7f60635612b0> False (783, 1024)\n",
      "<Slide, name = 2321>, width=1583, height=1210, channels=1, levels=1, RGB=False, dtype=uint8> <valis.slide_io.VipsSlideReader object at 0x7f6063561370> False (783, 1024)\n",
      "<Slide, name = 2322>, width=1583, height=1210, channels=1, levels=1, RGB=False, dtype=uint8> <valis.slide_io.VipsSlideReader object at 0x7f6063561430> False (783, 1024)\n",
      "<Slide, name = 2323>, width=1583, height=1210, channels=1, levels=1, RGB=False, dtype=uint8> <valis.slide_io.VipsSlideReader object at 0x7f60635614f0> False (783, 1024)\n",
      "<Slide, name = 2324>, width=1583, height=1210, channels=1, levels=1, RGB=False, dtype=uint8> <valis.slide_io.VipsSlideReader object at 0x7f60635615b0> False (783, 1024)\n"
     ]
    },
    {
     "name": "stderr",
     "output_type": "stream",
     "text": [
      "Converting images:  89%|████████▊ | 2325/2624 [00:53<00:07, 42.01image/s]"
     ]
    },
    {
     "name": "stdout",
     "output_type": "stream",
     "text": [
      "<Slide, name = 2325>, width=1583, height=1210, channels=1, levels=1, RGB=False, dtype=uint8> <valis.slide_io.VipsSlideReader object at 0x7f6063561670> False (783, 1024)\n",
      "<Slide, name = 2326>, width=1583, height=1210, channels=1, levels=1, RGB=False, dtype=uint8> <valis.slide_io.VipsSlideReader object at 0x7f6063561730> False (783, 1024)\n",
      "<Slide, name = 2327>, width=1583, height=1210, channels=1, levels=1, RGB=False, dtype=uint8> <valis.slide_io.VipsSlideReader object at 0x7f60635617f0> False (783, 1024)\n",
      "<Slide, name = 2328>, width=1583, height=1210, channels=1, levels=1, RGB=False, dtype=uint8> <valis.slide_io.VipsSlideReader object at 0x7f60635618b0> False (783, 1024)\n",
      "<Slide, name = 2329>, width=1583, height=1210, channels=1, levels=1, RGB=False, dtype=uint8> <valis.slide_io.VipsSlideReader object at 0x7f6063561970> False (783, 1024)\n"
     ]
    },
    {
     "name": "stderr",
     "output_type": "stream",
     "text": [
      "Converting images:  89%|████████▉ | 2330/2624 [00:53<00:06, 42.41image/s]"
     ]
    },
    {
     "name": "stdout",
     "output_type": "stream",
     "text": [
      "<Slide, name = 2330>, width=1583, height=1210, channels=1, levels=1, RGB=False, dtype=uint8> <valis.slide_io.VipsSlideReader object at 0x7f6063561a30> False (783, 1024)\n",
      "<Slide, name = 2331>, width=1583, height=1210, channels=1, levels=1, RGB=False, dtype=uint8> <valis.slide_io.VipsSlideReader object at 0x7f6063561af0> False (783, 1024)\n",
      "<Slide, name = 2332>, width=1583, height=1210, channels=1, levels=1, RGB=False, dtype=uint8> <valis.slide_io.VipsSlideReader object at 0x7f6063561bb0> False (783, 1024)\n",
      "<Slide, name = 2333>, width=1583, height=1210, channels=1, levels=1, RGB=False, dtype=uint8> <valis.slide_io.VipsSlideReader object at 0x7f6063561c70> False (783, 1024)\n",
      "<Slide, name = 2334>, width=1583, height=1210, channels=1, levels=1, RGB=False, dtype=uint8> <valis.slide_io.VipsSlideReader object at 0x7f6063561d30> False (783, 1024)\n"
     ]
    },
    {
     "name": "stderr",
     "output_type": "stream",
     "text": [
      "Converting images:  89%|████████▉ | 2335/2624 [00:53<00:06, 42.77image/s]"
     ]
    },
    {
     "name": "stdout",
     "output_type": "stream",
     "text": [
      "<Slide, name = 2335>, width=1583, height=1210, channels=1, levels=1, RGB=False, dtype=uint8> <valis.slide_io.VipsSlideReader object at 0x7f6063561df0> False (783, 1024)\n",
      "<Slide, name = 2336>, width=1583, height=1210, channels=1, levels=1, RGB=False, dtype=uint8> <valis.slide_io.VipsSlideReader object at 0x7f60635620c0> False (783, 1024)\n",
      "<Slide, name = 2337>, width=1583, height=1210, channels=1, levels=1, RGB=False, dtype=uint8> <valis.slide_io.VipsSlideReader object at 0x7f6063561f40> False (783, 1024)\n",
      "<Slide, name = 2338>, width=1583, height=1210, channels=1, levels=1, RGB=False, dtype=uint8> <valis.slide_io.VipsSlideReader object at 0x7f6063562210> False (783, 1024)\n",
      "<Slide, name = 2339>, width=1583, height=1210, channels=1, levels=1, RGB=False, dtype=uint8> <valis.slide_io.VipsSlideReader object at 0x7f6063562090> False (783, 1024)\n"
     ]
    },
    {
     "name": "stderr",
     "output_type": "stream",
     "text": [
      "Converting images:  89%|████████▉ | 2340/2624 [00:53<00:06, 43.54image/s]"
     ]
    },
    {
     "name": "stdout",
     "output_type": "stream",
     "text": [
      "<Slide, name = 2340>, width=1583, height=1210, channels=1, levels=1, RGB=False, dtype=uint8> <valis.slide_io.VipsSlideReader object at 0x7f60635621b0> False (783, 1024)\n",
      "<Slide, name = 2341>, width=1583, height=1210, channels=1, levels=1, RGB=False, dtype=uint8> <valis.slide_io.VipsSlideReader object at 0x7f6063562270> False (783, 1024)\n",
      "<Slide, name = 2342>, width=1583, height=1210, channels=1, levels=1, RGB=False, dtype=uint8> <valis.slide_io.VipsSlideReader object at 0x7f6063562330> False (783, 1024)\n",
      "<Slide, name = 2343>, width=1583, height=1210, channels=1, levels=1, RGB=False, dtype=uint8> <valis.slide_io.VipsSlideReader object at 0x7f60635623f0> False (783, 1024)\n",
      "<Slide, name = 2344>, width=1583, height=1210, channels=1, levels=1, RGB=False, dtype=uint8> <valis.slide_io.VipsSlideReader object at 0x7f60635624b0> False (783, 1024)\n"
     ]
    },
    {
     "name": "stderr",
     "output_type": "stream",
     "text": [
      "Converting images:  89%|████████▉ | 2345/2624 [00:53<00:06, 43.62image/s]"
     ]
    },
    {
     "name": "stdout",
     "output_type": "stream",
     "text": [
      "<Slide, name = 2345>, width=1583, height=1210, channels=1, levels=1, RGB=False, dtype=uint8> <valis.slide_io.VipsSlideReader object at 0x7f6063562570> False (783, 1024)\n",
      "<Slide, name = 2346>, width=1583, height=1210, channels=1, levels=1, RGB=False, dtype=uint8> <valis.slide_io.VipsSlideReader object at 0x7f6063562630> False (783, 1024)\n",
      "<Slide, name = 2347>, width=1583, height=1210, channels=1, levels=1, RGB=False, dtype=uint8> <valis.slide_io.VipsSlideReader object at 0x7f60635626f0> False (783, 1024)\n",
      "<Slide, name = 2348>, width=1583, height=1210, channels=1, levels=1, RGB=False, dtype=uint8> <valis.slide_io.VipsSlideReader object at 0x7f60635627b0> False (783, 1024)\n",
      "<Slide, name = 2349>, width=1583, height=1210, channels=1, levels=1, RGB=False, dtype=uint8> <valis.slide_io.VipsSlideReader object at 0x7f6063562870> False (783, 1024)\n"
     ]
    },
    {
     "name": "stderr",
     "output_type": "stream",
     "text": [
      "Converting images:  90%|████████▉ | 2350/2624 [00:53<00:06, 44.01image/s]"
     ]
    },
    {
     "name": "stdout",
     "output_type": "stream",
     "text": [
      "<Slide, name = 2350>, width=1583, height=1210, channels=1, levels=1, RGB=False, dtype=uint8> <valis.slide_io.VipsSlideReader object at 0x7f6063562930> False (783, 1024)\n",
      "<Slide, name = 2351>, width=1583, height=1210, channels=1, levels=1, RGB=False, dtype=uint8> <valis.slide_io.VipsSlideReader object at 0x7f60635629f0> False (783, 1024)\n",
      "<Slide, name = 2352>, width=1583, height=1210, channels=1, levels=1, RGB=False, dtype=uint8> <valis.slide_io.VipsSlideReader object at 0x7f6063562ab0> False (783, 1024)\n",
      "<Slide, name = 2353>, width=1583, height=1210, channels=1, levels=1, RGB=False, dtype=uint8> <valis.slide_io.VipsSlideReader object at 0x7f6063562b70> False (783, 1024)\n",
      "<Slide, name = 2354>, width=1583, height=1210, channels=1, levels=1, RGB=False, dtype=uint8> <valis.slide_io.VipsSlideReader object at 0x7f6063562c30> False (783, 1024)\n"
     ]
    },
    {
     "name": "stderr",
     "output_type": "stream",
     "text": [
      "Converting images:  90%|████████▉ | 2355/2624 [00:54<00:06, 44.29image/s]"
     ]
    },
    {
     "name": "stdout",
     "output_type": "stream",
     "text": [
      "<Slide, name = 2355>, width=1583, height=1210, channels=1, levels=1, RGB=False, dtype=uint8> <valis.slide_io.VipsSlideReader object at 0x7f6063562cf0> False (783, 1024)\n",
      "<Slide, name = 2356>, width=1583, height=1210, channels=1, levels=1, RGB=False, dtype=uint8> <valis.slide_io.VipsSlideReader object at 0x7f6063562db0> False (783, 1024)\n",
      "<Slide, name = 2357>, width=1583, height=1210, channels=1, levels=1, RGB=False, dtype=uint8> <valis.slide_io.VipsSlideReader object at 0x7f6063562e70> False (783, 1024)\n",
      "<Slide, name = 2358>, width=1583, height=1210, channels=1, levels=1, RGB=False, dtype=uint8> <valis.slide_io.VipsSlideReader object at 0x7f6063562f30> False (783, 1024)\n",
      "<Slide, name = 2359>, width=1583, height=1210, channels=1, levels=1, RGB=False, dtype=uint8> <valis.slide_io.VipsSlideReader object at 0x7f6063562ff0> False (783, 1024)\n"
     ]
    },
    {
     "name": "stderr",
     "output_type": "stream",
     "text": [
      "Converting images:  90%|████████▉ | 2360/2624 [00:54<00:05, 44.57image/s]"
     ]
    },
    {
     "name": "stdout",
     "output_type": "stream",
     "text": [
      "<Slide, name = 2360>, width=1583, height=1210, channels=1, levels=1, RGB=False, dtype=uint8> <valis.slide_io.VipsSlideReader object at 0x7f60635630b0> False (783, 1024)\n",
      "<Slide, name = 2361>, width=1583, height=1210, channels=1, levels=1, RGB=False, dtype=uint8> <valis.slide_io.VipsSlideReader object at 0x7f6063563170> False (783, 1024)\n",
      "<Slide, name = 2362>, width=1583, height=1210, channels=1, levels=1, RGB=False, dtype=uint8> <valis.slide_io.VipsSlideReader object at 0x7f6063563230> False (783, 1024)\n",
      "<Slide, name = 2363>, width=1583, height=1210, channels=1, levels=1, RGB=False, dtype=uint8> <valis.slide_io.VipsSlideReader object at 0x7f60635632f0> False (783, 1024)\n",
      "<Slide, name = 2364>, width=1583, height=1210, channels=1, levels=1, RGB=False, dtype=uint8> <valis.slide_io.VipsSlideReader object at 0x7f60635633b0> False (783, 1024)\n"
     ]
    },
    {
     "name": "stderr",
     "output_type": "stream",
     "text": [
      "Converting images:  90%|█████████ | 2365/2624 [00:54<00:05, 43.60image/s]"
     ]
    },
    {
     "name": "stdout",
     "output_type": "stream",
     "text": [
      "<Slide, name = 2365>, width=1583, height=1210, channels=1, levels=1, RGB=False, dtype=uint8> <valis.slide_io.VipsSlideReader object at 0x7f6063563470> False (783, 1024)\n",
      "<Slide, name = 2366>, width=1583, height=1210, channels=1, levels=1, RGB=False, dtype=uint8> <valis.slide_io.VipsSlideReader object at 0x7f6063563530> False (783, 1024)\n",
      "<Slide, name = 2367>, width=1583, height=1210, channels=1, levels=1, RGB=False, dtype=uint8> <valis.slide_io.VipsSlideReader object at 0x7f60635635f0> False (783, 1024)\n",
      "<Slide, name = 2368>, width=1583, height=1210, channels=1, levels=1, RGB=False, dtype=uint8> <valis.slide_io.VipsSlideReader object at 0x7f60635636b0> False (783, 1024)\n",
      "<Slide, name = 2369>, width=1583, height=1210, channels=1, levels=1, RGB=False, dtype=uint8> <valis.slide_io.VipsSlideReader object at 0x7f6063563770> False (783, 1024)\n"
     ]
    },
    {
     "name": "stderr",
     "output_type": "stream",
     "text": [
      "Converting images:  90%|█████████ | 2370/2624 [00:54<00:05, 42.69image/s]"
     ]
    },
    {
     "name": "stdout",
     "output_type": "stream",
     "text": [
      "<Slide, name = 2370>, width=1583, height=1210, channels=1, levels=1, RGB=False, dtype=uint8> <valis.slide_io.VipsSlideReader object at 0x7f6063563830> False (783, 1024)\n",
      "<Slide, name = 2371>, width=1583, height=1210, channels=1, levels=1, RGB=False, dtype=uint8> <valis.slide_io.VipsSlideReader object at 0x7f60635638f0> False (783, 1024)\n",
      "<Slide, name = 2372>, width=1583, height=1210, channels=1, levels=1, RGB=False, dtype=uint8> <valis.slide_io.VipsSlideReader object at 0x7f60635639b0> False (783, 1024)\n",
      "<Slide, name = 2373>, width=1583, height=1210, channels=1, levels=1, RGB=False, dtype=uint8> <valis.slide_io.VipsSlideReader object at 0x7f6063563a70> False (783, 1024)\n",
      "<Slide, name = 2374>, width=1583, height=1210, channels=1, levels=1, RGB=False, dtype=uint8> <valis.slide_io.VipsSlideReader object at 0x7f6063563b30> False (783, 1024)\n"
     ]
    },
    {
     "name": "stderr",
     "output_type": "stream",
     "text": [
      "Converting images:  91%|█████████ | 2375/2624 [00:54<00:05, 43.26image/s]"
     ]
    },
    {
     "name": "stdout",
     "output_type": "stream",
     "text": [
      "<Slide, name = 2375>, width=1583, height=1210, channels=1, levels=1, RGB=False, dtype=uint8> <valis.slide_io.VipsSlideReader object at 0x7f6063563bf0> False (783, 1024)\n",
      "<Slide, name = 2376>, width=1583, height=1210, channels=1, levels=1, RGB=False, dtype=uint8> <valis.slide_io.VipsSlideReader object at 0x7f6063563cb0> False (783, 1024)\n",
      "<Slide, name = 2377>, width=1583, height=1210, channels=1, levels=1, RGB=False, dtype=uint8> <valis.slide_io.VipsSlideReader object at 0x7f6063560c80> False (783, 1024)\n",
      "<Slide, name = 2378>, width=1583, height=1210, channels=1, levels=1, RGB=False, dtype=uint8> <valis.slide_io.VipsSlideReader object at 0x7f6063563ec0> False (783, 1024)\n",
      "<Slide, name = 2379>, width=1583, height=1210, channels=1, levels=1, RGB=False, dtype=uint8> <valis.slide_io.VipsSlideReader object at 0x7f6063563fe0> False (783, 1024)\n"
     ]
    },
    {
     "name": "stderr",
     "output_type": "stream",
     "text": [
      "Converting images:  91%|█████████ | 2380/2624 [00:54<00:05, 43.63image/s]"
     ]
    },
    {
     "name": "stdout",
     "output_type": "stream",
     "text": [
      "<Slide, name = 2380>, width=1583, height=1210, channels=1, levels=1, RGB=False, dtype=uint8> <valis.slide_io.VipsSlideReader object at 0x7f6063528290> False (783, 1024)\n",
      "<Slide, name = 2381>, width=1583, height=1210, channels=1, levels=1, RGB=False, dtype=uint8> <valis.slide_io.VipsSlideReader object at 0x7f6063528350> False (783, 1024)\n",
      "<Slide, name = 2382>, width=1583, height=1210, channels=1, levels=1, RGB=False, dtype=uint8> <valis.slide_io.VipsSlideReader object at 0x7f60635280e0> False (783, 1024)\n",
      "<Slide, name = 2383>, width=1583, height=1210, channels=1, levels=1, RGB=False, dtype=uint8> <valis.slide_io.VipsSlideReader object at 0x7f6063528110> False (783, 1024)\n",
      "<Slide, name = 2384>, width=1583, height=1210, channels=1, levels=1, RGB=False, dtype=uint8> <valis.slide_io.VipsSlideReader object at 0x7f60635282f0> False (783, 1024)\n"
     ]
    },
    {
     "name": "stderr",
     "output_type": "stream",
     "text": [
      "Converting images:  91%|█████████ | 2385/2624 [00:54<00:05, 43.87image/s]"
     ]
    },
    {
     "name": "stdout",
     "output_type": "stream",
     "text": [
      "<Slide, name = 2385>, width=1583, height=1210, channels=1, levels=1, RGB=False, dtype=uint8> <valis.slide_io.VipsSlideReader object at 0x7f60635283b0> False (783, 1024)\n",
      "<Slide, name = 2386>, width=1583, height=1210, channels=1, levels=1, RGB=False, dtype=uint8> <valis.slide_io.VipsSlideReader object at 0x7f6063528470> False (783, 1024)\n",
      "<Slide, name = 2387>, width=1583, height=1210, channels=1, levels=1, RGB=False, dtype=uint8> <valis.slide_io.VipsSlideReader object at 0x7f6063528530> False (783, 1024)\n",
      "<Slide, name = 2388>, width=1583, height=1210, channels=1, levels=1, RGB=False, dtype=uint8> <valis.slide_io.VipsSlideReader object at 0x7f60635285f0> False (783, 1024)\n",
      "<Slide, name = 2389>, width=1583, height=1210, channels=1, levels=1, RGB=False, dtype=uint8> <valis.slide_io.VipsSlideReader object at 0x7f60635286b0> False (783, 1024)\n"
     ]
    },
    {
     "name": "stderr",
     "output_type": "stream",
     "text": [
      "Converting images:  91%|█████████ | 2390/2624 [00:54<00:05, 44.27image/s]"
     ]
    },
    {
     "name": "stdout",
     "output_type": "stream",
     "text": [
      "<Slide, name = 2390>, width=1583, height=1210, channels=1, levels=1, RGB=False, dtype=uint8> <valis.slide_io.VipsSlideReader object at 0x7f6063528770> False (783, 1024)\n",
      "<Slide, name = 2391>, width=1583, height=1210, channels=1, levels=1, RGB=False, dtype=uint8> <valis.slide_io.VipsSlideReader object at 0x7f6063528830> False (783, 1024)\n",
      "<Slide, name = 2392>, width=1583, height=1210, channels=1, levels=1, RGB=False, dtype=uint8> <valis.slide_io.VipsSlideReader object at 0x7f60635288f0> False (783, 1024)\n",
      "<Slide, name = 2393>, width=1583, height=1210, channels=1, levels=1, RGB=False, dtype=uint8> <valis.slide_io.VipsSlideReader object at 0x7f60635289b0> False (783, 1024)\n",
      "<Slide, name = 2394>, width=1583, height=1210, channels=1, levels=1, RGB=False, dtype=uint8> <valis.slide_io.VipsSlideReader object at 0x7f6063528a70> False (783, 1024)\n"
     ]
    },
    {
     "name": "stderr",
     "output_type": "stream",
     "text": [
      "Converting images:  91%|█████████▏| 2395/2624 [00:54<00:05, 44.50image/s]"
     ]
    },
    {
     "name": "stdout",
     "output_type": "stream",
     "text": [
      "<Slide, name = 2395>, width=1583, height=1210, channels=1, levels=1, RGB=False, dtype=uint8> <valis.slide_io.VipsSlideReader object at 0x7f6063528b30> False (783, 1024)\n",
      "<Slide, name = 2396>, width=1583, height=1210, channels=1, levels=1, RGB=False, dtype=uint8> <valis.slide_io.VipsSlideReader object at 0x7f6063528bf0> False (783, 1024)\n",
      "<Slide, name = 2397>, width=1583, height=1210, channels=1, levels=1, RGB=False, dtype=uint8> <valis.slide_io.VipsSlideReader object at 0x7f6063528cb0> False (783, 1024)\n",
      "<Slide, name = 2398>, width=1583, height=1210, channels=1, levels=1, RGB=False, dtype=uint8> <valis.slide_io.VipsSlideReader object at 0x7f6063528d70> False (783, 1024)\n",
      "<Slide, name = 2399>, width=1583, height=1210, channels=1, levels=1, RGB=False, dtype=uint8> <valis.slide_io.VipsSlideReader object at 0x7f6063528e30> False (783, 1024)\n"
     ]
    },
    {
     "name": "stderr",
     "output_type": "stream",
     "text": [
      "Converting images:  91%|█████████▏| 2400/2624 [00:55<00:04, 44.88image/s]"
     ]
    },
    {
     "name": "stdout",
     "output_type": "stream",
     "text": [
      "<Slide, name = 2400>, width=1583, height=1210, channels=1, levels=1, RGB=False, dtype=uint8> <valis.slide_io.VipsSlideReader object at 0x7f6063528ef0> False (783, 1024)\n",
      "<Slide, name = 2401>, width=1583, height=1210, channels=1, levels=1, RGB=False, dtype=uint8> <valis.slide_io.VipsSlideReader object at 0x7f6063528fb0> False (783, 1024)\n",
      "<Slide, name = 2402>, width=1583, height=1210, channels=1, levels=1, RGB=False, dtype=uint8> <valis.slide_io.VipsSlideReader object at 0x7f6063529070> False (783, 1024)\n",
      "<Slide, name = 2403>, width=1583, height=1210, channels=1, levels=1, RGB=False, dtype=uint8> <valis.slide_io.VipsSlideReader object at 0x7f6063529130> False (783, 1024)\n",
      "<Slide, name = 2404>, width=1583, height=1210, channels=1, levels=1, RGB=False, dtype=uint8> <valis.slide_io.VipsSlideReader object at 0x7f60635291f0> False (783, 1024)\n"
     ]
    },
    {
     "name": "stderr",
     "output_type": "stream",
     "text": [
      "Converting images:  92%|█████████▏| 2405/2624 [00:55<00:05, 43.17image/s]"
     ]
    },
    {
     "name": "stdout",
     "output_type": "stream",
     "text": [
      "<Slide, name = 2405>, width=1583, height=1210, channels=1, levels=1, RGB=False, dtype=uint8> <valis.slide_io.VipsSlideReader object at 0x7f60635292b0> False (783, 1024)\n",
      "<Slide, name = 2406>, width=1583, height=1210, channels=1, levels=1, RGB=False, dtype=uint8> <valis.slide_io.VipsSlideReader object at 0x7f6063529370> False (783, 1024)\n",
      "<Slide, name = 2407>, width=1583, height=1210, channels=1, levels=1, RGB=False, dtype=uint8> <valis.slide_io.VipsSlideReader object at 0x7f6063529430> False (783, 1024)\n",
      "<Slide, name = 2408>, width=1583, height=1210, channels=1, levels=1, RGB=False, dtype=uint8> <valis.slide_io.VipsSlideReader object at 0x7f60635294f0> False (783, 1024)\n",
      "<Slide, name = 2409>, width=1583, height=1210, channels=1, levels=1, RGB=False, dtype=uint8> <valis.slide_io.VipsSlideReader object at 0x7f60635295b0> False (783, 1024)\n"
     ]
    },
    {
     "name": "stderr",
     "output_type": "stream",
     "text": [
      "Converting images:  92%|█████████▏| 2410/2624 [00:55<00:04, 43.54image/s]"
     ]
    },
    {
     "name": "stdout",
     "output_type": "stream",
     "text": [
      "<Slide, name = 2410>, width=1583, height=1210, channels=1, levels=1, RGB=False, dtype=uint8> <valis.slide_io.VipsSlideReader object at 0x7f6063529670> False (783, 1024)\n",
      "<Slide, name = 2411>, width=1583, height=1210, channels=1, levels=1, RGB=False, dtype=uint8> <valis.slide_io.VipsSlideReader object at 0x7f6063529730> False (783, 1024)\n",
      "<Slide, name = 2412>, width=1583, height=1210, channels=1, levels=1, RGB=False, dtype=uint8> <valis.slide_io.VipsSlideReader object at 0x7f60635297f0> False (783, 1024)\n",
      "<Slide, name = 2413>, width=1583, height=1210, channels=1, levels=1, RGB=False, dtype=uint8> <valis.slide_io.VipsSlideReader object at 0x7f60635298b0> False (783, 1024)\n",
      "<Slide, name = 2414>, width=1583, height=1210, channels=1, levels=1, RGB=False, dtype=uint8> <valis.slide_io.VipsSlideReader object at 0x7f6063529970> False (783, 1024)\n"
     ]
    },
    {
     "name": "stderr",
     "output_type": "stream",
     "text": [
      "Converting images:  92%|█████████▏| 2415/2624 [00:55<00:04, 43.94image/s]"
     ]
    },
    {
     "name": "stdout",
     "output_type": "stream",
     "text": [
      "<Slide, name = 2415>, width=1583, height=1210, channels=1, levels=1, RGB=False, dtype=uint8> <valis.slide_io.VipsSlideReader object at 0x7f6063529a30> False (783, 1024)\n",
      "<Slide, name = 2416>, width=1583, height=1210, channels=1, levels=1, RGB=False, dtype=uint8> <valis.slide_io.VipsSlideReader object at 0x7f6063529af0> False (783, 1024)\n",
      "<Slide, name = 2417>, width=1583, height=1210, channels=1, levels=1, RGB=False, dtype=uint8> <valis.slide_io.VipsSlideReader object at 0x7f6063529bb0> False (783, 1024)\n",
      "<Slide, name = 2418>, width=1583, height=1210, channels=1, levels=1, RGB=False, dtype=uint8> <valis.slide_io.VipsSlideReader object at 0x7f6063529c70> False (783, 1024)\n",
      "<Slide, name = 2419>, width=1583, height=1210, channels=1, levels=1, RGB=False, dtype=uint8> <valis.slide_io.VipsSlideReader object at 0x7f6063529d30> False (783, 1024)\n"
     ]
    },
    {
     "name": "stderr",
     "output_type": "stream",
     "text": [
      "Converting images:  92%|█████████▏| 2420/2624 [00:55<00:04, 44.18image/s]"
     ]
    },
    {
     "name": "stdout",
     "output_type": "stream",
     "text": [
      "<Slide, name = 2420>, width=1583, height=1210, channels=1, levels=1, RGB=False, dtype=uint8> <valis.slide_io.VipsSlideReader object at 0x7f6063529df0> False (783, 1024)\n",
      "<Slide, name = 2421>, width=1583, height=1210, channels=1, levels=1, RGB=False, dtype=uint8> <valis.slide_io.VipsSlideReader object at 0x7f606352a0c0> False (783, 1024)\n",
      "<Slide, name = 2422>, width=1583, height=1210, channels=1, levels=1, RGB=False, dtype=uint8> <valis.slide_io.VipsSlideReader object at 0x7f6063529f40> False (783, 1024)\n",
      "<Slide, name = 2423>, width=1583, height=1210, channels=1, levels=1, RGB=False, dtype=uint8> <valis.slide_io.VipsSlideReader object at 0x7f606352a210> False (783, 1024)\n",
      "<Slide, name = 2424>, width=1583, height=1210, channels=1, levels=1, RGB=False, dtype=uint8> <valis.slide_io.VipsSlideReader object at 0x7f606352a090> False (783, 1024)\n"
     ]
    },
    {
     "name": "stderr",
     "output_type": "stream",
     "text": [
      "Converting images:  92%|█████████▏| 2425/2624 [00:55<00:04, 43.79image/s]"
     ]
    },
    {
     "name": "stdout",
     "output_type": "stream",
     "text": [
      "<Slide, name = 2425>, width=1583, height=1210, channels=1, levels=1, RGB=False, dtype=uint8> <valis.slide_io.VipsSlideReader object at 0x7f606352a1b0> False (783, 1024)\n",
      "<Slide, name = 2426>, width=1583, height=1210, channels=1, levels=1, RGB=False, dtype=uint8> <valis.slide_io.VipsSlideReader object at 0x7f606352a270> False (783, 1024)\n",
      "<Slide, name = 2427>, width=1583, height=1210, channels=1, levels=1, RGB=False, dtype=uint8> <valis.slide_io.VipsSlideReader object at 0x7f606352a330> False (783, 1024)\n",
      "<Slide, name = 2428>, width=1583, height=1210, channels=1, levels=1, RGB=False, dtype=uint8> <valis.slide_io.VipsSlideReader object at 0x7f606352a3f0> False (783, 1024)\n",
      "<Slide, name = 2429>, width=1583, height=1210, channels=1, levels=1, RGB=False, dtype=uint8> <valis.slide_io.VipsSlideReader object at 0x7f606352a4b0> False (783, 1024)\n"
     ]
    },
    {
     "name": "stderr",
     "output_type": "stream",
     "text": [
      "Converting images:  93%|█████████▎| 2430/2624 [00:55<00:04, 44.19image/s]"
     ]
    },
    {
     "name": "stdout",
     "output_type": "stream",
     "text": [
      "<Slide, name = 2430>, width=1583, height=1210, channels=1, levels=1, RGB=False, dtype=uint8> <valis.slide_io.VipsSlideReader object at 0x7f606352a570> False (783, 1024)\n",
      "<Slide, name = 2431>, width=1583, height=1210, channels=1, levels=1, RGB=False, dtype=uint8> <valis.slide_io.VipsSlideReader object at 0x7f606352a630> False (783, 1024)\n",
      "<Slide, name = 2432>, width=1583, height=1210, channels=1, levels=1, RGB=False, dtype=uint8> <valis.slide_io.VipsSlideReader object at 0x7f606352a6f0> False (783, 1024)\n",
      "<Slide, name = 2433>, width=1583, height=1210, channels=1, levels=1, RGB=False, dtype=uint8> <valis.slide_io.VipsSlideReader object at 0x7f606352a7b0> False (783, 1024)\n",
      "<Slide, name = 2434>, width=1583, height=1210, channels=1, levels=1, RGB=False, dtype=uint8> <valis.slide_io.VipsSlideReader object at 0x7f606352a870> False (783, 1024)\n"
     ]
    },
    {
     "name": "stderr",
     "output_type": "stream",
     "text": [
      "Converting images:  93%|█████████▎| 2435/2624 [00:55<00:04, 44.52image/s]"
     ]
    },
    {
     "name": "stdout",
     "output_type": "stream",
     "text": [
      "<Slide, name = 2435>, width=1583, height=1210, channels=1, levels=1, RGB=False, dtype=uint8> <valis.slide_io.VipsSlideReader object at 0x7f606352a930> False (783, 1024)\n",
      "<Slide, name = 2436>, width=1583, height=1210, channels=1, levels=1, RGB=False, dtype=uint8> <valis.slide_io.VipsSlideReader object at 0x7f606352a9f0> False (783, 1024)\n",
      "<Slide, name = 2437>, width=1583, height=1210, channels=1, levels=1, RGB=False, dtype=uint8> <valis.slide_io.VipsSlideReader object at 0x7f606352aab0> False (783, 1024)\n",
      "<Slide, name = 2438>, width=1583, height=1210, channels=1, levels=1, RGB=False, dtype=uint8> <valis.slide_io.VipsSlideReader object at 0x7f606352ab70> False (783, 1024)\n",
      "<Slide, name = 2439>, width=1583, height=1210, channels=1, levels=1, RGB=False, dtype=uint8> <valis.slide_io.VipsSlideReader object at 0x7f606352ac30> False (783, 1024)\n"
     ]
    },
    {
     "name": "stderr",
     "output_type": "stream",
     "text": [
      "Converting images:  93%|█████████▎| 2440/2624 [00:55<00:04, 44.94image/s]"
     ]
    },
    {
     "name": "stdout",
     "output_type": "stream",
     "text": [
      "<Slide, name = 2440>, width=1583, height=1210, channels=1, levels=1, RGB=False, dtype=uint8> <valis.slide_io.VipsSlideReader object at 0x7f606352acf0> False (783, 1024)\n",
      "<Slide, name = 2441>, width=1583, height=1210, channels=1, levels=1, RGB=False, dtype=uint8> <valis.slide_io.VipsSlideReader object at 0x7f606352adb0> False (783, 1024)\n",
      "<Slide, name = 2442>, width=1583, height=1210, channels=1, levels=1, RGB=False, dtype=uint8> <valis.slide_io.VipsSlideReader object at 0x7f606352ae70> False (783, 1024)\n",
      "<Slide, name = 2443>, width=1583, height=1210, channels=1, levels=1, RGB=False, dtype=uint8> <valis.slide_io.VipsSlideReader object at 0x7f606352af30> False (783, 1024)\n",
      "<Slide, name = 2444>, width=1583, height=1210, channels=1, levels=1, RGB=False, dtype=uint8> <valis.slide_io.VipsSlideReader object at 0x7f606352aff0> False (783, 1024)\n"
     ]
    },
    {
     "name": "stderr",
     "output_type": "stream",
     "text": [
      "Converting images:  93%|█████████▎| 2445/2624 [00:56<00:03, 44.83image/s]"
     ]
    },
    {
     "name": "stdout",
     "output_type": "stream",
     "text": [
      "<Slide, name = 2445>, width=1583, height=1210, channels=1, levels=1, RGB=False, dtype=uint8> <valis.slide_io.VipsSlideReader object at 0x7f606352b0b0> False (783, 1024)\n",
      "<Slide, name = 2446>, width=1583, height=1210, channels=1, levels=1, RGB=False, dtype=uint8> <valis.slide_io.VipsSlideReader object at 0x7f606352b170> False (783, 1024)\n",
      "<Slide, name = 2447>, width=1583, height=1210, channels=1, levels=1, RGB=False, dtype=uint8> <valis.slide_io.VipsSlideReader object at 0x7f606352b230> False (783, 1024)\n",
      "<Slide, name = 2448>, width=1583, height=1210, channels=1, levels=1, RGB=False, dtype=uint8> <valis.slide_io.VipsSlideReader object at 0x7f606352b2f0> False (783, 1024)\n",
      "<Slide, name = 2449>, width=1583, height=1210, channels=1, levels=1, RGB=False, dtype=uint8> <valis.slide_io.VipsSlideReader object at 0x7f606352b3b0> False (783, 1024)\n"
     ]
    },
    {
     "name": "stderr",
     "output_type": "stream",
     "text": [
      "Converting images:  93%|█████████▎| 2450/2624 [00:56<00:03, 45.15image/s]"
     ]
    },
    {
     "name": "stdout",
     "output_type": "stream",
     "text": [
      "<Slide, name = 2450>, width=1583, height=1210, channels=1, levels=1, RGB=False, dtype=uint8> <valis.slide_io.VipsSlideReader object at 0x7f606352b470> False (783, 1024)\n",
      "<Slide, name = 2451>, width=1583, height=1210, channels=1, levels=1, RGB=False, dtype=uint8> <valis.slide_io.VipsSlideReader object at 0x7f606352b530> False (783, 1024)\n",
      "<Slide, name = 2452>, width=1583, height=1210, channels=1, levels=1, RGB=False, dtype=uint8> <valis.slide_io.VipsSlideReader object at 0x7f606352b5f0> False (783, 1024)\n",
      "<Slide, name = 2453>, width=1583, height=1210, channels=1, levels=1, RGB=False, dtype=uint8> <valis.slide_io.VipsSlideReader object at 0x7f606352b6b0> False (783, 1024)\n",
      "<Slide, name = 2454>, width=1583, height=1210, channels=1, levels=1, RGB=False, dtype=uint8> <valis.slide_io.VipsSlideReader object at 0x7f606352b770> False (783, 1024)\n"
     ]
    },
    {
     "name": "stderr",
     "output_type": "stream",
     "text": [
      "Converting images:  94%|█████████▎| 2455/2624 [00:56<00:03, 44.97image/s]"
     ]
    },
    {
     "name": "stdout",
     "output_type": "stream",
     "text": [
      "<Slide, name = 2455>, width=1583, height=1210, channels=1, levels=1, RGB=False, dtype=uint8> <valis.slide_io.VipsSlideReader object at 0x7f606352b830> False (783, 1024)\n",
      "<Slide, name = 2456>, width=1583, height=1210, channels=1, levels=1, RGB=False, dtype=uint8> <valis.slide_io.VipsSlideReader object at 0x7f606352b8f0> False (783, 1024)\n",
      "<Slide, name = 2457>, width=1583, height=1210, channels=1, levels=1, RGB=False, dtype=uint8> <valis.slide_io.VipsSlideReader object at 0x7f606352b9b0> False (783, 1024)\n",
      "<Slide, name = 2458>, width=1583, height=1210, channels=1, levels=1, RGB=False, dtype=uint8> <valis.slide_io.VipsSlideReader object at 0x7f606352ba70> False (783, 1024)\n",
      "<Slide, name = 2459>, width=1583, height=1210, channels=1, levels=1, RGB=False, dtype=uint8> <valis.slide_io.VipsSlideReader object at 0x7f606352bb30> False (783, 1024)\n"
     ]
    },
    {
     "name": "stderr",
     "output_type": "stream",
     "text": [
      "Converting images:  94%|█████████▍| 2460/2624 [00:56<00:03, 44.72image/s]"
     ]
    },
    {
     "name": "stdout",
     "output_type": "stream",
     "text": [
      "<Slide, name = 2460>, width=1583, height=1210, channels=1, levels=1, RGB=False, dtype=uint8> <valis.slide_io.VipsSlideReader object at 0x7f606352bbf0> False (783, 1024)\n",
      "<Slide, name = 2461>, width=1583, height=1210, channels=1, levels=1, RGB=False, dtype=uint8> <valis.slide_io.VipsSlideReader object at 0x7f606352bcb0> False (783, 1024)\n",
      "<Slide, name = 2462>, width=1583, height=1210, channels=1, levels=1, RGB=False, dtype=uint8> <valis.slide_io.VipsSlideReader object at 0x7f6063528050> False (783, 1024)\n",
      "<Slide, name = 2463>, width=1583, height=1210, channels=1, levels=1, RGB=False, dtype=uint8> <valis.slide_io.VipsSlideReader object at 0x7f606352bec0> False (783, 1024)\n",
      "<Slide, name = 2464>, width=1583, height=1210, channels=1, levels=1, RGB=False, dtype=uint8> <valis.slide_io.VipsSlideReader object at 0x7f606352bfe0> False (783, 1024)\n"
     ]
    },
    {
     "name": "stderr",
     "output_type": "stream",
     "text": [
      "Converting images:  94%|█████████▍| 2465/2624 [00:56<00:03, 44.48image/s]"
     ]
    },
    {
     "name": "stdout",
     "output_type": "stream",
     "text": [
      "<Slide, name = 2465>, width=1583, height=1210, channels=1, levels=1, RGB=False, dtype=uint8> <valis.slide_io.VipsSlideReader object at 0x7f6063518290> False (783, 1024)\n",
      "<Slide, name = 2466>, width=1583, height=1210, channels=1, levels=1, RGB=False, dtype=uint8> <valis.slide_io.VipsSlideReader object at 0x7f6063518350> False (783, 1024)\n",
      "<Slide, name = 2467>, width=1583, height=1210, channels=1, levels=1, RGB=False, dtype=uint8> <valis.slide_io.VipsSlideReader object at 0x7f60635180e0> False (783, 1024)\n",
      "<Slide, name = 2468>, width=1583, height=1210, channels=1, levels=1, RGB=False, dtype=uint8> <valis.slide_io.VipsSlideReader object at 0x7f6063518110> False (783, 1024)\n",
      "<Slide, name = 2469>, width=1583, height=1210, channels=1, levels=1, RGB=False, dtype=uint8> <valis.slide_io.VipsSlideReader object at 0x7f60635182f0> False (783, 1024)\n"
     ]
    },
    {
     "name": "stderr",
     "output_type": "stream",
     "text": [
      "Converting images:  94%|█████████▍| 2470/2624 [00:56<00:03, 44.50image/s]"
     ]
    },
    {
     "name": "stdout",
     "output_type": "stream",
     "text": [
      "<Slide, name = 2470>, width=1583, height=1210, channels=1, levels=1, RGB=False, dtype=uint8> <valis.slide_io.VipsSlideReader object at 0x7f60635183b0> False (783, 1024)\n",
      "<Slide, name = 2471>, width=1583, height=1210, channels=1, levels=1, RGB=False, dtype=uint8> <valis.slide_io.VipsSlideReader object at 0x7f6063518470> False (783, 1024)\n",
      "<Slide, name = 2472>, width=1583, height=1210, channels=1, levels=1, RGB=False, dtype=uint8> <valis.slide_io.VipsSlideReader object at 0x7f6063518530> False (783, 1024)\n",
      "<Slide, name = 2473>, width=1583, height=1210, channels=1, levels=1, RGB=False, dtype=uint8> <valis.slide_io.VipsSlideReader object at 0x7f60635185f0> False (783, 1024)\n",
      "<Slide, name = 2474>, width=1583, height=1210, channels=1, levels=1, RGB=False, dtype=uint8> <valis.slide_io.VipsSlideReader object at 0x7f60635186b0> False (783, 1024)\n"
     ]
    },
    {
     "name": "stderr",
     "output_type": "stream",
     "text": [
      "Converting images:  94%|█████████▍| 2475/2624 [00:56<00:03, 44.01image/s]"
     ]
    },
    {
     "name": "stdout",
     "output_type": "stream",
     "text": [
      "<Slide, name = 2475>, width=1583, height=1210, channels=1, levels=1, RGB=False, dtype=uint8> <valis.slide_io.VipsSlideReader object at 0x7f6063518770> False (783, 1024)\n",
      "<Slide, name = 2476>, width=1583, height=1210, channels=1, levels=1, RGB=False, dtype=uint8> <valis.slide_io.VipsSlideReader object at 0x7f6063518830> False (783, 1024)\n",
      "<Slide, name = 2477>, width=1583, height=1210, channels=1, levels=1, RGB=False, dtype=uint8> <valis.slide_io.VipsSlideReader object at 0x7f60635188f0> False (783, 1024)\n",
      "<Slide, name = 2478>, width=1583, height=1210, channels=1, levels=1, RGB=False, dtype=uint8> <valis.slide_io.VipsSlideReader object at 0x7f60635189b0> False (783, 1024)\n",
      "<Slide, name = 2479>, width=1583, height=1210, channels=1, levels=1, RGB=False, dtype=uint8> <valis.slide_io.VipsSlideReader object at 0x7f6063518a70> False (783, 1024)\n"
     ]
    },
    {
     "name": "stderr",
     "output_type": "stream",
     "text": [
      "Converting images:  95%|█████████▍| 2480/2624 [00:56<00:03, 43.31image/s]"
     ]
    },
    {
     "name": "stdout",
     "output_type": "stream",
     "text": [
      "<Slide, name = 2480>, width=1583, height=1210, channels=1, levels=1, RGB=False, dtype=uint8> <valis.slide_io.VipsSlideReader object at 0x7f6063518b30> False (783, 1024)\n",
      "<Slide, name = 2481>, width=1583, height=1210, channels=1, levels=1, RGB=False, dtype=uint8> <valis.slide_io.VipsSlideReader object at 0x7f6063518bf0> False (783, 1024)\n",
      "<Slide, name = 2482>, width=1583, height=1210, channels=1, levels=1, RGB=False, dtype=uint8> <valis.slide_io.VipsSlideReader object at 0x7f6063518cb0> False (783, 1024)\n",
      "<Slide, name = 2483>, width=1583, height=1210, channels=1, levels=1, RGB=False, dtype=uint8> <valis.slide_io.VipsSlideReader object at 0x7f6063518d70> False (783, 1024)\n",
      "<Slide, name = 2484>, width=1583, height=1210, channels=1, levels=1, RGB=False, dtype=uint8> <valis.slide_io.VipsSlideReader object at 0x7f6063518e30> False (783, 1024)\n"
     ]
    },
    {
     "name": "stderr",
     "output_type": "stream",
     "text": [
      "Converting images:  95%|█████████▍| 2485/2624 [00:56<00:03, 43.92image/s]"
     ]
    },
    {
     "name": "stdout",
     "output_type": "stream",
     "text": [
      "<Slide, name = 2485>, width=1583, height=1210, channels=1, levels=1, RGB=False, dtype=uint8> <valis.slide_io.VipsSlideReader object at 0x7f6063518ef0> False (783, 1024)\n",
      "<Slide, name = 2486>, width=1583, height=1210, channels=1, levels=1, RGB=False, dtype=uint8> <valis.slide_io.VipsSlideReader object at 0x7f6063518fb0> False (783, 1024)\n",
      "<Slide, name = 2487>, width=1583, height=1210, channels=1, levels=1, RGB=False, dtype=uint8> <valis.slide_io.VipsSlideReader object at 0x7f6063519070> False (783, 1024)\n",
      "<Slide, name = 2488>, width=1583, height=1210, channels=1, levels=1, RGB=False, dtype=uint8> <valis.slide_io.VipsSlideReader object at 0x7f6063519130> False (783, 1024)\n",
      "<Slide, name = 2489>, width=1583, height=1210, channels=1, levels=1, RGB=False, dtype=uint8> <valis.slide_io.VipsSlideReader object at 0x7f60635191f0> False (783, 1024)\n"
     ]
    },
    {
     "name": "stderr",
     "output_type": "stream",
     "text": [
      "Converting images:  95%|█████████▍| 2490/2624 [00:57<00:03, 44.19image/s]"
     ]
    },
    {
     "name": "stdout",
     "output_type": "stream",
     "text": [
      "<Slide, name = 2490>, width=1583, height=1210, channels=1, levels=1, RGB=False, dtype=uint8> <valis.slide_io.VipsSlideReader object at 0x7f60635192b0> False (783, 1024)\n",
      "<Slide, name = 2491>, width=1583, height=1210, channels=1, levels=1, RGB=False, dtype=uint8> <valis.slide_io.VipsSlideReader object at 0x7f6063519370> False (783, 1024)\n",
      "<Slide, name = 2492>, width=1583, height=1210, channels=1, levels=1, RGB=False, dtype=uint8> <valis.slide_io.VipsSlideReader object at 0x7f6063519430> False (783, 1024)\n",
      "<Slide, name = 2493>, width=1583, height=1210, channels=1, levels=1, RGB=False, dtype=uint8> <valis.slide_io.VipsSlideReader object at 0x7f60635194f0> False (783, 1024)\n",
      "<Slide, name = 2494>, width=1583, height=1210, channels=1, levels=1, RGB=False, dtype=uint8> <valis.slide_io.VipsSlideReader object at 0x7f60635195b0> False (783, 1024)\n"
     ]
    },
    {
     "name": "stderr",
     "output_type": "stream",
     "text": [
      "Converting images:  95%|█████████▌| 2495/2624 [00:57<00:02, 44.05image/s]"
     ]
    },
    {
     "name": "stdout",
     "output_type": "stream",
     "text": [
      "<Slide, name = 2495>, width=1583, height=1210, channels=1, levels=1, RGB=False, dtype=uint8> <valis.slide_io.VipsSlideReader object at 0x7f6063519670> False (783, 1024)\n",
      "<Slide, name = 2496>, width=1583, height=1210, channels=1, levels=1, RGB=False, dtype=uint8> <valis.slide_io.VipsSlideReader object at 0x7f6063519730> False (783, 1024)\n",
      "<Slide, name = 2497>, width=1583, height=1210, channels=1, levels=1, RGB=False, dtype=uint8> <valis.slide_io.VipsSlideReader object at 0x7f60635197f0> False (783, 1024)\n",
      "<Slide, name = 2498>, width=1583, height=1210, channels=1, levels=1, RGB=False, dtype=uint8> <valis.slide_io.VipsSlideReader object at 0x7f60635198b0> False (783, 1024)\n",
      "<Slide, name = 2499>, width=1583, height=1210, channels=1, levels=1, RGB=False, dtype=uint8> <valis.slide_io.VipsSlideReader object at 0x7f6063519970> False (783, 1024)\n"
     ]
    },
    {
     "name": "stderr",
     "output_type": "stream",
     "text": [
      "Converting images:  95%|█████████▌| 2500/2624 [00:57<00:02, 44.04image/s]"
     ]
    },
    {
     "name": "stdout",
     "output_type": "stream",
     "text": [
      "<Slide, name = 2500>, width=1583, height=1210, channels=1, levels=1, RGB=False, dtype=uint8> <valis.slide_io.VipsSlideReader object at 0x7f6063519a30> False (783, 1024)\n",
      "<Slide, name = 2501>, width=1583, height=1210, channels=1, levels=1, RGB=False, dtype=uint8> <valis.slide_io.VipsSlideReader object at 0x7f6063519af0> False (783, 1024)\n",
      "<Slide, name = 2502>, width=1583, height=1210, channels=1, levels=1, RGB=False, dtype=uint8> <valis.slide_io.VipsSlideReader object at 0x7f6063519bb0> False (783, 1024)\n",
      "<Slide, name = 2503>, width=1583, height=1210, channels=1, levels=1, RGB=False, dtype=uint8> <valis.slide_io.VipsSlideReader object at 0x7f6063519c70> False (783, 1024)\n",
      "<Slide, name = 2504>, width=1583, height=1210, channels=1, levels=1, RGB=False, dtype=uint8> <valis.slide_io.VipsSlideReader object at 0x7f6063519d30> False (783, 1024)\n"
     ]
    },
    {
     "name": "stderr",
     "output_type": "stream",
     "text": [
      "Converting images:  95%|█████████▌| 2505/2624 [00:57<00:02, 44.35image/s]"
     ]
    },
    {
     "name": "stdout",
     "output_type": "stream",
     "text": [
      "<Slide, name = 2505>, width=1583, height=1210, channels=1, levels=1, RGB=False, dtype=uint8> <valis.slide_io.VipsSlideReader object at 0x7f6063519df0> False (783, 1024)\n",
      "<Slide, name = 2506>, width=1583, height=1210, channels=1, levels=1, RGB=False, dtype=uint8> <valis.slide_io.VipsSlideReader object at 0x7f606351a0c0> False (783, 1024)\n",
      "<Slide, name = 2507>, width=1583, height=1210, channels=1, levels=1, RGB=False, dtype=uint8> <valis.slide_io.VipsSlideReader object at 0x7f6063519f40> False (783, 1024)\n",
      "<Slide, name = 2508>, width=1583, height=1210, channels=1, levels=1, RGB=False, dtype=uint8> <valis.slide_io.VipsSlideReader object at 0x7f606351a210> False (783, 1024)\n",
      "<Slide, name = 2509>, width=1583, height=1210, channels=1, levels=1, RGB=False, dtype=uint8> <valis.slide_io.VipsSlideReader object at 0x7f606351a090> False (783, 1024)\n"
     ]
    },
    {
     "name": "stderr",
     "output_type": "stream",
     "text": [
      "Converting images:  96%|█████████▌| 2510/2624 [00:57<00:02, 44.58image/s]"
     ]
    },
    {
     "name": "stdout",
     "output_type": "stream",
     "text": [
      "<Slide, name = 2510>, width=1583, height=1210, channels=1, levels=1, RGB=False, dtype=uint8> <valis.slide_io.VipsSlideReader object at 0x7f606351a1b0> False (783, 1024)\n",
      "<Slide, name = 2511>, width=1583, height=1210, channels=1, levels=1, RGB=False, dtype=uint8> <valis.slide_io.VipsSlideReader object at 0x7f606351a270> False (783, 1024)\n",
      "<Slide, name = 2512>, width=1583, height=1210, channels=1, levels=1, RGB=False, dtype=uint8> <valis.slide_io.VipsSlideReader object at 0x7f606351a330> False (783, 1024)\n",
      "<Slide, name = 2513>, width=1583, height=1210, channels=1, levels=1, RGB=False, dtype=uint8> <valis.slide_io.VipsSlideReader object at 0x7f606351a3f0> False (783, 1024)\n",
      "<Slide, name = 2514>, width=1583, height=1210, channels=1, levels=1, RGB=False, dtype=uint8> <valis.slide_io.VipsSlideReader object at 0x7f606351a4b0> False (783, 1024)\n"
     ]
    },
    {
     "name": "stderr",
     "output_type": "stream",
     "text": [
      "Converting images:  96%|█████████▌| 2515/2624 [00:57<00:02, 44.44image/s]"
     ]
    },
    {
     "name": "stdout",
     "output_type": "stream",
     "text": [
      "<Slide, name = 2515>, width=1583, height=1210, channels=1, levels=1, RGB=False, dtype=uint8> <valis.slide_io.VipsSlideReader object at 0x7f606351a570> False (783, 1024)\n",
      "<Slide, name = 2516>, width=1583, height=1210, channels=1, levels=1, RGB=False, dtype=uint8> <valis.slide_io.VipsSlideReader object at 0x7f606351a630> False (783, 1024)\n",
      "<Slide, name = 2517>, width=1583, height=1210, channels=1, levels=1, RGB=False, dtype=uint8> <valis.slide_io.VipsSlideReader object at 0x7f606351a6f0> False (783, 1024)\n",
      "<Slide, name = 2518>, width=1583, height=1210, channels=1, levels=1, RGB=False, dtype=uint8> <valis.slide_io.VipsSlideReader object at 0x7f606351a7b0> False (783, 1024)\n",
      "<Slide, name = 2519>, width=1583, height=1210, channels=1, levels=1, RGB=False, dtype=uint8> <valis.slide_io.VipsSlideReader object at 0x7f606351a870> False (783, 1024)\n"
     ]
    },
    {
     "name": "stderr",
     "output_type": "stream",
     "text": [
      "Converting images:  96%|█████████▌| 2520/2624 [00:57<00:02, 45.12image/s]"
     ]
    },
    {
     "name": "stdout",
     "output_type": "stream",
     "text": [
      "<Slide, name = 2520>, width=1583, height=1210, channels=1, levels=1, RGB=False, dtype=uint8> <valis.slide_io.VipsSlideReader object at 0x7f606351a930> False (783, 1024)\n",
      "<Slide, name = 2521>, width=1583, height=1210, channels=1, levels=1, RGB=False, dtype=uint8> <valis.slide_io.VipsSlideReader object at 0x7f606351a9f0> False (783, 1024)\n",
      "<Slide, name = 2522>, width=1583, height=1210, channels=1, levels=1, RGB=False, dtype=uint8> <valis.slide_io.VipsSlideReader object at 0x7f606351aab0> False (783, 1024)\n",
      "<Slide, name = 2523>, width=1583, height=1210, channels=1, levels=1, RGB=False, dtype=uint8> <valis.slide_io.VipsSlideReader object at 0x7f606351ab70> False (783, 1024)\n",
      "<Slide, name = 2524>, width=1583, height=1210, channels=1, levels=1, RGB=False, dtype=uint8> <valis.slide_io.VipsSlideReader object at 0x7f606351ac30> False (783, 1024)\n"
     ]
    },
    {
     "name": "stderr",
     "output_type": "stream",
     "text": [
      "Converting images:  96%|█████████▌| 2525/2624 [00:57<00:02, 44.98image/s]"
     ]
    },
    {
     "name": "stdout",
     "output_type": "stream",
     "text": [
      "<Slide, name = 2525>, width=1583, height=1210, channels=1, levels=1, RGB=False, dtype=uint8> <valis.slide_io.VipsSlideReader object at 0x7f606351acf0> False (783, 1024)\n",
      "<Slide, name = 2526>, width=1583, height=1210, channels=1, levels=1, RGB=False, dtype=uint8> <valis.slide_io.VipsSlideReader object at 0x7f606351adb0> False (783, 1024)\n",
      "<Slide, name = 2527>, width=1583, height=1210, channels=1, levels=1, RGB=False, dtype=uint8> <valis.slide_io.VipsSlideReader object at 0x7f606351ae70> False (783, 1024)\n",
      "<Slide, name = 2528>, width=1583, height=1210, channels=1, levels=1, RGB=False, dtype=uint8> <valis.slide_io.VipsSlideReader object at 0x7f606351af30> False (783, 1024)\n",
      "<Slide, name = 2529>, width=1583, height=1210, channels=1, levels=1, RGB=False, dtype=uint8> <valis.slide_io.VipsSlideReader object at 0x7f606351aff0> False (783, 1024)\n"
     ]
    },
    {
     "name": "stderr",
     "output_type": "stream",
     "text": [
      "Converting images:  96%|█████████▋| 2530/2624 [00:57<00:02, 45.16image/s]"
     ]
    },
    {
     "name": "stdout",
     "output_type": "stream",
     "text": [
      "<Slide, name = 2530>, width=1583, height=1210, channels=1, levels=1, RGB=False, dtype=uint8> <valis.slide_io.VipsSlideReader object at 0x7f606351b0b0> False (783, 1024)\n",
      "<Slide, name = 2531>, width=1583, height=1210, channels=1, levels=1, RGB=False, dtype=uint8> <valis.slide_io.VipsSlideReader object at 0x7f606351b170> False (783, 1024)\n",
      "<Slide, name = 2532>, width=1583, height=1210, channels=1, levels=1, RGB=False, dtype=uint8> <valis.slide_io.VipsSlideReader object at 0x7f606351b230> False (783, 1024)\n",
      "<Slide, name = 2533>, width=1583, height=1210, channels=1, levels=1, RGB=False, dtype=uint8> <valis.slide_io.VipsSlideReader object at 0x7f606351b2f0> False (783, 1024)\n",
      "<Slide, name = 2534>, width=1583, height=1210, channels=1, levels=1, RGB=False, dtype=uint8> <valis.slide_io.VipsSlideReader object at 0x7f606351b3b0> False (783, 1024)\n"
     ]
    },
    {
     "name": "stderr",
     "output_type": "stream",
     "text": [
      "Converting images:  97%|█████████▋| 2535/2624 [00:58<00:01, 44.93image/s]"
     ]
    },
    {
     "name": "stdout",
     "output_type": "stream",
     "text": [
      "<Slide, name = 2535>, width=1583, height=1210, channels=1, levels=1, RGB=False, dtype=uint8> <valis.slide_io.VipsSlideReader object at 0x7f606351b470> False (783, 1024)\n",
      "<Slide, name = 2536>, width=1583, height=1210, channels=1, levels=1, RGB=False, dtype=uint8> <valis.slide_io.VipsSlideReader object at 0x7f606351b530> False (783, 1024)\n",
      "<Slide, name = 2537>, width=1583, height=1210, channels=1, levels=1, RGB=False, dtype=uint8> <valis.slide_io.VipsSlideReader object at 0x7f606351b5f0> False (783, 1024)\n",
      "<Slide, name = 2538>, width=1583, height=1210, channels=1, levels=1, RGB=False, dtype=uint8> <valis.slide_io.VipsSlideReader object at 0x7f606351b6b0> False (783, 1024)\n",
      "<Slide, name = 2539>, width=1583, height=1210, channels=1, levels=1, RGB=False, dtype=uint8> <valis.slide_io.VipsSlideReader object at 0x7f606351b770> False (783, 1024)\n"
     ]
    },
    {
     "name": "stderr",
     "output_type": "stream",
     "text": [
      "Converting images:  97%|█████████▋| 2540/2624 [00:58<00:01, 45.16image/s]"
     ]
    },
    {
     "name": "stdout",
     "output_type": "stream",
     "text": [
      "<Slide, name = 2540>, width=1583, height=1210, channels=1, levels=1, RGB=False, dtype=uint8> <valis.slide_io.VipsSlideReader object at 0x7f606351b830> False (783, 1024)\n",
      "<Slide, name = 2541>, width=1583, height=1210, channels=1, levels=1, RGB=False, dtype=uint8> <valis.slide_io.VipsSlideReader object at 0x7f606351b8f0> False (783, 1024)\n",
      "<Slide, name = 2542>, width=1583, height=1210, channels=1, levels=1, RGB=False, dtype=uint8> <valis.slide_io.VipsSlideReader object at 0x7f606351b9b0> False (783, 1024)\n",
      "<Slide, name = 2543>, width=1583, height=1210, channels=1, levels=1, RGB=False, dtype=uint8> <valis.slide_io.VipsSlideReader object at 0x7f606351ba70> False (783, 1024)\n",
      "<Slide, name = 2544>, width=1583, height=1210, channels=1, levels=1, RGB=False, dtype=uint8> <valis.slide_io.VipsSlideReader object at 0x7f606351bb30> False (783, 1024)\n"
     ]
    },
    {
     "name": "stderr",
     "output_type": "stream",
     "text": [
      "Converting images:  97%|█████████▋| 2545/2624 [00:58<00:01, 45.22image/s]"
     ]
    },
    {
     "name": "stdout",
     "output_type": "stream",
     "text": [
      "<Slide, name = 2545>, width=1583, height=1210, channels=1, levels=1, RGB=False, dtype=uint8> <valis.slide_io.VipsSlideReader object at 0x7f606351bbf0> False (783, 1024)\n",
      "<Slide, name = 2546>, width=1583, height=1210, channels=1, levels=1, RGB=False, dtype=uint8> <valis.slide_io.VipsSlideReader object at 0x7f606351bcb0> False (783, 1024)\n",
      "<Slide, name = 2547>, width=1583, height=1210, channels=1, levels=1, RGB=False, dtype=uint8> <valis.slide_io.VipsSlideReader object at 0x7f6063518050> False (783, 1024)\n",
      "<Slide, name = 2548>, width=1583, height=1210, channels=1, levels=1, RGB=False, dtype=uint8> <valis.slide_io.VipsSlideReader object at 0x7f606351bec0> False (783, 1024)\n",
      "<Slide, name = 2549>, width=1583, height=1210, channels=1, levels=1, RGB=False, dtype=uint8> <valis.slide_io.VipsSlideReader object at 0x7f606351bfe0> False (783, 1024)\n"
     ]
    },
    {
     "name": "stderr",
     "output_type": "stream",
     "text": [
      "Converting images:  97%|█████████▋| 2550/2624 [00:58<00:01, 45.18image/s]"
     ]
    },
    {
     "name": "stdout",
     "output_type": "stream",
     "text": [
      "<Slide, name = 2550>, width=1583, height=1210, channels=1, levels=1, RGB=False, dtype=uint8> <valis.slide_io.VipsSlideReader object at 0x7f60635dc290> False (783, 1024)\n",
      "<Slide, name = 2551>, width=1583, height=1210, channels=1, levels=1, RGB=False, dtype=uint8> <valis.slide_io.VipsSlideReader object at 0x7f60635dc350> False (783, 1024)\n",
      "<Slide, name = 2552>, width=1583, height=1210, channels=1, levels=1, RGB=False, dtype=uint8> <valis.slide_io.VipsSlideReader object at 0x7f60635dc0e0> False (783, 1024)\n",
      "<Slide, name = 2553>, width=1583, height=1210, channels=1, levels=1, RGB=False, dtype=uint8> <valis.slide_io.VipsSlideReader object at 0x7f60635dc110> False (783, 1024)\n",
      "<Slide, name = 2554>, width=1583, height=1210, channels=1, levels=1, RGB=False, dtype=uint8> <valis.slide_io.VipsSlideReader object at 0x7f60635dc2f0> False (783, 1024)\n"
     ]
    },
    {
     "name": "stderr",
     "output_type": "stream",
     "text": [
      "Converting images:  97%|█████████▋| 2555/2624 [00:58<00:01, 45.57image/s]"
     ]
    },
    {
     "name": "stdout",
     "output_type": "stream",
     "text": [
      "<Slide, name = 2555>, width=1583, height=1210, channels=1, levels=1, RGB=False, dtype=uint8> <valis.slide_io.VipsSlideReader object at 0x7f60635dc3b0> False (783, 1024)\n",
      "<Slide, name = 2556>, width=1583, height=1210, channels=1, levels=1, RGB=False, dtype=uint8> <valis.slide_io.VipsSlideReader object at 0x7f60635dc470> False (783, 1024)\n",
      "<Slide, name = 2557>, width=1583, height=1210, channels=1, levels=1, RGB=False, dtype=uint8> <valis.slide_io.VipsSlideReader object at 0x7f60635dc530> False (783, 1024)\n",
      "<Slide, name = 2558>, width=1583, height=1210, channels=1, levels=1, RGB=False, dtype=uint8> <valis.slide_io.VipsSlideReader object at 0x7f60635dc5f0> False (783, 1024)\n",
      "<Slide, name = 2559>, width=1583, height=1210, channels=1, levels=1, RGB=False, dtype=uint8> <valis.slide_io.VipsSlideReader object at 0x7f60635dc6b0> False (783, 1024)\n"
     ]
    },
    {
     "name": "stderr",
     "output_type": "stream",
     "text": [
      "Converting images:  98%|█████████▊| 2560/2624 [00:58<00:01, 45.67image/s]"
     ]
    },
    {
     "name": "stdout",
     "output_type": "stream",
     "text": [
      "<Slide, name = 2560>, width=1583, height=1210, channels=1, levels=1, RGB=False, dtype=uint8> <valis.slide_io.VipsSlideReader object at 0x7f60635dc770> False (783, 1024)\n",
      "<Slide, name = 2561>, width=1583, height=1210, channels=1, levels=1, RGB=False, dtype=uint8> <valis.slide_io.VipsSlideReader object at 0x7f60635dc830> False (783, 1024)\n",
      "<Slide, name = 2562>, width=1583, height=1210, channels=1, levels=1, RGB=False, dtype=uint8> <valis.slide_io.VipsSlideReader object at 0x7f60635dc8f0> False (783, 1024)\n",
      "<Slide, name = 2563>, width=1583, height=1210, channels=1, levels=1, RGB=False, dtype=uint8> <valis.slide_io.VipsSlideReader object at 0x7f60635dc9b0> False (783, 1024)\n",
      "<Slide, name = 2564>, width=1583, height=1210, channels=1, levels=1, RGB=False, dtype=uint8> <valis.slide_io.VipsSlideReader object at 0x7f60635dca70> False (783, 1024)\n"
     ]
    },
    {
     "name": "stderr",
     "output_type": "stream",
     "text": [
      "Converting images:  98%|█████████▊| 2565/2624 [00:58<00:01, 45.82image/s]"
     ]
    },
    {
     "name": "stdout",
     "output_type": "stream",
     "text": [
      "<Slide, name = 2565>, width=1583, height=1210, channels=1, levels=1, RGB=False, dtype=uint8> <valis.slide_io.VipsSlideReader object at 0x7f60635dcb30> False (783, 1024)\n",
      "<Slide, name = 2566>, width=1583, height=1210, channels=1, levels=1, RGB=False, dtype=uint8> <valis.slide_io.VipsSlideReader object at 0x7f60635dcbf0> False (783, 1024)\n",
      "<Slide, name = 2567>, width=1583, height=1210, channels=1, levels=1, RGB=False, dtype=uint8> <valis.slide_io.VipsSlideReader object at 0x7f60635dccb0> False (783, 1024)\n",
      "<Slide, name = 2568>, width=1583, height=1210, channels=1, levels=1, RGB=False, dtype=uint8> <valis.slide_io.VipsSlideReader object at 0x7f60635dcd70> False (783, 1024)\n",
      "<Slide, name = 2569>, width=1583, height=1210, channels=1, levels=1, RGB=False, dtype=uint8> <valis.slide_io.VipsSlideReader object at 0x7f60635dce30> False (783, 1024)\n"
     ]
    },
    {
     "name": "stderr",
     "output_type": "stream",
     "text": [
      "Converting images:  98%|█████████▊| 2570/2624 [00:58<00:01, 45.80image/s]"
     ]
    },
    {
     "name": "stdout",
     "output_type": "stream",
     "text": [
      "<Slide, name = 2570>, width=1583, height=1210, channels=1, levels=1, RGB=False, dtype=uint8> <valis.slide_io.VipsSlideReader object at 0x7f60635dcef0> False (783, 1024)\n",
      "<Slide, name = 2571>, width=1583, height=1210, channels=1, levels=1, RGB=False, dtype=uint8> <valis.slide_io.VipsSlideReader object at 0x7f60635dcfb0> False (783, 1024)\n",
      "<Slide, name = 2572>, width=1583, height=1210, channels=1, levels=1, RGB=False, dtype=uint8> <valis.slide_io.VipsSlideReader object at 0x7f60635dd070> False (783, 1024)\n",
      "<Slide, name = 2573>, width=1583, height=1210, channels=1, levels=1, RGB=False, dtype=uint8> <valis.slide_io.VipsSlideReader object at 0x7f60635dd130> False (783, 1024)\n",
      "<Slide, name = 2574>, width=1583, height=1210, channels=1, levels=1, RGB=False, dtype=uint8> <valis.slide_io.VipsSlideReader object at 0x7f60635dd1f0> False (783, 1024)\n"
     ]
    },
    {
     "name": "stderr",
     "output_type": "stream",
     "text": [
      "Converting images:  98%|█████████▊| 2575/2624 [00:58<00:01, 44.84image/s]"
     ]
    },
    {
     "name": "stdout",
     "output_type": "stream",
     "text": [
      "<Slide, name = 2575>, width=1583, height=1210, channels=1, levels=1, RGB=False, dtype=uint8> <valis.slide_io.VipsSlideReader object at 0x7f60635dd2b0> False (783, 1024)\n",
      "<Slide, name = 2576>, width=1583, height=1210, channels=1, levels=1, RGB=False, dtype=uint8> <valis.slide_io.VipsSlideReader object at 0x7f60635dd370> False (783, 1024)\n",
      "<Slide, name = 2577>, width=1583, height=1210, channels=1, levels=1, RGB=False, dtype=uint8> <valis.slide_io.VipsSlideReader object at 0x7f60635dd430> False (783, 1024)\n",
      "<Slide, name = 2578>, width=1583, height=1210, channels=1, levels=1, RGB=False, dtype=uint8> <valis.slide_io.VipsSlideReader object at 0x7f60635dd4f0> False (783, 1024)\n",
      "<Slide, name = 2579>, width=1583, height=1210, channels=1, levels=1, RGB=False, dtype=uint8> <valis.slide_io.VipsSlideReader object at 0x7f60635dd5b0> False (783, 1024)\n"
     ]
    },
    {
     "name": "stderr",
     "output_type": "stream",
     "text": [
      "Converting images:  98%|█████████▊| 2580/2624 [00:59<00:00, 44.87image/s]"
     ]
    },
    {
     "name": "stdout",
     "output_type": "stream",
     "text": [
      "<Slide, name = 2580>, width=1583, height=1210, channels=1, levels=1, RGB=False, dtype=uint8> <valis.slide_io.VipsSlideReader object at 0x7f60635dd670> False (783, 1024)\n",
      "<Slide, name = 2581>, width=1583, height=1210, channels=1, levels=1, RGB=False, dtype=uint8> <valis.slide_io.VipsSlideReader object at 0x7f60635dd730> False (783, 1024)\n",
      "<Slide, name = 2582>, width=1583, height=1210, channels=1, levels=1, RGB=False, dtype=uint8> <valis.slide_io.VipsSlideReader object at 0x7f60635dd7f0> False (783, 1024)\n",
      "<Slide, name = 2583>, width=1583, height=1210, channels=1, levels=1, RGB=False, dtype=uint8> <valis.slide_io.VipsSlideReader object at 0x7f60635dd8b0> False (783, 1024)\n",
      "<Slide, name = 2584>, width=1583, height=1210, channels=1, levels=1, RGB=False, dtype=uint8> <valis.slide_io.VipsSlideReader object at 0x7f60635dd970> False (783, 1024)\n"
     ]
    },
    {
     "name": "stderr",
     "output_type": "stream",
     "text": [
      "Converting images:  99%|█████████▊| 2585/2624 [00:59<00:00, 44.98image/s]"
     ]
    },
    {
     "name": "stdout",
     "output_type": "stream",
     "text": [
      "<Slide, name = 2585>, width=1583, height=1210, channels=1, levels=1, RGB=False, dtype=uint8> <valis.slide_io.VipsSlideReader object at 0x7f60635dda30> False (783, 1024)\n",
      "<Slide, name = 2586>, width=1583, height=1210, channels=1, levels=1, RGB=False, dtype=uint8> <valis.slide_io.VipsSlideReader object at 0x7f60635ddaf0> False (783, 1024)\n",
      "<Slide, name = 2587>, width=1583, height=1210, channels=1, levels=1, RGB=False, dtype=uint8> <valis.slide_io.VipsSlideReader object at 0x7f60635ddbb0> False (783, 1024)\n",
      "<Slide, name = 2588>, width=1583, height=1210, channels=1, levels=1, RGB=False, dtype=uint8> <valis.slide_io.VipsSlideReader object at 0x7f60635ddc70> False (783, 1024)\n",
      "<Slide, name = 2589>, width=1583, height=1210, channels=1, levels=1, RGB=False, dtype=uint8> <valis.slide_io.VipsSlideReader object at 0x7f60635ddd30> False (783, 1024)\n"
     ]
    },
    {
     "name": "stderr",
     "output_type": "stream",
     "text": [
      "Converting images:  99%|█████████▊| 2590/2624 [00:59<00:00, 44.91image/s]"
     ]
    },
    {
     "name": "stdout",
     "output_type": "stream",
     "text": [
      "<Slide, name = 2590>, width=1583, height=1210, channels=1, levels=1, RGB=False, dtype=uint8> <valis.slide_io.VipsSlideReader object at 0x7f60635dddf0> False (783, 1024)\n",
      "<Slide, name = 2591>, width=1583, height=1210, channels=1, levels=1, RGB=False, dtype=uint8> <valis.slide_io.VipsSlideReader object at 0x7f60635ddeb0> False (783, 1024)\n",
      "<Slide, name = 2592>, width=1583, height=1210, channels=1, levels=1, RGB=False, dtype=uint8> <valis.slide_io.VipsSlideReader object at 0x7f60635ddf70> False (783, 1024)\n",
      "<Slide, name = 2593>, width=1583, height=1210, channels=1, levels=1, RGB=False, dtype=uint8> <valis.slide_io.VipsSlideReader object at 0x7f60635de030> False (783, 1024)\n",
      "<Slide, name = 2594>, width=1583, height=1210, channels=1, levels=1, RGB=False, dtype=uint8> <valis.slide_io.VipsSlideReader object at 0x7f60635de0f0> False (783, 1024)\n"
     ]
    },
    {
     "name": "stderr",
     "output_type": "stream",
     "text": [
      "Converting images:  99%|█████████▉| 2595/2624 [00:59<00:00, 44.42image/s]"
     ]
    },
    {
     "name": "stdout",
     "output_type": "stream",
     "text": [
      "<Slide, name = 2595>, width=1583, height=1210, channels=1, levels=1, RGB=False, dtype=uint8> <valis.slide_io.VipsSlideReader object at 0x7f60635de1b0> False (783, 1024)\n",
      "<Slide, name = 2596>, width=1583, height=1210, channels=1, levels=1, RGB=False, dtype=uint8> <valis.slide_io.VipsSlideReader object at 0x7f60635de270> False (783, 1024)\n",
      "<Slide, name = 2597>, width=1583, height=1210, channels=1, levels=1, RGB=False, dtype=uint8> <valis.slide_io.VipsSlideReader object at 0x7f60635de330> False (783, 1024)\n",
      "<Slide, name = 2598>, width=1583, height=1210, channels=1, levels=1, RGB=False, dtype=uint8> <valis.slide_io.VipsSlideReader object at 0x7f60635de3f0> False (783, 1024)\n",
      "<Slide, name = 2599>, width=1583, height=1210, channels=1, levels=1, RGB=False, dtype=uint8> <valis.slide_io.VipsSlideReader object at 0x7f60635de4b0> False (783, 1024)\n"
     ]
    },
    {
     "name": "stderr",
     "output_type": "stream",
     "text": [
      "Converting images:  99%|█████████▉| 2600/2624 [00:59<00:00, 44.32image/s]"
     ]
    },
    {
     "name": "stdout",
     "output_type": "stream",
     "text": [
      "<Slide, name = 2600>, width=1583, height=1210, channels=1, levels=1, RGB=False, dtype=uint8> <valis.slide_io.VipsSlideReader object at 0x7f60635de570> False (783, 1024)\n",
      "<Slide, name = 2601>, width=1583, height=1210, channels=1, levels=1, RGB=False, dtype=uint8> <valis.slide_io.VipsSlideReader object at 0x7f60635de630> False (783, 1024)\n",
      "<Slide, name = 2602>, width=1583, height=1210, channels=1, levels=1, RGB=False, dtype=uint8> <valis.slide_io.VipsSlideReader object at 0x7f60635de6f0> False (783, 1024)\n",
      "<Slide, name = 2603>, width=1583, height=1210, channels=1, levels=1, RGB=False, dtype=uint8> <valis.slide_io.VipsSlideReader object at 0x7f60635de7b0> False (783, 1024)\n",
      "<Slide, name = 2604>, width=1583, height=1210, channels=1, levels=1, RGB=False, dtype=uint8> <valis.slide_io.VipsSlideReader object at 0x7f60635de870> False (783, 1024)\n"
     ]
    },
    {
     "name": "stderr",
     "output_type": "stream",
     "text": [
      "Converting images:  99%|█████████▉| 2605/2624 [00:59<00:00, 44.66image/s]"
     ]
    },
    {
     "name": "stdout",
     "output_type": "stream",
     "text": [
      "<Slide, name = 2605>, width=1583, height=1210, channels=1, levels=1, RGB=False, dtype=uint8> <valis.slide_io.VipsSlideReader object at 0x7f60635de930> False (783, 1024)\n",
      "<Slide, name = 2606>, width=1583, height=1210, channels=1, levels=1, RGB=False, dtype=uint8> <valis.slide_io.VipsSlideReader object at 0x7f60635de9f0> False (783, 1024)\n",
      "<Slide, name = 2607>, width=1583, height=1210, channels=1, levels=1, RGB=False, dtype=uint8> <valis.slide_io.VipsSlideReader object at 0x7f60635deab0> False (783, 1024)\n",
      "<Slide, name = 2608>, width=1583, height=1210, channels=1, levels=1, RGB=False, dtype=uint8> <valis.slide_io.VipsSlideReader object at 0x7f60635ded80> False (783, 1024)\n",
      "<Slide, name = 2609>, width=1583, height=1210, channels=1, levels=1, RGB=False, dtype=uint8> <valis.slide_io.VipsSlideReader object at 0x7f60635dec90> False (783, 1024)\n"
     ]
    },
    {
     "name": "stderr",
     "output_type": "stream",
     "text": [
      "Converting images:  99%|█████████▉| 2610/2624 [00:59<00:00, 44.78image/s]"
     ]
    },
    {
     "name": "stdout",
     "output_type": "stream",
     "text": [
      "<Slide, name = 2610>, width=1583, height=1210, channels=1, levels=1, RGB=False, dtype=uint8> <valis.slide_io.VipsSlideReader object at 0x7f60635dec30> False (783, 1024)\n",
      "<Slide, name = 2611>, width=1583, height=1210, channels=1, levels=1, RGB=False, dtype=uint8> <valis.slide_io.VipsSlideReader object at 0x7f60635deed0> False (783, 1024)\n",
      "<Slide, name = 2612>, width=1583, height=1210, channels=1, levels=1, RGB=False, dtype=uint8> <valis.slide_io.VipsSlideReader object at 0x7f60635deea0> False (783, 1024)\n",
      "<Slide, name = 2613>, width=1583, height=1210, channels=1, levels=1, RGB=False, dtype=uint8> <valis.slide_io.VipsSlideReader object at 0x7f60635def60> False (783, 1024)\n",
      "<Slide, name = 2614>, width=1583, height=1210, channels=1, levels=1, RGB=False, dtype=uint8> <valis.slide_io.VipsSlideReader object at 0x7f60635df020> False (783, 1024)\n"
     ]
    },
    {
     "name": "stderr",
     "output_type": "stream",
     "text": [
      "Converting images: 100%|█████████▉| 2615/2624 [00:59<00:00, 44.80image/s]"
     ]
    },
    {
     "name": "stdout",
     "output_type": "stream",
     "text": [
      "<Slide, name = 2615>, width=1583, height=1210, channels=1, levels=1, RGB=False, dtype=uint8> <valis.slide_io.VipsSlideReader object at 0x7f60635df0e0> False (783, 1024)\n",
      "<Slide, name = 2616>, width=1583, height=1210, channels=1, levels=1, RGB=False, dtype=uint8> <valis.slide_io.VipsSlideReader object at 0x7f60635df1a0> False (783, 1024)\n",
      "<Slide, name = 2617>, width=1583, height=1210, channels=1, levels=1, RGB=False, dtype=uint8> <valis.slide_io.VipsSlideReader object at 0x7f60635df260> False (783, 1024)\n",
      "<Slide, name = 2618>, width=1583, height=1210, channels=1, levels=1, RGB=False, dtype=uint8> <valis.slide_io.VipsSlideReader object at 0x7f60635df320> False (783, 1024)\n",
      "<Slide, name = 2619>, width=1583, height=1210, channels=1, levels=1, RGB=False, dtype=uint8> <valis.slide_io.VipsSlideReader object at 0x7f60635df3e0> False (783, 1024)\n"
     ]
    },
    {
     "name": "stderr",
     "output_type": "stream",
     "text": [
      "Converting images: 100%|█████████▉| 2620/2624 [00:59<00:00, 44.62image/s]"
     ]
    },
    {
     "name": "stdout",
     "output_type": "stream",
     "text": [
      "<Slide, name = 2620>, width=1583, height=1210, channels=1, levels=1, RGB=False, dtype=uint8> <valis.slide_io.VipsSlideReader object at 0x7f60635df4a0> False (783, 1024)\n",
      "<Slide, name = 2621>, width=1583, height=1210, channels=1, levels=1, RGB=False, dtype=uint8> <valis.slide_io.VipsSlideReader object at 0x7f60635df560> False (783, 1024)\n",
      "<Slide, name = 2622>, width=1583, height=1210, channels=1, levels=1, RGB=False, dtype=uint8> <valis.slide_io.VipsSlideReader object at 0x7f60635df620> False (783, 1024)\n"
     ]
    },
    {
     "name": "stderr",
     "output_type": "stream",
     "text": [
      "/usr/local/src/valis/valtils.py:25: UserWarning: 2622 appears to be empty and will be skipped during registration\n",
      "  warnings.warn(warning_msg, warning_type)\n"
     ]
    },
    {
     "name": "stdout",
     "output_type": "stream",
     "text": [
      "<Slide, name = 2623>, width=1583, height=1210, channels=1, levels=1, RGB=False, dtype=uint8> <valis.slide_io.VipsSlideReader object at 0x7f60635df6e0> False (783, 1024)\n"
     ]
    },
    {
     "name": "stderr",
     "output_type": "stream",
     "text": [
      "Converting images: 100%|██████████| 2624/2624 [01:00<00:00, 43.68image/s]\n"
     ]
    },
    {
     "name": "stdout",
     "output_type": "stream",
     "text": [
      "\n",
      "==== Processing images\n",
      "\n"
     ]
    },
    {
     "name": "stderr",
     "output_type": "stream",
     "text": [
      "Processing images :  36%|███▌      | 939/2623 [02:23<04:16,  6.56image/s]\n"
     ]
    },
    {
     "ename": "KeyboardInterrupt",
     "evalue": "",
     "output_type": "error",
     "traceback": [
      "\u001b[0;31m---------------------------------------------------------------------------\u001b[0m",
      "\u001b[0;31mKeyboardInterrupt\u001b[0m                         Traceback (most recent call last)",
      "Cell \u001b[0;32mIn[21], line 1\u001b[0m\n\u001b[0;32m----> 1\u001b[0m \u001b[43mregister_all\u001b[49m\u001b[38;5;241;43m.\u001b[39;49m\u001b[43mregister\u001b[49m\u001b[43m(\u001b[49m\u001b[43m)\u001b[49m\n",
      "File \u001b[0;32m/usr/local/src/valis/registration.py:4605\u001b[0m, in \u001b[0;36mValis.register\u001b[0;34m(self, brightfield_processing_cls, brightfield_processing_kwargs, if_processing_cls, if_processing_kwargs, processor_dict, reader_cls, reader_dict)\u001b[0m\n\u001b[1;32m   4603\u001b[0m \u001b[38;5;28mself\u001b[39m\u001b[38;5;241m.\u001b[39mbrightfield_procsseing_fxn_str \u001b[38;5;241m=\u001b[39m brightfield_processing_cls\u001b[38;5;241m.\u001b[39m\u001b[38;5;18m__name__\u001b[39m\n\u001b[1;32m   4604\u001b[0m \u001b[38;5;28mself\u001b[39m\u001b[38;5;241m.\u001b[39mif_processing_fxn_str \u001b[38;5;241m=\u001b[39m if_processing_cls\u001b[38;5;241m.\u001b[39m\u001b[38;5;18m__name__\u001b[39m\n\u001b[0;32m-> 4605\u001b[0m \u001b[38;5;28;43mself\u001b[39;49m\u001b[38;5;241;43m.\u001b[39;49m\u001b[43mprocess_imgs\u001b[49m\u001b[43m(\u001b[49m\u001b[43mprocessor_dict\u001b[49m\u001b[38;5;241;43m=\u001b[39;49m\u001b[43mslide_processors\u001b[49m\u001b[43m)\u001b[49m\n\u001b[1;32m   4607\u001b[0m \u001b[38;5;66;03m# print(\"\\n==== Rigid registration\\n\")\u001b[39;00m\n\u001b[1;32m   4608\u001b[0m rigid_registrar \u001b[38;5;241m=\u001b[39m \u001b[38;5;28mself\u001b[39m\u001b[38;5;241m.\u001b[39mrigid_register()\n",
      "File \u001b[0;32m/usr/local/src/valis/registration.py:2741\u001b[0m, in \u001b[0;36mValis.process_imgs\u001b[0;34m(self, processor_dict)\u001b[0m\n\u001b[1;32m   2735\u001b[0m processor \u001b[38;5;241m=\u001b[39m processing_cls(image\u001b[38;5;241m=\u001b[39mimg_to_process,\n\u001b[1;32m   2736\u001b[0m                             src_f\u001b[38;5;241m=\u001b[39mslide_obj\u001b[38;5;241m.\u001b[39msrc_f,\n\u001b[1;32m   2737\u001b[0m                             level\u001b[38;5;241m=\u001b[39mprocessing_level,\n\u001b[1;32m   2738\u001b[0m                             series\u001b[38;5;241m=\u001b[39mslide_obj\u001b[38;5;241m.\u001b[39mseries,\n\u001b[1;32m   2739\u001b[0m                             reader\u001b[38;5;241m=\u001b[39mslide_obj\u001b[38;5;241m.\u001b[39mreader)\n\u001b[1;32m   2740\u001b[0m \u001b[38;5;28;01mtry\u001b[39;00m:\n\u001b[0;32m-> 2741\u001b[0m     processed_img \u001b[38;5;241m=\u001b[39m \u001b[43mprocessor\u001b[49m\u001b[38;5;241;43m.\u001b[39;49m\u001b[43mprocess_image\u001b[49m\u001b[43m(\u001b[49m\u001b[38;5;241;43m*\u001b[39;49m\u001b[38;5;241;43m*\u001b[39;49m\u001b[43mprocessing_kwargs\u001b[49m\u001b[43m)\u001b[49m\n\u001b[1;32m   2742\u001b[0m \u001b[38;5;28;01mexcept\u001b[39;00m \u001b[38;5;167;01mTypeError\u001b[39;00m:\n\u001b[1;32m   2743\u001b[0m     \u001b[38;5;66;03m# processor.process_image doesn't take kwargs\u001b[39;00m\n\u001b[1;32m   2744\u001b[0m     processed_img \u001b[38;5;241m=\u001b[39m processor\u001b[38;5;241m.\u001b[39mprocess_image()\n",
      "File \u001b[0;32m/usr/local/src/valis/preprocessing.py:143\u001b[0m, in \u001b[0;36mChannelGetter.process_image\u001b[0;34m(self, channel, adaptive_eq, invert, *args, **kwaargs)\u001b[0m\n\u001b[1;32m    141\u001b[0m \u001b[38;5;28;01mif\u001b[39;00m adaptive_eq:\n\u001b[1;32m    142\u001b[0m     chnl \u001b[38;5;241m=\u001b[39m exposure\u001b[38;5;241m.\u001b[39mrescale_intensity(chnl, in_range\u001b[38;5;241m=\u001b[39m\u001b[38;5;124m\"\u001b[39m\u001b[38;5;124mimage\u001b[39m\u001b[38;5;124m\"\u001b[39m, out_range\u001b[38;5;241m=\u001b[39m(\u001b[38;5;241m0.0\u001b[39m, \u001b[38;5;241m1.0\u001b[39m))\n\u001b[0;32m--> 143\u001b[0m     chnl \u001b[38;5;241m=\u001b[39m \u001b[43mexposure\u001b[49m\u001b[38;5;241;43m.\u001b[39;49m\u001b[43mequalize_adapthist\u001b[49m\u001b[43m(\u001b[49m\u001b[43mchnl\u001b[49m\u001b[43m)\u001b[49m\n\u001b[1;32m    145\u001b[0m chnl \u001b[38;5;241m=\u001b[39m exposure\u001b[38;5;241m.\u001b[39mrescale_intensity(chnl, in_range\u001b[38;5;241m=\u001b[39m\u001b[38;5;124m\"\u001b[39m\u001b[38;5;124mimage\u001b[39m\u001b[38;5;124m\"\u001b[39m, out_range\u001b[38;5;241m=\u001b[39m(\u001b[38;5;241m0\u001b[39m, \u001b[38;5;241m255\u001b[39m))\u001b[38;5;241m.\u001b[39mastype(np\u001b[38;5;241m.\u001b[39muint8)\n\u001b[1;32m    146\u001b[0m \u001b[38;5;28;01mif\u001b[39;00m invert:\n",
      "File \u001b[0;32m/usr/local/src/.venv/lib/python3.12/site-packages/skimage/color/adapt_rgb.py:41\u001b[0m, in \u001b[0;36madapt_rgb.<locals>.decorator.<locals>.image_filter_adapted\u001b[0;34m(image, *args, **kwargs)\u001b[0m\n\u001b[1;32m     39\u001b[0m     \u001b[38;5;28;01mreturn\u001b[39;00m apply_to_rgb(image_filter, image, \u001b[38;5;241m*\u001b[39margs, \u001b[38;5;241m*\u001b[39m\u001b[38;5;241m*\u001b[39mkwargs)\n\u001b[1;32m     40\u001b[0m \u001b[38;5;28;01melse\u001b[39;00m:\n\u001b[0;32m---> 41\u001b[0m     \u001b[38;5;28;01mreturn\u001b[39;00m \u001b[43mimage_filter\u001b[49m\u001b[43m(\u001b[49m\u001b[43mimage\u001b[49m\u001b[43m,\u001b[49m\u001b[43m \u001b[49m\u001b[38;5;241;43m*\u001b[39;49m\u001b[43margs\u001b[49m\u001b[43m,\u001b[49m\u001b[43m \u001b[49m\u001b[38;5;241;43m*\u001b[39;49m\u001b[38;5;241;43m*\u001b[39;49m\u001b[43mkwargs\u001b[49m\u001b[43m)\u001b[49m\n",
      "File \u001b[0;32m/usr/local/src/.venv/lib/python3.12/site-packages/skimage/exposure/_adapthist.py:89\u001b[0m, in \u001b[0;36mequalize_adapthist\u001b[0;34m(image, kernel_size, clip_limit, nbins)\u001b[0m\n\u001b[1;32m     85\u001b[0m     \u001b[38;5;28;01mraise\u001b[39;00m \u001b[38;5;167;01mValueError\u001b[39;00m(\u001b[38;5;124mf\u001b[39m\u001b[38;5;124m'\u001b[39m\u001b[38;5;124mIncorrect value of `kernel_size`: \u001b[39m\u001b[38;5;132;01m{\u001b[39;00mkernel_size\u001b[38;5;132;01m}\u001b[39;00m\u001b[38;5;124m'\u001b[39m)\n\u001b[1;32m     87\u001b[0m kernel_size \u001b[38;5;241m=\u001b[39m [\u001b[38;5;28mint\u001b[39m(k) \u001b[38;5;28;01mfor\u001b[39;00m k \u001b[38;5;129;01min\u001b[39;00m kernel_size]\n\u001b[0;32m---> 89\u001b[0m image \u001b[38;5;241m=\u001b[39m \u001b[43m_clahe\u001b[49m\u001b[43m(\u001b[49m\u001b[43mimage\u001b[49m\u001b[43m,\u001b[49m\u001b[43m \u001b[49m\u001b[43mkernel_size\u001b[49m\u001b[43m,\u001b[49m\u001b[43m \u001b[49m\u001b[43mclip_limit\u001b[49m\u001b[43m,\u001b[49m\u001b[43m \u001b[49m\u001b[43mnbins\u001b[49m\u001b[43m)\u001b[49m\n\u001b[1;32m     90\u001b[0m image \u001b[38;5;241m=\u001b[39m image\u001b[38;5;241m.\u001b[39mastype(float_dtype, copy\u001b[38;5;241m=\u001b[39m\u001b[38;5;28;01mFalse\u001b[39;00m)\n\u001b[1;32m     91\u001b[0m \u001b[38;5;28;01mreturn\u001b[39;00m rescale_intensity(image)\n",
      "File \u001b[0;32m/usr/local/src/.venv/lib/python3.12/site-packages/skimage/exposure/_adapthist.py:205\u001b[0m, in \u001b[0;36m_clahe\u001b[0;34m(image, kernel_size, clip_limit, nbins)\u001b[0m\n\u001b[1;32m    202\u001b[0m edge_maps \u001b[38;5;241m=\u001b[39m edge_maps\u001b[38;5;241m.\u001b[39mreshape((math\u001b[38;5;241m.\u001b[39mprod(ns_proc), \u001b[38;5;241m-\u001b[39m\u001b[38;5;241m1\u001b[39m))\n\u001b[1;32m    204\u001b[0m \u001b[38;5;66;03m# apply map\u001b[39;00m\n\u001b[0;32m--> 205\u001b[0m edge_mapped \u001b[38;5;241m=\u001b[39m \u001b[43mnp\u001b[49m\u001b[38;5;241;43m.\u001b[39;49m\u001b[43mtake_along_axis\u001b[49m\u001b[43m(\u001b[49m\u001b[43medge_maps\u001b[49m\u001b[43m,\u001b[49m\u001b[43m \u001b[49m\u001b[43mblocks\u001b[49m\u001b[43m,\u001b[49m\u001b[43m \u001b[49m\u001b[43maxis\u001b[49m\u001b[38;5;241;43m=\u001b[39;49m\u001b[38;5;241;43m-\u001b[39;49m\u001b[38;5;241;43m1\u001b[39;49m\u001b[43m)\u001b[49m\n\u001b[1;32m    207\u001b[0m \u001b[38;5;66;03m# interpolate\u001b[39;00m\n\u001b[1;32m    208\u001b[0m edge_coeffs \u001b[38;5;241m=\u001b[39m np\u001b[38;5;241m.\u001b[39mprod(\n\u001b[1;32m    209\u001b[0m     [[inv_coeffs, coeffs][e][d] \u001b[38;5;28;01mfor\u001b[39;00m d, e \u001b[38;5;129;01min\u001b[39;00m \u001b[38;5;28menumerate\u001b[39m(edge[::\u001b[38;5;241m-\u001b[39m\u001b[38;5;241m1\u001b[39m])], \u001b[38;5;241m0\u001b[39m\n\u001b[1;32m    210\u001b[0m )\n",
      "\u001b[0;31mKeyboardInterrupt\u001b[0m: "
     ]
    }
   ],
   "source": [
    "register_all.register()"
   ]
  }
 ],
 "metadata": {
  "kernelspec": {
   "display_name": ".venv",
   "language": "python",
   "name": "python3"
  },
  "language_info": {
   "codemirror_mode": {
    "name": "ipython",
    "version": 3
   },
   "file_extension": ".py",
   "mimetype": "text/x-python",
   "name": "python",
   "nbconvert_exporter": "python",
   "pygments_lexer": "ipython3",
   "version": "3.12.3"
  }
 },
 "nbformat": 4,
 "nbformat_minor": 2
}
