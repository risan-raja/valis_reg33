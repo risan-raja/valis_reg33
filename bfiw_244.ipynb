{
 "cells": [
  {
   "cell_type": "code",
   "execution_count": 1,
   "metadata": {},
   "outputs": [],
   "source": [
    "from bfiw_reg.registrar import BFIWReg\n",
    "import cv2\n",
    "import numpy as np\n",
    "import os\n",
    "import imageio\n",
    "from tqdm import tqdm, trange\n",
    "import matplotlib.pyplot as plt\n",
    "import re"
   ]
  },
  {
   "cell_type": "code",
   "execution_count": 2,
   "metadata": {},
   "outputs": [],
   "source": [
    "import re\n",
    "\n",
    "bfi_regex = re.compile(r'B_244-ST_BFI-SE_(\\d+).jpg')\n",
    "bfiw_regex = re.compile(r'B_244-ST_BFIW-SE_(\\d+).jpg')"
   ]
  },
  {
   "cell_type": "code",
   "execution_count": 3,
   "metadata": {},
   "outputs": [
    {
     "name": "stderr",
     "output_type": "stream",
     "text": [
      "100%|██████████| 2495/2495 [02:52<00:00, 14.46it/s]\n",
      "100%|██████████| 2496/2496 [02:42<00:00, 15.33it/s]\n"
     ]
    }
   ],
   "source": [
    "bfi_path = '244_BFIW/BFI'\n",
    "bfiw_path = '244_BFIW/BFIW'\n",
    "\n",
    "bfi = {bfi_regex.match(f).group(1).zfill(4): imageio.imread_v2(os.path.join(bfi_path, f)) for f in tqdm(os.listdir(bfi_path)) if f.endswith('.jpg')}\n",
    "bfiw = {bfiw_regex.match(f).group(1).zfill(4): imageio.imread_v2(os.path.join(bfiw_path, f)) for f in tqdm(os.listdir(bfiw_path)) if f.endswith('.jpg')} "
   ]
  },
  {
   "cell_type": "code",
   "execution_count": null,
   "metadata": {},
   "outputs": [],
   "source": [
    "(np.median(sample_bfi_gray)/np.median(sample_bfiw_gray))"
   ]
  },
  {
   "cell_type": "code",
   "execution_count": null,
   "metadata": {},
   "outputs": [],
   "source": [
    "sample_bfi = bfi['1202']\n",
    "sample_bfiw = bfiw['1202']\n",
    "\n",
    "sample_bfi_gray = cv2.cvtColor(sample_bfi, cv2.COLOR_RGB2GRAY)\n",
    "sample_bfiw_gray = cv2.cvtColor(sample_bfiw, cv2.COLOR_RGB2GRAY)\n",
    "\n",
    "plt.imshow(sample_bfiw_gray - sample_bfi_gray, cmap='gray')\n",
    "plt.axis('off')\n"
   ]
  },
  {
   "cell_type": "code",
   "execution_count": 9,
   "metadata": {},
   "outputs": [],
   "source": [
    "reg = BFIWReg(src_dir='244_BFIW/BFIW', dest_dir='244_BFIW_reg/BFIW',ref_idx='1608', regex= re.compile(r'B_244-ST_BFIW-SE_(\\d+).jpg'))"
   ]
  },
  {
   "cell_type": "code",
   "execution_count": null,
   "metadata": {},
   "outputs": [],
   "source": [
    "reg.register()"
   ]
  },
  {
   "cell_type": "code",
   "execution_count": null,
   "metadata": {},
   "outputs": [],
   "source": [
    "reg.save_output()"
   ]
  },
  {
   "cell_type": "code",
   "execution_count": 215,
   "metadata": {},
   "outputs": [],
   "source": [
    "retinex_imgs = [slide.msr_img for slide in reg.slides.values()]"
   ]
  },
  {
   "cell_type": "code",
   "execution_count": 216,
   "metadata": {},
   "outputs": [],
   "source": [
    "ret_imgs = retinex_imgs[::130]"
   ]
  },
  {
   "cell_type": "code",
   "execution_count": null,
   "metadata": {},
   "outputs": [],
   "source": [
    "# fig, ax = plt.subplots(len(ret_imgs), 3, figsize=(30, 30))\n",
    "\n",
    "# for i, img in enumerate(ret_imgs):\n",
    "#     for j in range(3):\n",
    "#         img_ = img[:,:,j]\n",
    "#         ax[i][j].imshow(img_, cmap='gray')\n",
    "#         ax[i][j].axis('off')\n",
    "#         ax[i][j].set_title(f'Image {i}:Channel {j}')\n",
    "# plt.show()\n",
    "fig, ax = plt.subplots(len(ret_imgs), 1, figsize=(30, 30))\n",
    "for i, img in enumerate(ret_imgs):\n",
    "    img__ = np.abs(np.mean(img[:,:,:], axis=2)-img[:,:,1])\n",
    "    img__[img__>2]=255\n",
    "    ax[i].imshow(img__, cmap='gray')\n",
    "    ax[i].axis('off')\n",
    "    ax[i].set_title(f'Image {i}:Channel 2-1')\n",
    "    # ret_imgs[i] = 255-np.abs(np.mean(img[:,:,1:], axis=2)-img[:,:,0])\n",
    "\n",
    "\n"
   ]
  },
  {
   "cell_type": "code",
   "execution_count": 78,
   "metadata": {},
   "outputs": [],
   "source": [
    "# Sort BFI\n",
    "\n",
    "bfi = dict(sorted(bfi.items(), key=lambda x: x[0]))\n",
    "bfiw = dict(sorted(bfiw.items(), key=lambda x: x[0]))\n"
   ]
  },
  {
   "cell_type": "code",
   "execution_count": null,
   "metadata": {},
   "outputs": [],
   "source": [
    "plt.imshow(bfiw['1202'])"
   ]
  },
  {
   "cell_type": "code",
   "execution_count": null,
   "metadata": {},
   "outputs": [],
   "source": [
    "# sigmoid\n"
   ]
  },
  {
   "cell_type": "code",
   "execution_count": 88,
   "metadata": {},
   "outputs": [],
   "source": [
    "eps = np.finfo(np.float32).eps"
   ]
  },
  {
   "cell_type": "code",
   "execution_count": null,
   "metadata": {},
   "outputs": [],
   "source": [
    "img_bfiw = bfiw['1202'].copy()\n",
    "img_bfi = bfi['1202'].copy()\n",
    "darkfield = bfi['2677'].copy()\n",
    "brightfield = bfiw['2677'].copy()\n",
    "# img_bfiw = cv2.cvtColor(img_bfiw, cv2.COLOR_RGB2LAB)\n",
    "# img_bfi = cv2.cvtColor(img_bfi, cv2.COLOR_RGB2LAB)\n",
    "\n",
    "Corrected_Image = ((img_bfiw - darkfield) / (brightfield - darkfield + eps)) * 255\n",
    "Corrected_Image = (Corrected_Image - np.min(Corrected_Image))/ (np.max(Corrected_Image) - np.min(Corrected_Image))\n",
    "\n",
    "\n",
    "channel_id = 2\n",
    "# img_bfiw_channel = np.std(img_bfiw[:,:,:].copy(), axis=-1)\n",
    "# img_bfiw_channel = np.std(img_bfiw[:,:,channel_id].copy(), axis=-1)\n",
    "img_bfiw_channel = img_bfiw[:,:,channel_id].copy()\n",
    "img_bfi_channel =  img_bfi[:,:,channel_id].copy()\n",
    "# img_bfi_channel = np.std(img_bfi[:,:,channel_id].copy(), axis=-1)\n",
    "# img_bfi_channel = np.std(img_bfi[:,:,:].copy(), axis=-1)\n",
    "\n",
    "img_bfiw_channel = -np.log10((img_bfiw_channel+eps)/np.max(img_bfiw_channel))\n",
    "img_bfi_channel = -np.log10((img_bfi_channel+eps)/np.max(img_bfi_channel))\n",
    "\n",
    "img_bfiw_channel[img_bfiw_channel<0] = 0\n",
    "img_bfi_channel[img_bfi_channel<0] = 0\n",
    "\n",
    "img_bfi_channel = (img_bfi_channel - np.min(img_bfi_channel))/ (np.max(img_bfi_channel) - np.min(img_bfi_channel))\n",
    "img_bfiw_channel = (img_bfiw_channel - np.min(img_bfiw_channel))/ (np.max(img_bfiw_channel) - np.min(img_bfiw_channel))\n",
    "fig, ax = plt.subplots(1, 4, figsize=(40, 40))\n",
    "ax[0].imshow(img_bfiw_channel, cmap='gray')\n",
    "ax[0].axis('off')\n",
    "ax[0].set_title(f'BFIW {np.min(img_bfiw_channel)} { np.max(img_bfiw_channel)}')\n",
    "ax[1].imshow(img_bfi_channel, cmap='gray')\n",
    "ax[1].axis('off')\n",
    "ax[1].set_title(f'BFI {np.min(img_bfi_channel)} { np.max(img_bfi_channel)}')\n",
    "ax[2].imshow(img_bfi_channel/img_bfiw_channel, cmap='gray')\n",
    "ax[2].axis('off')\n",
    "ax[2].set_title(f'BFI* BFIW {np.min(img_bfi_channel)} { np.max(img_bfi_channel)}')\n",
    "ax[3].imshow(img_bfiw - darkfield, cmap='gray')\n",
    "ax[3].axis('off')\n",
    "ax[3].set_title(f'Corrected Image {np.min(Corrected_Image)} { np.max(Corrected_Image)}')\n",
    "plt.show()\n",
    "\n"
   ]
  },
  {
   "cell_type": "code",
   "execution_count": null,
   "metadata": {},
   "outputs": [],
   "source": [
    "# plt.imshow( np.max(3*img_bfiw - 2*img_bfi, axis=-1))\n",
    "\n",
    "def convert_RGB_to_OD(I):\n",
    "    \"\"\"\n",
    "    Convert from RGB to optical density (OD_RGB) space.\n",
    "\n",
    "    RGB = 255 * exp(-1*OD_RGB).\n",
    "\n",
    "    :param I: Image RGB uint8.\n",
    "    :return: Optical denisty RGB image.\n",
    "    \"\"\"\n",
    "    mask = (I == 0)\n",
    "    I[mask] = 1\n",
    "    return np.maximum(-1 * np.log(I / 255), 1e-6)\n",
    "\n",
    "\n",
    "img_bfiw_gray = cv2.cvtColor(img_bfiw, cv2.COLOR_RGB2GRAY)\n",
    "img_bfiw_gray = img_bfiw[:,:,0]\n",
    "img_bfi_gray = cv2.cvtColor(img_bfi, cv2.COLOR_RGB2GRAY)\n",
    "\n",
    "def background_removal_dog(brightfield_img, kernel1=15, kernel2=25):\n",
    "    \"\"\"Remove background using the Difference of Gaussian (DoG) method.\"\"\"\n",
    "    # Apply Gaussian blur with two different kernel sizes\n",
    "    blurred1 = cv2.GaussianBlur(brightfield_img, (kernel1, kernel1), 0)\n",
    "    blurred2 = cv2.GaussianBlur(brightfield_img, (kernel2, kernel2), 0)\n",
    "    \n",
    "    # Subtract the two blurred images (Difference of Gaussians)\n",
    "    dog_result = blurred1 - blurred2\n",
    "    \n",
    "    # Threshold to isolate the foreground\n",
    "    _, binarized_foreground = cv2.threshold(dog_result, 0, 255, cv2.THRESH_BINARY + cv2.THRESH_TRIANGLE)\n",
    "    \n",
    "    return binarized_foreground\n",
    "\n",
    "bg = background_removal_dog(img_bfiw_gray, kernel1=23, kernel2=45)\n",
    "\n",
    "plt.imshow(convert_RGB_to_OD(img_bfiw_gray), cmap='gray')\n",
    "# np.percentile(255 - np.mean(img_bfiw - brightfield, axis=-1), np.linspace(0,100,11))"
   ]
  },
  {
   "cell_type": "code",
   "execution_count": 5,
   "metadata": {},
   "outputs": [
    {
     "ename": "NameError",
     "evalue": "name 'bfiw' is not defined",
     "output_type": "error",
     "traceback": [
      "\u001b[0;31m---------------------------------------------------------------------------\u001b[0m",
      "\u001b[0;31mNameError\u001b[0m                                 Traceback (most recent call last)",
      "Cell \u001b[0;32mIn[5], line 3\u001b[0m\n\u001b[1;32m      1\u001b[0m \u001b[38;5;28;01mfrom\u001b[39;00m \u001b[38;5;21;01mbfiw_reg\u001b[39;00m\u001b[38;5;21;01m.\u001b[39;00m\u001b[38;5;21;01mretinex\u001b[39;00m \u001b[38;5;28;01mimport\u001b[39;00m msrcr\n\u001b[0;32m----> 3\u001b[0m img_bfiw \u001b[38;5;241m=\u001b[39m \u001b[43mbfiw\u001b[49m[\u001b[38;5;124m'\u001b[39m\u001b[38;5;124m1202\u001b[39m\u001b[38;5;124m'\u001b[39m]\u001b[38;5;241m.\u001b[39mcopy()\n\u001b[1;32m      4\u001b[0m img_bfi \u001b[38;5;241m=\u001b[39m bfi[\u001b[38;5;124m'\u001b[39m\u001b[38;5;124m1202\u001b[39m\u001b[38;5;124m'\u001b[39m]\u001b[38;5;241m.\u001b[39mcopy()\n\u001b[1;32m      6\u001b[0m img_bfi_retinex \u001b[38;5;241m=\u001b[39m msrcr(img_bfi)\n",
      "\u001b[0;31mNameError\u001b[0m: name 'bfiw' is not defined"
     ]
    }
   ],
   "source": [
    "from bfiw_reg.retinex import msrcr\n",
    "\n",
    "img_bfiw = bfiw['1202'].copy()\n",
    "img_bfi = bfi['1202'].copy()\n",
    "\n",
    "img_bfi_retinex = msrcr(img_bfi)\n",
    "img_bfiw_retinex = msrcr(img_bfiw)\n",
    "\n",
    "plt.imshow(img_bfi_retinex, alpha=0.3)\n",
    "plt.imshow(img_bfiw_retinex)"
   ]
  },
  {
   "cell_type": "code",
   "execution_count": 4,
   "metadata": {},
   "outputs": [
    {
     "ename": "NameError",
     "evalue": "name 'img_bfiw_retinex' is not defined",
     "output_type": "error",
     "traceback": [
      "\u001b[0;31m---------------------------------------------------------------------------\u001b[0m",
      "\u001b[0;31mNameError\u001b[0m                                 Traceback (most recent call last)",
      "Cell \u001b[0;32mIn[4], line 6\u001b[0m\n\u001b[1;32m      3\u001b[0m \u001b[38;5;28;01mimport\u001b[39;00m \u001b[38;5;21;01mskimage\u001b[39;00m\u001b[38;5;21;01m.\u001b[39;00m\u001b[38;5;21;01mutil\u001b[39;00m\n\u001b[1;32m      5\u001b[0m \u001b[38;5;66;03m# hess_img = skimage.filters.hessian(img_bfiw_retinex)\u001b[39;00m\n\u001b[0;32m----> 6\u001b[0m roll_ball_img \u001b[38;5;241m=\u001b[39m skimage\u001b[38;5;241m.\u001b[39mrestoration\u001b[38;5;241m.\u001b[39mrolling_ball(skimage\u001b[38;5;241m.\u001b[39mutil\u001b[38;5;241m.\u001b[39minvert(np\u001b[38;5;241m.\u001b[39mmean(\u001b[43mimg_bfiw_retinex\u001b[49m,axis\u001b[38;5;241m=\u001b[39m\u001b[38;5;241m-\u001b[39m\u001b[38;5;241m1\u001b[39m)), radius\u001b[38;5;241m=\u001b[39m\u001b[38;5;241m10\u001b[39m)\n",
      "\u001b[0;31mNameError\u001b[0m: name 'img_bfiw_retinex' is not defined"
     ]
    }
   ],
   "source": [
    "import skimage.filters\n",
    "import skimage.restoration\n",
    "import skimage.util\n",
    "\n",
    "# hess_img = skimage.filters.hessian(img_bfiw_retinex)\n",
    "roll_ball_img = skimage.restoration.rolling_ball(skimage.util.invert(np.mean(img_bfiw_retinex,axis=-1)), radius=10)"
   ]
  },
  {
   "cell_type": "code",
   "execution_count": null,
   "metadata": {},
   "outputs": [],
   "source": [
    "plt.imshow(roll_ball_img)"
   ]
  },
  {
   "cell_type": "code",
   "execution_count": null,
   "metadata": {},
   "outputs": [],
   "source": []
  }
 ],
 "metadata": {
  "kernelspec": {
   "display_name": "Python 3",
   "language": "python",
   "name": "python3"
  },
  "language_info": {
   "codemirror_mode": {
    "name": "ipython",
    "version": 3
   },
   "file_extension": ".py",
   "mimetype": "text/x-python",
   "name": "python",
   "nbconvert_exporter": "python",
   "pygments_lexer": "ipython3",
   "version": "3.10.12"
  }
 },
 "nbformat": 4,
 "nbformat_minor": 2
}
